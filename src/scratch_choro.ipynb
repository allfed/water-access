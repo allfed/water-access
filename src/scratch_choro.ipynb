
    # https://plotly.com/python/choropleth-maps/
    fig1 = px.choropleth(
        data_frame=dff,
        locations=dff.index,
        height=600,
        color=column_name,
        hover_name="Entity",
        hover_data=[
            "PBO",
            "Terrain Ruggedness",
            "Urban %",
            "Urban Agg %",
            "RoadQuality",
        ],
    )
