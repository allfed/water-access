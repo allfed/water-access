{
 "cells": [
  {
   "cell_type": "markdown",
   "metadata": {},
   "source": [
    "Welcome to the mobility notebook. This notebook does an in-depth analysis of the mobility of HPVs for carrying water. It uses the mobility_module.py package, this is where all of the models are stored.\n",
    "\n"
   ]
  },
  {
   "cell_type": "code",
   "execution_count": 11,
   "metadata": {},
   "outputs": [],
   "source": [
    "import pandas as pd\n",
    "import mobility_module as mm\n",
    "import plotly.express as px"
   ]
  },
  {
   "cell_type": "code",
   "execution_count": 12,
   "metadata": {},
   "outputs": [],
   "source": [
    "######################\n",
    "#### Import Data #####\n",
    "with open(\"../data/mobility-model-parameters.csv\") as csv_file:\n",
    "    # read the csv file\n",
    "    allHPV_param_df = pd.read_csv(\"../data/mobility-model-parameters.csv\")\n",
    "\n",
    "mo = mm.model_options()"
   ]
  },
  {
   "cell_type": "markdown",
   "metadata": {},
   "source": [
    "Below, choose which model to use, 1 = Sprott, 2 = Cycling, 3 = walking "
   ]
  },
  {
   "cell_type": "code",
   "execution_count": 13,
   "metadata": {},
   "outputs": [],
   "source": [
    "mo.model_selection = 1"
   ]
  },
  {
   "cell_type": "markdown",
   "metadata": {},
   "source": [
    "Below, sets up which HPVs to include given the input model"
   ]
  },
  {
   "cell_type": "code",
   "execution_count": 14,
   "metadata": {},
   "outputs": [],
   "source": [
    "\n",
    "####################\n",
    "##### Options ######\n",
    "####################\n",
    "\n",
    "if mo.model_selection == 1:\n",
    "    # sprott, include all\n",
    "    filter_col = -1\n",
    "    filter_value = 1\n",
    "\n",
    "elif mo.model_selection == 2:\n",
    "    # cycling:\n",
    "    filter_col = 5\n",
    "    filter_value = 1\n",
    "\n",
    "if mo.model_selection > 2:\n",
    "    # walking only\n",
    "    filter_col = 6\n",
    "    filter_value = 0\n",
    "\n"
   ]
  },
  {
   "cell_type": "code",
   "execution_count": 15,
   "metadata": {},
   "outputs": [],
   "source": [
    "\n",
    "# selectHPVs you're interested in\n",
    "if filter_col > 0:\n",
    "    column_names = [\n",
    "        \"Name\",\n",
    "        \"LoadLimit\",\n",
    "        \"AverageSpeedWithoutLoad\",\n",
    "        \"Drive\",\n",
    "        \"GroundContact\",\n",
    "        \"Pilot\",\n",
    "        \"Crr\",\n",
    "        \"Efficiency\",\n",
    "        \"Weight\",\n",
    "    ]  # copied from\n",
    "    col = column_names[filter_col]\n",
    "    param_df = allHPV_param_df.loc[(allHPV_param_df[col] == filter_value)]\n",
    "else:\n",
    "    param_df = allHPV_param_df\n"
   ]
  },
  {
   "cell_type": "code",
   "execution_count": 16,
   "metadata": {},
   "outputs": [],
   "source": [
    "\n",
    "# initialise variables, options, MET, hpv and results classes, populated with data via 'init' functions\n",
    "mv = mm.model_variables()\n",
    "met = mm.MET_values(mv)\n",
    "hpv = mm.HPV_variables(param_df, mv)\n",
    "mr = mm.model_results(hpv, mo)\n"
   ]
  },
  {
   "cell_type": "code",
   "execution_count": 17,
   "metadata": {
    "tags": []
   },
   "outputs": [],
   "source": [
    "####### SPROTT MODEL ########\n",
    "if mo.model_selection == 1:\n",
    "    mr.v_load_matrix3d, mr.load_matrix3d = mm.mobility_models.sprott_model(\n",
    "        hpv, mv, mo, mr\n",
    "    )\n",
    "\n",
    "####### Numerical MODEL ########\n",
    "elif mo.model_selection > 1:\n",
    "    mr.v_load_matrix3d, mr.load_matrix3d = mm.mobility_models.numerical_mobility_model(\n",
    "        mr, mv, mo, met, hpv\n",
    "    )\n",
    "\n",
    "\n"
   ]
  },
  {
   "cell_type": "code",
   "execution_count": 18,
   "metadata": {},
   "outputs": [],
   "source": [
    "\n",
    "####### Organise Results #######\n",
    "mo.slope_scene = 0\n",
    "mr.load_results(hpv, mv, mo)\n"
   ]
  },
  {
   "cell_type": "code",
   "execution_count": 19,
   "metadata": {},
   "outputs": [
    {
     "data": {
      "application/vnd.plotly.v1+json": {
       "config": {
        "plotlyServerURL": "https://plotly.com"
       },
       "data": [
        {
         "mode": "lines",
         "name": "Baby Carriage",
         "type": "scatter",
         "x": [
          0,
          1.4285714285714286,
          2.857142857142857,
          4.285714285714286,
          5.714285714285714,
          7.142857142857143,
          8.571428571428571,
          10,
          11.428571428571429,
          12.857142857142858,
          14.285714285714286,
          15.714285714285715,
          17.142857142857142,
          18.571428571428573,
          20
         ],
         "y": [
          1.091230801216588,
          1.090336033361423,
          1.0894420039926276,
          1.08854871309753,
          1.0876561606619697,
          1.086764346670295,
          1.0858732711053636,
          1.0849829339485444,
          1.084093335179716,
          1.0832044747772682,
          1.082316352718101,
          1.0814289689776255,
          1.0805423235297649,
          1.0796564163469524,
          1.0787712474001343
         ]
        },
        {
         "mode": "lines",
         "name": "Backpack",
         "type": "scatter",
         "x": [
          0,
          2.142857142857143,
          4.285714285714286,
          6.428571428571429,
          8.571428571428571,
          10.714285714285714,
          12.857142857142858,
          15,
          17.142857142857142,
          19.285714285714285,
          21.428571428571427,
          23.57142857142857,
          25.714285714285715,
          27.857142857142858,
          30
         ],
         "y": [
          1.0931159797382648,
          1.0748453451719688,
          1.0574612555394713,
          1.0408942583229042,
          1.0250822871807472,
          1.0099696817542028,
          0.9955063619089473,
          0.9816471284559248,
          0.9683510680761255,
          0.9555810445815361,
          0.9433032620888413,
          0.9314868883931446,
          0.9201037289764227,
          0.9091279437972883,
          0.8985358003813708
         ]
        },
        {
         "mode": "lines",
         "name": "Bicycle",
         "type": "scatter",
         "x": [
          0,
          4.857142857142857,
          9.714285714285714,
          14.57142857142857,
          19.428571428571427,
          24.285714285714285,
          29.14285714285714,
          34,
          38.857142857142854,
          43.71428571428571,
          48.57142857142857,
          53.42857142857142,
          58.28571428571428,
          63.14285714285714,
          68
         ],
         "y": [
          1.849899549357835,
          1.8465527162647755,
          1.8432121136794073,
          1.839877740588804,
          1.8365495959190599,
          1.8332276785353419,
          1.829911987241943,
          1.8266025207823444,
          1.8232992778392756,
          1.8200022570347776,
          1.8167114569302723,
          1.8134268760266314,
          1.8101485127642516,
          1.8068763655231281,
          1.8036104326229372
         ]
        },
        {
         "mode": "lines",
         "name": "Buckets",
         "type": "scatter",
         "x": [
          0,
          1.4285714285714286,
          2.857142857142857,
          4.285714285714286,
          5.714285714285714,
          7.142857142857143,
          8.571428571428571,
          10,
          11.428571428571429,
          12.857142857142858,
          14.285714285714286,
          15.714285714285715,
          17.142857142857142,
          18.571428571428573,
          20
         ],
         "y": [
          1.0931159797382648,
          1.0808333878569945,
          1.0689557373070169,
          1.0574612555394713,
          1.046329774437086,
          1.035542581434166,
          1.0250822871807472,
          1.0149327076211823,
          1.0050787586676388,
          0.9955063619089473,
          0.9862023600138967,
          0.9771544406726391,
          0.9683510680761255,
          0.959781421066282,
          0.9514353372027661
         ]
        },
        {
         "mode": "lines",
         "name": "Cycle Rickshaw",
         "type": "scatter",
         "x": [
          0,
          13.428571428571429,
          26.857142857142858,
          40.285714285714285,
          53.714285714285715,
          67.14285714285714,
          80.57142857142857,
          94,
          107.42857142857143,
          120.85714285714286,
          134.28571428571428,
          147.71428571428572,
          161.14285714285714,
          174.57142857142858,
          188
         ],
         "y": [
          1.7280948395995652,
          1.7052863412462542,
          1.6828109770222068,
          1.6606672291820337,
          1.638853418049001,
          1.617367706263567,
          1.5962081033751139,
          1.5753724707509142,
          1.5548585267750545,
          1.5346638523090885,
          1.514785896385408,
          1.4952219821038928,
          1.4759693127021358,
          1.4570249777695887,
          1.4383859595762392
         ]
        },
        {
         "mode": "lines",
         "name": "Hand Cart",
         "type": "scatter",
         "x": [
          0,
          16.214285714285715,
          32.42857142857143,
          48.642857142857146,
          64.85714285714286,
          81.07142857142858,
          97.28571428571429,
          113.5,
          129.71428571428572,
          145.92857142857144,
          162.14285714285717,
          178.35714285714286,
          194.57142857142858,
          210.7857142857143,
          227
         ],
         "y": [
          1.071672524500294,
          1.0617449992080623,
          1.0519124551691494,
          1.0421747923179459,
          1.0325318861846526,
          1.0229835880558609,
          1.0135297251657966,
          1.004170100917654,
          0.9949044951343627,
          0.9857326643380503,
          0.9766543420573757,
          0.9676692391618461,
          0.9587770442221474,
          0.949977423895463,
          0.9412700233346911
         ]
        },
        {
         "mode": "lines",
         "name": "Hand Truck",
         "type": "scatter",
         "x": [
          0,
          8.142857142857142,
          16.285714285714285,
          24.428571428571427,
          32.57142857142857,
          40.71428571428571,
          48.857142857142854,
          57,
          65.14285714285714,
          73.28571428571428,
          81.42857142857142,
          89.57142857142857,
          97.71428571428571,
          105.85714285714285,
          114
         ],
         "y": [
          1.0896654421023968,
          1.0845825231283157,
          1.0795235939431145,
          1.0744886497727502,
          1.0694776842726812,
          1.064490689529944,
          1.0595276560657443,
          1.0545885728385567,
          1.0496734272477322,
          1.0447822051376097,
          1.0399148908021316,
          1.035071466989956,
          1.0302519149100622,
          1.0254562142378496,
          1.0206843431217194
         ]
        },
        {
         "mode": "lines",
         "name": "Luggage",
         "type": "scatter",
         "x": [
          0,
          1.4285714285714286,
          2.857142857142857,
          4.285714285714286,
          5.714285714285714,
          7.142857142857143,
          8.571428571428571,
          10,
          11.428571428571429,
          12.857142857142858,
          14.285714285714286,
          15.714285714285715,
          17.142857142857142,
          18.571428571428573,
          20
         ],
         "y": [
          1.0949968907048535,
          1.0940990211022046,
          1.0932018900228677,
          1.0923054974604318,
          1.0914098434069957,
          1.0905149278531674,
          1.0896207507880638,
          1.088727312199312,
          1.0878346120730487,
          1.0869426503939204,
          1.0860514271450832,
          1.0851609423082034,
          1.084271195863458,
          1.0833821877895347,
          1.0824939180636306
         ]
        },
        {
         "mode": "lines",
         "name": "Roller skates",
         "type": "scatter",
         "x": [
          0,
          2.9285714285714284,
          5.857142857142857,
          8.785714285714285,
          11.714285714285714,
          14.642857142857142,
          17.57142857142857,
          20.5,
          23.428571428571427,
          26.357142857142854,
          29.285714285714285,
          32.214285714285715,
          35.14285714285714,
          38.07142857142857,
          41
         ],
         "y": [
          1.4723532358123965,
          1.4688609189202684,
          1.4653773406600419,
          1.4619024975302142,
          1.458436385883996,
          1.4549790019296187,
          1.4515303417306524,
          1.4480904012063338,
          1.4446591761319094,
          1.4412366621389867,
          1.4378228547158998,
          1.4344177492080852,
          1.4310213408184682,
          1.4276336246078642,
          1.424254595495386
         ]
        },
        {
         "mode": "lines",
         "name": "Rolling Container",
         "type": "scatter",
         "x": [
          0,
          11.285714285714286,
          22.571428571428573,
          33.85714285714286,
          45.142857142857146,
          56.42857142857143,
          67.71428571428572,
          79,
          90.28571428571429,
          101.57142857142858,
          112.85714285714286,
          124.14285714285715,
          135.42857142857144,
          146.71428571428572,
          158
         ],
         "y": [
          1.0971997924429455,
          1.095423637481538,
          1.0936503632474877,
          1.0918799697027495,
          1.0901124567865963,
          1.0883478244156217,
          1.086586072483744,
          1.084827200862208,
          1.083071209399593,
          1.0813180979218167,
          1.079567866232143,
          1.0778205141111898,
          1.0760760413169363,
          1.074334447584735,
          1.072595732627319
         ]
        },
        {
         "mode": "lines",
         "name": "Scooter",
         "type": "scatter",
         "x": [
          0,
          2.7142857142857144,
          5.428571428571429,
          8.142857142857142,
          10.857142857142858,
          13.571428571428573,
          16.285714285714285,
          19,
          21.714285714285715,
          24.42857142857143,
          27.142857142857146,
          29.857142857142858,
          32.57142857142857,
          35.285714285714285,
          38
         ],
         "y": [
          1.4733087546362749,
          1.4700694637245508,
          1.4668376804208632,
          1.4636134019818139,
          1.4603966255567067,
          1.4571873481877506,
          1.4539855668102755,
          1.450791278252951,
          1.4476044792380154,
          1.4444251663815098,
          1.4412533361935218,
          1.4380889850784364,
          1.4349321093351906,
          1.4317827051575411,
          1.4286407686343354
         ]
        },
        {
         "mode": "lines",
         "name": "Shopping Trolley",
         "type": "scatter",
         "x": [
          0,
          13.928571428571429,
          27.857142857142858,
          41.785714285714285,
          55.714285714285715,
          69.64285714285714,
          83.57142857142857,
          97.5,
          111.42857142857143,
          125.35714285714286,
          139.28571428571428,
          153.21428571428572,
          167.14285714285714,
          181.07142857142858,
          195
         ],
         "y": [
          1.084048874623578,
          1.0754143375576168,
          1.0668499627176093,
          1.0583557091622715,
          1.0499315225602266,
          1.041577335241943,
          1.0332930662642894,
          1.0250786214875747,
          1.0169338936648973,
          1.008858762543608,
          1.0008530949786643,
          0.9929167450576262,
          0.9850495542370282,
          0.9772513514898238,
          0.9695219534635976
         ]
        },
        {
         "mode": "lines",
         "name": "Skateboard",
         "type": "scatter",
         "x": [
          0,
          4.357142857142857,
          8.714285714285714,
          13.07142857142857,
          17.428571428571427,
          21.785714285714285,
          26.14285714285714,
          30.499999999999996,
          34.857142857142854,
          39.21428571428571,
          43.57142857142857,
          47.92857142857142,
          52.28571428571428,
          56.64285714285714,
          61
         ],
         "y": [
          1.4747432561691813,
          1.469541660301159,
          1.4643594093906849,
          1.459196491882865,
          1.454052895511372,
          1.4489286073007195,
          1.4438236135686662,
          1.4387378999287486,
          1.4336714512929367,
          1.4286242518744159,
          1.4235962851904922,
          1.4185875340656215,
          1.4135979806345558,
          1.4086276063456147,
          1.403676391964071
         ]
        },
        {
         "mode": "lines",
         "name": "Stretcher",
         "type": "scatter",
         "x": [
          0,
          8.571428571428571,
          17.142857142857142,
          25.714285714285715,
          34.285714285714285,
          42.857142857142854,
          51.42857142857143,
          60,
          68.57142857142857,
          77.14285714285714,
          85.71428571428571,
          94.28571428571428,
          102.85714285714286,
          111.42857142857143,
          120
         ],
         "y": [
          0.8598952795581577,
          0.8255770085283355,
          0.7950647829438436,
          0.7677033961873669,
          0.7429854042910762,
          0.7205108688439548,
          0.6999597414498495,
          0.6810724511238087,
          0.6636359622578933,
          0.6474735698563233,
          0.6324373030108016,
          0.6184021836921862,
          0.6052618280740695,
          0.5929250344755387,
          0.5813131066212277
         ]
        },
        {
         "mode": "lines",
         "name": "Wheelbarrow",
         "type": "scatter",
         "x": [
          0,
          10.714285714285714,
          21.428571428571427,
          32.14285714285714,
          42.857142857142854,
          53.57142857142857,
          64.28571428571428,
          75,
          85.71428571428571,
          96.42857142857142,
          107.14285714285714,
          117.85714285714285,
          128.57142857142856,
          139.28571428571428,
          150
         ],
         "y": [
          1.0818725685596218,
          1.0752379533396514,
          1.0686448540829188,
          1.0620932527326892,
          1.055583126540424,
          1.0491144480786565,
          1.0426871852564936,
          1.0363013013377278,
          1.0299567549615265,
          1.023653500165683,
          1.017391486412391,
          1.0111706586165108,
          1.0049909571762905,
          0.9988523180065059,
          0.9927546725739689
         ]
        },
        {
         "mode": "lines",
         "name": "Wheelchair",
         "type": "scatter",
         "x": [
          0,
          5.928571428571429,
          11.857142857142858,
          17.785714285714285,
          23.714285714285715,
          29.642857142857146,
          35.57142857142857,
          41.5,
          47.42857142857143,
          53.35714285714286,
          59.28571428571429,
          65.21428571428572,
          71.14285714285714,
          77.07142857142857,
          83
         ],
         "y": [
          1.0862296127212858,
          1.0825383140145293,
          1.078859731075055,
          1.0751938618980998,
          1.0715407040376619,
          1.0679002546069234,
          1.0642725102787538,
          1.0606574672862858,
          1.0570551214235684,
          1.0534654680462952,
          1.0498885020726088,
          1.046324217983979,
          1.0427726098261572,
          1.039233671210203,
          1.0357073953135865
         ]
        }
       ],
       "layout": {
        "template": {
         "data": {
          "bar": [
           {
            "error_x": {
             "color": "#2a3f5f"
            },
            "error_y": {
             "color": "#2a3f5f"
            },
            "marker": {
             "line": {
              "color": "#E5ECF6",
              "width": 0.5
             },
             "pattern": {
              "fillmode": "overlay",
              "size": 10,
              "solidity": 0.2
             }
            },
            "type": "bar"
           }
          ],
          "barpolar": [
           {
            "marker": {
             "line": {
              "color": "#E5ECF6",
              "width": 0.5
             },
             "pattern": {
              "fillmode": "overlay",
              "size": 10,
              "solidity": 0.2
             }
            },
            "type": "barpolar"
           }
          ],
          "carpet": [
           {
            "aaxis": {
             "endlinecolor": "#2a3f5f",
             "gridcolor": "white",
             "linecolor": "white",
             "minorgridcolor": "white",
             "startlinecolor": "#2a3f5f"
            },
            "baxis": {
             "endlinecolor": "#2a3f5f",
             "gridcolor": "white",
             "linecolor": "white",
             "minorgridcolor": "white",
             "startlinecolor": "#2a3f5f"
            },
            "type": "carpet"
           }
          ],
          "choropleth": [
           {
            "colorbar": {
             "outlinewidth": 0,
             "ticks": ""
            },
            "type": "choropleth"
           }
          ],
          "contour": [
           {
            "colorbar": {
             "outlinewidth": 0,
             "ticks": ""
            },
            "colorscale": [
             [
              0,
              "#0d0887"
             ],
             [
              0.1111111111111111,
              "#46039f"
             ],
             [
              0.2222222222222222,
              "#7201a8"
             ],
             [
              0.3333333333333333,
              "#9c179e"
             ],
             [
              0.4444444444444444,
              "#bd3786"
             ],
             [
              0.5555555555555556,
              "#d8576b"
             ],
             [
              0.6666666666666666,
              "#ed7953"
             ],
             [
              0.7777777777777778,
              "#fb9f3a"
             ],
             [
              0.8888888888888888,
              "#fdca26"
             ],
             [
              1,
              "#f0f921"
             ]
            ],
            "type": "contour"
           }
          ],
          "contourcarpet": [
           {
            "colorbar": {
             "outlinewidth": 0,
             "ticks": ""
            },
            "type": "contourcarpet"
           }
          ],
          "heatmap": [
           {
            "colorbar": {
             "outlinewidth": 0,
             "ticks": ""
            },
            "colorscale": [
             [
              0,
              "#0d0887"
             ],
             [
              0.1111111111111111,
              "#46039f"
             ],
             [
              0.2222222222222222,
              "#7201a8"
             ],
             [
              0.3333333333333333,
              "#9c179e"
             ],
             [
              0.4444444444444444,
              "#bd3786"
             ],
             [
              0.5555555555555556,
              "#d8576b"
             ],
             [
              0.6666666666666666,
              "#ed7953"
             ],
             [
              0.7777777777777778,
              "#fb9f3a"
             ],
             [
              0.8888888888888888,
              "#fdca26"
             ],
             [
              1,
              "#f0f921"
             ]
            ],
            "type": "heatmap"
           }
          ],
          "heatmapgl": [
           {
            "colorbar": {
             "outlinewidth": 0,
             "ticks": ""
            },
            "colorscale": [
             [
              0,
              "#0d0887"
             ],
             [
              0.1111111111111111,
              "#46039f"
             ],
             [
              0.2222222222222222,
              "#7201a8"
             ],
             [
              0.3333333333333333,
              "#9c179e"
             ],
             [
              0.4444444444444444,
              "#bd3786"
             ],
             [
              0.5555555555555556,
              "#d8576b"
             ],
             [
              0.6666666666666666,
              "#ed7953"
             ],
             [
              0.7777777777777778,
              "#fb9f3a"
             ],
             [
              0.8888888888888888,
              "#fdca26"
             ],
             [
              1,
              "#f0f921"
             ]
            ],
            "type": "heatmapgl"
           }
          ],
          "histogram": [
           {
            "marker": {
             "pattern": {
              "fillmode": "overlay",
              "size": 10,
              "solidity": 0.2
             }
            },
            "type": "histogram"
           }
          ],
          "histogram2d": [
           {
            "colorbar": {
             "outlinewidth": 0,
             "ticks": ""
            },
            "colorscale": [
             [
              0,
              "#0d0887"
             ],
             [
              0.1111111111111111,
              "#46039f"
             ],
             [
              0.2222222222222222,
              "#7201a8"
             ],
             [
              0.3333333333333333,
              "#9c179e"
             ],
             [
              0.4444444444444444,
              "#bd3786"
             ],
             [
              0.5555555555555556,
              "#d8576b"
             ],
             [
              0.6666666666666666,
              "#ed7953"
             ],
             [
              0.7777777777777778,
              "#fb9f3a"
             ],
             [
              0.8888888888888888,
              "#fdca26"
             ],
             [
              1,
              "#f0f921"
             ]
            ],
            "type": "histogram2d"
           }
          ],
          "histogram2dcontour": [
           {
            "colorbar": {
             "outlinewidth": 0,
             "ticks": ""
            },
            "colorscale": [
             [
              0,
              "#0d0887"
             ],
             [
              0.1111111111111111,
              "#46039f"
             ],
             [
              0.2222222222222222,
              "#7201a8"
             ],
             [
              0.3333333333333333,
              "#9c179e"
             ],
             [
              0.4444444444444444,
              "#bd3786"
             ],
             [
              0.5555555555555556,
              "#d8576b"
             ],
             [
              0.6666666666666666,
              "#ed7953"
             ],
             [
              0.7777777777777778,
              "#fb9f3a"
             ],
             [
              0.8888888888888888,
              "#fdca26"
             ],
             [
              1,
              "#f0f921"
             ]
            ],
            "type": "histogram2dcontour"
           }
          ],
          "mesh3d": [
           {
            "colorbar": {
             "outlinewidth": 0,
             "ticks": ""
            },
            "type": "mesh3d"
           }
          ],
          "parcoords": [
           {
            "line": {
             "colorbar": {
              "outlinewidth": 0,
              "ticks": ""
             }
            },
            "type": "parcoords"
           }
          ],
          "pie": [
           {
            "automargin": true,
            "type": "pie"
           }
          ],
          "scatter": [
           {
            "fillpattern": {
             "fillmode": "overlay",
             "size": 10,
             "solidity": 0.2
            },
            "type": "scatter"
           }
          ],
          "scatter3d": [
           {
            "line": {
             "colorbar": {
              "outlinewidth": 0,
              "ticks": ""
             }
            },
            "marker": {
             "colorbar": {
              "outlinewidth": 0,
              "ticks": ""
             }
            },
            "type": "scatter3d"
           }
          ],
          "scattercarpet": [
           {
            "marker": {
             "colorbar": {
              "outlinewidth": 0,
              "ticks": ""
             }
            },
            "type": "scattercarpet"
           }
          ],
          "scattergeo": [
           {
            "marker": {
             "colorbar": {
              "outlinewidth": 0,
              "ticks": ""
             }
            },
            "type": "scattergeo"
           }
          ],
          "scattergl": [
           {
            "marker": {
             "colorbar": {
              "outlinewidth": 0,
              "ticks": ""
             }
            },
            "type": "scattergl"
           }
          ],
          "scattermapbox": [
           {
            "marker": {
             "colorbar": {
              "outlinewidth": 0,
              "ticks": ""
             }
            },
            "type": "scattermapbox"
           }
          ],
          "scatterpolar": [
           {
            "marker": {
             "colorbar": {
              "outlinewidth": 0,
              "ticks": ""
             }
            },
            "type": "scatterpolar"
           }
          ],
          "scatterpolargl": [
           {
            "marker": {
             "colorbar": {
              "outlinewidth": 0,
              "ticks": ""
             }
            },
            "type": "scatterpolargl"
           }
          ],
          "scatterternary": [
           {
            "marker": {
             "colorbar": {
              "outlinewidth": 0,
              "ticks": ""
             }
            },
            "type": "scatterternary"
           }
          ],
          "surface": [
           {
            "colorbar": {
             "outlinewidth": 0,
             "ticks": ""
            },
            "colorscale": [
             [
              0,
              "#0d0887"
             ],
             [
              0.1111111111111111,
              "#46039f"
             ],
             [
              0.2222222222222222,
              "#7201a8"
             ],
             [
              0.3333333333333333,
              "#9c179e"
             ],
             [
              0.4444444444444444,
              "#bd3786"
             ],
             [
              0.5555555555555556,
              "#d8576b"
             ],
             [
              0.6666666666666666,
              "#ed7953"
             ],
             [
              0.7777777777777778,
              "#fb9f3a"
             ],
             [
              0.8888888888888888,
              "#fdca26"
             ],
             [
              1,
              "#f0f921"
             ]
            ],
            "type": "surface"
           }
          ],
          "table": [
           {
            "cells": {
             "fill": {
              "color": "#EBF0F8"
             },
             "line": {
              "color": "white"
             }
            },
            "header": {
             "fill": {
              "color": "#C8D4E3"
             },
             "line": {
              "color": "white"
             }
            },
            "type": "table"
           }
          ]
         },
         "layout": {
          "annotationdefaults": {
           "arrowcolor": "#2a3f5f",
           "arrowhead": 0,
           "arrowwidth": 1
          },
          "autotypenumbers": "strict",
          "coloraxis": {
           "colorbar": {
            "outlinewidth": 0,
            "ticks": ""
           }
          },
          "colorscale": {
           "diverging": [
            [
             0,
             "#8e0152"
            ],
            [
             0.1,
             "#c51b7d"
            ],
            [
             0.2,
             "#de77ae"
            ],
            [
             0.3,
             "#f1b6da"
            ],
            [
             0.4,
             "#fde0ef"
            ],
            [
             0.5,
             "#f7f7f7"
            ],
            [
             0.6,
             "#e6f5d0"
            ],
            [
             0.7,
             "#b8e186"
            ],
            [
             0.8,
             "#7fbc41"
            ],
            [
             0.9,
             "#4d9221"
            ],
            [
             1,
             "#276419"
            ]
           ],
           "sequential": [
            [
             0,
             "#0d0887"
            ],
            [
             0.1111111111111111,
             "#46039f"
            ],
            [
             0.2222222222222222,
             "#7201a8"
            ],
            [
             0.3333333333333333,
             "#9c179e"
            ],
            [
             0.4444444444444444,
             "#bd3786"
            ],
            [
             0.5555555555555556,
             "#d8576b"
            ],
            [
             0.6666666666666666,
             "#ed7953"
            ],
            [
             0.7777777777777778,
             "#fb9f3a"
            ],
            [
             0.8888888888888888,
             "#fdca26"
            ],
            [
             1,
             "#f0f921"
            ]
           ],
           "sequentialminus": [
            [
             0,
             "#0d0887"
            ],
            [
             0.1111111111111111,
             "#46039f"
            ],
            [
             0.2222222222222222,
             "#7201a8"
            ],
            [
             0.3333333333333333,
             "#9c179e"
            ],
            [
             0.4444444444444444,
             "#bd3786"
            ],
            [
             0.5555555555555556,
             "#d8576b"
            ],
            [
             0.6666666666666666,
             "#ed7953"
            ],
            [
             0.7777777777777778,
             "#fb9f3a"
            ],
            [
             0.8888888888888888,
             "#fdca26"
            ],
            [
             1,
             "#f0f921"
            ]
           ]
          },
          "colorway": [
           "#636efa",
           "#EF553B",
           "#00cc96",
           "#ab63fa",
           "#FFA15A",
           "#19d3f3",
           "#FF6692",
           "#B6E880",
           "#FF97FF",
           "#FECB52"
          ],
          "font": {
           "color": "#2a3f5f"
          },
          "geo": {
           "bgcolor": "white",
           "lakecolor": "white",
           "landcolor": "#E5ECF6",
           "showlakes": true,
           "showland": true,
           "subunitcolor": "white"
          },
          "hoverlabel": {
           "align": "left"
          },
          "hovermode": "closest",
          "mapbox": {
           "style": "light"
          },
          "paper_bgcolor": "white",
          "plot_bgcolor": "#E5ECF6",
          "polar": {
           "angularaxis": {
            "gridcolor": "white",
            "linecolor": "white",
            "ticks": ""
           },
           "bgcolor": "#E5ECF6",
           "radialaxis": {
            "gridcolor": "white",
            "linecolor": "white",
            "ticks": ""
           }
          },
          "scene": {
           "xaxis": {
            "backgroundcolor": "#E5ECF6",
            "gridcolor": "white",
            "gridwidth": 2,
            "linecolor": "white",
            "showbackground": true,
            "ticks": "",
            "zerolinecolor": "white"
           },
           "yaxis": {
            "backgroundcolor": "#E5ECF6",
            "gridcolor": "white",
            "gridwidth": 2,
            "linecolor": "white",
            "showbackground": true,
            "ticks": "",
            "zerolinecolor": "white"
           },
           "zaxis": {
            "backgroundcolor": "#E5ECF6",
            "gridcolor": "white",
            "gridwidth": 2,
            "linecolor": "white",
            "showbackground": true,
            "ticks": "",
            "zerolinecolor": "white"
           }
          },
          "shapedefaults": {
           "line": {
            "color": "#2a3f5f"
           }
          },
          "ternary": {
           "aaxis": {
            "gridcolor": "white",
            "linecolor": "white",
            "ticks": ""
           },
           "baxis": {
            "gridcolor": "white",
            "linecolor": "white",
            "ticks": ""
           },
           "bgcolor": "#E5ECF6",
           "caxis": {
            "gridcolor": "white",
            "linecolor": "white",
            "ticks": ""
           }
          },
          "title": {
           "x": 0.05
          },
          "xaxis": {
           "automargin": true,
           "gridcolor": "white",
           "linecolor": "white",
           "ticks": "",
           "title": {
            "standoff": 15
           },
           "zerolinecolor": "white",
           "zerolinewidth": 2
          },
          "yaxis": {
           "automargin": true,
           "gridcolor": "white",
           "linecolor": "white",
           "ticks": "",
           "title": {
            "standoff": 15
           },
           "zerolinecolor": "white",
           "zerolinewidth": 2
          }
         }
        },
        "title": {
         "text": "m/s with different loads, Constant 0.0 slope, model Sprott"
        },
        "xaxis": {
         "title": {
          "text": "Load [kg]"
         }
        },
        "yaxis": {
         "title": {
          "text": "Speed [m/s]"
         }
        }
       }
      }
     },
     "metadata": {},
     "output_type": "display_data"
    },
    {
     "data": {
      "application/vnd.plotly.v1+json": {
       "config": {
        "plotlyServerURL": "https://plotly.com"
       },
       "data": [
        {
         "alignmentgroup": "True",
         "customdata": [
          [
           "Baby Carriage",
           0.5393856237000672,
           1.0787712474001343,
           1.2,
           7.767152981280968,
           15.534305962561936,
           0,
           8,
           0.3862419096456674
          ]
         ],
         "hovertemplate": "Name=%{customdata[0]}<br>Load=%{x}<br>Water ration * Km=%{y}<br>Average Trip Velocity=%{customdata[1]}<br>Loaded Velocity=%{customdata[2]}<br>Unloaded Velocity=%{customdata[3]}<br>Distance to Water Achievable=%{customdata[4]}<br>Total Round trip Distance Achievable=%{customdata[5]}<br>Slope=%{customdata[6]}<br>Hours Collecting Water Max=%{customdata[7]}<br>Hours Spent Collecting Single Person Water=%{customdata[8]}<extra></extra>",
         "legendgroup": "Baby Carriage",
         "marker": {
          "color": "#636efa",
          "pattern": {
           "shape": ""
          }
         },
         "name": "Baby Carriage",
         "offsetgroup": "Baby Carriage",
         "orientation": "v",
         "showlegend": true,
         "textposition": "auto",
         "type": "bar",
         "x": [
          20
         ],
         "xaxis": "x",
         "y": [
          20.712407950082582
         ],
         "yaxis": "y"
        },
        {
         "alignmentgroup": "True",
         "customdata": [
          [
           "Backpack",
           0.4492679001906854,
           0.8985358003813708,
           1.2,
           6.46945776274587,
           12.93891552549174,
           0,
           8,
           0.30914491961241714
          ]
         ],
         "hovertemplate": "Name=%{customdata[0]}<br>Load=%{x}<br>Water ration * Km=%{y}<br>Average Trip Velocity=%{customdata[1]}<br>Loaded Velocity=%{customdata[2]}<br>Unloaded Velocity=%{customdata[3]}<br>Distance to Water Achievable=%{customdata[4]}<br>Total Round trip Distance Achievable=%{customdata[5]}<br>Slope=%{customdata[6]}<br>Hours Collecting Water Max=%{customdata[7]}<br>Hours Spent Collecting Single Person Water=%{customdata[8]}<extra></extra>",
         "legendgroup": "Backpack",
         "marker": {
          "color": "#EF553B",
          "pattern": {
           "shape": ""
          }
         },
         "name": "Backpack",
         "offsetgroup": "Backpack",
         "orientation": "v",
         "showlegend": true,
         "textposition": "auto",
         "type": "bar",
         "x": [
          30
         ],
         "xaxis": "x",
         "y": [
          25.87783105098348
         ],
         "yaxis": "y"
        },
        {
         "alignmentgroup": "True",
         "customdata": [
          [
           "Bicycle",
           0.9018052163114686,
           1.8036104326229372,
           4.3,
           12.98599511488515,
           25.9719902297703,
           0,
           8,
           0.06794650185607083
          ]
         ],
         "hovertemplate": "Name=%{customdata[0]}<br>Load=%{x}<br>Water ration * Km=%{y}<br>Average Trip Velocity=%{customdata[1]}<br>Loaded Velocity=%{customdata[2]}<br>Unloaded Velocity=%{customdata[3]}<br>Distance to Water Achievable=%{customdata[4]}<br>Total Round trip Distance Achievable=%{customdata[5]}<br>Slope=%{customdata[6]}<br>Hours Collecting Water Max=%{customdata[7]}<br>Hours Spent Collecting Single Person Water=%{customdata[8]}<extra></extra>",
         "legendgroup": "Bicycle",
         "marker": {
          "color": "#00cc96",
          "pattern": {
           "shape": ""
          }
         },
         "name": "Bicycle",
         "offsetgroup": "Bicycle",
         "orientation": "v",
         "showlegend": true,
         "textposition": "auto",
         "type": "bar",
         "x": [
          68
         ],
         "xaxis": "x",
         "y": [
          117.73968904162535
         ],
         "yaxis": "y"
        },
        {
         "alignmentgroup": "True",
         "customdata": [
          [
           "Buckets",
           0.47571766860138304,
           0.9514353372027661,
           1.2,
           6.8503344278599165,
           13.700668855719833,
           0,
           8,
           0.43793482370717146
          ]
         ],
         "hovertemplate": "Name=%{customdata[0]}<br>Load=%{x}<br>Water ration * Km=%{y}<br>Average Trip Velocity=%{customdata[1]}<br>Loaded Velocity=%{customdata[2]}<br>Unloaded Velocity=%{customdata[3]}<br>Distance to Water Achievable=%{customdata[4]}<br>Total Round trip Distance Achievable=%{customdata[5]}<br>Slope=%{customdata[6]}<br>Hours Collecting Water Max=%{customdata[7]}<br>Hours Spent Collecting Single Person Water=%{customdata[8]}<extra></extra>",
         "legendgroup": "Buckets",
         "marker": {
          "color": "#ab63fa",
          "pattern": {
           "shape": ""
          }
         },
         "name": "Buckets",
         "offsetgroup": "Buckets",
         "orientation": "v",
         "showlegend": true,
         "textposition": "auto",
         "type": "bar",
         "x": [
          20
         ],
         "xaxis": "x",
         "y": [
          18.267558474293114
         ],
         "yaxis": "y"
        },
        {
         "alignmentgroup": "True",
         "customdata": [
          [
           "Cycle Rickshaw",
           0.7191929797881196,
           1.4383859595762392,
           4.3,
           10.356378908948923,
           20.712757817897845,
           0,
           8,
           0.030816653096232015
          ]
         ],
         "hovertemplate": "Name=%{customdata[0]}<br>Load=%{x}<br>Water ration * Km=%{y}<br>Average Trip Velocity=%{customdata[1]}<br>Loaded Velocity=%{customdata[2]}<br>Unloaded Velocity=%{customdata[3]}<br>Distance to Water Achievable=%{customdata[4]}<br>Total Round trip Distance Achievable=%{customdata[5]}<br>Slope=%{customdata[6]}<br>Hours Collecting Water Max=%{customdata[7]}<br>Hours Spent Collecting Single Person Water=%{customdata[8]}<extra></extra>",
         "legendgroup": "Cycle Rickshaw",
         "marker": {
          "color": "#FFA15A",
          "pattern": {
           "shape": ""
          }
         },
         "name": "Cycle Rickshaw",
         "offsetgroup": "Cycle Rickshaw",
         "orientation": "v",
         "showlegend": true,
         "textposition": "auto",
         "type": "bar",
         "x": [
          188
         ],
         "xaxis": "x",
         "y": [
          259.5998979843197
         ],
         "yaxis": "y"
        },
        {
         "alignmentgroup": "True",
         "customdata": [
          [
           "Hand Cart",
           0.47063501166734556,
           0.9412700233346911,
           1.2,
           6.777144168009776,
           13.554288336019551,
           0,
           8,
           0.03900126278328255
          ]
         ],
         "hovertemplate": "Name=%{customdata[0]}<br>Load=%{x}<br>Water ration * Km=%{y}<br>Average Trip Velocity=%{customdata[1]}<br>Loaded Velocity=%{customdata[2]}<br>Unloaded Velocity=%{customdata[3]}<br>Distance to Water Achievable=%{customdata[4]}<br>Total Round trip Distance Achievable=%{customdata[5]}<br>Slope=%{customdata[6]}<br>Hours Collecting Water Max=%{customdata[7]}<br>Hours Spent Collecting Single Person Water=%{customdata[8]}<extra></extra>",
         "legendgroup": "Hand Cart",
         "marker": {
          "color": "#19d3f3",
          "pattern": {
           "shape": ""
          }
         },
         "name": "Hand Cart",
         "offsetgroup": "Hand Cart",
         "orientation": "v",
         "showlegend": true,
         "textposition": "auto",
         "type": "bar",
         "x": [
          227
         ],
         "xaxis": "x",
         "y": [
          205.1215634850959
         ],
         "yaxis": "y"
        },
        {
         "alignmentgroup": "True",
         "customdata": [
          [
           "Hand Truck",
           0.5103421715608597,
           1.0206843431217194,
           1.2,
           7.34892727047638,
           14.69785454095276,
           0,
           8,
           0.07161804302896126
          ]
         ],
         "hovertemplate": "Name=%{customdata[0]}<br>Load=%{x}<br>Water ration * Km=%{y}<br>Average Trip Velocity=%{customdata[1]}<br>Loaded Velocity=%{customdata[2]}<br>Unloaded Velocity=%{customdata[3]}<br>Distance to Water Achievable=%{customdata[4]}<br>Total Round trip Distance Achievable=%{customdata[5]}<br>Slope=%{customdata[6]}<br>Hours Collecting Water Max=%{customdata[7]}<br>Hours Spent Collecting Single Person Water=%{customdata[8]}<extra></extra>",
         "legendgroup": "Hand Truck",
         "marker": {
          "color": "#FF6692",
          "pattern": {
           "shape": ""
          }
         },
         "name": "Hand Truck",
         "offsetgroup": "Hand Truck",
         "orientation": "v",
         "showlegend": true,
         "textposition": "auto",
         "type": "bar",
         "x": [
          114
         ],
         "xaxis": "x",
         "y": [
          111.70369451124097
         ],
         "yaxis": "y"
        },
        {
         "alignmentgroup": "True",
         "customdata": [
          [
           "Luggage",
           0.5412469590318153,
           1.0824939180636306,
           1.2,
           7.79395621005814,
           15.58791242011628,
           0,
           8,
           0.384913632967104
          ]
         ],
         "hovertemplate": "Name=%{customdata[0]}<br>Load=%{x}<br>Water ration * Km=%{y}<br>Average Trip Velocity=%{customdata[1]}<br>Loaded Velocity=%{customdata[2]}<br>Unloaded Velocity=%{customdata[3]}<br>Distance to Water Achievable=%{customdata[4]}<br>Total Round trip Distance Achievable=%{customdata[5]}<br>Slope=%{customdata[6]}<br>Hours Collecting Water Max=%{customdata[7]}<br>Hours Spent Collecting Single Person Water=%{customdata[8]}<extra></extra>",
         "legendgroup": "Luggage",
         "marker": {
          "color": "#B6E880",
          "pattern": {
           "shape": ""
          }
         },
         "name": "Luggage",
         "offsetgroup": "Luggage",
         "orientation": "v",
         "showlegend": true,
         "textposition": "auto",
         "type": "bar",
         "x": [
          20
         ],
         "xaxis": "x",
         "y": [
          20.783883226821708
         ],
         "yaxis": "y"
        },
        {
         "alignmentgroup": "True",
         "customdata": [
          [
           "Roller skates",
           0.712127297747693,
           1.424254595495386,
           3.6,
           10.254633087566779,
           20.509266175133558,
           0,
           8,
           0.14270765434997934
          ]
         ],
         "hovertemplate": "Name=%{customdata[0]}<br>Load=%{x}<br>Water ration * Km=%{y}<br>Average Trip Velocity=%{customdata[1]}<br>Loaded Velocity=%{customdata[2]}<br>Unloaded Velocity=%{customdata[3]}<br>Distance to Water Achievable=%{customdata[4]}<br>Total Round trip Distance Achievable=%{customdata[5]}<br>Slope=%{customdata[6]}<br>Hours Collecting Water Max=%{customdata[7]}<br>Hours Spent Collecting Single Person Water=%{customdata[8]}<extra></extra>",
         "legendgroup": "Roller skates",
         "marker": {
          "color": "#FF97FF",
          "pattern": {
           "shape": ""
          }
         },
         "name": "Roller skates",
         "offsetgroup": "Roller skates",
         "orientation": "v",
         "showlegend": true,
         "textposition": "auto",
         "type": "bar",
         "x": [
          41
         ],
         "xaxis": "x",
         "y": [
          56.0586608786984
         ],
         "yaxis": "y"
        },
        {
         "alignmentgroup": "True",
         "customdata": [
          [
           "Rolling Container",
           0.5362978663136595,
           1.072595732627319,
           1.2,
           7.722689274916696,
           15.445378549833393,
           0,
           8,
           0.0491728751377394
          ]
         ],
         "hovertemplate": "Name=%{customdata[0]}<br>Load=%{x}<br>Water ration * Km=%{y}<br>Average Trip Velocity=%{customdata[1]}<br>Loaded Velocity=%{customdata[2]}<br>Unloaded Velocity=%{customdata[3]}<br>Distance to Water Achievable=%{customdata[4]}<br>Total Round trip Distance Achievable=%{customdata[5]}<br>Slope=%{customdata[6]}<br>Hours Collecting Water Max=%{customdata[7]}<br>Hours Spent Collecting Single Person Water=%{customdata[8]}<extra></extra>",
         "legendgroup": "Rolling Container",
         "marker": {
          "color": "#FECB52",
          "pattern": {
           "shape": ""
          }
         },
         "name": "Rolling Container",
         "offsetgroup": "Rolling Container",
         "orientation": "v",
         "showlegend": true,
         "textposition": "auto",
         "type": "bar",
         "x": [
          158
         ],
         "xaxis": "x",
         "y": [
          162.69132072491175
         ],
         "yaxis": "y"
        },
        {
         "alignmentgroup": "True",
         "customdata": [
          [
           "Scooter",
           0.7143203843171677,
           1.4286407686343354,
           4,
           10.286213534167215,
           20.57242706833443,
           0,
           8,
           0.15350132127593305
          ]
         ],
         "hovertemplate": "Name=%{customdata[0]}<br>Load=%{x}<br>Water ration * Km=%{y}<br>Average Trip Velocity=%{customdata[1]}<br>Loaded Velocity=%{customdata[2]}<br>Unloaded Velocity=%{customdata[3]}<br>Distance to Water Achievable=%{customdata[4]}<br>Total Round trip Distance Achievable=%{customdata[5]}<br>Slope=%{customdata[6]}<br>Hours Collecting Water Max=%{customdata[7]}<br>Hours Spent Collecting Single Person Water=%{customdata[8]}<extra></extra>",
         "legendgroup": "Scooter",
         "marker": {
          "color": "#636efa",
          "pattern": {
           "shape": ""
          }
         },
         "name": "Scooter",
         "offsetgroup": "Scooter",
         "orientation": "v",
         "showlegend": true,
         "textposition": "auto",
         "type": "bar",
         "x": [
          38
         ],
         "xaxis": "x",
         "y": [
          52.11681523978056
         ],
         "yaxis": "y"
        },
        {
         "alignmentgroup": "True",
         "customdata": [
          [
           "Shopping Trolley",
           0.4847609767317988,
           0.9695219534635976,
           1.2,
           6.980558064937902,
           13.961116129875805,
           0,
           8,
           0.044078468344499744
          ]
         ],
         "hovertemplate": "Name=%{customdata[0]}<br>Load=%{x}<br>Water ration * Km=%{y}<br>Average Trip Velocity=%{customdata[1]}<br>Loaded Velocity=%{customdata[2]}<br>Unloaded Velocity=%{customdata[3]}<br>Distance to Water Achievable=%{customdata[4]}<br>Total Round trip Distance Achievable=%{customdata[5]}<br>Slope=%{customdata[6]}<br>Hours Collecting Water Max=%{customdata[7]}<br>Hours Spent Collecting Single Person Water=%{customdata[8]}<extra></extra>",
         "legendgroup": "Shopping Trolley",
         "marker": {
          "color": "#EF553B",
          "pattern": {
           "shape": ""
          }
         },
         "name": "Shopping Trolley",
         "offsetgroup": "Shopping Trolley",
         "orientation": "v",
         "showlegend": true,
         "textposition": "auto",
         "type": "bar",
         "x": [
          195
         ],
         "xaxis": "x",
         "y": [
          181.49450968838545
         ],
         "yaxis": "y"
        },
        {
         "alignmentgroup": "True",
         "customdata": [
          [
           "Skateboard",
           0.7018381959820355,
           1.403676391964071,
           4,
           10.10647002214131,
           20.21294004428262,
           0,
           8,
           0.09732444218625876
          ]
         ],
         "hovertemplate": "Name=%{customdata[0]}<br>Load=%{x}<br>Water ration * Km=%{y}<br>Average Trip Velocity=%{customdata[1]}<br>Loaded Velocity=%{customdata[2]}<br>Unloaded Velocity=%{customdata[3]}<br>Distance to Water Achievable=%{customdata[4]}<br>Total Round trip Distance Achievable=%{customdata[5]}<br>Slope=%{customdata[6]}<br>Hours Collecting Water Max=%{customdata[7]}<br>Hours Spent Collecting Single Person Water=%{customdata[8]}<extra></extra>",
         "legendgroup": "Skateboard",
         "marker": {
          "color": "#00cc96",
          "pattern": {
           "shape": ""
          }
         },
         "name": "Skateboard",
         "offsetgroup": "Skateboard",
         "orientation": "v",
         "showlegend": true,
         "textposition": "auto",
         "type": "bar",
         "x": [
          61
         ],
         "xaxis": "x",
         "y": [
          82.19928951341599
         ],
         "yaxis": "y"
        },
        {
         "alignmentgroup": "True",
         "customdata": [
          [
           "Stretcher",
           0.29065655331061385,
           0.5813131066212277,
           1.2,
           4.18545436767284,
           8.37090873534568,
           0,
           8,
           0.1194613430412349
          ]
         ],
         "hovertemplate": "Name=%{customdata[0]}<br>Load=%{x}<br>Water ration * Km=%{y}<br>Average Trip Velocity=%{customdata[1]}<br>Loaded Velocity=%{customdata[2]}<br>Unloaded Velocity=%{customdata[3]}<br>Distance to Water Achievable=%{customdata[4]}<br>Total Round trip Distance Achievable=%{customdata[5]}<br>Slope=%{customdata[6]}<br>Hours Collecting Water Max=%{customdata[7]}<br>Hours Spent Collecting Single Person Water=%{customdata[8]}<extra></extra>",
         "legendgroup": "Stretcher",
         "marker": {
          "color": "#ab63fa",
          "pattern": {
           "shape": ""
          }
         },
         "name": "Stretcher",
         "offsetgroup": "Stretcher",
         "orientation": "v",
         "showlegend": true,
         "textposition": "auto",
         "type": "bar",
         "x": [
          120
         ],
         "xaxis": "x",
         "y": [
          66.96726988276544
         ],
         "yaxis": "y"
        },
        {
         "alignmentgroup": "True",
         "customdata": [
          [
           "Wheelbarrow",
           0.49637733628698444,
           0.9927546725739689,
           1.2,
           7.147833642532576,
           14.295667285065152,
           0,
           8,
           0.055961011406285954
          ]
         ],
         "hovertemplate": "Name=%{customdata[0]}<br>Load=%{x}<br>Water ration * Km=%{y}<br>Average Trip Velocity=%{customdata[1]}<br>Loaded Velocity=%{customdata[2]}<br>Unloaded Velocity=%{customdata[3]}<br>Distance to Water Achievable=%{customdata[4]}<br>Total Round trip Distance Achievable=%{customdata[5]}<br>Slope=%{customdata[6]}<br>Hours Collecting Water Max=%{customdata[7]}<br>Hours Spent Collecting Single Person Water=%{customdata[8]}<extra></extra>",
         "legendgroup": "Wheelbarrow",
         "marker": {
          "color": "#FFA15A",
          "pattern": {
           "shape": ""
          }
         },
         "name": "Wheelbarrow",
         "offsetgroup": "Wheelbarrow",
         "orientation": "v",
         "showlegend": true,
         "textposition": "auto",
         "type": "bar",
         "x": [
          150
         ],
         "xaxis": "x",
         "y": [
          142.95667285065153
         ],
         "yaxis": "y"
        },
        {
         "alignmentgroup": "True",
         "customdata": [
          [
           "Wheelchair",
           0.5178536976567932,
           1.0357073953135865,
           1.2,
           7.457093246257822,
           14.914186492515643,
           0,
           8,
           0.0969401269895381
          ]
         ],
         "hovertemplate": "Name=%{customdata[0]}<br>Load=%{x}<br>Water ration * Km=%{y}<br>Average Trip Velocity=%{customdata[1]}<br>Loaded Velocity=%{customdata[2]}<br>Unloaded Velocity=%{customdata[3]}<br>Distance to Water Achievable=%{customdata[4]}<br>Total Round trip Distance Achievable=%{customdata[5]}<br>Slope=%{customdata[6]}<br>Hours Collecting Water Max=%{customdata[7]}<br>Hours Spent Collecting Single Person Water=%{customdata[8]}<extra></extra>",
         "legendgroup": "Wheelchair",
         "marker": {
          "color": "#19d3f3",
          "pattern": {
           "shape": ""
          }
         },
         "name": "Wheelchair",
         "offsetgroup": "Wheelchair",
         "orientation": "v",
         "showlegend": true,
         "textposition": "auto",
         "type": "bar",
         "x": [
          83
         ],
         "xaxis": "x",
         "y": [
          82.52516525858657
         ],
         "yaxis": "y"
        }
       ],
       "layout": {
        "barmode": "relative",
        "legend": {
         "title": {
          "text": "Name"
         },
         "tracegroupgap": 0
        },
        "template": {
         "data": {
          "bar": [
           {
            "error_x": {
             "color": "#2a3f5f"
            },
            "error_y": {
             "color": "#2a3f5f"
            },
            "marker": {
             "line": {
              "color": "#E5ECF6",
              "width": 0.5
             },
             "pattern": {
              "fillmode": "overlay",
              "size": 10,
              "solidity": 0.2
             }
            },
            "type": "bar"
           }
          ],
          "barpolar": [
           {
            "marker": {
             "line": {
              "color": "#E5ECF6",
              "width": 0.5
             },
             "pattern": {
              "fillmode": "overlay",
              "size": 10,
              "solidity": 0.2
             }
            },
            "type": "barpolar"
           }
          ],
          "carpet": [
           {
            "aaxis": {
             "endlinecolor": "#2a3f5f",
             "gridcolor": "white",
             "linecolor": "white",
             "minorgridcolor": "white",
             "startlinecolor": "#2a3f5f"
            },
            "baxis": {
             "endlinecolor": "#2a3f5f",
             "gridcolor": "white",
             "linecolor": "white",
             "minorgridcolor": "white",
             "startlinecolor": "#2a3f5f"
            },
            "type": "carpet"
           }
          ],
          "choropleth": [
           {
            "colorbar": {
             "outlinewidth": 0,
             "ticks": ""
            },
            "type": "choropleth"
           }
          ],
          "contour": [
           {
            "colorbar": {
             "outlinewidth": 0,
             "ticks": ""
            },
            "colorscale": [
             [
              0,
              "#0d0887"
             ],
             [
              0.1111111111111111,
              "#46039f"
             ],
             [
              0.2222222222222222,
              "#7201a8"
             ],
             [
              0.3333333333333333,
              "#9c179e"
             ],
             [
              0.4444444444444444,
              "#bd3786"
             ],
             [
              0.5555555555555556,
              "#d8576b"
             ],
             [
              0.6666666666666666,
              "#ed7953"
             ],
             [
              0.7777777777777778,
              "#fb9f3a"
             ],
             [
              0.8888888888888888,
              "#fdca26"
             ],
             [
              1,
              "#f0f921"
             ]
            ],
            "type": "contour"
           }
          ],
          "contourcarpet": [
           {
            "colorbar": {
             "outlinewidth": 0,
             "ticks": ""
            },
            "type": "contourcarpet"
           }
          ],
          "heatmap": [
           {
            "colorbar": {
             "outlinewidth": 0,
             "ticks": ""
            },
            "colorscale": [
             [
              0,
              "#0d0887"
             ],
             [
              0.1111111111111111,
              "#46039f"
             ],
             [
              0.2222222222222222,
              "#7201a8"
             ],
             [
              0.3333333333333333,
              "#9c179e"
             ],
             [
              0.4444444444444444,
              "#bd3786"
             ],
             [
              0.5555555555555556,
              "#d8576b"
             ],
             [
              0.6666666666666666,
              "#ed7953"
             ],
             [
              0.7777777777777778,
              "#fb9f3a"
             ],
             [
              0.8888888888888888,
              "#fdca26"
             ],
             [
              1,
              "#f0f921"
             ]
            ],
            "type": "heatmap"
           }
          ],
          "heatmapgl": [
           {
            "colorbar": {
             "outlinewidth": 0,
             "ticks": ""
            },
            "colorscale": [
             [
              0,
              "#0d0887"
             ],
             [
              0.1111111111111111,
              "#46039f"
             ],
             [
              0.2222222222222222,
              "#7201a8"
             ],
             [
              0.3333333333333333,
              "#9c179e"
             ],
             [
              0.4444444444444444,
              "#bd3786"
             ],
             [
              0.5555555555555556,
              "#d8576b"
             ],
             [
              0.6666666666666666,
              "#ed7953"
             ],
             [
              0.7777777777777778,
              "#fb9f3a"
             ],
             [
              0.8888888888888888,
              "#fdca26"
             ],
             [
              1,
              "#f0f921"
             ]
            ],
            "type": "heatmapgl"
           }
          ],
          "histogram": [
           {
            "marker": {
             "pattern": {
              "fillmode": "overlay",
              "size": 10,
              "solidity": 0.2
             }
            },
            "type": "histogram"
           }
          ],
          "histogram2d": [
           {
            "colorbar": {
             "outlinewidth": 0,
             "ticks": ""
            },
            "colorscale": [
             [
              0,
              "#0d0887"
             ],
             [
              0.1111111111111111,
              "#46039f"
             ],
             [
              0.2222222222222222,
              "#7201a8"
             ],
             [
              0.3333333333333333,
              "#9c179e"
             ],
             [
              0.4444444444444444,
              "#bd3786"
             ],
             [
              0.5555555555555556,
              "#d8576b"
             ],
             [
              0.6666666666666666,
              "#ed7953"
             ],
             [
              0.7777777777777778,
              "#fb9f3a"
             ],
             [
              0.8888888888888888,
              "#fdca26"
             ],
             [
              1,
              "#f0f921"
             ]
            ],
            "type": "histogram2d"
           }
          ],
          "histogram2dcontour": [
           {
            "colorbar": {
             "outlinewidth": 0,
             "ticks": ""
            },
            "colorscale": [
             [
              0,
              "#0d0887"
             ],
             [
              0.1111111111111111,
              "#46039f"
             ],
             [
              0.2222222222222222,
              "#7201a8"
             ],
             [
              0.3333333333333333,
              "#9c179e"
             ],
             [
              0.4444444444444444,
              "#bd3786"
             ],
             [
              0.5555555555555556,
              "#d8576b"
             ],
             [
              0.6666666666666666,
              "#ed7953"
             ],
             [
              0.7777777777777778,
              "#fb9f3a"
             ],
             [
              0.8888888888888888,
              "#fdca26"
             ],
             [
              1,
              "#f0f921"
             ]
            ],
            "type": "histogram2dcontour"
           }
          ],
          "mesh3d": [
           {
            "colorbar": {
             "outlinewidth": 0,
             "ticks": ""
            },
            "type": "mesh3d"
           }
          ],
          "parcoords": [
           {
            "line": {
             "colorbar": {
              "outlinewidth": 0,
              "ticks": ""
             }
            },
            "type": "parcoords"
           }
          ],
          "pie": [
           {
            "automargin": true,
            "type": "pie"
           }
          ],
          "scatter": [
           {
            "fillpattern": {
             "fillmode": "overlay",
             "size": 10,
             "solidity": 0.2
            },
            "type": "scatter"
           }
          ],
          "scatter3d": [
           {
            "line": {
             "colorbar": {
              "outlinewidth": 0,
              "ticks": ""
             }
            },
            "marker": {
             "colorbar": {
              "outlinewidth": 0,
              "ticks": ""
             }
            },
            "type": "scatter3d"
           }
          ],
          "scattercarpet": [
           {
            "marker": {
             "colorbar": {
              "outlinewidth": 0,
              "ticks": ""
             }
            },
            "type": "scattercarpet"
           }
          ],
          "scattergeo": [
           {
            "marker": {
             "colorbar": {
              "outlinewidth": 0,
              "ticks": ""
             }
            },
            "type": "scattergeo"
           }
          ],
          "scattergl": [
           {
            "marker": {
             "colorbar": {
              "outlinewidth": 0,
              "ticks": ""
             }
            },
            "type": "scattergl"
           }
          ],
          "scattermapbox": [
           {
            "marker": {
             "colorbar": {
              "outlinewidth": 0,
              "ticks": ""
             }
            },
            "type": "scattermapbox"
           }
          ],
          "scatterpolar": [
           {
            "marker": {
             "colorbar": {
              "outlinewidth": 0,
              "ticks": ""
             }
            },
            "type": "scatterpolar"
           }
          ],
          "scatterpolargl": [
           {
            "marker": {
             "colorbar": {
              "outlinewidth": 0,
              "ticks": ""
             }
            },
            "type": "scatterpolargl"
           }
          ],
          "scatterternary": [
           {
            "marker": {
             "colorbar": {
              "outlinewidth": 0,
              "ticks": ""
             }
            },
            "type": "scatterternary"
           }
          ],
          "surface": [
           {
            "colorbar": {
             "outlinewidth": 0,
             "ticks": ""
            },
            "colorscale": [
             [
              0,
              "#0d0887"
             ],
             [
              0.1111111111111111,
              "#46039f"
             ],
             [
              0.2222222222222222,
              "#7201a8"
             ],
             [
              0.3333333333333333,
              "#9c179e"
             ],
             [
              0.4444444444444444,
              "#bd3786"
             ],
             [
              0.5555555555555556,
              "#d8576b"
             ],
             [
              0.6666666666666666,
              "#ed7953"
             ],
             [
              0.7777777777777778,
              "#fb9f3a"
             ],
             [
              0.8888888888888888,
              "#fdca26"
             ],
             [
              1,
              "#f0f921"
             ]
            ],
            "type": "surface"
           }
          ],
          "table": [
           {
            "cells": {
             "fill": {
              "color": "#EBF0F8"
             },
             "line": {
              "color": "white"
             }
            },
            "header": {
             "fill": {
              "color": "#C8D4E3"
             },
             "line": {
              "color": "white"
             }
            },
            "type": "table"
           }
          ]
         },
         "layout": {
          "annotationdefaults": {
           "arrowcolor": "#2a3f5f",
           "arrowhead": 0,
           "arrowwidth": 1
          },
          "autotypenumbers": "strict",
          "coloraxis": {
           "colorbar": {
            "outlinewidth": 0,
            "ticks": ""
           }
          },
          "colorscale": {
           "diverging": [
            [
             0,
             "#8e0152"
            ],
            [
             0.1,
             "#c51b7d"
            ],
            [
             0.2,
             "#de77ae"
            ],
            [
             0.3,
             "#f1b6da"
            ],
            [
             0.4,
             "#fde0ef"
            ],
            [
             0.5,
             "#f7f7f7"
            ],
            [
             0.6,
             "#e6f5d0"
            ],
            [
             0.7,
             "#b8e186"
            ],
            [
             0.8,
             "#7fbc41"
            ],
            [
             0.9,
             "#4d9221"
            ],
            [
             1,
             "#276419"
            ]
           ],
           "sequential": [
            [
             0,
             "#0d0887"
            ],
            [
             0.1111111111111111,
             "#46039f"
            ],
            [
             0.2222222222222222,
             "#7201a8"
            ],
            [
             0.3333333333333333,
             "#9c179e"
            ],
            [
             0.4444444444444444,
             "#bd3786"
            ],
            [
             0.5555555555555556,
             "#d8576b"
            ],
            [
             0.6666666666666666,
             "#ed7953"
            ],
            [
             0.7777777777777778,
             "#fb9f3a"
            ],
            [
             0.8888888888888888,
             "#fdca26"
            ],
            [
             1,
             "#f0f921"
            ]
           ],
           "sequentialminus": [
            [
             0,
             "#0d0887"
            ],
            [
             0.1111111111111111,
             "#46039f"
            ],
            [
             0.2222222222222222,
             "#7201a8"
            ],
            [
             0.3333333333333333,
             "#9c179e"
            ],
            [
             0.4444444444444444,
             "#bd3786"
            ],
            [
             0.5555555555555556,
             "#d8576b"
            ],
            [
             0.6666666666666666,
             "#ed7953"
            ],
            [
             0.7777777777777778,
             "#fb9f3a"
            ],
            [
             0.8888888888888888,
             "#fdca26"
            ],
            [
             1,
             "#f0f921"
            ]
           ]
          },
          "colorway": [
           "#636efa",
           "#EF553B",
           "#00cc96",
           "#ab63fa",
           "#FFA15A",
           "#19d3f3",
           "#FF6692",
           "#B6E880",
           "#FF97FF",
           "#FECB52"
          ],
          "font": {
           "color": "#2a3f5f"
          },
          "geo": {
           "bgcolor": "white",
           "lakecolor": "white",
           "landcolor": "#E5ECF6",
           "showlakes": true,
           "showland": true,
           "subunitcolor": "white"
          },
          "hoverlabel": {
           "align": "left"
          },
          "hovermode": "closest",
          "mapbox": {
           "style": "light"
          },
          "paper_bgcolor": "white",
          "plot_bgcolor": "#E5ECF6",
          "polar": {
           "angularaxis": {
            "gridcolor": "white",
            "linecolor": "white",
            "ticks": ""
           },
           "bgcolor": "#E5ECF6",
           "radialaxis": {
            "gridcolor": "white",
            "linecolor": "white",
            "ticks": ""
           }
          },
          "scene": {
           "xaxis": {
            "backgroundcolor": "#E5ECF6",
            "gridcolor": "white",
            "gridwidth": 2,
            "linecolor": "white",
            "showbackground": true,
            "ticks": "",
            "zerolinecolor": "white"
           },
           "yaxis": {
            "backgroundcolor": "#E5ECF6",
            "gridcolor": "white",
            "gridwidth": 2,
            "linecolor": "white",
            "showbackground": true,
            "ticks": "",
            "zerolinecolor": "white"
           },
           "zaxis": {
            "backgroundcolor": "#E5ECF6",
            "gridcolor": "white",
            "gridwidth": 2,
            "linecolor": "white",
            "showbackground": true,
            "ticks": "",
            "zerolinecolor": "white"
           }
          },
          "shapedefaults": {
           "line": {
            "color": "#2a3f5f"
           }
          },
          "ternary": {
           "aaxis": {
            "gridcolor": "white",
            "linecolor": "white",
            "ticks": ""
           },
           "baxis": {
            "gridcolor": "white",
            "linecolor": "white",
            "ticks": ""
           },
           "bgcolor": "#E5ECF6",
           "caxis": {
            "gridcolor": "white",
            "linecolor": "white",
            "ticks": ""
           }
          },
          "title": {
           "x": 0.05
          },
          "xaxis": {
           "automargin": true,
           "gridcolor": "white",
           "linecolor": "white",
           "ticks": "",
           "title": {
            "standoff": 15
           },
           "zerolinecolor": "white",
           "zerolinewidth": 2
          },
          "yaxis": {
           "automargin": true,
           "gridcolor": "white",
           "linecolor": "white",
           "ticks": "",
           "title": {
            "standoff": 15
           },
           "zerolinecolor": "white",
           "zerolinewidth": 2
          }
         }
        },
        "title": {
         "text": "Efficiency at 0.00 degrees, with model Sprott"
        },
        "xaxis": {
         "anchor": "y",
         "domain": [
          0,
          1
         ],
         "title": {
          "text": "Load"
         }
        },
        "yaxis": {
         "anchor": "x",
         "domain": [
          0,
          1
         ],
         "title": {
          "text": "Water ration * Km"
         }
        }
       }
      }
     },
     "metadata": {},
     "output_type": "display_data"
    },
    {
     "data": {
      "application/vnd.plotly.v1+json": {
       "config": {
        "plotlyServerURL": "https://plotly.com"
       },
       "data": [
        {
         "mode": "lines",
         "name": "Baby Carriage",
         "type": "scatter",
         "x": [
          0,
          0.7142857142857143,
          1.4285714285714286,
          2.142857142857143,
          2.857142857142857,
          3.5714285714285716,
          4.285714285714286,
          5,
          5.714285714285714,
          6.428571428571429,
          7.142857142857143,
          7.857142857142858,
          8.571428571428571,
          9.285714285714286,
          10
         ],
         "y": [
          1.0787712474001343,
          1.0758254422587932,
          1.0728920784355054,
          1.0699724737529583,
          1.067067920524743,
          1.0641796827226848,
          1.0613089932785142,
          1.0584570515329845,
          1.0556250208442508,
          1.05281402636593,
          1.0500251530038138,
          1.0472594435586735,
          1.0445178970610622,
          1.0418014673024478,
          1.0391110615654566
         ]
        },
        {
         "mode": "lines",
         "name": "Backpack",
         "type": "scatter",
         "x": [
          0,
          0.7142857142857143,
          1.4285714285714286,
          2.142857142857143,
          2.857142857142857,
          3.5714285714285716,
          4.285714285714286,
          5,
          5.714285714285714,
          6.428571428571429,
          7.142857142857143,
          7.857142857142858,
          8.571428571428571,
          9.285714285714286,
          10
         ],
         "y": [
          0.8985358003813708,
          0.8964917099657483,
          0.8944532295646201,
          0.8924212975034129,
          0.8903968390013408,
          0.8883807640888561,
          0.8863739656003062,
          0.8843773172519264,
          0.8823916718145258,
          0.8804178593893692,
          0.878456685794843,
          0.8765089310705144,
          0.8745753481041859,
          0.8726566613865016,
          0.8707535658966057
         ]
        },
        {
         "mode": "lines",
         "name": "Bicycle",
         "type": "scatter",
         "x": [
          0,
          0.7142857142857143,
          1.4285714285714286,
          2.142857142857143,
          2.857142857142857,
          3.5714285714285716,
          4.285714285714286,
          5,
          5.714285714285714,
          6.428571428571429,
          7.142857142857143,
          7.857142857142858,
          8.571428571428571,
          9.285714285714286,
          10
         ],
         "y": [
          1.8036104326229372,
          1.7639669757847996,
          1.7252902309864735,
          1.687589897300035,
          1.6508726081400067,
          1.6151420085577373,
          1.5803988579308201,
          1.5466411553178916,
          1.5138642844228472,
          1.4820611748942145,
          1.4512224765752537,
          1.4213367433133115,
          1.3923906230238319,
          1.364369050872708,
          1.337255442675633
         ]
        },
        {
         "mode": "lines",
         "name": "Buckets",
         "type": "scatter",
         "x": [
          0,
          0.7142857142857143,
          1.4285714285714286,
          2.142857142857143,
          2.857142857142857,
          3.5714285714285716,
          4.285714285714286,
          5,
          5.714285714285714,
          6.428571428571429,
          7.142857142857143,
          7.857142857142858,
          8.571428571428571,
          9.285714285714286,
          10
         ],
         "y": [
          0.9514353372027661,
          0.9498944011167998,
          0.9483566811091371,
          0.9468228871821158,
          0.945293721365263,
          0.9437698761232927,
          0.9422520328120239,
          0.9407408601901248,
          0.9392370129940841,
          0.9377411305832221,
          0.9362538356609453,
          0.9347757330777446,
          0.9333074087207377,
          0.9318494284938114,
          0.9304023373916441
         ]
        },
        {
         "mode": "lines",
         "name": "Cycle Rickshaw",
         "type": "scatter",
         "x": [
          0,
          0.7142857142857143,
          1.4285714285714286,
          2.142857142857143,
          2.857142857142857,
          3.5714285714285716,
          4.285714285714286,
          5,
          5.714285714285714,
          6.428571428571429,
          7.142857142857143,
          7.857142857142858,
          8.571428571428571,
          9.285714285714286,
          10
         ],
         "y": [
          1.4383859595762392,
          1.3779951956833894,
          1.3209653822419518,
          1.2671730478243866,
          1.2164838341980317,
          1.1687557446142962,
          1.1238421222491124,
          1.081594289066589,
          1.0418638081538887,
          1.004504360295376,
          0.9693732470572497,
          0.9363325478100999,
          0.9404795827285227,
          0.9464556719601287,
          0.9491333474232727
         ]
        },
        {
         "mode": "lines",
         "name": "Hand Cart",
         "type": "scatter",
         "x": [
          0,
          0.7142857142857143,
          1.4285714285714286,
          2.142857142857143,
          2.857142857142857,
          3.5714285714285716,
          4.285714285714286,
          5,
          5.714285714285714,
          6.428571428571429,
          7.142857142857143,
          7.857142857142858,
          8.571428571428571,
          9.285714285714286,
          10
         ],
         "y": [
          0.9412700233346911,
          0.918815357620271,
          0.8970189945011698,
          0.8758795368341825,
          0.8553936329140762,
          0.8355561013472101,
          0.8163600675683899,
          0.7977971089141614,
          0.7798574052321982,
          0.7625298921608644,
          0.7698389467034631,
          0.7791644075427402,
          0.7879141542587861,
          0.7941324782979715,
          0.8010925015375286
         ]
        },
        {
         "mode": "lines",
         "name": "Hand Truck",
         "type": "scatter",
         "x": [
          0,
          0.7142857142857143,
          1.4285714285714286,
          2.142857142857143,
          2.857142857142857,
          3.5714285714285716,
          4.285714285714286,
          5,
          5.714285714285714,
          6.428571428571429,
          7.142857142857143,
          7.857142857142858,
          8.571428571428571,
          9.285714285714286,
          10
         ],
         "y": [
          1.0206843431217194,
          1.0090168660349172,
          0.9975103472861656,
          0.986168956748853,
          0.9749965121219392,
          0.963996475558042,
          0.9531719521711114,
          0.9425256903740485,
          0.9320600839796112,
          0.921777175982543,
          0.9116786639272992,
          0.9017659067541133,
          0.8920399330066062,
          0.8825014502766628,
          0.8731508557569305
         ]
        },
        {
         "mode": "lines",
         "name": "Luggage",
         "type": "scatter",
         "x": [
          0,
          0.7142857142857143,
          1.4285714285714286,
          2.142857142857143,
          2.857142857142857,
          3.5714285714285716,
          4.285714285714286,
          5,
          5.714285714285714,
          6.428571428571429,
          7.142857142857143,
          7.857142857142858,
          8.571428571428571,
          9.285714285714286,
          10
         ],
         "y": [
          1.0824939180636306,
          1.0801283478100785,
          1.0777714348022347,
          1.075424245178344,
          1.0730878270938946,
          1.0707632083995593,
          1.0684513944156488,
          1.0661533658140985,
          1.0638700766180649,
          1.0616024523281664,
          1.0593513881833128,
          1.0571177475629112,
          1.054902360536043,
          1.0527060225619995,
          1.0505294933453375
         ]
        },
        {
         "mode": "lines",
         "name": "Roller skates",
         "type": "scatter",
         "x": [
          0,
          0.7142857142857143,
          1.4285714285714286,
          2.142857142857143,
          2.857142857142857,
          3.5714285714285716,
          4.285714285714286,
          5,
          5.714285714285714,
          6.428571428571429,
          7.142857142857143,
          7.857142857142858,
          8.571428571428571,
          9.285714285714286,
          10
         ],
         "y": [
          1.424254595495386,
          1.405005536882272,
          1.3860692535578614,
          1.3674518724746647,
          1.3491588030678543,
          1.3311947389189476,
          1.31356366340481,
          1.2962688591331895,
          1.279312920930123,
          1.2626977721141242,
          1.2464246837673771,
          1.2304942966954238,
          1.2149066457539268,
          1.199661186213994,
          1.1847568218358333
         ]
        },
        {
         "mode": "lines",
         "name": "Rolling Container",
         "type": "scatter",
         "x": [
          0,
          0.7142857142857143,
          1.4285714285714286,
          2.142857142857143,
          2.857142857142857,
          3.5714285714285716,
          4.285714285714286,
          5,
          5.714285714285714,
          6.428571428571429,
          7.142857142857143,
          7.857142857142858,
          8.571428571428571,
          9.285714285714286,
          10
         ],
         "y": [
          1.072595732627319,
          1.0570657190298893,
          1.0417796612313266,
          1.0267435509900804,
          1.0119627708983432,
          0.997442090027458,
          0.9831856633990737,
          0.9691970351637853,
          0.9554791453264175,
          0.942034339818967,
          0.9288643836891488,
          0.915970477144984,
          0.9033532741741462,
          0.8910129034410212,
          0.8789489911545159
         ]
        },
        {
         "mode": "lines",
         "name": "Scooter",
         "type": "scatter",
         "x": [
          0,
          0.7142857142857143,
          1.4285714285714286,
          2.142857142857143,
          2.857142857142857,
          3.5714285714285716,
          4.285714285714286,
          5,
          5.714285714285714,
          6.428571428571429,
          7.142857142857143,
          7.857142857142858,
          8.571428571428571,
          9.285714285714286,
          10
         ],
         "y": [
          1.4286407686343354,
          1.4100144986442125,
          1.3916803152595176,
          1.3736443296185028,
          1.3559119903502876,
          1.3384880833521478,
          1.321376735211908,
          1.304581420113969,
          1.2881049700345661,
          1.271949588003443,
          1.2561168641855507,
          1.2406077945178022,
          1.2254228016223896,
          1.2105617577096097,
          1.19602400917937
         ]
        },
        {
         "mode": "lines",
         "name": "Shopping Trolley",
         "type": "scatter",
         "x": [
          0,
          0.7142857142857143,
          1.4285714285714286,
          2.142857142857143,
          2.857142857142857,
          3.5714285714285716,
          4.285714285714286,
          5,
          5.714285714285714,
          6.428571428571429,
          7.142857142857143,
          7.857142857142858,
          8.571428571428571,
          9.285714285714286,
          10
         ],
         "y": [
          0.9695219534635976,
          0.9507411027770044,
          0.9324010101301091,
          0.9145044554817985,
          0.8970530450572953,
          0.8800472524224824,
          0.863486466736915,
          0.8473690471876075,
          0.8316923825625516,
          0.8164529549075228,
          0.8016464062201054,
          0.787267607168368,
          0.7879141542587861,
          0.7941324782979715,
          0.8010925015375286
         ]
        },
        {
         "mode": "lines",
         "name": "Skateboard",
         "type": "scatter",
         "x": [
          0,
          0.7142857142857143,
          1.4285714285714286,
          2.142857142857143,
          2.857142857142857,
          3.5714285714285716,
          4.285714285714286,
          5,
          5.714285714285714,
          6.428571428571429,
          7.142857142857143,
          7.857142857142858,
          8.571428571428571,
          9.285714285714286,
          10
         ],
         "y": [
          1.403676391964071,
          1.381544184542045,
          1.3598317981188863,
          1.338545087200978,
          1.3176888876907615,
          1.2972670318085722,
          1.2772823689278288,
          1.2577367918579576,
          1.2386312680586726,
          1.2199658752308906,
          1.201739840703733,
          1.183951584023443,
          1.1665987621480305,
          1.1496783166601177,
          1.1331865224286901
         ]
        },
        {
         "mode": "lines",
         "name": "Stretcher",
         "type": "scatter",
         "x": [
          0,
          0.7142857142857143,
          1.4285714285714286,
          2.142857142857143,
          2.857142857142857,
          3.5714285714285716,
          4.285714285714286,
          5,
          5.714285714285714,
          6.428571428571429,
          7.142857142857143,
          7.857142857142858,
          8.571428571428571,
          9.285714285714286,
          10
         ],
         "y": [
          0.5813131066212277,
          0.5768650476767598,
          0.5724533324405611,
          0.5680799321205302,
          0.5637467389885109,
          0.559455562503791,
          0.5552081258584483,
          0.5510060629575454,
          0.5468509158431569,
          0.5427441325671686,
          0.5386870655138349,
          0.5346809701692329,
          0.530727004331075,
          0.5268262277488799,
          0.5229796021812957
         ]
        },
        {
         "mode": "lines",
         "name": "Wheelbarrow",
         "type": "scatter",
         "x": [
          0,
          0.7142857142857143,
          1.4285714285714286,
          2.142857142857143,
          2.857142857142857,
          3.5714285714285716,
          4.285714285714286,
          5,
          5.714285714285714,
          6.428571428571429,
          7.142857142857143,
          7.857142857142858,
          8.571428571428571,
          9.285714285714286,
          10
         ],
         "y": [
          0.9927546725739689,
          0.9771333226332121,
          0.9618076799936661,
          0.9467818902653744,
          0.9320593821750963,
          0.9176428779428043,
          0.903534407817451,
          0.889735328446356,
          0.8762463447168204,
          0.8630675346815101,
          0.850198377160855,
          0.8376377816059395,
          0.8253841198037486,
          0.813435259012493,
          0.8017885961273221
         ]
        },
        {
         "mode": "lines",
         "name": "Wheelchair",
         "type": "scatter",
         "x": [
          0,
          0.7142857142857143,
          1.4285714285714286,
          2.142857142857143,
          2.857142857142857,
          3.5714285714285716,
          4.285714285714286,
          5,
          5.714285714285714,
          6.428571428571429,
          7.142857142857143,
          7.857142857142858,
          8.571428571428571,
          9.285714285714286,
          10
         ],
         "y": [
          1.0357073953135865,
          1.0262333393991199,
          1.0168651848701549,
          1.007606631757518,
          0.9984611582234125,
          0.9894320151700887,
          0.9805222219916814,
          0.9717345634669546,
          0.9630715877804102,
          0.9545356056494146,
          0.9461286905258605,
          0.9378526798324637,
          0.9297091771862508,
          0.9216995555551313,
          0.9138249612877791
         ]
        }
       ],
       "layout": {
        "template": {
         "data": {
          "bar": [
           {
            "error_x": {
             "color": "#2a3f5f"
            },
            "error_y": {
             "color": "#2a3f5f"
            },
            "marker": {
             "line": {
              "color": "#E5ECF6",
              "width": 0.5
             },
             "pattern": {
              "fillmode": "overlay",
              "size": 10,
              "solidity": 0.2
             }
            },
            "type": "bar"
           }
          ],
          "barpolar": [
           {
            "marker": {
             "line": {
              "color": "#E5ECF6",
              "width": 0.5
             },
             "pattern": {
              "fillmode": "overlay",
              "size": 10,
              "solidity": 0.2
             }
            },
            "type": "barpolar"
           }
          ],
          "carpet": [
           {
            "aaxis": {
             "endlinecolor": "#2a3f5f",
             "gridcolor": "white",
             "linecolor": "white",
             "minorgridcolor": "white",
             "startlinecolor": "#2a3f5f"
            },
            "baxis": {
             "endlinecolor": "#2a3f5f",
             "gridcolor": "white",
             "linecolor": "white",
             "minorgridcolor": "white",
             "startlinecolor": "#2a3f5f"
            },
            "type": "carpet"
           }
          ],
          "choropleth": [
           {
            "colorbar": {
             "outlinewidth": 0,
             "ticks": ""
            },
            "type": "choropleth"
           }
          ],
          "contour": [
           {
            "colorbar": {
             "outlinewidth": 0,
             "ticks": ""
            },
            "colorscale": [
             [
              0,
              "#0d0887"
             ],
             [
              0.1111111111111111,
              "#46039f"
             ],
             [
              0.2222222222222222,
              "#7201a8"
             ],
             [
              0.3333333333333333,
              "#9c179e"
             ],
             [
              0.4444444444444444,
              "#bd3786"
             ],
             [
              0.5555555555555556,
              "#d8576b"
             ],
             [
              0.6666666666666666,
              "#ed7953"
             ],
             [
              0.7777777777777778,
              "#fb9f3a"
             ],
             [
              0.8888888888888888,
              "#fdca26"
             ],
             [
              1,
              "#f0f921"
             ]
            ],
            "type": "contour"
           }
          ],
          "contourcarpet": [
           {
            "colorbar": {
             "outlinewidth": 0,
             "ticks": ""
            },
            "type": "contourcarpet"
           }
          ],
          "heatmap": [
           {
            "colorbar": {
             "outlinewidth": 0,
             "ticks": ""
            },
            "colorscale": [
             [
              0,
              "#0d0887"
             ],
             [
              0.1111111111111111,
              "#46039f"
             ],
             [
              0.2222222222222222,
              "#7201a8"
             ],
             [
              0.3333333333333333,
              "#9c179e"
             ],
             [
              0.4444444444444444,
              "#bd3786"
             ],
             [
              0.5555555555555556,
              "#d8576b"
             ],
             [
              0.6666666666666666,
              "#ed7953"
             ],
             [
              0.7777777777777778,
              "#fb9f3a"
             ],
             [
              0.8888888888888888,
              "#fdca26"
             ],
             [
              1,
              "#f0f921"
             ]
            ],
            "type": "heatmap"
           }
          ],
          "heatmapgl": [
           {
            "colorbar": {
             "outlinewidth": 0,
             "ticks": ""
            },
            "colorscale": [
             [
              0,
              "#0d0887"
             ],
             [
              0.1111111111111111,
              "#46039f"
             ],
             [
              0.2222222222222222,
              "#7201a8"
             ],
             [
              0.3333333333333333,
              "#9c179e"
             ],
             [
              0.4444444444444444,
              "#bd3786"
             ],
             [
              0.5555555555555556,
              "#d8576b"
             ],
             [
              0.6666666666666666,
              "#ed7953"
             ],
             [
              0.7777777777777778,
              "#fb9f3a"
             ],
             [
              0.8888888888888888,
              "#fdca26"
             ],
             [
              1,
              "#f0f921"
             ]
            ],
            "type": "heatmapgl"
           }
          ],
          "histogram": [
           {
            "marker": {
             "pattern": {
              "fillmode": "overlay",
              "size": 10,
              "solidity": 0.2
             }
            },
            "type": "histogram"
           }
          ],
          "histogram2d": [
           {
            "colorbar": {
             "outlinewidth": 0,
             "ticks": ""
            },
            "colorscale": [
             [
              0,
              "#0d0887"
             ],
             [
              0.1111111111111111,
              "#46039f"
             ],
             [
              0.2222222222222222,
              "#7201a8"
             ],
             [
              0.3333333333333333,
              "#9c179e"
             ],
             [
              0.4444444444444444,
              "#bd3786"
             ],
             [
              0.5555555555555556,
              "#d8576b"
             ],
             [
              0.6666666666666666,
              "#ed7953"
             ],
             [
              0.7777777777777778,
              "#fb9f3a"
             ],
             [
              0.8888888888888888,
              "#fdca26"
             ],
             [
              1,
              "#f0f921"
             ]
            ],
            "type": "histogram2d"
           }
          ],
          "histogram2dcontour": [
           {
            "colorbar": {
             "outlinewidth": 0,
             "ticks": ""
            },
            "colorscale": [
             [
              0,
              "#0d0887"
             ],
             [
              0.1111111111111111,
              "#46039f"
             ],
             [
              0.2222222222222222,
              "#7201a8"
             ],
             [
              0.3333333333333333,
              "#9c179e"
             ],
             [
              0.4444444444444444,
              "#bd3786"
             ],
             [
              0.5555555555555556,
              "#d8576b"
             ],
             [
              0.6666666666666666,
              "#ed7953"
             ],
             [
              0.7777777777777778,
              "#fb9f3a"
             ],
             [
              0.8888888888888888,
              "#fdca26"
             ],
             [
              1,
              "#f0f921"
             ]
            ],
            "type": "histogram2dcontour"
           }
          ],
          "mesh3d": [
           {
            "colorbar": {
             "outlinewidth": 0,
             "ticks": ""
            },
            "type": "mesh3d"
           }
          ],
          "parcoords": [
           {
            "line": {
             "colorbar": {
              "outlinewidth": 0,
              "ticks": ""
             }
            },
            "type": "parcoords"
           }
          ],
          "pie": [
           {
            "automargin": true,
            "type": "pie"
           }
          ],
          "scatter": [
           {
            "fillpattern": {
             "fillmode": "overlay",
             "size": 10,
             "solidity": 0.2
            },
            "type": "scatter"
           }
          ],
          "scatter3d": [
           {
            "line": {
             "colorbar": {
              "outlinewidth": 0,
              "ticks": ""
             }
            },
            "marker": {
             "colorbar": {
              "outlinewidth": 0,
              "ticks": ""
             }
            },
            "type": "scatter3d"
           }
          ],
          "scattercarpet": [
           {
            "marker": {
             "colorbar": {
              "outlinewidth": 0,
              "ticks": ""
             }
            },
            "type": "scattercarpet"
           }
          ],
          "scattergeo": [
           {
            "marker": {
             "colorbar": {
              "outlinewidth": 0,
              "ticks": ""
             }
            },
            "type": "scattergeo"
           }
          ],
          "scattergl": [
           {
            "marker": {
             "colorbar": {
              "outlinewidth": 0,
              "ticks": ""
             }
            },
            "type": "scattergl"
           }
          ],
          "scattermapbox": [
           {
            "marker": {
             "colorbar": {
              "outlinewidth": 0,
              "ticks": ""
             }
            },
            "type": "scattermapbox"
           }
          ],
          "scatterpolar": [
           {
            "marker": {
             "colorbar": {
              "outlinewidth": 0,
              "ticks": ""
             }
            },
            "type": "scatterpolar"
           }
          ],
          "scatterpolargl": [
           {
            "marker": {
             "colorbar": {
              "outlinewidth": 0,
              "ticks": ""
             }
            },
            "type": "scatterpolargl"
           }
          ],
          "scatterternary": [
           {
            "marker": {
             "colorbar": {
              "outlinewidth": 0,
              "ticks": ""
             }
            },
            "type": "scatterternary"
           }
          ],
          "surface": [
           {
            "colorbar": {
             "outlinewidth": 0,
             "ticks": ""
            },
            "colorscale": [
             [
              0,
              "#0d0887"
             ],
             [
              0.1111111111111111,
              "#46039f"
             ],
             [
              0.2222222222222222,
              "#7201a8"
             ],
             [
              0.3333333333333333,
              "#9c179e"
             ],
             [
              0.4444444444444444,
              "#bd3786"
             ],
             [
              0.5555555555555556,
              "#d8576b"
             ],
             [
              0.6666666666666666,
              "#ed7953"
             ],
             [
              0.7777777777777778,
              "#fb9f3a"
             ],
             [
              0.8888888888888888,
              "#fdca26"
             ],
             [
              1,
              "#f0f921"
             ]
            ],
            "type": "surface"
           }
          ],
          "table": [
           {
            "cells": {
             "fill": {
              "color": "#EBF0F8"
             },
             "line": {
              "color": "white"
             }
            },
            "header": {
             "fill": {
              "color": "#C8D4E3"
             },
             "line": {
              "color": "white"
             }
            },
            "type": "table"
           }
          ]
         },
         "layout": {
          "annotationdefaults": {
           "arrowcolor": "#2a3f5f",
           "arrowhead": 0,
           "arrowwidth": 1
          },
          "autotypenumbers": "strict",
          "coloraxis": {
           "colorbar": {
            "outlinewidth": 0,
            "ticks": ""
           }
          },
          "colorscale": {
           "diverging": [
            [
             0,
             "#8e0152"
            ],
            [
             0.1,
             "#c51b7d"
            ],
            [
             0.2,
             "#de77ae"
            ],
            [
             0.3,
             "#f1b6da"
            ],
            [
             0.4,
             "#fde0ef"
            ],
            [
             0.5,
             "#f7f7f7"
            ],
            [
             0.6,
             "#e6f5d0"
            ],
            [
             0.7,
             "#b8e186"
            ],
            [
             0.8,
             "#7fbc41"
            ],
            [
             0.9,
             "#4d9221"
            ],
            [
             1,
             "#276419"
            ]
           ],
           "sequential": [
            [
             0,
             "#0d0887"
            ],
            [
             0.1111111111111111,
             "#46039f"
            ],
            [
             0.2222222222222222,
             "#7201a8"
            ],
            [
             0.3333333333333333,
             "#9c179e"
            ],
            [
             0.4444444444444444,
             "#bd3786"
            ],
            [
             0.5555555555555556,
             "#d8576b"
            ],
            [
             0.6666666666666666,
             "#ed7953"
            ],
            [
             0.7777777777777778,
             "#fb9f3a"
            ],
            [
             0.8888888888888888,
             "#fdca26"
            ],
            [
             1,
             "#f0f921"
            ]
           ],
           "sequentialminus": [
            [
             0,
             "#0d0887"
            ],
            [
             0.1111111111111111,
             "#46039f"
            ],
            [
             0.2222222222222222,
             "#7201a8"
            ],
            [
             0.3333333333333333,
             "#9c179e"
            ],
            [
             0.4444444444444444,
             "#bd3786"
            ],
            [
             0.5555555555555556,
             "#d8576b"
            ],
            [
             0.6666666666666666,
             "#ed7953"
            ],
            [
             0.7777777777777778,
             "#fb9f3a"
            ],
            [
             0.8888888888888888,
             "#fdca26"
            ],
            [
             1,
             "#f0f921"
            ]
           ]
          },
          "colorway": [
           "#636efa",
           "#EF553B",
           "#00cc96",
           "#ab63fa",
           "#FFA15A",
           "#19d3f3",
           "#FF6692",
           "#B6E880",
           "#FF97FF",
           "#FECB52"
          ],
          "font": {
           "color": "#2a3f5f"
          },
          "geo": {
           "bgcolor": "white",
           "lakecolor": "white",
           "landcolor": "#E5ECF6",
           "showlakes": true,
           "showland": true,
           "subunitcolor": "white"
          },
          "hoverlabel": {
           "align": "left"
          },
          "hovermode": "closest",
          "mapbox": {
           "style": "light"
          },
          "paper_bgcolor": "white",
          "plot_bgcolor": "#E5ECF6",
          "polar": {
           "angularaxis": {
            "gridcolor": "white",
            "linecolor": "white",
            "ticks": ""
           },
           "bgcolor": "#E5ECF6",
           "radialaxis": {
            "gridcolor": "white",
            "linecolor": "white",
            "ticks": ""
           }
          },
          "scene": {
           "xaxis": {
            "backgroundcolor": "#E5ECF6",
            "gridcolor": "white",
            "gridwidth": 2,
            "linecolor": "white",
            "showbackground": true,
            "ticks": "",
            "zerolinecolor": "white"
           },
           "yaxis": {
            "backgroundcolor": "#E5ECF6",
            "gridcolor": "white",
            "gridwidth": 2,
            "linecolor": "white",
            "showbackground": true,
            "ticks": "",
            "zerolinecolor": "white"
           },
           "zaxis": {
            "backgroundcolor": "#E5ECF6",
            "gridcolor": "white",
            "gridwidth": 2,
            "linecolor": "white",
            "showbackground": true,
            "ticks": "",
            "zerolinecolor": "white"
           }
          },
          "shapedefaults": {
           "line": {
            "color": "#2a3f5f"
           }
          },
          "ternary": {
           "aaxis": {
            "gridcolor": "white",
            "linecolor": "white",
            "ticks": ""
           },
           "baxis": {
            "gridcolor": "white",
            "linecolor": "white",
            "ticks": ""
           },
           "bgcolor": "#E5ECF6",
           "caxis": {
            "gridcolor": "white",
            "linecolor": "white",
            "ticks": ""
           }
          },
          "title": {
           "x": 0.05
          },
          "xaxis": {
           "automargin": true,
           "gridcolor": "white",
           "linecolor": "white",
           "ticks": "",
           "title": {
            "standoff": 15
           },
           "zerolinecolor": "white",
           "zerolinewidth": 2
          },
          "yaxis": {
           "automargin": true,
           "gridcolor": "white",
           "linecolor": "white",
           "ticks": "",
           "title": {
            "standoff": 15
           },
           "zerolinecolor": "white",
           "zerolinewidth": 2
          }
         }
        },
        "title": {
         "text": "m/s with different slope, maximum kg load, model Sprott"
        },
        "xaxis": {
         "title": {
          "text": "Slope [˚]"
         }
        },
        "yaxis": {
         "title": {
          "text": "m/s"
         }
        }
       }
      }
     },
     "metadata": {},
     "output_type": "display_data"
    }
   ],
   "source": [
    "\n",
    "# mr.velocitykgs\n",
    "\n",
    "\n",
    "\n",
    "mm.plotting_hpv.load_plot_plotly(mr, mo, hpv)\n",
    "mm.plotting_hpv.bar_plot_loading_distance(mr, mo, hpv, mv)\n",
    "mm.plotting_hpv.slope_plot_plotly(mr, mo, hpv)\n",
    "\n"
   ]
  },
  {
   "cell_type": "code",
   "execution_count": 20,
   "metadata": {},
   "outputs": [],
   "source": [
    "slope_name = mr.slope_vector_deg.flat[mo.slope_scene]\n",
    "chart_title = \"Efficiency at %0.2f degrees, with model %s\" % (\n",
    "    slope_name,\n",
    "    mr.model_name,\n",
    ")\n",
    "\n",
    "df = mr.create_dataframe_single_scenario(hpv, mv, mo.load_scene, mo.slope_scene)\n",
    "\n",
    "df.to_csv(\"efficiency.csv\")"
   ]
  }
 ],
 "metadata": {
  "kernelspec": {
   "display_name": "Python 3.9.13 (conda)",
   "language": "python",
   "name": "python3"
  },
  "language_info": {
   "codemirror_mode": {
    "name": "ipython",
    "version": 3
   },
   "file_extension": ".py",
   "mimetype": "text/x-python",
   "name": "python",
   "nbconvert_exporter": "python",
   "pygments_lexer": "ipython3",
   "version": "3.9.13"
  },
  "orig_nbformat": 4,
  "vscode": {
   "interpreter": {
    "hash": "c09a8b249899dc4589e662892666698668e7a3ca1327801a18c24efb244ad2c6"
   }
  }
 },
 "nbformat": 4,
 "nbformat_minor": 2
}
