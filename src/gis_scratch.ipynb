{
 "cells": [
  {
   "cell_type": "code",
   "execution_count": 108,
   "metadata": {},
   "outputs": [],
   "source": [
    "\n",
    "import pathlib\n",
    "import pandas as pd\n",
    "import numpy as np\n",
    "import matplotlib.pyplot as plt\n",
    "import plotly.express as px\n",
    "import weightedstats as ws\n",
    "\n",
    "\n",
    "# consider using this for weighted stats: http://www.ccgalberta.com/pygeostat/welcome.html\n",
    "\n"
   ]
  },
  {
   "cell_type": "code",
   "execution_count": 109,
   "metadata": {},
   "outputs": [],
   "source": [
    "def weighted_mean(var, wts):\n",
    "    \"\"\"Calculates the weighted mean\"\"\"\n",
    "    return np.average(var, weights=wts)\n",
    "\n",
    "def weighted_median(df, val, weight):\n",
    "    \"\"\"Calculates the weighted median\n",
    "    ArithmeticError\n",
    "    If the sum of the weights is zero, or if the weights are not positive.\n",
    "    \"\"\"\n",
    "    df_sorted = df.sort_values(val)\n",
    "    cumsum = df_sorted[weight].cumsum()\n",
    "    cutoff = df_sorted[weight].sum() / 2.\n",
    "    return df_sorted[cumsum >= cutoff][val].iloc[0]\n",
    "\n",
    "def weighted_variance(var, wts):\n",
    "    \"\"\"Calculates the weighted variance\"\"\"\n",
    "    return np.average((var - weighted_mean(var, wts))**2, weights=wts)\n",
    "\n",
    "\n",
    "def weighted_skew(var, wts):\n",
    "    \"\"\"Calculates the weighted skewness\"\"\"\n",
    "    return (np.average((var - weighted_mean(var, wts))**3, weights=wts) /\n",
    "            weighted_variance(var, wts)**(1.5))\n",
    "\n",
    "def weighted_kurtosis(var, wts):\n",
    "    \"\"\"Calculates the weighted skewness\"\"\"\n",
    "    return (np.average((var - weighted_mean(var, wts))**4, weights=wts) /\n",
    "            weighted_variance(var, wts)**(2))"
   ]
  },
  {
   "cell_type": "code",
   "execution_count": 110,
   "metadata": {},
   "outputs": [],
   "source": [
    "\n",
    "def load_data(data_file: str) -> pd.DataFrame:\n",
    "    print \n",
    "    '''\n",
    "    Load data from /data directory\n",
    "    '''\n",
    "    PATH = pathlib.Path().resolve()\n",
    "    DATA_PATH = PATH.joinpath(\"../data\").resolve()\n",
    "    return pd.read_csv(DATA_PATH.joinpath(data_file))\n",
    "\n"
   ]
  },
  {
   "cell_type": "code",
   "execution_count": 111,
   "metadata": {},
   "outputs": [],
   "source": [
    "\n",
    "\n",
    "df1 = load_data(\"rough_pass_kummu_short.csv\")\n",
    "# import df_input and set index as alpha 3 \n",
    "df_input = load_data(\"country_data_master_interpolated.csv\")\n",
    "# set index to alpha 3\n",
    "df_input.set_index(\"alpha3\", inplace=True)\n"
   ]
  },
  {
   "cell_type": "code",
   "execution_count": 112,
   "metadata": {},
   "outputs": [],
   "source": [
    "\n",
    "# assume projection is fine....\n",
    "\n",
    "# # convert population density to percent of national popluation\n",
    "# df1[\"pop_density\"] = df1[\"pop_density\"] / df1[\"pop_density\"].sum()\n",
    "\n",
    "#merge df_input and df1 on ISO_CC (so we can use the UN population data)\n",
    "df1 = df1.merge(df_input.Population, left_on=\"ISO_CC\", right_on=\"alpha3\")\n",
    "df1[\"distance_to_water1\"] = df1[\"distance_to_water1\"] / 1000 # turn to kms\n",
    "\n",
    "\n",
    "# # convert population density to percent of national population on a per country basis, grouped by ISO_CC\n",
    "df1[\"pop_density_perc\"] = df1.groupby(\"ISO_CC\")[\"pop_density1\"].apply(lambda x: x / x.sum())\n",
    "\n",
    "# multiply population density by population on a per country basis\n",
    "df1[\"pop_zone\"] = df1[\"pop_density_perc\"] * df1[\"Population\"]\n",
    "\n",
    "# drop rows where pop_zone is close to zero\n",
    "min_pop = 1000\n",
    "df1 = df1[df1[\"pop_zone\"] > min_pop]\n"
   ]
  },
  {
   "cell_type": "code",
   "execution_count": 113,
   "metadata": {},
   "outputs": [
    {
     "name": "stdout",
     "output_type": "stream",
     "text": [
      "    ISO_CC     median  median ws    Km\n",
      "188    GBR   3.162278   3.162278   2.4\n",
      "189    USA   3.605551   3.605551   3.6\n",
      "190    URY  18.439090  18.439090   9.7\n",
      "191    UZB   4.000000   4.000000   2.3\n",
      "192    VUT   1.414214   1.414214   2.1\n",
      "193    VEN   6.082763   6.082763   5.0\n",
      "194    VNM   2.236068   2.236068   2.1\n",
      "195    YEM  20.808650  20.808650  23.0\n",
      "196    ZMB   2.828427   2.828427   3.0\n",
      "197    ZWE   3.162278   3.162278   3.6\n"
     ]
    }
   ],
   "source": [
    "\n",
    "#create new dataframe with the id, pop_zone, ISO_CC, and distance_to_water columns\n",
    "df2 = df1[[ \"ISO_CC\", \"pop_zone\", \"distance_to_water1\"]]\n",
    "\n",
    "\n",
    "# drop all rows with nans\n",
    "df2 = df2.dropna()\n",
    "\n",
    "# initialize empty list\n",
    "d = []\n",
    "# loop through each country\n",
    "for i in df2[\"ISO_CC\"].unique():\n",
    "    df_country = df2[df2[\"ISO_CC\"] == i]\n",
    "    # if rows in dataframe are more than 1, calculate weighted median\n",
    "    if len(df_country) > 1:\n",
    "        median = weighted_median(df_country, \"distance_to_water1\", \"pop_zone\")\n",
    "        # median_ws = ws.weighted_median(df_country['distance_to_water1'], weights=df_country['pop_zone'])\n",
    "        df_country_np = df_country.to_numpy()\n",
    "        median_ws = ws.numpy_weighted_median(df_country_np[:, 2], weights=df_country_np[:, 1])\n",
    "\n",
    "    else:\n",
    "        median = df_country[\"distance_to_water1\"].values[0]\n",
    "        median_ws = median\n",
    "\n",
    "    d.append(\n",
    "        {\n",
    "            \"ISO_CC\": i,\n",
    "            \"median\": median,\n",
    "            \"median ws\": median_ws\n",
    "        }\n",
    "    )\n",
    "\n",
    "df_out = pd.DataFrame(d)\n",
    "df_out = df_out.merge(df_input, left_on=\"ISO_CC\", right_on=\"alpha3\")\n",
    "\n",
    "df_compare = df_out[[\"ISO_CC\", \"median\", \"median ws\", \"Km\"]]\n",
    "\n",
    "print(df_compare.tail(10))\n",
    "\n",
    "# px.scatter(df2, x=\"distance_to_water1\", y=\"pop_zone\", color=\"ISO_CC\")\n",
    "\n",
    "\n",
    "\n",
    "\n",
    "\n",
    "\n"
   ]
  },
  {
   "cell_type": "code",
   "execution_count": 115,
   "metadata": {},
   "outputs": [
    {
     "data": {
      "application/vnd.plotly.v1+json": {
       "config": {
        "plotlyServerURL": "https://plotly.com"
       },
       "data": [
        {
         "hovertemplate": "ISO_CC=AFG<br>median=%{x}<br>Km=%{y}<extra></extra>",
         "legendgroup": "AFG",
         "marker": {
          "color": "#636efa",
          "symbol": "circle"
         },
         "mode": "markers",
         "name": "AFG",
         "orientation": "v",
         "showlegend": true,
         "type": "scatter",
         "x": [
          5.8309521484375
         ],
         "xaxis": "x",
         "y": [
          3.7
         ],
         "yaxis": "y"
        },
        {
         "hovertemplate": "ISO_CC=ALB<br>median=%{x}<br>Km=%{y}<extra></extra>",
         "legendgroup": "ALB",
         "marker": {
          "color": "#EF553B",
          "symbol": "circle"
         },
         "mode": "markers",
         "name": "ALB",
         "orientation": "v",
         "showlegend": true,
         "type": "scatter",
         "x": [
          2.82842700195312
         ],
         "xaxis": "x",
         "y": [
          2.8
         ],
         "yaxis": "y"
        },
        {
         "hovertemplate": "ISO_CC=DZA<br>median=%{x}<br>Km=%{y}<extra></extra>",
         "legendgroup": "DZA",
         "marker": {
          "color": "#00cc96",
          "symbol": "circle"
         },
         "mode": "markers",
         "name": "DZA",
         "orientation": "v",
         "showlegend": true,
         "type": "scatter",
         "x": [
          5.8309521484375
         ],
         "xaxis": "x",
         "y": [
          6
         ],
         "yaxis": "y"
        },
        {
         "hovertemplate": "ISO_CC=AND<br>median=%{x}<br>Km=%{y}<extra></extra>",
         "legendgroup": "AND",
         "marker": {
          "color": "#ab63fa",
          "symbol": "circle"
         },
         "mode": "markers",
         "name": "AND",
         "orientation": "v",
         "showlegend": true,
         "type": "scatter",
         "x": [
          4.47213623046875
         ],
         "xaxis": "x",
         "y": [
          2.9
         ],
         "yaxis": "y"
        },
        {
         "hovertemplate": "ISO_CC=AGO<br>median=%{x}<br>Km=%{y}<extra></extra>",
         "legendgroup": "AGO",
         "marker": {
          "color": "#FFA15A",
          "symbol": "circle"
         },
         "mode": "markers",
         "name": "AGO",
         "orientation": "v",
         "showlegend": true,
         "type": "scatter",
         "x": [
          4.12310498046875
         ],
         "xaxis": "x",
         "y": [
          4.2
         ],
         "yaxis": "y"
        },
        {
         "hovertemplate": "ISO_CC=ARG<br>median=%{x}<br>Km=%{y}<extra></extra>",
         "legendgroup": "ARG",
         "marker": {
          "color": "#19d3f3",
          "symbol": "circle"
         },
         "mode": "markers",
         "name": "ARG",
         "orientation": "v",
         "showlegend": true,
         "type": "scatter",
         "x": [
          5.09902001953125
         ],
         "xaxis": "x",
         "y": [
          4.8
         ],
         "yaxis": "y"
        },
        {
         "hovertemplate": "ISO_CC=ARM<br>median=%{x}<br>Km=%{y}<extra></extra>",
         "legendgroup": "ARM",
         "marker": {
          "color": "#FF6692",
          "symbol": "circle"
         },
         "mode": "markers",
         "name": "ARM",
         "orientation": "v",
         "showlegend": true,
         "type": "scatter",
         "x": [
          4
         ],
         "xaxis": "x",
         "y": [
          2.15
         ],
         "yaxis": "y"
        },
        {
         "hovertemplate": "ISO_CC=AUS<br>median=%{x}<br>Km=%{y}<extra></extra>",
         "legendgroup": "AUS",
         "marker": {
          "color": "#B6E880",
          "symbol": "circle"
         },
         "mode": "markers",
         "name": "AUS",
         "orientation": "v",
         "showlegend": true,
         "type": "scatter",
         "x": [
          3.16227807617188
         ],
         "xaxis": "x",
         "y": [
          2.3
         ],
         "yaxis": "y"
        },
        {
         "hovertemplate": "ISO_CC=AUT<br>median=%{x}<br>Km=%{y}<extra></extra>",
         "legendgroup": "AUT",
         "marker": {
          "color": "#FF97FF",
          "symbol": "circle"
         },
         "mode": "markers",
         "name": "AUT",
         "orientation": "v",
         "showlegend": true,
         "type": "scatter",
         "x": [
          2.23606811523438
         ],
         "xaxis": "x",
         "y": [
          2.4
         ],
         "yaxis": "y"
        },
        {
         "hovertemplate": "ISO_CC=AZE<br>median=%{x}<br>Km=%{y}<extra></extra>",
         "legendgroup": "AZE",
         "marker": {
          "color": "#FECB52",
          "symbol": "circle"
         },
         "mode": "markers",
         "name": "AZE",
         "orientation": "v",
         "showlegend": true,
         "type": "scatter",
         "x": [
          2
         ],
         "xaxis": "x",
         "y": [
          2.3
         ],
         "yaxis": "y"
        },
        {
         "hovertemplate": "ISO_CC=BHS<br>median=%{x}<br>Km=%{y}<extra></extra>",
         "legendgroup": "BHS",
         "marker": {
          "color": "#636efa",
          "symbol": "circle"
         },
         "mode": "markers",
         "name": "BHS",
         "orientation": "v",
         "showlegend": true,
         "type": "scatter",
         "x": [
          2.82842700195312
         ],
         "xaxis": "x",
         "y": [
          3.7833333333333328
         ],
         "yaxis": "y"
        },
        {
         "hovertemplate": "ISO_CC=BGD<br>median=%{x}<br>Km=%{y}<extra></extra>",
         "legendgroup": "BGD",
         "marker": {
          "color": "#EF553B",
          "symbol": "circle"
         },
         "mode": "markers",
         "name": "BGD",
         "orientation": "v",
         "showlegend": true,
         "type": "scatter",
         "x": [
          2.82842700195312
         ],
         "xaxis": "x",
         "y": [
          2.5
         ],
         "yaxis": "y"
        },
        {
         "hovertemplate": "ISO_CC=BRB<br>median=%{x}<br>Km=%{y}<extra></extra>",
         "legendgroup": "BRB",
         "marker": {
          "color": "#00cc96",
          "symbol": "circle"
         },
         "mode": "markers",
         "name": "BRB",
         "orientation": "v",
         "showlegend": true,
         "type": "scatter",
         "x": [
          140.911296875
         ],
         "xaxis": "x",
         "y": [
          3.7833333333333328
         ],
         "yaxis": "y"
        },
        {
         "hovertemplate": "ISO_CC=BLR<br>median=%{x}<br>Km=%{y}<extra></extra>",
         "legendgroup": "BLR",
         "marker": {
          "color": "#ab63fa",
          "symbol": "circle"
         },
         "mode": "markers",
         "name": "BLR",
         "orientation": "v",
         "showlegend": true,
         "type": "scatter",
         "x": [
          2.82842700195312
         ],
         "xaxis": "x",
         "y": [
          2.5
         ],
         "yaxis": "y"
        },
        {
         "hovertemplate": "ISO_CC=BEL<br>median=%{x}<br>Km=%{y}<extra></extra>",
         "legendgroup": "BEL",
         "marker": {
          "color": "#FFA15A",
          "symbol": "circle"
         },
         "mode": "markers",
         "name": "BEL",
         "orientation": "v",
         "showlegend": true,
         "type": "scatter",
         "x": [
          2.82842700195312
         ],
         "xaxis": "x",
         "y": [
          2.9
         ],
         "yaxis": "y"
        },
        {
         "hovertemplate": "ISO_CC=BLZ<br>median=%{x}<br>Km=%{y}<extra></extra>",
         "legendgroup": "BLZ",
         "marker": {
          "color": "#19d3f3",
          "symbol": "circle"
         },
         "mode": "markers",
         "name": "BLZ",
         "orientation": "v",
         "showlegend": true,
         "type": "scatter",
         "x": [
          2.23606811523438
         ],
         "xaxis": "x",
         "y": [
          3.85
         ],
         "yaxis": "y"
        },
        {
         "hovertemplate": "ISO_CC=BEN<br>median=%{x}<br>Km=%{y}<extra></extra>",
         "legendgroup": "BEN",
         "marker": {
          "color": "#FF6692",
          "symbol": "circle"
         },
         "mode": "markers",
         "name": "BEN",
         "orientation": "v",
         "showlegend": true,
         "type": "scatter",
         "x": [
          3.16227807617188
         ],
         "xaxis": "x",
         "y": [
          4.5
         ],
         "yaxis": "y"
        },
        {
         "hovertemplate": "ISO_CC=BTN<br>median=%{x}<br>Km=%{y}<extra></extra>",
         "legendgroup": "BTN",
         "marker": {
          "color": "#B6E880",
          "symbol": "circle"
         },
         "mode": "markers",
         "name": "BTN",
         "orientation": "v",
         "showlegend": true,
         "type": "scatter",
         "x": [
          5
         ],
         "xaxis": "x",
         "y": [
          2.1
         ],
         "yaxis": "y"
        },
        {
         "hovertemplate": "ISO_CC=BOL<br>median=%{x}<br>Km=%{y}<extra></extra>",
         "legendgroup": "BOL",
         "marker": {
          "color": "#FF97FF",
          "symbol": "circle"
         },
         "mode": "markers",
         "name": "BOL",
         "orientation": "v",
         "showlegend": true,
         "type": "scatter",
         "x": [
          5.3851650390625
         ],
         "xaxis": "x",
         "y": [
          5.5
         ],
         "yaxis": "y"
        },
        {
         "hovertemplate": "ISO_CC=BIH<br>median=%{x}<br>Km=%{y}<extra></extra>",
         "legendgroup": "BIH",
         "marker": {
          "color": "#FECB52",
          "symbol": "circle"
         },
         "mode": "markers",
         "name": "BIH",
         "orientation": "v",
         "showlegend": true,
         "type": "scatter",
         "x": [
          3.16227807617188
         ],
         "xaxis": "x",
         "y": [
          2.4
         ],
         "yaxis": "y"
        },
        {
         "hovertemplate": "ISO_CC=BWA<br>median=%{x}<br>Km=%{y}<extra></extra>",
         "legendgroup": "BWA",
         "marker": {
          "color": "#636efa",
          "symbol": "circle"
         },
         "mode": "markers",
         "name": "BWA",
         "orientation": "v",
         "showlegend": true,
         "type": "scatter",
         "x": [
          30.413810546875
         ],
         "xaxis": "x",
         "y": [
          29
         ],
         "yaxis": "y"
        },
        {
         "hovertemplate": "ISO_CC=BRA<br>median=%{x}<br>Km=%{y}<extra></extra>",
         "legendgroup": "BRA",
         "marker": {
          "color": "#EF553B",
          "symbol": "circle"
         },
         "mode": "markers",
         "name": "BRA",
         "orientation": "v",
         "showlegend": true,
         "type": "scatter",
         "x": [
          4.12310498046875
         ],
         "xaxis": "x",
         "y": [
          4.5
         ],
         "yaxis": "y"
        },
        {
         "hovertemplate": "ISO_CC=BRN<br>median=%{x}<br>Km=%{y}<extra></extra>",
         "legendgroup": "BRN",
         "marker": {
          "color": "#00cc96",
          "symbol": "circle"
         },
         "mode": "markers",
         "name": "BRN",
         "orientation": "v",
         "showlegend": true,
         "type": "scatter",
         "x": [
          2.23606811523438
         ],
         "xaxis": "x",
         "y": [
          2.5
         ],
         "yaxis": "y"
        },
        {
         "hovertemplate": "ISO_CC=BGR<br>median=%{x}<br>Km=%{y}<extra></extra>",
         "legendgroup": "BGR",
         "marker": {
          "color": "#ab63fa",
          "symbol": "circle"
         },
         "mode": "markers",
         "name": "BGR",
         "orientation": "v",
         "showlegend": true,
         "type": "scatter",
         "x": [
          3
         ],
         "xaxis": "x",
         "y": [
          9.5
         ],
         "yaxis": "y"
        },
        {
         "hovertemplate": "ISO_CC=BFA<br>median=%{x}<br>Km=%{y}<extra></extra>",
         "legendgroup": "BFA",
         "marker": {
          "color": "#FFA15A",
          "symbol": "circle"
         },
         "mode": "markers",
         "name": "BFA",
         "orientation": "v",
         "showlegend": true,
         "type": "scatter",
         "x": [
          9.219544921875
         ],
         "xaxis": "x",
         "y": [
          10
         ],
         "yaxis": "y"
        },
        {
         "hovertemplate": "ISO_CC=BDI<br>median=%{x}<br>Km=%{y}<extra></extra>",
         "legendgroup": "BDI",
         "marker": {
          "color": "#19d3f3",
          "symbol": "circle"
         },
         "mode": "markers",
         "name": "BDI",
         "orientation": "v",
         "showlegend": true,
         "type": "scatter",
         "x": [
          3.16227807617188
         ],
         "xaxis": "x",
         "y": [
          3.3
         ],
         "yaxis": "y"
        },
        {
         "hovertemplate": "ISO_CC=CPV<br>median=%{x}<br>Km=%{y}<extra></extra>",
         "legendgroup": "CPV",
         "marker": {
          "color": "#FF6692",
          "symbol": "circle"
         },
         "mode": "markers",
         "name": "CPV",
         "orientation": "v",
         "showlegend": true,
         "type": "scatter",
         "x": [
          614.3036875
         ],
         "xaxis": "x",
         "y": [
          8.033333333333333
         ],
         "yaxis": "y"
        },
        {
         "hovertemplate": "ISO_CC=KHM<br>median=%{x}<br>Km=%{y}<extra></extra>",
         "legendgroup": "KHM",
         "marker": {
          "color": "#B6E880",
          "symbol": "circle"
         },
         "mode": "markers",
         "name": "KHM",
         "orientation": "v",
         "showlegend": true,
         "type": "scatter",
         "x": [
          3.60555102539062
         ],
         "xaxis": "x",
         "y": [
          3
         ],
         "yaxis": "y"
        },
        {
         "hovertemplate": "ISO_CC=CMR<br>median=%{x}<br>Km=%{y}<extra></extra>",
         "legendgroup": "CMR",
         "marker": {
          "color": "#FF97FF",
          "symbol": "circle"
         },
         "mode": "markers",
         "name": "CMR",
         "orientation": "v",
         "showlegend": true,
         "type": "scatter",
         "x": [
          3.60555102539062
         ],
         "xaxis": "x",
         "y": [
          3.5
         ],
         "yaxis": "y"
        },
        {
         "hovertemplate": "ISO_CC=CAN<br>median=%{x}<br>Km=%{y}<extra></extra>",
         "legendgroup": "CAN",
         "marker": {
          "color": "#FECB52",
          "symbol": "circle"
         },
         "mode": "markers",
         "name": "CAN",
         "orientation": "v",
         "showlegend": true,
         "type": "scatter",
         "x": [
          2.82842700195312
         ],
         "xaxis": "x",
         "y": [
          2.8
         ],
         "yaxis": "y"
        },
        {
         "hovertemplate": "ISO_CC=ESP<br>median=%{x}<br>Km=%{y}<extra></extra>",
         "legendgroup": "ESP",
         "marker": {
          "color": "#636efa",
          "symbol": "circle"
         },
         "mode": "markers",
         "name": "ESP",
         "orientation": "v",
         "showlegend": true,
         "type": "scatter",
         "x": [
          4.47213623046875
         ],
         "xaxis": "x",
         "y": [
          3.4
         ],
         "yaxis": "y"
        },
        {
         "hovertemplate": "ISO_CC=CAF<br>median=%{x}<br>Km=%{y}<extra></extra>",
         "legendgroup": "CAF",
         "marker": {
          "color": "#EF553B",
          "symbol": "circle"
         },
         "mode": "markers",
         "name": "CAF",
         "orientation": "v",
         "showlegend": true,
         "type": "scatter",
         "x": [
          2.23606811523438
         ],
         "xaxis": "x",
         "y": [
          2.7
         ],
         "yaxis": "y"
        },
        {
         "hovertemplate": "ISO_CC=TCD<br>median=%{x}<br>Km=%{y}<extra></extra>",
         "legendgroup": "TCD",
         "marker": {
          "color": "#00cc96",
          "symbol": "circle"
         },
         "mode": "markers",
         "name": "TCD",
         "orientation": "v",
         "showlegend": true,
         "type": "scatter",
         "x": [
          15
         ],
         "xaxis": "x",
         "y": [
          11
         ],
         "yaxis": "y"
        },
        {
         "hovertemplate": "ISO_CC=CHL<br>median=%{x}<br>Km=%{y}<extra></extra>",
         "legendgroup": "CHL",
         "marker": {
          "color": "#ab63fa",
          "symbol": "circle"
         },
         "mode": "markers",
         "name": "CHL",
         "orientation": "v",
         "showlegend": true,
         "type": "scatter",
         "x": [
          3.16227807617188
         ],
         "xaxis": "x",
         "y": [
          3.2
         ],
         "yaxis": "y"
        },
        {
         "hovertemplate": "ISO_CC=CHN<br>median=%{x}<br>Km=%{y}<extra></extra>",
         "legendgroup": "CHN",
         "marker": {
          "color": "#FFA15A",
          "symbol": "circle"
         },
         "mode": "markers",
         "name": "CHN",
         "orientation": "v",
         "showlegend": true,
         "type": "scatter",
         "x": [
          3.16227807617188
         ],
         "xaxis": "x",
         "y": [
          2.7
         ],
         "yaxis": "y"
        },
        {
         "hovertemplate": "ISO_CC=COL<br>median=%{x}<br>Km=%{y}<extra></extra>",
         "legendgroup": "COL",
         "marker": {
          "color": "#19d3f3",
          "symbol": "circle"
         },
         "mode": "markers",
         "name": "COL",
         "orientation": "v",
         "showlegend": true,
         "type": "scatter",
         "x": [
          3.60555102539062
         ],
         "xaxis": "x",
         "y": [
          3.1
         ],
         "yaxis": "y"
        },
        {
         "hovertemplate": "ISO_CC=COM<br>median=%{x}<br>Km=%{y}<extra></extra>",
         "legendgroup": "COM",
         "marker": {
          "color": "#FF6692",
          "symbol": "circle"
         },
         "mode": "markers",
         "name": "COM",
         "orientation": "v",
         "showlegend": true,
         "type": "scatter",
         "x": [
          284.6753125
         ],
         "xaxis": "x",
         "y": [
          13.507692307692308
         ],
         "yaxis": "y"
        },
        {
         "hovertemplate": "ISO_CC=COG<br>median=%{x}<br>Km=%{y}<extra></extra>",
         "legendgroup": "COG",
         "marker": {
          "color": "#B6E880",
          "symbol": "circle"
         },
         "mode": "markers",
         "name": "COG",
         "orientation": "v",
         "showlegend": true,
         "type": "scatter",
         "x": [
          3.60555102539062
         ],
         "xaxis": "x",
         "y": [
          3.78
         ],
         "yaxis": "y"
        },
        {
         "hovertemplate": "ISO_CC=COD<br>median=%{x}<br>Km=%{y}<extra></extra>",
         "legendgroup": "COD",
         "marker": {
          "color": "#FF97FF",
          "symbol": "circle"
         },
         "mode": "markers",
         "name": "COD",
         "orientation": "v",
         "showlegend": true,
         "type": "scatter",
         "x": [
          3
         ],
         "xaxis": "x",
         "y": [
          2.9
         ],
         "yaxis": "y"
        },
        {
         "hovertemplate": "ISO_CC=CRI<br>median=%{x}<br>Km=%{y}<extra></extra>",
         "legendgroup": "CRI",
         "marker": {
          "color": "#FECB52",
          "symbol": "circle"
         },
         "mode": "markers",
         "name": "CRI",
         "orientation": "v",
         "showlegend": true,
         "type": "scatter",
         "x": [
          5.3851650390625
         ],
         "xaxis": "x",
         "y": [
          3
         ],
         "yaxis": "y"
        },
        {
         "hovertemplate": "ISO_CC=CIV<br>median=%{x}<br>Km=%{y}<extra></extra>",
         "legendgroup": "CIV",
         "marker": {
          "color": "#636efa",
          "symbol": "circle"
         },
         "mode": "markers",
         "name": "CIV",
         "orientation": "v",
         "showlegend": true,
         "type": "scatter",
         "x": [
          3.16227807617188
         ],
         "xaxis": "x",
         "y": [
          3.8
         ],
         "yaxis": "y"
        },
        {
         "hovertemplate": "ISO_CC=HRV<br>median=%{x}<br>Km=%{y}<extra></extra>",
         "legendgroup": "HRV",
         "marker": {
          "color": "#EF553B",
          "symbol": "circle"
         },
         "mode": "markers",
         "name": "HRV",
         "orientation": "v",
         "showlegend": true,
         "type": "scatter",
         "x": [
          3
         ],
         "xaxis": "x",
         "y": [
          2.4
         ],
         "yaxis": "y"
        },
        {
         "hovertemplate": "ISO_CC=CUB<br>median=%{x}<br>Km=%{y}<extra></extra>",
         "legendgroup": "CUB",
         "marker": {
          "color": "#00cc96",
          "symbol": "circle"
         },
         "mode": "markers",
         "name": "CUB",
         "orientation": "v",
         "showlegend": true,
         "type": "scatter",
         "x": [
          5
         ],
         "xaxis": "x",
         "y": [
          3.5
         ],
         "yaxis": "y"
        },
        {
         "hovertemplate": "ISO_CC=CUW<br>median=%{x}<br>Km=%{y}<extra></extra>",
         "legendgroup": "CUW",
         "marker": {
          "color": "#ab63fa",
          "symbol": "circle"
         },
         "mode": "markers",
         "name": "CUW",
         "orientation": "v",
         "showlegend": true,
         "type": "scatter",
         "x": [
          4
         ],
         "xaxis": "x",
         "y": [
          3.783333333333333
         ],
         "yaxis": "y"
        },
        {
         "hovertemplate": "ISO_CC=CYP<br>median=%{x}<br>Km=%{y}<extra></extra>",
         "legendgroup": "CYP",
         "marker": {
          "color": "#FFA15A",
          "symbol": "circle"
         },
         "mode": "markers",
         "name": "CYP",
         "orientation": "v",
         "showlegend": true,
         "type": "scatter",
         "x": [
          5
         ],
         "xaxis": "x",
         "y": [
          2.4
         ],
         "yaxis": "y"
        },
        {
         "hovertemplate": "ISO_CC=CZE<br>median=%{x}<br>Km=%{y}<extra></extra>",
         "legendgroup": "CZE",
         "marker": {
          "color": "#19d3f3",
          "symbol": "circle"
         },
         "mode": "markers",
         "name": "CZE",
         "orientation": "v",
         "showlegend": true,
         "type": "scatter",
         "x": [
          3
         ],
         "xaxis": "x",
         "y": [
          2.6
         ],
         "yaxis": "y"
        },
        {
         "hovertemplate": "ISO_CC=DNK<br>median=%{x}<br>Km=%{y}<extra></extra>",
         "legendgroup": "DNK",
         "marker": {
          "color": "#FF6692",
          "symbol": "circle"
         },
         "mode": "markers",
         "name": "DNK",
         "orientation": "v",
         "showlegend": true,
         "type": "scatter",
         "x": [
          3.16227807617188
         ],
         "xaxis": "x",
         "y": [
          2.9
         ],
         "yaxis": "y"
        },
        {
         "hovertemplate": "ISO_CC=DJI<br>median=%{x}<br>Km=%{y}<extra></extra>",
         "legendgroup": "DJI",
         "marker": {
          "color": "#B6E880",
          "symbol": "circle"
         },
         "mode": "markers",
         "name": "DJI",
         "orientation": "v",
         "showlegend": true,
         "type": "scatter",
         "x": [
          29.614189453125
         ],
         "xaxis": "x",
         "y": [
          35
         ],
         "yaxis": "y"
        },
        {
         "hovertemplate": "ISO_CC=DMA<br>median=%{x}<br>Km=%{y}<extra></extra>",
         "legendgroup": "DMA",
         "marker": {
          "color": "#FF97FF",
          "symbol": "circle"
         },
         "mode": "markers",
         "name": "DMA",
         "orientation": "v",
         "showlegend": true,
         "type": "scatter",
         "x": [
          69.2603828125
         ],
         "xaxis": "x",
         "y": [
          3.7833333333333337
         ],
         "yaxis": "y"
        },
        {
         "hovertemplate": "ISO_CC=DOM<br>median=%{x}<br>Km=%{y}<extra></extra>",
         "legendgroup": "DOM",
         "marker": {
          "color": "#FECB52",
          "symbol": "circle"
         },
         "mode": "markers",
         "name": "DOM",
         "orientation": "v",
         "showlegend": true,
         "type": "scatter",
         "x": [
          5.09902001953125
         ],
         "xaxis": "x",
         "y": [
          3.9
         ],
         "yaxis": "y"
        },
        {
         "hovertemplate": "ISO_CC=ECU<br>median=%{x}<br>Km=%{y}<extra></extra>",
         "legendgroup": "ECU",
         "marker": {
          "color": "#636efa",
          "symbol": "circle"
         },
         "mode": "markers",
         "name": "ECU",
         "orientation": "v",
         "showlegend": true,
         "type": "scatter",
         "x": [
          3.16227807617188
         ],
         "xaxis": "x",
         "y": [
          3.6
         ],
         "yaxis": "y"
        },
        {
         "hovertemplate": "ISO_CC=EGY<br>median=%{x}<br>Km=%{y}<extra></extra>",
         "legendgroup": "EGY",
         "marker": {
          "color": "#EF553B",
          "symbol": "circle"
         },
         "mode": "markers",
         "name": "EGY",
         "orientation": "v",
         "showlegend": true,
         "type": "scatter",
         "x": [
          3.60555102539062
         ],
         "xaxis": "x",
         "y": [
          2.2
         ],
         "yaxis": "y"
        },
        {
         "hovertemplate": "ISO_CC=SLV<br>median=%{x}<br>Km=%{y}<extra></extra>",
         "legendgroup": "SLV",
         "marker": {
          "color": "#00cc96",
          "symbol": "circle"
         },
         "mode": "markers",
         "name": "SLV",
         "orientation": "v",
         "showlegend": true,
         "type": "scatter",
         "x": [
          2.23606811523438
         ],
         "xaxis": "x",
         "y": [
          2.9
         ],
         "yaxis": "y"
        },
        {
         "hovertemplate": "ISO_CC=GNQ<br>median=%{x}<br>Km=%{y}<extra></extra>",
         "legendgroup": "GNQ",
         "marker": {
          "color": "#ab63fa",
          "symbol": "circle"
         },
         "mode": "markers",
         "name": "GNQ",
         "orientation": "v",
         "showlegend": true,
         "type": "scatter",
         "x": [
          3.60555102539062
         ],
         "xaxis": "x",
         "y": [
          4.55
         ],
         "yaxis": "y"
        },
        {
         "hovertemplate": "ISO_CC=ERI<br>median=%{x}<br>Km=%{y}<extra></extra>",
         "legendgroup": "ERI",
         "marker": {
          "color": "#FFA15A",
          "symbol": "circle"
         },
         "mode": "markers",
         "name": "ERI",
         "orientation": "v",
         "showlegend": true,
         "type": "scatter",
         "x": [
          21.4009296875
         ],
         "xaxis": "x",
         "y": [
          19
         ],
         "yaxis": "y"
        },
        {
         "hovertemplate": "ISO_CC=EST<br>median=%{x}<br>Km=%{y}<extra></extra>",
         "legendgroup": "EST",
         "marker": {
          "color": "#19d3f3",
          "symbol": "circle"
         },
         "mode": "markers",
         "name": "EST",
         "orientation": "v",
         "showlegend": true,
         "type": "scatter",
         "x": [
          3.16227807617188
         ],
         "xaxis": "x",
         "y": [
          2.9
         ],
         "yaxis": "y"
        },
        {
         "hovertemplate": "ISO_CC=SWZ<br>median=%{x}<br>Km=%{y}<extra></extra>",
         "legendgroup": "SWZ",
         "marker": {
          "color": "#FF6692",
          "symbol": "circle"
         },
         "mode": "markers",
         "name": "SWZ",
         "orientation": "v",
         "showlegend": true,
         "type": "scatter",
         "x": [
          2.23606811523438
         ],
         "xaxis": "x",
         "y": [
          2.2
         ],
         "yaxis": "y"
        },
        {
         "hovertemplate": "ISO_CC=ETH<br>median=%{x}<br>Km=%{y}<extra></extra>",
         "legendgroup": "ETH",
         "marker": {
          "color": "#B6E880",
          "symbol": "circle"
         },
         "mode": "markers",
         "name": "ETH",
         "orientation": "v",
         "showlegend": true,
         "type": "scatter",
         "x": [
          7
         ],
         "xaxis": "x",
         "y": [
          6.7
         ],
         "yaxis": "y"
        },
        {
         "hovertemplate": "ISO_CC=FLK<br>median=%{x}<br>Km=%{y}<extra></extra>",
         "legendgroup": "FLK",
         "marker": {
          "color": "#FF97FF",
          "symbol": "circle"
         },
         "mode": "markers",
         "name": "FLK",
         "orientation": "v",
         "showlegend": true,
         "type": "scatter",
         "x": [
          8.54400390625
         ],
         "xaxis": "x",
         "y": [
          4.720000000000001
         ],
         "yaxis": "y"
        },
        {
         "hovertemplate": "ISO_CC=FRO<br>median=%{x}<br>Km=%{y}<extra></extra>",
         "legendgroup": "FRO",
         "marker": {
          "color": "#FECB52",
          "symbol": "circle"
         },
         "mode": "markers",
         "name": "FRO",
         "orientation": "v",
         "showlegend": true,
         "type": "scatter",
         "x": [
          8.54400390625
         ],
         "xaxis": "x",
         "y": [
          2.93
         ],
         "yaxis": "y"
        },
        {
         "hovertemplate": "ISO_CC=FJI<br>median=%{x}<br>Km=%{y}<extra></extra>",
         "legendgroup": "FJI",
         "marker": {
          "color": "#636efa",
          "symbol": "circle"
         },
         "mode": "markers",
         "name": "FJI",
         "orientation": "v",
         "showlegend": true,
         "type": "scatter",
         "x": [
          2
         ],
         "xaxis": "x",
         "y": [
          2.1
         ],
         "yaxis": "y"
        },
        {
         "hovertemplate": "ISO_CC=FIN<br>median=%{x}<br>Km=%{y}<extra></extra>",
         "legendgroup": "FIN",
         "marker": {
          "color": "#EF553B",
          "symbol": "circle"
         },
         "mode": "markers",
         "name": "FIN",
         "orientation": "v",
         "showlegend": true,
         "type": "scatter",
         "x": [
          2.82842700195312
         ],
         "xaxis": "x",
         "y": [
          2.7
         ],
         "yaxis": "y"
        },
        {
         "hovertemplate": "ISO_CC=FRA<br>median=%{x}<br>Km=%{y}<extra></extra>",
         "legendgroup": "FRA",
         "marker": {
          "color": "#00cc96",
          "symbol": "circle"
         },
         "mode": "markers",
         "name": "FRA",
         "orientation": "v",
         "showlegend": true,
         "type": "scatter",
         "x": [
          2.23606811523438
         ],
         "xaxis": "x",
         "y": [
          2.4
         ],
         "yaxis": "y"
        },
        {
         "hovertemplate": "ISO_CC=GUF<br>median=%{x}<br>Km=%{y}<extra></extra>",
         "legendgroup": "GUF",
         "marker": {
          "color": "#ab63fa",
          "symbol": "circle"
         },
         "mode": "markers",
         "name": "GUF",
         "orientation": "v",
         "showlegend": true,
         "type": "scatter",
         "x": [
          2.23606811523438
         ],
         "xaxis": "x",
         "y": [
          4.5
         ],
         "yaxis": "y"
        },
        {
         "hovertemplate": "ISO_CC=PYF<br>median=%{x}<br>Km=%{y}<extra></extra>",
         "legendgroup": "PYF",
         "marker": {
          "color": "#FFA15A",
          "symbol": "circle"
         },
         "mode": "markers",
         "name": "PYF",
         "orientation": "v",
         "showlegend": true,
         "type": "scatter",
         "x": [
          1929.54
         ],
         "xaxis": "x",
         "y": [
          2.3
         ],
         "yaxis": "y"
        },
        {
         "hovertemplate": "ISO_CC=GAB<br>median=%{x}<br>Km=%{y}<extra></extra>",
         "legendgroup": "GAB",
         "marker": {
          "color": "#19d3f3",
          "symbol": "circle"
         },
         "mode": "markers",
         "name": "GAB",
         "orientation": "v",
         "showlegend": true,
         "type": "scatter",
         "x": [
          3.16227807617188
         ],
         "xaxis": "x",
         "y": [
          5.6
         ],
         "yaxis": "y"
        },
        {
         "hovertemplate": "ISO_CC=GMB<br>median=%{x}<br>Km=%{y}<extra></extra>",
         "legendgroup": "GMB",
         "marker": {
          "color": "#FF6692",
          "symbol": "circle"
         },
         "mode": "markers",
         "name": "GMB",
         "orientation": "v",
         "showlegend": true,
         "type": "scatter",
         "x": [
          3.16227807617188
         ],
         "xaxis": "x",
         "y": [
          3.5
         ],
         "yaxis": "y"
        },
        {
         "hovertemplate": "ISO_CC=GEO<br>median=%{x}<br>Km=%{y}<extra></extra>",
         "legendgroup": "GEO",
         "marker": {
          "color": "#B6E880",
          "symbol": "circle"
         },
         "mode": "markers",
         "name": "GEO",
         "orientation": "v",
         "showlegend": true,
         "type": "scatter",
         "x": [
          3
         ],
         "xaxis": "x",
         "y": [
          2
         ],
         "yaxis": "y"
        },
        {
         "hovertemplate": "ISO_CC=DEU<br>median=%{x}<br>Km=%{y}<extra></extra>",
         "legendgroup": "DEU",
         "marker": {
          "color": "#FF97FF",
          "symbol": "circle"
         },
         "mode": "markers",
         "name": "DEU",
         "orientation": "v",
         "showlegend": true,
         "type": "scatter",
         "x": [
          3.16227807617188
         ],
         "xaxis": "x",
         "y": [
          2.8
         ],
         "yaxis": "y"
        },
        {
         "hovertemplate": "ISO_CC=GHA<br>median=%{x}<br>Km=%{y}<extra></extra>",
         "legendgroup": "GHA",
         "marker": {
          "color": "#FECB52",
          "symbol": "circle"
         },
         "mode": "markers",
         "name": "GHA",
         "orientation": "v",
         "showlegend": true,
         "type": "scatter",
         "x": [
          3.16227807617188
         ],
         "xaxis": "x",
         "y": [
          4
         ],
         "yaxis": "y"
        },
        {
         "hovertemplate": "ISO_CC=GRC<br>median=%{x}<br>Km=%{y}<extra></extra>",
         "legendgroup": "GRC",
         "marker": {
          "color": "#636efa",
          "symbol": "circle"
         },
         "mode": "markers",
         "name": "GRC",
         "orientation": "v",
         "showlegend": true,
         "type": "scatter",
         "x": [
          5.3851650390625
         ],
         "xaxis": "x",
         "y": [
          7.5
         ],
         "yaxis": "y"
        },
        {
         "hovertemplate": "ISO_CC=GRL<br>median=%{x}<br>Km=%{y}<extra></extra>",
         "legendgroup": "GRL",
         "marker": {
          "color": "#EF553B",
          "symbol": "circle"
         },
         "mode": "markers",
         "name": "GRL",
         "orientation": "v",
         "showlegend": true,
         "type": "scatter",
         "x": [
          1
         ],
         "xaxis": "x",
         "y": [
          3.2
         ],
         "yaxis": "y"
        },
        {
         "hovertemplate": "ISO_CC=GRD<br>median=%{x}<br>Km=%{y}<extra></extra>",
         "legendgroup": "GRD",
         "marker": {
          "color": "#00cc96",
          "symbol": "circle"
         },
         "mode": "markers",
         "name": "GRD",
         "orientation": "v",
         "showlegend": true,
         "type": "scatter",
         "x": [
          1.41421398925781
         ],
         "xaxis": "x",
         "y": [
          3.783333333333333
         ],
         "yaxis": "y"
        },
        {
         "hovertemplate": "ISO_CC=GLP<br>median=%{x}<br>Km=%{y}<extra></extra>",
         "legendgroup": "GLP",
         "marker": {
          "color": "#ab63fa",
          "symbol": "circle"
         },
         "mode": "markers",
         "name": "GLP",
         "orientation": "v",
         "showlegend": true,
         "type": "scatter",
         "x": [
          4.12310498046875
         ],
         "xaxis": "x",
         "y": [
          3.783333333333333
         ],
         "yaxis": "y"
        },
        {
         "hovertemplate": "ISO_CC=GUM<br>median=%{x}<br>Km=%{y}<extra></extra>",
         "legendgroup": "GUM",
         "marker": {
          "color": "#FFA15A",
          "symbol": "circle"
         },
         "mode": "markers",
         "name": "GUM",
         "orientation": "v",
         "showlegend": true,
         "type": "scatter",
         "x": [
          20.615529296875
         ],
         "xaxis": "x",
         "y": [
          2.2666666666666666
         ],
         "yaxis": "y"
        },
        {
         "hovertemplate": "ISO_CC=GTM<br>median=%{x}<br>Km=%{y}<extra></extra>",
         "legendgroup": "GTM",
         "marker": {
          "color": "#19d3f3",
          "symbol": "circle"
         },
         "mode": "markers",
         "name": "GTM",
         "orientation": "v",
         "showlegend": true,
         "type": "scatter",
         "x": [
          4
         ],
         "xaxis": "x",
         "y": [
          3.3
         ],
         "yaxis": "y"
        },
        {
         "hovertemplate": "ISO_CC=GIN<br>median=%{x}<br>Km=%{y}<extra></extra>",
         "legendgroup": "GIN",
         "marker": {
          "color": "#FF6692",
          "symbol": "circle"
         },
         "mode": "markers",
         "name": "GIN",
         "orientation": "v",
         "showlegend": true,
         "type": "scatter",
         "x": [
          4.24264111328125
         ],
         "xaxis": "x",
         "y": [
          3.4
         ],
         "yaxis": "y"
        },
        {
         "hovertemplate": "ISO_CC=GNB<br>median=%{x}<br>Km=%{y}<extra></extra>",
         "legendgroup": "GNB",
         "marker": {
          "color": "#B6E880",
          "symbol": "circle"
         },
         "mode": "markers",
         "name": "GNB",
         "orientation": "v",
         "showlegend": true,
         "type": "scatter",
         "x": [
          2.23606811523438
         ],
         "xaxis": "x",
         "y": [
          3
         ],
         "yaxis": "y"
        },
        {
         "hovertemplate": "ISO_CC=GUY<br>median=%{x}<br>Km=%{y}<extra></extra>",
         "legendgroup": "GUY",
         "marker": {
          "color": "#FF97FF",
          "symbol": "circle"
         },
         "mode": "markers",
         "name": "GUY",
         "orientation": "v",
         "showlegend": true,
         "type": "scatter",
         "x": [
          1
         ],
         "xaxis": "x",
         "y": [
          4.75
         ],
         "yaxis": "y"
        },
        {
         "hovertemplate": "ISO_CC=HTI<br>median=%{x}<br>Km=%{y}<extra></extra>",
         "legendgroup": "HTI",
         "marker": {
          "color": "#FECB52",
          "symbol": "circle"
         },
         "mode": "markers",
         "name": "HTI",
         "orientation": "v",
         "showlegend": true,
         "type": "scatter",
         "x": [
          3
         ],
         "xaxis": "x",
         "y": [
          2.7
         ],
         "yaxis": "y"
        },
        {
         "hovertemplate": "ISO_CC=HND<br>median=%{x}<br>Km=%{y}<extra></extra>",
         "legendgroup": "HND",
         "marker": {
          "color": "#636efa",
          "symbol": "circle"
         },
         "mode": "markers",
         "name": "HND",
         "orientation": "v",
         "showlegend": true,
         "type": "scatter",
         "x": [
          3
         ],
         "xaxis": "x",
         "y": [
          2.9
         ],
         "yaxis": "y"
        },
        {
         "hovertemplate": "ISO_CC=HUN<br>median=%{x}<br>Km=%{y}<extra></extra>",
         "legendgroup": "HUN",
         "marker": {
          "color": "#EF553B",
          "symbol": "circle"
         },
         "mode": "markers",
         "name": "HUN",
         "orientation": "v",
         "showlegend": true,
         "type": "scatter",
         "x": [
          2.23606811523438
         ],
         "xaxis": "x",
         "y": [
          2.8
         ],
         "yaxis": "y"
        },
        {
         "hovertemplate": "ISO_CC=ISL<br>median=%{x}<br>Km=%{y}<extra></extra>",
         "legendgroup": "ISL",
         "marker": {
          "color": "#00cc96",
          "symbol": "circle"
         },
         "mode": "markers",
         "name": "ISL",
         "orientation": "v",
         "showlegend": true,
         "type": "scatter",
         "x": [
          5.8309521484375
         ],
         "xaxis": "x",
         "y": [
          7
         ],
         "yaxis": "y"
        },
        {
         "hovertemplate": "ISO_CC=IND<br>median=%{x}<br>Km=%{y}<extra></extra>",
         "legendgroup": "IND",
         "marker": {
          "color": "#ab63fa",
          "symbol": "circle"
         },
         "mode": "markers",
         "name": "IND",
         "orientation": "v",
         "showlegend": true,
         "type": "scatter",
         "x": [
          3.16227807617188
         ],
         "xaxis": "x",
         "y": [
          3.2
         ],
         "yaxis": "y"
        },
        {
         "hovertemplate": "ISO_CC=IDN<br>median=%{x}<br>Km=%{y}<extra></extra>",
         "legendgroup": "IDN",
         "marker": {
          "color": "#FFA15A",
          "symbol": "circle"
         },
         "mode": "markers",
         "name": "IDN",
         "orientation": "v",
         "showlegend": true,
         "type": "scatter",
         "x": [
          3.60555102539062
         ],
         "xaxis": "x",
         "y": [
          3.5
         ],
         "yaxis": "y"
        },
        {
         "hovertemplate": "ISO_CC=IRN<br>median=%{x}<br>Km=%{y}<extra></extra>",
         "legendgroup": "IRN",
         "marker": {
          "color": "#19d3f3",
          "symbol": "circle"
         },
         "mode": "markers",
         "name": "IRN",
         "orientation": "v",
         "showlegend": true,
         "type": "scatter",
         "x": [
          5.8309521484375
         ],
         "xaxis": "x",
         "y": [
          2.575
         ],
         "yaxis": "y"
        },
        {
         "hovertemplate": "ISO_CC=IRQ<br>median=%{x}<br>Km=%{y}<extra></extra>",
         "legendgroup": "IRQ",
         "marker": {
          "color": "#FF6692",
          "symbol": "circle"
         },
         "mode": "markers",
         "name": "IRQ",
         "orientation": "v",
         "showlegend": true,
         "type": "scatter",
         "x": [
          2.82842700195312
         ],
         "xaxis": "x",
         "y": [
          2
         ],
         "yaxis": "y"
        },
        {
         "hovertemplate": "ISO_CC=IRL<br>median=%{x}<br>Km=%{y}<extra></extra>",
         "legendgroup": "IRL",
         "marker": {
          "color": "#B6E880",
          "symbol": "circle"
         },
         "mode": "markers",
         "name": "IRL",
         "orientation": "v",
         "showlegend": true,
         "type": "scatter",
         "x": [
          2.23606811523438
         ],
         "xaxis": "x",
         "y": [
          2.4
         ],
         "yaxis": "y"
        },
        {
         "hovertemplate": "ISO_CC=IMN<br>median=%{x}<br>Km=%{y}<extra></extra>",
         "legendgroup": "IMN",
         "marker": {
          "color": "#FF97FF",
          "symbol": "circle"
         },
         "mode": "markers",
         "name": "IMN",
         "orientation": "v",
         "showlegend": true,
         "type": "scatter",
         "x": [
          0
         ],
         "xaxis": "x",
         "y": [
          2.93
         ],
         "yaxis": "y"
        },
        {
         "hovertemplate": "ISO_CC=ISR<br>median=%{x}<br>Km=%{y}<extra></extra>",
         "legendgroup": "ISR",
         "marker": {
          "color": "#FECB52",
          "symbol": "circle"
         },
         "mode": "markers",
         "name": "ISR",
         "orientation": "v",
         "showlegend": true,
         "type": "scatter",
         "x": [
          20.124609375
         ],
         "xaxis": "x",
         "y": [
          12
         ],
         "yaxis": "y"
        },
        {
         "hovertemplate": "ISO_CC=ITA<br>median=%{x}<br>Km=%{y}<extra></extra>",
         "legendgroup": "ITA",
         "marker": {
          "color": "#636efa",
          "symbol": "circle"
         },
         "mode": "markers",
         "name": "ITA",
         "orientation": "v",
         "showlegend": true,
         "type": "scatter",
         "x": [
          2.82842700195312
         ],
         "xaxis": "x",
         "y": [
          2.6
         ],
         "yaxis": "y"
        },
        {
         "hovertemplate": "ISO_CC=JAM<br>median=%{x}<br>Km=%{y}<extra></extra>",
         "legendgroup": "JAM",
         "marker": {
          "color": "#EF553B",
          "symbol": "circle"
         },
         "mode": "markers",
         "name": "JAM",
         "orientation": "v",
         "showlegend": true,
         "type": "scatter",
         "x": [
          5.3851650390625
         ],
         "xaxis": "x",
         "y": [
          5.2
         ],
         "yaxis": "y"
        },
        {
         "hovertemplate": "ISO_CC=JPN<br>median=%{x}<br>Km=%{y}<extra></extra>",
         "legendgroup": "JPN",
         "marker": {
          "color": "#00cc96",
          "symbol": "circle"
         },
         "mode": "markers",
         "name": "JPN",
         "orientation": "v",
         "showlegend": true,
         "type": "scatter",
         "x": [
          2.82842700195312
         ],
         "xaxis": "x",
         "y": [
          2.2
         ],
         "yaxis": "y"
        },
        {
         "hovertemplate": "ISO_CC=JOR<br>median=%{x}<br>Km=%{y}<extra></extra>",
         "legendgroup": "JOR",
         "marker": {
          "color": "#ab63fa",
          "symbol": "circle"
         },
         "mode": "markers",
         "name": "JOR",
         "orientation": "v",
         "showlegend": true,
         "type": "scatter",
         "x": [
          7.28010986328125
         ],
         "xaxis": "x",
         "y": [
          79
         ],
         "yaxis": "y"
        },
        {
         "hovertemplate": "ISO_CC=KAZ<br>median=%{x}<br>Km=%{y}<extra></extra>",
         "legendgroup": "KAZ",
         "marker": {
          "color": "#FFA15A",
          "symbol": "circle"
         },
         "mode": "markers",
         "name": "KAZ",
         "orientation": "v",
         "showlegend": true,
         "type": "scatter",
         "x": [
          4.24264111328125
         ],
         "xaxis": "x",
         "y": [
          2.7
         ],
         "yaxis": "y"
        },
        {
         "hovertemplate": "ISO_CC=KEN<br>median=%{x}<br>Km=%{y}<extra></extra>",
         "legendgroup": "KEN",
         "marker": {
          "color": "#19d3f3",
          "symbol": "circle"
         },
         "mode": "markers",
         "name": "KEN",
         "orientation": "v",
         "showlegend": true,
         "type": "scatter",
         "x": [
          3.16227807617188
         ],
         "xaxis": "x",
         "y": [
          3.7
         ],
         "yaxis": "y"
        },
        {
         "hovertemplate": "ISO_CC=KWT<br>median=%{x}<br>Km=%{y}<extra></extra>",
         "legendgroup": "KWT",
         "marker": {
          "color": "#FF6692",
          "symbol": "circle"
         },
         "mode": "markers",
         "name": "KWT",
         "orientation": "v",
         "showlegend": true,
         "type": "scatter",
         "x": [
          100.404203125
         ],
         "xaxis": "x",
         "y": [
          88
         ],
         "yaxis": "y"
        },
        {
         "hovertemplate": "ISO_CC=KGZ<br>median=%{x}<br>Km=%{y}<extra></extra>",
         "legendgroup": "KGZ",
         "marker": {
          "color": "#B6E880",
          "symbol": "circle"
         },
         "mode": "markers",
         "name": "KGZ",
         "orientation": "v",
         "showlegend": true,
         "type": "scatter",
         "x": [
          2
         ],
         "xaxis": "x",
         "y": [
          1.9
         ],
         "yaxis": "y"
        },
        {
         "hovertemplate": "ISO_CC=LAO<br>median=%{x}<br>Km=%{y}<extra></extra>",
         "legendgroup": "LAO",
         "marker": {
          "color": "#FF97FF",
          "symbol": "circle"
         },
         "mode": "markers",
         "name": "LAO",
         "orientation": "v",
         "showlegend": true,
         "type": "scatter",
         "x": [
          3
         ],
         "xaxis": "x",
         "y": [
          2.3
         ],
         "yaxis": "y"
        },
        {
         "hovertemplate": "ISO_CC=LVA<br>median=%{x}<br>Km=%{y}<extra></extra>",
         "legendgroup": "LVA",
         "marker": {
          "color": "#FECB52",
          "symbol": "circle"
         },
         "mode": "markers",
         "name": "LVA",
         "orientation": "v",
         "showlegend": true,
         "type": "scatter",
         "x": [
          3.60555102539062
         ],
         "xaxis": "x",
         "y": [
          2.3
         ],
         "yaxis": "y"
        },
        {
         "hovertemplate": "ISO_CC=LBN<br>median=%{x}<br>Km=%{y}<extra></extra>",
         "legendgroup": "LBN",
         "marker": {
          "color": "#636efa",
          "symbol": "circle"
         },
         "mode": "markers",
         "name": "LBN",
         "orientation": "v",
         "showlegend": true,
         "type": "scatter",
         "x": [
          3.16227807617188
         ],
         "xaxis": "x",
         "y": [
          12
         ],
         "yaxis": "y"
        },
        {
         "hovertemplate": "ISO_CC=LSO<br>median=%{x}<br>Km=%{y}<extra></extra>",
         "legendgroup": "LSO",
         "marker": {
          "color": "#EF553B",
          "symbol": "circle"
         },
         "mode": "markers",
         "name": "LSO",
         "orientation": "v",
         "showlegend": true,
         "type": "scatter",
         "x": [
          2.23606811523438
         ],
         "xaxis": "x",
         "y": [
          2.4
         ],
         "yaxis": "y"
        },
        {
         "hovertemplate": "ISO_CC=LBR<br>median=%{x}<br>Km=%{y}<extra></extra>",
         "legendgroup": "LBR",
         "marker": {
          "color": "#00cc96",
          "symbol": "circle"
         },
         "mode": "markers",
         "name": "LBR",
         "orientation": "v",
         "showlegend": true,
         "type": "scatter",
         "x": [
          4.12310498046875
         ],
         "xaxis": "x",
         "y": [
          3.6
         ],
         "yaxis": "y"
        },
        {
         "hovertemplate": "ISO_CC=LBY<br>median=%{x}<br>Km=%{y}<extra></extra>",
         "legendgroup": "LBY",
         "marker": {
          "color": "#ab63fa",
          "symbol": "circle"
         },
         "mode": "markers",
         "name": "LBY",
         "orientation": "v",
         "showlegend": true,
         "type": "scatter",
         "x": [
          219.92040625
         ],
         "xaxis": "x",
         "y": [
          233
         ],
         "yaxis": "y"
        },
        {
         "hovertemplate": "ISO_CC=LIE<br>median=%{x}<br>Km=%{y}<extra></extra>",
         "legendgroup": "LIE",
         "marker": {
          "color": "#FFA15A",
          "symbol": "circle"
         },
         "mode": "markers",
         "name": "LIE",
         "orientation": "v",
         "showlegend": true,
         "type": "scatter",
         "x": [
          4.47213623046875
         ],
         "xaxis": "x",
         "y": [
          2.45
         ],
         "yaxis": "y"
        },
        {
         "hovertemplate": "ISO_CC=LTU<br>median=%{x}<br>Km=%{y}<extra></extra>",
         "legendgroup": "LTU",
         "marker": {
          "color": "#19d3f3",
          "symbol": "circle"
         },
         "mode": "markers",
         "name": "LTU",
         "orientation": "v",
         "showlegend": true,
         "type": "scatter",
         "x": [
          2.82842700195312
         ],
         "xaxis": "x",
         "y": [
          2.2
         ],
         "yaxis": "y"
        },
        {
         "hovertemplate": "ISO_CC=LUX<br>median=%{x}<br>Km=%{y}<extra></extra>",
         "legendgroup": "LUX",
         "marker": {
          "color": "#FF6692",
          "symbol": "circle"
         },
         "mode": "markers",
         "name": "LUX",
         "orientation": "v",
         "showlegend": true,
         "type": "scatter",
         "x": [
          2.82842700195312
         ],
         "xaxis": "x",
         "y": [
          3.5
         ],
         "yaxis": "y"
        },
        {
         "hovertemplate": "ISO_CC=MDG<br>median=%{x}<br>Km=%{y}<extra></extra>",
         "legendgroup": "MDG",
         "marker": {
          "color": "#B6E880",
          "symbol": "circle"
         },
         "mode": "markers",
         "name": "MDG",
         "orientation": "v",
         "showlegend": true,
         "type": "scatter",
         "x": [
          4.12310498046875
         ],
         "xaxis": "x",
         "y": [
          13.507692307692308
         ],
         "yaxis": "y"
        },
        {
         "hovertemplate": "ISO_CC=MWI<br>median=%{x}<br>Km=%{y}<extra></extra>",
         "legendgroup": "MWI",
         "marker": {
          "color": "#FF97FF",
          "symbol": "circle"
         },
         "mode": "markers",
         "name": "MWI",
         "orientation": "v",
         "showlegend": true,
         "type": "scatter",
         "x": [
          2.82842700195312
         ],
         "xaxis": "x",
         "y": [
          2.5
         ],
         "yaxis": "y"
        },
        {
         "hovertemplate": "ISO_CC=MYS<br>median=%{x}<br>Km=%{y}<extra></extra>",
         "legendgroup": "MYS",
         "marker": {
          "color": "#FECB52",
          "symbol": "circle"
         },
         "mode": "markers",
         "name": "MYS",
         "orientation": "v",
         "showlegend": true,
         "type": "scatter",
         "x": [
          4.12310498046875
         ],
         "xaxis": "x",
         "y": [
          2.5
         ],
         "yaxis": "y"
        },
        {
         "hovertemplate": "ISO_CC=MLI<br>median=%{x}<br>Km=%{y}<extra></extra>",
         "legendgroup": "MLI",
         "marker": {
          "color": "#636efa",
          "symbol": "circle"
         },
         "mode": "markers",
         "name": "MLI",
         "orientation": "v",
         "showlegend": true,
         "type": "scatter",
         "x": [
          9
         ],
         "xaxis": "x",
         "y": [
          9.6
         ],
         "yaxis": "y"
        },
        {
         "hovertemplate": "ISO_CC=MLT<br>median=%{x}<br>Km=%{y}<extra></extra>",
         "legendgroup": "MLT",
         "marker": {
          "color": "#EF553B",
          "symbol": "circle"
         },
         "mode": "markers",
         "name": "MLT",
         "orientation": "v",
         "showlegend": true,
         "type": "scatter",
         "x": [
          2.23606811523438
         ],
         "xaxis": "x",
         "y": [
          3.2
         ],
         "yaxis": "y"
        },
        {
         "hovertemplate": "ISO_CC=MRT<br>median=%{x}<br>Km=%{y}<extra></extra>",
         "legendgroup": "MRT",
         "marker": {
          "color": "#00cc96",
          "symbol": "circle"
         },
         "mode": "markers",
         "name": "MRT",
         "orientation": "v",
         "showlegend": true,
         "type": "scatter",
         "x": [
          26.076810546875
         ],
         "xaxis": "x",
         "y": [
          21
         ],
         "yaxis": "y"
        },
        {
         "hovertemplate": "ISO_CC=MUS<br>median=%{x}<br>Km=%{y}<extra></extra>",
         "legendgroup": "MUS",
         "marker": {
          "color": "#ab63fa",
          "symbol": "circle"
         },
         "mode": "markers",
         "name": "MUS",
         "orientation": "v",
         "showlegend": true,
         "type": "scatter",
         "x": [
          2
         ],
         "xaxis": "x",
         "y": [
          13.507692307692308
         ],
         "yaxis": "y"
        },
        {
         "hovertemplate": "ISO_CC=MYT<br>median=%{x}<br>Km=%{y}<extra></extra>",
         "legendgroup": "MYT",
         "marker": {
          "color": "#FFA15A",
          "symbol": "circle"
         },
         "mode": "markers",
         "name": "MYT",
         "orientation": "v",
         "showlegend": true,
         "type": "scatter",
         "x": [
          283.3973125
         ],
         "xaxis": "x",
         "y": [
          13.507692307692308
         ],
         "yaxis": "y"
        },
        {
         "hovertemplate": "ISO_CC=MEX<br>median=%{x}<br>Km=%{y}<extra></extra>",
         "legendgroup": "MEX",
         "marker": {
          "color": "#19d3f3",
          "symbol": "circle"
         },
         "mode": "markers",
         "name": "MEX",
         "orientation": "v",
         "showlegend": true,
         "type": "scatter",
         "x": [
          7.07106787109375
         ],
         "xaxis": "x",
         "y": [
          4.4
         ],
         "yaxis": "y"
        },
        {
         "hovertemplate": "ISO_CC=FSM<br>median=%{x}<br>Km=%{y}<extra></extra>",
         "legendgroup": "FSM",
         "marker": {
          "color": "#FF6692",
          "symbol": "circle"
         },
         "mode": "markers",
         "name": "FSM",
         "orientation": "v",
         "showlegend": true,
         "type": "scatter",
         "x": [
          1095.454
         ],
         "xaxis": "x",
         "y": [
          2.2666666666666666
         ],
         "yaxis": "y"
        },
        {
         "hovertemplate": "ISO_CC=MDA<br>median=%{x}<br>Km=%{y}<extra></extra>",
         "legendgroup": "MDA",
         "marker": {
          "color": "#B6E880",
          "symbol": "circle"
         },
         "mode": "markers",
         "name": "MDA",
         "orientation": "v",
         "showlegend": true,
         "type": "scatter",
         "x": [
          2.82842700195312
         ],
         "xaxis": "x",
         "y": [
          2.6
         ],
         "yaxis": "y"
        },
        {
         "hovertemplate": "ISO_CC=MNG<br>median=%{x}<br>Km=%{y}<extra></extra>",
         "legendgroup": "MNG",
         "marker": {
          "color": "#FF97FF",
          "symbol": "circle"
         },
         "mode": "markers",
         "name": "MNG",
         "orientation": "v",
         "showlegend": true,
         "type": "scatter",
         "x": [
          3
         ],
         "xaxis": "x",
         "y": [
          2.8
         ],
         "yaxis": "y"
        },
        {
         "hovertemplate": "ISO_CC=MNE<br>median=%{x}<br>Km=%{y}<extra></extra>",
         "legendgroup": "MNE",
         "marker": {
          "color": "#FECB52",
          "symbol": "circle"
         },
         "mode": "markers",
         "name": "MNE",
         "orientation": "v",
         "showlegend": true,
         "type": "scatter",
         "x": [
          3.60555102539062
         ],
         "xaxis": "x",
         "y": [
          2.5
         ],
         "yaxis": "y"
        },
        {
         "hovertemplate": "ISO_CC=MAR<br>median=%{x}<br>Km=%{y}<extra></extra>",
         "legendgroup": "MAR",
         "marker": {
          "color": "#636efa",
          "symbol": "circle"
         },
         "mode": "markers",
         "name": "MAR",
         "orientation": "v",
         "showlegend": true,
         "type": "scatter",
         "x": [
          7.07106787109375
         ],
         "xaxis": "x",
         "y": [
          6.2
         ],
         "yaxis": "y"
        },
        {
         "hovertemplate": "ISO_CC=MOZ<br>median=%{x}<br>Km=%{y}<extra></extra>",
         "legendgroup": "MOZ",
         "marker": {
          "color": "#EF553B",
          "symbol": "circle"
         },
         "mode": "markers",
         "name": "MOZ",
         "orientation": "v",
         "showlegend": true,
         "type": "scatter",
         "x": [
          3.16227807617188
         ],
         "xaxis": "x",
         "y": [
          3.2
         ],
         "yaxis": "y"
        },
        {
         "hovertemplate": "ISO_CC=MMR<br>median=%{x}<br>Km=%{y}<extra></extra>",
         "legendgroup": "MMR",
         "marker": {
          "color": "#00cc96",
          "symbol": "circle"
         },
         "mode": "markers",
         "name": "MMR",
         "orientation": "v",
         "showlegend": true,
         "type": "scatter",
         "x": [
          3.16227807617188
         ],
         "xaxis": "x",
         "y": [
          2.2
         ],
         "yaxis": "y"
        },
        {
         "hovertemplate": "ISO_CC=NAM<br>median=%{x}<br>Km=%{y}<extra></extra>",
         "legendgroup": "NAM",
         "marker": {
          "color": "#ab63fa",
          "symbol": "circle"
         },
         "mode": "markers",
         "name": "NAM",
         "orientation": "v",
         "showlegend": true,
         "type": "scatter",
         "x": [
          30.413810546875
         ],
         "xaxis": "x",
         "y": [
          25
         ],
         "yaxis": "y"
        },
        {
         "hovertemplate": "ISO_CC=NPL<br>median=%{x}<br>Km=%{y}<extra></extra>",
         "legendgroup": "NPL",
         "marker": {
          "color": "#FFA15A",
          "symbol": "circle"
         },
         "mode": "markers",
         "name": "NPL",
         "orientation": "v",
         "showlegend": true,
         "type": "scatter",
         "x": [
          2.23606811523438
         ],
         "xaxis": "x",
         "y": [
          2.2
         ],
         "yaxis": "y"
        },
        {
         "hovertemplate": "ISO_CC=NLD<br>median=%{x}<br>Km=%{y}<extra></extra>",
         "legendgroup": "NLD",
         "marker": {
          "color": "#19d3f3",
          "symbol": "circle"
         },
         "mode": "markers",
         "name": "NLD",
         "orientation": "v",
         "showlegend": true,
         "type": "scatter",
         "x": [
          2.82842700195312
         ],
         "xaxis": "x",
         "y": [
          2.2
         ],
         "yaxis": "y"
        },
        {
         "hovertemplate": "ISO_CC=NCL<br>median=%{x}<br>Km=%{y}<extra></extra>",
         "legendgroup": "NCL",
         "marker": {
          "color": "#FF6692",
          "symbol": "circle"
         },
         "mode": "markers",
         "name": "NCL",
         "orientation": "v",
         "showlegend": true,
         "type": "scatter",
         "x": [
          2.82842700195312
         ],
         "xaxis": "x",
         "y": [
          2.1
         ],
         "yaxis": "y"
        },
        {
         "hovertemplate": "ISO_CC=NZL<br>median=%{x}<br>Km=%{y}<extra></extra>",
         "legendgroup": "NZL",
         "marker": {
          "color": "#B6E880",
          "symbol": "circle"
         },
         "mode": "markers",
         "name": "NZL",
         "orientation": "v",
         "showlegend": true,
         "type": "scatter",
         "x": [
          2
         ],
         "xaxis": "x",
         "y": [
          2.5
         ],
         "yaxis": "y"
        },
        {
         "hovertemplate": "ISO_CC=NIC<br>median=%{x}<br>Km=%{y}<extra></extra>",
         "legendgroup": "NIC",
         "marker": {
          "color": "#FF97FF",
          "symbol": "circle"
         },
         "mode": "markers",
         "name": "NIC",
         "orientation": "v",
         "showlegend": true,
         "type": "scatter",
         "x": [
          4.12310498046875
         ],
         "xaxis": "x",
         "y": [
          4.3
         ],
         "yaxis": "y"
        },
        {
         "hovertemplate": "ISO_CC=NER<br>median=%{x}<br>Km=%{y}<extra></extra>",
         "legendgroup": "NER",
         "marker": {
          "color": "#FECB52",
          "symbol": "circle"
         },
         "mode": "markers",
         "name": "NER",
         "orientation": "v",
         "showlegend": true,
         "type": "scatter",
         "x": [
          30.5286796875
         ],
         "xaxis": "x",
         "y": [
          30
         ],
         "yaxis": "y"
        },
        {
         "hovertemplate": "ISO_CC=NGA<br>median=%{x}<br>Km=%{y}<extra></extra>",
         "legendgroup": "NGA",
         "marker": {
          "color": "#636efa",
          "symbol": "circle"
         },
         "mode": "markers",
         "name": "NGA",
         "orientation": "v",
         "showlegend": true,
         "type": "scatter",
         "x": [
          3.60555102539062
         ],
         "xaxis": "x",
         "y": [
          3.5
         ],
         "yaxis": "y"
        },
        {
         "hovertemplate": "ISO_CC=NIU<br>median=%{x}<br>Km=%{y}<extra></extra>",
         "legendgroup": "NIU",
         "marker": {
          "color": "#EF553B",
          "symbol": "circle"
         },
         "mode": "markers",
         "name": "NIU",
         "orientation": "v",
         "showlegend": true,
         "type": "scatter",
         "x": [
          426.27690625
         ],
         "xaxis": "x",
         "y": [
          2.3
         ],
         "yaxis": "y"
        },
        {
         "hovertemplate": "ISO_CC=PRK<br>median=%{x}<br>Km=%{y}<extra></extra>",
         "legendgroup": "PRK",
         "marker": {
          "color": "#00cc96",
          "symbol": "circle"
         },
         "mode": "markers",
         "name": "PRK",
         "orientation": "v",
         "showlegend": true,
         "type": "scatter",
         "x": [
          4
         ],
         "xaxis": "x",
         "y": [
          2.9
         ],
         "yaxis": "y"
        },
        {
         "hovertemplate": "ISO_CC=MKD<br>median=%{x}<br>Km=%{y}<extra></extra>",
         "legendgroup": "MKD",
         "marker": {
          "color": "#ab63fa",
          "symbol": "circle"
         },
         "mode": "markers",
         "name": "MKD",
         "orientation": "v",
         "showlegend": true,
         "type": "scatter",
         "x": [
          2.23606811523438
         ],
         "xaxis": "x",
         "y": [
          2.4
         ],
         "yaxis": "y"
        },
        {
         "hovertemplate": "ISO_CC=MNP<br>median=%{x}<br>Km=%{y}<extra></extra>",
         "legendgroup": "MNP",
         "marker": {
          "color": "#FFA15A",
          "symbol": "circle"
         },
         "mode": "markers",
         "name": "MNP",
         "orientation": "v",
         "showlegend": true,
         "type": "scatter",
         "x": [
          81.2157734375
         ],
         "xaxis": "x",
         "y": [
          2.2666666666666666
         ],
         "yaxis": "y"
        },
        {
         "hovertemplate": "ISO_CC=NOR<br>median=%{x}<br>Km=%{y}<extra></extra>",
         "legendgroup": "NOR",
         "marker": {
          "color": "#19d3f3",
          "symbol": "circle"
         },
         "mode": "markers",
         "name": "NOR",
         "orientation": "v",
         "showlegend": true,
         "type": "scatter",
         "x": [
          2.23606811523438
         ],
         "xaxis": "x",
         "y": [
          2.3
         ],
         "yaxis": "y"
        },
        {
         "hovertemplate": "ISO_CC=OMN<br>median=%{x}<br>Km=%{y}<extra></extra>",
         "legendgroup": "OMN",
         "marker": {
          "color": "#FF6692",
          "symbol": "circle"
         },
         "mode": "markers",
         "name": "OMN",
         "orientation": "v",
         "showlegend": true,
         "type": "scatter",
         "x": [
          46.51880859375
         ],
         "xaxis": "x",
         "y": [
          34
         ],
         "yaxis": "y"
        },
        {
         "hovertemplate": "ISO_CC=PAK<br>median=%{x}<br>Km=%{y}<extra></extra>",
         "legendgroup": "PAK",
         "marker": {
          "color": "#B6E880",
          "symbol": "circle"
         },
         "mode": "markers",
         "name": "PAK",
         "orientation": "v",
         "showlegend": true,
         "type": "scatter",
         "x": [
          3
         ],
         "xaxis": "x",
         "y": [
          2.7
         ],
         "yaxis": "y"
        },
        {
         "hovertemplate": "ISO_CC=PLW<br>median=%{x}<br>Km=%{y}<extra></extra>",
         "legendgroup": "PLW",
         "marker": {
          "color": "#FF97FF",
          "symbol": "circle"
         },
         "mode": "markers",
         "name": "PLW",
         "orientation": "v",
         "showlegend": true,
         "type": "scatter",
         "x": [
          4.24264111328125
         ],
         "xaxis": "x",
         "y": [
          2.266666666666666
         ],
         "yaxis": "y"
        },
        {
         "hovertemplate": "ISO_CC=PSE<br>median=%{x}<br>Km=%{y}<extra></extra>",
         "legendgroup": "PSE",
         "marker": {
          "color": "#FECB52",
          "symbol": "circle"
         },
         "mode": "markers",
         "name": "PSE",
         "orientation": "v",
         "showlegend": true,
         "type": "scatter",
         "x": [
          22.561029296875
         ],
         "xaxis": "x",
         "y": [
          31.066666666666663
         ],
         "yaxis": "y"
        },
        {
         "hovertemplate": "ISO_CC=PAN<br>median=%{x}<br>Km=%{y}<extra></extra>",
         "legendgroup": "PAN",
         "marker": {
          "color": "#636efa",
          "symbol": "circle"
         },
         "mode": "markers",
         "name": "PAN",
         "orientation": "v",
         "showlegend": true,
         "type": "scatter",
         "x": [
          2
         ],
         "xaxis": "x",
         "y": [
          3
         ],
         "yaxis": "y"
        },
        {
         "hovertemplate": "ISO_CC=PNG<br>median=%{x}<br>Km=%{y}<extra></extra>",
         "legendgroup": "PNG",
         "marker": {
          "color": "#EF553B",
          "symbol": "circle"
         },
         "mode": "markers",
         "name": "PNG",
         "orientation": "v",
         "showlegend": true,
         "type": "scatter",
         "x": [
          2
         ],
         "xaxis": "x",
         "y": [
          2.1
         ],
         "yaxis": "y"
        },
        {
         "hovertemplate": "ISO_CC=PRY<br>median=%{x}<br>Km=%{y}<extra></extra>",
         "legendgroup": "PRY",
         "marker": {
          "color": "#00cc96",
          "symbol": "circle"
         },
         "mode": "markers",
         "name": "PRY",
         "orientation": "v",
         "showlegend": true,
         "type": "scatter",
         "x": [
          2.82842700195312
         ],
         "xaxis": "x",
         "y": [
          4.1
         ],
         "yaxis": "y"
        },
        {
         "hovertemplate": "ISO_CC=PER<br>median=%{x}<br>Km=%{y}<extra></extra>",
         "legendgroup": "PER",
         "marker": {
          "color": "#ab63fa",
          "symbol": "circle"
         },
         "mode": "markers",
         "name": "PER",
         "orientation": "v",
         "showlegend": true,
         "type": "scatter",
         "x": [
          4.47213623046875
         ],
         "xaxis": "x",
         "y": [
          3.7
         ],
         "yaxis": "y"
        },
        {
         "hovertemplate": "ISO_CC=PHL<br>median=%{x}<br>Km=%{y}<extra></extra>",
         "legendgroup": "PHL",
         "marker": {
          "color": "#FFA15A",
          "symbol": "circle"
         },
         "mode": "markers",
         "name": "PHL",
         "orientation": "v",
         "showlegend": true,
         "type": "scatter",
         "x": [
          2.23606811523438
         ],
         "xaxis": "x",
         "y": [
          2.3
         ],
         "yaxis": "y"
        },
        {
         "hovertemplate": "ISO_CC=POL<br>median=%{x}<br>Km=%{y}<extra></extra>",
         "legendgroup": "POL",
         "marker": {
          "color": "#19d3f3",
          "symbol": "circle"
         },
         "mode": "markers",
         "name": "POL",
         "orientation": "v",
         "showlegend": true,
         "type": "scatter",
         "x": [
          3.16227807617188
         ],
         "xaxis": "x",
         "y": [
          2.8
         ],
         "yaxis": "y"
        },
        {
         "hovertemplate": "ISO_CC=PRT<br>median=%{x}<br>Km=%{y}<extra></extra>",
         "legendgroup": "PRT",
         "marker": {
          "color": "#FF6692",
          "symbol": "circle"
         },
         "mode": "markers",
         "name": "PRT",
         "orientation": "v",
         "showlegend": true,
         "type": "scatter",
         "x": [
          3.16227807617188
         ],
         "xaxis": "x",
         "y": [
          3.7
         ],
         "yaxis": "y"
        },
        {
         "hovertemplate": "ISO_CC=PRI<br>median=%{x}<br>Km=%{y}<extra></extra>",
         "legendgroup": "PRI",
         "marker": {
          "color": "#B6E880",
          "symbol": "circle"
         },
         "mode": "markers",
         "name": "PRI",
         "orientation": "v",
         "showlegend": true,
         "type": "scatter",
         "x": [
          2
         ],
         "xaxis": "x",
         "y": [
          2.6
         ],
         "yaxis": "y"
        },
        {
         "hovertemplate": "ISO_CC=QAT<br>median=%{x}<br>Km=%{y}<extra></extra>",
         "legendgroup": "QAT",
         "marker": {
          "color": "#FF97FF",
          "symbol": "circle"
         },
         "mode": "markers",
         "name": "QAT",
         "orientation": "v",
         "showlegend": true,
         "type": "scatter",
         "x": [
          195.816203125
         ],
         "xaxis": "x",
         "y": [
          185
         ],
         "yaxis": "y"
        },
        {
         "hovertemplate": "ISO_CC=REU<br>median=%{x}<br>Km=%{y}<extra></extra>",
         "legendgroup": "REU",
         "marker": {
          "color": "#FECB52",
          "symbol": "circle"
         },
         "mode": "markers",
         "name": "REU",
         "orientation": "v",
         "showlegend": true,
         "type": "scatter",
         "x": [
          7.28010986328125
         ],
         "xaxis": "x",
         "y": [
          13.507692307692308
         ],
         "yaxis": "y"
        },
        {
         "hovertemplate": "ISO_CC=ROU<br>median=%{x}<br>Km=%{y}<extra></extra>",
         "legendgroup": "ROU",
         "marker": {
          "color": "#636efa",
          "symbol": "circle"
         },
         "mode": "markers",
         "name": "ROU",
         "orientation": "v",
         "showlegend": true,
         "type": "scatter",
         "x": [
          3.16227807617188
         ],
         "xaxis": "x",
         "y": [
          2.4
         ],
         "yaxis": "y"
        },
        {
         "hovertemplate": "ISO_CC=RUS<br>median=%{x}<br>Km=%{y}<extra></extra>",
         "legendgroup": "RUS",
         "marker": {
          "color": "#EF553B",
          "symbol": "circle"
         },
         "mode": "markers",
         "name": "RUS",
         "orientation": "v",
         "showlegend": true,
         "type": "scatter",
         "x": [
          3.16227807617188
         ],
         "xaxis": "x",
         "y": [
          2.6
         ],
         "yaxis": "y"
        },
        {
         "hovertemplate": "ISO_CC=RWA<br>median=%{x}<br>Km=%{y}<extra></extra>",
         "legendgroup": "RWA",
         "marker": {
          "color": "#00cc96",
          "symbol": "circle"
         },
         "mode": "markers",
         "name": "RWA",
         "orientation": "v",
         "showlegend": true,
         "type": "scatter",
         "x": [
          4.12310498046875
         ],
         "xaxis": "x",
         "y": [
          4.3
         ],
         "yaxis": "y"
        },
        {
         "hovertemplate": "ISO_CC=KNA<br>median=%{x}<br>Km=%{y}<extra></extra>",
         "legendgroup": "KNA",
         "marker": {
          "color": "#ab63fa",
          "symbol": "circle"
         },
         "mode": "markers",
         "name": "KNA",
         "orientation": "v",
         "showlegend": true,
         "type": "scatter",
         "x": [
          29.681640625
         ],
         "xaxis": "x",
         "y": [
          3.783333333333333
         ],
         "yaxis": "y"
        },
        {
         "hovertemplate": "ISO_CC=SPM<br>median=%{x}<br>Km=%{y}<extra></extra>",
         "legendgroup": "SPM",
         "marker": {
          "color": "#FFA15A",
          "symbol": "circle"
         },
         "mode": "markers",
         "name": "SPM",
         "orientation": "v",
         "showlegend": true,
         "type": "scatter",
         "x": [
          5
         ],
         "xaxis": "x",
         "y": [
          3.2
         ],
         "yaxis": "y"
        },
        {
         "hovertemplate": "ISO_CC=WSM<br>median=%{x}<br>Km=%{y}<extra></extra>",
         "legendgroup": "WSM",
         "marker": {
          "color": "#19d3f3",
          "symbol": "circle"
         },
         "mode": "markers",
         "name": "WSM",
         "orientation": "v",
         "showlegend": true,
         "type": "scatter",
         "x": [
          5.3851650390625
         ],
         "xaxis": "x",
         "y": [
          2.3
         ],
         "yaxis": "y"
        },
        {
         "hovertemplate": "ISO_CC=STP<br>median=%{x}<br>Km=%{y}<extra></extra>",
         "legendgroup": "STP",
         "marker": {
          "color": "#FF6692",
          "symbol": "circle"
         },
         "mode": "markers",
         "name": "STP",
         "orientation": "v",
         "showlegend": true,
         "type": "scatter",
         "x": [
          7.28010986328125
         ],
         "xaxis": "x",
         "y": [
          4.975555555555555
         ],
         "yaxis": "y"
        },
        {
         "hovertemplate": "ISO_CC=SAU<br>median=%{x}<br>Km=%{y}<extra></extra>",
         "legendgroup": "SAU",
         "marker": {
          "color": "#B6E880",
          "symbol": "circle"
         },
         "mode": "markers",
         "name": "SAU",
         "orientation": "v",
         "showlegend": true,
         "type": "scatter",
         "x": [
          218.552
         ],
         "xaxis": "x",
         "y": [
          223
         ],
         "yaxis": "y"
        },
        {
         "hovertemplate": "ISO_CC=SEN<br>median=%{x}<br>Km=%{y}<extra></extra>",
         "legendgroup": "SEN",
         "marker": {
          "color": "#FF97FF",
          "symbol": "circle"
         },
         "mode": "markers",
         "name": "SEN",
         "orientation": "v",
         "showlegend": true,
         "type": "scatter",
         "x": [
          16.155490234375
         ],
         "xaxis": "x",
         "y": [
          14
         ],
         "yaxis": "y"
        },
        {
         "hovertemplate": "ISO_CC=SRB<br>median=%{x}<br>Km=%{y}<extra></extra>",
         "legendgroup": "SRB",
         "marker": {
          "color": "#FECB52",
          "symbol": "circle"
         },
         "mode": "markers",
         "name": "SRB",
         "orientation": "v",
         "showlegend": true,
         "type": "scatter",
         "x": [
          2.82842700195312
         ],
         "xaxis": "x",
         "y": [
          3.4000000000000004
         ],
         "yaxis": "y"
        },
        {
         "hovertemplate": "ISO_CC=SLE<br>median=%{x}<br>Km=%{y}<extra></extra>",
         "legendgroup": "SLE",
         "marker": {
          "color": "#636efa",
          "symbol": "circle"
         },
         "mode": "markers",
         "name": "SLE",
         "orientation": "v",
         "showlegend": true,
         "type": "scatter",
         "x": [
          3.16227807617188
         ],
         "xaxis": "x",
         "y": [
          3.2
         ],
         "yaxis": "y"
        },
        {
         "hovertemplate": "ISO_CC=SGP<br>median=%{x}<br>Km=%{y}<extra></extra>",
         "legendgroup": "SGP",
         "marker": {
          "color": "#EF553B",
          "symbol": "circle"
         },
         "mode": "markers",
         "name": "SGP",
         "orientation": "v",
         "showlegend": true,
         "type": "scatter",
         "x": [
          3.60555102539062
         ],
         "xaxis": "x",
         "y": [
          6.6
         ],
         "yaxis": "y"
        },
        {
         "hovertemplate": "ISO_CC=SVK<br>median=%{x}<br>Km=%{y}<extra></extra>",
         "legendgroup": "SVK",
         "marker": {
          "color": "#00cc96",
          "symbol": "circle"
         },
         "mode": "markers",
         "name": "SVK",
         "orientation": "v",
         "showlegend": true,
         "type": "scatter",
         "x": [
          2.23606811523438
         ],
         "xaxis": "x",
         "y": [
          2.4
         ],
         "yaxis": "y"
        },
        {
         "hovertemplate": "ISO_CC=SVN<br>median=%{x}<br>Km=%{y}<extra></extra>",
         "legendgroup": "SVN",
         "marker": {
          "color": "#ab63fa",
          "symbol": "circle"
         },
         "mode": "markers",
         "name": "SVN",
         "orientation": "v",
         "showlegend": true,
         "type": "scatter",
         "x": [
          2.23606811523438
         ],
         "xaxis": "x",
         "y": [
          2.5
         ],
         "yaxis": "y"
        },
        {
         "hovertemplate": "ISO_CC=SLB<br>median=%{x}<br>Km=%{y}<extra></extra>",
         "legendgroup": "SLB",
         "marker": {
          "color": "#FFA15A",
          "symbol": "circle"
         },
         "mode": "markers",
         "name": "SLB",
         "orientation": "v",
         "showlegend": true,
         "type": "scatter",
         "x": [
          2.82842700195312
         ],
         "xaxis": "x",
         "y": [
          2.1
         ],
         "yaxis": "y"
        },
        {
         "hovertemplate": "ISO_CC=SOM<br>median=%{x}<br>Km=%{y}<extra></extra>",
         "legendgroup": "SOM",
         "marker": {
          "color": "#19d3f3",
          "symbol": "circle"
         },
         "mode": "markers",
         "name": "SOM",
         "orientation": "v",
         "showlegend": true,
         "type": "scatter",
         "x": [
          68.4105234375
         ],
         "xaxis": "x",
         "y": [
          85
         ],
         "yaxis": "y"
        },
        {
         "hovertemplate": "ISO_CC=ZAF<br>median=%{x}<br>Km=%{y}<extra></extra>",
         "legendgroup": "ZAF",
         "marker": {
          "color": "#FF6692",
          "symbol": "circle"
         },
         "mode": "markers",
         "name": "ZAF",
         "orientation": "v",
         "showlegend": true,
         "type": "scatter",
         "x": [
          3
         ],
         "xaxis": "x",
         "y": [
          3
         ],
         "yaxis": "y"
        },
        {
         "hovertemplate": "ISO_CC=KOR<br>median=%{x}<br>Km=%{y}<extra></extra>",
         "legendgroup": "KOR",
         "marker": {
          "color": "#B6E880",
          "symbol": "circle"
         },
         "mode": "markers",
         "name": "KOR",
         "orientation": "v",
         "showlegend": true,
         "type": "scatter",
         "x": [
          4
         ],
         "xaxis": "x",
         "y": [
          3.6
         ],
         "yaxis": "y"
        },
        {
         "hovertemplate": "ISO_CC=SSD<br>median=%{x}<br>Km=%{y}<extra></extra>",
         "legendgroup": "SSD",
         "marker": {
          "color": "#FF97FF",
          "symbol": "circle"
         },
         "mode": "markers",
         "name": "SSD",
         "orientation": "v",
         "showlegend": true,
         "type": "scatter",
         "x": [
          12
         ],
         "xaxis": "x",
         "y": [
          6.55
         ],
         "yaxis": "y"
        },
        {
         "hovertemplate": "ISO_CC=LKA<br>median=%{x}<br>Km=%{y}<extra></extra>",
         "legendgroup": "LKA",
         "marker": {
          "color": "#FECB52",
          "symbol": "circle"
         },
         "mode": "markers",
         "name": "LKA",
         "orientation": "v",
         "showlegend": true,
         "type": "scatter",
         "x": [
          5
         ],
         "xaxis": "x",
         "y": [
          3.4
         ],
         "yaxis": "y"
        },
        {
         "hovertemplate": "ISO_CC=SDN<br>median=%{x}<br>Km=%{y}<extra></extra>",
         "legendgroup": "SDN",
         "marker": {
          "color": "#636efa",
          "symbol": "circle"
         },
         "mode": "markers",
         "name": "SDN",
         "orientation": "v",
         "showlegend": true,
         "type": "scatter",
         "x": [
          41.48494140625
         ],
         "xaxis": "x",
         "y": [
          20
         ],
         "yaxis": "y"
        },
        {
         "hovertemplate": "ISO_CC=SUR<br>median=%{x}<br>Km=%{y}<extra></extra>",
         "legendgroup": "SUR",
         "marker": {
          "color": "#EF553B",
          "symbol": "circle"
         },
         "mode": "markers",
         "name": "SUR",
         "orientation": "v",
         "showlegend": true,
         "type": "scatter",
         "x": [
          1
         ],
         "xaxis": "x",
         "y": [
          4.0375
         ],
         "yaxis": "y"
        },
        {
         "hovertemplate": "ISO_CC=SWE<br>median=%{x}<br>Km=%{y}<extra></extra>",
         "legendgroup": "SWE",
         "marker": {
          "color": "#00cc96",
          "symbol": "circle"
         },
         "mode": "markers",
         "name": "SWE",
         "orientation": "v",
         "showlegend": true,
         "type": "scatter",
         "x": [
          2
         ],
         "xaxis": "x",
         "y": [
          2.2
         ],
         "yaxis": "y"
        },
        {
         "hovertemplate": "ISO_CC=CHE<br>median=%{x}<br>Km=%{y}<extra></extra>",
         "legendgroup": "CHE",
         "marker": {
          "color": "#ab63fa",
          "symbol": "circle"
         },
         "mode": "markers",
         "name": "CHE",
         "orientation": "v",
         "showlegend": true,
         "type": "scatter",
         "x": [
          2.82842700195312
         ],
         "xaxis": "x",
         "y": [
          2.5
         ],
         "yaxis": "y"
        },
        {
         "hovertemplate": "ISO_CC=SYR<br>median=%{x}<br>Km=%{y}<extra></extra>",
         "legendgroup": "SYR",
         "marker": {
          "color": "#FFA15A",
          "symbol": "circle"
         },
         "mode": "markers",
         "name": "SYR",
         "orientation": "v",
         "showlegend": true,
         "type": "scatter",
         "x": [
          6.4031240234375
         ],
         "xaxis": "x",
         "y": [
          26.25
         ],
         "yaxis": "y"
        },
        {
         "hovertemplate": "ISO_CC=TJK<br>median=%{x}<br>Km=%{y}<extra></extra>",
         "legendgroup": "TJK",
         "marker": {
          "color": "#19d3f3",
          "symbol": "circle"
         },
         "mode": "markers",
         "name": "TJK",
         "orientation": "v",
         "showlegend": true,
         "type": "scatter",
         "x": [
          3.16227807617188
         ],
         "xaxis": "x",
         "y": [
          1.9
         ],
         "yaxis": "y"
        },
        {
         "hovertemplate": "ISO_CC=TZA<br>median=%{x}<br>Km=%{y}<extra></extra>",
         "legendgroup": "TZA",
         "marker": {
          "color": "#FF6692",
          "symbol": "circle"
         },
         "mode": "markers",
         "name": "TZA",
         "orientation": "v",
         "showlegend": true,
         "type": "scatter",
         "x": [
          2.23606811523438
         ],
         "xaxis": "x",
         "y": [
          3
         ],
         "yaxis": "y"
        },
        {
         "hovertemplate": "ISO_CC=THA<br>median=%{x}<br>Km=%{y}<extra></extra>",
         "legendgroup": "THA",
         "marker": {
          "color": "#B6E880",
          "symbol": "circle"
         },
         "mode": "markers",
         "name": "THA",
         "orientation": "v",
         "showlegend": true,
         "type": "scatter",
         "x": [
          3
         ],
         "xaxis": "x",
         "y": [
          2.4
         ],
         "yaxis": "y"
        },
        {
         "hovertemplate": "ISO_CC=TLS<br>median=%{x}<br>Km=%{y}<extra></extra>",
         "legendgroup": "TLS",
         "marker": {
          "color": "#FF97FF",
          "symbol": "circle"
         },
         "mode": "markers",
         "name": "TLS",
         "orientation": "v",
         "showlegend": true,
         "type": "scatter",
         "x": [
          29
         ],
         "xaxis": "x",
         "y": [
          3.5
         ],
         "yaxis": "y"
        },
        {
         "hovertemplate": "ISO_CC=TGO<br>median=%{x}<br>Km=%{y}<extra></extra>",
         "legendgroup": "TGO",
         "marker": {
          "color": "#FECB52",
          "symbol": "circle"
         },
         "mode": "markers",
         "name": "TGO",
         "orientation": "v",
         "showlegend": true,
         "type": "scatter",
         "x": [
          3.60555102539062
         ],
         "xaxis": "x",
         "y": [
          3.4
         ],
         "yaxis": "y"
        },
        {
         "hovertemplate": "ISO_CC=TON<br>median=%{x}<br>Km=%{y}<extra></extra>",
         "legendgroup": "TON",
         "marker": {
          "color": "#636efa",
          "symbol": "circle"
         },
         "mode": "markers",
         "name": "TON",
         "orientation": "v",
         "showlegend": true,
         "type": "scatter",
         "x": [
          1
         ],
         "xaxis": "x",
         "y": [
          2.3
         ],
         "yaxis": "y"
        },
        {
         "hovertemplate": "ISO_CC=TTO<br>median=%{x}<br>Km=%{y}<extra></extra>",
         "legendgroup": "TTO",
         "marker": {
          "color": "#EF553B",
          "symbol": "circle"
         },
         "mode": "markers",
         "name": "TTO",
         "orientation": "v",
         "showlegend": true,
         "type": "scatter",
         "x": [
          2
         ],
         "xaxis": "x",
         "y": [
          4.8
         ],
         "yaxis": "y"
        },
        {
         "hovertemplate": "ISO_CC=TUN<br>median=%{x}<br>Km=%{y}<extra></extra>",
         "legendgroup": "TUN",
         "marker": {
          "color": "#00cc96",
          "symbol": "circle"
         },
         "mode": "markers",
         "name": "TUN",
         "orientation": "v",
         "showlegend": true,
         "type": "scatter",
         "x": [
          14.3178203125
         ],
         "xaxis": "x",
         "y": [
          8.1
         ],
         "yaxis": "y"
        },
        {
         "hovertemplate": "ISO_CC=TUR<br>median=%{x}<br>Km=%{y}<extra></extra>",
         "legendgroup": "TUR",
         "marker": {
          "color": "#ab63fa",
          "symbol": "circle"
         },
         "mode": "markers",
         "name": "TUR",
         "orientation": "v",
         "showlegend": true,
         "type": "scatter",
         "x": [
          4.12310498046875
         ],
         "xaxis": "x",
         "y": [
          6.784375000000001
         ],
         "yaxis": "y"
        },
        {
         "hovertemplate": "ISO_CC=TKM<br>median=%{x}<br>Km=%{y}<extra></extra>",
         "legendgroup": "TKM",
         "marker": {
          "color": "#FFA15A",
          "symbol": "circle"
         },
         "mode": "markers",
         "name": "TKM",
         "orientation": "v",
         "showlegend": true,
         "type": "scatter",
         "x": [
          19.723080078125
         ],
         "xaxis": "x",
         "y": [
          2.6
         ],
         "yaxis": "y"
        },
        {
         "hovertemplate": "ISO_CC=UGA<br>median=%{x}<br>Km=%{y}<extra></extra>",
         "legendgroup": "UGA",
         "marker": {
          "color": "#19d3f3",
          "symbol": "circle"
         },
         "mode": "markers",
         "name": "UGA",
         "orientation": "v",
         "showlegend": true,
         "type": "scatter",
         "x": [
          2.82842700195312
         ],
         "xaxis": "x",
         "y": [
          3.3
         ],
         "yaxis": "y"
        },
        {
         "hovertemplate": "ISO_CC=UKR<br>median=%{x}<br>Km=%{y}<extra></extra>",
         "legendgroup": "UKR",
         "marker": {
          "color": "#FF6692",
          "symbol": "circle"
         },
         "mode": "markers",
         "name": "UKR",
         "orientation": "v",
         "showlegend": true,
         "type": "scatter",
         "x": [
          3
         ],
         "xaxis": "x",
         "y": [
          2.6
         ],
         "yaxis": "y"
        },
        {
         "hovertemplate": "ISO_CC=ARE<br>median=%{x}<br>Km=%{y}<extra></extra>",
         "legendgroup": "ARE",
         "marker": {
          "color": "#B6E880",
          "symbol": "circle"
         },
         "mode": "markers",
         "name": "ARE",
         "orientation": "v",
         "showlegend": true,
         "type": "scatter",
         "x": [
          160.552203125
         ],
         "xaxis": "x",
         "y": [
          176
         ],
         "yaxis": "y"
        },
        {
         "hovertemplate": "ISO_CC=GBR<br>median=%{x}<br>Km=%{y}<extra></extra>",
         "legendgroup": "GBR",
         "marker": {
          "color": "#FF97FF",
          "symbol": "circle"
         },
         "mode": "markers",
         "name": "GBR",
         "orientation": "v",
         "showlegend": true,
         "type": "scatter",
         "x": [
          3.16227807617188
         ],
         "xaxis": "x",
         "y": [
          2.4
         ],
         "yaxis": "y"
        },
        {
         "hovertemplate": "ISO_CC=USA<br>median=%{x}<br>Km=%{y}<extra></extra>",
         "legendgroup": "USA",
         "marker": {
          "color": "#FECB52",
          "symbol": "circle"
         },
         "mode": "markers",
         "name": "USA",
         "orientation": "v",
         "showlegend": true,
         "type": "scatter",
         "x": [
          3.60555102539062
         ],
         "xaxis": "x",
         "y": [
          3.6
         ],
         "yaxis": "y"
        },
        {
         "hovertemplate": "ISO_CC=URY<br>median=%{x}<br>Km=%{y}<extra></extra>",
         "legendgroup": "URY",
         "marker": {
          "color": "#636efa",
          "symbol": "circle"
         },
         "mode": "markers",
         "name": "URY",
         "orientation": "v",
         "showlegend": true,
         "type": "scatter",
         "x": [
          18.43908984375
         ],
         "xaxis": "x",
         "y": [
          9.7
         ],
         "yaxis": "y"
        },
        {
         "hovertemplate": "ISO_CC=UZB<br>median=%{x}<br>Km=%{y}<extra></extra>",
         "legendgroup": "UZB",
         "marker": {
          "color": "#EF553B",
          "symbol": "circle"
         },
         "mode": "markers",
         "name": "UZB",
         "orientation": "v",
         "showlegend": true,
         "type": "scatter",
         "x": [
          4
         ],
         "xaxis": "x",
         "y": [
          2.3
         ],
         "yaxis": "y"
        },
        {
         "hovertemplate": "ISO_CC=VUT<br>median=%{x}<br>Km=%{y}<extra></extra>",
         "legendgroup": "VUT",
         "marker": {
          "color": "#00cc96",
          "symbol": "circle"
         },
         "mode": "markers",
         "name": "VUT",
         "orientation": "v",
         "showlegend": true,
         "type": "scatter",
         "x": [
          1.41421398925781
         ],
         "xaxis": "x",
         "y": [
          2.1
         ],
         "yaxis": "y"
        },
        {
         "hovertemplate": "ISO_CC=VEN<br>median=%{x}<br>Km=%{y}<extra></extra>",
         "legendgroup": "VEN",
         "marker": {
          "color": "#ab63fa",
          "symbol": "circle"
         },
         "mode": "markers",
         "name": "VEN",
         "orientation": "v",
         "showlegend": true,
         "type": "scatter",
         "x": [
          6.08276318359375
         ],
         "xaxis": "x",
         "y": [
          5
         ],
         "yaxis": "y"
        },
        {
         "hovertemplate": "ISO_CC=VNM<br>median=%{x}<br>Km=%{y}<extra></extra>",
         "legendgroup": "VNM",
         "marker": {
          "color": "#FFA15A",
          "symbol": "circle"
         },
         "mode": "markers",
         "name": "VNM",
         "orientation": "v",
         "showlegend": true,
         "type": "scatter",
         "x": [
          2.23606811523438
         ],
         "xaxis": "x",
         "y": [
          2.1
         ],
         "yaxis": "y"
        },
        {
         "hovertemplate": "ISO_CC=YEM<br>median=%{x}<br>Km=%{y}<extra></extra>",
         "legendgroup": "YEM",
         "marker": {
          "color": "#19d3f3",
          "symbol": "circle"
         },
         "mode": "markers",
         "name": "YEM",
         "orientation": "v",
         "showlegend": true,
         "type": "scatter",
         "x": [
          20.808650390625
         ],
         "xaxis": "x",
         "y": [
          23
         ],
         "yaxis": "y"
        },
        {
         "hovertemplate": "ISO_CC=ZMB<br>median=%{x}<br>Km=%{y}<extra></extra>",
         "legendgroup": "ZMB",
         "marker": {
          "color": "#FF6692",
          "symbol": "circle"
         },
         "mode": "markers",
         "name": "ZMB",
         "orientation": "v",
         "showlegend": true,
         "type": "scatter",
         "x": [
          2.82842700195312
         ],
         "xaxis": "x",
         "y": [
          3
         ],
         "yaxis": "y"
        },
        {
         "hovertemplate": "ISO_CC=ZWE<br>median=%{x}<br>Km=%{y}<extra></extra>",
         "legendgroup": "ZWE",
         "marker": {
          "color": "#B6E880",
          "symbol": "circle"
         },
         "mode": "markers",
         "name": "ZWE",
         "orientation": "v",
         "showlegend": true,
         "type": "scatter",
         "x": [
          3.16227807617188
         ],
         "xaxis": "x",
         "y": [
          3.6
         ],
         "yaxis": "y"
        }
       ],
       "layout": {
        "legend": {
         "title": {
          "text": "ISO_CC"
         },
         "tracegroupgap": 0
        },
        "margin": {
         "t": 60
        },
        "template": {
         "data": {
          "bar": [
           {
            "error_x": {
             "color": "#2a3f5f"
            },
            "error_y": {
             "color": "#2a3f5f"
            },
            "marker": {
             "line": {
              "color": "#E5ECF6",
              "width": 0.5
             },
             "pattern": {
              "fillmode": "overlay",
              "size": 10,
              "solidity": 0.2
             }
            },
            "type": "bar"
           }
          ],
          "barpolar": [
           {
            "marker": {
             "line": {
              "color": "#E5ECF6",
              "width": 0.5
             },
             "pattern": {
              "fillmode": "overlay",
              "size": 10,
              "solidity": 0.2
             }
            },
            "type": "barpolar"
           }
          ],
          "carpet": [
           {
            "aaxis": {
             "endlinecolor": "#2a3f5f",
             "gridcolor": "white",
             "linecolor": "white",
             "minorgridcolor": "white",
             "startlinecolor": "#2a3f5f"
            },
            "baxis": {
             "endlinecolor": "#2a3f5f",
             "gridcolor": "white",
             "linecolor": "white",
             "minorgridcolor": "white",
             "startlinecolor": "#2a3f5f"
            },
            "type": "carpet"
           }
          ],
          "choropleth": [
           {
            "colorbar": {
             "outlinewidth": 0,
             "ticks": ""
            },
            "type": "choropleth"
           }
          ],
          "contour": [
           {
            "colorbar": {
             "outlinewidth": 0,
             "ticks": ""
            },
            "colorscale": [
             [
              0,
              "#0d0887"
             ],
             [
              0.1111111111111111,
              "#46039f"
             ],
             [
              0.2222222222222222,
              "#7201a8"
             ],
             [
              0.3333333333333333,
              "#9c179e"
             ],
             [
              0.4444444444444444,
              "#bd3786"
             ],
             [
              0.5555555555555556,
              "#d8576b"
             ],
             [
              0.6666666666666666,
              "#ed7953"
             ],
             [
              0.7777777777777778,
              "#fb9f3a"
             ],
             [
              0.8888888888888888,
              "#fdca26"
             ],
             [
              1,
              "#f0f921"
             ]
            ],
            "type": "contour"
           }
          ],
          "contourcarpet": [
           {
            "colorbar": {
             "outlinewidth": 0,
             "ticks": ""
            },
            "type": "contourcarpet"
           }
          ],
          "heatmap": [
           {
            "colorbar": {
             "outlinewidth": 0,
             "ticks": ""
            },
            "colorscale": [
             [
              0,
              "#0d0887"
             ],
             [
              0.1111111111111111,
              "#46039f"
             ],
             [
              0.2222222222222222,
              "#7201a8"
             ],
             [
              0.3333333333333333,
              "#9c179e"
             ],
             [
              0.4444444444444444,
              "#bd3786"
             ],
             [
              0.5555555555555556,
              "#d8576b"
             ],
             [
              0.6666666666666666,
              "#ed7953"
             ],
             [
              0.7777777777777778,
              "#fb9f3a"
             ],
             [
              0.8888888888888888,
              "#fdca26"
             ],
             [
              1,
              "#f0f921"
             ]
            ],
            "type": "heatmap"
           }
          ],
          "heatmapgl": [
           {
            "colorbar": {
             "outlinewidth": 0,
             "ticks": ""
            },
            "colorscale": [
             [
              0,
              "#0d0887"
             ],
             [
              0.1111111111111111,
              "#46039f"
             ],
             [
              0.2222222222222222,
              "#7201a8"
             ],
             [
              0.3333333333333333,
              "#9c179e"
             ],
             [
              0.4444444444444444,
              "#bd3786"
             ],
             [
              0.5555555555555556,
              "#d8576b"
             ],
             [
              0.6666666666666666,
              "#ed7953"
             ],
             [
              0.7777777777777778,
              "#fb9f3a"
             ],
             [
              0.8888888888888888,
              "#fdca26"
             ],
             [
              1,
              "#f0f921"
             ]
            ],
            "type": "heatmapgl"
           }
          ],
          "histogram": [
           {
            "marker": {
             "pattern": {
              "fillmode": "overlay",
              "size": 10,
              "solidity": 0.2
             }
            },
            "type": "histogram"
           }
          ],
          "histogram2d": [
           {
            "colorbar": {
             "outlinewidth": 0,
             "ticks": ""
            },
            "colorscale": [
             [
              0,
              "#0d0887"
             ],
             [
              0.1111111111111111,
              "#46039f"
             ],
             [
              0.2222222222222222,
              "#7201a8"
             ],
             [
              0.3333333333333333,
              "#9c179e"
             ],
             [
              0.4444444444444444,
              "#bd3786"
             ],
             [
              0.5555555555555556,
              "#d8576b"
             ],
             [
              0.6666666666666666,
              "#ed7953"
             ],
             [
              0.7777777777777778,
              "#fb9f3a"
             ],
             [
              0.8888888888888888,
              "#fdca26"
             ],
             [
              1,
              "#f0f921"
             ]
            ],
            "type": "histogram2d"
           }
          ],
          "histogram2dcontour": [
           {
            "colorbar": {
             "outlinewidth": 0,
             "ticks": ""
            },
            "colorscale": [
             [
              0,
              "#0d0887"
             ],
             [
              0.1111111111111111,
              "#46039f"
             ],
             [
              0.2222222222222222,
              "#7201a8"
             ],
             [
              0.3333333333333333,
              "#9c179e"
             ],
             [
              0.4444444444444444,
              "#bd3786"
             ],
             [
              0.5555555555555556,
              "#d8576b"
             ],
             [
              0.6666666666666666,
              "#ed7953"
             ],
             [
              0.7777777777777778,
              "#fb9f3a"
             ],
             [
              0.8888888888888888,
              "#fdca26"
             ],
             [
              1,
              "#f0f921"
             ]
            ],
            "type": "histogram2dcontour"
           }
          ],
          "mesh3d": [
           {
            "colorbar": {
             "outlinewidth": 0,
             "ticks": ""
            },
            "type": "mesh3d"
           }
          ],
          "parcoords": [
           {
            "line": {
             "colorbar": {
              "outlinewidth": 0,
              "ticks": ""
             }
            },
            "type": "parcoords"
           }
          ],
          "pie": [
           {
            "automargin": true,
            "type": "pie"
           }
          ],
          "scatter": [
           {
            "fillpattern": {
             "fillmode": "overlay",
             "size": 10,
             "solidity": 0.2
            },
            "type": "scatter"
           }
          ],
          "scatter3d": [
           {
            "line": {
             "colorbar": {
              "outlinewidth": 0,
              "ticks": ""
             }
            },
            "marker": {
             "colorbar": {
              "outlinewidth": 0,
              "ticks": ""
             }
            },
            "type": "scatter3d"
           }
          ],
          "scattercarpet": [
           {
            "marker": {
             "colorbar": {
              "outlinewidth": 0,
              "ticks": ""
             }
            },
            "type": "scattercarpet"
           }
          ],
          "scattergeo": [
           {
            "marker": {
             "colorbar": {
              "outlinewidth": 0,
              "ticks": ""
             }
            },
            "type": "scattergeo"
           }
          ],
          "scattergl": [
           {
            "marker": {
             "colorbar": {
              "outlinewidth": 0,
              "ticks": ""
             }
            },
            "type": "scattergl"
           }
          ],
          "scattermapbox": [
           {
            "marker": {
             "colorbar": {
              "outlinewidth": 0,
              "ticks": ""
             }
            },
            "type": "scattermapbox"
           }
          ],
          "scatterpolar": [
           {
            "marker": {
             "colorbar": {
              "outlinewidth": 0,
              "ticks": ""
             }
            },
            "type": "scatterpolar"
           }
          ],
          "scatterpolargl": [
           {
            "marker": {
             "colorbar": {
              "outlinewidth": 0,
              "ticks": ""
             }
            },
            "type": "scatterpolargl"
           }
          ],
          "scatterternary": [
           {
            "marker": {
             "colorbar": {
              "outlinewidth": 0,
              "ticks": ""
             }
            },
            "type": "scatterternary"
           }
          ],
          "surface": [
           {
            "colorbar": {
             "outlinewidth": 0,
             "ticks": ""
            },
            "colorscale": [
             [
              0,
              "#0d0887"
             ],
             [
              0.1111111111111111,
              "#46039f"
             ],
             [
              0.2222222222222222,
              "#7201a8"
             ],
             [
              0.3333333333333333,
              "#9c179e"
             ],
             [
              0.4444444444444444,
              "#bd3786"
             ],
             [
              0.5555555555555556,
              "#d8576b"
             ],
             [
              0.6666666666666666,
              "#ed7953"
             ],
             [
              0.7777777777777778,
              "#fb9f3a"
             ],
             [
              0.8888888888888888,
              "#fdca26"
             ],
             [
              1,
              "#f0f921"
             ]
            ],
            "type": "surface"
           }
          ],
          "table": [
           {
            "cells": {
             "fill": {
              "color": "#EBF0F8"
             },
             "line": {
              "color": "white"
             }
            },
            "header": {
             "fill": {
              "color": "#C8D4E3"
             },
             "line": {
              "color": "white"
             }
            },
            "type": "table"
           }
          ]
         },
         "layout": {
          "annotationdefaults": {
           "arrowcolor": "#2a3f5f",
           "arrowhead": 0,
           "arrowwidth": 1
          },
          "autotypenumbers": "strict",
          "coloraxis": {
           "colorbar": {
            "outlinewidth": 0,
            "ticks": ""
           }
          },
          "colorscale": {
           "diverging": [
            [
             0,
             "#8e0152"
            ],
            [
             0.1,
             "#c51b7d"
            ],
            [
             0.2,
             "#de77ae"
            ],
            [
             0.3,
             "#f1b6da"
            ],
            [
             0.4,
             "#fde0ef"
            ],
            [
             0.5,
             "#f7f7f7"
            ],
            [
             0.6,
             "#e6f5d0"
            ],
            [
             0.7,
             "#b8e186"
            ],
            [
             0.8,
             "#7fbc41"
            ],
            [
             0.9,
             "#4d9221"
            ],
            [
             1,
             "#276419"
            ]
           ],
           "sequential": [
            [
             0,
             "#0d0887"
            ],
            [
             0.1111111111111111,
             "#46039f"
            ],
            [
             0.2222222222222222,
             "#7201a8"
            ],
            [
             0.3333333333333333,
             "#9c179e"
            ],
            [
             0.4444444444444444,
             "#bd3786"
            ],
            [
             0.5555555555555556,
             "#d8576b"
            ],
            [
             0.6666666666666666,
             "#ed7953"
            ],
            [
             0.7777777777777778,
             "#fb9f3a"
            ],
            [
             0.8888888888888888,
             "#fdca26"
            ],
            [
             1,
             "#f0f921"
            ]
           ],
           "sequentialminus": [
            [
             0,
             "#0d0887"
            ],
            [
             0.1111111111111111,
             "#46039f"
            ],
            [
             0.2222222222222222,
             "#7201a8"
            ],
            [
             0.3333333333333333,
             "#9c179e"
            ],
            [
             0.4444444444444444,
             "#bd3786"
            ],
            [
             0.5555555555555556,
             "#d8576b"
            ],
            [
             0.6666666666666666,
             "#ed7953"
            ],
            [
             0.7777777777777778,
             "#fb9f3a"
            ],
            [
             0.8888888888888888,
             "#fdca26"
            ],
            [
             1,
             "#f0f921"
            ]
           ]
          },
          "colorway": [
           "#636efa",
           "#EF553B",
           "#00cc96",
           "#ab63fa",
           "#FFA15A",
           "#19d3f3",
           "#FF6692",
           "#B6E880",
           "#FF97FF",
           "#FECB52"
          ],
          "font": {
           "color": "#2a3f5f"
          },
          "geo": {
           "bgcolor": "white",
           "lakecolor": "white",
           "landcolor": "#E5ECF6",
           "showlakes": true,
           "showland": true,
           "subunitcolor": "white"
          },
          "hoverlabel": {
           "align": "left"
          },
          "hovermode": "closest",
          "mapbox": {
           "style": "light"
          },
          "paper_bgcolor": "white",
          "plot_bgcolor": "#E5ECF6",
          "polar": {
           "angularaxis": {
            "gridcolor": "white",
            "linecolor": "white",
            "ticks": ""
           },
           "bgcolor": "#E5ECF6",
           "radialaxis": {
            "gridcolor": "white",
            "linecolor": "white",
            "ticks": ""
           }
          },
          "scene": {
           "xaxis": {
            "backgroundcolor": "#E5ECF6",
            "gridcolor": "white",
            "gridwidth": 2,
            "linecolor": "white",
            "showbackground": true,
            "ticks": "",
            "zerolinecolor": "white"
           },
           "yaxis": {
            "backgroundcolor": "#E5ECF6",
            "gridcolor": "white",
            "gridwidth": 2,
            "linecolor": "white",
            "showbackground": true,
            "ticks": "",
            "zerolinecolor": "white"
           },
           "zaxis": {
            "backgroundcolor": "#E5ECF6",
            "gridcolor": "white",
            "gridwidth": 2,
            "linecolor": "white",
            "showbackground": true,
            "ticks": "",
            "zerolinecolor": "white"
           }
          },
          "shapedefaults": {
           "line": {
            "color": "#2a3f5f"
           }
          },
          "ternary": {
           "aaxis": {
            "gridcolor": "white",
            "linecolor": "white",
            "ticks": ""
           },
           "baxis": {
            "gridcolor": "white",
            "linecolor": "white",
            "ticks": ""
           },
           "bgcolor": "#E5ECF6",
           "caxis": {
            "gridcolor": "white",
            "linecolor": "white",
            "ticks": ""
           }
          },
          "title": {
           "x": 0.05
          },
          "xaxis": {
           "automargin": true,
           "gridcolor": "white",
           "linecolor": "white",
           "ticks": "",
           "title": {
            "standoff": 15
           },
           "zerolinecolor": "white",
           "zerolinewidth": 2
          },
          "yaxis": {
           "automargin": true,
           "gridcolor": "white",
           "linecolor": "white",
           "ticks": "",
           "title": {
            "standoff": 15
           },
           "zerolinecolor": "white",
           "zerolinewidth": 2
          }
         }
        },
        "xaxis": {
         "anchor": "y",
         "domain": [
          0,
          1
         ],
         "title": {
          "text": "median"
         }
        },
        "yaxis": {
         "anchor": "x",
         "domain": [
          0,
          1
         ],
         "title": {
          "text": "Km"
         }
        }
       }
      }
     },
     "metadata": {},
     "output_type": "display_data"
    }
   ],
   "source": [
    "# create plot of df_compare\n",
    "fig = px.scatter(df_compare, x=\"median\", y=\"Km\", color=\"ISO_CC\")\n",
    "fig.show()\n"
   ]
  },
  {
   "cell_type": "code",
   "execution_count": 116,
   "metadata": {},
   "outputs": [
    {
     "data": {
      "image/png": "[encoded data removed]",
      "text/plain": [
       "<Figure size 432x288 with 1 Axes>"
      ]
     },
     "metadata": {
      "needs_background": "light"
     },
     "output_type": "display_data"
    }
   ],
   "source": [
    "\n",
    "\n",
    "\n",
    "\n",
    "a= df2[\"distance_to_water1\"] \n",
    "b= df2[\"pop_zone\"]\n",
    "binwidth = 1\n",
    "plt.hist(a,bins=np.arange(0, 20 + binwidth, binwidth), weights=b)\n",
    "# plt.hist(a,)\n",
    "plt.show()"
   ]
  },
  {
   "cell_type": "code",
   "execution_count": 117,
   "metadata": {},
   "outputs": [],
   "source": [
    "# set meidan value in df_input\n",
    "#\n",
    "# for i in df_input.index:\n",
    "#     df2 = df2[df2[\"ISO_CC\"] == i]\n",
    "\n",
    "\n",
    "# df_input.loc[i][\"median\"]\n",
    "\n",
    "# weighted_median(df2, \"distance_to_water1\", \"pop_zone\")"
   ]
  }
 ],
 "metadata": {
  "kernelspec": {
   "display_name": "Python 3",
   "language": "python",
   "name": "python3"
  },
  "language_info": {
   "codemirror_mode": {
    "name": "ipython",
    "version": 3
   },
   "file_extension": ".py",
   "mimetype": "text/x-python",
   "name": "python",
   "nbconvert_exporter": "python",
   "pygments_lexer": "ipython3",
   "version": "3.9.13"
  },
  "orig_nbformat": 4,
  "vscode": {
   "interpreter": {
    "hash": "c09a8b249899dc4589e662892666698668e7a3ca1327801a18c24efb244ad2c6"
   }
  }
 },
 "nbformat": 4,
 "nbformat_minor": 2
}
