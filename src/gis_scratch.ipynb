{
 "cells": [
  {
   "cell_type": "code",
   "execution_count": null,
   "metadata": {},
   "outputs": [],
   "source": [
    "\n",
    "import pathlib\n",
    "import pandas as pd\n",
    "import numpy as np\n",
    "import matplotlib.pyplot as plt\n",
    "import plotly.express as px\n",
    "import weightedstats as ws\n",
    "\n",
    "\n",
    "# consider using this for weighted stats: http://www.ccgalberta.com/pygeostat/welcome.html\n",
    "\n"
   ]
  },
  {
   "cell_type": "code",
   "execution_count": null,
   "metadata": {},
   "outputs": [],
   "source": [
    "def weighted_mean(var, wts):\n",
    "    \"\"\"Calculates the weighted mean\"\"\"\n",
    "    return np.average(var, weights=wts)\n",
    "\n",
    "def weighted_median(df, val, weight):\n",
    "    \"\"\"Calculates the weighted median\n",
    "    ArithmeticError\n",
    "    If the sum of the weights is zero, or if the weights are not positive.\n",
    "    \"\"\"\n",
    "    df_sorted = df.sort_values(val)\n",
    "    cumsum = df_sorted[weight].cumsum()\n",
    "    cutoff = df_sorted[weight].sum() / 2.\n",
    "    return df_sorted[cumsum >= cutoff][val].iloc[0]\n",
    "\n",
    "def weighted_variance(var, wts):\n",
    "    \"\"\"Calculates the weighted variance\"\"\"\n",
    "    return np.average((var - weighted_mean(var, wts))**2, weights=wts)\n",
    "\n",
    "\n",
    "def weighted_skew(var, wts):\n",
    "    \"\"\"Calculates the weighted skewness\"\"\"\n",
    "    return (np.average((var - weighted_mean(var, wts))**3, weights=wts) /\n",
    "            weighted_variance(var, wts)**(1.5))\n",
    "\n",
    "def weighted_kurtosis(var, wts):\n",
    "    \"\"\"Calculates the weighted skewness\"\"\"\n",
    "    return (np.average((var - weighted_mean(var, wts))**4, weights=wts) /\n",
    "            weighted_variance(var, wts)**(2))"
   ]
  },
  {
   "cell_type": "code",
   "execution_count": null,
   "metadata": {},
   "outputs": [],
   "source": [
    "\n",
    "def load_data(data_file: str) -> pd.DataFrame:\n",
    "    print \n",
    "    '''\n",
    "    Load data from /data directory\n",
    "    '''\n",
    "    PATH = pathlib.Path().resolve()\n",
    "    DATA_PATH = PATH.joinpath(\"../data\").resolve()\n",
    "    return pd.read_csv(DATA_PATH.joinpath(data_file))\n",
    "\n"
   ]
  },
  {
   "cell_type": "code",
   "execution_count": null,
   "metadata": {},
   "outputs": [],
   "source": [
    "\n",
    "\n",
    "df1 = load_data(\"points_5min_15min_dtw_csv.csv\")\n",
    "# import df_input and set index as alpha 3 \n",
    "df_input = load_data(\"country_data_master_interpolated.csv\")\n",
    "# set index to alpha 3\n",
    "df_input.set_index(\"alpha3\", inplace=True)\n",
    "\n",
    "\n",
    "df1[\"max distance walking\"] = 3.0 # temp, set max distance reachbale for all countriesl, will change to be bespoke soon\n",
    "df1[\"max distance cycling\"] = 9.0 # temp, set max distance reachbale for all countriesl, will change to be bespoke soon\n",
    "\n"
   ]
  },
  {
   "cell_type": "code",
   "execution_count": null,
   "metadata": {},
   "outputs": [],
   "source": [
    "# df1.head()\n",
    "# df_zones = df1.merge(df_input, left_on=\"ISOCODE\", right_on=\"alpha3\")\n",
    "\n",
    "df_zones.columns"
   ]
  },
  {
   "cell_type": "code",
   "execution_count": null,
   "metadata": {},
   "outputs": [],
   "source": [
    "\n",
    "# this analysis loses some data as the overlap between the rasters is not perfect. To reduce this error, use the 30 arc second data. Too much heavy lifting for my computer to do this at the moment.\n",
    "\n",
    "#merge df_input and df_zones on ISO_CC (so we can use the UN population data)\n",
    "df_zones = df1.merge(df_input, left_on=\"ISOCODE\", right_on=\"alpha3\")\n",
    "df_zones[\"dtw_1\"] = df_zones[\"dtw_1\"] / 1000 # turn to kms\n",
    "\n",
    "#adjust population to account for 9 values per raster point (2.5 to 5 arc min resoltuions. 9 values per point)\n",
    "df_zones[\"AdjPopFloat\"] = df_zones[\"pop_count_15_1\"] / 9 \n",
    "\n",
    "# # convert population density to percent of national population on a per country basis, grouped by ISO_CC\n",
    "df_zones[\"pop_density_perc\"] = df_zones.groupby(\"ISOCODE\")[\"AdjPopFloat\"].apply(lambda x: x / x.sum())\n",
    "\n",
    "# multiply population density by population on a per country basis\n",
    "df_zones[\"pop_zone\"] = df_zones[\"pop_density_perc\"] * df_zones[\"Population\"]\n",
    "\n",
    "# drop rows where pop_zone is close to zero\n",
    "min_pop = 100\n",
    "df_zones = df_zones[df_zones[\"pop_zone\"] > min_pop]\n"
   ]
  },
  {
   "cell_type": "code",
   "execution_count": null,
   "metadata": {},
   "outputs": [],
   "source": [
    "# sum the population in each zone\n",
    "df_zones[\"country_pop_raw\"] = df_zones.groupby(\"ISOCODE\")[\"pop_zone\"].transform(\"sum\")\n",
    "df_zones[\"country_pop_ratio\"] = df_zones.groupby(\"ISOCODE\")[\"AdjPopFloat\"].transform(\"sum\")\n"
   ]
  },
  {
   "cell_type": "code",
   "execution_count": null,
   "metadata": {},
   "outputs": [],
   "source": [
    "# create new summary dataframe with country_pop_raw, country_pop_ratio, and population\n",
    "df_summary = df_zones[[\"ISOCODE\", \"country_pop_raw\", \"country_pop_ratio\", \"Population\"]].drop_duplicates()\n",
    "\n",
    "df_summary.head()"
   ]
  },
  {
   "attachments": {},
   "cell_type": "markdown",
   "metadata": {},
   "source": [
    "The section below calculates the population per zone that can reach water"
   ]
  },
  {
   "cell_type": "code",
   "execution_count": null,
   "metadata": {},
   "outputs": [],
   "source": [
    "# population with piped water\n",
    "df_zones[\"zone_pop_piped\"] = df_zones[\"pop_zone\"]*df_zones[\"Nat Piped\"]/100\n",
    "df_zones[\"zone_pop_unpiped\"] = df_zones[\"pop_zone\"]*df_zones[\"Nat NonPiped\"]/100\n",
    "\n",
    "# is it possible to reach water with walking/cycling\n",
    "df_zones[\"zone_cycling_okay\"] = (df_zones[\"dtw_1\"] < df_zones[\"max distance cycling\"])\n",
    "df_zones[\"zone_walking_okay\"] = (df_zones[\"dtw_1\"] < df_zones[\"max distance walking\"])\n",
    "\n",
    "# how many people can collect water in the zone\n",
    "df_zones[\"fraction_of_zone_with_cycling_access\"] = df_zones[\"zone_cycling_okay\"]* (df_zones[\"PBO\"])/100\n",
    "df_zones[\"fraction_of_zone_with_walking_access\"] = df_zones[\"zone_walking_okay\"] * 1\n",
    "\n",
    "#\n",
    "df_zones[\"population_piped_with_cycling_access\"] = df_zones[\"fraction_of_zone_with_cycling_access\"] * df_zones[\"zone_pop_piped\"]\n",
    "df_zones[\"population_piped_with_walking_access\"] = df_zones[\"fraction_of_zone_with_walking_access\"] * df_zones[\"zone_pop_piped\"]\n",
    "\n",
    "# select the maximum between the two\n",
    "df_zones[\"population_piped_with_access\"] = df_zones[[\"population_piped_with_cycling_access\", \"population_piped_with_walking_access\"]].max(axis=1)\n",
    "\n",
    "# zone pop without water\n",
    "df_zones[\"zone_pop_with_water\"] =  df_zones[\"population_piped_with_access\"] + df_zones[\"zone_pop_unpiped\"]\n",
    "df_zones[\"zone_pop_without_water\"] = df_zones[\"pop_zone\"] - df_zones[\"zone_pop_with_water\"]\n",
    "\n",
    "\n",
    "## NICE! this gives the global population that needs to move.\n",
    "# next steps, re-import that data from QGIS with populations more accurate. DONE\n",
    "# then assign the achievable distnace cycling on a per country basis (using the mobility model, and the different inputs, road quality.)\n",
    "\n",
    "# import fitness data.\n",
    "# come up with bounds for the vairables between countries\n",
    "\n",
    "\n",
    "\n",
    "\n",
    "\n"
   ]
  },
  {
   "cell_type": "code",
   "execution_count": null,
   "metadata": {},
   "outputs": [],
   "source": [
    "# new dataframe with only the columns we need\n",
    "df2 = df_zones[[\"ISOCODE\", \"pop_zone\", \"zone_pop_piped\"  , \"zone_pop_unpiped\" ,\"PBO\"  ,\"population_piped_with_cycling_access\"  ,  \"population_piped_with_walking_access\" ,   \"zone_pop_with_water\", \"zone_pop_without_water\"]]\n",
    "\n",
    "\n",
    "df2.sum()"
   ]
  },
  {
   "cell_type": "code",
   "execution_count": null,
   "metadata": {},
   "outputs": [],
   "source": [
    "# determine how many zones within a country are within the max distance reachable\n",
    "df_zones[\"within_max_distance\"] = df_zones[\"distance_to_water1\"] < df_zones[\"max distance reachable\"]\n",
    "df_zones[\"within_max_distance\"] = df_zones[\"within_max_distance\"].astype(int)\n",
    "# population that can be reached within max distance\n",
    "df_zones[\"pop_within_max_distance\"] = df_zones[\"pop_zone\"] * df_zones[\"within_max_distance\"]\n",
    "\n"
   ]
  },
  {
   "cell_type": "code",
   "execution_count": null,
   "metadata": {},
   "outputs": [],
   "source": [
    "pop_with_water = df_zones[\"pop_within_max_distance\"].sum()\n",
    "pop_without_water = df_zones[\"pop_zone\"].sum() - pop_with_water\n",
    "pop_percent_with_water = pop_with_water / df_zones[\"pop_zone\"].sum()\n",
    "\n",
    "print(f\"Population with water: {pop_with_water}\")\n",
    "print(f\"Population without water: {pop_without_water}\")\n",
    "print(f\"Percentage of population with water: {pop_percent_with_water}\")\n"
   ]
  },
  {
   "cell_type": "code",
   "execution_count": null,
   "metadata": {},
   "outputs": [],
   "source": [
    "\n",
    "#create new dataframe with the id, pop_zone, ISO_CC, and distance_to_water columns\n",
    "df2 = df_zones[[ \"ISO_CC\", \"pop_zone\", \"distance_to_water1\"]]\n",
    "# drop all rows with nans\n",
    "df2 = df2.dropna()\n",
    "\n",
    "\n",
    "\n",
    "# initialize empty list\n",
    "d = []\n",
    "# loop through each country\n",
    "for i in df2[\"ISO_CC\"].unique():\n",
    "    df_country = df2[df2[\"ISO_CC\"] == i]\n",
    "    # if rows in dataframe are more than 1, calculate weighted median\n",
    "    if len(df_country) > 1:\n",
    "        median = weighted_median(df_country, \"distance_to_water1\", \"pop_zone\")\n",
    "        # median_ws = ws.weighted_median(df_country['distance_to_water1'], weights=df_country['pop_zone'])\n",
    "        df_country_np = df_country.to_numpy()\n",
    "        median_ws = ws.numpy_weighted_median(df_country_np[:, 2], weights=df_country_np[:, 1])\n",
    "\n",
    "    else:\n",
    "        median = df_country[\"distance_to_water1\"].values[0]\n",
    "        median_ws = median\n",
    "\n",
    "    d.append(\n",
    "        {\n",
    "            \"ISO_CC\": i,\n",
    "            \"median\": median,\n",
    "            \"median ws\": median_ws\n",
    "        }\n",
    "    )\n",
    "\n",
    "df_out = pd.DataFrame(d)\n",
    "df_out = df_out.merge(df_input, left_on=\"ISO_CC\", right_on=\"alpha3\")\n",
    "\n",
    "# remove any rows where the median is more than 1km more than \"LBY\" (Libya)'s median\n",
    "max_distance = df_out.loc[df_out[\"ISO_CC\"] == \"LBY\", \"median\"].values[0] + 1\n",
    "df_out = df_out[df_out[\"median\"] < max_distance]"
   ]
  },
  {
   "cell_type": "code",
   "execution_count": null,
   "metadata": {},
   "outputs": [],
   "source": [
    "\n",
    "# create new dataframe with ISO_CC, Entity, median, median ws, and Km\n",
    "df_compare = df_out[[\"ISO_CC\", \"Entity\", \"median\", \"median ws\", \"Km\"]]\n",
    "\n",
    "#create bar plot of median distance, sorted by median distance\n",
    "df_compare = df_compare.sort_values(\"median\")\n",
    "fig = px.bar(df_compare, x=\"Entity\", y=\"median\", color=\"ISO_CC\", title=\"Median Distance to Water (km)\")\n",
    "fig.show()"
   ]
  },
  {
   "cell_type": "markdown",
   "metadata": {},
   "source": []
  },
  {
   "cell_type": "code",
   "execution_count": null,
   "metadata": {},
   "outputs": [],
   "source": [
    "\n",
    "# create plot of df_compare\n",
    "fig = px.scatter(df_compare, x=\"median\", y=\"Km\", color=\"ISO_CC\")\n",
    "\n",
    "# add trendline\n",
    "\n",
    "fig.show()\n",
    "\n"
   ]
  },
  {
   "cell_type": "code",
   "execution_count": null,
   "metadata": {},
   "outputs": [],
   "source": [
    "\n",
    "\n",
    "\n",
    "\n",
    "a= df2[\"distance_to_water1\"] \n",
    "b= df2[\"pop_zone\"]\n",
    "binwidth = 1\n",
    "plt.hist(a,bins=np.arange(0, 20 + binwidth, binwidth), weights=b)\n",
    "# plt.hist(a,)\n",
    "plt.show()"
   ]
  },
  {
   "cell_type": "code",
   "execution_count": null,
   "metadata": {},
   "outputs": [],
   "source": [
    "# set meidan value in df_input\n",
    "#\n",
    "# for i in df_input.index:\n",
    "#     df2 = df2[df2[\"ISO_CC\"] == i]\n",
    "\n",
    "\n",
    "# df_input.loc[i][\"median\"]\n",
    "\n",
    "# weighted_median(df2, \"distance_to_water1\", \"pop_zone\")"
   ]
  }
 ],
 "metadata": {
  "kernelspec": {
   "display_name": "Python 3",
   "language": "python",
   "name": "python3"
  },
  "language_info": {
   "codemirror_mode": {
    "name": "ipython",
    "version": 3
   },
   "file_extension": ".py",
   "mimetype": "text/x-python",
   "name": "python",
   "nbconvert_exporter": "python",
   "pygments_lexer": "ipython3",
   "version": "3.9.13 | packaged by conda-forge | (main, May 27 2022, 17:01:00) \n[Clang 13.0.1 ]"
  },
  "orig_nbformat": 4,
  "vscode": {
   "interpreter": {
    "hash": "c09a8b249899dc4589e662892666698668e7a3ca1327801a18c24efb244ad2c6"
   }
  }
 },
 "nbformat": 4,
 "nbformat_minor": 2
}
