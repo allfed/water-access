{
 "cells": [
  {
   "cell_type": "code",
   "execution_count": 1,
   "metadata": {},
   "outputs": [],
   "source": [
    "\n",
    "import pathlib\n",
    "import pandas as pd\n",
    "import numpy as np\n",
    "import matplotlib.pyplot as plt\n",
    "import plotly.express as px\n",
    "import weightedstats as ws\n",
    "\n",
    "\n",
    "# consider using this for weighted stats: http://www.ccgalberta.com/pygeostat/welcome.html\n",
    "\n"
   ]
  },
  {
   "cell_type": "code",
   "execution_count": 2,
   "metadata": {},
   "outputs": [],
   "source": [
    "def weighted_mean(var, wts):\n",
    "    \"\"\"Calculates the weighted mean\"\"\"\n",
    "    return np.average(var, weights=wts)\n",
    "\n",
    "def weighted_median(df, val, weight):\n",
    "    \"\"\"Calculates the weighted median\n",
    "    ArithmeticError\n",
    "    If the sum of the weights is zero, or if the weights are not positive.\n",
    "    \"\"\"\n",
    "    df_sorted = df.sort_values(val)\n",
    "    cumsum = df_sorted[weight].cumsum()\n",
    "    cutoff = df_sorted[weight].sum() / 2.\n",
    "    return df_sorted[cumsum >= cutoff][val].iloc[0]\n",
    "\n",
    "def weighted_variance(var, wts):\n",
    "    \"\"\"Calculates the weighted variance\"\"\"\n",
    "    return np.average((var - weighted_mean(var, wts))**2, weights=wts)\n",
    "\n",
    "\n",
    "def weighted_skew(var, wts):\n",
    "    \"\"\"Calculates the weighted skewness\"\"\"\n",
    "    return (np.average((var - weighted_mean(var, wts))**3, weights=wts) /\n",
    "            weighted_variance(var, wts)**(1.5))\n",
    "\n",
    "def weighted_kurtosis(var, wts):\n",
    "    \"\"\"Calculates the weighted skewness\"\"\"\n",
    "    return (np.average((var - weighted_mean(var, wts))**4, weights=wts) /\n",
    "            weighted_variance(var, wts)**(2))"
   ]
  },
  {
   "cell_type": "code",
   "execution_count": 3,
   "metadata": {},
   "outputs": [],
   "source": [
    "\n",
    "def load_data(data_file: str) -> pd.DataFrame:\n",
    "    print \n",
    "    '''\n",
    "    Load data from /data directory\n",
    "    '''\n",
    "    PATH = pathlib.Path().resolve()\n",
    "    DATA_PATH = PATH.joinpath(\"../data\").resolve()\n",
    "    return pd.read_csv(DATA_PATH.joinpath(data_file))\n",
    "\n"
   ]
  },
  {
   "cell_type": "code",
   "execution_count": 4,
   "metadata": {},
   "outputs": [
    {
     "ename": "FileNotFoundError",
     "evalue": "[Errno 2] No such file or directory: '/Users/kevin/Documents/ProgrammingIsFun/ALLFED/Water/water-access/data/points_5min_15min_dtw_csv.csv'",
     "output_type": "error",
     "traceback": [
      "\u001b[0;31m---------------------------------------------------------------------------\u001b[0m",
      "\u001b[0;31mFileNotFoundError\u001b[0m                         Traceback (most recent call last)",
      "\u001b[1;32m/Users/kevin/Documents/ProgrammingIsFun/ALLFED/Water/water-access/src/gis_scratch.ipynb Cell 4\u001b[0m in \u001b[0;36m<cell line: 1>\u001b[0;34m()\u001b[0m\n\u001b[0;32m----> <a href='vscode-notebook-cell:/Users/kevin/Documents/ProgrammingIsFun/ALLFED/Water/water-access/src/gis_scratch.ipynb#W3sZmlsZQ%3D%3D?line=0'>1</a>\u001b[0m df1 \u001b[39m=\u001b[39m load_data(\u001b[39m\"\u001b[39;49m\u001b[39mpoints_5min_15min_dtw_csv.csv\u001b[39;49m\u001b[39m\"\u001b[39;49m)\n\u001b[1;32m      <a href='vscode-notebook-cell:/Users/kevin/Documents/ProgrammingIsFun/ALLFED/Water/water-access/src/gis_scratch.ipynb#W3sZmlsZQ%3D%3D?line=1'>2</a>\u001b[0m \u001b[39m# import df_input and set index as alpha 3 \u001b[39;00m\n\u001b[1;32m      <a href='vscode-notebook-cell:/Users/kevin/Documents/ProgrammingIsFun/ALLFED/Water/water-access/src/gis_scratch.ipynb#W3sZmlsZQ%3D%3D?line=2'>3</a>\u001b[0m df_input \u001b[39m=\u001b[39m load_data(\u001b[39m\"\u001b[39m\u001b[39mcountry_data_with_cycling_distance.csv\u001b[39m\u001b[39m\"\u001b[39m)\n",
      "\u001b[1;32m/Users/kevin/Documents/ProgrammingIsFun/ALLFED/Water/water-access/src/gis_scratch.ipynb Cell 4\u001b[0m in \u001b[0;36mload_data\u001b[0;34m(data_file)\u001b[0m\n\u001b[1;32m      <a href='vscode-notebook-cell:/Users/kevin/Documents/ProgrammingIsFun/ALLFED/Water/water-access/src/gis_scratch.ipynb#W3sZmlsZQ%3D%3D?line=5'>6</a>\u001b[0m PATH \u001b[39m=\u001b[39m pathlib\u001b[39m.\u001b[39mPath()\u001b[39m.\u001b[39mresolve()\n\u001b[1;32m      <a href='vscode-notebook-cell:/Users/kevin/Documents/ProgrammingIsFun/ALLFED/Water/water-access/src/gis_scratch.ipynb#W3sZmlsZQ%3D%3D?line=6'>7</a>\u001b[0m DATA_PATH \u001b[39m=\u001b[39m PATH\u001b[39m.\u001b[39mjoinpath(\u001b[39m\"\u001b[39m\u001b[39m../data\u001b[39m\u001b[39m\"\u001b[39m)\u001b[39m.\u001b[39mresolve()\n\u001b[0;32m----> <a href='vscode-notebook-cell:/Users/kevin/Documents/ProgrammingIsFun/ALLFED/Water/water-access/src/gis_scratch.ipynb#W3sZmlsZQ%3D%3D?line=7'>8</a>\u001b[0m \u001b[39mreturn\u001b[39;00m pd\u001b[39m.\u001b[39;49mread_csv(DATA_PATH\u001b[39m.\u001b[39;49mjoinpath(data_file))\n",
      "File \u001b[0;32m~/Documents/ProgrammingIsFun/ALLFED/Water/water-access/env/lib/python3.9/site-packages/pandas/util/_decorators.py:311\u001b[0m, in \u001b[0;36mdeprecate_nonkeyword_arguments.<locals>.decorate.<locals>.wrapper\u001b[0;34m(*args, **kwargs)\u001b[0m\n\u001b[1;32m    305\u001b[0m \u001b[39mif\u001b[39;00m \u001b[39mlen\u001b[39m(args) \u001b[39m>\u001b[39m num_allow_args:\n\u001b[1;32m    306\u001b[0m     warnings\u001b[39m.\u001b[39mwarn(\n\u001b[1;32m    307\u001b[0m         msg\u001b[39m.\u001b[39mformat(arguments\u001b[39m=\u001b[39marguments),\n\u001b[1;32m    308\u001b[0m         \u001b[39mFutureWarning\u001b[39;00m,\n\u001b[1;32m    309\u001b[0m         stacklevel\u001b[39m=\u001b[39mstacklevel,\n\u001b[1;32m    310\u001b[0m     )\n\u001b[0;32m--> 311\u001b[0m \u001b[39mreturn\u001b[39;00m func(\u001b[39m*\u001b[39;49margs, \u001b[39m*\u001b[39;49m\u001b[39m*\u001b[39;49mkwargs)\n",
      "File \u001b[0;32m~/Documents/ProgrammingIsFun/ALLFED/Water/water-access/env/lib/python3.9/site-packages/pandas/io/parsers/readers.py:680\u001b[0m, in \u001b[0;36mread_csv\u001b[0;34m(filepath_or_buffer, sep, delimiter, header, names, index_col, usecols, squeeze, prefix, mangle_dupe_cols, dtype, engine, converters, true_values, false_values, skipinitialspace, skiprows, skipfooter, nrows, na_values, keep_default_na, na_filter, verbose, skip_blank_lines, parse_dates, infer_datetime_format, keep_date_col, date_parser, dayfirst, cache_dates, iterator, chunksize, compression, thousands, decimal, lineterminator, quotechar, quoting, doublequote, escapechar, comment, encoding, encoding_errors, dialect, error_bad_lines, warn_bad_lines, on_bad_lines, delim_whitespace, low_memory, memory_map, float_precision, storage_options)\u001b[0m\n\u001b[1;32m    665\u001b[0m kwds_defaults \u001b[39m=\u001b[39m _refine_defaults_read(\n\u001b[1;32m    666\u001b[0m     dialect,\n\u001b[1;32m    667\u001b[0m     delimiter,\n\u001b[0;32m   (...)\u001b[0m\n\u001b[1;32m    676\u001b[0m     defaults\u001b[39m=\u001b[39m{\u001b[39m\"\u001b[39m\u001b[39mdelimiter\u001b[39m\u001b[39m\"\u001b[39m: \u001b[39m\"\u001b[39m\u001b[39m,\u001b[39m\u001b[39m\"\u001b[39m},\n\u001b[1;32m    677\u001b[0m )\n\u001b[1;32m    678\u001b[0m kwds\u001b[39m.\u001b[39mupdate(kwds_defaults)\n\u001b[0;32m--> 680\u001b[0m \u001b[39mreturn\u001b[39;00m _read(filepath_or_buffer, kwds)\n",
      "File \u001b[0;32m~/Documents/ProgrammingIsFun/ALLFED/Water/water-access/env/lib/python3.9/site-packages/pandas/io/parsers/readers.py:575\u001b[0m, in \u001b[0;36m_read\u001b[0;34m(filepath_or_buffer, kwds)\u001b[0m\n\u001b[1;32m    572\u001b[0m _validate_names(kwds\u001b[39m.\u001b[39mget(\u001b[39m\"\u001b[39m\u001b[39mnames\u001b[39m\u001b[39m\"\u001b[39m, \u001b[39mNone\u001b[39;00m))\n\u001b[1;32m    574\u001b[0m \u001b[39m# Create the parser.\u001b[39;00m\n\u001b[0;32m--> 575\u001b[0m parser \u001b[39m=\u001b[39m TextFileReader(filepath_or_buffer, \u001b[39m*\u001b[39;49m\u001b[39m*\u001b[39;49mkwds)\n\u001b[1;32m    577\u001b[0m \u001b[39mif\u001b[39;00m chunksize \u001b[39mor\u001b[39;00m iterator:\n\u001b[1;32m    578\u001b[0m     \u001b[39mreturn\u001b[39;00m parser\n",
      "File \u001b[0;32m~/Documents/ProgrammingIsFun/ALLFED/Water/water-access/env/lib/python3.9/site-packages/pandas/io/parsers/readers.py:934\u001b[0m, in \u001b[0;36mTextFileReader.__init__\u001b[0;34m(self, f, engine, **kwds)\u001b[0m\n\u001b[1;32m    931\u001b[0m     \u001b[39mself\u001b[39m\u001b[39m.\u001b[39moptions[\u001b[39m\"\u001b[39m\u001b[39mhas_index_names\u001b[39m\u001b[39m\"\u001b[39m] \u001b[39m=\u001b[39m kwds[\u001b[39m\"\u001b[39m\u001b[39mhas_index_names\u001b[39m\u001b[39m\"\u001b[39m]\n\u001b[1;32m    933\u001b[0m \u001b[39mself\u001b[39m\u001b[39m.\u001b[39mhandles: IOHandles \u001b[39m|\u001b[39m \u001b[39mNone\u001b[39;00m \u001b[39m=\u001b[39m \u001b[39mNone\u001b[39;00m\n\u001b[0;32m--> 934\u001b[0m \u001b[39mself\u001b[39m\u001b[39m.\u001b[39m_engine \u001b[39m=\u001b[39m \u001b[39mself\u001b[39;49m\u001b[39m.\u001b[39;49m_make_engine(f, \u001b[39mself\u001b[39;49m\u001b[39m.\u001b[39;49mengine)\n",
      "File \u001b[0;32m~/Documents/ProgrammingIsFun/ALLFED/Water/water-access/env/lib/python3.9/site-packages/pandas/io/parsers/readers.py:1218\u001b[0m, in \u001b[0;36mTextFileReader._make_engine\u001b[0;34m(self, f, engine)\u001b[0m\n\u001b[1;32m   1214\u001b[0m     mode \u001b[39m=\u001b[39m \u001b[39m\"\u001b[39m\u001b[39mrb\u001b[39m\u001b[39m\"\u001b[39m\n\u001b[1;32m   1215\u001b[0m \u001b[39m# error: No overload variant of \"get_handle\" matches argument types\u001b[39;00m\n\u001b[1;32m   1216\u001b[0m \u001b[39m# \"Union[str, PathLike[str], ReadCsvBuffer[bytes], ReadCsvBuffer[str]]\"\u001b[39;00m\n\u001b[1;32m   1217\u001b[0m \u001b[39m# , \"str\", \"bool\", \"Any\", \"Any\", \"Any\", \"Any\", \"Any\"\u001b[39;00m\n\u001b[0;32m-> 1218\u001b[0m \u001b[39mself\u001b[39m\u001b[39m.\u001b[39mhandles \u001b[39m=\u001b[39m get_handle(  \u001b[39m# type: ignore[call-overload]\u001b[39;49;00m\n\u001b[1;32m   1219\u001b[0m     f,\n\u001b[1;32m   1220\u001b[0m     mode,\n\u001b[1;32m   1221\u001b[0m     encoding\u001b[39m=\u001b[39;49m\u001b[39mself\u001b[39;49m\u001b[39m.\u001b[39;49moptions\u001b[39m.\u001b[39;49mget(\u001b[39m\"\u001b[39;49m\u001b[39mencoding\u001b[39;49m\u001b[39m\"\u001b[39;49m, \u001b[39mNone\u001b[39;49;00m),\n\u001b[1;32m   1222\u001b[0m     compression\u001b[39m=\u001b[39;49m\u001b[39mself\u001b[39;49m\u001b[39m.\u001b[39;49moptions\u001b[39m.\u001b[39;49mget(\u001b[39m\"\u001b[39;49m\u001b[39mcompression\u001b[39;49m\u001b[39m\"\u001b[39;49m, \u001b[39mNone\u001b[39;49;00m),\n\u001b[1;32m   1223\u001b[0m     memory_map\u001b[39m=\u001b[39;49m\u001b[39mself\u001b[39;49m\u001b[39m.\u001b[39;49moptions\u001b[39m.\u001b[39;49mget(\u001b[39m\"\u001b[39;49m\u001b[39mmemory_map\u001b[39;49m\u001b[39m\"\u001b[39;49m, \u001b[39mFalse\u001b[39;49;00m),\n\u001b[1;32m   1224\u001b[0m     is_text\u001b[39m=\u001b[39;49mis_text,\n\u001b[1;32m   1225\u001b[0m     errors\u001b[39m=\u001b[39;49m\u001b[39mself\u001b[39;49m\u001b[39m.\u001b[39;49moptions\u001b[39m.\u001b[39;49mget(\u001b[39m\"\u001b[39;49m\u001b[39mencoding_errors\u001b[39;49m\u001b[39m\"\u001b[39;49m, \u001b[39m\"\u001b[39;49m\u001b[39mstrict\u001b[39;49m\u001b[39m\"\u001b[39;49m),\n\u001b[1;32m   1226\u001b[0m     storage_options\u001b[39m=\u001b[39;49m\u001b[39mself\u001b[39;49m\u001b[39m.\u001b[39;49moptions\u001b[39m.\u001b[39;49mget(\u001b[39m\"\u001b[39;49m\u001b[39mstorage_options\u001b[39;49m\u001b[39m\"\u001b[39;49m, \u001b[39mNone\u001b[39;49;00m),\n\u001b[1;32m   1227\u001b[0m )\n\u001b[1;32m   1228\u001b[0m \u001b[39massert\u001b[39;00m \u001b[39mself\u001b[39m\u001b[39m.\u001b[39mhandles \u001b[39mis\u001b[39;00m \u001b[39mnot\u001b[39;00m \u001b[39mNone\u001b[39;00m\n\u001b[1;32m   1229\u001b[0m f \u001b[39m=\u001b[39m \u001b[39mself\u001b[39m\u001b[39m.\u001b[39mhandles\u001b[39m.\u001b[39mhandle\n",
      "File \u001b[0;32m~/Documents/ProgrammingIsFun/ALLFED/Water/water-access/env/lib/python3.9/site-packages/pandas/io/common.py:786\u001b[0m, in \u001b[0;36mget_handle\u001b[0;34m(path_or_buf, mode, encoding, compression, memory_map, is_text, errors, storage_options)\u001b[0m\n\u001b[1;32m    781\u001b[0m \u001b[39melif\u001b[39;00m \u001b[39misinstance\u001b[39m(handle, \u001b[39mstr\u001b[39m):\n\u001b[1;32m    782\u001b[0m     \u001b[39m# Check whether the filename is to be opened in binary mode.\u001b[39;00m\n\u001b[1;32m    783\u001b[0m     \u001b[39m# Binary mode does not support 'encoding' and 'newline'.\u001b[39;00m\n\u001b[1;32m    784\u001b[0m     \u001b[39mif\u001b[39;00m ioargs\u001b[39m.\u001b[39mencoding \u001b[39mand\u001b[39;00m \u001b[39m\"\u001b[39m\u001b[39mb\u001b[39m\u001b[39m\"\u001b[39m \u001b[39mnot\u001b[39;00m \u001b[39min\u001b[39;00m ioargs\u001b[39m.\u001b[39mmode:\n\u001b[1;32m    785\u001b[0m         \u001b[39m# Encoding\u001b[39;00m\n\u001b[0;32m--> 786\u001b[0m         handle \u001b[39m=\u001b[39m \u001b[39mopen\u001b[39;49m(\n\u001b[1;32m    787\u001b[0m             handle,\n\u001b[1;32m    788\u001b[0m             ioargs\u001b[39m.\u001b[39;49mmode,\n\u001b[1;32m    789\u001b[0m             encoding\u001b[39m=\u001b[39;49mioargs\u001b[39m.\u001b[39;49mencoding,\n\u001b[1;32m    790\u001b[0m             errors\u001b[39m=\u001b[39;49merrors,\n\u001b[1;32m    791\u001b[0m             newline\u001b[39m=\u001b[39;49m\u001b[39m\"\u001b[39;49m\u001b[39m\"\u001b[39;49m,\n\u001b[1;32m    792\u001b[0m         )\n\u001b[1;32m    793\u001b[0m     \u001b[39melse\u001b[39;00m:\n\u001b[1;32m    794\u001b[0m         \u001b[39m# Binary mode\u001b[39;00m\n\u001b[1;32m    795\u001b[0m         handle \u001b[39m=\u001b[39m \u001b[39mopen\u001b[39m(handle, ioargs\u001b[39m.\u001b[39mmode)\n",
      "\u001b[0;31mFileNotFoundError\u001b[0m: [Errno 2] No such file or directory: '/Users/kevin/Documents/ProgrammingIsFun/ALLFED/Water/water-access/data/points_5min_15min_dtw_csv.csv'"
     ]
    }
   ],
   "source": [
    "\n",
    "\n",
    "df1 = load_data(\"points_5min_15min_dtw_csv.csv\")\n",
    "# import df_input and set index as alpha 3 \n",
    "df_input = load_data(\"country_data_with_cycling_distance.csv\")\n",
    "# set index to alpha 3\n",
    "df_input.set_index(\"alpha3\", inplace=True)\n",
    "\n",
    "\n",
    "df1[\"max distance walking\"] = 3.0 # temp, set max distance reachbale for all countriesl, will change to be bespoke soon\n",
    "# df1[\"max distance cycling\"] = 9.0 # temp, set max distance reachbale for all countriesl, will change to be bespoke soon\n",
    "\n"
   ]
  },
  {
   "cell_type": "code",
   "execution_count": null,
   "metadata": {},
   "outputs": [],
   "source": [
    "# df1.head()\n",
    "# df_zones = df1.merge(df_input, left_on=\"ISOCODE\", right_on=\"alpha3\")\n",
    "\n",
    "df_zones.columns"
   ]
  },
  {
   "cell_type": "code",
   "execution_count": null,
   "metadata": {},
   "outputs": [],
   "source": [
    "\n",
    "# this analysis loses some data as the overlap between the rasters is not perfect. To reduce this error, use the 30 arc second data. Too much heavy lifting for my computer to do this at the moment.\n",
    "\n",
    "#merge df_input and df_zones on ISO_CC (so we can use the UN population data)\n",
    "df_zones = df1.merge(df_input, left_on=\"ISOCODE\", right_on=\"alpha3\")\n",
    "df_zones[\"dtw_1\"] = df_zones[\"dtw_1\"] / 1000 # turn to kms\n",
    "\n",
    "#adjust population to account for 9 values per raster point (2.5 to 5 arc min resoltuions. 9 values per point)\n",
    "df_zones[\"AdjPopFloat\"] = df_zones[\"pop_count_15_1\"] / 9 \n",
    "\n",
    "# # convert population density to percent of national population on a per country basis, grouped by ISO_CC\n",
    "df_zones[\"pop_density_perc\"] = df_zones.groupby(\"ISOCODE\")[\"AdjPopFloat\"].apply(lambda x: x / x.sum())\n",
    "\n",
    "# multiply population density by population on a per country basis\n",
    "df_zones[\"pop_zone\"] = df_zones[\"pop_density_perc\"] * df_zones[\"Population\"]\n",
    "\n",
    "# drop rows where pop_zone is close to zero\n",
    "min_pop = 100\n",
    "df_zones = df_zones[df_zones[\"pop_zone\"] > min_pop]\n"
   ]
  },
  {
   "cell_type": "code",
   "execution_count": null,
   "metadata": {},
   "outputs": [],
   "source": [
    "# sum the population in each zone\n",
    "df_zones[\"country_pop_raw\"] = df_zones.groupby(\"ISOCODE\")[\"pop_zone\"].transform(\"sum\")\n",
    "df_zones[\"country_pop_ratio\"] = df_zones.groupby(\"ISOCODE\")[\"AdjPopFloat\"].transform(\"sum\")\n"
   ]
  },
  {
   "cell_type": "code",
   "execution_count": null,
   "metadata": {},
   "outputs": [],
   "source": [
    "# create new summary dataframe with country_pop_raw, country_pop_ratio, and population\n",
    "df_summary = df_zones[[\"ISOCODE\", \"country_pop_raw\", \"country_pop_ratio\", \"Population\"]].drop_duplicates()\n",
    "\n",
    "df_summary.head()"
   ]
  },
  {
   "attachments": {},
   "cell_type": "markdown",
   "metadata": {},
   "source": [
    "The section below calculates the population per zone that can reach water"
   ]
  },
  {
   "cell_type": "code",
   "execution_count": null,
   "metadata": {},
   "outputs": [],
   "source": [
    "# population with piped water\n",
    "df_zones[\"zone_pop_piped\"] = df_zones[\"pop_zone\"]*df_zones[\"Nat Piped\"]/100\n",
    "df_zones[\"zone_pop_unpiped\"] = df_zones[\"pop_zone\"]*df_zones[\"Nat NonPiped\"]/100\n",
    "\n",
    "# is it possible to reach water with walking/cycling\n",
    "df_zones[\"zone_cycling_okay\"] = (df_zones[\"dtw_1\"] < df_zones[\"max distance cycling\"])\n",
    "df_zones[\"zone_walking_okay\"] = (df_zones[\"dtw_1\"] < df_zones[\"max distance walking\"])\n",
    "\n",
    "# how many people can collect water in the zone\n",
    "df_zones[\"fraction_of_zone_with_cycling_access\"] = df_zones[\"zone_cycling_okay\"]* (df_zones[\"PBO\"])/100\n",
    "df_zones[\"fraction_of_zone_with_walking_access\"] = df_zones[\"zone_walking_okay\"] * 1\n",
    "\n",
    "#\n",
    "df_zones[\"population_piped_with_cycling_access\"] = df_zones[\"fraction_of_zone_with_cycling_access\"] * df_zones[\"zone_pop_piped\"]\n",
    "df_zones[\"population_piped_with_walking_access\"] = df_zones[\"fraction_of_zone_with_walking_access\"] * df_zones[\"zone_pop_piped\"]\n",
    "\n",
    "# select the maximum between the two\n",
    "df_zones[\"population_piped_with_access\"] = df_zones[[\"population_piped_with_cycling_access\", \"population_piped_with_walking_access\"]].max(axis=1)\n",
    "\n",
    "# zone pop without water\n",
    "df_zones[\"zone_pop_with_water\"] =  df_zones[\"population_piped_with_access\"] + df_zones[\"zone_pop_unpiped\"]\n",
    "df_zones[\"zone_pop_without_water\"] = df_zones[\"pop_zone\"] - df_zones[\"zone_pop_with_water\"]\n",
    "\n",
    "\n",
    "## NICE! this gives the global population that needs to move.\n",
    "# next steps, re-import that data from QGIS with populations more accurate. DONE\n",
    "# then assign the achievable distnace cycling on a per country basis (using the mobility model, and the different inputs, road quality.)\n",
    "\n",
    "# import fitness data.\n",
    "# come up with bounds for the vairables between countries\n",
    "\n",
    "\n",
    "\n",
    "\n",
    "\n"
   ]
  },
  {
   "cell_type": "code",
   "execution_count": null,
   "metadata": {},
   "outputs": [],
   "source": [
    "# new dataframe with only the columns we need\n",
    "df2 = df_zones[[\"ISOCODE\", \"pop_zone\", \"zone_pop_piped\"  , \"zone_pop_unpiped\" ,\"PBO\"  ,\"population_piped_with_cycling_access\"  ,  \"population_piped_with_walking_access\" ,   \"zone_pop_with_water\", \"zone_pop_without_water\"]]\n",
    "\n",
    "\n",
    "df2.sum()"
   ]
  },
  {
   "cell_type": "code",
   "execution_count": null,
   "metadata": {},
   "outputs": [],
   "source": [
    "# determine how many zones within a country are within the max distance reachable\n",
    "df_zones[\"within_max_distance\"] = df_zones[\"distance_to_water1\"] < df_zones[\"max distance reachable\"]\n",
    "df_zones[\"within_max_distance\"] = df_zones[\"within_max_distance\"].astype(int)\n",
    "# population that can be reached within max distance\n",
    "df_zones[\"pop_within_max_distance\"] = df_zones[\"pop_zone\"] * df_zones[\"within_max_distance\"]\n",
    "\n"
   ]
  },
  {
   "cell_type": "code",
   "execution_count": null,
   "metadata": {},
   "outputs": [],
   "source": [
    "pop_with_water = df_zones[\"pop_within_max_distance\"].sum()\n",
    "pop_without_water = df_zones[\"pop_zone\"].sum() - pop_with_water\n",
    "pop_percent_with_water = pop_with_water / df_zones[\"pop_zone\"].sum()\n",
    "\n",
    "print(f\"Population with water: {pop_with_water}\")\n",
    "print(f\"Population without water: {pop_without_water}\")\n",
    "print(f\"Percentage of population with water: {pop_percent_with_water}\")\n"
   ]
  },
  {
   "cell_type": "code",
   "execution_count": null,
   "metadata": {},
   "outputs": [],
   "source": [
    "\n",
    "#create new dataframe with the id, pop_zone, ISO_CC, and distance_to_water columns\n",
    "df2 = df_zones[[ \"ISO_CC\", \"pop_zone\", \"distance_to_water1\"]]\n",
    "# drop all rows with nans\n",
    "df2 = df2.dropna()\n",
    "\n",
    "\n",
    "\n",
    "# initialize empty list\n",
    "d = []\n",
    "# loop through each country\n",
    "for i in df2[\"ISO_CC\"].unique():\n",
    "    df_country = df2[df2[\"ISO_CC\"] == i]\n",
    "    # if rows in dataframe are more than 1, calculate weighted median\n",
    "    if len(df_country) > 1:\n",
    "        median = weighted_median(df_country, \"distance_to_water1\", \"pop_zone\")\n",
    "        # median_ws = ws.weighted_median(df_country['distance_to_water1'], weights=df_country['pop_zone'])\n",
    "        df_country_np = df_country.to_numpy()\n",
    "        median_ws = ws.numpy_weighted_median(df_country_np[:, 2], weights=df_country_np[:, 1])\n",
    "\n",
    "    else:\n",
    "        median = df_country[\"distance_to_water1\"].values[0]\n",
    "        median_ws = median\n",
    "\n",
    "    d.append(\n",
    "        {\n",
    "            \"ISO_CC\": i,\n",
    "            \"median\": median,\n",
    "            \"median ws\": median_ws\n",
    "        }\n",
    "    )\n",
    "\n",
    "df_out = pd.DataFrame(d)\n",
    "df_out = df_out.merge(df_input, left_on=\"ISO_CC\", right_on=\"alpha3\")\n",
    "\n",
    "# remove any rows where the median is more than 1km more than \"LBY\" (Libya)'s median\n",
    "max_distance = df_out.loc[df_out[\"ISO_CC\"] == \"LBY\", \"median\"].values[0] + 1\n",
    "df_out = df_out[df_out[\"median\"] < max_distance]"
   ]
  },
  {
   "cell_type": "code",
   "execution_count": null,
   "metadata": {},
   "outputs": [],
   "source": [
    "\n",
    "# create new dataframe with ISO_CC, Entity, median, median ws, and Km\n",
    "df_compare = df_out[[\"ISO_CC\", \"Entity\", \"median\", \"median ws\", \"Km\"]]\n",
    "\n",
    "#create bar plot of median distance, sorted by median distance\n",
    "df_compare = df_compare.sort_values(\"median\")\n",
    "fig = px.bar(df_compare, x=\"Entity\", y=\"median\", color=\"ISO_CC\", title=\"Median Distance to Water (km)\")\n",
    "fig.show()"
   ]
  },
  {
   "cell_type": "markdown",
   "metadata": {},
   "source": []
  },
  {
   "cell_type": "code",
   "execution_count": null,
   "metadata": {},
   "outputs": [],
   "source": [
    "\n",
    "# create plot of df_compare\n",
    "fig = px.scatter(df_compare, x=\"median\", y=\"Km\", color=\"ISO_CC\")\n",
    "\n",
    "# add trendline\n",
    "\n",
    "fig.show()\n",
    "\n"
   ]
  },
  {
   "cell_type": "code",
   "execution_count": null,
   "metadata": {},
   "outputs": [],
   "source": [
    "\n",
    "\n",
    "\n",
    "\n",
    "a= df2[\"distance_to_water1\"] \n",
    "b= df2[\"pop_zone\"]\n",
    "binwidth = 1\n",
    "plt.hist(a,bins=np.arange(0, 20 + binwidth, binwidth), weights=b)\n",
    "# plt.hist(a,)\n",
    "plt.show()"
   ]
  },
  {
   "cell_type": "code",
   "execution_count": null,
   "metadata": {},
   "outputs": [],
   "source": [
    "# set meidan value in df_input\n",
    "#\n",
    "# for i in df_input.index:\n",
    "#     df2 = df2[df2[\"ISO_CC\"] == i]\n",
    "\n",
    "\n",
    "# df_input.loc[i][\"median\"]\n",
    "\n",
    "# weighted_median(df2, \"distance_to_water1\", \"pop_zone\")"
   ]
  }
 ],
 "metadata": {
  "kernelspec": {
   "display_name": "Python 3",
   "language": "python",
   "name": "python3"
  },
  "language_info": {
   "codemirror_mode": {
    "name": "ipython",
    "version": 3
   },
   "file_extension": ".py",
   "mimetype": "text/x-python",
   "name": "python",
   "nbconvert_exporter": "python",
   "pygments_lexer": "ipython3",
   "version": "3.9.13"
  },
  "orig_nbformat": 4,
  "vscode": {
   "interpreter": {
    "hash": "c09a8b249899dc4589e662892666698668e7a3ca1327801a18c24efb244ad2c6"
   }
  }
 },
 "nbformat": 4,
 "nbformat_minor": 2
}
