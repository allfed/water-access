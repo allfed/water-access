{
 "cells": [
  {
   "cell_type": "code",
   "execution_count": 1,
   "metadata": {},
   "outputs": [],
   "source": [
    "import pathlib\n",
    "import plotly.express as px\n",
    "import pandas as pd\n",
    "from difflib import diff_bytes\n",
    "import numpy as np\n",
    "from dash import Dash, dcc, html, Output, Input, dash_table  # pip install dash\n",
    "import dash_bootstrap_components as dbc  # pip install dash-bootstrap-components\n",
    "from jupyter_dash import JupyterDash\n",
    "\n",
    "\n",
    "\n",
    "# Declare server for Heroku deployment. Needed for Procfile.\n",
    "\n"
   ]
  },
  {
   "cell_type": "code",
   "execution_count": 2,
   "metadata": {},
   "outputs": [],
   "source": [
    "\n",
    "def risk_creator(input_df):\n",
    "    \"\"\"\n",
    "    Risk creator takes all\n",
    "    Uses copy method for handling dataframe assignment\n",
    "    https://stackoverflow.com/questions/65922241/best-practice-for-passing-pandas-dataframe-to-functions\n",
    "    \"\"\"\n",
    "    df = input_df.copy()\n",
    "    # risk from bikes\n",
    "    df[\"PBO_risk\"] = 1 - df.loc[:, \"PBO\"] / 100\n",
    "\n",
    "    # find quartiles for TRI (rather than using the adjusted score as a percent)\n",
    "    # CHECK IF THIS MAKES SENSE?\n",
    "    df[\"TRI_risk\"] = pd.qcut(\n",
    "        df.loc[:, \"Terrain Ruggedness\"],\n",
    "        np.linspace(0, 1, 11),\n",
    "        labels=np.linspace(0.1, 1, 10),\n",
    "    ).astype(float)\n",
    "\n",
    "    df[\"urb_risk\"] = (\n",
    "        df.loc[\n",
    "            :,\n",
    "            \"Urban %\",\n",
    "        ]\n",
    "        / 100\n",
    "    )\n",
    "\n",
    "    df[\"urbagg_risk\"] = (\n",
    "        df.loc[\n",
    "            :,\n",
    "            \"Urban Agg %\",\n",
    "        ]\n",
    "        / 100\n",
    "    )\n",
    "\n",
    "    df[\"road_risk\"] = 1 - df.loc[:, \"RoadQuality\"] / 7\n",
    "\n",
    "    df[\"distance_risk\"] = df.loc[:, \"Km\"]\n",
    "\n",
    "    return df\n",
    "\n",
    "\n",
    "def weight_parameter(series, slider_weight):\n",
    "    \"\"\"\n",
    "    weights each panda series (column) of the dataframe one at a time, multiples the risk by the weighting, or if zero, let's the whole column = 0. Tis is useful because it removes NaNs (and means that more countries can be displayed)\n",
    "    \"\"\"\n",
    "    if slider_weight == 0:\n",
    "        series = 0\n",
    "    else:\n",
    "        series = series * slider_weight\n",
    "\n",
    "    return series\n",
    "\n",
    "\n",
    "def correlation_checker(df, corr_col_1, corr_col_2):\n",
    "    \"\"\"\n",
    "    prints the correaltion between two columns denoted by their numerical index (column number)\n",
    "    \"\"\"\n",
    "    corr_value = df.iloc[:, corr_col_1].corr(df.iloc[:, corr_col_2])\n",
    "    print(\n",
    "        \"Correlation between %s and %s is %0.4f\"\n",
    "        % (df.columns[corr_col_1], df.columns[corr_col_2], corr_value)\n",
    "    )"
   ]
  },
  {
   "cell_type": "code",
   "execution_count": 3,
   "metadata": {},
   "outputs": [],
   "source": [
    "\n",
    "\"\"\"\n",
    "Start main function\n",
    "\"\"\"\n",
    "# find dataframe\n",
    "\n",
    "df_input = pd.read_csv(\"../data/country_data_master.csv\", index_col=\"alpha3\"\n",
    ")\n",
    "# do stuff with dataframe\n",
    "df = risk_creator(df_input)\n",
    "\n",
    "# create extra columns for drop down\n",
    "df[\"Population Piped\"] = 0\n",
    "df[\"Nat Improved\"]= 0 \n",
    "df[\"Nat Unimproved and Surface\"]= 0 \n",
    "df[\"Population Piped Has to Relocate\"] = 0 \n",
    "\n",
    "\n",
    "df_table = df[\n",
    "    [\n",
    "        \"Entity\",\n",
    "        \"Population\",\n",
    "        \"PBO\",\n",
    "        \"Terrain Ruggedness\",\n",
    "        \"Urban %\",\n",
    "        \"Urban Agg %\",\n",
    "        \"RoadQuality\",\n",
    "        \"Km\",\n",
    "        \"Risk\",\n",
    "    ]\n",
    "]\n",
    "ignore_columns_index = 3"
   ]
  },
  {
   "cell_type": "code",
   "execution_count": 4,
   "metadata": {},
   "outputs": [],
   "source": [
    "PBO_default = 200\n",
    "Km_default = 400\n",
    "RoadQuality_default = 200\n",
    "Terrain_Ruggedness_default = 50\n",
    "Urban_default = 100\n",
    "Urban_Agg_default = 0\n",
    "\n"
   ]
  },
  {
   "cell_type": "code",
   "execution_count": 5,
   "metadata": {},
   "outputs": [],
   "source": [
    "\n",
    "\n",
    "# Build your components\n",
    "app = JupyterDash(__name__, external_stylesheets=[dbc.themes.LUX])\n",
    "# app = Dash(__name__, external_stylesheets=[dbc.themes.LUX])\n",
    "server = app.server  # for heroku deployment\n",
    "\n",
    "mytitle = dcc.Markdown(children=\"\")\n",
    "mysubtitle = dcc.Markdown(children=\"\")\n",
    "choro = dcc.Graph(figure={})\n",
    "choro2 = dcc.Graph(figure={})\n",
    "choro3 = dcc.Graph(figure={})\n",
    "bar = dcc.Graph(figure={})\n",
    "bubble = dcc.Graph(figure={})\n",
    "dropdown = dcc.Dropdown(\n",
    "    options=df.columns.values[2:],\n",
    "    value=\"Risk\",  # initial value displayed when page first loads\n",
    "    clearable=False,\n",
    ")\n",
    "\n",
    "table = dash_table.DataTable(\n",
    "    columns=[{\"name\": i, \"id\": i} for i in df_table.columns],\n",
    "    data=df_table.to_dict(\"records\"),\n",
    "    filter_action=\"native\",\n",
    "    page_size=20,\n",
    "    style_data={\n",
    "        \"width\": \"150px\",\n",
    "        \"minWidth\": \"150px\",\n",
    "        \"maxWidth\": \"150px\",\n",
    "        \"overflow\": \"hidden\",\n",
    "        \"textOverflow\": \"ellipsis\",\n",
    "    },\n",
    ")\n",
    "\n",
    "### Create slider components on a card\n",
    "controls = dbc.Card(\n",
    "    [\n",
    "        dbc.Label(\n",
    "            \"Adjust the weighting of each parameter on the final risk score with the sliders\"\n",
    "        ),\n",
    "        html.Div(\n",
    "            [\n",
    "                dbc.Label(\"Bike Ownership %\"),\n",
    "                dcc.Slider(\n",
    "                    0,\n",
    "                    400,\n",
    "                    value=PBO_default,\n",
    "                    id=\"myslider1\",\n",
    "                    updatemode=\"drag\",\n",
    "                    tooltip={\"placement\": \"bottom\", \"always_visible\": True},\n",
    "                ),\n",
    "            ]\n",
    "        ),\n",
    "        html.Div(\n",
    "            [\n",
    "                dbc.Label(\"Terrain Ruggedness\",),\n",
    "                dcc.Slider(\n",
    "                    0,\n",
    "                    400,\n",
    "                    value=Terrain_Ruggedness_default,\n",
    "                    id=\"myslider2\",\n",
    "                    updatemode=\"drag\",\n",
    "                    tooltip={\"placement\": \"bottom\", \"always_visible\": True},\n",
    "                ),\n",
    "            ]\n",
    "        ),\n",
    "        html.Div(\n",
    "            [\n",
    "                dbc.Label(\"Urban %\"),\n",
    "                dcc.Slider(\n",
    "                    0,\n",
    "                    400,\n",
    "                    value=Urban_default,\n",
    "                    id=\"myslider3\",\n",
    "                    updatemode=\"drag\",\n",
    "                    tooltip={\"placement\": \"bottom\", \"always_visible\": True},\n",
    "                ),\n",
    "            ]\n",
    "        ),\n",
    "        html.Div(\n",
    "            [\n",
    "                dbc.Label(\"Urban Agg %\"),\n",
    "                dcc.Slider(\n",
    "                    0,\n",
    "                    400,\n",
    "                    value=Urban_Agg_default,\n",
    "                    id=\"myslider4\",\n",
    "                    updatemode=\"drag\",\n",
    "                    tooltip={\"placement\": \"bottom\", \"always_visible\": True},\n",
    "                ),\n",
    "            ]\n",
    "        ),\n",
    "        html.Div(\n",
    "            [\n",
    "                dbc.Label(\"RoadQuality\"),\n",
    "                dcc.Slider(\n",
    "                    0,\n",
    "                    400,\n",
    "                    value=RoadQuality_default,\n",
    "                    id=\"myslider5\",\n",
    "                    updatemode=\"drag\",\n",
    "                    tooltip={\"placement\": \"bottom\", \"always_visible\": True},\n",
    "                ),\n",
    "            ]\n",
    "        ),\n",
    "        html.Div(\n",
    "            [\n",
    "                dbc.Label(\"Median Distance To Water\"),\n",
    "                dcc.Slider(\n",
    "                    0,\n",
    "                    400,\n",
    "                    value=Km_default,\n",
    "                    id=\"myslider6\",\n",
    "                    updatemode=\"drag\",\n",
    "                    tooltip={\"placement\": \"bottom\", \"always_visible\": True},\n",
    "                ),\n",
    "            ]\n",
    "        ),\n",
    "    ],\n",
    "    body=True,\n",
    ")\n",
    "\n"
   ]
  },
  {
   "cell_type": "code",
   "execution_count": 6,
   "metadata": {},
   "outputs": [],
   "source": [
    "\n",
    "# Customize your own Layout\n",
    "app.layout = dbc.Container(\n",
    "    [\n",
    "        dbc.Row([dbc.Col([mytitle], width=6)], justify=\"center\"),\n",
    "        dbc.Row([dbc.Col([mysubtitle], width=6)], justify=\"center\"),\n",
    "        dbc.Row(\n",
    "            [\n",
    "                dbc.Col(controls, md=3),\n",
    "                dbc.Col([choro], width=9),\n",
    "            ],\n",
    "            align=\"center\",\n",
    "        ),\n",
    "        dbc.Row([dbc.Col([dropdown], width=6)], justify=\"center\"),\n",
    "        html.Hr(),\n",
    "        dbc.Row([dbc.Col([bubble], width=12)], justify=\"center\"),\n",
    "        dbc.Row([dbc.Col([choro2], width=12)], justify=\"center\"),\n",
    "        dbc.Row([dbc.Col([choro3], width=12)], justify=\"center\"),\n",
    "        dbc.Row([dbc.Col([bar], width=12)], justify=\"center\"),\n",
    "        dbc.Row([dbc.Col([table], width=12)], justify=\"center\"),\n",
    "    ],\n",
    "    fluid=True,\n",
    ")"
   ]
  },
  {
   "cell_type": "code",
   "execution_count": 7,
   "metadata": {
    "tags": []
   },
   "outputs": [],
   "source": [
    "\n",
    "# Callback allows components to interact\n",
    "@app.callback(\n",
    "    Output(choro, \"figure\"),\n",
    "    Output(choro2, \"figure\"),\n",
    "    Output(choro3, \"figure\"),\n",
    "    Output(bar, \"figure\"),\n",
    "    Output(bubble, \"figure\"),\n",
    "    Output(table, \"data\"),\n",
    "    Output(mytitle, \"children\"),\n",
    "    Output(mysubtitle, \"children\"),\n",
    "    Input(dropdown, \"value\"),\n",
    "    Input(\"myslider1\", \"value\"),\n",
    "    Input(\"myslider2\", \"value\"),\n",
    "    Input(\"myslider3\", \"value\"),\n",
    "    Input(\"myslider4\", \"value\"),\n",
    "    Input(\"myslider5\", \"value\"),\n",
    "    Input(\"myslider6\", \"value\"),\n",
    ")\n",
    "def update_graph(\n",
    "    column_name, scaling1, scaling2, scaling3, scaling4, scaling5, scaling6\n",
    "):  # function arguments come from the component property of the Input\n",
    "    # ignore_columns_num = 9\n",
    "\n",
    "    dff = (\n",
    "        df.copy()\n",
    "    )  # create copy of dataframe to apply weightings to before creating the risk matrix\n",
    "    slider_weights = [scaling1, scaling2, scaling3, scaling4, scaling5, scaling6]\n",
    "    slider_cols = [\n",
    "        \"PBO\",\n",
    "        \"Terrain Ruggedness\",\n",
    "        \"Urban %\",\n",
    "        \"Urban Agg %\",\n",
    "        \"RoadQuality\",\n",
    "        \"Km\",\n",
    "    ]\n",
    "    risk_cols = [\n",
    "        \"PBO_risk\",\n",
    "        \"TRI_risk\",\n",
    "        \"urb_risk\",\n",
    "        \"urbagg_risk\",\n",
    "        \"road_risk\",\n",
    "        \"distance_risk\",\n",
    "    ]\n",
    "\n",
    "    # check hardcoding here, this is the number of factors that are summed in to the risk matrix\n",
    "    for id, col in enumerate(slider_cols):\n",
    "        series = weight_parameter(df[risk_cols[id]], slider_weights[id])\n",
    "        dff[risk_cols[id]] = series\n",
    "\n",
    "    dff = dff[dff[column_name].notnull()]\n",
    "    ### Sum all of the weighted risk values in to the 'Risk' column of the dataframe\n",
    "    dff[\"Risk\"] = dff[risk_cols].sum(axis=\"columns\", skipna=False)\n",
    "\n",
    "    ### Normalise for a percentage risk,\n",
    "\n",
    "\n",
    "    risk_scale = 0.5\n",
    "    dff[\"Risk\"] = dff[\"Risk\"] / dff.at[\"NLD\",\"Risk\"]\n",
    "    dff[\"Population Piped\"] = (dff[\"Nat Piped\"]/100) *dff[\"Population\"]\n",
    "    dff[\"Nat Improved\"]=dff[\"Nat Piped\"]+dff[\"Nat NonPiped\"]\n",
    "    dff[\"Nat Unimproved and Surface\"]=100-dff[\"Nat Improved\"]\n",
    "    dff[\"Theoretical Population Piped Has to Relocate\"] = (dff[\"Risk\"]-1)*dff[\"Population Piped\"]*risk_scale #this bases off netherlands no one having to move. \n",
    "\n",
    "    # if pandas value greater than , equals another column value\n",
    "    locations_over = (dff[\"Theoretical Population Piped Has to Relocate\"]>dff[\"Population Piped\"])\n",
    "    dff[\"Population Has to Relocate\"] = dff[\"Theoretical Population Piped Has to Relocate\"]\n",
    "    dff[\"Population Has to Relocate\"][locations_over] = dff[\"Population Piped\"][locations_over]\n",
    "    dff[\"Percent of Population Has to Relocate\"] = (dff[\"Population Has to Relocate\"]/dff[\"Population\"])*100\n",
    "\n",
    "\n",
    "\n",
    "\n",
    "    nancount = dff[\"Risk\"].isnull().sum()\n",
    "    mysubtitle = f\"Displaying {len(df.index)-nancount} countries from a total of {len(df.index)} based on data availability\"\n",
    "\n",
    "\n",
    "\n",
    "    hover_data_list =[\n",
    "            \"PBO\",\n",
    "            \"Terrain Ruggedness\",\n",
    "            \"Urban %\",\n",
    "            \"RoadQuality\",\n",
    "            \"Km\",\n",
    "            \"Nat Piped\",\n",
    "    ]\n",
    "\n",
    "\n",
    "    # https://plotly.com/python/choropleth-maps/\n",
    "    choro1 = px.choropleth(\n",
    "        title=column_name,  x\n",
    "        data_frame=dff,\n",
    "        locations=dff.index,\n",
    "        height=600,\n",
    "        color=column_name,\n",
    "        hover_name=\"Entity\",\n",
    "        hover_data=hover_data_list\n",
    "    )\n",
    "    choro1.layout.coloraxis.colorbar.title = ''\n",
    "\n",
    "\n",
    "    choro2 = px.choropleth(\n",
    "        title=\"Percent of Population with Piped Water\",\n",
    "        data_frame=dff,\n",
    "        locations=dff.index,\n",
    "        height=600,\n",
    "        color=\"Nat Piped\",\n",
    "        hover_name=\"Entity\",\n",
    "        hover_data=hover_data_list\n",
    "    )\n",
    "    choro2.layout.coloraxis.colorbar.title = ''\n",
    "\n",
    "\n",
    "    choro3 = px.choropleth(\n",
    "        title=\"Percent of Population Has to Relocate\",\n",
    "        data_frame=dff,\n",
    "        locations=dff.index,\n",
    "        height=600,\n",
    "        color=\"Percent of Population Has to Relocate\",\n",
    "        hover_name=\"Entity\",\n",
    "        hover_data=hover_data_list\n",
    "    )\n",
    "    choro3.layout.coloraxis.colorbar.title = ''\n",
    "\n",
    "\n",
    "\n",
    "    graph_filter = dff[column_name].notnull()\n",
    "    fig2 = px.bar(\n",
    "        dff[graph_filter].sort_values(by=column_name, ascending=False),\n",
    "        y=column_name,\n",
    "        x=dff.sort_values(by=column_name, ascending=False)[graph_filter].index,\n",
    "        hover_name=\"Entity\",\n",
    "    )\n",
    "    fig2.update_layout(uniformtext_minsize=14, uniformtext_mode=\"show\")\n",
    "\n",
    "    fig3 = px.scatter(\n",
    "        dff[graph_filter].sort_values(by=column_name, ascending=False),\n",
    "        x=\"Entity\",\n",
    "        y=column_name,\n",
    "        size=\"Population\",\n",
    "        hover_name=\"Entity\",\n",
    "        log_y=True,\n",
    "        size_max=60,\n",
    "    )\n",
    "\n",
    "    # gg = correlation_checker(dff,\"National At Least Basic\",\"Nat Piped\")\n",
    "    # print(gg)\n",
    "\n",
    "    return (\n",
    "        choro1,\n",
    "        choro2,\n",
    "        choro3,\n",
    "        fig2,\n",
    "        fig3,\n",
    "        dff.round(decimals=1)\n",
    "        .sort_values(by=column_name, ascending=False)\n",
    "        .to_dict(\"records\"),\n",
    "        \"# \" + column_name,\n",
    "        mysubtitle,\n",
    "    )  # returned objects are assigned to the component property of the Output\n",
    "\n"
   ]
  },
  {
   "cell_type": "code",
   "execution_count": 8,
   "metadata": {},
   "outputs": [],
   "source": [
    "# corr_value = df[\"National At Least Basic\"].corr(df[\"Nat Piped\"])\n",
    "\n",
    "# corr_value = df[\"National Limit (more than 30 mins)\"].corr(df[\"Nat Accesible On Premises\"])\n",
    "\n",
    "hh =df.describe()\n",
    "\n",
    "\n",
    "\n"
   ]
  },
  {
   "cell_type": "code",
   "execution_count": 9,
   "metadata": {},
   "outputs": [
    {
     "name": "stdout",
     "output_type": "stream",
     "text": [
      "Dash app running on http://127.0.0.1:8050/\n"
     ]
    }
   ],
   "source": [
    "\n",
    "# Run app\n",
    "if __name__ == \"__main__\":\n",
    "    app.run_server(mode='external')\n",
    "    "
   ]
  },
  {
   "cell_type": "code",
   "execution_count": 10,
   "metadata": {},
   "outputs": [
    {
     "data": {
      "application/vnd.plotly.v1+json": {
       "config": {
        "plotlyServerURL": "https://plotly.com"
       },
       "data": [
        {
         "legendgroup": "Kms to Water",
         "marker": {
          "color": "#333F44"
         },
         "mode": "lines",
         "name": "Kms to Water",
         "showlegend": true,
         "type": "scatter",
         "x": [
          1.9,
          2.3622,
          2.8244,
          3.2866,
          3.7488,
          4.211,
          4.6732,
          5.135400000000001,
          5.5976,
          6.059800000000001,
          6.522,
          6.9841999999999995,
          7.446399999999999,
          7.9086,
          8.370800000000001,
          8.833,
          9.2952,
          9.757399999999999,
          10.219600000000002,
          10.681799999999999,
          11.144,
          11.6062,
          12.0684,
          12.530600000000002,
          12.992799999999999,
          13.455,
          13.9172,
          14.3794,
          14.841600000000001,
          15.303799999999999,
          15.766,
          16.228199999999998,
          16.6904,
          17.1526,
          17.6148,
          18.076999999999998,
          18.5392,
          19.001399999999997,
          19.463599999999996,
          19.9258,
          20.387999999999998,
          20.8502,
          21.312399999999997,
          21.774599999999996,
          22.2368,
          22.698999999999998,
          23.1612,
          23.623399999999997,
          24.085599999999996,
          24.5478,
          25.009999999999998,
          25.4722,
          25.934399999999997,
          26.396599999999996,
          26.8588,
          27.320999999999998,
          27.7832,
          28.245399999999997,
          28.707599999999996,
          29.1698,
          29.631999999999998,
          30.0942,
          30.556399999999996,
          31.018599999999996,
          31.4808,
          31.942999999999998,
          32.4052,
          32.867399999999996,
          33.3296,
          33.7918,
          34.254,
          34.71619999999999,
          35.1784,
          35.6406,
          36.102799999999995,
          36.565,
          37.02719999999999,
          37.4894,
          37.9516,
          38.413799999999995,
          38.876,
          39.33819999999999,
          39.8004,
          40.2626,
          40.724799999999995,
          41.187,
          41.64919999999999,
          42.1114,
          42.5736,
          43.035799999999995,
          43.498,
          43.96019999999999,
          44.4224,
          44.8846,
          45.346799999999995,
          45.809,
          46.27119999999999,
          46.7334,
          47.1956,
          47.657799999999995,
          48.12,
          48.58219999999999,
          49.0444,
          49.5066,
          49.968799999999995,
          50.431,
          50.89319999999999,
          51.3554,
          51.8176,
          52.279799999999994,
          52.742,
          53.20419999999999,
          53.6664,
          54.1286,
          54.590799999999994,
          55.053,
          55.51519999999999,
          55.9774,
          56.4396,
          56.901799999999994,
          57.364,
          57.82619999999999,
          58.2884,
          58.7506,
          59.212799999999994,
          59.675,
          60.13719999999999,
          60.5994,
          61.0616,
          61.523799999999994,
          61.986,
          62.44819999999999,
          62.9104,
          63.3726,
          63.834799999999994,
          64.297,
          64.75919999999999,
          65.2214,
          65.6836,
          66.14580000000001,
          66.608,
          67.0702,
          67.5324,
          67.99459999999999,
          68.45680000000002,
          68.91900000000001,
          69.3812,
          69.8434,
          70.3056,
          70.76780000000001,
          71.23,
          71.6922,
          72.1544,
          72.61659999999999,
          73.07880000000002,
          73.54100000000001,
          74.0032,
          74.4654,
          74.9276,
          75.38980000000001,
          75.852,
          76.3142,
          76.7764,
          77.23859999999999,
          77.70080000000002,
          78.16300000000001,
          78.6252,
          79.0874,
          79.5496,
          80.01180000000001,
          80.474,
          80.9362,
          81.3984,
          81.86059999999999,
          82.32280000000002,
          82.78500000000001,
          83.2472,
          83.7094,
          84.1716,
          84.63380000000001,
          85.096,
          85.5582,
          86.0204,
          86.48259999999999,
          86.94480000000001,
          87.40700000000001,
          87.8692,
          88.3314,
          88.7936,
          89.25580000000001,
          89.718,
          90.1802,
          90.6424,
          91.10459999999999,
          91.56680000000001,
          92.02900000000001,
          92.4912,
          92.9534,
          93.4156,
          93.87780000000001,
          94.34,
          94.8022,
          95.2644,
          95.72659999999999,
          96.18880000000001,
          96.65100000000001,
          97.1132,
          97.5754,
          98.0376,
          98.49980000000001,
          98.962,
          99.4242,
          99.8864,
          100.34859999999999,
          100.81080000000001,
          101.27300000000001,
          101.7352,
          102.1974,
          102.6596,
          103.12180000000001,
          103.584,
          104.0462,
          104.5084,
          104.97059999999999,
          105.43280000000001,
          105.89500000000001,
          106.3572,
          106.8194,
          107.2816,
          107.74380000000001,
          108.206,
          108.6682,
          109.1304,
          109.59259999999999,
          110.05480000000001,
          110.51700000000001,
          110.9792,
          111.4414,
          111.9036,
          112.36580000000001,
          112.828,
          113.2902,
          113.7524,
          114.21459999999999,
          114.67680000000001,
          115.13900000000001,
          115.6012,
          116.0634,
          116.5256,
          116.98780000000001,
          117.45,
          117.9122,
          118.3744,
          118.83659999999999,
          119.29880000000001,
          119.76100000000001,
          120.2232,
          120.6854,
          121.1476,
          121.6098,
          122.072,
          122.5342,
          122.9964,
          123.45859999999999,
          123.92080000000001,
          124.38300000000001,
          124.8452,
          125.3074,
          125.7696,
          126.2318,
          126.694,
          127.1562,
          127.6184,
          128.0806,
          128.5428,
          129.005,
          129.4672,
          129.9294,
          130.3916,
          130.8538,
          131.316,
          131.7782,
          132.2404,
          132.7026,
          133.16479999999999,
          133.627,
          134.08919999999998,
          134.5514,
          135.01360000000003,
          135.4758,
          135.93800000000002,
          136.40019999999998,
          136.8624,
          137.3246,
          137.7868,
          138.249,
          138.7112,
          139.1734,
          139.6356,
          140.0978,
          140.56,
          141.0222,
          141.4844,
          141.94660000000002,
          142.40879999999999,
          142.871,
          143.33319999999998,
          143.7954,
          144.25760000000002,
          144.7198,
          145.18200000000002,
          145.64419999999998,
          146.1064,
          146.5686,
          147.0308,
          147.493,
          147.9552,
          148.4174,
          148.8796,
          149.3418,
          149.804,
          150.2662,
          150.7284,
          151.19060000000002,
          151.65279999999998,
          152.115,
          152.57719999999998,
          153.0394,
          153.50160000000002,
          153.9638,
          154.42600000000002,
          154.88819999999998,
          155.3504,
          155.8126,
          156.2748,
          156.737,
          157.1992,
          157.6614,
          158.1236,
          158.5858,
          159.048,
          159.5102,
          159.9724,
          160.43460000000002,
          160.89679999999998,
          161.359,
          161.82119999999998,
          162.2834,
          162.74560000000002,
          163.2078,
          163.67000000000002,
          164.13219999999998,
          164.5944,
          165.0566,
          165.5188,
          165.981,
          166.4432,
          166.9054,
          167.3676,
          167.8298,
          168.292,
          168.7542,
          169.2164,
          169.67860000000002,
          170.14079999999998,
          170.603,
          171.06519999999998,
          171.5274,
          171.98960000000002,
          172.4518,
          172.91400000000002,
          173.37619999999998,
          173.8384,
          174.3006,
          174.7628,
          175.225,
          175.6872,
          176.14939999999999,
          176.6116,
          177.0738,
          177.536,
          177.9982,
          178.4604,
          178.92260000000002,
          179.38479999999998,
          179.847,
          180.30919999999998,
          180.7714,
          181.23360000000002,
          181.6958,
          182.15800000000002,
          182.62019999999998,
          183.0824,
          183.5446,
          184.0068,
          184.469,
          184.9312,
          185.3934,
          185.8556,
          186.3178,
          186.78,
          187.2422,
          187.7044,
          188.16660000000002,
          188.62879999999998,
          189.091,
          189.55319999999998,
          190.0154,
          190.47760000000002,
          190.9398,
          191.40200000000002,
          191.86419999999998,
          192.3264,
          192.7886,
          193.2508,
          193.713,
          194.1752,
          194.6374,
          195.0996,
          195.5618,
          196.024,
          196.4862,
          196.9484,
          197.41060000000002,
          197.87279999999998,
          198.335,
          198.79719999999998,
          199.2594,
          199.72160000000002,
          200.1838,
          200.64600000000002,
          201.10819999999998,
          201.5704,
          202.0326,
          202.4948,
          202.957,
          203.4192,
          203.8814,
          204.3436,
          204.8058,
          205.268,
          205.7302,
          206.1924,
          206.65460000000002,
          207.11679999999998,
          207.579,
          208.04119999999998,
          208.5034,
          208.96560000000002,
          209.4278,
          209.89000000000001,
          210.35219999999998,
          210.8144,
          211.2766,
          211.7388,
          212.201,
          212.6632,
          213.1254,
          213.5876,
          214.0498,
          214.512,
          214.9742,
          215.4364,
          215.89860000000002,
          216.36079999999998,
          216.823,
          217.28519999999997,
          217.7474,
          218.20960000000002,
          218.6718,
          219.13400000000001,
          219.59619999999998,
          220.0584,
          220.5206,
          220.9828,
          221.445,
          221.9072,
          222.3694,
          222.8316,
          223.2938,
          223.756,
          224.2182,
          224.6804,
          225.14260000000002,
          225.60479999999998,
          226.067,
          226.52919999999997,
          226.9914,
          227.45360000000002,
          227.9158,
          228.37800000000001,
          228.84019999999998,
          229.3024,
          229.7646,
          230.2268,
          230.689,
          231.1512,
          231.6134,
          232.0756,
          232.5378
         ],
         "xaxis": "x",
         "y": [
          0.02787322590416336,
          0.028006303073969372,
          0.028105158794497202,
          0.028169512223931926,
          0.02819921507626381,
          0.028194252300918852,
          0.02815474189738161,
          0.028080933867560394,
          0.027973208316478634,
          0.027832072719582587,
          0.02765815838244081,
          0.02745221612579383,
          0.027215111235706788,
          0.02694781772490952,
          0.02665141195720795,
          0.026327065692053012,
          0.02597603861090761,
          0.02559967039091203,
          0.025199372394475446,
          0.024776619045796804,
          0.02433293896691867,
          0.023869905946743278,
          0.023389129816493118,
          0.02289224730439373,
          0.022380912940917496,
          0.021856790083788564,
          0.021321542129148264,
          0.020776823971870518,
          0.020224273774048503,
          0.019665505096210414,
          0.019102099440928062,
          0.018535599253227404,
          0.017967501416663458,
          0.017399251278160117,
          0.016832237228809097,
          0.016267785861843888,
          0.015707157723027363,
          0.015151543662782546,
          0.014602061793619246,
          0.014059755050828049,
          0.013525589349081123,
          0.013000452322548163,
          0.012485152631450114,
          0.011980419813670236,
          0.011486904656155653,
          0.011005180057394372,
          0.010535742349264953,
          0.010079013044037542,
          0.009635340970261726,
          0.00920500475970868,
          0.008788215646433768,
          0.008385120538379816,
          0.00799580532173337,
          0.007620298358453074,
          0.0072585741379871775,
          0.00691055704515439,
          0.006576125207448974,
          0.006255114386611103,
          0.005947321881142691,
          0.005652510408509439,
          0.005370411938014475,
          0.0051007314477218325,
          0.004843150581310262,
          0.0045973311833166055,
          0.0043629186938470114,
          0.004139545386462812,
          0.0039268334355549595,
          0.0037243978020796366,
          0.0035318489290116464,
          0.003348795240260733,
          0.0031748454390677443,
          0.003009610604037053,
          0.002852706082954656,
          0.0027037531863766014,
          0.002562380684642137,
          0.002428226113464368,
          0.00230093689457512,
          0.0021801712790497163,
          0.0020655991219128093,
          0.001956902497431465,
          0.0018537761651423001,
          0.0017559278971413567,
          0.0016630786774976757,
          0.001574962784842609,
          0.0014913277692472434,
          0.0014119343344406743,
          0.0013365561362533296,
          0.0012649795079036604,
          0.0011970031223952722,
          0.0011324376018660427,
          0.0010711050832429856,
          0.001012838749017243,
          0.0009574823313736503,
          0.0009048895972988922,
          0.0008549238216609483,
          0.000807457254609354,
          0.0007623705889989728,
          0.000719552432896978,
          0.0006788987916004595,
          0.0006403125629762906,
          0.0006037030493411177,
          0.00056898548853177,
          0.0005360806062789817,
          0.0005049141914930927,
          0.0004754166956016253,
          0.00044752285664724587,
          0.000421171348461671,
          0.0003963044548772625,
          0.0003728677686234937,
          0.0003508099142799216,
          0.0003300822944199996,
          0.0003106388578800562,
          0.00029243588892368034,
          0.00027543181594199515,
          0.0002595870382331056,
          0.00024486376933740715,
          0.0002312258953672573,
          0.00021863884675769155,
          0.00020706948187698224,
          0.00019648598096969034,
          0.0001868577489581088,
          0.00017815532569827645,
          0.0001703503023718539,
          0.00016341524279280358,
          0.00015732360851583853,
          0.0001520496867499164,
          0.00014756852020261917,
          0.00014385583810812017,
          0.00014088798782082435,
          0.00013864186648685647,
          0.00013709485243480643,
          0.00013622473605394824,
          0.00013600965005113684,
          0.00013642799909544063,
          0.00013745838897109185,
          0.00013907955546345135,
          0.00014127029329841613,
          0.00014400938554218564,
          0.00014727553394480218,
          0.00015104729077676388,
          0.0001553029927627402,
          0.0001600206977596226,
          0.00016517812485749322,
          0.00017075259860145604,
          0.0001767209980395496,
          0.00018305971129724624,
          0.0001897445963624875,
          0.00019675094873709546,
          0.000204053476571176,
          0.00021162628384724152,
          0.00021944286212094316,
          0.00022747609125613598,
          0.0002356982495144477,
          0.00024408103327441306,
          0.0002525955865636567,
          0.0002612125404905943,
          0.0002699020625608877,
          0.0002786339157595928,
          0.00028737752717393413,
          0.00029610206582513047,
          0.00030477652927208746,
          0.00031336983844634596,
          0.0003218509400777603,
          0.000330188915975276,
          0.00033835309833812996,
          0.000346313190190979,
          0.0003540393899630428,
          0.0003615025191672829,
          0.0003686741520819228,
          0.00037552674629400494,
          0.00038203377293387727,
          0.0003881698454110343,
          0.0003939108454559814,
          0.0003992340452799969,
          0.00040411822468486877,
          0.00040854378198780744,
          0.0004124928376725078,
          0.0004159493297353028,
          0.0004188990997649714,
          0.0004213299688752469,
          0.00042323180269955416,
          0.0004245965647569721,
          0.000425418357605704,
          0.0004256934513142475,
          0.00042542029889958724,
          0.00042459953850477815,
          0.00042323398221371484,
          0.00042132859152725036,
          0.00041889043965067497,
          0.00041592866086635825,
          0.00041245438738570666,
          0.0004084806741900734,
          0.0004040224124795857,
          0.0003990962324507629,
          0.0003937203962172078,
          0.00038791468177153164,
          0.0003817002589601561,
          0.0003750995585050328,
          0.00036813613515700356,
          0.000360834526104145,
          0.000353220105784703,
          0.00034531893826804475,
          0.00033715762836856653,
          0.0003287631726468069,
          0.0003201628114296587,
          0.00031138388294794434,
          0.0003024536806454268,
          0.00029339931465938065,
          0.00028424757840993784,
          0.000275024821164589,
          0.00026575682736649587,
          0.0002564687034317214,
          0.0002471847726322946,
          0.00023792847859033635,
          0.00022872229781445175,
          0.00021958766161443735,
          0.0002105448876351183,
          0.00020161312115603012,
          0.00019281028621159603,
          0.00018415304649751208,
          0.00017565677594406435,
          0.00016733553875688363,
          0.00015920207865093881,
          0.00015126781693492657,
          0.0001435428590412169,
          0.00013603600904149395,
          0.00012875479164050488,
          0.00012170548110012658,
          0.00011489313651325545,
          0.00010832164282193938,
          0.00010199375695646807,
          0.000095911158461696,
          0.00009007450397339434,
          0.00008448348491054368,
          0.0000791368877587966,
          0.00007403265633538587,
          0.00006916795544601611,
          0.00006453923536920812,
          0.000060142296632606114,
          0.000055972354578305674,
          0.00005202410324974446,
          0.000048291778170515366,
          0.000044769217625041785,
          0.000041449922091828784,
          0.00003832711152144484,
          0.000035393780192988046,
          0.00003264274892406171,
          0.000030066714449817913,
          0.000027658295826007308,
          0.000025410077748866443,
          0.00002331465072076753,
          0.000021364648024598796,
          0.000019552779501620656,
          0.000017871862156883546,
          0.00001631484764308089,
          0.000014874846697860262,
          0.000013545150631074898,
          0.000012319249977238765,
          0.000011190850444553724,
          0.00001015388630538054,
          0.00000920253138400137,
          0.000008331207806069121,
          0.000007534592680393318,
          0.000006807622887797306,
          0.000006145498153860573,
          0.0000055436825825803765,
          0.000004997904826518385,
          0.000004504157066006784,
          0.0000040586929656328424,
          0.000003658024770673772,
          0.0000032989196995630074,
          0.0000029783957809915174,
          0.0000026937172760232906,
          0.0000024423898167657453,
          0.000002222155383806025,
          0.000002030987234914218,
          0.000001867084887524397,
          0.00000172886924732183,
          0.000001614977964967011,
          0.0000015242610926401941,
          0.0000014557771017493941,
          0.0000014087893128558308,
          0.0000013827627786710726,
          0.0000013773616508984385,
          0.000001392447051750544,
          0.0000014280754611921784,
          0.0000014844976213458246,
          0.000001562157950066394,
          0.0000016616944464497587,
          0.000001783939061995107,
          0.000001929918502301731,
          0.0000021008554155570498,
          0.0000022981699156791266,
          0.0000025234813798278637,
          0.000002778610452120366,
          0.000003065581177800875,
          0.000003386623184860143,
          0.0000037441738232116774,
          0.000004140880165058924,
          0.000004579600764080476,
          0.000005063407065581085,
          0.000005595584354865618,
          0.0000061796321268672905,
          0.000006819263756572589,
          0.000007518405347113073,
          0.0000082811936306268,
          0.000009111972796203547,
          0.00001001529011951874,
          0.00001099589027019607,
          0.000012058708175619294,
          0.000013208860323898623,
          0.00001445163439406601,
          0.000015792477108392396,
          0.000017236980210022483,
          0.000018790864478976208,
          0.00002045996171096377,
          0.000022250194596446645,
          0.000024167554451912823,
          0.000026218076771417506,
          0.000028407814584010373,
          0.000030742809621665437,
          0.00003322906132265574,
          0.00003587249371686891,
          0.0000386789202621881,
          0.000041654006724625236,
          0.000044803232219203025,
          0.00004813184855341249,
          0.000051644838040258034,
          0.000055346869973111185,
          0.00005924225597966523,
          0.0000633349044968592,
          0.00006762827463246758,
          0.00007212532970186605,
          0.00007682849074989117,
          0.00008173959038752789,
          0.00008685982729096653,
          0.00009218972172615152,
          0.00009772907247497181,
          0.00010347691554946032,
          0.00010943148508749523,
          0.00011559017682735293,
          0.00012194951455875686,
          0.0001285051199447208,
          0.00013525168610128228,
          0.00014218295531107813,
          0.00014929170123161205,
          0.00015656971593987367,
          0.00016400780213187015,
          0.00017159577076851252,
          0.00017932244442846684,
          0.00018717566659402223,
          0.0001951423170580949,
          0.00020320833359937655,
          0.00021135874002861643,
          0.0002195776806625647,
          0.00022784846123341342,
          0.00023615359619124767,
          0.00024447486230539094,
          0.00025279335841812343,
          0.0002610895711515767,
          0.00026934344631618454,
          0.00027753446571736367,
          0.00028564172900677476,
          0.0002936440401759411,
          0.0003015199982438457,
          0.0003092480916468222,
          0.00031680679579906026,
          0.0003241746732559594,
          0.00033133047588059487,
          0.00033825324838633716,
          0.0003449224326063353,
          0.0003513179718235257,
          0.0003574204144833447,
          0.000363211016605432,
          0.00036867184221065527,
          0.0003737858610856257,
          0.0003785370432186553,
          0.0003829104492586888,
          0.00038689231637204744,
          0.00039047013890060295,
          0.000393632743259101,
          0.00039637035654835145,
          0.00039867466840464593,
          0.00040053888565356473,
          0.0004019577793878603,
          0.0004029277241438658,
          0.00040344672890830997,
          0.000403514459746982,
          0.0004031322539077798,
          0.0004023031253126959,
          0.00040103176141562726,
          0.0003993245114649313,
          0.0003971893662707725,
          0.00039463592963694024,
          0.0003916753816743475,
          0.00038832043426836383,
          0.00038458527902391,
          0.0003804855280604222,
          0.00037603814807293996,
          0.00037126138811528715,
          0.00036617470159632274,
          0.00036079866301022204,
          0.0003551548799465501,
          0.0003492659009453583,
          0.000343155119776591,
          0.00033684667673172645,
          0.00033036535751890364,
          0.0003237364903508042,
          0.00031698584180763574,
          0.000310139512045736,
          0.000303223829906053,
          0.000296265248456319,
          0.0002892902414764855,
          0.00028232520136948076,
          0.0002753963389488704,
          0.0002685295855222057,
          0.00026175049765411474,
          0.0002550841649570996,
          0.00024855512122104185,
          0.00024218725915512237,
          0.00023600374897870177,
          0.00023002696106116612,
          0.0002242783927753076,
          0.00021877859969483864,
          0.0002135471312345637,
          0.00020860247080186294,
          0.00020396198050078062,
          0.00019964185040535084,
          0.00019565705239710316,
          0.00019202129854296385,
          0.000188747003974207,
          0.00018584525421461547,
          0.00018332577689657599,
          0.00018119691779738204,
          0.00017946562112431183,
          0.00017813741397598555,
          0.0001772163949087439,
          0.0001767052265401062,
          0.00017660513212640772,
          0.00017691589605814338,
          0.00017763586822399583,
          0.00017876197220261165,
          0.00018028971724953075,
          0.0001822132140548799,
          0.00018452519425514062,
          0.00018721703368912548,
          0.00019027877939390456,
          0.00019369918034052173,
          0.00019746572191159666,
          0.00020156466412316,
          0.00020598108359103247,
          0.00021069891923762866,
          0.00021570102172815026,
          0.00022096920661558811,
          0.0002264843111619073,
          0.00023222625478815318,
          0.0002381741030891702,
          0.0002443061353292988,
          0.00025059991531395837,
          0.00025703236550872157,
          0.0002635798442525765,
          0.00027021822588586385,
          0.0002769229835862386,
          0.0002836692746782474,
          0.0002904320281541436,
          0.0002971860341158236,
          0.00030390603482051453,
          0.0003105668169866971,
          0.00031714330499187126,
          0.00032361065457075404,
          0.00032994434660158384,
          0.00033612028054976633,
          0.0003421148671225562,
          0.0003479051196759388,
          0.00035346874390582275,
          0.00035878422535012426,
          0.00036383091422663005,
          0.0003685891071337164,
          0.00037304012514725003,
          0.0003771663878572732,
          0.00038095148290245634,
          0.00038438023057870015,
          0.00038743874312060453,
          0.0003901144782806884,
          0.0003923962868610207,
          0.00039427445388513977,
          0.0003957407331345062,
          0.0003967883748129919,
          0.0003974121461446996,
          0.00039760834475442426,
          0.00039737480472588937,
          0.0003967108952801588,
          0.0003956175120648995,
          0.00039409706109403656,
          0.0003921534354263601,
          0.00038979198472038635,
          0.0003870194778507806,
          0.0003838440588185149,
          0.00038027519623221994,
          0.00037632362668146656
         ],
         "yaxis": "y"
        },
        {
         "legendgroup": "Kms to Water",
         "marker": {
          "color": "#333F44",
          "symbol": "line-ns-open"
         },
         "mode": "markers",
         "name": "Kms to Water",
         "showlegend": false,
         "type": "scatter",
         "x": [
          3.7,
          4.2,
          2.8,
          176,
          4.8,
          2.3,
          2.4,
          2.3,
          3.3,
          2.9,
          4.5,
          10,
          2.5,
          9.5,
          2.4,
          2.5,
          5.5,
          4.5,
          2.1,
          29,
          2.7,
          2.8,
          2.5,
          3.2,
          2.7,
          3.8,
          3.5,
          2.9,
          3.1,
          3,
          3.5,
          2.6,
          2.8,
          35,
          2.9,
          3.9,
          6,
          3.6,
          2.2,
          19,
          3.4,
          2.9,
          6.7,
          2.7,
          2.4,
          5.6,
          2.4,
          2,
          4,
          3.4,
          3.5,
          3,
          7.5,
          3.3,
          2.9,
          2.4,
          2.7,
          2.8,
          3.5,
          3.2,
          2.4,
          2,
          7,
          12,
          2.6,
          5.2,
          2.2,
          2.7,
          3.7,
          1.9,
          3,
          3.6,
          88,
          2.3,
          3.6,
          233,
          3.4,
          2.4,
          2.2,
          3.5,
          2.3,
          6.2,
          2.6,
          4.4,
          2.4,
          9.6,
          2.2,
          2.8,
          3.2,
          21,
          2.5,
          2.5,
          25,
          30,
          3.5,
          4.3,
          2.2,
          2.3,
          2.2,
          2.5,
          34,
          2.7,
          3,
          3.7,
          2.3,
          2.1,
          2.8,
          2.6,
          2.9,
          3.7,
          4.1,
          185,
          2.4,
          2.6,
          4.3,
          223,
          20,
          14,
          6.6,
          3.2,
          2.9,
          85,
          2.4,
          2.5,
          2.2,
          2.2,
          11,
          3.4,
          2.4,
          1.9,
          2.6,
          4.8,
          8.1,
          2.3,
          3,
          3.3,
          2.6,
          9.7,
          3.6,
          2.3,
          5,
          2.1,
          23,
          3,
          3,
          3.6
         ],
         "xaxis": "x",
         "y": [
          "Kms to Water",
          "Kms to Water",
          "Kms to Water",
          "Kms to Water",
          "Kms to Water",
          "Kms to Water",
          "Kms to Water",
          "Kms to Water",
          "Kms to Water",
          "Kms to Water",
          "Kms to Water",
          "Kms to Water",
          "Kms to Water",
          "Kms to Water",
          "Kms to Water",
          "Kms to Water",
          "Kms to Water",
          "Kms to Water",
          "Kms to Water",
          "Kms to Water",
          "Kms to Water",
          "Kms to Water",
          "Kms to Water",
          "Kms to Water",
          "Kms to Water",
          "Kms to Water",
          "Kms to Water",
          "Kms to Water",
          "Kms to Water",
          "Kms to Water",
          "Kms to Water",
          "Kms to Water",
          "Kms to Water",
          "Kms to Water",
          "Kms to Water",
          "Kms to Water",
          "Kms to Water",
          "Kms to Water",
          "Kms to Water",
          "Kms to Water",
          "Kms to Water",
          "Kms to Water",
          "Kms to Water",
          "Kms to Water",
          "Kms to Water",
          "Kms to Water",
          "Kms to Water",
          "Kms to Water",
          "Kms to Water",
          "Kms to Water",
          "Kms to Water",
          "Kms to Water",
          "Kms to Water",
          "Kms to Water",
          "Kms to Water",
          "Kms to Water",
          "Kms to Water",
          "Kms to Water",
          "Kms to Water",
          "Kms to Water",
          "Kms to Water",
          "Kms to Water",
          "Kms to Water",
          "Kms to Water",
          "Kms to Water",
          "Kms to Water",
          "Kms to Water",
          "Kms to Water",
          "Kms to Water",
          "Kms to Water",
          "Kms to Water",
          "Kms to Water",
          "Kms to Water",
          "Kms to Water",
          "Kms to Water",
          "Kms to Water",
          "Kms to Water",
          "Kms to Water",
          "Kms to Water",
          "Kms to Water",
          "Kms to Water",
          "Kms to Water",
          "Kms to Water",
          "Kms to Water",
          "Kms to Water",
          "Kms to Water",
          "Kms to Water",
          "Kms to Water",
          "Kms to Water",
          "Kms to Water",
          "Kms to Water",
          "Kms to Water",
          "Kms to Water",
          "Kms to Water",
          "Kms to Water",
          "Kms to Water",
          "Kms to Water",
          "Kms to Water",
          "Kms to Water",
          "Kms to Water",
          "Kms to Water",
          "Kms to Water",
          "Kms to Water",
          "Kms to Water",
          "Kms to Water",
          "Kms to Water",
          "Kms to Water",
          "Kms to Water",
          "Kms to Water",
          "Kms to Water",
          "Kms to Water",
          "Kms to Water",
          "Kms to Water",
          "Kms to Water",
          "Kms to Water",
          "Kms to Water",
          "Kms to Water",
          "Kms to Water",
          "Kms to Water",
          "Kms to Water",
          "Kms to Water",
          "Kms to Water",
          "Kms to Water",
          "Kms to Water",
          "Kms to Water",
          "Kms to Water",
          "Kms to Water",
          "Kms to Water",
          "Kms to Water",
          "Kms to Water",
          "Kms to Water",
          "Kms to Water",
          "Kms to Water",
          "Kms to Water",
          "Kms to Water",
          "Kms to Water",
          "Kms to Water",
          "Kms to Water",
          "Kms to Water",
          "Kms to Water",
          "Kms to Water",
          "Kms to Water",
          "Kms to Water",
          "Kms to Water",
          "Kms to Water",
          "Kms to Water"
         ],
         "yaxis": "y2"
        }
       ],
       "layout": {
        "barmode": "overlay",
        "hovermode": "closest",
        "legend": {
         "traceorder": "reversed"
        },
        "template": {
         "data": {
          "bar": [
           {
            "error_x": {
             "color": "#2a3f5f"
            },
            "error_y": {
             "color": "#2a3f5f"
            },
            "marker": {
             "line": {
              "color": "#E5ECF6",
              "width": 0.5
             },
             "pattern": {
              "fillmode": "overlay",
              "size": 10,
              "solidity": 0.2
             }
            },
            "type": "bar"
           }
          ],
          "barpolar": [
           {
            "marker": {
             "line": {
              "color": "#E5ECF6",
              "width": 0.5
             },
             "pattern": {
              "fillmode": "overlay",
              "size": 10,
              "solidity": 0.2
             }
            },
            "type": "barpolar"
           }
          ],
          "carpet": [
           {
            "aaxis": {
             "endlinecolor": "#2a3f5f",
             "gridcolor": "white",
             "linecolor": "white",
             "minorgridcolor": "white",
             "startlinecolor": "#2a3f5f"
            },
            "baxis": {
             "endlinecolor": "#2a3f5f",
             "gridcolor": "white",
             "linecolor": "white",
             "minorgridcolor": "white",
             "startlinecolor": "#2a3f5f"
            },
            "type": "carpet"
           }
          ],
          "choropleth": [
           {
            "colorbar": {
             "outlinewidth": 0,
             "ticks": ""
            },
            "type": "choropleth"
           }
          ],
          "contour": [
           {
            "colorbar": {
             "outlinewidth": 0,
             "ticks": ""
            },
            "colorscale": [
             [
              0,
              "#0d0887"
             ],
             [
              0.1111111111111111,
              "#46039f"
             ],
             [
              0.2222222222222222,
              "#7201a8"
             ],
             [
              0.3333333333333333,
              "#9c179e"
             ],
             [
              0.4444444444444444,
              "#bd3786"
             ],
             [
              0.5555555555555556,
              "#d8576b"
             ],
             [
              0.6666666666666666,
              "#ed7953"
             ],
             [
              0.7777777777777778,
              "#fb9f3a"
             ],
             [
              0.8888888888888888,
              "#fdca26"
             ],
             [
              1,
              "#f0f921"
             ]
            ],
            "type": "contour"
           }
          ],
          "contourcarpet": [
           {
            "colorbar": {
             "outlinewidth": 0,
             "ticks": ""
            },
            "type": "contourcarpet"
           }
          ],
          "heatmap": [
           {
            "colorbar": {
             "outlinewidth": 0,
             "ticks": ""
            },
            "colorscale": [
             [
              0,
              "#0d0887"
             ],
             [
              0.1111111111111111,
              "#46039f"
             ],
             [
              0.2222222222222222,
              "#7201a8"
             ],
             [
              0.3333333333333333,
              "#9c179e"
             ],
             [
              0.4444444444444444,
              "#bd3786"
             ],
             [
              0.5555555555555556,
              "#d8576b"
             ],
             [
              0.6666666666666666,
              "#ed7953"
             ],
             [
              0.7777777777777778,
              "#fb9f3a"
             ],
             [
              0.8888888888888888,
              "#fdca26"
             ],
             [
              1,
              "#f0f921"
             ]
            ],
            "type": "heatmap"
           }
          ],
          "heatmapgl": [
           {
            "colorbar": {
             "outlinewidth": 0,
             "ticks": ""
            },
            "colorscale": [
             [
              0,
              "#0d0887"
             ],
             [
              0.1111111111111111,
              "#46039f"
             ],
             [
              0.2222222222222222,
              "#7201a8"
             ],
             [
              0.3333333333333333,
              "#9c179e"
             ],
             [
              0.4444444444444444,
              "#bd3786"
             ],
             [
              0.5555555555555556,
              "#d8576b"
             ],
             [
              0.6666666666666666,
              "#ed7953"
             ],
             [
              0.7777777777777778,
              "#fb9f3a"
             ],
             [
              0.8888888888888888,
              "#fdca26"
             ],
             [
              1,
              "#f0f921"
             ]
            ],
            "type": "heatmapgl"
           }
          ],
          "histogram": [
           {
            "marker": {
             "pattern": {
              "fillmode": "overlay",
              "size": 10,
              "solidity": 0.2
             }
            },
            "type": "histogram"
           }
          ],
          "histogram2d": [
           {
            "colorbar": {
             "outlinewidth": 0,
             "ticks": ""
            },
            "colorscale": [
             [
              0,
              "#0d0887"
             ],
             [
              0.1111111111111111,
              "#46039f"
             ],
             [
              0.2222222222222222,
              "#7201a8"
             ],
             [
              0.3333333333333333,
              "#9c179e"
             ],
             [
              0.4444444444444444,
              "#bd3786"
             ],
             [
              0.5555555555555556,
              "#d8576b"
             ],
             [
              0.6666666666666666,
              "#ed7953"
             ],
             [
              0.7777777777777778,
              "#fb9f3a"
             ],
             [
              0.8888888888888888,
              "#fdca26"
             ],
             [
              1,
              "#f0f921"
             ]
            ],
            "type": "histogram2d"
           }
          ],
          "histogram2dcontour": [
           {
            "colorbar": {
             "outlinewidth": 0,
             "ticks": ""
            },
            "colorscale": [
             [
              0,
              "#0d0887"
             ],
             [
              0.1111111111111111,
              "#46039f"
             ],
             [
              0.2222222222222222,
              "#7201a8"
             ],
             [
              0.3333333333333333,
              "#9c179e"
             ],
             [
              0.4444444444444444,
              "#bd3786"
             ],
             [
              0.5555555555555556,
              "#d8576b"
             ],
             [
              0.6666666666666666,
              "#ed7953"
             ],
             [
              0.7777777777777778,
              "#fb9f3a"
             ],
             [
              0.8888888888888888,
              "#fdca26"
             ],
             [
              1,
              "#f0f921"
             ]
            ],
            "type": "histogram2dcontour"
           }
          ],
          "mesh3d": [
           {
            "colorbar": {
             "outlinewidth": 0,
             "ticks": ""
            },
            "type": "mesh3d"
           }
          ],
          "parcoords": [
           {
            "line": {
             "colorbar": {
              "outlinewidth": 0,
              "ticks": ""
             }
            },
            "type": "parcoords"
           }
          ],
          "pie": [
           {
            "automargin": true,
            "type": "pie"
           }
          ],
          "scatter": [
           {
            "fillpattern": {
             "fillmode": "overlay",
             "size": 10,
             "solidity": 0.2
            },
            "type": "scatter"
           }
          ],
          "scatter3d": [
           {
            "line": {
             "colorbar": {
              "outlinewidth": 0,
              "ticks": ""
             }
            },
            "marker": {
             "colorbar": {
              "outlinewidth": 0,
              "ticks": ""
             }
            },
            "type": "scatter3d"
           }
          ],
          "scattercarpet": [
           {
            "marker": {
             "colorbar": {
              "outlinewidth": 0,
              "ticks": ""
             }
            },
            "type": "scattercarpet"
           }
          ],
          "scattergeo": [
           {
            "marker": {
             "colorbar": {
              "outlinewidth": 0,
              "ticks": ""
             }
            },
            "type": "scattergeo"
           }
          ],
          "scattergl": [
           {
            "marker": {
             "colorbar": {
              "outlinewidth": 0,
              "ticks": ""
             }
            },
            "type": "scattergl"
           }
          ],
          "scattermapbox": [
           {
            "marker": {
             "colorbar": {
              "outlinewidth": 0,
              "ticks": ""
             }
            },
            "type": "scattermapbox"
           }
          ],
          "scatterpolar": [
           {
            "marker": {
             "colorbar": {
              "outlinewidth": 0,
              "ticks": ""
             }
            },
            "type": "scatterpolar"
           }
          ],
          "scatterpolargl": [
           {
            "marker": {
             "colorbar": {
              "outlinewidth": 0,
              "ticks": ""
             }
            },
            "type": "scatterpolargl"
           }
          ],
          "scatterternary": [
           {
            "marker": {
             "colorbar": {
              "outlinewidth": 0,
              "ticks": ""
             }
            },
            "type": "scatterternary"
           }
          ],
          "surface": [
           {
            "colorbar": {
             "outlinewidth": 0,
             "ticks": ""
            },
            "colorscale": [
             [
              0,
              "#0d0887"
             ],
             [
              0.1111111111111111,
              "#46039f"
             ],
             [
              0.2222222222222222,
              "#7201a8"
             ],
             [
              0.3333333333333333,
              "#9c179e"
             ],
             [
              0.4444444444444444,
              "#bd3786"
             ],
             [
              0.5555555555555556,
              "#d8576b"
             ],
             [
              0.6666666666666666,
              "#ed7953"
             ],
             [
              0.7777777777777778,
              "#fb9f3a"
             ],
             [
              0.8888888888888888,
              "#fdca26"
             ],
             [
              1,
              "#f0f921"
             ]
            ],
            "type": "surface"
           }
          ],
          "table": [
           {
            "cells": {
             "fill": {
              "color": "#EBF0F8"
             },
             "line": {
              "color": "white"
             }
            },
            "header": {
             "fill": {
              "color": "#C8D4E3"
             },
             "line": {
              "color": "white"
             }
            },
            "type": "table"
           }
          ]
         },
         "layout": {
          "annotationdefaults": {
           "arrowcolor": "#2a3f5f",
           "arrowhead": 0,
           "arrowwidth": 1
          },
          "autotypenumbers": "strict",
          "coloraxis": {
           "colorbar": {
            "outlinewidth": 0,
            "ticks": ""
           }
          },
          "colorscale": {
           "diverging": [
            [
             0,
             "#8e0152"
            ],
            [
             0.1,
             "#c51b7d"
            ],
            [
             0.2,
             "#de77ae"
            ],
            [
             0.3,
             "#f1b6da"
            ],
            [
             0.4,
             "#fde0ef"
            ],
            [
             0.5,
             "#f7f7f7"
            ],
            [
             0.6,
             "#e6f5d0"
            ],
            [
             0.7,
             "#b8e186"
            ],
            [
             0.8,
             "#7fbc41"
            ],
            [
             0.9,
             "#4d9221"
            ],
            [
             1,
             "#276419"
            ]
           ],
           "sequential": [
            [
             0,
             "#0d0887"
            ],
            [
             0.1111111111111111,
             "#46039f"
            ],
            [
             0.2222222222222222,
             "#7201a8"
            ],
            [
             0.3333333333333333,
             "#9c179e"
            ],
            [
             0.4444444444444444,
             "#bd3786"
            ],
            [
             0.5555555555555556,
             "#d8576b"
            ],
            [
             0.6666666666666666,
             "#ed7953"
            ],
            [
             0.7777777777777778,
             "#fb9f3a"
            ],
            [
             0.8888888888888888,
             "#fdca26"
            ],
            [
             1,
             "#f0f921"
            ]
           ],
           "sequentialminus": [
            [
             0,
             "#0d0887"
            ],
            [
             0.1111111111111111,
             "#46039f"
            ],
            [
             0.2222222222222222,
             "#7201a8"
            ],
            [
             0.3333333333333333,
             "#9c179e"
            ],
            [
             0.4444444444444444,
             "#bd3786"
            ],
            [
             0.5555555555555556,
             "#d8576b"
            ],
            [
             0.6666666666666666,
             "#ed7953"
            ],
            [
             0.7777777777777778,
             "#fb9f3a"
            ],
            [
             0.8888888888888888,
             "#fdca26"
            ],
            [
             1,
             "#f0f921"
            ]
           ]
          },
          "colorway": [
           "#636efa",
           "#EF553B",
           "#00cc96",
           "#ab63fa",
           "#FFA15A",
           "#19d3f3",
           "#FF6692",
           "#B6E880",
           "#FF97FF",
           "#FECB52"
          ],
          "font": {
           "color": "#2a3f5f"
          },
          "geo": {
           "bgcolor": "white",
           "lakecolor": "white",
           "landcolor": "#E5ECF6",
           "showlakes": true,
           "showland": true,
           "subunitcolor": "white"
          },
          "hoverlabel": {
           "align": "left"
          },
          "hovermode": "closest",
          "mapbox": {
           "style": "light"
          },
          "paper_bgcolor": "white",
          "plot_bgcolor": "#E5ECF6",
          "polar": {
           "angularaxis": {
            "gridcolor": "white",
            "linecolor": "white",
            "ticks": ""
           },
           "bgcolor": "#E5ECF6",
           "radialaxis": {
            "gridcolor": "white",
            "linecolor": "white",
            "ticks": ""
           }
          },
          "scene": {
           "xaxis": {
            "backgroundcolor": "#E5ECF6",
            "gridcolor": "white",
            "gridwidth": 2,
            "linecolor": "white",
            "showbackground": true,
            "ticks": "",
            "zerolinecolor": "white"
           },
           "yaxis": {
            "backgroundcolor": "#E5ECF6",
            "gridcolor": "white",
            "gridwidth": 2,
            "linecolor": "white",
            "showbackground": true,
            "ticks": "",
            "zerolinecolor": "white"
           },
           "zaxis": {
            "backgroundcolor": "#E5ECF6",
            "gridcolor": "white",
            "gridwidth": 2,
            "linecolor": "white",
            "showbackground": true,
            "ticks": "",
            "zerolinecolor": "white"
           }
          },
          "shapedefaults": {
           "line": {
            "color": "#2a3f5f"
           }
          },
          "ternary": {
           "aaxis": {
            "gridcolor": "white",
            "linecolor": "white",
            "ticks": ""
           },
           "baxis": {
            "gridcolor": "white",
            "linecolor": "white",
            "ticks": ""
           },
           "bgcolor": "#E5ECF6",
           "caxis": {
            "gridcolor": "white",
            "linecolor": "white",
            "ticks": ""
           }
          },
          "title": {
           "x": 0.05
          },
          "xaxis": {
           "automargin": true,
           "gridcolor": "white",
           "linecolor": "white",
           "ticks": "",
           "title": {
            "standoff": 15
           },
           "zerolinecolor": "white",
           "zerolinewidth": 2
          },
          "yaxis": {
           "automargin": true,
           "gridcolor": "white",
           "linecolor": "white",
           "ticks": "",
           "title": {
            "standoff": 15
           },
           "zerolinecolor": "white",
           "zerolinewidth": 2
          }
         }
        },
        "title": {
         "text": "Distribution of Distance to Water Source"
        },
        "xaxis": {
         "anchor": "y2",
         "domain": [
          0,
          1
         ],
         "type": "log",
         "zeroline": false
        },
        "yaxis": {
         "anchor": "free",
         "domain": [
          0.35,
          1
         ],
         "position": 0
        },
        "yaxis2": {
         "anchor": "x",
         "domain": [
          0,
          0.25
         ],
         "dtick": 1,
         "showticklabels": false
        }
       }
      }
     },
     "metadata": {},
     "output_type": "display_data"
    }
   ],
   "source": [
    "import plotly.figure_factory as ff\n",
    "import numpy as np\n",
    "\n",
    "\n",
    "\n",
    "group_labels = ['Kms to Water']\n",
    "colors = ['#333F44', '#37AA9C', '#94F3E4']\n",
    "\n",
    "# Create distplot with curve_type set to 'normal'\n",
    "fig = ff.create_distplot([df[\"Km\"].dropna()], group_labels, show_hist=False, colors=colors)\n",
    "\n",
    "# Add title\n",
    "fig.update_layout(title_text='Distribution of Distance to Water Source')\n",
    "fig.update_layout(xaxis_type = \"log\")\n",
    "fig.show()"
   ]
  },
  {
   "cell_type": "code",
   "execution_count": 11,
   "metadata": {},
   "outputs": [
    {
     "name": "stderr",
     "output_type": "stream",
     "text": [
      "/var/folders/74/zlkzxgsj71d9nm329swsh11c0000gn/T/ipykernel_5844/28594902.py:130: UserWarning:\n",
      "\n",
      "Boolean Series key will be reindexed to match DataFrame index.\n",
      "\n",
      "/var/folders/74/zlkzxgsj71d9nm329swsh11c0000gn/T/ipykernel_5844/28594902.py:130: UserWarning:\n",
      "\n",
      "Boolean Series key will be reindexed to match DataFrame index.\n",
      "\n"
     ]
    }
   ],
   "source": [
    "#count km to wate rless than 4km\n",
    "gg = df[\"Km\"].dropna() < 4\n",
    "ghg= df[\"Km\"].dropna()\n",
    "ggsum = gg.sum()"
   ]
  }
 ],
 "metadata": {
  "kernelspec": {
   "display_name": "Python 3.9.13 (conda)",
   "language": "python",
   "name": "python3"
  },
  "language_info": {
   "codemirror_mode": {
    "name": "ipython",
    "version": 3
   },
   "file_extension": ".py",
   "mimetype": "text/x-python",
   "name": "python",
   "nbconvert_exporter": "python",
   "pygments_lexer": "ipython3",
   "version": "3.9.13"
  },
  "orig_nbformat": 4,
  "vscode": {
   "interpreter": {
    "hash": "c09a8b249899dc4589e662892666698668e7a3ca1327801a18c24efb244ad2c6"
   }
  }
 },
 "nbformat": 4,
 "nbformat_minor": 2
}
