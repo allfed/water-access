{
 "cells": [
  {
   "cell_type": "markdown",
   "metadata": {},
   "source": [
    "Welcome! This IPython notebook does a sensitivity analysis of the mobility model for the water access research project."
   ]
  },
  {
   "cell_type": "markdown",
   "metadata": {},
   "source": [
    "Import Packages"
   ]
  },
  {
   "cell_type": "code",
   "execution_count": 65,
   "metadata": {},
   "outputs": [],
   "source": [
    "import pandas as pd\n",
    "import mobility_module as mm\n",
    "import water_access_tools as wtools\n",
    "import numpy as np\n",
    "import plotly\n",
    "import plotly.express as px\n",
    "import plotting_tools_water_access\n",
    "from plotly.subplots import make_subplots\n",
    "import plotly.graph_objects as go\n",
    "\n"
   ]
  },
  {
   "cell_type": "markdown",
   "metadata": {},
   "source": [
    "Import data from csv files"
   ]
  },
  {
   "cell_type": "code",
   "execution_count": 66,
   "metadata": {},
   "outputs": [],
   "source": [
    "######################\n",
    "#### Import Data #####\n",
    "# with open(\"../data/mobility-model-parameters.csv\") as csv_file:\n",
    "#     # read the csv file\n",
    "#     allHPV_param_df = pd.read_csv(\"../data/mobility-model-parameters.csv\")\n",
    "\n",
    "allHPV_param_df = wtools.load_data(\"mobility-model-parameters.csv\")\n",
    "\n",
    "sens_df = wtools.load_data(\"Sensitivity Analysis Variables.csv\")\n",
    "\n",
    "country_data = wtools.load_data(\"country_data_master_interpolated.csv\")\n",
    "\n",
    "assert country_data[\"alpha3\"].value_counts().max() == 1, \"Duplicate alpha3 codes\"\n",
    "\n",
    "# set country_data index to alpha3\n",
    "country_data = country_data.set_index(\"alpha3\")\n",
    "\n"
   ]
  },
  {
   "cell_type": "markdown",
   "metadata": {},
   "source": [
    "Initiliase Velocity Kgs, define colours for graphing"
   ]
  },
  {
   "cell_type": "code",
   "execution_count": 67,
   "metadata": {},
   "outputs": [],
   "source": [
    "# add power values to country_data\n",
    "insufficient_exercise_series = 100 - country_data[\"percent_insufficient_activity\"]\n",
    "country_data[\"power\"] = wtools.map_values_std_dev(insufficient_exercise_series, power_max = 90.75, power_min = 59.25, scale_factor = 3)\n",
    "\n",
    "\n",
    "# map road values to Crr per country\n",
    "road_disrepair = 7 - country_data[\"RoadQuality\"]\n",
    "country_data[\"Crr\"] = wtools.map_values_std_dev(road_disrepair, power_max = 0.03, power_min = 0.002, scale_factor = 3)\n",
    "\n"
   ]
  },
  {
   "cell_type": "code",
   "execution_count": 68,
   "metadata": {},
   "outputs": [],
   "source": [
    "graph_colours = [\"#3D87CB\", \"#F0B323\", \"#DC582A\", \"#674230\", \"#3A913F\", \"#75787B\"]\n",
    "full_result_dict = {}\n",
    "plot_dict = {}\n",
    "df_large = pd.DataFrame()\n",
    "\n",
    "\n",
    "### FIlter Data\n",
    "col = \"Name\"\n",
    "filter_value = \"Bicycle\"\n",
    "param_df = allHPV_param_df.loc[(allHPV_param_df[col] == filter_value)]\n",
    "\n",
    "for country_code in country_data.index:\n",
    "\n",
    "\n",
    "    ###### CHNAGE THESE SOON\n",
    "    country_Crr = country_data.loc[country_code, \"Crr\"]\n",
    "    country_human_weight = country_data.loc[country_code, \"Average Weight\"]\n",
    "    country_power_output = country_data.loc[country_code, \"power\"]\n",
    "\n",
    "    # # initialise variables, options, MET, hpv and Velocity Kgs classes, populated with data via 'init' functions\n",
    "    mo = mm.model_options()\n",
    "    mv = mm.model_variables()\n",
    "    met = mm.MET_values(mv)\n",
    "    hpv = mm.HPV_variables(param_df, mv)\n",
    "    mr = mm.model_results(hpv, mo)\n",
    "\n",
    "    # select model (bike...)\n",
    "    mo.model_selection = 2\n",
    "\n",
    "    trip_velocity_mean = []  # create empty list to place variables in to in loop\n",
    "    unloaded_velocity_mean = []  # create empty list to place variables in to in loop\n",
    "    loaded_velocity_mean = []  # create empty list to place variables in to in loop\n",
    "    velocitykgs = []  # create empty list to place variables in to in loop\n",
    "    water_ration_kms = []  # create empty list to place variables in to in loop\n",
    "\n",
    "\n",
    "    # \"Coefficient of Rolling Resistance\":\n",
    "    hpv.Crr = np.array([[[country_Crr]]]) # change\n",
    "    # \"Human Weight\":\n",
    "    mv.m1 = country_human_weight \n",
    "    # \"Human Power Output\":\n",
    "    mv.P_t = country_power_output\n",
    "\n",
    "    ######## Numerical MODEL ########\n",
    "    mr.v_load_matrix3d, mr.load_matrix3d = mm.mobility_models.numerical_mobility_model(\n",
    "        mr, mv, mo, met, hpv\n",
    "    )\n",
    "    ####### Organise Velocity Kgs #######\n",
    "    mr.load_results(hpv, mv, mo)\n",
    "\n",
    "    maximum_vel_kg_per_slope = np.amax(mr.velocitykgs, axis=2)\n",
    "    mean_vel_kg_per_slope = np.mean(maximum_vel_kg_per_slope)\n",
    "\n",
    "    # append to list\n",
    "    trip_velocity_mean.append(np.mean(mr.v_avg_matrix3d))\n",
    "    unloaded_velocity_mean.append(np.mean(mr.v_unload_matrix3d))\n",
    "    loaded_velocity_mean.append(np.mean(mr.v_load_matrix3d))\n",
    "    velocitykgs.append(mean_vel_kg_per_slope)\n",
    "    water_ration_kms.append(mean_vel_kg_per_slope/mv.waterration*mr.t_secs/1000) # [kg][m/s] * [s] * 1/[kg] * 1/1000 = [km]. Divide by distance to water, and accomodate for household size to see if needs are met.\n",
    "\n",
    "    # create dictionary of results\n",
    "    result_dict = {\n",
    "        \"trip_velocity_mean\": trip_velocity_mean[0],\n",
    "        \"unloaded_velocity_mean\": unloaded_velocity_mean[0],\n",
    "        \"loaded_velocity_mean\": loaded_velocity_mean[0],\n",
    "        \"velocitykgs\": velocitykgs[0],\n",
    "        \"water_ration_kms\": water_ration_kms[0],\n",
    "    }\n",
    "    \n",
    "    # append to dictionary, with country code as key\n",
    "    full_result_dict[country_code] = result_dict\n",
    "\n",
    "\n"
   ]
  },
  {
   "cell_type": "code",
   "execution_count": 71,
   "metadata": {},
   "outputs": [],
   "source": [
    "# create dataframe from dictionary, with country code as index\n",
    "full_result_dict_df = pd.DataFrame.from_dict(full_result_dict, orient=\"index\")\n",
    "\n",
    "# merge with country_data\n",
    "country_data = country_data.merge(full_result_dict_df, left_index=True, right_index=True)\n",
    "\n",
    "# export to csv\n",
    "country_data.to_csv(\"../data/country_data_with_cycling_distance.csv\")"
   ]
  }
 ],
 "metadata": {
  "kernelspec": {
   "display_name": "Python 3.9.13 (conda)",
   "language": "python",
   "name": "python3"
  },
  "language_info": {
   "codemirror_mode": {
    "name": "ipython",
    "version": 3
   },
   "file_extension": ".py",
   "mimetype": "text/x-python",
   "name": "python",
   "nbconvert_exporter": "python",
   "pygments_lexer": "ipython3",
   "version": "3.9.13 | packaged by conda-forge | (main, May 27 2022, 17:01:00) \n[Clang 13.0.1 ]"
  },
  "orig_nbformat": 4,
  "vscode": {
   "interpreter": {
    "hash": "c09a8b249899dc4589e662892666698668e7a3ca1327801a18c24efb244ad2c6"
   }
  }
 },
 "nbformat": 4,
 "nbformat_minor": 2
}
