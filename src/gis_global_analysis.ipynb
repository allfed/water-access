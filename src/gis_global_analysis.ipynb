{
 "cells": [
  {
   "cell_type": "code",
   "execution_count": 1,
   "metadata": {},
   "outputs": [],
   "source": [
    "\n",
    "import pathlib\n",
    "import pandas as pd\n",
    "import numpy as np\n",
    "import matplotlib.pyplot as plt\n",
    "import plotly.express as px\n",
    "import weightedstats as ws\n",
    "\n",
    "\n",
    "# consider using this for weighted stats: http://www.ccgalberta.com/pygeostat/welcome.html\n",
    "\n"
   ]
  },
  {
   "cell_type": "code",
   "execution_count": 2,
   "metadata": {},
   "outputs": [],
   "source": [
    "def weighted_mean(var, wts):\n",
    "    \"\"\"Calculates the weighted mean\"\"\"\n",
    "    return np.average(var, weights=wts)\n",
    "\n",
    "def weighted_median_series(val, weight):\n",
    "    \"\"\"Calculates the weighted median\n",
    "    ArithmeticError\n",
    "    If the sum of the weights is zero, or if the weights are not positive.\n",
    "    \"\"\"\n",
    "    try:\n",
    "        df = pd.DataFrame({\"val\": val, \"weight\": weight})\n",
    "        df_sorted = df.sort_values(\"val\")\n",
    "        cumsum = df_sorted[\"weight\"].cumsum()\n",
    "        cutoff = df_sorted[\"weight\"].sum() / 2.\n",
    "        result = df_sorted[cumsum >= cutoff][\"val\"].iloc[0]\n",
    "        # return just the value\n",
    "    except:\n",
    "        result = np.nan\n",
    "    return result\n",
    "\n",
    "\n",
    "def weighted_median(df, val_column, weight_column):\n",
    "    \"\"\"Calculates the weighted median\n",
    "    ArithmeticError\n",
    "    If the sum of the weights is zero, or if the weights are not positive.\n",
    "    \"\"\"\n",
    "    df_sorted = df.sort_values(val_column)\n",
    "    cumsum = df_sorted[weight_column].cumsum()\n",
    "    cutoff = df_sorted[weight_column].sum() / 2.\n",
    "    return df_sorted[cumsum >= cutoff][val_column].iloc[0]\n",
    "\n",
    "def weighted_variance(var, wts):\n",
    "    \"\"\"Calculates the weighted variance\"\"\"\n",
    "    return np.average((var - weighted_mean(var, wts))**2, weights=wts)\n",
    "\n",
    "\n",
    "def weighted_skew(var, wts):\n",
    "    \"\"\"Calculates the weighted skewness\"\"\"\n",
    "    return (np.average((var - weighted_mean(var, wts))**3, weights=wts) /\n",
    "            weighted_variance(var, wts)**(1.5))\n",
    "\n",
    "def weighted_kurtosis(var, wts):\n",
    "    \"\"\"Calculates the weighted skewness\"\"\"\n",
    "    return (np.average((var - weighted_mean(var, wts))**4, weights=wts) /\n",
    "            weighted_variance(var, wts)**(2))\n",
    "\n",
    "\n",
    "\n",
    "def run_weighted_median_on_grouped_df(df, groupby_column, value_column, weight_column):\n",
    "    \"\"\"Calculate the weighted median of a dataframe grouped by a column.\n",
    "    Args:\n",
    "        df (pandas.DataFrame): DataFrame to calculate weighted median on.\n",
    "        groupby_column (str): Column to group by.\n",
    "        value_column (str): Column to calculate weighted median on.\n",
    "        weight_column (str): Column to use as weight.\n",
    "    Returns:\n",
    "        pandas.DataFrame: DataFrame with weighted median for each group.\n",
    "    \"\"\"\n",
    "    # initialize empty list\n",
    "    d = []\n",
    "    # loop through each group\n",
    "    for i in df[groupby_column].unique():\n",
    "        df_group = df[df[groupby_column] == i]\n",
    "        # if rows in dataframe are more than 1, calculate weighted median\n",
    "        if len(df_group) > 1:\n",
    "            median = weighted_median(df_group, value_column, weight_column)\n",
    "        else:\n",
    "            median = df_group[value_column].values[0]\n",
    "        d.append(\n",
    "            {\n",
    "                groupby_column: i,\n",
    "                \"median\": median,\n",
    "            }\n",
    "        )\n",
    "    return pd.DataFrame(d)\n"
   ]
  },
  {
   "cell_type": "code",
   "execution_count": 3,
   "metadata": {},
   "outputs": [],
   "source": [
    "\n",
    "def load_data(data_file: str) -> pd.DataFrame:\n",
    "    print \n",
    "    '''\n",
    "    Load data from /data directory\n",
    "    '''\n",
    "    PATH = pathlib.Path().resolve()\n",
    "    DATA_PATH = PATH.joinpath(\"../data\").resolve()\n",
    "    return pd.read_csv(DATA_PATH.joinpath(data_file))\n",
    "\n"
   ]
  },
  {
   "cell_type": "code",
   "execution_count": 4,
   "metadata": {},
   "outputs": [],
   "source": [
    "\n",
    "\n",
    "df_zones_input= load_data(\"GIS/points_5min_15min_dtw_csv.csv\")\n",
    "# import df_input and set index as alpha 3 \n",
    "df_input = load_data(\"country_data_with_cycling_distance.csv\")\n",
    "\n",
    "## manyual adjustment of some columns\n",
    "df_zones_input[\"dtw_1\"] = df_zones_input[\"dtw_1\"] / 1000 # turn to kms\n",
    "df_zones_input[\"max distance walking\"] = 3.0 # temp, set max distance reachbale for all countriesl, will change to be bespoke soon\n",
    "df_input[\"max distance cycling\"] = 8 * df_input[\"trip_velocity_mean\"] # temp, set max distance reachbale for all countriesl, will change to be bespoke soon"
   ]
  },
  {
   "cell_type": "code",
   "execution_count": 5,
   "metadata": {},
   "outputs": [
    {
     "name": "stdout",
     "output_type": "stream",
     "text": [
      "             fid       id       left        top      right     bottom  Value  \\\n",
      "1332667  1332781  2268215 -70.083333  12.583333 -70.000000  12.500000    533   \n",
      "1332668  1332782  2269934 -70.000000  12.583333 -69.916667  12.500000    533   \n",
      "1332669  1332783  2269935 -70.000000  12.500000 -69.916667  12.416667    533   \n",
      "1332670  1332784  2271654 -69.916667  12.500000 -69.833333  12.416667    533   \n",
      "1332671  1332785  2271655 -69.916667  12.416667 -69.833333  12.333333    533   \n",
      "\n",
      "        ISOCODE  UNSDCODE  NAME0  ...  percent_insufficient_activity  \\\n",
      "1332667     ABW       533  Aruba  ...                      34.308333   \n",
      "1332668     ABW       533  Aruba  ...                      34.308333   \n",
      "1332669     ABW       533  Aruba  ...                      34.308333   \n",
      "1332670     ABW       533  Aruba  ...                      34.308333   \n",
      "1332671     ABW       533  Aruba  ...                      34.308333   \n",
      "\n",
      "        Average Weight      power       Crr  trip_velocity_mean  \\\n",
      "1332667      77.214823  72.468719  0.017797            0.957795   \n",
      "1332668      77.214823  72.468719  0.017797            0.957795   \n",
      "1332669      77.214823  72.468719  0.017797            0.957795   \n",
      "1332670      77.214823  72.468719  0.017797            0.957795   \n",
      "1332671      77.214823  72.468719  0.017797            0.957795   \n",
      "\n",
      "         unloaded_velocity_mean  loaded_velocity_mean  velocitykgs  \\\n",
      "1332667                1.086109              0.829482    58.742153   \n",
      "1332668                1.086109              0.829482    58.742153   \n",
      "1332669                1.086109              0.829482    58.742153   \n",
      "1332670                1.086109              0.829482    58.742153   \n",
      "1332671                1.086109              0.829482    58.742153   \n",
      "\n",
      "         water_ration_kms  max distance cycling  \n",
      "1332667        112.784934               7.66236  \n",
      "1332668        112.784934               7.66236  \n",
      "1332669        112.784934               7.66236  \n",
      "1332670        112.784934               7.66236  \n",
      "1332671        112.784934               7.66236  \n",
      "\n",
      "[5 rows x 74 columns]\n"
     ]
    }
   ],
   "source": [
    "\n",
    "# this analysis loses some data as the overlap between the rasters is not perfect. To reduce this error, use the 30 arc second data. Too much heavy lifting for my computer to do this at the moment.\n",
    "\n",
    "#merge df_input and df_zones on ISO_CC. This assings all the country data to each zone.\n",
    "# join inner will remove some of the data that is not in both datasets\n",
    "\n",
    "\n",
    "df_zones = df_zones_input.merge(df_input, left_on=\"ISOCODE\", right_on=\"alpha3\", how=\"inner\")\n",
    "\n",
    "\n",
    "# print(df_zones_input[\"ISOCODE\"].head())\n",
    "# print(df_input[\"alpha3\"].head())\n",
    "# print(df_zones[\"ISOCODE\"].head())\n",
    "\n",
    "# find ABW\n",
    "print(df_zones[df_zones[\"ISOCODE\"] == \"ABW\"])\n",
    "\n",
    "\n",
    "\n",
    "#adjust population to account for 9 values per raster point (2.5 to 5 arc min resoltuions. 9 values per point)\n",
    "df_zones[\"AdjPopFloat\"] = df_zones[\"pop_count_15_1\"] / 9 \n",
    "\n",
    "# # convert population density to percent of national population on a per country basis, grouped by ISO_CC\n",
    "df_zones[\"pop_density_perc\"] = df_zones.groupby(\"ISOCODE\")[\"AdjPopFloat\"].apply(lambda x: x / x.sum())\n",
    "\n",
    "# multiply population density by population on a per country basis\n",
    "df_zones[\"pop_zone\"] = df_zones[\"pop_density_perc\"] * df_zones[\"Population\"]\n",
    "\n",
    "# drop rows where pop_zone is close to zero\n",
    "# min_pop = 100\n",
    "# df_zones = df_zones[df_zones[\"pop_zone\"] > min_pop]\n"
   ]
  },
  {
   "cell_type": "code",
   "execution_count": 7,
   "metadata": {},
   "outputs": [],
   "source": [
    "# sum the population in each zone\n",
    "df_zones[\"country_pop_raw\"] = df_zones.groupby(\"ISOCODE\")[\"pop_zone\"].transform(\"sum\")\n",
    "df_zones[\"country_pop_ratio\"] = df_zones.groupby(\"ISOCODE\")[\"AdjPopFloat\"].transform(\"sum\")\n"
   ]
  },
  {
   "attachments": {},
   "cell_type": "markdown",
   "metadata": {},
   "source": [
    "## The section below calculates the population per zone that can reach water\n",
    "\n",
    "Consider putting in household size and bike sharing here"
   ]
  },
  {
   "cell_type": "code",
   "execution_count": 9,
   "metadata": {},
   "outputs": [],
   "source": [
    "# population with piped water\n",
    "df_zones[\"zone_pop_piped\"] = df_zones[\"pop_zone\"]*df_zones[\"Nat Piped\"]/100\n",
    "df_zones[\"zone_pop_unpiped\"] = df_zones[\"pop_zone\"]*df_zones[\"Nat NonPiped\"]/100\n",
    "\n",
    "# is it possible to reach water with walking/cycling\n",
    "df_zones[\"zone_cycling_okay\"] = (df_zones[\"dtw_1\"] < df_zones[\"max distance cycling\"])*1 # multiply by 1 to force to binary not true/false\n",
    "df_zones[\"zone_walking_okay\"] = (df_zones[\"dtw_1\"] < df_zones[\"max distance walking\"])*1\n",
    "\n",
    "# how many people can collect water in the zone\n",
    "df_zones[\"fraction_of_zone_with_cycling_access\"] = df_zones[\"zone_cycling_okay\"]* (df_zones[\"PBO\"])/100\n",
    "df_zones[\"fraction_of_zone_with_walking_access\"] = df_zones[\"zone_walking_okay\"] * 1\n",
    "\n",
    "#\n",
    "df_zones[\"population_piped_with_cycling_access\"] = df_zones[\"fraction_of_zone_with_cycling_access\"] * df_zones[\"zone_pop_piped\"]\n",
    "df_zones[\"population_piped_with_walking_access\"] = df_zones[\"fraction_of_zone_with_walking_access\"] * df_zones[\"zone_pop_piped\"]\n",
    "\n",
    "# select the maximum between the two\n",
    "df_zones[\"population_piped_with_access\"] = df_zones[[\"population_piped_with_cycling_access\", \"population_piped_with_walking_access\"]].max(axis=1)\n",
    "\n",
    "# zone pop without water\n",
    "df_zones[\"zone_pop_with_water\"] =  df_zones[\"population_piped_with_access\"] + df_zones[\"zone_pop_unpiped\"]\n",
    "df_zones[\"zone_pop_without_water\"] = df_zones[\"pop_zone\"] - df_zones[\"zone_pop_with_water\"]\n",
    "\n",
    "\n"
   ]
  },
  {
   "cell_type": "code",
   "execution_count": 10,
   "metadata": {},
   "outputs": [],
   "source": [
    "# use groupby to create dataframe of country level data from df_zones\n",
    "df_countries = df_zones.groupby(\"ISOCODE\").agg({\n",
    "    \"Entity\":\"first\",\n",
    "    \"country_pop_raw\": \"mean\",\n",
    "    \"zone_pop_with_water\":\"sum\",\n",
    "    \"population_piped_with_access\":\"sum\"  ,\n",
    "    \"population_piped_with_cycling_access\":\"sum\",\n",
    "    \"population_piped_with_walking_access\":\"sum\",\n",
    "    \"Nat Piped\":\"first\",\n",
    "    \"region\":\"first\",\n",
    "    # call the weighted median function on the column\n",
    "}).reset_index()\n",
    "\n",
    "# use groupby to create weighted median, needs to be speerate from the above groupby as it uses apply, which can't be used in the same groupby\n",
    "# needs to use apply because the function required two columns as input\n",
    "df_median_group = df_zones.groupby(['ISOCODE']).apply(lambda x : pd.Series({'weighted_med':weighted_median(x,\"dtw_1\",\"pop_zone\")}))\n",
    "\n",
    "# merge the weighted median back into the df_countries dataframe\n",
    "df_countries = df_countries.merge(df_median_group, on=\"ISOCODE\")\n",
    "\n",
    "# drop rows from the dataframe that have Nan in pop_zone and dtw_1\n",
    "df_zones = df_zones.dropna(subset=[\"pop_zone\", \"dtw_1\"])\n",
    "\n",
    "# create summary columns\n",
    "df_countries[\"population_without_water\"] = df_countries[\"country_pop_raw\"] - df_countries[\"zone_pop_with_water\"]\n",
    "# create percent\n",
    "df_countries[\"percent_without_water\"] = df_countries[\"population_without_water\"] / df_countries[\"country_pop_raw\"] * 100\n",
    "df_countries[\"percent_with_water\"] = df_countries[\"zone_pop_with_water\"] / df_countries[\"country_pop_raw\"] * 100\n"
   ]
  },
  {
   "cell_type": "code",
   "execution_count": 21,
   "metadata": {},
   "outputs": [],
   "source": [
    "# Clean up data from spurious country values\n",
    "# uses libya as the max possible diatnce to water (from Kummu paper results)\n",
    "\n",
    "# remove any nan rows\n",
    "df_countries = df_countries.dropna()\n",
    "\n",
    "# remove any rows where the median is more than 1km more than \"LBY\" (Libya)'s median\n",
    "max_distance = df_countries.loc[df_countries[\"ISOCODE\"] == \"LBY\", \"weighted_med\"].values[0] + 1\n",
    "df_countries = df_countries[df_countries[\"weighted_med\"] < max_distance]\n"
   ]
  },
  {
   "cell_type": "code",
   "execution_count": 23,
   "metadata": {},
   "outputs": [
    {
     "name": "stdout",
     "output_type": "stream",
     "text": [
      "Population with water: 5338125352.282861\n",
      "Population without water: 2346436942.638678\n",
      "Percentage of population with water: 0.6946557458205059\n"
     ]
    }
   ],
   "source": [
    "\n",
    "# calculate global totals\n",
    "pop_with_water = df_zones[\"zone_pop_with_water\"].sum()\n",
    "pop_without_water = df_zones[\"zone_pop_without_water\"].sum()\n",
    "# and percentage\n",
    "pop_with_water_perc = pop_with_water / (pop_with_water + pop_without_water)\n",
    "\n",
    "\n",
    "## fix the below code to work \n",
    "print(f\"Population with water: {pop_with_water}\")\n",
    "print(f\"Population without water: {pop_without_water}\")\n",
    "print(f\"Percentage of population with water: {pop_with_water_perc}\")\n",
    "\n",
    "\n",
    "\n"
   ]
  },
  {
   "cell_type": "code",
   "execution_count": 24,
   "metadata": {},
   "outputs": [
    {
     "data": {
      "application/vnd.plotly.v1+json": {
       "config": {
        "plotlyServerURL": "https://plotly.com"
       },
       "data": [
        {
         "coloraxis": "coloraxis",
         "customdata": [
          [
           "Panama",
           4381583,
           3134432.039911462,
           3002984.5499114622,
           1531567.1809773496,
           2563444.8936134363,
           1247150.960088538,
           28.463479068832843,
           71.53652093116716,
           93,
           "Americas",
           2
          ],
          [
           "Congo",
           5657017,
           3589698.166065929,
           1836022.896065929,
           159953.40862213742,
           1781157.797496059,
           2067318.833934071,
           36.54432776026784,
           63.455672239732166,
           53,
           "Africa",
           2
          ],
          [
           "Mauritius",
           1273428,
           972505.5182413608,
           972505.5182413608,
           764675.5001316447,
           842781.9063654344,
           300922.4817586392,
           23.630898783334374,
           76.36910121666563,
           100,
           "Africa",
           2
          ],
          [
           "Japan",
           126050795.99999999,
           100383163.37563367,
           99122655.41563368,
           79207943.38934147,
           68388434.15622322,
           25667632.624366313,
           20.362927834558313,
           79.6370721654417,
           98,
           "Asia",
           2.23606811523438
          ],
          [
           "Eswatini",
           1172369.0000000002,
           775737.210312699,
           541263.4103126989,
           56925.54916400001,
           526225.403247174,
           396631.78968730127,
           33.8316511002339,
           66.16834889976609,
           61,
           "Africa",
           2.23606811523438
          ],
          [
           "Albania",
           2872934,
           2102798.89095541,
           1643129.4509554098,
           476234.0674870058,
           1484599.7245145089,
           770135.10904459,
           26.80657157611661,
           73.19342842388339,
           81,
           "Europe",
           2.23606811523438
          ],
          [
           "Philippines",
           111046909.99999999,
           80469241.74048693,
           46044699.64048693,
           14993202.098893205,
           40590192.8648284,
           30577668.25951305,
           27.53581190103629,
           72.46418809896372,
           66,
           "Asia",
           2.23606811523438
          ],
          [
           "Brunei",
           441532.0000000001,
           320044.54030202184,
           320044.54030202184,
           191102.03486689462,
           232286.98511101995,
           121487.45969797828,
           27.514984123003146,
           72.48501587699685,
           100,
           "Asia",
           2.23606811523438
          ],
          [
           "Azerbaijan",
           10223343.999999998,
           6210944.403688291,
           5597543.763688291,
           627340.0730719799,
           5338564.651574985,
           4012399.596311707,
           39.24742820266742,
           60.75257179733258,
           91,
           "Asia",
           2.23606811523438
          ],
          [
           "Vietnam",
           98168829.00000001,
           86642255.83453591,
           39521217.91453591,
           30937751.79834701,
           27362021.40959165,
           11526573.165464103,
           11.741581602714342,
           88.25841839728565,
           48,
           "Asia",
           2.23606811523438
          ],
          [
           "Lesotho",
           2159067,
           1194195.6227677655,
           891926.2427677654,
           31284.880830000002,
           879102.5147474621,
           964871.3772322345,
           44.68927445198479,
           55.310725548015206,
           69,
           "Africa",
           2.23606811523438
          ],
          [
           "Netherlands",
           17173094,
           14945019.826183844,
           14086365.126183845,
           13166280.346668651,
           8746053.03721667,
           2228074.1738161556,
           12.974215210236173,
           87.02578478976383,
           91,
           "Europe",
           2.23606811523438
          ],
          [
           "Suriname",
           591798,
           448697.06967351836,
           336255.44967351836,
           163765.67252801248,
           280106.81576080853,
           143100.93032648164,
           24.180705295807293,
           75.81929470419271,
           80,
           "Americas",
           2.23606811523438
          ],
          [
           "Norway",
           5465629,
           4269682.7826151475,
           4269682.7826151475,
           3661494.513655814,
           3120514.4636189532,
           1195946.2173848525,
           21.881218380992426,
           78.11878161900758,
           100,
           "Europe",
           2.23606811523438
          ],
          [
           "Papua New Guinea",
           9119005,
           3954658.9509953866,
           1310147.5009953862,
           739160.4610618321,
           1081414.848359004,
           5164346.049004613,
           56.63278010051111,
           43.36721989948889,
           18,
           "Oceania",
           2.23606811523438
          ],
          [
           "Sweden",
           10160159,
           8785841.702473769,
           7566622.622473769,
           6792944.260670381,
           5116920.382297543,
           1374317.297526231,
           13.526533369470211,
           86.47346663052978,
           88,
           "Europe",
           2.23606811523438
          ],
          [
           "Puerto Rico",
           2828246,
           1786608.593204163,
           1786608.593204163,
           592609.8335911442,
           1551117.7754466967,
           1041637.406795837,
           36.82980217406255,
           63.17019782593746,
           100,
           "Americas",
           2.23606811523438
          ],
          [
           "Armenia",
           2968128,
           1644445.4618208723,
           1644445.4618208723,
           115885.57251729813,
           1592249.884691223,
           1323682.5381791277,
           44.5965449663602,
           55.4034550336398,
           100,
           "Asia",
           2.82842700195312
          ],
          [
           "Moldova",
           4024025.000000001,
           2733591.799345472,
           1928786.799345472,
           779874.8976878661,
           1578175.6890901178,
           1290433.200654529,
           32.06822026837629,
           67.93177973162372,
           72,
           "Europe",
           2.82842700195312
          ],
          [
           "El Salvador",
           6518500,
           4338602.959265139,
           3882307.9592651394,
           1675135.6401066834,
           3153103.313083508,
           2179897.040734861,
           33.44169733427723,
           66.55830266572276,
           91,
           "Americas",
           2.82842700195312
          ],
          [
           "Australia",
           25788216.999999996,
           19141433.76104967,
           16820494.231049668,
           11371844.370993746,
           12969887.788754875,
           6646783.238950327,
           25.774497085045965,
           74.22550291495403,
           91,
           "Oceania",
           2.82842700195312
          ],
          [
           "Austria",
           9043071.999999998,
           8370996.553935784,
           8332240.531078641,
           7604134.645708148,
           4805979.441389393,
           672075.4460642142,
           7.431937355626654,
           92.56806264437336,
           99.42857142857144,
           "Europe",
           2.82842700195312
          ],
          [
           "Lithuania",
           2689862,
           1871181.013848095,
           1817383.773848095,
           984490.3160739302,
           1364057.4152868728,
           818680.986151905,
           30.435798793837936,
           69.56420120616205,
           96,
           "Europe",
           2.82842700195312
          ],
          [
           "Bangladesh",
           166303494,
           153796931.46940413,
           15765031.449404145,
           5979348.648763967,
           13117537.266273698,
           12506562.530595869,
           7.520324576341054,
           92.47967542365895,
           15,
           "Asia",
           2.82842700195312
          ],
          [
           "Belize",
           404915,
           331128.4466575942,
           278489.49665759417,
           222585.78615534838,
           192241.09526219324,
           73786.55334240582,
           18.222726582716327,
           81.77727341728367,
           87,
           "Americas",
           2.82842700195312
          ],
          [
           "Georgia",
           3979773,
           2367202.7199870674,
           1770236.7699870677,
           258548.98691064544,
           1646001.5059630033,
           1612570.2800129326,
           40.51915222332863,
           59.48084777667136,
           82,
           "Asia",
           2.82842700195312
          ],
          [
           "Estonia",
           1325188.0000000002,
           852058.4878285654,
           772547.2078285654,
           334964.40365026076,
           627898.9871980264,
           473129.5121714348,
           35.70282195216337,
           64.29717804783664,
           93,
           "Europe",
           2.82842700195312
          ],
          [
           "Malawi",
           19647681,
           16890180.423984036,
           3136803.7239840385,
           1885841.1769758756,
           2225912.0053526023,
           2757500.576015964,
           14.034738125155657,
           85.96526187484434,
           22,
           "Africa",
           2.82842700195312
          ],
          [
           "Slovenia",
           2078723,
           1753133.4441685085,
           1719725.3959542227,
           1494261.1872619586,
           1086574.4997217548,
           325589.5558314915,
           15.662960184280998,
           84.33703981571901,
           97.98214285714286,
           "Europe",
           2.82842700195312
          ],
          [
           "Guyana",
           790329,
           614866.4065028878,
           369864.41650288785,
           234794.36670197538,
           281983.40250712424,
           175462.59349711216,
           22.201209053079435,
           77.79879094692058,
           65,
           "Americas",
           2.82842700195312
          ],
          [
           "Nepal",
           29674920.000000004,
           23914153.36676058,
           10857188.56676058,
           5862203.084379963,
           8283558.013898203,
           5760766.633239422,
           19.41291377782795,
           80.58708622217206,
           50,
           "Asia",
           2.82842700195312
          ],
          [
           "Myanmar",
           54806013.99999999,
           41995040.911580086,
           13495913.631580086,
           9020433.244678846,
           9489992.338637067,
           12810973.088419907,
           23.37512282579045,
           76.62487717420954,
           33,
           "Asia",
           2.82842700195312
          ],
          [
           "Switzerland",
           8715494,
           7612137.846716238,
           7612137.846716238,
           6375274.4952487955,
           4655112.35027265,
           1103356.1532837618,
           12.65970871282525,
           87.34029128717475,
           100,
           "Europe",
           2.82842700195312
          ],
          [
           "Thailand",
           69950844,
           55771686.135134585,
           42481025.775134586,
           30184837.925060168,
           29000443.042628344,
           14179157.864865415,
           20.270174102353096,
           79.7298258976469,
           81,
           "Asia",
           2.82842700195312
          ],
          [
           "New Zealand",
           4860642,
           3369607.4675457217,
           3369607.4675457217,
           2403238.838626293,
           2576295.998185627,
           1491034.5324542783,
           30.675670671781184,
           69.32432932821881,
           100,
           "Oceania",
           2.82842700195312
          ],
          [
           "Hungary",
           9634162,
           6226281.891003084,
           6226281.891003084,
           3037433.5304403743,
           4840389.13260885,
           3407880.1089969156,
           35.37287528481372,
           64.62712471518628,
           100,
           "Europe",
           2.82842700195312
          ],
          [
           "Kyrgyzstan",
           6628347,
           4016202.722777682,
           4016202.722777682,
           1405007.3770741872,
           3399551.289810565,
           2612144.277222318,
           39.40868329950617,
           60.591316700493834,
           94,
           "Asia",
           2.82842700195312
          ],
          [
           "France",
           65426177,
           50863021.32711836,
           48245974.247118354,
           35437389.74179481,
           32045495.384847503,
           14563155.67288164,
           22.258912778721033,
           77.74108722127897,
           93,
           "Europe",
           2.82842700195312
          ],
          [
           "Slovakia",
           5460726,
           4167254.902845599,
           4058040.382845599,
           2877060.6042996068,
           2677351.572310116,
           1293471.0971544008,
           23.686797271176044,
           76.31320272882395,
           98,
           "Europe",
           2.82842700195312
          ],
          [
           "Pakistan",
           225199928.99999997,
           192581116.00514865,
           39445164.28514866,
           24073225.457427345,
           28445482.656775188,
           32618812.99485132,
           14.48437978630594,
           85.51562021369406,
           26,
           "Asia",
           3
          ],
          [
           "Laos",
           7379358,
           5903394.093594684,
           1623366.4535946841,
           1055064.149792721,
           1076534.0098540694,
           1475963.9064053157,
           20.00125087311546,
           79.99874912688453,
           31,
           "Asia",
           3
          ],
          [
           "Democratic Republic of Congo",
           92377986,
           41457107.63739367,
           19286390.997393668,
           6743620.980528459,
           15929349.780118378,
           50920878.36260633,
           55.12230842812088,
           44.87769157187911,
           35,
           "Africa",
           3
          ],
          [
           "Canada",
           38067913.00000001,
           29466489.221592236,
           29466489.221592236,
           23425963.42688244,
           18461264.653758563,
           8601423.778407771,
           22.594944404774093,
           77.4050555952259,
           100,
           "Americas",
           3
          ],
          [
           "Central African Republic",
           4919987,
           2812134.7957759113,
           401341.1657759113,
           126399.47722348965,
           338973.8485420067,
           2107852.2042240887,
           42.84263767819079,
           57.15736232180922,
           14,
           "Africa",
           3
          ],
          [
           "Tanzania",
           61498438,
           36602268.43541015,
           15692799.515410151,
           9329818.022014767,
           11222189.58270791,
           24896169.56458985,
           40.48260472012289,
           59.51739527987711,
           38,
           "Africa",
           3
          ],
          [
           "Taiwan",
           23855008,
           17221414.174724456,
           14529206.12901017,
           9915915.28323166,
           9525407.327133967,
           6633593.825275544,
           27.807971497119365,
           72.19202850288063,
           86.14285714285714,
           "Asia",
           3
          ],
          [
           "Belarus",
           9442867,
           6553624.181113619,
           6175909.50111362,
           3421582.254405755,
           4477852.782812331,
           2889242.8188863806,
           30.597093222708533,
           69.40290677729146,
           96,
           "Europe",
           3
          ],
          [
           "Zambia",
           18920657,
           11433785.10412363,
           4054728.8741236283,
           2370392.382719837,
           2835583.3188616014,
           7486871.89587637,
           39.569830455022625,
           60.430169544977375,
           32,
           "Africa",
           3
          ],
          [
           "Latvia",
           1866934,
           1045877.9932931145,
           952531.2932931145,
           303897.66283055657,
           790823.738676613,
           821056.0067068855,
           43.978844817593206,
           56.02115518240679,
           94,
           "Europe",
           3
          ],
          [
           "French Guiana",
           306450,
           206086.04188145406,
           187699.04188145406,
           117704.14077327971,
           134657.3703504701,
           100363.95811854594,
           32.75051659929709,
           67.2494834007029,
           88,
           "Americas",
           3
          ],
          [
           "United Kingdom",
           68207114,
           49851830.71074987,
           49851830.71074987,
           34027798.999776155,
           34066806.69746765,
           18355283.289250128,
           26.91109799668423,
           73.08890200331577,
           100,
           "Europe",
           3
          ],
          [
           "Sierra Leone",
           8141343,
           5129828.559091626,
           896330.1990916254,
           167723.25149741475,
           811818.3260102626,
           3011514.4409083743,
           36.99038894330302,
           63.00961105669698,
           21,
           "Africa",
           3
          ],
          [
           "Poland",
           37797000,
           30959541.095437218,
           26801871.095437218,
           21944681.00868125,
           15592905.575460574,
           6837458.9045627825,
           18.089951330959554,
           81.91004866904045,
           89,
           "Europe",
           3
          ],
          [
           "Uganda",
           47123533,
           35491080.341705315,
           7216960.541705318,
           3961377.661304178,
           5175807.4410193,
           11632452.658294685,
           24.68501811673307,
           75.31498188326692,
           23,
           "Africa",
           3
          ],
          [
           "Romania",
           19127772.000000004,
           14360629.155176334,
           7474631.235176334,
           3268284.0300602326,
           6103674.388908223,
           4767142.84482367,
           24.9226247825605,
           75.0773752174395,
           64,
           "Europe",
           3
          ],
          [
           "Italy",
           60367471,
           45296209.47370075,
           44692534.763700746,
           35064717.04631027,
           28012271.50826441,
           15071261.526299253,
           24.965865352052354,
           75.03413464794765,
           98,
           "Europe",
           3
          ],
          [
           "North Macedonia",
           2082661,
           1592238.9085696577,
           1446452.6385696577,
           1052696.0002428903,
           929987.3366243917,
           490422.0914303423,
           23.547859753956228,
           76.45214024604378,
           92,
           "Europe",
           3
          ],
          [
           "Serbia",
           8697547,
           5491295.695713863,
           5056418.345713863,
           2621676.449244619,
           3786056.4220605777,
           3206251.304286137,
           36.863857180491664,
           63.136142819508336,
           94,
           "Europe",
           3.16227807617188
          ],
          [
           "Burundi",
           12255429.000000002,
           7864397.481472234,
           2594563.0114722336,
           926451.2274402474,
           2098253.816392435,
           4391031.518527768,
           35.82927630299818,
           64.17072369700182,
           38,
           "Africa",
           3.16227807617188
          ],
          [
           "Belgium",
           11632334,
           9430316.47712924,
           9430316.47712924,
           8079743.336508838,
           4959871.981712824,
           2202017.5228707604,
           18.930143536720664,
           81.06985646327934,
           100,
           "Europe",
           3.16227807617188
          ],
          [
           "Czechia",
           10724553,
           7034155.563598338,
           7034155.563598338,
           4358831.277705127,
           4673871.918052429,
           3690397.4364016624,
           34.41073428796205,
           65.58926571203794,
           100,
           "Europe",
           3.16227807617188
          ],
          [
           "Ukraine",
           43466821.99999999,
           33193835.989384525,
           17545780.069384526,
           10313584.658463553,
           12134556.058592236,
           10272986.010615468,
           23.63408581058783,
           76.36591418941217,
           64,
           "Europe",
           3.16227807617188
          ],
          [
           "Bulgaria",
           6896655,
           3901114.9660387617,
           3901114.9660387617,
           1433143.117824202,
           3189418.258225071,
           2995540.0339612383,
           43.434680058104085,
           56.56531994189592,
           100,
           "Europe",
           3.16227807617188
          ],
          [
           "Bosnia and Herzegovina",
           3263459,
           2142949.919780961,
           1979776.9697809608,
           1254552.4165789112,
           1332643.427420157,
           1120509.0802190392,
           34.33501325492489,
           65.66498674507511,
           95,
           "Europe",
           3.16227807617188
          ],
          [
           "China",
           1444216102,
           1099112794.1140537,
           882480378.8140538,
           686836521.0862375,
           528338800.23714876,
           345103307.8859463,
           23.895544953974365,
           76.10445504602563,
           80,
           "Asia",
           3.16227807617188
          ],
          [
           "Finland",
           5548361,
           4678168.441900189,
           4678168.441900189,
           4291553.292030756,
           2577434.332462881,
           870192.558099811,
           15.683776850493524,
           84.31622314950647,
           100,
           "Europe",
           3.16227807617188
          ],
          [
           "Costa Rica",
           5139053,
           3703482.1366669578,
           3703482.1366669578,
           2879083.050188373,
           2359470.7683989275,
           1435570.8633330422,
           27.934540922871243,
           72.06545907712876,
           100,
           "Americas",
           3.16227807617188
          ],
          [
           "South Africa",
           60041995.99999999,
           31306423.0156775,
           27703903.2556775,
           6567539.8288105,
           24347844.058135007,
           28735572.984322492,
           47.85912344473441,
           52.14087655526559,
           91,
           "Africa",
           3.16227807617188
          ],
          [
           "Russia",
           145912021.99999997,
           83264608.66738676,
           77428127.78738676,
           29255549.84949892,
           62440152.86829273,
           62647413.332613215,
           42.93505941039816,
           57.06494058960184,
           94,
           "Europe",
           3.16227807617188
          ],
          [
           "Mozambique",
           32163044.999999993,
           19016984.49667875,
           8403179.646678753,
           4794027.337106489,
           6020270.7415717505,
           13146060.503321242,
           40.873183814906966,
           59.126816185093034,
           41,
           "Africa",
           3.16227807617188
          ],
          [
           "Cambodia",
           16946445.999999996,
           13152351.832902849,
           4170735.4529028507,
           3314123.9093484743,
           2482932.0103025413,
           3794094.1670971476,
           22.388730752732155,
           77.61126924726784,
           32,
           "Asia",
           3.16227807617188
          ],
          [
           "Ireland",
           4982904,
           3261969.229710043,
           3261969.229710043,
           2175456.650474937,
           2174764.9704465684,
           1720934.770289957,
           34.53678357620289,
           65.4632164237971,
           97,
           "Europe",
           3.16227807617188
          ],
          [
           "Malaysia",
           32776195,
           19764142.18126732,
           19108618.281267323,
           12380058.838114437,
           12121346.501806676,
           13012052.818732679,
           39.699705285292204,
           60.30029471470779,
           95,
           "Asia",
           3.16227807617188
          ],
          [
           "Guinea",
           13497237,
           10065483.288125861,
           1832168.718125862,
           776896.553094478,
           1407029.553375179,
           3431753.7118741386,
           25.425601638869782,
           74.57439836113022,
           25,
           "Africa",
           3.16227807617188
          ],
          [
           "Equatorial Guinea",
           1449891,
           672992.4505833307,
           281521.8805833307,
           47789.29754508815,
           256990.19575397755,
           776898.5494166693,
           53.58323828595869,
           46.41676171404131,
           41,
           "Africa",
           3.16227807617188
          ],
          [
           "New Caledonia",
           288217,
           142852.42952820408,
           142852.42952820408,
           25428.35330814624,
           132922.88455972134,
           145364.57047179592,
           50.43580721185632,
           49.564192788143686,
           99,
           "Oceania",
           3.16227807617188
          ],
          [
           "Honduras",
           10062994,
           5962957.363556464,
           5459807.663556464,
           2886571.831086447,
           3857924.786311869,
           4100036.636443536,
           40.74370546622144,
           59.25629453377855,
           92,
           "Americas",
           3.16227807617188
          ],
          [
           "Germany",
           83900471.00000001,
           69935570.35812482,
           69935570.35812482,
           61551644.35505961,
           35828743.60284277,
           13964900.641875193,
           16.644603391887024,
           83.35539660811297,
           100,
           "Europe",
           3.16227807617188
          ],
          [
           "Rwanda",
           13276517,
           7971699.419047004,
           2130031.939047003,
           740957.7094254969,
           1638059.2330442292,
           5304817.580952996,
           39.95639504663005,
           60.04360495336996,
           38,
           "Africa",
           3.60555102539062
          ],
          [
           "North Korea",
           25887045,
           15754558.40116965,
           15754558.40116965,
           9897989.484542921,
           10240547.152695803,
           10132486.59883035,
           39.14114800986497,
           60.85885199013503,
           100,
           "Asia",
           3.60555102539062
          ],
          [
           "Guatemala",
           18249868,
           10888455.505329732,
           7603479.265329732,
           3363548.208822595,
           5784353.419518605,
           7361412.494670268,
           40.336798571202095,
           59.663201428797905,
           77,
           "Americas",
           3.60555102539062
          ],
          [
           "Solomon Islands",
           703995,
           343111.46670926886,
           153032.81670926884,
           45788.088969905904,
           134975.42978964566,
           360883.53329073114,
           51.26222960258683,
           48.73777039741317,
           46,
           "Oceania",
           3.60555102539062
          ],
          [
           "Zimbabwe",
           15092171,
           9536519.276784394,
           2141355.4867843934,
           892996.310776928,
           1612867.1524644257,
           5555651.723215606,
           36.811481417853045,
           63.188518582146955,
           27,
           "Africa",
           3.60555102539062
          ],
          [
           "Dominican Republic",
           10953714,
           5671912.822558795,
           3919318.582558795,
           113629.13280622775,
           3863644.1114239264,
           5281801.177441205,
           48.219272270950334,
           51.78072772904967,
           81,
           "Americas",
           3.60555102539062
          ],
          [
           "Denmark",
           5813302.000000001,
           4429593.575750161,
           4429593.575750161,
           4165485.5744003635,
           2314706.4097265354,
           1383708.42424984,
           23.802452104670284,
           76.19754789532972,
           100,
           "Europe",
           3.60555102539062
          ],
          [
           "Guinea-Bissau",
           2015489.9999999998,
           1168148.718720738,
           402262.51872073824,
           210301.6170307452,
           298678.8574607018,
           847341.2812792617,
           42.04145301039756,
           57.958546989602446,
           35,
           "Africa",
           3.60555102539062
          ],
          [
           "Croatia",
           4081657,
           2558667.1432068283,
           2354584.293206828,
           1399885.7775350732,
           1696035.7357821192,
           1522989.8567931717,
           37.3130289192152,
           62.686971080784794,
           94.5,
           "Europe",
           3.60555102539062
          ],
          [
           "Egypt",
           104258326.99999999,
           46064118.95130926,
           46064118.95130926,
           7420955.417800701,
           42841644.715641424,
           58194208.04869072,
           55.81732387542602,
           44.18267612457398,
           100,
           "Africa",
           3.60555102539062
          ],
          [
           "India",
           1393409033,
           1093776406.3095922,
           369203709.14959234,
           231552339.98963138,
           249458806.0166019,
           299632626.69040775,
           21.50356568632979,
           78.4964343136702,
           44,
           "Asia",
           3.60555102539062
          ],
          [
           "Mongolia",
           3329281.9999999995,
           2491224.9530689665,
           393777.29306896665,
           103186.76372161481,
           344996.47316556075,
           838057.046931033,
           25.172305828434876,
           74.82769417156513,
           25,
           "Asia",
           3.60555102539062
          ],
          [
           "Liechtenstein",
           38254,
           31870.17248,
           31870.17248,
           30274.215600000003,
           7650.8,
           6383.827519999999,
           16.688,
           83.31200000000001,
           100,
           "Europe",
           3.60555102539062
          ],
          [
           "Nigeria",
           211400704,
           163050207.46657038,
           10841700.586570356,
           4067930.386489241,
           8636708.147496004,
           48350496.53342962,
           22.871492676500086,
           77.12850732349992,
           10,
           "Africa",
           3.60555102539062
          ],
          [
           "Montenegro",
           628051.0000000001,
           318516.51487344666,
           255711.41487344666,
           124896.13383949759,
           185185.84517829708,
           309534.48512655345,
           49.28492831418999,
           50.71507168581001,
           89,
           "Europe",
           3.60555102539062
          ],
          [
           "Togo",
           8478242,
           5380824.794417653,
           1141703.794417653,
           599502.7424434728,
           801361.2946706769,
           3097417.205582347,
           36.53372014602021,
           63.46627985397979,
           25,
           "Africa",
           3.60555102539062
          ],
          [
           "Colombia",
           51265841,
           28905124.263857987,
           24291198.573857985,
           12822584.081845133,
           17194324.57573141,
           22360716.736142013,
           43.61718504947966,
           56.38281495052034,
           89,
           "Americas",
           3.60555102539062
          ],
          [
           "Tajikistan",
           9749624.999999998,
           5044929.743717438,
           3192500.993717438,
           1236112.8827044333,
           2572164.2269432093,
           4704695.2562825605,
           48.25514064676909,
           51.74485935323091,
           65,
           "Asia",
           3.60555102539062
          ],
          [
           "Turkey",
           85042736,
           45712571.34208369,
           42310861.902083695,
           21780455.591194447,
           29949535.099765494,
           39330164.65791631,
           46.24752978069321,
           53.752470219306794,
           95,
           "Asia",
           3.60555102539062
          ],
          [
           "Uzbekistan",
           33935765.00000001,
           22349824.72101669,
           12847810.52101669,
           6163805.772473526,
           10086018.935480857,
           11585940.278983317,
           34.140795938984475,
           65.85920406101553,
           70,
           "Asia",
           3.60555102539062
          ],
          [
           "Iraq",
           41179351,
           24047293.06906545,
           17458596.90906545,
           6049453.145319044,
           14871146.720211688,
           17132057.93093455,
           41.60351611887849,
           58.39648388112152,
           83,
           "Asia",
           3.60555102539062
          ],
          [
           "Sri Lanka",
           21497306,
           16744914.945835575,
           5351342.765835575,
           3359018.4425415867,
           3602105.086411115,
           4752391.054164425,
           22.106914485770563,
           77.89308551422943,
           39,
           "Asia",
           3.60555102539062
          ],
          [
           "Cameroon",
           27224262,
           16403994.5501617,
           4697561.890161701,
           1214869.8439101577,
           4082874.6145973536,
           10820267.4498383,
           39.74494313138148,
           60.25505686861852,
           36,
           "Africa",
           3.60555102539062
          ],
          [
           "Portugal",
           10167922.999999998,
           5551153.1741241515,
           5551153.1741241515,
           3127272.901048809,
           3987957.013944295,
           4616769.825875847,
           45.405239849631506,
           54.594760150368494,
           100,
           "Europe",
           4
          ],
          [
           "Bhutan",
           779900.0000000001,
           275170.72814082867,
           275170.72814082867,
           39640.61587906393,
           251044.67305666674,
           504729.27185917145,
           64.71717808169912,
           35.28282191830089,
           100,
           "Asia",
           4
          ],
          [
           "Nicaragua",
           6702378.999999999,
           3205776.772350642,
           2334467.502350642,
           1215399.3133388497,
           1645446.5358208972,
           3496602.227649357,
           52.16956885979378,
           47.83043114020622,
           70,
           "Americas",
           4
          ],
          [
           "Spain",
           46745211,
           32121443.664334387,
           32121443.664334387,
           25994345.97806631,
           17029176.44877175,
           14623767.335665613,
           31.283990429876578,
           68.71600957012343,
           100,
           "Europe",
           4
          ],
          [
           "Chile",
           19212362,
           12065612.263144575,
           12065612.263144575,
           8703636.34005293,
           7168392.160110113,
           7146749.736855425,
           37.198704338672286,
           62.801295661327714,
           100,
           "Americas",
           4
          ],
          [
           "Vanuatu",
           314464,
           202712.7233502321,
           61203.923350232064,
           12684.37902013804,
           54923.64085362692,
           111751.27664976791,
           35.537065180678205,
           64.46293481932179,
           48,
           "Oceania",
           4
          ],
          [
           "Fiji",
           902899.0000000001,
           378046.4529262271,
           278727.5629262271,
           56749.42954488801,
           251277.03574976124,
           524852.547073773,
           58.12970742838046,
           41.87029257161954,
           83,
           "Oceania",
           4
          ],
          [
           "Madagascar",
           28427333,
           10653868.535499196,
           4684128.605499198,
           1967244.2520759003,
           3510186.503130875,
           17773464.464500804,
           62.52244790076088,
           37.47755209923913,
           35,
           "Africa",
           4
          ],
          [
           "Indonesia",
           276361787.99999994,
           213285900.58530992,
           50232445.66530995,
           31473672.171507947,
           35527980.10189775,
           63075887.41469002,
           22.823664541745558,
           77.17633545825444,
           35,
           "Asia",
           4.12310498046875
          ],
          [
           "Jamaica",
           2973462,
           1475832.5665402159,
           1089282.5065402158,
           414587.31089553435,
           876493.1307903021,
           1497629.4334597841,
           50.36652338115585,
           49.633476618844156,
           83,
           "Americas",
           4.12310498046875
          ],
          [
           "Cote d'Ivoire",
           27053628.999999996,
           16777045.214354485,
           6496666.194354486,
           4078299.6208024737,
           4253194.818065445,
           10276583.785645511,
           37.98597144082043,
           62.01402855917958,
           42,
           "Africa",
           4.12310498046875
          ],
          [
           "United States",
           332915074.00000006,
           208346490.27917263,
           205017339.53917262,
           153979430.36977646,
           118389953.99999109,
           124568583.72082743,
           37.41752580444207,
           62.582474195557936,
           99,
           "Americas",
           4.12310498046875
          ],
          [
           "Haiti",
           11541683,
           7518302.266289003,
           939542.9562890037,
           303631.5296515482,
           770801.7292575218,
           4023380.733710997,
           34.85956713341544,
           65.14043286658456,
           19,
           "Americas",
           4.12310498046875
          ],
          [
           "Kenya",
           54985702,
           29977983.80718736,
           8533560.027187359,
           4098939.789665093,
           6285783.469202362,
           25007718.19281264,
           45.48040178301741,
           54.51959821698259,
           33,
           "Africa",
           4.12310498046875
          ],
          [
           "Reunion",
           901695.9999999998,
           414277.8970195977,
           414277.8970195977,
           189151.3016287809,
           305484.2192697154,
           487418.10298040207,
           54.055702030440656,
           45.944297969559344,
           100,
           "Africa",
           4.12310498046875
          ],
          [
           "Andorra",
           77354,
           60382.85725068455,
           60382.85725068455,
           47978.81850000001,
           32663.696512665032,
           16971.142749315448,
           21.939580046688533,
           78.06041995331147,
           100,
           "Europe",
           4.12310498046875
          ],
          [
           "Angola",
           33933611,
           14077065.689516284,
           5932999.049516284,
           1085141.7839139798,
           5309810.805698033,
           19856545.310483716,
           58.51586296101442,
           41.48413703898557,
           42,
           "Africa",
           4.12310498046875
          ],
          [
           "Malta",
           442790,
           179966.90681855503,
           179966.90681855503,
           94415.06404906466,
           146167.5085759275,
           262823.093181445,
           59.356149231338776,
           40.643850768661224,
           100,
           "Europe",
           4.12310498046875
          ],
          [
           "Kazakhstan",
           18994958.000000004,
           10103175.86337318,
           7063982.583373181,
           2772091.8277988536,
           5705784.040912426,
           8891782.136626823,
           46.81127558495692,
           53.188724415043076,
           81,
           "Asia",
           4.12310498046875
          ],
          [
           "Ecuador",
           17888473.999999996,
           11633879.435222037,
           10739455.735222038,
           8431478.839139633,
           5959145.097036933,
           6254594.564777959,
           34.96438301432509,
           65.0356169856749,
           91,
           "Americas",
           4.12310498046875
          ],
          [
           "Gambia",
           2486936.9999999995,
           1430332.0232149228,
           1107030.2132149227,
           764135.0211383236,
           614948.3358619068,
           1056604.9767850768,
           42.48619795294682,
           57.51380204705319,
           77,
           "Africa",
           4.24264111328125
          ],
          [
           "Liberia",
           5180207.999999999,
           4211097.780716284,
           66931.38071628497,
           5369.696055984498,
           63465.65428896955,
           969110.2192837149,
           18.70794028509502,
           81.29205971490498,
           4,
           "Africa",
           4.24264111328125
          ],
          [
           "Paraguay",
           7219640.999999998,
           3775926.337519166,
           3775926.337519166,
           2139845.0167551464,
           2664627.558247589,
           3443714.662480832,
           47.699250731176704,
           52.300749268823296,
           100,
           "Americas",
           4.24264111328125
          ],
          [
           "Ghana",
           31732128.000000004,
           23815543.02822906,
           5410908.78822906,
           3018061.2128960383,
           3617852.396935323,
           7916584.971770942,
           24.948169160829494,
           75.0518308391705,
           35,
           "Africa",
           4.24264111328125
          ],
          [
           "Luxembourg",
           634813.9999999999,
           485177.7489852661,
           485177.7489852661,
           399278.17468857655,
           238875.3456526406,
           149636.2510147338,
           23.571668396527777,
           76.42833160347222,
           100,
           "Europe",
           4.47213623046875
          ],
          [
           "Cuba",
           11317498,
           5973693.769225963,
           3823369.1492259633,
           1552466.9774105742,
           2950117.574782907,
           5343804.230774037,
           47.21718732156203,
           52.78281267843796,
           80,
           "Americas",
           4.47213623046875
          ],
          [
           "Isle of Man",
           85410,
           42489.94818237408,
           42489.94818237408,
           31349.669186417283,
           27083.33629487067,
           42920.05181762592,
           50.25178763332856,
           49.74821236667144,
           98,
           "Europe",
           4.47213623046875
          ],
          [
           "South Korea",
           51305184,
           28785203.820484128,
           28785203.820484128,
           18844510.24998823,
           17321299.12963216,
           22519980.179515872,
           43.89416122065924,
           56.10583877934076,
           100,
           "Asia",
           4.47213623046875
          ],
          [
           "Peru",
           33359415,
           13072717.194321321,
           11738340.59432132,
           4510993.4695188375,
           9218555.006125616,
           20286697.80567868,
           60.812510668063815,
           39.18748933193619,
           90,
           "Americas",
           4.47213623046875
          ],
          [
           "Gabon",
           2278829,
           816673.8416233058,
           566002.6516233057,
           44926.74458869131,
           539416.0528308639,
           1462155.1583766942,
           64.16256587820737,
           35.83743412179263,
           82,
           "Africa",
           4.47213623046875
          ],
          [
           "Montserrat",
           4980.999999999999,
           1346.526409595855,
           1346.526409595855,
           1028.837122970515,
           412.70855232149114,
           3634.473590404144,
           72.96674544075778,
           27.033254559242227,
           98,
           "Americas",
           5
          ],
          [
           "Cyprus",
           1215588,
           633683.3220933893,
           633683.3220933893,
           470354.74756880396,
           351622.3348214969,
           581904.6779066107,
           47.87022230448233,
           52.129777695517674,
           100,
           "Europe",
           5
          ],
          [
           "Benin",
           12451031,
           7109163.55730123,
           2377771.77730123,
           1514301.4534479622,
           1427223.6757905255,
           5341867.44269877,
           42.903012952893384,
           57.096987047106616,
           37,
           "Africa",
           5
          ],
          [
           "Brazil",
           213993441,
           108629650.10628036,
           106489715.69628036,
           78685351.46525216,
           65607277.562596016,
           105363790.89371964,
           49.236925394231896,
           50.76307460576811,
           98,
           "Americas",
           5
          ],
          [
           "Sao Tome and Principe",
           223364,
           71040.76489574362,
           68807.12489574362,
           26559.911905650188,
           48897.237257052584,
           152323.23510425637,
           68.19506952967191,
           31.80493047032808,
           97,
           "Africa",
           5.09902001953125
          ],
          [
           "Venezuela",
           28704946.999999996,
           12761635.413764331,
           8455893.363764333,
           4491653.279771177,
           5659965.853788056,
           15943311.586235665,
           55.54203457068103,
           44.45796542931897,
           79,
           "Americas",
           5.3851650390625
          ],
          [
           "Bolivia",
           11832936,
           6340106.278231822,
           3381872.278231822,
           2006658.658526892,
           2169106.655686009,
           5492829.721768178,
           46.41983799936193,
           53.58016200063807,
           69,
           "Americas",
           5.3851650390625
          ],
          [
           "Faeroe Islands",
           49053.00000000001,
           23504.115755385195,
           23504.115755385195,
           17923.063900787663,
           13568.197377465634,
           25548.884244614812,
           52.08424407195239,
           47.9157559280476,
           100,
           "Europe",
           5.3851650390625
          ],
          [
           "Bahamas",
           396913.9999999999,
           129929.4951076992,
           121991.2151076992,
           44606.589205705764,
           100529.97778806578,
           266984.5048923007,
           67.26507628662651,
           32.73492371337349,
           97,
           "Americas",
           5.3851650390625
          ],
          [
           "Iran",
           85028760,
           29961141.917215444,
           29961141.917215444,
           12510075.448326418,
           22476488.119785678,
           55067618.082784556,
           64.76352011105955,
           35.23647988894045,
           99,
           "Asia",
           5.3851650390625
          ],
          [
           "Trinidad and Tobago",
           1403374,
           649743.2453676488,
           551507.0653676487,
           386787.8036764208,
           329900.3839199438,
           753630.7546323512,
           53.701347939490915,
           46.298652060509085,
           93,
           "Americas",
           5.3851650390625
          ],
          [
           "Iceland",
           343360.00000000006,
           182579.93187767142,
           182579.93187767142,
           132018.12226146035,
           122921.74136842243,
           160780.06812232864,
           46.825509122299806,
           53.1744908777002,
           100,
           "Europe",
           5.3851650390625
          ],
          [
           "Mexico",
           130262220,
           55245295.637335435,
           52640051.23733543,
           29092923.578299765,
           35082132.98426053,
           75016924.36266457,
           57.589164657768436,
           42.410835342231564,
           98,
           "Americas",
           5.65685400390625
          ],
          [
           "Afghanistan",
           39835428,
           24966683.56374681,
           3455552.443746813,
           2043424.0425818772,
           2071176.886425544,
           14868744.43625319,
           37.32542910359389,
           62.67457089640611,
           22,
           "Asia",
           5.8309521484375
          ],
          [
           "Argentina",
           45605823,
           24265407.856572073,
           22897233.166572075,
           19868842.269199926,
           11008327.507714102,
           21340415.143427927,
           46.793180650260226,
           53.206819349739774,
           96,
           "Americas",
           6
          ],
          [
           "Lebanon",
           6769151,
           2039107.211066729,
           1294500.601066729,
           348897.45790594845,
           1051838.8689218916,
           4730043.788933272,
           69.87647031264736,
           30.12352968735265,
           89,
           "Asia",
           6.7082041015625
          ],
          [
           "Samoa",
           200144,
           76625.62785203179,
           48605.46785203178,
           45298.56728315862,
           5910.104674502251,
           123518.37214796821,
           61.71475145293799,
           38.285248547062004,
           84,
           "Oceania",
           6.7082041015625
          ],
          [
           "Ethiopia",
           117876225.99999999,
           52005633.43486821,
           10748954.334868215,
           715370.3955258441,
           10269789.088374995,
           65870592.565131776,
           55.88115161163353,
           44.118848388366466,
           41,
           "Africa",
           7.07106787109375
          ],
          [
           "Morocco",
           37344787,
           14798815.486834347,
           9197097.436834348,
           4443759.650521818,
           6371766.469587843,
           22545971.513165653,
           60.37247317320528,
           39.62752682679472,
           80,
           "Africa",
           7.07106787109375
          ],
          [
           "Algeria",
           44616625.99999999,
           21551237.648209546,
           9058582.368209545,
           4157872.608659514,
           6395956.461003409,
           23065388.351790447,
           51.6968458166031,
           48.3031541833969,
           72,
           "Africa",
           7.28010986328125
          ],
          [
           "Martinique",
           374743.00000000006,
           84460.1707279531,
           45022.93120414357,
           36954.9554822995,
           10481.06662864601,
           290282.829272047,
           77.4618416546932,
           22.538158345306805,
           86.14285714285714,
           "Americas",
           7.81025
          ],
          [
           "Greece",
           10370747,
           3239995.0328623946,
           3239995.0328623946,
           1591508.8344150349,
           2359024.325196565,
           7130751.967137605,
           68.75832538521675,
           31.241674614783243,
           100,
           "Europe",
           8
          ],
          [
           "Uruguay",
           3485152,
           1500785.005667105,
           1500785.005667105,
           1276060.9115366102,
           775713.1312754403,
           1984366.994332895,
           56.9377460246467,
           43.0622539753533,
           100,
           "Americas",
           8.0622578125
          ],
          [
           "Syria",
           18275703.999999996,
           8751250.81224321,
           3451296.652243211,
           1501672.6108752885,
           2492997.8535214597,
           9524453.187756786,
           52.11538328568239,
           47.88461671431761,
           71,
           "Asia",
           8.0622578125
          ],
          [
           "Mali",
           20855724.000000004,
           11232421.982843317,
           3515804.102843316,
           2323097.8561550514,
           2216926.109085993,
           9623302.017156687,
           46.1422581980692,
           53.8577418019308,
           50,
           "Africa",
           8.54400390625
          ],
          [
           "Grenada",
           113014.99999999997,
           42539.103373185746,
           38018.50337318575,
           11774.274865048228,
           34093.74508483634,
           70475.89662681422,
           62.359772266348934,
           37.64022773365107,
           92,
           "Americas",
           9.219544921875
          ],
          [
           "Jordan",
           10269022.000000002,
           2630267.657823477,
           1603365.457823477,
           418634.9052662845,
           1300472.6153207382,
           7638754.342176525,
           74.38638598862212,
           25.613614011377873,
           89,
           "Asia",
           9.4339814453125
          ],
          [
           "South Sudan",
           11381377,
           8545668.583298473,
           123449.60329847342,
           58333.57044741848,
           86937.29352610807,
           2835708.4167015273,
           24.91533684106525,
           75.08466315893475,
           4,
           "Africa",
           9.4868330078125
          ],
          [
           "Burkina Faso",
           21497097,
           13403160.768676132,
           2654612.268676131,
           2528500.7865977082,
           798173.937205207,
           8093936.231323868,
           37.65129883036704,
           62.34870116963296,
           28,
           "Africa",
           10.2956298828125
          ],
          [
           "Singapore",
           5896684.000000001,
           2146504.918821313,
           2146504.918821313,
           1684012.8549135192,
           860386.3227067633,
           3750179.081178688,
           63.59810159707876,
           36.40189840292125,
           100,
           "Asia",
           10.4403095703125
          ],
          [
           "Saint Lucia",
           184401,
           38749.87676936727,
           35061.856769367274,
           17767.958251901826,
           22466.416469231517,
           145651.12323063274,
           78.98608100315765,
           21.013918996842353,
           97,
           "Americas",
           13.03841015625
          ],
          [
           "Tunisia",
           11935764,
           3164611.28403692,
           2329107.80403692,
           1236742.3316456305,
           1564321.169112544,
           8771152.71596308,
           73.48631152528719,
           26.513688474712804,
           93,
           "Africa",
           14.035669921875
          ],
          [
           "Falkland Islands",
           3527.9999999999995,
           784.4786317647036,
           608.0786317647036,
           480.5077552173897,
           241.49335372020738,
           2743.521368235296,
           77.76421111778052,
           22.23578888221949,
           91,
           "Americas",
           14.3178203125
          ],
          [
           "Israel",
           8789776,
           1871034.552228547,
           1871034.552228547,
           1122578.5234563232,
           1155916.646752469,
           6918741.447771453,
           78.7135126966996,
           21.286487303300415,
           100,
           "Asia",
           16.12451953125
          ],
          [
           "Greenland",
           56867.99999999999,
           22413.47060007069,
           22413.47060007069,
           16342.203348826659,
           16012.83727085331,
           34454.529399929306,
           60.586849194501845,
           39.41315080549816,
           100,
           "Americas",
           16.76305078125
          ],
          [
           "Senegal",
           17196308,
           4013921.316709611,
           1950364.3567096111,
           680534.1817286428,
           1522578.1474591948,
           13182386.683290388,
           76.65823782227201,
           23.341762177727983,
           75,
           "Africa",
           17.46425
          ],
          [
           "Turkmenistan",
           6117932.999999999,
           3664194.965018641,
           727587.1250186415,
           155753.40087534103,
           658036.5064940166,
           2453738.034981358,
           40.107304787112874,
           59.892695212887126,
           52,
           "Asia",
           17.691810546875
          ],
          [
           "Palestine",
           5222756,
           2703885.023800058,
           353644.82380005775,
           101072.17607380403,
           307952.83201737906,
           2518870.976199942,
           48.22876994827907,
           51.77123005172093,
           54,
           "Asia",
           19.104970703125
          ],
          [
           "Chad",
           16914985,
           7588880.760401995,
           653736.9104019946,
           255655.42955422975,
           507110.1666850508,
           9326104.239598006,
           55.135161157979184,
           44.864838842020816,
           20,
           "Africa",
           20
          ],
          [
           "Guam",
           170184,
           23432.707711932006,
           23432.707711932006,
           15346.454732271563,
           13180.287745751953,
           146751.29228806798,
           86.23095725101535,
           13.769042748984631,
           100,
           "Oceania",
           20.615529296875
          ],
          [
           "Eritrea",
           3601462,
           839505.7960278908,
           191242.6360278907,
           53506.739362129636,
           153894.85660978887,
           2761956.203972109,
           76.6898610612054,
           23.3101389387946,
           52,
           "Africa",
           21.09501953125
          ],
          [
           "Yemen",
           30490638.999999996,
           11356726.193397205,
           989908.933397206,
           244855.23290263835,
           821629.5770782616,
           19133912.80660279,
           62.753400499749425,
           37.246599500250575,
           56,
           "Asia",
           21.9317109375
          ],
          [
           "Guadeloupe",
           400012.99999999994,
           119496.22732339123,
           77399.62113291505,
           31113.712513617622,
           60129.790784173674,
           280516.7726766087,
           70.12691404444574,
           29.873085955554256,
           86.14285714285715,
           "Americas",
           22.4722109375
          ],
          [
           "Hong Kong",
           7552800,
           954960.5530860792,
           954960.5530860792,
           954960.5530860792,
           0,
           6597839.44691392,
           87.35620494272217,
           12.64379505727782,
           100,
           "Asia",
           25
          ],
          [
           "Namibia",
           2587343.9999999995,
           315675.675812208,
           56941.275812207976,
           36351.40343106286,
           24280.509883425835,
           2271668.3241877914,
           87.7992382994991,
           12.2007617005009,
           81,
           "Africa",
           30.6104609375
          ],
          [
           "Mauritania",
           4775110.000000001,
           1693977.6915700221,
           165942.491570022,
           15640.521738646683,
           158079.48026017594,
           3081132.308429979,
           64.52484463038502,
           35.47515536961498,
           53,
           "Africa",
           31.016130859375
          ],
          [
           "Botswana",
           2397240,
           299548.5850179476,
           155714.18501794757,
           70408.4062327409,
           107194.99721689706,
           2097691.4149820525,
           87.5044390625074,
           12.4955609374926,
           91,
           "Africa",
           33.94112890625
          ],
          [
           "Niger",
           25130809.999999996,
           8104467.17344173,
           816532.2734417313,
           217026.9073044882,
           667600.6304423643,
           17026342.826558266,
           67.7508716454355,
           32.249128354564505,
           40,
           "Africa",
           33.9705703125
          ],
          [
           "Timor",
           1343874.9999999998,
           315663.6959738978,
           20011.195973897873,
           9059.602817712692,
           12305.16084964627,
           1028211.304026102,
           76.51093323606007,
           23.489066763939938,
           66,
           "Asia",
           35
          ],
          [
           "Djibouti",
           1002197,
           99283.71120963852,
           19107.951209638522,
           5887.987090761373,
           14524.24095679757,
           902913.2887903615,
           90.09339369309242,
           9.906606306907577,
           83,
           "Africa",
           38.83298046875
          ],
          [
           "Sudan",
           44909351,
           20983248.5570471,
           2570414.647047099,
           362192.49584445567,
           2390109.482847325,
           23926102.4429529,
           53.276437780080364,
           46.72356221991963,
           46,
           "Africa",
           47.85394921875
          ],
          [
           "Oman",
           5223376,
           374043.97482493543,
           165108.93482493545,
           157041.8908072969,
           12976.82621674339,
           4849332.025175065,
           92.83903791676235,
           7.16096208323765,
           96,
           "Asia",
           53.0094296875
          ],
          [
           "Antigua and Barbuda",
           98727.99999999997,
           1974.5599999999995,
           0,
           0,
           0,
           96753.43999999997,
           98,
           2,
           94,
           "Americas",
           64.3506015625
          ],
          [
           "Dominica",
           72172,
           721.72,
           0,
           0,
           0,
           71450.28,
           99,
           1,
           94,
           "Americas",
           69.2603828125
          ],
          [
           "Somalia",
           16359500,
           6312867.455875648,
           259852.45587564836,
           15823.999834004193,
           248628.075437233,
           10046632.544124352,
           61.411611260272934,
           38.58838873972706,
           47,
           "Africa",
           86.2786171875
          ],
          [
           "Aruba",
           107195,
           4287.8,
           0,
           0,
           0,
           102907.2,
           96,
           4,
           94,
           "Americas",
           87.80090625
          ],
          [
           "Kuwait",
           4328553,
           346284.24,
           0,
           0,
           0,
           3982268.76,
           92,
           8,
           91.5,
           "Asia",
           104.995203125
          ],
          [
           "Western Sahara",
           611871.9999999999,
           154326.57753563198,
           1358.5775356319846,
           1291.2023358477284,
           82.06413238738155,
           457545.42246436793,
           74.77796376764553,
           25.222036232354483,
           68.33333333333333,
           "Africa",
           136.85390625
          ],
          [
           "Barbados",
           287708.00000000006,
           0,
           0,
           0,
           0,
           287708.00000000006,
           100,
           0,
           99,
           "Americas",
           144.138796875
          ],
          [
           "United Arab Emirates",
           9991083,
           1746.2752416803814,
           1746.2752416803814,
           1746.2752416803814,
           0,
           9989336.72475832,
           99.98252166214934,
           0.017478337850665254,
           100,
           "Asia",
           171.819703125
          ],
          [
           "Qatar",
           2930524.0000000005,
           0,
           0,
           0,
           0,
           2930524.0000000005,
           100,
           0,
           100,
           "Asia",
           196.6215
          ],
          [
           "Northern Mariana Islands",
           57909.999999999985,
           5790.999999999998,
           0,
           0,
           0,
           52118.999999999985,
           90,
           10,
           90,
           "Oceania",
           204.36490625
          ],
          [
           "Saudi Arabia",
           35340680,
           5942512.930145459,
           288004.1301454599,
           151111.56549495875,
           190147.74027542616,
           29398167.069854543,
           83.18506341659115,
           16.814936583408862,
           84,
           "Asia",
           216.01159375
          ],
          [
           "Libya",
           6958537.999999998,
           1532366.4170658004,
           1488.0570658005838,
           538.6744038575353,
           1145.3478635744198,
           5426171.582934198,
           77.97861537774456,
           22.021384622255432,
           78,
           "Africa",
           223.618
          ]
         ],
         "geo": "geo",
         "hovertemplate": "<b>%{hovertext}</b><br><br>ISOCODE=%{location}<br>Entity=%{customdata[0]}<br>country_pop_raw=%{customdata[1]}<br>zone_pop_with_water=%{customdata[2]}<br>population_piped_with_access=%{customdata[3]}<br>population_piped_with_cycling_access=%{customdata[4]}<br>population_piped_with_walking_access=%{customdata[5]}<br>population_without_water=%{customdata[6]}<br>percent_without_water=%{z}<br>percent_with_water=%{customdata[8]}<br>Nat Piped=%{customdata[9]}<br>region=%{customdata[10]}<br>weighted_med=%{customdata[11]}<extra></extra>",
         "hovertext": [
          "Panama",
          "Congo",
          "Mauritius",
          "Japan",
          "Eswatini",
          "Albania",
          "Philippines",
          "Brunei",
          "Azerbaijan",
          "Vietnam",
          "Lesotho",
          "Netherlands",
          "Suriname",
          "Norway",
          "Papua New Guinea",
          "Sweden",
          "Puerto Rico",
          "Armenia",
          "Moldova",
          "El Salvador",
          "Australia",
          "Austria",
          "Lithuania",
          "Bangladesh",
          "Belize",
          "Georgia",
          "Estonia",
          "Malawi",
          "Slovenia",
          "Guyana",
          "Nepal",
          "Myanmar",
          "Switzerland",
          "Thailand",
          "New Zealand",
          "Hungary",
          "Kyrgyzstan",
          "France",
          "Slovakia",
          "Pakistan",
          "Laos",
          "Democratic Republic of Congo",
          "Canada",
          "Central African Republic",
          "Tanzania",
          "Taiwan",
          "Belarus",
          "Zambia",
          "Latvia",
          "French Guiana",
          "United Kingdom",
          "Sierra Leone",
          "Poland",
          "Uganda",
          "Romania",
          "Italy",
          "North Macedonia",
          "Serbia",
          "Burundi",
          "Belgium",
          "Czechia",
          "Ukraine",
          "Bulgaria",
          "Bosnia and Herzegovina",
          "China",
          "Finland",
          "Costa Rica",
          "South Africa",
          "Russia",
          "Mozambique",
          "Cambodia",
          "Ireland",
          "Malaysia",
          "Guinea",
          "Equatorial Guinea",
          "New Caledonia",
          "Honduras",
          "Germany",
          "Rwanda",
          "North Korea",
          "Guatemala",
          "Solomon Islands",
          "Zimbabwe",
          "Dominican Republic",
          "Denmark",
          "Guinea-Bissau",
          "Croatia",
          "Egypt",
          "India",
          "Mongolia",
          "Liechtenstein",
          "Nigeria",
          "Montenegro",
          "Togo",
          "Colombia",
          "Tajikistan",
          "Turkey",
          "Uzbekistan",
          "Iraq",
          "Sri Lanka",
          "Cameroon",
          "Portugal",
          "Bhutan",
          "Nicaragua",
          "Spain",
          "Chile",
          "Vanuatu",
          "Fiji",
          "Madagascar",
          "Indonesia",
          "Jamaica",
          "Cote d'Ivoire",
          "United States",
          "Haiti",
          "Kenya",
          "Reunion",
          "Andorra",
          "Angola",
          "Malta",
          "Kazakhstan",
          "Ecuador",
          "Gambia",
          "Liberia",
          "Paraguay",
          "Ghana",
          "Luxembourg",
          "Cuba",
          "Isle of Man",
          "South Korea",
          "Peru",
          "Gabon",
          "Montserrat",
          "Cyprus",
          "Benin",
          "Brazil",
          "Sao Tome and Principe",
          "Venezuela",
          "Bolivia",
          "Faeroe Islands",
          "Bahamas",
          "Iran",
          "Trinidad and Tobago",
          "Iceland",
          "Mexico",
          "Afghanistan",
          "Argentina",
          "Lebanon",
          "Samoa",
          "Ethiopia",
          "Morocco",
          "Algeria",
          "Martinique",
          "Greece",
          "Uruguay",
          "Syria",
          "Mali",
          "Grenada",
          "Jordan",
          "South Sudan",
          "Burkina Faso",
          "Singapore",
          "Saint Lucia",
          "Tunisia",
          "Falkland Islands",
          "Israel",
          "Greenland",
          "Senegal",
          "Turkmenistan",
          "Palestine",
          "Chad",
          "Guam",
          "Eritrea",
          "Yemen",
          "Guadeloupe",
          "Hong Kong",
          "Namibia",
          "Mauritania",
          "Botswana",
          "Niger",
          "Timor",
          "Djibouti",
          "Sudan",
          "Oman",
          "Antigua and Barbuda",
          "Dominica",
          "Somalia",
          "Aruba",
          "Kuwait",
          "Western Sahara",
          "Barbados",
          "United Arab Emirates",
          "Qatar",
          "Northern Mariana Islands",
          "Saudi Arabia",
          "Libya"
         ],
         "locations": [
          "PAN",
          "COG",
          "MUS",
          "JPN",
          "SWZ",
          "ALB",
          "PHL",
          "BRN",
          "AZE",
          "VNM",
          "LSO",
          "NLD",
          "SUR",
          "NOR",
          "PNG",
          "SWE",
          "PRI",
          "ARM",
          "MDA",
          "SLV",
          "AUS",
          "AUT",
          "LTU",
          "BGD",
          "BLZ",
          "GEO",
          "EST",
          "MWI",
          "SVN",
          "GUY",
          "NPL",
          "MMR",
          "CHE",
          "THA",
          "NZL",
          "HUN",
          "KGZ",
          "FRA",
          "SVK",
          "PAK",
          "LAO",
          "COD",
          "CAN",
          "CAF",
          "TZA",
          "TWN",
          "BLR",
          "ZMB",
          "LVA",
          "GUF",
          "GBR",
          "SLE",
          "POL",
          "UGA",
          "ROU",
          "ITA",
          "MKD",
          "SRB",
          "BDI",
          "BEL",
          "CZE",
          "UKR",
          "BGR",
          "BIH",
          "CHN",
          "FIN",
          "CRI",
          "ZAF",
          "RUS",
          "MOZ",
          "KHM",
          "IRL",
          "MYS",
          "GIN",
          "GNQ",
          "NCL",
          "HND",
          "DEU",
          "RWA",
          "PRK",
          "GTM",
          "SLB",
          "ZWE",
          "DOM",
          "DNK",
          "GNB",
          "HRV",
          "EGY",
          "IND",
          "MNG",
          "LIE",
          "NGA",
          "MNE",
          "TGO",
          "COL",
          "TJK",
          "TUR",
          "UZB",
          "IRQ",
          "LKA",
          "CMR",
          "PRT",
          "BTN",
          "NIC",
          "ESP",
          "CHL",
          "VUT",
          "FJI",
          "MDG",
          "IDN",
          "JAM",
          "CIV",
          "USA",
          "HTI",
          "KEN",
          "REU",
          "AND",
          "AGO",
          "MLT",
          "KAZ",
          "ECU",
          "GMB",
          "LBR",
          "PRY",
          "GHA",
          "LUX",
          "CUB",
          "IMN",
          "KOR",
          "PER",
          "GAB",
          "MSR",
          "CYP",
          "BEN",
          "BRA",
          "STP",
          "VEN",
          "BOL",
          "FRO",
          "BHS",
          "IRN",
          "TTO",
          "ISL",
          "MEX",
          "AFG",
          "ARG",
          "LBN",
          "WSM",
          "ETH",
          "MAR",
          "DZA",
          "MTQ",
          "GRC",
          "URY",
          "SYR",
          "MLI",
          "GRD",
          "JOR",
          "SSD",
          "BFA",
          "SGP",
          "LCA",
          "TUN",
          "FLK",
          "ISR",
          "GRL",
          "SEN",
          "TKM",
          "PSE",
          "TCD",
          "GUM",
          "ERI",
          "YEM",
          "GLP",
          "HKG",
          "NAM",
          "MRT",
          "BWA",
          "NER",
          "TLS",
          "DJI",
          "SDN",
          "OMN",
          "ATG",
          "DMA",
          "SOM",
          "ABW",
          "KWT",
          "ESH",
          "BRB",
          "ARE",
          "QAT",
          "MNP",
          "SAU",
          "LBY"
         ],
         "name": "",
         "type": "choropleth",
         "z": [
          28.463479068832843,
          36.54432776026784,
          23.630898783334374,
          20.362927834558313,
          33.8316511002339,
          26.80657157611661,
          27.53581190103629,
          27.514984123003146,
          39.24742820266742,
          11.741581602714342,
          44.68927445198479,
          12.974215210236173,
          24.180705295807293,
          21.881218380992426,
          56.63278010051111,
          13.526533369470211,
          36.82980217406255,
          44.5965449663602,
          32.06822026837629,
          33.44169733427723,
          25.774497085045965,
          7.431937355626654,
          30.435798793837936,
          7.520324576341054,
          18.222726582716327,
          40.51915222332863,
          35.70282195216337,
          14.034738125155657,
          15.662960184280998,
          22.201209053079435,
          19.41291377782795,
          23.37512282579045,
          12.65970871282525,
          20.270174102353096,
          30.675670671781184,
          35.37287528481372,
          39.40868329950617,
          22.258912778721033,
          23.686797271176044,
          14.48437978630594,
          20.00125087311546,
          55.12230842812088,
          22.594944404774093,
          42.84263767819079,
          40.48260472012289,
          27.807971497119365,
          30.597093222708533,
          39.569830455022625,
          43.978844817593206,
          32.75051659929709,
          26.91109799668423,
          36.99038894330302,
          18.089951330959554,
          24.68501811673307,
          24.9226247825605,
          24.965865352052354,
          23.547859753956228,
          36.863857180491664,
          35.82927630299818,
          18.930143536720664,
          34.41073428796205,
          23.63408581058783,
          43.434680058104085,
          34.33501325492489,
          23.895544953974365,
          15.683776850493524,
          27.934540922871243,
          47.85912344473441,
          42.93505941039816,
          40.873183814906966,
          22.388730752732155,
          34.53678357620289,
          39.699705285292204,
          25.425601638869782,
          53.58323828595869,
          50.43580721185632,
          40.74370546622144,
          16.644603391887024,
          39.95639504663005,
          39.14114800986497,
          40.336798571202095,
          51.26222960258683,
          36.811481417853045,
          48.219272270950334,
          23.802452104670284,
          42.04145301039756,
          37.3130289192152,
          55.81732387542602,
          21.50356568632979,
          25.172305828434876,
          16.688,
          22.871492676500086,
          49.28492831418999,
          36.53372014602021,
          43.61718504947966,
          48.25514064676909,
          46.24752978069321,
          34.140795938984475,
          41.60351611887849,
          22.106914485770563,
          39.74494313138148,
          45.405239849631506,
          64.71717808169912,
          52.16956885979378,
          31.283990429876578,
          37.198704338672286,
          35.537065180678205,
          58.12970742838046,
          62.52244790076088,
          22.823664541745558,
          50.36652338115585,
          37.98597144082043,
          37.41752580444207,
          34.85956713341544,
          45.48040178301741,
          54.055702030440656,
          21.939580046688533,
          58.51586296101442,
          59.356149231338776,
          46.81127558495692,
          34.96438301432509,
          42.48619795294682,
          18.70794028509502,
          47.699250731176704,
          24.948169160829494,
          23.571668396527777,
          47.21718732156203,
          50.25178763332856,
          43.89416122065924,
          60.812510668063815,
          64.16256587820737,
          72.96674544075778,
          47.87022230448233,
          42.903012952893384,
          49.236925394231896,
          68.19506952967191,
          55.54203457068103,
          46.41983799936193,
          52.08424407195239,
          67.26507628662651,
          64.76352011105955,
          53.701347939490915,
          46.825509122299806,
          57.589164657768436,
          37.32542910359389,
          46.793180650260226,
          69.87647031264736,
          61.71475145293799,
          55.88115161163353,
          60.37247317320528,
          51.6968458166031,
          77.4618416546932,
          68.75832538521675,
          56.9377460246467,
          52.11538328568239,
          46.1422581980692,
          62.359772266348934,
          74.38638598862212,
          24.91533684106525,
          37.65129883036704,
          63.59810159707876,
          78.98608100315765,
          73.48631152528719,
          77.76421111778052,
          78.7135126966996,
          60.586849194501845,
          76.65823782227201,
          40.107304787112874,
          48.22876994827907,
          55.135161157979184,
          86.23095725101535,
          76.6898610612054,
          62.753400499749425,
          70.12691404444574,
          87.35620494272217,
          87.7992382994991,
          64.52484463038502,
          87.5044390625074,
          67.7508716454355,
          76.51093323606007,
          90.09339369309242,
          53.276437780080364,
          92.83903791676235,
          98,
          99,
          61.411611260272934,
          96,
          92,
          74.77796376764553,
          100,
          99.98252166214934,
          100,
          90,
          83.18506341659115,
          77.97861537774456
         ]
        }
       ],
       "layout": {
        "coloraxis": {
         "colorbar": {
          "title": {
           "text": ""
          }
         },
         "colorscale": [
          [
           0,
           "#0d0887"
          ],
          [
           0.1111111111111111,
           "#46039f"
          ],
          [
           0.2222222222222222,
           "#7201a8"
          ],
          [
           0.3333333333333333,
           "#9c179e"
          ],
          [
           0.4444444444444444,
           "#bd3786"
          ],
          [
           0.5555555555555556,
           "#d8576b"
          ],
          [
           0.6666666666666666,
           "#ed7953"
          ],
          [
           0.7777777777777778,
           "#fb9f3a"
          ],
          [
           0.8888888888888888,
           "#fdca26"
          ],
          [
           1,
           "#f0f921"
          ]
         ]
        },
        "geo": {
         "center": {},
         "domain": {
          "x": [
           0,
           1
          ],
          "y": [
           0,
           1
          ]
         }
        },
        "height": 600,
        "legend": {
         "tracegroupgap": 0
        },
        "template": {
         "data": {
          "bar": [
           {
            "error_x": {
             "color": "#2a3f5f"
            },
            "error_y": {
             "color": "#2a3f5f"
            },
            "marker": {
             "line": {
              "color": "#E5ECF6",
              "width": 0.5
             },
             "pattern": {
              "fillmode": "overlay",
              "size": 10,
              "solidity": 0.2
             }
            },
            "type": "bar"
           }
          ],
          "barpolar": [
           {
            "marker": {
             "line": {
              "color": "#E5ECF6",
              "width": 0.5
             },
             "pattern": {
              "fillmode": "overlay",
              "size": 10,
              "solidity": 0.2
             }
            },
            "type": "barpolar"
           }
          ],
          "carpet": [
           {
            "aaxis": {
             "endlinecolor": "#2a3f5f",
             "gridcolor": "white",
             "linecolor": "white",
             "minorgridcolor": "white",
             "startlinecolor": "#2a3f5f"
            },
            "baxis": {
             "endlinecolor": "#2a3f5f",
             "gridcolor": "white",
             "linecolor": "white",
             "minorgridcolor": "white",
             "startlinecolor": "#2a3f5f"
            },
            "type": "carpet"
           }
          ],
          "choropleth": [
           {
            "colorbar": {
             "outlinewidth": 0,
             "ticks": ""
            },
            "type": "choropleth"
           }
          ],
          "contour": [
           {
            "colorbar": {
             "outlinewidth": 0,
             "ticks": ""
            },
            "colorscale": [
             [
              0,
              "#0d0887"
             ],
             [
              0.1111111111111111,
              "#46039f"
             ],
             [
              0.2222222222222222,
              "#7201a8"
             ],
             [
              0.3333333333333333,
              "#9c179e"
             ],
             [
              0.4444444444444444,
              "#bd3786"
             ],
             [
              0.5555555555555556,
              "#d8576b"
             ],
             [
              0.6666666666666666,
              "#ed7953"
             ],
             [
              0.7777777777777778,
              "#fb9f3a"
             ],
             [
              0.8888888888888888,
              "#fdca26"
             ],
             [
              1,
              "#f0f921"
             ]
            ],
            "type": "contour"
           }
          ],
          "contourcarpet": [
           {
            "colorbar": {
             "outlinewidth": 0,
             "ticks": ""
            },
            "type": "contourcarpet"
           }
          ],
          "heatmap": [
           {
            "colorbar": {
             "outlinewidth": 0,
             "ticks": ""
            },
            "colorscale": [
             [
              0,
              "#0d0887"
             ],
             [
              0.1111111111111111,
              "#46039f"
             ],
             [
              0.2222222222222222,
              "#7201a8"
             ],
             [
              0.3333333333333333,
              "#9c179e"
             ],
             [
              0.4444444444444444,
              "#bd3786"
             ],
             [
              0.5555555555555556,
              "#d8576b"
             ],
             [
              0.6666666666666666,
              "#ed7953"
             ],
             [
              0.7777777777777778,
              "#fb9f3a"
             ],
             [
              0.8888888888888888,
              "#fdca26"
             ],
             [
              1,
              "#f0f921"
             ]
            ],
            "type": "heatmap"
           }
          ],
          "heatmapgl": [
           {
            "colorbar": {
             "outlinewidth": 0,
             "ticks": ""
            },
            "colorscale": [
             [
              0,
              "#0d0887"
             ],
             [
              0.1111111111111111,
              "#46039f"
             ],
             [
              0.2222222222222222,
              "#7201a8"
             ],
             [
              0.3333333333333333,
              "#9c179e"
             ],
             [
              0.4444444444444444,
              "#bd3786"
             ],
             [
              0.5555555555555556,
              "#d8576b"
             ],
             [
              0.6666666666666666,
              "#ed7953"
             ],
             [
              0.7777777777777778,
              "#fb9f3a"
             ],
             [
              0.8888888888888888,
              "#fdca26"
             ],
             [
              1,
              "#f0f921"
             ]
            ],
            "type": "heatmapgl"
           }
          ],
          "histogram": [
           {
            "marker": {
             "pattern": {
              "fillmode": "overlay",
              "size": 10,
              "solidity": 0.2
             }
            },
            "type": "histogram"
           }
          ],
          "histogram2d": [
           {
            "colorbar": {
             "outlinewidth": 0,
             "ticks": ""
            },
            "colorscale": [
             [
              0,
              "#0d0887"
             ],
             [
              0.1111111111111111,
              "#46039f"
             ],
             [
              0.2222222222222222,
              "#7201a8"
             ],
             [
              0.3333333333333333,
              "#9c179e"
             ],
             [
              0.4444444444444444,
              "#bd3786"
             ],
             [
              0.5555555555555556,
              "#d8576b"
             ],
             [
              0.6666666666666666,
              "#ed7953"
             ],
             [
              0.7777777777777778,
              "#fb9f3a"
             ],
             [
              0.8888888888888888,
              "#fdca26"
             ],
             [
              1,
              "#f0f921"
             ]
            ],
            "type": "histogram2d"
           }
          ],
          "histogram2dcontour": [
           {
            "colorbar": {
             "outlinewidth": 0,
             "ticks": ""
            },
            "colorscale": [
             [
              0,
              "#0d0887"
             ],
             [
              0.1111111111111111,
              "#46039f"
             ],
             [
              0.2222222222222222,
              "#7201a8"
             ],
             [
              0.3333333333333333,
              "#9c179e"
             ],
             [
              0.4444444444444444,
              "#bd3786"
             ],
             [
              0.5555555555555556,
              "#d8576b"
             ],
             [
              0.6666666666666666,
              "#ed7953"
             ],
             [
              0.7777777777777778,
              "#fb9f3a"
             ],
             [
              0.8888888888888888,
              "#fdca26"
             ],
             [
              1,
              "#f0f921"
             ]
            ],
            "type": "histogram2dcontour"
           }
          ],
          "mesh3d": [
           {
            "colorbar": {
             "outlinewidth": 0,
             "ticks": ""
            },
            "type": "mesh3d"
           }
          ],
          "parcoords": [
           {
            "line": {
             "colorbar": {
              "outlinewidth": 0,
              "ticks": ""
             }
            },
            "type": "parcoords"
           }
          ],
          "pie": [
           {
            "automargin": true,
            "type": "pie"
           }
          ],
          "scatter": [
           {
            "fillpattern": {
             "fillmode": "overlay",
             "size": 10,
             "solidity": 0.2
            },
            "type": "scatter"
           }
          ],
          "scatter3d": [
           {
            "line": {
             "colorbar": {
              "outlinewidth": 0,
              "ticks": ""
             }
            },
            "marker": {
             "colorbar": {
              "outlinewidth": 0,
              "ticks": ""
             }
            },
            "type": "scatter3d"
           }
          ],
          "scattercarpet": [
           {
            "marker": {
             "colorbar": {
              "outlinewidth": 0,
              "ticks": ""
             }
            },
            "type": "scattercarpet"
           }
          ],
          "scattergeo": [
           {
            "marker": {
             "colorbar": {
              "outlinewidth": 0,
              "ticks": ""
             }
            },
            "type": "scattergeo"
           }
          ],
          "scattergl": [
           {
            "marker": {
             "colorbar": {
              "outlinewidth": 0,
              "ticks": ""
             }
            },
            "type": "scattergl"
           }
          ],
          "scattermapbox": [
           {
            "marker": {
             "colorbar": {
              "outlinewidth": 0,
              "ticks": ""
             }
            },
            "type": "scattermapbox"
           }
          ],
          "scatterpolar": [
           {
            "marker": {
             "colorbar": {
              "outlinewidth": 0,
              "ticks": ""
             }
            },
            "type": "scatterpolar"
           }
          ],
          "scatterpolargl": [
           {
            "marker": {
             "colorbar": {
              "outlinewidth": 0,
              "ticks": ""
             }
            },
            "type": "scatterpolargl"
           }
          ],
          "scatterternary": [
           {
            "marker": {
             "colorbar": {
              "outlinewidth": 0,
              "ticks": ""
             }
            },
            "type": "scatterternary"
           }
          ],
          "surface": [
           {
            "colorbar": {
             "outlinewidth": 0,
             "ticks": ""
            },
            "colorscale": [
             [
              0,
              "#0d0887"
             ],
             [
              0.1111111111111111,
              "#46039f"
             ],
             [
              0.2222222222222222,
              "#7201a8"
             ],
             [
              0.3333333333333333,
              "#9c179e"
             ],
             [
              0.4444444444444444,
              "#bd3786"
             ],
             [
              0.5555555555555556,
              "#d8576b"
             ],
             [
              0.6666666666666666,
              "#ed7953"
             ],
             [
              0.7777777777777778,
              "#fb9f3a"
             ],
             [
              0.8888888888888888,
              "#fdca26"
             ],
             [
              1,
              "#f0f921"
             ]
            ],
            "type": "surface"
           }
          ],
          "table": [
           {
            "cells": {
             "fill": {
              "color": "#EBF0F8"
             },
             "line": {
              "color": "white"
             }
            },
            "header": {
             "fill": {
              "color": "#C8D4E3"
             },
             "line": {
              "color": "white"
             }
            },
            "type": "table"
           }
          ]
         },
         "layout": {
          "annotationdefaults": {
           "arrowcolor": "#2a3f5f",
           "arrowhead": 0,
           "arrowwidth": 1
          },
          "autotypenumbers": "strict",
          "coloraxis": {
           "colorbar": {
            "outlinewidth": 0,
            "ticks": ""
           }
          },
          "colorscale": {
           "diverging": [
            [
             0,
             "#8e0152"
            ],
            [
             0.1,
             "#c51b7d"
            ],
            [
             0.2,
             "#de77ae"
            ],
            [
             0.3,
             "#f1b6da"
            ],
            [
             0.4,
             "#fde0ef"
            ],
            [
             0.5,
             "#f7f7f7"
            ],
            [
             0.6,
             "#e6f5d0"
            ],
            [
             0.7,
             "#b8e186"
            ],
            [
             0.8,
             "#7fbc41"
            ],
            [
             0.9,
             "#4d9221"
            ],
            [
             1,
             "#276419"
            ]
           ],
           "sequential": [
            [
             0,
             "#0d0887"
            ],
            [
             0.1111111111111111,
             "#46039f"
            ],
            [
             0.2222222222222222,
             "#7201a8"
            ],
            [
             0.3333333333333333,
             "#9c179e"
            ],
            [
             0.4444444444444444,
             "#bd3786"
            ],
            [
             0.5555555555555556,
             "#d8576b"
            ],
            [
             0.6666666666666666,
             "#ed7953"
            ],
            [
             0.7777777777777778,
             "#fb9f3a"
            ],
            [
             0.8888888888888888,
             "#fdca26"
            ],
            [
             1,
             "#f0f921"
            ]
           ],
           "sequentialminus": [
            [
             0,
             "#0d0887"
            ],
            [
             0.1111111111111111,
             "#46039f"
            ],
            [
             0.2222222222222222,
             "#7201a8"
            ],
            [
             0.3333333333333333,
             "#9c179e"
            ],
            [
             0.4444444444444444,
             "#bd3786"
            ],
            [
             0.5555555555555556,
             "#d8576b"
            ],
            [
             0.6666666666666666,
             "#ed7953"
            ],
            [
             0.7777777777777778,
             "#fb9f3a"
            ],
            [
             0.8888888888888888,
             "#fdca26"
            ],
            [
             1,
             "#f0f921"
            ]
           ]
          },
          "colorway": [
           "#636efa",
           "#EF553B",
           "#00cc96",
           "#ab63fa",
           "#FFA15A",
           "#19d3f3",
           "#FF6692",
           "#B6E880",
           "#FF97FF",
           "#FECB52"
          ],
          "font": {
           "color": "#2a3f5f"
          },
          "geo": {
           "bgcolor": "white",
           "lakecolor": "white",
           "landcolor": "#E5ECF6",
           "showlakes": true,
           "showland": true,
           "subunitcolor": "white"
          },
          "hoverlabel": {
           "align": "left"
          },
          "hovermode": "closest",
          "mapbox": {
           "style": "light"
          },
          "paper_bgcolor": "white",
          "plot_bgcolor": "#E5ECF6",
          "polar": {
           "angularaxis": {
            "gridcolor": "white",
            "linecolor": "white",
            "ticks": ""
           },
           "bgcolor": "#E5ECF6",
           "radialaxis": {
            "gridcolor": "white",
            "linecolor": "white",
            "ticks": ""
           }
          },
          "scene": {
           "xaxis": {
            "backgroundcolor": "#E5ECF6",
            "gridcolor": "white",
            "gridwidth": 2,
            "linecolor": "white",
            "showbackground": true,
            "ticks": "",
            "zerolinecolor": "white"
           },
           "yaxis": {
            "backgroundcolor": "#E5ECF6",
            "gridcolor": "white",
            "gridwidth": 2,
            "linecolor": "white",
            "showbackground": true,
            "ticks": "",
            "zerolinecolor": "white"
           },
           "zaxis": {
            "backgroundcolor": "#E5ECF6",
            "gridcolor": "white",
            "gridwidth": 2,
            "linecolor": "white",
            "showbackground": true,
            "ticks": "",
            "zerolinecolor": "white"
           }
          },
          "shapedefaults": {
           "line": {
            "color": "#2a3f5f"
           }
          },
          "ternary": {
           "aaxis": {
            "gridcolor": "white",
            "linecolor": "white",
            "ticks": ""
           },
           "baxis": {
            "gridcolor": "white",
            "linecolor": "white",
            "ticks": ""
           },
           "bgcolor": "#E5ECF6",
           "caxis": {
            "gridcolor": "white",
            "linecolor": "white",
            "ticks": ""
           }
          },
          "title": {
           "x": 0.05
          },
          "xaxis": {
           "automargin": true,
           "gridcolor": "white",
           "linecolor": "white",
           "ticks": "",
           "title": {
            "standoff": 15
           },
           "zerolinecolor": "white",
           "zerolinewidth": 2
          },
          "yaxis": {
           "automargin": true,
           "gridcolor": "white",
           "linecolor": "white",
           "ticks": "",
           "title": {
            "standoff": 15
           },
           "zerolinecolor": "white",
           "zerolinewidth": 2
          }
         }
        },
        "title": {
         "text": "Percent of Population Has to Relocate"
        }
       }
      }
     },
     "metadata": {},
     "output_type": "display_data"
    }
   ],
   "source": [
    "# create choropleth map of population with water from df_country\n",
    "\n",
    "hover_data_list =[\n",
    "    \"Entity\",\n",
    "    \"country_pop_raw\",\n",
    "    \"zone_pop_with_water\",\n",
    "    \"population_piped_with_access\",\n",
    "    \"population_piped_with_cycling_access\",\n",
    "    \"population_piped_with_walking_access\",\n",
    "    \"population_without_water\",\n",
    "    \"percent_without_water\",\n",
    "    \"percent_with_water\",\n",
    "    \"Nat Piped\",\n",
    "    \"region\",\n",
    "    \"weighted_med\"\n",
    "    ]\n",
    "\n",
    "\n",
    "choro = px.choropleth(\n",
    "    title=\"Percent of Population Has to Relocate\",\n",
    "    data_frame=df_countries,\n",
    "    locations=\"ISOCODE\",\n",
    "    height=600,\n",
    "    color=\"percent_without_water\",\n",
    "    hover_name=\"Entity\",\n",
    "    hover_data=hover_data_list\n",
    ")\n",
    "choro.layout.coloraxis.colorbar.title = ''\n",
    "choro.show()\n"
   ]
  },
  {
   "cell_type": "code",
   "execution_count": 25,
   "metadata": {},
   "outputs": [
    {
     "data": {
      "application/vnd.plotly.v1+json": {
       "config": {
        "plotlyServerURL": "https://plotly.com"
       },
       "data": [
        {
         "hovertemplate": "<b>%{hovertext}</b><br><br>region=Americas<br>percent_without_water=%{x}<br>Nat Piped=%{y}<br>bubble_size=%{marker.size}<extra></extra>",
         "hovertext": [
          "Panama",
          "Suriname",
          "Puerto Rico",
          "El Salvador",
          "Belize",
          "Guyana",
          "Canada",
          "French Guiana",
          "Costa Rica",
          "Honduras",
          "Guatemala",
          "Dominican Republic",
          "Colombia",
          "Nicaragua",
          "Chile",
          "Jamaica",
          "United States",
          "Haiti",
          "Ecuador",
          "Paraguay",
          "Cuba",
          "Peru",
          "Montserrat",
          "Brazil",
          "Venezuela",
          "Bolivia",
          "Bahamas",
          "Trinidad and Tobago",
          "Mexico",
          "Argentina",
          "Martinique",
          "Uruguay",
          "Grenada",
          "Saint Lucia",
          "Falkland Islands",
          "Greenland",
          "Guadeloupe",
          "Antigua and Barbuda",
          "Dominica",
          "Aruba",
          "Barbados"
         ],
         "legendgroup": "Americas",
         "marker": {
          "color": "#636efa",
          "size": [
           4.381583,
           0.591798,
           2.828246,
           6.5185,
           0.404915,
           0.790329,
           38.067913000000004,
           0.30645,
           5.139053,
           10.062994,
           18.249868,
           10.953714,
           51.265841,
           6.702378999999999,
           19.212362,
           2.973462,
           332.91507400000006,
           11.541683,
           17.888473999999995,
           7.219640999999998,
           11.317498,
           33.359415,
           0.004980999999999999,
           213.993441,
           28.704946999999997,
           11.832936,
           0.3969139999999999,
           1.403374,
           130.26222,
           45.605823,
           0.37474300000000005,
           3.485152,
           0.11301499999999998,
           0.184401,
           0.0035279999999999995,
           0.056867999999999995,
           0.40001299999999995,
           0.09872799999999997,
           0.072172,
           0.107195,
           0.2877080000000001
          ],
          "sizemode": "area",
          "sizeref": 3.610540255,
          "symbol": "circle"
         },
         "mode": "markers",
         "name": "Americas",
         "orientation": "v",
         "showlegend": true,
         "type": "scatter",
         "x": [
          28.463479068832843,
          24.180705295807293,
          36.82980217406255,
          33.44169733427723,
          18.222726582716327,
          22.201209053079435,
          22.594944404774093,
          32.75051659929709,
          27.934540922871243,
          40.74370546622144,
          40.336798571202095,
          48.219272270950334,
          43.61718504947966,
          52.16956885979378,
          37.198704338672286,
          50.36652338115585,
          37.41752580444207,
          34.85956713341544,
          34.96438301432509,
          47.699250731176704,
          47.21718732156203,
          60.812510668063815,
          72.96674544075778,
          49.236925394231896,
          55.54203457068103,
          46.41983799936193,
          67.26507628662651,
          53.701347939490915,
          57.589164657768436,
          46.793180650260226,
          77.4618416546932,
          56.9377460246467,
          62.359772266348934,
          78.98608100315765,
          77.76421111778052,
          60.586849194501845,
          70.12691404444574,
          98,
          99,
          96,
          100
         ],
         "xaxis": "x",
         "y": [
          93,
          80,
          100,
          91,
          87,
          65,
          100,
          88,
          100,
          92,
          77,
          81,
          89,
          70,
          100,
          83,
          99,
          19,
          91,
          100,
          80,
          90,
          98,
          98,
          79,
          69,
          97,
          93,
          98,
          96,
          86.14285714285714,
          100,
          92,
          97,
          91,
          100,
          86.14285714285715,
          94,
          94,
          94,
          99
         ],
         "yaxis": "y"
        },
        {
         "hovertemplate": "<b>%{hovertext}</b><br><br>region=Africa<br>percent_without_water=%{x}<br>Nat Piped=%{y}<br>bubble_size=%{marker.size}<extra></extra>",
         "hovertext": [
          "Congo",
          "Mauritius",
          "Eswatini",
          "Lesotho",
          "Malawi",
          "Democratic Republic of Congo",
          "Central African Republic",
          "Tanzania",
          "Zambia",
          "Sierra Leone",
          "Uganda",
          "Burundi",
          "South Africa",
          "Mozambique",
          "Guinea",
          "Equatorial Guinea",
          "Rwanda",
          "Zimbabwe",
          "Guinea-Bissau",
          "Egypt",
          "Nigeria",
          "Togo",
          "Cameroon",
          "Madagascar",
          "Cote d'Ivoire",
          "Kenya",
          "Reunion",
          "Angola",
          "Gambia",
          "Liberia",
          "Ghana",
          "Gabon",
          "Benin",
          "Sao Tome and Principe",
          "Ethiopia",
          "Morocco",
          "Algeria",
          "Mali",
          "South Sudan",
          "Burkina Faso",
          "Tunisia",
          "Senegal",
          "Chad",
          "Eritrea",
          "Namibia",
          "Mauritania",
          "Botswana",
          "Niger",
          "Djibouti",
          "Sudan",
          "Somalia",
          "Western Sahara",
          "Libya"
         ],
         "legendgroup": "Africa",
         "marker": {
          "color": "#EF553B",
          "size": [
           5.657017,
           1.273428,
           1.1723690000000002,
           2.159067,
           19.647681,
           92.377986,
           4.919987,
           61.498438,
           18.920657,
           8.141343,
           47.123533,
           12.255429000000001,
           60.04199599999999,
           32.16304499999999,
           13.497237,
           1.449891,
           13.276517,
           15.092171,
           2.01549,
           104.25832699999998,
           211.400704,
           8.478242,
           27.224262,
           28.427333,
           27.053628999999997,
           54.985702,
           0.9016959999999997,
           33.933611,
           2.4869369999999997,
           5.1802079999999995,
           31.732128000000003,
           2.278829,
           12.451031,
           0.223364,
           117.87622599999999,
           37.344787,
           44.61662599999999,
           20.855724000000002,
           11.381377,
           21.497097,
           11.935764,
           17.196308,
           16.914985,
           3.601462,
           2.5873439999999994,
           4.775110000000001,
           2.39724,
           25.130809999999997,
           1.002197,
           44.909351,
           16.3595,
           0.6118719999999999,
           6.958537999999998
          ],
          "sizemode": "area",
          "sizeref": 3.610540255,
          "symbol": "circle"
         },
         "mode": "markers",
         "name": "Africa",
         "orientation": "v",
         "showlegend": true,
         "type": "scatter",
         "x": [
          36.54432776026784,
          23.630898783334374,
          33.8316511002339,
          44.68927445198479,
          14.034738125155657,
          55.12230842812088,
          42.84263767819079,
          40.48260472012289,
          39.569830455022625,
          36.99038894330302,
          24.68501811673307,
          35.82927630299818,
          47.85912344473441,
          40.873183814906966,
          25.425601638869782,
          53.58323828595869,
          39.95639504663005,
          36.811481417853045,
          42.04145301039756,
          55.81732387542602,
          22.871492676500086,
          36.53372014602021,
          39.74494313138148,
          62.52244790076088,
          37.98597144082043,
          45.48040178301741,
          54.055702030440656,
          58.51586296101442,
          42.48619795294682,
          18.70794028509502,
          24.948169160829494,
          64.16256587820737,
          42.903012952893384,
          68.19506952967191,
          55.88115161163353,
          60.37247317320528,
          51.6968458166031,
          46.1422581980692,
          24.91533684106525,
          37.65129883036704,
          73.48631152528719,
          76.65823782227201,
          55.135161157979184,
          76.6898610612054,
          87.7992382994991,
          64.52484463038502,
          87.5044390625074,
          67.7508716454355,
          90.09339369309242,
          53.276437780080364,
          61.411611260272934,
          74.77796376764553,
          77.97861537774456
         ],
         "xaxis": "x",
         "y": [
          53,
          100,
          61,
          69,
          22,
          35,
          14,
          38,
          32,
          21,
          23,
          38,
          91,
          41,
          25,
          41,
          38,
          27,
          35,
          100,
          10,
          25,
          36,
          35,
          42,
          33,
          100,
          42,
          77,
          4,
          35,
          82,
          37,
          97,
          41,
          80,
          72,
          50,
          4,
          28,
          93,
          75,
          20,
          52,
          81,
          53,
          91,
          40,
          83,
          46,
          47,
          68.33333333333333,
          78
         ],
         "yaxis": "y"
        },
        {
         "hovertemplate": "<b>%{hovertext}</b><br><br>region=Asia<br>percent_without_water=%{x}<br>Nat Piped=%{y}<br>bubble_size=%{marker.size}<extra></extra>",
         "hovertext": [
          "Japan",
          "Philippines",
          "Brunei",
          "Azerbaijan",
          "Vietnam",
          "Armenia",
          "Bangladesh",
          "Georgia",
          "Nepal",
          "Myanmar",
          "Thailand",
          "Kyrgyzstan",
          "Pakistan",
          "Laos",
          "Taiwan",
          "China",
          "Cambodia",
          "Malaysia",
          "North Korea",
          "India",
          "Mongolia",
          "Tajikistan",
          "Turkey",
          "Uzbekistan",
          "Iraq",
          "Sri Lanka",
          "Bhutan",
          "Indonesia",
          "Kazakhstan",
          "South Korea",
          "Iran",
          "Afghanistan",
          "Lebanon",
          "Syria",
          "Jordan",
          "Singapore",
          "Israel",
          "Turkmenistan",
          "Palestine",
          "Yemen",
          "Hong Kong",
          "Timor",
          "Oman",
          "Kuwait",
          "United Arab Emirates",
          "Qatar",
          "Saudi Arabia"
         ],
         "legendgroup": "Asia",
         "marker": {
          "color": "#00cc96",
          "size": [
           126.05079599999999,
           111.04690999999998,
           0.4415320000000001,
           10.223343999999997,
           98.16882900000002,
           2.968128,
           166.303494,
           3.979773,
           29.674920000000004,
           54.80601399999999,
           69.950844,
           6.628347,
           225.19992899999997,
           7.379358,
           23.855008,
           1444.216102,
           16.946445999999995,
           32.776195,
           25.887045,
           1393.409033,
           3.3292819999999996,
           9.749624999999998,
           85.042736,
           33.93576500000001,
           41.179351,
           21.497306,
           0.7799000000000001,
           276.36178799999993,
           18.994958000000004,
           51.305184,
           85.02876,
           39.835428,
           6.769151,
           18.275703999999998,
           10.269022000000001,
           5.896684000000001,
           8.789776,
           6.117932999999999,
           5.222756,
           30.490638999999998,
           7.5528,
           1.3438749999999997,
           5.223376,
           4.328553,
           9.991083,
           2.9305240000000006,
           35.34068
          ],
          "sizemode": "area",
          "sizeref": 3.610540255,
          "symbol": "circle"
         },
         "mode": "markers",
         "name": "Asia",
         "orientation": "v",
         "showlegend": true,
         "type": "scatter",
         "x": [
          20.362927834558313,
          27.53581190103629,
          27.514984123003146,
          39.24742820266742,
          11.741581602714342,
          44.5965449663602,
          7.520324576341054,
          40.51915222332863,
          19.41291377782795,
          23.37512282579045,
          20.270174102353096,
          39.40868329950617,
          14.48437978630594,
          20.00125087311546,
          27.807971497119365,
          23.895544953974365,
          22.388730752732155,
          39.699705285292204,
          39.14114800986497,
          21.50356568632979,
          25.172305828434876,
          48.25514064676909,
          46.24752978069321,
          34.140795938984475,
          41.60351611887849,
          22.106914485770563,
          64.71717808169912,
          22.823664541745558,
          46.81127558495692,
          43.89416122065924,
          64.76352011105955,
          37.32542910359389,
          69.87647031264736,
          52.11538328568239,
          74.38638598862212,
          63.59810159707876,
          78.7135126966996,
          40.107304787112874,
          48.22876994827907,
          62.753400499749425,
          87.35620494272217,
          76.51093323606007,
          92.83903791676235,
          92,
          99.98252166214934,
          100,
          83.18506341659115
         ],
         "xaxis": "x",
         "y": [
          98,
          66,
          100,
          91,
          48,
          100,
          15,
          82,
          50,
          33,
          81,
          94,
          26,
          31,
          86.14285714285714,
          80,
          32,
          95,
          100,
          44,
          25,
          65,
          95,
          70,
          83,
          39,
          100,
          35,
          81,
          100,
          99,
          22,
          89,
          71,
          89,
          100,
          100,
          52,
          54,
          56,
          100,
          66,
          96,
          91.5,
          100,
          100,
          84
         ],
         "yaxis": "y"
        },
        {
         "hovertemplate": "<b>%{hovertext}</b><br><br>region=Europe<br>percent_without_water=%{x}<br>Nat Piped=%{y}<br>bubble_size=%{marker.size}<extra></extra>",
         "hovertext": [
          "Albania",
          "Netherlands",
          "Norway",
          "Sweden",
          "Moldova",
          "Austria",
          "Lithuania",
          "Estonia",
          "Slovenia",
          "Switzerland",
          "Hungary",
          "France",
          "Slovakia",
          "Belarus",
          "Latvia",
          "United Kingdom",
          "Poland",
          "Romania",
          "Italy",
          "North Macedonia",
          "Serbia",
          "Belgium",
          "Czechia",
          "Ukraine",
          "Bulgaria",
          "Bosnia and Herzegovina",
          "Finland",
          "Russia",
          "Ireland",
          "Germany",
          "Denmark",
          "Croatia",
          "Liechtenstein",
          "Montenegro",
          "Portugal",
          "Spain",
          "Andorra",
          "Malta",
          "Luxembourg",
          "Isle of Man",
          "Cyprus",
          "Faeroe Islands",
          "Iceland",
          "Greece"
         ],
         "legendgroup": "Europe",
         "marker": {
          "color": "#ab63fa",
          "size": [
           2.872934,
           17.173094,
           5.465629,
           10.160159,
           4.024025000000001,
           9.043071999999999,
           2.689862,
           1.3251880000000003,
           2.078723,
           8.715494,
           9.634162,
           65.426177,
           5.460726,
           9.442867,
           1.866934,
           68.207114,
           37.797,
           19.127772000000004,
           60.367471,
           2.082661,
           8.697547,
           11.632334,
           10.724553,
           43.46682199999999,
           6.896655,
           3.263459,
           5.548361,
           145.91202199999998,
           4.982904,
           83.90047100000001,
           5.813302000000001,
           4.081657,
           0.038254,
           0.6280510000000001,
           10.167922999999998,
           46.745211,
           0.077354,
           0.44279,
           0.6348139999999999,
           0.08541,
           1.215588,
           0.049053000000000006,
           0.34336000000000005,
           10.370747
          ],
          "sizemode": "area",
          "sizeref": 3.610540255,
          "symbol": "circle"
         },
         "mode": "markers",
         "name": "Europe",
         "orientation": "v",
         "showlegend": true,
         "type": "scatter",
         "x": [
          26.80657157611661,
          12.974215210236173,
          21.881218380992426,
          13.526533369470211,
          32.06822026837629,
          7.431937355626654,
          30.435798793837936,
          35.70282195216337,
          15.662960184280998,
          12.65970871282525,
          35.37287528481372,
          22.258912778721033,
          23.686797271176044,
          30.597093222708533,
          43.978844817593206,
          26.91109799668423,
          18.089951330959554,
          24.9226247825605,
          24.965865352052354,
          23.547859753956228,
          36.863857180491664,
          18.930143536720664,
          34.41073428796205,
          23.63408581058783,
          43.434680058104085,
          34.33501325492489,
          15.683776850493524,
          42.93505941039816,
          34.53678357620289,
          16.644603391887024,
          23.802452104670284,
          37.3130289192152,
          16.688,
          49.28492831418999,
          45.405239849631506,
          31.283990429876578,
          21.939580046688533,
          59.356149231338776,
          23.571668396527777,
          50.25178763332856,
          47.87022230448233,
          52.08424407195239,
          46.825509122299806,
          68.75832538521675
         ],
         "xaxis": "x",
         "y": [
          81,
          91,
          100,
          88,
          72,
          99.42857142857144,
          96,
          93,
          97.98214285714286,
          100,
          100,
          93,
          98,
          96,
          94,
          100,
          89,
          64,
          98,
          92,
          94,
          100,
          100,
          64,
          100,
          95,
          100,
          94,
          97,
          100,
          100,
          94.5,
          100,
          89,
          100,
          100,
          100,
          100,
          100,
          98,
          100,
          100,
          100,
          100
         ],
         "yaxis": "y"
        },
        {
         "hovertemplate": "<b>%{hovertext}</b><br><br>region=Oceania<br>percent_without_water=%{x}<br>Nat Piped=%{y}<br>bubble_size=%{marker.size}<extra></extra>",
         "hovertext": [
          "Papua New Guinea",
          "Australia",
          "New Zealand",
          "New Caledonia",
          "Solomon Islands",
          "Vanuatu",
          "Fiji",
          "Samoa",
          "Guam",
          "Northern Mariana Islands"
         ],
         "legendgroup": "Oceania",
         "marker": {
          "color": "#FFA15A",
          "size": [
           9.119005,
           25.788216999999996,
           4.860642,
           0.288217,
           0.703995,
           0.314464,
           0.9028990000000001,
           0.200144,
           0.170184,
           0.05790999999999998
          ],
          "sizemode": "area",
          "sizeref": 3.610540255,
          "symbol": "circle"
         },
         "mode": "markers",
         "name": "Oceania",
         "orientation": "v",
         "showlegend": true,
         "type": "scatter",
         "x": [
          56.63278010051111,
          25.774497085045965,
          30.675670671781184,
          50.43580721185632,
          51.26222960258683,
          35.537065180678205,
          58.12970742838046,
          61.71475145293799,
          86.23095725101535,
          90
         ],
         "xaxis": "x",
         "y": [
          18,
          91,
          100,
          99,
          46,
          48,
          83,
          84,
          100,
          90
         ],
         "yaxis": "y"
        }
       ],
       "layout": {
        "legend": {
         "itemsizing": "constant",
         "title": {
          "text": "region"
         },
         "tracegroupgap": 0
        },
        "template": {
         "data": {
          "bar": [
           {
            "error_x": {
             "color": "#2a3f5f"
            },
            "error_y": {
             "color": "#2a3f5f"
            },
            "marker": {
             "line": {
              "color": "#E5ECF6",
              "width": 0.5
             },
             "pattern": {
              "fillmode": "overlay",
              "size": 10,
              "solidity": 0.2
             }
            },
            "type": "bar"
           }
          ],
          "barpolar": [
           {
            "marker": {
             "line": {
              "color": "#E5ECF6",
              "width": 0.5
             },
             "pattern": {
              "fillmode": "overlay",
              "size": 10,
              "solidity": 0.2
             }
            },
            "type": "barpolar"
           }
          ],
          "carpet": [
           {
            "aaxis": {
             "endlinecolor": "#2a3f5f",
             "gridcolor": "white",
             "linecolor": "white",
             "minorgridcolor": "white",
             "startlinecolor": "#2a3f5f"
            },
            "baxis": {
             "endlinecolor": "#2a3f5f",
             "gridcolor": "white",
             "linecolor": "white",
             "minorgridcolor": "white",
             "startlinecolor": "#2a3f5f"
            },
            "type": "carpet"
           }
          ],
          "choropleth": [
           {
            "colorbar": {
             "outlinewidth": 0,
             "ticks": ""
            },
            "type": "choropleth"
           }
          ],
          "contour": [
           {
            "colorbar": {
             "outlinewidth": 0,
             "ticks": ""
            },
            "colorscale": [
             [
              0,
              "#0d0887"
             ],
             [
              0.1111111111111111,
              "#46039f"
             ],
             [
              0.2222222222222222,
              "#7201a8"
             ],
             [
              0.3333333333333333,
              "#9c179e"
             ],
             [
              0.4444444444444444,
              "#bd3786"
             ],
             [
              0.5555555555555556,
              "#d8576b"
             ],
             [
              0.6666666666666666,
              "#ed7953"
             ],
             [
              0.7777777777777778,
              "#fb9f3a"
             ],
             [
              0.8888888888888888,
              "#fdca26"
             ],
             [
              1,
              "#f0f921"
             ]
            ],
            "type": "contour"
           }
          ],
          "contourcarpet": [
           {
            "colorbar": {
             "outlinewidth": 0,
             "ticks": ""
            },
            "type": "contourcarpet"
           }
          ],
          "heatmap": [
           {
            "colorbar": {
             "outlinewidth": 0,
             "ticks": ""
            },
            "colorscale": [
             [
              0,
              "#0d0887"
             ],
             [
              0.1111111111111111,
              "#46039f"
             ],
             [
              0.2222222222222222,
              "#7201a8"
             ],
             [
              0.3333333333333333,
              "#9c179e"
             ],
             [
              0.4444444444444444,
              "#bd3786"
             ],
             [
              0.5555555555555556,
              "#d8576b"
             ],
             [
              0.6666666666666666,
              "#ed7953"
             ],
             [
              0.7777777777777778,
              "#fb9f3a"
             ],
             [
              0.8888888888888888,
              "#fdca26"
             ],
             [
              1,
              "#f0f921"
             ]
            ],
            "type": "heatmap"
           }
          ],
          "heatmapgl": [
           {
            "colorbar": {
             "outlinewidth": 0,
             "ticks": ""
            },
            "colorscale": [
             [
              0,
              "#0d0887"
             ],
             [
              0.1111111111111111,
              "#46039f"
             ],
             [
              0.2222222222222222,
              "#7201a8"
             ],
             [
              0.3333333333333333,
              "#9c179e"
             ],
             [
              0.4444444444444444,
              "#bd3786"
             ],
             [
              0.5555555555555556,
              "#d8576b"
             ],
             [
              0.6666666666666666,
              "#ed7953"
             ],
             [
              0.7777777777777778,
              "#fb9f3a"
             ],
             [
              0.8888888888888888,
              "#fdca26"
             ],
             [
              1,
              "#f0f921"
             ]
            ],
            "type": "heatmapgl"
           }
          ],
          "histogram": [
           {
            "marker": {
             "pattern": {
              "fillmode": "overlay",
              "size": 10,
              "solidity": 0.2
             }
            },
            "type": "histogram"
           }
          ],
          "histogram2d": [
           {
            "colorbar": {
             "outlinewidth": 0,
             "ticks": ""
            },
            "colorscale": [
             [
              0,
              "#0d0887"
             ],
             [
              0.1111111111111111,
              "#46039f"
             ],
             [
              0.2222222222222222,
              "#7201a8"
             ],
             [
              0.3333333333333333,
              "#9c179e"
             ],
             [
              0.4444444444444444,
              "#bd3786"
             ],
             [
              0.5555555555555556,
              "#d8576b"
             ],
             [
              0.6666666666666666,
              "#ed7953"
             ],
             [
              0.7777777777777778,
              "#fb9f3a"
             ],
             [
              0.8888888888888888,
              "#fdca26"
             ],
             [
              1,
              "#f0f921"
             ]
            ],
            "type": "histogram2d"
           }
          ],
          "histogram2dcontour": [
           {
            "colorbar": {
             "outlinewidth": 0,
             "ticks": ""
            },
            "colorscale": [
             [
              0,
              "#0d0887"
             ],
             [
              0.1111111111111111,
              "#46039f"
             ],
             [
              0.2222222222222222,
              "#7201a8"
             ],
             [
              0.3333333333333333,
              "#9c179e"
             ],
             [
              0.4444444444444444,
              "#bd3786"
             ],
             [
              0.5555555555555556,
              "#d8576b"
             ],
             [
              0.6666666666666666,
              "#ed7953"
             ],
             [
              0.7777777777777778,
              "#fb9f3a"
             ],
             [
              0.8888888888888888,
              "#fdca26"
             ],
             [
              1,
              "#f0f921"
             ]
            ],
            "type": "histogram2dcontour"
           }
          ],
          "mesh3d": [
           {
            "colorbar": {
             "outlinewidth": 0,
             "ticks": ""
            },
            "type": "mesh3d"
           }
          ],
          "parcoords": [
           {
            "line": {
             "colorbar": {
              "outlinewidth": 0,
              "ticks": ""
             }
            },
            "type": "parcoords"
           }
          ],
          "pie": [
           {
            "automargin": true,
            "type": "pie"
           }
          ],
          "scatter": [
           {
            "fillpattern": {
             "fillmode": "overlay",
             "size": 10,
             "solidity": 0.2
            },
            "type": "scatter"
           }
          ],
          "scatter3d": [
           {
            "line": {
             "colorbar": {
              "outlinewidth": 0,
              "ticks": ""
             }
            },
            "marker": {
             "colorbar": {
              "outlinewidth": 0,
              "ticks": ""
             }
            },
            "type": "scatter3d"
           }
          ],
          "scattercarpet": [
           {
            "marker": {
             "colorbar": {
              "outlinewidth": 0,
              "ticks": ""
             }
            },
            "type": "scattercarpet"
           }
          ],
          "scattergeo": [
           {
            "marker": {
             "colorbar": {
              "outlinewidth": 0,
              "ticks": ""
             }
            },
            "type": "scattergeo"
           }
          ],
          "scattergl": [
           {
            "marker": {
             "colorbar": {
              "outlinewidth": 0,
              "ticks": ""
             }
            },
            "type": "scattergl"
           }
          ],
          "scattermapbox": [
           {
            "marker": {
             "colorbar": {
              "outlinewidth": 0,
              "ticks": ""
             }
            },
            "type": "scattermapbox"
           }
          ],
          "scatterpolar": [
           {
            "marker": {
             "colorbar": {
              "outlinewidth": 0,
              "ticks": ""
             }
            },
            "type": "scatterpolar"
           }
          ],
          "scatterpolargl": [
           {
            "marker": {
             "colorbar": {
              "outlinewidth": 0,
              "ticks": ""
             }
            },
            "type": "scatterpolargl"
           }
          ],
          "scatterternary": [
           {
            "marker": {
             "colorbar": {
              "outlinewidth": 0,
              "ticks": ""
             }
            },
            "type": "scatterternary"
           }
          ],
          "surface": [
           {
            "colorbar": {
             "outlinewidth": 0,
             "ticks": ""
            },
            "colorscale": [
             [
              0,
              "#0d0887"
             ],
             [
              0.1111111111111111,
              "#46039f"
             ],
             [
              0.2222222222222222,
              "#7201a8"
             ],
             [
              0.3333333333333333,
              "#9c179e"
             ],
             [
              0.4444444444444444,
              "#bd3786"
             ],
             [
              0.5555555555555556,
              "#d8576b"
             ],
             [
              0.6666666666666666,
              "#ed7953"
             ],
             [
              0.7777777777777778,
              "#fb9f3a"
             ],
             [
              0.8888888888888888,
              "#fdca26"
             ],
             [
              1,
              "#f0f921"
             ]
            ],
            "type": "surface"
           }
          ],
          "table": [
           {
            "cells": {
             "fill": {
              "color": "#EBF0F8"
             },
             "line": {
              "color": "white"
             }
            },
            "header": {
             "fill": {
              "color": "#C8D4E3"
             },
             "line": {
              "color": "white"
             }
            },
            "type": "table"
           }
          ]
         },
         "layout": {
          "annotationdefaults": {
           "arrowcolor": "#2a3f5f",
           "arrowhead": 0,
           "arrowwidth": 1
          },
          "autotypenumbers": "strict",
          "coloraxis": {
           "colorbar": {
            "outlinewidth": 0,
            "ticks": ""
           }
          },
          "colorscale": {
           "diverging": [
            [
             0,
             "#8e0152"
            ],
            [
             0.1,
             "#c51b7d"
            ],
            [
             0.2,
             "#de77ae"
            ],
            [
             0.3,
             "#f1b6da"
            ],
            [
             0.4,
             "#fde0ef"
            ],
            [
             0.5,
             "#f7f7f7"
            ],
            [
             0.6,
             "#e6f5d0"
            ],
            [
             0.7,
             "#b8e186"
            ],
            [
             0.8,
             "#7fbc41"
            ],
            [
             0.9,
             "#4d9221"
            ],
            [
             1,
             "#276419"
            ]
           ],
           "sequential": [
            [
             0,
             "#0d0887"
            ],
            [
             0.1111111111111111,
             "#46039f"
            ],
            [
             0.2222222222222222,
             "#7201a8"
            ],
            [
             0.3333333333333333,
             "#9c179e"
            ],
            [
             0.4444444444444444,
             "#bd3786"
            ],
            [
             0.5555555555555556,
             "#d8576b"
            ],
            [
             0.6666666666666666,
             "#ed7953"
            ],
            [
             0.7777777777777778,
             "#fb9f3a"
            ],
            [
             0.8888888888888888,
             "#fdca26"
            ],
            [
             1,
             "#f0f921"
            ]
           ],
           "sequentialminus": [
            [
             0,
             "#0d0887"
            ],
            [
             0.1111111111111111,
             "#46039f"
            ],
            [
             0.2222222222222222,
             "#7201a8"
            ],
            [
             0.3333333333333333,
             "#9c179e"
            ],
            [
             0.4444444444444444,
             "#bd3786"
            ],
            [
             0.5555555555555556,
             "#d8576b"
            ],
            [
             0.6666666666666666,
             "#ed7953"
            ],
            [
             0.7777777777777778,
             "#fb9f3a"
            ],
            [
             0.8888888888888888,
             "#fdca26"
            ],
            [
             1,
             "#f0f921"
            ]
           ]
          },
          "colorway": [
           "#636efa",
           "#EF553B",
           "#00cc96",
           "#ab63fa",
           "#FFA15A",
           "#19d3f3",
           "#FF6692",
           "#B6E880",
           "#FF97FF",
           "#FECB52"
          ],
          "font": {
           "color": "#2a3f5f"
          },
          "geo": {
           "bgcolor": "white",
           "lakecolor": "white",
           "landcolor": "#E5ECF6",
           "showlakes": true,
           "showland": true,
           "subunitcolor": "white"
          },
          "hoverlabel": {
           "align": "left"
          },
          "hovermode": "closest",
          "mapbox": {
           "style": "light"
          },
          "paper_bgcolor": "white",
          "plot_bgcolor": "#E5ECF6",
          "polar": {
           "angularaxis": {
            "gridcolor": "white",
            "linecolor": "white",
            "ticks": ""
           },
           "bgcolor": "#E5ECF6",
           "radialaxis": {
            "gridcolor": "white",
            "linecolor": "white",
            "ticks": ""
           }
          },
          "scene": {
           "xaxis": {
            "backgroundcolor": "#E5ECF6",
            "gridcolor": "white",
            "gridwidth": 2,
            "linecolor": "white",
            "showbackground": true,
            "ticks": "",
            "zerolinecolor": "white"
           },
           "yaxis": {
            "backgroundcolor": "#E5ECF6",
            "gridcolor": "white",
            "gridwidth": 2,
            "linecolor": "white",
            "showbackground": true,
            "ticks": "",
            "zerolinecolor": "white"
           },
           "zaxis": {
            "backgroundcolor": "#E5ECF6",
            "gridcolor": "white",
            "gridwidth": 2,
            "linecolor": "white",
            "showbackground": true,
            "ticks": "",
            "zerolinecolor": "white"
           }
          },
          "shapedefaults": {
           "line": {
            "color": "#2a3f5f"
           }
          },
          "ternary": {
           "aaxis": {
            "gridcolor": "white",
            "linecolor": "white",
            "ticks": ""
           },
           "baxis": {
            "gridcolor": "white",
            "linecolor": "white",
            "ticks": ""
           },
           "bgcolor": "#E5ECF6",
           "caxis": {
            "gridcolor": "white",
            "linecolor": "white",
            "ticks": ""
           }
          },
          "title": {
           "x": 0.05
          },
          "xaxis": {
           "automargin": true,
           "gridcolor": "white",
           "linecolor": "white",
           "ticks": "",
           "title": {
            "standoff": 15
           },
           "zerolinecolor": "white",
           "zerolinewidth": 2
          },
          "yaxis": {
           "automargin": true,
           "gridcolor": "white",
           "linecolor": "white",
           "ticks": "",
           "title": {
            "standoff": 15
           },
           "zerolinecolor": "white",
           "zerolinewidth": 2
          }
         }
        },
        "title": {
         "text": "Access to Water vs. Piped Water vs. Population"
        },
        "xaxis": {
         "anchor": "y",
         "domain": [
          0,
          1
         ],
         "title": {
          "text": "percent_without_water"
         }
        },
        "yaxis": {
         "anchor": "x",
         "domain": [
          0,
          1
         ],
         "title": {
          "text": "Nat Piped"
         }
        }
       }
      }
     },
     "metadata": {},
     "output_type": "display_data"
    }
   ],
   "source": [
    "# create bubble chart from df_countries comprising: access to water, piped water, and using population as the size of the bubble\n",
    "# create a new column for the size of the bubble\n",
    "df_countries[\"bubble_size\"] = df_countries[\"country_pop_raw\"] / 1000000\n",
    "\n",
    "# create a new column for the color of the bubble\n",
    "df_countries[\"bubble_color\"] = df_countries[\"Nat Piped\"]\n",
    "\n",
    "# create a new column for the text of the bubble\n",
    "df_countries[\"bubble_text\"] = df_countries[\"Entity\"]\n",
    "\n",
    "px.scatter(df_countries, x=\"percent_without_water\", y=\"Nat Piped\", size=\"bubble_size\", color=\"region\", hover_name=\"bubble_text\", title=\"Access to Water vs. Piped Water vs. Population\")"
   ]
  },
  {
   "attachments": {},
   "cell_type": "markdown",
   "metadata": {},
   "source": [
    "Above graph is the money shot. NMeed to fix bubble sizes, maybe add labels"
   ]
  },
  {
   "cell_type": "code",
   "execution_count": 26,
   "metadata": {},
   "outputs": [
    {
     "data": {
      "application/vnd.plotly.v1+json": {
       "config": {
        "plotlyServerURL": "https://plotly.com"
       },
       "data": [
        {
         "hovertemplate": "region=Americas<br>Entity=%{x}<br>weighted_med=%{y}<extra></extra>",
         "legendgroup": "Americas",
         "line": {
          "color": "#636efa",
          "dash": "solid"
         },
         "marker": {
          "symbol": "circle"
         },
         "mode": "lines",
         "name": "Americas",
         "orientation": "v",
         "showlegend": true,
         "type": "scatter",
         "x": [
          "Panama",
          "Puerto Rico",
          "Suriname",
          "Guyana",
          "El Salvador",
          "Belize",
          "French Guiana",
          "Canada",
          "Honduras",
          "Costa Rica",
          "Colombia",
          "Dominican Republic",
          "Guatemala",
          "Chile",
          "Nicaragua",
          "Ecuador",
          "Haiti",
          "United States",
          "Jamaica",
          "Paraguay",
          "Peru",
          "Cuba",
          "Montserrat",
          "Brazil",
          "Trinidad and Tobago",
          "Bahamas",
          "Bolivia",
          "Venezuela",
          "Mexico",
          "Argentina",
          "Martinique",
          "Uruguay",
          "Grenada",
          "Saint Lucia",
          "Falkland Islands",
          "Greenland",
          "Guadeloupe",
          "Antigua and Barbuda",
          "Dominica",
          "Aruba",
          "Barbados"
         ],
         "xaxis": "x",
         "y": [
          2,
          2.23606811523438,
          2.23606811523438,
          2.82842700195312,
          2.82842700195312,
          2.82842700195312,
          3,
          3,
          3.16227807617188,
          3.16227807617188,
          3.60555102539062,
          3.60555102539062,
          3.60555102539062,
          4,
          4,
          4.12310498046875,
          4.12310498046875,
          4.12310498046875,
          4.12310498046875,
          4.24264111328125,
          4.47213623046875,
          4.47213623046875,
          5,
          5,
          5.3851650390625,
          5.3851650390625,
          5.3851650390625,
          5.3851650390625,
          5.65685400390625,
          6,
          7.81025,
          8.0622578125,
          9.219544921875,
          13.03841015625,
          14.3178203125,
          16.76305078125,
          22.4722109375,
          64.3506015625,
          69.2603828125,
          87.80090625,
          144.138796875
         ],
         "yaxis": "y"
        },
        {
         "hovertemplate": "region=Africa<br>Entity=%{x}<br>weighted_med=%{y}<extra></extra>",
         "legendgroup": "Africa",
         "line": {
          "color": "#EF553B",
          "dash": "solid"
         },
         "marker": {
          "symbol": "circle"
         },
         "mode": "lines",
         "name": "Africa",
         "orientation": "v",
         "showlegend": true,
         "type": "scatter",
         "x": [
          "Congo",
          "Mauritius",
          "Lesotho",
          "Eswatini",
          "Malawi",
          "Uganda",
          "Sierra Leone",
          "Tanzania",
          "Central African Republic",
          "Democratic Republic of Congo",
          "Zambia",
          "Mozambique",
          "Equatorial Guinea",
          "Guinea",
          "South Africa",
          "Burundi",
          "Nigeria",
          "Togo",
          "Cameroon",
          "Egypt",
          "Guinea-Bissau",
          "Zimbabwe",
          "Rwanda",
          "Madagascar",
          "Angola",
          "Reunion",
          "Kenya",
          "Cote d'Ivoire",
          "Gambia",
          "Liberia",
          "Ghana",
          "Gabon",
          "Benin",
          "Sao Tome and Principe",
          "Ethiopia",
          "Morocco",
          "Algeria",
          "Mali",
          "South Sudan",
          "Burkina Faso",
          "Tunisia",
          "Senegal",
          "Chad",
          "Eritrea",
          "Namibia",
          "Mauritania",
          "Botswana",
          "Niger",
          "Djibouti",
          "Sudan",
          "Somalia",
          "Western Sahara",
          "Libya"
         ],
         "xaxis": "x",
         "y": [
          2,
          2,
          2.23606811523438,
          2.23606811523438,
          2.82842700195312,
          3,
          3,
          3,
          3,
          3,
          3,
          3.16227807617188,
          3.16227807617188,
          3.16227807617188,
          3.16227807617188,
          3.16227807617188,
          3.60555102539062,
          3.60555102539062,
          3.60555102539062,
          3.60555102539062,
          3.60555102539062,
          3.60555102539062,
          3.60555102539062,
          4,
          4.12310498046875,
          4.12310498046875,
          4.12310498046875,
          4.12310498046875,
          4.24264111328125,
          4.24264111328125,
          4.24264111328125,
          4.47213623046875,
          5,
          5.09902001953125,
          7.07106787109375,
          7.07106787109375,
          7.28010986328125,
          8.54400390625,
          9.4868330078125,
          10.2956298828125,
          14.035669921875,
          17.46425,
          20,
          21.09501953125,
          30.6104609375,
          31.016130859375,
          33.94112890625,
          33.9705703125,
          38.83298046875,
          47.85394921875,
          86.2786171875,
          136.85390625,
          223.618
         ],
         "yaxis": "y"
        },
        {
         "hovertemplate": "region=Europe<br>Entity=%{x}<br>weighted_med=%{y}<extra></extra>",
         "legendgroup": "Europe",
         "line": {
          "color": "#00cc96",
          "dash": "solid"
         },
         "marker": {
          "symbol": "circle"
         },
         "mode": "lines",
         "name": "Europe",
         "orientation": "v",
         "showlegend": true,
         "type": "scatter",
         "x": [
          "Sweden",
          "Netherlands",
          "Norway",
          "Albania",
          "Switzerland",
          "France",
          "Hungary",
          "Slovakia",
          "Slovenia",
          "Estonia",
          "Moldova",
          "Lithuania",
          "Austria",
          "North Macedonia",
          "Italy",
          "Romania",
          "Poland",
          "United Kingdom",
          "Latvia",
          "Belarus",
          "Ireland",
          "Germany",
          "Russia",
          "Finland",
          "Bosnia and Herzegovina",
          "Bulgaria",
          "Ukraine",
          "Czechia",
          "Belgium",
          "Serbia",
          "Montenegro",
          "Liechtenstein",
          "Croatia",
          "Denmark",
          "Portugal",
          "Spain",
          "Andorra",
          "Malta",
          "Isle of Man",
          "Luxembourg",
          "Cyprus",
          "Iceland",
          "Faeroe Islands",
          "Greece"
         ],
         "xaxis": "x",
         "y": [
          2.23606811523438,
          2.23606811523438,
          2.23606811523438,
          2.23606811523438,
          2.82842700195312,
          2.82842700195312,
          2.82842700195312,
          2.82842700195312,
          2.82842700195312,
          2.82842700195312,
          2.82842700195312,
          2.82842700195312,
          2.82842700195312,
          3,
          3,
          3,
          3,
          3,
          3,
          3,
          3.16227807617188,
          3.16227807617188,
          3.16227807617188,
          3.16227807617188,
          3.16227807617188,
          3.16227807617188,
          3.16227807617188,
          3.16227807617188,
          3.16227807617188,
          3.16227807617188,
          3.60555102539062,
          3.60555102539062,
          3.60555102539062,
          3.60555102539062,
          4,
          4,
          4.12310498046875,
          4.12310498046875,
          4.47213623046875,
          4.47213623046875,
          5,
          5.3851650390625,
          5.3851650390625,
          8
         ],
         "yaxis": "y"
        },
        {
         "hovertemplate": "region=Oceania<br>Entity=%{x}<br>weighted_med=%{y}<extra></extra>",
         "legendgroup": "Oceania",
         "line": {
          "color": "#ab63fa",
          "dash": "solid"
         },
         "marker": {
          "symbol": "circle"
         },
         "mode": "lines",
         "name": "Oceania",
         "orientation": "v",
         "showlegend": true,
         "type": "scatter",
         "x": [
          "Papua New Guinea",
          "New Zealand",
          "Australia",
          "New Caledonia",
          "Solomon Islands",
          "Fiji",
          "Vanuatu",
          "Samoa",
          "Guam",
          "Northern Mariana Islands"
         ],
         "xaxis": "x",
         "y": [
          2.23606811523438,
          2.82842700195312,
          2.82842700195312,
          3.16227807617188,
          3.60555102539062,
          4,
          4,
          6.7082041015625,
          20.615529296875,
          204.36490625
         ],
         "yaxis": "y"
        },
        {
         "hovertemplate": "region=Asia<br>Entity=%{x}<br>weighted_med=%{y}<extra></extra>",
         "legendgroup": "Asia",
         "line": {
          "color": "#FFA15A",
          "dash": "solid"
         },
         "marker": {
          "symbol": "circle"
         },
         "mode": "lines",
         "name": "Asia",
         "orientation": "v",
         "showlegend": true,
         "type": "scatter",
         "x": [
          "Azerbaijan",
          "Brunei",
          "Philippines",
          "Japan",
          "Vietnam",
          "Nepal",
          "Myanmar",
          "Thailand",
          "Kyrgyzstan",
          "Bangladesh",
          "Armenia",
          "Georgia",
          "Taiwan",
          "Laos",
          "Pakistan",
          "Cambodia",
          "Malaysia",
          "China",
          "Turkey",
          "Iraq",
          "Sri Lanka",
          "Tajikistan",
          "Mongolia",
          "Uzbekistan",
          "India",
          "North Korea",
          "Bhutan",
          "Kazakhstan",
          "Indonesia",
          "South Korea",
          "Iran",
          "Afghanistan",
          "Lebanon",
          "Syria",
          "Jordan",
          "Singapore",
          "Israel",
          "Turkmenistan",
          "Palestine",
          "Yemen",
          "Hong Kong",
          "Timor",
          "Oman",
          "Kuwait",
          "United Arab Emirates",
          "Qatar",
          "Saudi Arabia"
         ],
         "xaxis": "x",
         "y": [
          2.23606811523438,
          2.23606811523438,
          2.23606811523438,
          2.23606811523438,
          2.23606811523438,
          2.82842700195312,
          2.82842700195312,
          2.82842700195312,
          2.82842700195312,
          2.82842700195312,
          2.82842700195312,
          2.82842700195312,
          3,
          3,
          3,
          3.16227807617188,
          3.16227807617188,
          3.16227807617188,
          3.60555102539062,
          3.60555102539062,
          3.60555102539062,
          3.60555102539062,
          3.60555102539062,
          3.60555102539062,
          3.60555102539062,
          3.60555102539062,
          4,
          4.12310498046875,
          4.12310498046875,
          4.47213623046875,
          5.3851650390625,
          5.8309521484375,
          6.7082041015625,
          8.0622578125,
          9.4339814453125,
          10.4403095703125,
          16.12451953125,
          17.691810546875,
          19.104970703125,
          21.9317109375,
          25,
          35,
          53.0094296875,
          104.995203125,
          171.819703125,
          196.6215,
          216.01159375
         ],
         "yaxis": "y"
        }
       ],
       "layout": {
        "legend": {
         "title": {
          "text": "region"
         },
         "tracegroupgap": 0
        },
        "template": {
         "data": {
          "bar": [
           {
            "error_x": {
             "color": "#2a3f5f"
            },
            "error_y": {
             "color": "#2a3f5f"
            },
            "marker": {
             "line": {
              "color": "#E5ECF6",
              "width": 0.5
             },
             "pattern": {
              "fillmode": "overlay",
              "size": 10,
              "solidity": 0.2
             }
            },
            "type": "bar"
           }
          ],
          "barpolar": [
           {
            "marker": {
             "line": {
              "color": "#E5ECF6",
              "width": 0.5
             },
             "pattern": {
              "fillmode": "overlay",
              "size": 10,
              "solidity": 0.2
             }
            },
            "type": "barpolar"
           }
          ],
          "carpet": [
           {
            "aaxis": {
             "endlinecolor": "#2a3f5f",
             "gridcolor": "white",
             "linecolor": "white",
             "minorgridcolor": "white",
             "startlinecolor": "#2a3f5f"
            },
            "baxis": {
             "endlinecolor": "#2a3f5f",
             "gridcolor": "white",
             "linecolor": "white",
             "minorgridcolor": "white",
             "startlinecolor": "#2a3f5f"
            },
            "type": "carpet"
           }
          ],
          "choropleth": [
           {
            "colorbar": {
             "outlinewidth": 0,
             "ticks": ""
            },
            "type": "choropleth"
           }
          ],
          "contour": [
           {
            "colorbar": {
             "outlinewidth": 0,
             "ticks": ""
            },
            "colorscale": [
             [
              0,
              "#0d0887"
             ],
             [
              0.1111111111111111,
              "#46039f"
             ],
             [
              0.2222222222222222,
              "#7201a8"
             ],
             [
              0.3333333333333333,
              "#9c179e"
             ],
             [
              0.4444444444444444,
              "#bd3786"
             ],
             [
              0.5555555555555556,
              "#d8576b"
             ],
             [
              0.6666666666666666,
              "#ed7953"
             ],
             [
              0.7777777777777778,
              "#fb9f3a"
             ],
             [
              0.8888888888888888,
              "#fdca26"
             ],
             [
              1,
              "#f0f921"
             ]
            ],
            "type": "contour"
           }
          ],
          "contourcarpet": [
           {
            "colorbar": {
             "outlinewidth": 0,
             "ticks": ""
            },
            "type": "contourcarpet"
           }
          ],
          "heatmap": [
           {
            "colorbar": {
             "outlinewidth": 0,
             "ticks": ""
            },
            "colorscale": [
             [
              0,
              "#0d0887"
             ],
             [
              0.1111111111111111,
              "#46039f"
             ],
             [
              0.2222222222222222,
              "#7201a8"
             ],
             [
              0.3333333333333333,
              "#9c179e"
             ],
             [
              0.4444444444444444,
              "#bd3786"
             ],
             [
              0.5555555555555556,
              "#d8576b"
             ],
             [
              0.6666666666666666,
              "#ed7953"
             ],
             [
              0.7777777777777778,
              "#fb9f3a"
             ],
             [
              0.8888888888888888,
              "#fdca26"
             ],
             [
              1,
              "#f0f921"
             ]
            ],
            "type": "heatmap"
           }
          ],
          "heatmapgl": [
           {
            "colorbar": {
             "outlinewidth": 0,
             "ticks": ""
            },
            "colorscale": [
             [
              0,
              "#0d0887"
             ],
             [
              0.1111111111111111,
              "#46039f"
             ],
             [
              0.2222222222222222,
              "#7201a8"
             ],
             [
              0.3333333333333333,
              "#9c179e"
             ],
             [
              0.4444444444444444,
              "#bd3786"
             ],
             [
              0.5555555555555556,
              "#d8576b"
             ],
             [
              0.6666666666666666,
              "#ed7953"
             ],
             [
              0.7777777777777778,
              "#fb9f3a"
             ],
             [
              0.8888888888888888,
              "#fdca26"
             ],
             [
              1,
              "#f0f921"
             ]
            ],
            "type": "heatmapgl"
           }
          ],
          "histogram": [
           {
            "marker": {
             "pattern": {
              "fillmode": "overlay",
              "size": 10,
              "solidity": 0.2
             }
            },
            "type": "histogram"
           }
          ],
          "histogram2d": [
           {
            "colorbar": {
             "outlinewidth": 0,
             "ticks": ""
            },
            "colorscale": [
             [
              0,
              "#0d0887"
             ],
             [
              0.1111111111111111,
              "#46039f"
             ],
             [
              0.2222222222222222,
              "#7201a8"
             ],
             [
              0.3333333333333333,
              "#9c179e"
             ],
             [
              0.4444444444444444,
              "#bd3786"
             ],
             [
              0.5555555555555556,
              "#d8576b"
             ],
             [
              0.6666666666666666,
              "#ed7953"
             ],
             [
              0.7777777777777778,
              "#fb9f3a"
             ],
             [
              0.8888888888888888,
              "#fdca26"
             ],
             [
              1,
              "#f0f921"
             ]
            ],
            "type": "histogram2d"
           }
          ],
          "histogram2dcontour": [
           {
            "colorbar": {
             "outlinewidth": 0,
             "ticks": ""
            },
            "colorscale": [
             [
              0,
              "#0d0887"
             ],
             [
              0.1111111111111111,
              "#46039f"
             ],
             [
              0.2222222222222222,
              "#7201a8"
             ],
             [
              0.3333333333333333,
              "#9c179e"
             ],
             [
              0.4444444444444444,
              "#bd3786"
             ],
             [
              0.5555555555555556,
              "#d8576b"
             ],
             [
              0.6666666666666666,
              "#ed7953"
             ],
             [
              0.7777777777777778,
              "#fb9f3a"
             ],
             [
              0.8888888888888888,
              "#fdca26"
             ],
             [
              1,
              "#f0f921"
             ]
            ],
            "type": "histogram2dcontour"
           }
          ],
          "mesh3d": [
           {
            "colorbar": {
             "outlinewidth": 0,
             "ticks": ""
            },
            "type": "mesh3d"
           }
          ],
          "parcoords": [
           {
            "line": {
             "colorbar": {
              "outlinewidth": 0,
              "ticks": ""
             }
            },
            "type": "parcoords"
           }
          ],
          "pie": [
           {
            "automargin": true,
            "type": "pie"
           }
          ],
          "scatter": [
           {
            "fillpattern": {
             "fillmode": "overlay",
             "size": 10,
             "solidity": 0.2
            },
            "type": "scatter"
           }
          ],
          "scatter3d": [
           {
            "line": {
             "colorbar": {
              "outlinewidth": 0,
              "ticks": ""
             }
            },
            "marker": {
             "colorbar": {
              "outlinewidth": 0,
              "ticks": ""
             }
            },
            "type": "scatter3d"
           }
          ],
          "scattercarpet": [
           {
            "marker": {
             "colorbar": {
              "outlinewidth": 0,
              "ticks": ""
             }
            },
            "type": "scattercarpet"
           }
          ],
          "scattergeo": [
           {
            "marker": {
             "colorbar": {
              "outlinewidth": 0,
              "ticks": ""
             }
            },
            "type": "scattergeo"
           }
          ],
          "scattergl": [
           {
            "marker": {
             "colorbar": {
              "outlinewidth": 0,
              "ticks": ""
             }
            },
            "type": "scattergl"
           }
          ],
          "scattermapbox": [
           {
            "marker": {
             "colorbar": {
              "outlinewidth": 0,
              "ticks": ""
             }
            },
            "type": "scattermapbox"
           }
          ],
          "scatterpolar": [
           {
            "marker": {
             "colorbar": {
              "outlinewidth": 0,
              "ticks": ""
             }
            },
            "type": "scatterpolar"
           }
          ],
          "scatterpolargl": [
           {
            "marker": {
             "colorbar": {
              "outlinewidth": 0,
              "ticks": ""
             }
            },
            "type": "scatterpolargl"
           }
          ],
          "scatterternary": [
           {
            "marker": {
             "colorbar": {
              "outlinewidth": 0,
              "ticks": ""
             }
            },
            "type": "scatterternary"
           }
          ],
          "surface": [
           {
            "colorbar": {
             "outlinewidth": 0,
             "ticks": ""
            },
            "colorscale": [
             [
              0,
              "#0d0887"
             ],
             [
              0.1111111111111111,
              "#46039f"
             ],
             [
              0.2222222222222222,
              "#7201a8"
             ],
             [
              0.3333333333333333,
              "#9c179e"
             ],
             [
              0.4444444444444444,
              "#bd3786"
             ],
             [
              0.5555555555555556,
              "#d8576b"
             ],
             [
              0.6666666666666666,
              "#ed7953"
             ],
             [
              0.7777777777777778,
              "#fb9f3a"
             ],
             [
              0.8888888888888888,
              "#fdca26"
             ],
             [
              1,
              "#f0f921"
             ]
            ],
            "type": "surface"
           }
          ],
          "table": [
           {
            "cells": {
             "fill": {
              "color": "#EBF0F8"
             },
             "line": {
              "color": "white"
             }
            },
            "header": {
             "fill": {
              "color": "#C8D4E3"
             },
             "line": {
              "color": "white"
             }
            },
            "type": "table"
           }
          ]
         },
         "layout": {
          "annotationdefaults": {
           "arrowcolor": "#2a3f5f",
           "arrowhead": 0,
           "arrowwidth": 1
          },
          "autotypenumbers": "strict",
          "coloraxis": {
           "colorbar": {
            "outlinewidth": 0,
            "ticks": ""
           }
          },
          "colorscale": {
           "diverging": [
            [
             0,
             "#8e0152"
            ],
            [
             0.1,
             "#c51b7d"
            ],
            [
             0.2,
             "#de77ae"
            ],
            [
             0.3,
             "#f1b6da"
            ],
            [
             0.4,
             "#fde0ef"
            ],
            [
             0.5,
             "#f7f7f7"
            ],
            [
             0.6,
             "#e6f5d0"
            ],
            [
             0.7,
             "#b8e186"
            ],
            [
             0.8,
             "#7fbc41"
            ],
            [
             0.9,
             "#4d9221"
            ],
            [
             1,
             "#276419"
            ]
           ],
           "sequential": [
            [
             0,
             "#0d0887"
            ],
            [
             0.1111111111111111,
             "#46039f"
            ],
            [
             0.2222222222222222,
             "#7201a8"
            ],
            [
             0.3333333333333333,
             "#9c179e"
            ],
            [
             0.4444444444444444,
             "#bd3786"
            ],
            [
             0.5555555555555556,
             "#d8576b"
            ],
            [
             0.6666666666666666,
             "#ed7953"
            ],
            [
             0.7777777777777778,
             "#fb9f3a"
            ],
            [
             0.8888888888888888,
             "#fdca26"
            ],
            [
             1,
             "#f0f921"
            ]
           ],
           "sequentialminus": [
            [
             0,
             "#0d0887"
            ],
            [
             0.1111111111111111,
             "#46039f"
            ],
            [
             0.2222222222222222,
             "#7201a8"
            ],
            [
             0.3333333333333333,
             "#9c179e"
            ],
            [
             0.4444444444444444,
             "#bd3786"
            ],
            [
             0.5555555555555556,
             "#d8576b"
            ],
            [
             0.6666666666666666,
             "#ed7953"
            ],
            [
             0.7777777777777778,
             "#fb9f3a"
            ],
            [
             0.8888888888888888,
             "#fdca26"
            ],
            [
             1,
             "#f0f921"
            ]
           ]
          },
          "colorway": [
           "#636efa",
           "#EF553B",
           "#00cc96",
           "#ab63fa",
           "#FFA15A",
           "#19d3f3",
           "#FF6692",
           "#B6E880",
           "#FF97FF",
           "#FECB52"
          ],
          "font": {
           "color": "#2a3f5f"
          },
          "geo": {
           "bgcolor": "white",
           "lakecolor": "white",
           "landcolor": "#E5ECF6",
           "showlakes": true,
           "showland": true,
           "subunitcolor": "white"
          },
          "hoverlabel": {
           "align": "left"
          },
          "hovermode": "closest",
          "mapbox": {
           "style": "light"
          },
          "paper_bgcolor": "white",
          "plot_bgcolor": "#E5ECF6",
          "polar": {
           "angularaxis": {
            "gridcolor": "white",
            "linecolor": "white",
            "ticks": ""
           },
           "bgcolor": "#E5ECF6",
           "radialaxis": {
            "gridcolor": "white",
            "linecolor": "white",
            "ticks": ""
           }
          },
          "scene": {
           "xaxis": {
            "backgroundcolor": "#E5ECF6",
            "gridcolor": "white",
            "gridwidth": 2,
            "linecolor": "white",
            "showbackground": true,
            "ticks": "",
            "zerolinecolor": "white"
           },
           "yaxis": {
            "backgroundcolor": "#E5ECF6",
            "gridcolor": "white",
            "gridwidth": 2,
            "linecolor": "white",
            "showbackground": true,
            "ticks": "",
            "zerolinecolor": "white"
           },
           "zaxis": {
            "backgroundcolor": "#E5ECF6",
            "gridcolor": "white",
            "gridwidth": 2,
            "linecolor": "white",
            "showbackground": true,
            "ticks": "",
            "zerolinecolor": "white"
           }
          },
          "shapedefaults": {
           "line": {
            "color": "#2a3f5f"
           }
          },
          "ternary": {
           "aaxis": {
            "gridcolor": "white",
            "linecolor": "white",
            "ticks": ""
           },
           "baxis": {
            "gridcolor": "white",
            "linecolor": "white",
            "ticks": ""
           },
           "bgcolor": "#E5ECF6",
           "caxis": {
            "gridcolor": "white",
            "linecolor": "white",
            "ticks": ""
           }
          },
          "title": {
           "x": 0.05
          },
          "xaxis": {
           "automargin": true,
           "gridcolor": "white",
           "linecolor": "white",
           "ticks": "",
           "title": {
            "standoff": 15
           },
           "zerolinecolor": "white",
           "zerolinewidth": 2
          },
          "yaxis": {
           "automargin": true,
           "gridcolor": "white",
           "linecolor": "white",
           "ticks": "",
           "title": {
            "standoff": 15
           },
           "zerolinecolor": "white",
           "zerolinewidth": 2
          }
         }
        },
        "title": {
         "text": "Access to Water vs. Distance to Water"
        },
        "xaxis": {
         "anchor": "y",
         "domain": [
          0,
          1
         ],
         "title": {
          "text": "Entity"
         }
        },
        "yaxis": {
         "anchor": "x",
         "domain": [
          0,
          1
         ],
         "title": {
          "text": "weighted_med"
         }
        }
       }
      }
     },
     "metadata": {},
     "output_type": "display_data"
    }
   ],
   "source": [
    "#sort the countries by distance to water, plot the results\n",
    "df_countries.sort_values(by=\"weighted_med\", inplace=True)\n",
    "px.line(df_countries, x=\"Entity\", y=\"weighted_med\", color=\"region\", title=\"Access to Water vs. Distance to Water\")\n"
   ]
  },
  {
   "cell_type": "code",
   "execution_count": null,
   "metadata": {},
   "outputs": [],
   "source": []
  }
 ],
 "metadata": {
  "kernelspec": {
   "display_name": "Python 3",
   "language": "python",
   "name": "python3"
  },
  "language_info": {
   "codemirror_mode": {
    "name": "ipython",
    "version": 3
   },
   "file_extension": ".py",
   "mimetype": "text/x-python",
   "name": "python",
   "nbconvert_exporter": "python",
   "pygments_lexer": "ipython3",
   "version": "3.9.13"
  },
  "orig_nbformat": 4,
  "vscode": {
   "interpreter": {
    "hash": "c09a8b249899dc4589e662892666698668e7a3ca1327801a18c24efb244ad2c6"
   }
  }
 },
 "nbformat": 4,
 "nbformat_minor": 2
}
