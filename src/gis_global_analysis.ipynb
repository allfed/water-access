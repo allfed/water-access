{
 "cells": [
  {
   "cell_type": "code",
   "execution_count": 16,
   "metadata": {},
   "outputs": [],
   "source": [
    "\n",
    "import pathlib\n",
    "import pandas as pd\n",
    "import numpy as np\n",
    "import matplotlib.pyplot as plt\n",
    "import plotly.express as px\n",
    "import weightedstats as ws\n",
    "\n",
    "\n",
    "# consider using this for weighted stats: http://www.ccgalberta.com/pygeostat/welcome.html\n",
    "\n"
   ]
  },
  {
   "attachments": {},
   "cell_type": "markdown",
   "metadata": {},
   "source": [
    "## Functions and tools used in the analysis"
   ]
  },
  {
   "cell_type": "code",
   "execution_count": 17,
   "metadata": {},
   "outputs": [],
   "source": [
    "def weighted_mean(var, wts):\n",
    "    \"\"\"Calculates the weighted mean\"\"\"\n",
    "    return np.average(var, weights=wts)\n",
    "\n",
    "def weighted_median_series(val, weight):\n",
    "    \"\"\"Calculates the weighted median\n",
    "    ArithmeticError\n",
    "    If the sum of the weights is zero, or if the weights are not positive.\n",
    "    \"\"\"\n",
    "    try:\n",
    "        df = pd.DataFrame({\"val\": val, \"weight\": weight})\n",
    "        df_sorted = df.sort_values(\"val\")\n",
    "        cumsum = df_sorted[\"weight\"].cumsum()\n",
    "        cutoff = df_sorted[\"weight\"].sum() / 2.\n",
    "        result = df_sorted[cumsum >= cutoff][\"val\"].iloc[0]\n",
    "        # return just the value\n",
    "    except:\n",
    "        result = np.nan\n",
    "    return result\n",
    "\n",
    "def weighted_median(df, val_column, weight_column):\n",
    "    \"\"\"Calculates the weighted median\n",
    "    ArithmeticError\n",
    "    If the sum of the weights is zero, or if the weights are not positive.\n",
    "    \"\"\"\n",
    "    df_sorted = df.sort_values(val_column)\n",
    "    cumsum = df_sorted[weight_column].cumsum()\n",
    "    cutoff = df_sorted[weight_column].sum() / 2.\n",
    "    return df_sorted[cumsum >= cutoff][val_column].iloc[0]\n",
    "\n",
    "def run_weighted_median_on_grouped_df(df, groupby_column, value_column, weight_column):\n",
    "    \"\"\"Calculate the weighted median of a dataframe grouped by a column.\n",
    "    Args:\n",
    "        df (pandas.DataFrame): DataFrame to calculate weighted median on.\n",
    "        groupby_column (str): Column to group by.\n",
    "        value_column (str): Column to calculate weighted median on.\n",
    "        weight_column (str): Column to use as weight.\n",
    "    Returns:\n",
    "        pandas.DataFrame: DataFrame with weighted median for each group.\n",
    "    \"\"\"\n",
    "    # initialize empty list\n",
    "    d = []\n",
    "    # loop through each group\n",
    "    for i in df[groupby_column].unique():\n",
    "        df_group = df[df[groupby_column] == i]\n",
    "        # if rows in dataframe are more than 1, calculate weighted median\n",
    "        if len(df_group) > 1:\n",
    "            median = weighted_median(df_group, value_column, weight_column)\n",
    "        else:\n",
    "            median = df_group[value_column].values[0]\n",
    "        d.append(\n",
    "            {\n",
    "                groupby_column: i,\n",
    "                \"median\": median,\n",
    "            }\n",
    "        )\n",
    "    return pd.DataFrame(d)\n",
    "\n",
    "\n",
    "def load_data(data_file: str) -> pd.DataFrame:\n",
    "    '''\n",
    "    Load data from /data directory\n",
    "    '''\n",
    "    PATH = pathlib.Path().resolve()\n",
    "    DATA_PATH = PATH.joinpath(\"../data\").resolve()\n",
    "    return pd.read_csv(DATA_PATH.joinpath(data_file))\n",
    "\n"
   ]
  },
  {
   "attachments": {},
   "cell_type": "markdown",
   "metadata": {},
   "source": [
    "## Import Data from CSVs.\n",
    "CSVs created in previous script, which did the cycling mobility on a per country basis\n",
    "\n",
    "### GIS Data From QGIS Export\n",
    "https://ghsl.jrc.ec.europa.eu/download.php?ds=smod <- urbanisation\n",
    "\n",
    "https://www.earthenv.org/topography <- topography\n",
    "\n",
    "https://www.globio.info/download-grip-dataset <- roads\n"
   ]
  },
  {
   "cell_type": "code",
   "execution_count": 18,
   "metadata": {},
   "outputs": [],
   "source": [
    "\n",
    "\n",
    "df_zones_input= load_data(\"GIS/export_urb.csv\")\n",
    "# import df_input and set index as alpha 3 \n",
    "df_input = load_data(\"country_data_master_interpolated.csv\")\n",
    "\n",
    "## manual adjustment of some columns\n",
    "df_zones_input[\"dtw_1\"] = df_zones_input[\"dtw_1\"] / 1000 # turn to kms\n",
    "df_zones_input[\"max distance walking\"] = 3.0 # temp, set max distance reachbale for all countriesl, will change to be bespoke soon\n"
   ]
  },
  {
   "cell_type": "markdown",
   "metadata": {},
   "source": [
    "# Manage Urban / Rural Data\n",
    "Use the GHS_SMOD_E2020_GLOBE_R2023A_54009_1000_V1_0 dataset.\n",
    "from here: https://ghsl.jrc.ec.europa.eu/download.php?ds=smod"
   ]
  },
  {
   "cell_type": "code",
   "execution_count": 19,
   "metadata": {},
   "outputs": [
    {
     "data": {
      "text/plain": [
       "0    2220541\n",
       "1      42618\n",
       "Name: urban_rural, dtype: int64"
      ]
     },
     "execution_count": 19,
     "metadata": {},
     "output_type": "execute_result"
    }
   ],
   "source": [
    "\n",
    "# create new binary column for urban / rural. Rural is below 15, Urban above 15\n",
    "df_zones_input[\"urban_rural\"] = np.where(df_zones_input[\"URBAN_1\"] > 15, 1, 0)\n",
    "df_zones_input[\"urban_rural\"].value_counts()\n"
   ]
  },
  {
   "cell_type": "code",
   "execution_count": 20,
   "metadata": {},
   "outputs": [
    {
     "data": {
      "text/html": [
       "<div>\n",
       "<style scoped>\n",
       "    .dataframe tbody tr th:only-of-type {\n",
       "        vertical-align: middle;\n",
       "    }\n",
       "\n",
       "    .dataframe tbody tr th {\n",
       "        vertical-align: top;\n",
       "    }\n",
       "\n",
       "    .dataframe thead th {\n",
       "        text-align: right;\n",
       "    }\n",
       "</style>\n",
       "<table border=\"1\" class=\"dataframe\">\n",
       "  <thead>\n",
       "    <tr style=\"text-align: right;\">\n",
       "      <th></th>\n",
       "      <th>fid</th>\n",
       "      <th>id</th>\n",
       "      <th>left</th>\n",
       "      <th>top</th>\n",
       "      <th>right</th>\n",
       "      <th>bottom</th>\n",
       "      <th>Value</th>\n",
       "      <th>ISOCODE</th>\n",
       "      <th>UNSDCODE</th>\n",
       "      <th>NAME0</th>\n",
       "      <th>...</th>\n",
       "      <th>grip_1_1</th>\n",
       "      <th>grip_2_1</th>\n",
       "      <th>grip_3_1</th>\n",
       "      <th>grip_4_1</th>\n",
       "      <th>grip_5_1</th>\n",
       "      <th>tri_med_1</th>\n",
       "      <th>tri_max_1</th>\n",
       "      <th>URBAN_1</th>\n",
       "      <th>max distance walking</th>\n",
       "      <th>urban_rural</th>\n",
       "    </tr>\n",
       "  </thead>\n",
       "  <tbody>\n",
       "    <tr>\n",
       "      <th>0</th>\n",
       "      <td>1</td>\n",
       "      <td>4961630</td>\n",
       "      <td>60.500000</td>\n",
       "      <td>34.083333</td>\n",
       "      <td>60.583333</td>\n",
       "      <td>34.000000</td>\n",
       "      <td>4</td>\n",
       "      <td>AFG</td>\n",
       "      <td>4</td>\n",
       "      <td>Afghanistan</td>\n",
       "      <td>...</td>\n",
       "      <td>0.0</td>\n",
       "      <td>0.0</td>\n",
       "      <td>0.0</td>\n",
       "      <td>105.0</td>\n",
       "      <td>0.0</td>\n",
       "      <td>1.0000</td>\n",
       "      <td>18.500</td>\n",
       "      <td>11</td>\n",
       "      <td>3.0</td>\n",
       "      <td>0</td>\n",
       "    </tr>\n",
       "    <tr>\n",
       "      <th>1</th>\n",
       "      <td>2</td>\n",
       "      <td>4963347</td>\n",
       "      <td>60.583333</td>\n",
       "      <td>34.250000</td>\n",
       "      <td>60.666667</td>\n",
       "      <td>34.166667</td>\n",
       "      <td>4</td>\n",
       "      <td>AFG</td>\n",
       "      <td>4</td>\n",
       "      <td>Afghanistan</td>\n",
       "      <td>...</td>\n",
       "      <td>0.0</td>\n",
       "      <td>0.0</td>\n",
       "      <td>0.0</td>\n",
       "      <td>63.0</td>\n",
       "      <td>0.0</td>\n",
       "      <td>4.5000</td>\n",
       "      <td>40.750</td>\n",
       "      <td>11</td>\n",
       "      <td>3.0</td>\n",
       "      <td>0</td>\n",
       "    </tr>\n",
       "    <tr>\n",
       "      <th>2</th>\n",
       "      <td>3</td>\n",
       "      <td>4963348</td>\n",
       "      <td>60.583333</td>\n",
       "      <td>34.166667</td>\n",
       "      <td>60.666667</td>\n",
       "      <td>34.083333</td>\n",
       "      <td>4</td>\n",
       "      <td>AFG</td>\n",
       "      <td>4</td>\n",
       "      <td>Afghanistan</td>\n",
       "      <td>...</td>\n",
       "      <td>0.0</td>\n",
       "      <td>0.0</td>\n",
       "      <td>0.0</td>\n",
       "      <td>234.0</td>\n",
       "      <td>0.0</td>\n",
       "      <td>3.0000</td>\n",
       "      <td>9.750</td>\n",
       "      <td>11</td>\n",
       "      <td>3.0</td>\n",
       "      <td>0</td>\n",
       "    </tr>\n",
       "    <tr>\n",
       "      <th>3</th>\n",
       "      <td>4</td>\n",
       "      <td>4963349</td>\n",
       "      <td>60.583333</td>\n",
       "      <td>34.083333</td>\n",
       "      <td>60.666667</td>\n",
       "      <td>34.000000</td>\n",
       "      <td>4</td>\n",
       "      <td>AFG</td>\n",
       "      <td>4</td>\n",
       "      <td>Afghanistan</td>\n",
       "      <td>...</td>\n",
       "      <td>0.0</td>\n",
       "      <td>0.0</td>\n",
       "      <td>0.0</td>\n",
       "      <td>0.0</td>\n",
       "      <td>0.0</td>\n",
       "      <td>1.0625</td>\n",
       "      <td>15.125</td>\n",
       "      <td>11</td>\n",
       "      <td>3.0</td>\n",
       "      <td>0</td>\n",
       "    </tr>\n",
       "    <tr>\n",
       "      <th>4</th>\n",
       "      <td>5</td>\n",
       "      <td>4963350</td>\n",
       "      <td>60.583333</td>\n",
       "      <td>34.000000</td>\n",
       "      <td>60.666667</td>\n",
       "      <td>33.916667</td>\n",
       "      <td>4</td>\n",
       "      <td>AFG</td>\n",
       "      <td>4</td>\n",
       "      <td>Afghanistan</td>\n",
       "      <td>...</td>\n",
       "      <td>0.0</td>\n",
       "      <td>0.0</td>\n",
       "      <td>0.0</td>\n",
       "      <td>104.0</td>\n",
       "      <td>0.0</td>\n",
       "      <td>2.7500</td>\n",
       "      <td>17.500</td>\n",
       "      <td>11</td>\n",
       "      <td>3.0</td>\n",
       "      <td>0</td>\n",
       "    </tr>\n",
       "  </tbody>\n",
       "</table>\n",
       "<p>5 rows × 39 columns</p>\n",
       "</div>"
      ],
      "text/plain": [
       "   fid       id       left        top      right     bottom  Value ISOCODE  \\\n",
       "0    1  4961630  60.500000  34.083333  60.583333  34.000000      4     AFG   \n",
       "1    2  4963347  60.583333  34.250000  60.666667  34.166667      4     AFG   \n",
       "2    3  4963348  60.583333  34.166667  60.666667  34.083333      4     AFG   \n",
       "3    4  4963349  60.583333  34.083333  60.666667  34.000000      4     AFG   \n",
       "4    5  4963350  60.583333  34.000000  60.666667  33.916667      4     AFG   \n",
       "\n",
       "   UNSDCODE        NAME0  ...  grip_1_1 grip_2_1  grip_3_1  grip_4_1  \\\n",
       "0         4  Afghanistan  ...       0.0      0.0       0.0     105.0   \n",
       "1         4  Afghanistan  ...       0.0      0.0       0.0      63.0   \n",
       "2         4  Afghanistan  ...       0.0      0.0       0.0     234.0   \n",
       "3         4  Afghanistan  ...       0.0      0.0       0.0       0.0   \n",
       "4         4  Afghanistan  ...       0.0      0.0       0.0     104.0   \n",
       "\n",
       "   grip_5_1  tri_med_1  tri_max_1  URBAN_1  max distance walking  urban_rural  \n",
       "0       0.0     1.0000     18.500       11                   3.0            0  \n",
       "1       0.0     4.5000     40.750       11                   3.0            0  \n",
       "2       0.0     3.0000      9.750       11                   3.0            0  \n",
       "3       0.0     1.0625     15.125       11                   3.0            0  \n",
       "4       0.0     2.7500     17.500       11                   3.0            0  \n",
       "\n",
       "[5 rows x 39 columns]"
      ]
     },
     "execution_count": 20,
     "metadata": {},
     "output_type": "execute_result"
    }
   ],
   "source": [
    "df_zones_input.head()"
   ]
  },
  {
   "cell_type": "markdown",
   "metadata": {},
   "source": [
    "# Manage slope.\n",
    "\n",
    "Degrees from earthenv dataset"
   ]
  },
  {
   "cell_type": "code",
   "execution_count": 21,
   "metadata": {},
   "outputs": [
    {
     "data": {
      "text/plain": [
       "0.00     0.000000\n",
       "0.05     0.097832\n",
       "0.10     0.138355\n",
       "0.15     0.218758\n",
       "0.20     0.280146\n",
       "0.25     0.360782\n",
       "0.30     0.450444\n",
       "0.35     0.548193\n",
       "0.40     0.656249\n",
       "0.45     0.787484\n",
       "0.50     0.935736\n",
       "0.55     1.121305\n",
       "0.60     1.358873\n",
       "0.65     1.667845\n",
       "0.70     2.111629\n",
       "0.75     2.770306\n",
       "0.80     3.795188\n",
       "0.85     5.369263\n",
       "0.90     7.810654\n",
       "0.95    11.961503\n",
       "Name: slope_1, dtype: float64"
      ]
     },
     "execution_count": 21,
     "metadata": {},
     "output_type": "execute_result"
    },
    {
     "data": {
      "image/png": "[encoded data removed]",
      "text/plain": [
       "<Figure size 432x288 with 1 Axes>"
      ]
     },
     "metadata": {
      "needs_background": "light"
     },
     "output_type": "display_data"
    }
   ],
   "source": [
    "# histogram of slope_1 log scale\n",
    "df_zones_input[\"slope_1\"].hist(bins=100, log=False)\n",
    "\n",
    "# qunaitles of slope_1, do 20 quantiles\n",
    "df_zones_input[\"slope_1\"].quantile(np.arange(0, 1, 0.05))\n"
   ]
  },
  {
   "cell_type": "markdown",
   "metadata": {},
   "source": [
    "# Manage Roads\n",
    "\n"
   ]
  },
  {
   "attachments": {},
   "cell_type": "markdown",
   "metadata": {},
   "source": [
    "## Merge the dataframes\n",
    "Do some manual adjustments to populations"
   ]
  },
  {
   "cell_type": "code",
   "execution_count": 22,
   "metadata": {},
   "outputs": [],
   "source": [
    "\n",
    "# this analysis loses some data as the overlap between the rasters is not perfect. To reduce this error, use the 30 arc second data. Too much heavy lifting for my computer to do this at the moment.\n",
    "\n",
    "#merge df_input and df_zones on ISO_CC. This assigns all the country data to each zone.\n",
    "# join inner will remove some of the data that is not in both datasets\n",
    "df_zones = df_zones_input.merge(df_input, left_on=\"ISOCODE\", right_on=\"alpha3\", how=\"inner\")\n",
    "\n",
    "# these are the columns\n",
    "# alpha3,Unnamed: 0,Entity,Population,YearPBO,PBO,Terrain Ruggedness,Urban %,Urban Agg %,RoadQuality,Km,Urb %,Average household size (number of members),National At Least Basic,National Limit (more than 30 mins),National Unimproved,National Surface Water,Nat Accesible On Premises,Nat Piped,Nat NonPiped,No. HPs,Year of HP estimate,2015 (C),No. HPs in 2015,Non-functional HPs,Functional HPS,Risk Score,alpha2,region,subregion,borders,Mean BMI (male),Mean BMI (female),Mean male height (cm),Mean female height (cm),women weight,men weight,percent_insufficient_activity,Average Weight,power,Crr,trip_velocity_mean,unloaded_velocity_mean,loaded_velocity_mean,velocitykgs,water_ration_kms\n",
    "\n",
    "#adjust population to account for 9 values per raster point (2.5 to 5 arc min resoltuions. 9 values per point)\n",
    "df_zones[\"AdjPopFloat\"] = df_zones[\"pop_count_15_1\"] / 9 \n",
    "\n",
    "# # convert population density to percent of national population on a per country basis, grouped by ISO_CC\n",
    "df_zones[\"pop_density_perc\"] = df_zones.groupby(\"ISOCODE\")[\"AdjPopFloat\"].apply(lambda x: x / x.sum())\n",
    "\n",
    "# multiply population density by population on a per country basis\n",
    "df_zones[\"pop_zone\"] = df_zones[\"pop_density_perc\"] * df_zones[\"Population\"]\n",
    "\n"
   ]
  },
  {
   "cell_type": "code",
   "execution_count": 23,
   "metadata": {},
   "outputs": [],
   "source": [
    "# sum the population in each zone\n",
    "df_zones[\"country_pop_raw\"] = df_zones.groupby(\"ISOCODE\")[\"pop_zone\"].transform(\"sum\")\n",
    "df_zones[\"country_pop_ratio\"] = df_zones.groupby(\"ISOCODE\")[\"AdjPopFloat\"].transform(\"sum\")\n"
   ]
  },
  {
   "cell_type": "markdown",
   "metadata": {},
   "source": [
    "## Do Road Analysis from GRIP Data"
   ]
  },
  {
   "cell_type": "code",
   "execution_count": 46,
   "metadata": {},
   "outputs": [
    {
     "data": {
      "text/plain": [
       "<AxesSubplot:>"
      ]
     },
     "execution_count": 46,
     "metadata": {},
     "output_type": "execute_result"
    },
    {
     "data": {
      "image/png": "[encoded data removed]",
      "text/plain": [
       "<Figure size 432x288 with 1 Axes>"
      ]
     },
     "metadata": {
      "needs_background": "light"
     },
     "output_type": "display_data"
    }
   ],
   "source": [
    "def find_dominant_road(row):\n",
    "    if row.sum() == 0 or row.isna().all():\n",
    "       'No Roads'\n",
    "    else:\n",
    "        return row.idxmax()\n",
    "\n",
    "\n",
    "def find_first_non_zero_road(row):\n",
    "    columns_in_hierarchy = [\"grip_1_1\", \"grip_2_1\", \"grip_3_1\", \"grip_4_1\", \"grip_5_1\"]\n",
    "    for col in columns_in_hierarchy:\n",
    "        if row[col] != 0:\n",
    "            return col\n",
    "    return 'No Roads'\n",
    "\n",
    "\n",
    "df_zones['dominant_road_type'] = df_zones[[\"grip_1_1\", \"grip_2_1\", \"grip_3_1\", \"grip_4_1\", \"grip_5_1\"]].apply(find_first_non_zero_road, axis=1)\n",
    "\n",
    "df_zones['dominant_road_type'] = df_zones['dominant_road_type'].replace({\n",
    "    'grip_1_1': 'Highways',\n",
    "    'grip_2_1': 'Primary Roads',\n",
    "    'grip_3_1': 'Secondary Roads',\n",
    "    'grip_4_1': 'Tertiary Roads',\n",
    "    'grip_5_1': 'Local Roads'\n",
    "})\n",
    "\n",
    "\n",
    "# histogram of dominant road type\n",
    "df_zones['dominant_road_type'].value_counts().plot(kind='bar')\n",
    "\n",
    "\n",
    "\n",
    "\n",
    "\n"
   ]
  },
  {
   "cell_type": "code",
   "execution_count": 43,
   "metadata": {},
   "outputs": [
    {
     "data": {
      "text/html": [
       "<div>\n",
       "<style scoped>\n",
       "    .dataframe tbody tr th:only-of-type {\n",
       "        vertical-align: middle;\n",
       "    }\n",
       "\n",
       "    .dataframe tbody tr th {\n",
       "        vertical-align: top;\n",
       "    }\n",
       "\n",
       "    .dataframe thead th {\n",
       "        text-align: right;\n",
       "    }\n",
       "</style>\n",
       "<table border=\"1\" class=\"dataframe\">\n",
       "  <thead>\n",
       "    <tr style=\"text-align: right;\">\n",
       "      <th></th>\n",
       "      <th>grip_1_1</th>\n",
       "      <th>grip_2_1</th>\n",
       "      <th>grip_3_1</th>\n",
       "      <th>grip_4_1</th>\n",
       "      <th>grip_5_1</th>\n",
       "      <th>dominant_road_type</th>\n",
       "    </tr>\n",
       "  </thead>\n",
       "  <tbody>\n",
       "    <tr>\n",
       "      <th>0</th>\n",
       "      <td>0.0</td>\n",
       "      <td>0.0</td>\n",
       "      <td>0.0</td>\n",
       "      <td>105.0</td>\n",
       "      <td>0.0</td>\n",
       "      <td>Tertiary Roads</td>\n",
       "    </tr>\n",
       "    <tr>\n",
       "      <th>1</th>\n",
       "      <td>0.0</td>\n",
       "      <td>0.0</td>\n",
       "      <td>0.0</td>\n",
       "      <td>63.0</td>\n",
       "      <td>0.0</td>\n",
       "      <td>Tertiary Roads</td>\n",
       "    </tr>\n",
       "    <tr>\n",
       "      <th>2</th>\n",
       "      <td>0.0</td>\n",
       "      <td>0.0</td>\n",
       "      <td>0.0</td>\n",
       "      <td>234.0</td>\n",
       "      <td>0.0</td>\n",
       "      <td>Tertiary Roads</td>\n",
       "    </tr>\n",
       "    <tr>\n",
       "      <th>3</th>\n",
       "      <td>0.0</td>\n",
       "      <td>0.0</td>\n",
       "      <td>0.0</td>\n",
       "      <td>0.0</td>\n",
       "      <td>0.0</td>\n",
       "      <td>No Roads</td>\n",
       "    </tr>\n",
       "    <tr>\n",
       "      <th>4</th>\n",
       "      <td>0.0</td>\n",
       "      <td>0.0</td>\n",
       "      <td>0.0</td>\n",
       "      <td>104.0</td>\n",
       "      <td>0.0</td>\n",
       "      <td>Tertiary Roads</td>\n",
       "    </tr>\n",
       "  </tbody>\n",
       "</table>\n",
       "</div>"
      ],
      "text/plain": [
       "   grip_1_1  grip_2_1  grip_3_1  grip_4_1  grip_5_1 dominant_road_type\n",
       "0       0.0       0.0       0.0     105.0       0.0     Tertiary Roads\n",
       "1       0.0       0.0       0.0      63.0       0.0     Tertiary Roads\n",
       "2       0.0       0.0       0.0     234.0       0.0     Tertiary Roads\n",
       "3       0.0       0.0       0.0       0.0       0.0           No Roads\n",
       "4       0.0       0.0       0.0     104.0       0.0     Tertiary Roads"
      ]
     },
     "execution_count": 43,
     "metadata": {},
     "output_type": "execute_result"
    }
   ],
   "source": [
    "# radnomly sample 1000 points from the dataframe, only the columns related to roads:\n",
    "# grip_1_1, grip_2_1, grip_3_1, grip_4_1, grip_5_1, dominant_road_type\n",
    "df_zones_roads = df_zones[[\"grip_1_1\", \"grip_2_1\", \"grip_3_1\", \"grip_4_1\", \"grip_5_1\", \"dominant_road_type\"]]#.sample(n=10000, random_state=1)\n",
    "\n",
    "# # filtered dataframe of grip_1_1 > 0\n",
    "# df_zones_roads_grip_1_1 = df_zones_roads[df_zones_roads[\"grip_1_1\"] > 0]\n",
    "\n",
    "\n",
    "# # plot histogram of dominant road type\n",
    "# df_zones_roads_grip_1_1['dominant_road_type'].value_counts().plot(kind='bar')\n",
    "\n",
    "\n",
    "# # df_zones_roads[df_zones_roads[\"grip_1_1\"] > 0]\n",
    "\n",
    "\n",
    "df_zones_roads.head()\n",
    "\n"
   ]
  },
  {
   "cell_type": "code",
   "execution_count": 44,
   "metadata": {},
   "outputs": [
    {
     "data": {
      "text/plain": [
       "count    1.481674e+06\n",
       "mean     2.858239e+00\n",
       "std      4.484592e+00\n",
       "min      0.000000e+00\n",
       "25%      3.763624e-01\n",
       "50%      9.683968e-01\n",
       "75%      2.984939e+00\n",
       "max      5.051991e+01\n",
       "Name: slope_1, dtype: float64"
      ]
     },
     "execution_count": 44,
     "metadata": {},
     "output_type": "execute_result"
    }
   ],
   "source": [
    "# df_zones['dominant_road_type'].value_counts().plot(kind='bar')\n",
    "\n",
    "# histogram og househould\n",
    "# df_zones['Average household size (number of members)'].hist(bins=100)\n",
    "\n",
    "# export to csvdf_zones:\n",
    "# df_zones.to_csv('../data/df_zones.csv')\n",
    "\n",
    "# plot average household size in increasing order using plotly\n",
    "# fig = px.line(df_input.sort_values(by='Average household size (number of members)'), x=\"Entity\", y=\"Average household size (number of members)\", color=\"subregion\")\n",
    "# # px.line(df_input.sort_values(by='Average household size (number of members)')['Average household size (number of members)'])\n",
    "# # save plot\n",
    "# fig.write_html(\"../data/average_household_size.html\")\n",
    "\n",
    "\n",
    "# create a new series with the 'inhabited vrm' values. THis uses any_pop, put over the top of the vrm values, 'vrm1'\n",
    "# find non zero values AdjPopFloat\n",
    "df_zones[\"any_pop\"] = df_zones[\"AdjPopFloat\"].apply(\n",
    "    lambda x: 1 if x > 10 else 0\n",
    ")\n",
    "\n",
    "\n",
    "df_zones[\"any_pop\"].describe()\n",
    "\n",
    "# describe vrm filtered by any_pop =1\n",
    "df_zones[df_zones[\"any_pop\"] == 1][\"slope_1\"].describe()\n",
    "\n"
   ]
  },
  {
   "attachments": {},
   "cell_type": "markdown",
   "metadata": {},
   "source": [
    "## The section below calculates the population per zone that can reach water\n",
    "\n",
    "Consider putting in household size and bike sharing here"
   ]
  },
  {
   "cell_type": "code",
   "execution_count": null,
   "metadata": {},
   "outputs": [],
   "source": [
    "df_input.head()"
   ]
  },
  {
   "cell_type": "code",
   "execution_count": null,
   "metadata": {},
   "outputs": [],
   "source": [
    "# df_zones[\"max distance cycling\"] needs to use the road type and slope to select appropriate value from tables\n"
   ]
  },
  {
   "cell_type": "code",
   "execution_count": null,
   "metadata": {},
   "outputs": [],
   "source": [
    "# # population with piped water\n",
    "\n",
    "# set df_zones[\"zone_pop_piped\"] to 0 for all zones to begin with\n",
    "df_zones[\"zone_pop_piped\"] = 0\n",
    "\n",
    "# if urban use urban piped and unpiped, if rural use rural piped and unpiped\n",
    "# use the urban_rural column to do this (where urban_rural = 1, use urban, where urban_rural = 0, use rural)\n",
    "df_zones[\"zone_pop_piped\"] = df_zones[\"pop_zone\"] * df_zones[\"urban_rural\"] * df_zones[\"URBANPiped\"]/100 + df_zones[\"pop_zone\"] * (1-df_zones[\"urban_rural\"]) * df_zones[\"RURALPiped\"]/100\n",
    "df_zones[\"zone_pop_unpiped\"] = df_zones[\"pop_zone\"] * df_zones[\"urban_rural\"] * df_zones[\"URBANNon-piped\"]/100 + df_zones[\"pop_zone\"] * (1-df_zones[\"urban_rural\"]) * df_zones[\"RURALNon-piped\"]/100\n",
    "\n",
    "\n",
    "# is it possible to reach water with walking/cycling\n",
    "df_zones[\"zone_cycling_okay\"] = (df_zones[\"dtw_1\"] < df_zones[\"max distance cycling\"])*1 # multiply by 1 to force to binary not true/false\n",
    "df_zones[\"zone_walking_okay\"] = (df_zones[\"dtw_1\"] < df_zones[\"max distance walking\"])*1\n",
    "\n",
    "# how many people can collect water in the zone\n",
    "df_zones[\"fraction_of_zone_with_cycling_access\"] = df_zones[\"zone_cycling_okay\"]* (df_zones[\"PBO\"])/100\n",
    "df_zones[\"fraction_of_zone_with_walking_access\"] = df_zones[\"zone_walking_okay\"] * 1\n",
    "\n",
    "#\n",
    "df_zones[\"population_piped_with_cycling_access\"] = df_zones[\"fraction_of_zone_with_cycling_access\"] * df_zones[\"zone_pop_piped\"]\n",
    "df_zones[\"population_piped_with_walking_access\"] = df_zones[\"fraction_of_zone_with_walking_access\"] * df_zones[\"zone_pop_piped\"]\n",
    "\n",
    "# select the maximum between the two, if walkable, max will always be walking\n",
    "df_zones[\"population_piped_with_access\"] = df_zones[[\"population_piped_with_cycling_access\", \"population_piped_with_walking_access\"]].max(axis=1)\n",
    "\n",
    "# zone pop without water\n",
    "df_zones[\"zone_pop_with_water\"] =  df_zones[\"population_piped_with_access\"] + df_zones[\"zone_pop_unpiped\"]\n",
    "df_zones[\"zone_pop_without_water\"] = df_zones[\"pop_zone\"] - df_zones[\"zone_pop_with_water\"]\n",
    "\n",
    "\n",
    "# use water_ration_kms to calculate the water ration achievable per bike per zone\n",
    "df_zones[\"water_rations_per_bike\"] = df_zones[\"water_ration_kms\"] / df_zones[\"dtw_1\"]\n",
    "\n",
    "# number oif bikes per zone is population divided by household nuymber multipled by PBO\n",
    "df_zones[\"bikes_in_zone\"] = df_zones[\"pop_zone\"] / df_zones[\"Average household size (number of members)\"] * df_zones[\"PBO\"]\n",
    "\n",
    "#water rations achievable utilising all the bikes in the zone is the number of bikes in the zone multiplied by the water rations per bike\n",
    "df_zones[\"water_rations_achievable\"] = df_zones[\"bikes_in_zone\"] * df_zones[\"water_rations_per_bike\"]\n",
    "\n",
    "# population w\n",
    "\n",
    "\n",
    "# NOTE this has the t = 8_hours baked in to it. This could be wrong, maybe we should use daylight hours instead? If the bikes are being shared.\n",
    "\n",
    "\n"
   ]
  },
  {
   "attachments": {},
   "cell_type": "markdown",
   "metadata": {},
   "source": [
    "## Group the zones in to country groups\n",
    "Use groupby agg and then apply to summarise the zone data in to country level, then create some summary columns"
   ]
  },
  {
   "cell_type": "code",
   "execution_count": null,
   "metadata": {},
   "outputs": [],
   "source": [
    "# use groupby to create dataframe of country level data from df_zones\n",
    "df_countries = df_zones.groupby(\"ISOCODE\").agg({\n",
    "    \"Entity\":\"first\",\n",
    "    \"country_pop_raw\": \"first\",\n",
    "    \"zone_pop_with_water\":\"sum\",\n",
    "    \"zone_pop_without_water\":\"sum\",\n",
    "    \"population_piped_with_access\":\"sum\"  ,\n",
    "    \"population_piped_with_cycling_access\":\"sum\",\n",
    "    \"population_piped_with_walking_access\":\"sum\",\n",
    "    \"Nat Piped\":\"first\",\n",
    "    \"region\":\"first\",\n",
    "    \"subregion\":\"first\",\n",
    "    # call the weighted median function on the column\n",
    "}).reset_index()\n",
    "\n",
    "# use groupby to create weighted median, needs to be speerate from the above groupby as it uses apply, which can't be used in the same groupby\n",
    "# needs to use apply because the function required two columns as input\n",
    "df_median_group = df_zones.groupby(['ISOCODE']).apply(lambda x : pd.Series({'weighted_med':weighted_median(x,\"dtw_1\",\"pop_zone\")}))\n",
    "\n",
    "# merge the weighted median back into the df_countries dataframe\n",
    "df_countries = df_countries.merge(df_median_group, on=\"ISOCODE\")\n",
    "\n",
    "# drop rows from the dataframe that have Nan in pop_zone and dtw_1\n",
    "df_zones = df_zones.dropna(subset=[\"pop_zone\", \"dtw_1\"])\n",
    "\n",
    "# create summary columns\n",
    "#rename zone columns to country\n",
    "df_countries = df_countries.rename(columns={\"zone_pop_with_water\":\"country_pop_with_water\", \"zone_pop_without_water\":\"country_pop_without_water\"})\n",
    "# create percent\n",
    "df_countries[\"percent_with_water\"] = df_countries[\"country_pop_with_water\"] / df_countries[\"country_pop_raw\"] * 100\n",
    "df_countries[\"percent_without_water\"] = df_countries[\"country_pop_without_water\"] / df_countries[\"country_pop_raw\"] * 100"
   ]
  },
  {
   "attachments": {},
   "cell_type": "markdown",
   "metadata": {},
   "source": [
    "Clean Up Data"
   ]
  },
  {
   "cell_type": "code",
   "execution_count": null,
   "metadata": {},
   "outputs": [],
   "source": [
    "# Clean up data from spurious country values\n",
    "# uses libya as the max possible diatnce to water (from Kummu paper results)\n",
    "\n",
    "# remove any nan rows\n",
    "df_countries = df_countries.dropna()\n",
    "\n",
    "\n",
    "# first pass clean up\n",
    "\n",
    "# remove any rows where the median is more than 1km more than \"LBY\" (Libya)'s median\n",
    "max_distance = df_countries.loc[df_countries[\"ISOCODE\"] == \"LBY\", \"weighted_med\"].values[0] + 1\n",
    "countries_further_than_libya = df_countries[df_countries[\"weighted_med\"] > max_distance]\n",
    "df_countries = df_countries[df_countries[\"weighted_med\"] < max_distance]\n",
    "\n",
    "####### Manual remove countries ###############\n",
    "# inspecting the results, there are a few countries that are clearly wrong, remove them manually\n",
    "list_of_countries_to_remove = [\"GUM\", \"ASM\", \"TON\", \"MNP\", \"ATG\", \"DMA\", \"ABW\", \"BRB\"]\n",
    "df_of_countries_to_remove = df_countries[df_countries[\"ISOCODE\"].isin(list_of_countries_to_remove)]\n",
    "df_countries = df_countries[~df_countries[\"ISOCODE\"].isin(list_of_countries_to_remove)]\n",
    "##############################\n",
    "\n",
    "\n",
    "# summary of removed countries\n",
    "print(\"Countries removed from analysis\")\n",
    "print(countries_further_than_libya[[\"Entity\", \"weighted_med\"]])\n",
    "print(\"Countries removed manually\")\n",
    "print(df_of_countries_to_remove[[\"Entity\", \"weighted_med\"]])\n",
    "\n",
    "\n",
    "\n",
    "\n"
   ]
  },
  {
   "attachments": {},
   "cell_type": "markdown",
   "metadata": {},
   "source": [
    "# Plotting and Visualising"
   ]
  },
  {
   "cell_type": "code",
   "execution_count": null,
   "metadata": {},
   "outputs": [],
   "source": [
    "# create choropleth map of population with water from df_country\n",
    "\n",
    "hover_data_list =[\n",
    "    \"Entity\",\n",
    "    \"country_pop_raw\",\n",
    "    \"country_pop_with_water\",\n",
    "    \"country_pop_without_water\",\n",
    "    \"population_piped_with_access\",\n",
    "    \"population_piped_with_cycling_access\",\n",
    "    \"population_piped_with_walking_access\",\n",
    "    \"percent_without_water\",\n",
    "    \"percent_with_water\",\n",
    "    \"Nat Piped\",\n",
    "    \"region\",\n",
    "    \"subregion\",\n",
    "    \"weighted_med\"\n",
    "    ]\n",
    "\n",
    "\n",
    "choro = px.choropleth(\n",
    "    title=\"Percent of Population Has to Relocate\",\n",
    "    data_frame=df_countries,\n",
    "    locations=\"ISOCODE\",\n",
    "    height=600,\n",
    "    color=\"percent_without_water\",\n",
    "    hover_name=\"Entity\",\n",
    "    hover_data=hover_data_list\n",
    ")\n",
    "choro.layout.coloraxis.colorbar.title = ''\n",
    "choro.show()\n"
   ]
  },
  {
   "cell_type": "code",
   "execution_count": null,
   "metadata": {},
   "outputs": [],
   "source": [
    "# create bubble chart from df_countries comprising: access to water, piped water, and using population as the size of the bubble\n",
    "# create a new column for the size of the bubble\n",
    "df_countries[\"bubble_size\"] = df_countries[\"country_pop_raw\"] / 1000000 +50\n",
    "\n",
    "# create a new column for the color of the bubble\n",
    "df_countries[\"bubble_color\"] = df_countries[\"Nat Piped\"]\n",
    "\n",
    "# create a new column for the text of the bubble\n",
    "df_countries[\"bubble_text\"] = df_countries[\"Entity\"]\n",
    "\n",
    "px.scatter(df_countries, x=\"percent_without_water\", y=\"Nat Piped\", size=\"bubble_size\", color=\"region\", hover_name=\"bubble_text\", title=\"Access to Water vs. Piped Water vs. Population\")"
   ]
  },
  {
   "attachments": {},
   "cell_type": "markdown",
   "metadata": {},
   "source": [
    "Above graph is the money shot. NMeed to fix bubble sizes, maybe add labels"
   ]
  },
  {
   "cell_type": "code",
   "execution_count": null,
   "metadata": {},
   "outputs": [],
   "source": [
    "#sort the countries by distance to water, plot the results\n",
    "df_countries.sort_values(by=\"weighted_med\", inplace=True)\n",
    "# add log scale\n",
    "px.line(df_countries, x=\"Entity\", y=\"weighted_med\", color=\"subregion\", title=\"Distance to Water\", log_y=True)\n"
   ]
  },
  {
   "cell_type": "code",
   "execution_count": null,
   "metadata": {},
   "outputs": [],
   "source": [
    "# plot the countries by population withgout water and percent without water\n",
    "px.scatter(df_countries, x=\"percent_without_water\", y=\"country_pop_without_water\", size=\"bubble_size\", color=\"region\", hover_name=\"bubble_text\", title=\"Population vs. Percent Without Water\")\n"
   ]
  },
  {
   "cell_type": "code",
   "execution_count": null,
   "metadata": {},
   "outputs": [],
   "source": [
    "# summary statistics of zones by for slected country\n",
    "# select country\n",
    "country = \"CAF\"\n",
    "\n",
    "# interertsinbg ciolumns\n",
    "interesting_cols =[\n",
    "    \"Entity\",\n",
    "    \"dtw_1\",\n",
    "    \"pop_zone\",\n",
    "    \"country_pop_raw\",\n",
    "    \"population_piped_with_access\",\n",
    "    \"population_piped_with_cycling_access\",\n",
    "    \"population_piped_with_walking_access\",\n",
    "    \"Nat Piped\",\n",
    "    \"region\",\n",
    "]\n",
    "\n",
    "other_cols = [\n",
    "    \"zone_pop_unpiped\",\n",
    "    \"zone_pop_piped\",\n",
    "    \"pop_zone\"\n",
    "\n",
    "]\n",
    "\n",
    "# create dataframe of zones for selected country\n",
    "df_zones_country = df_zones[df_zones[\"ISOCODE\"] == country]\n",
    "df_zones_country = df_zones_country[other_cols]\n",
    "\n",
    "# create summary statistics\n",
    "df_zones_country.describe()\n",
    "\n",
    "\n",
    "\n",
    "\n",
    "\n"
   ]
  },
  {
   "cell_type": "code",
   "execution_count": null,
   "metadata": {},
   "outputs": [],
   "source": [
    "# create stacked bar chart, stacking  \"country_pop_with_water\", and \"country_pop_without_water\" on the y axis as two bars. Using region as the x axis.\n",
    "# px.bar(df_countries, x=\"region\", y=[\"country_pop_with_water\", \"country_pop_without_water\"], title=\"Population with Water vs. Population without Water\", hover_data=[\"Entity\"])\n",
    "\n",
    "# create the same, but put the bars side by side\n",
    "px.bar(df_countries, x=\"region\", y=[\"country_pop_with_water\", \"country_pop_without_water\"], barmode=\"group\", title=\"Population with Water vs. Population without Water\", hover_data=[\"Entity\"])\n",
    "\n",
    "\n",
    "\n",
    "\n"
   ]
  },
  {
   "cell_type": "code",
   "execution_count": null,
   "metadata": {},
   "outputs": [],
   "source": []
  }
 ],
 "metadata": {
  "kernelspec": {
   "display_name": "Python 3",
   "language": "python",
   "name": "python3"
  },
  "language_info": {
   "codemirror_mode": {
    "name": "ipython",
    "version": 3
   },
   "file_extension": ".py",
   "mimetype": "text/x-python",
   "name": "python",
   "nbconvert_exporter": "python",
   "pygments_lexer": "ipython3",
   "version": "3.9.13"
  },
  "orig_nbformat": 4,
  "vscode": {
   "interpreter": {
    "hash": "c09a8b249899dc4589e662892666698668e7a3ca1327801a18c24efb244ad2c6"
   }
  }
 },
 "nbformat": 4,
 "nbformat_minor": 2
}
