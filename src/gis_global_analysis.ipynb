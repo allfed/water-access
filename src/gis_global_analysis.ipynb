{
 "cells": [
  {
   "cell_type": "code",
   "execution_count": null,
   "metadata": {},
   "outputs": [],
   "source": [
    "\n",
    "import pathlib\n",
    "import pandas as pd\n",
    "import numpy as np\n",
    "import matplotlib.pyplot as plt\n",
    "import plotly.express as px\n",
    "import weightedstats as ws\n",
    "\n",
    "\n",
    "# consider using this for weighted stats: http://www.ccgalberta.com/pygeostat/welcome.html\n",
    "\n"
   ]
  },
  {
   "attachments": {},
   "cell_type": "markdown",
   "metadata": {},
   "source": [
    "## Functions and tools used in the analysis"
   ]
  },
  {
   "cell_type": "code",
   "execution_count": null,
   "metadata": {},
   "outputs": [],
   "source": [
    "def weighted_mean(var, wts):\n",
    "    \"\"\"Calculates the weighted mean\"\"\"\n",
    "    return np.average(var, weights=wts)\n",
    "\n",
    "def weighted_median_series(val, weight):\n",
    "    \"\"\"Calculates the weighted median\n",
    "    ArithmeticError\n",
    "    If the sum of the weights is zero, or if the weights are not positive.\n",
    "    \"\"\"\n",
    "    try:\n",
    "        df = pd.DataFrame({\"val\": val, \"weight\": weight})\n",
    "        df_sorted = df.sort_values(\"val\")\n",
    "        cumsum = df_sorted[\"weight\"].cumsum()\n",
    "        cutoff = df_sorted[\"weight\"].sum() / 2.\n",
    "        result = df_sorted[cumsum >= cutoff][\"val\"].iloc[0]\n",
    "        # return just the value\n",
    "    except:\n",
    "        result = np.nan\n",
    "    return result\n",
    "\n",
    "\n",
    "def weighted_median(df, val_column, weight_column):\n",
    "    \"\"\"Calculates the weighted median\n",
    "    ArithmeticError\n",
    "    If the sum of the weights is zero, or if the weights are not positive.\n",
    "    \"\"\"\n",
    "    df_sorted = df.sort_values(val_column)\n",
    "    cumsum = df_sorted[weight_column].cumsum()\n",
    "    cutoff = df_sorted[weight_column].sum() / 2.\n",
    "    return df_sorted[cumsum >= cutoff][val_column].iloc[0]\n",
    "\n",
    "def weighted_variance(var, wts):\n",
    "    \"\"\"Calculates the weighted variance\"\"\"\n",
    "    return np.average((var - weighted_mean(var, wts))**2, weights=wts)\n",
    "\n",
    "\n",
    "def weighted_skew(var, wts):\n",
    "    \"\"\"Calculates the weighted skewness\"\"\"\n",
    "    return (np.average((var - weighted_mean(var, wts))**3, weights=wts) /\n",
    "            weighted_variance(var, wts)**(1.5))\n",
    "\n",
    "def weighted_kurtosis(var, wts):\n",
    "    \"\"\"Calculates the weighted skewness\"\"\"\n",
    "    return (np.average((var - weighted_mean(var, wts))**4, weights=wts) /\n",
    "            weighted_variance(var, wts)**(2))\n",
    "\n",
    "\n",
    "\n",
    "def run_weighted_median_on_grouped_df(df, groupby_column, value_column, weight_column):\n",
    "    \"\"\"Calculate the weighted median of a dataframe grouped by a column.\n",
    "    Args:\n",
    "        df (pandas.DataFrame): DataFrame to calculate weighted median on.\n",
    "        groupby_column (str): Column to group by.\n",
    "        value_column (str): Column to calculate weighted median on.\n",
    "        weight_column (str): Column to use as weight.\n",
    "    Returns:\n",
    "        pandas.DataFrame: DataFrame with weighted median for each group.\n",
    "    \"\"\"\n",
    "    # initialize empty list\n",
    "    d = []\n",
    "    # loop through each group\n",
    "    for i in df[groupby_column].unique():\n",
    "        df_group = df[df[groupby_column] == i]\n",
    "        # if rows in dataframe are more than 1, calculate weighted median\n",
    "        if len(df_group) > 1:\n",
    "            median = weighted_median(df_group, value_column, weight_column)\n",
    "        else:\n",
    "            median = df_group[value_column].values[0]\n",
    "        d.append(\n",
    "            {\n",
    "                groupby_column: i,\n",
    "                \"median\": median,\n",
    "            }\n",
    "        )\n",
    "    return pd.DataFrame(d)\n",
    "\n",
    "\n",
    "def load_data(data_file: str) -> pd.DataFrame:\n",
    "    '''\n",
    "    Load data from /data directory\n",
    "    '''\n",
    "    PATH = pathlib.Path().resolve()\n",
    "    DATA_PATH = PATH.joinpath(\"../data\").resolve()\n",
    "    return pd.read_csv(DATA_PATH.joinpath(data_file))\n",
    "\n"
   ]
  },
  {
   "attachments": {},
   "cell_type": "markdown",
   "metadata": {},
   "source": [
    "## Import Data from CSVs.\n",
    "CSVs created in previous script, which did the cycling mobility on a per country basis"
   ]
  },
  {
   "cell_type": "code",
   "execution_count": null,
   "metadata": {},
   "outputs": [],
   "source": [
    "\n",
    "\n",
    "df_zones_input= load_data(\"GIS/points_5min_15min_dtw_csv.csv\")\n",
    "# import df_input and set index as alpha 3 \n",
    "df_input = load_data(\"country_data_with_cycling_distance.csv\")\n",
    "\n",
    "## manual adjustment of some columns\n",
    "df_zones_input[\"dtw_1\"] = df_zones_input[\"dtw_1\"] / 1000 # turn to kms\n",
    "df_zones_input[\"max distance walking\"] = 3.0 # temp, set max distance reachbale for all countriesl, will change to be bespoke soon\n",
    "df_input[\"max distance cycling\"] = 8 * df_input[\"trip_velocity_mean\"] # temp, set max distance reachbale for all countriesl, will change to be bespoke soon"
   ]
  },
  {
   "attachments": {},
   "cell_type": "markdown",
   "metadata": {},
   "source": [
    "## Merge the dataframes\n",
    "Do some manual adjustments to populations"
   ]
  },
  {
   "cell_type": "code",
   "execution_count": null,
   "metadata": {},
   "outputs": [],
   "source": [
    "\n",
    "# this analysis loses some data as the overlap between the rasters is not perfect. To reduce this error, use the 30 arc second data. Too much heavy lifting for my computer to do this at the moment.\n",
    "\n",
    "#merge df_input and df_zones on ISO_CC. This assigns all the country data to each zone.\n",
    "# join inner will remove some of the data that is not in both datasets\n",
    "df_zones = df_zones_input.merge(df_input, left_on=\"ISOCODE\", right_on=\"alpha3\", how=\"inner\")\n",
    "\n",
    "\n",
    "#adjust population to account for 9 values per raster point (2.5 to 5 arc min resoltuions. 9 values per point)\n",
    "df_zones[\"AdjPopFloat\"] = df_zones[\"pop_count_15_1\"] / 9 \n",
    "\n",
    "# # convert population density to percent of national population on a per country basis, grouped by ISO_CC\n",
    "df_zones[\"pop_density_perc\"] = df_zones.groupby(\"ISOCODE\")[\"AdjPopFloat\"].apply(lambda x: x / x.sum())\n",
    "\n",
    "# multiply population density by population on a per country basis\n",
    "df_zones[\"pop_zone\"] = df_zones[\"pop_density_perc\"] * df_zones[\"Population\"]\n"
   ]
  },
  {
   "cell_type": "code",
   "execution_count": null,
   "metadata": {},
   "outputs": [],
   "source": [
    "# sum the population in each zone\n",
    "df_zones[\"country_pop_raw\"] = df_zones.groupby(\"ISOCODE\")[\"pop_zone\"].transform(\"sum\")\n",
    "df_zones[\"country_pop_ratio\"] = df_zones.groupby(\"ISOCODE\")[\"AdjPopFloat\"].transform(\"sum\")\n"
   ]
  },
  {
   "attachments": {},
   "cell_type": "markdown",
   "metadata": {},
   "source": [
    "## The section below calculates the population per zone that can reach water\n",
    "\n",
    "Consider putting in household size and bike sharing here"
   ]
  },
  {
   "cell_type": "code",
   "execution_count": null,
   "metadata": {},
   "outputs": [],
   "source": [
    "df_input.head()"
   ]
  },
  {
   "cell_type": "code",
   "execution_count": null,
   "metadata": {},
   "outputs": [],
   "source": [
    "# population with piped water\n",
    "df_zones[\"zone_pop_piped\"] = df_zones[\"pop_zone\"]*df_zones[\"Nat Piped\"]/100\n",
    "# calculaye unpiped, this is not \"un piped\" from the dataset, but rather the population that does not have piped water\n",
    "# unpiped from the dataset refers to ONLY inproved unpiped. So do 100 - piped to get the total unpiped (inlcuding unimproved water sources)\n",
    "df_zones[\"zone_pop_unpiped\"] = df_zones[\"pop_zone\"]*(100-df_zones[\"Nat Piped\"])/100\n",
    "\n",
    "\n",
    "# is it possible to reach water with walking/cycling\n",
    "df_zones[\"zone_cycling_okay\"] = (df_zones[\"dtw_1\"] < df_zones[\"max distance cycling\"])*1 # multiply by 1 to force to binary not true/false\n",
    "df_zones[\"zone_walking_okay\"] = (df_zones[\"dtw_1\"] < df_zones[\"max distance walking\"])*1\n",
    "\n",
    "# how many people can collect water in the zone\n",
    "df_zones[\"fraction_of_zone_with_cycling_access\"] = df_zones[\"zone_cycling_okay\"]* (df_zones[\"PBO\"])/100\n",
    "df_zones[\"fraction_of_zone_with_walking_access\"] = df_zones[\"zone_walking_okay\"] * 1\n",
    "\n",
    "#\n",
    "df_zones[\"population_piped_with_cycling_access\"] = df_zones[\"fraction_of_zone_with_cycling_access\"] * df_zones[\"zone_pop_piped\"]\n",
    "df_zones[\"population_piped_with_walking_access\"] = df_zones[\"fraction_of_zone_with_walking_access\"] * df_zones[\"zone_pop_piped\"]\n",
    "\n",
    "# select the maximum between the two\n",
    "df_zones[\"population_piped_with_access\"] = df_zones[[\"population_piped_with_cycling_access\", \"population_piped_with_walking_access\"]].max(axis=1)\n",
    "\n",
    "# zone pop without water\n",
    "df_zones[\"zone_pop_with_water\"] =  df_zones[\"population_piped_with_access\"] + df_zones[\"zone_pop_unpiped\"]\n",
    "df_zones[\"zone_pop_without_water\"] = df_zones[\"pop_zone\"] - df_zones[\"zone_pop_with_water\"]\n",
    "\n",
    "\n"
   ]
  },
  {
   "attachments": {},
   "cell_type": "markdown",
   "metadata": {},
   "source": [
    "## Group the zones in to country groups\n",
    "Use groupby agg and then apply to summarise the zone data in to country level, then create some summary columns"
   ]
  },
  {
   "cell_type": "code",
   "execution_count": null,
   "metadata": {},
   "outputs": [],
   "source": [
    "# use groupby to create dataframe of country level data from df_zones\n",
    "df_countries = df_zones.groupby(\"ISOCODE\").agg({\n",
    "    \"Entity\":\"first\",\n",
    "    \"country_pop_raw\": \"first\",\n",
    "    \"zone_pop_with_water\":\"sum\",\n",
    "    \"zone_pop_without_water\":\"sum\",\n",
    "    \"population_piped_with_access\":\"sum\"  ,\n",
    "    \"population_piped_with_cycling_access\":\"sum\",\n",
    "    \"population_piped_with_walking_access\":\"sum\",\n",
    "    \"Nat Piped\":\"first\",\n",
    "    \"region\":\"first\",\n",
    "    # call the weighted median function on the column\n",
    "}).reset_index()\n",
    "\n",
    "# use groupby to create weighted median, needs to be speerate from the above groupby as it uses apply, which can't be used in the same groupby\n",
    "# needs to use apply because the function required two columns as input\n",
    "df_median_group = df_zones.groupby(['ISOCODE']).apply(lambda x : pd.Series({'weighted_med':weighted_median(x,\"dtw_1\",\"pop_zone\")}))\n",
    "\n",
    "# merge the weighted median back into the df_countries dataframe\n",
    "df_countries = df_countries.merge(df_median_group, on=\"ISOCODE\")\n",
    "\n",
    "# drop rows from the dataframe that have Nan in pop_zone and dtw_1\n",
    "df_zones = df_zones.dropna(subset=[\"pop_zone\", \"dtw_1\"])\n",
    "\n",
    "# create summary columns\n",
    "#rename zone columns to country\n",
    "df_countries = df_countries.rename(columns={\"zone_pop_with_water\":\"country_pop_with_water\", \"zone_pop_without_water\":\"country_pop_without_water\"})\n",
    "# create percent\n",
    "df_countries[\"percent_with_water\"] = df_countries[\"country_pop_with_water\"] / df_countries[\"country_pop_raw\"] * 100\n",
    "df_countries[\"percent_without_water\"] = df_countries[\"country_pop_without_water\"] / df_countries[\"country_pop_raw\"] * 100"
   ]
  },
  {
   "attachments": {},
   "cell_type": "markdown",
   "metadata": {},
   "source": [
    "Clean Up Data"
   ]
  },
  {
   "cell_type": "code",
   "execution_count": 43,
   "metadata": {},
   "outputs": [
    {
     "name": "stdout",
     "output_type": "stream",
     "text": [
      "Countries removed from analysis\n",
      "Empty DataFrame\n",
      "Columns: [Entity, weighted_med]\n",
      "Index: []\n",
      "Countries removed manually\n",
      "                 Entity  weighted_med\n",
      "9   Antigua and Barbuda     56.080301\n",
      "52             Dominica     69.260383\n",
      "0                 Aruba     87.800906\n",
      "27             Barbados    144.138797\n"
     ]
    }
   ],
   "source": [
    "# Clean up data from spurious country values\n",
    "# uses libya as the max possible diatnce to water (from Kummu paper results)\n",
    "\n",
    "# remove any nan rows\n",
    "df_countries = df_countries.dropna()\n",
    "\n",
    "\n",
    "# first pass clean up\n",
    "\n",
    "# remove any rows where the median is more than 1km more than \"LBY\" (Libya)'s median\n",
    "max_distance = df_countries.loc[df_countries[\"ISOCODE\"] == \"LBY\", \"weighted_med\"].values[0] + 1\n",
    "countries_further_than_libya = df_countries[df_countries[\"weighted_med\"] > max_distance]\n",
    "df_countries = df_countries[df_countries[\"weighted_med\"] < max_distance]\n",
    "\n",
    "####### Manual remove countries ###############\n",
    "# inspecting the results, there are a few countries that are clearly wrong, remove them manually\n",
    "list_of_countries_to_remove = [\"GUM\", \"ASM\", \"TON\", \"MNP\", \"ATG\", \"DMA\", \"ABW\", \"BRB\"]\n",
    "df_of_countries_to_remove = df_countries[df_countries[\"ISOCODE\"].isin(list_of_countries_to_remove)]\n",
    "df_countries = df_countries[~df_countries[\"ISOCODE\"].isin(list_of_countries_to_remove)]\n",
    "##############################\n",
    "\n",
    "\n",
    "# summary of removed countries\n",
    "print(\"Countries removed from analysis\")\n",
    "print(countries_further_than_libya[[\"Entity\", \"weighted_med\"]])\n",
    "print(\"Countries removed manually\")\n",
    "print(df_of_countries_to_remove[[\"Entity\", \"weighted_med\"]])\n",
    "\n",
    "\n",
    "\n",
    "\n"
   ]
  },
  {
   "attachments": {},
   "cell_type": "markdown",
   "metadata": {},
   "source": [
    "# Plotting and Visualising"
   ]
  },
  {
   "cell_type": "code",
   "execution_count": 44,
   "metadata": {},
   "outputs": [
    {
     "data": {
      "application/vnd.plotly.v1+json": {
       "config": {
        "plotlyServerURL": "https://plotly.com"
       },
       "data": [
        {
         "coloraxis": "coloraxis",
         "customdata": [
          [
           "British Virgin Islands",
           30423.000000000015,
           108.74704860673036,
           0,
           104.39716666246115,
           24.035707671253967,
           104.39716666246115,
           0,
           0.3574501153953598,
           96,
           "Americas",
           0
          ],
          [
           "Saint Martin (French part)",
           39238.99999999999,
           19387.588683870366,
           0,
           19387.588683870366,
           4463.6691679830865,
           19387.588683870366,
           0,
           49.408977506741685,
           100,
           "Americas",
           1
          ],
          [
           "Panama",
           4381583,
           3276836.307950516,
           635331.6640359702,
           3002984.5499114622,
           1531567.1809773496,
           2563444.8936134363,
           14.50004859056579,
           74.78658530377072,
           93,
           "Americas",
           1.41421398925781
          ],
          [
           "Congo",
           5657017,
           4472510.733889482,
           1137037.8572244607,
           1836022.896065929,
           159953.40862213742,
           1781157.797496059,
           20.099601207216818,
           79.06129208891332,
           53,
           "Africa",
           2
          ],
          [
           "Mauritius",
           1273428,
           972505.5182413608,
           125030.39934087323,
           972505.5182413608,
           764675.5001316447,
           842781.9063654344,
           9.81841135430297,
           76.36910121666563,
           100,
           "Africa",
           2
          ],
          [
           "Vietnam",
           98168829.00000001,
           88872103.06739339,
           6033445.303486378,
           39521217.91453591,
           30937751.79834701,
           27362021.40959165,
           6.145988869324678,
           90.5298596027802,
           48,
           "Asia",
           2.23606811523438
          ],
          [
           "Azerbaijan",
           10223343.999999998,
           6517644.723688291,
           3705699.276311707,
           5597543.763688291,
           627340.0730719799,
           5338564.651574985,
           36.24742820266743,
           63.75257179733258,
           91,
           "Asia",
           2.23606811523438
          ],
          [
           "New Caledonia",
           288217,
           145111.91556533394,
           80836.68814765399,
           142852.42952820408,
           25428.35330814624,
           132922.88455972134,
           28.047161738431107,
           50.34814586416968,
           99,
           "Oceania",
           2.23606811523438
          ],
          [
           "Albania",
           2872934,
           2177948.9734416874,
           636890.6185913535,
           1643129.4509554098,
           476234.0674870058,
           1484599.7245145089,
           22.16864775143994,
           75.80922406994686,
           81,
           "Europe",
           2.23606811523438
          ],
          [
           "Malta",
           442790,
           179966.90681855503,
           82179.71874525919,
           179966.90681855503,
           94415.06404906466,
           146167.5085759275,
           18.55952454781255,
           40.643850768661224,
           100,
           "Europe",
           2.23606811523438
          ],
          [
           "Australia",
           25788216.999999996,
           18943679.130971055,
           4647264.201488807,
           16820494.231049668,
           11371844.370993746,
           12969887.788754875,
           18.02088217843369,
           73.45866188023413,
           91,
           "Oceania",
           2.23606811523438
          ],
          [
           "Eswatini",
           1172369.0000000002,
           998487.320312699,
           173881.6796873012,
           541263.4103126989,
           56925.54916400001,
           526225.403247174,
           14.831651100233897,
           85.16834889976609,
           61,
           "Africa",
           2.23606811523438
          ],
          [
           "Japan",
           126050795.99999999,
           101445081.28499788,
           14676212.183211964,
           99122655.41563368,
           79207943.38934147,
           68388434.15622322,
           11.643093616966897,
           80.479524528348,
           98,
           "Asia",
           2.23606811523438
          ],
          [
           "Guyana",
           790329,
           630472.6308460096,
           114122.26727719547,
           369864.41650288785,
           234794.36670197538,
           281983.40250712424,
           14.439843062470878,
           79.77344002890057,
           65,
           "Americas",
           2.23606811523438
          ],
          [
           "Belize",
           404915,
           327979.01369084587,
           52709.578872628816,
           278489.49665759417,
           222585.78615534838,
           192241.09526219324,
           13.017442888662762,
           80.99947240552854,
           87,
           "Americas",
           2.23606811523438
          ],
          [
           "Solomon Islands",
           703995,
           425669.00403471274,
           79212.8243457389,
           153032.81670926884,
           45788.088969905904,
           134975.42978964566,
           11.25190155409327,
           60.46477660135551,
           46,
           "Oceania",
           2.23606811523438
          ],
          [
           "Brunei",
           441532.0000000001,
           320044.54030202184,
           109494.76036530711,
           320044.54030202184,
           191102.03486689462,
           232286.98511101995,
           24.798827800772557,
           72.48501587699685,
           100,
           "Asia",
           2.23606811523438
          ],
          [
           "Norway",
           5465629,
           4269682.7826151475,
           504208.2745748281,
           4269682.7826151475,
           3661494.513655814,
           3120514.4636189532,
           9.22507317227035,
           78.11878161900758,
           100,
           "Europe",
           2.23606811523438
          ],
          [
           "Philippines",
           111046909.99999999,
           80370583.46503276,
           20587898.371866718,
           46044699.64048693,
           14993202.098893205,
           40590192.8648284,
           18.539821028668623,
           72.37534431622885,
           66,
           "Asia",
           2.23606811523438
          ],
          [
           "Fiji",
           902899.0000000001,
           378930.91564840067,
           210500.57095262018,
           278727.5629262271,
           56749.42954488801,
           251277.03574976124,
           23.313855808082646,
           41.96825067348625,
           83,
           "Oceania",
           2.23606811523438
          ],
          [
           "Suriname",
           591798,
           450257.7686710574,
           119753.82631663799,
           336255.44967351836,
           163765.67252801248,
           280106.81576080853,
           20.23559158980564,
           76.0830162776923,
           80,
           "Americas",
           2.23606811523438
          ],
          [
           "Netherlands",
           17173094,
           15566721.058212385,
           881678.1865491645,
           14086365.126183845,
           13166280.346668651,
           8746053.03721667,
           5.134067201572207,
           90.6459899317641,
           91,
           "Europe",
           2.23606811523438
          ],
          [
           "Papua New Guinea",
           9119005,
           8485380.553052792,
           264903.65677331266,
           1310147.5009953862,
           739160.4610618321,
           1081414.848359004,
           2.904962293290909,
           93.0516054443746,
           18,
           "Oceania",
           2.23606811523438
          ],
          [
           "New Zealand",
           4860642,
           3369607.4675457217,
           788629.2683431603,
           3369607.4675457217,
           2403238.838626293,
           2576295.998185627,
           16.224796402268677,
           69.32432932821881,
           100,
           "Oceania",
           2.23606811523438
          ],
          [
           "Sweden",
           10160159,
           8671757.167206118,
           537697.3722301287,
           7566622.622473769,
           6792944.260670381,
           5116920.382297543,
           5.292214149701089,
           85.35060491874307,
           88,
           "Europe",
           2.23606811523438
          ],
          [
           "Puerto Rico",
           2828246,
           1786608.593204163,
           842777.190927871,
           1786608.593204163,
           592609.8335911442,
           1551117.7754466967,
           29.798581556479565,
           63.17019782593746,
           100,
           "Americas",
           2.23606811523438
          ],
          [
           "Lesotho",
           2159067,
           1561237.0127677654,
           597829.9872322347,
           891926.2427677654,
           31284.880830000002,
           879102.5147474621,
           27.6892744519848,
           72.31072554801521,
           69,
           "Africa",
           2.23606811523438
          ],
          [
           "Thailand",
           69950844,
           55490549.52569724,
           12980628.108843056,
           42481025.775134586,
           30184837.925060168,
           29000443.042628344,
           18.556785546208786,
           79.3279199400328,
           81,
           "Asia",
           2.82842700195312
          ],
          [
           "Switzerland",
           8715494,
           7612137.846716238,
           1103356.1532837625,
           7612137.846716238,
           6375274.4952487955,
           4655112.35027265,
           12.659708712825257,
           87.34029128717475,
           100,
           "Europe",
           2.82842700195312
          ],
          [
           "Slovakia",
           5460726,
           4167254.902845599,
           1293471.0971544005,
           4058040.382845599,
           2877060.6042996068,
           2677351.572310116,
           23.68679727117604,
           76.31320272882395,
           98,
           "Europe",
           2.82842700195312
          ],
          [
           "Nepal",
           29674920.000000004,
           25694648.56676058,
           3980271.4332394223,
           10857188.56676058,
           5862203.084379963,
           8283558.013898203,
           13.412913777827951,
           86.58708622217205,
           50,
           "Asia",
           2.82842700195312
          ],
          [
           "Slovenia",
           2078723,
           1761671.056489937,
           317051.94351006305,
           1719725.3959542227,
           1494261.1872619586,
           1086574.4997217548,
           15.252245898566718,
           84.74775410143329,
           97.98214285714286,
           "Europe",
           2.82842700195312
          ],
          [
           "Estonia",
           1325188.0000000002,
           861157.201217986,
           404699.8472023079,
           772547.2078285654,
           334964.40365026076,
           627898.9871980264,
           30.539051606436807,
           64.98377597880345,
           93,
           "Europe",
           2.82842700195312
          ],
          [
           "Canada",
           38067913.00000001,
           29466489.221592236,
           7254978.624042323,
           29466489.221592236,
           23425963.42688244,
           18461264.653758563,
           19.057988873837978,
           77.4050555952259,
           100,
           "Americas",
           2.82842700195312
          ],
          [
           "Austria",
           9043071.999999998,
           8383915.2282214975,
           659156.7717785015,
           8332240.531078641,
           7604134.645708148,
           4805979.441389393,
           7.2890802127695276,
           92.71091978723048,
           99.42857142857144,
           "Europe",
           2.82842700195312
          ],
          [
           "Malawi",
           19647681,
           18461994.903984036,
           1185686.0960159616,
           3136803.7239840385,
           1885841.1769758756,
           2225912.0053526023,
           6.034738125155643,
           93.96526187484434,
           22,
           "Africa",
           2.82842700195312
          ],
          [
           "Moldova",
           4024025.0000000005,
           3055513.799345472,
           968511.2006545283,
           1928786.799345472,
           779874.8976878661,
           1578175.6890901178,
           24.06822026837627,
           75.93177973162372,
           72,
           "Europe",
           2.82842700195312
          ],
          [
           "Isle of Man",
           85410,
           43576.79274704521,
           10765.43548651144,
           42489.94818237408,
           31349.669186417283,
           27083.33629487067,
           12.60442042677841,
           51.02071507674185,
           98,
           "Europe",
           2.82842700195312
          ],
          [
           "Myanmar",
           54806013.99999999,
           49487190.83390714,
           4231133.3486705525,
           13495913.631580086,
           9020433.244678846,
           9489992.338637067,
           7.720199007120922,
           90.29518336054716,
           33,
           "Asia",
           2.82842700195312
          ],
          [
           "French Guiana",
           306450,
           222775.72048982535,
           69529.93457993533,
           187699.04188145406,
           117704.14077327971,
           134657.3703504701,
           22.68883490942579,
           72.69561771572046,
           88,
           "Americas",
           2.82842700195312
          ],
          [
           "Kyrgyzstan",
           6628347,
           4413903.542777682,
           2214443.457222318,
           4016202.722777682,
           1405007.3770741872,
           3399551.289810565,
           33.408683299506166,
           66.59131670049383,
           94,
           "Asia",
           2.82842700195312
          ],
          [
           "France",
           65426177,
           52738048.159347795,
           11434436.301072758,
           48245974.247118354,
           35437389.74179481,
           32045495.384847503,
           17.47685227133592,
           80.60695363470158,
           93,
           "Europe",
           2.82842700195312
          ],
          [
           "United Kingdom",
           68207114,
           49851830.71074987,
           15304303.288906971,
           49851830.71074987,
           34027798.999776155,
           34066806.69746765,
           22.43798687759604,
           73.08890200331577,
           100,
           "Europe",
           2.82842700195312
          ],
          [
           "Georgia",
           3979773,
           2483512.679227496,
           1479131.2609971054,
           1770236.7699870677,
           258548.98691064544,
           1646001.5059630033,
           37.16622181710127,
           62.40337524847512,
           82,
           "Asia",
           2.82842700195312
          ],
          [
           "Finland",
           5548361,
           4678168.441900189,
           444107.12346607965,
           4678168.441900189,
           4291553.292030756,
           2577434.332462881,
           8.004293943131668,
           84.31622314950647,
           100,
           "Europe",
           2.82842700195312
          ],
          [
           "Armenia",
           2968128,
           1644445.4618208723,
           1323682.538179128,
           1644445.4618208723,
           115885.57251729813,
           1592249.884691223,
           44.596544966360206,
           55.4034550336398,
           100,
           "Asia",
           2.82842700195312
          ],
          [
           "El Salvador",
           6518500,
           4462268.253008122,
           1981735.0108027926,
           3882307.9592651394,
           1675135.6401066834,
           3153103.313083508,
           30.401703011471852,
           68.45544608434643,
           91,
           "Americas",
           2.82842700195312
          ],
          [
           "Hungary",
           9634162,
           6226281.891003084,
           3407880.1089969156,
           6226281.891003084,
           3037433.5304403743,
           4840389.13260885,
           35.37287528481372,
           64.62712471518628,
           100,
           "Europe",
           2.82842700195312
          ],
          [
           "Bangladesh",
           166303494,
           150717714.07247645,
           8050147.837020378,
           15765031.449404145,
           5979348.648763967,
           13117537.266273698,
           4.84063662367814,
           90.62811035856916,
           15,
           "Asia",
           2.82842700195312
          ],
          [
           "Lithuania",
           2689862,
           1924373.1691877977,
           750361.7143047747,
           1817383.773848095,
           984490.3160739302,
           1364057.4152868728,
           27.8959186123591,
           71.54170619860044,
           96,
           "Europe",
           2.82842700195312
          ],
          [
           "China",
           1444216102,
           1165264412.0275826,
           248655754.04006144,
           882480378.8140538,
           686836521.0862375,
           528338800.23714876,
           17.217350900306016,
           80.68490653260855,
           80,
           "Asia",
           3
          ],
          [
           "North Macedonia",
           2082661,
           1613065.5185696578,
           469595.4814303423,
           1446452.6385696577,
           1052696.0002428903,
           929987.3366243917,
           22.547859753956228,
           77.45214024604378,
           92,
           "Europe",
           3
          ],
          [
           "Romania",
           19127772.000000004,
           14354325.599038199,
           4755936.522800315,
           7474631.235176334,
           3268284.0300602326,
           6103674.388908223,
           24.864038126344848,
           75.0444202233182,
           64,
           "Europe",
           3
          ],
          [
           "Vanuatu",
           314464,
           180461.4624782334,
           48879.958921769176,
           61203.923350232064,
           12684.37902013804,
           54923.64085362692,
           15.543896573779248,
           57.38700216184791,
           48,
           "Oceania",
           3
          ],
          [
           "Denmark",
           5813302.000000001,
           4429593.575750161,
           416542.346109882,
           4429593.575750161,
           4165485.5744003635,
           2314706.4097265354,
           7.165331271450922,
           76.19754789532972,
           100,
           "Europe",
           3
          ],
          [
           "Uganda",
           47123533,
           43502080.95170532,
           3621452.048294682,
           7216960.541705318,
           3961377.661304178,
           5175807.4410193,
           7.68501811673306,
           92.31498188326694,
           23,
           "Africa",
           3
          ],
          [
           "Sierra Leone",
           8141343,
           7099171.052093774,
           752526.2301874267,
           896330.1990916254,
           167723.25149741475,
           811818.3260102626,
           9.243268956822316,
           87.19901682184098,
           21,
           "Africa",
           3
          ],
          [
           "Tanzania",
           61498438,
           53159941.12979769,
           7270932.4417951135,
           15692799.515410151,
           9329818.022014767,
           11222189.58270791,
           11.822954660726689,
           86.44112413033595,
           38,
           "Africa",
           3
          ],
          [
           "Democratic Republic of Congo",
           92377986,
           79329593.84878135,
           13044564.384122774,
           19286390.997393668,
           6743620.980528459,
           15929349.780118378,
           14.12085817082305,
           85.87499823689743,
           35,
           "Africa",
           3
          ],
          [
           "Taiwan",
           23855008,
           17625405.02557783,
           4718298.351714541,
           14529206.12901017,
           9915915.28323166,
           9525407.327133967,
           19.77906841076952,
           73.88555487207478,
           86.14285714285714,
           "Asia",
           3
          ],
          [
           "Latvia",
           1866934,
           1064374.3697510927,
           799676.9045485446,
           952531.2932931145,
           303897.66283055657,
           790823.738676613,
           42.833699774525755,
           57.01189060518973,
           94,
           "Europe",
           3
          ],
          [
           "Pakistan",
           225199928.99999997,
           205844319.535706,
           19019403.77585799,
           39445164.28514866,
           24073225.457427345,
           28445482.656775188,
           8.445563842010799,
           91.40514406454633,
           26,
           "Asia",
           3
          ],
          [
           "Poland",
           37797000,
           30952149.318819504,
           6777652.711928555,
           26801871.095437218,
           21944681.00868125,
           15592905.575460574,
           17.931721332191852,
           81.89049215233882,
           89,
           "Europe",
           3
          ],
          [
           "Faeroe Islands",
           49053.00000000001,
           23504.115755385195,
           8919.362948992068,
           23504.115755385195,
           17923.063900787663,
           13568.197377465634,
           18.18311407863345,
           47.9157559280476,
           100,
           "Europe",
           3
          ],
          [
           "Guinea-Bissau",
           2015489.9999999998,
           1535337.4296925296,
           207854.74103330323,
           402262.51872073824,
           210301.6170307452,
           298678.8574607018,
           10.312863920600115,
           76.17688153712149,
           35,
           "Africa",
           3
          ],
          [
           "Italy",
           60367471,
           45842145.833950214,
           11638407.678523242,
           44692534.763700746,
           35064717.04631027,
           28012271.50826441,
           19.279269920920232,
           75.93848984323066,
           98,
           "Europe",
           3
          ],
          [
           "Mozambique",
           32163044.999999996,
           26432088.550174534,
           4125384.167614924,
           8403179.646678753,
           4794027.337106489,
           6020270.7415717505,
           12.826472641551584,
           82.18154888684992,
           41,
           "Africa",
           3
          ],
          [
           "Ireland",
           4982904,
           3398979.8260707366,
           1168040.0526190582,
           3261969.229710043,
           2175456.650474937,
           2174764.9704465684,
           23.440950349817257,
           68.21282982916662,
           97,
           "Europe",
           3
          ],
          [
           "Laos",
           7379358,
           6715123.473594684,
           664234.5264053158,
           1623366.4535946841,
           1055064.149792721,
           1076534.0098540694,
           9.001250873115465,
           90.99874912688453,
           31,
           "Asia",
           3
          ],
          [
           "Zambia",
           18920657,
           16920775.63412363,
           1999881.3658763722,
           4054728.8741236283,
           2370392.382719837,
           2835583.3188616014,
           10.569830455022636,
           89.43016954497737,
           32,
           "Africa",
           3
          ],
          [
           "Belarus",
           9442867,
           6553624.181113619,
           2889242.81888638,
           6175909.50111362,
           3421582.254405755,
           4477852.782812331,
           30.597093222708526,
           69.40290677729146,
           96,
           "Europe",
           3
          ],
          [
           "Equatorial Guinea",
           1449891,
           1074134.056346626,
           269276.4110487897,
           281521.8805833307,
           47789.29754508815,
           256990.19575397755,
           18.572183084713934,
           74.08377983907936,
           41,
           "Africa",
           3
          ],
          [
           "Central African Republic",
           4919987,
           4632529.985775911,
           287457.01422408875,
           401341.1657759113,
           126399.47722348965,
           338973.8485420067,
           5.8426376781907905,
           94.15736232180922,
           14,
           "Africa",
           3
          ],
          [
           "Croatia",
           4081657,
           2566267.402774865,
           1282516.407553072,
           2354584.293206828,
           1399885.7775350732,
           1696035.7357821192,
           31.42146455601419,
           62.87317632948738,
           94.5,
           "Europe",
           3.16227807617188
          ],
          [
           "Cameroon",
           27224262,
           21884925.645590346,
           4970330.222266913,
           4697561.890161701,
           1214869.8439101577,
           4082874.6145973536,
           18.25698791124958,
           80.38758092171734,
           36,
           "Africa",
           3.16227807617188
          ],
          [
           "Russia",
           145912021.99999997,
           86123740.3504538,
           58803135.7006635,
           77428127.78738676,
           29255549.84949892,
           62440152.86829273,
           40.30040492527991,
           59.02443072884962,
           94,
           "Europe",
           3.16227807617188
          ],
          [
           "Dominican Republic",
           10953714,
           5814139.502283323,
           4158602.180477351,
           3919318.582558795,
           113629.13280622775,
           3863644.1114239264,
           37.96522513256555,
           53.079161116342114,
           81,
           "Americas",
           3.16227807617188
          ],
          [
           "Palau",
           18173.999999999996,
           4616.787558646971,
           2736.421808139282,
           3587.338247296896,
           2136.1962758544173,
           2365.306748584162,
           15.056794366343581,
           25.403254972196386,
           86,
           "Oceania",
           3.16227807617188
          ],
          [
           "Germany",
           83900471.00000001,
           69935570.35812482,
           13521611.751527738,
           69935570.35812482,
           61551644.35505961,
           35828743.60284277,
           16.11625249580272,
           83.35539660811297,
           100,
           "Europe",
           3.16227807617188
          ],
          [
           "Czechia",
           10724553,
           7034155.563598338,
           3690397.436401663,
           7034155.563598338,
           4358831.277705127,
           4673871.918052429,
           34.41073428796205,
           65.58926571203794,
           100,
           "Europe",
           3.16227807617188
          ],
          [
           "Guinea",
           13497237,
           11586838.615590148,
           1419387.9143622331,
           1832168.718125862,
           776896.553094478,
           1407029.553375179,
           10.516136853507374,
           85.84600400504301,
           25,
           "Africa",
           3.16227807617188
          ],
          [
           "Serbia",
           8697547,
           5578271.1657138625,
           3119275.8342861375,
           5056418.345713863,
           2621676.449244619,
           3786056.4220605777,
           35.863857180491664,
           64.13614281950834,
           94,
           "Europe",
           3.16227807617188
          ],
          [
           "Costa Rica",
           5139053,
           3703482.1366669578,
           1365678.051716344,
           3703482.1366669578,
           2879083.050188373,
           2359470.7683989275,
           26.574508021542957,
           72.06545907712876,
           100,
           "Americas",
           3.16227807617188
          ],
          [
           "Guatemala",
           18249868,
           11786562.824719058,
           6400756.998712793,
           7603479.265329732,
           3363548.208822595,
           5784353.419518605,
           35.07289476676102,
           64.58437301967915,
           77,
           "Americas",
           3.16227807617188
          ],
          [
           "Honduras",
           10062994,
           6253717.901795259,
           3670160.0761896777,
           5459807.663556464,
           2886571.831086447,
           3857924.786311869,
           36.47184999006933,
           62.145698405417505,
           92,
           "Americas",
           3.16227807617188
          ],
          [
           "Cambodia",
           16946445.999999996,
           15635418.159194393,
           1224409.3500578748,
           4170735.4529028507,
           3314123.9093484743,
           2482932.0103025413,
           7.2251689236662076,
           92.26370036050271,
           32,
           "Asia",
           3.16227807617188
          ],
          [
           "Haiti",
           11541683,
           9219539.39352305,
           1002678.4302226859,
           939542.9562890037,
           303631.5296515482,
           770801.7292575218,
           8.687454249286573,
           79.88037267635102,
           19,
           "Americas",
           3.16227807617188
          ],
          [
           "Malaysia",
           32776195,
           20654286.120749477,
           10259070.668893626,
           19108618.281267323,
           12380058.838114437,
           12121346.501806676,
           31.300371104375067,
           63.016119231501634,
           95,
           "Asia",
           3.16227807617188
          ],
          [
           "South Africa",
           60041995.99999999,
           32991039.766705263,
           25754921.46693656,
           27703903.2556775,
           6567539.8288105,
           24347844.058135007,
           42.89484557931179,
           54.94660731582819,
           91,
           "Africa",
           3.16227807617188
          ],
          [
           "Ukraine",
           43466821.99999999,
           32998010.360770807,
           9924851.55974664,
           17545780.069384526,
           10313584.658463553,
           12134556.058592236,
           22.833165856355087,
           75.91539671515625,
           64,
           "Europe",
           3.16227807617188
          ],
          [
           "Burundi",
           12255429.000000002,
           10192928.991472235,
           2062500.008527767,
           2594563.0114722336,
           926451.2274402474,
           2098253.816392435,
           16.829276302998178,
           83.17072369700182,
           38,
           "Africa",
           3.16227807617188
          ],
          [
           "Belgium",
           11632334,
           9430316.47712924,
           2202017.522870759,
           9430316.47712924,
           8079743.336508838,
           4959871.981712824,
           18.930143536720653,
           81.06985646327934,
           100,
           "Europe",
           3.16227807617188
          ],
          [
           "Bulgaria",
           6896655,
           3901114.9660387617,
           2891037.058229875,
           3901114.9660387617,
           1433143.117824202,
           3189418.258225071,
           41.91940960117441,
           56.56531994189592,
           100,
           "Europe",
           3.16227807617188
          ],
          [
           "Bosnia and Herzegovina",
           3263459,
           2142949.919780961,
           1120509.080219039,
           1979776.9697809608,
           1254552.4165789112,
           1332643.427420157,
           34.33501325492488,
           65.66498674507511,
           95,
           "Europe",
           3.16227807617188
          ],
          [
           "Zimbabwe",
           15092171,
           13158640.316784393,
           1933530.683215607,
           2141355.4867843934,
           892996.310776928,
           1612867.1524644257,
           12.811481417853052,
           87.18851858214694,
           27,
           "Africa",
           3.60555102539062
          ],
          [
           "Liechtenstein",
           38254,
           31870.17248,
           6383.827519999999,
           31870.17248,
           30274.215600000003,
           7650.8,
           16.688,
           83.31200000000001,
           100,
           "Europe",
           3.60555102539062
          ],
          [
           "Chile",
           19212362,
           12065612.263144575,
           6923298.548420921,
           12065612.263144575,
           8703636.34005293,
           7168392.160110113,
           36.035644906237565,
           62.801295661327714,
           100,
           "Americas",
           3.60555102539062
          ],
          [
           "Cyprus",
           1215588,
           633683.3220933893,
           397915.74876068346,
           633683.3220933893,
           470354.74756880396,
           351622.3348214969,
           32.734425542262954,
           52.129777695517674,
           100,
           "Europe",
           3.60555102539062
          ],
          [
           "India",
           1393409033,
           1141723295.9649162,
           237775966.20530498,
           369203709.14959234,
           231552339.98963138,
           249458806.0166019,
           17.064333628825054,
           81.93741169502783,
           44,
           "Asia",
           3.60555102539062
          ],
          [
           "Spain",
           46745211,
           32121443.664334387,
           11443278.600466928,
           32121443.664334387,
           25994345.97806631,
           17029176.44877175,
           24.480108990131473,
           68.71600957012343,
           100,
           "Europe",
           3.60555102539062
          ],
          [
           "Iraq",
           41179351,
           24457631.899336115,
           16713162.161079546,
           17458596.90906545,
           6049453.145319044,
           14871146.720211688,
           40.58626898000298,
           59.392951334604845,
           83,
           "Asia",
           3.60555102539062
          ],
          [
           "Colombia",
           51265841,
           29913027.7731365,
           21194510.402122714,
           24291198.573857985,
           12822584.081845133,
           17194324.57573141,
           41.342363625952636,
           58.34884825772486,
           89,
           "Americas",
           3.60555102539062
          ],
          [
           "Egypt",
           104258326.99999999,
           46064118.95130926,
           56717956.196580105,
           46064118.95130926,
           7420955.417800701,
           42841644.715641424,
           54.40136805243394,
           44.18267612457398,
           100,
           "Africa",
           3.60555102539062
          ],
          [
           "Sri Lanka",
           21497306,
           18020004.94565297,
           2748293.7097853823,
           5351342.765835575,
           3359018.4425415867,
           3602105.086411115,
           12.78436335132124,
           83.82447989368049,
           39,
           "Asia",
           3.60555102539062
          ],
          [
           "Bahamas",
           396913.9999999999,
           130551.7793295626,
           154800.36139921765,
           121991.2151076992,
           44606.589205705764,
           100529.97778806578,
           39.00098293313355,
           32.89170433130669,
           97,
           "Americas",
           3.60555102539062
          ],
          [
           "Montenegro",
           628051.0000000001,
           323191.23027530866,
           290261.63701434596,
           255711.41487344666,
           124896.13383949759,
           185185.84517829708,
           46.21625266329421,
           51.45939267277794,
           89,
           "Europe",
           3.60555102539062
          ],
          [
           "Rwanda",
           13276517,
           10361472.479047004,
           2915044.520952997,
           2130031.939047003,
           740957.7094254969,
           1638059.2330442292,
           21.956395046630053,
           78.04360495336995,
           38,
           "Africa",
           3.60555102539062
          ],
          [
           "Turkey",
           85042736,
           46424502.897703454,
           35848317.014691785,
           42310861.902083695,
           21780455.591194447,
           29949535.099765494,
           42.153296919670815,
           54.58961585820035,
           95,
           "Asia",
           3.60555102539062
          ],
          [
           "Tajikistan",
           9749624.999999998,
           6604869.743717438,
           3144755.2562825605,
           3192500.993717438,
           1236112.8827044333,
           2572164.2269432093,
           32.25514064676909,
           67.74485935323091,
           65,
           "Asia",
           3.60555102539062
          ],
          [
           "Togo",
           8478242,
           7356012.908317219,
           929732.5768822022,
           1141703.794417653,
           599502.7424434728,
           801361.2946706769,
           10.966100954445535,
           86.76342227925575,
           25,
           "Africa",
           3.60555102539062
          ],
          [
           "Turks and Caicos Islands",
           39226,
           6221.916490858485,
           7388.4727682523535,
           1866.5919279430168,
           1866.5919279430168,
           0,
           18.83565178262467,
           15.861715420533537,
           68,
           "Americas",
           3.60555102539062
          ],
          [
           "Uzbekistan",
           33935765.00000001,
           23028540.02101669,
           10907224.978983313,
           12847810.52101669,
           6163805.772473526,
           10086018.935480857,
           32.14079593898446,
           67.85920406101553,
           70,
           "Asia",
           3.60555102539062
          ],
          [
           "Reunion",
           901695.9999999999,
           414277.8970195977,
           344519.3776378789,
           414277.8970195977,
           189151.3016287809,
           305484.2192697154,
           38.207930126991684,
           45.94429796955934,
           100,
           "Africa",
           3.60555102539062
          ],
          [
           "North Korea",
           25887045,
           15754558.40116965,
           8880136.680527693,
           15754558.40116965,
           9897989.484542921,
           10240547.152695803,
           34.30340033220359,
           60.85885199013503,
           100,
           "Asia",
           3.60555102539062
          ],
          [
           "Nigeria",
           211400704,
           199836975.04621267,
           10157774.353389898,
           10841700.586570356,
           4067930.386489241,
           8636708.147496004,
           4.80498605784676,
           94.5299477556199,
           10,
           "Africa",
           3.60555102539062
          ],
          [
           "Mongolia",
           3329281.9999999995,
           2890738.7930689664,
           438543.20693103323,
           393777.29306896665,
           103186.76372161481,
           344996.47316556075,
           13.17230582843488,
           86.82769417156513,
           25,
           "Asia",
           3.60555102539062
          ],
          [
           "Portugal",
           10167922.999999998,
           5551153.1741241515,
           4092603.330856138,
           5551153.1741241515,
           3127272.901048809,
           3987957.013944295,
           40.250140868062616,
           54.594760150368494,
           100,
           "Europe",
           3.60555102539062
          ],
          [
           "Madagascar",
           28427333,
           22706621.854939047,
           5020290.836506875,
           4684128.605499198,
           1967244.2520759003,
           3510186.503130875,
           17.6600838232235,
           79.876018812384,
           35,
           "Africa",
           3.60555102539062
          ],
          [
           "Ecuador",
           17888473.999999996,
           12312350.490222462,
           5164257.89867115,
           10739455.735222038,
           8431478.839139633,
           5959145.097036933,
           28.86919196501139,
           68.82840028849003,
           91,
           "Americas",
           4
          ],
          [
           "United States",
           332915074.00000006,
           208231336.08509347,
           113168318.50699016,
           205017339.53917262,
           153979430.36977646,
           118389953.99999109,
           33.99314940812507,
           62.54788453498907,
           99,
           "Americas",
           4
          ],
          [
           "Angola",
           33933611,
           25470839.345712665,
           8215092.199453509,
           5932999.049516284,
           1085141.7839139798,
           5309810.805698033,
           24.209307401601055,
           75.06079840931949,
           42,
           "Africa",
           4
          ],
          [
           "Bhutan",
           779900.0000000001,
           275170.72814082867,
           504729.2718591714,
           275170.72814082867,
           39640.61587906393,
           251044.67305666674,
           64.7171780816991,
           35.28282191830089,
           100,
           "Asia",
           4
          ],
          [
           "Nicaragua",
           6702378.999999999,
           4327353.547014889,
           2315599.9351992686,
           2334467.502350642,
           1215399.3133388497,
           1645446.5358208972,
           34.548925615804016,
           64.56444117849632,
           70,
           "Americas",
           4
          ],
          [
           "Curacao",
           164796.00000000003,
           45027.55898368702,
           37135.91451432565,
           33642.04908467669,
           16075.307252463863,
           22820.865845337754,
           22.534475663441857,
           27.323211111730267,
           86.14285714285714,
           "Americas",
           4
          ],
          [
           "Indonesia",
           276361787.99999994,
           220320532.09841743,
           41353447.02944023,
           50232445.66530995,
           31473672.171507947,
           35527980.10189775,
           14.963518411394935,
           79.72177835903184,
           35,
           "Asia",
           4
          ],
          [
           "Jamaica",
           2973462,
           1546176.738011711,
           1141436.3882912018,
           1089282.5065402158,
           414587.31089553435,
           876493.1307903021,
           38.38745503696371,
           51.99920960858794,
           83,
           "Americas",
           4
          ],
          [
           "South Korea",
           51305184,
           28785203.820484128,
           17600140.7930026,
           28785203.820484128,
           18844510.24998823,
           17321299.12963216,
           34.30480006270439,
           56.10583877934076,
           100,
           "Asia",
           4.12310498046875
          ],
          [
           "Cuba",
           11317498,
           5986865.532702553,
           4830616.384680394,
           3823369.1492259633,
           1552466.9774105742,
           2950117.574782907,
           42.682723554980036,
           52.899196736792476,
           80,
           "Americas",
           4.12310498046875
          ],
          [
           "Liberia",
           5180207.999999999,
           4862154.366857763,
           132869.57703960998,
           66931.38071628497,
           5369.696055984498,
           63465.65428896955,
           2.5649467557984162,
           93.86021501178648,
           4,
           "Africa",
           4.12310498046875
          ],
          [
           "Andorra",
           77354,
           60382.85725068455,
           16971.14274931546,
           60382.85725068455,
           47978.81850000001,
           32663.696512665032,
           21.939580046688548,
           78.06041995331147,
           100,
           "Europe",
           4.12310498046875
          ],
          [
           "Kenya",
           54985702,
           44851185.06199239,
           9354225.43771661,
           8533560.027187359,
           4098939.789665093,
           6285783.469202362,
           17.01210514274531,
           81.56881412915742,
           33,
           "Africa",
           4.12310498046875
          ],
          [
           "Guadeloupe",
           400012.99999999994,
           112979.63851456149,
           143783.37351793877,
           77399.62113291505,
           31113.712513617622,
           60129.790784173674,
           35.94467517754143,
           28.243991698910165,
           86.14285714285715,
           "Americas",
           4.12310498046875
          ],
          [
           "Cote d'Ivoire",
           27053628.999999996,
           22089971.29781208,
           4795037.501252736,
           6496666.194354486,
           4078299.6208024737,
           4253194.818065445,
           17.72419330971359,
           81.65252542574632,
           42,
           "Africa",
           4.12310498046875
          ],
          [
           "Gambia",
           2486936.9999999995,
           1637878.551092287,
           670157.7005484275,
           1107030.2132149227,
           764135.0211383236,
           614948.3358619068,
           26.94711207193538,
           65.85926990077704,
           77,
           "Africa",
           4.12310498046875
          ],
          [
           "Ghana",
           31732128.000000004,
           25161746.47685709,
           5224157.659493723,
           5410908.78822906,
           3018061.2128960383,
           3617852.396935323,
           16.46330702905813,
           79.29422973730941,
           35,
           "Africa",
           4.12310498046875
          ],
          [
           "Kazakhstan",
           18994958.000000004,
           10673024.603373181,
           8321933.396626822,
           7063982.583373181,
           2772091.8277988536,
           5705784.040912426,
           43.81127558495692,
           56.188724415043076,
           81,
           "Asia",
           4.12310498046875
          ],
          [
           "Paraguay",
           7219640.999999999,
           3775926.337519166,
           3443714.6624808335,
           3775926.337519166,
           2139845.0167551464,
           2664627.558247589,
           47.69925073117672,
           52.30074926882329,
           100,
           "Americas",
           4.24264111328125
          ],
          [
           "Gabon",
           2278829,
           959008.5981148643,
           1224357.7712826834,
           566002.6516233057,
           44926.74458869131,
           539416.0528308639,
           53.727496502926876,
           42.08339450282861,
           82,
           "Africa",
           4.24264111328125
          ],
          [
           "Peru",
           33359415,
           14960602.220853822,
           17262014.044471208,
           11738340.59432132,
           4510993.4695188375,
           9218555.006125616,
           51.74555382482339,
           44.84671634935392,
           90,
           "Americas",
           4.47213623046875
          ],
          [
           "Luxembourg",
           634813.9999999999,
           485177.7489852661,
           149636.25101473383,
           485177.7489852661,
           399278.17468857655,
           238875.3456526406,
           23.571668396527777,
           76.42833160347222,
           100,
           "Europe",
           4.47213623046875
          ],
          [
           "Iceland",
           343360.00000000006,
           182579.93187767142,
           108958.16294396333,
           182579.93187767142,
           132018.12226146035,
           122921.74136842243,
           31.732922572216715,
           53.1744908777002,
           100,
           "Europe",
           4.47213623046875
          ],
          [
           "Brazil",
           213993441,
           110599029.37871107,
           94866654.7428249,
           106489715.69628036,
           78685351.46525216,
           65607277.562596016,
           44.33157123858992,
           51.68337350055092,
           98,
           "Americas",
           4.47213623046875
          ],
          [
           "Martinique",
           374743.00000000006,
           78336.09266333246,
           162068.16528957692,
           45022.93120414357,
           36954.9554822995,
           10481.06662864601,
           43.24781658085058,
           20.903950884561535,
           86.14285714285714,
           "Americas",
           5
          ],
          [
           "Trinidad and Tobago",
           1403374,
           639454.0353404226,
           616931.249984918,
           551507.0653676487,
           386787.8036764208,
           329900.3839199438,
           43.96057287543578,
           45.56547544278451,
           93,
           "Americas",
           5
          ],
          [
           "Benin",
           12451031,
           10162926.439455349,
           2194461.913170236,
           2377771.77730123,
           1514301.4534479622,
           1427223.6757905255,
           17.62474057907523,
           81.62317192411896,
           37,
           "Africa",
           5
          ],
          [
           "Saint Vincent and the Grenadines",
           111269,
           10468.604040761466,
           16091.534225624002,
           8609.394362114483,
           5686.9771251836555,
           3796.497514741472,
           14.461830541861618,
           9.408374336752793,
           93,
           "Americas",
           5
          ],
          [
           "Saint Lucia",
           184401,
           38107.25055162786,
           63405.87552372512,
           35061.856769367274,
           17767.958251901826,
           22466.416469231517,
           34.384778566127686,
           20.665425107037304,
           97,
           "Americas",
           5
          ],
          [
           "Montserrat",
           4980.999999999999,
           1437.7237860790897,
           3122.145038082653,
           1346.526409595855,
           1028.837122970515,
           412.70855232149114,
           62.681088899471064,
           28.864159527787393,
           98,
           "Americas",
           5
          ],
          [
           "Sao Tome and Principe",
           223364,
           74897.61064871476,
           128118.58111698978,
           68807.12489574362,
           26559.911905650188,
           48897.237257052584,
           57.358652744842395,
           33.53163922956016,
           97,
           "Africa",
           5.09902001953125
          ],
          [
           "Bolivia",
           11832936,
           7050082.438231822,
           4782853.561768178,
           3381872.278231822,
           2006658.658526892,
           2169106.655686009,
           40.41983799936194,
           59.58016200063807,
           69,
           "Americas",
           5.3851650390625
          ],
          [
           "Venezuela",
           28704946.999999996,
           14284340.543606741,
           13470169.836595206,
           8455893.363764333,
           4491653.279771177,
           5659965.853788056,
           46.92630101910729,
           49.76264385231836,
           79,
           "Americas",
           5.3851650390625
          ],
          [
           "Iran",
           85028760,
           30808965.92578732,
           53973434.93140009,
           29961141.917215444,
           12510075.448326418,
           22476488.119785678,
           63.47668122103638,
           36.23358252641496,
           99,
           "Asia",
           5.3851650390625
          ],
          [
           "Mexico",
           130262220,
           55220173.49970701,
           73785939.61887197,
           52640051.23733543,
           29092923.578299765,
           35082132.98426053,
           56.64415946455693,
           42.39154952196194,
           98,
           "Americas",
           5.65685400390625
          ],
          [
           "Falkland Islands",
           3527.9999999999995,
           794.7230400684598,
           1279.1037188621656,
           608.0786317647036,
           480.5077552173897,
           241.49335372020738,
           36.2557743441657,
           22.526163267246595,
           91,
           "Americas",
           5.65685400390625
          ],
          [
           "Argentina",
           45605823,
           24683359.221620537,
           19969792.15459104,
           22897233.166572075,
           19868842.269199926,
           11008327.507714102,
           43.78781225939293,
           54.12326233345364,
           96,
           "Americas",
           5.8309521484375
          ],
          [
           "Afghanistan",
           39835428,
           34527186.28374681,
           5308241.716253187,
           3455552.443746813,
           2043424.0425818772,
           2071176.886425544,
           13.325429103593883,
           86.6745708964061,
           22,
           "Asia",
           5.8309521484375
          ],
          [
           "Greece",
           10370747,
           3239995.0328623946,
           5658795.865148733,
           3239995.0328623946,
           1591508.8344150349,
           2359024.325196565,
           54.56497844512776,
           31.241674614783243,
           100,
           "Europe",
           6
          ],
          [
           "Singapore",
           5896684.000000001,
           2146504.918821313,
           1694797.4092311875,
           2146504.918821313,
           1684012.8549135192,
           860386.3227067633,
           28.741533533612913,
           36.40189840292125,
           100,
           "Asia",
           6.32455517578125
          ],
          [
           "Samoa",
           200144,
           78504.03566474016,
           108362.01316468722,
           48605.46785203178,
           45298.56728315862,
           5910.104674502251,
           54.14202432482973,
           39.22377671313662,
           84,
           "Oceania",
           6.7082041015625
          ],
          [
           "Grenada",
           113014.99999999997,
           44007.90760242395,
           30859.64526305363,
           38018.50337318575,
           11774.274865048228,
           34093.74508483634,
           27.30579592359743,
           38.93988196471615,
           92,
           "Americas",
           6.7082041015625
          ],
          [
           "Lebanon",
           6769151,
           2027060.466684655,
           4632574.67529649,
           1294500.601066729,
           348897.45790594845,
           1051838.8689218916,
           68.43656871144536,
           29.94556432091196,
           89,
           "Asia",
           6.7082041015625
          ],
          [
           "Uruguay",
           3485152,
           1500785.005667105,
           1595030.9655103202,
           1500785.005667105,
           1276060.9115366102,
           775713.1312754403,
           45.76646773254998,
           43.0622539753533,
           100,
           "Americas",
           6.7082041015625
          ],
          [
           "Morocco",
           37344787,
           16601801.351103697,
           20421718.220243048,
           9197097.436834348,
           4443759.650521818,
           6371766.469587843,
           54.68425411086974,
           44.45547206121084,
           80,
           "Africa",
           7.07106787109375
          ],
          [
           "Ethiopia",
           117876225.99999999,
           80295927.67486821,
           37580298.32513178,
           10748954.334868215,
           715370.3955258441,
           10269789.088374995,
           31.881151611633534,
           68.11884838836647,
           41,
           "Africa",
           7.07106787109375
          ],
          [
           "Algeria",
           44616625.99999999,
           21490361.608198427,
           22908849.963190433,
           9058582.368209545,
           4157872.608659514,
           6395956.461003409,
           51.345993673278734,
           48.166711683215205,
           72,
           "Africa",
           7.28010986328125
          ],
          [
           "Saint Pierre and Miquelon",
           5771,
           1427.4118636000067,
           624.1811163178397,
           1242.7684954074002,
           1159.0956664396156,
           220.68529333452398,
           10.815822497276724,
           24.734220474787847,
           91,
           "Americas",
           7.81025
          ],
          [
           "Syria",
           18275703.999999996,
           8728436.619376006,
           9468597.750047423,
           3451296.652243211,
           1501672.6108752885,
           2492997.8535214597,
           51.80975654917275,
           47.75978325856015,
           71,
           "Asia",
           8
          ],
          [
           "Bonaire Sint Eustatius and Saba",
           26445,
           1511.1975443498804,
           7469.7429230023945,
           266.6957938739218,
           266.6957938739218,
           0,
           28.24633360938701,
           5.714492510303954,
           86.14285714285714,
           "Americas",
           8.54400390625
          ],
          [
           "Mali",
           20855724.000000004,
           13943666.102843316,
           6912057.897156686,
           3515804.102843316,
           2323097.8561550514,
           2216926.109085993,
           33.14225819806919,
           66.85774180193079,
           50,
           "Africa",
           8.54400390625
          ],
          [
           "Saint Kitts and Nevis",
           53546.00000000001,
           8674.385838278524,
           14148.244683426594,
           8217.933227844422,
           1892.0421601573807,
           8217.933227844422,
           26.422598669231302,
           16.199876439469843,
           98,
           "Americas",
           9.4339814453125
          ],
          [
           "Jordan",
           10269022.000000002,
           2732957.877823477,
           7536064.122176524,
           1603365.457823477,
           418634.9052662845,
           1300472.6153207382,
           73.38638598862211,
           26.61361401137788,
           89,
           "Asia",
           9.4339814453125
          ],
          [
           "South Sudan",
           11381377,
           11049571.523298472,
           331805.4767015266,
           123449.60329847342,
           58333.57044741848,
           86937.29352610807,
           2.915336841065247,
           97.08466315893473,
           4,
           "Africa",
           9.4868330078125
          ],
          [
           "Burkina Faso",
           21497097,
           18132522.10867613,
           3364574.891323869,
           2654612.268676131,
           2528500.7865977082,
           798173.937205207,
           15.651298830367043,
           84.34870116963296,
           28,
           "Africa",
           10.2956298828125
          ],
          [
           "Tunisia",
           11935764,
           3116118.298197367,
           8126888.7612375915,
           2329107.80403692,
           1236742.3316456305,
           1564321.169112544,
           68.08855102394443,
           26.107405426224638,
           93,
           "Africa",
           11.40175
          ],
          [
           "Israel",
           8789776,
           1871034.552228547,
           6854225.748521794,
           1871034.552228547,
           1122578.5234563232,
           1155916.646752469,
           77.97952699274468,
           21.286487303300415,
           100,
           "Asia",
           14.7648203125
          ],
          [
           "Senegal",
           17196308,
           6013404.739442617,
           10238756.791489407,
           1950364.3567096111,
           680534.1817286428,
           1522578.1474591948,
           59.54043618833419,
           34.96916163308204,
           75,
           "Africa",
           15.8113896484375
          ],
          [
           "Turkmenistan",
           6117932.999999999,
           3664194.965018641,
           2453738.0349813583,
           727587.1250186415,
           155753.40087534103,
           658036.5064940166,
           40.10730478711288,
           59.892695212887126,
           52,
           "Asia",
           17.691810546875
          ],
          [
           "Hong Kong",
           7552800,
           954960.5530860792,
           3128551.1539737503,
           954960.5530860792,
           954960.5530860792,
           0,
           41.42240167850003,
           12.64379505727782,
           100,
           "Asia",
           18.6815390625
          ],
          [
           "Palestine",
           5222756,
           2756112.583800058,
           2466643.416199942,
           353644.82380005775,
           101072.17607380403,
           307952.83201737906,
           47.22876994827907,
           52.77123005172093,
           54,
           "Asia",
           19.104970703125
          ],
          [
           "Chad",
           16914985,
           14185724.910401994,
           2729260.0895980056,
           653736.9104019946,
           255655.42955422975,
           507110.1666850508,
           16.135161157979187,
           83.86483884202082,
           20,
           "Africa",
           20
          ],
          [
           "Eritrea",
           3601462,
           1895451.6863994545,
           1654983.83520797,
           191242.6360278907,
           53506.739362129636,
           153894.85660978887,
           45.953111131200885,
           52.63006208032889,
           52,
           "Africa",
           20.615529296875
          ],
          [
           "Yemen",
           30490638.999999996,
           14215309.41066795,
           15842418.946765559,
           989908.933397206,
           244855.23290263835,
           821629.5770782616,
           51.958304143004554,
           46.62188093423674,
           56,
           "Asia",
           21.587029296875
          ],
          [
           "Namibia",
           2587343.9999999995,
           546090.0904036365,
           2028377.3548144083,
           56941.275812207976,
           36351.40343106286,
           24280.509883425835,
           78.39612184597057,
           21.106203520043586,
           81,
           "Africa",
           30.413810546875
          ],
          [
           "Mauritania",
           4775110.000000001,
           2401295.6720295073,
           2354774.924692802,
           165942.491570022,
           15640.521738646683,
           158079.48026017594,
           49.31352209043984,
           50.287756136078684,
           53,
           "Africa",
           30.80583984375
          ],
          [
           "Timor",
           1343874.9999999998,
           445659.2235570589,
           806246.7399228264,
           20011.195973897873,
           9059.602817712692,
           12305.16084964627,
           59.99417653597444,
           33.162252706320075,
           66,
           "Asia",
           32.015619140625
          ],
          [
           "Botswana",
           2397240,
           371465.78501794755,
           2025774.2149820526,
           155714.18501794757,
           70408.4062327409,
           107194.99721689706,
           84.5044390625074,
           15.495560937492597,
           91,
           "Africa",
           33.94112890625
          ],
          [
           "Niger",
           25130809.999999996,
           15895018.273441728,
           9235791.726558266,
           816532.2734417313,
           217026.9073044882,
           667600.6304423643,
           36.750871645435495,
           63.2491283545645,
           40,
           "Africa",
           33.9705703125
          ],
          [
           "Djibouti",
           1002197,
           171549.90458644184,
           725167.4682182835,
           19107.951209638522,
           5887.987090761373,
           14524.24095679757,
           72.357776786229,
           17.1173835669476,
           83,
           "Africa",
           34.539828125
          ],
          [
           "Sudan",
           44909351,
           26774686.264230546,
           18048038.952775836,
           2570414.647047099,
           362192.49584445567,
           2390109.482847325,
           40.187708240931464,
           59.61940145657092,
           46,
           "Africa",
           47.43416015625
          ],
          [
           "Oman",
           5223376,
           363410.8368107213,
           4594136.712833925,
           165108.93482493545,
           157041.8908072969,
           12976.82621674339,
           87.95339858424754,
           6.957393777716199,
           96,
           "Asia",
           49.36598046875
          ],
          [
           "Somalia",
           16359500,
           8570130.862570671,
           7109639.716099183,
           259852.45587564836,
           15823.999834004193,
           248628.075437233,
           43.458783679814076,
           52.38626402133727,
           47,
           "Africa",
           79.3095234375
          ],
          [
           "Kuwait",
           4328553,
           277068.07775852736,
           2982556.366459442,
           0,
           0,
           0,
           68.90423581412638,
           6.400939939017205,
           91.5,
           "Asia",
           96.83490625
          ],
          [
           "Western Sahara",
           611871.9999999999,
           174345.0015018969,
           371927.9162863081,
           1358.5775356319846,
           1291.2023358477284,
           82.06413238738155,
           60.785248595508236,
           28.49370481112013,
           68.33333333333333,
           "Africa",
           132.00759375
          ],
          [
           "United Arab Emirates",
           9991083,
           1746.2752416803814,
           9833625.314225627,
           1746.2752416803814,
           1746.2752416803814,
           0,
           98.42401783896328,
           0.017478337850665254,
           100,
           "Asia",
           169.62309375
          ],
          [
           "Qatar",
           2930524.0000000005,
           0,
           2582024.245538265,
           0,
           0,
           0,
           88.10793719956787,
           0,
           100,
           "Asia",
           192.262796875
          ],
          [
           "Saudi Arabia",
           35340680,
           5865300.175376604,
           28992800.10731805,
           288004.1301454599,
           151111.56549495875,
           190147.74027542616,
           82.0380369232229,
           16.596455346576818,
           84,
           "Asia",
           215.2045
          ],
          [
           "Libya",
           6958537.999999999,
           1528199.0187585598,
           5411396.261663074,
           1488.0570658005838,
           538.6744038575353,
           1145.3478635744198,
           77.76628167674122,
           21.961495629664736,
           78,
           "Africa",
           223.16359375
          ]
         ],
         "geo": "geo",
         "hovertemplate": "<b>%{hovertext}</b><br><br>ISOCODE=%{location}<br>Entity=%{customdata[0]}<br>country_pop_raw=%{customdata[1]}<br>country_pop_with_water=%{customdata[2]}<br>country_pop_without_water=%{customdata[3]}<br>population_piped_with_access=%{customdata[4]}<br>population_piped_with_cycling_access=%{customdata[5]}<br>population_piped_with_walking_access=%{customdata[6]}<br>percent_without_water=%{z}<br>percent_with_water=%{customdata[8]}<br>Nat Piped=%{customdata[9]}<br>region=%{customdata[10]}<br>weighted_med=%{customdata[11]}<extra></extra>",
         "hovertext": [
          "British Virgin Islands",
          "Saint Martin (French part)",
          "Panama",
          "Congo",
          "Mauritius",
          "Vietnam",
          "Azerbaijan",
          "New Caledonia",
          "Albania",
          "Malta",
          "Australia",
          "Eswatini",
          "Japan",
          "Guyana",
          "Belize",
          "Solomon Islands",
          "Brunei",
          "Norway",
          "Philippines",
          "Fiji",
          "Suriname",
          "Netherlands",
          "Papua New Guinea",
          "New Zealand",
          "Sweden",
          "Puerto Rico",
          "Lesotho",
          "Thailand",
          "Switzerland",
          "Slovakia",
          "Nepal",
          "Slovenia",
          "Estonia",
          "Canada",
          "Austria",
          "Malawi",
          "Moldova",
          "Isle of Man",
          "Myanmar",
          "French Guiana",
          "Kyrgyzstan",
          "France",
          "United Kingdom",
          "Georgia",
          "Finland",
          "Armenia",
          "El Salvador",
          "Hungary",
          "Bangladesh",
          "Lithuania",
          "China",
          "North Macedonia",
          "Romania",
          "Vanuatu",
          "Denmark",
          "Uganda",
          "Sierra Leone",
          "Tanzania",
          "Democratic Republic of Congo",
          "Taiwan",
          "Latvia",
          "Pakistan",
          "Poland",
          "Faeroe Islands",
          "Guinea-Bissau",
          "Italy",
          "Mozambique",
          "Ireland",
          "Laos",
          "Zambia",
          "Belarus",
          "Equatorial Guinea",
          "Central African Republic",
          "Croatia",
          "Cameroon",
          "Russia",
          "Dominican Republic",
          "Palau",
          "Germany",
          "Czechia",
          "Guinea",
          "Serbia",
          "Costa Rica",
          "Guatemala",
          "Honduras",
          "Cambodia",
          "Haiti",
          "Malaysia",
          "South Africa",
          "Ukraine",
          "Burundi",
          "Belgium",
          "Bulgaria",
          "Bosnia and Herzegovina",
          "Zimbabwe",
          "Liechtenstein",
          "Chile",
          "Cyprus",
          "India",
          "Spain",
          "Iraq",
          "Colombia",
          "Egypt",
          "Sri Lanka",
          "Bahamas",
          "Montenegro",
          "Rwanda",
          "Turkey",
          "Tajikistan",
          "Togo",
          "Turks and Caicos Islands",
          "Uzbekistan",
          "Reunion",
          "North Korea",
          "Nigeria",
          "Mongolia",
          "Portugal",
          "Madagascar",
          "Ecuador",
          "United States",
          "Angola",
          "Bhutan",
          "Nicaragua",
          "Curacao",
          "Indonesia",
          "Jamaica",
          "South Korea",
          "Cuba",
          "Liberia",
          "Andorra",
          "Kenya",
          "Guadeloupe",
          "Cote d'Ivoire",
          "Gambia",
          "Ghana",
          "Kazakhstan",
          "Paraguay",
          "Gabon",
          "Peru",
          "Luxembourg",
          "Iceland",
          "Brazil",
          "Martinique",
          "Trinidad and Tobago",
          "Benin",
          "Saint Vincent and the Grenadines",
          "Saint Lucia",
          "Montserrat",
          "Sao Tome and Principe",
          "Bolivia",
          "Venezuela",
          "Iran",
          "Mexico",
          "Falkland Islands",
          "Argentina",
          "Afghanistan",
          "Greece",
          "Singapore",
          "Samoa",
          "Grenada",
          "Lebanon",
          "Uruguay",
          "Morocco",
          "Ethiopia",
          "Algeria",
          "Saint Pierre and Miquelon",
          "Syria",
          "Bonaire Sint Eustatius and Saba",
          "Mali",
          "Saint Kitts and Nevis",
          "Jordan",
          "South Sudan",
          "Burkina Faso",
          "Tunisia",
          "Israel",
          "Senegal",
          "Turkmenistan",
          "Hong Kong",
          "Palestine",
          "Chad",
          "Eritrea",
          "Yemen",
          "Namibia",
          "Mauritania",
          "Timor",
          "Botswana",
          "Niger",
          "Djibouti",
          "Sudan",
          "Oman",
          "Somalia",
          "Kuwait",
          "Western Sahara",
          "United Arab Emirates",
          "Qatar",
          "Saudi Arabia",
          "Libya"
         ],
         "locations": [
          "VGB",
          "MAF",
          "PAN",
          "COG",
          "MUS",
          "VNM",
          "AZE",
          "NCL",
          "ALB",
          "MLT",
          "AUS",
          "SWZ",
          "JPN",
          "GUY",
          "BLZ",
          "SLB",
          "BRN",
          "NOR",
          "PHL",
          "FJI",
          "SUR",
          "NLD",
          "PNG",
          "NZL",
          "SWE",
          "PRI",
          "LSO",
          "THA",
          "CHE",
          "SVK",
          "NPL",
          "SVN",
          "EST",
          "CAN",
          "AUT",
          "MWI",
          "MDA",
          "IMN",
          "MMR",
          "GUF",
          "KGZ",
          "FRA",
          "GBR",
          "GEO",
          "FIN",
          "ARM",
          "SLV",
          "HUN",
          "BGD",
          "LTU",
          "CHN",
          "MKD",
          "ROU",
          "VUT",
          "DNK",
          "UGA",
          "SLE",
          "TZA",
          "COD",
          "TWN",
          "LVA",
          "PAK",
          "POL",
          "FRO",
          "GNB",
          "ITA",
          "MOZ",
          "IRL",
          "LAO",
          "ZMB",
          "BLR",
          "GNQ",
          "CAF",
          "HRV",
          "CMR",
          "RUS",
          "DOM",
          "PLW",
          "DEU",
          "CZE",
          "GIN",
          "SRB",
          "CRI",
          "GTM",
          "HND",
          "KHM",
          "HTI",
          "MYS",
          "ZAF",
          "UKR",
          "BDI",
          "BEL",
          "BGR",
          "BIH",
          "ZWE",
          "LIE",
          "CHL",
          "CYP",
          "IND",
          "ESP",
          "IRQ",
          "COL",
          "EGY",
          "LKA",
          "BHS",
          "MNE",
          "RWA",
          "TUR",
          "TJK",
          "TGO",
          "TCA",
          "UZB",
          "REU",
          "PRK",
          "NGA",
          "MNG",
          "PRT",
          "MDG",
          "ECU",
          "USA",
          "AGO",
          "BTN",
          "NIC",
          "CUW",
          "IDN",
          "JAM",
          "KOR",
          "CUB",
          "LBR",
          "AND",
          "KEN",
          "GLP",
          "CIV",
          "GMB",
          "GHA",
          "KAZ",
          "PRY",
          "GAB",
          "PER",
          "LUX",
          "ISL",
          "BRA",
          "MTQ",
          "TTO",
          "BEN",
          "VCT",
          "LCA",
          "MSR",
          "STP",
          "BOL",
          "VEN",
          "IRN",
          "MEX",
          "FLK",
          "ARG",
          "AFG",
          "GRC",
          "SGP",
          "WSM",
          "GRD",
          "LBN",
          "URY",
          "MAR",
          "ETH",
          "DZA",
          "SPM",
          "SYR",
          "BES",
          "MLI",
          "KNA",
          "JOR",
          "SSD",
          "BFA",
          "TUN",
          "ISR",
          "SEN",
          "TKM",
          "HKG",
          "PSE",
          "TCD",
          "ERI",
          "YEM",
          "NAM",
          "MRT",
          "TLS",
          "BWA",
          "NER",
          "DJI",
          "SDN",
          "OMN",
          "SOM",
          "KWT",
          "ESH",
          "ARE",
          "QAT",
          "SAU",
          "LBY"
         ],
         "name": "",
         "type": "choropleth",
         "z": [
          0,
          0,
          14.50004859056579,
          20.099601207216818,
          9.81841135430297,
          6.145988869324678,
          36.24742820266743,
          28.047161738431107,
          22.16864775143994,
          18.55952454781255,
          18.02088217843369,
          14.831651100233897,
          11.643093616966897,
          14.439843062470878,
          13.017442888662762,
          11.25190155409327,
          24.798827800772557,
          9.22507317227035,
          18.539821028668623,
          23.313855808082646,
          20.23559158980564,
          5.134067201572207,
          2.904962293290909,
          16.224796402268677,
          5.292214149701089,
          29.798581556479565,
          27.6892744519848,
          18.556785546208786,
          12.659708712825257,
          23.68679727117604,
          13.412913777827951,
          15.252245898566718,
          30.539051606436807,
          19.057988873837978,
          7.2890802127695276,
          6.034738125155643,
          24.06822026837627,
          12.60442042677841,
          7.720199007120922,
          22.68883490942579,
          33.408683299506166,
          17.47685227133592,
          22.43798687759604,
          37.16622181710127,
          8.004293943131668,
          44.596544966360206,
          30.401703011471852,
          35.37287528481372,
          4.84063662367814,
          27.8959186123591,
          17.217350900306016,
          22.547859753956228,
          24.864038126344848,
          15.543896573779248,
          7.165331271450922,
          7.68501811673306,
          9.243268956822316,
          11.822954660726689,
          14.12085817082305,
          19.77906841076952,
          42.833699774525755,
          8.445563842010799,
          17.931721332191852,
          18.18311407863345,
          10.312863920600115,
          19.279269920920232,
          12.826472641551584,
          23.440950349817257,
          9.001250873115465,
          10.569830455022636,
          30.597093222708526,
          18.572183084713934,
          5.8426376781907905,
          31.42146455601419,
          18.25698791124958,
          40.30040492527991,
          37.96522513256555,
          15.056794366343581,
          16.11625249580272,
          34.41073428796205,
          10.516136853507374,
          35.863857180491664,
          26.574508021542957,
          35.07289476676102,
          36.47184999006933,
          7.2251689236662076,
          8.687454249286573,
          31.300371104375067,
          42.89484557931179,
          22.833165856355087,
          16.829276302998178,
          18.930143536720653,
          41.91940960117441,
          34.33501325492488,
          12.811481417853052,
          16.688,
          36.035644906237565,
          32.734425542262954,
          17.064333628825054,
          24.480108990131473,
          40.58626898000298,
          41.342363625952636,
          54.40136805243394,
          12.78436335132124,
          39.00098293313355,
          46.21625266329421,
          21.956395046630053,
          42.153296919670815,
          32.25514064676909,
          10.966100954445535,
          18.83565178262467,
          32.14079593898446,
          38.207930126991684,
          34.30340033220359,
          4.80498605784676,
          13.17230582843488,
          40.250140868062616,
          17.6600838232235,
          28.86919196501139,
          33.99314940812507,
          24.209307401601055,
          64.7171780816991,
          34.548925615804016,
          22.534475663441857,
          14.963518411394935,
          38.38745503696371,
          34.30480006270439,
          42.682723554980036,
          2.5649467557984162,
          21.939580046688548,
          17.01210514274531,
          35.94467517754143,
          17.72419330971359,
          26.94711207193538,
          16.46330702905813,
          43.81127558495692,
          47.69925073117672,
          53.727496502926876,
          51.74555382482339,
          23.571668396527777,
          31.732922572216715,
          44.33157123858992,
          43.24781658085058,
          43.96057287543578,
          17.62474057907523,
          14.461830541861618,
          34.384778566127686,
          62.681088899471064,
          57.358652744842395,
          40.41983799936194,
          46.92630101910729,
          63.47668122103638,
          56.64415946455693,
          36.2557743441657,
          43.78781225939293,
          13.325429103593883,
          54.56497844512776,
          28.741533533612913,
          54.14202432482973,
          27.30579592359743,
          68.43656871144536,
          45.76646773254998,
          54.68425411086974,
          31.881151611633534,
          51.345993673278734,
          10.815822497276724,
          51.80975654917275,
          28.24633360938701,
          33.14225819806919,
          26.422598669231302,
          73.38638598862211,
          2.915336841065247,
          15.651298830367043,
          68.08855102394443,
          77.97952699274468,
          59.54043618833419,
          40.10730478711288,
          41.42240167850003,
          47.22876994827907,
          16.135161157979187,
          45.953111131200885,
          51.958304143004554,
          78.39612184597057,
          49.31352209043984,
          59.99417653597444,
          84.5044390625074,
          36.750871645435495,
          72.357776786229,
          40.187708240931464,
          87.95339858424754,
          43.458783679814076,
          68.90423581412638,
          60.785248595508236,
          98.42401783896328,
          88.10793719956787,
          82.0380369232229,
          77.76628167674122
         ]
        }
       ],
       "layout": {
        "coloraxis": {
         "colorbar": {
          "title": {
           "text": ""
          }
         },
         "colorscale": [
          [
           0,
           "#0d0887"
          ],
          [
           0.1111111111111111,
           "#46039f"
          ],
          [
           0.2222222222222222,
           "#7201a8"
          ],
          [
           0.3333333333333333,
           "#9c179e"
          ],
          [
           0.4444444444444444,
           "#bd3786"
          ],
          [
           0.5555555555555556,
           "#d8576b"
          ],
          [
           0.6666666666666666,
           "#ed7953"
          ],
          [
           0.7777777777777778,
           "#fb9f3a"
          ],
          [
           0.8888888888888888,
           "#fdca26"
          ],
          [
           1,
           "#f0f921"
          ]
         ]
        },
        "geo": {
         "center": {},
         "domain": {
          "x": [
           0,
           1
          ],
          "y": [
           0,
           1
          ]
         }
        },
        "height": 600,
        "legend": {
         "tracegroupgap": 0
        },
        "template": {
         "data": {
          "bar": [
           {
            "error_x": {
             "color": "#2a3f5f"
            },
            "error_y": {
             "color": "#2a3f5f"
            },
            "marker": {
             "line": {
              "color": "#E5ECF6",
              "width": 0.5
             },
             "pattern": {
              "fillmode": "overlay",
              "size": 10,
              "solidity": 0.2
             }
            },
            "type": "bar"
           }
          ],
          "barpolar": [
           {
            "marker": {
             "line": {
              "color": "#E5ECF6",
              "width": 0.5
             },
             "pattern": {
              "fillmode": "overlay",
              "size": 10,
              "solidity": 0.2
             }
            },
            "type": "barpolar"
           }
          ],
          "carpet": [
           {
            "aaxis": {
             "endlinecolor": "#2a3f5f",
             "gridcolor": "white",
             "linecolor": "white",
             "minorgridcolor": "white",
             "startlinecolor": "#2a3f5f"
            },
            "baxis": {
             "endlinecolor": "#2a3f5f",
             "gridcolor": "white",
             "linecolor": "white",
             "minorgridcolor": "white",
             "startlinecolor": "#2a3f5f"
            },
            "type": "carpet"
           }
          ],
          "choropleth": [
           {
            "colorbar": {
             "outlinewidth": 0,
             "ticks": ""
            },
            "type": "choropleth"
           }
          ],
          "contour": [
           {
            "colorbar": {
             "outlinewidth": 0,
             "ticks": ""
            },
            "colorscale": [
             [
              0,
              "#0d0887"
             ],
             [
              0.1111111111111111,
              "#46039f"
             ],
             [
              0.2222222222222222,
              "#7201a8"
             ],
             [
              0.3333333333333333,
              "#9c179e"
             ],
             [
              0.4444444444444444,
              "#bd3786"
             ],
             [
              0.5555555555555556,
              "#d8576b"
             ],
             [
              0.6666666666666666,
              "#ed7953"
             ],
             [
              0.7777777777777778,
              "#fb9f3a"
             ],
             [
              0.8888888888888888,
              "#fdca26"
             ],
             [
              1,
              "#f0f921"
             ]
            ],
            "type": "contour"
           }
          ],
          "contourcarpet": [
           {
            "colorbar": {
             "outlinewidth": 0,
             "ticks": ""
            },
            "type": "contourcarpet"
           }
          ],
          "heatmap": [
           {
            "colorbar": {
             "outlinewidth": 0,
             "ticks": ""
            },
            "colorscale": [
             [
              0,
              "#0d0887"
             ],
             [
              0.1111111111111111,
              "#46039f"
             ],
             [
              0.2222222222222222,
              "#7201a8"
             ],
             [
              0.3333333333333333,
              "#9c179e"
             ],
             [
              0.4444444444444444,
              "#bd3786"
             ],
             [
              0.5555555555555556,
              "#d8576b"
             ],
             [
              0.6666666666666666,
              "#ed7953"
             ],
             [
              0.7777777777777778,
              "#fb9f3a"
             ],
             [
              0.8888888888888888,
              "#fdca26"
             ],
             [
              1,
              "#f0f921"
             ]
            ],
            "type": "heatmap"
           }
          ],
          "heatmapgl": [
           {
            "colorbar": {
             "outlinewidth": 0,
             "ticks": ""
            },
            "colorscale": [
             [
              0,
              "#0d0887"
             ],
             [
              0.1111111111111111,
              "#46039f"
             ],
             [
              0.2222222222222222,
              "#7201a8"
             ],
             [
              0.3333333333333333,
              "#9c179e"
             ],
             [
              0.4444444444444444,
              "#bd3786"
             ],
             [
              0.5555555555555556,
              "#d8576b"
             ],
             [
              0.6666666666666666,
              "#ed7953"
             ],
             [
              0.7777777777777778,
              "#fb9f3a"
             ],
             [
              0.8888888888888888,
              "#fdca26"
             ],
             [
              1,
              "#f0f921"
             ]
            ],
            "type": "heatmapgl"
           }
          ],
          "histogram": [
           {
            "marker": {
             "pattern": {
              "fillmode": "overlay",
              "size": 10,
              "solidity": 0.2
             }
            },
            "type": "histogram"
           }
          ],
          "histogram2d": [
           {
            "colorbar": {
             "outlinewidth": 0,
             "ticks": ""
            },
            "colorscale": [
             [
              0,
              "#0d0887"
             ],
             [
              0.1111111111111111,
              "#46039f"
             ],
             [
              0.2222222222222222,
              "#7201a8"
             ],
             [
              0.3333333333333333,
              "#9c179e"
             ],
             [
              0.4444444444444444,
              "#bd3786"
             ],
             [
              0.5555555555555556,
              "#d8576b"
             ],
             [
              0.6666666666666666,
              "#ed7953"
             ],
             [
              0.7777777777777778,
              "#fb9f3a"
             ],
             [
              0.8888888888888888,
              "#fdca26"
             ],
             [
              1,
              "#f0f921"
             ]
            ],
            "type": "histogram2d"
           }
          ],
          "histogram2dcontour": [
           {
            "colorbar": {
             "outlinewidth": 0,
             "ticks": ""
            },
            "colorscale": [
             [
              0,
              "#0d0887"
             ],
             [
              0.1111111111111111,
              "#46039f"
             ],
             [
              0.2222222222222222,
              "#7201a8"
             ],
             [
              0.3333333333333333,
              "#9c179e"
             ],
             [
              0.4444444444444444,
              "#bd3786"
             ],
             [
              0.5555555555555556,
              "#d8576b"
             ],
             [
              0.6666666666666666,
              "#ed7953"
             ],
             [
              0.7777777777777778,
              "#fb9f3a"
             ],
             [
              0.8888888888888888,
              "#fdca26"
             ],
             [
              1,
              "#f0f921"
             ]
            ],
            "type": "histogram2dcontour"
           }
          ],
          "mesh3d": [
           {
            "colorbar": {
             "outlinewidth": 0,
             "ticks": ""
            },
            "type": "mesh3d"
           }
          ],
          "parcoords": [
           {
            "line": {
             "colorbar": {
              "outlinewidth": 0,
              "ticks": ""
             }
            },
            "type": "parcoords"
           }
          ],
          "pie": [
           {
            "automargin": true,
            "type": "pie"
           }
          ],
          "scatter": [
           {
            "fillpattern": {
             "fillmode": "overlay",
             "size": 10,
             "solidity": 0.2
            },
            "type": "scatter"
           }
          ],
          "scatter3d": [
           {
            "line": {
             "colorbar": {
              "outlinewidth": 0,
              "ticks": ""
             }
            },
            "marker": {
             "colorbar": {
              "outlinewidth": 0,
              "ticks": ""
             }
            },
            "type": "scatter3d"
           }
          ],
          "scattercarpet": [
           {
            "marker": {
             "colorbar": {
              "outlinewidth": 0,
              "ticks": ""
             }
            },
            "type": "scattercarpet"
           }
          ],
          "scattergeo": [
           {
            "marker": {
             "colorbar": {
              "outlinewidth": 0,
              "ticks": ""
             }
            },
            "type": "scattergeo"
           }
          ],
          "scattergl": [
           {
            "marker": {
             "colorbar": {
              "outlinewidth": 0,
              "ticks": ""
             }
            },
            "type": "scattergl"
           }
          ],
          "scattermapbox": [
           {
            "marker": {
             "colorbar": {
              "outlinewidth": 0,
              "ticks": ""
             }
            },
            "type": "scattermapbox"
           }
          ],
          "scatterpolar": [
           {
            "marker": {
             "colorbar": {
              "outlinewidth": 0,
              "ticks": ""
             }
            },
            "type": "scatterpolar"
           }
          ],
          "scatterpolargl": [
           {
            "marker": {
             "colorbar": {
              "outlinewidth": 0,
              "ticks": ""
             }
            },
            "type": "scatterpolargl"
           }
          ],
          "scatterternary": [
           {
            "marker": {
             "colorbar": {
              "outlinewidth": 0,
              "ticks": ""
             }
            },
            "type": "scatterternary"
           }
          ],
          "surface": [
           {
            "colorbar": {
             "outlinewidth": 0,
             "ticks": ""
            },
            "colorscale": [
             [
              0,
              "#0d0887"
             ],
             [
              0.1111111111111111,
              "#46039f"
             ],
             [
              0.2222222222222222,
              "#7201a8"
             ],
             [
              0.3333333333333333,
              "#9c179e"
             ],
             [
              0.4444444444444444,
              "#bd3786"
             ],
             [
              0.5555555555555556,
              "#d8576b"
             ],
             [
              0.6666666666666666,
              "#ed7953"
             ],
             [
              0.7777777777777778,
              "#fb9f3a"
             ],
             [
              0.8888888888888888,
              "#fdca26"
             ],
             [
              1,
              "#f0f921"
             ]
            ],
            "type": "surface"
           }
          ],
          "table": [
           {
            "cells": {
             "fill": {
              "color": "#EBF0F8"
             },
             "line": {
              "color": "white"
             }
            },
            "header": {
             "fill": {
              "color": "#C8D4E3"
             },
             "line": {
              "color": "white"
             }
            },
            "type": "table"
           }
          ]
         },
         "layout": {
          "annotationdefaults": {
           "arrowcolor": "#2a3f5f",
           "arrowhead": 0,
           "arrowwidth": 1
          },
          "autotypenumbers": "strict",
          "coloraxis": {
           "colorbar": {
            "outlinewidth": 0,
            "ticks": ""
           }
          },
          "colorscale": {
           "diverging": [
            [
             0,
             "#8e0152"
            ],
            [
             0.1,
             "#c51b7d"
            ],
            [
             0.2,
             "#de77ae"
            ],
            [
             0.3,
             "#f1b6da"
            ],
            [
             0.4,
             "#fde0ef"
            ],
            [
             0.5,
             "#f7f7f7"
            ],
            [
             0.6,
             "#e6f5d0"
            ],
            [
             0.7,
             "#b8e186"
            ],
            [
             0.8,
             "#7fbc41"
            ],
            [
             0.9,
             "#4d9221"
            ],
            [
             1,
             "#276419"
            ]
           ],
           "sequential": [
            [
             0,
             "#0d0887"
            ],
            [
             0.1111111111111111,
             "#46039f"
            ],
            [
             0.2222222222222222,
             "#7201a8"
            ],
            [
             0.3333333333333333,
             "#9c179e"
            ],
            [
             0.4444444444444444,
             "#bd3786"
            ],
            [
             0.5555555555555556,
             "#d8576b"
            ],
            [
             0.6666666666666666,
             "#ed7953"
            ],
            [
             0.7777777777777778,
             "#fb9f3a"
            ],
            [
             0.8888888888888888,
             "#fdca26"
            ],
            [
             1,
             "#f0f921"
            ]
           ],
           "sequentialminus": [
            [
             0,
             "#0d0887"
            ],
            [
             0.1111111111111111,
             "#46039f"
            ],
            [
             0.2222222222222222,
             "#7201a8"
            ],
            [
             0.3333333333333333,
             "#9c179e"
            ],
            [
             0.4444444444444444,
             "#bd3786"
            ],
            [
             0.5555555555555556,
             "#d8576b"
            ],
            [
             0.6666666666666666,
             "#ed7953"
            ],
            [
             0.7777777777777778,
             "#fb9f3a"
            ],
            [
             0.8888888888888888,
             "#fdca26"
            ],
            [
             1,
             "#f0f921"
            ]
           ]
          },
          "colorway": [
           "#636efa",
           "#EF553B",
           "#00cc96",
           "#ab63fa",
           "#FFA15A",
           "#19d3f3",
           "#FF6692",
           "#B6E880",
           "#FF97FF",
           "#FECB52"
          ],
          "font": {
           "color": "#2a3f5f"
          },
          "geo": {
           "bgcolor": "white",
           "lakecolor": "white",
           "landcolor": "#E5ECF6",
           "showlakes": true,
           "showland": true,
           "subunitcolor": "white"
          },
          "hoverlabel": {
           "align": "left"
          },
          "hovermode": "closest",
          "mapbox": {
           "style": "light"
          },
          "paper_bgcolor": "white",
          "plot_bgcolor": "#E5ECF6",
          "polar": {
           "angularaxis": {
            "gridcolor": "white",
            "linecolor": "white",
            "ticks": ""
           },
           "bgcolor": "#E5ECF6",
           "radialaxis": {
            "gridcolor": "white",
            "linecolor": "white",
            "ticks": ""
           }
          },
          "scene": {
           "xaxis": {
            "backgroundcolor": "#E5ECF6",
            "gridcolor": "white",
            "gridwidth": 2,
            "linecolor": "white",
            "showbackground": true,
            "ticks": "",
            "zerolinecolor": "white"
           },
           "yaxis": {
            "backgroundcolor": "#E5ECF6",
            "gridcolor": "white",
            "gridwidth": 2,
            "linecolor": "white",
            "showbackground": true,
            "ticks": "",
            "zerolinecolor": "white"
           },
           "zaxis": {
            "backgroundcolor": "#E5ECF6",
            "gridcolor": "white",
            "gridwidth": 2,
            "linecolor": "white",
            "showbackground": true,
            "ticks": "",
            "zerolinecolor": "white"
           }
          },
          "shapedefaults": {
           "line": {
            "color": "#2a3f5f"
           }
          },
          "ternary": {
           "aaxis": {
            "gridcolor": "white",
            "linecolor": "white",
            "ticks": ""
           },
           "baxis": {
            "gridcolor": "white",
            "linecolor": "white",
            "ticks": ""
           },
           "bgcolor": "#E5ECF6",
           "caxis": {
            "gridcolor": "white",
            "linecolor": "white",
            "ticks": ""
           }
          },
          "title": {
           "x": 0.05
          },
          "xaxis": {
           "automargin": true,
           "gridcolor": "white",
           "linecolor": "white",
           "ticks": "",
           "title": {
            "standoff": 15
           },
           "zerolinecolor": "white",
           "zerolinewidth": 2
          },
          "yaxis": {
           "automargin": true,
           "gridcolor": "white",
           "linecolor": "white",
           "ticks": "",
           "title": {
            "standoff": 15
           },
           "zerolinecolor": "white",
           "zerolinewidth": 2
          }
         }
        },
        "title": {
         "text": "Percent of Population Has to Relocate"
        }
       }
      }
     },
     "metadata": {},
     "output_type": "display_data"
    }
   ],
   "source": [
    "# create choropleth map of population with water from df_country\n",
    "\n",
    "hover_data_list =[\n",
    "    \"Entity\",\n",
    "    \"country_pop_raw\",\n",
    "    \"country_pop_with_water\",\n",
    "    \"country_pop_without_water\",\n",
    "    \"population_piped_with_access\",\n",
    "    \"population_piped_with_cycling_access\",\n",
    "    \"population_piped_with_walking_access\",\n",
    "    \"percent_without_water\",\n",
    "    \"percent_with_water\",\n",
    "    \"Nat Piped\",\n",
    "    \"region\",\n",
    "    \"weighted_med\"\n",
    "    ]\n",
    "\n",
    "\n",
    "choro = px.choropleth(\n",
    "    title=\"Percent of Population Has to Relocate\",\n",
    "    data_frame=df_countries,\n",
    "    locations=\"ISOCODE\",\n",
    "    height=600,\n",
    "    color=\"percent_without_water\",\n",
    "    hover_name=\"Entity\",\n",
    "    hover_data=hover_data_list\n",
    ")\n",
    "choro.layout.coloraxis.colorbar.title = ''\n",
    "choro.show()\n"
   ]
  },
  {
   "cell_type": "code",
   "execution_count": 45,
   "metadata": {},
   "outputs": [
    {
     "data": {
      "application/vnd.plotly.v1+json": {
       "config": {
        "plotlyServerURL": "https://plotly.com"
       },
       "data": [
        {
         "hovertemplate": "<b>%{hovertext}</b><br><br>region=Americas<br>percent_without_water=%{x}<br>Nat Piped=%{y}<br>bubble_size=%{marker.size}<extra></extra>",
         "hovertext": [
          "British Virgin Islands",
          "Saint Martin (French part)",
          "Panama",
          "Guyana",
          "Belize",
          "Suriname",
          "Puerto Rico",
          "Canada",
          "French Guiana",
          "El Salvador",
          "Dominican Republic",
          "Costa Rica",
          "Guatemala",
          "Honduras",
          "Haiti",
          "Chile",
          "Colombia",
          "Bahamas",
          "Turks and Caicos Islands",
          "Ecuador",
          "United States",
          "Nicaragua",
          "Curacao",
          "Jamaica",
          "Cuba",
          "Guadeloupe",
          "Paraguay",
          "Peru",
          "Brazil",
          "Martinique",
          "Trinidad and Tobago",
          "Saint Vincent and the Grenadines",
          "Saint Lucia",
          "Montserrat",
          "Bolivia",
          "Venezuela",
          "Mexico",
          "Falkland Islands",
          "Argentina",
          "Grenada",
          "Uruguay",
          "Saint Pierre and Miquelon",
          "Bonaire Sint Eustatius and Saba",
          "Saint Kitts and Nevis"
         ],
         "legendgroup": "Americas",
         "marker": {
          "color": "#636efa",
          "size": [
           50.030423,
           50.039239,
           54.381583,
           50.790329,
           50.404915,
           50.591798,
           52.828246,
           88.067913,
           50.30645,
           56.5185,
           60.953714,
           55.139053,
           68.24986799999999,
           60.062994,
           61.541683,
           69.212362,
           101.265841,
           50.396914,
           50.039226,
           67.888474,
           382.91507400000006,
           56.702379,
           50.164796,
           52.973462,
           61.317498,
           50.400013,
           57.219640999999996,
           83.359415,
           263.99344099999996,
           50.374743,
           51.403374,
           50.111269,
           50.184401,
           50.004981,
           61.832936000000004,
           78.704947,
           180.26222,
           50.003528,
           95.605823,
           50.113015,
           53.485152,
           50.005771,
           50.026445,
           50.053546
          ],
          "sizemode": "area",
          "sizeref": 3.735540255,
          "symbol": "circle"
         },
         "mode": "markers",
         "name": "Americas",
         "orientation": "v",
         "showlegend": true,
         "type": "scatter",
         "x": [
          0,
          0,
          14.50004859056579,
          14.439843062470878,
          13.017442888662762,
          20.23559158980564,
          29.798581556479565,
          19.057988873837978,
          22.68883490942579,
          30.401703011471852,
          37.96522513256555,
          26.574508021542957,
          35.07289476676102,
          36.47184999006933,
          8.687454249286573,
          36.035644906237565,
          41.342363625952636,
          39.00098293313355,
          18.83565178262467,
          28.86919196501139,
          33.99314940812507,
          34.548925615804016,
          22.534475663441857,
          38.38745503696371,
          42.682723554980036,
          35.94467517754143,
          47.69925073117672,
          51.74555382482339,
          44.33157123858992,
          43.24781658085058,
          43.96057287543578,
          14.461830541861618,
          34.384778566127686,
          62.681088899471064,
          40.41983799936194,
          46.92630101910729,
          56.64415946455693,
          36.2557743441657,
          43.78781225939293,
          27.30579592359743,
          45.76646773254998,
          10.815822497276724,
          28.24633360938701,
          26.422598669231302
         ],
         "xaxis": "x",
         "y": [
          96,
          100,
          93,
          65,
          87,
          80,
          100,
          100,
          88,
          91,
          81,
          100,
          77,
          92,
          19,
          100,
          89,
          97,
          68,
          91,
          99,
          70,
          86.14285714285714,
          83,
          80,
          86.14285714285715,
          100,
          90,
          98,
          86.14285714285714,
          93,
          93,
          97,
          98,
          69,
          79,
          98,
          91,
          96,
          92,
          100,
          91,
          86.14285714285714,
          98
         ],
         "yaxis": "y"
        },
        {
         "hovertemplate": "<b>%{hovertext}</b><br><br>region=Africa<br>percent_without_water=%{x}<br>Nat Piped=%{y}<br>bubble_size=%{marker.size}<extra></extra>",
         "hovertext": [
          "Congo",
          "Mauritius",
          "Eswatini",
          "Lesotho",
          "Malawi",
          "Uganda",
          "Sierra Leone",
          "Tanzania",
          "Democratic Republic of Congo",
          "Guinea-Bissau",
          "Mozambique",
          "Zambia",
          "Equatorial Guinea",
          "Central African Republic",
          "Cameroon",
          "Guinea",
          "South Africa",
          "Burundi",
          "Zimbabwe",
          "Egypt",
          "Rwanda",
          "Togo",
          "Reunion",
          "Nigeria",
          "Madagascar",
          "Angola",
          "Liberia",
          "Kenya",
          "Cote d'Ivoire",
          "Gambia",
          "Ghana",
          "Gabon",
          "Benin",
          "Sao Tome and Principe",
          "Morocco",
          "Ethiopia",
          "Algeria",
          "Mali",
          "South Sudan",
          "Burkina Faso",
          "Tunisia",
          "Senegal",
          "Chad",
          "Eritrea",
          "Namibia",
          "Mauritania",
          "Botswana",
          "Niger",
          "Djibouti",
          "Sudan",
          "Somalia",
          "Western Sahara",
          "Libya"
         ],
         "legendgroup": "Africa",
         "marker": {
          "color": "#EF553B",
          "size": [
           55.657016999999996,
           51.273428,
           51.172369,
           52.159067,
           69.647681,
           97.12353300000001,
           58.141343,
           111.498438,
           142.37798600000002,
           52.01549,
           82.163045,
           68.920657,
           51.449891,
           54.919987,
           77.224262,
           63.497237,
           110.04199599999998,
           62.255429,
           65.09217100000001,
           154.25832699999998,
           63.276517,
           58.478242,
           50.901696,
           261.400704,
           78.427333,
           83.933611,
           55.180208,
           104.985702,
           77.053629,
           52.486937,
           81.732128,
           52.278829,
           62.451031,
           50.223364,
           87.344787,
           167.87622599999997,
           94.616626,
           70.85572400000001,
           61.381377,
           71.497097,
           61.935764,
           67.196308,
           66.914985,
           53.601462,
           52.587344,
           54.77511,
           52.39724,
           75.13081,
           51.002197,
           94.909351,
           66.3595,
           50.611872,
           56.958538
          ],
          "sizemode": "area",
          "sizeref": 3.735540255,
          "symbol": "circle"
         },
         "mode": "markers",
         "name": "Africa",
         "orientation": "v",
         "showlegend": true,
         "type": "scatter",
         "x": [
          20.099601207216818,
          9.81841135430297,
          14.831651100233897,
          27.6892744519848,
          6.034738125155643,
          7.68501811673306,
          9.243268956822316,
          11.822954660726689,
          14.12085817082305,
          10.312863920600115,
          12.826472641551584,
          10.569830455022636,
          18.572183084713934,
          5.8426376781907905,
          18.25698791124958,
          10.516136853507374,
          42.89484557931179,
          16.829276302998178,
          12.811481417853052,
          54.40136805243394,
          21.956395046630053,
          10.966100954445535,
          38.207930126991684,
          4.80498605784676,
          17.6600838232235,
          24.209307401601055,
          2.5649467557984162,
          17.01210514274531,
          17.72419330971359,
          26.94711207193538,
          16.46330702905813,
          53.727496502926876,
          17.62474057907523,
          57.358652744842395,
          54.68425411086974,
          31.881151611633534,
          51.345993673278734,
          33.14225819806919,
          2.915336841065247,
          15.651298830367043,
          68.08855102394443,
          59.54043618833419,
          16.135161157979187,
          45.953111131200885,
          78.39612184597057,
          49.31352209043984,
          84.5044390625074,
          36.750871645435495,
          72.357776786229,
          40.187708240931464,
          43.458783679814076,
          60.785248595508236,
          77.76628167674122
         ],
         "xaxis": "x",
         "y": [
          53,
          100,
          61,
          69,
          22,
          23,
          21,
          38,
          35,
          35,
          41,
          32,
          41,
          14,
          36,
          25,
          91,
          38,
          27,
          100,
          38,
          25,
          100,
          10,
          35,
          42,
          4,
          33,
          42,
          77,
          35,
          82,
          37,
          97,
          80,
          41,
          72,
          50,
          4,
          28,
          93,
          75,
          20,
          52,
          81,
          53,
          91,
          40,
          83,
          46,
          47,
          68.33333333333333,
          78
         ],
         "yaxis": "y"
        },
        {
         "hovertemplate": "<b>%{hovertext}</b><br><br>region=Asia<br>percent_without_water=%{x}<br>Nat Piped=%{y}<br>bubble_size=%{marker.size}<extra></extra>",
         "hovertext": [
          "Vietnam",
          "Azerbaijan",
          "Japan",
          "Brunei",
          "Philippines",
          "Thailand",
          "Nepal",
          "Myanmar",
          "Kyrgyzstan",
          "Georgia",
          "Armenia",
          "Bangladesh",
          "China",
          "Taiwan",
          "Pakistan",
          "Laos",
          "Cambodia",
          "Malaysia",
          "India",
          "Iraq",
          "Sri Lanka",
          "Turkey",
          "Tajikistan",
          "Uzbekistan",
          "North Korea",
          "Mongolia",
          "Bhutan",
          "Indonesia",
          "South Korea",
          "Kazakhstan",
          "Iran",
          "Afghanistan",
          "Singapore",
          "Lebanon",
          "Syria",
          "Jordan",
          "Israel",
          "Turkmenistan",
          "Hong Kong",
          "Palestine",
          "Yemen",
          "Timor",
          "Oman",
          "Kuwait",
          "United Arab Emirates",
          "Qatar",
          "Saudi Arabia"
         ],
         "legendgroup": "Asia",
         "marker": {
          "color": "#00cc96",
          "size": [
           148.16882900000002,
           60.223344,
           176.050796,
           50.441532,
           161.04690999999997,
           119.950844,
           79.67492,
           104.80601399999999,
           56.628347,
           53.979773,
           52.968128,
           216.303494,
           1494.216102,
           73.855008,
           275.199929,
           57.379357999999996,
           66.946446,
           82.776195,
           1443.409033,
           91.179351,
           71.497306,
           135.042736,
           59.749624999999995,
           83.935765,
           75.887045,
           53.329282,
           50.7799,
           326.36178799999993,
           101.305184,
           68.994958,
           135.02876,
           89.83542800000001,
           55.896684,
           56.769151,
           68.27570399999999,
           60.269022,
           58.789776,
           56.117933,
           57.5528,
           55.222756000000004,
           80.490639,
           51.343875,
           55.223376,
           54.328553,
           59.991083,
           52.930524,
           85.34067999999999
          ],
          "sizemode": "area",
          "sizeref": 3.735540255,
          "symbol": "circle"
         },
         "mode": "markers",
         "name": "Asia",
         "orientation": "v",
         "showlegend": true,
         "type": "scatter",
         "x": [
          6.145988869324678,
          36.24742820266743,
          11.643093616966897,
          24.798827800772557,
          18.539821028668623,
          18.556785546208786,
          13.412913777827951,
          7.720199007120922,
          33.408683299506166,
          37.16622181710127,
          44.596544966360206,
          4.84063662367814,
          17.217350900306016,
          19.77906841076952,
          8.445563842010799,
          9.001250873115465,
          7.2251689236662076,
          31.300371104375067,
          17.064333628825054,
          40.58626898000298,
          12.78436335132124,
          42.153296919670815,
          32.25514064676909,
          32.14079593898446,
          34.30340033220359,
          13.17230582843488,
          64.7171780816991,
          14.963518411394935,
          34.30480006270439,
          43.81127558495692,
          63.47668122103638,
          13.325429103593883,
          28.741533533612913,
          68.43656871144536,
          51.80975654917275,
          73.38638598862211,
          77.97952699274468,
          40.10730478711288,
          41.42240167850003,
          47.22876994827907,
          51.958304143004554,
          59.99417653597444,
          87.95339858424754,
          68.90423581412638,
          98.42401783896328,
          88.10793719956787,
          82.0380369232229
         ],
         "xaxis": "x",
         "y": [
          48,
          91,
          98,
          100,
          66,
          81,
          50,
          33,
          94,
          82,
          100,
          15,
          80,
          86.14285714285714,
          26,
          31,
          32,
          95,
          44,
          83,
          39,
          95,
          65,
          70,
          100,
          25,
          100,
          35,
          100,
          81,
          99,
          22,
          100,
          89,
          71,
          89,
          100,
          52,
          100,
          54,
          56,
          66,
          96,
          91.5,
          100,
          100,
          84
         ],
         "yaxis": "y"
        },
        {
         "hovertemplate": "<b>%{hovertext}</b><br><br>region=Oceania<br>percent_without_water=%{x}<br>Nat Piped=%{y}<br>bubble_size=%{marker.size}<extra></extra>",
         "hovertext": [
          "New Caledonia",
          "Australia",
          "Solomon Islands",
          "Fiji",
          "Papua New Guinea",
          "New Zealand",
          "Vanuatu",
          "Palau",
          "Samoa"
         ],
         "legendgroup": "Oceania",
         "marker": {
          "color": "#ab63fa",
          "size": [
           50.288217,
           75.788217,
           50.703995,
           50.902899,
           59.119005,
           54.860642,
           50.314464,
           50.018174,
           50.200144
          ],
          "sizemode": "area",
          "sizeref": 3.735540255,
          "symbol": "circle"
         },
         "mode": "markers",
         "name": "Oceania",
         "orientation": "v",
         "showlegend": true,
         "type": "scatter",
         "x": [
          28.047161738431107,
          18.02088217843369,
          11.25190155409327,
          23.313855808082646,
          2.904962293290909,
          16.224796402268677,
          15.543896573779248,
          15.056794366343581,
          54.14202432482973
         ],
         "xaxis": "x",
         "y": [
          99,
          91,
          46,
          83,
          18,
          100,
          48,
          86,
          84
         ],
         "yaxis": "y"
        },
        {
         "hovertemplate": "<b>%{hovertext}</b><br><br>region=Europe<br>percent_without_water=%{x}<br>Nat Piped=%{y}<br>bubble_size=%{marker.size}<extra></extra>",
         "hovertext": [
          "Albania",
          "Malta",
          "Norway",
          "Netherlands",
          "Sweden",
          "Switzerland",
          "Slovakia",
          "Slovenia",
          "Estonia",
          "Austria",
          "Moldova",
          "Isle of Man",
          "France",
          "United Kingdom",
          "Finland",
          "Hungary",
          "Lithuania",
          "North Macedonia",
          "Romania",
          "Denmark",
          "Latvia",
          "Poland",
          "Faeroe Islands",
          "Italy",
          "Ireland",
          "Belarus",
          "Croatia",
          "Russia",
          "Germany",
          "Czechia",
          "Serbia",
          "Ukraine",
          "Belgium",
          "Bulgaria",
          "Bosnia and Herzegovina",
          "Liechtenstein",
          "Cyprus",
          "Spain",
          "Montenegro",
          "Portugal",
          "Andorra",
          "Luxembourg",
          "Iceland",
          "Greece"
         ],
         "legendgroup": "Europe",
         "marker": {
          "color": "#FFA15A",
          "size": [
           52.872934,
           50.44279,
           55.465629,
           67.17309399999999,
           60.160159,
           58.715494,
           55.460726,
           52.078723,
           51.325188,
           59.043071999999995,
           54.024025,
           50.08541,
           115.426177,
           118.207114,
           55.548361,
           59.634162,
           52.689862,
           52.082661,
           69.12777200000001,
           55.813302,
           51.866934,
           87.797,
           50.049053,
           110.367471,
           54.982904,
           59.442867,
           54.081657,
           195.91202199999998,
           133.900471,
           60.724553,
           58.697547,
           93.466822,
           61.632334,
           56.896655,
           53.263459,
           50.038254,
           51.215588,
           96.745211,
           50.628051,
           60.167923,
           50.077354,
           50.634814,
           50.34336,
           60.370747
          ],
          "sizemode": "area",
          "sizeref": 3.735540255,
          "symbol": "circle"
         },
         "mode": "markers",
         "name": "Europe",
         "orientation": "v",
         "showlegend": true,
         "type": "scatter",
         "x": [
          22.16864775143994,
          18.55952454781255,
          9.22507317227035,
          5.134067201572207,
          5.292214149701089,
          12.659708712825257,
          23.68679727117604,
          15.252245898566718,
          30.539051606436807,
          7.2890802127695276,
          24.06822026837627,
          12.60442042677841,
          17.47685227133592,
          22.43798687759604,
          8.004293943131668,
          35.37287528481372,
          27.8959186123591,
          22.547859753956228,
          24.864038126344848,
          7.165331271450922,
          42.833699774525755,
          17.931721332191852,
          18.18311407863345,
          19.279269920920232,
          23.440950349817257,
          30.597093222708526,
          31.42146455601419,
          40.30040492527991,
          16.11625249580272,
          34.41073428796205,
          35.863857180491664,
          22.833165856355087,
          18.930143536720653,
          41.91940960117441,
          34.33501325492488,
          16.688,
          32.734425542262954,
          24.480108990131473,
          46.21625266329421,
          40.250140868062616,
          21.939580046688548,
          23.571668396527777,
          31.732922572216715,
          54.56497844512776
         ],
         "xaxis": "x",
         "y": [
          81,
          100,
          100,
          91,
          88,
          100,
          98,
          97.98214285714286,
          93,
          99.42857142857144,
          72,
          98,
          93,
          100,
          100,
          100,
          96,
          92,
          64,
          100,
          94,
          89,
          100,
          98,
          97,
          96,
          94.5,
          94,
          100,
          100,
          94,
          64,
          100,
          100,
          95,
          100,
          100,
          100,
          89,
          100,
          100,
          100,
          100,
          100
         ],
         "yaxis": "y"
        }
       ],
       "layout": {
        "legend": {
         "itemsizing": "constant",
         "title": {
          "text": "region"
         },
         "tracegroupgap": 0
        },
        "template": {
         "data": {
          "bar": [
           {
            "error_x": {
             "color": "#2a3f5f"
            },
            "error_y": {
             "color": "#2a3f5f"
            },
            "marker": {
             "line": {
              "color": "#E5ECF6",
              "width": 0.5
             },
             "pattern": {
              "fillmode": "overlay",
              "size": 10,
              "solidity": 0.2
             }
            },
            "type": "bar"
           }
          ],
          "barpolar": [
           {
            "marker": {
             "line": {
              "color": "#E5ECF6",
              "width": 0.5
             },
             "pattern": {
              "fillmode": "overlay",
              "size": 10,
              "solidity": 0.2
             }
            },
            "type": "barpolar"
           }
          ],
          "carpet": [
           {
            "aaxis": {
             "endlinecolor": "#2a3f5f",
             "gridcolor": "white",
             "linecolor": "white",
             "minorgridcolor": "white",
             "startlinecolor": "#2a3f5f"
            },
            "baxis": {
             "endlinecolor": "#2a3f5f",
             "gridcolor": "white",
             "linecolor": "white",
             "minorgridcolor": "white",
             "startlinecolor": "#2a3f5f"
            },
            "type": "carpet"
           }
          ],
          "choropleth": [
           {
            "colorbar": {
             "outlinewidth": 0,
             "ticks": ""
            },
            "type": "choropleth"
           }
          ],
          "contour": [
           {
            "colorbar": {
             "outlinewidth": 0,
             "ticks": ""
            },
            "colorscale": [
             [
              0,
              "#0d0887"
             ],
             [
              0.1111111111111111,
              "#46039f"
             ],
             [
              0.2222222222222222,
              "#7201a8"
             ],
             [
              0.3333333333333333,
              "#9c179e"
             ],
             [
              0.4444444444444444,
              "#bd3786"
             ],
             [
              0.5555555555555556,
              "#d8576b"
             ],
             [
              0.6666666666666666,
              "#ed7953"
             ],
             [
              0.7777777777777778,
              "#fb9f3a"
             ],
             [
              0.8888888888888888,
              "#fdca26"
             ],
             [
              1,
              "#f0f921"
             ]
            ],
            "type": "contour"
           }
          ],
          "contourcarpet": [
           {
            "colorbar": {
             "outlinewidth": 0,
             "ticks": ""
            },
            "type": "contourcarpet"
           }
          ],
          "heatmap": [
           {
            "colorbar": {
             "outlinewidth": 0,
             "ticks": ""
            },
            "colorscale": [
             [
              0,
              "#0d0887"
             ],
             [
              0.1111111111111111,
              "#46039f"
             ],
             [
              0.2222222222222222,
              "#7201a8"
             ],
             [
              0.3333333333333333,
              "#9c179e"
             ],
             [
              0.4444444444444444,
              "#bd3786"
             ],
             [
              0.5555555555555556,
              "#d8576b"
             ],
             [
              0.6666666666666666,
              "#ed7953"
             ],
             [
              0.7777777777777778,
              "#fb9f3a"
             ],
             [
              0.8888888888888888,
              "#fdca26"
             ],
             [
              1,
              "#f0f921"
             ]
            ],
            "type": "heatmap"
           }
          ],
          "heatmapgl": [
           {
            "colorbar": {
             "outlinewidth": 0,
             "ticks": ""
            },
            "colorscale": [
             [
              0,
              "#0d0887"
             ],
             [
              0.1111111111111111,
              "#46039f"
             ],
             [
              0.2222222222222222,
              "#7201a8"
             ],
             [
              0.3333333333333333,
              "#9c179e"
             ],
             [
              0.4444444444444444,
              "#bd3786"
             ],
             [
              0.5555555555555556,
              "#d8576b"
             ],
             [
              0.6666666666666666,
              "#ed7953"
             ],
             [
              0.7777777777777778,
              "#fb9f3a"
             ],
             [
              0.8888888888888888,
              "#fdca26"
             ],
             [
              1,
              "#f0f921"
             ]
            ],
            "type": "heatmapgl"
           }
          ],
          "histogram": [
           {
            "marker": {
             "pattern": {
              "fillmode": "overlay",
              "size": 10,
              "solidity": 0.2
             }
            },
            "type": "histogram"
           }
          ],
          "histogram2d": [
           {
            "colorbar": {
             "outlinewidth": 0,
             "ticks": ""
            },
            "colorscale": [
             [
              0,
              "#0d0887"
             ],
             [
              0.1111111111111111,
              "#46039f"
             ],
             [
              0.2222222222222222,
              "#7201a8"
             ],
             [
              0.3333333333333333,
              "#9c179e"
             ],
             [
              0.4444444444444444,
              "#bd3786"
             ],
             [
              0.5555555555555556,
              "#d8576b"
             ],
             [
              0.6666666666666666,
              "#ed7953"
             ],
             [
              0.7777777777777778,
              "#fb9f3a"
             ],
             [
              0.8888888888888888,
              "#fdca26"
             ],
             [
              1,
              "#f0f921"
             ]
            ],
            "type": "histogram2d"
           }
          ],
          "histogram2dcontour": [
           {
            "colorbar": {
             "outlinewidth": 0,
             "ticks": ""
            },
            "colorscale": [
             [
              0,
              "#0d0887"
             ],
             [
              0.1111111111111111,
              "#46039f"
             ],
             [
              0.2222222222222222,
              "#7201a8"
             ],
             [
              0.3333333333333333,
              "#9c179e"
             ],
             [
              0.4444444444444444,
              "#bd3786"
             ],
             [
              0.5555555555555556,
              "#d8576b"
             ],
             [
              0.6666666666666666,
              "#ed7953"
             ],
             [
              0.7777777777777778,
              "#fb9f3a"
             ],
             [
              0.8888888888888888,
              "#fdca26"
             ],
             [
              1,
              "#f0f921"
             ]
            ],
            "type": "histogram2dcontour"
           }
          ],
          "mesh3d": [
           {
            "colorbar": {
             "outlinewidth": 0,
             "ticks": ""
            },
            "type": "mesh3d"
           }
          ],
          "parcoords": [
           {
            "line": {
             "colorbar": {
              "outlinewidth": 0,
              "ticks": ""
             }
            },
            "type": "parcoords"
           }
          ],
          "pie": [
           {
            "automargin": true,
            "type": "pie"
           }
          ],
          "scatter": [
           {
            "fillpattern": {
             "fillmode": "overlay",
             "size": 10,
             "solidity": 0.2
            },
            "type": "scatter"
           }
          ],
          "scatter3d": [
           {
            "line": {
             "colorbar": {
              "outlinewidth": 0,
              "ticks": ""
             }
            },
            "marker": {
             "colorbar": {
              "outlinewidth": 0,
              "ticks": ""
             }
            },
            "type": "scatter3d"
           }
          ],
          "scattercarpet": [
           {
            "marker": {
             "colorbar": {
              "outlinewidth": 0,
              "ticks": ""
             }
            },
            "type": "scattercarpet"
           }
          ],
          "scattergeo": [
           {
            "marker": {
             "colorbar": {
              "outlinewidth": 0,
              "ticks": ""
             }
            },
            "type": "scattergeo"
           }
          ],
          "scattergl": [
           {
            "marker": {
             "colorbar": {
              "outlinewidth": 0,
              "ticks": ""
             }
            },
            "type": "scattergl"
           }
          ],
          "scattermapbox": [
           {
            "marker": {
             "colorbar": {
              "outlinewidth": 0,
              "ticks": ""
             }
            },
            "type": "scattermapbox"
           }
          ],
          "scatterpolar": [
           {
            "marker": {
             "colorbar": {
              "outlinewidth": 0,
              "ticks": ""
             }
            },
            "type": "scatterpolar"
           }
          ],
          "scatterpolargl": [
           {
            "marker": {
             "colorbar": {
              "outlinewidth": 0,
              "ticks": ""
             }
            },
            "type": "scatterpolargl"
           }
          ],
          "scatterternary": [
           {
            "marker": {
             "colorbar": {
              "outlinewidth": 0,
              "ticks": ""
             }
            },
            "type": "scatterternary"
           }
          ],
          "surface": [
           {
            "colorbar": {
             "outlinewidth": 0,
             "ticks": ""
            },
            "colorscale": [
             [
              0,
              "#0d0887"
             ],
             [
              0.1111111111111111,
              "#46039f"
             ],
             [
              0.2222222222222222,
              "#7201a8"
             ],
             [
              0.3333333333333333,
              "#9c179e"
             ],
             [
              0.4444444444444444,
              "#bd3786"
             ],
             [
              0.5555555555555556,
              "#d8576b"
             ],
             [
              0.6666666666666666,
              "#ed7953"
             ],
             [
              0.7777777777777778,
              "#fb9f3a"
             ],
             [
              0.8888888888888888,
              "#fdca26"
             ],
             [
              1,
              "#f0f921"
             ]
            ],
            "type": "surface"
           }
          ],
          "table": [
           {
            "cells": {
             "fill": {
              "color": "#EBF0F8"
             },
             "line": {
              "color": "white"
             }
            },
            "header": {
             "fill": {
              "color": "#C8D4E3"
             },
             "line": {
              "color": "white"
             }
            },
            "type": "table"
           }
          ]
         },
         "layout": {
          "annotationdefaults": {
           "arrowcolor": "#2a3f5f",
           "arrowhead": 0,
           "arrowwidth": 1
          },
          "autotypenumbers": "strict",
          "coloraxis": {
           "colorbar": {
            "outlinewidth": 0,
            "ticks": ""
           }
          },
          "colorscale": {
           "diverging": [
            [
             0,
             "#8e0152"
            ],
            [
             0.1,
             "#c51b7d"
            ],
            [
             0.2,
             "#de77ae"
            ],
            [
             0.3,
             "#f1b6da"
            ],
            [
             0.4,
             "#fde0ef"
            ],
            [
             0.5,
             "#f7f7f7"
            ],
            [
             0.6,
             "#e6f5d0"
            ],
            [
             0.7,
             "#b8e186"
            ],
            [
             0.8,
             "#7fbc41"
            ],
            [
             0.9,
             "#4d9221"
            ],
            [
             1,
             "#276419"
            ]
           ],
           "sequential": [
            [
             0,
             "#0d0887"
            ],
            [
             0.1111111111111111,
             "#46039f"
            ],
            [
             0.2222222222222222,
             "#7201a8"
            ],
            [
             0.3333333333333333,
             "#9c179e"
            ],
            [
             0.4444444444444444,
             "#bd3786"
            ],
            [
             0.5555555555555556,
             "#d8576b"
            ],
            [
             0.6666666666666666,
             "#ed7953"
            ],
            [
             0.7777777777777778,
             "#fb9f3a"
            ],
            [
             0.8888888888888888,
             "#fdca26"
            ],
            [
             1,
             "#f0f921"
            ]
           ],
           "sequentialminus": [
            [
             0,
             "#0d0887"
            ],
            [
             0.1111111111111111,
             "#46039f"
            ],
            [
             0.2222222222222222,
             "#7201a8"
            ],
            [
             0.3333333333333333,
             "#9c179e"
            ],
            [
             0.4444444444444444,
             "#bd3786"
            ],
            [
             0.5555555555555556,
             "#d8576b"
            ],
            [
             0.6666666666666666,
             "#ed7953"
            ],
            [
             0.7777777777777778,
             "#fb9f3a"
            ],
            [
             0.8888888888888888,
             "#fdca26"
            ],
            [
             1,
             "#f0f921"
            ]
           ]
          },
          "colorway": [
           "#636efa",
           "#EF553B",
           "#00cc96",
           "#ab63fa",
           "#FFA15A",
           "#19d3f3",
           "#FF6692",
           "#B6E880",
           "#FF97FF",
           "#FECB52"
          ],
          "font": {
           "color": "#2a3f5f"
          },
          "geo": {
           "bgcolor": "white",
           "lakecolor": "white",
           "landcolor": "#E5ECF6",
           "showlakes": true,
           "showland": true,
           "subunitcolor": "white"
          },
          "hoverlabel": {
           "align": "left"
          },
          "hovermode": "closest",
          "mapbox": {
           "style": "light"
          },
          "paper_bgcolor": "white",
          "plot_bgcolor": "#E5ECF6",
          "polar": {
           "angularaxis": {
            "gridcolor": "white",
            "linecolor": "white",
            "ticks": ""
           },
           "bgcolor": "#E5ECF6",
           "radialaxis": {
            "gridcolor": "white",
            "linecolor": "white",
            "ticks": ""
           }
          },
          "scene": {
           "xaxis": {
            "backgroundcolor": "#E5ECF6",
            "gridcolor": "white",
            "gridwidth": 2,
            "linecolor": "white",
            "showbackground": true,
            "ticks": "",
            "zerolinecolor": "white"
           },
           "yaxis": {
            "backgroundcolor": "#E5ECF6",
            "gridcolor": "white",
            "gridwidth": 2,
            "linecolor": "white",
            "showbackground": true,
            "ticks": "",
            "zerolinecolor": "white"
           },
           "zaxis": {
            "backgroundcolor": "#E5ECF6",
            "gridcolor": "white",
            "gridwidth": 2,
            "linecolor": "white",
            "showbackground": true,
            "ticks": "",
            "zerolinecolor": "white"
           }
          },
          "shapedefaults": {
           "line": {
            "color": "#2a3f5f"
           }
          },
          "ternary": {
           "aaxis": {
            "gridcolor": "white",
            "linecolor": "white",
            "ticks": ""
           },
           "baxis": {
            "gridcolor": "white",
            "linecolor": "white",
            "ticks": ""
           },
           "bgcolor": "#E5ECF6",
           "caxis": {
            "gridcolor": "white",
            "linecolor": "white",
            "ticks": ""
           }
          },
          "title": {
           "x": 0.05
          },
          "xaxis": {
           "automargin": true,
           "gridcolor": "white",
           "linecolor": "white",
           "ticks": "",
           "title": {
            "standoff": 15
           },
           "zerolinecolor": "white",
           "zerolinewidth": 2
          },
          "yaxis": {
           "automargin": true,
           "gridcolor": "white",
           "linecolor": "white",
           "ticks": "",
           "title": {
            "standoff": 15
           },
           "zerolinecolor": "white",
           "zerolinewidth": 2
          }
         }
        },
        "title": {
         "text": "Access to Water vs. Piped Water vs. Population"
        },
        "xaxis": {
         "anchor": "y",
         "domain": [
          0,
          1
         ],
         "title": {
          "text": "percent_without_water"
         }
        },
        "yaxis": {
         "anchor": "x",
         "domain": [
          0,
          1
         ],
         "title": {
          "text": "Nat Piped"
         }
        }
       }
      }
     },
     "metadata": {},
     "output_type": "display_data"
    }
   ],
   "source": [
    "# create bubble chart from df_countries comprising: access to water, piped water, and using population as the size of the bubble\n",
    "# create a new column for the size of the bubble\n",
    "df_countries[\"bubble_size\"] = df_countries[\"country_pop_raw\"] / 1000000 +50\n",
    "\n",
    "# create a new column for the color of the bubble\n",
    "df_countries[\"bubble_color\"] = df_countries[\"Nat Piped\"]\n",
    "\n",
    "# create a new column for the text of the bubble\n",
    "df_countries[\"bubble_text\"] = df_countries[\"Entity\"]\n",
    "\n",
    "px.scatter(df_countries, x=\"percent_without_water\", y=\"Nat Piped\", size=\"bubble_size\", color=\"region\", hover_name=\"bubble_text\", title=\"Access to Water vs. Piped Water vs. Population\")"
   ]
  },
  {
   "attachments": {},
   "cell_type": "markdown",
   "metadata": {},
   "source": [
    "Above graph is the money shot. NMeed to fix bubble sizes, maybe add labels"
   ]
  },
  {
   "cell_type": "code",
   "execution_count": 46,
   "metadata": {},
   "outputs": [
    {
     "data": {
      "application/vnd.plotly.v1+json": {
       "config": {
        "plotlyServerURL": "https://plotly.com"
       },
       "data": [
        {
         "hovertemplate": "region=Americas<br>Entity=%{x}<br>weighted_med=%{y}<extra></extra>",
         "legendgroup": "Americas",
         "line": {
          "color": "#636efa",
          "dash": "solid"
         },
         "marker": {
          "symbol": "circle"
         },
         "mode": "lines",
         "name": "Americas",
         "orientation": "v",
         "showlegend": true,
         "type": "scatter",
         "x": [
          "British Virgin Islands",
          "Saint Martin (French part)",
          "Panama",
          "Puerto Rico",
          "Suriname",
          "Belize",
          "Guyana",
          "El Salvador",
          "French Guiana",
          "Canada",
          "Honduras",
          "Haiti",
          "Guatemala",
          "Dominican Republic",
          "Costa Rica",
          "Turks and Caicos Islands",
          "Bahamas",
          "Colombia",
          "Chile",
          "Jamaica",
          "Curacao",
          "Nicaragua",
          "Ecuador",
          "United States",
          "Guadeloupe",
          "Cuba",
          "Paraguay",
          "Brazil",
          "Peru",
          "Martinique",
          "Trinidad and Tobago",
          "Saint Vincent and the Grenadines",
          "Saint Lucia",
          "Montserrat",
          "Venezuela",
          "Bolivia",
          "Mexico",
          "Falkland Islands",
          "Argentina",
          "Uruguay",
          "Grenada",
          "Saint Pierre and Miquelon",
          "Bonaire Sint Eustatius and Saba",
          "Saint Kitts and Nevis"
         ],
         "xaxis": "x",
         "y": [
          0,
          1,
          1.41421398925781,
          2.23606811523438,
          2.23606811523438,
          2.23606811523438,
          2.23606811523438,
          2.82842700195312,
          2.82842700195312,
          2.82842700195312,
          3.16227807617188,
          3.16227807617188,
          3.16227807617188,
          3.16227807617188,
          3.16227807617188,
          3.60555102539062,
          3.60555102539062,
          3.60555102539062,
          3.60555102539062,
          4,
          4,
          4,
          4,
          4,
          4.12310498046875,
          4.12310498046875,
          4.24264111328125,
          4.47213623046875,
          4.47213623046875,
          5,
          5,
          5,
          5,
          5,
          5.3851650390625,
          5.3851650390625,
          5.65685400390625,
          5.65685400390625,
          5.8309521484375,
          6.7082041015625,
          6.7082041015625,
          7.81025,
          8.54400390625,
          9.4339814453125
         ],
         "yaxis": "y"
        },
        {
         "hovertemplate": "region=Africa<br>Entity=%{x}<br>weighted_med=%{y}<extra></extra>",
         "legendgroup": "Africa",
         "line": {
          "color": "#EF553B",
          "dash": "solid"
         },
         "marker": {
          "symbol": "circle"
         },
         "mode": "lines",
         "name": "Africa",
         "orientation": "v",
         "showlegend": true,
         "type": "scatter",
         "x": [
          "Congo",
          "Mauritius",
          "Lesotho",
          "Eswatini",
          "Malawi",
          "Central African Republic",
          "Equatorial Guinea",
          "Zambia",
          "Mozambique",
          "Guinea-Bissau",
          "Uganda",
          "Tanzania",
          "Democratic Republic of Congo",
          "Sierra Leone",
          "Burundi",
          "South Africa",
          "Guinea",
          "Cameroon",
          "Togo",
          "Reunion",
          "Madagascar",
          "Nigeria",
          "Rwanda",
          "Egypt",
          "Zimbabwe",
          "Angola",
          "Cote d'Ivoire",
          "Ghana",
          "Gambia",
          "Liberia",
          "Kenya",
          "Gabon",
          "Benin",
          "Sao Tome and Principe",
          "Morocco",
          "Ethiopia",
          "Algeria",
          "Mali",
          "South Sudan",
          "Burkina Faso",
          "Tunisia",
          "Senegal",
          "Chad",
          "Eritrea",
          "Namibia",
          "Mauritania",
          "Botswana",
          "Niger",
          "Djibouti",
          "Sudan",
          "Somalia",
          "Western Sahara",
          "Libya"
         ],
         "xaxis": "x",
         "y": [
          2,
          2,
          2.23606811523438,
          2.23606811523438,
          2.82842700195312,
          3,
          3,
          3,
          3,
          3,
          3,
          3,
          3,
          3,
          3.16227807617188,
          3.16227807617188,
          3.16227807617188,
          3.16227807617188,
          3.60555102539062,
          3.60555102539062,
          3.60555102539062,
          3.60555102539062,
          3.60555102539062,
          3.60555102539062,
          3.60555102539062,
          4,
          4.12310498046875,
          4.12310498046875,
          4.12310498046875,
          4.12310498046875,
          4.12310498046875,
          4.24264111328125,
          5,
          5.09902001953125,
          7.07106787109375,
          7.07106787109375,
          7.28010986328125,
          8.54400390625,
          9.4868330078125,
          10.2956298828125,
          11.40175,
          15.8113896484375,
          20,
          20.615529296875,
          30.413810546875,
          30.80583984375,
          33.94112890625,
          33.9705703125,
          34.539828125,
          47.43416015625,
          79.3095234375,
          132.00759375,
          223.16359375
         ],
         "yaxis": "y"
        },
        {
         "hovertemplate": "region=Europe<br>Entity=%{x}<br>weighted_med=%{y}<extra></extra>",
         "legendgroup": "Europe",
         "line": {
          "color": "#00cc96",
          "dash": "solid"
         },
         "marker": {
          "symbol": "circle"
         },
         "mode": "lines",
         "name": "Europe",
         "orientation": "v",
         "showlegend": true,
         "type": "scatter",
         "x": [
          "Sweden",
          "Netherlands",
          "Norway",
          "Albania",
          "Malta",
          "Lithuania",
          "Hungary",
          "Finland",
          "United Kingdom",
          "France",
          "Isle of Man",
          "Switzerland",
          "Slovakia",
          "Slovenia",
          "Austria",
          "Moldova",
          "Estonia",
          "Faeroe Islands",
          "Belarus",
          "Ireland",
          "Italy",
          "Poland",
          "Romania",
          "Latvia",
          "North Macedonia",
          "Denmark",
          "Bosnia and Herzegovina",
          "Bulgaria",
          "Belgium",
          "Ukraine",
          "Serbia",
          "Czechia",
          "Germany",
          "Russia",
          "Croatia",
          "Portugal",
          "Spain",
          "Montenegro",
          "Cyprus",
          "Liechtenstein",
          "Andorra",
          "Iceland",
          "Luxembourg",
          "Greece"
         ],
         "xaxis": "x",
         "y": [
          2.23606811523438,
          2.23606811523438,
          2.23606811523438,
          2.23606811523438,
          2.23606811523438,
          2.82842700195312,
          2.82842700195312,
          2.82842700195312,
          2.82842700195312,
          2.82842700195312,
          2.82842700195312,
          2.82842700195312,
          2.82842700195312,
          2.82842700195312,
          2.82842700195312,
          2.82842700195312,
          2.82842700195312,
          3,
          3,
          3,
          3,
          3,
          3,
          3,
          3,
          3,
          3.16227807617188,
          3.16227807617188,
          3.16227807617188,
          3.16227807617188,
          3.16227807617188,
          3.16227807617188,
          3.16227807617188,
          3.16227807617188,
          3.16227807617188,
          3.60555102539062,
          3.60555102539062,
          3.60555102539062,
          3.60555102539062,
          3.60555102539062,
          4.12310498046875,
          4.47213623046875,
          4.47213623046875,
          6
         ],
         "yaxis": "y"
        },
        {
         "hovertemplate": "region=Oceania<br>Entity=%{x}<br>weighted_med=%{y}<extra></extra>",
         "legendgroup": "Oceania",
         "line": {
          "color": "#ab63fa",
          "dash": "solid"
         },
         "marker": {
          "symbol": "circle"
         },
         "mode": "lines",
         "name": "Oceania",
         "orientation": "v",
         "showlegend": true,
         "type": "scatter",
         "x": [
          "New Zealand",
          "Papua New Guinea",
          "Fiji",
          "Solomon Islands",
          "New Caledonia",
          "Australia",
          "Vanuatu",
          "Palau",
          "Samoa"
         ],
         "xaxis": "x",
         "y": [
          2.23606811523438,
          2.23606811523438,
          2.23606811523438,
          2.23606811523438,
          2.23606811523438,
          2.23606811523438,
          3,
          3.16227807617188,
          6.7082041015625
         ],
         "yaxis": "y"
        },
        {
         "hovertemplate": "region=Asia<br>Entity=%{x}<br>weighted_med=%{y}<extra></extra>",
         "legendgroup": "Asia",
         "line": {
          "color": "#FFA15A",
          "dash": "solid"
         },
         "marker": {
          "symbol": "circle"
         },
         "mode": "lines",
         "name": "Asia",
         "orientation": "v",
         "showlegend": true,
         "type": "scatter",
         "x": [
          "Brunei",
          "Philippines",
          "Azerbaijan",
          "Vietnam",
          "Japan",
          "Kyrgyzstan",
          "Bangladesh",
          "Armenia",
          "Georgia",
          "Nepal",
          "Myanmar",
          "Thailand",
          "Laos",
          "China",
          "Taiwan",
          "Pakistan",
          "Malaysia",
          "Cambodia",
          "Tajikistan",
          "Uzbekistan",
          "Mongolia",
          "Turkey",
          "North Korea",
          "India",
          "Sri Lanka",
          "Iraq",
          "Indonesia",
          "Bhutan",
          "Kazakhstan",
          "South Korea",
          "Iran",
          "Afghanistan",
          "Singapore",
          "Lebanon",
          "Syria",
          "Jordan",
          "Israel",
          "Turkmenistan",
          "Hong Kong",
          "Palestine",
          "Yemen",
          "Timor",
          "Oman",
          "Kuwait",
          "United Arab Emirates",
          "Qatar",
          "Saudi Arabia"
         ],
         "xaxis": "x",
         "y": [
          2.23606811523438,
          2.23606811523438,
          2.23606811523438,
          2.23606811523438,
          2.23606811523438,
          2.82842700195312,
          2.82842700195312,
          2.82842700195312,
          2.82842700195312,
          2.82842700195312,
          2.82842700195312,
          2.82842700195312,
          3,
          3,
          3,
          3,
          3.16227807617188,
          3.16227807617188,
          3.60555102539062,
          3.60555102539062,
          3.60555102539062,
          3.60555102539062,
          3.60555102539062,
          3.60555102539062,
          3.60555102539062,
          3.60555102539062,
          4,
          4,
          4.12310498046875,
          4.12310498046875,
          5.3851650390625,
          5.8309521484375,
          6.32455517578125,
          6.7082041015625,
          8,
          9.4339814453125,
          14.7648203125,
          17.691810546875,
          18.6815390625,
          19.104970703125,
          21.587029296875,
          32.015619140625,
          49.36598046875,
          96.83490625,
          169.62309375,
          192.262796875,
          215.2045
         ],
         "yaxis": "y"
        }
       ],
       "layout": {
        "legend": {
         "title": {
          "text": "region"
         },
         "tracegroupgap": 0
        },
        "template": {
         "data": {
          "bar": [
           {
            "error_x": {
             "color": "#2a3f5f"
            },
            "error_y": {
             "color": "#2a3f5f"
            },
            "marker": {
             "line": {
              "color": "#E5ECF6",
              "width": 0.5
             },
             "pattern": {
              "fillmode": "overlay",
              "size": 10,
              "solidity": 0.2
             }
            },
            "type": "bar"
           }
          ],
          "barpolar": [
           {
            "marker": {
             "line": {
              "color": "#E5ECF6",
              "width": 0.5
             },
             "pattern": {
              "fillmode": "overlay",
              "size": 10,
              "solidity": 0.2
             }
            },
            "type": "barpolar"
           }
          ],
          "carpet": [
           {
            "aaxis": {
             "endlinecolor": "#2a3f5f",
             "gridcolor": "white",
             "linecolor": "white",
             "minorgridcolor": "white",
             "startlinecolor": "#2a3f5f"
            },
            "baxis": {
             "endlinecolor": "#2a3f5f",
             "gridcolor": "white",
             "linecolor": "white",
             "minorgridcolor": "white",
             "startlinecolor": "#2a3f5f"
            },
            "type": "carpet"
           }
          ],
          "choropleth": [
           {
            "colorbar": {
             "outlinewidth": 0,
             "ticks": ""
            },
            "type": "choropleth"
           }
          ],
          "contour": [
           {
            "colorbar": {
             "outlinewidth": 0,
             "ticks": ""
            },
            "colorscale": [
             [
              0,
              "#0d0887"
             ],
             [
              0.1111111111111111,
              "#46039f"
             ],
             [
              0.2222222222222222,
              "#7201a8"
             ],
             [
              0.3333333333333333,
              "#9c179e"
             ],
             [
              0.4444444444444444,
              "#bd3786"
             ],
             [
              0.5555555555555556,
              "#d8576b"
             ],
             [
              0.6666666666666666,
              "#ed7953"
             ],
             [
              0.7777777777777778,
              "#fb9f3a"
             ],
             [
              0.8888888888888888,
              "#fdca26"
             ],
             [
              1,
              "#f0f921"
             ]
            ],
            "type": "contour"
           }
          ],
          "contourcarpet": [
           {
            "colorbar": {
             "outlinewidth": 0,
             "ticks": ""
            },
            "type": "contourcarpet"
           }
          ],
          "heatmap": [
           {
            "colorbar": {
             "outlinewidth": 0,
             "ticks": ""
            },
            "colorscale": [
             [
              0,
              "#0d0887"
             ],
             [
              0.1111111111111111,
              "#46039f"
             ],
             [
              0.2222222222222222,
              "#7201a8"
             ],
             [
              0.3333333333333333,
              "#9c179e"
             ],
             [
              0.4444444444444444,
              "#bd3786"
             ],
             [
              0.5555555555555556,
              "#d8576b"
             ],
             [
              0.6666666666666666,
              "#ed7953"
             ],
             [
              0.7777777777777778,
              "#fb9f3a"
             ],
             [
              0.8888888888888888,
              "#fdca26"
             ],
             [
              1,
              "#f0f921"
             ]
            ],
            "type": "heatmap"
           }
          ],
          "heatmapgl": [
           {
            "colorbar": {
             "outlinewidth": 0,
             "ticks": ""
            },
            "colorscale": [
             [
              0,
              "#0d0887"
             ],
             [
              0.1111111111111111,
              "#46039f"
             ],
             [
              0.2222222222222222,
              "#7201a8"
             ],
             [
              0.3333333333333333,
              "#9c179e"
             ],
             [
              0.4444444444444444,
              "#bd3786"
             ],
             [
              0.5555555555555556,
              "#d8576b"
             ],
             [
              0.6666666666666666,
              "#ed7953"
             ],
             [
              0.7777777777777778,
              "#fb9f3a"
             ],
             [
              0.8888888888888888,
              "#fdca26"
             ],
             [
              1,
              "#f0f921"
             ]
            ],
            "type": "heatmapgl"
           }
          ],
          "histogram": [
           {
            "marker": {
             "pattern": {
              "fillmode": "overlay",
              "size": 10,
              "solidity": 0.2
             }
            },
            "type": "histogram"
           }
          ],
          "histogram2d": [
           {
            "colorbar": {
             "outlinewidth": 0,
             "ticks": ""
            },
            "colorscale": [
             [
              0,
              "#0d0887"
             ],
             [
              0.1111111111111111,
              "#46039f"
             ],
             [
              0.2222222222222222,
              "#7201a8"
             ],
             [
              0.3333333333333333,
              "#9c179e"
             ],
             [
              0.4444444444444444,
              "#bd3786"
             ],
             [
              0.5555555555555556,
              "#d8576b"
             ],
             [
              0.6666666666666666,
              "#ed7953"
             ],
             [
              0.7777777777777778,
              "#fb9f3a"
             ],
             [
              0.8888888888888888,
              "#fdca26"
             ],
             [
              1,
              "#f0f921"
             ]
            ],
            "type": "histogram2d"
           }
          ],
          "histogram2dcontour": [
           {
            "colorbar": {
             "outlinewidth": 0,
             "ticks": ""
            },
            "colorscale": [
             [
              0,
              "#0d0887"
             ],
             [
              0.1111111111111111,
              "#46039f"
             ],
             [
              0.2222222222222222,
              "#7201a8"
             ],
             [
              0.3333333333333333,
              "#9c179e"
             ],
             [
              0.4444444444444444,
              "#bd3786"
             ],
             [
              0.5555555555555556,
              "#d8576b"
             ],
             [
              0.6666666666666666,
              "#ed7953"
             ],
             [
              0.7777777777777778,
              "#fb9f3a"
             ],
             [
              0.8888888888888888,
              "#fdca26"
             ],
             [
              1,
              "#f0f921"
             ]
            ],
            "type": "histogram2dcontour"
           }
          ],
          "mesh3d": [
           {
            "colorbar": {
             "outlinewidth": 0,
             "ticks": ""
            },
            "type": "mesh3d"
           }
          ],
          "parcoords": [
           {
            "line": {
             "colorbar": {
              "outlinewidth": 0,
              "ticks": ""
             }
            },
            "type": "parcoords"
           }
          ],
          "pie": [
           {
            "automargin": true,
            "type": "pie"
           }
          ],
          "scatter": [
           {
            "fillpattern": {
             "fillmode": "overlay",
             "size": 10,
             "solidity": 0.2
            },
            "type": "scatter"
           }
          ],
          "scatter3d": [
           {
            "line": {
             "colorbar": {
              "outlinewidth": 0,
              "ticks": ""
             }
            },
            "marker": {
             "colorbar": {
              "outlinewidth": 0,
              "ticks": ""
             }
            },
            "type": "scatter3d"
           }
          ],
          "scattercarpet": [
           {
            "marker": {
             "colorbar": {
              "outlinewidth": 0,
              "ticks": ""
             }
            },
            "type": "scattercarpet"
           }
          ],
          "scattergeo": [
           {
            "marker": {
             "colorbar": {
              "outlinewidth": 0,
              "ticks": ""
             }
            },
            "type": "scattergeo"
           }
          ],
          "scattergl": [
           {
            "marker": {
             "colorbar": {
              "outlinewidth": 0,
              "ticks": ""
             }
            },
            "type": "scattergl"
           }
          ],
          "scattermapbox": [
           {
            "marker": {
             "colorbar": {
              "outlinewidth": 0,
              "ticks": ""
             }
            },
            "type": "scattermapbox"
           }
          ],
          "scatterpolar": [
           {
            "marker": {
             "colorbar": {
              "outlinewidth": 0,
              "ticks": ""
             }
            },
            "type": "scatterpolar"
           }
          ],
          "scatterpolargl": [
           {
            "marker": {
             "colorbar": {
              "outlinewidth": 0,
              "ticks": ""
             }
            },
            "type": "scatterpolargl"
           }
          ],
          "scatterternary": [
           {
            "marker": {
             "colorbar": {
              "outlinewidth": 0,
              "ticks": ""
             }
            },
            "type": "scatterternary"
           }
          ],
          "surface": [
           {
            "colorbar": {
             "outlinewidth": 0,
             "ticks": ""
            },
            "colorscale": [
             [
              0,
              "#0d0887"
             ],
             [
              0.1111111111111111,
              "#46039f"
             ],
             [
              0.2222222222222222,
              "#7201a8"
             ],
             [
              0.3333333333333333,
              "#9c179e"
             ],
             [
              0.4444444444444444,
              "#bd3786"
             ],
             [
              0.5555555555555556,
              "#d8576b"
             ],
             [
              0.6666666666666666,
              "#ed7953"
             ],
             [
              0.7777777777777778,
              "#fb9f3a"
             ],
             [
              0.8888888888888888,
              "#fdca26"
             ],
             [
              1,
              "#f0f921"
             ]
            ],
            "type": "surface"
           }
          ],
          "table": [
           {
            "cells": {
             "fill": {
              "color": "#EBF0F8"
             },
             "line": {
              "color": "white"
             }
            },
            "header": {
             "fill": {
              "color": "#C8D4E3"
             },
             "line": {
              "color": "white"
             }
            },
            "type": "table"
           }
          ]
         },
         "layout": {
          "annotationdefaults": {
           "arrowcolor": "#2a3f5f",
           "arrowhead": 0,
           "arrowwidth": 1
          },
          "autotypenumbers": "strict",
          "coloraxis": {
           "colorbar": {
            "outlinewidth": 0,
            "ticks": ""
           }
          },
          "colorscale": {
           "diverging": [
            [
             0,
             "#8e0152"
            ],
            [
             0.1,
             "#c51b7d"
            ],
            [
             0.2,
             "#de77ae"
            ],
            [
             0.3,
             "#f1b6da"
            ],
            [
             0.4,
             "#fde0ef"
            ],
            [
             0.5,
             "#f7f7f7"
            ],
            [
             0.6,
             "#e6f5d0"
            ],
            [
             0.7,
             "#b8e186"
            ],
            [
             0.8,
             "#7fbc41"
            ],
            [
             0.9,
             "#4d9221"
            ],
            [
             1,
             "#276419"
            ]
           ],
           "sequential": [
            [
             0,
             "#0d0887"
            ],
            [
             0.1111111111111111,
             "#46039f"
            ],
            [
             0.2222222222222222,
             "#7201a8"
            ],
            [
             0.3333333333333333,
             "#9c179e"
            ],
            [
             0.4444444444444444,
             "#bd3786"
            ],
            [
             0.5555555555555556,
             "#d8576b"
            ],
            [
             0.6666666666666666,
             "#ed7953"
            ],
            [
             0.7777777777777778,
             "#fb9f3a"
            ],
            [
             0.8888888888888888,
             "#fdca26"
            ],
            [
             1,
             "#f0f921"
            ]
           ],
           "sequentialminus": [
            [
             0,
             "#0d0887"
            ],
            [
             0.1111111111111111,
             "#46039f"
            ],
            [
             0.2222222222222222,
             "#7201a8"
            ],
            [
             0.3333333333333333,
             "#9c179e"
            ],
            [
             0.4444444444444444,
             "#bd3786"
            ],
            [
             0.5555555555555556,
             "#d8576b"
            ],
            [
             0.6666666666666666,
             "#ed7953"
            ],
            [
             0.7777777777777778,
             "#fb9f3a"
            ],
            [
             0.8888888888888888,
             "#fdca26"
            ],
            [
             1,
             "#f0f921"
            ]
           ]
          },
          "colorway": [
           "#636efa",
           "#EF553B",
           "#00cc96",
           "#ab63fa",
           "#FFA15A",
           "#19d3f3",
           "#FF6692",
           "#B6E880",
           "#FF97FF",
           "#FECB52"
          ],
          "font": {
           "color": "#2a3f5f"
          },
          "geo": {
           "bgcolor": "white",
           "lakecolor": "white",
           "landcolor": "#E5ECF6",
           "showlakes": true,
           "showland": true,
           "subunitcolor": "white"
          },
          "hoverlabel": {
           "align": "left"
          },
          "hovermode": "closest",
          "mapbox": {
           "style": "light"
          },
          "paper_bgcolor": "white",
          "plot_bgcolor": "#E5ECF6",
          "polar": {
           "angularaxis": {
            "gridcolor": "white",
            "linecolor": "white",
            "ticks": ""
           },
           "bgcolor": "#E5ECF6",
           "radialaxis": {
            "gridcolor": "white",
            "linecolor": "white",
            "ticks": ""
           }
          },
          "scene": {
           "xaxis": {
            "backgroundcolor": "#E5ECF6",
            "gridcolor": "white",
            "gridwidth": 2,
            "linecolor": "white",
            "showbackground": true,
            "ticks": "",
            "zerolinecolor": "white"
           },
           "yaxis": {
            "backgroundcolor": "#E5ECF6",
            "gridcolor": "white",
            "gridwidth": 2,
            "linecolor": "white",
            "showbackground": true,
            "ticks": "",
            "zerolinecolor": "white"
           },
           "zaxis": {
            "backgroundcolor": "#E5ECF6",
            "gridcolor": "white",
            "gridwidth": 2,
            "linecolor": "white",
            "showbackground": true,
            "ticks": "",
            "zerolinecolor": "white"
           }
          },
          "shapedefaults": {
           "line": {
            "color": "#2a3f5f"
           }
          },
          "ternary": {
           "aaxis": {
            "gridcolor": "white",
            "linecolor": "white",
            "ticks": ""
           },
           "baxis": {
            "gridcolor": "white",
            "linecolor": "white",
            "ticks": ""
           },
           "bgcolor": "#E5ECF6",
           "caxis": {
            "gridcolor": "white",
            "linecolor": "white",
            "ticks": ""
           }
          },
          "title": {
           "x": 0.05
          },
          "xaxis": {
           "automargin": true,
           "gridcolor": "white",
           "linecolor": "white",
           "ticks": "",
           "title": {
            "standoff": 15
           },
           "zerolinecolor": "white",
           "zerolinewidth": 2
          },
          "yaxis": {
           "automargin": true,
           "gridcolor": "white",
           "linecolor": "white",
           "ticks": "",
           "title": {
            "standoff": 15
           },
           "zerolinecolor": "white",
           "zerolinewidth": 2
          }
         }
        },
        "title": {
         "text": "Distance to Water"
        },
        "xaxis": {
         "anchor": "y",
         "domain": [
          0,
          1
         ],
         "title": {
          "text": "Entity"
         }
        },
        "yaxis": {
         "anchor": "x",
         "domain": [
          0,
          1
         ],
         "title": {
          "text": "weighted_med"
         }
        }
       }
      }
     },
     "metadata": {},
     "output_type": "display_data"
    }
   ],
   "source": [
    "#sort the countries by distance to water, plot the results\n",
    "df_countries.sort_values(by=\"weighted_med\", inplace=True)\n",
    "px.line(df_countries, x=\"Entity\", y=\"weighted_med\", color=\"region\", title=\"Distance to Water\")\n"
   ]
  },
  {
   "cell_type": "code",
   "execution_count": 47,
   "metadata": {},
   "outputs": [
    {
     "data": {
      "application/vnd.plotly.v1+json": {
       "config": {
        "plotlyServerURL": "https://plotly.com"
       },
       "data": [
        {
         "hovertemplate": "<b>%{hovertext}</b><br><br>region=Americas<br>percent_without_water=%{x}<br>country_pop_without_water=%{y}<br>bubble_size=%{marker.size}<extra></extra>",
         "hovertext": [
          "British Virgin Islands",
          "Saint Martin (French part)",
          "Panama",
          "Puerto Rico",
          "Suriname",
          "Belize",
          "Guyana",
          "El Salvador",
          "French Guiana",
          "Canada",
          "Honduras",
          "Haiti",
          "Guatemala",
          "Dominican Republic",
          "Costa Rica",
          "Turks and Caicos Islands",
          "Bahamas",
          "Colombia",
          "Chile",
          "Jamaica",
          "Curacao",
          "Nicaragua",
          "Ecuador",
          "United States",
          "Guadeloupe",
          "Cuba",
          "Paraguay",
          "Brazil",
          "Peru",
          "Martinique",
          "Trinidad and Tobago",
          "Saint Vincent and the Grenadines",
          "Saint Lucia",
          "Montserrat",
          "Venezuela",
          "Bolivia",
          "Mexico",
          "Falkland Islands",
          "Argentina",
          "Uruguay",
          "Grenada",
          "Saint Pierre and Miquelon",
          "Bonaire Sint Eustatius and Saba",
          "Saint Kitts and Nevis"
         ],
         "legendgroup": "Americas",
         "marker": {
          "color": "#636efa",
          "size": [
           50.030423,
           50.039239,
           54.381583,
           52.828246,
           50.591798,
           50.404915,
           50.790329,
           56.5185,
           50.30645,
           88.067913,
           60.062994,
           61.541683,
           68.24986799999999,
           60.953714,
           55.139053,
           50.039226,
           50.396914,
           101.265841,
           69.212362,
           52.973462,
           50.164796,
           56.702379,
           67.888474,
           382.91507400000006,
           50.400013,
           61.317498,
           57.219640999999996,
           263.99344099999996,
           83.359415,
           50.374743,
           51.403374,
           50.111269,
           50.184401,
           50.004981,
           78.704947,
           61.832936000000004,
           180.26222,
           50.003528,
           95.605823,
           53.485152,
           50.113015,
           50.005771,
           50.026445,
           50.053546
          ],
          "sizemode": "area",
          "sizeref": 3.735540255,
          "symbol": "circle"
         },
         "mode": "markers",
         "name": "Americas",
         "orientation": "v",
         "showlegend": true,
         "type": "scatter",
         "x": [
          0,
          0,
          14.50004859056579,
          29.798581556479565,
          20.23559158980564,
          13.017442888662762,
          14.439843062470878,
          30.401703011471852,
          22.68883490942579,
          19.057988873837978,
          36.47184999006933,
          8.687454249286573,
          35.07289476676102,
          37.96522513256555,
          26.574508021542957,
          18.83565178262467,
          39.00098293313355,
          41.342363625952636,
          36.035644906237565,
          38.38745503696371,
          22.534475663441857,
          34.548925615804016,
          28.86919196501139,
          33.99314940812507,
          35.94467517754143,
          42.682723554980036,
          47.69925073117672,
          44.33157123858992,
          51.74555382482339,
          43.24781658085058,
          43.96057287543578,
          14.461830541861618,
          34.384778566127686,
          62.681088899471064,
          46.92630101910729,
          40.41983799936194,
          56.64415946455693,
          36.2557743441657,
          43.78781225939293,
          45.76646773254998,
          27.30579592359743,
          10.815822497276724,
          28.24633360938701,
          26.422598669231302
         ],
         "xaxis": "x",
         "y": [
          0,
          0,
          635331.6640359702,
          842777.190927871,
          119753.82631663799,
          52709.578872628816,
          114122.26727719547,
          1981735.0108027926,
          69529.93457993533,
          7254978.624042323,
          3670160.0761896777,
          1002678.4302226859,
          6400756.998712793,
          4158602.180477351,
          1365678.051716344,
          7388.4727682523535,
          154800.36139921765,
          21194510.402122714,
          6923298.548420921,
          1141436.3882912018,
          37135.91451432565,
          2315599.9351992686,
          5164257.89867115,
          113168318.50699016,
          143783.37351793877,
          4830616.384680394,
          3443714.6624808335,
          94866654.7428249,
          17262014.044471208,
          162068.16528957692,
          616931.249984918,
          16091.534225624002,
          63405.87552372512,
          3122.145038082653,
          13470169.836595206,
          4782853.561768178,
          73785939.61887197,
          1279.1037188621656,
          19969792.15459104,
          1595030.9655103202,
          30859.64526305363,
          624.1811163178397,
          7469.7429230023945,
          14148.244683426594
         ],
         "yaxis": "y"
        },
        {
         "hovertemplate": "<b>%{hovertext}</b><br><br>region=Africa<br>percent_without_water=%{x}<br>country_pop_without_water=%{y}<br>bubble_size=%{marker.size}<extra></extra>",
         "hovertext": [
          "Congo",
          "Mauritius",
          "Lesotho",
          "Eswatini",
          "Malawi",
          "Central African Republic",
          "Equatorial Guinea",
          "Zambia",
          "Mozambique",
          "Guinea-Bissau",
          "Uganda",
          "Tanzania",
          "Democratic Republic of Congo",
          "Sierra Leone",
          "Burundi",
          "South Africa",
          "Guinea",
          "Cameroon",
          "Togo",
          "Reunion",
          "Madagascar",
          "Nigeria",
          "Rwanda",
          "Egypt",
          "Zimbabwe",
          "Angola",
          "Cote d'Ivoire",
          "Ghana",
          "Gambia",
          "Liberia",
          "Kenya",
          "Gabon",
          "Benin",
          "Sao Tome and Principe",
          "Morocco",
          "Ethiopia",
          "Algeria",
          "Mali",
          "South Sudan",
          "Burkina Faso",
          "Tunisia",
          "Senegal",
          "Chad",
          "Eritrea",
          "Namibia",
          "Mauritania",
          "Botswana",
          "Niger",
          "Djibouti",
          "Sudan",
          "Somalia",
          "Western Sahara",
          "Libya"
         ],
         "legendgroup": "Africa",
         "marker": {
          "color": "#EF553B",
          "size": [
           55.657016999999996,
           51.273428,
           52.159067,
           51.172369,
           69.647681,
           54.919987,
           51.449891,
           68.920657,
           82.163045,
           52.01549,
           97.12353300000001,
           111.498438,
           142.37798600000002,
           58.141343,
           62.255429,
           110.04199599999998,
           63.497237,
           77.224262,
           58.478242,
           50.901696,
           78.427333,
           261.400704,
           63.276517,
           154.25832699999998,
           65.09217100000001,
           83.933611,
           77.053629,
           81.732128,
           52.486937,
           55.180208,
           104.985702,
           52.278829,
           62.451031,
           50.223364,
           87.344787,
           167.87622599999997,
           94.616626,
           70.85572400000001,
           61.381377,
           71.497097,
           61.935764,
           67.196308,
           66.914985,
           53.601462,
           52.587344,
           54.77511,
           52.39724,
           75.13081,
           51.002197,
           94.909351,
           66.3595,
           50.611872,
           56.958538
          ],
          "sizemode": "area",
          "sizeref": 3.735540255,
          "symbol": "circle"
         },
         "mode": "markers",
         "name": "Africa",
         "orientation": "v",
         "showlegend": true,
         "type": "scatter",
         "x": [
          20.099601207216818,
          9.81841135430297,
          27.6892744519848,
          14.831651100233897,
          6.034738125155643,
          5.8426376781907905,
          18.572183084713934,
          10.569830455022636,
          12.826472641551584,
          10.312863920600115,
          7.68501811673306,
          11.822954660726689,
          14.12085817082305,
          9.243268956822316,
          16.829276302998178,
          42.89484557931179,
          10.516136853507374,
          18.25698791124958,
          10.966100954445535,
          38.207930126991684,
          17.6600838232235,
          4.80498605784676,
          21.956395046630053,
          54.40136805243394,
          12.811481417853052,
          24.209307401601055,
          17.72419330971359,
          16.46330702905813,
          26.94711207193538,
          2.5649467557984162,
          17.01210514274531,
          53.727496502926876,
          17.62474057907523,
          57.358652744842395,
          54.68425411086974,
          31.881151611633534,
          51.345993673278734,
          33.14225819806919,
          2.915336841065247,
          15.651298830367043,
          68.08855102394443,
          59.54043618833419,
          16.135161157979187,
          45.953111131200885,
          78.39612184597057,
          49.31352209043984,
          84.5044390625074,
          36.750871645435495,
          72.357776786229,
          40.187708240931464,
          43.458783679814076,
          60.785248595508236,
          77.76628167674122
         ],
         "xaxis": "x",
         "y": [
          1137037.8572244607,
          125030.39934087323,
          597829.9872322347,
          173881.6796873012,
          1185686.0960159616,
          287457.01422408875,
          269276.4110487897,
          1999881.3658763722,
          4125384.167614924,
          207854.74103330323,
          3621452.048294682,
          7270932.4417951135,
          13044564.384122774,
          752526.2301874267,
          2062500.008527767,
          25754921.46693656,
          1419387.9143622331,
          4970330.222266913,
          929732.5768822022,
          344519.3776378789,
          5020290.836506875,
          10157774.353389898,
          2915044.520952997,
          56717956.196580105,
          1933530.683215607,
          8215092.199453509,
          4795037.501252736,
          5224157.659493723,
          670157.7005484275,
          132869.57703960998,
          9354225.43771661,
          1224357.7712826834,
          2194461.913170236,
          128118.58111698978,
          20421718.220243048,
          37580298.32513178,
          22908849.963190433,
          6912057.897156686,
          331805.4767015266,
          3364574.891323869,
          8126888.7612375915,
          10238756.791489407,
          2729260.0895980056,
          1654983.83520797,
          2028377.3548144083,
          2354774.924692802,
          2025774.2149820526,
          9235791.726558266,
          725167.4682182835,
          18048038.952775836,
          7109639.716099183,
          371927.9162863081,
          5411396.261663074
         ],
         "yaxis": "y"
        },
        {
         "hovertemplate": "<b>%{hovertext}</b><br><br>region=Europe<br>percent_without_water=%{x}<br>country_pop_without_water=%{y}<br>bubble_size=%{marker.size}<extra></extra>",
         "hovertext": [
          "Sweden",
          "Netherlands",
          "Norway",
          "Albania",
          "Malta",
          "Lithuania",
          "Hungary",
          "Finland",
          "United Kingdom",
          "France",
          "Isle of Man",
          "Switzerland",
          "Slovakia",
          "Slovenia",
          "Austria",
          "Moldova",
          "Estonia",
          "Faeroe Islands",
          "Belarus",
          "Ireland",
          "Italy",
          "Poland",
          "Romania",
          "Latvia",
          "North Macedonia",
          "Denmark",
          "Bosnia and Herzegovina",
          "Bulgaria",
          "Belgium",
          "Ukraine",
          "Serbia",
          "Czechia",
          "Germany",
          "Russia",
          "Croatia",
          "Portugal",
          "Spain",
          "Montenegro",
          "Cyprus",
          "Liechtenstein",
          "Andorra",
          "Iceland",
          "Luxembourg",
          "Greece"
         ],
         "legendgroup": "Europe",
         "marker": {
          "color": "#00cc96",
          "size": [
           60.160159,
           67.17309399999999,
           55.465629,
           52.872934,
           50.44279,
           52.689862,
           59.634162,
           55.548361,
           118.207114,
           115.426177,
           50.08541,
           58.715494,
           55.460726,
           52.078723,
           59.043071999999995,
           54.024025,
           51.325188,
           50.049053,
           59.442867,
           54.982904,
           110.367471,
           87.797,
           69.12777200000001,
           51.866934,
           52.082661,
           55.813302,
           53.263459,
           56.896655,
           61.632334,
           93.466822,
           58.697547,
           60.724553,
           133.900471,
           195.91202199999998,
           54.081657,
           60.167923,
           96.745211,
           50.628051,
           51.215588,
           50.038254,
           50.077354,
           50.34336,
           50.634814,
           60.370747
          ],
          "sizemode": "area",
          "sizeref": 3.735540255,
          "symbol": "circle"
         },
         "mode": "markers",
         "name": "Europe",
         "orientation": "v",
         "showlegend": true,
         "type": "scatter",
         "x": [
          5.292214149701089,
          5.134067201572207,
          9.22507317227035,
          22.16864775143994,
          18.55952454781255,
          27.8959186123591,
          35.37287528481372,
          8.004293943131668,
          22.43798687759604,
          17.47685227133592,
          12.60442042677841,
          12.659708712825257,
          23.68679727117604,
          15.252245898566718,
          7.2890802127695276,
          24.06822026837627,
          30.539051606436807,
          18.18311407863345,
          30.597093222708526,
          23.440950349817257,
          19.279269920920232,
          17.931721332191852,
          24.864038126344848,
          42.833699774525755,
          22.547859753956228,
          7.165331271450922,
          34.33501325492488,
          41.91940960117441,
          18.930143536720653,
          22.833165856355087,
          35.863857180491664,
          34.41073428796205,
          16.11625249580272,
          40.30040492527991,
          31.42146455601419,
          40.250140868062616,
          24.480108990131473,
          46.21625266329421,
          32.734425542262954,
          16.688,
          21.939580046688548,
          31.732922572216715,
          23.571668396527777,
          54.56497844512776
         ],
         "xaxis": "x",
         "y": [
          537697.3722301287,
          881678.1865491645,
          504208.2745748281,
          636890.6185913535,
          82179.71874525919,
          750361.7143047747,
          3407880.1089969156,
          444107.12346607965,
          15304303.288906971,
          11434436.301072758,
          10765.43548651144,
          1103356.1532837625,
          1293471.0971544005,
          317051.94351006305,
          659156.7717785015,
          968511.2006545283,
          404699.8472023079,
          8919.362948992068,
          2889242.81888638,
          1168040.0526190582,
          11638407.678523242,
          6777652.711928555,
          4755936.522800315,
          799676.9045485446,
          469595.4814303423,
          416542.346109882,
          1120509.080219039,
          2891037.058229875,
          2202017.522870759,
          9924851.55974664,
          3119275.8342861375,
          3690397.436401663,
          13521611.751527738,
          58803135.7006635,
          1282516.407553072,
          4092603.330856138,
          11443278.600466928,
          290261.63701434596,
          397915.74876068346,
          6383.827519999999,
          16971.14274931546,
          108958.16294396333,
          149636.25101473383,
          5658795.865148733
         ],
         "yaxis": "y"
        },
        {
         "hovertemplate": "<b>%{hovertext}</b><br><br>region=Oceania<br>percent_without_water=%{x}<br>country_pop_without_water=%{y}<br>bubble_size=%{marker.size}<extra></extra>",
         "hovertext": [
          "New Zealand",
          "Papua New Guinea",
          "Fiji",
          "Solomon Islands",
          "New Caledonia",
          "Australia",
          "Vanuatu",
          "Palau",
          "Samoa"
         ],
         "legendgroup": "Oceania",
         "marker": {
          "color": "#ab63fa",
          "size": [
           54.860642,
           59.119005,
           50.902899,
           50.703995,
           50.288217,
           75.788217,
           50.314464,
           50.018174,
           50.200144
          ],
          "sizemode": "area",
          "sizeref": 3.735540255,
          "symbol": "circle"
         },
         "mode": "markers",
         "name": "Oceania",
         "orientation": "v",
         "showlegend": true,
         "type": "scatter",
         "x": [
          16.224796402268677,
          2.904962293290909,
          23.313855808082646,
          11.25190155409327,
          28.047161738431107,
          18.02088217843369,
          15.543896573779248,
          15.056794366343581,
          54.14202432482973
         ],
         "xaxis": "x",
         "y": [
          788629.2683431603,
          264903.65677331266,
          210500.57095262018,
          79212.8243457389,
          80836.68814765399,
          4647264.201488807,
          48879.958921769176,
          2736.421808139282,
          108362.01316468722
         ],
         "yaxis": "y"
        },
        {
         "hovertemplate": "<b>%{hovertext}</b><br><br>region=Asia<br>percent_without_water=%{x}<br>country_pop_without_water=%{y}<br>bubble_size=%{marker.size}<extra></extra>",
         "hovertext": [
          "Brunei",
          "Philippines",
          "Azerbaijan",
          "Vietnam",
          "Japan",
          "Kyrgyzstan",
          "Bangladesh",
          "Armenia",
          "Georgia",
          "Nepal",
          "Myanmar",
          "Thailand",
          "Laos",
          "China",
          "Taiwan",
          "Pakistan",
          "Malaysia",
          "Cambodia",
          "Tajikistan",
          "Uzbekistan",
          "Mongolia",
          "Turkey",
          "North Korea",
          "India",
          "Sri Lanka",
          "Iraq",
          "Indonesia",
          "Bhutan",
          "Kazakhstan",
          "South Korea",
          "Iran",
          "Afghanistan",
          "Singapore",
          "Lebanon",
          "Syria",
          "Jordan",
          "Israel",
          "Turkmenistan",
          "Hong Kong",
          "Palestine",
          "Yemen",
          "Timor",
          "Oman",
          "Kuwait",
          "United Arab Emirates",
          "Qatar",
          "Saudi Arabia"
         ],
         "legendgroup": "Asia",
         "marker": {
          "color": "#FFA15A",
          "size": [
           50.441532,
           161.04690999999997,
           60.223344,
           148.16882900000002,
           176.050796,
           56.628347,
           216.303494,
           52.968128,
           53.979773,
           79.67492,
           104.80601399999999,
           119.950844,
           57.379357999999996,
           1494.216102,
           73.855008,
           275.199929,
           82.776195,
           66.946446,
           59.749624999999995,
           83.935765,
           53.329282,
           135.042736,
           75.887045,
           1443.409033,
           71.497306,
           91.179351,
           326.36178799999993,
           50.7799,
           68.994958,
           101.305184,
           135.02876,
           89.83542800000001,
           55.896684,
           56.769151,
           68.27570399999999,
           60.269022,
           58.789776,
           56.117933,
           57.5528,
           55.222756000000004,
           80.490639,
           51.343875,
           55.223376,
           54.328553,
           59.991083,
           52.930524,
           85.34067999999999
          ],
          "sizemode": "area",
          "sizeref": 3.735540255,
          "symbol": "circle"
         },
         "mode": "markers",
         "name": "Asia",
         "orientation": "v",
         "showlegend": true,
         "type": "scatter",
         "x": [
          24.798827800772557,
          18.539821028668623,
          36.24742820266743,
          6.145988869324678,
          11.643093616966897,
          33.408683299506166,
          4.84063662367814,
          44.596544966360206,
          37.16622181710127,
          13.412913777827951,
          7.720199007120922,
          18.556785546208786,
          9.001250873115465,
          17.217350900306016,
          19.77906841076952,
          8.445563842010799,
          31.300371104375067,
          7.2251689236662076,
          32.25514064676909,
          32.14079593898446,
          13.17230582843488,
          42.153296919670815,
          34.30340033220359,
          17.064333628825054,
          12.78436335132124,
          40.58626898000298,
          14.963518411394935,
          64.7171780816991,
          43.81127558495692,
          34.30480006270439,
          63.47668122103638,
          13.325429103593883,
          28.741533533612913,
          68.43656871144536,
          51.80975654917275,
          73.38638598862211,
          77.97952699274468,
          40.10730478711288,
          41.42240167850003,
          47.22876994827907,
          51.958304143004554,
          59.99417653597444,
          87.95339858424754,
          68.90423581412638,
          98.42401783896328,
          88.10793719956787,
          82.0380369232229
         ],
         "xaxis": "x",
         "y": [
          109494.76036530711,
          20587898.371866718,
          3705699.276311707,
          6033445.303486378,
          14676212.183211964,
          2214443.457222318,
          8050147.837020378,
          1323682.538179128,
          1479131.2609971054,
          3980271.4332394223,
          4231133.3486705525,
          12980628.108843056,
          664234.5264053158,
          248655754.04006144,
          4718298.351714541,
          19019403.77585799,
          10259070.668893626,
          1224409.3500578748,
          3144755.2562825605,
          10907224.978983313,
          438543.20693103323,
          35848317.014691785,
          8880136.680527693,
          237775966.20530498,
          2748293.7097853823,
          16713162.161079546,
          41353447.02944023,
          504729.2718591714,
          8321933.396626822,
          17600140.7930026,
          53973434.93140009,
          5308241.716253187,
          1694797.4092311875,
          4632574.67529649,
          9468597.750047423,
          7536064.122176524,
          6854225.748521794,
          2453738.0349813583,
          3128551.1539737503,
          2466643.416199942,
          15842418.946765559,
          806246.7399228264,
          4594136.712833925,
          2982556.366459442,
          9833625.314225627,
          2582024.245538265,
          28992800.10731805
         ],
         "yaxis": "y"
        }
       ],
       "layout": {
        "legend": {
         "itemsizing": "constant",
         "title": {
          "text": "region"
         },
         "tracegroupgap": 0
        },
        "template": {
         "data": {
          "bar": [
           {
            "error_x": {
             "color": "#2a3f5f"
            },
            "error_y": {
             "color": "#2a3f5f"
            },
            "marker": {
             "line": {
              "color": "#E5ECF6",
              "width": 0.5
             },
             "pattern": {
              "fillmode": "overlay",
              "size": 10,
              "solidity": 0.2
             }
            },
            "type": "bar"
           }
          ],
          "barpolar": [
           {
            "marker": {
             "line": {
              "color": "#E5ECF6",
              "width": 0.5
             },
             "pattern": {
              "fillmode": "overlay",
              "size": 10,
              "solidity": 0.2
             }
            },
            "type": "barpolar"
           }
          ],
          "carpet": [
           {
            "aaxis": {
             "endlinecolor": "#2a3f5f",
             "gridcolor": "white",
             "linecolor": "white",
             "minorgridcolor": "white",
             "startlinecolor": "#2a3f5f"
            },
            "baxis": {
             "endlinecolor": "#2a3f5f",
             "gridcolor": "white",
             "linecolor": "white",
             "minorgridcolor": "white",
             "startlinecolor": "#2a3f5f"
            },
            "type": "carpet"
           }
          ],
          "choropleth": [
           {
            "colorbar": {
             "outlinewidth": 0,
             "ticks": ""
            },
            "type": "choropleth"
           }
          ],
          "contour": [
           {
            "colorbar": {
             "outlinewidth": 0,
             "ticks": ""
            },
            "colorscale": [
             [
              0,
              "#0d0887"
             ],
             [
              0.1111111111111111,
              "#46039f"
             ],
             [
              0.2222222222222222,
              "#7201a8"
             ],
             [
              0.3333333333333333,
              "#9c179e"
             ],
             [
              0.4444444444444444,
              "#bd3786"
             ],
             [
              0.5555555555555556,
              "#d8576b"
             ],
             [
              0.6666666666666666,
              "#ed7953"
             ],
             [
              0.7777777777777778,
              "#fb9f3a"
             ],
             [
              0.8888888888888888,
              "#fdca26"
             ],
             [
              1,
              "#f0f921"
             ]
            ],
            "type": "contour"
           }
          ],
          "contourcarpet": [
           {
            "colorbar": {
             "outlinewidth": 0,
             "ticks": ""
            },
            "type": "contourcarpet"
           }
          ],
          "heatmap": [
           {
            "colorbar": {
             "outlinewidth": 0,
             "ticks": ""
            },
            "colorscale": [
             [
              0,
              "#0d0887"
             ],
             [
              0.1111111111111111,
              "#46039f"
             ],
             [
              0.2222222222222222,
              "#7201a8"
             ],
             [
              0.3333333333333333,
              "#9c179e"
             ],
             [
              0.4444444444444444,
              "#bd3786"
             ],
             [
              0.5555555555555556,
              "#d8576b"
             ],
             [
              0.6666666666666666,
              "#ed7953"
             ],
             [
              0.7777777777777778,
              "#fb9f3a"
             ],
             [
              0.8888888888888888,
              "#fdca26"
             ],
             [
              1,
              "#f0f921"
             ]
            ],
            "type": "heatmap"
           }
          ],
          "heatmapgl": [
           {
            "colorbar": {
             "outlinewidth": 0,
             "ticks": ""
            },
            "colorscale": [
             [
              0,
              "#0d0887"
             ],
             [
              0.1111111111111111,
              "#46039f"
             ],
             [
              0.2222222222222222,
              "#7201a8"
             ],
             [
              0.3333333333333333,
              "#9c179e"
             ],
             [
              0.4444444444444444,
              "#bd3786"
             ],
             [
              0.5555555555555556,
              "#d8576b"
             ],
             [
              0.6666666666666666,
              "#ed7953"
             ],
             [
              0.7777777777777778,
              "#fb9f3a"
             ],
             [
              0.8888888888888888,
              "#fdca26"
             ],
             [
              1,
              "#f0f921"
             ]
            ],
            "type": "heatmapgl"
           }
          ],
          "histogram": [
           {
            "marker": {
             "pattern": {
              "fillmode": "overlay",
              "size": 10,
              "solidity": 0.2
             }
            },
            "type": "histogram"
           }
          ],
          "histogram2d": [
           {
            "colorbar": {
             "outlinewidth": 0,
             "ticks": ""
            },
            "colorscale": [
             [
              0,
              "#0d0887"
             ],
             [
              0.1111111111111111,
              "#46039f"
             ],
             [
              0.2222222222222222,
              "#7201a8"
             ],
             [
              0.3333333333333333,
              "#9c179e"
             ],
             [
              0.4444444444444444,
              "#bd3786"
             ],
             [
              0.5555555555555556,
              "#d8576b"
             ],
             [
              0.6666666666666666,
              "#ed7953"
             ],
             [
              0.7777777777777778,
              "#fb9f3a"
             ],
             [
              0.8888888888888888,
              "#fdca26"
             ],
             [
              1,
              "#f0f921"
             ]
            ],
            "type": "histogram2d"
           }
          ],
          "histogram2dcontour": [
           {
            "colorbar": {
             "outlinewidth": 0,
             "ticks": ""
            },
            "colorscale": [
             [
              0,
              "#0d0887"
             ],
             [
              0.1111111111111111,
              "#46039f"
             ],
             [
              0.2222222222222222,
              "#7201a8"
             ],
             [
              0.3333333333333333,
              "#9c179e"
             ],
             [
              0.4444444444444444,
              "#bd3786"
             ],
             [
              0.5555555555555556,
              "#d8576b"
             ],
             [
              0.6666666666666666,
              "#ed7953"
             ],
             [
              0.7777777777777778,
              "#fb9f3a"
             ],
             [
              0.8888888888888888,
              "#fdca26"
             ],
             [
              1,
              "#f0f921"
             ]
            ],
            "type": "histogram2dcontour"
           }
          ],
          "mesh3d": [
           {
            "colorbar": {
             "outlinewidth": 0,
             "ticks": ""
            },
            "type": "mesh3d"
           }
          ],
          "parcoords": [
           {
            "line": {
             "colorbar": {
              "outlinewidth": 0,
              "ticks": ""
             }
            },
            "type": "parcoords"
           }
          ],
          "pie": [
           {
            "automargin": true,
            "type": "pie"
           }
          ],
          "scatter": [
           {
            "fillpattern": {
             "fillmode": "overlay",
             "size": 10,
             "solidity": 0.2
            },
            "type": "scatter"
           }
          ],
          "scatter3d": [
           {
            "line": {
             "colorbar": {
              "outlinewidth": 0,
              "ticks": ""
             }
            },
            "marker": {
             "colorbar": {
              "outlinewidth": 0,
              "ticks": ""
             }
            },
            "type": "scatter3d"
           }
          ],
          "scattercarpet": [
           {
            "marker": {
             "colorbar": {
              "outlinewidth": 0,
              "ticks": ""
             }
            },
            "type": "scattercarpet"
           }
          ],
          "scattergeo": [
           {
            "marker": {
             "colorbar": {
              "outlinewidth": 0,
              "ticks": ""
             }
            },
            "type": "scattergeo"
           }
          ],
          "scattergl": [
           {
            "marker": {
             "colorbar": {
              "outlinewidth": 0,
              "ticks": ""
             }
            },
            "type": "scattergl"
           }
          ],
          "scattermapbox": [
           {
            "marker": {
             "colorbar": {
              "outlinewidth": 0,
              "ticks": ""
             }
            },
            "type": "scattermapbox"
           }
          ],
          "scatterpolar": [
           {
            "marker": {
             "colorbar": {
              "outlinewidth": 0,
              "ticks": ""
             }
            },
            "type": "scatterpolar"
           }
          ],
          "scatterpolargl": [
           {
            "marker": {
             "colorbar": {
              "outlinewidth": 0,
              "ticks": ""
             }
            },
            "type": "scatterpolargl"
           }
          ],
          "scatterternary": [
           {
            "marker": {
             "colorbar": {
              "outlinewidth": 0,
              "ticks": ""
             }
            },
            "type": "scatterternary"
           }
          ],
          "surface": [
           {
            "colorbar": {
             "outlinewidth": 0,
             "ticks": ""
            },
            "colorscale": [
             [
              0,
              "#0d0887"
             ],
             [
              0.1111111111111111,
              "#46039f"
             ],
             [
              0.2222222222222222,
              "#7201a8"
             ],
             [
              0.3333333333333333,
              "#9c179e"
             ],
             [
              0.4444444444444444,
              "#bd3786"
             ],
             [
              0.5555555555555556,
              "#d8576b"
             ],
             [
              0.6666666666666666,
              "#ed7953"
             ],
             [
              0.7777777777777778,
              "#fb9f3a"
             ],
             [
              0.8888888888888888,
              "#fdca26"
             ],
             [
              1,
              "#f0f921"
             ]
            ],
            "type": "surface"
           }
          ],
          "table": [
           {
            "cells": {
             "fill": {
              "color": "#EBF0F8"
             },
             "line": {
              "color": "white"
             }
            },
            "header": {
             "fill": {
              "color": "#C8D4E3"
             },
             "line": {
              "color": "white"
             }
            },
            "type": "table"
           }
          ]
         },
         "layout": {
          "annotationdefaults": {
           "arrowcolor": "#2a3f5f",
           "arrowhead": 0,
           "arrowwidth": 1
          },
          "autotypenumbers": "strict",
          "coloraxis": {
           "colorbar": {
            "outlinewidth": 0,
            "ticks": ""
           }
          },
          "colorscale": {
           "diverging": [
            [
             0,
             "#8e0152"
            ],
            [
             0.1,
             "#c51b7d"
            ],
            [
             0.2,
             "#de77ae"
            ],
            [
             0.3,
             "#f1b6da"
            ],
            [
             0.4,
             "#fde0ef"
            ],
            [
             0.5,
             "#f7f7f7"
            ],
            [
             0.6,
             "#e6f5d0"
            ],
            [
             0.7,
             "#b8e186"
            ],
            [
             0.8,
             "#7fbc41"
            ],
            [
             0.9,
             "#4d9221"
            ],
            [
             1,
             "#276419"
            ]
           ],
           "sequential": [
            [
             0,
             "#0d0887"
            ],
            [
             0.1111111111111111,
             "#46039f"
            ],
            [
             0.2222222222222222,
             "#7201a8"
            ],
            [
             0.3333333333333333,
             "#9c179e"
            ],
            [
             0.4444444444444444,
             "#bd3786"
            ],
            [
             0.5555555555555556,
             "#d8576b"
            ],
            [
             0.6666666666666666,
             "#ed7953"
            ],
            [
             0.7777777777777778,
             "#fb9f3a"
            ],
            [
             0.8888888888888888,
             "#fdca26"
            ],
            [
             1,
             "#f0f921"
            ]
           ],
           "sequentialminus": [
            [
             0,
             "#0d0887"
            ],
            [
             0.1111111111111111,
             "#46039f"
            ],
            [
             0.2222222222222222,
             "#7201a8"
            ],
            [
             0.3333333333333333,
             "#9c179e"
            ],
            [
             0.4444444444444444,
             "#bd3786"
            ],
            [
             0.5555555555555556,
             "#d8576b"
            ],
            [
             0.6666666666666666,
             "#ed7953"
            ],
            [
             0.7777777777777778,
             "#fb9f3a"
            ],
            [
             0.8888888888888888,
             "#fdca26"
            ],
            [
             1,
             "#f0f921"
            ]
           ]
          },
          "colorway": [
           "#636efa",
           "#EF553B",
           "#00cc96",
           "#ab63fa",
           "#FFA15A",
           "#19d3f3",
           "#FF6692",
           "#B6E880",
           "#FF97FF",
           "#FECB52"
          ],
          "font": {
           "color": "#2a3f5f"
          },
          "geo": {
           "bgcolor": "white",
           "lakecolor": "white",
           "landcolor": "#E5ECF6",
           "showlakes": true,
           "showland": true,
           "subunitcolor": "white"
          },
          "hoverlabel": {
           "align": "left"
          },
          "hovermode": "closest",
          "mapbox": {
           "style": "light"
          },
          "paper_bgcolor": "white",
          "plot_bgcolor": "#E5ECF6",
          "polar": {
           "angularaxis": {
            "gridcolor": "white",
            "linecolor": "white",
            "ticks": ""
           },
           "bgcolor": "#E5ECF6",
           "radialaxis": {
            "gridcolor": "white",
            "linecolor": "white",
            "ticks": ""
           }
          },
          "scene": {
           "xaxis": {
            "backgroundcolor": "#E5ECF6",
            "gridcolor": "white",
            "gridwidth": 2,
            "linecolor": "white",
            "showbackground": true,
            "ticks": "",
            "zerolinecolor": "white"
           },
           "yaxis": {
            "backgroundcolor": "#E5ECF6",
            "gridcolor": "white",
            "gridwidth": 2,
            "linecolor": "white",
            "showbackground": true,
            "ticks": "",
            "zerolinecolor": "white"
           },
           "zaxis": {
            "backgroundcolor": "#E5ECF6",
            "gridcolor": "white",
            "gridwidth": 2,
            "linecolor": "white",
            "showbackground": true,
            "ticks": "",
            "zerolinecolor": "white"
           }
          },
          "shapedefaults": {
           "line": {
            "color": "#2a3f5f"
           }
          },
          "ternary": {
           "aaxis": {
            "gridcolor": "white",
            "linecolor": "white",
            "ticks": ""
           },
           "baxis": {
            "gridcolor": "white",
            "linecolor": "white",
            "ticks": ""
           },
           "bgcolor": "#E5ECF6",
           "caxis": {
            "gridcolor": "white",
            "linecolor": "white",
            "ticks": ""
           }
          },
          "title": {
           "x": 0.05
          },
          "xaxis": {
           "automargin": true,
           "gridcolor": "white",
           "linecolor": "white",
           "ticks": "",
           "title": {
            "standoff": 15
           },
           "zerolinecolor": "white",
           "zerolinewidth": 2
          },
          "yaxis": {
           "automargin": true,
           "gridcolor": "white",
           "linecolor": "white",
           "ticks": "",
           "title": {
            "standoff": 15
           },
           "zerolinecolor": "white",
           "zerolinewidth": 2
          }
         }
        },
        "title": {
         "text": "Population vs. Percent Without Water"
        },
        "xaxis": {
         "anchor": "y",
         "domain": [
          0,
          1
         ],
         "title": {
          "text": "percent_without_water"
         }
        },
        "yaxis": {
         "anchor": "x",
         "domain": [
          0,
          1
         ],
         "title": {
          "text": "country_pop_without_water"
         }
        }
       }
      }
     },
     "metadata": {},
     "output_type": "display_data"
    }
   ],
   "source": [
    "# plot the countries by population withgout water and percent without water\n",
    "px.scatter(df_countries, x=\"percent_without_water\", y=\"country_pop_without_water\", size=\"bubble_size\", color=\"region\", hover_name=\"bubble_text\", title=\"Population vs. Percent Without Water\")\n"
   ]
  },
  {
   "cell_type": "code",
   "execution_count": 48,
   "metadata": {},
   "outputs": [
    {
     "data": {
      "text/html": [
       "<div>\n",
       "<style scoped>\n",
       "    .dataframe tbody tr th:only-of-type {\n",
       "        vertical-align: middle;\n",
       "    }\n",
       "\n",
       "    .dataframe tbody tr th {\n",
       "        vertical-align: top;\n",
       "    }\n",
       "\n",
       "    .dataframe thead th {\n",
       "        text-align: right;\n",
       "    }\n",
       "</style>\n",
       "<table border=\"1\" class=\"dataframe\">\n",
       "  <thead>\n",
       "    <tr style=\"text-align: right;\">\n",
       "      <th></th>\n",
       "      <th>zone_pop_unpiped</th>\n",
       "      <th>zone_pop_piped</th>\n",
       "      <th>pop_zone</th>\n",
       "    </tr>\n",
       "  </thead>\n",
       "  <tbody>\n",
       "    <tr>\n",
       "      <th>count</th>\n",
       "      <td>7295.000000</td>\n",
       "      <td>7295.000000</td>\n",
       "      <td>7295.000000</td>\n",
       "    </tr>\n",
       "    <tr>\n",
       "      <th>mean</th>\n",
       "      <td>580.012175</td>\n",
       "      <td>94.420587</td>\n",
       "      <td>674.432762</td>\n",
       "    </tr>\n",
       "    <tr>\n",
       "      <th>std</th>\n",
       "      <td>2720.028016</td>\n",
       "      <td>442.795258</td>\n",
       "      <td>3162.823274</td>\n",
       "    </tr>\n",
       "    <tr>\n",
       "      <th>min</th>\n",
       "      <td>4.751983</td>\n",
       "      <td>0.773579</td>\n",
       "      <td>5.525561</td>\n",
       "    </tr>\n",
       "    <tr>\n",
       "      <th>25%</th>\n",
       "      <td>68.363462</td>\n",
       "      <td>11.128936</td>\n",
       "      <td>79.492397</td>\n",
       "    </tr>\n",
       "    <tr>\n",
       "      <th>50%</th>\n",
       "      <td>226.394859</td>\n",
       "      <td>36.854977</td>\n",
       "      <td>263.249836</td>\n",
       "    </tr>\n",
       "    <tr>\n",
       "      <th>75%</th>\n",
       "      <td>667.920466</td>\n",
       "      <td>108.731239</td>\n",
       "      <td>776.651705</td>\n",
       "    </tr>\n",
       "    <tr>\n",
       "      <th>max</th>\n",
       "      <td>85345.360830</td>\n",
       "      <td>13893.430833</td>\n",
       "      <td>99238.791662</td>\n",
       "    </tr>\n",
       "  </tbody>\n",
       "</table>\n",
       "</div>"
      ],
      "text/plain": [
       "       zone_pop_unpiped  zone_pop_piped      pop_zone\n",
       "count       7295.000000     7295.000000   7295.000000\n",
       "mean         580.012175       94.420587    674.432762\n",
       "std         2720.028016      442.795258   3162.823274\n",
       "min            4.751983        0.773579      5.525561\n",
       "25%           68.363462       11.128936     79.492397\n",
       "50%          226.394859       36.854977    263.249836\n",
       "75%          667.920466      108.731239    776.651705\n",
       "max        85345.360830    13893.430833  99238.791662"
      ]
     },
     "execution_count": 48,
     "metadata": {},
     "output_type": "execute_result"
    }
   ],
   "source": [
    "# summary statistics of zones by for slected country\n",
    "# select country\n",
    "country = \"CAF\"\n",
    "\n",
    "# interertsinbg ciolumns\n",
    "interesting_cols =[\n",
    "    \"Entity\",\n",
    "    \"dtw_1\",\n",
    "    \"pop_zone\",\n",
    "    \"country_pop_raw\",\n",
    "    \"population_piped_with_access\",\n",
    "    \"population_piped_with_cycling_access\",\n",
    "    \"population_piped_with_walking_access\",\n",
    "    \"Nat Piped\",\n",
    "    \"region\",\n",
    "]\n",
    "\n",
    "other_cols = [\n",
    "    \"zone_pop_unpiped\",\n",
    "    \"zone_pop_piped\",\n",
    "    \"pop_zone\"\n",
    "\n",
    "]\n",
    "\n",
    "\n",
    "# create dataframe of zones for selected country\n",
    "df_zones_country = df_zones[df_zones[\"ISOCODE\"] == country]\n",
    "df_zones_country = df_zones_country[other_cols]\n",
    "\n",
    "# only keep intersting columns\n",
    "\n",
    "\n",
    "\n",
    "\n",
    "# create summary statistics\n",
    "df_zones_country.describe()\n",
    "\n",
    "\n",
    "\n",
    "\n",
    "\n"
   ]
  },
  {
   "cell_type": "code",
   "execution_count": 50,
   "metadata": {},
   "outputs": [
    {
     "data": {
      "application/vnd.plotly.v1+json": {
       "config": {
        "plotlyServerURL": "https://plotly.com"
       },
       "data": [
        {
         "fillpattern": {
          "shape": ""
         },
         "hovertemplate": "region=Americas<br>Entity=%{x}<br>country_pop_without_water=%{y}<extra></extra>",
         "legendgroup": "Americas",
         "line": {
          "color": "#636efa"
         },
         "marker": {
          "symbol": "circle"
         },
         "mode": "lines",
         "name": "Americas",
         "orientation": "v",
         "showlegend": true,
         "stackgroup": "1",
         "type": "scatter",
         "x": [
          "British Virgin Islands",
          "Saint Martin (French part)",
          "Panama",
          "Puerto Rico",
          "Suriname",
          "Belize",
          "Guyana",
          "El Salvador",
          "French Guiana",
          "Canada",
          "Honduras",
          "Haiti",
          "Guatemala",
          "Dominican Republic",
          "Costa Rica",
          "Turks and Caicos Islands",
          "Bahamas",
          "Colombia",
          "Chile",
          "Jamaica",
          "Curacao",
          "Nicaragua",
          "Ecuador",
          "United States",
          "Guadeloupe",
          "Cuba",
          "Paraguay",
          "Brazil",
          "Peru",
          "Martinique",
          "Trinidad and Tobago",
          "Saint Vincent and the Grenadines",
          "Saint Lucia",
          "Montserrat",
          "Venezuela",
          "Bolivia",
          "Mexico",
          "Falkland Islands",
          "Argentina",
          "Uruguay",
          "Grenada",
          "Saint Pierre and Miquelon",
          "Bonaire Sint Eustatius and Saba",
          "Saint Kitts and Nevis"
         ],
         "xaxis": "x",
         "y": [
          0,
          0,
          635331.6640359702,
          842777.190927871,
          119753.82631663799,
          52709.578872628816,
          114122.26727719547,
          1981735.0108027926,
          69529.93457993533,
          7254978.624042323,
          3670160.0761896777,
          1002678.4302226859,
          6400756.998712793,
          4158602.180477351,
          1365678.051716344,
          7388.4727682523535,
          154800.36139921765,
          21194510.402122714,
          6923298.548420921,
          1141436.3882912018,
          37135.91451432565,
          2315599.9351992686,
          5164257.89867115,
          113168318.50699016,
          143783.37351793877,
          4830616.384680394,
          3443714.6624808335,
          94866654.7428249,
          17262014.044471208,
          162068.16528957692,
          616931.249984918,
          16091.534225624002,
          63405.87552372512,
          3122.145038082653,
          13470169.836595206,
          4782853.561768178,
          73785939.61887197,
          1279.1037188621656,
          19969792.15459104,
          1595030.9655103202,
          30859.64526305363,
          624.1811163178397,
          7469.7429230023945,
          14148.244683426594
         ],
         "yaxis": "y"
        },
        {
         "fillpattern": {
          "shape": ""
         },
         "hovertemplate": "region=Africa<br>Entity=%{x}<br>country_pop_without_water=%{y}<extra></extra>",
         "legendgroup": "Africa",
         "line": {
          "color": "#EF553B"
         },
         "marker": {
          "symbol": "circle"
         },
         "mode": "lines",
         "name": "Africa",
         "orientation": "v",
         "showlegend": true,
         "stackgroup": "1",
         "type": "scatter",
         "x": [
          "Congo",
          "Mauritius",
          "Lesotho",
          "Eswatini",
          "Malawi",
          "Central African Republic",
          "Equatorial Guinea",
          "Zambia",
          "Mozambique",
          "Guinea-Bissau",
          "Uganda",
          "Tanzania",
          "Democratic Republic of Congo",
          "Sierra Leone",
          "Burundi",
          "South Africa",
          "Guinea",
          "Cameroon",
          "Togo",
          "Reunion",
          "Madagascar",
          "Nigeria",
          "Rwanda",
          "Egypt",
          "Zimbabwe",
          "Angola",
          "Cote d'Ivoire",
          "Ghana",
          "Gambia",
          "Liberia",
          "Kenya",
          "Gabon",
          "Benin",
          "Sao Tome and Principe",
          "Morocco",
          "Ethiopia",
          "Algeria",
          "Mali",
          "South Sudan",
          "Burkina Faso",
          "Tunisia",
          "Senegal",
          "Chad",
          "Eritrea",
          "Namibia",
          "Mauritania",
          "Botswana",
          "Niger",
          "Djibouti",
          "Sudan",
          "Somalia",
          "Western Sahara",
          "Libya"
         ],
         "xaxis": "x",
         "y": [
          1137037.8572244607,
          125030.39934087323,
          597829.9872322347,
          173881.6796873012,
          1185686.0960159616,
          287457.01422408875,
          269276.4110487897,
          1999881.3658763722,
          4125384.167614924,
          207854.74103330323,
          3621452.048294682,
          7270932.4417951135,
          13044564.384122774,
          752526.2301874267,
          2062500.008527767,
          25754921.46693656,
          1419387.9143622331,
          4970330.222266913,
          929732.5768822022,
          344519.3776378789,
          5020290.836506875,
          10157774.353389898,
          2915044.520952997,
          56717956.196580105,
          1933530.683215607,
          8215092.199453509,
          4795037.501252736,
          5224157.659493723,
          670157.7005484275,
          132869.57703960998,
          9354225.43771661,
          1224357.7712826834,
          2194461.913170236,
          128118.58111698978,
          20421718.220243048,
          37580298.32513178,
          22908849.963190433,
          6912057.897156686,
          331805.4767015266,
          3364574.891323869,
          8126888.7612375915,
          10238756.791489407,
          2729260.0895980056,
          1654983.83520797,
          2028377.3548144083,
          2354774.924692802,
          2025774.2149820526,
          9235791.726558266,
          725167.4682182835,
          18048038.952775836,
          7109639.716099183,
          371927.9162863081,
          5411396.261663074
         ],
         "yaxis": "y"
        },
        {
         "fillpattern": {
          "shape": ""
         },
         "hovertemplate": "region=Europe<br>Entity=%{x}<br>country_pop_without_water=%{y}<extra></extra>",
         "legendgroup": "Europe",
         "line": {
          "color": "#00cc96"
         },
         "marker": {
          "symbol": "circle"
         },
         "mode": "lines",
         "name": "Europe",
         "orientation": "v",
         "showlegend": true,
         "stackgroup": "1",
         "type": "scatter",
         "x": [
          "Sweden",
          "Netherlands",
          "Norway",
          "Albania",
          "Malta",
          "Lithuania",
          "Hungary",
          "Finland",
          "United Kingdom",
          "France",
          "Isle of Man",
          "Switzerland",
          "Slovakia",
          "Slovenia",
          "Austria",
          "Moldova",
          "Estonia",
          "Faeroe Islands",
          "Belarus",
          "Ireland",
          "Italy",
          "Poland",
          "Romania",
          "Latvia",
          "North Macedonia",
          "Denmark",
          "Bosnia and Herzegovina",
          "Bulgaria",
          "Belgium",
          "Ukraine",
          "Serbia",
          "Czechia",
          "Germany",
          "Russia",
          "Croatia",
          "Portugal",
          "Spain",
          "Montenegro",
          "Cyprus",
          "Liechtenstein",
          "Andorra",
          "Iceland",
          "Luxembourg",
          "Greece"
         ],
         "xaxis": "x",
         "y": [
          537697.3722301287,
          881678.1865491645,
          504208.2745748281,
          636890.6185913535,
          82179.71874525919,
          750361.7143047747,
          3407880.1089969156,
          444107.12346607965,
          15304303.288906971,
          11434436.301072758,
          10765.43548651144,
          1103356.1532837625,
          1293471.0971544005,
          317051.94351006305,
          659156.7717785015,
          968511.2006545283,
          404699.8472023079,
          8919.362948992068,
          2889242.81888638,
          1168040.0526190582,
          11638407.678523242,
          6777652.711928555,
          4755936.522800315,
          799676.9045485446,
          469595.4814303423,
          416542.346109882,
          1120509.080219039,
          2891037.058229875,
          2202017.522870759,
          9924851.55974664,
          3119275.8342861375,
          3690397.436401663,
          13521611.751527738,
          58803135.7006635,
          1282516.407553072,
          4092603.330856138,
          11443278.600466928,
          290261.63701434596,
          397915.74876068346,
          6383.827519999999,
          16971.14274931546,
          108958.16294396333,
          149636.25101473383,
          5658795.865148733
         ],
         "yaxis": "y"
        },
        {
         "fillpattern": {
          "shape": ""
         },
         "hovertemplate": "region=Oceania<br>Entity=%{x}<br>country_pop_without_water=%{y}<extra></extra>",
         "legendgroup": "Oceania",
         "line": {
          "color": "#ab63fa"
         },
         "marker": {
          "symbol": "circle"
         },
         "mode": "lines",
         "name": "Oceania",
         "orientation": "v",
         "showlegend": true,
         "stackgroup": "1",
         "type": "scatter",
         "x": [
          "New Zealand",
          "Papua New Guinea",
          "Fiji",
          "Solomon Islands",
          "New Caledonia",
          "Australia",
          "Vanuatu",
          "Palau",
          "Samoa"
         ],
         "xaxis": "x",
         "y": [
          788629.2683431603,
          264903.65677331266,
          210500.57095262018,
          79212.8243457389,
          80836.68814765399,
          4647264.201488807,
          48879.958921769176,
          2736.421808139282,
          108362.01316468722
         ],
         "yaxis": "y"
        },
        {
         "fillpattern": {
          "shape": ""
         },
         "hovertemplate": "region=Asia<br>Entity=%{x}<br>country_pop_without_water=%{y}<extra></extra>",
         "legendgroup": "Asia",
         "line": {
          "color": "#FFA15A"
         },
         "marker": {
          "symbol": "circle"
         },
         "mode": "lines",
         "name": "Asia",
         "orientation": "v",
         "showlegend": true,
         "stackgroup": "1",
         "type": "scatter",
         "x": [
          "Brunei",
          "Philippines",
          "Azerbaijan",
          "Vietnam",
          "Japan",
          "Kyrgyzstan",
          "Bangladesh",
          "Armenia",
          "Georgia",
          "Nepal",
          "Myanmar",
          "Thailand",
          "Laos",
          "China",
          "Taiwan",
          "Pakistan",
          "Malaysia",
          "Cambodia",
          "Tajikistan",
          "Uzbekistan",
          "Mongolia",
          "Turkey",
          "North Korea",
          "India",
          "Sri Lanka",
          "Iraq",
          "Indonesia",
          "Bhutan",
          "Kazakhstan",
          "South Korea",
          "Iran",
          "Afghanistan",
          "Singapore",
          "Lebanon",
          "Syria",
          "Jordan",
          "Israel",
          "Turkmenistan",
          "Hong Kong",
          "Palestine",
          "Yemen",
          "Timor",
          "Oman",
          "Kuwait",
          "United Arab Emirates",
          "Qatar",
          "Saudi Arabia"
         ],
         "xaxis": "x",
         "y": [
          109494.76036530711,
          20587898.371866718,
          3705699.276311707,
          6033445.303486378,
          14676212.183211964,
          2214443.457222318,
          8050147.837020378,
          1323682.538179128,
          1479131.2609971054,
          3980271.4332394223,
          4231133.3486705525,
          12980628.108843056,
          664234.5264053158,
          248655754.04006144,
          4718298.351714541,
          19019403.77585799,
          10259070.668893626,
          1224409.3500578748,
          3144755.2562825605,
          10907224.978983313,
          438543.20693103323,
          35848317.014691785,
          8880136.680527693,
          237775966.20530498,
          2748293.7097853823,
          16713162.161079546,
          41353447.02944023,
          504729.2718591714,
          8321933.396626822,
          17600140.7930026,
          53973434.93140009,
          5308241.716253187,
          1694797.4092311875,
          4632574.67529649,
          9468597.750047423,
          7536064.122176524,
          6854225.748521794,
          2453738.0349813583,
          3128551.1539737503,
          2466643.416199942,
          15842418.946765559,
          806246.7399228264,
          4594136.712833925,
          2982556.366459442,
          9833625.314225627,
          2582024.245538265,
          28992800.10731805
         ],
         "yaxis": "y"
        }
       ],
       "layout": {
        "legend": {
         "title": {
          "text": "region"
         },
         "tracegroupgap": 0
        },
        "template": {
         "data": {
          "bar": [
           {
            "error_x": {
             "color": "#2a3f5f"
            },
            "error_y": {
             "color": "#2a3f5f"
            },
            "marker": {
             "line": {
              "color": "#E5ECF6",
              "width": 0.5
             },
             "pattern": {
              "fillmode": "overlay",
              "size": 10,
              "solidity": 0.2
             }
            },
            "type": "bar"
           }
          ],
          "barpolar": [
           {
            "marker": {
             "line": {
              "color": "#E5ECF6",
              "width": 0.5
             },
             "pattern": {
              "fillmode": "overlay",
              "size": 10,
              "solidity": 0.2
             }
            },
            "type": "barpolar"
           }
          ],
          "carpet": [
           {
            "aaxis": {
             "endlinecolor": "#2a3f5f",
             "gridcolor": "white",
             "linecolor": "white",
             "minorgridcolor": "white",
             "startlinecolor": "#2a3f5f"
            },
            "baxis": {
             "endlinecolor": "#2a3f5f",
             "gridcolor": "white",
             "linecolor": "white",
             "minorgridcolor": "white",
             "startlinecolor": "#2a3f5f"
            },
            "type": "carpet"
           }
          ],
          "choropleth": [
           {
            "colorbar": {
             "outlinewidth": 0,
             "ticks": ""
            },
            "type": "choropleth"
           }
          ],
          "contour": [
           {
            "colorbar": {
             "outlinewidth": 0,
             "ticks": ""
            },
            "colorscale": [
             [
              0,
              "#0d0887"
             ],
             [
              0.1111111111111111,
              "#46039f"
             ],
             [
              0.2222222222222222,
              "#7201a8"
             ],
             [
              0.3333333333333333,
              "#9c179e"
             ],
             [
              0.4444444444444444,
              "#bd3786"
             ],
             [
              0.5555555555555556,
              "#d8576b"
             ],
             [
              0.6666666666666666,
              "#ed7953"
             ],
             [
              0.7777777777777778,
              "#fb9f3a"
             ],
             [
              0.8888888888888888,
              "#fdca26"
             ],
             [
              1,
              "#f0f921"
             ]
            ],
            "type": "contour"
           }
          ],
          "contourcarpet": [
           {
            "colorbar": {
             "outlinewidth": 0,
             "ticks": ""
            },
            "type": "contourcarpet"
           }
          ],
          "heatmap": [
           {
            "colorbar": {
             "outlinewidth": 0,
             "ticks": ""
            },
            "colorscale": [
             [
              0,
              "#0d0887"
             ],
             [
              0.1111111111111111,
              "#46039f"
             ],
             [
              0.2222222222222222,
              "#7201a8"
             ],
             [
              0.3333333333333333,
              "#9c179e"
             ],
             [
              0.4444444444444444,
              "#bd3786"
             ],
             [
              0.5555555555555556,
              "#d8576b"
             ],
             [
              0.6666666666666666,
              "#ed7953"
             ],
             [
              0.7777777777777778,
              "#fb9f3a"
             ],
             [
              0.8888888888888888,
              "#fdca26"
             ],
             [
              1,
              "#f0f921"
             ]
            ],
            "type": "heatmap"
           }
          ],
          "heatmapgl": [
           {
            "colorbar": {
             "outlinewidth": 0,
             "ticks": ""
            },
            "colorscale": [
             [
              0,
              "#0d0887"
             ],
             [
              0.1111111111111111,
              "#46039f"
             ],
             [
              0.2222222222222222,
              "#7201a8"
             ],
             [
              0.3333333333333333,
              "#9c179e"
             ],
             [
              0.4444444444444444,
              "#bd3786"
             ],
             [
              0.5555555555555556,
              "#d8576b"
             ],
             [
              0.6666666666666666,
              "#ed7953"
             ],
             [
              0.7777777777777778,
              "#fb9f3a"
             ],
             [
              0.8888888888888888,
              "#fdca26"
             ],
             [
              1,
              "#f0f921"
             ]
            ],
            "type": "heatmapgl"
           }
          ],
          "histogram": [
           {
            "marker": {
             "pattern": {
              "fillmode": "overlay",
              "size": 10,
              "solidity": 0.2
             }
            },
            "type": "histogram"
           }
          ],
          "histogram2d": [
           {
            "colorbar": {
             "outlinewidth": 0,
             "ticks": ""
            },
            "colorscale": [
             [
              0,
              "#0d0887"
             ],
             [
              0.1111111111111111,
              "#46039f"
             ],
             [
              0.2222222222222222,
              "#7201a8"
             ],
             [
              0.3333333333333333,
              "#9c179e"
             ],
             [
              0.4444444444444444,
              "#bd3786"
             ],
             [
              0.5555555555555556,
              "#d8576b"
             ],
             [
              0.6666666666666666,
              "#ed7953"
             ],
             [
              0.7777777777777778,
              "#fb9f3a"
             ],
             [
              0.8888888888888888,
              "#fdca26"
             ],
             [
              1,
              "#f0f921"
             ]
            ],
            "type": "histogram2d"
           }
          ],
          "histogram2dcontour": [
           {
            "colorbar": {
             "outlinewidth": 0,
             "ticks": ""
            },
            "colorscale": [
             [
              0,
              "#0d0887"
             ],
             [
              0.1111111111111111,
              "#46039f"
             ],
             [
              0.2222222222222222,
              "#7201a8"
             ],
             [
              0.3333333333333333,
              "#9c179e"
             ],
             [
              0.4444444444444444,
              "#bd3786"
             ],
             [
              0.5555555555555556,
              "#d8576b"
             ],
             [
              0.6666666666666666,
              "#ed7953"
             ],
             [
              0.7777777777777778,
              "#fb9f3a"
             ],
             [
              0.8888888888888888,
              "#fdca26"
             ],
             [
              1,
              "#f0f921"
             ]
            ],
            "type": "histogram2dcontour"
           }
          ],
          "mesh3d": [
           {
            "colorbar": {
             "outlinewidth": 0,
             "ticks": ""
            },
            "type": "mesh3d"
           }
          ],
          "parcoords": [
           {
            "line": {
             "colorbar": {
              "outlinewidth": 0,
              "ticks": ""
             }
            },
            "type": "parcoords"
           }
          ],
          "pie": [
           {
            "automargin": true,
            "type": "pie"
           }
          ],
          "scatter": [
           {
            "fillpattern": {
             "fillmode": "overlay",
             "size": 10,
             "solidity": 0.2
            },
            "type": "scatter"
           }
          ],
          "scatter3d": [
           {
            "line": {
             "colorbar": {
              "outlinewidth": 0,
              "ticks": ""
             }
            },
            "marker": {
             "colorbar": {
              "outlinewidth": 0,
              "ticks": ""
             }
            },
            "type": "scatter3d"
           }
          ],
          "scattercarpet": [
           {
            "marker": {
             "colorbar": {
              "outlinewidth": 0,
              "ticks": ""
             }
            },
            "type": "scattercarpet"
           }
          ],
          "scattergeo": [
           {
            "marker": {
             "colorbar": {
              "outlinewidth": 0,
              "ticks": ""
             }
            },
            "type": "scattergeo"
           }
          ],
          "scattergl": [
           {
            "marker": {
             "colorbar": {
              "outlinewidth": 0,
              "ticks": ""
             }
            },
            "type": "scattergl"
           }
          ],
          "scattermapbox": [
           {
            "marker": {
             "colorbar": {
              "outlinewidth": 0,
              "ticks": ""
             }
            },
            "type": "scattermapbox"
           }
          ],
          "scatterpolar": [
           {
            "marker": {
             "colorbar": {
              "outlinewidth": 0,
              "ticks": ""
             }
            },
            "type": "scatterpolar"
           }
          ],
          "scatterpolargl": [
           {
            "marker": {
             "colorbar": {
              "outlinewidth": 0,
              "ticks": ""
             }
            },
            "type": "scatterpolargl"
           }
          ],
          "scatterternary": [
           {
            "marker": {
             "colorbar": {
              "outlinewidth": 0,
              "ticks": ""
             }
            },
            "type": "scatterternary"
           }
          ],
          "surface": [
           {
            "colorbar": {
             "outlinewidth": 0,
             "ticks": ""
            },
            "colorscale": [
             [
              0,
              "#0d0887"
             ],
             [
              0.1111111111111111,
              "#46039f"
             ],
             [
              0.2222222222222222,
              "#7201a8"
             ],
             [
              0.3333333333333333,
              "#9c179e"
             ],
             [
              0.4444444444444444,
              "#bd3786"
             ],
             [
              0.5555555555555556,
              "#d8576b"
             ],
             [
              0.6666666666666666,
              "#ed7953"
             ],
             [
              0.7777777777777778,
              "#fb9f3a"
             ],
             [
              0.8888888888888888,
              "#fdca26"
             ],
             [
              1,
              "#f0f921"
             ]
            ],
            "type": "surface"
           }
          ],
          "table": [
           {
            "cells": {
             "fill": {
              "color": "#EBF0F8"
             },
             "line": {
              "color": "white"
             }
            },
            "header": {
             "fill": {
              "color": "#C8D4E3"
             },
             "line": {
              "color": "white"
             }
            },
            "type": "table"
           }
          ]
         },
         "layout": {
          "annotationdefaults": {
           "arrowcolor": "#2a3f5f",
           "arrowhead": 0,
           "arrowwidth": 1
          },
          "autotypenumbers": "strict",
          "coloraxis": {
           "colorbar": {
            "outlinewidth": 0,
            "ticks": ""
           }
          },
          "colorscale": {
           "diverging": [
            [
             0,
             "#8e0152"
            ],
            [
             0.1,
             "#c51b7d"
            ],
            [
             0.2,
             "#de77ae"
            ],
            [
             0.3,
             "#f1b6da"
            ],
            [
             0.4,
             "#fde0ef"
            ],
            [
             0.5,
             "#f7f7f7"
            ],
            [
             0.6,
             "#e6f5d0"
            ],
            [
             0.7,
             "#b8e186"
            ],
            [
             0.8,
             "#7fbc41"
            ],
            [
             0.9,
             "#4d9221"
            ],
            [
             1,
             "#276419"
            ]
           ],
           "sequential": [
            [
             0,
             "#0d0887"
            ],
            [
             0.1111111111111111,
             "#46039f"
            ],
            [
             0.2222222222222222,
             "#7201a8"
            ],
            [
             0.3333333333333333,
             "#9c179e"
            ],
            [
             0.4444444444444444,
             "#bd3786"
            ],
            [
             0.5555555555555556,
             "#d8576b"
            ],
            [
             0.6666666666666666,
             "#ed7953"
            ],
            [
             0.7777777777777778,
             "#fb9f3a"
            ],
            [
             0.8888888888888888,
             "#fdca26"
            ],
            [
             1,
             "#f0f921"
            ]
           ],
           "sequentialminus": [
            [
             0,
             "#0d0887"
            ],
            [
             0.1111111111111111,
             "#46039f"
            ],
            [
             0.2222222222222222,
             "#7201a8"
            ],
            [
             0.3333333333333333,
             "#9c179e"
            ],
            [
             0.4444444444444444,
             "#bd3786"
            ],
            [
             0.5555555555555556,
             "#d8576b"
            ],
            [
             0.6666666666666666,
             "#ed7953"
            ],
            [
             0.7777777777777778,
             "#fb9f3a"
            ],
            [
             0.8888888888888888,
             "#fdca26"
            ],
            [
             1,
             "#f0f921"
            ]
           ]
          },
          "colorway": [
           "#636efa",
           "#EF553B",
           "#00cc96",
           "#ab63fa",
           "#FFA15A",
           "#19d3f3",
           "#FF6692",
           "#B6E880",
           "#FF97FF",
           "#FECB52"
          ],
          "font": {
           "color": "#2a3f5f"
          },
          "geo": {
           "bgcolor": "white",
           "lakecolor": "white",
           "landcolor": "#E5ECF6",
           "showlakes": true,
           "showland": true,
           "subunitcolor": "white"
          },
          "hoverlabel": {
           "align": "left"
          },
          "hovermode": "closest",
          "mapbox": {
           "style": "light"
          },
          "paper_bgcolor": "white",
          "plot_bgcolor": "#E5ECF6",
          "polar": {
           "angularaxis": {
            "gridcolor": "white",
            "linecolor": "white",
            "ticks": ""
           },
           "bgcolor": "#E5ECF6",
           "radialaxis": {
            "gridcolor": "white",
            "linecolor": "white",
            "ticks": ""
           }
          },
          "scene": {
           "xaxis": {
            "backgroundcolor": "#E5ECF6",
            "gridcolor": "white",
            "gridwidth": 2,
            "linecolor": "white",
            "showbackground": true,
            "ticks": "",
            "zerolinecolor": "white"
           },
           "yaxis": {
            "backgroundcolor": "#E5ECF6",
            "gridcolor": "white",
            "gridwidth": 2,
            "linecolor": "white",
            "showbackground": true,
            "ticks": "",
            "zerolinecolor": "white"
           },
           "zaxis": {
            "backgroundcolor": "#E5ECF6",
            "gridcolor": "white",
            "gridwidth": 2,
            "linecolor": "white",
            "showbackground": true,
            "ticks": "",
            "zerolinecolor": "white"
           }
          },
          "shapedefaults": {
           "line": {
            "color": "#2a3f5f"
           }
          },
          "ternary": {
           "aaxis": {
            "gridcolor": "white",
            "linecolor": "white",
            "ticks": ""
           },
           "baxis": {
            "gridcolor": "white",
            "linecolor": "white",
            "ticks": ""
           },
           "bgcolor": "#E5ECF6",
           "caxis": {
            "gridcolor": "white",
            "linecolor": "white",
            "ticks": ""
           }
          },
          "title": {
           "x": 0.05
          },
          "xaxis": {
           "automargin": true,
           "gridcolor": "white",
           "linecolor": "white",
           "ticks": "",
           "title": {
            "standoff": 15
           },
           "zerolinecolor": "white",
           "zerolinewidth": 2
          },
          "yaxis": {
           "automargin": true,
           "gridcolor": "white",
           "linecolor": "white",
           "ticks": "",
           "title": {
            "standoff": 15
           },
           "zerolinecolor": "white",
           "zerolinewidth": 2
          }
         }
        },
        "title": {
         "text": "Population Without Water by Country"
        },
        "xaxis": {
         "anchor": "y",
         "domain": [
          0,
          1
         ],
         "title": {
          "text": "Entity"
         }
        },
        "yaxis": {
         "anchor": "x",
         "domain": [
          0,
          1
         ],
         "title": {
          "text": "country_pop_without_water"
         }
        }
       }
      }
     },
     "metadata": {},
     "output_type": "display_data"
    }
   ],
   "source": [
    "# create tree graph of population wihtout water by entity from df_countries...\n",
    "#TBC\n",
    "\n",
    "\n",
    "\n"
   ]
  }
 ],
 "metadata": {
  "kernelspec": {
   "display_name": "Python 3",
   "language": "python",
   "name": "python3"
  },
  "language_info": {
   "codemirror_mode": {
    "name": "ipython",
    "version": 3
   },
   "file_extension": ".py",
   "mimetype": "text/x-python",
   "name": "python",
   "nbconvert_exporter": "python",
   "pygments_lexer": "ipython3",
   "version": "3.9.13"
  },
  "orig_nbformat": 4,
  "vscode": {
   "interpreter": {
    "hash": "c09a8b249899dc4589e662892666698668e7a3ca1327801a18c24efb244ad2c6"
   }
  }
 },
 "nbformat": 4,
 "nbformat_minor": 2
}
