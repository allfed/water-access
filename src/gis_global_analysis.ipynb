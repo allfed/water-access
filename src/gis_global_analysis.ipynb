{
 "cells": [
  {
   "cell_type": "code",
   "execution_count": 1,
   "metadata": {},
   "outputs": [],
   "source": [
    "\n",
    "import pathlib\n",
    "import pandas as pd\n",
    "import numpy as np\n",
    "import matplotlib.pyplot as plt\n",
    "import plotly.express as px\n",
    "import weightedstats as ws\n",
    "\n",
    "\n",
    "# consider using this for weighted stats: http://www.ccgalberta.com/pygeostat/welcome.html\n",
    "\n"
   ]
  },
  {
   "attachments": {},
   "cell_type": "markdown",
   "metadata": {},
   "source": [
    "## Functions and tools used in the analysis"
   ]
  },
  {
   "cell_type": "code",
   "execution_count": 2,
   "metadata": {},
   "outputs": [],
   "source": [
    "def weighted_mean(var, wts):\n",
    "    \"\"\"Calculates the weighted mean\"\"\"\n",
    "    return np.average(var, weights=wts)\n",
    "\n",
    "def weighted_median_series(val, weight):\n",
    "    \"\"\"Calculates the weighted median\n",
    "    ArithmeticError\n",
    "    If the sum of the weights is zero, or if the weights are not positive.\n",
    "    \"\"\"\n",
    "    try:\n",
    "        df = pd.DataFrame({\"val\": val, \"weight\": weight})\n",
    "        df_sorted = df.sort_values(\"val\")\n",
    "        cumsum = df_sorted[\"weight\"].cumsum()\n",
    "        cutoff = df_sorted[\"weight\"].sum() / 2.\n",
    "        result = df_sorted[cumsum >= cutoff][\"val\"].iloc[0]\n",
    "        # return just the value\n",
    "    except:\n",
    "        result = np.nan\n",
    "    return result\n",
    "\n",
    "def weighted_median(df, val_column, weight_column):\n",
    "    \"\"\"Calculates the weighted median\n",
    "    ArithmeticError\n",
    "    If the sum of the weights is zero, or if the weights are not positive.\n",
    "    \"\"\"\n",
    "    df_sorted = df.sort_values(val_column)\n",
    "    cumsum = df_sorted[weight_column].cumsum()\n",
    "    cutoff = df_sorted[weight_column].sum() / 2.\n",
    "    return df_sorted[cumsum >= cutoff][val_column].iloc[0]\n",
    "\n",
    "def run_weighted_median_on_grouped_df(df, groupby_column, value_column, weight_column):\n",
    "    \"\"\"Calculate the weighted median of a dataframe grouped by a column.\n",
    "    Args:\n",
    "        df (pandas.DataFrame): DataFrame to calculate weighted median on.\n",
    "        groupby_column (str): Column to group by.\n",
    "        value_column (str): Column to calculate weighted median on.\n",
    "        weight_column (str): Column to use as weight.\n",
    "    Returns:\n",
    "        pandas.DataFrame: DataFrame with weighted median for each group.\n",
    "    \"\"\"\n",
    "    # initialize empty list\n",
    "    d = []\n",
    "    # loop through each group\n",
    "    for i in df[groupby_column].unique():\n",
    "        df_group = df[df[groupby_column] == i]\n",
    "        # if rows in dataframe are more than 1, calculate weighted median\n",
    "        if len(df_group) > 1:\n",
    "            median = weighted_median(df_group, value_column, weight_column)\n",
    "        else:\n",
    "            median = df_group[value_column].values[0]\n",
    "        d.append(\n",
    "            {\n",
    "                groupby_column: i,\n",
    "                \"median\": median,\n",
    "            }\n",
    "        )\n",
    "    return pd.DataFrame(d)\n",
    "\n",
    "\n",
    "def load_data(data_file: str) -> pd.DataFrame:\n",
    "    '''\n",
    "    Load data from /data directory\n",
    "    '''\n",
    "    PATH = pathlib.Path().resolve()\n",
    "    DATA_PATH = PATH.joinpath(\"../data\").resolve()\n",
    "    return pd.read_csv(DATA_PATH.joinpath(data_file))\n",
    "\n"
   ]
  },
  {
   "attachments": {},
   "cell_type": "markdown",
   "metadata": {},
   "source": [
    "## Import Data from CSVs.\n",
    "CSVs created in previous script, which did the cycling mobility on a per country basis"
   ]
  },
  {
   "cell_type": "code",
   "execution_count": 3,
   "metadata": {},
   "outputs": [],
   "source": [
    "\n",
    "\n",
    "df_zones_input= load_data(\"GIS/export_urb.csv\")\n",
    "# import df_input and set index as alpha 3 \n",
    "df_input = load_data(\"country_data_with_cycling_distance.csv\")\n",
    "\n",
    "## manual adjustment of some columns\n",
    "df_zones_input[\"dtw_1\"] = df_zones_input[\"dtw_1\"] / 1000 # turn to kms\n",
    "df_zones_input[\"max distance walking\"] = 3.0 # temp, set max distance reachbale for all countriesl, will change to be bespoke soon\n",
    "df_input[\"max distance cycling\"] = 8 * df_input[\"trip_velocity_mean\"] # temp, set max distance reachbale for all countriesl, will change to be bespoke soon"
   ]
  },
  {
   "cell_type": "markdown",
   "metadata": {},
   "source": [
    "# Manage Urban / Rural Data\n",
    "Use the GHS_SMOD_E2020_GLOBE_R2023A_54009_1000_V1_0 dataset.\n",
    "from here: https://ghsl.jrc.ec.europa.eu/download.php?ds=smod"
   ]
  },
  {
   "cell_type": "code",
   "execution_count": 28,
   "metadata": {},
   "outputs": [
    {
     "data": {
      "text/plain": [
       "0    2220541\n",
       "1      42618\n",
       "Name: urban_rural, dtype: int64"
      ]
     },
     "execution_count": 28,
     "metadata": {},
     "output_type": "execute_result"
    }
   ],
   "source": [
    "\n",
    "# create new binary column for urban / rural. Rural is below 15, Urban above 15\n",
    "df_zones_input[\"urban_rural\"] = np.where(df_zones_input[\"URBAN_1\"] > 15, 1, 0)\n",
    "\n",
    "df_zones_input[\"urban_rural\"].value_counts()\n"
   ]
  },
  {
   "cell_type": "code",
   "execution_count": 34,
   "metadata": {},
   "outputs": [
    {
     "data": {
      "text/plain": [
       "Index(['fid', 'id', 'left', 'top', 'right', 'bottom', 'Value', 'ISOCODE',\n",
       "       'UNSDCODE', 'NAME0', 'CIESINCODE', 'DATATYPE', 'DATACODE', 'DATAYEAR',\n",
       "       'DATALEVEL', 'SEXLEVEL', 'AGELEVEL', 'GRSTART', 'GREND', 'GRLEVEL',\n",
       "       'LASTCENSUS', 'MEANUNITKM', 'dtw_1', 'pop_count_15_1', 'AdjPop',\n",
       "       'AdjPopFloat', 'vrm1', 'grip_total', 'slope_1', 'grip_1_1', 'grip_2_1',\n",
       "       'grip_3_1', 'grip_4_1', 'grip_5_1', 'tri_med_1', 'tri_max_1', 'URBAN_1',\n",
       "       'max distance walking', 'urban_rural'],\n",
       "      dtype='object')"
      ]
     },
     "execution_count": 34,
     "metadata": {},
     "output_type": "execute_result"
    }
   ],
   "source": [
    "df_zones_input.columns"
   ]
  },
  {
   "cell_type": "code",
   "execution_count": 37,
   "metadata": {},
   "outputs": [
    {
     "data": {
      "text/plain": [
       "0.0"
      ]
     },
     "execution_count": 37,
     "metadata": {},
     "output_type": "execute_result"
    },
    {
     "data": {
      "image/png": "[encoded data removed]",
      "text/plain": [
       "<Figure size 432x288 with 1 Axes>"
      ]
     },
     "metadata": {
      "needs_background": "light"
     },
     "output_type": "display_data"
    }
   ],
   "source": [
    "# histogram of slope_1 log scale\n",
    "df_zones_input[\"slope_1\"].hist(bins=100, log=True)\n",
    "\n",
    "# find all zones with greater than 20 slope, calculate the population in these zones. DO SLOPE NEXT"
   ]
  },
  {
   "attachments": {},
   "cell_type": "markdown",
   "metadata": {},
   "source": [
    "## Merge the dataframes\n",
    "Do some manual adjustments to populations"
   ]
  },
  {
   "cell_type": "code",
   "execution_count": 4,
   "metadata": {},
   "outputs": [],
   "source": [
    "\n",
    "# this analysis loses some data as the overlap between the rasters is not perfect. To reduce this error, use the 30 arc second data. Too much heavy lifting for my computer to do this at the moment.\n",
    "\n",
    "#merge df_input and df_zones on ISO_CC. This assigns all the country data to each zone.\n",
    "# join inner will remove some of the data that is not in both datasets\n",
    "df_zones = df_zones_input.merge(df_input, left_on=\"ISOCODE\", right_on=\"alpha3\", how=\"inner\")\n",
    "\n",
    "# these are the columns\n",
    "# alpha3,Unnamed: 0,Entity,Population,YearPBO,PBO,Terrain Ruggedness,Urban %,Urban Agg %,RoadQuality,Km,Urb %,Average household size (number of members),National At Least Basic,National Limit (more than 30 mins),National Unimproved,National Surface Water,Nat Accesible On Premises,Nat Piped,Nat NonPiped,No. HPs,Year of HP estimate,2015 (C),No. HPs in 2015,Non-functional HPs,Functional HPS,Risk Score,alpha2,region,subregion,borders,Mean BMI (male),Mean BMI (female),Mean male height (cm),Mean female height (cm),women weight,men weight,percent_insufficient_activity,Average Weight,power,Crr,trip_velocity_mean,unloaded_velocity_mean,loaded_velocity_mean,velocitykgs,water_ration_kms\n",
    "\n",
    "#adjust population to account for 9 values per raster point (2.5 to 5 arc min resoltuions. 9 values per point)\n",
    "df_zones[\"AdjPopFloat\"] = df_zones[\"pop_count_15_1\"] / 9 \n",
    "\n",
    "# # convert population density to percent of national population on a per country basis, grouped by ISO_CC\n",
    "df_zones[\"pop_density_perc\"] = df_zones.groupby(\"ISOCODE\")[\"AdjPopFloat\"].apply(lambda x: x / x.sum())\n",
    "\n",
    "# multiply population density by population on a per country basis\n",
    "df_zones[\"pop_zone\"] = df_zones[\"pop_density_perc\"] * df_zones[\"Population\"]\n",
    "\n"
   ]
  },
  {
   "cell_type": "code",
   "execution_count": 5,
   "metadata": {},
   "outputs": [],
   "source": [
    "# sum the population in each zone\n",
    "df_zones[\"country_pop_raw\"] = df_zones.groupby(\"ISOCODE\")[\"pop_zone\"].transform(\"sum\")\n",
    "df_zones[\"country_pop_ratio\"] = df_zones.groupby(\"ISOCODE\")[\"AdjPopFloat\"].transform(\"sum\")\n"
   ]
  },
  {
   "cell_type": "markdown",
   "metadata": {},
   "source": [
    "# Below is temporary Stuff!"
   ]
  },
  {
   "cell_type": "code",
   "execution_count": 6,
   "metadata": {},
   "outputs": [
    {
     "data": {
      "text/plain": [
       "<AxesSubplot:>"
      ]
     },
     "execution_count": 6,
     "metadata": {},
     "output_type": "execute_result"
    },
    {
     "data": {
      "image/png": "[encoded data removed]",
      "text/plain": [
       "<Figure size 432x288 with 1 Axes>"
      ]
     },
     "metadata": {
      "needs_background": "light"
     },
     "output_type": "display_data"
    }
   ],
   "source": [
    "# sort by trip velocity mean, then find the top 10 fastest countries\n",
    "# [\"trip_velocity_mean\"]\n",
    "# df_input[\"kgs_carried\"]= df_input[\"velocitykgs\"] /df_input[\"trip_velocity_mean\"] \n",
    "# df_input[\"Average household size (number of members)\"].describe()\n",
    "# df_input.sort_values(by=[\"kgs_carried\"], ascending=False).head(10)\n",
    "\n",
    "\n",
    "\n",
    "df_zones.columns\n",
    "# output:\n",
    "# Index(['fid', 'id', 'left', 'top', 'right', 'bottom', 'Value', 'ISOCODE',\n",
    "#        'UNSDCODE', 'NAME0', 'CIESINCODE', 'DATATYPE', 'DATACODE', 'DATAYEAR',\n",
    "#        'DATALEVEL', 'SEXLEVEL', 'AGELEVEL', 'GRSTART', 'GREND', 'GRLEVEL',\n",
    "#        'LASTCENSUS', 'MEANUNITKM', 'dtw_1', 'pop_count_15_1', 'AdjPop',\n",
    "#        'AdjPopFloat', 'vrm1', 'grip_1', 'slope_1', 'grip_11', 'grip_21',\n",
    "#        'grip_3_1', 'grip_4_1', 'grip_5_1', 'grip_total_1',\n",
    "#        'max distance walking'],\n",
    "#       dtype='object')\n",
    "\n",
    "\n",
    "# input columns\n",
    "# Index(['alpha3', 'Unnamed: 0', 'Entity', 'Population', 'YearPBO', 'PBO',\n",
    "#        'Terrain Ruggedness', 'Urban %', 'Urban Agg %', 'RoadQuality', 'Km',\n",
    "#        'Urb %', 'Average household size (number of members)',\n",
    "#        'National At Least Basic', 'National Limit (more than 30 mins)',\n",
    "#        'National Unimproved', 'National Surface Water',\n",
    "#        'Nat Accesible On Premises', 'Nat Piped', 'Nat NonPiped', 'No. HPs',\n",
    "#        'Year of HP estimate', '2015 (C)', 'No. HPs in 2015',\n",
    "#        'Non-functional HPs', 'Functional HPS', 'Risk Score', 'alpha2',\n",
    "#        'region', 'subregion', 'borders', 'Mean BMI (male)',\n",
    "#        'Mean BMI (female)', 'Mean male height (cm)', 'Mean female height (cm)',\n",
    "#        'women weight', 'men weight', 'percent_insufficient_activity',\n",
    "#        'Average Weight', 'power', 'Crr', 'trip_velocity_mean',\n",
    "#        'unloaded_velocity_mean', 'loaded_velocity_mean', 'velocitykgs',\n",
    "#        'water_ration_kms', 'max distance cycling'],\n",
    "#       dtype='object')\n",
    "\n",
    "\n",
    "# # any roads = 1, no roads = 0\n",
    "# df_zones[\"any_road\"] = df_zones[\"grip_total_1\"].apply(\n",
    "#     lambda x: 1 if x > 0 else 0\n",
    "# )\n",
    "\n",
    "# # find non zero values AdjPopFloat\n",
    "# df_zones[\"any_pop\"] = df_zones[\"AdjPopFloat\"].apply(\n",
    "#     lambda x: 1 if x > 0 else 0\n",
    "# )\n",
    "\n",
    "# # findcorrelation between any_road and any_pop\n",
    "# df_zones[[\"any_road\", \"any_pop\"]].corr()\n",
    "\n",
    "\n",
    "# describe each of the following:\n",
    "#'grip_11', 'grip_21', 'grip_3_1', 'grip_4_1', 'grip_5_1'\n",
    "df_zones[[\"grip_1_1\", \"grip_2_1\", \"grip_3_1\", \"grip_4_1\", \"grip_5_1\"]].describe()\n",
    "\n",
    "\n",
    "def find_dominant_road(row):\n",
    "    if row.sum() == 0:\n",
    "        return 'No Roads'\n",
    "    else:\n",
    "        return row.idxmax()\n",
    "\n",
    "df_zones['dominant_road_type'] = df_zones[[\"grip_1_1\", \"grip_2_1\", \"grip_3_1\", \"grip_4_1\", \"grip_5_1\"]].apply(find_dominant_road, axis=1)\n",
    "\n",
    "df_zones['dominant_road_type'] = df_zones['dominant_road_type'].replace({\n",
    "    'grip_1_1': 'Highways',\n",
    "    'grip_2_1': 'Primary Roads',\n",
    "    'grip_3_1': 'Secondary Roads',\n",
    "    'grip_4_1': 'Tertiary Roads',\n",
    "    'grip_5_1': 'Local Roads'\n",
    "})\n",
    "\n",
    "\n",
    "# histogram of dominant road type\n",
    "df_zones['dominant_road_type'].value_counts().plot(kind='bar')\n",
    "\n",
    "\n",
    "# df_zones['dominant_road_type'].describe()\n",
    "# # # look at vector roughenss\n",
    "# df_zones[\"AdjPopFloat\"].describe()\n",
    "\n",
    "# # # plot the grip_total_1 column, log scale binning\n",
    "# df_zones[\"AdjPopFloat\"].plot.hist(bins=100, log=True)\n",
    "\n",
    "\n",
    "\n",
    "# find the percentage of zones with roads\n",
    "\n",
    "\n",
    "# # output the binned vector roughness to a table, save as a csv\n",
    "# df_zones_input[\"vrm1\"].value_counts(bins=100, sort=False).to_csv(\n",
    "#     \"../data/processed/roughness_bins.csv\"\n",
    "# )\n",
    "\n",
    "# # create a fit for the vector roughness\n",
    "# # Nominal Slope=a⋅log⁡(b⋅VRM+c)+d\n",
    "# # use the scipy curve fit function to fit the data\n",
    "# from scipy.optimize import curve_fit\n",
    "\n",
    "# # define the function to fit\n",
    "# def func(x, a, b, c, d):\n",
    "#     return a * np.log(b * x + c) + d\n",
    "\n",
    "# # define the x and y data\n",
    "# xdata = df_zones_input[\"vrm1\"].value_counts(bins=100, sort=False).index.mid\n",
    "# ydata = df_zones_input[\"vrm1\"].value_counts(bins=100, sort=False).values\n",
    "\n",
    "\n",
    "\n",
    "\n"
   ]
  },
  {
   "cell_type": "code",
   "execution_count": 21,
   "metadata": {},
   "outputs": [
    {
     "name": "stdout",
     "output_type": "stream",
     "text": [
      "Index(['fid', 'id', 'left', 'top', 'right', 'bottom', 'Value', 'ISOCODE',\n",
      "       'UNSDCODE', 'NAME0',\n",
      "       ...\n",
      "       'fraction_of_zone_with_cycling_access',\n",
      "       'fraction_of_zone_with_walking_access',\n",
      "       'population_piped_with_cycling_access',\n",
      "       'population_piped_with_walking_access', 'population_piped_with_access',\n",
      "       'zone_pop_with_water', 'zone_pop_without_water',\n",
      "       'water_rations_per_bike', 'bikes_in_zone', 'water_rations_achievable'],\n",
      "      dtype='object', length=105)\n"
     ]
    }
   ],
   "source": [
    "# histogram \n",
    "print(df_zones.columns)"
   ]
  },
  {
   "cell_type": "code",
   "execution_count": 7,
   "metadata": {},
   "outputs": [
    {
     "data": {
      "text/plain": [
       "count    1.481674e+06\n",
       "mean     2.858239e+00\n",
       "std      4.484592e+00\n",
       "min      0.000000e+00\n",
       "25%      3.763624e-01\n",
       "50%      9.683968e-01\n",
       "75%      2.984939e+00\n",
       "max      5.051991e+01\n",
       "Name: slope_1, dtype: float64"
      ]
     },
     "execution_count": 7,
     "metadata": {},
     "output_type": "execute_result"
    }
   ],
   "source": [
    "# df_zones['dominant_road_type'].value_counts().plot(kind='bar')\n",
    "\n",
    "# histogram og househould\n",
    "# df_zones['Average household size (number of members)'].hist(bins=100)\n",
    "\n",
    "# export to csvdf_zones:\n",
    "# df_zones.to_csv('../data/df_zones.csv')\n",
    "\n",
    "# plot average household size in increasing order using plotly\n",
    "# fig = px.line(df_input.sort_values(by='Average household size (number of members)'), x=\"Entity\", y=\"Average household size (number of members)\", color=\"subregion\")\n",
    "# # px.line(df_input.sort_values(by='Average household size (number of members)')['Average household size (number of members)'])\n",
    "# # save plot\n",
    "# fig.write_html(\"../data/average_household_size.html\")\n",
    "\n",
    "\n",
    "# create a new series with the 'inhabited vrm' values. THis uses any_pop, put over the top of the vrm values, 'vrm1'\n",
    "# find non zero values AdjPopFloat\n",
    "df_zones[\"any_pop\"] = df_zones[\"AdjPopFloat\"].apply(\n",
    "    lambda x: 1 if x > 10 else 0\n",
    ")\n",
    "\n",
    "\n",
    "df_zones[\"any_pop\"].describe()\n",
    "\n",
    "# describe vrm filtered by any_pop =1\n",
    "df_zones[df_zones[\"any_pop\"] == 1][\"slope_1\"].describe()\n",
    "\n"
   ]
  },
  {
   "attachments": {},
   "cell_type": "markdown",
   "metadata": {},
   "source": [
    "## The section below calculates the population per zone that can reach water\n",
    "\n",
    "Consider putting in household size and bike sharing here"
   ]
  },
  {
   "cell_type": "code",
   "execution_count": 8,
   "metadata": {},
   "outputs": [
    {
     "data": {
      "text/html": [
       "<div>\n",
       "<style scoped>\n",
       "    .dataframe tbody tr th:only-of-type {\n",
       "        vertical-align: middle;\n",
       "    }\n",
       "\n",
       "    .dataframe tbody tr th {\n",
       "        vertical-align: top;\n",
       "    }\n",
       "\n",
       "    .dataframe thead th {\n",
       "        text-align: right;\n",
       "    }\n",
       "</style>\n",
       "<table border=\"1\" class=\"dataframe\">\n",
       "  <thead>\n",
       "    <tr style=\"text-align: right;\">\n",
       "      <th></th>\n",
       "      <th>alpha3</th>\n",
       "      <th>Unnamed: 0</th>\n",
       "      <th>Entity</th>\n",
       "      <th>Population</th>\n",
       "      <th>YearPBO</th>\n",
       "      <th>PBO</th>\n",
       "      <th>Terrain Ruggedness</th>\n",
       "      <th>Urban %</th>\n",
       "      <th>Urban Agg %</th>\n",
       "      <th>RoadQuality</th>\n",
       "      <th>...</th>\n",
       "      <th>percent_insufficient_activity</th>\n",
       "      <th>Average Weight</th>\n",
       "      <th>power</th>\n",
       "      <th>Crr</th>\n",
       "      <th>trip_velocity_mean</th>\n",
       "      <th>unloaded_velocity_mean</th>\n",
       "      <th>loaded_velocity_mean</th>\n",
       "      <th>velocitykgs</th>\n",
       "      <th>water_ration_kms</th>\n",
       "      <th>max distance cycling</th>\n",
       "    </tr>\n",
       "  </thead>\n",
       "  <tbody>\n",
       "    <tr>\n",
       "      <th>0</th>\n",
       "      <td>ABW</td>\n",
       "      <td>0</td>\n",
       "      <td>Aruba</td>\n",
       "      <td>107195.0</td>\n",
       "      <td>NaN</td>\n",
       "      <td>23.023333</td>\n",
       "      <td>46.2</td>\n",
       "      <td>43.696999</td>\n",
       "      <td>37.284118</td>\n",
       "      <td>3.833333</td>\n",
       "      <td>...</td>\n",
       "      <td>34.308333</td>\n",
       "      <td>77.214823</td>\n",
       "      <td>72.468719</td>\n",
       "      <td>0.017797</td>\n",
       "      <td>0.957795</td>\n",
       "      <td>1.086109</td>\n",
       "      <td>0.829482</td>\n",
       "      <td>58.742153</td>\n",
       "      <td>112.784934</td>\n",
       "      <td>7.662360</td>\n",
       "    </tr>\n",
       "    <tr>\n",
       "      <th>1</th>\n",
       "      <td>AFG</td>\n",
       "      <td>1</td>\n",
       "      <td>Afghanistan</td>\n",
       "      <td>39835428.0</td>\n",
       "      <td>2011.0</td>\n",
       "      <td>31.820000</td>\n",
       "      <td>251.8</td>\n",
       "      <td>26.025999</td>\n",
       "      <td>10.884323</td>\n",
       "      <td>4.575000</td>\n",
       "      <td>...</td>\n",
       "      <td>25.880000</td>\n",
       "      <td>60.111881</td>\n",
       "      <td>76.728516</td>\n",
       "      <td>0.014162</td>\n",
       "      <td>1.277013</td>\n",
       "      <td>1.462445</td>\n",
       "      <td>1.091581</td>\n",
       "      <td>77.868735</td>\n",
       "      <td>149.507972</td>\n",
       "      <td>10.216102</td>\n",
       "    </tr>\n",
       "    <tr>\n",
       "      <th>2</th>\n",
       "      <td>AGO</td>\n",
       "      <td>2</td>\n",
       "      <td>Angola</td>\n",
       "      <td>33933611.0</td>\n",
       "      <td>2008.0</td>\n",
       "      <td>8.700000</td>\n",
       "      <td>85.8</td>\n",
       "      <td>66.824997</td>\n",
       "      <td>25.437248</td>\n",
       "      <td>4.400000</td>\n",
       "      <td>...</td>\n",
       "      <td>26.825000</td>\n",
       "      <td>61.562906</td>\n",
       "      <td>76.250899</td>\n",
       "      <td>0.015020</td>\n",
       "      <td>1.231163</td>\n",
       "      <td>1.410087</td>\n",
       "      <td>1.052240</td>\n",
       "      <td>75.054177</td>\n",
       "      <td>144.104019</td>\n",
       "      <td>9.849307</td>\n",
       "    </tr>\n",
       "    <tr>\n",
       "      <th>3</th>\n",
       "      <td>AIA</td>\n",
       "      <td>3</td>\n",
       "      <td>Anguilla</td>\n",
       "      <td>15125.0</td>\n",
       "      <td>NaN</td>\n",
       "      <td>23.023333</td>\n",
       "      <td>1.3</td>\n",
       "      <td>63.807524</td>\n",
       "      <td>37.284118</td>\n",
       "      <td>3.833333</td>\n",
       "      <td>...</td>\n",
       "      <td>34.308333</td>\n",
       "      <td>77.214823</td>\n",
       "      <td>72.468719</td>\n",
       "      <td>0.017797</td>\n",
       "      <td>0.957795</td>\n",
       "      <td>1.086109</td>\n",
       "      <td>0.829482</td>\n",
       "      <td>58.742153</td>\n",
       "      <td>112.784934</td>\n",
       "      <td>7.662360</td>\n",
       "    </tr>\n",
       "    <tr>\n",
       "      <th>4</th>\n",
       "      <td>ALB</td>\n",
       "      <td>4</td>\n",
       "      <td>Albania</td>\n",
       "      <td>2872934.0</td>\n",
       "      <td>2008.0</td>\n",
       "      <td>21.400000</td>\n",
       "      <td>342.7</td>\n",
       "      <td>62.112000</td>\n",
       "      <td>29.633070</td>\n",
       "      <td>3.900000</td>\n",
       "      <td>...</td>\n",
       "      <td>37.700000</td>\n",
       "      <td>75.532649</td>\n",
       "      <td>70.754523</td>\n",
       "      <td>0.017470</td>\n",
       "      <td>0.957657</td>\n",
       "      <td>1.087464</td>\n",
       "      <td>0.827850</td>\n",
       "      <td>58.681329</td>\n",
       "      <td>112.668151</td>\n",
       "      <td>7.661257</td>\n",
       "    </tr>\n",
       "  </tbody>\n",
       "</table>\n",
       "<p>5 rows × 47 columns</p>\n",
       "</div>"
      ],
      "text/plain": [
       "  alpha3  Unnamed: 0       Entity  Population  YearPBO        PBO  \\\n",
       "0    ABW           0        Aruba    107195.0      NaN  23.023333   \n",
       "1    AFG           1  Afghanistan  39835428.0   2011.0  31.820000   \n",
       "2    AGO           2       Angola  33933611.0   2008.0   8.700000   \n",
       "3    AIA           3     Anguilla     15125.0      NaN  23.023333   \n",
       "4    ALB           4      Albania   2872934.0   2008.0  21.400000   \n",
       "\n",
       "   Terrain Ruggedness    Urban %  Urban Agg %  RoadQuality  ...  \\\n",
       "0                46.2  43.696999    37.284118     3.833333  ...   \n",
       "1               251.8  26.025999    10.884323     4.575000  ...   \n",
       "2                85.8  66.824997    25.437248     4.400000  ...   \n",
       "3                 1.3  63.807524    37.284118     3.833333  ...   \n",
       "4               342.7  62.112000    29.633070     3.900000  ...   \n",
       "\n",
       "   percent_insufficient_activity  Average Weight      power       Crr  \\\n",
       "0                      34.308333       77.214823  72.468719  0.017797   \n",
       "1                      25.880000       60.111881  76.728516  0.014162   \n",
       "2                      26.825000       61.562906  76.250899  0.015020   \n",
       "3                      34.308333       77.214823  72.468719  0.017797   \n",
       "4                      37.700000       75.532649  70.754523  0.017470   \n",
       "\n",
       "   trip_velocity_mean  unloaded_velocity_mean  loaded_velocity_mean  \\\n",
       "0            0.957795                1.086109              0.829482   \n",
       "1            1.277013                1.462445              1.091581   \n",
       "2            1.231163                1.410087              1.052240   \n",
       "3            0.957795                1.086109              0.829482   \n",
       "4            0.957657                1.087464              0.827850   \n",
       "\n",
       "   velocitykgs  water_ration_kms  max distance cycling  \n",
       "0    58.742153        112.784934              7.662360  \n",
       "1    77.868735        149.507972             10.216102  \n",
       "2    75.054177        144.104019              9.849307  \n",
       "3    58.742153        112.784934              7.662360  \n",
       "4    58.681329        112.668151              7.661257  \n",
       "\n",
       "[5 rows x 47 columns]"
      ]
     },
     "execution_count": 8,
     "metadata": {},
     "output_type": "execute_result"
    }
   ],
   "source": [
    "df_input.head()"
   ]
  },
  {
   "cell_type": "code",
   "execution_count": 9,
   "metadata": {},
   "outputs": [],
   "source": [
    "# population with piped water\n",
    "df_zones[\"zone_pop_piped\"] = df_zones[\"pop_zone\"]*df_zones[\"Nat Piped\"]/100\n",
    "# calculaye unpiped, this is not \"un piped\" from the dataset, but rather the population that does not have piped water\n",
    "# unpiped from the dataset refers to ONLY inproved unpiped. So do 100 - piped to get the total unpiped (inlcuding unimproved water sources)\n",
    "df_zones[\"zone_pop_unpiped\"] = df_zones[\"pop_zone\"]*(100-df_zones[\"Nat Piped\"])/100\n",
    "\n",
    "\n",
    "# is it possible to reach water with walking/cycling\n",
    "df_zones[\"zone_cycling_okay\"] = (df_zones[\"dtw_1\"] < df_zones[\"max distance cycling\"])*1 # multiply by 1 to force to binary not true/false\n",
    "df_zones[\"zone_walking_okay\"] = (df_zones[\"dtw_1\"] < df_zones[\"max distance walking\"])*1\n",
    "\n",
    "# how many people can collect water in the zone\n",
    "df_zones[\"fraction_of_zone_with_cycling_access\"] = df_zones[\"zone_cycling_okay\"]* (df_zones[\"PBO\"])/100\n",
    "df_zones[\"fraction_of_zone_with_walking_access\"] = df_zones[\"zone_walking_okay\"] * 1\n",
    "\n",
    "#\n",
    "df_zones[\"population_piped_with_cycling_access\"] = df_zones[\"fraction_of_zone_with_cycling_access\"] * df_zones[\"zone_pop_piped\"]\n",
    "df_zones[\"population_piped_with_walking_access\"] = df_zones[\"fraction_of_zone_with_walking_access\"] * df_zones[\"zone_pop_piped\"]\n",
    "\n",
    "# select the maximum between the two, if walkable, max will always be walking\n",
    "df_zones[\"population_piped_with_access\"] = df_zones[[\"population_piped_with_cycling_access\", \"population_piped_with_walking_access\"]].max(axis=1)\n",
    "\n",
    "# zone pop without water\n",
    "df_zones[\"zone_pop_with_water\"] =  df_zones[\"population_piped_with_access\"] + df_zones[\"zone_pop_unpiped\"]\n",
    "df_zones[\"zone_pop_without_water\"] = df_zones[\"pop_zone\"] - df_zones[\"zone_pop_with_water\"]\n",
    "\n",
    "\n",
    "# use water_ration_kms to calculate the water ration achievable per bike per zone\n",
    "df_zones[\"water_rations_per_bike\"] = df_zones[\"water_ration_kms\"] / df_zones[\"dtw_1\"]\n",
    "\n",
    "# number oif bikes per zone is population divided by household nuymber multipled by PBO\n",
    "df_zones[\"bikes_in_zone\"] = df_zones[\"pop_zone\"] / df_zones[\"Average household size (number of members)\"] * df_zones[\"PBO\"]\n",
    "\n",
    "#water rations achievable utilising all the bikes in the zone is the number of bikes in the zone multiplied by the water rations per bike\n",
    "df_zones[\"water_rations_achievable\"] = df_zones[\"bikes_in_zone\"] * df_zones[\"water_rations_per_bike\"]\n",
    "\n",
    "# population w\n",
    "\n",
    "\n",
    "# NOTE this has the t = 8_hours baked in to it. This could be wrong, maybe we should use daylight hours instead? If the bikes are being shared.\n",
    "\n",
    "\n"
   ]
  },
  {
   "attachments": {},
   "cell_type": "markdown",
   "metadata": {},
   "source": [
    "## Group the zones in to country groups\n",
    "Use groupby agg and then apply to summarise the zone data in to country level, then create some summary columns"
   ]
  },
  {
   "cell_type": "code",
   "execution_count": 10,
   "metadata": {},
   "outputs": [],
   "source": [
    "# use groupby to create dataframe of country level data from df_zones\n",
    "df_countries = df_zones.groupby(\"ISOCODE\").agg({\n",
    "    \"Entity\":\"first\",\n",
    "    \"country_pop_raw\": \"first\",\n",
    "    \"zone_pop_with_water\":\"sum\",\n",
    "    \"zone_pop_without_water\":\"sum\",\n",
    "    \"population_piped_with_access\":\"sum\"  ,\n",
    "    \"population_piped_with_cycling_access\":\"sum\",\n",
    "    \"population_piped_with_walking_access\":\"sum\",\n",
    "    \"Nat Piped\":\"first\",\n",
    "    \"region\":\"first\",\n",
    "    \"subregion\":\"first\",\n",
    "    # call the weighted median function on the column\n",
    "}).reset_index()\n",
    "\n",
    "# use groupby to create weighted median, needs to be speerate from the above groupby as it uses apply, which can't be used in the same groupby\n",
    "# needs to use apply because the function required two columns as input\n",
    "df_median_group = df_zones.groupby(['ISOCODE']).apply(lambda x : pd.Series({'weighted_med':weighted_median(x,\"dtw_1\",\"pop_zone\")}))\n",
    "\n",
    "# merge the weighted median back into the df_countries dataframe\n",
    "df_countries = df_countries.merge(df_median_group, on=\"ISOCODE\")\n",
    "\n",
    "# drop rows from the dataframe that have Nan in pop_zone and dtw_1\n",
    "df_zones = df_zones.dropna(subset=[\"pop_zone\", \"dtw_1\"])\n",
    "\n",
    "# create summary columns\n",
    "#rename zone columns to country\n",
    "df_countries = df_countries.rename(columns={\"zone_pop_with_water\":\"country_pop_with_water\", \"zone_pop_without_water\":\"country_pop_without_water\"})\n",
    "# create percent\n",
    "df_countries[\"percent_with_water\"] = df_countries[\"country_pop_with_water\"] / df_countries[\"country_pop_raw\"] * 100\n",
    "df_countries[\"percent_without_water\"] = df_countries[\"country_pop_without_water\"] / df_countries[\"country_pop_raw\"] * 100"
   ]
  },
  {
   "attachments": {},
   "cell_type": "markdown",
   "metadata": {},
   "source": [
    "Clean Up Data"
   ]
  },
  {
   "cell_type": "code",
   "execution_count": 11,
   "metadata": {},
   "outputs": [
    {
     "name": "stdout",
     "output_type": "stream",
     "text": [
      "Countries removed from analysis\n",
      "               Entity  weighted_med\n",
      "42       Cook Islands   1421.425000\n",
      "44            Comoros    314.070094\n",
      "45         Cape Verde    622.286875\n",
      "49     Cayman Islands    287.167188\n",
      "146           Mayotte    283.397312\n",
      "152              Niue    426.276906\n",
      "171  French Polynesia   1932.213000\n",
      "181      Saint Helena   2403.565000\n",
      "Countries removed manually\n",
      "                       Entity  weighted_med\n",
      "0                       Aruba     87.800906\n",
      "10        Antigua and Barbuda     64.350602\n",
      "29                   Barbados    144.138797\n",
      "54                   Dominica     69.260383\n",
      "85                       Guam     20.615529\n",
      "138  Northern Mariana Islands    204.364906\n"
     ]
    }
   ],
   "source": [
    "# Clean up data from spurious country values\n",
    "# uses libya as the max possible diatnce to water (from Kummu paper results)\n",
    "\n",
    "# remove any nan rows\n",
    "df_countries = df_countries.dropna()\n",
    "\n",
    "\n",
    "# first pass clean up\n",
    "\n",
    "# remove any rows where the median is more than 1km more than \"LBY\" (Libya)'s median\n",
    "max_distance = df_countries.loc[df_countries[\"ISOCODE\"] == \"LBY\", \"weighted_med\"].values[0] + 1\n",
    "countries_further_than_libya = df_countries[df_countries[\"weighted_med\"] > max_distance]\n",
    "df_countries = df_countries[df_countries[\"weighted_med\"] < max_distance]\n",
    "\n",
    "####### Manual remove countries ###############\n",
    "# inspecting the results, there are a few countries that are clearly wrong, remove them manually\n",
    "list_of_countries_to_remove = [\"GUM\", \"ASM\", \"TON\", \"MNP\", \"ATG\", \"DMA\", \"ABW\", \"BRB\"]\n",
    "df_of_countries_to_remove = df_countries[df_countries[\"ISOCODE\"].isin(list_of_countries_to_remove)]\n",
    "df_countries = df_countries[~df_countries[\"ISOCODE\"].isin(list_of_countries_to_remove)]\n",
    "##############################\n",
    "\n",
    "\n",
    "# summary of removed countries\n",
    "print(\"Countries removed from analysis\")\n",
    "print(countries_further_than_libya[[\"Entity\", \"weighted_med\"]])\n",
    "print(\"Countries removed manually\")\n",
    "print(df_of_countries_to_remove[[\"Entity\", \"weighted_med\"]])\n",
    "\n",
    "\n",
    "\n",
    "\n"
   ]
  },
  {
   "attachments": {},
   "cell_type": "markdown",
   "metadata": {},
   "source": [
    "# Plotting and Visualising"
   ]
  },
  {
   "cell_type": "code",
   "execution_count": 12,
   "metadata": {},
   "outputs": [
    {
     "data": {
      "application/vnd.plotly.v1+json": {
       "config": {
        "plotlyServerURL": "https://plotly.com"
       },
       "data": [
        {
         "coloraxis": "coloraxis",
         "customdata": [
          [
           "Afghanistan",
           39835428,
           34527186.28374681,
           5308241.716253187,
           3455552.443746813,
           2043424.0425818772,
           2071176.886425544,
           13.325429103593883,
           86.6745708964061,
           22,
           "Asia",
           "Southern Asia",
           5.8309521484375
          ],
          [
           "Angola",
           33933611,
           25614493.429516286,
           8319117.570483715,
           5932999.049516284,
           1085141.7839139798,
           5309810.805698033,
           24.51586296101442,
           75.48413703898558,
           42,
           "Africa",
           "Middle Africa",
           4.12310498046875
          ],
          [
           "Albania",
           2872934,
           2188986.91095541,
           683947.0890445904,
           1643129.4509554098,
           476234.0674870058,
           1484599.7245145089,
           23.80657157611662,
           76.19342842388339,
           81,
           "Europe",
           "Southern Europe",
           2.23606811523438
          ],
          [
           "Andorra",
           77354,
           60382.85725068455,
           16971.14274931546,
           60382.85725068455,
           47978.81850000001,
           32663.696512665032,
           21.939580046688548,
           78.06041995331147,
           100,
           "Europe",
           "Southern Europe",
           4.12310498046875
          ],
          [
           "United Arab Emirates",
           9991083,
           1746.2752416803814,
           9989336.72475832,
           1746.2752416803814,
           1746.2752416803814,
           0,
           99.98252166214934,
           0.017478337850665254,
           100,
           "Asia",
           "Western Asia",
           171.819703125
          ],
          [
           "Argentina",
           45605823,
           24721466.086572073,
           20884356.913427923,
           22897233.166572075,
           19868842.269199926,
           11008327.507714102,
           45.79318065026022,
           54.206819349739774,
           96,
           "Americas",
           "South America",
           6
          ],
          [
           "Armenia",
           2968128,
           1644445.4618208723,
           1323682.538179128,
           1644445.4618208723,
           115885.57251729813,
           1592249.884691223,
           44.596544966360206,
           55.4034550336398,
           100,
           "Asia",
           "Western Asia",
           2.82842700195312
          ],
          [
           "Australia",
           25788216.999999996,
           19141433.76104967,
           6646783.238950328,
           16820494.231049668,
           11371844.370993746,
           12969887.788754875,
           25.774497085045965,
           74.22550291495403,
           91,
           "Oceania",
           "Australia and New Zealand",
           2.82842700195312
          ],
          [
           "Austria",
           9043071.999999998,
           8383915.2282214975,
           659156.7717785015,
           8332240.531078641,
           7604134.645708148,
           4805979.441389393,
           7.2890802127695276,
           92.71091978723048,
           99.42857142857144,
           "Europe",
           "Western Europe",
           2.82842700195312
          ],
          [
           "Azerbaijan",
           10223343.999999998,
           6517644.723688291,
           3705699.276311707,
           5597543.763688291,
           627340.0730719799,
           5338564.651574985,
           36.24742820266743,
           63.75257179733258,
           91,
           "Asia",
           "Western Asia",
           2.23606811523438
          ],
          [
           "Burundi",
           12255429.000000002,
           10192928.991472235,
           2062500.008527767,
           2594563.0114722336,
           926451.2274402474,
           2098253.816392435,
           16.829276302998178,
           83.17072369700182,
           38,
           "Africa",
           "Eastern Africa",
           3.16227807617188
          ],
          [
           "Belgium",
           11632334,
           9430316.47712924,
           2202017.522870759,
           9430316.47712924,
           8079743.336508838,
           4959871.981712824,
           18.930143536720653,
           81.06985646327934,
           100,
           "Europe",
           "Western Europe",
           3.16227807617188
          ],
          [
           "Benin",
           12451031,
           10221921.30730123,
           2229109.6926987697,
           2377771.77730123,
           1514301.4534479622,
           1427223.6757905255,
           17.903012952893377,
           82.09698704710662,
           37,
           "Africa",
           "Western Africa",
           5
          ],
          [
           "Burkina Faso",
           21497097,
           18132522.10867613,
           3364574.891323869,
           2654612.268676131,
           2528500.7865977082,
           798173.937205207,
           15.651298830367043,
           84.34870116963296,
           28,
           "Africa",
           "Western Africa",
           10.2956298828125
          ],
          [
           "Bangladesh",
           166303494,
           157123001.34940413,
           9180492.650595853,
           15765031.449404145,
           5979348.648763967,
           13117537.266273698,
           5.520324576341044,
           94.47967542365895,
           15,
           "Asia",
           "Southern Asia",
           2.82842700195312
          ],
          [
           "Bulgaria",
           6896655,
           3901114.9660387617,
           2995540.033961239,
           3901114.9660387617,
           1433143.117824202,
           3189418.258225071,
           43.43468005810409,
           56.56531994189592,
           100,
           "Europe",
           "Eastern Europe",
           3.16227807617188
          ],
          [
           "Bahamas",
           396913.9999999999,
           133898.6351076992,
           263015.3648923007,
           121991.2151076992,
           44606.589205705764,
           100529.97778806578,
           66.26507628662651,
           33.73492371337349,
           97,
           "Americas",
           "Caribbean",
           5.3851650390625
          ],
          [
           "Bosnia and Herzegovina",
           3263459,
           2142949.919780961,
           1120509.080219039,
           1979776.9697809608,
           1254552.4165789112,
           1332643.427420157,
           34.33501325492488,
           65.66498674507511,
           95,
           "Europe",
           "Southern Europe",
           3.16227807617188
          ],
          [
           "Belarus",
           9442867,
           6553624.181113619,
           2889242.81888638,
           6175909.50111362,
           3421582.254405755,
           4477852.782812331,
           30.597093222708526,
           69.40290677729146,
           96,
           "Europe",
           "Eastern Europe",
           3
          ],
          [
           "Belize",
           404915,
           331128.4466575942,
           73786.55334240582,
           278489.49665759417,
           222585.78615534838,
           192241.09526219324,
           18.222726582716327,
           81.77727341728367,
           87,
           "Americas",
           "Central America",
           2.82842700195312
          ],
          [
           "Bolivia",
           11832936,
           7050082.438231822,
           4782853.561768178,
           3381872.278231822,
           2006658.658526892,
           2169106.655686009,
           40.41983799936194,
           59.58016200063807,
           69,
           "Americas",
           "South America",
           5.3851650390625
          ],
          [
           "Brazil",
           213993441,
           110769584.51628035,
           103223856.48371963,
           106489715.69628036,
           78685351.46525216,
           65607277.562596016,
           48.23692539423189,
           51.7630746057681,
           98,
           "Americas",
           "South America",
           5
          ],
          [
           "Brunei",
           441532.0000000001,
           320044.54030202184,
           121487.45969797827,
           320044.54030202184,
           191102.03486689462,
           232286.98511101995,
           27.514984123003146,
           72.48501587699685,
           100,
           "Asia",
           "South-Eastern Asia",
           2.23606811523438
          ],
          [
           "Bhutan",
           779900.0000000001,
           275170.72814082867,
           504729.2718591714,
           275170.72814082867,
           39640.61587906393,
           251044.67305666674,
           64.7171780816991,
           35.28282191830089,
           100,
           "Asia",
           "Southern Asia",
           4
          ],
          [
           "Botswana",
           2397240,
           371465.78501794755,
           2025774.2149820526,
           155714.18501794757,
           70408.4062327409,
           107194.99721689706,
           84.5044390625074,
           15.495560937492597,
           91,
           "Africa",
           "Southern Africa",
           33.94112890625
          ],
          [
           "Central African Republic",
           4919987,
           4632529.985775911,
           287457.01422408875,
           401341.1657759113,
           126399.47722348965,
           338973.8485420067,
           5.8426376781907905,
           94.15736232180922,
           14,
           "Africa",
           "Middle Africa",
           3
          ],
          [
           "Canada",
           38067913.00000001,
           29466489.221592236,
           8601423.778407767,
           29466489.221592236,
           23425963.42688244,
           18461264.653758563,
           22.594944404774083,
           77.4050555952259,
           100,
           "Americas",
           "Northern America",
           3
          ],
          [
           "Switzerland",
           8715494,
           7612137.846716238,
           1103356.1532837625,
           7612137.846716238,
           6375274.4952487955,
           4655112.35027265,
           12.659708712825257,
           87.34029128717475,
           100,
           "Europe",
           "Western Europe",
           2.82842700195312
          ],
          [
           "Chile",
           19212362,
           12065612.263144575,
           7146749.736855424,
           12065612.263144575,
           8703636.34005293,
           7168392.160110113,
           37.19870433867228,
           62.801295661327714,
           100,
           "Americas",
           "South America",
           4
          ],
          [
           "China",
           1444216102,
           1171323599.2140536,
           272892502.7859462,
           882480378.8140538,
           686836521.0862375,
           528338800.23714876,
           18.895544953974362,
           81.10445504602562,
           80,
           "Asia",
           "Eastern Asia",
           3.16227807617188
          ],
          [
           "Cote d'Ivoire",
           27053628.999999996,
           22187771.014354486,
           4865857.985645512,
           6496666.194354486,
           4078299.6208024737,
           4253194.818065445,
           17.98597144082043,
           82.01402855917958,
           42,
           "Africa",
           "Western Africa",
           4.12310498046875
          ],
          [
           "Cameroon",
           27224262,
           22121089.5701617,
           5103172.4298383,
           4697561.890161701,
           1214869.8439101577,
           4082874.6145973536,
           18.744943131381486,
           81.25505686861851,
           36,
           "Africa",
           "Middle Africa",
           3.60555102539062
          ],
          [
           "Democratic Republic of Congo",
           92377986,
           79332081.89739367,
           13045904.102606334,
           19286390.997393668,
           6743620.980528459,
           15929349.780118378,
           14.122308428120888,
           85.87769157187913,
           35,
           "Africa",
           "Middle Africa",
           3
          ],
          [
           "Congo",
           5657017,
           4494820.886065929,
           1162196.1139340713,
           1836022.896065929,
           159953.40862213742,
           1781157.797496059,
           20.544327760267844,
           79.45567223973217,
           53,
           "Africa",
           "Middle Africa",
           2
          ],
          [
           "Colombia",
           51265841,
           29930441.083857987,
           21335399.916142017,
           24291198.573857985,
           12822584.081845133,
           17194324.57573141,
           41.617185049479666,
           58.38281495052035,
           89,
           "Americas",
           "South America",
           3.60555102539062
          ],
          [
           "Costa Rica",
           5139053,
           3703482.1366669578,
           1435570.8633330422,
           3703482.1366669578,
           2879083.050188373,
           2359470.7683989275,
           27.934540922871243,
           72.06545907712876,
           100,
           "Americas",
           "Central America",
           3.16227807617188
          ],
          [
           "Cuba",
           11317498,
           6086868.749225964,
           5230629.250774037,
           3823369.1492259633,
           1552466.9774105742,
           2950117.574782907,
           46.21718732156204,
           53.78281267843798,
           80,
           "Americas",
           "Caribbean",
           4.47213623046875
          ],
          [
           "Cyprus",
           1215588,
           633683.3220933893,
           581904.6779066107,
           633683.3220933893,
           470354.74756880396,
           351622.3348214969,
           47.87022230448233,
           52.129777695517674,
           100,
           "Europe",
           "Southern Europe",
           5
          ],
          [
           "Czechia",
           10724553,
           7034155.563598338,
           3690397.436401663,
           7034155.563598338,
           4358831.277705127,
           4673871.918052429,
           34.41073428796205,
           65.58926571203794,
           100,
           "Europe",
           "Eastern Europe",
           3.16227807617188
          ],
          [
           "Germany",
           83900471.00000001,
           69935570.35812482,
           13964900.641875189,
           69935570.35812482,
           61551644.35505961,
           35828743.60284277,
           16.64460339188702,
           83.35539660811297,
           100,
           "Europe",
           "Western Europe",
           3.16227807617188
          ],
          [
           "Djibouti",
           1002197,
           189481.44120963852,
           812715.5587903615,
           19107.951209638522,
           5887.987090761373,
           14524.24095679757,
           81.09339369309242,
           18.906606306907577,
           83,
           "Africa",
           "Eastern Africa",
           38.83298046875
          ],
          [
           "Denmark",
           5813302.000000001,
           4429593.575750161,
           1383708.4242498395,
           4429593.575750161,
           4165485.5744003635,
           2314706.4097265354,
           23.802452104670277,
           76.19754789532972,
           100,
           "Europe",
           "Northern Europe",
           3.60555102539062
          ],
          [
           "Dominican Republic",
           10953714,
           6000524.242558795,
           4953189.757441205,
           3919318.582558795,
           113629.13280622775,
           3863644.1114239264,
           45.21927227095034,
           54.78072772904966,
           81,
           "Americas",
           "Caribbean",
           3.60555102539062
          ],
          [
           "Algeria",
           44616625.99999999,
           21551237.648209546,
           23065388.35179045,
           9058582.368209545,
           4157872.608659514,
           6395956.461003409,
           51.69684581660311,
           48.3031541833969,
           72,
           "Africa",
           "Northern Africa",
           7.28010986328125
          ],
          [
           "Ecuador",
           17888473.999999996,
           12349418.395222036,
           5539055.604777961,
           10739455.735222038,
           8431478.839139633,
           5959145.097036933,
           30.964383014325104,
           69.0356169856749,
           91,
           "Americas",
           "South America",
           4.12310498046875
          ],
          [
           "Egypt",
           104258326.99999999,
           46064118.95130926,
           58194208.04869073,
           46064118.95130926,
           7420955.417800701,
           42841644.715641424,
           55.81732387542603,
           44.18267612457398,
           100,
           "Africa",
           "Northern Africa",
           3.60555102539062
          ],
          [
           "Eritrea",
           3601462,
           1919944.3960278907,
           1681517.6039721093,
           191242.6360278907,
           53506.739362129636,
           153894.85660978887,
           46.6898610612054,
           53.310138938794594,
           52,
           "Africa",
           "Eastern Africa",
           21.09501953125
          ],
          [
           "Western Sahara",
           611871.9999999999,
           195118.04420229865,
           416753.95579770126,
           1358.5775356319846,
           1291.2023358477284,
           82.06413238738155,
           68.11129710097885,
           31.888702899021148,
           68.33333333333333,
           "Africa",
           "Northern Africa",
           136.85390625
          ],
          [
           "Spain",
           46745211,
           32121443.664334387,
           14623767.335665619,
           32121443.664334387,
           25994345.97806631,
           17029176.44877175,
           31.28399042987659,
           68.71600957012343,
           100,
           "Europe",
           "Southern Europe",
           4
          ],
          [
           "Estonia",
           1325188.0000000002,
           865310.3678285654,
           459877.63217143476,
           772547.2078285654,
           334964.40365026076,
           627898.9871980264,
           34.70282195216336,
           65.29717804783662,
           93,
           "Europe",
           "Northern Europe",
           2.82842700195312
          ],
          [
           "Ethiopia",
           117876225.99999999,
           80295927.67486821,
           37580298.32513178,
           10748954.334868215,
           715370.3955258441,
           10269789.088374995,
           31.881151611633534,
           68.11884838836647,
           41,
           "Africa",
           "Eastern Africa",
           7.07106787109375
          ],
          [
           "Finland",
           5548361,
           4678168.441900189,
           870192.5580998115,
           4678168.441900189,
           4291553.292030756,
           2577434.332462881,
           15.683776850493533,
           84.31622314950647,
           100,
           "Europe",
           "Northern Europe",
           3.16227807617188
          ],
          [
           "Fiji",
           902899.0000000001,
           432220.3929262271,
           470678.607073773,
           278727.5629262271,
           56749.42954488801,
           251277.03574976124,
           52.12970742838047,
           47.87029257161954,
           83,
           "Oceania",
           "Melanesia",
           4
          ],
          [
           "Falkland Islands",
           3527.9999999999995,
           925.5986317647034,
           2602.401368235296,
           608.0786317647036,
           480.5077552173897,
           241.49335372020738,
           73.7642111177805,
           26.23578888221949,
           91,
           "Americas",
           "South America",
           14.3178203125
          ],
          [
           "France",
           65426177,
           52825806.637118354,
           12600370.362881642,
           48245974.247118354,
           35437389.74179481,
           32045495.384847503,
           19.258912778721033,
           80.74108722127896,
           93,
           "Europe",
           "Western Europe",
           2.82842700195312
          ],
          [
           "Faeroe Islands",
           49053.00000000001,
           23504.115755385195,
           25548.884244614812,
           23504.115755385195,
           17923.063900787663,
           13568.197377465634,
           52.08424407195239,
           47.9157559280476,
           100,
           "Europe",
           "Northern Europe",
           5.3851650390625
          ],
          [
           "Gabon",
           2278829,
           976191.8716233058,
           1302637.1283766942,
           566002.6516233057,
           44926.74458869131,
           539416.0528308639,
           57.162565878207374,
           42.83743412179263,
           82,
           "Africa",
           "Middle Africa",
           4.47213623046875
          ],
          [
           "United Kingdom",
           68207114,
           49851830.71074987,
           18355283.28925012,
           49851830.71074987,
           34027798.999776155,
           34066806.69746765,
           26.91109799668422,
           73.08890200331577,
           100,
           "Europe",
           "Northern Europe",
           3
          ],
          [
           "Georgia",
           3979773,
           2486595.909987068,
           1493177.0900129322,
           1770236.7699870677,
           258548.98691064544,
           1646001.5059630033,
           37.519152223328625,
           62.480847776671375,
           82,
           "Asia",
           "Western Asia",
           2.82842700195312
          ],
          [
           "Ghana",
           31732128.000000004,
           26036791.988229062,
           5695336.01177094,
           5410908.78822906,
           3018061.2128960383,
           3617852.396935323,
           17.94816916082949,
           82.0518308391705,
           35,
           "Africa",
           "Western Africa",
           4.24264111328125
          ],
          [
           "Guinea",
           13497237,
           11955096.468125863,
           1542140.531874138,
           1832168.718125862,
           776896.553094478,
           1407029.553375179,
           11.425601638869777,
           88.57439836113022,
           25,
           "Africa",
           "Western Africa",
           3.16227807617188
          ],
          [
           "Guadeloupe",
           400012.99999999994,
           132829.99399005785,
           267183.0060099421,
           77399.62113291505,
           31113.712513617622,
           60129.790784173674,
           66.79358071111243,
           33.20641928888758,
           86.14285714285715,
           "Americas",
           "Caribbean",
           22.4722109375
          ],
          [
           "Gambia",
           2486936.9999999995,
           1679025.7232149227,
           807911.2767850771,
           1107030.2132149227,
           764135.0211383236,
           614948.3358619068,
           32.486197952946824,
           67.51380204705319,
           77,
           "Africa",
           "Western Africa",
           4.24264111328125
          ],
          [
           "Guinea-Bissau",
           2015489.9999999998,
           1712331.0187207381,
           303158.9812792617,
           402262.51872073824,
           210301.6170307452,
           298678.8574607018,
           15.041453010397557,
           84.95854698960244,
           35,
           "Africa",
           "Western Africa",
           3.60555102539062
          ],
          [
           "Equatorial Guinea",
           1449891,
           1136957.5705833307,
           312933.4294166693,
           281521.8805833307,
           47789.29754508815,
           256990.19575397755,
           21.58323828595869,
           78.4167617140413,
           41,
           "Africa",
           "Middle Africa",
           3.16227807617188
          ],
          [
           "Greece",
           10370747,
           3239995.0328623946,
           7130751.967137605,
           3239995.0328623946,
           1591508.8344150349,
           2359024.325196565,
           68.75832538521675,
           31.241674614783243,
           100,
           "Europe",
           "Southern Europe",
           8
          ],
          [
           "Grenada",
           113014.99999999997,
           47059.703373185745,
           65955.29662681423,
           38018.50337318575,
           11774.274865048228,
           34093.74508483634,
           58.35977226634894,
           41.640227733651066,
           92,
           "Americas",
           "Caribbean",
           9.219544921875
          ],
          [
           "Greenland",
           56867.99999999999,
           22413.47060007069,
           34454.529399929306,
           22413.47060007069,
           16342.203348826659,
           16012.83727085331,
           60.586849194501845,
           39.41315080549816,
           100,
           "Americas",
           "Northern America",
           16.76305078125
          ],
          [
           "Guatemala",
           18249868,
           11800948.905329732,
           6448919.094670269,
           7603479.265329732,
           3363548.208822595,
           5784353.419518605,
           35.3367985712021,
           64.66320142879792,
           77,
           "Americas",
           "Central America",
           3.60555102539062
          ],
          [
           "French Guiana",
           306450,
           224473.04188145406,
           81976.95811854594,
           187699.04188145406,
           117704.14077327971,
           134657.3703504701,
           26.750516599297093,
           73.24948340070291,
           88,
           "Americas",
           "South America",
           3
          ],
          [
           "Guyana",
           790329,
           646479.5665028879,
           143849.43349711216,
           369864.41650288785,
           234794.36670197538,
           281983.40250712424,
           18.201209053079435,
           81.79879094692058,
           65,
           "Americas",
           "South America",
           2.82842700195312
          ],
          [
           "Hong Kong",
           7552800,
           954960.5530860792,
           6597839.446913921,
           954960.5530860792,
           954960.5530860792,
           0,
           87.35620494272219,
           12.64379505727782,
           100,
           "Asia",
           "Eastern Asia",
           25
          ],
          [
           "Honduras",
           10062994,
           6264847.183556464,
           3798146.8164435355,
           5459807.663556464,
           2886571.831086447,
           3857924.786311869,
           37.74370546622144,
           62.25629453377856,
           92,
           "Americas",
           "Central America",
           3.16227807617188
          ],
          [
           "Croatia",
           4081657,
           2579075.428206828,
           1502581.571793172,
           2354584.293206828,
           1399885.7775350732,
           1696035.7357821192,
           36.81302891921521,
           63.186971080784794,
           94.5,
           "Europe",
           "Southern Europe",
           3.60555102539062
          ],
          [
           "Haiti",
           11541683,
           10288306.186289003,
           1253376.8137109962,
           939542.9562890037,
           303631.5296515482,
           770801.7292575218,
           10.859567133415432,
           89.14043286658456,
           19,
           "Americas",
           "Caribbean",
           4.12310498046875
          ],
          [
           "Hungary",
           9634162,
           6226281.891003084,
           3407880.1089969156,
           6226281.891003084,
           3037433.5304403743,
           4840389.13260885,
           35.37287528481372,
           64.62712471518628,
           100,
           "Europe",
           "Eastern Europe",
           2.82842700195312
          ],
          [
           "Indonesia",
           276361787.99999994,
           229867607.86530992,
           46494180.13469003,
           50232445.66530995,
           31473672.171507947,
           35527980.10189775,
           16.82366454174556,
           83.17633545825444,
           35,
           "Asia",
           "South-Eastern Asia",
           4.12310498046875
          ],
          [
           "Isle of Man",
           85410,
           44198.14818237408,
           41211.85181762592,
           42489.94818237408,
           31349.669186417283,
           27083.33629487067,
           48.251787633328554,
           51.74821236667144,
           98,
           "Europe",
           "Northern Europe",
           4.47213623046875
          ],
          [
           "India",
           1393409033,
           1149512767.6295922,
           243896265.37040764,
           369203709.14959234,
           231552339.98963138,
           249458806.0166019,
           17.503565686329782,
           82.4964343136702,
           44,
           "Asia",
           "Southern Asia",
           3.60555102539062
          ],
          [
           "Ireland",
           4982904,
           3411456.3497100426,
           1571447.650289957,
           3261969.229710043,
           2175456.650474937,
           2174764.9704465684,
           31.536783576202893,
           68.4632164237971,
           97,
           "Europe",
           "Northern Europe",
           3.16227807617188
          ],
          [
           "Iran",
           85028760,
           30811429.517215446,
           54217330.482784554,
           29961141.917215444,
           12510075.448326418,
           22476488.119785678,
           63.76352011105955,
           36.23647988894045,
           99,
           "Asia",
           "Southern Asia",
           5.3851650390625
          ],
          [
           "Iraq",
           41179351,
           24459086.57906545,
           16720264.420934549,
           17458596.90906545,
           6049453.145319044,
           14871146.720211688,
           40.60351611887849,
           59.39648388112151,
           83,
           "Asia",
           "Western Asia",
           3.60555102539062
          ],
          [
           "Iceland",
           343360.00000000006,
           182579.93187767142,
           160780.06812232864,
           182579.93187767142,
           132018.12226146035,
           122921.74136842243,
           46.825509122299806,
           53.1744908777002,
           100,
           "Europe",
           "Northern Europe",
           5.3851650390625
          ],
          [
           "Israel",
           8789776,
           1871034.552228547,
           6918741.447771452,
           1871034.552228547,
           1122578.5234563232,
           1155916.646752469,
           78.71351269669958,
           21.286487303300415,
           100,
           "Asia",
           "Western Asia",
           16.12451953125
          ],
          [
           "Italy",
           60367471,
           45899884.18370075,
           14467586.816299252,
           44692534.763700746,
           35064717.04631027,
           28012271.50826441,
           23.965865352052354,
           76.03413464794765,
           98,
           "Europe",
           "Southern Europe",
           3
          ],
          [
           "Jamaica",
           2973462,
           1594771.0465402158,
           1378690.9534597844,
           1089282.5065402158,
           414587.31089553435,
           876493.1307903021,
           46.36652338115585,
           53.633476618844156,
           83,
           "Americas",
           "Caribbean",
           4.12310498046875
          ],
          [
           "Jordan",
           10269022.000000002,
           2732957.877823477,
           7536064.122176524,
           1603365.457823477,
           418634.9052662845,
           1300472.6153207382,
           73.38638598862211,
           26.61361401137788,
           89,
           "Asia",
           "Western Asia",
           9.4339814453125
          ],
          [
           "Japan",
           126050795.99999999,
           101643671.33563368,
           24407124.66436631,
           99122655.41563368,
           79207943.38934147,
           68388434.15622322,
           19.362927834558306,
           80.6370721654417,
           98,
           "Asia",
           "Eastern Asia",
           2.23606811523438
          ],
          [
           "Kazakhstan",
           18994958.000000004,
           10673024.603373181,
           8321933.396626822,
           7063982.583373181,
           2772091.8277988536,
           5705784.040912426,
           43.81127558495692,
           56.188724415043076,
           81,
           "Asia",
           "Central Asia",
           4.12310498046875
          ],
          [
           "Kenya",
           54985702,
           45373980.36718736,
           9611721.632812642,
           8533560.027187359,
           4098939.789665093,
           6285783.469202362,
           17.480401783017413,
           82.51959821698259,
           33,
           "Africa",
           "Eastern Africa",
           4.12310498046875
          ],
          [
           "Kyrgyzstan",
           6628347,
           4413903.542777682,
           2214443.457222318,
           4016202.722777682,
           1405007.3770741872,
           3399551.289810565,
           33.408683299506166,
           66.59131670049383,
           94,
           "Asia",
           "Central Asia",
           2.82842700195312
          ],
          [
           "Cambodia",
           16946445.999999996,
           15694318.73290285,
           1252127.2670971483,
           4170735.4529028507,
           3314123.9093484743,
           2482932.0103025413,
           7.388730752732157,
           92.61126924726784,
           32,
           "Asia",
           "South-Eastern Asia",
           3.16227807617188
          ],
          [
           "South Korea",
           51305184,
           28785203.820484128,
           22519980.17951587,
           28785203.820484128,
           18844510.24998823,
           17321299.12963216,
           43.89416122065924,
           56.10583877934076,
           100,
           "Asia",
           "Eastern Asia",
           4.47213623046875
          ],
          [
           "Kuwait",
           4328553,
           367927.005,
           3960625.995,
           0,
           0,
           0,
           91.5,
           8.5,
           91.5,
           "Asia",
           "Western Asia",
           104.995203125
          ],
          [
           "Laos",
           7379358,
           6715123.473594684,
           664234.5264053158,
           1623366.4535946841,
           1055064.149792721,
           1076534.0098540694,
           9.001250873115465,
           90.99874912688453,
           31,
           "Asia",
           "South-Eastern Asia",
           3
          ],
          [
           "Lebanon",
           6769151,
           2039107.211066729,
           4730043.788933271,
           1294500.601066729,
           348897.45790594845,
           1051838.8689218916,
           69.87647031264734,
           30.12352968735265,
           89,
           "Asia",
           "Western Asia",
           6.7082041015625
          ],
          [
           "Liberia",
           5180207.999999999,
           5039931.060716284,
           140276.93928371504,
           66931.38071628497,
           5369.696055984498,
           63465.65428896955,
           2.7079402850950207,
           97.292059714905,
           4,
           "Africa",
           "Western Africa",
           4.24264111328125
          ],
          [
           "Libya",
           6958537.999999999,
           1532366.4170658004,
           5426171.582934199,
           1488.0570658005838,
           538.6744038575353,
           1145.3478635744198,
           77.97861537774457,
           22.02138462225543,
           78,
           "Africa",
           "Northern Africa",
           223.618
          ],
          [
           "Saint Lucia",
           184401,
           40593.88676936727,
           143807.11323063273,
           35061.856769367274,
           17767.958251901826,
           22466.416469231517,
           77.98608100315765,
           22.013918996842357,
           97,
           "Americas",
           "Caribbean",
           13.03841015625
          ],
          [
           "Liechtenstein",
           38254,
           31870.17248,
           6383.827519999999,
           31870.17248,
           30274.215600000003,
           7650.8,
           16.688,
           83.31200000000001,
           100,
           "Europe",
           "Western Europe",
           3.60555102539062
          ],
          [
           "Sri Lanka",
           21497306,
           18464699.425835576,
           3032606.5741644255,
           5351342.765835575,
           3359018.4425415867,
           3602105.086411115,
           14.106914485770568,
           85.89308551422944,
           39,
           "Asia",
           "Southern Asia",
           3.60555102539062
          ],
          [
           "Lesotho",
           2159067,
           1561237.0127677654,
           597829.9872322347,
           891926.2427677654,
           31284.880830000002,
           879102.5147474621,
           27.6892744519848,
           72.31072554801521,
           69,
           "Africa",
           "Southern Africa",
           2.23606811523438
          ],
          [
           "Lithuania",
           2689862,
           1924978.253848095,
           764883.7461519053,
           1817383.773848095,
           984490.3160739302,
           1364057.4152868728,
           28.435798793837947,
           71.56420120616205,
           96,
           "Europe",
           "Northern Europe",
           2.82842700195312
          ],
          [
           "Luxembourg",
           634813.9999999999,
           485177.7489852661,
           149636.25101473383,
           485177.7489852661,
           399278.17468857655,
           238875.3456526406,
           23.571668396527777,
           76.42833160347222,
           100,
           "Europe",
           "Western Europe",
           4.47213623046875
          ],
          [
           "Latvia",
           1866934,
           1064547.3332931146,
           802386.6667068854,
           952531.2932931145,
           303897.66283055657,
           790823.738676613,
           42.9788448175932,
           57.0211551824068,
           94,
           "Europe",
           "Northern Europe",
           3
          ],
          [
           "Morocco",
           37344787,
           16666054.836834349,
           20678732.163165655,
           9197097.436834348,
           4443759.650521818,
           6371766.469587843,
           55.372473173205286,
           44.62752682679472,
           80,
           "Africa",
           "Northern Africa",
           7.07106787109375
          ],
          [
           "Moldova",
           4024025.0000000005,
           3055513.799345472,
           968511.2006545283,
           1928786.799345472,
           779874.8976878661,
           1578175.6890901178,
           24.06822026837627,
           75.93177973162372,
           72,
           "Europe",
           "Eastern Europe",
           2.82842700195312
          ],
          [
           "Madagascar",
           28427333,
           23161895.055499196,
           5265437.944500802,
           4684128.605499198,
           1967244.2520759003,
           3510186.503130875,
           18.52244790076087,
           81.47755209923912,
           35,
           "Africa",
           "Eastern Africa",
           4
          ],
          [
           "Mexico",
           130262220,
           55245295.637335435,
           75016924.36266457,
           52640051.23733543,
           29092923.578299765,
           35082132.98426053,
           57.589164657768436,
           42.410835342231564,
           98,
           "Americas",
           "Central America",
           5.65685400390625
          ],
          [
           "North Macedonia",
           2082661,
           1613065.5185696578,
           469595.4814303423,
           1446452.6385696577,
           1052696.0002428903,
           929987.3366243917,
           22.547859753956228,
           77.45214024604378,
           92,
           "Europe",
           "Southern Europe",
           3
          ],
          [
           "Mali",
           20855724.000000004,
           13943666.102843316,
           6912057.897156686,
           3515804.102843316,
           2323097.8561550514,
           2216926.109085993,
           33.14225819806919,
           66.85774180193079,
           50,
           "Africa",
           "Western Africa",
           8.54400390625
          ],
          [
           "Malta",
           442790,
           179966.90681855503,
           262823.0931814449,
           179966.90681855503,
           94415.06404906466,
           146167.5085759275,
           59.35614923133876,
           40.643850768661224,
           100,
           "Europe",
           "Southern Europe",
           4.12310498046875
          ],
          [
           "Myanmar",
           54806013.99999999,
           50215943.01158008,
           4590070.988419911,
           13495913.631580086,
           9020433.244678846,
           9489992.338637067,
           8.375122825790452,
           91.62487717420954,
           33,
           "Asia",
           "South-Eastern Asia",
           2.82842700195312
          ],
          [
           "Montenegro",
           628051.0000000001,
           324797.0248734467,
           303253.9751265534,
           255711.41487344666,
           124896.13383949759,
           185185.84517829708,
           48.28492831418998,
           51.71507168581001,
           89,
           "Europe",
           "Southern Europe",
           3.60555102539062
          ],
          [
           "Mongolia",
           3329281.9999999995,
           2890738.7930689664,
           438543.20693103323,
           393777.29306896665,
           103186.76372161481,
           344996.47316556075,
           13.17230582843488,
           86.82769417156513,
           25,
           "Asia",
           "Eastern Asia",
           3.60555102539062
          ],
          [
           "Mozambique",
           32163044.999999996,
           27379376.19667875,
           4783668.803321246,
           8403179.646678753,
           4794027.337106489,
           6020270.7415717505,
           14.873183814906973,
           85.12681618509302,
           41,
           "Africa",
           "Eastern Africa",
           3.16227807617188
          ],
          [
           "Mauritania",
           4775110.000000001,
           2410244.191570022,
           2364865.8084299783,
           165942.491570022,
           15640.521738646683,
           158079.48026017594,
           49.52484463038501,
           50.475155369614974,
           53,
           "Africa",
           "Western Africa",
           31.016130859375
          ],
          [
           "Montserrat",
           4980.999999999999,
           1446.146409595855,
           3534.853590404144,
           1346.526409595855,
           1028.837122970515,
           412.70855232149114,
           70.96674544075778,
           29.033254559242224,
           98,
           "Americas",
           "Caribbean",
           5
          ],
          [
           "Martinique",
           374743.00000000006,
           96951.60406128645,
           277791.3959387136,
           45022.93120414357,
           36954.9554822995,
           10481.06662864601,
           74.12850832135986,
           25.87149167864014,
           86.14285714285714,
           "Americas",
           "Caribbean",
           7.81025
          ],
          [
           "Mauritius",
           1273428,
           972505.5182413608,
           300922.4817586393,
           972505.5182413608,
           764675.5001316447,
           842781.9063654344,
           23.630898783334374,
           76.36910121666563,
           100,
           "Africa",
           "Eastern Africa",
           2
          ],
          [
           "Malawi",
           19647681,
           18461994.903984036,
           1185686.0960159616,
           3136803.7239840385,
           1885841.1769758756,
           2225912.0053526023,
           6.034738125155643,
           93.96526187484434,
           22,
           "Africa",
           "Eastern Africa",
           2.82842700195312
          ],
          [
           "Malaysia",
           32776195,
           20747428.031267323,
           12028766.96873268,
           19108618.281267323,
           12380058.838114437,
           12121346.501806676,
           36.699705285292204,
           63.3002947147078,
           95,
           "Asia",
           "South-Eastern Asia",
           3.16227807617188
          ],
          [
           "Namibia",
           2587343.9999999995,
           548536.6358122079,
           2038807.364187792,
           56941.275812207976,
           36351.40343106286,
           24280.509883425835,
           78.79923829949911,
           21.2007617005009,
           81,
           "Africa",
           "Southern Africa",
           30.6104609375
          ],
          [
           "New Caledonia",
           288217,
           145734.59952820407,
           142482.40047179593,
           142852.42952820408,
           25428.35330814624,
           132922.88455972134,
           49.43580721185632,
           50.56419278814368,
           99,
           "Oceania",
           "Melanesia",
           3.16227807617188
          ],
          [
           "Niger",
           25130809.999999996,
           15895018.273441728,
           9235791.726558266,
           816532.2734417313,
           217026.9073044882,
           667600.6304423643,
           36.750871645435495,
           63.2491283545645,
           40,
           "Africa",
           "Western Africa",
           33.9705703125
          ],
          [
           "Nigeria",
           211400704,
           201102334.18657038,
           10298369.813429642,
           10841700.586570356,
           4067930.386489241,
           8636708.147496004,
           4.871492676500094,
           95.12850732349992,
           10,
           "Africa",
           "Western Africa",
           3.60555102539062
          ],
          [
           "Nicaragua",
           6702378.999999999,
           4345181.202350642,
           2357197.7976493575,
           2334467.502350642,
           1215399.3133388497,
           1645446.5358208972,
           35.169568859793785,
           64.83043114020623,
           70,
           "Americas",
           "Central America",
           4
          ],
          [
           "Netherlands",
           17173094,
           15631943.586183844,
           1541150.4138161538,
           14086365.126183845,
           13166280.346668651,
           8746053.03721667,
           8.974215210236162,
           91.02578478976383,
           91,
           "Europe",
           "Western Europe",
           2.23606811523438
          ],
          [
           "Norway",
           5465629,
           4269682.7826151475,
           1195946.2173848522,
           4269682.7826151475,
           3661494.513655814,
           3120514.4636189532,
           21.881218380992422,
           78.11878161900758,
           100,
           "Europe",
           "Northern Europe",
           2.23606811523438
          ],
          [
           "Nepal",
           29674920.000000004,
           25694648.56676058,
           3980271.4332394223,
           10857188.56676058,
           5862203.084379963,
           8283558.013898203,
           13.412913777827951,
           86.58708622217205,
           50,
           "Asia",
           "Southern Asia",
           2.82842700195312
          ],
          [
           "New Zealand",
           4860642,
           3369607.4675457217,
           1491034.532454278,
           3369607.4675457217,
           2403238.838626293,
           2576295.998185627,
           30.67567067178118,
           69.32432932821881,
           100,
           "Oceania",
           "Australia and New Zealand",
           2.82842700195312
          ],
          [
           "Oman",
           5223376,
           374043.97482493543,
           4849332.025175065,
           165108.93482493545,
           157041.8908072969,
           12976.82621674339,
           92.83903791676235,
           7.16096208323765,
           96,
           "Asia",
           "Western Asia",
           53.0094296875
          ],
          [
           "Pakistan",
           225199928.99999997,
           206093111.74514863,
           19106817.254851338,
           39445164.28514866,
           24073225.457427345,
           28445482.656775188,
           8.484379786305945,
           91.51562021369405,
           26,
           "Asia",
           "Southern Asia",
           3
          ],
          [
           "Panama",
           4381583,
           3309695.3599114623,
           1071887.640088538,
           3002984.5499114622,
           1531567.1809773496,
           2563444.8936134363,
           24.46347906883284,
           75.53652093116716,
           93,
           "Americas",
           "Central America",
           2
          ],
          [
           "Peru",
           33359415,
           15074282.09432132,
           18285132.905678682,
           11738340.59432132,
           4510993.4695188375,
           9218555.006125616,
           54.812510668063815,
           45.187489331936185,
           90,
           "Americas",
           "South America",
           4.47213623046875
          ],
          [
           "Philippines",
           111046909.99999999,
           83800649.04048693,
           27246260.95951306,
           46044699.64048693,
           14993202.098893205,
           40590192.8648284,
           24.535811901036293,
           75.46418809896372,
           66,
           "Asia",
           "South-Eastern Asia",
           2.23606811523438
          ],
          [
           "Papua New Guinea",
           9119005,
           8787731.600995386,
           331273.399004614,
           1310147.5009953862,
           739160.4610618321,
           1081414.848359004,
           3.632780100511119,
           96.36721989948887,
           18,
           "Oceania",
           "Melanesia",
           2.23606811523438
          ],
          [
           "Poland",
           37797000,
           30959541.095437218,
           6837458.904562781,
           26801871.095437218,
           21944681.00868125,
           15592905.575460574,
           18.08995133095955,
           81.91004866904045,
           89,
           "Europe",
           "Eastern Europe",
           3
          ],
          [
           "Puerto Rico",
           2828246,
           1786608.593204163,
           1041637.4067958372,
           1786608.593204163,
           592609.8335911442,
           1551117.7754466967,
           36.82980217406255,
           63.17019782593746,
           100,
           "Americas",
           "Caribbean",
           2.23606811523438
          ],
          [
           "North Korea",
           25887045,
           15754558.40116965,
           10132486.59883035,
           15754558.40116965,
           9897989.484542921,
           10240547.152695803,
           39.14114800986497,
           60.85885199013503,
           100,
           "Asia",
           "Eastern Asia",
           3.60555102539062
          ],
          [
           "Portugal",
           10167922.999999998,
           5551153.1741241515,
           4616769.825875848,
           5551153.1741241515,
           3127272.901048809,
           3987957.013944295,
           45.40523984963152,
           54.594760150368494,
           100,
           "Europe",
           "Southern Europe",
           4
          ],
          [
           "Paraguay",
           7219640.999999999,
           3775926.337519166,
           3443714.6624808335,
           3775926.337519166,
           2139845.0167551464,
           2664627.558247589,
           47.69925073117672,
           52.30074926882329,
           100,
           "Americas",
           "South America",
           4.24264111328125
          ],
          [
           "Palestine",
           5222756,
           2756112.583800058,
           2466643.416199942,
           353644.82380005775,
           101072.17607380403,
           307952.83201737906,
           47.22876994827907,
           52.77123005172093,
           54,
           "Asia",
           "Western Asia",
           19.104970703125
          ],
          [
           "Qatar",
           2930524.0000000005,
           0,
           2930524.0000000005,
           0,
           0,
           0,
           100,
           0,
           100,
           "Asia",
           "Western Asia",
           196.6215
          ],
          [
           "Reunion",
           901695.9999999999,
           414277.8970195977,
           487418.1029804022,
           414277.8970195977,
           189151.3016287809,
           305484.2192697154,
           54.05570203044066,
           45.94429796955934,
           100,
           "Africa",
           "Eastern Africa",
           4.12310498046875
          ],
          [
           "Romania",
           19127772.000000004,
           14360629.155176334,
           4767142.844823668,
           7474631.235176334,
           3268284.0300602326,
           6103674.388908223,
           24.922624782560494,
           75.0773752174395,
           64,
           "Europe",
           "Eastern Europe",
           3
          ],
          [
           "Russia",
           145912021.99999997,
           86182849.10738675,
           59729172.89261321,
           77428127.78738676,
           29255549.84949892,
           62440152.86829273,
           40.93505941039815,
           59.06494058960185,
           94,
           "Europe",
           "Eastern Europe",
           3.16227807617188
          ],
          [
           "Rwanda",
           13276517,
           10361472.479047004,
           2915044.520952997,
           2130031.939047003,
           740957.7094254969,
           1638059.2330442292,
           21.956395046630053,
           78.04360495336995,
           38,
           "Africa",
           "Eastern Africa",
           3.60555102539062
          ],
          [
           "Saudi Arabia",
           35340680,
           5942512.930145459,
           29398167.06985454,
           288004.1301454599,
           151111.56549495875,
           190147.74027542616,
           83.18506341659113,
           16.814936583408862,
           84,
           "Asia",
           "Western Asia",
           216.01159375
          ],
          [
           "Sudan",
           44909351,
           26821464.187047098,
           18087886.8129529,
           2570414.647047099,
           362192.49584445567,
           2390109.482847325,
           40.276437780080364,
           59.72356221991962,
           46,
           "Africa",
           "Northern Africa",
           47.85394921875
          ],
          [
           "Senegal",
           17196308,
           6249441.356709611,
           10946866.64329039,
           1950364.3567096111,
           680534.1817286428,
           1522578.1474591948,
           63.65823782227202,
           36.34176217772798,
           75,
           "Africa",
           "Western Africa",
           17.46425
          ],
          [
           "Singapore",
           5896684.000000001,
           2146504.918821313,
           3750179.0811786884,
           2146504.918821313,
           1684012.8549135192,
           860386.3227067633,
           63.59810159707876,
           36.40189840292125,
           100,
           "Asia",
           "South-Eastern Asia",
           10.4403095703125
          ],
          [
           "Solomon Islands",
           703995,
           533190.1167092689,
           170804.88329073117,
           153032.81670926884,
           45788.088969905904,
           134975.42978964566,
           24.26222960258683,
           75.73777039741317,
           46,
           "Oceania",
           "Melanesia",
           3.60555102539062
          ],
          [
           "Sierra Leone",
           8141343,
           7327991.169091625,
           813351.8309083746,
           896330.1990916254,
           167723.25149741475,
           811818.3260102626,
           9.990388943303023,
           90.00961105669697,
           21,
           "Africa",
           "Western Africa",
           3
          ],
          [
           "El Salvador",
           6518500,
           4468972.959265139,
           2049527.0407348606,
           3882307.9592651394,
           1675135.6401066834,
           3153103.313083508,
           31.44169733427722,
           68.55830266572276,
           91,
           "Americas",
           "Central America",
           2.82842700195312
          ],
          [
           "Somalia",
           16359500,
           8930387.455875648,
           7429112.544124352,
           259852.45587564836,
           15823.999834004193,
           248628.075437233,
           45.41161126027294,
           54.58838873972706,
           47,
           "Africa",
           "Eastern Africa",
           86.2786171875
          ],
          [
           "Serbia",
           8697547,
           5578271.1657138625,
           3119275.8342861375,
           5056418.345713863,
           2621676.449244619,
           3786056.4220605777,
           35.863857180491664,
           64.13614281950834,
           94,
           "Europe",
           "Eastern Europe",
           3.16227807617188
          ],
          [
           "South Sudan",
           11381377,
           11049571.523298472,
           331805.4767015266,
           123449.60329847342,
           58333.57044741848,
           86937.29352610807,
           2.915336841065247,
           97.08466315893473,
           4,
           "Africa",
           "Middle Africa",
           9.4868330078125
          ],
          [
           "Sao Tome and Principe",
           223364,
           75508.04489574363,
           147855.95510425637,
           68807.12489574362,
           26559.911905650188,
           48897.237257052584,
           66.19506952967191,
           33.80493047032809,
           97,
           "Africa",
           "Middle Africa",
           5.09902001953125
          ],
          [
           "Suriname",
           591798,
           454615.04967351834,
           137182.95032648163,
           336255.44967351836,
           163765.67252801248,
           280106.81576080853,
           23.180705295807293,
           76.81929470419271,
           80,
           "Americas",
           "South America",
           2.23606811523438
          ],
          [
           "Slovakia",
           5460726,
           4167254.902845599,
           1293471.0971544005,
           4058040.382845599,
           2877060.6042996068,
           2677351.572310116,
           23.68679727117604,
           76.31320272882395,
           98,
           "Europe",
           "Eastern Europe",
           2.82842700195312
          ],
          [
           "Slovenia",
           2078723,
           1761671.056489937,
           317051.94351006305,
           1719725.3959542227,
           1494261.1872619586,
           1086574.4997217548,
           15.252245898566718,
           84.74775410143329,
           97.98214285714286,
           "Europe",
           "Southern Europe",
           2.82842700195312
          ],
          [
           "Sweden",
           10160159,
           8785841.702473769,
           1374317.2975262317,
           7566622.622473769,
           6792944.260670381,
           5116920.382297543,
           13.52653336947022,
           86.47346663052978,
           88,
           "Europe",
           "Northern Europe",
           2.23606811523438
          ],
          [
           "Eswatini",
           1172369.0000000002,
           998487.320312699,
           173881.6796873012,
           541263.4103126989,
           56925.54916400001,
           526225.403247174,
           14.831651100233897,
           85.16834889976609,
           61,
           "Africa",
           "Southern Africa",
           2.23606811523438
          ],
          [
           "Syria",
           18275703.999999996,
           8751250.81224321,
           9524453.187756788,
           3451296.652243211,
           1501672.6108752885,
           2492997.8535214597,
           52.115383285682405,
           47.88461671431761,
           71,
           "Asia",
           "Western Asia",
           8.0622578125
          ],
          [
           "Chad",
           16914985,
           14185724.910401994,
           2729260.0895980056,
           653736.9104019946,
           255655.42955422975,
           507110.1666850508,
           16.135161157979187,
           83.86483884202082,
           20,
           "Africa",
           "Middle Africa",
           20
          ],
          [
           "Togo",
           8478242,
           7500385.294417653,
           977856.7055823471,
           1141703.794417653,
           599502.7424434728,
           801361.2946706769,
           11.533720146020213,
           88.46627985397978,
           25,
           "Africa",
           "Western Africa",
           3.60555102539062
          ],
          [
           "Thailand",
           69950844,
           55771686.135134585,
           14179157.864865413,
           42481025.775134586,
           30184837.925060168,
           29000443.042628344,
           20.270174102353096,
           79.7298258976469,
           81,
           "Asia",
           "South-Eastern Asia",
           2.82842700195312
          ],
          [
           "Tajikistan",
           9749624.999999998,
           6604869.743717438,
           3144755.2562825605,
           3192500.993717438,
           1236112.8827044333,
           2572164.2269432093,
           32.25514064676909,
           67.74485935323091,
           65,
           "Asia",
           "Central Asia",
           3.60555102539062
          ],
          [
           "Turkmenistan",
           6117932.999999999,
           3664194.965018641,
           2453738.0349813583,
           727587.1250186415,
           155753.40087534103,
           658036.5064940166,
           40.10730478711288,
           59.892695212887126,
           52,
           "Asia",
           "Central Asia",
           17.691810546875
          ],
          [
           "Timor",
           1343874.9999999998,
           476928.6959738978,
           866946.3040261021,
           20011.195973897873,
           9059.602817712692,
           12305.16084964627,
           64.51093323606007,
           35.48906676393994,
           66,
           "Asia",
           "South-Eastern Asia",
           35
          ],
          [
           "Trinidad and Tobago",
           1403374,
           649743.2453676488,
           753630.7546323513,
           551507.0653676487,
           386787.8036764208,
           329900.3839199438,
           53.701347939490915,
           46.298652060509085,
           93,
           "Americas",
           "Caribbean",
           5.3851650390625
          ],
          [
           "Tunisia",
           11935764,
           3164611.28403692,
           8771152.71596308,
           2329107.80403692,
           1236742.3316456305,
           1564321.169112544,
           73.48631152528719,
           26.513688474712804,
           93,
           "Africa",
           "Northern Africa",
           14.035669921875
          ],
          [
           "Turkey",
           85042736,
           46562998.70208369,
           38479737.2979163,
           42310861.902083695,
           21780455.591194447,
           29949535.099765494,
           45.2475297806932,
           54.752470219306794,
           95,
           "Asia",
           "Western Asia",
           3.60555102539062
          ],
          [
           "Taiwan",
           23855008,
           17834828.66615303,
           6020179.3338469695,
           14529206.12901017,
           9915915.28323166,
           9525407.327133967,
           25.23654292569078,
           74.76345707430922,
           86.14285714285714,
           "Asia",
           "Eastern Asia",
           3
          ],
          [
           "Tanzania",
           61498438,
           53821831.07541015,
           7676606.924589848,
           15692799.515410151,
           9329818.022014767,
           11222189.58270791,
           12.48260472012289,
           87.5173952798771,
           38,
           "Africa",
           "Eastern Africa",
           3
          ],
          [
           "Uganda",
           47123533,
           43502080.95170532,
           3621452.048294682,
           7216960.541705318,
           3961377.661304178,
           5175807.4410193,
           7.68501811673306,
           92.31498188326694,
           23,
           "Africa",
           "Eastern Africa",
           3
          ],
          [
           "Ukraine",
           43466821.99999999,
           33193835.989384525,
           10272986.01061547,
           17545780.069384526,
           10313584.658463553,
           12134556.058592236,
           23.634085810587834,
           76.36591418941217,
           64,
           "Europe",
           "Eastern Europe",
           3.16227807617188
          ],
          [
           "Uruguay",
           3485152,
           1500785.005667105,
           1984366.9943328951,
           1500785.005667105,
           1276060.9115366102,
           775713.1312754403,
           56.93774602464671,
           43.0622539753533,
           100,
           "Americas",
           "South America",
           8.0622578125
          ],
          [
           "United States",
           332915074.00000006,
           208346490.27917263,
           124568583.7208274,
           205017339.53917262,
           153979430.36977646,
           118389953.99999109,
           37.41752580444206,
           62.582474195557936,
           99,
           "Americas",
           "Northern America",
           4.12310498046875
          ],
          [
           "Uzbekistan",
           33935765.00000001,
           23028540.02101669,
           10907224.978983313,
           12847810.52101669,
           6163805.772473526,
           10086018.935480857,
           32.14079593898446,
           67.85920406101553,
           70,
           "Asia",
           "Central Asia",
           3.60555102539062
          ],
          [
           "Venezuela",
           28704946.999999996,
           14483932.233764332,
           14221014.766235666,
           8455893.363764333,
           4491653.279771177,
           5659965.853788056,
           49.54203457068103,
           50.457965429318975,
           79,
           "Americas",
           "South America",
           5.3851650390625
          ],
          [
           "Vietnam",
           98168829.00000001,
           90569008.99453592,
           7599820.005464093,
           39521217.91453591,
           30937751.79834701,
           27362021.40959165,
           7.741581602714332,
           92.25841839728567,
           48,
           "Asia",
           "South-Eastern Asia",
           2.23606811523438
          ],
          [
           "Vanuatu",
           314464,
           224725.20335023207,
           89738.79664976796,
           61203.923350232064,
           12684.37902013804,
           54923.64085362692,
           28.537065180678223,
           71.46293481932179,
           48,
           "Oceania",
           "Melanesia",
           4
          ],
          [
           "Samoa",
           200144,
           80628.50785203178,
           119515.49214796822,
           48605.46785203178,
           45298.56728315862,
           5910.104674502251,
           59.714751452937996,
           40.285248547062004,
           84,
           "Oceania",
           "Polynesia",
           6.7082041015625
          ],
          [
           "Yemen",
           30490638.999999996,
           14405790.093397206,
           16084848.906602792,
           989908.933397206,
           244855.23290263835,
           821629.5770782616,
           52.753400499749425,
           47.246599500250575,
           56,
           "Asia",
           "Western Asia",
           21.9317109375
          ],
          [
           "South Africa",
           60041995.99999999,
           33107682.8956775,
           26934313.104322497,
           27703903.2556775,
           6567539.8288105,
           24347844.058135007,
           44.859123444734415,
           55.14087655526559,
           91,
           "Africa",
           "Southern Africa",
           3.16227807617188
          ],
          [
           "Zambia",
           18920657,
           16920775.63412363,
           1999881.3658763722,
           4054728.8741236283,
           2370392.382719837,
           2835583.3188616014,
           10.569830455022636,
           89.43016954497737,
           32,
           "Africa",
           "Eastern Africa",
           3
          ],
          [
           "Zimbabwe",
           15092171,
           13158640.316784393,
           1933530.683215607,
           2141355.4867843934,
           892996.310776928,
           1612867.1524644257,
           12.811481417853052,
           87.18851858214694,
           27,
           "Africa",
           "Eastern Africa",
           3.60555102539062
          ]
         ],
         "geo": "geo",
         "hovertemplate": "<b>%{hovertext}</b><br><br>ISOCODE=%{location}<br>Entity=%{customdata[0]}<br>country_pop_raw=%{customdata[1]}<br>country_pop_with_water=%{customdata[2]}<br>country_pop_without_water=%{customdata[3]}<br>population_piped_with_access=%{customdata[4]}<br>population_piped_with_cycling_access=%{customdata[5]}<br>population_piped_with_walking_access=%{customdata[6]}<br>percent_without_water=%{z}<br>percent_with_water=%{customdata[8]}<br>Nat Piped=%{customdata[9]}<br>region=%{customdata[10]}<br>subregion=%{customdata[11]}<br>weighted_med=%{customdata[12]}<extra></extra>",
         "hovertext": [
          "Afghanistan",
          "Angola",
          "Albania",
          "Andorra",
          "United Arab Emirates",
          "Argentina",
          "Armenia",
          "Australia",
          "Austria",
          "Azerbaijan",
          "Burundi",
          "Belgium",
          "Benin",
          "Burkina Faso",
          "Bangladesh",
          "Bulgaria",
          "Bahamas",
          "Bosnia and Herzegovina",
          "Belarus",
          "Belize",
          "Bolivia",
          "Brazil",
          "Brunei",
          "Bhutan",
          "Botswana",
          "Central African Republic",
          "Canada",
          "Switzerland",
          "Chile",
          "China",
          "Cote d'Ivoire",
          "Cameroon",
          "Democratic Republic of Congo",
          "Congo",
          "Colombia",
          "Costa Rica",
          "Cuba",
          "Cyprus",
          "Czechia",
          "Germany",
          "Djibouti",
          "Denmark",
          "Dominican Republic",
          "Algeria",
          "Ecuador",
          "Egypt",
          "Eritrea",
          "Western Sahara",
          "Spain",
          "Estonia",
          "Ethiopia",
          "Finland",
          "Fiji",
          "Falkland Islands",
          "France",
          "Faeroe Islands",
          "Gabon",
          "United Kingdom",
          "Georgia",
          "Ghana",
          "Guinea",
          "Guadeloupe",
          "Gambia",
          "Guinea-Bissau",
          "Equatorial Guinea",
          "Greece",
          "Grenada",
          "Greenland",
          "Guatemala",
          "French Guiana",
          "Guyana",
          "Hong Kong",
          "Honduras",
          "Croatia",
          "Haiti",
          "Hungary",
          "Indonesia",
          "Isle of Man",
          "India",
          "Ireland",
          "Iran",
          "Iraq",
          "Iceland",
          "Israel",
          "Italy",
          "Jamaica",
          "Jordan",
          "Japan",
          "Kazakhstan",
          "Kenya",
          "Kyrgyzstan",
          "Cambodia",
          "South Korea",
          "Kuwait",
          "Laos",
          "Lebanon",
          "Liberia",
          "Libya",
          "Saint Lucia",
          "Liechtenstein",
          "Sri Lanka",
          "Lesotho",
          "Lithuania",
          "Luxembourg",
          "Latvia",
          "Morocco",
          "Moldova",
          "Madagascar",
          "Mexico",
          "North Macedonia",
          "Mali",
          "Malta",
          "Myanmar",
          "Montenegro",
          "Mongolia",
          "Mozambique",
          "Mauritania",
          "Montserrat",
          "Martinique",
          "Mauritius",
          "Malawi",
          "Malaysia",
          "Namibia",
          "New Caledonia",
          "Niger",
          "Nigeria",
          "Nicaragua",
          "Netherlands",
          "Norway",
          "Nepal",
          "New Zealand",
          "Oman",
          "Pakistan",
          "Panama",
          "Peru",
          "Philippines",
          "Papua New Guinea",
          "Poland",
          "Puerto Rico",
          "North Korea",
          "Portugal",
          "Paraguay",
          "Palestine",
          "Qatar",
          "Reunion",
          "Romania",
          "Russia",
          "Rwanda",
          "Saudi Arabia",
          "Sudan",
          "Senegal",
          "Singapore",
          "Solomon Islands",
          "Sierra Leone",
          "El Salvador",
          "Somalia",
          "Serbia",
          "South Sudan",
          "Sao Tome and Principe",
          "Suriname",
          "Slovakia",
          "Slovenia",
          "Sweden",
          "Eswatini",
          "Syria",
          "Chad",
          "Togo",
          "Thailand",
          "Tajikistan",
          "Turkmenistan",
          "Timor",
          "Trinidad and Tobago",
          "Tunisia",
          "Turkey",
          "Taiwan",
          "Tanzania",
          "Uganda",
          "Ukraine",
          "Uruguay",
          "United States",
          "Uzbekistan",
          "Venezuela",
          "Vietnam",
          "Vanuatu",
          "Samoa",
          "Yemen",
          "South Africa",
          "Zambia",
          "Zimbabwe"
         ],
         "locations": [
          "AFG",
          "AGO",
          "ALB",
          "AND",
          "ARE",
          "ARG",
          "ARM",
          "AUS",
          "AUT",
          "AZE",
          "BDI",
          "BEL",
          "BEN",
          "BFA",
          "BGD",
          "BGR",
          "BHS",
          "BIH",
          "BLR",
          "BLZ",
          "BOL",
          "BRA",
          "BRN",
          "BTN",
          "BWA",
          "CAF",
          "CAN",
          "CHE",
          "CHL",
          "CHN",
          "CIV",
          "CMR",
          "COD",
          "COG",
          "COL",
          "CRI",
          "CUB",
          "CYP",
          "CZE",
          "DEU",
          "DJI",
          "DNK",
          "DOM",
          "DZA",
          "ECU",
          "EGY",
          "ERI",
          "ESH",
          "ESP",
          "EST",
          "ETH",
          "FIN",
          "FJI",
          "FLK",
          "FRA",
          "FRO",
          "GAB",
          "GBR",
          "GEO",
          "GHA",
          "GIN",
          "GLP",
          "GMB",
          "GNB",
          "GNQ",
          "GRC",
          "GRD",
          "GRL",
          "GTM",
          "GUF",
          "GUY",
          "HKG",
          "HND",
          "HRV",
          "HTI",
          "HUN",
          "IDN",
          "IMN",
          "IND",
          "IRL",
          "IRN",
          "IRQ",
          "ISL",
          "ISR",
          "ITA",
          "JAM",
          "JOR",
          "JPN",
          "KAZ",
          "KEN",
          "KGZ",
          "KHM",
          "KOR",
          "KWT",
          "LAO",
          "LBN",
          "LBR",
          "LBY",
          "LCA",
          "LIE",
          "LKA",
          "LSO",
          "LTU",
          "LUX",
          "LVA",
          "MAR",
          "MDA",
          "MDG",
          "MEX",
          "MKD",
          "MLI",
          "MLT",
          "MMR",
          "MNE",
          "MNG",
          "MOZ",
          "MRT",
          "MSR",
          "MTQ",
          "MUS",
          "MWI",
          "MYS",
          "NAM",
          "NCL",
          "NER",
          "NGA",
          "NIC",
          "NLD",
          "NOR",
          "NPL",
          "NZL",
          "OMN",
          "PAK",
          "PAN",
          "PER",
          "PHL",
          "PNG",
          "POL",
          "PRI",
          "PRK",
          "PRT",
          "PRY",
          "PSE",
          "QAT",
          "REU",
          "ROU",
          "RUS",
          "RWA",
          "SAU",
          "SDN",
          "SEN",
          "SGP",
          "SLB",
          "SLE",
          "SLV",
          "SOM",
          "SRB",
          "SSD",
          "STP",
          "SUR",
          "SVK",
          "SVN",
          "SWE",
          "SWZ",
          "SYR",
          "TCD",
          "TGO",
          "THA",
          "TJK",
          "TKM",
          "TLS",
          "TTO",
          "TUN",
          "TUR",
          "TWN",
          "TZA",
          "UGA",
          "UKR",
          "URY",
          "USA",
          "UZB",
          "VEN",
          "VNM",
          "VUT",
          "WSM",
          "YEM",
          "ZAF",
          "ZMB",
          "ZWE"
         ],
         "name": "",
         "type": "choropleth",
         "z": [
          13.325429103593883,
          24.51586296101442,
          23.80657157611662,
          21.939580046688548,
          99.98252166214934,
          45.79318065026022,
          44.596544966360206,
          25.774497085045965,
          7.2890802127695276,
          36.24742820266743,
          16.829276302998178,
          18.930143536720653,
          17.903012952893377,
          15.651298830367043,
          5.520324576341044,
          43.43468005810409,
          66.26507628662651,
          34.33501325492488,
          30.597093222708526,
          18.222726582716327,
          40.41983799936194,
          48.23692539423189,
          27.514984123003146,
          64.7171780816991,
          84.5044390625074,
          5.8426376781907905,
          22.594944404774083,
          12.659708712825257,
          37.19870433867228,
          18.895544953974362,
          17.98597144082043,
          18.744943131381486,
          14.122308428120888,
          20.544327760267844,
          41.617185049479666,
          27.934540922871243,
          46.21718732156204,
          47.87022230448233,
          34.41073428796205,
          16.64460339188702,
          81.09339369309242,
          23.802452104670277,
          45.21927227095034,
          51.69684581660311,
          30.964383014325104,
          55.81732387542603,
          46.6898610612054,
          68.11129710097885,
          31.28399042987659,
          34.70282195216336,
          31.881151611633534,
          15.683776850493533,
          52.12970742838047,
          73.7642111177805,
          19.258912778721033,
          52.08424407195239,
          57.162565878207374,
          26.91109799668422,
          37.519152223328625,
          17.94816916082949,
          11.425601638869777,
          66.79358071111243,
          32.486197952946824,
          15.041453010397557,
          21.58323828595869,
          68.75832538521675,
          58.35977226634894,
          60.586849194501845,
          35.3367985712021,
          26.750516599297093,
          18.201209053079435,
          87.35620494272219,
          37.74370546622144,
          36.81302891921521,
          10.859567133415432,
          35.37287528481372,
          16.82366454174556,
          48.251787633328554,
          17.503565686329782,
          31.536783576202893,
          63.76352011105955,
          40.60351611887849,
          46.825509122299806,
          78.71351269669958,
          23.965865352052354,
          46.36652338115585,
          73.38638598862211,
          19.362927834558306,
          43.81127558495692,
          17.480401783017413,
          33.408683299506166,
          7.388730752732157,
          43.89416122065924,
          91.5,
          9.001250873115465,
          69.87647031264734,
          2.7079402850950207,
          77.97861537774457,
          77.98608100315765,
          16.688,
          14.106914485770568,
          27.6892744519848,
          28.435798793837947,
          23.571668396527777,
          42.9788448175932,
          55.372473173205286,
          24.06822026837627,
          18.52244790076087,
          57.589164657768436,
          22.547859753956228,
          33.14225819806919,
          59.35614923133876,
          8.375122825790452,
          48.28492831418998,
          13.17230582843488,
          14.873183814906973,
          49.52484463038501,
          70.96674544075778,
          74.12850832135986,
          23.630898783334374,
          6.034738125155643,
          36.699705285292204,
          78.79923829949911,
          49.43580721185632,
          36.750871645435495,
          4.871492676500094,
          35.169568859793785,
          8.974215210236162,
          21.881218380992422,
          13.412913777827951,
          30.67567067178118,
          92.83903791676235,
          8.484379786305945,
          24.46347906883284,
          54.812510668063815,
          24.535811901036293,
          3.632780100511119,
          18.08995133095955,
          36.82980217406255,
          39.14114800986497,
          45.40523984963152,
          47.69925073117672,
          47.22876994827907,
          100,
          54.05570203044066,
          24.922624782560494,
          40.93505941039815,
          21.956395046630053,
          83.18506341659113,
          40.276437780080364,
          63.65823782227202,
          63.59810159707876,
          24.26222960258683,
          9.990388943303023,
          31.44169733427722,
          45.41161126027294,
          35.863857180491664,
          2.915336841065247,
          66.19506952967191,
          23.180705295807293,
          23.68679727117604,
          15.252245898566718,
          13.52653336947022,
          14.831651100233897,
          52.115383285682405,
          16.135161157979187,
          11.533720146020213,
          20.270174102353096,
          32.25514064676909,
          40.10730478711288,
          64.51093323606007,
          53.701347939490915,
          73.48631152528719,
          45.2475297806932,
          25.23654292569078,
          12.48260472012289,
          7.68501811673306,
          23.634085810587834,
          56.93774602464671,
          37.41752580444206,
          32.14079593898446,
          49.54203457068103,
          7.741581602714332,
          28.537065180678223,
          59.714751452937996,
          52.753400499749425,
          44.859123444734415,
          10.569830455022636,
          12.811481417853052
         ]
        }
       ],
       "layout": {
        "coloraxis": {
         "colorbar": {
          "title": {
           "text": ""
          }
         },
         "colorscale": [
          [
           0,
           "#0d0887"
          ],
          [
           0.1111111111111111,
           "#46039f"
          ],
          [
           0.2222222222222222,
           "#7201a8"
          ],
          [
           0.3333333333333333,
           "#9c179e"
          ],
          [
           0.4444444444444444,
           "#bd3786"
          ],
          [
           0.5555555555555556,
           "#d8576b"
          ],
          [
           0.6666666666666666,
           "#ed7953"
          ],
          [
           0.7777777777777778,
           "#fb9f3a"
          ],
          [
           0.8888888888888888,
           "#fdca26"
          ],
          [
           1,
           "#f0f921"
          ]
         ]
        },
        "geo": {
         "center": {},
         "domain": {
          "x": [
           0,
           1
          ],
          "y": [
           0,
           1
          ]
         }
        },
        "height": 600,
        "legend": {
         "tracegroupgap": 0
        },
        "template": {
         "data": {
          "bar": [
           {
            "error_x": {
             "color": "#2a3f5f"
            },
            "error_y": {
             "color": "#2a3f5f"
            },
            "marker": {
             "line": {
              "color": "#E5ECF6",
              "width": 0.5
             },
             "pattern": {
              "fillmode": "overlay",
              "size": 10,
              "solidity": 0.2
             }
            },
            "type": "bar"
           }
          ],
          "barpolar": [
           {
            "marker": {
             "line": {
              "color": "#E5ECF6",
              "width": 0.5
             },
             "pattern": {
              "fillmode": "overlay",
              "size": 10,
              "solidity": 0.2
             }
            },
            "type": "barpolar"
           }
          ],
          "carpet": [
           {
            "aaxis": {
             "endlinecolor": "#2a3f5f",
             "gridcolor": "white",
             "linecolor": "white",
             "minorgridcolor": "white",
             "startlinecolor": "#2a3f5f"
            },
            "baxis": {
             "endlinecolor": "#2a3f5f",
             "gridcolor": "white",
             "linecolor": "white",
             "minorgridcolor": "white",
             "startlinecolor": "#2a3f5f"
            },
            "type": "carpet"
           }
          ],
          "choropleth": [
           {
            "colorbar": {
             "outlinewidth": 0,
             "ticks": ""
            },
            "type": "choropleth"
           }
          ],
          "contour": [
           {
            "colorbar": {
             "outlinewidth": 0,
             "ticks": ""
            },
            "colorscale": [
             [
              0,
              "#0d0887"
             ],
             [
              0.1111111111111111,
              "#46039f"
             ],
             [
              0.2222222222222222,
              "#7201a8"
             ],
             [
              0.3333333333333333,
              "#9c179e"
             ],
             [
              0.4444444444444444,
              "#bd3786"
             ],
             [
              0.5555555555555556,
              "#d8576b"
             ],
             [
              0.6666666666666666,
              "#ed7953"
             ],
             [
              0.7777777777777778,
              "#fb9f3a"
             ],
             [
              0.8888888888888888,
              "#fdca26"
             ],
             [
              1,
              "#f0f921"
             ]
            ],
            "type": "contour"
           }
          ],
          "contourcarpet": [
           {
            "colorbar": {
             "outlinewidth": 0,
             "ticks": ""
            },
            "type": "contourcarpet"
           }
          ],
          "heatmap": [
           {
            "colorbar": {
             "outlinewidth": 0,
             "ticks": ""
            },
            "colorscale": [
             [
              0,
              "#0d0887"
             ],
             [
              0.1111111111111111,
              "#46039f"
             ],
             [
              0.2222222222222222,
              "#7201a8"
             ],
             [
              0.3333333333333333,
              "#9c179e"
             ],
             [
              0.4444444444444444,
              "#bd3786"
             ],
             [
              0.5555555555555556,
              "#d8576b"
             ],
             [
              0.6666666666666666,
              "#ed7953"
             ],
             [
              0.7777777777777778,
              "#fb9f3a"
             ],
             [
              0.8888888888888888,
              "#fdca26"
             ],
             [
              1,
              "#f0f921"
             ]
            ],
            "type": "heatmap"
           }
          ],
          "heatmapgl": [
           {
            "colorbar": {
             "outlinewidth": 0,
             "ticks": ""
            },
            "colorscale": [
             [
              0,
              "#0d0887"
             ],
             [
              0.1111111111111111,
              "#46039f"
             ],
             [
              0.2222222222222222,
              "#7201a8"
             ],
             [
              0.3333333333333333,
              "#9c179e"
             ],
             [
              0.4444444444444444,
              "#bd3786"
             ],
             [
              0.5555555555555556,
              "#d8576b"
             ],
             [
              0.6666666666666666,
              "#ed7953"
             ],
             [
              0.7777777777777778,
              "#fb9f3a"
             ],
             [
              0.8888888888888888,
              "#fdca26"
             ],
             [
              1,
              "#f0f921"
             ]
            ],
            "type": "heatmapgl"
           }
          ],
          "histogram": [
           {
            "marker": {
             "pattern": {
              "fillmode": "overlay",
              "size": 10,
              "solidity": 0.2
             }
            },
            "type": "histogram"
           }
          ],
          "histogram2d": [
           {
            "colorbar": {
             "outlinewidth": 0,
             "ticks": ""
            },
            "colorscale": [
             [
              0,
              "#0d0887"
             ],
             [
              0.1111111111111111,
              "#46039f"
             ],
             [
              0.2222222222222222,
              "#7201a8"
             ],
             [
              0.3333333333333333,
              "#9c179e"
             ],
             [
              0.4444444444444444,
              "#bd3786"
             ],
             [
              0.5555555555555556,
              "#d8576b"
             ],
             [
              0.6666666666666666,
              "#ed7953"
             ],
             [
              0.7777777777777778,
              "#fb9f3a"
             ],
             [
              0.8888888888888888,
              "#fdca26"
             ],
             [
              1,
              "#f0f921"
             ]
            ],
            "type": "histogram2d"
           }
          ],
          "histogram2dcontour": [
           {
            "colorbar": {
             "outlinewidth": 0,
             "ticks": ""
            },
            "colorscale": [
             [
              0,
              "#0d0887"
             ],
             [
              0.1111111111111111,
              "#46039f"
             ],
             [
              0.2222222222222222,
              "#7201a8"
             ],
             [
              0.3333333333333333,
              "#9c179e"
             ],
             [
              0.4444444444444444,
              "#bd3786"
             ],
             [
              0.5555555555555556,
              "#d8576b"
             ],
             [
              0.6666666666666666,
              "#ed7953"
             ],
             [
              0.7777777777777778,
              "#fb9f3a"
             ],
             [
              0.8888888888888888,
              "#fdca26"
             ],
             [
              1,
              "#f0f921"
             ]
            ],
            "type": "histogram2dcontour"
           }
          ],
          "mesh3d": [
           {
            "colorbar": {
             "outlinewidth": 0,
             "ticks": ""
            },
            "type": "mesh3d"
           }
          ],
          "parcoords": [
           {
            "line": {
             "colorbar": {
              "outlinewidth": 0,
              "ticks": ""
             }
            },
            "type": "parcoords"
           }
          ],
          "pie": [
           {
            "automargin": true,
            "type": "pie"
           }
          ],
          "scatter": [
           {
            "fillpattern": {
             "fillmode": "overlay",
             "size": 10,
             "solidity": 0.2
            },
            "type": "scatter"
           }
          ],
          "scatter3d": [
           {
            "line": {
             "colorbar": {
              "outlinewidth": 0,
              "ticks": ""
             }
            },
            "marker": {
             "colorbar": {
              "outlinewidth": 0,
              "ticks": ""
             }
            },
            "type": "scatter3d"
           }
          ],
          "scattercarpet": [
           {
            "marker": {
             "colorbar": {
              "outlinewidth": 0,
              "ticks": ""
             }
            },
            "type": "scattercarpet"
           }
          ],
          "scattergeo": [
           {
            "marker": {
             "colorbar": {
              "outlinewidth": 0,
              "ticks": ""
             }
            },
            "type": "scattergeo"
           }
          ],
          "scattergl": [
           {
            "marker": {
             "colorbar": {
              "outlinewidth": 0,
              "ticks": ""
             }
            },
            "type": "scattergl"
           }
          ],
          "scattermapbox": [
           {
            "marker": {
             "colorbar": {
              "outlinewidth": 0,
              "ticks": ""
             }
            },
            "type": "scattermapbox"
           }
          ],
          "scatterpolar": [
           {
            "marker": {
             "colorbar": {
              "outlinewidth": 0,
              "ticks": ""
             }
            },
            "type": "scatterpolar"
           }
          ],
          "scatterpolargl": [
           {
            "marker": {
             "colorbar": {
              "outlinewidth": 0,
              "ticks": ""
             }
            },
            "type": "scatterpolargl"
           }
          ],
          "scatterternary": [
           {
            "marker": {
             "colorbar": {
              "outlinewidth": 0,
              "ticks": ""
             }
            },
            "type": "scatterternary"
           }
          ],
          "surface": [
           {
            "colorbar": {
             "outlinewidth": 0,
             "ticks": ""
            },
            "colorscale": [
             [
              0,
              "#0d0887"
             ],
             [
              0.1111111111111111,
              "#46039f"
             ],
             [
              0.2222222222222222,
              "#7201a8"
             ],
             [
              0.3333333333333333,
              "#9c179e"
             ],
             [
              0.4444444444444444,
              "#bd3786"
             ],
             [
              0.5555555555555556,
              "#d8576b"
             ],
             [
              0.6666666666666666,
              "#ed7953"
             ],
             [
              0.7777777777777778,
              "#fb9f3a"
             ],
             [
              0.8888888888888888,
              "#fdca26"
             ],
             [
              1,
              "#f0f921"
             ]
            ],
            "type": "surface"
           }
          ],
          "table": [
           {
            "cells": {
             "fill": {
              "color": "#EBF0F8"
             },
             "line": {
              "color": "white"
             }
            },
            "header": {
             "fill": {
              "color": "#C8D4E3"
             },
             "line": {
              "color": "white"
             }
            },
            "type": "table"
           }
          ]
         },
         "layout": {
          "annotationdefaults": {
           "arrowcolor": "#2a3f5f",
           "arrowhead": 0,
           "arrowwidth": 1
          },
          "autotypenumbers": "strict",
          "coloraxis": {
           "colorbar": {
            "outlinewidth": 0,
            "ticks": ""
           }
          },
          "colorscale": {
           "diverging": [
            [
             0,
             "#8e0152"
            ],
            [
             0.1,
             "#c51b7d"
            ],
            [
             0.2,
             "#de77ae"
            ],
            [
             0.3,
             "#f1b6da"
            ],
            [
             0.4,
             "#fde0ef"
            ],
            [
             0.5,
             "#f7f7f7"
            ],
            [
             0.6,
             "#e6f5d0"
            ],
            [
             0.7,
             "#b8e186"
            ],
            [
             0.8,
             "#7fbc41"
            ],
            [
             0.9,
             "#4d9221"
            ],
            [
             1,
             "#276419"
            ]
           ],
           "sequential": [
            [
             0,
             "#0d0887"
            ],
            [
             0.1111111111111111,
             "#46039f"
            ],
            [
             0.2222222222222222,
             "#7201a8"
            ],
            [
             0.3333333333333333,
             "#9c179e"
            ],
            [
             0.4444444444444444,
             "#bd3786"
            ],
            [
             0.5555555555555556,
             "#d8576b"
            ],
            [
             0.6666666666666666,
             "#ed7953"
            ],
            [
             0.7777777777777778,
             "#fb9f3a"
            ],
            [
             0.8888888888888888,
             "#fdca26"
            ],
            [
             1,
             "#f0f921"
            ]
           ],
           "sequentialminus": [
            [
             0,
             "#0d0887"
            ],
            [
             0.1111111111111111,
             "#46039f"
            ],
            [
             0.2222222222222222,
             "#7201a8"
            ],
            [
             0.3333333333333333,
             "#9c179e"
            ],
            [
             0.4444444444444444,
             "#bd3786"
            ],
            [
             0.5555555555555556,
             "#d8576b"
            ],
            [
             0.6666666666666666,
             "#ed7953"
            ],
            [
             0.7777777777777778,
             "#fb9f3a"
            ],
            [
             0.8888888888888888,
             "#fdca26"
            ],
            [
             1,
             "#f0f921"
            ]
           ]
          },
          "colorway": [
           "#636efa",
           "#EF553B",
           "#00cc96",
           "#ab63fa",
           "#FFA15A",
           "#19d3f3",
           "#FF6692",
           "#B6E880",
           "#FF97FF",
           "#FECB52"
          ],
          "font": {
           "color": "#2a3f5f"
          },
          "geo": {
           "bgcolor": "white",
           "lakecolor": "white",
           "landcolor": "#E5ECF6",
           "showlakes": true,
           "showland": true,
           "subunitcolor": "white"
          },
          "hoverlabel": {
           "align": "left"
          },
          "hovermode": "closest",
          "mapbox": {
           "style": "light"
          },
          "paper_bgcolor": "white",
          "plot_bgcolor": "#E5ECF6",
          "polar": {
           "angularaxis": {
            "gridcolor": "white",
            "linecolor": "white",
            "ticks": ""
           },
           "bgcolor": "#E5ECF6",
           "radialaxis": {
            "gridcolor": "white",
            "linecolor": "white",
            "ticks": ""
           }
          },
          "scene": {
           "xaxis": {
            "backgroundcolor": "#E5ECF6",
            "gridcolor": "white",
            "gridwidth": 2,
            "linecolor": "white",
            "showbackground": true,
            "ticks": "",
            "zerolinecolor": "white"
           },
           "yaxis": {
            "backgroundcolor": "#E5ECF6",
            "gridcolor": "white",
            "gridwidth": 2,
            "linecolor": "white",
            "showbackground": true,
            "ticks": "",
            "zerolinecolor": "white"
           },
           "zaxis": {
            "backgroundcolor": "#E5ECF6",
            "gridcolor": "white",
            "gridwidth": 2,
            "linecolor": "white",
            "showbackground": true,
            "ticks": "",
            "zerolinecolor": "white"
           }
          },
          "shapedefaults": {
           "line": {
            "color": "#2a3f5f"
           }
          },
          "ternary": {
           "aaxis": {
            "gridcolor": "white",
            "linecolor": "white",
            "ticks": ""
           },
           "baxis": {
            "gridcolor": "white",
            "linecolor": "white",
            "ticks": ""
           },
           "bgcolor": "#E5ECF6",
           "caxis": {
            "gridcolor": "white",
            "linecolor": "white",
            "ticks": ""
           }
          },
          "title": {
           "x": 0.05
          },
          "xaxis": {
           "automargin": true,
           "gridcolor": "white",
           "linecolor": "white",
           "ticks": "",
           "title": {
            "standoff": 15
           },
           "zerolinecolor": "white",
           "zerolinewidth": 2
          },
          "yaxis": {
           "automargin": true,
           "gridcolor": "white",
           "linecolor": "white",
           "ticks": "",
           "title": {
            "standoff": 15
           },
           "zerolinecolor": "white",
           "zerolinewidth": 2
          }
         }
        },
        "title": {
         "text": "Percent of Population Has to Relocate"
        }
       }
      }
     },
     "metadata": {},
     "output_type": "display_data"
    }
   ],
   "source": [
    "# create choropleth map of population with water from df_country\n",
    "\n",
    "hover_data_list =[\n",
    "    \"Entity\",\n",
    "    \"country_pop_raw\",\n",
    "    \"country_pop_with_water\",\n",
    "    \"country_pop_without_water\",\n",
    "    \"population_piped_with_access\",\n",
    "    \"population_piped_with_cycling_access\",\n",
    "    \"population_piped_with_walking_access\",\n",
    "    \"percent_without_water\",\n",
    "    \"percent_with_water\",\n",
    "    \"Nat Piped\",\n",
    "    \"region\",\n",
    "    \"subregion\",\n",
    "    \"weighted_med\"\n",
    "    ]\n",
    "\n",
    "\n",
    "choro = px.choropleth(\n",
    "    title=\"Percent of Population Has to Relocate\",\n",
    "    data_frame=df_countries,\n",
    "    locations=\"ISOCODE\",\n",
    "    height=600,\n",
    "    color=\"percent_without_water\",\n",
    "    hover_name=\"Entity\",\n",
    "    hover_data=hover_data_list\n",
    ")\n",
    "choro.layout.coloraxis.colorbar.title = ''\n",
    "choro.show()\n"
   ]
  },
  {
   "cell_type": "code",
   "execution_count": 13,
   "metadata": {},
   "outputs": [
    {
     "data": {
      "application/vnd.plotly.v1+json": {
       "config": {
        "plotlyServerURL": "https://plotly.com"
       },
       "data": [
        {
         "hovertemplate": "<b>%{hovertext}</b><br><br>region=Asia<br>percent_without_water=%{x}<br>Nat Piped=%{y}<br>bubble_size=%{marker.size}<extra></extra>",
         "hovertext": [
          "Afghanistan",
          "United Arab Emirates",
          "Armenia",
          "Azerbaijan",
          "Bangladesh",
          "Brunei",
          "Bhutan",
          "China",
          "Georgia",
          "Hong Kong",
          "Indonesia",
          "India",
          "Iran",
          "Iraq",
          "Israel",
          "Jordan",
          "Japan",
          "Kazakhstan",
          "Kyrgyzstan",
          "Cambodia",
          "South Korea",
          "Kuwait",
          "Laos",
          "Lebanon",
          "Sri Lanka",
          "Myanmar",
          "Mongolia",
          "Malaysia",
          "Nepal",
          "Oman",
          "Pakistan",
          "Philippines",
          "North Korea",
          "Palestine",
          "Qatar",
          "Saudi Arabia",
          "Singapore",
          "Syria",
          "Thailand",
          "Tajikistan",
          "Turkmenistan",
          "Timor",
          "Turkey",
          "Taiwan",
          "Uzbekistan",
          "Vietnam",
          "Yemen"
         ],
         "legendgroup": "Asia",
         "marker": {
          "color": "#636efa",
          "size": [
           89.83542800000001,
           59.991083,
           52.968128,
           60.223344,
           216.303494,
           50.441532,
           50.7799,
           1494.216102,
           53.979773,
           57.5528,
           326.36178799999993,
           1443.409033,
           135.02876,
           91.179351,
           58.789776,
           60.269022,
           176.050796,
           68.994958,
           56.628347,
           66.946446,
           101.305184,
           54.328553,
           57.379357999999996,
           56.769151,
           71.497306,
           104.80601399999999,
           53.329282,
           82.776195,
           79.67492,
           55.223376,
           275.199929,
           161.04690999999997,
           75.887045,
           55.222756000000004,
           52.930524,
           85.34067999999999,
           55.896684,
           68.27570399999999,
           119.950844,
           59.749624999999995,
           56.117933,
           51.343875,
           135.042736,
           73.855008,
           83.935765,
           148.16882900000002,
           80.490639
          ],
          "sizemode": "area",
          "sizeref": 3.735540255,
          "symbol": "circle"
         },
         "mode": "markers",
         "name": "Asia",
         "orientation": "v",
         "showlegend": true,
         "type": "scatter",
         "x": [
          13.325429103593883,
          99.98252166214934,
          44.596544966360206,
          36.24742820266743,
          5.520324576341044,
          27.514984123003146,
          64.7171780816991,
          18.895544953974362,
          37.519152223328625,
          87.35620494272219,
          16.82366454174556,
          17.503565686329782,
          63.76352011105955,
          40.60351611887849,
          78.71351269669958,
          73.38638598862211,
          19.362927834558306,
          43.81127558495692,
          33.408683299506166,
          7.388730752732157,
          43.89416122065924,
          91.5,
          9.001250873115465,
          69.87647031264734,
          14.106914485770568,
          8.375122825790452,
          13.17230582843488,
          36.699705285292204,
          13.412913777827951,
          92.83903791676235,
          8.484379786305945,
          24.535811901036293,
          39.14114800986497,
          47.22876994827907,
          100,
          83.18506341659113,
          63.59810159707876,
          52.115383285682405,
          20.270174102353096,
          32.25514064676909,
          40.10730478711288,
          64.51093323606007,
          45.2475297806932,
          25.23654292569078,
          32.14079593898446,
          7.741581602714332,
          52.753400499749425
         ],
         "xaxis": "x",
         "y": [
          22,
          100,
          100,
          91,
          15,
          100,
          100,
          80,
          82,
          100,
          35,
          44,
          99,
          83,
          100,
          89,
          98,
          81,
          94,
          32,
          100,
          91.5,
          31,
          89,
          39,
          33,
          25,
          95,
          50,
          96,
          26,
          66,
          100,
          54,
          100,
          84,
          100,
          71,
          81,
          65,
          52,
          66,
          95,
          86.14285714285714,
          70,
          48,
          56
         ],
         "yaxis": "y"
        },
        {
         "hovertemplate": "<b>%{hovertext}</b><br><br>region=Africa<br>percent_without_water=%{x}<br>Nat Piped=%{y}<br>bubble_size=%{marker.size}<extra></extra>",
         "hovertext": [
          "Angola",
          "Burundi",
          "Benin",
          "Burkina Faso",
          "Botswana",
          "Central African Republic",
          "Cote d'Ivoire",
          "Cameroon",
          "Democratic Republic of Congo",
          "Congo",
          "Djibouti",
          "Algeria",
          "Egypt",
          "Eritrea",
          "Western Sahara",
          "Ethiopia",
          "Gabon",
          "Ghana",
          "Guinea",
          "Gambia",
          "Guinea-Bissau",
          "Equatorial Guinea",
          "Kenya",
          "Liberia",
          "Libya",
          "Lesotho",
          "Morocco",
          "Madagascar",
          "Mali",
          "Mozambique",
          "Mauritania",
          "Mauritius",
          "Malawi",
          "Namibia",
          "Niger",
          "Nigeria",
          "Reunion",
          "Rwanda",
          "Sudan",
          "Senegal",
          "Sierra Leone",
          "Somalia",
          "South Sudan",
          "Sao Tome and Principe",
          "Eswatini",
          "Chad",
          "Togo",
          "Tunisia",
          "Tanzania",
          "Uganda",
          "South Africa",
          "Zambia",
          "Zimbabwe"
         ],
         "legendgroup": "Africa",
         "marker": {
          "color": "#EF553B",
          "size": [
           83.933611,
           62.255429,
           62.451031,
           71.497097,
           52.39724,
           54.919987,
           77.053629,
           77.224262,
           142.37798600000002,
           55.657016999999996,
           51.002197,
           94.616626,
           154.25832699999998,
           53.601462,
           50.611872,
           167.87622599999997,
           52.278829,
           81.732128,
           63.497237,
           52.486937,
           52.01549,
           51.449891,
           104.985702,
           55.180208,
           56.958538,
           52.159067,
           87.344787,
           78.427333,
           70.85572400000001,
           82.163045,
           54.77511,
           51.273428,
           69.647681,
           52.587344,
           75.13081,
           261.400704,
           50.901696,
           63.276517,
           94.909351,
           67.196308,
           58.141343,
           66.3595,
           61.381377,
           50.223364,
           51.172369,
           66.914985,
           58.478242,
           61.935764,
           111.498438,
           97.12353300000001,
           110.04199599999998,
           68.920657,
           65.09217100000001
          ],
          "sizemode": "area",
          "sizeref": 3.735540255,
          "symbol": "circle"
         },
         "mode": "markers",
         "name": "Africa",
         "orientation": "v",
         "showlegend": true,
         "type": "scatter",
         "x": [
          24.51586296101442,
          16.829276302998178,
          17.903012952893377,
          15.651298830367043,
          84.5044390625074,
          5.8426376781907905,
          17.98597144082043,
          18.744943131381486,
          14.122308428120888,
          20.544327760267844,
          81.09339369309242,
          51.69684581660311,
          55.81732387542603,
          46.6898610612054,
          68.11129710097885,
          31.881151611633534,
          57.162565878207374,
          17.94816916082949,
          11.425601638869777,
          32.486197952946824,
          15.041453010397557,
          21.58323828595869,
          17.480401783017413,
          2.7079402850950207,
          77.97861537774457,
          27.6892744519848,
          55.372473173205286,
          18.52244790076087,
          33.14225819806919,
          14.873183814906973,
          49.52484463038501,
          23.630898783334374,
          6.034738125155643,
          78.79923829949911,
          36.750871645435495,
          4.871492676500094,
          54.05570203044066,
          21.956395046630053,
          40.276437780080364,
          63.65823782227202,
          9.990388943303023,
          45.41161126027294,
          2.915336841065247,
          66.19506952967191,
          14.831651100233897,
          16.135161157979187,
          11.533720146020213,
          73.48631152528719,
          12.48260472012289,
          7.68501811673306,
          44.859123444734415,
          10.569830455022636,
          12.811481417853052
         ],
         "xaxis": "x",
         "y": [
          42,
          38,
          37,
          28,
          91,
          14,
          42,
          36,
          35,
          53,
          83,
          72,
          100,
          52,
          68.33333333333333,
          41,
          82,
          35,
          25,
          77,
          35,
          41,
          33,
          4,
          78,
          69,
          80,
          35,
          50,
          41,
          53,
          100,
          22,
          81,
          40,
          10,
          100,
          38,
          46,
          75,
          21,
          47,
          4,
          97,
          61,
          20,
          25,
          93,
          38,
          23,
          91,
          32,
          27
         ],
         "yaxis": "y"
        },
        {
         "hovertemplate": "<b>%{hovertext}</b><br><br>region=Europe<br>percent_without_water=%{x}<br>Nat Piped=%{y}<br>bubble_size=%{marker.size}<extra></extra>",
         "hovertext": [
          "Albania",
          "Andorra",
          "Austria",
          "Belgium",
          "Bulgaria",
          "Bosnia and Herzegovina",
          "Belarus",
          "Switzerland",
          "Cyprus",
          "Czechia",
          "Germany",
          "Denmark",
          "Spain",
          "Estonia",
          "Finland",
          "France",
          "Faeroe Islands",
          "United Kingdom",
          "Greece",
          "Croatia",
          "Hungary",
          "Isle of Man",
          "Ireland",
          "Iceland",
          "Italy",
          "Liechtenstein",
          "Lithuania",
          "Luxembourg",
          "Latvia",
          "Moldova",
          "North Macedonia",
          "Malta",
          "Montenegro",
          "Netherlands",
          "Norway",
          "Poland",
          "Portugal",
          "Romania",
          "Russia",
          "Serbia",
          "Slovakia",
          "Slovenia",
          "Sweden",
          "Ukraine"
         ],
         "legendgroup": "Europe",
         "marker": {
          "color": "#00cc96",
          "size": [
           52.872934,
           50.077354,
           59.043071999999995,
           61.632334,
           56.896655,
           53.263459,
           59.442867,
           58.715494,
           51.215588,
           60.724553,
           133.900471,
           55.813302,
           96.745211,
           51.325188,
           55.548361,
           115.426177,
           50.049053,
           118.207114,
           60.370747,
           54.081657,
           59.634162,
           50.08541,
           54.982904,
           50.34336,
           110.367471,
           50.038254,
           52.689862,
           50.634814,
           51.866934,
           54.024025,
           52.082661,
           50.44279,
           50.628051,
           67.17309399999999,
           55.465629,
           87.797,
           60.167923,
           69.12777200000001,
           195.91202199999998,
           58.697547,
           55.460726,
           52.078723,
           60.160159,
           93.466822
          ],
          "sizemode": "area",
          "sizeref": 3.735540255,
          "symbol": "circle"
         },
         "mode": "markers",
         "name": "Europe",
         "orientation": "v",
         "showlegend": true,
         "type": "scatter",
         "x": [
          23.80657157611662,
          21.939580046688548,
          7.2890802127695276,
          18.930143536720653,
          43.43468005810409,
          34.33501325492488,
          30.597093222708526,
          12.659708712825257,
          47.87022230448233,
          34.41073428796205,
          16.64460339188702,
          23.802452104670277,
          31.28399042987659,
          34.70282195216336,
          15.683776850493533,
          19.258912778721033,
          52.08424407195239,
          26.91109799668422,
          68.75832538521675,
          36.81302891921521,
          35.37287528481372,
          48.251787633328554,
          31.536783576202893,
          46.825509122299806,
          23.965865352052354,
          16.688,
          28.435798793837947,
          23.571668396527777,
          42.9788448175932,
          24.06822026837627,
          22.547859753956228,
          59.35614923133876,
          48.28492831418998,
          8.974215210236162,
          21.881218380992422,
          18.08995133095955,
          45.40523984963152,
          24.922624782560494,
          40.93505941039815,
          35.863857180491664,
          23.68679727117604,
          15.252245898566718,
          13.52653336947022,
          23.634085810587834
         ],
         "xaxis": "x",
         "y": [
          81,
          100,
          99.42857142857144,
          100,
          100,
          95,
          96,
          100,
          100,
          100,
          100,
          100,
          100,
          93,
          100,
          93,
          100,
          100,
          100,
          94.5,
          100,
          98,
          97,
          100,
          98,
          100,
          96,
          100,
          94,
          72,
          92,
          100,
          89,
          91,
          100,
          89,
          100,
          64,
          94,
          94,
          98,
          97.98214285714286,
          88,
          64
         ],
         "yaxis": "y"
        },
        {
         "hovertemplate": "<b>%{hovertext}</b><br><br>region=Americas<br>percent_without_water=%{x}<br>Nat Piped=%{y}<br>bubble_size=%{marker.size}<extra></extra>",
         "hovertext": [
          "Argentina",
          "Bahamas",
          "Belize",
          "Bolivia",
          "Brazil",
          "Canada",
          "Chile",
          "Colombia",
          "Costa Rica",
          "Cuba",
          "Dominican Republic",
          "Ecuador",
          "Falkland Islands",
          "Guadeloupe",
          "Grenada",
          "Greenland",
          "Guatemala",
          "French Guiana",
          "Guyana",
          "Honduras",
          "Haiti",
          "Jamaica",
          "Saint Lucia",
          "Mexico",
          "Montserrat",
          "Martinique",
          "Nicaragua",
          "Panama",
          "Peru",
          "Puerto Rico",
          "Paraguay",
          "El Salvador",
          "Suriname",
          "Trinidad and Tobago",
          "Uruguay",
          "United States",
          "Venezuela"
         ],
         "legendgroup": "Americas",
         "marker": {
          "color": "#ab63fa",
          "size": [
           95.605823,
           50.396914,
           50.404915,
           61.832936000000004,
           263.99344099999996,
           88.067913,
           69.212362,
           101.265841,
           55.139053,
           61.317498,
           60.953714,
           67.888474,
           50.003528,
           50.400013,
           50.113015,
           50.056868,
           68.24986799999999,
           50.30645,
           50.790329,
           60.062994,
           61.541683,
           52.973462,
           50.184401,
           180.26222,
           50.004981,
           50.374743,
           56.702379,
           54.381583,
           83.359415,
           52.828246,
           57.219640999999996,
           56.5185,
           50.591798,
           51.403374,
           53.485152,
           382.91507400000006,
           78.704947
          ],
          "sizemode": "area",
          "sizeref": 3.735540255,
          "symbol": "circle"
         },
         "mode": "markers",
         "name": "Americas",
         "orientation": "v",
         "showlegend": true,
         "type": "scatter",
         "x": [
          45.79318065026022,
          66.26507628662651,
          18.222726582716327,
          40.41983799936194,
          48.23692539423189,
          22.594944404774083,
          37.19870433867228,
          41.617185049479666,
          27.934540922871243,
          46.21718732156204,
          45.21927227095034,
          30.964383014325104,
          73.7642111177805,
          66.79358071111243,
          58.35977226634894,
          60.586849194501845,
          35.3367985712021,
          26.750516599297093,
          18.201209053079435,
          37.74370546622144,
          10.859567133415432,
          46.36652338115585,
          77.98608100315765,
          57.589164657768436,
          70.96674544075778,
          74.12850832135986,
          35.169568859793785,
          24.46347906883284,
          54.812510668063815,
          36.82980217406255,
          47.69925073117672,
          31.44169733427722,
          23.180705295807293,
          53.701347939490915,
          56.93774602464671,
          37.41752580444206,
          49.54203457068103
         ],
         "xaxis": "x",
         "y": [
          96,
          97,
          87,
          69,
          98,
          100,
          100,
          89,
          100,
          80,
          81,
          91,
          91,
          86.14285714285715,
          92,
          100,
          77,
          88,
          65,
          92,
          19,
          83,
          97,
          98,
          98,
          86.14285714285714,
          70,
          93,
          90,
          100,
          100,
          91,
          80,
          93,
          100,
          99,
          79
         ],
         "yaxis": "y"
        },
        {
         "hovertemplate": "<b>%{hovertext}</b><br><br>region=Oceania<br>percent_without_water=%{x}<br>Nat Piped=%{y}<br>bubble_size=%{marker.size}<extra></extra>",
         "hovertext": [
          "Australia",
          "Fiji",
          "New Caledonia",
          "New Zealand",
          "Papua New Guinea",
          "Solomon Islands",
          "Vanuatu",
          "Samoa"
         ],
         "legendgroup": "Oceania",
         "marker": {
          "color": "#FFA15A",
          "size": [
           75.788217,
           50.902899,
           50.288217,
           54.860642,
           59.119005,
           50.703995,
           50.314464,
           50.200144
          ],
          "sizemode": "area",
          "sizeref": 3.735540255,
          "symbol": "circle"
         },
         "mode": "markers",
         "name": "Oceania",
         "orientation": "v",
         "showlegend": true,
         "type": "scatter",
         "x": [
          25.774497085045965,
          52.12970742838047,
          49.43580721185632,
          30.67567067178118,
          3.632780100511119,
          24.26222960258683,
          28.537065180678223,
          59.714751452937996
         ],
         "xaxis": "x",
         "y": [
          91,
          83,
          99,
          100,
          18,
          46,
          48,
          84
         ],
         "yaxis": "y"
        }
       ],
       "layout": {
        "legend": {
         "itemsizing": "constant",
         "title": {
          "text": "region"
         },
         "tracegroupgap": 0
        },
        "template": {
         "data": {
          "bar": [
           {
            "error_x": {
             "color": "#2a3f5f"
            },
            "error_y": {
             "color": "#2a3f5f"
            },
            "marker": {
             "line": {
              "color": "#E5ECF6",
              "width": 0.5
             },
             "pattern": {
              "fillmode": "overlay",
              "size": 10,
              "solidity": 0.2
             }
            },
            "type": "bar"
           }
          ],
          "barpolar": [
           {
            "marker": {
             "line": {
              "color": "#E5ECF6",
              "width": 0.5
             },
             "pattern": {
              "fillmode": "overlay",
              "size": 10,
              "solidity": 0.2
             }
            },
            "type": "barpolar"
           }
          ],
          "carpet": [
           {
            "aaxis": {
             "endlinecolor": "#2a3f5f",
             "gridcolor": "white",
             "linecolor": "white",
             "minorgridcolor": "white",
             "startlinecolor": "#2a3f5f"
            },
            "baxis": {
             "endlinecolor": "#2a3f5f",
             "gridcolor": "white",
             "linecolor": "white",
             "minorgridcolor": "white",
             "startlinecolor": "#2a3f5f"
            },
            "type": "carpet"
           }
          ],
          "choropleth": [
           {
            "colorbar": {
             "outlinewidth": 0,
             "ticks": ""
            },
            "type": "choropleth"
           }
          ],
          "contour": [
           {
            "colorbar": {
             "outlinewidth": 0,
             "ticks": ""
            },
            "colorscale": [
             [
              0,
              "#0d0887"
             ],
             [
              0.1111111111111111,
              "#46039f"
             ],
             [
              0.2222222222222222,
              "#7201a8"
             ],
             [
              0.3333333333333333,
              "#9c179e"
             ],
             [
              0.4444444444444444,
              "#bd3786"
             ],
             [
              0.5555555555555556,
              "#d8576b"
             ],
             [
              0.6666666666666666,
              "#ed7953"
             ],
             [
              0.7777777777777778,
              "#fb9f3a"
             ],
             [
              0.8888888888888888,
              "#fdca26"
             ],
             [
              1,
              "#f0f921"
             ]
            ],
            "type": "contour"
           }
          ],
          "contourcarpet": [
           {
            "colorbar": {
             "outlinewidth": 0,
             "ticks": ""
            },
            "type": "contourcarpet"
           }
          ],
          "heatmap": [
           {
            "colorbar": {
             "outlinewidth": 0,
             "ticks": ""
            },
            "colorscale": [
             [
              0,
              "#0d0887"
             ],
             [
              0.1111111111111111,
              "#46039f"
             ],
             [
              0.2222222222222222,
              "#7201a8"
             ],
             [
              0.3333333333333333,
              "#9c179e"
             ],
             [
              0.4444444444444444,
              "#bd3786"
             ],
             [
              0.5555555555555556,
              "#d8576b"
             ],
             [
              0.6666666666666666,
              "#ed7953"
             ],
             [
              0.7777777777777778,
              "#fb9f3a"
             ],
             [
              0.8888888888888888,
              "#fdca26"
             ],
             [
              1,
              "#f0f921"
             ]
            ],
            "type": "heatmap"
           }
          ],
          "heatmapgl": [
           {
            "colorbar": {
             "outlinewidth": 0,
             "ticks": ""
            },
            "colorscale": [
             [
              0,
              "#0d0887"
             ],
             [
              0.1111111111111111,
              "#46039f"
             ],
             [
              0.2222222222222222,
              "#7201a8"
             ],
             [
              0.3333333333333333,
              "#9c179e"
             ],
             [
              0.4444444444444444,
              "#bd3786"
             ],
             [
              0.5555555555555556,
              "#d8576b"
             ],
             [
              0.6666666666666666,
              "#ed7953"
             ],
             [
              0.7777777777777778,
              "#fb9f3a"
             ],
             [
              0.8888888888888888,
              "#fdca26"
             ],
             [
              1,
              "#f0f921"
             ]
            ],
            "type": "heatmapgl"
           }
          ],
          "histogram": [
           {
            "marker": {
             "pattern": {
              "fillmode": "overlay",
              "size": 10,
              "solidity": 0.2
             }
            },
            "type": "histogram"
           }
          ],
          "histogram2d": [
           {
            "colorbar": {
             "outlinewidth": 0,
             "ticks": ""
            },
            "colorscale": [
             [
              0,
              "#0d0887"
             ],
             [
              0.1111111111111111,
              "#46039f"
             ],
             [
              0.2222222222222222,
              "#7201a8"
             ],
             [
              0.3333333333333333,
              "#9c179e"
             ],
             [
              0.4444444444444444,
              "#bd3786"
             ],
             [
              0.5555555555555556,
              "#d8576b"
             ],
             [
              0.6666666666666666,
              "#ed7953"
             ],
             [
              0.7777777777777778,
              "#fb9f3a"
             ],
             [
              0.8888888888888888,
              "#fdca26"
             ],
             [
              1,
              "#f0f921"
             ]
            ],
            "type": "histogram2d"
           }
          ],
          "histogram2dcontour": [
           {
            "colorbar": {
             "outlinewidth": 0,
             "ticks": ""
            },
            "colorscale": [
             [
              0,
              "#0d0887"
             ],
             [
              0.1111111111111111,
              "#46039f"
             ],
             [
              0.2222222222222222,
              "#7201a8"
             ],
             [
              0.3333333333333333,
              "#9c179e"
             ],
             [
              0.4444444444444444,
              "#bd3786"
             ],
             [
              0.5555555555555556,
              "#d8576b"
             ],
             [
              0.6666666666666666,
              "#ed7953"
             ],
             [
              0.7777777777777778,
              "#fb9f3a"
             ],
             [
              0.8888888888888888,
              "#fdca26"
             ],
             [
              1,
              "#f0f921"
             ]
            ],
            "type": "histogram2dcontour"
           }
          ],
          "mesh3d": [
           {
            "colorbar": {
             "outlinewidth": 0,
             "ticks": ""
            },
            "type": "mesh3d"
           }
          ],
          "parcoords": [
           {
            "line": {
             "colorbar": {
              "outlinewidth": 0,
              "ticks": ""
             }
            },
            "type": "parcoords"
           }
          ],
          "pie": [
           {
            "automargin": true,
            "type": "pie"
           }
          ],
          "scatter": [
           {
            "fillpattern": {
             "fillmode": "overlay",
             "size": 10,
             "solidity": 0.2
            },
            "type": "scatter"
           }
          ],
          "scatter3d": [
           {
            "line": {
             "colorbar": {
              "outlinewidth": 0,
              "ticks": ""
             }
            },
            "marker": {
             "colorbar": {
              "outlinewidth": 0,
              "ticks": ""
             }
            },
            "type": "scatter3d"
           }
          ],
          "scattercarpet": [
           {
            "marker": {
             "colorbar": {
              "outlinewidth": 0,
              "ticks": ""
             }
            },
            "type": "scattercarpet"
           }
          ],
          "scattergeo": [
           {
            "marker": {
             "colorbar": {
              "outlinewidth": 0,
              "ticks": ""
             }
            },
            "type": "scattergeo"
           }
          ],
          "scattergl": [
           {
            "marker": {
             "colorbar": {
              "outlinewidth": 0,
              "ticks": ""
             }
            },
            "type": "scattergl"
           }
          ],
          "scattermapbox": [
           {
            "marker": {
             "colorbar": {
              "outlinewidth": 0,
              "ticks": ""
             }
            },
            "type": "scattermapbox"
           }
          ],
          "scatterpolar": [
           {
            "marker": {
             "colorbar": {
              "outlinewidth": 0,
              "ticks": ""
             }
            },
            "type": "scatterpolar"
           }
          ],
          "scatterpolargl": [
           {
            "marker": {
             "colorbar": {
              "outlinewidth": 0,
              "ticks": ""
             }
            },
            "type": "scatterpolargl"
           }
          ],
          "scatterternary": [
           {
            "marker": {
             "colorbar": {
              "outlinewidth": 0,
              "ticks": ""
             }
            },
            "type": "scatterternary"
           }
          ],
          "surface": [
           {
            "colorbar": {
             "outlinewidth": 0,
             "ticks": ""
            },
            "colorscale": [
             [
              0,
              "#0d0887"
             ],
             [
              0.1111111111111111,
              "#46039f"
             ],
             [
              0.2222222222222222,
              "#7201a8"
             ],
             [
              0.3333333333333333,
              "#9c179e"
             ],
             [
              0.4444444444444444,
              "#bd3786"
             ],
             [
              0.5555555555555556,
              "#d8576b"
             ],
             [
              0.6666666666666666,
              "#ed7953"
             ],
             [
              0.7777777777777778,
              "#fb9f3a"
             ],
             [
              0.8888888888888888,
              "#fdca26"
             ],
             [
              1,
              "#f0f921"
             ]
            ],
            "type": "surface"
           }
          ],
          "table": [
           {
            "cells": {
             "fill": {
              "color": "#EBF0F8"
             },
             "line": {
              "color": "white"
             }
            },
            "header": {
             "fill": {
              "color": "#C8D4E3"
             },
             "line": {
              "color": "white"
             }
            },
            "type": "table"
           }
          ]
         },
         "layout": {
          "annotationdefaults": {
           "arrowcolor": "#2a3f5f",
           "arrowhead": 0,
           "arrowwidth": 1
          },
          "autotypenumbers": "strict",
          "coloraxis": {
           "colorbar": {
            "outlinewidth": 0,
            "ticks": ""
           }
          },
          "colorscale": {
           "diverging": [
            [
             0,
             "#8e0152"
            ],
            [
             0.1,
             "#c51b7d"
            ],
            [
             0.2,
             "#de77ae"
            ],
            [
             0.3,
             "#f1b6da"
            ],
            [
             0.4,
             "#fde0ef"
            ],
            [
             0.5,
             "#f7f7f7"
            ],
            [
             0.6,
             "#e6f5d0"
            ],
            [
             0.7,
             "#b8e186"
            ],
            [
             0.8,
             "#7fbc41"
            ],
            [
             0.9,
             "#4d9221"
            ],
            [
             1,
             "#276419"
            ]
           ],
           "sequential": [
            [
             0,
             "#0d0887"
            ],
            [
             0.1111111111111111,
             "#46039f"
            ],
            [
             0.2222222222222222,
             "#7201a8"
            ],
            [
             0.3333333333333333,
             "#9c179e"
            ],
            [
             0.4444444444444444,
             "#bd3786"
            ],
            [
             0.5555555555555556,
             "#d8576b"
            ],
            [
             0.6666666666666666,
             "#ed7953"
            ],
            [
             0.7777777777777778,
             "#fb9f3a"
            ],
            [
             0.8888888888888888,
             "#fdca26"
            ],
            [
             1,
             "#f0f921"
            ]
           ],
           "sequentialminus": [
            [
             0,
             "#0d0887"
            ],
            [
             0.1111111111111111,
             "#46039f"
            ],
            [
             0.2222222222222222,
             "#7201a8"
            ],
            [
             0.3333333333333333,
             "#9c179e"
            ],
            [
             0.4444444444444444,
             "#bd3786"
            ],
            [
             0.5555555555555556,
             "#d8576b"
            ],
            [
             0.6666666666666666,
             "#ed7953"
            ],
            [
             0.7777777777777778,
             "#fb9f3a"
            ],
            [
             0.8888888888888888,
             "#fdca26"
            ],
            [
             1,
             "#f0f921"
            ]
           ]
          },
          "colorway": [
           "#636efa",
           "#EF553B",
           "#00cc96",
           "#ab63fa",
           "#FFA15A",
           "#19d3f3",
           "#FF6692",
           "#B6E880",
           "#FF97FF",
           "#FECB52"
          ],
          "font": {
           "color": "#2a3f5f"
          },
          "geo": {
           "bgcolor": "white",
           "lakecolor": "white",
           "landcolor": "#E5ECF6",
           "showlakes": true,
           "showland": true,
           "subunitcolor": "white"
          },
          "hoverlabel": {
           "align": "left"
          },
          "hovermode": "closest",
          "mapbox": {
           "style": "light"
          },
          "paper_bgcolor": "white",
          "plot_bgcolor": "#E5ECF6",
          "polar": {
           "angularaxis": {
            "gridcolor": "white",
            "linecolor": "white",
            "ticks": ""
           },
           "bgcolor": "#E5ECF6",
           "radialaxis": {
            "gridcolor": "white",
            "linecolor": "white",
            "ticks": ""
           }
          },
          "scene": {
           "xaxis": {
            "backgroundcolor": "#E5ECF6",
            "gridcolor": "white",
            "gridwidth": 2,
            "linecolor": "white",
            "showbackground": true,
            "ticks": "",
            "zerolinecolor": "white"
           },
           "yaxis": {
            "backgroundcolor": "#E5ECF6",
            "gridcolor": "white",
            "gridwidth": 2,
            "linecolor": "white",
            "showbackground": true,
            "ticks": "",
            "zerolinecolor": "white"
           },
           "zaxis": {
            "backgroundcolor": "#E5ECF6",
            "gridcolor": "white",
            "gridwidth": 2,
            "linecolor": "white",
            "showbackground": true,
            "ticks": "",
            "zerolinecolor": "white"
           }
          },
          "shapedefaults": {
           "line": {
            "color": "#2a3f5f"
           }
          },
          "ternary": {
           "aaxis": {
            "gridcolor": "white",
            "linecolor": "white",
            "ticks": ""
           },
           "baxis": {
            "gridcolor": "white",
            "linecolor": "white",
            "ticks": ""
           },
           "bgcolor": "#E5ECF6",
           "caxis": {
            "gridcolor": "white",
            "linecolor": "white",
            "ticks": ""
           }
          },
          "title": {
           "x": 0.05
          },
          "xaxis": {
           "automargin": true,
           "gridcolor": "white",
           "linecolor": "white",
           "ticks": "",
           "title": {
            "standoff": 15
           },
           "zerolinecolor": "white",
           "zerolinewidth": 2
          },
          "yaxis": {
           "automargin": true,
           "gridcolor": "white",
           "linecolor": "white",
           "ticks": "",
           "title": {
            "standoff": 15
           },
           "zerolinecolor": "white",
           "zerolinewidth": 2
          }
         }
        },
        "title": {
         "text": "Access to Water vs. Piped Water vs. Population"
        },
        "xaxis": {
         "anchor": "y",
         "domain": [
          0,
          1
         ],
         "title": {
          "text": "percent_without_water"
         }
        },
        "yaxis": {
         "anchor": "x",
         "domain": [
          0,
          1
         ],
         "title": {
          "text": "Nat Piped"
         }
        }
       }
      }
     },
     "metadata": {},
     "output_type": "display_data"
    }
   ],
   "source": [
    "# create bubble chart from df_countries comprising: access to water, piped water, and using population as the size of the bubble\n",
    "# create a new column for the size of the bubble\n",
    "df_countries[\"bubble_size\"] = df_countries[\"country_pop_raw\"] / 1000000 +50\n",
    "\n",
    "# create a new column for the color of the bubble\n",
    "df_countries[\"bubble_color\"] = df_countries[\"Nat Piped\"]\n",
    "\n",
    "# create a new column for the text of the bubble\n",
    "df_countries[\"bubble_text\"] = df_countries[\"Entity\"]\n",
    "\n",
    "px.scatter(df_countries, x=\"percent_without_water\", y=\"Nat Piped\", size=\"bubble_size\", color=\"region\", hover_name=\"bubble_text\", title=\"Access to Water vs. Piped Water vs. Population\")"
   ]
  },
  {
   "attachments": {},
   "cell_type": "markdown",
   "metadata": {},
   "source": [
    "Above graph is the money shot. NMeed to fix bubble sizes, maybe add labels"
   ]
  },
  {
   "cell_type": "code",
   "execution_count": 14,
   "metadata": {},
   "outputs": [
    {
     "data": {
      "application/vnd.plotly.v1+json": {
       "config": {
        "plotlyServerURL": "https://plotly.com"
       },
       "data": [
        {
         "hovertemplate": "subregion=Eastern Africa<br>Entity=%{x}<br>weighted_med=%{y}<extra></extra>",
         "legendgroup": "Eastern Africa",
         "line": {
          "color": "#636efa",
          "dash": "solid"
         },
         "marker": {
          "symbol": "circle"
         },
         "mode": "lines",
         "name": "Eastern Africa",
         "orientation": "v",
         "showlegend": true,
         "type": "scatter",
         "x": [
          "Mauritius",
          "Malawi",
          "Zambia",
          "Uganda",
          "Tanzania",
          "Mozambique",
          "Burundi",
          "Rwanda",
          "Zimbabwe",
          "Madagascar",
          "Kenya",
          "Reunion",
          "Ethiopia",
          "Eritrea",
          "Djibouti",
          "Somalia"
         ],
         "xaxis": "x",
         "y": [
          2,
          2.82842700195312,
          3,
          3,
          3,
          3.16227807617188,
          3.16227807617188,
          3.60555102539062,
          3.60555102539062,
          4,
          4.12310498046875,
          4.12310498046875,
          7.07106787109375,
          21.09501953125,
          38.83298046875,
          86.2786171875
         ],
         "yaxis": "y"
        },
        {
         "hovertemplate": "subregion=Middle Africa<br>Entity=%{x}<br>weighted_med=%{y}<extra></extra>",
         "legendgroup": "Middle Africa",
         "line": {
          "color": "#EF553B",
          "dash": "solid"
         },
         "marker": {
          "symbol": "circle"
         },
         "mode": "lines",
         "name": "Middle Africa",
         "orientation": "v",
         "showlegend": true,
         "type": "scatter",
         "x": [
          "Congo",
          "Central African Republic",
          "Democratic Republic of Congo",
          "Equatorial Guinea",
          "Cameroon",
          "Angola",
          "Gabon",
          "Sao Tome and Principe",
          "South Sudan",
          "Chad"
         ],
         "xaxis": "x",
         "y": [
          2,
          3,
          3,
          3.16227807617188,
          3.60555102539062,
          4.12310498046875,
          4.47213623046875,
          5.09902001953125,
          9.4868330078125,
          20
         ],
         "yaxis": "y"
        },
        {
         "hovertemplate": "subregion=Central America<br>Entity=%{x}<br>weighted_med=%{y}<extra></extra>",
         "legendgroup": "Central America",
         "line": {
          "color": "#00cc96",
          "dash": "solid"
         },
         "marker": {
          "symbol": "circle"
         },
         "mode": "lines",
         "name": "Central America",
         "orientation": "v",
         "showlegend": true,
         "type": "scatter",
         "x": [
          "Panama",
          "El Salvador",
          "Belize",
          "Honduras",
          "Costa Rica",
          "Guatemala",
          "Nicaragua",
          "Mexico"
         ],
         "xaxis": "x",
         "y": [
          2,
          2.82842700195312,
          2.82842700195312,
          3.16227807617188,
          3.16227807617188,
          3.60555102539062,
          4,
          5.65685400390625
         ],
         "yaxis": "y"
        },
        {
         "hovertemplate": "subregion=Caribbean<br>Entity=%{x}<br>weighted_med=%{y}<extra></extra>",
         "legendgroup": "Caribbean",
         "line": {
          "color": "#ab63fa",
          "dash": "solid"
         },
         "marker": {
          "symbol": "circle"
         },
         "mode": "lines",
         "name": "Caribbean",
         "orientation": "v",
         "showlegend": true,
         "type": "scatter",
         "x": [
          "Puerto Rico",
          "Dominican Republic",
          "Haiti",
          "Jamaica",
          "Cuba",
          "Montserrat",
          "Bahamas",
          "Trinidad and Tobago",
          "Martinique",
          "Grenada",
          "Saint Lucia",
          "Guadeloupe"
         ],
         "xaxis": "x",
         "y": [
          2.23606811523438,
          3.60555102539062,
          4.12310498046875,
          4.12310498046875,
          4.47213623046875,
          5,
          5.3851650390625,
          5.3851650390625,
          7.81025,
          9.219544921875,
          13.03841015625,
          22.4722109375
         ],
         "yaxis": "y"
        },
        {
         "hovertemplate": "subregion=South-Eastern Asia<br>Entity=%{x}<br>weighted_med=%{y}<extra></extra>",
         "legendgroup": "South-Eastern Asia",
         "line": {
          "color": "#FFA15A",
          "dash": "solid"
         },
         "marker": {
          "symbol": "circle"
         },
         "mode": "lines",
         "name": "South-Eastern Asia",
         "orientation": "v",
         "showlegend": true,
         "type": "scatter",
         "x": [
          "Brunei",
          "Philippines",
          "Vietnam",
          "Thailand",
          "Myanmar",
          "Laos",
          "Cambodia",
          "Malaysia",
          "Indonesia",
          "Singapore",
          "Timor"
         ],
         "xaxis": "x",
         "y": [
          2.23606811523438,
          2.23606811523438,
          2.23606811523438,
          2.82842700195312,
          2.82842700195312,
          3,
          3.16227807617188,
          3.16227807617188,
          4.12310498046875,
          10.4403095703125,
          35
         ],
         "yaxis": "y"
        },
        {
         "hovertemplate": "subregion=Southern Africa<br>Entity=%{x}<br>weighted_med=%{y}<extra></extra>",
         "legendgroup": "Southern Africa",
         "line": {
          "color": "#19d3f3",
          "dash": "solid"
         },
         "marker": {
          "symbol": "circle"
         },
         "mode": "lines",
         "name": "Southern Africa",
         "orientation": "v",
         "showlegend": true,
         "type": "scatter",
         "x": [
          "Eswatini",
          "Lesotho",
          "South Africa",
          "Namibia",
          "Botswana"
         ],
         "xaxis": "x",
         "y": [
          2.23606811523438,
          2.23606811523438,
          3.16227807617188,
          30.6104609375,
          33.94112890625
         ],
         "yaxis": "y"
        },
        {
         "hovertemplate": "subregion=Northern Europe<br>Entity=%{x}<br>weighted_med=%{y}<extra></extra>",
         "legendgroup": "Northern Europe",
         "line": {
          "color": "#FF6692",
          "dash": "solid"
         },
         "marker": {
          "symbol": "circle"
         },
         "mode": "lines",
         "name": "Northern Europe",
         "orientation": "v",
         "showlegend": true,
         "type": "scatter",
         "x": [
          "Sweden",
          "Norway",
          "Estonia",
          "Lithuania",
          "United Kingdom",
          "Latvia",
          "Ireland",
          "Finland",
          "Denmark",
          "Isle of Man",
          "Faeroe Islands",
          "Iceland"
         ],
         "xaxis": "x",
         "y": [
          2.23606811523438,
          2.23606811523438,
          2.82842700195312,
          2.82842700195312,
          3,
          3,
          3.16227807617188,
          3.16227807617188,
          3.60555102539062,
          4.47213623046875,
          5.3851650390625,
          5.3851650390625
         ],
         "yaxis": "y"
        },
        {
         "hovertemplate": "subregion=South America<br>Entity=%{x}<br>weighted_med=%{y}<extra></extra>",
         "legendgroup": "South America",
         "line": {
          "color": "#B6E880",
          "dash": "solid"
         },
         "marker": {
          "symbol": "circle"
         },
         "mode": "lines",
         "name": "South America",
         "orientation": "v",
         "showlegend": true,
         "type": "scatter",
         "x": [
          "Suriname",
          "Guyana",
          "French Guiana",
          "Colombia",
          "Chile",
          "Ecuador",
          "Paraguay",
          "Peru",
          "Brazil",
          "Venezuela",
          "Bolivia",
          "Argentina",
          "Uruguay",
          "Falkland Islands"
         ],
         "xaxis": "x",
         "y": [
          2.23606811523438,
          2.82842700195312,
          3,
          3.60555102539062,
          4,
          4.12310498046875,
          4.24264111328125,
          4.47213623046875,
          5,
          5.3851650390625,
          5.3851650390625,
          6,
          8.0622578125,
          14.3178203125
         ],
         "yaxis": "y"
        },
        {
         "hovertemplate": "subregion=Western Europe<br>Entity=%{x}<br>weighted_med=%{y}<extra></extra>",
         "legendgroup": "Western Europe",
         "line": {
          "color": "#FF97FF",
          "dash": "solid"
         },
         "marker": {
          "symbol": "circle"
         },
         "mode": "lines",
         "name": "Western Europe",
         "orientation": "v",
         "showlegend": true,
         "type": "scatter",
         "x": [
          "Netherlands",
          "France",
          "Switzerland",
          "Austria",
          "Belgium",
          "Germany",
          "Liechtenstein",
          "Luxembourg"
         ],
         "xaxis": "x",
         "y": [
          2.23606811523438,
          2.82842700195312,
          2.82842700195312,
          2.82842700195312,
          3.16227807617188,
          3.16227807617188,
          3.60555102539062,
          4.47213623046875
         ],
         "yaxis": "y"
        },
        {
         "hovertemplate": "subregion=Melanesia<br>Entity=%{x}<br>weighted_med=%{y}<extra></extra>",
         "legendgroup": "Melanesia",
         "line": {
          "color": "#FECB52",
          "dash": "solid"
         },
         "marker": {
          "symbol": "circle"
         },
         "mode": "lines",
         "name": "Melanesia",
         "orientation": "v",
         "showlegend": true,
         "type": "scatter",
         "x": [
          "Papua New Guinea",
          "New Caledonia",
          "Solomon Islands",
          "Vanuatu",
          "Fiji"
         ],
         "xaxis": "x",
         "y": [
          2.23606811523438,
          3.16227807617188,
          3.60555102539062,
          4,
          4
         ],
         "yaxis": "y"
        },
        {
         "hovertemplate": "subregion=Southern Europe<br>Entity=%{x}<br>weighted_med=%{y}<extra></extra>",
         "legendgroup": "Southern Europe",
         "line": {
          "color": "#636efa",
          "dash": "solid"
         },
         "marker": {
          "symbol": "circle"
         },
         "mode": "lines",
         "name": "Southern Europe",
         "orientation": "v",
         "showlegend": true,
         "type": "scatter",
         "x": [
          "Albania",
          "Slovenia",
          "Italy",
          "North Macedonia",
          "Bosnia and Herzegovina",
          "Montenegro",
          "Croatia",
          "Spain",
          "Portugal",
          "Andorra",
          "Malta",
          "Cyprus",
          "Greece"
         ],
         "xaxis": "x",
         "y": [
          2.23606811523438,
          2.82842700195312,
          3,
          3,
          3.16227807617188,
          3.60555102539062,
          3.60555102539062,
          4,
          4,
          4.12310498046875,
          4.12310498046875,
          5,
          8
         ],
         "yaxis": "y"
        },
        {
         "hovertemplate": "subregion=Eastern Asia<br>Entity=%{x}<br>weighted_med=%{y}<extra></extra>",
         "legendgroup": "Eastern Asia",
         "line": {
          "color": "#EF553B",
          "dash": "solid"
         },
         "marker": {
          "symbol": "circle"
         },
         "mode": "lines",
         "name": "Eastern Asia",
         "orientation": "v",
         "showlegend": true,
         "type": "scatter",
         "x": [
          "Japan",
          "Taiwan",
          "China",
          "Mongolia",
          "North Korea",
          "South Korea",
          "Hong Kong"
         ],
         "xaxis": "x",
         "y": [
          2.23606811523438,
          3,
          3.16227807617188,
          3.60555102539062,
          3.60555102539062,
          4.47213623046875,
          25
         ],
         "yaxis": "y"
        },
        {
         "hovertemplate": "subregion=Western Asia<br>Entity=%{x}<br>weighted_med=%{y}<extra></extra>",
         "legendgroup": "Western Asia",
         "line": {
          "color": "#00cc96",
          "dash": "solid"
         },
         "marker": {
          "symbol": "circle"
         },
         "mode": "lines",
         "name": "Western Asia",
         "orientation": "v",
         "showlegend": true,
         "type": "scatter",
         "x": [
          "Azerbaijan",
          "Georgia",
          "Armenia",
          "Turkey",
          "Iraq",
          "Lebanon",
          "Syria",
          "Jordan",
          "Israel",
          "Palestine",
          "Yemen",
          "Oman",
          "Kuwait",
          "United Arab Emirates",
          "Qatar",
          "Saudi Arabia"
         ],
         "xaxis": "x",
         "y": [
          2.23606811523438,
          2.82842700195312,
          2.82842700195312,
          3.60555102539062,
          3.60555102539062,
          6.7082041015625,
          8.0622578125,
          9.4339814453125,
          16.12451953125,
          19.104970703125,
          21.9317109375,
          53.0094296875,
          104.995203125,
          171.819703125,
          196.6215,
          216.01159375
         ],
         "yaxis": "y"
        },
        {
         "hovertemplate": "subregion=Eastern Europe<br>Entity=%{x}<br>weighted_med=%{y}<extra></extra>",
         "legendgroup": "Eastern Europe",
         "line": {
          "color": "#ab63fa",
          "dash": "solid"
         },
         "marker": {
          "symbol": "circle"
         },
         "mode": "lines",
         "name": "Eastern Europe",
         "orientation": "v",
         "showlegend": true,
         "type": "scatter",
         "x": [
          "Slovakia",
          "Moldova",
          "Hungary",
          "Poland",
          "Romania",
          "Belarus",
          "Bulgaria",
          "Ukraine",
          "Russia",
          "Serbia",
          "Czechia"
         ],
         "xaxis": "x",
         "y": [
          2.82842700195312,
          2.82842700195312,
          2.82842700195312,
          3,
          3,
          3,
          3.16227807617188,
          3.16227807617188,
          3.16227807617188,
          3.16227807617188,
          3.16227807617188
         ],
         "yaxis": "y"
        },
        {
         "hovertemplate": "subregion=Southern Asia<br>Entity=%{x}<br>weighted_med=%{y}<extra></extra>",
         "legendgroup": "Southern Asia",
         "line": {
          "color": "#FFA15A",
          "dash": "solid"
         },
         "marker": {
          "symbol": "circle"
         },
         "mode": "lines",
         "name": "Southern Asia",
         "orientation": "v",
         "showlegend": true,
         "type": "scatter",
         "x": [
          "Nepal",
          "Bangladesh",
          "Pakistan",
          "Sri Lanka",
          "India",
          "Bhutan",
          "Iran",
          "Afghanistan"
         ],
         "xaxis": "x",
         "y": [
          2.82842700195312,
          2.82842700195312,
          3,
          3.60555102539062,
          3.60555102539062,
          4,
          5.3851650390625,
          5.8309521484375
         ],
         "yaxis": "y"
        },
        {
         "hovertemplate": "subregion=Australia and New Zealand<br>Entity=%{x}<br>weighted_med=%{y}<extra></extra>",
         "legendgroup": "Australia and New Zealand",
         "line": {
          "color": "#19d3f3",
          "dash": "solid"
         },
         "marker": {
          "symbol": "circle"
         },
         "mode": "lines",
         "name": "Australia and New Zealand",
         "orientation": "v",
         "showlegend": true,
         "type": "scatter",
         "x": [
          "New Zealand",
          "Australia"
         ],
         "xaxis": "x",
         "y": [
          2.82842700195312,
          2.82842700195312
         ],
         "yaxis": "y"
        },
        {
         "hovertemplate": "subregion=Central Asia<br>Entity=%{x}<br>weighted_med=%{y}<extra></extra>",
         "legendgroup": "Central Asia",
         "line": {
          "color": "#FF6692",
          "dash": "solid"
         },
         "marker": {
          "symbol": "circle"
         },
         "mode": "lines",
         "name": "Central Asia",
         "orientation": "v",
         "showlegend": true,
         "type": "scatter",
         "x": [
          "Kyrgyzstan",
          "Uzbekistan",
          "Tajikistan",
          "Kazakhstan",
          "Turkmenistan"
         ],
         "xaxis": "x",
         "y": [
          2.82842700195312,
          3.60555102539062,
          3.60555102539062,
          4.12310498046875,
          17.691810546875
         ],
         "yaxis": "y"
        },
        {
         "hovertemplate": "subregion=Northern America<br>Entity=%{x}<br>weighted_med=%{y}<extra></extra>",
         "legendgroup": "Northern America",
         "line": {
          "color": "#B6E880",
          "dash": "solid"
         },
         "marker": {
          "symbol": "circle"
         },
         "mode": "lines",
         "name": "Northern America",
         "orientation": "v",
         "showlegend": true,
         "type": "scatter",
         "x": [
          "Canada",
          "United States",
          "Greenland"
         ],
         "xaxis": "x",
         "y": [
          3,
          4.12310498046875,
          16.76305078125
         ],
         "yaxis": "y"
        },
        {
         "hovertemplate": "subregion=Western Africa<br>Entity=%{x}<br>weighted_med=%{y}<extra></extra>",
         "legendgroup": "Western Africa",
         "line": {
          "color": "#FF97FF",
          "dash": "solid"
         },
         "marker": {
          "symbol": "circle"
         },
         "mode": "lines",
         "name": "Western Africa",
         "orientation": "v",
         "showlegend": true,
         "type": "scatter",
         "x": [
          "Sierra Leone",
          "Guinea",
          "Togo",
          "Nigeria",
          "Guinea-Bissau",
          "Cote d'Ivoire",
          "Liberia",
          "Ghana",
          "Gambia",
          "Benin",
          "Mali",
          "Burkina Faso",
          "Senegal",
          "Mauritania",
          "Niger"
         ],
         "xaxis": "x",
         "y": [
          3,
          3.16227807617188,
          3.60555102539062,
          3.60555102539062,
          3.60555102539062,
          4.12310498046875,
          4.24264111328125,
          4.24264111328125,
          4.24264111328125,
          5,
          8.54400390625,
          10.2956298828125,
          17.46425,
          31.016130859375,
          33.9705703125
         ],
         "yaxis": "y"
        },
        {
         "hovertemplate": "subregion=Northern Africa<br>Entity=%{x}<br>weighted_med=%{y}<extra></extra>",
         "legendgroup": "Northern Africa",
         "line": {
          "color": "#FECB52",
          "dash": "solid"
         },
         "marker": {
          "symbol": "circle"
         },
         "mode": "lines",
         "name": "Northern Africa",
         "orientation": "v",
         "showlegend": true,
         "type": "scatter",
         "x": [
          "Egypt",
          "Morocco",
          "Algeria",
          "Tunisia",
          "Sudan",
          "Western Sahara",
          "Libya"
         ],
         "xaxis": "x",
         "y": [
          3.60555102539062,
          7.07106787109375,
          7.28010986328125,
          14.035669921875,
          47.85394921875,
          136.85390625,
          223.618
         ],
         "yaxis": "y"
        },
        {
         "hovertemplate": "subregion=Polynesia<br>Entity=%{x}<br>weighted_med=%{y}<extra></extra>",
         "legendgroup": "Polynesia",
         "line": {
          "color": "#636efa",
          "dash": "solid"
         },
         "marker": {
          "symbol": "circle"
         },
         "mode": "lines",
         "name": "Polynesia",
         "orientation": "v",
         "showlegend": true,
         "type": "scatter",
         "x": [
          "Samoa"
         ],
         "xaxis": "x",
         "y": [
          6.7082041015625
         ],
         "yaxis": "y"
        }
       ],
       "layout": {
        "legend": {
         "title": {
          "text": "subregion"
         },
         "tracegroupgap": 0
        },
        "template": {
         "data": {
          "bar": [
           {
            "error_x": {
             "color": "#2a3f5f"
            },
            "error_y": {
             "color": "#2a3f5f"
            },
            "marker": {
             "line": {
              "color": "#E5ECF6",
              "width": 0.5
             },
             "pattern": {
              "fillmode": "overlay",
              "size": 10,
              "solidity": 0.2
             }
            },
            "type": "bar"
           }
          ],
          "barpolar": [
           {
            "marker": {
             "line": {
              "color": "#E5ECF6",
              "width": 0.5
             },
             "pattern": {
              "fillmode": "overlay",
              "size": 10,
              "solidity": 0.2
             }
            },
            "type": "barpolar"
           }
          ],
          "carpet": [
           {
            "aaxis": {
             "endlinecolor": "#2a3f5f",
             "gridcolor": "white",
             "linecolor": "white",
             "minorgridcolor": "white",
             "startlinecolor": "#2a3f5f"
            },
            "baxis": {
             "endlinecolor": "#2a3f5f",
             "gridcolor": "white",
             "linecolor": "white",
             "minorgridcolor": "white",
             "startlinecolor": "#2a3f5f"
            },
            "type": "carpet"
           }
          ],
          "choropleth": [
           {
            "colorbar": {
             "outlinewidth": 0,
             "ticks": ""
            },
            "type": "choropleth"
           }
          ],
          "contour": [
           {
            "colorbar": {
             "outlinewidth": 0,
             "ticks": ""
            },
            "colorscale": [
             [
              0,
              "#0d0887"
             ],
             [
              0.1111111111111111,
              "#46039f"
             ],
             [
              0.2222222222222222,
              "#7201a8"
             ],
             [
              0.3333333333333333,
              "#9c179e"
             ],
             [
              0.4444444444444444,
              "#bd3786"
             ],
             [
              0.5555555555555556,
              "#d8576b"
             ],
             [
              0.6666666666666666,
              "#ed7953"
             ],
             [
              0.7777777777777778,
              "#fb9f3a"
             ],
             [
              0.8888888888888888,
              "#fdca26"
             ],
             [
              1,
              "#f0f921"
             ]
            ],
            "type": "contour"
           }
          ],
          "contourcarpet": [
           {
            "colorbar": {
             "outlinewidth": 0,
             "ticks": ""
            },
            "type": "contourcarpet"
           }
          ],
          "heatmap": [
           {
            "colorbar": {
             "outlinewidth": 0,
             "ticks": ""
            },
            "colorscale": [
             [
              0,
              "#0d0887"
             ],
             [
              0.1111111111111111,
              "#46039f"
             ],
             [
              0.2222222222222222,
              "#7201a8"
             ],
             [
              0.3333333333333333,
              "#9c179e"
             ],
             [
              0.4444444444444444,
              "#bd3786"
             ],
             [
              0.5555555555555556,
              "#d8576b"
             ],
             [
              0.6666666666666666,
              "#ed7953"
             ],
             [
              0.7777777777777778,
              "#fb9f3a"
             ],
             [
              0.8888888888888888,
              "#fdca26"
             ],
             [
              1,
              "#f0f921"
             ]
            ],
            "type": "heatmap"
           }
          ],
          "heatmapgl": [
           {
            "colorbar": {
             "outlinewidth": 0,
             "ticks": ""
            },
            "colorscale": [
             [
              0,
              "#0d0887"
             ],
             [
              0.1111111111111111,
              "#46039f"
             ],
             [
              0.2222222222222222,
              "#7201a8"
             ],
             [
              0.3333333333333333,
              "#9c179e"
             ],
             [
              0.4444444444444444,
              "#bd3786"
             ],
             [
              0.5555555555555556,
              "#d8576b"
             ],
             [
              0.6666666666666666,
              "#ed7953"
             ],
             [
              0.7777777777777778,
              "#fb9f3a"
             ],
             [
              0.8888888888888888,
              "#fdca26"
             ],
             [
              1,
              "#f0f921"
             ]
            ],
            "type": "heatmapgl"
           }
          ],
          "histogram": [
           {
            "marker": {
             "pattern": {
              "fillmode": "overlay",
              "size": 10,
              "solidity": 0.2
             }
            },
            "type": "histogram"
           }
          ],
          "histogram2d": [
           {
            "colorbar": {
             "outlinewidth": 0,
             "ticks": ""
            },
            "colorscale": [
             [
              0,
              "#0d0887"
             ],
             [
              0.1111111111111111,
              "#46039f"
             ],
             [
              0.2222222222222222,
              "#7201a8"
             ],
             [
              0.3333333333333333,
              "#9c179e"
             ],
             [
              0.4444444444444444,
              "#bd3786"
             ],
             [
              0.5555555555555556,
              "#d8576b"
             ],
             [
              0.6666666666666666,
              "#ed7953"
             ],
             [
              0.7777777777777778,
              "#fb9f3a"
             ],
             [
              0.8888888888888888,
              "#fdca26"
             ],
             [
              1,
              "#f0f921"
             ]
            ],
            "type": "histogram2d"
           }
          ],
          "histogram2dcontour": [
           {
            "colorbar": {
             "outlinewidth": 0,
             "ticks": ""
            },
            "colorscale": [
             [
              0,
              "#0d0887"
             ],
             [
              0.1111111111111111,
              "#46039f"
             ],
             [
              0.2222222222222222,
              "#7201a8"
             ],
             [
              0.3333333333333333,
              "#9c179e"
             ],
             [
              0.4444444444444444,
              "#bd3786"
             ],
             [
              0.5555555555555556,
              "#d8576b"
             ],
             [
              0.6666666666666666,
              "#ed7953"
             ],
             [
              0.7777777777777778,
              "#fb9f3a"
             ],
             [
              0.8888888888888888,
              "#fdca26"
             ],
             [
              1,
              "#f0f921"
             ]
            ],
            "type": "histogram2dcontour"
           }
          ],
          "mesh3d": [
           {
            "colorbar": {
             "outlinewidth": 0,
             "ticks": ""
            },
            "type": "mesh3d"
           }
          ],
          "parcoords": [
           {
            "line": {
             "colorbar": {
              "outlinewidth": 0,
              "ticks": ""
             }
            },
            "type": "parcoords"
           }
          ],
          "pie": [
           {
            "automargin": true,
            "type": "pie"
           }
          ],
          "scatter": [
           {
            "fillpattern": {
             "fillmode": "overlay",
             "size": 10,
             "solidity": 0.2
            },
            "type": "scatter"
           }
          ],
          "scatter3d": [
           {
            "line": {
             "colorbar": {
              "outlinewidth": 0,
              "ticks": ""
             }
            },
            "marker": {
             "colorbar": {
              "outlinewidth": 0,
              "ticks": ""
             }
            },
            "type": "scatter3d"
           }
          ],
          "scattercarpet": [
           {
            "marker": {
             "colorbar": {
              "outlinewidth": 0,
              "ticks": ""
             }
            },
            "type": "scattercarpet"
           }
          ],
          "scattergeo": [
           {
            "marker": {
             "colorbar": {
              "outlinewidth": 0,
              "ticks": ""
             }
            },
            "type": "scattergeo"
           }
          ],
          "scattergl": [
           {
            "marker": {
             "colorbar": {
              "outlinewidth": 0,
              "ticks": ""
             }
            },
            "type": "scattergl"
           }
          ],
          "scattermapbox": [
           {
            "marker": {
             "colorbar": {
              "outlinewidth": 0,
              "ticks": ""
             }
            },
            "type": "scattermapbox"
           }
          ],
          "scatterpolar": [
           {
            "marker": {
             "colorbar": {
              "outlinewidth": 0,
              "ticks": ""
             }
            },
            "type": "scatterpolar"
           }
          ],
          "scatterpolargl": [
           {
            "marker": {
             "colorbar": {
              "outlinewidth": 0,
              "ticks": ""
             }
            },
            "type": "scatterpolargl"
           }
          ],
          "scatterternary": [
           {
            "marker": {
             "colorbar": {
              "outlinewidth": 0,
              "ticks": ""
             }
            },
            "type": "scatterternary"
           }
          ],
          "surface": [
           {
            "colorbar": {
             "outlinewidth": 0,
             "ticks": ""
            },
            "colorscale": [
             [
              0,
              "#0d0887"
             ],
             [
              0.1111111111111111,
              "#46039f"
             ],
             [
              0.2222222222222222,
              "#7201a8"
             ],
             [
              0.3333333333333333,
              "#9c179e"
             ],
             [
              0.4444444444444444,
              "#bd3786"
             ],
             [
              0.5555555555555556,
              "#d8576b"
             ],
             [
              0.6666666666666666,
              "#ed7953"
             ],
             [
              0.7777777777777778,
              "#fb9f3a"
             ],
             [
              0.8888888888888888,
              "#fdca26"
             ],
             [
              1,
              "#f0f921"
             ]
            ],
            "type": "surface"
           }
          ],
          "table": [
           {
            "cells": {
             "fill": {
              "color": "#EBF0F8"
             },
             "line": {
              "color": "white"
             }
            },
            "header": {
             "fill": {
              "color": "#C8D4E3"
             },
             "line": {
              "color": "white"
             }
            },
            "type": "table"
           }
          ]
         },
         "layout": {
          "annotationdefaults": {
           "arrowcolor": "#2a3f5f",
           "arrowhead": 0,
           "arrowwidth": 1
          },
          "autotypenumbers": "strict",
          "coloraxis": {
           "colorbar": {
            "outlinewidth": 0,
            "ticks": ""
           }
          },
          "colorscale": {
           "diverging": [
            [
             0,
             "#8e0152"
            ],
            [
             0.1,
             "#c51b7d"
            ],
            [
             0.2,
             "#de77ae"
            ],
            [
             0.3,
             "#f1b6da"
            ],
            [
             0.4,
             "#fde0ef"
            ],
            [
             0.5,
             "#f7f7f7"
            ],
            [
             0.6,
             "#e6f5d0"
            ],
            [
             0.7,
             "#b8e186"
            ],
            [
             0.8,
             "#7fbc41"
            ],
            [
             0.9,
             "#4d9221"
            ],
            [
             1,
             "#276419"
            ]
           ],
           "sequential": [
            [
             0,
             "#0d0887"
            ],
            [
             0.1111111111111111,
             "#46039f"
            ],
            [
             0.2222222222222222,
             "#7201a8"
            ],
            [
             0.3333333333333333,
             "#9c179e"
            ],
            [
             0.4444444444444444,
             "#bd3786"
            ],
            [
             0.5555555555555556,
             "#d8576b"
            ],
            [
             0.6666666666666666,
             "#ed7953"
            ],
            [
             0.7777777777777778,
             "#fb9f3a"
            ],
            [
             0.8888888888888888,
             "#fdca26"
            ],
            [
             1,
             "#f0f921"
            ]
           ],
           "sequentialminus": [
            [
             0,
             "#0d0887"
            ],
            [
             0.1111111111111111,
             "#46039f"
            ],
            [
             0.2222222222222222,
             "#7201a8"
            ],
            [
             0.3333333333333333,
             "#9c179e"
            ],
            [
             0.4444444444444444,
             "#bd3786"
            ],
            [
             0.5555555555555556,
             "#d8576b"
            ],
            [
             0.6666666666666666,
             "#ed7953"
            ],
            [
             0.7777777777777778,
             "#fb9f3a"
            ],
            [
             0.8888888888888888,
             "#fdca26"
            ],
            [
             1,
             "#f0f921"
            ]
           ]
          },
          "colorway": [
           "#636efa",
           "#EF553B",
           "#00cc96",
           "#ab63fa",
           "#FFA15A",
           "#19d3f3",
           "#FF6692",
           "#B6E880",
           "#FF97FF",
           "#FECB52"
          ],
          "font": {
           "color": "#2a3f5f"
          },
          "geo": {
           "bgcolor": "white",
           "lakecolor": "white",
           "landcolor": "#E5ECF6",
           "showlakes": true,
           "showland": true,
           "subunitcolor": "white"
          },
          "hoverlabel": {
           "align": "left"
          },
          "hovermode": "closest",
          "mapbox": {
           "style": "light"
          },
          "paper_bgcolor": "white",
          "plot_bgcolor": "#E5ECF6",
          "polar": {
           "angularaxis": {
            "gridcolor": "white",
            "linecolor": "white",
            "ticks": ""
           },
           "bgcolor": "#E5ECF6",
           "radialaxis": {
            "gridcolor": "white",
            "linecolor": "white",
            "ticks": ""
           }
          },
          "scene": {
           "xaxis": {
            "backgroundcolor": "#E5ECF6",
            "gridcolor": "white",
            "gridwidth": 2,
            "linecolor": "white",
            "showbackground": true,
            "ticks": "",
            "zerolinecolor": "white"
           },
           "yaxis": {
            "backgroundcolor": "#E5ECF6",
            "gridcolor": "white",
            "gridwidth": 2,
            "linecolor": "white",
            "showbackground": true,
            "ticks": "",
            "zerolinecolor": "white"
           },
           "zaxis": {
            "backgroundcolor": "#E5ECF6",
            "gridcolor": "white",
            "gridwidth": 2,
            "linecolor": "white",
            "showbackground": true,
            "ticks": "",
            "zerolinecolor": "white"
           }
          },
          "shapedefaults": {
           "line": {
            "color": "#2a3f5f"
           }
          },
          "ternary": {
           "aaxis": {
            "gridcolor": "white",
            "linecolor": "white",
            "ticks": ""
           },
           "baxis": {
            "gridcolor": "white",
            "linecolor": "white",
            "ticks": ""
           },
           "bgcolor": "#E5ECF6",
           "caxis": {
            "gridcolor": "white",
            "linecolor": "white",
            "ticks": ""
           }
          },
          "title": {
           "x": 0.05
          },
          "xaxis": {
           "automargin": true,
           "gridcolor": "white",
           "linecolor": "white",
           "ticks": "",
           "title": {
            "standoff": 15
           },
           "zerolinecolor": "white",
           "zerolinewidth": 2
          },
          "yaxis": {
           "automargin": true,
           "gridcolor": "white",
           "linecolor": "white",
           "ticks": "",
           "title": {
            "standoff": 15
           },
           "zerolinecolor": "white",
           "zerolinewidth": 2
          }
         }
        },
        "title": {
         "text": "Distance to Water"
        },
        "xaxis": {
         "anchor": "y",
         "domain": [
          0,
          1
         ],
         "title": {
          "text": "Entity"
         }
        },
        "yaxis": {
         "anchor": "x",
         "domain": [
          0,
          1
         ],
         "title": {
          "text": "weighted_med"
         },
         "type": "log"
        }
       }
      }
     },
     "metadata": {},
     "output_type": "display_data"
    }
   ],
   "source": [
    "#sort the countries by distance to water, plot the results\n",
    "df_countries.sort_values(by=\"weighted_med\", inplace=True)\n",
    "# add log scale\n",
    "px.line(df_countries, x=\"Entity\", y=\"weighted_med\", color=\"subregion\", title=\"Distance to Water\", log_y=True)\n"
   ]
  },
  {
   "cell_type": "code",
   "execution_count": 15,
   "metadata": {},
   "outputs": [
    {
     "data": {
      "application/vnd.plotly.v1+json": {
       "config": {
        "plotlyServerURL": "https://plotly.com"
       },
       "data": [
        {
         "hovertemplate": "<b>%{hovertext}</b><br><br>region=Africa<br>percent_without_water=%{x}<br>country_pop_without_water=%{y}<br>bubble_size=%{marker.size}<extra></extra>",
         "hovertext": [
          "Mauritius",
          "Congo",
          "Eswatini",
          "Lesotho",
          "Malawi",
          "Zambia",
          "Central African Republic",
          "Democratic Republic of Congo",
          "Uganda",
          "Tanzania",
          "Sierra Leone",
          "Mozambique",
          "Burundi",
          "South Africa",
          "Equatorial Guinea",
          "Guinea",
          "Rwanda",
          "Togo",
          "Nigeria",
          "Zimbabwe",
          "Guinea-Bissau",
          "Cameroon",
          "Egypt",
          "Madagascar",
          "Cote d'Ivoire",
          "Kenya",
          "Reunion",
          "Angola",
          "Liberia",
          "Ghana",
          "Gambia",
          "Gabon",
          "Benin",
          "Sao Tome and Principe",
          "Morocco",
          "Ethiopia",
          "Algeria",
          "Mali",
          "South Sudan",
          "Burkina Faso",
          "Tunisia",
          "Senegal",
          "Chad",
          "Eritrea",
          "Namibia",
          "Mauritania",
          "Botswana",
          "Niger",
          "Djibouti",
          "Sudan",
          "Somalia",
          "Western Sahara",
          "Libya"
         ],
         "legendgroup": "Africa",
         "marker": {
          "color": "#636efa",
          "size": [
           51.273428,
           55.657016999999996,
           51.172369,
           52.159067,
           69.647681,
           68.920657,
           54.919987,
           142.37798600000002,
           97.12353300000001,
           111.498438,
           58.141343,
           82.163045,
           62.255429,
           110.04199599999998,
           51.449891,
           63.497237,
           63.276517,
           58.478242,
           261.400704,
           65.09217100000001,
           52.01549,
           77.224262,
           154.25832699999998,
           78.427333,
           77.053629,
           104.985702,
           50.901696,
           83.933611,
           55.180208,
           81.732128,
           52.486937,
           52.278829,
           62.451031,
           50.223364,
           87.344787,
           167.87622599999997,
           94.616626,
           70.85572400000001,
           61.381377,
           71.497097,
           61.935764,
           67.196308,
           66.914985,
           53.601462,
           52.587344,
           54.77511,
           52.39724,
           75.13081,
           51.002197,
           94.909351,
           66.3595,
           50.611872,
           56.958538
          ],
          "sizemode": "area",
          "sizeref": 3.735540255,
          "symbol": "circle"
         },
         "mode": "markers",
         "name": "Africa",
         "orientation": "v",
         "showlegend": true,
         "type": "scatter",
         "x": [
          23.630898783334374,
          20.544327760267844,
          14.831651100233897,
          27.6892744519848,
          6.034738125155643,
          10.569830455022636,
          5.8426376781907905,
          14.122308428120888,
          7.68501811673306,
          12.48260472012289,
          9.990388943303023,
          14.873183814906973,
          16.829276302998178,
          44.859123444734415,
          21.58323828595869,
          11.425601638869777,
          21.956395046630053,
          11.533720146020213,
          4.871492676500094,
          12.811481417853052,
          15.041453010397557,
          18.744943131381486,
          55.81732387542603,
          18.52244790076087,
          17.98597144082043,
          17.480401783017413,
          54.05570203044066,
          24.51586296101442,
          2.7079402850950207,
          17.94816916082949,
          32.486197952946824,
          57.162565878207374,
          17.903012952893377,
          66.19506952967191,
          55.372473173205286,
          31.881151611633534,
          51.69684581660311,
          33.14225819806919,
          2.915336841065247,
          15.651298830367043,
          73.48631152528719,
          63.65823782227202,
          16.135161157979187,
          46.6898610612054,
          78.79923829949911,
          49.52484463038501,
          84.5044390625074,
          36.750871645435495,
          81.09339369309242,
          40.276437780080364,
          45.41161126027294,
          68.11129710097885,
          77.97861537774457
         ],
         "xaxis": "x",
         "y": [
          300922.4817586393,
          1162196.1139340713,
          173881.6796873012,
          597829.9872322347,
          1185686.0960159616,
          1999881.3658763722,
          287457.01422408875,
          13045904.102606334,
          3621452.048294682,
          7676606.924589848,
          813351.8309083746,
          4783668.803321246,
          2062500.008527767,
          26934313.104322497,
          312933.4294166693,
          1542140.531874138,
          2915044.520952997,
          977856.7055823471,
          10298369.813429642,
          1933530.683215607,
          303158.9812792617,
          5103172.4298383,
          58194208.04869073,
          5265437.944500802,
          4865857.985645512,
          9611721.632812642,
          487418.1029804022,
          8319117.570483715,
          140276.93928371504,
          5695336.01177094,
          807911.2767850771,
          1302637.1283766942,
          2229109.6926987697,
          147855.95510425637,
          20678732.163165655,
          37580298.32513178,
          23065388.35179045,
          6912057.897156686,
          331805.4767015266,
          3364574.891323869,
          8771152.71596308,
          10946866.64329039,
          2729260.0895980056,
          1681517.6039721093,
          2038807.364187792,
          2364865.8084299783,
          2025774.2149820526,
          9235791.726558266,
          812715.5587903615,
          18087886.8129529,
          7429112.544124352,
          416753.95579770126,
          5426171.582934199
         ],
         "yaxis": "y"
        },
        {
         "hovertemplate": "<b>%{hovertext}</b><br><br>region=Americas<br>percent_without_water=%{x}<br>country_pop_without_water=%{y}<br>bubble_size=%{marker.size}<extra></extra>",
         "hovertext": [
          "Panama",
          "Puerto Rico",
          "Suriname",
          "El Salvador",
          "Guyana",
          "Belize",
          "French Guiana",
          "Canada",
          "Honduras",
          "Costa Rica",
          "Guatemala",
          "Colombia",
          "Dominican Republic",
          "Nicaragua",
          "Chile",
          "Ecuador",
          "Haiti",
          "Jamaica",
          "United States",
          "Paraguay",
          "Cuba",
          "Peru",
          "Montserrat",
          "Brazil",
          "Venezuela",
          "Bahamas",
          "Bolivia",
          "Trinidad and Tobago",
          "Mexico",
          "Argentina",
          "Martinique",
          "Uruguay",
          "Grenada",
          "Saint Lucia",
          "Falkland Islands",
          "Greenland",
          "Guadeloupe"
         ],
         "legendgroup": "Americas",
         "marker": {
          "color": "#EF553B",
          "size": [
           54.381583,
           52.828246,
           50.591798,
           56.5185,
           50.790329,
           50.404915,
           50.30645,
           88.067913,
           60.062994,
           55.139053,
           68.24986799999999,
           101.265841,
           60.953714,
           56.702379,
           69.212362,
           67.888474,
           61.541683,
           52.973462,
           382.91507400000006,
           57.219640999999996,
           61.317498,
           83.359415,
           50.004981,
           263.99344099999996,
           78.704947,
           50.396914,
           61.832936000000004,
           51.403374,
           180.26222,
           95.605823,
           50.374743,
           53.485152,
           50.113015,
           50.184401,
           50.003528,
           50.056868,
           50.400013
          ],
          "sizemode": "area",
          "sizeref": 3.735540255,
          "symbol": "circle"
         },
         "mode": "markers",
         "name": "Americas",
         "orientation": "v",
         "showlegend": true,
         "type": "scatter",
         "x": [
          24.46347906883284,
          36.82980217406255,
          23.180705295807293,
          31.44169733427722,
          18.201209053079435,
          18.222726582716327,
          26.750516599297093,
          22.594944404774083,
          37.74370546622144,
          27.934540922871243,
          35.3367985712021,
          41.617185049479666,
          45.21927227095034,
          35.169568859793785,
          37.19870433867228,
          30.964383014325104,
          10.859567133415432,
          46.36652338115585,
          37.41752580444206,
          47.69925073117672,
          46.21718732156204,
          54.812510668063815,
          70.96674544075778,
          48.23692539423189,
          49.54203457068103,
          66.26507628662651,
          40.41983799936194,
          53.701347939490915,
          57.589164657768436,
          45.79318065026022,
          74.12850832135986,
          56.93774602464671,
          58.35977226634894,
          77.98608100315765,
          73.7642111177805,
          60.586849194501845,
          66.79358071111243
         ],
         "xaxis": "x",
         "y": [
          1071887.640088538,
          1041637.4067958372,
          137182.95032648163,
          2049527.0407348606,
          143849.43349711216,
          73786.55334240582,
          81976.95811854594,
          8601423.778407767,
          3798146.8164435355,
          1435570.8633330422,
          6448919.094670269,
          21335399.916142017,
          4953189.757441205,
          2357197.7976493575,
          7146749.736855424,
          5539055.604777961,
          1253376.8137109962,
          1378690.9534597844,
          124568583.7208274,
          3443714.6624808335,
          5230629.250774037,
          18285132.905678682,
          3534.853590404144,
          103223856.48371963,
          14221014.766235666,
          263015.3648923007,
          4782853.561768178,
          753630.7546323513,
          75016924.36266457,
          20884356.913427923,
          277791.3959387136,
          1984366.9943328951,
          65955.29662681423,
          143807.11323063273,
          2602.401368235296,
          34454.529399929306,
          267183.0060099421
         ],
         "yaxis": "y"
        },
        {
         "hovertemplate": "<b>%{hovertext}</b><br><br>region=Asia<br>percent_without_water=%{x}<br>country_pop_without_water=%{y}<br>bubble_size=%{marker.size}<extra></extra>",
         "hovertext": [
          "Brunei",
          "Philippines",
          "Vietnam",
          "Japan",
          "Azerbaijan",
          "Georgia",
          "Nepal",
          "Kyrgyzstan",
          "Armenia",
          "Bangladesh",
          "Thailand",
          "Myanmar",
          "Pakistan",
          "Laos",
          "Taiwan",
          "Cambodia",
          "China",
          "Malaysia",
          "Uzbekistan",
          "Sri Lanka",
          "Mongolia",
          "Turkey",
          "North Korea",
          "Tajikistan",
          "India",
          "Iraq",
          "Bhutan",
          "Kazakhstan",
          "Indonesia",
          "South Korea",
          "Iran",
          "Afghanistan",
          "Lebanon",
          "Syria",
          "Jordan",
          "Singapore",
          "Israel",
          "Turkmenistan",
          "Palestine",
          "Yemen",
          "Hong Kong",
          "Timor",
          "Oman",
          "Kuwait",
          "United Arab Emirates",
          "Qatar",
          "Saudi Arabia"
         ],
         "legendgroup": "Asia",
         "marker": {
          "color": "#00cc96",
          "size": [
           50.441532,
           161.04690999999997,
           148.16882900000002,
           176.050796,
           60.223344,
           53.979773,
           79.67492,
           56.628347,
           52.968128,
           216.303494,
           119.950844,
           104.80601399999999,
           275.199929,
           57.379357999999996,
           73.855008,
           66.946446,
           1494.216102,
           82.776195,
           83.935765,
           71.497306,
           53.329282,
           135.042736,
           75.887045,
           59.749624999999995,
           1443.409033,
           91.179351,
           50.7799,
           68.994958,
           326.36178799999993,
           101.305184,
           135.02876,
           89.83542800000001,
           56.769151,
           68.27570399999999,
           60.269022,
           55.896684,
           58.789776,
           56.117933,
           55.222756000000004,
           80.490639,
           57.5528,
           51.343875,
           55.223376,
           54.328553,
           59.991083,
           52.930524,
           85.34067999999999
          ],
          "sizemode": "area",
          "sizeref": 3.735540255,
          "symbol": "circle"
         },
         "mode": "markers",
         "name": "Asia",
         "orientation": "v",
         "showlegend": true,
         "type": "scatter",
         "x": [
          27.514984123003146,
          24.535811901036293,
          7.741581602714332,
          19.362927834558306,
          36.24742820266743,
          37.519152223328625,
          13.412913777827951,
          33.408683299506166,
          44.596544966360206,
          5.520324576341044,
          20.270174102353096,
          8.375122825790452,
          8.484379786305945,
          9.001250873115465,
          25.23654292569078,
          7.388730752732157,
          18.895544953974362,
          36.699705285292204,
          32.14079593898446,
          14.106914485770568,
          13.17230582843488,
          45.2475297806932,
          39.14114800986497,
          32.25514064676909,
          17.503565686329782,
          40.60351611887849,
          64.7171780816991,
          43.81127558495692,
          16.82366454174556,
          43.89416122065924,
          63.76352011105955,
          13.325429103593883,
          69.87647031264734,
          52.115383285682405,
          73.38638598862211,
          63.59810159707876,
          78.71351269669958,
          40.10730478711288,
          47.22876994827907,
          52.753400499749425,
          87.35620494272219,
          64.51093323606007,
          92.83903791676235,
          91.5,
          99.98252166214934,
          100,
          83.18506341659113
         ],
         "xaxis": "x",
         "y": [
          121487.45969797827,
          27246260.95951306,
          7599820.005464093,
          24407124.66436631,
          3705699.276311707,
          1493177.0900129322,
          3980271.4332394223,
          2214443.457222318,
          1323682.538179128,
          9180492.650595853,
          14179157.864865413,
          4590070.988419911,
          19106817.254851338,
          664234.5264053158,
          6020179.3338469695,
          1252127.2670971483,
          272892502.7859462,
          12028766.96873268,
          10907224.978983313,
          3032606.5741644255,
          438543.20693103323,
          38479737.2979163,
          10132486.59883035,
          3144755.2562825605,
          243896265.37040764,
          16720264.420934549,
          504729.2718591714,
          8321933.396626822,
          46494180.13469003,
          22519980.17951587,
          54217330.482784554,
          5308241.716253187,
          4730043.788933271,
          9524453.187756788,
          7536064.122176524,
          3750179.0811786884,
          6918741.447771452,
          2453738.0349813583,
          2466643.416199942,
          16084848.906602792,
          6597839.446913921,
          866946.3040261021,
          4849332.025175065,
          3960625.995,
          9989336.72475832,
          2930524.0000000005,
          29398167.06985454
         ],
         "yaxis": "y"
        },
        {
         "hovertemplate": "<b>%{hovertext}</b><br><br>region=Europe<br>percent_without_water=%{x}<br>country_pop_without_water=%{y}<br>bubble_size=%{marker.size}<extra></extra>",
         "hovertext": [
          "Sweden",
          "Norway",
          "Netherlands",
          "Albania",
          "France",
          "Slovakia",
          "Slovenia",
          "Estonia",
          "Switzerland",
          "Moldova",
          "Austria",
          "Lithuania",
          "Hungary",
          "United Kingdom",
          "Latvia",
          "Italy",
          "North Macedonia",
          "Poland",
          "Romania",
          "Belarus",
          "Ireland",
          "Bulgaria",
          "Belgium",
          "Bosnia and Herzegovina",
          "Ukraine",
          "Russia",
          "Serbia",
          "Czechia",
          "Germany",
          "Finland",
          "Liechtenstein",
          "Montenegro",
          "Denmark",
          "Croatia",
          "Spain",
          "Portugal",
          "Andorra",
          "Malta",
          "Isle of Man",
          "Luxembourg",
          "Cyprus",
          "Faeroe Islands",
          "Iceland",
          "Greece"
         ],
         "legendgroup": "Europe",
         "marker": {
          "color": "#ab63fa",
          "size": [
           60.160159,
           55.465629,
           67.17309399999999,
           52.872934,
           115.426177,
           55.460726,
           52.078723,
           51.325188,
           58.715494,
           54.024025,
           59.043071999999995,
           52.689862,
           59.634162,
           118.207114,
           51.866934,
           110.367471,
           52.082661,
           87.797,
           69.12777200000001,
           59.442867,
           54.982904,
           56.896655,
           61.632334,
           53.263459,
           93.466822,
           195.91202199999998,
           58.697547,
           60.724553,
           133.900471,
           55.548361,
           50.038254,
           50.628051,
           55.813302,
           54.081657,
           96.745211,
           60.167923,
           50.077354,
           50.44279,
           50.08541,
           50.634814,
           51.215588,
           50.049053,
           50.34336,
           60.370747
          ],
          "sizemode": "area",
          "sizeref": 3.735540255,
          "symbol": "circle"
         },
         "mode": "markers",
         "name": "Europe",
         "orientation": "v",
         "showlegend": true,
         "type": "scatter",
         "x": [
          13.52653336947022,
          21.881218380992422,
          8.974215210236162,
          23.80657157611662,
          19.258912778721033,
          23.68679727117604,
          15.252245898566718,
          34.70282195216336,
          12.659708712825257,
          24.06822026837627,
          7.2890802127695276,
          28.435798793837947,
          35.37287528481372,
          26.91109799668422,
          42.9788448175932,
          23.965865352052354,
          22.547859753956228,
          18.08995133095955,
          24.922624782560494,
          30.597093222708526,
          31.536783576202893,
          43.43468005810409,
          18.930143536720653,
          34.33501325492488,
          23.634085810587834,
          40.93505941039815,
          35.863857180491664,
          34.41073428796205,
          16.64460339188702,
          15.683776850493533,
          16.688,
          48.28492831418998,
          23.802452104670277,
          36.81302891921521,
          31.28399042987659,
          45.40523984963152,
          21.939580046688548,
          59.35614923133876,
          48.251787633328554,
          23.571668396527777,
          47.87022230448233,
          52.08424407195239,
          46.825509122299806,
          68.75832538521675
         ],
         "xaxis": "x",
         "y": [
          1374317.2975262317,
          1195946.2173848522,
          1541150.4138161538,
          683947.0890445904,
          12600370.362881642,
          1293471.0971544005,
          317051.94351006305,
          459877.63217143476,
          1103356.1532837625,
          968511.2006545283,
          659156.7717785015,
          764883.7461519053,
          3407880.1089969156,
          18355283.28925012,
          802386.6667068854,
          14467586.816299252,
          469595.4814303423,
          6837458.904562781,
          4767142.844823668,
          2889242.81888638,
          1571447.650289957,
          2995540.033961239,
          2202017.522870759,
          1120509.080219039,
          10272986.01061547,
          59729172.89261321,
          3119275.8342861375,
          3690397.436401663,
          13964900.641875189,
          870192.5580998115,
          6383.827519999999,
          303253.9751265534,
          1383708.4242498395,
          1502581.571793172,
          14623767.335665619,
          4616769.825875848,
          16971.14274931546,
          262823.0931814449,
          41211.85181762592,
          149636.25101473383,
          581904.6779066107,
          25548.884244614812,
          160780.06812232864,
          7130751.967137605
         ],
         "yaxis": "y"
        },
        {
         "hovertemplate": "<b>%{hovertext}</b><br><br>region=Oceania<br>percent_without_water=%{x}<br>country_pop_without_water=%{y}<br>bubble_size=%{marker.size}<extra></extra>",
         "hovertext": [
          "Papua New Guinea",
          "New Zealand",
          "Australia",
          "New Caledonia",
          "Solomon Islands",
          "Vanuatu",
          "Fiji",
          "Samoa"
         ],
         "legendgroup": "Oceania",
         "marker": {
          "color": "#FFA15A",
          "size": [
           59.119005,
           54.860642,
           75.788217,
           50.288217,
           50.703995,
           50.314464,
           50.902899,
           50.200144
          ],
          "sizemode": "area",
          "sizeref": 3.735540255,
          "symbol": "circle"
         },
         "mode": "markers",
         "name": "Oceania",
         "orientation": "v",
         "showlegend": true,
         "type": "scatter",
         "x": [
          3.632780100511119,
          30.67567067178118,
          25.774497085045965,
          49.43580721185632,
          24.26222960258683,
          28.537065180678223,
          52.12970742838047,
          59.714751452937996
         ],
         "xaxis": "x",
         "y": [
          331273.399004614,
          1491034.532454278,
          6646783.238950328,
          142482.40047179593,
          170804.88329073117,
          89738.79664976796,
          470678.607073773,
          119515.49214796822
         ],
         "yaxis": "y"
        }
       ],
       "layout": {
        "legend": {
         "itemsizing": "constant",
         "title": {
          "text": "region"
         },
         "tracegroupgap": 0
        },
        "template": {
         "data": {
          "bar": [
           {
            "error_x": {
             "color": "#2a3f5f"
            },
            "error_y": {
             "color": "#2a3f5f"
            },
            "marker": {
             "line": {
              "color": "#E5ECF6",
              "width": 0.5
             },
             "pattern": {
              "fillmode": "overlay",
              "size": 10,
              "solidity": 0.2
             }
            },
            "type": "bar"
           }
          ],
          "barpolar": [
           {
            "marker": {
             "line": {
              "color": "#E5ECF6",
              "width": 0.5
             },
             "pattern": {
              "fillmode": "overlay",
              "size": 10,
              "solidity": 0.2
             }
            },
            "type": "barpolar"
           }
          ],
          "carpet": [
           {
            "aaxis": {
             "endlinecolor": "#2a3f5f",
             "gridcolor": "white",
             "linecolor": "white",
             "minorgridcolor": "white",
             "startlinecolor": "#2a3f5f"
            },
            "baxis": {
             "endlinecolor": "#2a3f5f",
             "gridcolor": "white",
             "linecolor": "white",
             "minorgridcolor": "white",
             "startlinecolor": "#2a3f5f"
            },
            "type": "carpet"
           }
          ],
          "choropleth": [
           {
            "colorbar": {
             "outlinewidth": 0,
             "ticks": ""
            },
            "type": "choropleth"
           }
          ],
          "contour": [
           {
            "colorbar": {
             "outlinewidth": 0,
             "ticks": ""
            },
            "colorscale": [
             [
              0,
              "#0d0887"
             ],
             [
              0.1111111111111111,
              "#46039f"
             ],
             [
              0.2222222222222222,
              "#7201a8"
             ],
             [
              0.3333333333333333,
              "#9c179e"
             ],
             [
              0.4444444444444444,
              "#bd3786"
             ],
             [
              0.5555555555555556,
              "#d8576b"
             ],
             [
              0.6666666666666666,
              "#ed7953"
             ],
             [
              0.7777777777777778,
              "#fb9f3a"
             ],
             [
              0.8888888888888888,
              "#fdca26"
             ],
             [
              1,
              "#f0f921"
             ]
            ],
            "type": "contour"
           }
          ],
          "contourcarpet": [
           {
            "colorbar": {
             "outlinewidth": 0,
             "ticks": ""
            },
            "type": "contourcarpet"
           }
          ],
          "heatmap": [
           {
            "colorbar": {
             "outlinewidth": 0,
             "ticks": ""
            },
            "colorscale": [
             [
              0,
              "#0d0887"
             ],
             [
              0.1111111111111111,
              "#46039f"
             ],
             [
              0.2222222222222222,
              "#7201a8"
             ],
             [
              0.3333333333333333,
              "#9c179e"
             ],
             [
              0.4444444444444444,
              "#bd3786"
             ],
             [
              0.5555555555555556,
              "#d8576b"
             ],
             [
              0.6666666666666666,
              "#ed7953"
             ],
             [
              0.7777777777777778,
              "#fb9f3a"
             ],
             [
              0.8888888888888888,
              "#fdca26"
             ],
             [
              1,
              "#f0f921"
             ]
            ],
            "type": "heatmap"
           }
          ],
          "heatmapgl": [
           {
            "colorbar": {
             "outlinewidth": 0,
             "ticks": ""
            },
            "colorscale": [
             [
              0,
              "#0d0887"
             ],
             [
              0.1111111111111111,
              "#46039f"
             ],
             [
              0.2222222222222222,
              "#7201a8"
             ],
             [
              0.3333333333333333,
              "#9c179e"
             ],
             [
              0.4444444444444444,
              "#bd3786"
             ],
             [
              0.5555555555555556,
              "#d8576b"
             ],
             [
              0.6666666666666666,
              "#ed7953"
             ],
             [
              0.7777777777777778,
              "#fb9f3a"
             ],
             [
              0.8888888888888888,
              "#fdca26"
             ],
             [
              1,
              "#f0f921"
             ]
            ],
            "type": "heatmapgl"
           }
          ],
          "histogram": [
           {
            "marker": {
             "pattern": {
              "fillmode": "overlay",
              "size": 10,
              "solidity": 0.2
             }
            },
            "type": "histogram"
           }
          ],
          "histogram2d": [
           {
            "colorbar": {
             "outlinewidth": 0,
             "ticks": ""
            },
            "colorscale": [
             [
              0,
              "#0d0887"
             ],
             [
              0.1111111111111111,
              "#46039f"
             ],
             [
              0.2222222222222222,
              "#7201a8"
             ],
             [
              0.3333333333333333,
              "#9c179e"
             ],
             [
              0.4444444444444444,
              "#bd3786"
             ],
             [
              0.5555555555555556,
              "#d8576b"
             ],
             [
              0.6666666666666666,
              "#ed7953"
             ],
             [
              0.7777777777777778,
              "#fb9f3a"
             ],
             [
              0.8888888888888888,
              "#fdca26"
             ],
             [
              1,
              "#f0f921"
             ]
            ],
            "type": "histogram2d"
           }
          ],
          "histogram2dcontour": [
           {
            "colorbar": {
             "outlinewidth": 0,
             "ticks": ""
            },
            "colorscale": [
             [
              0,
              "#0d0887"
             ],
             [
              0.1111111111111111,
              "#46039f"
             ],
             [
              0.2222222222222222,
              "#7201a8"
             ],
             [
              0.3333333333333333,
              "#9c179e"
             ],
             [
              0.4444444444444444,
              "#bd3786"
             ],
             [
              0.5555555555555556,
              "#d8576b"
             ],
             [
              0.6666666666666666,
              "#ed7953"
             ],
             [
              0.7777777777777778,
              "#fb9f3a"
             ],
             [
              0.8888888888888888,
              "#fdca26"
             ],
             [
              1,
              "#f0f921"
             ]
            ],
            "type": "histogram2dcontour"
           }
          ],
          "mesh3d": [
           {
            "colorbar": {
             "outlinewidth": 0,
             "ticks": ""
            },
            "type": "mesh3d"
           }
          ],
          "parcoords": [
           {
            "line": {
             "colorbar": {
              "outlinewidth": 0,
              "ticks": ""
             }
            },
            "type": "parcoords"
           }
          ],
          "pie": [
           {
            "automargin": true,
            "type": "pie"
           }
          ],
          "scatter": [
           {
            "fillpattern": {
             "fillmode": "overlay",
             "size": 10,
             "solidity": 0.2
            },
            "type": "scatter"
           }
          ],
          "scatter3d": [
           {
            "line": {
             "colorbar": {
              "outlinewidth": 0,
              "ticks": ""
             }
            },
            "marker": {
             "colorbar": {
              "outlinewidth": 0,
              "ticks": ""
             }
            },
            "type": "scatter3d"
           }
          ],
          "scattercarpet": [
           {
            "marker": {
             "colorbar": {
              "outlinewidth": 0,
              "ticks": ""
             }
            },
            "type": "scattercarpet"
           }
          ],
          "scattergeo": [
           {
            "marker": {
             "colorbar": {
              "outlinewidth": 0,
              "ticks": ""
             }
            },
            "type": "scattergeo"
           }
          ],
          "scattergl": [
           {
            "marker": {
             "colorbar": {
              "outlinewidth": 0,
              "ticks": ""
             }
            },
            "type": "scattergl"
           }
          ],
          "scattermapbox": [
           {
            "marker": {
             "colorbar": {
              "outlinewidth": 0,
              "ticks": ""
             }
            },
            "type": "scattermapbox"
           }
          ],
          "scatterpolar": [
           {
            "marker": {
             "colorbar": {
              "outlinewidth": 0,
              "ticks": ""
             }
            },
            "type": "scatterpolar"
           }
          ],
          "scatterpolargl": [
           {
            "marker": {
             "colorbar": {
              "outlinewidth": 0,
              "ticks": ""
             }
            },
            "type": "scatterpolargl"
           }
          ],
          "scatterternary": [
           {
            "marker": {
             "colorbar": {
              "outlinewidth": 0,
              "ticks": ""
             }
            },
            "type": "scatterternary"
           }
          ],
          "surface": [
           {
            "colorbar": {
             "outlinewidth": 0,
             "ticks": ""
            },
            "colorscale": [
             [
              0,
              "#0d0887"
             ],
             [
              0.1111111111111111,
              "#46039f"
             ],
             [
              0.2222222222222222,
              "#7201a8"
             ],
             [
              0.3333333333333333,
              "#9c179e"
             ],
             [
              0.4444444444444444,
              "#bd3786"
             ],
             [
              0.5555555555555556,
              "#d8576b"
             ],
             [
              0.6666666666666666,
              "#ed7953"
             ],
             [
              0.7777777777777778,
              "#fb9f3a"
             ],
             [
              0.8888888888888888,
              "#fdca26"
             ],
             [
              1,
              "#f0f921"
             ]
            ],
            "type": "surface"
           }
          ],
          "table": [
           {
            "cells": {
             "fill": {
              "color": "#EBF0F8"
             },
             "line": {
              "color": "white"
             }
            },
            "header": {
             "fill": {
              "color": "#C8D4E3"
             },
             "line": {
              "color": "white"
             }
            },
            "type": "table"
           }
          ]
         },
         "layout": {
          "annotationdefaults": {
           "arrowcolor": "#2a3f5f",
           "arrowhead": 0,
           "arrowwidth": 1
          },
          "autotypenumbers": "strict",
          "coloraxis": {
           "colorbar": {
            "outlinewidth": 0,
            "ticks": ""
           }
          },
          "colorscale": {
           "diverging": [
            [
             0,
             "#8e0152"
            ],
            [
             0.1,
             "#c51b7d"
            ],
            [
             0.2,
             "#de77ae"
            ],
            [
             0.3,
             "#f1b6da"
            ],
            [
             0.4,
             "#fde0ef"
            ],
            [
             0.5,
             "#f7f7f7"
            ],
            [
             0.6,
             "#e6f5d0"
            ],
            [
             0.7,
             "#b8e186"
            ],
            [
             0.8,
             "#7fbc41"
            ],
            [
             0.9,
             "#4d9221"
            ],
            [
             1,
             "#276419"
            ]
           ],
           "sequential": [
            [
             0,
             "#0d0887"
            ],
            [
             0.1111111111111111,
             "#46039f"
            ],
            [
             0.2222222222222222,
             "#7201a8"
            ],
            [
             0.3333333333333333,
             "#9c179e"
            ],
            [
             0.4444444444444444,
             "#bd3786"
            ],
            [
             0.5555555555555556,
             "#d8576b"
            ],
            [
             0.6666666666666666,
             "#ed7953"
            ],
            [
             0.7777777777777778,
             "#fb9f3a"
            ],
            [
             0.8888888888888888,
             "#fdca26"
            ],
            [
             1,
             "#f0f921"
            ]
           ],
           "sequentialminus": [
            [
             0,
             "#0d0887"
            ],
            [
             0.1111111111111111,
             "#46039f"
            ],
            [
             0.2222222222222222,
             "#7201a8"
            ],
            [
             0.3333333333333333,
             "#9c179e"
            ],
            [
             0.4444444444444444,
             "#bd3786"
            ],
            [
             0.5555555555555556,
             "#d8576b"
            ],
            [
             0.6666666666666666,
             "#ed7953"
            ],
            [
             0.7777777777777778,
             "#fb9f3a"
            ],
            [
             0.8888888888888888,
             "#fdca26"
            ],
            [
             1,
             "#f0f921"
            ]
           ]
          },
          "colorway": [
           "#636efa",
           "#EF553B",
           "#00cc96",
           "#ab63fa",
           "#FFA15A",
           "#19d3f3",
           "#FF6692",
           "#B6E880",
           "#FF97FF",
           "#FECB52"
          ],
          "font": {
           "color": "#2a3f5f"
          },
          "geo": {
           "bgcolor": "white",
           "lakecolor": "white",
           "landcolor": "#E5ECF6",
           "showlakes": true,
           "showland": true,
           "subunitcolor": "white"
          },
          "hoverlabel": {
           "align": "left"
          },
          "hovermode": "closest",
          "mapbox": {
           "style": "light"
          },
          "paper_bgcolor": "white",
          "plot_bgcolor": "#E5ECF6",
          "polar": {
           "angularaxis": {
            "gridcolor": "white",
            "linecolor": "white",
            "ticks": ""
           },
           "bgcolor": "#E5ECF6",
           "radialaxis": {
            "gridcolor": "white",
            "linecolor": "white",
            "ticks": ""
           }
          },
          "scene": {
           "xaxis": {
            "backgroundcolor": "#E5ECF6",
            "gridcolor": "white",
            "gridwidth": 2,
            "linecolor": "white",
            "showbackground": true,
            "ticks": "",
            "zerolinecolor": "white"
           },
           "yaxis": {
            "backgroundcolor": "#E5ECF6",
            "gridcolor": "white",
            "gridwidth": 2,
            "linecolor": "white",
            "showbackground": true,
            "ticks": "",
            "zerolinecolor": "white"
           },
           "zaxis": {
            "backgroundcolor": "#E5ECF6",
            "gridcolor": "white",
            "gridwidth": 2,
            "linecolor": "white",
            "showbackground": true,
            "ticks": "",
            "zerolinecolor": "white"
           }
          },
          "shapedefaults": {
           "line": {
            "color": "#2a3f5f"
           }
          },
          "ternary": {
           "aaxis": {
            "gridcolor": "white",
            "linecolor": "white",
            "ticks": ""
           },
           "baxis": {
            "gridcolor": "white",
            "linecolor": "white",
            "ticks": ""
           },
           "bgcolor": "#E5ECF6",
           "caxis": {
            "gridcolor": "white",
            "linecolor": "white",
            "ticks": ""
           }
          },
          "title": {
           "x": 0.05
          },
          "xaxis": {
           "automargin": true,
           "gridcolor": "white",
           "linecolor": "white",
           "ticks": "",
           "title": {
            "standoff": 15
           },
           "zerolinecolor": "white",
           "zerolinewidth": 2
          },
          "yaxis": {
           "automargin": true,
           "gridcolor": "white",
           "linecolor": "white",
           "ticks": "",
           "title": {
            "standoff": 15
           },
           "zerolinecolor": "white",
           "zerolinewidth": 2
          }
         }
        },
        "title": {
         "text": "Population vs. Percent Without Water"
        },
        "xaxis": {
         "anchor": "y",
         "domain": [
          0,
          1
         ],
         "title": {
          "text": "percent_without_water"
         }
        },
        "yaxis": {
         "anchor": "x",
         "domain": [
          0,
          1
         ],
         "title": {
          "text": "country_pop_without_water"
         }
        }
       }
      }
     },
     "metadata": {},
     "output_type": "display_data"
    }
   ],
   "source": [
    "# plot the countries by population withgout water and percent without water\n",
    "px.scatter(df_countries, x=\"percent_without_water\", y=\"country_pop_without_water\", size=\"bubble_size\", color=\"region\", hover_name=\"bubble_text\", title=\"Population vs. Percent Without Water\")\n"
   ]
  },
  {
   "cell_type": "code",
   "execution_count": 16,
   "metadata": {},
   "outputs": [
    {
     "data": {
      "text/html": [
       "<div>\n",
       "<style scoped>\n",
       "    .dataframe tbody tr th:only-of-type {\n",
       "        vertical-align: middle;\n",
       "    }\n",
       "\n",
       "    .dataframe tbody tr th {\n",
       "        vertical-align: top;\n",
       "    }\n",
       "\n",
       "    .dataframe thead th {\n",
       "        text-align: right;\n",
       "    }\n",
       "</style>\n",
       "<table border=\"1\" class=\"dataframe\">\n",
       "  <thead>\n",
       "    <tr style=\"text-align: right;\">\n",
       "      <th></th>\n",
       "      <th>zone_pop_unpiped</th>\n",
       "      <th>zone_pop_piped</th>\n",
       "      <th>pop_zone</th>\n",
       "    </tr>\n",
       "  </thead>\n",
       "  <tbody>\n",
       "    <tr>\n",
       "      <th>count</th>\n",
       "      <td>7295.000000</td>\n",
       "      <td>7295.000000</td>\n",
       "      <td>7295.000000</td>\n",
       "    </tr>\n",
       "    <tr>\n",
       "      <th>mean</th>\n",
       "      <td>580.012175</td>\n",
       "      <td>94.420587</td>\n",
       "      <td>674.432762</td>\n",
       "    </tr>\n",
       "    <tr>\n",
       "      <th>std</th>\n",
       "      <td>2720.028016</td>\n",
       "      <td>442.795258</td>\n",
       "      <td>3162.823274</td>\n",
       "    </tr>\n",
       "    <tr>\n",
       "      <th>min</th>\n",
       "      <td>4.751983</td>\n",
       "      <td>0.773579</td>\n",
       "      <td>5.525561</td>\n",
       "    </tr>\n",
       "    <tr>\n",
       "      <th>25%</th>\n",
       "      <td>68.363462</td>\n",
       "      <td>11.128936</td>\n",
       "      <td>79.492397</td>\n",
       "    </tr>\n",
       "    <tr>\n",
       "      <th>50%</th>\n",
       "      <td>226.394859</td>\n",
       "      <td>36.854977</td>\n",
       "      <td>263.249836</td>\n",
       "    </tr>\n",
       "    <tr>\n",
       "      <th>75%</th>\n",
       "      <td>667.920466</td>\n",
       "      <td>108.731239</td>\n",
       "      <td>776.651705</td>\n",
       "    </tr>\n",
       "    <tr>\n",
       "      <th>max</th>\n",
       "      <td>85345.360830</td>\n",
       "      <td>13893.430833</td>\n",
       "      <td>99238.791662</td>\n",
       "    </tr>\n",
       "  </tbody>\n",
       "</table>\n",
       "</div>"
      ],
      "text/plain": [
       "       zone_pop_unpiped  zone_pop_piped      pop_zone\n",
       "count       7295.000000     7295.000000   7295.000000\n",
       "mean         580.012175       94.420587    674.432762\n",
       "std         2720.028016      442.795258   3162.823274\n",
       "min            4.751983        0.773579      5.525561\n",
       "25%           68.363462       11.128936     79.492397\n",
       "50%          226.394859       36.854977    263.249836\n",
       "75%          667.920466      108.731239    776.651705\n",
       "max        85345.360830    13893.430833  99238.791662"
      ]
     },
     "execution_count": 16,
     "metadata": {},
     "output_type": "execute_result"
    }
   ],
   "source": [
    "# summary statistics of zones by for slected country\n",
    "# select country\n",
    "country = \"CAF\"\n",
    "\n",
    "# interertsinbg ciolumns\n",
    "interesting_cols =[\n",
    "    \"Entity\",\n",
    "    \"dtw_1\",\n",
    "    \"pop_zone\",\n",
    "    \"country_pop_raw\",\n",
    "    \"population_piped_with_access\",\n",
    "    \"population_piped_with_cycling_access\",\n",
    "    \"population_piped_with_walking_access\",\n",
    "    \"Nat Piped\",\n",
    "    \"region\",\n",
    "]\n",
    "\n",
    "other_cols = [\n",
    "    \"zone_pop_unpiped\",\n",
    "    \"zone_pop_piped\",\n",
    "    \"pop_zone\"\n",
    "\n",
    "]\n",
    "\n",
    "# create dataframe of zones for selected country\n",
    "df_zones_country = df_zones[df_zones[\"ISOCODE\"] == country]\n",
    "df_zones_country = df_zones_country[other_cols]\n",
    "\n",
    "# create summary statistics\n",
    "df_zones_country.describe()\n",
    "\n",
    "\n",
    "\n",
    "\n",
    "\n"
   ]
  },
  {
   "cell_type": "code",
   "execution_count": 17,
   "metadata": {},
   "outputs": [
    {
     "data": {
      "application/vnd.plotly.v1+json": {
       "config": {
        "plotlyServerURL": "https://plotly.com"
       },
       "data": [
        {
         "alignmentgroup": "True",
         "customdata": [
          [
           "Mauritius"
          ],
          [
           "Congo"
          ],
          [
           "Panama"
          ],
          [
           "Puerto Rico"
          ],
          [
           "Brunei"
          ],
          [
           "Eswatini"
          ],
          [
           "Sweden"
          ],
          [
           "Suriname"
          ],
          [
           "Norway"
          ],
          [
           "Lesotho"
          ],
          [
           "Netherlands"
          ],
          [
           "Philippines"
          ],
          [
           "Papua New Guinea"
          ],
          [
           "Vietnam"
          ],
          [
           "Albania"
          ],
          [
           "Japan"
          ],
          [
           "Azerbaijan"
          ],
          [
           "France"
          ],
          [
           "El Salvador"
          ],
          [
           "Slovakia"
          ],
          [
           "Georgia"
          ],
          [
           "Slovenia"
          ],
          [
           "Estonia"
          ],
          [
           "Nepal"
          ],
          [
           "Switzerland"
          ],
          [
           "New Zealand"
          ],
          [
           "Kyrgyzstan"
          ],
          [
           "Moldova"
          ],
          [
           "Armenia"
          ],
          [
           "Australia"
          ],
          [
           "Austria"
          ],
          [
           "Lithuania"
          ],
          [
           "Malawi"
          ],
          [
           "Bangladesh"
          ],
          [
           "Thailand"
          ],
          [
           "Myanmar"
          ],
          [
           "Hungary"
          ],
          [
           "Guyana"
          ],
          [
           "Belize"
          ],
          [
           "United Kingdom"
          ],
          [
           "Latvia"
          ],
          [
           "Pakistan"
          ],
          [
           "French Guiana"
          ],
          [
           "Italy"
          ],
          [
           "Zambia"
          ],
          [
           "North Macedonia"
          ],
          [
           "Poland"
          ],
          [
           "Laos"
          ],
          [
           "Romania"
          ],
          [
           "Central African Republic"
          ],
          [
           "Canada"
          ],
          [
           "Taiwan"
          ],
          [
           "Democratic Republic of Congo"
          ],
          [
           "Uganda"
          ],
          [
           "Tanzania"
          ],
          [
           "Sierra Leone"
          ],
          [
           "Belarus"
          ],
          [
           "Ireland"
          ],
          [
           "Mozambique"
          ],
          [
           "Bulgaria"
          ],
          [
           "Belgium"
          ],
          [
           "Burundi"
          ],
          [
           "Bosnia and Herzegovina"
          ],
          [
           "Ukraine"
          ],
          [
           "South Africa"
          ],
          [
           "Honduras"
          ],
          [
           "Russia"
          ],
          [
           "Serbia"
          ],
          [
           "Cambodia"
          ],
          [
           "New Caledonia"
          ],
          [
           "Equatorial Guinea"
          ],
          [
           "Guinea"
          ],
          [
           "China"
          ],
          [
           "Costa Rica"
          ],
          [
           "Malaysia"
          ],
          [
           "Czechia"
          ],
          [
           "Germany"
          ],
          [
           "Finland"
          ],
          [
           "Uzbekistan"
          ],
          [
           "Liechtenstein"
          ],
          [
           "Rwanda"
          ],
          [
           "Sri Lanka"
          ],
          [
           "Togo"
          ],
          [
           "Montenegro"
          ],
          [
           "Mongolia"
          ],
          [
           "Nigeria"
          ],
          [
           "Turkey"
          ],
          [
           "North Korea"
          ],
          [
           "Solomon Islands"
          ],
          [
           "Tajikistan"
          ],
          [
           "Zimbabwe"
          ],
          [
           "Guinea-Bissau"
          ],
          [
           "Guatemala"
          ],
          [
           "India"
          ],
          [
           "Cameroon"
          ],
          [
           "Colombia"
          ],
          [
           "Iraq"
          ],
          [
           "Egypt"
          ],
          [
           "Denmark"
          ],
          [
           "Croatia"
          ],
          [
           "Dominican Republic"
          ],
          [
           "Nicaragua"
          ],
          [
           "Spain"
          ],
          [
           "Vanuatu"
          ],
          [
           "Madagascar"
          ],
          [
           "Chile"
          ],
          [
           "Portugal"
          ],
          [
           "Bhutan"
          ],
          [
           "Fiji"
          ],
          [
           "Ecuador"
          ],
          [
           "Cote d'Ivoire"
          ],
          [
           "Kenya"
          ],
          [
           "Kazakhstan"
          ],
          [
           "Reunion"
          ],
          [
           "Indonesia"
          ],
          [
           "Haiti"
          ],
          [
           "Jamaica"
          ],
          [
           "Andorra"
          ],
          [
           "United States"
          ],
          [
           "Malta"
          ],
          [
           "Angola"
          ],
          [
           "Liberia"
          ],
          [
           "Ghana"
          ],
          [
           "Gambia"
          ],
          [
           "Paraguay"
          ],
          [
           "Isle of Man"
          ],
          [
           "Luxembourg"
          ],
          [
           "Cuba"
          ],
          [
           "Peru"
          ],
          [
           "South Korea"
          ],
          [
           "Gabon"
          ],
          [
           "Montserrat"
          ],
          [
           "Benin"
          ],
          [
           "Brazil"
          ],
          [
           "Cyprus"
          ],
          [
           "Sao Tome and Principe"
          ],
          [
           "Faeroe Islands"
          ],
          [
           "Iceland"
          ],
          [
           "Iran"
          ],
          [
           "Venezuela"
          ],
          [
           "Bahamas"
          ],
          [
           "Bolivia"
          ],
          [
           "Trinidad and Tobago"
          ],
          [
           "Mexico"
          ],
          [
           "Afghanistan"
          ],
          [
           "Argentina"
          ],
          [
           "Samoa"
          ],
          [
           "Lebanon"
          ],
          [
           "Morocco"
          ],
          [
           "Ethiopia"
          ],
          [
           "Algeria"
          ],
          [
           "Martinique"
          ],
          [
           "Greece"
          ],
          [
           "Uruguay"
          ],
          [
           "Syria"
          ],
          [
           "Mali"
          ],
          [
           "Grenada"
          ],
          [
           "Jordan"
          ],
          [
           "South Sudan"
          ],
          [
           "Burkina Faso"
          ],
          [
           "Singapore"
          ],
          [
           "Saint Lucia"
          ],
          [
           "Tunisia"
          ],
          [
           "Falkland Islands"
          ],
          [
           "Israel"
          ],
          [
           "Greenland"
          ],
          [
           "Senegal"
          ],
          [
           "Turkmenistan"
          ],
          [
           "Palestine"
          ],
          [
           "Chad"
          ],
          [
           "Eritrea"
          ],
          [
           "Yemen"
          ],
          [
           "Guadeloupe"
          ],
          [
           "Hong Kong"
          ],
          [
           "Namibia"
          ],
          [
           "Mauritania"
          ],
          [
           "Botswana"
          ],
          [
           "Niger"
          ],
          [
           "Timor"
          ],
          [
           "Djibouti"
          ],
          [
           "Sudan"
          ],
          [
           "Oman"
          ],
          [
           "Somalia"
          ],
          [
           "Kuwait"
          ],
          [
           "Western Sahara"
          ],
          [
           "United Arab Emirates"
          ],
          [
           "Qatar"
          ],
          [
           "Saudi Arabia"
          ],
          [
           "Libya"
          ]
         ],
         "hovertemplate": "variable=country_pop_with_water<br>region=%{x}<br>value=%{y}<br>Entity=%{customdata[0]}<extra></extra>",
         "legendgroup": "country_pop_with_water",
         "marker": {
          "color": "#636efa",
          "pattern": {
           "shape": ""
          }
         },
         "name": "country_pop_with_water",
         "offsetgroup": "country_pop_with_water",
         "orientation": "v",
         "showlegend": true,
         "textposition": "auto",
         "type": "bar",
         "x": [
          "Africa",
          "Africa",
          "Americas",
          "Americas",
          "Asia",
          "Africa",
          "Europe",
          "Americas",
          "Europe",
          "Africa",
          "Europe",
          "Asia",
          "Oceania",
          "Asia",
          "Europe",
          "Asia",
          "Asia",
          "Europe",
          "Americas",
          "Europe",
          "Asia",
          "Europe",
          "Europe",
          "Asia",
          "Europe",
          "Oceania",
          "Asia",
          "Europe",
          "Asia",
          "Oceania",
          "Europe",
          "Europe",
          "Africa",
          "Asia",
          "Asia",
          "Asia",
          "Europe",
          "Americas",
          "Americas",
          "Europe",
          "Europe",
          "Asia",
          "Americas",
          "Europe",
          "Africa",
          "Europe",
          "Europe",
          "Asia",
          "Europe",
          "Africa",
          "Americas",
          "Asia",
          "Africa",
          "Africa",
          "Africa",
          "Africa",
          "Europe",
          "Europe",
          "Africa",
          "Europe",
          "Europe",
          "Africa",
          "Europe",
          "Europe",
          "Africa",
          "Americas",
          "Europe",
          "Europe",
          "Asia",
          "Oceania",
          "Africa",
          "Africa",
          "Asia",
          "Americas",
          "Asia",
          "Europe",
          "Europe",
          "Europe",
          "Asia",
          "Europe",
          "Africa",
          "Asia",
          "Africa",
          "Europe",
          "Asia",
          "Africa",
          "Asia",
          "Asia",
          "Oceania",
          "Asia",
          "Africa",
          "Africa",
          "Americas",
          "Asia",
          "Africa",
          "Americas",
          "Asia",
          "Africa",
          "Europe",
          "Europe",
          "Americas",
          "Americas",
          "Europe",
          "Oceania",
          "Africa",
          "Americas",
          "Europe",
          "Asia",
          "Oceania",
          "Americas",
          "Africa",
          "Africa",
          "Asia",
          "Africa",
          "Asia",
          "Americas",
          "Americas",
          "Europe",
          "Americas",
          "Europe",
          "Africa",
          "Africa",
          "Africa",
          "Africa",
          "Americas",
          "Europe",
          "Europe",
          "Americas",
          "Americas",
          "Asia",
          "Africa",
          "Americas",
          "Africa",
          "Americas",
          "Europe",
          "Africa",
          "Europe",
          "Europe",
          "Asia",
          "Americas",
          "Americas",
          "Americas",
          "Americas",
          "Americas",
          "Asia",
          "Americas",
          "Oceania",
          "Asia",
          "Africa",
          "Africa",
          "Africa",
          "Americas",
          "Europe",
          "Americas",
          "Asia",
          "Africa",
          "Americas",
          "Asia",
          "Africa",
          "Africa",
          "Asia",
          "Americas",
          "Africa",
          "Americas",
          "Asia",
          "Americas",
          "Africa",
          "Asia",
          "Asia",
          "Africa",
          "Africa",
          "Asia",
          "Americas",
          "Asia",
          "Africa",
          "Africa",
          "Africa",
          "Africa",
          "Asia",
          "Africa",
          "Africa",
          "Asia",
          "Africa",
          "Asia",
          "Africa",
          "Asia",
          "Asia",
          "Asia",
          "Africa"
         ],
         "xaxis": "x",
         "y": [
          972505.5182413608,
          4494820.886065929,
          3309695.3599114623,
          1786608.593204163,
          320044.54030202184,
          998487.320312699,
          8785841.702473769,
          454615.04967351834,
          4269682.7826151475,
          1561237.0127677654,
          15631943.586183844,
          83800649.04048693,
          8787731.600995386,
          90569008.99453592,
          2188986.91095541,
          101643671.33563368,
          6517644.723688291,
          52825806.637118354,
          4468972.959265139,
          4167254.902845599,
          2486595.909987068,
          1761671.056489937,
          865310.3678285654,
          25694648.56676058,
          7612137.846716238,
          3369607.4675457217,
          4413903.542777682,
          3055513.799345472,
          1644445.4618208723,
          19141433.76104967,
          8383915.2282214975,
          1924978.253848095,
          18461994.903984036,
          157123001.34940413,
          55771686.135134585,
          50215943.01158008,
          6226281.891003084,
          646479.5665028879,
          331128.4466575942,
          49851830.71074987,
          1064547.3332931146,
          206093111.74514863,
          224473.04188145406,
          45899884.18370075,
          16920775.63412363,
          1613065.5185696578,
          30959541.095437218,
          6715123.473594684,
          14360629.155176334,
          4632529.985775911,
          29466489.221592236,
          17834828.66615303,
          79332081.89739367,
          43502080.95170532,
          53821831.07541015,
          7327991.169091625,
          6553624.181113619,
          3411456.3497100426,
          27379376.19667875,
          3901114.9660387617,
          9430316.47712924,
          10192928.991472235,
          2142949.919780961,
          33193835.989384525,
          33107682.8956775,
          6264847.183556464,
          86182849.10738675,
          5578271.1657138625,
          15694318.73290285,
          145734.59952820407,
          1136957.5705833307,
          11955096.468125863,
          1171323599.2140536,
          3703482.1366669578,
          20747428.031267323,
          7034155.563598338,
          69935570.35812482,
          4678168.441900189,
          23028540.02101669,
          31870.17248,
          10361472.479047004,
          18464699.425835576,
          7500385.294417653,
          324797.0248734467,
          2890738.7930689664,
          201102334.18657038,
          46562998.70208369,
          15754558.40116965,
          533190.1167092689,
          6604869.743717438,
          13158640.316784393,
          1712331.0187207381,
          11800948.905329732,
          1149512767.6295922,
          22121089.5701617,
          29930441.083857987,
          24459086.57906545,
          46064118.95130926,
          4429593.575750161,
          2579075.428206828,
          6000524.242558795,
          4345181.202350642,
          32121443.664334387,
          224725.20335023207,
          23161895.055499196,
          12065612.263144575,
          5551153.1741241515,
          275170.72814082867,
          432220.3929262271,
          12349418.395222036,
          22187771.014354486,
          45373980.36718736,
          10673024.603373181,
          414277.8970195977,
          229867607.86530992,
          10288306.186289003,
          1594771.0465402158,
          60382.85725068455,
          208346490.27917263,
          179966.90681855503,
          25614493.429516286,
          5039931.060716284,
          26036791.988229062,
          1679025.7232149227,
          3775926.337519166,
          44198.14818237408,
          485177.7489852661,
          6086868.749225964,
          15074282.09432132,
          28785203.820484128,
          976191.8716233058,
          1446.146409595855,
          10221921.30730123,
          110769584.51628035,
          633683.3220933893,
          75508.04489574363,
          23504.115755385195,
          182579.93187767142,
          30811429.517215446,
          14483932.233764332,
          133898.6351076992,
          7050082.438231822,
          649743.2453676488,
          55245295.637335435,
          34527186.28374681,
          24721466.086572073,
          80628.50785203178,
          2039107.211066729,
          16666054.836834349,
          80295927.67486821,
          21551237.648209546,
          96951.60406128645,
          3239995.0328623946,
          1500785.005667105,
          8751250.81224321,
          13943666.102843316,
          47059.703373185745,
          2732957.877823477,
          11049571.523298472,
          18132522.10867613,
          2146504.918821313,
          40593.88676936727,
          3164611.28403692,
          925.5986317647034,
          1871034.552228547,
          22413.47060007069,
          6249441.356709611,
          3664194.965018641,
          2756112.583800058,
          14185724.910401994,
          1919944.3960278907,
          14405790.093397206,
          132829.99399005785,
          954960.5530860792,
          548536.6358122079,
          2410244.191570022,
          371465.78501794755,
          15895018.273441728,
          476928.6959738978,
          189481.44120963852,
          26821464.187047098,
          374043.97482493543,
          8930387.455875648,
          367927.005,
          195118.04420229865,
          1746.2752416803814,
          0,
          5942512.930145459,
          1532366.4170658004
         ],
         "yaxis": "y"
        },
        {
         "alignmentgroup": "True",
         "customdata": [
          [
           "Mauritius"
          ],
          [
           "Congo"
          ],
          [
           "Panama"
          ],
          [
           "Puerto Rico"
          ],
          [
           "Brunei"
          ],
          [
           "Eswatini"
          ],
          [
           "Sweden"
          ],
          [
           "Suriname"
          ],
          [
           "Norway"
          ],
          [
           "Lesotho"
          ],
          [
           "Netherlands"
          ],
          [
           "Philippines"
          ],
          [
           "Papua New Guinea"
          ],
          [
           "Vietnam"
          ],
          [
           "Albania"
          ],
          [
           "Japan"
          ],
          [
           "Azerbaijan"
          ],
          [
           "France"
          ],
          [
           "El Salvador"
          ],
          [
           "Slovakia"
          ],
          [
           "Georgia"
          ],
          [
           "Slovenia"
          ],
          [
           "Estonia"
          ],
          [
           "Nepal"
          ],
          [
           "Switzerland"
          ],
          [
           "New Zealand"
          ],
          [
           "Kyrgyzstan"
          ],
          [
           "Moldova"
          ],
          [
           "Armenia"
          ],
          [
           "Australia"
          ],
          [
           "Austria"
          ],
          [
           "Lithuania"
          ],
          [
           "Malawi"
          ],
          [
           "Bangladesh"
          ],
          [
           "Thailand"
          ],
          [
           "Myanmar"
          ],
          [
           "Hungary"
          ],
          [
           "Guyana"
          ],
          [
           "Belize"
          ],
          [
           "United Kingdom"
          ],
          [
           "Latvia"
          ],
          [
           "Pakistan"
          ],
          [
           "French Guiana"
          ],
          [
           "Italy"
          ],
          [
           "Zambia"
          ],
          [
           "North Macedonia"
          ],
          [
           "Poland"
          ],
          [
           "Laos"
          ],
          [
           "Romania"
          ],
          [
           "Central African Republic"
          ],
          [
           "Canada"
          ],
          [
           "Taiwan"
          ],
          [
           "Democratic Republic of Congo"
          ],
          [
           "Uganda"
          ],
          [
           "Tanzania"
          ],
          [
           "Sierra Leone"
          ],
          [
           "Belarus"
          ],
          [
           "Ireland"
          ],
          [
           "Mozambique"
          ],
          [
           "Bulgaria"
          ],
          [
           "Belgium"
          ],
          [
           "Burundi"
          ],
          [
           "Bosnia and Herzegovina"
          ],
          [
           "Ukraine"
          ],
          [
           "South Africa"
          ],
          [
           "Honduras"
          ],
          [
           "Russia"
          ],
          [
           "Serbia"
          ],
          [
           "Cambodia"
          ],
          [
           "New Caledonia"
          ],
          [
           "Equatorial Guinea"
          ],
          [
           "Guinea"
          ],
          [
           "China"
          ],
          [
           "Costa Rica"
          ],
          [
           "Malaysia"
          ],
          [
           "Czechia"
          ],
          [
           "Germany"
          ],
          [
           "Finland"
          ],
          [
           "Uzbekistan"
          ],
          [
           "Liechtenstein"
          ],
          [
           "Rwanda"
          ],
          [
           "Sri Lanka"
          ],
          [
           "Togo"
          ],
          [
           "Montenegro"
          ],
          [
           "Mongolia"
          ],
          [
           "Nigeria"
          ],
          [
           "Turkey"
          ],
          [
           "North Korea"
          ],
          [
           "Solomon Islands"
          ],
          [
           "Tajikistan"
          ],
          [
           "Zimbabwe"
          ],
          [
           "Guinea-Bissau"
          ],
          [
           "Guatemala"
          ],
          [
           "India"
          ],
          [
           "Cameroon"
          ],
          [
           "Colombia"
          ],
          [
           "Iraq"
          ],
          [
           "Egypt"
          ],
          [
           "Denmark"
          ],
          [
           "Croatia"
          ],
          [
           "Dominican Republic"
          ],
          [
           "Nicaragua"
          ],
          [
           "Spain"
          ],
          [
           "Vanuatu"
          ],
          [
           "Madagascar"
          ],
          [
           "Chile"
          ],
          [
           "Portugal"
          ],
          [
           "Bhutan"
          ],
          [
           "Fiji"
          ],
          [
           "Ecuador"
          ],
          [
           "Cote d'Ivoire"
          ],
          [
           "Kenya"
          ],
          [
           "Kazakhstan"
          ],
          [
           "Reunion"
          ],
          [
           "Indonesia"
          ],
          [
           "Haiti"
          ],
          [
           "Jamaica"
          ],
          [
           "Andorra"
          ],
          [
           "United States"
          ],
          [
           "Malta"
          ],
          [
           "Angola"
          ],
          [
           "Liberia"
          ],
          [
           "Ghana"
          ],
          [
           "Gambia"
          ],
          [
           "Paraguay"
          ],
          [
           "Isle of Man"
          ],
          [
           "Luxembourg"
          ],
          [
           "Cuba"
          ],
          [
           "Peru"
          ],
          [
           "South Korea"
          ],
          [
           "Gabon"
          ],
          [
           "Montserrat"
          ],
          [
           "Benin"
          ],
          [
           "Brazil"
          ],
          [
           "Cyprus"
          ],
          [
           "Sao Tome and Principe"
          ],
          [
           "Faeroe Islands"
          ],
          [
           "Iceland"
          ],
          [
           "Iran"
          ],
          [
           "Venezuela"
          ],
          [
           "Bahamas"
          ],
          [
           "Bolivia"
          ],
          [
           "Trinidad and Tobago"
          ],
          [
           "Mexico"
          ],
          [
           "Afghanistan"
          ],
          [
           "Argentina"
          ],
          [
           "Samoa"
          ],
          [
           "Lebanon"
          ],
          [
           "Morocco"
          ],
          [
           "Ethiopia"
          ],
          [
           "Algeria"
          ],
          [
           "Martinique"
          ],
          [
           "Greece"
          ],
          [
           "Uruguay"
          ],
          [
           "Syria"
          ],
          [
           "Mali"
          ],
          [
           "Grenada"
          ],
          [
           "Jordan"
          ],
          [
           "South Sudan"
          ],
          [
           "Burkina Faso"
          ],
          [
           "Singapore"
          ],
          [
           "Saint Lucia"
          ],
          [
           "Tunisia"
          ],
          [
           "Falkland Islands"
          ],
          [
           "Israel"
          ],
          [
           "Greenland"
          ],
          [
           "Senegal"
          ],
          [
           "Turkmenistan"
          ],
          [
           "Palestine"
          ],
          [
           "Chad"
          ],
          [
           "Eritrea"
          ],
          [
           "Yemen"
          ],
          [
           "Guadeloupe"
          ],
          [
           "Hong Kong"
          ],
          [
           "Namibia"
          ],
          [
           "Mauritania"
          ],
          [
           "Botswana"
          ],
          [
           "Niger"
          ],
          [
           "Timor"
          ],
          [
           "Djibouti"
          ],
          [
           "Sudan"
          ],
          [
           "Oman"
          ],
          [
           "Somalia"
          ],
          [
           "Kuwait"
          ],
          [
           "Western Sahara"
          ],
          [
           "United Arab Emirates"
          ],
          [
           "Qatar"
          ],
          [
           "Saudi Arabia"
          ],
          [
           "Libya"
          ]
         ],
         "hovertemplate": "variable=country_pop_without_water<br>region=%{x}<br>value=%{y}<br>Entity=%{customdata[0]}<extra></extra>",
         "legendgroup": "country_pop_without_water",
         "marker": {
          "color": "#EF553B",
          "pattern": {
           "shape": ""
          }
         },
         "name": "country_pop_without_water",
         "offsetgroup": "country_pop_without_water",
         "orientation": "v",
         "showlegend": true,
         "textposition": "auto",
         "type": "bar",
         "x": [
          "Africa",
          "Africa",
          "Americas",
          "Americas",
          "Asia",
          "Africa",
          "Europe",
          "Americas",
          "Europe",
          "Africa",
          "Europe",
          "Asia",
          "Oceania",
          "Asia",
          "Europe",
          "Asia",
          "Asia",
          "Europe",
          "Americas",
          "Europe",
          "Asia",
          "Europe",
          "Europe",
          "Asia",
          "Europe",
          "Oceania",
          "Asia",
          "Europe",
          "Asia",
          "Oceania",
          "Europe",
          "Europe",
          "Africa",
          "Asia",
          "Asia",
          "Asia",
          "Europe",
          "Americas",
          "Americas",
          "Europe",
          "Europe",
          "Asia",
          "Americas",
          "Europe",
          "Africa",
          "Europe",
          "Europe",
          "Asia",
          "Europe",
          "Africa",
          "Americas",
          "Asia",
          "Africa",
          "Africa",
          "Africa",
          "Africa",
          "Europe",
          "Europe",
          "Africa",
          "Europe",
          "Europe",
          "Africa",
          "Europe",
          "Europe",
          "Africa",
          "Americas",
          "Europe",
          "Europe",
          "Asia",
          "Oceania",
          "Africa",
          "Africa",
          "Asia",
          "Americas",
          "Asia",
          "Europe",
          "Europe",
          "Europe",
          "Asia",
          "Europe",
          "Africa",
          "Asia",
          "Africa",
          "Europe",
          "Asia",
          "Africa",
          "Asia",
          "Asia",
          "Oceania",
          "Asia",
          "Africa",
          "Africa",
          "Americas",
          "Asia",
          "Africa",
          "Americas",
          "Asia",
          "Africa",
          "Europe",
          "Europe",
          "Americas",
          "Americas",
          "Europe",
          "Oceania",
          "Africa",
          "Americas",
          "Europe",
          "Asia",
          "Oceania",
          "Americas",
          "Africa",
          "Africa",
          "Asia",
          "Africa",
          "Asia",
          "Americas",
          "Americas",
          "Europe",
          "Americas",
          "Europe",
          "Africa",
          "Africa",
          "Africa",
          "Africa",
          "Americas",
          "Europe",
          "Europe",
          "Americas",
          "Americas",
          "Asia",
          "Africa",
          "Americas",
          "Africa",
          "Americas",
          "Europe",
          "Africa",
          "Europe",
          "Europe",
          "Asia",
          "Americas",
          "Americas",
          "Americas",
          "Americas",
          "Americas",
          "Asia",
          "Americas",
          "Oceania",
          "Asia",
          "Africa",
          "Africa",
          "Africa",
          "Americas",
          "Europe",
          "Americas",
          "Asia",
          "Africa",
          "Americas",
          "Asia",
          "Africa",
          "Africa",
          "Asia",
          "Americas",
          "Africa",
          "Americas",
          "Asia",
          "Americas",
          "Africa",
          "Asia",
          "Asia",
          "Africa",
          "Africa",
          "Asia",
          "Americas",
          "Asia",
          "Africa",
          "Africa",
          "Africa",
          "Africa",
          "Asia",
          "Africa",
          "Africa",
          "Asia",
          "Africa",
          "Asia",
          "Africa",
          "Asia",
          "Asia",
          "Asia",
          "Africa"
         ],
         "xaxis": "x",
         "y": [
          300922.4817586393,
          1162196.1139340713,
          1071887.640088538,
          1041637.4067958372,
          121487.45969797827,
          173881.6796873012,
          1374317.2975262317,
          137182.95032648163,
          1195946.2173848522,
          597829.9872322347,
          1541150.4138161538,
          27246260.95951306,
          331273.399004614,
          7599820.005464093,
          683947.0890445904,
          24407124.66436631,
          3705699.276311707,
          12600370.362881642,
          2049527.0407348606,
          1293471.0971544005,
          1493177.0900129322,
          317051.94351006305,
          459877.63217143476,
          3980271.4332394223,
          1103356.1532837625,
          1491034.532454278,
          2214443.457222318,
          968511.2006545283,
          1323682.538179128,
          6646783.238950328,
          659156.7717785015,
          764883.7461519053,
          1185686.0960159616,
          9180492.650595853,
          14179157.864865413,
          4590070.988419911,
          3407880.1089969156,
          143849.43349711216,
          73786.55334240582,
          18355283.28925012,
          802386.6667068854,
          19106817.254851338,
          81976.95811854594,
          14467586.816299252,
          1999881.3658763722,
          469595.4814303423,
          6837458.904562781,
          664234.5264053158,
          4767142.844823668,
          287457.01422408875,
          8601423.778407767,
          6020179.3338469695,
          13045904.102606334,
          3621452.048294682,
          7676606.924589848,
          813351.8309083746,
          2889242.81888638,
          1571447.650289957,
          4783668.803321246,
          2995540.033961239,
          2202017.522870759,
          2062500.008527767,
          1120509.080219039,
          10272986.01061547,
          26934313.104322497,
          3798146.8164435355,
          59729172.89261321,
          3119275.8342861375,
          1252127.2670971483,
          142482.40047179593,
          312933.4294166693,
          1542140.531874138,
          272892502.7859462,
          1435570.8633330422,
          12028766.96873268,
          3690397.436401663,
          13964900.641875189,
          870192.5580998115,
          10907224.978983313,
          6383.827519999999,
          2915044.520952997,
          3032606.5741644255,
          977856.7055823471,
          303253.9751265534,
          438543.20693103323,
          10298369.813429642,
          38479737.2979163,
          10132486.59883035,
          170804.88329073117,
          3144755.2562825605,
          1933530.683215607,
          303158.9812792617,
          6448919.094670269,
          243896265.37040764,
          5103172.4298383,
          21335399.916142017,
          16720264.420934549,
          58194208.04869073,
          1383708.4242498395,
          1502581.571793172,
          4953189.757441205,
          2357197.7976493575,
          14623767.335665619,
          89738.79664976796,
          5265437.944500802,
          7146749.736855424,
          4616769.825875848,
          504729.2718591714,
          470678.607073773,
          5539055.604777961,
          4865857.985645512,
          9611721.632812642,
          8321933.396626822,
          487418.1029804022,
          46494180.13469003,
          1253376.8137109962,
          1378690.9534597844,
          16971.14274931546,
          124568583.7208274,
          262823.0931814449,
          8319117.570483715,
          140276.93928371504,
          5695336.01177094,
          807911.2767850771,
          3443714.6624808335,
          41211.85181762592,
          149636.25101473383,
          5230629.250774037,
          18285132.905678682,
          22519980.17951587,
          1302637.1283766942,
          3534.853590404144,
          2229109.6926987697,
          103223856.48371963,
          581904.6779066107,
          147855.95510425637,
          25548.884244614812,
          160780.06812232864,
          54217330.482784554,
          14221014.766235666,
          263015.3648923007,
          4782853.561768178,
          753630.7546323513,
          75016924.36266457,
          5308241.716253187,
          20884356.913427923,
          119515.49214796822,
          4730043.788933271,
          20678732.163165655,
          37580298.32513178,
          23065388.35179045,
          277791.3959387136,
          7130751.967137605,
          1984366.9943328951,
          9524453.187756788,
          6912057.897156686,
          65955.29662681423,
          7536064.122176524,
          331805.4767015266,
          3364574.891323869,
          3750179.0811786884,
          143807.11323063273,
          8771152.71596308,
          2602.401368235296,
          6918741.447771452,
          34454.529399929306,
          10946866.64329039,
          2453738.0349813583,
          2466643.416199942,
          2729260.0895980056,
          1681517.6039721093,
          16084848.906602792,
          267183.0060099421,
          6597839.446913921,
          2038807.364187792,
          2364865.8084299783,
          2025774.2149820526,
          9235791.726558266,
          866946.3040261021,
          812715.5587903615,
          18087886.8129529,
          4849332.025175065,
          7429112.544124352,
          3960625.995,
          416753.95579770126,
          9989336.72475832,
          2930524.0000000005,
          29398167.06985454,
          5426171.582934199
         ],
         "yaxis": "y"
        }
       ],
       "layout": {
        "barmode": "group",
        "legend": {
         "title": {
          "text": "variable"
         },
         "tracegroupgap": 0
        },
        "template": {
         "data": {
          "bar": [
           {
            "error_x": {
             "color": "#2a3f5f"
            },
            "error_y": {
             "color": "#2a3f5f"
            },
            "marker": {
             "line": {
              "color": "#E5ECF6",
              "width": 0.5
             },
             "pattern": {
              "fillmode": "overlay",
              "size": 10,
              "solidity": 0.2
             }
            },
            "type": "bar"
           }
          ],
          "barpolar": [
           {
            "marker": {
             "line": {
              "color": "#E5ECF6",
              "width": 0.5
             },
             "pattern": {
              "fillmode": "overlay",
              "size": 10,
              "solidity": 0.2
             }
            },
            "type": "barpolar"
           }
          ],
          "carpet": [
           {
            "aaxis": {
             "endlinecolor": "#2a3f5f",
             "gridcolor": "white",
             "linecolor": "white",
             "minorgridcolor": "white",
             "startlinecolor": "#2a3f5f"
            },
            "baxis": {
             "endlinecolor": "#2a3f5f",
             "gridcolor": "white",
             "linecolor": "white",
             "minorgridcolor": "white",
             "startlinecolor": "#2a3f5f"
            },
            "type": "carpet"
           }
          ],
          "choropleth": [
           {
            "colorbar": {
             "outlinewidth": 0,
             "ticks": ""
            },
            "type": "choropleth"
           }
          ],
          "contour": [
           {
            "colorbar": {
             "outlinewidth": 0,
             "ticks": ""
            },
            "colorscale": [
             [
              0,
              "#0d0887"
             ],
             [
              0.1111111111111111,
              "#46039f"
             ],
             [
              0.2222222222222222,
              "#7201a8"
             ],
             [
              0.3333333333333333,
              "#9c179e"
             ],
             [
              0.4444444444444444,
              "#bd3786"
             ],
             [
              0.5555555555555556,
              "#d8576b"
             ],
             [
              0.6666666666666666,
              "#ed7953"
             ],
             [
              0.7777777777777778,
              "#fb9f3a"
             ],
             [
              0.8888888888888888,
              "#fdca26"
             ],
             [
              1,
              "#f0f921"
             ]
            ],
            "type": "contour"
           }
          ],
          "contourcarpet": [
           {
            "colorbar": {
             "outlinewidth": 0,
             "ticks": ""
            },
            "type": "contourcarpet"
           }
          ],
          "heatmap": [
           {
            "colorbar": {
             "outlinewidth": 0,
             "ticks": ""
            },
            "colorscale": [
             [
              0,
              "#0d0887"
             ],
             [
              0.1111111111111111,
              "#46039f"
             ],
             [
              0.2222222222222222,
              "#7201a8"
             ],
             [
              0.3333333333333333,
              "#9c179e"
             ],
             [
              0.4444444444444444,
              "#bd3786"
             ],
             [
              0.5555555555555556,
              "#d8576b"
             ],
             [
              0.6666666666666666,
              "#ed7953"
             ],
             [
              0.7777777777777778,
              "#fb9f3a"
             ],
             [
              0.8888888888888888,
              "#fdca26"
             ],
             [
              1,
              "#f0f921"
             ]
            ],
            "type": "heatmap"
           }
          ],
          "heatmapgl": [
           {
            "colorbar": {
             "outlinewidth": 0,
             "ticks": ""
            },
            "colorscale": [
             [
              0,
              "#0d0887"
             ],
             [
              0.1111111111111111,
              "#46039f"
             ],
             [
              0.2222222222222222,
              "#7201a8"
             ],
             [
              0.3333333333333333,
              "#9c179e"
             ],
             [
              0.4444444444444444,
              "#bd3786"
             ],
             [
              0.5555555555555556,
              "#d8576b"
             ],
             [
              0.6666666666666666,
              "#ed7953"
             ],
             [
              0.7777777777777778,
              "#fb9f3a"
             ],
             [
              0.8888888888888888,
              "#fdca26"
             ],
             [
              1,
              "#f0f921"
             ]
            ],
            "type": "heatmapgl"
           }
          ],
          "histogram": [
           {
            "marker": {
             "pattern": {
              "fillmode": "overlay",
              "size": 10,
              "solidity": 0.2
             }
            },
            "type": "histogram"
           }
          ],
          "histogram2d": [
           {
            "colorbar": {
             "outlinewidth": 0,
             "ticks": ""
            },
            "colorscale": [
             [
              0,
              "#0d0887"
             ],
             [
              0.1111111111111111,
              "#46039f"
             ],
             [
              0.2222222222222222,
              "#7201a8"
             ],
             [
              0.3333333333333333,
              "#9c179e"
             ],
             [
              0.4444444444444444,
              "#bd3786"
             ],
             [
              0.5555555555555556,
              "#d8576b"
             ],
             [
              0.6666666666666666,
              "#ed7953"
             ],
             [
              0.7777777777777778,
              "#fb9f3a"
             ],
             [
              0.8888888888888888,
              "#fdca26"
             ],
             [
              1,
              "#f0f921"
             ]
            ],
            "type": "histogram2d"
           }
          ],
          "histogram2dcontour": [
           {
            "colorbar": {
             "outlinewidth": 0,
             "ticks": ""
            },
            "colorscale": [
             [
              0,
              "#0d0887"
             ],
             [
              0.1111111111111111,
              "#46039f"
             ],
             [
              0.2222222222222222,
              "#7201a8"
             ],
             [
              0.3333333333333333,
              "#9c179e"
             ],
             [
              0.4444444444444444,
              "#bd3786"
             ],
             [
              0.5555555555555556,
              "#d8576b"
             ],
             [
              0.6666666666666666,
              "#ed7953"
             ],
             [
              0.7777777777777778,
              "#fb9f3a"
             ],
             [
              0.8888888888888888,
              "#fdca26"
             ],
             [
              1,
              "#f0f921"
             ]
            ],
            "type": "histogram2dcontour"
           }
          ],
          "mesh3d": [
           {
            "colorbar": {
             "outlinewidth": 0,
             "ticks": ""
            },
            "type": "mesh3d"
           }
          ],
          "parcoords": [
           {
            "line": {
             "colorbar": {
              "outlinewidth": 0,
              "ticks": ""
             }
            },
            "type": "parcoords"
           }
          ],
          "pie": [
           {
            "automargin": true,
            "type": "pie"
           }
          ],
          "scatter": [
           {
            "fillpattern": {
             "fillmode": "overlay",
             "size": 10,
             "solidity": 0.2
            },
            "type": "scatter"
           }
          ],
          "scatter3d": [
           {
            "line": {
             "colorbar": {
              "outlinewidth": 0,
              "ticks": ""
             }
            },
            "marker": {
             "colorbar": {
              "outlinewidth": 0,
              "ticks": ""
             }
            },
            "type": "scatter3d"
           }
          ],
          "scattercarpet": [
           {
            "marker": {
             "colorbar": {
              "outlinewidth": 0,
              "ticks": ""
             }
            },
            "type": "scattercarpet"
           }
          ],
          "scattergeo": [
           {
            "marker": {
             "colorbar": {
              "outlinewidth": 0,
              "ticks": ""
             }
            },
            "type": "scattergeo"
           }
          ],
          "scattergl": [
           {
            "marker": {
             "colorbar": {
              "outlinewidth": 0,
              "ticks": ""
             }
            },
            "type": "scattergl"
           }
          ],
          "scattermapbox": [
           {
            "marker": {
             "colorbar": {
              "outlinewidth": 0,
              "ticks": ""
             }
            },
            "type": "scattermapbox"
           }
          ],
          "scatterpolar": [
           {
            "marker": {
             "colorbar": {
              "outlinewidth": 0,
              "ticks": ""
             }
            },
            "type": "scatterpolar"
           }
          ],
          "scatterpolargl": [
           {
            "marker": {
             "colorbar": {
              "outlinewidth": 0,
              "ticks": ""
             }
            },
            "type": "scatterpolargl"
           }
          ],
          "scatterternary": [
           {
            "marker": {
             "colorbar": {
              "outlinewidth": 0,
              "ticks": ""
             }
            },
            "type": "scatterternary"
           }
          ],
          "surface": [
           {
            "colorbar": {
             "outlinewidth": 0,
             "ticks": ""
            },
            "colorscale": [
             [
              0,
              "#0d0887"
             ],
             [
              0.1111111111111111,
              "#46039f"
             ],
             [
              0.2222222222222222,
              "#7201a8"
             ],
             [
              0.3333333333333333,
              "#9c179e"
             ],
             [
              0.4444444444444444,
              "#bd3786"
             ],
             [
              0.5555555555555556,
              "#d8576b"
             ],
             [
              0.6666666666666666,
              "#ed7953"
             ],
             [
              0.7777777777777778,
              "#fb9f3a"
             ],
             [
              0.8888888888888888,
              "#fdca26"
             ],
             [
              1,
              "#f0f921"
             ]
            ],
            "type": "surface"
           }
          ],
          "table": [
           {
            "cells": {
             "fill": {
              "color": "#EBF0F8"
             },
             "line": {
              "color": "white"
             }
            },
            "header": {
             "fill": {
              "color": "#C8D4E3"
             },
             "line": {
              "color": "white"
             }
            },
            "type": "table"
           }
          ]
         },
         "layout": {
          "annotationdefaults": {
           "arrowcolor": "#2a3f5f",
           "arrowhead": 0,
           "arrowwidth": 1
          },
          "autotypenumbers": "strict",
          "coloraxis": {
           "colorbar": {
            "outlinewidth": 0,
            "ticks": ""
           }
          },
          "colorscale": {
           "diverging": [
            [
             0,
             "#8e0152"
            ],
            [
             0.1,
             "#c51b7d"
            ],
            [
             0.2,
             "#de77ae"
            ],
            [
             0.3,
             "#f1b6da"
            ],
            [
             0.4,
             "#fde0ef"
            ],
            [
             0.5,
             "#f7f7f7"
            ],
            [
             0.6,
             "#e6f5d0"
            ],
            [
             0.7,
             "#b8e186"
            ],
            [
             0.8,
             "#7fbc41"
            ],
            [
             0.9,
             "#4d9221"
            ],
            [
             1,
             "#276419"
            ]
           ],
           "sequential": [
            [
             0,
             "#0d0887"
            ],
            [
             0.1111111111111111,
             "#46039f"
            ],
            [
             0.2222222222222222,
             "#7201a8"
            ],
            [
             0.3333333333333333,
             "#9c179e"
            ],
            [
             0.4444444444444444,
             "#bd3786"
            ],
            [
             0.5555555555555556,
             "#d8576b"
            ],
            [
             0.6666666666666666,
             "#ed7953"
            ],
            [
             0.7777777777777778,
             "#fb9f3a"
            ],
            [
             0.8888888888888888,
             "#fdca26"
            ],
            [
             1,
             "#f0f921"
            ]
           ],
           "sequentialminus": [
            [
             0,
             "#0d0887"
            ],
            [
             0.1111111111111111,
             "#46039f"
            ],
            [
             0.2222222222222222,
             "#7201a8"
            ],
            [
             0.3333333333333333,
             "#9c179e"
            ],
            [
             0.4444444444444444,
             "#bd3786"
            ],
            [
             0.5555555555555556,
             "#d8576b"
            ],
            [
             0.6666666666666666,
             "#ed7953"
            ],
            [
             0.7777777777777778,
             "#fb9f3a"
            ],
            [
             0.8888888888888888,
             "#fdca26"
            ],
            [
             1,
             "#f0f921"
            ]
           ]
          },
          "colorway": [
           "#636efa",
           "#EF553B",
           "#00cc96",
           "#ab63fa",
           "#FFA15A",
           "#19d3f3",
           "#FF6692",
           "#B6E880",
           "#FF97FF",
           "#FECB52"
          ],
          "font": {
           "color": "#2a3f5f"
          },
          "geo": {
           "bgcolor": "white",
           "lakecolor": "white",
           "landcolor": "#E5ECF6",
           "showlakes": true,
           "showland": true,
           "subunitcolor": "white"
          },
          "hoverlabel": {
           "align": "left"
          },
          "hovermode": "closest",
          "mapbox": {
           "style": "light"
          },
          "paper_bgcolor": "white",
          "plot_bgcolor": "#E5ECF6",
          "polar": {
           "angularaxis": {
            "gridcolor": "white",
            "linecolor": "white",
            "ticks": ""
           },
           "bgcolor": "#E5ECF6",
           "radialaxis": {
            "gridcolor": "white",
            "linecolor": "white",
            "ticks": ""
           }
          },
          "scene": {
           "xaxis": {
            "backgroundcolor": "#E5ECF6",
            "gridcolor": "white",
            "gridwidth": 2,
            "linecolor": "white",
            "showbackground": true,
            "ticks": "",
            "zerolinecolor": "white"
           },
           "yaxis": {
            "backgroundcolor": "#E5ECF6",
            "gridcolor": "white",
            "gridwidth": 2,
            "linecolor": "white",
            "showbackground": true,
            "ticks": "",
            "zerolinecolor": "white"
           },
           "zaxis": {
            "backgroundcolor": "#E5ECF6",
            "gridcolor": "white",
            "gridwidth": 2,
            "linecolor": "white",
            "showbackground": true,
            "ticks": "",
            "zerolinecolor": "white"
           }
          },
          "shapedefaults": {
           "line": {
            "color": "#2a3f5f"
           }
          },
          "ternary": {
           "aaxis": {
            "gridcolor": "white",
            "linecolor": "white",
            "ticks": ""
           },
           "baxis": {
            "gridcolor": "white",
            "linecolor": "white",
            "ticks": ""
           },
           "bgcolor": "#E5ECF6",
           "caxis": {
            "gridcolor": "white",
            "linecolor": "white",
            "ticks": ""
           }
          },
          "title": {
           "x": 0.05
          },
          "xaxis": {
           "automargin": true,
           "gridcolor": "white",
           "linecolor": "white",
           "ticks": "",
           "title": {
            "standoff": 15
           },
           "zerolinecolor": "white",
           "zerolinewidth": 2
          },
          "yaxis": {
           "automargin": true,
           "gridcolor": "white",
           "linecolor": "white",
           "ticks": "",
           "title": {
            "standoff": 15
           },
           "zerolinecolor": "white",
           "zerolinewidth": 2
          }
         }
        },
        "title": {
         "text": "Population with Water vs. Population without Water"
        },
        "xaxis": {
         "anchor": "y",
         "domain": [
          0,
          1
         ],
         "title": {
          "text": "region"
         }
        },
        "yaxis": {
         "anchor": "x",
         "domain": [
          0,
          1
         ],
         "title": {
          "text": "value"
         }
        }
       }
      }
     },
     "metadata": {},
     "output_type": "display_data"
    }
   ],
   "source": [
    "# create stacked bar chart, stacking  \"country_pop_with_water\", and \"country_pop_without_water\" on the y axis as two bars. Using region as the x axis.\n",
    "# px.bar(df_countries, x=\"region\", y=[\"country_pop_with_water\", \"country_pop_without_water\"], title=\"Population with Water vs. Population without Water\", hover_data=[\"Entity\"])\n",
    "\n",
    "# create the same, but put the bars side by side\n",
    "px.bar(df_countries, x=\"region\", y=[\"country_pop_with_water\", \"country_pop_without_water\"], barmode=\"group\", title=\"Population with Water vs. Population without Water\", hover_data=[\"Entity\"])\n",
    "\n",
    "\n",
    "\n",
    "\n"
   ]
  },
  {
   "cell_type": "code",
   "execution_count": null,
   "metadata": {},
   "outputs": [],
   "source": []
  }
 ],
 "metadata": {
  "kernelspec": {
   "display_name": "Python 3",
   "language": "python",
   "name": "python3"
  },
  "language_info": {
   "codemirror_mode": {
    "name": "ipython",
    "version": 3
   },
   "file_extension": ".py",
   "mimetype": "text/x-python",
   "name": "python",
   "nbconvert_exporter": "python",
   "pygments_lexer": "ipython3",
   "version": "3.9.13"
  },
  "orig_nbformat": 4,
  "vscode": {
   "interpreter": {
    "hash": "c09a8b249899dc4589e662892666698668e7a3ca1327801a18c24efb244ad2c6"
   }
  }
 },
 "nbformat": 4,
 "nbformat_minor": 2
}
