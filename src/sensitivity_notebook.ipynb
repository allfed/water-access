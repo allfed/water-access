{
 "cells": [
  {
   "cell_type": "markdown",
   "metadata": {},
   "source": [
    "Welcome! This IPython notebook does a sensitivity analysis of the mobility model for the water access research project."
   ]
  },
  {
   "cell_type": "markdown",
   "metadata": {},
   "source": [
    "Import Packages"
   ]
  },
  {
   "cell_type": "code",
   "execution_count": 1,
   "metadata": {},
   "outputs": [],
   "source": [
    "import pandas as pd\n",
    "import mobility_module as mm\n",
    "import numpy as np\n",
    "import plotly\n",
    "import plotly.express as px\n",
    "import plotting_tools_water_access\n",
    "from plotly.subplots import make_subplots\n",
    "import plotly.graph_objects as go\n",
    "\n"
   ]
  },
  {
   "cell_type": "markdown",
   "metadata": {},
   "source": [
    "Import data from csv files"
   ]
  },
  {
   "cell_type": "code",
   "execution_count": 2,
   "metadata": {},
   "outputs": [],
   "source": [
    "######################\n",
    "#### Import Data #####\n",
    "with open(\"../data/mobility-model-parameters.csv\") as csv_file:\n",
    "    # read the csv file\n",
    "    allHPV_param_df = pd.read_csv(\"../data/mobility-model-parameters.csv\")\n",
    "\n",
    "\n",
    "# PULL FROM CSV\n",
    "# get linear space for variable range\n",
    "with open(\"../data/mobility-model-parameters.csv\") as csv_file:\n",
    "    # read the csv file\n",
    "    sens_df = pd.read_csv(\"../data/Sensitivity Analysis Variables.csv\")\n"
   ]
  },
  {
   "cell_type": "markdown",
   "metadata": {},
   "source": [
    "Initiliase Velocity Kgs, define colours for graphing"
   ]
  },
  {
   "cell_type": "code",
   "execution_count": 3,
   "metadata": {},
   "outputs": [],
   "source": [
    "graph_colours = [\"#3D87CB\", \"#F0B323\", \"#DC582A\", \"#674230\", \"#3A913F\", \"#75787B\"]\n",
    "full_result_dict = {}\n",
    "plot_dict = {}\n",
    "df_large = pd.DataFrame()\n",
    "\n",
    "\n",
    "### FIlter Data\n",
    "col = \"Name\"\n",
    "filter_value = \"Bicycle\"\n",
    "param_df = allHPV_param_df.loc[(allHPV_param_df[col] == filter_value)]\n",
    "\n",
    "for i in range(0, len(sens_df)):\n",
    "\n",
    "    # # initialise variables, options, MET, hpv and Velocity Kgs classes, populated with data via 'init' functions\n",
    "    mo = mm.model_options()\n",
    "    mv = mm.model_variables()\n",
    "    met = mm.MET_values(mv)\n",
    "    hpv = mm.HPV_variables(param_df, mv)\n",
    "    mr = mm.model_results(hpv, mo)\n",
    "\n",
    "    # select model (bike...)\n",
    "    mo.model_selection = 2\n",
    "\n",
    "\n",
    "    ###### Start big if statement area\n",
    "    ##### SENSITIVITY\n",
    "\n",
    "    plot_min = sens_df.iloc[i][\"Plotting Min\"]\n",
    "    plot_max = sens_df.iloc[i][\"Plotting Max\"]\n",
    "    minval = sens_df.iloc[i][\"Expected Min\"]\n",
    "    maxval = sens_df.iloc[i][\"Expected Max\"]\n",
    "    def_val = sens_df.iloc[i][\"Default Value\"]\n",
    "    res = 30\n",
    "    var_string = sens_df.iloc[i][\"Short Name\"] # change\n",
    "    var_units = sens_df.iloc[i][\"Units\"] # change\n",
    "\n",
    "    phase_space = np.linspace(\n",
    "        start=plot_min,  # define linear space of weights\n",
    "        stop=plot_max,  # define maximum value for linear space\n",
    "        num=res,  # how many data points?\n",
    "        endpoint=True,\n",
    "        retstep=False,\n",
    "        dtype=None,\n",
    "    )\n",
    "    # include the default value\n",
    "    # phase_space = np.append(phase_space,hpv.load_limit.flatten()[0])\n",
    "    phase_space = np.append(phase_space,def_val)\n",
    "    phase_space = np.append(phase_space,minval)\n",
    "    phase_space = np.append(phase_space,maxval)\n",
    "\n",
    "    trip_velocity_mean = []  # create empty list to place variables in to in loop\n",
    "    unloaded_velocity_mean = []  # create empty list to place variables in to in loop\n",
    "    loaded_velocity_mean = []  # create empty list to place variables in to in loop\n",
    "    velocitykgs = []  # create empty list to place variables in to in loop\n",
    "    water_ration_kms = []  # create empty list to place variables in to in loop\n",
    "\n",
    "    for var_test in phase_space:\n",
    "        ## THIS WILL NEED A FAT IF STATEMENT AS WE NEED TO CHANGE TARGET of the assignment AND the value AND there are differening data storgae types (i.e numpy 3 dims, scalar etc)\n",
    "        if var_string == \"Coefficient of Rolling Resistance\":\n",
    "            hpv.Crr = np.array([[[var_test]]]) # change\n",
    "        elif var_string == \"Load Limit\":\n",
    "            hpv.load_limit = np.array([[[var_test]]]) # change\n",
    "        elif var_string == \"Reference Area\":\n",
    "            mv.A = var_test \n",
    "        elif var_string == \"Drag Coefficient\":\n",
    "            mv.C_d = var_test \n",
    "        elif var_string == \"Efficiency\":\n",
    "            mv.eta = var_test \n",
    "        elif var_string == \"Air Density\":\n",
    "            mv.ro = var_test \n",
    "        elif var_string == \"MET budget\":\n",
    "            met.MET_of_sustainable_excercise = var_test \n",
    "        elif var_string == \"T_hours\":\n",
    "            mv.t_hours = var_test \n",
    "        elif var_string == \"HPV Weight\":\n",
    "            hpv.m_HPV_only = np.array([[[var_test]]]) # change\n",
    "        elif var_string == \"Water Ration\":\n",
    "            mv.waterration = var_test \n",
    "        elif var_string == \"Human Weight\":\n",
    "            mv.m1 = var_test \n",
    "        elif var_string == \"Human Power Output\":\n",
    "            mv.P_t = var_test \n",
    "            \n",
    "\n",
    "\n",
    "        \n",
    "        \n",
    "        # # hpv.load_limit = np.array([[[var_test]]]) # change\n",
    "        # mv.C_d = var_test # change\n",
    "\n",
    "        ######## Numerical MODEL ########\n",
    "        mr.v_load_matrix3d, mr.load_matrix3d = mm.mobility_models.numerical_mobility_model(\n",
    "            mr, mv, mo, met, hpv\n",
    "        )\n",
    "        ####### Organise Velocity Kgs #######\n",
    "        mr.load_results(hpv, mv, mo)\n",
    "\n",
    "        maximum_vel_kg_per_slope = np.amax(mr.velocitykgs, axis=2)\n",
    "        mean_vel_kg_per_slope = np.mean(maximum_vel_kg_per_slope)\n",
    "\n",
    "        # append to list\n",
    "        trip_velocity_mean.append(np.mean(mr.v_avg_matrix3d))\n",
    "        unloaded_velocity_mean.append(np.mean(mr.v_unload_matrix3d))\n",
    "        loaded_velocity_mean.append(np.mean(mr.v_load_matrix3d))\n",
    "        velocitykgs.append(mean_vel_kg_per_slope)\n",
    "        water_ration_kms.append(mean_vel_kg_per_slope/mv.waterration*mr.t_secs/1000)\n",
    "\n",
    "\n",
    "\n",
    "    small_marker_size = 10\n",
    "    med_marker_size = 20\n",
    "    large_marker_size = 50\n",
    "    data = {'Velocity Kgs': velocitykgs,'Water Ration Kms': water_ration_kms, 'Mean Trip Velocity': trip_velocity_mean, 'Mean Unloaded Velocity': unloaded_velocity_mean, 'Mean Loaded Velocity': loaded_velocity_mean}\n",
    "    df_results = pd.DataFrame(data)\n",
    "\n",
    "    df_results[\"Adjusted Result\"] =  df_results[\"Velocity Kgs\"] - df_results.at[res,'Velocity Kgs']\n",
    "    df_results[\"Adjusted Water Ration Kms\"] =  df_results[\"Water Ration Kms\"] - df_results.at[res,'Water Ration Kms']\n",
    "    df_results[\"Variable\"] = phase_space\n",
    "    df_results[\"DataType\"] = \"Sensitivity\"\n",
    "    df_results[\"MarkerSize\"] = small_marker_size\n",
    "    df_results[\"Name\"] = var_string\n",
    "    df_results.at[res,'DataType'] = \"Default\"\n",
    "    df_results.at[res+1,'DataType'] = \"Minimum Expected\"\n",
    "    df_results.at[res+2,'DataType'] = \"Maximum Expected\"\n",
    "    df_results.at[res+1,'MarkerSize'] = med_marker_size\n",
    "    df_results.at[res+2,'MarkerSize'] = med_marker_size\n",
    "    df_results.at[res,'MarkerSize'] = large_marker_size\n",
    "\n",
    "\n",
    "    full_result_dict[var_string] = df_results\n",
    "    df_large = pd.concat([df_large, df_results], sort=False)\n",
    "\n"
   ]
  },
  {
   "cell_type": "code",
   "execution_count": 17,
   "metadata": {},
   "outputs": [
    {
     "data": {
      "application/vnd.plotly.v1+json": {
       "config": {
        "plotlyServerURL": "https://plotly.com"
       },
       "data": [
        {
         "customdata": [
          [
           100.55233849974671,
           1.604659307578766,
           1.430098038207055,
           1.779220576950477
          ],
          [
           97.04299874527472,
           1.5544387389019843,
           1.3782976206884736,
           1.7305798571154944
          ],
          [
           93.68131252520651,
           1.506057051413496,
           1.3286863209381676,
           1.6834277818888248
          ],
          [
           90.46942470181892,
           1.4595282652717614,
           1.281285877849338,
           1.6377706526941849
          ],
          [
           87.40958016092256,
           1.4148643096776305,
           1.23611634795895,
           1.593612271396311
          ],
          [
           84.50338954075323,
           1.3720722634118991,
           1.193190968330644,
           1.5509535584931535
          ],
          [
           81.7510211644431,
           1.3311508140077182,
           1.152509465179835,
           1.509792162835601
          ],
          [
           79.15062929089395,
           1.2920870534441764,
           1.1140520435365449,
           1.4701220633518082
          ],
          [
           76.69820618687619,
           1.2548545746218411,
           1.0777759777775213,
           1.4319331714661612
          ],
          [
           74.38784726882271,
           1.2194132764057404,
           1.0436155958603521,
           1.3952109569511297
          ],
          [
           72.21227115822313,
           1.185710680790431,
           1.0114852269490566,
           1.359936134631805
          ],
          [
           70.16340321237027,
           1.1536842104090783,
           0.981283962421715,
           1.326084458396442
          ],
          [
           68.2328847303465,
           1.1232638306812965,
           0.9529009936745602,
           1.2936266676880326
          ],
          [
           66.41244775140865,
           1.0943746121834381,
           0.9262206054123893,
           1.262528618954487
          ],
          [
           64.69415397952537,
           1.0669389683495931,
           0.9011263234827064,
           1.2327516132164804
          ],
          [
           63.070525059440065,
           1.0408784826877806,
           0.8775040589593927,
           1.2042529064161687
          ],
          [
           61.534597798678014,
           1.0161153344095648,
           0.8552443013370673,
           1.1769863674820624
          ],
          [
           60.07993310419307,
           0.9925733734127966,
           0.8342435122874478,
           1.1509032345381451
          ],
          [
           58.70059929593925,
           0.9701789057666914,
           0.8144048972536463,
           1.1259529142797366
          ],
          [
           57.39114300431649,
           0.9488612462603835,
           0.7956387199396165,
           1.1020837725811503
          ],
          [
           56.14655533344285,
           0.9285530854142898,
           0.7778622972936337,
           1.0792438735349459
          ],
          [
           54.962237367151,
           0.9091907093725122,
           0.7609997823645328,
           1.0573816363804915
          ],
          [
           53.8339669570744,
           0.8907141038060187,
           0.7449818151358932,
           1.0364463924761442
          ],
          [
           52.7578675705043,
           0.8730669673786052,
           0.7297450990543853,
           1.016388835702825
          ],
          [
           51.73037940154453,
           0.8561966560097021,
           0.7152319435727821,
           0.9971613684466217
          ],
          [
           50.748232699009115,
           0.8400540756611797,
           0.7013897999903949,
           0.9787183513319645
          ],
          [
           49.80842317718342,
           0.8245935383783202,
           0.6881708083561128,
           0.9610162684005273
          ],
          [
           48.9081893605402,
           0.8097725936723709,
           0.675531366400501,
           0.9440138209442408
          ],
          [
           48.044991724495844,
           0.7955518449835183,
           0.6634317267046431,
           0.9276719632623935
          ],
          [
           47.21649351028335,
           0.7818947588953731,
           0.6518356250538689,
           0.9119538927368771
          ]
         ],
         "hovertemplate": "DataType=Sensitivity<br>Variable=%{x}<br>Water Ration Kms=%{y}<br>MarkerSize=%{marker.size}<br>Velocity Kgs=%{customdata[0]}<br>Mean Trip Velocity=%{customdata[1]}<br>Mean Loaded Velocity=%{customdata[2]}<br>Mean Unloaded Velocity=%{customdata[3]}<extra></extra>",
         "legendgroup": "Sensitivity",
         "marker": {
          "color": "#3D87CB",
          "size": [
           10,
           10,
           10,
           10,
           10,
           10,
           10,
           10,
           10,
           10,
           10,
           10,
           10,
           10,
           10,
           10,
           10,
           10,
           10,
           10,
           10,
           10,
           10,
           10,
           10,
           10,
           10,
           10,
           10,
           10
          ],
          "sizemode": "area",
          "sizeref": 0.125,
          "symbol": "circle"
         },
         "mode": "markers",
         "name": "Sensitivity",
         "orientation": "v",
         "showlegend": true,
         "type": "scatter",
         "x": [
          0.0015,
          0.0029482758620689655,
          0.0043965517241379305,
          0.005844827586206896,
          0.007293103448275861,
          0.008741379310344827,
          0.010189655172413792,
          0.011637931034482758,
          0.013086206896551723,
          0.014534482758620688,
          0.015982758620689656,
          0.017431034482758623,
          0.018879310344827586,
          0.02032758620689655,
          0.021775862068965517,
          0.023224137931034484,
          0.024672413793103448,
          0.026120689655172412,
          0.02756896551724138,
          0.029017241379310346,
          0.03046551724137931,
          0.031913793103448274,
          0.033362068965517244,
          0.03481034482758621,
          0.03625862068965517,
          0.037706896551724135,
          0.0391551724137931,
          0.04060344827586207,
          0.04205172413793103,
          0.0435
         ],
         "xaxis": "x",
         "y": [
          193.06048991951369,
          186.32255759092746,
          179.8681200483965,
          173.7012954274923,
          167.8263939089713,
          162.2465079182462,
          156.96196063573078,
          151.9692082385164,
          147.26055587880228,
          142.8246667561396,
          138.64756062378842,
          134.7137341677509,
          131.0071386822653,
          127.5118996827046,
          124.21277564068872,
          121.09540811412494,
          118.1464277734618,
          115.35347156005069,
          112.70515064820336,
          110.19099456828766,
          107.80138624021026,
          105.52749574492991,
          103.36121655758285,
          101.29510573536825,
          99.3223284509655,
          97.4366067820975,
          95.63217250019215,
          93.90372357223718,
          92.24638411103201,
          90.65566753974403
         ],
         "yaxis": "y"
        },
        {
         "customdata": [
          [
           96.92038449602128,
           1.5526790707757643,
           1.3764879647771093,
           1.7288701767744197
          ]
         ],
         "hovertemplate": "DataType=Default<br>Variable=%{x}<br>Water Ration Kms=%{y}<br>MarkerSize=%{marker.size}<br>Velocity Kgs=%{customdata[0]}<br>Mean Trip Velocity=%{customdata[1]}<br>Mean Loaded Velocity=%{customdata[2]}<br>Mean Unloaded Velocity=%{customdata[3]}<extra></extra>",
         "legendgroup": "Default",
         "marker": {
          "color": "#F0B323",
          "size": [
           50
          ],
          "sizemode": "area",
          "sizeref": 0.125,
          "symbol": "circle"
         },
         "mode": "markers",
         "name": "Default",
         "orientation": "v",
         "showlegend": true,
         "type": "scatter",
         "x": [
          0.003
         ],
         "xaxis": "x",
         "y": [
          186.08713823236084
         ],
         "yaxis": "y"
        },
        {
         "customdata": [
          [
           99.32420704911063,
           1.5871143273907522,
           1.4119684755180424,
           1.7622601792634613
          ]
         ],
         "hovertemplate": "DataType=Minimum Expected<br>Variable=%{x}<br>Water Ration Kms=%{y}<br>MarkerSize=%{marker.size}<br>Velocity Kgs=%{customdata[0]}<br>Mean Trip Velocity=%{customdata[1]}<br>Mean Loaded Velocity=%{customdata[2]}<br>Mean Unloaded Velocity=%{customdata[3]}<extra></extra>",
         "legendgroup": "Minimum Expected",
         "marker": {
          "color": "#DC582A",
          "size": [
           20
          ],
          "sizemode": "area",
          "sizeref": 0.125,
          "symbol": "circle"
         },
         "mode": "markers",
         "name": "Minimum Expected",
         "orientation": "v",
         "showlegend": true,
         "type": "scatter",
         "x": [
          0.002
         ],
         "xaxis": "x",
         "y": [
          190.7024775342924
         ],
         "yaxis": "y"
        },
        {
         "customdata": [
          [
           56.539815571841196,
           0.9349745783489268,
           0.7834729712063265,
           1.0864761854915275
          ]
         ],
         "hovertemplate": "DataType=Maximum Expected<br>Variable=%{x}<br>Water Ration Kms=%{y}<br>MarkerSize=%{marker.size}<br>Velocity Kgs=%{customdata[0]}<br>Mean Trip Velocity=%{customdata[1]}<br>Mean Loaded Velocity=%{customdata[2]}<br>Mean Unloaded Velocity=%{customdata[3]}<extra></extra>",
         "legendgroup": "Maximum Expected",
         "marker": {
          "color": "#674230",
          "size": [
           20
          ],
          "sizemode": "area",
          "sizeref": 0.125,
          "symbol": "circle"
         },
         "mode": "markers",
         "name": "Maximum Expected",
         "orientation": "v",
         "showlegend": true,
         "type": "scatter",
         "x": [
          0.03
         ],
         "xaxis": "x",
         "y": [
          108.5564458979351
         ],
         "yaxis": "y"
        }
       ],
       "layout": {
        "font": {
         "color": "dimgrey",
         "family": "Droid Sans Mono",
         "size": 16
        },
        "legend": {
         "itemsizing": "constant",
         "title": {
          "text": "Legend"
         },
         "tracegroupgap": 0
        },
        "paper_bgcolor": "white",
        "plot_bgcolor": "white",
        "template": {
         "data": {
          "bar": [
           {
            "error_x": {
             "color": "#2a3f5f"
            },
            "error_y": {
             "color": "#2a3f5f"
            },
            "marker": {
             "line": {
              "color": "#E5ECF6",
              "width": 0.5
             },
             "pattern": {
              "fillmode": "overlay",
              "size": 10,
              "solidity": 0.2
             }
            },
            "type": "bar"
           }
          ],
          "barpolar": [
           {
            "marker": {
             "line": {
              "color": "#E5ECF6",
              "width": 0.5
             },
             "pattern": {
              "fillmode": "overlay",
              "size": 10,
              "solidity": 0.2
             }
            },
            "type": "barpolar"
           }
          ],
          "carpet": [
           {
            "aaxis": {
             "endlinecolor": "#2a3f5f",
             "gridcolor": "white",
             "linecolor": "white",
             "minorgridcolor": "white",
             "startlinecolor": "#2a3f5f"
            },
            "baxis": {
             "endlinecolor": "#2a3f5f",
             "gridcolor": "white",
             "linecolor": "white",
             "minorgridcolor": "white",
             "startlinecolor": "#2a3f5f"
            },
            "type": "carpet"
           }
          ],
          "choropleth": [
           {
            "colorbar": {
             "outlinewidth": 0,
             "ticks": ""
            },
            "type": "choropleth"
           }
          ],
          "contour": [
           {
            "colorbar": {
             "outlinewidth": 0,
             "ticks": ""
            },
            "colorscale": [
             [
              0,
              "#0d0887"
             ],
             [
              0.1111111111111111,
              "#46039f"
             ],
             [
              0.2222222222222222,
              "#7201a8"
             ],
             [
              0.3333333333333333,
              "#9c179e"
             ],
             [
              0.4444444444444444,
              "#bd3786"
             ],
             [
              0.5555555555555556,
              "#d8576b"
             ],
             [
              0.6666666666666666,
              "#ed7953"
             ],
             [
              0.7777777777777778,
              "#fb9f3a"
             ],
             [
              0.8888888888888888,
              "#fdca26"
             ],
             [
              1,
              "#f0f921"
             ]
            ],
            "type": "contour"
           }
          ],
          "contourcarpet": [
           {
            "colorbar": {
             "outlinewidth": 0,
             "ticks": ""
            },
            "type": "contourcarpet"
           }
          ],
          "heatmap": [
           {
            "colorbar": {
             "outlinewidth": 0,
             "ticks": ""
            },
            "colorscale": [
             [
              0,
              "#0d0887"
             ],
             [
              0.1111111111111111,
              "#46039f"
             ],
             [
              0.2222222222222222,
              "#7201a8"
             ],
             [
              0.3333333333333333,
              "#9c179e"
             ],
             [
              0.4444444444444444,
              "#bd3786"
             ],
             [
              0.5555555555555556,
              "#d8576b"
             ],
             [
              0.6666666666666666,
              "#ed7953"
             ],
             [
              0.7777777777777778,
              "#fb9f3a"
             ],
             [
              0.8888888888888888,
              "#fdca26"
             ],
             [
              1,
              "#f0f921"
             ]
            ],
            "type": "heatmap"
           }
          ],
          "heatmapgl": [
           {
            "colorbar": {
             "outlinewidth": 0,
             "ticks": ""
            },
            "colorscale": [
             [
              0,
              "#0d0887"
             ],
             [
              0.1111111111111111,
              "#46039f"
             ],
             [
              0.2222222222222222,
              "#7201a8"
             ],
             [
              0.3333333333333333,
              "#9c179e"
             ],
             [
              0.4444444444444444,
              "#bd3786"
             ],
             [
              0.5555555555555556,
              "#d8576b"
             ],
             [
              0.6666666666666666,
              "#ed7953"
             ],
             [
              0.7777777777777778,
              "#fb9f3a"
             ],
             [
              0.8888888888888888,
              "#fdca26"
             ],
             [
              1,
              "#f0f921"
             ]
            ],
            "type": "heatmapgl"
           }
          ],
          "histogram": [
           {
            "marker": {
             "pattern": {
              "fillmode": "overlay",
              "size": 10,
              "solidity": 0.2
             }
            },
            "type": "histogram"
           }
          ],
          "histogram2d": [
           {
            "colorbar": {
             "outlinewidth": 0,
             "ticks": ""
            },
            "colorscale": [
             [
              0,
              "#0d0887"
             ],
             [
              0.1111111111111111,
              "#46039f"
             ],
             [
              0.2222222222222222,
              "#7201a8"
             ],
             [
              0.3333333333333333,
              "#9c179e"
             ],
             [
              0.4444444444444444,
              "#bd3786"
             ],
             [
              0.5555555555555556,
              "#d8576b"
             ],
             [
              0.6666666666666666,
              "#ed7953"
             ],
             [
              0.7777777777777778,
              "#fb9f3a"
             ],
             [
              0.8888888888888888,
              "#fdca26"
             ],
             [
              1,
              "#f0f921"
             ]
            ],
            "type": "histogram2d"
           }
          ],
          "histogram2dcontour": [
           {
            "colorbar": {
             "outlinewidth": 0,
             "ticks": ""
            },
            "colorscale": [
             [
              0,
              "#0d0887"
             ],
             [
              0.1111111111111111,
              "#46039f"
             ],
             [
              0.2222222222222222,
              "#7201a8"
             ],
             [
              0.3333333333333333,
              "#9c179e"
             ],
             [
              0.4444444444444444,
              "#bd3786"
             ],
             [
              0.5555555555555556,
              "#d8576b"
             ],
             [
              0.6666666666666666,
              "#ed7953"
             ],
             [
              0.7777777777777778,
              "#fb9f3a"
             ],
             [
              0.8888888888888888,
              "#fdca26"
             ],
             [
              1,
              "#f0f921"
             ]
            ],
            "type": "histogram2dcontour"
           }
          ],
          "mesh3d": [
           {
            "colorbar": {
             "outlinewidth": 0,
             "ticks": ""
            },
            "type": "mesh3d"
           }
          ],
          "parcoords": [
           {
            "line": {
             "colorbar": {
              "outlinewidth": 0,
              "ticks": ""
             }
            },
            "type": "parcoords"
           }
          ],
          "pie": [
           {
            "automargin": true,
            "type": "pie"
           }
          ],
          "scatter": [
           {
            "fillpattern": {
             "fillmode": "overlay",
             "size": 10,
             "solidity": 0.2
            },
            "type": "scatter"
           }
          ],
          "scatter3d": [
           {
            "line": {
             "colorbar": {
              "outlinewidth": 0,
              "ticks": ""
             }
            },
            "marker": {
             "colorbar": {
              "outlinewidth": 0,
              "ticks": ""
             }
            },
            "type": "scatter3d"
           }
          ],
          "scattercarpet": [
           {
            "marker": {
             "colorbar": {
              "outlinewidth": 0,
              "ticks": ""
             }
            },
            "type": "scattercarpet"
           }
          ],
          "scattergeo": [
           {
            "marker": {
             "colorbar": {
              "outlinewidth": 0,
              "ticks": ""
             }
            },
            "type": "scattergeo"
           }
          ],
          "scattergl": [
           {
            "marker": {
             "colorbar": {
              "outlinewidth": 0,
              "ticks": ""
             }
            },
            "type": "scattergl"
           }
          ],
          "scattermapbox": [
           {
            "marker": {
             "colorbar": {
              "outlinewidth": 0,
              "ticks": ""
             }
            },
            "type": "scattermapbox"
           }
          ],
          "scatterpolar": [
           {
            "marker": {
             "colorbar": {
              "outlinewidth": 0,
              "ticks": ""
             }
            },
            "type": "scatterpolar"
           }
          ],
          "scatterpolargl": [
           {
            "marker": {
             "colorbar": {
              "outlinewidth": 0,
              "ticks": ""
             }
            },
            "type": "scatterpolargl"
           }
          ],
          "scatterternary": [
           {
            "marker": {
             "colorbar": {
              "outlinewidth": 0,
              "ticks": ""
             }
            },
            "type": "scatterternary"
           }
          ],
          "surface": [
           {
            "colorbar": {
             "outlinewidth": 0,
             "ticks": ""
            },
            "colorscale": [
             [
              0,
              "#0d0887"
             ],
             [
              0.1111111111111111,
              "#46039f"
             ],
             [
              0.2222222222222222,
              "#7201a8"
             ],
             [
              0.3333333333333333,
              "#9c179e"
             ],
             [
              0.4444444444444444,
              "#bd3786"
             ],
             [
              0.5555555555555556,
              "#d8576b"
             ],
             [
              0.6666666666666666,
              "#ed7953"
             ],
             [
              0.7777777777777778,
              "#fb9f3a"
             ],
             [
              0.8888888888888888,
              "#fdca26"
             ],
             [
              1,
              "#f0f921"
             ]
            ],
            "type": "surface"
           }
          ],
          "table": [
           {
            "cells": {
             "fill": {
              "color": "#EBF0F8"
             },
             "line": {
              "color": "white"
             }
            },
            "header": {
             "fill": {
              "color": "#C8D4E3"
             },
             "line": {
              "color": "white"
             }
            },
            "type": "table"
           }
          ]
         },
         "layout": {
          "annotationdefaults": {
           "arrowcolor": "#2a3f5f",
           "arrowhead": 0,
           "arrowwidth": 1
          },
          "autotypenumbers": "strict",
          "coloraxis": {
           "colorbar": {
            "outlinewidth": 0,
            "ticks": ""
           }
          },
          "colorscale": {
           "diverging": [
            [
             0,
             "#8e0152"
            ],
            [
             0.1,
             "#c51b7d"
            ],
            [
             0.2,
             "#de77ae"
            ],
            [
             0.3,
             "#f1b6da"
            ],
            [
             0.4,
             "#fde0ef"
            ],
            [
             0.5,
             "#f7f7f7"
            ],
            [
             0.6,
             "#e6f5d0"
            ],
            [
             0.7,
             "#b8e186"
            ],
            [
             0.8,
             "#7fbc41"
            ],
            [
             0.9,
             "#4d9221"
            ],
            [
             1,
             "#276419"
            ]
           ],
           "sequential": [
            [
             0,
             "#0d0887"
            ],
            [
             0.1111111111111111,
             "#46039f"
            ],
            [
             0.2222222222222222,
             "#7201a8"
            ],
            [
             0.3333333333333333,
             "#9c179e"
            ],
            [
             0.4444444444444444,
             "#bd3786"
            ],
            [
             0.5555555555555556,
             "#d8576b"
            ],
            [
             0.6666666666666666,
             "#ed7953"
            ],
            [
             0.7777777777777778,
             "#fb9f3a"
            ],
            [
             0.8888888888888888,
             "#fdca26"
            ],
            [
             1,
             "#f0f921"
            ]
           ],
           "sequentialminus": [
            [
             0,
             "#0d0887"
            ],
            [
             0.1111111111111111,
             "#46039f"
            ],
            [
             0.2222222222222222,
             "#7201a8"
            ],
            [
             0.3333333333333333,
             "#9c179e"
            ],
            [
             0.4444444444444444,
             "#bd3786"
            ],
            [
             0.5555555555555556,
             "#d8576b"
            ],
            [
             0.6666666666666666,
             "#ed7953"
            ],
            [
             0.7777777777777778,
             "#fb9f3a"
            ],
            [
             0.8888888888888888,
             "#fdca26"
            ],
            [
             1,
             "#f0f921"
            ]
           ]
          },
          "colorway": [
           "#636efa",
           "#EF553B",
           "#00cc96",
           "#ab63fa",
           "#FFA15A",
           "#19d3f3",
           "#FF6692",
           "#B6E880",
           "#FF97FF",
           "#FECB52"
          ],
          "font": {
           "color": "#2a3f5f"
          },
          "geo": {
           "bgcolor": "white",
           "lakecolor": "white",
           "landcolor": "#E5ECF6",
           "showlakes": true,
           "showland": true,
           "subunitcolor": "white"
          },
          "hoverlabel": {
           "align": "left"
          },
          "hovermode": "closest",
          "mapbox": {
           "style": "light"
          },
          "paper_bgcolor": "white",
          "plot_bgcolor": "#E5ECF6",
          "polar": {
           "angularaxis": {
            "gridcolor": "white",
            "linecolor": "white",
            "ticks": ""
           },
           "bgcolor": "#E5ECF6",
           "radialaxis": {
            "gridcolor": "white",
            "linecolor": "white",
            "ticks": ""
           }
          },
          "scene": {
           "xaxis": {
            "backgroundcolor": "#E5ECF6",
            "gridcolor": "white",
            "gridwidth": 2,
            "linecolor": "white",
            "showbackground": true,
            "ticks": "",
            "zerolinecolor": "white"
           },
           "yaxis": {
            "backgroundcolor": "#E5ECF6",
            "gridcolor": "white",
            "gridwidth": 2,
            "linecolor": "white",
            "showbackground": true,
            "ticks": "",
            "zerolinecolor": "white"
           },
           "zaxis": {
            "backgroundcolor": "#E5ECF6",
            "gridcolor": "white",
            "gridwidth": 2,
            "linecolor": "white",
            "showbackground": true,
            "ticks": "",
            "zerolinecolor": "white"
           }
          },
          "shapedefaults": {
           "line": {
            "color": "#2a3f5f"
           }
          },
          "ternary": {
           "aaxis": {
            "gridcolor": "white",
            "linecolor": "white",
            "ticks": ""
           },
           "baxis": {
            "gridcolor": "white",
            "linecolor": "white",
            "ticks": ""
           },
           "bgcolor": "#E5ECF6",
           "caxis": {
            "gridcolor": "white",
            "linecolor": "white",
            "ticks": ""
           }
          },
          "title": {
           "x": 0.05
          },
          "xaxis": {
           "automargin": true,
           "gridcolor": "white",
           "linecolor": "white",
           "ticks": "",
           "title": {
            "standoff": 15
           },
           "zerolinecolor": "white",
           "zerolinewidth": 2
          },
          "yaxis": {
           "automargin": true,
           "gridcolor": "white",
           "linecolor": "white",
           "ticks": "",
           "title": {
            "standoff": 15
           },
           "zerolinecolor": "white",
           "zerolinewidth": 2
          }
         }
        },
        "title": {
         "font": {
          "color": "dimgrey",
          "size": 30
         },
         "text": "Effect of Coefficient of Rolling Resistance on model Velocity Kgs"
        },
        "xaxis": {
         "anchor": "y",
         "domain": [
          0,
          1
         ],
         "gridcolor": "#e6e6e6",
         "gridwidth": 1,
         "showgrid": true,
         "title": {
          "text": "Coefficient of Rolling Resistance  <i> </i>"
         }
        },
        "yaxis": {
         "anchor": "x",
         "domain": [
          0,
          1
         ],
         "gridcolor": "#e6e6e6",
         "gridwidth": 1,
         "range": [
          41.86960610228119,
          409.39170411119386
         ],
         "showgrid": true,
         "title": {
          "text": "Water Ration Kms"
         }
        }
       }
      }
     },
     "metadata": {},
     "output_type": "display_data"
    },
    {
     "data": {
      "application/vnd.plotly.v1+json": {
       "config": {
        "plotlyServerURL": "https://plotly.com"
       },
       "data": [
        {
         "customdata": [
          [
           103.47641687148482,
           1.6585264102312156,
           1.468138022588263,
           1.8489147978741682
          ],
          [
           102.65876000288918,
           1.6453465722933187,
           1.4566947530784053,
           1.8339983915082316
          ],
          [
           101.89847967376042,
           1.633086518697289,
           1.4460582031794942,
           1.8201148342150848
          ],
          [
           101.1882483917781,
           1.6216289352058044,
           1.4361248964592783,
           1.80713297395233
          ],
          [
           100.52204329876001,
           1.610877416221432,
           1.4268098604111266,
           1.7949449720317379
          ],
          [
           99.89485561387099,
           1.6007517975642205,
           1.4180424886393164,
           1.783461106489125
          ],
          [
           99.3024764108838,
           1.5911847189861141,
           1.4097634940286212,
           1.772605943943607
          ],
          [
           98.74133592107752,
           1.582119047807734,
           1.4019226259157658,
           1.7623154696997019
          ],
          [
           98.20838111477914,
           1.5735059176635227,
           1.3944769329575395,
           1.7525349023695056
          ],
          [
           97.70098114380124,
           1.565303214500212,
           1.387389422716997,
           1.7432170062834271
          ],
          [
           97.21685338580605,
           1.55747439301445,
           1.380628014282967,
           1.7343207717459324
          ],
          [
           96.75400494255028,
           1.5499875407755033,
           1.3741647104721626,
           1.725810371078844
          ],
          [
           96.31068588214072,
           1.542814630454847,
           1.3679749367393874,
           1.717654324170306
          ],
          [
           95.88535151266107,
           1.535930916635608,
           1.3620370081732582,
           1.7098248250979566
          ],
          [
           95.47663167710593,
           1.5293144449724754,
           1.3563316959857847,
           1.702297193959166
          ],
          [
           95.0833055618512,
           1.5229456495419624,
           1.3508418720687054,
           1.6950494270152194
          ],
          [
           94.7042808749133,
           1.51680702006623,
           1.345552215376197,
           1.6880618247562629
          ],
          [
           94.3385765172633,
           1.5108828249767798,
           1.3404489676955078,
           1.681316682258052
          ],
          [
           93.98530806867014,
           1.5051588794615873,
           1.3355197291862697,
           1.6747980297369047
          ],
          [
           93.64367555819892,
           1.4996223500208168,
           1.3307532861821634,
           1.66849141385947
          ],
          [
           93.31295310211136,
           1.4942615888596449,
           1.3261394653480183,
           1.6623837123712717
          ],
          [
           92.99248007802426,
           1.489065992824899,
           1.3216690095074621,
           1.6564629761423357
          ],
          [
           92.68165357059091,
           1.4840258826547574,
           1.3173334713980416,
           1.6507182939114733
          ],
          [
           92.37992187560687,
           1.479132399136583,
           1.313125122342511,
           1.6451396759306545
          ],
          [
           92.08677888989523,
           1.4743774134147594,
           1.3090368733979676,
           1.6397179534315507
          ],
          [
           91.80175924624821,
           1.4697534492006672,
           1.3050622069963314,
           1.6344446914050033
          ],
          [
           91.52443407806173,
           1.4652536150421829,
           1.3011951174484475,
           1.6293121126359178
          ],
          [
           91.25440731857526,
           1.4608715451340473,
           1.2974300589707572,
           1.624313031297337
          ],
          [
           90.99131245593864,
           1.4566013474109907,
           1.2937619001239524,
           1.6194407946980285
          ],
          [
           90.73480967851899,
           1.4524375578761965,
           1.2901858837393971,
           1.614689232012996
          ]
         ],
         "hovertemplate": "DataType=Sensitivity<br>Variable=%{x}<br>Water Ration Kms=%{y}<br>MarkerSize=%{marker.size}<br>Velocity Kgs=%{customdata[0]}<br>Mean Trip Velocity=%{customdata[1]}<br>Mean Loaded Velocity=%{customdata[2]}<br>Mean Unloaded Velocity=%{customdata[3]}<extra></extra>",
         "legendgroup": "Sensitivity",
         "marker": {
          "color": "#3D87CB",
          "size": [
           10,
           10,
           10,
           10,
           10,
           10,
           10,
           10,
           10,
           10,
           10,
           10,
           10,
           10,
           10,
           10,
           10,
           10,
           10,
           10,
           10,
           10,
           10,
           10,
           10,
           10,
           10,
           10,
           10,
           10
          ],
          "sizemode": "area",
          "sizeref": 0.125,
          "symbol": "circle"
         },
         "mode": "markers",
         "name": "Sensitivity",
         "orientation": "v",
         "showlegend": true,
         "type": "scatter",
         "x": [
          0.28848285,
          0.30931102758620693,
          0.3301392051724138,
          0.3509673827586207,
          0.3717955603448276,
          0.3926237379310345,
          0.41345191551724136,
          0.4342800931034483,
          0.4551082706896552,
          0.47593644827586207,
          0.49676462586206893,
          0.5175928034482759,
          0.5384209810344828,
          0.5592491586206896,
          0.5800773362068965,
          0.6009055137931034,
          0.6217336913793103,
          0.6425618689655173,
          0.6633900465517242,
          0.6842182241379311,
          0.7050464017241379,
          0.7258745793103448,
          0.7467027568965516,
          0.7675309344827586,
          0.7883591120689655,
          0.8091872896551724,
          0.8300154672413793,
          0.8508436448275862,
          0.8716718224137932,
          0.8925
         ],
         "xaxis": "x",
         "y": [
          198.67472039325085,
          197.10481920554724,
          195.64508097362,
          194.28143691221393,
          193.0023231336192,
          191.7981227786323,
          190.6607547088969,
          189.58336496846886,
          188.56009174037592,
          187.58588379609841,
          186.65635850074761,
          185.76768948969652,
          184.9165168937102,
          184.09987490430925,
          183.31513282004337,
          182.55994667875433,
          181.8322192798335,
          181.13006691314553,
          180.45179149184668,
          179.79585707174192,
          179.16086995605383,
          178.54556174980658,
          177.94877485553454,
          177.36945000116518,
          176.80661546859884,
          176.25937775279658,
          175.7269134298785,
          175.2084620516645,
          174.7033199154022,
          174.21083458275646
         ],
         "yaxis": "y"
        },
        {
         "customdata": [
          [
           96.92038449602128,
           1.5526790707757643,
           1.3764879647771093,
           1.7288701767744197
          ]
         ],
         "hovertemplate": "DataType=Default<br>Variable=%{x}<br>Water Ration Kms=%{y}<br>MarkerSize=%{marker.size}<br>Velocity Kgs=%{customdata[0]}<br>Mean Trip Velocity=%{customdata[1]}<br>Mean Loaded Velocity=%{customdata[2]}<br>Mean Unloaded Velocity=%{customdata[3]}<extra></extra>",
         "legendgroup": "Default",
         "marker": {
          "color": "#F0B323",
          "size": [
           50
          ],
          "sizemode": "area",
          "sizeref": 0.125,
          "symbol": "circle"
         },
         "mode": "markers",
         "name": "Default",
         "orientation": "v",
         "showlegend": true,
         "type": "scatter",
         "x": [
          0.51
         ],
         "xaxis": "x",
         "y": [
          186.08713823236084
         ],
         "yaxis": "y"
        },
        {
         "customdata": [
          [
           100.81994768887652,
           1.6156856382614635,
           1.4309749367140383,
           1.800396339808889
          ]
         ],
         "hovertemplate": "DataType=Minimum Expected<br>Variable=%{x}<br>Water Ration Kms=%{y}<br>MarkerSize=%{marker.size}<br>Velocity Kgs=%{customdata[0]}<br>Mean Trip Velocity=%{customdata[1]}<br>Mean Loaded Velocity=%{customdata[2]}<br>Mean Unloaded Velocity=%{customdata[3]}<extra></extra>",
         "legendgroup": "Minimum Expected",
         "marker": {
          "color": "#DC582A",
          "size": [
           20
          ],
          "sizemode": "area",
          "sizeref": 0.125,
          "symbol": "circle"
         },
         "mode": "markers",
         "name": "Minimum Expected",
         "orientation": "v",
         "showlegend": true,
         "type": "scatter",
         "x": [
          0.3623219
         ],
         "xaxis": "x",
         "y": [
          193.57429956264292
         ],
         "yaxis": "y"
        },
        {
         "customdata": [
          [
           92.41611866354724,
           1.4797194823808493,
           1.313629953444126,
           1.645809011317572
          ]
         ],
         "hovertemplate": "DataType=Maximum Expected<br>Variable=%{x}<br>Water Ration Kms=%{y}<br>MarkerSize=%{marker.size}<br>Velocity Kgs=%{customdata[0]}<br>Mean Trip Velocity=%{customdata[1]}<br>Mean Loaded Velocity=%{customdata[2]}<br>Mean Unloaded Velocity=%{customdata[3]}<extra></extra>",
         "legendgroup": "Maximum Expected",
         "marker": {
          "color": "#674230",
          "size": [
           20
          ],
          "sizemode": "area",
          "sizeref": 0.125,
          "symbol": "circle"
         },
         "mode": "markers",
         "name": "Maximum Expected",
         "orientation": "v",
         "showlegend": true,
         "type": "scatter",
         "x": [
          0.765
         ],
         "xaxis": "x",
         "y": [
          177.4389478340107
         ],
         "yaxis": "y"
        }
       ],
       "layout": {
        "font": {
         "color": "dimgrey",
         "family": "Droid Sans Mono",
         "size": 16
        },
        "legend": {
         "itemsizing": "constant",
         "title": {
          "text": "Legend"
         },
         "tracegroupgap": 0
        },
        "paper_bgcolor": "white",
        "plot_bgcolor": "white",
        "template": {
         "data": {
          "bar": [
           {
            "error_x": {
             "color": "#2a3f5f"
            },
            "error_y": {
             "color": "#2a3f5f"
            },
            "marker": {
             "line": {
              "color": "#E5ECF6",
              "width": 0.5
             },
             "pattern": {
              "fillmode": "overlay",
              "size": 10,
              "solidity": 0.2
             }
            },
            "type": "bar"
           }
          ],
          "barpolar": [
           {
            "marker": {
             "line": {
              "color": "#E5ECF6",
              "width": 0.5
             },
             "pattern": {
              "fillmode": "overlay",
              "size": 10,
              "solidity": 0.2
             }
            },
            "type": "barpolar"
           }
          ],
          "carpet": [
           {
            "aaxis": {
             "endlinecolor": "#2a3f5f",
             "gridcolor": "white",
             "linecolor": "white",
             "minorgridcolor": "white",
             "startlinecolor": "#2a3f5f"
            },
            "baxis": {
             "endlinecolor": "#2a3f5f",
             "gridcolor": "white",
             "linecolor": "white",
             "minorgridcolor": "white",
             "startlinecolor": "#2a3f5f"
            },
            "type": "carpet"
           }
          ],
          "choropleth": [
           {
            "colorbar": {
             "outlinewidth": 0,
             "ticks": ""
            },
            "type": "choropleth"
           }
          ],
          "contour": [
           {
            "colorbar": {
             "outlinewidth": 0,
             "ticks": ""
            },
            "colorscale": [
             [
              0,
              "#0d0887"
             ],
             [
              0.1111111111111111,
              "#46039f"
             ],
             [
              0.2222222222222222,
              "#7201a8"
             ],
             [
              0.3333333333333333,
              "#9c179e"
             ],
             [
              0.4444444444444444,
              "#bd3786"
             ],
             [
              0.5555555555555556,
              "#d8576b"
             ],
             [
              0.6666666666666666,
              "#ed7953"
             ],
             [
              0.7777777777777778,
              "#fb9f3a"
             ],
             [
              0.8888888888888888,
              "#fdca26"
             ],
             [
              1,
              "#f0f921"
             ]
            ],
            "type": "contour"
           }
          ],
          "contourcarpet": [
           {
            "colorbar": {
             "outlinewidth": 0,
             "ticks": ""
            },
            "type": "contourcarpet"
           }
          ],
          "heatmap": [
           {
            "colorbar": {
             "outlinewidth": 0,
             "ticks": ""
            },
            "colorscale": [
             [
              0,
              "#0d0887"
             ],
             [
              0.1111111111111111,
              "#46039f"
             ],
             [
              0.2222222222222222,
              "#7201a8"
             ],
             [
              0.3333333333333333,
              "#9c179e"
             ],
             [
              0.4444444444444444,
              "#bd3786"
             ],
             [
              0.5555555555555556,
              "#d8576b"
             ],
             [
              0.6666666666666666,
              "#ed7953"
             ],
             [
              0.7777777777777778,
              "#fb9f3a"
             ],
             [
              0.8888888888888888,
              "#fdca26"
             ],
             [
              1,
              "#f0f921"
             ]
            ],
            "type": "heatmap"
           }
          ],
          "heatmapgl": [
           {
            "colorbar": {
             "outlinewidth": 0,
             "ticks": ""
            },
            "colorscale": [
             [
              0,
              "#0d0887"
             ],
             [
              0.1111111111111111,
              "#46039f"
             ],
             [
              0.2222222222222222,
              "#7201a8"
             ],
             [
              0.3333333333333333,
              "#9c179e"
             ],
             [
              0.4444444444444444,
              "#bd3786"
             ],
             [
              0.5555555555555556,
              "#d8576b"
             ],
             [
              0.6666666666666666,
              "#ed7953"
             ],
             [
              0.7777777777777778,
              "#fb9f3a"
             ],
             [
              0.8888888888888888,
              "#fdca26"
             ],
             [
              1,
              "#f0f921"
             ]
            ],
            "type": "heatmapgl"
           }
          ],
          "histogram": [
           {
            "marker": {
             "pattern": {
              "fillmode": "overlay",
              "size": 10,
              "solidity": 0.2
             }
            },
            "type": "histogram"
           }
          ],
          "histogram2d": [
           {
            "colorbar": {
             "outlinewidth": 0,
             "ticks": ""
            },
            "colorscale": [
             [
              0,
              "#0d0887"
             ],
             [
              0.1111111111111111,
              "#46039f"
             ],
             [
              0.2222222222222222,
              "#7201a8"
             ],
             [
              0.3333333333333333,
              "#9c179e"
             ],
             [
              0.4444444444444444,
              "#bd3786"
             ],
             [
              0.5555555555555556,
              "#d8576b"
             ],
             [
              0.6666666666666666,
              "#ed7953"
             ],
             [
              0.7777777777777778,
              "#fb9f3a"
             ],
             [
              0.8888888888888888,
              "#fdca26"
             ],
             [
              1,
              "#f0f921"
             ]
            ],
            "type": "histogram2d"
           }
          ],
          "histogram2dcontour": [
           {
            "colorbar": {
             "outlinewidth": 0,
             "ticks": ""
            },
            "colorscale": [
             [
              0,
              "#0d0887"
             ],
             [
              0.1111111111111111,
              "#46039f"
             ],
             [
              0.2222222222222222,
              "#7201a8"
             ],
             [
              0.3333333333333333,
              "#9c179e"
             ],
             [
              0.4444444444444444,
              "#bd3786"
             ],
             [
              0.5555555555555556,
              "#d8576b"
             ],
             [
              0.6666666666666666,
              "#ed7953"
             ],
             [
              0.7777777777777778,
              "#fb9f3a"
             ],
             [
              0.8888888888888888,
              "#fdca26"
             ],
             [
              1,
              "#f0f921"
             ]
            ],
            "type": "histogram2dcontour"
           }
          ],
          "mesh3d": [
           {
            "colorbar": {
             "outlinewidth": 0,
             "ticks": ""
            },
            "type": "mesh3d"
           }
          ],
          "parcoords": [
           {
            "line": {
             "colorbar": {
              "outlinewidth": 0,
              "ticks": ""
             }
            },
            "type": "parcoords"
           }
          ],
          "pie": [
           {
            "automargin": true,
            "type": "pie"
           }
          ],
          "scatter": [
           {
            "fillpattern": {
             "fillmode": "overlay",
             "size": 10,
             "solidity": 0.2
            },
            "type": "scatter"
           }
          ],
          "scatter3d": [
           {
            "line": {
             "colorbar": {
              "outlinewidth": 0,
              "ticks": ""
             }
            },
            "marker": {
             "colorbar": {
              "outlinewidth": 0,
              "ticks": ""
             }
            },
            "type": "scatter3d"
           }
          ],
          "scattercarpet": [
           {
            "marker": {
             "colorbar": {
              "outlinewidth": 0,
              "ticks": ""
             }
            },
            "type": "scattercarpet"
           }
          ],
          "scattergeo": [
           {
            "marker": {
             "colorbar": {
              "outlinewidth": 0,
              "ticks": ""
             }
            },
            "type": "scattergeo"
           }
          ],
          "scattergl": [
           {
            "marker": {
             "colorbar": {
              "outlinewidth": 0,
              "ticks": ""
             }
            },
            "type": "scattergl"
           }
          ],
          "scattermapbox": [
           {
            "marker": {
             "colorbar": {
              "outlinewidth": 0,
              "ticks": ""
             }
            },
            "type": "scattermapbox"
           }
          ],
          "scatterpolar": [
           {
            "marker": {
             "colorbar": {
              "outlinewidth": 0,
              "ticks": ""
             }
            },
            "type": "scatterpolar"
           }
          ],
          "scatterpolargl": [
           {
            "marker": {
             "colorbar": {
              "outlinewidth": 0,
              "ticks": ""
             }
            },
            "type": "scatterpolargl"
           }
          ],
          "scatterternary": [
           {
            "marker": {
             "colorbar": {
              "outlinewidth": 0,
              "ticks": ""
             }
            },
            "type": "scatterternary"
           }
          ],
          "surface": [
           {
            "colorbar": {
             "outlinewidth": 0,
             "ticks": ""
            },
            "colorscale": [
             [
              0,
              "#0d0887"
             ],
             [
              0.1111111111111111,
              "#46039f"
             ],
             [
              0.2222222222222222,
              "#7201a8"
             ],
             [
              0.3333333333333333,
              "#9c179e"
             ],
             [
              0.4444444444444444,
              "#bd3786"
             ],
             [
              0.5555555555555556,
              "#d8576b"
             ],
             [
              0.6666666666666666,
              "#ed7953"
             ],
             [
              0.7777777777777778,
              "#fb9f3a"
             ],
             [
              0.8888888888888888,
              "#fdca26"
             ],
             [
              1,
              "#f0f921"
             ]
            ],
            "type": "surface"
           }
          ],
          "table": [
           {
            "cells": {
             "fill": {
              "color": "#EBF0F8"
             },
             "line": {
              "color": "white"
             }
            },
            "header": {
             "fill": {
              "color": "#C8D4E3"
             },
             "line": {
              "color": "white"
             }
            },
            "type": "table"
           }
          ]
         },
         "layout": {
          "annotationdefaults": {
           "arrowcolor": "#2a3f5f",
           "arrowhead": 0,
           "arrowwidth": 1
          },
          "autotypenumbers": "strict",
          "coloraxis": {
           "colorbar": {
            "outlinewidth": 0,
            "ticks": ""
           }
          },
          "colorscale": {
           "diverging": [
            [
             0,
             "#8e0152"
            ],
            [
             0.1,
             "#c51b7d"
            ],
            [
             0.2,
             "#de77ae"
            ],
            [
             0.3,
             "#f1b6da"
            ],
            [
             0.4,
             "#fde0ef"
            ],
            [
             0.5,
             "#f7f7f7"
            ],
            [
             0.6,
             "#e6f5d0"
            ],
            [
             0.7,
             "#b8e186"
            ],
            [
             0.8,
             "#7fbc41"
            ],
            [
             0.9,
             "#4d9221"
            ],
            [
             1,
             "#276419"
            ]
           ],
           "sequential": [
            [
             0,
             "#0d0887"
            ],
            [
             0.1111111111111111,
             "#46039f"
            ],
            [
             0.2222222222222222,
             "#7201a8"
            ],
            [
             0.3333333333333333,
             "#9c179e"
            ],
            [
             0.4444444444444444,
             "#bd3786"
            ],
            [
             0.5555555555555556,
             "#d8576b"
            ],
            [
             0.6666666666666666,
             "#ed7953"
            ],
            [
             0.7777777777777778,
             "#fb9f3a"
            ],
            [
             0.8888888888888888,
             "#fdca26"
            ],
            [
             1,
             "#f0f921"
            ]
           ],
           "sequentialminus": [
            [
             0,
             "#0d0887"
            ],
            [
             0.1111111111111111,
             "#46039f"
            ],
            [
             0.2222222222222222,
             "#7201a8"
            ],
            [
             0.3333333333333333,
             "#9c179e"
            ],
            [
             0.4444444444444444,
             "#bd3786"
            ],
            [
             0.5555555555555556,
             "#d8576b"
            ],
            [
             0.6666666666666666,
             "#ed7953"
            ],
            [
             0.7777777777777778,
             "#fb9f3a"
            ],
            [
             0.8888888888888888,
             "#fdca26"
            ],
            [
             1,
             "#f0f921"
            ]
           ]
          },
          "colorway": [
           "#636efa",
           "#EF553B",
           "#00cc96",
           "#ab63fa",
           "#FFA15A",
           "#19d3f3",
           "#FF6692",
           "#B6E880",
           "#FF97FF",
           "#FECB52"
          ],
          "font": {
           "color": "#2a3f5f"
          },
          "geo": {
           "bgcolor": "white",
           "lakecolor": "white",
           "landcolor": "#E5ECF6",
           "showlakes": true,
           "showland": true,
           "subunitcolor": "white"
          },
          "hoverlabel": {
           "align": "left"
          },
          "hovermode": "closest",
          "mapbox": {
           "style": "light"
          },
          "paper_bgcolor": "white",
          "plot_bgcolor": "#E5ECF6",
          "polar": {
           "angularaxis": {
            "gridcolor": "white",
            "linecolor": "white",
            "ticks": ""
           },
           "bgcolor": "#E5ECF6",
           "radialaxis": {
            "gridcolor": "white",
            "linecolor": "white",
            "ticks": ""
           }
          },
          "scene": {
           "xaxis": {
            "backgroundcolor": "#E5ECF6",
            "gridcolor": "white",
            "gridwidth": 2,
            "linecolor": "white",
            "showbackground": true,
            "ticks": "",
            "zerolinecolor": "white"
           },
           "yaxis": {
            "backgroundcolor": "#E5ECF6",
            "gridcolor": "white",
            "gridwidth": 2,
            "linecolor": "white",
            "showbackground": true,
            "ticks": "",
            "zerolinecolor": "white"
           },
           "zaxis": {
            "backgroundcolor": "#E5ECF6",
            "gridcolor": "white",
            "gridwidth": 2,
            "linecolor": "white",
            "showbackground": true,
            "ticks": "",
            "zerolinecolor": "white"
           }
          },
          "shapedefaults": {
           "line": {
            "color": "#2a3f5f"
           }
          },
          "ternary": {
           "aaxis": {
            "gridcolor": "white",
            "linecolor": "white",
            "ticks": ""
           },
           "baxis": {
            "gridcolor": "white",
            "linecolor": "white",
            "ticks": ""
           },
           "bgcolor": "#E5ECF6",
           "caxis": {
            "gridcolor": "white",
            "linecolor": "white",
            "ticks": ""
           }
          },
          "title": {
           "x": 0.05
          },
          "xaxis": {
           "automargin": true,
           "gridcolor": "white",
           "linecolor": "white",
           "ticks": "",
           "title": {
            "standoff": 15
           },
           "zerolinecolor": "white",
           "zerolinewidth": 2
          },
          "yaxis": {
           "automargin": true,
           "gridcolor": "white",
           "linecolor": "white",
           "ticks": "",
           "title": {
            "standoff": 15
           },
           "zerolinecolor": "white",
           "zerolinewidth": 2
          }
         }
        },
        "title": {
         "font": {
          "color": "dimgrey",
          "size": 30
         },
         "text": "Effect of Reference Area on model Velocity Kgs"
        },
        "xaxis": {
         "anchor": "y",
         "domain": [
          0,
          1
         ],
         "gridcolor": "#e6e6e6",
         "gridwidth": 1,
         "showgrid": true,
         "title": {
          "text": "Reference Area  <i>[m^2]</i>"
         }
        },
        "yaxis": {
         "anchor": "x",
         "domain": [
          0,
          1
         ],
         "gridcolor": "#e6e6e6",
         "gridwidth": 1,
         "range": [
          41.86960610228119,
          409.39170411119386
         ],
         "showgrid": true,
         "title": {
          "text": "Water Ration Kms"
         }
        }
       }
      }
     },
     "metadata": {},
     "output_type": "display_data"
    },
    {
     "data": {
      "application/vnd.plotly.v1+json": {
       "config": {
        "plotlyServerURL": "https://plotly.com"
       },
       "data": [
        {
         "customdata": [
          [
           97.3027278120081,
           1.5588632337072421,
           1.3818272787028747,
           1.735899188711609
          ],
          [
           97.15606163904457,
           1.5564911691252794,
           1.3797790562705359,
           1.7332032819800227
          ],
          [
           97.01141051104786,
           1.5541514887331556,
           1.3777590619023905,
           1.7305439155639197
          ],
          [
           96.86872117501143,
           1.5518433396521276,
           1.3757665477110939,
           1.7279201315931625
          ],
          [
           96.72794243803517,
           1.549565901945135,
           1.3738007948217301,
           1.7253310090685399
          ],
          [
           96.58902506313157,
           1.5473183869509486,
           1.3718611118999189,
           1.722775662001979
          ],
          [
           96.45192167150608,
           1.5451000357219544,
           1.3699468337717071,
           1.720253237672202
          ],
          [
           96.31658665083756,
           1.5429101175579132,
           1.3680573201284505,
           1.717762914987375
          ],
          [
           96.18297606912208,
           1.5407479286287333,
           1.3661919543105134,
           1.7153039029469535
          ],
          [
           96.05104759368683,
           1.5386127906799496,
           1.3643501421641377,
           1.712875439195761
          ],
          [
           95.92076041499516,
           1.5365040498148217,
           1.362531310966236,
           1.7104767886634074
          ],
          [
           95.79207517492269,
           1.5344210753479524,
           1.3607349084123828,
           1.7081072422835222
          ],
          [
           95.66495389918417,
           1.5323632587252698,
           1.3589604016635841,
           1.705766115786955
          ],
          [
           95.53935993363034,
           1.5303300125058963,
           1.3572072764477983,
           1.7034527485639945
          ],
          [
           95.41525788415285,
           1.5283207694017047,
           1.355475036212486,
           1.701166502590923
          ],
          [
           95.29261355995462,
           1.5263349813706772,
           1.3537632013247645,
           1.6989067614165898
          ],
          [
           95.1713939199639,
           1.5243721187605186,
           1.352071308316002,
           1.6966729292050353
          ],
          [
           95.05156702218464,
           1.5224316694992084,
           1.3503989091679276,
           1.6944644298304887
          ],
          [
           94.93310197579379,
           1.5205131383294574,
           1.3487455706375617,
           1.6922807060213527
          ],
          [
           94.81596889580877,
           1.5186160460842444,
           1.3471108736184665,
           1.6901212185500223
          ],
          [
           94.700138860162,
           1.5167399290008203,
           1.3454944125360027,
           1.6879854454656376
          ],
          [
           94.58558386903124,
           1.5148843380707646,
           1.3438957947744505,
           1.6858728813670791
          ],
          [
           94.47227680628535,
           1.5130488384238459,
           1.3423146401340096,
           1.6837830367136828
          ],
          [
           94.3601914029155,
           1.511233008743609,
           1.340750580315828,
           1.6817154371713903
          ],
          [
           94.24930220233001,
           1.50943644071274,
           1.3392032584333482,
           1.6796696229921322
          ],
          [
           94.13958452740165,
           1.5076587384864313,
           1.3376723285483836,
           1.677645148424479
          ],
          [
           94.0310144491609,
           1.5058995181920525,
           1.3361574552304323,
           1.6756415811536722
          ],
          [
           93.92356875703946,
           1.5041584074535805,
           1.3346583131378602,
           1.6736585017693009
          ],
          [
           93.81722493057208,
           1.502435044939334,
           1.3331745866196558,
           1.671695503259012
          ],
          [
           93.71196111247215,
           1.500729079931655,
           1.3317059693365763,
           1.6697521905267332
          ]
         ],
         "hovertemplate": "DataType=Sensitivity<br>Variable=%{x}<br>Water Ration Kms=%{y}<br>MarkerSize=%{marker.size}<br>Velocity Kgs=%{customdata[0]}<br>Mean Trip Velocity=%{customdata[1]}<br>Mean Loaded Velocity=%{customdata[2]}<br>Mean Unloaded Velocity=%{customdata[3]}<extra></extra>",
         "legendgroup": "Sensitivity",
         "marker": {
          "color": "#3D87CB",
          "size": [
           10,
           10,
           10,
           10,
           10,
           10,
           10,
           10,
           10,
           10,
           10,
           10,
           10,
           10,
           10,
           10,
           10,
           10,
           10,
           10,
           10,
           10,
           10,
           10,
           10,
           10,
           10,
           10,
           10,
           10
          ],
          "sizemode": "area",
          "sizeref": 0.125,
          "symbol": "circle"
         },
         "mode": "markers",
         "name": "Sensitivity",
         "orientation": "v",
         "showlegend": true,
         "type": "scatter",
         "x": [
          0.87,
          0.8813793103448275,
          0.8927586206896552,
          0.9041379310344827,
          0.9155172413793103,
          0.9268965517241379,
          0.9382758620689655,
          0.949655172413793,
          0.9610344827586207,
          0.9724137931034482,
          0.9837931034482759,
          0.9951724137931034,
          1.006551724137931,
          1.0179310344827586,
          1.0293103448275862,
          1.0406896551724139,
          1.0520689655172413,
          1.063448275862069,
          1.0748275862068966,
          1.0862068965517242,
          1.0975862068965516,
          1.1089655172413793,
          1.120344827586207,
          1.1317241379310343,
          1.143103448275862,
          1.1544827586206896,
          1.1658620689655173,
          1.177241379310345,
          1.1886206896551723,
          1.2
         ],
         "xaxis": "x",
         "y": [
          186.82123739905555,
          186.53963834696555,
          186.26190818121188,
          185.98794465602194,
          185.71764948102754,
          185.4509281212126,
          185.1876896092917,
          184.9278463696081,
          184.6713140527144,
          184.41801137987875,
          184.1678599967907,
          183.92078433585155,
          183.6767114864336,
          183.43557107257024,
          183.19729513757346,
          182.96181803511286,
          182.7290763263307,
          182.4990086825945,
          182.27155579352407,
          182.04666027995285,
          181.82426661151104,
          181.60432102853997,
          181.38677146806785,
          181.17156749359776,
          180.95866022847363,
          180.74800229261118,
          180.53954774238895,
          180.33325201351576,
          180.1290718666984,
          179.92696533594653
         ],
         "yaxis": "y"
        },
        {
         "customdata": [
          [
           96.92038449602128,
           1.5526790707757643,
           1.3764879647771093,
           1.7288701767744197
          ]
         ],
         "hovertemplate": "DataType=Default<br>Variable=%{x}<br>Water Ration Kms=%{y}<br>MarkerSize=%{marker.size}<br>Velocity Kgs=%{customdata[0]}<br>Mean Trip Velocity=%{customdata[1]}<br>Mean Loaded Velocity=%{customdata[2]}<br>Mean Unloaded Velocity=%{customdata[3]}<extra></extra>",
         "legendgroup": "Default",
         "marker": {
          "color": "#F0B323",
          "size": [
           50
          ],
          "sizemode": "area",
          "sizeref": 0.125,
          "symbol": "circle"
         },
         "mode": "markers",
         "name": "Default",
         "orientation": "v",
         "showlegend": true,
         "type": "scatter",
         "x": [
          0.9
         ],
         "xaxis": "x",
         "y": [
          186.08713823236084
         ],
         "yaxis": "y"
        },
        {
         "customdata": [
          [
           97.17373095346805,
           1.5567769499911999,
           1.3800258070299674,
           1.7335280929524328
          ]
         ],
         "hovertemplate": "DataType=Minimum Expected<br>Variable=%{x}<br>Water Ration Kms=%{y}<br>MarkerSize=%{marker.size}<br>Velocity Kgs=%{customdata[0]}<br>Mean Trip Velocity=%{customdata[1]}<br>Mean Loaded Velocity=%{customdata[2]}<br>Mean Unloaded Velocity=%{customdata[3]}<extra></extra>",
         "legendgroup": "Minimum Expected",
         "marker": {
          "color": "#DC582A",
          "size": [
           20
          ],
          "sizemode": "area",
          "sizeref": 0.125,
          "symbol": "circle"
         },
         "mode": "markers",
         "name": "Minimum Expected",
         "orientation": "v",
         "showlegend": true,
         "type": "scatter",
         "x": [
          0.88
         ],
         "xaxis": "x",
         "y": [
          186.57356343065865
         ],
         "yaxis": "y"
        },
        {
         "customdata": [
          [
           94.675733698771,
           1.5163446184703915,
           1.3451538337794822,
           1.687535403161301
          ]
         ],
         "hovertemplate": "DataType=Maximum Expected<br>Variable=%{x}<br>Water Ration Kms=%{y}<br>MarkerSize=%{marker.size}<br>Velocity Kgs=%{customdata[0]}<br>Mean Trip Velocity=%{customdata[1]}<br>Mean Loaded Velocity=%{customdata[2]}<br>Mean Unloaded Velocity=%{customdata[3]}<extra></extra>",
         "legendgroup": "Maximum Expected",
         "marker": {
          "color": "#674230",
          "size": [
           20
          ],
          "sizemode": "area",
          "sizeref": 0.125,
          "symbol": "circle"
         },
         "mode": "markers",
         "name": "Maximum Expected",
         "orientation": "v",
         "showlegend": true,
         "type": "scatter",
         "x": [
          1.1
         ],
         "xaxis": "x",
         "y": [
          181.77740870164033
         ],
         "yaxis": "y"
        }
       ],
       "layout": {
        "font": {
         "color": "dimgrey",
         "family": "Droid Sans Mono",
         "size": 16
        },
        "legend": {
         "itemsizing": "constant",
         "title": {
          "text": "Legend"
         },
         "tracegroupgap": 0
        },
        "paper_bgcolor": "white",
        "plot_bgcolor": "white",
        "template": {
         "data": {
          "bar": [
           {
            "error_x": {
             "color": "#2a3f5f"
            },
            "error_y": {
             "color": "#2a3f5f"
            },
            "marker": {
             "line": {
              "color": "#E5ECF6",
              "width": 0.5
             },
             "pattern": {
              "fillmode": "overlay",
              "size": 10,
              "solidity": 0.2
             }
            },
            "type": "bar"
           }
          ],
          "barpolar": [
           {
            "marker": {
             "line": {
              "color": "#E5ECF6",
              "width": 0.5
             },
             "pattern": {
              "fillmode": "overlay",
              "size": 10,
              "solidity": 0.2
             }
            },
            "type": "barpolar"
           }
          ],
          "carpet": [
           {
            "aaxis": {
             "endlinecolor": "#2a3f5f",
             "gridcolor": "white",
             "linecolor": "white",
             "minorgridcolor": "white",
             "startlinecolor": "#2a3f5f"
            },
            "baxis": {
             "endlinecolor": "#2a3f5f",
             "gridcolor": "white",
             "linecolor": "white",
             "minorgridcolor": "white",
             "startlinecolor": "#2a3f5f"
            },
            "type": "carpet"
           }
          ],
          "choropleth": [
           {
            "colorbar": {
             "outlinewidth": 0,
             "ticks": ""
            },
            "type": "choropleth"
           }
          ],
          "contour": [
           {
            "colorbar": {
             "outlinewidth": 0,
             "ticks": ""
            },
            "colorscale": [
             [
              0,
              "#0d0887"
             ],
             [
              0.1111111111111111,
              "#46039f"
             ],
             [
              0.2222222222222222,
              "#7201a8"
             ],
             [
              0.3333333333333333,
              "#9c179e"
             ],
             [
              0.4444444444444444,
              "#bd3786"
             ],
             [
              0.5555555555555556,
              "#d8576b"
             ],
             [
              0.6666666666666666,
              "#ed7953"
             ],
             [
              0.7777777777777778,
              "#fb9f3a"
             ],
             [
              0.8888888888888888,
              "#fdca26"
             ],
             [
              1,
              "#f0f921"
             ]
            ],
            "type": "contour"
           }
          ],
          "contourcarpet": [
           {
            "colorbar": {
             "outlinewidth": 0,
             "ticks": ""
            },
            "type": "contourcarpet"
           }
          ],
          "heatmap": [
           {
            "colorbar": {
             "outlinewidth": 0,
             "ticks": ""
            },
            "colorscale": [
             [
              0,
              "#0d0887"
             ],
             [
              0.1111111111111111,
              "#46039f"
             ],
             [
              0.2222222222222222,
              "#7201a8"
             ],
             [
              0.3333333333333333,
              "#9c179e"
             ],
             [
              0.4444444444444444,
              "#bd3786"
             ],
             [
              0.5555555555555556,
              "#d8576b"
             ],
             [
              0.6666666666666666,
              "#ed7953"
             ],
             [
              0.7777777777777778,
              "#fb9f3a"
             ],
             [
              0.8888888888888888,
              "#fdca26"
             ],
             [
              1,
              "#f0f921"
             ]
            ],
            "type": "heatmap"
           }
          ],
          "heatmapgl": [
           {
            "colorbar": {
             "outlinewidth": 0,
             "ticks": ""
            },
            "colorscale": [
             [
              0,
              "#0d0887"
             ],
             [
              0.1111111111111111,
              "#46039f"
             ],
             [
              0.2222222222222222,
              "#7201a8"
             ],
             [
              0.3333333333333333,
              "#9c179e"
             ],
             [
              0.4444444444444444,
              "#bd3786"
             ],
             [
              0.5555555555555556,
              "#d8576b"
             ],
             [
              0.6666666666666666,
              "#ed7953"
             ],
             [
              0.7777777777777778,
              "#fb9f3a"
             ],
             [
              0.8888888888888888,
              "#fdca26"
             ],
             [
              1,
              "#f0f921"
             ]
            ],
            "type": "heatmapgl"
           }
          ],
          "histogram": [
           {
            "marker": {
             "pattern": {
              "fillmode": "overlay",
              "size": 10,
              "solidity": 0.2
             }
            },
            "type": "histogram"
           }
          ],
          "histogram2d": [
           {
            "colorbar": {
             "outlinewidth": 0,
             "ticks": ""
            },
            "colorscale": [
             [
              0,
              "#0d0887"
             ],
             [
              0.1111111111111111,
              "#46039f"
             ],
             [
              0.2222222222222222,
              "#7201a8"
             ],
             [
              0.3333333333333333,
              "#9c179e"
             ],
             [
              0.4444444444444444,
              "#bd3786"
             ],
             [
              0.5555555555555556,
              "#d8576b"
             ],
             [
              0.6666666666666666,
              "#ed7953"
             ],
             [
              0.7777777777777778,
              "#fb9f3a"
             ],
             [
              0.8888888888888888,
              "#fdca26"
             ],
             [
              1,
              "#f0f921"
             ]
            ],
            "type": "histogram2d"
           }
          ],
          "histogram2dcontour": [
           {
            "colorbar": {
             "outlinewidth": 0,
             "ticks": ""
            },
            "colorscale": [
             [
              0,
              "#0d0887"
             ],
             [
              0.1111111111111111,
              "#46039f"
             ],
             [
              0.2222222222222222,
              "#7201a8"
             ],
             [
              0.3333333333333333,
              "#9c179e"
             ],
             [
              0.4444444444444444,
              "#bd3786"
             ],
             [
              0.5555555555555556,
              "#d8576b"
             ],
             [
              0.6666666666666666,
              "#ed7953"
             ],
             [
              0.7777777777777778,
              "#fb9f3a"
             ],
             [
              0.8888888888888888,
              "#fdca26"
             ],
             [
              1,
              "#f0f921"
             ]
            ],
            "type": "histogram2dcontour"
           }
          ],
          "mesh3d": [
           {
            "colorbar": {
             "outlinewidth": 0,
             "ticks": ""
            },
            "type": "mesh3d"
           }
          ],
          "parcoords": [
           {
            "line": {
             "colorbar": {
              "outlinewidth": 0,
              "ticks": ""
             }
            },
            "type": "parcoords"
           }
          ],
          "pie": [
           {
            "automargin": true,
            "type": "pie"
           }
          ],
          "scatter": [
           {
            "fillpattern": {
             "fillmode": "overlay",
             "size": 10,
             "solidity": 0.2
            },
            "type": "scatter"
           }
          ],
          "scatter3d": [
           {
            "line": {
             "colorbar": {
              "outlinewidth": 0,
              "ticks": ""
             }
            },
            "marker": {
             "colorbar": {
              "outlinewidth": 0,
              "ticks": ""
             }
            },
            "type": "scatter3d"
           }
          ],
          "scattercarpet": [
           {
            "marker": {
             "colorbar": {
              "outlinewidth": 0,
              "ticks": ""
             }
            },
            "type": "scattercarpet"
           }
          ],
          "scattergeo": [
           {
            "marker": {
             "colorbar": {
              "outlinewidth": 0,
              "ticks": ""
             }
            },
            "type": "scattergeo"
           }
          ],
          "scattergl": [
           {
            "marker": {
             "colorbar": {
              "outlinewidth": 0,
              "ticks": ""
             }
            },
            "type": "scattergl"
           }
          ],
          "scattermapbox": [
           {
            "marker": {
             "colorbar": {
              "outlinewidth": 0,
              "ticks": ""
             }
            },
            "type": "scattermapbox"
           }
          ],
          "scatterpolar": [
           {
            "marker": {
             "colorbar": {
              "outlinewidth": 0,
              "ticks": ""
             }
            },
            "type": "scatterpolar"
           }
          ],
          "scatterpolargl": [
           {
            "marker": {
             "colorbar": {
              "outlinewidth": 0,
              "ticks": ""
             }
            },
            "type": "scatterpolargl"
           }
          ],
          "scatterternary": [
           {
            "marker": {
             "colorbar": {
              "outlinewidth": 0,
              "ticks": ""
             }
            },
            "type": "scatterternary"
           }
          ],
          "surface": [
           {
            "colorbar": {
             "outlinewidth": 0,
             "ticks": ""
            },
            "colorscale": [
             [
              0,
              "#0d0887"
             ],
             [
              0.1111111111111111,
              "#46039f"
             ],
             [
              0.2222222222222222,
              "#7201a8"
             ],
             [
              0.3333333333333333,
              "#9c179e"
             ],
             [
              0.4444444444444444,
              "#bd3786"
             ],
             [
              0.5555555555555556,
              "#d8576b"
             ],
             [
              0.6666666666666666,
              "#ed7953"
             ],
             [
              0.7777777777777778,
              "#fb9f3a"
             ],
             [
              0.8888888888888888,
              "#fdca26"
             ],
             [
              1,
              "#f0f921"
             ]
            ],
            "type": "surface"
           }
          ],
          "table": [
           {
            "cells": {
             "fill": {
              "color": "#EBF0F8"
             },
             "line": {
              "color": "white"
             }
            },
            "header": {
             "fill": {
              "color": "#C8D4E3"
             },
             "line": {
              "color": "white"
             }
            },
            "type": "table"
           }
          ]
         },
         "layout": {
          "annotationdefaults": {
           "arrowcolor": "#2a3f5f",
           "arrowhead": 0,
           "arrowwidth": 1
          },
          "autotypenumbers": "strict",
          "coloraxis": {
           "colorbar": {
            "outlinewidth": 0,
            "ticks": ""
           }
          },
          "colorscale": {
           "diverging": [
            [
             0,
             "#8e0152"
            ],
            [
             0.1,
             "#c51b7d"
            ],
            [
             0.2,
             "#de77ae"
            ],
            [
             0.3,
             "#f1b6da"
            ],
            [
             0.4,
             "#fde0ef"
            ],
            [
             0.5,
             "#f7f7f7"
            ],
            [
             0.6,
             "#e6f5d0"
            ],
            [
             0.7,
             "#b8e186"
            ],
            [
             0.8,
             "#7fbc41"
            ],
            [
             0.9,
             "#4d9221"
            ],
            [
             1,
             "#276419"
            ]
           ],
           "sequential": [
            [
             0,
             "#0d0887"
            ],
            [
             0.1111111111111111,
             "#46039f"
            ],
            [
             0.2222222222222222,
             "#7201a8"
            ],
            [
             0.3333333333333333,
             "#9c179e"
            ],
            [
             0.4444444444444444,
             "#bd3786"
            ],
            [
             0.5555555555555556,
             "#d8576b"
            ],
            [
             0.6666666666666666,
             "#ed7953"
            ],
            [
             0.7777777777777778,
             "#fb9f3a"
            ],
            [
             0.8888888888888888,
             "#fdca26"
            ],
            [
             1,
             "#f0f921"
            ]
           ],
           "sequentialminus": [
            [
             0,
             "#0d0887"
            ],
            [
             0.1111111111111111,
             "#46039f"
            ],
            [
             0.2222222222222222,
             "#7201a8"
            ],
            [
             0.3333333333333333,
             "#9c179e"
            ],
            [
             0.4444444444444444,
             "#bd3786"
            ],
            [
             0.5555555555555556,
             "#d8576b"
            ],
            [
             0.6666666666666666,
             "#ed7953"
            ],
            [
             0.7777777777777778,
             "#fb9f3a"
            ],
            [
             0.8888888888888888,
             "#fdca26"
            ],
            [
             1,
             "#f0f921"
            ]
           ]
          },
          "colorway": [
           "#636efa",
           "#EF553B",
           "#00cc96",
           "#ab63fa",
           "#FFA15A",
           "#19d3f3",
           "#FF6692",
           "#B6E880",
           "#FF97FF",
           "#FECB52"
          ],
          "font": {
           "color": "#2a3f5f"
          },
          "geo": {
           "bgcolor": "white",
           "lakecolor": "white",
           "landcolor": "#E5ECF6",
           "showlakes": true,
           "showland": true,
           "subunitcolor": "white"
          },
          "hoverlabel": {
           "align": "left"
          },
          "hovermode": "closest",
          "mapbox": {
           "style": "light"
          },
          "paper_bgcolor": "white",
          "plot_bgcolor": "#E5ECF6",
          "polar": {
           "angularaxis": {
            "gridcolor": "white",
            "linecolor": "white",
            "ticks": ""
           },
           "bgcolor": "#E5ECF6",
           "radialaxis": {
            "gridcolor": "white",
            "linecolor": "white",
            "ticks": ""
           }
          },
          "scene": {
           "xaxis": {
            "backgroundcolor": "#E5ECF6",
            "gridcolor": "white",
            "gridwidth": 2,
            "linecolor": "white",
            "showbackground": true,
            "ticks": "",
            "zerolinecolor": "white"
           },
           "yaxis": {
            "backgroundcolor": "#E5ECF6",
            "gridcolor": "white",
            "gridwidth": 2,
            "linecolor": "white",
            "showbackground": true,
            "ticks": "",
            "zerolinecolor": "white"
           },
           "zaxis": {
            "backgroundcolor": "#E5ECF6",
            "gridcolor": "white",
            "gridwidth": 2,
            "linecolor": "white",
            "showbackground": true,
            "ticks": "",
            "zerolinecolor": "white"
           }
          },
          "shapedefaults": {
           "line": {
            "color": "#2a3f5f"
           }
          },
          "ternary": {
           "aaxis": {
            "gridcolor": "white",
            "linecolor": "white",
            "ticks": ""
           },
           "baxis": {
            "gridcolor": "white",
            "linecolor": "white",
            "ticks": ""
           },
           "bgcolor": "#E5ECF6",
           "caxis": {
            "gridcolor": "white",
            "linecolor": "white",
            "ticks": ""
           }
          },
          "title": {
           "x": 0.05
          },
          "xaxis": {
           "automargin": true,
           "gridcolor": "white",
           "linecolor": "white",
           "ticks": "",
           "title": {
            "standoff": 15
           },
           "zerolinecolor": "white",
           "zerolinewidth": 2
          },
          "yaxis": {
           "automargin": true,
           "gridcolor": "white",
           "linecolor": "white",
           "ticks": "",
           "title": {
            "standoff": 15
           },
           "zerolinecolor": "white",
           "zerolinewidth": 2
          }
         }
        },
        "title": {
         "font": {
          "color": "dimgrey",
          "size": 30
         },
         "text": "Effect of Drag Coefficient on model Velocity Kgs"
        },
        "xaxis": {
         "anchor": "y",
         "domain": [
          0,
          1
         ],
         "gridcolor": "#e6e6e6",
         "gridwidth": 1,
         "showgrid": true,
         "title": {
          "text": "Drag Coefficient  <i>nan</i>"
         }
        },
        "yaxis": {
         "anchor": "x",
         "domain": [
          0,
          1
         ],
         "gridcolor": "#e6e6e6",
         "gridwidth": 1,
         "range": [
          41.86960610228119,
          409.39170411119386
         ],
         "showgrid": true,
         "title": {
          "text": "Water Ration Kms"
         }
        }
       }
      }
     },
     "metadata": {},
     "output_type": "display_data"
    },
    {
     "data": {
      "application/vnd.plotly.v1+json": {
       "config": {
        "plotlyServerURL": "https://plotly.com"
       },
       "data": [
        {
         "customdata": [
          [
           69.6971847178129,
           1.1172777144869512,
           0.9884798666785611,
           1.2460755622953412
          ],
          [
           70.91955899866089,
           1.1368499411372364,
           1.0058741228432115,
           1.267825759431261
          ],
          [
           72.13535565290282,
           1.156315210124602,
           1.023177747693584,
           1.2894526725556201
          ],
          [
           73.34473419513736,
           1.1756760099482244,
           1.0403928982248576,
           1.3109591216715908
          ],
          [
           74.54784639670235,
           1.1949347158067813,
           1.0575216280455235,
           1.332347803568039
          ],
          [
           75.74483683680025,
           1.2140935972568807,
           1.0745658949342654,
           1.3536212995794963
          ],
          [
           76.93584340372097,
           1.2331548251881228,
           1.0915275676657108,
           1.3747820827105353
          ],
          [
           78.12099775157064,
           1.2521204781903925,
           1.1084084321907128,
           1.395832524190072
          ],
          [
           79.30042571722885,
           1.2709925483790085,
           1.125210197245281,
           1.4167748995127358
          ],
          [
           80.4742477016712,
           1.2897729467348977,
           1.1419344994524865,
           1.4376113940173083
          ],
          [
           81.64257901929133,
           1.308463508009766,
           1.1585829079733192,
           1.4583441080462125
          ],
          [
           82.80553021842522,
           1.3270659952400978,
           1.17515692875532,
           1.4789750617248756
          ],
          [
           83.96320737590784,
           1.3455821039085514,
           1.1916580084217032,
           1.4995061993953995
          ],
          [
           85.11571236817,
           1.364013465786784,
           1.208087537838414,
           1.519939393735154
          ],
          [
           86.26314312110193,
           1.3823616524898352,
           1.2244468553920345,
           1.5402764495876362
          ],
          [
           87.40559384066725,
           1.400628178768801,
           1.2407372500075384,
           1.5605191075300637
          ],
          [
           88.54315522603602,
           1.4188145055655892,
           1.2569599639314892,
           1.5806690471996894
          ],
          [
           89.6759146668189,
           1.436922042850982,
           1.2731161953033452,
           1.6007278903986186
          ],
          [
           90.8039564258201,
           1.4549521522649764,
           1.2892071005349575,
           1.6206972039949956
          ],
          [
           91.92736180858081,
           1.4729061495764122,
           1.305233796516122,
           1.6405785026367021
          ],
          [
           93.04620932085794,
           1.4907853069771666,
           1.3211973626620845,
           1.660373251292249
          ],
          [
           94.16057481506368,
           1.5085908552245877,
           1.3370988428171795,
           1.6800828676319957
          ],
          [
           95.2705316266084,
           1.526323985644752,
           1.3529392470273032,
           1.699708724262201
          ],
          [
           96.37615070096773,
           1.5439858520074694,
           1.3687195531925678,
           1.7192521508223708
          ],
          [
           97.47750071224901,
           1.5615775722833702,
           1.3844407086103325,
           1.7387144359564082
          ],
          [
           98.57464817393912,
           1.579100230292186,
           1.4001036314177946,
           1.7580968291665773
          ],
          [
           99.66765754245954,
           1.596554877250549,
           1.4157092119423662,
           1.7774005425587318
          ],
          [
           100.75659131409198,
           1.6139425332269135,
           1.4312583139672985,
           1.7966267524865285
          ],
          [
           101.84151011580302,
           1.6312641885105017,
           1.4467517759193038,
           1.8157766011016991
          ],
          [
           102.92247279041969,
           1.6485208049005506,
           1.462190411984209,
           1.8348511978168927
          ]
         ],
         "hovertemplate": "DataType=Sensitivity<br>Variable=%{x}<br>Water Ration Kms=%{y}<br>MarkerSize=%{marker.size}<br>Velocity Kgs=%{customdata[0]}<br>Mean Trip Velocity=%{customdata[1]}<br>Mean Loaded Velocity=%{customdata[2]}<br>Mean Unloaded Velocity=%{customdata[3]}<extra></extra>",
         "legendgroup": "Sensitivity",
         "marker": {
          "color": "#3D87CB",
          "size": [
           10,
           10,
           10,
           10,
           10,
           10,
           10,
           10,
           10,
           10,
           10,
           10,
           10,
           10,
           10,
           10,
           10,
           10,
           10,
           10,
           10,
           10,
           10,
           10,
           10,
           10,
           10,
           10,
           10,
           10
          ],
          "sizemode": "area",
          "sizeref": 0.125,
          "symbol": "circle"
         },
         "mode": "markers",
         "name": "Sensitivity",
         "orientation": "v",
         "showlegend": true,
         "type": "scatter",
         "x": [
          0.6,
          0.6136206896551724,
          0.6272413793103448,
          0.6408620689655172,
          0.6544827586206896,
          0.6681034482758621,
          0.6817241379310345,
          0.6953448275862069,
          0.7089655172413794,
          0.7225862068965517,
          0.7362068965517241,
          0.7498275862068966,
          0.763448275862069,
          0.7770689655172414,
          0.7906896551724139,
          0.8043103448275862,
          0.8179310344827586,
          0.831551724137931,
          0.8451724137931034,
          0.8587931034482759,
          0.8724137931034482,
          0.8860344827586206,
          0.8996551724137931,
          0.9132758620689655,
          0.9268965517241379,
          0.9405172413793104,
          0.9541379310344827,
          0.9677586206896551,
          0.9813793103448276,
          0.995
         ],
         "xaxis": "x",
         "y": [
          133.81859465820077,
          136.1655532774289,
          138.49988285357338,
          140.82188965466375,
          143.1318650816685,
          145.43008672665647,
          147.71681933514424,
          149.99231568301565,
          152.2568173770794,
          154.5105555872087,
          156.75375171703936,
          158.9866180193764,
          161.20935816174307,
          163.4221677468864,
          165.62523479251573,
          167.8187401740811,
          170.00285803398916,
          172.1777561602923,
          174.34359633757458,
          176.50053467247517,
          178.64872189604725,
          180.78830364492228,
          182.91942072308814,
          185.04220934585803,
          187.15680136751809,
          189.26332449396313,
          191.36190248152232,
          193.4526553230566,
          195.5356994223418,
          197.6111477576058
         ],
         "yaxis": "y"
        },
        {
         "customdata": [
          [
           96.92038449602128,
           1.5526790707757643,
           1.3764879647771093,
           1.7288701767744197
          ]
         ],
         "hovertemplate": "DataType=Default<br>Variable=%{x}<br>Water Ration Kms=%{y}<br>MarkerSize=%{marker.size}<br>Velocity Kgs=%{customdata[0]}<br>Mean Trip Velocity=%{customdata[1]}<br>Mean Loaded Velocity=%{customdata[2]}<br>Mean Unloaded Velocity=%{customdata[3]}<extra></extra>",
         "legendgroup": "Default",
         "marker": {
          "color": "#F0B323",
          "size": [
           50
          ],
          "sizemode": "area",
          "sizeref": 0.125,
          "symbol": "circle"
         },
         "mode": "markers",
         "name": "Default",
         "orientation": "v",
         "showlegend": true,
         "type": "scatter",
         "x": [
          0.92
         ],
         "xaxis": "x",
         "y": [
          186.08713823236084
         ],
         "yaxis": "y"
        },
        {
         "customdata": [
          [
           87.0445918491866,
           1.3948563748064824,
           1.2355894399475649,
           1.5541233096653997
          ]
         ],
         "hovertemplate": "DataType=Minimum Expected<br>Variable=%{x}<br>Water Ration Kms=%{y}<br>MarkerSize=%{marker.size}<br>Velocity Kgs=%{customdata[0]}<br>Mean Trip Velocity=%{customdata[1]}<br>Mean Loaded Velocity=%{customdata[2]}<br>Mean Unloaded Velocity=%{customdata[3]}<extra></extra>",
         "legendgroup": "Minimum Expected",
         "marker": {
          "color": "#DC582A",
          "size": [
           20
          ],
          "sizemode": "area",
          "sizeref": 0.125,
          "symbol": "circle"
         },
         "mode": "markers",
         "name": "Minimum Expected",
         "orientation": "v",
         "showlegend": true,
         "type": "scatter",
         "x": [
          0.8
         ],
         "xaxis": "x",
         "y": [
          167.12561635043826
         ],
         "yaxis": "y"
        },
        {
         "customdata": [
          [
           100.93539664955907,
           1.6167974430118357,
           1.4338116736230648,
           1.799783212400607
          ]
         ],
         "hovertemplate": "DataType=Maximum Expected<br>Variable=%{x}<br>Water Ration Kms=%{y}<br>MarkerSize=%{marker.size}<br>Velocity Kgs=%{customdata[0]}<br>Mean Trip Velocity=%{customdata[1]}<br>Mean Loaded Velocity=%{customdata[2]}<br>Mean Unloaded Velocity=%{customdata[3]}<extra></extra>",
         "legendgroup": "Maximum Expected",
         "marker": {
          "color": "#674230",
          "size": [
           20
          ],
          "sizemode": "area",
          "sizeref": 0.125,
          "symbol": "circle"
         },
         "mode": "markers",
         "name": "Maximum Expected",
         "orientation": "v",
         "showlegend": true,
         "type": "scatter",
         "x": [
          0.97
         ],
         "xaxis": "x",
         "y": [
          193.7959615671534
         ],
         "yaxis": "y"
        }
       ],
       "layout": {
        "font": {
         "color": "dimgrey",
         "family": "Droid Sans Mono",
         "size": 16
        },
        "legend": {
         "itemsizing": "constant",
         "title": {
          "text": "Legend"
         },
         "tracegroupgap": 0
        },
        "paper_bgcolor": "white",
        "plot_bgcolor": "white",
        "template": {
         "data": {
          "bar": [
           {
            "error_x": {
             "color": "#2a3f5f"
            },
            "error_y": {
             "color": "#2a3f5f"
            },
            "marker": {
             "line": {
              "color": "#E5ECF6",
              "width": 0.5
             },
             "pattern": {
              "fillmode": "overlay",
              "size": 10,
              "solidity": 0.2
             }
            },
            "type": "bar"
           }
          ],
          "barpolar": [
           {
            "marker": {
             "line": {
              "color": "#E5ECF6",
              "width": 0.5
             },
             "pattern": {
              "fillmode": "overlay",
              "size": 10,
              "solidity": 0.2
             }
            },
            "type": "barpolar"
           }
          ],
          "carpet": [
           {
            "aaxis": {
             "endlinecolor": "#2a3f5f",
             "gridcolor": "white",
             "linecolor": "white",
             "minorgridcolor": "white",
             "startlinecolor": "#2a3f5f"
            },
            "baxis": {
             "endlinecolor": "#2a3f5f",
             "gridcolor": "white",
             "linecolor": "white",
             "minorgridcolor": "white",
             "startlinecolor": "#2a3f5f"
            },
            "type": "carpet"
           }
          ],
          "choropleth": [
           {
            "colorbar": {
             "outlinewidth": 0,
             "ticks": ""
            },
            "type": "choropleth"
           }
          ],
          "contour": [
           {
            "colorbar": {
             "outlinewidth": 0,
             "ticks": ""
            },
            "colorscale": [
             [
              0,
              "#0d0887"
             ],
             [
              0.1111111111111111,
              "#46039f"
             ],
             [
              0.2222222222222222,
              "#7201a8"
             ],
             [
              0.3333333333333333,
              "#9c179e"
             ],
             [
              0.4444444444444444,
              "#bd3786"
             ],
             [
              0.5555555555555556,
              "#d8576b"
             ],
             [
              0.6666666666666666,
              "#ed7953"
             ],
             [
              0.7777777777777778,
              "#fb9f3a"
             ],
             [
              0.8888888888888888,
              "#fdca26"
             ],
             [
              1,
              "#f0f921"
             ]
            ],
            "type": "contour"
           }
          ],
          "contourcarpet": [
           {
            "colorbar": {
             "outlinewidth": 0,
             "ticks": ""
            },
            "type": "contourcarpet"
           }
          ],
          "heatmap": [
           {
            "colorbar": {
             "outlinewidth": 0,
             "ticks": ""
            },
            "colorscale": [
             [
              0,
              "#0d0887"
             ],
             [
              0.1111111111111111,
              "#46039f"
             ],
             [
              0.2222222222222222,
              "#7201a8"
             ],
             [
              0.3333333333333333,
              "#9c179e"
             ],
             [
              0.4444444444444444,
              "#bd3786"
             ],
             [
              0.5555555555555556,
              "#d8576b"
             ],
             [
              0.6666666666666666,
              "#ed7953"
             ],
             [
              0.7777777777777778,
              "#fb9f3a"
             ],
             [
              0.8888888888888888,
              "#fdca26"
             ],
             [
              1,
              "#f0f921"
             ]
            ],
            "type": "heatmap"
           }
          ],
          "heatmapgl": [
           {
            "colorbar": {
             "outlinewidth": 0,
             "ticks": ""
            },
            "colorscale": [
             [
              0,
              "#0d0887"
             ],
             [
              0.1111111111111111,
              "#46039f"
             ],
             [
              0.2222222222222222,
              "#7201a8"
             ],
             [
              0.3333333333333333,
              "#9c179e"
             ],
             [
              0.4444444444444444,
              "#bd3786"
             ],
             [
              0.5555555555555556,
              "#d8576b"
             ],
             [
              0.6666666666666666,
              "#ed7953"
             ],
             [
              0.7777777777777778,
              "#fb9f3a"
             ],
             [
              0.8888888888888888,
              "#fdca26"
             ],
             [
              1,
              "#f0f921"
             ]
            ],
            "type": "heatmapgl"
           }
          ],
          "histogram": [
           {
            "marker": {
             "pattern": {
              "fillmode": "overlay",
              "size": 10,
              "solidity": 0.2
             }
            },
            "type": "histogram"
           }
          ],
          "histogram2d": [
           {
            "colorbar": {
             "outlinewidth": 0,
             "ticks": ""
            },
            "colorscale": [
             [
              0,
              "#0d0887"
             ],
             [
              0.1111111111111111,
              "#46039f"
             ],
             [
              0.2222222222222222,
              "#7201a8"
             ],
             [
              0.3333333333333333,
              "#9c179e"
             ],
             [
              0.4444444444444444,
              "#bd3786"
             ],
             [
              0.5555555555555556,
              "#d8576b"
             ],
             [
              0.6666666666666666,
              "#ed7953"
             ],
             [
              0.7777777777777778,
              "#fb9f3a"
             ],
             [
              0.8888888888888888,
              "#fdca26"
             ],
             [
              1,
              "#f0f921"
             ]
            ],
            "type": "histogram2d"
           }
          ],
          "histogram2dcontour": [
           {
            "colorbar": {
             "outlinewidth": 0,
             "ticks": ""
            },
            "colorscale": [
             [
              0,
              "#0d0887"
             ],
             [
              0.1111111111111111,
              "#46039f"
             ],
             [
              0.2222222222222222,
              "#7201a8"
             ],
             [
              0.3333333333333333,
              "#9c179e"
             ],
             [
              0.4444444444444444,
              "#bd3786"
             ],
             [
              0.5555555555555556,
              "#d8576b"
             ],
             [
              0.6666666666666666,
              "#ed7953"
             ],
             [
              0.7777777777777778,
              "#fb9f3a"
             ],
             [
              0.8888888888888888,
              "#fdca26"
             ],
             [
              1,
              "#f0f921"
             ]
            ],
            "type": "histogram2dcontour"
           }
          ],
          "mesh3d": [
           {
            "colorbar": {
             "outlinewidth": 0,
             "ticks": ""
            },
            "type": "mesh3d"
           }
          ],
          "parcoords": [
           {
            "line": {
             "colorbar": {
              "outlinewidth": 0,
              "ticks": ""
             }
            },
            "type": "parcoords"
           }
          ],
          "pie": [
           {
            "automargin": true,
            "type": "pie"
           }
          ],
          "scatter": [
           {
            "fillpattern": {
             "fillmode": "overlay",
             "size": 10,
             "solidity": 0.2
            },
            "type": "scatter"
           }
          ],
          "scatter3d": [
           {
            "line": {
             "colorbar": {
              "outlinewidth": 0,
              "ticks": ""
             }
            },
            "marker": {
             "colorbar": {
              "outlinewidth": 0,
              "ticks": ""
             }
            },
            "type": "scatter3d"
           }
          ],
          "scattercarpet": [
           {
            "marker": {
             "colorbar": {
              "outlinewidth": 0,
              "ticks": ""
             }
            },
            "type": "scattercarpet"
           }
          ],
          "scattergeo": [
           {
            "marker": {
             "colorbar": {
              "outlinewidth": 0,
              "ticks": ""
             }
            },
            "type": "scattergeo"
           }
          ],
          "scattergl": [
           {
            "marker": {
             "colorbar": {
              "outlinewidth": 0,
              "ticks": ""
             }
            },
            "type": "scattergl"
           }
          ],
          "scattermapbox": [
           {
            "marker": {
             "colorbar": {
              "outlinewidth": 0,
              "ticks": ""
             }
            },
            "type": "scattermapbox"
           }
          ],
          "scatterpolar": [
           {
            "marker": {
             "colorbar": {
              "outlinewidth": 0,
              "ticks": ""
             }
            },
            "type": "scatterpolar"
           }
          ],
          "scatterpolargl": [
           {
            "marker": {
             "colorbar": {
              "outlinewidth": 0,
              "ticks": ""
             }
            },
            "type": "scatterpolargl"
           }
          ],
          "scatterternary": [
           {
            "marker": {
             "colorbar": {
              "outlinewidth": 0,
              "ticks": ""
             }
            },
            "type": "scatterternary"
           }
          ],
          "surface": [
           {
            "colorbar": {
             "outlinewidth": 0,
             "ticks": ""
            },
            "colorscale": [
             [
              0,
              "#0d0887"
             ],
             [
              0.1111111111111111,
              "#46039f"
             ],
             [
              0.2222222222222222,
              "#7201a8"
             ],
             [
              0.3333333333333333,
              "#9c179e"
             ],
             [
              0.4444444444444444,
              "#bd3786"
             ],
             [
              0.5555555555555556,
              "#d8576b"
             ],
             [
              0.6666666666666666,
              "#ed7953"
             ],
             [
              0.7777777777777778,
              "#fb9f3a"
             ],
             [
              0.8888888888888888,
              "#fdca26"
             ],
             [
              1,
              "#f0f921"
             ]
            ],
            "type": "surface"
           }
          ],
          "table": [
           {
            "cells": {
             "fill": {
              "color": "#EBF0F8"
             },
             "line": {
              "color": "white"
             }
            },
            "header": {
             "fill": {
              "color": "#C8D4E3"
             },
             "line": {
              "color": "white"
             }
            },
            "type": "table"
           }
          ]
         },
         "layout": {
          "annotationdefaults": {
           "arrowcolor": "#2a3f5f",
           "arrowhead": 0,
           "arrowwidth": 1
          },
          "autotypenumbers": "strict",
          "coloraxis": {
           "colorbar": {
            "outlinewidth": 0,
            "ticks": ""
           }
          },
          "colorscale": {
           "diverging": [
            [
             0,
             "#8e0152"
            ],
            [
             0.1,
             "#c51b7d"
            ],
            [
             0.2,
             "#de77ae"
            ],
            [
             0.3,
             "#f1b6da"
            ],
            [
             0.4,
             "#fde0ef"
            ],
            [
             0.5,
             "#f7f7f7"
            ],
            [
             0.6,
             "#e6f5d0"
            ],
            [
             0.7,
             "#b8e186"
            ],
            [
             0.8,
             "#7fbc41"
            ],
            [
             0.9,
             "#4d9221"
            ],
            [
             1,
             "#276419"
            ]
           ],
           "sequential": [
            [
             0,
             "#0d0887"
            ],
            [
             0.1111111111111111,
             "#46039f"
            ],
            [
             0.2222222222222222,
             "#7201a8"
            ],
            [
             0.3333333333333333,
             "#9c179e"
            ],
            [
             0.4444444444444444,
             "#bd3786"
            ],
            [
             0.5555555555555556,
             "#d8576b"
            ],
            [
             0.6666666666666666,
             "#ed7953"
            ],
            [
             0.7777777777777778,
             "#fb9f3a"
            ],
            [
             0.8888888888888888,
             "#fdca26"
            ],
            [
             1,
             "#f0f921"
            ]
           ],
           "sequentialminus": [
            [
             0,
             "#0d0887"
            ],
            [
             0.1111111111111111,
             "#46039f"
            ],
            [
             0.2222222222222222,
             "#7201a8"
            ],
            [
             0.3333333333333333,
             "#9c179e"
            ],
            [
             0.4444444444444444,
             "#bd3786"
            ],
            [
             0.5555555555555556,
             "#d8576b"
            ],
            [
             0.6666666666666666,
             "#ed7953"
            ],
            [
             0.7777777777777778,
             "#fb9f3a"
            ],
            [
             0.8888888888888888,
             "#fdca26"
            ],
            [
             1,
             "#f0f921"
            ]
           ]
          },
          "colorway": [
           "#636efa",
           "#EF553B",
           "#00cc96",
           "#ab63fa",
           "#FFA15A",
           "#19d3f3",
           "#FF6692",
           "#B6E880",
           "#FF97FF",
           "#FECB52"
          ],
          "font": {
           "color": "#2a3f5f"
          },
          "geo": {
           "bgcolor": "white",
           "lakecolor": "white",
           "landcolor": "#E5ECF6",
           "showlakes": true,
           "showland": true,
           "subunitcolor": "white"
          },
          "hoverlabel": {
           "align": "left"
          },
          "hovermode": "closest",
          "mapbox": {
           "style": "light"
          },
          "paper_bgcolor": "white",
          "plot_bgcolor": "#E5ECF6",
          "polar": {
           "angularaxis": {
            "gridcolor": "white",
            "linecolor": "white",
            "ticks": ""
           },
           "bgcolor": "#E5ECF6",
           "radialaxis": {
            "gridcolor": "white",
            "linecolor": "white",
            "ticks": ""
           }
          },
          "scene": {
           "xaxis": {
            "backgroundcolor": "#E5ECF6",
            "gridcolor": "white",
            "gridwidth": 2,
            "linecolor": "white",
            "showbackground": true,
            "ticks": "",
            "zerolinecolor": "white"
           },
           "yaxis": {
            "backgroundcolor": "#E5ECF6",
            "gridcolor": "white",
            "gridwidth": 2,
            "linecolor": "white",
            "showbackground": true,
            "ticks": "",
            "zerolinecolor": "white"
           },
           "zaxis": {
            "backgroundcolor": "#E5ECF6",
            "gridcolor": "white",
            "gridwidth": 2,
            "linecolor": "white",
            "showbackground": true,
            "ticks": "",
            "zerolinecolor": "white"
           }
          },
          "shapedefaults": {
           "line": {
            "color": "#2a3f5f"
           }
          },
          "ternary": {
           "aaxis": {
            "gridcolor": "white",
            "linecolor": "white",
            "ticks": ""
           },
           "baxis": {
            "gridcolor": "white",
            "linecolor": "white",
            "ticks": ""
           },
           "bgcolor": "#E5ECF6",
           "caxis": {
            "gridcolor": "white",
            "linecolor": "white",
            "ticks": ""
           }
          },
          "title": {
           "x": 0.05
          },
          "xaxis": {
           "automargin": true,
           "gridcolor": "white",
           "linecolor": "white",
           "ticks": "",
           "title": {
            "standoff": 15
           },
           "zerolinecolor": "white",
           "zerolinewidth": 2
          },
          "yaxis": {
           "automargin": true,
           "gridcolor": "white",
           "linecolor": "white",
           "ticks": "",
           "title": {
            "standoff": 15
           },
           "zerolinecolor": "white",
           "zerolinewidth": 2
          }
         }
        },
        "title": {
         "font": {
          "color": "dimgrey",
          "size": 30
         },
         "text": "Effect of Efficiency on model Velocity Kgs"
        },
        "xaxis": {
         "anchor": "y",
         "domain": [
          0,
          1
         ],
         "gridcolor": "#e6e6e6",
         "gridwidth": 1,
         "showgrid": true,
         "title": {
          "text": "Efficiency  <i> </i>"
         }
        },
        "yaxis": {
         "anchor": "x",
         "domain": [
          0,
          1
         ],
         "gridcolor": "#e6e6e6",
         "gridwidth": 1,
         "range": [
          41.86960610228119,
          409.39170411119386
         ],
         "showgrid": true,
         "title": {
          "text": "Water Ration Kms"
         }
        }
       }
      }
     },
     "metadata": {},
     "output_type": "display_data"
    },
    {
     "data": {
      "application/vnd.plotly.v1+json": {
       "config": {
        "plotlyServerURL": "https://plotly.com"
       },
       "data": [
        {
         "customdata": [
          [
           102.30757899546171,
           1.6396841537762894,
           1.4517811939253646,
           1.827587113627214
          ],
          [
           102.01113047819996,
           1.6349034092718264,
           1.4476340044029137,
           1.82217281414074
          ],
          [
           101.72260283381598,
           1.630249661512875,
           1.4435981200134862,
           1.8169012030122644
          ],
          [
           101.44159549364072,
           1.6257164983270296,
           1.4396678873318038,
           1.8117651093222558
          ],
          [
           101.16773714623157,
           1.6212979763159405,
           1.4358380677312592,
           1.806757884900622
          ],
          [
           100.9006829764703,
           1.6169885765108665,
           1.432103798069133,
           1.801873354952601
          ],
          [
           100.64011222132604,
           1.6127831651310274,
           1.428460555898862,
           1.7971057743631924
          ],
          [
           100.38572599981038,
           1.608676958757825,
           1.424904128600169,
           1.7924497889154811
          ],
          [
           100.13724538114366,
           1.604665493343361,
           1.42143058591104,
           1.7879004007756814
          ],
          [
           99.8944096605162,
           1.6007445965587974,
           1.4180362554230423,
           1.7834529376945512
          ],
          [
           99.65697481633256,
           1.596910363061022,
           1.414717700665762,
           1.779103025456282
          ],
          [
           99.42471212655464,
           1.593159132316554,
           1.4114717014600378,
           1.7748465631730697
          ],
          [
           99.19740692491442,
           1.5894874686726361,
           1.4082952362648276,
           1.7706797010804445
          ],
          [
           98.97485748042405,
           1.585892143408449,
           1.405185466280615,
           1.7665988205362826
          ],
          [
           98.75687398584124,
           1.5823701185355161,
           1.4021397211044282,
           1.7626005159666038
          ],
          [
           98.54327764266493,
           1.5789185321471915,
           1.3991554857588355,
           1.7586815785355476
          ],
          [
           98.33389983184487,
           1.5755346851432575,
           1.396230388940498,
           1.7548389813460177
          ],
          [
           98.12858136077988,
           1.5722160291779959,
           1.3933621923536792,
           1.751069866002312
          ],
          [
           97.92717177836107,
           1.5689601556992228,
           1.390548781011101,
           1.747371530387345
          ],
          [
           97.72952875083615,
           1.5657647859621802,
           1.3877881543990869,
           1.7437414175252737
          ],
          [
           97.53551749214729,
           1.56262776191632,
           1.3850784184165008,
           1.7401771054161392
          ],
          [
           97.34501024315291,
           1.5595470378752303,
           1.3824177780078197,
           1.7366762977426409
          ],
          [
           97.15788579480514,
           1.5565206728905054,
           1.37980453042007,
           1.733236815360941
          ],
          [
           96.97402905090719,
           1.5535468237595371,
           1.3772370590214789,
           1.7298565884975956
          ],
          [
           96.79333062660024,
           1.5506237386052024,
           1.3747138276268083,
           1.7265336495835961
          ],
          [
           96.61568647913194,
           1.5477497509723166,
           1.372233375280466,
           1.723266126664167
          ],
          [
           96.440997567857,
           1.5449232743919081,
           1.369794311453965,
           1.7200522373298515
          ],
          [
           96.26916954074245,
           1.5421427973695911,
           1.3673953116189483,
           1.716890283120234
          ],
          [
           96.10011244494402,
           1.5394068787590391,
           1.3650351131612084,
           1.7137786443568694
          ],
          [
           95.93374045928152,
           1.5367141434857527,
           1.3627125116047465,
           1.7107157753667586
          ]
         ],
         "hovertemplate": "DataType=Sensitivity<br>Variable=%{x}<br>Water Ration Kms=%{y}<br>MarkerSize=%{marker.size}<br>Velocity Kgs=%{customdata[0]}<br>Mean Trip Velocity=%{customdata[1]}<br>Mean Loaded Velocity=%{customdata[2]}<br>Mean Unloaded Velocity=%{customdata[3]}<extra></extra>",
         "legendgroup": "Sensitivity",
         "marker": {
          "color": "#3D87CB",
          "size": [
           10,
           10,
           10,
           10,
           10,
           10,
           10,
           10,
           10,
           10,
           10,
           10,
           10,
           10,
           10,
           10,
           10,
           10,
           10,
           10,
           10,
           10,
           10,
           10,
           10,
           10,
           10,
           10,
           10,
           10
          ],
          "sizemode": "area",
          "sizeref": 0.125,
          "symbol": "circle"
         },
         "mode": "markers",
         "name": "Sensitivity",
         "orientation": "v",
         "showlegend": true,
         "type": "scatter",
         "x": [
          0.765625,
          0.7853448275862069,
          0.8050646551724138,
          0.8247844827586207,
          0.8445043103448275,
          0.8642241379310345,
          0.8839439655172414,
          0.9036637931034482,
          0.9233836206896552,
          0.943103448275862,
          0.962823275862069,
          0.9825431034482759,
          1.0022629310344828,
          1.0219827586206895,
          1.0417025862068965,
          1.0614224137931034,
          1.0811422413793104,
          1.100862068965517,
          1.120581896551724,
          1.140301724137931,
          1.160021551724138,
          1.1797413793103448,
          1.1994612068965518,
          1.2191810344827585,
          1.2389008620689654,
          1.2586206896551724,
          1.278340517241379,
          1.298060344827586,
          1.317780172413793,
          1.3375
         ],
         "xaxis": "x",
         "y": [
          196.43055167128645,
          195.8613705181439,
          195.3073974409267,
          194.76786334779018,
          194.24205532076462,
          193.72931131482298,
          193.22901546494597,
          192.74059391963593,
          192.2635111317958,
          191.79726654819112,
          191.3413916473585,
          190.8954472829849,
          190.4590212958357,
          190.03172636241416,
          189.6131980528152,
          189.20309307391668,
          188.80108767714214,
          188.40687621269737,
          188.02016981445325,
          187.6406952016054,
          187.2681935849228,
          186.90241966685358,
          186.54314072602585,
          186.19013577774183,
          185.84319480307246,
          185.50211803993332,
          185.16671533028543,
          184.8368055182255,
          184.51221589429252,
          184.19278168182052
         ],
         "yaxis": "y"
        },
        {
         "customdata": [
          [
           96.92038449602128,
           1.5526790707757643,
           1.3764879647771093,
           1.7288701767744197
          ]
         ],
         "hovertemplate": "DataType=Default<br>Variable=%{x}<br>Water Ration Kms=%{y}<br>MarkerSize=%{marker.size}<br>Velocity Kgs=%{customdata[0]}<br>Mean Trip Velocity=%{customdata[1]}<br>Mean Loaded Velocity=%{customdata[2]}<br>Mean Unloaded Velocity=%{customdata[3]}<extra></extra>",
         "legendgroup": "Default",
         "marker": {
          "color": "#F0B323",
          "size": [
           50
          ],
          "sizemode": "area",
          "sizeref": 0.125,
          "symbol": "circle"
         },
         "mode": "markers",
         "name": "Default",
         "orientation": "v",
         "showlegend": true,
         "type": "scatter",
         "x": [
          1.225
         ],
         "xaxis": "x",
         "y": [
          186.08713823236084
         ],
         "yaxis": "y"
        },
        {
         "customdata": [
          [
           100.1951148095639,
           1.6055997879355588,
           1.4222395220494521,
           1.7889600538216657
          ]
         ],
         "hovertemplate": "DataType=Minimum Expected<br>Variable=%{x}<br>Water Ration Kms=%{y}<br>MarkerSize=%{marker.size}<br>Velocity Kgs=%{customdata[0]}<br>Mean Trip Velocity=%{customdata[1]}<br>Mean Loaded Velocity=%{customdata[2]}<br>Mean Unloaded Velocity=%{customdata[3]}<extra></extra>",
         "legendgroup": "Minimum Expected",
         "marker": {
          "color": "#DC582A",
          "size": [
           20
          ],
          "sizemode": "area",
          "sizeref": 0.125,
          "symbol": "circle"
         },
         "mode": "markers",
         "name": "Minimum Expected",
         "orientation": "v",
         "showlegend": true,
         "type": "scatter",
         "x": [
          0.91875
         ],
         "xaxis": "x",
         "y": [
          192.37462043436267
         ],
         "yaxis": "y"
        },
        {
         "customdata": [
          [
           96.25241952711109,
           1.5418717375917599,
           1.3671614603761173,
           1.7165820148074031
          ]
         ],
         "hovertemplate": "DataType=Maximum Expected<br>Variable=%{x}<br>Water Ration Kms=%{y}<br>MarkerSize=%{marker.size}<br>Velocity Kgs=%{customdata[0]}<br>Mean Trip Velocity=%{customdata[1]}<br>Mean Loaded Velocity=%{customdata[2]}<br>Mean Unloaded Velocity=%{customdata[3]}<extra></extra>",
         "legendgroup": "Maximum Expected",
         "marker": {
          "color": "#674230",
          "size": [
           20
          ],
          "sizemode": "area",
          "sizeref": 0.125,
          "symbol": "circle"
         },
         "mode": "markers",
         "name": "Maximum Expected",
         "orientation": "v",
         "showlegend": true,
         "type": "scatter",
         "x": [
          1.3
         ],
         "xaxis": "x",
         "y": [
          184.80464549205328
         ],
         "yaxis": "y"
        }
       ],
       "layout": {
        "font": {
         "color": "dimgrey",
         "family": "Droid Sans Mono",
         "size": 16
        },
        "legend": {
         "itemsizing": "constant",
         "title": {
          "text": "Legend"
         },
         "tracegroupgap": 0
        },
        "paper_bgcolor": "white",
        "plot_bgcolor": "white",
        "template": {
         "data": {
          "bar": [
           {
            "error_x": {
             "color": "#2a3f5f"
            },
            "error_y": {
             "color": "#2a3f5f"
            },
            "marker": {
             "line": {
              "color": "#E5ECF6",
              "width": 0.5
             },
             "pattern": {
              "fillmode": "overlay",
              "size": 10,
              "solidity": 0.2
             }
            },
            "type": "bar"
           }
          ],
          "barpolar": [
           {
            "marker": {
             "line": {
              "color": "#E5ECF6",
              "width": 0.5
             },
             "pattern": {
              "fillmode": "overlay",
              "size": 10,
              "solidity": 0.2
             }
            },
            "type": "barpolar"
           }
          ],
          "carpet": [
           {
            "aaxis": {
             "endlinecolor": "#2a3f5f",
             "gridcolor": "white",
             "linecolor": "white",
             "minorgridcolor": "white",
             "startlinecolor": "#2a3f5f"
            },
            "baxis": {
             "endlinecolor": "#2a3f5f",
             "gridcolor": "white",
             "linecolor": "white",
             "minorgridcolor": "white",
             "startlinecolor": "#2a3f5f"
            },
            "type": "carpet"
           }
          ],
          "choropleth": [
           {
            "colorbar": {
             "outlinewidth": 0,
             "ticks": ""
            },
            "type": "choropleth"
           }
          ],
          "contour": [
           {
            "colorbar": {
             "outlinewidth": 0,
             "ticks": ""
            },
            "colorscale": [
             [
              0,
              "#0d0887"
             ],
             [
              0.1111111111111111,
              "#46039f"
             ],
             [
              0.2222222222222222,
              "#7201a8"
             ],
             [
              0.3333333333333333,
              "#9c179e"
             ],
             [
              0.4444444444444444,
              "#bd3786"
             ],
             [
              0.5555555555555556,
              "#d8576b"
             ],
             [
              0.6666666666666666,
              "#ed7953"
             ],
             [
              0.7777777777777778,
              "#fb9f3a"
             ],
             [
              0.8888888888888888,
              "#fdca26"
             ],
             [
              1,
              "#f0f921"
             ]
            ],
            "type": "contour"
           }
          ],
          "contourcarpet": [
           {
            "colorbar": {
             "outlinewidth": 0,
             "ticks": ""
            },
            "type": "contourcarpet"
           }
          ],
          "heatmap": [
           {
            "colorbar": {
             "outlinewidth": 0,
             "ticks": ""
            },
            "colorscale": [
             [
              0,
              "#0d0887"
             ],
             [
              0.1111111111111111,
              "#46039f"
             ],
             [
              0.2222222222222222,
              "#7201a8"
             ],
             [
              0.3333333333333333,
              "#9c179e"
             ],
             [
              0.4444444444444444,
              "#bd3786"
             ],
             [
              0.5555555555555556,
              "#d8576b"
             ],
             [
              0.6666666666666666,
              "#ed7953"
             ],
             [
              0.7777777777777778,
              "#fb9f3a"
             ],
             [
              0.8888888888888888,
              "#fdca26"
             ],
             [
              1,
              "#f0f921"
             ]
            ],
            "type": "heatmap"
           }
          ],
          "heatmapgl": [
           {
            "colorbar": {
             "outlinewidth": 0,
             "ticks": ""
            },
            "colorscale": [
             [
              0,
              "#0d0887"
             ],
             [
              0.1111111111111111,
              "#46039f"
             ],
             [
              0.2222222222222222,
              "#7201a8"
             ],
             [
              0.3333333333333333,
              "#9c179e"
             ],
             [
              0.4444444444444444,
              "#bd3786"
             ],
             [
              0.5555555555555556,
              "#d8576b"
             ],
             [
              0.6666666666666666,
              "#ed7953"
             ],
             [
              0.7777777777777778,
              "#fb9f3a"
             ],
             [
              0.8888888888888888,
              "#fdca26"
             ],
             [
              1,
              "#f0f921"
             ]
            ],
            "type": "heatmapgl"
           }
          ],
          "histogram": [
           {
            "marker": {
             "pattern": {
              "fillmode": "overlay",
              "size": 10,
              "solidity": 0.2
             }
            },
            "type": "histogram"
           }
          ],
          "histogram2d": [
           {
            "colorbar": {
             "outlinewidth": 0,
             "ticks": ""
            },
            "colorscale": [
             [
              0,
              "#0d0887"
             ],
             [
              0.1111111111111111,
              "#46039f"
             ],
             [
              0.2222222222222222,
              "#7201a8"
             ],
             [
              0.3333333333333333,
              "#9c179e"
             ],
             [
              0.4444444444444444,
              "#bd3786"
             ],
             [
              0.5555555555555556,
              "#d8576b"
             ],
             [
              0.6666666666666666,
              "#ed7953"
             ],
             [
              0.7777777777777778,
              "#fb9f3a"
             ],
             [
              0.8888888888888888,
              "#fdca26"
             ],
             [
              1,
              "#f0f921"
             ]
            ],
            "type": "histogram2d"
           }
          ],
          "histogram2dcontour": [
           {
            "colorbar": {
             "outlinewidth": 0,
             "ticks": ""
            },
            "colorscale": [
             [
              0,
              "#0d0887"
             ],
             [
              0.1111111111111111,
              "#46039f"
             ],
             [
              0.2222222222222222,
              "#7201a8"
             ],
             [
              0.3333333333333333,
              "#9c179e"
             ],
             [
              0.4444444444444444,
              "#bd3786"
             ],
             [
              0.5555555555555556,
              "#d8576b"
             ],
             [
              0.6666666666666666,
              "#ed7953"
             ],
             [
              0.7777777777777778,
              "#fb9f3a"
             ],
             [
              0.8888888888888888,
              "#fdca26"
             ],
             [
              1,
              "#f0f921"
             ]
            ],
            "type": "histogram2dcontour"
           }
          ],
          "mesh3d": [
           {
            "colorbar": {
             "outlinewidth": 0,
             "ticks": ""
            },
            "type": "mesh3d"
           }
          ],
          "parcoords": [
           {
            "line": {
             "colorbar": {
              "outlinewidth": 0,
              "ticks": ""
             }
            },
            "type": "parcoords"
           }
          ],
          "pie": [
           {
            "automargin": true,
            "type": "pie"
           }
          ],
          "scatter": [
           {
            "fillpattern": {
             "fillmode": "overlay",
             "size": 10,
             "solidity": 0.2
            },
            "type": "scatter"
           }
          ],
          "scatter3d": [
           {
            "line": {
             "colorbar": {
              "outlinewidth": 0,
              "ticks": ""
             }
            },
            "marker": {
             "colorbar": {
              "outlinewidth": 0,
              "ticks": ""
             }
            },
            "type": "scatter3d"
           }
          ],
          "scattercarpet": [
           {
            "marker": {
             "colorbar": {
              "outlinewidth": 0,
              "ticks": ""
             }
            },
            "type": "scattercarpet"
           }
          ],
          "scattergeo": [
           {
            "marker": {
             "colorbar": {
              "outlinewidth": 0,
              "ticks": ""
             }
            },
            "type": "scattergeo"
           }
          ],
          "scattergl": [
           {
            "marker": {
             "colorbar": {
              "outlinewidth": 0,
              "ticks": ""
             }
            },
            "type": "scattergl"
           }
          ],
          "scattermapbox": [
           {
            "marker": {
             "colorbar": {
              "outlinewidth": 0,
              "ticks": ""
             }
            },
            "type": "scattermapbox"
           }
          ],
          "scatterpolar": [
           {
            "marker": {
             "colorbar": {
              "outlinewidth": 0,
              "ticks": ""
             }
            },
            "type": "scatterpolar"
           }
          ],
          "scatterpolargl": [
           {
            "marker": {
             "colorbar": {
              "outlinewidth": 0,
              "ticks": ""
             }
            },
            "type": "scatterpolargl"
           }
          ],
          "scatterternary": [
           {
            "marker": {
             "colorbar": {
              "outlinewidth": 0,
              "ticks": ""
             }
            },
            "type": "scatterternary"
           }
          ],
          "surface": [
           {
            "colorbar": {
             "outlinewidth": 0,
             "ticks": ""
            },
            "colorscale": [
             [
              0,
              "#0d0887"
             ],
             [
              0.1111111111111111,
              "#46039f"
             ],
             [
              0.2222222222222222,
              "#7201a8"
             ],
             [
              0.3333333333333333,
              "#9c179e"
             ],
             [
              0.4444444444444444,
              "#bd3786"
             ],
             [
              0.5555555555555556,
              "#d8576b"
             ],
             [
              0.6666666666666666,
              "#ed7953"
             ],
             [
              0.7777777777777778,
              "#fb9f3a"
             ],
             [
              0.8888888888888888,
              "#fdca26"
             ],
             [
              1,
              "#f0f921"
             ]
            ],
            "type": "surface"
           }
          ],
          "table": [
           {
            "cells": {
             "fill": {
              "color": "#EBF0F8"
             },
             "line": {
              "color": "white"
             }
            },
            "header": {
             "fill": {
              "color": "#C8D4E3"
             },
             "line": {
              "color": "white"
             }
            },
            "type": "table"
           }
          ]
         },
         "layout": {
          "annotationdefaults": {
           "arrowcolor": "#2a3f5f",
           "arrowhead": 0,
           "arrowwidth": 1
          },
          "autotypenumbers": "strict",
          "coloraxis": {
           "colorbar": {
            "outlinewidth": 0,
            "ticks": ""
           }
          },
          "colorscale": {
           "diverging": [
            [
             0,
             "#8e0152"
            ],
            [
             0.1,
             "#c51b7d"
            ],
            [
             0.2,
             "#de77ae"
            ],
            [
             0.3,
             "#f1b6da"
            ],
            [
             0.4,
             "#fde0ef"
            ],
            [
             0.5,
             "#f7f7f7"
            ],
            [
             0.6,
             "#e6f5d0"
            ],
            [
             0.7,
             "#b8e186"
            ],
            [
             0.8,
             "#7fbc41"
            ],
            [
             0.9,
             "#4d9221"
            ],
            [
             1,
             "#276419"
            ]
           ],
           "sequential": [
            [
             0,
             "#0d0887"
            ],
            [
             0.1111111111111111,
             "#46039f"
            ],
            [
             0.2222222222222222,
             "#7201a8"
            ],
            [
             0.3333333333333333,
             "#9c179e"
            ],
            [
             0.4444444444444444,
             "#bd3786"
            ],
            [
             0.5555555555555556,
             "#d8576b"
            ],
            [
             0.6666666666666666,
             "#ed7953"
            ],
            [
             0.7777777777777778,
             "#fb9f3a"
            ],
            [
             0.8888888888888888,
             "#fdca26"
            ],
            [
             1,
             "#f0f921"
            ]
           ],
           "sequentialminus": [
            [
             0,
             "#0d0887"
            ],
            [
             0.1111111111111111,
             "#46039f"
            ],
            [
             0.2222222222222222,
             "#7201a8"
            ],
            [
             0.3333333333333333,
             "#9c179e"
            ],
            [
             0.4444444444444444,
             "#bd3786"
            ],
            [
             0.5555555555555556,
             "#d8576b"
            ],
            [
             0.6666666666666666,
             "#ed7953"
            ],
            [
             0.7777777777777778,
             "#fb9f3a"
            ],
            [
             0.8888888888888888,
             "#fdca26"
            ],
            [
             1,
             "#f0f921"
            ]
           ]
          },
          "colorway": [
           "#636efa",
           "#EF553B",
           "#00cc96",
           "#ab63fa",
           "#FFA15A",
           "#19d3f3",
           "#FF6692",
           "#B6E880",
           "#FF97FF",
           "#FECB52"
          ],
          "font": {
           "color": "#2a3f5f"
          },
          "geo": {
           "bgcolor": "white",
           "lakecolor": "white",
           "landcolor": "#E5ECF6",
           "showlakes": true,
           "showland": true,
           "subunitcolor": "white"
          },
          "hoverlabel": {
           "align": "left"
          },
          "hovermode": "closest",
          "mapbox": {
           "style": "light"
          },
          "paper_bgcolor": "white",
          "plot_bgcolor": "#E5ECF6",
          "polar": {
           "angularaxis": {
            "gridcolor": "white",
            "linecolor": "white",
            "ticks": ""
           },
           "bgcolor": "#E5ECF6",
           "radialaxis": {
            "gridcolor": "white",
            "linecolor": "white",
            "ticks": ""
           }
          },
          "scene": {
           "xaxis": {
            "backgroundcolor": "#E5ECF6",
            "gridcolor": "white",
            "gridwidth": 2,
            "linecolor": "white",
            "showbackground": true,
            "ticks": "",
            "zerolinecolor": "white"
           },
           "yaxis": {
            "backgroundcolor": "#E5ECF6",
            "gridcolor": "white",
            "gridwidth": 2,
            "linecolor": "white",
            "showbackground": true,
            "ticks": "",
            "zerolinecolor": "white"
           },
           "zaxis": {
            "backgroundcolor": "#E5ECF6",
            "gridcolor": "white",
            "gridwidth": 2,
            "linecolor": "white",
            "showbackground": true,
            "ticks": "",
            "zerolinecolor": "white"
           }
          },
          "shapedefaults": {
           "line": {
            "color": "#2a3f5f"
           }
          },
          "ternary": {
           "aaxis": {
            "gridcolor": "white",
            "linecolor": "white",
            "ticks": ""
           },
           "baxis": {
            "gridcolor": "white",
            "linecolor": "white",
            "ticks": ""
           },
           "bgcolor": "#E5ECF6",
           "caxis": {
            "gridcolor": "white",
            "linecolor": "white",
            "ticks": ""
           }
          },
          "title": {
           "x": 0.05
          },
          "xaxis": {
           "automargin": true,
           "gridcolor": "white",
           "linecolor": "white",
           "ticks": "",
           "title": {
            "standoff": 15
           },
           "zerolinecolor": "white",
           "zerolinewidth": 2
          },
          "yaxis": {
           "automargin": true,
           "gridcolor": "white",
           "linecolor": "white",
           "ticks": "",
           "title": {
            "standoff": 15
           },
           "zerolinecolor": "white",
           "zerolinewidth": 2
          }
         }
        },
        "title": {
         "font": {
          "color": "dimgrey",
          "size": 30
         },
         "text": "Effect of Air Density on model Velocity Kgs"
        },
        "xaxis": {
         "anchor": "y",
         "domain": [
          0,
          1
         ],
         "gridcolor": "#e6e6e6",
         "gridwidth": 1,
         "showgrid": true,
         "title": {
          "text": "Air Density  <i>nan</i>"
         }
        },
        "yaxis": {
         "anchor": "x",
         "domain": [
          0,
          1
         ],
         "gridcolor": "#e6e6e6",
         "gridwidth": 1,
         "range": [
          41.86960610228119,
          409.39170411119386
         ],
         "showgrid": true,
         "title": {
          "text": "Water Ration Kms"
         }
        }
       }
      }
     },
     "metadata": {},
     "output_type": "display_data"
    },
    {
     "data": {
      "application/vnd.plotly.v1+json": {
       "config": {
        "plotlyServerURL": "https://plotly.com"
       },
       "data": [
        {
         "customdata": [
          [
           96.92038449602128,
           1.5526790707757643,
           1.3764879647771093,
           1.7288701767744197
          ],
          [
           96.92038449602128,
           1.5526790707757643,
           1.3764879647771093,
           1.7288701767744197
          ],
          [
           96.92038449602128,
           1.5526790707757643,
           1.3764879647771093,
           1.7288701767744197
          ],
          [
           96.92038449602128,
           1.5526790707757643,
           1.3764879647771093,
           1.7288701767744197
          ],
          [
           96.92038449602128,
           1.5526790707757643,
           1.3764879647771093,
           1.7288701767744197
          ],
          [
           96.92038449602128,
           1.5526790707757643,
           1.3764879647771093,
           1.7288701767744197
          ],
          [
           96.92038449602128,
           1.5526790707757643,
           1.3764879647771093,
           1.7288701767744197
          ],
          [
           96.92038449602128,
           1.5526790707757643,
           1.3764879647771093,
           1.7288701767744197
          ],
          [
           96.92038449602128,
           1.5526790707757643,
           1.3764879647771093,
           1.7288701767744197
          ],
          [
           96.92038449602128,
           1.5526790707757643,
           1.3764879647771093,
           1.7288701767744197
          ],
          [
           96.92038449602128,
           1.5526790707757643,
           1.3764879647771093,
           1.7288701767744197
          ],
          [
           96.92038449602128,
           1.5526790707757643,
           1.3764879647771093,
           1.7288701767744197
          ],
          [
           96.92038449602128,
           1.5526790707757643,
           1.3764879647771093,
           1.7288701767744197
          ],
          [
           96.92038449602128,
           1.5526790707757643,
           1.3764879647771093,
           1.7288701767744197
          ],
          [
           96.92038449602128,
           1.5526790707757643,
           1.3764879647771093,
           1.7288701767744197
          ],
          [
           96.92038449602128,
           1.5526790707757643,
           1.3764879647771093,
           1.7288701767744197
          ],
          [
           96.92038449602128,
           1.5526790707757643,
           1.3764879647771093,
           1.7288701767744197
          ],
          [
           96.92038449602128,
           1.5526790707757643,
           1.3764879647771093,
           1.7288701767744197
          ],
          [
           96.92038449602128,
           1.5526790707757643,
           1.3764879647771093,
           1.7288701767744197
          ],
          [
           96.92038449602128,
           1.5526790707757643,
           1.3764879647771093,
           1.7288701767744197
          ],
          [
           96.92038449602128,
           1.5526790707757643,
           1.3764879647771093,
           1.7288701767744197
          ],
          [
           96.92038449602128,
           1.5526790707757643,
           1.3764879647771093,
           1.7288701767744197
          ],
          [
           96.92038449602128,
           1.5526790707757643,
           1.3764879647771093,
           1.7288701767744197
          ],
          [
           96.92038449602128,
           1.5526790707757643,
           1.3764879647771093,
           1.7288701767744197
          ],
          [
           96.92038449602128,
           1.5526790707757643,
           1.3764879647771093,
           1.7288701767744197
          ],
          [
           96.92038449602128,
           1.5526790707757643,
           1.3764879647771093,
           1.7288701767744197
          ],
          [
           96.92038449602128,
           1.5526790707757643,
           1.3764879647771093,
           1.7288701767744197
          ],
          [
           96.92038449602128,
           1.5526790707757643,
           1.3764879647771093,
           1.7288701767744197
          ],
          [
           96.92038449602128,
           1.5526790707757643,
           1.3764879647771093,
           1.7288701767744197
          ],
          [
           96.92038449602128,
           1.5526790707757643,
           1.3764879647771093,
           1.7288701767744197
          ]
         ],
         "hovertemplate": "DataType=Sensitivity<br>Variable=%{x}<br>Water Ration Kms=%{y}<br>MarkerSize=%{marker.size}<br>Velocity Kgs=%{customdata[0]}<br>Mean Trip Velocity=%{customdata[1]}<br>Mean Loaded Velocity=%{customdata[2]}<br>Mean Unloaded Velocity=%{customdata[3]}<extra></extra>",
         "legendgroup": "Sensitivity",
         "marker": {
          "color": "#3D87CB",
          "size": [
           10,
           10,
           10,
           10,
           10,
           10,
           10,
           10,
           10,
           10,
           10,
           10,
           10,
           10,
           10,
           10,
           10,
           10,
           10,
           10,
           10,
           10,
           10,
           10,
           10,
           10,
           10,
           10,
           10,
           10
          ],
          "sizemode": "area",
          "sizeref": 0.125,
          "symbol": "circle"
         },
         "mode": "markers",
         "name": "Sensitivity",
         "orientation": "v",
         "showlegend": true,
         "type": "scatter",
         "x": [
          1.75,
          1.9310344827586208,
          2.1120689655172415,
          2.293103448275862,
          2.4741379310344827,
          2.655172413793103,
          2.836206896551724,
          3.0172413793103448,
          3.1982758620689653,
          3.3793103448275863,
          3.560344827586207,
          3.7413793103448274,
          3.9224137931034484,
          4.103448275862069,
          4.2844827586206895,
          4.4655172413793105,
          4.646551724137931,
          4.827586206896552,
          5.008620689655173,
          5.189655172413794,
          5.370689655172414,
          5.551724137931035,
          5.732758620689655,
          5.913793103448276,
          6.094827586206897,
          6.275862068965517,
          6.456896551724138,
          6.637931034482759,
          6.818965517241379,
          7
         ],
         "xaxis": "x",
         "y": [
          186.08713823236084,
          186.08713823236084,
          186.08713823236084,
          186.08713823236084,
          186.08713823236084,
          186.08713823236084,
          186.08713823236084,
          186.08713823236084,
          186.08713823236084,
          186.08713823236084,
          186.08713823236084,
          186.08713823236084,
          186.08713823236084,
          186.08713823236084,
          186.08713823236084,
          186.08713823236084,
          186.08713823236084,
          186.08713823236084,
          186.08713823236084,
          186.08713823236084,
          186.08713823236084,
          186.08713823236084,
          186.08713823236084,
          186.08713823236084,
          186.08713823236084,
          186.08713823236084,
          186.08713823236084,
          186.08713823236084,
          186.08713823236084,
          186.08713823236084
         ],
         "yaxis": "y"
        },
        {
         "customdata": [
          [
           96.92038449602128,
           1.5526790707757643,
           1.3764879647771093,
           1.7288701767744197
          ]
         ],
         "hovertemplate": "DataType=Default<br>Variable=%{x}<br>Water Ration Kms=%{y}<br>MarkerSize=%{marker.size}<br>Velocity Kgs=%{customdata[0]}<br>Mean Trip Velocity=%{customdata[1]}<br>Mean Loaded Velocity=%{customdata[2]}<br>Mean Unloaded Velocity=%{customdata[3]}<extra></extra>",
         "legendgroup": "Default",
         "marker": {
          "color": "#F0B323",
          "size": [
           50
          ],
          "sizemode": "area",
          "sizeref": 0.125,
          "symbol": "circle"
         },
         "mode": "markers",
         "name": "Default",
         "orientation": "v",
         "showlegend": true,
         "type": "scatter",
         "x": [
          4
         ],
         "xaxis": "x",
         "y": [
          186.08713823236084
         ],
         "yaxis": "y"
        },
        {
         "customdata": [
          [
           96.92038449602128,
           1.5526790707757643,
           1.3764879647771093,
           1.7288701767744197
          ]
         ],
         "hovertemplate": "DataType=Minimum Expected<br>Variable=%{x}<br>Water Ration Kms=%{y}<br>MarkerSize=%{marker.size}<br>Velocity Kgs=%{customdata[0]}<br>Mean Trip Velocity=%{customdata[1]}<br>Mean Loaded Velocity=%{customdata[2]}<br>Mean Unloaded Velocity=%{customdata[3]}<extra></extra>",
         "legendgroup": "Minimum Expected",
         "marker": {
          "color": "#DC582A",
          "size": [
           20
          ],
          "sizemode": "area",
          "sizeref": 0.125,
          "symbol": "circle"
         },
         "mode": "markers",
         "name": "Minimum Expected",
         "orientation": "v",
         "showlegend": true,
         "type": "scatter",
         "x": [
          2.5
         ],
         "xaxis": "x",
         "y": [
          186.08713823236084
         ],
         "yaxis": "y"
        },
        {
         "customdata": [
          [
           96.92038449602128,
           1.5526790707757643,
           1.3764879647771093,
           1.7288701767744197
          ]
         ],
         "hovertemplate": "DataType=Maximum Expected<br>Variable=%{x}<br>Water Ration Kms=%{y}<br>MarkerSize=%{marker.size}<br>Velocity Kgs=%{customdata[0]}<br>Mean Trip Velocity=%{customdata[1]}<br>Mean Loaded Velocity=%{customdata[2]}<br>Mean Unloaded Velocity=%{customdata[3]}<extra></extra>",
         "legendgroup": "Maximum Expected",
         "marker": {
          "color": "#674230",
          "size": [
           20
          ],
          "sizemode": "area",
          "sizeref": 0.125,
          "symbol": "circle"
         },
         "mode": "markers",
         "name": "Maximum Expected",
         "orientation": "v",
         "showlegend": true,
         "type": "scatter",
         "x": [
          6
         ],
         "xaxis": "x",
         "y": [
          186.08713823236084
         ],
         "yaxis": "y"
        }
       ],
       "layout": {
        "font": {
         "color": "dimgrey",
         "family": "Droid Sans Mono",
         "size": 16
        },
        "legend": {
         "itemsizing": "constant",
         "title": {
          "text": "Legend"
         },
         "tracegroupgap": 0
        },
        "paper_bgcolor": "white",
        "plot_bgcolor": "white",
        "template": {
         "data": {
          "bar": [
           {
            "error_x": {
             "color": "#2a3f5f"
            },
            "error_y": {
             "color": "#2a3f5f"
            },
            "marker": {
             "line": {
              "color": "#E5ECF6",
              "width": 0.5
             },
             "pattern": {
              "fillmode": "overlay",
              "size": 10,
              "solidity": 0.2
             }
            },
            "type": "bar"
           }
          ],
          "barpolar": [
           {
            "marker": {
             "line": {
              "color": "#E5ECF6",
              "width": 0.5
             },
             "pattern": {
              "fillmode": "overlay",
              "size": 10,
              "solidity": 0.2
             }
            },
            "type": "barpolar"
           }
          ],
          "carpet": [
           {
            "aaxis": {
             "endlinecolor": "#2a3f5f",
             "gridcolor": "white",
             "linecolor": "white",
             "minorgridcolor": "white",
             "startlinecolor": "#2a3f5f"
            },
            "baxis": {
             "endlinecolor": "#2a3f5f",
             "gridcolor": "white",
             "linecolor": "white",
             "minorgridcolor": "white",
             "startlinecolor": "#2a3f5f"
            },
            "type": "carpet"
           }
          ],
          "choropleth": [
           {
            "colorbar": {
             "outlinewidth": 0,
             "ticks": ""
            },
            "type": "choropleth"
           }
          ],
          "contour": [
           {
            "colorbar": {
             "outlinewidth": 0,
             "ticks": ""
            },
            "colorscale": [
             [
              0,
              "#0d0887"
             ],
             [
              0.1111111111111111,
              "#46039f"
             ],
             [
              0.2222222222222222,
              "#7201a8"
             ],
             [
              0.3333333333333333,
              "#9c179e"
             ],
             [
              0.4444444444444444,
              "#bd3786"
             ],
             [
              0.5555555555555556,
              "#d8576b"
             ],
             [
              0.6666666666666666,
              "#ed7953"
             ],
             [
              0.7777777777777778,
              "#fb9f3a"
             ],
             [
              0.8888888888888888,
              "#fdca26"
             ],
             [
              1,
              "#f0f921"
             ]
            ],
            "type": "contour"
           }
          ],
          "contourcarpet": [
           {
            "colorbar": {
             "outlinewidth": 0,
             "ticks": ""
            },
            "type": "contourcarpet"
           }
          ],
          "heatmap": [
           {
            "colorbar": {
             "outlinewidth": 0,
             "ticks": ""
            },
            "colorscale": [
             [
              0,
              "#0d0887"
             ],
             [
              0.1111111111111111,
              "#46039f"
             ],
             [
              0.2222222222222222,
              "#7201a8"
             ],
             [
              0.3333333333333333,
              "#9c179e"
             ],
             [
              0.4444444444444444,
              "#bd3786"
             ],
             [
              0.5555555555555556,
              "#d8576b"
             ],
             [
              0.6666666666666666,
              "#ed7953"
             ],
             [
              0.7777777777777778,
              "#fb9f3a"
             ],
             [
              0.8888888888888888,
              "#fdca26"
             ],
             [
              1,
              "#f0f921"
             ]
            ],
            "type": "heatmap"
           }
          ],
          "heatmapgl": [
           {
            "colorbar": {
             "outlinewidth": 0,
             "ticks": ""
            },
            "colorscale": [
             [
              0,
              "#0d0887"
             ],
             [
              0.1111111111111111,
              "#46039f"
             ],
             [
              0.2222222222222222,
              "#7201a8"
             ],
             [
              0.3333333333333333,
              "#9c179e"
             ],
             [
              0.4444444444444444,
              "#bd3786"
             ],
             [
              0.5555555555555556,
              "#d8576b"
             ],
             [
              0.6666666666666666,
              "#ed7953"
             ],
             [
              0.7777777777777778,
              "#fb9f3a"
             ],
             [
              0.8888888888888888,
              "#fdca26"
             ],
             [
              1,
              "#f0f921"
             ]
            ],
            "type": "heatmapgl"
           }
          ],
          "histogram": [
           {
            "marker": {
             "pattern": {
              "fillmode": "overlay",
              "size": 10,
              "solidity": 0.2
             }
            },
            "type": "histogram"
           }
          ],
          "histogram2d": [
           {
            "colorbar": {
             "outlinewidth": 0,
             "ticks": ""
            },
            "colorscale": [
             [
              0,
              "#0d0887"
             ],
             [
              0.1111111111111111,
              "#46039f"
             ],
             [
              0.2222222222222222,
              "#7201a8"
             ],
             [
              0.3333333333333333,
              "#9c179e"
             ],
             [
              0.4444444444444444,
              "#bd3786"
             ],
             [
              0.5555555555555556,
              "#d8576b"
             ],
             [
              0.6666666666666666,
              "#ed7953"
             ],
             [
              0.7777777777777778,
              "#fb9f3a"
             ],
             [
              0.8888888888888888,
              "#fdca26"
             ],
             [
              1,
              "#f0f921"
             ]
            ],
            "type": "histogram2d"
           }
          ],
          "histogram2dcontour": [
           {
            "colorbar": {
             "outlinewidth": 0,
             "ticks": ""
            },
            "colorscale": [
             [
              0,
              "#0d0887"
             ],
             [
              0.1111111111111111,
              "#46039f"
             ],
             [
              0.2222222222222222,
              "#7201a8"
             ],
             [
              0.3333333333333333,
              "#9c179e"
             ],
             [
              0.4444444444444444,
              "#bd3786"
             ],
             [
              0.5555555555555556,
              "#d8576b"
             ],
             [
              0.6666666666666666,
              "#ed7953"
             ],
             [
              0.7777777777777778,
              "#fb9f3a"
             ],
             [
              0.8888888888888888,
              "#fdca26"
             ],
             [
              1,
              "#f0f921"
             ]
            ],
            "type": "histogram2dcontour"
           }
          ],
          "mesh3d": [
           {
            "colorbar": {
             "outlinewidth": 0,
             "ticks": ""
            },
            "type": "mesh3d"
           }
          ],
          "parcoords": [
           {
            "line": {
             "colorbar": {
              "outlinewidth": 0,
              "ticks": ""
             }
            },
            "type": "parcoords"
           }
          ],
          "pie": [
           {
            "automargin": true,
            "type": "pie"
           }
          ],
          "scatter": [
           {
            "fillpattern": {
             "fillmode": "overlay",
             "size": 10,
             "solidity": 0.2
            },
            "type": "scatter"
           }
          ],
          "scatter3d": [
           {
            "line": {
             "colorbar": {
              "outlinewidth": 0,
              "ticks": ""
             }
            },
            "marker": {
             "colorbar": {
              "outlinewidth": 0,
              "ticks": ""
             }
            },
            "type": "scatter3d"
           }
          ],
          "scattercarpet": [
           {
            "marker": {
             "colorbar": {
              "outlinewidth": 0,
              "ticks": ""
             }
            },
            "type": "scattercarpet"
           }
          ],
          "scattergeo": [
           {
            "marker": {
             "colorbar": {
              "outlinewidth": 0,
              "ticks": ""
             }
            },
            "type": "scattergeo"
           }
          ],
          "scattergl": [
           {
            "marker": {
             "colorbar": {
              "outlinewidth": 0,
              "ticks": ""
             }
            },
            "type": "scattergl"
           }
          ],
          "scattermapbox": [
           {
            "marker": {
             "colorbar": {
              "outlinewidth": 0,
              "ticks": ""
             }
            },
            "type": "scattermapbox"
           }
          ],
          "scatterpolar": [
           {
            "marker": {
             "colorbar": {
              "outlinewidth": 0,
              "ticks": ""
             }
            },
            "type": "scatterpolar"
           }
          ],
          "scatterpolargl": [
           {
            "marker": {
             "colorbar": {
              "outlinewidth": 0,
              "ticks": ""
             }
            },
            "type": "scatterpolargl"
           }
          ],
          "scatterternary": [
           {
            "marker": {
             "colorbar": {
              "outlinewidth": 0,
              "ticks": ""
             }
            },
            "type": "scatterternary"
           }
          ],
          "surface": [
           {
            "colorbar": {
             "outlinewidth": 0,
             "ticks": ""
            },
            "colorscale": [
             [
              0,
              "#0d0887"
             ],
             [
              0.1111111111111111,
              "#46039f"
             ],
             [
              0.2222222222222222,
              "#7201a8"
             ],
             [
              0.3333333333333333,
              "#9c179e"
             ],
             [
              0.4444444444444444,
              "#bd3786"
             ],
             [
              0.5555555555555556,
              "#d8576b"
             ],
             [
              0.6666666666666666,
              "#ed7953"
             ],
             [
              0.7777777777777778,
              "#fb9f3a"
             ],
             [
              0.8888888888888888,
              "#fdca26"
             ],
             [
              1,
              "#f0f921"
             ]
            ],
            "type": "surface"
           }
          ],
          "table": [
           {
            "cells": {
             "fill": {
              "color": "#EBF0F8"
             },
             "line": {
              "color": "white"
             }
            },
            "header": {
             "fill": {
              "color": "#C8D4E3"
             },
             "line": {
              "color": "white"
             }
            },
            "type": "table"
           }
          ]
         },
         "layout": {
          "annotationdefaults": {
           "arrowcolor": "#2a3f5f",
           "arrowhead": 0,
           "arrowwidth": 1
          },
          "autotypenumbers": "strict",
          "coloraxis": {
           "colorbar": {
            "outlinewidth": 0,
            "ticks": ""
           }
          },
          "colorscale": {
           "diverging": [
            [
             0,
             "#8e0152"
            ],
            [
             0.1,
             "#c51b7d"
            ],
            [
             0.2,
             "#de77ae"
            ],
            [
             0.3,
             "#f1b6da"
            ],
            [
             0.4,
             "#fde0ef"
            ],
            [
             0.5,
             "#f7f7f7"
            ],
            [
             0.6,
             "#e6f5d0"
            ],
            [
             0.7,
             "#b8e186"
            ],
            [
             0.8,
             "#7fbc41"
            ],
            [
             0.9,
             "#4d9221"
            ],
            [
             1,
             "#276419"
            ]
           ],
           "sequential": [
            [
             0,
             "#0d0887"
            ],
            [
             0.1111111111111111,
             "#46039f"
            ],
            [
             0.2222222222222222,
             "#7201a8"
            ],
            [
             0.3333333333333333,
             "#9c179e"
            ],
            [
             0.4444444444444444,
             "#bd3786"
            ],
            [
             0.5555555555555556,
             "#d8576b"
            ],
            [
             0.6666666666666666,
             "#ed7953"
            ],
            [
             0.7777777777777778,
             "#fb9f3a"
            ],
            [
             0.8888888888888888,
             "#fdca26"
            ],
            [
             1,
             "#f0f921"
            ]
           ],
           "sequentialminus": [
            [
             0,
             "#0d0887"
            ],
            [
             0.1111111111111111,
             "#46039f"
            ],
            [
             0.2222222222222222,
             "#7201a8"
            ],
            [
             0.3333333333333333,
             "#9c179e"
            ],
            [
             0.4444444444444444,
             "#bd3786"
            ],
            [
             0.5555555555555556,
             "#d8576b"
            ],
            [
             0.6666666666666666,
             "#ed7953"
            ],
            [
             0.7777777777777778,
             "#fb9f3a"
            ],
            [
             0.8888888888888888,
             "#fdca26"
            ],
            [
             1,
             "#f0f921"
            ]
           ]
          },
          "colorway": [
           "#636efa",
           "#EF553B",
           "#00cc96",
           "#ab63fa",
           "#FFA15A",
           "#19d3f3",
           "#FF6692",
           "#B6E880",
           "#FF97FF",
           "#FECB52"
          ],
          "font": {
           "color": "#2a3f5f"
          },
          "geo": {
           "bgcolor": "white",
           "lakecolor": "white",
           "landcolor": "#E5ECF6",
           "showlakes": true,
           "showland": true,
           "subunitcolor": "white"
          },
          "hoverlabel": {
           "align": "left"
          },
          "hovermode": "closest",
          "mapbox": {
           "style": "light"
          },
          "paper_bgcolor": "white",
          "plot_bgcolor": "#E5ECF6",
          "polar": {
           "angularaxis": {
            "gridcolor": "white",
            "linecolor": "white",
            "ticks": ""
           },
           "bgcolor": "#E5ECF6",
           "radialaxis": {
            "gridcolor": "white",
            "linecolor": "white",
            "ticks": ""
           }
          },
          "scene": {
           "xaxis": {
            "backgroundcolor": "#E5ECF6",
            "gridcolor": "white",
            "gridwidth": 2,
            "linecolor": "white",
            "showbackground": true,
            "ticks": "",
            "zerolinecolor": "white"
           },
           "yaxis": {
            "backgroundcolor": "#E5ECF6",
            "gridcolor": "white",
            "gridwidth": 2,
            "linecolor": "white",
            "showbackground": true,
            "ticks": "",
            "zerolinecolor": "white"
           },
           "zaxis": {
            "backgroundcolor": "#E5ECF6",
            "gridcolor": "white",
            "gridwidth": 2,
            "linecolor": "white",
            "showbackground": true,
            "ticks": "",
            "zerolinecolor": "white"
           }
          },
          "shapedefaults": {
           "line": {
            "color": "#2a3f5f"
           }
          },
          "ternary": {
           "aaxis": {
            "gridcolor": "white",
            "linecolor": "white",
            "ticks": ""
           },
           "baxis": {
            "gridcolor": "white",
            "linecolor": "white",
            "ticks": ""
           },
           "bgcolor": "#E5ECF6",
           "caxis": {
            "gridcolor": "white",
            "linecolor": "white",
            "ticks": ""
           }
          },
          "title": {
           "x": 0.05
          },
          "xaxis": {
           "automargin": true,
           "gridcolor": "white",
           "linecolor": "white",
           "ticks": "",
           "title": {
            "standoff": 15
           },
           "zerolinecolor": "white",
           "zerolinewidth": 2
          },
          "yaxis": {
           "automargin": true,
           "gridcolor": "white",
           "linecolor": "white",
           "ticks": "",
           "title": {
            "standoff": 15
           },
           "zerolinecolor": "white",
           "zerolinewidth": 2
          }
         }
        },
        "title": {
         "font": {
          "color": "dimgrey",
          "size": 30
         },
         "text": "Effect of MET budget on model Velocity Kgs"
        },
        "xaxis": {
         "anchor": "y",
         "domain": [
          0,
          1
         ],
         "gridcolor": "#e6e6e6",
         "gridwidth": 1,
         "showgrid": true,
         "title": {
          "text": "MET budget  <i>nan</i>"
         }
        },
        "yaxis": {
         "anchor": "x",
         "domain": [
          0,
          1
         ],
         "gridcolor": "#e6e6e6",
         "gridwidth": 1,
         "range": [
          41.86960610228119,
          409.39170411119386
         ],
         "showgrid": true,
         "title": {
          "text": "Water Ration Kms"
         }
        }
       }
      }
     },
     "metadata": {},
     "output_type": "display_data"
    },
    {
     "data": {
      "application/vnd.plotly.v1+json": {
       "config": {
        "plotlyServerURL": "https://plotly.com"
       },
       "data": [
        {
         "customdata": [
          [
           96.92038449602128,
           1.5526790707757643,
           1.3764879647771093,
           1.7288701767744197
          ],
          [
           96.92038449602128,
           1.5526790707757643,
           1.3764879647771093,
           1.7288701767744197
          ],
          [
           96.92038449602128,
           1.5526790707757643,
           1.3764879647771093,
           1.7288701767744197
          ],
          [
           96.92038449602128,
           1.5526790707757643,
           1.3764879647771093,
           1.7288701767744197
          ],
          [
           96.92038449602128,
           1.5526790707757643,
           1.3764879647771093,
           1.7288701767744197
          ],
          [
           96.92038449602128,
           1.5526790707757643,
           1.3764879647771093,
           1.7288701767744197
          ],
          [
           96.92038449602128,
           1.5526790707757643,
           1.3764879647771093,
           1.7288701767744197
          ],
          [
           96.92038449602128,
           1.5526790707757643,
           1.3764879647771093,
           1.7288701767744197
          ],
          [
           96.92038449602128,
           1.5526790707757643,
           1.3764879647771093,
           1.7288701767744197
          ],
          [
           96.92038449602128,
           1.5526790707757643,
           1.3764879647771093,
           1.7288701767744197
          ],
          [
           96.92038449602128,
           1.5526790707757643,
           1.3764879647771093,
           1.7288701767744197
          ],
          [
           96.92038449602128,
           1.5526790707757643,
           1.3764879647771093,
           1.7288701767744197
          ],
          [
           96.92038449602128,
           1.5526790707757643,
           1.3764879647771093,
           1.7288701767744197
          ],
          [
           96.92038449602128,
           1.5526790707757643,
           1.3764879647771093,
           1.7288701767744197
          ],
          [
           96.92038449602128,
           1.5526790707757643,
           1.3764879647771093,
           1.7288701767744197
          ],
          [
           96.92038449602128,
           1.5526790707757643,
           1.3764879647771093,
           1.7288701767744197
          ],
          [
           96.92038449602128,
           1.5526790707757643,
           1.3764879647771093,
           1.7288701767744197
          ],
          [
           96.92038449602128,
           1.5526790707757643,
           1.3764879647771093,
           1.7288701767744197
          ],
          [
           96.92038449602128,
           1.5526790707757643,
           1.3764879647771093,
           1.7288701767744197
          ],
          [
           96.92038449602128,
           1.5526790707757643,
           1.3764879647771093,
           1.7288701767744197
          ],
          [
           96.92038449602128,
           1.5526790707757643,
           1.3764879647771093,
           1.7288701767744197
          ],
          [
           96.92038449602128,
           1.5526790707757643,
           1.3764879647771093,
           1.7288701767744197
          ],
          [
           96.92038449602128,
           1.5526790707757643,
           1.3764879647771093,
           1.7288701767744197
          ],
          [
           96.92038449602128,
           1.5526790707757643,
           1.3764879647771093,
           1.7288701767744197
          ],
          [
           96.92038449602128,
           1.5526790707757643,
           1.3764879647771093,
           1.7288701767744197
          ],
          [
           96.92038449602128,
           1.5526790707757643,
           1.3764879647771093,
           1.7288701767744197
          ],
          [
           96.92038449602128,
           1.5526790707757643,
           1.3764879647771093,
           1.7288701767744197
          ],
          [
           96.92038449602128,
           1.5526790707757643,
           1.3764879647771093,
           1.7288701767744197
          ],
          [
           96.92038449602128,
           1.5526790707757643,
           1.3764879647771093,
           1.7288701767744197
          ],
          [
           96.92038449602128,
           1.5526790707757643,
           1.3764879647771093,
           1.7288701767744197
          ]
         ],
         "hovertemplate": "DataType=Sensitivity<br>Variable=%{x}<br>Water Ration Kms=%{y}<br>MarkerSize=%{marker.size}<br>Velocity Kgs=%{customdata[0]}<br>Mean Trip Velocity=%{customdata[1]}<br>Mean Loaded Velocity=%{customdata[2]}<br>Mean Unloaded Velocity=%{customdata[3]}<extra></extra>",
         "legendgroup": "Sensitivity",
         "marker": {
          "color": "#3D87CB",
          "size": [
           10,
           10,
           10,
           10,
           10,
           10,
           10,
           10,
           10,
           10,
           10,
           10,
           10,
           10,
           10,
           10,
           10,
           10,
           10,
           10,
           10,
           10,
           10,
           10,
           10,
           10,
           10,
           10,
           10,
           10
          ],
          "sizemode": "area",
          "sizeref": 0.125,
          "symbol": "circle"
         },
         "mode": "markers",
         "name": "Sensitivity",
         "orientation": "v",
         "showlegend": true,
         "type": "scatter",
         "x": [
          2,
          2.413793103448276,
          2.8275862068965516,
          3.2413793103448274,
          3.655172413793103,
          4.068965517241379,
          4.482758620689655,
          4.896551724137931,
          5.310344827586206,
          5.724137931034482,
          6.137931034482759,
          6.551724137931035,
          6.9655172413793105,
          7.379310344827586,
          7.793103448275862,
          8.206896551724139,
          8.620689655172413,
          9.03448275862069,
          9.448275862068964,
          9.862068965517242,
          10.275862068965518,
          10.689655172413794,
          11.10344827586207,
          11.517241379310345,
          11.931034482758621,
          12.344827586206897,
          12.758620689655173,
          13.172413793103448,
          13.586206896551724,
          14
         ],
         "xaxis": "x",
         "y": [
          46.52178455809021,
          56.14698136321232,
          65.77217816833445,
          75.39737497345655,
          85.02257177857867,
          94.64776858370077,
          104.2729653888229,
          113.89816219394501,
          123.52335899906711,
          133.14855580418924,
          142.77375260931137,
          152.39894941443347,
          162.02414621955558,
          171.6493430246777,
          181.2745398297998,
          190.89973663492196,
          200.524933440044,
          210.15013024516617,
          219.77532705028827,
          229.4005238554104,
          239.0257206605325,
          248.65091746565463,
          258.27611427077676,
          267.90131107589883,
          277.5265078810209,
          287.1517046861431,
          296.7769014912652,
          306.4020982963873,
          316.0272951015094,
          325.6524919066315
         ],
         "yaxis": "y"
        },
        {
         "customdata": [
          [
           96.92038449602128,
           1.5526790707757643,
           1.3764879647771093,
           1.7288701767744197
          ]
         ],
         "hovertemplate": "DataType=Default<br>Variable=%{x}<br>Water Ration Kms=%{y}<br>MarkerSize=%{marker.size}<br>Velocity Kgs=%{customdata[0]}<br>Mean Trip Velocity=%{customdata[1]}<br>Mean Loaded Velocity=%{customdata[2]}<br>Mean Unloaded Velocity=%{customdata[3]}<extra></extra>",
         "legendgroup": "Default",
         "marker": {
          "color": "#F0B323",
          "size": [
           50
          ],
          "sizemode": "area",
          "sizeref": 0.125,
          "symbol": "circle"
         },
         "mode": "markers",
         "name": "Default",
         "orientation": "v",
         "showlegend": true,
         "type": "scatter",
         "x": [
          8
         ],
         "xaxis": "x",
         "y": [
          186.08713823236084
         ],
         "yaxis": "y"
        },
        {
         "customdata": [
          [
           96.92038449602128,
           1.5526790707757643,
           1.3764879647771093,
           1.7288701767744197
          ]
         ],
         "hovertemplate": "DataType=Minimum Expected<br>Variable=%{x}<br>Water Ration Kms=%{y}<br>MarkerSize=%{marker.size}<br>Velocity Kgs=%{customdata[0]}<br>Mean Trip Velocity=%{customdata[1]}<br>Mean Loaded Velocity=%{customdata[2]}<br>Mean Unloaded Velocity=%{customdata[3]}<extra></extra>",
         "legendgroup": "Minimum Expected",
         "marker": {
          "color": "#DC582A",
          "size": [
           20
          ],
          "sizemode": "area",
          "sizeref": 0.125,
          "symbol": "circle"
         },
         "mode": "markers",
         "name": "Minimum Expected",
         "orientation": "v",
         "showlegend": true,
         "type": "scatter",
         "x": [
          4
         ],
         "xaxis": "x",
         "y": [
          93.04356911618042
         ],
         "yaxis": "y"
        },
        {
         "customdata": [
          [
           96.92038449602128,
           1.5526790707757643,
           1.3764879647771093,
           1.7288701767744197
          ]
         ],
         "hovertemplate": "DataType=Maximum Expected<br>Variable=%{x}<br>Water Ration Kms=%{y}<br>MarkerSize=%{marker.size}<br>Velocity Kgs=%{customdata[0]}<br>Mean Trip Velocity=%{customdata[1]}<br>Mean Loaded Velocity=%{customdata[2]}<br>Mean Unloaded Velocity=%{customdata[3]}<extra></extra>",
         "legendgroup": "Maximum Expected",
         "marker": {
          "color": "#674230",
          "size": [
           20
          ],
          "sizemode": "area",
          "sizeref": 0.125,
          "symbol": "circle"
         },
         "mode": "markers",
         "name": "Maximum Expected",
         "orientation": "v",
         "showlegend": true,
         "type": "scatter",
         "x": [
          12
         ],
         "xaxis": "x",
         "y": [
          279.1307073485413
         ],
         "yaxis": "y"
        }
       ],
       "layout": {
        "font": {
         "color": "dimgrey",
         "family": "Droid Sans Mono",
         "size": 16
        },
        "legend": {
         "itemsizing": "constant",
         "title": {
          "text": "Legend"
         },
         "tracegroupgap": 0
        },
        "paper_bgcolor": "white",
        "plot_bgcolor": "white",
        "template": {
         "data": {
          "bar": [
           {
            "error_x": {
             "color": "#2a3f5f"
            },
            "error_y": {
             "color": "#2a3f5f"
            },
            "marker": {
             "line": {
              "color": "#E5ECF6",
              "width": 0.5
             },
             "pattern": {
              "fillmode": "overlay",
              "size": 10,
              "solidity": 0.2
             }
            },
            "type": "bar"
           }
          ],
          "barpolar": [
           {
            "marker": {
             "line": {
              "color": "#E5ECF6",
              "width": 0.5
             },
             "pattern": {
              "fillmode": "overlay",
              "size": 10,
              "solidity": 0.2
             }
            },
            "type": "barpolar"
           }
          ],
          "carpet": [
           {
            "aaxis": {
             "endlinecolor": "#2a3f5f",
             "gridcolor": "white",
             "linecolor": "white",
             "minorgridcolor": "white",
             "startlinecolor": "#2a3f5f"
            },
            "baxis": {
             "endlinecolor": "#2a3f5f",
             "gridcolor": "white",
             "linecolor": "white",
             "minorgridcolor": "white",
             "startlinecolor": "#2a3f5f"
            },
            "type": "carpet"
           }
          ],
          "choropleth": [
           {
            "colorbar": {
             "outlinewidth": 0,
             "ticks": ""
            },
            "type": "choropleth"
           }
          ],
          "contour": [
           {
            "colorbar": {
             "outlinewidth": 0,
             "ticks": ""
            },
            "colorscale": [
             [
              0,
              "#0d0887"
             ],
             [
              0.1111111111111111,
              "#46039f"
             ],
             [
              0.2222222222222222,
              "#7201a8"
             ],
             [
              0.3333333333333333,
              "#9c179e"
             ],
             [
              0.4444444444444444,
              "#bd3786"
             ],
             [
              0.5555555555555556,
              "#d8576b"
             ],
             [
              0.6666666666666666,
              "#ed7953"
             ],
             [
              0.7777777777777778,
              "#fb9f3a"
             ],
             [
              0.8888888888888888,
              "#fdca26"
             ],
             [
              1,
              "#f0f921"
             ]
            ],
            "type": "contour"
           }
          ],
          "contourcarpet": [
           {
            "colorbar": {
             "outlinewidth": 0,
             "ticks": ""
            },
            "type": "contourcarpet"
           }
          ],
          "heatmap": [
           {
            "colorbar": {
             "outlinewidth": 0,
             "ticks": ""
            },
            "colorscale": [
             [
              0,
              "#0d0887"
             ],
             [
              0.1111111111111111,
              "#46039f"
             ],
             [
              0.2222222222222222,
              "#7201a8"
             ],
             [
              0.3333333333333333,
              "#9c179e"
             ],
             [
              0.4444444444444444,
              "#bd3786"
             ],
             [
              0.5555555555555556,
              "#d8576b"
             ],
             [
              0.6666666666666666,
              "#ed7953"
             ],
             [
              0.7777777777777778,
              "#fb9f3a"
             ],
             [
              0.8888888888888888,
              "#fdca26"
             ],
             [
              1,
              "#f0f921"
             ]
            ],
            "type": "heatmap"
           }
          ],
          "heatmapgl": [
           {
            "colorbar": {
             "outlinewidth": 0,
             "ticks": ""
            },
            "colorscale": [
             [
              0,
              "#0d0887"
             ],
             [
              0.1111111111111111,
              "#46039f"
             ],
             [
              0.2222222222222222,
              "#7201a8"
             ],
             [
              0.3333333333333333,
              "#9c179e"
             ],
             [
              0.4444444444444444,
              "#bd3786"
             ],
             [
              0.5555555555555556,
              "#d8576b"
             ],
             [
              0.6666666666666666,
              "#ed7953"
             ],
             [
              0.7777777777777778,
              "#fb9f3a"
             ],
             [
              0.8888888888888888,
              "#fdca26"
             ],
             [
              1,
              "#f0f921"
             ]
            ],
            "type": "heatmapgl"
           }
          ],
          "histogram": [
           {
            "marker": {
             "pattern": {
              "fillmode": "overlay",
              "size": 10,
              "solidity": 0.2
             }
            },
            "type": "histogram"
           }
          ],
          "histogram2d": [
           {
            "colorbar": {
             "outlinewidth": 0,
             "ticks": ""
            },
            "colorscale": [
             [
              0,
              "#0d0887"
             ],
             [
              0.1111111111111111,
              "#46039f"
             ],
             [
              0.2222222222222222,
              "#7201a8"
             ],
             [
              0.3333333333333333,
              "#9c179e"
             ],
             [
              0.4444444444444444,
              "#bd3786"
             ],
             [
              0.5555555555555556,
              "#d8576b"
             ],
             [
              0.6666666666666666,
              "#ed7953"
             ],
             [
              0.7777777777777778,
              "#fb9f3a"
             ],
             [
              0.8888888888888888,
              "#fdca26"
             ],
             [
              1,
              "#f0f921"
             ]
            ],
            "type": "histogram2d"
           }
          ],
          "histogram2dcontour": [
           {
            "colorbar": {
             "outlinewidth": 0,
             "ticks": ""
            },
            "colorscale": [
             [
              0,
              "#0d0887"
             ],
             [
              0.1111111111111111,
              "#46039f"
             ],
             [
              0.2222222222222222,
              "#7201a8"
             ],
             [
              0.3333333333333333,
              "#9c179e"
             ],
             [
              0.4444444444444444,
              "#bd3786"
             ],
             [
              0.5555555555555556,
              "#d8576b"
             ],
             [
              0.6666666666666666,
              "#ed7953"
             ],
             [
              0.7777777777777778,
              "#fb9f3a"
             ],
             [
              0.8888888888888888,
              "#fdca26"
             ],
             [
              1,
              "#f0f921"
             ]
            ],
            "type": "histogram2dcontour"
           }
          ],
          "mesh3d": [
           {
            "colorbar": {
             "outlinewidth": 0,
             "ticks": ""
            },
            "type": "mesh3d"
           }
          ],
          "parcoords": [
           {
            "line": {
             "colorbar": {
              "outlinewidth": 0,
              "ticks": ""
             }
            },
            "type": "parcoords"
           }
          ],
          "pie": [
           {
            "automargin": true,
            "type": "pie"
           }
          ],
          "scatter": [
           {
            "fillpattern": {
             "fillmode": "overlay",
             "size": 10,
             "solidity": 0.2
            },
            "type": "scatter"
           }
          ],
          "scatter3d": [
           {
            "line": {
             "colorbar": {
              "outlinewidth": 0,
              "ticks": ""
             }
            },
            "marker": {
             "colorbar": {
              "outlinewidth": 0,
              "ticks": ""
             }
            },
            "type": "scatter3d"
           }
          ],
          "scattercarpet": [
           {
            "marker": {
             "colorbar": {
              "outlinewidth": 0,
              "ticks": ""
             }
            },
            "type": "scattercarpet"
           }
          ],
          "scattergeo": [
           {
            "marker": {
             "colorbar": {
              "outlinewidth": 0,
              "ticks": ""
             }
            },
            "type": "scattergeo"
           }
          ],
          "scattergl": [
           {
            "marker": {
             "colorbar": {
              "outlinewidth": 0,
              "ticks": ""
             }
            },
            "type": "scattergl"
           }
          ],
          "scattermapbox": [
           {
            "marker": {
             "colorbar": {
              "outlinewidth": 0,
              "ticks": ""
             }
            },
            "type": "scattermapbox"
           }
          ],
          "scatterpolar": [
           {
            "marker": {
             "colorbar": {
              "outlinewidth": 0,
              "ticks": ""
             }
            },
            "type": "scatterpolar"
           }
          ],
          "scatterpolargl": [
           {
            "marker": {
             "colorbar": {
              "outlinewidth": 0,
              "ticks": ""
             }
            },
            "type": "scatterpolargl"
           }
          ],
          "scatterternary": [
           {
            "marker": {
             "colorbar": {
              "outlinewidth": 0,
              "ticks": ""
             }
            },
            "type": "scatterternary"
           }
          ],
          "surface": [
           {
            "colorbar": {
             "outlinewidth": 0,
             "ticks": ""
            },
            "colorscale": [
             [
              0,
              "#0d0887"
             ],
             [
              0.1111111111111111,
              "#46039f"
             ],
             [
              0.2222222222222222,
              "#7201a8"
             ],
             [
              0.3333333333333333,
              "#9c179e"
             ],
             [
              0.4444444444444444,
              "#bd3786"
             ],
             [
              0.5555555555555556,
              "#d8576b"
             ],
             [
              0.6666666666666666,
              "#ed7953"
             ],
             [
              0.7777777777777778,
              "#fb9f3a"
             ],
             [
              0.8888888888888888,
              "#fdca26"
             ],
             [
              1,
              "#f0f921"
             ]
            ],
            "type": "surface"
           }
          ],
          "table": [
           {
            "cells": {
             "fill": {
              "color": "#EBF0F8"
             },
             "line": {
              "color": "white"
             }
            },
            "header": {
             "fill": {
              "color": "#C8D4E3"
             },
             "line": {
              "color": "white"
             }
            },
            "type": "table"
           }
          ]
         },
         "layout": {
          "annotationdefaults": {
           "arrowcolor": "#2a3f5f",
           "arrowhead": 0,
           "arrowwidth": 1
          },
          "autotypenumbers": "strict",
          "coloraxis": {
           "colorbar": {
            "outlinewidth": 0,
            "ticks": ""
           }
          },
          "colorscale": {
           "diverging": [
            [
             0,
             "#8e0152"
            ],
            [
             0.1,
             "#c51b7d"
            ],
            [
             0.2,
             "#de77ae"
            ],
            [
             0.3,
             "#f1b6da"
            ],
            [
             0.4,
             "#fde0ef"
            ],
            [
             0.5,
             "#f7f7f7"
            ],
            [
             0.6,
             "#e6f5d0"
            ],
            [
             0.7,
             "#b8e186"
            ],
            [
             0.8,
             "#7fbc41"
            ],
            [
             0.9,
             "#4d9221"
            ],
            [
             1,
             "#276419"
            ]
           ],
           "sequential": [
            [
             0,
             "#0d0887"
            ],
            [
             0.1111111111111111,
             "#46039f"
            ],
            [
             0.2222222222222222,
             "#7201a8"
            ],
            [
             0.3333333333333333,
             "#9c179e"
            ],
            [
             0.4444444444444444,
             "#bd3786"
            ],
            [
             0.5555555555555556,
             "#d8576b"
            ],
            [
             0.6666666666666666,
             "#ed7953"
            ],
            [
             0.7777777777777778,
             "#fb9f3a"
            ],
            [
             0.8888888888888888,
             "#fdca26"
            ],
            [
             1,
             "#f0f921"
            ]
           ],
           "sequentialminus": [
            [
             0,
             "#0d0887"
            ],
            [
             0.1111111111111111,
             "#46039f"
            ],
            [
             0.2222222222222222,
             "#7201a8"
            ],
            [
             0.3333333333333333,
             "#9c179e"
            ],
            [
             0.4444444444444444,
             "#bd3786"
            ],
            [
             0.5555555555555556,
             "#d8576b"
            ],
            [
             0.6666666666666666,
             "#ed7953"
            ],
            [
             0.7777777777777778,
             "#fb9f3a"
            ],
            [
             0.8888888888888888,
             "#fdca26"
            ],
            [
             1,
             "#f0f921"
            ]
           ]
          },
          "colorway": [
           "#636efa",
           "#EF553B",
           "#00cc96",
           "#ab63fa",
           "#FFA15A",
           "#19d3f3",
           "#FF6692",
           "#B6E880",
           "#FF97FF",
           "#FECB52"
          ],
          "font": {
           "color": "#2a3f5f"
          },
          "geo": {
           "bgcolor": "white",
           "lakecolor": "white",
           "landcolor": "#E5ECF6",
           "showlakes": true,
           "showland": true,
           "subunitcolor": "white"
          },
          "hoverlabel": {
           "align": "left"
          },
          "hovermode": "closest",
          "mapbox": {
           "style": "light"
          },
          "paper_bgcolor": "white",
          "plot_bgcolor": "#E5ECF6",
          "polar": {
           "angularaxis": {
            "gridcolor": "white",
            "linecolor": "white",
            "ticks": ""
           },
           "bgcolor": "#E5ECF6",
           "radialaxis": {
            "gridcolor": "white",
            "linecolor": "white",
            "ticks": ""
           }
          },
          "scene": {
           "xaxis": {
            "backgroundcolor": "#E5ECF6",
            "gridcolor": "white",
            "gridwidth": 2,
            "linecolor": "white",
            "showbackground": true,
            "ticks": "",
            "zerolinecolor": "white"
           },
           "yaxis": {
            "backgroundcolor": "#E5ECF6",
            "gridcolor": "white",
            "gridwidth": 2,
            "linecolor": "white",
            "showbackground": true,
            "ticks": "",
            "zerolinecolor": "white"
           },
           "zaxis": {
            "backgroundcolor": "#E5ECF6",
            "gridcolor": "white",
            "gridwidth": 2,
            "linecolor": "white",
            "showbackground": true,
            "ticks": "",
            "zerolinecolor": "white"
           }
          },
          "shapedefaults": {
           "line": {
            "color": "#2a3f5f"
           }
          },
          "ternary": {
           "aaxis": {
            "gridcolor": "white",
            "linecolor": "white",
            "ticks": ""
           },
           "baxis": {
            "gridcolor": "white",
            "linecolor": "white",
            "ticks": ""
           },
           "bgcolor": "#E5ECF6",
           "caxis": {
            "gridcolor": "white",
            "linecolor": "white",
            "ticks": ""
           }
          },
          "title": {
           "x": 0.05
          },
          "xaxis": {
           "automargin": true,
           "gridcolor": "white",
           "linecolor": "white",
           "ticks": "",
           "title": {
            "standoff": 15
           },
           "zerolinecolor": "white",
           "zerolinewidth": 2
          },
          "yaxis": {
           "automargin": true,
           "gridcolor": "white",
           "linecolor": "white",
           "ticks": "",
           "title": {
            "standoff": 15
           },
           "zerolinecolor": "white",
           "zerolinewidth": 2
          }
         }
        },
        "title": {
         "font": {
          "color": "dimgrey",
          "size": 30
         },
         "text": "Effect of T_hours on model Velocity Kgs"
        },
        "xaxis": {
         "anchor": "y",
         "domain": [
          0,
          1
         ],
         "gridcolor": "#e6e6e6",
         "gridwidth": 1,
         "showgrid": true,
         "title": {
          "text": "T_hours  <i>[Hours]</i>"
         }
        },
        "yaxis": {
         "anchor": "x",
         "domain": [
          0,
          1
         ],
         "gridcolor": "#e6e6e6",
         "gridwidth": 1,
         "range": [
          41.86960610228119,
          409.39170411119386
         ],
         "showgrid": true,
         "title": {
          "text": "Water Ration Kms"
         }
        }
       }
      }
     },
     "metadata": {},
     "output_type": "display_data"
    },
    {
     "data": {
      "application/vnd.plotly.v1+json": {
       "config": {
        "plotlyServerURL": "https://plotly.com"
       },
       "data": [
        {
         "customdata": [
          [
           101.347420280953,
           1.6297407810390956,
           1.4334441166207135,
           1.8260374454574773
          ],
          [
           101.06533578648309,
           1.624820760772682,
           1.4298389120318316,
           1.8198026095135331
          ],
          [
           100.78527918473374,
           1.6199373842229168,
           1.426256373695809,
           1.813618394750024
          ],
          [
           100.50722667244749,
           1.615090217377828,
           1.4226962722134922,
           1.8074841625421636
          ],
          [
           100.23115483467382,
           1.6102788332744842,
           1.4191583814258155,
           1.8013992851231528
          ],
          [
           99.95704063670911,
           1.60550281185429,
           1.4156424783548645,
           1.795363145353716
          ],
          [
           99.684861416238,
           1.6007617398218579,
           1.4121483431462438,
           1.789375136497471
          ],
          [
           99.41459487567023,
           1.596055210507337,
           1.4086757590127237,
           1.7834346620019494
          ],
          [
           99.14621907466747,
           1.5913828237321186,
           1.4052245121791274,
           1.7775411352851096
          ],
          [
           98.87971242285435,
           1.5867441856778017,
           1.4017943918284177,
           1.7716939795271867
          ],
          [
           98.61505367270863,
           1.5821389087583477,
           1.3983851900489723,
           1.7658926274677234
          ],
          [
           98.35222191262588,
           1.577566611495319,
           1.3949967017830032,
           1.760136521207635
          ],
          [
           98.09119656015281,
           1.5730269183961254,
           1.391628724776091,
           1.7544251120161594
          ],
          [
           97.83195735538516,
           1.5685194598351866,
           1.3882810595278106,
           1.748757860142563
          ],
          [
           97.57448435452538,
           1.5640438719379384,
           1.384953509243419,
           1.743134234632457
          ],
          [
           97.31875792359556,
           1.5595997964675905,
           1.3816458797865758,
           1.7375537131486043
          ],
          [
           97.06475873230114,
           1.555186880714576,
           1.3783579796330736,
           1.732015781796078
          ],
          [
           96.81246774804146,
           1.5508047773886096,
           1.3750896198255527,
           1.726519934951667
          ],
          [
           96.56186623006316,
           1.546453144513279,
           1.3718406139291706,
           1.7210656750973878
          ],
          [
           96.31293572375178,
           1.5421316453231098,
           1.36861077798821,
           1.7156525126580098
          ],
          [
           96.06565805505875,
           1.5378399481630316,
           1.3653999304835962,
           1.7102799658424668
          ],
          [
           95.82001532505933,
           1.533577726390182,
           1.362207892291302,
           1.7049475604890618
          ],
          [
           95.57598990463775,
           1.5293446582779755,
           1.3590344866416262,
           1.6996548299143246
          ],
          [
           95.33356442929777,
           1.5251404269224003,
           1.3558795390793053,
           1.6944013147654964
          ],
          [
           95.09272179409218,
           1.5209647201504553,
           1.35274287742446,
           1.6891865628764506
          ],
          [
           94.85344514867124,
           1.5168172304306833,
           1.3496243317343453,
           1.6840101291270215
          ],
          [
           94.61571789244448,
           1.5126976547857505,
           1.3465237342658811,
           1.6788715753056198
          ],
          [
           94.37952366985438,
           1.5086056947070048,
           1.3434409194389514,
           1.6737704699750582
          ],
          [
           94.14484636575786,
           1.5045410560709702,
           1.3403757238004523,
           1.6687063883414879
          ],
          [
           93.91167010091321,
           1.500503449057721,
           1.3373279859890683,
           1.6636789121263726
          ]
         ],
         "hovertemplate": "DataType=Sensitivity<br>Variable=%{x}<br>Water Ration Kms=%{y}<br>MarkerSize=%{marker.size}<br>Velocity Kgs=%{customdata[0]}<br>Mean Trip Velocity=%{customdata[1]}<br>Mean Loaded Velocity=%{customdata[2]}<br>Mean Unloaded Velocity=%{customdata[3]}<extra></extra>",
         "legendgroup": "Sensitivity",
         "marker": {
          "color": "#3D87CB",
          "size": [
           10,
           10,
           10,
           10,
           10,
           10,
           10,
           10,
           10,
           10,
           10,
           10,
           10,
           10,
           10,
           10,
           10,
           10,
           10,
           10,
           10,
           10,
           10,
           10,
           10,
           10,
           10,
           10,
           10,
           10
          ],
          "sizemode": "area",
          "sizeref": 0.125,
          "symbol": "circle"
         },
         "mode": "markers",
         "name": "Sensitivity",
         "orientation": "v",
         "showlegend": true,
         "type": "scatter",
         "x": [
          5,
          5.362068965517241,
          5.724137931034483,
          6.086206896551724,
          6.448275862068965,
          6.810344827586206,
          7.172413793103448,
          7.5344827586206895,
          7.896551724137931,
          8.258620689655173,
          8.620689655172413,
          8.982758620689655,
          9.344827586206897,
          9.706896551724139,
          10.068965517241379,
          10.431034482758621,
          10.793103448275861,
          11.155172413793103,
          11.517241379310345,
          11.879310344827587,
          12.241379310344827,
          12.60344827586207,
          12.96551724137931,
          13.327586206896552,
          13.689655172413794,
          14.051724137931034,
          14.413793103448276,
          14.775862068965518,
          15.137931034482758,
          15.5
         ],
         "xaxis": "x",
         "y": [
          194.58704693942977,
          194.04544471004755,
          193.50773603468878,
          192.97387521109917,
          192.44381728257372,
          191.9175180224815,
          191.39493391917696,
          190.87602216128684,
          190.36074062336155,
          189.84904785188036,
          189.34090305160055,
          188.83626607224167,
          188.33509739549342,
          187.8373581223395,
          187.34300996068873,
          186.85201521330347,
          186.36433676601817,
          185.8799380762396,
          185.39878316172127,
          184.9208365896034,
          184.4460634657128,
          183.9744294241139,
          183.50590061690446,
          183.04044370425171,
          182.57802584465702,
          182.11861468544876,
          181.6621783534934,
          181.2086854461204,
          180.7581050222551,
          180.31040659375338
         ],
         "yaxis": "y"
        },
        {
         "customdata": [
          [
           96.92038449602128,
           1.5526790707757643,
           1.3764879647771093,
           1.7288701767744197
          ]
         ],
         "hovertemplate": "DataType=Default<br>Variable=%{x}<br>Water Ration Kms=%{y}<br>MarkerSize=%{marker.size}<br>Velocity Kgs=%{customdata[0]}<br>Mean Trip Velocity=%{customdata[1]}<br>Mean Loaded Velocity=%{customdata[2]}<br>Mean Unloaded Velocity=%{customdata[3]}<extra></extra>",
         "legendgroup": "Default",
         "marker": {
          "color": "#F0B323",
          "size": [
           50
          ],
          "sizemode": "area",
          "sizeref": 0.125,
          "symbol": "circle"
         },
         "mode": "markers",
         "name": "Default",
         "orientation": "v",
         "showlegend": true,
         "type": "scatter",
         "x": [
          11
         ],
         "xaxis": "x",
         "y": [
          186.08713823236084
         ],
         "yaxis": "y"
        },
        {
         "customdata": [
          [
           99.81423066606696,
           1.603015060318506,
           1.4138095160464548,
           1.7922206045905575
          ]
         ],
         "hovertemplate": "DataType=Minimum Expected<br>Variable=%{x}<br>Water Ration Kms=%{y}<br>MarkerSize=%{marker.size}<br>Velocity Kgs=%{customdata[0]}<br>Mean Trip Velocity=%{customdata[1]}<br>Mean Loaded Velocity=%{customdata[2]}<br>Mean Unloaded Velocity=%{customdata[3]}<extra></extra>",
         "legendgroup": "Minimum Expected",
         "marker": {
          "color": "#DC582A",
          "size": [
           20
          ],
          "sizemode": "area",
          "sizeref": 0.125,
          "symbol": "circle"
         },
         "mode": "markers",
         "name": "Minimum Expected",
         "orientation": "v",
         "showlegend": true,
         "type": "scatter",
         "x": [
          7
         ],
         "xaxis": "x",
         "y": [
          191.64332287884858
         ],
         "yaxis": "y"
        },
        {
         "customdata": [
          [
           94.88753228151494,
           1.517408012919345,
           1.3500687355020071,
           1.684747290336683
          ]
         ],
         "hovertemplate": "DataType=Maximum Expected<br>Variable=%{x}<br>Water Ration Kms=%{y}<br>MarkerSize=%{marker.size}<br>Velocity Kgs=%{customdata[0]}<br>Mean Trip Velocity=%{customdata[1]}<br>Mean Loaded Velocity=%{customdata[2]}<br>Mean Unloaded Velocity=%{customdata[3]}<extra></extra>",
         "legendgroup": "Maximum Expected",
         "marker": {
          "color": "#674230",
          "size": [
           20
          ],
          "sizemode": "area",
          "sizeref": 0.125,
          "symbol": "circle"
         },
         "mode": "markers",
         "name": "Maximum Expected",
         "orientation": "v",
         "showlegend": true,
         "type": "scatter",
         "x": [
          14
         ],
         "xaxis": "x",
         "y": [
          182.1840619805087
         ],
         "yaxis": "y"
        }
       ],
       "layout": {
        "font": {
         "color": "dimgrey",
         "family": "Droid Sans Mono",
         "size": 16
        },
        "legend": {
         "itemsizing": "constant",
         "title": {
          "text": "Legend"
         },
         "tracegroupgap": 0
        },
        "paper_bgcolor": "white",
        "plot_bgcolor": "white",
        "template": {
         "data": {
          "bar": [
           {
            "error_x": {
             "color": "#2a3f5f"
            },
            "error_y": {
             "color": "#2a3f5f"
            },
            "marker": {
             "line": {
              "color": "#E5ECF6",
              "width": 0.5
             },
             "pattern": {
              "fillmode": "overlay",
              "size": 10,
              "solidity": 0.2
             }
            },
            "type": "bar"
           }
          ],
          "barpolar": [
           {
            "marker": {
             "line": {
              "color": "#E5ECF6",
              "width": 0.5
             },
             "pattern": {
              "fillmode": "overlay",
              "size": 10,
              "solidity": 0.2
             }
            },
            "type": "barpolar"
           }
          ],
          "carpet": [
           {
            "aaxis": {
             "endlinecolor": "#2a3f5f",
             "gridcolor": "white",
             "linecolor": "white",
             "minorgridcolor": "white",
             "startlinecolor": "#2a3f5f"
            },
            "baxis": {
             "endlinecolor": "#2a3f5f",
             "gridcolor": "white",
             "linecolor": "white",
             "minorgridcolor": "white",
             "startlinecolor": "#2a3f5f"
            },
            "type": "carpet"
           }
          ],
          "choropleth": [
           {
            "colorbar": {
             "outlinewidth": 0,
             "ticks": ""
            },
            "type": "choropleth"
           }
          ],
          "contour": [
           {
            "colorbar": {
             "outlinewidth": 0,
             "ticks": ""
            },
            "colorscale": [
             [
              0,
              "#0d0887"
             ],
             [
              0.1111111111111111,
              "#46039f"
             ],
             [
              0.2222222222222222,
              "#7201a8"
             ],
             [
              0.3333333333333333,
              "#9c179e"
             ],
             [
              0.4444444444444444,
              "#bd3786"
             ],
             [
              0.5555555555555556,
              "#d8576b"
             ],
             [
              0.6666666666666666,
              "#ed7953"
             ],
             [
              0.7777777777777778,
              "#fb9f3a"
             ],
             [
              0.8888888888888888,
              "#fdca26"
             ],
             [
              1,
              "#f0f921"
             ]
            ],
            "type": "contour"
           }
          ],
          "contourcarpet": [
           {
            "colorbar": {
             "outlinewidth": 0,
             "ticks": ""
            },
            "type": "contourcarpet"
           }
          ],
          "heatmap": [
           {
            "colorbar": {
             "outlinewidth": 0,
             "ticks": ""
            },
            "colorscale": [
             [
              0,
              "#0d0887"
             ],
             [
              0.1111111111111111,
              "#46039f"
             ],
             [
              0.2222222222222222,
              "#7201a8"
             ],
             [
              0.3333333333333333,
              "#9c179e"
             ],
             [
              0.4444444444444444,
              "#bd3786"
             ],
             [
              0.5555555555555556,
              "#d8576b"
             ],
             [
              0.6666666666666666,
              "#ed7953"
             ],
             [
              0.7777777777777778,
              "#fb9f3a"
             ],
             [
              0.8888888888888888,
              "#fdca26"
             ],
             [
              1,
              "#f0f921"
             ]
            ],
            "type": "heatmap"
           }
          ],
          "heatmapgl": [
           {
            "colorbar": {
             "outlinewidth": 0,
             "ticks": ""
            },
            "colorscale": [
             [
              0,
              "#0d0887"
             ],
             [
              0.1111111111111111,
              "#46039f"
             ],
             [
              0.2222222222222222,
              "#7201a8"
             ],
             [
              0.3333333333333333,
              "#9c179e"
             ],
             [
              0.4444444444444444,
              "#bd3786"
             ],
             [
              0.5555555555555556,
              "#d8576b"
             ],
             [
              0.6666666666666666,
              "#ed7953"
             ],
             [
              0.7777777777777778,
              "#fb9f3a"
             ],
             [
              0.8888888888888888,
              "#fdca26"
             ],
             [
              1,
              "#f0f921"
             ]
            ],
            "type": "heatmapgl"
           }
          ],
          "histogram": [
           {
            "marker": {
             "pattern": {
              "fillmode": "overlay",
              "size": 10,
              "solidity": 0.2
             }
            },
            "type": "histogram"
           }
          ],
          "histogram2d": [
           {
            "colorbar": {
             "outlinewidth": 0,
             "ticks": ""
            },
            "colorscale": [
             [
              0,
              "#0d0887"
             ],
             [
              0.1111111111111111,
              "#46039f"
             ],
             [
              0.2222222222222222,
              "#7201a8"
             ],
             [
              0.3333333333333333,
              "#9c179e"
             ],
             [
              0.4444444444444444,
              "#bd3786"
             ],
             [
              0.5555555555555556,
              "#d8576b"
             ],
             [
              0.6666666666666666,
              "#ed7953"
             ],
             [
              0.7777777777777778,
              "#fb9f3a"
             ],
             [
              0.8888888888888888,
              "#fdca26"
             ],
             [
              1,
              "#f0f921"
             ]
            ],
            "type": "histogram2d"
           }
          ],
          "histogram2dcontour": [
           {
            "colorbar": {
             "outlinewidth": 0,
             "ticks": ""
            },
            "colorscale": [
             [
              0,
              "#0d0887"
             ],
             [
              0.1111111111111111,
              "#46039f"
             ],
             [
              0.2222222222222222,
              "#7201a8"
             ],
             [
              0.3333333333333333,
              "#9c179e"
             ],
             [
              0.4444444444444444,
              "#bd3786"
             ],
             [
              0.5555555555555556,
              "#d8576b"
             ],
             [
              0.6666666666666666,
              "#ed7953"
             ],
             [
              0.7777777777777778,
              "#fb9f3a"
             ],
             [
              0.8888888888888888,
              "#fdca26"
             ],
             [
              1,
              "#f0f921"
             ]
            ],
            "type": "histogram2dcontour"
           }
          ],
          "mesh3d": [
           {
            "colorbar": {
             "outlinewidth": 0,
             "ticks": ""
            },
            "type": "mesh3d"
           }
          ],
          "parcoords": [
           {
            "line": {
             "colorbar": {
              "outlinewidth": 0,
              "ticks": ""
             }
            },
            "type": "parcoords"
           }
          ],
          "pie": [
           {
            "automargin": true,
            "type": "pie"
           }
          ],
          "scatter": [
           {
            "fillpattern": {
             "fillmode": "overlay",
             "size": 10,
             "solidity": 0.2
            },
            "type": "scatter"
           }
          ],
          "scatter3d": [
           {
            "line": {
             "colorbar": {
              "outlinewidth": 0,
              "ticks": ""
             }
            },
            "marker": {
             "colorbar": {
              "outlinewidth": 0,
              "ticks": ""
             }
            },
            "type": "scatter3d"
           }
          ],
          "scattercarpet": [
           {
            "marker": {
             "colorbar": {
              "outlinewidth": 0,
              "ticks": ""
             }
            },
            "type": "scattercarpet"
           }
          ],
          "scattergeo": [
           {
            "marker": {
             "colorbar": {
              "outlinewidth": 0,
              "ticks": ""
             }
            },
            "type": "scattergeo"
           }
          ],
          "scattergl": [
           {
            "marker": {
             "colorbar": {
              "outlinewidth": 0,
              "ticks": ""
             }
            },
            "type": "scattergl"
           }
          ],
          "scattermapbox": [
           {
            "marker": {
             "colorbar": {
              "outlinewidth": 0,
              "ticks": ""
             }
            },
            "type": "scattermapbox"
           }
          ],
          "scatterpolar": [
           {
            "marker": {
             "colorbar": {
              "outlinewidth": 0,
              "ticks": ""
             }
            },
            "type": "scatterpolar"
           }
          ],
          "scatterpolargl": [
           {
            "marker": {
             "colorbar": {
              "outlinewidth": 0,
              "ticks": ""
             }
            },
            "type": "scatterpolargl"
           }
          ],
          "scatterternary": [
           {
            "marker": {
             "colorbar": {
              "outlinewidth": 0,
              "ticks": ""
             }
            },
            "type": "scatterternary"
           }
          ],
          "surface": [
           {
            "colorbar": {
             "outlinewidth": 0,
             "ticks": ""
            },
            "colorscale": [
             [
              0,
              "#0d0887"
             ],
             [
              0.1111111111111111,
              "#46039f"
             ],
             [
              0.2222222222222222,
              "#7201a8"
             ],
             [
              0.3333333333333333,
              "#9c179e"
             ],
             [
              0.4444444444444444,
              "#bd3786"
             ],
             [
              0.5555555555555556,
              "#d8576b"
             ],
             [
              0.6666666666666666,
              "#ed7953"
             ],
             [
              0.7777777777777778,
              "#fb9f3a"
             ],
             [
              0.8888888888888888,
              "#fdca26"
             ],
             [
              1,
              "#f0f921"
             ]
            ],
            "type": "surface"
           }
          ],
          "table": [
           {
            "cells": {
             "fill": {
              "color": "#EBF0F8"
             },
             "line": {
              "color": "white"
             }
            },
            "header": {
             "fill": {
              "color": "#C8D4E3"
             },
             "line": {
              "color": "white"
             }
            },
            "type": "table"
           }
          ]
         },
         "layout": {
          "annotationdefaults": {
           "arrowcolor": "#2a3f5f",
           "arrowhead": 0,
           "arrowwidth": 1
          },
          "autotypenumbers": "strict",
          "coloraxis": {
           "colorbar": {
            "outlinewidth": 0,
            "ticks": ""
           }
          },
          "colorscale": {
           "diverging": [
            [
             0,
             "#8e0152"
            ],
            [
             0.1,
             "#c51b7d"
            ],
            [
             0.2,
             "#de77ae"
            ],
            [
             0.3,
             "#f1b6da"
            ],
            [
             0.4,
             "#fde0ef"
            ],
            [
             0.5,
             "#f7f7f7"
            ],
            [
             0.6,
             "#e6f5d0"
            ],
            [
             0.7,
             "#b8e186"
            ],
            [
             0.8,
             "#7fbc41"
            ],
            [
             0.9,
             "#4d9221"
            ],
            [
             1,
             "#276419"
            ]
           ],
           "sequential": [
            [
             0,
             "#0d0887"
            ],
            [
             0.1111111111111111,
             "#46039f"
            ],
            [
             0.2222222222222222,
             "#7201a8"
            ],
            [
             0.3333333333333333,
             "#9c179e"
            ],
            [
             0.4444444444444444,
             "#bd3786"
            ],
            [
             0.5555555555555556,
             "#d8576b"
            ],
            [
             0.6666666666666666,
             "#ed7953"
            ],
            [
             0.7777777777777778,
             "#fb9f3a"
            ],
            [
             0.8888888888888888,
             "#fdca26"
            ],
            [
             1,
             "#f0f921"
            ]
           ],
           "sequentialminus": [
            [
             0,
             "#0d0887"
            ],
            [
             0.1111111111111111,
             "#46039f"
            ],
            [
             0.2222222222222222,
             "#7201a8"
            ],
            [
             0.3333333333333333,
             "#9c179e"
            ],
            [
             0.4444444444444444,
             "#bd3786"
            ],
            [
             0.5555555555555556,
             "#d8576b"
            ],
            [
             0.6666666666666666,
             "#ed7953"
            ],
            [
             0.7777777777777778,
             "#fb9f3a"
            ],
            [
             0.8888888888888888,
             "#fdca26"
            ],
            [
             1,
             "#f0f921"
            ]
           ]
          },
          "colorway": [
           "#636efa",
           "#EF553B",
           "#00cc96",
           "#ab63fa",
           "#FFA15A",
           "#19d3f3",
           "#FF6692",
           "#B6E880",
           "#FF97FF",
           "#FECB52"
          ],
          "font": {
           "color": "#2a3f5f"
          },
          "geo": {
           "bgcolor": "white",
           "lakecolor": "white",
           "landcolor": "#E5ECF6",
           "showlakes": true,
           "showland": true,
           "subunitcolor": "white"
          },
          "hoverlabel": {
           "align": "left"
          },
          "hovermode": "closest",
          "mapbox": {
           "style": "light"
          },
          "paper_bgcolor": "white",
          "plot_bgcolor": "#E5ECF6",
          "polar": {
           "angularaxis": {
            "gridcolor": "white",
            "linecolor": "white",
            "ticks": ""
           },
           "bgcolor": "#E5ECF6",
           "radialaxis": {
            "gridcolor": "white",
            "linecolor": "white",
            "ticks": ""
           }
          },
          "scene": {
           "xaxis": {
            "backgroundcolor": "#E5ECF6",
            "gridcolor": "white",
            "gridwidth": 2,
            "linecolor": "white",
            "showbackground": true,
            "ticks": "",
            "zerolinecolor": "white"
           },
           "yaxis": {
            "backgroundcolor": "#E5ECF6",
            "gridcolor": "white",
            "gridwidth": 2,
            "linecolor": "white",
            "showbackground": true,
            "ticks": "",
            "zerolinecolor": "white"
           },
           "zaxis": {
            "backgroundcolor": "#E5ECF6",
            "gridcolor": "white",
            "gridwidth": 2,
            "linecolor": "white",
            "showbackground": true,
            "ticks": "",
            "zerolinecolor": "white"
           }
          },
          "shapedefaults": {
           "line": {
            "color": "#2a3f5f"
           }
          },
          "ternary": {
           "aaxis": {
            "gridcolor": "white",
            "linecolor": "white",
            "ticks": ""
           },
           "baxis": {
            "gridcolor": "white",
            "linecolor": "white",
            "ticks": ""
           },
           "bgcolor": "#E5ECF6",
           "caxis": {
            "gridcolor": "white",
            "linecolor": "white",
            "ticks": ""
           }
          },
          "title": {
           "x": 0.05
          },
          "xaxis": {
           "automargin": true,
           "gridcolor": "white",
           "linecolor": "white",
           "ticks": "",
           "title": {
            "standoff": 15
           },
           "zerolinecolor": "white",
           "zerolinewidth": 2
          },
          "yaxis": {
           "automargin": true,
           "gridcolor": "white",
           "linecolor": "white",
           "ticks": "",
           "title": {
            "standoff": 15
           },
           "zerolinecolor": "white",
           "zerolinewidth": 2
          }
         }
        },
        "title": {
         "font": {
          "color": "dimgrey",
          "size": 30
         },
         "text": "Effect of HPV Weight on model Velocity Kgs"
        },
        "xaxis": {
         "anchor": "y",
         "domain": [
          0,
          1
         ],
         "gridcolor": "#e6e6e6",
         "gridwidth": 1,
         "showgrid": true,
         "title": {
          "text": "HPV Weight  <i>[Kg]</i>"
         }
        },
        "yaxis": {
         "anchor": "x",
         "domain": [
          0,
          1
         ],
         "gridcolor": "#e6e6e6",
         "gridwidth": 1,
         "range": [
          41.86960610228119,
          409.39170411119386
         ],
         "showgrid": true,
         "title": {
          "text": "Water Ration Kms"
         }
        }
       }
      }
     },
     "metadata": {},
     "output_type": "display_data"
    },
    {
     "data": {
      "application/vnd.plotly.v1+json": {
       "config": {
        "plotlyServerURL": "https://plotly.com"
       },
       "data": [
        {
         "customdata": [
          [
           96.92038449602128,
           1.5526790707757643,
           1.3764879647771093,
           1.7288701767744197
          ],
          [
           96.92038449602128,
           1.5526790707757643,
           1.3764879647771093,
           1.7288701767744197
          ],
          [
           96.92038449602128,
           1.5526790707757643,
           1.3764879647771093,
           1.7288701767744197
          ],
          [
           96.92038449602128,
           1.5526790707757643,
           1.3764879647771093,
           1.7288701767744197
          ],
          [
           96.92038449602128,
           1.5526790707757643,
           1.3764879647771093,
           1.7288701767744197
          ],
          [
           96.92038449602128,
           1.5526790707757643,
           1.3764879647771093,
           1.7288701767744197
          ],
          [
           96.92038449602128,
           1.5526790707757643,
           1.3764879647771093,
           1.7288701767744197
          ],
          [
           96.92038449602128,
           1.5526790707757643,
           1.3764879647771093,
           1.7288701767744197
          ],
          [
           96.92038449602128,
           1.5526790707757643,
           1.3764879647771093,
           1.7288701767744197
          ],
          [
           96.92038449602128,
           1.5526790707757643,
           1.3764879647771093,
           1.7288701767744197
          ],
          [
           96.92038449602128,
           1.5526790707757643,
           1.3764879647771093,
           1.7288701767744197
          ],
          [
           96.92038449602128,
           1.5526790707757643,
           1.3764879647771093,
           1.7288701767744197
          ],
          [
           96.92038449602128,
           1.5526790707757643,
           1.3764879647771093,
           1.7288701767744197
          ],
          [
           96.92038449602128,
           1.5526790707757643,
           1.3764879647771093,
           1.7288701767744197
          ],
          [
           96.92038449602128,
           1.5526790707757643,
           1.3764879647771093,
           1.7288701767744197
          ],
          [
           96.92038449602128,
           1.5526790707757643,
           1.3764879647771093,
           1.7288701767744197
          ],
          [
           96.92038449602128,
           1.5526790707757643,
           1.3764879647771093,
           1.7288701767744197
          ],
          [
           96.92038449602128,
           1.5526790707757643,
           1.3764879647771093,
           1.7288701767744197
          ],
          [
           96.92038449602128,
           1.5526790707757643,
           1.3764879647771093,
           1.7288701767744197
          ],
          [
           96.92038449602128,
           1.5526790707757643,
           1.3764879647771093,
           1.7288701767744197
          ],
          [
           96.92038449602128,
           1.5526790707757643,
           1.3764879647771093,
           1.7288701767744197
          ],
          [
           96.92038449602128,
           1.5526790707757643,
           1.3764879647771093,
           1.7288701767744197
          ],
          [
           96.92038449602128,
           1.5526790707757643,
           1.3764879647771093,
           1.7288701767744197
          ],
          [
           96.92038449602128,
           1.5526790707757643,
           1.3764879647771093,
           1.7288701767744197
          ],
          [
           96.92038449602128,
           1.5526790707757643,
           1.3764879647771093,
           1.7288701767744197
          ],
          [
           96.92038449602128,
           1.5526790707757643,
           1.3764879647771093,
           1.7288701767744197
          ],
          [
           96.92038449602128,
           1.5526790707757643,
           1.3764879647771093,
           1.7288701767744197
          ],
          [
           96.92038449602128,
           1.5526790707757643,
           1.3764879647771093,
           1.7288701767744197
          ],
          [
           96.92038449602128,
           1.5526790707757643,
           1.3764879647771093,
           1.7288701767744197
          ],
          [
           96.92038449602128,
           1.5526790707757643,
           1.3764879647771093,
           1.7288701767744197
          ]
         ],
         "hovertemplate": "DataType=Sensitivity<br>Variable=%{x}<br>Water Ration Kms=%{y}<br>MarkerSize=%{marker.size}<br>Velocity Kgs=%{customdata[0]}<br>Mean Trip Velocity=%{customdata[1]}<br>Mean Loaded Velocity=%{customdata[2]}<br>Mean Unloaded Velocity=%{customdata[3]}<extra></extra>",
         "legendgroup": "Sensitivity",
         "marker": {
          "color": "#3D87CB",
          "size": [
           10,
           10,
           10,
           10,
           10,
           10,
           10,
           10,
           10,
           10,
           10,
           10,
           10,
           10,
           10,
           10,
           10,
           10,
           10,
           10,
           10,
           10,
           10,
           10,
           10,
           10,
           10,
           10,
           10,
           10
          ],
          "sizemode": "area",
          "sizeref": 0.125,
          "symbol": "circle"
         },
         "mode": "markers",
         "name": "Sensitivity",
         "orientation": "v",
         "showlegend": true,
         "type": "scatter",
         "x": [
          7.5,
          8.53448275862069,
          9.568965517241379,
          10.60344827586207,
          11.637931034482758,
          12.672413793103448,
          13.706896551724139,
          14.74137931034483,
          15.775862068965518,
          16.810344827586206,
          17.844827586206897,
          18.879310344827587,
          19.913793103448278,
          20.948275862068968,
          21.98275862068966,
          23.017241379310345,
          24.051724137931036,
          25.086206896551726,
          26.120689655172416,
          27.155172413793103,
          28.189655172413794,
          29.224137931034484,
          30.258620689655174,
          31.293103448275865,
          32.327586206896555,
          33.36206896551724,
          34.396551724137936,
          35.43103448275862,
          36.46551724137932,
          37.5
         ],
         "xaxis": "x",
         "y": [
          372.1742764647217,
          327.06224295384635,
          291.70416263451165,
          263.2452199384617,
          239.8456448328207,
          220.26640851993733,
          203.6425286316402,
          189.35182486801634,
          176.93531176191686,
          166.0469848842605,
          156.42107271705697,
          147.85005503393052,
          140.1695326945056,
          133.24758046267814,
          126.97710608796389,
          121.27026985929133,
          116.05434427394549,
          111.26859811831888,
          106.86192096511812,
          102.79099064263744,
          99.01884419703606,
          95.51375236705248,
          92.24832493570025,
          89.19879353286719,
          86.34443213981542,
          83.66708540679791,
          81.1507820862927,
          78.781416185963,
          76.54648239345339,
          74.43485529294435
         ],
         "yaxis": "y"
        },
        {
         "customdata": [
          [
           96.92038449602128,
           1.5526790707757643,
           1.3764879647771093,
           1.7288701767744197
          ]
         ],
         "hovertemplate": "DataType=Default<br>Variable=%{x}<br>Water Ration Kms=%{y}<br>MarkerSize=%{marker.size}<br>Velocity Kgs=%{customdata[0]}<br>Mean Trip Velocity=%{customdata[1]}<br>Mean Loaded Velocity=%{customdata[2]}<br>Mean Unloaded Velocity=%{customdata[3]}<extra></extra>",
         "legendgroup": "Default",
         "marker": {
          "color": "#F0B323",
          "size": [
           50
          ],
          "sizemode": "area",
          "sizeref": 0.125,
          "symbol": "circle"
         },
         "mode": "markers",
         "name": "Default",
         "orientation": "v",
         "showlegend": true,
         "type": "scatter",
         "x": [
          15
         ],
         "xaxis": "x",
         "y": [
          186.08713823236084
         ],
         "yaxis": "y"
        },
        {
         "customdata": [
          [
           96.92038449602128,
           1.5526790707757643,
           1.3764879647771093,
           1.7288701767744197
          ]
         ],
         "hovertemplate": "DataType=Minimum Expected<br>Variable=%{x}<br>Water Ration Kms=%{y}<br>MarkerSize=%{marker.size}<br>Velocity Kgs=%{customdata[0]}<br>Mean Trip Velocity=%{customdata[1]}<br>Mean Loaded Velocity=%{customdata[2]}<br>Mean Unloaded Velocity=%{customdata[3]}<extra></extra>",
         "legendgroup": "Minimum Expected",
         "marker": {
          "color": "#DC582A",
          "size": [
           20
          ],
          "sizemode": "area",
          "sizeref": 0.125,
          "symbol": "circle"
         },
         "mode": "markers",
         "name": "Minimum Expected",
         "orientation": "v",
         "showlegend": true,
         "type": "scatter",
         "x": [
          10
         ],
         "xaxis": "x",
         "y": [
          279.1307073485413
         ],
         "yaxis": "y"
        },
        {
         "customdata": [
          [
           96.92038449602128,
           1.5526790707757643,
           1.3764879647771093,
           1.7288701767744197
          ]
         ],
         "hovertemplate": "DataType=Maximum Expected<br>Variable=%{x}<br>Water Ration Kms=%{y}<br>MarkerSize=%{marker.size}<br>Velocity Kgs=%{customdata[0]}<br>Mean Trip Velocity=%{customdata[1]}<br>Mean Loaded Velocity=%{customdata[2]}<br>Mean Unloaded Velocity=%{customdata[3]}<extra></extra>",
         "legendgroup": "Maximum Expected",
         "marker": {
          "color": "#674230",
          "size": [
           20
          ],
          "sizemode": "area",
          "sizeref": 0.125,
          "symbol": "circle"
         },
         "mode": "markers",
         "name": "Maximum Expected",
         "orientation": "v",
         "showlegend": true,
         "type": "scatter",
         "x": [
          30
         ],
         "xaxis": "x",
         "y": [
          93.04356911618042
         ],
         "yaxis": "y"
        }
       ],
       "layout": {
        "font": {
         "color": "dimgrey",
         "family": "Droid Sans Mono",
         "size": 16
        },
        "legend": {
         "itemsizing": "constant",
         "title": {
          "text": "Legend"
         },
         "tracegroupgap": 0
        },
        "paper_bgcolor": "white",
        "plot_bgcolor": "white",
        "template": {
         "data": {
          "bar": [
           {
            "error_x": {
             "color": "#2a3f5f"
            },
            "error_y": {
             "color": "#2a3f5f"
            },
            "marker": {
             "line": {
              "color": "#E5ECF6",
              "width": 0.5
             },
             "pattern": {
              "fillmode": "overlay",
              "size": 10,
              "solidity": 0.2
             }
            },
            "type": "bar"
           }
          ],
          "barpolar": [
           {
            "marker": {
             "line": {
              "color": "#E5ECF6",
              "width": 0.5
             },
             "pattern": {
              "fillmode": "overlay",
              "size": 10,
              "solidity": 0.2
             }
            },
            "type": "barpolar"
           }
          ],
          "carpet": [
           {
            "aaxis": {
             "endlinecolor": "#2a3f5f",
             "gridcolor": "white",
             "linecolor": "white",
             "minorgridcolor": "white",
             "startlinecolor": "#2a3f5f"
            },
            "baxis": {
             "endlinecolor": "#2a3f5f",
             "gridcolor": "white",
             "linecolor": "white",
             "minorgridcolor": "white",
             "startlinecolor": "#2a3f5f"
            },
            "type": "carpet"
           }
          ],
          "choropleth": [
           {
            "colorbar": {
             "outlinewidth": 0,
             "ticks": ""
            },
            "type": "choropleth"
           }
          ],
          "contour": [
           {
            "colorbar": {
             "outlinewidth": 0,
             "ticks": ""
            },
            "colorscale": [
             [
              0,
              "#0d0887"
             ],
             [
              0.1111111111111111,
              "#46039f"
             ],
             [
              0.2222222222222222,
              "#7201a8"
             ],
             [
              0.3333333333333333,
              "#9c179e"
             ],
             [
              0.4444444444444444,
              "#bd3786"
             ],
             [
              0.5555555555555556,
              "#d8576b"
             ],
             [
              0.6666666666666666,
              "#ed7953"
             ],
             [
              0.7777777777777778,
              "#fb9f3a"
             ],
             [
              0.8888888888888888,
              "#fdca26"
             ],
             [
              1,
              "#f0f921"
             ]
            ],
            "type": "contour"
           }
          ],
          "contourcarpet": [
           {
            "colorbar": {
             "outlinewidth": 0,
             "ticks": ""
            },
            "type": "contourcarpet"
           }
          ],
          "heatmap": [
           {
            "colorbar": {
             "outlinewidth": 0,
             "ticks": ""
            },
            "colorscale": [
             [
              0,
              "#0d0887"
             ],
             [
              0.1111111111111111,
              "#46039f"
             ],
             [
              0.2222222222222222,
              "#7201a8"
             ],
             [
              0.3333333333333333,
              "#9c179e"
             ],
             [
              0.4444444444444444,
              "#bd3786"
             ],
             [
              0.5555555555555556,
              "#d8576b"
             ],
             [
              0.6666666666666666,
              "#ed7953"
             ],
             [
              0.7777777777777778,
              "#fb9f3a"
             ],
             [
              0.8888888888888888,
              "#fdca26"
             ],
             [
              1,
              "#f0f921"
             ]
            ],
            "type": "heatmap"
           }
          ],
          "heatmapgl": [
           {
            "colorbar": {
             "outlinewidth": 0,
             "ticks": ""
            },
            "colorscale": [
             [
              0,
              "#0d0887"
             ],
             [
              0.1111111111111111,
              "#46039f"
             ],
             [
              0.2222222222222222,
              "#7201a8"
             ],
             [
              0.3333333333333333,
              "#9c179e"
             ],
             [
              0.4444444444444444,
              "#bd3786"
             ],
             [
              0.5555555555555556,
              "#d8576b"
             ],
             [
              0.6666666666666666,
              "#ed7953"
             ],
             [
              0.7777777777777778,
              "#fb9f3a"
             ],
             [
              0.8888888888888888,
              "#fdca26"
             ],
             [
              1,
              "#f0f921"
             ]
            ],
            "type": "heatmapgl"
           }
          ],
          "histogram": [
           {
            "marker": {
             "pattern": {
              "fillmode": "overlay",
              "size": 10,
              "solidity": 0.2
             }
            },
            "type": "histogram"
           }
          ],
          "histogram2d": [
           {
            "colorbar": {
             "outlinewidth": 0,
             "ticks": ""
            },
            "colorscale": [
             [
              0,
              "#0d0887"
             ],
             [
              0.1111111111111111,
              "#46039f"
             ],
             [
              0.2222222222222222,
              "#7201a8"
             ],
             [
              0.3333333333333333,
              "#9c179e"
             ],
             [
              0.4444444444444444,
              "#bd3786"
             ],
             [
              0.5555555555555556,
              "#d8576b"
             ],
             [
              0.6666666666666666,
              "#ed7953"
             ],
             [
              0.7777777777777778,
              "#fb9f3a"
             ],
             [
              0.8888888888888888,
              "#fdca26"
             ],
             [
              1,
              "#f0f921"
             ]
            ],
            "type": "histogram2d"
           }
          ],
          "histogram2dcontour": [
           {
            "colorbar": {
             "outlinewidth": 0,
             "ticks": ""
            },
            "colorscale": [
             [
              0,
              "#0d0887"
             ],
             [
              0.1111111111111111,
              "#46039f"
             ],
             [
              0.2222222222222222,
              "#7201a8"
             ],
             [
              0.3333333333333333,
              "#9c179e"
             ],
             [
              0.4444444444444444,
              "#bd3786"
             ],
             [
              0.5555555555555556,
              "#d8576b"
             ],
             [
              0.6666666666666666,
              "#ed7953"
             ],
             [
              0.7777777777777778,
              "#fb9f3a"
             ],
             [
              0.8888888888888888,
              "#fdca26"
             ],
             [
              1,
              "#f0f921"
             ]
            ],
            "type": "histogram2dcontour"
           }
          ],
          "mesh3d": [
           {
            "colorbar": {
             "outlinewidth": 0,
             "ticks": ""
            },
            "type": "mesh3d"
           }
          ],
          "parcoords": [
           {
            "line": {
             "colorbar": {
              "outlinewidth": 0,
              "ticks": ""
             }
            },
            "type": "parcoords"
           }
          ],
          "pie": [
           {
            "automargin": true,
            "type": "pie"
           }
          ],
          "scatter": [
           {
            "fillpattern": {
             "fillmode": "overlay",
             "size": 10,
             "solidity": 0.2
            },
            "type": "scatter"
           }
          ],
          "scatter3d": [
           {
            "line": {
             "colorbar": {
              "outlinewidth": 0,
              "ticks": ""
             }
            },
            "marker": {
             "colorbar": {
              "outlinewidth": 0,
              "ticks": ""
             }
            },
            "type": "scatter3d"
           }
          ],
          "scattercarpet": [
           {
            "marker": {
             "colorbar": {
              "outlinewidth": 0,
              "ticks": ""
             }
            },
            "type": "scattercarpet"
           }
          ],
          "scattergeo": [
           {
            "marker": {
             "colorbar": {
              "outlinewidth": 0,
              "ticks": ""
             }
            },
            "type": "scattergeo"
           }
          ],
          "scattergl": [
           {
            "marker": {
             "colorbar": {
              "outlinewidth": 0,
              "ticks": ""
             }
            },
            "type": "scattergl"
           }
          ],
          "scattermapbox": [
           {
            "marker": {
             "colorbar": {
              "outlinewidth": 0,
              "ticks": ""
             }
            },
            "type": "scattermapbox"
           }
          ],
          "scatterpolar": [
           {
            "marker": {
             "colorbar": {
              "outlinewidth": 0,
              "ticks": ""
             }
            },
            "type": "scatterpolar"
           }
          ],
          "scatterpolargl": [
           {
            "marker": {
             "colorbar": {
              "outlinewidth": 0,
              "ticks": ""
             }
            },
            "type": "scatterpolargl"
           }
          ],
          "scatterternary": [
           {
            "marker": {
             "colorbar": {
              "outlinewidth": 0,
              "ticks": ""
             }
            },
            "type": "scatterternary"
           }
          ],
          "surface": [
           {
            "colorbar": {
             "outlinewidth": 0,
             "ticks": ""
            },
            "colorscale": [
             [
              0,
              "#0d0887"
             ],
             [
              0.1111111111111111,
              "#46039f"
             ],
             [
              0.2222222222222222,
              "#7201a8"
             ],
             [
              0.3333333333333333,
              "#9c179e"
             ],
             [
              0.4444444444444444,
              "#bd3786"
             ],
             [
              0.5555555555555556,
              "#d8576b"
             ],
             [
              0.6666666666666666,
              "#ed7953"
             ],
             [
              0.7777777777777778,
              "#fb9f3a"
             ],
             [
              0.8888888888888888,
              "#fdca26"
             ],
             [
              1,
              "#f0f921"
             ]
            ],
            "type": "surface"
           }
          ],
          "table": [
           {
            "cells": {
             "fill": {
              "color": "#EBF0F8"
             },
             "line": {
              "color": "white"
             }
            },
            "header": {
             "fill": {
              "color": "#C8D4E3"
             },
             "line": {
              "color": "white"
             }
            },
            "type": "table"
           }
          ]
         },
         "layout": {
          "annotationdefaults": {
           "arrowcolor": "#2a3f5f",
           "arrowhead": 0,
           "arrowwidth": 1
          },
          "autotypenumbers": "strict",
          "coloraxis": {
           "colorbar": {
            "outlinewidth": 0,
            "ticks": ""
           }
          },
          "colorscale": {
           "diverging": [
            [
             0,
             "#8e0152"
            ],
            [
             0.1,
             "#c51b7d"
            ],
            [
             0.2,
             "#de77ae"
            ],
            [
             0.3,
             "#f1b6da"
            ],
            [
             0.4,
             "#fde0ef"
            ],
            [
             0.5,
             "#f7f7f7"
            ],
            [
             0.6,
             "#e6f5d0"
            ],
            [
             0.7,
             "#b8e186"
            ],
            [
             0.8,
             "#7fbc41"
            ],
            [
             0.9,
             "#4d9221"
            ],
            [
             1,
             "#276419"
            ]
           ],
           "sequential": [
            [
             0,
             "#0d0887"
            ],
            [
             0.1111111111111111,
             "#46039f"
            ],
            [
             0.2222222222222222,
             "#7201a8"
            ],
            [
             0.3333333333333333,
             "#9c179e"
            ],
            [
             0.4444444444444444,
             "#bd3786"
            ],
            [
             0.5555555555555556,
             "#d8576b"
            ],
            [
             0.6666666666666666,
             "#ed7953"
            ],
            [
             0.7777777777777778,
             "#fb9f3a"
            ],
            [
             0.8888888888888888,
             "#fdca26"
            ],
            [
             1,
             "#f0f921"
            ]
           ],
           "sequentialminus": [
            [
             0,
             "#0d0887"
            ],
            [
             0.1111111111111111,
             "#46039f"
            ],
            [
             0.2222222222222222,
             "#7201a8"
            ],
            [
             0.3333333333333333,
             "#9c179e"
            ],
            [
             0.4444444444444444,
             "#bd3786"
            ],
            [
             0.5555555555555556,
             "#d8576b"
            ],
            [
             0.6666666666666666,
             "#ed7953"
            ],
            [
             0.7777777777777778,
             "#fb9f3a"
            ],
            [
             0.8888888888888888,
             "#fdca26"
            ],
            [
             1,
             "#f0f921"
            ]
           ]
          },
          "colorway": [
           "#636efa",
           "#EF553B",
           "#00cc96",
           "#ab63fa",
           "#FFA15A",
           "#19d3f3",
           "#FF6692",
           "#B6E880",
           "#FF97FF",
           "#FECB52"
          ],
          "font": {
           "color": "#2a3f5f"
          },
          "geo": {
           "bgcolor": "white",
           "lakecolor": "white",
           "landcolor": "#E5ECF6",
           "showlakes": true,
           "showland": true,
           "subunitcolor": "white"
          },
          "hoverlabel": {
           "align": "left"
          },
          "hovermode": "closest",
          "mapbox": {
           "style": "light"
          },
          "paper_bgcolor": "white",
          "plot_bgcolor": "#E5ECF6",
          "polar": {
           "angularaxis": {
            "gridcolor": "white",
            "linecolor": "white",
            "ticks": ""
           },
           "bgcolor": "#E5ECF6",
           "radialaxis": {
            "gridcolor": "white",
            "linecolor": "white",
            "ticks": ""
           }
          },
          "scene": {
           "xaxis": {
            "backgroundcolor": "#E5ECF6",
            "gridcolor": "white",
            "gridwidth": 2,
            "linecolor": "white",
            "showbackground": true,
            "ticks": "",
            "zerolinecolor": "white"
           },
           "yaxis": {
            "backgroundcolor": "#E5ECF6",
            "gridcolor": "white",
            "gridwidth": 2,
            "linecolor": "white",
            "showbackground": true,
            "ticks": "",
            "zerolinecolor": "white"
           },
           "zaxis": {
            "backgroundcolor": "#E5ECF6",
            "gridcolor": "white",
            "gridwidth": 2,
            "linecolor": "white",
            "showbackground": true,
            "ticks": "",
            "zerolinecolor": "white"
           }
          },
          "shapedefaults": {
           "line": {
            "color": "#2a3f5f"
           }
          },
          "ternary": {
           "aaxis": {
            "gridcolor": "white",
            "linecolor": "white",
            "ticks": ""
           },
           "baxis": {
            "gridcolor": "white",
            "linecolor": "white",
            "ticks": ""
           },
           "bgcolor": "#E5ECF6",
           "caxis": {
            "gridcolor": "white",
            "linecolor": "white",
            "ticks": ""
           }
          },
          "title": {
           "x": 0.05
          },
          "xaxis": {
           "automargin": true,
           "gridcolor": "white",
           "linecolor": "white",
           "ticks": "",
           "title": {
            "standoff": 15
           },
           "zerolinecolor": "white",
           "zerolinewidth": 2
          },
          "yaxis": {
           "automargin": true,
           "gridcolor": "white",
           "linecolor": "white",
           "ticks": "",
           "title": {
            "standoff": 15
           },
           "zerolinecolor": "white",
           "zerolinewidth": 2
          }
         }
        },
        "title": {
         "font": {
          "color": "dimgrey",
          "size": 30
         },
         "text": "Effect of Water Ration on model Velocity Kgs"
        },
        "xaxis": {
         "anchor": "y",
         "domain": [
          0,
          1
         ],
         "gridcolor": "#e6e6e6",
         "gridwidth": 1,
         "showgrid": true,
         "title": {
          "text": "Water Ration  <i>[L/day]</i>"
         }
        },
        "yaxis": {
         "anchor": "x",
         "domain": [
          0,
          1
         ],
         "gridcolor": "#e6e6e6",
         "gridwidth": 1,
         "range": [
          41.86960610228119,
          409.39170411119386
         ],
         "showgrid": true,
         "title": {
          "text": "Water Ration Kms"
         }
        }
       }
      }
     },
     "metadata": {},
     "output_type": "display_data"
    },
    {
     "data": {
      "application/vnd.plotly.v1+json": {
       "config": {
        "plotlyServerURL": "https://plotly.com"
       },
       "data": [
        {
         "customdata": [
          [
           104.77618696738847,
           1.6896438353177377,
           1.4770010936271691,
           1.9022865770083062
          ],
          [
           102.87312025061722,
           1.6563734591700445,
           1.4528862705314918,
           1.8598606478085966
          ],
          [
           101.05730614128387,
           1.624680729285127,
           1.429736240340745,
           1.81962521822951
          ],
          [
           99.3223684136759,
           1.5944494230558464,
           1.4074900813637714,
           1.781408764747922
          ],
          [
           97.66256307186113,
           1.565574791297851,
           1.386092129749999,
           1.7450574528457026
          ],
          [
           96.0727003578363,
           1.5379621574931477,
           1.3654914071098208,
           1.7104329078764746
          ],
          [
           94.54807810605426,
           1.5115257183637874,
           1.345641122662012,
           1.6774103140655623
          ],
          [
           93.08442456967366,
           1.486187512877514,
           1.3264982386955082,
           1.6458767870595195
          ],
          [
           91.67784918515945,
           1.4618765327230756,
           1.3080230900273728,
           1.6157299754187786
          ],
          [
           90.32480001610159,
           1.438527952071157,
           1.2901790496829595,
           1.5868768544593541
          ],
          [
           89.02202683837122,
           1.4160824582986962,
           1.272932234287519,
           1.5592326823098732
          ],
          [
           87.76654900793702,
           1.3944856684876734,
           1.2562512436961555,
           1.5327200932791913
          ],
          [
           86.55562739835796,
           1.3736876190611373,
           1.2401069302441392,
           1.5072683078781357
          ],
          [
           85.38673981384416,
           1.353642318004848,
           1.2244721937071166,
           1.4828124423025795
          ],
          [
           84.25755938109901,
           1.334307350833179,
           1.2093217986479015,
           1.4592929030184565
          ],
          [
           83.16593550309044,
           1.3156435328651692,
           1.1946322113157108,
           1.4366548544146271
          ],
          [
           82.10987702375854,
           1.2976146015380121,
           1.1803814536724213,
           1.4148477494036027
          ],
          [
           81.0875373070929,
           1.2801869434469215,
           1.1665489724632703,
           1.393824914430573
          ],
          [
           80.09720097913221,
           1.2633293515988937,
           1.153115521537795,
           1.3735431816599923
          ],
          [
           79.13727211895142,
           1.2470128090332553,
           1.1400630558703766,
           1.353962562196134
          ],
          [
           78.20626371599178,
           1.2312102955179065,
           1.1273746359359875,
           1.3350459550998255
          ],
          [
           77.30278823726941,
           1.2158966144964085,
           1.1150343412721764,
           1.3167588877206409
          ],
          [
           76.42554916997501,
           1.201048237853254,
           1.1030271922078048,
           1.2990692834987037
          ],
          [
           75.5733334234864,
           1.186643166395655,
           1.0913390788671358,
           1.2819472539241739
          ],
          [
           74.74500449046393,
           1.1726608042306512,
           1.079956696667718,
           1.2653649117935848
          ],
          [
           73.9394962799464,
           1.159081845454285,
           1.0688674876251707,
           1.2492962032833996
          ],
          [
           73.155807546682,
           1.1458881717732217,
           1.0580595868598301,
           1.2337167566866132
          ],
          [
           72.39299685053706,
           1.1330627598525493,
           1.0475217737710356,
           1.218603745934063
          ],
          [
           71.65017798810086,
           1.1205895973329927,
           1.0372434274064906,
           1.2039357672594948
          ],
          [
           70.92651584569708,
           1.1084536065892057,
           1.0272144856078245,
           1.1896927275705869
          ]
         ],
         "hovertemplate": "DataType=Sensitivity<br>Variable=%{x}<br>Water Ration Kms=%{y}<br>MarkerSize=%{marker.size}<br>Velocity Kgs=%{customdata[0]}<br>Mean Trip Velocity=%{customdata[1]}<br>Mean Loaded Velocity=%{customdata[2]}<br>Mean Unloaded Velocity=%{customdata[3]}<extra></extra>",
         "legendgroup": "Sensitivity",
         "marker": {
          "color": "#3D87CB",
          "size": [
           10,
           10,
           10,
           10,
           10,
           10,
           10,
           10,
           10,
           10,
           10,
           10,
           10,
           10,
           10,
           10,
           10,
           10,
           10,
           10,
           10,
           10,
           10,
           10,
           10,
           10,
           10,
           10,
           10,
           10
          ],
          "sizemode": "area",
          "sizeref": 0.125,
          "symbol": "circle"
         },
         "mode": "markers",
         "name": "Sensitivity",
         "orientation": "v",
         "showlegend": true,
         "type": "scatter",
         "x": [
          51.8,
          54.08620689655172,
          56.37241379310345,
          58.658620689655166,
          60.94482758620689,
          63.231034482758616,
          65.51724137931035,
          67.80344827586207,
          70.08965517241379,
          72.37586206896552,
          74.66206896551724,
          76.94827586206895,
          79.23448275862069,
          81.5206896551724,
          83.80689655172412,
          86.09310344827585,
          88.37931034482759,
          90.6655172413793,
          92.95172413793102,
          95.23793103448276,
          97.52413793103447,
          99.81034482758619,
          102.09655172413792,
          104.38275862068966,
          106.66896551724138,
          108.9551724137931,
          111.24137931034483,
          113.52758620689654,
          115.81379310344826,
          118.1
         ],
         "xaxis": "x",
         "y": [
          201.17027897738583,
          197.51639088118506,
          194.030027791265,
          190.6989473542577,
          187.51212109797336,
          184.4595846870457,
          181.53230996362416,
          178.72209517377343,
          176.0214704355061,
          173.42361603091507,
          170.92229152967275,
          168.51177409523905,
          166.18680460484728,
          163.9425404425808,
          161.7745140117101,
          159.67859616593364,
          157.6509638856164,
          155.68807162961838,
          153.78662587993387,
          151.94356246838672,
          150.15602633470422,
          148.42135341555726,
          146.73705440635203,
          145.1008001730939,
          143.51040862169074,
          141.96383285749707,
          140.45915048962945,
          138.99455395303113,
          137.56834173715367,
          136.17891042373842
         ],
         "yaxis": "y"
        },
        {
         "customdata": [
          [
           96.92038449602128,
           1.5526790707757643,
           1.3764879647771093,
           1.7288701767744197
          ]
         ],
         "hovertemplate": "DataType=Default<br>Variable=%{x}<br>Water Ration Kms=%{y}<br>MarkerSize=%{marker.size}<br>Velocity Kgs=%{customdata[0]}<br>Mean Trip Velocity=%{customdata[1]}<br>Mean Loaded Velocity=%{customdata[2]}<br>Mean Unloaded Velocity=%{customdata[3]}<extra></extra>",
         "legendgroup": "Default",
         "marker": {
          "color": "#F0B323",
          "size": [
           50
          ],
          "sizemode": "area",
          "sizeref": 0.125,
          "symbol": "circle"
         },
         "mode": "markers",
         "name": "Default",
         "orientation": "v",
         "showlegend": true,
         "type": "scatter",
         "x": [
          62
         ],
         "xaxis": "x",
         "y": [
          186.08713823236084
         ],
         "yaxis": "y"
        },
        {
         "customdata": [
          [
           101.97800411976938,
           1.6407438189971097,
           1.441491433899088,
           1.8399962040951314
          ]
         ],
         "hovertemplate": "DataType=Minimum Expected<br>Variable=%{x}<br>Water Ration Kms=%{y}<br>MarkerSize=%{marker.size}<br>Velocity Kgs=%{customdata[0]}<br>Mean Trip Velocity=%{customdata[1]}<br>Mean Loaded Velocity=%{customdata[2]}<br>Mean Unloaded Velocity=%{customdata[3]}<extra></extra>",
         "legendgroup": "Minimum Expected",
         "marker": {
          "color": "#DC582A",
          "size": [
           20
          ],
          "sizemode": "area",
          "sizeref": 0.125,
          "symbol": "circle"
         },
         "mode": "markers",
         "name": "Minimum Expected",
         "orientation": "v",
         "showlegend": true,
         "type": "scatter",
         "x": [
          55.2
         ],
         "xaxis": "x",
         "y": [
          195.7977679099572
         ],
         "yaxis": "y"
        },
        {
         "customdata": [
          [
           77.46298217000239,
           1.2186103006154525,
           1.1172243127004147,
           1.3199962885304901
          ]
         ],
         "hovertemplate": "DataType=Maximum Expected<br>Variable=%{x}<br>Water Ration Kms=%{y}<br>MarkerSize=%{marker.size}<br>Velocity Kgs=%{customdata[0]}<br>Mean Trip Velocity=%{customdata[1]}<br>Mean Loaded Velocity=%{customdata[2]}<br>Mean Unloaded Velocity=%{customdata[3]}<extra></extra>",
         "legendgroup": "Maximum Expected",
         "marker": {
          "color": "#674230",
          "size": [
           20
          ],
          "sizemode": "area",
          "sizeref": 0.125,
          "symbol": "circle"
         },
         "mode": "markers",
         "name": "Maximum Expected",
         "orientation": "v",
         "showlegend": true,
         "type": "scatter",
         "x": [
          99.4
         ],
         "xaxis": "x",
         "y": [
          148.72892576640461
         ],
         "yaxis": "y"
        }
       ],
       "layout": {
        "font": {
         "color": "dimgrey",
         "family": "Droid Sans Mono",
         "size": 16
        },
        "legend": {
         "itemsizing": "constant",
         "title": {
          "text": "Legend"
         },
         "tracegroupgap": 0
        },
        "paper_bgcolor": "white",
        "plot_bgcolor": "white",
        "template": {
         "data": {
          "bar": [
           {
            "error_x": {
             "color": "#2a3f5f"
            },
            "error_y": {
             "color": "#2a3f5f"
            },
            "marker": {
             "line": {
              "color": "#E5ECF6",
              "width": 0.5
             },
             "pattern": {
              "fillmode": "overlay",
              "size": 10,
              "solidity": 0.2
             }
            },
            "type": "bar"
           }
          ],
          "barpolar": [
           {
            "marker": {
             "line": {
              "color": "#E5ECF6",
              "width": 0.5
             },
             "pattern": {
              "fillmode": "overlay",
              "size": 10,
              "solidity": 0.2
             }
            },
            "type": "barpolar"
           }
          ],
          "carpet": [
           {
            "aaxis": {
             "endlinecolor": "#2a3f5f",
             "gridcolor": "white",
             "linecolor": "white",
             "minorgridcolor": "white",
             "startlinecolor": "#2a3f5f"
            },
            "baxis": {
             "endlinecolor": "#2a3f5f",
             "gridcolor": "white",
             "linecolor": "white",
             "minorgridcolor": "white",
             "startlinecolor": "#2a3f5f"
            },
            "type": "carpet"
           }
          ],
          "choropleth": [
           {
            "colorbar": {
             "outlinewidth": 0,
             "ticks": ""
            },
            "type": "choropleth"
           }
          ],
          "contour": [
           {
            "colorbar": {
             "outlinewidth": 0,
             "ticks": ""
            },
            "colorscale": [
             [
              0,
              "#0d0887"
             ],
             [
              0.1111111111111111,
              "#46039f"
             ],
             [
              0.2222222222222222,
              "#7201a8"
             ],
             [
              0.3333333333333333,
              "#9c179e"
             ],
             [
              0.4444444444444444,
              "#bd3786"
             ],
             [
              0.5555555555555556,
              "#d8576b"
             ],
             [
              0.6666666666666666,
              "#ed7953"
             ],
             [
              0.7777777777777778,
              "#fb9f3a"
             ],
             [
              0.8888888888888888,
              "#fdca26"
             ],
             [
              1,
              "#f0f921"
             ]
            ],
            "type": "contour"
           }
          ],
          "contourcarpet": [
           {
            "colorbar": {
             "outlinewidth": 0,
             "ticks": ""
            },
            "type": "contourcarpet"
           }
          ],
          "heatmap": [
           {
            "colorbar": {
             "outlinewidth": 0,
             "ticks": ""
            },
            "colorscale": [
             [
              0,
              "#0d0887"
             ],
             [
              0.1111111111111111,
              "#46039f"
             ],
             [
              0.2222222222222222,
              "#7201a8"
             ],
             [
              0.3333333333333333,
              "#9c179e"
             ],
             [
              0.4444444444444444,
              "#bd3786"
             ],
             [
              0.5555555555555556,
              "#d8576b"
             ],
             [
              0.6666666666666666,
              "#ed7953"
             ],
             [
              0.7777777777777778,
              "#fb9f3a"
             ],
             [
              0.8888888888888888,
              "#fdca26"
             ],
             [
              1,
              "#f0f921"
             ]
            ],
            "type": "heatmap"
           }
          ],
          "heatmapgl": [
           {
            "colorbar": {
             "outlinewidth": 0,
             "ticks": ""
            },
            "colorscale": [
             [
              0,
              "#0d0887"
             ],
             [
              0.1111111111111111,
              "#46039f"
             ],
             [
              0.2222222222222222,
              "#7201a8"
             ],
             [
              0.3333333333333333,
              "#9c179e"
             ],
             [
              0.4444444444444444,
              "#bd3786"
             ],
             [
              0.5555555555555556,
              "#d8576b"
             ],
             [
              0.6666666666666666,
              "#ed7953"
             ],
             [
              0.7777777777777778,
              "#fb9f3a"
             ],
             [
              0.8888888888888888,
              "#fdca26"
             ],
             [
              1,
              "#f0f921"
             ]
            ],
            "type": "heatmapgl"
           }
          ],
          "histogram": [
           {
            "marker": {
             "pattern": {
              "fillmode": "overlay",
              "size": 10,
              "solidity": 0.2
             }
            },
            "type": "histogram"
           }
          ],
          "histogram2d": [
           {
            "colorbar": {
             "outlinewidth": 0,
             "ticks": ""
            },
            "colorscale": [
             [
              0,
              "#0d0887"
             ],
             [
              0.1111111111111111,
              "#46039f"
             ],
             [
              0.2222222222222222,
              "#7201a8"
             ],
             [
              0.3333333333333333,
              "#9c179e"
             ],
             [
              0.4444444444444444,
              "#bd3786"
             ],
             [
              0.5555555555555556,
              "#d8576b"
             ],
             [
              0.6666666666666666,
              "#ed7953"
             ],
             [
              0.7777777777777778,
              "#fb9f3a"
             ],
             [
              0.8888888888888888,
              "#fdca26"
             ],
             [
              1,
              "#f0f921"
             ]
            ],
            "type": "histogram2d"
           }
          ],
          "histogram2dcontour": [
           {
            "colorbar": {
             "outlinewidth": 0,
             "ticks": ""
            },
            "colorscale": [
             [
              0,
              "#0d0887"
             ],
             [
              0.1111111111111111,
              "#46039f"
             ],
             [
              0.2222222222222222,
              "#7201a8"
             ],
             [
              0.3333333333333333,
              "#9c179e"
             ],
             [
              0.4444444444444444,
              "#bd3786"
             ],
             [
              0.5555555555555556,
              "#d8576b"
             ],
             [
              0.6666666666666666,
              "#ed7953"
             ],
             [
              0.7777777777777778,
              "#fb9f3a"
             ],
             [
              0.8888888888888888,
              "#fdca26"
             ],
             [
              1,
              "#f0f921"
             ]
            ],
            "type": "histogram2dcontour"
           }
          ],
          "mesh3d": [
           {
            "colorbar": {
             "outlinewidth": 0,
             "ticks": ""
            },
            "type": "mesh3d"
           }
          ],
          "parcoords": [
           {
            "line": {
             "colorbar": {
              "outlinewidth": 0,
              "ticks": ""
             }
            },
            "type": "parcoords"
           }
          ],
          "pie": [
           {
            "automargin": true,
            "type": "pie"
           }
          ],
          "scatter": [
           {
            "fillpattern": {
             "fillmode": "overlay",
             "size": 10,
             "solidity": 0.2
            },
            "type": "scatter"
           }
          ],
          "scatter3d": [
           {
            "line": {
             "colorbar": {
              "outlinewidth": 0,
              "ticks": ""
             }
            },
            "marker": {
             "colorbar": {
              "outlinewidth": 0,
              "ticks": ""
             }
            },
            "type": "scatter3d"
           }
          ],
          "scattercarpet": [
           {
            "marker": {
             "colorbar": {
              "outlinewidth": 0,
              "ticks": ""
             }
            },
            "type": "scattercarpet"
           }
          ],
          "scattergeo": [
           {
            "marker": {
             "colorbar": {
              "outlinewidth": 0,
              "ticks": ""
             }
            },
            "type": "scattergeo"
           }
          ],
          "scattergl": [
           {
            "marker": {
             "colorbar": {
              "outlinewidth": 0,
              "ticks": ""
             }
            },
            "type": "scattergl"
           }
          ],
          "scattermapbox": [
           {
            "marker": {
             "colorbar": {
              "outlinewidth": 0,
              "ticks": ""
             }
            },
            "type": "scattermapbox"
           }
          ],
          "scatterpolar": [
           {
            "marker": {
             "colorbar": {
              "outlinewidth": 0,
              "ticks": ""
             }
            },
            "type": "scatterpolar"
           }
          ],
          "scatterpolargl": [
           {
            "marker": {
             "colorbar": {
              "outlinewidth": 0,
              "ticks": ""
             }
            },
            "type": "scatterpolargl"
           }
          ],
          "scatterternary": [
           {
            "marker": {
             "colorbar": {
              "outlinewidth": 0,
              "ticks": ""
             }
            },
            "type": "scatterternary"
           }
          ],
          "surface": [
           {
            "colorbar": {
             "outlinewidth": 0,
             "ticks": ""
            },
            "colorscale": [
             [
              0,
              "#0d0887"
             ],
             [
              0.1111111111111111,
              "#46039f"
             ],
             [
              0.2222222222222222,
              "#7201a8"
             ],
             [
              0.3333333333333333,
              "#9c179e"
             ],
             [
              0.4444444444444444,
              "#bd3786"
             ],
             [
              0.5555555555555556,
              "#d8576b"
             ],
             [
              0.6666666666666666,
              "#ed7953"
             ],
             [
              0.7777777777777778,
              "#fb9f3a"
             ],
             [
              0.8888888888888888,
              "#fdca26"
             ],
             [
              1,
              "#f0f921"
             ]
            ],
            "type": "surface"
           }
          ],
          "table": [
           {
            "cells": {
             "fill": {
              "color": "#EBF0F8"
             },
             "line": {
              "color": "white"
             }
            },
            "header": {
             "fill": {
              "color": "#C8D4E3"
             },
             "line": {
              "color": "white"
             }
            },
            "type": "table"
           }
          ]
         },
         "layout": {
          "annotationdefaults": {
           "arrowcolor": "#2a3f5f",
           "arrowhead": 0,
           "arrowwidth": 1
          },
          "autotypenumbers": "strict",
          "coloraxis": {
           "colorbar": {
            "outlinewidth": 0,
            "ticks": ""
           }
          },
          "colorscale": {
           "diverging": [
            [
             0,
             "#8e0152"
            ],
            [
             0.1,
             "#c51b7d"
            ],
            [
             0.2,
             "#de77ae"
            ],
            [
             0.3,
             "#f1b6da"
            ],
            [
             0.4,
             "#fde0ef"
            ],
            [
             0.5,
             "#f7f7f7"
            ],
            [
             0.6,
             "#e6f5d0"
            ],
            [
             0.7,
             "#b8e186"
            ],
            [
             0.8,
             "#7fbc41"
            ],
            [
             0.9,
             "#4d9221"
            ],
            [
             1,
             "#276419"
            ]
           ],
           "sequential": [
            [
             0,
             "#0d0887"
            ],
            [
             0.1111111111111111,
             "#46039f"
            ],
            [
             0.2222222222222222,
             "#7201a8"
            ],
            [
             0.3333333333333333,
             "#9c179e"
            ],
            [
             0.4444444444444444,
             "#bd3786"
            ],
            [
             0.5555555555555556,
             "#d8576b"
            ],
            [
             0.6666666666666666,
             "#ed7953"
            ],
            [
             0.7777777777777778,
             "#fb9f3a"
            ],
            [
             0.8888888888888888,
             "#fdca26"
            ],
            [
             1,
             "#f0f921"
            ]
           ],
           "sequentialminus": [
            [
             0,
             "#0d0887"
            ],
            [
             0.1111111111111111,
             "#46039f"
            ],
            [
             0.2222222222222222,
             "#7201a8"
            ],
            [
             0.3333333333333333,
             "#9c179e"
            ],
            [
             0.4444444444444444,
             "#bd3786"
            ],
            [
             0.5555555555555556,
             "#d8576b"
            ],
            [
             0.6666666666666666,
             "#ed7953"
            ],
            [
             0.7777777777777778,
             "#fb9f3a"
            ],
            [
             0.8888888888888888,
             "#fdca26"
            ],
            [
             1,
             "#f0f921"
            ]
           ]
          },
          "colorway": [
           "#636efa",
           "#EF553B",
           "#00cc96",
           "#ab63fa",
           "#FFA15A",
           "#19d3f3",
           "#FF6692",
           "#B6E880",
           "#FF97FF",
           "#FECB52"
          ],
          "font": {
           "color": "#2a3f5f"
          },
          "geo": {
           "bgcolor": "white",
           "lakecolor": "white",
           "landcolor": "#E5ECF6",
           "showlakes": true,
           "showland": true,
           "subunitcolor": "white"
          },
          "hoverlabel": {
           "align": "left"
          },
          "hovermode": "closest",
          "mapbox": {
           "style": "light"
          },
          "paper_bgcolor": "white",
          "plot_bgcolor": "#E5ECF6",
          "polar": {
           "angularaxis": {
            "gridcolor": "white",
            "linecolor": "white",
            "ticks": ""
           },
           "bgcolor": "#E5ECF6",
           "radialaxis": {
            "gridcolor": "white",
            "linecolor": "white",
            "ticks": ""
           }
          },
          "scene": {
           "xaxis": {
            "backgroundcolor": "#E5ECF6",
            "gridcolor": "white",
            "gridwidth": 2,
            "linecolor": "white",
            "showbackground": true,
            "ticks": "",
            "zerolinecolor": "white"
           },
           "yaxis": {
            "backgroundcolor": "#E5ECF6",
            "gridcolor": "white",
            "gridwidth": 2,
            "linecolor": "white",
            "showbackground": true,
            "ticks": "",
            "zerolinecolor": "white"
           },
           "zaxis": {
            "backgroundcolor": "#E5ECF6",
            "gridcolor": "white",
            "gridwidth": 2,
            "linecolor": "white",
            "showbackground": true,
            "ticks": "",
            "zerolinecolor": "white"
           }
          },
          "shapedefaults": {
           "line": {
            "color": "#2a3f5f"
           }
          },
          "ternary": {
           "aaxis": {
            "gridcolor": "white",
            "linecolor": "white",
            "ticks": ""
           },
           "baxis": {
            "gridcolor": "white",
            "linecolor": "white",
            "ticks": ""
           },
           "bgcolor": "#E5ECF6",
           "caxis": {
            "gridcolor": "white",
            "linecolor": "white",
            "ticks": ""
           }
          },
          "title": {
           "x": 0.05
          },
          "xaxis": {
           "automargin": true,
           "gridcolor": "white",
           "linecolor": "white",
           "ticks": "",
           "title": {
            "standoff": 15
           },
           "zerolinecolor": "white",
           "zerolinewidth": 2
          },
          "yaxis": {
           "automargin": true,
           "gridcolor": "white",
           "linecolor": "white",
           "ticks": "",
           "title": {
            "standoff": 15
           },
           "zerolinecolor": "white",
           "zerolinewidth": 2
          }
         }
        },
        "title": {
         "font": {
          "color": "dimgrey",
          "size": 30
         },
         "text": "Effect of Human Weight on model Velocity Kgs"
        },
        "xaxis": {
         "anchor": "y",
         "domain": [
          0,
          1
         ],
         "gridcolor": "#e6e6e6",
         "gridwidth": 1,
         "showgrid": true,
         "title": {
          "text": "Human Weight  <i>[Kg]</i>"
         }
        },
        "yaxis": {
         "anchor": "x",
         "domain": [
          0,
          1
         ],
         "gridcolor": "#e6e6e6",
         "gridwidth": 1,
         "range": [
          41.86960610228119,
          409.39170411119386
         ],
         "showgrid": true,
         "title": {
          "text": "Water Ration Kms"
         }
        }
       }
      }
     },
     "metadata": {},
     "output_type": "display_data"
    },
    {
     "data": {
      "application/vnd.plotly.v1+json": {
       "config": {
        "plotlyServerURL": "https://plotly.com"
       },
       "data": [
        {
         "customdata": [
          [
           56.70621039463129,
           0.9092032434064102,
           0.8038241578161329,
           1.0145823289966875
          ],
          [
           59.72426021289121,
           0.9575487804697911,
           0.8466874243830955,
           1.0684101365564866
          ],
          [
           62.69630762944985,
           1.0051561066155006,
           0.8889194062852362,
           1.1213928069457648
          ],
          [
           65.6255773540833,
           1.0520740617083273,
           0.9305638275729582,
           1.173584295843696
          ],
          [
           68.5148656787102,
           1.0983453635880494,
           0.9716585047526115,
           1.2250322224234877
          ],
          [
           71.36661958638291,
           1.1440077103327841,
           1.012236498278706,
           1.2757789223868625
          ],
          [
           74.18299785609945,
           1.1890946287077802,
           1.0523269836238385,
           1.3258622737917214
          ],
          [
           76.96591897218242,
           1.2336361389077726,
           1.0919559209558767,
           1.3753163568596687
          ],
          [
           79.71709917889926,
           1.2776592834526332,
           1.1311465777065401,
           1.4241719891987261
          ],
          [
           82.43808305311752,
           1.3211885536920727,
           1.1699199419828081,
           1.472457165401337
          ],
          [
           85.13026831447479,
           1.3642462378227977,
           1.2082950537918482,
           1.520197421853747
          ],
          [
           87.79492614161475,
           1.4068527078395516,
           1.2462892735404332,
           1.5674161421386703
          ],
          [
           90.43321794528215,
           1.449026658346741,
           1.2839185020516883,
           1.6141348146417933
          ],
          [
           93.04620932085794,
           1.4907853069771666,
           1.3211973626620845,
           1.660373251292249
          ],
          [
           95.63488173617718,
           1.5321445638720261,
           1.3581393533302828,
           1.7061497744137704
          ],
          [
           98.20014238679529,
           1.5731191759963163,
           1.3947569747833732,
           1.7514813772092592
          ],
          [
           100.74283255782032,
           1.6137228508125518,
           1.4310618393284575,
           1.7963838622966462
          ],
          [
           103.2637347606827,
           1.6539683628925619,
           1.467064763920893,
           1.8408719618642306
          ],
          [
           105.76357885877356,
           1.6938676463258977,
           1.5027758503034472,
           1.8849594423483491
          ],
          [
           108.24304735363283,
           1.7334318752268578,
           1.5382045544419518,
           1.928659196011764
          ],
          [
           110.70277997034488,
           1.7726715342079202,
           1.5733597470330685,
           1.9719833213827715
          ],
          [
           113.14337765474542,
           1.8115964803457685,
           1.6082497665123456,
           2.0149431941791915
          ],
          [
           115.56540607439162,
           1.8502159978950876,
           1.6428824657204713,
           2.057549530069703
          ],
          [
           117.96939869877083,
           1.888538846788744,
           1.6772652531734105,
           2.0998124404040777
          ],
          [
           120.35585952099794,
           1.9265733057886743,
           1.7114051297143127,
           2.1417414818630354
          ],
          [
           122.72526547260557,
           1.964327211010867,
           1.7453087211912988,
           2.1833457008304347
          ],
          [
           125.07806857437564,
           2.001807990432571,
           1.7789823076979288,
           2.2246336731672134
          ],
          [
           127.4146978591564,
           2.03902269489605,
           1.8124318498263412,
           2.2656135399657584
          ],
          [
           129.73556109684813,
           2.075978026045388,
           1.845663012312519,
           2.3062930397782577
          ],
          [
           132.0410463470417,
           2.112680361568877,
           1.8786811853954042,
           2.3466795377423506
          ]
         ],
         "hovertemplate": "DataType=Sensitivity<br>Variable=%{x}<br>Water Ration Kms=%{y}<br>MarkerSize=%{marker.size}<br>Velocity Kgs=%{customdata[0]}<br>Mean Trip Velocity=%{customdata[1]}<br>Mean Loaded Velocity=%{customdata[2]}<br>Mean Unloaded Velocity=%{customdata[3]}<extra></extra>",
         "legendgroup": "Sensitivity",
         "marker": {
          "color": "#3D87CB",
          "size": [
           10,
           10,
           10,
           10,
           10,
           10,
           10,
           10,
           10,
           10,
           10,
           10,
           10,
           10,
           10,
           10,
           10,
           10,
           10,
           10,
           10,
           10,
           10,
           10,
           10,
           10,
           10,
           10,
           10,
           10
          ],
          "sizemode": "area",
          "sizeref": 0.125,
          "symbol": "circle"
         },
         "mode": "markers",
         "name": "Sensitivity",
         "orientation": "v",
         "showlegend": true,
         "type": "scatter",
         "x": [
          37.5,
          40.08620689655172,
          42.672413793103445,
          45.258620689655174,
          47.8448275862069,
          50.43103448275862,
          53.01724137931035,
          55.60344827586207,
          58.189655172413794,
          60.775862068965516,
          63.36206896551724,
          65.94827586206897,
          68.5344827586207,
          71.12068965517241,
          73.70689655172414,
          76.29310344827587,
          78.87931034482759,
          81.4655172413793,
          84.05172413793103,
          86.63793103448276,
          89.22413793103448,
          91.8103448275862,
          94.39655172413794,
          96.98275862068965,
          99.56896551724138,
          102.15517241379311,
          104.74137931034483,
          107.32758620689656,
          109.91379310344828,
          112.5
         ],
         "xaxis": "x",
         "y": [
          108.87592395769208,
          114.67057960875113,
          120.3769106485437,
          126.00110851983993,
          131.54854210312357,
          137.02390960585518,
          142.43135588371095,
          147.77456442659025,
          153.0568304234866,
          158.28111946198567,
          163.4501151637916,
          168.56625819190032,
          173.63177845494172,
          178.64872189604725,
          183.6189729334602,
          188.54427338264696,
          193.42623851101501,
          198.26637074051078,
          203.06607140884523,
          207.82665091897505,
          212.54933754306217,
          217.23528509711122,
          221.8855796628319,
          226.50124550164,
          231.083250280316,
          235.6325097074027,
          240.1498916628012,
          244.6362198895803,
          249.0922773059484,
          253.51880898632007
         ],
         "yaxis": "y"
        },
        {
         "customdata": [
          [
           96.92038449602128,
           1.5526790707757643,
           1.3764879647771093,
           1.7288701767744197
          ]
         ],
         "hovertemplate": "DataType=Default<br>Variable=%{x}<br>Water Ration Kms=%{y}<br>MarkerSize=%{marker.size}<br>Velocity Kgs=%{customdata[0]}<br>Mean Trip Velocity=%{customdata[1]}<br>Mean Loaded Velocity=%{customdata[2]}<br>Mean Unloaded Velocity=%{customdata[3]}<extra></extra>",
         "legendgroup": "Default",
         "marker": {
          "color": "#F0B323",
          "size": [
           50
          ],
          "sizemode": "area",
          "sizeref": 0.125,
          "symbol": "circle"
         },
         "mode": "markers",
         "name": "Default",
         "orientation": "v",
         "showlegend": true,
         "type": "scatter",
         "x": [
          75
         ],
         "xaxis": "x",
         "y": [
          186.08713823236084
         ],
         "yaxis": "y"
        },
        {
         "customdata": [
          [
           70.89383900718006,
           1.1364381383619824,
           1.0055080990440413,
           1.2673681776799237
          ]
         ],
         "hovertemplate": "DataType=Minimum Expected<br>Variable=%{x}<br>Water Ration Kms=%{y}<br>MarkerSize=%{marker.size}<br>Velocity Kgs=%{customdata[0]}<br>Mean Trip Velocity=%{customdata[1]}<br>Mean Loaded Velocity=%{customdata[2]}<br>Mean Unloaded Velocity=%{customdata[3]}<extra></extra>",
         "legendgroup": "Minimum Expected",
         "marker": {
          "color": "#DC582A",
          "size": [
           20
          ],
          "sizemode": "area",
          "sizeref": 0.125,
          "symbol": "circle"
         },
         "mode": "markers",
         "name": "Minimum Expected",
         "orientation": "v",
         "showlegend": true,
         "type": "scatter",
         "x": [
          50
         ],
         "xaxis": "x",
         "y": [
          136.11617089378572
         ],
         "yaxis": "y"
        },
        {
         "customdata": [
          [
           120.75193237410892,
           1.9328849007484592,
           1.717071963245732,
           2.1486978382511865
          ]
         ],
         "hovertemplate": "DataType=Maximum Expected<br>Variable=%{x}<br>Water Ration Kms=%{y}<br>MarkerSize=%{marker.size}<br>Velocity Kgs=%{customdata[0]}<br>Mean Trip Velocity=%{customdata[1]}<br>Mean Loaded Velocity=%{customdata[2]}<br>Mean Unloaded Velocity=%{customdata[3]}<extra></extra>",
         "legendgroup": "Maximum Expected",
         "marker": {
          "color": "#674230",
          "size": [
           20
          ],
          "sizemode": "area",
          "sizeref": 0.125,
          "symbol": "circle"
         },
         "mode": "markers",
         "name": "Maximum Expected",
         "orientation": "v",
         "showlegend": true,
         "type": "scatter",
         "x": [
          100
         ],
         "xaxis": "x",
         "y": [
          231.84371015828913
         ],
         "yaxis": "y"
        }
       ],
       "layout": {
        "font": {
         "color": "dimgrey",
         "family": "Droid Sans Mono",
         "size": 16
        },
        "legend": {
         "itemsizing": "constant",
         "title": {
          "text": "Legend"
         },
         "tracegroupgap": 0
        },
        "paper_bgcolor": "white",
        "plot_bgcolor": "white",
        "template": {
         "data": {
          "bar": [
           {
            "error_x": {
             "color": "#2a3f5f"
            },
            "error_y": {
             "color": "#2a3f5f"
            },
            "marker": {
             "line": {
              "color": "#E5ECF6",
              "width": 0.5
             },
             "pattern": {
              "fillmode": "overlay",
              "size": 10,
              "solidity": 0.2
             }
            },
            "type": "bar"
           }
          ],
          "barpolar": [
           {
            "marker": {
             "line": {
              "color": "#E5ECF6",
              "width": 0.5
             },
             "pattern": {
              "fillmode": "overlay",
              "size": 10,
              "solidity": 0.2
             }
            },
            "type": "barpolar"
           }
          ],
          "carpet": [
           {
            "aaxis": {
             "endlinecolor": "#2a3f5f",
             "gridcolor": "white",
             "linecolor": "white",
             "minorgridcolor": "white",
             "startlinecolor": "#2a3f5f"
            },
            "baxis": {
             "endlinecolor": "#2a3f5f",
             "gridcolor": "white",
             "linecolor": "white",
             "minorgridcolor": "white",
             "startlinecolor": "#2a3f5f"
            },
            "type": "carpet"
           }
          ],
          "choropleth": [
           {
            "colorbar": {
             "outlinewidth": 0,
             "ticks": ""
            },
            "type": "choropleth"
           }
          ],
          "contour": [
           {
            "colorbar": {
             "outlinewidth": 0,
             "ticks": ""
            },
            "colorscale": [
             [
              0,
              "#0d0887"
             ],
             [
              0.1111111111111111,
              "#46039f"
             ],
             [
              0.2222222222222222,
              "#7201a8"
             ],
             [
              0.3333333333333333,
              "#9c179e"
             ],
             [
              0.4444444444444444,
              "#bd3786"
             ],
             [
              0.5555555555555556,
              "#d8576b"
             ],
             [
              0.6666666666666666,
              "#ed7953"
             ],
             [
              0.7777777777777778,
              "#fb9f3a"
             ],
             [
              0.8888888888888888,
              "#fdca26"
             ],
             [
              1,
              "#f0f921"
             ]
            ],
            "type": "contour"
           }
          ],
          "contourcarpet": [
           {
            "colorbar": {
             "outlinewidth": 0,
             "ticks": ""
            },
            "type": "contourcarpet"
           }
          ],
          "heatmap": [
           {
            "colorbar": {
             "outlinewidth": 0,
             "ticks": ""
            },
            "colorscale": [
             [
              0,
              "#0d0887"
             ],
             [
              0.1111111111111111,
              "#46039f"
             ],
             [
              0.2222222222222222,
              "#7201a8"
             ],
             [
              0.3333333333333333,
              "#9c179e"
             ],
             [
              0.4444444444444444,
              "#bd3786"
             ],
             [
              0.5555555555555556,
              "#d8576b"
             ],
             [
              0.6666666666666666,
              "#ed7953"
             ],
             [
              0.7777777777777778,
              "#fb9f3a"
             ],
             [
              0.8888888888888888,
              "#fdca26"
             ],
             [
              1,
              "#f0f921"
             ]
            ],
            "type": "heatmap"
           }
          ],
          "heatmapgl": [
           {
            "colorbar": {
             "outlinewidth": 0,
             "ticks": ""
            },
            "colorscale": [
             [
              0,
              "#0d0887"
             ],
             [
              0.1111111111111111,
              "#46039f"
             ],
             [
              0.2222222222222222,
              "#7201a8"
             ],
             [
              0.3333333333333333,
              "#9c179e"
             ],
             [
              0.4444444444444444,
              "#bd3786"
             ],
             [
              0.5555555555555556,
              "#d8576b"
             ],
             [
              0.6666666666666666,
              "#ed7953"
             ],
             [
              0.7777777777777778,
              "#fb9f3a"
             ],
             [
              0.8888888888888888,
              "#fdca26"
             ],
             [
              1,
              "#f0f921"
             ]
            ],
            "type": "heatmapgl"
           }
          ],
          "histogram": [
           {
            "marker": {
             "pattern": {
              "fillmode": "overlay",
              "size": 10,
              "solidity": 0.2
             }
            },
            "type": "histogram"
           }
          ],
          "histogram2d": [
           {
            "colorbar": {
             "outlinewidth": 0,
             "ticks": ""
            },
            "colorscale": [
             [
              0,
              "#0d0887"
             ],
             [
              0.1111111111111111,
              "#46039f"
             ],
             [
              0.2222222222222222,
              "#7201a8"
             ],
             [
              0.3333333333333333,
              "#9c179e"
             ],
             [
              0.4444444444444444,
              "#bd3786"
             ],
             [
              0.5555555555555556,
              "#d8576b"
             ],
             [
              0.6666666666666666,
              "#ed7953"
             ],
             [
              0.7777777777777778,
              "#fb9f3a"
             ],
             [
              0.8888888888888888,
              "#fdca26"
             ],
             [
              1,
              "#f0f921"
             ]
            ],
            "type": "histogram2d"
           }
          ],
          "histogram2dcontour": [
           {
            "colorbar": {
             "outlinewidth": 0,
             "ticks": ""
            },
            "colorscale": [
             [
              0,
              "#0d0887"
             ],
             [
              0.1111111111111111,
              "#46039f"
             ],
             [
              0.2222222222222222,
              "#7201a8"
             ],
             [
              0.3333333333333333,
              "#9c179e"
             ],
             [
              0.4444444444444444,
              "#bd3786"
             ],
             [
              0.5555555555555556,
              "#d8576b"
             ],
             [
              0.6666666666666666,
              "#ed7953"
             ],
             [
              0.7777777777777778,
              "#fb9f3a"
             ],
             [
              0.8888888888888888,
              "#fdca26"
             ],
             [
              1,
              "#f0f921"
             ]
            ],
            "type": "histogram2dcontour"
           }
          ],
          "mesh3d": [
           {
            "colorbar": {
             "outlinewidth": 0,
             "ticks": ""
            },
            "type": "mesh3d"
           }
          ],
          "parcoords": [
           {
            "line": {
             "colorbar": {
              "outlinewidth": 0,
              "ticks": ""
             }
            },
            "type": "parcoords"
           }
          ],
          "pie": [
           {
            "automargin": true,
            "type": "pie"
           }
          ],
          "scatter": [
           {
            "fillpattern": {
             "fillmode": "overlay",
             "size": 10,
             "solidity": 0.2
            },
            "type": "scatter"
           }
          ],
          "scatter3d": [
           {
            "line": {
             "colorbar": {
              "outlinewidth": 0,
              "ticks": ""
             }
            },
            "marker": {
             "colorbar": {
              "outlinewidth": 0,
              "ticks": ""
             }
            },
            "type": "scatter3d"
           }
          ],
          "scattercarpet": [
           {
            "marker": {
             "colorbar": {
              "outlinewidth": 0,
              "ticks": ""
             }
            },
            "type": "scattercarpet"
           }
          ],
          "scattergeo": [
           {
            "marker": {
             "colorbar": {
              "outlinewidth": 0,
              "ticks": ""
             }
            },
            "type": "scattergeo"
           }
          ],
          "scattergl": [
           {
            "marker": {
             "colorbar": {
              "outlinewidth": 0,
              "ticks": ""
             }
            },
            "type": "scattergl"
           }
          ],
          "scattermapbox": [
           {
            "marker": {
             "colorbar": {
              "outlinewidth": 0,
              "ticks": ""
             }
            },
            "type": "scattermapbox"
           }
          ],
          "scatterpolar": [
           {
            "marker": {
             "colorbar": {
              "outlinewidth": 0,
              "ticks": ""
             }
            },
            "type": "scatterpolar"
           }
          ],
          "scatterpolargl": [
           {
            "marker": {
             "colorbar": {
              "outlinewidth": 0,
              "ticks": ""
             }
            },
            "type": "scatterpolargl"
           }
          ],
          "scatterternary": [
           {
            "marker": {
             "colorbar": {
              "outlinewidth": 0,
              "ticks": ""
             }
            },
            "type": "scatterternary"
           }
          ],
          "surface": [
           {
            "colorbar": {
             "outlinewidth": 0,
             "ticks": ""
            },
            "colorscale": [
             [
              0,
              "#0d0887"
             ],
             [
              0.1111111111111111,
              "#46039f"
             ],
             [
              0.2222222222222222,
              "#7201a8"
             ],
             [
              0.3333333333333333,
              "#9c179e"
             ],
             [
              0.4444444444444444,
              "#bd3786"
             ],
             [
              0.5555555555555556,
              "#d8576b"
             ],
             [
              0.6666666666666666,
              "#ed7953"
             ],
             [
              0.7777777777777778,
              "#fb9f3a"
             ],
             [
              0.8888888888888888,
              "#fdca26"
             ],
             [
              1,
              "#f0f921"
             ]
            ],
            "type": "surface"
           }
          ],
          "table": [
           {
            "cells": {
             "fill": {
              "color": "#EBF0F8"
             },
             "line": {
              "color": "white"
             }
            },
            "header": {
             "fill": {
              "color": "#C8D4E3"
             },
             "line": {
              "color": "white"
             }
            },
            "type": "table"
           }
          ]
         },
         "layout": {
          "annotationdefaults": {
           "arrowcolor": "#2a3f5f",
           "arrowhead": 0,
           "arrowwidth": 1
          },
          "autotypenumbers": "strict",
          "coloraxis": {
           "colorbar": {
            "outlinewidth": 0,
            "ticks": ""
           }
          },
          "colorscale": {
           "diverging": [
            [
             0,
             "#8e0152"
            ],
            [
             0.1,
             "#c51b7d"
            ],
            [
             0.2,
             "#de77ae"
            ],
            [
             0.3,
             "#f1b6da"
            ],
            [
             0.4,
             "#fde0ef"
            ],
            [
             0.5,
             "#f7f7f7"
            ],
            [
             0.6,
             "#e6f5d0"
            ],
            [
             0.7,
             "#b8e186"
            ],
            [
             0.8,
             "#7fbc41"
            ],
            [
             0.9,
             "#4d9221"
            ],
            [
             1,
             "#276419"
            ]
           ],
           "sequential": [
            [
             0,
             "#0d0887"
            ],
            [
             0.1111111111111111,
             "#46039f"
            ],
            [
             0.2222222222222222,
             "#7201a8"
            ],
            [
             0.3333333333333333,
             "#9c179e"
            ],
            [
             0.4444444444444444,
             "#bd3786"
            ],
            [
             0.5555555555555556,
             "#d8576b"
            ],
            [
             0.6666666666666666,
             "#ed7953"
            ],
            [
             0.7777777777777778,
             "#fb9f3a"
            ],
            [
             0.8888888888888888,
             "#fdca26"
            ],
            [
             1,
             "#f0f921"
            ]
           ],
           "sequentialminus": [
            [
             0,
             "#0d0887"
            ],
            [
             0.1111111111111111,
             "#46039f"
            ],
            [
             0.2222222222222222,
             "#7201a8"
            ],
            [
             0.3333333333333333,
             "#9c179e"
            ],
            [
             0.4444444444444444,
             "#bd3786"
            ],
            [
             0.5555555555555556,
             "#d8576b"
            ],
            [
             0.6666666666666666,
             "#ed7953"
            ],
            [
             0.7777777777777778,
             "#fb9f3a"
            ],
            [
             0.8888888888888888,
             "#fdca26"
            ],
            [
             1,
             "#f0f921"
            ]
           ]
          },
          "colorway": [
           "#636efa",
           "#EF553B",
           "#00cc96",
           "#ab63fa",
           "#FFA15A",
           "#19d3f3",
           "#FF6692",
           "#B6E880",
           "#FF97FF",
           "#FECB52"
          ],
          "font": {
           "color": "#2a3f5f"
          },
          "geo": {
           "bgcolor": "white",
           "lakecolor": "white",
           "landcolor": "#E5ECF6",
           "showlakes": true,
           "showland": true,
           "subunitcolor": "white"
          },
          "hoverlabel": {
           "align": "left"
          },
          "hovermode": "closest",
          "mapbox": {
           "style": "light"
          },
          "paper_bgcolor": "white",
          "plot_bgcolor": "#E5ECF6",
          "polar": {
           "angularaxis": {
            "gridcolor": "white",
            "linecolor": "white",
            "ticks": ""
           },
           "bgcolor": "#E5ECF6",
           "radialaxis": {
            "gridcolor": "white",
            "linecolor": "white",
            "ticks": ""
           }
          },
          "scene": {
           "xaxis": {
            "backgroundcolor": "#E5ECF6",
            "gridcolor": "white",
            "gridwidth": 2,
            "linecolor": "white",
            "showbackground": true,
            "ticks": "",
            "zerolinecolor": "white"
           },
           "yaxis": {
            "backgroundcolor": "#E5ECF6",
            "gridcolor": "white",
            "gridwidth": 2,
            "linecolor": "white",
            "showbackground": true,
            "ticks": "",
            "zerolinecolor": "white"
           },
           "zaxis": {
            "backgroundcolor": "#E5ECF6",
            "gridcolor": "white",
            "gridwidth": 2,
            "linecolor": "white",
            "showbackground": true,
            "ticks": "",
            "zerolinecolor": "white"
           }
          },
          "shapedefaults": {
           "line": {
            "color": "#2a3f5f"
           }
          },
          "ternary": {
           "aaxis": {
            "gridcolor": "white",
            "linecolor": "white",
            "ticks": ""
           },
           "baxis": {
            "gridcolor": "white",
            "linecolor": "white",
            "ticks": ""
           },
           "bgcolor": "#E5ECF6",
           "caxis": {
            "gridcolor": "white",
            "linecolor": "white",
            "ticks": ""
           }
          },
          "title": {
           "x": 0.05
          },
          "xaxis": {
           "automargin": true,
           "gridcolor": "white",
           "linecolor": "white",
           "ticks": "",
           "title": {
            "standoff": 15
           },
           "zerolinecolor": "white",
           "zerolinewidth": 2
          },
          "yaxis": {
           "automargin": true,
           "gridcolor": "white",
           "linecolor": "white",
           "ticks": "",
           "title": {
            "standoff": 15
           },
           "zerolinecolor": "white",
           "zerolinewidth": 2
          }
         }
        },
        "title": {
         "font": {
          "color": "dimgrey",
          "size": 30
         },
         "text": "Effect of Human Power Output on model Velocity Kgs"
        },
        "xaxis": {
         "anchor": "y",
         "domain": [
          0,
          1
         ],
         "gridcolor": "#e6e6e6",
         "gridwidth": 1,
         "showgrid": true,
         "title": {
          "text": "Human Power Output  <i>[Watts]</i>"
         }
        },
        "yaxis": {
         "anchor": "x",
         "domain": [
          0,
          1
         ],
         "gridcolor": "#e6e6e6",
         "gridwidth": 1,
         "range": [
          41.86960610228119,
          409.39170411119386
         ],
         "showgrid": true,
         "title": {
          "text": "Water Ration Kms"
         }
        }
       }
      }
     },
     "metadata": {},
     "output_type": "display_data"
    },
    {
     "data": {
      "application/vnd.plotly.v1+json": {
       "config": {
        "plotlyServerURL": "https://plotly.com"
       },
       "data": [
        {
         "customdata": [
          [
           36.52678614683169,
           1.6538465525479227,
           1.5788229283214261,
           1.7288701767744197
          ],
          [
           41.064727794025195,
           1.6452624975226755,
           1.5616548182709313,
           1.7288701767744197
          ],
          [
           45.53102385314965,
           1.6369746820306303,
           1.5450791872868412,
           1.7288701767744197
          ],
          [
           49.930712677642596,
           1.628965804617561,
           1.5290614324607026,
           1.7288701767744197
          ],
          [
           54.26835196404549,
           1.62121998757996,
           1.5135697983855005,
           1.7288701767744197
          ],
          [
           58.54807603765944,
           1.6137226269996638,
           1.4985750772249078,
           1.7288701767744197
          ],
          [
           62.77364498578813,
           1.6064602617347985,
           1.4840503466951773,
           1.7288701767744197
          ],
          [
           66.9484869604246,
           1.5994204585919976,
           1.4699707404095756,
           1.7288701767744197
          ],
          [
           71.07573473524793,
           1.5925917113679924,
           1.4563132459615655,
           1.7288701767744197
          ],
          [
           75.15825741151392,
           1.5859633518248013,
           1.4430565268751832,
           1.7288701767744197
          ],
          [
           79.19868801363087,
           1.5795254709697992,
           1.430180765165179,
           1.7288701767744197
          ],
          [
           83.19944759024494,
           1.5732688492641027,
           1.4176675217537862,
           1.7288701767744197
          ],
          [
           87.16276633456457,
           1.5671848945907667,
           1.4054996124071137,
           1.7288701767744197
          ],
          [
           91.09070215386683,
           1.5612655869869865,
           1.3936609971995533,
           1.7288701767744197
          ],
          [
           94.98515704909465,
           1.555503429288517,
           1.3821366818026144,
           1.7288701767744197
          ],
          [
           98.84789160836638,
           1.5498914029551374,
           1.3709126291358555,
           1.7288701767744197
          ],
          [
           102.68053787086878,
           1.5444229284476074,
           1.3599756801207954,
           1.7288701767744197
          ],
          [
           106.48461077821953,
           1.539091829612386,
           1.3493134824503523,
           1.7288701767744197
          ],
          [
           110.2615183975433,
           1.5338923016032362,
           1.3389144264320523,
           1.7288701767744197
          ],
          [
           114.01257107305968,
           1.5288188819309108,
           1.3287675870874012,
           1.7288701767744197
          ],
          [
           117.73898963999392,
           1.5238664242851128,
           1.318862671795806,
           1.7288701767744197
          ],
          [
           121.44191281532537,
           1.5190300748183687,
           1.3091899728623173,
           1.7288701767744197
          ],
          [
           125.12240386366464,
           1.5143052506205297,
           1.2997403244666397,
           1.7288701767744197
          ],
          [
           128.7814566228705,
           1.5096876201462628,
           1.2905050635181061,
           1.7288701767744197
          ],
          [
           132.4200009624684,
           1.5051730853869707,
           1.2814759939995224,
           1.7288701767744197
          ],
          [
           136.03890773815007,
           1.5007577656037439,
           1.2726453544330678,
           1.7288701767744197
          ],
          [
           139.63899329733354,
           1.496437982459802,
           1.2640057881451847,
           1.7288701767744197
          ],
          [
           143.22102358370495,
           1.4922102464098432,
           1.2555503160452668,
           1.7288701767744197
          ],
          [
           146.78571788263326,
           1.4880712442202457,
           1.2472723116660713,
           1.7288701767744197
          ],
          [
           150.3337522442033,
           1.4840178275084959,
           1.2391654782425723,
           1.7288701767744197
          ]
         ],
         "hovertemplate": "DataType=Sensitivity<br>Variable=%{x}<br>Water Ration Kms=%{y}<br>MarkerSize=%{marker.size}<br>Velocity Kgs=%{customdata[0]}<br>Mean Trip Velocity=%{customdata[1]}<br>Mean Loaded Velocity=%{customdata[2]}<br>Mean Unloaded Velocity=%{customdata[3]}<extra></extra>",
         "legendgroup": "Sensitivity",
         "marker": {
          "color": "#3D87CB",
          "size": [
           10,
           10,
           10,
           10,
           10,
           10,
           10,
           10,
           10,
           10,
           10,
           10,
           10,
           10,
           10,
           10,
           10,
           10,
           10,
           10,
           10,
           10,
           10,
           10,
           10,
           10,
           10,
           10,
           10,
           10
          ],
          "sizemode": "area",
          "sizeref": 0.125,
          "symbol": "circle"
         },
         "mode": "markers",
         "name": "Sensitivity",
         "orientation": "v",
         "showlegend": true,
         "type": "scatter",
         "x": [
          85,
          88.10344827586206,
          91.20689655172414,
          94.3103448275862,
          97.41379310344827,
          100.51724137931035,
          103.62068965517241,
          106.72413793103448,
          109.82758620689656,
          112.93103448275862,
          116.0344827586207,
          119.13793103448276,
          122.24137931034483,
          125.34482758620689,
          128.44827586206895,
          131.55172413793105,
          134.6551724137931,
          137.75862068965517,
          140.86206896551724,
          143.9655172413793,
          147.0689655172414,
          150.17241379310343,
          153.27586206896552,
          156.3793103448276,
          159.48275862068965,
          162.58620689655174,
          165.68965517241378,
          168.79310344827587,
          171.89655172413794,
          175
         ],
         "xaxis": "x",
         "y": [
          70.13142940191685,
          78.84427736452838,
          87.41956579804733,
          95.86696834107379,
          104.19523577096736,
          112.41230599230612,
          120.52539837271321,
          128.54109496401523,
          136.46541069167603,
          144.3038542301067,
          152.0614809861713,
          159.74293937327027,
          167.352511362364,
          174.8941481354243,
          182.37150153426174,
          189.78795188806345,
          197.14663271206805,
          204.4504526941815,
          211.70211532328312,
          218.90413646027457,
          226.05886010878834,
          233.1684726054247,
          240.23501541823615,
          247.26039671591136,
          254.24640184793935,
          261.19470285724816,
          268.1068671308804,
          274.98436528071346,
          281.8285783346559,
          288.6408043088703
         ],
         "yaxis": "y"
        },
        {
         "customdata": [
          [
           96.92038449602128,
           1.5526790707757643,
           1.3764879647771093,
           1.7288701767744197
          ]
         ],
         "hovertemplate": "DataType=Default<br>Variable=%{x}<br>Water Ration Kms=%{y}<br>MarkerSize=%{marker.size}<br>Velocity Kgs=%{customdata[0]}<br>Mean Trip Velocity=%{customdata[1]}<br>Mean Loaded Velocity=%{customdata[2]}<br>Mean Unloaded Velocity=%{customdata[3]}<extra></extra>",
         "legendgroup": "Default",
         "marker": {
          "color": "#F0B323",
          "size": [
           50
          ],
          "sizemode": "area",
          "sizeref": 0.125,
          "symbol": "circle"
         },
         "mode": "markers",
         "name": "Default",
         "orientation": "v",
         "showlegend": true,
         "type": "scatter",
         "x": [
          130
         ],
         "xaxis": "x",
         "y": [
          186.08713823236084
         ],
         "yaxis": "y"
        },
        {
         "customdata": [
          [
           57.83864669037044,
           1.614955517745452,
           1.5010408587164847,
           1.7288701767744197
          ]
         ],
         "hovertemplate": "DataType=Minimum Expected<br>Variable=%{x}<br>Water Ration Kms=%{y}<br>MarkerSize=%{marker.size}<br>Velocity Kgs=%{customdata[0]}<br>Mean Trip Velocity=%{customdata[1]}<br>Mean Loaded Velocity=%{customdata[2]}<br>Mean Unloaded Velocity=%{customdata[3]}<extra></extra>",
         "legendgroup": "Minimum Expected",
         "marker": {
          "color": "#DC582A",
          "size": [
           20
          ],
          "sizemode": "area",
          "sizeref": 0.125,
          "symbol": "circle"
         },
         "mode": "markers",
         "name": "Minimum Expected",
         "orientation": "v",
         "showlegend": true,
         "type": "scatter",
         "x": [
          100
         ],
         "xaxis": "x",
         "y": [
          111.05020164551125
         ],
         "yaxis": "y"
        },
        {
         "customdata": [
          [
           133.02449311333189,
           1.5044304105946031,
           1.2799906444147864,
           1.7288701767744197
          ]
         ],
         "hovertemplate": "DataType=Maximum Expected<br>Variable=%{x}<br>Water Ration Kms=%{y}<br>MarkerSize=%{marker.size}<br>Velocity Kgs=%{customdata[0]}<br>Mean Trip Velocity=%{customdata[1]}<br>Mean Loaded Velocity=%{customdata[2]}<br>Mean Unloaded Velocity=%{customdata[3]}<extra></extra>",
         "legendgroup": "Maximum Expected",
         "marker": {
          "color": "#674230",
          "size": [
           20
          ],
          "sizemode": "area",
          "sizeref": 0.125,
          "symbol": "circle"
         },
         "mode": "markers",
         "name": "Maximum Expected",
         "orientation": "v",
         "showlegend": true,
         "type": "scatter",
         "x": [
          160
         ],
         "xaxis": "x",
         "y": [
          255.4070267775972
         ],
         "yaxis": "y"
        }
       ],
       "layout": {
        "font": {
         "color": "dimgrey",
         "family": "Droid Sans Mono",
         "size": 16
        },
        "legend": {
         "itemsizing": "constant",
         "title": {
          "text": "Legend"
         },
         "tracegroupgap": 0
        },
        "paper_bgcolor": "white",
        "plot_bgcolor": "white",
        "template": {
         "data": {
          "bar": [
           {
            "error_x": {
             "color": "#2a3f5f"
            },
            "error_y": {
             "color": "#2a3f5f"
            },
            "marker": {
             "line": {
              "color": "#E5ECF6",
              "width": 0.5
             },
             "pattern": {
              "fillmode": "overlay",
              "size": 10,
              "solidity": 0.2
             }
            },
            "type": "bar"
           }
          ],
          "barpolar": [
           {
            "marker": {
             "line": {
              "color": "#E5ECF6",
              "width": 0.5
             },
             "pattern": {
              "fillmode": "overlay",
              "size": 10,
              "solidity": 0.2
             }
            },
            "type": "barpolar"
           }
          ],
          "carpet": [
           {
            "aaxis": {
             "endlinecolor": "#2a3f5f",
             "gridcolor": "white",
             "linecolor": "white",
             "minorgridcolor": "white",
             "startlinecolor": "#2a3f5f"
            },
            "baxis": {
             "endlinecolor": "#2a3f5f",
             "gridcolor": "white",
             "linecolor": "white",
             "minorgridcolor": "white",
             "startlinecolor": "#2a3f5f"
            },
            "type": "carpet"
           }
          ],
          "choropleth": [
           {
            "colorbar": {
             "outlinewidth": 0,
             "ticks": ""
            },
            "type": "choropleth"
           }
          ],
          "contour": [
           {
            "colorbar": {
             "outlinewidth": 0,
             "ticks": ""
            },
            "colorscale": [
             [
              0,
              "#0d0887"
             ],
             [
              0.1111111111111111,
              "#46039f"
             ],
             [
              0.2222222222222222,
              "#7201a8"
             ],
             [
              0.3333333333333333,
              "#9c179e"
             ],
             [
              0.4444444444444444,
              "#bd3786"
             ],
             [
              0.5555555555555556,
              "#d8576b"
             ],
             [
              0.6666666666666666,
              "#ed7953"
             ],
             [
              0.7777777777777778,
              "#fb9f3a"
             ],
             [
              0.8888888888888888,
              "#fdca26"
             ],
             [
              1,
              "#f0f921"
             ]
            ],
            "type": "contour"
           }
          ],
          "contourcarpet": [
           {
            "colorbar": {
             "outlinewidth": 0,
             "ticks": ""
            },
            "type": "contourcarpet"
           }
          ],
          "heatmap": [
           {
            "colorbar": {
             "outlinewidth": 0,
             "ticks": ""
            },
            "colorscale": [
             [
              0,
              "#0d0887"
             ],
             [
              0.1111111111111111,
              "#46039f"
             ],
             [
              0.2222222222222222,
              "#7201a8"
             ],
             [
              0.3333333333333333,
              "#9c179e"
             ],
             [
              0.4444444444444444,
              "#bd3786"
             ],
             [
              0.5555555555555556,
              "#d8576b"
             ],
             [
              0.6666666666666666,
              "#ed7953"
             ],
             [
              0.7777777777777778,
              "#fb9f3a"
             ],
             [
              0.8888888888888888,
              "#fdca26"
             ],
             [
              1,
              "#f0f921"
             ]
            ],
            "type": "heatmap"
           }
          ],
          "heatmapgl": [
           {
            "colorbar": {
             "outlinewidth": 0,
             "ticks": ""
            },
            "colorscale": [
             [
              0,
              "#0d0887"
             ],
             [
              0.1111111111111111,
              "#46039f"
             ],
             [
              0.2222222222222222,
              "#7201a8"
             ],
             [
              0.3333333333333333,
              "#9c179e"
             ],
             [
              0.4444444444444444,
              "#bd3786"
             ],
             [
              0.5555555555555556,
              "#d8576b"
             ],
             [
              0.6666666666666666,
              "#ed7953"
             ],
             [
              0.7777777777777778,
              "#fb9f3a"
             ],
             [
              0.8888888888888888,
              "#fdca26"
             ],
             [
              1,
              "#f0f921"
             ]
            ],
            "type": "heatmapgl"
           }
          ],
          "histogram": [
           {
            "marker": {
             "pattern": {
              "fillmode": "overlay",
              "size": 10,
              "solidity": 0.2
             }
            },
            "type": "histogram"
           }
          ],
          "histogram2d": [
           {
            "colorbar": {
             "outlinewidth": 0,
             "ticks": ""
            },
            "colorscale": [
             [
              0,
              "#0d0887"
             ],
             [
              0.1111111111111111,
              "#46039f"
             ],
             [
              0.2222222222222222,
              "#7201a8"
             ],
             [
              0.3333333333333333,
              "#9c179e"
             ],
             [
              0.4444444444444444,
              "#bd3786"
             ],
             [
              0.5555555555555556,
              "#d8576b"
             ],
             [
              0.6666666666666666,
              "#ed7953"
             ],
             [
              0.7777777777777778,
              "#fb9f3a"
             ],
             [
              0.8888888888888888,
              "#fdca26"
             ],
             [
              1,
              "#f0f921"
             ]
            ],
            "type": "histogram2d"
           }
          ],
          "histogram2dcontour": [
           {
            "colorbar": {
             "outlinewidth": 0,
             "ticks": ""
            },
            "colorscale": [
             [
              0,
              "#0d0887"
             ],
             [
              0.1111111111111111,
              "#46039f"
             ],
             [
              0.2222222222222222,
              "#7201a8"
             ],
             [
              0.3333333333333333,
              "#9c179e"
             ],
             [
              0.4444444444444444,
              "#bd3786"
             ],
             [
              0.5555555555555556,
              "#d8576b"
             ],
             [
              0.6666666666666666,
              "#ed7953"
             ],
             [
              0.7777777777777778,
              "#fb9f3a"
             ],
             [
              0.8888888888888888,
              "#fdca26"
             ],
             [
              1,
              "#f0f921"
             ]
            ],
            "type": "histogram2dcontour"
           }
          ],
          "mesh3d": [
           {
            "colorbar": {
             "outlinewidth": 0,
             "ticks": ""
            },
            "type": "mesh3d"
           }
          ],
          "parcoords": [
           {
            "line": {
             "colorbar": {
              "outlinewidth": 0,
              "ticks": ""
             }
            },
            "type": "parcoords"
           }
          ],
          "pie": [
           {
            "automargin": true,
            "type": "pie"
           }
          ],
          "scatter": [
           {
            "fillpattern": {
             "fillmode": "overlay",
             "size": 10,
             "solidity": 0.2
            },
            "type": "scatter"
           }
          ],
          "scatter3d": [
           {
            "line": {
             "colorbar": {
              "outlinewidth": 0,
              "ticks": ""
             }
            },
            "marker": {
             "colorbar": {
              "outlinewidth": 0,
              "ticks": ""
             }
            },
            "type": "scatter3d"
           }
          ],
          "scattercarpet": [
           {
            "marker": {
             "colorbar": {
              "outlinewidth": 0,
              "ticks": ""
             }
            },
            "type": "scattercarpet"
           }
          ],
          "scattergeo": [
           {
            "marker": {
             "colorbar": {
              "outlinewidth": 0,
              "ticks": ""
             }
            },
            "type": "scattergeo"
           }
          ],
          "scattergl": [
           {
            "marker": {
             "colorbar": {
              "outlinewidth": 0,
              "ticks": ""
             }
            },
            "type": "scattergl"
           }
          ],
          "scattermapbox": [
           {
            "marker": {
             "colorbar": {
              "outlinewidth": 0,
              "ticks": ""
             }
            },
            "type": "scattermapbox"
           }
          ],
          "scatterpolar": [
           {
            "marker": {
             "colorbar": {
              "outlinewidth": 0,
              "ticks": ""
             }
            },
            "type": "scatterpolar"
           }
          ],
          "scatterpolargl": [
           {
            "marker": {
             "colorbar": {
              "outlinewidth": 0,
              "ticks": ""
             }
            },
            "type": "scatterpolargl"
           }
          ],
          "scatterternary": [
           {
            "marker": {
             "colorbar": {
              "outlinewidth": 0,
              "ticks": ""
             }
            },
            "type": "scatterternary"
           }
          ],
          "surface": [
           {
            "colorbar": {
             "outlinewidth": 0,
             "ticks": ""
            },
            "colorscale": [
             [
              0,
              "#0d0887"
             ],
             [
              0.1111111111111111,
              "#46039f"
             ],
             [
              0.2222222222222222,
              "#7201a8"
             ],
             [
              0.3333333333333333,
              "#9c179e"
             ],
             [
              0.4444444444444444,
              "#bd3786"
             ],
             [
              0.5555555555555556,
              "#d8576b"
             ],
             [
              0.6666666666666666,
              "#ed7953"
             ],
             [
              0.7777777777777778,
              "#fb9f3a"
             ],
             [
              0.8888888888888888,
              "#fdca26"
             ],
             [
              1,
              "#f0f921"
             ]
            ],
            "type": "surface"
           }
          ],
          "table": [
           {
            "cells": {
             "fill": {
              "color": "#EBF0F8"
             },
             "line": {
              "color": "white"
             }
            },
            "header": {
             "fill": {
              "color": "#C8D4E3"
             },
             "line": {
              "color": "white"
             }
            },
            "type": "table"
           }
          ]
         },
         "layout": {
          "annotationdefaults": {
           "arrowcolor": "#2a3f5f",
           "arrowhead": 0,
           "arrowwidth": 1
          },
          "autotypenumbers": "strict",
          "coloraxis": {
           "colorbar": {
            "outlinewidth": 0,
            "ticks": ""
           }
          },
          "colorscale": {
           "diverging": [
            [
             0,
             "#8e0152"
            ],
            [
             0.1,
             "#c51b7d"
            ],
            [
             0.2,
             "#de77ae"
            ],
            [
             0.3,
             "#f1b6da"
            ],
            [
             0.4,
             "#fde0ef"
            ],
            [
             0.5,
             "#f7f7f7"
            ],
            [
             0.6,
             "#e6f5d0"
            ],
            [
             0.7,
             "#b8e186"
            ],
            [
             0.8,
             "#7fbc41"
            ],
            [
             0.9,
             "#4d9221"
            ],
            [
             1,
             "#276419"
            ]
           ],
           "sequential": [
            [
             0,
             "#0d0887"
            ],
            [
             0.1111111111111111,
             "#46039f"
            ],
            [
             0.2222222222222222,
             "#7201a8"
            ],
            [
             0.3333333333333333,
             "#9c179e"
            ],
            [
             0.4444444444444444,
             "#bd3786"
            ],
            [
             0.5555555555555556,
             "#d8576b"
            ],
            [
             0.6666666666666666,
             "#ed7953"
            ],
            [
             0.7777777777777778,
             "#fb9f3a"
            ],
            [
             0.8888888888888888,
             "#fdca26"
            ],
            [
             1,
             "#f0f921"
            ]
           ],
           "sequentialminus": [
            [
             0,
             "#0d0887"
            ],
            [
             0.1111111111111111,
             "#46039f"
            ],
            [
             0.2222222222222222,
             "#7201a8"
            ],
            [
             0.3333333333333333,
             "#9c179e"
            ],
            [
             0.4444444444444444,
             "#bd3786"
            ],
            [
             0.5555555555555556,
             "#d8576b"
            ],
            [
             0.6666666666666666,
             "#ed7953"
            ],
            [
             0.7777777777777778,
             "#fb9f3a"
            ],
            [
             0.8888888888888888,
             "#fdca26"
            ],
            [
             1,
             "#f0f921"
            ]
           ]
          },
          "colorway": [
           "#636efa",
           "#EF553B",
           "#00cc96",
           "#ab63fa",
           "#FFA15A",
           "#19d3f3",
           "#FF6692",
           "#B6E880",
           "#FF97FF",
           "#FECB52"
          ],
          "font": {
           "color": "#2a3f5f"
          },
          "geo": {
           "bgcolor": "white",
           "lakecolor": "white",
           "landcolor": "#E5ECF6",
           "showlakes": true,
           "showland": true,
           "subunitcolor": "white"
          },
          "hoverlabel": {
           "align": "left"
          },
          "hovermode": "closest",
          "mapbox": {
           "style": "light"
          },
          "paper_bgcolor": "white",
          "plot_bgcolor": "#E5ECF6",
          "polar": {
           "angularaxis": {
            "gridcolor": "white",
            "linecolor": "white",
            "ticks": ""
           },
           "bgcolor": "#E5ECF6",
           "radialaxis": {
            "gridcolor": "white",
            "linecolor": "white",
            "ticks": ""
           }
          },
          "scene": {
           "xaxis": {
            "backgroundcolor": "#E5ECF6",
            "gridcolor": "white",
            "gridwidth": 2,
            "linecolor": "white",
            "showbackground": true,
            "ticks": "",
            "zerolinecolor": "white"
           },
           "yaxis": {
            "backgroundcolor": "#E5ECF6",
            "gridcolor": "white",
            "gridwidth": 2,
            "linecolor": "white",
            "showbackground": true,
            "ticks": "",
            "zerolinecolor": "white"
           },
           "zaxis": {
            "backgroundcolor": "#E5ECF6",
            "gridcolor": "white",
            "gridwidth": 2,
            "linecolor": "white",
            "showbackground": true,
            "ticks": "",
            "zerolinecolor": "white"
           }
          },
          "shapedefaults": {
           "line": {
            "color": "#2a3f5f"
           }
          },
          "ternary": {
           "aaxis": {
            "gridcolor": "white",
            "linecolor": "white",
            "ticks": ""
           },
           "baxis": {
            "gridcolor": "white",
            "linecolor": "white",
            "ticks": ""
           },
           "bgcolor": "#E5ECF6",
           "caxis": {
            "gridcolor": "white",
            "linecolor": "white",
            "ticks": ""
           }
          },
          "title": {
           "x": 0.05
          },
          "xaxis": {
           "automargin": true,
           "gridcolor": "white",
           "linecolor": "white",
           "ticks": "",
           "title": {
            "standoff": 15
           },
           "zerolinecolor": "white",
           "zerolinewidth": 2
          },
          "yaxis": {
           "automargin": true,
           "gridcolor": "white",
           "linecolor": "white",
           "ticks": "",
           "title": {
            "standoff": 15
           },
           "zerolinecolor": "white",
           "zerolinewidth": 2
          }
         }
        },
        "title": {
         "font": {
          "color": "dimgrey",
          "size": 30
         },
         "text": "Effect of Load Limit on model Velocity Kgs"
        },
        "xaxis": {
         "anchor": "y",
         "domain": [
          0,
          1
         ],
         "gridcolor": "#e6e6e6",
         "gridwidth": 1,
         "showgrid": true,
         "title": {
          "text": "Load Limit  <i>[Kg]</i>"
         }
        },
        "yaxis": {
         "anchor": "x",
         "domain": [
          0,
          1
         ],
         "gridcolor": "#e6e6e6",
         "gridwidth": 1,
         "range": [
          41.86960610228119,
          409.39170411119386
         ],
         "showgrid": true,
         "title": {
          "text": "Water Ration Kms"
         }
        }
       }
      }
     },
     "metadata": {},
     "output_type": "display_data"
    }
   ],
   "source": [
    "\n",
    "# for i in range(0, len(sens_df)):\n",
    "primary_graph_value = \"Water Ration Kms\"\n",
    "max_plot_y = df_large[primary_graph_value].max()*1.10\n",
    "min_plot_y = df_large[primary_graph_value].min()*0.90\n",
    "\n",
    "\n",
    "for i in range(0, len(sens_df)):\n",
    "\n",
    "    fig1 = px.scatter(\n",
    "        full_result_dict[sens_df.iloc[i][\"Short Name\"]],\n",
    "        x=\"Variable\",\n",
    "        y=primary_graph_value,\n",
    "        # y=\"Velocity Kgs\",\n",
    "        color='DataType',\n",
    "        color_discrete_sequence=graph_colours,\n",
    "        # markers=True,\n",
    "        size='MarkerSize',\n",
    "        title=f'Effect of {sens_df.iloc[i][\"Short Name\"]} on model Velocity Kgs',\n",
    "        hover_data=[\n",
    "            \"Velocity Kgs\",\n",
    "            'Water Ration Kms',\n",
    "            'Mean Trip Velocity',\n",
    "            'Mean Loaded Velocity',\n",
    "            'Mean Unloaded Velocity',\n",
    "        ]\n",
    "\n",
    "\n",
    "    ).update_layout(\n",
    "        # yaxis_title=r\"$\\text{Velocity} \\times \\text{Payload  } [\\frac{m}{s} Kg]$\",\n",
    "        yaxis_title=primary_graph_value,\n",
    "        xaxis_title=(f'{sens_df.iloc[i][\"Short Name\"]}  <i>{sens_df.iloc[i][\"Units\"]}</i>'),\n",
    "    )\n",
    "    fig1.update_yaxes(range = [min_plot_y, max_plot_y])\n",
    "\n",
    "    fig1 = plotting_tools_water_access.format_plotly_graphs(fig1)\n",
    "\n",
    "    fig1.show()\n",
    "    plot_dict[var_string]= fig1\n",
    "    # filename_string = var_string + \".html\"\n",
    "    # plotly.offline.plot(fig1, filename=filename_string)"
   ]
  },
  {
   "cell_type": "code",
   "execution_count": 15,
   "metadata": {},
   "outputs": [
    {
     "data": {
      "text/plain": [
       "41.86960610228119"
      ]
     },
     "execution_count": 15,
     "metadata": {},
     "output_type": "execute_result"
    }
   ],
   "source": [
    "df_large[primary_graph_value].max()*1.10\n",
    "df_large[primary_graph_value].min()*0.90"
   ]
  },
  {
   "cell_type": "code",
   "execution_count": 5,
   "metadata": {},
   "outputs": [
    {
     "data": {
      "application/vnd.plotly.v1+json": {
       "config": {
        "plotlyServerURL": "https://plotly.com"
       },
       "data": [
        {
         "alignmentgroup": "True",
         "hovertemplate": "DataType=Default<br>Adjusted Water Ration Kms=%{x}<br>Name=%{y}<extra></extra>",
         "legendgroup": "Default",
         "marker": {
          "color": "#636efa",
          "pattern": {
           "shape": ""
          }
         },
         "name": "Default",
         "offsetgroup": "Default",
         "orientation": "h",
         "showlegend": true,
         "textposition": "auto",
         "type": "bar",
         "x": [
          0,
          0,
          0,
          0,
          0,
          0,
          0,
          0,
          0,
          0,
          0,
          0
         ],
         "xaxis": "x",
         "y": [
          "Coefficient of Rolling Resistance",
          "Reference Area",
          "Drag Coefficient",
          "Efficiency",
          "Air Density",
          "MET budget",
          "T_hours",
          "HPV Weight",
          "Water Ration",
          "Human Weight",
          "Human Power Output",
          "Load Limit"
         ],
         "yaxis": "y"
        },
        {
         "alignmentgroup": "True",
         "hovertemplate": "DataType=Minimum Expected<br>Adjusted Water Ration Kms=%{x}<br>Name=%{y}<extra></extra>",
         "legendgroup": "Minimum Expected",
         "marker": {
          "color": "#EF553B",
          "pattern": {
           "shape": ""
          }
         },
         "name": "Minimum Expected",
         "offsetgroup": "Minimum Expected",
         "orientation": "h",
         "showlegend": true,
         "textposition": "auto",
         "type": "bar",
         "x": [
          4.615339301931556,
          7.487161330282078,
          0.48642519829780895,
          -18.96152188192258,
          6.287482202001826,
          0,
          -93.04356911618042,
          5.556184646487736,
          93.04356911618046,
          9.710629677596359,
          -49.97096733857512,
          -75.03693658684959
         ],
         "xaxis": "x",
         "y": [
          "Coefficient of Rolling Resistance",
          "Reference Area",
          "Drag Coefficient",
          "Efficiency",
          "Air Density",
          "MET budget",
          "T_hours",
          "HPV Weight",
          "Water Ration",
          "Human Weight",
          "Human Power Output",
          "Load Limit"
         ],
         "yaxis": "y"
        },
        {
         "alignmentgroup": "True",
         "hovertemplate": "DataType=Maximum Expected<br>Adjusted Water Ration Kms=%{x}<br>Name=%{y}<extra></extra>",
         "legendgroup": "Maximum Expected",
         "marker": {
          "color": "#00cc96",
          "pattern": {
           "shape": ""
          }
         },
         "name": "Maximum Expected",
         "offsetgroup": "Maximum Expected",
         "orientation": "h",
         "showlegend": true,
         "textposition": "auto",
         "type": "bar",
         "x": [
          -77.53069233442574,
          -8.648190398350152,
          -4.309729530720517,
          7.708823334792555,
          -1.2824927403075606,
          0,
          93.04356911618046,
          -3.9030762518521556,
          -93.04356911618042,
          -37.35821246595623,
          45.756571925928284,
          69.31988854523635
         ],
         "xaxis": "x",
         "y": [
          "Coefficient of Rolling Resistance",
          "Reference Area",
          "Drag Coefficient",
          "Efficiency",
          "Air Density",
          "MET budget",
          "T_hours",
          "HPV Weight",
          "Water Ration",
          "Human Weight",
          "Human Power Output",
          "Load Limit"
         ],
         "yaxis": "y"
        }
       ],
       "layout": {
        "barmode": "relative",
        "legend": {
         "title": {
          "text": "DataType"
         },
         "tracegroupgap": 0
        },
        "template": {
         "data": {
          "bar": [
           {
            "error_x": {
             "color": "#2a3f5f"
            },
            "error_y": {
             "color": "#2a3f5f"
            },
            "marker": {
             "line": {
              "color": "#E5ECF6",
              "width": 0.5
             },
             "pattern": {
              "fillmode": "overlay",
              "size": 10,
              "solidity": 0.2
             }
            },
            "type": "bar"
           }
          ],
          "barpolar": [
           {
            "marker": {
             "line": {
              "color": "#E5ECF6",
              "width": 0.5
             },
             "pattern": {
              "fillmode": "overlay",
              "size": 10,
              "solidity": 0.2
             }
            },
            "type": "barpolar"
           }
          ],
          "carpet": [
           {
            "aaxis": {
             "endlinecolor": "#2a3f5f",
             "gridcolor": "white",
             "linecolor": "white",
             "minorgridcolor": "white",
             "startlinecolor": "#2a3f5f"
            },
            "baxis": {
             "endlinecolor": "#2a3f5f",
             "gridcolor": "white",
             "linecolor": "white",
             "minorgridcolor": "white",
             "startlinecolor": "#2a3f5f"
            },
            "type": "carpet"
           }
          ],
          "choropleth": [
           {
            "colorbar": {
             "outlinewidth": 0,
             "ticks": ""
            },
            "type": "choropleth"
           }
          ],
          "contour": [
           {
            "colorbar": {
             "outlinewidth": 0,
             "ticks": ""
            },
            "colorscale": [
             [
              0,
              "#0d0887"
             ],
             [
              0.1111111111111111,
              "#46039f"
             ],
             [
              0.2222222222222222,
              "#7201a8"
             ],
             [
              0.3333333333333333,
              "#9c179e"
             ],
             [
              0.4444444444444444,
              "#bd3786"
             ],
             [
              0.5555555555555556,
              "#d8576b"
             ],
             [
              0.6666666666666666,
              "#ed7953"
             ],
             [
              0.7777777777777778,
              "#fb9f3a"
             ],
             [
              0.8888888888888888,
              "#fdca26"
             ],
             [
              1,
              "#f0f921"
             ]
            ],
            "type": "contour"
           }
          ],
          "contourcarpet": [
           {
            "colorbar": {
             "outlinewidth": 0,
             "ticks": ""
            },
            "type": "contourcarpet"
           }
          ],
          "heatmap": [
           {
            "colorbar": {
             "outlinewidth": 0,
             "ticks": ""
            },
            "colorscale": [
             [
              0,
              "#0d0887"
             ],
             [
              0.1111111111111111,
              "#46039f"
             ],
             [
              0.2222222222222222,
              "#7201a8"
             ],
             [
              0.3333333333333333,
              "#9c179e"
             ],
             [
              0.4444444444444444,
              "#bd3786"
             ],
             [
              0.5555555555555556,
              "#d8576b"
             ],
             [
              0.6666666666666666,
              "#ed7953"
             ],
             [
              0.7777777777777778,
              "#fb9f3a"
             ],
             [
              0.8888888888888888,
              "#fdca26"
             ],
             [
              1,
              "#f0f921"
             ]
            ],
            "type": "heatmap"
           }
          ],
          "heatmapgl": [
           {
            "colorbar": {
             "outlinewidth": 0,
             "ticks": ""
            },
            "colorscale": [
             [
              0,
              "#0d0887"
             ],
             [
              0.1111111111111111,
              "#46039f"
             ],
             [
              0.2222222222222222,
              "#7201a8"
             ],
             [
              0.3333333333333333,
              "#9c179e"
             ],
             [
              0.4444444444444444,
              "#bd3786"
             ],
             [
              0.5555555555555556,
              "#d8576b"
             ],
             [
              0.6666666666666666,
              "#ed7953"
             ],
             [
              0.7777777777777778,
              "#fb9f3a"
             ],
             [
              0.8888888888888888,
              "#fdca26"
             ],
             [
              1,
              "#f0f921"
             ]
            ],
            "type": "heatmapgl"
           }
          ],
          "histogram": [
           {
            "marker": {
             "pattern": {
              "fillmode": "overlay",
              "size": 10,
              "solidity": 0.2
             }
            },
            "type": "histogram"
           }
          ],
          "histogram2d": [
           {
            "colorbar": {
             "outlinewidth": 0,
             "ticks": ""
            },
            "colorscale": [
             [
              0,
              "#0d0887"
             ],
             [
              0.1111111111111111,
              "#46039f"
             ],
             [
              0.2222222222222222,
              "#7201a8"
             ],
             [
              0.3333333333333333,
              "#9c179e"
             ],
             [
              0.4444444444444444,
              "#bd3786"
             ],
             [
              0.5555555555555556,
              "#d8576b"
             ],
             [
              0.6666666666666666,
              "#ed7953"
             ],
             [
              0.7777777777777778,
              "#fb9f3a"
             ],
             [
              0.8888888888888888,
              "#fdca26"
             ],
             [
              1,
              "#f0f921"
             ]
            ],
            "type": "histogram2d"
           }
          ],
          "histogram2dcontour": [
           {
            "colorbar": {
             "outlinewidth": 0,
             "ticks": ""
            },
            "colorscale": [
             [
              0,
              "#0d0887"
             ],
             [
              0.1111111111111111,
              "#46039f"
             ],
             [
              0.2222222222222222,
              "#7201a8"
             ],
             [
              0.3333333333333333,
              "#9c179e"
             ],
             [
              0.4444444444444444,
              "#bd3786"
             ],
             [
              0.5555555555555556,
              "#d8576b"
             ],
             [
              0.6666666666666666,
              "#ed7953"
             ],
             [
              0.7777777777777778,
              "#fb9f3a"
             ],
             [
              0.8888888888888888,
              "#fdca26"
             ],
             [
              1,
              "#f0f921"
             ]
            ],
            "type": "histogram2dcontour"
           }
          ],
          "mesh3d": [
           {
            "colorbar": {
             "outlinewidth": 0,
             "ticks": ""
            },
            "type": "mesh3d"
           }
          ],
          "parcoords": [
           {
            "line": {
             "colorbar": {
              "outlinewidth": 0,
              "ticks": ""
             }
            },
            "type": "parcoords"
           }
          ],
          "pie": [
           {
            "automargin": true,
            "type": "pie"
           }
          ],
          "scatter": [
           {
            "fillpattern": {
             "fillmode": "overlay",
             "size": 10,
             "solidity": 0.2
            },
            "type": "scatter"
           }
          ],
          "scatter3d": [
           {
            "line": {
             "colorbar": {
              "outlinewidth": 0,
              "ticks": ""
             }
            },
            "marker": {
             "colorbar": {
              "outlinewidth": 0,
              "ticks": ""
             }
            },
            "type": "scatter3d"
           }
          ],
          "scattercarpet": [
           {
            "marker": {
             "colorbar": {
              "outlinewidth": 0,
              "ticks": ""
             }
            },
            "type": "scattercarpet"
           }
          ],
          "scattergeo": [
           {
            "marker": {
             "colorbar": {
              "outlinewidth": 0,
              "ticks": ""
             }
            },
            "type": "scattergeo"
           }
          ],
          "scattergl": [
           {
            "marker": {
             "colorbar": {
              "outlinewidth": 0,
              "ticks": ""
             }
            },
            "type": "scattergl"
           }
          ],
          "scattermapbox": [
           {
            "marker": {
             "colorbar": {
              "outlinewidth": 0,
              "ticks": ""
             }
            },
            "type": "scattermapbox"
           }
          ],
          "scatterpolar": [
           {
            "marker": {
             "colorbar": {
              "outlinewidth": 0,
              "ticks": ""
             }
            },
            "type": "scatterpolar"
           }
          ],
          "scatterpolargl": [
           {
            "marker": {
             "colorbar": {
              "outlinewidth": 0,
              "ticks": ""
             }
            },
            "type": "scatterpolargl"
           }
          ],
          "scatterternary": [
           {
            "marker": {
             "colorbar": {
              "outlinewidth": 0,
              "ticks": ""
             }
            },
            "type": "scatterternary"
           }
          ],
          "surface": [
           {
            "colorbar": {
             "outlinewidth": 0,
             "ticks": ""
            },
            "colorscale": [
             [
              0,
              "#0d0887"
             ],
             [
              0.1111111111111111,
              "#46039f"
             ],
             [
              0.2222222222222222,
              "#7201a8"
             ],
             [
              0.3333333333333333,
              "#9c179e"
             ],
             [
              0.4444444444444444,
              "#bd3786"
             ],
             [
              0.5555555555555556,
              "#d8576b"
             ],
             [
              0.6666666666666666,
              "#ed7953"
             ],
             [
              0.7777777777777778,
              "#fb9f3a"
             ],
             [
              0.8888888888888888,
              "#fdca26"
             ],
             [
              1,
              "#f0f921"
             ]
            ],
            "type": "surface"
           }
          ],
          "table": [
           {
            "cells": {
             "fill": {
              "color": "#EBF0F8"
             },
             "line": {
              "color": "white"
             }
            },
            "header": {
             "fill": {
              "color": "#C8D4E3"
             },
             "line": {
              "color": "white"
             }
            },
            "type": "table"
           }
          ]
         },
         "layout": {
          "annotationdefaults": {
           "arrowcolor": "#2a3f5f",
           "arrowhead": 0,
           "arrowwidth": 1
          },
          "autotypenumbers": "strict",
          "coloraxis": {
           "colorbar": {
            "outlinewidth": 0,
            "ticks": ""
           }
          },
          "colorscale": {
           "diverging": [
            [
             0,
             "#8e0152"
            ],
            [
             0.1,
             "#c51b7d"
            ],
            [
             0.2,
             "#de77ae"
            ],
            [
             0.3,
             "#f1b6da"
            ],
            [
             0.4,
             "#fde0ef"
            ],
            [
             0.5,
             "#f7f7f7"
            ],
            [
             0.6,
             "#e6f5d0"
            ],
            [
             0.7,
             "#b8e186"
            ],
            [
             0.8,
             "#7fbc41"
            ],
            [
             0.9,
             "#4d9221"
            ],
            [
             1,
             "#276419"
            ]
           ],
           "sequential": [
            [
             0,
             "#0d0887"
            ],
            [
             0.1111111111111111,
             "#46039f"
            ],
            [
             0.2222222222222222,
             "#7201a8"
            ],
            [
             0.3333333333333333,
             "#9c179e"
            ],
            [
             0.4444444444444444,
             "#bd3786"
            ],
            [
             0.5555555555555556,
             "#d8576b"
            ],
            [
             0.6666666666666666,
             "#ed7953"
            ],
            [
             0.7777777777777778,
             "#fb9f3a"
            ],
            [
             0.8888888888888888,
             "#fdca26"
            ],
            [
             1,
             "#f0f921"
            ]
           ],
           "sequentialminus": [
            [
             0,
             "#0d0887"
            ],
            [
             0.1111111111111111,
             "#46039f"
            ],
            [
             0.2222222222222222,
             "#7201a8"
            ],
            [
             0.3333333333333333,
             "#9c179e"
            ],
            [
             0.4444444444444444,
             "#bd3786"
            ],
            [
             0.5555555555555556,
             "#d8576b"
            ],
            [
             0.6666666666666666,
             "#ed7953"
            ],
            [
             0.7777777777777778,
             "#fb9f3a"
            ],
            [
             0.8888888888888888,
             "#fdca26"
            ],
            [
             1,
             "#f0f921"
            ]
           ]
          },
          "colorway": [
           "#636efa",
           "#EF553B",
           "#00cc96",
           "#ab63fa",
           "#FFA15A",
           "#19d3f3",
           "#FF6692",
           "#B6E880",
           "#FF97FF",
           "#FECB52"
          ],
          "font": {
           "color": "#2a3f5f"
          },
          "geo": {
           "bgcolor": "white",
           "lakecolor": "white",
           "landcolor": "#E5ECF6",
           "showlakes": true,
           "showland": true,
           "subunitcolor": "white"
          },
          "hoverlabel": {
           "align": "left"
          },
          "hovermode": "closest",
          "mapbox": {
           "style": "light"
          },
          "paper_bgcolor": "white",
          "plot_bgcolor": "#E5ECF6",
          "polar": {
           "angularaxis": {
            "gridcolor": "white",
            "linecolor": "white",
            "ticks": ""
           },
           "bgcolor": "#E5ECF6",
           "radialaxis": {
            "gridcolor": "white",
            "linecolor": "white",
            "ticks": ""
           }
          },
          "scene": {
           "xaxis": {
            "backgroundcolor": "#E5ECF6",
            "gridcolor": "white",
            "gridwidth": 2,
            "linecolor": "white",
            "showbackground": true,
            "ticks": "",
            "zerolinecolor": "white"
           },
           "yaxis": {
            "backgroundcolor": "#E5ECF6",
            "gridcolor": "white",
            "gridwidth": 2,
            "linecolor": "white",
            "showbackground": true,
            "ticks": "",
            "zerolinecolor": "white"
           },
           "zaxis": {
            "backgroundcolor": "#E5ECF6",
            "gridcolor": "white",
            "gridwidth": 2,
            "linecolor": "white",
            "showbackground": true,
            "ticks": "",
            "zerolinecolor": "white"
           }
          },
          "shapedefaults": {
           "line": {
            "color": "#2a3f5f"
           }
          },
          "ternary": {
           "aaxis": {
            "gridcolor": "white",
            "linecolor": "white",
            "ticks": ""
           },
           "baxis": {
            "gridcolor": "white",
            "linecolor": "white",
            "ticks": ""
           },
           "bgcolor": "#E5ECF6",
           "caxis": {
            "gridcolor": "white",
            "linecolor": "white",
            "ticks": ""
           }
          },
          "title": {
           "x": 0.05
          },
          "xaxis": {
           "automargin": true,
           "gridcolor": "white",
           "linecolor": "white",
           "ticks": "",
           "title": {
            "standoff": 15
           },
           "zerolinecolor": "white",
           "zerolinewidth": 2
          },
          "yaxis": {
           "automargin": true,
           "gridcolor": "white",
           "linecolor": "white",
           "ticks": "",
           "title": {
            "standoff": 15
           },
           "zerolinecolor": "white",
           "zerolinewidth": 2
          }
         }
        },
        "title": {
         "text": "Sensitivty Of Variables"
        },
        "xaxis": {
         "anchor": "y",
         "domain": [
          0,
          1
         ],
         "title": {
          "text": "Adjusted Water Ration Kms"
         }
        },
        "yaxis": {
         "anchor": "x",
         "domain": [
          0,
          1
         ],
         "title": {
          "text": "Name"
         }
        }
       }
      }
     },
     "metadata": {},
     "output_type": "display_data"
    }
   ],
   "source": [
    "\n",
    "\n",
    "summary_df = df_large[(df_large.DataType == \"Minimum Expected\") | (df_large.DataType == \"Maximum Expected\") | (df_large.DataType == \"Default\")]\n",
    "# summary_df\n",
    "fig = px.bar(summary_df, y=\"Name\", x=\"Adjusted Water Ration Kms\", color=\"DataType\", title=\"Sensitivty Of Variables\",        #size='MarkerSize',\n",
    ")\n",
    "fig2 = px.bar(summary_df, y=\"Name\", x=\"Water Ration Kms\", color=\"DataType\", title=\"Sensitivty Of Variables\",        #size='MarkerSize',)\n",
    ")\n",
    "# fig2.update_traces(xaxis=\"x2\")\n",
    "\n",
    "# fig=make_subplots(\n",
    "#         specs=[[{\"secondary_y\": True}]])\n",
    "# print(fig.layout)    \n",
    "\n",
    "\n",
    "\n",
    "# subfig = make_subplots(specs=[[{\"secondary_y\": True}]])\n",
    "# subfig.add_traces(fig.data + fig2.data)\n",
    "\n",
    "# subfig.layout.xaxis.title=\"Time\"\n",
    "# subfig.layout.yaxis.title=\"Linear Y\"\n",
    "# subfig.layout.yaxis2.title=\"Log Y\"\n",
    "\n",
    "\n",
    "fig.show()\n",
    "\n",
    "\n",
    "# fig.update_layout(xaxis2= {'anchor': 'y', 'overlaying': 'x', 'side': 'top'},\n",
    "#                   yaxis_domain=[0, 0.94]);\n",
    "\n",
    "# fig.add_trace(\n",
    "#     go.Bar(x=[1, 2, 3, 4],\n",
    "#            y=[7, 4, 5, 6],\n",
    "#            name=\"bar\",\n",
    "#           ), secondary_y=False)\n",
    "# fig.add_trace(\n",
    "#     go.Bar(x=[-2, -1, 0, 1],\n",
    "#                y=[4, 2, 5, 6],\n",
    "#                name=\"scatt1\",\n",
    "#             ), secondary_y=True)\n",
    "# fig.data[1].update(xaxis='x2')\n",
    "# fig.update_layout(width=700, height=475)\n",
    "\n"
   ]
  },
  {
   "cell_type": "code",
   "execution_count": 6,
   "metadata": {},
   "outputs": [],
   "source": [
    "# import plotly.graph_objects as go\n",
    "\n",
    "# fig=make_subplots(\n",
    "#         specs=[[{\"secondary_y\": True}]])\n",
    "# print(fig.layout)    \n",
    "\n",
    "# fig.update_layout(xaxis2= {'anchor': 'y', 'overlaying': 'x', 'side': 'top'},\n",
    "#                   yaxis_domain=[0, 0.94]);\n",
    "\n",
    "# fig.add_trace(\n",
    "#     go.Bar(x=[1, 2, 3, 4],\n",
    "#            y=[7, 4, 5, 6],\n",
    "#            name=\"bar\",\n",
    "#           ), secondary_y=False)\n",
    "# fig.add_trace(\n",
    "#     go.Bar(x=[-2, -1, 0, 1],\n",
    "#                y=[4, 2, 5, 6],\n",
    "#                name=\"scatt1\",\n",
    "#             ), secondary_y=True)\n",
    "# fig.data[1].update(xaxis='x2')\n",
    "# fig.update_layout(width=700, height=475)"
   ]
  }
 ],
 "metadata": {
  "kernelspec": {
   "display_name": "Python 3.9.13 (conda)",
   "language": "python",
   "name": "python3"
  },
  "language_info": {
   "codemirror_mode": {
    "name": "ipython",
    "version": 3
   },
   "file_extension": ".py",
   "mimetype": "text/x-python",
   "name": "python",
   "nbconvert_exporter": "python",
   "pygments_lexer": "ipython3",
   "version": "3.9.13"
  },
  "orig_nbformat": 4,
  "vscode": {
   "interpreter": {
    "hash": "c09a8b249899dc4589e662892666698668e7a3ca1327801a18c24efb244ad2c6"
   }
  }
 },
 "nbformat": 4,
 "nbformat_minor": 2
}
