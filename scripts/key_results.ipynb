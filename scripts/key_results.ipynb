{
 "cells": [
  {
   "cell_type": "markdown",
   "metadata": {},
   "source": [
    "## Key Results\n",
    "\n",
    "Takes in results of Monte Carlo simulations and generates key results used in the paper."
   ]
  },
  {
   "cell_type": "code",
   "execution_count": 1,
   "metadata": {},
   "outputs": [],
   "source": [
    "import pathlib\n",
    "import pandas as pd\n",
    "import numpy as np\n",
    "import matplotlib.pyplot as plt\n",
    "import plotly.express as px\n",
    "import weightedstats as ws\n",
    "from tabulate import tabulate"
   ]
  },
  {
   "cell_type": "code",
   "execution_count": 2,
   "metadata": {},
   "outputs": [],
   "source": [
    "# Read country-level results from Monte Carlo sims\n",
    "country_medians = pd.read_csv(\"../results/median_results.csv\")\n",
    "country_means = pd.read_csv(\"../results/mean_results.csv\")\n",
    "country_5th_percentiles = pd.read_csv(\"../results/5th_percentile_results.csv\")\n",
    "country_95th_percentiles = pd.read_csv(\"../results/95th_percentile_results.csv\")\n",
    "\n",
    "# Read district-level results from Monte Carlo sims\n",
    "district_medians = pd.read_csv(\"../results/districts_median_results.csv\")\n",
    "district_means = pd.read_csv(\"../results/districts_mean_results.csv\")\n",
    "district_5th_percentiles = pd.read_csv(\"../results/districts_5th_percentile_results.csv\")\n",
    "district_95th_percentiles = pd.read_csv(\"../results/districts_95th_percentile_results.csv\")\n"
   ]
  },
  {
   "cell_type": "markdown",
   "metadata": {},
   "source": [
    "#### Data for Choropleths\n",
    "Export country level and district level results for visualisations in Datawrapper"
   ]
  },
  {
   "cell_type": "code",
   "execution_count": 5,
   "metadata": {},
   "outputs": [],
   "source": [
    "# Get ISOCODE and percent_without water and print without truncating\n",
    "# pd.set_option('display.max_rows', None)\n",
    "country_medians_simple = country_medians[[\"ISOCODE\", \"Entity\", \"percent_without_water\"]]\n",
    "country_medians_simple.to_csv(\"../results/country_medians_simple.csv\", index=False)\n",
    "\n",
    "venezuela_medians = district_medians[district_medians[\"Entity\"] == \"Venezuela\"]\n",
    "venezuela_medians_simple = venezuela_medians[[\"shapeName\", \"percent_without_water\"]]\n",
    "country_medians_simple.to_csv(\"../results/venezulea_means_simple.csv\", index=False)"
   ]
  },
  {
   "cell_type": "markdown",
   "metadata": {},
   "source": [
    "#### Key Median Results"
   ]
  },
  {
   "cell_type": "code",
   "execution_count": 6,
   "metadata": {},
   "outputs": [],
   "source": [
    "# Make a single table with the 10 countries with the highest and lowest percentage of people without access to water\n",
    "top10 = country_medians_simple.nlargest(10, \"percent_without_water\")\n",
    "bottom10 = country_medians_simple.nsmallest(10, \"percent_without_water\")\n",
    "top_bottom = pd.concat([top10, bottom10])\n",
    "top_bottom.to_csv(\"../results/top_bottom_10_countries.csv\", index=False)"
   ]
  },
  {
   "cell_type": "code",
   "execution_count": 7,
   "metadata": {},
   "outputs": [
    {
     "name": "stdout",
     "output_type": "stream",
     "text": [
      "Global median percentage without water: 0.2913699818564235\n",
      "Global median percentage with water: 0.7084980986429009\n",
      "Global median percentage piped with water: 0.39858155156271463\n"
     ]
    }
   ],
   "source": [
    "# Calculate global population without water\n",
    "global_median_percentage_without_water = country_medians[\"country_pop_without_water\"].sum() / country_medians[\"country_pop_raw\"].sum()\n",
    "global_median_percentage_with_water = country_medians[\"country_pop_with_water\"].sum() / country_medians[\"country_pop_raw\"].sum()\n",
    "global_median_percentage_piped_with_water = country_medians[\"population_piped_with_access\"].sum() / country_medians[\"country_pop_raw\"].sum()\n",
    "\n",
    "# Print values\n",
    "print(f\"Global median percentage without water: {global_median_percentage_without_water}\")\n",
    "print(f\"Global median percentage with water: {global_median_percentage_with_water}\")\n",
    "print(f\"Global median percentage piped with water: {global_median_percentage_piped_with_water}\")\n",
    "\n"
   ]
  },
  {
   "cell_type": "markdown",
   "metadata": {},
   "source": [
    "#### Key Mean Results (use to look at cycling vs walking breakdown)"
   ]
  },
  {
   "cell_type": "code",
   "execution_count": 8,
   "metadata": {},
   "outputs": [
    {
     "name": "stdout",
     "output_type": "stream",
     "text": [
      "Global mean percentage piped with access: 0.38998753515565754\n",
      "Global mean percentage piped with cycling access: 0.4612488577644812\n",
      "Global mean percentage piped with walking access: 0.8389380275938462\n",
      "Global mean percentage piped with only cycling access: 0.1575892345737465\n"
     ]
    }
   ],
   "source": [
    "# TODO update via Codium to add 5th and 95th percentiles\n",
    "global_mean_percentage_piped_with_access = country_means[\"population_piped_with_access\"].sum() / country_means[\"country_pop_raw\"].sum()\n",
    "global_mean_piped_percentage_with_cycling_access = country_means[\"population_piped_with_cycling_access\"].sum() / country_means[\"population_piped_with_access\"].sum()\n",
    "global_mean_piped_percentage_with_walking_access = country_means[\"population_piped_with_walking_access\"].sum() / country_means[\"population_piped_with_access\"].sum()\n",
    "global_mean_piped_percentage_with_only_cycling_access = (country_means[\"population_piped_with_access\"].sum() - country_means[\"population_piped_with_walking_access\"].sum()) / country_medians[\"population_piped_with_access\"].sum()\n",
    "\n",
    "\n",
    "# Print values\n",
    "print(f\"Global mean percentage piped with access: {global_mean_percentage_piped_with_access}\")\n",
    "print(f\"Global mean percentage piped with cycling access: {global_mean_piped_percentage_with_cycling_access}\")\n",
    "print(f\"Global mean percentage piped with walking access: {global_mean_piped_percentage_with_walking_access}\")\n",
    "print(f\"Global mean percentage piped with only cycling access: {global_mean_piped_percentage_with_only_cycling_access}\")"
   ]
  },
  {
   "cell_type": "markdown",
   "metadata": {},
   "source": [
    "#### Most important countries for bicycles"
   ]
  },
  {
   "cell_type": "code",
   "execution_count": 10,
   "metadata": {},
   "outputs": [
    {
     "name": "stdout",
     "output_type": "stream",
     "text": [
      "+-----+----------------------+---------------------------------------------+------------------------------------+----------------------+---------------------------------------------+\n",
      "|     | Entity               |   percentage_piped_with_only_cycling_access |   percentage_piped_of_total_access |   percent_with_water |   population_piped_with_only_cycling_access |\n",
      "|-----+----------------------+---------------------------------------------+------------------------------------+----------------------+---------------------------------------------|\n",
      "|   4 | United Arab Emirates |                                    1        |                        1           |            0.0313029 |                              3127.5         |\n",
      "|  71 | Hong Kong            |                                    1        |                        0.243235    |           18.7134    |                            343786           |\n",
      "|  93 | Kuwait               |                                    1        |                        0.00779594  |            7.97058   |                              2689.68        |\n",
      "| 117 | Montserrat           |                                    0.693501 |                        0.41164     |           43.4622    |                               618.008       |\n",
      "| 184 | Samoa                |                                    0.473289 |                        0.708331    |           40.4754    |                             27157.9         |\n",
      "|  13 | Burkina Faso         |                                    0.469654 |                        0.0887709   |           61.547     |                            551614           |\n",
      "| 118 | Martinique           |                                    0.466455 |                        0.354684    |           38.551     |                             23901.2         |\n",
      "|   5 | Argentina            |                                    0.427598 |                        0.860985    |           59.4021    |                                 9.97363e+06 |\n",
      "|  97 | Libya                |                                    0.385663 |                        0.000866606 |           29.0701    |                               676.074       |\n",
      "| 103 | Luxembourg           |                                    0.374714 |                        0.98915     |           69.3351    |                            163141           |\n",
      "| 178 | Uruguay              |                                    0.372156 |                        1           |           44.6666    |                            579336           |\n",
      "|   3 | Andorra              |                                    0.329969 |                        1           |           63.0213    |                             16085.8         |\n",
      "|  83 | Israel               |                                    0.310331 |                        1           |           21.3529    |                            582452           |\n",
      "|  62 | Gambia               |                                    0.310001 |                        0.740244    |           62.2285    |                            355133           |\n",
      "|  77 | Isle of Man          |                                    0.300894 |                        0.922639    |           51.7056    |                             12260           |\n",
      "| 171 | Trinidad and Tobago  |                                    0.300745 |                        0.575948    |           56.5116    |                            137370           |\n",
      "|  39 | Germany              |                                    0.294783 |                        1           |           80.2205    |                                 1.98405e+07 |\n",
      "|  11 | Belgium              |                                    0.29099  |                        1           |           79.753     |                                 2.69955e+06 |\n",
      "|  41 | Denmark              |                                    0.288469 |                        1           |           75.1468    |                                 1.26018e+06 |\n",
      "|  51 | Finland              |                                    0.279666 |                        1           |           81.9024    |                                 1.27087e+06 |\n",
      "| 179 | United States        |                                    0.258249 |                        0.9694      |           63.0957    |                                 5.25866e+07 |\n",
      "| 172 | Tunisia              |                                    0.25328  |                        0.61043     |           36.5672    |                            674806           |\n",
      "|  91 | Cambodia             |                                    0.252276 |                        0.303312    |           82.4592    |                                 1.06926e+06 |\n",
      "|  48 | Spain                |                                    0.247663 |                        1           |           64.2277    |                                 7.43569e+06 |\n",
      "| 137 | Poland               |                                    0.245727 |                        1           |           67.6964    |                                 6.28747e+06 |\n",
      "| 148 | Saudi Arabia         |                                    0.242778 |                        0.0534886   |           16.3277    |                             74932.6         |\n",
      "|  82 | Iceland              |                                    0.24192  |                        1           |           51.8048    |                             43032           |\n",
      "|  53 | Falkland Islands     |                                    0.24138  |                        0.32582     |           28.6481    |                                79.4883      |\n",
      "| 151 | Singapore            |                                    0.240431 |                        0.648717    |           43.2627    |                            397894           |\n",
      "| 141 | Paraguay             |                                    0.236643 |                        1           |           58.4292    |                            998250           |\n",
      "+-----+----------------------+---------------------------------------------+------------------------------------+----------------------+---------------------------------------------+\n"
     ]
    }
   ],
   "source": [
    "# TODO Change to means so walking/cycling split makes sense\n",
    "# Calculate top 10 countries by lowest value for global_mean_piped_percentage_with_walking_access\n",
    "country_medians[\"percentage_piped_with_walking_access\"] = country_medians[\"population_piped_with_walking_access\"] / country_medians[\"population_piped_with_access\"]\n",
    "country_medians[\"percentage_piped_with_cycling_access\"] = country_medians[\"population_piped_with_cycling_access\"] / country_medians[\"population_piped_with_access\"]\n",
    "country_medians[\"percentage_piped_of_total_access\"] = country_medians[\"population_piped_with_access\"] / country_medians[\"country_pop_with_water\"]\n",
    "country_medians[\"population_piped_with_only_cycling_access\"] = country_medians[\"population_piped_with_access\"] - country_medians[\"population_piped_with_walking_access\"]\n",
    "country_medians[\"percentage_piped_with_only_cycling_access\"] = country_medians[\"population_piped_with_only_cycling_access\"] / country_medians[\"population_piped_with_access\"]\n",
    "\n",
    "top10_piped_with_walking = country_medians.nsmallest(50, \"percentage_piped_with_walking_access\")\n",
    "\n",
    "# print values\n",
    "# print(f\"Top 10 countries by lowest value for global_mean_piped_percentage_with_walking_access: {top10_piped_with_walking[['Entity', 'percentage_piped_with_walking_access', 'percentage_piped_with_cycling_access']]}\")\n",
    "# print(tabulate(top10_piped_with_walking[['Entity', 'percentage_piped_with_walking_access', 'percentage_piped_with_cycling_access', \"percent_with_water\", \"population_piped_with_only_cycling_access\"]], headers='keys', tablefmt='psql'))\n",
    "\n",
    "# OR rank by cycling\n",
    "bottom_piped_with_walking = country_medians.nlargest(30, \"percentage_piped_with_only_cycling_access\")\n",
    "print(tabulate(bottom_piped_with_walking[['Entity', 'percentage_piped_with_only_cycling_access', \"percentage_piped_of_total_access\", \"percent_with_water\", \"population_piped_with_only_cycling_access\"]], headers='keys', tablefmt='psql'))\n",
    "# print(tabulate(bottom_piped_with_walking, headers='keys', tablefmt='psql'))\n",
    "\n",
    "\n"
   ]
  },
  {
   "cell_type": "code",
   "execution_count": 11,
   "metadata": {},
   "outputs": [
    {
     "data": {
      "application/vnd.plotly.v1+json": {
       "config": {
        "plotlyServerURL": "https://plot.ly"
       },
       "data": [
        {
         "hovertemplate": "<b>%{hovertext}</b><br><br>region=Asia<br>Nat Piped=%{x}<br>percent_without_water=%{y}<br>bubble_size=%{marker.size}<extra></extra>",
         "hovertext": [
          "Afghanistan",
          "United Arab Emirates",
          "Armenia",
          "Azerbaijan",
          "Bangladesh",
          "Brunei",
          "Bhutan",
          "China",
          "Georgia",
          "Hong Kong",
          "Indonesia",
          "India",
          "Iran",
          "Iraq",
          "Israel",
          "Jordan",
          "Japan",
          "Kazakhstan",
          "Kyrgyzstan",
          "Cambodia",
          "South Korea",
          "Kuwait",
          "Laos",
          "Lebanon",
          "Sri Lanka",
          "Myanmar",
          "Mongolia",
          "Malaysia",
          "Nepal",
          "Oman",
          "Pakistan",
          "Philippines",
          "North Korea",
          "Palestine",
          "Qatar",
          "Saudi Arabia",
          "Singapore",
          "Syria",
          "Thailand",
          "Tajikistan",
          "Turkmenistan",
          "Timor",
          "Turkey",
          "Taiwan",
          "Uzbekistan",
          "Vietnam",
          "Yemen"
         ],
         "legendgroup": "Asia",
         "marker": {
          "color": "#636efa",
          "size": [
           6311.531351423362,
           3160.8674442310926,
           1722.8255860649388,
           3197.396440856216,
           12895.871199729005,
           664.4787430761047,
           883.1194709664146,
           38002.843340992265,
           1994.9368411055023,
           2748.2357977437086,
           16624.13269918163,
           37328.394460517586,
           9221.104055372112,
           6417.113915149083,
           2964.7556391716334,
           3204.531479015302,
           11227.23456600066,
           4358.320548101069,
           2574.5576319049455,
           4116.606126410444,
           7162.76371242274,
           2080.517483704475,
           2716.4973771384357,
           2601.759212532935,
           4636.518737156144,
           7403.108401205537,
           1824.6320176956228,
           5725.049781442953,
           5447.469137131481,
           2285.4706298703554,
           15006.662820227553,
           10537.879767771125,
           5087.931308498572,
           2285.334986386022,
           1711.8773320539065,
           5944.802772169991,
           2428.3088765641,
           4275.009239756097,
           8363.662116561141,
           3122.4389505641257,
           2473.445572475772,
           1159.2562270697535,
           9221.86185105806,
           4884.15888357453,
           5825.44118500908,
           9908.018419441902,
           5521.832938436294
          ],
          "sizemode": "area",
          "sizeref": 95.00710835248066,
          "symbol": "circle"
         },
         "mode": "markers",
         "name": "Asia",
         "orientation": "v",
         "showlegend": true,
         "type": "scatter",
         "x": [
          22,
          100,
          100,
          91,
          15,
          100,
          100,
          80,
          82,
          100,
          35,
          44,
          99,
          83,
          100,
          89,
          98,
          81,
          94,
          32,
          100,
          91.5,
          31,
          89,
          39,
          33,
          25,
          95,
          50,
          96,
          26,
          66,
          100,
          54,
          100,
          84,
          100,
          71,
          81,
          65,
          52,
          66,
          95,
          86.1428571428571,
          70,
          48,
          56
         ],
         "xaxis": "x",
         "y": [
          31.34206210512185,
          99.96857262070932,
          32.63146413764025,
          27.66251898308075,
          7.717882829338171,
          26.522527708438016,
          50.92349859961537,
          23.1221036892028,
          23.847377830065863,
          81.28657727975525,
          15.720675774498284,
          17.8332546720954,
          57.96032223692261,
          30.862511678978127,
          78.64709602713347,
          64.66991454495766,
          19.64053789464301,
          36.14288853303167,
          30.69900730633268,
          17.540775730316817,
          34.25519928957068,
          92.0294160756311,
          19.8698064820172,
          61.10733232457496,
          30.73230925097884,
          24.84464945278194,
          30.491456785743598,
          36.02776683534702,
          14.443134503039625,
          84.35372194724633,
          11.54831661088694,
          21.13246769010719,
          30.78209120318422,
          58.86894521844651,
          85.30015578806233,
          83.67208546904057,
          56.73729361718111,
          49.29458130429205,
          19.232191252953896,
          43.13461829869295,
          16.154931553233116,
          80.70048204737543,
          38.97651981147211,
          22.7669194796162,
          27.64781315983512,
          10.205842103808322,
          56.73418285546407
         ],
         "yaxis": "y"
        },
        {
         "hovertemplate": "<b>%{hovertext}</b><br><br>region=Africa<br>Nat Piped=%{x}<br>percent_without_water=%{y}<br>bubble_size=%{marker.size}<extra></extra>",
         "hovertext": [
          "Angola",
          "Burundi",
          "Benin",
          "Burkina Faso",
          "Botswana",
          "Central African Republic",
          "Cote d'Ivoire",
          "Cameroon",
          "Democratic Republic of Congo",
          "Congo",
          "Djibouti",
          "Algeria",
          "Egypt",
          "Eritrea",
          "Western Sahara",
          "Ethiopia",
          "Gabon",
          "Ghana",
          "Guinea",
          "Gambia",
          "Guinea-Bissau",
          "Equatorial Guinea",
          "Kenya",
          "Liberia",
          "Libya",
          "Lesotho",
          "Morocco",
          "Madagascar",
          "Mali",
          "Mozambique",
          "Mauritania",
          "Mauritius",
          "Malawi",
          "Namibia",
          "Niger",
          "Nigeria",
          "Reunion",
          "Rwanda",
          "Sudan",
          "Senegal",
          "Sierra Leone",
          "Somalia",
          "South Sudan",
          "Sao Tome and Principe",
          "Eswatini",
          "Chad",
          "Togo",
          "Tunisia",
          "Tanzania",
          "Uganda",
          "South Africa",
          "Zambia",
          "Zimbabwe"
         ],
         "legendgroup": "Africa",
         "marker": {
          "color": "#EF553B",
          "size": [
           5825.256303374126,
           3500.775485517459,
           3528.601847757834,
           4636.496198639658,
           1548.3022960649512,
           2218.104370853635,
           5201.310315680079,
           5217.687418770887,
           9611.346731858132,
           2378.4484438389663,
           1001.0978973107475,
           6679.567800389483,
           10210.696695133001,
           1897.7518278215412,
           782.2224747474339,
           10857.081836294687,
           1509.5790804061908,
           5633.127728003334,
           3673.8585982587842,
           1577.0025364595963,
           1419.6795413050088,
           1204.1141972421055,
           7415.234453474819,
           2276.007029866121,
           2637.9040922671925,
           1469.376398340466,
           6111.0381278470195,
           5331.728894083044,
           4566.806761841363,
           5671.24721732354,
           2185.202507778169,
           1128.4626710706916,
           4432.570473213032,
           1608.522303233623,
           5013.063933364505,
           14539.625304663115,
           949.5767478197853,
           3643.69551417239,
           6701.443948881465,
           4146.8431366522655,
           2853.3038744585197,
           4044.687874237022,
           3373.6296477236506,
           472.6140074098524,
           1082.759899516047,
           4112.783120953499,
           2911.742090227086,
           3454.8175060341464,
           7842.09398056412,
           6864.658258063543,
           7748.677048374128,
           4349.788155761152,
           3884.8643476960683
          ],
          "sizemode": "area",
          "sizeref": 95.00710835248066,
          "symbol": "circle"
         },
         "mode": "markers",
         "name": "Africa",
         "orientation": "v",
         "showlegend": true,
         "type": "scatter",
         "x": [
          42,
          38,
          37,
          28,
          91,
          14,
          42,
          36,
          35,
          53,
          83,
          72,
          100,
          52,
          68.3333333333333,
          41,
          82,
          35,
          25,
          77,
          35,
          41,
          33,
          4,
          78,
          69,
          80,
          35,
          50,
          41,
          53,
          100,
          22,
          81,
          40,
          10,
          100,
          38,
          46,
          75,
          21,
          47,
          4,
          97,
          61,
          20,
          25,
          93,
          38,
          23,
          91,
          32,
          27
         ],
         "xaxis": "x",
         "y": [
          63.53279934692212,
          36.4115917676125,
          42.18734515051547,
          38.45297775033885,
          76.0967785469825,
          50.67109186791583,
          41.25885820598408,
          39.14258833933209,
          67.20502317998094,
          49.10010866831693,
          68.50495371164783,
          42.0077748273831,
          46.92488302992297,
          56.75795346552067,
          70.57127594793768,
          51.24056128159556,
          49.37660767615845,
          31.65929217593725,
          27.47405000540697,
          37.77150210107914,
          48.902920891547566,
          41.76397961240593,
          42.07495397075389,
          25.030914754102845,
          70.92845499804241,
          32.82775340777774,
          62.652218469198736,
          67.03459615973954,
          38.7618329330828,
          45.359475508781294,
          69.0808421414437,
          21.65241602587698,
          15.618108685031046,
          77.99309246327786,
          65.51484338029064,
          28.69944811022458,
          42.64887473791843,
          42.73306114901884,
          49.51701935803054,
          71.91913952936011,
          44.87094103394338,
          45.5212130299208,
          25.99272769937357,
          60.24333318443504,
          27.72096001255776,
          48.65087532809096,
          38.78209289958725,
          63.43277275026677,
          39.505076894779975,
          23.13321444536481,
          36.25451029471464,
          42.0002522009903,
          37.072467043056335
         ],
         "yaxis": "y"
        },
        {
         "hovertemplate": "<b>%{hovertext}</b><br><br>region=Europe<br>Nat Piped=%{x}<br>percent_without_water=%{y}<br>bubble_size=%{marker.size}<extra></extra>",
         "hovertext": [
          "Albania",
          "Andorra",
          "Austria",
          "Belgium",
          "Bulgaria",
          "Bosnia and Herzegovina",
          "Belarus",
          "Switzerland",
          "Cyprus",
          "Czechia",
          "Germany",
          "Denmark",
          "Spain",
          "Estonia",
          "Finland",
          "France",
          "Faeroe Islands",
          "United Kingdom",
          "Greece",
          "Croatia",
          "Hungary",
          "Isle of Man",
          "Ireland",
          "Iceland",
          "Italy",
          "Liechtenstein",
          "Lithuania",
          "Luxembourg",
          "Latvia",
          "Moldova",
          "North Macedonia",
          "Malta",
          "Montenegro",
          "Netherlands",
          "Norway",
          "Poland",
          "Portugal",
          "Romania",
          "Russia",
          "Serbia",
          "Slovakia",
          "Slovenia",
          "Sweden",
          "Ukraine"
         ],
         "legendgroup": "Europe",
         "marker": {
          "color": "#00cc96",
          "size": [
           1694.9731561296185,
           278.12587078515367,
           3007.1700982817715,
           3410.620764611627,
           2626.1483202591585,
           1806.504636030586,
           3072.9248282377494,
           2952.2015513849997,
           1102.5370742065775,
           3274.8363317882013,
           9159.720028472486,
           2411.0790115630803,
           6837.046950255643,
           1151.1681024072898,
           2355.495913815178,
           8088.644942139567,
           221.4791186545585,
           8258.759834260833,
           3220.3644203723284,
           2020.3111146553642,
           3103.8946502740714,
           292.2498930709813,
           2232.241922373111,
           585.9692824713596,
           7769.650635646368,
           195.5862980885931,
           1640.0798761036,
           796.7521571982093,
           1366.3579326077045,
           2005.9972582234502,
           1443.1427510818187,
           665.4246764285195,
           792.4966876902388,
           4144.043194755576,
           2337.868473631483,
           6147.926479716556,
           3188.718080984896,
           4373.5308390361215,
           12079.404869446178,
           2949.1603889920943,
           2336.8196336046135,
           1441.7777221194674,
           3187.5004313725194,
           6592.937281667406
          ],
          "sizemode": "area",
          "sizeref": 95.00710835248066,
          "symbol": "circle"
         },
         "mode": "markers",
         "name": "Europe",
         "orientation": "v",
         "showlegend": true,
         "type": "scatter",
         "x": [
          81,
          100,
          99.4285714285714,
          100,
          100,
          95,
          96,
          100,
          100,
          100,
          100,
          100,
          100,
          93,
          100,
          93,
          100,
          100,
          100,
          94.5,
          100,
          98,
          97,
          100,
          98,
          100,
          96,
          100,
          94,
          72,
          92,
          100,
          89,
          91,
          100,
          89,
          100,
          64,
          94,
          94,
          98,
          97.9821428571429,
          88,
          64
         ],
         "xaxis": "x",
         "y": [
          18.53325165978077,
          36.97870214420755,
          12.816588157146642,
          20.247020082770867,
          35.24522584983502,
          33.22187793999429,
          25.850909246188348,
          15.75652038911316,
          47.80524825847441,
          30.337778124688256,
          19.77949927655596,
          24.853185730333397,
          35.77224975101887,
          28.75794604057924,
          18.017174746704185,
          19.87795485506857,
          51.93361500020973,
          22.30300210962537,
          64.1746898802229,
          33.44220640147771,
          26.803279006371863,
          48.29441976320207,
          27.130758328800155,
          46.2200433884401,
          25.366683084497325,
          40,
          23.494420810957468,
          30.66487634235145,
          28.2731932969901,
          23.474734811156598,
          23.869779251471584,
          55.52409510682404,
          35.35309034955981,
          10.924989180961116,
          22.93574109086046,
          32.303609813670136,
          43.169346138375005,
          10.524349353175252,
          35.59559901491494,
          29.188137122931728,
          20.91793090159424,
          19.41323062264261,
          14.080898519425812,
          10.561001501043773
         ],
         "yaxis": "y"
        },
        {
         "hovertemplate": "<b>%{hovertext}</b><br><br>region=Americas<br>Nat Piped=%{x}<br>percent_without_water=%{y}<br>bubble_size=%{marker.size}<extra></extra>",
         "hovertext": [
          "Argentina",
          "Bahamas",
          "Belize",
          "Bolivia",
          "Brazil",
          "Canada",
          "Chile",
          "Colombia",
          "Costa Rica",
          "Cuba",
          "Dominican Republic",
          "Ecuador",
          "Falkland Islands",
          "Guadeloupe",
          "Grenada",
          "Greenland",
          "Guatemala",
          "French Guiana",
          "Guyana",
          "Honduras",
          "Haiti",
          "Jamaica",
          "Saint Lucia",
          "Mexico",
          "Montserrat",
          "Martinique",
          "Nicaragua",
          "Panama",
          "Peru",
          "Puerto Rico",
          "Paraguay",
          "El Salvador",
          "Suriname",
          "Trinidad and Tobago",
          "Uruguay",
          "United States",
          "Venezuela"
         ],
         "legendgroup": "Americas",
         "marker": {
          "color": "#ab63fa",
          "size": [
           6753.2083486295605,
           630.0111110131313,
           636.3293172564031,
           3439.903487018204,
           14628.514654605231,
           6169.920015689021,
           4383.19084686031,
           7160.016829589159,
           2266.947948233483,
           3364.1489265488826,
           3309.63955741407,
           4229.476799794509,
           59.39696961966999,
           632.4658093525688,
           336.17703669346605,
           238.47012391492564,
           4271.9864231994,
           553.579262617378,
           889.004499426184,
           3172.2222494648763,
           3397.3052556401226,
           1724.3729295022003,
           429.41937543618127,
           11413.24756587712,
           70.57619995437555,
           612.1625601096493,
           2588.895324264772,
           2093.2231128095254,
           5775.760988822166,
           1681.7389809361023,
           2686.9389646957,
           2553.1353273964933,
           769.284082767868,
           1184.6408738516495,
           1866.856180855933,
           18245.960484446965,
           5357.699786288888
          ],
          "sizemode": "area",
          "sizeref": 95.00710835248066,
          "symbol": "circle"
         },
         "mode": "markers",
         "name": "Americas",
         "orientation": "v",
         "showlegend": true,
         "type": "scatter",
         "x": [
          96,
          97,
          87,
          69,
          98,
          100,
          100,
          89,
          100,
          80,
          81,
          91,
          91,
          86.1428571428572,
          92,
          100,
          77,
          88,
          65,
          92,
          19,
          83,
          97,
          98,
          98,
          86.1428571428571,
          70,
          93,
          90,
          100,
          100,
          91,
          80,
          93,
          100,
          99,
          79
         ],
         "xaxis": "x",
         "y": [
          40.56951362458207,
          39.547223978408766,
          17.565796393638802,
          31.450012757111217,
          44.54514811999704,
          23.197922649937706,
          37.46323660749371,
          37.62892500095241,
          28.64967172094554,
          31.82545087567073,
          39.61044023954594,
          40.90944915122763,
          59.14275672602498,
          58.26827251355248,
          53.37459474216482,
          61.32396562708702,
          35.44404018950831,
          20.54876949498493,
          16.153652200787228,
          37.742854658754325,
          43.32575349242576,
          43.09453462193734,
          74.0130960688681,
          54.482695177977206,
          56.53775864446651,
          61.448998661488496,
          44.16135327756089,
          29.527681082348263,
          56.646198561172014,
          23.65367925460792,
          41.54195257387113,
          27.243772211458715,
          15.347531015010976,
          43.48818977744543,
          55.29493834044183,
          36.88056903108001,
          47.92217994742021
         ],
         "yaxis": "y"
        },
        {
         "hovertemplate": "<b>%{hovertext}</b><br><br>region=Oceania<br>Nat Piped=%{x}<br>percent_without_water=%{y}<br>bubble_size=%{marker.size}<extra></extra>",
         "hovertext": [
          "Australia",
          "Fiji",
          "New Caledonia",
          "New Zealand",
          "Papua New Guinea",
          "Solomon Islands",
          "Vanuatu",
          "Samoa"
         ],
         "legendgroup": "Oceania",
         "marker": {
          "color": "#FFA15A",
          "size": [
           5078.210019288293,
           950.209976794603,
           536.8584543434145,
           2204.6863722534326,
           3019.7690309028603,
           839.0440989602394,
           560.7708979610122,
           447.3745634253248
          ],
          "sizemode": "area",
          "sizeref": 95.00710835248066,
          "symbol": "circle"
         },
         "mode": "markers",
         "name": "Oceania",
         "orientation": "v",
         "showlegend": true,
         "type": "scatter",
         "x": [
          91,
          83,
          99,
          100,
          18,
          46,
          48,
          84
         ],
         "xaxis": "x",
         "y": [
          24.596050484025696,
          44.86417454902832,
          41.20406425067583,
          28.306227881161934,
          53.09228939470672,
          50.70594143686996,
          29.620225238678515,
          59.524552527008574
         ],
         "yaxis": "y"
        }
       ],
       "layout": {
        "font": {
         "size": 25
        },
        "height": 800,
        "legend": {
         "itemsizing": "constant",
         "title": {
          "text": "Region"
         },
         "tracegroupgap": 0
        },
        "margin": {
         "t": 60
        },
        "template": {
         "data": {
          "bar": [
           {
            "error_x": {
             "color": "#2a3f5f"
            },
            "error_y": {
             "color": "#2a3f5f"
            },
            "marker": {
             "line": {
              "color": "#E5ECF6",
              "width": 0.5
             },
             "pattern": {
              "fillmode": "overlay",
              "size": 10,
              "solidity": 0.2
             }
            },
            "type": "bar"
           }
          ],
          "barpolar": [
           {
            "marker": {
             "line": {
              "color": "#E5ECF6",
              "width": 0.5
             },
             "pattern": {
              "fillmode": "overlay",
              "size": 10,
              "solidity": 0.2
             }
            },
            "type": "barpolar"
           }
          ],
          "carpet": [
           {
            "aaxis": {
             "endlinecolor": "#2a3f5f",
             "gridcolor": "white",
             "linecolor": "white",
             "minorgridcolor": "white",
             "startlinecolor": "#2a3f5f"
            },
            "baxis": {
             "endlinecolor": "#2a3f5f",
             "gridcolor": "white",
             "linecolor": "white",
             "minorgridcolor": "white",
             "startlinecolor": "#2a3f5f"
            },
            "type": "carpet"
           }
          ],
          "choropleth": [
           {
            "colorbar": {
             "outlinewidth": 0,
             "ticks": ""
            },
            "type": "choropleth"
           }
          ],
          "contour": [
           {
            "colorbar": {
             "outlinewidth": 0,
             "ticks": ""
            },
            "colorscale": [
             [
              0,
              "#0d0887"
             ],
             [
              0.1111111111111111,
              "#46039f"
             ],
             [
              0.2222222222222222,
              "#7201a8"
             ],
             [
              0.3333333333333333,
              "#9c179e"
             ],
             [
              0.4444444444444444,
              "#bd3786"
             ],
             [
              0.5555555555555556,
              "#d8576b"
             ],
             [
              0.6666666666666666,
              "#ed7953"
             ],
             [
              0.7777777777777778,
              "#fb9f3a"
             ],
             [
              0.8888888888888888,
              "#fdca26"
             ],
             [
              1,
              "#f0f921"
             ]
            ],
            "type": "contour"
           }
          ],
          "contourcarpet": [
           {
            "colorbar": {
             "outlinewidth": 0,
             "ticks": ""
            },
            "type": "contourcarpet"
           }
          ],
          "heatmap": [
           {
            "colorbar": {
             "outlinewidth": 0,
             "ticks": ""
            },
            "colorscale": [
             [
              0,
              "#0d0887"
             ],
             [
              0.1111111111111111,
              "#46039f"
             ],
             [
              0.2222222222222222,
              "#7201a8"
             ],
             [
              0.3333333333333333,
              "#9c179e"
             ],
             [
              0.4444444444444444,
              "#bd3786"
             ],
             [
              0.5555555555555556,
              "#d8576b"
             ],
             [
              0.6666666666666666,
              "#ed7953"
             ],
             [
              0.7777777777777778,
              "#fb9f3a"
             ],
             [
              0.8888888888888888,
              "#fdca26"
             ],
             [
              1,
              "#f0f921"
             ]
            ],
            "type": "heatmap"
           }
          ],
          "heatmapgl": [
           {
            "colorbar": {
             "outlinewidth": 0,
             "ticks": ""
            },
            "colorscale": [
             [
              0,
              "#0d0887"
             ],
             [
              0.1111111111111111,
              "#46039f"
             ],
             [
              0.2222222222222222,
              "#7201a8"
             ],
             [
              0.3333333333333333,
              "#9c179e"
             ],
             [
              0.4444444444444444,
              "#bd3786"
             ],
             [
              0.5555555555555556,
              "#d8576b"
             ],
             [
              0.6666666666666666,
              "#ed7953"
             ],
             [
              0.7777777777777778,
              "#fb9f3a"
             ],
             [
              0.8888888888888888,
              "#fdca26"
             ],
             [
              1,
              "#f0f921"
             ]
            ],
            "type": "heatmapgl"
           }
          ],
          "histogram": [
           {
            "marker": {
             "pattern": {
              "fillmode": "overlay",
              "size": 10,
              "solidity": 0.2
             }
            },
            "type": "histogram"
           }
          ],
          "histogram2d": [
           {
            "colorbar": {
             "outlinewidth": 0,
             "ticks": ""
            },
            "colorscale": [
             [
              0,
              "#0d0887"
             ],
             [
              0.1111111111111111,
              "#46039f"
             ],
             [
              0.2222222222222222,
              "#7201a8"
             ],
             [
              0.3333333333333333,
              "#9c179e"
             ],
             [
              0.4444444444444444,
              "#bd3786"
             ],
             [
              0.5555555555555556,
              "#d8576b"
             ],
             [
              0.6666666666666666,
              "#ed7953"
             ],
             [
              0.7777777777777778,
              "#fb9f3a"
             ],
             [
              0.8888888888888888,
              "#fdca26"
             ],
             [
              1,
              "#f0f921"
             ]
            ],
            "type": "histogram2d"
           }
          ],
          "histogram2dcontour": [
           {
            "colorbar": {
             "outlinewidth": 0,
             "ticks": ""
            },
            "colorscale": [
             [
              0,
              "#0d0887"
             ],
             [
              0.1111111111111111,
              "#46039f"
             ],
             [
              0.2222222222222222,
              "#7201a8"
             ],
             [
              0.3333333333333333,
              "#9c179e"
             ],
             [
              0.4444444444444444,
              "#bd3786"
             ],
             [
              0.5555555555555556,
              "#d8576b"
             ],
             [
              0.6666666666666666,
              "#ed7953"
             ],
             [
              0.7777777777777778,
              "#fb9f3a"
             ],
             [
              0.8888888888888888,
              "#fdca26"
             ],
             [
              1,
              "#f0f921"
             ]
            ],
            "type": "histogram2dcontour"
           }
          ],
          "mesh3d": [
           {
            "colorbar": {
             "outlinewidth": 0,
             "ticks": ""
            },
            "type": "mesh3d"
           }
          ],
          "parcoords": [
           {
            "line": {
             "colorbar": {
              "outlinewidth": 0,
              "ticks": ""
             }
            },
            "type": "parcoords"
           }
          ],
          "pie": [
           {
            "automargin": true,
            "type": "pie"
           }
          ],
          "scatter": [
           {
            "fillpattern": {
             "fillmode": "overlay",
             "size": 10,
             "solidity": 0.2
            },
            "type": "scatter"
           }
          ],
          "scatter3d": [
           {
            "line": {
             "colorbar": {
              "outlinewidth": 0,
              "ticks": ""
             }
            },
            "marker": {
             "colorbar": {
              "outlinewidth": 0,
              "ticks": ""
             }
            },
            "type": "scatter3d"
           }
          ],
          "scattercarpet": [
           {
            "marker": {
             "colorbar": {
              "outlinewidth": 0,
              "ticks": ""
             }
            },
            "type": "scattercarpet"
           }
          ],
          "scattergeo": [
           {
            "marker": {
             "colorbar": {
              "outlinewidth": 0,
              "ticks": ""
             }
            },
            "type": "scattergeo"
           }
          ],
          "scattergl": [
           {
            "marker": {
             "colorbar": {
              "outlinewidth": 0,
              "ticks": ""
             }
            },
            "type": "scattergl"
           }
          ],
          "scattermapbox": [
           {
            "marker": {
             "colorbar": {
              "outlinewidth": 0,
              "ticks": ""
             }
            },
            "type": "scattermapbox"
           }
          ],
          "scatterpolar": [
           {
            "marker": {
             "colorbar": {
              "outlinewidth": 0,
              "ticks": ""
             }
            },
            "type": "scatterpolar"
           }
          ],
          "scatterpolargl": [
           {
            "marker": {
             "colorbar": {
              "outlinewidth": 0,
              "ticks": ""
             }
            },
            "type": "scatterpolargl"
           }
          ],
          "scatterternary": [
           {
            "marker": {
             "colorbar": {
              "outlinewidth": 0,
              "ticks": ""
             }
            },
            "type": "scatterternary"
           }
          ],
          "surface": [
           {
            "colorbar": {
             "outlinewidth": 0,
             "ticks": ""
            },
            "colorscale": [
             [
              0,
              "#0d0887"
             ],
             [
              0.1111111111111111,
              "#46039f"
             ],
             [
              0.2222222222222222,
              "#7201a8"
             ],
             [
              0.3333333333333333,
              "#9c179e"
             ],
             [
              0.4444444444444444,
              "#bd3786"
             ],
             [
              0.5555555555555556,
              "#d8576b"
             ],
             [
              0.6666666666666666,
              "#ed7953"
             ],
             [
              0.7777777777777778,
              "#fb9f3a"
             ],
             [
              0.8888888888888888,
              "#fdca26"
             ],
             [
              1,
              "#f0f921"
             ]
            ],
            "type": "surface"
           }
          ],
          "table": [
           {
            "cells": {
             "fill": {
              "color": "#EBF0F8"
             },
             "line": {
              "color": "white"
             }
            },
            "header": {
             "fill": {
              "color": "#C8D4E3"
             },
             "line": {
              "color": "white"
             }
            },
            "type": "table"
           }
          ]
         },
         "layout": {
          "annotationdefaults": {
           "arrowcolor": "#2a3f5f",
           "arrowhead": 0,
           "arrowwidth": 1
          },
          "autotypenumbers": "strict",
          "coloraxis": {
           "colorbar": {
            "outlinewidth": 0,
            "ticks": ""
           }
          },
          "colorscale": {
           "diverging": [
            [
             0,
             "#8e0152"
            ],
            [
             0.1,
             "#c51b7d"
            ],
            [
             0.2,
             "#de77ae"
            ],
            [
             0.3,
             "#f1b6da"
            ],
            [
             0.4,
             "#fde0ef"
            ],
            [
             0.5,
             "#f7f7f7"
            ],
            [
             0.6,
             "#e6f5d0"
            ],
            [
             0.7,
             "#b8e186"
            ],
            [
             0.8,
             "#7fbc41"
            ],
            [
             0.9,
             "#4d9221"
            ],
            [
             1,
             "#276419"
            ]
           ],
           "sequential": [
            [
             0,
             "#0d0887"
            ],
            [
             0.1111111111111111,
             "#46039f"
            ],
            [
             0.2222222222222222,
             "#7201a8"
            ],
            [
             0.3333333333333333,
             "#9c179e"
            ],
            [
             0.4444444444444444,
             "#bd3786"
            ],
            [
             0.5555555555555556,
             "#d8576b"
            ],
            [
             0.6666666666666666,
             "#ed7953"
            ],
            [
             0.7777777777777778,
             "#fb9f3a"
            ],
            [
             0.8888888888888888,
             "#fdca26"
            ],
            [
             1,
             "#f0f921"
            ]
           ],
           "sequentialminus": [
            [
             0,
             "#0d0887"
            ],
            [
             0.1111111111111111,
             "#46039f"
            ],
            [
             0.2222222222222222,
             "#7201a8"
            ],
            [
             0.3333333333333333,
             "#9c179e"
            ],
            [
             0.4444444444444444,
             "#bd3786"
            ],
            [
             0.5555555555555556,
             "#d8576b"
            ],
            [
             0.6666666666666666,
             "#ed7953"
            ],
            [
             0.7777777777777778,
             "#fb9f3a"
            ],
            [
             0.8888888888888888,
             "#fdca26"
            ],
            [
             1,
             "#f0f921"
            ]
           ]
          },
          "colorway": [
           "#636efa",
           "#EF553B",
           "#00cc96",
           "#ab63fa",
           "#FFA15A",
           "#19d3f3",
           "#FF6692",
           "#B6E880",
           "#FF97FF",
           "#FECB52"
          ],
          "font": {
           "color": "#2a3f5f"
          },
          "geo": {
           "bgcolor": "white",
           "lakecolor": "white",
           "landcolor": "#E5ECF6",
           "showlakes": true,
           "showland": true,
           "subunitcolor": "white"
          },
          "hoverlabel": {
           "align": "left"
          },
          "hovermode": "closest",
          "mapbox": {
           "style": "light"
          },
          "paper_bgcolor": "white",
          "plot_bgcolor": "#E5ECF6",
          "polar": {
           "angularaxis": {
            "gridcolor": "white",
            "linecolor": "white",
            "ticks": ""
           },
           "bgcolor": "#E5ECF6",
           "radialaxis": {
            "gridcolor": "white",
            "linecolor": "white",
            "ticks": ""
           }
          },
          "scene": {
           "xaxis": {
            "backgroundcolor": "#E5ECF6",
            "gridcolor": "white",
            "gridwidth": 2,
            "linecolor": "white",
            "showbackground": true,
            "ticks": "",
            "zerolinecolor": "white"
           },
           "yaxis": {
            "backgroundcolor": "#E5ECF6",
            "gridcolor": "white",
            "gridwidth": 2,
            "linecolor": "white",
            "showbackground": true,
            "ticks": "",
            "zerolinecolor": "white"
           },
           "zaxis": {
            "backgroundcolor": "#E5ECF6",
            "gridcolor": "white",
            "gridwidth": 2,
            "linecolor": "white",
            "showbackground": true,
            "ticks": "",
            "zerolinecolor": "white"
           }
          },
          "shapedefaults": {
           "line": {
            "color": "#2a3f5f"
           }
          },
          "ternary": {
           "aaxis": {
            "gridcolor": "white",
            "linecolor": "white",
            "ticks": ""
           },
           "baxis": {
            "gridcolor": "white",
            "linecolor": "white",
            "ticks": ""
           },
           "bgcolor": "#E5ECF6",
           "caxis": {
            "gridcolor": "white",
            "linecolor": "white",
            "ticks": ""
           }
          },
          "title": {
           "x": 0.05
          },
          "xaxis": {
           "automargin": true,
           "gridcolor": "white",
           "linecolor": "white",
           "ticks": "",
           "title": {
            "standoff": 15
           },
           "zerolinecolor": "white",
           "zerolinewidth": 2
          },
          "yaxis": {
           "automargin": true,
           "gridcolor": "white",
           "linecolor": "white",
           "ticks": "",
           "title": {
            "standoff": 15
           },
           "zerolinecolor": "white",
           "zerolinewidth": 2
          }
         }
        },
        "width": 1200,
        "xaxis": {
         "anchor": "y",
         "domain": [
          0,
          1
         ],
         "title": {
          "text": "Country piped water access (%)"
         }
        },
        "yaxis": {
         "anchor": "x",
         "domain": [
          0,
          1
         ],
         "title": {
          "text": "Country population without access to water (%)"
         }
        }
       }
      }
     },
     "metadata": {},
     "output_type": "display_data"
    }
   ],
   "source": [
    "# Piped water access by country\n",
    "# create bubble chart from df_countries comprising: access to water, piped water, and using population as the size of the bubble\n",
    "# create a new column for the size of the bubble\n",
    "\n",
    "# create bubble size column as log 20 of country_pop_raw\n",
    "country_medians[\"bubble_size\"] = country_medians[\"country_pop_raw\"] **0.5\n",
    "\n",
    "px.scatter(\n",
    "    country_medians, \n",
    "    y=\"percent_without_water\", \n",
    "    x=\"Nat Piped\", \n",
    "    size=\"bubble_size\", \n",
    "    color=\"region\", \n",
    "    hover_name=\"Entity\", \n",
    "    # title=\"Access to Water vs. Piped Water vs. Population\",\n",
    ").update_layout(\n",
    "    yaxis_title=\"Country population without access to water (%)\",\n",
    "    xaxis_title=\"Country piped water access (%)\",\n",
    "    legend_title=\"Region\",\n",
    "    width=1200,\n",
    "    height=800,\n",
    "    font=dict(size=25),\n",
    "    # xaxis_tickangle=-45,\n",
    "    # yaxis=dict(tickfont=dict(size=2)),\n",
    "    # title=dict(font=dict(size=20)),\n",
    ")"
   ]
  },
  {
   "cell_type": "code",
   "execution_count": 1,
   "metadata": {},
   "outputs": [
    {
     "ename": "NameError",
     "evalue": "name 'country_medians' is not defined",
     "output_type": "error",
     "traceback": [
      "\u001b[0;31m---------------------------------------------------------------------------\u001b[0m",
      "\u001b[0;31mNameError\u001b[0m                                 Traceback (most recent call last)",
      "Cell \u001b[0;32mIn[1], line 3\u001b[0m\n\u001b[1;32m      1\u001b[0m \u001b[38;5;66;03m# now using scipy\u001b[39;00m\n\u001b[1;32m      2\u001b[0m \u001b[38;5;28;01mfrom\u001b[39;00m \u001b[38;5;21;01mscipy\u001b[39;00m\u001b[38;5;21;01m.\u001b[39;00m\u001b[38;5;21;01mstats\u001b[39;00m \u001b[38;5;28;01mimport\u001b[39;00m spearmanr\n\u001b[0;32m----> 3\u001b[0m correlation_scipy \u001b[38;5;241m=\u001b[39m spearmanr(\u001b[43mcountry_medians\u001b[49m[\u001b[38;5;124m\"\u001b[39m\u001b[38;5;124mpercent_without_water\u001b[39m\u001b[38;5;124m\"\u001b[39m], country_medians[\u001b[38;5;124m\"\u001b[39m\u001b[38;5;124mNat Piped\u001b[39m\u001b[38;5;124m\"\u001b[39m])\n\u001b[1;32m      4\u001b[0m correlation_5th_scipy \u001b[38;5;241m=\u001b[39m spearmanr(country_5th_percentiles[\u001b[38;5;124m\"\u001b[39m\u001b[38;5;124mpercent_without_water\u001b[39m\u001b[38;5;124m\"\u001b[39m], country_5th_percentiles[\u001b[38;5;124m\"\u001b[39m\u001b[38;5;124mNat Piped\u001b[39m\u001b[38;5;124m\"\u001b[39m])\n\u001b[1;32m      5\u001b[0m correlation_95th_scipy \u001b[38;5;241m=\u001b[39m spearmanr(country_95th_percentiles[\u001b[38;5;124m\"\u001b[39m\u001b[38;5;124mpercent_without_water\u001b[39m\u001b[38;5;124m\"\u001b[39m], country_95th_percentiles[\u001b[38;5;124m\"\u001b[39m\u001b[38;5;124mNat Piped\u001b[39m\u001b[38;5;124m\"\u001b[39m])\n",
      "\u001b[0;31mNameError\u001b[0m: name 'country_medians' is not defined"
     ]
    }
   ],
   "source": [
    "# now using scipy\n",
    "from scipy.stats import spearmanr\n",
    "correlation_scipy = spearmanr(country_medians[\"percent_without_water\"], country_medians[\"Nat Piped\"])\n",
    "correlation_5th_scipy = spearmanr(country_5th_percentiles[\"percent_without_water\"], country_5th_percentiles[\"Nat Piped\"])\n",
    "correlation_95th_scipy = spearmanr(country_95th_percentiles[\"percent_without_water\"], country_95th_percentiles[\"Nat Piped\"])\n",
    "print(f\"Spearman correlation between percent_without_water and Nat Piped (median) using scipy: {correlation_scipy}\")\n",
    "print(f\"Spearman correlation between percent_without_water and Nat Piped (5th) using scipy: {correlation_5th_scipy}\")\n",
    "print(f\"Spearman correlation between percent_without_water and Nat Piped (95th) using scipy: {correlation_95th_scipy}\")"
   ]
  },
  {
   "cell_type": "code",
   "execution_count": null,
   "metadata": {},
   "outputs": [],
   "source": [
    "\n"
   ]
  }
 ],
 "metadata": {
  "kernelspec": {
   "display_name": "water-access",
   "language": "python",
   "name": "python3"
  },
  "language_info": {
   "codemirror_mode": {
    "name": "ipython",
    "version": 3
   },
   "file_extension": ".py",
   "mimetype": "text/x-python",
   "name": "python",
   "nbconvert_exporter": "python",
   "pygments_lexer": "ipython3",
   "version": "3.9.18"
  }
 },
 "nbformat": 4,
 "nbformat_minor": 2
}
