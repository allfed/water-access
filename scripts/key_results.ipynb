{
 "cells": [
  {
   "cell_type": "markdown",
   "metadata": {},
   "source": [
    "<div class=\"alert alert-info\">\n",
    "<h1> <b>Key Results</b> </h1>\n",
    "<br>\n",
    "Takes in results of Monte Carlo simulations and generates key results used in the paper. <br>\n",
    "Quotes are provided to give context for how results are used in the final publication\n",
    "</div>"
   ]
  },
  {
   "cell_type": "markdown",
   "metadata": {},
   "source": [
    "<div class=\"alert alert-info\">\n",
    "<b>Table of Contents</b> <br><br>\n",
    "1. <a href=\"#choropleths\">Data for Choropleths</a> <br>\n",
    "2. <a href=\"#overall\">Overall Access Numbers</a> <br>\n",
    "3. <a href=\"#cycling_walking\">Cycling vs Walking</a> <br>\n",
    "4. <a href=\"#piped\">Relationship between piped access and GCIL water access</a>\n",
    "</div>"
   ]
  },
  {
   "cell_type": "code",
   "execution_count": 21,
   "metadata": {},
   "outputs": [],
   "source": [
    "import pathlib\n",
    "import pandas as pd\n",
    "import numpy as np\n",
    "import matplotlib.pyplot as plt\n",
    "import plotly.express as px\n",
    "import weightedstats as ws\n",
    "from tabulate import tabulate\n",
    "from scipy.stats import spearmanr"
   ]
  },
  {
   "cell_type": "code",
   "execution_count": 22,
   "metadata": {},
   "outputs": [],
   "source": [
    "# Constants to save new results (will overwrite existing results)\n",
    "SAVE_CSVS = False\n",
    "SAVE_FIGURES = False"
   ]
  },
  {
   "cell_type": "code",
   "execution_count": 23,
   "metadata": {},
   "outputs": [
    {
     "ename": "FileNotFoundError",
     "evalue": "[Errno 2] No such file or directory: '../results/districts_mean_results.csv'",
     "output_type": "error",
     "traceback": [
      "\u001b[0;31m---------------------------------------------------------------------------\u001b[0m",
      "\u001b[0;31mFileNotFoundError\u001b[0m                         Traceback (most recent call last)",
      "Cell \u001b[0;32mIn[23], line 9\u001b[0m\n\u001b[1;32m      7\u001b[0m \u001b[38;5;66;03m# Read district-level results from Monte Carlo sims\u001b[39;00m\n\u001b[1;32m      8\u001b[0m district_medians \u001b[38;5;241m=\u001b[39m pd\u001b[38;5;241m.\u001b[39mread_csv(\u001b[38;5;124m\"\u001b[39m\u001b[38;5;124m../results/districts_median_results.csv\u001b[39m\u001b[38;5;124m\"\u001b[39m)\n\u001b[0;32m----> 9\u001b[0m district_means \u001b[38;5;241m=\u001b[39m \u001b[43mpd\u001b[49m\u001b[38;5;241;43m.\u001b[39;49m\u001b[43mread_csv\u001b[49m\u001b[43m(\u001b[49m\u001b[38;5;124;43m\"\u001b[39;49m\u001b[38;5;124;43m../results/districts_mean_results.csv\u001b[39;49m\u001b[38;5;124;43m\"\u001b[39;49m\u001b[43m)\u001b[49m\n\u001b[1;32m     10\u001b[0m district_5th_percentiles \u001b[38;5;241m=\u001b[39m pd\u001b[38;5;241m.\u001b[39mread_csv(\u001b[38;5;124m\"\u001b[39m\u001b[38;5;124m../results/districts_5th_percentile_results.csv\u001b[39m\u001b[38;5;124m\"\u001b[39m)\n\u001b[1;32m     11\u001b[0m district_95th_percentiles \u001b[38;5;241m=\u001b[39m pd\u001b[38;5;241m.\u001b[39mread_csv(\u001b[38;5;124m\"\u001b[39m\u001b[38;5;124m../results/districts_95th_percentile_results.csv\u001b[39m\u001b[38;5;124m\"\u001b[39m)\n",
      "File \u001b[0;32m~/miniforge3/envs/water-access/lib/python3.9/site-packages/pandas/util/_decorators.py:311\u001b[0m, in \u001b[0;36mdeprecate_nonkeyword_arguments.<locals>.decorate.<locals>.wrapper\u001b[0;34m(*args, **kwargs)\u001b[0m\n\u001b[1;32m    305\u001b[0m \u001b[38;5;28;01mif\u001b[39;00m \u001b[38;5;28mlen\u001b[39m(args) \u001b[38;5;241m>\u001b[39m num_allow_args:\n\u001b[1;32m    306\u001b[0m     warnings\u001b[38;5;241m.\u001b[39mwarn(\n\u001b[1;32m    307\u001b[0m         msg\u001b[38;5;241m.\u001b[39mformat(arguments\u001b[38;5;241m=\u001b[39marguments),\n\u001b[1;32m    308\u001b[0m         \u001b[38;5;167;01mFutureWarning\u001b[39;00m,\n\u001b[1;32m    309\u001b[0m         stacklevel\u001b[38;5;241m=\u001b[39mstacklevel,\n\u001b[1;32m    310\u001b[0m     )\n\u001b[0;32m--> 311\u001b[0m \u001b[38;5;28;01mreturn\u001b[39;00m \u001b[43mfunc\u001b[49m\u001b[43m(\u001b[49m\u001b[38;5;241;43m*\u001b[39;49m\u001b[43margs\u001b[49m\u001b[43m,\u001b[49m\u001b[43m \u001b[49m\u001b[38;5;241;43m*\u001b[39;49m\u001b[38;5;241;43m*\u001b[39;49m\u001b[43mkwargs\u001b[49m\u001b[43m)\u001b[49m\n",
      "File \u001b[0;32m~/miniforge3/envs/water-access/lib/python3.9/site-packages/pandas/io/parsers/readers.py:680\u001b[0m, in \u001b[0;36mread_csv\u001b[0;34m(filepath_or_buffer, sep, delimiter, header, names, index_col, usecols, squeeze, prefix, mangle_dupe_cols, dtype, engine, converters, true_values, false_values, skipinitialspace, skiprows, skipfooter, nrows, na_values, keep_default_na, na_filter, verbose, skip_blank_lines, parse_dates, infer_datetime_format, keep_date_col, date_parser, dayfirst, cache_dates, iterator, chunksize, compression, thousands, decimal, lineterminator, quotechar, quoting, doublequote, escapechar, comment, encoding, encoding_errors, dialect, error_bad_lines, warn_bad_lines, on_bad_lines, delim_whitespace, low_memory, memory_map, float_precision, storage_options)\u001b[0m\n\u001b[1;32m    665\u001b[0m kwds_defaults \u001b[38;5;241m=\u001b[39m _refine_defaults_read(\n\u001b[1;32m    666\u001b[0m     dialect,\n\u001b[1;32m    667\u001b[0m     delimiter,\n\u001b[0;32m   (...)\u001b[0m\n\u001b[1;32m    676\u001b[0m     defaults\u001b[38;5;241m=\u001b[39m{\u001b[38;5;124m\"\u001b[39m\u001b[38;5;124mdelimiter\u001b[39m\u001b[38;5;124m\"\u001b[39m: \u001b[38;5;124m\"\u001b[39m\u001b[38;5;124m,\u001b[39m\u001b[38;5;124m\"\u001b[39m},\n\u001b[1;32m    677\u001b[0m )\n\u001b[1;32m    678\u001b[0m kwds\u001b[38;5;241m.\u001b[39mupdate(kwds_defaults)\n\u001b[0;32m--> 680\u001b[0m \u001b[38;5;28;01mreturn\u001b[39;00m \u001b[43m_read\u001b[49m\u001b[43m(\u001b[49m\u001b[43mfilepath_or_buffer\u001b[49m\u001b[43m,\u001b[49m\u001b[43m \u001b[49m\u001b[43mkwds\u001b[49m\u001b[43m)\u001b[49m\n",
      "File \u001b[0;32m~/miniforge3/envs/water-access/lib/python3.9/site-packages/pandas/io/parsers/readers.py:575\u001b[0m, in \u001b[0;36m_read\u001b[0;34m(filepath_or_buffer, kwds)\u001b[0m\n\u001b[1;32m    572\u001b[0m _validate_names(kwds\u001b[38;5;241m.\u001b[39mget(\u001b[38;5;124m\"\u001b[39m\u001b[38;5;124mnames\u001b[39m\u001b[38;5;124m\"\u001b[39m, \u001b[38;5;28;01mNone\u001b[39;00m))\n\u001b[1;32m    574\u001b[0m \u001b[38;5;66;03m# Create the parser.\u001b[39;00m\n\u001b[0;32m--> 575\u001b[0m parser \u001b[38;5;241m=\u001b[39m \u001b[43mTextFileReader\u001b[49m\u001b[43m(\u001b[49m\u001b[43mfilepath_or_buffer\u001b[49m\u001b[43m,\u001b[49m\u001b[43m \u001b[49m\u001b[38;5;241;43m*\u001b[39;49m\u001b[38;5;241;43m*\u001b[39;49m\u001b[43mkwds\u001b[49m\u001b[43m)\u001b[49m\n\u001b[1;32m    577\u001b[0m \u001b[38;5;28;01mif\u001b[39;00m chunksize \u001b[38;5;129;01mor\u001b[39;00m iterator:\n\u001b[1;32m    578\u001b[0m     \u001b[38;5;28;01mreturn\u001b[39;00m parser\n",
      "File \u001b[0;32m~/miniforge3/envs/water-access/lib/python3.9/site-packages/pandas/io/parsers/readers.py:934\u001b[0m, in \u001b[0;36mTextFileReader.__init__\u001b[0;34m(self, f, engine, **kwds)\u001b[0m\n\u001b[1;32m    931\u001b[0m     \u001b[38;5;28mself\u001b[39m\u001b[38;5;241m.\u001b[39moptions[\u001b[38;5;124m\"\u001b[39m\u001b[38;5;124mhas_index_names\u001b[39m\u001b[38;5;124m\"\u001b[39m] \u001b[38;5;241m=\u001b[39m kwds[\u001b[38;5;124m\"\u001b[39m\u001b[38;5;124mhas_index_names\u001b[39m\u001b[38;5;124m\"\u001b[39m]\n\u001b[1;32m    933\u001b[0m \u001b[38;5;28mself\u001b[39m\u001b[38;5;241m.\u001b[39mhandles: IOHandles \u001b[38;5;241m|\u001b[39m \u001b[38;5;28;01mNone\u001b[39;00m \u001b[38;5;241m=\u001b[39m \u001b[38;5;28;01mNone\u001b[39;00m\n\u001b[0;32m--> 934\u001b[0m \u001b[38;5;28mself\u001b[39m\u001b[38;5;241m.\u001b[39m_engine \u001b[38;5;241m=\u001b[39m \u001b[38;5;28;43mself\u001b[39;49m\u001b[38;5;241;43m.\u001b[39;49m\u001b[43m_make_engine\u001b[49m\u001b[43m(\u001b[49m\u001b[43mf\u001b[49m\u001b[43m,\u001b[49m\u001b[43m \u001b[49m\u001b[38;5;28;43mself\u001b[39;49m\u001b[38;5;241;43m.\u001b[39;49m\u001b[43mengine\u001b[49m\u001b[43m)\u001b[49m\n",
      "File \u001b[0;32m~/miniforge3/envs/water-access/lib/python3.9/site-packages/pandas/io/parsers/readers.py:1218\u001b[0m, in \u001b[0;36mTextFileReader._make_engine\u001b[0;34m(self, f, engine)\u001b[0m\n\u001b[1;32m   1214\u001b[0m     mode \u001b[38;5;241m=\u001b[39m \u001b[38;5;124m\"\u001b[39m\u001b[38;5;124mrb\u001b[39m\u001b[38;5;124m\"\u001b[39m\n\u001b[1;32m   1215\u001b[0m \u001b[38;5;66;03m# error: No overload variant of \"get_handle\" matches argument types\u001b[39;00m\n\u001b[1;32m   1216\u001b[0m \u001b[38;5;66;03m# \"Union[str, PathLike[str], ReadCsvBuffer[bytes], ReadCsvBuffer[str]]\"\u001b[39;00m\n\u001b[1;32m   1217\u001b[0m \u001b[38;5;66;03m# , \"str\", \"bool\", \"Any\", \"Any\", \"Any\", \"Any\", \"Any\"\u001b[39;00m\n\u001b[0;32m-> 1218\u001b[0m \u001b[38;5;28mself\u001b[39m\u001b[38;5;241m.\u001b[39mhandles \u001b[38;5;241m=\u001b[39m \u001b[43mget_handle\u001b[49m\u001b[43m(\u001b[49m\u001b[43m  \u001b[49m\u001b[38;5;66;43;03m# type: ignore[call-overload]\u001b[39;49;00m\n\u001b[1;32m   1219\u001b[0m \u001b[43m    \u001b[49m\u001b[43mf\u001b[49m\u001b[43m,\u001b[49m\n\u001b[1;32m   1220\u001b[0m \u001b[43m    \u001b[49m\u001b[43mmode\u001b[49m\u001b[43m,\u001b[49m\n\u001b[1;32m   1221\u001b[0m \u001b[43m    \u001b[49m\u001b[43mencoding\u001b[49m\u001b[38;5;241;43m=\u001b[39;49m\u001b[38;5;28;43mself\u001b[39;49m\u001b[38;5;241;43m.\u001b[39;49m\u001b[43moptions\u001b[49m\u001b[38;5;241;43m.\u001b[39;49m\u001b[43mget\u001b[49m\u001b[43m(\u001b[49m\u001b[38;5;124;43m\"\u001b[39;49m\u001b[38;5;124;43mencoding\u001b[39;49m\u001b[38;5;124;43m\"\u001b[39;49m\u001b[43m,\u001b[49m\u001b[43m \u001b[49m\u001b[38;5;28;43;01mNone\u001b[39;49;00m\u001b[43m)\u001b[49m\u001b[43m,\u001b[49m\n\u001b[1;32m   1222\u001b[0m \u001b[43m    \u001b[49m\u001b[43mcompression\u001b[49m\u001b[38;5;241;43m=\u001b[39;49m\u001b[38;5;28;43mself\u001b[39;49m\u001b[38;5;241;43m.\u001b[39;49m\u001b[43moptions\u001b[49m\u001b[38;5;241;43m.\u001b[39;49m\u001b[43mget\u001b[49m\u001b[43m(\u001b[49m\u001b[38;5;124;43m\"\u001b[39;49m\u001b[38;5;124;43mcompression\u001b[39;49m\u001b[38;5;124;43m\"\u001b[39;49m\u001b[43m,\u001b[49m\u001b[43m \u001b[49m\u001b[38;5;28;43;01mNone\u001b[39;49;00m\u001b[43m)\u001b[49m\u001b[43m,\u001b[49m\n\u001b[1;32m   1223\u001b[0m \u001b[43m    \u001b[49m\u001b[43mmemory_map\u001b[49m\u001b[38;5;241;43m=\u001b[39;49m\u001b[38;5;28;43mself\u001b[39;49m\u001b[38;5;241;43m.\u001b[39;49m\u001b[43moptions\u001b[49m\u001b[38;5;241;43m.\u001b[39;49m\u001b[43mget\u001b[49m\u001b[43m(\u001b[49m\u001b[38;5;124;43m\"\u001b[39;49m\u001b[38;5;124;43mmemory_map\u001b[39;49m\u001b[38;5;124;43m\"\u001b[39;49m\u001b[43m,\u001b[49m\u001b[43m \u001b[49m\u001b[38;5;28;43;01mFalse\u001b[39;49;00m\u001b[43m)\u001b[49m\u001b[43m,\u001b[49m\n\u001b[1;32m   1224\u001b[0m \u001b[43m    \u001b[49m\u001b[43mis_text\u001b[49m\u001b[38;5;241;43m=\u001b[39;49m\u001b[43mis_text\u001b[49m\u001b[43m,\u001b[49m\n\u001b[1;32m   1225\u001b[0m \u001b[43m    \u001b[49m\u001b[43merrors\u001b[49m\u001b[38;5;241;43m=\u001b[39;49m\u001b[38;5;28;43mself\u001b[39;49m\u001b[38;5;241;43m.\u001b[39;49m\u001b[43moptions\u001b[49m\u001b[38;5;241;43m.\u001b[39;49m\u001b[43mget\u001b[49m\u001b[43m(\u001b[49m\u001b[38;5;124;43m\"\u001b[39;49m\u001b[38;5;124;43mencoding_errors\u001b[39;49m\u001b[38;5;124;43m\"\u001b[39;49m\u001b[43m,\u001b[49m\u001b[43m \u001b[49m\u001b[38;5;124;43m\"\u001b[39;49m\u001b[38;5;124;43mstrict\u001b[39;49m\u001b[38;5;124;43m\"\u001b[39;49m\u001b[43m)\u001b[49m\u001b[43m,\u001b[49m\n\u001b[1;32m   1226\u001b[0m \u001b[43m    \u001b[49m\u001b[43mstorage_options\u001b[49m\u001b[38;5;241;43m=\u001b[39;49m\u001b[38;5;28;43mself\u001b[39;49m\u001b[38;5;241;43m.\u001b[39;49m\u001b[43moptions\u001b[49m\u001b[38;5;241;43m.\u001b[39;49m\u001b[43mget\u001b[49m\u001b[43m(\u001b[49m\u001b[38;5;124;43m\"\u001b[39;49m\u001b[38;5;124;43mstorage_options\u001b[39;49m\u001b[38;5;124;43m\"\u001b[39;49m\u001b[43m,\u001b[49m\u001b[43m \u001b[49m\u001b[38;5;28;43;01mNone\u001b[39;49;00m\u001b[43m)\u001b[49m\u001b[43m,\u001b[49m\n\u001b[1;32m   1227\u001b[0m \u001b[43m\u001b[49m\u001b[43m)\u001b[49m\n\u001b[1;32m   1228\u001b[0m \u001b[38;5;28;01massert\u001b[39;00m \u001b[38;5;28mself\u001b[39m\u001b[38;5;241m.\u001b[39mhandles \u001b[38;5;129;01mis\u001b[39;00m \u001b[38;5;129;01mnot\u001b[39;00m \u001b[38;5;28;01mNone\u001b[39;00m\n\u001b[1;32m   1229\u001b[0m f \u001b[38;5;241m=\u001b[39m \u001b[38;5;28mself\u001b[39m\u001b[38;5;241m.\u001b[39mhandles\u001b[38;5;241m.\u001b[39mhandle\n",
      "File \u001b[0;32m~/miniforge3/envs/water-access/lib/python3.9/site-packages/pandas/io/common.py:786\u001b[0m, in \u001b[0;36mget_handle\u001b[0;34m(path_or_buf, mode, encoding, compression, memory_map, is_text, errors, storage_options)\u001b[0m\n\u001b[1;32m    781\u001b[0m \u001b[38;5;28;01melif\u001b[39;00m \u001b[38;5;28misinstance\u001b[39m(handle, \u001b[38;5;28mstr\u001b[39m):\n\u001b[1;32m    782\u001b[0m     \u001b[38;5;66;03m# Check whether the filename is to be opened in binary mode.\u001b[39;00m\n\u001b[1;32m    783\u001b[0m     \u001b[38;5;66;03m# Binary mode does not support 'encoding' and 'newline'.\u001b[39;00m\n\u001b[1;32m    784\u001b[0m     \u001b[38;5;28;01mif\u001b[39;00m ioargs\u001b[38;5;241m.\u001b[39mencoding \u001b[38;5;129;01mand\u001b[39;00m \u001b[38;5;124m\"\u001b[39m\u001b[38;5;124mb\u001b[39m\u001b[38;5;124m\"\u001b[39m \u001b[38;5;129;01mnot\u001b[39;00m \u001b[38;5;129;01min\u001b[39;00m ioargs\u001b[38;5;241m.\u001b[39mmode:\n\u001b[1;32m    785\u001b[0m         \u001b[38;5;66;03m# Encoding\u001b[39;00m\n\u001b[0;32m--> 786\u001b[0m         handle \u001b[38;5;241m=\u001b[39m \u001b[38;5;28;43mopen\u001b[39;49m\u001b[43m(\u001b[49m\n\u001b[1;32m    787\u001b[0m \u001b[43m            \u001b[49m\u001b[43mhandle\u001b[49m\u001b[43m,\u001b[49m\n\u001b[1;32m    788\u001b[0m \u001b[43m            \u001b[49m\u001b[43mioargs\u001b[49m\u001b[38;5;241;43m.\u001b[39;49m\u001b[43mmode\u001b[49m\u001b[43m,\u001b[49m\n\u001b[1;32m    789\u001b[0m \u001b[43m            \u001b[49m\u001b[43mencoding\u001b[49m\u001b[38;5;241;43m=\u001b[39;49m\u001b[43mioargs\u001b[49m\u001b[38;5;241;43m.\u001b[39;49m\u001b[43mencoding\u001b[49m\u001b[43m,\u001b[49m\n\u001b[1;32m    790\u001b[0m \u001b[43m            \u001b[49m\u001b[43merrors\u001b[49m\u001b[38;5;241;43m=\u001b[39;49m\u001b[43merrors\u001b[49m\u001b[43m,\u001b[49m\n\u001b[1;32m    791\u001b[0m \u001b[43m            \u001b[49m\u001b[43mnewline\u001b[49m\u001b[38;5;241;43m=\u001b[39;49m\u001b[38;5;124;43m\"\u001b[39;49m\u001b[38;5;124;43m\"\u001b[39;49m\u001b[43m,\u001b[49m\n\u001b[1;32m    792\u001b[0m \u001b[43m        \u001b[49m\u001b[43m)\u001b[49m\n\u001b[1;32m    793\u001b[0m     \u001b[38;5;28;01melse\u001b[39;00m:\n\u001b[1;32m    794\u001b[0m         \u001b[38;5;66;03m# Binary mode\u001b[39;00m\n\u001b[1;32m    795\u001b[0m         handle \u001b[38;5;241m=\u001b[39m \u001b[38;5;28mopen\u001b[39m(handle, ioargs\u001b[38;5;241m.\u001b[39mmode)\n",
      "\u001b[0;31mFileNotFoundError\u001b[0m: [Errno 2] No such file or directory: '../results/districts_mean_results.csv'"
     ]
    }
   ],
   "source": [
    "# Read country-level results from Monte Carlo sims\n",
    "country_medians = pd.read_csv(\"../results/country_median_results.csv\")\n",
    "country_means = pd.read_csv(\"../results/country_mean_results.csv\")\n",
    "country_5th_percentiles = pd.read_csv(\"../results/country_5th_percentile_results.csv\")\n",
    "country_95th_percentiles = pd.read_csv(\"../results/country_95th_percentile_results.csv\")\n",
    "\n",
    "# Read district-level results from Monte Carlo sims\n",
    "district_medians = pd.read_csv(\"../results/districts_median_results.csv\")\n",
    "district_means = pd.read_csv(\"../results/districts_mean_results.csv\")\n",
    "district_5th_percentiles = pd.read_csv(\"../results/districts_5th_percentile_results.csv\")\n",
    "district_95th_percentiles = pd.read_csv(\"../results/districts_95th_percentile_results.csv\")\n",
    "\n",
    "# Create simple one-row dataframes with global data\n",
    "global_median = country_medians[country_medians[\"ISOCODE\"] == \"GLOBAL\"].reset_index(drop=True)\n",
    "global_mean = country_means[country_means[\"ISOCODE\"] == \"GLOBAL\"].reset_index(drop=True)\n",
    "global_5th_percentile = country_5th_percentiles[country_5th_percentiles[\"ISOCODE\"] == \"GLOBAL\"].reset_index(drop=True)\n",
    "global_95th_percentile = country_95th_percentiles[country_95th_percentiles[\"ISOCODE\"] == \"GLOBAL\"].reset_index(drop=True)\n",
    "\n",
    "# Drop global from all dataframes\n",
    "country_medians = country_medians[country_medians[\"ISOCODE\"] != \"GLOBAL\"]\n",
    "country_means = country_means[country_means[\"ISOCODE\"] != \"GLOBAL\"]\n",
    "country_5th_percentiles = country_5th_percentiles[country_5th_percentiles[\"ISOCODE\"] != \"GLOBAL\"]\n",
    "country_95th_percentiles = country_95th_percentiles[country_95th_percentiles[\"ISOCODE\"] != \"GLOBAL\"]\n",
    "# No need to drop from district-level dataframes as they don't have a global entry\n"
   ]
  },
  {
   "cell_type": "code",
   "execution_count": null,
   "metadata": {},
   "outputs": [
    {
     "data": {
      "text/html": [
       "<div>\n",
       "<style scoped>\n",
       "    .dataframe tbody tr th:only-of-type {\n",
       "        vertical-align: middle;\n",
       "    }\n",
       "\n",
       "    .dataframe tbody tr th {\n",
       "        vertical-align: top;\n",
       "    }\n",
       "\n",
       "    .dataframe thead th {\n",
       "        text-align: right;\n",
       "    }\n",
       "</style>\n",
       "<table border=\"1\" class=\"dataframe\">\n",
       "  <thead>\n",
       "    <tr style=\"text-align: right;\">\n",
       "      <th></th>\n",
       "      <th>Unnamed: 0</th>\n",
       "      <th>ISOCODE</th>\n",
       "      <th>country_pop_raw</th>\n",
       "      <th>country_pop_with_water</th>\n",
       "      <th>country_pop_without_water</th>\n",
       "      <th>population_piped_with_access</th>\n",
       "      <th>population_piped_with_cycling_access</th>\n",
       "      <th>population_piped_with_walking_access</th>\n",
       "      <th>population_piped_with_only_cycling_access</th>\n",
       "      <th>NATPiped</th>\n",
       "      <th>...</th>\n",
       "      <th>weighted_95th_walking</th>\n",
       "      <th>percent_with_water</th>\n",
       "      <th>percent_without_water</th>\n",
       "      <th>percent_piped_with_cycling_access</th>\n",
       "      <th>percent_piped_with_walking_access</th>\n",
       "      <th>proportion_piped_access_from_cycling</th>\n",
       "      <th>percent_with_only_cycling_access</th>\n",
       "      <th>Entity</th>\n",
       "      <th>region</th>\n",
       "      <th>subregion</th>\n",
       "    </tr>\n",
       "  </thead>\n",
       "  <tbody>\n",
       "    <tr>\n",
       "      <th>0</th>\n",
       "      <td>59</td>\n",
       "      <td>GLOBAL</td>\n",
       "      <td>7.849191e+09</td>\n",
       "      <td>6.004312e+09</td>\n",
       "      <td>1.843789e+09</td>\n",
       "      <td>3.210513e+09</td>\n",
       "      <td>2.110244e+09</td>\n",
       "      <td>2.232672e+09</td>\n",
       "      <td>9.701135e+08</td>\n",
       "      <td>NaN</td>\n",
       "      <td>...</td>\n",
       "      <td>3.793616</td>\n",
       "      <td>76.495941</td>\n",
       "      <td>23.490179</td>\n",
       "      <td>26.884863</td>\n",
       "      <td>28.44461</td>\n",
       "      <td>30.508709</td>\n",
       "      <td>12.359408</td>\n",
       "      <td>Global</td>\n",
       "      <td>NaN</td>\n",
       "      <td>NaN</td>\n",
       "    </tr>\n",
       "  </tbody>\n",
       "</table>\n",
       "<p>1 rows × 26 columns</p>\n",
       "</div>"
      ],
      "text/plain": [
       "   Unnamed: 0 ISOCODE  country_pop_raw  country_pop_with_water  \\\n",
       "0          59  GLOBAL     7.849191e+09            6.004312e+09   \n",
       "\n",
       "   country_pop_without_water  population_piped_with_access  \\\n",
       "0               1.843789e+09                  3.210513e+09   \n",
       "\n",
       "   population_piped_with_cycling_access  population_piped_with_walking_access  \\\n",
       "0                          2.110244e+09                          2.232672e+09   \n",
       "\n",
       "   population_piped_with_only_cycling_access  NATPiped  ...  \\\n",
       "0                               9.701135e+08       NaN  ...   \n",
       "\n",
       "   weighted_95th_walking  percent_with_water  percent_without_water  \\\n",
       "0               3.793616           76.495941              23.490179   \n",
       "\n",
       "   percent_piped_with_cycling_access  percent_piped_with_walking_access  \\\n",
       "0                          26.884863                           28.44461   \n",
       "\n",
       "   proportion_piped_access_from_cycling  percent_with_only_cycling_access  \\\n",
       "0                             30.508709                         12.359408   \n",
       "\n",
       "   Entity  region  subregion  \n",
       "0  Global     NaN        NaN  \n",
       "\n",
       "[1 rows x 26 columns]"
      ]
     },
     "execution_count": 4,
     "metadata": {},
     "output_type": "execute_result"
    }
   ],
   "source": [
    "global_median"
   ]
  },
  {
   "cell_type": "code",
   "execution_count": 5,
   "metadata": {},
   "outputs": [],
   "source": [
    "# Create formatted country results with 90% CIs\n",
    "\n",
    "# Read the CSV files\n",
    "median_df = country_medians\n",
    "p5_df = country_5th_percentiles\n",
    "p95_df = country_95th_percentiles\n",
    "output_file = '../results/country_CI_results.csv'\n",
    "\n",
    "# Function to rename columns (excluding identifiers)\n",
    "def rename_columns(df, suffix):\n",
    "    cols = df.columns.tolist()\n",
    "    rename_dict = {}\n",
    "    for col in cols:\n",
    "        if col not in ['ISOCODE', 'Entity', 'region', 'subregion']:\n",
    "            rename_dict[col] = f\"{col}_{suffix}\"\n",
    "    df = df.rename(columns=rename_dict)\n",
    "    return df\n",
    "\n",
    "# Rename columns in each DataFrame\n",
    "median_df = rename_columns(median_df, 'median')\n",
    "p5_df = rename_columns(p5_df, 'p5')\n",
    "p95_df = rename_columns(p95_df, 'p95')\n",
    "\n",
    "# Merge the DataFrames on common identifiers\n",
    "df = median_df.merge(p5_df, on=['ISOCODE', 'Entity', 'region', 'subregion'])\n",
    "df = df.merge(p95_df, on=['ISOCODE', 'Entity', 'region', 'subregion'])\n",
    "\n",
    "# List of metrics to calculate CI for\n",
    "metrics = [\n",
    "    'percent_with_water',\n",
    "    'percent_without_water',\n",
    "    'percent_piped_with_cycling_access',\n",
    "    'percent_piped_with_walking_access',\n",
    "    'percent_with_only_cycling_access',\n",
    "    # Add other metrics as needed\n",
    "]\n",
    "\n",
    "# Initialize a new DataFrame to store results\n",
    "results_df = pd.DataFrame()\n",
    "results_df['ISOCODE'] = df['ISOCODE']\n",
    "results_df['Entity'] = df['Entity']\n",
    "results_df['region'] = df['region']\n",
    "results_df['subregion'] = df['subregion']\n",
    "\n",
    "# For each metric, add median values and CI strings\n",
    "for metric in metrics:\n",
    "    median_col = metric + '_median'\n",
    "    p5_col = metric + '_p5'\n",
    "    p95_col = metric + '_p95'\n",
    "\n",
    "    # Extract the median, p5, and p95 values\n",
    "    median_values = df[median_col]\n",
    "    p5_values = df[p5_col]\n",
    "    p95_values = df[p95_col]\n",
    "\n",
    "    # Add the median values as numeric columns\n",
    "    results_df[metric + '_median'] = median_values\n",
    "\n",
    "    # Create the CI string\n",
    "    ci_strings = median_values.round(1).astype(str) + '% (90% CI ' + \\\n",
    "                 p5_values.round(1).astype(str) + '–' + \\\n",
    "                 p95_values.round(1).astype(str) + '%)'\n",
    "\n",
    "    # Add the formatted string to the results DataFrame\n",
    "    results_df[metric + '_CI'] = ci_strings\n",
    "\n",
    "# Save the results to a CSV file\n",
    "if SAVE_CSVS:\n",
    "    results_df.to_csv(output_file, index=False)"
   ]
  },
  {
   "cell_type": "code",
   "execution_count": null,
   "metadata": {},
   "outputs": [
    {
     "name": "stdout",
     "output_type": "stream",
     "text": [
      "             median  5th_percentile  95th_percentile formatted_results\n",
      "region                                                                \n",
      "Americas  37.867498       25.593881        53.332844  37.9 (25.6–53.3)\n",
      "Europe    23.618637       11.691853        41.185440  23.6 (11.7–41.2)\n",
      "Africa    22.389855       15.826232        30.021492  22.4 (15.8–30.0)\n",
      "Asia      20.629464       12.805813        31.384983  20.6 (12.8–31.4)\n",
      "Oceania   17.966750        9.440304        31.580252   18.0 (9.4–31.6)\n",
      "                                    median  5th_percentile  95th_percentile  \\\n",
      "subregion                                                                     \n",
      "Polynesia                        67.375802       43.636413        84.927880   \n",
      "Western Asia                     53.553256       42.506040        65.737258   \n",
      "Northern Africa                  44.649543       33.963872        59.919310   \n",
      "Latin America and the Caribbean  40.681992       28.341901        55.925678   \n",
      "Northern America                 32.901165       20.744847        48.757642   \n",
      "Southern Europe                  30.524782       18.980832        48.620490   \n",
      "Central Asia                     28.751221       19.461137        44.105943   \n",
      "Eastern Europe                   27.269297       13.130311        45.709188   \n",
      "Australia and New Zealand        21.491355       12.159229        38.141729   \n",
      "Micronesia                       20.825327       17.029262        25.360923   \n",
      "Eastern Asia                     20.697465       11.230866        34.487766   \n",
      "Northern Europe                  18.772329        7.198034        35.559338   \n",
      "Southern Asia                    17.896082       11.477507        26.420011   \n",
      "Sub-Saharan Africa               17.409059       11.767780        23.331599   \n",
      "Western Europe                   15.475271        6.353719        31.756487   \n",
      "South-eastern Asia               14.112335        7.755462        22.729959   \n",
      "Melanesia                         7.281776        1.259958        12.408240   \n",
      "\n",
      "                                formatted_results  \n",
      "subregion                                          \n",
      "Polynesia                        67.4 (43.6–84.9)  \n",
      "Western Asia                     53.6 (42.5–65.7)  \n",
      "Northern Africa                  44.6 (34.0–59.9)  \n",
      "Latin America and the Caribbean  40.7 (28.3–55.9)  \n",
      "Northern America                 32.9 (20.7–48.8)  \n",
      "Southern Europe                  30.5 (19.0–48.6)  \n",
      "Central Asia                     28.8 (19.5–44.1)  \n",
      "Eastern Europe                   27.3 (13.1–45.7)  \n",
      "Australia and New Zealand        21.5 (12.2–38.1)  \n",
      "Micronesia                       20.8 (17.0–25.4)  \n",
      "Eastern Asia                     20.7 (11.2–34.5)  \n",
      "Northern Europe                   18.8 (7.2–35.6)  \n",
      "Southern Asia                    17.9 (11.5–26.4)  \n",
      "Sub-Saharan Africa               17.4 (11.8–23.3)  \n",
      "Western Europe                    15.5 (6.4–31.8)  \n",
      "South-eastern Asia                14.1 (7.8–22.7)  \n",
      "Melanesia                          7.3 (1.3–12.4)  \n"
     ]
    }
   ],
   "source": [
    "# Define a function to calculate percent without water\n",
    "def calculate_percent(df, group):\n",
    "    data = df.groupby(group).sum()\n",
    "    percent_without_water = (data['country_pop_without_water'] / data['country_pop_raw']) * 100\n",
    "    return percent_without_water\n",
    "\n",
    "# Calculate percent without water for each DataFrame\n",
    "region_percent_without_water_median = calculate_percent(country_medians, \"region\")\n",
    "region_percent_without_water_5th = calculate_percent(country_5th_percentiles, \"region\")\n",
    "region_percent_without_water_95th = calculate_percent(country_95th_percentiles, \"region\")\n",
    "\n",
    "# Merge results into a single DataFrame\n",
    "region_percent_without_water = pd.DataFrame({\n",
    "    'median': region_percent_without_water_median,\n",
    "    '5th_percentile': region_percent_without_water_5th,\n",
    "    '95th_percentile': region_percent_without_water_95th\n",
    "})\n",
    "\n",
    "# Repeat for subregions\n",
    "subregion_percent_without_water_median = calculate_percent(country_medians, \"subregion\")\n",
    "subregion_percent_without_water_5th = calculate_percent(country_5th_percentiles, \"subregion\")\n",
    "subregion_percent_without_water_95th = calculate_percent(country_95th_percentiles, \"subregion\")\n",
    "\n",
    "# Merge results into a single DataFrame\n",
    "subregion_percent_without_water = pd.DataFrame({\n",
    "    'median': subregion_percent_without_water_median,\n",
    "    '5th_percentile': subregion_percent_without_water_5th,\n",
    "    '95th_percentile': subregion_percent_without_water_95th\n",
    "})\n",
    "\n",
    "# Define formatting function\n",
    "def format_results(row):\n",
    "    median = round(row['median'], 1)\n",
    "    p5th = round(row['5th_percentile'], 1)\n",
    "    p95th = round(row['95th_percentile'], 1)\n",
    "    return f\"{median} ({p5th}–{p95th})\"\n",
    "\n",
    "# Apply formatting function to each row\n",
    "region_percent_without_water['formatted_results'] = region_percent_without_water.apply(format_results, axis=1)\n",
    "subregion_percent_without_water['formatted_results'] = subregion_percent_without_water.apply(format_results, axis=1)\n",
    "\n",
    "# Print results\n",
    "print(region_percent_without_water.sort_values(by='median', ascending=False))\n",
    "print(subregion_percent_without_water.sort_values(by='median', ascending=False))\n",
    "\n",
    "if SAVE_CSVS:\n",
    "    region_percent_without_water.to_csv(\"../results/region_results.csv\", index=True)\n",
    "    subregion_percent_without_water.to_csv(\"../results/subregion_results.csv\", index=True)"
   ]
  },
  {
   "cell_type": "markdown",
   "metadata": {},
   "source": [
    "<div class=\"alert alert-info\">\n",
    "<h3> <b>1. Data for Choropleths </b> </h3>\n",
    "<a id=\"choropleths\"></a>\n",
    "Simplified data to export to Datawrapper for making maps of water access loss in GCIL.\n",
    "</div>"
   ]
  },
  {
   "cell_type": "markdown",
   "metadata": {},
   "source": [
    "<div class=\"alert alert-info\">\n",
    "<h3> <b>2. Overall Access Numbers </b> </h3>\n",
    "<a id=\"overall\"></a>\n",
    "Overall access (walking and cycling) for the world, and select countries\n",
    "</div>"
   ]
  },
  {
   "cell_type": "code",
   "execution_count": 7,
   "metadata": {},
   "outputs": [],
   "source": [
    "#add required extras\n",
    "country_means[\"percent_piped_with_access\"] = country_means[\"population_piped_with_access\"] / country_means[\"country_pop_raw\"] * 100\n",
    "country_means[\"piped_calculated\"] = country_means[\"percent_without_water\"] + country_means[\"percent_piped_with_access\"]\n",
    "\n",
    "# Add required extras for 5th percentiles\n",
    "country_5th_percentiles[\"percent_piped_with_access\"] = country_5th_percentiles[\"population_piped_with_access\"] / country_5th_percentiles[\"country_pop_raw\"] * 100\n",
    "country_5th_percentiles[\"piped_calculated\"] = country_5th_percentiles[\"percent_without_water\"] + country_5th_percentiles[\"percent_piped_with_access\"]\n",
    "\n",
    "# Add required extras for 95th percentiles\n",
    "country_95th_percentiles[\"percent_piped_with_access\"] = country_95th_percentiles[\"population_piped_with_access\"] / country_95th_percentiles[\"country_pop_raw\"] * 100\n",
    "country_95th_percentiles[\"piped_calculated\"] = country_95th_percentiles[\"percent_without_water\"] + country_95th_percentiles[\"percent_piped_with_access\"]\n",
    "\n",
    "\n",
    "country_medians[\"percent_piped_with_access\"] = country_medians[\"population_piped_with_access\"] / country_medians[\"country_pop_raw\"] * 100\n",
    "country_medians[\"piped_calculated\"] = country_medians[\"percent_without_water\"] + country_medians[\"percent_piped_with_access\"]\n"
   ]
  },
  {
   "cell_type": "code",
   "execution_count": 8,
   "metadata": {},
   "outputs": [
    {
     "name": "stdout",
     "output_type": "stream",
     "text": [
      "Global median percentage without water: 0.23460757580356487\n",
      "Global 5th percentile percentage without water: 0.14881016785980883\n",
      "Global 95th percentile percentage without water: 0.34950162499014\n",
      "\n",
      "Global median percentage with water: 0.7652535872110314\n",
      "\n"
     ]
    }
   ],
   "source": [
    "# Overall global population without water\n",
    "global_median_percentage_without_water = country_medians[\"country_pop_without_water\"].sum() / country_medians[\"country_pop_raw\"].sum()\n",
    "global_5th_percentage_without_water = country_5th_percentiles[\"country_pop_without_water\"].sum() / country_5th_percentiles[\"country_pop_raw\"].sum()\n",
    "global_95th_percentage_without_water = country_95th_percentiles[\"country_pop_without_water\"].sum() / country_95th_percentiles[\"country_pop_raw\"].sum()\n",
    "\n",
    "global_median_percentage_with_water = country_medians[\"country_pop_with_water\"].sum() / country_medians[\"country_pop_raw\"].sum()\n",
    "\n",
    "# Print overall results\n",
    "print(f\"Global median percentage without water: {global_median_percentage_without_water}\")\n",
    "print(f\"Global 5th percentile percentage without water: {global_5th_percentage_without_water}\")\n",
    "print(f\"Global 95th percentile percentage without water: {global_95th_percentage_without_water}\")\n",
    "\n",
    "# sense check with percentage with water\n",
    "print(\"\")\n",
    "print(f\"Global median percentage with water: {global_median_percentage_with_water}\")\n",
    "print(\"\")"
   ]
  },
  {
   "cell_type": "code",
   "execution_count": 9,
   "metadata": {},
   "outputs": [
    {
     "name": "stdout",
     "output_type": "stream",
     "text": [
      "Global median percentage with water: 0.7652535872110314\n",
      "Median proportion with water access who are piped: 0.5348470319527824\n",
      "5th percentile proportion with water access who are piped: 0.45267201203620105\n",
      "95th percentile proportion with water access who are piped: 0.5817407189151452\n"
     ]
    }
   ],
   "source": [
    "# Piped populations without water\n",
    "proportion_with_water_piped_median = country_medians[\"population_piped_with_access\"].sum() / country_medians[\"country_pop_with_water\"].sum()\n",
    "proportion_with_water_piped_5th = country_5th_percentiles[\"population_piped_with_access\"].sum() / country_5th_percentiles[\"country_pop_with_water\"].sum()\n",
    "proportion_with_water_piped_95th = country_95th_percentiles[\"population_piped_with_access\"].sum() / country_95th_percentiles[\"country_pop_with_water\"].sum()\n",
    "\n",
    "# Print piped results\n",
    "# sense check with percentage with water\n",
    "print(f\"Global median percentage with water: {global_median_percentage_with_water}\")\n",
    "print(f\"Median proportion with water access who are piped: {proportion_with_water_piped_median}\")\n",
    "print(f\"5th percentile proportion with water access who are piped: {proportion_with_water_piped_5th}\")\n",
    "print(f\"95th percentile proportion with water access who are piped: {proportion_with_water_piped_95th}\")"
   ]
  },
  {
   "cell_type": "code",
   "execution_count": null,
   "metadata": {},
   "outputs": [
    {
     "name": "stdout",
     "output_type": "stream",
     "text": [
      "             median  5th_percentile  95th_percentile formatted_results\n",
      "region                                                                \n",
      "Americas  37.867498       25.593881        53.332844  37.9 (25.6–53.3)\n",
      "Europe    23.618637       11.691853        41.185440  23.6 (11.7–41.2)\n",
      "Africa    22.389855       15.826232        30.021492  22.4 (15.8–30.0)\n",
      "Asia      20.629464       12.805813        31.384983  20.6 (12.8–31.4)\n",
      "Oceania   17.966750        9.440304        31.580252   18.0 (9.4–31.6)\n",
      "                                    median  5th_percentile  95th_percentile  \\\n",
      "subregion                                                                     \n",
      "Polynesia                        67.375802       43.636413        84.927880   \n",
      "Western Asia                     53.553256       42.506040        65.737258   \n",
      "Northern Africa                  44.649543       33.963872        59.919310   \n",
      "Latin America and the Caribbean  40.681992       28.341901        55.925678   \n",
      "Northern America                 32.901165       20.744847        48.757642   \n",
      "Southern Europe                  30.524782       18.980832        48.620490   \n",
      "Central Asia                     28.751221       19.461137        44.105943   \n",
      "Eastern Europe                   27.269297       13.130311        45.709188   \n",
      "Australia and New Zealand        21.491355       12.159229        38.141729   \n",
      "Micronesia                       20.825327       17.029262        25.360923   \n",
      "Eastern Asia                     20.697465       11.230866        34.487766   \n",
      "Northern Europe                  18.772329        7.198034        35.559338   \n",
      "Southern Asia                    17.896082       11.477507        26.420011   \n",
      "Sub-Saharan Africa               17.409059       11.767780        23.331599   \n",
      "Western Europe                   15.475271        6.353719        31.756487   \n",
      "South-eastern Asia               14.112335        7.755462        22.729959   \n",
      "Melanesia                         7.281776        1.259958        12.408240   \n",
      "\n",
      "                                formatted_results  \n",
      "subregion                                          \n",
      "Polynesia                        67.4 (43.6–84.9)  \n",
      "Western Asia                     53.6 (42.5–65.7)  \n",
      "Northern Africa                  44.6 (34.0–59.9)  \n",
      "Latin America and the Caribbean  40.7 (28.3–55.9)  \n",
      "Northern America                 32.9 (20.7–48.8)  \n",
      "Southern Europe                  30.5 (19.0–48.6)  \n",
      "Central Asia                     28.8 (19.5–44.1)  \n",
      "Eastern Europe                   27.3 (13.1–45.7)  \n",
      "Australia and New Zealand        21.5 (12.2–38.1)  \n",
      "Micronesia                       20.8 (17.0–25.4)  \n",
      "Eastern Asia                     20.7 (11.2–34.5)  \n",
      "Northern Europe                   18.8 (7.2–35.6)  \n",
      "Southern Asia                    17.9 (11.5–26.4)  \n",
      "Sub-Saharan Africa               17.4 (11.8–23.3)  \n",
      "Western Europe                    15.5 (6.4–31.8)  \n",
      "South-eastern Asia                14.1 (7.8–22.7)  \n",
      "Melanesia                          7.3 (1.3–12.4)  \n"
     ]
    }
   ],
   "source": [
    "# Define a function to calculate percent without water\n",
    "def calculate_percent(df, group):\n",
    "    data = df.groupby(group).sum()\n",
    "    percent_without_water = (data['country_pop_without_water'] / data['country_pop_raw']) * 100\n",
    "    return percent_without_water\n",
    "\n",
    "# Calculate percent without water for each DataFrame\n",
    "region_percent_without_water_median = calculate_percent(country_medians, \"region\")\n",
    "region_percent_without_water_5th = calculate_percent(country_5th_percentiles, \"region\")\n",
    "region_percent_without_water_95th = calculate_percent(country_95th_percentiles, \"region\")\n",
    "\n",
    "# Merge results into a single DataFrame\n",
    "region_percent_without_water = pd.DataFrame({\n",
    "    'median': region_percent_without_water_median,\n",
    "    '5th_percentile': region_percent_without_water_5th,\n",
    "    '95th_percentile': region_percent_without_water_95th\n",
    "})\n",
    "\n",
    "# Repeat for subregions\n",
    "subregion_percent_without_water_median = calculate_percent(country_medians, \"subregion\")\n",
    "subregion_percent_without_water_5th = calculate_percent(country_5th_percentiles, \"subregion\")\n",
    "subregion_percent_without_water_95th = calculate_percent(country_95th_percentiles, \"subregion\")\n",
    "\n",
    "# Merge results into a single DataFrame\n",
    "subregion_percent_without_water = pd.DataFrame({\n",
    "    'median': subregion_percent_without_water_median,\n",
    "    '5th_percentile': subregion_percent_without_water_5th,\n",
    "    '95th_percentile': subregion_percent_without_water_95th\n",
    "})\n",
    "\n",
    "# Define formatting function\n",
    "def format_results(row):\n",
    "    median = round(row['median'], 1)\n",
    "    p5th = round(row['5th_percentile'], 1)\n",
    "    p95th = round(row['95th_percentile'], 1)\n",
    "    return f\"{median} ({p5th}–{p95th})\"\n",
    "\n",
    "# Apply formatting function to each row\n",
    "region_percent_without_water['formatted_results'] = region_percent_without_water.apply(format_results, axis=1)\n",
    "subregion_percent_without_water['formatted_results'] = subregion_percent_without_water.apply(format_results, axis=1)\n",
    "\n",
    "# Print results\n",
    "print(region_percent_without_water.sort_values(by='median', ascending=False))\n",
    "print(subregion_percent_without_water.sort_values(by='median', ascending=False))\n",
    "\n",
    "region_percent_without_water.to_csv(\"../results/region_results.csv\", index=True)\n",
    "subregion_percent_without_water.to_csv(\"../results/subregion_results.csv\", index=True)"
   ]
  },
  {
   "cell_type": "code",
   "execution_count": 11,
   "metadata": {},
   "outputs": [],
   "source": [
    "# Make a single table with the 10 countries with the highest and lowest percentage of people without access to water\n",
    "country_medians_simple = country_medians[[\"Entity\", \"percent_without_water\"]].copy()\n",
    "top10 = country_medians_simple.nlargest(10, \"percent_without_water\")\n",
    "bottom10 = country_medians_simple.nsmallest(10, \"percent_without_water\")\n",
    "top_bottom = pd.concat([top10, bottom10])\n",
    "\n",
    "if SAVE_CSVS == True:\n",
    "    top_bottom.to_csv(\"../results/top_bottom_10_countries.csv\", index=False)"
   ]
  },
  {
   "cell_type": "markdown",
   "metadata": {},
   "source": [
    "<div class=\"alert alert-success\">Supplementary: Plot of Monte Carlo distribution"
   ]
  },
  {
   "cell_type": "code",
   "execution_count": null,
   "metadata": {},
   "outputs": [
    {
     "data": {
      "image/png": "[encoded data removed]",
      "text/plain": [
       "<Figure size 640x480 with 1 Axes>"
      ]
     },
     "metadata": {},
     "output_type": "display_data"
    }
   ],
   "source": [
    "import pandas as pd\n",
    "import matplotlib.pyplot as plt\n",
    "import numpy as np\n",
    "\n",
    "# Load pickled simulation results\n",
    "simulation_results = pd.read_pickle(\"../results/countries_simulation_results.pkl\")\n",
    "\n",
    "\n",
    "\n",
    "\n",
    "# Drop GLOBAL from simulation results\n",
    "simulation_results = [df[df.index != 'GLOBAL'] for df in simulation_results]\n",
    "\n",
    "\n",
    "\n",
    "\n",
    "# Calculate global median percentage without water for each simulation using list comprehension\n",
    "global_access = [df[\"country_pop_without_water\"].sum() / df[\"country_pop_raw\"].sum() for df in simulation_results]\n",
    "\n",
    "# Calculate median, 5th percentile, and 95th percentile\n",
    "median = np.median(global_access)\n",
    "p5 = np.percentile(global_access, 5)\n",
    "p95 = np.percentile(global_access, 95)\n",
    "\n",
    "# Plot histogram of results\n",
    "fig, ax = plt.subplots()\n",
    "ax.hist(global_access, bins=100, alpha=0.5, color='c')\n",
    "ax.set_xlabel(\"Global percentage of population without access to water\")\n",
    "ax.set_ylabel(\"Frequency\")\n",
    "# ax.set_title(\"Distribution of Monte Carlo simulation results\")\n",
    "\n",
    "# Add vertical lines for median, 5th percentile, and 95th percentile\n",
    "ax.axvline(median, color='red', linestyle='dashed', linewidth=1)\n",
    "ax.axvline(p5, color='blue', linestyle='dashed', linewidth=1)\n",
    "ax.axvline(p95, color='blue', linestyle='dashed', linewidth=1)\n",
    "\n",
    "# Set x-axis limits\n",
    "ax.set_xlim(0, 1)\n",
    "\n",
    "if SAVE_FIGURES == True:\n",
    "    plt.savefig(\"../results/mc_distribution_no_water.png\")\n",
    "plt.show()"
   ]
  },
  {
   "cell_type": "code",
   "execution_count": 13,
   "metadata": {},
   "outputs": [],
   "source": [
    "country_medians[\"percent_piped_with_access\"] = country_medians[\"population_piped_with_access\"] / country_medians[\"country_pop_raw\"] * 100\n",
    "country_medians[\"piped_calculated\"] = country_medians[\"percent_without_water\"] + country_medians[\"percent_piped_with_access\"]\n"
   ]
  },
  {
   "cell_type": "markdown",
   "metadata": {},
   "source": [
    "<div class=\"alert alert-info\">\n",
    "<h3> <b>3. Cycling vs walking results </b> </h3>\n",
    "<a id=\"cycling_walking\"></a>\n",
    "</div>"
   ]
  },
  {
   "cell_type": "markdown",
   "metadata": {},
   "source": [
    "<div class=\"alert alert-success\">Quote from paper: The maximum euclidean distance people could walk one-way to water varied between <b>3.6–4.0 km</b> in the model, approximately equal to travelling 4.8–5.4 km on roads if using a conversion factor of 1.345 (Gonçalves et al., 2014). For cycling, the equivalent euclidean distances were <b>0–17.7 km</b>, equivalent to approximately 0–23.8 km on roads. <br><br> NB: These are currently given as full ranges rather than 90% CIs, as the data is not population-weighted.<br> NB: The minimum cycling distance is negative, but expressed as zero in the paper. This is due to the parameters in some regions having very poor cycling conditions (e.g., very steep, no roads), leading to the model requiring more energy than available to move forwards.\n"
   ]
  },
  {
   "cell_type": "code",
   "execution_count": 14,
   "metadata": {},
   "outputs": [
    {
     "name": "stdout",
     "output_type": "stream",
     "text": [
      "Global median walking distance: 3.657486490441764 (1.5589769895645749–6.036765638247514)\n",
      "Global median cycling distance: 12.457392302678208 (8.08118873633833–16.943531274606425)\n"
     ]
    }
   ],
   "source": [
    "# @JAMES to help figure out, something to do with cycling changes\n",
    "med_walking = global_median[\"weighted_med_walking\"][0]\n",
    "p5_walking = global_5th_percentile[\"weighted_med_walking\"][0]\n",
    "p95_walking = global_95th_percentile[\"weighted_med_walking\"][0]\n",
    "\n",
    "med_cycling = global_median[\"weighted_med_cycling\"][0]\n",
    "p5_cycling = global_5th_percentile[\"weighted_med_cycling\"][0]\n",
    "p95_cycling = global_95th_percentile[\"weighted_med_cycling\"][0]\n",
    "\n",
    "print(f\"Global median walking distance: {med_walking} ({p5_walking}–{p95_walking})\")\n",
    "print(f\"Global median cycling distance: {med_cycling} ({p5_cycling}–{p95_cycling})\")\n"
   ]
  },
  {
   "cell_type": "code",
   "execution_count": 15,
   "metadata": {},
   "outputs": [],
   "source": [
    "# For walking vs cycling breakdown, we are using the mean results instead of median as this will lead to more intuitive comparisons.\n",
    "# If we use the medians, the sum of the individual walking and cycling access may be very different to the the sum of the total access\n",
    "# First, let's look at piped only\n",
    "# country_means[\"country_pop_piped\"] = country_means[\"country_pop_raw\"] * country_means[\"piped_calculated\"] / 100\n",
    "\n",
    "# global_mean_percentage_piped_with_access = country_means[\"population_piped_with_access\"].sum() / country_means[\"country_pop_piped\"].sum()\n",
    "# global_mean_piped_percentage_with_cycling_access = country_means[\"population_piped_with_cycling_access\"].sum() / country_means[\"country_pop_piped\"].sum()\n",
    "# global_mean_piped_percentage_with_walking_access = country_means[\"population_piped_with_walking_access\"].sum() / country_means[\"country_pop_piped\"].sum()\n",
    "# global_mean_piped_percentage_with_only_cycling_access = (country_means[\"population_piped_with_access\"].sum() - country_means[\"population_piped_with_walking_access\"].sum()) / country_means[\"country_pop_piped\"].sum()\n",
    "\n",
    "# print(f\"Relative to global piped population: mean percentage piped with access: {global_mean_percentage_piped_with_access}\")\n",
    "# print(f\"Relative to global piped population: mean percentage piped with cycling access: {global_mean_piped_percentage_with_cycling_access}\")\n",
    "# print(f\"Relative to global piped population: mean percentage piped with walking access: {global_mean_piped_percentage_with_walking_access}\")\n",
    "# print(f\"Relative to global piped population: mean percentage piped with only cycling access: {global_mean_piped_percentage_with_only_cycling_access}\")"
   ]
  },
  {
   "cell_type": "code",
   "execution_count": 16,
   "metadata": {},
   "outputs": [
    {
     "name": "stdout",
     "output_type": "stream",
     "text": [
      "Relative to global piped population: median percentage piped with cycling access: 0.4029389989358688\n",
      "Relative to global piped population: 5th percentile percentage piped with cycling access: 0.33546685234179296\n",
      "Relative to global piped population: 95th percentile percentage piped with cycling access: 0.4315537326011786\n"
     ]
    }
   ],
   "source": [
    "# Median, 5th, and 95th percentile results for piped water population\n",
    "country_medians[\"country_pop_piped\"] = country_medians[\"country_pop_raw\"] * country_medians[\"NATPiped\"] / 100\n",
    "country_5th_percentiles[\"country_pop_piped\"] = country_5th_percentiles[\"country_pop_raw\"] * country_5th_percentiles[\"NATPiped\"] / 100\n",
    "country_95th_percentiles[\"country_pop_piped\"] = country_95th_percentiles[\"country_pop_raw\"] * country_95th_percentiles[\"NATPiped\"] / 100\n",
    "\n",
    "\n",
    "\n",
    "assert (country_medians[\"country_pop_piped\"] == country_5th_percentiles[\"country_pop_piped\"]).all()\n",
    "assert (country_medians[\"country_pop_piped\"] == country_95th_percentiles[\"country_pop_piped\"]).all()\n",
    "\n",
    "global_median_piped_percentage_with_cycling_access = country_medians[\"population_piped_with_cycling_access\"].sum() / country_medians[\"country_pop_piped\"].sum()\n",
    "global_5th_piped_percentage_with_cycling_access = country_5th_percentiles[\"population_piped_with_cycling_access\"].sum() / country_5th_percentiles[\"country_pop_piped\"].sum()\n",
    "global_95th_piped_percentage_with_cycling_access = country_95th_percentiles[\"population_piped_with_cycling_access\"].sum() / country_95th_percentiles[\"country_pop_piped\"].sum()\n",
    "\n",
    "print(f\"Relative to global piped population: median percentage piped with cycling access: {global_median_piped_percentage_with_cycling_access}\")\n",
    "print(f\"Relative to global piped population: 5th percentile percentage piped with cycling access: {global_5th_piped_percentage_with_cycling_access}\")\n",
    "print(f\"Relative to global piped population: 95th percentile percentage piped with cycling access: {global_95th_piped_percentage_with_cycling_access}\")\n"
   ]
  },
  {
   "cell_type": "code",
   "execution_count": 17,
   "metadata": {},
   "outputs": [],
   "source": [
    "# Now looking at proportions of the global population (piped and non-piped)\n",
    "# Note that this (country_pop_raw) is also including non-piped population who do not walk/cycle to collect water\n",
    "# global_mean_percentage_with_access = country_means[\"population_piped_with_access\"].sum() / country_means[\"country_pop_raw\"].sum()\n",
    "# global_mean_percentage_with_cycling_access = country_means[\"population_piped_with_cycling_access\"].sum() / country_means[\"country_pop_raw\"].sum()\n",
    "# global_mean_percentage_with_walking_access = country_means[\"population_piped_with_walking_access\"].sum() / country_means[\"country_pop_raw\"].sum()\n",
    "# global_mean_percentage_with_only_cycling_access = (country_means[\"population_piped_with_access\"].sum() - country_means[\"population_piped_with_walking_access\"].sum()) / country_means[\"country_pop_raw\"].sum()\n",
    "\n",
    "# print(f\"Global mean percentage with access: {global_mean_percentage_with_access}\")\n",
    "# print(f\"Global mean percentage with cycling access: {global_mean_percentage_with_cycling_access}\")\n",
    "# print(f\"Global mean percentage with walking access: {global_mean_percentage_with_walking_access}\")\n",
    "# print(f\"Global mean percentage with only cycling access: {global_mean_percentage_with_only_cycling_access}\")"
   ]
  },
  {
   "cell_type": "markdown",
   "metadata": {},
   "source": [
    "#### Most important countries for bicycles"
   ]
  },
  {
   "cell_type": "code",
   "execution_count": null,
   "metadata": {},
   "outputs": [
    {
     "name": "stdout",
     "output_type": "stream",
     "text": [
      "+-----+----------------------------------+---------------------------------------------+---------------------------------------------+----------------------------------------+----------------------------------------+----------------------+\n",
      "|     | Entity                           |   percentage_piped_with_only_cycling_access |   percentage_total_with_only_cycling_access |   percentage_piped_with_walking_access |   percentage_piped_with_cycling_access |   percent_with_water |\n",
      "|-----+----------------------------------+---------------------------------------------+---------------------------------------------+----------------------------------------+----------------------------------------+----------------------|\n",
      "|   3 | United Arab Emirates             |                                    100      |                                   0.0652233 |                                0       |                               100      |            0.0652233 |\n",
      "| 145 | San Marino                       |                                    100      |                                  65.63      |                                0       |                               100      |           65.63      |\n",
      "| 176 | Samoa                            |                                     93.3117 |                                  18.3117    |                                6.68832 |                                84.4319 |           32.6242    |\n",
      "| 123 | Oman                             |                                     90.0096 |                                   4.13794   |                                9.99038 |                                78.9023 |           18.9746    |\n",
      "|  47 | Western Sahara                   |                                     78.8235 |                                   0.0498802 |                               21.1765  |                                82.0338 |           47.555     |\n",
      "| 115 | Namibia                          |                                     76.8852 |                                   3.929     |                               23.1148  |                                82.3288 |           26.2981    |\n",
      "|  65 | Greenland                        |                                     68.0388 |                                   8.69781   |                               31.9612  |                                44.3619 |           12.7836    |\n",
      "|  12 | Burkina Faso                     |                                     67.4535 |                                   6.97515   |                               32.5465  |                                95.4077 |           88.1663    |\n",
      "| 172 | Saint Vincent and the Grenadines |                                     66.1307 |                                  31.5836    |                               33.8693  |                                80.2489 |           55.815     |\n",
      "|  60 | Gambia                           |                                     62.3647 |                                  24.8547    |                               37.6353  |                                79.3457 |           67.3153    |\n",
      "| 141 | Singapore                        |                                     59.4748 |                                  23.0172    |                               40.5252  |                                73.8778 |           38.7008    |\n",
      "|  94 | Liechtenstein                    |                                     58.1207 |                                  48.0216    |                               41.8793  |                                88.8727 |           82.6238    |\n",
      "|   4 | Argentina                        |                                     54.298  |                                  28.0443    |                               45.702   |                                88.5446 |           64.52      |\n",
      "|  37 | Cyprus                           |                                     53.9696 |                                  29.4729    |                               46.0304  |                                80.9051 |           54.6101    |\n",
      "|  93 | Saint Lucia                      |                                     50.0944 |                                  19.4874    |                               49.9056  |                                70.8972 |           42.5231    |\n",
      "| 179 | Zambia                           |                                     49.7858 |                                   3.95636   |                               50.2142  |                                71.1196 |           92.9648    |\n",
      "|  87 | Saint Kitts and Nevis            |                                     47.6356 |                                  16.2135    |                               52.3644  |                                69.4633 |           45.8268    |\n",
      "|  41 | Denmark                          |                                     46.2307 |                                  42.3874    |                               53.7693  |                                94.7208 |           91.6866    |\n",
      "|  36 | Cuba                             |                                     45.9439 |                                  17.7251    |                               54.0561  |                                76.9274 |           74.8919    |\n",
      "|  52 | Fiji                             |                                     44.0503 |                                  21.1824    |                               55.9497  |                                66.6005 |           61.2279    |\n",
      "|  92 | Libya                            |                                     42.5952 |                                   0.0087015 |                               57.4048  |                                45.855  |           43.5554    |\n",
      "|  20 | Bolivia, Plurinational State of  |                                     42.2868 |                                   5.52397   |                               57.7132  |                                63.7154 |           83.2775    |\n",
      "|  10 | Belgium                          |                                     41.5877 |                                  34.1465    |                               58.4123  |                                84.8732 |           82.1073    |\n",
      "|  39 | Germany                          |                                     41.5505 |                                  34.722     |                               58.4495  |                                87.714  |           83.5659    |\n",
      "| 169 | Uruguay                          |                                     41.1738 |                                  18.0209    |                               58.8262  |                                83.8354 |           43.7678    |\n",
      "| 165 | Taiwan, Province of China        |                                     40.3194 |                                  29.6508    |                               59.6806  |                                78.6307 |           80.3848    |\n",
      "| 170 | United States of America         |                                     40.2273 |                                  25.6035    |                               59.7727  |                                74.9834 |           65.8544    |\n",
      "|  44 | Ecuador                          |                                     39.8033 |                                  20.9735    |                               60.1967  |                                77.7964 |           71.3942    |\n",
      "| 118 | Nicaragua                        |                                     39.4273 |                                   7.57693   |                               60.5727  |                                58.1269 |           75.7373    |\n",
      "|  48 | Spain                            |                                     39.1601 |                                  27.2479    |                               60.8399  |                                79.8667 |           69.5808    |\n",
      "+-----+----------------------------------+---------------------------------------------+---------------------------------------------+----------------------------------------+----------------------------------------+----------------------+\n"
     ]
    }
   ],
   "source": [
    "# TODO Change to means so walking/cycling split makes sense?\n",
    "# Calculate top 10 countries by lowest value for global_mean_piped_percentage_with_walking_access\n",
    "country_medians[\"percentage_piped_with_walking_access\"] = country_medians[\"population_piped_with_walking_access\"] / country_medians[\"population_piped_with_access\"] * 100\n",
    "country_medians[\"percentage_piped_with_cycling_access\"] = country_medians[\"population_piped_with_cycling_access\"] / country_medians[\"population_piped_with_access\"] * 100\n",
    "country_medians[\"percentage_piped_of_total_access\"] = country_medians[\"population_piped_with_access\"] / country_medians[\"country_pop_with_water\"] * 100\n",
    "country_medians[\"population_piped_with_only_cycling_access\"] = country_medians[\"population_piped_with_access\"] - country_medians[\"population_piped_with_walking_access\"]\n",
    "country_medians[\"percentage_piped_with_only_cycling_access\"] = country_medians[\"population_piped_with_only_cycling_access\"] / country_medians[\"population_piped_with_access\"] * 100\n",
    "country_medians[\"percentage_total_with_only_cycling_access\"] = country_medians[\"population_piped_with_only_cycling_access\"] / country_medians[\"country_pop_raw\"] * 100\n",
    "\n",
    "top_piped_cycling_access = country_medians.nlargest(30, \"percentage_piped_with_only_cycling_access\")\n",
    "print(tabulate(top_piped_cycling_access[['Entity', \"percentage_piped_with_only_cycling_access\", \"percentage_total_with_only_cycling_access\", 'percentage_piped_with_walking_access', 'percentage_piped_with_cycling_access', \"percent_with_water\"]], headers='keys', tablefmt='psql'))\n",
    "\n"
   ]
  },
  {
   "cell_type": "code",
   "execution_count": 19,
   "metadata": {},
   "outputs": [
    {
     "name": "stdout",
     "output_type": "stream",
     "text": [
      "+-----+----------------------------------+---------------------------------------------+---------------------------------------------+----------------------------------------+----------------------------------------+----------------------+\n",
      "|     | Entity                           |   percentage_total_with_only_cycling_access |   percentage_piped_with_only_cycling_access |   percentage_piped_with_walking_access |   percentage_piped_with_cycling_access |   percent_with_water |\n",
      "|-----+----------------------------------+---------------------------------------------+---------------------------------------------+----------------------------------------+----------------------------------------+----------------------|\n",
      "| 145 | San Marino                       |                                     65.63   |                                    100      |                                 0      |                               100      |              65.63   |\n",
      "|  94 | Liechtenstein                    |                                     48.0216 |                                     58.1207 |                                41.8793 |                                88.8727 |              82.6238 |\n",
      "|  41 | Denmark                          |                                     42.3874 |                                     46.2307 |                                53.7693 |                                94.7208 |              91.6866 |\n",
      "|  39 | Germany                          |                                     34.722  |                                     41.5505 |                                58.4495 |                                87.714  |              83.5659 |\n",
      "|  51 | Finland                          |                                     34.6328 |                                     38.663  |                                61.337  |                                91.1106 |              89.5761 |\n",
      "|  10 | Belgium                          |                                     34.1465 |                                     41.5877 |                                58.4123 |                                84.8732 |              82.1073 |\n",
      "| 172 | Saint Vincent and the Grenadines |                                     31.5836 |                                     66.1307 |                                33.8693 |                                80.2489 |              55.815  |\n",
      "| 119 | Netherlands, Kingdom of the      |                                     30.4971 |                                     32.2281 |                                67.7719 |                                93.2339 |              94.6291 |\n",
      "|   7 | Austria                          |                                     30.323  |                                     33.2827 |                                66.7173 |                                91.2997 |              91.2501 |\n",
      "| 165 | Taiwan, Province of China        |                                     29.6508 |                                     40.3194 |                                59.6806 |                                78.6307 |              80.3848 |\n",
      "|  37 | Cyprus                           |                                     29.4729 |                                     53.9696 |                                46.0304 |                                80.9051 |              54.6101 |\n",
      "|   4 | Argentina                        |                                     28.0443 |                                     54.298  |                                45.702  |                                88.5446 |              64.52   |\n",
      "|  35 | Costa Rica                       |                                     27.3893 |                                     36.0496 |                                63.9504 |                                79.251  |              75.9769 |\n",
      "|  48 | Spain                            |                                     27.2479 |                                     39.1601 |                                60.8399 |                                79.8667 |              69.5808 |\n",
      "|  27 | Switzerland                      |                                     27.1191 |                                     30.9932 |                                69.0068 |                                82.513  |              87.5003 |\n",
      "|  26 | Canada                           |                                     27.1175 |                                     34.8808 |                                65.1192 |                                79.8876 |              77.7433 |\n",
      "| 170 | United States of America         |                                     25.6035 |                                     40.2273 |                                59.7727 |                                74.9834 |              65.8544 |\n",
      "| 130 | Poland                           |                                     25.2623 |                                     35.9095 |                                64.0905 |                                81.7932 |              83.9306 |\n",
      "|  60 | Gambia                           |                                     24.8547 |                                     62.3647 |                                37.6353 |                                79.3457 |              67.3153 |\n",
      "|  79 | Italy                            |                                     23.687  |                                     30.3172 |                                69.6828 |                                76.8614 |              78.1307 |\n",
      "|  82 | Japan                            |                                     23.3991 |                                     31.6066 |                                68.3934 |                                80.9898 |              84.7623 |\n",
      "| 141 | Singapore                        |                                     23.0172 |                                     59.4748 |                                40.5252 |                                73.8778 |              38.7008 |\n",
      "| 120 | Norway                           |                                     21.9878 |                                     25.3535 |                                74.6465 |                                86.0845 |              86.7246 |\n",
      "|  53 | France                           |                                     21.7707 |                                     26.4642 |                                73.5358 |                                71.6903 |              82.2648 |\n",
      "| 153 | Sweden                           |                                     21.2097 |                                     28.5848 |                                71.4152 |                                89.8619 |              93.095  |\n",
      "|  52 | Fiji                             |                                     21.1824 |                                     44.0503 |                                55.9497 |                                66.6005 |              61.2279 |\n",
      "|  44 | Ecuador                          |                                     20.9735 |                                     39.8033 |                                60.1967 |                                77.7964 |              71.3942 |\n",
      "|  98 | Luxembourg                       |                                     20.8996 |                                     27.4205 |                                72.5795 |                                79.9675 |              78.5715 |\n",
      "|  21 | Brazil                           |                                     20.8649 |                                     38.5988 |                                61.4012 |                                75.2404 |              59.2171 |\n",
      "|  74 | Ireland                          |                                     20.821  |                                     28.2579 |                                71.7421 |                                64.5781 |              77.3525 |\n",
      "+-----+----------------------------------+---------------------------------------------+---------------------------------------------+----------------------------------------+----------------------------------------+----------------------+\n"
     ]
    }
   ],
   "source": [
    "# OR rank by total population that gain access by cycling\n",
    "top_total_cycling_access = country_medians.nlargest(30, \"percentage_total_with_only_cycling_access\")\n",
    "print(tabulate(top_total_cycling_access[['Entity', \"percentage_total_with_only_cycling_access\", \"percentage_piped_with_only_cycling_access\", 'percentage_piped_with_walking_access', 'percentage_piped_with_cycling_access', \"percent_with_water\"]], headers='keys', tablefmt='psql'))"
   ]
  },
  {
   "cell_type": "markdown",
   "metadata": {},
   "source": [
    "<div class=\"alert alert-success\">Supplementary: Plot of Monte Carlo distribution"
   ]
  },
  {
   "cell_type": "code",
   "execution_count": null,
   "metadata": {},
   "outputs": [
    {
     "name": "stdout",
     "output_type": "stream",
     "text": [
      "GLOBAL in first dataframe: False\n"
     ]
    },
    {
     "ename": "KeyboardInterrupt",
     "evalue": "",
     "output_type": "error",
     "traceback": [
      "\u001b[0;31m---------------------------------------------------------------------------\u001b[0m",
      "\u001b[0;31mKeyboardInterrupt\u001b[0m                         Traceback (most recent call last)",
      "Cell \u001b[0;32mIn[20], line 19\u001b[0m\n\u001b[1;32m     17\u001b[0m global_walking_access \u001b[38;5;241m=\u001b[39m [df[\u001b[38;5;124m\"\u001b[39m\u001b[38;5;124mpopulation_piped_with_walking_access\u001b[39m\u001b[38;5;124m\"\u001b[39m]\u001b[38;5;241m.\u001b[39msum() \u001b[38;5;241m/\u001b[39m df[\u001b[38;5;124m\"\u001b[39m\u001b[38;5;124mcountry_pop_raw\u001b[39m\u001b[38;5;124m\"\u001b[39m]\u001b[38;5;241m.\u001b[39msum() \u001b[38;5;28;01mfor\u001b[39;00m df \u001b[38;5;129;01min\u001b[39;00m simulation_results]\n\u001b[1;32m     18\u001b[0m \u001b[38;5;66;03m# global_only_cycling_access = [(df[\"population_piped_with_access\"].sum() - df[\"population_piped_with_walking_access\"].sum()) / df[\"country_pop_raw\"].sum() for df in simulation_results]\u001b[39;00m\n\u001b[0;32m---> 19\u001b[0m global_only_cycling_access \u001b[38;5;241m=\u001b[39m [df[\u001b[38;5;124m\"\u001b[39m\u001b[38;5;124mpopulation_piped_with_only_cycling_access\u001b[39m\u001b[38;5;124m\"\u001b[39m]\u001b[38;5;241m.\u001b[39msum() \u001b[38;5;241m/\u001b[39m df[\u001b[38;5;124m\"\u001b[39m\u001b[38;5;124mcountry_pop_raw\u001b[39m\u001b[38;5;124m\"\u001b[39m]\u001b[38;5;241m.\u001b[39msum() \u001b[38;5;28;01mfor\u001b[39;00m df \u001b[38;5;129;01min\u001b[39;00m simulation_results]\n\u001b[1;32m     21\u001b[0m \u001b[38;5;66;03m# Create subplots\u001b[39;00m\n\u001b[1;32m     22\u001b[0m fig, axs \u001b[38;5;241m=\u001b[39m plt\u001b[38;5;241m.\u001b[39msubplots(\u001b[38;5;241m2\u001b[39m, \u001b[38;5;241m2\u001b[39m, figsize\u001b[38;5;241m=\u001b[39m(\u001b[38;5;241m12\u001b[39m, \u001b[38;5;241m12\u001b[39m))\n",
      "Cell \u001b[0;32mIn[20], line 19\u001b[0m, in \u001b[0;36m<listcomp>\u001b[0;34m(.0)\u001b[0m\n\u001b[1;32m     17\u001b[0m global_walking_access \u001b[38;5;241m=\u001b[39m [df[\u001b[38;5;124m\"\u001b[39m\u001b[38;5;124mpopulation_piped_with_walking_access\u001b[39m\u001b[38;5;124m\"\u001b[39m]\u001b[38;5;241m.\u001b[39msum() \u001b[38;5;241m/\u001b[39m df[\u001b[38;5;124m\"\u001b[39m\u001b[38;5;124mcountry_pop_raw\u001b[39m\u001b[38;5;124m\"\u001b[39m]\u001b[38;5;241m.\u001b[39msum() \u001b[38;5;28;01mfor\u001b[39;00m df \u001b[38;5;129;01min\u001b[39;00m simulation_results]\n\u001b[1;32m     18\u001b[0m \u001b[38;5;66;03m# global_only_cycling_access = [(df[\"population_piped_with_access\"].sum() - df[\"population_piped_with_walking_access\"].sum()) / df[\"country_pop_raw\"].sum() for df in simulation_results]\u001b[39;00m\n\u001b[0;32m---> 19\u001b[0m global_only_cycling_access \u001b[38;5;241m=\u001b[39m [\u001b[43mdf\u001b[49m\u001b[43m[\u001b[49m\u001b[38;5;124;43m\"\u001b[39;49m\u001b[38;5;124;43mpopulation_piped_with_only_cycling_access\u001b[39;49m\u001b[38;5;124;43m\"\u001b[39;49m\u001b[43m]\u001b[49m\u001b[38;5;241m.\u001b[39msum() \u001b[38;5;241m/\u001b[39m df[\u001b[38;5;124m\"\u001b[39m\u001b[38;5;124mcountry_pop_raw\u001b[39m\u001b[38;5;124m\"\u001b[39m]\u001b[38;5;241m.\u001b[39msum() \u001b[38;5;28;01mfor\u001b[39;00m df \u001b[38;5;129;01min\u001b[39;00m simulation_results]\n\u001b[1;32m     21\u001b[0m \u001b[38;5;66;03m# Create subplots\u001b[39;00m\n\u001b[1;32m     22\u001b[0m fig, axs \u001b[38;5;241m=\u001b[39m plt\u001b[38;5;241m.\u001b[39msubplots(\u001b[38;5;241m2\u001b[39m, \u001b[38;5;241m2\u001b[39m, figsize\u001b[38;5;241m=\u001b[39m(\u001b[38;5;241m12\u001b[39m, \u001b[38;5;241m12\u001b[39m))\n",
      "File \u001b[0;32m~/miniforge3/envs/water-access/lib/python3.9/site-packages/pandas/core/frame.py:3474\u001b[0m, in \u001b[0;36mDataFrame.__getitem__\u001b[0;34m(self, key)\u001b[0m\n\u001b[1;32m   3472\u001b[0m         \u001b[38;5;28;01mif\u001b[39;00m \u001b[38;5;28misinstance\u001b[39m(\u001b[38;5;28mself\u001b[39m\u001b[38;5;241m.\u001b[39mcolumns, MultiIndex):\n\u001b[1;32m   3473\u001b[0m             \u001b[38;5;28;01mreturn\u001b[39;00m \u001b[38;5;28mself\u001b[39m\u001b[38;5;241m.\u001b[39m_getitem_multilevel(key)\n\u001b[0;32m-> 3474\u001b[0m         \u001b[38;5;28;01mreturn\u001b[39;00m \u001b[38;5;28;43mself\u001b[39;49m\u001b[38;5;241;43m.\u001b[39;49m\u001b[43m_get_item_cache\u001b[49m\u001b[43m(\u001b[49m\u001b[43mkey\u001b[49m\u001b[43m)\u001b[49m\n\u001b[1;32m   3476\u001b[0m \u001b[38;5;66;03m# Do we have a slicer (on rows)?\u001b[39;00m\n\u001b[1;32m   3477\u001b[0m indexer \u001b[38;5;241m=\u001b[39m convert_to_index_sliceable(\u001b[38;5;28mself\u001b[39m, key)\n",
      "File \u001b[0;32m~/miniforge3/envs/water-access/lib/python3.9/site-packages/pandas/core/frame.py:3932\u001b[0m, in \u001b[0;36mDataFrame._get_item_cache\u001b[0;34m(self, item)\u001b[0m\n\u001b[1;32m   3927\u001b[0m \u001b[38;5;28;01mif\u001b[39;00m res \u001b[38;5;129;01mis\u001b[39;00m \u001b[38;5;28;01mNone\u001b[39;00m:\n\u001b[1;32m   3928\u001b[0m     \u001b[38;5;66;03m# All places that call _get_item_cache have unique columns,\u001b[39;00m\n\u001b[1;32m   3929\u001b[0m     \u001b[38;5;66;03m#  pending resolution of GH#33047\u001b[39;00m\n\u001b[1;32m   3931\u001b[0m     loc \u001b[38;5;241m=\u001b[39m \u001b[38;5;28mself\u001b[39m\u001b[38;5;241m.\u001b[39mcolumns\u001b[38;5;241m.\u001b[39mget_loc(item)\n\u001b[0;32m-> 3932\u001b[0m     res \u001b[38;5;241m=\u001b[39m \u001b[38;5;28;43mself\u001b[39;49m\u001b[38;5;241;43m.\u001b[39;49m\u001b[43m_ixs\u001b[49m\u001b[43m(\u001b[49m\u001b[43mloc\u001b[49m\u001b[43m,\u001b[49m\u001b[43m \u001b[49m\u001b[43maxis\u001b[49m\u001b[38;5;241;43m=\u001b[39;49m\u001b[38;5;241;43m1\u001b[39;49m\u001b[43m)\u001b[49m\n\u001b[1;32m   3934\u001b[0m     cache[item] \u001b[38;5;241m=\u001b[39m res\n\u001b[1;32m   3936\u001b[0m     \u001b[38;5;66;03m# for a chain\u001b[39;00m\n",
      "File \u001b[0;32m~/miniforge3/envs/water-access/lib/python3.9/site-packages/pandas/core/frame.py:3442\u001b[0m, in \u001b[0;36mDataFrame._ixs\u001b[0;34m(self, i, axis)\u001b[0m\n\u001b[1;32m   3439\u001b[0m label \u001b[38;5;241m=\u001b[39m \u001b[38;5;28mself\u001b[39m\u001b[38;5;241m.\u001b[39mcolumns[i]\n\u001b[1;32m   3441\u001b[0m col_mgr \u001b[38;5;241m=\u001b[39m \u001b[38;5;28mself\u001b[39m\u001b[38;5;241m.\u001b[39m_mgr\u001b[38;5;241m.\u001b[39miget(i)\n\u001b[0;32m-> 3442\u001b[0m result \u001b[38;5;241m=\u001b[39m \u001b[38;5;28;43mself\u001b[39;49m\u001b[38;5;241;43m.\u001b[39;49m\u001b[43m_box_col_values\u001b[49m\u001b[43m(\u001b[49m\u001b[43mcol_mgr\u001b[49m\u001b[43m,\u001b[49m\u001b[43m \u001b[49m\u001b[43mi\u001b[49m\u001b[43m)\u001b[49m\n\u001b[1;32m   3444\u001b[0m \u001b[38;5;66;03m# this is a cached value, mark it so\u001b[39;00m\n\u001b[1;32m   3445\u001b[0m result\u001b[38;5;241m.\u001b[39m_set_as_cached(label, \u001b[38;5;28mself\u001b[39m)\n",
      "File \u001b[0;32m~/miniforge3/envs/water-access/lib/python3.9/site-packages/pandas/core/frame.py:3915\u001b[0m, in \u001b[0;36mDataFrame._box_col_values\u001b[0;34m(self, values, loc)\u001b[0m\n\u001b[1;32m   3913\u001b[0m klass \u001b[38;5;241m=\u001b[39m \u001b[38;5;28mself\u001b[39m\u001b[38;5;241m.\u001b[39m_constructor_sliced\n\u001b[1;32m   3914\u001b[0m \u001b[38;5;66;03m# We get index=self.index bc values is a SingleDataManager\u001b[39;00m\n\u001b[0;32m-> 3915\u001b[0m \u001b[38;5;28;01mreturn\u001b[39;00m \u001b[43mklass\u001b[49m\u001b[43m(\u001b[49m\u001b[43mvalues\u001b[49m\u001b[43m,\u001b[49m\u001b[43m \u001b[49m\u001b[43mname\u001b[49m\u001b[38;5;241;43m=\u001b[39;49m\u001b[43mname\u001b[49m\u001b[43m,\u001b[49m\u001b[43m \u001b[49m\u001b[43mfastpath\u001b[49m\u001b[38;5;241;43m=\u001b[39;49m\u001b[38;5;28;43;01mTrue\u001b[39;49;00m\u001b[43m)\u001b[49m\u001b[38;5;241;43m.\u001b[39;49m\u001b[43m__finalize__\u001b[49m\u001b[43m(\u001b[49m\u001b[38;5;28;43mself\u001b[39;49m\u001b[43m)\u001b[49m\n",
      "File \u001b[0;32m~/miniforge3/envs/water-access/lib/python3.9/site-packages/pandas/core/generic.py:5541\u001b[0m, in \u001b[0;36mNDFrame.__finalize__\u001b[0;34m(self, other, method, **kwargs)\u001b[0m\n\u001b[1;32m   5538\u001b[0m \u001b[38;5;28;01mfor\u001b[39;00m name \u001b[38;5;129;01min\u001b[39;00m other\u001b[38;5;241m.\u001b[39mattrs:\n\u001b[1;32m   5539\u001b[0m     \u001b[38;5;28mself\u001b[39m\u001b[38;5;241m.\u001b[39mattrs[name] \u001b[38;5;241m=\u001b[39m other\u001b[38;5;241m.\u001b[39mattrs[name]\n\u001b[0;32m-> 5541\u001b[0m \u001b[38;5;28mself\u001b[39m\u001b[38;5;241m.\u001b[39mflags\u001b[38;5;241m.\u001b[39mallows_duplicate_labels \u001b[38;5;241m=\u001b[39m \u001b[43mother\u001b[49m\u001b[38;5;241;43m.\u001b[39;49m\u001b[43mflags\u001b[49m\u001b[38;5;241;43m.\u001b[39;49m\u001b[43mallows_duplicate_labels\u001b[49m\n\u001b[1;32m   5542\u001b[0m \u001b[38;5;66;03m# For subclasses using _metadata.\u001b[39;00m\n\u001b[1;32m   5543\u001b[0m \u001b[38;5;28;01mfor\u001b[39;00m name \u001b[38;5;129;01min\u001b[39;00m \u001b[38;5;28mset\u001b[39m(\u001b[38;5;28mself\u001b[39m\u001b[38;5;241m.\u001b[39m_metadata) \u001b[38;5;241m&\u001b[39m \u001b[38;5;28mset\u001b[39m(other\u001b[38;5;241m.\u001b[39m_metadata):\n",
      "File \u001b[0;32m~/miniforge3/envs/water-access/lib/python3.9/site-packages/pandas/core/flags.py:51\u001b[0m, in \u001b[0;36mFlags.allows_duplicate_labels\u001b[0;34m(self)\u001b[0m\n\u001b[1;32m     48\u001b[0m     \u001b[38;5;28mself\u001b[39m\u001b[38;5;241m.\u001b[39m_allows_duplicate_labels \u001b[38;5;241m=\u001b[39m allows_duplicate_labels\n\u001b[1;32m     49\u001b[0m     \u001b[38;5;28mself\u001b[39m\u001b[38;5;241m.\u001b[39m_obj \u001b[38;5;241m=\u001b[39m weakref\u001b[38;5;241m.\u001b[39mref(obj)\n\u001b[0;32m---> 51\u001b[0m \u001b[38;5;129m@property\u001b[39m\n\u001b[1;32m     52\u001b[0m \u001b[38;5;28;01mdef\u001b[39;00m \u001b[38;5;21mallows_duplicate_labels\u001b[39m(\u001b[38;5;28mself\u001b[39m) \u001b[38;5;241m-\u001b[39m\u001b[38;5;241m>\u001b[39m \u001b[38;5;28mbool\u001b[39m:\n\u001b[1;32m     53\u001b[0m \u001b[38;5;250m    \u001b[39m\u001b[38;5;124;03m\"\"\"\u001b[39;00m\n\u001b[1;32m     54\u001b[0m \u001b[38;5;124;03m    Whether this object allows duplicate labels.\u001b[39;00m\n\u001b[1;32m     55\u001b[0m \n\u001b[0;32m   (...)\u001b[0m\n\u001b[1;32m     79\u001b[0m \u001b[38;5;124;03m    a        [0, 1]\u001b[39;00m\n\u001b[1;32m     80\u001b[0m \u001b[38;5;124;03m    \"\"\"\u001b[39;00m\n\u001b[1;32m     81\u001b[0m     \u001b[38;5;28;01mreturn\u001b[39;00m \u001b[38;5;28mself\u001b[39m\u001b[38;5;241m.\u001b[39m_allows_duplicate_labels\n",
      "\u001b[0;31mKeyboardInterrupt\u001b[0m: "
     ]
    }
   ],
   "source": [
    "# Load pickled simulation results\n",
    "simulation_results = pd.read_pickle(\"../results/countries_simulation_results.pkl\")\n",
    "\n",
    "# Drop GLOBAL from simulation results\n",
    "simulation_results = [df[df.index != 'GLOBAL'] for df in simulation_results]\n",
    "\n",
    "# Check that GLOBAL is removed from the first dataframe\n",
    "print(\"GLOBAL in first dataframe:\", 'GLOBAL' in simulation_results[0].index)\n",
    "\n",
    "# Calculate country_pop_piped for each dataframe in simulation_results\n",
    "for df in simulation_results:\n",
    "    df[\"country_pop_unpiped\"] = df[\"country_pop_raw\"] * (100-df[\"NATPiped\"]) / 100\n",
    "\n",
    "# Calculate global mean percentage for each access type for each simulation using list comprehension\n",
    "global_access = [df[\"country_pop_with_water\"].sum() / df[\"country_pop_raw\"].sum() for df in simulation_results]\n",
    "global_cycling_access = [df[\"population_piped_with_cycling_access\"].sum() / df[\"country_pop_raw\"].sum() for df in simulation_results]\n",
    "global_walking_access = [df[\"population_piped_with_walking_access\"].sum() / df[\"country_pop_raw\"].sum() for df in simulation_results]\n",
    "# global_only_cycling_access = [(df[\"population_piped_with_access\"].sum() - df[\"population_piped_with_walking_access\"].sum()) / df[\"country_pop_raw\"].sum() for df in simulation_results]\n",
    "global_only_cycling_access = [df[\"population_piped_with_only_cycling_access\"].sum() / df[\"country_pop_raw\"].sum() for df in simulation_results]\n",
    "\n",
    "# Create subplots\n",
    "fig, axs = plt.subplots(2, 2, figsize=(12, 12))\n",
    "\n",
    "# Flatten axs for easy iteration\n",
    "axs = axs.flatten()\n",
    "\n",
    "# List of access types\n",
    "access_types = [global_access, global_walking_access, global_cycling_access, global_only_cycling_access]\n",
    "\n",
    "# List of titles\n",
    "titles = [\"(a) Global Total Access\", \"(b) Global Walking Access\", \"(c) Global Cycling Access\", \"(d) Global Only Cycling Access\"]\n",
    "\n",
    "# Plot histogram of results for each access type\n",
    "for i, ax in enumerate(axs):\n",
    "    # Calculate median, 5th percentile, and 95th percentile\n",
    "    median = np.median(access_types[i])\n",
    "    p5 = np.percentile(access_types[i], 5)\n",
    "    p95 = np.percentile(access_types[i], 95)\n",
    "\n",
    "    ax.hist(access_types[i], bins=100, alpha=0.7, color='c')\n",
    "    ax.set_xlim(0, 1)\n",
    "\n",
    "    # Add vertical lines for median, 5th percentile, and 95th percentile\n",
    "    ax.axvline(median, color='red', linestyle='dashed', linewidth=1)\n",
    "    ax.axvline(p5, color='blue', linestyle='dashed', linewidth=1)\n",
    "    ax.axvline(p95, color='blue', linestyle='dashed', linewidth=1)\n",
    "\n",
    "    # Set title and labels\n",
    "    ax.set_title(f\"{titles[i]}\", fontsize=14)\n",
    "\n",
    "# Set common x-axis label\n",
    "fig.text(0.5, 0.0, 'Percentage Access', ha='center', va='center', fontsize=14)\n",
    "fig.text(0.0, 0.5, 'Frequency', ha='center', va='center', rotation='vertical', fontsize=14)\n",
    "\n",
    "plt.tight_layout()\n",
    "if SAVE_FIGURES == True:\n",
    "    plt.savefig(\"../results/mc_distribution_total_access.png\")\n",
    "plt.show()"
   ]
  },
  {
   "cell_type": "code",
   "execution_count": 24,
   "metadata": {},
   "outputs": [
    {
     "data": {
      "image/png": "[encoded data removed]",
      "text/plain": [
       "<Figure size 1200x1200 with 4 Axes>"
      ]
     },
     "metadata": {},
     "output_type": "display_data"
    }
   ],
   "source": [
    "# Load pickled simulation results\n",
    "simulation_results = pd.read_pickle(\"../results/countries_simulation_results.pkl\")\n",
    "# Drop GLOBAL from simulation results\n",
    "simulation_results = [df[df.index != 'GLOBAL'] for df in simulation_results]\n",
    "\n",
    "\n",
    "# Calculate country_pop_piped for each dataframe in simulation_results\n",
    "for df in simulation_results:\n",
    "    df[\"country_pop_piped\"] = df[\"country_pop_raw\"] * df[\"NATPiped\"] / 100\n",
    "\n",
    "# Calculate global mean percentage for each access type for each simulation using list comprehension\n",
    "global_piped_access = [df[\"population_piped_with_access\"].sum() / df[\"country_pop_piped\"].sum() for df in simulation_results]\n",
    "global_piped_cycling_access = [df[\"population_piped_with_cycling_access\"].sum() / df[\"country_pop_piped\"].sum() for df in simulation_results]\n",
    "global_piped_walking_access = [df[\"population_piped_with_walking_access\"].sum() / df[\"country_pop_piped\"].sum() for df in simulation_results]\n",
    "global_piped_only_cycling_access = [(df[\"population_piped_with_access\"].sum() - df[\"population_piped_with_walking_access\"].sum()) / df[\"country_pop_piped\"].sum() for df in simulation_results]\n",
    "\n",
    "# Create subplots\n",
    "fig, axs = plt.subplots(2, 2, figsize=(12, 12))\n",
    "\n",
    "# Flatten axs for easy iteration\n",
    "axs = axs.flatten()\n",
    "\n",
    "# List of access types\n",
    "access_types = [global_piped_access, global_piped_walking_access, global_piped_cycling_access, global_piped_only_cycling_access]\n",
    "\n",
    "# List of titles\n",
    "titles = [\"(a) Global Piped Access\", \"(b) Global Piped Walking Access\", \"(c) Global Piped Cycling Access\", \"(d) Global Piped Only Cycling Access\"]\n",
    "\n",
    "# Plot histogram of results for each access type\n",
    "for i, ax in enumerate(axs):\n",
    "    # Calculate median, 5th percentile, and 95th percentile\n",
    "    median = np.median(access_types[i])\n",
    "    p5 = np.percentile(access_types[i], 5)\n",
    "    p95 = np.percentile(access_types[i], 95)\n",
    "\n",
    "    ax.hist(access_types[i], bins=100, alpha=0.7, color='c')\n",
    "    ax.set_xlim(0, 1)\n",
    "\n",
    "    # Add vertical lines for median, 5th percentile, and 95th percentile\n",
    "    ax.axvline(median, color='red', linestyle='dashed', linewidth=1)\n",
    "    ax.axvline(p5, color='blue', linestyle='dashed', linewidth=1)\n",
    "    ax.axvline(p95, color='blue', linestyle='dashed', linewidth=1)\n",
    "\n",
    "    # Set title and labels\n",
    "    ax.set_title(f\"{titles[i]}\", fontsize=14)\n",
    "\n",
    "# Set common x-axis label\n",
    "fig.text(0.5, 0.0, 'Percentage Access', ha='center', va='center', fontsize=14)\n",
    "fig.text(0.0, 0.5, 'Frequency', ha='center', va='center', rotation='vertical', fontsize=14)\n",
    "\n",
    "plt.tight_layout()\n",
    "if SAVE_FIGURES == True:\n",
    "    plt.savefig(\"../results/mc_distribution_piped_access.png\")\n",
    "plt.show()"
   ]
  },
  {
   "cell_type": "markdown",
   "metadata": {},
   "source": [
    "<div class=\"alert alert-info\">\n",
    "<h3> <b>4. Relationship between piped water access and GCIL water access </b> </h3>\n",
    "<a id=\"piped\"></a>\n",
    "</div>\n"
   ]
  },
  {
   "cell_type": "code",
   "execution_count": 25,
   "metadata": {},
   "outputs": [
    {
     "data": {
      "application/vnd.plotly.v1+json": {
       "config": {
        "plotlyServerURL": "https://plot.ly"
       },
       "data": [
        {
         "customdata": [
          [
           "Afghanistan"
          ],
          [
           "United Arab Emirates"
          ],
          [
           "Armenia"
          ],
          [
           "Azerbaijan"
          ],
          [
           "Bangladesh"
          ],
          [
           "Bahrain"
          ],
          [
           "Brunei Darussalam"
          ],
          [
           "Bhutan"
          ],
          [
           "China"
          ],
          [
           "Cyprus"
          ],
          [
           "Georgia"
          ],
          [
           "Indonesia"
          ],
          [
           "India"
          ],
          [
           "Iran, Islamic Republic of"
          ],
          [
           "Iraq"
          ],
          [
           "Israel"
          ],
          [
           "Jordan"
          ],
          [
           "Japan"
          ],
          [
           "Kazakhstan"
          ],
          [
           "Kyrgyzstan"
          ],
          [
           "Cambodia"
          ],
          [
           "Korea, Republic of"
          ],
          [
           "Lao People's Democratic Republic"
          ],
          [
           "Lebanon"
          ],
          [
           "Sri Lanka"
          ],
          [
           "Myanmar"
          ],
          [
           "Mongolia"
          ],
          [
           "Malaysia"
          ],
          [
           "Nepal"
          ],
          [
           "Oman"
          ],
          [
           "Pakistan"
          ],
          [
           "Philippines"
          ],
          [
           "Korea, Democratic People's Republic of"
          ],
          [
           "Qatar"
          ],
          [
           "Saudi Arabia"
          ],
          [
           "Singapore"
          ],
          [
           "Syrian Arab Republic"
          ],
          [
           "Thailand"
          ],
          [
           "Tajikistan"
          ],
          [
           "Turkmenistan"
          ],
          [
           "Timor-Leste"
          ],
          [
           "Türkiye"
          ],
          [
           "Taiwan, Province of China"
          ],
          [
           "Uzbekistan"
          ],
          [
           "Viet Nam"
          ],
          [
           "Yemen"
          ]
         ],
         "hovertemplate": "region=Asia<br>NATPiped=%{x}<br>piped_calculated=%{y}<br>Entity=%{customdata[0]}<extra></extra>",
         "legendgroup": "Asia",
         "marker": {
          "color": "#636efa",
          "symbol": "circle"
         },
         "mode": "markers",
         "name": "Asia",
         "orientation": "v",
         "showlegend": true,
         "type": "scatter",
         "x": [
          23.75,
          100,
          100,
          93.98,
          15,
          100,
          100,
          100,
          86.08,
          100,
          84.60000000000001,
          23.28,
          44.88,
          99.31,
          83.36,
          100,
          86.44000000000001,
          98,
          81.62,
          93.7,
          34.25,
          100,
          32.239999999999995,
          92.175,
          52.650000000000006,
          33.68,
          36.98,
          96.26,
          50.42,
          95.44,
          25.36,
          66.44,
          65.12,
          100,
          89.94999999999999,
          100,
          79.55000000000001,
          86.41999999999999,
          65.52,
          54.86,
          71.76,
          94.0175,
          94.91,
          72.5,
          52.45,
          56.870000000000005
         ],
         "xaxis": "x",
         "y": [
          21.62504146175778,
          99.99999999999999,
          99.99882688031316,
          90.30829056401357,
          27.405526408449905,
          100,
          99.99265732586453,
          100,
          82.61580662358375,
          100.00000000000001,
          78.13624295794929,
          20.961655884003925,
          47.65949322828601,
          97.27169206621517,
          75.38966437587939,
          100,
          82.91808818836864,
          89.27019112564568,
          63.823975373201435,
          92.04616134563642,
          33.589488316223665,
          100,
          19.69512980996796,
          91.29426353993843,
          70.11952495084874,
          26.711745329893496,
          17.08892909662759,
          90.28244837721039,
          51.07860049142542,
          85.62259363605531,
          26.380563872873932,
          69.80123643458668,
          52.95749642804125,
          99.99916151117996,
          84.66978715457044,
          100,
          74.41388176066086,
          83.67678552831691,
          65.1591440699474,
          29.89162665225558,
          67.03592278787859,
          88.48098551272207,
          93.15496143914713,
          64.7721369781931,
          60.0485728770192,
          49.92497430593312
         ],
         "yaxis": "y"
        },
        {
         "customdata": [
          [
           "Angola"
          ],
          [
           "Burundi"
          ],
          [
           "Benin"
          ],
          [
           "Burkina Faso"
          ],
          [
           "Botswana"
          ],
          [
           "Central African Republic"
          ],
          [
           "Côte d'Ivoire"
          ],
          [
           "Cameroon"
          ],
          [
           "Congo, Democratic Republic of the"
          ],
          [
           "Congo"
          ],
          [
           "Djibouti"
          ],
          [
           "Algeria"
          ],
          [
           "Egypt"
          ],
          [
           "Eritrea"
          ],
          [
           "Western Sahara"
          ],
          [
           "Ethiopia"
          ],
          [
           "Gabon"
          ],
          [
           "Ghana"
          ],
          [
           "Guinea"
          ],
          [
           "Gambia"
          ],
          [
           "Guinea-Bissau"
          ],
          [
           "Equatorial Guinea"
          ],
          [
           "Kenya"
          ],
          [
           "Liberia"
          ],
          [
           "Libya"
          ],
          [
           "Lesotho"
          ],
          [
           "Morocco"
          ],
          [
           "Madagascar"
          ],
          [
           "Mali"
          ],
          [
           "Mozambique"
          ],
          [
           "Mauritania"
          ],
          [
           "Mauritius"
          ],
          [
           "Malawi"
          ],
          [
           "Namibia"
          ],
          [
           "Niger"
          ],
          [
           "Nigeria"
          ],
          [
           "Rwanda"
          ],
          [
           "Sudan"
          ],
          [
           "Senegal"
          ],
          [
           "Sierra Leone"
          ],
          [
           "Somalia"
          ],
          [
           "South Sudan"
          ],
          [
           "Sao Tome and Principe"
          ],
          [
           "Eswatini"
          ],
          [
           "Chad"
          ],
          [
           "Togo"
          ],
          [
           "Tunisia"
          ],
          [
           "Tanzania, United Republic of"
          ],
          [
           "Uganda"
          ],
          [
           "South Africa"
          ],
          [
           "Zambia"
          ],
          [
           "Zimbabwe"
          ]
         ],
         "hovertemplate": "region=Africa<br>NATPiped=%{x}<br>piped_calculated=%{y}<br>Entity=%{customdata[0]}<extra></extra>",
         "legendgroup": "Africa",
         "marker": {
          "color": "#EF553B",
          "symbol": "circle"
         },
         "mode": "markers",
         "name": "Africa",
         "orientation": "v",
         "showlegend": true,
         "type": "scatter",
         "x": [
          42.68,
          38.54,
          39,
          31.76,
          91.4,
          13.33,
          48.61,
          41.78,
          35.73,
          55.2,
          83.72,
          71.25,
          99,
          51.92,
          77.54933333333332,
          44.19,
          88.24000000000001,
          57.01,
          22.82,
          79.32,
          47.75,
          40.72,
          33.02,
          5.3,
          77.08500000000001,
          72.1,
          79.65,
          36,
          52.2,
          41.66,
          61.24,
          100,
          20.42,
          83.66,
          41.54,
          12.24,
          45.92,
          59.6,
          77.28999999999999,
          20.92,
          49.32000000000001,
          4.470000000000001,
          96.88,
          62,
          16.6,
          30.680000000000003,
          93.3,
          40.95,
          23.14,
          90.32,
          34.44,
          26.92
         ],
         "xaxis": "x",
         "y": [
          27.077114025320448,
          69.32835349278031,
          34.32819305850498,
          22.174366170552794,
          78.78096795197919,
          5.364502023677781,
          33.37276624660432,
          23.012708935593782,
          15.731224859946794,
          17.31278076383825,
          58.851218622840584,
          64.64092591385419,
          98.9999082622566,
          41.23608307266116,
          51.449327448498856,
          42.86662229403445,
          47.158315564895496,
          44.82790564921687,
          12.918779311149226,
          72.5384145245886,
          34.742159612580394,
          24.082008076171867,
          42.157406890089455,
          1.7510507028301232,
          56.46498567356595,
          69.15473715082649,
          66.91584155650257,
          25.879987229347226,
          34.365381807620444,
          27.11693824450709,
          49.740193247730176,
          99.99999999999999,
          34.99668363108733,
          78.20382771335026,
          36.356197846422695,
          10.684681464212666,
          67.06862885304614,
          49.14258365991954,
          70.40662479020445,
          19.038052698219616,
          23.22660034043183,
          3.072570581340123,
          92.49743969811422,
          54.00835245216523,
          10.37971953371174,
          26.43767353648459,
          86.94724381338041,
          36.90699372256497,
          28.598541457593555,
          85.46653757009577,
          14.982004557634387,
          20.65191179331978
         ],
         "yaxis": "y"
        },
        {
         "customdata": [
          [
           "Albania"
          ],
          [
           "Austria"
          ],
          [
           "Belgium"
          ],
          [
           "Bulgaria"
          ],
          [
           "Bosnia and Herzegovina"
          ],
          [
           "Belarus"
          ],
          [
           "Switzerland"
          ],
          [
           "Czechia"
          ],
          [
           "Germany"
          ],
          [
           "Denmark"
          ],
          [
           "Spain"
          ],
          [
           "Estonia"
          ],
          [
           "Finland"
          ],
          [
           "France"
          ],
          [
           "United Kingdom of Great Britain and Northern Ireland"
          ],
          [
           "Greece"
          ],
          [
           "Croatia"
          ],
          [
           "Hungary"
          ],
          [
           "Ireland"
          ],
          [
           "Iceland"
          ],
          [
           "Italy"
          ],
          [
           "Liechtenstein"
          ],
          [
           "Lithuania"
          ],
          [
           "Luxembourg"
          ],
          [
           "Latvia"
          ],
          [
           "Moldova, Republic of"
          ],
          [
           "North Macedonia"
          ],
          [
           "Malta"
          ],
          [
           "Montenegro"
          ],
          [
           "Netherlands, Kingdom of the"
          ],
          [
           "Norway"
          ],
          [
           "Poland"
          ],
          [
           "Portugal"
          ],
          [
           "Romania"
          ],
          [
           "Russian Federation"
          ],
          [
           "San Marino"
          ],
          [
           "Serbia"
          ],
          [
           "Slovakia"
          ],
          [
           "Slovenia"
          ],
          [
           "Sweden"
          ],
          [
           "Ukraine"
          ]
         ],
         "hovertemplate": "region=Europe<br>NATPiped=%{x}<br>piped_calculated=%{y}<br>Entity=%{customdata[0]}<extra></extra>",
         "legendgroup": "Europe",
         "marker": {
          "color": "#00cc96",
          "symbol": "circle"
         },
         "mode": "markers",
         "name": "Europe",
         "orientation": "v",
         "showlegend": true,
         "type": "scatter",
         "x": [
          81.12,
          99.705,
          100,
          99.28,
          95.5,
          97.8,
          100,
          100,
          100,
          100,
          100,
          100,
          100,
          100,
          100,
          100,
          94.535,
          100,
          95.72,
          100,
          100,
          100,
          95.84,
          99.76,
          94.9,
          76.33,
          92.03,
          100,
          89.28,
          100,
          100,
          90.4,
          98.68,
          64.7,
          94,
          100,
          94.99,
          98.38,
          100,
          87.55999999999999,
          62.5
         ],
         "xaxis": "x",
         "y": [
          77.16923711072499,
          99.85744266636372,
          99.99999999999999,
          97.52704138170793,
          93.58947098709324,
          92.32555696796047,
          100,
          99.99993155246426,
          99.99999999999999,
          100,
          100.00000000000001,
          99.98397848477047,
          99.91517815183651,
          100,
          99.9997469847074,
          99.99971685647728,
          91.24259941632828,
          100,
          96.32966720043837,
          98.6575862976763,
          99.99857972904408,
          100.00000000000001,
          89.28985273356795,
          97.64740752045483,
          90.72586646911607,
          66.41818930122253,
          83.64296070305453,
          100,
          75.7370631129914,
          99.99999999999999,
          100.00000000000001,
          86.41922668520724,
          97.93281109544046,
          42.645106787694516,
          88.45908896398095,
          100,
          93.04266268346124,
          99.47284396766597,
          100.00000000000001,
          81.07868212691567,
          43.637929398728865
         ],
         "yaxis": "y"
        },
        {
         "customdata": [
          [
           "Argentina"
          ],
          [
           "Bahamas"
          ],
          [
           "Belize"
          ],
          [
           "Bolivia, Plurinational State of"
          ],
          [
           "Brazil"
          ],
          [
           "Canada"
          ],
          [
           "Chile"
          ],
          [
           "Colombia"
          ],
          [
           "Costa Rica"
          ],
          [
           "Cuba"
          ],
          [
           "Dominican Republic"
          ],
          [
           "Ecuador"
          ],
          [
           "Grenada"
          ],
          [
           "Greenland"
          ],
          [
           "Guatemala"
          ],
          [
           "Guyana"
          ],
          [
           "Honduras"
          ],
          [
           "Haiti"
          ],
          [
           "Jamaica"
          ],
          [
           "Saint Kitts and Nevis"
          ],
          [
           "Saint Lucia"
          ],
          [
           "Mexico"
          ],
          [
           "Nicaragua"
          ],
          [
           "Panama"
          ],
          [
           "Peru"
          ],
          [
           "Paraguay"
          ],
          [
           "El Salvador"
          ],
          [
           "Suriname"
          ],
          [
           "Trinidad and Tobago"
          ],
          [
           "Uruguay"
          ],
          [
           "United States of America"
          ],
          [
           "Saint Vincent and the Grenadines"
          ],
          [
           "Venezuela, Bolivarian Republic of"
          ]
         ],
         "hovertemplate": "region=Americas<br>NATPiped=%{x}<br>piped_calculated=%{y}<br>Entity=%{customdata[0]}<extra></extra>",
         "legendgroup": "Americas",
         "marker": {
          "color": "#ab63fa",
          "symbol": "circle"
         },
         "mode": "markers",
         "name": "Americas",
         "orientation": "v",
         "showlegend": true,
         "type": "scatter",
         "x": [
          98.56,
          91.76615384615386,
          86.82,
          67.15,
          98.8,
          100,
          100,
          88.7,
          100,
          80.1,
          80.28,
          91.25,
          87.71692307692308,
          100,
          77.72,
          70.13,
          92,
          18.69,
          83.83,
          87.28615384615384,
          96.38,
          98.48,
          69.58,
          93.42,
          91.85,
          100,
          93,
          80.5,
          89.18153846153847,
          100,
          99.15,
          93.68,
          90.44
         ],
         "xaxis": "x",
         "y": [
          87.10177884446392,
          88.98136444935906,
          79.17300626003964,
          29.785251092265277,
          94.80922682663163,
          99.87934137008885,
          99.97931137243754,
          65.67404068007471,
          99.99999999999999,
          63.68787803775798,
          73.17314711629419,
          81.29746854291497,
          91.10314680111378,
          99.91544360279578,
          72.35181665190999,
          73.33531937880824,
          87.26745571876546,
          20.281926489750692,
          75.3548554181956,
          88.20972919971292,
          96.37827319360642,
          96.1581637366413,
          43.48012721696358,
          86.2207605520912,
          85.32391925211738,
          99.96873605388322,
          87.69798247646544,
          73.4569037521017,
          86.95911602614717,
          99.91574926680815,
          97.76987055286362,
          91.9442638872888,
          76.07546804334068
         ],
         "yaxis": "y"
        },
        {
         "customdata": [
          [
           "Australia"
          ],
          [
           "Fiji"
          ],
          [
           "New Zealand"
          ],
          [
           "Palau"
          ],
          [
           "Papua New Guinea"
          ],
          [
           "Solomon Islands"
          ],
          [
           "Vanuatu"
          ],
          [
           "Samoa"
          ]
         ],
         "hovertemplate": "region=Oceania<br>NATPiped=%{x}<br>piped_calculated=%{y}<br>Entity=%{customdata[0]}<extra></extra>",
         "legendgroup": "Oceania",
         "marker": {
          "color": "#FFA15A",
          "symbol": "circle"
         },
         "mode": "markers",
         "name": "Oceania",
         "orientation": "v",
         "showlegend": true,
         "type": "scatter",
         "x": [
          98.18,
          89.18,
          100,
          85.58,
          16.02,
          46.58,
          49.88,
          88.25999999999999
         ],
         "xaxis": "x",
         "y": [
          95.29363572988005,
          86.85903156924519,
          99.92246437974146,
          29.000000000000007,
          12.726416020174865,
          48.078287828096464,
          45.7184480640727,
          87
         ],
         "yaxis": "y"
        }
       ],
       "layout": {
        "height": 800,
        "legend": {
         "title": {
          "text": "region"
         },
         "tracegroupgap": 0
        },
        "template": {
         "data": {
          "bar": [
           {
            "error_x": {
             "color": "#2a3f5f"
            },
            "error_y": {
             "color": "#2a3f5f"
            },
            "marker": {
             "line": {
              "color": "#E5ECF6",
              "width": 0.5
             },
             "pattern": {
              "fillmode": "overlay",
              "size": 10,
              "solidity": 0.2
             }
            },
            "type": "bar"
           }
          ],
          "barpolar": [
           {
            "marker": {
             "line": {
              "color": "#E5ECF6",
              "width": 0.5
             },
             "pattern": {
              "fillmode": "overlay",
              "size": 10,
              "solidity": 0.2
             }
            },
            "type": "barpolar"
           }
          ],
          "carpet": [
           {
            "aaxis": {
             "endlinecolor": "#2a3f5f",
             "gridcolor": "white",
             "linecolor": "white",
             "minorgridcolor": "white",
             "startlinecolor": "#2a3f5f"
            },
            "baxis": {
             "endlinecolor": "#2a3f5f",
             "gridcolor": "white",
             "linecolor": "white",
             "minorgridcolor": "white",
             "startlinecolor": "#2a3f5f"
            },
            "type": "carpet"
           }
          ],
          "choropleth": [
           {
            "colorbar": {
             "outlinewidth": 0,
             "ticks": ""
            },
            "type": "choropleth"
           }
          ],
          "contour": [
           {
            "colorbar": {
             "outlinewidth": 0,
             "ticks": ""
            },
            "colorscale": [
             [
              0,
              "#0d0887"
             ],
             [
              0.1111111111111111,
              "#46039f"
             ],
             [
              0.2222222222222222,
              "#7201a8"
             ],
             [
              0.3333333333333333,
              "#9c179e"
             ],
             [
              0.4444444444444444,
              "#bd3786"
             ],
             [
              0.5555555555555556,
              "#d8576b"
             ],
             [
              0.6666666666666666,
              "#ed7953"
             ],
             [
              0.7777777777777778,
              "#fb9f3a"
             ],
             [
              0.8888888888888888,
              "#fdca26"
             ],
             [
              1,
              "#f0f921"
             ]
            ],
            "type": "contour"
           }
          ],
          "contourcarpet": [
           {
            "colorbar": {
             "outlinewidth": 0,
             "ticks": ""
            },
            "type": "contourcarpet"
           }
          ],
          "heatmap": [
           {
            "colorbar": {
             "outlinewidth": 0,
             "ticks": ""
            },
            "colorscale": [
             [
              0,
              "#0d0887"
             ],
             [
              0.1111111111111111,
              "#46039f"
             ],
             [
              0.2222222222222222,
              "#7201a8"
             ],
             [
              0.3333333333333333,
              "#9c179e"
             ],
             [
              0.4444444444444444,
              "#bd3786"
             ],
             [
              0.5555555555555556,
              "#d8576b"
             ],
             [
              0.6666666666666666,
              "#ed7953"
             ],
             [
              0.7777777777777778,
              "#fb9f3a"
             ],
             [
              0.8888888888888888,
              "#fdca26"
             ],
             [
              1,
              "#f0f921"
             ]
            ],
            "type": "heatmap"
           }
          ],
          "heatmapgl": [
           {
            "colorbar": {
             "outlinewidth": 0,
             "ticks": ""
            },
            "colorscale": [
             [
              0,
              "#0d0887"
             ],
             [
              0.1111111111111111,
              "#46039f"
             ],
             [
              0.2222222222222222,
              "#7201a8"
             ],
             [
              0.3333333333333333,
              "#9c179e"
             ],
             [
              0.4444444444444444,
              "#bd3786"
             ],
             [
              0.5555555555555556,
              "#d8576b"
             ],
             [
              0.6666666666666666,
              "#ed7953"
             ],
             [
              0.7777777777777778,
              "#fb9f3a"
             ],
             [
              0.8888888888888888,
              "#fdca26"
             ],
             [
              1,
              "#f0f921"
             ]
            ],
            "type": "heatmapgl"
           }
          ],
          "histogram": [
           {
            "marker": {
             "pattern": {
              "fillmode": "overlay",
              "size": 10,
              "solidity": 0.2
             }
            },
            "type": "histogram"
           }
          ],
          "histogram2d": [
           {
            "colorbar": {
             "outlinewidth": 0,
             "ticks": ""
            },
            "colorscale": [
             [
              0,
              "#0d0887"
             ],
             [
              0.1111111111111111,
              "#46039f"
             ],
             [
              0.2222222222222222,
              "#7201a8"
             ],
             [
              0.3333333333333333,
              "#9c179e"
             ],
             [
              0.4444444444444444,
              "#bd3786"
             ],
             [
              0.5555555555555556,
              "#d8576b"
             ],
             [
              0.6666666666666666,
              "#ed7953"
             ],
             [
              0.7777777777777778,
              "#fb9f3a"
             ],
             [
              0.8888888888888888,
              "#fdca26"
             ],
             [
              1,
              "#f0f921"
             ]
            ],
            "type": "histogram2d"
           }
          ],
          "histogram2dcontour": [
           {
            "colorbar": {
             "outlinewidth": 0,
             "ticks": ""
            },
            "colorscale": [
             [
              0,
              "#0d0887"
             ],
             [
              0.1111111111111111,
              "#46039f"
             ],
             [
              0.2222222222222222,
              "#7201a8"
             ],
             [
              0.3333333333333333,
              "#9c179e"
             ],
             [
              0.4444444444444444,
              "#bd3786"
             ],
             [
              0.5555555555555556,
              "#d8576b"
             ],
             [
              0.6666666666666666,
              "#ed7953"
             ],
             [
              0.7777777777777778,
              "#fb9f3a"
             ],
             [
              0.8888888888888888,
              "#fdca26"
             ],
             [
              1,
              "#f0f921"
             ]
            ],
            "type": "histogram2dcontour"
           }
          ],
          "mesh3d": [
           {
            "colorbar": {
             "outlinewidth": 0,
             "ticks": ""
            },
            "type": "mesh3d"
           }
          ],
          "parcoords": [
           {
            "line": {
             "colorbar": {
              "outlinewidth": 0,
              "ticks": ""
             }
            },
            "type": "parcoords"
           }
          ],
          "pie": [
           {
            "automargin": true,
            "type": "pie"
           }
          ],
          "scatter": [
           {
            "fillpattern": {
             "fillmode": "overlay",
             "size": 10,
             "solidity": 0.2
            },
            "type": "scatter"
           }
          ],
          "scatter3d": [
           {
            "line": {
             "colorbar": {
              "outlinewidth": 0,
              "ticks": ""
             }
            },
            "marker": {
             "colorbar": {
              "outlinewidth": 0,
              "ticks": ""
             }
            },
            "type": "scatter3d"
           }
          ],
          "scattercarpet": [
           {
            "marker": {
             "colorbar": {
              "outlinewidth": 0,
              "ticks": ""
             }
            },
            "type": "scattercarpet"
           }
          ],
          "scattergeo": [
           {
            "marker": {
             "colorbar": {
              "outlinewidth": 0,
              "ticks": ""
             }
            },
            "type": "scattergeo"
           }
          ],
          "scattergl": [
           {
            "marker": {
             "colorbar": {
              "outlinewidth": 0,
              "ticks": ""
             }
            },
            "type": "scattergl"
           }
          ],
          "scattermapbox": [
           {
            "marker": {
             "colorbar": {
              "outlinewidth": 0,
              "ticks": ""
             }
            },
            "type": "scattermapbox"
           }
          ],
          "scatterpolar": [
           {
            "marker": {
             "colorbar": {
              "outlinewidth": 0,
              "ticks": ""
             }
            },
            "type": "scatterpolar"
           }
          ],
          "scatterpolargl": [
           {
            "marker": {
             "colorbar": {
              "outlinewidth": 0,
              "ticks": ""
             }
            },
            "type": "scatterpolargl"
           }
          ],
          "scatterternary": [
           {
            "marker": {
             "colorbar": {
              "outlinewidth": 0,
              "ticks": ""
             }
            },
            "type": "scatterternary"
           }
          ],
          "surface": [
           {
            "colorbar": {
             "outlinewidth": 0,
             "ticks": ""
            },
            "colorscale": [
             [
              0,
              "#0d0887"
             ],
             [
              0.1111111111111111,
              "#46039f"
             ],
             [
              0.2222222222222222,
              "#7201a8"
             ],
             [
              0.3333333333333333,
              "#9c179e"
             ],
             [
              0.4444444444444444,
              "#bd3786"
             ],
             [
              0.5555555555555556,
              "#d8576b"
             ],
             [
              0.6666666666666666,
              "#ed7953"
             ],
             [
              0.7777777777777778,
              "#fb9f3a"
             ],
             [
              0.8888888888888888,
              "#fdca26"
             ],
             [
              1,
              "#f0f921"
             ]
            ],
            "type": "surface"
           }
          ],
          "table": [
           {
            "cells": {
             "fill": {
              "color": "#EBF0F8"
             },
             "line": {
              "color": "white"
             }
            },
            "header": {
             "fill": {
              "color": "#C8D4E3"
             },
             "line": {
              "color": "white"
             }
            },
            "type": "table"
           }
          ]
         },
         "layout": {
          "annotationdefaults": {
           "arrowcolor": "#2a3f5f",
           "arrowhead": 0,
           "arrowwidth": 1
          },
          "autotypenumbers": "strict",
          "coloraxis": {
           "colorbar": {
            "outlinewidth": 0,
            "ticks": ""
           }
          },
          "colorscale": {
           "diverging": [
            [
             0,
             "#8e0152"
            ],
            [
             0.1,
             "#c51b7d"
            ],
            [
             0.2,
             "#de77ae"
            ],
            [
             0.3,
             "#f1b6da"
            ],
            [
             0.4,
             "#fde0ef"
            ],
            [
             0.5,
             "#f7f7f7"
            ],
            [
             0.6,
             "#e6f5d0"
            ],
            [
             0.7,
             "#b8e186"
            ],
            [
             0.8,
             "#7fbc41"
            ],
            [
             0.9,
             "#4d9221"
            ],
            [
             1,
             "#276419"
            ]
           ],
           "sequential": [
            [
             0,
             "#0d0887"
            ],
            [
             0.1111111111111111,
             "#46039f"
            ],
            [
             0.2222222222222222,
             "#7201a8"
            ],
            [
             0.3333333333333333,
             "#9c179e"
            ],
            [
             0.4444444444444444,
             "#bd3786"
            ],
            [
             0.5555555555555556,
             "#d8576b"
            ],
            [
             0.6666666666666666,
             "#ed7953"
            ],
            [
             0.7777777777777778,
             "#fb9f3a"
            ],
            [
             0.8888888888888888,
             "#fdca26"
            ],
            [
             1,
             "#f0f921"
            ]
           ],
           "sequentialminus": [
            [
             0,
             "#0d0887"
            ],
            [
             0.1111111111111111,
             "#46039f"
            ],
            [
             0.2222222222222222,
             "#7201a8"
            ],
            [
             0.3333333333333333,
             "#9c179e"
            ],
            [
             0.4444444444444444,
             "#bd3786"
            ],
            [
             0.5555555555555556,
             "#d8576b"
            ],
            [
             0.6666666666666666,
             "#ed7953"
            ],
            [
             0.7777777777777778,
             "#fb9f3a"
            ],
            [
             0.8888888888888888,
             "#fdca26"
            ],
            [
             1,
             "#f0f921"
            ]
           ]
          },
          "colorway": [
           "#636efa",
           "#EF553B",
           "#00cc96",
           "#ab63fa",
           "#FFA15A",
           "#19d3f3",
           "#FF6692",
           "#B6E880",
           "#FF97FF",
           "#FECB52"
          ],
          "font": {
           "color": "#2a3f5f"
          },
          "geo": {
           "bgcolor": "white",
           "lakecolor": "white",
           "landcolor": "#E5ECF6",
           "showlakes": true,
           "showland": true,
           "subunitcolor": "white"
          },
          "hoverlabel": {
           "align": "left"
          },
          "hovermode": "closest",
          "mapbox": {
           "style": "light"
          },
          "paper_bgcolor": "white",
          "plot_bgcolor": "#E5ECF6",
          "polar": {
           "angularaxis": {
            "gridcolor": "white",
            "linecolor": "white",
            "ticks": ""
           },
           "bgcolor": "#E5ECF6",
           "radialaxis": {
            "gridcolor": "white",
            "linecolor": "white",
            "ticks": ""
           }
          },
          "scene": {
           "xaxis": {
            "backgroundcolor": "#E5ECF6",
            "gridcolor": "white",
            "gridwidth": 2,
            "linecolor": "white",
            "showbackground": true,
            "ticks": "",
            "zerolinecolor": "white"
           },
           "yaxis": {
            "backgroundcolor": "#E5ECF6",
            "gridcolor": "white",
            "gridwidth": 2,
            "linecolor": "white",
            "showbackground": true,
            "ticks": "",
            "zerolinecolor": "white"
           },
           "zaxis": {
            "backgroundcolor": "#E5ECF6",
            "gridcolor": "white",
            "gridwidth": 2,
            "linecolor": "white",
            "showbackground": true,
            "ticks": "",
            "zerolinecolor": "white"
           }
          },
          "shapedefaults": {
           "line": {
            "color": "#2a3f5f"
           }
          },
          "ternary": {
           "aaxis": {
            "gridcolor": "white",
            "linecolor": "white",
            "ticks": ""
           },
           "baxis": {
            "gridcolor": "white",
            "linecolor": "white",
            "ticks": ""
           },
           "bgcolor": "#E5ECF6",
           "caxis": {
            "gridcolor": "white",
            "linecolor": "white",
            "ticks": ""
           }
          },
          "title": {
           "x": 0.05
          },
          "xaxis": {
           "automargin": true,
           "gridcolor": "white",
           "linecolor": "white",
           "ticks": "",
           "title": {
            "standoff": 15
           },
           "zerolinecolor": "white",
           "zerolinewidth": 2
          },
          "yaxis": {
           "automargin": true,
           "gridcolor": "white",
           "linecolor": "white",
           "ticks": "",
           "title": {
            "standoff": 15
           },
           "zerolinecolor": "white",
           "zerolinewidth": 2
          }
         }
        },
        "title": {
         "text": "Piped Calculated vs NATPiped"
        },
        "width": 1200,
        "xaxis": {
         "anchor": "y",
         "domain": [
          0,
          1
         ],
         "range": [
          0,
          105
         ],
         "title": {
          "text": "NATPiped"
         }
        },
        "yaxis": {
         "anchor": "x",
         "domain": [
          0,
          1
         ],
         "range": [
          0,
          105
         ],
         "title": {
          "text": "piped_calculated"
         }
        }
       }
      }
     },
     "metadata": {},
     "output_type": "display_data"
    }
   ],
   "source": [
    "import plotly.express as px\n",
    "\n",
    "fig = px.scatter(\n",
    "    country_medians, x=\"NATPiped\", y=\"piped_calculated\", \n",
    "    labels={'x':'NATPiped', 'y':'Piped Calculated'}, \n",
    "    title=\"Piped Calculated vs NATPiped\",\n",
    "    # size=\"bubble_size\",\n",
    "    color=\"region\",\n",
    "    hover_data=['Entity']\n",
    ").update_layout(\n",
    "    width=1200,\n",
    "    height=800,\n",
    ").update_xaxes(\n",
    "    range=[0, 105]\n",
    ").update_yaxes(\n",
    "    range=[0, 105]\n",
    ")\n",
    "\n",
    "fig.show()"
   ]
  },
  {
   "cell_type": "code",
   "execution_count": 26,
   "metadata": {},
   "outputs": [
    {
     "data": {
      "text/plain": [
       "SignificanceResult(statistic=0.9686257359171735, pvalue=1.4634310038461185e-109)"
      ]
     },
     "execution_count": 26,
     "metadata": {},
     "output_type": "execute_result"
    }
   ],
   "source": [
    "correlation_piped = spearmanr(country_medians[\"NATPiped\"], country_medians[\"piped_calculated\"])\n",
    "correlation_piped\n"
   ]
  },
  {
   "cell_type": "code",
   "execution_count": 27,
   "metadata": {},
   "outputs": [
    {
     "data": {
      "application/vnd.plotly.v1+json": {
       "config": {
        "plotlyServerURL": "https://plot.ly"
       },
       "data": [
        {
         "hovertemplate": "<b>%{hovertext}</b><br><br>region=Asia<br>piped_calculated=%{x}<br>percent_without_water=%{y}<br>bubble_size=%{marker.size}<extra></extra>",
         "hovertext": [
          "Afghanistan",
          "United Arab Emirates",
          "Armenia",
          "Azerbaijan",
          "Bangladesh",
          "Bahrain",
          "Brunei Darussalam",
          "Bhutan",
          "China",
          "Cyprus",
          "Georgia",
          "Indonesia",
          "India",
          "Iran, Islamic Republic of",
          "Iraq",
          "Israel",
          "Jordan",
          "Japan",
          "Kazakhstan",
          "Kyrgyzstan",
          "Cambodia",
          "Korea, Republic of",
          "Lao People's Democratic Republic",
          "Lebanon",
          "Sri Lanka",
          "Myanmar",
          "Mongolia",
          "Malaysia",
          "Nepal",
          "Oman",
          "Pakistan",
          "Philippines",
          "Korea, Democratic People's Republic of",
          "Qatar",
          "Saudi Arabia",
          "Singapore",
          "Syrian Arab Republic",
          "Thailand",
          "Tajikistan",
          "Turkmenistan",
          "Timor-Leste",
          "Türkiye",
          "Taiwan, Province of China",
          "Uzbekistan",
          "Viet Nam",
          "Yemen"
         ],
         "legendgroup": "Asia",
         "marker": {
          "color": "#636efa",
          "size": [
           6311.531351423361,
           3160.8674442310926,
           1722.8255860649388,
           3197.3964408562165,
           12895.871199729005,
           1322.2310690647078,
           664.4787430761048,
           883.1194709664146,
           38002.843340992265,
           1102.5370742065772,
           1994.9368411055023,
           16624.13269918163,
           37328.394460517586,
           9221.10405537211,
           6417.113915149083,
           2964.7556391716334,
           3204.531479015302,
           11227.23456600066,
           4358.320548101069,
           2574.5576319049455,
           4116.606126410444,
           7162.763712422741,
           2716.4973771384357,
           2601.759212532935,
           4636.518737156144,
           7403.108401205537,
           1824.6320176956228,
           5725.049781442953,
           5447.469137131481,
           2285.4706298703554,
           15006.662820227555,
           10537.879767771125,
           5087.931308498573,
           1711.8773320539062,
           5944.80277216999,
           2428.3088765640996,
           4275.009239756097,
           8363.662116561141,
           3122.438950564126,
           2473.4455724757718,
           1159.2562270697535,
           9221.86185105806,
           4884.15888357453,
           5825.44118500908,
           9908.018419441902,
           5521.832938436294
          ],
          "sizemode": "area",
          "sizeref": 95.00710835248066,
          "symbol": "circle"
         },
         "mode": "markers",
         "name": "Asia",
         "orientation": "v",
         "showlegend": true,
         "type": "scatter",
         "x": [
          21.62504146175778,
          99.99999999999999,
          99.99882688031316,
          90.30829056401357,
          27.405526408449905,
          100,
          99.99265732586453,
          100,
          82.61580662358375,
          100.00000000000001,
          78.13624295794929,
          20.961655884003925,
          47.65949322828601,
          97.27169206621517,
          75.38966437587939,
          100,
          82.91808818836864,
          89.27019112564568,
          63.823975373201435,
          92.04616134563642,
          33.589488316223665,
          100,
          19.69512980996796,
          91.29426353993843,
          70.11952495084874,
          26.711745329893496,
          17.08892909662759,
          90.28244837721039,
          51.07860049142542,
          85.62259363605531,
          26.380563872873932,
          69.80123643458668,
          52.95749642804125,
          99.99916151117996,
          84.66978715457044,
          100,
          74.41388176066086,
          83.67678552831691,
          65.1591440699474,
          29.89162665225558,
          67.03592278787859,
          88.48098551272207,
          93.15496143914713,
          64.7721369781931,
          60.0485728770192,
          49.92497430593312
         ],
         "xaxis": "x",
         "y": [
          12.087214177080575,
          99.93477667227891,
          52.7262708359487,
          34.601895251244414,
          10.853192878136138,
          100,
          24.77663853700314,
          61.19372423627557,
          20.393063259194957,
          45.38985069699906,
          32.74021902407018,
          9.77565534424378,
          17.686202171736394,
          61.911258268290695,
          34.172729807795946,
          78.7743593140876,
          61.25212194947586,
          15.237749521689132,
          34.26181020739587,
          27.879555288915853,
          7.717671177556765,
          44.46719995106172,
          4.184641709819331,
          54.70595036853058,
          24.59558387808553,
          7.638594213459067,
          5.298096008652025,
          31.33649703577304,
          13.0312756557727,
          81.02537205280217,
          8.655947254498184,
          22.804036807505906,
          20.13343042727561,
          99.99916151117996,
          84.02794193850892,
          61.29922765813821,
          51.86436834844093,
          20.14164595998497,
          26.114202728605456,
          18.134654768432306,
          65.58394306961304,
          42.9367750435974,
          19.615184799266828,
          28.50857646759551,
          8.319340144725935,
          47.354444246706734
         ],
         "yaxis": "y"
        },
        {
         "hovertemplate": "<b>%{hovertext}</b><br><br>region=Africa<br>piped_calculated=%{x}<br>percent_without_water=%{y}<br>bubble_size=%{marker.size}<extra></extra>",
         "hovertext": [
          "Angola",
          "Burundi",
          "Benin",
          "Burkina Faso",
          "Botswana",
          "Central African Republic",
          "Côte d'Ivoire",
          "Cameroon",
          "Congo, Democratic Republic of the",
          "Congo",
          "Djibouti",
          "Algeria",
          "Egypt",
          "Eritrea",
          "Western Sahara",
          "Ethiopia",
          "Gabon",
          "Ghana",
          "Guinea",
          "Gambia",
          "Guinea-Bissau",
          "Equatorial Guinea",
          "Kenya",
          "Liberia",
          "Libya",
          "Lesotho",
          "Morocco",
          "Madagascar",
          "Mali",
          "Mozambique",
          "Mauritania",
          "Mauritius",
          "Malawi",
          "Namibia",
          "Niger",
          "Nigeria",
          "Rwanda",
          "Sudan",
          "Senegal",
          "Sierra Leone",
          "Somalia",
          "South Sudan",
          "Sao Tome and Principe",
          "Eswatini",
          "Chad",
          "Togo",
          "Tunisia",
          "Tanzania, United Republic of",
          "Uganda",
          "South Africa",
          "Zambia",
          "Zimbabwe"
         ],
         "legendgroup": "Africa",
         "marker": {
          "color": "#EF553B",
          "size": [
           5825.256303374127,
           3500.775485517459,
           3528.601847757834,
           4636.496198639658,
           1548.3022960649512,
           2218.104370853635,
           5201.310315680079,
           5217.687418770887,
           9611.346731858132,
           2378.4484438389663,
           1001.0978973107475,
           6679.567800389484,
           10210.696695133001,
           1897.7518278215412,
           782.222474747434,
           10857.081836294687,
           1509.5790804061905,
           5633.127728003334,
           3673.8585982587842,
           1577.0025364595963,
           1419.6795413050088,
           1204.1141972421055,
           7415.234453474819,
           2276.007029866121,
           2637.9040922671925,
           1469.376398340466,
           6111.0381278470195,
           5331.728894083044,
           4566.806761841363,
           5671.247217323541,
           2185.202507778169,
           1128.4626710706916,
           4432.570473213032,
           1608.5223032336232,
           5013.063933364505,
           14539.625304663115,
           3643.69551417239,
           6701.443948881465,
           4146.8431366522655,
           2853.3038744585197,
           4044.687874237022,
           3373.62964772365,
           472.6140074098524,
           1082.759899516047,
           4112.783120953499,
           2911.742090227086,
           3454.817506034147,
           7842.09398056412,
           6864.658258063543,
           7748.677048374128,
           4349.788155761152,
           3884.8643476960683
          ],
          "sizemode": "area",
          "sizeref": 95.00710835248066,
          "symbol": "circle"
         },
         "mode": "markers",
         "name": "Africa",
         "orientation": "v",
         "showlegend": true,
         "type": "scatter",
         "x": [
          27.077114025320448,
          69.32835349278031,
          34.32819305850498,
          22.174366170552794,
          78.78096795197919,
          5.364502023677781,
          33.37276624660432,
          23.012708935593782,
          15.731224859946794,
          17.31278076383825,
          58.851218622840584,
          64.64092591385419,
          98.9999082622566,
          41.23608307266116,
          51.449327448498856,
          42.86662229403445,
          47.158315564895496,
          44.82790564921687,
          12.918779311149226,
          72.5384145245886,
          34.742159612580394,
          24.082008076171867,
          42.157406890089455,
          1.7510507028301232,
          56.46498567356595,
          69.15473715082649,
          66.91584155650257,
          25.879987229347226,
          34.365381807620444,
          27.11693824450709,
          49.740193247730176,
          99.99999999999999,
          34.99668363108733,
          78.20382771335026,
          36.356197846422695,
          10.684681464212666,
          67.06862885304614,
          49.14258365991954,
          70.40662479020445,
          19.038052698219616,
          23.22660034043183,
          3.072570581340123,
          92.49743969811422,
          54.00835245216523,
          10.37971953371174,
          26.43767353648459,
          86.94724381338041,
          36.90699372256497,
          28.598541457593555,
          85.46653757009577,
          14.982004557634387,
          20.65191179331978
         ],
         "xaxis": "x",
         "y": [
          18.137981031998727,
          37.39345904921628,
          15.897513327678368,
          11.833689846152732,
          73.71653518764442,
          3.307354255137165,
          12.99410007794564,
          12.122014850484923,
          6.550200417486968,
          9.344744341822636,
          58.44451256203694,
          47.10205850014813,
          41.07144973596121,
          36.939524444290726,
          51.3860465868609,
          33.02148951388466,
          32.80992664579617,
          23.33527416274813,
          6.50437981612718,
          32.684681826162944,
          14.42723775517718,
          9.75067395759515,
          22.266114187511235,
          1.578507539224121,
          56.4445573154642,
          23.54302623140049,
          47.50988047985524,
          13.801852419116251,
          20.087370514442146,
          10.426783372755365,
          46.83149384766151,
          9.837112179018026,
          10.8868184491683,
          73.0936177071667,
          32.2350995100355,
          5.26634758049806,
          39.59661266775444,
          41.78693801925486,
          60.1502052319829,
          12.209292398920086,
          22.29118302999396,
          2.265170035967808,
          63.005045309618666,
          14.863936456952512,
          5.998827664366377,
          12.686198553511703,
          61.33587306236362,
          12.796208985441474,
          11.049074829997297,
          40.624132489832576,
          7.035229961833748,
          11.071029118460856
         ],
         "yaxis": "y"
        },
        {
         "hovertemplate": "<b>%{hovertext}</b><br><br>region=Europe<br>piped_calculated=%{x}<br>percent_without_water=%{y}<br>bubble_size=%{marker.size}<extra></extra>",
         "hovertext": [
          "Albania",
          "Austria",
          "Belgium",
          "Bulgaria",
          "Bosnia and Herzegovina",
          "Belarus",
          "Switzerland",
          "Czechia",
          "Germany",
          "Denmark",
          "Spain",
          "Estonia",
          "Finland",
          "France",
          "United Kingdom of Great Britain and Northern Ireland",
          "Greece",
          "Croatia",
          "Hungary",
          "Ireland",
          "Iceland",
          "Italy",
          "Liechtenstein",
          "Lithuania",
          "Luxembourg",
          "Latvia",
          "Moldova, Republic of",
          "North Macedonia",
          "Malta",
          "Montenegro",
          "Netherlands, Kingdom of the",
          "Norway",
          "Poland",
          "Portugal",
          "Romania",
          "Russian Federation",
          "San Marino",
          "Serbia",
          "Slovakia",
          "Slovenia",
          "Sweden",
          "Ukraine"
         ],
         "legendgroup": "Europe",
         "marker": {
          "color": "#00cc96",
          "size": [
           1694.9731561296182,
           3007.1700982817715,
           3410.6207646116272,
           2626.1483202591585,
           1806.504636030586,
           3072.9248282377494,
           2952.2015513849997,
           3274.836331788201,
           9159.720028472486,
           2411.0790115630803,
           6837.046950255643,
           1151.1681024072898,
           2355.495913815178,
           8088.644942139567,
           8258.759834260833,
           3220.364420372328,
           2020.3111146553642,
           3103.8946502740714,
           2232.2419223731104,
           585.9692824713596,
           7769.650635646367,
           195.5862980885931,
           1640.0798761036,
           796.7521571982093,
           1366.3579326077045,
           2005.9972582234502,
           1443.1427510818187,
           665.4246764285195,
           792.4966876902389,
           4144.043194755576,
           2337.868473631483,
           6147.926479716556,
           3188.7180809848965,
           4373.5308390361215,
           12079.404869446176,
           184.41800345953212,
           2949.1603889920943,
           2336.8196336046135,
           1441.7777221194674,
           3187.50043137252,
           6592.937281667406
          ],
          "sizemode": "area",
          "sizeref": 95.00710835248066,
          "symbol": "circle"
         },
         "mode": "markers",
         "name": "Europe",
         "orientation": "v",
         "showlegend": true,
         "type": "scatter",
         "x": [
          77.16923711072499,
          99.85744266636372,
          99.99999999999999,
          97.52704138170793,
          93.58947098709324,
          92.32555696796047,
          100,
          99.99993155246426,
          99.99999999999999,
          100,
          100.00000000000001,
          99.98397848477047,
          99.91517815183651,
          100,
          99.9997469847074,
          99.99971685647728,
          91.24259941632828,
          100,
          96.32966720043837,
          98.6575862976763,
          99.99857972904408,
          100.00000000000001,
          89.28985273356795,
          97.64740752045483,
          90.72586646911607,
          66.41818930122253,
          83.64296070305453,
          100,
          75.7370631129914,
          99.99999999999999,
          100.00000000000001,
          86.41922668520724,
          97.93281109544046,
          42.645106787694516,
          88.45908896398095,
          100,
          93.04266268346124,
          99.47284396766597,
          100.00000000000001,
          81.07868212691567,
          43.637929398728865
         ],
         "xaxis": "x",
         "y": [
          15.412577502964298,
          8.749873383744362,
          17.892677094065533,
          37.6180923658431,
          35.071983701190334,
          21.940313242767623,
          12.49974243988012,
          31.04027116377184,
          16.434072540553814,
          8.31340886843461,
          30.41922534375581,
          38.94422455490183,
          10.339102775056904,
          17.735203334715337,
          21.55794396369052,
          69.34192222823688,
          34.02722979110092,
          31.33780800455346,
          22.647547371638915,
          38.75480488288186,
          21.86789394023648,
          17.376179372494263,
          17.432549106017678,
          21.428459069658583,
          29.041808559099927,
          21.618367552769705,
          24.68315938567734,
          53.02028820017647,
          40.260327682442885,
          5.3709112815633215,
          13.275356627181958,
          16.06937600642218,
          43.65045882539198,
          15.901435333818206,
          35.093352823200405,
          34.37,
          35.18815995840521,
          20.775588518029394,
          11.852844634595764,
          6.879396773082431,
          14.7689923104747
         ],
         "yaxis": "y"
        },
        {
         "hovertemplate": "<b>%{hovertext}</b><br><br>region=Americas<br>piped_calculated=%{x}<br>percent_without_water=%{y}<br>bubble_size=%{marker.size}<extra></extra>",
         "hovertext": [
          "Argentina",
          "Bahamas",
          "Belize",
          "Bolivia, Plurinational State of",
          "Brazil",
          "Canada",
          "Chile",
          "Colombia",
          "Costa Rica",
          "Cuba",
          "Dominican Republic",
          "Ecuador",
          "Grenada",
          "Greenland",
          "Guatemala",
          "Guyana",
          "Honduras",
          "Haiti",
          "Jamaica",
          "Saint Kitts and Nevis",
          "Saint Lucia",
          "Mexico",
          "Nicaragua",
          "Panama",
          "Peru",
          "Paraguay",
          "El Salvador",
          "Suriname",
          "Trinidad and Tobago",
          "Uruguay",
          "United States of America",
          "Saint Vincent and the Grenadines",
          "Venezuela, Bolivarian Republic of"
         ],
         "legendgroup": "Americas",
         "marker": {
          "color": "#ab63fa",
          "size": [
           6753.2083486295605,
           630.0111110131313,
           636.329317256403,
           3439.903487018204,
           14628.514654605231,
           6169.920015689021,
           4383.19084686031,
           7160.01682958916,
           2266.947948233483,
           3364.1489265488826,
           3309.6395574140697,
           4229.476799794509,
           336.17703669346605,
           238.47012391492567,
           4271.9864231994,
           889.004499426184,
           3172.222249464876,
           3397.3052556401226,
           1724.3729295022001,
           231.40008643040738,
           429.41937543618127,
           11413.24756587712,
           2588.895324264772,
           2093.2231128095254,
           5775.760988822166,
           2686.9389646957,
           2553.1353273964933,
           769.284082767868,
           1184.6408738516495,
           1866.856180855933,
           18245.96048444696,
           333.5700825913499,
           5357.699786288888
          ],
          "sizemode": "area",
          "sizeref": 95.00710835248066,
          "symbol": "circle"
         },
         "mode": "markers",
         "name": "Americas",
         "orientation": "v",
         "showlegend": true,
         "type": "scatter",
         "x": [
          87.10177884446392,
          88.98136444935906,
          79.17300626003964,
          29.785251092265277,
          94.80922682663163,
          99.87934137008885,
          99.97931137243754,
          65.67404068007471,
          99.99999999999999,
          63.68787803775798,
          73.17314711629419,
          81.29746854291497,
          91.10314680111378,
          99.91544360279578,
          72.35181665190999,
          73.33531937880824,
          87.26745571876546,
          20.281926489750692,
          75.3548554181956,
          88.20972919971292,
          96.37827319360642,
          96.1581637366413,
          43.48012721696358,
          86.2207605520912,
          85.32391925211738,
          99.96873605388322,
          87.69798247646544,
          73.4569037521017,
          86.95911602614717,
          99.91574926680815,
          97.76987055286362,
          91.9442638872888,
          76.07546804334068
         ],
         "xaxis": "x",
         "y": [
          35.45285101368195,
          41.37729658684501,
          10.710917126024931,
          16.72214271006142,
          40.75330849347167,
          22.136028013755077,
          38.462377667415,
          30.083304907664413,
          24.023106133230943,
          25.10813532228256,
          40.32830392583999,
          28.604682410866875,
          56.67817969982113,
          87.1318417735669,
          35.296962579702324,
          7.753108821234653,
          35.84322252666399,
          10.44772088142355,
          34.35161233512183,
          54.17323478168237,
          57.47694395796271,
          54.99619765138917,
          24.2626626785505,
          13.887701456730518,
          48.12468688560664,
          46.76880602670818,
          35.013060756594726,
          12.016236124069527,
          45.30936200710487,
          56.14790907950872,
          34.1228646169388,
          44.184957311232026,
          47.13635062382805
         ],
         "yaxis": "y"
        },
        {
         "hovertemplate": "<b>%{hovertext}</b><br><br>region=Oceania<br>piped_calculated=%{x}<br>percent_without_water=%{y}<br>bubble_size=%{marker.size}<extra></extra>",
         "hovertext": [
          "Australia",
          "Fiji",
          "New Zealand",
          "Palau",
          "Papua New Guinea",
          "Solomon Islands",
          "Vanuatu",
          "Samoa"
         ],
         "legendgroup": "Oceania",
         "marker": {
          "color": "#FFA15A",
          "size": [
           5078.210019288294,
           950.209976794603,
           2204.686372253432,
           134.8109787814034,
           3019.7690309028603,
           839.0440989602394,
           560.7708979610122,
           447.3745634253249
          ],
          "sizemode": "area",
          "sizeref": 95.00710835248066,
          "symbol": "circle"
         },
         "mode": "markers",
         "name": "Oceania",
         "orientation": "v",
         "showlegend": true,
         "type": "scatter",
         "x": [
          95.29363572988005,
          86.85903156924519,
          99.92246437974146,
          29.000000000000007,
          12.726416020174865,
          48.078287828096464,
          45.7184480640727,
          87
         ],
         "xaxis": "x",
         "y": [
          21.8792033630203,
          38.77211549203192,
          19.433620482235707,
          20.82532713802025,
          2.6938640654959447,
          19.4933062313668,
          22.5704670457485,
          67.37580188911696
         ],
         "yaxis": "y"
        }
       ],
       "layout": {
        "font": {
         "size": 25
        },
        "height": 800,
        "legend": {
         "itemsizing": "constant",
         "title": {
          "text": "Region"
         },
         "tracegroupgap": 0
        },
        "margin": {
         "t": 60
        },
        "template": {
         "data": {
          "bar": [
           {
            "error_x": {
             "color": "#2a3f5f"
            },
            "error_y": {
             "color": "#2a3f5f"
            },
            "marker": {
             "line": {
              "color": "#E5ECF6",
              "width": 0.5
             },
             "pattern": {
              "fillmode": "overlay",
              "size": 10,
              "solidity": 0.2
             }
            },
            "type": "bar"
           }
          ],
          "barpolar": [
           {
            "marker": {
             "line": {
              "color": "#E5ECF6",
              "width": 0.5
             },
             "pattern": {
              "fillmode": "overlay",
              "size": 10,
              "solidity": 0.2
             }
            },
            "type": "barpolar"
           }
          ],
          "carpet": [
           {
            "aaxis": {
             "endlinecolor": "#2a3f5f",
             "gridcolor": "white",
             "linecolor": "white",
             "minorgridcolor": "white",
             "startlinecolor": "#2a3f5f"
            },
            "baxis": {
             "endlinecolor": "#2a3f5f",
             "gridcolor": "white",
             "linecolor": "white",
             "minorgridcolor": "white",
             "startlinecolor": "#2a3f5f"
            },
            "type": "carpet"
           }
          ],
          "choropleth": [
           {
            "colorbar": {
             "outlinewidth": 0,
             "ticks": ""
            },
            "type": "choropleth"
           }
          ],
          "contour": [
           {
            "colorbar": {
             "outlinewidth": 0,
             "ticks": ""
            },
            "colorscale": [
             [
              0,
              "#0d0887"
             ],
             [
              0.1111111111111111,
              "#46039f"
             ],
             [
              0.2222222222222222,
              "#7201a8"
             ],
             [
              0.3333333333333333,
              "#9c179e"
             ],
             [
              0.4444444444444444,
              "#bd3786"
             ],
             [
              0.5555555555555556,
              "#d8576b"
             ],
             [
              0.6666666666666666,
              "#ed7953"
             ],
             [
              0.7777777777777778,
              "#fb9f3a"
             ],
             [
              0.8888888888888888,
              "#fdca26"
             ],
             [
              1,
              "#f0f921"
             ]
            ],
            "type": "contour"
           }
          ],
          "contourcarpet": [
           {
            "colorbar": {
             "outlinewidth": 0,
             "ticks": ""
            },
            "type": "contourcarpet"
           }
          ],
          "heatmap": [
           {
            "colorbar": {
             "outlinewidth": 0,
             "ticks": ""
            },
            "colorscale": [
             [
              0,
              "#0d0887"
             ],
             [
              0.1111111111111111,
              "#46039f"
             ],
             [
              0.2222222222222222,
              "#7201a8"
             ],
             [
              0.3333333333333333,
              "#9c179e"
             ],
             [
              0.4444444444444444,
              "#bd3786"
             ],
             [
              0.5555555555555556,
              "#d8576b"
             ],
             [
              0.6666666666666666,
              "#ed7953"
             ],
             [
              0.7777777777777778,
              "#fb9f3a"
             ],
             [
              0.8888888888888888,
              "#fdca26"
             ],
             [
              1,
              "#f0f921"
             ]
            ],
            "type": "heatmap"
           }
          ],
          "heatmapgl": [
           {
            "colorbar": {
             "outlinewidth": 0,
             "ticks": ""
            },
            "colorscale": [
             [
              0,
              "#0d0887"
             ],
             [
              0.1111111111111111,
              "#46039f"
             ],
             [
              0.2222222222222222,
              "#7201a8"
             ],
             [
              0.3333333333333333,
              "#9c179e"
             ],
             [
              0.4444444444444444,
              "#bd3786"
             ],
             [
              0.5555555555555556,
              "#d8576b"
             ],
             [
              0.6666666666666666,
              "#ed7953"
             ],
             [
              0.7777777777777778,
              "#fb9f3a"
             ],
             [
              0.8888888888888888,
              "#fdca26"
             ],
             [
              1,
              "#f0f921"
             ]
            ],
            "type": "heatmapgl"
           }
          ],
          "histogram": [
           {
            "marker": {
             "pattern": {
              "fillmode": "overlay",
              "size": 10,
              "solidity": 0.2
             }
            },
            "type": "histogram"
           }
          ],
          "histogram2d": [
           {
            "colorbar": {
             "outlinewidth": 0,
             "ticks": ""
            },
            "colorscale": [
             [
              0,
              "#0d0887"
             ],
             [
              0.1111111111111111,
              "#46039f"
             ],
             [
              0.2222222222222222,
              "#7201a8"
             ],
             [
              0.3333333333333333,
              "#9c179e"
             ],
             [
              0.4444444444444444,
              "#bd3786"
             ],
             [
              0.5555555555555556,
              "#d8576b"
             ],
             [
              0.6666666666666666,
              "#ed7953"
             ],
             [
              0.7777777777777778,
              "#fb9f3a"
             ],
             [
              0.8888888888888888,
              "#fdca26"
             ],
             [
              1,
              "#f0f921"
             ]
            ],
            "type": "histogram2d"
           }
          ],
          "histogram2dcontour": [
           {
            "colorbar": {
             "outlinewidth": 0,
             "ticks": ""
            },
            "colorscale": [
             [
              0,
              "#0d0887"
             ],
             [
              0.1111111111111111,
              "#46039f"
             ],
             [
              0.2222222222222222,
              "#7201a8"
             ],
             [
              0.3333333333333333,
              "#9c179e"
             ],
             [
              0.4444444444444444,
              "#bd3786"
             ],
             [
              0.5555555555555556,
              "#d8576b"
             ],
             [
              0.6666666666666666,
              "#ed7953"
             ],
             [
              0.7777777777777778,
              "#fb9f3a"
             ],
             [
              0.8888888888888888,
              "#fdca26"
             ],
             [
              1,
              "#f0f921"
             ]
            ],
            "type": "histogram2dcontour"
           }
          ],
          "mesh3d": [
           {
            "colorbar": {
             "outlinewidth": 0,
             "ticks": ""
            },
            "type": "mesh3d"
           }
          ],
          "parcoords": [
           {
            "line": {
             "colorbar": {
              "outlinewidth": 0,
              "ticks": ""
             }
            },
            "type": "parcoords"
           }
          ],
          "pie": [
           {
            "automargin": true,
            "type": "pie"
           }
          ],
          "scatter": [
           {
            "fillpattern": {
             "fillmode": "overlay",
             "size": 10,
             "solidity": 0.2
            },
            "type": "scatter"
           }
          ],
          "scatter3d": [
           {
            "line": {
             "colorbar": {
              "outlinewidth": 0,
              "ticks": ""
             }
            },
            "marker": {
             "colorbar": {
              "outlinewidth": 0,
              "ticks": ""
             }
            },
            "type": "scatter3d"
           }
          ],
          "scattercarpet": [
           {
            "marker": {
             "colorbar": {
              "outlinewidth": 0,
              "ticks": ""
             }
            },
            "type": "scattercarpet"
           }
          ],
          "scattergeo": [
           {
            "marker": {
             "colorbar": {
              "outlinewidth": 0,
              "ticks": ""
             }
            },
            "type": "scattergeo"
           }
          ],
          "scattergl": [
           {
            "marker": {
             "colorbar": {
              "outlinewidth": 0,
              "ticks": ""
             }
            },
            "type": "scattergl"
           }
          ],
          "scattermapbox": [
           {
            "marker": {
             "colorbar": {
              "outlinewidth": 0,
              "ticks": ""
             }
            },
            "type": "scattermapbox"
           }
          ],
          "scatterpolar": [
           {
            "marker": {
             "colorbar": {
              "outlinewidth": 0,
              "ticks": ""
             }
            },
            "type": "scatterpolar"
           }
          ],
          "scatterpolargl": [
           {
            "marker": {
             "colorbar": {
              "outlinewidth": 0,
              "ticks": ""
             }
            },
            "type": "scatterpolargl"
           }
          ],
          "scatterternary": [
           {
            "marker": {
             "colorbar": {
              "outlinewidth": 0,
              "ticks": ""
             }
            },
            "type": "scatterternary"
           }
          ],
          "surface": [
           {
            "colorbar": {
             "outlinewidth": 0,
             "ticks": ""
            },
            "colorscale": [
             [
              0,
              "#0d0887"
             ],
             [
              0.1111111111111111,
              "#46039f"
             ],
             [
              0.2222222222222222,
              "#7201a8"
             ],
             [
              0.3333333333333333,
              "#9c179e"
             ],
             [
              0.4444444444444444,
              "#bd3786"
             ],
             [
              0.5555555555555556,
              "#d8576b"
             ],
             [
              0.6666666666666666,
              "#ed7953"
             ],
             [
              0.7777777777777778,
              "#fb9f3a"
             ],
             [
              0.8888888888888888,
              "#fdca26"
             ],
             [
              1,
              "#f0f921"
             ]
            ],
            "type": "surface"
           }
          ],
          "table": [
           {
            "cells": {
             "fill": {
              "color": "#EBF0F8"
             },
             "line": {
              "color": "white"
             }
            },
            "header": {
             "fill": {
              "color": "#C8D4E3"
             },
             "line": {
              "color": "white"
             }
            },
            "type": "table"
           }
          ]
         },
         "layout": {
          "annotationdefaults": {
           "arrowcolor": "#2a3f5f",
           "arrowhead": 0,
           "arrowwidth": 1
          },
          "autotypenumbers": "strict",
          "coloraxis": {
           "colorbar": {
            "outlinewidth": 0,
            "ticks": ""
           }
          },
          "colorscale": {
           "diverging": [
            [
             0,
             "#8e0152"
            ],
            [
             0.1,
             "#c51b7d"
            ],
            [
             0.2,
             "#de77ae"
            ],
            [
             0.3,
             "#f1b6da"
            ],
            [
             0.4,
             "#fde0ef"
            ],
            [
             0.5,
             "#f7f7f7"
            ],
            [
             0.6,
             "#e6f5d0"
            ],
            [
             0.7,
             "#b8e186"
            ],
            [
             0.8,
             "#7fbc41"
            ],
            [
             0.9,
             "#4d9221"
            ],
            [
             1,
             "#276419"
            ]
           ],
           "sequential": [
            [
             0,
             "#0d0887"
            ],
            [
             0.1111111111111111,
             "#46039f"
            ],
            [
             0.2222222222222222,
             "#7201a8"
            ],
            [
             0.3333333333333333,
             "#9c179e"
            ],
            [
             0.4444444444444444,
             "#bd3786"
            ],
            [
             0.5555555555555556,
             "#d8576b"
            ],
            [
             0.6666666666666666,
             "#ed7953"
            ],
            [
             0.7777777777777778,
             "#fb9f3a"
            ],
            [
             0.8888888888888888,
             "#fdca26"
            ],
            [
             1,
             "#f0f921"
            ]
           ],
           "sequentialminus": [
            [
             0,
             "#0d0887"
            ],
            [
             0.1111111111111111,
             "#46039f"
            ],
            [
             0.2222222222222222,
             "#7201a8"
            ],
            [
             0.3333333333333333,
             "#9c179e"
            ],
            [
             0.4444444444444444,
             "#bd3786"
            ],
            [
             0.5555555555555556,
             "#d8576b"
            ],
            [
             0.6666666666666666,
             "#ed7953"
            ],
            [
             0.7777777777777778,
             "#fb9f3a"
            ],
            [
             0.8888888888888888,
             "#fdca26"
            ],
            [
             1,
             "#f0f921"
            ]
           ]
          },
          "colorway": [
           "#636efa",
           "#EF553B",
           "#00cc96",
           "#ab63fa",
           "#FFA15A",
           "#19d3f3",
           "#FF6692",
           "#B6E880",
           "#FF97FF",
           "#FECB52"
          ],
          "font": {
           "color": "#2a3f5f"
          },
          "geo": {
           "bgcolor": "white",
           "lakecolor": "white",
           "landcolor": "#E5ECF6",
           "showlakes": true,
           "showland": true,
           "subunitcolor": "white"
          },
          "hoverlabel": {
           "align": "left"
          },
          "hovermode": "closest",
          "mapbox": {
           "style": "light"
          },
          "paper_bgcolor": "white",
          "plot_bgcolor": "#E5ECF6",
          "polar": {
           "angularaxis": {
            "gridcolor": "white",
            "linecolor": "white",
            "ticks": ""
           },
           "bgcolor": "#E5ECF6",
           "radialaxis": {
            "gridcolor": "white",
            "linecolor": "white",
            "ticks": ""
           }
          },
          "scene": {
           "xaxis": {
            "backgroundcolor": "#E5ECF6",
            "gridcolor": "white",
            "gridwidth": 2,
            "linecolor": "white",
            "showbackground": true,
            "ticks": "",
            "zerolinecolor": "white"
           },
           "yaxis": {
            "backgroundcolor": "#E5ECF6",
            "gridcolor": "white",
            "gridwidth": 2,
            "linecolor": "white",
            "showbackground": true,
            "ticks": "",
            "zerolinecolor": "white"
           },
           "zaxis": {
            "backgroundcolor": "#E5ECF6",
            "gridcolor": "white",
            "gridwidth": 2,
            "linecolor": "white",
            "showbackground": true,
            "ticks": "",
            "zerolinecolor": "white"
           }
          },
          "shapedefaults": {
           "line": {
            "color": "#2a3f5f"
           }
          },
          "ternary": {
           "aaxis": {
            "gridcolor": "white",
            "linecolor": "white",
            "ticks": ""
           },
           "baxis": {
            "gridcolor": "white",
            "linecolor": "white",
            "ticks": ""
           },
           "bgcolor": "#E5ECF6",
           "caxis": {
            "gridcolor": "white",
            "linecolor": "white",
            "ticks": ""
           }
          },
          "title": {
           "x": 0.05
          },
          "xaxis": {
           "automargin": true,
           "gridcolor": "white",
           "linecolor": "white",
           "ticks": "",
           "title": {
            "standoff": 15
           },
           "zerolinecolor": "white",
           "zerolinewidth": 2
          },
          "yaxis": {
           "automargin": true,
           "gridcolor": "white",
           "linecolor": "white",
           "ticks": "",
           "title": {
            "standoff": 15
           },
           "zerolinecolor": "white",
           "zerolinewidth": 2
          }
         }
        },
        "width": 1200,
        "xaxis": {
         "anchor": "y",
         "domain": [
          0,
          1
         ],
         "range": [
          0,
          105
         ],
         "title": {
          "text": "Country piped water access (%)"
         }
        },
        "yaxis": {
         "anchor": "x",
         "domain": [
          0,
          1
         ],
         "range": [
          0,
          105
         ],
         "title": {
          "text": "Country population without access to water (%)"
         }
        }
       }
      }
     },
     "metadata": {},
     "output_type": "display_data"
    }
   ],
   "source": [
    "# Piped water access by country\n",
    "# create bubble chart from df_countries comprising: access to water, piped water, and using population as the size of the bubble\n",
    "# create a new column for the size of the bubble\n",
    "\n",
    "# create bubble size column with square root transformation for improved visuals\n",
    "country_medians[\"bubble_size\"] = country_medians[\"country_pop_raw\"] **0.5\n",
    "\n",
    "px.scatter(\n",
    "    country_medians, \n",
    "    y=\"percent_without_water\", \n",
    "    # x=\"NATPiped\", \n",
    "    x=\"piped_calculated\", \n",
    "    size=\"bubble_size\", \n",
    "    color=\"region\", \n",
    "    hover_name=\"Entity\", \n",
    "    # title=\"Access to Water vs. Piped Water vs. Population\",\n",
    ").update_layout(\n",
    "    yaxis_title=\"Country population without access to water (%)\",\n",
    "    xaxis_title=\"Country piped water access (%)\",\n",
    "    legend_title=\"Region\",\n",
    "    width=1200,\n",
    "    height=800,\n",
    "    font=dict(size=25),\n",
    "    # xaxis_tickangle=-45,\n",
    "    # yaxis=dict(tickfont=dict(size=2)),\n",
    "    # title=dict(font=dict(size=20)),\n",
    ").update_xaxes(range=[0, 105]).update_yaxes(range=[0, 105])"
   ]
  },
  {
   "cell_type": "code",
   "execution_count": 28,
   "metadata": {},
   "outputs": [
    {
     "name": "stdout",
     "output_type": "stream",
     "text": [
      "Spearman correlation between percent_without_water and piped_calculated (median) using scipy: SignificanceResult(statistic=0.46697862496094134, pvalue=3.8953768594769384e-11)\n",
      "Spearman correlation between percent_without_water and piped_calculated (5th) using scipy: SignificanceResult(statistic=0.4251592127329032, pvalue=2.696606838321699e-09)\n",
      "Spearman correlation between percent_without_water and piped_calculated (95th) using scipy: SignificanceResult(statistic=0.682878448674653, pvalue=4.643490290967834e-26)\n"
     ]
    }
   ],
   "source": [
    "# Check for correlation using median, 5th, and 95th percentiles\n",
    "# correlation_scipy = spearmanr(country_medians[\"percent_without_water\"], country_medians[\"NATPiped\"])\n",
    "# correlation_5th_scipy = spearmanr(country_5th_percentiles[\"percent_without_water\"], country_5th_percentiles[\"NATPiped\"])\n",
    "# correlation_95th_scipy = spearmanr(country_95th_percentiles[\"percent_without_water\"], country_95th_percentiles[\"NATPiped\"])\n",
    "# print(f\"Spearman correlation between percent_without_water and NATPiped (median) using scipy: {correlation_scipy}\")\n",
    "# print(f\"Spearman correlation between percent_without_water and NATPiped (5th) using scipy: {correlation_5th_scipy}\")\n",
    "# print(f\"Spearman correlation between percent_without_water and NATPiped (95th) using scipy: {correlation_95th_scipy}\")\n",
    "\n",
    "correlation_scipy = spearmanr(country_medians[\"percent_without_water\"], country_medians[\"piped_calculated\"])\n",
    "correlation_5th_scipy = spearmanr(country_5th_percentiles[\"percent_without_water\"], country_5th_percentiles[\"piped_calculated\"])\n",
    "correlation_95th_scipy = spearmanr(country_95th_percentiles[\"percent_without_water\"], country_95th_percentiles[\"piped_calculated\"])\n",
    "print(f\"Spearman correlation between percent_without_water and piped_calculated (median) using scipy: {correlation_scipy}\")\n",
    "print(f\"Spearman correlation between percent_without_water and piped_calculated (5th) using scipy: {correlation_5th_scipy}\")\n",
    "print(f\"Spearman correlation between percent_without_water and piped_calculated (95th) using scipy: {correlation_95th_scipy}\")"
   ]
  },
  {
   "cell_type": "code",
   "execution_count": 29,
   "metadata": {},
   "outputs": [
    {
     "name": "stdout",
     "output_type": "stream",
     "text": [
      "          correlation       p_value\n",
      "Africa       0.840775  6.273226e-15\n",
      "Americas     0.524398  1.732212e-03\n",
      "Asia         0.746745  2.539196e-09\n",
      "Europe      -0.090001  5.757515e-01\n",
      "Oceania      0.261905  5.309229e-01\n"
     ]
    }
   ],
   "source": [
    "# Group the data by region\n",
    "groups = country_medians.groupby('region')\n",
    "\n",
    "correlations = {}\n",
    "\n",
    "# Apply the spearmanr function to each group\n",
    "for name, group in groups:\n",
    "    correlation, p_value = spearmanr(group[\"percent_without_water\"], group[\"piped_calculated\"])\n",
    "    correlations[name] = {'correlation': correlation, 'p_value': p_value}\n",
    "\n",
    "# Convert the correlations dictionary to a DataFrame\n",
    "correlations_df = pd.DataFrame(correlations).T\n",
    "\n",
    "print(correlations_df)"
   ]
  },
  {
   "cell_type": "markdown",
   "metadata": {},
   "source": [
    "<div class=\"alert alert-warning\">That seems perplexing! It may be more robust to check all correlations and create confidence intervals from them. Let's check all correlations for robustness:\n"
   ]
  },
  {
   "cell_type": "code",
   "execution_count": 30,
   "metadata": {},
   "outputs": [
    {
     "name": "stdout",
     "output_type": "stream",
     "text": [
      "Statistics:\n",
      "Median:  0.4608122672217896\n",
      "5th percentile:  0.32071072730653166\n",
      "95th percentile:  0.6091159376000871\n",
      "\n",
      "P-values:\n",
      "Median:  8.014719137988254e-11\n",
      "5th percentile:  1.4101637111302334e-19\n",
      "95th percentile:  1.203689286378435e-05\n"
     ]
    }
   ],
   "source": [
    "# Calculate Spearman correlation for each DataFrame in the list\n",
    "correlations = [spearmanr(df[\"percent_without_water\"], df[\"NATPiped\"]) for df in simulation_results]\n",
    "\n",
    "# Remove rows with NaN values in either column before calculating correlations\n",
    "correlations = [spearmanr(df.dropna(subset=[\"percent_without_water\", \"NATPiped\"])[\"percent_without_water\"], \n",
    "                          df.dropna(subset=[\"percent_without_water\", \"NATPiped\"])[\"NATPiped\"]) \n",
    "                for df in simulation_results]\n",
    "\n",
    "\n",
    "\n",
    "# Extract correlation statistics and p-values\n",
    "statistics = [corr.correlation for corr in correlations]\n",
    "pvalues = [corr.pvalue for corr in correlations]\n",
    "\n",
    "# Calculate median, 5th and 95th percentiles for statistics\n",
    "statistics_median = np.median(statistics)\n",
    "statistics_5th = np.percentile(statistics, 5)\n",
    "statistics_95th = np.percentile(statistics, 95)\n",
    "\n",
    "# Calculate median, 5th and 95th percentiles for pvalues\n",
    "pvalues_median = np.median(pvalues)\n",
    "pvalues_5th = np.percentile(pvalues, 5)\n",
    "pvalues_95th = np.percentile(pvalues, 95)\n",
    "\n",
    "print(\"Statistics:\")\n",
    "print(\"Median: \", statistics_median)\n",
    "print(\"5th percentile: \", statistics_5th)\n",
    "print(\"95th percentile: \", statistics_95th)\n",
    "\n",
    "print(\"\\nP-values:\")\n",
    "print(\"Median: \", pvalues_median)\n",
    "print(\"5th percentile: \", pvalues_5th)\n",
    "print(\"95th percentile: \", pvalues_95th)"
   ]
  },
  {
   "cell_type": "code",
   "execution_count": null,
   "metadata": {},
   "outputs": [
    {
     "data": {
      "image/png": "[encoded data removed]",
      "text/plain": [
       "<Figure size 1200x600 with 2 Axes>"
      ]
     },
     "metadata": {},
     "output_type": "display_data"
    },
    {
     "ename": "",
     "evalue": "",
     "output_type": "error",
     "traceback": [
      "\u001b[1;31mThe Kernel crashed while executing code in the current cell or a previous cell. \n",
      "\u001b[1;31mPlease review the code in the cell(s) to identify a possible cause of the failure. \n",
      "\u001b[1;31mClick <a href='https://aka.ms/vscodeJupyterKernelCrash'>here</a> for more info. \n",
      "\u001b[1;31mView Jupyter <a href='command:jupyter.viewOutput'>log</a> for further details."
     ]
    }
   ],
   "source": [
    "# Create a new figure\n",
    "plt.figure(figsize=(12, 6))\n",
    "\n",
    "# Create a subplot for correlations\n",
    "plt.subplot(1, 2, 1)\n",
    "plt.hist(statistics, bins=30, color='c', edgecolor='black')\n",
    "plt.axvline(statistics_median, color='r', linestyle='dashed', linewidth=2)\n",
    "plt.axvline(statistics_5th, color='b', linestyle='dashed', linewidth=2)\n",
    "plt.axvline(statistics_95th, color='b', linestyle='dashed', linewidth=2)\n",
    "plt.title('Correlations')\n",
    "plt.xlabel('Correlation')\n",
    "plt.ylabel('Frequency')\n",
    "\n",
    "# Create a subplot for p-values\n",
    "plt.subplot(1, 2, 2)\n",
    "plt.hist(pvalues, bins=30, color='m', edgecolor='black')\n",
    "plt.axvline(pvalues_median, color='r', linestyle='dashed', linewidth=2)\n",
    "plt.axvline(pvalues_5th, color='b', linestyle='dashed', linewidth=2)\n",
    "plt.axvline(pvalues_95th, color='b', linestyle='dashed', linewidth=2)\n",
    "plt.title('P-values')\n",
    "plt.xlabel('P-value')\n",
    "plt.ylabel('Frequency')\n",
    "\n",
    "# Show the plot\n",
    "plt.tight_layout()\n",
    "plt.show()"
   ]
  },
  {
   "cell_type": "code",
   "execution_count": null,
   "metadata": {},
   "outputs": [
    {
     "name": "stderr",
     "output_type": "stream",
     "text": [
      "/tmp/ipykernel_322141/1007948810.py:15: DtypeWarning:\n",
      "\n",
      "Columns (31,37) have mixed types. Specify dtype option on import or set low_memory=False.\n",
      "\n",
      "/tmp/ipykernel_322141/1007948810.py:16: DtypeWarning:\n",
      "\n",
      "Columns (31,37) have mixed types. Specify dtype option on import or set low_memory=False.\n",
      "\n",
      "/tmp/ipykernel_322141/1007948810.py:17: DtypeWarning:\n",
      "\n",
      "Columns (31,37) have mixed types. Specify dtype option on import or set low_memory=False.\n",
      "\n"
     ]
    }
   ],
   "source": [
    "import pandas as pd\n",
    "import numpy as np\n",
    "import matplotlib.pyplot as plt\n",
    "import seaborn as sns\n",
    "\n",
    "# ------------------------------------\n",
    "# 1. Data Loading\n",
    "# ------------------------------------\n",
    "dtype_dict = {\n",
    "    'fid': np.float64,\n",
    "    # Add other columns with specific dtypes if necessary\n",
    "}\n",
    "\n",
    "# Load the main data\n",
    "df_main = pd.read_csv('../results/median_results_all_data.csv', dtype=dtype_dict)\n",
    "df_5th = pd.read_csv('../results/5th_results_all_data.csv', dtype=dtype_dict)\n",
    "df_95th = pd.read_csv('../results/95th_results_all_data.csv', dtype=dtype_dict)\n",
    "\n",
    "# ------------------------------------\n",
    "# 2. Merging Data\n",
    "# ------------------------------------\n",
    "df = df_main.merge(df_5th, on='fid', suffixes=('', '_5th'))\n",
    "df = df.merge(df_95th, on='fid', suffixes=('', '_95th'))\n"
   ]
  },
  {
   "cell_type": "code",
   "execution_count": 36,
   "metadata": {},
   "outputs": [
    {
     "name": "stdout",
     "output_type": "stream",
     "text": [
      "Checking for negative values after adjustment:\n",
      "zone_pop_with_water                     0.0\n",
      "zone_pop_without_water                  0.0\n",
      "pop_with_piped                          0.0\n",
      "pop_without_piped                       0.0\n",
      "pop_with_piped_and_lost_access          0.0\n",
      "pop_with_piped_and_maintained_access    0.0\n",
      "dtype: float64\n"
     ]
    },
    {
     "data": {
      "image/png": "[encoded data removed]",
      "text/plain": [
       "<Figure size 2000x1000 with 1 Axes>"
      ]
     },
     "metadata": {},
     "output_type": "display_data"
    }
   ],
   "source": [
    "\n",
    "# ------------------------------------\n",
    "# 3. Data Classification\n",
    "# ------------------------------------\n",
    "# Classify urban vs rural areas\n",
    "df['urban_rural'] = np.where(df['GHS_SMOD'] > 15, 'Urban', 'Rural')\n",
    "\n",
    "# Ensure correct types for certain columns\n",
    "df['region'] = df['region'].astype(str)\n",
    "df['Entity'] = df['Entity'].astype(str)\n",
    "\n",
    "# Compute total population in each zone\n",
    "df['total_pop'] = df['zone_pop_with_water'] + df['zone_pop_without_water']\n",
    "\n",
    "# Assign \"zone_piped\" based on urban/rural classification and convert percentages to proportions\n",
    "df['zone_piped'] = (np.where(df['urban_rural'] == 'Urban', df['URBANPiped'], df['RURALPiped'])) / 100\n",
    "\n",
    "# Calculate the number of people with piped water in each zone\n",
    "df['pop_with_piped'] = df['zone_piped'] * df['total_pop']\n",
    "\n",
    "# Calculate the number of people without piped water in each zone\n",
    "df['pop_without_piped'] = df['total_pop'] - df['pop_with_piped']\n",
    "\n",
    "# Calculate people with piped water who lost access\n",
    "df['pop_with_piped_and_lost_access'] = np.minimum(df['pop_with_piped'], df['zone_pop_without_water'])\n",
    "\n",
    "# Calculate people with piped water who maintained access\n",
    "df['pop_with_piped_and_maintained_access'] = df['pop_with_piped'] - df['pop_with_piped_and_lost_access']\n",
    "\n",
    "# Fix floating-point precision issues by ensuring no negative values\n",
    "columns_to_check = [\n",
    "    'zone_pop_without_water',\n",
    "    'pop_without_piped',\n",
    "    'pop_with_piped_and_lost_access',\n",
    "    'pop_with_piped_and_maintained_access'\n",
    "]\n",
    "for col in columns_to_check:\n",
    "    df[col] = np.maximum(0, df[col])\n",
    "\n",
    "# Now check again for negative values (to ensure no issues remain)\n",
    "print(\"Checking for negative values after adjustment:\")\n",
    "print(df[['zone_pop_with_water', 'zone_pop_without_water', 'pop_with_piped', 'pop_without_piped',\n",
    "          'pop_with_piped_and_lost_access', 'pop_with_piped_and_maintained_access']].min())\n",
    "\n",
    "# ------------------------------------\n",
    "# 4. Compute Percentiles for Each Category\n",
    "# ------------------------------------\n",
    "# Assign \"zone_piped\" for 5th and 95th percentiles and convert to proportions\n",
    "df['zone_piped_5th'] = (np.where(df['urban_rural'] == 'Urban', df['URBANPiped_5th'], df['RURALPiped_5th'])) / 100\n",
    "df['zone_piped_95th'] = (np.where(df['urban_rural'] == 'Urban', df['URBANPiped_95th'], df['RURALPiped_95th'])) / 100\n",
    "\n",
    "# Calculate populations with piped water at 5th and 95th percentiles\n",
    "df['pop_with_piped_5th'] = df['zone_piped_5th'] * df['total_pop']\n",
    "df['pop_with_piped_95th'] = df['zone_piped_95th'] * df['total_pop']\n",
    "\n",
    "# Calculate populations without piped water at 5th and 95th percentiles\n",
    "df['pop_without_piped_5th'] = df['total_pop'] - df['pop_with_piped_5th']\n",
    "df['pop_without_piped_95th'] = df['total_pop'] - df['pop_with_piped_95th']\n",
    "\n",
    "# Calculate populations with piped water who lost access at 5th and 95th percentiles\n",
    "df['pop_with_piped_and_lost_access_5th'] = np.minimum(df['pop_with_piped_5th'], df['zone_pop_without_water_5th'])\n",
    "df['pop_with_piped_and_lost_access_95th'] = np.minimum(df['pop_with_piped_95th'], df['zone_pop_without_water_95th'])\n",
    "\n",
    "# Calculate populations with piped water who maintained access at 5th and 95th percentiles\n",
    "df['pop_with_piped_and_maintained_access_5th'] = df['pop_with_piped_5th'] - df['pop_with_piped_and_lost_access_5th']\n",
    "df['pop_with_piped_and_maintained_access_95th'] = df['pop_with_piped_95th'] - df['pop_with_piped_and_lost_access_95th']\n",
    "\n",
    "# Fix floating-point precision issues by ensuring no negative values\n",
    "percentile_columns = [\n",
    "    'zone_pop_without_water_5th',\n",
    "    'zone_pop_without_water_95th',\n",
    "    'pop_with_piped_and_lost_access_5th',\n",
    "    'pop_with_piped_and_lost_access_95th',\n",
    "    'pop_with_piped_and_maintained_access_5th',\n",
    "    'pop_with_piped_and_maintained_access_95th',\n",
    "    'pop_without_piped_5th',\n",
    "    'pop_without_piped_95th'\n",
    "]\n",
    "for col in percentile_columns:\n",
    "    if col in df.columns:\n",
    "        df[col] = np.maximum(0, df[col])\n",
    "\n",
    "# ------------------------------------\n",
    "# 5. Grouping and Aggregation\n",
    "# ------------------------------------\n",
    "grouped = df.groupby(['region', 'urban_rural'])\n",
    "\n",
    "aggregated_data = []\n",
    "\n",
    "for name, group in grouped:\n",
    "    region, urban_rural = name\n",
    "\n",
    "    # Sum the populations at median\n",
    "    total_pop_with_piped_and_lost_access = group['pop_with_piped_and_lost_access'].sum()\n",
    "    total_pop_with_piped_and_maintained_access = group['pop_with_piped_and_maintained_access'].sum()\n",
    "    total_pop_without_piped = group['pop_without_piped'].sum()\n",
    "    total_population = (\n",
    "        total_pop_with_piped_and_lost_access +\n",
    "        total_pop_with_piped_and_maintained_access +\n",
    "        total_pop_without_piped\n",
    "    )\n",
    "\n",
    "    # Sum the populations at 5th percentile\n",
    "    pop_lost_5th = group['pop_with_piped_and_lost_access_5th'].sum()\n",
    "    pop_maintained_5th = group['pop_with_piped_and_maintained_access_5th'].sum()\n",
    "    pop_unpiped_5th = group['pop_without_piped_5th'].sum()\n",
    "    total_5th = pop_lost_5th + pop_maintained_5th + pop_unpiped_5th\n",
    "\n",
    "    # Sum the populations at 95th percentile\n",
    "    pop_lost_95th = group['pop_with_piped_and_lost_access_95th'].sum()\n",
    "    pop_maintained_95th = group['pop_with_piped_and_maintained_access_95th'].sum()\n",
    "    pop_unpiped_95th = group['pop_without_piped_95th'].sum()\n",
    "    total_95th = pop_lost_95th + pop_maintained_95th + pop_unpiped_95th\n",
    "\n",
    "    # Calculate proportions\n",
    "    piped_lost_pct = total_pop_with_piped_and_lost_access / total_population if total_population > 0 else np.nan\n",
    "    piped_lost_pct_5th = pop_lost_5th / total_5th if total_5th > 0 else np.nan\n",
    "    piped_lost_pct_95th = pop_lost_95th / total_95th if total_95th > 0 else np.nan\n",
    "\n",
    "    piped_maintained_pct = total_pop_with_piped_and_maintained_access / total_population if total_population > 0 else np.nan\n",
    "    piped_maintained_pct_5th = pop_maintained_5th / total_5th if total_5th > 0 else np.nan\n",
    "    piped_maintained_pct_95th = pop_maintained_95th / total_95th if total_95th > 0 else np.nan\n",
    "\n",
    "    unpiped_pct = total_pop_without_piped / total_population if total_population > 0 else np.nan\n",
    "    unpiped_pct_5th = pop_unpiped_5th / total_5th if total_5th > 0 else np.nan\n",
    "    unpiped_pct_95th = pop_unpiped_95th / total_95th if total_95th > 0 else np.nan\n",
    "\n",
    "    # Append to aggregated data\n",
    "    aggregated_data.append({\n",
    "        'region': region,\n",
    "        'Urban_Rural': urban_rural,\n",
    "        'Total_Population': total_population,\n",
    "        'Piped_Lost_Access': total_pop_with_piped_and_lost_access,\n",
    "        'Piped_Lost_Access_5th': pop_lost_5th,\n",
    "        'Piped_Lost_Access_95th': pop_lost_95th,\n",
    "        'Piped_Maintained_Access': total_pop_with_piped_and_maintained_access,\n",
    "        'Piped_Maintained_Access_5th': pop_maintained_5th,\n",
    "        'Piped_Maintained_Access_95th': pop_maintained_95th,\n",
    "        'Unpiped': total_pop_without_piped,\n",
    "        'Unpiped_5th': pop_unpiped_5th,\n",
    "        'Unpiped_95th': pop_unpiped_95th,\n",
    "        'Total': total_population,\n",
    "        'Piped_Lost_Access_pct': piped_lost_pct,\n",
    "        'Piped_Lost_Access_pct_5th': piped_lost_pct_5th,\n",
    "        'Piped_Lost_Access_pct_95th': piped_lost_pct_95th,\n",
    "        'Piped_Maintained_Access_pct': piped_maintained_pct,\n",
    "        'Piped_Maintained_Access_pct_5th': piped_maintained_pct_5th,\n",
    "        'Piped_Maintained_Access_pct_95th': piped_maintained_pct_95th,\n",
    "        'Unpiped_pct': unpiped_pct,\n",
    "        'Unpiped_pct_5th': unpiped_pct_5th,\n",
    "        'Unpiped_pct_95th': unpiped_pct_95th,\n",
    "    })\n",
    "\n",
    "# Create DataFrame from aggregated data\n",
    "agg_df = pd.DataFrame(aggregated_data)\n",
    "\n",
    "# ------------------------------------\n",
    "# 6. Arrange Bars as Urban-Rural per Region\n",
    "# ------------------------------------\n",
    "# Reset index to manipulate sorting\n",
    "agg_df = agg_df.reset_index(drop=True)\n",
    "\n",
    "# Create an order for 'Urban_Rural' to ensure 'Urban' comes first\n",
    "agg_df['Urban_Rural_order'] = agg_df['Urban_Rural'].map({'Urban': 0, 'Rural': 1})\n",
    "\n",
    "# Sort by 'region' and 'Urban_Rural_order'\n",
    "agg_df = agg_df.sort_values(['region', 'Urban_Rural_order'])\n",
    "\n",
    "# Recreate the 'Group' index\n",
    "agg_df['Group'] = agg_df['region'] + ' - ' + agg_df['Urban_Rural']\n",
    "agg_df = agg_df.set_index('Group')\n",
    "\n",
    "# Drop the temporary order column\n",
    "agg_df = agg_df.drop(columns=['Urban_Rural_order'])\n",
    "\n",
    "# ------------------------------------\n",
    "# 7. Visualization: Stacked Bar Plot Without Error Bars\n",
    "# ------------------------------------\n",
    "import matplotlib.pyplot as plt\n",
    "\n",
    "# Prepare the data for plotting\n",
    "categories = ['Unpiped_pct', 'Piped_Maintained_Access_pct', 'Piped_Lost_Access_pct']\n",
    "colors = ['blue', 'green', 'white']  # Choose appropriate colors\n",
    "\n",
    "# Get unique regions to manage grouping\n",
    "unique_regions = agg_df['region'].unique()\n",
    "\n",
    "# Number of regions\n",
    "num_regions = len(unique_regions)\n",
    "\n",
    "# Define the number of bars per region (Urban and Rural)\n",
    "bars_per_region = 2\n",
    "\n",
    "# Define spacing\n",
    "bar_width = 0.4  # Width of each bar\n",
    "gap_between_bars = 0.1  # Gap between Urban and Rural within the same region\n",
    "gap_between_regions = 0.8  # Gap between different regions\n",
    "\n",
    "# Calculate total width per region\n",
    "total_width_per_region = bars_per_region * bar_width + gap_between_bars\n",
    "\n",
    "# Initialize lists for positions and labels\n",
    "x_positions = []\n",
    "labels = []\n",
    "\n",
    "# Iterate over regions and assign positions\n",
    "for i, region in enumerate(unique_regions):\n",
    "    # Base position for the region\n",
    "    base = i * (total_width_per_region + gap_between_regions)\n",
    "\n",
    "    # Urban bar position\n",
    "    urban_x = base\n",
    "    x_positions.append(urban_x)\n",
    "    labels.append(f\"{region} - Urban\")\n",
    "\n",
    "    # Rural bar position\n",
    "    rural_x = base + bar_width + gap_between_bars\n",
    "    x_positions.append(rural_x)\n",
    "    labels.append(f\"{region} - Rural\")\n",
    "\n",
    "# Prepare the data in the order of x_positions\n",
    "plot_df = agg_df.reset_index().set_index('Group').loc[labels]\n",
    "\n",
    "# Extract proportions for each category\n",
    "unpiped = plot_df['Unpiped_pct'].values\n",
    "piped_maintained = plot_df['Piped_Maintained_Access_pct'].values\n",
    "piped_lost = plot_df['Piped_Lost_Access_pct'].values\n",
    "\n",
    "# Plotting\n",
    "fig, ax = plt.subplots(figsize=(20, 10))\n",
    "\n",
    "# Initialize bottom for stacking\n",
    "bottom = np.zeros(len(plot_df))\n",
    "\n",
    "# Plot each category\n",
    "for idx, (category, color) in enumerate(zip(categories, colors)):\n",
    "    if category == 'Unpiped_pct':\n",
    "        values = unpiped\n",
    "    elif category == 'Piped_Maintained_Access_pct':\n",
    "        values = piped_maintained\n",
    "    elif category == 'Piped_Lost_Access_pct':\n",
    "        values = piped_lost\n",
    "    ax.bar(x_positions, values, bar_width, bottom=bottom, color=color, label=category.replace('_', ' ').title())\n",
    "    bottom += values\n",
    "\n",
    "# Customizing the plot\n",
    "ax.set_ylabel('Proportion of Population', fontsize=14)\n",
    "ax.set_title('Population by Water Access Category and Region/Urban-Rural', fontsize=16)\n",
    "\n",
    "# Set x-ticks and labels\n",
    "ax.set_xticks(x_positions)\n",
    "ax.set_xticklabels(labels, rotation=90, fontsize=12)\n",
    "\n",
    "# Add legend\n",
    "ax.legend(title='Water Access Category', fontsize=12, title_fontsize=12)\n",
    "\n",
    "# Adjust layout for better fit\n",
    "plt.tight_layout()\n",
    "\n",
    "# Display the plot\n",
    "plt.show()\n"
   ]
  },
  {
   "cell_type": "code",
   "execution_count": 31,
   "metadata": {},
   "outputs": [
    {
     "name": "stdout",
     "output_type": "stream",
     "text": [
      "  alpha3  RURALPiped  URBANPiped     PBO  Average Weight  Household_Size  \\\n",
      "0    AFG        17.0        42.0  31.820       54.717515            8.04   \n",
      "1    ALB        76.0        84.0  21.400       70.408587            3.30   \n",
      "2    DZA        60.0        75.0  23.378       65.056869            4.94   \n",
      "3    AGO         8.0        59.0   8.700       56.053693            4.82   \n",
      "4    ARG        82.0       100.0  72.490       72.595308            2.95   \n",
      "\n",
      "  alpha2 Continent  % urban  Population  ...  \\\n",
      "0     AF        AS     27.0    39835428  ...   \n",
      "1     AL        EU     64.0     2872934  ...   \n",
      "2     DZ        AF     75.0    44616626  ...   \n",
      "3     AO        AF     68.0    33933611  ...   \n",
      "4     AR        SA     92.0    45605823  ...   \n",
      "\n",
      "  percent_piped_with_cycling_access_95th  \\\n",
      "0                               5.787643   \n",
      "1                              16.493308   \n",
      "2                               9.994242   \n",
      "3                               2.288866   \n",
      "4                              53.528375   \n",
      "\n",
      "  percent_piped_with_walking_access_95th  \\\n",
      "0                              11.029892   \n",
      "1                              69.989366   \n",
      "2                              25.818935   \n",
      "3                              15.133721   \n",
      "4                              38.290061   \n",
      "\n",
      "  proportion_piped_access_from_cycling_95th  \\\n",
      "0                                 50.524919   \n",
      "1                                 53.879032   \n",
      "2                                 65.868721   \n",
      "3                                 27.820963   \n",
      "4                                 87.937302   \n",
      "\n",
      "  percent_with_only_cycling_access_95th  Entity_95th region_95th  \\\n",
      "0                              4.010684  Afghanistan        Asia   \n",
      "1                             13.309677      Albania      Europe   \n",
      "2                              7.794125      Algeria      Africa   \n",
      "3                              1.841415       Angola      Africa   \n",
      "4                             42.451515    Argentina    Americas   \n",
      "\n",
      "                    subregion_95th  percent_piped_with_access_95th  \\\n",
      "0                    Southern Asia                       12.818173   \n",
      "1                  Southern Europe                       71.432051   \n",
      "2                  Northern Africa                       28.974336   \n",
      "3               Sub-Saharan Africa                       16.065494   \n",
      "4  Latin America and the Caribbean                       63.002125   \n",
      "\n",
      "   piped_calculated_95th  country_pop_piped_95th  \n",
      "0              27.667405            9.460914e+06  \n",
      "1             123.316741            2.330524e+06  \n",
      "2              83.277130            3.178935e+07  \n",
      "3              36.990247            1.448287e+07  \n",
      "4             108.333439            4.494910e+07  \n",
      "\n",
      "[5 rows x 107 columns]\n",
      "Shape of merged dataframe: (180, 107)\n",
      "Columns in merged dataframe: ['alpha3', 'RURALPiped', 'URBANPiped', 'PBO', 'Average Weight', 'Household_Size', 'alpha2', 'Continent', '% urban', 'Population', 'Entity', 'region', 'subregion', 'intermediate-region', 'Unnamed: 0', 'ISOCODE', 'country_pop_raw', 'country_pop_with_water', 'country_pop_without_water', 'population_piped_with_access', 'population_piped_with_cycling_access', 'population_piped_with_walking_access', 'population_piped_with_only_cycling_access', 'NATPiped', 'weighted_med', 'weighted_med_cycling', 'weighted_5th_cycling', 'weighted_95th_cycling', 'weighted_med_walking', 'weighted_5th_walking', 'weighted_95th_walking', 'percent_with_water', 'percent_without_water', 'percent_piped_with_cycling_access', 'percent_piped_with_walking_access', 'proportion_piped_access_from_cycling', 'percent_with_only_cycling_access', 'Entity_median', 'region_median', 'subregion_median', 'percent_piped_with_access', 'piped_calculated', 'country_pop_piped', 'percentage_piped_with_walking_access', 'percentage_piped_with_cycling_access', 'percentage_piped_of_total_access', 'percentage_piped_with_only_cycling_access', 'percentage_total_with_only_cycling_access', 'bubble_size', 'Unnamed: 0_5th', 'ISOCODE_5th', 'country_pop_raw_5th', 'country_pop_with_water_5th', 'country_pop_without_water_5th', 'population_piped_with_access_5th', 'population_piped_with_cycling_access_5th', 'population_piped_with_walking_access_5th', 'population_piped_with_only_cycling_access_5th', 'NATPiped_5th', 'weighted_med_5th', 'weighted_med_cycling_5th', 'weighted_5th_cycling_5th', 'weighted_95th_cycling_5th', 'weighted_med_walking_5th', 'weighted_5th_walking_5th', 'weighted_95th_walking_5th', 'percent_with_water_5th', 'percent_without_water_5th', 'percent_piped_with_cycling_access_5th', 'percent_piped_with_walking_access_5th', 'proportion_piped_access_from_cycling_5th', 'percent_with_only_cycling_access_5th', 'Entity_5th', 'region_5th', 'subregion_5th', 'percent_piped_with_access_5th', 'piped_calculated_5th', 'country_pop_piped_5th', 'Unnamed: 0_95th', 'ISOCODE_95th', 'country_pop_raw_95th', 'country_pop_with_water_95th', 'country_pop_without_water_95th', 'population_piped_with_access_95th', 'population_piped_with_cycling_access_95th', 'population_piped_with_walking_access_95th', 'population_piped_with_only_cycling_access_95th', 'NATPiped_95th', 'weighted_med_95th', 'weighted_med_cycling_95th', 'weighted_5th_cycling_95th', 'weighted_95th_cycling_95th', 'weighted_med_walking_95th', 'weighted_5th_walking_95th', 'weighted_95th_walking_95th', 'percent_with_water_95th', 'percent_without_water_95th', 'percent_piped_with_cycling_access_95th', 'percent_piped_with_walking_access_95th', 'proportion_piped_access_from_cycling_95th', 'percent_with_only_cycling_access_95th', 'Entity_95th', 'region_95th', 'subregion_95th', 'percent_piped_with_access_95th', 'piped_calculated_95th', 'country_pop_piped_95th']\n",
      "   country_pop_raw  population_piped_with_only_cycling_access  \\\n",
      "0       39835428.0                               1.129487e+06   \n",
      "1        2872934.0                               1.059002e+05   \n",
      "2       44616626.0                               2.423373e+06   \n",
      "3       33933611.0                               4.803828e+05   \n",
      "4       45605823.0                               1.412690e+07   \n",
      "\n",
      "   population_piped_with_walking_access  country_pop_without_water     PBO  \n",
      "0                          2.710415e+06               4.774526e+06  31.820  \n",
      "1                          1.673417e+06               4.377042e+05  21.400  \n",
      "2                          5.522728e+06               2.089450e+07  23.378  \n",
      "3                          2.552921e+06               6.154939e+06   8.700  \n",
      "4                          1.060317e+07               1.499341e+07  72.490  \n",
      "Shape of combined dataframe: (180, 5)\n",
      "Columns in combined dataframe: ['country_pop_raw', 'population_piped_with_only_cycling_access', 'population_piped_with_walking_access', 'country_pop_without_water', 'PBO']\n"
     ]
    }
   ],
   "source": [
    "from pathlib import Path\n",
    "\n",
    "# Define the root of the repository by going up one level from the script directory\n",
    "data_script_dir = Path.cwd()\n",
    "repo_root = data_script_dir.parent\n",
    "\n",
    "# Define the paths to the Parquet file and the original CSV file\n",
    "country_data = repo_root / \"data\" / \"processed\" / \"merged_data.csv\"\n",
    "\n",
    "# Read the country data\n",
    "country_data_df = pd.read_csv(country_data)\n",
    "\n",
    "# Merge country data with median, 5th, and 95th percentile results\n",
    "merged_data = country_data_df.merge(country_medians, left_on='alpha3', right_on='ISOCODE', suffixes=('', '_median'))\n",
    "merged_data = merged_data.merge(country_5th_percentiles, left_on='alpha3', right_on='ISOCODE', suffixes=('', '_5th'))\n",
    "merged_data = merged_data.merge(country_95th_percentiles, left_on='alpha3', right_on='ISOCODE', suffixes=('', '_95th'))\n",
    "\n",
    "# Display the first few rows of the merged dataframe\n",
    "print(merged_data.head())\n",
    "\n",
    "# Check the shape of the merged dataframe\n",
    "print(f\"Shape of merged dataframe: {merged_data.shape}\")\n",
    "\n",
    "# List of columns in the merged dataframe\n",
    "print(f\"Columns in merged dataframe: {merged_data.columns.tolist()}\")\n",
    "\n",
    "\n",
    "\n",
    "# Select the required columns for the new dataframe\n",
    "combined_df = merged_data[['country_pop_raw', 'population_piped_with_only_cycling_access', 'population_piped_with_walking_access', 'country_pop_without_water' ,'PBO']]\n",
    "\n",
    "# Display the first few rows of the combined dataframe\n",
    "print(combined_df.head())\n",
    "\n",
    "# Check the shape of the combined dataframe\n",
    "print(f\"Shape of combined dataframe: {combined_df.shape}\")\n",
    "\n",
    "# List of columns in the combined dataframe\n",
    "print(f\"Columns in combined dataframe: {combined_df.columns.tolist()}\")\n",
    "\n",
    "\n",
    "\n",
    "\n",
    "\n",
    "\n"
   ]
  },
  {
   "cell_type": "code",
   "execution_count": 34,
   "metadata": {},
   "outputs": [
    {
     "name": "stderr",
     "output_type": "stream",
     "text": [
      "/var/folders/74/zlkzxgsj71d9nm329swsh11c0000gn/T/ipykernel_76775/3325385988.py:9: SettingWithCopyWarning:\n",
      "\n",
      "\n",
      "A value is trying to be set on a copy of a slice from a DataFrame.\n",
      "Try using .loc[row_indexer,col_indexer] = value instead\n",
      "\n",
      "See the caveats in the documentation: https://pandas.pydata.org/pandas-docs/stable/user_guide/indexing.html#returning-a-view-versus-a-copy\n",
      "\n"
     ]
    },
    {
     "name": "stdout",
     "output_type": "stream",
     "text": [
      "Number of entries per PBO bin:\n",
      "0-10%      20\n",
      "10-20%     21\n",
      "20-30%     28\n",
      "30-40%     34\n",
      "40-50%     30\n",
      "50-60%     15\n",
      "60-70%     15\n",
      "70-80%     10\n",
      "80-90%      7\n",
      "90-100%     0\n",
      "Name: PBO_binned, dtype: int64\n"
     ]
    },
    {
     "data": {
      "image/png": "[encoded data removed]",
      "text/plain": [
       "<Figure size 1000x600 with 1 Axes>"
      ]
     },
     "metadata": {},
     "output_type": "display_data"
    }
   ],
   "source": [
    "import pandas as pd\n",
    "import matplotlib.pyplot as plt\n",
    "\n",
    "# Define the bins and labels for the PBO column\n",
    "bins = [i for i in range(0, 110, 10)]  # Bins for 0-10%, 10-20%, ..., 90-100%\n",
    "bin_labels = [f'{i}-{i+10}%' for i in range(0, 100, 10)]  # Labels for the bins\n",
    "\n",
    "# Bin the PBO column into these specified ranges\n",
    "combined_df['PBO_binned'] = pd.cut(combined_df['PBO'], bins=bins, labels=bin_labels, right=False)\n",
    "\n",
    "# Check how many entries fall within each bin\n",
    "bin_counts = combined_df['PBO_binned'].value_counts().sort_index()\n",
    "print(\"Number of entries per PBO bin:\")\n",
    "print(bin_counts)\n",
    "\n",
    "# Group by the binned PBO and sum the absolute populations\n",
    "grouped_df = combined_df.groupby('PBO_binned').sum()\n",
    "\n",
    "# Calculate percentages for each category\n",
    "grouped_df['percent_with_only_cycling_access'] = grouped_df['population_piped_with_only_cycling_access'] / grouped_df['country_pop_raw'] * 100\n",
    "grouped_df['percent_piped_with_walking_access'] = grouped_df['population_piped_with_walking_access'] / grouped_df['country_pop_raw'] * 100\n",
    "grouped_df['percent_without_water'] = grouped_df['country_pop_without_water'] / grouped_df['country_pop_raw'] * 100\n",
    "\n",
    "# Calculate the unpiped percentage as the remainder (100% - sum of other percentages)\n",
    "grouped_df['percent_unpiped'] = 100 - (grouped_df['percent_with_only_cycling_access'] + \n",
    "                                       grouped_df['percent_piped_with_walking_access'] + \n",
    "                                       grouped_df['percent_without_water'])\n",
    "\n",
    "# Define the order of the stacks and their colors\n",
    "stack_order = ['percent_with_only_cycling_access','percent_piped_with_walking_access', 'percent_unpiped', 'percent_without_water']\n",
    "colors = ['blue', 'green', 'orange', 'red']  # Define 'red' for 'percent_without_water'\n",
    "\n",
    "# Now let's plot the stacked bar chart\n",
    "fig, ax = plt.subplots(figsize=(10, 6))\n",
    "\n",
    "# Create the stacked bar chart with defined stack order and colors\n",
    "grouped_df[stack_order].plot(kind='bar', stacked=True, ax=ax, color=colors)\n",
    "\n",
    "# Add labels and title\n",
    "ax.set_xlabel('PBO (Percentage Ranges)')\n",
    "ax.set_ylabel('Percentage')\n",
    "ax.set_title('Stacked Bar Chart of Water Access by PBO Binned')\n",
    "\n",
    "# Update the x-axis labels with the bin names\n",
    "ax.set_xticklabels(bin_labels)\n",
    "\n",
    "# Display the chart\n",
    "plt.tight_layout()\n",
    "plt.show()\n"
   ]
  }
 ],
 "metadata": {
  "kernelspec": {
   "display_name": "water-access",
   "language": "python",
   "name": "python3"
  },
  "language_info": {
   "codemirror_mode": {
    "name": "ipython",
    "version": 3
   },
   "file_extension": ".py",
   "mimetype": "text/x-python",
   "name": "python",
   "nbconvert_exporter": "python",
   "pygments_lexer": "ipython3",
   "version": "3.9.18"
  }
 },
 "nbformat": 4,
 "nbformat_minor": 2
}
