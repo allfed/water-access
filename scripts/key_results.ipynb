{
 "cells": [
  {
   "cell_type": "markdown",
   "metadata": {},
   "source": [
    "<div class=\"alert alert-info\">\n",
    "<h1> <b>Key Results</b> </h1>\n",
    "<br>\n",
    "Takes in results of Monte Carlo simulations and generates key results used in the paper. <br>\n",
    "</div>"
   ]
  },
  {
   "cell_type": "markdown",
   "metadata": {},
   "source": [
    "<div class=\"alert alert-info\">\n",
    "<b>Table of Contents</b> <br><br>\n",
    "1. <a href=\"#overall\">Overall access numbers</a> <br>\n",
    "2. <a href=\"#country\">Country-level data</a> <br>\n",
    "3. <a href=\"#cycling_walking\">Cycling vs walking breakdown of results</a> <br>\n",
    "4. <a href=\"#further\">Further analysis</a> <br>\n",
    "</div>"
   ]
  },
  {
   "cell_type": "code",
   "execution_count": 1,
   "metadata": {},
   "outputs": [],
   "source": [
    "import pathlib\n",
    "import pandas as pd\n",
    "import numpy as np\n",
    "import matplotlib.pyplot as plt\n",
    "import plotly.express as px\n",
    "import weightedstats as ws\n",
    "from tabulate import tabulate\n",
    "from scipy.stats import spearmanr, pearsonr"
   ]
  },
  {
   "cell_type": "code",
   "execution_count": 2,
   "metadata": {},
   "outputs": [],
   "source": [
    "# Constants to save new results (will overwrite existing results)\n",
    "SAVE_CSVS = True\n",
    "SAVE_FIGURES = True"
   ]
  },
  {
   "cell_type": "code",
   "execution_count": 3,
   "metadata": {},
   "outputs": [],
   "source": [
    "# Read country-level results from Monte Carlo sims\n",
    "country_medians = pd.read_csv(\"../results/country_median_results.csv\")\n",
    "country_means = pd.read_csv(\"../results/country_mean_results.csv\")\n",
    "country_5th_percentiles = pd.read_csv(\"../results/country_5th_percentile_results.csv\")\n",
    "country_95th_percentiles = pd.read_csv(\"../results/country_95th_percentile_results.csv\")\n",
    "\n",
    "# Read district-level results from Monte Carlo sims\n",
    "district_medians = pd.read_csv(\"../results/districts_median_results.csv\")\n",
    "district_means = pd.read_csv(\"../results/districts_mean_results.csv\")\n",
    "district_5th_percentiles = pd.read_csv(\"../results/districts_5th_percentile_results.csv\")\n",
    "district_95th_percentiles = pd.read_csv(\"../results/districts_95th_percentile_results.csv\")\n",
    "\n",
    "# Create simple one-row dataframes with global data\n",
    "global_median = country_medians[country_medians[\"ISOCODE\"] == \"GLOBAL\"].reset_index(drop=True)\n",
    "global_mean = country_means[country_means[\"ISOCODE\"] == \"GLOBAL\"].reset_index(drop=True)\n",
    "global_5th_percentile = country_5th_percentiles[country_5th_percentiles[\"ISOCODE\"] == \"GLOBAL\"].reset_index(drop=True)\n",
    "global_95th_percentile = country_95th_percentiles[country_95th_percentiles[\"ISOCODE\"] == \"GLOBAL\"].reset_index(drop=True)\n",
    "\n",
    "# Drop global from all dataframes except _all\n",
    "country_medians_all = country_medians.copy()\n",
    "country_medians = country_medians[country_medians[\"ISOCODE\"] != \"GLOBAL\"]\n",
    "country_means = country_means[country_means[\"ISOCODE\"] != \"GLOBAL\"]\n",
    "country_5th_percentiles = country_5th_percentiles[country_5th_percentiles[\"ISOCODE\"] != \"GLOBAL\"]\n",
    "country_95th_percentiles = country_95th_percentiles[country_95th_percentiles[\"ISOCODE\"] != \"GLOBAL\"]\n",
    "# No need to drop from district-level dataframes as they don't have a global entry\n"
   ]
  },
  {
   "cell_type": "markdown",
   "metadata": {},
   "source": [
    "<div class=\"alert alert-info\">\n",
    "<h3> <b>1. Overall Access Numbers </b> </h3>\n",
    "<a id=\"overall\"></a>\n",
    "Overall access (walking and cycling) for the world, and select countries\n",
    "</div>"
   ]
  },
  {
   "cell_type": "markdown",
   "metadata": {},
   "source": [
    "Firstly, we can look at the global results for people without water access. We can also check out the breakdown by continent to compare the global impacts of infrastructure loss on freshwater access. Finally in this section we show the median breakdown by access type."
   ]
  },
  {
   "cell_type": "code",
   "execution_count": 19,
   "metadata": {},
   "outputs": [
    {
     "name": "stdout",
     "output_type": "stream",
     "text": [
      "GLOBAL WATER ACCESS: \n",
      "\n",
      "Global median percentage without water: 24.3\n",
      "Global 5th percentile percentage without water: 14.4\n",
      "Global 95th percentile percentage without water: 34.8\n",
      "Global people without water: 1910216362.0\n",
      "Global percentage with only cycling access: 12.0\n"
     ]
    }
   ],
   "source": [
    "# Overall global population without water\n",
    "global_median_percentage_without_water = global_median[\"percent_without_water\"].values[0]\n",
    "global_5th_percentage_without_water = global_5th_percentile[\"percent_without_water\"].values[0]\n",
    "global_95th_percentage_without_water = global_95th_percentile[\"percent_without_water\"].values[0]\n",
    "global_only_cycling_access = global_median[\"percent_with_only_cycling_access\"].values[0]\n",
    "global_people_without_water = global_median[\"country_pop_without_water\"].values[0]\n",
    "\n",
    "# Print overall results\n",
    "print(\"GLOBAL WATER ACCESS: \\n\")\n",
    "print(f\"Global median percentage without water: {round(global_median_percentage_without_water, 1)}\")\n",
    "print(f\"Global 5th percentile percentage without water: {round(global_5th_percentage_without_water, 1)}\")\n",
    "print(f\"Global 95th percentile percentage without water: {round(global_95th_percentage_without_water, 1)}\")\n",
    "print(f\"Global people without water: {round(global_people_without_water, 0)}\")\n",
    "print(f\"Global percentage with only cycling access: {round(global_only_cycling_access, 1)}\")\n",
    "\n",
    "# Maybe add additional piped stuff here"
   ]
  },
  {
   "cell_type": "code",
   "execution_count": 5,
   "metadata": {},
   "outputs": [
    {
     "name": "stdout",
     "output_type": "stream",
     "text": [
      "REGIONAL WATER ACCESS: \n",
      "\n",
      "| region   |   median |   5th_percentile |   95th_percentile | formatted_results   |\n",
      "|:---------|---------:|-----------------:|------------------:|:--------------------|\n",
      "| Americas |  39.1608 |         24.6435  |           54.1566 | 39.2 (24.6–54.2)    |\n",
      "| Europe   |  24.6317 |         10.7033  |           42.2598 | 24.6 (10.7–42.3)    |\n",
      "| Africa   |  22.7238 |         15.3329  |           30.0167 | 22.7 (15.3–30.0)    |\n",
      "| Asia     |  21.3054 |         12.2023  |           31.4839 | 21.3 (12.2–31.5)    |\n",
      "| Oceania  |  18.8429 |          9.01299 |           32.1743 | 18.8 (9.0–32.2)     |\n"
     ]
    }
   ],
   "source": [
    "# Define a function to calculate percent without water\n",
    "def calculate_percent(df, group):\n",
    "    data = df.groupby(group).sum()\n",
    "    percent_without_water = (data['country_pop_without_water'] / data['country_pop_raw']) * 100\n",
    "    return percent_without_water\n",
    "\n",
    "# Calculate percent without water for each DataFrame\n",
    "region_percent_without_water_median = calculate_percent(country_medians, \"region\")\n",
    "region_percent_without_water_5th = calculate_percent(country_5th_percentiles, \"region\")\n",
    "region_percent_without_water_95th = calculate_percent(country_95th_percentiles, \"region\")\n",
    "\n",
    "# Merge results into a single DataFrame\n",
    "region_percent_without_water = pd.DataFrame({\n",
    "    'median': region_percent_without_water_median,\n",
    "    '5th_percentile': region_percent_without_water_5th,\n",
    "    '95th_percentile': region_percent_without_water_95th\n",
    "})\n",
    "\n",
    "# Repeat for subregions\n",
    "subregion_percent_without_water_median = calculate_percent(country_medians, \"subregion\")\n",
    "subregion_percent_without_water_5th = calculate_percent(country_5th_percentiles, \"subregion\")\n",
    "subregion_percent_without_water_95th = calculate_percent(country_95th_percentiles, \"subregion\")\n",
    "\n",
    "# Merge results into a single DataFrame\n",
    "subregion_percent_without_water = pd.DataFrame({\n",
    "    'median': subregion_percent_without_water_median,\n",
    "    '5th_percentile': subregion_percent_without_water_5th,\n",
    "    '95th_percentile': subregion_percent_without_water_95th\n",
    "})\n",
    "\n",
    "# Define formatting function\n",
    "def format_results(row):\n",
    "    median = round(row['median'], 1)\n",
    "    p5th = round(row['5th_percentile'], 1)\n",
    "    p95th = round(row['95th_percentile'], 1)\n",
    "    return f\"{median} ({p5th}–{p95th})\"\n",
    "\n",
    "# Apply formatting function to each row\n",
    "region_percent_without_water['formatted_results'] = region_percent_without_water.apply(format_results, axis=1)\n",
    "subregion_percent_without_water['formatted_results'] = subregion_percent_without_water.apply(format_results, axis=1)\n",
    "\n",
    "# Print results\n",
    "print(\"REGIONAL WATER ACCESS: \\n\")\n",
    "\n",
    "print(region_percent_without_water.sort_values(by='median', ascending=False).to_markdown())\n",
    "# print(subregion_percent_without_water.sort_values(by='median', ascending=False))\n",
    "\n",
    "if SAVE_CSVS:\n",
    "    region_percent_without_water.to_csv(\"../results/region_results.csv\", index=True)\n",
    "    subregion_percent_without_water.to_csv(\"../results/subregion_results.csv\", index=True)"
   ]
  },
  {
   "cell_type": "markdown",
   "metadata": {},
   "source": [
    "<div class=\"alert alert-info\">\n",
    "<h3> <b>2. Country-level data </b> </h3>\n",
    "<a id=\"country\"></a>\n",
    "Includes key results for Venezuela\n",
    "</div>"
   ]
  },
  {
   "cell_type": "markdown",
   "metadata": {},
   "source": [
    "Main stats for individual countries can be viewed using the following code:"
   ]
  },
  {
   "cell_type": "code",
   "execution_count": 6,
   "metadata": {},
   "outputs": [
    {
     "name": "stdout",
     "output_type": "stream",
     "text": [
      "COUNTRY-LEVEL STATS: \n",
      "\n",
      "|     | ISOCODE   | Entity                                               | region   | subregion                       |   percent_with_water_median | percent_with_water_CI      |   percent_without_water_median | percent_without_water_CI     |   percent_piped_with_cycling_access_median | percent_piped_with_cycling_access_CI   |   percent_piped_with_walking_access_median | percent_piped_with_walking_access_CI   |   percent_with_only_cycling_access_median | percent_with_only_cycling_access_CI   |\n",
      "|----:|:----------|:-----------------------------------------------------|:---------|:--------------------------------|----------------------------:|:---------------------------|-------------------------------:|:-----------------------------|-------------------------------------------:|:---------------------------------------|-------------------------------------------:|:---------------------------------------|------------------------------------------:|:--------------------------------------|\n",
      "|   0 | AFG       | Afghanistan                                          | Asia     | Southern Asia                   |                  87.6964    | 87.7% (90% CI 84.6–91.3%)  |                       12.3036  | 12.3% (90% CI 8.7–15.4%)     |                                 4.7362     | 4.7% (90% CI 3.2–5.7%)                 |                                  6.76004   | 6.8% (90% CI 3.7–11.2%)                |                                2.56162    | 2.6% (90% CI 0.9–3.8%)                |\n",
      "|   1 | AGO       | Angola                                               | Africa   | Sub-Saharan Africa              |                  81.7414    | 81.7% (90% CI 78.7–89.0%)  |                       18.2586  | 18.3% (90% CI 11.0–21.3%)    |                                 2.06478    | 2.1% (90% CI 1.3–2.3%)                 |                                  7.298     | 7.3% (90% CI 4.5–15.3%)                |                                1.08435    | 1.1% (90% CI 0.6–1.8%)                |\n",
      "|   2 | ALB       | Albania                                              | Europe   | Southern Europe                 |                  82.7453    | 82.7% (90% CI 48.1–94.8%)  |                       17.2547  | 17.3% (90% CI 5.2–51.9%)     |                                16.1504     | 16.2% (90% CI 13.3–16.5%)              |                                 57.5727    | 57.6% (90% CI 11.5–71.0%)              |                                3.88016    | 3.9% (90% CI 0.8–12.1%)               |\n",
      "|   3 | ARE       | United Arab Emirates                                 | Asia     | Western Asia                    |                   0.0434822 | 0.0% (90% CI 0.0–0.1%)     |                       99.9565  | 100.0% (90% CI 99.9–100.0%)  |                                 0.0434822  | 0.0% (90% CI 0.0–0.1%)                 |                                  0         | 0.0% (90% CI 0.0–0.0%)                 |                                0.0434822  | 0.0% (90% CI 0.0–0.1%)                |\n",
      "|   4 | ARG       | Argentina                                            | Americas | Latin America and the Caribbean |                  62.9419    | 62.9% (90% CI 46.4–74.1%)  |                       37.031   | 37.0% (90% CI 25.9–53.6%)    |                                43.9879     | 44.0% (90% CI 28.7–51.9%)              |                                 23.2233    | 23.2% (90% CI 7.7–39.7%)               |                               26.2888     | 26.3% (90% CI 13.3–39.0%)             |\n",
      "|   5 | ARM       | Armenia                                              | Asia     | Western Asia                    |                  47.113     | 47.1% (90% CI 16.6–84.3%)  |                       52.8859  | 52.9% (90% CI 15.7–83.4%)    |                                 3.62056    | 3.6% (90% CI 2.7–4.0%)                 |                                 45.0213    | 45.0% (90% CI 13.2–83.7%)              |                                1.75708    | 1.8% (90% CI 0.3–3.0%)                |\n",
      "|   6 | AUS       | Australia                                            | Oceania  | Australia and New Zealand       |                  76.6102    | 76.6% (90% CI 60.4–87.4%)  |                       23.0323  | 23.0% (90% CI 12.3–39.2%)    |                                49.4967     | 49.5% (90% CI 41.8–52.3%)              |                                 53.2001    | 53.2% (90% CI 25.5–75.2%)              |                               17.3177     | 17.3% (90% CI 6.4–35.0%)              |\n",
      "|   7 | AUT       | Austria                                              | Europe   | Western Europe                  |                  89.8353    | 89.8% (90% CI 72.5–97.7%)  |                       10.1647  | 10.2% (90% CI 2.3–27.5%)     |                                81.547      | 81.5% (90% CI 64.4–84.7%)              |                                 60.1284    | 60.1% (90% CI 27.5–88.1%)              |                               29.2399     | 29.2% (90% CI 5.9–56.2%)              |\n",
      "|   8 | AZE       | Azerbaijan                                           | Asia     | Western Asia                    |                  64.4675    | 64.5% (90% CI 31.6–87.9%)  |                       35.5325  | 35.5% (90% CI 12.1–68.4%)    |                                 5.77529    | 5.8% (90% CI 4.4–6.2%)                 |                                 53.0204    | 53.0% (90% CI 17.0–77.5%)              |                                2.04266    | 2.0% (90% CI 0.5–4.4%)                |\n",
      "|   9 | BDI       | Burundi                                              | Africa   | Sub-Saharan Africa              |                  62.2764    | 62.3% (90% CI 47.2–84.1%)  |                       37.7236  | 37.7% (90% CI 15.9–52.8%)    |                                12.646      | 12.6% (90% CI 9.4–13.8%)               |                                 24.2048    | 24.2% (90% CI 6.4–50.5%)               |                                7.41384    | 7.4% (90% CI 2.1–11.3%)               |\n",
      "|  10 | BEL       | Belgium                                              | Europe   | Western Europe                  |                  80.9728    | 81.0% (90% CI 64.1–92.1%)  |                       19.0272  | 19.0% (90% CI 7.9–35.9%)     |                                69.059      | 69.1% (90% CI 54.1–72.7%)              |                                 47.6589    | 47.7% (90% CI 19.5–74.5%)              |                               32.9457     | 32.9% (90% CI 12.8–53.1%)             |\n",
      "|  11 | BEN       | Benin                                                | Africa   | Sub-Saharan Africa              |                  83.4359    | 83.4% (90% CI 77.5–89.6%)  |                       16.5641  | 16.6% (90% CI 10.4–22.5%)    |                                10.9675     | 11.0% (90% CI 7.4–12.4%)               |                                 12.1348    | 12.1% (90% CI 4.6–20.1%)               |                                5.9506     | 6.0% (90% CI 2.8–9.2%)                |\n",
      "|  12 | BFA       | Burkina Faso                                         | Africa   | Sub-Saharan Africa              |                  87.8512    | 87.9% (90% CI 82.4–93.3%)  |                       12.1488  | 12.1% (90% CI 6.7–17.6%)     |                                 9.57891    | 9.6% (90% CI 4.0–15.0%)                |                                  3.26951   | 3.3% (90% CI 0.4–4.7%)                 |                                6.97662    | 7.0% (90% CI 2.8–12.0%)               |\n",
      "|  13 | BGD       | Bangladesh                                           | Asia     | Southern Asia                   |                  89.128     | 89.1% (90% CI 83.3–96.5%)  |                       10.872   | 10.9% (90% CI 3.5–16.7%)     |                                 6.90331    | 6.9% (90% CI 6.3–7.0%)                 |                                 12.9089    | 12.9% (90% CI 5.3–22.8%)               |                                3.57093    | 3.6% (90% CI 1.1–5.6%)                |\n",
      "|  14 | BGR       | Bulgaria                                             | Europe   | Eastern Europe                  |                  61.1749    | 61.2% (90% CI 35.5–86.8%)  |                       38.8251  | 38.8% (90% CI 13.2–64.5%)    |                                20.4725     | 20.5% (90% CI 15.2–22.0%)              |                                 49.4835    | 49.5% (90% CI 18.9–80.5%)              |                                8.74381    | 8.7% (90% CI 2.2–15.3%)               |\n",
      "|  15 | BHR       | Bahrain                                              | Asia     | Western Asia                    |                   0         | 0.0% (90% CI 0.0–0.0%)     |                      100       | 100.0% (90% CI 100.0–100.0%) |                                 0          | 0.0% (90% CI 0.0–0.0%)                 |                                  0         | 0.0% (90% CI 0.0–0.0%)                 |                                0          | 0.0% (90% CI 0.0–0.0%)                |\n",
      "|  16 | BHS       | Bahamas                                              | Americas | Latin America and the Caribbean |                  54.6524    | 54.7% (90% CI 49.2–80.5%)  |                       45.3476  | 45.3% (90% CI 19.5–50.8%)    |                                25.1205     | 25.1% (90% CI 23.4–35.7%)              |                                 29.6567    | 29.7% (90% CI 25.1–58.7%)              |                               12.6504     | 12.7% (90% CI 1.0–24.0%)              |\n",
      "|  17 | BIH       | Bosnia and Herzegovina                               | Europe   | Southern Europe                 |                  63.9074    | 63.9% (90% CI 41.0–85.7%)  |                       36.0926  | 36.1% (90% CI 14.3–59.0%)    |                                35.0721     | 35.1% (90% CI 20.0–41.7%)              |                                 41.2099    | 41.2% (90% CI 14.3–71.3%)              |                               14.607      | 14.6% (90% CI 1.8–28.7%)              |\n",
      "|  18 | BLR       | Belarus                                              | Europe   | Eastern Europe                  |                  76.7305    | 76.7% (90% CI 55.9–91.2%)  |                       23.2695  | 23.3% (90% CI 8.8–44.1%)     |                                34.8054     | 34.8% (90% CI 29.1–35.5%)              |                                 56.7641    | 56.8% (90% CI 26.5–78.3%)              |                               12.0946     | 12.1% (90% CI 4.2–23.2%)              |\n",
      "|  19 | BLZ       | Belize                                               | Americas | Latin America and the Caribbean |                  88.6693    | 88.7% (90% CI 74.1–96.4%)  |                       11.3307  | 11.3% (90% CI 3.6–25.9%)     |                                53.807      | 53.8% (90% CI 42.8–55.9%)              |                                 50.3533    | 50.4% (90% CI 16.8–70.1%)              |                               17.6141     | 17.6% (90% CI 4.3–37.9%)              |\n",
      "|  20 | BOL       | Bolivia, Plurinational State of                      | Americas | Latin America and the Caribbean |                  82.8614    | 82.9% (90% CI 77.7–88.7%)  |                       17.1382  | 17.1% (90% CI 11.3–22.3%)    |                                 8.07844    | 8.1% (90% CI 4.0–9.6%)                 |                                  7.37728   | 7.4% (90% CI 2.5–14.9%)                |                                4.91793    | 4.9% (90% CI 1.5–7.5%)                |\n",
      "|  21 | BRA       | Brazil                                               | Americas | Latin America and the Caribbean |                  57.7187    | 57.7% (90% CI 42.9–72.2%)  |                       42.2517  | 42.3% (90% CI 27.8–57.1%)    |                                39.651      | 39.7% (90% CI 27.4–45.8%)              |                                 32.4364    | 32.4% (90% CI 13.0–54.1%)              |                               19.7599     | 19.8% (90% CI 6.4–32.4%)              |\n",
      "|  22 | BRN       | Brunei Darussalam                                    | Asia     | South-eastern Asia              |                  69.7038    | 69.7% (90% CI 51.6–97.7%)  |                       30.2889  | 30.3% (90% CI 2.3–48.4%)     |                                44.4723     | 44.5% (90% CI 40.7–44.5%)              |                                 52.2938    | 52.3% (90% CI 18.2–95.8%)              |                               19.685      | 19.7% (90% CI 1.9–34.5%)              |\n",
      "|  23 | BTN       | Bhutan                                               | Asia     | Southern Asia                   |                  36.5963    | 36.6% (90% CI 18.4–70.0%)  |                       63.4037  | 63.4% (90% CI 30.0–81.6%)    |                                 4.55029    | 4.6% (90% CI 2.1–5.7%)                 |                                 33.8483    | 33.8% (90% CI 16.3–68.4%)              |                                2.08122    | 2.1% (90% CI 0.3–3.7%)                |\n",
      "|  24 | BWA       | Botswana                                             | Africa   | Sub-Saharan Africa              |                  26.062     | 26.1% (90% CI 23.6–28.7%)  |                       73.9168  | 73.9% (90% CI 71.3–76.4%)    |                                 1.88722    | 1.9% (90% CI 1.0–3.3%)                 |                                  3.7791    | 3.8% (90% CI 1.1–5.9%)                 |                                1.17525    | 1.2% (90% CI 0.4–2.4%)                |\n",
      "|  25 | CAF       | Central African Republic                             | Africa   | Sub-Saharan Africa              |                  96.6478    | 96.6% (90% CI 95.7–100.0%) |                        3.30735 | 3.3% (90% CI 0.0–4.2%)       |                                 1.01335    | 1.0% (90% CI 1.0–1.0%)                 |                                  1.28689   | 1.3% (90% CI 0.2–5.4%)                 |                                0.770262   | 0.8% (90% CI 0.0–1.0%)                |\n",
      "|  26 | CAN       | Canada                                               | Americas | Northern America                |                  76.0347    | 76.0% (90% CI 60.4–88.4%)  |                       23.8446  | 23.8% (90% CI 11.5–39.5%)    |                                60.5338     | 60.5% (90% CI 47.1–66.0%)              |                                 50.4531    | 50.5% (90% CI 26.9–72.3%)              |                               26.0594     | 26.1% (90% CI 10.7–43.2%)             |\n",
      "|  27 | CHE       | Switzerland                                          | Europe   | Western Europe                  |                  86.7349    | 86.7% (90% CI 68.4–96.9%)  |                       13.2651  | 13.3% (90% CI 3.1–31.6%)     |                                71.7753     | 71.8% (90% CI 54.8–73.4%)              |                                 60.0174    | 60.0% (90% CI 31.1–90.1%)              |                               25.3777     | 25.4% (90% CI 4.0–45.0%)              |\n",
      "|  28 | CHL       | Chile                                                | Americas | Latin America and the Caribbean |                  60.3298    | 60.3% (90% CI 42.5–76.2%)  |                       39.6495  | 39.6% (90% CI 23.8–57.5%)    |                                40.6176     | 40.6% (90% CI 29.6–47.3%)              |                                 43.2078    | 43.2% (90% CI 14.7–66.5%)              |                               17.6023     | 17.6% (90% CI 5.3–32.2%)              |\n",
      "|  29 | CHN       | China                                                | Asia     | Eastern Asia                    |                  78.6273    | 78.6% (90% CI 65.4–89.8%)  |                       21.3718  | 21.4% (90% CI 10.2–34.6%)    |                                46.6664     | 46.7% (90% CI 37.4–50.4%)              |                                 40.3372    | 40.3% (90% CI 16.5–62.6%)              |                               20.2451     | 20.2% (90% CI 7.4–34.6%)              |\n",
      "|  30 | CIV       | Côte d'Ivoire                                        | Africa   | Sub-Saharan Africa              |                  86.5327    | 86.5% (90% CI 81.5–91.3%)  |                       13.4673  | 13.5% (90% CI 8.7–18.5%)     |                                11.2713     | 11.3% (90% CI 7.9–13.0%)               |                                 15.3192    | 15.3% (90% CI 9.8–21.6%)               |                                4.45464    | 4.5% (90% CI 1.5–7.1%)                |\n",
      "|  31 | CMR       | Cameroon                                             | Africa   | Sub-Saharan Africa              |                  87.5887    | 87.6% (90% CI 82.1–92.3%)  |                       12.4113  | 12.4% (90% CI 7.7–17.9%)     |                                 2.84975    | 2.8% (90% CI 1.8–3.2%)                 |                                  9.23895   | 9.2% (90% CI 2.5–14.4%)                |                                1.35219    | 1.4% (90% CI 0.4–2.2%)                |\n",
      "|  32 | COD       | Congo, Democratic Republic of the                    | Africa   | Sub-Saharan Africa              |                  93.3424    | 93.3% (90% CI 88.6–97.0%)  |                        6.65762 | 6.7% (90% CI 3.0–11.4%)      |                                 3.17822    | 3.2% (90% CI 2.1–3.3%)                 |                                  7.59482   | 7.6% (90% CI 2.0–12.0%)                |                                1.45485    | 1.5% (90% CI 0.5–2.7%)                |\n",
      "|  33 | COG       | Congo                                                | Africa   | Sub-Saharan Africa              |                  90.4451    | 90.4% (90% CI 85.6–95.6%)  |                        9.55491 | 9.6% (90% CI 4.4–14.4%)      |                                 0.864807   | 0.9% (90% CI 0.6–1.0%)                 |                                  7.29675   | 7.3% (90% CI 2.2–12.7%)                |                                0.422175   | 0.4% (90% CI 0.2–0.8%)                |\n",
      "|  34 | COL       | Colombia                                             | Americas | Latin America and the Caribbean |                  69.1777    | 69.2% (90% CI 55.3–85.8%)  |                       30.8223  | 30.8% (90% CI 14.2–44.7%)    |                                18.5171     | 18.5% (90% CI 12.6–21.0%)              |                                 24.598     | 24.6% (90% CI 7.5–46.0%)               |                                9.61217    | 9.6% (90% CI 3.0–15.9%)               |\n",
      "|  35 | CRI       | Costa Rica                                           | Americas | Latin America and the Caribbean |                  75.0224    | 75.0% (90% CI 55.4–92.0%)  |                       24.9776  | 25.0% (90% CI 8.0–44.6%)     |                                58.9416     | 58.9% (90% CI 41.4–64.2%)              |                                 47.8438    | 47.8% (90% CI 19.4–82.8%)              |                               26.7431     | 26.7% (90% CI 4.9–44.4%)              |\n",
      "|  36 | CUB       | Cuba                                                 | Americas | Latin America and the Caribbean |                  73.7165    | 73.7% (90% CI 62.4–85.2%)  |                       26.2835  | 26.3% (90% CI 14.8–37.6%)    |                                29.01       | 29.0% (90% CI 19.8–34.9%)              |                                 20.2428    | 20.2% (90% CI 6.4–35.3%)               |                               17.2147     | 17.2% (90% CI 7.8–26.2%)              |\n",
      "|  37 | CYP       | Cyprus                                               | Asia     | Western Asia                    |                  53.9165    | 53.9% (90% CI 32.5–66.6%)  |                       46.0835  | 46.1% (90% CI 33.4–67.5%)    |                                43.3416     | 43.3% (90% CI 21.6–46.5%)              |                                 23.5704    | 23.6% (90% CI 5.1–42.3%)               |                               27.4767     | 27.5% (90% CI 9.5–37.2%)              |\n",
      "|  38 | CZE       | Czechia                                              | Europe   | Eastern Europe                  |                  67.7182    | 67.7% (90% CI 46.2–86.3%)  |                       32.2817  | 32.3% (90% CI 13.7–53.8%)    |                                39.7403     | 39.7% (90% CI 27.9–42.8%)              |                                 49.8947    | 49.9% (90% CI 21.5–77.3%)              |                               16.7799     | 16.8% (90% CI 5.5–29.8%)              |\n",
      "|  39 | DEU       | Germany                                              | Europe   | Western Europe                  |                  82.316     | 82.3% (90% CI 62.8–93.1%)  |                       17.684   | 17.7% (90% CI 6.9–37.2%)     |                                72.3003     | 72.3% (90% CI 54.6–76.1%)              |                                 47.5331    | 47.5% (90% CI 19.7–76.3%)              |                               33.7486     | 33.7% (90% CI 12.3–55.4%)             |\n",
      "|  40 | DJI       | Djibouti                                             | Africa   | Sub-Saharan Africa              |                  41.5337    | 41.5% (90% CI 41.3–41.9%)  |                       58.4663  | 58.5% (90% CI 58.1–58.7%)    |                                 0.0859629  | 0.1% (90% CI 0.1–0.2%)                 |                                  0.314811  | 0.3% (90% CI 0.1–0.7%)                 |                                0.0605555  | 0.1% (90% CI 0.0–0.1%)                |\n",
      "|  41 | DNK       | Denmark                                              | Europe   | Northern Europe                 |                  90.6257    | 90.6% (90% CI 74.1–96.6%)  |                        9.37425 | 9.4% (90% CI 3.4–25.9%)      |                                86.2923     | 86.3% (90% CI 69.5–88.3%)              |                                 49.2992    | 49.3% (90% CI 18.7–81.6%)              |                               40.6162     | 40.6% (90% CI 13.3–66.2%)             |\n",
      "|  42 | DOM       | Dominican Republic                                   | Americas | Latin America and the Caribbean |                  59.5608    | 59.6% (90% CI 38.5–78.6%)  |                       40.4392  | 40.4% (90% CI 21.4–61.5%)    |                                 0.990891   | 1.0% (90% CI 0.6–1.1%)                 |                                 32.2699    | 32.3% (90% CI 11.3–51.5%)              |                                0.492026   | 0.5% (90% CI 0.2–0.8%)                |\n",
      "|  43 | DZA       | Algeria                                              | Africa   | Northern Africa                 |                  52.3851    | 52.4% (90% CI 44.9–64.8%)  |                       47.5131  | 47.5% (90% CI 35.1–55.0%)    |                                 7.9584     | 8.0% (90% CI 4.5–9.7%)                 |                                 12.0737    | 12.1% (90% CI 3.7–27.0%)               |                                4.74042    | 4.7% (90% CI 1.5–7.5%)                |\n",
      "|  44 | ECU       | Ecuador                                              | Americas | Latin America and the Caribbean |                  70.2003    | 70.2% (90% CI 55.7–83.9%)  |                       29.7986  | 29.8% (90% CI 16.1–44.3%)    |                                40.1869     | 40.2% (90% CI 28.2–46.1%)              |                                 31.2538    | 31.3% (90% CI 11.5–54.1%)              |                               19.7962     | 19.8% (90% CI 6.7–32.0%)              |\n",
      "|  45 | EGY       | Egypt                                                | Africa   | Northern Africa                 |                  58.4802    | 58.5% (90% CI 31.0–75.7%)  |                       41.5197  | 41.5% (90% CI 24.3–69.0%)    |                                 8.63522    | 8.6% (90% CI 7.3–9.0%)                 |                                 54.3505    | 54.4% (90% CI 25.0–73.0%)              |                                3.07726    | 3.1% (90% CI 1.3–6.1%)                |\n",
      "|  46 | ERI       | Eritrea                                              | Africa   | Sub-Saharan Africa              |                  62.7952    | 62.8% (90% CI 60.3–66.5%)  |                       37.2048  | 37.2% (90% CI 33.5–39.7%)    |                                 0.963903   | 1.0% (90% CI 0.4–1.5%)                 |                                  3.66851   | 3.7% (90% CI 1.0–7.3%)                 |                                0.634145   | 0.6% (90% CI 0.2–1.1%)                |\n",
      "|  47 | ESH       | Western Sahara                                       | Africa   | Northern Africa                 |                  47.5534    | 47.6% (90% CI 47.5–47.8%)  |                       51.3876  | 51.4% (90% CI 51.1–51.4%)    |                                 0.0503809  | 0.1% (90% CI 0.0–0.1%)                 |                                  0.0134007 | 0.0% (90% CI 0.0–0.3%)                 |                                0.00862692 | 0.0% (90% CI 0.0–0.1%)                |\n",
      "|  48 | ESP       | Spain                                                | Europe   | Southern Europe                 |                  68.2498    | 68.2% (90% CI 48.3–83.0%)  |                       31.7502  | 31.8% (90% CI 17.0–51.7%)    |                                54.5432     | 54.5% (90% CI 37.0–60.0%)              |                                 40.5617    | 40.6% (90% CI 16.5–68.4%)              |                               26.9227     | 26.9% (90% CI 9.2–43.7%)              |\n",
      "|  49 | EST       | Estonia                                              | Europe   | Northern Europe                 |                  59.9446    | 59.9% (90% CI 32.6–81.3%)  |                       40.0394  | 40.0% (90% CI 18.7–67.4%)    |                                28.9414     | 28.9% (90% CI 23.2–30.3%)              |                                 44.1859    | 44.2% (90% CI 6.5–73.5%)               |                               14.6521     | 14.7% (90% CI 6.5–25.7%)              |\n",
      "|  50 | ETH       | Ethiopia                                             | Africa   | Sub-Saharan Africa              |                  66.7458    | 66.7% (90% CI 60.1–74.8%)  |                       33.2542  | 33.3% (90% CI 25.2–39.9%)    |                                 0.493244   | 0.5% (90% CI 0.3–0.7%)                 |                                  9.26803   | 9.3% (90% CI 2.5–17.5%)                |                                0.272671   | 0.3% (90% CI 0.1–0.5%)                |\n",
      "|  51 | FIN       | Finland                                              | Europe   | Northern Europe                 |                  88.4546    | 88.5% (90% CI 71.2–96.2%)  |                       11.4606  | 11.5% (90% CI 3.7–28.7%)     |                                80.5943     | 80.6% (90% CI 64.0–84.5%)              |                                 53.8144    | 53.8% (90% CI 25.0–81.8%)              |                               32.7731     | 32.8% (90% CI 11.6–56.8%)             |\n",
      "|  52 | FJI       | Fiji                                                 | Oceania  | Melanesia                       |                  60.3336    | 60.3% (90% CI 46.5–96.4%)  |                       39.6664  | 39.7% (90% CI 3.6–53.5%)     |                                31.5742     | 31.6% (90% CI 26.4–33.1%)              |                                 24.3013    | 24.3% (90% CI 8.2–81.3%)               |                               21.6198     | 21.6% (90% CI 1.4–28.4%)              |\n",
      "|  53 | FRA       | France                                               | Europe   | Western Europe                  |                  81.2712    | 81.3% (90% CI 64.2–94.8%)  |                       18.7288  | 18.7% (90% CI 5.2–35.8%)     |                                58.7284     | 58.7% (90% CI 49.2–59.8%)              |                                 58.1863    | 58.2% (90% CI 29.0–87.8%)              |                               22.353      | 22.4% (90% CI 5.1–40.5%)              |\n",
      "|  54 | GAB       | Gabon                                                | Africa   | Sub-Saharan Africa              |                  67.0281    | 67.0% (90% CI 56.4–81.0%)  |                       32.9719  | 33.0% (90% CI 19.0–43.6%)    |                                 1.07108    | 1.1% (90% CI 0.7–1.4%)                 |                                 13.281     | 13.3% (90% CI 2.2–27.6%)               |                                0.620409   | 0.6% (90% CI 0.1–1.0%)                |\n",
      "|  55 | GBR       | United Kingdom of Great Britain and Northern Ireland | Europe   | Northern Europe                 |                  77.4855    | 77.5% (90% CI 58.9–92.1%)  |                       22.5142  | 22.5% (90% CI 7.9–41.1%)     |                                51.7579     | 51.8% (90% CI 43.7–53.0%)              |                                 57.8277    | 57.8% (90% CI 26.7–85.8%)              |                               20.528      | 20.5% (90% CI 5.2–37.3%)              |\n",
      "|  56 | GEO       | Georgia                                              | Asia     | Western Asia                    |                  66.8981    | 66.9% (90% CI 43.3–93.3%)  |                       33.1016  | 33.1% (90% CI 6.7–56.7%)     |                                 5.9672     | 6.0% (90% CI 5.0–6.4%)                 |                                 42.6037    | 42.6% (90% CI 17.2–71.0%)              |                                2.36249    | 2.4% (90% CI 0.1–4.4%)                |\n",
      "|  57 | GHA       | Ghana                                                | Africa   | Sub-Saharan Africa              |                  75.7981    | 75.8% (90% CI 68.5–86.1%)  |                       24.2019  | 24.2% (90% CI 13.9–31.5%)    |                                11.9833     | 12.0% (90% CI 8.0–14.5%)               |                                 13.0688    | 13.1% (90% CI 5.2–27.1%)               |                                6.67049    | 6.7% (90% CI 2.4–10.6%)               |\n",
      "|  58 | GIN       | Guinea                                               | Africa   | Sub-Saharan Africa              |                  93.3255    | 93.3% (90% CI 90.9–97.2%)  |                        6.67447 | 6.7% (90% CI 2.8–9.1%)       |                                 3.06655    | 3.1% (90% CI 2.2–3.2%)                 |                                  4.37304   | 4.4% (90% CI 1.5–9.3%)                 |                                1.93874    | 1.9% (90% CI 0.7–2.6%)                |\n",
      "|  59 | GMB       | Gambia                                               | Africa   | Sub-Saharan Africa              |                  66.8751    | 66.9% (90% CI 58.7–89.8%)  |                       33.1249  | 33.1% (90% CI 10.2–41.3%)    |                                31.6222     | 31.6% (90% CI 25.2–32.0%)              |                                 14.1547    | 14.2% (90% CI 5.8–54.8%)               |                               23.5753     | 23.6% (90% CI 7.4–28.7%)              |\n",
      "|  60 | GNB       | Guinea-Bissau                                        | Africa   | Sub-Saharan Africa              |                  84.8541    | 84.9% (90% CI 77.7–91.6%)  |                       15.1459  | 15.1% (90% CI 8.4–22.3%)     |                                11.8577     | 11.9% (90% CI 7.6–12.3%)               |                                 13.1041    | 13.1% (90% CI 4.1–22.3%)               |                                6.54253    | 6.5% (90% CI 3.0–10.0%)               |\n",
      "|  61 | GNQ       | Equatorial Guinea                                    | Africa   | Sub-Saharan Africa              |                  90.1588    | 90.2% (90% CI 82.1–96.5%)  |                        9.84122 | 9.8% (90% CI 3.5–17.9%)      |                                 2.0487     | 2.0% (90% CI 1.4–2.2%)                 |                                 13.4121    | 13.4% (90% CI 4.8–20.3%)               |                                0.754317   | 0.8% (90% CI 0.2–1.5%)                |\n",
      "|  62 | GRC       | Greece                                               | Europe   | Southern Europe                 |                  30.1932    | 30.2% (90% CI 17.5–39.8%)  |                       69.8065  | 69.8% (90% CI 60.2–82.5%)    |                                12.1963     | 12.2% (90% CI 8.9–16.7%)               |                                 25.0807    | 25.1% (90% CI 9.6–34.3%)               |                                5.89243    | 5.9% (90% CI 1.2–11.4%)               |\n",
      "|  63 | GRD       | Grenada                                              | Americas | Latin America and the Caribbean |                  40.7599    | 40.8% (90% CI 33.5–61.9%)  |                       59.2401  | 59.2% (90% CI 38.1–66.5%)    |                                13.2819     | 13.3% (90% CI 13.3–34.4%)              |                                 31.863     | 31.9% (90% CI 0.0–31.9%)               |                               13.2819     | 13.3% (90% CI 0.0–21.1%)              |\n",
      "|  64 | GRL       | Greenland                                            | Americas | Northern America                |                  12.5231    | 12.5% (90% CI 1.4–47.2%)   |                       87.3923  | 87.4% (90% CI 52.7–98.5%)    |                                 5.32875    | 5.3% (90% CI 0.6–39.7%)                |                                  4.0858    | 4.1% (90% CI 1.0–13.6%)                |                                3.23277    | 3.2% (90% CI 0.0–34.4%)               |\n",
      "|  65 | GTM       | Guatemala                                            | Americas | Latin America and the Caribbean |                  63.8152    | 63.8% (90% CI 46.8–80.3%)  |                       36.1848  | 36.2% (90% CI 19.7–53.2%)    |                                15.8047     | 15.8% (90% CI 10.1–18.8%)              |                                 28.5771    | 28.6% (90% CI 7.7–47.4%)               |                                7.82602    | 7.8% (90% CI 2.2–13.6%)               |\n",
      "|  66 | GUY       | Guyana                                               | Americas | Latin America and the Caribbean |                  91.6682    | 91.7% (90% CI 83.3–97.4%)  |                        8.02423 | 8.0% (90% CI 2.3–16.4%)      |                                36.5504     | 36.6% (90% CI 33.6–38.0%)              |                                 61.7934    | 61.8% (90% CI 45.3–69.8%)              |                                5.098      | 5.1% (90% CI 0.7–12.3%)               |\n",
      "|  67 | HND       | Honduras                                             | Americas | Latin America and the Caribbean |                  63.553     | 63.6% (90% CI 42.1–86.0%)  |                       36.447   | 36.4% (90% CI 14.0–57.9%)    |                                25.7467     | 25.7% (90% CI 15.3–28.8%)              |                                 38.1987    | 38.2% (90% CI 11.8–67.9%)              |                               11.9784     | 12.0% (90% CI 2.6–21.2%)              |\n",
      "|  68 | HRV       | Croatia                                              | Europe   | Southern Europe                 |                  65.0763    | 65.1% (90% CI 48.5–79.6%)  |                       34.9237  | 34.9% (90% CI 20.4–51.5%)    |                                33.3422     | 33.3% (90% CI 25.3–36.1%)              |                                 43.3754    | 43.4% (90% CI 19.9–63.0%)              |                               13.2645     | 13.3% (90% CI 4.6–23.1%)              |\n",
      "|  69 | HTI       | Haiti                                                | Americas | Latin America and the Caribbean |                  89.2412    | 89.2% (90% CI 84.2–94.1%)  |                       10.7588  | 10.8% (90% CI 5.9–15.8%)     |                                 2.90123    | 2.9% (90% CI 1.9–3.3%)                 |                                  8.11874   | 8.1% (90% CI 2.3–13.6%)                |                                1.45581    | 1.5% (90% CI 0.4–2.5%)                |\n",
      "|  70 | HUN       | Hungary                                              | Europe   | Eastern Europe                  |                  67.2385    | 67.2% (90% CI 43.6–86.2%)  |                       32.7615  | 32.8% (90% CI 13.8–56.4%)    |                                32.1217     | 32.1% (90% CI 26.4–33.8%)              |                                 54.1322    | 54.1% (90% CI 22.7–79.8%)              |                               13.0655     | 13.1% (90% CI 4.8–23.5%)              |\n",
      "|  71 | IDN       | Indonesia                                            | Asia     | South-eastern Asia              |                  90.0282    | 90.0% (90% CI 86.9–92.9%)  |                        9.97178 | 10.0% (90% CI 7.1–13.1%)     |                                 6.74443    | 6.7% (90% CI 5.5–7.3%)                 |                                  8.14929   | 8.1% (90% CI 3.1–12.8%)                |                                2.80819    | 2.8% (90% CI 0.9–5.1%)                |\n",
      "|  72 | IND       | India                                                | Asia     | Southern Asia                   |                  81.696     | 81.7% (90% CI 73.8–88.9%)  |                       18.304   | 18.3% (90% CI 11.1–26.2%)    |                                18.3837     | 18.4% (90% CI 15.1–19.8%)              |                                 20.5132    | 20.5% (90% CI 8.3–31.5%)               |                                8.97971    | 9.0% (90% CI 4.2–14.3%)               |\n",
      "|  73 | IRL       | Ireland                                              | Europe   | Northern Europe                 |                  75.5057    | 75.5% (90% CI 56.8–95.5%)  |                       24.4943  | 24.5% (90% CI 4.5–43.2%)     |                                47.4742     | 47.5% (90% CI 39.8–48.2%)              |                                 52.611     | 52.6% (90% CI 20.6–87.4%)              |                               20.9548     | 21.0% (90% CI 3.4–36.8%)              |\n",
      "|  74 | IRN       | Iran, Islamic Republic of                            | Asia     | Southern Asia                   |                  37.1508    | 37.2% (90% CI 20.2–56.7%)  |                       62.8492  | 62.8% (90% CI 43.3–79.8%)    |                                12.1283     | 12.1% (90% CI 6.5–15.5%)               |                                 28.334     | 28.3% (90% CI 10.2–49.4%)              |                                6.01655    | 6.0% (90% CI 1.4–10.4%)               |\n",
      "|  75 | IRQ       | Iraq                                                 | Asia     | Western Asia                    |                  64.9568    | 65.0% (90% CI 49.1–79.5%)  |                       35.0432  | 35.0% (90% CI 20.5–50.9%)    |                                14.1675     | 14.2% (90% CI 11.3–15.6%)              |                                 34.2516    | 34.3% (90% CI 16.8–51.9%)              |                                6.01523    | 6.0% (90% CI 2.3–10.3%)               |\n",
      "|  76 | ISL       | Iceland                                              | Europe   | Northern Europe                 |                  58.0657    | 58.1% (90% CI 39.9–72.4%)  |                       40.5919  | 40.6% (90% CI 26.3–58.7%)    |                                38.4848     | 38.5% (90% CI 24.1–48.1%)              |                                 45.0013    | 45.0% (90% CI 15.7–60.8%)              |                               17.2253     | 17.2% (90% CI 4.3–29.9%)              |\n",
      "|  77 | ISR       | Israel                                               | Asia     | Western Asia                    |                  20.3069    | 20.3% (90% CI 13.2–29.5%)  |                       79.6931  | 79.7% (90% CI 70.5–86.8%)    |                                11.8747     | 11.9% (90% CI 6.6–16.1%)               |                                 13.2259    | 13.2% (90% CI 5.5–22.9%)               |                                6.93379    | 6.9% (90% CI 1.9–11.3%)               |\n",
      "|  78 | ITA       | Italy                                                | Europe   | Southern Europe                 |                  77.2821    | 77.3% (90% CI 61.6–89.4%)  |                       22.7165  | 22.7% (90% CI 10.6–38.4%)    |                                59.6404     | 59.6% (90% CI 49.2–63.4%)              |                                 54.026     | 54.0% (90% CI 21.2–79.0%)              |                               23.605      | 23.6% (90% CI 7.2–44.5%)              |\n",
      "|  79 | JAM       | Jamaica                                              | Americas | Latin America and the Caribbean |                  64.3177    | 64.3% (90% CI 48.1–80.9%)  |                       35.6823  | 35.7% (90% CI 19.1–51.9%)    |                                25.8605     | 25.9% (90% CI 13.3–29.5%)              |                                 25.5463    | 25.5% (90% CI 7.2–48.1%)               |                               14.0856     | 14.1% (90% CI 3.1–22.0%)              |\n",
      "|  80 | JOR       | Jordan                                               | Asia     | Western Asia                    |                  38.5723    | 38.6% (90% CI 30.5–47.0%)  |                       61.4276  | 61.4% (90% CI 53.0–69.5%)    |                                 3.24055    | 3.2% (90% CI 2.1–4.6%)                 |                                 20.1809    | 20.2% (90% CI 11.7–28.4%)              |                                1.47087    | 1.5% (90% CI 0.3–2.7%)                |\n",
      "|  81 | JPN       | Japan                                                | Asia     | Eastern Asia                    |                  84.0199    | 84.0% (90% CI 71.2–93.4%)  |                       15.9801  | 16.0% (90% CI 6.6–28.8%)     |                                59.5056     | 59.5% (90% CI 50.4–61.7%)              |                                 49.5243    | 49.5% (90% CI 21.2–74.6%)              |                               23.5274     | 23.5% (90% CI 6.6–43.0%)              |\n",
      "|  82 | KAZ       | Kazakhstan                                           | Asia     | Central Asia                    |                  64.8979    | 64.9% (90% CI 53.8–75.7%)  |                       35.102   | 35.1% (90% CI 24.3–46.2%)    |                                10.6519     | 10.7% (90% CI 7.4–12.9%)               |                                 24.2871    | 24.3% (90% CI 11.1–36.6%)              |                                4.65213    | 4.7% (90% CI 1.5–8.0%)                |\n",
      "|  83 | KEN       | Kenya                                                | Africa   | Sub-Saharan Africa              |                  77.3822    | 77.4% (90% CI 70.0–85.1%)  |                       22.6172  | 22.6% (90% CI 14.9–30.0%)    |                                10.2834     | 10.3% (90% CI 6.5–10.9%)               |                                 13.4444    | 13.4% (90% CI 5.1–23.7%)               |                                5.68632    | 5.7% (90% CI 2.5–8.6%)                |\n",
      "|  84 | KGZ       | Kyrgyzstan                                           | Asia     | Central Asia                    |                  71.3159    | 71.3% (90% CI 47.8–91.0%)  |                       28.6841  | 28.7% (90% CI 9.0–52.2%)     |                                19.5149     | 19.5% (90% CI 12.5–21.2%)              |                                 57.7592    | 57.8% (90% CI 28.8–80.6%)              |                                5.00366    | 5.0% (90% CI 0.6–12.1%)               |\n",
      "|  85 | KHM       | Cambodia                                             | Asia     | South-eastern Asia              |                  91.9187    | 91.9% (90% CI 86.7–95.0%)  |                        8.08128 | 8.1% (90% CI 5.0–13.3%)      |                                20.1962     | 20.2% (90% CI 16.8–21.4%)              |                                 16.1005    | 16.1% (90% CI 6.2–22.4%)               |                                9.20063    | 9.2% (90% CI 5.4–15.6%)               |\n",
      "|  86 | KNA       | Saint Kitts and Nevis                                | Americas | Latin America and the Caribbean |                  35.4332    | 35.4% (90% CI 19.2–45.8%)  |                       64.5668  | 64.6% (90% CI 54.2–80.8%)    |                                23.6429     | 23.6% (90% CI 7.4–23.6%)               |                                 17.823     | 17.8% (90% CI 0.0–17.8%)               |                               16.2135     | 16.2% (90% CI 0.0–23.6%)              |\n",
      "|  87 | KOR       | Korea, Republic of                                   | Asia     | Eastern Asia                    |                  53.9035    | 53.9% (90% CI 35.9–71.9%)  |                       46.0965  | 46.1% (90% CI 28.1–64.1%)    |                                34.8074     | 34.8% (90% CI 20.9–41.5%)              |                                 34.5415    | 34.5% (90% CI 17.0–57.7%)              |                               18.5762     | 18.6% (90% CI 5.6–28.4%)              |\n",
      "|  88 | LAO       | Lao People's Democratic Republic                     | Asia     | South-eastern Asia              |                  95.7128    | 95.7% (90% CI 90.8–98.5%)  |                        4.28722 | 4.3% (90% CI 1.5–9.2%)       |                                 8.85776    | 8.9% (90% CI 7.2–9.3%)                 |                                 12.4813    | 12.5% (90% CI 4.5–16.9%)               |                                2.7155     | 2.7% (90% CI 0.9–6.5%)                |\n",
      "|  89 | LBN       | Lebanon                                              | Asia     | Western Asia                    |                  44.8476    | 44.8% (90% CI 32.6–52.9%)  |                       55.1524  | 55.2% (90% CI 47.1–67.4%)    |                                 6.6244     | 6.6% (90% CI 3.8–8.0%)                 |                                 32.9446    | 32.9% (90% CI 20.2–40.2%)              |                                3.62672    | 3.6% (90% CI 0.2–5.3%)                |\n",
      "|  90 | LBR       | Liberia                                              | Africa   | Sub-Saharan Africa              |                  98.4215    | 98.4% (90% CI 98.3–98.5%)  |                        1.57851 | 1.6% (90% CI 1.5–1.7%)       |                                 0.0525315  | 0.1% (90% CI 0.0–0.1%)                 |                                  0.123723  | 0.1% (90% CI 0.0–0.2%)                 |                                0.0488198  | 0.0% (90% CI 0.0–0.1%)                |\n",
      "|  91 | LBY       | Libya                                                | Africa   | Northern Africa                 |                  43.5543    | 43.6% (90% CI 43.5–43.6%)  |                       56.4457  | 56.4% (90% CI 56.4–56.5%)    |                                 0.00847684 | 0.0% (90% CI 0.0–0.0%)                 |                                  0.0117269 | 0.0% (90% CI 0.0–0.0%)                 |                                0.00630846 | 0.0% (90% CI 0.0–0.0%)                |\n",
      "|  92 | LCA       | Saint Lucia                                          | Americas | Latin America and the Caribbean |                  42.5231    | 42.5% (90% CI 11.7–74.7%)  |                       57.4769  | 57.5% (90% CI 25.3–88.3%)    |                                27.58       | 27.6% (90% CI 8.1–32.4%)               |                                 19.4139    | 19.4% (90% CI 0.0–66.2%)               |                               21.007      | 21.0% (90% CI 0.0–27.6%)              |\n",
      "|  93 | LIE       | Liechtenstein                                        | Europe   | Western Europe                  |                  82.6238    | 82.6% (90% CI 53.3–100.0%) |                       17.3762  | 17.4% (90% CI -0.0–46.7%)    |                                73.43       | 73.4% (90% CI 53.3–73.4%)              |                                 34.6023    | 34.6% (90% CI 0.0–100.0%)              |                               48.0216     | 48.0% (90% CI 0.0–73.4%)              |\n",
      "|  94 | LKA       | Sri Lanka                                            | Asia     | Southern Asia                   |                  74.2483    | 74.2% (90% CI 60.2–83.0%)  |                       25.7517  | 25.8% (90% CI 17.0–39.8%)    |                                26.8165     | 26.8% (90% CI 20.2–29.7%)              |                                 34.0326    | 34.0% (90% CI 14.0–44.4%)              |                               11.816      | 11.8% (90% CI 5.1–20.5%)              |\n",
      "|  95 | LSO       | Lesotho                                              | Africa   | Sub-Saharan Africa              |                  76.2108    | 76.2% (90% CI 45.7–98.5%)  |                       23.7892  | 23.8% (90% CI 1.5–54.3%)     |                                 1.44898    | 1.4% (90% CI 1.1–1.5%)                 |                                 44.9743    | 45.0% (90% CI 13.8–67.6%)              |                                0.45785    | 0.5% (90% CI 0.0–1.1%)                |\n",
      "|  96 | LTU       | Lithuania                                            | Europe   | Northern Europe                 |                  81.1154    | 81.1% (90% CI 60.0–94.6%)  |                       18.8846  | 18.9% (90% CI 5.4–40.0%)     |                                34.4969     | 34.5% (90% CI 29.9–34.8%)              |                                 58.7346    | 58.7% (90% CI 28.1–80.7%)              |                               10.4412     | 10.4% (90% CI 2.3–22.9%)              |\n",
      "|  97 | LUX       | Luxembourg                                           | Europe   | Western Europe                  |                  78.5136    | 78.5% (90% CI 54.3–90.8%)  |                       21.4864  | 21.5% (90% CI 9.2–45.7%)     |                                60.9504     | 61.0% (90% CI 38.8–62.3%)              |                                 55.3193    | 55.3% (90% CI 14.6–75.3%)              |                               24.2667     | 24.3% (90% CI 7.7–46.8%)              |\n",
      "|  98 | LVA       | Latvia                                               | Europe   | Northern Europe                 |                  70.7847    | 70.8% (90% CI 49.1–95.1%)  |                       29.2153  | 29.2% (90% CI 4.9–50.9%)     |                                16.059      | 16.1% (90% CI 14.7–16.3%)              |                                 55.3996    | 55.4% (90% CI 30.7–84.8%)              |                                6.06099    | 6.1% (90% CI 0.8–10.6%)               |\n",
      "|  99 | MAR       | Morocco                                              | Africa   | Northern Africa                 |                  51.8585    | 51.9% (90% CI 44.4–61.5%)  |                       48.139   | 48.1% (90% CI 38.5–55.6%)    |                                10.6438     | 10.6% (90% CI 5.1–12.1%)               |                                 11.8428    | 11.8% (90% CI 5.7–22.7%)               |                                7.32068    | 7.3% (90% CI 2.3–9.6%)                |\n",
      "| 100 | MDA       | Moldova, Republic of                                 | Europe   | Eastern Europe                  |                  77.6684    | 77.7% (90% CI 57.3–94.6%)  |                       22.3316  | 22.3% (90% CI 5.4–42.7%)     |                                17.6313     | 17.6% (90% CI 13.0–18.0%)              |                                 36.514     | 36.5% (90% CI 10.8–59.0%)              |                                7.15014    | 7.2% (90% CI 1.1–13.9%)               |\n",
      "| 101 | MDG       | Madagascar                                           | Africa   | Sub-Saharan Africa              |                  85.9953    | 86.0% (90% CI 81.9–93.9%)  |                       14.0047  | 14.0% (90% CI 6.1–18.1%)     |                                 5.12999    | 5.1% (90% CI 3.9–5.5%)                 |                                  8.72732   | 8.7% (90% CI 4.3–18.6%)                |                                2.95203    | 3.0% (90% CI 0.9–4.2%)                |\n",
      "| 102 | MEX       | Mexico                                               | Americas | Latin America and the Caribbean |                  43.9253    | 43.9% (90% CI 29.9–59.5%)  |                       56.0651  | 56.1% (90% CI 40.5–70.1%)    |                                21.2993     | 21.3% (90% CI 14.5–25.1%)              |                                 29.2161    | 29.2% (90% CI 10.4–47.4%)              |                               11.3838     | 11.4% (90% CI 4.4–17.7%)              |\n",
      "| 103 | MKD       | North Macedonia                                      | Europe   | Southern Europe                 |                  74.0326    | 74.0% (90% CI 50.2–92.7%)  |                       25.9674  | 26.0% (90% CI 7.3–49.8%)     |                                42.5244     | 42.5% (90% CI 21.4–48.2%)              |                                 39.3869    | 39.4% (90% CI 12.1–68.8%)              |                               17.4915     | 17.5% (90% CI 2.3–36.3%)              |\n",
      "| 104 | MLI       | Mali                                                 | Africa   | Sub-Saharan Africa              |                  79.4344    | 79.4% (90% CI 75.4–83.3%)  |                       20.5654  | 20.6% (90% CI 16.7–24.6%)    |                                 8.66061    | 8.7% (90% CI 5.9–10.9%)                |                                  9.97062   | 10.0% (90% CI 6.0–13.9%)               |                                4.20689    | 4.2% (90% CI 1.5–6.8%)                |\n",
      "| 105 | MLT       | Malta                                                | Europe   | Southern Europe                 |                  42.2611    | 42.3% (90% CI 19.5–69.0%)  |                       57.7389  | 57.7% (90% CI 31.0–80.5%)    |                                41.47       | 41.5% (90% CI 16.1–41.5%)              |                                 32.9128    | 32.9% (90% CI 0.0–47.0%)               |                               21.9875     | 22.0% (90% CI 0.0–41.5%)              |\n",
      "| 106 | MMR       | Myanmar                                              | Asia     | South-eastern Asia              |                  92.1156    | 92.1% (90% CI 87.8–97.8%)  |                        7.88436 | 7.9% (90% CI 2.2–12.2%)      |                                13.153      | 13.2% (90% CI 11.0–13.9%)              |                                 11.8505    | 11.9% (90% CI 6.1–23.0%)               |                                6.57936    | 6.6% (90% CI 1.4–9.7%)                |\n",
      "| 107 | MNE       | Montenegro                                           | Europe   | Southern Europe                 |                  58.3298    | 58.3% (90% CI 44.0–77.4%)  |                       41.6702  | 41.7% (90% CI 22.6–56.0%)    |                                16.3218     | 16.3% (90% CI 9.4–20.1%)               |                                 24.4552    | 24.5% (90% CI 10.5–48.0%)              |                                7.76529    | 7.8% (90% CI 1.1–14.2%)               |\n",
      "| 108 | MNG       | Mongolia                                             | Asia     | Eastern Asia                    |                  93.8059    | 93.8% (90% CI 89.6–97.2%)  |                        5.34762 | 5.3% (90% CI 2.0–9.6%)       |                                 2.40847    | 2.4% (90% CI 2.0–2.6%)                 |                                 11.1062    | 11.1% (90% CI 6.0–14.9%)               |                                0.564541   | 0.6% (90% CI 0.0–1.5%)                |\n",
      "| 109 | MOZ       | Mozambique                                           | Africa   | Sub-Saharan Africa              |                  89.0932    | 89.1% (90% CI 83.6–93.9%)  |                       10.9068  | 10.9% (90% CI 6.1–16.4%)     |                                 9.16958    | 9.2% (90% CI 6.3–10.6%)                |                                 11.9351    | 11.9% (90% CI 4.3–18.7%)               |                                4.17352    | 4.2% (90% CI 1.6–7.4%)                |\n",
      "| 110 | MRT       | Mauritania                                           | Africa   | Sub-Saharan Africa              |                  52.5151    | 52.5% (90% CI 51.4–55.5%)  |                       46.922   | 46.9% (90% CI 43.9–48.0%)    |                                 0.386353   | 0.4% (90% CI 0.3–1.0%)                 |                                  2.45249   | 2.5% (90% CI 1.5–5.7%)                 |                                0.254176   | 0.3% (90% CI 0.1–0.8%)                |\n",
      "| 111 | MUS       | Mauritius                                            | Africa   | Sub-Saharan Africa              |                  90.0566    | 90.1% (90% CI 72.2–94.1%)  |                        9.94342 | 9.9% (90% CI 5.9–27.8%)      |                                71.8619     | 71.9% (90% CI 67.6–71.9%)              |                                 84.3588    | 84.4% (90% CI 16.6–90.2%)              |                                8.306      | 8.3% (90% CI 0.3–55.5%)               |\n",
      "| 112 | MWI       | Malawi                                               | Africa   | Sub-Saharan Africa              |                  88.4358    | 88.4% (90% CI 80.9–94.3%)  |                       11.563   | 11.6% (90% CI 5.7–19.1%)     |                                14.5773     | 14.6% (90% CI 10.0–15.3%)              |                                 16.9464    | 16.9% (90% CI 6.5–25.6%)               |                                6.86292    | 6.9% (90% CI 2.4–11.4%)               |\n",
      "| 113 | MYS       | Malaysia                                             | Asia     | South-eastern Asia              |                  67.5713    | 67.6% (90% CI 49.4–86.0%)  |                       32.4287  | 32.4% (90% CI 14.0–50.6%)    |                                37.087      | 37.1% (90% CI 26.9–39.2%)              |                                 38.9078    | 38.9% (90% CI 13.7–67.6%)              |                               18.4176     | 18.4% (90% CI 6.5–30.1%)              |\n",
      "| 114 | NAM       | Namibia                                              | Africa   | Sub-Saharan Africa              |                  26.0524    | 26.1% (90% CI 24.8–44.9%)  |                       73.3393  | 73.3% (90% CI 54.5–74.5%)    |                                 4.16798    | 4.2% (90% CI 3.3–4.5%)                 |                                  1.17276   | 1.2% (90% CI 0.3–22.8%)                |                                3.90773    | 3.9% (90% CI 0.7–4.3%)                |\n",
      "| 115 | NER       | Niger                                                | Africa   | Sub-Saharan Africa              |                  67.5524    | 67.6% (90% CI 66.3–69.5%)  |                       32.3672  | 32.4% (90% CI 30.4–33.6%)    |                                 1.01343    | 1.0% (90% CI 0.6–1.3%)                 |                                  3.27715   | 3.3% (90% CI 2.1–5.3%)                 |                                0.658382   | 0.7% (90% CI 0.3–0.9%)                |\n",
      "| 116 | NGA       | Nigeria                                              | Africa   | Sub-Saharan Africa              |                  94.586     | 94.6% (90% CI 92.4–97.1%)  |                        5.41396 | 5.4% (90% CI 2.9–7.6%)       |                                 1.98901    | 2.0% (90% CI 1.4–2.2%)                 |                                  4.27089   | 4.3% (90% CI 1.6–7.2%)                 |                                1.00592    | 1.0% (90% CI 0.4–1.6%)                |\n",
      "| 117 | NIC       | Nicaragua                                            | Americas | Latin America and the Caribbean |                  75.0513    | 75.1% (90% CI 67.8–83.1%)  |                       24.9487  | 24.9% (90% CI 16.9–32.2%)    |                                10.9622     | 11.0% (90% CI 5.4–13.4%)               |                                 11.4044    | 11.4% (90% CI 4.7–20.9%)               |                                6.88736    | 6.9% (90% CI 1.9–9.9%)                |\n",
      "| 118 | NLD       | Netherlands, Kingdom of the                          | Europe   | Western Europe                  |                  94.0573    | 94.1% (90% CI 84.6–98.1%)  |                        5.94269 | 5.9% (90% CI 1.9–15.4%)      |                                87.8855     | 87.9% (90% CI 79.7–89.3%)              |                                 64.1319    | 64.1% (90% CI 26.4–87.6%)              |                               30.3974     | 30.4% (90% CI 9.4–63.1%)              |\n",
      "| 119 | NOR       | Norway                                               | Europe   | Northern Europe                 |                  85.7944    | 85.8% (90% CI 67.3–94.9%)  |                       14.2056  | 14.2% (90% CI 5.1–32.7%)     |                                74.1358     | 74.1% (90% CI 55.6–78.5%)              |                                 64.5348    | 64.5% (90% CI 23.5–87.7%)              |                               20.3031     | 20.3% (90% CI 4.1–50.5%)              |\n",
      "| 120 | NPL       | Nepal                                                | Asia     | Southern Asia                   |                  86.4262    | 86.4% (90% CI 74.5–95.8%)  |                       13.5738  | 13.6% (90% CI 4.2–25.5%)     |                                19.8522     | 19.9% (90% CI 17.3–20.3%)              |                                 29.5519    | 29.6% (90% CI 10.2–44.8%)              |                                7.80869    | 7.8% (90% CI 1.5–15.3%)               |\n",
      "| 121 | NZL       | New Zealand                                          | Oceania  | Australia and New Zealand       |                  79.59      | 79.6% (90% CI 62.5–91.4%)  |                       20.3325  | 20.3% (90% CI 8.5–37.4%)     |                                56.2275     | 56.2% (90% CI 49.1–62.0%)              |                                 63.1324    | 63.1% (90% CI 23.2–82.2%)              |                               17.9202     | 17.9% (90% CI 5.4–42.3%)              |\n",
      "| 122 | OMN       | Oman                                                 | Asia     | Western Asia                    |                  18.7565    | 18.8% (90% CI 16.3–22.1%)  |                       81.2435  | 81.2% (90% CI 77.9–83.7%)    |                                 3.05794    | 3.1% (90% CI 1.7–5.1%)                 |                                  0.422108  | 0.4% (90% CI 0.3–4.5%)                 |                                2.5816     | 2.6% (90% CI 0.2–4.8%)                |\n",
      "| 123 | PAK       | Pakistan                                             | Asia     | Southern Asia                   |                  91.0473    | 91.0% (90% CI 86.2–95.5%)  |                        8.95269 | 9.0% (90% CI 4.5–13.8%)      |                                10.7607     | 10.8% (90% CI 9.0–11.4%)               |                                 12.5063    | 12.5% (90% CI 4.5–20.1%)               |                                4.87738    | 4.9% (90% CI 1.7–8.4%)                |\n",
      "| 124 | PAN       | Panama                                               | Americas | Latin America and the Caribbean |                  85.5567    | 85.6% (90% CI 67.6–95.6%)  |                       14.4433  | 14.4% (90% CI 4.4–32.4%)     |                                35.6141     | 35.6% (90% CI 29.4–36.5%)              |                                 63.8123    | 63.8% (90% CI 36.7–79.1%)              |                                7.76325    | 7.8% (90% CI 1.9–17.1%)               |\n",
      "| 125 | PER       | Peru                                                 | Americas | Latin America and the Caribbean |                  51.3394    | 51.3% (90% CI 35.5–66.7%)  |                       48.6603  | 48.7% (90% CI 33.3–64.5%)    |                                12.8184     | 12.8% (90% CI 7.9–15.7%)               |                                 30.495     | 30.5% (90% CI 11.7–47.3%)              |                                5.97488    | 6.0% (90% CI 1.6–9.9%)                |\n",
      "| 126 | PHL       | Philippines                                          | Asia     | South-eastern Asia              |                  76.8128    | 76.8% (90% CI 60.3–89.7%)  |                       23.1872  | 23.2% (90% CI 10.3–39.7%)    |                                15.5373     | 15.5% (90% CI 13.2–16.1%)              |                                 40.871     | 40.9% (90% CI 19.0–57.0%)              |                                5.7877     | 5.8% (90% CI 2.0–10.8%)               |\n",
      "| 127 | PLW       | Palau                                                | Oceania  | Micronesia                      |                  79.1747    | 79.2% (90% CI 74.6–83.0%)  |                       20.8253  | 20.8% (90% CI 17.0–25.4%)    |                                 4.14411    | 4.1% (90% CI 2.0–4.6%)                 |                                  6.26508   | 6.3% (90% CI 0.0–12.0%)                |                                2.07954    | 2.1% (90% CI 0.0–4.6%)                |\n",
      "| 128 | PNG       | Papua New Guinea                                     | Oceania  | Melanesia                       |                  97.1623    | 97.2% (90% CI 93.7–99.5%)  |                        2.83766 | 2.8% (90% CI 0.5–6.3%)       |                                 5.70532    | 5.7% (90% CI 3.4–6.0%)                 |                                  8.26388   | 8.3% (90% CI 3.2–11.8%)                |                                1.4398     | 1.4% (90% CI 0.2–3.8%)                |\n",
      "| 129 | POL       | Poland                                               | Europe   | Eastern Europe                  |                  82.8891    | 82.9% (90% CI 68.0–93.3%)  |                       17.1109  | 17.1% (90% CI 6.7–32.0%)     |                                56.8737     | 56.9% (90% CI 45.7–59.2%)              |                                 43.2474    | 43.2% (90% CI 17.2–67.9%)              |                               25.4088     | 25.4% (90% CI 9.4–44.3%)              |\n",
      "| 130 | PRK       | Korea, Democratic People's Republic of               | Asia     | Eastern Asia                    |                  79.2945    | 79.3% (90% CI 68.7–89.6%)  |                       20.7055  | 20.7% (90% CI 10.4–31.3%)    |                                18.9157     | 18.9% (90% CI 12.7–21.9%)              |                                 24.0143    | 24.0% (90% CI 10.6–37.8%)              |                                8.28419    | 8.3% (90% CI 2.4–14.1%)               |\n",
      "| 131 | PRT       | Portugal                                             | Europe   | Southern Europe                 |                  55.3354    | 55.3% (90% CI 36.1–69.3%)  |                       44.6615  | 44.7% (90% CI 30.7–63.9%)    |                                30.2506     | 30.3% (90% CI 20.4–32.3%)              |                                 40.4725    | 40.5% (90% CI 13.5–58.3%)              |                               13.6354     | 13.6% (90% CI 4.7–23.9%)              |\n",
      "| 132 | PRY       | Paraguay                                             | Americas | Latin America and the Caribbean |                  51.4267    | 51.4% (90% CI 33.8–69.9%)  |                       48.5421  | 48.5% (90% CI 30.1–66.1%)    |                                29.3765     | 29.4% (90% CI 18.7–37.1%)              |                                 35.4304    | 35.4% (90% CI 15.2–57.2%)              |                               15.8468     | 15.8% (90% CI 5.4–25.3%)              |\n",
      "| 133 | QAT       | Qatar                                                | Asia     | Western Asia                    |                   0         | 0.0% (90% CI 0.0–0.0%)     |                       99.9992  | 100.0% (90% CI 100.0–100.0%) |                                 0          | 0.0% (90% CI 0.0–0.0%)                 |                                  0         | 0.0% (90% CI 0.0–0.0%)                 |                                0          | 0.0% (90% CI 0.0–0.0%)                |\n",
      "| 134 | ROU       | Romania                                              | Europe   | Eastern Europe                  |                  83.7418    | 83.7% (90% CI 72.2–93.9%)  |                       16.2582  | 16.3% (90% CI 6.1–27.8%)     |                                 7.07502    | 7.1% (90% CI 6.0–7.5%)                 |                                 23.3877    | 23.4% (90% CI 9.8–35.5%)               |                                2.76955    | 2.8% (90% CI 0.9–5.0%)                |\n",
      "| 135 | RUS       | Russian Federation                                   | Europe   | Eastern Europe                  |                  63.4699    | 63.5% (90% CI 43.3–83.9%)  |                       36.1367  | 36.1% (90% CI 15.7–56.3%)    |                                17.9609     | 18.0% (90% CI 12.9–19.8%)              |                                 44.451     | 44.5% (90% CI 21.7–69.1%)              |                                7.38098    | 7.4% (90% CI 2.3–13.0%)               |\n",
      "| 136 | RWA       | Rwanda                                               | Africa   | Sub-Saharan Africa              |                  60.0346    | 60.0% (90% CI 49.5–77.3%)  |                       39.9654  | 40.0% (90% CI 22.7–50.5%)    |                                 7.70283    | 7.7% (90% CI 5.5–9.6%)                 |                                 22.9709    | 23.0% (90% CI 11.8–41.8%)              |                                4.08619    | 4.1% (90% CI 1.1–6.3%)                |\n",
      "| 137 | SAU       | Saudi Arabia                                         | Asia     | Western Asia                    |                  15.9491    | 15.9% (90% CI 15.6–16.4%)  |                       84.0509  | 84.1% (90% CI 83.6–84.4%)    |                                 0.312521   | 0.3% (90% CI 0.1–0.5%)                 |                                  0.433376  | 0.4% (90% CI 0.1–0.9%)                 |                                0.202834   | 0.2% (90% CI 0.0–0.4%)                |\n",
      "| 138 | SDN       | Sudan                                                | Africa   | Northern Africa                 |                  57.9657    | 58.0% (90% CI 54.9–60.9%)  |                       42.0342  | 42.0% (90% CI 39.1–45.1%)    |                                 1.04051    | 1.0% (90% CI 0.8–1.2%)                 |                                  6.65057   | 6.7% (90% CI 3.2–9.7%)                 |                                0.518705   | 0.5% (90% CI 0.3–0.8%)                |\n",
      "| 139 | SEN       | Senegal                                              | Africa   | Sub-Saharan Africa              |                  39.4014    | 39.4% (90% CI 35.2–46.2%)  |                       60.5986  | 60.6% (90% CI 53.8–64.8%)    |                                 3.77825    | 3.8% (90% CI 2.2–5.4%)                 |                                  7.26559   | 7.3% (90% CI 2.8–14.3%)                |                                2.5435     | 2.5% (90% CI 1.2–4.1%)                |\n",
      "| 140 | SGP       | Singapore                                            | Asia     | South-eastern Asia              |                  38.7008    | 38.7% (90% CI 28.6–69.3%)  |                       61.2992  | 61.3% (90% CI 30.7–71.4%)    |                                28.5913     | 28.6% (90% CI 18.6–35.5%)              |                                 15.6836    | 15.7% (90% CI 0.0–52.4%)               |                               23.0172     | 23.0% (90% CI 10.0–35.5%)             |\n",
      "| 141 | SLB       | Solomon Islands                                      | Oceania  | Melanesia                       |                  80.3226    | 80.3% (90% CI 72.9–98.2%)  |                       19.6774  | 19.7% (90% CI 1.8–27.1%)     |                                17.5743     | 17.6% (90% CI 14.6–18.0%)              |                                 17.7417    | 17.7% (90% CI 8.5–45.7%)               |                               10.5061     | 10.5% (90% CI 0.3–13.8%)              |\n",
      "| 142 | SLE       | Sierra Leone                                         | Africa   | Sub-Saharan Africa              |                  87.6028    | 87.6% (90% CI 84.0–91.0%)  |                       12.3972  | 12.4% (90% CI 9.0–16.0%)     |                                 1.76303    | 1.8% (90% CI 0.9–1.9%)                 |                                  5.53897   | 5.5% (90% CI 1.5–9.0%)                 |                                1.16853    | 1.2% (90% CI 0.3–1.7%)                |\n",
      "| 143 | SLV       | El Salvador                                          | Americas | Latin America and the Caribbean |                  64.0595    | 64.1% (90% CI 42.8–88.0%)  |                       35.9405  | 35.9% (90% CI 12.0–57.2%)    |                                24.3883     | 24.4% (90% CI 17.5–25.8%)              |                                 39.6768    | 39.7% (90% CI 13.5–72.1%)              |                               11.1521     | 11.2% (90% CI 2.4–19.2%)              |\n",
      "| 144 | SMR       | San Marino                                           | Europe   | Southern Europe                 |                  65.63      | 65.6% (90% CI 0.0–65.6%)   |                       34.37    | 34.4% (90% CI 34.4–100.0%)   |                                65.63       | 65.6% (90% CI 0.0–65.6%)               |                                  0         | 0.0% (90% CI 0.0–0.0%)                 |                               65.63       | 65.6% (90% CI 0.0–65.6%)              |\n",
      "| 145 | SOM       | Somalia                                              | Africa   | Sub-Saharan Africa              |                  77.6547    | 77.7% (90% CI 77.0–78.3%)  |                       22.3453  | 22.3% (90% CI 21.7–23.0%)    |                                 0.047244   | 0.0% (90% CI 0.0–0.1%)                 |                                  0.853511  | 0.9% (90% CI 0.2–1.5%)                 |                                0.03702    | 0.0% (90% CI 0.0–0.1%)                |\n",
      "| 146 | SRB       | Serbia                                               | Europe   | Southern Europe                 |                  63.8742    | 63.9% (90% CI 45.0–85.4%)  |                       36.1258  | 36.1% (90% CI 14.6–55.0%)    |                                26.8562     | 26.9% (90% CI 19.9–29.1%)              |                                 46.003     | 46.0% (90% CI 21.6–73.9%)              |                               11.228      | 11.2% (90% CI 3.1–19.2%)              |\n",
      "| 147 | SSD       | South Sudan                                          | Africa   | Sub-Saharan Africa              |                  97.7058    | 97.7% (90% CI 97.3–98.1%)  |                        2.29403 | 2.3% (90% CI 1.9–2.7%)       |                                 0.331347   | 0.3% (90% CI 0.2–0.5%)                 |                                  0.578767  | 0.6% (90% CI 0.2–1.1%)                 |                                0.182349   | 0.2% (90% CI 0.1–0.3%)                |\n",
      "| 148 | STP       | Sao Tome and Principe                                | Africa   | Sub-Saharan Africa              |                  36.1956    | 36.2% (90% CI 13.8–67.3%)  |                       63.8044  | 63.8% (90% CI 32.7–86.2%)    |                                12.1853     | 12.2% (90% CI 3.6–12.2%)               |                                 22.6264    | 22.6% (90% CI 1.1–55.1%)               |                                8.19931    | 8.2% (90% CI 1.3–12.0%)               |\n",
      "| 149 | SUR       | Suriname                                             | Americas | Latin America and the Caribbean |                  86.9558    | 87.0% (90% CI 58.9–93.8%)  |                       12.4864  | 12.5% (90% CI 5.6–40.6%)     |                                26.5952     | 26.6% (90% CI 22.0–27.9%)              |                                 56.4115    | 56.4% (90% CI 13.5–65.2%)              |                                4.38105    | 4.4% (90% CI 0.6–21.5%)               |\n",
      "| 150 | SVK       | Slovakia                                             | Europe   | Eastern Europe                  |                  78.5761    | 78.6% (90% CI 57.1–94.2%)  |                       21.4238  | 21.4% (90% CI 5.8–42.9%)     |                                53.0179     | 53.0% (90% CI 41.3–55.0%)              |                                 58.6702    | 58.7% (90% CI 20.3–88.6%)              |                               19.4007     | 19.4% (90% CI 3.5–40.1%)              |\n",
      "| 151 | SVN       | Slovenia                                             | Europe   | Southern Europe                 |                  87.23      | 87.2% (90% CI 69.4–94.2%)  |                       12.77    | 12.8% (90% CI 5.8–30.6%)     |                                74.9031     | 74.9% (90% CI 59.8–77.8%)              |                                 68.3844    | 68.4% (90% CI 24.0–81.0%)              |                               19.3017     | 19.3% (90% CI 5.8–51.1%)              |\n",
      "| 152 | SWE       | Sweden                                               | Europe   | Northern Europe                 |                  92.4133    | 92.4% (90% CI 82.9–97.6%)  |                        7.56111 | 7.6% (90% CI 2.4–17.0%)      |                                66.2372     | 66.2% (90% CI 58.2–68.2%)              |                                 52.5987    | 52.6% (90% CI 21.3–71.9%)              |                               21.6741     | 21.7% (90% CI 5.5–46.4%)              |\n",
      "| 153 | SWZ       | Eswatini                                             | Africa   | Sub-Saharan Africa              |                  84.6773    | 84.7% (90% CI 62.6–99.0%)  |                       15.3227  | 15.3% (90% CI 1.0–37.4%)     |                                 4.29906    | 4.3% (90% CI 3.3–4.3%)                 |                                 37.6512    | 37.7% (90% CI 13.6–52.9%)              |                                1.20905    | 1.2% (90% CI 0.1–2.9%)                |\n",
      "| 154 | SYR       | Syrian Arab Republic                                 | Asia     | Western Asia                    |                  47.1667    | 47.2% (90% CI 37.1–57.5%)  |                       52.8312  | 52.8% (90% CI 42.5–62.9%)    |                                 8.56822    | 8.6% (90% CI 4.8–11.0%)                |                                 17.6956    | 17.7% (90% CI 5.8–27.1%)               |                                5.25947    | 5.3% (90% CI 1.9–7.9%)                |\n",
      "| 155 | TCD       | Chad                                                 | Africa   | Sub-Saharan Africa              |                  93.9574    | 94.0% (90% CI 91.9–94.7%)  |                        6.04255 | 6.0% (90% CI 5.3–8.1%)       |                                 1.22873    | 1.2% (90% CI 1.0–1.4%)                 |                                  3.96529   | 4.0% (90% CI 1.5–4.8%)                 |                                0.397008   | 0.4% (90% CI 0.2–0.9%)                |\n",
      "| 156 | TGO       | Togo                                                 | Africa   | Sub-Saharan Africa              |                  86.8264    | 86.8% (90% CI 82.7–90.8%)  |                       13.1736  | 13.2% (90% CI 9.2–17.3%)     |                                 6.79031    | 6.8% (90% CI 4.5–8.3%)                 |                                  9.34198   | 9.3% (90% CI 5.6–14.1%)                |                                3.65233    | 3.7% (90% CI 1.6–5.4%)                |\n",
      "| 157 | THA       | Thailand                                             | Asia     | South-eastern Asia              |                  78.7992    | 78.8% (90% CI 64.1–91.2%)  |                       21.2008  | 21.2% (90% CI 8.8–35.9%)     |                                44.5883     | 44.6% (90% CI 36.7–47.5%)              |                                 43.8701    | 43.9% (90% CI 15.0–66.9%)              |                               18.9411     | 18.9% (90% CI 6.6–34.3%)              |\n",
      "| 158 | TJK       | Tajikistan                                           | Asia     | Central Asia                    |                  73.5626    | 73.6% (90% CI 53.1–84.9%)  |                       26.4374  | 26.4% (90% CI 15.1–46.9%)    |                                12.1666     | 12.2% (90% CI 8.6–14.3%)               |                                 35.1672    | 35.2% (90% CI 8.8–47.4%)               |                                4.25544    | 4.3% (90% CI 0.7–10.0%)               |\n",
      "| 159 | TKM       | Turkmenistan                                         | Asia     | Central Asia                    |                  81.7907    | 81.8% (90% CI 75.1–84.9%)  |                       18.2093  | 18.2% (90% CI 15.1–24.9%)    |                                 2.0716     | 2.1% (90% CI 1.8–2.3%)                 |                                 10.9947    | 11.0% (90% CI 3.4–14.5%)               |                                0.560067   | 0.6% (90% CI 0.2–1.6%)                |\n",
      "| 160 | TLS       | Timor-Leste                                          | Asia     | South-eastern Asia              |                  34.2463    | 34.2% (90% CI 33.5–36.2%)  |                       65.7537  | 65.8% (90% CI 63.8–66.5%)    |                                 0.38191    | 0.4% (90% CI 0.2–1.1%)                 |                                  0.576319  | 0.6% (90% CI 0.3–2.7%)                 |                                0.307481   | 0.3% (90% CI 0.1–1.0%)                |\n",
      "| 161 | TTO       | Trinidad and Tobago                                  | Americas | Latin America and the Caribbean |                  53.3386    | 53.3% (90% CI 37.9–68.9%)  |                       46.6614  | 46.7% (90% CI 31.1–62.1%)    |                                26.6837     | 26.7% (90% CI 15.6–37.4%)              |                                 29.0614    | 29.1% (90% CI 4.4–45.3%)               |                               12.9583     | 13.0% (90% CI 4.0–24.6%)              |\n",
      "| 162 | TUN       | Tunisia                                              | Africa   | Northern Africa                 |                  37.6899    | 37.7% (90% CI 29.9–49.3%)  |                       62.3101  | 62.3% (90% CI 50.7–70.1%)    |                                12.596      | 12.6% (90% CI 8.7–15.5%)               |                                 16.6569    | 16.7% (90% CI 8.7–31.4%)               |                                6.91042    | 6.9% (90% CI 2.7–10.5%)               |\n",
      "| 163 | TUR       | Türkiye                                              | Asia     | Western Asia                    |                  56.2951    | 56.3% (90% CI 38.7–78.2%)  |                       43.7049  | 43.7% (90% CI 21.8–61.3%)    |                                22.566      | 22.6% (90% CI 14.7–25.8%)              |                                 32.4059    | 32.4% (90% CI 12.0–60.9%)              |                               11.6374     | 11.6% (90% CI 3.1–18.7%)              |\n",
      "| 164 | TWN       | Taiwan, Province of China                            | Asia     | Eastern Asia                    |                  79.6581    | 79.7% (90% CI 62.5–93.6%)  |                       20.3419  | 20.3% (90% CI 6.4–37.5%)     |                                57.7105     | 57.7% (90% CI 43.5–58.6%)              |                                 42.369     | 42.4% (90% CI 15.1–78.6%)              |                               29.0258     | 29.0% (90% CI 8.2–47.5%)              |\n",
      "| 165 | TZA       | Tanzania, United Republic of                         | Africa   | Sub-Saharan Africa              |                  86.7108    | 86.7% (90% CI 79.6–93.4%)  |                       13.2892  | 13.3% (90% CI 6.6–20.4%)     |                                13.5051     | 13.5% (90% CI 9.6–14.8%)               |                                 18.3697    | 18.4% (90% CI 8.7–27.9%)               |                                5.23573    | 5.2% (90% CI 1.5–9.7%)                |\n",
      "| 166 | UGA       | Uganda                                               | Africa   | Sub-Saharan Africa              |                  88.7137    | 88.7% (90% CI 83.4–94.7%)  |                       11.2863  | 11.3% (90% CI 5.3–16.6%)     |                                 9.65862    | 9.7% (90% CI 7.0–10.4%)                |                                 12.3092    | 12.3% (90% CI 5.5–21.0%)               |                                4.55652    | 4.6% (90% CI 1.6–7.4%)                |\n",
      "| 167 | UKR       | Ukraine                                              | Europe   | Eastern Europe                  |                  84.535     | 84.5% (90% CI 76.3–92.6%)  |                       15.465   | 15.5% (90% CI 7.4–23.7%)     |                                16.2675     | 16.3% (90% CI 12.5–17.3%)              |                                 20.5508    | 20.6% (90% CI 9.6–32.2%)               |                                7.5565     | 7.6% (90% CI 3.0–12.4%)               |\n",
      "| 168 | URY       | Uruguay                                              | Americas | Latin America and the Caribbean |                  42.6503    | 42.7% (90% CI 30.3–52.7%)  |                       57.2655  | 57.3% (90% CI 47.2–69.6%)    |                                35.7152     | 35.7% (90% CI 25.3–42.9%)              |                                 25.747     | 25.7% (90% CI 5.1–36.4%)               |                               17.7463     | 17.7% (90% CI 7.0–31.3%)              |\n",
      "| 169 | USA       | United States of America                             | Americas | Northern America                |                  64.3042    | 64.3% (90% CI 48.7–78.9%)  |                       35.6731  | 35.7% (90% CI 21.0–51.3%)    |                                46.7159     | 46.7% (90% CI 33.9–51.3%)              |                                 38.043     | 38.0% (90% CI 17.0–61.9%)              |                               23.8958     | 23.9% (90% CI 10.0–37.0%)             |\n",
      "| 170 | UZB       | Uzbekistan                                           | Asia     | Central Asia                    |                  70.6193    | 70.6% (90% CI 57.2–81.1%)  |                       29.3807  | 29.4% (90% CI 18.9–42.8%)    |                                16.0304     | 16.0% (90% CI 11.7–18.1%)              |                                 29.6992    | 29.7% (90% CI 10.3–42.9%)              |                                5.92095    | 5.9% (90% CI 1.7–11.9%)               |\n",
      "| 171 | VCT       | Saint Vincent and the Grenadines                     | Americas | Latin America and the Caribbean |                  55.815     | 55.8% (90% CI 24.2–81.3%)  |                       44.185   | 44.2% (90% CI 18.7–75.8%)    |                                38.3263     | 38.3% (90% CI 6.7–38.3%)               |                                 16.1757    | 16.2% (90% CI 0.0–59.9%)               |                               31.5836     | 31.6% (90% CI 0.0–38.3%)              |\n",
      "| 172 | VEN       | Venezuela, Bolivarian Republic of                    | Americas | Latin America and the Caribbean |                  51.9936    | 52.0% (90% CI 40.6–66.1%)  |                       47.9978  | 48.0% (90% CI 33.9–59.4%)    |                                14.3721     | 14.4% (90% CI 8.4–18.4%)               |                                 19.3662    | 19.4% (90% CI 7.7–35.2%)               |                                8.20644    | 8.2% (90% CI 2.8–13.1%)               |\n",
      "| 173 | VNM       | Viet Nam                                             | Asia     | South-eastern Asia              |                  91.3347    | 91.3% (90% CI 83.4–97.0%)  |                        8.66535 | 8.7% (90% CI 3.0–16.6%)      |                                40.418      | 40.4% (90% CI 36.5–41.1%)              |                                 35.578     | 35.6% (90% CI 19.4–51.7%)              |                               15.7335     | 15.7% (90% CI 5.1–26.7%)              |\n",
      "| 174 | VUT       | Vanuatu                                              | Oceania  | Melanesia                       |                  77.0393    | 77.0% (90% CI 62.2–94.8%)  |                       22.9607  | 23.0% (90% CI 5.2–37.8%)     |                                 4.73278    | 4.7% (90% CI 3.0–5.2%)                 |                                 20.6474    | 20.6% (90% CI 4.2–40.0%)               |                                2.29601    | 2.3% (90% CI 0.1–4.2%)                |\n",
      "| 175 | WSM       | Samoa                                                | Oceania  | Polynesia                       |                  31.4244    | 31.4% (90% CI 14.3–59.4%)  |                       68.5756  | 68.6% (90% CI 40.6–85.7%)    |                                15.6442     | 15.6% (90% CI 0.5–26.1%)               |                                  1.31253   | 1.3% (90% CI 0.6–40.4%)                |                               14.0529     | 14.1% (90% CI 0.0–21.0%)              |\n",
      "| 176 | YEM       | Yemen                                                | Asia     | Western Asia                    |                  52.5822    | 52.6% (90% CI 51.2–54.7%)  |                       47.4099  | 47.4% (90% CI 45.3–48.8%)    |                                 0.543741   | 0.5% (90% CI 0.3–1.0%)                 |                                  2.13069   | 2.1% (90% CI 0.8–4.1%)                 |                                0.353545   | 0.4% (90% CI 0.1–0.7%)                |\n",
      "| 177 | ZAF       | South Africa                                         | Africa   | Sub-Saharan Africa              |                  58.3176    | 58.3% (90% CI 37.5–80.6%)  |                       41.6567  | 41.7% (90% CI 19.4–62.5%)    |                                10.3255     | 10.3% (90% CI 7.9–10.9%)               |                                 39.0711    | 39.1% (90% CI 14.5–64.4%)              |                                4.89861    | 4.9% (90% CI 1.6–8.2%)                |\n",
      "| 178 | ZMB       | Zambia                                               | Africa   | Sub-Saharan Africa              |                  92.8565    | 92.9% (90% CI 90.4–96.2%)  |                        7.1435  | 7.1% (90% CI 3.8–9.6%)       |                                 5.61228    | 5.6% (90% CI 3.6–6.0%)                 |                                  3.81846   | 3.8% (90% CI 1.1–9.2%)                 |                                3.9455     | 3.9% (90% CI 1.9–5.1%)                |\n",
      "| 179 | ZWE       | Zimbabwe                                             | Africa   | Sub-Saharan Africa              |                  88.7198    | 88.7% (90% CI 85.4–94.4%)  |                       11.2802  | 11.3% (90% CI 5.6–14.6%)     |                                 4.45392    | 4.5% (90% CI 3.2–4.7%)                 |                                  6.59101   | 6.6% (90% CI 3.1–13.6%)                |                                2.86381    | 2.9% (90% CI 0.9–3.7%)                |\n"
     ]
    }
   ],
   "source": [
    "# Create formatted country results with 90% CIs\n",
    "\n",
    "# Read the CSV files\n",
    "median_df = country_medians\n",
    "p5_df = country_5th_percentiles\n",
    "p95_df = country_95th_percentiles\n",
    "output_file = '../results/country_CI_results.csv'\n",
    "\n",
    "# Function to rename columns (excluding identifiers)\n",
    "def rename_columns(df, suffix):\n",
    "    cols = df.columns.tolist()\n",
    "    rename_dict = {}\n",
    "    for col in cols:\n",
    "        if col not in ['ISOCODE', 'Entity', 'region', 'subregion']:\n",
    "            rename_dict[col] = f\"{col}_{suffix}\"\n",
    "    df = df.rename(columns=rename_dict)\n",
    "    return df\n",
    "\n",
    "# Rename columns in each DataFrame\n",
    "median_df = rename_columns(median_df, 'median')\n",
    "p5_df = rename_columns(p5_df, 'p5')\n",
    "p95_df = rename_columns(p95_df, 'p95')\n",
    "\n",
    "# Merge the DataFrames on common identifiers\n",
    "df = median_df.merge(p5_df, on=['ISOCODE', 'Entity', 'region', 'subregion'])\n",
    "df = df.merge(p95_df, on=['ISOCODE', 'Entity', 'region', 'subregion'])\n",
    "\n",
    "# List of metrics to calculate CI for\n",
    "metrics = [\n",
    "    'percent_with_water',\n",
    "    'percent_without_water',\n",
    "    'percent_piped_with_cycling_access',\n",
    "    'percent_piped_with_walking_access',\n",
    "    'percent_with_only_cycling_access',\n",
    "    # Add other metrics as needed\n",
    "]\n",
    "\n",
    "# Initialize a new DataFrame to store results\n",
    "results_df = pd.DataFrame()\n",
    "results_df['ISOCODE'] = df['ISOCODE']\n",
    "results_df['Entity'] = df['Entity']\n",
    "results_df['region'] = df['region']\n",
    "results_df['subregion'] = df['subregion']\n",
    "\n",
    "# For each metric, add median values and CI strings\n",
    "for metric in metrics:\n",
    "    median_col = metric + '_median'\n",
    "    p5_col = metric + '_p5'\n",
    "    p95_col = metric + '_p95'\n",
    "\n",
    "    # Extract the median, p5, and p95 values\n",
    "    median_values = df[median_col]\n",
    "    p5_values = df[p5_col]\n",
    "    p95_values = df[p95_col]\n",
    "\n",
    "    # Add the median values as numeric columns\n",
    "    results_df[metric + '_median'] = median_values\n",
    "\n",
    "    # Create the CI string\n",
    "    ci_strings = median_values.round(1).astype(str) + '% (90% CI ' + \\\n",
    "                 p5_values.round(1).astype(str) + '–' + \\\n",
    "                 p95_values.round(1).astype(str) + '%)'\n",
    "\n",
    "    # Add the formatted string to the results DataFrame\n",
    "    results_df[metric + '_CI'] = ci_strings\n",
    "\n",
    "print(\"COUNTRY-LEVEL STATS: \\n\")\n",
    "print(results_df.to_markdown())\n",
    "\n",
    "# Save the results to a CSV file\n",
    "if SAVE_CSVS:\n",
    "    results_df.to_csv(output_file, index=False)"
   ]
  },
  {
   "cell_type": "code",
   "execution_count": 7,
   "metadata": {},
   "outputs": [
    {
     "name": "stdout",
     "output_type": "stream",
     "text": [
      "China: 3.1e+08\n",
      "India: 2.6e+08\n",
      "China + India: 5.6e+08\n"
     ]
    }
   ],
   "source": [
    "# sum of people without water in china and india\n",
    "china = country_medians[country_medians[\"ISOCODE\"] == \"CHN\"]\n",
    "india = country_medians[country_medians[\"ISOCODE\"] == \"IND\"]\n",
    "china_people_without_water = china[\"country_pop_without_water\"].values[0]\n",
    "india_people_without_water = india[\"country_pop_without_water\"].values[0]\n",
    "\n",
    "print(f\"China: {china_people_without_water:.1e}\")\n",
    "print(f\"India: {india_people_without_water:.1e}\")\n",
    "print(f\"China + India: {china_people_without_water + india_people_without_water:.1e}\")"
   ]
  },
  {
   "cell_type": "code",
   "execution_count": 8,
   "metadata": {},
   "outputs": [
    {
     "name": "stdout",
     "output_type": "stream",
     "text": [
      "VENEZUELA COUNTRY-LEVEL STATS: \n",
      "\n",
      "|     | Entity                            | percent_without_water_CI   |\n",
      "|----:|:----------------------------------|:---------------------------|\n",
      "| 172 | Venezuela, Bolivarian Republic of | 48.0% (90% CI 33.9–59.4%)  |\n",
      "\n",
      "VENEZUELA DISTRICT-LEVEL STATS: \n",
      "\n",
      "|      | shapeName              |   percent_without_water |   district_pop_without_water |\n",
      "|-----:|:-----------------------|------------------------:|-----------------------------:|\n",
      "|  154 | Anzoátegui             |                 58.4681 |                  1.53507e+06 |\n",
      "|  158 | Apure                  |                 27.1031 |             128824           |\n",
      "|  163 | Aragua                 |                 45.0848 |             733023           |\n",
      "|  280 | Barinas                |                 27.9308 |             254730           |\n",
      "|  477 | Carabobo               |                 60.8522 |                  1.41067e+06 |\n",
      "|  586 | Cojedes                |                 44.8185 |             166255           |\n",
      "|  661 | Delta Amacuro          |                 31.5405 |             113513           |\n",
      "|  677 | Dependencias Federales |                 71.6667 |               1268.71        |\n",
      "|  694 | Distrito Capital       |                 85.1305 |             822447           |\n",
      "|  795 | Falcón                 |                 54.0339 |             492258           |\n",
      "|  926 | Guárico                |                 48.0358 |             382378           |\n",
      "| 1310 | La Guaira              |                 66.4678 |             429627           |\n",
      "| 1338 | Lara                   |                 51.0456 |             851397           |\n",
      "| 1554 | Miranda                |                 54.2187 |                  1.60272e+06 |\n",
      "| 1570 | Monagas                |                 41.9932 |             398054           |\n",
      "| 1621 | Mérida                 |                 23.5905 |             179482           |\n",
      "| 1793 | Nueva Esparta          |                 78.8484 |             289939           |\n",
      "| 1970 | Portuguesa             |                 34.8632 |             265998           |\n",
      "| 2569 | Trujillo               |                 19.9468 |             134885           |\n",
      "| 2590 | Táchira                |                 30.712  |             411651           |\n",
      "| 2773 | Yaracuy                |                 40.207  |             261008           |\n",
      "| 2823 | Zulia                  |                 45.6775 |                  1.78643e+06 |\n"
     ]
    }
   ],
   "source": [
    "# For Venezuela specifically:\n",
    "\n",
    "print(\"VENEZUELA COUNTRY-LEVEL STATS: \\n\")\n",
    "print(results_df[results_df[\"ISOCODE\"] == \"VEN\"][[\"Entity\", \"percent_without_water_CI\"]].to_markdown())\n",
    "\n",
    "print(\"\\nVENEZUELA DISTRICT-LEVEL STATS: \\n\")\n",
    "district_medians_venezuela = district_medians[district_medians[\"ISOCODE\"] == \"VEN\"]\n",
    "print(district_medians_venezuela[[\"shapeName\", \"percent_without_water\", \"district_pop_without_water\"]].to_markdown())"
   ]
  },
  {
   "cell_type": "code",
   "execution_count": 9,
   "metadata": {},
   "outputs": [
    {
     "name": "stdout",
     "output_type": "stream",
     "text": [
      "TOP 10 COUNTRIES: \n",
      "\n",
      "|     | Entity               |   percent_without_water |\n",
      "|----:|:---------------------|------------------------:|\n",
      "|  15 | Bahrain              |                100      |\n",
      "| 134 | Qatar                |                 99.9992 |\n",
      "|   3 | United Arab Emirates |                 99.9565 |\n",
      "|  65 | Greenland            |                 87.3923 |\n",
      "| 138 | Saudi Arabia         |                 84.0509 |\n",
      "| 123 | Oman                 |                 81.2435 |\n",
      "|  78 | Israel               |                 79.6931 |\n",
      "|  24 | Botswana             |                 73.9168 |\n",
      "| 115 | Namibia              |                 73.3393 |\n",
      "|  63 | Greece               |                 69.8065 |\n",
      "\n",
      "BOTTOM 10 COUNTRIES: \n",
      "\n",
      "|     | Entity                            |   percent_without_water |\n",
      "|----:|:----------------------------------|------------------------:|\n",
      "|  91 | Liberia                           |                 1.57851 |\n",
      "| 148 | South Sudan                       |                 2.29403 |\n",
      "| 129 | Papua New Guinea                  |                 2.83766 |\n",
      "|  25 | Central African Republic          |                 3.30735 |\n",
      "|  89 | Lao People's Democratic Republic  |                 4.28722 |\n",
      "| 109 | Mongolia                          |                 5.34762 |\n",
      "| 117 | Nigeria                           |                 5.41396 |\n",
      "| 119 | Netherlands, Kingdom of the       |                 5.94269 |\n",
      "| 156 | Chad                              |                 6.04255 |\n",
      "|  32 | Congo, Democratic Republic of the |                 6.65762 |\n"
     ]
    }
   ],
   "source": [
    "# Make a single table with the 10 countries with the highest and lowest percentage of people without access to water\n",
    "country_medians_simple = country_medians[[\"Entity\", \"percent_without_water\"]].copy()\n",
    "top10 = country_medians_simple.nlargest(10, \"percent_without_water\")\n",
    "bottom10 = country_medians_simple.nsmallest(10, \"percent_without_water\")\n",
    "top_bottom = pd.concat([top10, bottom10])\n",
    "\n",
    "print(\"TOP 10 COUNTRIES: \\n\")\n",
    "print(top10.to_markdown())\n",
    "print(\"\\nBOTTOM 10 COUNTRIES: \\n\")\n",
    "print(bottom10.to_markdown())\n",
    "\n",
    "if SAVE_CSVS == True:\n",
    "    top_bottom.to_csv(\"../results/top_bottom_10_countries.csv\", index=False)"
   ]
  },
  {
   "cell_type": "markdown",
   "metadata": {},
   "source": [
    "<div class=\"alert alert-info\">\n",
    "<h3> <b>3. Cycling vs walking breakdown of results </b> </h3>\n",
    "<a id=\"cycling_walking\"></a>\n",
    "Looks at how far people can walk or cycle in the model and who maintains water access by walking, cycling, or using unpiped sources.\n",
    "</div>"
   ]
  },
  {
   "cell_type": "code",
   "execution_count": 10,
   "metadata": {},
   "outputs": [
    {
     "name": "stdout",
     "output_type": "stream",
     "text": [
      "WALKING AND CYCLING DISTANCES: \n",
      "\n",
      "Global median walking distance: 3.6 (1.6–6.1) km\n",
      "Global median cycling distance: 11.8 (6.7–16.6) km\n",
      "Ratio between median cycling and walking distances: 3.3\n"
     ]
    }
   ],
   "source": [
    "med_walking = global_median[\"weighted_med_walking\"][0]\n",
    "p5_walking = global_5th_percentile[\"weighted_med_walking\"][0]\n",
    "p95_walking = global_95th_percentile[\"weighted_med_walking\"][0]\n",
    "\n",
    "med_cycling = global_median[\"weighted_med_cycling\"][0]\n",
    "p5_cycling = global_5th_percentile[\"weighted_med_cycling\"][0]\n",
    "p95_cycling = global_95th_percentile[\"weighted_med_cycling\"][0]\n",
    "\n",
    "print(\"WALKING AND CYCLING DISTANCES: \\n\")\n",
    "\n",
    "print(f\"Global median walking distance: {round(med_walking, 1)} ({round(p5_walking, 1)}–{round(p95_walking, 1)}) km\")\n",
    "print(f\"Global median cycling distance: {round(med_cycling, 1)} ({round(p5_cycling, 1)}–{round(p95_cycling, 1)}) km\")\n",
    "print(f\"Ratio between median cycling and walking distances: {round(med_cycling / med_walking, 1)}\")\n"
   ]
  },
  {
   "cell_type": "code",
   "execution_count": 11,
   "metadata": {},
   "outputs": [
    {
     "name": "stdout",
     "output_type": "stream",
     "text": [
      "REGIONAL BREAKDOWN OF WATER ACCESS: \n",
      "\n",
      "| region   |   no_access |   walk_access |   bike_access |   unpiped |   undefined |\n",
      "|:---------|------------:|--------------:|--------------:|----------:|------------:|\n",
      "| Oceania  |     18.8429 |       42.8433 |      13.7759  |  23.3222  |   1.21562   |\n",
      "| Asia     |     21.3054 |       27.8487 |      12.1954  |  38.4502  |   0.200281  |\n",
      "| Africa   |     22.7238 |       13.906  |       2.92992 |  60.3627  |   0.0775779 |\n",
      "| Global   |     24.3365 |       28.2397 |      12.008   |  35.5863  |  -0.170502  |\n",
      "| Europe   |     24.6317 |       47.359  |      19.0578  |   8.59991 |   0.351563  |\n",
      "| Americas |     39.1608 |       32.885  |      18.1051  |   9.69771 |   0.151408  |\n"
     ]
    }
   ],
   "source": [
    "medians = country_medians_all.copy()\n",
    "medians.loc[medians['Entity'] == 'Global', 'region'] = 'Global'\n",
    "\n",
    "# calculate unpiped pop by region\n",
    "medians[\"population_unpiped\"] = medians[\"country_pop_with_water\"] - medians[\"population_piped_with_access\"]\n",
    "\n",
    "# calculate global pop unpiped as sum of all rows except global\n",
    "medians.loc[medians['Entity'] == 'Global', 'population_unpiped'] = medians.loc[medians['Entity'] != 'Global', 'population_unpiped'].sum()\n",
    "\n",
    "# calculate region data\n",
    "medians_unpiped = medians.groupby('region').apply(lambda x: x['population_unpiped'].sum() / x['country_pop_raw'].sum() * 100)\n",
    "medians_no_access = medians.groupby('region').apply(lambda x: x['country_pop_without_water'].sum() / x['country_pop_raw'].sum() * 100)\n",
    "medians_walk_access = medians.groupby('region').apply(lambda x: x['population_piped_with_walking_access'].sum() / x['country_pop_raw'].sum() * 100)\n",
    "medians_bike_access = medians.groupby('region').apply(lambda x: x['population_piped_with_only_cycling_access'].sum() / x['country_pop_raw'].sum() * 100)\n",
    "medians_undefined = 100 - medians_no_access - medians_walk_access - medians_bike_access - medians_unpiped\n",
    "\n",
    "medians_regions = pd.DataFrame(\n",
    "    {\n",
    "        'region': medians_no_access.index,\n",
    "        'no_access': medians_no_access.values,\n",
    "        'walk_access': medians_walk_access.values,\n",
    "        'bike_access': medians_bike_access.values,\n",
    "        'unpiped': medians_unpiped.values,\n",
    "        'undefined': medians_undefined.values,\n",
    "    }\n",
    ")\n",
    "\n",
    "medians_regions.set_index('region', inplace=True)\n",
    "order = ['Oceania', 'Asia', 'Africa', 'Global', 'Europe', 'Americas']\n",
    "medians_regions = medians_regions.reindex(order)\n",
    "\n",
    "print(\"REGIONAL BREAKDOWN OF WATER ACCESS: \\n\")\n",
    "print(medians_regions.to_markdown())\n",
    "\n",
    "if SAVE_CSVS:\n",
    "    medians_regions.to_csv(\"../results/median_access_breakdown_regions.csv\", index=True)"
   ]
  },
  {
   "cell_type": "markdown",
   "metadata": {},
   "source": [
    "<div class=\"alert alert-info\">\n",
    "<h3> <b>4. Further investigations </b> </h3>\n",
    "<a id=\"further\"></a>\n",
    "These analyses are not explicitly included in the paper, but are useful additional context. \n",
    " <ul>\n",
    "  <li>Monte Carlo distributions of access types</li>\n",
    "  <li>Model-calculated piped water rates vs national data</li>\n",
    "  <li>Country populations without water rates vs piped water rates</li>\n",
    "</ul> \n",
    "\n",
    "</div>\n"
   ]
  },
  {
   "cell_type": "code",
   "execution_count": 12,
   "metadata": {},
   "outputs": [
    {
     "name": "stdout",
     "output_type": "stream",
     "text": [
      "GLOBAL in first dataframe: False\n"
     ]
    },
    {
     "data": {
      "image/png": "[encoded data removed]",
      "text/plain": [
       "<Figure size 1200x1200 with 4 Axes>"
      ]
     },
     "metadata": {},
     "output_type": "display_data"
    }
   ],
   "source": [
    "# Load pickled simulation results\n",
    "simulation_results = pd.read_pickle(\"../results/countries_simulation_results.pkl\")\n",
    "\n",
    "# Drop GLOBAL from simulation results\n",
    "simulation_results = [df[df.index != 'GLOBAL'] for df in simulation_results]\n",
    "\n",
    "# Check that GLOBAL is removed from the first dataframe\n",
    "print(\"GLOBAL in first dataframe:\", 'GLOBAL' in simulation_results[0].index)\n",
    "\n",
    "# Calculate country_pop_piped for each dataframe in simulation_results\n",
    "for df in simulation_results:\n",
    "    df[\"country_pop_unpiped\"] = df[\"country_pop_raw\"] * (100-df[\"NATPiped\"]) / 100\n",
    "\n",
    "# Calculate global mean percentage for each access type for each simulation using list comprehension\n",
    "global_access = [df[\"country_pop_with_water\"].sum() / df[\"country_pop_raw\"].sum() for df in simulation_results]\n",
    "global_cycling_access = [df[\"population_piped_with_cycling_access\"].sum() / df[\"country_pop_raw\"].sum() for df in simulation_results]\n",
    "global_walking_access = [df[\"population_piped_with_walking_access\"].sum() / df[\"country_pop_raw\"].sum() for df in simulation_results]\n",
    "global_only_cycling_access = [df[\"population_piped_with_only_cycling_access\"].sum() / df[\"country_pop_raw\"].sum() for df in simulation_results]\n",
    "\n",
    "# Create subplots\n",
    "fig, axs = plt.subplots(2, 2, figsize=(12, 12))\n",
    "\n",
    "# Flatten axs for easy iteration\n",
    "axs = axs.flatten()\n",
    "\n",
    "# List of access types\n",
    "access_types = [global_access, global_walking_access, global_cycling_access, global_only_cycling_access]\n",
    "\n",
    "# List of titles\n",
    "titles = [\"(a) Global Total Access\", \"(b) Global Walking Access\", \"(c) Global Cycling Access\", \"(d) Global Only Cycling Access\"]\n",
    "\n",
    "# Plot histogram of results for each access type\n",
    "for i, ax in enumerate(axs):\n",
    "    # Calculate median, 5th percentile, and 95th percentile\n",
    "    median = np.median(access_types[i])\n",
    "    p5 = np.percentile(access_types[i], 5)\n",
    "    p95 = np.percentile(access_types[i], 95)\n",
    "\n",
    "    ax.hist(access_types[i], bins=100, alpha=0.7, color='c')\n",
    "    ax.set_xlim(0, 1)\n",
    "\n",
    "    # Add vertical lines for median, 5th percentile, and 95th percentile\n",
    "    ax.axvline(median, color='red', linestyle='dashed', linewidth=1)\n",
    "    ax.axvline(p5, color='blue', linestyle='dashed', linewidth=1)\n",
    "    ax.axvline(p95, color='blue', linestyle='dashed', linewidth=1)\n",
    "\n",
    "    # Set title and labels\n",
    "    ax.set_title(f\"{titles[i]}\", fontsize=14)\n",
    "\n",
    "# Set common x-axis label\n",
    "fig.text(0.5, 0.0, 'Percentage Access', ha='center', va='center', fontsize=14)\n",
    "fig.text(0.0, 0.5, 'Frequency', ha='center', va='center', rotation='vertical', fontsize=14)\n",
    "\n",
    "plt.tight_layout()\n",
    "if SAVE_FIGURES == True:\n",
    "    plt.savefig(\"../results/mc_distribution_total_access.png\")\n",
    "plt.show()"
   ]
  },
  {
   "cell_type": "code",
   "execution_count": 13,
   "metadata": {},
   "outputs": [
    {
     "data": {
      "application/vnd.plotly.v1+json": {
       "config": {
        "plotlyServerURL": "https://plot.ly"
       },
       "data": [
        {
         "customdata": [
          [
           "Afghanistan"
          ],
          [
           "United Arab Emirates"
          ],
          [
           "Armenia"
          ],
          [
           "Azerbaijan"
          ],
          [
           "Bangladesh"
          ],
          [
           "Bahrain"
          ],
          [
           "Brunei Darussalam"
          ],
          [
           "Bhutan"
          ],
          [
           "China"
          ],
          [
           "Cyprus"
          ],
          [
           "Georgia"
          ],
          [
           "Indonesia"
          ],
          [
           "India"
          ],
          [
           "Iran, Islamic Republic of"
          ],
          [
           "Iraq"
          ],
          [
           "Israel"
          ],
          [
           "Jordan"
          ],
          [
           "Japan"
          ],
          [
           "Kazakhstan"
          ],
          [
           "Kyrgyzstan"
          ],
          [
           "Cambodia"
          ],
          [
           "Korea, Republic of"
          ],
          [
           "Lao People's Democratic Republic"
          ],
          [
           "Lebanon"
          ],
          [
           "Sri Lanka"
          ],
          [
           "Myanmar"
          ],
          [
           "Mongolia"
          ],
          [
           "Malaysia"
          ],
          [
           "Nepal"
          ],
          [
           "Oman"
          ],
          [
           "Pakistan"
          ],
          [
           "Philippines"
          ],
          [
           "Korea, Democratic People's Republic of"
          ],
          [
           "Qatar"
          ],
          [
           "Saudi Arabia"
          ],
          [
           "Singapore"
          ],
          [
           "Syrian Arab Republic"
          ],
          [
           "Thailand"
          ],
          [
           "Tajikistan"
          ],
          [
           "Turkmenistan"
          ],
          [
           "Timor-Leste"
          ],
          [
           "Türkiye"
          ],
          [
           "Taiwan, Province of China"
          ],
          [
           "Uzbekistan"
          ],
          [
           "Viet Nam"
          ],
          [
           "Yemen"
          ]
         ],
         "hovertemplate": "region=Asia<br>NATPiped=%{x}<br>piped_calculated=%{y}<br>Entity=%{customdata[0]}<extra></extra>",
         "legendgroup": "Asia",
         "marker": {
          "color": "#636efa",
          "symbol": "circle"
         },
         "mode": "markers",
         "name": "Asia",
         "orientation": "v",
         "showlegend": true,
         "type": "scatter",
         "x": [
          23.75,
          100,
          100,
          93.98,
          15,
          100,
          100,
          100,
          86.08,
          100,
          84.60000000000001,
          23.28,
          44.88,
          99.31,
          83.36,
          100,
          86.44000000000001,
          98,
          81.62,
          93.7,
          34.25,
          100,
          32.239999999999995,
          92.175,
          52.650000000000006,
          33.68,
          36.98,
          96.26,
          50.42,
          95.44,
          25.36,
          66.44,
          65.12,
          100,
          89.94999999999999,
          100,
          79.55000000000001,
          86.41999999999999,
          65.52,
          54.86,
          71.76,
          94.0175,
          94.91,
          72.5,
          52.45,
          56.870000000000005
         ],
         "xaxis": "x",
         "y": [
          21.625041461757775,
          100,
          99.99882688031317,
          90.30829056401359,
          27.40552640844991,
          100,
          99.99265732586453,
          99.99999999999999,
          82.61580662358377,
          100.00000000000003,
          78.13624295794929,
          20.961655884003925,
          47.65949322828601,
          97.27169206621517,
          75.38966437587939,
          100,
          82.91808818836864,
          89.2701911256457,
          63.82397537320143,
          92.04616134563645,
          33.58948831622366,
          100,
          19.695129809967952,
          91.29426353993841,
          70.11952495084873,
          26.711745329893496,
          17.08892909662759,
          90.28244837721037,
          51.07860049142541,
          85.6225936360553,
          26.380563872873935,
          69.80123643458668,
          52.95749642804125,
          99.99916151117996,
          84.66978715457044,
          100,
          74.41388176066087,
          83.6767855283169,
          65.1591440699474,
          29.891626652255585,
          67.03592278787858,
          88.48098551272209,
          93.15496143914712,
          64.77213697819309,
          60.04857287701918,
          49.92497430593313
         ],
         "yaxis": "y"
        },
        {
         "customdata": [
          [
           "Angola"
          ],
          [
           "Burundi"
          ],
          [
           "Benin"
          ],
          [
           "Burkina Faso"
          ],
          [
           "Botswana"
          ],
          [
           "Central African Republic"
          ],
          [
           "Côte d'Ivoire"
          ],
          [
           "Cameroon"
          ],
          [
           "Congo, Democratic Republic of the"
          ],
          [
           "Congo"
          ],
          [
           "Djibouti"
          ],
          [
           "Algeria"
          ],
          [
           "Egypt"
          ],
          [
           "Eritrea"
          ],
          [
           "Western Sahara"
          ],
          [
           "Ethiopia"
          ],
          [
           "Gabon"
          ],
          [
           "Ghana"
          ],
          [
           "Guinea"
          ],
          [
           "Gambia"
          ],
          [
           "Guinea-Bissau"
          ],
          [
           "Equatorial Guinea"
          ],
          [
           "Kenya"
          ],
          [
           "Liberia"
          ],
          [
           "Libya"
          ],
          [
           "Lesotho"
          ],
          [
           "Morocco"
          ],
          [
           "Madagascar"
          ],
          [
           "Mali"
          ],
          [
           "Mozambique"
          ],
          [
           "Mauritania"
          ],
          [
           "Mauritius"
          ],
          [
           "Malawi"
          ],
          [
           "Namibia"
          ],
          [
           "Niger"
          ],
          [
           "Nigeria"
          ],
          [
           "Rwanda"
          ],
          [
           "Sudan"
          ],
          [
           "Senegal"
          ],
          [
           "Sierra Leone"
          ],
          [
           "Somalia"
          ],
          [
           "South Sudan"
          ],
          [
           "Sao Tome and Principe"
          ],
          [
           "Eswatini"
          ],
          [
           "Chad"
          ],
          [
           "Togo"
          ],
          [
           "Tunisia"
          ],
          [
           "Tanzania, United Republic of"
          ],
          [
           "Uganda"
          ],
          [
           "South Africa"
          ],
          [
           "Zambia"
          ],
          [
           "Zimbabwe"
          ]
         ],
         "hovertemplate": "region=Africa<br>NATPiped=%{x}<br>piped_calculated=%{y}<br>Entity=%{customdata[0]}<extra></extra>",
         "legendgroup": "Africa",
         "marker": {
          "color": "#EF553B",
          "symbol": "circle"
         },
         "mode": "markers",
         "name": "Africa",
         "orientation": "v",
         "showlegend": true,
         "type": "scatter",
         "x": [
          42.68,
          38.54,
          39,
          31.76,
          91.4,
          13.33,
          48.61,
          41.78,
          35.73,
          55.2,
          83.72,
          71.25,
          99,
          51.92,
          77.54933333333332,
          44.19,
          88.24000000000001,
          57.01,
          22.82,
          79.32,
          47.75,
          40.72,
          33.02,
          5.3,
          77.08500000000001,
          72.1,
          79.65,
          36,
          52.2,
          41.66,
          61.24,
          100,
          20.42,
          83.66,
          41.54,
          12.24,
          45.92,
          59.6,
          77.28999999999999,
          20.92,
          49.32000000000001,
          4.470000000000001,
          96.88,
          62,
          16.6,
          30.680000000000003,
          93.3,
          40.95,
          23.14,
          90.32,
          34.44,
          26.92
         ],
         "xaxis": "x",
         "y": [
          27.077114025320455,
          69.3283534927803,
          34.32819305850498,
          22.174366170552794,
          78.78096795197919,
          5.364502023677781,
          33.37276624660432,
          23.012708935593785,
          15.731224859946796,
          17.312780763838255,
          58.851218622840584,
          64.6409259138542,
          98.99990826225661,
          41.23608307266116,
          51.44932744849886,
          42.86662229403446,
          47.158315564895496,
          44.82790564921689,
          12.918779311149224,
          72.5384145245886,
          34.74215961258041,
          24.082008076171874,
          42.15740689008945,
          1.7510507028301232,
          56.46498567356595,
          69.15473715082649,
          66.91584155650257,
          25.879987229347226,
          34.36538180762044,
          27.11693824450709,
          49.740193247730176,
          100.00000000000003,
          34.99668363108732,
          78.20382771335026,
          36.356197846422695,
          10.684681464212666,
          67.06862885304614,
          49.14258365991954,
          70.40662479020445,
          19.038052698219616,
          23.226600340431833,
          3.072570581340123,
          92.49743969811422,
          54.008352452165234,
          10.37971953371174,
          26.43767353648459,
          86.94724381338041,
          36.90699372256497,
          28.598541457593555,
          85.46653757009577,
          14.982004557634383,
          20.651911793319776
         ],
         "yaxis": "y"
        },
        {
         "customdata": [
          [
           "Albania"
          ],
          [
           "Austria"
          ],
          [
           "Belgium"
          ],
          [
           "Bulgaria"
          ],
          [
           "Bosnia and Herzegovina"
          ],
          [
           "Belarus"
          ],
          [
           "Switzerland"
          ],
          [
           "Czechia"
          ],
          [
           "Germany"
          ],
          [
           "Denmark"
          ],
          [
           "Spain"
          ],
          [
           "Estonia"
          ],
          [
           "Finland"
          ],
          [
           "France"
          ],
          [
           "United Kingdom of Great Britain and Northern Ireland"
          ],
          [
           "Greece"
          ],
          [
           "Croatia"
          ],
          [
           "Hungary"
          ],
          [
           "Ireland"
          ],
          [
           "Iceland"
          ],
          [
           "Italy"
          ],
          [
           "Liechtenstein"
          ],
          [
           "Lithuania"
          ],
          [
           "Luxembourg"
          ],
          [
           "Latvia"
          ],
          [
           "Moldova, Republic of"
          ],
          [
           "North Macedonia"
          ],
          [
           "Malta"
          ],
          [
           "Montenegro"
          ],
          [
           "Netherlands, Kingdom of the"
          ],
          [
           "Norway"
          ],
          [
           "Poland"
          ],
          [
           "Portugal"
          ],
          [
           "Romania"
          ],
          [
           "Russian Federation"
          ],
          [
           "San Marino"
          ],
          [
           "Serbia"
          ],
          [
           "Slovakia"
          ],
          [
           "Slovenia"
          ],
          [
           "Sweden"
          ],
          [
           "Ukraine"
          ]
         ],
         "hovertemplate": "region=Europe<br>NATPiped=%{x}<br>piped_calculated=%{y}<br>Entity=%{customdata[0]}<extra></extra>",
         "legendgroup": "Europe",
         "marker": {
          "color": "#00cc96",
          "symbol": "circle"
         },
         "mode": "markers",
         "name": "Europe",
         "orientation": "v",
         "showlegend": true,
         "type": "scatter",
         "x": [
          81.12,
          99.705,
          100,
          99.28,
          95.5,
          97.8,
          100,
          100,
          100,
          100,
          100,
          100,
          100,
          100,
          100,
          100,
          94.535,
          100,
          95.72,
          100,
          100,
          100,
          95.84,
          99.76,
          94.9,
          76.33,
          92.03,
          100,
          89.28,
          100,
          100,
          90.4,
          98.68,
          64.7,
          94,
          100,
          94.99,
          98.38,
          100,
          87.55999999999999,
          62.5
         ],
         "xaxis": "x",
         "y": [
          77.16923711072499,
          99.85744266636374,
          100,
          97.52704138170793,
          93.58947098709324,
          92.32555696796048,
          99.99999999999997,
          99.99993155246428,
          100,
          100,
          100,
          99.98397848477046,
          99.91517815183653,
          100,
          99.99974698470741,
          99.9997168564773,
          91.24259941632829,
          99.99999999999999,
          96.3296672004384,
          98.6575862976763,
          99.99857972904405,
          100.00000000000001,
          89.28985273356794,
          97.64740752045483,
          90.72586646911608,
          66.41818930122253,
          83.64296070305454,
          100.00000000000001,
          75.7370631129914,
          100,
          99.99999999999999,
          86.41922668520724,
          97.93281109544046,
          42.64510678769451,
          88.45908896398095,
          100,
          93.04266268346126,
          99.47284396766595,
          100.00000000000003,
          81.07868212691567,
          43.63792939872886
         ],
         "yaxis": "y"
        },
        {
         "customdata": [
          [
           "Argentina"
          ],
          [
           "Bahamas"
          ],
          [
           "Belize"
          ],
          [
           "Bolivia, Plurinational State of"
          ],
          [
           "Brazil"
          ],
          [
           "Canada"
          ],
          [
           "Chile"
          ],
          [
           "Colombia"
          ],
          [
           "Costa Rica"
          ],
          [
           "Cuba"
          ],
          [
           "Dominican Republic"
          ],
          [
           "Ecuador"
          ],
          [
           "Grenada"
          ],
          [
           "Greenland"
          ],
          [
           "Guatemala"
          ],
          [
           "Guyana"
          ],
          [
           "Honduras"
          ],
          [
           "Haiti"
          ],
          [
           "Jamaica"
          ],
          [
           "Saint Kitts and Nevis"
          ],
          [
           "Saint Lucia"
          ],
          [
           "Mexico"
          ],
          [
           "Nicaragua"
          ],
          [
           "Panama"
          ],
          [
           "Peru"
          ],
          [
           "Paraguay"
          ],
          [
           "El Salvador"
          ],
          [
           "Suriname"
          ],
          [
           "Trinidad and Tobago"
          ],
          [
           "Uruguay"
          ],
          [
           "United States of America"
          ],
          [
           "Saint Vincent and the Grenadines"
          ],
          [
           "Venezuela, Bolivarian Republic of"
          ]
         ],
         "hovertemplate": "region=Americas<br>NATPiped=%{x}<br>piped_calculated=%{y}<br>Entity=%{customdata[0]}<extra></extra>",
         "legendgroup": "Americas",
         "marker": {
          "color": "#ab63fa",
          "symbol": "circle"
         },
         "mode": "markers",
         "name": "Americas",
         "orientation": "v",
         "showlegend": true,
         "type": "scatter",
         "x": [
          98.56,
          91.76615384615386,
          86.82,
          67.15,
          98.8,
          100,
          100,
          88.7,
          100,
          80.1,
          80.28,
          91.25,
          87.71692307692308,
          100,
          77.72,
          70.13,
          92,
          18.69,
          83.83,
          87.28615384615384,
          96.38,
          98.48,
          69.58,
          93.42,
          91.85,
          100,
          93,
          80.5,
          89.18153846153847,
          100,
          99.15,
          93.68,
          90.44
         ],
         "xaxis": "x",
         "y": [
          87.10177884446391,
          88.98136444935906,
          79.17300626003967,
          29.785251092265277,
          94.80922682663164,
          99.87934137008884,
          99.97931137243754,
          65.67404068007471,
          100,
          63.68787803775797,
          73.1731471162942,
          81.29746854291496,
          91.10314680111377,
          99.91544360279576,
          72.35181665190999,
          73.33531937880822,
          87.26745571876546,
          20.281926489750692,
          75.3548554181956,
          88.20972919971291,
          96.37827319360642,
          96.15816373664128,
          43.48012721696358,
          86.22076055209122,
          85.32391925211738,
          99.96873605388322,
          87.69798247646543,
          73.45690375210172,
          86.95911602614717,
          99.91574926680815,
          97.76987055286365,
          91.9442638872888,
          76.07546804334068
         ],
         "yaxis": "y"
        },
        {
         "customdata": [
          [
           "Australia"
          ],
          [
           "Fiji"
          ],
          [
           "New Zealand"
          ],
          [
           "Palau"
          ],
          [
           "Papua New Guinea"
          ],
          [
           "Solomon Islands"
          ],
          [
           "Vanuatu"
          ],
          [
           "Samoa"
          ]
         ],
         "hovertemplate": "region=Oceania<br>NATPiped=%{x}<br>piped_calculated=%{y}<br>Entity=%{customdata[0]}<extra></extra>",
         "legendgroup": "Oceania",
         "marker": {
          "color": "#FFA15A",
          "symbol": "circle"
         },
         "mode": "markers",
         "name": "Oceania",
         "orientation": "v",
         "showlegend": true,
         "type": "scatter",
         "x": [
          98.18,
          89.18,
          100,
          85.58,
          16.02,
          46.58,
          49.88,
          88.25999999999999
         ],
         "xaxis": "x",
         "y": [
          95.29363572988005,
          86.85903156924519,
          99.92246437974144,
          29.000000000000007,
          12.726416020174863,
          48.07828782809647,
          45.7184480640727,
          86.99999999999999
         ],
         "yaxis": "y"
        }
       ],
       "layout": {
        "height": 800,
        "legend": {
         "title": {
          "text": "region"
         },
         "tracegroupgap": 0
        },
        "template": {
         "data": {
          "bar": [
           {
            "error_x": {
             "color": "#2a3f5f"
            },
            "error_y": {
             "color": "#2a3f5f"
            },
            "marker": {
             "line": {
              "color": "#E5ECF6",
              "width": 0.5
             },
             "pattern": {
              "fillmode": "overlay",
              "size": 10,
              "solidity": 0.2
             }
            },
            "type": "bar"
           }
          ],
          "barpolar": [
           {
            "marker": {
             "line": {
              "color": "#E5ECF6",
              "width": 0.5
             },
             "pattern": {
              "fillmode": "overlay",
              "size": 10,
              "solidity": 0.2
             }
            },
            "type": "barpolar"
           }
          ],
          "carpet": [
           {
            "aaxis": {
             "endlinecolor": "#2a3f5f",
             "gridcolor": "white",
             "linecolor": "white",
             "minorgridcolor": "white",
             "startlinecolor": "#2a3f5f"
            },
            "baxis": {
             "endlinecolor": "#2a3f5f",
             "gridcolor": "white",
             "linecolor": "white",
             "minorgridcolor": "white",
             "startlinecolor": "#2a3f5f"
            },
            "type": "carpet"
           }
          ],
          "choropleth": [
           {
            "colorbar": {
             "outlinewidth": 0,
             "ticks": ""
            },
            "type": "choropleth"
           }
          ],
          "contour": [
           {
            "colorbar": {
             "outlinewidth": 0,
             "ticks": ""
            },
            "colorscale": [
             [
              0,
              "#0d0887"
             ],
             [
              0.1111111111111111,
              "#46039f"
             ],
             [
              0.2222222222222222,
              "#7201a8"
             ],
             [
              0.3333333333333333,
              "#9c179e"
             ],
             [
              0.4444444444444444,
              "#bd3786"
             ],
             [
              0.5555555555555556,
              "#d8576b"
             ],
             [
              0.6666666666666666,
              "#ed7953"
             ],
             [
              0.7777777777777778,
              "#fb9f3a"
             ],
             [
              0.8888888888888888,
              "#fdca26"
             ],
             [
              1,
              "#f0f921"
             ]
            ],
            "type": "contour"
           }
          ],
          "contourcarpet": [
           {
            "colorbar": {
             "outlinewidth": 0,
             "ticks": ""
            },
            "type": "contourcarpet"
           }
          ],
          "heatmap": [
           {
            "colorbar": {
             "outlinewidth": 0,
             "ticks": ""
            },
            "colorscale": [
             [
              0,
              "#0d0887"
             ],
             [
              0.1111111111111111,
              "#46039f"
             ],
             [
              0.2222222222222222,
              "#7201a8"
             ],
             [
              0.3333333333333333,
              "#9c179e"
             ],
             [
              0.4444444444444444,
              "#bd3786"
             ],
             [
              0.5555555555555556,
              "#d8576b"
             ],
             [
              0.6666666666666666,
              "#ed7953"
             ],
             [
              0.7777777777777778,
              "#fb9f3a"
             ],
             [
              0.8888888888888888,
              "#fdca26"
             ],
             [
              1,
              "#f0f921"
             ]
            ],
            "type": "heatmap"
           }
          ],
          "heatmapgl": [
           {
            "colorbar": {
             "outlinewidth": 0,
             "ticks": ""
            },
            "colorscale": [
             [
              0,
              "#0d0887"
             ],
             [
              0.1111111111111111,
              "#46039f"
             ],
             [
              0.2222222222222222,
              "#7201a8"
             ],
             [
              0.3333333333333333,
              "#9c179e"
             ],
             [
              0.4444444444444444,
              "#bd3786"
             ],
             [
              0.5555555555555556,
              "#d8576b"
             ],
             [
              0.6666666666666666,
              "#ed7953"
             ],
             [
              0.7777777777777778,
              "#fb9f3a"
             ],
             [
              0.8888888888888888,
              "#fdca26"
             ],
             [
              1,
              "#f0f921"
             ]
            ],
            "type": "heatmapgl"
           }
          ],
          "histogram": [
           {
            "marker": {
             "pattern": {
              "fillmode": "overlay",
              "size": 10,
              "solidity": 0.2
             }
            },
            "type": "histogram"
           }
          ],
          "histogram2d": [
           {
            "colorbar": {
             "outlinewidth": 0,
             "ticks": ""
            },
            "colorscale": [
             [
              0,
              "#0d0887"
             ],
             [
              0.1111111111111111,
              "#46039f"
             ],
             [
              0.2222222222222222,
              "#7201a8"
             ],
             [
              0.3333333333333333,
              "#9c179e"
             ],
             [
              0.4444444444444444,
              "#bd3786"
             ],
             [
              0.5555555555555556,
              "#d8576b"
             ],
             [
              0.6666666666666666,
              "#ed7953"
             ],
             [
              0.7777777777777778,
              "#fb9f3a"
             ],
             [
              0.8888888888888888,
              "#fdca26"
             ],
             [
              1,
              "#f0f921"
             ]
            ],
            "type": "histogram2d"
           }
          ],
          "histogram2dcontour": [
           {
            "colorbar": {
             "outlinewidth": 0,
             "ticks": ""
            },
            "colorscale": [
             [
              0,
              "#0d0887"
             ],
             [
              0.1111111111111111,
              "#46039f"
             ],
             [
              0.2222222222222222,
              "#7201a8"
             ],
             [
              0.3333333333333333,
              "#9c179e"
             ],
             [
              0.4444444444444444,
              "#bd3786"
             ],
             [
              0.5555555555555556,
              "#d8576b"
             ],
             [
              0.6666666666666666,
              "#ed7953"
             ],
             [
              0.7777777777777778,
              "#fb9f3a"
             ],
             [
              0.8888888888888888,
              "#fdca26"
             ],
             [
              1,
              "#f0f921"
             ]
            ],
            "type": "histogram2dcontour"
           }
          ],
          "mesh3d": [
           {
            "colorbar": {
             "outlinewidth": 0,
             "ticks": ""
            },
            "type": "mesh3d"
           }
          ],
          "parcoords": [
           {
            "line": {
             "colorbar": {
              "outlinewidth": 0,
              "ticks": ""
             }
            },
            "type": "parcoords"
           }
          ],
          "pie": [
           {
            "automargin": true,
            "type": "pie"
           }
          ],
          "scatter": [
           {
            "fillpattern": {
             "fillmode": "overlay",
             "size": 10,
             "solidity": 0.2
            },
            "type": "scatter"
           }
          ],
          "scatter3d": [
           {
            "line": {
             "colorbar": {
              "outlinewidth": 0,
              "ticks": ""
             }
            },
            "marker": {
             "colorbar": {
              "outlinewidth": 0,
              "ticks": ""
             }
            },
            "type": "scatter3d"
           }
          ],
          "scattercarpet": [
           {
            "marker": {
             "colorbar": {
              "outlinewidth": 0,
              "ticks": ""
             }
            },
            "type": "scattercarpet"
           }
          ],
          "scattergeo": [
           {
            "marker": {
             "colorbar": {
              "outlinewidth": 0,
              "ticks": ""
             }
            },
            "type": "scattergeo"
           }
          ],
          "scattergl": [
           {
            "marker": {
             "colorbar": {
              "outlinewidth": 0,
              "ticks": ""
             }
            },
            "type": "scattergl"
           }
          ],
          "scattermapbox": [
           {
            "marker": {
             "colorbar": {
              "outlinewidth": 0,
              "ticks": ""
             }
            },
            "type": "scattermapbox"
           }
          ],
          "scatterpolar": [
           {
            "marker": {
             "colorbar": {
              "outlinewidth": 0,
              "ticks": ""
             }
            },
            "type": "scatterpolar"
           }
          ],
          "scatterpolargl": [
           {
            "marker": {
             "colorbar": {
              "outlinewidth": 0,
              "ticks": ""
             }
            },
            "type": "scatterpolargl"
           }
          ],
          "scatterternary": [
           {
            "marker": {
             "colorbar": {
              "outlinewidth": 0,
              "ticks": ""
             }
            },
            "type": "scatterternary"
           }
          ],
          "surface": [
           {
            "colorbar": {
             "outlinewidth": 0,
             "ticks": ""
            },
            "colorscale": [
             [
              0,
              "#0d0887"
             ],
             [
              0.1111111111111111,
              "#46039f"
             ],
             [
              0.2222222222222222,
              "#7201a8"
             ],
             [
              0.3333333333333333,
              "#9c179e"
             ],
             [
              0.4444444444444444,
              "#bd3786"
             ],
             [
              0.5555555555555556,
              "#d8576b"
             ],
             [
              0.6666666666666666,
              "#ed7953"
             ],
             [
              0.7777777777777778,
              "#fb9f3a"
             ],
             [
              0.8888888888888888,
              "#fdca26"
             ],
             [
              1,
              "#f0f921"
             ]
            ],
            "type": "surface"
           }
          ],
          "table": [
           {
            "cells": {
             "fill": {
              "color": "#EBF0F8"
             },
             "line": {
              "color": "white"
             }
            },
            "header": {
             "fill": {
              "color": "#C8D4E3"
             },
             "line": {
              "color": "white"
             }
            },
            "type": "table"
           }
          ]
         },
         "layout": {
          "annotationdefaults": {
           "arrowcolor": "#2a3f5f",
           "arrowhead": 0,
           "arrowwidth": 1
          },
          "autotypenumbers": "strict",
          "coloraxis": {
           "colorbar": {
            "outlinewidth": 0,
            "ticks": ""
           }
          },
          "colorscale": {
           "diverging": [
            [
             0,
             "#8e0152"
            ],
            [
             0.1,
             "#c51b7d"
            ],
            [
             0.2,
             "#de77ae"
            ],
            [
             0.3,
             "#f1b6da"
            ],
            [
             0.4,
             "#fde0ef"
            ],
            [
             0.5,
             "#f7f7f7"
            ],
            [
             0.6,
             "#e6f5d0"
            ],
            [
             0.7,
             "#b8e186"
            ],
            [
             0.8,
             "#7fbc41"
            ],
            [
             0.9,
             "#4d9221"
            ],
            [
             1,
             "#276419"
            ]
           ],
           "sequential": [
            [
             0,
             "#0d0887"
            ],
            [
             0.1111111111111111,
             "#46039f"
            ],
            [
             0.2222222222222222,
             "#7201a8"
            ],
            [
             0.3333333333333333,
             "#9c179e"
            ],
            [
             0.4444444444444444,
             "#bd3786"
            ],
            [
             0.5555555555555556,
             "#d8576b"
            ],
            [
             0.6666666666666666,
             "#ed7953"
            ],
            [
             0.7777777777777778,
             "#fb9f3a"
            ],
            [
             0.8888888888888888,
             "#fdca26"
            ],
            [
             1,
             "#f0f921"
            ]
           ],
           "sequentialminus": [
            [
             0,
             "#0d0887"
            ],
            [
             0.1111111111111111,
             "#46039f"
            ],
            [
             0.2222222222222222,
             "#7201a8"
            ],
            [
             0.3333333333333333,
             "#9c179e"
            ],
            [
             0.4444444444444444,
             "#bd3786"
            ],
            [
             0.5555555555555556,
             "#d8576b"
            ],
            [
             0.6666666666666666,
             "#ed7953"
            ],
            [
             0.7777777777777778,
             "#fb9f3a"
            ],
            [
             0.8888888888888888,
             "#fdca26"
            ],
            [
             1,
             "#f0f921"
            ]
           ]
          },
          "colorway": [
           "#636efa",
           "#EF553B",
           "#00cc96",
           "#ab63fa",
           "#FFA15A",
           "#19d3f3",
           "#FF6692",
           "#B6E880",
           "#FF97FF",
           "#FECB52"
          ],
          "font": {
           "color": "#2a3f5f"
          },
          "geo": {
           "bgcolor": "white",
           "lakecolor": "white",
           "landcolor": "#E5ECF6",
           "showlakes": true,
           "showland": true,
           "subunitcolor": "white"
          },
          "hoverlabel": {
           "align": "left"
          },
          "hovermode": "closest",
          "mapbox": {
           "style": "light"
          },
          "paper_bgcolor": "white",
          "plot_bgcolor": "#E5ECF6",
          "polar": {
           "angularaxis": {
            "gridcolor": "white",
            "linecolor": "white",
            "ticks": ""
           },
           "bgcolor": "#E5ECF6",
           "radialaxis": {
            "gridcolor": "white",
            "linecolor": "white",
            "ticks": ""
           }
          },
          "scene": {
           "xaxis": {
            "backgroundcolor": "#E5ECF6",
            "gridcolor": "white",
            "gridwidth": 2,
            "linecolor": "white",
            "showbackground": true,
            "ticks": "",
            "zerolinecolor": "white"
           },
           "yaxis": {
            "backgroundcolor": "#E5ECF6",
            "gridcolor": "white",
            "gridwidth": 2,
            "linecolor": "white",
            "showbackground": true,
            "ticks": "",
            "zerolinecolor": "white"
           },
           "zaxis": {
            "backgroundcolor": "#E5ECF6",
            "gridcolor": "white",
            "gridwidth": 2,
            "linecolor": "white",
            "showbackground": true,
            "ticks": "",
            "zerolinecolor": "white"
           }
          },
          "shapedefaults": {
           "line": {
            "color": "#2a3f5f"
           }
          },
          "ternary": {
           "aaxis": {
            "gridcolor": "white",
            "linecolor": "white",
            "ticks": ""
           },
           "baxis": {
            "gridcolor": "white",
            "linecolor": "white",
            "ticks": ""
           },
           "bgcolor": "#E5ECF6",
           "caxis": {
            "gridcolor": "white",
            "linecolor": "white",
            "ticks": ""
           }
          },
          "title": {
           "x": 0.05
          },
          "xaxis": {
           "automargin": true,
           "gridcolor": "white",
           "linecolor": "white",
           "ticks": "",
           "title": {
            "standoff": 15
           },
           "zerolinecolor": "white",
           "zerolinewidth": 2
          },
          "yaxis": {
           "automargin": true,
           "gridcolor": "white",
           "linecolor": "white",
           "ticks": "",
           "title": {
            "standoff": 15
           },
           "zerolinecolor": "white",
           "zerolinewidth": 2
          }
         }
        },
        "title": {
         "text": "Relationship between model-calculated piped water rates and national data on piped water rates"
        },
        "width": 1200,
        "xaxis": {
         "anchor": "y",
         "domain": [
          0,
          1
         ],
         "range": [
          0,
          105
         ],
         "title": {
          "text": "NATPiped"
         }
        },
        "yaxis": {
         "anchor": "x",
         "domain": [
          0,
          1
         ],
         "range": [
          0,
          105
         ],
         "title": {
          "text": "piped_calculated"
         }
        }
       }
      }
     },
     "metadata": {},
     "output_type": "display_data"
    }
   ],
   "source": [
    "country_medians[\"percent_piped_with_access\"] = country_medians[\"population_piped_with_access\"] / country_medians[\"country_pop_raw\"] * 100\n",
    "country_medians[\"piped_calculated\"] = country_medians[\"percent_without_water\"] + country_medians[\"percent_piped_with_access\"]\n",
    "country_5th_percentiles[\"percent_piped_with_access\"] = country_5th_percentiles[\"population_piped_with_access\"] / country_5th_percentiles[\"country_pop_raw\"] * 100\n",
    "country_5th_percentiles[\"piped_calculated\"] = country_5th_percentiles[\"percent_without_water\"] + country_5th_percentiles[\"percent_piped_with_access\"]\n",
    "country_95th_percentiles[\"percent_piped_with_access\"] = country_95th_percentiles[\"population_piped_with_access\"] / country_95th_percentiles[\"country_pop_raw\"] * 100\n",
    "country_95th_percentiles[\"piped_calculated\"] = country_95th_percentiles[\"percent_without_water\"] + country_95th_percentiles[\"percent_piped_with_access\"]\n",
    "\n",
    "fig = px.scatter(\n",
    "    country_medians, x=\"NATPiped\", y=\"piped_calculated\", \n",
    "    labels={'x':'NATPiped', 'y':'Piped Calculated'}, \n",
    "    title=\"Relationship between model-calculated piped water rates and national data on piped water rates\",\n",
    "    # size=\"bubble_size\",\n",
    "    color=\"region\",\n",
    "    hover_data=['Entity']\n",
    ").update_layout(\n",
    "    width=1200,\n",
    "    height=800,\n",
    ").update_xaxes(\n",
    "    range=[0, 105]\n",
    ").update_yaxes(\n",
    "    range=[0, 105]\n",
    ")\n",
    "\n",
    "fig.show()"
   ]
  },
  {
   "cell_type": "code",
   "execution_count": 14,
   "metadata": {},
   "outputs": [
    {
     "name": "stdout",
     "output_type": "stream",
     "text": [
      "Spearman's rank correlation between national piped data and calculated piped rates in the model: 0.9687 (p-value: 1.2767e-109)\n",
      "Pearson's correlation between national piped data and calculated piped rates in the model: 0.9441 (p-value: 1.0102e-87)\n"
     ]
    }
   ],
   "source": [
    "# Calculate Spearman's and Pearson's correlations\n",
    "correlation_spearman, p_value_spearman = spearmanr(country_medians[\"NATPiped\"], country_medians[\"piped_calculated\"])\n",
    "correlation_pearson, p_value_pearson = pearsonr(country_medians[\"NATPiped\"], country_medians[\"piped_calculated\"])\n",
    "\n",
    "print(f\"Spearman's rank correlation between national piped data and calculated piped rates in the model: {correlation_spearman:.4f} (p-value: {p_value_spearman:.4e})\")\n",
    "print(f\"Pearson's correlation between national piped data and calculated piped rates in the model: {correlation_pearson:.4f} (p-value: {p_value_pearson:.4e})\")\n"
   ]
  },
  {
   "cell_type": "code",
   "execution_count": 15,
   "metadata": {},
   "outputs": [
    {
     "data": {
      "application/vnd.plotly.v1+json": {
       "config": {
        "plotlyServerURL": "https://plot.ly"
       },
       "data": [
        {
         "hovertemplate": "<b>%{hovertext}</b><br><br>region=Asia<br>piped_calculated=%{x}<br>percent_without_water=%{y}<br>bubble_size=%{marker.size}<extra></extra>",
         "hovertext": [
          "Afghanistan",
          "United Arab Emirates",
          "Armenia",
          "Azerbaijan",
          "Bangladesh",
          "Bahrain",
          "Brunei Darussalam",
          "Bhutan",
          "China",
          "Cyprus",
          "Georgia",
          "Indonesia",
          "India",
          "Iran, Islamic Republic of",
          "Iraq",
          "Israel",
          "Jordan",
          "Japan",
          "Kazakhstan",
          "Kyrgyzstan",
          "Cambodia",
          "Korea, Republic of",
          "Lao People's Democratic Republic",
          "Lebanon",
          "Sri Lanka",
          "Myanmar",
          "Mongolia",
          "Malaysia",
          "Nepal",
          "Oman",
          "Pakistan",
          "Philippines",
          "Korea, Democratic People's Republic of",
          "Qatar",
          "Saudi Arabia",
          "Singapore",
          "Syrian Arab Republic",
          "Thailand",
          "Tajikistan",
          "Turkmenistan",
          "Timor-Leste",
          "Türkiye",
          "Taiwan, Province of China",
          "Uzbekistan",
          "Viet Nam",
          "Yemen"
         ],
         "legendgroup": "Asia",
         "marker": {
          "color": "#636efa",
          "size": [
           6311.531351423361,
           3160.8674442310926,
           1722.8255860649388,
           3197.3964408562165,
           12895.871199729005,
           1322.2310690647078,
           664.4787430761048,
           883.1194709664146,
           38002.843340992265,
           1102.5370742065772,
           1994.9368411055023,
           16624.13269918163,
           37328.394460517586,
           9221.10405537211,
           6417.113915149083,
           2964.7556391716334,
           3204.531479015302,
           11227.23456600066,
           4358.320548101069,
           2574.5576319049455,
           4116.606126410444,
           7162.763712422741,
           2716.4973771384357,
           2601.759212532935,
           4636.518737156144,
           7403.108401205537,
           1824.6320176956228,
           5725.049781442953,
           5447.469137131481,
           2285.4706298703554,
           15006.662820227555,
           10537.879767771125,
           5087.931308498573,
           1711.8773320539062,
           5944.80277216999,
           2428.3088765640996,
           4275.009239756097,
           8363.662116561141,
           3122.438950564126,
           2473.4455724757718,
           1159.2562270697535,
           9221.86185105806,
           4884.15888357453,
           5825.44118500908,
           9908.018419441902,
           5521.832938436294
          ],
          "sizemode": "area",
          "sizeref": 95.00710835248066,
          "symbol": "circle"
         },
         "mode": "markers",
         "name": "Asia",
         "orientation": "v",
         "showlegend": true,
         "type": "scatter",
         "x": [
          21.625041461757775,
          100,
          99.99882688031317,
          90.30829056401359,
          27.40552640844991,
          100,
          99.99265732586453,
          99.99999999999999,
          82.61580662358377,
          100.00000000000003,
          78.13624295794929,
          20.961655884003925,
          47.65949322828601,
          97.27169206621517,
          75.38966437587939,
          100,
          82.91808818836864,
          89.2701911256457,
          63.82397537320143,
          92.04616134563645,
          33.58948831622366,
          100,
          19.695129809967952,
          91.29426353993841,
          70.11952495084873,
          26.711745329893496,
          17.08892909662759,
          90.28244837721037,
          51.07860049142541,
          85.6225936360553,
          26.380563872873935,
          69.80123643458668,
          52.95749642804125,
          99.99916151117996,
          84.66978715457044,
          100,
          74.41388176066087,
          83.6767855283169,
          65.1591440699474,
          29.891626652255585,
          67.03592278787858,
          88.48098551272209,
          93.15496143914712,
          64.77213697819309,
          60.04857287701918,
          49.92497430593313
         ],
         "xaxis": "x",
         "y": [
          12.303645552826058,
          99.95651778151928,
          52.88585798184751,
          35.53252842064255,
          10.872021599440316,
          100,
          30.288855585254783,
          63.40365460110154,
          21.37181178248176,
          46.0834927328723,
          33.10162378540032,
          9.971782023218957,
          18.304025918027214,
          62.84915785104742,
          35.043182187167304,
          79.69306666414076,
          61.42760074962325,
          15.980067629718036,
          35.102019403421174,
          28.684097854549712,
          8.081283191771568,
          46.09648508495171,
          4.2872184618649225,
          55.15243483008159,
          25.751680346467275,
          7.884356249546281,
          5.3476159039915325,
          32.42866388108146,
          13.573752468966164,
          81.24348160801414,
          8.952689240000725,
          23.18722417909928,
          20.705547673849605,
          99.99916151117996,
          84.05085255935889,
          61.29922765813821,
          52.83123621945848,
          21.2008072544774,
          26.43742718965444,
          18.20926050738899,
          65.75372054617728,
          43.70491428063363,
          20.341902972861817,
          29.380674772529908,
          8.665347923518137,
          47.4099436293682
         ],
         "yaxis": "y"
        },
        {
         "hovertemplate": "<b>%{hovertext}</b><br><br>region=Africa<br>piped_calculated=%{x}<br>percent_without_water=%{y}<br>bubble_size=%{marker.size}<extra></extra>",
         "hovertext": [
          "Angola",
          "Burundi",
          "Benin",
          "Burkina Faso",
          "Botswana",
          "Central African Republic",
          "Côte d'Ivoire",
          "Cameroon",
          "Congo, Democratic Republic of the",
          "Congo",
          "Djibouti",
          "Algeria",
          "Egypt",
          "Eritrea",
          "Western Sahara",
          "Ethiopia",
          "Gabon",
          "Ghana",
          "Guinea",
          "Gambia",
          "Guinea-Bissau",
          "Equatorial Guinea",
          "Kenya",
          "Liberia",
          "Libya",
          "Lesotho",
          "Morocco",
          "Madagascar",
          "Mali",
          "Mozambique",
          "Mauritania",
          "Mauritius",
          "Malawi",
          "Namibia",
          "Niger",
          "Nigeria",
          "Rwanda",
          "Sudan",
          "Senegal",
          "Sierra Leone",
          "Somalia",
          "South Sudan",
          "Sao Tome and Principe",
          "Eswatini",
          "Chad",
          "Togo",
          "Tunisia",
          "Tanzania, United Republic of",
          "Uganda",
          "South Africa",
          "Zambia",
          "Zimbabwe"
         ],
         "legendgroup": "Africa",
         "marker": {
          "color": "#EF553B",
          "size": [
           5825.256303374127,
           3500.775485517459,
           3528.601847757834,
           4636.496198639658,
           1548.3022960649512,
           2218.104370853635,
           5201.310315680079,
           5217.687418770887,
           9611.346731858132,
           2378.4484438389663,
           1001.0978973107475,
           6679.567800389484,
           10210.696695133001,
           1897.7518278215412,
           782.222474747434,
           10857.081836294687,
           1509.5790804061905,
           5633.127728003334,
           3673.8585982587842,
           1577.0025364595963,
           1419.6795413050088,
           1204.1141972421055,
           7415.234453474819,
           2276.007029866121,
           2637.9040922671925,
           1469.376398340466,
           6111.0381278470195,
           5331.728894083044,
           4566.806761841363,
           5671.247217323541,
           2185.202507778169,
           1128.4626710706916,
           4432.570473213032,
           1608.5223032336232,
           5013.063933364505,
           14539.625304663115,
           3643.69551417239,
           6701.443948881465,
           4146.8431366522655,
           2853.3038744585197,
           4044.687874237022,
           3373.62964772365,
           472.6140074098524,
           1082.759899516047,
           4112.783120953499,
           2911.742090227086,
           3454.817506034147,
           7842.09398056412,
           6864.658258063543,
           7748.677048374128,
           4349.788155761152,
           3884.8643476960683
          ],
          "sizemode": "area",
          "sizeref": 95.00710835248066,
          "symbol": "circle"
         },
         "mode": "markers",
         "name": "Africa",
         "orientation": "v",
         "showlegend": true,
         "type": "scatter",
         "x": [
          27.077114025320455,
          69.3283534927803,
          34.32819305850498,
          22.174366170552794,
          78.78096795197919,
          5.364502023677781,
          33.37276624660432,
          23.012708935593785,
          15.731224859946796,
          17.312780763838255,
          58.851218622840584,
          64.6409259138542,
          98.99990826225661,
          41.23608307266116,
          51.44932744849886,
          42.86662229403446,
          47.158315564895496,
          44.82790564921689,
          12.918779311149224,
          72.5384145245886,
          34.74215961258041,
          24.082008076171874,
          42.15740689008945,
          1.7510507028301232,
          56.46498567356595,
          69.15473715082649,
          66.91584155650257,
          25.879987229347226,
          34.36538180762044,
          27.11693824450709,
          49.740193247730176,
          100.00000000000003,
          34.99668363108732,
          78.20382771335026,
          36.356197846422695,
          10.684681464212666,
          67.06862885304614,
          49.14258365991954,
          70.40662479020445,
          19.038052698219616,
          23.226600340431833,
          3.072570581340123,
          92.49743969811422,
          54.008352452165234,
          10.37971953371174,
          26.43767353648459,
          86.94724381338041,
          36.90699372256497,
          28.598541457593555,
          85.46653757009577,
          14.982004557634383,
          20.651911793319776
         ],
         "xaxis": "x",
         "y": [
          18.25864411370845,
          37.72362358711492,
          16.564068644985454,
          12.148838156127848,
          73.91679613865206,
          3.307354255137165,
          13.467291653162809,
          12.411274730554808,
          6.657615223889792,
          9.554908851305424,
          58.46628910244628,
          47.5130945920758,
          41.51967719626725,
          37.20482854225587,
          51.38757740252069,
          33.25422129839083,
          32.97185756476211,
          24.20190750418672,
          6.674471309764484,
          33.12494646607835,
          15.145914190936733,
          9.841222878170312,
          22.617173006344387,
          1.578507539224121,
          56.44574516286016,
          23.789196781795944,
          48.13898431481526,
          14.004714790206355,
          20.56542103277265,
          10.90682768194772,
          46.92203025531556,
          9.943419657358882,
          11.563004493931013,
          73.33932482677565,
          32.3672248362204,
          5.413962070788036,
          39.96542094212859,
          42.03424807856681,
          60.59860408719723,
          12.397175555661876,
          22.34534562364403,
          2.2940347643487105,
          63.80444663599252,
          15.322685617637005,
          6.04255199029505,
          13.173595099371752,
          62.3100884961227,
          13.289243294957409,
          11.286346732616302,
          41.65672012031403,
          7.1435036740231626,
          11.28015786639314
         ],
         "yaxis": "y"
        },
        {
         "hovertemplate": "<b>%{hovertext}</b><br><br>region=Europe<br>piped_calculated=%{x}<br>percent_without_water=%{y}<br>bubble_size=%{marker.size}<extra></extra>",
         "hovertext": [
          "Albania",
          "Austria",
          "Belgium",
          "Bulgaria",
          "Bosnia and Herzegovina",
          "Belarus",
          "Switzerland",
          "Czechia",
          "Germany",
          "Denmark",
          "Spain",
          "Estonia",
          "Finland",
          "France",
          "United Kingdom of Great Britain and Northern Ireland",
          "Greece",
          "Croatia",
          "Hungary",
          "Ireland",
          "Iceland",
          "Italy",
          "Liechtenstein",
          "Lithuania",
          "Luxembourg",
          "Latvia",
          "Moldova, Republic of",
          "North Macedonia",
          "Malta",
          "Montenegro",
          "Netherlands, Kingdom of the",
          "Norway",
          "Poland",
          "Portugal",
          "Romania",
          "Russian Federation",
          "San Marino",
          "Serbia",
          "Slovakia",
          "Slovenia",
          "Sweden",
          "Ukraine"
         ],
         "legendgroup": "Europe",
         "marker": {
          "color": "#00cc96",
          "size": [
           1694.9731561296182,
           3007.1700982817715,
           3410.6207646116272,
           2626.1483202591585,
           1806.504636030586,
           3072.9248282377494,
           2952.2015513849997,
           3274.836331788201,
           9159.720028472486,
           2411.0790115630803,
           6837.046950255643,
           1151.1681024072898,
           2355.495913815178,
           8088.644942139567,
           8258.759834260833,
           3220.364420372328,
           2020.3111146553642,
           3103.8946502740714,
           2232.2419223731104,
           585.9692824713596,
           7769.650635646367,
           195.5862980885931,
           1640.0798761036,
           796.7521571982093,
           1366.3579326077045,
           2005.9972582234502,
           1443.1427510818187,
           665.4246764285195,
           792.4966876902389,
           4144.043194755576,
           2337.868473631483,
           6147.926479716556,
           3188.7180809848965,
           4373.5308390361215,
           12079.404869446176,
           184.41800345953212,
           2949.1603889920943,
           2336.8196336046135,
           1441.7777221194674,
           3187.50043137252,
           6592.937281667406
          ],
          "sizemode": "area",
          "sizeref": 95.00710835248066,
          "symbol": "circle"
         },
         "mode": "markers",
         "name": "Europe",
         "orientation": "v",
         "showlegend": true,
         "type": "scatter",
         "x": [
          77.16923711072499,
          99.85744266636374,
          100,
          97.52704138170793,
          93.58947098709324,
          92.32555696796048,
          99.99999999999997,
          99.99993155246428,
          100,
          100,
          100,
          99.98397848477046,
          99.91517815183653,
          100,
          99.99974698470741,
          99.9997168564773,
          91.24259941632829,
          99.99999999999999,
          96.3296672004384,
          98.6575862976763,
          99.99857972904405,
          100.00000000000001,
          89.28985273356794,
          97.64740752045483,
          90.72586646911608,
          66.41818930122253,
          83.64296070305454,
          100.00000000000001,
          75.7370631129914,
          100,
          99.99999999999999,
          86.41922668520724,
          97.93281109544046,
          42.64510678769451,
          88.45908896398095,
          100,
          93.04266268346126,
          99.47284396766595,
          100.00000000000003,
          81.07868212691567,
          43.63792939872886
         ],
         "xaxis": "x",
         "y": [
          17.254704342222052,
          10.16471164819482,
          19.02724999000341,
          38.82505129610387,
          36.09256891913315,
          23.269462939256368,
          13.26514580243432,
          32.28171852990796,
          17.68399689879128,
          9.37425267722858,
          31.750238292876706,
          40.03940717789008,
          11.460553896911795,
          18.72878417733244,
          22.514224037939613,
          69.80646750439166,
          34.92370214668606,
          32.76149680356875,
          24.49425591726994,
          40.59186993701637,
          22.71646985455775,
          17.376179372494263,
          18.88461930542772,
          21.48639380405087,
          29.21526028976138,
          22.331555507335032,
          25.967357941580996,
          57.73891024634108,
          41.67024001290452,
          5.942685781482417,
          14.205616464767235,
          17.11090978904449,
          44.6614748964252,
          16.258198547501962,
          36.1366542750923,
          34.37,
          36.125777166698896,
          21.423755751500043,
          12.769973213170411,
          7.561110768370497,
          15.464995742739836
         ],
         "yaxis": "y"
        },
        {
         "hovertemplate": "<b>%{hovertext}</b><br><br>region=Americas<br>piped_calculated=%{x}<br>percent_without_water=%{y}<br>bubble_size=%{marker.size}<extra></extra>",
         "hovertext": [
          "Argentina",
          "Bahamas",
          "Belize",
          "Bolivia, Plurinational State of",
          "Brazil",
          "Canada",
          "Chile",
          "Colombia",
          "Costa Rica",
          "Cuba",
          "Dominican Republic",
          "Ecuador",
          "Grenada",
          "Greenland",
          "Guatemala",
          "Guyana",
          "Honduras",
          "Haiti",
          "Jamaica",
          "Saint Kitts and Nevis",
          "Saint Lucia",
          "Mexico",
          "Nicaragua",
          "Panama",
          "Peru",
          "Paraguay",
          "El Salvador",
          "Suriname",
          "Trinidad and Tobago",
          "Uruguay",
          "United States of America",
          "Saint Vincent and the Grenadines",
          "Venezuela, Bolivarian Republic of"
         ],
         "legendgroup": "Americas",
         "marker": {
          "color": "#ab63fa",
          "size": [
           6753.2083486295605,
           630.0111110131313,
           636.329317256403,
           3439.903487018204,
           14628.514654605231,
           6169.920015689021,
           4383.19084686031,
           7160.01682958916,
           2266.947948233483,
           3364.1489265488826,
           3309.6395574140697,
           4229.476799794509,
           336.17703669346605,
           238.47012391492567,
           4271.9864231994,
           889.004499426184,
           3172.222249464876,
           3397.3052556401226,
           1724.3729295022001,
           231.40008643040738,
           429.41937543618127,
           11413.24756587712,
           2588.895324264772,
           2093.2231128095254,
           5775.760988822166,
           2686.9389646957,
           2553.1353273964933,
           769.284082767868,
           1184.6408738516495,
           1866.856180855933,
           18245.96048444696,
           333.5700825913499,
           5357.699786288888
          ],
          "sizemode": "area",
          "sizeref": 95.00710835248066,
          "symbol": "circle"
         },
         "mode": "markers",
         "name": "Americas",
         "orientation": "v",
         "showlegend": true,
         "type": "scatter",
         "x": [
          87.10177884446391,
          88.98136444935906,
          79.17300626003967,
          29.785251092265277,
          94.80922682663164,
          99.87934137008884,
          99.97931137243754,
          65.67404068007471,
          100,
          63.68787803775797,
          73.1731471162942,
          81.29746854291496,
          91.10314680111377,
          99.91544360279576,
          72.35181665190999,
          73.33531937880822,
          87.26745571876546,
          20.281926489750692,
          75.3548554181956,
          88.20972919971291,
          96.37827319360642,
          96.15816373664128,
          43.48012721696358,
          86.22076055209122,
          85.32391925211738,
          99.96873605388322,
          87.69798247646543,
          73.45690375210172,
          86.95911602614717,
          99.91574926680815,
          97.76987055286365,
          91.9442638872888,
          76.07546804334068
         ],
         "xaxis": "x",
         "y": [
          37.03102321721735,
          45.34761966704666,
          11.33072447489404,
          17.138205332881554,
          42.251650937134,
          23.84459764236817,
          39.64947954969103,
          30.82229391602872,
          24.97759541910077,
          26.28353271999112,
          40.43918839419084,
          29.79857042962941,
          59.24013653008172,
          87.39230126814485,
          36.18484152268632,
          8.024228679056382,
          36.44704417174216,
          10.758760559698908,
          35.68226448535323,
          64.56684356579389,
          57.47694395796271,
          56.06513021830117,
          24.94873760990214,
          14.443320531964137,
          48.66028400984835,
          48.54206791747627,
          35.94049849788899,
          12.486391632430257,
          46.66143525797652,
          57.26547187768382,
          35.67307732130562,
          44.184957311232026,
          47.99776119042753
         ],
         "yaxis": "y"
        },
        {
         "hovertemplate": "<b>%{hovertext}</b><br><br>region=Oceania<br>piped_calculated=%{x}<br>percent_without_water=%{y}<br>bubble_size=%{marker.size}<extra></extra>",
         "hovertext": [
          "Australia",
          "Fiji",
          "New Zealand",
          "Palau",
          "Papua New Guinea",
          "Solomon Islands",
          "Vanuatu",
          "Samoa"
         ],
         "legendgroup": "Oceania",
         "marker": {
          "color": "#FFA15A",
          "size": [
           5078.210019288294,
           950.209976794603,
           2204.686372253432,
           134.8109787814034,
           3019.7690309028603,
           839.0440989602394,
           560.7708979610122,
           447.3745634253249
          ],
          "sizemode": "area",
          "sizeref": 95.00710835248066,
          "symbol": "circle"
         },
         "mode": "markers",
         "name": "Oceania",
         "orientation": "v",
         "showlegend": true,
         "type": "scatter",
         "x": [
          95.29363572988005,
          86.85903156924519,
          99.92246437974144,
          29.000000000000007,
          12.726416020174863,
          48.07828782809647,
          45.7184480640727,
          86.99999999999999
         ],
         "xaxis": "x",
         "y": [
          23.032305169929543,
          39.66635156086958,
          20.33248474617432,
          20.82532713802025,
          2.8376641431273604,
          19.677364649909634,
          22.96069265274537,
          68.57561247936283
         ],
         "yaxis": "y"
        }
       ],
       "layout": {
        "font": {
         "size": 25
        },
        "height": 800,
        "legend": {
         "itemsizing": "constant",
         "title": {
          "text": "Region"
         },
         "tracegroupgap": 0
        },
        "margin": {
         "t": 60
        },
        "template": {
         "data": {
          "bar": [
           {
            "error_x": {
             "color": "#2a3f5f"
            },
            "error_y": {
             "color": "#2a3f5f"
            },
            "marker": {
             "line": {
              "color": "#E5ECF6",
              "width": 0.5
             },
             "pattern": {
              "fillmode": "overlay",
              "size": 10,
              "solidity": 0.2
             }
            },
            "type": "bar"
           }
          ],
          "barpolar": [
           {
            "marker": {
             "line": {
              "color": "#E5ECF6",
              "width": 0.5
             },
             "pattern": {
              "fillmode": "overlay",
              "size": 10,
              "solidity": 0.2
             }
            },
            "type": "barpolar"
           }
          ],
          "carpet": [
           {
            "aaxis": {
             "endlinecolor": "#2a3f5f",
             "gridcolor": "white",
             "linecolor": "white",
             "minorgridcolor": "white",
             "startlinecolor": "#2a3f5f"
            },
            "baxis": {
             "endlinecolor": "#2a3f5f",
             "gridcolor": "white",
             "linecolor": "white",
             "minorgridcolor": "white",
             "startlinecolor": "#2a3f5f"
            },
            "type": "carpet"
           }
          ],
          "choropleth": [
           {
            "colorbar": {
             "outlinewidth": 0,
             "ticks": ""
            },
            "type": "choropleth"
           }
          ],
          "contour": [
           {
            "colorbar": {
             "outlinewidth": 0,
             "ticks": ""
            },
            "colorscale": [
             [
              0,
              "#0d0887"
             ],
             [
              0.1111111111111111,
              "#46039f"
             ],
             [
              0.2222222222222222,
              "#7201a8"
             ],
             [
              0.3333333333333333,
              "#9c179e"
             ],
             [
              0.4444444444444444,
              "#bd3786"
             ],
             [
              0.5555555555555556,
              "#d8576b"
             ],
             [
              0.6666666666666666,
              "#ed7953"
             ],
             [
              0.7777777777777778,
              "#fb9f3a"
             ],
             [
              0.8888888888888888,
              "#fdca26"
             ],
             [
              1,
              "#f0f921"
             ]
            ],
            "type": "contour"
           }
          ],
          "contourcarpet": [
           {
            "colorbar": {
             "outlinewidth": 0,
             "ticks": ""
            },
            "type": "contourcarpet"
           }
          ],
          "heatmap": [
           {
            "colorbar": {
             "outlinewidth": 0,
             "ticks": ""
            },
            "colorscale": [
             [
              0,
              "#0d0887"
             ],
             [
              0.1111111111111111,
              "#46039f"
             ],
             [
              0.2222222222222222,
              "#7201a8"
             ],
             [
              0.3333333333333333,
              "#9c179e"
             ],
             [
              0.4444444444444444,
              "#bd3786"
             ],
             [
              0.5555555555555556,
              "#d8576b"
             ],
             [
              0.6666666666666666,
              "#ed7953"
             ],
             [
              0.7777777777777778,
              "#fb9f3a"
             ],
             [
              0.8888888888888888,
              "#fdca26"
             ],
             [
              1,
              "#f0f921"
             ]
            ],
            "type": "heatmap"
           }
          ],
          "heatmapgl": [
           {
            "colorbar": {
             "outlinewidth": 0,
             "ticks": ""
            },
            "colorscale": [
             [
              0,
              "#0d0887"
             ],
             [
              0.1111111111111111,
              "#46039f"
             ],
             [
              0.2222222222222222,
              "#7201a8"
             ],
             [
              0.3333333333333333,
              "#9c179e"
             ],
             [
              0.4444444444444444,
              "#bd3786"
             ],
             [
              0.5555555555555556,
              "#d8576b"
             ],
             [
              0.6666666666666666,
              "#ed7953"
             ],
             [
              0.7777777777777778,
              "#fb9f3a"
             ],
             [
              0.8888888888888888,
              "#fdca26"
             ],
             [
              1,
              "#f0f921"
             ]
            ],
            "type": "heatmapgl"
           }
          ],
          "histogram": [
           {
            "marker": {
             "pattern": {
              "fillmode": "overlay",
              "size": 10,
              "solidity": 0.2
             }
            },
            "type": "histogram"
           }
          ],
          "histogram2d": [
           {
            "colorbar": {
             "outlinewidth": 0,
             "ticks": ""
            },
            "colorscale": [
             [
              0,
              "#0d0887"
             ],
             [
              0.1111111111111111,
              "#46039f"
             ],
             [
              0.2222222222222222,
              "#7201a8"
             ],
             [
              0.3333333333333333,
              "#9c179e"
             ],
             [
              0.4444444444444444,
              "#bd3786"
             ],
             [
              0.5555555555555556,
              "#d8576b"
             ],
             [
              0.6666666666666666,
              "#ed7953"
             ],
             [
              0.7777777777777778,
              "#fb9f3a"
             ],
             [
              0.8888888888888888,
              "#fdca26"
             ],
             [
              1,
              "#f0f921"
             ]
            ],
            "type": "histogram2d"
           }
          ],
          "histogram2dcontour": [
           {
            "colorbar": {
             "outlinewidth": 0,
             "ticks": ""
            },
            "colorscale": [
             [
              0,
              "#0d0887"
             ],
             [
              0.1111111111111111,
              "#46039f"
             ],
             [
              0.2222222222222222,
              "#7201a8"
             ],
             [
              0.3333333333333333,
              "#9c179e"
             ],
             [
              0.4444444444444444,
              "#bd3786"
             ],
             [
              0.5555555555555556,
              "#d8576b"
             ],
             [
              0.6666666666666666,
              "#ed7953"
             ],
             [
              0.7777777777777778,
              "#fb9f3a"
             ],
             [
              0.8888888888888888,
              "#fdca26"
             ],
             [
              1,
              "#f0f921"
             ]
            ],
            "type": "histogram2dcontour"
           }
          ],
          "mesh3d": [
           {
            "colorbar": {
             "outlinewidth": 0,
             "ticks": ""
            },
            "type": "mesh3d"
           }
          ],
          "parcoords": [
           {
            "line": {
             "colorbar": {
              "outlinewidth": 0,
              "ticks": ""
             }
            },
            "type": "parcoords"
           }
          ],
          "pie": [
           {
            "automargin": true,
            "type": "pie"
           }
          ],
          "scatter": [
           {
            "fillpattern": {
             "fillmode": "overlay",
             "size": 10,
             "solidity": 0.2
            },
            "type": "scatter"
           }
          ],
          "scatter3d": [
           {
            "line": {
             "colorbar": {
              "outlinewidth": 0,
              "ticks": ""
             }
            },
            "marker": {
             "colorbar": {
              "outlinewidth": 0,
              "ticks": ""
             }
            },
            "type": "scatter3d"
           }
          ],
          "scattercarpet": [
           {
            "marker": {
             "colorbar": {
              "outlinewidth": 0,
              "ticks": ""
             }
            },
            "type": "scattercarpet"
           }
          ],
          "scattergeo": [
           {
            "marker": {
             "colorbar": {
              "outlinewidth": 0,
              "ticks": ""
             }
            },
            "type": "scattergeo"
           }
          ],
          "scattergl": [
           {
            "marker": {
             "colorbar": {
              "outlinewidth": 0,
              "ticks": ""
             }
            },
            "type": "scattergl"
           }
          ],
          "scattermapbox": [
           {
            "marker": {
             "colorbar": {
              "outlinewidth": 0,
              "ticks": ""
             }
            },
            "type": "scattermapbox"
           }
          ],
          "scatterpolar": [
           {
            "marker": {
             "colorbar": {
              "outlinewidth": 0,
              "ticks": ""
             }
            },
            "type": "scatterpolar"
           }
          ],
          "scatterpolargl": [
           {
            "marker": {
             "colorbar": {
              "outlinewidth": 0,
              "ticks": ""
             }
            },
            "type": "scatterpolargl"
           }
          ],
          "scatterternary": [
           {
            "marker": {
             "colorbar": {
              "outlinewidth": 0,
              "ticks": ""
             }
            },
            "type": "scatterternary"
           }
          ],
          "surface": [
           {
            "colorbar": {
             "outlinewidth": 0,
             "ticks": ""
            },
            "colorscale": [
             [
              0,
              "#0d0887"
             ],
             [
              0.1111111111111111,
              "#46039f"
             ],
             [
              0.2222222222222222,
              "#7201a8"
             ],
             [
              0.3333333333333333,
              "#9c179e"
             ],
             [
              0.4444444444444444,
              "#bd3786"
             ],
             [
              0.5555555555555556,
              "#d8576b"
             ],
             [
              0.6666666666666666,
              "#ed7953"
             ],
             [
              0.7777777777777778,
              "#fb9f3a"
             ],
             [
              0.8888888888888888,
              "#fdca26"
             ],
             [
              1,
              "#f0f921"
             ]
            ],
            "type": "surface"
           }
          ],
          "table": [
           {
            "cells": {
             "fill": {
              "color": "#EBF0F8"
             },
             "line": {
              "color": "white"
             }
            },
            "header": {
             "fill": {
              "color": "#C8D4E3"
             },
             "line": {
              "color": "white"
             }
            },
            "type": "table"
           }
          ]
         },
         "layout": {
          "annotationdefaults": {
           "arrowcolor": "#2a3f5f",
           "arrowhead": 0,
           "arrowwidth": 1
          },
          "autotypenumbers": "strict",
          "coloraxis": {
           "colorbar": {
            "outlinewidth": 0,
            "ticks": ""
           }
          },
          "colorscale": {
           "diverging": [
            [
             0,
             "#8e0152"
            ],
            [
             0.1,
             "#c51b7d"
            ],
            [
             0.2,
             "#de77ae"
            ],
            [
             0.3,
             "#f1b6da"
            ],
            [
             0.4,
             "#fde0ef"
            ],
            [
             0.5,
             "#f7f7f7"
            ],
            [
             0.6,
             "#e6f5d0"
            ],
            [
             0.7,
             "#b8e186"
            ],
            [
             0.8,
             "#7fbc41"
            ],
            [
             0.9,
             "#4d9221"
            ],
            [
             1,
             "#276419"
            ]
           ],
           "sequential": [
            [
             0,
             "#0d0887"
            ],
            [
             0.1111111111111111,
             "#46039f"
            ],
            [
             0.2222222222222222,
             "#7201a8"
            ],
            [
             0.3333333333333333,
             "#9c179e"
            ],
            [
             0.4444444444444444,
             "#bd3786"
            ],
            [
             0.5555555555555556,
             "#d8576b"
            ],
            [
             0.6666666666666666,
             "#ed7953"
            ],
            [
             0.7777777777777778,
             "#fb9f3a"
            ],
            [
             0.8888888888888888,
             "#fdca26"
            ],
            [
             1,
             "#f0f921"
            ]
           ],
           "sequentialminus": [
            [
             0,
             "#0d0887"
            ],
            [
             0.1111111111111111,
             "#46039f"
            ],
            [
             0.2222222222222222,
             "#7201a8"
            ],
            [
             0.3333333333333333,
             "#9c179e"
            ],
            [
             0.4444444444444444,
             "#bd3786"
            ],
            [
             0.5555555555555556,
             "#d8576b"
            ],
            [
             0.6666666666666666,
             "#ed7953"
            ],
            [
             0.7777777777777778,
             "#fb9f3a"
            ],
            [
             0.8888888888888888,
             "#fdca26"
            ],
            [
             1,
             "#f0f921"
            ]
           ]
          },
          "colorway": [
           "#636efa",
           "#EF553B",
           "#00cc96",
           "#ab63fa",
           "#FFA15A",
           "#19d3f3",
           "#FF6692",
           "#B6E880",
           "#FF97FF",
           "#FECB52"
          ],
          "font": {
           "color": "#2a3f5f"
          },
          "geo": {
           "bgcolor": "white",
           "lakecolor": "white",
           "landcolor": "#E5ECF6",
           "showlakes": true,
           "showland": true,
           "subunitcolor": "white"
          },
          "hoverlabel": {
           "align": "left"
          },
          "hovermode": "closest",
          "mapbox": {
           "style": "light"
          },
          "paper_bgcolor": "white",
          "plot_bgcolor": "#E5ECF6",
          "polar": {
           "angularaxis": {
            "gridcolor": "white",
            "linecolor": "white",
            "ticks": ""
           },
           "bgcolor": "#E5ECF6",
           "radialaxis": {
            "gridcolor": "white",
            "linecolor": "white",
            "ticks": ""
           }
          },
          "scene": {
           "xaxis": {
            "backgroundcolor": "#E5ECF6",
            "gridcolor": "white",
            "gridwidth": 2,
            "linecolor": "white",
            "showbackground": true,
            "ticks": "",
            "zerolinecolor": "white"
           },
           "yaxis": {
            "backgroundcolor": "#E5ECF6",
            "gridcolor": "white",
            "gridwidth": 2,
            "linecolor": "white",
            "showbackground": true,
            "ticks": "",
            "zerolinecolor": "white"
           },
           "zaxis": {
            "backgroundcolor": "#E5ECF6",
            "gridcolor": "white",
            "gridwidth": 2,
            "linecolor": "white",
            "showbackground": true,
            "ticks": "",
            "zerolinecolor": "white"
           }
          },
          "shapedefaults": {
           "line": {
            "color": "#2a3f5f"
           }
          },
          "ternary": {
           "aaxis": {
            "gridcolor": "white",
            "linecolor": "white",
            "ticks": ""
           },
           "baxis": {
            "gridcolor": "white",
            "linecolor": "white",
            "ticks": ""
           },
           "bgcolor": "#E5ECF6",
           "caxis": {
            "gridcolor": "white",
            "linecolor": "white",
            "ticks": ""
           }
          },
          "title": {
           "x": 0.05
          },
          "xaxis": {
           "automargin": true,
           "gridcolor": "white",
           "linecolor": "white",
           "ticks": "",
           "title": {
            "standoff": 15
           },
           "zerolinecolor": "white",
           "zerolinewidth": 2
          },
          "yaxis": {
           "automargin": true,
           "gridcolor": "white",
           "linecolor": "white",
           "ticks": "",
           "title": {
            "standoff": 15
           },
           "zerolinecolor": "white",
           "zerolinewidth": 2
          }
         }
        },
        "width": 1200,
        "xaxis": {
         "anchor": "y",
         "domain": [
          0,
          1
         ],
         "range": [
          0,
          105
         ],
         "title": {
          "text": "Country piped water access (%)"
         }
        },
        "yaxis": {
         "anchor": "x",
         "domain": [
          0,
          1
         ],
         "range": [
          0,
          105
         ],
         "title": {
          "text": "Country population without access to water (%)"
         }
        }
       }
      }
     },
     "metadata": {},
     "output_type": "display_data"
    }
   ],
   "source": [
    "# create bubble size column with square root transformation for improved visuals\n",
    "country_medians[\"bubble_size\"] = country_medians[\"country_pop_raw\"] **0.5\n",
    "\n",
    "px.scatter(\n",
    "    country_medians, \n",
    "    y=\"percent_without_water\", \n",
    "    # x=\"NATPiped\", \n",
    "    x=\"piped_calculated\", \n",
    "    size=\"bubble_size\", \n",
    "    color=\"region\", \n",
    "    hover_name=\"Entity\", \n",
    "    # title=\"Access to Water vs. Piped Water vs. Population\",\n",
    ").update_layout(\n",
    "    yaxis_title=\"Country population without access to water (%)\",\n",
    "    xaxis_title=\"Country piped water access (%)\",\n",
    "    legend_title=\"Region\",\n",
    "    width=1200,\n",
    "    height=800,\n",
    "    font=dict(size=25),\n",
    "    # xaxis_tickangle=-45,\n",
    "    # yaxis=dict(tickfont=dict(size=2)),\n",
    "    # title=dict(font=dict(size=20)),\n",
    ").update_xaxes(range=[0, 105]).update_yaxes(range=[0, 105])"
   ]
  }
 ],
 "metadata": {
  "kernelspec": {
   "display_name": "water-access",
   "language": "python",
   "name": "python3"
  },
  "language_info": {
   "codemirror_mode": {
    "name": "ipython",
    "version": 3
   },
   "file_extension": ".py",
   "mimetype": "text/x-python",
   "name": "python",
   "nbconvert_exporter": "python",
   "pygments_lexer": "ipython3",
   "version": "3.9.18"
  }
 },
 "nbformat": 4,
 "nbformat_minor": 2
}
