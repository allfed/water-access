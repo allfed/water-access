{
 "cells": [
  {
   "cell_type": "markdown",
   "metadata": {},
   "source": [
    "## Key Results\n",
    "\n",
    "Uses results of simulations (country results and df_zones results) to generate key numerical findings"
   ]
  },
  {
   "cell_type": "code",
   "execution_count": 3,
   "metadata": {},
   "outputs": [],
   "source": [
    "import pathlib\n",
    "import pandas as pd\n",
    "import numpy as np\n",
    "import matplotlib.pyplot as plt\n",
    "import plotly.express as px\n",
    "import weightedstats as ws\n",
    "from tabulate import tabulate"
   ]
  },
  {
   "cell_type": "code",
   "execution_count": 3,
   "metadata": {},
   "outputs": [],
   "source": [
    "country_medians = pd.read_csv(\"../results/median_results.csv\")\n",
    "country_means = pd.read_csv(\"../results/mean_results.csv\")"
   ]
  },
  {
   "cell_type": "code",
   "execution_count": 4,
   "metadata": {},
   "outputs": [],
   "source": [
    "df_gis = pd.read_csv(\"../data/GIS/GIS_data_zones.csv\")"
   ]
  },
  {
   "cell_type": "code",
   "execution_count": 8,
   "metadata": {},
   "outputs": [],
   "source": [
    "# check if id col has any duplicates\n",
    "assert df_gis[\"id\"].duplicated().sum() == 0"
   ]
  },
  {
   "cell_type": "markdown",
   "metadata": {},
   "source": [
    "#### Data for Choropleths\n",
    "Export country level and district level results for visualisations in Datawrapper"
   ]
  },
  {
   "cell_type": "code",
   "execution_count": 4,
   "metadata": {},
   "outputs": [],
   "source": [
    "# Get ISOCODE and percent_without water and print without truncating\n",
    "# pd.set_option('display.max_rows', None)\n",
    "country_medians_simple = country_medians[[\"ISOCODE\", \"Entity\", \"percent_without_water\"]]\n",
    "country_medians_simple.to_csv(\"../results/country_medians.csv\", index=False)"
   ]
  },
  {
   "cell_type": "markdown",
   "metadata": {},
   "source": [
    "#### Key Median Results"
   ]
  },
  {
   "cell_type": "code",
   "execution_count": 5,
   "metadata": {},
   "outputs": [],
   "source": [
    "# Make a single table with the 10 countries with the highest and lowest percentage of people without access to water\n",
    "top10 = country_medians_simple.nlargest(10, \"percent_without_water\")\n",
    "bottom10 = country_medians_simple.nsmallest(10, \"percent_without_water\")\n",
    "top_bottom = pd.concat([top10, bottom10])\n",
    "top_bottom.to_csv(\"../results/top_bottom_10_countries.csv\", index=False)"
   ]
  },
  {
   "cell_type": "code",
   "execution_count": 13,
   "metadata": {},
   "outputs": [
    {
     "name": "stdout",
     "output_type": "stream",
     "text": [
      "Global median percentage without water: 0.3349761458238577\n",
      "Global median percentage with water: 0.6648919346754667\n",
      "Global median percentage piped with water: 0.35497538759528036\n"
     ]
    }
   ],
   "source": [
    "# Calculate global population without water\n",
    "global_median_percentage_without_water = country_medians[\"country_pop_without_water\"].sum() / country_medians[\"country_pop_raw\"].sum()\n",
    "global_median_percentage_with_water = country_medians[\"country_pop_with_water\"].sum() / country_medians[\"country_pop_raw\"].sum()\n",
    "global_median_percentage_piped_with_water = country_medians[\"population_piped_with_access\"].sum() / country_medians[\"country_pop_raw\"].sum()\n",
    "\n",
    "# Print values\n",
    "print(f\"Global median percentage without water: {global_median_percentage_without_water}\")\n",
    "print(f\"Global median percentage with water: {global_median_percentage_with_water}\")\n",
    "print(f\"Global median percentage piped with water: {global_median_percentage_piped_with_water}\")\n",
    "\n"
   ]
  },
  {
   "cell_type": "markdown",
   "metadata": {},
   "source": [
    "#### Key Mean Results (use to look at cycling vs walking breakdown)"
   ]
  },
  {
   "cell_type": "code",
   "execution_count": 1,
   "metadata": {},
   "outputs": [
    {
     "ename": "NameError",
     "evalue": "name 'country_means' is not defined",
     "output_type": "error",
     "traceback": [
      "\u001b[0;31m---------------------------------------------------------------------------\u001b[0m",
      "\u001b[0;31mNameError\u001b[0m                                 Traceback (most recent call last)",
      "Cell \u001b[0;32mIn[1], line 1\u001b[0m\n\u001b[0;32m----> 1\u001b[0m global_mean_percentage_piped_with_access \u001b[38;5;241m=\u001b[39m \u001b[43mcountry_means\u001b[49m[\u001b[38;5;124m\"\u001b[39m\u001b[38;5;124mpopulation_piped_with_access\u001b[39m\u001b[38;5;124m\"\u001b[39m]\u001b[38;5;241m.\u001b[39msum() \u001b[38;5;241m/\u001b[39m country_means[\u001b[38;5;124m\"\u001b[39m\u001b[38;5;124mcountry_pop_raw\u001b[39m\u001b[38;5;124m\"\u001b[39m]\u001b[38;5;241m.\u001b[39msum()\n\u001b[1;32m      2\u001b[0m global_mean_piped_percentage_with_cycling_access \u001b[38;5;241m=\u001b[39m country_means[\u001b[38;5;124m\"\u001b[39m\u001b[38;5;124mpopulation_piped_with_cycling_access\u001b[39m\u001b[38;5;124m\"\u001b[39m]\u001b[38;5;241m.\u001b[39msum() \u001b[38;5;241m/\u001b[39m country_means[\u001b[38;5;124m\"\u001b[39m\u001b[38;5;124mpopulation_piped_with_access\u001b[39m\u001b[38;5;124m\"\u001b[39m]\u001b[38;5;241m.\u001b[39msum()\n\u001b[1;32m      3\u001b[0m global_mean_piped_percentage_with_walking_access \u001b[38;5;241m=\u001b[39m country_means[\u001b[38;5;124m\"\u001b[39m\u001b[38;5;124mpopulation_piped_with_walking_access\u001b[39m\u001b[38;5;124m\"\u001b[39m]\u001b[38;5;241m.\u001b[39msum() \u001b[38;5;241m/\u001b[39m country_means[\u001b[38;5;124m\"\u001b[39m\u001b[38;5;124mpopulation_piped_with_access\u001b[39m\u001b[38;5;124m\"\u001b[39m]\u001b[38;5;241m.\u001b[39msum()\n",
      "\u001b[0;31mNameError\u001b[0m: name 'country_means' is not defined"
     ]
    }
   ],
   "source": [
    "# TODO update via Codium to add 5th and 95th percentiles\n",
    "global_mean_percentage_piped_with_access = country_means[\"population_piped_with_access\"].sum() / country_means[\"country_pop_raw\"].sum()\n",
    "global_mean_piped_percentage_with_cycling_access = country_means[\"population_piped_with_cycling_access\"].sum() / country_means[\"population_piped_with_access\"].sum()\n",
    "global_mean_piped_percentage_with_walking_access = country_means[\"population_piped_with_walking_access\"].sum() / country_means[\"population_piped_with_access\"].sum()\n",
    "global_mean_piped_percentage_with_only_cycling_access = (country_means[\"population_piped_with_access\"].sum() - country_means[\"population_piped_with_walking_access\"].sum()) / country_medians[\"population_piped_with_access\"].sum()\n",
    "\n",
    "\n",
    "# Print values\n",
    "print(f\"Global mean percentage piped with access: {global_mean_percentage_piped_with_access}\")\n",
    "print(f\"Global mean percentage piped with cycling access: {global_mean_piped_percentage_with_cycling_access}\")\n",
    "print(f\"Global mean percentage piped with walking access: {global_mean_piped_percentage_with_walking_access}\")\n",
    "print(f\"Global mean percentage piped with only cycling access: {global_mean_piped_percentage_with_only_cycling_access}\")"
   ]
  },
  {
   "cell_type": "code",
   "execution_count": 34,
   "metadata": {},
   "outputs": [
    {
     "data": {
      "text/html": [
       "<div>\n",
       "<style scoped>\n",
       "    .dataframe tbody tr th:only-of-type {\n",
       "        vertical-align: middle;\n",
       "    }\n",
       "\n",
       "    .dataframe tbody tr th {\n",
       "        vertical-align: top;\n",
       "    }\n",
       "\n",
       "    .dataframe thead th {\n",
       "        text-align: right;\n",
       "    }\n",
       "</style>\n",
       "<table border=\"1\" class=\"dataframe\">\n",
       "  <thead>\n",
       "    <tr style=\"text-align: right;\">\n",
       "      <th></th>\n",
       "      <th>Unnamed: 0</th>\n",
       "      <th>ISOCODE</th>\n",
       "      <th>Entity</th>\n",
       "      <th>country_pop_raw</th>\n",
       "      <th>country_pop_with_water</th>\n",
       "      <th>country_pop_without_water</th>\n",
       "      <th>population_piped_with_access</th>\n",
       "      <th>population_piped_with_cycling_access</th>\n",
       "      <th>population_piped_with_walking_access</th>\n",
       "      <th>Nat Piped</th>\n",
       "      <th>region</th>\n",
       "      <th>subregion</th>\n",
       "      <th>weighted_med</th>\n",
       "      <th>percent_with_water</th>\n",
       "      <th>percent_without_water</th>\n",
       "      <th>percentage_piped_with_walking_access</th>\n",
       "      <th>percentage_piped_with_cycling_access</th>\n",
       "      <th>population_piped_with_only_cycling_access</th>\n",
       "      <th>percentage_piped_with_only_cycling_access</th>\n",
       "    </tr>\n",
       "  </thead>\n",
       "  <tbody>\n",
       "    <tr>\n",
       "      <th>0</th>\n",
       "      <td>1</td>\n",
       "      <td>AFG</td>\n",
       "      <td>Afghanistan</td>\n",
       "      <td>39835428.0</td>\n",
       "      <td>2.706895e+07</td>\n",
       "      <td>1.276648e+07</td>\n",
       "      <td>2.890145e+06</td>\n",
       "      <td>182253.287604</td>\n",
       "      <td>2.810832e+06</td>\n",
       "      <td>22.0</td>\n",
       "      <td>Asia</td>\n",
       "      <td>Southern Asia</td>\n",
       "      <td>5.830952</td>\n",
       "      <td>67.951946</td>\n",
       "      <td>32.048054</td>\n",
       "      <td>0.972557</td>\n",
       "      <td>0.063060</td>\n",
       "      <td>79312.997105</td>\n",
       "      <td>0.027443</td>\n",
       "    </tr>\n",
       "    <tr>\n",
       "      <th>1</th>\n",
       "      <td>2</td>\n",
       "      <td>AGO</td>\n",
       "      <td>Angola</td>\n",
       "      <td>33933611.0</td>\n",
       "      <td>1.233082e+07</td>\n",
       "      <td>2.160279e+07</td>\n",
       "      <td>3.324783e+06</td>\n",
       "      <td>137218.035347</td>\n",
       "      <td>3.303394e+06</td>\n",
       "      <td>42.0</td>\n",
       "      <td>Africa</td>\n",
       "      <td>Middle Africa</td>\n",
       "      <td>4.123105</td>\n",
       "      <td>36.338071</td>\n",
       "      <td>63.661929</td>\n",
       "      <td>0.993567</td>\n",
       "      <td>0.041271</td>\n",
       "      <td>21389.610186</td>\n",
       "      <td>0.006433</td>\n",
       "    </tr>\n",
       "    <tr>\n",
       "      <th>2</th>\n",
       "      <td>4</td>\n",
       "      <td>ALB</td>\n",
       "      <td>Albania</td>\n",
       "      <td>2872934.0</td>\n",
       "      <td>2.284331e+06</td>\n",
       "      <td>5.886029e+05</td>\n",
       "      <td>1.704957e+06</td>\n",
       "      <td>34262.111983</td>\n",
       "      <td>1.698505e+06</td>\n",
       "      <td>81.0</td>\n",
       "      <td>Europe</td>\n",
       "      <td>Southern Europe</td>\n",
       "      <td>2.236068</td>\n",
       "      <td>79.512134</td>\n",
       "      <td>20.487866</td>\n",
       "      <td>0.996215</td>\n",
       "      <td>0.020096</td>\n",
       "      <td>6452.629846</td>\n",
       "      <td>0.003785</td>\n",
       "    </tr>\n",
       "    <tr>\n",
       "      <th>3</th>\n",
       "      <td>5</td>\n",
       "      <td>AND</td>\n",
       "      <td>Andorra</td>\n",
       "      <td>77354.0</td>\n",
       "      <td>3.266370e+04</td>\n",
       "      <td>4.469030e+04</td>\n",
       "      <td>3.266370e+04</td>\n",
       "      <td>0.000000</td>\n",
       "      <td>3.266370e+04</td>\n",
       "      <td>100.0</td>\n",
       "      <td>Europe</td>\n",
       "      <td>Southern Europe</td>\n",
       "      <td>4.123105</td>\n",
       "      <td>42.226254</td>\n",
       "      <td>57.773746</td>\n",
       "      <td>1.000000</td>\n",
       "      <td>0.000000</td>\n",
       "      <td>0.000000</td>\n",
       "      <td>0.000000</td>\n",
       "    </tr>\n",
       "    <tr>\n",
       "      <th>4</th>\n",
       "      <td>6</td>\n",
       "      <td>ARE</td>\n",
       "      <td>United Arab Emirates</td>\n",
       "      <td>9991083.0</td>\n",
       "      <td>0.000000e+00</td>\n",
       "      <td>9.991071e+06</td>\n",
       "      <td>0.000000e+00</td>\n",
       "      <td>0.000000</td>\n",
       "      <td>0.000000e+00</td>\n",
       "      <td>100.0</td>\n",
       "      <td>Asia</td>\n",
       "      <td>Western Asia</td>\n",
       "      <td>171.819703</td>\n",
       "      <td>0.000000</td>\n",
       "      <td>99.999876</td>\n",
       "      <td>NaN</td>\n",
       "      <td>NaN</td>\n",
       "      <td>0.000000</td>\n",
       "      <td>NaN</td>\n",
       "    </tr>\n",
       "  </tbody>\n",
       "</table>\n",
       "</div>"
      ],
      "text/plain": [
       "   Unnamed: 0 ISOCODE                Entity  country_pop_raw  \\\n",
       "0           1     AFG           Afghanistan       39835428.0   \n",
       "1           2     AGO                Angola       33933611.0   \n",
       "2           4     ALB               Albania        2872934.0   \n",
       "3           5     AND               Andorra          77354.0   \n",
       "4           6     ARE  United Arab Emirates        9991083.0   \n",
       "\n",
       "   country_pop_with_water  country_pop_without_water  \\\n",
       "0            2.706895e+07               1.276648e+07   \n",
       "1            1.233082e+07               2.160279e+07   \n",
       "2            2.284331e+06               5.886029e+05   \n",
       "3            3.266370e+04               4.469030e+04   \n",
       "4            0.000000e+00               9.991071e+06   \n",
       "\n",
       "   population_piped_with_access  population_piped_with_cycling_access  \\\n",
       "0                  2.890145e+06                         182253.287604   \n",
       "1                  3.324783e+06                         137218.035347   \n",
       "2                  1.704957e+06                          34262.111983   \n",
       "3                  3.266370e+04                              0.000000   \n",
       "4                  0.000000e+00                              0.000000   \n",
       "\n",
       "   population_piped_with_walking_access  Nat Piped  region        subregion  \\\n",
       "0                          2.810832e+06       22.0    Asia    Southern Asia   \n",
       "1                          3.303394e+06       42.0  Africa    Middle Africa   \n",
       "2                          1.698505e+06       81.0  Europe  Southern Europe   \n",
       "3                          3.266370e+04      100.0  Europe  Southern Europe   \n",
       "4                          0.000000e+00      100.0    Asia     Western Asia   \n",
       "\n",
       "   weighted_med  percent_with_water  percent_without_water  \\\n",
       "0      5.830952           67.951946              32.048054   \n",
       "1      4.123105           36.338071              63.661929   \n",
       "2      2.236068           79.512134              20.487866   \n",
       "3      4.123105           42.226254              57.773746   \n",
       "4    171.819703            0.000000              99.999876   \n",
       "\n",
       "   percentage_piped_with_walking_access  percentage_piped_with_cycling_access  \\\n",
       "0                              0.972557                              0.063060   \n",
       "1                              0.993567                              0.041271   \n",
       "2                              0.996215                              0.020096   \n",
       "3                              1.000000                              0.000000   \n",
       "4                                   NaN                                   NaN   \n",
       "\n",
       "   population_piped_with_only_cycling_access  \\\n",
       "0                               79312.997105   \n",
       "1                               21389.610186   \n",
       "2                                6452.629846   \n",
       "3                                   0.000000   \n",
       "4                                   0.000000   \n",
       "\n",
       "   percentage_piped_with_only_cycling_access  \n",
       "0                                   0.027443  \n",
       "1                                   0.006433  \n",
       "2                                   0.003785  \n",
       "3                                   0.000000  \n",
       "4                                        NaN  "
      ]
     },
     "execution_count": 34,
     "metadata": {},
     "output_type": "execute_result"
    }
   ],
   "source": [
    "country_medians.head()"
   ]
  },
  {
   "cell_type": "markdown",
   "metadata": {},
   "source": [
    "#### Most important countries for bicycles"
   ]
  },
  {
   "cell_type": "code",
   "execution_count": 39,
   "metadata": {},
   "outputs": [
    {
     "name": "stdout",
     "output_type": "stream",
     "text": [
      "+-----+--------------+---------------------------------------------+------------------------------------+----------------------+---------------------------------------------+\n",
      "|     | Entity       |   percentage_piped_with_only_cycling_access |   percentage_piped_of_total_access |   percent_with_water |   population_piped_with_only_cycling_access |\n",
      "|-----+--------------+---------------------------------------------+------------------------------------+----------------------+---------------------------------------------|\n",
      "|  71 | Hong Kong    |                                   1         |                        0.243235    |             18.7134  |                            343786           |\n",
      "|  93 | Kuwait       |                                   1         |                        0.00575724  |              7.95424 |                              1982.24        |\n",
      "| 117 | Montserrat   |                                   0.693501  |                        0.41164     |             43.4622  |                               618.008       |\n",
      "|  97 | Libya        |                                   0.342039  |                        0.000809194 |             29.0684  |                               559.845       |\n",
      "|  13 | Burkina Faso |                                   0.300319  |                        0.0687641   |             60.2247  |                            267362           |\n",
      "|   5 | Argentina    |                                   0.279457  |                        0.831084    |             48.887   |                                 5.17814e+06 |\n",
      "| 151 | Singapore    |                                   0.240431  |                        0.648717    |             43.2627  |                            397894           |\n",
      "|  91 | Cambodia     |                                   0.199222  |                        0.289017    |             80.8013  |                            788422           |\n",
      "|  83 | Israel       |                                   0.173027  |                        1           |             17.8076  |                            270830           |\n",
      "|  24 | Botswana     |                                   0.16921   |                        0.251636    |             23.4071  |                             23892.2         |\n",
      "| 157 | South Sudan  |                                   0.167249  |                        0.0124912   |             73.9784  |                             17590.1         |\n",
      "| 122 | Namibia      |                                   0.162298  |                        0.181534    |             21.405   |                             16317.1         |\n",
      "| 165 | Chad         |                                   0.162128  |                        0.0481029   |             51.2985  |                             67671.4         |\n",
      "|  41 | Denmark      |                                   0.160922  |                        1           |             63.7239  |                            596131           |\n",
      "| 187 | Zambia       |                                   0.146569  |                        0.109114    |             57.6184  |                            174350           |\n",
      "| 118 | Martinique   |                                   0.14073   |                        0.254443    |             33.3678  |                              4477.52        |\n",
      "|  62 | Gambia       |                                   0.140634  |                        0.695875    |             53.15    |                            129357           |\n",
      "| 110 | Mali         |                                   0.134947  |                        0.197582    |             60.1973  |                            334744           |\n",
      "| 148 | Saudi Arabia |                                   0.131741  |                        0.0469696   |             16.2161  |                             35461.5         |\n",
      "| 178 | Uruguay      |                                   0.131183  |                        1           |             32.278   |                            147573           |\n",
      "|  12 | Benin        |                                   0.128734  |                        0.283934    |             56.2146  |                            255838           |\n",
      "|  70 | Guyana       |                                   0.12687   |                        0.632257    |             82.8502  |                             52523.4         |\n",
      "| 127 | Netherlands  |                                   0.123933  |                        1           |             81.2622  |                                 1.72951e+06 |\n",
      "|  78 | India        |                                   0.121976  |                        0.359547    |             80.1212  |                                 4.89617e+07 |\n",
      "|  67 | Greenland    |                                   0.120273  |                        0.95818     |             34.6275  |                              2269.37        |\n",
      "| 150 | Senegal      |                                   0.119139  |                        0.475447    |             27.4523  |                            267406           |\n",
      "| 132 | Pakistan     |                                   0.108824  |                        0.207486    |             87.5257  |                                 4.4506e+06  |\n",
      "|  16 | Bahamas      |                                   0.105617  |                        0.646715    |             60.2072  |                             16322.7         |\n",
      "| 166 | Togo         |                                   0.0996567 |                        0.224737    |             60.6246  |                            115116           |\n",
      "| 172 | Tunisia      |                                   0.0959401 |                        0.564124    |             32.6824  |                            211124           |\n",
      "+-----+--------------+---------------------------------------------+------------------------------------+----------------------+---------------------------------------------+\n"
     ]
    }
   ],
   "source": [
    "# TODO Change to means so walking/cycling split makes sense\n",
    "# Calculate top 10 countries by lowest value for global_mean_piped_percentage_with_walking_access\n",
    "country_medians[\"percentage_piped_with_walking_access\"] = country_medians[\"population_piped_with_walking_access\"] / country_medians[\"population_piped_with_access\"]\n",
    "country_medians[\"percentage_piped_with_cycling_access\"] = country_medians[\"population_piped_with_cycling_access\"] / country_medians[\"population_piped_with_access\"]\n",
    "country_medians[\"percentage_piped_of_total_access\"] = country_medians[\"population_piped_with_access\"] / country_medians[\"country_pop_with_water\"]\n",
    "country_medians[\"population_piped_with_only_cycling_access\"] = country_medians[\"population_piped_with_access\"] - country_medians[\"population_piped_with_walking_access\"]\n",
    "country_medians[\"percentage_piped_with_only_cycling_access\"] = country_medians[\"population_piped_with_only_cycling_access\"] / country_medians[\"population_piped_with_access\"]\n",
    "\n",
    "top10_piped_with_walking = country_medians.nsmallest(50, \"percentage_piped_with_walking_access\")\n",
    "\n",
    "# print values\n",
    "# print(f\"Top 10 countries by lowest value for global_mean_piped_percentage_with_walking_access: {top10_piped_with_walking[['Entity', 'percentage_piped_with_walking_access', 'percentage_piped_with_cycling_access']]}\")\n",
    "# print(tabulate(top10_piped_with_walking[['Entity', 'percentage_piped_with_walking_access', 'percentage_piped_with_cycling_access', \"percent_with_water\", \"population_piped_with_only_cycling_access\"]], headers='keys', tablefmt='psql'))\n",
    "\n",
    "# OR rank by cycling\n",
    "bottom_piped_with_walking = country_medians.nlargest(30, \"percentage_piped_with_only_cycling_access\")\n",
    "print(tabulate(bottom_piped_with_walking[['Entity', 'percentage_piped_with_only_cycling_access', \"percentage_piped_of_total_access\", \"percent_with_water\", \"population_piped_with_only_cycling_access\"]], headers='keys', tablefmt='psql'))\n",
    "# print(tabulate(bottom_piped_with_walking, headers='keys', tablefmt='psql'))\n",
    "\n",
    "\n"
   ]
  }
 ],
 "metadata": {
  "kernelspec": {
   "display_name": "water-access",
   "language": "python",
   "name": "python3"
  },
  "language_info": {
   "codemirror_mode": {
    "name": "ipython",
    "version": 3
   },
   "file_extension": ".py",
   "mimetype": "text/x-python",
   "name": "python",
   "nbconvert_exporter": "python",
   "pygments_lexer": "ipython3",
   "version": "3.9.18"
  }
 },
 "nbformat": 4,
 "nbformat_minor": 2
}
