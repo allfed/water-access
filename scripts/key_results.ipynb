{
 "cells": [
  {
   "cell_type": "markdown",
   "metadata": {},
   "source": [
    "<div class=\"alert alert-info\">\n",
    "<h1> <b>Key Results</b> </h1>\n",
    "<br>\n",
    "Takes in results of Monte Carlo simulations and generates key results used in the paper. <br>\n",
    "Quotes are provided to give context for how results are used in the final publication\n",
    "</div>"
   ]
  },
  {
   "cell_type": "markdown",
   "metadata": {},
   "source": [
    "<div class=\"alert alert-info\">\n",
    "<b>Table of Contents</b> <br><br>\n",
    "1. <a href=\"#choropleths\">Data for Choropleths</a> <br>\n",
    "2. <a href=\"#overall\">Overall Access Numbers</a> <br>\n",
    "3. <a href=\"#cycling_walking\">Cycling vs Walking</a> <br>\n",
    "4. <a href=\"#piped\">Relationship between piped access and GCIL water access</a>\n",
    "</div>"
   ]
  },
  {
   "cell_type": "code",
   "execution_count": 73,
   "metadata": {},
   "outputs": [],
   "source": [
    "import pathlib\n",
    "import pandas as pd\n",
    "import numpy as np\n",
    "import matplotlib.pyplot as plt\n",
    "import plotly.express as px\n",
    "import weightedstats as ws\n",
    "from tabulate import tabulate\n",
    "from scipy.stats import spearmanr"
   ]
  },
  {
   "cell_type": "code",
   "execution_count": 74,
   "metadata": {},
   "outputs": [],
   "source": [
    "# Read country-level results from Monte Carlo sims\n",
    "country_medians = pd.read_csv(\"../results/country_median_results.csv\")\n",
    "country_means = pd.read_csv(\"../results/country_mean_results.csv\")\n",
    "country_5th_percentiles = pd.read_csv(\"../results/country_5th_percentile_results.csv\")\n",
    "country_95th_percentiles = pd.read_csv(\"../results/country_95th_percentile_results.csv\")\n",
    "\n",
    "# Read district-level results from Monte Carlo sims\n",
    "district_medians = pd.read_csv(\"../results/districts_median_results.csv\")\n",
    "district_means = pd.read_csv(\"../results/districts_mean_results.csv\")\n",
    "district_5th_percentiles = pd.read_csv(\"../results/districts_5th_percentile_results.csv\")\n",
    "district_95th_percentiles = pd.read_csv(\"../results/districts_95th_percentile_results.csv\")\n"
   ]
  },
  {
   "cell_type": "code",
   "execution_count": 75,
   "metadata": {},
   "outputs": [],
   "source": [
    "# Constants to save new results (will overwrite existing results)\n",
    "SAVE_CSVS = False\n",
    "SAVE_FIGURES = False"
   ]
  },
  {
   "cell_type": "markdown",
   "metadata": {},
   "source": [
    "<div class=\"alert alert-info\">\n",
    "<h3> <b>1. Data for Choropleths </b> </h3>\n",
    "<a id=\"choropleths\"></a>\n",
    "Simplified data to export to Datawrapper for making maps of water access loss in GCIL.\n",
    "</div>"
   ]
  },
  {
   "cell_type": "code",
   "execution_count": 77,
   "metadata": {},
   "outputs": [],
   "source": [
    "country_medians_simple = country_medians[[\"ISOCODE\", \"Entity\", \"percent_without_water\"]]\n",
    "venezuela_medians = district_medians[district_medians[\"Entity\"] == \"Venezuela\"]\n",
    "venezuela_medians_simple = venezuela_medians[[\"shapeName\", \"percent_without_water\"]]\n",
    "\n",
    "if SAVE_CSVS == True:\n",
    "    country_medians_simple.to_csv(\"../results/country_medians_simple.csv\", index=False)\n",
    "    country_medians_simple.to_csv(\"../results/venezulea_means_simple.csv\", index=False)"
   ]
  },
  {
   "cell_type": "markdown",
   "metadata": {},
   "source": [
    "<div class=\"alert alert-info\">\n",
    "<h3> <b>2. Overall Access Numbers </b> </h3>\n",
    "<a id=\"overall\"></a>\n",
    "Overall access (walking and cycling) for the world, and select countries\n",
    "</div>"
   ]
  },
  {
   "cell_type": "markdown",
   "metadata": {},
   "source": [
    "<div class=\"alert alert-success\"> Quote from paper: \"Globally, the median model results indicate that <b>29% (90% CI 21–41%)</b> of the world population would be unable to access sufficient water in the aftermath of a GCIL scenario (Figure 3).\""
   ]
  },
  {
   "cell_type": "code",
   "execution_count": 78,
   "metadata": {},
   "outputs": [
    {
     "name": "stdout",
     "output_type": "stream",
     "text": [
      "Global median percentage without water: 0.2913699818564235\n",
      "Global 5th percentile percentage without water: 0.21471390222776646\n",
      "Global 95th percentile percentage without water: 0.4063566485492813\n",
      "\n",
      "Global median percentage with water: 0.7084980986429009\n",
      "\n"
     ]
    }
   ],
   "source": [
    "# Overall global population without water\n",
    "global_median_percentage_without_water = country_medians[\"country_pop_without_water\"].sum() / country_medians[\"country_pop_raw\"].sum()\n",
    "global_5th_percentage_without_water = country_5th_percentiles[\"country_pop_without_water\"].sum() / country_5th_percentiles[\"country_pop_raw\"].sum()\n",
    "global_95th_percentage_without_water = country_95th_percentiles[\"country_pop_without_water\"].sum() / country_95th_percentiles[\"country_pop_raw\"].sum()\n",
    "\n",
    "global_median_percentage_with_water = country_medians[\"country_pop_with_water\"].sum() / country_medians[\"country_pop_raw\"].sum()\n",
    "\n",
    "# Print overall results\n",
    "print(f\"Global median percentage without water: {global_median_percentage_without_water}\")\n",
    "print(f\"Global 5th percentile percentage without water: {global_5th_percentage_without_water}\")\n",
    "print(f\"Global 95th percentile percentage without water: {global_95th_percentage_without_water}\")\n",
    "\n",
    "# sense check with percentage with water\n",
    "print(\"\")\n",
    "print(f\"Global median percentage with water: {global_median_percentage_with_water}\")\n",
    "print(\"\")"
   ]
  },
  {
   "cell_type": "markdown",
   "metadata": {},
   "source": [
    "<div class=\"alert alert-success\"> Quote from paper: \"Of the <b>71%</b> with water access, <b>56% (90% CI 48–60%)</b> usually rely on piped water and would therefore have to walk or cycle to a freshwater source, while the remainder would, in theory, continue to use their non-piped sources.\""
   ]
  },
  {
   "cell_type": "code",
   "execution_count": 79,
   "metadata": {},
   "outputs": [
    {
     "name": "stdout",
     "output_type": "stream",
     "text": [
      "Global median percentage with water: 0.7084980986429009\n",
      "Median proportion with water access who are piped: 0.5625725070062731\n",
      "5th percentile proportion with water access who are piped: 0.477825480021634\n",
      "95th percentile proportion with water access who are piped: 0.6052793761316559\n"
     ]
    }
   ],
   "source": [
    "# Piped populations without water\n",
    "proportion_with_water_piped_median = country_medians[\"population_piped_with_access\"].sum() / country_medians[\"country_pop_with_water\"].sum()\n",
    "proportion_with_water_piped_5th = country_5th_percentiles[\"population_piped_with_access\"].sum() / country_5th_percentiles[\"country_pop_with_water\"].sum()\n",
    "proportion_with_water_piped_95th = country_95th_percentiles[\"population_piped_with_access\"].sum() / country_95th_percentiles[\"country_pop_with_water\"].sum()\n",
    "\n",
    "# Print piped results\n",
    "# sense check with percentage with water\n",
    "print(f\"Global median percentage with water: {global_median_percentage_with_water}\")\n",
    "print(f\"Median proportion with water access who are piped: {proportion_with_water_piped_median}\")\n",
    "print(f\"5th percentile proportion with water access who are piped: {proportion_with_water_piped_5th}\")\n",
    "print(f\"95th percentile proportion with water access who are piped: {proportion_with_water_piped_95th}\")"
   ]
  },
  {
   "cell_type": "markdown",
   "metadata": {},
   "source": [
    "<div class=\"alert alert-success\"> Quote from paper: \"The regional percentage of people without water access was highest in Africa at <b>44.1% (90% CI 39.6–49.9%)</b>, followed by the Americas at <b>41.4% (90% CI 28.9–58.8)</b>, Oceania at <b>32.4% (90% 26.3–44.1)</b>, Europe at <b>25.9% (90% CI 14.1–47.2)</b>, and Asia at <b>22.5% (90% CI 15.7–32.9)</b>.\""
   ]
  },
  {
   "cell_type": "code",
   "execution_count": 80,
   "metadata": {},
   "outputs": [
    {
     "name": "stdout",
     "output_type": "stream",
     "text": [
      "             median  5th_percentile  95th_percentile formatted_results\n",
      "region                                                                \n",
      "Africa    44.103722       39.633869        49.886023  44.1 (39.6–49.9)\n",
      "Americas  41.378269       28.851321        58.760775  41.4 (28.9–58.8)\n",
      "Oceania   32.371030       26.312554        44.102250  32.4 (26.3–44.1)\n",
      "Europe    25.933368       14.055380        47.165699  25.9 (14.1–47.2)\n",
      "Asia      22.534575       15.661886        32.853936  22.5 (15.7–32.9)\n",
      "                              median  5th_percentile  95th_percentile  \\\n",
      "subregion                                                               \n",
      "Polynesia                  59.524553       59.524553        59.524553   \n",
      "Middle Africa              57.354188       57.354188        57.354188   \n",
      "Western Asia               52.707629       52.707629        52.707629   \n",
      "Melanesia                  51.334201       51.334201        51.334201   \n",
      "Northern Africa            50.367707       50.367707        50.367707   \n",
      "Central America            48.871426       48.871426        48.871426   \n",
      "South America              43.572125       43.572125        43.572125   \n",
      "Eastern Africa             42.745063       42.745063        42.745063   \n",
      "Southern Africa            38.976949       38.976949        38.976949   \n",
      "Caribbean                  38.411448       38.411448        38.411448   \n",
      "Western Africa             36.291956       36.291956        36.291956   \n",
      "Northern America           35.480504       35.480504        35.480504   \n",
      "Southern Europe            33.269790       33.269790        33.269790   \n",
      "Central Asia               31.124912       31.124912        31.124912   \n",
      "Eastern Europe             28.582142       28.582142        28.582142   \n",
      "Australia and New Zealand  25.184452       25.184452        25.184452   \n",
      "Eastern Asia               23.589345       23.589345        23.589345   \n",
      "Northern Europe            22.019652       22.019652        22.019652   \n",
      "Western Europe             18.606729       18.606729        18.606729   \n",
      "South-Eastern Asia         18.485031       18.485031        18.485031   \n",
      "Southern Asia              18.371043       18.371043        18.371043   \n",
      "\n",
      "                          formatted_results  \n",
      "subregion                                    \n",
      "Polynesia                  59.5 (59.5–59.5)  \n",
      "Middle Africa              57.4 (57.4–57.4)  \n",
      "Western Asia               52.7 (52.7–52.7)  \n",
      "Melanesia                  51.3 (51.3–51.3)  \n",
      "Northern Africa            50.4 (50.4–50.4)  \n",
      "Central America            48.9 (48.9–48.9)  \n",
      "South America              43.6 (43.6–43.6)  \n",
      "Eastern Africa             42.7 (42.7–42.7)  \n",
      "Southern Africa            39.0 (39.0–39.0)  \n",
      "Caribbean                  38.4 (38.4–38.4)  \n",
      "Western Africa             36.3 (36.3–36.3)  \n",
      "Northern America           35.5 (35.5–35.5)  \n",
      "Southern Europe            33.3 (33.3–33.3)  \n",
      "Central Asia               31.1 (31.1–31.1)  \n",
      "Eastern Europe             28.6 (28.6–28.6)  \n",
      "Australia and New Zealand  25.2 (25.2–25.2)  \n",
      "Eastern Asia               23.6 (23.6–23.6)  \n",
      "Northern Europe            22.0 (22.0–22.0)  \n",
      "Western Europe             18.6 (18.6–18.6)  \n",
      "South-Eastern Asia         18.5 (18.5–18.5)  \n",
      "Southern Asia              18.4 (18.4–18.4)  \n"
     ]
    }
   ],
   "source": [
    "# Define a function to calculate percent without water\n",
    "def calculate_percent(df, group):\n",
    "    data = df.groupby(group).sum()\n",
    "    percent_without_water = (data['country_pop_without_water'] / data['country_pop_raw']) * 100\n",
    "    return percent_without_water\n",
    "\n",
    "# Calculate percent without water for each DataFrame\n",
    "region_percent_without_water_median = calculate_percent(country_medians, \"region\")\n",
    "region_percent_without_water_5th = calculate_percent(country_5th_percentiles, \"region\")\n",
    "region_percent_without_water_95th = calculate_percent(country_95th_percentiles, \"region\")\n",
    "\n",
    "# Merge results into a single DataFrame\n",
    "region_percent_without_water = pd.DataFrame({\n",
    "    'median': region_percent_without_water_median,\n",
    "    '5th_percentile': region_percent_without_water_5th,\n",
    "    '95th_percentile': region_percent_without_water_95th\n",
    "})\n",
    "\n",
    "# Repeat for subregions\n",
    "subregion_percent_without_water_median = calculate_percent(country_medians, \"subregion\")\n",
    "subregion_percent_without_water_5th = calculate_percent(country_medians, \"subregion\")\n",
    "subregion_percent_without_water_95th = calculate_percent(country_medians, \"subregion\")\n",
    "\n",
    "# Merge results into a single DataFrame\n",
    "subregion_percent_without_water = pd.DataFrame({\n",
    "    'median': subregion_percent_without_water_median,\n",
    "    '5th_percentile': subregion_percent_without_water_5th,\n",
    "    '95th_percentile': subregion_percent_without_water_95th\n",
    "})\n",
    "\n",
    "# Define formatting function\n",
    "def format_results(row):\n",
    "    median = round(row['median'], 1)\n",
    "    p5th = round(row['5th_percentile'], 1)\n",
    "    p95th = round(row['95th_percentile'], 1)\n",
    "    return f\"{median} ({p5th}–{p95th})\"\n",
    "\n",
    "# Apply formatting function to each row\n",
    "region_percent_without_water['formatted_results'] = region_percent_without_water.apply(format_results, axis=1)\n",
    "subregion_percent_without_water['formatted_results'] = subregion_percent_without_water.apply(format_results, axis=1)\n",
    "\n",
    "# Print results\n",
    "print(region_percent_without_water.sort_values(by='median', ascending=False))\n",
    "print(subregion_percent_without_water.sort_values(by='median', ascending=False))\n",
    "\n",
    "region_percent_without_water.to_csv(\"../results/region_results.csv\", index=True)\n",
    "subregion_percent_without_water.to_csv(\"../results/subregion_results.csv\", index=True)"
   ]
  },
  {
   "cell_type": "markdown",
   "metadata": {},
   "source": [
    "<div class=\"alert alert-success\">Quote from paper: All five of the worst ranked countries were in the Arabian Peninsula, led by the United Arab Emirates (UAE) with 99.97%"
   ]
  },
  {
   "cell_type": "code",
   "execution_count": 81,
   "metadata": {},
   "outputs": [],
   "source": [
    "# Make a single table with the 10 countries with the highest and lowest percentage of people without access to water\n",
    "top10 = country_medians_simple.nlargest(10, \"percent_without_water\")\n",
    "bottom10 = country_medians_simple.nsmallest(10, \"percent_without_water\")\n",
    "top_bottom = pd.concat([top10, bottom10])\n",
    "\n",
    "if SAVE_CSVS == True:\n",
    "    top_bottom.to_csv(\"../results/top_bottom_10_countries.csv\", index=False)"
   ]
  },
  {
   "cell_type": "markdown",
   "metadata": {},
   "source": [
    "<div class=\"alert alert-success\">Supplementary: Plot of Monte Carlo distribution"
   ]
  },
  {
   "cell_type": "code",
   "execution_count": 82,
   "metadata": {},
   "outputs": [
    {
     "data": {
      "image/png": "[encoded data removed]",
      "text/plain": [
       "<Figure size 640x480 with 1 Axes>"
      ]
     },
     "metadata": {},
     "output_type": "display_data"
    }
   ],
   "source": [
    "import pandas as pd\n",
    "import matplotlib.pyplot as plt\n",
    "import numpy as np\n",
    "\n",
    "# Load pickled simulation results\n",
    "simulation_results = pd.read_pickle(\"../results/countries_simulation_results.pkl\")\n",
    "\n",
    "# Calculate global median percentage without water for each simulation using list comprehension\n",
    "global_access = [df[\"country_pop_without_water\"].sum() / df[\"country_pop_raw\"].sum() for df in simulation_results]\n",
    "\n",
    "# Calculate median, 5th percentile, and 95th percentile\n",
    "median = np.median(global_access)\n",
    "p5 = np.percentile(global_access, 5)\n",
    "p95 = np.percentile(global_access, 95)\n",
    "\n",
    "# Plot histogram of results\n",
    "fig, ax = plt.subplots()\n",
    "ax.hist(global_access, bins=100, alpha=0.5, color='c')\n",
    "ax.set_xlabel(\"Global percentage of population without access to water\")\n",
    "ax.set_ylabel(\"Frequency\")\n",
    "# ax.set_title(\"Distribution of Monte Carlo simulation results\")\n",
    "\n",
    "# Add vertical lines for median, 5th percentile, and 95th percentile\n",
    "ax.axvline(median, color='red', linestyle='dashed', linewidth=1)\n",
    "ax.axvline(p5, color='blue', linestyle='dashed', linewidth=1)\n",
    "ax.axvline(p95, color='blue', linestyle='dashed', linewidth=1)\n",
    "\n",
    "# Set x-axis limits\n",
    "ax.set_xlim(0, 1)\n",
    "\n",
    "if SAVE_FIGURES == True:\n",
    "    plt.savefig(\"../results/mc_distribution_no_water.png\")\n",
    "plt.show()"
   ]
  },
  {
   "cell_type": "markdown",
   "metadata": {},
   "source": [
    "<div class=\"alert alert-info\">\n",
    "<h3> <b>3. Cycling vs walking results </b> </h3>\n",
    "<a id=\"cycling_walking\"></a>\n",
    "</div>"
   ]
  },
  {
   "cell_type": "markdown",
   "metadata": {},
   "source": [
    "<div class=\"alert alert-success\">Quote from paper: The maximum euclidean distance people could walk one-way to water varied between <b>3.6–4.0 km</b> in the model, approximately equal to travelling 4.8–5.4 km on roads if using a conversion factor of 1.345 (Gonçalves et al., 2014). For cycling, the equivalent euclidean distances were <b>0–17.7 km</b>, equivalent to approximately 0–23.8 km on roads. <br><br> NB: These are currently given as full ranges rather than 90% CIs, as the data is not population-weighted.<br> NB: The minimum cycling distance is negative, but expressed as zero in the paper. This is due to the parameters in some regions having very poor cycling conditions (e.g., very steep, no roads), leading to the model requiring more energy than available to move forwards.\n"
   ]
  },
  {
   "cell_type": "code",
   "execution_count": 83,
   "metadata": {},
   "outputs": [
    {
     "name": "stdout",
     "output_type": "stream",
     "text": [
      "Minimum walking distance: 3.3599322753440046\n",
      "Maximum walking distance: 4.032643951948407\n",
      "Minimum cycling distance: -3.7486676361843023\n",
      "Maximum cycling distance: 17.729752085551528\n"
     ]
    }
   ],
   "source": [
    "min_walking = country_medians[\"min_max_distance_walking\"].min()\n",
    "max_walking = country_medians[\"max_max_distance_walking\"].max()\n",
    "min_cycling = country_medians[\"min_max_distance_cycling\"].min()\n",
    "max_cycling = country_medians[\"max_max_distance_cycling\"].max()\n",
    "print(f\"Minimum walking distance: {min_walking}\")\n",
    "print(f\"Maximum walking distance: {max_walking}\")\n",
    "print(f\"Minimum cycling distance: {min_cycling}\")\n",
    "print(f\"Maximum cycling distance: {max_cycling}\")"
   ]
  },
  {
   "cell_type": "markdown",
   "metadata": {},
   "source": [
    "<div class=\"alert alert-success\">Quote from paper: \"Bicycles increased access in the simulations, allowing <b>32% (90% CI 23–57%)</b> of the piped water population to cycle to water instead of walking. While some of these people would be close enough to walk if needed, <b>17%</b> of the piped water population, or <b>7%</b> of the total world population, would not.\""
   ]
  },
  {
   "cell_type": "code",
   "execution_count": 84,
   "metadata": {},
   "outputs": [
    {
     "name": "stdout",
     "output_type": "stream",
     "text": [
      "Relative to global piped population: mean percentage piped with access: 0.5981595974341911\n",
      "Relative to global piped population: mean percentage piped with cycling access: 0.27590043107738255\n",
      "Relative to global piped population: mean percentage piped with walking access: 0.5018188328577694\n",
      "Relative to global piped population: mean percentage piped with only cycling access: 0.09634076457642178\n"
     ]
    }
   ],
   "source": [
    "# For walking vs cycling breakdown, we are using the mean results instead of median as this will lead to more intuitive comparisons.\n",
    "# If we use the medians, the sum of the individual walking and cycling access may be very different to the the sum of the total access\n",
    "# First, let's look at piped only\n",
    "country_means[\"country_pop_piped\"] = country_means[\"country_pop_raw\"] * country_means[\"Nat Piped\"] / 100\n",
    "global_mean_percentage_piped_with_access = country_means[\"population_piped_with_access\"].sum() / country_means[\"country_pop_piped\"].sum()\n",
    "global_mean_piped_percentage_with_cycling_access = country_means[\"population_piped_with_cycling_access\"].sum() / country_means[\"country_pop_piped\"].sum()\n",
    "global_mean_piped_percentage_with_walking_access = country_means[\"population_piped_with_walking_access\"].sum() / country_means[\"country_pop_piped\"].sum()\n",
    "global_mean_piped_percentage_with_only_cycling_access = (country_means[\"population_piped_with_access\"].sum() - country_means[\"population_piped_with_walking_access\"].sum()) / country_means[\"country_pop_piped\"].sum()\n",
    "\n",
    "print(f\"Relative to global piped population: mean percentage piped with access: {global_mean_percentage_piped_with_access}\")\n",
    "print(f\"Relative to global piped population: mean percentage piped with cycling access: {global_mean_piped_percentage_with_cycling_access}\")\n",
    "print(f\"Relative to global piped population: mean percentage piped with walking access: {global_mean_piped_percentage_with_walking_access}\")\n",
    "print(f\"Relative to global piped population: mean percentage piped with only cycling access: {global_mean_piped_percentage_with_only_cycling_access}\")"
   ]
  },
  {
   "cell_type": "code",
   "execution_count": 85,
   "metadata": {},
   "outputs": [
    {
     "name": "stdout",
     "output_type": "stream",
     "text": [
      "Relative to global piped population: median percentage piped with cycling access: 0.1975692009196145\n",
      "Relative to global piped population: 5th percentile percentage piped with cycling access: 0.09878604578863677\n",
      "Relative to global piped population: 95th percentile percentage piped with cycling access: 0.4136662002322547\n"
     ]
    }
   ],
   "source": [
    "# Median, 5th, and 95th percentile results for piped water population\n",
    "country_medians[\"country_pop_piped\"] = country_medians[\"country_pop_raw\"] * country_medians[\"Nat Piped\"] / 100\n",
    "country_5th_percentiles[\"country_pop_piped\"] = country_5th_percentiles[\"country_pop_raw\"] * country_5th_percentiles[\"Nat Piped\"] / 100\n",
    "country_95th_percentiles[\"country_pop_piped\"] = country_95th_percentiles[\"country_pop_raw\"] * country_95th_percentiles[\"Nat Piped\"] / 100\n",
    "\n",
    "assert (country_medians[\"country_pop_piped\"] == country_5th_percentiles[\"country_pop_piped\"]).all()\n",
    "assert (country_medians[\"country_pop_piped\"] == country_95th_percentiles[\"country_pop_piped\"]).all()\n",
    "\n",
    "global_median_piped_percentage_with_cycling_access = country_medians[\"population_piped_with_cycling_access\"].sum() / country_medians[\"country_pop_piped\"].sum()\n",
    "global_5th_piped_percentage_with_cycling_access = country_5th_percentiles[\"population_piped_with_cycling_access\"].sum() / country_5th_percentiles[\"country_pop_piped\"].sum()\n",
    "global_95th_piped_percentage_with_cycling_access = country_95th_percentiles[\"population_piped_with_cycling_access\"].sum() / country_95th_percentiles[\"country_pop_piped\"].sum()\n",
    "\n",
    "print(f\"Relative to global piped population: median percentage piped with cycling access: {global_median_piped_percentage_with_cycling_access}\")\n",
    "print(f\"Relative to global piped population: 5th percentile percentage piped with cycling access: {global_5th_piped_percentage_with_cycling_access}\")\n",
    "print(f\"Relative to global piped population: 95th percentile percentage piped with cycling access: {global_95th_piped_percentage_with_cycling_access}\")\n"
   ]
  },
  {
   "cell_type": "code",
   "execution_count": 86,
   "metadata": {},
   "outputs": [
    {
     "name": "stdout",
     "output_type": "stream",
     "text": [
      "Global mean percentage with access: 0.38998753515565754\n",
      "Global mean percentage with cycling access: 0.1798813051329325\n",
      "Global mean percentage with walking access: 0.3271753735296731\n",
      "Global mean percentage with only cycling access: 0.06281216162598446\n"
     ]
    }
   ],
   "source": [
    "# Now looking at proportions of the global population (piped and non-piped)\n",
    "# Note that this (country_pop_raw) is also including non-piped population who do not walk/cycle to collect water\n",
    "global_mean_percentage_with_access = country_means[\"population_piped_with_access\"].sum() / country_means[\"country_pop_raw\"].sum()\n",
    "global_mean_percentage_with_cycling_access = country_means[\"population_piped_with_cycling_access\"].sum() / country_means[\"country_pop_raw\"].sum()\n",
    "global_mean_percentage_with_walking_access = country_means[\"population_piped_with_walking_access\"].sum() / country_means[\"country_pop_raw\"].sum()\n",
    "global_mean_percentage_with_only_cycling_access = (country_means[\"population_piped_with_access\"].sum() - country_means[\"population_piped_with_walking_access\"].sum()) / country_means[\"country_pop_raw\"].sum()\n",
    "\n",
    "print(f\"Global mean percentage with access: {global_mean_percentage_with_access}\")\n",
    "print(f\"Global mean percentage with cycling access: {global_mean_percentage_with_cycling_access}\")\n",
    "print(f\"Global mean percentage with walking access: {global_mean_percentage_with_walking_access}\")\n",
    "print(f\"Global mean percentage with only cycling access: {global_mean_percentage_with_only_cycling_access}\")"
   ]
  },
  {
   "cell_type": "markdown",
   "metadata": {},
   "source": [
    "#### Most important countries for bicycles"
   ]
  },
  {
   "cell_type": "markdown",
   "metadata": {},
   "source": [
    "<div class=\"alert alert-success\">Quote from paper: \"Cycling provided access for 47% of Burkina Faso’s piped water population in the model. However, the actual water access gained is small for the countries listed (0.03–5% of their populations), due to few people being able to access water at all in UAE, Hong Kong, and Kuwait, and very few people having piped water infrastructure in Burkina Faso. In contrast, cycling enabled 26% of people in Luxembourg to fulfil essential water needs, along with 24% in Germany, 24% in Belgium, 23% in Finland, and 22% in Argentina.\""
   ]
  },
  {
   "cell_type": "code",
   "execution_count": 87,
   "metadata": {},
   "outputs": [
    {
     "name": "stdout",
     "output_type": "stream",
     "text": [
      "+-----+----------------------+---------------------------------------------+---------------------------------------------+----------------------------------------+----------------------------------------+----------------------+\n",
      "|     | Entity               |   percentage_piped_with_only_cycling_access |   percentage_total_with_only_cycling_access |   percentage_piped_with_walking_access |   percentage_piped_with_cycling_access |   percent_with_water |\n",
      "|-----+----------------------+---------------------------------------------+---------------------------------------------+----------------------------------------+----------------------------------------+----------------------|\n",
      "|   4 | United Arab Emirates |                                    100      |                                  0.0313029  |                                 0      |                              100       |            0.0313029 |\n",
      "|  71 | Hong Kong            |                                    100      |                                  4.55177    |                                 0      |                              100       |           18.7134    |\n",
      "|  93 | Kuwait               |                                    100      |                                  0.0621382  |                                 0      |                              100       |            7.97058   |\n",
      "| 117 | Montserrat           |                                     69.3501 |                                 12.4073     |                                30.6499 |                               69.3501  |           43.4622    |\n",
      "| 184 | Samoa                |                                     47.3289 |                                 13.5692     |                                52.6711 |                                6.15998 |           40.4754    |\n",
      "|  13 | Burkina Faso         |                                     46.9654 |                                  2.56599    |                                53.0346 |                               83.0391  |           61.547     |\n",
      "| 118 | Martinique           |                                     46.6455 |                                  6.37804    |                                53.3545 |                                8.73829 |           38.551     |\n",
      "|   5 | Argentina            |                                     42.7598 |                                 21.8692     |                                57.2402 |                               65.1299  |           59.4021    |\n",
      "|  97 | Libya                |                                     38.5663 |                                  0.00971575 |                                61.4337 |                               47.795   |           29.0701    |\n",
      "| 103 | Luxembourg           |                                     37.4714 |                                 25.699      |                                62.5286 |                                4.68659 |           69.3351    |\n",
      "| 178 | Uruguay              |                                     37.2156 |                                 16.623      |                                62.7844 |                               47.2079  |           44.6666    |\n",
      "|   3 | Andorra              |                                     32.9969 |                                 20.795      |                                67.0031 |                                0       |           63.0213    |\n",
      "|  83 | Israel               |                                     31.0331 |                                  6.62648    |                                68.9669 |                               22.7019  |           21.3529    |\n",
      "|  62 | Gambia               |                                     31.0001 |                                 14.28       |                                68.9999 |                               56.6817  |           62.2285    |\n",
      "|  77 | Isle of Man          |                                     30.0894 |                                 14.3543     |                                69.9106 |                               18.5002  |           51.7056    |\n",
      "| 171 | Trinidad and Tobago  |                                     30.0745 |                                  9.78856    |                                69.9255 |                               42.4823  |           56.5116    |\n",
      "|  39 | Germany              |                                     29.4783 |                                 23.6476     |                                70.5217 |                               33.146   |           80.2205    |\n",
      "|  11 | Belgium              |                                     29.099  |                                 23.2073     |                                70.901  |                               43.2513  |           79.753     |\n",
      "|  41 | Denmark              |                                     28.8469 |                                 21.6776     |                                71.1531 |                               63.4938  |           75.1468    |\n",
      "|  51 | Finland              |                                     27.9666 |                                 22.9053     |                                72.0334 |                               43.3832  |           81.9024    |\n",
      "| 179 | United States        |                                     25.8249 |                                 15.7958     |                                74.1751 |                               32.4403  |           63.0957    |\n",
      "| 172 | Tunisia              |                                     25.328  |                                  5.65365    |                                74.672  |                               23.2067  |           36.5672    |\n",
      "|  91 | Cambodia             |                                     25.2276 |                                  6.30965    |                                74.7724 |                               71.1441  |           82.4592    |\n",
      "|  48 | Spain                |                                     24.7663 |                                 15.9068     |                                75.2337 |                               12.6769  |           64.2277    |\n",
      "| 137 | Poland               |                                     24.5727 |                                 16.6348     |                                75.4273 |                               46.2865  |           67.6964    |\n",
      "| 148 | Saudi Arabia         |                                     24.2778 |                                  0.212029   |                                75.7222 |                               29.899   |           16.3277    |\n",
      "|  82 | Iceland              |                                     24.192  |                                 12.5326     |                                75.808  |                               10.4404  |           51.8048    |\n",
      "|  53 | Falkland Islands     |                                     24.138  |                                  2.25307    |                                75.862  |                               30.2114  |           28.6481    |\n",
      "| 151 | Singapore            |                                     24.0431 |                                  6.74776    |                                75.9569 |                               50.6612  |           43.2627    |\n",
      "| 141 | Paraguay             |                                     23.6643 |                                 13.8269     |                                76.3357 |                               20.2497  |           58.4292    |\n",
      "+-----+----------------------+---------------------------------------------+---------------------------------------------+----------------------------------------+----------------------------------------+----------------------+\n"
     ]
    }
   ],
   "source": [
    "# TODO Change to means so walking/cycling split makes sense?\n",
    "# Calculate top 10 countries by lowest value for global_mean_piped_percentage_with_walking_access\n",
    "country_medians[\"percentage_piped_with_walking_access\"] = country_medians[\"population_piped_with_walking_access\"] / country_medians[\"population_piped_with_access\"] * 100\n",
    "country_medians[\"percentage_piped_with_cycling_access\"] = country_medians[\"population_piped_with_cycling_access\"] / country_medians[\"population_piped_with_access\"] * 100\n",
    "country_medians[\"percentage_piped_of_total_access\"] = country_medians[\"population_piped_with_access\"] / country_medians[\"country_pop_with_water\"] * 100\n",
    "country_medians[\"population_piped_with_only_cycling_access\"] = country_medians[\"population_piped_with_access\"] - country_medians[\"population_piped_with_walking_access\"]\n",
    "country_medians[\"percentage_piped_with_only_cycling_access\"] = country_medians[\"population_piped_with_only_cycling_access\"] / country_medians[\"population_piped_with_access\"] * 100\n",
    "country_medians[\"percentage_total_with_only_cycling_access\"] = country_medians[\"population_piped_with_only_cycling_access\"] / country_medians[\"country_pop_raw\"] * 100\n",
    "\n",
    "top_piped_cycling_access = country_medians.nlargest(30, \"percentage_piped_with_only_cycling_access\")\n",
    "print(tabulate(top_piped_cycling_access[['Entity', \"percentage_piped_with_only_cycling_access\", \"percentage_total_with_only_cycling_access\", 'percentage_piped_with_walking_access', 'percentage_piped_with_cycling_access', \"percent_with_water\"]], headers='keys', tablefmt='psql'))\n",
    "\n"
   ]
  },
  {
   "cell_type": "code",
   "execution_count": 88,
   "metadata": {},
   "outputs": [
    {
     "name": "stdout",
     "output_type": "stream",
     "text": [
      "+-----+----------------+---------------------------------------------+---------------------------------------------+----------------------------------------+----------------------------------------+----------------------+\n",
      "|     | Entity         |   percentage_total_with_only_cycling_access |   percentage_piped_with_only_cycling_access |   percentage_piped_with_walking_access |   percentage_piped_with_cycling_access |   percent_with_water |\n",
      "|-----+----------------+---------------------------------------------+---------------------------------------------+----------------------------------------+----------------------------------------+----------------------|\n",
      "| 103 | Luxembourg     |                                     25.699  |                                     37.4714 |                                62.5286 |                                4.68659 |              69.3351 |\n",
      "|  39 | Germany        |                                     23.6476 |                                     29.4783 |                                70.5217 |                               33.146   |              80.2205 |\n",
      "|  11 | Belgium        |                                     23.2073 |                                     29.099  |                                70.901  |                               43.2513  |              79.753  |\n",
      "|  51 | Finland        |                                     22.9053 |                                     27.9666 |                                72.0334 |                               43.3832  |              81.9024 |\n",
      "|   5 | Argentina      |                                     21.8692 |                                     42.7598 |                                57.2402 |                               65.1299  |              59.4021 |\n",
      "|  41 | Denmark        |                                     21.6776 |                                     28.8469 |                                71.1531 |                               63.4938  |              75.1468 |\n",
      "|   3 | Andorra        |                                     20.795  |                                     32.9969 |                                67.0031 |                                0       |              63.0213 |\n",
      "|  26 | Canada         |                                     18.0407 |                                     23.5294 |                                76.4706 |                               47.3492  |              76.673  |\n",
      "| 127 | Netherlands    |                                     17.8839 |                                     20.0773 |                                79.9227 |                               88.5358  |              89.075  |\n",
      "|   8 | Austria        |                                     17.1084 |                                     19.6436 |                                80.3564 |                               21.4142  |              87.1834 |\n",
      "| 137 | Poland         |                                     16.6348 |                                     24.5727 |                                75.4273 |                               46.2865  |              67.6964 |\n",
      "| 178 | Uruguay        |                                     16.623  |                                     37.2156 |                                62.7844 |                               47.2079  |              44.6666 |\n",
      "|  27 | Switzerland    |                                     16.3117 |                                     19.3626 |                                80.6374 |                                9.25656 |              84.2435 |\n",
      "|  48 | Spain          |                                     15.9068 |                                     24.7663 |                                75.2337 |                               12.6769  |              64.2277 |\n",
      "| 179 | United States  |                                     15.7958 |                                     25.8249 |                                74.1751 |                               32.4403  |              63.0957 |\n",
      "| 160 | Slovakia       |                                     14.3816 |                                     18.2428 |                                81.7572 |                               18.7768  |              79.0821 |\n",
      "|  77 | Isle of Man    |                                     14.3543 |                                     30.0894 |                                69.9106 |                               18.5002  |              51.7056 |\n",
      "| 161 | Slovenia       |                                     14.2892 |                                     18.2261 |                                81.7739 |                               13.6361  |              80.5868 |\n",
      "|  62 | Gambia         |                                     14.28   |                                     31.0001 |                                68.9999 |                               56.6817  |              62.2285 |\n",
      "|  22 | Brunei         |                                     14.0107 |                                     20.6236 |                                79.3764 |                               18.582   |              73.4775 |\n",
      "|  35 | Costa Rica     |                                     13.856  |                                     19.4197 |                                80.5803 |                                9.56376 |              71.3503 |\n",
      "| 141 | Paraguay       |                                     13.8269 |                                     23.6643 |                                76.3357 |                               20.2497  |              58.4292 |\n",
      "| 184 | Samoa          |                                     13.5692 |                                     47.3289 |                                52.6711 |                                6.15998 |              40.4754 |\n",
      "|  28 | Chile          |                                     12.999  |                                     20.8042 |                                79.1958 |                               23.7304  |              62.4828 |\n",
      "|  82 | Iceland        |                                     12.5326 |                                     24.192  |                                75.808  |                               10.4404  |              51.8048 |\n",
      "|  84 | Italy          |                                     12.4743 |                                     16.7266 |                                83.2734 |                               30.948   |              74.6332 |\n",
      "| 117 | Montserrat     |                                     12.4073 |                                     69.3501 |                                30.6499 |                               69.3501  |              43.4622 |\n",
      "|  57 | United Kingdom |                                     11.7687 |                                     15.147  |                                84.853  |                               17.4532  |              77.6967 |\n",
      "|  54 | France         |                                     11.7263 |                                     14.6356 |                                85.3644 |                               25.2639  |              80.122  |\n",
      "|  19 | Belize         |                                     11.3622 |                                     18.202  |                                81.798  |                               41.2217  |              82.42   |\n",
      "+-----+----------------+---------------------------------------------+---------------------------------------------+----------------------------------------+----------------------------------------+----------------------+\n"
     ]
    }
   ],
   "source": [
    "# OR rank by total population that gain access by cycling\n",
    "top_total_cycling_access = country_medians.nlargest(30, \"percentage_total_with_only_cycling_access\")\n",
    "print(tabulate(top_total_cycling_access[['Entity', \"percentage_total_with_only_cycling_access\", \"percentage_piped_with_only_cycling_access\", 'percentage_piped_with_walking_access', 'percentage_piped_with_cycling_access', \"percent_with_water\"]], headers='keys', tablefmt='psql'))"
   ]
  },
  {
   "cell_type": "code",
   "execution_count": 89,
   "metadata": {},
   "outputs": [
    {
     "data": {
      "text/plain": [
       "Index(['Unnamed: 0', 'ISOCODE', 'country_pop_raw', 'country_pop_with_water',\n",
       "       'country_pop_without_water', 'population_piped_with_access',\n",
       "       'population_piped_with_cycling_access',\n",
       "       'population_piped_with_walking_access', 'Nat Piped',\n",
       "       'mean_max_distance_cycling', 'max_max_distance_cycling',\n",
       "       'min_max_distance_cycling', 'median_max_distance_cycling',\n",
       "       'mean_max_distance_walking', 'max_max_distance_walking',\n",
       "       'min_max_distance_walking', 'median_max_distance_walking',\n",
       "       'weighted_med', 'percent_with_water', 'percent_without_water',\n",
       "       'percent_piped_with_cycling_access',\n",
       "       'percent_piped_with_walking_access',\n",
       "       'percent_piped_with_only_cycling_access', 'Entity', 'region',\n",
       "       'subregion', 'country_pop_piped',\n",
       "       'percentage_piped_with_walking_access',\n",
       "       'percentage_piped_with_cycling_access',\n",
       "       'percentage_piped_of_total_access',\n",
       "       'population_piped_with_only_cycling_access',\n",
       "       'percentage_piped_with_only_cycling_access',\n",
       "       'percentage_total_with_only_cycling_access'],\n",
       "      dtype='object')"
      ]
     },
     "execution_count": 89,
     "metadata": {},
     "output_type": "execute_result"
    }
   ],
   "source": [
    "top_piped_cycling_access.columns"
   ]
  },
  {
   "cell_type": "markdown",
   "metadata": {},
   "source": [
    "<div class=\"alert alert-success\">Supplementary: Plot of Monte Carlo distribution"
   ]
  },
  {
   "cell_type": "code",
   "execution_count": 90,
   "metadata": {},
   "outputs": [
    {
     "data": {
      "image/png": "[encoded data removed]",
      "text/plain": [
       "<Figure size 1200x1200 with 4 Axes>"
      ]
     },
     "metadata": {},
     "output_type": "display_data"
    }
   ],
   "source": [
    "# Load pickled simulation results\n",
    "simulation_results = pd.read_pickle(\"../results/countries_simulation_results.pkl\")\n",
    "\n",
    "# Calculate country_pop_piped for each dataframe in simulation_results\n",
    "for df in simulation_results:\n",
    "    df[\"country_pop_unpiped\"] = df[\"country_pop_raw\"] * (100-df[\"Nat Piped\"]) / 100\n",
    "\n",
    "# Calculate global mean percentage for each access type for each simulation using list comprehension\n",
    "global_access = [df[\"country_pop_with_water\"].sum() / df[\"country_pop_raw\"].sum() for df in simulation_results]\n",
    "global_cycling_access = [df[\"population_piped_with_cycling_access\"].sum() / df[\"country_pop_raw\"].sum() for df in simulation_results]\n",
    "global_walking_access = [df[\"population_piped_with_walking_access\"].sum() / df[\"country_pop_raw\"].sum() for df in simulation_results]\n",
    "global_only_cycling_access = [(df[\"population_piped_with_access\"].sum() - df[\"population_piped_with_walking_access\"].sum()) / df[\"country_pop_raw\"].sum() for df in simulation_results]\n",
    "\n",
    "# Create subplots\n",
    "fig, axs = plt.subplots(2, 2, figsize=(12, 12))\n",
    "\n",
    "# Flatten axs for easy iteration\n",
    "axs = axs.flatten()\n",
    "\n",
    "# List of access types\n",
    "access_types = [global_access, global_walking_access, global_cycling_access, global_only_cycling_access]\n",
    "\n",
    "# List of titles\n",
    "titles = [\"(a) Global Total Access\", \"(b) Global Walking Access\", \"(c) Global Cycling Access\", \"(d) Global Only Cycling Access\"]\n",
    "\n",
    "# Plot histogram of results for each access type\n",
    "for i, ax in enumerate(axs):\n",
    "    # Calculate median, 5th percentile, and 95th percentile\n",
    "    median = np.median(access_types[i])\n",
    "    p5 = np.percentile(access_types[i], 5)\n",
    "    p95 = np.percentile(access_types[i], 95)\n",
    "\n",
    "    ax.hist(access_types[i], bins=100, alpha=0.7, color='c')\n",
    "    ax.set_xlim(0, 1)\n",
    "\n",
    "    # Add vertical lines for median, 5th percentile, and 95th percentile\n",
    "    ax.axvline(median, color='red', linestyle='dashed', linewidth=1)\n",
    "    ax.axvline(p5, color='blue', linestyle='dashed', linewidth=1)\n",
    "    ax.axvline(p95, color='blue', linestyle='dashed', linewidth=1)\n",
    "\n",
    "    # Set title and labels\n",
    "    ax.set_title(f\"{titles[i]}\", fontsize=14)\n",
    "\n",
    "# Set common x-axis label\n",
    "fig.text(0.5, 0.0, 'Percentage Access', ha='center', va='center', fontsize=14)\n",
    "fig.text(0.0, 0.5, 'Frequency', ha='center', va='center', rotation='vertical', fontsize=14)\n",
    "\n",
    "plt.tight_layout()\n",
    "if SAVE_FIGURES == True:\n",
    "    plt.savefig(\"../results/mc_distribution_total_access.png\")\n",
    "plt.show()"
   ]
  },
  {
   "cell_type": "code",
   "execution_count": 91,
   "metadata": {},
   "outputs": [
    {
     "data": {
      "image/png": "[encoded data removed]",
      "text/plain": [
       "<Figure size 1200x1200 with 4 Axes>"
      ]
     },
     "metadata": {},
     "output_type": "display_data"
    }
   ],
   "source": [
    "# Load pickled simulation results\n",
    "simulation_results = pd.read_pickle(\"../results/countries_simulation_results.pkl\")\n",
    "\n",
    "# Calculate country_pop_piped for each dataframe in simulation_results\n",
    "for df in simulation_results:\n",
    "    df[\"country_pop_piped\"] = df[\"country_pop_raw\"] * df[\"Nat Piped\"] / 100\n",
    "\n",
    "# Calculate global mean percentage for each access type for each simulation using list comprehension\n",
    "global_piped_access = [df[\"population_piped_with_access\"].sum() / df[\"country_pop_piped\"].sum() for df in simulation_results]\n",
    "global_piped_cycling_access = [df[\"population_piped_with_cycling_access\"].sum() / df[\"country_pop_piped\"].sum() for df in simulation_results]\n",
    "global_piped_walking_access = [df[\"population_piped_with_walking_access\"].sum() / df[\"country_pop_piped\"].sum() for df in simulation_results]\n",
    "global_piped_only_cycling_access = [(df[\"population_piped_with_access\"].sum() - df[\"population_piped_with_walking_access\"].sum()) / df[\"country_pop_piped\"].sum() for df in simulation_results]\n",
    "\n",
    "# Create subplots\n",
    "fig, axs = plt.subplots(2, 2, figsize=(12, 12))\n",
    "\n",
    "# Flatten axs for easy iteration\n",
    "axs = axs.flatten()\n",
    "\n",
    "# List of access types\n",
    "access_types = [global_piped_access, global_piped_walking_access, global_piped_cycling_access, global_piped_only_cycling_access]\n",
    "\n",
    "# List of titles\n",
    "titles = [\"(a) Global Piped Access\", \"(b) Global Piped Walking Access\", \"(c) Global Piped Cycling Access\", \"(d) Global Piped Only Cycling Access\"]\n",
    "\n",
    "# Plot histogram of results for each access type\n",
    "for i, ax in enumerate(axs):\n",
    "    # Calculate median, 5th percentile, and 95th percentile\n",
    "    median = np.median(access_types[i])\n",
    "    p5 = np.percentile(access_types[i], 5)\n",
    "    p95 = np.percentile(access_types[i], 95)\n",
    "\n",
    "    ax.hist(access_types[i], bins=100, alpha=0.7, color='c')\n",
    "    ax.set_xlim(0, 1)\n",
    "\n",
    "    # Add vertical lines for median, 5th percentile, and 95th percentile\n",
    "    ax.axvline(median, color='red', linestyle='dashed', linewidth=1)\n",
    "    ax.axvline(p5, color='blue', linestyle='dashed', linewidth=1)\n",
    "    ax.axvline(p95, color='blue', linestyle='dashed', linewidth=1)\n",
    "\n",
    "    # Set title and labels\n",
    "    ax.set_title(f\"{titles[i]}\", fontsize=14)\n",
    "\n",
    "# Set common x-axis label\n",
    "fig.text(0.5, 0.0, 'Percentage Access', ha='center', va='center', fontsize=14)\n",
    "fig.text(0.0, 0.5, 'Frequency', ha='center', va='center', rotation='vertical', fontsize=14)\n",
    "\n",
    "plt.tight_layout()\n",
    "if SAVE_FIGURES == True:\n",
    "    plt.savefig(\"../results/mc_distribution_piped_access.png\")\n",
    "plt.show()"
   ]
  },
  {
   "cell_type": "markdown",
   "metadata": {},
   "source": [
    "<div class=\"alert alert-info\">\n",
    "<h3> <b>4. Relationship between piped water access and GCIL water access </b> </h3>\n",
    "<a id=\"piped\"></a>\n",
    "</div>\n"
   ]
  },
  {
   "cell_type": "markdown",
   "metadata": {},
   "source": [
    "<div class=\"alert alert-success\">Quote from paper: \"Despite reliance on piped infrastructure being a risk factor for losing water access in GCIL at the individual level, this does not seem to inherently imply the same at the national level (Figure X). The median results had a Spearman correlation coefficient of 0.42 (p = X.XXX), indicating a moderate positive correlation.\""
   ]
  },
  {
   "cell_type": "code",
   "execution_count": 92,
   "metadata": {},
   "outputs": [
    {
     "data": {
      "application/vnd.plotly.v1+json": {
       "config": {
        "plotlyServerURL": "https://plot.ly"
       },
       "data": [
        {
         "hovertemplate": "<b>%{hovertext}</b><br><br>region=Asia<br>Nat Piped=%{x}<br>percent_without_water=%{y}<br>bubble_size=%{marker.size}<extra></extra>",
         "hovertext": [
          "Afghanistan",
          "United Arab Emirates",
          "Armenia",
          "Azerbaijan",
          "Bangladesh",
          "Brunei",
          "Bhutan",
          "China",
          "Georgia",
          "Hong Kong",
          "Indonesia",
          "India",
          "Iran",
          "Iraq",
          "Israel",
          "Jordan",
          "Japan",
          "Kazakhstan",
          "Kyrgyzstan",
          "Cambodia",
          "South Korea",
          "Kuwait",
          "Laos",
          "Lebanon",
          "Sri Lanka",
          "Myanmar",
          "Mongolia",
          "Malaysia",
          "Nepal",
          "Oman",
          "Pakistan",
          "Philippines",
          "North Korea",
          "Palestine",
          "Qatar",
          "Saudi Arabia",
          "Singapore",
          "Syria",
          "Thailand",
          "Tajikistan",
          "Turkmenistan",
          "Timor",
          "Turkey",
          "Taiwan",
          "Uzbekistan",
          "Vietnam",
          "Yemen"
         ],
         "legendgroup": "Asia",
         "marker": {
          "color": "#636efa",
          "size": [
           6311.531351423362,
           3160.8674442310926,
           1722.8255860649388,
           3197.396440856216,
           12895.871199729005,
           664.4787430761047,
           883.1194709664146,
           38002.843340992265,
           1994.9368411055023,
           2748.2357977437086,
           16624.13269918163,
           37328.394460517586,
           9221.104055372112,
           6417.113915149083,
           2964.7556391716334,
           3204.531479015302,
           11227.23456600066,
           4358.320548101069,
           2574.5576319049455,
           4116.606126410444,
           7162.76371242274,
           2080.517483704475,
           2716.4973771384357,
           2601.759212532935,
           4636.518737156144,
           7403.108401205537,
           1824.6320176956228,
           5725.049781442953,
           5447.469137131481,
           2285.4706298703554,
           15006.662820227553,
           10537.879767771125,
           5087.931308498572,
           2285.334986386022,
           1711.8773320539065,
           5944.802772169991,
           2428.3088765641,
           4275.009239756097,
           8363.662116561141,
           3122.4389505641257,
           2473.445572475772,
           1159.2562270697535,
           9221.86185105806,
           4884.15888357453,
           5825.44118500908,
           9908.018419441902,
           5521.832938436294
          ],
          "sizemode": "area",
          "sizeref": 95.00710835248066,
          "symbol": "circle"
         },
         "mode": "markers",
         "name": "Asia",
         "orientation": "v",
         "showlegend": true,
         "type": "scatter",
         "x": [
          22,
          100,
          100,
          91,
          15,
          100,
          100,
          80,
          82,
          100,
          35,
          44,
          99,
          83,
          100,
          89,
          98,
          81,
          94,
          32,
          100,
          91.5,
          31,
          89,
          39,
          33,
          25,
          95,
          50,
          96,
          26,
          66,
          100,
          54,
          100,
          84,
          100,
          71,
          81,
          65,
          52,
          66,
          95,
          86.1428571428571,
          70,
          48,
          56
         ],
         "xaxis": "x",
         "y": [
          31.34206210512185,
          99.96857262070932,
          32.63146413764025,
          27.66251898308075,
          7.717882829338171,
          26.522527708438016,
          50.92349859961537,
          23.1221036892028,
          23.847377830065863,
          81.28657727975525,
          15.720675774498284,
          17.8332546720954,
          57.96032223692261,
          30.862511678978127,
          78.64709602713347,
          64.66991454495766,
          19.64053789464301,
          36.14288853303167,
          30.69900730633268,
          17.540775730316817,
          34.25519928957068,
          92.0294160756311,
          19.8698064820172,
          61.10733232457496,
          30.73230925097884,
          24.84464945278194,
          30.491456785743598,
          36.02776683534702,
          14.443134503039625,
          84.35372194724633,
          11.54831661088694,
          21.13246769010719,
          30.78209120318422,
          58.86894521844651,
          85.30015578806233,
          83.67208546904057,
          56.73729361718111,
          49.29458130429205,
          19.232191252953896,
          43.13461829869295,
          16.154931553233116,
          80.70048204737543,
          38.97651981147211,
          22.7669194796162,
          27.64781315983512,
          10.205842103808322,
          56.73418285546407
         ],
         "yaxis": "y"
        },
        {
         "hovertemplate": "<b>%{hovertext}</b><br><br>region=Africa<br>Nat Piped=%{x}<br>percent_without_water=%{y}<br>bubble_size=%{marker.size}<extra></extra>",
         "hovertext": [
          "Angola",
          "Burundi",
          "Benin",
          "Burkina Faso",
          "Botswana",
          "Central African Republic",
          "Cote d'Ivoire",
          "Cameroon",
          "Democratic Republic of Congo",
          "Congo",
          "Djibouti",
          "Algeria",
          "Egypt",
          "Eritrea",
          "Western Sahara",
          "Ethiopia",
          "Gabon",
          "Ghana",
          "Guinea",
          "Gambia",
          "Guinea-Bissau",
          "Equatorial Guinea",
          "Kenya",
          "Liberia",
          "Libya",
          "Lesotho",
          "Morocco",
          "Madagascar",
          "Mali",
          "Mozambique",
          "Mauritania",
          "Mauritius",
          "Malawi",
          "Namibia",
          "Niger",
          "Nigeria",
          "Reunion",
          "Rwanda",
          "Sudan",
          "Senegal",
          "Sierra Leone",
          "Somalia",
          "South Sudan",
          "Sao Tome and Principe",
          "Eswatini",
          "Chad",
          "Togo",
          "Tunisia",
          "Tanzania",
          "Uganda",
          "South Africa",
          "Zambia",
          "Zimbabwe"
         ],
         "legendgroup": "Africa",
         "marker": {
          "color": "#EF553B",
          "size": [
           5825.256303374126,
           3500.775485517459,
           3528.601847757834,
           4636.496198639658,
           1548.3022960649512,
           2218.104370853635,
           5201.310315680079,
           5217.687418770887,
           9611.346731858132,
           2378.4484438389663,
           1001.0978973107475,
           6679.567800389483,
           10210.696695133001,
           1897.7518278215412,
           782.2224747474339,
           10857.081836294687,
           1509.5790804061908,
           5633.127728003334,
           3673.8585982587842,
           1577.0025364595963,
           1419.6795413050088,
           1204.1141972421055,
           7415.234453474819,
           2276.007029866121,
           2637.9040922671925,
           1469.376398340466,
           6111.0381278470195,
           5331.728894083044,
           4566.806761841363,
           5671.24721732354,
           2185.202507778169,
           1128.4626710706916,
           4432.570473213032,
           1608.522303233623,
           5013.063933364505,
           14539.625304663115,
           949.5767478197853,
           3643.69551417239,
           6701.443948881465,
           4146.8431366522655,
           2853.3038744585197,
           4044.687874237022,
           3373.6296477236506,
           472.6140074098524,
           1082.759899516047,
           4112.783120953499,
           2911.742090227086,
           3454.8175060341464,
           7842.09398056412,
           6864.658258063543,
           7748.677048374128,
           4349.788155761152,
           3884.8643476960683
          ],
          "sizemode": "area",
          "sizeref": 95.00710835248066,
          "symbol": "circle"
         },
         "mode": "markers",
         "name": "Africa",
         "orientation": "v",
         "showlegend": true,
         "type": "scatter",
         "x": [
          42,
          38,
          37,
          28,
          91,
          14,
          42,
          36,
          35,
          53,
          83,
          72,
          100,
          52,
          68.3333333333333,
          41,
          82,
          35,
          25,
          77,
          35,
          41,
          33,
          4,
          78,
          69,
          80,
          35,
          50,
          41,
          53,
          100,
          22,
          81,
          40,
          10,
          100,
          38,
          46,
          75,
          21,
          47,
          4,
          97,
          61,
          20,
          25,
          93,
          38,
          23,
          91,
          32,
          27
         ],
         "xaxis": "x",
         "y": [
          63.53279934692212,
          36.4115917676125,
          42.18734515051547,
          38.45297775033885,
          76.0967785469825,
          50.67109186791583,
          41.25885820598408,
          39.14258833933209,
          67.20502317998094,
          49.10010866831693,
          68.50495371164783,
          42.0077748273831,
          46.92488302992297,
          56.75795346552067,
          70.57127594793768,
          51.24056128159556,
          49.37660767615845,
          31.65929217593725,
          27.47405000540697,
          37.77150210107914,
          48.902920891547566,
          41.76397961240593,
          42.07495397075389,
          25.030914754102845,
          70.92845499804241,
          32.82775340777774,
          62.652218469198736,
          67.03459615973954,
          38.7618329330828,
          45.359475508781294,
          69.0808421414437,
          21.65241602587698,
          15.618108685031046,
          77.99309246327786,
          65.51484338029064,
          28.69944811022458,
          42.64887473791843,
          42.73306114901884,
          49.51701935803054,
          71.91913952936011,
          44.87094103394338,
          45.5212130299208,
          25.99272769937357,
          60.24333318443504,
          27.72096001255776,
          48.65087532809096,
          38.78209289958725,
          63.43277275026677,
          39.505076894779975,
          23.13321444536481,
          36.25451029471464,
          42.0002522009903,
          37.072467043056335
         ],
         "yaxis": "y"
        },
        {
         "hovertemplate": "<b>%{hovertext}</b><br><br>region=Europe<br>Nat Piped=%{x}<br>percent_without_water=%{y}<br>bubble_size=%{marker.size}<extra></extra>",
         "hovertext": [
          "Albania",
          "Andorra",
          "Austria",
          "Belgium",
          "Bulgaria",
          "Bosnia and Herzegovina",
          "Belarus",
          "Switzerland",
          "Cyprus",
          "Czechia",
          "Germany",
          "Denmark",
          "Spain",
          "Estonia",
          "Finland",
          "France",
          "Faeroe Islands",
          "United Kingdom",
          "Greece",
          "Croatia",
          "Hungary",
          "Isle of Man",
          "Ireland",
          "Iceland",
          "Italy",
          "Liechtenstein",
          "Lithuania",
          "Luxembourg",
          "Latvia",
          "Moldova",
          "North Macedonia",
          "Malta",
          "Montenegro",
          "Netherlands",
          "Norway",
          "Poland",
          "Portugal",
          "Romania",
          "Russia",
          "Serbia",
          "Slovakia",
          "Slovenia",
          "Sweden",
          "Ukraine"
         ],
         "legendgroup": "Europe",
         "marker": {
          "color": "#00cc96",
          "size": [
           1694.9731561296185,
           278.12587078515367,
           3007.1700982817715,
           3410.620764611627,
           2626.1483202591585,
           1806.504636030586,
           3072.9248282377494,
           2952.2015513849997,
           1102.5370742065775,
           3274.8363317882013,
           9159.720028472486,
           2411.0790115630803,
           6837.046950255643,
           1151.1681024072898,
           2355.495913815178,
           8088.644942139567,
           221.4791186545585,
           8258.759834260833,
           3220.3644203723284,
           2020.3111146553642,
           3103.8946502740714,
           292.2498930709813,
           2232.241922373111,
           585.9692824713596,
           7769.650635646368,
           195.5862980885931,
           1640.0798761036,
           796.7521571982093,
           1366.3579326077045,
           2005.9972582234502,
           1443.1427510818187,
           665.4246764285195,
           792.4966876902388,
           4144.043194755576,
           2337.868473631483,
           6147.926479716556,
           3188.718080984896,
           4373.5308390361215,
           12079.404869446178,
           2949.1603889920943,
           2336.8196336046135,
           1441.7777221194674,
           3187.5004313725194,
           6592.937281667406
          ],
          "sizemode": "area",
          "sizeref": 95.00710835248066,
          "symbol": "circle"
         },
         "mode": "markers",
         "name": "Europe",
         "orientation": "v",
         "showlegend": true,
         "type": "scatter",
         "x": [
          81,
          100,
          99.4285714285714,
          100,
          100,
          95,
          96,
          100,
          100,
          100,
          100,
          100,
          100,
          93,
          100,
          93,
          100,
          100,
          100,
          94.5,
          100,
          98,
          97,
          100,
          98,
          100,
          96,
          100,
          94,
          72,
          92,
          100,
          89,
          91,
          100,
          89,
          100,
          64,
          94,
          94,
          98,
          97.9821428571429,
          88,
          64
         ],
         "xaxis": "x",
         "y": [
          18.53325165978077,
          36.97870214420755,
          12.816588157146642,
          20.247020082770867,
          35.24522584983502,
          33.22187793999429,
          25.850909246188348,
          15.75652038911316,
          47.80524825847441,
          30.337778124688256,
          19.77949927655596,
          24.853185730333397,
          35.77224975101887,
          28.75794604057924,
          18.017174746704185,
          19.87795485506857,
          51.93361500020973,
          22.30300210962537,
          64.1746898802229,
          33.44220640147771,
          26.803279006371863,
          48.29441976320207,
          27.130758328800155,
          46.2200433884401,
          25.366683084497325,
          40,
          23.494420810957468,
          30.66487634235145,
          28.2731932969901,
          23.474734811156598,
          23.869779251471584,
          55.52409510682404,
          35.35309034955981,
          10.924989180961116,
          22.93574109086046,
          32.303609813670136,
          43.169346138375005,
          10.524349353175252,
          35.59559901491494,
          29.188137122931728,
          20.91793090159424,
          19.41323062264261,
          14.080898519425812,
          10.561001501043773
         ],
         "yaxis": "y"
        },
        {
         "hovertemplate": "<b>%{hovertext}</b><br><br>region=Americas<br>Nat Piped=%{x}<br>percent_without_water=%{y}<br>bubble_size=%{marker.size}<extra></extra>",
         "hovertext": [
          "Argentina",
          "Bahamas",
          "Belize",
          "Bolivia",
          "Brazil",
          "Canada",
          "Chile",
          "Colombia",
          "Costa Rica",
          "Cuba",
          "Dominican Republic",
          "Ecuador",
          "Falkland Islands",
          "Guadeloupe",
          "Grenada",
          "Greenland",
          "Guatemala",
          "French Guiana",
          "Guyana",
          "Honduras",
          "Haiti",
          "Jamaica",
          "Saint Lucia",
          "Mexico",
          "Montserrat",
          "Martinique",
          "Nicaragua",
          "Panama",
          "Peru",
          "Puerto Rico",
          "Paraguay",
          "El Salvador",
          "Suriname",
          "Trinidad and Tobago",
          "Uruguay",
          "United States",
          "Venezuela"
         ],
         "legendgroup": "Americas",
         "marker": {
          "color": "#ab63fa",
          "size": [
           6753.2083486295605,
           630.0111110131313,
           636.3293172564031,
           3439.903487018204,
           14628.514654605231,
           6169.920015689021,
           4383.19084686031,
           7160.016829589159,
           2266.947948233483,
           3364.1489265488826,
           3309.63955741407,
           4229.476799794509,
           59.39696961966999,
           632.4658093525688,
           336.17703669346605,
           238.47012391492564,
           4271.9864231994,
           553.579262617378,
           889.004499426184,
           3172.2222494648763,
           3397.3052556401226,
           1724.3729295022003,
           429.41937543618127,
           11413.24756587712,
           70.57619995437555,
           612.1625601096493,
           2588.895324264772,
           2093.2231128095254,
           5775.760988822166,
           1681.7389809361023,
           2686.9389646957,
           2553.1353273964933,
           769.284082767868,
           1184.6408738516495,
           1866.856180855933,
           18245.960484446965,
           5357.699786288888
          ],
          "sizemode": "area",
          "sizeref": 95.00710835248066,
          "symbol": "circle"
         },
         "mode": "markers",
         "name": "Americas",
         "orientation": "v",
         "showlegend": true,
         "type": "scatter",
         "x": [
          96,
          97,
          87,
          69,
          98,
          100,
          100,
          89,
          100,
          80,
          81,
          91,
          91,
          86.1428571428572,
          92,
          100,
          77,
          88,
          65,
          92,
          19,
          83,
          97,
          98,
          98,
          86.1428571428571,
          70,
          93,
          90,
          100,
          100,
          91,
          80,
          93,
          100,
          99,
          79
         ],
         "xaxis": "x",
         "y": [
          40.56951362458207,
          39.547223978408766,
          17.565796393638802,
          31.450012757111217,
          44.54514811999704,
          23.197922649937706,
          37.46323660749371,
          37.62892500095241,
          28.64967172094554,
          31.82545087567073,
          39.61044023954594,
          40.90944915122763,
          59.14275672602498,
          58.26827251355248,
          53.37459474216482,
          61.32396562708702,
          35.44404018950831,
          20.54876949498493,
          16.153652200787228,
          37.742854658754325,
          43.32575349242576,
          43.09453462193734,
          74.0130960688681,
          54.482695177977206,
          56.53775864446651,
          61.448998661488496,
          44.16135327756089,
          29.527681082348263,
          56.646198561172014,
          23.65367925460792,
          41.54195257387113,
          27.243772211458715,
          15.347531015010976,
          43.48818977744543,
          55.29493834044183,
          36.88056903108001,
          47.92217994742021
         ],
         "yaxis": "y"
        },
        {
         "hovertemplate": "<b>%{hovertext}</b><br><br>region=Oceania<br>Nat Piped=%{x}<br>percent_without_water=%{y}<br>bubble_size=%{marker.size}<extra></extra>",
         "hovertext": [
          "Australia",
          "Fiji",
          "New Caledonia",
          "New Zealand",
          "Papua New Guinea",
          "Solomon Islands",
          "Vanuatu",
          "Samoa"
         ],
         "legendgroup": "Oceania",
         "marker": {
          "color": "#FFA15A",
          "size": [
           5078.210019288293,
           950.209976794603,
           536.8584543434145,
           2204.6863722534326,
           3019.7690309028603,
           839.0440989602394,
           560.7708979610122,
           447.3745634253248
          ],
          "sizemode": "area",
          "sizeref": 95.00710835248066,
          "symbol": "circle"
         },
         "mode": "markers",
         "name": "Oceania",
         "orientation": "v",
         "showlegend": true,
         "type": "scatter",
         "x": [
          91,
          83,
          99,
          100,
          18,
          46,
          48,
          84
         ],
         "xaxis": "x",
         "y": [
          24.596050484025696,
          44.86417454902832,
          41.20406425067583,
          28.306227881161934,
          53.09228939470672,
          50.70594143686996,
          29.620225238678515,
          59.524552527008574
         ],
         "yaxis": "y"
        }
       ],
       "layout": {
        "font": {
         "size": 25
        },
        "height": 800,
        "legend": {
         "itemsizing": "constant",
         "title": {
          "text": "Region"
         },
         "tracegroupgap": 0
        },
        "margin": {
         "t": 60
        },
        "template": {
         "data": {
          "bar": [
           {
            "error_x": {
             "color": "#2a3f5f"
            },
            "error_y": {
             "color": "#2a3f5f"
            },
            "marker": {
             "line": {
              "color": "#E5ECF6",
              "width": 0.5
             },
             "pattern": {
              "fillmode": "overlay",
              "size": 10,
              "solidity": 0.2
             }
            },
            "type": "bar"
           }
          ],
          "barpolar": [
           {
            "marker": {
             "line": {
              "color": "#E5ECF6",
              "width": 0.5
             },
             "pattern": {
              "fillmode": "overlay",
              "size": 10,
              "solidity": 0.2
             }
            },
            "type": "barpolar"
           }
          ],
          "carpet": [
           {
            "aaxis": {
             "endlinecolor": "#2a3f5f",
             "gridcolor": "white",
             "linecolor": "white",
             "minorgridcolor": "white",
             "startlinecolor": "#2a3f5f"
            },
            "baxis": {
             "endlinecolor": "#2a3f5f",
             "gridcolor": "white",
             "linecolor": "white",
             "minorgridcolor": "white",
             "startlinecolor": "#2a3f5f"
            },
            "type": "carpet"
           }
          ],
          "choropleth": [
           {
            "colorbar": {
             "outlinewidth": 0,
             "ticks": ""
            },
            "type": "choropleth"
           }
          ],
          "contour": [
           {
            "colorbar": {
             "outlinewidth": 0,
             "ticks": ""
            },
            "colorscale": [
             [
              0,
              "#0d0887"
             ],
             [
              0.1111111111111111,
              "#46039f"
             ],
             [
              0.2222222222222222,
              "#7201a8"
             ],
             [
              0.3333333333333333,
              "#9c179e"
             ],
             [
              0.4444444444444444,
              "#bd3786"
             ],
             [
              0.5555555555555556,
              "#d8576b"
             ],
             [
              0.6666666666666666,
              "#ed7953"
             ],
             [
              0.7777777777777778,
              "#fb9f3a"
             ],
             [
              0.8888888888888888,
              "#fdca26"
             ],
             [
              1,
              "#f0f921"
             ]
            ],
            "type": "contour"
           }
          ],
          "contourcarpet": [
           {
            "colorbar": {
             "outlinewidth": 0,
             "ticks": ""
            },
            "type": "contourcarpet"
           }
          ],
          "heatmap": [
           {
            "colorbar": {
             "outlinewidth": 0,
             "ticks": ""
            },
            "colorscale": [
             [
              0,
              "#0d0887"
             ],
             [
              0.1111111111111111,
              "#46039f"
             ],
             [
              0.2222222222222222,
              "#7201a8"
             ],
             [
              0.3333333333333333,
              "#9c179e"
             ],
             [
              0.4444444444444444,
              "#bd3786"
             ],
             [
              0.5555555555555556,
              "#d8576b"
             ],
             [
              0.6666666666666666,
              "#ed7953"
             ],
             [
              0.7777777777777778,
              "#fb9f3a"
             ],
             [
              0.8888888888888888,
              "#fdca26"
             ],
             [
              1,
              "#f0f921"
             ]
            ],
            "type": "heatmap"
           }
          ],
          "heatmapgl": [
           {
            "colorbar": {
             "outlinewidth": 0,
             "ticks": ""
            },
            "colorscale": [
             [
              0,
              "#0d0887"
             ],
             [
              0.1111111111111111,
              "#46039f"
             ],
             [
              0.2222222222222222,
              "#7201a8"
             ],
             [
              0.3333333333333333,
              "#9c179e"
             ],
             [
              0.4444444444444444,
              "#bd3786"
             ],
             [
              0.5555555555555556,
              "#d8576b"
             ],
             [
              0.6666666666666666,
              "#ed7953"
             ],
             [
              0.7777777777777778,
              "#fb9f3a"
             ],
             [
              0.8888888888888888,
              "#fdca26"
             ],
             [
              1,
              "#f0f921"
             ]
            ],
            "type": "heatmapgl"
           }
          ],
          "histogram": [
           {
            "marker": {
             "pattern": {
              "fillmode": "overlay",
              "size": 10,
              "solidity": 0.2
             }
            },
            "type": "histogram"
           }
          ],
          "histogram2d": [
           {
            "colorbar": {
             "outlinewidth": 0,
             "ticks": ""
            },
            "colorscale": [
             [
              0,
              "#0d0887"
             ],
             [
              0.1111111111111111,
              "#46039f"
             ],
             [
              0.2222222222222222,
              "#7201a8"
             ],
             [
              0.3333333333333333,
              "#9c179e"
             ],
             [
              0.4444444444444444,
              "#bd3786"
             ],
             [
              0.5555555555555556,
              "#d8576b"
             ],
             [
              0.6666666666666666,
              "#ed7953"
             ],
             [
              0.7777777777777778,
              "#fb9f3a"
             ],
             [
              0.8888888888888888,
              "#fdca26"
             ],
             [
              1,
              "#f0f921"
             ]
            ],
            "type": "histogram2d"
           }
          ],
          "histogram2dcontour": [
           {
            "colorbar": {
             "outlinewidth": 0,
             "ticks": ""
            },
            "colorscale": [
             [
              0,
              "#0d0887"
             ],
             [
              0.1111111111111111,
              "#46039f"
             ],
             [
              0.2222222222222222,
              "#7201a8"
             ],
             [
              0.3333333333333333,
              "#9c179e"
             ],
             [
              0.4444444444444444,
              "#bd3786"
             ],
             [
              0.5555555555555556,
              "#d8576b"
             ],
             [
              0.6666666666666666,
              "#ed7953"
             ],
             [
              0.7777777777777778,
              "#fb9f3a"
             ],
             [
              0.8888888888888888,
              "#fdca26"
             ],
             [
              1,
              "#f0f921"
             ]
            ],
            "type": "histogram2dcontour"
           }
          ],
          "mesh3d": [
           {
            "colorbar": {
             "outlinewidth": 0,
             "ticks": ""
            },
            "type": "mesh3d"
           }
          ],
          "parcoords": [
           {
            "line": {
             "colorbar": {
              "outlinewidth": 0,
              "ticks": ""
             }
            },
            "type": "parcoords"
           }
          ],
          "pie": [
           {
            "automargin": true,
            "type": "pie"
           }
          ],
          "scatter": [
           {
            "fillpattern": {
             "fillmode": "overlay",
             "size": 10,
             "solidity": 0.2
            },
            "type": "scatter"
           }
          ],
          "scatter3d": [
           {
            "line": {
             "colorbar": {
              "outlinewidth": 0,
              "ticks": ""
             }
            },
            "marker": {
             "colorbar": {
              "outlinewidth": 0,
              "ticks": ""
             }
            },
            "type": "scatter3d"
           }
          ],
          "scattercarpet": [
           {
            "marker": {
             "colorbar": {
              "outlinewidth": 0,
              "ticks": ""
             }
            },
            "type": "scattercarpet"
           }
          ],
          "scattergeo": [
           {
            "marker": {
             "colorbar": {
              "outlinewidth": 0,
              "ticks": ""
             }
            },
            "type": "scattergeo"
           }
          ],
          "scattergl": [
           {
            "marker": {
             "colorbar": {
              "outlinewidth": 0,
              "ticks": ""
             }
            },
            "type": "scattergl"
           }
          ],
          "scattermapbox": [
           {
            "marker": {
             "colorbar": {
              "outlinewidth": 0,
              "ticks": ""
             }
            },
            "type": "scattermapbox"
           }
          ],
          "scatterpolar": [
           {
            "marker": {
             "colorbar": {
              "outlinewidth": 0,
              "ticks": ""
             }
            },
            "type": "scatterpolar"
           }
          ],
          "scatterpolargl": [
           {
            "marker": {
             "colorbar": {
              "outlinewidth": 0,
              "ticks": ""
             }
            },
            "type": "scatterpolargl"
           }
          ],
          "scatterternary": [
           {
            "marker": {
             "colorbar": {
              "outlinewidth": 0,
              "ticks": ""
             }
            },
            "type": "scatterternary"
           }
          ],
          "surface": [
           {
            "colorbar": {
             "outlinewidth": 0,
             "ticks": ""
            },
            "colorscale": [
             [
              0,
              "#0d0887"
             ],
             [
              0.1111111111111111,
              "#46039f"
             ],
             [
              0.2222222222222222,
              "#7201a8"
             ],
             [
              0.3333333333333333,
              "#9c179e"
             ],
             [
              0.4444444444444444,
              "#bd3786"
             ],
             [
              0.5555555555555556,
              "#d8576b"
             ],
             [
              0.6666666666666666,
              "#ed7953"
             ],
             [
              0.7777777777777778,
              "#fb9f3a"
             ],
             [
              0.8888888888888888,
              "#fdca26"
             ],
             [
              1,
              "#f0f921"
             ]
            ],
            "type": "surface"
           }
          ],
          "table": [
           {
            "cells": {
             "fill": {
              "color": "#EBF0F8"
             },
             "line": {
              "color": "white"
             }
            },
            "header": {
             "fill": {
              "color": "#C8D4E3"
             },
             "line": {
              "color": "white"
             }
            },
            "type": "table"
           }
          ]
         },
         "layout": {
          "annotationdefaults": {
           "arrowcolor": "#2a3f5f",
           "arrowhead": 0,
           "arrowwidth": 1
          },
          "autotypenumbers": "strict",
          "coloraxis": {
           "colorbar": {
            "outlinewidth": 0,
            "ticks": ""
           }
          },
          "colorscale": {
           "diverging": [
            [
             0,
             "#8e0152"
            ],
            [
             0.1,
             "#c51b7d"
            ],
            [
             0.2,
             "#de77ae"
            ],
            [
             0.3,
             "#f1b6da"
            ],
            [
             0.4,
             "#fde0ef"
            ],
            [
             0.5,
             "#f7f7f7"
            ],
            [
             0.6,
             "#e6f5d0"
            ],
            [
             0.7,
             "#b8e186"
            ],
            [
             0.8,
             "#7fbc41"
            ],
            [
             0.9,
             "#4d9221"
            ],
            [
             1,
             "#276419"
            ]
           ],
           "sequential": [
            [
             0,
             "#0d0887"
            ],
            [
             0.1111111111111111,
             "#46039f"
            ],
            [
             0.2222222222222222,
             "#7201a8"
            ],
            [
             0.3333333333333333,
             "#9c179e"
            ],
            [
             0.4444444444444444,
             "#bd3786"
            ],
            [
             0.5555555555555556,
             "#d8576b"
            ],
            [
             0.6666666666666666,
             "#ed7953"
            ],
            [
             0.7777777777777778,
             "#fb9f3a"
            ],
            [
             0.8888888888888888,
             "#fdca26"
            ],
            [
             1,
             "#f0f921"
            ]
           ],
           "sequentialminus": [
            [
             0,
             "#0d0887"
            ],
            [
             0.1111111111111111,
             "#46039f"
            ],
            [
             0.2222222222222222,
             "#7201a8"
            ],
            [
             0.3333333333333333,
             "#9c179e"
            ],
            [
             0.4444444444444444,
             "#bd3786"
            ],
            [
             0.5555555555555556,
             "#d8576b"
            ],
            [
             0.6666666666666666,
             "#ed7953"
            ],
            [
             0.7777777777777778,
             "#fb9f3a"
            ],
            [
             0.8888888888888888,
             "#fdca26"
            ],
            [
             1,
             "#f0f921"
            ]
           ]
          },
          "colorway": [
           "#636efa",
           "#EF553B",
           "#00cc96",
           "#ab63fa",
           "#FFA15A",
           "#19d3f3",
           "#FF6692",
           "#B6E880",
           "#FF97FF",
           "#FECB52"
          ],
          "font": {
           "color": "#2a3f5f"
          },
          "geo": {
           "bgcolor": "white",
           "lakecolor": "white",
           "landcolor": "#E5ECF6",
           "showlakes": true,
           "showland": true,
           "subunitcolor": "white"
          },
          "hoverlabel": {
           "align": "left"
          },
          "hovermode": "closest",
          "mapbox": {
           "style": "light"
          },
          "paper_bgcolor": "white",
          "plot_bgcolor": "#E5ECF6",
          "polar": {
           "angularaxis": {
            "gridcolor": "white",
            "linecolor": "white",
            "ticks": ""
           },
           "bgcolor": "#E5ECF6",
           "radialaxis": {
            "gridcolor": "white",
            "linecolor": "white",
            "ticks": ""
           }
          },
          "scene": {
           "xaxis": {
            "backgroundcolor": "#E5ECF6",
            "gridcolor": "white",
            "gridwidth": 2,
            "linecolor": "white",
            "showbackground": true,
            "ticks": "",
            "zerolinecolor": "white"
           },
           "yaxis": {
            "backgroundcolor": "#E5ECF6",
            "gridcolor": "white",
            "gridwidth": 2,
            "linecolor": "white",
            "showbackground": true,
            "ticks": "",
            "zerolinecolor": "white"
           },
           "zaxis": {
            "backgroundcolor": "#E5ECF6",
            "gridcolor": "white",
            "gridwidth": 2,
            "linecolor": "white",
            "showbackground": true,
            "ticks": "",
            "zerolinecolor": "white"
           }
          },
          "shapedefaults": {
           "line": {
            "color": "#2a3f5f"
           }
          },
          "ternary": {
           "aaxis": {
            "gridcolor": "white",
            "linecolor": "white",
            "ticks": ""
           },
           "baxis": {
            "gridcolor": "white",
            "linecolor": "white",
            "ticks": ""
           },
           "bgcolor": "#E5ECF6",
           "caxis": {
            "gridcolor": "white",
            "linecolor": "white",
            "ticks": ""
           }
          },
          "title": {
           "x": 0.05
          },
          "xaxis": {
           "automargin": true,
           "gridcolor": "white",
           "linecolor": "white",
           "ticks": "",
           "title": {
            "standoff": 15
           },
           "zerolinecolor": "white",
           "zerolinewidth": 2
          },
          "yaxis": {
           "automargin": true,
           "gridcolor": "white",
           "linecolor": "white",
           "ticks": "",
           "title": {
            "standoff": 15
           },
           "zerolinecolor": "white",
           "zerolinewidth": 2
          }
         }
        },
        "width": 1200,
        "xaxis": {
         "anchor": "y",
         "domain": [
          0,
          1
         ],
         "title": {
          "text": "Country piped water access (%)"
         }
        },
        "yaxis": {
         "anchor": "x",
         "domain": [
          0,
          1
         ],
         "title": {
          "text": "Country population without access to water (%)"
         }
        }
       }
      }
     },
     "metadata": {},
     "output_type": "display_data"
    }
   ],
   "source": [
    "# Piped water access by country\n",
    "# create bubble chart from df_countries comprising: access to water, piped water, and using population as the size of the bubble\n",
    "# create a new column for the size of the bubble\n",
    "\n",
    "# create bubble size column with square root transformation for improved visuals\n",
    "country_medians[\"bubble_size\"] = country_medians[\"country_pop_raw\"] **0.5\n",
    "\n",
    "px.scatter(\n",
    "    country_medians, \n",
    "    y=\"percent_without_water\", \n",
    "    x=\"Nat Piped\", \n",
    "    size=\"bubble_size\", \n",
    "    color=\"region\", \n",
    "    hover_name=\"Entity\", \n",
    "    # title=\"Access to Water vs. Piped Water vs. Population\",\n",
    ").update_layout(\n",
    "    yaxis_title=\"Country population without access to water (%)\",\n",
    "    xaxis_title=\"Country piped water access (%)\",\n",
    "    legend_title=\"Region\",\n",
    "    width=1200,\n",
    "    height=800,\n",
    "    font=dict(size=25),\n",
    "    # xaxis_tickangle=-45,\n",
    "    # yaxis=dict(tickfont=dict(size=2)),\n",
    "    # title=dict(font=dict(size=20)),\n",
    ")"
   ]
  },
  {
   "cell_type": "code",
   "execution_count": 93,
   "metadata": {},
   "outputs": [
    {
     "name": "stdout",
     "output_type": "stream",
     "text": [
      "Spearman correlation between percent_without_water and Nat Piped (median) using scipy: SignificanceResult(statistic=0.032926907717905345, pvalue=0.652862490025901)\n",
      "Spearman correlation between percent_without_water and Nat Piped (5th) using scipy: SignificanceResult(statistic=-0.17356985101387062, pvalue=0.016916425367349656)\n",
      "Spearman correlation between percent_without_water and Nat Piped (95th) using scipy: SignificanceResult(statistic=0.39243541938494436, pvalue=2.337271256339623e-08)\n"
     ]
    }
   ],
   "source": [
    "# Check for correlation using median, 5th, and 95th percentiles\n",
    "correlation_scipy = spearmanr(country_medians[\"percent_without_water\"], country_medians[\"Nat Piped\"])\n",
    "correlation_5th_scipy = spearmanr(country_5th_percentiles[\"percent_without_water\"], country_5th_percentiles[\"Nat Piped\"])\n",
    "correlation_95th_scipy = spearmanr(country_95th_percentiles[\"percent_without_water\"], country_95th_percentiles[\"Nat Piped\"])\n",
    "print(f\"Spearman correlation between percent_without_water and Nat Piped (median) using scipy: {correlation_scipy}\")\n",
    "print(f\"Spearman correlation between percent_without_water and Nat Piped (5th) using scipy: {correlation_5th_scipy}\")\n",
    "print(f\"Spearman correlation between percent_without_water and Nat Piped (95th) using scipy: {correlation_95th_scipy}\")"
   ]
  },
  {
   "cell_type": "markdown",
   "metadata": {},
   "source": [
    "<div class=\"alert alert-warning\">That seems perplexing! It may be more robust to check all correlations and create confidence intervals from them. Let's check all correlations for robustness:\n"
   ]
  },
  {
   "cell_type": "code",
   "execution_count": 94,
   "metadata": {},
   "outputs": [
    {
     "name": "stdout",
     "output_type": "stream",
     "text": [
      "Statistics:\n",
      "Median:  0.03474282837608743\n",
      "5th percentile:  -0.16471436762313488\n",
      "95th percentile:  0.3826995383476779\n",
      "\n",
      "P-values:\n",
      "Median:  0.1388833972849039\n",
      "5th percentile:  5.589084469434598e-08\n",
      "95th percentile:  0.8934326026330528\n"
     ]
    }
   ],
   "source": [
    "# Calculate Spearman correlation for each DataFrame in the list\n",
    "correlations = [spearmanr(df[\"percent_without_water\"], df[\"Nat Piped\"]) for df in simulation_results]\n",
    "\n",
    "# Extract correlation statistics and p-values\n",
    "statistics = [corr.correlation for corr in correlations]\n",
    "pvalues = [corr.pvalue for corr in correlations]\n",
    "\n",
    "# Calculate median, 5th and 95th percentiles for statistics\n",
    "statistics_median = np.median(statistics)\n",
    "statistics_5th = np.percentile(statistics, 5)\n",
    "statistics_95th = np.percentile(statistics, 95)\n",
    "\n",
    "# Calculate median, 5th and 95th percentiles for pvalues\n",
    "pvalues_median = np.median(pvalues)\n",
    "pvalues_5th = np.percentile(pvalues, 5)\n",
    "pvalues_95th = np.percentile(pvalues, 95)\n",
    "\n",
    "print(\"Statistics:\")\n",
    "print(\"Median: \", statistics_median)\n",
    "print(\"5th percentile: \", statistics_5th)\n",
    "print(\"95th percentile: \", statistics_95th)\n",
    "\n",
    "print(\"\\nP-values:\")\n",
    "print(\"Median: \", pvalues_median)\n",
    "print(\"5th percentile: \", pvalues_5th)\n",
    "print(\"95th percentile: \", pvalues_95th)"
   ]
  },
  {
   "cell_type": "code",
   "execution_count": 95,
   "metadata": {},
   "outputs": [
    {
     "data": {
      "image/png": "[encoded data removed]",
      "text/plain": [
       "<Figure size 1200x600 with 2 Axes>"
      ]
     },
     "metadata": {},
     "output_type": "display_data"
    }
   ],
   "source": [
    "# Create a new figure\n",
    "plt.figure(figsize=(12, 6))\n",
    "\n",
    "# Create a subplot for correlations\n",
    "plt.subplot(1, 2, 1)\n",
    "plt.hist(statistics, bins=30, color='c', edgecolor='black')\n",
    "plt.axvline(statistics_median, color='r', linestyle='dashed', linewidth=2)\n",
    "plt.axvline(statistics_5th, color='b', linestyle='dashed', linewidth=2)\n",
    "plt.axvline(statistics_95th, color='b', linestyle='dashed', linewidth=2)\n",
    "plt.title('Correlations')\n",
    "plt.xlabel('Correlation')\n",
    "plt.ylabel('Frequency')\n",
    "\n",
    "# Create a subplot for p-values\n",
    "plt.subplot(1, 2, 2)\n",
    "plt.hist(pvalues, bins=30, color='m', edgecolor='black')\n",
    "plt.axvline(pvalues_median, color='r', linestyle='dashed', linewidth=2)\n",
    "plt.axvline(pvalues_5th, color='b', linestyle='dashed', linewidth=2)\n",
    "plt.axvline(pvalues_95th, color='b', linestyle='dashed', linewidth=2)\n",
    "plt.title('P-values')\n",
    "plt.xlabel('P-value')\n",
    "plt.ylabel('Frequency')\n",
    "\n",
    "# Show the plot\n",
    "plt.tight_layout()\n",
    "plt.show()"
   ]
  }
 ],
 "metadata": {
  "kernelspec": {
   "display_name": "water-access",
   "language": "python",
   "name": "python3"
  },
  "language_info": {
   "codemirror_mode": {
    "name": "ipython",
    "version": 3
   },
   "file_extension": ".py",
   "mimetype": "text/x-python",
   "name": "python",
   "nbconvert_exporter": "python",
   "pygments_lexer": "ipython3",
   "version": "3.9.18"
  }
 },
 "nbformat": 4,
 "nbformat_minor": 2
}
