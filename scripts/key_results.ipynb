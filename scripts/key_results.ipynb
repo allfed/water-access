{
 "cells": [
  {
   "cell_type": "markdown",
   "metadata": {},
   "source": [
    "<div class=\"alert alert-info\">\n",
    "<h1> <b>Key Results</b> </h1>\n",
    "<br>\n",
    "Takes in results of Monte Carlo simulations and generates key results used in the paper. <br>\n",
    "Quotes are provided to give context for how results are used in the final publication\n",
    "</div>"
   ]
  },
  {
   "cell_type": "markdown",
   "metadata": {},
   "source": [
    "<div class=\"alert alert-info\">\n",
    "<b>Table of Contents</b> <br><br>\n",
    "1. <a href=\"#choropleths\">Data for Choropleths</a> <br>\n",
    "2. <a href=\"#overall\">Overall Access Numbers</a> <br>\n",
    "3. <a href=\"#cycling_walking\">Cycling vs Walking</a> <br>\n",
    "4. <a href=\"#piped\">Relationship between piped access and GCIL water access</a>\n",
    "</div>"
   ]
  },
  {
   "cell_type": "code",
   "execution_count": 30,
   "metadata": {},
   "outputs": [],
   "source": [
    "import pathlib\n",
    "import pandas as pd\n",
    "import numpy as np\n",
    "import matplotlib.pyplot as plt\n",
    "import plotly.express as px\n",
    "import weightedstats as ws\n",
    "from tabulate import tabulate\n",
    "from scipy.stats import spearmanr"
   ]
  },
  {
   "cell_type": "code",
   "execution_count": 31,
   "metadata": {},
   "outputs": [],
   "source": [
    "# Read country-level results from Monte Carlo sims\n",
    "country_medians = pd.read_csv(\"../results/country_median_results.csv\")\n",
    "country_means = pd.read_csv(\"../results/country_mean_results.csv\")\n",
    "country_5th_percentiles = pd.read_csv(\"../results/country_5th_percentile_results.csv\")\n",
    "country_95th_percentiles = pd.read_csv(\"../results/country_95th_percentile_results.csv\")\n",
    "\n",
    "# Read district-level results from Monte Carlo sims\n",
    "district_medians = pd.read_csv(\"../results/districts_median_results.csv\")\n",
    "district_means = pd.read_csv(\"../results/districts_mean_results.csv\")\n",
    "district_5th_percentiles = pd.read_csv(\"../results/districts_5th_percentile_results.csv\")\n",
    "district_95th_percentiles = pd.read_csv(\"../results/districts_95th_percentile_results.csv\")\n",
    "\n",
    "\n",
    "# Drop global from all dataframes\n",
    "country_medians = country_medians[country_medians[\"ISOCODE\"] != \"GLOBAL\"]\n",
    "country_means = country_means[country_means[\"ISOCODE\"] != \"GLOBAL\"]\n",
    "country_5th_percentiles = country_5th_percentiles[country_5th_percentiles[\"ISOCODE\"] != \"GLOBAL\"]\n",
    "country_95th_percentiles = country_95th_percentiles[country_95th_percentiles[\"ISOCODE\"] != \"GLOBAL\"]\n",
    "# No need to drop from district-level dataframes as they don't have a global entry\n"
   ]
  },
  {
   "cell_type": "code",
   "execution_count": 60,
   "metadata": {},
   "outputs": [],
   "source": [
    "# merge csvs\n",
    "\n",
    "# Read the CSV files\n",
    "median_df = country_medians\n",
    "p5_df = country_5th_percentiles\n",
    "p95_df = country_95th_percentiles\n",
    "output_file = 'country_CI_results.csv'\n",
    "\n",
    "\n",
    "\n",
    "# Function to rename columns (excluding identifiers)\n",
    "def rename_columns(df, suffix):\n",
    "    cols = df.columns.tolist()\n",
    "    rename_dict = {}\n",
    "    for col in cols:\n",
    "        if col not in ['ISOCODE', 'Entity', 'region', 'subregion']:\n",
    "            rename_dict[col] = f\"{col}_{suffix}\"\n",
    "    df = df.rename(columns=rename_dict)\n",
    "    return df\n",
    "\n",
    "# Rename columns in each DataFrame\n",
    "median_df = rename_columns(median_df, 'median')\n",
    "p5_df = rename_columns(p5_df, 'p5')\n",
    "p95_df = rename_columns(p95_df, 'p95')\n",
    "\n",
    "# Merge the DataFrames on common identifiers\n",
    "df = median_df.merge(p5_df, on=['ISOCODE', 'Entity', 'region', 'subregion'])\n",
    "df = df.merge(p95_df, on=['ISOCODE', 'Entity', 'region', 'subregion'])\n",
    "\n",
    "# List of metrics to calculate CI for\n",
    "metrics = [\n",
    "    'percent_with_water',\n",
    "    'percent_without_water',\n",
    "    'percent_piped_with_cycling_access',\n",
    "    'percent_piped_with_walking_access',\n",
    "    'percent_with_only_cycling_access',\n",
    "    # Add other metrics as needed\n",
    "]\n",
    "\n",
    "# Initialize a new DataFrame to store results\n",
    "results_df = pd.DataFrame()\n",
    "results_df['ISOCODE'] = df['ISOCODE']\n",
    "results_df['Entity'] = df['Entity']\n",
    "results_df['region'] = df['region']\n",
    "results_df['subregion'] = df['subregion']\n",
    "\n",
    "# For each metric, add median values and CI strings\n",
    "for metric in metrics:\n",
    "    median_col = metric + '_median'\n",
    "    p5_col = metric + '_p5'\n",
    "    p95_col = metric + '_p95'\n",
    "\n",
    "    # Extract the median, p5, and p95 values\n",
    "    median_values = df[median_col]\n",
    "    p5_values = df[p5_col]\n",
    "    p95_values = df[p95_col]\n",
    "\n",
    "    # Add the median values as numeric columns\n",
    "    results_df[metric + '_median'] = median_values\n",
    "\n",
    "    # Create the CI string\n",
    "    ci_strings = median_values.round(1).astype(str) + '% (90% CI ' + \\\n",
    "                 p5_values.round(1).astype(str) + '–' + \\\n",
    "                 p95_values.round(1).astype(str) + '%)'\n",
    "\n",
    "    # Add the formatted string to the results DataFrame\n",
    "    results_df[metric + '_CI'] = ci_strings\n",
    "\n",
    "# Save the results to a CSV file\n",
    "results_df.to_csv(output_file, index=False)"
   ]
  },
  {
   "cell_type": "code",
   "execution_count": 32,
   "metadata": {},
   "outputs": [],
   "source": [
    "# Constants to save new results (will overwrite existing results)\n",
    "SAVE_CSVS = True\n",
    "SAVE_FIGURES = True"
   ]
  },
  {
   "cell_type": "code",
   "execution_count": null,
   "metadata": {},
   "outputs": [
    {
     "name": "stdout",
     "output_type": "stream",
     "text": [
      "             median  5th_percentile  95th_percentile formatted_results\n",
      "region                                                                \n",
      "Americas  36.666757       24.485413        50.360961  36.7 (24.5–50.4)\n",
      "Europe    23.061363       10.941837        38.306181  23.1 (10.9–38.3)\n",
      "Africa    22.288981       15.517477        29.501465  22.3 (15.5–29.5)\n",
      "Asia      20.120619       12.260690        29.691903  20.1 (12.3–29.7)\n",
      "Oceania   17.525905        8.916453        30.022932   17.5 (8.9–30.0)\n",
      "                                    median  5th_percentile  95th_percentile  \\\n",
      "subregion                                                                     \n",
      "Polynesia                        66.882198       40.664423        83.660958   \n",
      "Western Asia                     53.312044       41.873904        64.946767   \n",
      "Northern Africa                  44.549014       33.526680        59.410527   \n",
      "Latin America and the Caribbean  39.630450       27.155746        53.267933   \n",
      "Northern America                 31.437154       19.773460        45.231446   \n",
      "Southern Europe                  29.497759       18.084990        45.342936   \n",
      "Central Asia                     28.575002       18.860589        42.508636   \n",
      "Eastern Europe                   27.080780       12.309020        43.756806   \n",
      "Australia and New Zealand        20.926584       11.513977        36.232207   \n",
      "Micronesia                       20.562890       14.080190        24.948377   \n",
      "Eastern Asia                     19.771576       10.534551        31.915879   \n",
      "Northern Europe                  18.357225        6.691003        33.250593   \n",
      "Southern Asia                    17.594493       10.996998        25.116983   \n",
      "Sub-Saharan Africa               17.308107       11.487764        22.809056   \n",
      "Western Europe                   14.655181        5.690868        27.496867   \n",
      "South-eastern Asia               13.889788        7.439188        21.705772   \n",
      "Melanesia                         7.185623        1.121498        11.821511   \n",
      "\n",
      "                                formatted_results  \n",
      "subregion                                          \n",
      "Polynesia                        66.9 (40.7–83.7)  \n",
      "Western Asia                     53.3 (41.9–64.9)  \n",
      "Northern Africa                  44.5 (33.5–59.4)  \n",
      "Latin America and the Caribbean  39.6 (27.2–53.3)  \n",
      "Northern America                 31.4 (19.8–45.2)  \n",
      "Southern Europe                  29.5 (18.1–45.3)  \n",
      "Central Asia                     28.6 (18.9–42.5)  \n",
      "Eastern Europe                   27.1 (12.3–43.8)  \n",
      "Australia and New Zealand        20.9 (11.5–36.2)  \n",
      "Micronesia                       20.6 (14.1–24.9)  \n",
      "Eastern Asia                     19.8 (10.5–31.9)  \n",
      "Northern Europe                   18.4 (6.7–33.3)  \n",
      "Southern Asia                    17.6 (11.0–25.1)  \n",
      "Sub-Saharan Africa               17.3 (11.5–22.8)  \n",
      "Western Europe                    14.7 (5.7–27.5)  \n",
      "South-eastern Asia                13.9 (7.4–21.7)  \n",
      "Melanesia                          7.2 (1.1–11.8)  \n"
     ]
    }
   ],
   "source": [
    "# Define a function to calculate percent without water\n",
    "def calculate_percent(df, group):\n",
    "    data = df.groupby(group).sum()\n",
    "    percent_without_water = (data['country_pop_without_water'] / data['country_pop_raw']) * 100\n",
    "    return percent_without_water\n",
    "\n",
    "# Calculate percent without water for each DataFrame\n",
    "region_percent_without_water_median = calculate_percent(country_medians, \"region\")\n",
    "region_percent_without_water_5th = calculate_percent(country_5th_percentiles, \"region\")\n",
    "region_percent_without_water_95th = calculate_percent(country_95th_percentiles, \"region\")\n",
    "\n",
    "# Merge results into a single DataFrame\n",
    "region_percent_without_water = pd.DataFrame({\n",
    "    'median': region_percent_without_water_median,\n",
    "    '5th_percentile': region_percent_without_water_5th,\n",
    "    '95th_percentile': region_percent_without_water_95th\n",
    "})\n",
    "\n",
    "# Repeat for subregions\n",
    "subregion_percent_without_water_median = calculate_percent(country_medians, \"subregion\")\n",
    "subregion_percent_without_water_5th = calculate_percent(country_5th_percentiles, \"subregion\")\n",
    "subregion_percent_without_water_95th = calculate_percent(country_95th_percentiles, \"subregion\")\n",
    "\n",
    "# Merge results into a single DataFrame\n",
    "subregion_percent_without_water = pd.DataFrame({\n",
    "    'median': subregion_percent_without_water_median,\n",
    "    '5th_percentile': subregion_percent_without_water_5th,\n",
    "    '95th_percentile': subregion_percent_without_water_95th\n",
    "})\n",
    "\n",
    "# Define formatting function\n",
    "def format_results(row):\n",
    "    median = round(row['median'], 1)\n",
    "    p5th = round(row['5th_percentile'], 1)\n",
    "    p95th = round(row['95th_percentile'], 1)\n",
    "    return f\"{median} ({p5th}–{p95th})\"\n",
    "\n",
    "# Apply formatting function to each row\n",
    "region_percent_without_water['formatted_results'] = region_percent_without_water.apply(format_results, axis=1)\n",
    "subregion_percent_without_water['formatted_results'] = subregion_percent_without_water.apply(format_results, axis=1)\n",
    "\n",
    "# Print results\n",
    "print(region_percent_without_water.sort_values(by='median', ascending=False))\n",
    "print(subregion_percent_without_water.sort_values(by='median', ascending=False))\n",
    "\n",
    "region_percent_without_water.to_csv(\"../results/region_results.csv\", index=True)\n",
    "subregion_percent_without_water.to_csv(\"../results/subregion_results.csv\", index=True)"
   ]
  },
  {
   "cell_type": "markdown",
   "metadata": {},
   "source": [
    "<div class=\"alert alert-info\">\n",
    "<h3> <b>1. Data for Choropleths </b> </h3>\n",
    "<a id=\"choropleths\"></a>\n",
    "Simplified data to export to Datawrapper for making maps of water access loss in GCIL.\n",
    "</div>"
   ]
  },
  {
   "cell_type": "code",
   "execution_count": 33,
   "metadata": {},
   "outputs": [],
   "source": [
    "country_medians_simple = country_medians[[\"ISOCODE\", \"Entity\", \"percent_without_water\"]]\n",
    "venezuela_medians = district_medians[district_medians[\"Entity\"] == \"Venezuela\"]\n",
    "venezuela_medians_simple = venezuela_medians[[\"shapeName\", \"percent_without_water\"]]\n",
    "\n",
    "if SAVE_CSVS == True:\n",
    "    country_medians_simple.to_csv(\"../results/country_medians_simple.csv\", index=False)\n",
    "    country_medians_simple.to_csv(\"../results/venezulea_means_simple.csv\", index=False)"
   ]
  },
  {
   "cell_type": "markdown",
   "metadata": {},
   "source": [
    "<div class=\"alert alert-info\">\n",
    "<h3> <b>2. Overall Access Numbers </b> </h3>\n",
    "<a id=\"overall\"></a>\n",
    "Overall access (walking and cycling) for the world, and select countries\n",
    "</div>"
   ]
  },
  {
   "cell_type": "code",
   "execution_count": 34,
   "metadata": {},
   "outputs": [],
   "source": [
    "#add required extras\n",
    "country_means[\"percent_piped_with_access\"] = country_means[\"population_piped_with_access\"] / country_means[\"country_pop_raw\"] * 100\n",
    "country_means[\"piped_calculated\"] = country_means[\"percent_without_water\"] + country_means[\"percent_piped_with_access\"]\n",
    "\n",
    "# Add required extras for 5th percentiles\n",
    "country_5th_percentiles[\"percent_piped_with_access\"] = country_5th_percentiles[\"population_piped_with_access\"] / country_5th_percentiles[\"country_pop_raw\"] * 100\n",
    "country_5th_percentiles[\"piped_calculated\"] = country_5th_percentiles[\"percent_without_water\"] + country_5th_percentiles[\"percent_piped_with_access\"]\n",
    "\n",
    "# Add required extras for 95th percentiles\n",
    "country_95th_percentiles[\"percent_piped_with_access\"] = country_95th_percentiles[\"population_piped_with_access\"] / country_95th_percentiles[\"country_pop_raw\"] * 100\n",
    "country_95th_percentiles[\"piped_calculated\"] = country_95th_percentiles[\"percent_without_water\"] + country_95th_percentiles[\"percent_piped_with_access\"]\n",
    "\n",
    "\n",
    "country_medians[\"percent_piped_with_access\"] = country_medians[\"population_piped_with_access\"] / country_medians[\"country_pop_raw\"] * 100\n",
    "country_medians[\"piped_calculated\"] = country_medians[\"percent_without_water\"] + country_medians[\"percent_piped_with_access\"]\n"
   ]
  },
  {
   "cell_type": "markdown",
   "metadata": {},
   "source": [
    "<div class=\"alert alert-success\"> Quote from paper: \"Globally, the median model results indicate that <b>29% (90% CI 21–41%)</b> of the world population would be unable to access sufficient water in the aftermath of a GCIL scenario (Figure 3).\""
   ]
  },
  {
   "cell_type": "code",
   "execution_count": 35,
   "metadata": {},
   "outputs": [
    {
     "name": "stdout",
     "output_type": "stream",
     "text": [
      "Global median percentage without water: 0.2292848581237949\n",
      "Global 5th percentile percentage without water: 0.14284144912791183\n",
      "Global 95th percentile percentage without water: 0.3318259475291271\n",
      "\n",
      "Global median percentage with water: 0.7705763048908014\n",
      "\n"
     ]
    }
   ],
   "source": [
    "# Overall global population without water\n",
    "global_median_percentage_without_water = country_medians[\"country_pop_without_water\"].sum() / country_medians[\"country_pop_raw\"].sum()\n",
    "global_5th_percentage_without_water = country_5th_percentiles[\"country_pop_without_water\"].sum() / country_5th_percentiles[\"country_pop_raw\"].sum()\n",
    "global_95th_percentage_without_water = country_95th_percentiles[\"country_pop_without_water\"].sum() / country_95th_percentiles[\"country_pop_raw\"].sum()\n",
    "\n",
    "global_median_percentage_with_water = country_medians[\"country_pop_with_water\"].sum() / country_medians[\"country_pop_raw\"].sum()\n",
    "\n",
    "# Print overall results\n",
    "print(f\"Global median percentage without water: {global_median_percentage_without_water}\")\n",
    "print(f\"Global 5th percentile percentage without water: {global_5th_percentage_without_water}\")\n",
    "print(f\"Global 95th percentile percentage without water: {global_95th_percentage_without_water}\")\n",
    "\n",
    "# sense check with percentage with water\n",
    "print(\"\")\n",
    "print(f\"Global median percentage with water: {global_median_percentage_with_water}\")\n",
    "print(\"\")"
   ]
  },
  {
   "cell_type": "markdown",
   "metadata": {},
   "source": [
    "<div class=\"alert alert-success\"> Quote from paper: \"Of the <b>71%</b> with water access, <b>56% (90% CI 48–60%)</b> usually rely on piped water and would therefore have to walk or cycle to a freshwater source, while the remainder would, in theory, continue to use their non-piped sources.\""
   ]
  },
  {
   "cell_type": "code",
   "execution_count": 36,
   "metadata": {},
   "outputs": [
    {
     "name": "stdout",
     "output_type": "stream",
     "text": [
      "Global median percentage with water: 0.7705763048908014\n",
      "Median proportion with water access who are piped: 0.5380600530528451\n",
      "5th percentile proportion with water access who are piped: 0.46715387280697296\n",
      "95th percentile proportion with water access who are piped: 0.5846536880865069\n"
     ]
    }
   ],
   "source": [
    "# Piped populations without water\n",
    "proportion_with_water_piped_median = country_medians[\"population_piped_with_access\"].sum() / country_medians[\"country_pop_with_water\"].sum()\n",
    "proportion_with_water_piped_5th = country_5th_percentiles[\"population_piped_with_access\"].sum() / country_5th_percentiles[\"country_pop_with_water\"].sum()\n",
    "proportion_with_water_piped_95th = country_95th_percentiles[\"population_piped_with_access\"].sum() / country_95th_percentiles[\"country_pop_with_water\"].sum()\n",
    "\n",
    "# Print piped results\n",
    "# sense check with percentage with water\n",
    "print(f\"Global median percentage with water: {global_median_percentage_with_water}\")\n",
    "print(f\"Median proportion with water access who are piped: {proportion_with_water_piped_median}\")\n",
    "print(f\"5th percentile proportion with water access who are piped: {proportion_with_water_piped_5th}\")\n",
    "print(f\"95th percentile proportion with water access who are piped: {proportion_with_water_piped_95th}\")"
   ]
  },
  {
   "cell_type": "markdown",
   "metadata": {},
   "source": [
    "<div class=\"alert alert-success\"> Quote from paper: \"The regional percentage of people without water access was highest in Africa at <b>44.1% (90% CI 39.6–49.9%)</b>, followed by the Americas at <b>41.4% (90% CI 28.9–58.8)</b>, Oceania at <b>32.4% (90% 26.3–44.1)</b>, Europe at <b>25.9% (90% CI 14.1–47.2)</b>, and Asia at <b>22.5% (90% CI 15.7–32.9)</b>.\""
   ]
  },
  {
   "cell_type": "code",
   "execution_count": 37,
   "metadata": {},
   "outputs": [
    {
     "name": "stdout",
     "output_type": "stream",
     "text": [
      "             median  5th_percentile  95th_percentile formatted_results\n",
      "region                                                                \n",
      "Americas  36.666757       24.485413        50.360961  36.7 (24.5–50.4)\n",
      "Europe    23.061363       10.941837        38.306181  23.1 (10.9–38.3)\n",
      "Africa    22.288981       15.517477        29.501465  22.3 (15.5–29.5)\n",
      "Asia      20.120619       12.260690        29.691903  20.1 (12.3–29.7)\n",
      "Oceania   17.525905        8.916453        30.022932   17.5 (8.9–30.0)\n",
      "                                    median  5th_percentile  95th_percentile  \\\n",
      "subregion                                                                     \n",
      "Polynesia                        66.882198       40.664423        83.660958   \n",
      "Western Asia                     53.312044       41.873904        64.946767   \n",
      "Northern Africa                  44.549014       33.526680        59.410527   \n",
      "Latin America and the Caribbean  39.630450       27.155746        53.267933   \n",
      "Northern America                 31.437154       19.773460        45.231446   \n",
      "Southern Europe                  29.497759       18.084990        45.342936   \n",
      "Central Asia                     28.575002       18.860589        42.508636   \n",
      "Eastern Europe                   27.080780       12.309020        43.756806   \n",
      "Australia and New Zealand        20.926584       11.513977        36.232207   \n",
      "Micronesia                       20.562890       14.080190        24.948377   \n",
      "Eastern Asia                     19.771576       10.534551        31.915879   \n",
      "Northern Europe                  18.357225        6.691003        33.250593   \n",
      "Southern Asia                    17.594493       10.996998        25.116983   \n",
      "Sub-Saharan Africa               17.308107       11.487764        22.809056   \n",
      "Western Europe                   14.655181        5.690868        27.496867   \n",
      "South-eastern Asia               13.889788        7.439188        21.705772   \n",
      "Melanesia                         7.185623        1.121498        11.821511   \n",
      "\n",
      "                                formatted_results  \n",
      "subregion                                          \n",
      "Polynesia                        66.9 (40.7–83.7)  \n",
      "Western Asia                     53.3 (41.9–64.9)  \n",
      "Northern Africa                  44.5 (33.5–59.4)  \n",
      "Latin America and the Caribbean  39.6 (27.2–53.3)  \n",
      "Northern America                 31.4 (19.8–45.2)  \n",
      "Southern Europe                  29.5 (18.1–45.3)  \n",
      "Central Asia                     28.6 (18.9–42.5)  \n",
      "Eastern Europe                   27.1 (12.3–43.8)  \n",
      "Australia and New Zealand        20.9 (11.5–36.2)  \n",
      "Micronesia                       20.6 (14.1–24.9)  \n",
      "Eastern Asia                     19.8 (10.5–31.9)  \n",
      "Northern Europe                   18.4 (6.7–33.3)  \n",
      "Southern Asia                    17.6 (11.0–25.1)  \n",
      "Sub-Saharan Africa               17.3 (11.5–22.8)  \n",
      "Western Europe                    14.7 (5.7–27.5)  \n",
      "South-eastern Asia                13.9 (7.4–21.7)  \n",
      "Melanesia                          7.2 (1.1–11.8)  \n"
     ]
    }
   ],
   "source": [
    "# Define a function to calculate percent without water\n",
    "def calculate_percent(df, group):\n",
    "    data = df.groupby(group).sum()\n",
    "    percent_without_water = (data['country_pop_without_water'] / data['country_pop_raw']) * 100\n",
    "    return percent_without_water\n",
    "\n",
    "# Calculate percent without water for each DataFrame\n",
    "region_percent_without_water_median = calculate_percent(country_medians, \"region\")\n",
    "region_percent_without_water_5th = calculate_percent(country_5th_percentiles, \"region\")\n",
    "region_percent_without_water_95th = calculate_percent(country_95th_percentiles, \"region\")\n",
    "\n",
    "# Merge results into a single DataFrame\n",
    "region_percent_without_water = pd.DataFrame({\n",
    "    'median': region_percent_without_water_median,\n",
    "    '5th_percentile': region_percent_without_water_5th,\n",
    "    '95th_percentile': region_percent_without_water_95th\n",
    "})\n",
    "\n",
    "# Repeat for subregions\n",
    "subregion_percent_without_water_median = calculate_percent(country_medians, \"subregion\")\n",
    "subregion_percent_without_water_5th = calculate_percent(country_5th_percentiles, \"subregion\")\n",
    "subregion_percent_without_water_95th = calculate_percent(country_95th_percentiles, \"subregion\")\n",
    "\n",
    "# Merge results into a single DataFrame\n",
    "subregion_percent_without_water = pd.DataFrame({\n",
    "    'median': subregion_percent_without_water_median,\n",
    "    '5th_percentile': subregion_percent_without_water_5th,\n",
    "    '95th_percentile': subregion_percent_without_water_95th\n",
    "})\n",
    "\n",
    "# Define formatting function\n",
    "def format_results(row):\n",
    "    median = round(row['median'], 1)\n",
    "    p5th = round(row['5th_percentile'], 1)\n",
    "    p95th = round(row['95th_percentile'], 1)\n",
    "    return f\"{median} ({p5th}–{p95th})\"\n",
    "\n",
    "# Apply formatting function to each row\n",
    "region_percent_without_water['formatted_results'] = region_percent_without_water.apply(format_results, axis=1)\n",
    "subregion_percent_without_water['formatted_results'] = subregion_percent_without_water.apply(format_results, axis=1)\n",
    "\n",
    "# Print results\n",
    "print(region_percent_without_water.sort_values(by='median', ascending=False))\n",
    "print(subregion_percent_without_water.sort_values(by='median', ascending=False))\n",
    "\n",
    "region_percent_without_water.to_csv(\"../results/region_results.csv\", index=True)\n",
    "subregion_percent_without_water.to_csv(\"../results/subregion_results.csv\", index=True)"
   ]
  },
  {
   "cell_type": "markdown",
   "metadata": {},
   "source": [
    "<div class=\"alert alert-success\">Quote from paper: All five of the worst ranked countries were in the Arabian Peninsula, led by the United Arab Emirates (UAE) with 99.97%"
   ]
  },
  {
   "cell_type": "code",
   "execution_count": 38,
   "metadata": {},
   "outputs": [],
   "source": [
    "# Make a single table with the 10 countries with the highest and lowest percentage of people without access to water\n",
    "top10 = country_medians_simple.nlargest(10, \"percent_without_water\")\n",
    "bottom10 = country_medians_simple.nsmallest(10, \"percent_without_water\")\n",
    "top_bottom = pd.concat([top10, bottom10])\n",
    "\n",
    "if SAVE_CSVS == True:\n",
    "    top_bottom.to_csv(\"../results/top_bottom_10_countries.csv\", index=False)"
   ]
  },
  {
   "cell_type": "markdown",
   "metadata": {},
   "source": [
    "<div class=\"alert alert-success\">Supplementary: Plot of Monte Carlo distribution"
   ]
  },
  {
   "cell_type": "code",
   "execution_count": 39,
   "metadata": {},
   "outputs": [
    {
     "data": {
      "image/png": "[encoded data removed]",
      "text/plain": [
       "<Figure size 640x480 with 1 Axes>"
      ]
     },
     "metadata": {},
     "output_type": "display_data"
    }
   ],
   "source": [
    "import pandas as pd\n",
    "import matplotlib.pyplot as plt\n",
    "import numpy as np\n",
    "\n",
    "# Load pickled simulation results\n",
    "simulation_results = pd.read_pickle(\"../results/countries_simulation_results.pkl\")\n",
    "\n",
    "\n",
    "\n",
    "\n",
    "# Drop GLOBAL from simulation results\n",
    "simulation_results = [df[df.index != 'GLOBAL'] for df in simulation_results]\n",
    "\n",
    "\n",
    "\n",
    "\n",
    "# Calculate global median percentage without water for each simulation using list comprehension\n",
    "global_access = [df[\"country_pop_without_water\"].sum() / df[\"country_pop_raw\"].sum() for df in simulation_results]\n",
    "\n",
    "# Calculate median, 5th percentile, and 95th percentile\n",
    "median = np.median(global_access)\n",
    "p5 = np.percentile(global_access, 5)\n",
    "p95 = np.percentile(global_access, 95)\n",
    "\n",
    "# Plot histogram of results\n",
    "fig, ax = plt.subplots()\n",
    "ax.hist(global_access, bins=100, alpha=0.5, color='c')\n",
    "ax.set_xlabel(\"Global percentage of population without access to water\")\n",
    "ax.set_ylabel(\"Frequency\")\n",
    "# ax.set_title(\"Distribution of Monte Carlo simulation results\")\n",
    "\n",
    "# Add vertical lines for median, 5th percentile, and 95th percentile\n",
    "ax.axvline(median, color='red', linestyle='dashed', linewidth=1)\n",
    "ax.axvline(p5, color='blue', linestyle='dashed', linewidth=1)\n",
    "ax.axvline(p95, color='blue', linestyle='dashed', linewidth=1)\n",
    "\n",
    "# Set x-axis limits\n",
    "ax.set_xlim(0, 1)\n",
    "\n",
    "if SAVE_FIGURES == True:\n",
    "    plt.savefig(\"../results/mc_distribution_no_water.png\")\n",
    "plt.show()"
   ]
  },
  {
   "cell_type": "code",
   "execution_count": 40,
   "metadata": {},
   "outputs": [],
   "source": [
    "country_medians[\"percent_piped_with_access\"] = country_medians[\"population_piped_with_access\"] / country_medians[\"country_pop_raw\"] * 100\n",
    "country_medians[\"piped_calculated\"] = country_medians[\"percent_without_water\"] + country_medians[\"percent_piped_with_access\"]\n"
   ]
  },
  {
   "cell_type": "markdown",
   "metadata": {},
   "source": [
    "<div class=\"alert alert-info\">\n",
    "<h3> <b>3. Cycling vs walking results </b> </h3>\n",
    "<a id=\"cycling_walking\"></a>\n",
    "</div>"
   ]
  },
  {
   "cell_type": "markdown",
   "metadata": {},
   "source": [
    "<div class=\"alert alert-success\">Quote from paper: The maximum euclidean distance people could walk one-way to water varied between <b>3.6–4.0 km</b> in the model, approximately equal to travelling 4.8–5.4 km on roads if using a conversion factor of 1.345 (Gonçalves et al., 2014). For cycling, the equivalent euclidean distances were <b>0–17.7 km</b>, equivalent to approximately 0–23.8 km on roads. <br><br> NB: These are currently given as full ranges rather than 90% CIs, as the data is not population-weighted.<br> NB: The minimum cycling distance is negative, but expressed as zero in the paper. This is due to the parameters in some regions having very poor cycling conditions (e.g., very steep, no roads), leading to the model requiring more energy than available to move forwards.\n"
   ]
  },
  {
   "cell_type": "code",
   "execution_count": 41,
   "metadata": {},
   "outputs": [],
   "source": [
    "# @JAMES to help figure out, something to do with cycling changes\n",
    "# min_walking = country_medians[\"min_max_distance_walking\"].min()\n",
    "# max_walking = country_medians[\"max_max_distance_walking\"].max()\n",
    "# min_cycling = country_medians[\"min_max_distance_cycling\"].min()\n",
    "# max_cycling = country_medians[\"max_max_distance_cycling\"].max()\n",
    "# print(f\"Minimum walking distance: {min_walking}\")\n",
    "# print(f\"Maximum walking distance: {max_walking}\")\n",
    "# print(f\"Minimum cycling distance: {min_cycling}\")\n",
    "# print(f\"Maximum cycling distance: {max_cycling}\")"
   ]
  },
  {
   "cell_type": "markdown",
   "metadata": {},
   "source": [
    "<div class=\"alert alert-success\">Quote from paper: \"Bicycles increased access in the simulations, allowing <b>32% (90% CI 23–57%)</b> of the piped water population to cycle to water instead of walking. While some of these people would be close enough to walk if needed, <b>17%</b> of the piped water population, or <b>7%</b> of the total world population, would not.\""
   ]
  },
  {
   "cell_type": "code",
   "execution_count": 42,
   "metadata": {},
   "outputs": [
    {
     "name": "stdout",
     "output_type": "stream",
     "text": [
      "Relative to global piped population: mean percentage piped with access: 0.6369466030402623\n",
      "Relative to global piped population: mean percentage piped with cycling access: 0.42142906702830946\n",
      "Relative to global piped population: mean percentage piped with walking access: 0.4287925791929127\n",
      "Relative to global piped population: mean percentage piped with only cycling access: 0.20815402384734957\n"
     ]
    }
   ],
   "source": [
    "# For walking vs cycling breakdown, we are using the mean results instead of median as this will lead to more intuitive comparisons.\n",
    "# If we use the medians, the sum of the individual walking and cycling access may be very different to the the sum of the total access\n",
    "# First, let's look at piped only\n",
    "country_means[\"country_pop_piped\"] = country_means[\"country_pop_raw\"] * country_means[\"piped_calculated\"] / 100\n",
    "\n",
    "global_mean_percentage_piped_with_access = country_means[\"population_piped_with_access\"].sum() / country_means[\"country_pop_piped\"].sum()\n",
    "global_mean_piped_percentage_with_cycling_access = country_means[\"population_piped_with_cycling_access\"].sum() / country_means[\"country_pop_piped\"].sum()\n",
    "global_mean_piped_percentage_with_walking_access = country_means[\"population_piped_with_walking_access\"].sum() / country_means[\"country_pop_piped\"].sum()\n",
    "global_mean_piped_percentage_with_only_cycling_access = (country_means[\"population_piped_with_access\"].sum() - country_means[\"population_piped_with_walking_access\"].sum()) / country_means[\"country_pop_piped\"].sum()\n",
    "\n",
    "print(f\"Relative to global piped population: mean percentage piped with access: {global_mean_percentage_piped_with_access}\")\n",
    "print(f\"Relative to global piped population: mean percentage piped with cycling access: {global_mean_piped_percentage_with_cycling_access}\")\n",
    "print(f\"Relative to global piped population: mean percentage piped with walking access: {global_mean_piped_percentage_with_walking_access}\")\n",
    "print(f\"Relative to global piped population: mean percentage piped with only cycling access: {global_mean_piped_percentage_with_only_cycling_access}\")"
   ]
  },
  {
   "cell_type": "code",
   "execution_count": 43,
   "metadata": {},
   "outputs": [
    {
     "name": "stdout",
     "output_type": "stream",
     "text": [
      "Relative to global piped population: median percentage piped with cycling access: 0.4111525017524451\n",
      "Relative to global piped population: 5th percentile percentage piped with cycling access: 0.36260138298801936\n",
      "Relative to global piped population: 95th percentile percentage piped with cycling access: 0.43493250263819383\n"
     ]
    }
   ],
   "source": [
    "# Median, 5th, and 95th percentile results for piped water population\n",
    "country_medians[\"country_pop_piped\"] = country_medians[\"country_pop_raw\"] * country_medians[\"NATPiped\"] / 100\n",
    "country_5th_percentiles[\"country_pop_piped\"] = country_5th_percentiles[\"country_pop_raw\"] * country_5th_percentiles[\"NATPiped\"] / 100\n",
    "country_95th_percentiles[\"country_pop_piped\"] = country_95th_percentiles[\"country_pop_raw\"] * country_95th_percentiles[\"NATPiped\"] / 100\n",
    "\n",
    "\n",
    "\n",
    "assert (country_medians[\"country_pop_piped\"] == country_5th_percentiles[\"country_pop_piped\"]).all()\n",
    "assert (country_medians[\"country_pop_piped\"] == country_95th_percentiles[\"country_pop_piped\"]).all()\n",
    "\n",
    "global_median_piped_percentage_with_cycling_access = country_medians[\"population_piped_with_cycling_access\"].sum() / country_medians[\"country_pop_piped\"].sum()\n",
    "global_5th_piped_percentage_with_cycling_access = country_5th_percentiles[\"population_piped_with_cycling_access\"].sum() / country_5th_percentiles[\"country_pop_piped\"].sum()\n",
    "global_95th_piped_percentage_with_cycling_access = country_95th_percentiles[\"population_piped_with_cycling_access\"].sum() / country_95th_percentiles[\"country_pop_piped\"].sum()\n",
    "\n",
    "print(f\"Relative to global piped population: median percentage piped with cycling access: {global_median_piped_percentage_with_cycling_access}\")\n",
    "print(f\"Relative to global piped population: 5th percentile percentage piped with cycling access: {global_5th_piped_percentage_with_cycling_access}\")\n",
    "print(f\"Relative to global piped population: 95th percentile percentage piped with cycling access: {global_95th_piped_percentage_with_cycling_access}\")\n"
   ]
  },
  {
   "cell_type": "code",
   "execution_count": 44,
   "metadata": {},
   "outputs": [
    {
     "name": "stdout",
     "output_type": "stream",
     "text": [
      "Global mean percentage with access: 0.4101306728708199\n",
      "Global mean percentage with cycling access: 0.2713586759119852\n",
      "Global mean percentage with walking access: 0.2761000501250608\n",
      "Global mean percentage with only cycling access: 0.1340306227457591\n"
     ]
    }
   ],
   "source": [
    "# Now looking at proportions of the global population (piped and non-piped)\n",
    "# Note that this (country_pop_raw) is also including non-piped population who do not walk/cycle to collect water\n",
    "global_mean_percentage_with_access = country_means[\"population_piped_with_access\"].sum() / country_means[\"country_pop_raw\"].sum()\n",
    "global_mean_percentage_with_cycling_access = country_means[\"population_piped_with_cycling_access\"].sum() / country_means[\"country_pop_raw\"].sum()\n",
    "global_mean_percentage_with_walking_access = country_means[\"population_piped_with_walking_access\"].sum() / country_means[\"country_pop_raw\"].sum()\n",
    "global_mean_percentage_with_only_cycling_access = (country_means[\"population_piped_with_access\"].sum() - country_means[\"population_piped_with_walking_access\"].sum()) / country_means[\"country_pop_raw\"].sum()\n",
    "\n",
    "print(f\"Global mean percentage with access: {global_mean_percentage_with_access}\")\n",
    "print(f\"Global mean percentage with cycling access: {global_mean_percentage_with_cycling_access}\")\n",
    "print(f\"Global mean percentage with walking access: {global_mean_percentage_with_walking_access}\")\n",
    "print(f\"Global mean percentage with only cycling access: {global_mean_percentage_with_only_cycling_access}\")"
   ]
  },
  {
   "cell_type": "markdown",
   "metadata": {},
   "source": [
    "#### Most important countries for bicycles"
   ]
  },
  {
   "cell_type": "markdown",
   "metadata": {},
   "source": [
    "<div class=\"alert alert-success\">Quote from paper: \"Cycling provided access for 47% of Burkina Faso’s piped water population in the model. However, the actual water access gained is small for the countries listed (0.03–5% of their populations), due to few people being able to access water at all in UAE, Hong Kong, and Kuwait, and very few people having piped water infrastructure in Burkina Faso. In contrast, cycling enabled 26% of people in Luxembourg to fulfil essential water needs, along with 24% in Germany, 24% in Belgium, 23% in Finland, and 22% in Argentina.\""
   ]
  },
  {
   "cell_type": "code",
   "execution_count": 45,
   "metadata": {},
   "outputs": [
    {
     "name": "stdout",
     "output_type": "stream",
     "text": [
      "+-----+----------------------------------+---------------------------------------------+---------------------------------------------+----------------------------------------+----------------------------------------+----------------------+\n",
      "|     | Entity                           |   percentage_piped_with_only_cycling_access |   percentage_total_with_only_cycling_access |   percentage_piped_with_walking_access |   percentage_piped_with_cycling_access |   percent_with_water |\n",
      "|-----+----------------------------------+---------------------------------------------+---------------------------------------------+----------------------------------------+----------------------------------------+----------------------|\n",
      "|   3 | United Arab Emirates             |                                    100      |                                   0.0652233 |                                0       |                               100      |            0.0652233 |\n",
      "| 145 | San Marino                       |                                    100      |                                  65.63      |                                0       |                               100      |           65.63      |\n",
      "| 176 | Samoa                            |                                     93.4758 |                                  18.8053    |                                6.52422 |                                85.9962 |           33.1178    |\n",
      "| 123 | Oman                             |                                     91.7644 |                                   4.70332   |                                8.23556 |                                81.9276 |           19.5028    |\n",
      "|  47 | Western Sahara                   |                                     79.6383 |                                   0.0524124 |                               20.3617  |                                81.5621 |           47.5575    |\n",
      "| 115 | Namibia                          |                                     77.6639 |                                   4.10619   |                               22.3361  |                                81.2482 |           26.475     |\n",
      "|  12 | Burkina Faso                     |                                     70.5002 |                                   7.84051   |                               29.4998  |                                95.0251 |           88.9469    |\n",
      "|  65 | Greenland                        |                                     68.5078 |                                   8.88821   |                               31.4922  |                                43.7108 |           12.974     |\n",
      "| 172 | Saint Vincent and the Grenadines |                                     66.1307 |                                  31.5836    |                               33.8693  |                                80.2489 |           55.815     |\n",
      "| 141 | Singapore                        |                                     65.6441 |                                  29.9668    |                               34.3559  |                                77.8545 |           45.6503    |\n",
      "|  60 | Gambia                           |                                     63.1536 |                                  25.1438    |                               36.8464  |                                79.8466 |           67.2753    |\n",
      "|  94 | Liechtenstein                    |                                     58.1207 |                                  48.0216    |                               41.8793  |                                88.8727 |           82.6238    |\n",
      "|   4 | Argentina                        |                                     57.1244 |                                  30.9761    |                               42.8756  |                                88.5847 |           67.0968    |\n",
      "|  37 | Cyprus                           |                                     55.7289 |                                  31.1928    |                               44.2711  |                                79.827  |           55.9723    |\n",
      "| 179 | Zambia                           |                                     52.7677 |                                   4.26608   |                               47.2323  |                                70.6241 |           93.1026    |\n",
      "|  93 | Saint Lucia                      |                                     50.0944 |                                  19.4874    |                               49.9056  |                                83.4117 |           42.5231    |\n",
      "|  36 | Cuba                             |                                     48.8519 |                                  19.6211    |                               51.1481  |                                77.1818 |           76.4766    |\n",
      "|  92 | Libya                            |                                     48.0784 |                                   0.0108589 |                               51.9216  |                                47.7604 |           43.5576    |\n",
      "|  87 | Saint Kitts and Nevis            |                                     47.6356 |                                  16.2135    |                               52.3644  |                                69.4633 |           45.8268    |\n",
      "|  41 | Denmark                          |                                     46.7331 |                                  43.2521    |                               53.2669  |                                94.4733 |           92.5513    |\n",
      "|  52 | Fiji                             |                                     45.9282 |                                  22.0715    |                               54.0718  |                                67.617  |           61.1974    |\n",
      "| 106 | Malta                            |                                     45.8082 |                                  27.8211    |                               54.1918  |                                68.2815 |           60.7338    |\n",
      "|  20 | Bolivia, Plurinational State of  |                                     45.0819 |                                   6.06476   |                               54.9181  |                                64.9689 |           83.6672    |\n",
      "|  39 | Germany                          |                                     43.6162 |                                  36.9868    |                               56.3838  |                                87.7848 |           84.8006    |\n",
      "| 169 | Uruguay                          |                                     43.4507 |                                  19.7832    |                               56.5493  |                                86.1362 |           45.5301    |\n",
      "|  16 | Bahamas                          |                                     42.9877 |                                  22.3614    |                               57.0123  |                                67.7394 |           63.0367    |\n",
      "|  48 | Spain                            |                                     42.8205 |                                  30.3758    |                               57.1795  |                                80.0611 |           70.9375    |\n",
      "|  10 | Belgium                          |                                     42.5772 |                                  35.4098    |                               57.4228  |                                84.3352 |           83.1662    |\n",
      "|  44 | Ecuador                          |                                     41.755  |                                  22.4708    |                               58.245   |                                77.9384 |           72.5172    |\n",
      "| 170 | United States of America         |                                     41.546  |                                  27.0391    |                               58.454   |                                75.0337 |           67.2898    |\n",
      "+-----+----------------------------------+---------------------------------------------+---------------------------------------------+----------------------------------------+----------------------------------------+----------------------+\n"
     ]
    }
   ],
   "source": [
    "# TODO Change to means so walking/cycling split makes sense?\n",
    "# Calculate top 10 countries by lowest value for global_mean_piped_percentage_with_walking_access\n",
    "country_medians[\"percentage_piped_with_walking_access\"] = country_medians[\"population_piped_with_walking_access\"] / country_medians[\"population_piped_with_access\"] * 100\n",
    "country_medians[\"percentage_piped_with_cycling_access\"] = country_medians[\"population_piped_with_cycling_access\"] / country_medians[\"population_piped_with_access\"] * 100\n",
    "country_medians[\"percentage_piped_of_total_access\"] = country_medians[\"population_piped_with_access\"] / country_medians[\"country_pop_with_water\"] * 100\n",
    "country_medians[\"population_piped_with_only_cycling_access\"] = country_medians[\"population_piped_with_access\"] - country_medians[\"population_piped_with_walking_access\"]\n",
    "country_medians[\"percentage_piped_with_only_cycling_access\"] = country_medians[\"population_piped_with_only_cycling_access\"] / country_medians[\"population_piped_with_access\"] * 100\n",
    "country_medians[\"percentage_total_with_only_cycling_access\"] = country_medians[\"population_piped_with_only_cycling_access\"] / country_medians[\"country_pop_raw\"] * 100\n",
    "\n",
    "top_piped_cycling_access = country_medians.nlargest(30, \"percentage_piped_with_only_cycling_access\")\n",
    "print(tabulate(top_piped_cycling_access[['Entity', \"percentage_piped_with_only_cycling_access\", \"percentage_total_with_only_cycling_access\", 'percentage_piped_with_walking_access', 'percentage_piped_with_cycling_access', \"percent_with_water\"]], headers='keys', tablefmt='psql'))\n",
    "\n"
   ]
  },
  {
   "cell_type": "code",
   "execution_count": 46,
   "metadata": {},
   "outputs": [
    {
     "name": "stdout",
     "output_type": "stream",
     "text": [
      "+-----+----------------------------------+---------------------------------------------+---------------------------------------------+----------------------------------------+----------------------------------------+----------------------+\n",
      "|     | Entity                           |   percentage_total_with_only_cycling_access |   percentage_piped_with_only_cycling_access |   percentage_piped_with_walking_access |   percentage_piped_with_cycling_access |   percent_with_water |\n",
      "|-----+----------------------------------+---------------------------------------------+---------------------------------------------+----------------------------------------+----------------------------------------+----------------------|\n",
      "| 145 | San Marino                       |                                     65.63   |                                    100      |                                 0      |                               100      |              65.63   |\n",
      "|  94 | Liechtenstein                    |                                     48.0216 |                                     58.1207 |                                41.8793 |                                88.8727 |              82.6238 |\n",
      "|  41 | Denmark                          |                                     43.2521 |                                     46.7331 |                                53.2669 |                                94.4733 |              92.5513 |\n",
      "|  51 | Finland                          |                                     37.4059 |                                     41.0061 |                                58.9939 |                                91.5833 |              91.2204 |\n",
      "|  39 | Germany                          |                                     36.9868 |                                     43.6162 |                                56.3838 |                                87.7848 |              84.8006 |\n",
      "|  10 | Belgium                          |                                     35.4098 |                                     42.5772 |                                57.4228 |                                84.3352 |              83.1662 |\n",
      "|   7 | Austria                          |                                     31.6473 |                                     34.3391 |                                65.6609 |                                90.9715 |              92.3038 |\n",
      "| 172 | Saint Vincent and the Grenadines |                                     31.5836 |                                     66.1307 |                                33.8693 |                                80.2489 |              55.815  |\n",
      "|  37 | Cyprus                           |                                     31.1928 |                                     55.7289 |                                44.2711 |                                79.827  |              55.9723 |\n",
      "| 119 | Netherlands, Kingdom of the      |                                     31.1285 |                                     32.6772 |                                67.3228 |                                93.1987 |              95.2604 |\n",
      "|   4 | Argentina                        |                                     30.9761 |                                     57.1244 |                                42.8756 |                                88.5847 |              67.0968 |\n",
      "| 165 | Taiwan, Province of China        |                                     30.5697 |                                     41.3072 |                                58.6928 |                                79.0439 |              80.8508 |\n",
      "|  48 | Spain                            |                                     30.3758 |                                     42.8205 |                                57.1795 |                                80.0611 |              70.9375 |\n",
      "| 141 | Singapore                        |                                     29.9668 |                                     65.6441 |                                34.3559 |                                77.8545 |              45.6503 |\n",
      "|  35 | Costa Rica                       |                                     29.2364 |                                     37.9283 |                                62.0717 |                                79.5883 |              77.0834 |\n",
      "|  26 | Canada                           |                                     28.9933 |                                     36.488  |                                63.512  |                                80.032  |              79.4597 |\n",
      "| 130 | Poland                           |                                     27.9537 |                                     39.2836 |                                60.7164 |                                81.6499 |              84.7395 |\n",
      "|  27 | Switzerland                      |                                     27.9486 |                                     31.7697 |                                68.2303 |                                82.4518 |              87.9723 |\n",
      "| 106 | Malta                            |                                     27.8211 |                                     45.8082 |                                54.1918 |                                68.2815 |              60.7338 |\n",
      "| 170 | United States of America         |                                     27.0391 |                                     41.546  |                                58.454  |                                75.0337 |              67.2898 |\n",
      "|  82 | Japan                            |                                     25.2766 |                                     33.7878 |                                66.2122 |                                80.8846 |              85.5397 |\n",
      "|  60 | Gambia                           |                                     25.1438 |                                     63.1536 |                                36.8464 |                                79.8466 |              67.2753 |\n",
      "|  79 | Italy                            |                                     24.9228 |                                     31.5019 |                                68.4981 |                                76.58   |              79.1152 |\n",
      "|  98 | Luxembourg                       |                                     24.5236 |                                     30.7148 |                                69.2852 |                                76.3379 |              82.1955 |\n",
      "|  53 | France                           |                                     23.7557 |                                     28.7782 |                                71.2218 |                                71.8298 |              82.5477 |\n",
      "| 120 | Norway                           |                                     23.2697 |                                     26.4665 |                                73.5335 |                                86.0982 |              87.9213 |\n",
      "|  29 | China                            |                                     22.8261 |                                     36.1309 |                                63.8691 |                                76.3241 |              80.5593 |\n",
      "|  21 | Brazil                           |                                     22.6309 |                                     40.8063 |                                59.1937 |                                75.6319 |              60.6205 |\n",
      "|  44 | Ecuador                          |                                     22.4708 |                                     41.755  |                                58.245  |                                77.9384 |              72.5172 |\n",
      "|  16 | Bahamas                          |                                     22.3614 |                                     42.9877 |                                57.0123 |                                67.7394 |              63.0367 |\n",
      "+-----+----------------------------------+---------------------------------------------+---------------------------------------------+----------------------------------------+----------------------------------------+----------------------+\n"
     ]
    }
   ],
   "source": [
    "# OR rank by total population that gain access by cycling\n",
    "top_total_cycling_access = country_medians.nlargest(30, \"percentage_total_with_only_cycling_access\")\n",
    "print(tabulate(top_total_cycling_access[['Entity', \"percentage_total_with_only_cycling_access\", \"percentage_piped_with_only_cycling_access\", 'percentage_piped_with_walking_access', 'percentage_piped_with_cycling_access', \"percent_with_water\"]], headers='keys', tablefmt='psql'))"
   ]
  },
  {
   "cell_type": "code",
   "execution_count": 47,
   "metadata": {},
   "outputs": [
    {
     "data": {
      "text/plain": [
       "Index(['Unnamed: 0', 'ISOCODE', 'country_pop_raw', 'country_pop_with_water',\n",
       "       'country_pop_without_water', 'population_piped_with_access',\n",
       "       'population_piped_with_cycling_access',\n",
       "       'population_piped_with_walking_access',\n",
       "       'population_piped_with_only_cycling_access', 'NATPiped', 'weighted_med',\n",
       "       'weighted_med_cycling', 'weighted_5th_cycling', 'weighted_95th_cycling',\n",
       "       'weighted_med_walking', 'weighted_5th_walking', 'weighted_95th_walking',\n",
       "       'percent_with_water', 'percent_without_water',\n",
       "       'percent_piped_with_cycling_access',\n",
       "       'percent_piped_with_walking_access',\n",
       "       'proportion_piped_access_from_cycling',\n",
       "       'percent_with_only_cycling_access', 'Entity', 'region', 'subregion',\n",
       "       'percent_piped_with_access', 'piped_calculated', 'country_pop_piped',\n",
       "       'percentage_piped_with_walking_access',\n",
       "       'percentage_piped_with_cycling_access',\n",
       "       'percentage_piped_of_total_access',\n",
       "       'percentage_piped_with_only_cycling_access',\n",
       "       'percentage_total_with_only_cycling_access'],\n",
       "      dtype='object')"
      ]
     },
     "execution_count": 47,
     "metadata": {},
     "output_type": "execute_result"
    }
   ],
   "source": [
    "top_piped_cycling_access.columns"
   ]
  },
  {
   "cell_type": "markdown",
   "metadata": {},
   "source": [
    "<div class=\"alert alert-success\">Supplementary: Plot of Monte Carlo distribution"
   ]
  },
  {
   "cell_type": "code",
   "execution_count": 48,
   "metadata": {},
   "outputs": [
    {
     "name": "stdout",
     "output_type": "stream",
     "text": [
      "GLOBAL in first dataframe: False\n"
     ]
    },
    {
     "data": {
      "image/png": "[encoded data removed]",
      "text/plain": [
       "<Figure size 1200x1200 with 4 Axes>"
      ]
     },
     "metadata": {},
     "output_type": "display_data"
    }
   ],
   "source": [
    "# Load pickled simulation results\n",
    "simulation_results = pd.read_pickle(\"../results/countries_simulation_results.pkl\")\n",
    "\n",
    "# Drop GLOBAL from simulation results\n",
    "simulation_results = [df[df.index != 'GLOBAL'] for df in simulation_results]\n",
    "\n",
    "# Check that GLOBAL is removed from the first dataframe\n",
    "print(\"GLOBAL in first dataframe:\", 'GLOBAL' in simulation_results[0].index)\n",
    "\n",
    "# Calculate country_pop_piped for each dataframe in simulation_results\n",
    "for df in simulation_results:\n",
    "    df[\"country_pop_unpiped\"] = df[\"country_pop_raw\"] * (100-df[\"NATPiped\"]) / 100\n",
    "\n",
    "# Calculate global mean percentage for each access type for each simulation using list comprehension\n",
    "global_access = [df[\"country_pop_with_water\"].sum() / df[\"country_pop_raw\"].sum() for df in simulation_results]\n",
    "global_cycling_access = [df[\"population_piped_with_cycling_access\"].sum() / df[\"country_pop_raw\"].sum() for df in simulation_results]\n",
    "global_walking_access = [df[\"population_piped_with_walking_access\"].sum() / df[\"country_pop_raw\"].sum() for df in simulation_results]\n",
    "global_only_cycling_access = [(df[\"population_piped_with_access\"].sum() - df[\"population_piped_with_walking_access\"].sum()) / df[\"country_pop_raw\"].sum() for df in simulation_results]\n",
    "\n",
    "# Create subplots\n",
    "fig, axs = plt.subplots(2, 2, figsize=(12, 12))\n",
    "\n",
    "# Flatten axs for easy iteration\n",
    "axs = axs.flatten()\n",
    "\n",
    "# List of access types\n",
    "access_types = [global_access, global_walking_access, global_cycling_access, global_only_cycling_access]\n",
    "\n",
    "# List of titles\n",
    "titles = [\"(a) Global Total Access\", \"(b) Global Walking Access\", \"(c) Global Cycling Access\", \"(d) Global Only Cycling Access\"]\n",
    "\n",
    "# Plot histogram of results for each access type\n",
    "for i, ax in enumerate(axs):\n",
    "    # Calculate median, 5th percentile, and 95th percentile\n",
    "    median = np.median(access_types[i])\n",
    "    p5 = np.percentile(access_types[i], 5)\n",
    "    p95 = np.percentile(access_types[i], 95)\n",
    "\n",
    "    ax.hist(access_types[i], bins=100, alpha=0.7, color='c')\n",
    "    ax.set_xlim(0, 1)\n",
    "\n",
    "    # Add vertical lines for median, 5th percentile, and 95th percentile\n",
    "    ax.axvline(median, color='red', linestyle='dashed', linewidth=1)\n",
    "    ax.axvline(p5, color='blue', linestyle='dashed', linewidth=1)\n",
    "    ax.axvline(p95, color='blue', linestyle='dashed', linewidth=1)\n",
    "\n",
    "    # Set title and labels\n",
    "    ax.set_title(f\"{titles[i]}\", fontsize=14)\n",
    "\n",
    "# Set common x-axis label\n",
    "fig.text(0.5, 0.0, 'Percentage Access', ha='center', va='center', fontsize=14)\n",
    "fig.text(0.0, 0.5, 'Frequency', ha='center', va='center', rotation='vertical', fontsize=14)\n",
    "\n",
    "plt.tight_layout()\n",
    "if SAVE_FIGURES == True:\n",
    "    plt.savefig(\"../results/mc_distribution_total_access.png\")\n",
    "plt.show()"
   ]
  },
  {
   "cell_type": "code",
   "execution_count": 49,
   "metadata": {},
   "outputs": [
    {
     "data": {
      "image/png": "[encoded data removed]",
      "text/plain": [
       "<Figure size 1200x1200 with 4 Axes>"
      ]
     },
     "metadata": {},
     "output_type": "display_data"
    }
   ],
   "source": [
    "# Load pickled simulation results\n",
    "simulation_results = pd.read_pickle(\"../results/countries_simulation_results.pkl\")\n",
    "# Drop GLOBAL from simulation results\n",
    "simulation_results = [df[df.index != 'GLOBAL'] for df in simulation_results]\n",
    "\n",
    "\n",
    "# Calculate country_pop_piped for each dataframe in simulation_results\n",
    "for df in simulation_results:\n",
    "    df[\"country_pop_piped\"] = df[\"country_pop_raw\"] * df[\"NATPiped\"] / 100\n",
    "\n",
    "# Calculate global mean percentage for each access type for each simulation using list comprehension\n",
    "global_piped_access = [df[\"population_piped_with_access\"].sum() / df[\"country_pop_piped\"].sum() for df in simulation_results]\n",
    "global_piped_cycling_access = [df[\"population_piped_with_cycling_access\"].sum() / df[\"country_pop_piped\"].sum() for df in simulation_results]\n",
    "global_piped_walking_access = [df[\"population_piped_with_walking_access\"].sum() / df[\"country_pop_piped\"].sum() for df in simulation_results]\n",
    "global_piped_only_cycling_access = [(df[\"population_piped_with_access\"].sum() - df[\"population_piped_with_walking_access\"].sum()) / df[\"country_pop_piped\"].sum() for df in simulation_results]\n",
    "\n",
    "# Create subplots\n",
    "fig, axs = plt.subplots(2, 2, figsize=(12, 12))\n",
    "\n",
    "# Flatten axs for easy iteration\n",
    "axs = axs.flatten()\n",
    "\n",
    "# List of access types\n",
    "access_types = [global_piped_access, global_piped_walking_access, global_piped_cycling_access, global_piped_only_cycling_access]\n",
    "\n",
    "# List of titles\n",
    "titles = [\"(a) Global Piped Access\", \"(b) Global Piped Walking Access\", \"(c) Global Piped Cycling Access\", \"(d) Global Piped Only Cycling Access\"]\n",
    "\n",
    "# Plot histogram of results for each access type\n",
    "for i, ax in enumerate(axs):\n",
    "    # Calculate median, 5th percentile, and 95th percentile\n",
    "    median = np.median(access_types[i])\n",
    "    p5 = np.percentile(access_types[i], 5)\n",
    "    p95 = np.percentile(access_types[i], 95)\n",
    "\n",
    "    ax.hist(access_types[i], bins=100, alpha=0.7, color='c')\n",
    "    ax.set_xlim(0, 1)\n",
    "\n",
    "    # Add vertical lines for median, 5th percentile, and 95th percentile\n",
    "    ax.axvline(median, color='red', linestyle='dashed', linewidth=1)\n",
    "    ax.axvline(p5, color='blue', linestyle='dashed', linewidth=1)\n",
    "    ax.axvline(p95, color='blue', linestyle='dashed', linewidth=1)\n",
    "\n",
    "    # Set title and labels\n",
    "    ax.set_title(f\"{titles[i]}\", fontsize=14)\n",
    "\n",
    "# Set common x-axis label\n",
    "fig.text(0.5, 0.0, 'Percentage Access', ha='center', va='center', fontsize=14)\n",
    "fig.text(0.0, 0.5, 'Frequency', ha='center', va='center', rotation='vertical', fontsize=14)\n",
    "\n",
    "plt.tight_layout()\n",
    "if SAVE_FIGURES == True:\n",
    "    plt.savefig(\"../results/mc_distribution_piped_access.png\")\n",
    "plt.show()"
   ]
  },
  {
   "cell_type": "markdown",
   "metadata": {},
   "source": [
    "<div class=\"alert alert-info\">\n",
    "<h3> <b>4. Relationship between piped water access and GCIL water access </b> </h3>\n",
    "<a id=\"piped\"></a>\n",
    "</div>\n"
   ]
  },
  {
   "cell_type": "code",
   "execution_count": 50,
   "metadata": {},
   "outputs": [
    {
     "data": {
      "application/vnd.plotly.v1+json": {
       "config": {
        "plotlyServerURL": "https://plotly.com"
       },
       "data": [
        {
         "customdata": [
          [
           "Afghanistan"
          ],
          [
           "United Arab Emirates"
          ],
          [
           "Armenia"
          ],
          [
           "Azerbaijan"
          ],
          [
           "Bangladesh"
          ],
          [
           "Bahrain"
          ],
          [
           "Brunei Darussalam"
          ],
          [
           "Bhutan"
          ],
          [
           "China"
          ],
          [
           "Cyprus"
          ],
          [
           "Georgia"
          ],
          [
           "Indonesia"
          ],
          [
           "India"
          ],
          [
           "Iran, Islamic Republic of"
          ],
          [
           "Iraq"
          ],
          [
           "Israel"
          ],
          [
           "Jordan"
          ],
          [
           "Japan"
          ],
          [
           "Kazakhstan"
          ],
          [
           "Kyrgyzstan"
          ],
          [
           "Cambodia"
          ],
          [
           "Korea, Republic of"
          ],
          [
           "Lao People's Democratic Republic"
          ],
          [
           "Lebanon"
          ],
          [
           "Sri Lanka"
          ],
          [
           "Myanmar"
          ],
          [
           "Mongolia"
          ],
          [
           "Malaysia"
          ],
          [
           "Nepal"
          ],
          [
           "Oman"
          ],
          [
           "Pakistan"
          ],
          [
           "Philippines"
          ],
          [
           "Korea, Democratic People's Republic of"
          ],
          [
           "Qatar"
          ],
          [
           "Saudi Arabia"
          ],
          [
           "Singapore"
          ],
          [
           "Syrian Arab Republic"
          ],
          [
           "Thailand"
          ],
          [
           "Tajikistan"
          ],
          [
           "Turkmenistan"
          ],
          [
           "Timor-Leste"
          ],
          [
           "Türkiye"
          ],
          [
           "Taiwan, Province of China"
          ],
          [
           "Uzbekistan"
          ],
          [
           "Viet Nam"
          ],
          [
           "Yemen"
          ]
         ],
         "hovertemplate": "region=Asia<br>NATPiped=%{x}<br>piped_calculated=%{y}<br>Entity=%{customdata[0]}<extra></extra>",
         "legendgroup": "Asia",
         "marker": {
          "color": "#636efa",
          "symbol": "circle"
         },
         "mode": "markers",
         "name": "Asia",
         "orientation": "v",
         "showlegend": true,
         "type": "scatter",
         "x": [
          23.75,
          100,
          100,
          93.98,
          15,
          100,
          100,
          100,
          86.08,
          100,
          84.60000000000001,
          23.28,
          44.88,
          99.31,
          83.36,
          100,
          86.44000000000001,
          98,
          81.62,
          93.7,
          34.25,
          100,
          32.239999999999995,
          92.175,
          52.650000000000006,
          33.68,
          36.98,
          96.26,
          50.42,
          95.44,
          25.36,
          66.44,
          65.12,
          100,
          89.94999999999999,
          100,
          79.55000000000001,
          86.41999999999999,
          65.52,
          54.86,
          71.76,
          94.0175,
          94.91,
          72.5,
          52.45,
          56.870000000000005
         ],
         "xaxis": "x",
         "y": [
          21.625041461757775,
          99.99999999999999,
          99.99882688031316,
          90.30829056401359,
          27.40552640844991,
          100,
          99.99265732586454,
          100,
          82.61580662358375,
          100,
          78.13624295794929,
          20.961655884003925,
          47.65949322828601,
          97.27169206621517,
          75.38966437587939,
          100,
          82.91808818836864,
          89.27019112564568,
          63.82397537320143,
          92.04616134563642,
          33.58948831622366,
          100,
          19.695129809967952,
          91.29426353993841,
          70.11952495084873,
          26.711745329893496,
          17.088929096627595,
          90.28244837721039,
          51.07860049142541,
          85.6225936360553,
          26.38056387287393,
          69.80123643458668,
          52.957496428041246,
          99.99916151117996,
          84.66978715457044,
          100.00000000000001,
          74.41388176066087,
          83.67678552831691,
          65.15914406994742,
          29.89162665225559,
          67.03592278787858,
          88.48098551272209,
          93.15496143914712,
          64.77213697819309,
          60.04857287701919,
          49.92497430593313
         ],
         "yaxis": "y"
        },
        {
         "customdata": [
          [
           "Angola"
          ],
          [
           "Burundi"
          ],
          [
           "Benin"
          ],
          [
           "Burkina Faso"
          ],
          [
           "Botswana"
          ],
          [
           "Central African Republic"
          ],
          [
           "Côte d'Ivoire"
          ],
          [
           "Cameroon"
          ],
          [
           "Congo, Democratic Republic of the"
          ],
          [
           "Congo"
          ],
          [
           "Djibouti"
          ],
          [
           "Algeria"
          ],
          [
           "Egypt"
          ],
          [
           "Eritrea"
          ],
          [
           "Western Sahara"
          ],
          [
           "Ethiopia"
          ],
          [
           "Gabon"
          ],
          [
           "Ghana"
          ],
          [
           "Guinea"
          ],
          [
           "Gambia"
          ],
          [
           "Guinea-Bissau"
          ],
          [
           "Equatorial Guinea"
          ],
          [
           "Kenya"
          ],
          [
           "Liberia"
          ],
          [
           "Libya"
          ],
          [
           "Lesotho"
          ],
          [
           "Morocco"
          ],
          [
           "Madagascar"
          ],
          [
           "Mali"
          ],
          [
           "Mozambique"
          ],
          [
           "Mauritania"
          ],
          [
           "Mauritius"
          ],
          [
           "Malawi"
          ],
          [
           "Namibia"
          ],
          [
           "Niger"
          ],
          [
           "Nigeria"
          ],
          [
           "Rwanda"
          ],
          [
           "Sudan"
          ],
          [
           "Senegal"
          ],
          [
           "Sierra Leone"
          ],
          [
           "Somalia"
          ],
          [
           "South Sudan"
          ],
          [
           "Sao Tome and Principe"
          ],
          [
           "Eswatini"
          ],
          [
           "Chad"
          ],
          [
           "Togo"
          ],
          [
           "Tunisia"
          ],
          [
           "Tanzania, United Republic of"
          ],
          [
           "Uganda"
          ],
          [
           "South Africa"
          ],
          [
           "Zambia"
          ],
          [
           "Zimbabwe"
          ]
         ],
         "hovertemplate": "region=Africa<br>NATPiped=%{x}<br>piped_calculated=%{y}<br>Entity=%{customdata[0]}<extra></extra>",
         "legendgroup": "Africa",
         "marker": {
          "color": "#EF553B",
          "symbol": "circle"
         },
         "mode": "markers",
         "name": "Africa",
         "orientation": "v",
         "showlegend": true,
         "type": "scatter",
         "x": [
          42.68,
          38.54,
          39,
          31.76,
          91.4,
          13.33,
          48.61,
          41.78,
          35.73,
          55.2,
          83.72,
          71.25,
          99,
          51.92,
          77.54933333333332,
          44.19,
          88.24000000000001,
          57.01,
          22.82,
          79.32,
          47.75,
          40.72,
          33.02,
          5.3,
          77.08500000000001,
          72.1,
          79.65,
          36,
          52.2,
          41.66,
          61.24,
          100,
          20.42,
          83.66,
          41.54,
          12.24,
          45.92,
          59.6,
          77.28999999999999,
          20.92,
          49.32000000000001,
          4.470000000000001,
          96.88,
          62,
          16.6,
          30.680000000000003,
          93.3,
          40.95,
          23.14,
          90.32,
          34.44,
          26.92
         ],
         "xaxis": "x",
         "y": [
          27.077114025320455,
          69.32835349278031,
          34.32819305850498,
          22.174366170552794,
          78.78096795197919,
          5.364502023677781,
          33.37276624660432,
          23.012708935593785,
          15.731224859946794,
          17.312780763838255,
          58.8512186228406,
          64.6409259138542,
          98.9999082622566,
          41.23608307266116,
          51.44932744849886,
          42.86662229403445,
          47.158315564895496,
          44.82790564921688,
          12.918779311149224,
          72.5384145245886,
          34.742159612580394,
          24.08200807617187,
          42.157406890089455,
          1.7510507028301232,
          56.46498567356594,
          69.15473715082649,
          66.91584155650257,
          25.87998722934723,
          34.36538180762044,
          27.11693824450709,
          49.74019324773019,
          99.99999999999997,
          34.99668363108732,
          78.20382771335028,
          36.356197846422695,
          10.684681464212664,
          67.06862885304614,
          49.14258365991953,
          70.40662479020445,
          19.038052698219616,
          23.226600340431826,
          3.072570581340123,
          92.49743969811422,
          54.00835245216523,
          10.379719533711738,
          26.437673536484585,
          86.94724381338041,
          36.90699372256497,
          28.59854145759355,
          85.46653757009577,
          14.982004557634383,
          20.651911793319776
         ],
         "yaxis": "y"
        },
        {
         "customdata": [
          [
           "Albania"
          ],
          [
           "Austria"
          ],
          [
           "Belgium"
          ],
          [
           "Bulgaria"
          ],
          [
           "Bosnia and Herzegovina"
          ],
          [
           "Belarus"
          ],
          [
           "Switzerland"
          ],
          [
           "Czechia"
          ],
          [
           "Germany"
          ],
          [
           "Denmark"
          ],
          [
           "Spain"
          ],
          [
           "Estonia"
          ],
          [
           "Finland"
          ],
          [
           "France"
          ],
          [
           "United Kingdom of Great Britain and Northern Ireland"
          ],
          [
           "Greece"
          ],
          [
           "Croatia"
          ],
          [
           "Hungary"
          ],
          [
           "Ireland"
          ],
          [
           "Iceland"
          ],
          [
           "Italy"
          ],
          [
           "Liechtenstein"
          ],
          [
           "Lithuania"
          ],
          [
           "Luxembourg"
          ],
          [
           "Latvia"
          ],
          [
           "Moldova, Republic of"
          ],
          [
           "North Macedonia"
          ],
          [
           "Malta"
          ],
          [
           "Montenegro"
          ],
          [
           "Netherlands, Kingdom of the"
          ],
          [
           "Norway"
          ],
          [
           "Poland"
          ],
          [
           "Portugal"
          ],
          [
           "Romania"
          ],
          [
           "Russian Federation"
          ],
          [
           "San Marino"
          ],
          [
           "Serbia"
          ],
          [
           "Slovakia"
          ],
          [
           "Slovenia"
          ],
          [
           "Sweden"
          ],
          [
           "Ukraine"
          ]
         ],
         "hovertemplate": "region=Europe<br>NATPiped=%{x}<br>piped_calculated=%{y}<br>Entity=%{customdata[0]}<extra></extra>",
         "legendgroup": "Europe",
         "marker": {
          "color": "#00cc96",
          "symbol": "circle"
         },
         "mode": "markers",
         "name": "Europe",
         "orientation": "v",
         "showlegend": true,
         "type": "scatter",
         "x": [
          81.12,
          99.705,
          100,
          99.28,
          95.5,
          97.8,
          100,
          100,
          100,
          100,
          100,
          100,
          100,
          100,
          100,
          100,
          94.535,
          100,
          95.72,
          100,
          100,
          100,
          95.84,
          99.76,
          94.9,
          76.33,
          92.03,
          100,
          89.28,
          100,
          100,
          90.4,
          98.68,
          64.7,
          94,
          100,
          94.99,
          98.38,
          100,
          87.55999999999999,
          62.5
         ],
         "xaxis": "x",
         "y": [
          77.16923711072499,
          99.85744266636372,
          99.99999999999999,
          97.52704138170793,
          93.58947098709324,
          92.32555696796047,
          100.00000000000001,
          99.99993155246428,
          100.00000000000001,
          100,
          100.00000000000001,
          99.98397848477047,
          99.91517815183651,
          100,
          99.9997469847074,
          99.9997168564773,
          91.24259941632829,
          100,
          96.3296672004384,
          98.65758629767629,
          99.99857972904407,
          100.00000000000001,
          89.28985273356797,
          97.64740752045482,
          90.72586646911608,
          66.41818930122253,
          83.64296070305451,
          100,
          75.7370631129914,
          100,
          99.99999999999997,
          86.41922668520725,
          97.93281109544046,
          42.64510678769451,
          88.45908896398095,
          100,
          93.04266268346124,
          99.47284396766597,
          100,
          81.07868212691567,
          43.637929398728865
         ],
         "yaxis": "y"
        },
        {
         "customdata": [
          [
           "Argentina"
          ],
          [
           "Bahamas"
          ],
          [
           "Belize"
          ],
          [
           "Bolivia, Plurinational State of"
          ],
          [
           "Brazil"
          ],
          [
           "Canada"
          ],
          [
           "Chile"
          ],
          [
           "Colombia"
          ],
          [
           "Costa Rica"
          ],
          [
           "Cuba"
          ],
          [
           "Dominican Republic"
          ],
          [
           "Ecuador"
          ],
          [
           "Grenada"
          ],
          [
           "Greenland"
          ],
          [
           "Guatemala"
          ],
          [
           "Guyana"
          ],
          [
           "Honduras"
          ],
          [
           "Haiti"
          ],
          [
           "Jamaica"
          ],
          [
           "Saint Kitts and Nevis"
          ],
          [
           "Saint Lucia"
          ],
          [
           "Mexico"
          ],
          [
           "Nicaragua"
          ],
          [
           "Panama"
          ],
          [
           "Peru"
          ],
          [
           "Paraguay"
          ],
          [
           "El Salvador"
          ],
          [
           "Suriname"
          ],
          [
           "Trinidad and Tobago"
          ],
          [
           "Uruguay"
          ],
          [
           "United States of America"
          ],
          [
           "Saint Vincent and the Grenadines"
          ],
          [
           "Venezuela, Bolivarian Republic of"
          ]
         ],
         "hovertemplate": "region=Americas<br>NATPiped=%{x}<br>piped_calculated=%{y}<br>Entity=%{customdata[0]}<extra></extra>",
         "legendgroup": "Americas",
         "marker": {
          "color": "#ab63fa",
          "symbol": "circle"
         },
         "mode": "markers",
         "name": "Americas",
         "orientation": "v",
         "showlegend": true,
         "type": "scatter",
         "x": [
          98.56,
          91.76615384615386,
          86.82,
          67.15,
          98.8,
          100,
          100,
          88.7,
          100,
          80.1,
          80.28,
          91.25,
          87.71692307692308,
          100,
          77.72,
          70.13,
          92,
          18.69,
          83.83,
          87.28615384615384,
          96.38,
          98.48,
          69.58,
          93.42,
          91.85,
          100,
          93,
          80.5,
          89.18153846153847,
          100,
          99.15,
          93.68,
          90.44
         ],
         "xaxis": "x",
         "y": [
          87.10177884446392,
          88.98136444935909,
          79.17300626003964,
          29.785251092265277,
          94.80922682663163,
          99.87934137008885,
          99.97931137243756,
          65.6740406800747,
          100,
          63.68787803775797,
          73.17314711629419,
          81.29746854291497,
          91.10314680111377,
          99.91544360279576,
          72.35181665190999,
          73.33531937880822,
          87.26745571876546,
          20.281926489750692,
          75.35485541819558,
          88.20972919971292,
          96.37827319360642,
          96.1581637366413,
          43.48012721696358,
          86.22076055209124,
          85.32391925211738,
          99.96873605388322,
          87.69798247646544,
          73.4569037521017,
          86.95911602614717,
          99.91574926680815,
          97.76987055286364,
          91.9442638872888,
          76.07546804334068
         ],
         "yaxis": "y"
        },
        {
         "customdata": [
          [
           "Australia"
          ],
          [
           "Fiji"
          ],
          [
           "New Zealand"
          ],
          [
           "Palau"
          ],
          [
           "Papua New Guinea"
          ],
          [
           "Solomon Islands"
          ],
          [
           "Vanuatu"
          ],
          [
           "Samoa"
          ]
         ],
         "hovertemplate": "region=Oceania<br>NATPiped=%{x}<br>piped_calculated=%{y}<br>Entity=%{customdata[0]}<extra></extra>",
         "legendgroup": "Oceania",
         "marker": {
          "color": "#FFA15A",
          "symbol": "circle"
         },
         "mode": "markers",
         "name": "Oceania",
         "orientation": "v",
         "showlegend": true,
         "type": "scatter",
         "x": [
          98.18,
          89.18,
          100,
          85.58,
          16.02,
          46.58,
          49.88,
          88.25999999999999
         ],
         "xaxis": "x",
         "y": [
          95.29363572988005,
          86.85903156924519,
          99.92246437974146,
          29,
          12.726416020174863,
          48.078287828096464,
          45.718448064072696,
          87
         ],
         "yaxis": "y"
        }
       ],
       "layout": {
        "height": 800,
        "legend": {
         "title": {
          "text": "region"
         },
         "tracegroupgap": 0
        },
        "template": {
         "data": {
          "bar": [
           {
            "error_x": {
             "color": "#2a3f5f"
            },
            "error_y": {
             "color": "#2a3f5f"
            },
            "marker": {
             "line": {
              "color": "#E5ECF6",
              "width": 0.5
             },
             "pattern": {
              "fillmode": "overlay",
              "size": 10,
              "solidity": 0.2
             }
            },
            "type": "bar"
           }
          ],
          "barpolar": [
           {
            "marker": {
             "line": {
              "color": "#E5ECF6",
              "width": 0.5
             },
             "pattern": {
              "fillmode": "overlay",
              "size": 10,
              "solidity": 0.2
             }
            },
            "type": "barpolar"
           }
          ],
          "carpet": [
           {
            "aaxis": {
             "endlinecolor": "#2a3f5f",
             "gridcolor": "white",
             "linecolor": "white",
             "minorgridcolor": "white",
             "startlinecolor": "#2a3f5f"
            },
            "baxis": {
             "endlinecolor": "#2a3f5f",
             "gridcolor": "white",
             "linecolor": "white",
             "minorgridcolor": "white",
             "startlinecolor": "#2a3f5f"
            },
            "type": "carpet"
           }
          ],
          "choropleth": [
           {
            "colorbar": {
             "outlinewidth": 0,
             "ticks": ""
            },
            "type": "choropleth"
           }
          ],
          "contour": [
           {
            "colorbar": {
             "outlinewidth": 0,
             "ticks": ""
            },
            "colorscale": [
             [
              0,
              "#0d0887"
             ],
             [
              0.1111111111111111,
              "#46039f"
             ],
             [
              0.2222222222222222,
              "#7201a8"
             ],
             [
              0.3333333333333333,
              "#9c179e"
             ],
             [
              0.4444444444444444,
              "#bd3786"
             ],
             [
              0.5555555555555556,
              "#d8576b"
             ],
             [
              0.6666666666666666,
              "#ed7953"
             ],
             [
              0.7777777777777778,
              "#fb9f3a"
             ],
             [
              0.8888888888888888,
              "#fdca26"
             ],
             [
              1,
              "#f0f921"
             ]
            ],
            "type": "contour"
           }
          ],
          "contourcarpet": [
           {
            "colorbar": {
             "outlinewidth": 0,
             "ticks": ""
            },
            "type": "contourcarpet"
           }
          ],
          "heatmap": [
           {
            "colorbar": {
             "outlinewidth": 0,
             "ticks": ""
            },
            "colorscale": [
             [
              0,
              "#0d0887"
             ],
             [
              0.1111111111111111,
              "#46039f"
             ],
             [
              0.2222222222222222,
              "#7201a8"
             ],
             [
              0.3333333333333333,
              "#9c179e"
             ],
             [
              0.4444444444444444,
              "#bd3786"
             ],
             [
              0.5555555555555556,
              "#d8576b"
             ],
             [
              0.6666666666666666,
              "#ed7953"
             ],
             [
              0.7777777777777778,
              "#fb9f3a"
             ],
             [
              0.8888888888888888,
              "#fdca26"
             ],
             [
              1,
              "#f0f921"
             ]
            ],
            "type": "heatmap"
           }
          ],
          "heatmapgl": [
           {
            "colorbar": {
             "outlinewidth": 0,
             "ticks": ""
            },
            "colorscale": [
             [
              0,
              "#0d0887"
             ],
             [
              0.1111111111111111,
              "#46039f"
             ],
             [
              0.2222222222222222,
              "#7201a8"
             ],
             [
              0.3333333333333333,
              "#9c179e"
             ],
             [
              0.4444444444444444,
              "#bd3786"
             ],
             [
              0.5555555555555556,
              "#d8576b"
             ],
             [
              0.6666666666666666,
              "#ed7953"
             ],
             [
              0.7777777777777778,
              "#fb9f3a"
             ],
             [
              0.8888888888888888,
              "#fdca26"
             ],
             [
              1,
              "#f0f921"
             ]
            ],
            "type": "heatmapgl"
           }
          ],
          "histogram": [
           {
            "marker": {
             "pattern": {
              "fillmode": "overlay",
              "size": 10,
              "solidity": 0.2
             }
            },
            "type": "histogram"
           }
          ],
          "histogram2d": [
           {
            "colorbar": {
             "outlinewidth": 0,
             "ticks": ""
            },
            "colorscale": [
             [
              0,
              "#0d0887"
             ],
             [
              0.1111111111111111,
              "#46039f"
             ],
             [
              0.2222222222222222,
              "#7201a8"
             ],
             [
              0.3333333333333333,
              "#9c179e"
             ],
             [
              0.4444444444444444,
              "#bd3786"
             ],
             [
              0.5555555555555556,
              "#d8576b"
             ],
             [
              0.6666666666666666,
              "#ed7953"
             ],
             [
              0.7777777777777778,
              "#fb9f3a"
             ],
             [
              0.8888888888888888,
              "#fdca26"
             ],
             [
              1,
              "#f0f921"
             ]
            ],
            "type": "histogram2d"
           }
          ],
          "histogram2dcontour": [
           {
            "colorbar": {
             "outlinewidth": 0,
             "ticks": ""
            },
            "colorscale": [
             [
              0,
              "#0d0887"
             ],
             [
              0.1111111111111111,
              "#46039f"
             ],
             [
              0.2222222222222222,
              "#7201a8"
             ],
             [
              0.3333333333333333,
              "#9c179e"
             ],
             [
              0.4444444444444444,
              "#bd3786"
             ],
             [
              0.5555555555555556,
              "#d8576b"
             ],
             [
              0.6666666666666666,
              "#ed7953"
             ],
             [
              0.7777777777777778,
              "#fb9f3a"
             ],
             [
              0.8888888888888888,
              "#fdca26"
             ],
             [
              1,
              "#f0f921"
             ]
            ],
            "type": "histogram2dcontour"
           }
          ],
          "mesh3d": [
           {
            "colorbar": {
             "outlinewidth": 0,
             "ticks": ""
            },
            "type": "mesh3d"
           }
          ],
          "parcoords": [
           {
            "line": {
             "colorbar": {
              "outlinewidth": 0,
              "ticks": ""
             }
            },
            "type": "parcoords"
           }
          ],
          "pie": [
           {
            "automargin": true,
            "type": "pie"
           }
          ],
          "scatter": [
           {
            "fillpattern": {
             "fillmode": "overlay",
             "size": 10,
             "solidity": 0.2
            },
            "type": "scatter"
           }
          ],
          "scatter3d": [
           {
            "line": {
             "colorbar": {
              "outlinewidth": 0,
              "ticks": ""
             }
            },
            "marker": {
             "colorbar": {
              "outlinewidth": 0,
              "ticks": ""
             }
            },
            "type": "scatter3d"
           }
          ],
          "scattercarpet": [
           {
            "marker": {
             "colorbar": {
              "outlinewidth": 0,
              "ticks": ""
             }
            },
            "type": "scattercarpet"
           }
          ],
          "scattergeo": [
           {
            "marker": {
             "colorbar": {
              "outlinewidth": 0,
              "ticks": ""
             }
            },
            "type": "scattergeo"
           }
          ],
          "scattergl": [
           {
            "marker": {
             "colorbar": {
              "outlinewidth": 0,
              "ticks": ""
             }
            },
            "type": "scattergl"
           }
          ],
          "scattermapbox": [
           {
            "marker": {
             "colorbar": {
              "outlinewidth": 0,
              "ticks": ""
             }
            },
            "type": "scattermapbox"
           }
          ],
          "scatterpolar": [
           {
            "marker": {
             "colorbar": {
              "outlinewidth": 0,
              "ticks": ""
             }
            },
            "type": "scatterpolar"
           }
          ],
          "scatterpolargl": [
           {
            "marker": {
             "colorbar": {
              "outlinewidth": 0,
              "ticks": ""
             }
            },
            "type": "scatterpolargl"
           }
          ],
          "scatterternary": [
           {
            "marker": {
             "colorbar": {
              "outlinewidth": 0,
              "ticks": ""
             }
            },
            "type": "scatterternary"
           }
          ],
          "surface": [
           {
            "colorbar": {
             "outlinewidth": 0,
             "ticks": ""
            },
            "colorscale": [
             [
              0,
              "#0d0887"
             ],
             [
              0.1111111111111111,
              "#46039f"
             ],
             [
              0.2222222222222222,
              "#7201a8"
             ],
             [
              0.3333333333333333,
              "#9c179e"
             ],
             [
              0.4444444444444444,
              "#bd3786"
             ],
             [
              0.5555555555555556,
              "#d8576b"
             ],
             [
              0.6666666666666666,
              "#ed7953"
             ],
             [
              0.7777777777777778,
              "#fb9f3a"
             ],
             [
              0.8888888888888888,
              "#fdca26"
             ],
             [
              1,
              "#f0f921"
             ]
            ],
            "type": "surface"
           }
          ],
          "table": [
           {
            "cells": {
             "fill": {
              "color": "#EBF0F8"
             },
             "line": {
              "color": "white"
             }
            },
            "header": {
             "fill": {
              "color": "#C8D4E3"
             },
             "line": {
              "color": "white"
             }
            },
            "type": "table"
           }
          ]
         },
         "layout": {
          "annotationdefaults": {
           "arrowcolor": "#2a3f5f",
           "arrowhead": 0,
           "arrowwidth": 1
          },
          "autotypenumbers": "strict",
          "coloraxis": {
           "colorbar": {
            "outlinewidth": 0,
            "ticks": ""
           }
          },
          "colorscale": {
           "diverging": [
            [
             0,
             "#8e0152"
            ],
            [
             0.1,
             "#c51b7d"
            ],
            [
             0.2,
             "#de77ae"
            ],
            [
             0.3,
             "#f1b6da"
            ],
            [
             0.4,
             "#fde0ef"
            ],
            [
             0.5,
             "#f7f7f7"
            ],
            [
             0.6,
             "#e6f5d0"
            ],
            [
             0.7,
             "#b8e186"
            ],
            [
             0.8,
             "#7fbc41"
            ],
            [
             0.9,
             "#4d9221"
            ],
            [
             1,
             "#276419"
            ]
           ],
           "sequential": [
            [
             0,
             "#0d0887"
            ],
            [
             0.1111111111111111,
             "#46039f"
            ],
            [
             0.2222222222222222,
             "#7201a8"
            ],
            [
             0.3333333333333333,
             "#9c179e"
            ],
            [
             0.4444444444444444,
             "#bd3786"
            ],
            [
             0.5555555555555556,
             "#d8576b"
            ],
            [
             0.6666666666666666,
             "#ed7953"
            ],
            [
             0.7777777777777778,
             "#fb9f3a"
            ],
            [
             0.8888888888888888,
             "#fdca26"
            ],
            [
             1,
             "#f0f921"
            ]
           ],
           "sequentialminus": [
            [
             0,
             "#0d0887"
            ],
            [
             0.1111111111111111,
             "#46039f"
            ],
            [
             0.2222222222222222,
             "#7201a8"
            ],
            [
             0.3333333333333333,
             "#9c179e"
            ],
            [
             0.4444444444444444,
             "#bd3786"
            ],
            [
             0.5555555555555556,
             "#d8576b"
            ],
            [
             0.6666666666666666,
             "#ed7953"
            ],
            [
             0.7777777777777778,
             "#fb9f3a"
            ],
            [
             0.8888888888888888,
             "#fdca26"
            ],
            [
             1,
             "#f0f921"
            ]
           ]
          },
          "colorway": [
           "#636efa",
           "#EF553B",
           "#00cc96",
           "#ab63fa",
           "#FFA15A",
           "#19d3f3",
           "#FF6692",
           "#B6E880",
           "#FF97FF",
           "#FECB52"
          ],
          "font": {
           "color": "#2a3f5f"
          },
          "geo": {
           "bgcolor": "white",
           "lakecolor": "white",
           "landcolor": "#E5ECF6",
           "showlakes": true,
           "showland": true,
           "subunitcolor": "white"
          },
          "hoverlabel": {
           "align": "left"
          },
          "hovermode": "closest",
          "mapbox": {
           "style": "light"
          },
          "paper_bgcolor": "white",
          "plot_bgcolor": "#E5ECF6",
          "polar": {
           "angularaxis": {
            "gridcolor": "white",
            "linecolor": "white",
            "ticks": ""
           },
           "bgcolor": "#E5ECF6",
           "radialaxis": {
            "gridcolor": "white",
            "linecolor": "white",
            "ticks": ""
           }
          },
          "scene": {
           "xaxis": {
            "backgroundcolor": "#E5ECF6",
            "gridcolor": "white",
            "gridwidth": 2,
            "linecolor": "white",
            "showbackground": true,
            "ticks": "",
            "zerolinecolor": "white"
           },
           "yaxis": {
            "backgroundcolor": "#E5ECF6",
            "gridcolor": "white",
            "gridwidth": 2,
            "linecolor": "white",
            "showbackground": true,
            "ticks": "",
            "zerolinecolor": "white"
           },
           "zaxis": {
            "backgroundcolor": "#E5ECF6",
            "gridcolor": "white",
            "gridwidth": 2,
            "linecolor": "white",
            "showbackground": true,
            "ticks": "",
            "zerolinecolor": "white"
           }
          },
          "shapedefaults": {
           "line": {
            "color": "#2a3f5f"
           }
          },
          "ternary": {
           "aaxis": {
            "gridcolor": "white",
            "linecolor": "white",
            "ticks": ""
           },
           "baxis": {
            "gridcolor": "white",
            "linecolor": "white",
            "ticks": ""
           },
           "bgcolor": "#E5ECF6",
           "caxis": {
            "gridcolor": "white",
            "linecolor": "white",
            "ticks": ""
           }
          },
          "title": {
           "x": 0.05
          },
          "xaxis": {
           "automargin": true,
           "gridcolor": "white",
           "linecolor": "white",
           "ticks": "",
           "title": {
            "standoff": 15
           },
           "zerolinecolor": "white",
           "zerolinewidth": 2
          },
          "yaxis": {
           "automargin": true,
           "gridcolor": "white",
           "linecolor": "white",
           "ticks": "",
           "title": {
            "standoff": 15
           },
           "zerolinecolor": "white",
           "zerolinewidth": 2
          }
         }
        },
        "title": {
         "text": "Piped Calculated vs NATPiped"
        },
        "width": 1200,
        "xaxis": {
         "anchor": "y",
         "domain": [
          0,
          1
         ],
         "range": [
          0,
          105
         ],
         "title": {
          "text": "NATPiped"
         }
        },
        "yaxis": {
         "anchor": "x",
         "domain": [
          0,
          1
         ],
         "range": [
          0,
          105
         ],
         "title": {
          "text": "piped_calculated"
         }
        }
       }
      }
     },
     "metadata": {},
     "output_type": "display_data"
    }
   ],
   "source": [
    "import plotly.express as px\n",
    "\n",
    "fig = px.scatter(\n",
    "    country_medians, x=\"NATPiped\", y=\"piped_calculated\", \n",
    "    labels={'x':'NATPiped', 'y':'Piped Calculated'}, \n",
    "    title=\"Piped Calculated vs NATPiped\",\n",
    "    # size=\"bubble_size\",\n",
    "    color=\"region\",\n",
    "    hover_data=['Entity']\n",
    ").update_layout(\n",
    "    width=1200,\n",
    "    height=800,\n",
    ").update_xaxes(\n",
    "    range=[0, 105]\n",
    ").update_yaxes(\n",
    "    range=[0, 105]\n",
    ")\n",
    "\n",
    "fig.show()"
   ]
  },
  {
   "cell_type": "code",
   "execution_count": 51,
   "metadata": {},
   "outputs": [
    {
     "data": {
      "text/plain": [
       "SignificanceResult(statistic=0.9686810653513711, pvalue=1.2537460795052672e-109)"
      ]
     },
     "execution_count": 51,
     "metadata": {},
     "output_type": "execute_result"
    }
   ],
   "source": [
    "correlation_piped = spearmanr(country_medians[\"NATPiped\"], country_medians[\"piped_calculated\"])\n",
    "correlation_piped\n"
   ]
  },
  {
   "cell_type": "markdown",
   "metadata": {},
   "source": [
    "<div class=\"alert alert-success\">Quote from paper: \"Despite reliance on piped infrastructure being a risk factor for losing water access in GCIL at the individual level, this does not seem to inherently imply the same at the national level (Figure X). The median results had a Spearman correlation coefficient of 0.42 (p = X.XXX), indicating a moderate positive correlation.\""
   ]
  },
  {
   "cell_type": "code",
   "execution_count": 52,
   "metadata": {},
   "outputs": [
    {
     "data": {
      "application/vnd.plotly.v1+json": {
       "config": {
        "plotlyServerURL": "https://plotly.com"
       },
       "data": [
        {
         "hovertemplate": "<b>%{hovertext}</b><br><br>region=Asia<br>piped_calculated=%{x}<br>percent_without_water=%{y}<br>bubble_size=%{marker.size}<extra></extra>",
         "hovertext": [
          "Afghanistan",
          "United Arab Emirates",
          "Armenia",
          "Azerbaijan",
          "Bangladesh",
          "Bahrain",
          "Brunei Darussalam",
          "Bhutan",
          "China",
          "Cyprus",
          "Georgia",
          "Indonesia",
          "India",
          "Iran, Islamic Republic of",
          "Iraq",
          "Israel",
          "Jordan",
          "Japan",
          "Kazakhstan",
          "Kyrgyzstan",
          "Cambodia",
          "Korea, Republic of",
          "Lao People's Democratic Republic",
          "Lebanon",
          "Sri Lanka",
          "Myanmar",
          "Mongolia",
          "Malaysia",
          "Nepal",
          "Oman",
          "Pakistan",
          "Philippines",
          "Korea, Democratic People's Republic of",
          "Qatar",
          "Saudi Arabia",
          "Singapore",
          "Syrian Arab Republic",
          "Thailand",
          "Tajikistan",
          "Turkmenistan",
          "Timor-Leste",
          "Türkiye",
          "Taiwan, Province of China",
          "Uzbekistan",
          "Viet Nam",
          "Yemen"
         ],
         "legendgroup": "Asia",
         "marker": {
          "color": "#636efa",
          "size": [
           6311.531351423361,
           3160.8674442310926,
           1722.8255860649388,
           3197.3964408562165,
           12895.871199729005,
           1322.2310690647078,
           664.4787430761048,
           883.1194709664146,
           38002.843340992265,
           1102.5370742065772,
           1994.9368411055023,
           16624.13269918163,
           37328.394460517586,
           9221.10405537211,
           6417.113915149083,
           2964.7556391716334,
           3204.531479015302,
           11227.23456600066,
           4358.320548101069,
           2574.5576319049455,
           4116.606126410444,
           7162.763712422741,
           2716.4973771384357,
           2601.759212532935,
           4636.518737156144,
           7403.108401205537,
           1824.6320176956228,
           5725.049781442953,
           5447.469137131481,
           2285.4706298703554,
           15006.662820227555,
           10537.879767771125,
           5087.931308498573,
           1711.8773320539062,
           5944.80277216999,
           2428.3088765640996,
           4275.009239756097,
           8363.662116561141,
           3122.438950564126,
           2473.4455724757718,
           1159.2562270697535,
           9221.86185105806,
           4884.15888357453,
           5825.44118500908,
           9908.018419441902,
           5521.832938436294
          ],
          "sizemode": "area",
          "sizeref": 95.00710835248066,
          "symbol": "circle"
         },
         "mode": "markers",
         "name": "Asia",
         "orientation": "v",
         "showlegend": true,
         "type": "scatter",
         "x": [
          21.625041461757775,
          99.99999999999999,
          99.99882688031316,
          90.30829056401359,
          27.40552640844991,
          100,
          99.99265732586454,
          100,
          82.61580662358375,
          100,
          78.13624295794929,
          20.961655884003925,
          47.65949322828601,
          97.27169206621517,
          75.38966437587939,
          100,
          82.91808818836864,
          89.27019112564568,
          63.82397537320143,
          92.04616134563642,
          33.58948831622366,
          100,
          19.695129809967952,
          91.29426353993841,
          70.11952495084873,
          26.711745329893496,
          17.088929096627595,
          90.28244837721039,
          51.07860049142541,
          85.6225936360553,
          26.38056387287393,
          69.80123643458668,
          52.957496428041246,
          99.99916151117996,
          84.66978715457044,
          100.00000000000001,
          74.41388176066087,
          83.67678552831691,
          65.15914406994742,
          29.89162665225559,
          67.03592278787858,
          88.48098551272209,
          93.15496143914712,
          64.77213697819309,
          60.04857287701919,
          49.92497430593313
         ],
         "xaxis": "x",
         "y": [
          11.985627599001276,
          99.93477667227891,
          53.08670104411034,
          34.833750735562305,
          10.838723039295727,
          100,
          24.62656424916157,
          61.623854748425046,
          19.43977432994277,
          44.027689682092536,
          32.90126766196144,
          9.64627385124055,
          17.32848674312033,
          61.523989644178144,
          34.05566880810585,
          77.86642662260462,
          61.14226618029558,
          14.46027960523994,
          34.009922615278825,
          27.87977161215848,
          7.289421058784006,
          43.42997826225097,
          4.117981015779609,
          54.5954975117207,
          23.839386185486063,
          7.54233506523574,
          5.301032539975324,
          30.7239777617934,
          13.143432754147945,
          80.49716400637065,
          8.472919246614895,
          22.819828510953855,
          19.69090247090581,
          99.99916151117996,
          83.97403942347452,
          54.349692999442425,
          51.229496865747336,
          19.76761497660094,
          25.841675065316117,
          18.129632709510744,
          65.52381917266365,
          42.50262020918199,
          19.14919437034338,
          28.337054962425004,
          8.157861193462566,
          47.32960190895207
         ],
         "yaxis": "y"
        },
        {
         "hovertemplate": "<b>%{hovertext}</b><br><br>region=Africa<br>piped_calculated=%{x}<br>percent_without_water=%{y}<br>bubble_size=%{marker.size}<extra></extra>",
         "hovertext": [
          "Angola",
          "Burundi",
          "Benin",
          "Burkina Faso",
          "Botswana",
          "Central African Republic",
          "Côte d'Ivoire",
          "Cameroon",
          "Congo, Democratic Republic of the",
          "Congo",
          "Djibouti",
          "Algeria",
          "Egypt",
          "Eritrea",
          "Western Sahara",
          "Ethiopia",
          "Gabon",
          "Ghana",
          "Guinea",
          "Gambia",
          "Guinea-Bissau",
          "Equatorial Guinea",
          "Kenya",
          "Liberia",
          "Libya",
          "Lesotho",
          "Morocco",
          "Madagascar",
          "Mali",
          "Mozambique",
          "Mauritania",
          "Mauritius",
          "Malawi",
          "Namibia",
          "Niger",
          "Nigeria",
          "Rwanda",
          "Sudan",
          "Senegal",
          "Sierra Leone",
          "Somalia",
          "South Sudan",
          "Sao Tome and Principe",
          "Eswatini",
          "Chad",
          "Togo",
          "Tunisia",
          "Tanzania, United Republic of",
          "Uganda",
          "South Africa",
          "Zambia",
          "Zimbabwe"
         ],
         "legendgroup": "Africa",
         "marker": {
          "color": "#EF553B",
          "size": [
           5825.256303374127,
           3500.775485517459,
           3528.601847757834,
           4636.496198639658,
           1548.3022960649512,
           2218.104370853635,
           5201.310315680079,
           5217.687418770887,
           9611.346731858132,
           2378.4484438389663,
           1001.0978973107475,
           6679.567800389484,
           10210.696695133001,
           1897.7518278215412,
           782.222474747434,
           10857.081836294687,
           1509.5790804061905,
           5633.127728003334,
           3673.8585982587842,
           1577.0025364595963,
           1419.6795413050088,
           1204.1141972421055,
           7415.234453474819,
           2276.007029866121,
           2637.9040922671925,
           1469.376398340466,
           6111.0381278470195,
           5331.728894083044,
           4566.806761841363,
           5671.247217323541,
           2185.202507778169,
           1128.4626710706916,
           4432.570473213032,
           1608.5223032336232,
           5013.063933364505,
           14539.625304663115,
           3643.69551417239,
           6701.443948881465,
           4146.8431366522655,
           2853.3038744585197,
           4044.687874237022,
           3373.62964772365,
           472.6140074098524,
           1082.759899516047,
           4112.783120953499,
           2911.742090227086,
           3454.817506034147,
           7842.09398056412,
           6864.658258063543,
           7748.677048374128,
           4349.788155761152,
           3884.8643476960683
          ],
          "sizemode": "area",
          "sizeref": 95.00710835248066,
          "symbol": "circle"
         },
         "mode": "markers",
         "name": "Africa",
         "orientation": "v",
         "showlegend": true,
         "type": "scatter",
         "x": [
          27.077114025320455,
          69.32835349278031,
          34.32819305850498,
          22.174366170552794,
          78.78096795197919,
          5.364502023677781,
          33.37276624660432,
          23.012708935593785,
          15.731224859946794,
          17.312780763838255,
          58.8512186228406,
          64.6409259138542,
          98.9999082622566,
          41.23608307266116,
          51.44932744849886,
          42.86662229403445,
          47.158315564895496,
          44.82790564921688,
          12.918779311149224,
          72.5384145245886,
          34.742159612580394,
          24.08200807617187,
          42.157406890089455,
          1.7510507028301232,
          56.46498567356594,
          69.15473715082649,
          66.91584155650257,
          25.87998722934723,
          34.36538180762044,
          27.11693824450709,
          49.74019324773019,
          99.99999999999997,
          34.99668363108732,
          78.20382771335028,
          36.356197846422695,
          10.684681464212664,
          67.06862885304614,
          49.14258365991953,
          70.40662479020445,
          19.038052698219616,
          23.226600340431826,
          3.072570581340123,
          92.49743969811422,
          54.00835245216523,
          10.379719533711738,
          26.437673536484585,
          86.94724381338041,
          36.90699372256497,
          28.59854145759355,
          85.46653757009577,
          14.982004557634383,
          20.651911793319776
         ],
         "xaxis": "x",
         "y": [
          18.13817833431503,
          37.21922316215664,
          15.57364654066048,
          11.05311016436002,
          73.49229177698248,
          3.307354255137165,
          12.577721971733764,
          12.192483356876496,
          6.5405146108200505,
          9.46717573003292,
          58.44239123834882,
          46.83119632615868,
          41.12375898519009,
          36.92887095896153,
          51.38351430965837,
          33.091611225954665,
          32.828966618889496,
          23.03459916857937,
          6.533903323040182,
          32.72471205476457,
          14.172871156331391,
          9.77014318558585,
          22.05753231227902,
          1.578507539224121,
          56.44239994789505,
          23.67510990270358,
          47.09156374506316,
          13.74471000550512,
          19.52790651559259,
          10.12382620627004,
          46.81691868314808,
          7.335224368568187,
          10.560781479148408,
          72.91670430704096,
          32.18636718744817,
          5.281845280687152,
          39.57530713631161,
          41.7931826826355,
          59.76972103894842,
          12.126496154591862,
          22.322369230054612,
          2.239172526100365,
          62.150478588559885,
          14.91161780136266,
          5.97119487059719,
          12.285848273917544,
          61.067206128354506,
          12.519856156738465,
          10.902993780019248,
          40.65290685838949,
          6.897361171130304,
          11.04046351946238
         ],
         "yaxis": "y"
        },
        {
         "hovertemplate": "<b>%{hovertext}</b><br><br>region=Europe<br>piped_calculated=%{x}<br>percent_without_water=%{y}<br>bubble_size=%{marker.size}<extra></extra>",
         "hovertext": [
          "Albania",
          "Austria",
          "Belgium",
          "Bulgaria",
          "Bosnia and Herzegovina",
          "Belarus",
          "Switzerland",
          "Czechia",
          "Germany",
          "Denmark",
          "Spain",
          "Estonia",
          "Finland",
          "France",
          "United Kingdom of Great Britain and Northern Ireland",
          "Greece",
          "Croatia",
          "Hungary",
          "Ireland",
          "Iceland",
          "Italy",
          "Liechtenstein",
          "Lithuania",
          "Luxembourg",
          "Latvia",
          "Moldova, Republic of",
          "North Macedonia",
          "Malta",
          "Montenegro",
          "Netherlands, Kingdom of the",
          "Norway",
          "Poland",
          "Portugal",
          "Romania",
          "Russian Federation",
          "San Marino",
          "Serbia",
          "Slovakia",
          "Slovenia",
          "Sweden",
          "Ukraine"
         ],
         "legendgroup": "Europe",
         "marker": {
          "color": "#00cc96",
          "size": [
           1694.9731561296182,
           3007.1700982817715,
           3410.6207646116272,
           2626.1483202591585,
           1806.504636030586,
           3072.9248282377494,
           2952.2015513849997,
           3274.836331788201,
           9159.720028472486,
           2411.0790115630803,
           6837.046950255643,
           1151.1681024072898,
           2355.495913815178,
           8088.644942139567,
           8258.759834260833,
           3220.364420372328,
           2020.3111146553642,
           3103.8946502740714,
           2232.2419223731104,
           585.9692824713596,
           7769.650635646367,
           195.5862980885931,
           1640.0798761036,
           796.7521571982093,
           1366.3579326077045,
           2005.9972582234502,
           1443.1427510818187,
           665.4246764285195,
           792.4966876902389,
           4144.043194755576,
           2337.868473631483,
           6147.926479716556,
           3188.7180809848965,
           4373.5308390361215,
           12079.404869446176,
           184.41800345953212,
           2949.1603889920943,
           2336.8196336046135,
           1441.7777221194674,
           3187.50043137252,
           6592.937281667406
          ],
          "sizemode": "area",
          "sizeref": 95.00710835248066,
          "symbol": "circle"
         },
         "mode": "markers",
         "name": "Europe",
         "orientation": "v",
         "showlegend": true,
         "type": "scatter",
         "x": [
          77.16923711072499,
          99.85744266636372,
          99.99999999999999,
          97.52704138170793,
          93.58947098709324,
          92.32555696796047,
          100.00000000000001,
          99.99993155246428,
          100.00000000000001,
          100,
          100.00000000000001,
          99.98397848477047,
          99.91517815183651,
          100,
          99.9997469847074,
          99.9997168564773,
          91.24259941632829,
          100,
          96.3296672004384,
          98.65758629767629,
          99.99857972904407,
          100.00000000000001,
          89.28985273356797,
          97.64740752045482,
          90.72586646911608,
          66.41818930122253,
          83.64296070305451,
          100,
          75.7370631129914,
          100,
          99.99999999999997,
          86.41922668520725,
          97.93281109544046,
          42.64510678769451,
          88.45908896398095,
          100,
          93.04266268346124,
          99.47284396766597,
          100,
          81.07868212691567,
          43.637929398728865
         ],
         "xaxis": "x",
         "y": [
          15.235440916690989,
          7.696239933165364,
          16.83384332428112,
          37.94096015917755,
          34.232500897751414,
          22.02003638675481,
          12.027691994613786,
          30.02115914312462,
          15.199405729617988,
          7.4486802193866595,
          29.0624922494644,
          39.21043581259649,
          8.69480637035946,
          17.4523002897117,
          21.26393705404725,
          68.7351588490717,
          33.24194401744071,
          30.97109361065816,
          22.847937145260225,
          35.29548727850927,
          20.88337493573573,
          17.376179372494263,
          18.72015802453012,
          17.804506104125164,
          29.05428325540217,
          22.152931026055704,
          23.346594299308176,
          39.26615856403936,
          40.91758399781642,
          4.739567514573818,
          12.078708429566724,
          15.2605476378347,
          42.86302754345689,
          15.986008793094651,
          35.091191554791095,
          34.37,
          35.02441974336425,
          19.97956770277869,
          10.676953083647533,
          6.183080108190314,
          14.488526771272513
         ],
         "yaxis": "y"
        },
        {
         "hovertemplate": "<b>%{hovertext}</b><br><br>region=Americas<br>piped_calculated=%{x}<br>percent_without_water=%{y}<br>bubble_size=%{marker.size}<extra></extra>",
         "hovertext": [
          "Argentina",
          "Bahamas",
          "Belize",
          "Bolivia, Plurinational State of",
          "Brazil",
          "Canada",
          "Chile",
          "Colombia",
          "Costa Rica",
          "Cuba",
          "Dominican Republic",
          "Ecuador",
          "Grenada",
          "Greenland",
          "Guatemala",
          "Guyana",
          "Honduras",
          "Haiti",
          "Jamaica",
          "Saint Kitts and Nevis",
          "Saint Lucia",
          "Mexico",
          "Nicaragua",
          "Panama",
          "Peru",
          "Paraguay",
          "El Salvador",
          "Suriname",
          "Trinidad and Tobago",
          "Uruguay",
          "United States of America",
          "Saint Vincent and the Grenadines",
          "Venezuela, Bolivarian Republic of"
         ],
         "legendgroup": "Americas",
         "marker": {
          "color": "#ab63fa",
          "size": [
           6753.2083486295605,
           630.0111110131313,
           636.329317256403,
           3439.903487018204,
           14628.514654605231,
           6169.920015689021,
           4383.19084686031,
           7160.01682958916,
           2266.947948233483,
           3364.1489265488826,
           3309.6395574140697,
           4229.476799794509,
           336.17703669346605,
           238.47012391492567,
           4271.9864231994,
           889.004499426184,
           3172.222249464876,
           3397.3052556401226,
           1724.3729295022001,
           231.40008643040738,
           429.41937543618127,
           11413.24756587712,
           2588.895324264772,
           2093.2231128095254,
           5775.760988822166,
           2686.9389646957,
           2553.1353273964933,
           769.284082767868,
           1184.6408738516495,
           1866.856180855933,
           18245.96048444696,
           333.5700825913499,
           5357.699786288888
          ],
          "sizemode": "area",
          "sizeref": 95.00710835248066,
          "symbol": "circle"
         },
         "mode": "markers",
         "name": "Americas",
         "orientation": "v",
         "showlegend": true,
         "type": "scatter",
         "x": [
          87.10177884446392,
          88.98136444935909,
          79.17300626003964,
          29.785251092265277,
          94.80922682663163,
          99.87934137008885,
          99.97931137243756,
          65.6740406800747,
          100,
          63.68787803775797,
          73.17314711629419,
          81.29746854291497,
          91.10314680111377,
          99.91544360279576,
          72.35181665190999,
          73.33531937880822,
          87.26745571876546,
          20.281926489750692,
          75.35485541819558,
          88.20972919971292,
          96.37827319360642,
          96.1581637366413,
          43.48012721696358,
          86.22076055209124,
          85.32391925211738,
          99.96873605388322,
          87.69798247646544,
          73.4569037521017,
          86.95911602614717,
          99.91574926680815,
          97.76987055286364,
          91.9442638872888,
          76.07546804334068
         ],
         "xaxis": "x",
         "y": [
          32.87609346315251,
          36.96327883263877,
          10.199378888676032,
          16.332482645599157,
          39.349918733284206,
          20.419597919323632,
          37.52139258975967,
          29.69056722567417,
          22.91663520920408,
          23.52344754032281,
          40.38560160742696,
          27.481663242908382,
          45.315440934078005,
          86.9414390124537,
          35.087994767581,
          7.124265561740265,
          35.13563620648161,
          10.503020225667496,
          33.69980225198082,
          54.17323478168237,
          57.47694395796271,
          54.165240077902304,
          23.8143625597644,
          13.538063875376512,
          47.6001475654818,
          45.04862180460216,
          35.32747164982851,
          11.468184152726684,
          43.50623326289387,
          54.38561478825851,
          32.68750015987493,
          44.184957311232026,
          46.47056879983656
         ],
         "yaxis": "y"
        },
        {
         "hovertemplate": "<b>%{hovertext}</b><br><br>region=Oceania<br>piped_calculated=%{x}<br>percent_without_water=%{y}<br>bubble_size=%{marker.size}<extra></extra>",
         "hovertext": [
          "Australia",
          "Fiji",
          "New Zealand",
          "Palau",
          "Papua New Guinea",
          "Solomon Islands",
          "Vanuatu",
          "Samoa"
         ],
         "legendgroup": "Oceania",
         "marker": {
          "color": "#FFA15A",
          "size": [
           5078.210019288294,
           950.209976794603,
           2204.686372253432,
           134.8109787814034,
           3019.7690309028603,
           839.0440989602394,
           560.7708979610122,
           447.3745634253249
          ],
          "sizemode": "area",
          "sizeref": 95.00710835248066,
          "symbol": "circle"
         },
         "mode": "markers",
         "name": "Oceania",
         "orientation": "v",
         "showlegend": true,
         "type": "scatter",
         "x": [
          95.29363572988005,
          86.85903156924519,
          99.92246437974146,
          29,
          12.726416020174863,
          48.078287828096464,
          45.718448064072696,
          87
         ],
         "xaxis": "x",
         "y": [
          21.410635259404927,
          38.80264443782993,
          18.358440496156398,
          20.56288953470428,
          2.582174505711925,
          19.395005686416,
          22.565917286059538,
          66.88219832558782
         ],
         "yaxis": "y"
        }
       ],
       "layout": {
        "font": {
         "size": 25
        },
        "height": 800,
        "legend": {
         "itemsizing": "constant",
         "title": {
          "text": "Region"
         },
         "tracegroupgap": 0
        },
        "margin": {
         "t": 60
        },
        "template": {
         "data": {
          "bar": [
           {
            "error_x": {
             "color": "#2a3f5f"
            },
            "error_y": {
             "color": "#2a3f5f"
            },
            "marker": {
             "line": {
              "color": "#E5ECF6",
              "width": 0.5
             },
             "pattern": {
              "fillmode": "overlay",
              "size": 10,
              "solidity": 0.2
             }
            },
            "type": "bar"
           }
          ],
          "barpolar": [
           {
            "marker": {
             "line": {
              "color": "#E5ECF6",
              "width": 0.5
             },
             "pattern": {
              "fillmode": "overlay",
              "size": 10,
              "solidity": 0.2
             }
            },
            "type": "barpolar"
           }
          ],
          "carpet": [
           {
            "aaxis": {
             "endlinecolor": "#2a3f5f",
             "gridcolor": "white",
             "linecolor": "white",
             "minorgridcolor": "white",
             "startlinecolor": "#2a3f5f"
            },
            "baxis": {
             "endlinecolor": "#2a3f5f",
             "gridcolor": "white",
             "linecolor": "white",
             "minorgridcolor": "white",
             "startlinecolor": "#2a3f5f"
            },
            "type": "carpet"
           }
          ],
          "choropleth": [
           {
            "colorbar": {
             "outlinewidth": 0,
             "ticks": ""
            },
            "type": "choropleth"
           }
          ],
          "contour": [
           {
            "colorbar": {
             "outlinewidth": 0,
             "ticks": ""
            },
            "colorscale": [
             [
              0,
              "#0d0887"
             ],
             [
              0.1111111111111111,
              "#46039f"
             ],
             [
              0.2222222222222222,
              "#7201a8"
             ],
             [
              0.3333333333333333,
              "#9c179e"
             ],
             [
              0.4444444444444444,
              "#bd3786"
             ],
             [
              0.5555555555555556,
              "#d8576b"
             ],
             [
              0.6666666666666666,
              "#ed7953"
             ],
             [
              0.7777777777777778,
              "#fb9f3a"
             ],
             [
              0.8888888888888888,
              "#fdca26"
             ],
             [
              1,
              "#f0f921"
             ]
            ],
            "type": "contour"
           }
          ],
          "contourcarpet": [
           {
            "colorbar": {
             "outlinewidth": 0,
             "ticks": ""
            },
            "type": "contourcarpet"
           }
          ],
          "heatmap": [
           {
            "colorbar": {
             "outlinewidth": 0,
             "ticks": ""
            },
            "colorscale": [
             [
              0,
              "#0d0887"
             ],
             [
              0.1111111111111111,
              "#46039f"
             ],
             [
              0.2222222222222222,
              "#7201a8"
             ],
             [
              0.3333333333333333,
              "#9c179e"
             ],
             [
              0.4444444444444444,
              "#bd3786"
             ],
             [
              0.5555555555555556,
              "#d8576b"
             ],
             [
              0.6666666666666666,
              "#ed7953"
             ],
             [
              0.7777777777777778,
              "#fb9f3a"
             ],
             [
              0.8888888888888888,
              "#fdca26"
             ],
             [
              1,
              "#f0f921"
             ]
            ],
            "type": "heatmap"
           }
          ],
          "heatmapgl": [
           {
            "colorbar": {
             "outlinewidth": 0,
             "ticks": ""
            },
            "colorscale": [
             [
              0,
              "#0d0887"
             ],
             [
              0.1111111111111111,
              "#46039f"
             ],
             [
              0.2222222222222222,
              "#7201a8"
             ],
             [
              0.3333333333333333,
              "#9c179e"
             ],
             [
              0.4444444444444444,
              "#bd3786"
             ],
             [
              0.5555555555555556,
              "#d8576b"
             ],
             [
              0.6666666666666666,
              "#ed7953"
             ],
             [
              0.7777777777777778,
              "#fb9f3a"
             ],
             [
              0.8888888888888888,
              "#fdca26"
             ],
             [
              1,
              "#f0f921"
             ]
            ],
            "type": "heatmapgl"
           }
          ],
          "histogram": [
           {
            "marker": {
             "pattern": {
              "fillmode": "overlay",
              "size": 10,
              "solidity": 0.2
             }
            },
            "type": "histogram"
           }
          ],
          "histogram2d": [
           {
            "colorbar": {
             "outlinewidth": 0,
             "ticks": ""
            },
            "colorscale": [
             [
              0,
              "#0d0887"
             ],
             [
              0.1111111111111111,
              "#46039f"
             ],
             [
              0.2222222222222222,
              "#7201a8"
             ],
             [
              0.3333333333333333,
              "#9c179e"
             ],
             [
              0.4444444444444444,
              "#bd3786"
             ],
             [
              0.5555555555555556,
              "#d8576b"
             ],
             [
              0.6666666666666666,
              "#ed7953"
             ],
             [
              0.7777777777777778,
              "#fb9f3a"
             ],
             [
              0.8888888888888888,
              "#fdca26"
             ],
             [
              1,
              "#f0f921"
             ]
            ],
            "type": "histogram2d"
           }
          ],
          "histogram2dcontour": [
           {
            "colorbar": {
             "outlinewidth": 0,
             "ticks": ""
            },
            "colorscale": [
             [
              0,
              "#0d0887"
             ],
             [
              0.1111111111111111,
              "#46039f"
             ],
             [
              0.2222222222222222,
              "#7201a8"
             ],
             [
              0.3333333333333333,
              "#9c179e"
             ],
             [
              0.4444444444444444,
              "#bd3786"
             ],
             [
              0.5555555555555556,
              "#d8576b"
             ],
             [
              0.6666666666666666,
              "#ed7953"
             ],
             [
              0.7777777777777778,
              "#fb9f3a"
             ],
             [
              0.8888888888888888,
              "#fdca26"
             ],
             [
              1,
              "#f0f921"
             ]
            ],
            "type": "histogram2dcontour"
           }
          ],
          "mesh3d": [
           {
            "colorbar": {
             "outlinewidth": 0,
             "ticks": ""
            },
            "type": "mesh3d"
           }
          ],
          "parcoords": [
           {
            "line": {
             "colorbar": {
              "outlinewidth": 0,
              "ticks": ""
             }
            },
            "type": "parcoords"
           }
          ],
          "pie": [
           {
            "automargin": true,
            "type": "pie"
           }
          ],
          "scatter": [
           {
            "fillpattern": {
             "fillmode": "overlay",
             "size": 10,
             "solidity": 0.2
            },
            "type": "scatter"
           }
          ],
          "scatter3d": [
           {
            "line": {
             "colorbar": {
              "outlinewidth": 0,
              "ticks": ""
             }
            },
            "marker": {
             "colorbar": {
              "outlinewidth": 0,
              "ticks": ""
             }
            },
            "type": "scatter3d"
           }
          ],
          "scattercarpet": [
           {
            "marker": {
             "colorbar": {
              "outlinewidth": 0,
              "ticks": ""
             }
            },
            "type": "scattercarpet"
           }
          ],
          "scattergeo": [
           {
            "marker": {
             "colorbar": {
              "outlinewidth": 0,
              "ticks": ""
             }
            },
            "type": "scattergeo"
           }
          ],
          "scattergl": [
           {
            "marker": {
             "colorbar": {
              "outlinewidth": 0,
              "ticks": ""
             }
            },
            "type": "scattergl"
           }
          ],
          "scattermapbox": [
           {
            "marker": {
             "colorbar": {
              "outlinewidth": 0,
              "ticks": ""
             }
            },
            "type": "scattermapbox"
           }
          ],
          "scatterpolar": [
           {
            "marker": {
             "colorbar": {
              "outlinewidth": 0,
              "ticks": ""
             }
            },
            "type": "scatterpolar"
           }
          ],
          "scatterpolargl": [
           {
            "marker": {
             "colorbar": {
              "outlinewidth": 0,
              "ticks": ""
             }
            },
            "type": "scatterpolargl"
           }
          ],
          "scatterternary": [
           {
            "marker": {
             "colorbar": {
              "outlinewidth": 0,
              "ticks": ""
             }
            },
            "type": "scatterternary"
           }
          ],
          "surface": [
           {
            "colorbar": {
             "outlinewidth": 0,
             "ticks": ""
            },
            "colorscale": [
             [
              0,
              "#0d0887"
             ],
             [
              0.1111111111111111,
              "#46039f"
             ],
             [
              0.2222222222222222,
              "#7201a8"
             ],
             [
              0.3333333333333333,
              "#9c179e"
             ],
             [
              0.4444444444444444,
              "#bd3786"
             ],
             [
              0.5555555555555556,
              "#d8576b"
             ],
             [
              0.6666666666666666,
              "#ed7953"
             ],
             [
              0.7777777777777778,
              "#fb9f3a"
             ],
             [
              0.8888888888888888,
              "#fdca26"
             ],
             [
              1,
              "#f0f921"
             ]
            ],
            "type": "surface"
           }
          ],
          "table": [
           {
            "cells": {
             "fill": {
              "color": "#EBF0F8"
             },
             "line": {
              "color": "white"
             }
            },
            "header": {
             "fill": {
              "color": "#C8D4E3"
             },
             "line": {
              "color": "white"
             }
            },
            "type": "table"
           }
          ]
         },
         "layout": {
          "annotationdefaults": {
           "arrowcolor": "#2a3f5f",
           "arrowhead": 0,
           "arrowwidth": 1
          },
          "autotypenumbers": "strict",
          "coloraxis": {
           "colorbar": {
            "outlinewidth": 0,
            "ticks": ""
           }
          },
          "colorscale": {
           "diverging": [
            [
             0,
             "#8e0152"
            ],
            [
             0.1,
             "#c51b7d"
            ],
            [
             0.2,
             "#de77ae"
            ],
            [
             0.3,
             "#f1b6da"
            ],
            [
             0.4,
             "#fde0ef"
            ],
            [
             0.5,
             "#f7f7f7"
            ],
            [
             0.6,
             "#e6f5d0"
            ],
            [
             0.7,
             "#b8e186"
            ],
            [
             0.8,
             "#7fbc41"
            ],
            [
             0.9,
             "#4d9221"
            ],
            [
             1,
             "#276419"
            ]
           ],
           "sequential": [
            [
             0,
             "#0d0887"
            ],
            [
             0.1111111111111111,
             "#46039f"
            ],
            [
             0.2222222222222222,
             "#7201a8"
            ],
            [
             0.3333333333333333,
             "#9c179e"
            ],
            [
             0.4444444444444444,
             "#bd3786"
            ],
            [
             0.5555555555555556,
             "#d8576b"
            ],
            [
             0.6666666666666666,
             "#ed7953"
            ],
            [
             0.7777777777777778,
             "#fb9f3a"
            ],
            [
             0.8888888888888888,
             "#fdca26"
            ],
            [
             1,
             "#f0f921"
            ]
           ],
           "sequentialminus": [
            [
             0,
             "#0d0887"
            ],
            [
             0.1111111111111111,
             "#46039f"
            ],
            [
             0.2222222222222222,
             "#7201a8"
            ],
            [
             0.3333333333333333,
             "#9c179e"
            ],
            [
             0.4444444444444444,
             "#bd3786"
            ],
            [
             0.5555555555555556,
             "#d8576b"
            ],
            [
             0.6666666666666666,
             "#ed7953"
            ],
            [
             0.7777777777777778,
             "#fb9f3a"
            ],
            [
             0.8888888888888888,
             "#fdca26"
            ],
            [
             1,
             "#f0f921"
            ]
           ]
          },
          "colorway": [
           "#636efa",
           "#EF553B",
           "#00cc96",
           "#ab63fa",
           "#FFA15A",
           "#19d3f3",
           "#FF6692",
           "#B6E880",
           "#FF97FF",
           "#FECB52"
          ],
          "font": {
           "color": "#2a3f5f"
          },
          "geo": {
           "bgcolor": "white",
           "lakecolor": "white",
           "landcolor": "#E5ECF6",
           "showlakes": true,
           "showland": true,
           "subunitcolor": "white"
          },
          "hoverlabel": {
           "align": "left"
          },
          "hovermode": "closest",
          "mapbox": {
           "style": "light"
          },
          "paper_bgcolor": "white",
          "plot_bgcolor": "#E5ECF6",
          "polar": {
           "angularaxis": {
            "gridcolor": "white",
            "linecolor": "white",
            "ticks": ""
           },
           "bgcolor": "#E5ECF6",
           "radialaxis": {
            "gridcolor": "white",
            "linecolor": "white",
            "ticks": ""
           }
          },
          "scene": {
           "xaxis": {
            "backgroundcolor": "#E5ECF6",
            "gridcolor": "white",
            "gridwidth": 2,
            "linecolor": "white",
            "showbackground": true,
            "ticks": "",
            "zerolinecolor": "white"
           },
           "yaxis": {
            "backgroundcolor": "#E5ECF6",
            "gridcolor": "white",
            "gridwidth": 2,
            "linecolor": "white",
            "showbackground": true,
            "ticks": "",
            "zerolinecolor": "white"
           },
           "zaxis": {
            "backgroundcolor": "#E5ECF6",
            "gridcolor": "white",
            "gridwidth": 2,
            "linecolor": "white",
            "showbackground": true,
            "ticks": "",
            "zerolinecolor": "white"
           }
          },
          "shapedefaults": {
           "line": {
            "color": "#2a3f5f"
           }
          },
          "ternary": {
           "aaxis": {
            "gridcolor": "white",
            "linecolor": "white",
            "ticks": ""
           },
           "baxis": {
            "gridcolor": "white",
            "linecolor": "white",
            "ticks": ""
           },
           "bgcolor": "#E5ECF6",
           "caxis": {
            "gridcolor": "white",
            "linecolor": "white",
            "ticks": ""
           }
          },
          "title": {
           "x": 0.05
          },
          "xaxis": {
           "automargin": true,
           "gridcolor": "white",
           "linecolor": "white",
           "ticks": "",
           "title": {
            "standoff": 15
           },
           "zerolinecolor": "white",
           "zerolinewidth": 2
          },
          "yaxis": {
           "automargin": true,
           "gridcolor": "white",
           "linecolor": "white",
           "ticks": "",
           "title": {
            "standoff": 15
           },
           "zerolinecolor": "white",
           "zerolinewidth": 2
          }
         }
        },
        "width": 1200,
        "xaxis": {
         "anchor": "y",
         "domain": [
          0,
          1
         ],
         "range": [
          0,
          105
         ],
         "title": {
          "text": "Country piped water access (%)"
         }
        },
        "yaxis": {
         "anchor": "x",
         "domain": [
          0,
          1
         ],
         "range": [
          0,
          105
         ],
         "title": {
          "text": "Country population without access to water (%)"
         }
        }
       }
      }
     },
     "metadata": {},
     "output_type": "display_data"
    }
   ],
   "source": [
    "# Piped water access by country\n",
    "# create bubble chart from df_countries comprising: access to water, piped water, and using population as the size of the bubble\n",
    "# create a new column for the size of the bubble\n",
    "\n",
    "# create bubble size column with square root transformation for improved visuals\n",
    "country_medians[\"bubble_size\"] = country_medians[\"country_pop_raw\"] **0.5\n",
    "\n",
    "px.scatter(\n",
    "    country_medians, \n",
    "    y=\"percent_without_water\", \n",
    "    # x=\"NATPiped\", \n",
    "    x=\"piped_calculated\", \n",
    "    size=\"bubble_size\", \n",
    "    color=\"region\", \n",
    "    hover_name=\"Entity\", \n",
    "    # title=\"Access to Water vs. Piped Water vs. Population\",\n",
    ").update_layout(\n",
    "    yaxis_title=\"Country population without access to water (%)\",\n",
    "    xaxis_title=\"Country piped water access (%)\",\n",
    "    legend_title=\"Region\",\n",
    "    width=1200,\n",
    "    height=800,\n",
    "    font=dict(size=25),\n",
    "    # xaxis_tickangle=-45,\n",
    "    # yaxis=dict(tickfont=dict(size=2)),\n",
    "    # title=dict(font=dict(size=20)),\n",
    ").update_xaxes(range=[0, 105]).update_yaxes(range=[0, 105])"
   ]
  },
  {
   "cell_type": "code",
   "execution_count": 53,
   "metadata": {},
   "outputs": [
    {
     "name": "stdout",
     "output_type": "stream",
     "text": [
      "Spearman correlation between percent_without_water and piped_calculated (median) using scipy: SignificanceResult(statistic=0.4472024019613711, pvalue=3.1041077020849996e-10)\n",
      "Spearman correlation between percent_without_water and piped_calculated (5th) using scipy: SignificanceResult(statistic=0.38007551673405554, pvalue=1.4206124212210562e-07)\n",
      "Spearman correlation between percent_without_water and piped_calculated (95th) using scipy: SignificanceResult(statistic=0.6693337599586058, pvalue=9.540985169765579e-25)\n"
     ]
    }
   ],
   "source": [
    "# Check for correlation using median, 5th, and 95th percentiles\n",
    "# correlation_scipy = spearmanr(country_medians[\"percent_without_water\"], country_medians[\"NATPiped\"])\n",
    "# correlation_5th_scipy = spearmanr(country_5th_percentiles[\"percent_without_water\"], country_5th_percentiles[\"NATPiped\"])\n",
    "# correlation_95th_scipy = spearmanr(country_95th_percentiles[\"percent_without_water\"], country_95th_percentiles[\"NATPiped\"])\n",
    "# print(f\"Spearman correlation between percent_without_water and NATPiped (median) using scipy: {correlation_scipy}\")\n",
    "# print(f\"Spearman correlation between percent_without_water and NATPiped (5th) using scipy: {correlation_5th_scipy}\")\n",
    "# print(f\"Spearman correlation between percent_without_water and NATPiped (95th) using scipy: {correlation_95th_scipy}\")\n",
    "\n",
    "correlation_scipy = spearmanr(country_medians[\"percent_without_water\"], country_medians[\"piped_calculated\"])\n",
    "correlation_5th_scipy = spearmanr(country_5th_percentiles[\"percent_without_water\"], country_5th_percentiles[\"piped_calculated\"])\n",
    "correlation_95th_scipy = spearmanr(country_95th_percentiles[\"percent_without_water\"], country_95th_percentiles[\"piped_calculated\"])\n",
    "print(f\"Spearman correlation between percent_without_water and piped_calculated (median) using scipy: {correlation_scipy}\")\n",
    "print(f\"Spearman correlation between percent_without_water and piped_calculated (5th) using scipy: {correlation_5th_scipy}\")\n",
    "print(f\"Spearman correlation between percent_without_water and piped_calculated (95th) using scipy: {correlation_95th_scipy}\")"
   ]
  },
  {
   "cell_type": "code",
   "execution_count": 54,
   "metadata": {},
   "outputs": [
    {
     "name": "stdout",
     "output_type": "stream",
     "text": [
      "          correlation       p_value\n",
      "Africa       0.834201  1.589043e-14\n",
      "Americas     0.511364  2.354495e-03\n",
      "Asia         0.747239  2.446172e-09\n",
      "Europe      -0.129379  4.201219e-01\n",
      "Oceania      0.261905  5.309229e-01\n"
     ]
    }
   ],
   "source": [
    "# Group the data by region\n",
    "groups = country_medians.groupby('region')\n",
    "\n",
    "correlations = {}\n",
    "\n",
    "# Apply the spearmanr function to each group\n",
    "for name, group in groups:\n",
    "    correlation, p_value = spearmanr(group[\"percent_without_water\"], group[\"piped_calculated\"])\n",
    "    correlations[name] = {'correlation': correlation, 'p_value': p_value}\n",
    "\n",
    "# Convert the correlations dictionary to a DataFrame\n",
    "correlations_df = pd.DataFrame(correlations).T\n",
    "\n",
    "print(correlations_df)"
   ]
  },
  {
   "cell_type": "markdown",
   "metadata": {},
   "source": [
    "<div class=\"alert alert-warning\">That seems perplexing! It may be more robust to check all correlations and create confidence intervals from them. Let's check all correlations for robustness:\n"
   ]
  },
  {
   "cell_type": "code",
   "execution_count": 55,
   "metadata": {},
   "outputs": [
    {
     "name": "stdout",
     "output_type": "stream",
     "text": [
      "Statistics:\n",
      "Median:  0.4469229654992758\n",
      "5th percentile:  0.3092769035769597\n",
      "95th percentile:  0.5826014944709311\n",
      "\n",
      "P-values:\n",
      "Median:  3.5508440534676813e-10\n",
      "5th percentile:  1.1408641646152072e-17\n",
      "95th percentile:  2.5247211167187764e-05\n"
     ]
    }
   ],
   "source": [
    "# Calculate Spearman correlation for each DataFrame in the list\n",
    "correlations = [spearmanr(df[\"percent_without_water\"], df[\"NATPiped\"]) for df in simulation_results]\n",
    "\n",
    "# Remove rows with NaN values in either column before calculating correlations\n",
    "correlations = [spearmanr(df.dropna(subset=[\"percent_without_water\", \"NATPiped\"])[\"percent_without_water\"], \n",
    "                          df.dropna(subset=[\"percent_without_water\", \"NATPiped\"])[\"NATPiped\"]) \n",
    "                for df in simulation_results]\n",
    "\n",
    "\n",
    "\n",
    "# Extract correlation statistics and p-values\n",
    "statistics = [corr.correlation for corr in correlations]\n",
    "pvalues = [corr.pvalue for corr in correlations]\n",
    "\n",
    "# Calculate median, 5th and 95th percentiles for statistics\n",
    "statistics_median = np.median(statistics)\n",
    "statistics_5th = np.percentile(statistics, 5)\n",
    "statistics_95th = np.percentile(statistics, 95)\n",
    "\n",
    "# Calculate median, 5th and 95th percentiles for pvalues\n",
    "pvalues_median = np.median(pvalues)\n",
    "pvalues_5th = np.percentile(pvalues, 5)\n",
    "pvalues_95th = np.percentile(pvalues, 95)\n",
    "\n",
    "print(\"Statistics:\")\n",
    "print(\"Median: \", statistics_median)\n",
    "print(\"5th percentile: \", statistics_5th)\n",
    "print(\"95th percentile: \", statistics_95th)\n",
    "\n",
    "print(\"\\nP-values:\")\n",
    "print(\"Median: \", pvalues_median)\n",
    "print(\"5th percentile: \", pvalues_5th)\n",
    "print(\"95th percentile: \", pvalues_95th)"
   ]
  },
  {
   "cell_type": "code",
   "execution_count": 56,
   "metadata": {},
   "outputs": [
    {
     "data": {
      "image/png": "[encoded data removed]",
      "text/plain": [
       "<Figure size 1200x600 with 2 Axes>"
      ]
     },
     "metadata": {},
     "output_type": "display_data"
    }
   ],
   "source": [
    "# Create a new figure\n",
    "plt.figure(figsize=(12, 6))\n",
    "\n",
    "# Create a subplot for correlations\n",
    "plt.subplot(1, 2, 1)\n",
    "plt.hist(statistics, bins=30, color='c', edgecolor='black')\n",
    "plt.axvline(statistics_median, color='r', linestyle='dashed', linewidth=2)\n",
    "plt.axvline(statistics_5th, color='b', linestyle='dashed', linewidth=2)\n",
    "plt.axvline(statistics_95th, color='b', linestyle='dashed', linewidth=2)\n",
    "plt.title('Correlations')\n",
    "plt.xlabel('Correlation')\n",
    "plt.ylabel('Frequency')\n",
    "\n",
    "# Create a subplot for p-values\n",
    "plt.subplot(1, 2, 2)\n",
    "plt.hist(pvalues, bins=30, color='m', edgecolor='black')\n",
    "plt.axvline(pvalues_median, color='r', linestyle='dashed', linewidth=2)\n",
    "plt.axvline(pvalues_5th, color='b', linestyle='dashed', linewidth=2)\n",
    "plt.axvline(pvalues_95th, color='b', linestyle='dashed', linewidth=2)\n",
    "plt.title('P-values')\n",
    "plt.xlabel('P-value')\n",
    "plt.ylabel('Frequency')\n",
    "\n",
    "# Show the plot\n",
    "plt.tight_layout()\n",
    "plt.show()"
   ]
  }
 ],
 "metadata": {
  "kernelspec": {
   "display_name": "water-access",
   "language": "python",
   "name": "python3"
  },
  "language_info": {
   "codemirror_mode": {
    "name": "ipython",
    "version": 3
   },
   "file_extension": ".py",
   "mimetype": "text/x-python",
   "name": "python",
   "nbconvert_exporter": "python",
   "pygments_lexer": "ipython3",
   "version": "3.9.19"
  }
 },
 "nbformat": 4,
 "nbformat_minor": 2
}
