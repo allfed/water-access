{
 "cells": [
  {
   "cell_type": "markdown",
   "metadata": {},
   "source": [
    "<div class=\"alert alert-info\">\n",
    "<h1> <b>Key Results</b> </h1>\n",
    "<br>\n",
    "Takes in results of Monte Carlo simulations and generates key results used in the paper. <br>\n",
    "</div>"
   ]
  },
  {
   "cell_type": "markdown",
   "metadata": {},
   "source": [
    "<div class=\"alert alert-info\">\n",
    "<b>Table of Contents</b> <br><br>\n",
    "1. <a href=\"#overall\">Overall access numbers</a> <br>\n",
    "2. <a href=\"#country\">Country-level data</a> <br>\n",
    "3. <a href=\"#cycling_walking\">Cycling vs walking breakdown of results</a> <br>\n",
    "4. <a href=\"#further\">Further analysis</a> <br>\n",
    "</div>"
   ]
  },
  {
   "cell_type": "code",
   "execution_count": 1,
   "metadata": {},
   "outputs": [],
   "source": [
    "import pathlib\n",
    "import pandas as pd\n",
    "import numpy as np\n",
    "import matplotlib.pyplot as plt\n",
    "import plotly.express as px\n",
    "import weightedstats as ws\n",
    "from tabulate import tabulate\n",
    "from scipy.stats import spearmanr, pearsonr"
   ]
  },
  {
   "cell_type": "code",
   "execution_count": 2,
   "metadata": {},
   "outputs": [],
   "source": [
    "# Constants to save new results (will overwrite existing results)\n",
    "SAVE_CSVS = True\n",
    "SAVE_FIGURES = True"
   ]
  },
  {
   "cell_type": "code",
   "execution_count": 3,
   "metadata": {},
   "outputs": [],
   "source": [
    "# Read country-level results from Monte Carlo sims\n",
    "country_medians = pd.read_csv(\"../results/country_median_results.csv\")\n",
    "country_means = pd.read_csv(\"../results/country_mean_results.csv\")\n",
    "country_5th_percentiles = pd.read_csv(\"../results/country_5th_percentile_results.csv\")\n",
    "country_95th_percentiles = pd.read_csv(\"../results/country_95th_percentile_results.csv\")\n",
    "\n",
    "# Read district-level results from Monte Carlo sims\n",
    "district_medians = pd.read_csv(\"../results/districts_median_results.csv\")\n",
    "district_means = pd.read_csv(\"../results/districts_mean_results.csv\")\n",
    "district_5th_percentiles = pd.read_csv(\"../results/districts_5th_percentile_results.csv\")\n",
    "district_95th_percentiles = pd.read_csv(\"../results/districts_95th_percentile_results.csv\")\n",
    "\n",
    "# Create simple one-row dataframes with global data\n",
    "global_median = country_medians[country_medians[\"ISOCODE\"] == \"GLOBAL\"].reset_index(drop=True)\n",
    "global_mean = country_means[country_means[\"ISOCODE\"] == \"GLOBAL\"].reset_index(drop=True)\n",
    "global_5th_percentile = country_5th_percentiles[country_5th_percentiles[\"ISOCODE\"] == \"GLOBAL\"].reset_index(drop=True)\n",
    "global_95th_percentile = country_95th_percentiles[country_95th_percentiles[\"ISOCODE\"] == \"GLOBAL\"].reset_index(drop=True)\n",
    "\n",
    "# Drop global from all dataframes except _all\n",
    "country_medians_all = country_medians.copy()\n",
    "country_medians = country_medians[country_medians[\"ISOCODE\"] != \"GLOBAL\"]\n",
    "country_means = country_means[country_means[\"ISOCODE\"] != \"GLOBAL\"]\n",
    "country_5th_percentiles = country_5th_percentiles[country_5th_percentiles[\"ISOCODE\"] != \"GLOBAL\"]\n",
    "country_95th_percentiles = country_95th_percentiles[country_95th_percentiles[\"ISOCODE\"] != \"GLOBAL\"]\n",
    "# No need to drop from district-level dataframes as they don't have a global entry\n"
   ]
  },
  {
   "cell_type": "markdown",
   "metadata": {},
   "source": [
    "<div class=\"alert alert-info\">\n",
    "<h3> <b>1. Overall Access Numbers </b> </h3>\n",
    "<a id=\"overall\"></a>\n",
    "Overall access (walking and cycling) for the world, and select countries\n",
    "</div>"
   ]
  },
  {
   "cell_type": "markdown",
   "metadata": {},
   "source": [
    "Firstly, we can look at the global results for people without water access. We can also check out the breakdown by continent to compare the global impacts of infrastructure loss on freshwater access. Finally in this section we show the median breakdown by access type."
   ]
  },
  {
   "cell_type": "code",
   "execution_count": 4,
   "metadata": {},
   "outputs": [
    {
     "name": "stdout",
     "output_type": "stream",
     "text": [
      "GLOBAL WATER ACCESS: \n",
      "\n",
      "Global median percentage without water: 23.49017908156109\n",
      "Global 5th percentile percentage without water: 15.11935401190866\n",
      "Global 95th percentile percentage without water: 34.7992296135846\n"
     ]
    }
   ],
   "source": [
    "# Overall global population without water\n",
    "global_median_percentage_without_water = global_median[\"percent_without_water\"].values[0]\n",
    "global_5th_percentage_without_water = global_5th_percentile[\"percent_without_water\"].values[0]\n",
    "global_95th_percentage_without_water = global_95th_percentile[\"percent_without_water\"].values[0]\n",
    "global_only_cycling_access = global_95th_percentile[\"percent_without_water\"].values[0]\n",
    "\n",
    "# Print overall results\n",
    "print(\"GLOBAL WATER ACCESS: \\n\")\n",
    "print(f\"Global median percentage without water: {global_median_percentage_without_water}\")\n",
    "print(f\"Global 5th percentile percentage without water: {global_5th_percentage_without_water}\")\n",
    "print(f\"Global 95th percentile percentage without water: {global_95th_percentage_without_water}\")\n",
    "\n",
    "# Maybe add additional piped stuff here"
   ]
  },
  {
   "cell_type": "code",
   "execution_count": 5,
   "metadata": {},
   "outputs": [
    {
     "name": "stdout",
     "output_type": "stream",
     "text": [
      "REGIONAL WATER ACCESS: \n",
      "\n",
      "| region   |   median |   5th_percentile |   95th_percentile | formatted_results   |\n",
      "|:---------|---------:|-----------------:|------------------:|:--------------------|\n",
      "| Americas |  37.8675 |          25.5939 |           53.3328 | 37.9 (25.6–53.3)    |\n",
      "| Europe   |  23.6186 |          11.6919 |           41.1854 | 23.6 (11.7–41.2)    |\n",
      "| Africa   |  22.3899 |          15.8262 |           30.0215 | 22.4 (15.8–30.0)    |\n",
      "| Asia     |  20.6295 |          12.8058 |           31.385  | 20.6 (12.8–31.4)    |\n",
      "| Oceania  |  17.9668 |           9.4403 |           31.5803 | 18.0 (9.4–31.6)     |\n"
     ]
    }
   ],
   "source": [
    "# Define a function to calculate percent without water\n",
    "def calculate_percent(df, group):\n",
    "    data = df.groupby(group).sum()\n",
    "    percent_without_water = (data['country_pop_without_water'] / data['country_pop_raw']) * 100\n",
    "    return percent_without_water\n",
    "\n",
    "# Calculate percent without water for each DataFrame\n",
    "region_percent_without_water_median = calculate_percent(country_medians, \"region\")\n",
    "region_percent_without_water_5th = calculate_percent(country_5th_percentiles, \"region\")\n",
    "region_percent_without_water_95th = calculate_percent(country_95th_percentiles, \"region\")\n",
    "\n",
    "# Merge results into a single DataFrame\n",
    "region_percent_without_water = pd.DataFrame({\n",
    "    'median': region_percent_without_water_median,\n",
    "    '5th_percentile': region_percent_without_water_5th,\n",
    "    '95th_percentile': region_percent_without_water_95th\n",
    "})\n",
    "\n",
    "# Repeat for subregions\n",
    "subregion_percent_without_water_median = calculate_percent(country_medians, \"subregion\")\n",
    "subregion_percent_without_water_5th = calculate_percent(country_5th_percentiles, \"subregion\")\n",
    "subregion_percent_without_water_95th = calculate_percent(country_95th_percentiles, \"subregion\")\n",
    "\n",
    "# Merge results into a single DataFrame\n",
    "subregion_percent_without_water = pd.DataFrame({\n",
    "    'median': subregion_percent_without_water_median,\n",
    "    '5th_percentile': subregion_percent_without_water_5th,\n",
    "    '95th_percentile': subregion_percent_without_water_95th\n",
    "})\n",
    "\n",
    "# Define formatting function\n",
    "def format_results(row):\n",
    "    median = round(row['median'], 1)\n",
    "    p5th = round(row['5th_percentile'], 1)\n",
    "    p95th = round(row['95th_percentile'], 1)\n",
    "    return f\"{median} ({p5th}–{p95th})\"\n",
    "\n",
    "# Apply formatting function to each row\n",
    "region_percent_without_water['formatted_results'] = region_percent_without_water.apply(format_results, axis=1)\n",
    "subregion_percent_without_water['formatted_results'] = subregion_percent_without_water.apply(format_results, axis=1)\n",
    "\n",
    "# Print results\n",
    "print(\"REGIONAL WATER ACCESS: \\n\")\n",
    "\n",
    "print(region_percent_without_water.sort_values(by='median', ascending=False).to_markdown())\n",
    "# print(subregion_percent_without_water.sort_values(by='median', ascending=False))\n",
    "\n",
    "if SAVE_CSVS:\n",
    "    region_percent_without_water.to_csv(\"../results/region_results.csv\", index=True)\n",
    "    subregion_percent_without_water.to_csv(\"../results/subregion_results.csv\", index=True)"
   ]
  },
  {
   "cell_type": "markdown",
   "metadata": {},
   "source": [
    "<div class=\"alert alert-info\">\n",
    "<h3> <b>2. Country-level data </b> </h3>\n",
    "<a id=\"country\"></a>\n",
    "Includes key results for Venezuela\n",
    "</div>"
   ]
  },
  {
   "cell_type": "markdown",
   "metadata": {},
   "source": [
    "Main stats for individual countries can be viewed using the following code:"
   ]
  },
  {
   "cell_type": "code",
   "execution_count": 6,
   "metadata": {},
   "outputs": [
    {
     "name": "stdout",
     "output_type": "stream",
     "text": [
      "COUNTRY-LEVEL STATS: \n",
      "\n",
      "|     | ISOCODE   | Entity                                               | region   | subregion                       |   percent_with_water_median | percent_with_water_CI      |   percent_without_water_median | percent_without_water_CI     |   percent_piped_with_cycling_access_median | percent_piped_with_cycling_access_CI   |   percent_piped_with_walking_access_median | percent_piped_with_walking_access_CI   |   percent_with_only_cycling_access_median | percent_with_only_cycling_access_CI   |\n",
      "|----:|:----------|:-----------------------------------------------------|:---------|:--------------------------------|----------------------------:|:---------------------------|-------------------------------:|:-----------------------------|-------------------------------------------:|:---------------------------------------|-------------------------------------------:|:---------------------------------------|------------------------------------------:|:--------------------------------------|\n",
      "|   0 | AFG       | Afghanistan                                          | Asia     | Southern Asia                   |                  87.9128    | 87.9% (90% CI 84.6–91.0%)  |                       12.0872  | 12.1% (90% CI 9.0–15.4%)     |                                 4.89928    | 4.9% (90% CI 3.7–5.7%)                 |                                  6.89188   | 6.9% (90% CI 3.7–10.8%)                |                                 2.64252   | 2.6% (90% CI 1.2–4.0%)                |\n",
      "|   1 | AGO       | Angola                                               | Africa   | Sub-Saharan Africa              |                  81.862     | 81.9% (90% CI 78.7–88.9%)  |                       18.138   | 18.1% (90% CI 11.1–21.3%)    |                                 2.13069    | 2.1% (90% CI 1.4–2.3%)                 |                                  7.55586   | 7.6% (90% CI 4.5–15.1%)                |                                 1.25106   | 1.3% (90% CI 0.7–1.8%)                |\n",
      "|   2 | ALB       | Albania                                              | Europe   | Southern Europe                 |                  84.5874    | 84.6% (90% CI 48.0–93.5%)  |                       15.4126  | 15.4% (90% CI 6.5–52.0%)     |                                16.2318     | 16.2% (90% CI 14.3–16.5%)              |                                 58.4532    | 58.5% (90% CI 11.5–69.1%)              |                                 3.91436   | 3.9% (90% CI 1.3–13.1%)               |\n",
      "|   3 | ARE       | United Arab Emirates                                 | Asia     | Western Asia                    |                   0.0652233 | 0.1% (90% CI 0.0–0.1%)     |                       99.9348  | 99.9% (90% CI 99.9–100.0%)   |                                 0.0652233  | 0.1% (90% CI 0.0–0.1%)                 |                                  0         | 0.0% (90% CI 0.0–0.0%)                 |                                 0.0652233 | 0.1% (90% CI 0.0–0.1%)                |\n",
      "|   4 | ARG       | Argentina                                            | Americas | Latin America and the Caribbean |                  64.52      | 64.5% (90% CI 49.7–74.4%)  |                       35.4529  | 35.5% (90% CI 25.6–50.2%)    |                                45.7323     | 45.7% (90% CI 32.9–52.4%)              |                                 23.6046    | 23.6% (90% CI 5.3–38.3%)               |                                27.6531    | 27.7% (90% CI 15.7–40.7%)             |\n",
      "|   5 | ARM       | Armenia                                              | Asia     | Western Asia                    |                  47.2726    | 47.3% (90% CI 16.3–83.7%)  |                       52.7263  | 52.7% (90% CI 16.3–83.7%)    |                                 3.63563    | 3.6% (90% CI 3.0–4.0%)                 |                                 45.5276    | 45.5% (90% CI 13.2–83.4%)              |                                 1.7903    | 1.8% (90% CI 0.4–3.0%)                |\n",
      "|   6 | AUS       | Australia                                            | Oceania  | Australia and New Zealand       |                  77.7633    | 77.8% (90% CI 61.4–86.9%)  |                       21.8792  | 21.9% (90% CI 12.7–38.3%)    |                                50.8153     | 50.8% (90% CI 45.0–52.3%)              |                                 53.2001    | 53.2% (90% CI 22.5–74.4%)              |                                17.707     | 17.7% (90% CI 7.8–36.4%)              |\n",
      "|   7 | AUT       | Austria                                              | Europe   | Western Europe                  |                  91.2501    | 91.3% (90% CI 75.4–97.3%)  |                        8.74987 | 8.7% (90% CI 2.7–24.6%)      |                                83.1809     | 83.2% (90% CI 68.4–84.7%)              |                                 60.7845    | 60.8% (90% CI 26.2–85.0%)              |                                29.2513    | 29.3% (90% CI 9.4–58.5%)              |\n",
      "|   8 | AZE       | Azerbaijan                                           | Asia     | Western Asia                    |                  65.3981    | 65.4% (90% CI 31.5–86.6%)  |                       34.6019  | 34.6% (90% CI 13.4–68.5%)    |                                 5.84038    | 5.8% (90% CI 4.8–6.2%)                 |                                 53.5881    | 53.6% (90% CI 17.0–76.1%)              |                                 2.09342   | 2.1% (90% CI 0.7–4.5%)                |\n",
      "|   9 | BDI       | Burundi                                              | Africa   | Sub-Saharan Africa              |                  62.6065    | 62.6% (90% CI 46.9–83.5%)  |                       37.3935  | 37.4% (90% CI 16.5–53.1%)    |                                12.7289     | 12.7% (90% CI 10.3–13.8%)              |                                 24.2936    | 24.3% (90% CI 6.4–49.9%)               |                                 7.59818   | 7.6% (90% CI 2.7–11.4%)               |\n",
      "|  10 | BEL       | Belgium                                              | Europe   | Western Europe                  |                  82.1073    | 82.1% (90% CI 67.2–90.9%)  |                       17.8927  | 17.9% (90% CI 9.1–32.8%)     |                                69.6871     | 69.7% (90% CI 59.2–72.7%)              |                                 47.9608    | 48.0% (90% CI 17.0–72.9%)              |                                34.0647    | 34.1% (90% CI 16.5–55.4%)             |\n",
      "|  11 | BEN       | Benin                                                | Africa   | Sub-Saharan Africa              |                  84.1025    | 84.1% (90% CI 77.8–89.3%)  |                       15.8975  | 15.9% (90% CI 10.7–22.2%)    |                                11.2084     | 11.2% (90% CI 8.5–12.5%)               |                                 12.1348    | 12.1% (90% CI 4.6–19.3%)               |                                 6.2346    | 6.2% (90% CI 3.4–9.4%)                |\n",
      "|  12 | BFA       | Burkina Faso                                         | Africa   | Sub-Saharan Africa              |                  88.1663    | 88.2% (90% CI 85.2–94.0%)  |                       11.8337  | 11.8% (90% CI 6.0–14.8%)     |                                 9.8658     | 9.9% (90% CI 7.1–15.6%)                |                                  3.36552   | 3.4% (90% CI 0.4–4.6%)                 |                                 7.37814   | 7.4% (90% CI 4.5–12.4%)               |\n",
      "|  13 | BGD       | Bangladesh                                           | Asia     | Southern Asia                   |                  89.1468    | 89.1% (90% CI 83.3–96.5%)  |                       10.8532  | 10.9% (90% CI 3.5–16.7%)     |                                 6.93078    | 6.9% (90% CI 6.5–7.0%)                 |                                 12.909     | 12.9% (90% CI 5.3–22.8%)               |                                 3.61604   | 3.6% (90% CI 1.2–5.6%)                |\n",
      "|  14 | BGR       | Bulgaria                                             | Europe   | Eastern Europe                  |                  62.3819    | 62.4% (90% CI 35.3–84.7%)  |                       37.6181  | 37.6% (90% CI 15.3–64.7%)    |                                20.7969     | 20.8% (90% CI 16.5–22.0%)              |                                 50.1573    | 50.2% (90% CI 18.7–79.4%)              |                                 8.91399   | 8.9% (90% CI 3.1–15.6%)               |\n",
      "|  15 | BHR       | Bahrain                                              | Asia     | Western Asia                    |                   0         | 0.0% (90% CI 0.0–0.0%)     |                      100       | 100.0% (90% CI 100.0–100.0%) |                                 0          | 0.0% (90% CI 0.0–0.0%)                 |                                  0         | 0.0% (90% CI 0.0–0.0%)                 |                                 0         | 0.0% (90% CI 0.0–0.0%)                |\n",
      "|  16 | BHS       | Bahamas                                              | Americas | Latin America and the Caribbean |                  58.6227    | 58.6% (90% CI 50.1–80.5%)  |                       41.3773  | 41.4% (90% CI 19.5–49.9%)    |                                25.4381     | 25.4% (90% CI 24.3–35.7%)              |                                 31.1561    | 31.2% (90% CI 25.1–58.7%)              |                                13.1656    | 13.2% (90% CI 1.7–24.1%)              |\n",
      "|  17 | BIH       | Bosnia and Herzegovina                               | Europe   | Southern Europe                 |                  64.928     | 64.9% (90% CI 40.9–82.9%)  |                       35.072   | 35.1% (90% CI 17.1–59.1%)    |                                35.338      | 35.3% (90% CI 23.5–41.7%)              |                                 42.6274    | 42.6% (90% CI 13.9–69.1%)              |                                15.1713    | 15.2% (90% CI 3.5–29.9%)              |\n",
      "|  18 | BLR       | Belarus                                              | Europe   | Eastern Europe                  |                  78.0597    | 78.1% (90% CI 55.9–90.3%)  |                       21.9403  | 21.9% (90% CI 9.7–44.1%)     |                                35.0162     | 35.0% (90% CI 31.2–35.5%)              |                                 58.7376    | 58.7% (90% CI 25.8–77.3%)              |                                12.2032    | 12.2% (90% CI 5.1–23.8%)              |\n",
      "|  19 | BLZ       | Belize                                               | Americas | Latin America and the Caribbean |                  89.2891    | 89.3% (90% CI 75.5–96.1%)  |                       10.7109  | 10.7% (90% CI 3.9–24.5%)     |                                54.471      | 54.5% (90% CI 47.4–55.9%)              |                                 50.3533    | 50.4% (90% CI 16.8–67.4%)              |                                17.7038    | 17.7% (90% CI 6.2–40.4%)              |\n",
      "|  20 | BOL       | Bolivia, Plurinational State of                      | Americas | Latin America and the Caribbean |                  83.2775    | 83.3% (90% CI 78.1–88.4%)  |                       16.7221  | 16.7% (90% CI 11.6–21.9%)    |                                 8.32321    | 8.3% (90% CI 5.1–9.6%)                 |                                  7.53914   | 7.5% (90% CI 2.5–14.3%)                |                                 5.2041    | 5.2% (90% CI 2.4–7.7%)                |\n",
      "|  21 | BRA       | Brazil                                               | Americas | Latin America and the Caribbean |                  59.2171    | 59.2% (90% CI 43.9–71.2%)  |                       40.7533  | 40.8% (90% CI 28.8–56.1%)    |                                40.6719     | 40.7% (90% CI 30.4–45.9%)              |                                 33.191     | 33.2% (90% CI 13.0–52.7%)              |                                20.3348    | 20.3% (90% CI 9.2–33.0%)              |\n",
      "|  22 | BRN       | Brunei Darussalam                                    | Asia     | South-eastern Asia              |                  75.216     | 75.2% (90% CI 51.9–97.7%)  |                       24.7766  | 24.8% (90% CI 2.3–48.1%)     |                                44.4759     | 44.5% (90% CI 41.8–44.5%)              |                                 55.7331    | 55.7% (90% CI 18.2–95.8%)              |                                19.6814    | 19.7% (90% CI 1.9–35.6%)              |\n",
      "|  23 | BTN       | Bhutan                                               | Asia     | Southern Asia                   |                  38.8063    | 38.8% (90% CI 18.0–62.0%)  |                       61.1937  | 61.2% (90% CI 38.0–82.0%)    |                                 4.56034    | 4.6% (90% CI 2.5–5.7%)                 |                                 36.8385    | 36.8% (90% CI 16.3–60.0%)              |                                 2.13839   | 2.1% (90% CI 0.5–3.9%)                |\n",
      "|  24 | BWA       | Botswana                                             | Africa   | Sub-Saharan Africa              |                  26.2623    | 26.3% (90% CI 23.6–28.5%)  |                       73.7165  | 73.7% (90% CI 71.5–76.4%)    |                                 1.99417    | 2.0% (90% CI 1.2–3.5%)                 |                                  3.86264   | 3.9% (90% CI 1.1–5.8%)                 |                                 1.29291   | 1.3% (90% CI 0.5–2.6%)                |\n",
      "|  25 | CAF       | Central African Republic                             | Africa   | Sub-Saharan Africa              |                  96.6478    | 96.6% (90% CI 95.7–100.0%) |                        3.30735 | 3.3% (90% CI 0.0–4.2%)       |                                 1.01335    | 1.0% (90% CI 1.0–1.0%)                 |                                  1.28689   | 1.3% (90% CI 0.2–5.4%)                 |                                 0.770262  | 0.8% (90% CI 0.0–1.0%)                |\n",
      "|  26 | CAN       | Canada                                               | Americas | Northern America                |                  77.7433    | 77.7% (90% CI 62.3–87.7%)  |                       22.136   | 22.1% (90% CI 12.2–37.6%)    |                                62.1073     | 62.1% (90% CI 51.9–66.1%)              |                                 50.6258    | 50.6% (90% CI 23.8–71.8%)              |                                27.1421    | 27.1% (90% CI 14.1–44.4%)             |\n",
      "|  27 | CHE       | Switzerland                                          | Europe   | Western Europe                  |                  87.5003    | 87.5% (90% CI 71.4–95.9%)  |                       12.4997  | 12.5% (90% CI 4.1–28.6%)     |                                72.199      | 72.2% (90% CI 60.5–73.4%)              |                                 60.3812    | 60.4% (90% CI 30.9–87.9%)              |                                26.022     | 26.0% (90% CI 6.5–47.8%)              |\n",
      "|  28 | CHL       | Chile                                                | Americas | Latin America and the Caribbean |                  61.5169    | 61.5% (90% CI 42.9–74.5%)  |                       38.4624  | 38.5% (90% CI 25.4–57.1%)    |                                41.2338     | 41.2% (90% CI 32.6–48.0%)              |                                 43.607     | 43.6% (90% CI 12.6–64.2%)              |                                18.0237    | 18.0% (90% CI 7.7–33.9%)              |\n",
      "|  29 | CHN       | China                                                | Asia     | Eastern Asia                    |                  79.6061    | 79.6% (90% CI 65.8–89.0%)  |                       20.3931  | 20.4% (90% CI 11.0–34.2%)    |                                47.2966     | 47.3% (90% CI 39.9–50.4%)              |                                 41.4092    | 41.4% (90% CI 16.5–61.2%)              |                                20.8424    | 20.8% (90% CI 9.1–36.4%)              |\n",
      "|  30 | CIV       | Côte d'Ivoire                                        | Africa   | Sub-Saharan Africa              |                  87.0059    | 87.0% (90% CI 81.7–90.8%)  |                       12.9941  | 13.0% (90% CI 9.2–18.3%)     |                                11.5295     | 11.5% (90% CI 8.7–13.0%)               |                                 15.8487    | 15.8% (90% CI 9.8–21.2%)               |                                 4.69331   | 4.7% (90% CI 2.2–7.3%)                |\n",
      "|  31 | CMR       | Cameroon                                             | Africa   | Sub-Saharan Africa              |                  87.878     | 87.9% (90% CI 82.0–91.9%)  |                       12.122   | 12.1% (90% CI 8.1–18.0%)     |                                 2.91203    | 2.9% (90% CI 2.0–3.2%)                 |                                  9.33334   | 9.3% (90% CI 2.5–13.9%)                |                                 1.40338   | 1.4% (90% CI 0.6–2.4%)                |\n",
      "|  32 | COD       | Congo, Democratic Republic of the                    | Africa   | Sub-Saharan Africa              |                  93.4498    | 93.4% (90% CI 88.5–96.7%)  |                        6.5502  | 6.6% (90% CI 3.3–11.5%)      |                                 3.20996    | 3.2% (90% CI 2.3–3.3%)                 |                                  7.71874   | 7.7% (90% CI 2.0–11.6%)                |                                 1.50404   | 1.5% (90% CI 0.6–2.8%)                |\n",
      "|  33 | COG       | Congo                                                | Africa   | Sub-Saharan Africa              |                  90.6553    | 90.7% (90% CI 85.6–95.1%)  |                        9.34474 | 9.3% (90% CI 4.9–14.4%)      |                                 0.883845   | 0.9% (90% CI 0.7–1.0%)                 |                                  7.55335   | 7.6% (90% CI 2.2–12.2%)                |                                 0.438425  | 0.4% (90% CI 0.2–0.8%)                |\n",
      "|  34 | COL       | Colombia                                             | Americas | Latin America and the Caribbean |                  69.9167    | 69.9% (90% CI 55.2–84.0%)  |                       30.0833  | 30.1% (90% CI 16.0–44.8%)    |                                18.9834     | 19.0% (90% CI 14.3–21.1%)              |                                 25.5208    | 25.5% (90% CI 7.5–45.2%)               |                                10.0088    | 10.0% (90% CI 4.0–16.4%)              |\n",
      "|  35 | CRI       | Costa Rica                                           | Americas | Latin America and the Caribbean |                  75.9769    | 76.0% (90% CI 56.1–90.6%)  |                       24.0231  | 24.0% (90% CI 9.4–43.9%)     |                                60.2124     | 60.2% (90% CI 47.3–64.2%)              |                                 48.5875    | 48.6% (90% CI 19.4–81.0%)              |                                27.8018    | 27.8% (90% CI 8.0–46.9%)              |\n",
      "|  36 | CUB       | Cuba                                                 | Americas | Latin America and the Caribbean |                  74.8919    | 74.9% (90% CI 63.8–84.7%)  |                       25.1081  | 25.1% (90% CI 15.3–36.2%)    |                                29.6784     | 29.7% (90% CI 23.1–35.0%)              |                                 20.8547    | 20.9% (90% CI 6.4–34.7%)               |                                17.7271    | 17.7% (90% CI 9.4–26.6%)              |\n",
      "|  37 | CYP       | Cyprus                                               | Asia     | Western Asia                    |                  54.6101    | 54.6% (90% CI 37.7–65.9%)  |                       45.3899  | 45.4% (90% CI 34.1–62.3%)    |                                44.1824     | 44.2% (90% CI 29.7–46.5%)              |                                 25.1373    | 25.1% (90% CI 3.9–41.5%)               |                                28.2461    | 28.2% (90% CI 12.8–37.6%)             |\n",
      "|  38 | CZE       | Czechia                                              | Europe   | Eastern Europe                  |                  68.9597    | 69.0% (90% CI 45.2–85.3%)  |                       31.0403  | 31.0% (90% CI 14.7–54.8%)    |                                40.205      | 40.2% (90% CI 31.1–42.8%)              |                                 51.5775    | 51.6% (90% CI 19.6–75.9%)              |                                17.418     | 17.4% (90% CI 7.6–30.6%)              |\n",
      "|  39 | DEU       | Germany                                              | Europe   | Western Europe                  |                  83.5659    | 83.6% (90% CI 66.9–92.5%)  |                       16.4341  | 16.4% (90% CI 7.5–33.1%)     |                                73.299      | 73.3% (90% CI 59.7–76.2%)              |                                 48.8439    | 48.8% (90% CI 16.8–74.4%)              |                                34.8836    | 34.9% (90% CI 16.0–57.2%)             |\n",
      "|  40 | DJI       | Djibouti                                             | Africa   | Sub-Saharan Africa              |                  41.5555    | 41.6% (90% CI 41.3–41.8%)  |                       58.4445  | 58.4% (90% CI 58.2–58.7%)    |                                 0.0940279  | 0.1% (90% CI 0.1–0.2%)                 |                                  0.314811  | 0.3% (90% CI 0.1–0.6%)                 |                                 0.0649724 | 0.1% (90% CI 0.0–0.1%)                |\n",
      "|  41 | DNK       | Denmark                                              | Europe   | Northern Europe                 |                  91.6866    | 91.7% (90% CI 78.4–96.5%)  |                        8.31341 | 8.3% (90% CI 3.5–21.6%)      |                                86.8463     | 86.8% (90% CI 74.6–88.3%)              |                                 49.2992    | 49.3% (90% CI 13.8–76.3%)              |                                41.8231    | 41.8% (90% CI 16.6–70.6%)             |\n",
      "|  42 | DOM       | Dominican Republic                                   | Americas | Latin America and the Caribbean |                  59.6717    | 59.7% (90% CI 35.3–75.8%)  |                       40.3283  | 40.3% (90% CI 24.2–64.7%)    |                                 1.00396    | 1.0% (90% CI 0.7–1.1%)                 |                                 32.2699    | 32.3% (90% CI 7.5–48.7%)               |                                 0.503391  | 0.5% (90% CI 0.2–0.8%)                |\n",
      "|  43 | DZA       | Algeria                                              | Africa   | Northern Africa                 |                  52.7962    | 52.8% (90% CI 44.7–63.4%)  |                       47.1021  | 47.1% (90% CI 36.5–55.2%)    |                                 8.18639    | 8.2% (90% CI 5.3–9.7%)                 |                                 12.4932    | 12.5% (90% CI 3.7–25.4%)               |                                 4.96178   | 5.0% (90% CI 2.1–7.6%)                |\n",
      "|  44 | ECU       | Ecuador                                              | Americas | Latin America and the Caribbean |                  71.3942    | 71.4% (90% CI 56.7–83.0%)  |                       28.6047  | 28.6% (90% CI 17.0–43.3%)    |                                40.9931     | 41.0% (90% CI 30.8–46.1%)              |                                 31.7193    | 31.7% (90% CI 11.5–51.3%)              |                                20.4375    | 20.4% (90% CI 8.9–33.1%)              |\n",
      "|  45 | EGY       | Egypt                                                | Africa   | Northern Africa                 |                  58.9285    | 58.9% (90% CI 30.9–75.2%)  |                       41.0714  | 41.1% (90% CI 24.8–69.1%)    |                                 8.78056    | 8.8% (90% CI 7.6–9.1%)                 |                                 54.3505    | 54.4% (90% CI 23.4–72.6%)              |                                 3.26786   | 3.3% (90% CI 1.6–6.4%)                |\n",
      "|  46 | ERI       | Eritrea                                              | Africa   | Sub-Saharan Africa              |                  63.0605    | 63.1% (90% CI 60.2–65.6%)  |                       36.9395  | 36.9% (90% CI 34.4–39.8%)    |                                 1.00182    | 1.0% (90% CI 0.6–1.5%)                 |                                  3.66851   | 3.7% (90% CI 1.0–6.5%)                 |                                 0.667339  | 0.7% (90% CI 0.3–1.1%)                |\n",
      "|  47 | ESH       | Western Sahara                                       | Africa   | Northern Africa                 |                  47.555     | 47.6% (90% CI 47.5–47.8%)  |                       51.386   | 51.4% (90% CI 51.1–51.4%)    |                                 0.0519117  | 0.1% (90% CI 0.0–0.1%)                 |                                  0.0134007 | 0.0% (90% CI 0.0–0.3%)                 |                                 0.0463178 | 0.0% (90% CI 0.0–0.1%)                |\n",
      "|  48 | ESP       | Spain                                                | Europe   | Southern Europe                 |                  69.5808    | 69.6% (90% CI 51.2–81.3%)  |                       30.4192  | 30.4% (90% CI 18.7–48.8%)    |                                55.5719     | 55.6% (90% CI 42.4–60.1%)              |                                 42.3329    | 42.3% (90% CI 13.7–65.6%)              |                                27.8208    | 27.8% (90% CI 13.0–45.5%)             |\n",
      "|  49 | EST       | Estonia                                              | Europe   | Northern Europe                 |                  61.0398    | 61.0% (90% CI 32.8–80.4%)  |                       38.9442  | 38.9% (90% CI 19.6–67.2%)    |                                29.2723     | 29.3% (90% CI 26.2–30.3%)              |                                 44.1859    | 44.2% (90% CI 5.9–73.3%)               |                                14.8458    | 14.8% (90% CI 7.4–25.8%)              |\n",
      "|  50 | ETH       | Ethiopia                                             | Africa   | Sub-Saharan Africa              |                  66.9785    | 67.0% (90% CI 60.0–73.8%)  |                       33.0215  | 33.0% (90% CI 26.2–40.0%)    |                                 0.50892    | 0.5% (90% CI 0.3–0.7%)                 |                                  9.57389   | 9.6% (90% CI 2.5–16.4%)                |                                 0.285992  | 0.3% (90% CI 0.1–0.5%)                |\n",
      "|  51 | FIN       | Finland                                              | Europe   | Northern Europe                 |                  89.5761    | 89.6% (90% CI 75.2–96.0%)  |                       10.3391  | 10.3% (90% CI 3.9–24.7%)     |                                81.6133     | 81.6% (90% CI 69.4–84.5%)              |                                 54.9433    | 54.9% (90% CI 22.0–81.1%)              |                                33.7032    | 33.7% (90% CI 14.1–57.8%)             |\n",
      "|  52 | FJI       | Fiji                                                 | Oceania  | Melanesia                       |                  61.2279    | 61.2% (90% CI 47.1–94.9%)  |                       38.7721  | 38.8% (90% CI 5.1–52.9%)     |                                32.0261     | 32.0% (90% CI 28.1–33.1%)              |                                 26.9045    | 26.9% (90% CI 8.2–79.6%)               |                                21.734     | 21.7% (90% CI 1.8–29.0%)              |\n",
      "|  53 | FRA       | France                                               | Europe   | Western Europe                  |                  82.2648    | 82.3% (90% CI 64.0–93.7%)  |                       17.7352  | 17.7% (90% CI 6.3–36.0%)     |                                58.9759     | 59.0% (90% CI 52.3–59.9%)              |                                 60.4941    | 60.5% (90% CI 25.0–86.8%)              |                                22.6743    | 22.7% (90% CI 6.9–41.5%)              |\n",
      "|  54 | GAB       | Gabon                                                | Africa   | Sub-Saharan Africa              |                  67.1901    | 67.2% (90% CI 56.4–79.5%)  |                       32.8099  | 32.8% (90% CI 20.5–43.6%)    |                                 1.26267    | 1.3% (90% CI 0.8–1.4%)                 |                                 13.8077    | 13.8% (90% CI 2.2–26.6%)               |                                 0.767495  | 0.8% (90% CI 0.4–1.1%)                |\n",
      "|  55 | GBR       | United Kingdom of Great Britain and Northern Ireland | Europe   | Northern Europe                 |                  78.4418    | 78.4% (90% CI 60.8–91.5%)  |                       21.5579  | 21.6% (90% CI 8.5–39.2%)     |                                51.9426     | 51.9% (90% CI 47.3–53.0%)              |                                 57.9418    | 57.9% (90% CI 23.7–84.6%)              |                                20.722     | 20.7% (90% CI 6.9–38.2%)              |\n",
      "|  56 | GEO       | Georgia                                              | Asia     | Western Asia                    |                  67.2595    | 67.3% (90% CI 43.5–92.7%)  |                       32.7402  | 32.7% (90% CI 7.3–56.5%)     |                                 5.99278    | 6.0% (90% CI 5.3–6.3%)                 |                                 42.6037    | 42.6% (90% CI 17.2–70.5%)              |                                 2.36545   | 2.4% (90% CI 0.3–4.5%)                |\n",
      "|  57 | GHA       | Ghana                                                | Africa   | Sub-Saharan Africa              |                  76.6647    | 76.7% (90% CI 68.3–85.3%)  |                       23.3353  | 23.3% (90% CI 14.7–31.7%)    |                                12.245      | 12.2% (90% CI 9.0–14.6%)               |                                 14.0763    | 14.1% (90% CI 5.2–26.3%)               |                                 7.00409   | 7.0% (90% CI 3.2–10.9%)               |\n",
      "|  58 | GIN       | Guinea                                               | Africa   | Sub-Saharan Africa              |                  93.4956    | 93.5% (90% CI 90.9–97.0%)  |                        6.50438 | 6.5% (90% CI 3.0–9.1%)       |                                 3.09114    | 3.1% (90% CI 2.5–3.2%)                 |                                  4.41254   | 4.4% (90% CI 1.5–9.0%)                 |                                 1.96485   | 2.0% (90% CI 0.8–2.7%)                |\n",
      "|  59 | GMB       | Gambia                                               | Africa   | Sub-Saharan Africa              |                  67.3153    | 67.3% (90% CI 60.0–89.4%)  |                       32.6847  | 32.7% (90% CI 10.6–40.0%)    |                                31.6222     | 31.6% (90% CI 28.7–32.1%)              |                                 14.9991    | 15.0% (90% CI 5.8–54.4%)               |                                23.4715    | 23.5% (90% CI 7.9–28.8%)              |\n",
      "|  60 | GNB       | Guinea-Bissau                                        | Africa   | Sub-Saharan Africa              |                  85.5728    | 85.6% (90% CI 77.5–91.3%)  |                       14.4272  | 14.4% (90% CI 8.7–22.5%)     |                                11.962      | 12.0% (90% CI 8.8–12.3%)               |                                 14.0456    | 14.0% (90% CI 4.1–21.7%)               |                                 6.65561   | 6.7% (90% CI 3.9–10.1%)               |\n",
      "|  61 | GNQ       | Equatorial Guinea                                    | Africa   | Sub-Saharan Africa              |                  90.2493    | 90.2% (90% CI 82.1–96.3%)  |                        9.75067 | 9.8% (90% CI 3.7–17.9%)      |                                 2.06491    | 2.1% (90% CI 1.6–2.2%)                 |                                 13.4205    | 13.4% (90% CI 4.8–20.1%)               |                                 0.765123  | 0.8% (90% CI 0.3–1.6%)                |\n",
      "|  62 | GRC       | Greece                                               | Europe   | Southern Europe                 |                  30.6578    | 30.7% (90% CI 17.6–39.5%)  |                       69.3419  | 69.3% (90% CI 60.5–82.4%)    |                                12.5877     | 12.6% (90% CI 9.7–16.7%)               |                                 25.2771    | 25.3% (90% CI 9.5–33.7%)               |                                 6.25802   | 6.3% (90% CI 1.9–11.5%)               |\n",
      "|  63 | GRD       | Grenada                                              | Americas | Latin America and the Caribbean |                  43.3218    | 43.3% (90% CI 22.2–61.9%)  |                       56.6782  | 56.7% (90% CI 38.1–77.8%)    |                                28.0636     | 28.1% (90% CI 13.3–34.4%)              |                                 31.863     | 31.9% (90% CI 0.0–31.9%)               |                                14.7817    | 14.8% (90% CI 0.0–26.3%)              |\n",
      "|  64 | GRL       | Greenland                                            | Americas | Northern America                |                  12.7836    | 12.8% (90% CI 1.7–47.2%)   |                       87.1318  | 87.1% (90% CI 52.7–98.2%)    |                                 5.67104    | 5.7% (90% CI 0.6–39.7%)                |                                  4.0858    | 4.1% (90% CI 1.0–13.6%)                |                                 3.96791   | 4.0% (90% CI 0.0–34.5%)               |\n",
      "|  65 | GTM       | Guatemala                                            | Americas | Latin America and the Caribbean |                  64.703     | 64.7% (90% CI 46.6–78.6%)  |                       35.297   | 35.3% (90% CI 21.4–53.4%)    |                                16.1938     | 16.2% (90% CI 11.4–18.8%)              |                                 29.0451    | 29.0% (90% CI 7.7–46.4%)               |                                 8.11376   | 8.1% (90% CI 3.3–14.0%)               |\n",
      "|  66 | GUY       | Guyana                                               | Americas | Latin America and the Caribbean |                  91.9394    | 91.9% (90% CI 82.4–96.8%)  |                        7.75311 | 7.8% (90% CI 2.9–17.3%)      |                                36.8298     | 36.8% (90% CI 34.5–38.1%)              |                                 61.8031    | 61.8% (90% CI 45.3–69.4%)              |                                 5.41366   | 5.4% (90% CI 0.9–13.5%)               |\n",
      "|  67 | HND       | Honduras                                             | Americas | Latin America and the Caribbean |                  64.1568    | 64.2% (90% CI 41.5–83.3%)  |                       35.8432  | 35.8% (90% CI 16.7–58.5%)    |                                26.2147     | 26.2% (90% CI 18.2–28.8%)              |                                 39.0967    | 39.1% (90% CI 11.8–65.0%)              |                                12.18      | 12.2% (90% CI 4.2–21.9%)              |\n",
      "|  68 | HRV       | Croatia                                              | Europe   | Southern Europe                 |                  65.9728    | 66.0% (90% CI 48.7–78.8%)  |                       34.0272  | 34.0% (90% CI 21.2–51.3%)    |                                33.7896     | 33.8% (90% CI 26.8–36.2%)              |                                 44.0478    | 44.0% (90% CI 19.5–62.2%)              |                                13.3707    | 13.4% (90% CI 6.1–23.7%)              |\n",
      "|  69 | HTI       | Haiti                                                | Americas | Latin America and the Caribbean |                  89.5523    | 89.6% (90% CI 84.2–93.7%)  |                       10.4477  | 10.4% (90% CI 6.3–15.8%)     |                                 3.02073    | 3.0% (90% CI 2.1–3.3%)                 |                                  8.4402    | 8.4% (90% CI 2.3–13.2%)                |                                 1.4848    | 1.5% (90% CI 0.6–2.6%)                |\n",
      "|  70 | HUN       | Hungary                                              | Europe   | Eastern Europe                  |                  68.6622    | 68.7% (90% CI 43.4–84.5%)  |                       31.3378  | 31.3% (90% CI 15.5–56.6%)    |                                32.5909     | 32.6% (90% CI 28.1–33.8%)              |                                 55.5473    | 55.5% (90% CI 18.8–78.3%)              |                                13.5074    | 13.5% (90% CI 6.1–24.3%)              |\n",
      "|  71 | IDN       | Indonesia                                            | Asia     | South-eastern Asia              |                  90.2243    | 90.2% (90% CI 86.9–92.7%)  |                        9.77566 | 9.8% (90% CI 7.3–13.1%)      |                                 6.83551    | 6.8% (90% CI 5.8–7.4%)                 |                                  8.21449   | 8.2% (90% CI 3.1–12.5%)                |                                 2.90334   | 2.9% (90% CI 1.0–5.4%)                |\n",
      "|  72 | IND       | India                                                | Asia     | Southern Asia                   |                  82.3138    | 82.3% (90% CI 73.5–88.5%)  |                       17.6862  | 17.7% (90% CI 11.5–26.5%)    |                                18.6804     | 18.7% (90% CI 16.2–19.9%)              |                                 20.5404    | 20.5% (90% CI 8.3–31.0%)               |                                 9.31287   | 9.3% (90% CI 5.0–14.9%)               |\n",
      "|  73 | IRL       | Ireland                                              | Europe   | Northern Europe                 |                  77.3525    | 77.4% (90% CI 57.0–94.6%)  |                       22.6475  | 22.6% (90% CI 5.4–43.0%)     |                                47.5825     | 47.6% (90% CI 42.3–48.2%)              |                                 52.8611    | 52.9% (90% CI 15.6–87.0%)              |                                21.1273    | 21.1% (90% CI 4.3–37.5%)              |\n",
      "|  74 | IRN       | Iran, Islamic Republic of                            | Asia     | Southern Asia                   |                  38.0887    | 38.1% (90% CI 20.2–54.5%)  |                       61.9113  | 61.9% (90% CI 45.5–79.8%)    |                                12.5925     | 12.6% (90% CI 7.8–15.5%)               |                                 29.1979    | 29.2% (90% CI 10.2–47.6%)              |                                 6.34389   | 6.3% (90% CI 2.3–10.9%)               |\n",
      "|  75 | IRQ       | Iraq                                                 | Asia     | Western Asia                    |                  65.8272    | 65.8% (90% CI 49.2–78.2%)  |                       34.1727  | 34.2% (90% CI 21.8–50.8%)    |                                14.3906     | 14.4% (90% CI 12.2–15.7%)              |                                 34.9681    | 35.0% (90% CI 13.5–50.8%)              |                                 6.26858   | 6.3% (90% CI 3.0–10.7%)               |\n",
      "|  76 | ISL       | Iceland                                              | Europe   | Northern Europe                 |                  59.9028    | 59.9% (90% CI 39.0–71.5%)  |                       38.7548  | 38.8% (90% CI 27.1–59.6%)    |                                41.5201     | 41.5% (90% CI 27.9–48.1%)              |                                 45.0659    | 45.1% (90% CI 15.7–51.9%)              |                                18.2062    | 18.2% (90% CI 7.7–31.4%)              |\n",
      "|  77 | ISR       | Israel                                               | Asia     | Western Asia                    |                  21.2256    | 21.2% (90% CI 13.5–29.0%)  |                       78.7744  | 78.8% (90% CI 71.0–86.5%)    |                                12.6638     | 12.7% (90% CI 7.8–16.3%)               |                                 13.3446    | 13.3% (90% CI 4.7–21.9%)               |                                 7.66266   | 7.7% (90% CI 2.9–11.9%)               |\n",
      "|  78 | ITA       | Italy                                                | Europe   | Southern Europe                 |                  78.1307    | 78.1% (90% CI 61.6–88.8%)  |                       21.8679  | 21.9% (90% CI 11.2–38.4%)    |                                60.0523     | 60.1% (90% CI 52.9–63.5%)              |                                 54.4437    | 54.4% (90% CI 16.4–78.1%)              |                                24.1736    | 24.2% (90% CI 9.3–46.8%)              |\n",
      "|  79 | JAM       | Jamaica                                              | Americas | Latin America and the Caribbean |                  65.6484    | 65.6% (90% CI 48.3–78.8%)  |                       34.3516  | 34.4% (90% CI 21.2–51.7%)    |                                26.6421     | 26.6% (90% CI 16.6–29.5%)              |                                 25.5463    | 25.5% (90% CI 7.2–45.4%)               |                                14.9658    | 15.0% (90% CI 5.7–22.7%)              |\n",
      "|  80 | JOR       | Jordan                                               | Asia     | Western Asia                    |                  38.7477    | 38.7% (90% CI 30.6–46.2%)  |                       61.2521  | 61.3% (90% CI 53.8–69.4%)    |                                 3.46007    | 3.5% (90% CI 2.3–4.7%)                 |                                 20.1809    | 20.2% (90% CI 11.7–27.9%)              |                                 1.54628   | 1.5% (90% CI 0.5–2.8%)                |\n",
      "|  81 | JPN       | Japan                                                | Asia     | Eastern Asia                    |                  84.7623    | 84.8% (90% CI 72.2–92.6%)  |                       15.2377  | 15.2% (90% CI 7.4–27.8%)     |                                59.9588     | 60.0% (90% CI 53.2–61.8%)              |                                 50.6333    | 50.6% (90% CI 21.2–72.9%)              |                                23.6877    | 23.7% (90% CI 8.4–44.2%)              |\n",
      "|  82 | KAZ       | Kazakhstan                                           | Asia     | Central Asia                    |                  65.7382    | 65.7% (90% CI 53.4–75.1%)  |                       34.2618  | 34.3% (90% CI 24.9–46.6%)    |                                10.9786     | 11.0% (90% CI 8.4–13.0%)               |                                 24.4082    | 24.4% (90% CI 11.1–36.1%)              |                                 4.91573   | 4.9% (90% CI 2.3–8.4%)                |\n",
      "|  83 | KEN       | Kenya                                                | Africa   | Sub-Saharan Africa              |                  77.7333    | 77.7% (90% CI 70.3–84.8%)  |                       22.2661  | 22.3% (90% CI 15.2–29.7%)    |                                10.3792     | 10.4% (90% CI 7.6–10.9%)               |                                 13.79      | 13.8% (90% CI 5.1–23.4%)               |                                 6.0113    | 6.0% (90% CI 3.2–8.8%)                |\n",
      "|  84 | KGZ       | Kyrgyzstan                                           | Asia     | Central Asia                    |                  72.1204    | 72.1% (90% CI 47.6–89.3%)  |                       27.8796  | 27.9% (90% CI 10.7–52.4%)    |                                19.5752     | 19.6% (90% CI 14.1–21.2%)              |                                 58.4437    | 58.4% (90% CI 28.8–79.7%)              |                                 5.33976   | 5.3% (90% CI 1.0–12.7%)               |\n",
      "|  85 | KHM       | Cambodia                                             | Asia     | South-eastern Asia              |                  92.2823    | 92.3% (90% CI 87.3–94.9%)  |                        7.71767 | 7.7% (90% CI 5.1–12.7%)      |                                20.419      | 20.4% (90% CI 18.0–21.4%)              |                                 16.487     | 16.5% (90% CI 6.2–21.8%)               |                                 9.49937   | 9.5% (90% CI 5.9–16.4%)               |\n",
      "|  86 | KNA       | Saint Kitts and Nevis                                | Americas | Latin America and the Caribbean |                  45.8268    | 45.8% (90% CI 19.2–45.8%)  |                       54.1732  | 54.2% (90% CI 54.2–80.8%)    |                                23.6429     | 23.6% (90% CI 7.4–23.6%)               |                                 17.823     | 17.8% (90% CI 0.0–17.8%)               |                                16.2135    | 16.2% (90% CI 0.0–23.6%)              |\n",
      "|  87 | KOR       | Korea, Republic of                                   | Asia     | Eastern Asia                    |                  55.5328    | 55.5% (90% CI 37.4–70.9%)  |                       44.4672  | 44.5% (90% CI 29.1–62.6%)    |                                35.519      | 35.5% (90% CI 24.0–41.7%)              |                                 35.2613    | 35.3% (90% CI 15.5–55.3%)              |                                19.3651    | 19.4% (90% CI 8.2–29.2%)              |\n",
      "|  88 | LAO       | Lao People's Democratic Republic                     | Asia     | South-eastern Asia              |                  95.8154    | 95.8% (90% CI 90.8–98.2%)  |                        4.18464 | 4.2% (90% CI 1.8–9.2%)       |                                 8.92192    | 8.9% (90% CI 7.6–9.3%)                 |                                 12.5107    | 12.5% (90% CI 4.5–16.5%)               |                                 2.76218   | 2.8% (90% CI 1.1–6.9%)                |\n",
      "|  89 | LBN       | Lebanon                                              | Asia     | Western Asia                    |                  45.294     | 45.3% (90% CI 32.1–52.5%)  |                       54.706   | 54.7% (90% CI 47.5–67.9%)    |                                 6.76949    | 6.8% (90% CI 4.0–7.9%)                 |                                 32.9446    | 32.9% (90% CI 20.2–40.2%)              |                                 3.68445   | 3.7% (90% CI 0.7–5.3%)                |\n",
      "|  90 | LBR       | Liberia                                              | Africa   | Sub-Saharan Africa              |                  98.4215    | 98.4% (90% CI 98.3–98.5%)  |                        1.57851 | 1.6% (90% CI 1.5–1.7%)       |                                 0.0525315  | 0.1% (90% CI 0.0–0.1%)                 |                                  0.123723  | 0.1% (90% CI 0.0–0.2%)                 |                                 0.0488198 | 0.0% (90% CI 0.0–0.1%)                |\n",
      "|  91 | LBY       | Libya                                                | Africa   | Northern Africa                 |                  43.5554    | 43.6% (90% CI 43.5–43.6%)  |                       56.4446  | 56.4% (90% CI 56.4–56.5%)    |                                 0.00936743 | 0.0% (90% CI 0.0–0.0%)                 |                                  0.0117269 | 0.0% (90% CI 0.0–0.0%)                 |                                 0.0070866 | 0.0% (90% CI 0.0–0.0%)                |\n",
      "|  92 | LCA       | Saint Lucia                                          | Americas | Latin America and the Caribbean |                  42.5231    | 42.5% (90% CI 11.7–74.7%)  |                       57.4769  | 57.5% (90% CI 25.3–88.3%)    |                                27.58       | 27.6% (90% CI 8.1–32.4%)               |                                 19.4139    | 19.4% (90% CI 0.0–66.2%)               |                                21.007     | 21.0% (90% CI 1.5–27.6%)              |\n",
      "|  93 | LIE       | Liechtenstein                                        | Europe   | Western Europe                  |                  82.6238    | 82.6% (90% CI 53.3–100.0%) |                       17.3762  | 17.4% (90% CI -0.0–46.7%)    |                                73.43       | 73.4% (90% CI 53.3–73.4%)              |                                 34.6023    | 34.6% (90% CI 0.0–100.0%)              |                                48.0216    | 48.0% (90% CI 0.0–73.4%)              |\n",
      "|  94 | LKA       | Sri Lanka                                            | Asia     | Southern Asia                   |                  75.4044    | 75.4% (90% CI 61.3–82.3%)  |                       24.5956  | 24.6% (90% CI 17.7–38.7%)    |                                27.1424     | 27.1% (90% CI 22.1–29.8%)              |                                 34.0984    | 34.1% (90% CI 14.0–44.2%)              |                                12.054     | 12.1% (90% CI 6.6–21.3%)              |\n",
      "|  95 | LSO       | Lesotho                                              | Africa   | Sub-Saharan Africa              |                  76.457     | 76.5% (90% CI 45.6–97.8%)  |                       23.543   | 23.5% (90% CI 2.2–54.4%)     |                                 1.44898    | 1.4% (90% CI 1.2–1.5%)                 |                                 45.2027    | 45.2% (90% CI 13.8–66.9%)              |                                 0.430878  | 0.4% (90% CI 0.0–1.1%)                |\n",
      "|  96 | LTU       | Lithuania                                            | Europe   | Northern Europe                 |                  82.5675    | 82.6% (90% CI 59.9–94.1%)  |                       17.4325  | 17.4% (90% CI 5.9–40.1%)     |                                34.5789     | 34.6% (90% CI 31.5–34.8%)              |                                 61.148     | 61.1% (90% CI 26.0–79.7%)              |                                10.4568    | 10.5% (90% CI 3.4–23.2%)              |\n",
      "|  97 | LUX       | Luxembourg                                           | Europe   | Western Europe                  |                  78.5715    | 78.6% (90% CI 55.8–90.4%)  |                       21.4285  | 21.4% (90% CI 9.6–44.2%)     |                                60.9504     | 61.0% (90% CI 44.1–62.3%)              |                                 55.3193    | 55.3% (90% CI 12.0–75.3%)              |                                24.2667    | 24.3% (90% CI 10.6–50.7%)             |\n",
      "|  98 | LVA       | Latvia                                               | Europe   | Northern Europe                 |                  70.9582    | 71.0% (90% CI 46.9–94.4%)  |                       29.0418  | 29.0% (90% CI 5.6–53.1%)     |                                16.1382     | 16.1% (90% CI 15.2–16.3%)              |                                 55.3996    | 55.4% (90% CI 26.0–84.0%)              |                                 6.10172   | 6.1% (90% CI 1.0–11.0%)               |\n",
      "|  99 | MAR       | Morocco                                              | Africa   | Northern Africa                 |                  52.4876    | 52.5% (90% CI 44.6–60.0%)  |                       47.5099  | 47.5% (90% CI 40.0–55.4%)    |                                10.9471     | 10.9% (90% CI 6.1–12.2%)               |                                 11.8491    | 11.8% (90% CI 5.7–21.2%)               |                                 7.68402   | 7.7% (90% CI 3.3–9.8%)                |\n",
      "| 100 | MDA       | Moldova, Republic of                                 | Europe   | Eastern Europe                  |                  78.3816    | 78.4% (90% CI 57.3–93.9%)  |                       21.6184  | 21.6% (90% CI 6.1–42.7%)     |                                17.7782     | 17.8% (90% CI 14.7–18.1%)              |                                 38.5686    | 38.6% (90% CI 10.3–58.3%)              |                                 7.24166   | 7.2% (90% CI 1.9–14.0%)               |\n",
      "| 101 | MDG       | Madagascar                                           | Africa   | Sub-Saharan Africa              |                  86.1981    | 86.2% (90% CI 81.6–93.2%)  |                       13.8019  | 13.8% (90% CI 6.8–18.4%)     |                                 5.21914    | 5.2% (90% CI 4.2–5.6%)                 |                                  8.98764   | 9.0% (90% CI 4.3–17.9%)                |                                 3.04183   | 3.0% (90% CI 1.1–4.3%)                |\n",
      "| 102 | MEX       | Mexico                                               | Americas | Latin America and the Caribbean |                  44.9942    | 45.0% (90% CI 29.7–58.5%)  |                       54.9962  | 55.0% (90% CI 41.5–70.3%)    |                                21.8686     | 21.9% (90% CI 16.3–25.2%)              |                                 29.7515    | 29.8% (90% CI 10.0–46.7%)              |                                11.7074    | 11.7% (90% CI 6.1–18.4%)              |\n",
      "| 103 | MKD       | North Macedonia                                      | Europe   | Southern Europe                 |                  75.3168    | 75.3% (90% CI 51.1–90.6%)  |                       24.6832  | 24.7% (90% CI 9.4–48.9%)     |                                42.5912     | 42.6% (90% CI 25.7–48.2%)              |                                 39.5212    | 39.5% (90% CI 12.1–66.5%)              |                                18.5698    | 18.6% (90% CI 4.4–37.0%)              |\n",
      "| 104 | MLI       | Mali                                                 | Africa   | Sub-Saharan Africa              |                  79.9124    | 79.9% (90% CI 75.6–83.4%)  |                       20.0874  | 20.1% (90% CI 16.6–24.4%)    |                                 8.9513     | 9.0% (90% CI 6.3–11.0%)                |                                  9.98789   | 10.0% (90% CI 6.0–13.8%)               |                                 4.46955   | 4.5% (90% CI 1.8–7.1%)                |\n",
      "| 105 | MLT       | Malta                                                | Europe   | Southern Europe                 |                  46.9797    | 47.0% (90% CI 19.5–69.0%)  |                       53.0203  | 53.0% (90% CI 31.0–80.5%)    |                                41.47       | 41.5% (90% CI 19.5–41.5%)              |                                 32.9128    | 32.9% (90% CI 0.0–47.0%)               |                                21.9875    | 22.0% (90% CI 1.1–41.5%)              |\n",
      "| 106 | MMR       | Myanmar                                              | Asia     | South-eastern Asia              |                  92.3614    | 92.4% (90% CI 88.0–97.5%)  |                        7.63859 | 7.6% (90% CI 2.5–12.0%)      |                                13.288      | 13.3% (90% CI 11.7–13.9%)              |                                 12.2987    | 12.3% (90% CI 6.1–22.5%)               |                                 6.71442   | 6.7% (90% CI 1.5–10.1%)               |\n",
      "| 107 | MNE       | Montenegro                                           | Europe   | Southern Europe                 |                  59.7397    | 59.7% (90% CI 43.8–75.3%)  |                       40.2603  | 40.3% (90% CI 24.7–56.2%)    |                                16.7597     | 16.8% (90% CI 10.7–20.0%)              |                                 26.3982    | 26.4% (90% CI 10.5–45.6%)              |                                 7.8963    | 7.9% (90% CI 2.1–14.6%)               |\n",
      "| 108 | MNG       | Mongolia                                             | Asia     | Eastern Asia                    |                  93.8554    | 93.9% (90% CI 89.5–97.0%)  |                        5.2981  | 5.3% (90% CI 2.2–9.7%)       |                                 2.4182     | 2.4% (90% CI 2.2–2.6%)                 |                                 11.118     | 11.1% (90% CI 6.0–14.8%)               |                                 0.571812  | 0.6% (90% CI 0.1–1.5%)                |\n",
      "| 109 | MOZ       | Mozambique                                           | Africa   | Sub-Saharan Africa              |                  89.5732    | 89.6% (90% CI 83.2–93.6%)  |                       10.4268  | 10.4% (90% CI 6.4–16.8%)     |                                 9.33516    | 9.3% (90% CI 7.2–10.7%)                |                                 12.0509    | 12.1% (90% CI 4.3–18.3%)               |                                 4.37862   | 4.4% (90% CI 2.0–7.7%)                |\n",
      "| 110 | MRT       | Mauritania                                           | Africa   | Sub-Saharan Africa              |                  52.6056    | 52.6% (90% CI 51.4–54.6%)  |                       46.8315  | 46.8% (90% CI 44.9–48.1%)    |                                 0.395699   | 0.4% (90% CI 0.3–1.0%)                 |                                  2.61943   | 2.6% (90% CI 1.5–4.3%)                 |                                 0.270067  | 0.3% (90% CI 0.2–0.8%)                |\n",
      "| 111 | MUS       | Mauritius                                            | Africa   | Sub-Saharan Africa              |                  90.1629    | 90.2% (90% CI 72.2–94.1%)  |                        9.83711 | 9.8% (90% CI 5.9–27.8%)      |                                71.8619     | 71.9% (90% CI 67.9–71.9%)              |                                 84.3588    | 84.4% (90% CI 16.6–90.2%)              |                                 8.306     | 8.3% (90% CI 0.3–59.4%)               |\n",
      "| 112 | MWI       | Malawi                                               | Africa   | Sub-Saharan Africa              |                  89.112     | 89.1% (90% CI 81.3–94.2%)  |                       10.8868  | 10.9% (90% CI 5.8–18.7%)     |                                14.8555     | 14.9% (90% CI 12.3–15.3%)              |                                 17.0572    | 17.1% (90% CI 6.5–25.2%)               |                                 7.02129   | 7.0% (90% CI 3.4–12.0%)               |\n",
      "| 113 | MYS       | Malaysia                                             | Asia     | South-eastern Asia              |                  68.6634    | 68.7% (90% CI 49.5–84.6%)  |                       31.3365  | 31.3% (90% CI 15.4–50.5%)    |                                37.5218     | 37.5% (90% CI 29.5–39.2%)              |                                 38.9661    | 39.0% (90% CI 13.7–66.1%)              |                                19.031     | 19.0% (90% CI 8.2–30.8%)              |\n",
      "| 114 | NAM       | Namibia                                              | Africa   | Sub-Saharan Africa              |                  26.2981    | 26.3% (90% CI 25.0–44.7%)  |                       73.0936  | 73.1% (90% CI 54.7–74.4%)    |                                 4.20718    | 4.2% (90% CI 3.4–4.6%)                 |                                  1.18121   | 1.2% (90% CI 0.3–22.5%)                |                                 3.96551   | 4.0% (90% CI 0.8–4.3%)                |\n",
      "| 115 | NER       | Niger                                                | Africa   | Sub-Saharan Africa              |                  67.6846    | 67.7% (90% CI 66.2–69.4%)  |                       32.2351  | 32.2% (90% CI 30.5–33.7%)    |                                 1.05027    | 1.1% (90% CI 0.7–1.4%)                 |                                  3.46067   | 3.5% (90% CI 2.1–5.1%)                 |                                 0.691725  | 0.7% (90% CI 0.4–1.0%)                |\n",
      "| 116 | NGA       | Nigeria                                              | Africa   | Sub-Saharan Africa              |                  94.7337    | 94.7% (90% CI 92.3–96.9%)  |                        5.26635 | 5.3% (90% CI 3.1–7.7%)       |                                 2.03105    | 2.0% (90% CI 1.6–2.2%)                 |                                  4.27251   | 4.3% (90% CI 1.6–7.1%)                 |                                 1.05458   | 1.1% (90% CI 0.5–1.7%)                |\n",
      "| 117 | NIC       | Nicaragua                                            | Americas | Latin America and the Caribbean |                  75.7373    | 75.7% (90% CI 68.3–82.7%)  |                       24.2627  | 24.3% (90% CI 17.3–31.7%)    |                                11.1705     | 11.2% (90% CI 7.5–13.4%)               |                                 11.6405    | 11.6% (90% CI 4.7–20.5%)               |                                 7.14014   | 7.1% (90% CI 3.5–10.0%)               |\n",
      "| 118 | NLD       | Netherlands, Kingdom of the                          | Europe   | Western Europe                  |                  94.6291    | 94.6% (90% CI 86.8–98.0%)  |                        5.37091 | 5.4% (90% CI 2.0–13.2%)      |                                88.2264     | 88.2% (90% CI 82.7–89.3%)              |                                 64.1319    | 64.1% (90% CI 21.0–87.0%)              |                                30.9092    | 30.9% (90% CI 10.6–65.9%)             |\n",
      "| 119 | NOR       | Norway                                               | Europe   | Northern Europe                 |                  86.7246    | 86.7% (90% CI 69.5–94.6%)  |                       13.2754  | 13.3% (90% CI 5.4–30.5%)     |                                74.6565     | 74.7% (90% CI 60.7–78.6%)              |                                 64.7369    | 64.7% (90% CI 22.2–86.8%)              |                                20.821     | 20.8% (90% CI 6.2–53.0%)              |\n",
      "| 120 | NPL       | Nepal                                                | Asia     | Southern Asia                   |                  86.9687    | 87.0% (90% CI 74.2–95.6%)  |                       13.0313  | 13.0% (90% CI 4.4–25.8%)     |                                19.9369     | 19.9% (90% CI 18.4–20.3%)              |                                 30.2272    | 30.2% (90% CI 10.2–44.1%)              |                                 7.78436   | 7.8% (90% CI 2.1–15.9%)               |\n",
      "| 121 | NZL       | New Zealand                                          | Oceania  | Australia and New Zealand       |                  80.4888    | 80.5% (90% CI 62.4–90.8%)  |                       19.4336  | 19.4% (90% CI 9.1–37.5%)     |                                56.4867     | 56.5% (90% CI 52.7–62.0%)              |                                 63.5974    | 63.6% (90% CI 20.7–81.7%)              |                                18.4447    | 18.4% (90% CI 7.5–43.4%)              |\n",
      "| 122 | OMN       | Oman                                                 | Asia     | Western Asia                    |                  18.9746    | 19.0% (90% CI 16.4–22.1%)  |                       81.0254  | 81.0% (90% CI 77.9–83.6%)    |                                 3.62731    | 3.6% (90% CI 1.8–5.1%)                 |                                  0.45928   | 0.5% (90% CI 0.3–4.4%)                 |                                 2.89638   | 2.9% (90% CI 0.4–4.9%)                |\n",
      "| 123 | PAK       | Pakistan                                             | Asia     | Southern Asia                   |                  91.3441    | 91.3% (90% CI 86.2–95.2%)  |                        8.65595 | 8.7% (90% CI 4.8–13.8%)      |                                10.879      | 10.9% (90% CI 9.7–11.5%)               |                                 12.8053    | 12.8% (90% CI 4.5–19.7%)               |                                 5.01127   | 5.0% (90% CI 2.0–8.7%)                |\n",
      "| 124 | PAN       | Panama                                               | Americas | Latin America and the Caribbean |                  86.1123    | 86.1% (90% CI 65.6–95.0%)  |                       13.8877  | 13.9% (90% CI 5.0–34.4%)     |                                35.8811     | 35.9% (90% CI 31.1–36.5%)              |                                 64.2857    | 64.3% (90% CI 36.7–78.4%)              |                                 7.97892   | 8.0% (90% CI 2.4–19.9%)               |\n",
      "| 125 | PER       | Peru                                                 | Americas | Latin America and the Caribbean |                  51.875     | 51.9% (90% CI 35.6–64.2%)  |                       48.1247  | 48.1% (90% CI 35.8–64.4%)    |                                13.1101     | 13.1% (90% CI 8.9–15.7%)               |                                 31.1177    | 31.1% (90% CI 11.7–44.9%)              |                                 6.32623   | 6.3% (90% CI 2.3–10.3%)               |\n",
      "| 126 | PHL       | Philippines                                          | Asia     | South-eastern Asia              |                  77.196     | 77.2% (90% CI 60.1–89.1%)  |                       22.804   | 22.8% (90% CI 10.9–39.9%)    |                                15.6271     | 15.6% (90% CI 14.1–16.1%)              |                                 40.9762    | 41.0% (90% CI 19.0–56.5%)              |                                 5.85968   | 5.9% (90% CI 2.3–11.1%)               |\n",
      "| 127 | PLW       | Palau                                                | Oceania  | Micronesia                      |                  79.1747    | 79.2% (90% CI 74.6–83.0%)  |                       20.8253  | 20.8% (90% CI 17.0–25.4%)    |                                 4.55702    | 4.6% (90% CI 3.6–4.6%)                 |                                  6.26508   | 6.3% (90% CI 0.0–12.0%)                |                                 2.07954   | 2.1% (90% CI 0.0–4.6%)                |\n",
      "| 128 | PNG       | Papua New Guinea                                     | Oceania  | Melanesia                       |                  97.3061    | 97.3% (90% CI 93.6–99.3%)  |                        2.69386 | 2.7% (90% CI 0.7–6.4%)       |                                 5.75122    | 5.8% (90% CI 3.9–6.0%)                 |                                  8.38812   | 8.4% (90% CI 3.2–11.6%)                |                                 1.56619   | 1.6% (90% CI 0.3–4.1%)                |\n",
      "| 129 | POL       | Poland                                               | Europe   | Eastern Europe                  |                  83.9306    | 83.9% (90% CI 70.2–92.6%)  |                       16.0694  | 16.1% (90% CI 7.4–29.8%)     |                                57.5414     | 57.5% (90% CI 49.2–59.2%)              |                                 45.0876    | 45.1% (90% CI 14.1–66.7%)              |                                26.1526    | 26.2% (90% CI 11.6–45.4%)             |\n",
      "| 130 | PRK       | Korea, Democratic People's Republic of               | Asia     | Eastern Asia                    |                  79.8666    | 79.9% (90% CI 68.7–88.4%)  |                       20.1334  | 20.1% (90% CI 11.6–31.3%)    |                                19.3221     | 19.3% (90% CI 14.1–21.9%)              |                                 24.6657    | 24.7% (90% CI 10.6–36.5%)              |                                 8.48191   | 8.5% (90% CI 3.6–14.7%)               |\n",
      "| 131 | PRT       | Portugal                                             | Europe   | Southern Europe                 |                  56.3465    | 56.3% (90% CI 35.8–68.7%)  |                       43.6505  | 43.7% (90% CI 31.3–64.2%)    |                                30.5067     | 30.5% (90% CI 23.3–32.4%)              |                                 40.7435    | 40.7% (90% CI 13.2–57.6%)              |                                13.9014    | 13.9% (90% CI 6.7–24.4%)              |\n",
      "| 132 | PRY       | Paraguay                                             | Americas | Latin America and the Caribbean |                  53.1999    | 53.2% (90% CI 34.4–69.0%)  |                       46.7688  | 46.8% (90% CI 31.0–65.6%)    |                                30.2929     | 30.3% (90% CI 21.9–37.4%)              |                                 37.4004    | 37.4% (90% CI 15.2–55.5%)              |                                16.5404    | 16.5% (90% CI 7.8–25.9%)              |\n",
      "| 133 | QAT       | Qatar                                                | Asia     | Western Asia                    |                   0         | 0.0% (90% CI 0.0–0.0%)     |                       99.9992  | 100.0% (90% CI 100.0–100.0%) |                                 0          | 0.0% (90% CI 0.0–0.0%)                 |                                  0         | 0.0% (90% CI 0.0–0.0%)                 |                                 0         | 0.0% (90% CI 0.0–0.0%)                |\n",
      "| 134 | ROU       | Romania                                              | Europe   | Eastern Europe                  |                  84.0986    | 84.1% (90% CI 72.2–93.5%)  |                       15.9014  | 15.9% (90% CI 6.5–27.8%)     |                                 7.21801    | 7.2% (90% CI 6.3–7.5%)                 |                                 24.3014    | 24.3% (90% CI 9.5–35.2%)               |                                 2.8617    | 2.9% (90% CI 1.0–5.3%)                |\n",
      "| 135 | RUS       | Russian Federation                                   | Europe   | Eastern Europe                  |                  64.5132    | 64.5% (90% CI 42.9–82.3%)  |                       35.0934  | 35.1% (90% CI 17.3–56.7%)    |                                18.3173     | 18.3% (90% CI 14.4–19.8%)              |                                 46.1756    | 46.2% (90% CI 19.4–67.8%)              |                                 7.84787   | 7.8% (90% CI 3.2–13.5%)               |\n",
      "| 136 | RWA       | Rwanda                                               | Africa   | Sub-Saharan Africa              |                  60.4034    | 60.4% (90% CI 49.5–76.5%)  |                       39.5966  | 39.6% (90% CI 23.5–50.5%)    |                                 7.77628    | 7.8% (90% CI 6.1–9.5%)                 |                                 23.1329    | 23.1% (90% CI 11.8–41.6%)              |                                 4.15855   | 4.2% (90% CI 1.6–6.7%)                |\n",
      "| 137 | SAU       | Saudi Arabia                                         | Asia     | Western Asia                    |                  15.9721    | 16.0% (90% CI 15.6–16.4%)  |                       84.0279  | 84.0% (90% CI 83.6–84.4%)    |                                 0.330654   | 0.3% (90% CI 0.1–0.5%)                 |                                  0.43791   | 0.4% (90% CI 0.1–0.9%)                 |                                 0.217184  | 0.2% (90% CI 0.1–0.4%)                |\n",
      "| 138 | SDN       | Sudan                                                | Africa   | Northern Africa                 |                  58.213     | 58.2% (90% CI 54.8–60.6%)  |                       41.7869  | 41.8% (90% CI 39.4–45.2%)    |                                 1.06365    | 1.1% (90% CI 0.9–1.2%)                 |                                  6.79849   | 6.8% (90% CI 3.2–9.4%)                 |                                 0.544866  | 0.5% (90% CI 0.3–0.8%)                |\n",
      "| 139 | SEN       | Senegal                                              | Africa   | Sub-Saharan Africa              |                  39.8498    | 39.8% (90% CI 34.9–45.9%)  |                       60.1502  | 60.2% (90% CI 54.1–65.1%)    |                                 3.98993    | 4.0% (90% CI 2.7–5.5%)                 |                                  7.27051   | 7.3% (90% CI 2.8–13.6%)                |                                 2.70416   | 2.7% (90% CI 1.4–4.1%)                |\n",
      "| 140 | SGP       | Singapore                                            | Asia     | South-eastern Asia              |                  38.7008    | 38.7% (90% CI 28.6–69.3%)  |                       61.2992  | 61.3% (90% CI 30.7–71.4%)    |                                28.5913     | 28.6% (90% CI 22.3–35.5%)              |                                 15.6836    | 15.7% (90% CI 0.0–52.4%)               |                                23.0172    | 23.0% (90% CI 10.0–35.5%)             |\n",
      "| 141 | SLB       | Solomon Islands                                      | Oceania  | Melanesia                       |                  80.5067    | 80.5% (90% CI 72.9–98.0%)  |                       19.4933  | 19.5% (90% CI 2.0–27.1%)     |                                17.6187     | 17.6% (90% CI 15.5–18.0%)              |                                 17.7507    | 17.8% (90% CI 8.5–45.6%)               |                                10.6286    | 10.6% (90% CI 0.5–14.2%)              |\n",
      "| 142 | SLE       | Sierra Leone                                         | Africa   | Sub-Saharan Africa              |                  87.7907    | 87.8% (90% CI 83.9–90.9%)  |                       12.2093  | 12.2% (90% CI 9.1–16.1%)     |                                 1.77386    | 1.8% (90% CI 1.0–1.9%)                 |                                  5.8131    | 5.8% (90% CI 1.5–8.9%)                 |                                 1.19803   | 1.2% (90% CI 0.4–1.7%)                |\n",
      "| 143 | SLV       | El Salvador                                          | Americas | Latin America and the Caribbean |                  64.9869    | 65.0% (90% CI 42.7–86.7%)  |                       35.0131  | 35.0% (90% CI 13.3–57.3%)    |                                24.5894     | 24.6% (90% CI 19.2–25.8%)              |                                 39.6768    | 39.7% (90% CI 13.5–70.7%)              |                                11.3121    | 11.3% (90% CI 3.4–19.8%)              |\n",
      "| 144 | SMR       | San Marino                                           | Europe   | Southern Europe                 |                  65.63      | 65.6% (90% CI 0.0–65.6%)   |                       34.37    | 34.4% (90% CI 34.4–100.0%)   |                                65.63       | 65.6% (90% CI 0.0–65.6%)               |                                  0         | 0.0% (90% CI 0.0–0.0%)                 |                                65.63      | 65.6% (90% CI 0.0–65.6%)              |\n",
      "| 145 | SOM       | Somalia                                              | Africa   | Sub-Saharan Africa              |                  77.7088    | 77.7% (90% CI 77.0–78.2%)  |                       22.2912  | 22.3% (90% CI 21.8–23.0%)    |                                 0.0570465  | 0.1% (90% CI 0.0–0.1%)                 |                                  0.899685  | 0.9% (90% CI 0.2–1.4%)                 |                                 0.0406002 | 0.0% (90% CI 0.0–0.1%)                |\n",
      "| 146 | SRB       | Serbia                                               | Europe   | Southern Europe                 |                  64.8118    | 64.8% (90% CI 44.5–81.5%)  |                       35.1882  | 35.2% (90% CI 18.5–55.5%)    |                                27.1539     | 27.2% (90% CI 21.6–29.2%)              |                                 46.1291    | 46.1% (90% CI 19.5–68.2%)              |                                11.6048    | 11.6% (90% CI 4.5–20.1%)              |\n",
      "| 147 | SSD       | South Sudan                                          | Africa   | Sub-Saharan Africa              |                  97.7347    | 97.7% (90% CI 97.3–98.1%)  |                        2.26517 | 2.3% (90% CI 1.9–2.7%)       |                                 0.350689   | 0.4% (90% CI 0.2–0.5%)                 |                                  0.614797  | 0.6% (90% CI 0.2–1.0%)                 |                                 0.196036  | 0.2% (90% CI 0.1–0.3%)                |\n",
      "| 148 | STP       | Sao Tome and Principe                                | Africa   | Sub-Saharan Africa              |                  36.995     | 37.0% (90% CI 14.4–64.1%)  |                       63.005   | 63.0% (90% CI 35.9–85.6%)    |                                12.1853     | 12.2% (90% CI 4.9–12.2%)               |                                 22.6264    | 22.6% (90% CI 1.1–55.1%)               |                                 8.59603   | 8.6% (90% CI 2.8–12.0%)               |\n",
      "| 149 | SUR       | Suriname                                             | Americas | Latin America and the Caribbean |                  87.426     | 87.4% (90% CI 59.1–93.6%)  |                       12.0162  | 12.0% (90% CI 5.8–40.3%)     |                                26.9455     | 26.9% (90% CI 22.9–27.9%)              |                                 56.4141    | 56.4% (90% CI 13.5–65.1%)              |                                 4.80492   | 4.8% (90% CI 1.7–21.7%)               |\n",
      "| 150 | SVK       | Slovakia                                             | Europe   | Eastern Europe                  |                  79.2243    | 79.2% (90% CI 56.4–93.2%)  |                       20.7756  | 20.8% (90% CI 6.8–43.6%)     |                                53.5137     | 53.5% (90% CI 44.4–55.0%)              |                                 59.1167    | 59.1% (90% CI 17.6–87.2%)              |                                19.6797    | 19.7% (90% CI 5.1–41.1%)              |\n",
      "| 151 | SVN       | Slovenia                                             | Europe   | Southern Europe                 |                  88.1472    | 88.1% (90% CI 69.9–93.9%)  |                       11.8528  | 11.9% (90% CI 6.1–30.1%)     |                                75.2045     | 75.2% (90% CI 62.5–77.8%)              |                                 68.3888    | 68.4% (90% CI 21.1–80.7%)              |                                19.6042    | 19.6% (90% CI 8.4–53.0%)              |\n",
      "| 152 | SWE       | Sweden                                               | Europe   | Northern Europe                 |                  93.095     | 93.1% (90% CI 85.0–97.5%)  |                        6.8794  | 6.9% (90% CI 2.5–15.0%)      |                                66.6769     | 66.7% (90% CI 61.1–68.2%)              |                                 52.9895    | 53.0% (90% CI 20.1–71.5%)              |                                21.9783    | 22.0% (90% CI 6.6–47.9%)              |\n",
      "| 153 | SWZ       | Eswatini                                             | Africa   | Sub-Saharan Africa              |                  85.1361    | 85.1% (90% CI 62.6–98.3%)  |                       14.8639  | 14.9% (90% CI 1.7–37.4%)     |                                 4.29906    | 4.3% (90% CI 3.7–4.3%)                 |                                 37.8897    | 37.9% (90% CI 13.6–52.2%)              |                                 1.12196   | 1.1% (90% CI 0.1–3.1%)                |\n",
      "| 154 | SYR       | Syrian Arab Republic                                 | Asia     | Western Asia                    |                  48.1336    | 48.1% (90% CI 36.9–56.6%)  |                       51.8644  | 51.9% (90% CI 43.4–63.1%)    |                                 8.84418    | 8.8% (90% CI 5.6–11.1%)                |                                 17.6956    | 17.7% (90% CI 3.7–25.9%)               |                                 5.52995   | 5.5% (90% CI 2.7–8.2%)                |\n",
      "| 155 | TCD       | Chad                                                 | Africa   | Sub-Saharan Africa              |                  94.0011    | 94.0% (90% CI 91.9–94.6%)  |                        5.99883 | 6.0% (90% CI 5.4–8.1%)       |                                 1.25297    | 1.3% (90% CI 1.1–1.4%)                 |                                  4.00895   | 4.0% (90% CI 1.5–4.7%)                 |                                 0.415066  | 0.4% (90% CI 0.2–1.0%)                |\n",
      "| 156 | TGO       | Togo                                                 | Africa   | Sub-Saharan Africa              |                  87.3138    | 87.3% (90% CI 82.5–90.7%)  |                       12.6862  | 12.7% (90% CI 9.3–17.5%)     |                                 6.99401    | 7.0% (90% CI 5.2–8.3%)                 |                                  9.83368   | 9.8% (90% CI 5.6–13.7%)                |                                 3.82998   | 3.8% (90% CI 2.1–5.7%)                |\n",
      "| 157 | THA       | Thailand                                             | Asia     | South-eastern Asia              |                  79.8584    | 79.9% (90% CI 63.5–90.4%)  |                       20.1416  | 20.1% (90% CI 9.6–36.5%)     |                                45.0751     | 45.1% (90% CI 38.9–47.6%)              |                                 43.9035    | 43.9% (90% CI 15.0–65.1%)              |                                19.2226    | 19.2% (90% CI 8.0–35.7%)              |\n",
      "| 158 | TJK       | Tajikistan                                           | Asia     | Central Asia                    |                  73.8858    | 73.9% (90% CI 52.7–83.3%)  |                       26.1142  | 26.1% (90% CI 16.7–47.3%)    |                                12.2853     | 12.3% (90% CI 9.5–14.3%)               |                                 35.4456    | 35.4% (90% CI 8.8–46.4%)               |                                 4.24214   | 4.2% (90% CI 1.2–10.5%)               |\n",
      "| 159 | TKM       | Turkmenistan                                         | Asia     | Central Asia                    |                  81.8653    | 81.9% (90% CI 75.0–84.8%)  |                       18.1347  | 18.1% (90% CI 15.2–25.0%)    |                                 2.10136    | 2.1% (90% CI 1.9–2.3%)                 |                                 10.9947    | 11.0% (90% CI 3.4–14.4%)               |                                 0.592664  | 0.6% (90% CI 0.2–1.6%)                |\n",
      "| 160 | TLS       | Timor-Leste                                          | Asia     | South-eastern Asia              |                  34.4161    | 34.4% (90% CI 33.5–36.1%)  |                       65.5839  | 65.6% (90% CI 63.9–66.5%)    |                                 0.445157   | 0.4% (90% CI 0.3–1.1%)                 |                                  0.917908  | 0.9% (90% CI 0.3–2.5%)                 |                                 0.333987  | 0.3% (90% CI 0.1–1.0%)                |\n",
      "| 161 | TTO       | Trinidad and Tobago                                  | Americas | Latin America and the Caribbean |                  54.6906    | 54.7% (90% CI 38.2–68.1%)  |                       45.3094  | 45.3% (90% CI 31.9–61.8%)    |                                27.1713     | 27.2% (90% CI 19.2–38.1%)              |                                 29.0614    | 29.1% (90% CI 4.4–44.2%)               |                                13.9997    | 14.0% (90% CI 5.6–25.1%)              |\n",
      "| 162 | TUN       | Tunisia                                              | Africa   | Northern Africa                 |                  38.6641    | 38.7% (90% CI 30.0–48.4%)  |                       61.3359  | 61.3% (90% CI 51.6–70.0%)    |                                12.9759     | 13.0% (90% CI 10.0–15.7%)              |                                 16.6569    | 16.7% (90% CI 7.6–30.6%)               |                                 7.16645   | 7.2% (90% CI 3.4–11.0%)               |\n",
      "| 163 | TUR       | Türkiye                                              | Asia     | Western Asia                    |                  57.0632    | 57.1% (90% CI 38.4–76.5%)  |                       42.9368  | 42.9% (90% CI 23.5–61.6%)    |                                23.1103     | 23.1% (90% CI 16.7–25.8%)              |                                 33.6438    | 33.6% (90% CI 10.3–58.5%)              |                                11.9361    | 11.9% (90% CI 4.7–19.4%)              |\n",
      "| 164 | TWN       | Taiwan, Province of China                            | Asia     | Eastern Asia                    |                  80.3848    | 80.4% (90% CI 66.2–93.2%)  |                       19.6152  | 19.6% (90% CI 6.8–33.8%)     |                                57.8249     | 57.8% (90% CI 48.7–58.6%)              |                                 43.889     | 43.9% (90% CI 13.4–77.2%)              |                                29.223     | 29.2% (90% CI 9.1–48.8%)              |\n",
      "| 165 | TZA       | Tanzania, United Republic of                         | Africa   | Sub-Saharan Africa              |                  87.2038    | 87.2% (90% CI 79.4–92.9%)  |                       12.7962  | 12.8% (90% CI 7.1–20.6%)     |                                13.7511     | 13.8% (90% CI 10.7–14.9%)              |                                 18.4562    | 18.5% (90% CI 8.7–27.5%)               |                                 5.51751   | 5.5% (90% CI 2.0–10.1%)               |\n",
      "| 166 | UGA       | Uganda                                               | Africa   | Sub-Saharan Africa              |                  88.9509    | 89.0% (90% CI 83.4–94.4%)  |                       11.0491  | 11.0% (90% CI 5.6–16.6%)     |                                 9.72108    | 9.7% (90% CI 7.7–10.4%)                |                                 12.6305    | 12.6% (90% CI 5.5–20.7%)               |                                 4.80138   | 4.8% (90% CI 2.0–7.7%)                |\n",
      "| 167 | UKR       | Ukraine                                              | Europe   | Eastern Europe                  |                  85.231     | 85.2% (90% CI 76.3–92.2%)  |                       14.769   | 14.8% (90% CI 7.8–23.7%)     |                                16.5159     | 16.5% (90% CI 13.8–17.4%)              |                                 21.621     | 21.6% (90% CI 8.0–31.7%)               |                                 7.82428   | 7.8% (90% CI 3.8–12.8%)               |\n",
      "| 168 | URY       | Uruguay                                              | Americas | Latin America and the Caribbean |                  43.7678    | 43.8% (90% CI 32.2–53.0%)  |                       56.1479  | 56.1% (90% CI 46.9–67.7%)    |                                36.693      | 36.7% (90% CI 27.3–43.0%)              |                                 25.747     | 25.7% (90% CI 4.9–35.8%)               |                                18.6844    | 18.7% (90% CI 9.6–33.3%)              |\n",
      "| 169 | USA       | United States of America                             | Americas | Northern America                |                  65.8544    | 65.9% (90% CI 50.0–78.3%)  |                       34.1229  | 34.1% (90% CI 21.7–50.0%)    |                                47.7247     | 47.7% (90% CI 38.5–51.6%)              |                                 38.0435    | 38.0% (90% CI 14.0–60.8%)              |                                24.5619    | 24.6% (90% CI 12.9–38.5%)             |\n",
      "| 170 | UZB       | Uzbekistan                                           | Asia     | Central Asia                    |                  71.4914    | 71.5% (90% CI 56.4–80.3%)  |                       28.5086  | 28.5% (90% CI 19.7–43.6%)    |                                16.4544     | 16.5% (90% CI 12.7–18.2%)              |                                 29.7206    | 29.7% (90% CI 10.3–41.8%)              |                                 6.33114   | 6.3% (90% CI 2.4–12.5%)               |\n",
      "| 171 | VCT       | Saint Vincent and the Grenadines                     | Americas | Latin America and the Caribbean |                  55.815     | 55.8% (90% CI 24.2–81.3%)  |                       44.185   | 44.2% (90% CI 18.7–75.8%)    |                                38.3263     | 38.3% (90% CI 6.7–38.3%)               |                                 16.1757    | 16.2% (90% CI 0.0–59.9%)               |                                31.5836    | 31.6% (90% CI 0.0–38.3%)              |\n",
      "| 172 | VEN       | Venezuela, Bolivarian Republic of                    | Americas | Latin America and the Caribbean |                  52.855     | 52.9% (90% CI 40.3–64.8%)  |                       47.1364  | 47.1% (90% CI 35.2–59.7%)    |                                14.9651     | 15.0% (90% CI 9.7–18.6%)               |                                 19.7895    | 19.8% (90% CI 7.4–33.8%)               |                                 8.79275   | 8.8% (90% CI 4.0–13.3%)               |\n",
      "| 173 | VNM       | Viet Nam                                             | Asia     | South-eastern Asia              |                  91.6807    | 91.7% (90% CI 83.7–96.7%)  |                        8.31934 | 8.3% (90% CI 3.3–16.3%)      |                                40.562      | 40.6% (90% CI 37.9–41.1%)              |                                 35.7832    | 35.8% (90% CI 19.4–51.3%)              |                                15.7424    | 15.7% (90% CI 5.4–27.3%)              |\n",
      "| 174 | VUT       | Vanuatu                                              | Oceania  | Melanesia                       |                  77.4295    | 77.4% (90% CI 62.3–94.6%)  |                       22.5705  | 22.6% (90% CI 5.4–37.7%)     |                                 4.78941    | 4.8% (90% CI 3.6–5.2%)                 |                                 20.8446    | 20.8% (90% CI 4.2–39.9%)               |                                 2.24257   | 2.2% (90% CI 0.2–4.3%)                |\n",
      "| 175 | WSM       | Samoa                                                | Oceania  | Polynesia                       |                  32.6242    | 32.6% (90% CI 15.1–56.4%)  |                       67.3758  | 67.4% (90% CI 43.6–84.9%)    |                                16.5691     | 16.6% (90% CI 1.3–26.1%)               |                                  1.31253   | 1.3% (90% CI 0.6–32.7%)                |                                14.7748    | 14.8% (90% CI 0.3–21.3%)              |\n",
      "| 176 | YEM       | Yemen                                                | Asia     | Western Asia                    |                  52.6377    | 52.6% (90% CI 51.2–54.3%)  |                       47.3544  | 47.4% (90% CI 45.7–48.8%)    |                                 0.572833   | 0.6% (90% CI 0.3–1.0%)                 |                                  2.1807    | 2.2% (90% CI 0.8–3.8%)                 |                                 0.373997  | 0.4% (90% CI 0.1–0.8%)                |\n",
      "| 177 | ZAF       | South Africa                                         | Africa   | Sub-Saharan Africa              |                  59.3501    | 59.4% (90% CI 37.3–78.9%)  |                       40.6241  | 40.6% (90% CI 21.1–62.7%)    |                                10.415      | 10.4% (90% CI 8.8–10.9%)               |                                 40.1246    | 40.1% (90% CI 14.5–62.6%)              |                                 5.02445   | 5.0% (90% CI 2.2–8.4%)                |\n",
      "| 178 | ZMB       | Zambia                                               | Africa   | Sub-Saharan Africa              |                  92.9648    | 93.0% (90% CI 90.8–96.1%)  |                        7.03523 | 7.0% (90% CI 3.9–9.2%)       |                                 5.65172    | 5.7% (90% CI 4.4–6.0%)                 |                                  3.99041   | 4.0% (90% CI 1.1–9.0%)                 |                                 4.00509   | 4.0% (90% CI 2.0–5.2%)                |\n",
      "| 179 | ZWE       | Zimbabwe                                             | Africa   | Sub-Saharan Africa              |                  88.929     | 88.9% (90% CI 85.6–93.9%)  |                       11.071   | 11.1% (90% CI 6.1–14.4%)     |                                 4.49349    | 4.5% (90% CI 3.7–4.7%)                 |                                  6.60222   | 6.6% (90% CI 3.1–12.8%)                |                                 2.91386   | 2.9% (90% CI 1.5–3.8%)                |\n"
     ]
    }
   ],
   "source": [
    "# Create formatted country results with 90% CIs\n",
    "\n",
    "# Read the CSV files\n",
    "median_df = country_medians\n",
    "p5_df = country_5th_percentiles\n",
    "p95_df = country_95th_percentiles\n",
    "output_file = '../results/country_CI_results.csv'\n",
    "\n",
    "# Function to rename columns (excluding identifiers)\n",
    "def rename_columns(df, suffix):\n",
    "    cols = df.columns.tolist()\n",
    "    rename_dict = {}\n",
    "    for col in cols:\n",
    "        if col not in ['ISOCODE', 'Entity', 'region', 'subregion']:\n",
    "            rename_dict[col] = f\"{col}_{suffix}\"\n",
    "    df = df.rename(columns=rename_dict)\n",
    "    return df\n",
    "\n",
    "# Rename columns in each DataFrame\n",
    "median_df = rename_columns(median_df, 'median')\n",
    "p5_df = rename_columns(p5_df, 'p5')\n",
    "p95_df = rename_columns(p95_df, 'p95')\n",
    "\n",
    "# Merge the DataFrames on common identifiers\n",
    "df = median_df.merge(p5_df, on=['ISOCODE', 'Entity', 'region', 'subregion'])\n",
    "df = df.merge(p95_df, on=['ISOCODE', 'Entity', 'region', 'subregion'])\n",
    "\n",
    "# List of metrics to calculate CI for\n",
    "metrics = [\n",
    "    'percent_with_water',\n",
    "    'percent_without_water',\n",
    "    'percent_piped_with_cycling_access',\n",
    "    'percent_piped_with_walking_access',\n",
    "    'percent_with_only_cycling_access',\n",
    "    # Add other metrics as needed\n",
    "]\n",
    "\n",
    "# Initialize a new DataFrame to store results\n",
    "results_df = pd.DataFrame()\n",
    "results_df['ISOCODE'] = df['ISOCODE']\n",
    "results_df['Entity'] = df['Entity']\n",
    "results_df['region'] = df['region']\n",
    "results_df['subregion'] = df['subregion']\n",
    "\n",
    "# For each metric, add median values and CI strings\n",
    "for metric in metrics:\n",
    "    median_col = metric + '_median'\n",
    "    p5_col = metric + '_p5'\n",
    "    p95_col = metric + '_p95'\n",
    "\n",
    "    # Extract the median, p5, and p95 values\n",
    "    median_values = df[median_col]\n",
    "    p5_values = df[p5_col]\n",
    "    p95_values = df[p95_col]\n",
    "\n",
    "    # Add the median values as numeric columns\n",
    "    results_df[metric + '_median'] = median_values\n",
    "\n",
    "    # Create the CI string\n",
    "    ci_strings = median_values.round(1).astype(str) + '% (90% CI ' + \\\n",
    "                 p5_values.round(1).astype(str) + '–' + \\\n",
    "                 p95_values.round(1).astype(str) + '%)'\n",
    "\n",
    "    # Add the formatted string to the results DataFrame\n",
    "    results_df[metric + '_CI'] = ci_strings\n",
    "\n",
    "print(\"COUNTRY-LEVEL STATS: \\n\")\n",
    "print(results_df.to_markdown())\n",
    "\n",
    "# Save the results to a CSV file\n",
    "if SAVE_CSVS:\n",
    "    results_df.to_csv(output_file, index=False)"
   ]
  },
  {
   "cell_type": "code",
   "execution_count": 7,
   "metadata": {},
   "outputs": [
    {
     "name": "stdout",
     "output_type": "stream",
     "text": [
      "VENEZUELA COUNTRY-LEVEL STATS: \n",
      "\n",
      "|     | Entity                            | percent_without_water_CI   |\n",
      "|----:|:----------------------------------|:---------------------------|\n",
      "| 172 | Venezuela, Bolivarian Republic of | 47.1% (90% CI 35.2–59.7%)  |\n",
      "\n",
      "VENEZUELA DISTRICT-LEVEL STATS: \n",
      "\n",
      "|      | shapeName              |   percent_without_water |\n",
      "|-----:|:-----------------------|------------------------:|\n",
      "|  154 | Anzoátegui             |                 56.4799 |\n",
      "|  158 | Apure                  |                 26.1928 |\n",
      "|  163 | Aragua                 |                 44.0315 |\n",
      "|  280 | Barinas                |                 27.0516 |\n",
      "|  477 | Carabobo               |                 60.0673 |\n",
      "|  586 | Cojedes                |                 44.2891 |\n",
      "|  661 | Delta Amacuro          |                 30.7986 |\n",
      "|  677 | Dependencias Federales |                 71.6667 |\n",
      "|  694 | Distrito Capital       |                 85.1305 |\n",
      "|  795 | Falcón                 |                 52.3455 |\n",
      "|  926 | Guárico                |                 47.3071 |\n",
      "| 1310 | La Guaira              |                 66.4678 |\n",
      "| 1338 | Lara                   |                 50.6005 |\n",
      "| 1554 | Miranda                |                 52.9727 |\n",
      "| 1570 | Monagas                |                 40.8979 |\n",
      "| 1621 | Mérida                 |                 22.9701 |\n",
      "| 1793 | Nueva Esparta          |                 78.1373 |\n",
      "| 1970 | Portuguesa             |                 34.2004 |\n",
      "| 2569 | Trujillo               |                 18.7302 |\n",
      "| 2590 | Táchira                |                 29.8101 |\n",
      "| 2773 | Yaracuy                |                 39.9248 |\n",
      "| 2823 | Zulia                  |                 44.8375 |\n"
     ]
    }
   ],
   "source": [
    "# For Venezuela specifically:\n",
    "\n",
    "print(\"VENEZUELA COUNTRY-LEVEL STATS: \\n\")\n",
    "print(results_df[results_df[\"ISOCODE\"] == \"VEN\"][[\"Entity\", \"percent_without_water_CI\"]].to_markdown())\n",
    "\n",
    "print(\"\\nVENEZUELA DISTRICT-LEVEL STATS: \\n\")\n",
    "district_medians_venezuela = district_medians[district_medians[\"ISOCODE\"] == \"VEN\"]\n",
    "print(district_medians_venezuela[[\"shapeName\", \"percent_without_water\"]].to_markdown())"
   ]
  },
  {
   "cell_type": "code",
   "execution_count": 8,
   "metadata": {},
   "outputs": [
    {
     "name": "stdout",
     "output_type": "stream",
     "text": [
      "TOP 10 COUNTRIES: \n",
      "\n",
      "|     | Entity               |   percent_without_water |\n",
      "|----:|:---------------------|------------------------:|\n",
      "|  15 | Bahrain              |                100      |\n",
      "| 134 | Qatar                |                 99.9992 |\n",
      "|   3 | United Arab Emirates |                 99.9348 |\n",
      "|  65 | Greenland            |                 87.1318 |\n",
      "| 138 | Saudi Arabia         |                 84.0279 |\n",
      "| 123 | Oman                 |                 81.0254 |\n",
      "|  78 | Israel               |                 78.7744 |\n",
      "|  24 | Botswana             |                 73.7165 |\n",
      "| 115 | Namibia              |                 73.0936 |\n",
      "|  63 | Greece               |                 69.3419 |\n",
      "\n",
      "BOTTOM 10 COUNTRIES: \n",
      "\n",
      "|     | Entity                           |   percent_without_water |\n",
      "|----:|:---------------------------------|------------------------:|\n",
      "|  91 | Liberia                          |                 1.57851 |\n",
      "| 148 | South Sudan                      |                 2.26517 |\n",
      "| 129 | Papua New Guinea                 |                 2.69386 |\n",
      "|  25 | Central African Republic         |                 3.30735 |\n",
      "|  89 | Lao People's Democratic Republic |                 4.18464 |\n",
      "| 117 | Nigeria                          |                 5.26635 |\n",
      "| 109 | Mongolia                         |                 5.2981  |\n",
      "| 119 | Netherlands, Kingdom of the      |                 5.37091 |\n",
      "| 156 | Chad                             |                 5.99883 |\n",
      "|  58 | Guinea                           |                 6.50438 |\n"
     ]
    }
   ],
   "source": [
    "# Make a single table with the 10 countries with the highest and lowest percentage of people without access to water\n",
    "country_medians_simple = country_medians[[\"Entity\", \"percent_without_water\"]].copy()\n",
    "top10 = country_medians_simple.nlargest(10, \"percent_without_water\")\n",
    "bottom10 = country_medians_simple.nsmallest(10, \"percent_without_water\")\n",
    "top_bottom = pd.concat([top10, bottom10])\n",
    "\n",
    "print(\"TOP 10 COUNTRIES: \\n\")\n",
    "print(top10.to_markdown())\n",
    "print(\"\\nBOTTOM 10 COUNTRIES: \\n\")\n",
    "print(bottom10.to_markdown())\n",
    "\n",
    "if SAVE_CSVS == True:\n",
    "    top_bottom.to_csv(\"../results/top_bottom_10_countries.csv\", index=False)"
   ]
  },
  {
   "cell_type": "markdown",
   "metadata": {},
   "source": [
    "<div class=\"alert alert-info\">\n",
    "<h3> <b>3. Cycling vs walking breakdown of results </b> </h3>\n",
    "<a id=\"cycling_walking\"></a>\n",
    "Looks at how far people can walk or cycle in the model and who maintains water access by walking, cycling, or using unpiped sources.\n",
    "</div>"
   ]
  },
  {
   "cell_type": "code",
   "execution_count": 9,
   "metadata": {},
   "outputs": [
    {
     "name": "stdout",
     "output_type": "stream",
     "text": [
      "WALKING AND CYCLING DISTANCES: \n",
      "\n",
      "Global median walking distance: 3.7 (1.6–6.0) km\n",
      "Global median cycling distance: 12.5 (8.1–16.9) km\n",
      "Ratio between median cycling and walking distances: 3.4\n"
     ]
    }
   ],
   "source": [
    "med_walking = global_median[\"weighted_med_walking\"][0]\n",
    "p5_walking = global_5th_percentile[\"weighted_med_walking\"][0]\n",
    "p95_walking = global_95th_percentile[\"weighted_med_walking\"][0]\n",
    "\n",
    "med_cycling = global_median[\"weighted_med_cycling\"][0]\n",
    "p5_cycling = global_5th_percentile[\"weighted_med_cycling\"][0]\n",
    "p95_cycling = global_95th_percentile[\"weighted_med_cycling\"][0]\n",
    "\n",
    "print(\"WALKING AND CYCLING DISTANCES: \\n\")\n",
    "\n",
    "print(f\"Global median walking distance: {round(med_walking, 1)} ({round(p5_walking, 1)}–{round(p95_walking, 1)}) km\")\n",
    "print(f\"Global median cycling distance: {round(med_cycling, 1)} ({round(p5_cycling, 1)}–{round(p95_cycling, 1)}) km\")\n",
    "print(f\"Ratio between median cycling and walking distances: {round(med_cycling / med_walking, 1)}\")\n"
   ]
  },
  {
   "cell_type": "code",
   "execution_count": 10,
   "metadata": {},
   "outputs": [
    {
     "name": "stdout",
     "output_type": "stream",
     "text": [
      "REGIONAL BREAKDOWN OF WATER ACCESS: \n",
      "\n",
      "| region   |   no_access |   walk_access |   bike_access |   unpiped |   undefined |\n",
      "|:---------|------------:|--------------:|--------------:|----------:|------------:|\n",
      "| Oceania  |     17.9668 |       42.982  |      14.1114  |  23.3222  |   1.61761   |\n",
      "| Asia     |     20.6295 |       28.3272 |      12.5456  |  38.4502  |   0.0475516 |\n",
      "| Africa   |     22.3899 |       14.1089 |       3.06456 |  60.3627  |   0.0739308 |\n",
      "| Global   |     23.4902 |       28.4446 |      12.3594  |  35.5863  |   0.119474  |\n",
      "| Europe   |     23.6186 |       48.5321 |      19.5836  |   8.59991 |  -0.334225  |\n",
      "| Americas |     37.8675 |       33.2788 |      18.6882  |   9.69771 |   0.467739  |\n"
     ]
    }
   ],
   "source": [
    "medians = country_medians_all.copy()\n",
    "medians.loc[medians['Entity'] == 'Global', 'region'] = 'Global'\n",
    "\n",
    "# calculate unpiped pop by region\n",
    "medians[\"population_unpiped\"] = medians[\"country_pop_with_water\"] - medians[\"population_piped_with_access\"]\n",
    "\n",
    "# calculate global pop unpiped as sum of all rows except global\n",
    "medians.loc[medians['Entity'] == 'Global', 'population_unpiped'] = medians.loc[medians['Entity'] != 'Global', 'population_unpiped'].sum()\n",
    "\n",
    "# calculate region data\n",
    "medians_unpiped = medians.groupby('region').apply(lambda x: x['population_unpiped'].sum() / x['country_pop_raw'].sum() * 100)\n",
    "medians_no_access = medians.groupby('region').apply(lambda x: x['country_pop_without_water'].sum() / x['country_pop_raw'].sum() * 100)\n",
    "medians_walk_access = medians.groupby('region').apply(lambda x: x['population_piped_with_walking_access'].sum() / x['country_pop_raw'].sum() * 100)\n",
    "medians_bike_access = medians.groupby('region').apply(lambda x: x['population_piped_with_only_cycling_access'].sum() / x['country_pop_raw'].sum() * 100)\n",
    "medians_undefined = 100 - medians_no_access - medians_walk_access - medians_bike_access - medians_unpiped\n",
    "\n",
    "medians_regions = pd.DataFrame(\n",
    "    {\n",
    "        'region': medians_no_access.index,\n",
    "        'no_access': medians_no_access.values,\n",
    "        'walk_access': medians_walk_access.values,\n",
    "        'bike_access': medians_bike_access.values,\n",
    "        'unpiped': medians_unpiped.values,\n",
    "        'undefined': medians_undefined.values,\n",
    "    }\n",
    ")\n",
    "\n",
    "medians_regions.set_index('region', inplace=True)\n",
    "order = ['Oceania', 'Asia', 'Africa', 'Global', 'Europe', 'Americas']\n",
    "medians_regions = medians_regions.reindex(order)\n",
    "\n",
    "print(\"REGIONAL BREAKDOWN OF WATER ACCESS: \\n\")\n",
    "print(medians_regions.to_markdown())\n",
    "\n",
    "if SAVE_CSVS:\n",
    "    medians_regions.to_csv(\"../results/median_access_breakdown_regions.csv\", index=True)"
   ]
  },
  {
   "cell_type": "markdown",
   "metadata": {},
   "source": [
    "<div class=\"alert alert-info\">\n",
    "<h3> <b>4. Further investigations </b> </h3>\n",
    "<a id=\"further\"></a>\n",
    "These analyses are not explicitly included in the paper, but are useful additional context. \n",
    " <ul>\n",
    "  <li>Monte Carlo distributions of access types</li>\n",
    "  <li>Model-calculated piped water rates vs national data</li>\n",
    "  <li>Country populations without water rates vs piped water rates</li>\n",
    "</ul> \n",
    "\n",
    "</div>\n"
   ]
  },
  {
   "cell_type": "code",
   "execution_count": 11,
   "metadata": {},
   "outputs": [
    {
     "name": "stdout",
     "output_type": "stream",
     "text": [
      "GLOBAL in first dataframe: False\n"
     ]
    },
    {
     "data": {
      "image/png": "[encoded data removed]",
      "text/plain": [
       "<Figure size 1200x1200 with 4 Axes>"
      ]
     },
     "metadata": {},
     "output_type": "display_data"
    }
   ],
   "source": [
    "# Load pickled simulation results\n",
    "simulation_results = pd.read_pickle(\"../results/countries_simulation_results.pkl\")\n",
    "\n",
    "# Drop GLOBAL from simulation results\n",
    "simulation_results = [df[df.index != 'GLOBAL'] for df in simulation_results]\n",
    "\n",
    "# Check that GLOBAL is removed from the first dataframe\n",
    "print(\"GLOBAL in first dataframe:\", 'GLOBAL' in simulation_results[0].index)\n",
    "\n",
    "# Calculate country_pop_piped for each dataframe in simulation_results\n",
    "for df in simulation_results:\n",
    "    df[\"country_pop_unpiped\"] = df[\"country_pop_raw\"] * (100-df[\"NATPiped\"]) / 100\n",
    "\n",
    "# Calculate global mean percentage for each access type for each simulation using list comprehension\n",
    "global_access = [df[\"country_pop_with_water\"].sum() / df[\"country_pop_raw\"].sum() for df in simulation_results]\n",
    "global_cycling_access = [df[\"population_piped_with_cycling_access\"].sum() / df[\"country_pop_raw\"].sum() for df in simulation_results]\n",
    "global_walking_access = [df[\"population_piped_with_walking_access\"].sum() / df[\"country_pop_raw\"].sum() for df in simulation_results]\n",
    "global_only_cycling_access = [df[\"population_piped_with_only_cycling_access\"].sum() / df[\"country_pop_raw\"].sum() for df in simulation_results]\n",
    "\n",
    "# Create subplots\n",
    "fig, axs = plt.subplots(2, 2, figsize=(12, 12))\n",
    "\n",
    "# Flatten axs for easy iteration\n",
    "axs = axs.flatten()\n",
    "\n",
    "# List of access types\n",
    "access_types = [global_access, global_walking_access, global_cycling_access, global_only_cycling_access]\n",
    "\n",
    "# List of titles\n",
    "titles = [\"(a) Global Total Access\", \"(b) Global Walking Access\", \"(c) Global Cycling Access\", \"(d) Global Only Cycling Access\"]\n",
    "\n",
    "# Plot histogram of results for each access type\n",
    "for i, ax in enumerate(axs):\n",
    "    # Calculate median, 5th percentile, and 95th percentile\n",
    "    median = np.median(access_types[i])\n",
    "    p5 = np.percentile(access_types[i], 5)\n",
    "    p95 = np.percentile(access_types[i], 95)\n",
    "\n",
    "    ax.hist(access_types[i], bins=100, alpha=0.7, color='c')\n",
    "    ax.set_xlim(0, 1)\n",
    "\n",
    "    # Add vertical lines for median, 5th percentile, and 95th percentile\n",
    "    ax.axvline(median, color='red', linestyle='dashed', linewidth=1)\n",
    "    ax.axvline(p5, color='blue', linestyle='dashed', linewidth=1)\n",
    "    ax.axvline(p95, color='blue', linestyle='dashed', linewidth=1)\n",
    "\n",
    "    # Set title and labels\n",
    "    ax.set_title(f\"{titles[i]}\", fontsize=14)\n",
    "\n",
    "# Set common x-axis label\n",
    "fig.text(0.5, 0.0, 'Percentage Access', ha='center', va='center', fontsize=14)\n",
    "fig.text(0.0, 0.5, 'Frequency', ha='center', va='center', rotation='vertical', fontsize=14)\n",
    "\n",
    "plt.tight_layout()\n",
    "if SAVE_FIGURES == True:\n",
    "    plt.savefig(\"../results/mc_distribution_total_access.png\")\n",
    "plt.show()"
   ]
  },
  {
   "cell_type": "code",
   "execution_count": 12,
   "metadata": {},
   "outputs": [
    {
     "data": {
      "application/vnd.plotly.v1+json": {
       "config": {
        "plotlyServerURL": "https://plot.ly"
       },
       "data": [
        {
         "customdata": [
          [
           "Afghanistan"
          ],
          [
           "United Arab Emirates"
          ],
          [
           "Armenia"
          ],
          [
           "Azerbaijan"
          ],
          [
           "Bangladesh"
          ],
          [
           "Bahrain"
          ],
          [
           "Brunei Darussalam"
          ],
          [
           "Bhutan"
          ],
          [
           "China"
          ],
          [
           "Cyprus"
          ],
          [
           "Georgia"
          ],
          [
           "Indonesia"
          ],
          [
           "India"
          ],
          [
           "Iran, Islamic Republic of"
          ],
          [
           "Iraq"
          ],
          [
           "Israel"
          ],
          [
           "Jordan"
          ],
          [
           "Japan"
          ],
          [
           "Kazakhstan"
          ],
          [
           "Kyrgyzstan"
          ],
          [
           "Cambodia"
          ],
          [
           "Korea, Republic of"
          ],
          [
           "Lao People's Democratic Republic"
          ],
          [
           "Lebanon"
          ],
          [
           "Sri Lanka"
          ],
          [
           "Myanmar"
          ],
          [
           "Mongolia"
          ],
          [
           "Malaysia"
          ],
          [
           "Nepal"
          ],
          [
           "Oman"
          ],
          [
           "Pakistan"
          ],
          [
           "Philippines"
          ],
          [
           "Korea, Democratic People's Republic of"
          ],
          [
           "Qatar"
          ],
          [
           "Saudi Arabia"
          ],
          [
           "Singapore"
          ],
          [
           "Syrian Arab Republic"
          ],
          [
           "Thailand"
          ],
          [
           "Tajikistan"
          ],
          [
           "Turkmenistan"
          ],
          [
           "Timor-Leste"
          ],
          [
           "Türkiye"
          ],
          [
           "Taiwan, Province of China"
          ],
          [
           "Uzbekistan"
          ],
          [
           "Viet Nam"
          ],
          [
           "Yemen"
          ]
         ],
         "hovertemplate": "region=Asia<br>NATPiped=%{x}<br>piped_calculated=%{y}<br>Entity=%{customdata[0]}<extra></extra>",
         "legendgroup": "Asia",
         "marker": {
          "color": "#636efa",
          "symbol": "circle"
         },
         "mode": "markers",
         "name": "Asia",
         "orientation": "v",
         "showlegend": true,
         "type": "scatter",
         "x": [
          23.75,
          100,
          100,
          93.98,
          15,
          100,
          100,
          100,
          86.08,
          100,
          84.60000000000001,
          23.28,
          44.88,
          99.31,
          83.36,
          100,
          86.44000000000001,
          98,
          81.62,
          93.7,
          34.25,
          100,
          32.239999999999995,
          92.175,
          52.650000000000006,
          33.68,
          36.98,
          96.26,
          50.42,
          95.44,
          25.36,
          66.44,
          65.12,
          100,
          89.94999999999999,
          100,
          79.55000000000001,
          86.41999999999999,
          65.52,
          54.86,
          71.76,
          94.0175,
          94.91,
          72.5,
          52.45,
          56.870000000000005
         ],
         "xaxis": "x",
         "y": [
          21.62504146175778,
          99.99999999999999,
          99.99882688031316,
          90.30829056401357,
          27.405526408449905,
          100,
          99.99265732586453,
          100,
          82.61580662358375,
          100.00000000000001,
          78.13624295794929,
          20.961655884003925,
          47.65949322828601,
          97.27169206621517,
          75.38966437587939,
          100,
          82.91808818836864,
          89.27019112564568,
          63.823975373201435,
          92.04616134563642,
          33.589488316223665,
          100,
          19.69512980996796,
          91.29426353993843,
          70.11952495084874,
          26.711745329893496,
          17.08892909662759,
          90.28244837721039,
          51.07860049142542,
          85.62259363605531,
          26.380563872873932,
          69.80123643458668,
          52.95749642804125,
          99.99916151117996,
          84.66978715457044,
          100,
          74.41388176066086,
          83.67678552831691,
          65.1591440699474,
          29.89162665225558,
          67.03592278787859,
          88.48098551272207,
          93.15496143914713,
          64.7721369781931,
          60.0485728770192,
          49.92497430593312
         ],
         "yaxis": "y"
        },
        {
         "customdata": [
          [
           "Angola"
          ],
          [
           "Burundi"
          ],
          [
           "Benin"
          ],
          [
           "Burkina Faso"
          ],
          [
           "Botswana"
          ],
          [
           "Central African Republic"
          ],
          [
           "Côte d'Ivoire"
          ],
          [
           "Cameroon"
          ],
          [
           "Congo, Democratic Republic of the"
          ],
          [
           "Congo"
          ],
          [
           "Djibouti"
          ],
          [
           "Algeria"
          ],
          [
           "Egypt"
          ],
          [
           "Eritrea"
          ],
          [
           "Western Sahara"
          ],
          [
           "Ethiopia"
          ],
          [
           "Gabon"
          ],
          [
           "Ghana"
          ],
          [
           "Guinea"
          ],
          [
           "Gambia"
          ],
          [
           "Guinea-Bissau"
          ],
          [
           "Equatorial Guinea"
          ],
          [
           "Kenya"
          ],
          [
           "Liberia"
          ],
          [
           "Libya"
          ],
          [
           "Lesotho"
          ],
          [
           "Morocco"
          ],
          [
           "Madagascar"
          ],
          [
           "Mali"
          ],
          [
           "Mozambique"
          ],
          [
           "Mauritania"
          ],
          [
           "Mauritius"
          ],
          [
           "Malawi"
          ],
          [
           "Namibia"
          ],
          [
           "Niger"
          ],
          [
           "Nigeria"
          ],
          [
           "Rwanda"
          ],
          [
           "Sudan"
          ],
          [
           "Senegal"
          ],
          [
           "Sierra Leone"
          ],
          [
           "Somalia"
          ],
          [
           "South Sudan"
          ],
          [
           "Sao Tome and Principe"
          ],
          [
           "Eswatini"
          ],
          [
           "Chad"
          ],
          [
           "Togo"
          ],
          [
           "Tunisia"
          ],
          [
           "Tanzania, United Republic of"
          ],
          [
           "Uganda"
          ],
          [
           "South Africa"
          ],
          [
           "Zambia"
          ],
          [
           "Zimbabwe"
          ]
         ],
         "hovertemplate": "region=Africa<br>NATPiped=%{x}<br>piped_calculated=%{y}<br>Entity=%{customdata[0]}<extra></extra>",
         "legendgroup": "Africa",
         "marker": {
          "color": "#EF553B",
          "symbol": "circle"
         },
         "mode": "markers",
         "name": "Africa",
         "orientation": "v",
         "showlegend": true,
         "type": "scatter",
         "x": [
          42.68,
          38.54,
          39,
          31.76,
          91.4,
          13.33,
          48.61,
          41.78,
          35.73,
          55.2,
          83.72,
          71.25,
          99,
          51.92,
          77.54933333333332,
          44.19,
          88.24000000000001,
          57.01,
          22.82,
          79.32,
          47.75,
          40.72,
          33.02,
          5.3,
          77.08500000000001,
          72.1,
          79.65,
          36,
          52.2,
          41.66,
          61.24,
          100,
          20.42,
          83.66,
          41.54,
          12.24,
          45.92,
          59.6,
          77.28999999999999,
          20.92,
          49.32000000000001,
          4.470000000000001,
          96.88,
          62,
          16.6,
          30.680000000000003,
          93.3,
          40.95,
          23.14,
          90.32,
          34.44,
          26.92
         ],
         "xaxis": "x",
         "y": [
          27.077114025320448,
          69.32835349278031,
          34.32819305850498,
          22.174366170552794,
          78.78096795197919,
          5.364502023677781,
          33.37276624660432,
          23.012708935593782,
          15.731224859946794,
          17.31278076383825,
          58.851218622840584,
          64.64092591385419,
          98.9999082622566,
          41.23608307266116,
          51.449327448498856,
          42.86662229403445,
          47.158315564895496,
          44.82790564921687,
          12.918779311149226,
          72.5384145245886,
          34.742159612580394,
          24.082008076171867,
          42.157406890089455,
          1.7510507028301232,
          56.46498567356595,
          69.15473715082649,
          66.91584155650257,
          25.879987229347226,
          34.365381807620444,
          27.11693824450709,
          49.740193247730176,
          99.99999999999999,
          34.99668363108733,
          78.20382771335026,
          36.356197846422695,
          10.684681464212666,
          67.06862885304614,
          49.14258365991954,
          70.40662479020445,
          19.038052698219616,
          23.22660034043183,
          3.072570581340123,
          92.49743969811422,
          54.00835245216523,
          10.37971953371174,
          26.43767353648459,
          86.94724381338041,
          36.90699372256497,
          28.598541457593555,
          85.46653757009577,
          14.982004557634387,
          20.65191179331978
         ],
         "yaxis": "y"
        },
        {
         "customdata": [
          [
           "Albania"
          ],
          [
           "Austria"
          ],
          [
           "Belgium"
          ],
          [
           "Bulgaria"
          ],
          [
           "Bosnia and Herzegovina"
          ],
          [
           "Belarus"
          ],
          [
           "Switzerland"
          ],
          [
           "Czechia"
          ],
          [
           "Germany"
          ],
          [
           "Denmark"
          ],
          [
           "Spain"
          ],
          [
           "Estonia"
          ],
          [
           "Finland"
          ],
          [
           "France"
          ],
          [
           "United Kingdom of Great Britain and Northern Ireland"
          ],
          [
           "Greece"
          ],
          [
           "Croatia"
          ],
          [
           "Hungary"
          ],
          [
           "Ireland"
          ],
          [
           "Iceland"
          ],
          [
           "Italy"
          ],
          [
           "Liechtenstein"
          ],
          [
           "Lithuania"
          ],
          [
           "Luxembourg"
          ],
          [
           "Latvia"
          ],
          [
           "Moldova, Republic of"
          ],
          [
           "North Macedonia"
          ],
          [
           "Malta"
          ],
          [
           "Montenegro"
          ],
          [
           "Netherlands, Kingdom of the"
          ],
          [
           "Norway"
          ],
          [
           "Poland"
          ],
          [
           "Portugal"
          ],
          [
           "Romania"
          ],
          [
           "Russian Federation"
          ],
          [
           "San Marino"
          ],
          [
           "Serbia"
          ],
          [
           "Slovakia"
          ],
          [
           "Slovenia"
          ],
          [
           "Sweden"
          ],
          [
           "Ukraine"
          ]
         ],
         "hovertemplate": "region=Europe<br>NATPiped=%{x}<br>piped_calculated=%{y}<br>Entity=%{customdata[0]}<extra></extra>",
         "legendgroup": "Europe",
         "marker": {
          "color": "#00cc96",
          "symbol": "circle"
         },
         "mode": "markers",
         "name": "Europe",
         "orientation": "v",
         "showlegend": true,
         "type": "scatter",
         "x": [
          81.12,
          99.705,
          100,
          99.28,
          95.5,
          97.8,
          100,
          100,
          100,
          100,
          100,
          100,
          100,
          100,
          100,
          100,
          94.535,
          100,
          95.72,
          100,
          100,
          100,
          95.84,
          99.76,
          94.9,
          76.33,
          92.03,
          100,
          89.28,
          100,
          100,
          90.4,
          98.68,
          64.7,
          94,
          100,
          94.99,
          98.38,
          100,
          87.55999999999999,
          62.5
         ],
         "xaxis": "x",
         "y": [
          77.16923711072499,
          99.85744266636372,
          99.99999999999999,
          97.52704138170793,
          93.58947098709324,
          92.32555696796047,
          100,
          99.99993155246426,
          99.99999999999999,
          100,
          100.00000000000001,
          99.98397848477047,
          99.91517815183651,
          100,
          99.9997469847074,
          99.99971685647728,
          91.24259941632828,
          100,
          96.32966720043837,
          98.6575862976763,
          99.99857972904408,
          100.00000000000001,
          89.28985273356795,
          97.64740752045483,
          90.72586646911607,
          66.41818930122253,
          83.64296070305453,
          100,
          75.7370631129914,
          99.99999999999999,
          100.00000000000001,
          86.41922668520724,
          97.93281109544046,
          42.645106787694516,
          88.45908896398095,
          100,
          93.04266268346124,
          99.47284396766597,
          100.00000000000001,
          81.07868212691567,
          43.637929398728865
         ],
         "yaxis": "y"
        },
        {
         "customdata": [
          [
           "Argentina"
          ],
          [
           "Bahamas"
          ],
          [
           "Belize"
          ],
          [
           "Bolivia, Plurinational State of"
          ],
          [
           "Brazil"
          ],
          [
           "Canada"
          ],
          [
           "Chile"
          ],
          [
           "Colombia"
          ],
          [
           "Costa Rica"
          ],
          [
           "Cuba"
          ],
          [
           "Dominican Republic"
          ],
          [
           "Ecuador"
          ],
          [
           "Grenada"
          ],
          [
           "Greenland"
          ],
          [
           "Guatemala"
          ],
          [
           "Guyana"
          ],
          [
           "Honduras"
          ],
          [
           "Haiti"
          ],
          [
           "Jamaica"
          ],
          [
           "Saint Kitts and Nevis"
          ],
          [
           "Saint Lucia"
          ],
          [
           "Mexico"
          ],
          [
           "Nicaragua"
          ],
          [
           "Panama"
          ],
          [
           "Peru"
          ],
          [
           "Paraguay"
          ],
          [
           "El Salvador"
          ],
          [
           "Suriname"
          ],
          [
           "Trinidad and Tobago"
          ],
          [
           "Uruguay"
          ],
          [
           "United States of America"
          ],
          [
           "Saint Vincent and the Grenadines"
          ],
          [
           "Venezuela, Bolivarian Republic of"
          ]
         ],
         "hovertemplate": "region=Americas<br>NATPiped=%{x}<br>piped_calculated=%{y}<br>Entity=%{customdata[0]}<extra></extra>",
         "legendgroup": "Americas",
         "marker": {
          "color": "#ab63fa",
          "symbol": "circle"
         },
         "mode": "markers",
         "name": "Americas",
         "orientation": "v",
         "showlegend": true,
         "type": "scatter",
         "x": [
          98.56,
          91.76615384615386,
          86.82,
          67.15,
          98.8,
          100,
          100,
          88.7,
          100,
          80.1,
          80.28,
          91.25,
          87.71692307692308,
          100,
          77.72,
          70.13,
          92,
          18.69,
          83.83,
          87.28615384615384,
          96.38,
          98.48,
          69.58,
          93.42,
          91.85,
          100,
          93,
          80.5,
          89.18153846153847,
          100,
          99.15,
          93.68,
          90.44
         ],
         "xaxis": "x",
         "y": [
          87.10177884446392,
          88.98136444935906,
          79.17300626003964,
          29.785251092265277,
          94.80922682663163,
          99.87934137008885,
          99.97931137243754,
          65.67404068007471,
          99.99999999999999,
          63.68787803775798,
          73.17314711629419,
          81.29746854291497,
          91.10314680111378,
          99.91544360279578,
          72.35181665190999,
          73.33531937880824,
          87.26745571876546,
          20.281926489750692,
          75.3548554181956,
          88.20972919971292,
          96.37827319360642,
          96.1581637366413,
          43.48012721696358,
          86.2207605520912,
          85.32391925211738,
          99.96873605388322,
          87.69798247646544,
          73.4569037521017,
          86.95911602614717,
          99.91574926680815,
          97.76987055286362,
          91.9442638872888,
          76.07546804334068
         ],
         "yaxis": "y"
        },
        {
         "customdata": [
          [
           "Australia"
          ],
          [
           "Fiji"
          ],
          [
           "New Zealand"
          ],
          [
           "Palau"
          ],
          [
           "Papua New Guinea"
          ],
          [
           "Solomon Islands"
          ],
          [
           "Vanuatu"
          ],
          [
           "Samoa"
          ]
         ],
         "hovertemplate": "region=Oceania<br>NATPiped=%{x}<br>piped_calculated=%{y}<br>Entity=%{customdata[0]}<extra></extra>",
         "legendgroup": "Oceania",
         "marker": {
          "color": "#FFA15A",
          "symbol": "circle"
         },
         "mode": "markers",
         "name": "Oceania",
         "orientation": "v",
         "showlegend": true,
         "type": "scatter",
         "x": [
          98.18,
          89.18,
          100,
          85.58,
          16.02,
          46.58,
          49.88,
          88.25999999999999
         ],
         "xaxis": "x",
         "y": [
          95.29363572988005,
          86.85903156924519,
          99.92246437974146,
          29.000000000000007,
          12.726416020174865,
          48.078287828096464,
          45.7184480640727,
          87
         ],
         "yaxis": "y"
        }
       ],
       "layout": {
        "height": 800,
        "legend": {
         "title": {
          "text": "region"
         },
         "tracegroupgap": 0
        },
        "template": {
         "data": {
          "bar": [
           {
            "error_x": {
             "color": "#2a3f5f"
            },
            "error_y": {
             "color": "#2a3f5f"
            },
            "marker": {
             "line": {
              "color": "#E5ECF6",
              "width": 0.5
             },
             "pattern": {
              "fillmode": "overlay",
              "size": 10,
              "solidity": 0.2
             }
            },
            "type": "bar"
           }
          ],
          "barpolar": [
           {
            "marker": {
             "line": {
              "color": "#E5ECF6",
              "width": 0.5
             },
             "pattern": {
              "fillmode": "overlay",
              "size": 10,
              "solidity": 0.2
             }
            },
            "type": "barpolar"
           }
          ],
          "carpet": [
           {
            "aaxis": {
             "endlinecolor": "#2a3f5f",
             "gridcolor": "white",
             "linecolor": "white",
             "minorgridcolor": "white",
             "startlinecolor": "#2a3f5f"
            },
            "baxis": {
             "endlinecolor": "#2a3f5f",
             "gridcolor": "white",
             "linecolor": "white",
             "minorgridcolor": "white",
             "startlinecolor": "#2a3f5f"
            },
            "type": "carpet"
           }
          ],
          "choropleth": [
           {
            "colorbar": {
             "outlinewidth": 0,
             "ticks": ""
            },
            "type": "choropleth"
           }
          ],
          "contour": [
           {
            "colorbar": {
             "outlinewidth": 0,
             "ticks": ""
            },
            "colorscale": [
             [
              0,
              "#0d0887"
             ],
             [
              0.1111111111111111,
              "#46039f"
             ],
             [
              0.2222222222222222,
              "#7201a8"
             ],
             [
              0.3333333333333333,
              "#9c179e"
             ],
             [
              0.4444444444444444,
              "#bd3786"
             ],
             [
              0.5555555555555556,
              "#d8576b"
             ],
             [
              0.6666666666666666,
              "#ed7953"
             ],
             [
              0.7777777777777778,
              "#fb9f3a"
             ],
             [
              0.8888888888888888,
              "#fdca26"
             ],
             [
              1,
              "#f0f921"
             ]
            ],
            "type": "contour"
           }
          ],
          "contourcarpet": [
           {
            "colorbar": {
             "outlinewidth": 0,
             "ticks": ""
            },
            "type": "contourcarpet"
           }
          ],
          "heatmap": [
           {
            "colorbar": {
             "outlinewidth": 0,
             "ticks": ""
            },
            "colorscale": [
             [
              0,
              "#0d0887"
             ],
             [
              0.1111111111111111,
              "#46039f"
             ],
             [
              0.2222222222222222,
              "#7201a8"
             ],
             [
              0.3333333333333333,
              "#9c179e"
             ],
             [
              0.4444444444444444,
              "#bd3786"
             ],
             [
              0.5555555555555556,
              "#d8576b"
             ],
             [
              0.6666666666666666,
              "#ed7953"
             ],
             [
              0.7777777777777778,
              "#fb9f3a"
             ],
             [
              0.8888888888888888,
              "#fdca26"
             ],
             [
              1,
              "#f0f921"
             ]
            ],
            "type": "heatmap"
           }
          ],
          "heatmapgl": [
           {
            "colorbar": {
             "outlinewidth": 0,
             "ticks": ""
            },
            "colorscale": [
             [
              0,
              "#0d0887"
             ],
             [
              0.1111111111111111,
              "#46039f"
             ],
             [
              0.2222222222222222,
              "#7201a8"
             ],
             [
              0.3333333333333333,
              "#9c179e"
             ],
             [
              0.4444444444444444,
              "#bd3786"
             ],
             [
              0.5555555555555556,
              "#d8576b"
             ],
             [
              0.6666666666666666,
              "#ed7953"
             ],
             [
              0.7777777777777778,
              "#fb9f3a"
             ],
             [
              0.8888888888888888,
              "#fdca26"
             ],
             [
              1,
              "#f0f921"
             ]
            ],
            "type": "heatmapgl"
           }
          ],
          "histogram": [
           {
            "marker": {
             "pattern": {
              "fillmode": "overlay",
              "size": 10,
              "solidity": 0.2
             }
            },
            "type": "histogram"
           }
          ],
          "histogram2d": [
           {
            "colorbar": {
             "outlinewidth": 0,
             "ticks": ""
            },
            "colorscale": [
             [
              0,
              "#0d0887"
             ],
             [
              0.1111111111111111,
              "#46039f"
             ],
             [
              0.2222222222222222,
              "#7201a8"
             ],
             [
              0.3333333333333333,
              "#9c179e"
             ],
             [
              0.4444444444444444,
              "#bd3786"
             ],
             [
              0.5555555555555556,
              "#d8576b"
             ],
             [
              0.6666666666666666,
              "#ed7953"
             ],
             [
              0.7777777777777778,
              "#fb9f3a"
             ],
             [
              0.8888888888888888,
              "#fdca26"
             ],
             [
              1,
              "#f0f921"
             ]
            ],
            "type": "histogram2d"
           }
          ],
          "histogram2dcontour": [
           {
            "colorbar": {
             "outlinewidth": 0,
             "ticks": ""
            },
            "colorscale": [
             [
              0,
              "#0d0887"
             ],
             [
              0.1111111111111111,
              "#46039f"
             ],
             [
              0.2222222222222222,
              "#7201a8"
             ],
             [
              0.3333333333333333,
              "#9c179e"
             ],
             [
              0.4444444444444444,
              "#bd3786"
             ],
             [
              0.5555555555555556,
              "#d8576b"
             ],
             [
              0.6666666666666666,
              "#ed7953"
             ],
             [
              0.7777777777777778,
              "#fb9f3a"
             ],
             [
              0.8888888888888888,
              "#fdca26"
             ],
             [
              1,
              "#f0f921"
             ]
            ],
            "type": "histogram2dcontour"
           }
          ],
          "mesh3d": [
           {
            "colorbar": {
             "outlinewidth": 0,
             "ticks": ""
            },
            "type": "mesh3d"
           }
          ],
          "parcoords": [
           {
            "line": {
             "colorbar": {
              "outlinewidth": 0,
              "ticks": ""
             }
            },
            "type": "parcoords"
           }
          ],
          "pie": [
           {
            "automargin": true,
            "type": "pie"
           }
          ],
          "scatter": [
           {
            "fillpattern": {
             "fillmode": "overlay",
             "size": 10,
             "solidity": 0.2
            },
            "type": "scatter"
           }
          ],
          "scatter3d": [
           {
            "line": {
             "colorbar": {
              "outlinewidth": 0,
              "ticks": ""
             }
            },
            "marker": {
             "colorbar": {
              "outlinewidth": 0,
              "ticks": ""
             }
            },
            "type": "scatter3d"
           }
          ],
          "scattercarpet": [
           {
            "marker": {
             "colorbar": {
              "outlinewidth": 0,
              "ticks": ""
             }
            },
            "type": "scattercarpet"
           }
          ],
          "scattergeo": [
           {
            "marker": {
             "colorbar": {
              "outlinewidth": 0,
              "ticks": ""
             }
            },
            "type": "scattergeo"
           }
          ],
          "scattergl": [
           {
            "marker": {
             "colorbar": {
              "outlinewidth": 0,
              "ticks": ""
             }
            },
            "type": "scattergl"
           }
          ],
          "scattermapbox": [
           {
            "marker": {
             "colorbar": {
              "outlinewidth": 0,
              "ticks": ""
             }
            },
            "type": "scattermapbox"
           }
          ],
          "scatterpolar": [
           {
            "marker": {
             "colorbar": {
              "outlinewidth": 0,
              "ticks": ""
             }
            },
            "type": "scatterpolar"
           }
          ],
          "scatterpolargl": [
           {
            "marker": {
             "colorbar": {
              "outlinewidth": 0,
              "ticks": ""
             }
            },
            "type": "scatterpolargl"
           }
          ],
          "scatterternary": [
           {
            "marker": {
             "colorbar": {
              "outlinewidth": 0,
              "ticks": ""
             }
            },
            "type": "scatterternary"
           }
          ],
          "surface": [
           {
            "colorbar": {
             "outlinewidth": 0,
             "ticks": ""
            },
            "colorscale": [
             [
              0,
              "#0d0887"
             ],
             [
              0.1111111111111111,
              "#46039f"
             ],
             [
              0.2222222222222222,
              "#7201a8"
             ],
             [
              0.3333333333333333,
              "#9c179e"
             ],
             [
              0.4444444444444444,
              "#bd3786"
             ],
             [
              0.5555555555555556,
              "#d8576b"
             ],
             [
              0.6666666666666666,
              "#ed7953"
             ],
             [
              0.7777777777777778,
              "#fb9f3a"
             ],
             [
              0.8888888888888888,
              "#fdca26"
             ],
             [
              1,
              "#f0f921"
             ]
            ],
            "type": "surface"
           }
          ],
          "table": [
           {
            "cells": {
             "fill": {
              "color": "#EBF0F8"
             },
             "line": {
              "color": "white"
             }
            },
            "header": {
             "fill": {
              "color": "#C8D4E3"
             },
             "line": {
              "color": "white"
             }
            },
            "type": "table"
           }
          ]
         },
         "layout": {
          "annotationdefaults": {
           "arrowcolor": "#2a3f5f",
           "arrowhead": 0,
           "arrowwidth": 1
          },
          "autotypenumbers": "strict",
          "coloraxis": {
           "colorbar": {
            "outlinewidth": 0,
            "ticks": ""
           }
          },
          "colorscale": {
           "diverging": [
            [
             0,
             "#8e0152"
            ],
            [
             0.1,
             "#c51b7d"
            ],
            [
             0.2,
             "#de77ae"
            ],
            [
             0.3,
             "#f1b6da"
            ],
            [
             0.4,
             "#fde0ef"
            ],
            [
             0.5,
             "#f7f7f7"
            ],
            [
             0.6,
             "#e6f5d0"
            ],
            [
             0.7,
             "#b8e186"
            ],
            [
             0.8,
             "#7fbc41"
            ],
            [
             0.9,
             "#4d9221"
            ],
            [
             1,
             "#276419"
            ]
           ],
           "sequential": [
            [
             0,
             "#0d0887"
            ],
            [
             0.1111111111111111,
             "#46039f"
            ],
            [
             0.2222222222222222,
             "#7201a8"
            ],
            [
             0.3333333333333333,
             "#9c179e"
            ],
            [
             0.4444444444444444,
             "#bd3786"
            ],
            [
             0.5555555555555556,
             "#d8576b"
            ],
            [
             0.6666666666666666,
             "#ed7953"
            ],
            [
             0.7777777777777778,
             "#fb9f3a"
            ],
            [
             0.8888888888888888,
             "#fdca26"
            ],
            [
             1,
             "#f0f921"
            ]
           ],
           "sequentialminus": [
            [
             0,
             "#0d0887"
            ],
            [
             0.1111111111111111,
             "#46039f"
            ],
            [
             0.2222222222222222,
             "#7201a8"
            ],
            [
             0.3333333333333333,
             "#9c179e"
            ],
            [
             0.4444444444444444,
             "#bd3786"
            ],
            [
             0.5555555555555556,
             "#d8576b"
            ],
            [
             0.6666666666666666,
             "#ed7953"
            ],
            [
             0.7777777777777778,
             "#fb9f3a"
            ],
            [
             0.8888888888888888,
             "#fdca26"
            ],
            [
             1,
             "#f0f921"
            ]
           ]
          },
          "colorway": [
           "#636efa",
           "#EF553B",
           "#00cc96",
           "#ab63fa",
           "#FFA15A",
           "#19d3f3",
           "#FF6692",
           "#B6E880",
           "#FF97FF",
           "#FECB52"
          ],
          "font": {
           "color": "#2a3f5f"
          },
          "geo": {
           "bgcolor": "white",
           "lakecolor": "white",
           "landcolor": "#E5ECF6",
           "showlakes": true,
           "showland": true,
           "subunitcolor": "white"
          },
          "hoverlabel": {
           "align": "left"
          },
          "hovermode": "closest",
          "mapbox": {
           "style": "light"
          },
          "paper_bgcolor": "white",
          "plot_bgcolor": "#E5ECF6",
          "polar": {
           "angularaxis": {
            "gridcolor": "white",
            "linecolor": "white",
            "ticks": ""
           },
           "bgcolor": "#E5ECF6",
           "radialaxis": {
            "gridcolor": "white",
            "linecolor": "white",
            "ticks": ""
           }
          },
          "scene": {
           "xaxis": {
            "backgroundcolor": "#E5ECF6",
            "gridcolor": "white",
            "gridwidth": 2,
            "linecolor": "white",
            "showbackground": true,
            "ticks": "",
            "zerolinecolor": "white"
           },
           "yaxis": {
            "backgroundcolor": "#E5ECF6",
            "gridcolor": "white",
            "gridwidth": 2,
            "linecolor": "white",
            "showbackground": true,
            "ticks": "",
            "zerolinecolor": "white"
           },
           "zaxis": {
            "backgroundcolor": "#E5ECF6",
            "gridcolor": "white",
            "gridwidth": 2,
            "linecolor": "white",
            "showbackground": true,
            "ticks": "",
            "zerolinecolor": "white"
           }
          },
          "shapedefaults": {
           "line": {
            "color": "#2a3f5f"
           }
          },
          "ternary": {
           "aaxis": {
            "gridcolor": "white",
            "linecolor": "white",
            "ticks": ""
           },
           "baxis": {
            "gridcolor": "white",
            "linecolor": "white",
            "ticks": ""
           },
           "bgcolor": "#E5ECF6",
           "caxis": {
            "gridcolor": "white",
            "linecolor": "white",
            "ticks": ""
           }
          },
          "title": {
           "x": 0.05
          },
          "xaxis": {
           "automargin": true,
           "gridcolor": "white",
           "linecolor": "white",
           "ticks": "",
           "title": {
            "standoff": 15
           },
           "zerolinecolor": "white",
           "zerolinewidth": 2
          },
          "yaxis": {
           "automargin": true,
           "gridcolor": "white",
           "linecolor": "white",
           "ticks": "",
           "title": {
            "standoff": 15
           },
           "zerolinecolor": "white",
           "zerolinewidth": 2
          }
         }
        },
        "title": {
         "text": "Relationship between model-calculated piped water rates and national data on piped water rates"
        },
        "width": 1200,
        "xaxis": {
         "anchor": "y",
         "domain": [
          0,
          1
         ],
         "range": [
          0,
          105
         ],
         "title": {
          "text": "NATPiped"
         }
        },
        "yaxis": {
         "anchor": "x",
         "domain": [
          0,
          1
         ],
         "range": [
          0,
          105
         ],
         "title": {
          "text": "piped_calculated"
         }
        }
       }
      }
     },
     "metadata": {},
     "output_type": "display_data"
    }
   ],
   "source": [
    "country_medians[\"percent_piped_with_access\"] = country_medians[\"population_piped_with_access\"] / country_medians[\"country_pop_raw\"] * 100\n",
    "country_medians[\"piped_calculated\"] = country_medians[\"percent_without_water\"] + country_medians[\"percent_piped_with_access\"]\n",
    "country_5th_percentiles[\"percent_piped_with_access\"] = country_5th_percentiles[\"population_piped_with_access\"] / country_5th_percentiles[\"country_pop_raw\"] * 100\n",
    "country_5th_percentiles[\"piped_calculated\"] = country_5th_percentiles[\"percent_without_water\"] + country_5th_percentiles[\"percent_piped_with_access\"]\n",
    "country_95th_percentiles[\"percent_piped_with_access\"] = country_95th_percentiles[\"population_piped_with_access\"] / country_95th_percentiles[\"country_pop_raw\"] * 100\n",
    "country_95th_percentiles[\"piped_calculated\"] = country_95th_percentiles[\"percent_without_water\"] + country_95th_percentiles[\"percent_piped_with_access\"]\n",
    "\n",
    "fig = px.scatter(\n",
    "    country_medians, x=\"NATPiped\", y=\"piped_calculated\", \n",
    "    labels={'x':'NATPiped', 'y':'Piped Calculated'}, \n",
    "    title=\"Relationship between model-calculated piped water rates and national data on piped water rates\",\n",
    "    # size=\"bubble_size\",\n",
    "    color=\"region\",\n",
    "    hover_data=['Entity']\n",
    ").update_layout(\n",
    "    width=1200,\n",
    "    height=800,\n",
    ").update_xaxes(\n",
    "    range=[0, 105]\n",
    ").update_yaxes(\n",
    "    range=[0, 105]\n",
    ")\n",
    "\n",
    "fig.show()"
   ]
  },
  {
   "cell_type": "code",
   "execution_count": 13,
   "metadata": {},
   "outputs": [
    {
     "name": "stdout",
     "output_type": "stream",
     "text": [
      "Spearman's rank correlation between national piped data and calculated piped rates in the model: 0.9686 (p-value: 1.4634e-109)\n",
      "Pearson's correlation between national piped data and calculated piped rates in the model: 0.9441 (p-value: 1.0102e-87)\n"
     ]
    }
   ],
   "source": [
    "# Calculate Spearman's and Pearson's correlations\n",
    "correlation_spearman, p_value_spearman = spearmanr(country_medians[\"NATPiped\"], country_medians[\"piped_calculated\"])\n",
    "correlation_pearson, p_value_pearson = pearsonr(country_medians[\"NATPiped\"], country_medians[\"piped_calculated\"])\n",
    "\n",
    "print(f\"Spearman's rank correlation between national piped data and calculated piped rates in the model: {correlation_spearman:.4f} (p-value: {p_value_spearman:.4e})\")\n",
    "print(f\"Pearson's correlation between national piped data and calculated piped rates in the model: {correlation_pearson:.4f} (p-value: {p_value_pearson:.4e})\")\n"
   ]
  },
  {
   "cell_type": "code",
   "execution_count": 14,
   "metadata": {},
   "outputs": [
    {
     "data": {
      "application/vnd.plotly.v1+json": {
       "config": {
        "plotlyServerURL": "https://plot.ly"
       },
       "data": [
        {
         "hovertemplate": "<b>%{hovertext}</b><br><br>region=Asia<br>piped_calculated=%{x}<br>percent_without_water=%{y}<br>bubble_size=%{marker.size}<extra></extra>",
         "hovertext": [
          "Afghanistan",
          "United Arab Emirates",
          "Armenia",
          "Azerbaijan",
          "Bangladesh",
          "Bahrain",
          "Brunei Darussalam",
          "Bhutan",
          "China",
          "Cyprus",
          "Georgia",
          "Indonesia",
          "India",
          "Iran, Islamic Republic of",
          "Iraq",
          "Israel",
          "Jordan",
          "Japan",
          "Kazakhstan",
          "Kyrgyzstan",
          "Cambodia",
          "Korea, Republic of",
          "Lao People's Democratic Republic",
          "Lebanon",
          "Sri Lanka",
          "Myanmar",
          "Mongolia",
          "Malaysia",
          "Nepal",
          "Oman",
          "Pakistan",
          "Philippines",
          "Korea, Democratic People's Republic of",
          "Qatar",
          "Saudi Arabia",
          "Singapore",
          "Syrian Arab Republic",
          "Thailand",
          "Tajikistan",
          "Turkmenistan",
          "Timor-Leste",
          "Türkiye",
          "Taiwan, Province of China",
          "Uzbekistan",
          "Viet Nam",
          "Yemen"
         ],
         "legendgroup": "Asia",
         "marker": {
          "color": "#636efa",
          "size": [
           6311.531351423361,
           3160.8674442310926,
           1722.8255860649388,
           3197.3964408562165,
           12895.871199729005,
           1322.2310690647078,
           664.4787430761048,
           883.1194709664146,
           38002.843340992265,
           1102.5370742065772,
           1994.9368411055023,
           16624.13269918163,
           37328.394460517586,
           9221.10405537211,
           6417.113915149083,
           2964.7556391716334,
           3204.531479015302,
           11227.23456600066,
           4358.320548101069,
           2574.5576319049455,
           4116.606126410444,
           7162.763712422741,
           2716.4973771384357,
           2601.759212532935,
           4636.518737156144,
           7403.108401205537,
           1824.6320176956228,
           5725.049781442953,
           5447.469137131481,
           2285.4706298703554,
           15006.662820227555,
           10537.879767771125,
           5087.931308498573,
           1711.8773320539062,
           5944.80277216999,
           2428.3088765640996,
           4275.009239756097,
           8363.662116561141,
           3122.438950564126,
           2473.4455724757718,
           1159.2562270697535,
           9221.86185105806,
           4884.15888357453,
           5825.44118500908,
           9908.018419441902,
           5521.832938436294
          ],
          "sizemode": "area",
          "sizeref": 95.00710835248066,
          "symbol": "circle"
         },
         "mode": "markers",
         "name": "Asia",
         "orientation": "v",
         "showlegend": true,
         "type": "scatter",
         "x": [
          21.62504146175778,
          99.99999999999999,
          99.99882688031316,
          90.30829056401357,
          27.405526408449905,
          100,
          99.99265732586453,
          100,
          82.61580662358375,
          100.00000000000001,
          78.13624295794929,
          20.961655884003925,
          47.65949322828601,
          97.27169206621517,
          75.38966437587939,
          100,
          82.91808818836864,
          89.27019112564568,
          63.823975373201435,
          92.04616134563642,
          33.589488316223665,
          100,
          19.69512980996796,
          91.29426353993843,
          70.11952495084874,
          26.711745329893496,
          17.08892909662759,
          90.28244837721039,
          51.07860049142542,
          85.62259363605531,
          26.380563872873932,
          69.80123643458668,
          52.95749642804125,
          99.99916151117996,
          84.66978715457044,
          100,
          74.41388176066086,
          83.67678552831691,
          65.1591440699474,
          29.89162665225558,
          67.03592278787859,
          88.48098551272207,
          93.15496143914713,
          64.7721369781931,
          60.0485728770192,
          49.92497430593312
         ],
         "xaxis": "x",
         "y": [
          12.087214177080575,
          99.93477667227891,
          52.7262708359487,
          34.601895251244414,
          10.853192878136138,
          100,
          24.77663853700314,
          61.19372423627557,
          20.393063259194957,
          45.38985069699906,
          32.74021902407018,
          9.77565534424378,
          17.686202171736394,
          61.911258268290695,
          34.172729807795946,
          78.7743593140876,
          61.25212194947586,
          15.237749521689132,
          34.26181020739587,
          27.879555288915853,
          7.717671177556765,
          44.46719995106172,
          4.184641709819331,
          54.70595036853058,
          24.59558387808553,
          7.638594213459067,
          5.298096008652025,
          31.33649703577304,
          13.0312756557727,
          81.02537205280217,
          8.655947254498184,
          22.804036807505906,
          20.13343042727561,
          99.99916151117996,
          84.02794193850892,
          61.29922765813821,
          51.86436834844093,
          20.14164595998497,
          26.114202728605456,
          18.134654768432306,
          65.58394306961304,
          42.9367750435974,
          19.615184799266828,
          28.50857646759551,
          8.319340144725935,
          47.354444246706734
         ],
         "yaxis": "y"
        },
        {
         "hovertemplate": "<b>%{hovertext}</b><br><br>region=Africa<br>piped_calculated=%{x}<br>percent_without_water=%{y}<br>bubble_size=%{marker.size}<extra></extra>",
         "hovertext": [
          "Angola",
          "Burundi",
          "Benin",
          "Burkina Faso",
          "Botswana",
          "Central African Republic",
          "Côte d'Ivoire",
          "Cameroon",
          "Congo, Democratic Republic of the",
          "Congo",
          "Djibouti",
          "Algeria",
          "Egypt",
          "Eritrea",
          "Western Sahara",
          "Ethiopia",
          "Gabon",
          "Ghana",
          "Guinea",
          "Gambia",
          "Guinea-Bissau",
          "Equatorial Guinea",
          "Kenya",
          "Liberia",
          "Libya",
          "Lesotho",
          "Morocco",
          "Madagascar",
          "Mali",
          "Mozambique",
          "Mauritania",
          "Mauritius",
          "Malawi",
          "Namibia",
          "Niger",
          "Nigeria",
          "Rwanda",
          "Sudan",
          "Senegal",
          "Sierra Leone",
          "Somalia",
          "South Sudan",
          "Sao Tome and Principe",
          "Eswatini",
          "Chad",
          "Togo",
          "Tunisia",
          "Tanzania, United Republic of",
          "Uganda",
          "South Africa",
          "Zambia",
          "Zimbabwe"
         ],
         "legendgroup": "Africa",
         "marker": {
          "color": "#EF553B",
          "size": [
           5825.256303374127,
           3500.775485517459,
           3528.601847757834,
           4636.496198639658,
           1548.3022960649512,
           2218.104370853635,
           5201.310315680079,
           5217.687418770887,
           9611.346731858132,
           2378.4484438389663,
           1001.0978973107475,
           6679.567800389484,
           10210.696695133001,
           1897.7518278215412,
           782.222474747434,
           10857.081836294687,
           1509.5790804061905,
           5633.127728003334,
           3673.8585982587842,
           1577.0025364595963,
           1419.6795413050088,
           1204.1141972421055,
           7415.234453474819,
           2276.007029866121,
           2637.9040922671925,
           1469.376398340466,
           6111.0381278470195,
           5331.728894083044,
           4566.806761841363,
           5671.247217323541,
           2185.202507778169,
           1128.4626710706916,
           4432.570473213032,
           1608.5223032336232,
           5013.063933364505,
           14539.625304663115,
           3643.69551417239,
           6701.443948881465,
           4146.8431366522655,
           2853.3038744585197,
           4044.687874237022,
           3373.62964772365,
           472.6140074098524,
           1082.759899516047,
           4112.783120953499,
           2911.742090227086,
           3454.817506034147,
           7842.09398056412,
           6864.658258063543,
           7748.677048374128,
           4349.788155761152,
           3884.8643476960683
          ],
          "sizemode": "area",
          "sizeref": 95.00710835248066,
          "symbol": "circle"
         },
         "mode": "markers",
         "name": "Africa",
         "orientation": "v",
         "showlegend": true,
         "type": "scatter",
         "x": [
          27.077114025320448,
          69.32835349278031,
          34.32819305850498,
          22.174366170552794,
          78.78096795197919,
          5.364502023677781,
          33.37276624660432,
          23.012708935593782,
          15.731224859946794,
          17.31278076383825,
          58.851218622840584,
          64.64092591385419,
          98.9999082622566,
          41.23608307266116,
          51.449327448498856,
          42.86662229403445,
          47.158315564895496,
          44.82790564921687,
          12.918779311149226,
          72.5384145245886,
          34.742159612580394,
          24.082008076171867,
          42.157406890089455,
          1.7510507028301232,
          56.46498567356595,
          69.15473715082649,
          66.91584155650257,
          25.879987229347226,
          34.365381807620444,
          27.11693824450709,
          49.740193247730176,
          99.99999999999999,
          34.99668363108733,
          78.20382771335026,
          36.356197846422695,
          10.684681464212666,
          67.06862885304614,
          49.14258365991954,
          70.40662479020445,
          19.038052698219616,
          23.22660034043183,
          3.072570581340123,
          92.49743969811422,
          54.00835245216523,
          10.37971953371174,
          26.43767353648459,
          86.94724381338041,
          36.90699372256497,
          28.598541457593555,
          85.46653757009577,
          14.982004557634387,
          20.65191179331978
         ],
         "xaxis": "x",
         "y": [
          18.137981031998727,
          37.39345904921628,
          15.897513327678368,
          11.833689846152732,
          73.71653518764442,
          3.307354255137165,
          12.99410007794564,
          12.122014850484923,
          6.550200417486968,
          9.344744341822636,
          58.44451256203694,
          47.10205850014813,
          41.07144973596121,
          36.939524444290726,
          51.3860465868609,
          33.02148951388466,
          32.80992664579617,
          23.33527416274813,
          6.50437981612718,
          32.684681826162944,
          14.42723775517718,
          9.75067395759515,
          22.266114187511235,
          1.578507539224121,
          56.4445573154642,
          23.54302623140049,
          47.50988047985524,
          13.801852419116251,
          20.087370514442146,
          10.426783372755365,
          46.83149384766151,
          9.837112179018026,
          10.8868184491683,
          73.0936177071667,
          32.2350995100355,
          5.26634758049806,
          39.59661266775444,
          41.78693801925486,
          60.1502052319829,
          12.209292398920086,
          22.29118302999396,
          2.265170035967808,
          63.005045309618666,
          14.863936456952512,
          5.998827664366377,
          12.686198553511703,
          61.33587306236362,
          12.796208985441474,
          11.049074829997297,
          40.624132489832576,
          7.035229961833748,
          11.071029118460856
         ],
         "yaxis": "y"
        },
        {
         "hovertemplate": "<b>%{hovertext}</b><br><br>region=Europe<br>piped_calculated=%{x}<br>percent_without_water=%{y}<br>bubble_size=%{marker.size}<extra></extra>",
         "hovertext": [
          "Albania",
          "Austria",
          "Belgium",
          "Bulgaria",
          "Bosnia and Herzegovina",
          "Belarus",
          "Switzerland",
          "Czechia",
          "Germany",
          "Denmark",
          "Spain",
          "Estonia",
          "Finland",
          "France",
          "United Kingdom of Great Britain and Northern Ireland",
          "Greece",
          "Croatia",
          "Hungary",
          "Ireland",
          "Iceland",
          "Italy",
          "Liechtenstein",
          "Lithuania",
          "Luxembourg",
          "Latvia",
          "Moldova, Republic of",
          "North Macedonia",
          "Malta",
          "Montenegro",
          "Netherlands, Kingdom of the",
          "Norway",
          "Poland",
          "Portugal",
          "Romania",
          "Russian Federation",
          "San Marino",
          "Serbia",
          "Slovakia",
          "Slovenia",
          "Sweden",
          "Ukraine"
         ],
         "legendgroup": "Europe",
         "marker": {
          "color": "#00cc96",
          "size": [
           1694.9731561296182,
           3007.1700982817715,
           3410.6207646116272,
           2626.1483202591585,
           1806.504636030586,
           3072.9248282377494,
           2952.2015513849997,
           3274.836331788201,
           9159.720028472486,
           2411.0790115630803,
           6837.046950255643,
           1151.1681024072898,
           2355.495913815178,
           8088.644942139567,
           8258.759834260833,
           3220.364420372328,
           2020.3111146553642,
           3103.8946502740714,
           2232.2419223731104,
           585.9692824713596,
           7769.650635646367,
           195.5862980885931,
           1640.0798761036,
           796.7521571982093,
           1366.3579326077045,
           2005.9972582234502,
           1443.1427510818187,
           665.4246764285195,
           792.4966876902389,
           4144.043194755576,
           2337.868473631483,
           6147.926479716556,
           3188.7180809848965,
           4373.5308390361215,
           12079.404869446176,
           184.41800345953212,
           2949.1603889920943,
           2336.8196336046135,
           1441.7777221194674,
           3187.50043137252,
           6592.937281667406
          ],
          "sizemode": "area",
          "sizeref": 95.00710835248066,
          "symbol": "circle"
         },
         "mode": "markers",
         "name": "Europe",
         "orientation": "v",
         "showlegend": true,
         "type": "scatter",
         "x": [
          77.16923711072499,
          99.85744266636372,
          99.99999999999999,
          97.52704138170793,
          93.58947098709324,
          92.32555696796047,
          100,
          99.99993155246426,
          99.99999999999999,
          100,
          100.00000000000001,
          99.98397848477047,
          99.91517815183651,
          100,
          99.9997469847074,
          99.99971685647728,
          91.24259941632828,
          100,
          96.32966720043837,
          98.6575862976763,
          99.99857972904408,
          100.00000000000001,
          89.28985273356795,
          97.64740752045483,
          90.72586646911607,
          66.41818930122253,
          83.64296070305453,
          100,
          75.7370631129914,
          99.99999999999999,
          100.00000000000001,
          86.41922668520724,
          97.93281109544046,
          42.645106787694516,
          88.45908896398095,
          100,
          93.04266268346124,
          99.47284396766597,
          100.00000000000001,
          81.07868212691567,
          43.637929398728865
         ],
         "xaxis": "x",
         "y": [
          15.412577502964298,
          8.749873383744362,
          17.892677094065533,
          37.6180923658431,
          35.071983701190334,
          21.940313242767623,
          12.49974243988012,
          31.04027116377184,
          16.434072540553814,
          8.31340886843461,
          30.41922534375581,
          38.94422455490183,
          10.339102775056904,
          17.735203334715337,
          21.55794396369052,
          69.34192222823688,
          34.02722979110092,
          31.33780800455346,
          22.647547371638915,
          38.75480488288186,
          21.86789394023648,
          17.376179372494263,
          17.432549106017678,
          21.428459069658583,
          29.041808559099927,
          21.618367552769705,
          24.68315938567734,
          53.02028820017647,
          40.260327682442885,
          5.3709112815633215,
          13.275356627181958,
          16.06937600642218,
          43.65045882539198,
          15.901435333818206,
          35.093352823200405,
          34.37,
          35.18815995840521,
          20.775588518029394,
          11.852844634595764,
          6.879396773082431,
          14.7689923104747
         ],
         "yaxis": "y"
        },
        {
         "hovertemplate": "<b>%{hovertext}</b><br><br>region=Americas<br>piped_calculated=%{x}<br>percent_without_water=%{y}<br>bubble_size=%{marker.size}<extra></extra>",
         "hovertext": [
          "Argentina",
          "Bahamas",
          "Belize",
          "Bolivia, Plurinational State of",
          "Brazil",
          "Canada",
          "Chile",
          "Colombia",
          "Costa Rica",
          "Cuba",
          "Dominican Republic",
          "Ecuador",
          "Grenada",
          "Greenland",
          "Guatemala",
          "Guyana",
          "Honduras",
          "Haiti",
          "Jamaica",
          "Saint Kitts and Nevis",
          "Saint Lucia",
          "Mexico",
          "Nicaragua",
          "Panama",
          "Peru",
          "Paraguay",
          "El Salvador",
          "Suriname",
          "Trinidad and Tobago",
          "Uruguay",
          "United States of America",
          "Saint Vincent and the Grenadines",
          "Venezuela, Bolivarian Republic of"
         ],
         "legendgroup": "Americas",
         "marker": {
          "color": "#ab63fa",
          "size": [
           6753.2083486295605,
           630.0111110131313,
           636.329317256403,
           3439.903487018204,
           14628.514654605231,
           6169.920015689021,
           4383.19084686031,
           7160.01682958916,
           2266.947948233483,
           3364.1489265488826,
           3309.6395574140697,
           4229.476799794509,
           336.17703669346605,
           238.47012391492567,
           4271.9864231994,
           889.004499426184,
           3172.222249464876,
           3397.3052556401226,
           1724.3729295022001,
           231.40008643040738,
           429.41937543618127,
           11413.24756587712,
           2588.895324264772,
           2093.2231128095254,
           5775.760988822166,
           2686.9389646957,
           2553.1353273964933,
           769.284082767868,
           1184.6408738516495,
           1866.856180855933,
           18245.96048444696,
           333.5700825913499,
           5357.699786288888
          ],
          "sizemode": "area",
          "sizeref": 95.00710835248066,
          "symbol": "circle"
         },
         "mode": "markers",
         "name": "Americas",
         "orientation": "v",
         "showlegend": true,
         "type": "scatter",
         "x": [
          87.10177884446392,
          88.98136444935906,
          79.17300626003964,
          29.785251092265277,
          94.80922682663163,
          99.87934137008885,
          99.97931137243754,
          65.67404068007471,
          99.99999999999999,
          63.68787803775798,
          73.17314711629419,
          81.29746854291497,
          91.10314680111378,
          99.91544360279578,
          72.35181665190999,
          73.33531937880824,
          87.26745571876546,
          20.281926489750692,
          75.3548554181956,
          88.20972919971292,
          96.37827319360642,
          96.1581637366413,
          43.48012721696358,
          86.2207605520912,
          85.32391925211738,
          99.96873605388322,
          87.69798247646544,
          73.4569037521017,
          86.95911602614717,
          99.91574926680815,
          97.76987055286362,
          91.9442638872888,
          76.07546804334068
         ],
         "xaxis": "x",
         "y": [
          35.45285101368195,
          41.37729658684501,
          10.710917126024931,
          16.72214271006142,
          40.75330849347167,
          22.136028013755077,
          38.462377667415,
          30.083304907664413,
          24.023106133230943,
          25.10813532228256,
          40.32830392583999,
          28.604682410866875,
          56.67817969982113,
          87.1318417735669,
          35.296962579702324,
          7.753108821234653,
          35.84322252666399,
          10.44772088142355,
          34.35161233512183,
          54.17323478168237,
          57.47694395796271,
          54.99619765138917,
          24.2626626785505,
          13.887701456730518,
          48.12468688560664,
          46.76880602670818,
          35.013060756594726,
          12.016236124069527,
          45.30936200710487,
          56.14790907950872,
          34.1228646169388,
          44.184957311232026,
          47.13635062382805
         ],
         "yaxis": "y"
        },
        {
         "hovertemplate": "<b>%{hovertext}</b><br><br>region=Oceania<br>piped_calculated=%{x}<br>percent_without_water=%{y}<br>bubble_size=%{marker.size}<extra></extra>",
         "hovertext": [
          "Australia",
          "Fiji",
          "New Zealand",
          "Palau",
          "Papua New Guinea",
          "Solomon Islands",
          "Vanuatu",
          "Samoa"
         ],
         "legendgroup": "Oceania",
         "marker": {
          "color": "#FFA15A",
          "size": [
           5078.210019288294,
           950.209976794603,
           2204.686372253432,
           134.8109787814034,
           3019.7690309028603,
           839.0440989602394,
           560.7708979610122,
           447.3745634253249
          ],
          "sizemode": "area",
          "sizeref": 95.00710835248066,
          "symbol": "circle"
         },
         "mode": "markers",
         "name": "Oceania",
         "orientation": "v",
         "showlegend": true,
         "type": "scatter",
         "x": [
          95.29363572988005,
          86.85903156924519,
          99.92246437974146,
          29.000000000000007,
          12.726416020174865,
          48.078287828096464,
          45.7184480640727,
          87
         ],
         "xaxis": "x",
         "y": [
          21.8792033630203,
          38.77211549203192,
          19.433620482235707,
          20.82532713802025,
          2.6938640654959447,
          19.4933062313668,
          22.5704670457485,
          67.37580188911696
         ],
         "yaxis": "y"
        }
       ],
       "layout": {
        "font": {
         "size": 25
        },
        "height": 800,
        "legend": {
         "itemsizing": "constant",
         "title": {
          "text": "Region"
         },
         "tracegroupgap": 0
        },
        "margin": {
         "t": 60
        },
        "template": {
         "data": {
          "bar": [
           {
            "error_x": {
             "color": "#2a3f5f"
            },
            "error_y": {
             "color": "#2a3f5f"
            },
            "marker": {
             "line": {
              "color": "#E5ECF6",
              "width": 0.5
             },
             "pattern": {
              "fillmode": "overlay",
              "size": 10,
              "solidity": 0.2
             }
            },
            "type": "bar"
           }
          ],
          "barpolar": [
           {
            "marker": {
             "line": {
              "color": "#E5ECF6",
              "width": 0.5
             },
             "pattern": {
              "fillmode": "overlay",
              "size": 10,
              "solidity": 0.2
             }
            },
            "type": "barpolar"
           }
          ],
          "carpet": [
           {
            "aaxis": {
             "endlinecolor": "#2a3f5f",
             "gridcolor": "white",
             "linecolor": "white",
             "minorgridcolor": "white",
             "startlinecolor": "#2a3f5f"
            },
            "baxis": {
             "endlinecolor": "#2a3f5f",
             "gridcolor": "white",
             "linecolor": "white",
             "minorgridcolor": "white",
             "startlinecolor": "#2a3f5f"
            },
            "type": "carpet"
           }
          ],
          "choropleth": [
           {
            "colorbar": {
             "outlinewidth": 0,
             "ticks": ""
            },
            "type": "choropleth"
           }
          ],
          "contour": [
           {
            "colorbar": {
             "outlinewidth": 0,
             "ticks": ""
            },
            "colorscale": [
             [
              0,
              "#0d0887"
             ],
             [
              0.1111111111111111,
              "#46039f"
             ],
             [
              0.2222222222222222,
              "#7201a8"
             ],
             [
              0.3333333333333333,
              "#9c179e"
             ],
             [
              0.4444444444444444,
              "#bd3786"
             ],
             [
              0.5555555555555556,
              "#d8576b"
             ],
             [
              0.6666666666666666,
              "#ed7953"
             ],
             [
              0.7777777777777778,
              "#fb9f3a"
             ],
             [
              0.8888888888888888,
              "#fdca26"
             ],
             [
              1,
              "#f0f921"
             ]
            ],
            "type": "contour"
           }
          ],
          "contourcarpet": [
           {
            "colorbar": {
             "outlinewidth": 0,
             "ticks": ""
            },
            "type": "contourcarpet"
           }
          ],
          "heatmap": [
           {
            "colorbar": {
             "outlinewidth": 0,
             "ticks": ""
            },
            "colorscale": [
             [
              0,
              "#0d0887"
             ],
             [
              0.1111111111111111,
              "#46039f"
             ],
             [
              0.2222222222222222,
              "#7201a8"
             ],
             [
              0.3333333333333333,
              "#9c179e"
             ],
             [
              0.4444444444444444,
              "#bd3786"
             ],
             [
              0.5555555555555556,
              "#d8576b"
             ],
             [
              0.6666666666666666,
              "#ed7953"
             ],
             [
              0.7777777777777778,
              "#fb9f3a"
             ],
             [
              0.8888888888888888,
              "#fdca26"
             ],
             [
              1,
              "#f0f921"
             ]
            ],
            "type": "heatmap"
           }
          ],
          "heatmapgl": [
           {
            "colorbar": {
             "outlinewidth": 0,
             "ticks": ""
            },
            "colorscale": [
             [
              0,
              "#0d0887"
             ],
             [
              0.1111111111111111,
              "#46039f"
             ],
             [
              0.2222222222222222,
              "#7201a8"
             ],
             [
              0.3333333333333333,
              "#9c179e"
             ],
             [
              0.4444444444444444,
              "#bd3786"
             ],
             [
              0.5555555555555556,
              "#d8576b"
             ],
             [
              0.6666666666666666,
              "#ed7953"
             ],
             [
              0.7777777777777778,
              "#fb9f3a"
             ],
             [
              0.8888888888888888,
              "#fdca26"
             ],
             [
              1,
              "#f0f921"
             ]
            ],
            "type": "heatmapgl"
           }
          ],
          "histogram": [
           {
            "marker": {
             "pattern": {
              "fillmode": "overlay",
              "size": 10,
              "solidity": 0.2
             }
            },
            "type": "histogram"
           }
          ],
          "histogram2d": [
           {
            "colorbar": {
             "outlinewidth": 0,
             "ticks": ""
            },
            "colorscale": [
             [
              0,
              "#0d0887"
             ],
             [
              0.1111111111111111,
              "#46039f"
             ],
             [
              0.2222222222222222,
              "#7201a8"
             ],
             [
              0.3333333333333333,
              "#9c179e"
             ],
             [
              0.4444444444444444,
              "#bd3786"
             ],
             [
              0.5555555555555556,
              "#d8576b"
             ],
             [
              0.6666666666666666,
              "#ed7953"
             ],
             [
              0.7777777777777778,
              "#fb9f3a"
             ],
             [
              0.8888888888888888,
              "#fdca26"
             ],
             [
              1,
              "#f0f921"
             ]
            ],
            "type": "histogram2d"
           }
          ],
          "histogram2dcontour": [
           {
            "colorbar": {
             "outlinewidth": 0,
             "ticks": ""
            },
            "colorscale": [
             [
              0,
              "#0d0887"
             ],
             [
              0.1111111111111111,
              "#46039f"
             ],
             [
              0.2222222222222222,
              "#7201a8"
             ],
             [
              0.3333333333333333,
              "#9c179e"
             ],
             [
              0.4444444444444444,
              "#bd3786"
             ],
             [
              0.5555555555555556,
              "#d8576b"
             ],
             [
              0.6666666666666666,
              "#ed7953"
             ],
             [
              0.7777777777777778,
              "#fb9f3a"
             ],
             [
              0.8888888888888888,
              "#fdca26"
             ],
             [
              1,
              "#f0f921"
             ]
            ],
            "type": "histogram2dcontour"
           }
          ],
          "mesh3d": [
           {
            "colorbar": {
             "outlinewidth": 0,
             "ticks": ""
            },
            "type": "mesh3d"
           }
          ],
          "parcoords": [
           {
            "line": {
             "colorbar": {
              "outlinewidth": 0,
              "ticks": ""
             }
            },
            "type": "parcoords"
           }
          ],
          "pie": [
           {
            "automargin": true,
            "type": "pie"
           }
          ],
          "scatter": [
           {
            "fillpattern": {
             "fillmode": "overlay",
             "size": 10,
             "solidity": 0.2
            },
            "type": "scatter"
           }
          ],
          "scatter3d": [
           {
            "line": {
             "colorbar": {
              "outlinewidth": 0,
              "ticks": ""
             }
            },
            "marker": {
             "colorbar": {
              "outlinewidth": 0,
              "ticks": ""
             }
            },
            "type": "scatter3d"
           }
          ],
          "scattercarpet": [
           {
            "marker": {
             "colorbar": {
              "outlinewidth": 0,
              "ticks": ""
             }
            },
            "type": "scattercarpet"
           }
          ],
          "scattergeo": [
           {
            "marker": {
             "colorbar": {
              "outlinewidth": 0,
              "ticks": ""
             }
            },
            "type": "scattergeo"
           }
          ],
          "scattergl": [
           {
            "marker": {
             "colorbar": {
              "outlinewidth": 0,
              "ticks": ""
             }
            },
            "type": "scattergl"
           }
          ],
          "scattermapbox": [
           {
            "marker": {
             "colorbar": {
              "outlinewidth": 0,
              "ticks": ""
             }
            },
            "type": "scattermapbox"
           }
          ],
          "scatterpolar": [
           {
            "marker": {
             "colorbar": {
              "outlinewidth": 0,
              "ticks": ""
             }
            },
            "type": "scatterpolar"
           }
          ],
          "scatterpolargl": [
           {
            "marker": {
             "colorbar": {
              "outlinewidth": 0,
              "ticks": ""
             }
            },
            "type": "scatterpolargl"
           }
          ],
          "scatterternary": [
           {
            "marker": {
             "colorbar": {
              "outlinewidth": 0,
              "ticks": ""
             }
            },
            "type": "scatterternary"
           }
          ],
          "surface": [
           {
            "colorbar": {
             "outlinewidth": 0,
             "ticks": ""
            },
            "colorscale": [
             [
              0,
              "#0d0887"
             ],
             [
              0.1111111111111111,
              "#46039f"
             ],
             [
              0.2222222222222222,
              "#7201a8"
             ],
             [
              0.3333333333333333,
              "#9c179e"
             ],
             [
              0.4444444444444444,
              "#bd3786"
             ],
             [
              0.5555555555555556,
              "#d8576b"
             ],
             [
              0.6666666666666666,
              "#ed7953"
             ],
             [
              0.7777777777777778,
              "#fb9f3a"
             ],
             [
              0.8888888888888888,
              "#fdca26"
             ],
             [
              1,
              "#f0f921"
             ]
            ],
            "type": "surface"
           }
          ],
          "table": [
           {
            "cells": {
             "fill": {
              "color": "#EBF0F8"
             },
             "line": {
              "color": "white"
             }
            },
            "header": {
             "fill": {
              "color": "#C8D4E3"
             },
             "line": {
              "color": "white"
             }
            },
            "type": "table"
           }
          ]
         },
         "layout": {
          "annotationdefaults": {
           "arrowcolor": "#2a3f5f",
           "arrowhead": 0,
           "arrowwidth": 1
          },
          "autotypenumbers": "strict",
          "coloraxis": {
           "colorbar": {
            "outlinewidth": 0,
            "ticks": ""
           }
          },
          "colorscale": {
           "diverging": [
            [
             0,
             "#8e0152"
            ],
            [
             0.1,
             "#c51b7d"
            ],
            [
             0.2,
             "#de77ae"
            ],
            [
             0.3,
             "#f1b6da"
            ],
            [
             0.4,
             "#fde0ef"
            ],
            [
             0.5,
             "#f7f7f7"
            ],
            [
             0.6,
             "#e6f5d0"
            ],
            [
             0.7,
             "#b8e186"
            ],
            [
             0.8,
             "#7fbc41"
            ],
            [
             0.9,
             "#4d9221"
            ],
            [
             1,
             "#276419"
            ]
           ],
           "sequential": [
            [
             0,
             "#0d0887"
            ],
            [
             0.1111111111111111,
             "#46039f"
            ],
            [
             0.2222222222222222,
             "#7201a8"
            ],
            [
             0.3333333333333333,
             "#9c179e"
            ],
            [
             0.4444444444444444,
             "#bd3786"
            ],
            [
             0.5555555555555556,
             "#d8576b"
            ],
            [
             0.6666666666666666,
             "#ed7953"
            ],
            [
             0.7777777777777778,
             "#fb9f3a"
            ],
            [
             0.8888888888888888,
             "#fdca26"
            ],
            [
             1,
             "#f0f921"
            ]
           ],
           "sequentialminus": [
            [
             0,
             "#0d0887"
            ],
            [
             0.1111111111111111,
             "#46039f"
            ],
            [
             0.2222222222222222,
             "#7201a8"
            ],
            [
             0.3333333333333333,
             "#9c179e"
            ],
            [
             0.4444444444444444,
             "#bd3786"
            ],
            [
             0.5555555555555556,
             "#d8576b"
            ],
            [
             0.6666666666666666,
             "#ed7953"
            ],
            [
             0.7777777777777778,
             "#fb9f3a"
            ],
            [
             0.8888888888888888,
             "#fdca26"
            ],
            [
             1,
             "#f0f921"
            ]
           ]
          },
          "colorway": [
           "#636efa",
           "#EF553B",
           "#00cc96",
           "#ab63fa",
           "#FFA15A",
           "#19d3f3",
           "#FF6692",
           "#B6E880",
           "#FF97FF",
           "#FECB52"
          ],
          "font": {
           "color": "#2a3f5f"
          },
          "geo": {
           "bgcolor": "white",
           "lakecolor": "white",
           "landcolor": "#E5ECF6",
           "showlakes": true,
           "showland": true,
           "subunitcolor": "white"
          },
          "hoverlabel": {
           "align": "left"
          },
          "hovermode": "closest",
          "mapbox": {
           "style": "light"
          },
          "paper_bgcolor": "white",
          "plot_bgcolor": "#E5ECF6",
          "polar": {
           "angularaxis": {
            "gridcolor": "white",
            "linecolor": "white",
            "ticks": ""
           },
           "bgcolor": "#E5ECF6",
           "radialaxis": {
            "gridcolor": "white",
            "linecolor": "white",
            "ticks": ""
           }
          },
          "scene": {
           "xaxis": {
            "backgroundcolor": "#E5ECF6",
            "gridcolor": "white",
            "gridwidth": 2,
            "linecolor": "white",
            "showbackground": true,
            "ticks": "",
            "zerolinecolor": "white"
           },
           "yaxis": {
            "backgroundcolor": "#E5ECF6",
            "gridcolor": "white",
            "gridwidth": 2,
            "linecolor": "white",
            "showbackground": true,
            "ticks": "",
            "zerolinecolor": "white"
           },
           "zaxis": {
            "backgroundcolor": "#E5ECF6",
            "gridcolor": "white",
            "gridwidth": 2,
            "linecolor": "white",
            "showbackground": true,
            "ticks": "",
            "zerolinecolor": "white"
           }
          },
          "shapedefaults": {
           "line": {
            "color": "#2a3f5f"
           }
          },
          "ternary": {
           "aaxis": {
            "gridcolor": "white",
            "linecolor": "white",
            "ticks": ""
           },
           "baxis": {
            "gridcolor": "white",
            "linecolor": "white",
            "ticks": ""
           },
           "bgcolor": "#E5ECF6",
           "caxis": {
            "gridcolor": "white",
            "linecolor": "white",
            "ticks": ""
           }
          },
          "title": {
           "x": 0.05
          },
          "xaxis": {
           "automargin": true,
           "gridcolor": "white",
           "linecolor": "white",
           "ticks": "",
           "title": {
            "standoff": 15
           },
           "zerolinecolor": "white",
           "zerolinewidth": 2
          },
          "yaxis": {
           "automargin": true,
           "gridcolor": "white",
           "linecolor": "white",
           "ticks": "",
           "title": {
            "standoff": 15
           },
           "zerolinecolor": "white",
           "zerolinewidth": 2
          }
         }
        },
        "width": 1200,
        "xaxis": {
         "anchor": "y",
         "domain": [
          0,
          1
         ],
         "range": [
          0,
          105
         ],
         "title": {
          "text": "Country piped water access (%)"
         }
        },
        "yaxis": {
         "anchor": "x",
         "domain": [
          0,
          1
         ],
         "range": [
          0,
          105
         ],
         "title": {
          "text": "Country population without access to water (%)"
         }
        }
       }
      }
     },
     "metadata": {},
     "output_type": "display_data"
    }
   ],
   "source": [
    "# create bubble size column with square root transformation for improved visuals\n",
    "country_medians[\"bubble_size\"] = country_medians[\"country_pop_raw\"] **0.5\n",
    "\n",
    "px.scatter(\n",
    "    country_medians, \n",
    "    y=\"percent_without_water\", \n",
    "    # x=\"NATPiped\", \n",
    "    x=\"piped_calculated\", \n",
    "    size=\"bubble_size\", \n",
    "    color=\"region\", \n",
    "    hover_name=\"Entity\", \n",
    "    # title=\"Access to Water vs. Piped Water vs. Population\",\n",
    ").update_layout(\n",
    "    yaxis_title=\"Country population without access to water (%)\",\n",
    "    xaxis_title=\"Country piped water access (%)\",\n",
    "    legend_title=\"Region\",\n",
    "    width=1200,\n",
    "    height=800,\n",
    "    font=dict(size=25),\n",
    "    # xaxis_tickangle=-45,\n",
    "    # yaxis=dict(tickfont=dict(size=2)),\n",
    "    # title=dict(font=dict(size=20)),\n",
    ").update_xaxes(range=[0, 105]).update_yaxes(range=[0, 105])"
   ]
  }
 ],
 "metadata": {
  "kernelspec": {
   "display_name": "water-access",
   "language": "python",
   "name": "python3"
  },
  "language_info": {
   "codemirror_mode": {
    "name": "ipython",
    "version": 3
   },
   "file_extension": ".py",
   "mimetype": "text/x-python",
   "name": "python",
   "nbconvert_exporter": "python",
   "pygments_lexer": "ipython3",
   "version": "3.9.18"
  }
 },
 "nbformat": 4,
 "nbformat_minor": 2
}
