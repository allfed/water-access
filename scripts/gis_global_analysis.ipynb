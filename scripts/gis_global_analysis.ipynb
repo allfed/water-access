{
 "cells": [
  {
   "cell_type": "code",
   "execution_count": 1,
   "metadata": {},
   "outputs": [],
   "source": [
    "\n",
    "import pathlib\n",
    "import pandas as pd\n",
    "import numpy as np\n",
    "import matplotlib.pyplot as plt\n",
    "import plotly.express as px\n",
    "import weightedstats as ws\n"
   ]
  },
  {
   "attachments": {},
   "cell_type": "markdown",
   "metadata": {},
   "source": [
    "## Functions and tools used in the analysis"
   ]
  },
  {
   "cell_type": "code",
   "execution_count": 2,
   "metadata": {},
   "outputs": [],
   "source": [
    "def weighted_mean(var, wts):\n",
    "    \"\"\"Calculates the weighted mean\"\"\"\n",
    "    return np.average(var, weights=wts)\n",
    "\n",
    "def weighted_median_series(val, weight):\n",
    "    \"\"\"Calculates the weighted median\n",
    "    ArithmeticError\n",
    "    If the sum of the weights is zero, or if the weights are not positive.\n",
    "    \"\"\"\n",
    "    try:\n",
    "        df = pd.DataFrame({\"val\": val, \"weight\": weight})\n",
    "        df_sorted = df.sort_values(\"val\")\n",
    "        cumsum = df_sorted[\"weight\"].cumsum()\n",
    "        cutoff = df_sorted[\"weight\"].sum() / 2.\n",
    "        result = df_sorted[cumsum >= cutoff][\"val\"].iloc[0]\n",
    "        # return just the value\n",
    "    except:\n",
    "        result = np.nan\n",
    "    return result\n",
    "\n",
    "def weighted_median(df, val_column, weight_column):\n",
    "    \"\"\"Calculates the weighted median\n",
    "    ArithmeticError\n",
    "    If the sum of the weights is zero, or if the weights are not positive.\n",
    "    \"\"\"\n",
    "    df_sorted = df.sort_values(val_column)\n",
    "    cumsum = df_sorted[weight_column].cumsum()\n",
    "    cutoff = df_sorted[weight_column].sum() / 2.\n",
    "    return df_sorted[cumsum >= cutoff][val_column].iloc[0]\n",
    "\n",
    "def run_weighted_median_on_grouped_df(df, groupby_column, value_column, weight_column):\n",
    "    \"\"\"Calculate the weighted median of a dataframe grouped by a column.\n",
    "    Args:\n",
    "        df (pandas.DataFrame): DataFrame to calculate weighted median on.\n",
    "        groupby_column (str): Column to group by.\n",
    "        value_column (str): Column to calculate weighted median on.\n",
    "        weight_column (str): Column to use as weight.\n",
    "    Returns:\n",
    "        pandas.DataFrame: DataFrame with weighted median for each group.\n",
    "    \"\"\"\n",
    "    # initialize empty list\n",
    "    d = []\n",
    "    # loop through each group\n",
    "    for i in df[groupby_column].unique():\n",
    "        df_group = df[df[groupby_column] == i]\n",
    "        # if rows in dataframe are more than 1, calculate weighted median\n",
    "        if len(df_group) > 1:\n",
    "            median = weighted_median(df_group, value_column, weight_column)\n",
    "        else:\n",
    "            median = df_group[value_column].values[0]\n",
    "        d.append(\n",
    "            {\n",
    "                groupby_column: i,\n",
    "                \"median\": median,\n",
    "            }\n",
    "        )\n",
    "    return pd.DataFrame(d)\n",
    "\n",
    "\n",
    "def load_data(data_file: str) -> pd.DataFrame:\n",
    "    '''\n",
    "    Load data from /data directory\n",
    "    '''\n",
    "    PATH = pathlib.Path().resolve()\n",
    "    DATA_PATH = PATH.joinpath(\"../data\").resolve()\n",
    "    return pd.read_csv(DATA_PATH.joinpath(data_file))\n",
    "\n"
   ]
  },
  {
   "attachments": {},
   "cell_type": "markdown",
   "metadata": {},
   "source": [
    "## Import Data from CSVs.\n",
    "CSVs created in previous script, which did the cycling mobility on a per country basis\n",
    "\n",
    "### GIS Data From QGIS Export\n",
    "https://ghsl.jrc.ec.europa.eu/download.php?ds=smod <- urbanisation\n",
    "\n",
    "https://www.earthenv.org/topography <- topography\n",
    "\n",
    "https://www.globio.info/download-grip-dataset <- roads\n"
   ]
  },
  {
   "cell_type": "code",
   "execution_count": 3,
   "metadata": {},
   "outputs": [],
   "source": [
    "\n",
    "# Load the data\n",
    "urb_data_file = \"../data/GIS/GIS_data_zones.csv\"\n",
    "country_data_file = \"../data/processed/country_data_master_interpolated.csv\"\n",
    "export_file_location = \"../data/processed/\"\n",
    "\n",
    "df_zones_input = pd.read_csv(urb_data_file)\n",
    "df_input = pd.read_csv(country_data_file)\n",
    "\n",
    "# Data manipulation\n",
    "# Convert dtw_1 from meters to kilometers\n",
    "df_zones_input[\"dtw_1\"] /= 1000 \n",
    "\n",
    "# Set a temporary max walking distance for all countries\n",
    "# TODO: Update this to be bespoke per country\n",
    "df_zones_input[\"max distance walking\"] = 3.0 "
   ]
  },
  {
   "cell_type": "markdown",
   "metadata": {},
   "source": [
    "# Manage Urban / Rural Data\n",
    "Use the GHS_SMOD_E2020_GLOBE_R2023A_54009_1000_V1_0 dataset.\n",
    "from here: https://ghsl.jrc.ec.europa.eu/download.php?ds=smod"
   ]
  },
  {
   "cell_type": "code",
   "execution_count": 4,
   "metadata": {},
   "outputs": [
    {
     "data": {
      "text/plain": [
       "0    2220541\n",
       "1      42618\n",
       "Name: urban_rural, dtype: int64"
      ]
     },
     "execution_count": 4,
     "metadata": {},
     "output_type": "execute_result"
    }
   ],
   "source": [
    "\n",
    "# create new binary column for urban / rural. Rural is below 15, Urban above 15\n",
    "df_zones_input[\"urban_rural\"] = np.where(df_zones_input[\"URBAN_1\"] > 15, 1, 0)\n",
    "df_zones_input[\"urban_rural\"].value_counts()\n"
   ]
  },
  {
   "cell_type": "markdown",
   "metadata": {},
   "source": [
    "# Manage slope.\n",
    "\n",
    "Degrees from earthenv dataset"
   ]
  },
  {
   "cell_type": "code",
   "execution_count": 5,
   "metadata": {},
   "outputs": [
    {
     "data": {
      "text/plain": [
       "0.00     0.000000\n",
       "0.05     0.097832\n",
       "0.10     0.138355\n",
       "0.15     0.218758\n",
       "0.20     0.280146\n",
       "0.25     0.360782\n",
       "0.30     0.450444\n",
       "0.35     0.548193\n",
       "0.40     0.656249\n",
       "0.45     0.787484\n",
       "0.50     0.935736\n",
       "0.55     1.121305\n",
       "0.60     1.358873\n",
       "0.65     1.667845\n",
       "0.70     2.111629\n",
       "0.75     2.770306\n",
       "0.80     3.795188\n",
       "0.85     5.369263\n",
       "0.90     7.810654\n",
       "0.95    11.961503\n",
       "Name: slope_1, dtype: float64"
      ]
     },
     "execution_count": 5,
     "metadata": {},
     "output_type": "execute_result"
    },
    {
     "data": {
      "image/png": "[encoded data removed]",
      "text/plain": [
       "<Figure size 640x480 with 1 Axes>"
      ]
     },
     "metadata": {},
     "output_type": "display_data"
    }
   ],
   "source": [
    "# histogram of slope_1 log scale\n",
    "df_zones_input[\"slope_1\"].hist(bins=100, log=False)\n",
    "\n",
    "# qunaitles of slope_1, do 20 quantiles\n",
    "df_zones_input[\"slope_1\"].quantile(np.arange(0, 1, 0.05))\n"
   ]
  },
  {
   "cell_type": "code",
   "execution_count": null,
   "metadata": {},
   "outputs": [],
   "source": []
  },
  {
   "cell_type": "markdown",
   "metadata": {},
   "source": [
    "# Manage Roads\n",
    "\n"
   ]
  },
  {
   "attachments": {},
   "cell_type": "markdown",
   "metadata": {},
   "source": [
    "## Merge the dataframes\n",
    "Do some manual adjustments to populations"
   ]
  },
  {
   "cell_type": "code",
   "execution_count": 6,
   "metadata": {},
   "outputs": [],
   "source": [
    "\n",
    "# this analysis loses some data as the overlap between the rasters is not perfect. To reduce this error, use the 30 arc second data. Too much heavy lifting for my computer to do this at the moment.\n",
    "\n",
    "#merge df_input and df_zones on ISO_CC. This assigns all the country data to each zone.\n",
    "# join inner will remove some of the data that is not in both datasets\n",
    "df_zones = df_zones_input.merge(df_input, left_on=\"ISOCODE\", right_on=\"alpha3\", how=\"inner\")\n",
    "\n",
    "# these are the columns\n",
    "# alpha3,Unnamed: 0,Entity,Population,YearPBO,PBO,Terrain Ruggedness,Urban %,Urban Agg %,RoadQuality,Km,Urb %,Average household size (number of members),National At Least Basic,National Limit (more than 30 mins),National Unimproved,National Surface Water,Nat Accesible On Premises,Nat Piped,Nat NonPiped,No. HPs,Year of HP estimate,2015 (C),No. HPs in 2015,Non-functional HPs,Functional HPS,Risk Score,alpha2,region,subregion,borders,Mean BMI (male),Mean BMI (female),Mean male height (cm),Mean female height (cm),women weight,men weight,percent_insufficient_activity,Average Weight,power,Crr,trip_velocity_mean,unloaded_velocity_mean,loaded_velocity_mean,velocitykgs,water_ration_kms\n",
    "\n",
    "#adjust population to account for 9 values per raster point (2.5 to 5 arc min resoltuions. 9 values per point)\n",
    "df_zones[\"AdjPopFloat\"] = df_zones[\"pop_count_15_1\"] / 9 \n",
    "\n",
    "# # convert population density to percent of national population on a per country basis, grouped by ISO_CC\n",
    "df_zones[\"pop_density_perc\"] = df_zones.groupby(\"ISOCODE\")[\"AdjPopFloat\"].apply(lambda x: x / x.sum())\n",
    "\n",
    "# multiply population density by population on a per country basis\n",
    "df_zones[\"pop_zone\"] = df_zones[\"pop_density_perc\"] * df_zones[\"Population\"]\n",
    "\n"
   ]
  },
  {
   "cell_type": "code",
   "execution_count": 7,
   "metadata": {},
   "outputs": [],
   "source": [
    "# sum the population in each zone\n",
    "df_zones[\"country_pop_raw\"] = df_zones.groupby(\"ISOCODE\")[\"pop_zone\"].transform(\"sum\")\n",
    "df_zones[\"country_pop_ratio\"] = df_zones.groupby(\"ISOCODE\")[\"AdjPopFloat\"].transform(\"sum\")\n"
   ]
  },
  {
   "cell_type": "code",
   "execution_count": 8,
   "metadata": {},
   "outputs": [],
   "source": [
    "# trim the dataframe to only include rows where there is a population\n",
    "# find non zero values AdjPopFloat\n",
    "df_zones[\"any_pop\"] = df_zones[\"AdjPopFloat\"].apply(\n",
    "    lambda x: 1 if x > 10 else 0\n",
    ")\n",
    "df_zones = df_zones[df_zones[\"any_pop\"] == 1]\n"
   ]
  },
  {
   "cell_type": "code",
   "execution_count": 9,
   "metadata": {},
   "outputs": [
    {
     "data": {
      "text/plain": [
       "Index(['fid', 'id', 'left', 'top', 'right', 'bottom', 'Value', 'ISOCODE',\n",
       "       'UNSDCODE', 'NAME0', 'CIESINCODE', 'DATATYPE', 'DATACODE', 'DATAYEAR',\n",
       "       'DATALEVEL', 'SEXLEVEL', 'AGELEVEL', 'GRSTART', 'GREND', 'GRLEVEL',\n",
       "       'LASTCENSUS', 'MEANUNITKM', 'dtw_1', 'pop_count_15_1', 'AdjPop',\n",
       "       'AdjPopFloat', 'vrm1', 'grip_total', 'slope_1', 'grip_1_1', 'grip_2_1',\n",
       "       'grip_3_1', 'grip_4_1', 'grip_5_1', 'tri_med_1', 'tri_max_1', 'URBAN_1',\n",
       "       'max distance walking', 'urban_rural', 'alpha3', 'Unnamed: 0', 'Entity',\n",
       "       'Population', 'YearPBO', 'PBO', 'Terrain Ruggedness', 'Urban %',\n",
       "       'Urban Agg %', 'RoadQuality', 'Km', 'Urb %',\n",
       "       'Average household size (number of members)', 'National At Least Basic',\n",
       "       'National Limit (more than 30 mins)', 'National Unimproved',\n",
       "       'National Surface Water', 'Nat Accesible On Premises', 'Nat Piped',\n",
       "       'Nat NonPiped', 'No. HPs', 'Year of HP estimate', '2015 (C)',\n",
       "       'No. HPs in 2015', 'Non-functional HPs', 'Functional HPS',\n",
       "       'Mean BMI (male)', 'Mean BMI (female)', 'Mean male height (cm)',\n",
       "       'Mean female height (cm)', 'women weight', 'men weight',\n",
       "       'percent_insufficient_activity', 'Average Weight', '% urban',\n",
       "       'TOTALUnimproved', 'RURALUnimproved', 'URBANUnimproved', 'TOTALPiped',\n",
       "       'TOTALNon-piped', 'RURALPiped', 'RURALNon-piped', 'URBANPiped',\n",
       "       'URBANNon-piped', 'alpha2', 'region', 'subregion', 'borders',\n",
       "       'pop_density_perc', 'pop_zone', 'country_pop_raw', 'country_pop_ratio',\n",
       "       'any_pop'],\n",
       "      dtype='object')"
      ]
     },
     "execution_count": 9,
     "metadata": {},
     "output_type": "execute_result"
    }
   ],
   "source": [
    "df_zones.columns"
   ]
  },
  {
   "cell_type": "markdown",
   "metadata": {},
   "source": [
    "## Do Road Analysis from GRIP Data"
   ]
  },
  {
   "cell_type": "code",
   "execution_count": 10,
   "metadata": {},
   "outputs": [
    {
     "data": {
      "text/plain": [
       "<AxesSubplot:>"
      ]
     },
     "execution_count": 10,
     "metadata": {},
     "output_type": "execute_result"
    },
    {
     "data": {
      "image/png": "[encoded data removed]",
      "text/plain": [
       "<Figure size 640x480 with 1 Axes>"
      ]
     },
     "metadata": {},
     "output_type": "display_data"
    }
   ],
   "source": [
    "# Define the columns to work with\n",
    "columns = [\"grip_1_1\", \"grip_2_1\", \"grip_3_1\", \"grip_4_1\", \"grip_5_1\"]\n",
    "\n",
    "# Create a numpy array from the DataFrame for faster processing\n",
    "data = df_zones[columns].to_numpy()\n",
    "\n",
    "# Find the index of the first non-zero value in each row\n",
    "non_zero_indices = np.argmax(data != 0, axis=1)\n",
    "\n",
    "# Handle rows with all zeros\n",
    "all_zeros = np.all(data == 0, axis=1)\n",
    "non_zero_indices[all_zeros] = -1  # Set a distinct value for rows with all zeros\n",
    "\n",
    "# Map indices to road types\n",
    "road_types = np.array(['No Roads', 'Highways', 'Primary Roads', 'Secondary Roads', 'Tertiary Roads', 'Local Roads'])\n",
    "\n",
    "# Assign the dominant road type\n",
    "df_zones['dominant_road_type'] = road_types[non_zero_indices + 1]  # +1 to adjust for 'No Roads'\n",
    "\n",
    "# Histogram of dominant road type\n",
    "df_zones['dominant_road_type'].value_counts().plot(kind='bar')\n"
   ]
  },
  {
   "cell_type": "code",
   "execution_count": 11,
   "metadata": {},
   "outputs": [],
   "source": [
    "# Load the CSV file\n",
    "df_crr = pd.read_csv(\"../data/lookup tables/Crr.csv\")\n",
    "\n",
    "# Create a dictionary from the DataFrame\n",
    "crr_mapping = pd.Series(df_crr.Crr.values, index=df_crr['Assigned Zone Surface']).to_dict()\n",
    "\n",
    "# Map the road types in df_zones to Crr values\n",
    "df_zones['Crr'] = df_zones['dominant_road_type'].map(crr_mapping)\n",
    "\n",
    "# Now df_zones will have an additional column 'Crr' containing the corresponding Crr values\n"
   ]
  },
  {
   "cell_type": "code",
   "execution_count": 12,
   "metadata": {},
   "outputs": [
    {
     "data": {
      "text/plain": [
       "Index(['fid', 'id', 'left', 'top', 'right', 'bottom', 'Value', 'ISOCODE',\n",
       "       'UNSDCODE', 'NAME0', 'CIESINCODE', 'DATATYPE', 'DATACODE', 'DATAYEAR',\n",
       "       'DATALEVEL', 'SEXLEVEL', 'AGELEVEL', 'GRSTART', 'GREND', 'GRLEVEL',\n",
       "       'LASTCENSUS', 'MEANUNITKM', 'dtw_1', 'pop_count_15_1', 'AdjPop',\n",
       "       'AdjPopFloat', 'vrm1', 'grip_total', 'slope_1', 'grip_1_1', 'grip_2_1',\n",
       "       'grip_3_1', 'grip_4_1', 'grip_5_1', 'tri_med_1', 'tri_max_1', 'URBAN_1',\n",
       "       'max distance walking', 'urban_rural', 'alpha3', 'Unnamed: 0', 'Entity',\n",
       "       'Population', 'YearPBO', 'PBO', 'Terrain Ruggedness', 'Urban %',\n",
       "       'Urban Agg %', 'RoadQuality', 'Km', 'Urb %',\n",
       "       'Average household size (number of members)', 'National At Least Basic',\n",
       "       'National Limit (more than 30 mins)', 'National Unimproved',\n",
       "       'National Surface Water', 'Nat Accesible On Premises', 'Nat Piped',\n",
       "       'Nat NonPiped', 'No. HPs', 'Year of HP estimate', '2015 (C)',\n",
       "       'No. HPs in 2015', 'Non-functional HPs', 'Functional HPS',\n",
       "       'Mean BMI (male)', 'Mean BMI (female)', 'Mean male height (cm)',\n",
       "       'Mean female height (cm)', 'women weight', 'men weight',\n",
       "       'percent_insufficient_activity', 'Average Weight', '% urban',\n",
       "       'TOTALUnimproved', 'RURALUnimproved', 'URBANUnimproved', 'TOTALPiped',\n",
       "       'TOTALNon-piped', 'RURALPiped', 'RURALNon-piped', 'URBANPiped',\n",
       "       'URBANNon-piped', 'alpha2', 'region', 'subregion', 'borders',\n",
       "       'pop_density_perc', 'pop_zone', 'country_pop_raw', 'country_pop_ratio',\n",
       "       'any_pop', 'dominant_road_type', 'Crr'],\n",
       "      dtype='object')"
      ]
     },
     "execution_count": 12,
     "metadata": {},
     "output_type": "execute_result"
    }
   ],
   "source": [
    "df_zones.columns"
   ]
  },
  {
   "attachments": {},
   "cell_type": "markdown",
   "metadata": {},
   "source": [
    "## The section below calculates the population per zone that can reach water\n",
    "\n",
    "Consider putting in household size and bike sharing here"
   ]
  },
  {
   "cell_type": "code",
   "execution_count": 13,
   "metadata": {},
   "outputs": [],
   "source": [
    "# only take the first 10000 rows for now\n",
    "df_zones= df_zones.head(10000)\n",
    "load_attempt = 20 # kg\n",
    "\n",
    "calculate_bicycle_distance = 0\n",
    "if calculate_bicycle_distance:\n",
    "    # Calculate the bicycle distance\n",
    "    import sys\n",
    "    from pathlib import Path\n",
    "\n",
    "\n",
    "    # Resolve project root and update sys.path\n",
    "    project_root = Path().resolve().parent\n",
    "    sys.path.append(str(project_root))\n",
    "    \n",
    "    import src.mobility_module as mm\n",
    "\n",
    "    # Import data\n",
    "    file_path_params = \"../data/lookup tables/mobility-model-parameters.csv\"\n",
    "    allHPV_param_df = pd.read_csv(file_path_params)\n",
    "    param_df = allHPV_param_df[allHPV_param_df[\"Name\"] == \"Bicycle\"]\n",
    "\n",
    "    # Initialize model options and variables\n",
    "    mo = mm.model_options()\n",
    "    mo.model_selection = 2  # Cycling model\n",
    "\n",
    "    mv = mm.model_variables()\n",
    "    met = mm.MET_values(mv)\n",
    "    hpv = mm.HPV_variables(param_df, mv)\n",
    "\n",
    "    # Ensure that the 'Crr' column is in the correct format (e.g., float)\n",
    "    df_zones['Crr'] = df_zones['Crr'].astype(float)\n",
    "\n",
    "    # Extract slope and Crr values\n",
    "    slope_zones = df_zones[\"slope_1\"]\n",
    "    Crr_values = df_zones[\"Crr\"]\n",
    "\n",
    "    # Model run setup\n",
    "    n_runs = len(slope_zones)\n",
    "\n",
    "    # Initialize result vectors\n",
    "    results = np.zeros((n_runs, 3))\n",
    "\n",
    "    # Run model with both slope and Crr\n",
    "    for i, (slope, crr) in enumerate(zip(slope_zones, Crr_values)):\n",
    "        hpv.Crr = crr\n",
    "        results[i] = mm.mobility_models.single_bike_run(mv, mo, hpv, slope, load_attempt) \n",
    "    # Unpack results\n",
    "    loaded_velocity_vec, unloaded_velocity_vec, max_load_vec = results.T\n",
    "\n",
    "    # average velocity between loaded and unloaded\n",
    "    average_velocity = (loaded_velocity_vec + unloaded_velocity_vec) / 2\n",
    "\n",
    "    # save the results csv\n",
    "    df_zones[\"loaded_velocity_bicycle\"] = loaded_velocity_vec\n",
    "    df_zones[\"unloaded_velocity_bicycle\"] = unloaded_velocity_vec\n",
    "    df_zones[\"average_velocity_bicycle\"] = average_velocity\n",
    "    df_zones[\"max_load_bicycle\"] = max_load_vec\n",
    "\n",
    "    #only save the newly created cols in the csv\n",
    "    df_zones[[\"fid\", \"loaded_velocity_bicycle\", \"unloaded_velocity_bicycle\", \"average_velocity_bicycle\", \"max_load_bicycle\"]].to_csv(export_file_location + \"bicycle_velocity_by_zone.csv\")\n",
    "\n",
    "else:\n",
    "    # load the results csv\n",
    "    df_zones_bicycle = pd.read_csv(export_file_location + \"bicycle_velocity_by_zone.csv\")\n",
    "\n",
    "    # merge the results with the main df\n",
    "    df_zones = df_zones.merge(df_zones_bicycle, on=\"fid\", how=\"left\")\n",
    "\n"
   ]
  },
  {
   "cell_type": "code",
   "execution_count": 14,
   "metadata": {},
   "outputs": [],
   "source": [
    "# only take the first 10000 rows for now\n",
    "df_zones= df_zones.head(10000)\n",
    "load_attempt = 20 # kg\n",
    "\n",
    "calculate_walking_distance = 1\n",
    "if calculate_walking_distance:\n",
    "    # Calculate the bicycle distance\n",
    "    import sys\n",
    "    from pathlib import Path\n",
    "\n",
    "\n",
    "    # Resolve project root and update sys.path\n",
    "    project_root = Path().resolve().parent\n",
    "    sys.path.append(str(project_root))\n",
    "    \n",
    "    import src.mobility_module as mm\n",
    "\n",
    "    # Import data\n",
    "    file_path_params = \"../data/lookup tables/mobility-model-parameters.csv\"\n",
    "    allHPV_param_df = pd.read_csv(file_path_params)\n",
    "    param_df = allHPV_param_df[allHPV_param_df[\"Name\"] == \"Buckets\"]\n",
    "\n",
    "    # Initialize model options and variables\n",
    "    mo = mm.model_options()\n",
    "    mo.model_selection = 3  # Lankford model\n",
    "\n",
    "    mv = mm.model_variables()\n",
    "    met = mm.MET_values(mv)\n",
    "    hpv = mm.HPV_variables(param_df, mv)\n",
    "\n",
    "    # Ensure that the 'Crr' column is in the correct format (e.g., float)\n",
    "    df_zones['Crr'] = df_zones['Crr'].astype(float)\n",
    "\n",
    "    # Extract slope and Crr values\n",
    "    slope_zones = df_zones[\"slope_1\"]\n",
    "    Crr_values = df_zones[\"Crr\"]\n",
    "\n",
    "    # Model run setup\n",
    "    n_runs = len(slope_zones)\n",
    "\n",
    "    # Initialize result vectors\n",
    "    results = np.zeros((n_runs, 3))\n",
    "\n",
    "    # Run model with both slope and Crr\n",
    "    for i, (slope) in enumerate(slope_zones):\n",
    "        results[i] = mm.mobility_models.single_lankford_run(mv, mo, met, hpv, slope, load_attempt)\n",
    "    # Unpack results\n",
    "    loaded_velocity_vec, unloaded_velocity_vec, max_load_vec = results.T\n",
    "\n",
    "    # average velocity between loaded and unloaded\n",
    "    average_velocity = (loaded_velocity_vec + unloaded_velocity_vec) / 2\n",
    "\n",
    "    # save the results csv\n",
    "    df_zones[\"loaded_velocity_walk\"] = loaded_velocity_vec\n",
    "    df_zones[\"unloaded_velocity_walk\"] = unloaded_velocity_vec\n",
    "    df_zones[\"average_velocity_walk\"] = average_velocity\n",
    "    df_zones[\"max_load_walk\"] = max_load_vec\n",
    "\n",
    "    #only save the newly created cols in the csv\n",
    "    df_zones[[\"fid\", \"loaded_velocity_walk\", \"unloaded_velocity_walk\", \"average_velocity_walk\", \"max_load_walk\"]].to_csv(export_file_location + \"walk_velocity_by_zone.csv\")\n",
    "\n",
    "else:\n",
    "    # load the results csv\n",
    "    df_zones_walking = pd.read_csv(export_file_location + \"walk_velocity_by_zone.csv\")\n",
    "\n",
    "    # merge the results with the main df\n",
    "    df_zones = df_zones.merge(df_zones_walking, on=\"fid\", how=\"left\")\n",
    "\n"
   ]
  },
  {
   "cell_type": "code",
   "execution_count": 29,
   "metadata": {},
   "outputs": [],
   "source": [
    "time_gathering_water = 8\n",
    "df_zones[\"max distance cycling\"] = df_zones[\"average_velocity\"] * time_gathering_water / 2 # max distance achievable (not round trip, just the distance from home to water source)\n",
    "df_zones[\"max distance walking\"] = df_zones[\"average_velocity\"] * time_gathering_water / 2\n",
    "df_zones[\"water_ration_kms\"] = df_zones[\"max distance cycling\"] * df_zones[\"max_load\"]"
   ]
  },
  {
   "cell_type": "code",
   "execution_count": 30,
   "metadata": {},
   "outputs": [
    {
     "data": {
      "text/plain": [
       "0    3.338853\n",
       "1    2.810578\n",
       "2    2.989990\n",
       "3    2.249984\n",
       "4    3.017698\n",
       "5    2.166688\n",
       "6    2.172357\n",
       "7    2.077768\n",
       "8    2.116220\n",
       "9    3.188453\n",
       "Name: max distance walking, dtype: float64"
      ]
     },
     "execution_count": 30,
     "metadata": {},
     "output_type": "execute_result"
    }
   ],
   "source": [
    "df_zones[\"max distance walking\"].head(10)"
   ]
  },
  {
   "cell_type": "code",
   "execution_count": 17,
   "metadata": {},
   "outputs": [],
   "source": [
    "# # population with piped water\n",
    "\n",
    "# set df_zones[\"zone_pop_piped\"] to 0 for all zones to begin with\n",
    "df_zones[\"zone_pop_piped\"] = 0\n",
    "\n",
    "# if urban use urban piped and unpiped, if rural use rural piped and unpiped\n",
    "# use the urban_rural column to do this (where urban_rural = 1, use urban, where urban_rural = 0, use rural)\n",
    "df_zones[\"zone_pop_piped\"] = df_zones[\"pop_zone\"] * df_zones[\"urban_rural\"] * df_zones[\"URBANPiped\"]/100 + df_zones[\"pop_zone\"] * (1-df_zones[\"urban_rural\"]) * df_zones[\"RURALPiped\"]/100\n",
    "df_zones[\"zone_pop_unpiped\"] = df_zones[\"pop_zone\"] * df_zones[\"urban_rural\"] * df_zones[\"URBANNon-piped\"]/100 + df_zones[\"pop_zone\"] * (1-df_zones[\"urban_rural\"]) * df_zones[\"RURALNon-piped\"]/100\n",
    "\n",
    "# is it possible to reach water with walking/cycling\n",
    "df_zones[\"zone_cycling_okay\"] = (df_zones[\"dtw_1\"] < df_zones[\"max distance cycling\"])*1 # multiply by 1 to force to binary not true/false\n",
    "df_zones[\"zone_walking_okay\"] = (df_zones[\"dtw_1\"] < df_zones[\"max distance walking\"])*1\n",
    "\n",
    "# how many people can collect water in the zone\n",
    "df_zones[\"fraction_of_zone_with_cycling_access\"] = df_zones[\"zone_cycling_okay\"]* (df_zones[\"PBO\"])/100\n",
    "df_zones[\"fraction_of_zone_with_walking_access\"] = df_zones[\"zone_walking_okay\"] * 1\n",
    "\n",
    "#\n",
    "df_zones[\"population_piped_with_cycling_access\"] = df_zones[\"fraction_of_zone_with_cycling_access\"] * df_zones[\"zone_pop_piped\"]\n",
    "df_zones[\"population_piped_with_walking_access\"] = df_zones[\"fraction_of_zone_with_walking_access\"] * df_zones[\"zone_pop_piped\"]\n",
    "\n",
    "# select the maximum between the two, if walkable, max will always be walking\n",
    "df_zones[\"population_piped_with_access\"] = df_zones[[\"population_piped_with_cycling_access\", \"population_piped_with_walking_access\"]].max(axis=1)\n",
    "\n",
    "# zone pop without water\n",
    "df_zones[\"zone_pop_with_water\"] =  df_zones[\"population_piped_with_access\"] + df_zones[\"zone_pop_unpiped\"]\n",
    "df_zones[\"zone_pop_without_water\"] = df_zones[\"pop_zone\"] - df_zones[\"zone_pop_with_water\"]\n",
    "\n",
    "# use water_ration_kms to calculate the water ration achievable per bike per zone\n",
    "df_zones[\"water_rations_per_bike\"] = df_zones[\"water_ration_kms\"] / df_zones[\"dtw_1\"]\n",
    "\n",
    "# number oif bikes per zone is population divided by household nuymber multipled by PBO\n",
    "df_zones[\"bikes_in_zone\"] = df_zones[\"pop_zone\"] / df_zones[\"Average household size (number of members)\"] * df_zones[\"PBO\"]\n",
    "\n",
    "#water rations achievable utilising all the bikes in the zone is the number of bikes in the zone multiplied by the water rations per bike\n",
    "df_zones[\"water_rations_achievable\"] = df_zones[\"bikes_in_zone\"] * df_zones[\"water_rations_per_bike\"]\n",
    "\n"
   ]
  },
  {
   "cell_type": "code",
   "execution_count": 26,
   "metadata": {},
   "outputs": [
    {
     "data": {
      "text/plain": [
       "count      9986.000000\n",
       "mean       2479.965865\n",
       "std        7757.335516\n",
       "min           6.042776\n",
       "25%         480.276669\n",
       "50%        1195.803226\n",
       "75%        2362.037534\n",
       "max      193064.436593\n",
       "Name: zone_pop_unpiped, dtype: float64"
      ]
     },
     "execution_count": 26,
     "metadata": {},
     "output_type": "execute_result"
    }
   ],
   "source": [
    "df_zones[\"zone_pop_unpiped\"].describe()"
   ]
  },
  {
   "attachments": {},
   "cell_type": "markdown",
   "metadata": {},
   "source": [
    "## Group the zones in to country groups\n",
    "Use groupby agg and then apply to summarise the zone data in to country level, then create some summary columns"
   ]
  },
  {
   "cell_type": "code",
   "execution_count": 18,
   "metadata": {},
   "outputs": [],
   "source": [
    "# use groupby to create dataframe of country level data from df_zones\n",
    "df_countries = df_zones.groupby(\"ISOCODE\").agg({\n",
    "    \"Entity\":\"first\",\n",
    "    \"country_pop_raw\": \"first\",\n",
    "    \"zone_pop_with_water\":\"sum\",\n",
    "    \"zone_pop_without_water\":\"sum\",\n",
    "    \"population_piped_with_access\":\"sum\"  ,\n",
    "    \"population_piped_with_cycling_access\":\"sum\",\n",
    "    \"population_piped_with_walking_access\":\"sum\",\n",
    "    \"Nat Piped\":\"first\",\n",
    "    \"region\":\"first\",\n",
    "    \"subregion\":\"first\",\n",
    "    # call the weighted median function on the column\n",
    "}).reset_index()\n",
    "\n",
    "# use groupby to create weighted median, needs to be speerate from the above groupby as it uses apply, which can't be used in the same groupby\n",
    "# needs to use apply because the function required two columns as input\n",
    "df_median_group = df_zones.groupby(['ISOCODE']).apply(lambda x : pd.Series({'weighted_med':weighted_median(x,\"dtw_1\",\"pop_zone\")}))\n",
    "\n",
    "# merge the weighted median back into the df_countries dataframe\n",
    "df_countries = df_countries.merge(df_median_group, on=\"ISOCODE\")\n",
    "\n",
    "# drop rows from the dataframe that have Nan in pop_zone and dtw_1\n",
    "df_zones = df_zones.dropna(subset=[\"pop_zone\", \"dtw_1\"])\n",
    "\n",
    "# create summary columns\n",
    "#rename zone columns to country\n",
    "df_countries = df_countries.rename(columns={\"zone_pop_with_water\":\"country_pop_with_water\", \"zone_pop_without_water\":\"country_pop_without_water\"})\n",
    "# create percent\n",
    "df_countries[\"percent_with_water\"] = df_countries[\"country_pop_with_water\"] / df_countries[\"country_pop_raw\"] * 100\n",
    "df_countries[\"percent_without_water\"] = df_countries[\"country_pop_without_water\"] / df_countries[\"country_pop_raw\"] * 100"
   ]
  },
  {
   "attachments": {},
   "cell_type": "markdown",
   "metadata": {},
   "source": [
    "Clean Up Data"
   ]
  },
  {
   "cell_type": "code",
   "execution_count": 19,
   "metadata": {},
   "outputs": [
    {
     "ename": "IndexError",
     "evalue": "index 0 is out of bounds for axis 0 with size 0",
     "output_type": "error",
     "traceback": [
      "\u001b[0;31m---------------------------------------------------------------------------\u001b[0m",
      "\u001b[0;31mIndexError\u001b[0m                                Traceback (most recent call last)",
      "Cell \u001b[0;32mIn[19], line 11\u001b[0m\n\u001b[1;32m      5\u001b[0m df_countries \u001b[38;5;241m=\u001b[39m df_countries\u001b[38;5;241m.\u001b[39mdropna()\n\u001b[1;32m      8\u001b[0m \u001b[38;5;66;03m# first pass clean up\u001b[39;00m\n\u001b[1;32m      9\u001b[0m \n\u001b[1;32m     10\u001b[0m \u001b[38;5;66;03m# remove any rows where the median is more than 1km more than \"LBY\" (Libya)'s median\u001b[39;00m\n\u001b[0;32m---> 11\u001b[0m max_distance \u001b[38;5;241m=\u001b[39m \u001b[43mdf_countries\u001b[49m\u001b[38;5;241;43m.\u001b[39;49m\u001b[43mloc\u001b[49m\u001b[43m[\u001b[49m\u001b[43mdf_countries\u001b[49m\u001b[43m[\u001b[49m\u001b[38;5;124;43m\"\u001b[39;49m\u001b[38;5;124;43mISOCODE\u001b[39;49m\u001b[38;5;124;43m\"\u001b[39;49m\u001b[43m]\u001b[49m\u001b[43m \u001b[49m\u001b[38;5;241;43m==\u001b[39;49m\u001b[43m \u001b[49m\u001b[38;5;124;43m\"\u001b[39;49m\u001b[38;5;124;43mLBY\u001b[39;49m\u001b[38;5;124;43m\"\u001b[39;49m\u001b[43m,\u001b[49m\u001b[43m \u001b[49m\u001b[38;5;124;43m\"\u001b[39;49m\u001b[38;5;124;43mweighted_med\u001b[39;49m\u001b[38;5;124;43m\"\u001b[39;49m\u001b[43m]\u001b[49m\u001b[38;5;241;43m.\u001b[39;49m\u001b[43mvalues\u001b[49m\u001b[43m[\u001b[49m\u001b[38;5;241;43m0\u001b[39;49m\u001b[43m]\u001b[49m \u001b[38;5;241m+\u001b[39m \u001b[38;5;241m1\u001b[39m\n\u001b[1;32m     12\u001b[0m countries_further_than_libya \u001b[38;5;241m=\u001b[39m df_countries[df_countries[\u001b[38;5;124m\"\u001b[39m\u001b[38;5;124mweighted_med\u001b[39m\u001b[38;5;124m\"\u001b[39m] \u001b[38;5;241m>\u001b[39m max_distance]\n\u001b[1;32m     13\u001b[0m df_countries \u001b[38;5;241m=\u001b[39m df_countries[df_countries[\u001b[38;5;124m\"\u001b[39m\u001b[38;5;124mweighted_med\u001b[39m\u001b[38;5;124m\"\u001b[39m] \u001b[38;5;241m<\u001b[39m max_distance]\n",
      "\u001b[0;31mIndexError\u001b[0m: index 0 is out of bounds for axis 0 with size 0"
     ]
    }
   ],
   "source": [
    "# Clean up data from spurious country values\n",
    "# uses libya as the max possible diatnce to water (from Kummu paper results)\n",
    "\n",
    "# remove any nan rows\n",
    "df_countries = df_countries.dropna()\n",
    "\n",
    "\n",
    "# first pass clean up\n",
    "\n",
    "# remove any rows where the median is more than 1km more than \"LBY\" (Libya)'s median these are clerly errors as no-country can be further than Libya (based on inspection of Kummu Results)\n",
    "max_distance = df_countries.loc[df_countries[\"ISOCODE\"] == \"LBY\", \"weighted_med\"].values[0] + 1\n",
    "countries_further_than_libya = df_countries[df_countries[\"weighted_med\"] > max_distance]\n",
    "df_countries = df_countries[df_countries[\"weighted_med\"] < max_distance]\n",
    "\n",
    "####### Manual remove countries ###############\n",
    "# inspecting the results, there are a few countries that are clearly wrong, remove them manually\n",
    "list_of_countries_to_remove = [\"GUM\", \"ASM\", \"TON\", \"MNP\", \"ATG\", \"DMA\", \"ABW\", \"BRB\"]\n",
    "df_of_countries_to_remove = df_countries[df_countries[\"ISOCODE\"].isin(list_of_countries_to_remove)]\n",
    "df_countries = df_countries[~df_countries[\"ISOCODE\"].isin(list_of_countries_to_remove)]\n",
    "##############################\n",
    "\n",
    "\n",
    "# summary of removed countries\n",
    "print(\"Countries removed from analysis\")\n",
    "print(countries_further_than_libya[[\"Entity\", \"weighted_med\"]])\n",
    "print(\"Countries removed manually\")\n",
    "print(df_of_countries_to_remove[[\"Entity\", \"weighted_med\"]])\n",
    "\n",
    "\n",
    "\n",
    "\n"
   ]
  },
  {
   "attachments": {},
   "cell_type": "markdown",
   "metadata": {},
   "source": [
    "# Plotting and Visualising"
   ]
  },
  {
   "cell_type": "code",
   "execution_count": null,
   "metadata": {},
   "outputs": [],
   "source": [
    "# create choropleth map of population with water from df_country\n",
    "\n",
    "hover_data_list =[\n",
    "    \"Entity\",\n",
    "    \"country_pop_raw\",\n",
    "    \"country_pop_with_water\",\n",
    "    \"country_pop_without_water\",\n",
    "    \"population_piped_with_access\",\n",
    "    \"population_piped_with_cycling_access\",\n",
    "    \"population_piped_with_walking_access\",\n",
    "    \"percent_without_water\",\n",
    "    \"percent_with_water\",\n",
    "    \"Nat Piped\",\n",
    "    \"region\",\n",
    "    \"subregion\",\n",
    "    \"weighted_med\"\n",
    "    ]\n",
    "\n",
    "\n",
    "choro = px.choropleth(\n",
    "    title=\"Percent of Population Has to Relocate\",\n",
    "    data_frame=df_countries,\n",
    "    locations=\"ISOCODE\",\n",
    "    height=600,\n",
    "    color=\"percent_without_water\",\n",
    "    hover_name=\"Entity\",\n",
    "    hover_data=hover_data_list\n",
    ")\n",
    "choro.layout.coloraxis.colorbar.title = ''\n",
    "choro.show()\n"
   ]
  },
  {
   "cell_type": "code",
   "execution_count": null,
   "metadata": {},
   "outputs": [],
   "source": [
    "# create bubble chart from df_countries comprising: access to water, piped water, and using population as the size of the bubble\n",
    "# create a new column for the size of the bubble\n",
    "df_countries[\"bubble_size\"] = df_countries[\"country_pop_raw\"] / 1000000 +50\n",
    "\n",
    "# create a new column for the color of the bubble\n",
    "df_countries[\"bubble_color\"] = df_countries[\"Nat Piped\"]\n",
    "\n",
    "# create a new column for the text of the bubble\n",
    "df_countries[\"bubble_text\"] = df_countries[\"Entity\"]\n",
    "\n",
    "px.scatter(df_countries, x=\"percent_without_water\", y=\"Nat Piped\", size=\"bubble_size\", color=\"region\", hover_name=\"bubble_text\", title=\"Access to Water vs. Piped Water vs. Population\")"
   ]
  },
  {
   "attachments": {},
   "cell_type": "markdown",
   "metadata": {},
   "source": [
    "Above graph is the money shot. NMeed to fix bubble sizes, maybe add labels"
   ]
  },
  {
   "cell_type": "code",
   "execution_count": null,
   "metadata": {},
   "outputs": [],
   "source": [
    "#sort the countries by distance to water, plot the results\n",
    "df_countries.sort_values(by=\"weighted_med\", inplace=True)\n",
    "# add log scale\n",
    "px.line(df_countries, x=\"Entity\", y=\"weighted_med\", color=\"subregion\", title=\"Distance to Water\", log_y=True)\n"
   ]
  },
  {
   "cell_type": "code",
   "execution_count": null,
   "metadata": {},
   "outputs": [],
   "source": [
    "# plot the countries by population withgout water and percent without water\n",
    "px.scatter(df_countries, x=\"percent_without_water\", y=\"country_pop_without_water\", size=\"bubble_size\", color=\"region\", hover_name=\"bubble_text\", title=\"Population vs. Percent Without Water\")\n"
   ]
  },
  {
   "cell_type": "code",
   "execution_count": null,
   "metadata": {},
   "outputs": [],
   "source": [
    "# summary statistics of zones by for slected country\n",
    "# select country\n",
    "country = \"CAF\"\n",
    "\n",
    "# interertsinbg ciolumns\n",
    "interesting_cols =[\n",
    "    \"Entity\",\n",
    "    \"dtw_1\",\n",
    "    \"pop_zone\",\n",
    "    \"country_pop_raw\",\n",
    "    \"population_piped_with_access\",\n",
    "    \"population_piped_with_cycling_access\",\n",
    "    \"population_piped_with_walking_access\",\n",
    "    \"Nat Piped\",\n",
    "    \"region\",\n",
    "]\n",
    "\n",
    "other_cols = [\n",
    "    \"zone_pop_unpiped\",\n",
    "    \"zone_pop_piped\",\n",
    "    \"pop_zone\"\n",
    "\n",
    "]\n",
    "\n",
    "# create dataframe of zones for selected country\n",
    "df_zones_country = df_zones[df_zones[\"ISOCODE\"] == country]\n",
    "df_zones_country = df_zones_country[other_cols]\n",
    "\n",
    "# create summary statistics\n",
    "df_zones_country.describe()\n",
    "\n",
    "\n",
    "\n",
    "\n",
    "\n"
   ]
  },
  {
   "cell_type": "code",
   "execution_count": null,
   "metadata": {},
   "outputs": [],
   "source": [
    "# create stacked bar chart, stacking  \"country_pop_with_water\", and \"country_pop_without_water\" on the y axis as two bars. Using region as the x axis.\n",
    "# px.bar(df_countries, x=\"region\", y=[\"country_pop_with_water\", \"country_pop_without_water\"], title=\"Population with Water vs. Population without Water\", hover_data=[\"Entity\"])\n",
    "\n",
    "# create the same, but put the bars side by side\n",
    "px.bar(df_countries, x=\"region\", y=[\"country_pop_with_water\", \"country_pop_without_water\"], barmode=\"group\", title=\"Population with Water vs. Population without Water\", hover_data=[\"Entity\"])\n",
    "\n",
    "\n",
    "\n",
    "\n"
   ]
  },
  {
   "cell_type": "code",
   "execution_count": null,
   "metadata": {},
   "outputs": [],
   "source": []
  }
 ],
 "metadata": {
  "kernelspec": {
   "display_name": "Python 3",
   "language": "python",
   "name": "python3"
  },
  "language_info": {
   "codemirror_mode": {
    "name": "ipython",
    "version": 3
   },
   "file_extension": ".py",
   "mimetype": "text/x-python",
   "name": "python",
   "nbconvert_exporter": "python",
   "pygments_lexer": "ipython3",
   "version": "3.9.18"
  },
  "orig_nbformat": 4,
  "vscode": {
   "interpreter": {
    "hash": "c09a8b249899dc4589e662892666698668e7a3ca1327801a18c24efb244ad2c6"
   }
  }
 },
 "nbformat": 4,
 "nbformat_minor": 2
}
