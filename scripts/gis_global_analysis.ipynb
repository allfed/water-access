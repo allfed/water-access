{
 "cells": [
  {
   "cell_type": "code",
   "execution_count": 1,
   "metadata": {},
   "outputs": [],
   "source": [
    "\n",
    "import pathlib\n",
    "import pandas as pd\n",
    "import numpy as np\n",
    "import matplotlib.pyplot as plt\n",
    "import plotly.express as px\n",
    "import weightedstats as ws\n"
   ]
  },
  {
   "attachments": {},
   "cell_type": "markdown",
   "metadata": {},
   "source": [
    "## Functions and tools used in the analysis"
   ]
  },
  {
   "cell_type": "code",
   "execution_count": 2,
   "metadata": {},
   "outputs": [],
   "source": [
    "def weighted_mean(var, wts):\n",
    "    \"\"\"Calculates the weighted mean\"\"\"\n",
    "    return np.average(var, weights=wts)\n",
    "\n",
    "def weighted_median_series(val, weight):\n",
    "    \"\"\"Calculates the weighted median\n",
    "    ArithmeticError\n",
    "    If the sum of the weights is zero, or if the weights are not positive.\n",
    "    \"\"\"\n",
    "    try:\n",
    "        df = pd.DataFrame({\"val\": val, \"weight\": weight})\n",
    "        df_sorted = df.sort_values(\"val\")\n",
    "        cumsum = df_sorted[\"weight\"].cumsum()\n",
    "        cutoff = df_sorted[\"weight\"].sum() / 2.\n",
    "        result = df_sorted[cumsum >= cutoff][\"val\"].iloc[0]\n",
    "        # return just the value\n",
    "    except:\n",
    "        result = np.nan\n",
    "    return result\n",
    "\n",
    "def weighted_median(df, val_column, weight_column):\n",
    "    \"\"\"Calculates the weighted median\n",
    "    ArithmeticError\n",
    "    If the sum of the weights is zero, or if the weights are not positive.\n",
    "    \"\"\"\n",
    "    df_sorted = df.sort_values(val_column)\n",
    "    cumsum = df_sorted[weight_column].cumsum()\n",
    "    cutoff = df_sorted[weight_column].sum() / 2.\n",
    "    return df_sorted[cumsum >= cutoff][val_column].iloc[0]\n",
    "\n",
    "def run_weighted_median_on_grouped_df(df, groupby_column, value_column, weight_column):\n",
    "    \"\"\"Calculate the weighted median of a dataframe grouped by a column.\n",
    "    Args:\n",
    "        df (pandas.DataFrame): DataFrame to calculate weighted median on.\n",
    "        groupby_column (str): Column to group by.\n",
    "        value_column (str): Column to calculate weighted median on.\n",
    "        weight_column (str): Column to use as weight.\n",
    "    Returns:\n",
    "        pandas.DataFrame: DataFrame with weighted median for each group.\n",
    "    \"\"\"\n",
    "    # initialize empty list\n",
    "    d = []\n",
    "    # loop through each group\n",
    "    for i in df[groupby_column].unique():\n",
    "        df_group = df[df[groupby_column] == i]\n",
    "        # if rows in dataframe are more than 1, calculate weighted median\n",
    "        if len(df_group) > 1:\n",
    "            median = weighted_median(df_group, value_column, weight_column)\n",
    "        else:\n",
    "            median = df_group[value_column].values[0]\n",
    "        d.append(\n",
    "            {\n",
    "                groupby_column: i,\n",
    "                \"median\": median,\n",
    "            }\n",
    "        )\n",
    "    return pd.DataFrame(d)\n",
    "\n",
    "\n",
    "def load_data(data_file: str) -> pd.DataFrame:\n",
    "    '''\n",
    "    Load data from /data directory\n",
    "    '''\n",
    "    PATH = pathlib.Path().resolve()\n",
    "    DATA_PATH = PATH.joinpath(\"../data\").resolve()\n",
    "    return pd.read_csv(DATA_PATH.joinpath(data_file))\n",
    "\n"
   ]
  },
  {
   "attachments": {},
   "cell_type": "markdown",
   "metadata": {},
   "source": [
    "## Import Data from CSVs.\n",
    "CSVs created in previous script, which did the cycling mobility on a per country basis\n",
    "\n",
    "### GIS Data From QGIS Export\n",
    "https://ghsl.jrc.ec.europa.eu/download.php?ds=smod <- urbanisation\n",
    "\n",
    "https://www.earthenv.org/topography <- topography\n",
    "\n",
    "https://www.globio.info/download-grip-dataset <- roads\n"
   ]
  },
  {
   "cell_type": "code",
   "execution_count": 3,
   "metadata": {},
   "outputs": [],
   "source": [
    "\n",
    "# Load the data\n",
    "urb_data_file = \"../data/GIS/GIS_data_zones.csv\"\n",
    "country_data_file = \"../data/processed/country_data_master_interpolated.csv\"\n",
    "export_file_location = \"../data/processed/\"\n",
    "\n",
    "df_zones_input = pd.read_csv(urb_data_file)\n",
    "df_input = pd.read_csv(country_data_file)\n",
    "\n",
    "# Data manipulation\n",
    "# Convert dtw_1 from meters to kilometers\n",
    "df_zones_input[\"dtw_1\"] /= 1000 \n",
    "\n",
    "\n",
    "# Option to calculate the distance, 1 = runs numerical calculation - takes about 15 mins on my macbook pro, 0 = uses csvs from previous run\n",
    "# only set to 1 if you'd like to recalculate the distance based on new parameters (changed load, changed Crrs etc)\n",
    "calculate_distance = 0\n"
   ]
  },
  {
   "cell_type": "markdown",
   "metadata": {},
   "source": [
    "# Manage Urban / Rural Data\n",
    "Use the GHS_SMOD_E2020_GLOBE_R2023A_54009_1000_V1_0 dataset.\n",
    "from here: https://ghsl.jrc.ec.europa.eu/download.php?ds=smod"
   ]
  },
  {
   "cell_type": "code",
   "execution_count": 4,
   "metadata": {},
   "outputs": [
    {
     "data": {
      "text/plain": [
       "0    2220541\n",
       "1      42618\n",
       "Name: urban_rural, dtype: int64"
      ]
     },
     "execution_count": 4,
     "metadata": {},
     "output_type": "execute_result"
    }
   ],
   "source": [
    "\n",
    "# create new binary column for urban / rural. Rural is below 15, Urban above 15\n",
    "df_zones_input[\"urban_rural\"] = np.where(df_zones_input[\"URBAN_1\"] > 15, 1, 0)\n",
    "df_zones_input[\"urban_rural\"].value_counts()\n"
   ]
  },
  {
   "cell_type": "markdown",
   "metadata": {},
   "source": [
    "# Manage slope.\n",
    "\n",
    "Degrees from earthenv dataset"
   ]
  },
  {
   "cell_type": "code",
   "execution_count": 5,
   "metadata": {},
   "outputs": [
    {
     "data": {
      "text/plain": [
       "0.00     0.000000\n",
       "0.05     0.097832\n",
       "0.10     0.138355\n",
       "0.15     0.218758\n",
       "0.20     0.280146\n",
       "0.25     0.360782\n",
       "0.30     0.450444\n",
       "0.35     0.548193\n",
       "0.40     0.656249\n",
       "0.45     0.787484\n",
       "0.50     0.935736\n",
       "0.55     1.121305\n",
       "0.60     1.358873\n",
       "0.65     1.667845\n",
       "0.70     2.111629\n",
       "0.75     2.770306\n",
       "0.80     3.795188\n",
       "0.85     5.369263\n",
       "0.90     7.810654\n",
       "0.95    11.961503\n",
       "Name: slope_1, dtype: float64"
      ]
     },
     "execution_count": 5,
     "metadata": {},
     "output_type": "execute_result"
    },
    {
     "data": {
      "image/png": "[encoded data removed]",
      "text/plain": [
       "<Figure size 640x480 with 1 Axes>"
      ]
     },
     "metadata": {},
     "output_type": "display_data"
    }
   ],
   "source": [
    "# histogram of slope_1 log scale\n",
    "df_zones_input[\"slope_1\"].hist(bins=100, log=False)\n",
    "\n",
    "# qunaitles of slope_1, do 20 quantiles\n",
    "df_zones_input[\"slope_1\"].quantile(np.arange(0, 1, 0.05))\n"
   ]
  },
  {
   "cell_type": "code",
   "execution_count": null,
   "metadata": {},
   "outputs": [],
   "source": []
  },
  {
   "cell_type": "markdown",
   "metadata": {},
   "source": [
    "# Manage Roads\n",
    "\n"
   ]
  },
  {
   "attachments": {},
   "cell_type": "markdown",
   "metadata": {},
   "source": [
    "## Merge the dataframes\n",
    "Do some manual adjustments to populations"
   ]
  },
  {
   "cell_type": "code",
   "execution_count": 6,
   "metadata": {},
   "outputs": [],
   "source": [
    "\n",
    "# this analysis loses some data as the overlap between the rasters is not perfect. To reduce this error, use the 30 arc second data. Too much heavy lifting for my computer to do this at the moment.\n",
    "\n",
    "#merge df_input and df_zones on ISO_CC. This assigns all the country data to each zone.\n",
    "# join inner will remove some of the data that is not in both datasets\n",
    "df_zones = df_zones_input.merge(df_input, left_on=\"ISOCODE\", right_on=\"alpha3\", how=\"inner\")\n",
    "\n",
    "# these are the columns\n",
    "# alpha3,Unnamed: 0,Entity,Population,YearPBO,PBO,Terrain Ruggedness,Urban %,Urban Agg %,RoadQuality,Km,Urb %,Average household size (number of members),National At Least Basic,National Limit (more than 30 mins),National Unimproved,National Surface Water,Nat Accesible On Premises,Nat Piped,Nat NonPiped,No. HPs,Year of HP estimate,2015 (C),No. HPs in 2015,Non-functional HPs,Functional HPS,Risk Score,alpha2,region,subregion,borders,Mean BMI (male),Mean BMI (female),Mean male height (cm),Mean female height (cm),women weight,men weight,percent_insufficient_activity,Average Weight,power,Crr,trip_velocity_mean,unloaded_velocity_mean,loaded_velocity_mean,velocitykgs,water_ration_kms\n",
    "\n",
    "#adjust population to account for 9 values per raster point (2.5 to 5 arc min resoltuions. 9 values per point)\n",
    "df_zones[\"AdjPopFloat\"] = df_zones[\"pop_count_15_1\"] / 9 \n",
    "\n",
    "# # convert population density to percent of national population on a per country basis, grouped by ISO_CC\n",
    "df_zones[\"pop_density_perc\"] = df_zones.groupby(\"ISOCODE\")[\"AdjPopFloat\"].apply(lambda x: x / x.sum())\n",
    "\n",
    "# multiply population density by population on a per country basis\n",
    "df_zones[\"pop_zone\"] = df_zones[\"pop_density_perc\"] * df_zones[\"Population\"]\n",
    "\n"
   ]
  },
  {
   "cell_type": "code",
   "execution_count": 7,
   "metadata": {},
   "outputs": [],
   "source": [
    "# sum the population in each zone\n",
    "df_zones[\"country_pop_raw\"] = df_zones.groupby(\"ISOCODE\")[\"pop_zone\"].transform(\"sum\")\n",
    "df_zones[\"country_pop_ratio\"] = df_zones.groupby(\"ISOCODE\")[\"AdjPopFloat\"].transform(\"sum\")\n"
   ]
  },
  {
   "cell_type": "code",
   "execution_count": 8,
   "metadata": {},
   "outputs": [],
   "source": [
    "# trim the dataframe to only include rows where there is a population\n",
    "# find non zero values AdjPopFloat\n",
    "df_zones[\"any_pop\"] = df_zones[\"AdjPopFloat\"].apply(\n",
    "    lambda x: 1 if x > 10 else 0\n",
    ")\n",
    "df_zones = df_zones[df_zones[\"any_pop\"] == 1]\n"
   ]
  },
  {
   "cell_type": "markdown",
   "metadata": {},
   "source": [
    "## Do Road Analysis from GRIP Data"
   ]
  },
  {
   "cell_type": "code",
   "execution_count": 9,
   "metadata": {},
   "outputs": [
    {
     "data": {
      "text/plain": [
       "<AxesSubplot:>"
      ]
     },
     "execution_count": 9,
     "metadata": {},
     "output_type": "execute_result"
    },
    {
     "data": {
      "image/png": "[encoded data removed]",
      "text/plain": [
       "<Figure size 640x480 with 1 Axes>"
      ]
     },
     "metadata": {},
     "output_type": "display_data"
    }
   ],
   "source": [
    "# Define the columns to work with\n",
    "columns = [\"grip_1_1\", \"grip_2_1\", \"grip_3_1\", \"grip_4_1\", \"grip_5_1\"]\n",
    "\n",
    "# Create a numpy array from the DataFrame for faster processing\n",
    "data = df_zones[columns].to_numpy()\n",
    "\n",
    "# Find the index of the first non-zero value in each row\n",
    "non_zero_indices = np.argmax(data != 0, axis=1)\n",
    "\n",
    "# Handle rows with all zeros\n",
    "all_zeros = np.all(data == 0, axis=1)\n",
    "non_zero_indices[all_zeros] = -1  # Set a distinct value for rows with all zeros\n",
    "\n",
    "# Map indices to road types\n",
    "road_types = np.array(['No Roads', 'Highways', 'Primary Roads', 'Secondary Roads', 'Tertiary Roads', 'Local Roads'])\n",
    "\n",
    "# Assign the dominant road type\n",
    "df_zones['dominant_road_type'] = road_types[non_zero_indices + 1]  # +1 to adjust for 'No Roads'\n",
    "\n",
    "# Histogram of dominant road type\n",
    "df_zones['dominant_road_type'].value_counts().plot(kind='bar')\n"
   ]
  },
  {
   "cell_type": "code",
   "execution_count": 10,
   "metadata": {},
   "outputs": [],
   "source": [
    "# Load the CSV file\n",
    "df_crr = pd.read_csv(\"../data/lookup tables/Crr.csv\")\n",
    "\n",
    "# Create a dictionary from the DataFrame\n",
    "crr_mapping = pd.Series(df_crr.Crr.values, index=df_crr['Assigned Zone Surface']).to_dict()\n",
    "\n",
    "# Map the road types in df_zones to Crr values\n",
    "df_zones['Crr'] = df_zones['dominant_road_type'].map(crr_mapping)\n",
    "\n",
    "# Now df_zones will have an additional column 'Crr' containing the corresponding Crr values\n"
   ]
  },
  {
   "attachments": {},
   "cell_type": "markdown",
   "metadata": {},
   "source": [
    "## The section below calculates the population per zone that can reach water\n",
    "\n",
    "Consider putting in household size and bike sharing here"
   ]
  },
  {
   "cell_type": "code",
   "execution_count": 11,
   "metadata": {},
   "outputs": [],
   "source": [
    "load_attempt = 25 # kg\n",
    "\n",
    "calculate_distance = 1\n",
    "if calculate_distance:\n",
    "    # Calculate the bicycle distance\n",
    "    import sys\n",
    "    from pathlib import Path\n",
    "\n",
    "    # Resolve project root and update sys.path\n",
    "    project_root = Path().resolve().parent\n",
    "    sys.path.append(str(project_root))\n",
    "    \n",
    "    import src.mobility_module as mm\n",
    "\n",
    "    # Import data\n",
    "    file_path_params = \"../data/lookup tables/mobility-model-parameters.csv\"\n",
    "    allHPV_param_df = pd.read_csv(file_path_params)\n",
    "    param_df = allHPV_param_df[allHPV_param_df[\"Name\"] == \"Bicycle\"]\n",
    "\n",
    "    # Initialize model options and variables\n",
    "    mo = mm.model_options()\n",
    "    mo.model_selection = 2  # Cycling model\n",
    "\n",
    "    mv = mm.model_variables()\n",
    "    met = mm.MET_values(mv)\n",
    "    hpv = mm.HPV_variables(param_df, mv)\n",
    "\n",
    "    # Ensure that the 'Crr' column is in the correct format (e.g., float)\n",
    "    df_zones['Crr'] = df_zones['Crr'].astype(float)\n",
    "\n",
    "    # Extract slope and Crr values\n",
    "    slope_zones = df_zones[\"slope_1\"]\n",
    "    Crr_values = df_zones[\"Crr\"]\n",
    "\n",
    "    # Model run setup\n",
    "    n_runs = len(slope_zones)\n",
    "\n",
    "    # Initialize result vectors\n",
    "    results = np.zeros((n_runs, 3))\n",
    "\n",
    "    # Run model with both slope and Crr\n",
    "    for i, (slope, crr) in enumerate(zip(slope_zones, Crr_values)):\n",
    "        hpv.Crr = crr\n",
    "        results[i] = mm.mobility_models.single_bike_run(mv, mo, hpv, slope, load_attempt) \n",
    "    # Unpack results\n",
    "    loaded_velocity_vec, unloaded_velocity_vec, max_load_vec = results.T\n",
    "\n",
    "    # average velocity between loaded and unloaded\n",
    "    average_velocity = (loaded_velocity_vec + unloaded_velocity_vec) / 2\n",
    "\n",
    "    # save the results csv\n",
    "    df_zones[\"loaded_velocity_bicycle\"] = loaded_velocity_vec\n",
    "    df_zones[\"unloaded_velocity_bicycle\"] = unloaded_velocity_vec\n",
    "    df_zones[\"average_velocity_bicycle\"] = average_velocity\n",
    "    df_zones[\"max_load_bicycle\"] = max_load_vec\n",
    "\n",
    "    #only save the newly created cols in the csv\n",
    "    df_zones[[\"fid\", \"loaded_velocity_bicycle\", \"unloaded_velocity_bicycle\", \"average_velocity_bicycle\", \"max_load_bicycle\"]].to_csv(export_file_location + \"bicycle_velocity_by_zone.csv\")\n",
    "\n",
    "else:\n",
    "    # load the results csv\n",
    "    df_zones_bicycle = pd.read_csv(export_file_location + \"bicycle_velocity_by_zone.csv\")\n",
    "\n",
    "    # merge the results with the main df\n",
    "    df_zones = df_zones.merge(df_zones_bicycle, on=\"fid\", how=\"left\")\n",
    "\n"
   ]
  },
  {
   "cell_type": "code",
   "execution_count": 12,
   "metadata": {},
   "outputs": [],
   "source": [
    "load_attempt = 20 # kg\n",
    "\n",
    "if calculate_distance:\n",
    "    # Calculate the walking distance\n",
    "    import sys\n",
    "    from pathlib import Path\n",
    "\n",
    "\n",
    "    # Resolve project root and update sys.path\n",
    "    project_root = Path().resolve().parent\n",
    "    sys.path.append(str(project_root))\n",
    "    \n",
    "    import src.mobility_module as mm\n",
    "\n",
    "    # Import data\n",
    "    file_path_params = \"../data/lookup tables/mobility-model-parameters.csv\"\n",
    "    allHPV_param_df = pd.read_csv(file_path_params)\n",
    "    param_df = allHPV_param_df[allHPV_param_df[\"Name\"] == \"Buckets\"]\n",
    "\n",
    "    # Initialize model options and variables\n",
    "    mo = mm.model_options()\n",
    "    mo.model_selection = 3  # Lankford model\n",
    "\n",
    "    mv = mm.model_variables()\n",
    "    met = mm.MET_values(mv)\n",
    "    hpv = mm.HPV_variables(param_df, mv)\n",
    "\n",
    "    # Ensure that the 'Crr' column is in the correct format (e.g., float)\n",
    "    df_zones['Crr'] = df_zones['Crr'].astype(float)\n",
    "\n",
    "    # Extract slope and Crr values\n",
    "    slope_zones = df_zones[\"slope_1\"]\n",
    "    Crr_values = df_zones[\"Crr\"]\n",
    "\n",
    "    # Model run setup\n",
    "    n_runs = len(slope_zones)\n",
    "\n",
    "    # Initialize result vectors\n",
    "    results = np.zeros((n_runs, 3))\n",
    "\n",
    "    # Run model with both slope and Crr\n",
    "    for i, (slope) in enumerate(slope_zones):\n",
    "        results[i] = mm.mobility_models.single_lankford_run(mv, mo, met, hpv, slope, load_attempt)\n",
    "    # Unpack results\n",
    "    loaded_velocity_vec, unloaded_velocity_vec, max_load_vec = results.T\n",
    "\n",
    "    # average velocity between loaded and unloaded\n",
    "    average_velocity = (loaded_velocity_vec + unloaded_velocity_vec) / 2\n",
    "\n",
    "    # save the results csv\n",
    "    df_zones[\"loaded_velocity_walk\"] = loaded_velocity_vec\n",
    "    df_zones[\"unloaded_velocity_walk\"] = unloaded_velocity_vec\n",
    "    df_zones[\"average_velocity_walk\"] = average_velocity\n",
    "    df_zones[\"max_load_walk\"] = max_load_vec\n",
    "\n",
    "    #only save the newly created cols in the csv\n",
    "    df_zones[[\"fid\", \"loaded_velocity_walk\", \"unloaded_velocity_walk\", \"average_velocity_walk\", \"max_load_walk\"]].to_csv(export_file_location + \"walk_velocity_by_zone.csv\")\n",
    "\n",
    "else:\n",
    "    # load the results csv\n",
    "    df_zones_walking = pd.read_csv(export_file_location + \"walk_velocity_by_zone.csv\")\n",
    "\n",
    "    # merge the results with the main df\n",
    "    df_zones = df_zones.merge(df_zones_walking, on=\"fid\", how=\"left\")\n",
    "\n"
   ]
  },
  {
   "cell_type": "code",
   "execution_count": 13,
   "metadata": {},
   "outputs": [],
   "source": [
    "time_gathering_water = 16\n",
    "df_zones[\"max distance cycling\"] = df_zones[\"average_velocity_bicycle\"] * time_gathering_water / 2 # max distance achievable (not round trip, just the distance from home to water source)\n",
    "df_zones[\"max distance walking\"] = df_zones[\"average_velocity_walk\"] * time_gathering_water / 2\n",
    "df_zones[\"water_ration_kms\"] = df_zones[\"max distance cycling\"] * df_zones[\"max_load_bicycle\"]"
   ]
  },
  {
   "cell_type": "code",
   "execution_count": 14,
   "metadata": {},
   "outputs": [],
   "source": [
    "# # population with piped water\n",
    "\n",
    "# set df_zones[\"zone_pop_piped\"] to 0 for all zones to begin with\n",
    "df_zones[\"zone_pop_piped\"] = 0\n",
    "\n",
    "# if urban use urban piped and unpiped, if rural use rural piped and unpiped\n",
    "# use the urban_rural column to do this (where urban_rural = 1, use urban, where urban_rural = 0, use rural)\n",
    "df_zones[\"zone_pop_piped\"] = df_zones[\"pop_zone\"] * df_zones[\"urban_rural\"] * df_zones[\"URBANPiped\"]/100 + df_zones[\"pop_zone\"] * (1-df_zones[\"urban_rural\"]) * df_zones[\"RURALPiped\"]/100\n",
    "df_zones[\"zone_pop_unpiped\"] = df_zones[\"pop_zone\"] * df_zones[\"urban_rural\"] * df_zones[\"URBANNon-piped\"]/100 + df_zones[\"pop_zone\"] * (1-df_zones[\"urban_rural\"]) * df_zones[\"RURALNon-piped\"]/100\n",
    "\n",
    "# is it possible to reach water with walking/cycling\n",
    "df_zones[\"zone_cycling_okay\"] = (df_zones[\"dtw_1\"] < df_zones[\"max distance cycling\"])*1 # multiply by 1 to force to binary not true/false\n",
    "df_zones[\"zone_walking_okay\"] = (df_zones[\"dtw_1\"] < df_zones[\"max distance walking\"])*1\n",
    "\n",
    "# how many people can collect water in the zone\n",
    "df_zones[\"fraction_of_zone_with_cycling_access\"] = df_zones[\"zone_cycling_okay\"]* (df_zones[\"PBO\"])/100\n",
    "df_zones[\"fraction_of_zone_with_walking_access\"] = df_zones[\"zone_walking_okay\"] * 1\n",
    "\n",
    "#\n",
    "df_zones[\"population_piped_with_cycling_access\"] = df_zones[\"fraction_of_zone_with_cycling_access\"] * df_zones[\"zone_pop_piped\"]\n",
    "df_zones[\"population_piped_with_walking_access\"] = df_zones[\"fraction_of_zone_with_walking_access\"] * df_zones[\"zone_pop_piped\"]\n",
    "\n",
    "# select the maximum between the two, if walkable, max will always be walking\n",
    "df_zones[\"population_piped_with_access\"] = df_zones[[\"population_piped_with_cycling_access\", \"population_piped_with_walking_access\"]].max(axis=1)\n",
    "\n",
    "# zone pop without water\n",
    "df_zones[\"zone_pop_with_water\"] =  df_zones[\"population_piped_with_access\"] + df_zones[\"zone_pop_unpiped\"]\n",
    "df_zones[\"zone_pop_without_water\"] = df_zones[\"pop_zone\"] - df_zones[\"zone_pop_with_water\"]\n",
    "\n",
    "# use water_ration_kms to calculate the water ration achievable per bike per zone\n",
    "df_zones[\"water_rations_per_bike\"] = df_zones[\"water_ration_kms\"] / df_zones[\"dtw_1\"]\n",
    "\n",
    "# number oif bikes per zone is population divided by household nuymber multipled by PBO\n",
    "df_zones[\"bikes_in_zone\"] = df_zones[\"pop_zone\"] / df_zones[\"Average household size (number of members)\"] * df_zones[\"PBO\"]\n",
    "\n",
    "#water rations achievable utilising all the bikes in the zone is the number of bikes in the zone multiplied by the water rations per bike\n",
    "df_zones[\"water_rations_achievable\"] = df_zones[\"bikes_in_zone\"] * df_zones[\"water_rations_per_bike\"]\n",
    "\n"
   ]
  },
  {
   "cell_type": "code",
   "execution_count": 15,
   "metadata": {},
   "outputs": [
    {
     "data": {
      "text/plain": [
       "count    1.481674e+06\n",
       "mean     1.646975e+03\n",
       "std      8.653241e+03\n",
       "min      0.000000e+00\n",
       "25%      6.560864e+00\n",
       "50%      4.893252e+01\n",
       "75%      5.727339e+02\n",
       "max      1.127543e+06\n",
       "Name: zone_pop_unpiped, dtype: float64"
      ]
     },
     "execution_count": 15,
     "metadata": {},
     "output_type": "execute_result"
    }
   ],
   "source": [
    "df_zones[\"zone_pop_unpiped\"].describe()"
   ]
  },
  {
   "attachments": {},
   "cell_type": "markdown",
   "metadata": {},
   "source": [
    "## Group the zones in to country groups\n",
    "Use groupby agg and then apply to summarise the zone data in to country level, then create some summary columns"
   ]
  },
  {
   "cell_type": "code",
   "execution_count": 16,
   "metadata": {},
   "outputs": [],
   "source": [
    "# use groupby to create dataframe of country level data from df_zones\n",
    "df_countries = df_zones.groupby(\"ISOCODE\").agg({\n",
    "    \"Entity\":\"first\",\n",
    "    \"country_pop_raw\": \"first\",\n",
    "    \"zone_pop_with_water\":\"sum\",\n",
    "    \"zone_pop_without_water\":\"sum\",\n",
    "    \"population_piped_with_access\":\"sum\"  ,\n",
    "    \"population_piped_with_cycling_access\":\"sum\",\n",
    "    \"population_piped_with_walking_access\":\"sum\",\n",
    "    \"Nat Piped\":\"first\",\n",
    "    \"region\":\"first\",\n",
    "    \"subregion\":\"first\",\n",
    "    # call the weighted median function on the column\n",
    "}).reset_index()\n",
    "\n",
    "# use groupby to create weighted median, needs to be speerate from the above groupby as it uses apply, which can't be used in the same groupby\n",
    "# needs to use apply because the function required two columns as input\n",
    "df_median_group = df_zones.groupby(['ISOCODE']).apply(lambda x : pd.Series({'weighted_med':weighted_median(x,\"dtw_1\",\"pop_zone\")}))\n",
    "\n",
    "# merge the weighted median back into the df_countries dataframe\n",
    "df_countries = df_countries.merge(df_median_group, on=\"ISOCODE\")\n",
    "\n",
    "# drop rows from the dataframe that have Nan in pop_zone and dtw_1\n",
    "df_zones = df_zones.dropna(subset=[\"pop_zone\", \"dtw_1\"])\n",
    "\n",
    "# create summary columns\n",
    "#rename zone columns to country\n",
    "df_countries = df_countries.rename(columns={\"zone_pop_with_water\":\"country_pop_with_water\", \"zone_pop_without_water\":\"country_pop_without_water\"})\n",
    "# create percent\n",
    "df_countries[\"percent_with_water\"] = df_countries[\"country_pop_with_water\"] / df_countries[\"country_pop_raw\"] * 100\n",
    "df_countries[\"percent_without_water\"] = df_countries[\"country_pop_without_water\"] / df_countries[\"country_pop_raw\"] * 100"
   ]
  },
  {
   "attachments": {},
   "cell_type": "markdown",
   "metadata": {},
   "source": [
    "Clean Up Data"
   ]
  },
  {
   "cell_type": "code",
   "execution_count": 17,
   "metadata": {},
   "outputs": [
    {
     "name": "stdout",
     "output_type": "stream",
     "text": [
      "Countries removed from analysis\n",
      "               Entity  weighted_med\n",
      "42       Cook Islands   1421.425000\n",
      "44            Comoros    314.070094\n",
      "45         Cape Verde    622.286875\n",
      "49     Cayman Islands    287.167188\n",
      "146           Mayotte    283.397312\n",
      "152              Niue    426.276906\n",
      "171  French Polynesia   1932.213000\n",
      "181      Saint Helena   2403.565000\n",
      "Countries removed manually\n",
      "                       Entity  weighted_med\n",
      "0                       Aruba     87.800906\n",
      "10        Antigua and Barbuda     64.350602\n",
      "29                   Barbados    144.138797\n",
      "54                   Dominica     69.260383\n",
      "85                       Guam     20.615529\n",
      "138  Northern Mariana Islands    204.364906\n"
     ]
    }
   ],
   "source": [
    "# Clean up data from spurious country values\n",
    "# uses libya as the max possible diatnce to water (from Kummu paper results)\n",
    "\n",
    "# remove any nan rows\n",
    "df_countries = df_countries.dropna()\n",
    "\n",
    "\n",
    "# first pass clean up\n",
    "\n",
    "# remove any rows where the median is more than 1km more than \"LBY\" (Libya)'s median these are clerly errors as no-country can be further than Libya (based on inspection of Kummu Results)\n",
    "max_distance = df_countries.loc[df_countries[\"ISOCODE\"] == \"LBY\", \"weighted_med\"].values[0] + 1\n",
    "countries_further_than_libya = df_countries[df_countries[\"weighted_med\"] > max_distance]\n",
    "df_countries = df_countries[df_countries[\"weighted_med\"] < max_distance]\n",
    "\n",
    "####### Manual remove countries ###############\n",
    "# inspecting the results, there are a few countries that are clearly wrong, remove them manually\n",
    "list_of_countries_to_remove = [\"GUM\", \"ASM\", \"TON\", \"MNP\", \"ATG\", \"DMA\", \"ABW\", \"BRB\"]\n",
    "df_of_countries_to_remove = df_countries[df_countries[\"ISOCODE\"].isin(list_of_countries_to_remove)]\n",
    "df_countries = df_countries[~df_countries[\"ISOCODE\"].isin(list_of_countries_to_remove)]\n",
    "##############################\n",
    "\n",
    "\n",
    "# summary of removed countries\n",
    "print(\"Countries removed from analysis\")\n",
    "print(countries_further_than_libya[[\"Entity\", \"weighted_med\"]])\n",
    "print(\"Countries removed manually\")\n",
    "print(df_of_countries_to_remove[[\"Entity\", \"weighted_med\"]])\n",
    "\n",
    "\n",
    "\n",
    "\n"
   ]
  },
  {
   "attachments": {},
   "cell_type": "markdown",
   "metadata": {},
   "source": [
    "# Plotting and Visualising"
   ]
  },
  {
   "cell_type": "code",
   "execution_count": 18,
   "metadata": {},
   "outputs": [
    {
     "data": {
      "application/vnd.plotly.v1+json": {
       "config": {
        "plotlyServerURL": "https://plot.ly"
       },
       "data": [
        {
         "coloraxis": "coloraxis",
         "customdata": [
          [
           "Afghanistan",
           39835428,
           29491785.485566553,
           10343642.514433445,
           5312982.1028309865,
           1081789.0919548355,
           5238744.566248774,
           25.96593794456895,
           74.03406205543104,
           22,
           "Asia",
           "Southern Asia",
           5.8309521484375
          ],
          [
           "Angola",
           33933611,
           14863795.192871625,
           19069815.807128374,
           5857758.894560541,
           247934.001395202,
           5826516.96447918,
           56.19742563539252,
           43.80257436460748,
           42,
           "Africa",
           "Middle Africa",
           4.12310498046875
          ],
          [
           "Albania",
           2872934,
           2719445.659896209,
           153488.34010379127,
           2140071.86875565,
           364904.8090923837,
           2140071.86875565,
           5.34256408618476,
           94.65743591381525,
           81,
           "Europe",
           "Southern Europe",
           2.23606811523438
          ],
          [
           "Andorra",
           77354,
           77354,
           9.094947017729282e-13,
           77354,
           0,
           77354,
           1.175756524255925e-15,
           100,
           100,
           "Europe",
           "Southern Europe",
           4.12310498046875
          ],
          [
           "United Arab Emirates",
           9991083,
           12936.228808498234,
           9978134.337676156,
           12936.228808498234,
           12386.042751153818,
           550.1860573444166,
           99.87039781048918,
           0.12947774338876208,
           100,
           "Asia",
           "Western Asia",
           171.819703125
          ],
          [
           "Argentina",
           45605823,
           33073857.21536854,
           12519029.315119455,
           29307814.9518621,
           15865376.244423976,
           24742011.31490482,
           27.450506298547566,
           72.52112787300985,
           96,
           "Americas",
           "South America",
           6
          ],
          [
           "Armenia",
           2968128,
           2897297.490784339,
           70830.50921566114,
           2897297.490784339,
           95584.75144548203,
           2897139.312932453,
           2.3863697662520327,
           97.61363023374797,
           100,
           "Asia",
           "Western Asia",
           2.82842700195312
          ],
          [
           "Australia",
           25788216.999999996,
           22210236.573221635,
           3476795.598695794,
           20189695.148082364,
           5826129.963120679,
           19855259.873221368,
           13.48210928539881,
           86.12552226166562,
           91,
           "Oceania",
           "Australia and New Zealand",
           2.82842700195312
          ],
          [
           "Austria",
           9043071.999999998,
           8985275.052309869,
           57796.947690130335,
           8977203.147550538,
           2868508.009057299,
           8923003.968419245,
           0.6391295755483352,
           99.36087042445168,
           99.4285714285714,
           "Europe",
           "Western Europe",
           2.82842700195312
          ],
          [
           "Azerbaijan",
           10223343.999999998,
           9727415.702746509,
           495917.6300006062,
           8801558.701070711,
           488842.6613169688,
           8795359.741825847,
           4.850835793069335,
           95.14905986482026,
           91,
           "Asia",
           "Western Asia",
           2.23606811523438
          ],
          [
           "Burundi",
           12255429.000000002,
           10378805.100134123,
           1876623.8998658783,
           6886304.91957381,
           1090755.7428971042,
           6884757.610520595,
           15.312592483428187,
           84.68740751657181,
           38,
           "Africa",
           "Eastern Africa",
           3.16227807617188
          ],
          [
           "Belgium",
           11632334,
           11138873.589861032,
           493460.4101389686,
           11138873.589861032,
           2419602.6935591116,
           10994124.812884003,
           4.242144440994976,
           95.75785555900502,
           100,
           "Europe",
           "Western Europe",
           3.16227807617188
          ],
          [
           "Benin",
           12451031,
           8453152.837689582,
           3997878.162310417,
           3441191.441543055,
           1394254.6999014195,
           3192603.6294023707,
           32.10881221250206,
           67.89118778749794,
           37,
           "Africa",
           "Western Africa",
           5
          ],
          [
           "Burkina Faso",
           21497097,
           14993480.355892748,
           6503616.644107254,
           2937168.815393223,
           2544929.942645534,
           1701866.587536215,
           30.253464661331964,
           69.74653533866805,
           28,
           "Africa",
           "Western Africa",
           10.2956298828125
          ],
          [
           "Bangladesh",
           166303494,
           163676518.70926234,
           2626975.2907376443,
           41644969.628901914,
           6746008.901251904,
           41495459.05963585,
           1.5796272390630857,
           98.4203727609369,
           15,
           "Asia",
           "Southern Asia",
           2.82842700195312
          ],
          [
           "Bulgaria",
           6896655,
           6434320.926026767,
           462325.7236184884,
           6434320.926026767,
           946270.6388281537,
           6418740.267948992,
           6.703622605719561,
           93.29625631594979,
           100,
           "Europe",
           "Eastern Europe",
           3.16227807617188
          ],
          [
           "Bahamas",
           396913.9999999999,
           250963.1075821695,
           145280.83487012773,
           166538.296912372,
           48515.76517922163,
           152603.3475210559,
           36.60259775924452,
           63.22858543215144,
           97,
           "Americas",
           "Caribbean",
           5.09902001953125
          ],
          [
           "Bosnia and Herzegovina",
           3263459,
           3011739.3946920666,
           251719.60530793315,
           2794349.3500136216,
           815055.634905589,
           2786265.63725718,
           7.71327616825991,
           92.28672383174008,
           95,
           "Europe",
           "Southern Europe",
           3.16227807617188
          ],
          [
           "Belarus",
           9442867,
           9146126.16401541,
           296740.8359845893,
           8457833.853022909,
           2384528.2576993634,
           8381549.409577587,
           3.1424866619914193,
           96.85751333800859,
           96,
           "Europe",
           "Eastern Europe",
           3
          ],
          [
           "Belize",
           404915,
           376879.90462635696,
           27977.685090303818,
           295908.3866830248,
           203774.29922600018,
           290435.77085556893,
           6.909520538953561,
           93.07630110674016,
           87,
           "Americas",
           "Central America",
           2.82842700195312
          ],
          [
           "Bolivia",
           11832936,
           9051750.704250826,
           2780986.1631547003,
           2421220.8332633856,
           618953.1411982542,
           2311515.838092406,
           23.502080659903005,
           76.49623647293305,
           69,
           "Americas",
           "South America",
           5.3851650390625
          ],
          [
           "Brazil",
           213993441,
           160849090.83838326,
           53080097.0275504,
           147555287.63914979,
           66430379.58675201,
           139855992.33104253,
           24.804543905413624,
           75.16543034530822,
           98,
           "Americas",
           "South America",
           5
          ],
          [
           "Brunei",
           441532.0000000001,
           400180.1456447931,
           41351.854355206975,
           375709.224954557,
           143649.0201053382,
           375709.224954557,
           9.3655396109924,
           90.6344603890076,
           100,
           "Asia",
           "South-Eastern Asia",
           2.23606811523438
          ],
          [
           "Bhutan",
           779900.0000000001,
           640623.2735926057,
           139276.72640739437,
           640623.2735926057,
           11619.648970480044,
           640276.1686613747,
           17.85828008813878,
           82.14171991186122,
           100,
           "Asia",
           "Southern Asia",
           4
          ],
          [
           "Botswana",
           2397240,
           721105.4089370733,
           1675596.037405596,
           301180.5918389913,
           108037.27284197093,
           235385.1747272223,
           69.89688297398658,
           30.080651454884507,
           91,
           "Africa",
           "Southern Africa",
           33.94112890625
          ],
          [
           "Central African Republic",
           4919987,
           2425225.6329302173,
           2492965.668041272,
           97887.42682450385,
           18482.346660762447,
           97887.42682450385,
           50.67016778786757,
           49.29333416796055,
           14,
           "Africa",
           "Middle Africa",
           3
          ],
          [
           "Canada",
           38067913.00000001,
           33808129.49505174,
           4210661.621347264,
           33808129.49505174,
           11919351.680122554,
           33197080.791765958,
           11.060920574624786,
           88.81004192442002,
           100,
           "Americas",
           "Northern America",
           3
          ],
          [
           "Switzerland",
           8715494,
           8643614.318428796,
           71879.68157120491,
           8643614.318428796,
           1535155.695083062,
           8643614.318428796,
           0.8247344507517866,
           99.17526554924822,
           100,
           "Europe",
           "Western Europe",
           2.82842700195312
          ],
          [
           "Chile",
           19212362,
           15195984.625035733,
           4006008.2901652916,
           15195984.625035733,
           3236244.351546633,
           15068801.709568402,
           20.851201378390076,
           79.09482772100449,
           100,
           "Americas",
           "South America",
           4
          ],
          [
           "China",
           1444216102,
           1302619580.5280743,
           141571672.01338258,
           1050297582.8322839,
           295076509.07459044,
           1036478641.5989586,
           9.802665391787924,
           90.19561398908114,
           80,
           "Asia",
           "Eastern Asia",
           3.16227807617188
          ],
          [
           "Cote d'Ivoire",
           27053628.999999996,
           18084140.247782722,
           8969488.752217274,
           7083271.832810729,
           2876350.3497599186,
           6750295.367317396,
           33.1544753283091,
           66.84552467169091,
           42,
           "Africa",
           "Western Africa",
           4.12310498046875
          ],
          [
           "Cameroon",
           27224262,
           18282594.164224744,
           8941667.835775254,
           4787188.298333274,
           595183.8499356905,
           4744389.676197693,
           32.84448201304871,
           67.15551798695128,
           36,
           "Africa",
           "Middle Africa",
           3.60555102539062
          ],
          [
           "Democratic Republic of Congo",
           92377986,
           33722952.7433413,
           58654702.499901764,
           11708845.978384119,
           2172851.714137563,
           11694830.109413039,
           63.49424255677296,
           36.50539939606531,
           35,
           "Africa",
           "Middle Africa",
           3
          ],
          [
           "Congo",
           5657017,
           3058721.899106121,
           2598295.1008938793,
           1013420.5723529806,
           54717.19937725314,
           1012784.3014399782,
           45.93048069139405,
           54.06951930860595,
           53,
           "Africa",
           "Middle Africa",
           2
          ],
          [
           "Colombia",
           51265841,
           41847570.70635707,
           9418249.53323811,
           29321830.04885189,
           6755898.90007159,
           29150542.694473833,
           18.37139379657911,
           81.62856570783082,
           89,
           "Americas",
           "South America",
           3.60555102539062
          ],
          [
           "Costa Rica",
           5139053,
           4755714.284071721,
           383336.9097358469,
           4755714.284071721,
           1911263.8382496277,
           4739114.3086727755,
           7.459290840858168,
           92.54067401273583,
           100,
           "Americas",
           "Central America",
           3.16227807617188
          ],
          [
           "Cuba",
           11317498,
           9651125.703735774,
           1666327.310092869,
           5453259.657244875,
           1068679.4175770325,
           5282658.433849102,
           14.723460168430064,
           85.27614233937373,
           80,
           "Americas",
           "Caribbean",
           4.47213623046875
          ],
          [
           "Cyprus",
           1215588,
           896912.3211862523,
           318675.67881374765,
           896912.3211862523,
           170020.76980464926,
           878346.8675421176,
           26.215763796100955,
           73.78423620389904,
           100,
           "Europe",
           "Southern Europe",
           5
          ],
          [
           "Czechia",
           10724553,
           10267493.628943134,
           457059.371056867,
           10267493.628943134,
           2843475.626652527,
           10190274.992468573,
           4.261803462175692,
           95.73819653782432,
           100,
           "Europe",
           "Eastern Europe",
           3.16227807617188
          ],
          [
           "Germany",
           83900471.00000001,
           79733906.0900018,
           4166564.909998204,
           79733906.0900018,
           26413605.038948335,
           78194956.99872515,
           4.966080476470988,
           95.03391952352901,
           100,
           "Europe",
           "Western Europe",
           3.16227807617188
          ],
          [
           "Djibouti",
           1002197,
           324085.2594469496,
           678111.7405530504,
           18323.936729315334,
           2846.311586169133,
           16643.517899632683,
           67.66251949996362,
           32.33748050003638,
           83,
           "Africa",
           "Eastern Africa",
           38.83298046875
          ],
          [
           "Denmark",
           5813302.000000001,
           4602115.48697759,
           1211186.5130224098,
           4602115.48697759,
           2095187.1623177829,
           4501064.6466847425,
           20.834742681911408,
           79.16525731808858,
           100,
           "Europe",
           "Northern Europe",
           3.60555102539062
          ],
          [
           "Dominican Republic",
           10953714,
           9185109.375248842,
           1768602.8399628813,
           6543067.1298749335,
           64798.06666554147,
           6540272.501235978,
           16.14614768984183,
           83.85383601624838,
           81,
           "Americas",
           "Caribbean",
           3.60555102539062
          ],
          [
           "Algeria",
           44616625.99999999,
           32374993.83291511,
           12193767.961614784,
           15696088.61554586,
           2340305.55453556,
           15360839.055016292,
           27.33009878787066,
           72.56262235722421,
           72,
           "Africa",
           "Northern Africa",
           7.28010986328125
          ],
          [
           "Ecuador",
           17888473.999999996,
           13730864.320924507,
           4157416.8445537942,
           11840055.619994938,
           4082054.2993210987,
           11485077.779568302,
           23.240757398053045,
           76.75816461999224,
           91,
           "Americas",
           "South America",
           4.12310498046875
          ],
          [
           "Egypt",
           104258326.99999999,
           76737259.19767737,
           27519945.23207311,
           76737259.19767737,
           5951620.86877744,
           76417478.43732801,
           26.395920617518748,
           73.60300266248986,
           100,
           "Africa",
           "Northern Africa",
           3.60555102539062
          ],
          [
           "Eritrea",
           3601462,
           1738091.2475175404,
           1863337.1599287207,
           326085.4890513643,
           23339.62658605946,
           324109.6825297652,
           51.73835403313212,
           48.260713219174335,
           52,
           "Africa",
           "Eastern Africa",
           21.09501953125
          ],
          [
           "Western Sahara",
           611871.9999999999,
           178745.1687011298,
           427713.5330924733,
           8065.442629822555,
           3560.432009546596,
           5470.929039352248,
           69.9024523254003,
           29.212836786309854,
           68.3333333333333,
           "Africa",
           "Northern Africa",
           137.295296875
          ],
          [
           "Spain",
           46745211,
           38929395.95607463,
           7815805.230620679,
           38929395.95607463,
           6559323.561295386,
           38473100.7817067,
           16.72001273161582,
           83.2799662752076,
           100,
           "Europe",
           "Southern Europe",
           4
          ],
          [
           "Estonia",
           1325188.0000000002,
           1189698.7896667009,
           135397.55523381275,
           1189698.7896667009,
           193652.51088505765,
           1180699.389798011,
           10.21723372335191,
           89.77584989199273,
           93,
           "Europe",
           "Northern Europe",
           2.82842700195312
          ],
          [
           "Ethiopia",
           117876225.99999999,
           70413971.36036699,
           47462254.639633015,
           26642662.599456925,
           442460.5093141479,
           26575092.691242076,
           40.26448440895369,
           59.735515591046315,
           41,
           "Africa",
           "Eastern Africa",
           7.07106787109375
          ],
          [
           "Finland",
           5548361,
           4961058.805599748,
           582839.0620956874,
           4961058.805599748,
           2360581.906964919,
           4889482.154096118,
           10.504706923282162,
           89.41485252310994,
           100,
           "Europe",
           "Northern Europe",
           3.16227807617188
          ],
          [
           "Fiji",
           902899.0000000001,
           598133.9383009734,
           304669.5272673416,
           471416.44945378054,
           47344.33274576664,
           471146.5278956544,
           33.74347820380149,
           66.2459409414534,
           83,
           "Oceania",
           "Melanesia",
           4
          ],
          [
           "Falkland Islands",
           3527.9999999999995,
           1223.2391510522828,
           1874.022178676509,
           541.8416585119485,
           289.28429690144793,
           460.71496392290203,
           53.118542479492895,
           34.67231153776312,
           91,
           "Americas",
           "South America",
           14.3178203125
          ],
          [
           "France",
           65426177,
           63063536.88885562,
           2362633.468955535,
           63063536.88885562,
           15325943.406520676,
           62553306.73787317,
           3.6111440057937894,
           96.38884584201767,
           93,
           "Europe",
           "Western Europe",
           2.82842700195312
          ],
          [
           "Faeroe Islands",
           49053.00000000001,
           30629.822653995514,
           18414.821523540544,
           28668.036886894075,
           13037.977641223399,
           28330.330734580566,
           37.54066320824524,
           62.4423025176758,
           100,
           "Europe",
           "Northern Europe",
           5.3851650390625
          ],
          [
           "Gabon",
           2278829,
           1364268.8534450948,
           914547.039951562,
           530365.8307151537,
           14284.28307781951,
           528973.6799429647,
           40.13232409941957,
           59.867100754163424,
           82,
           "Africa",
           "Middle Africa",
           4.47213623046875
          ],
          [
           "United Kingdom",
           68207114,
           63517778.358863205,
           4689122.979680495,
           63517778.358863205,
           4832115.921805865,
           63352052.30997196,
           6.874829771687005,
           93.1248584405187,
           100,
           "Europe",
           "Northern Europe",
           3
          ],
          [
           "Georgia",
           3979773,
           3704134.4898345433,
           275638.51016545645,
           2666492.0849312996,
           164913.94296443003,
           2666286.592435425,
           6.925985732489176,
           93.07401426751082,
           82,
           "Asia",
           "Western Asia",
           2.82842700195312
          ],
          [
           "Ghana",
           31732128.000000004,
           25382658.618968844,
           6349469.381031159,
           10658764.749957895,
           3441790.552684058,
           10139024.849729663,
           20.009592111285947,
           79.99040788871406,
           35,
           "Africa",
           "Western Africa",
           4.24264111328125
          ],
          [
           "Guinea",
           13497237,
           10190808.610908123,
           3306428.389091878,
           1281040.4086705577,
           287253.6689614799,
           1276137.5796882012,
           24.497075876284,
           75.50292412371601,
           25,
           "Africa",
           "Western Africa",
           3.16227807617188
          ],
          [
           "Guadeloupe",
           400012.99999999994,
           220003.60795878657,
           180009.3920412134,
           120215.1570868705,
           39020.24726141505,
           105479.89844384283,
           45.00088548152521,
           54.9991145184748,
           86.1428571428572,
           "Americas",
           "Caribbean",
           22.4722109375
          ],
          [
           "Gambia",
           2486936.9999999995,
           2029260.8426377617,
           457676.157362238,
           1627266.7104974368,
           743441.7035550711,
           1582608.6822459493,
           18.40320673029667,
           81.59679326970334,
           77,
           "Africa",
           "Western Africa",
           4.24264111328125
          ],
          [
           "Guinea-Bissau",
           2015489.9999999998,
           1201742.4302483744,
           813747.5697516254,
           562293.0632908255,
           200200.7058828895,
           555768.0805549275,
           40.3746766171812,
           59.6253233828188,
           35,
           "Africa",
           "Western Africa",
           3.60555102539062
          ],
          [
           "Equatorial Guinea",
           1449891,
           949679.5154994987,
           500211.48450050125,
           305866.9895386296,
           19706.928786763605,
           305554.57452473673,
           34.499937202210454,
           65.50006279778954,
           41,
           "Africa",
           "Middle Africa",
           3.16227807617188
          ],
          [
           "Greece",
           10370747,
           5452666.309232296,
           4918006.03150791,
           5452666.309232296,
           879290.1581229388,
           5358545.910566154,
           47.4219073274848,
           52.57737277008393,
           100,
           "Europe",
           "Southern Europe",
           8
          ],
          [
           "Grenada",
           113014.99999999997,
           64711.21748856764,
           48303.782511432335,
           39025.16178460732,
           6218.06037515978,
           39025.16178460732,
           42.74103659817931,
           57.258963401820694,
           92,
           "Americas",
           "Caribbean",
           9.219544921875
          ],
          [
           "Greenland",
           56867.99999999999,
           24156.611146464158,
           30744.381001765312,
           23333.096264240718,
           10386.58836727363,
           23333.096264240718,
           54.06270838039903,
           42.47839056492959,
           100,
           "Americas",
           "Northern America",
           18.027759765625
          ],
          [
           "Guatemala",
           18249868,
           15927071.599841388,
           2322796.400158612,
           11778894.300444731,
           1826012.1451783597,
           11759851.45928175,
           12.727743565918463,
           87.27225643408154,
           77,
           "Americas",
           "Central America",
           3.60555102539062
          ],
          [
           "French Guiana",
           306450,
           280724.17225677357,
           24851.630211490035,
           218616.28100204017,
           87452.65291043259,
           217562.19219009345,
           8.109522013865242,
           91.60521202701047,
           88,
           "Americas",
           "South America",
           3
          ],
          [
           "Guyana",
           790329,
           723596.8658095886,
           63118.10185185337,
           482802.43264838564,
           225077.11866047105,
           479488.37320422346,
           7.986307202678045,
           91.55641078710114,
           65,
           "Americas",
           "South America",
           2.82842700195312
          ],
          [
           "Hong Kong",
           7552800,
           1615553.3137345738,
           5937246.686265427,
           545951.7216309172,
           0,
           545951.7216309172,
           78.60987562580006,
           21.39012437419995,
           100,
           "Asia",
           "Eastern Asia",
           25
          ],
          [
           "Honduras",
           10062994,
           8796281.562797658,
           1266711.8062580598,
           8209512.781519746,
           1732738.5998924414,
           8202362.7245124495,
           12.587822334566232,
           87.41217139548785,
           92,
           "Americas",
           "Central America",
           3.16227807617188
          ],
          [
           "Croatia",
           4081657,
           3454475.5238930294,
           627163.4542011445,
           3101114.3612305657,
           869067.5190963822,
           3062079.754223764,
           15.365412973239657,
           84.63414549270136,
           94.5,
           "Europe",
           "Southern Europe",
           3.60555102539062
          ],
          [
           "Haiti",
           11541683,
           7213221.004526824,
           4328461.972621261,
           1927964.7881452173,
           244219.12667434738,
           1908176.4058388274,
           37.50286654573047,
           62.49713325627487,
           19,
           "Americas",
           "Caribbean",
           4.12310498046875
          ],
          [
           "Hungary",
           9634162,
           9079398.45450457,
           554763.5454954308,
           9079398.45450457,
           2152224.2627411233,
           8911729.33218567,
           5.758295796722443,
           94.24170420327756,
           100,
           "Europe",
           "Eastern Europe",
           2.82842700195312
          ],
          [
           "Indonesia",
           276361787.99999994,
           241036420.00438118,
           35324984.91063304,
           38275814.67591541,
           13299665.226248603,
           36244646.87687009,
           12.782152397506216,
           87.21770898528897,
           35,
           "Asia",
           "South-Eastern Asia",
           4.12310498046875
          ],
          [
           "Isle of Man",
           85410,
           52728.477341676145,
           32681.52265832385,
           49312.077341676144,
           1329.6197823258274,
           49312.077341676144,
           38.2642812999928,
           61.73571870000719,
           98,
           "Europe",
           "Northern Europe",
           4.47213623046875
          ],
          [
           "India",
           1393409033,
           1283254926.762198,
           110154073.6084926,
           568242878.0601009,
           262035384.29660225,
           532682573.6492815,
           7.90536525885236,
           92.0946323994584,
           44,
           "Asia",
           "Southern Asia",
           3.60555102539062
          ],
          [
           "Ireland",
           4982904,
           4343929.157662515,
           638937.8554157364,
           4343929.157662515,
           926514.5311774114,
           4329562.266558203,
           12.822600142722726,
           87.17665758085073,
           97,
           "Europe",
           "Northern Europe",
           3.16227807617188
          ],
          [
           "Iran",
           85028760,
           56655043.078384794,
           28373690.238563403,
           55101293.82992779,
           8850676.491184684,
           53612213.27443367,
           33.36952136966763,
           66.63044724912464,
           99,
           "Asia",
           "Southern Asia",
           5.3851650390625
          ],
          [
           "Iraq",
           41179351,
           34217676.68744495,
           6961674.312555053,
           24822883.634711612,
           5059727.2551775845,
           24158280.67399597,
           16.90574072562497,
           83.09425927437503,
           83,
           "Asia",
           "Western Asia",
           3.60555102539062
          ],
          [
           "Iceland",
           343360.00000000006,
           239071.70876545314,
           97506.37121515613,
           239071.70876545314,
           96656.2179682584,
           218679.0266687793,
           28.397708298915457,
           69.62712860130857,
           100,
           "Europe",
           "Northern Europe",
           5.3851650390625
          ],
          [
           "Israel",
           8789776,
           2977801.8563428293,
           5811974.14365717,
           2977801.8563428293,
           1103913.3714083855,
           2665422.9380734116,
           66.12198244479916,
           33.87801755520083,
           100,
           "Asia",
           "Western Asia",
           16.12451953125
          ],
          [
           "Italy",
           60367471,
           54697119.20176766,
           5670297.642582984,
           54663695.71621174,
           13951996.7258645,
           54193461.69685843,
           9.392968677755249,
           90.60694161225946,
           98,
           "Europe",
           "Southern Europe",
           3
          ],
          [
           "Jamaica",
           2973462,
           2326696.740420481,
           646760.9241799967,
           1739560.482059722,
           350786.6056056581,
           1716695.2584713816,
           21.75110777201783,
           78.24874642489063,
           83,
           "Americas",
           "Caribbean",
           4.12310498046875
          ],
          [
           "Jordan",
           10269022.000000002,
           5672013.118068348,
           4597008.881931653,
           3971372.0024639065,
           447230.63410647394,
           3792920.000593269,
           44.765790568290264,
           55.23420943170972,
           89,
           "Asia",
           "Western Asia",
           9.4339814453125
          ],
          [
           "Japan",
           126050795.99999999,
           110400919.70208783,
           15649774.237460556,
           76294333.9400987,
           13580969.326300664,
           76086107.02001636,
           12.415450543811367,
           87.58446848847179,
           98,
           "Asia",
           "Eastern Asia",
           2.23606811523438
          ],
          [
           "Kazakhstan",
           18994958.000000004,
           14556824.595424224,
           4437099.333573752,
           8779497.88343916,
           1764849.7243818517,
           8673559.179085758,
           23.35935322191158,
           76.63520285448496,
           81,
           "Asia",
           "Central Asia",
           4.12310498046875
          ],
          [
           "Kenya",
           54985702,
           36828471.55609891,
           18156879.092321336,
           16186778.543752667,
           4552051.401398457,
           15891501.459889244,
           33.02109172366543,
           66.97826928916705,
           33,
           "Africa",
           "Eastern Africa",
           4.12310498046875
          ],
          [
           "Kyrgyzstan",
           6628347,
           5877402.323470443,
           750926.0895123119,
           5877402.323470443,
           946730.2676866822,
           5875531.304526931,
           11.329009925284717,
           88.67070965763322,
           94,
           "Asia",
           "Central Asia",
           2.82842700195312
          ],
          [
           "Cambodia",
           16946445.999999996,
           14636792.530442832,
           2309649.090054648,
           4901341.938455321,
           2773650.5071003744,
           4706539.583962502,
           13.629106008744538,
           86.37086814806382,
           32,
           "Asia",
           "South-Eastern Asia",
           3.16227807617188
          ],
          [
           "South Korea",
           51305184,
           42448669.77821045,
           8856496.811225388,
           26515875.24760937,
           3242479.5746423975,
           26353122.78712155,
           17.262381928550123,
           82.73758413615757,
           100,
           "Asia",
           "Eastern Asia",
           4.47213623046875
          ],
          [
           "Kuwait",
           4328553,
           354608.4528922143,
           3973944.547107786,
           12287.187421389079,
           12287.187421389079,
           0,
           91.80769063259214,
           8.19230936740787,
           91.5,
           "Asia",
           "Western Asia",
           104.995203125
          ],
          [
           "Laos",
           7379358,
           6213794.709799958,
           1165563.2902000418,
           1189293.0208855656,
           433982.21622278093,
           1180692.5374117931,
           15.794914546767371,
           84.20508545323263,
           31,
           "Asia",
           "South-Eastern Asia",
           3
          ],
          [
           "Lebanon",
           6769151,
           4620129.571009457,
           2149021.428990543,
           3856186.853493291,
           147253.32771615975,
           3853460.729594323,
           31.74728158657626,
           68.25271841342374,
           89,
           "Asia",
           "Western Asia",
           6.7082041015625
          ],
          [
           "Liberia",
           5180207.999999999,
           3904988.662757629,
           1275212.3033647367,
           29015.2946463638,
           880.3016724173832,
           29005.147395821048,
           24.61700965221352,
           75.3828545640953,
           4,
           "Africa",
           "Western Africa",
           4.24264111328125
          ],
          [
           "Libya",
           6958537.999999999,
           2024868.5019758602,
           4933566.763300561,
           3769.746152044401,
           597.7973389714075,
           3432.4434955139054,
           70.89947289646994,
           29.09905071979,
           78,
           "Africa",
           "Northern Africa",
           223.5755
          ],
          [
           "Saint Lucia",
           184401,
           89502.28124208256,
           94898.71875791745,
           86051.77838065922,
           7346.397375706072,
           86051.77838065922,
           51.46323434141758,
           48.53676565858242,
           97,
           "Americas",
           "Caribbean",
           13.03841015625
          ],
          [
           "Liechtenstein",
           38254,
           38254,
           0,
           38231.0476,
           0,
           38231.0476,
           0,
           100,
           100,
           "Europe",
           "Western Europe",
           3.60555102539062
          ],
          [
           "Sri Lanka",
           21497306,
           18872715.78728314,
           2624583.557839725,
           12385282.182691993,
           5078098.795118151,
           11950626.66689088,
           12.208895188260914,
           87.79107385494322,
           39,
           "Asia",
           "Southern Asia",
           3.60555102539062
          ],
          [
           "Lesotho",
           2159067,
           1725245.8694274789,
           433821.1305725211,
           1412905.19556129,
           20986.15805859282,
           1412905.19556129,
           20.09299065626593,
           79.90700934373407,
           69,
           "Africa",
           "Southern Africa",
           2.23606811523438
          ],
          [
           "Lithuania",
           2689862,
           2498474.5704654395,
           191387.42953456086,
           2326502.0251456313,
           523242.35857374425,
           2310488.2137341653,
           7.115139346723395,
           92.88486065327662,
           96,
           "Europe",
           "Northern Europe",
           2.82842700195312
          ],
          [
           "Luxembourg",
           634813.9999999999,
           619550.6341747518,
           15263.365825248104,
           614774.8046831248,
           137820.8407048729,
           609494.9287892026,
           2.4043839337582513,
           97.59561606624175,
           100,
           "Europe",
           "Western Europe",
           4.47213623046875
          ],
          [
           "Latvia",
           1866934,
           1795411.754233232,
           71522.24576676796,
           1611004.9652717283,
           150394.06773607468,
           1605484.9142778749,
           3.8310002264015734,
           96.16899977359843,
           94,
           "Europe",
           "Northern Europe",
           3
          ],
          [
           "Morocco",
           37344787,
           18700561.68476647,
           18643233.348504018,
           12285682.989470141,
           2429925.122539494,
           11913510.127595043,
           49.921916406978085,
           50.075427354202,
           80,
           "Africa",
           "Northern Africa",
           7.07106787109375
          ],
          [
           "Moldova",
           4024025.0000000005,
           3588730.4204482394,
           435294.5795517608,
           2606372.522757818,
           665183.3474578415,
           2601047.6854472887,
           10.817392524941091,
           89.1826074750589,
           72,
           "Europe",
           "Eastern Europe",
           2.82842700195312
          ],
          [
           "Madagascar",
           28427333,
           11370311.707156898,
           17057009.370159816,
           5143562.138577898,
           906170.3860607514,
           5120570.0716294,
           60.00214431005475,
           39.99781374903125,
           35,
           "Africa",
           "Eastern Africa",
           4
          ],
          [
           "Mexico",
           130262220,
           88205342.51916257,
           42046923.42483198,
           82699895.57629341,
           22261631.377398964,
           77843266.65405156,
           32.27867867201402,
           67.71367977542727,
           98,
           "Americas",
           "Central America",
           5.65685400390625
          ],
          [
           "North Macedonia",
           2082661,
           2002558.1478333496,
           80102.85216665042,
           1664406.0306578025,
           374057.0195959794,
           1662213.2478819655,
           3.8461781426094035,
           96.1538218573906,
           92,
           "Europe",
           "Southern Europe",
           3
          ],
          [
           "Mali",
           20855724.000000004,
           13827040.700523289,
           7020858.966157755,
           3753010.4306642334,
           1642001.7888397349,
           3467904.5436538174,
           33.66394264786853,
           66.29854087311132,
           50,
           "Africa",
           "Western Africa",
           8.54400390625
          ],
          [
           "Malta",
           442790,
           262146.62556381425,
           180643.37443618575,
           262146.62556381425,
           3491.5653394089613,
           262146.62556381425,
           40.796624683526225,
           59.20337531647378,
           100,
           "Europe",
           "Southern Europe",
           4.12310498046875
          ],
          [
           "Myanmar",
           54806013.99999999,
           43080434.92278251,
           11725553.139512027,
           12782229.583923101,
           5969442.139064674,
           12645112.507082274,
           21.3946468347653,
           78.60530583884922,
           33,
           "Asia",
           "South-Eastern Asia",
           2.82842700195312
          ],
          [
           "Montenegro",
           628051.0000000001,
           531717.6028762851,
           96333.39712371501,
           390692.00467696297,
           67158.28889524448,
           390578.69804833166,
           15.338467277930453,
           84.66153272206954,
           89,
           "Europe",
           "Southern Europe",
           3.60555102539062
          ],
          [
           "Mongolia",
           3329281.9999999995,
           2365780.481155878,
           942756.802453129,
           270190.57188013865,
           34528.05006047662,
           268731.82541667693,
           28.3171207020952,
           71.05978049188619,
           25,
           "Asia",
           "Eastern Asia",
           3.60555102539062
          ],
          [
           "Mozambique",
           32163044.999999996,
           19258670.08764387,
           12904364.761878852,
           6630838.526576099,
           2535428.8307924713,
           6347815.0921099745,
           40.12171348166461,
           59.878254958894196,
           41,
           "Africa",
           "Eastern Africa",
           3.16227807617188
          ],
          [
           "Mauritania",
           4775110.000000001,
           1575732.2366069567,
           3173831.4757663547,
           301585.29860719986,
           37129.2233543108,
           276578.26291606756,
           66.46614372792153,
           32.99886780842654,
           53,
           "Africa",
           "Western Africa",
           30.80583984375
          ],
          [
           "Montserrat",
           4980.999999999999,
           4231.113494527762,
           749.8865054722371,
           2957.400637384904,
           680.89220674725,
           2957.400637384904,
           15.05493887717802,
           84.94506112282197,
           98,
           "Americas",
           "Caribbean",
           5
          ],
          [
           "Martinique",
           374743.00000000006,
           238986.6059679145,
           135756.39403208555,
           145759.63951526588,
           28022.5999363564,
           141282.12028062344,
           36.22653232537647,
           63.77346767462353,
           86.1428571428571,
           "Americas",
           "Caribbean",
           7.81025
          ],
          [
           "Mauritius",
           1273428,
           1067716.6246203424,
           205711.37537965763,
           1067716.6246203424,
           535975.2647369411,
           1014966.1536124828,
           16.154142627589284,
           83.84585737241072,
           100,
           "Africa",
           "Eastern Africa",
           2
          ],
          [
           "Malawi",
           19647681,
           18281712.030010145,
           1365891.7953684991,
           5785235.660110163,
           2380627.6702714767,
           5767745.280673488,
           6.951923717452961,
           93.04768349002687,
           22,
           "Africa",
           "Eastern Africa",
           2.82842700195312
          ],
          [
           "Malaysia",
           32776195,
           28116297.059724092,
           4659877.084812241,
           26386653.113154884,
           8324909.5520119015,
           26060476.15758394,
           14.217260682065874,
           85.78267568802325,
           95,
           "Asia",
           "South-Eastern Asia",
           3.16227807617188
          ],
          [
           "Namibia",
           2587343.9999999995,
           660430.7221802548,
           1913751.9648362694,
           207146.51690122593,
           48597.444151773154,
           177269.74542874467,
           73.96588798537303,
           25.5254315692175,
           81,
           "Africa",
           "Southern Africa",
           30.413810546875
          ],
          [
           "New Caledonia",
           288217,
           188381.9916416352,
           99728.8446469709,
           98423.9486651141,
           8891.29002004918,
           98334.1872646195,
           34.60199941258528,
           65.36116594150768,
           99,
           "Oceania",
           "Melanesia",
           3.16227807617188
          ],
          [
           "Niger",
           25130809.999999996,
           9527771.770010171,
           15584445.37527601,
           1729900.8618754197,
           187038.95010597794,
           1672265.6354388746,
           62.013303093995034,
           37.91271260261875,
           40,
           "Africa",
           "Western Africa",
           33.8378515625
          ],
          [
           "Nigeria",
           211400704,
           156974326.64190736,
           54426377.358092636,
           18969406.667208266,
           3344715.5612207055,
           18870113.555441774,
           25.745598916308545,
           74.25440108369146,
           10,
           "Africa",
           "Western Africa",
           3.60555102539062
          ],
          [
           "Nicaragua",
           6702378.999999999,
           5675492.80896148,
           1026875.7690834829,
           5478573.844511521,
           1627758.277288425,
           5320185.066101136,
           15.321063895125642,
           84.67878060851946,
           70,
           "Americas",
           "Central America",
           4
          ],
          [
           "Netherlands",
           17173094,
           16005968.40713634,
           1167125.5928636596,
           16005968.40713634,
           3513427.548565921,
           15834062.24915397,
           6.796245294317142,
           93.20375470568285,
           91,
           "Europe",
           "Western Europe",
           2.23606811523438
          ],
          [
           "Norway",
           5465629,
           4652642.251497102,
           809263.4498842781,
           4652642.251497102,
           1805049.2936190984,
           4577413.114905111,
           14.806410202453883,
           85.12546774574531,
           100,
           "Europe",
           "Northern Europe",
           2.23606811523438
          ],
          [
           "Nepal",
           29674920.000000004,
           27950148.35847905,
           1724753.930690433,
           14933362.833202653,
           4516747.771326782,
           14876442.45356786,
           5.812160338394957,
           94.18777997878021,
           50,
           "Asia",
           "Southern Asia",
           2.82842700195312
          ],
          [
           "New Zealand",
           4860642,
           3917815.729730169,
           939049.2576849586,
           3917815.729730169,
           1842285.5238021647,
           3872756.911646048,
           19.319449111556843,
           80.60284484498486,
           100,
           "Oceania",
           "Australia and New Zealand",
           2.82842700195312
          ],
          [
           "Oman",
           5223376,
           955883.157632979,
           4267462.513420677,
           306811.5630490775,
           26315.80809446487,
           285705.0410676573,
           81.69931694407366,
           18.300102417152793,
           96,
           "Asia",
           "Western Asia",
           53.0094296875
          ],
          [
           "Pakistan",
           225199928.99999997,
           209562313.98366714,
           15637610.80724682,
           53351575.14778266,
           17305730.698018245,
           52752723.59419261,
           6.943879101865445,
           93.05611902909044,
           26,
           "Asia",
           "Southern Asia",
           3
          ],
          [
           "Panama",
           4381583,
           3540589.547399942,
           840905.4157331832,
           3223933.5671864524,
           1268611.056550432,
           3220749.6465315153,
           19.191817563040185,
           80.80617318900364,
           93,
           "Americas",
           "Central America",
           2
          ],
          [
           "Peru",
           33359415,
           22213381.73838783,
           11145807.859983161,
           20391922.068243463,
           2330540.2532664323,
           20199179.69958457,
           33.411280923191136,
           66.58804340060469,
           90,
           "Americas",
           "South America",
           4.47213623046875
          ],
          [
           "Philippines",
           111046909.99999999,
           100137351.78731166,
           10909507.884915436,
           64134013.80206761,
           10459704.679319192,
           63888436.515040845,
           9.824233636861608,
           90.17572104195575,
           66,
           "Asia",
           "South-Eastern Asia",
           2.23606811523438
          ],
          [
           "Papua New Guinea",
           9119005,
           4396616.281092842,
           4722084.796247704,
           1034661.0378310754,
           329698.1333345137,
           1034110.3801667279,
           51.782895132174,
           48.21377201890822,
           18,
           "Oceania",
           "Melanesia",
           2.23606811523438
          ],
          [
           "Poland",
           37797000,
           30944292.496155336,
           6852707.503844661,
           30944292.496155336,
           17694454.755888868,
           30111500.579133257,
           18.130294742558036,
           81.86970525744196,
           89,
           "Europe",
           "Eastern Europe",
           3
          ],
          [
           "Puerto Rico",
           2828246,
           2486046.231195473,
           342199.3418907111,
           1848241.461943322,
           106307.10442819106,
           1848241.461943322,
           12.099348567653276,
           87.9006363376974,
           100,
           "Americas",
           "Caribbean",
           2.23606811523438
          ],
          [
           "North Korea",
           25887045,
           21465498.856369536,
           4421534.999074995,
           11785390.802912327,
           3375680.8810431412,
           11708743.176596582,
           17.08010705383714,
           82.9198498954575,
           100,
           "Asia",
           "Eastern Asia",
           3.60555102539062
          ],
          [
           "Portugal",
           10167922.999999998,
           7601855.235685191,
           2566067.764314808,
           7455595.064408243,
           1050205.2892440693,
           7406995.593756432,
           25.236892178617094,
           74.76310782138292,
           100,
           "Europe",
           "Southern Europe",
           4
          ],
          [
           "Paraguay",
           7219640.999999999,
           6242624.071930181,
           974937.1607566823,
           6242624.071930181,
           2336781.436786731,
           5877673.373202112,
           13.503956232126809,
           86.46723669404312,
           100,
           "Americas",
           "South America",
           4.24264111328125
          ],
          [
           "Palestine",
           5222756,
           2483841.8567993282,
           2738914.143200672,
           1036409.0036729511,
           250424.6412718597,
           941169.6220841857,
           52.44193186893419,
           47.55806813106582,
           54,
           "Asia",
           "Western Asia",
           19.104970703125
          ],
          [
           "Qatar",
           2930524.0000000005,
           430782.4625934444,
           2499741.537406556,
           0,
           0,
           0,
           85.30015578806233,
           14.699844211937672,
           100,
           "Asia",
           "Western Asia",
           196.6215
          ],
          [
           "Reunion",
           901695.9999999999,
           601792.2281957028,
           299903.77180429705,
           243529.44450461972,
           42038.45441526956,
           243476.63819932178,
           33.259964755782114,
           66.74003524421788,
           100,
           "Africa",
           "Eastern Africa",
           4.12310498046875
          ],
          [
           "Romania",
           19127772.000000004,
           18465218.454924908,
           662553.5450750944,
           6961925.413705908,
           1411554.9817539204,
           6839780.5562536195,
           3.463830210204797,
           96.5361697897952,
           64,
           "Europe",
           "Eastern Europe",
           3
          ],
          [
           "Russia",
           145912021.99999997,
           128242126.09638663,
           17199236.026522983,
           118187329.4895055,
           23986638.354292367,
           117156273.9624898,
           11.787401607334992,
           87.89003424021267,
           94,
           "Europe",
           "Eastern Europe",
           3.16227807617188
          ],
          [
           "Rwanda",
           13276517,
           10808344.444182131,
           2468172.5558178695,
           7642369.142376937,
           822799.902663637,
           7630453.329131289,
           18.590512525369938,
           81.40948747463007,
           38,
           "Africa",
           "Eastern Africa",
           3.60555102539062
          ],
          [
           "Saudi Arabia",
           35340680,
           6118253.75261357,
           29222365.33711746,
           656565.8892566519,
           202766.2783326216,
           529387.5778261131,
           82.68761477458119,
           17.31221287370127,
           84,
           "Asia",
           "Western Asia",
           216.01159375
          ],
          [
           "Sudan",
           44909351,
           24500239.452155083,
           20409068.34512226,
           5321421.451755548,
           432796.45138994016,
           5252064.498686971,
           45.44503069109652,
           54.55487310906605,
           46,
           "Africa",
           "Northern Africa",
           47.85394921875
          ],
          [
           "Senegal",
           17196308,
           6363771.5748785315,
           10832536.425121468,
           3887475.638090666,
           928695.923071882,
           3414786.892484872,
           62.99338453999235,
           37.006615460007644,
           75,
           "Africa",
           "Western Africa",
           17.46425
          ],
          [
           "Singapore",
           5896684.000000001,
           3013557.149150455,
           2883126.850849546,
           2117410.7401813446,
           0,
           2117410.7401813446,
           48.894036900223,
           51.105963099777,
           100,
           "Asia",
           "South-Eastern Asia",
           10.4403095703125
          ],
          [
           "Solomon Islands",
           703995,
           385164.022114184,
           318542.6735091964,
           188996.76991732972,
           24494.337509047728,
           188996.76991732972,
           45.247860213381685,
           54.711187169537276,
           46,
           "Oceania",
           "Melanesia",
           3.60555102539062
          ],
          [
           "Sierra Leone",
           8141343,
           4883653.165618418,
           3257689.8343815817,
           1070295.4587445282,
           99436.86394380148,
           1066373.0607727645,
           40.01415779167616,
           59.98584220832384,
           21,
           "Africa",
           "Western Africa",
           3
          ],
          [
           "El Salvador",
           6518500,
           5969850.439706346,
           548649.5602936535,
           5272900.783651791,
           387825.40818951733,
           5272900.783651791,
           8.416806938615533,
           91.58319306138446,
           91,
           "Americas",
           "Central America",
           2.82842700195312
          ],
          [
           "Somalia",
           16359500,
           9100873.159596194,
           7258581.921267577,
           358920.40201261296,
           19944.561707804172,
           345064.1600356047,
           44.36921618183672,
           55.630509242924255,
           47,
           "Africa",
           "Eastern Africa",
           86.2786171875
          ],
          [
           "Serbia",
           8697547,
           8122791.135041865,
           574755.864958136,
           7493170.623118337,
           1869634.693899628,
           7410261.0504264515,
           6.608252475762832,
           93.39174752423718,
           94,
           "Europe",
           "Eastern Europe",
           3.16227807617188
          ],
          [
           "South Sudan",
           11381377,
           8479311.702998416,
           2902065.2970015826,
           164726.67405998075,
           33671.92522474776,
           160739.34361977485,
           25.49836717474153,
           74.50163282525845,
           4,
           "Africa",
           "Middle Africa",
           9.4868330078125
          ],
          [
           "Sao Tome and Principe",
           223364,
           187261.52018238028,
           36084.040593951846,
           179735.508981835,
           14315.268846785304,
           179735.508981835,
           16.15481482868853,
           83.83692993605965,
           97,
           "Africa",
           "Middle Africa",
           5.09902001953125
          ],
          [
           "Suriname",
           591798,
           543583.2675150825,
           44280.59843239233,
           360368.9406199444,
           128660.29246040818,
           358108.7562816317,
           7.482383927014341,
           91.85283956942783,
           80,
           "Americas",
           "South America",
           2.23606811523438
          ],
          [
           "Slovakia",
           5460726,
           5292600.807821615,
           168125.19217838466,
           5279071.9280915065,
           1919375.9534442753,
           5255475.777283489,
           3.0788065941851808,
           96.9211934058148,
           98,
           "Europe",
           "Eastern Europe",
           2.82842700195312
          ],
          [
           "Slovenia",
           2078723,
           1928770.3049349578,
           149952.69506504232,
           1883312.5864326346,
           625078.8713055829,
           1879274.7990565454,
           7.213692977132707,
           92.7863070228673,
           97.9821428571429,
           "Europe",
           "Southern Europe",
           2.82842700195312
          ],
          [
           "Sweden",
           10160159,
           9146728.770005563,
           1003034.4283309835,
           7157489.717393078,
           3177919.3721590876,
           7060750.880732435,
           9.87223160908194,
           90.02544910966023,
           88,
           "Europe",
           "Northern Europe",
           2.23606811523438
          ],
          [
           "Eswatini",
           1172369.0000000002,
           928438.8726143021,
           243930.1273856981,
           627222.7764299661,
           47683.94492348985,
           627222.7764299661,
           20.806599917406384,
           79.19340008259361,
           61,
           "Africa",
           "Southern Africa",
           2.23606811523438
          ],
          [
           "Syria",
           18275703.999999996,
           12326935.62765577,
           5948439.1276615,
           7377004.800319755,
           1398549.4364722967,
           6866349.377845299,
           32.54834466383074,
           67.44985379307836,
           71,
           "Asia",
           "Western Asia",
           8.0622578125
          ],
          [
           "Chad",
           16914985,
           8900918.967165953,
           8014048.633271132,
           641176.1963039406,
           118541.2957981578,
           639673.1611181634,
           47.37839633479505,
           52.62150080042017,
           20,
           "Africa",
           "Middle Africa",
           20
          ],
          [
           "Togo",
           8478242,
           5692187.515500633,
           2786054.484499367,
           1707413.7755006333,
           523839.2036547963,
           1641653.150684263,
           32.86122859549618,
           67.13877140450383,
           25,
           "Africa",
           "Western Africa",
           3.60555102539062
          ],
          [
           "Thailand",
           69950844,
           65842039.33678955,
           4108802.7059009923,
           54038677.42876157,
           23750428.064501904,
           52239237.431027256,
           5.873842931617798,
           94.12615427026091,
           81,
           "Asia",
           "South-Eastern Asia",
           2.82842700195312
          ],
          [
           "Tajikistan",
           9749624.999999998,
           7005765.215602943,
           2743859.784397055,
           4848981.72349641,
           803567.9628647506,
           4808800.814939077,
           28.143234066921092,
           71.8567659330789,
           65,
           "Asia",
           "Central Asia",
           3.60555102539062
          ],
          [
           "Turkmenistan",
           6117932.999999999,
           5269800.504098503,
           848012.8373028055,
           702937.1908808794,
           87692.68248232624,
           697524.6821278615,
           13.861100428899853,
           86.13694370465488,
           52,
           "Asia",
           "Central Asia",
           17.691810546875
          ],
          [
           "Timor",
           1343874.9999999998,
           293019.375581426,
           1050855.624418574,
           53991.44304199599,
           6354.022313536669,
           51138.82282328865,
           78.19593521857124,
           21.804064781428785,
           66,
           "Asia",
           "South-Eastern Asia",
           35
          ],
          [
           "Trinidad and Tobago",
           1403374,
           1005828.8718623572,
           397541.8207477227,
           669526.369031517,
           337988.01037327497,
           592531.7399224917,
           28.327574883653444,
           71.67218944218415,
           93,
           "Americas",
           "Caribbean",
           5.3851650390625
          ],
          [
           "Tunisia",
           11935764,
           5867735.294853454,
           6068023.789352581,
           4167429.3480779175,
           1222819.94942423,
           3762787.334551531,
           50.8390061109836,
           49.16095270360116,
           93,
           "Africa",
           "Northern Africa",
           14.035669921875
          ],
          [
           "Turkey",
           85042736,
           72205865.6910252,
           12836843.432465449,
           63292716.492778495,
           12336606.63053399,
           62495068.860069275,
           15.094579544648527,
           84.90538885181822,
           95,
           "Asia",
           "Western Asia",
           3.60555102539062
          ],
          [
           "Taiwan",
           23855008,
           21658887.73614037,
           2196120.263859627,
           15232234.50840436,
           2075593.4093925578,
           15222515.3091895,
           9.206118328946387,
           90.7938816710536,
           86.1428571428571,
           "Asia",
           "Eastern Asia",
           3
          ],
          [
           "Tanzania",
           61498438,
           40895081.197775796,
           20603124.895288963,
           18533595.213888306,
           6396542.790660364,
           18372015.6899352,
           33.50186698284754,
           66.49775592312734,
           38,
           "Africa",
           "Eastern Africa",
           3
          ],
          [
           "Uganda",
           47123533,
           39725101.08754411,
           7398405.064644769,
           12491009.179905927,
           3745259.1865047505,
           12454636.683632545,
           15.700022034945405,
           84.29992099179854,
           23,
           "Africa",
           "Eastern Africa",
           3
          ],
          [
           "Ukraine",
           43466821.99999999,
           42326222.94239866,
           1140550.8662849646,
           14730828.058892945,
           4353483.647283732,
           14489901.136831228,
           2.6239573398877996,
           97.37593179091554,
           64,
           "Europe",
           "Eastern Europe",
           3.16227807617188
          ],
          [
           "Uruguay",
           3485152,
           1785102.297894778,
           1698710.3623672246,
           1785102.297894778,
           496684.9750862108,
           1754424.8565489065,
           48.741356542475756,
           51.22021357733545,
           100,
           "Americas",
           "South America",
           8.0622578125
          ],
          [
           "United States",
           332915074.00000006,
           269927231.7562477,
           62908701.157352865,
           263499619.7702886,
           75566440.4475317,
           253140047.66669697,
           18.896321035121662,
           81.07990681018175,
           99,
           "Americas",
           "Northern America",
           4.12310498046875
          ],
          [
           "Uzbekistan",
           33935765.00000001,
           28641657.78851805,
           5294096.575728038,
           17269751.91743609,
           5130967.711052546,
           16794325.1524889,
           15.600345463637073,
           84.39962319552261,
           70,
           "Asia",
           "Central Asia",
           3.60555102539062
          ],
          [
           "Venezuela",
           28704946.999999996,
           20422772.720419552,
           8279727.344152371,
           14449069.286701558,
           2918228.6660983316,
           14024648.012817122,
           28.844252330974072,
           71.14722323096278,
           79,
           "Americas",
           "South America",
           5.3851650390625
          ],
          [
           "Vietnam",
           98168829.00000001,
           94351638.33140661,
           3817179.105292846,
           54666450.842115745,
           28026822.77318062,
           54436695.5344229,
           3.8883820293841396,
           96.11160619162177,
           48,
           "Asia",
           "South-Eastern Asia",
           2.23606811523438
          ],
          [
           "Vanuatu",
           314464,
           247380.79760262292,
           67081.86113447568,
           94093.42625751194,
           8169.6428123903415,
           94093.42625751194,
           21.332127408694056,
           78.66744606779247,
           48,
           "Oceania",
           "Melanesia",
           4
          ],
          [
           "Samoa",
           200144,
           138750.94703755368,
           61393.05296244634,
           115123.0601839372,
           41329.37770664727,
           106884.82921317258,
           30.67444088378684,
           69.32555911621317,
           84,
           "Oceania",
           "Polynesia",
           6.7082041015625
          ],
          [
           "Yemen",
           30490638.999999996,
           14582900.822612032,
           15903436.208656553,
           2321250.617583816,
           143234.9443390046,
           2253086.710419173,
           52.15842215919631,
           47.82746869493957,
           56,
           "Asia",
           "Western Asia",
           21.9317109375
          ],
          [
           "South Africa",
           60041995.99999999,
           52074197.041759506,
           7952696.584295893,
           43882528.673091546,
           3602398.1675413316,
           43681899.48658612,
           13.245223533701134,
           86.72962344849347,
           91,
           "Africa",
           "Southern Africa",
           3.16227807617188
          ],
          [
           "Zambia",
           18920657,
           11571765.156489283,
           7348891.84351072,
           1859532.12593655,
           746057.5875422122,
           1797175.7874882577,
           38.84057431785122,
           61.15942568214879,
           32,
           "Africa",
           "Eastern Africa",
           3
          ],
          [
           "Zimbabwe",
           15092171,
           10431626.442461241,
           4660544.557538761,
           2020186.9045145363,
           450565.1376656085,
           1998172.3336384718,
           30.880544340100315,
           69.1194556598997,
           27,
           "Africa",
           "Eastern Africa",
           3.60555102539062
          ]
         ],
         "geo": "geo",
         "hovertemplate": "<b>%{hovertext}</b><br><br>ISOCODE=%{location}<br>Entity=%{customdata[0]}<br>country_pop_raw=%{customdata[1]}<br>country_pop_with_water=%{customdata[2]}<br>country_pop_without_water=%{customdata[3]}<br>population_piped_with_access=%{customdata[4]}<br>population_piped_with_cycling_access=%{customdata[5]}<br>population_piped_with_walking_access=%{customdata[6]}<br>percent_without_water=%{z}<br>percent_with_water=%{customdata[8]}<br>Nat Piped=%{customdata[9]}<br>region=%{customdata[10]}<br>subregion=%{customdata[11]}<br>weighted_med=%{customdata[12]}<extra></extra>",
         "hovertext": [
          "Afghanistan",
          "Angola",
          "Albania",
          "Andorra",
          "United Arab Emirates",
          "Argentina",
          "Armenia",
          "Australia",
          "Austria",
          "Azerbaijan",
          "Burundi",
          "Belgium",
          "Benin",
          "Burkina Faso",
          "Bangladesh",
          "Bulgaria",
          "Bahamas",
          "Bosnia and Herzegovina",
          "Belarus",
          "Belize",
          "Bolivia",
          "Brazil",
          "Brunei",
          "Bhutan",
          "Botswana",
          "Central African Republic",
          "Canada",
          "Switzerland",
          "Chile",
          "China",
          "Cote d'Ivoire",
          "Cameroon",
          "Democratic Republic of Congo",
          "Congo",
          "Colombia",
          "Costa Rica",
          "Cuba",
          "Cyprus",
          "Czechia",
          "Germany",
          "Djibouti",
          "Denmark",
          "Dominican Republic",
          "Algeria",
          "Ecuador",
          "Egypt",
          "Eritrea",
          "Western Sahara",
          "Spain",
          "Estonia",
          "Ethiopia",
          "Finland",
          "Fiji",
          "Falkland Islands",
          "France",
          "Faeroe Islands",
          "Gabon",
          "United Kingdom",
          "Georgia",
          "Ghana",
          "Guinea",
          "Guadeloupe",
          "Gambia",
          "Guinea-Bissau",
          "Equatorial Guinea",
          "Greece",
          "Grenada",
          "Greenland",
          "Guatemala",
          "French Guiana",
          "Guyana",
          "Hong Kong",
          "Honduras",
          "Croatia",
          "Haiti",
          "Hungary",
          "Indonesia",
          "Isle of Man",
          "India",
          "Ireland",
          "Iran",
          "Iraq",
          "Iceland",
          "Israel",
          "Italy",
          "Jamaica",
          "Jordan",
          "Japan",
          "Kazakhstan",
          "Kenya",
          "Kyrgyzstan",
          "Cambodia",
          "South Korea",
          "Kuwait",
          "Laos",
          "Lebanon",
          "Liberia",
          "Libya",
          "Saint Lucia",
          "Liechtenstein",
          "Sri Lanka",
          "Lesotho",
          "Lithuania",
          "Luxembourg",
          "Latvia",
          "Morocco",
          "Moldova",
          "Madagascar",
          "Mexico",
          "North Macedonia",
          "Mali",
          "Malta",
          "Myanmar",
          "Montenegro",
          "Mongolia",
          "Mozambique",
          "Mauritania",
          "Montserrat",
          "Martinique",
          "Mauritius",
          "Malawi",
          "Malaysia",
          "Namibia",
          "New Caledonia",
          "Niger",
          "Nigeria",
          "Nicaragua",
          "Netherlands",
          "Norway",
          "Nepal",
          "New Zealand",
          "Oman",
          "Pakistan",
          "Panama",
          "Peru",
          "Philippines",
          "Papua New Guinea",
          "Poland",
          "Puerto Rico",
          "North Korea",
          "Portugal",
          "Paraguay",
          "Palestine",
          "Qatar",
          "Reunion",
          "Romania",
          "Russia",
          "Rwanda",
          "Saudi Arabia",
          "Sudan",
          "Senegal",
          "Singapore",
          "Solomon Islands",
          "Sierra Leone",
          "El Salvador",
          "Somalia",
          "Serbia",
          "South Sudan",
          "Sao Tome and Principe",
          "Suriname",
          "Slovakia",
          "Slovenia",
          "Sweden",
          "Eswatini",
          "Syria",
          "Chad",
          "Togo",
          "Thailand",
          "Tajikistan",
          "Turkmenistan",
          "Timor",
          "Trinidad and Tobago",
          "Tunisia",
          "Turkey",
          "Taiwan",
          "Tanzania",
          "Uganda",
          "Ukraine",
          "Uruguay",
          "United States",
          "Uzbekistan",
          "Venezuela",
          "Vietnam",
          "Vanuatu",
          "Samoa",
          "Yemen",
          "South Africa",
          "Zambia",
          "Zimbabwe"
         ],
         "locations": [
          "AFG",
          "AGO",
          "ALB",
          "AND",
          "ARE",
          "ARG",
          "ARM",
          "AUS",
          "AUT",
          "AZE",
          "BDI",
          "BEL",
          "BEN",
          "BFA",
          "BGD",
          "BGR",
          "BHS",
          "BIH",
          "BLR",
          "BLZ",
          "BOL",
          "BRA",
          "BRN",
          "BTN",
          "BWA",
          "CAF",
          "CAN",
          "CHE",
          "CHL",
          "CHN",
          "CIV",
          "CMR",
          "COD",
          "COG",
          "COL",
          "CRI",
          "CUB",
          "CYP",
          "CZE",
          "DEU",
          "DJI",
          "DNK",
          "DOM",
          "DZA",
          "ECU",
          "EGY",
          "ERI",
          "ESH",
          "ESP",
          "EST",
          "ETH",
          "FIN",
          "FJI",
          "FLK",
          "FRA",
          "FRO",
          "GAB",
          "GBR",
          "GEO",
          "GHA",
          "GIN",
          "GLP",
          "GMB",
          "GNB",
          "GNQ",
          "GRC",
          "GRD",
          "GRL",
          "GTM",
          "GUF",
          "GUY",
          "HKG",
          "HND",
          "HRV",
          "HTI",
          "HUN",
          "IDN",
          "IMN",
          "IND",
          "IRL",
          "IRN",
          "IRQ",
          "ISL",
          "ISR",
          "ITA",
          "JAM",
          "JOR",
          "JPN",
          "KAZ",
          "KEN",
          "KGZ",
          "KHM",
          "KOR",
          "KWT",
          "LAO",
          "LBN",
          "LBR",
          "LBY",
          "LCA",
          "LIE",
          "LKA",
          "LSO",
          "LTU",
          "LUX",
          "LVA",
          "MAR",
          "MDA",
          "MDG",
          "MEX",
          "MKD",
          "MLI",
          "MLT",
          "MMR",
          "MNE",
          "MNG",
          "MOZ",
          "MRT",
          "MSR",
          "MTQ",
          "MUS",
          "MWI",
          "MYS",
          "NAM",
          "NCL",
          "NER",
          "NGA",
          "NIC",
          "NLD",
          "NOR",
          "NPL",
          "NZL",
          "OMN",
          "PAK",
          "PAN",
          "PER",
          "PHL",
          "PNG",
          "POL",
          "PRI",
          "PRK",
          "PRT",
          "PRY",
          "PSE",
          "QAT",
          "REU",
          "ROU",
          "RUS",
          "RWA",
          "SAU",
          "SDN",
          "SEN",
          "SGP",
          "SLB",
          "SLE",
          "SLV",
          "SOM",
          "SRB",
          "SSD",
          "STP",
          "SUR",
          "SVK",
          "SVN",
          "SWE",
          "SWZ",
          "SYR",
          "TCD",
          "TGO",
          "THA",
          "TJK",
          "TKM",
          "TLS",
          "TTO",
          "TUN",
          "TUR",
          "TWN",
          "TZA",
          "UGA",
          "UKR",
          "URY",
          "USA",
          "UZB",
          "VEN",
          "VNM",
          "VUT",
          "WSM",
          "YEM",
          "ZAF",
          "ZMB",
          "ZWE"
         ],
         "name": "",
         "type": "choropleth",
         "z": [
          25.96593794456895,
          56.19742563539252,
          5.34256408618476,
          1.175756524255925e-15,
          99.87039781048918,
          27.450506298547566,
          2.3863697662520327,
          13.48210928539881,
          0.6391295755483352,
          4.850835793069335,
          15.312592483428187,
          4.242144440994976,
          32.10881221250206,
          30.253464661331964,
          1.5796272390630857,
          6.703622605719561,
          36.60259775924452,
          7.71327616825991,
          3.1424866619914193,
          6.909520538953561,
          23.502080659903005,
          24.804543905413624,
          9.3655396109924,
          17.85828008813878,
          69.89688297398658,
          50.67016778786757,
          11.060920574624786,
          0.8247344507517866,
          20.851201378390076,
          9.802665391787924,
          33.1544753283091,
          32.84448201304871,
          63.49424255677296,
          45.93048069139405,
          18.37139379657911,
          7.459290840858168,
          14.723460168430064,
          26.215763796100955,
          4.261803462175692,
          4.966080476470988,
          67.66251949996362,
          20.834742681911408,
          16.14614768984183,
          27.33009878787066,
          23.240757398053045,
          26.395920617518748,
          51.73835403313212,
          69.9024523254003,
          16.72001273161582,
          10.21723372335191,
          40.26448440895369,
          10.504706923282162,
          33.74347820380149,
          53.118542479492895,
          3.6111440057937894,
          37.54066320824524,
          40.13232409941957,
          6.874829771687005,
          6.925985732489176,
          20.009592111285947,
          24.497075876284,
          45.00088548152521,
          18.40320673029667,
          40.3746766171812,
          34.499937202210454,
          47.4219073274848,
          42.74103659817931,
          54.06270838039903,
          12.727743565918463,
          8.109522013865242,
          7.986307202678045,
          78.60987562580006,
          12.587822334566232,
          15.365412973239657,
          37.50286654573047,
          5.758295796722443,
          12.782152397506216,
          38.2642812999928,
          7.90536525885236,
          12.822600142722726,
          33.36952136966763,
          16.90574072562497,
          28.397708298915457,
          66.12198244479916,
          9.392968677755249,
          21.75110777201783,
          44.765790568290264,
          12.415450543811367,
          23.35935322191158,
          33.02109172366543,
          11.329009925284717,
          13.629106008744538,
          17.262381928550123,
          91.80769063259214,
          15.794914546767371,
          31.74728158657626,
          24.61700965221352,
          70.89947289646994,
          51.46323434141758,
          0,
          12.208895188260914,
          20.09299065626593,
          7.115139346723395,
          2.4043839337582513,
          3.8310002264015734,
          49.921916406978085,
          10.817392524941091,
          60.00214431005475,
          32.27867867201402,
          3.8461781426094035,
          33.66394264786853,
          40.796624683526225,
          21.3946468347653,
          15.338467277930453,
          28.3171207020952,
          40.12171348166461,
          66.46614372792153,
          15.05493887717802,
          36.22653232537647,
          16.154142627589284,
          6.951923717452961,
          14.217260682065874,
          73.96588798537303,
          34.60199941258528,
          62.013303093995034,
          25.745598916308545,
          15.321063895125642,
          6.796245294317142,
          14.806410202453883,
          5.812160338394957,
          19.319449111556843,
          81.69931694407366,
          6.943879101865445,
          19.191817563040185,
          33.411280923191136,
          9.824233636861608,
          51.782895132174,
          18.130294742558036,
          12.099348567653276,
          17.08010705383714,
          25.236892178617094,
          13.503956232126809,
          52.44193186893419,
          85.30015578806233,
          33.259964755782114,
          3.463830210204797,
          11.787401607334992,
          18.590512525369938,
          82.68761477458119,
          45.44503069109652,
          62.99338453999235,
          48.894036900223,
          45.247860213381685,
          40.01415779167616,
          8.416806938615533,
          44.36921618183672,
          6.608252475762832,
          25.49836717474153,
          16.15481482868853,
          7.482383927014341,
          3.0788065941851808,
          7.213692977132707,
          9.87223160908194,
          20.806599917406384,
          32.54834466383074,
          47.37839633479505,
          32.86122859549618,
          5.873842931617798,
          28.143234066921092,
          13.861100428899853,
          78.19593521857124,
          28.327574883653444,
          50.8390061109836,
          15.094579544648527,
          9.206118328946387,
          33.50186698284754,
          15.700022034945405,
          2.6239573398877996,
          48.741356542475756,
          18.896321035121662,
          15.600345463637073,
          28.844252330974072,
          3.8883820293841396,
          21.332127408694056,
          30.67444088378684,
          52.15842215919631,
          13.245223533701134,
          38.84057431785122,
          30.880544340100315
         ]
        }
       ],
       "layout": {
        "coloraxis": {
         "cmax": 100,
         "cmin": 0,
         "colorbar": {
          "title": {
           "text": ""
          }
         },
         "colorscale": [
          [
           0,
           "#0d0887"
          ],
          [
           0.1111111111111111,
           "#46039f"
          ],
          [
           0.2222222222222222,
           "#7201a8"
          ],
          [
           0.3333333333333333,
           "#9c179e"
          ],
          [
           0.4444444444444444,
           "#bd3786"
          ],
          [
           0.5555555555555556,
           "#d8576b"
          ],
          [
           0.6666666666666666,
           "#ed7953"
          ],
          [
           0.7777777777777778,
           "#fb9f3a"
          ],
          [
           0.8888888888888888,
           "#fdca26"
          ],
          [
           1,
           "#f0f921"
          ]
         ]
        },
        "geo": {
         "center": {},
         "domain": {
          "x": [
           0,
           1
          ],
          "y": [
           0,
           1
          ]
         },
         "scope": "world"
        },
        "height": 600,
        "legend": {
         "tracegroupgap": 0
        },
        "template": {
         "data": {
          "bar": [
           {
            "error_x": {
             "color": "#2a3f5f"
            },
            "error_y": {
             "color": "#2a3f5f"
            },
            "marker": {
             "line": {
              "color": "#E5ECF6",
              "width": 0.5
             },
             "pattern": {
              "fillmode": "overlay",
              "size": 10,
              "solidity": 0.2
             }
            },
            "type": "bar"
           }
          ],
          "barpolar": [
           {
            "marker": {
             "line": {
              "color": "#E5ECF6",
              "width": 0.5
             },
             "pattern": {
              "fillmode": "overlay",
              "size": 10,
              "solidity": 0.2
             }
            },
            "type": "barpolar"
           }
          ],
          "carpet": [
           {
            "aaxis": {
             "endlinecolor": "#2a3f5f",
             "gridcolor": "white",
             "linecolor": "white",
             "minorgridcolor": "white",
             "startlinecolor": "#2a3f5f"
            },
            "baxis": {
             "endlinecolor": "#2a3f5f",
             "gridcolor": "white",
             "linecolor": "white",
             "minorgridcolor": "white",
             "startlinecolor": "#2a3f5f"
            },
            "type": "carpet"
           }
          ],
          "choropleth": [
           {
            "colorbar": {
             "outlinewidth": 0,
             "ticks": ""
            },
            "type": "choropleth"
           }
          ],
          "contour": [
           {
            "colorbar": {
             "outlinewidth": 0,
             "ticks": ""
            },
            "colorscale": [
             [
              0,
              "#0d0887"
             ],
             [
              0.1111111111111111,
              "#46039f"
             ],
             [
              0.2222222222222222,
              "#7201a8"
             ],
             [
              0.3333333333333333,
              "#9c179e"
             ],
             [
              0.4444444444444444,
              "#bd3786"
             ],
             [
              0.5555555555555556,
              "#d8576b"
             ],
             [
              0.6666666666666666,
              "#ed7953"
             ],
             [
              0.7777777777777778,
              "#fb9f3a"
             ],
             [
              0.8888888888888888,
              "#fdca26"
             ],
             [
              1,
              "#f0f921"
             ]
            ],
            "type": "contour"
           }
          ],
          "contourcarpet": [
           {
            "colorbar": {
             "outlinewidth": 0,
             "ticks": ""
            },
            "type": "contourcarpet"
           }
          ],
          "heatmap": [
           {
            "colorbar": {
             "outlinewidth": 0,
             "ticks": ""
            },
            "colorscale": [
             [
              0,
              "#0d0887"
             ],
             [
              0.1111111111111111,
              "#46039f"
             ],
             [
              0.2222222222222222,
              "#7201a8"
             ],
             [
              0.3333333333333333,
              "#9c179e"
             ],
             [
              0.4444444444444444,
              "#bd3786"
             ],
             [
              0.5555555555555556,
              "#d8576b"
             ],
             [
              0.6666666666666666,
              "#ed7953"
             ],
             [
              0.7777777777777778,
              "#fb9f3a"
             ],
             [
              0.8888888888888888,
              "#fdca26"
             ],
             [
              1,
              "#f0f921"
             ]
            ],
            "type": "heatmap"
           }
          ],
          "heatmapgl": [
           {
            "colorbar": {
             "outlinewidth": 0,
             "ticks": ""
            },
            "colorscale": [
             [
              0,
              "#0d0887"
             ],
             [
              0.1111111111111111,
              "#46039f"
             ],
             [
              0.2222222222222222,
              "#7201a8"
             ],
             [
              0.3333333333333333,
              "#9c179e"
             ],
             [
              0.4444444444444444,
              "#bd3786"
             ],
             [
              0.5555555555555556,
              "#d8576b"
             ],
             [
              0.6666666666666666,
              "#ed7953"
             ],
             [
              0.7777777777777778,
              "#fb9f3a"
             ],
             [
              0.8888888888888888,
              "#fdca26"
             ],
             [
              1,
              "#f0f921"
             ]
            ],
            "type": "heatmapgl"
           }
          ],
          "histogram": [
           {
            "marker": {
             "pattern": {
              "fillmode": "overlay",
              "size": 10,
              "solidity": 0.2
             }
            },
            "type": "histogram"
           }
          ],
          "histogram2d": [
           {
            "colorbar": {
             "outlinewidth": 0,
             "ticks": ""
            },
            "colorscale": [
             [
              0,
              "#0d0887"
             ],
             [
              0.1111111111111111,
              "#46039f"
             ],
             [
              0.2222222222222222,
              "#7201a8"
             ],
             [
              0.3333333333333333,
              "#9c179e"
             ],
             [
              0.4444444444444444,
              "#bd3786"
             ],
             [
              0.5555555555555556,
              "#d8576b"
             ],
             [
              0.6666666666666666,
              "#ed7953"
             ],
             [
              0.7777777777777778,
              "#fb9f3a"
             ],
             [
              0.8888888888888888,
              "#fdca26"
             ],
             [
              1,
              "#f0f921"
             ]
            ],
            "type": "histogram2d"
           }
          ],
          "histogram2dcontour": [
           {
            "colorbar": {
             "outlinewidth": 0,
             "ticks": ""
            },
            "colorscale": [
             [
              0,
              "#0d0887"
             ],
             [
              0.1111111111111111,
              "#46039f"
             ],
             [
              0.2222222222222222,
              "#7201a8"
             ],
             [
              0.3333333333333333,
              "#9c179e"
             ],
             [
              0.4444444444444444,
              "#bd3786"
             ],
             [
              0.5555555555555556,
              "#d8576b"
             ],
             [
              0.6666666666666666,
              "#ed7953"
             ],
             [
              0.7777777777777778,
              "#fb9f3a"
             ],
             [
              0.8888888888888888,
              "#fdca26"
             ],
             [
              1,
              "#f0f921"
             ]
            ],
            "type": "histogram2dcontour"
           }
          ],
          "mesh3d": [
           {
            "colorbar": {
             "outlinewidth": 0,
             "ticks": ""
            },
            "type": "mesh3d"
           }
          ],
          "parcoords": [
           {
            "line": {
             "colorbar": {
              "outlinewidth": 0,
              "ticks": ""
             }
            },
            "type": "parcoords"
           }
          ],
          "pie": [
           {
            "automargin": true,
            "type": "pie"
           }
          ],
          "scatter": [
           {
            "fillpattern": {
             "fillmode": "overlay",
             "size": 10,
             "solidity": 0.2
            },
            "type": "scatter"
           }
          ],
          "scatter3d": [
           {
            "line": {
             "colorbar": {
              "outlinewidth": 0,
              "ticks": ""
             }
            },
            "marker": {
             "colorbar": {
              "outlinewidth": 0,
              "ticks": ""
             }
            },
            "type": "scatter3d"
           }
          ],
          "scattercarpet": [
           {
            "marker": {
             "colorbar": {
              "outlinewidth": 0,
              "ticks": ""
             }
            },
            "type": "scattercarpet"
           }
          ],
          "scattergeo": [
           {
            "marker": {
             "colorbar": {
              "outlinewidth": 0,
              "ticks": ""
             }
            },
            "type": "scattergeo"
           }
          ],
          "scattergl": [
           {
            "marker": {
             "colorbar": {
              "outlinewidth": 0,
              "ticks": ""
             }
            },
            "type": "scattergl"
           }
          ],
          "scattermapbox": [
           {
            "marker": {
             "colorbar": {
              "outlinewidth": 0,
              "ticks": ""
             }
            },
            "type": "scattermapbox"
           }
          ],
          "scatterpolar": [
           {
            "marker": {
             "colorbar": {
              "outlinewidth": 0,
              "ticks": ""
             }
            },
            "type": "scatterpolar"
           }
          ],
          "scatterpolargl": [
           {
            "marker": {
             "colorbar": {
              "outlinewidth": 0,
              "ticks": ""
             }
            },
            "type": "scatterpolargl"
           }
          ],
          "scatterternary": [
           {
            "marker": {
             "colorbar": {
              "outlinewidth": 0,
              "ticks": ""
             }
            },
            "type": "scatterternary"
           }
          ],
          "surface": [
           {
            "colorbar": {
             "outlinewidth": 0,
             "ticks": ""
            },
            "colorscale": [
             [
              0,
              "#0d0887"
             ],
             [
              0.1111111111111111,
              "#46039f"
             ],
             [
              0.2222222222222222,
              "#7201a8"
             ],
             [
              0.3333333333333333,
              "#9c179e"
             ],
             [
              0.4444444444444444,
              "#bd3786"
             ],
             [
              0.5555555555555556,
              "#d8576b"
             ],
             [
              0.6666666666666666,
              "#ed7953"
             ],
             [
              0.7777777777777778,
              "#fb9f3a"
             ],
             [
              0.8888888888888888,
              "#fdca26"
             ],
             [
              1,
              "#f0f921"
             ]
            ],
            "type": "surface"
           }
          ],
          "table": [
           {
            "cells": {
             "fill": {
              "color": "#EBF0F8"
             },
             "line": {
              "color": "white"
             }
            },
            "header": {
             "fill": {
              "color": "#C8D4E3"
             },
             "line": {
              "color": "white"
             }
            },
            "type": "table"
           }
          ]
         },
         "layout": {
          "annotationdefaults": {
           "arrowcolor": "#2a3f5f",
           "arrowhead": 0,
           "arrowwidth": 1
          },
          "autotypenumbers": "strict",
          "coloraxis": {
           "colorbar": {
            "outlinewidth": 0,
            "ticks": ""
           }
          },
          "colorscale": {
           "diverging": [
            [
             0,
             "#8e0152"
            ],
            [
             0.1,
             "#c51b7d"
            ],
            [
             0.2,
             "#de77ae"
            ],
            [
             0.3,
             "#f1b6da"
            ],
            [
             0.4,
             "#fde0ef"
            ],
            [
             0.5,
             "#f7f7f7"
            ],
            [
             0.6,
             "#e6f5d0"
            ],
            [
             0.7,
             "#b8e186"
            ],
            [
             0.8,
             "#7fbc41"
            ],
            [
             0.9,
             "#4d9221"
            ],
            [
             1,
             "#276419"
            ]
           ],
           "sequential": [
            [
             0,
             "#0d0887"
            ],
            [
             0.1111111111111111,
             "#46039f"
            ],
            [
             0.2222222222222222,
             "#7201a8"
            ],
            [
             0.3333333333333333,
             "#9c179e"
            ],
            [
             0.4444444444444444,
             "#bd3786"
            ],
            [
             0.5555555555555556,
             "#d8576b"
            ],
            [
             0.6666666666666666,
             "#ed7953"
            ],
            [
             0.7777777777777778,
             "#fb9f3a"
            ],
            [
             0.8888888888888888,
             "#fdca26"
            ],
            [
             1,
             "#f0f921"
            ]
           ],
           "sequentialminus": [
            [
             0,
             "#0d0887"
            ],
            [
             0.1111111111111111,
             "#46039f"
            ],
            [
             0.2222222222222222,
             "#7201a8"
            ],
            [
             0.3333333333333333,
             "#9c179e"
            ],
            [
             0.4444444444444444,
             "#bd3786"
            ],
            [
             0.5555555555555556,
             "#d8576b"
            ],
            [
             0.6666666666666666,
             "#ed7953"
            ],
            [
             0.7777777777777778,
             "#fb9f3a"
            ],
            [
             0.8888888888888888,
             "#fdca26"
            ],
            [
             1,
             "#f0f921"
            ]
           ]
          },
          "colorway": [
           "#636efa",
           "#EF553B",
           "#00cc96",
           "#ab63fa",
           "#FFA15A",
           "#19d3f3",
           "#FF6692",
           "#B6E880",
           "#FF97FF",
           "#FECB52"
          ],
          "font": {
           "color": "#2a3f5f"
          },
          "geo": {
           "bgcolor": "white",
           "lakecolor": "white",
           "landcolor": "#E5ECF6",
           "showlakes": true,
           "showland": true,
           "subunitcolor": "white"
          },
          "hoverlabel": {
           "align": "left"
          },
          "hovermode": "closest",
          "mapbox": {
           "style": "light"
          },
          "paper_bgcolor": "white",
          "plot_bgcolor": "#E5ECF6",
          "polar": {
           "angularaxis": {
            "gridcolor": "white",
            "linecolor": "white",
            "ticks": ""
           },
           "bgcolor": "#E5ECF6",
           "radialaxis": {
            "gridcolor": "white",
            "linecolor": "white",
            "ticks": ""
           }
          },
          "scene": {
           "xaxis": {
            "backgroundcolor": "#E5ECF6",
            "gridcolor": "white",
            "gridwidth": 2,
            "linecolor": "white",
            "showbackground": true,
            "ticks": "",
            "zerolinecolor": "white"
           },
           "yaxis": {
            "backgroundcolor": "#E5ECF6",
            "gridcolor": "white",
            "gridwidth": 2,
            "linecolor": "white",
            "showbackground": true,
            "ticks": "",
            "zerolinecolor": "white"
           },
           "zaxis": {
            "backgroundcolor": "#E5ECF6",
            "gridcolor": "white",
            "gridwidth": 2,
            "linecolor": "white",
            "showbackground": true,
            "ticks": "",
            "zerolinecolor": "white"
           }
          },
          "shapedefaults": {
           "line": {
            "color": "#2a3f5f"
           }
          },
          "ternary": {
           "aaxis": {
            "gridcolor": "white",
            "linecolor": "white",
            "ticks": ""
           },
           "baxis": {
            "gridcolor": "white",
            "linecolor": "white",
            "ticks": ""
           },
           "bgcolor": "#E5ECF6",
           "caxis": {
            "gridcolor": "white",
            "linecolor": "white",
            "ticks": ""
           }
          },
          "title": {
           "x": 0.05
          },
          "xaxis": {
           "automargin": true,
           "gridcolor": "white",
           "linecolor": "white",
           "ticks": "",
           "title": {
            "standoff": 15
           },
           "zerolinecolor": "white",
           "zerolinewidth": 2
          },
          "yaxis": {
           "automargin": true,
           "gridcolor": "white",
           "linecolor": "white",
           "ticks": "",
           "title": {
            "standoff": 15
           },
           "zerolinecolor": "white",
           "zerolinewidth": 2
          }
         }
        },
        "title": {
         "text": "Percent of Population Has to Relocate"
        }
       }
      }
     },
     "metadata": {},
     "output_type": "display_data"
    }
   ],
   "source": [
    "# create choropleth map of population with water from df_country\n",
    "\n",
    "hover_data_list =[\n",
    "    \"Entity\",\n",
    "    \"country_pop_raw\",\n",
    "    \"country_pop_with_water\",\n",
    "    \"country_pop_without_water\",\n",
    "    \"population_piped_with_access\",\n",
    "    \"population_piped_with_cycling_access\",\n",
    "    \"population_piped_with_walking_access\",\n",
    "    \"percent_without_water\",\n",
    "    \"percent_with_water\",\n",
    "    \"Nat Piped\",\n",
    "    \"region\",\n",
    "    \"subregion\",\n",
    "    \"weighted_med\"\n",
    "    ]\n",
    "\n",
    "\n",
    "choro = px.choropleth(\n",
    "    title=\"Percent of Population Has to Relocate\",\n",
    "    data_frame=df_countries,\n",
    "    locations=\"ISOCODE\",\n",
    "    height=600,\n",
    "    color=\"percent_without_water\",\n",
    "    # use constant colorbar grading (not relative)\n",
    "    color_continuous_scale=px.colors.sequential.Plasma,\n",
    "    range_color=(0, 100),\n",
    "    scope=\"world\",\n",
    "    hover_name=\"Entity\",\n",
    "    hover_data=hover_data_list\n",
    ")\n",
    "choro.layout.coloraxis.colorbar.title = ''\n",
    "choro.show()\n",
    "\n"
   ]
  },
  {
   "cell_type": "code",
   "execution_count": 19,
   "metadata": {},
   "outputs": [
    {
     "data": {
      "application/vnd.plotly.v1+json": {
       "config": {
        "plotlyServerURL": "https://plot.ly"
       },
       "data": [
        {
         "hovertemplate": "<b>%{hovertext}</b><br><br>region=Asia<br>percent_without_water=%{x}<br>Nat Piped=%{y}<br>bubble_size=%{marker.size}<extra></extra>",
         "hovertext": [
          "Afghanistan",
          "United Arab Emirates",
          "Armenia",
          "Azerbaijan",
          "Bangladesh",
          "Brunei",
          "Bhutan",
          "China",
          "Georgia",
          "Hong Kong",
          "Indonesia",
          "India",
          "Iran",
          "Iraq",
          "Israel",
          "Jordan",
          "Japan",
          "Kazakhstan",
          "Kyrgyzstan",
          "Cambodia",
          "South Korea",
          "Kuwait",
          "Laos",
          "Lebanon",
          "Sri Lanka",
          "Myanmar",
          "Mongolia",
          "Malaysia",
          "Nepal",
          "Oman",
          "Pakistan",
          "Philippines",
          "North Korea",
          "Palestine",
          "Qatar",
          "Saudi Arabia",
          "Singapore",
          "Syria",
          "Thailand",
          "Tajikistan",
          "Turkmenistan",
          "Timor",
          "Turkey",
          "Taiwan",
          "Uzbekistan",
          "Vietnam",
          "Yemen"
         ],
         "legendgroup": "Asia",
         "marker": {
          "color": "#636efa",
          "size": [
           89.83542800000001,
           59.991083,
           52.968128,
           60.223344,
           216.303494,
           50.441532,
           50.7799,
           1494.216102,
           53.979773,
           57.5528,
           326.36178799999993,
           1443.409033,
           135.02876,
           91.179351,
           58.789776,
           60.269022,
           176.050796,
           68.994958,
           56.628347,
           66.946446,
           101.305184,
           54.328553,
           57.379357999999996,
           56.769151,
           71.497306,
           104.80601399999999,
           53.329282,
           82.776195,
           79.67492,
           55.223376,
           275.199929,
           161.04690999999997,
           75.887045,
           55.222756000000004,
           52.930524,
           85.34067999999999,
           55.896684,
           68.27570399999999,
           119.950844,
           59.749624999999995,
           56.117933,
           51.343875,
           135.042736,
           73.855008,
           83.935765,
           148.16882900000002,
           80.490639
          ],
          "sizemode": "area",
          "sizeref": 3.735540255,
          "symbol": "circle"
         },
         "mode": "markers",
         "name": "Asia",
         "orientation": "v",
         "showlegend": true,
         "type": "scatter",
         "x": [
          25.96593794456895,
          99.87039781048918,
          2.3863697662520327,
          4.850835793069335,
          1.5796272390630857,
          9.3655396109924,
          17.85828008813878,
          9.802665391787924,
          6.925985732489176,
          78.60987562580006,
          12.782152397506216,
          7.90536525885236,
          33.36952136966763,
          16.90574072562497,
          66.12198244479916,
          44.765790568290264,
          12.415450543811367,
          23.35935322191158,
          11.329009925284717,
          13.629106008744538,
          17.262381928550123,
          91.80769063259214,
          15.794914546767371,
          31.74728158657626,
          12.208895188260914,
          21.3946468347653,
          28.3171207020952,
          14.217260682065874,
          5.812160338394957,
          81.69931694407366,
          6.943879101865445,
          9.824233636861608,
          17.08010705383714,
          52.44193186893419,
          85.30015578806233,
          82.68761477458119,
          48.894036900223,
          32.54834466383074,
          5.873842931617798,
          28.143234066921092,
          13.861100428899853,
          78.19593521857124,
          15.094579544648527,
          9.206118328946387,
          15.600345463637073,
          3.8883820293841396,
          52.15842215919631
         ],
         "xaxis": "x",
         "y": [
          22,
          100,
          100,
          91,
          15,
          100,
          100,
          80,
          82,
          100,
          35,
          44,
          99,
          83,
          100,
          89,
          98,
          81,
          94,
          32,
          100,
          91.5,
          31,
          89,
          39,
          33,
          25,
          95,
          50,
          96,
          26,
          66,
          100,
          54,
          100,
          84,
          100,
          71,
          81,
          65,
          52,
          66,
          95,
          86.1428571428571,
          70,
          48,
          56
         ],
         "yaxis": "y"
        },
        {
         "hovertemplate": "<b>%{hovertext}</b><br><br>region=Africa<br>percent_without_water=%{x}<br>Nat Piped=%{y}<br>bubble_size=%{marker.size}<extra></extra>",
         "hovertext": [
          "Angola",
          "Burundi",
          "Benin",
          "Burkina Faso",
          "Botswana",
          "Central African Republic",
          "Cote d'Ivoire",
          "Cameroon",
          "Democratic Republic of Congo",
          "Congo",
          "Djibouti",
          "Algeria",
          "Egypt",
          "Eritrea",
          "Western Sahara",
          "Ethiopia",
          "Gabon",
          "Ghana",
          "Guinea",
          "Gambia",
          "Guinea-Bissau",
          "Equatorial Guinea",
          "Kenya",
          "Liberia",
          "Libya",
          "Lesotho",
          "Morocco",
          "Madagascar",
          "Mali",
          "Mozambique",
          "Mauritania",
          "Mauritius",
          "Malawi",
          "Namibia",
          "Niger",
          "Nigeria",
          "Reunion",
          "Rwanda",
          "Sudan",
          "Senegal",
          "Sierra Leone",
          "Somalia",
          "South Sudan",
          "Sao Tome and Principe",
          "Eswatini",
          "Chad",
          "Togo",
          "Tunisia",
          "Tanzania",
          "Uganda",
          "South Africa",
          "Zambia",
          "Zimbabwe"
         ],
         "legendgroup": "Africa",
         "marker": {
          "color": "#EF553B",
          "size": [
           83.933611,
           62.255429,
           62.451031,
           71.497097,
           52.39724,
           54.919987,
           77.053629,
           77.224262,
           142.37798600000002,
           55.657016999999996,
           51.002197,
           94.616626,
           154.25832699999998,
           53.601462,
           50.611872,
           167.87622599999997,
           52.278829,
           81.732128,
           63.497237,
           52.486937,
           52.01549,
           51.449891,
           104.985702,
           55.180208,
           56.958538,
           52.159067,
           87.344787,
           78.427333,
           70.85572400000001,
           82.163045,
           54.77511,
           51.273428,
           69.647681,
           52.587344,
           75.13081,
           261.400704,
           50.901696,
           63.276517,
           94.909351,
           67.196308,
           58.141343,
           66.3595,
           61.381377,
           50.223364,
           51.172369,
           66.914985,
           58.478242,
           61.935764,
           111.498438,
           97.12353300000001,
           110.04199599999998,
           68.920657,
           65.09217100000001
          ],
          "sizemode": "area",
          "sizeref": 3.735540255,
          "symbol": "circle"
         },
         "mode": "markers",
         "name": "Africa",
         "orientation": "v",
         "showlegend": true,
         "type": "scatter",
         "x": [
          56.19742563539252,
          15.312592483428187,
          32.10881221250206,
          30.253464661331964,
          69.89688297398658,
          50.67016778786757,
          33.1544753283091,
          32.84448201304871,
          63.49424255677296,
          45.93048069139405,
          67.66251949996362,
          27.33009878787066,
          26.395920617518748,
          51.73835403313212,
          69.9024523254003,
          40.26448440895369,
          40.13232409941957,
          20.009592111285947,
          24.497075876284,
          18.40320673029667,
          40.3746766171812,
          34.499937202210454,
          33.02109172366543,
          24.61700965221352,
          70.89947289646994,
          20.09299065626593,
          49.921916406978085,
          60.00214431005475,
          33.66394264786853,
          40.12171348166461,
          66.46614372792153,
          16.154142627589284,
          6.951923717452961,
          73.96588798537303,
          62.013303093995034,
          25.745598916308545,
          33.259964755782114,
          18.590512525369938,
          45.44503069109652,
          62.99338453999235,
          40.01415779167616,
          44.36921618183672,
          25.49836717474153,
          16.15481482868853,
          20.806599917406384,
          47.37839633479505,
          32.86122859549618,
          50.8390061109836,
          33.50186698284754,
          15.700022034945405,
          13.245223533701134,
          38.84057431785122,
          30.880544340100315
         ],
         "xaxis": "x",
         "y": [
          42,
          38,
          37,
          28,
          91,
          14,
          42,
          36,
          35,
          53,
          83,
          72,
          100,
          52,
          68.3333333333333,
          41,
          82,
          35,
          25,
          77,
          35,
          41,
          33,
          4,
          78,
          69,
          80,
          35,
          50,
          41,
          53,
          100,
          22,
          81,
          40,
          10,
          100,
          38,
          46,
          75,
          21,
          47,
          4,
          97,
          61,
          20,
          25,
          93,
          38,
          23,
          91,
          32,
          27
         ],
         "yaxis": "y"
        },
        {
         "hovertemplate": "<b>%{hovertext}</b><br><br>region=Europe<br>percent_without_water=%{x}<br>Nat Piped=%{y}<br>bubble_size=%{marker.size}<extra></extra>",
         "hovertext": [
          "Albania",
          "Andorra",
          "Austria",
          "Belgium",
          "Bulgaria",
          "Bosnia and Herzegovina",
          "Belarus",
          "Switzerland",
          "Cyprus",
          "Czechia",
          "Germany",
          "Denmark",
          "Spain",
          "Estonia",
          "Finland",
          "France",
          "Faeroe Islands",
          "United Kingdom",
          "Greece",
          "Croatia",
          "Hungary",
          "Isle of Man",
          "Ireland",
          "Iceland",
          "Italy",
          "Liechtenstein",
          "Lithuania",
          "Luxembourg",
          "Latvia",
          "Moldova",
          "North Macedonia",
          "Malta",
          "Montenegro",
          "Netherlands",
          "Norway",
          "Poland",
          "Portugal",
          "Romania",
          "Russia",
          "Serbia",
          "Slovakia",
          "Slovenia",
          "Sweden",
          "Ukraine"
         ],
         "legendgroup": "Europe",
         "marker": {
          "color": "#00cc96",
          "size": [
           52.872934,
           50.077354,
           59.043071999999995,
           61.632334,
           56.896655,
           53.263459,
           59.442867,
           58.715494,
           51.215588,
           60.724553,
           133.900471,
           55.813302,
           96.745211,
           51.325188,
           55.548361,
           115.426177,
           50.049053,
           118.207114,
           60.370747,
           54.081657,
           59.634162,
           50.08541,
           54.982904,
           50.34336,
           110.367471,
           50.038254,
           52.689862,
           50.634814,
           51.866934,
           54.024025,
           52.082661,
           50.44279,
           50.628051,
           67.17309399999999,
           55.465629,
           87.797,
           60.167923,
           69.12777200000001,
           195.91202199999998,
           58.697547,
           55.460726,
           52.078723,
           60.160159,
           93.466822
          ],
          "sizemode": "area",
          "sizeref": 3.735540255,
          "symbol": "circle"
         },
         "mode": "markers",
         "name": "Europe",
         "orientation": "v",
         "showlegend": true,
         "type": "scatter",
         "x": [
          5.34256408618476,
          1.175756524255925e-15,
          0.6391295755483352,
          4.242144440994976,
          6.703622605719561,
          7.71327616825991,
          3.1424866619914193,
          0.8247344507517866,
          26.215763796100955,
          4.261803462175692,
          4.966080476470988,
          20.834742681911408,
          16.72001273161582,
          10.21723372335191,
          10.504706923282162,
          3.6111440057937894,
          37.54066320824524,
          6.874829771687005,
          47.4219073274848,
          15.365412973239657,
          5.758295796722443,
          38.2642812999928,
          12.822600142722726,
          28.397708298915457,
          9.392968677755249,
          0,
          7.115139346723395,
          2.4043839337582513,
          3.8310002264015734,
          10.817392524941091,
          3.8461781426094035,
          40.796624683526225,
          15.338467277930453,
          6.796245294317142,
          14.806410202453883,
          18.130294742558036,
          25.236892178617094,
          3.463830210204797,
          11.787401607334992,
          6.608252475762832,
          3.0788065941851808,
          7.213692977132707,
          9.87223160908194,
          2.6239573398877996
         ],
         "xaxis": "x",
         "y": [
          81,
          100,
          99.4285714285714,
          100,
          100,
          95,
          96,
          100,
          100,
          100,
          100,
          100,
          100,
          93,
          100,
          93,
          100,
          100,
          100,
          94.5,
          100,
          98,
          97,
          100,
          98,
          100,
          96,
          100,
          94,
          72,
          92,
          100,
          89,
          91,
          100,
          89,
          100,
          64,
          94,
          94,
          98,
          97.9821428571429,
          88,
          64
         ],
         "yaxis": "y"
        },
        {
         "hovertemplate": "<b>%{hovertext}</b><br><br>region=Americas<br>percent_without_water=%{x}<br>Nat Piped=%{y}<br>bubble_size=%{marker.size}<extra></extra>",
         "hovertext": [
          "Argentina",
          "Bahamas",
          "Belize",
          "Bolivia",
          "Brazil",
          "Canada",
          "Chile",
          "Colombia",
          "Costa Rica",
          "Cuba",
          "Dominican Republic",
          "Ecuador",
          "Falkland Islands",
          "Guadeloupe",
          "Grenada",
          "Greenland",
          "Guatemala",
          "French Guiana",
          "Guyana",
          "Honduras",
          "Haiti",
          "Jamaica",
          "Saint Lucia",
          "Mexico",
          "Montserrat",
          "Martinique",
          "Nicaragua",
          "Panama",
          "Peru",
          "Puerto Rico",
          "Paraguay",
          "El Salvador",
          "Suriname",
          "Trinidad and Tobago",
          "Uruguay",
          "United States",
          "Venezuela"
         ],
         "legendgroup": "Americas",
         "marker": {
          "color": "#ab63fa",
          "size": [
           95.605823,
           50.396914,
           50.404915,
           61.832936000000004,
           263.99344099999996,
           88.067913,
           69.212362,
           101.265841,
           55.139053,
           61.317498,
           60.953714,
           67.888474,
           50.003528,
           50.400013,
           50.113015,
           50.056868,
           68.24986799999999,
           50.30645,
           50.790329,
           60.062994,
           61.541683,
           52.973462,
           50.184401,
           180.26222,
           50.004981,
           50.374743,
           56.702379,
           54.381583,
           83.359415,
           52.828246,
           57.219640999999996,
           56.5185,
           50.591798,
           51.403374,
           53.485152,
           382.91507400000006,
           78.704947
          ],
          "sizemode": "area",
          "sizeref": 3.735540255,
          "symbol": "circle"
         },
         "mode": "markers",
         "name": "Americas",
         "orientation": "v",
         "showlegend": true,
         "type": "scatter",
         "x": [
          27.450506298547566,
          36.60259775924452,
          6.909520538953561,
          23.502080659903005,
          24.804543905413624,
          11.060920574624786,
          20.851201378390076,
          18.37139379657911,
          7.459290840858168,
          14.723460168430064,
          16.14614768984183,
          23.240757398053045,
          53.118542479492895,
          45.00088548152521,
          42.74103659817931,
          54.06270838039903,
          12.727743565918463,
          8.109522013865242,
          7.986307202678045,
          12.587822334566232,
          37.50286654573047,
          21.75110777201783,
          51.46323434141758,
          32.27867867201402,
          15.05493887717802,
          36.22653232537647,
          15.321063895125642,
          19.191817563040185,
          33.411280923191136,
          12.099348567653276,
          13.503956232126809,
          8.416806938615533,
          7.482383927014341,
          28.327574883653444,
          48.741356542475756,
          18.896321035121662,
          28.844252330974072
         ],
         "xaxis": "x",
         "y": [
          96,
          97,
          87,
          69,
          98,
          100,
          100,
          89,
          100,
          80,
          81,
          91,
          91,
          86.1428571428572,
          92,
          100,
          77,
          88,
          65,
          92,
          19,
          83,
          97,
          98,
          98,
          86.1428571428571,
          70,
          93,
          90,
          100,
          100,
          91,
          80,
          93,
          100,
          99,
          79
         ],
         "yaxis": "y"
        },
        {
         "hovertemplate": "<b>%{hovertext}</b><br><br>region=Oceania<br>percent_without_water=%{x}<br>Nat Piped=%{y}<br>bubble_size=%{marker.size}<extra></extra>",
         "hovertext": [
          "Australia",
          "Fiji",
          "New Caledonia",
          "New Zealand",
          "Papua New Guinea",
          "Solomon Islands",
          "Vanuatu",
          "Samoa"
         ],
         "legendgroup": "Oceania",
         "marker": {
          "color": "#FFA15A",
          "size": [
           75.788217,
           50.902899,
           50.288217,
           54.860642,
           59.119005,
           50.703995,
           50.314464,
           50.200144
          ],
          "sizemode": "area",
          "sizeref": 3.735540255,
          "symbol": "circle"
         },
         "mode": "markers",
         "name": "Oceania",
         "orientation": "v",
         "showlegend": true,
         "type": "scatter",
         "x": [
          13.48210928539881,
          33.74347820380149,
          34.60199941258528,
          19.319449111556843,
          51.782895132174,
          45.247860213381685,
          21.332127408694056,
          30.67444088378684
         ],
         "xaxis": "x",
         "y": [
          91,
          83,
          99,
          100,
          18,
          46,
          48,
          84
         ],
         "yaxis": "y"
        }
       ],
       "layout": {
        "legend": {
         "itemsizing": "constant",
         "title": {
          "text": "region"
         },
         "tracegroupgap": 0
        },
        "template": {
         "data": {
          "bar": [
           {
            "error_x": {
             "color": "#2a3f5f"
            },
            "error_y": {
             "color": "#2a3f5f"
            },
            "marker": {
             "line": {
              "color": "#E5ECF6",
              "width": 0.5
             },
             "pattern": {
              "fillmode": "overlay",
              "size": 10,
              "solidity": 0.2
             }
            },
            "type": "bar"
           }
          ],
          "barpolar": [
           {
            "marker": {
             "line": {
              "color": "#E5ECF6",
              "width": 0.5
             },
             "pattern": {
              "fillmode": "overlay",
              "size": 10,
              "solidity": 0.2
             }
            },
            "type": "barpolar"
           }
          ],
          "carpet": [
           {
            "aaxis": {
             "endlinecolor": "#2a3f5f",
             "gridcolor": "white",
             "linecolor": "white",
             "minorgridcolor": "white",
             "startlinecolor": "#2a3f5f"
            },
            "baxis": {
             "endlinecolor": "#2a3f5f",
             "gridcolor": "white",
             "linecolor": "white",
             "minorgridcolor": "white",
             "startlinecolor": "#2a3f5f"
            },
            "type": "carpet"
           }
          ],
          "choropleth": [
           {
            "colorbar": {
             "outlinewidth": 0,
             "ticks": ""
            },
            "type": "choropleth"
           }
          ],
          "contour": [
           {
            "colorbar": {
             "outlinewidth": 0,
             "ticks": ""
            },
            "colorscale": [
             [
              0,
              "#0d0887"
             ],
             [
              0.1111111111111111,
              "#46039f"
             ],
             [
              0.2222222222222222,
              "#7201a8"
             ],
             [
              0.3333333333333333,
              "#9c179e"
             ],
             [
              0.4444444444444444,
              "#bd3786"
             ],
             [
              0.5555555555555556,
              "#d8576b"
             ],
             [
              0.6666666666666666,
              "#ed7953"
             ],
             [
              0.7777777777777778,
              "#fb9f3a"
             ],
             [
              0.8888888888888888,
              "#fdca26"
             ],
             [
              1,
              "#f0f921"
             ]
            ],
            "type": "contour"
           }
          ],
          "contourcarpet": [
           {
            "colorbar": {
             "outlinewidth": 0,
             "ticks": ""
            },
            "type": "contourcarpet"
           }
          ],
          "heatmap": [
           {
            "colorbar": {
             "outlinewidth": 0,
             "ticks": ""
            },
            "colorscale": [
             [
              0,
              "#0d0887"
             ],
             [
              0.1111111111111111,
              "#46039f"
             ],
             [
              0.2222222222222222,
              "#7201a8"
             ],
             [
              0.3333333333333333,
              "#9c179e"
             ],
             [
              0.4444444444444444,
              "#bd3786"
             ],
             [
              0.5555555555555556,
              "#d8576b"
             ],
             [
              0.6666666666666666,
              "#ed7953"
             ],
             [
              0.7777777777777778,
              "#fb9f3a"
             ],
             [
              0.8888888888888888,
              "#fdca26"
             ],
             [
              1,
              "#f0f921"
             ]
            ],
            "type": "heatmap"
           }
          ],
          "heatmapgl": [
           {
            "colorbar": {
             "outlinewidth": 0,
             "ticks": ""
            },
            "colorscale": [
             [
              0,
              "#0d0887"
             ],
             [
              0.1111111111111111,
              "#46039f"
             ],
             [
              0.2222222222222222,
              "#7201a8"
             ],
             [
              0.3333333333333333,
              "#9c179e"
             ],
             [
              0.4444444444444444,
              "#bd3786"
             ],
             [
              0.5555555555555556,
              "#d8576b"
             ],
             [
              0.6666666666666666,
              "#ed7953"
             ],
             [
              0.7777777777777778,
              "#fb9f3a"
             ],
             [
              0.8888888888888888,
              "#fdca26"
             ],
             [
              1,
              "#f0f921"
             ]
            ],
            "type": "heatmapgl"
           }
          ],
          "histogram": [
           {
            "marker": {
             "pattern": {
              "fillmode": "overlay",
              "size": 10,
              "solidity": 0.2
             }
            },
            "type": "histogram"
           }
          ],
          "histogram2d": [
           {
            "colorbar": {
             "outlinewidth": 0,
             "ticks": ""
            },
            "colorscale": [
             [
              0,
              "#0d0887"
             ],
             [
              0.1111111111111111,
              "#46039f"
             ],
             [
              0.2222222222222222,
              "#7201a8"
             ],
             [
              0.3333333333333333,
              "#9c179e"
             ],
             [
              0.4444444444444444,
              "#bd3786"
             ],
             [
              0.5555555555555556,
              "#d8576b"
             ],
             [
              0.6666666666666666,
              "#ed7953"
             ],
             [
              0.7777777777777778,
              "#fb9f3a"
             ],
             [
              0.8888888888888888,
              "#fdca26"
             ],
             [
              1,
              "#f0f921"
             ]
            ],
            "type": "histogram2d"
           }
          ],
          "histogram2dcontour": [
           {
            "colorbar": {
             "outlinewidth": 0,
             "ticks": ""
            },
            "colorscale": [
             [
              0,
              "#0d0887"
             ],
             [
              0.1111111111111111,
              "#46039f"
             ],
             [
              0.2222222222222222,
              "#7201a8"
             ],
             [
              0.3333333333333333,
              "#9c179e"
             ],
             [
              0.4444444444444444,
              "#bd3786"
             ],
             [
              0.5555555555555556,
              "#d8576b"
             ],
             [
              0.6666666666666666,
              "#ed7953"
             ],
             [
              0.7777777777777778,
              "#fb9f3a"
             ],
             [
              0.8888888888888888,
              "#fdca26"
             ],
             [
              1,
              "#f0f921"
             ]
            ],
            "type": "histogram2dcontour"
           }
          ],
          "mesh3d": [
           {
            "colorbar": {
             "outlinewidth": 0,
             "ticks": ""
            },
            "type": "mesh3d"
           }
          ],
          "parcoords": [
           {
            "line": {
             "colorbar": {
              "outlinewidth": 0,
              "ticks": ""
             }
            },
            "type": "parcoords"
           }
          ],
          "pie": [
           {
            "automargin": true,
            "type": "pie"
           }
          ],
          "scatter": [
           {
            "fillpattern": {
             "fillmode": "overlay",
             "size": 10,
             "solidity": 0.2
            },
            "type": "scatter"
           }
          ],
          "scatter3d": [
           {
            "line": {
             "colorbar": {
              "outlinewidth": 0,
              "ticks": ""
             }
            },
            "marker": {
             "colorbar": {
              "outlinewidth": 0,
              "ticks": ""
             }
            },
            "type": "scatter3d"
           }
          ],
          "scattercarpet": [
           {
            "marker": {
             "colorbar": {
              "outlinewidth": 0,
              "ticks": ""
             }
            },
            "type": "scattercarpet"
           }
          ],
          "scattergeo": [
           {
            "marker": {
             "colorbar": {
              "outlinewidth": 0,
              "ticks": ""
             }
            },
            "type": "scattergeo"
           }
          ],
          "scattergl": [
           {
            "marker": {
             "colorbar": {
              "outlinewidth": 0,
              "ticks": ""
             }
            },
            "type": "scattergl"
           }
          ],
          "scattermapbox": [
           {
            "marker": {
             "colorbar": {
              "outlinewidth": 0,
              "ticks": ""
             }
            },
            "type": "scattermapbox"
           }
          ],
          "scatterpolar": [
           {
            "marker": {
             "colorbar": {
              "outlinewidth": 0,
              "ticks": ""
             }
            },
            "type": "scatterpolar"
           }
          ],
          "scatterpolargl": [
           {
            "marker": {
             "colorbar": {
              "outlinewidth": 0,
              "ticks": ""
             }
            },
            "type": "scatterpolargl"
           }
          ],
          "scatterternary": [
           {
            "marker": {
             "colorbar": {
              "outlinewidth": 0,
              "ticks": ""
             }
            },
            "type": "scatterternary"
           }
          ],
          "surface": [
           {
            "colorbar": {
             "outlinewidth": 0,
             "ticks": ""
            },
            "colorscale": [
             [
              0,
              "#0d0887"
             ],
             [
              0.1111111111111111,
              "#46039f"
             ],
             [
              0.2222222222222222,
              "#7201a8"
             ],
             [
              0.3333333333333333,
              "#9c179e"
             ],
             [
              0.4444444444444444,
              "#bd3786"
             ],
             [
              0.5555555555555556,
              "#d8576b"
             ],
             [
              0.6666666666666666,
              "#ed7953"
             ],
             [
              0.7777777777777778,
              "#fb9f3a"
             ],
             [
              0.8888888888888888,
              "#fdca26"
             ],
             [
              1,
              "#f0f921"
             ]
            ],
            "type": "surface"
           }
          ],
          "table": [
           {
            "cells": {
             "fill": {
              "color": "#EBF0F8"
             },
             "line": {
              "color": "white"
             }
            },
            "header": {
             "fill": {
              "color": "#C8D4E3"
             },
             "line": {
              "color": "white"
             }
            },
            "type": "table"
           }
          ]
         },
         "layout": {
          "annotationdefaults": {
           "arrowcolor": "#2a3f5f",
           "arrowhead": 0,
           "arrowwidth": 1
          },
          "autotypenumbers": "strict",
          "coloraxis": {
           "colorbar": {
            "outlinewidth": 0,
            "ticks": ""
           }
          },
          "colorscale": {
           "diverging": [
            [
             0,
             "#8e0152"
            ],
            [
             0.1,
             "#c51b7d"
            ],
            [
             0.2,
             "#de77ae"
            ],
            [
             0.3,
             "#f1b6da"
            ],
            [
             0.4,
             "#fde0ef"
            ],
            [
             0.5,
             "#f7f7f7"
            ],
            [
             0.6,
             "#e6f5d0"
            ],
            [
             0.7,
             "#b8e186"
            ],
            [
             0.8,
             "#7fbc41"
            ],
            [
             0.9,
             "#4d9221"
            ],
            [
             1,
             "#276419"
            ]
           ],
           "sequential": [
            [
             0,
             "#0d0887"
            ],
            [
             0.1111111111111111,
             "#46039f"
            ],
            [
             0.2222222222222222,
             "#7201a8"
            ],
            [
             0.3333333333333333,
             "#9c179e"
            ],
            [
             0.4444444444444444,
             "#bd3786"
            ],
            [
             0.5555555555555556,
             "#d8576b"
            ],
            [
             0.6666666666666666,
             "#ed7953"
            ],
            [
             0.7777777777777778,
             "#fb9f3a"
            ],
            [
             0.8888888888888888,
             "#fdca26"
            ],
            [
             1,
             "#f0f921"
            ]
           ],
           "sequentialminus": [
            [
             0,
             "#0d0887"
            ],
            [
             0.1111111111111111,
             "#46039f"
            ],
            [
             0.2222222222222222,
             "#7201a8"
            ],
            [
             0.3333333333333333,
             "#9c179e"
            ],
            [
             0.4444444444444444,
             "#bd3786"
            ],
            [
             0.5555555555555556,
             "#d8576b"
            ],
            [
             0.6666666666666666,
             "#ed7953"
            ],
            [
             0.7777777777777778,
             "#fb9f3a"
            ],
            [
             0.8888888888888888,
             "#fdca26"
            ],
            [
             1,
             "#f0f921"
            ]
           ]
          },
          "colorway": [
           "#636efa",
           "#EF553B",
           "#00cc96",
           "#ab63fa",
           "#FFA15A",
           "#19d3f3",
           "#FF6692",
           "#B6E880",
           "#FF97FF",
           "#FECB52"
          ],
          "font": {
           "color": "#2a3f5f"
          },
          "geo": {
           "bgcolor": "white",
           "lakecolor": "white",
           "landcolor": "#E5ECF6",
           "showlakes": true,
           "showland": true,
           "subunitcolor": "white"
          },
          "hoverlabel": {
           "align": "left"
          },
          "hovermode": "closest",
          "mapbox": {
           "style": "light"
          },
          "paper_bgcolor": "white",
          "plot_bgcolor": "#E5ECF6",
          "polar": {
           "angularaxis": {
            "gridcolor": "white",
            "linecolor": "white",
            "ticks": ""
           },
           "bgcolor": "#E5ECF6",
           "radialaxis": {
            "gridcolor": "white",
            "linecolor": "white",
            "ticks": ""
           }
          },
          "scene": {
           "xaxis": {
            "backgroundcolor": "#E5ECF6",
            "gridcolor": "white",
            "gridwidth": 2,
            "linecolor": "white",
            "showbackground": true,
            "ticks": "",
            "zerolinecolor": "white"
           },
           "yaxis": {
            "backgroundcolor": "#E5ECF6",
            "gridcolor": "white",
            "gridwidth": 2,
            "linecolor": "white",
            "showbackground": true,
            "ticks": "",
            "zerolinecolor": "white"
           },
           "zaxis": {
            "backgroundcolor": "#E5ECF6",
            "gridcolor": "white",
            "gridwidth": 2,
            "linecolor": "white",
            "showbackground": true,
            "ticks": "",
            "zerolinecolor": "white"
           }
          },
          "shapedefaults": {
           "line": {
            "color": "#2a3f5f"
           }
          },
          "ternary": {
           "aaxis": {
            "gridcolor": "white",
            "linecolor": "white",
            "ticks": ""
           },
           "baxis": {
            "gridcolor": "white",
            "linecolor": "white",
            "ticks": ""
           },
           "bgcolor": "#E5ECF6",
           "caxis": {
            "gridcolor": "white",
            "linecolor": "white",
            "ticks": ""
           }
          },
          "title": {
           "x": 0.05
          },
          "xaxis": {
           "automargin": true,
           "gridcolor": "white",
           "linecolor": "white",
           "ticks": "",
           "title": {
            "standoff": 15
           },
           "zerolinecolor": "white",
           "zerolinewidth": 2
          },
          "yaxis": {
           "automargin": true,
           "gridcolor": "white",
           "linecolor": "white",
           "ticks": "",
           "title": {
            "standoff": 15
           },
           "zerolinecolor": "white",
           "zerolinewidth": 2
          }
         }
        },
        "title": {
         "text": "Access to Water vs. Piped Water vs. Population"
        },
        "xaxis": {
         "anchor": "y",
         "domain": [
          0,
          1
         ],
         "title": {
          "text": "percent_without_water"
         }
        },
        "yaxis": {
         "anchor": "x",
         "domain": [
          0,
          1
         ],
         "title": {
          "text": "Nat Piped"
         }
        }
       }
      }
     },
     "metadata": {},
     "output_type": "display_data"
    }
   ],
   "source": [
    "# create bubble chart from df_countries comprising: access to water, piped water, and using population as the size of the bubble\n",
    "# create a new column for the size of the bubble\n",
    "df_countries[\"bubble_size\"] = df_countries[\"country_pop_raw\"] / 1000000 +50\n",
    "\n",
    "# create a new column for the color of the bubble\n",
    "df_countries[\"bubble_color\"] = df_countries[\"Nat Piped\"]\n",
    "\n",
    "# create a new column for the text of the bubble\n",
    "df_countries[\"bubble_text\"] = df_countries[\"Entity\"]\n",
    "\n",
    "px.scatter(df_countries, x=\"percent_without_water\", y=\"Nat Piped\", size=\"bubble_size\", color=\"region\", hover_name=\"bubble_text\", title=\"Access to Water vs. Piped Water vs. Population\")"
   ]
  },
  {
   "attachments": {},
   "cell_type": "markdown",
   "metadata": {},
   "source": [
    "Above graph is the money shot. NMeed to fix bubble sizes, maybe add labels"
   ]
  },
  {
   "cell_type": "code",
   "execution_count": 20,
   "metadata": {},
   "outputs": [
    {
     "data": {
      "application/vnd.plotly.v1+json": {
       "config": {
        "plotlyServerURL": "https://plot.ly"
       },
       "data": [
        {
         "hovertemplate": "subregion=Eastern Africa<br>Entity=%{x}<br>weighted_med=%{y}<extra></extra>",
         "legendgroup": "Eastern Africa",
         "line": {
          "color": "#636efa",
          "dash": "solid"
         },
         "marker": {
          "symbol": "circle"
         },
         "mode": "lines",
         "name": "Eastern Africa",
         "orientation": "v",
         "showlegend": true,
         "type": "scatter",
         "x": [
          "Mauritius",
          "Malawi",
          "Zambia",
          "Uganda",
          "Tanzania",
          "Mozambique",
          "Burundi",
          "Rwanda",
          "Zimbabwe",
          "Madagascar",
          "Kenya",
          "Reunion",
          "Ethiopia",
          "Eritrea",
          "Djibouti",
          "Somalia"
         ],
         "xaxis": "x",
         "y": [
          2,
          2.82842700195312,
          3,
          3,
          3,
          3.16227807617188,
          3.16227807617188,
          3.60555102539062,
          3.60555102539062,
          4,
          4.12310498046875,
          4.12310498046875,
          7.07106787109375,
          21.09501953125,
          38.83298046875,
          86.2786171875
         ],
         "yaxis": "y"
        },
        {
         "hovertemplate": "subregion=Middle Africa<br>Entity=%{x}<br>weighted_med=%{y}<extra></extra>",
         "legendgroup": "Middle Africa",
         "line": {
          "color": "#EF553B",
          "dash": "solid"
         },
         "marker": {
          "symbol": "circle"
         },
         "mode": "lines",
         "name": "Middle Africa",
         "orientation": "v",
         "showlegend": true,
         "type": "scatter",
         "x": [
          "Congo",
          "Central African Republic",
          "Democratic Republic of Congo",
          "Equatorial Guinea",
          "Cameroon",
          "Angola",
          "Gabon",
          "Sao Tome and Principe",
          "South Sudan",
          "Chad"
         ],
         "xaxis": "x",
         "y": [
          2,
          3,
          3,
          3.16227807617188,
          3.60555102539062,
          4.12310498046875,
          4.47213623046875,
          5.09902001953125,
          9.4868330078125,
          20
         ],
         "yaxis": "y"
        },
        {
         "hovertemplate": "subregion=Central America<br>Entity=%{x}<br>weighted_med=%{y}<extra></extra>",
         "legendgroup": "Central America",
         "line": {
          "color": "#00cc96",
          "dash": "solid"
         },
         "marker": {
          "symbol": "circle"
         },
         "mode": "lines",
         "name": "Central America",
         "orientation": "v",
         "showlegend": true,
         "type": "scatter",
         "x": [
          "Panama",
          "El Salvador",
          "Belize",
          "Honduras",
          "Costa Rica",
          "Guatemala",
          "Nicaragua",
          "Mexico"
         ],
         "xaxis": "x",
         "y": [
          2,
          2.82842700195312,
          2.82842700195312,
          3.16227807617188,
          3.16227807617188,
          3.60555102539062,
          4,
          5.65685400390625
         ],
         "yaxis": "y"
        },
        {
         "hovertemplate": "subregion=Caribbean<br>Entity=%{x}<br>weighted_med=%{y}<extra></extra>",
         "legendgroup": "Caribbean",
         "line": {
          "color": "#ab63fa",
          "dash": "solid"
         },
         "marker": {
          "symbol": "circle"
         },
         "mode": "lines",
         "name": "Caribbean",
         "orientation": "v",
         "showlegend": true,
         "type": "scatter",
         "x": [
          "Puerto Rico",
          "Dominican Republic",
          "Haiti",
          "Jamaica",
          "Cuba",
          "Montserrat",
          "Bahamas",
          "Trinidad and Tobago",
          "Martinique",
          "Grenada",
          "Saint Lucia",
          "Guadeloupe"
         ],
         "xaxis": "x",
         "y": [
          2.23606811523438,
          3.60555102539062,
          4.12310498046875,
          4.12310498046875,
          4.47213623046875,
          5,
          5.09902001953125,
          5.3851650390625,
          7.81025,
          9.219544921875,
          13.03841015625,
          22.4722109375
         ],
         "yaxis": "y"
        },
        {
         "hovertemplate": "subregion=South-Eastern Asia<br>Entity=%{x}<br>weighted_med=%{y}<extra></extra>",
         "legendgroup": "South-Eastern Asia",
         "line": {
          "color": "#FFA15A",
          "dash": "solid"
         },
         "marker": {
          "symbol": "circle"
         },
         "mode": "lines",
         "name": "South-Eastern Asia",
         "orientation": "v",
         "showlegend": true,
         "type": "scatter",
         "x": [
          "Brunei",
          "Philippines",
          "Vietnam",
          "Thailand",
          "Myanmar",
          "Laos",
          "Cambodia",
          "Malaysia",
          "Indonesia",
          "Singapore",
          "Timor"
         ],
         "xaxis": "x",
         "y": [
          2.23606811523438,
          2.23606811523438,
          2.23606811523438,
          2.82842700195312,
          2.82842700195312,
          3,
          3.16227807617188,
          3.16227807617188,
          4.12310498046875,
          10.4403095703125,
          35
         ],
         "yaxis": "y"
        },
        {
         "hovertemplate": "subregion=Southern Africa<br>Entity=%{x}<br>weighted_med=%{y}<extra></extra>",
         "legendgroup": "Southern Africa",
         "line": {
          "color": "#19d3f3",
          "dash": "solid"
         },
         "marker": {
          "symbol": "circle"
         },
         "mode": "lines",
         "name": "Southern Africa",
         "orientation": "v",
         "showlegend": true,
         "type": "scatter",
         "x": [
          "Eswatini",
          "Lesotho",
          "South Africa",
          "Namibia",
          "Botswana"
         ],
         "xaxis": "x",
         "y": [
          2.23606811523438,
          2.23606811523438,
          3.16227807617188,
          30.413810546875,
          33.94112890625
         ],
         "yaxis": "y"
        },
        {
         "hovertemplate": "subregion=Northern Europe<br>Entity=%{x}<br>weighted_med=%{y}<extra></extra>",
         "legendgroup": "Northern Europe",
         "line": {
          "color": "#FF6692",
          "dash": "solid"
         },
         "marker": {
          "symbol": "circle"
         },
         "mode": "lines",
         "name": "Northern Europe",
         "orientation": "v",
         "showlegend": true,
         "type": "scatter",
         "x": [
          "Sweden",
          "Norway",
          "Estonia",
          "Lithuania",
          "United Kingdom",
          "Latvia",
          "Ireland",
          "Finland",
          "Denmark",
          "Isle of Man",
          "Faeroe Islands",
          "Iceland"
         ],
         "xaxis": "x",
         "y": [
          2.23606811523438,
          2.23606811523438,
          2.82842700195312,
          2.82842700195312,
          3,
          3,
          3.16227807617188,
          3.16227807617188,
          3.60555102539062,
          4.47213623046875,
          5.3851650390625,
          5.3851650390625
         ],
         "yaxis": "y"
        },
        {
         "hovertemplate": "subregion=South America<br>Entity=%{x}<br>weighted_med=%{y}<extra></extra>",
         "legendgroup": "South America",
         "line": {
          "color": "#B6E880",
          "dash": "solid"
         },
         "marker": {
          "symbol": "circle"
         },
         "mode": "lines",
         "name": "South America",
         "orientation": "v",
         "showlegend": true,
         "type": "scatter",
         "x": [
          "Suriname",
          "Guyana",
          "French Guiana",
          "Colombia",
          "Chile",
          "Ecuador",
          "Paraguay",
          "Peru",
          "Brazil",
          "Venezuela",
          "Bolivia",
          "Argentina",
          "Uruguay",
          "Falkland Islands"
         ],
         "xaxis": "x",
         "y": [
          2.23606811523438,
          2.82842700195312,
          3,
          3.60555102539062,
          4,
          4.12310498046875,
          4.24264111328125,
          4.47213623046875,
          5,
          5.3851650390625,
          5.3851650390625,
          6,
          8.0622578125,
          14.3178203125
         ],
         "yaxis": "y"
        },
        {
         "hovertemplate": "subregion=Western Europe<br>Entity=%{x}<br>weighted_med=%{y}<extra></extra>",
         "legendgroup": "Western Europe",
         "line": {
          "color": "#FF97FF",
          "dash": "solid"
         },
         "marker": {
          "symbol": "circle"
         },
         "mode": "lines",
         "name": "Western Europe",
         "orientation": "v",
         "showlegend": true,
         "type": "scatter",
         "x": [
          "Netherlands",
          "France",
          "Switzerland",
          "Austria",
          "Belgium",
          "Germany",
          "Liechtenstein",
          "Luxembourg"
         ],
         "xaxis": "x",
         "y": [
          2.23606811523438,
          2.82842700195312,
          2.82842700195312,
          2.82842700195312,
          3.16227807617188,
          3.16227807617188,
          3.60555102539062,
          4.47213623046875
         ],
         "yaxis": "y"
        },
        {
         "hovertemplate": "subregion=Melanesia<br>Entity=%{x}<br>weighted_med=%{y}<extra></extra>",
         "legendgroup": "Melanesia",
         "line": {
          "color": "#FECB52",
          "dash": "solid"
         },
         "marker": {
          "symbol": "circle"
         },
         "mode": "lines",
         "name": "Melanesia",
         "orientation": "v",
         "showlegend": true,
         "type": "scatter",
         "x": [
          "Papua New Guinea",
          "New Caledonia",
          "Solomon Islands",
          "Vanuatu",
          "Fiji"
         ],
         "xaxis": "x",
         "y": [
          2.23606811523438,
          3.16227807617188,
          3.60555102539062,
          4,
          4
         ],
         "yaxis": "y"
        },
        {
         "hovertemplate": "subregion=Southern Europe<br>Entity=%{x}<br>weighted_med=%{y}<extra></extra>",
         "legendgroup": "Southern Europe",
         "line": {
          "color": "#636efa",
          "dash": "solid"
         },
         "marker": {
          "symbol": "circle"
         },
         "mode": "lines",
         "name": "Southern Europe",
         "orientation": "v",
         "showlegend": true,
         "type": "scatter",
         "x": [
          "Albania",
          "Slovenia",
          "Italy",
          "North Macedonia",
          "Bosnia and Herzegovina",
          "Montenegro",
          "Croatia",
          "Spain",
          "Portugal",
          "Andorra",
          "Malta",
          "Cyprus",
          "Greece"
         ],
         "xaxis": "x",
         "y": [
          2.23606811523438,
          2.82842700195312,
          3,
          3,
          3.16227807617188,
          3.60555102539062,
          3.60555102539062,
          4,
          4,
          4.12310498046875,
          4.12310498046875,
          5,
          8
         ],
         "yaxis": "y"
        },
        {
         "hovertemplate": "subregion=Eastern Asia<br>Entity=%{x}<br>weighted_med=%{y}<extra></extra>",
         "legendgroup": "Eastern Asia",
         "line": {
          "color": "#EF553B",
          "dash": "solid"
         },
         "marker": {
          "symbol": "circle"
         },
         "mode": "lines",
         "name": "Eastern Asia",
         "orientation": "v",
         "showlegend": true,
         "type": "scatter",
         "x": [
          "Japan",
          "Taiwan",
          "China",
          "Mongolia",
          "North Korea",
          "South Korea",
          "Hong Kong"
         ],
         "xaxis": "x",
         "y": [
          2.23606811523438,
          3,
          3.16227807617188,
          3.60555102539062,
          3.60555102539062,
          4.47213623046875,
          25
         ],
         "yaxis": "y"
        },
        {
         "hovertemplate": "subregion=Western Asia<br>Entity=%{x}<br>weighted_med=%{y}<extra></extra>",
         "legendgroup": "Western Asia",
         "line": {
          "color": "#00cc96",
          "dash": "solid"
         },
         "marker": {
          "symbol": "circle"
         },
         "mode": "lines",
         "name": "Western Asia",
         "orientation": "v",
         "showlegend": true,
         "type": "scatter",
         "x": [
          "Azerbaijan",
          "Georgia",
          "Armenia",
          "Turkey",
          "Iraq",
          "Lebanon",
          "Syria",
          "Jordan",
          "Israel",
          "Palestine",
          "Yemen",
          "Oman",
          "Kuwait",
          "United Arab Emirates",
          "Qatar",
          "Saudi Arabia"
         ],
         "xaxis": "x",
         "y": [
          2.23606811523438,
          2.82842700195312,
          2.82842700195312,
          3.60555102539062,
          3.60555102539062,
          6.7082041015625,
          8.0622578125,
          9.4339814453125,
          16.12451953125,
          19.104970703125,
          21.9317109375,
          53.0094296875,
          104.995203125,
          171.819703125,
          196.6215,
          216.01159375
         ],
         "yaxis": "y"
        },
        {
         "hovertemplate": "subregion=Eastern Europe<br>Entity=%{x}<br>weighted_med=%{y}<extra></extra>",
         "legendgroup": "Eastern Europe",
         "line": {
          "color": "#ab63fa",
          "dash": "solid"
         },
         "marker": {
          "symbol": "circle"
         },
         "mode": "lines",
         "name": "Eastern Europe",
         "orientation": "v",
         "showlegend": true,
         "type": "scatter",
         "x": [
          "Slovakia",
          "Moldova",
          "Hungary",
          "Poland",
          "Romania",
          "Belarus",
          "Bulgaria",
          "Ukraine",
          "Russia",
          "Serbia",
          "Czechia"
         ],
         "xaxis": "x",
         "y": [
          2.82842700195312,
          2.82842700195312,
          2.82842700195312,
          3,
          3,
          3,
          3.16227807617188,
          3.16227807617188,
          3.16227807617188,
          3.16227807617188,
          3.16227807617188
         ],
         "yaxis": "y"
        },
        {
         "hovertemplate": "subregion=Southern Asia<br>Entity=%{x}<br>weighted_med=%{y}<extra></extra>",
         "legendgroup": "Southern Asia",
         "line": {
          "color": "#FFA15A",
          "dash": "solid"
         },
         "marker": {
          "symbol": "circle"
         },
         "mode": "lines",
         "name": "Southern Asia",
         "orientation": "v",
         "showlegend": true,
         "type": "scatter",
         "x": [
          "Nepal",
          "Bangladesh",
          "Pakistan",
          "Sri Lanka",
          "India",
          "Bhutan",
          "Iran",
          "Afghanistan"
         ],
         "xaxis": "x",
         "y": [
          2.82842700195312,
          2.82842700195312,
          3,
          3.60555102539062,
          3.60555102539062,
          4,
          5.3851650390625,
          5.8309521484375
         ],
         "yaxis": "y"
        },
        {
         "hovertemplate": "subregion=Australia and New Zealand<br>Entity=%{x}<br>weighted_med=%{y}<extra></extra>",
         "legendgroup": "Australia and New Zealand",
         "line": {
          "color": "#19d3f3",
          "dash": "solid"
         },
         "marker": {
          "symbol": "circle"
         },
         "mode": "lines",
         "name": "Australia and New Zealand",
         "orientation": "v",
         "showlegend": true,
         "type": "scatter",
         "x": [
          "New Zealand",
          "Australia"
         ],
         "xaxis": "x",
         "y": [
          2.82842700195312,
          2.82842700195312
         ],
         "yaxis": "y"
        },
        {
         "hovertemplate": "subregion=Central Asia<br>Entity=%{x}<br>weighted_med=%{y}<extra></extra>",
         "legendgroup": "Central Asia",
         "line": {
          "color": "#FF6692",
          "dash": "solid"
         },
         "marker": {
          "symbol": "circle"
         },
         "mode": "lines",
         "name": "Central Asia",
         "orientation": "v",
         "showlegend": true,
         "type": "scatter",
         "x": [
          "Kyrgyzstan",
          "Uzbekistan",
          "Tajikistan",
          "Kazakhstan",
          "Turkmenistan"
         ],
         "xaxis": "x",
         "y": [
          2.82842700195312,
          3.60555102539062,
          3.60555102539062,
          4.12310498046875,
          17.691810546875
         ],
         "yaxis": "y"
        },
        {
         "hovertemplate": "subregion=Northern America<br>Entity=%{x}<br>weighted_med=%{y}<extra></extra>",
         "legendgroup": "Northern America",
         "line": {
          "color": "#B6E880",
          "dash": "solid"
         },
         "marker": {
          "symbol": "circle"
         },
         "mode": "lines",
         "name": "Northern America",
         "orientation": "v",
         "showlegend": true,
         "type": "scatter",
         "x": [
          "Canada",
          "United States",
          "Greenland"
         ],
         "xaxis": "x",
         "y": [
          3,
          4.12310498046875,
          18.027759765625
         ],
         "yaxis": "y"
        },
        {
         "hovertemplate": "subregion=Western Africa<br>Entity=%{x}<br>weighted_med=%{y}<extra></extra>",
         "legendgroup": "Western Africa",
         "line": {
          "color": "#FF97FF",
          "dash": "solid"
         },
         "marker": {
          "symbol": "circle"
         },
         "mode": "lines",
         "name": "Western Africa",
         "orientation": "v",
         "showlegend": true,
         "type": "scatter",
         "x": [
          "Sierra Leone",
          "Guinea",
          "Togo",
          "Nigeria",
          "Guinea-Bissau",
          "Cote d'Ivoire",
          "Liberia",
          "Ghana",
          "Gambia",
          "Benin",
          "Mali",
          "Burkina Faso",
          "Senegal",
          "Mauritania",
          "Niger"
         ],
         "xaxis": "x",
         "y": [
          3,
          3.16227807617188,
          3.60555102539062,
          3.60555102539062,
          3.60555102539062,
          4.12310498046875,
          4.24264111328125,
          4.24264111328125,
          4.24264111328125,
          5,
          8.54400390625,
          10.2956298828125,
          17.46425,
          30.80583984375,
          33.8378515625
         ],
         "yaxis": "y"
        },
        {
         "hovertemplate": "subregion=Northern Africa<br>Entity=%{x}<br>weighted_med=%{y}<extra></extra>",
         "legendgroup": "Northern Africa",
         "line": {
          "color": "#FECB52",
          "dash": "solid"
         },
         "marker": {
          "symbol": "circle"
         },
         "mode": "lines",
         "name": "Northern Africa",
         "orientation": "v",
         "showlegend": true,
         "type": "scatter",
         "x": [
          "Egypt",
          "Morocco",
          "Algeria",
          "Tunisia",
          "Sudan",
          "Western Sahara",
          "Libya"
         ],
         "xaxis": "x",
         "y": [
          3.60555102539062,
          7.07106787109375,
          7.28010986328125,
          14.035669921875,
          47.85394921875,
          137.295296875,
          223.5755
         ],
         "yaxis": "y"
        },
        {
         "hovertemplate": "subregion=Polynesia<br>Entity=%{x}<br>weighted_med=%{y}<extra></extra>",
         "legendgroup": "Polynesia",
         "line": {
          "color": "#636efa",
          "dash": "solid"
         },
         "marker": {
          "symbol": "circle"
         },
         "mode": "lines",
         "name": "Polynesia",
         "orientation": "v",
         "showlegend": true,
         "type": "scatter",
         "x": [
          "Samoa"
         ],
         "xaxis": "x",
         "y": [
          6.7082041015625
         ],
         "yaxis": "y"
        }
       ],
       "layout": {
        "legend": {
         "title": {
          "text": "subregion"
         },
         "tracegroupgap": 0
        },
        "template": {
         "data": {
          "bar": [
           {
            "error_x": {
             "color": "#2a3f5f"
            },
            "error_y": {
             "color": "#2a3f5f"
            },
            "marker": {
             "line": {
              "color": "#E5ECF6",
              "width": 0.5
             },
             "pattern": {
              "fillmode": "overlay",
              "size": 10,
              "solidity": 0.2
             }
            },
            "type": "bar"
           }
          ],
          "barpolar": [
           {
            "marker": {
             "line": {
              "color": "#E5ECF6",
              "width": 0.5
             },
             "pattern": {
              "fillmode": "overlay",
              "size": 10,
              "solidity": 0.2
             }
            },
            "type": "barpolar"
           }
          ],
          "carpet": [
           {
            "aaxis": {
             "endlinecolor": "#2a3f5f",
             "gridcolor": "white",
             "linecolor": "white",
             "minorgridcolor": "white",
             "startlinecolor": "#2a3f5f"
            },
            "baxis": {
             "endlinecolor": "#2a3f5f",
             "gridcolor": "white",
             "linecolor": "white",
             "minorgridcolor": "white",
             "startlinecolor": "#2a3f5f"
            },
            "type": "carpet"
           }
          ],
          "choropleth": [
           {
            "colorbar": {
             "outlinewidth": 0,
             "ticks": ""
            },
            "type": "choropleth"
           }
          ],
          "contour": [
           {
            "colorbar": {
             "outlinewidth": 0,
             "ticks": ""
            },
            "colorscale": [
             [
              0,
              "#0d0887"
             ],
             [
              0.1111111111111111,
              "#46039f"
             ],
             [
              0.2222222222222222,
              "#7201a8"
             ],
             [
              0.3333333333333333,
              "#9c179e"
             ],
             [
              0.4444444444444444,
              "#bd3786"
             ],
             [
              0.5555555555555556,
              "#d8576b"
             ],
             [
              0.6666666666666666,
              "#ed7953"
             ],
             [
              0.7777777777777778,
              "#fb9f3a"
             ],
             [
              0.8888888888888888,
              "#fdca26"
             ],
             [
              1,
              "#f0f921"
             ]
            ],
            "type": "contour"
           }
          ],
          "contourcarpet": [
           {
            "colorbar": {
             "outlinewidth": 0,
             "ticks": ""
            },
            "type": "contourcarpet"
           }
          ],
          "heatmap": [
           {
            "colorbar": {
             "outlinewidth": 0,
             "ticks": ""
            },
            "colorscale": [
             [
              0,
              "#0d0887"
             ],
             [
              0.1111111111111111,
              "#46039f"
             ],
             [
              0.2222222222222222,
              "#7201a8"
             ],
             [
              0.3333333333333333,
              "#9c179e"
             ],
             [
              0.4444444444444444,
              "#bd3786"
             ],
             [
              0.5555555555555556,
              "#d8576b"
             ],
             [
              0.6666666666666666,
              "#ed7953"
             ],
             [
              0.7777777777777778,
              "#fb9f3a"
             ],
             [
              0.8888888888888888,
              "#fdca26"
             ],
             [
              1,
              "#f0f921"
             ]
            ],
            "type": "heatmap"
           }
          ],
          "heatmapgl": [
           {
            "colorbar": {
             "outlinewidth": 0,
             "ticks": ""
            },
            "colorscale": [
             [
              0,
              "#0d0887"
             ],
             [
              0.1111111111111111,
              "#46039f"
             ],
             [
              0.2222222222222222,
              "#7201a8"
             ],
             [
              0.3333333333333333,
              "#9c179e"
             ],
             [
              0.4444444444444444,
              "#bd3786"
             ],
             [
              0.5555555555555556,
              "#d8576b"
             ],
             [
              0.6666666666666666,
              "#ed7953"
             ],
             [
              0.7777777777777778,
              "#fb9f3a"
             ],
             [
              0.8888888888888888,
              "#fdca26"
             ],
             [
              1,
              "#f0f921"
             ]
            ],
            "type": "heatmapgl"
           }
          ],
          "histogram": [
           {
            "marker": {
             "pattern": {
              "fillmode": "overlay",
              "size": 10,
              "solidity": 0.2
             }
            },
            "type": "histogram"
           }
          ],
          "histogram2d": [
           {
            "colorbar": {
             "outlinewidth": 0,
             "ticks": ""
            },
            "colorscale": [
             [
              0,
              "#0d0887"
             ],
             [
              0.1111111111111111,
              "#46039f"
             ],
             [
              0.2222222222222222,
              "#7201a8"
             ],
             [
              0.3333333333333333,
              "#9c179e"
             ],
             [
              0.4444444444444444,
              "#bd3786"
             ],
             [
              0.5555555555555556,
              "#d8576b"
             ],
             [
              0.6666666666666666,
              "#ed7953"
             ],
             [
              0.7777777777777778,
              "#fb9f3a"
             ],
             [
              0.8888888888888888,
              "#fdca26"
             ],
             [
              1,
              "#f0f921"
             ]
            ],
            "type": "histogram2d"
           }
          ],
          "histogram2dcontour": [
           {
            "colorbar": {
             "outlinewidth": 0,
             "ticks": ""
            },
            "colorscale": [
             [
              0,
              "#0d0887"
             ],
             [
              0.1111111111111111,
              "#46039f"
             ],
             [
              0.2222222222222222,
              "#7201a8"
             ],
             [
              0.3333333333333333,
              "#9c179e"
             ],
             [
              0.4444444444444444,
              "#bd3786"
             ],
             [
              0.5555555555555556,
              "#d8576b"
             ],
             [
              0.6666666666666666,
              "#ed7953"
             ],
             [
              0.7777777777777778,
              "#fb9f3a"
             ],
             [
              0.8888888888888888,
              "#fdca26"
             ],
             [
              1,
              "#f0f921"
             ]
            ],
            "type": "histogram2dcontour"
           }
          ],
          "mesh3d": [
           {
            "colorbar": {
             "outlinewidth": 0,
             "ticks": ""
            },
            "type": "mesh3d"
           }
          ],
          "parcoords": [
           {
            "line": {
             "colorbar": {
              "outlinewidth": 0,
              "ticks": ""
             }
            },
            "type": "parcoords"
           }
          ],
          "pie": [
           {
            "automargin": true,
            "type": "pie"
           }
          ],
          "scatter": [
           {
            "fillpattern": {
             "fillmode": "overlay",
             "size": 10,
             "solidity": 0.2
            },
            "type": "scatter"
           }
          ],
          "scatter3d": [
           {
            "line": {
             "colorbar": {
              "outlinewidth": 0,
              "ticks": ""
             }
            },
            "marker": {
             "colorbar": {
              "outlinewidth": 0,
              "ticks": ""
             }
            },
            "type": "scatter3d"
           }
          ],
          "scattercarpet": [
           {
            "marker": {
             "colorbar": {
              "outlinewidth": 0,
              "ticks": ""
             }
            },
            "type": "scattercarpet"
           }
          ],
          "scattergeo": [
           {
            "marker": {
             "colorbar": {
              "outlinewidth": 0,
              "ticks": ""
             }
            },
            "type": "scattergeo"
           }
          ],
          "scattergl": [
           {
            "marker": {
             "colorbar": {
              "outlinewidth": 0,
              "ticks": ""
             }
            },
            "type": "scattergl"
           }
          ],
          "scattermapbox": [
           {
            "marker": {
             "colorbar": {
              "outlinewidth": 0,
              "ticks": ""
             }
            },
            "type": "scattermapbox"
           }
          ],
          "scatterpolar": [
           {
            "marker": {
             "colorbar": {
              "outlinewidth": 0,
              "ticks": ""
             }
            },
            "type": "scatterpolar"
           }
          ],
          "scatterpolargl": [
           {
            "marker": {
             "colorbar": {
              "outlinewidth": 0,
              "ticks": ""
             }
            },
            "type": "scatterpolargl"
           }
          ],
          "scatterternary": [
           {
            "marker": {
             "colorbar": {
              "outlinewidth": 0,
              "ticks": ""
             }
            },
            "type": "scatterternary"
           }
          ],
          "surface": [
           {
            "colorbar": {
             "outlinewidth": 0,
             "ticks": ""
            },
            "colorscale": [
             [
              0,
              "#0d0887"
             ],
             [
              0.1111111111111111,
              "#46039f"
             ],
             [
              0.2222222222222222,
              "#7201a8"
             ],
             [
              0.3333333333333333,
              "#9c179e"
             ],
             [
              0.4444444444444444,
              "#bd3786"
             ],
             [
              0.5555555555555556,
              "#d8576b"
             ],
             [
              0.6666666666666666,
              "#ed7953"
             ],
             [
              0.7777777777777778,
              "#fb9f3a"
             ],
             [
              0.8888888888888888,
              "#fdca26"
             ],
             [
              1,
              "#f0f921"
             ]
            ],
            "type": "surface"
           }
          ],
          "table": [
           {
            "cells": {
             "fill": {
              "color": "#EBF0F8"
             },
             "line": {
              "color": "white"
             }
            },
            "header": {
             "fill": {
              "color": "#C8D4E3"
             },
             "line": {
              "color": "white"
             }
            },
            "type": "table"
           }
          ]
         },
         "layout": {
          "annotationdefaults": {
           "arrowcolor": "#2a3f5f",
           "arrowhead": 0,
           "arrowwidth": 1
          },
          "autotypenumbers": "strict",
          "coloraxis": {
           "colorbar": {
            "outlinewidth": 0,
            "ticks": ""
           }
          },
          "colorscale": {
           "diverging": [
            [
             0,
             "#8e0152"
            ],
            [
             0.1,
             "#c51b7d"
            ],
            [
             0.2,
             "#de77ae"
            ],
            [
             0.3,
             "#f1b6da"
            ],
            [
             0.4,
             "#fde0ef"
            ],
            [
             0.5,
             "#f7f7f7"
            ],
            [
             0.6,
             "#e6f5d0"
            ],
            [
             0.7,
             "#b8e186"
            ],
            [
             0.8,
             "#7fbc41"
            ],
            [
             0.9,
             "#4d9221"
            ],
            [
             1,
             "#276419"
            ]
           ],
           "sequential": [
            [
             0,
             "#0d0887"
            ],
            [
             0.1111111111111111,
             "#46039f"
            ],
            [
             0.2222222222222222,
             "#7201a8"
            ],
            [
             0.3333333333333333,
             "#9c179e"
            ],
            [
             0.4444444444444444,
             "#bd3786"
            ],
            [
             0.5555555555555556,
             "#d8576b"
            ],
            [
             0.6666666666666666,
             "#ed7953"
            ],
            [
             0.7777777777777778,
             "#fb9f3a"
            ],
            [
             0.8888888888888888,
             "#fdca26"
            ],
            [
             1,
             "#f0f921"
            ]
           ],
           "sequentialminus": [
            [
             0,
             "#0d0887"
            ],
            [
             0.1111111111111111,
             "#46039f"
            ],
            [
             0.2222222222222222,
             "#7201a8"
            ],
            [
             0.3333333333333333,
             "#9c179e"
            ],
            [
             0.4444444444444444,
             "#bd3786"
            ],
            [
             0.5555555555555556,
             "#d8576b"
            ],
            [
             0.6666666666666666,
             "#ed7953"
            ],
            [
             0.7777777777777778,
             "#fb9f3a"
            ],
            [
             0.8888888888888888,
             "#fdca26"
            ],
            [
             1,
             "#f0f921"
            ]
           ]
          },
          "colorway": [
           "#636efa",
           "#EF553B",
           "#00cc96",
           "#ab63fa",
           "#FFA15A",
           "#19d3f3",
           "#FF6692",
           "#B6E880",
           "#FF97FF",
           "#FECB52"
          ],
          "font": {
           "color": "#2a3f5f"
          },
          "geo": {
           "bgcolor": "white",
           "lakecolor": "white",
           "landcolor": "#E5ECF6",
           "showlakes": true,
           "showland": true,
           "subunitcolor": "white"
          },
          "hoverlabel": {
           "align": "left"
          },
          "hovermode": "closest",
          "mapbox": {
           "style": "light"
          },
          "paper_bgcolor": "white",
          "plot_bgcolor": "#E5ECF6",
          "polar": {
           "angularaxis": {
            "gridcolor": "white",
            "linecolor": "white",
            "ticks": ""
           },
           "bgcolor": "#E5ECF6",
           "radialaxis": {
            "gridcolor": "white",
            "linecolor": "white",
            "ticks": ""
           }
          },
          "scene": {
           "xaxis": {
            "backgroundcolor": "#E5ECF6",
            "gridcolor": "white",
            "gridwidth": 2,
            "linecolor": "white",
            "showbackground": true,
            "ticks": "",
            "zerolinecolor": "white"
           },
           "yaxis": {
            "backgroundcolor": "#E5ECF6",
            "gridcolor": "white",
            "gridwidth": 2,
            "linecolor": "white",
            "showbackground": true,
            "ticks": "",
            "zerolinecolor": "white"
           },
           "zaxis": {
            "backgroundcolor": "#E5ECF6",
            "gridcolor": "white",
            "gridwidth": 2,
            "linecolor": "white",
            "showbackground": true,
            "ticks": "",
            "zerolinecolor": "white"
           }
          },
          "shapedefaults": {
           "line": {
            "color": "#2a3f5f"
           }
          },
          "ternary": {
           "aaxis": {
            "gridcolor": "white",
            "linecolor": "white",
            "ticks": ""
           },
           "baxis": {
            "gridcolor": "white",
            "linecolor": "white",
            "ticks": ""
           },
           "bgcolor": "#E5ECF6",
           "caxis": {
            "gridcolor": "white",
            "linecolor": "white",
            "ticks": ""
           }
          },
          "title": {
           "x": 0.05
          },
          "xaxis": {
           "automargin": true,
           "gridcolor": "white",
           "linecolor": "white",
           "ticks": "",
           "title": {
            "standoff": 15
           },
           "zerolinecolor": "white",
           "zerolinewidth": 2
          },
          "yaxis": {
           "automargin": true,
           "gridcolor": "white",
           "linecolor": "white",
           "ticks": "",
           "title": {
            "standoff": 15
           },
           "zerolinecolor": "white",
           "zerolinewidth": 2
          }
         }
        },
        "title": {
         "text": "Distance to Water"
        },
        "xaxis": {
         "anchor": "y",
         "domain": [
          0,
          1
         ],
         "title": {
          "text": "Entity"
         }
        },
        "yaxis": {
         "anchor": "x",
         "domain": [
          0,
          1
         ],
         "title": {
          "text": "weighted_med"
         },
         "type": "log"
        }
       }
      }
     },
     "metadata": {},
     "output_type": "display_data"
    }
   ],
   "source": [
    "#sort the countries by distance to water, plot the results\n",
    "df_countries.sort_values(by=\"weighted_med\", inplace=True)\n",
    "# add log scale\n",
    "px.line(df_countries, x=\"Entity\", y=\"weighted_med\", color=\"subregion\", title=\"Distance to Water\", log_y=True)\n"
   ]
  },
  {
   "cell_type": "code",
   "execution_count": 21,
   "metadata": {},
   "outputs": [
    {
     "data": {
      "application/vnd.plotly.v1+json": {
       "config": {
        "plotlyServerURL": "https://plot.ly"
       },
       "data": [
        {
         "hovertemplate": "<b>%{hovertext}</b><br><br>region=Africa<br>percent_without_water=%{x}<br>country_pop_without_water=%{y}<br>bubble_size=%{marker.size}<extra></extra>",
         "hovertext": [
          "Mauritius",
          "Congo",
          "Eswatini",
          "Lesotho",
          "Malawi",
          "Zambia",
          "Central African Republic",
          "Democratic Republic of Congo",
          "Uganda",
          "Tanzania",
          "Sierra Leone",
          "Mozambique",
          "Burundi",
          "South Africa",
          "Equatorial Guinea",
          "Guinea",
          "Rwanda",
          "Togo",
          "Nigeria",
          "Zimbabwe",
          "Guinea-Bissau",
          "Cameroon",
          "Egypt",
          "Madagascar",
          "Cote d'Ivoire",
          "Kenya",
          "Reunion",
          "Angola",
          "Liberia",
          "Ghana",
          "Gambia",
          "Gabon",
          "Benin",
          "Sao Tome and Principe",
          "Morocco",
          "Ethiopia",
          "Algeria",
          "Mali",
          "South Sudan",
          "Burkina Faso",
          "Tunisia",
          "Senegal",
          "Chad",
          "Eritrea",
          "Namibia",
          "Mauritania",
          "Niger",
          "Botswana",
          "Djibouti",
          "Sudan",
          "Somalia",
          "Western Sahara",
          "Libya"
         ],
         "legendgroup": "Africa",
         "marker": {
          "color": "#636efa",
          "size": [
           51.273428,
           55.657016999999996,
           51.172369,
           52.159067,
           69.647681,
           68.920657,
           54.919987,
           142.37798600000002,
           97.12353300000001,
           111.498438,
           58.141343,
           82.163045,
           62.255429,
           110.04199599999998,
           51.449891,
           63.497237,
           63.276517,
           58.478242,
           261.400704,
           65.09217100000001,
           52.01549,
           77.224262,
           154.25832699999998,
           78.427333,
           77.053629,
           104.985702,
           50.901696,
           83.933611,
           55.180208,
           81.732128,
           52.486937,
           52.278829,
           62.451031,
           50.223364,
           87.344787,
           167.87622599999997,
           94.616626,
           70.85572400000001,
           61.381377,
           71.497097,
           61.935764,
           67.196308,
           66.914985,
           53.601462,
           52.587344,
           54.77511,
           75.13081,
           52.39724,
           51.002197,
           94.909351,
           66.3595,
           50.611872,
           56.958538
          ],
          "sizemode": "area",
          "sizeref": 3.735540255,
          "symbol": "circle"
         },
         "mode": "markers",
         "name": "Africa",
         "orientation": "v",
         "showlegend": true,
         "type": "scatter",
         "x": [
          16.154142627589284,
          45.93048069139405,
          20.806599917406384,
          20.09299065626593,
          6.951923717452961,
          38.84057431785122,
          50.67016778786757,
          63.49424255677296,
          15.700022034945405,
          33.50186698284754,
          40.01415779167616,
          40.12171348166461,
          15.312592483428187,
          13.245223533701134,
          34.499937202210454,
          24.497075876284,
          18.590512525369938,
          32.86122859549618,
          25.745598916308545,
          30.880544340100315,
          40.3746766171812,
          32.84448201304871,
          26.395920617518748,
          60.00214431005475,
          33.1544753283091,
          33.02109172366543,
          33.259964755782114,
          56.19742563539252,
          24.61700965221352,
          20.009592111285947,
          18.40320673029667,
          40.13232409941957,
          32.10881221250206,
          16.15481482868853,
          49.921916406978085,
          40.26448440895369,
          27.33009878787066,
          33.66394264786853,
          25.49836717474153,
          30.253464661331964,
          50.8390061109836,
          62.99338453999235,
          47.37839633479505,
          51.73835403313212,
          73.96588798537303,
          66.46614372792153,
          62.013303093995034,
          69.89688297398658,
          67.66251949996362,
          45.44503069109652,
          44.36921618183672,
          69.9024523254003,
          70.89947289646994
         ],
         "xaxis": "x",
         "y": [
          205711.37537965763,
          2598295.1008938793,
          243930.1273856981,
          433821.1305725211,
          1365891.7953684991,
          7348891.84351072,
          2492965.668041272,
          58654702.499901764,
          7398405.064644769,
          20603124.895288963,
          3257689.8343815817,
          12904364.761878852,
          1876623.8998658783,
          7952696.584295893,
          500211.48450050125,
          3306428.389091878,
          2468172.5558178695,
          2786054.484499367,
          54426377.358092636,
          4660544.557538761,
          813747.5697516254,
          8941667.835775254,
          27519945.23207311,
          17057009.370159816,
          8969488.752217274,
          18156879.092321336,
          299903.77180429705,
          19069815.807128374,
          1275212.3033647367,
          6349469.381031159,
          457676.157362238,
          914547.039951562,
          3997878.162310417,
          36084.040593951846,
          18643233.348504018,
          47462254.639633015,
          12193767.961614784,
          7020858.966157755,
          2902065.2970015826,
          6503616.644107254,
          6068023.789352581,
          10832536.425121468,
          8014048.633271132,
          1863337.1599287207,
          1913751.9648362694,
          3173831.4757663547,
          15584445.37527601,
          1675596.037405596,
          678111.7405530504,
          20409068.34512226,
          7258581.921267577,
          427713.5330924733,
          4933566.763300561
         ],
         "yaxis": "y"
        },
        {
         "hovertemplate": "<b>%{hovertext}</b><br><br>region=Americas<br>percent_without_water=%{x}<br>country_pop_without_water=%{y}<br>bubble_size=%{marker.size}<extra></extra>",
         "hovertext": [
          "Panama",
          "Puerto Rico",
          "Suriname",
          "El Salvador",
          "Guyana",
          "Belize",
          "French Guiana",
          "Canada",
          "Honduras",
          "Costa Rica",
          "Guatemala",
          "Colombia",
          "Dominican Republic",
          "Nicaragua",
          "Chile",
          "Ecuador",
          "Haiti",
          "Jamaica",
          "United States",
          "Paraguay",
          "Cuba",
          "Peru",
          "Montserrat",
          "Brazil",
          "Bahamas",
          "Venezuela",
          "Bolivia",
          "Trinidad and Tobago",
          "Mexico",
          "Argentina",
          "Martinique",
          "Uruguay",
          "Grenada",
          "Saint Lucia",
          "Falkland Islands",
          "Greenland",
          "Guadeloupe"
         ],
         "legendgroup": "Americas",
         "marker": {
          "color": "#EF553B",
          "size": [
           54.381583,
           52.828246,
           50.591798,
           56.5185,
           50.790329,
           50.404915,
           50.30645,
           88.067913,
           60.062994,
           55.139053,
           68.24986799999999,
           101.265841,
           60.953714,
           56.702379,
           69.212362,
           67.888474,
           61.541683,
           52.973462,
           382.91507400000006,
           57.219640999999996,
           61.317498,
           83.359415,
           50.004981,
           263.99344099999996,
           50.396914,
           78.704947,
           61.832936000000004,
           51.403374,
           180.26222,
           95.605823,
           50.374743,
           53.485152,
           50.113015,
           50.184401,
           50.003528,
           50.056868,
           50.400013
          ],
          "sizemode": "area",
          "sizeref": 3.735540255,
          "symbol": "circle"
         },
         "mode": "markers",
         "name": "Americas",
         "orientation": "v",
         "showlegend": true,
         "type": "scatter",
         "x": [
          19.191817563040185,
          12.099348567653276,
          7.482383927014341,
          8.416806938615533,
          7.986307202678045,
          6.909520538953561,
          8.109522013865242,
          11.060920574624786,
          12.587822334566232,
          7.459290840858168,
          12.727743565918463,
          18.37139379657911,
          16.14614768984183,
          15.321063895125642,
          20.851201378390076,
          23.240757398053045,
          37.50286654573047,
          21.75110777201783,
          18.896321035121662,
          13.503956232126809,
          14.723460168430064,
          33.411280923191136,
          15.05493887717802,
          24.804543905413624,
          36.60259775924452,
          28.844252330974072,
          23.502080659903005,
          28.327574883653444,
          32.27867867201402,
          27.450506298547566,
          36.22653232537647,
          48.741356542475756,
          42.74103659817931,
          51.46323434141758,
          53.118542479492895,
          54.06270838039903,
          45.00088548152521
         ],
         "xaxis": "x",
         "y": [
          840905.4157331832,
          342199.3418907111,
          44280.59843239233,
          548649.5602936535,
          63118.10185185337,
          27977.685090303818,
          24851.630211490035,
          4210661.621347264,
          1266711.8062580598,
          383336.9097358469,
          2322796.400158612,
          9418249.53323811,
          1768602.8399628813,
          1026875.7690834829,
          4006008.2901652916,
          4157416.8445537942,
          4328461.972621261,
          646760.9241799967,
          62908701.157352865,
          974937.1607566823,
          1666327.310092869,
          11145807.859983161,
          749.8865054722371,
          53080097.0275504,
          145280.83487012773,
          8279727.344152371,
          2780986.1631547003,
          397541.8207477227,
          42046923.42483198,
          12519029.315119455,
          135756.39403208555,
          1698710.3623672246,
          48303.782511432335,
          94898.71875791745,
          1874.022178676509,
          30744.381001765312,
          180009.3920412134
         ],
         "yaxis": "y"
        },
        {
         "hovertemplate": "<b>%{hovertext}</b><br><br>region=Asia<br>percent_without_water=%{x}<br>country_pop_without_water=%{y}<br>bubble_size=%{marker.size}<extra></extra>",
         "hovertext": [
          "Brunei",
          "Philippines",
          "Vietnam",
          "Japan",
          "Azerbaijan",
          "Georgia",
          "Nepal",
          "Kyrgyzstan",
          "Armenia",
          "Bangladesh",
          "Thailand",
          "Myanmar",
          "Pakistan",
          "Laos",
          "Taiwan",
          "Cambodia",
          "China",
          "Malaysia",
          "Uzbekistan",
          "Sri Lanka",
          "Mongolia",
          "Turkey",
          "North Korea",
          "Tajikistan",
          "India",
          "Iraq",
          "Bhutan",
          "Kazakhstan",
          "Indonesia",
          "South Korea",
          "Iran",
          "Afghanistan",
          "Lebanon",
          "Syria",
          "Jordan",
          "Singapore",
          "Israel",
          "Turkmenistan",
          "Palestine",
          "Yemen",
          "Hong Kong",
          "Timor",
          "Oman",
          "Kuwait",
          "United Arab Emirates",
          "Qatar",
          "Saudi Arabia"
         ],
         "legendgroup": "Asia",
         "marker": {
          "color": "#00cc96",
          "size": [
           50.441532,
           161.04690999999997,
           148.16882900000002,
           176.050796,
           60.223344,
           53.979773,
           79.67492,
           56.628347,
           52.968128,
           216.303494,
           119.950844,
           104.80601399999999,
           275.199929,
           57.379357999999996,
           73.855008,
           66.946446,
           1494.216102,
           82.776195,
           83.935765,
           71.497306,
           53.329282,
           135.042736,
           75.887045,
           59.749624999999995,
           1443.409033,
           91.179351,
           50.7799,
           68.994958,
           326.36178799999993,
           101.305184,
           135.02876,
           89.83542800000001,
           56.769151,
           68.27570399999999,
           60.269022,
           55.896684,
           58.789776,
           56.117933,
           55.222756000000004,
           80.490639,
           57.5528,
           51.343875,
           55.223376,
           54.328553,
           59.991083,
           52.930524,
           85.34067999999999
          ],
          "sizemode": "area",
          "sizeref": 3.735540255,
          "symbol": "circle"
         },
         "mode": "markers",
         "name": "Asia",
         "orientation": "v",
         "showlegend": true,
         "type": "scatter",
         "x": [
          9.3655396109924,
          9.824233636861608,
          3.8883820293841396,
          12.415450543811367,
          4.850835793069335,
          6.925985732489176,
          5.812160338394957,
          11.329009925284717,
          2.3863697662520327,
          1.5796272390630857,
          5.873842931617798,
          21.3946468347653,
          6.943879101865445,
          15.794914546767371,
          9.206118328946387,
          13.629106008744538,
          9.802665391787924,
          14.217260682065874,
          15.600345463637073,
          12.208895188260914,
          28.3171207020952,
          15.094579544648527,
          17.08010705383714,
          28.143234066921092,
          7.90536525885236,
          16.90574072562497,
          17.85828008813878,
          23.35935322191158,
          12.782152397506216,
          17.262381928550123,
          33.36952136966763,
          25.96593794456895,
          31.74728158657626,
          32.54834466383074,
          44.765790568290264,
          48.894036900223,
          66.12198244479916,
          13.861100428899853,
          52.44193186893419,
          52.15842215919631,
          78.60987562580006,
          78.19593521857124,
          81.69931694407366,
          91.80769063259214,
          99.87039781048918,
          85.30015578806233,
          82.68761477458119
         ],
         "xaxis": "x",
         "y": [
          41351.854355206975,
          10909507.884915436,
          3817179.105292846,
          15649774.237460556,
          495917.6300006062,
          275638.51016545645,
          1724753.930690433,
          750926.0895123119,
          70830.50921566114,
          2626975.2907376443,
          4108802.7059009923,
          11725553.139512027,
          15637610.80724682,
          1165563.2902000418,
          2196120.263859627,
          2309649.090054648,
          141571672.01338258,
          4659877.084812241,
          5294096.575728038,
          2624583.557839725,
          942756.802453129,
          12836843.432465449,
          4421534.999074995,
          2743859.784397055,
          110154073.6084926,
          6961674.312555053,
          139276.72640739437,
          4437099.333573752,
          35324984.91063304,
          8856496.811225388,
          28373690.238563403,
          10343642.514433445,
          2149021.428990543,
          5948439.1276615,
          4597008.881931653,
          2883126.850849546,
          5811974.14365717,
          848012.8373028055,
          2738914.143200672,
          15903436.208656553,
          5937246.686265427,
          1050855.624418574,
          4267462.513420677,
          3973944.547107786,
          9978134.337676156,
          2499741.537406556,
          29222365.33711746
         ],
         "yaxis": "y"
        },
        {
         "hovertemplate": "<b>%{hovertext}</b><br><br>region=Europe<br>percent_without_water=%{x}<br>country_pop_without_water=%{y}<br>bubble_size=%{marker.size}<extra></extra>",
         "hovertext": [
          "Sweden",
          "Norway",
          "Netherlands",
          "Albania",
          "France",
          "Slovakia",
          "Slovenia",
          "Estonia",
          "Switzerland",
          "Moldova",
          "Austria",
          "Lithuania",
          "Hungary",
          "United Kingdom",
          "Latvia",
          "Italy",
          "North Macedonia",
          "Poland",
          "Romania",
          "Belarus",
          "Ireland",
          "Bulgaria",
          "Belgium",
          "Bosnia and Herzegovina",
          "Ukraine",
          "Russia",
          "Serbia",
          "Czechia",
          "Germany",
          "Finland",
          "Liechtenstein",
          "Montenegro",
          "Denmark",
          "Croatia",
          "Spain",
          "Portugal",
          "Andorra",
          "Malta",
          "Isle of Man",
          "Luxembourg",
          "Cyprus",
          "Faeroe Islands",
          "Iceland",
          "Greece"
         ],
         "legendgroup": "Europe",
         "marker": {
          "color": "#ab63fa",
          "size": [
           60.160159,
           55.465629,
           67.17309399999999,
           52.872934,
           115.426177,
           55.460726,
           52.078723,
           51.325188,
           58.715494,
           54.024025,
           59.043071999999995,
           52.689862,
           59.634162,
           118.207114,
           51.866934,
           110.367471,
           52.082661,
           87.797,
           69.12777200000001,
           59.442867,
           54.982904,
           56.896655,
           61.632334,
           53.263459,
           93.466822,
           195.91202199999998,
           58.697547,
           60.724553,
           133.900471,
           55.548361,
           50.038254,
           50.628051,
           55.813302,
           54.081657,
           96.745211,
           60.167923,
           50.077354,
           50.44279,
           50.08541,
           50.634814,
           51.215588,
           50.049053,
           50.34336,
           60.370747
          ],
          "sizemode": "area",
          "sizeref": 3.735540255,
          "symbol": "circle"
         },
         "mode": "markers",
         "name": "Europe",
         "orientation": "v",
         "showlegend": true,
         "type": "scatter",
         "x": [
          9.87223160908194,
          14.806410202453883,
          6.796245294317142,
          5.34256408618476,
          3.6111440057937894,
          3.0788065941851808,
          7.213692977132707,
          10.21723372335191,
          0.8247344507517866,
          10.817392524941091,
          0.6391295755483352,
          7.115139346723395,
          5.758295796722443,
          6.874829771687005,
          3.8310002264015734,
          9.392968677755249,
          3.8461781426094035,
          18.130294742558036,
          3.463830210204797,
          3.1424866619914193,
          12.822600142722726,
          6.703622605719561,
          4.242144440994976,
          7.71327616825991,
          2.6239573398877996,
          11.787401607334992,
          6.608252475762832,
          4.261803462175692,
          4.966080476470988,
          10.504706923282162,
          0,
          15.338467277930453,
          20.834742681911408,
          15.365412973239657,
          16.72001273161582,
          25.236892178617094,
          1.175756524255925e-15,
          40.796624683526225,
          38.2642812999928,
          2.4043839337582513,
          26.215763796100955,
          37.54066320824524,
          28.397708298915457,
          47.4219073274848
         ],
         "xaxis": "x",
         "y": [
          1003034.4283309835,
          809263.4498842781,
          1167125.5928636596,
          153488.34010379127,
          2362633.468955535,
          168125.19217838466,
          149952.69506504232,
          135397.55523381275,
          71879.68157120491,
          435294.5795517608,
          57796.947690130335,
          191387.42953456086,
          554763.5454954308,
          4689122.979680495,
          71522.24576676796,
          5670297.642582984,
          80102.85216665042,
          6852707.503844661,
          662553.5450750944,
          296740.8359845893,
          638937.8554157364,
          462325.7236184884,
          493460.4101389686,
          251719.60530793315,
          1140550.8662849646,
          17199236.026522983,
          574755.864958136,
          457059.371056867,
          4166564.909998204,
          582839.0620956874,
          0,
          96333.39712371501,
          1211186.5130224098,
          627163.4542011445,
          7815805.230620679,
          2566067.764314808,
          9.094947017729282e-13,
          180643.37443618575,
          32681.52265832385,
          15263.365825248104,
          318675.67881374765,
          18414.821523540544,
          97506.37121515613,
          4918006.03150791
         ],
         "yaxis": "y"
        },
        {
         "hovertemplate": "<b>%{hovertext}</b><br><br>region=Oceania<br>percent_without_water=%{x}<br>country_pop_without_water=%{y}<br>bubble_size=%{marker.size}<extra></extra>",
         "hovertext": [
          "Papua New Guinea",
          "New Zealand",
          "Australia",
          "New Caledonia",
          "Solomon Islands",
          "Vanuatu",
          "Fiji",
          "Samoa"
         ],
         "legendgroup": "Oceania",
         "marker": {
          "color": "#FFA15A",
          "size": [
           59.119005,
           54.860642,
           75.788217,
           50.288217,
           50.703995,
           50.314464,
           50.902899,
           50.200144
          ],
          "sizemode": "area",
          "sizeref": 3.735540255,
          "symbol": "circle"
         },
         "mode": "markers",
         "name": "Oceania",
         "orientation": "v",
         "showlegend": true,
         "type": "scatter",
         "x": [
          51.782895132174,
          19.319449111556843,
          13.48210928539881,
          34.60199941258528,
          45.247860213381685,
          21.332127408694056,
          33.74347820380149,
          30.67444088378684
         ],
         "xaxis": "x",
         "y": [
          4722084.796247704,
          939049.2576849586,
          3476795.598695794,
          99728.8446469709,
          318542.6735091964,
          67081.86113447568,
          304669.5272673416,
          61393.05296244634
         ],
         "yaxis": "y"
        }
       ],
       "layout": {
        "legend": {
         "itemsizing": "constant",
         "title": {
          "text": "region"
         },
         "tracegroupgap": 0
        },
        "template": {
         "data": {
          "bar": [
           {
            "error_x": {
             "color": "#2a3f5f"
            },
            "error_y": {
             "color": "#2a3f5f"
            },
            "marker": {
             "line": {
              "color": "#E5ECF6",
              "width": 0.5
             },
             "pattern": {
              "fillmode": "overlay",
              "size": 10,
              "solidity": 0.2
             }
            },
            "type": "bar"
           }
          ],
          "barpolar": [
           {
            "marker": {
             "line": {
              "color": "#E5ECF6",
              "width": 0.5
             },
             "pattern": {
              "fillmode": "overlay",
              "size": 10,
              "solidity": 0.2
             }
            },
            "type": "barpolar"
           }
          ],
          "carpet": [
           {
            "aaxis": {
             "endlinecolor": "#2a3f5f",
             "gridcolor": "white",
             "linecolor": "white",
             "minorgridcolor": "white",
             "startlinecolor": "#2a3f5f"
            },
            "baxis": {
             "endlinecolor": "#2a3f5f",
             "gridcolor": "white",
             "linecolor": "white",
             "minorgridcolor": "white",
             "startlinecolor": "#2a3f5f"
            },
            "type": "carpet"
           }
          ],
          "choropleth": [
           {
            "colorbar": {
             "outlinewidth": 0,
             "ticks": ""
            },
            "type": "choropleth"
           }
          ],
          "contour": [
           {
            "colorbar": {
             "outlinewidth": 0,
             "ticks": ""
            },
            "colorscale": [
             [
              0,
              "#0d0887"
             ],
             [
              0.1111111111111111,
              "#46039f"
             ],
             [
              0.2222222222222222,
              "#7201a8"
             ],
             [
              0.3333333333333333,
              "#9c179e"
             ],
             [
              0.4444444444444444,
              "#bd3786"
             ],
             [
              0.5555555555555556,
              "#d8576b"
             ],
             [
              0.6666666666666666,
              "#ed7953"
             ],
             [
              0.7777777777777778,
              "#fb9f3a"
             ],
             [
              0.8888888888888888,
              "#fdca26"
             ],
             [
              1,
              "#f0f921"
             ]
            ],
            "type": "contour"
           }
          ],
          "contourcarpet": [
           {
            "colorbar": {
             "outlinewidth": 0,
             "ticks": ""
            },
            "type": "contourcarpet"
           }
          ],
          "heatmap": [
           {
            "colorbar": {
             "outlinewidth": 0,
             "ticks": ""
            },
            "colorscale": [
             [
              0,
              "#0d0887"
             ],
             [
              0.1111111111111111,
              "#46039f"
             ],
             [
              0.2222222222222222,
              "#7201a8"
             ],
             [
              0.3333333333333333,
              "#9c179e"
             ],
             [
              0.4444444444444444,
              "#bd3786"
             ],
             [
              0.5555555555555556,
              "#d8576b"
             ],
             [
              0.6666666666666666,
              "#ed7953"
             ],
             [
              0.7777777777777778,
              "#fb9f3a"
             ],
             [
              0.8888888888888888,
              "#fdca26"
             ],
             [
              1,
              "#f0f921"
             ]
            ],
            "type": "heatmap"
           }
          ],
          "heatmapgl": [
           {
            "colorbar": {
             "outlinewidth": 0,
             "ticks": ""
            },
            "colorscale": [
             [
              0,
              "#0d0887"
             ],
             [
              0.1111111111111111,
              "#46039f"
             ],
             [
              0.2222222222222222,
              "#7201a8"
             ],
             [
              0.3333333333333333,
              "#9c179e"
             ],
             [
              0.4444444444444444,
              "#bd3786"
             ],
             [
              0.5555555555555556,
              "#d8576b"
             ],
             [
              0.6666666666666666,
              "#ed7953"
             ],
             [
              0.7777777777777778,
              "#fb9f3a"
             ],
             [
              0.8888888888888888,
              "#fdca26"
             ],
             [
              1,
              "#f0f921"
             ]
            ],
            "type": "heatmapgl"
           }
          ],
          "histogram": [
           {
            "marker": {
             "pattern": {
              "fillmode": "overlay",
              "size": 10,
              "solidity": 0.2
             }
            },
            "type": "histogram"
           }
          ],
          "histogram2d": [
           {
            "colorbar": {
             "outlinewidth": 0,
             "ticks": ""
            },
            "colorscale": [
             [
              0,
              "#0d0887"
             ],
             [
              0.1111111111111111,
              "#46039f"
             ],
             [
              0.2222222222222222,
              "#7201a8"
             ],
             [
              0.3333333333333333,
              "#9c179e"
             ],
             [
              0.4444444444444444,
              "#bd3786"
             ],
             [
              0.5555555555555556,
              "#d8576b"
             ],
             [
              0.6666666666666666,
              "#ed7953"
             ],
             [
              0.7777777777777778,
              "#fb9f3a"
             ],
             [
              0.8888888888888888,
              "#fdca26"
             ],
             [
              1,
              "#f0f921"
             ]
            ],
            "type": "histogram2d"
           }
          ],
          "histogram2dcontour": [
           {
            "colorbar": {
             "outlinewidth": 0,
             "ticks": ""
            },
            "colorscale": [
             [
              0,
              "#0d0887"
             ],
             [
              0.1111111111111111,
              "#46039f"
             ],
             [
              0.2222222222222222,
              "#7201a8"
             ],
             [
              0.3333333333333333,
              "#9c179e"
             ],
             [
              0.4444444444444444,
              "#bd3786"
             ],
             [
              0.5555555555555556,
              "#d8576b"
             ],
             [
              0.6666666666666666,
              "#ed7953"
             ],
             [
              0.7777777777777778,
              "#fb9f3a"
             ],
             [
              0.8888888888888888,
              "#fdca26"
             ],
             [
              1,
              "#f0f921"
             ]
            ],
            "type": "histogram2dcontour"
           }
          ],
          "mesh3d": [
           {
            "colorbar": {
             "outlinewidth": 0,
             "ticks": ""
            },
            "type": "mesh3d"
           }
          ],
          "parcoords": [
           {
            "line": {
             "colorbar": {
              "outlinewidth": 0,
              "ticks": ""
             }
            },
            "type": "parcoords"
           }
          ],
          "pie": [
           {
            "automargin": true,
            "type": "pie"
           }
          ],
          "scatter": [
           {
            "fillpattern": {
             "fillmode": "overlay",
             "size": 10,
             "solidity": 0.2
            },
            "type": "scatter"
           }
          ],
          "scatter3d": [
           {
            "line": {
             "colorbar": {
              "outlinewidth": 0,
              "ticks": ""
             }
            },
            "marker": {
             "colorbar": {
              "outlinewidth": 0,
              "ticks": ""
             }
            },
            "type": "scatter3d"
           }
          ],
          "scattercarpet": [
           {
            "marker": {
             "colorbar": {
              "outlinewidth": 0,
              "ticks": ""
             }
            },
            "type": "scattercarpet"
           }
          ],
          "scattergeo": [
           {
            "marker": {
             "colorbar": {
              "outlinewidth": 0,
              "ticks": ""
             }
            },
            "type": "scattergeo"
           }
          ],
          "scattergl": [
           {
            "marker": {
             "colorbar": {
              "outlinewidth": 0,
              "ticks": ""
             }
            },
            "type": "scattergl"
           }
          ],
          "scattermapbox": [
           {
            "marker": {
             "colorbar": {
              "outlinewidth": 0,
              "ticks": ""
             }
            },
            "type": "scattermapbox"
           }
          ],
          "scatterpolar": [
           {
            "marker": {
             "colorbar": {
              "outlinewidth": 0,
              "ticks": ""
             }
            },
            "type": "scatterpolar"
           }
          ],
          "scatterpolargl": [
           {
            "marker": {
             "colorbar": {
              "outlinewidth": 0,
              "ticks": ""
             }
            },
            "type": "scatterpolargl"
           }
          ],
          "scatterternary": [
           {
            "marker": {
             "colorbar": {
              "outlinewidth": 0,
              "ticks": ""
             }
            },
            "type": "scatterternary"
           }
          ],
          "surface": [
           {
            "colorbar": {
             "outlinewidth": 0,
             "ticks": ""
            },
            "colorscale": [
             [
              0,
              "#0d0887"
             ],
             [
              0.1111111111111111,
              "#46039f"
             ],
             [
              0.2222222222222222,
              "#7201a8"
             ],
             [
              0.3333333333333333,
              "#9c179e"
             ],
             [
              0.4444444444444444,
              "#bd3786"
             ],
             [
              0.5555555555555556,
              "#d8576b"
             ],
             [
              0.6666666666666666,
              "#ed7953"
             ],
             [
              0.7777777777777778,
              "#fb9f3a"
             ],
             [
              0.8888888888888888,
              "#fdca26"
             ],
             [
              1,
              "#f0f921"
             ]
            ],
            "type": "surface"
           }
          ],
          "table": [
           {
            "cells": {
             "fill": {
              "color": "#EBF0F8"
             },
             "line": {
              "color": "white"
             }
            },
            "header": {
             "fill": {
              "color": "#C8D4E3"
             },
             "line": {
              "color": "white"
             }
            },
            "type": "table"
           }
          ]
         },
         "layout": {
          "annotationdefaults": {
           "arrowcolor": "#2a3f5f",
           "arrowhead": 0,
           "arrowwidth": 1
          },
          "autotypenumbers": "strict",
          "coloraxis": {
           "colorbar": {
            "outlinewidth": 0,
            "ticks": ""
           }
          },
          "colorscale": {
           "diverging": [
            [
             0,
             "#8e0152"
            ],
            [
             0.1,
             "#c51b7d"
            ],
            [
             0.2,
             "#de77ae"
            ],
            [
             0.3,
             "#f1b6da"
            ],
            [
             0.4,
             "#fde0ef"
            ],
            [
             0.5,
             "#f7f7f7"
            ],
            [
             0.6,
             "#e6f5d0"
            ],
            [
             0.7,
             "#b8e186"
            ],
            [
             0.8,
             "#7fbc41"
            ],
            [
             0.9,
             "#4d9221"
            ],
            [
             1,
             "#276419"
            ]
           ],
           "sequential": [
            [
             0,
             "#0d0887"
            ],
            [
             0.1111111111111111,
             "#46039f"
            ],
            [
             0.2222222222222222,
             "#7201a8"
            ],
            [
             0.3333333333333333,
             "#9c179e"
            ],
            [
             0.4444444444444444,
             "#bd3786"
            ],
            [
             0.5555555555555556,
             "#d8576b"
            ],
            [
             0.6666666666666666,
             "#ed7953"
            ],
            [
             0.7777777777777778,
             "#fb9f3a"
            ],
            [
             0.8888888888888888,
             "#fdca26"
            ],
            [
             1,
             "#f0f921"
            ]
           ],
           "sequentialminus": [
            [
             0,
             "#0d0887"
            ],
            [
             0.1111111111111111,
             "#46039f"
            ],
            [
             0.2222222222222222,
             "#7201a8"
            ],
            [
             0.3333333333333333,
             "#9c179e"
            ],
            [
             0.4444444444444444,
             "#bd3786"
            ],
            [
             0.5555555555555556,
             "#d8576b"
            ],
            [
             0.6666666666666666,
             "#ed7953"
            ],
            [
             0.7777777777777778,
             "#fb9f3a"
            ],
            [
             0.8888888888888888,
             "#fdca26"
            ],
            [
             1,
             "#f0f921"
            ]
           ]
          },
          "colorway": [
           "#636efa",
           "#EF553B",
           "#00cc96",
           "#ab63fa",
           "#FFA15A",
           "#19d3f3",
           "#FF6692",
           "#B6E880",
           "#FF97FF",
           "#FECB52"
          ],
          "font": {
           "color": "#2a3f5f"
          },
          "geo": {
           "bgcolor": "white",
           "lakecolor": "white",
           "landcolor": "#E5ECF6",
           "showlakes": true,
           "showland": true,
           "subunitcolor": "white"
          },
          "hoverlabel": {
           "align": "left"
          },
          "hovermode": "closest",
          "mapbox": {
           "style": "light"
          },
          "paper_bgcolor": "white",
          "plot_bgcolor": "#E5ECF6",
          "polar": {
           "angularaxis": {
            "gridcolor": "white",
            "linecolor": "white",
            "ticks": ""
           },
           "bgcolor": "#E5ECF6",
           "radialaxis": {
            "gridcolor": "white",
            "linecolor": "white",
            "ticks": ""
           }
          },
          "scene": {
           "xaxis": {
            "backgroundcolor": "#E5ECF6",
            "gridcolor": "white",
            "gridwidth": 2,
            "linecolor": "white",
            "showbackground": true,
            "ticks": "",
            "zerolinecolor": "white"
           },
           "yaxis": {
            "backgroundcolor": "#E5ECF6",
            "gridcolor": "white",
            "gridwidth": 2,
            "linecolor": "white",
            "showbackground": true,
            "ticks": "",
            "zerolinecolor": "white"
           },
           "zaxis": {
            "backgroundcolor": "#E5ECF6",
            "gridcolor": "white",
            "gridwidth": 2,
            "linecolor": "white",
            "showbackground": true,
            "ticks": "",
            "zerolinecolor": "white"
           }
          },
          "shapedefaults": {
           "line": {
            "color": "#2a3f5f"
           }
          },
          "ternary": {
           "aaxis": {
            "gridcolor": "white",
            "linecolor": "white",
            "ticks": ""
           },
           "baxis": {
            "gridcolor": "white",
            "linecolor": "white",
            "ticks": ""
           },
           "bgcolor": "#E5ECF6",
           "caxis": {
            "gridcolor": "white",
            "linecolor": "white",
            "ticks": ""
           }
          },
          "title": {
           "x": 0.05
          },
          "xaxis": {
           "automargin": true,
           "gridcolor": "white",
           "linecolor": "white",
           "ticks": "",
           "title": {
            "standoff": 15
           },
           "zerolinecolor": "white",
           "zerolinewidth": 2
          },
          "yaxis": {
           "automargin": true,
           "gridcolor": "white",
           "linecolor": "white",
           "ticks": "",
           "title": {
            "standoff": 15
           },
           "zerolinecolor": "white",
           "zerolinewidth": 2
          }
         }
        },
        "title": {
         "text": "Population vs. Percent Without Water"
        },
        "xaxis": {
         "anchor": "y",
         "domain": [
          0,
          1
         ],
         "title": {
          "text": "percent_without_water"
         }
        },
        "yaxis": {
         "anchor": "x",
         "domain": [
          0,
          1
         ],
         "title": {
          "text": "country_pop_without_water"
         }
        }
       }
      }
     },
     "metadata": {},
     "output_type": "display_data"
    }
   ],
   "source": [
    "# plot the countries by population withgout water and percent without water\n",
    "px.scatter(df_countries, x=\"percent_without_water\", y=\"country_pop_without_water\", size=\"bubble_size\", color=\"region\", hover_name=\"bubble_text\", title=\"Population vs. Percent Without Water\")\n"
   ]
  },
  {
   "cell_type": "code",
   "execution_count": 22,
   "metadata": {},
   "outputs": [
    {
     "data": {
      "text/html": [
       "<div>\n",
       "<style scoped>\n",
       "    .dataframe tbody tr th:only-of-type {\n",
       "        vertical-align: middle;\n",
       "    }\n",
       "\n",
       "    .dataframe tbody tr th {\n",
       "        vertical-align: top;\n",
       "    }\n",
       "\n",
       "    .dataframe thead th {\n",
       "        text-align: right;\n",
       "    }\n",
       "</style>\n",
       "<table border=\"1\" class=\"dataframe\">\n",
       "  <thead>\n",
       "    <tr style=\"text-align: right;\">\n",
       "      <th></th>\n",
       "      <th>zone_pop_unpiped</th>\n",
       "      <th>zone_pop_piped</th>\n",
       "      <th>pop_zone</th>\n",
       "    </tr>\n",
       "  </thead>\n",
       "  <tbody>\n",
       "    <tr>\n",
       "      <th>count</th>\n",
       "      <td>6989.000000</td>\n",
       "      <td>6989.000000</td>\n",
       "      <td>6989.000000</td>\n",
       "    </tr>\n",
       "    <tr>\n",
       "      <th>mean</th>\n",
       "      <td>333.000173</td>\n",
       "      <td>14.005927</td>\n",
       "      <td>703.704579</td>\n",
       "    </tr>\n",
       "    <tr>\n",
       "      <th>std</th>\n",
       "      <td>1584.341692</td>\n",
       "      <td>637.787037</td>\n",
       "      <td>3228.167566</td>\n",
       "    </tr>\n",
       "    <tr>\n",
       "      <th>min</th>\n",
       "      <td>4.921786</td>\n",
       "      <td>0.000000</td>\n",
       "      <td>10.471884</td>\n",
       "    </tr>\n",
       "    <tr>\n",
       "      <th>25%</th>\n",
       "      <td>52.380365</td>\n",
       "      <td>0.000000</td>\n",
       "      <td>111.447585</td>\n",
       "    </tr>\n",
       "    <tr>\n",
       "      <th>50%</th>\n",
       "      <td>137.371647</td>\n",
       "      <td>0.000000</td>\n",
       "      <td>292.280099</td>\n",
       "    </tr>\n",
       "    <tr>\n",
       "      <th>75%</th>\n",
       "      <td>375.727821</td>\n",
       "      <td>0.000000</td>\n",
       "      <td>799.420895</td>\n",
       "    </tr>\n",
       "    <tr>\n",
       "      <th>max</th>\n",
       "      <td>51604.171664</td>\n",
       "      <td>30764.025415</td>\n",
       "      <td>99238.791662</td>\n",
       "    </tr>\n",
       "  </tbody>\n",
       "</table>\n",
       "</div>"
      ],
      "text/plain": [
       "       zone_pop_unpiped  zone_pop_piped      pop_zone\n",
       "count       6989.000000     6989.000000   6989.000000\n",
       "mean         333.000173       14.005927    703.704579\n",
       "std         1584.341692      637.787037   3228.167566\n",
       "min            4.921786        0.000000     10.471884\n",
       "25%           52.380365        0.000000    111.447585\n",
       "50%          137.371647        0.000000    292.280099\n",
       "75%          375.727821        0.000000    799.420895\n",
       "max        51604.171664    30764.025415  99238.791662"
      ]
     },
     "execution_count": 22,
     "metadata": {},
     "output_type": "execute_result"
    }
   ],
   "source": [
    "# summary statistics of zones by for slected country\n",
    "# select country\n",
    "country = \"CAF\"\n",
    "\n",
    "# interertsinbg ciolumns\n",
    "interesting_cols =[\n",
    "    \"Entity\",\n",
    "    \"dtw_1\",\n",
    "    \"pop_zone\",\n",
    "    \"country_pop_raw\",\n",
    "    \"population_piped_with_access\",\n",
    "    \"population_piped_with_cycling_access\",\n",
    "    \"population_piped_with_walking_access\",\n",
    "    \"Nat Piped\",\n",
    "    \"region\",\n",
    "]\n",
    "\n",
    "other_cols = [\n",
    "    \"zone_pop_unpiped\",\n",
    "    \"zone_pop_piped\",\n",
    "    \"pop_zone\"\n",
    "\n",
    "]\n",
    "\n",
    "# create dataframe of zones for selected country\n",
    "df_zones_country = df_zones[df_zones[\"ISOCODE\"] == country]\n",
    "df_zones_country = df_zones_country[other_cols]\n",
    "\n",
    "# create summary statistics\n",
    "df_zones_country.describe()\n",
    "\n",
    "\n",
    "\n",
    "\n",
    "\n"
   ]
  },
  {
   "cell_type": "code",
   "execution_count": 23,
   "metadata": {},
   "outputs": [
    {
     "data": {
      "application/vnd.plotly.v1+json": {
       "config": {
        "plotlyServerURL": "https://plot.ly"
       },
       "data": [
        {
         "alignmentgroup": "True",
         "customdata": [
          [
           "Mauritius"
          ],
          [
           "Congo"
          ],
          [
           "Panama"
          ],
          [
           "Puerto Rico"
          ],
          [
           "Brunei"
          ],
          [
           "Eswatini"
          ],
          [
           "Sweden"
          ],
          [
           "Suriname"
          ],
          [
           "Norway"
          ],
          [
           "Lesotho"
          ],
          [
           "Netherlands"
          ],
          [
           "Philippines"
          ],
          [
           "Papua New Guinea"
          ],
          [
           "Vietnam"
          ],
          [
           "Albania"
          ],
          [
           "Japan"
          ],
          [
           "Azerbaijan"
          ],
          [
           "France"
          ],
          [
           "El Salvador"
          ],
          [
           "Slovakia"
          ],
          [
           "Georgia"
          ],
          [
           "Slovenia"
          ],
          [
           "Estonia"
          ],
          [
           "Nepal"
          ],
          [
           "Switzerland"
          ],
          [
           "New Zealand"
          ],
          [
           "Kyrgyzstan"
          ],
          [
           "Moldova"
          ],
          [
           "Armenia"
          ],
          [
           "Australia"
          ],
          [
           "Austria"
          ],
          [
           "Lithuania"
          ],
          [
           "Malawi"
          ],
          [
           "Bangladesh"
          ],
          [
           "Thailand"
          ],
          [
           "Myanmar"
          ],
          [
           "Hungary"
          ],
          [
           "Guyana"
          ],
          [
           "Belize"
          ],
          [
           "United Kingdom"
          ],
          [
           "Latvia"
          ],
          [
           "Pakistan"
          ],
          [
           "French Guiana"
          ],
          [
           "Italy"
          ],
          [
           "Zambia"
          ],
          [
           "North Macedonia"
          ],
          [
           "Poland"
          ],
          [
           "Laos"
          ],
          [
           "Romania"
          ],
          [
           "Central African Republic"
          ],
          [
           "Canada"
          ],
          [
           "Taiwan"
          ],
          [
           "Democratic Republic of Congo"
          ],
          [
           "Uganda"
          ],
          [
           "Tanzania"
          ],
          [
           "Sierra Leone"
          ],
          [
           "Belarus"
          ],
          [
           "Ireland"
          ],
          [
           "Mozambique"
          ],
          [
           "Bulgaria"
          ],
          [
           "Belgium"
          ],
          [
           "Burundi"
          ],
          [
           "Bosnia and Herzegovina"
          ],
          [
           "Ukraine"
          ],
          [
           "South Africa"
          ],
          [
           "Honduras"
          ],
          [
           "Russia"
          ],
          [
           "Serbia"
          ],
          [
           "Cambodia"
          ],
          [
           "New Caledonia"
          ],
          [
           "Equatorial Guinea"
          ],
          [
           "Guinea"
          ],
          [
           "China"
          ],
          [
           "Costa Rica"
          ],
          [
           "Malaysia"
          ],
          [
           "Czechia"
          ],
          [
           "Germany"
          ],
          [
           "Finland"
          ],
          [
           "Uzbekistan"
          ],
          [
           "Liechtenstein"
          ],
          [
           "Rwanda"
          ],
          [
           "Sri Lanka"
          ],
          [
           "Togo"
          ],
          [
           "Montenegro"
          ],
          [
           "Mongolia"
          ],
          [
           "Nigeria"
          ],
          [
           "Turkey"
          ],
          [
           "North Korea"
          ],
          [
           "Solomon Islands"
          ],
          [
           "Tajikistan"
          ],
          [
           "Zimbabwe"
          ],
          [
           "Guinea-Bissau"
          ],
          [
           "Guatemala"
          ],
          [
           "India"
          ],
          [
           "Cameroon"
          ],
          [
           "Colombia"
          ],
          [
           "Iraq"
          ],
          [
           "Egypt"
          ],
          [
           "Denmark"
          ],
          [
           "Croatia"
          ],
          [
           "Dominican Republic"
          ],
          [
           "Nicaragua"
          ],
          [
           "Spain"
          ],
          [
           "Vanuatu"
          ],
          [
           "Madagascar"
          ],
          [
           "Chile"
          ],
          [
           "Portugal"
          ],
          [
           "Bhutan"
          ],
          [
           "Fiji"
          ],
          [
           "Ecuador"
          ],
          [
           "Cote d'Ivoire"
          ],
          [
           "Kenya"
          ],
          [
           "Kazakhstan"
          ],
          [
           "Reunion"
          ],
          [
           "Indonesia"
          ],
          [
           "Haiti"
          ],
          [
           "Jamaica"
          ],
          [
           "Andorra"
          ],
          [
           "United States"
          ],
          [
           "Malta"
          ],
          [
           "Angola"
          ],
          [
           "Liberia"
          ],
          [
           "Ghana"
          ],
          [
           "Gambia"
          ],
          [
           "Paraguay"
          ],
          [
           "Isle of Man"
          ],
          [
           "Luxembourg"
          ],
          [
           "Cuba"
          ],
          [
           "Peru"
          ],
          [
           "South Korea"
          ],
          [
           "Gabon"
          ],
          [
           "Montserrat"
          ],
          [
           "Benin"
          ],
          [
           "Brazil"
          ],
          [
           "Cyprus"
          ],
          [
           "Bahamas"
          ],
          [
           "Sao Tome and Principe"
          ],
          [
           "Faeroe Islands"
          ],
          [
           "Iceland"
          ],
          [
           "Iran"
          ],
          [
           "Venezuela"
          ],
          [
           "Bolivia"
          ],
          [
           "Trinidad and Tobago"
          ],
          [
           "Mexico"
          ],
          [
           "Afghanistan"
          ],
          [
           "Argentina"
          ],
          [
           "Samoa"
          ],
          [
           "Lebanon"
          ],
          [
           "Morocco"
          ],
          [
           "Ethiopia"
          ],
          [
           "Algeria"
          ],
          [
           "Martinique"
          ],
          [
           "Greece"
          ],
          [
           "Uruguay"
          ],
          [
           "Syria"
          ],
          [
           "Mali"
          ],
          [
           "Grenada"
          ],
          [
           "Jordan"
          ],
          [
           "South Sudan"
          ],
          [
           "Burkina Faso"
          ],
          [
           "Singapore"
          ],
          [
           "Saint Lucia"
          ],
          [
           "Tunisia"
          ],
          [
           "Falkland Islands"
          ],
          [
           "Israel"
          ],
          [
           "Senegal"
          ],
          [
           "Turkmenistan"
          ],
          [
           "Greenland"
          ],
          [
           "Palestine"
          ],
          [
           "Chad"
          ],
          [
           "Eritrea"
          ],
          [
           "Yemen"
          ],
          [
           "Guadeloupe"
          ],
          [
           "Hong Kong"
          ],
          [
           "Namibia"
          ],
          [
           "Mauritania"
          ],
          [
           "Niger"
          ],
          [
           "Botswana"
          ],
          [
           "Timor"
          ],
          [
           "Djibouti"
          ],
          [
           "Sudan"
          ],
          [
           "Oman"
          ],
          [
           "Somalia"
          ],
          [
           "Kuwait"
          ],
          [
           "Western Sahara"
          ],
          [
           "United Arab Emirates"
          ],
          [
           "Qatar"
          ],
          [
           "Saudi Arabia"
          ],
          [
           "Libya"
          ]
         ],
         "hovertemplate": "variable=country_pop_with_water<br>region=%{x}<br>value=%{y}<br>Entity=%{customdata[0]}<extra></extra>",
         "legendgroup": "country_pop_with_water",
         "marker": {
          "color": "#636efa",
          "pattern": {
           "shape": ""
          }
         },
         "name": "country_pop_with_water",
         "offsetgroup": "country_pop_with_water",
         "orientation": "v",
         "showlegend": true,
         "textposition": "auto",
         "type": "bar",
         "x": [
          "Africa",
          "Africa",
          "Americas",
          "Americas",
          "Asia",
          "Africa",
          "Europe",
          "Americas",
          "Europe",
          "Africa",
          "Europe",
          "Asia",
          "Oceania",
          "Asia",
          "Europe",
          "Asia",
          "Asia",
          "Europe",
          "Americas",
          "Europe",
          "Asia",
          "Europe",
          "Europe",
          "Asia",
          "Europe",
          "Oceania",
          "Asia",
          "Europe",
          "Asia",
          "Oceania",
          "Europe",
          "Europe",
          "Africa",
          "Asia",
          "Asia",
          "Asia",
          "Europe",
          "Americas",
          "Americas",
          "Europe",
          "Europe",
          "Asia",
          "Americas",
          "Europe",
          "Africa",
          "Europe",
          "Europe",
          "Asia",
          "Europe",
          "Africa",
          "Americas",
          "Asia",
          "Africa",
          "Africa",
          "Africa",
          "Africa",
          "Europe",
          "Europe",
          "Africa",
          "Europe",
          "Europe",
          "Africa",
          "Europe",
          "Europe",
          "Africa",
          "Americas",
          "Europe",
          "Europe",
          "Asia",
          "Oceania",
          "Africa",
          "Africa",
          "Asia",
          "Americas",
          "Asia",
          "Europe",
          "Europe",
          "Europe",
          "Asia",
          "Europe",
          "Africa",
          "Asia",
          "Africa",
          "Europe",
          "Asia",
          "Africa",
          "Asia",
          "Asia",
          "Oceania",
          "Asia",
          "Africa",
          "Africa",
          "Americas",
          "Asia",
          "Africa",
          "Americas",
          "Asia",
          "Africa",
          "Europe",
          "Europe",
          "Americas",
          "Americas",
          "Europe",
          "Oceania",
          "Africa",
          "Americas",
          "Europe",
          "Asia",
          "Oceania",
          "Americas",
          "Africa",
          "Africa",
          "Asia",
          "Africa",
          "Asia",
          "Americas",
          "Americas",
          "Europe",
          "Americas",
          "Europe",
          "Africa",
          "Africa",
          "Africa",
          "Africa",
          "Americas",
          "Europe",
          "Europe",
          "Americas",
          "Americas",
          "Asia",
          "Africa",
          "Americas",
          "Africa",
          "Americas",
          "Europe",
          "Americas",
          "Africa",
          "Europe",
          "Europe",
          "Asia",
          "Americas",
          "Americas",
          "Americas",
          "Americas",
          "Asia",
          "Americas",
          "Oceania",
          "Asia",
          "Africa",
          "Africa",
          "Africa",
          "Americas",
          "Europe",
          "Americas",
          "Asia",
          "Africa",
          "Americas",
          "Asia",
          "Africa",
          "Africa",
          "Asia",
          "Americas",
          "Africa",
          "Americas",
          "Asia",
          "Africa",
          "Asia",
          "Americas",
          "Asia",
          "Africa",
          "Africa",
          "Asia",
          "Americas",
          "Asia",
          "Africa",
          "Africa",
          "Africa",
          "Africa",
          "Asia",
          "Africa",
          "Africa",
          "Asia",
          "Africa",
          "Asia",
          "Africa",
          "Asia",
          "Asia",
          "Asia",
          "Africa"
         ],
         "xaxis": "x",
         "y": [
          1067716.6246203424,
          3058721.899106121,
          3540589.547399942,
          2486046.231195473,
          400180.1456447931,
          928438.8726143021,
          9146728.770005563,
          543583.2675150825,
          4652642.251497102,
          1725245.8694274789,
          16005968.40713634,
          100137351.78731166,
          4396616.281092842,
          94351638.33140661,
          2719445.659896209,
          110400919.70208783,
          9727415.702746509,
          63063536.88885562,
          5969850.439706346,
          5292600.807821615,
          3704134.4898345433,
          1928770.3049349578,
          1189698.7896667009,
          27950148.35847905,
          8643614.318428796,
          3917815.729730169,
          5877402.323470443,
          3588730.4204482394,
          2897297.490784339,
          22210236.573221635,
          8985275.052309869,
          2498474.5704654395,
          18281712.030010145,
          163676518.70926234,
          65842039.33678955,
          43080434.92278251,
          9079398.45450457,
          723596.8658095886,
          376879.90462635696,
          63517778.358863205,
          1795411.754233232,
          209562313.98366714,
          280724.17225677357,
          54697119.20176766,
          11571765.156489283,
          2002558.1478333496,
          30944292.496155336,
          6213794.709799958,
          18465218.454924908,
          2425225.6329302173,
          33808129.49505174,
          21658887.73614037,
          33722952.7433413,
          39725101.08754411,
          40895081.197775796,
          4883653.165618418,
          9146126.16401541,
          4343929.157662515,
          19258670.08764387,
          6434320.926026767,
          11138873.589861032,
          10378805.100134123,
          3011739.3946920666,
          42326222.94239866,
          52074197.041759506,
          8796281.562797658,
          128242126.09638663,
          8122791.135041865,
          14636792.530442832,
          188381.9916416352,
          949679.5154994987,
          10190808.610908123,
          1302619580.5280743,
          4755714.284071721,
          28116297.059724092,
          10267493.628943134,
          79733906.0900018,
          4961058.805599748,
          28641657.78851805,
          38254,
          10808344.444182131,
          18872715.78728314,
          5692187.515500633,
          531717.6028762851,
          2365780.481155878,
          156974326.64190736,
          72205865.6910252,
          21465498.856369536,
          385164.022114184,
          7005765.215602943,
          10431626.442461241,
          1201742.4302483744,
          15927071.599841388,
          1283254926.762198,
          18282594.164224744,
          41847570.70635707,
          34217676.68744495,
          76737259.19767737,
          4602115.48697759,
          3454475.5238930294,
          9185109.375248842,
          5675492.80896148,
          38929395.95607463,
          247380.79760262292,
          11370311.707156898,
          15195984.625035733,
          7601855.235685191,
          640623.2735926057,
          598133.9383009734,
          13730864.320924507,
          18084140.247782722,
          36828471.55609891,
          14556824.595424224,
          601792.2281957028,
          241036420.00438118,
          7213221.004526824,
          2326696.740420481,
          77354,
          269927231.7562477,
          262146.62556381425,
          14863795.192871625,
          3904988.662757629,
          25382658.618968844,
          2029260.8426377617,
          6242624.071930181,
          52728.477341676145,
          619550.6341747518,
          9651125.703735774,
          22213381.73838783,
          42448669.77821045,
          1364268.8534450948,
          4231.113494527762,
          8453152.837689582,
          160849090.83838326,
          896912.3211862523,
          250963.1075821695,
          187261.52018238028,
          30629.822653995514,
          239071.70876545314,
          56655043.078384794,
          20422772.720419552,
          9051750.704250826,
          1005828.8718623572,
          88205342.51916257,
          29491785.485566553,
          33073857.21536854,
          138750.94703755368,
          4620129.571009457,
          18700561.68476647,
          70413971.36036699,
          32374993.83291511,
          238986.6059679145,
          5452666.309232296,
          1785102.297894778,
          12326935.62765577,
          13827040.700523289,
          64711.21748856764,
          5672013.118068348,
          8479311.702998416,
          14993480.355892748,
          3013557.149150455,
          89502.28124208256,
          5867735.294853454,
          1223.2391510522828,
          2977801.8563428293,
          6363771.5748785315,
          5269800.504098503,
          24156.611146464158,
          2483841.8567993282,
          8900918.967165953,
          1738091.2475175404,
          14582900.822612032,
          220003.60795878657,
          1615553.3137345738,
          660430.7221802548,
          1575732.2366069567,
          9527771.770010171,
          721105.4089370733,
          293019.375581426,
          324085.2594469496,
          24500239.452155083,
          955883.157632979,
          9100873.159596194,
          354608.4528922143,
          178745.1687011298,
          12936.228808498234,
          430782.4625934444,
          6118253.75261357,
          2024868.5019758602
         ],
         "yaxis": "y"
        },
        {
         "alignmentgroup": "True",
         "customdata": [
          [
           "Mauritius"
          ],
          [
           "Congo"
          ],
          [
           "Panama"
          ],
          [
           "Puerto Rico"
          ],
          [
           "Brunei"
          ],
          [
           "Eswatini"
          ],
          [
           "Sweden"
          ],
          [
           "Suriname"
          ],
          [
           "Norway"
          ],
          [
           "Lesotho"
          ],
          [
           "Netherlands"
          ],
          [
           "Philippines"
          ],
          [
           "Papua New Guinea"
          ],
          [
           "Vietnam"
          ],
          [
           "Albania"
          ],
          [
           "Japan"
          ],
          [
           "Azerbaijan"
          ],
          [
           "France"
          ],
          [
           "El Salvador"
          ],
          [
           "Slovakia"
          ],
          [
           "Georgia"
          ],
          [
           "Slovenia"
          ],
          [
           "Estonia"
          ],
          [
           "Nepal"
          ],
          [
           "Switzerland"
          ],
          [
           "New Zealand"
          ],
          [
           "Kyrgyzstan"
          ],
          [
           "Moldova"
          ],
          [
           "Armenia"
          ],
          [
           "Australia"
          ],
          [
           "Austria"
          ],
          [
           "Lithuania"
          ],
          [
           "Malawi"
          ],
          [
           "Bangladesh"
          ],
          [
           "Thailand"
          ],
          [
           "Myanmar"
          ],
          [
           "Hungary"
          ],
          [
           "Guyana"
          ],
          [
           "Belize"
          ],
          [
           "United Kingdom"
          ],
          [
           "Latvia"
          ],
          [
           "Pakistan"
          ],
          [
           "French Guiana"
          ],
          [
           "Italy"
          ],
          [
           "Zambia"
          ],
          [
           "North Macedonia"
          ],
          [
           "Poland"
          ],
          [
           "Laos"
          ],
          [
           "Romania"
          ],
          [
           "Central African Republic"
          ],
          [
           "Canada"
          ],
          [
           "Taiwan"
          ],
          [
           "Democratic Republic of Congo"
          ],
          [
           "Uganda"
          ],
          [
           "Tanzania"
          ],
          [
           "Sierra Leone"
          ],
          [
           "Belarus"
          ],
          [
           "Ireland"
          ],
          [
           "Mozambique"
          ],
          [
           "Bulgaria"
          ],
          [
           "Belgium"
          ],
          [
           "Burundi"
          ],
          [
           "Bosnia and Herzegovina"
          ],
          [
           "Ukraine"
          ],
          [
           "South Africa"
          ],
          [
           "Honduras"
          ],
          [
           "Russia"
          ],
          [
           "Serbia"
          ],
          [
           "Cambodia"
          ],
          [
           "New Caledonia"
          ],
          [
           "Equatorial Guinea"
          ],
          [
           "Guinea"
          ],
          [
           "China"
          ],
          [
           "Costa Rica"
          ],
          [
           "Malaysia"
          ],
          [
           "Czechia"
          ],
          [
           "Germany"
          ],
          [
           "Finland"
          ],
          [
           "Uzbekistan"
          ],
          [
           "Liechtenstein"
          ],
          [
           "Rwanda"
          ],
          [
           "Sri Lanka"
          ],
          [
           "Togo"
          ],
          [
           "Montenegro"
          ],
          [
           "Mongolia"
          ],
          [
           "Nigeria"
          ],
          [
           "Turkey"
          ],
          [
           "North Korea"
          ],
          [
           "Solomon Islands"
          ],
          [
           "Tajikistan"
          ],
          [
           "Zimbabwe"
          ],
          [
           "Guinea-Bissau"
          ],
          [
           "Guatemala"
          ],
          [
           "India"
          ],
          [
           "Cameroon"
          ],
          [
           "Colombia"
          ],
          [
           "Iraq"
          ],
          [
           "Egypt"
          ],
          [
           "Denmark"
          ],
          [
           "Croatia"
          ],
          [
           "Dominican Republic"
          ],
          [
           "Nicaragua"
          ],
          [
           "Spain"
          ],
          [
           "Vanuatu"
          ],
          [
           "Madagascar"
          ],
          [
           "Chile"
          ],
          [
           "Portugal"
          ],
          [
           "Bhutan"
          ],
          [
           "Fiji"
          ],
          [
           "Ecuador"
          ],
          [
           "Cote d'Ivoire"
          ],
          [
           "Kenya"
          ],
          [
           "Kazakhstan"
          ],
          [
           "Reunion"
          ],
          [
           "Indonesia"
          ],
          [
           "Haiti"
          ],
          [
           "Jamaica"
          ],
          [
           "Andorra"
          ],
          [
           "United States"
          ],
          [
           "Malta"
          ],
          [
           "Angola"
          ],
          [
           "Liberia"
          ],
          [
           "Ghana"
          ],
          [
           "Gambia"
          ],
          [
           "Paraguay"
          ],
          [
           "Isle of Man"
          ],
          [
           "Luxembourg"
          ],
          [
           "Cuba"
          ],
          [
           "Peru"
          ],
          [
           "South Korea"
          ],
          [
           "Gabon"
          ],
          [
           "Montserrat"
          ],
          [
           "Benin"
          ],
          [
           "Brazil"
          ],
          [
           "Cyprus"
          ],
          [
           "Bahamas"
          ],
          [
           "Sao Tome and Principe"
          ],
          [
           "Faeroe Islands"
          ],
          [
           "Iceland"
          ],
          [
           "Iran"
          ],
          [
           "Venezuela"
          ],
          [
           "Bolivia"
          ],
          [
           "Trinidad and Tobago"
          ],
          [
           "Mexico"
          ],
          [
           "Afghanistan"
          ],
          [
           "Argentina"
          ],
          [
           "Samoa"
          ],
          [
           "Lebanon"
          ],
          [
           "Morocco"
          ],
          [
           "Ethiopia"
          ],
          [
           "Algeria"
          ],
          [
           "Martinique"
          ],
          [
           "Greece"
          ],
          [
           "Uruguay"
          ],
          [
           "Syria"
          ],
          [
           "Mali"
          ],
          [
           "Grenada"
          ],
          [
           "Jordan"
          ],
          [
           "South Sudan"
          ],
          [
           "Burkina Faso"
          ],
          [
           "Singapore"
          ],
          [
           "Saint Lucia"
          ],
          [
           "Tunisia"
          ],
          [
           "Falkland Islands"
          ],
          [
           "Israel"
          ],
          [
           "Senegal"
          ],
          [
           "Turkmenistan"
          ],
          [
           "Greenland"
          ],
          [
           "Palestine"
          ],
          [
           "Chad"
          ],
          [
           "Eritrea"
          ],
          [
           "Yemen"
          ],
          [
           "Guadeloupe"
          ],
          [
           "Hong Kong"
          ],
          [
           "Namibia"
          ],
          [
           "Mauritania"
          ],
          [
           "Niger"
          ],
          [
           "Botswana"
          ],
          [
           "Timor"
          ],
          [
           "Djibouti"
          ],
          [
           "Sudan"
          ],
          [
           "Oman"
          ],
          [
           "Somalia"
          ],
          [
           "Kuwait"
          ],
          [
           "Western Sahara"
          ],
          [
           "United Arab Emirates"
          ],
          [
           "Qatar"
          ],
          [
           "Saudi Arabia"
          ],
          [
           "Libya"
          ]
         ],
         "hovertemplate": "variable=country_pop_without_water<br>region=%{x}<br>value=%{y}<br>Entity=%{customdata[0]}<extra></extra>",
         "legendgroup": "country_pop_without_water",
         "marker": {
          "color": "#EF553B",
          "pattern": {
           "shape": ""
          }
         },
         "name": "country_pop_without_water",
         "offsetgroup": "country_pop_without_water",
         "orientation": "v",
         "showlegend": true,
         "textposition": "auto",
         "type": "bar",
         "x": [
          "Africa",
          "Africa",
          "Americas",
          "Americas",
          "Asia",
          "Africa",
          "Europe",
          "Americas",
          "Europe",
          "Africa",
          "Europe",
          "Asia",
          "Oceania",
          "Asia",
          "Europe",
          "Asia",
          "Asia",
          "Europe",
          "Americas",
          "Europe",
          "Asia",
          "Europe",
          "Europe",
          "Asia",
          "Europe",
          "Oceania",
          "Asia",
          "Europe",
          "Asia",
          "Oceania",
          "Europe",
          "Europe",
          "Africa",
          "Asia",
          "Asia",
          "Asia",
          "Europe",
          "Americas",
          "Americas",
          "Europe",
          "Europe",
          "Asia",
          "Americas",
          "Europe",
          "Africa",
          "Europe",
          "Europe",
          "Asia",
          "Europe",
          "Africa",
          "Americas",
          "Asia",
          "Africa",
          "Africa",
          "Africa",
          "Africa",
          "Europe",
          "Europe",
          "Africa",
          "Europe",
          "Europe",
          "Africa",
          "Europe",
          "Europe",
          "Africa",
          "Americas",
          "Europe",
          "Europe",
          "Asia",
          "Oceania",
          "Africa",
          "Africa",
          "Asia",
          "Americas",
          "Asia",
          "Europe",
          "Europe",
          "Europe",
          "Asia",
          "Europe",
          "Africa",
          "Asia",
          "Africa",
          "Europe",
          "Asia",
          "Africa",
          "Asia",
          "Asia",
          "Oceania",
          "Asia",
          "Africa",
          "Africa",
          "Americas",
          "Asia",
          "Africa",
          "Americas",
          "Asia",
          "Africa",
          "Europe",
          "Europe",
          "Americas",
          "Americas",
          "Europe",
          "Oceania",
          "Africa",
          "Americas",
          "Europe",
          "Asia",
          "Oceania",
          "Americas",
          "Africa",
          "Africa",
          "Asia",
          "Africa",
          "Asia",
          "Americas",
          "Americas",
          "Europe",
          "Americas",
          "Europe",
          "Africa",
          "Africa",
          "Africa",
          "Africa",
          "Americas",
          "Europe",
          "Europe",
          "Americas",
          "Americas",
          "Asia",
          "Africa",
          "Americas",
          "Africa",
          "Americas",
          "Europe",
          "Americas",
          "Africa",
          "Europe",
          "Europe",
          "Asia",
          "Americas",
          "Americas",
          "Americas",
          "Americas",
          "Asia",
          "Americas",
          "Oceania",
          "Asia",
          "Africa",
          "Africa",
          "Africa",
          "Americas",
          "Europe",
          "Americas",
          "Asia",
          "Africa",
          "Americas",
          "Asia",
          "Africa",
          "Africa",
          "Asia",
          "Americas",
          "Africa",
          "Americas",
          "Asia",
          "Africa",
          "Asia",
          "Americas",
          "Asia",
          "Africa",
          "Africa",
          "Asia",
          "Americas",
          "Asia",
          "Africa",
          "Africa",
          "Africa",
          "Africa",
          "Asia",
          "Africa",
          "Africa",
          "Asia",
          "Africa",
          "Asia",
          "Africa",
          "Asia",
          "Asia",
          "Asia",
          "Africa"
         ],
         "xaxis": "x",
         "y": [
          205711.37537965763,
          2598295.1008938793,
          840905.4157331832,
          342199.3418907111,
          41351.854355206975,
          243930.1273856981,
          1003034.4283309835,
          44280.59843239233,
          809263.4498842781,
          433821.1305725211,
          1167125.5928636596,
          10909507.884915436,
          4722084.796247704,
          3817179.105292846,
          153488.34010379127,
          15649774.237460556,
          495917.6300006062,
          2362633.468955535,
          548649.5602936535,
          168125.19217838466,
          275638.51016545645,
          149952.69506504232,
          135397.55523381275,
          1724753.930690433,
          71879.68157120491,
          939049.2576849586,
          750926.0895123119,
          435294.5795517608,
          70830.50921566114,
          3476795.598695794,
          57796.947690130335,
          191387.42953456086,
          1365891.7953684991,
          2626975.2907376443,
          4108802.7059009923,
          11725553.139512027,
          554763.5454954308,
          63118.10185185337,
          27977.685090303818,
          4689122.979680495,
          71522.24576676796,
          15637610.80724682,
          24851.630211490035,
          5670297.642582984,
          7348891.84351072,
          80102.85216665042,
          6852707.503844661,
          1165563.2902000418,
          662553.5450750944,
          2492965.668041272,
          4210661.621347264,
          2196120.263859627,
          58654702.499901764,
          7398405.064644769,
          20603124.895288963,
          3257689.8343815817,
          296740.8359845893,
          638937.8554157364,
          12904364.761878852,
          462325.7236184884,
          493460.4101389686,
          1876623.8998658783,
          251719.60530793315,
          1140550.8662849646,
          7952696.584295893,
          1266711.8062580598,
          17199236.026522983,
          574755.864958136,
          2309649.090054648,
          99728.8446469709,
          500211.48450050125,
          3306428.389091878,
          141571672.01338258,
          383336.9097358469,
          4659877.084812241,
          457059.371056867,
          4166564.909998204,
          582839.0620956874,
          5294096.575728038,
          0,
          2468172.5558178695,
          2624583.557839725,
          2786054.484499367,
          96333.39712371501,
          942756.802453129,
          54426377.358092636,
          12836843.432465449,
          4421534.999074995,
          318542.6735091964,
          2743859.784397055,
          4660544.557538761,
          813747.5697516254,
          2322796.400158612,
          110154073.6084926,
          8941667.835775254,
          9418249.53323811,
          6961674.312555053,
          27519945.23207311,
          1211186.5130224098,
          627163.4542011445,
          1768602.8399628813,
          1026875.7690834829,
          7815805.230620679,
          67081.86113447568,
          17057009.370159816,
          4006008.2901652916,
          2566067.764314808,
          139276.72640739437,
          304669.5272673416,
          4157416.8445537942,
          8969488.752217274,
          18156879.092321336,
          4437099.333573752,
          299903.77180429705,
          35324984.91063304,
          4328461.972621261,
          646760.9241799967,
          9.094947017729282e-13,
          62908701.157352865,
          180643.37443618575,
          19069815.807128374,
          1275212.3033647367,
          6349469.381031159,
          457676.157362238,
          974937.1607566823,
          32681.52265832385,
          15263.365825248104,
          1666327.310092869,
          11145807.859983161,
          8856496.811225388,
          914547.039951562,
          749.8865054722371,
          3997878.162310417,
          53080097.0275504,
          318675.67881374765,
          145280.83487012773,
          36084.040593951846,
          18414.821523540544,
          97506.37121515613,
          28373690.238563403,
          8279727.344152371,
          2780986.1631547003,
          397541.8207477227,
          42046923.42483198,
          10343642.514433445,
          12519029.315119455,
          61393.05296244634,
          2149021.428990543,
          18643233.348504018,
          47462254.639633015,
          12193767.961614784,
          135756.39403208555,
          4918006.03150791,
          1698710.3623672246,
          5948439.1276615,
          7020858.966157755,
          48303.782511432335,
          4597008.881931653,
          2902065.2970015826,
          6503616.644107254,
          2883126.850849546,
          94898.71875791745,
          6068023.789352581,
          1874.022178676509,
          5811974.14365717,
          10832536.425121468,
          848012.8373028055,
          30744.381001765312,
          2738914.143200672,
          8014048.633271132,
          1863337.1599287207,
          15903436.208656553,
          180009.3920412134,
          5937246.686265427,
          1913751.9648362694,
          3173831.4757663547,
          15584445.37527601,
          1675596.037405596,
          1050855.624418574,
          678111.7405530504,
          20409068.34512226,
          4267462.513420677,
          7258581.921267577,
          3973944.547107786,
          427713.5330924733,
          9978134.337676156,
          2499741.537406556,
          29222365.33711746,
          4933566.763300561
         ],
         "yaxis": "y"
        }
       ],
       "layout": {
        "barmode": "group",
        "legend": {
         "title": {
          "text": "variable"
         },
         "tracegroupgap": 0
        },
        "template": {
         "data": {
          "bar": [
           {
            "error_x": {
             "color": "#2a3f5f"
            },
            "error_y": {
             "color": "#2a3f5f"
            },
            "marker": {
             "line": {
              "color": "#E5ECF6",
              "width": 0.5
             },
             "pattern": {
              "fillmode": "overlay",
              "size": 10,
              "solidity": 0.2
             }
            },
            "type": "bar"
           }
          ],
          "barpolar": [
           {
            "marker": {
             "line": {
              "color": "#E5ECF6",
              "width": 0.5
             },
             "pattern": {
              "fillmode": "overlay",
              "size": 10,
              "solidity": 0.2
             }
            },
            "type": "barpolar"
           }
          ],
          "carpet": [
           {
            "aaxis": {
             "endlinecolor": "#2a3f5f",
             "gridcolor": "white",
             "linecolor": "white",
             "minorgridcolor": "white",
             "startlinecolor": "#2a3f5f"
            },
            "baxis": {
             "endlinecolor": "#2a3f5f",
             "gridcolor": "white",
             "linecolor": "white",
             "minorgridcolor": "white",
             "startlinecolor": "#2a3f5f"
            },
            "type": "carpet"
           }
          ],
          "choropleth": [
           {
            "colorbar": {
             "outlinewidth": 0,
             "ticks": ""
            },
            "type": "choropleth"
           }
          ],
          "contour": [
           {
            "colorbar": {
             "outlinewidth": 0,
             "ticks": ""
            },
            "colorscale": [
             [
              0,
              "#0d0887"
             ],
             [
              0.1111111111111111,
              "#46039f"
             ],
             [
              0.2222222222222222,
              "#7201a8"
             ],
             [
              0.3333333333333333,
              "#9c179e"
             ],
             [
              0.4444444444444444,
              "#bd3786"
             ],
             [
              0.5555555555555556,
              "#d8576b"
             ],
             [
              0.6666666666666666,
              "#ed7953"
             ],
             [
              0.7777777777777778,
              "#fb9f3a"
             ],
             [
              0.8888888888888888,
              "#fdca26"
             ],
             [
              1,
              "#f0f921"
             ]
            ],
            "type": "contour"
           }
          ],
          "contourcarpet": [
           {
            "colorbar": {
             "outlinewidth": 0,
             "ticks": ""
            },
            "type": "contourcarpet"
           }
          ],
          "heatmap": [
           {
            "colorbar": {
             "outlinewidth": 0,
             "ticks": ""
            },
            "colorscale": [
             [
              0,
              "#0d0887"
             ],
             [
              0.1111111111111111,
              "#46039f"
             ],
             [
              0.2222222222222222,
              "#7201a8"
             ],
             [
              0.3333333333333333,
              "#9c179e"
             ],
             [
              0.4444444444444444,
              "#bd3786"
             ],
             [
              0.5555555555555556,
              "#d8576b"
             ],
             [
              0.6666666666666666,
              "#ed7953"
             ],
             [
              0.7777777777777778,
              "#fb9f3a"
             ],
             [
              0.8888888888888888,
              "#fdca26"
             ],
             [
              1,
              "#f0f921"
             ]
            ],
            "type": "heatmap"
           }
          ],
          "heatmapgl": [
           {
            "colorbar": {
             "outlinewidth": 0,
             "ticks": ""
            },
            "colorscale": [
             [
              0,
              "#0d0887"
             ],
             [
              0.1111111111111111,
              "#46039f"
             ],
             [
              0.2222222222222222,
              "#7201a8"
             ],
             [
              0.3333333333333333,
              "#9c179e"
             ],
             [
              0.4444444444444444,
              "#bd3786"
             ],
             [
              0.5555555555555556,
              "#d8576b"
             ],
             [
              0.6666666666666666,
              "#ed7953"
             ],
             [
              0.7777777777777778,
              "#fb9f3a"
             ],
             [
              0.8888888888888888,
              "#fdca26"
             ],
             [
              1,
              "#f0f921"
             ]
            ],
            "type": "heatmapgl"
           }
          ],
          "histogram": [
           {
            "marker": {
             "pattern": {
              "fillmode": "overlay",
              "size": 10,
              "solidity": 0.2
             }
            },
            "type": "histogram"
           }
          ],
          "histogram2d": [
           {
            "colorbar": {
             "outlinewidth": 0,
             "ticks": ""
            },
            "colorscale": [
             [
              0,
              "#0d0887"
             ],
             [
              0.1111111111111111,
              "#46039f"
             ],
             [
              0.2222222222222222,
              "#7201a8"
             ],
             [
              0.3333333333333333,
              "#9c179e"
             ],
             [
              0.4444444444444444,
              "#bd3786"
             ],
             [
              0.5555555555555556,
              "#d8576b"
             ],
             [
              0.6666666666666666,
              "#ed7953"
             ],
             [
              0.7777777777777778,
              "#fb9f3a"
             ],
             [
              0.8888888888888888,
              "#fdca26"
             ],
             [
              1,
              "#f0f921"
             ]
            ],
            "type": "histogram2d"
           }
          ],
          "histogram2dcontour": [
           {
            "colorbar": {
             "outlinewidth": 0,
             "ticks": ""
            },
            "colorscale": [
             [
              0,
              "#0d0887"
             ],
             [
              0.1111111111111111,
              "#46039f"
             ],
             [
              0.2222222222222222,
              "#7201a8"
             ],
             [
              0.3333333333333333,
              "#9c179e"
             ],
             [
              0.4444444444444444,
              "#bd3786"
             ],
             [
              0.5555555555555556,
              "#d8576b"
             ],
             [
              0.6666666666666666,
              "#ed7953"
             ],
             [
              0.7777777777777778,
              "#fb9f3a"
             ],
             [
              0.8888888888888888,
              "#fdca26"
             ],
             [
              1,
              "#f0f921"
             ]
            ],
            "type": "histogram2dcontour"
           }
          ],
          "mesh3d": [
           {
            "colorbar": {
             "outlinewidth": 0,
             "ticks": ""
            },
            "type": "mesh3d"
           }
          ],
          "parcoords": [
           {
            "line": {
             "colorbar": {
              "outlinewidth": 0,
              "ticks": ""
             }
            },
            "type": "parcoords"
           }
          ],
          "pie": [
           {
            "automargin": true,
            "type": "pie"
           }
          ],
          "scatter": [
           {
            "fillpattern": {
             "fillmode": "overlay",
             "size": 10,
             "solidity": 0.2
            },
            "type": "scatter"
           }
          ],
          "scatter3d": [
           {
            "line": {
             "colorbar": {
              "outlinewidth": 0,
              "ticks": ""
             }
            },
            "marker": {
             "colorbar": {
              "outlinewidth": 0,
              "ticks": ""
             }
            },
            "type": "scatter3d"
           }
          ],
          "scattercarpet": [
           {
            "marker": {
             "colorbar": {
              "outlinewidth": 0,
              "ticks": ""
             }
            },
            "type": "scattercarpet"
           }
          ],
          "scattergeo": [
           {
            "marker": {
             "colorbar": {
              "outlinewidth": 0,
              "ticks": ""
             }
            },
            "type": "scattergeo"
           }
          ],
          "scattergl": [
           {
            "marker": {
             "colorbar": {
              "outlinewidth": 0,
              "ticks": ""
             }
            },
            "type": "scattergl"
           }
          ],
          "scattermapbox": [
           {
            "marker": {
             "colorbar": {
              "outlinewidth": 0,
              "ticks": ""
             }
            },
            "type": "scattermapbox"
           }
          ],
          "scatterpolar": [
           {
            "marker": {
             "colorbar": {
              "outlinewidth": 0,
              "ticks": ""
             }
            },
            "type": "scatterpolar"
           }
          ],
          "scatterpolargl": [
           {
            "marker": {
             "colorbar": {
              "outlinewidth": 0,
              "ticks": ""
             }
            },
            "type": "scatterpolargl"
           }
          ],
          "scatterternary": [
           {
            "marker": {
             "colorbar": {
              "outlinewidth": 0,
              "ticks": ""
             }
            },
            "type": "scatterternary"
           }
          ],
          "surface": [
           {
            "colorbar": {
             "outlinewidth": 0,
             "ticks": ""
            },
            "colorscale": [
             [
              0,
              "#0d0887"
             ],
             [
              0.1111111111111111,
              "#46039f"
             ],
             [
              0.2222222222222222,
              "#7201a8"
             ],
             [
              0.3333333333333333,
              "#9c179e"
             ],
             [
              0.4444444444444444,
              "#bd3786"
             ],
             [
              0.5555555555555556,
              "#d8576b"
             ],
             [
              0.6666666666666666,
              "#ed7953"
             ],
             [
              0.7777777777777778,
              "#fb9f3a"
             ],
             [
              0.8888888888888888,
              "#fdca26"
             ],
             [
              1,
              "#f0f921"
             ]
            ],
            "type": "surface"
           }
          ],
          "table": [
           {
            "cells": {
             "fill": {
              "color": "#EBF0F8"
             },
             "line": {
              "color": "white"
             }
            },
            "header": {
             "fill": {
              "color": "#C8D4E3"
             },
             "line": {
              "color": "white"
             }
            },
            "type": "table"
           }
          ]
         },
         "layout": {
          "annotationdefaults": {
           "arrowcolor": "#2a3f5f",
           "arrowhead": 0,
           "arrowwidth": 1
          },
          "autotypenumbers": "strict",
          "coloraxis": {
           "colorbar": {
            "outlinewidth": 0,
            "ticks": ""
           }
          },
          "colorscale": {
           "diverging": [
            [
             0,
             "#8e0152"
            ],
            [
             0.1,
             "#c51b7d"
            ],
            [
             0.2,
             "#de77ae"
            ],
            [
             0.3,
             "#f1b6da"
            ],
            [
             0.4,
             "#fde0ef"
            ],
            [
             0.5,
             "#f7f7f7"
            ],
            [
             0.6,
             "#e6f5d0"
            ],
            [
             0.7,
             "#b8e186"
            ],
            [
             0.8,
             "#7fbc41"
            ],
            [
             0.9,
             "#4d9221"
            ],
            [
             1,
             "#276419"
            ]
           ],
           "sequential": [
            [
             0,
             "#0d0887"
            ],
            [
             0.1111111111111111,
             "#46039f"
            ],
            [
             0.2222222222222222,
             "#7201a8"
            ],
            [
             0.3333333333333333,
             "#9c179e"
            ],
            [
             0.4444444444444444,
             "#bd3786"
            ],
            [
             0.5555555555555556,
             "#d8576b"
            ],
            [
             0.6666666666666666,
             "#ed7953"
            ],
            [
             0.7777777777777778,
             "#fb9f3a"
            ],
            [
             0.8888888888888888,
             "#fdca26"
            ],
            [
             1,
             "#f0f921"
            ]
           ],
           "sequentialminus": [
            [
             0,
             "#0d0887"
            ],
            [
             0.1111111111111111,
             "#46039f"
            ],
            [
             0.2222222222222222,
             "#7201a8"
            ],
            [
             0.3333333333333333,
             "#9c179e"
            ],
            [
             0.4444444444444444,
             "#bd3786"
            ],
            [
             0.5555555555555556,
             "#d8576b"
            ],
            [
             0.6666666666666666,
             "#ed7953"
            ],
            [
             0.7777777777777778,
             "#fb9f3a"
            ],
            [
             0.8888888888888888,
             "#fdca26"
            ],
            [
             1,
             "#f0f921"
            ]
           ]
          },
          "colorway": [
           "#636efa",
           "#EF553B",
           "#00cc96",
           "#ab63fa",
           "#FFA15A",
           "#19d3f3",
           "#FF6692",
           "#B6E880",
           "#FF97FF",
           "#FECB52"
          ],
          "font": {
           "color": "#2a3f5f"
          },
          "geo": {
           "bgcolor": "white",
           "lakecolor": "white",
           "landcolor": "#E5ECF6",
           "showlakes": true,
           "showland": true,
           "subunitcolor": "white"
          },
          "hoverlabel": {
           "align": "left"
          },
          "hovermode": "closest",
          "mapbox": {
           "style": "light"
          },
          "paper_bgcolor": "white",
          "plot_bgcolor": "#E5ECF6",
          "polar": {
           "angularaxis": {
            "gridcolor": "white",
            "linecolor": "white",
            "ticks": ""
           },
           "bgcolor": "#E5ECF6",
           "radialaxis": {
            "gridcolor": "white",
            "linecolor": "white",
            "ticks": ""
           }
          },
          "scene": {
           "xaxis": {
            "backgroundcolor": "#E5ECF6",
            "gridcolor": "white",
            "gridwidth": 2,
            "linecolor": "white",
            "showbackground": true,
            "ticks": "",
            "zerolinecolor": "white"
           },
           "yaxis": {
            "backgroundcolor": "#E5ECF6",
            "gridcolor": "white",
            "gridwidth": 2,
            "linecolor": "white",
            "showbackground": true,
            "ticks": "",
            "zerolinecolor": "white"
           },
           "zaxis": {
            "backgroundcolor": "#E5ECF6",
            "gridcolor": "white",
            "gridwidth": 2,
            "linecolor": "white",
            "showbackground": true,
            "ticks": "",
            "zerolinecolor": "white"
           }
          },
          "shapedefaults": {
           "line": {
            "color": "#2a3f5f"
           }
          },
          "ternary": {
           "aaxis": {
            "gridcolor": "white",
            "linecolor": "white",
            "ticks": ""
           },
           "baxis": {
            "gridcolor": "white",
            "linecolor": "white",
            "ticks": ""
           },
           "bgcolor": "#E5ECF6",
           "caxis": {
            "gridcolor": "white",
            "linecolor": "white",
            "ticks": ""
           }
          },
          "title": {
           "x": 0.05
          },
          "xaxis": {
           "automargin": true,
           "gridcolor": "white",
           "linecolor": "white",
           "ticks": "",
           "title": {
            "standoff": 15
           },
           "zerolinecolor": "white",
           "zerolinewidth": 2
          },
          "yaxis": {
           "automargin": true,
           "gridcolor": "white",
           "linecolor": "white",
           "ticks": "",
           "title": {
            "standoff": 15
           },
           "zerolinecolor": "white",
           "zerolinewidth": 2
          }
         }
        },
        "title": {
         "text": "Population with Water vs. Population without Water"
        },
        "xaxis": {
         "anchor": "y",
         "domain": [
          0,
          1
         ],
         "title": {
          "text": "region"
         }
        },
        "yaxis": {
         "anchor": "x",
         "domain": [
          0,
          1
         ],
         "title": {
          "text": "value"
         }
        }
       }
      }
     },
     "metadata": {},
     "output_type": "display_data"
    }
   ],
   "source": [
    "# create stacked bar chart, stacking  \"country_pop_with_water\", and \"country_pop_without_water\" on the y axis as two bars. Using region as the x axis.\n",
    "# px.bar(df_countries, x=\"region\", y=[\"country_pop_with_water\", \"country_pop_without_water\"], title=\"Population with Water vs. Population without Water\", hover_data=[\"Entity\"])\n",
    "\n",
    "# create the same, but put the bars side by side\n",
    "px.bar(df_countries, x=\"region\", y=[\"country_pop_with_water\", \"country_pop_without_water\"], barmode=\"group\", title=\"Population with Water vs. Population without Water\", hover_data=[\"Entity\"])\n",
    "\n",
    "\n",
    "\n",
    "\n"
   ]
  },
  {
   "cell_type": "code",
   "execution_count": 24,
   "metadata": {},
   "outputs": [],
   "source": [
    "# df_countries.to_csv(export_file_location + \"country_data_chloro.csv\")"
   ]
  }
 ],
 "metadata": {
  "kernelspec": {
   "display_name": "Python 3",
   "language": "python",
   "name": "python3"
  },
  "language_info": {
   "codemirror_mode": {
    "name": "ipython",
    "version": 3
   },
   "file_extension": ".py",
   "mimetype": "text/x-python",
   "name": "python",
   "nbconvert_exporter": "python",
   "pygments_lexer": "ipython3",
   "version": "3.9.18"
  },
  "orig_nbformat": 4,
  "vscode": {
   "interpreter": {
    "hash": "c09a8b249899dc4589e662892666698668e7a3ca1327801a18c24efb244ad2c6"
   }
  }
 },
 "nbformat": 4,
 "nbformat_minor": 2
}
