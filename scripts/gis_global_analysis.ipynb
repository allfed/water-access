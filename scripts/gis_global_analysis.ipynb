{
 "cells": [
  {
   "cell_type": "code",
   "execution_count": 1,
   "metadata": {},
   "outputs": [],
   "source": [
    "\n",
    "import pathlib\n",
    "import pandas as pd\n",
    "import numpy as np\n",
    "import matplotlib.pyplot as plt\n",
    "import plotly.express as px\n",
    "import weightedstats as ws\n"
   ]
  },
  {
   "attachments": {},
   "cell_type": "markdown",
   "metadata": {},
   "source": [
    "## Functions and tools used in the analysis"
   ]
  },
  {
   "cell_type": "code",
   "execution_count": 2,
   "metadata": {},
   "outputs": [],
   "source": [
    "def weighted_mean(var, wts):\n",
    "    \"\"\"Calculates the weighted mean\"\"\"\n",
    "    return np.average(var, weights=wts)\n",
    "\n",
    "def weighted_median_series(val, weight):\n",
    "    \"\"\"Calculates the weighted median\n",
    "    ArithmeticError\n",
    "    If the sum of the weights is zero, or if the weights are not positive.\n",
    "    \"\"\"\n",
    "    try:\n",
    "        df = pd.DataFrame({\"val\": val, \"weight\": weight})\n",
    "        df_sorted = df.sort_values(\"val\")\n",
    "        cumsum = df_sorted[\"weight\"].cumsum()\n",
    "        cutoff = df_sorted[\"weight\"].sum() / 2.\n",
    "        result = df_sorted[cumsum >= cutoff][\"val\"].iloc[0]\n",
    "        # return just the value\n",
    "    except:\n",
    "        result = np.nan\n",
    "    return result\n",
    "\n",
    "def weighted_median(df, val_column, weight_column):\n",
    "    \"\"\"Calculates the weighted median\n",
    "    ArithmeticError\n",
    "    If the sum of the weights is zero, or if the weights are not positive.\n",
    "    \"\"\"\n",
    "    df_sorted = df.sort_values(val_column)\n",
    "    cumsum = df_sorted[weight_column].cumsum()\n",
    "    cutoff = df_sorted[weight_column].sum() / 2.\n",
    "    return df_sorted[cumsum >= cutoff][val_column].iloc[0]\n",
    "\n",
    "def run_weighted_median_on_grouped_df(df, groupby_column, value_column, weight_column):\n",
    "    \"\"\"Calculate the weighted median of a dataframe grouped by a column.\n",
    "    Args:\n",
    "        df (pandas.DataFrame): DataFrame to calculate weighted median on.\n",
    "        groupby_column (str): Column to group by.\n",
    "        value_column (str): Column to calculate weighted median on.\n",
    "        weight_column (str): Column to use as weight.\n",
    "    Returns:\n",
    "        pandas.DataFrame: DataFrame with weighted median for each group.\n",
    "    \"\"\"\n",
    "    # initialize empty list\n",
    "    d = []\n",
    "    # loop through each group\n",
    "    for i in df[groupby_column].unique():\n",
    "        df_group = df[df[groupby_column] == i]\n",
    "        # if rows in dataframe are more than 1, calculate weighted median\n",
    "        if len(df_group) > 1:\n",
    "            median = weighted_median(df_group, value_column, weight_column)\n",
    "        else:\n",
    "            median = df_group[value_column].values[0]\n",
    "        d.append(\n",
    "            {\n",
    "                groupby_column: i,\n",
    "                \"median\": median,\n",
    "            }\n",
    "        )\n",
    "    return pd.DataFrame(d)\n",
    "\n",
    "\n",
    "def load_data(data_file: str) -> pd.DataFrame:\n",
    "    '''\n",
    "    Load data from /data directory\n",
    "    '''\n",
    "    PATH = pathlib.Path().resolve()\n",
    "    DATA_PATH = PATH.joinpath(\"../data\").resolve()\n",
    "    return pd.read_csv(DATA_PATH.joinpath(data_file))\n",
    "\n"
   ]
  },
  {
   "attachments": {},
   "cell_type": "markdown",
   "metadata": {},
   "source": [
    "## Import Data from CSVs.\n",
    "CSVs created in previous script, which did the cycling mobility on a per country basis\n",
    "\n",
    "### GIS Data From QGIS Export\n",
    "https://ghsl.jrc.ec.europa.eu/download.php?ds=smod <- urbanisation\n",
    "\n",
    "https://www.earthenv.org/topography <- topography\n",
    "\n",
    "https://www.globio.info/download-grip-dataset <- roads\n"
   ]
  },
  {
   "cell_type": "code",
   "execution_count": 3,
   "metadata": {},
   "outputs": [
    {
     "ename": "",
     "evalue": "",
     "output_type": "error",
     "traceback": [
      "\u001b[1;31mThe Kernel crashed while executing code in the current cell or a previous cell. \n",
      "\u001b[1;31mPlease review the code in the cell(s) to identify a possible cause of the failure. \n",
      "\u001b[1;31mClick <a href='https://aka.ms/vscodeJupyterKernelCrash'>here</a> for more info. \n",
      "\u001b[1;31mView Jupyter <a href='command:jupyter.viewOutput'>log</a> for further details."
     ]
    }
   ],
   "source": [
    "\n",
    "# Load the data\n",
    "# urb_data_file = \"../data/GIS/GIS_data_zones.csv\"\n",
    "urb_data_file = \"../data/GIS/gis_data_districts_export_1.csv\"\n",
    "country_data_file = \"../data/processed/country_data_master_interpolated.csv\"\n",
    "export_file_location = \"../data/processed/\"\n",
    "\n",
    "# df_zones_input = pd.read_csv(urb_data_file, low_memory=False)\n",
    "df_zones_input = pd.read_csv(\n",
    "    urb_data_file,\n",
    "    low_memory=False,\n",
    "    dtype={\n",
    "        \"id\": \"Int64\", \n",
    "        \"left\": float, \n",
    "        \"top\": float, \n",
    "        \"right\": float, \n",
    "        \"bottom\": float, \n",
    "        \"row_index\": \"Int64\",\n",
    "        \"col_index\": \"Int64\",\n",
    "        \"COUNTRY\": object, \n",
    "        \"ISO\": object, \n",
    "        \"COUNTRYAFF\": object, \n",
    "        \"AFF_ISO\": object,\n",
    "        \"shapeName\": object, \n",
    "        \"shapeID\": object, \n",
    "        \"shapeGroup\": object, \n",
    "        \"shapeType\": object,\n",
    "        \"dtw_1\": float,\n",
    "        \"URBAN_1\": \"Int64\",\n",
    "        \"pop_count_15\": float,\n",
    "        \"slope_1\": float,\n",
    "        \"grip_1_1\": float,\n",
    "        \"grip_1_2\": float,\n",
    "        \"grip_1_3\": float,\n",
    "        \"grip_1_4\": float,\n",
    "        \"grip_1_5\": float,\n",
    "        }\n",
    "    )\n",
    "df_input = pd.read_csv(country_data_file)\n",
    "\n",
    "# Data manipulation\n",
    "# Convert dtw_1 from meters to kilometers\n",
    "df_zones_input[\"dtw_1\"] /= 1000 \n",
    "\n",
    "\n",
    "# Option to calculate the distance, 1 = runs numerical calculation - takes about 15 mins on my macbook pro, 0 = uses csvs from previous run\n",
    "# only set to 1 if you'd like to recalculate the distance based on new parameters (changed load, changed Crrs etc)\n",
    "calculate_distance = 1\n"
   ]
  },
  {
   "cell_type": "markdown",
   "metadata": {},
   "source": [
    "# Manage Urban / Rural Data\n",
    "Use the GHS_SMOD_E2020_GLOBE_R2023A_54009_1000_V1_0 dataset.\n",
    "from here: https://ghsl.jrc.ec.europa.eu/download.php?ds=smod"
   ]
  },
  {
   "cell_type": "code",
   "execution_count": 4,
   "metadata": {},
   "outputs": [
    {
     "data": {
      "text/plain": [
       "0    2220541\n",
       "1      42618\n",
       "Name: urban_rural, dtype: int64"
      ]
     },
     "execution_count": 4,
     "metadata": {},
     "output_type": "execute_result"
    }
   ],
   "source": [
    "\n",
    "# create new binary column for urban / rural. Rural is below 15, Urban above 15\n",
    "df_zones_input[\"urban_rural\"] = np.where(df_zones_input[\"URBAN_1\"] > 15, 1, 0)\n",
    "df_zones_input[\"urban_rural\"].value_counts()\n"
   ]
  },
  {
   "cell_type": "markdown",
   "metadata": {},
   "source": [
    "# Manage slope.\n",
    "\n",
    "Degrees from earthenv dataset"
   ]
  },
  {
   "cell_type": "code",
   "execution_count": 5,
   "metadata": {},
   "outputs": [
    {
     "data": {
      "text/plain": [
       "0.00     0.000000\n",
       "0.05     0.097832\n",
       "0.10     0.138355\n",
       "0.15     0.218758\n",
       "0.20     0.280146\n",
       "0.25     0.360782\n",
       "0.30     0.450444\n",
       "0.35     0.548193\n",
       "0.40     0.656249\n",
       "0.45     0.787484\n",
       "0.50     0.935736\n",
       "0.55     1.121305\n",
       "0.60     1.358873\n",
       "0.65     1.667845\n",
       "0.70     2.111629\n",
       "0.75     2.770306\n",
       "0.80     3.795188\n",
       "0.85     5.369263\n",
       "0.90     7.810654\n",
       "0.95    11.961503\n",
       "Name: slope_1, dtype: float64"
      ]
     },
     "execution_count": 5,
     "metadata": {},
     "output_type": "execute_result"
    },
    {
     "data": {
      "image/png": "[encoded data removed]",
      "text/plain": [
       "<Figure size 640x480 with 1 Axes>"
      ]
     },
     "metadata": {},
     "output_type": "display_data"
    }
   ],
   "source": [
    "# histogram of slope_1 log scale\n",
    "df_zones_input[\"slope_1\"].hist(bins=100, log=False)\n",
    "\n",
    "# qunaitles of slope_1, do 20 quantiles\n",
    "df_zones_input[\"slope_1\"].quantile(np.arange(0, 1, 0.05))\n"
   ]
  },
  {
   "cell_type": "code",
   "execution_count": null,
   "metadata": {},
   "outputs": [],
   "source": []
  },
  {
   "cell_type": "markdown",
   "metadata": {},
   "source": [
    "# Manage Roads\n",
    "\n"
   ]
  },
  {
   "attachments": {},
   "cell_type": "markdown",
   "metadata": {},
   "source": [
    "## Merge the dataframes\n",
    "Do some manual adjustments to populations"
   ]
  },
  {
   "cell_type": "code",
   "execution_count": 6,
   "metadata": {},
   "outputs": [],
   "source": [
    "\n",
    "# this analysis loses some data as the overlap between the rasters is not perfect. To reduce this error, use the 30 arc second data. Too much heavy lifting for my computer to do this at the moment.\n",
    "\n",
    "#merge df_input and df_zones on ISO_CC. This assigns all the country data to each zone.\n",
    "# join inner will remove some of the data that is not in both datasets\n",
    "df_zones = df_zones_input.merge(df_input, left_on=\"ISOCODE\", right_on=\"alpha3\", how=\"inner\")\n",
    "\n",
    "# these are the columns\n",
    "# alpha3,Unnamed: 0,Entity,Population,YearPBO,PBO,Terrain Ruggedness,Urban %,Urban Agg %,RoadQuality,Km,Urb %,Average household size (number of members),National At Least Basic,National Limit (more than 30 mins),National Unimproved,National Surface Water,Nat Accesible On Premises,Nat Piped,Nat NonPiped,No. HPs,Year of HP estimate,2015 (C),No. HPs in 2015,Non-functional HPs,Functional HPS,Risk Score,alpha2,region,subregion,borders,Mean BMI (male),Mean BMI (female),Mean male height (cm),Mean female height (cm),women weight,men weight,percent_insufficient_activity,Average Weight,power,Crr,trip_velocity_mean,unloaded_velocity_mean,loaded_velocity_mean,velocitykgs,water_ration_kms\n",
    "\n",
    "#adjust population to account for 9 values per raster point (2.5 to 5 arc min resoltuions. 9 values per point)\n",
    "df_zones[\"AdjPopFloat\"] = df_zones[\"pop_count_15_1\"] / 9 \n",
    "\n",
    "# # convert population density to percent of national population on a per country basis, grouped by ISO_CC\n",
    "df_zones[\"pop_density_perc\"] = df_zones.groupby(\"ISOCODE\")[\"AdjPopFloat\"].apply(lambda x: x / x.sum())\n",
    "\n",
    "# multiply population density by population on a per country basis\n",
    "df_zones[\"pop_zone\"] = df_zones[\"pop_density_perc\"] * df_zones[\"Population\"]\n",
    "\n"
   ]
  },
  {
   "cell_type": "code",
   "execution_count": 7,
   "metadata": {},
   "outputs": [],
   "source": [
    "# sum the population in each zone\n",
    "df_zones[\"country_pop_raw\"] = df_zones.groupby(\"ISOCODE\")[\"pop_zone\"].transform(\"sum\")\n",
    "df_zones[\"country_pop_ratio\"] = df_zones.groupby(\"ISOCODE\")[\"AdjPopFloat\"].transform(\"sum\")\n"
   ]
  },
  {
   "cell_type": "code",
   "execution_count": 8,
   "metadata": {},
   "outputs": [],
   "source": [
    "# trim the dataframe to only include rows where there is a population\n",
    "# find non zero values AdjPopFloat\n",
    "df_zones[\"any_pop\"] = df_zones[\"AdjPopFloat\"].apply(\n",
    "    lambda x: 1 if x > 10 else 0\n",
    ")\n",
    "df_zones = df_zones[df_zones[\"any_pop\"] == 1]\n"
   ]
  },
  {
   "cell_type": "markdown",
   "metadata": {},
   "source": [
    "## Do Road Analysis from GRIP Data"
   ]
  },
  {
   "cell_type": "code",
   "execution_count": 9,
   "metadata": {},
   "outputs": [
    {
     "data": {
      "text/plain": [
       "<AxesSubplot:>"
      ]
     },
     "execution_count": 9,
     "metadata": {},
     "output_type": "execute_result"
    },
    {
     "data": {
      "image/png": "[encoded data removed]",
      "text/plain": [
       "<Figure size 640x480 with 1 Axes>"
      ]
     },
     "metadata": {},
     "output_type": "display_data"
    }
   ],
   "source": [
    "# Define the columns to work with\n",
    "columns = [\"grip_1_1\", \"grip_2_1\", \"grip_3_1\", \"grip_4_1\", \"grip_5_1\"]\n",
    "\n",
    "# Create a numpy array from the DataFrame for faster processing\n",
    "data = df_zones[columns].to_numpy()\n",
    "\n",
    "# Find the index of the first non-zero value in each row\n",
    "non_zero_indices = np.argmax(data != 0, axis=1)\n",
    "\n",
    "# Handle rows with all zeros\n",
    "all_zeros = np.all(data == 0, axis=1)\n",
    "non_zero_indices[all_zeros] = -1  # Set a distinct value for rows with all zeros\n",
    "\n",
    "# Map indices to road types\n",
    "road_types = np.array(['No Roads', 'Highways', 'Primary Roads', 'Secondary Roads', 'Tertiary Roads', 'Local Roads'])\n",
    "\n",
    "# Assign the dominant road type\n",
    "df_zones['dominant_road_type'] = road_types[non_zero_indices + 1]  # +1 to adjust for 'No Roads'\n",
    "\n",
    "# Histogram of dominant road type\n",
    "df_zones['dominant_road_type'].value_counts().plot(kind='bar')\n"
   ]
  },
  {
   "cell_type": "code",
   "execution_count": 10,
   "metadata": {},
   "outputs": [],
   "source": [
    "# Load the CSV file\n",
    "df_crr = pd.read_csv(\"../data/lookup tables/Crr.csv\")\n",
    "\n",
    "# Create a dictionary from the DataFrame\n",
    "crr_mapping = pd.Series(df_crr.Crr.values, index=df_crr['Assigned Zone Surface']).to_dict()\n",
    "\n",
    "# Map the road types in df_zones to Crr values\n",
    "df_zones['Crr'] = df_zones['dominant_road_type'].map(crr_mapping)\n",
    "\n",
    "# Now df_zones will have an additional column 'Crr' containing the corresponding Crr values\n"
   ]
  },
  {
   "attachments": {},
   "cell_type": "markdown",
   "metadata": {},
   "source": [
    "## The section below calculates the population per zone that can reach water\n",
    "\n",
    "Consider putting in household size and bike sharing here"
   ]
  },
  {
   "cell_type": "code",
   "execution_count": 11,
   "metadata": {},
   "outputs": [],
   "source": [
    "load_attempt = 25 # kg\n",
    "\n",
    "calculate_distance = True\n",
    "if calculate_distance:\n",
    "    # Calculate the bicycle distance\n",
    "    import sys\n",
    "    from pathlib import Path\n",
    "\n",
    "    # Resolve project root and update sys.path\n",
    "    project_root = Path().resolve().parent\n",
    "    sys.path.append(str(project_root))\n",
    "    \n",
    "    import src.mobility_module as mm\n",
    "\n",
    "    # Import data\n",
    "    file_path_params = \"../data/lookup tables/mobility-model-parameters.csv\"\n",
    "    allHPV_param_df = pd.read_csv(file_path_params)\n",
    "    param_df = allHPV_param_df[allHPV_param_df[\"Name\"] == \"Bicycle\"]\n",
    "\n",
    "    # Initialize model options and variables\n",
    "    mo = mm.model_options()\n",
    "    mo.model_selection = 2  # Cycling model\n",
    "\n",
    "    mv = mm.model_variables()\n",
    "    #TODO update to use country weights?\n",
    "    met = mm.MET_values(mv, country_weight=False, use_country_specific_weights=False)\n",
    "    hpv = mm.HPV_variables(param_df, mv)\n",
    "\n",
    "    # Ensure that the 'Crr' column is in the correct format (e.g., float)\n",
    "    df_zones['Crr'] = df_zones['Crr'].astype(float)\n",
    "\n",
    "    # Extract slope and Crr values\n",
    "    slope_zones = df_zones[\"slope_1\"]\n",
    "    Crr_values = df_zones[\"Crr\"]\n",
    "    country_average_weights = df_zones[\"Average Weight\"]\n",
    "\n",
    "    # Model run setup\n",
    "    n_runs = len(slope_zones)\n",
    "\n",
    "    # Initialize result vectors\n",
    "    results = np.zeros((n_runs, 3))\n",
    "\n",
    "    # Run model with both slope and Crr\n",
    "    for i, (slope, crr, country_average_weight) in enumerate(zip(slope_zones, Crr_values, country_average_weights)):\n",
    "        hpv.Crr = crr\n",
    "        mv.m1 = country_average_weight\n",
    "        results[i] = mm.mobility_models.single_bike_run(mv, mo, hpv, slope, load_attempt) \n",
    "    # Unpack results\n",
    "    loaded_velocity_vec, unloaded_velocity_vec, max_load_vec = results.T\n",
    "\n",
    "    # average velocity between loaded and unloaded\n",
    "    average_velocity = (loaded_velocity_vec + unloaded_velocity_vec) / 2\n",
    "\n",
    "    # save the results csv\n",
    "    df_zones[\"loaded_velocity_bicycle\"] = loaded_velocity_vec\n",
    "    df_zones[\"unloaded_velocity_bicycle\"] = unloaded_velocity_vec\n",
    "    df_zones[\"average_velocity_bicycle\"] = average_velocity\n",
    "    df_zones[\"max_load_bicycle\"] = max_load_vec\n",
    "\n",
    "    #only save the newly created cols in the csv\n",
    "    df_zones[[\"fid\", \"loaded_velocity_bicycle\", \"unloaded_velocity_bicycle\", \"average_velocity_bicycle\", \"max_load_bicycle\"]].to_csv(export_file_location + \"bicycle_velocity_by_zone.csv\")\n",
    "\n",
    "else:\n",
    "    # load the results csv\n",
    "    df_zones_bicycle = pd.read_csv(export_file_location + \"bicycle_velocity_by_zone.csv\")\n",
    "\n",
    "    # merge the results with the main df\n",
    "    df_zones = df_zones.merge(df_zones_bicycle, on=\"fid\", how=\"left\")\n",
    "\n"
   ]
  },
  {
   "cell_type": "code",
   "execution_count": 12,
   "metadata": {},
   "outputs": [],
   "source": [
    "load_attempt = 20 # kg\n",
    "\n",
    "if calculate_distance:\n",
    "    # Calculate the walking distance\n",
    "    import sys\n",
    "    from pathlib import Path\n",
    "\n",
    "\n",
    "    # Resolve project root and update sys.path\n",
    "    project_root = Path().resolve().parent\n",
    "    sys.path.append(str(project_root))\n",
    "    \n",
    "    import src.mobility_module as mm\n",
    "\n",
    "    # Import data\n",
    "    file_path_params = \"../data/lookup tables/mobility-model-parameters.csv\"\n",
    "    allHPV_param_df = pd.read_csv(file_path_params)\n",
    "    param_df = allHPV_param_df[allHPV_param_df[\"Name\"] == \"Buckets\"]\n",
    "\n",
    "    # Initialize model options and variables\n",
    "    mo = mm.model_options()\n",
    "    mo.model_selection = 3  # Lankford model\n",
    "\n",
    "    mv = mm.model_variables()\n",
    "    #TODO update to use country weights?\n",
    "    # met = mm.MET_values(mv, country_weight=False, use_country_specific_weights=False)\n",
    "    hpv = mm.HPV_variables(param_df, mv)\n",
    "\n",
    "    # Ensure that the 'Crr' column is in the correct format (e.g., float)\n",
    "    df_zones['Crr'] = df_zones['Crr'].astype(float)\n",
    "\n",
    "    # Extract slope and Crr values\n",
    "    slope_zones = df_zones[\"slope_1\"]\n",
    "    Crr_values = df_zones[\"Crr\"]\n",
    "    country_average_weight = df_zones[\"Average Weight\"]\n",
    "\n",
    "    # Model run setup\n",
    "    n_runs = len(slope_zones)\n",
    "\n",
    "    # Initialize result vectors\n",
    "    results = np.zeros((n_runs, 3))\n",
    "\n",
    "    # Run model with both slope and Crr\n",
    "    for i, (slope, country_average_weight) in enumerate(zip(slope_zones, country_average_weights)):\n",
    "        mv.m1 = country_average_weight\n",
    "        met_values = mm.MET_values(mv, country_weight=country_average_weight, use_country_specific_weights=True)\n",
    "        results[i] = mm.mobility_models.single_lankford_run(\n",
    "            mv, mo, met_values, hpv, slope, load_attempt\n",
    "        )\n",
    "    # Unpack results\n",
    "    loaded_velocity_vec, unloaded_velocity_vec, max_load_vec = results.T\n",
    "\n",
    "    # average velocity between loaded and unloaded\n",
    "    average_velocity = (loaded_velocity_vec + unloaded_velocity_vec) / 2\n",
    "\n",
    "    # save the results csv\n",
    "    df_zones[\"loaded_velocity_walk\"] = loaded_velocity_vec\n",
    "    df_zones[\"unloaded_velocity_walk\"] = unloaded_velocity_vec\n",
    "    df_zones[\"average_velocity_walk\"] = average_velocity\n",
    "    df_zones[\"max_load_walk\"] = max_load_vec\n",
    "\n",
    "    #only save the newly created cols in the csv\n",
    "    df_zones[[\"fid\", \"loaded_velocity_walk\", \"unloaded_velocity_walk\", \"average_velocity_walk\", \"max_load_walk\"]].to_csv(export_file_location + \"walk_velocity_by_zone.csv\")\n",
    "\n",
    "else:\n",
    "    # load the results csv\n",
    "    df_zones_walking = pd.read_csv(export_file_location + \"walk_velocity_by_zone.csv\")\n",
    "\n",
    "    # merge the results with the main df\n",
    "    df_zones = df_zones.merge(df_zones_walking, on=\"fid\", how=\"left\")\n",
    "\n"
   ]
  },
  {
   "cell_type": "code",
   "execution_count": 13,
   "metadata": {},
   "outputs": [],
   "source": [
    "time_gathering_water = 7\n",
    "df_zones[\"max distance cycling\"] = df_zones[\"average_velocity_bicycle\"] * time_gathering_water / 2 # max distance achievable (not round trip, just the distance from home to water source)\n",
    "df_zones[\"max distance walking\"] = df_zones[\"average_velocity_walk\"] * time_gathering_water / 2\n",
    "df_zones[\"water_ration_kms\"] = df_zones[\"max distance cycling\"] * df_zones[\"max_load_bicycle\"]"
   ]
  },
  {
   "cell_type": "code",
   "execution_count": 14,
   "metadata": {},
   "outputs": [],
   "source": [
    "# # population with piped water\n",
    "\n",
    "# set df_zones[\"zone_pop_piped\"] to 0 for all zones to begin with\n",
    "df_zones[\"zone_pop_piped\"] = 0\n",
    "\n",
    "# if urban use urban piped and unpiped, if rural use rural piped and unpiped\n",
    "# use the urban_rural column to do this (where urban_rural = 1, use urban, where urban_rural = 0, use rural)\n",
    "df_zones[\"zone_pop_piped\"] = df_zones[\"pop_zone\"] * df_zones[\"urban_rural\"] * df_zones[\"URBANPiped\"]/100 + df_zones[\"pop_zone\"] * (1-df_zones[\"urban_rural\"]) * df_zones[\"RURALPiped\"]/100\n",
    "df_zones[\"zone_pop_unpiped\"] = df_zones[\"pop_zone\"] * df_zones[\"urban_rural\"] * df_zones[\"URBANNon-piped\"]/100 + df_zones[\"pop_zone\"] * (1-df_zones[\"urban_rural\"]) * df_zones[\"RURALNon-piped\"]/100\n",
    "\n",
    "# is it possible to reach water with walking/cycling\n",
    "df_zones[\"zone_cycling_okay\"] = (df_zones[\"dtw_1\"] < df_zones[\"max distance cycling\"])*1 # multiply by 1 to force to binary not true/false\n",
    "df_zones[\"zone_walking_okay\"] = (df_zones[\"dtw_1\"] < df_zones[\"max distance walking\"])*1\n",
    "\n",
    "# how many people can collect water in the zone\n",
    "df_zones[\"fraction_of_zone_with_cycling_access\"] = df_zones[\"zone_cycling_okay\"]* (df_zones[\"PBO\"])/100\n",
    "df_zones[\"fraction_of_zone_with_walking_access\"] = df_zones[\"zone_walking_okay\"] * 1\n",
    "\n",
    "#\n",
    "df_zones[\"population_piped_with_cycling_access\"] = df_zones[\"fraction_of_zone_with_cycling_access\"] * df_zones[\"zone_pop_piped\"]\n",
    "df_zones[\"population_piped_with_walking_access\"] = df_zones[\"fraction_of_zone_with_walking_access\"] * df_zones[\"zone_pop_piped\"]\n",
    "\n",
    "# select the maximum between the two, if walkable, max will always be walking\n",
    "df_zones[\"population_piped_with_access\"] = df_zones[[\"population_piped_with_cycling_access\", \"population_piped_with_walking_access\"]].max(axis=1)\n",
    "\n",
    "# zone pop without water\n",
    "df_zones[\"zone_pop_with_water\"] =  df_zones[\"population_piped_with_access\"] + df_zones[\"zone_pop_unpiped\"]\n",
    "df_zones[\"zone_pop_without_water\"] = df_zones[\"pop_zone\"] - df_zones[\"zone_pop_with_water\"]\n",
    "\n",
    "# use water_ration_kms to calculate the water ration achievable per bike per zone\n",
    "df_zones[\"water_rations_per_bike\"] = df_zones[\"water_ration_kms\"] / df_zones[\"dtw_1\"]\n",
    "\n",
    "# number oif bikes per zone is population divided by household nuymber multipled by PBO\n",
    "df_zones[\"bikes_in_zone\"] = df_zones[\"pop_zone\"] / df_zones[\"Average household size (number of members)\"] * df_zones[\"PBO\"]\n",
    "\n",
    "#water rations achievable utilising all the bikes in the zone is the number of bikes in the zone multiplied by the water rations per bike\n",
    "df_zones[\"water_rations_achievable\"] = df_zones[\"bikes_in_zone\"] * df_zones[\"water_rations_per_bike\"]\n",
    "\n"
   ]
  },
  {
   "cell_type": "code",
   "execution_count": 15,
   "metadata": {},
   "outputs": [
    {
     "data": {
      "text/plain": [
       "count    1.481674e+06\n",
       "mean     1.646975e+03\n",
       "std      8.653241e+03\n",
       "min      0.000000e+00\n",
       "25%      6.560864e+00\n",
       "50%      4.893252e+01\n",
       "75%      5.727339e+02\n",
       "max      1.127543e+06\n",
       "Name: zone_pop_unpiped, dtype: float64"
      ]
     },
     "execution_count": 15,
     "metadata": {},
     "output_type": "execute_result"
    }
   ],
   "source": [
    "df_zones[\"zone_pop_unpiped\"].describe()"
   ]
  },
  {
   "cell_type": "code",
   "execution_count": 16,
   "metadata": {},
   "outputs": [],
   "source": [
    "# Export df_zones to \"results\" folder\n",
    "df_zones.to_csv(\"../results/df_zones_export.csv\", index=False)\n"
   ]
  },
  {
   "cell_type": "code",
   "execution_count": 23,
   "metadata": {},
   "outputs": [
    {
     "data": {
      "text/plain": [
       "(1481674, 120)"
      ]
     },
     "execution_count": 23,
     "metadata": {},
     "output_type": "execute_result"
    }
   ],
   "source": [
    "# count rows of df_zones\n",
    "df_zones.shape\n",
    "# display column names without truncation\n",
    "# pd.options.display.max_columns = None\n",
    "# df_zones.head()"
   ]
  },
  {
   "cell_type": "markdown",
   "metadata": {},
   "source": [
    "## Temporary INPUT ZONE"
   ]
  },
  {
   "cell_type": "code",
   "execution_count": 3,
   "metadata": {},
   "outputs": [
    {
     "name": "stderr",
     "output_type": "stream",
     "text": [
      "/tmp/ipykernel_203062/317138879.py:3: DtypeWarning: Columns (85,120,121,122,123) have mixed types. Specify dtype option on import or set low_memory=False.\n",
      "  df_zones = pd.read_csv(\n"
     ]
    }
   ],
   "source": [
    "### TEMPORARY INPUT ZONE ###\n",
    "# TODO Delete this cell\n",
    "df_zones = pd.read_csv(\n",
    "    \"../data/GIS/districts_data.csv\", \n",
    "    # dtype={\n",
    "    #     \"id\": int, \n",
    "    #     \"left\": float, \n",
    "    #     \"top\": float, \n",
    "    #     \"right\": float, \n",
    "    #     \"bottom\": float, \n",
    "    #     \"COUNTRY\": object, \n",
    "    #     \"ISO\": object, \n",
    "    #     \"COUNTRYAFF\": object, \n",
    "    #     \"AFF_ISO\": object, \n",
    "    #     \"DTW_1\": float, \n",
    "    #     \"shapeName\": object, \n",
    "    #     \"shapeID\": object, \n",
    "    #     \"shapeGroup\": object, \n",
    "    #     \"shapeType\": object\n",
    "    #     }\n",
    "    )\n",
    "# sum the population in each zone\n",
    "df_zones[\"district_pop_raw\"] = df_zones.groupby(\"shapeID\")[\"pop_zone\"].transform(\"sum\")"
   ]
  },
  {
   "cell_type": "code",
   "execution_count": 5,
   "metadata": {},
   "outputs": [],
   "source": [
    "df_zones_copy = df_zones.copy()"
   ]
  },
  {
   "cell_type": "code",
   "execution_count": 6,
   "metadata": {},
   "outputs": [
    {
     "name": "stdout",
     "output_type": "stream",
     "text": [
      "                   shapeID   Entity ISOCODE    shapeName  district_pop_raw  \\\n",
      "0   10019604B1094996199402  Albania     ALB        Berat      85910.550399   \n",
      "1  10019604B11091570243697  Albania     ALB        Korçë     209696.943156   \n",
      "2  10019604B18588012879070  Albania     ALB         Fier     255123.773407   \n",
      "3  10019604B29738820438867  Albania     ALB  Gjirokastër      60000.709369   \n",
      "4  10019604B30424798991477  Albania     ALB       Tiranë     949106.815656   \n",
      "\n",
      "   zone_pop_with_water  zone_pop_without_water  population_piped_with_access  \\\n",
      "0         71818.034372            14092.516027                  54243.182114   \n",
      "1        165873.188667            43823.754489                 122695.470761   \n",
      "2        220653.434185            34470.339222                 168706.194104   \n",
      "3         49418.882358            10581.827011                  36818.733391   \n",
      "4        913884.381949            35222.433708                 730142.661383   \n",
      "\n",
      "   population_piped_with_cycling_access  population_piped_with_walking_access  \\\n",
      "0                          14086.551062                          51089.861389   \n",
      "1                          34315.109685                         112443.207476   \n",
      "2                          41891.676792                         161341.625079   \n",
      "3                           9758.515372                          34427.758294   \n",
      "4                         158170.883464                         727699.463002   \n",
      "\n",
      "   ...        subregion mean_max_distance_cycling max_max_distance_cycling  \\\n",
      "0  ...  Southern Europe                 10.895166                18.435945   \n",
      "1  ...  Southern Europe                 11.320130                20.627295   \n",
      "2  ...  Southern Europe                 15.538332                19.987446   \n",
      "3  ...  Southern Europe                 10.674605                14.850727   \n",
      "4  ...  Southern Europe                 12.542211                19.987446   \n",
      "\n",
      "   min_max_distance_cycling  median_max_distance_cycling  \\\n",
      "0                  9.670156                    10.676260   \n",
      "1                  9.724304                    10.759064   \n",
      "2                 10.817807                    16.887657   \n",
      "3                  9.825476                    10.599609   \n",
      "4                 10.018050                    11.161749   \n",
      "\n",
      "   mean_max_distance_walking  max_max_distance_walking  \\\n",
      "0                   4.585739                  4.682941   \n",
      "1                   4.606909                  4.685451   \n",
      "2                   4.659144                  4.685451   \n",
      "3                   4.568475                  4.675076   \n",
      "4                   4.624877                  4.685451   \n",
      "\n",
      "   min_max_distance_walking  median_max_distance_walking  weighted_med  \n",
      "0                  4.530985                     4.582779      2.236068  \n",
      "1                  4.539918                     4.600573      2.828427  \n",
      "2                  4.599681                     4.680127      2.000000  \n",
      "3                  4.461352                     4.567845      2.236068  \n",
      "4                  4.561251                     4.628206      2.236068  \n",
      "\n",
      "[5 rows x 22 columns]\n"
     ]
    }
   ],
   "source": [
    "# Group into subnational\n",
    "# use groupby to create dataframe of country level data from df_zones\n",
    "df_zones = df_zones_copy.copy()\n",
    "df_districts = df_zones.groupby(\"shapeID\").agg({\n",
    "    \"Entity\": \"first\",\n",
    "    \"ISOCODE\": \"first\",\n",
    "    \"shapeName\": \"first\",\n",
    "    \"district_pop_raw\": \"first\",\n",
    "    \"zone_pop_with_water\": \"sum\",\n",
    "    \"zone_pop_without_water\": \"sum\",\n",
    "    \"population_piped_with_access\": \"sum\",\n",
    "    \"population_piped_with_cycling_access\": \"sum\",\n",
    "    \"population_piped_with_walking_access\": \"sum\",\n",
    "    \"Nat Piped\": \"first\",\n",
    "    \"region\": \"first\",\n",
    "    \"subregion\": \"first\",\n",
    "    \"max distance cycling\": [\"mean\", \"max\", \"min\", \"median\"],\n",
    "    \"max distance walking\": [\"mean\", \"max\", \"min\", \"median\"],\n",
    "}).reset_index()\n",
    "\n",
    "# Rename the columns\n",
    "df_districts.columns = [\n",
    "    \"shapeID\",\n",
    "    \"Entity\", \n",
    "    \"ISOCODE\",\n",
    "    \"shapeName\",\n",
    "    \"district_pop_raw\", \n",
    "    \"zone_pop_with_water\", \n",
    "    \"zone_pop_without_water\",\n",
    "    \"population_piped_with_access\", \n",
    "    \"population_piped_with_cycling_access\",\n",
    "    \"population_piped_with_walking_access\", \n",
    "    \"Nat Piped\", \n",
    "    \"region\", \n",
    "    \"subregion\",\n",
    "    \"mean_max_distance_cycling\", \n",
    "    \"max_max_distance_cycling\", \n",
    "    \"min_max_distance_cycling\",\n",
    "    \"median_max_distance_cycling\", \n",
    "    \"mean_max_distance_walking\", \n",
    "    \"max_max_distance_walking\",\n",
    "    \"min_max_distance_walking\", \n",
    "    \"median_max_distance_walking\",\n",
    "    ]\n",
    "# df_districts = df_districts.rename(\n",
    "#     columns={\n",
    "#         \"shapeID\": \"shapeID\",\n",
    "#         \"(shapeID, )\": \"shapeID_2\",\n",
    "#         \"(Entity, first)\": \"Entity\",\n",
    "#         \"('shapeName', 'first')\": \"shapeName\",\n",
    "#         \"('district_pop_raw', 'first')\": \"district_pop_raw\",\n",
    "#         \"('zone_pop_with_water', 'sum')\": \"zone_pop_with_water\",\n",
    "#         \"('zone_pop_without_water', 'sum')\": \"zone_pop_without_water\",\n",
    "#         \"('population_piped_with_access', 'sum')\": \"population_piped_with_access\",\n",
    "#         \"('population_piped_with_cycling_access', 'sum')\": \"population_piped_with_cycling_access\",\n",
    "#         \"('population_piped_with_walking_access', 'sum')\": \"population_piped_with_walking_access\",\n",
    "#         \"('Nat Piped', 'first')\": \"Nat Piped\",\n",
    "#         \"('region', 'first')\": \"region\",\n",
    "#         \"('subregion', 'first')\": \"subregion\",\n",
    "#         \"('max distance cycling', 'mean')\": \"mean_max_distance_cycling\",\n",
    "#         \"('max distance cycling', 'max')\": \"max_max_distance_cycling\",\n",
    "#         \"('max distance cycling', 'min')\": \"min_max_distance_cycling\",\n",
    "#         \"('max distance cycling', 'median')\": \"median_max_distance_cycling\",\n",
    "#         \"('max distance walking', 'mean')\": \"mean_max_distance_walking\",\n",
    "#         \"('max distance walking', 'max')\": \"max_max_distance_walking\",\n",
    "#         \"('max distance walking', 'min')\": \"min_max_distance_walking\",\n",
    "#         \"('max distance walking', 'median')\": \"median_max_distance_walking\",\n",
    "#         }\n",
    "#     )\n",
    "\n",
    "\n",
    "\n",
    "# use groupby to create weighted median, needs to be speerate from the above groupby as it uses apply, which can't be used in the same groupby\n",
    "# needs to use apply because the function required two columns as input\n",
    "df_median_group = df_zones.groupby(['shapeID']).apply(lambda x : pd.Series({'weighted_med':weighted_median(x,\"dtw_1\",\"pop_zone\")}))\n",
    "\n",
    "# merge the weighted median back into the df_districts dataframe\n",
    "df_districts = df_districts.merge(df_median_group, on=\"shapeID\")\n",
    "\n",
    "# drop rows from the dataframe that have Nan in pop_zone and dtw_1\n",
    "df_zones = df_zones.dropna(subset=[\"pop_zone\", \"dtw_1\"])\n",
    "\n",
    "# create summary columns\n",
    "#rename zone columns to country\n",
    "print(df_districts.head())\n",
    "df_districts = df_districts.rename(columns={\"zone_pop_with_water\":\"district_pop_with_water\", \"zone_pop_without_water\":\"district_pop_without_water\"})\n",
    "\n",
    "# create percent\n",
    "df_districts[\"percent_with_water\"] = df_districts[\"district_pop_with_water\"] / df_districts[\"district_pop_raw\"] * 100\n",
    "df_districts[\"percent_without_water\"] = df_districts[\"district_pop_without_water\"] / df_districts[\"district_pop_raw\"] * 100"
   ]
  },
  {
   "cell_type": "code",
   "execution_count": 7,
   "metadata": {},
   "outputs": [
    {
     "name": "stdout",
     "output_type": "stream",
     "text": [
      "Countries removed manually\n",
      "                        Entity  weighted_med\n",
      "133                      Tonga      1.000000\n",
      "134                      Tonga      1.000000\n",
      "135                      Tonga    119.100797\n",
      "136                      Tonga    149.883297\n",
      "429                   Barbados    154.350297\n",
      "430                   Barbados    136.341500\n",
      "431                   Barbados    140.911297\n",
      "432                   Barbados    147.566906\n",
      "433                   Barbados    144.138797\n",
      "434                   Barbados    133.270406\n",
      "2213  Northern Mariana Islands    193.752406\n",
      "2233                      Guam     14.212670\n",
      "2240            American Samoa    109.110000\n",
      "2525       Antigua and Barbuda     50.209559\n",
      "2526       Antigua and Barbuda     63.245551\n",
      "2528       Antigua and Barbuda    105.948102\n",
      "2529       Antigua and Barbuda     64.350602\n",
      "2530       Antigua and Barbuda     56.080301\n",
      "2911                  Dominica     52.000000\n",
      "2912                  Dominica     69.260383\n",
      "2913                  Dominica     63.976559\n",
      "2914                  Dominica     58.000000\n",
      "2915                  Dominica     69.028977\n",
      "2916                  Dominica     72.449977\n",
      "2917                  Dominica     58.549129\n"
     ]
    }
   ],
   "source": [
    "# Clean up data from spurious country values\n",
    "# uses libya as the max possible diatnce to water (from Kummu paper results)\n",
    "\n",
    "# remove any nan rows\n",
    "df_districts = df_districts.dropna()\n",
    "\n",
    "\n",
    "# first pass clean up\n",
    "\n",
    "# remove any rows where the median is more than 1km more than \"LBY\" (Libya)'s median these are clerly errors as no-country can be further than Libya (based on inspection of Kummu Results)\n",
    "# max_distance = df_districts.loc[df_districts[\"ISOCODE\"] == \"LBY\", \"weighted_med\"].values[0] + 1\n",
    "# countries_further_than_libya = df_countries[df_countries[\"weighted_med\"] > max_distance]\n",
    "# df_countries = df_countries[df_countries[\"weighted_med\"] < max_distance]\n",
    "\n",
    "####### Manual remove countries ###############\n",
    "# inspecting the results, there are a few countries that are clearly wrong, remove them manually\n",
    "list_of_countries_to_remove = [\"GUM\", \"ASM\", \"TON\", \"MNP\", \"ATG\", \"DMA\", \"ABW\", \"BRB\"]\n",
    "df_of_countries_to_remove = df_districts[df_districts[\"ISOCODE\"].isin(list_of_countries_to_remove)]\n",
    "df_districts = df_districts[~df_districts[\"ISOCODE\"].isin(list_of_countries_to_remove)]\n",
    "##############################\n",
    "\n",
    "\n",
    "# summary of removed countries\n",
    "# print(\"Countries removed from analysis\")\n",
    "# print(countries_further_than_libya[[\"Entity\", \"weighted_med\"]])\n",
    "print(\"Countries removed manually\")\n",
    "print(df_of_countries_to_remove[[\"Entity\", \"weighted_med\"]])\n",
    "\n",
    "\n",
    "\n",
    "\n"
   ]
  },
  {
   "cell_type": "code",
   "execution_count": 8,
   "metadata": {},
   "outputs": [],
   "source": [
    "GEOJSON_PATH = \"../data/GIS/geoBoundariesCGAZ_ADM1.geojson\"\n",
    "import geojson as gj\n",
    "with open(GEOJSON_PATH) as f:\n",
    "    geojson = gj.load(f)"
   ]
  },
  {
   "cell_type": "code",
   "execution_count": 10,
   "metadata": {},
   "outputs": [
    {
     "ename": "",
     "evalue": "",
     "output_type": "error",
     "traceback": [
      "\u001b[1;31mThe Kernel crashed while executing code in the current cell or a previous cell. \n",
      "\u001b[1;31mPlease review the code in the cell(s) to identify a possible cause of the failure. \n",
      "\u001b[1;31mClick <a href='https://aka.ms/vscodeJupyterKernelCrash'>here</a> for more info. \n",
      "\u001b[1;31mView Jupyter <a href='command:jupyter.viewOutput'>log</a> for further details."
     ]
    }
   ],
   "source": [
    "# create choropleth map of population with water from df_country\n",
    "\n",
    "hover_data_list =[\n",
    "    \"Entity\",\n",
    "    \"shapeName\",\n",
    "    \"district_pop_raw\",\n",
    "    \"district_pop_with_water\",\n",
    "    \"district_pop_without_water\",\n",
    "    \"population_piped_with_access\",\n",
    "    \"population_piped_with_cycling_access\",\n",
    "    \"population_piped_with_walking_access\",\n",
    "    \"percent_without_water\",\n",
    "    \"percent_with_water\",\n",
    "    \"Nat Piped\",\n",
    "    \"region\",\n",
    "    \"subregion\",\n",
    "    \"weighted_med\",\n",
    "    \"mean_max_distance_cycling\", \n",
    "    \"max_max_distance_cycling\", \n",
    "    \"min_max_distance_cycling\",\n",
    "    \"median_max_distance_cycling\", \n",
    "    \"mean_max_distance_walking\", \n",
    "    \"max_max_distance_walking\",\n",
    "    \"min_max_distance_walking\", \n",
    "    \"median_max_distance_walking\",\n",
    "    ]\n",
    "\n",
    "\n",
    "# fig = px.choropleth(df, geojson=counties, locations='fips', color='unemp',\n",
    "#                            color_continuous_scale=\"Viridis\",\n",
    "#                            range_color=(0, 12),\n",
    "#                            scope=\"usa\",\n",
    "#                            labels={'unemp':'unemployment rate'}\n",
    "#                           )\n",
    "\n",
    "# fig = px.choropleth(df, geojson=geojson, color=\"Bergeron\",\n",
    "#                     locations=\"district\", featureidkey=\"properties.district\",\n",
    "#                     projection=\"mercator\"\n",
    "#                    )\n",
    "\n",
    "choro = px.choropleth(\n",
    "    data_frame=df_districts[df_districts[\"ISOCODE\"] == \"VEN\"],\n",
    "    geojson=geojson,\n",
    "    locations=\"shapeID\",\n",
    "    featureidkey=\"shapeID\",\n",
    "    title=\"Percent of Population Has to Relocate\",\n",
    "    height=600,\n",
    "    color=\"percent_without_water\",\n",
    "    # use constant colorbar grading (not relative)\n",
    "    color_continuous_scale=\"ylorbr\",\n",
    "    range_color=(0, 100),\n",
    "    scope=\"world\",\n",
    "    hover_name=\"shapeName\",\n",
    "    hover_data=hover_data_list\n",
    ")\n",
    "choro.layout.coloraxis.colorbar.title = ''\n",
    "choro.update_geos(fitbounds=\"locations\")\n",
    "choro.show()\n",
    "\n"
   ]
  },
  {
   "attachments": {},
   "cell_type": "markdown",
   "metadata": {},
   "source": [
    "## Group the zones in to country groups\n",
    "Use groupby agg and then apply to summarise the zone data in to country level, then create some summary columns"
   ]
  },
  {
   "cell_type": "code",
   "execution_count": 19,
   "metadata": {},
   "outputs": [],
   "source": [
    "# use groupby to create dataframe of country level data from df_zones\n",
    "df_countries = df_zones.groupby(\"ISOCODE\").agg({\n",
    "    \"Entity\": \"first\",\n",
    "    \"country_pop_raw\": \"first\",\n",
    "    \"zone_pop_with_water\": \"sum\",\n",
    "    \"zone_pop_without_water\": \"sum\",\n",
    "    \"population_piped_with_access\": \"sum\",\n",
    "    \"population_piped_with_cycling_access\": \"sum\",\n",
    "    \"population_piped_with_walking_access\": \"sum\",\n",
    "    \"Nat Piped\": \"first\",\n",
    "    \"region\": \"first\",\n",
    "    \"subregion\": \"first\",\n",
    "    \"max distance cycling\": [\"mean\", \"max\", \"min\", \"median\"],\n",
    "    \"max distance walking\": [\"mean\", \"max\", \"min\", \"median\"],\n",
    "}).reset_index()\n",
    "\n",
    "# Rename the columns\n",
    "df_countries.columns = [\"ISOCODE\", \"Entity\", \"country_pop_raw\", \"zone_pop_with_water\", \"zone_pop_without_water\",\n",
    "                        \"population_piped_with_access\", \"population_piped_with_cycling_access\",\n",
    "                        \"population_piped_with_walking_access\", \"Nat Piped\", \"region\", \"subregion\",\n",
    "                        \"mean_max_distance_cycling\", \"max_max_distance_cycling\", \"min_max_distance_cycling\",\n",
    "                        \"median_max_distance_cycling\", \"mean_max_distance_walking\", \"max_max_distance_walking\",\n",
    "                        \"min_max_distance_walking\", \"median_max_distance_walking\"]\n",
    "\n",
    "# use groupby to create weighted median, needs to be speerate from the above groupby as it uses apply, which can't be used in the same groupby\n",
    "# needs to use apply because the function required two columns as input\n",
    "df_median_group = df_zones.groupby(['ISOCODE']).apply(lambda x : pd.Series({'weighted_med':weighted_median(x,\"dtw_1\",\"pop_zone\")}))\n",
    "\n",
    "# merge the weighted median back into the df_countries dataframe\n",
    "df_countries = df_countries.merge(df_median_group, on=\"ISOCODE\")\n",
    "\n",
    "# drop rows from the dataframe that have Nan in pop_zone and dtw_1\n",
    "df_zones = df_zones.dropna(subset=[\"pop_zone\", \"dtw_1\"])\n",
    "\n",
    "# create summary columns\n",
    "#rename zone columns to country\n",
    "df_countries = df_countries.rename(columns={\"zone_pop_with_water\":\"country_pop_with_water\", \"zone_pop_without_water\":\"country_pop_without_water\"})\n",
    "# create percent\n",
    "df_countries[\"percent_with_water\"] = df_countries[\"country_pop_with_water\"] / df_countries[\"country_pop_raw\"] * 100\n",
    "df_countries[\"percent_without_water\"] = df_countries[\"country_pop_without_water\"] / df_countries[\"country_pop_raw\"] * 100"
   ]
  },
  {
   "attachments": {},
   "cell_type": "markdown",
   "metadata": {},
   "source": [
    "Clean Up Data"
   ]
  },
  {
   "cell_type": "code",
   "execution_count": 20,
   "metadata": {},
   "outputs": [
    {
     "name": "stdout",
     "output_type": "stream",
     "text": [
      "Countries removed from analysis\n",
      "               Entity  weighted_med\n",
      "42       Cook Islands   1421.425000\n",
      "44            Comoros    314.070094\n",
      "45         Cape Verde    622.286875\n",
      "49     Cayman Islands    287.167188\n",
      "146           Mayotte    283.397312\n",
      "152              Niue    426.276906\n",
      "171  French Polynesia   1932.213000\n",
      "181      Saint Helena   2403.565000\n",
      "Countries removed manually\n",
      "                       Entity  weighted_med\n",
      "0                       Aruba     87.800906\n",
      "10        Antigua and Barbuda     64.350602\n",
      "29                   Barbados    144.138797\n",
      "54                   Dominica     69.260383\n",
      "85                       Guam     20.615529\n",
      "138  Northern Mariana Islands    204.364906\n"
     ]
    }
   ],
   "source": [
    "# Clean up data from spurious country values\n",
    "# uses libya as the max possible diatnce to water (from Kummu paper results)\n",
    "\n",
    "# remove any nan rows\n",
    "df_countries = df_countries.dropna()\n",
    "\n",
    "\n",
    "# first pass clean up\n",
    "\n",
    "# remove any rows where the median is more than 1km more than \"LBY\" (Libya)'s median these are clerly errors as no-country can be further than Libya (based on inspection of Kummu Results)\n",
    "max_distance = df_countries.loc[df_countries[\"ISOCODE\"] == \"LBY\", \"weighted_med\"].values[0] + 1\n",
    "countries_further_than_libya = df_countries[df_countries[\"weighted_med\"] > max_distance]\n",
    "df_countries = df_countries[df_countries[\"weighted_med\"] < max_distance]\n",
    "\n",
    "####### Manual remove countries ###############\n",
    "# inspecting the results, there are a few countries that are clearly wrong, remove them manually\n",
    "list_of_countries_to_remove = [\"GUM\", \"ASM\", \"TON\", \"MNP\", \"ATG\", \"DMA\", \"ABW\", \"BRB\"]\n",
    "df_of_countries_to_remove = df_countries[df_countries[\"ISOCODE\"].isin(list_of_countries_to_remove)]\n",
    "df_countries = df_countries[~df_countries[\"ISOCODE\"].isin(list_of_countries_to_remove)]\n",
    "##############################\n",
    "\n",
    "\n",
    "# summary of removed countries\n",
    "print(\"Countries removed from analysis\")\n",
    "print(countries_further_than_libya[[\"Entity\", \"weighted_med\"]])\n",
    "print(\"Countries removed manually\")\n",
    "print(df_of_countries_to_remove[[\"Entity\", \"weighted_med\"]])\n",
    "\n",
    "\n",
    "\n",
    "\n"
   ]
  },
  {
   "attachments": {},
   "cell_type": "markdown",
   "metadata": {},
   "source": [
    "# Plotting and Visualising"
   ]
  },
  {
   "cell_type": "code",
   "execution_count": 21,
   "metadata": {},
   "outputs": [
    {
     "data": {
      "application/vnd.plotly.v1+json": {
       "config": {
        "plotlyServerURL": "https://plot.ly"
       },
       "data": [
        {
         "coloraxis": "coloraxis",
         "customdata": [
          [
           "Afghanistan",
           39835428,
           28153874.275958814,
           11681553.724041186,
           3975070.8932232475,
           1788575.2478735556,
           3206945.7984008384,
           29.324534241332078,
           70.67546575866793,
           22,
           "Asia",
           "Southern Asia",
           5.8309521484375,
           10.522610251908887,
           20.82718325059715,
           5.38584415418463,
           10.200991073773263,
           4.44688536398914,
           4.513880214632123,
           4.220061842426229,
           4.471478087092091
          ],
          [
           "Angola",
           33933611,
           12992292.571299458,
           20941318.42870054,
           3986256.2729883743,
           583973.7362356192,
           3726486.896771911,
           61.712614165054646,
           38.287385834945354,
           42,
           "Africa",
           "Middle Africa",
           4.12310498046875,
           10.577187743769768,
           19.91945555842842,
           5.499177080768062,
           8.83850380092421,
           4.517450744324061,
           4.532789386890271,
           4.385242946826475,
           4.520093570758067
          ],
          [
           "Albania",
           2872934,
           2488191.786054408,
           384742.21394559194,
           1908817.994913849,
           461037.8570418329,
           1841959.4629414964,
           13.391961456322768,
           86.60803854367724,
           81,
           "Europe",
           "Southern Europe",
           2.23606811523438,
           11.80060521765678,
           20.627294838904024,
           7.981690630369749,
           10.691393998948811,
           4.595430376327726,
           4.685451491647053,
           4.461351890147306,
           4.588008413537405
          ],
          [
           "Andorra",
           77354,
           61143.89668157891,
           16210.1033184211,
           61143.89668157891,
           42631.27605278427,
           48749.494743369694,
           20.95574025702756,
           79.04425974297246,
           100,
           "Europe",
           "Southern Europe",
           4.12310498046875,
           7.201501368187158,
           10.70188662780542,
           4.634031808340352,
           4.761694349161444,
           4.537207037611781,
           4.573520378845325,
           4.509881975004106,
           4.535230652578215
          ],
          [
           "United Arab Emirates",
           9991083,
           4508.728826945104,
           9986561.837657709,
           4508.728826945104,
           4508.728826945104,
           0,
           99.95474802539132,
           0.04512752848660254,
           100,
           "Asia",
           "Western Asia",
           171.819703125,
           11.30987248721092,
           20.591914943474393,
           4.612638202519302,
           7.752255230406705,
           4.69980627844561,
           4.710226298259362,
           4.507877910366739,
           4.705290600848633
          ],
          [
           "Argentina",
           45605823,
           32378237.70209245,
           13214648.828395542,
           28612195.438586015,
           24025635.882721387,
           16672335.717428673,
           28.975792912224264,
           70.99584125933316,
           96,
           "Americas",
           "South America",
           6,
           14.317357018463182,
           20.59621533704778,
           4.527414051547589,
           16.118650894462643,
           4.687167193083938,
           4.707288438878163,
           4.427017802281079,
           4.703799947029642
          ],
          [
           "Armenia",
           2968128,
           2274234.7340726196,
           693893.2659273808,
           2274234.7340726196,
           114167.79424787148,
           2250069.7289841124,
           23.378144942784836,
           76.62185505721517,
           100,
           "Asia",
           "Western Asia",
           2.82842700195312,
           10.629261848959425,
           20.672270476806567,
           4.855378289545934,
           10.667537479437929,
           4.578783953785436,
           4.65184350283594,
           4.431226540640336,
           4.580723423001279
          ],
          [
           "Australia",
           25788216.999999996,
           20982663.776014436,
           4704368.395902993,
           18962122.350875165,
           11855219.272474933,
           16917169.908117663,
           18.24231739597582,
           81.36531415108861,
           91,
           "Oceania",
           "Australia and New Zealand",
           2.82842700195312,
           13.040899043416738,
           20.55038881029045,
           4.489569738151754,
           13.430732025481591,
           4.718582434776702,
           4.737609954477104,
           4.560181642494141,
           4.728442999030363
          ],
          [
           "Austria",
           9043071.999999998,
           8692270.66504399,
           350801.33495600894,
           8684198.760284659,
           7602544.610382844,
           7139631.352487223,
           3.8792274899061847,
           96.12077251009381,
           99.4285714285714,
           "Europe",
           "Western Europe",
           2.82842700195312,
           11.415490918373962,
           19.854271004117788,
           4.66020712388683,
           10.816306419020687,
           4.586379012329206,
           4.685237653794234,
           4.430829564680475,
           4.586378218336294
          ],
          [
           "Azerbaijan",
           10223343.999999998,
           8236047.213619915,
           1987286.119127201,
           7310190.211944116,
           601460.8572167137,
           7205939.156527822,
           19.438709282669166,
           80.56118637522044,
           91,
           "Asia",
           "Western Asia",
           2.23606811523438,
           12.206907190290476,
           20.659215368937414,
           4.773307695967654,
           11.37436022047894,
           4.617095024036758,
           4.661856218656758,
           4.4219417390707125,
           4.64462690067864
          ],
          [
           "Burundi",
           12255429.000000002,
           8673269.716941016,
           3582159.283058986,
           5180769.536380703,
           1493680.7232325657,
           4637847.563708348,
           29.229162708698208,
           70.77083729130179,
           38,
           "Africa",
           "Eastern Africa",
           3.16227807617188,
           12.317041224871208,
           20.880859254146888,
           10.323103834554548,
           11.569867709160086,
           4.404784733911287,
           4.455985884224627,
           4.329873217777868,
           4.405019914362692
          ],
          [
           "Belgium",
           11632334,
           10618106.314549256,
           1014227.6854507427,
           10618106.314549256,
           8457540.915594012,
           7934503.8522043545,
           8.719038547644374,
           91.28096145235561,
           100,
           "Europe",
           "Western Europe",
           3.16227807617188,
           15.41165854492973,
           20.575875703815495,
           11.0419857224792,
           15.144507996665546,
           4.7081594314953,
           4.721011421215434,
           4.667478393392948,
           4.711500942502113
          ],
          [
           "Benin",
           12451031,
           7703390.908926987,
           4747640.091073012,
           2691429.5127804596,
           1491246.8521412513,
           1983772.9927920804,
           38.13049771599646,
           61.86950228400353,
           37,
           "Africa",
           "Western Africa",
           5,
           13.90919426344871,
           20.807916072800566,
           6.681054896057858,
           14.978075414408607,
           4.524331403185945,
           4.53323277971995,
           4.493198262142284,
           4.524163050225369
          ],
          [
           "Burkina Faso",
           21497097,
           14743863.620119482,
           6753233.379880519,
           2687552.0796199585,
           2573005.5600460055,
           724977.9719870455,
           31.4146295189556,
           68.58537048104441,
           28,
           "Africa",
           "Western Africa",
           10.2956298828125,
           14.611743494067063,
           19.082905629337297,
           6.694667254178457,
           16.316442660219888,
           4.51118446232744,
           4.515662415803169,
           4.488090397844447,
           4.511960547279727
          ],
          [
           "Bangladesh",
           166303494,
           157066274.31578204,
           9237219.684217937,
           35034725.23542162,
           10799925.588292545,
           32486326.604730662,
           5.554435124626989,
           94.445564875373,
           15,
           "Asia",
           "Southern Asia",
           2.82842700195312,
           18.197762011516353,
           20.909271035979273,
           6.161870700632435,
           19.293488233110782,
           4.417290224688039,
           4.422719507753268,
           4.312195745573579,
           4.4206949651672645
          ],
          [
           "Bulgaria",
           6896655,
           5105043.140107507,
           1791603.5095377485,
           5105043.140107507,
           1463665.5098614756,
           4705838.240173212,
           25.977861869815854,
           74.0220170518535,
           100,
           "Europe",
           "Eastern Europe",
           3.16227807617188,
           11.620169877439315,
           20.587422750855776,
           4.602401919262528,
           11.377047417157982,
           4.668865973573154,
           4.713274143846404,
           4.495016108809675,
           4.683132417949896
          ],
          [
           "Bahamas",
           396913.9999999999,
           242362.56512494554,
           153881.37732735169,
           157937.75445514804,
           48729.495343693256,
           141871.8994216274,
           38.76945064355294,
           61.06173254784301,
           97,
           "Americas",
           "Caribbean",
           5.09902001953125,
           15.360146121806551,
           20.59239959163725,
           7.376710115582306,
           18.46419621301017,
           4.709203236663389,
           4.70989619483044,
           4.705632621895879,
           4.70989619483044
          ],
          [
           "Bosnia and Herzegovina",
           3263459,
           2498967.153906959,
           764491.8460930409,
           2281577.109228514,
           1194214.65689506,
           1998093.444199658,
           23.42581433053214,
           76.57418566946787,
           95,
           "Europe",
           "Southern Europe",
           3.16227807617188,
           9.350417983695532,
           19.104574064835944,
           4.592188932710219,
           10.594919577983472,
           4.643481315375619,
           4.708766047122676,
           4.496808236920254,
           4.646985710994365
          ],
          [
           "Belarus",
           9442867,
           7884301.088842097,
           1558565.9111579028,
           7196008.777849595,
           3301069.470587243,
           6332205.019122666,
           16.505219348720075,
           83.49478065127992,
           96,
           "Europe",
           "Eastern Europe",
           3,
           15.985292072559501,
           19.908257302931908,
           6.443436479528673,
           16.48706197081252,
           4.716871171438778,
           4.722108510429361,
           4.707034364836423,
           4.717046717391016
          ],
          [
           "Belize",
           404915,
           361234.88614106853,
           43622.703575592284,
           280263.36819773633,
           211944.48826888495,
           234934.25009921394,
           10.773298982648774,
           89.21252266304496,
           87,
           "Americas",
           "Central America",
           2.82842700195312,
           14.72326511983778,
           20.60599634822539,
           4.834748773797828,
           15.86609299413435,
           4.682293990375046,
           4.7005319789171605,
           4.5733146105957765,
           4.695259750572697
          ],
          [
           "Bolivia",
           11832936,
           8570152.97290753,
           3262583.8944979953,
           1939623.1019200904,
           998393.2395872369,
           1484589.6882221664,
           27.572057302583193,
           72.42625983025287,
           69,
           "Americas",
           "South America",
           5.3851650390625,
           11.201328205329869,
           20.719050884152225,
           4.959956084126542,
           10.33479797087883,
           4.577497087922589,
           4.614098580898572,
           4.338237167726478,
           4.606328101660385
          ],
          [
           "Brazil",
           213993441,
           145032547.6856429,
           68896640.18029076,
           131738744.48640943,
           90519888.49188218,
           97260160.44013035,
           32.19567845553301,
           67.77429579518883,
           98,
           "Americas",
           "South America",
           5,
           10.63544056182809,
           20.636136430832334,
           4.759946163605459,
           11.397150024586,
           4.65911882963544,
           4.679038188182883,
           4.494124650167315,
           4.664490676657431
          ],
          [
           "Brunei",
           441532.0000000001,
           379637.18568855885,
           61894.81431144125,
           355166.26499832276,
           168873.96438846472,
           335601.3341917817,
           14.018194448293949,
           85.98180555170605,
           100,
           "Asia",
           "South-Eastern Asia",
           2.23606811523438,
           10.130018189623543,
           18.32253277280112,
           5.098243334043167,
           7.6364898363590346,
           4.602267856160101,
           4.626361138965261,
           4.486469533850566,
           4.615858697840978
          ],
          [
           "Bhutan",
           779900.0000000001,
           450877.0971460431,
           329022.902853957,
           450877.0971460431,
           39507.84694233561,
           438466.47857994825,
           42.187832139243106,
           57.812167860756894,
           100,
           "Asia",
           "Southern Asia",
           4,
           7.212153349118637,
           16.024244026113266,
           5.337978652191205,
           5.4421027076623725,
           4.339780748055042,
           4.5211527521688675,
           4.259316643015596,
           4.331639158936569
          ],
          [
           "Botswana",
           2397240,
           612641.474884612,
           1784059.9714580574,
           192716.65778653,
           90655.26376284123,
           128250.0553200412,
           74.4214167733751,
           25.556117655495985,
           91,
           "Africa",
           "Southern Africa",
           33.94112890625,
           13.566972396962147,
           19.635104855538955,
           6.420656059797678,
           16.32957324298537,
           4.602282831032825,
           4.604499899170512,
           4.573515921157482,
           4.603163018232629
          ],
          [
           "Central African Republic",
           4919987,
           2425188.7565783598,
           2493002.54439313,
           97850.55047264598,
           18490.934927148777,
           97841.96220625965,
           50.67091730919472,
           49.29258464663341,
           14,
           "Africa",
           "Middle Africa",
           3,
           10.093995999032296,
           18.16208730182488,
           5.8313358420216,
           8.033103826352788,
           4.5041698977674205,
           4.5163331570071295,
           4.432675570666387,
           4.504462615949733
          ],
          [
           "Canada",
           38067913.00000001,
           32942715.093336657,
           5076076.023062346,
           32942715.093336657,
           24381696.59216446,
           26164481.97179767,
           13.334264011432264,
           86.53669848761251,
           100,
           "Americas",
           "Northern America",
           3,
           11.649740884438675,
           20.576029093237917,
           4.483575170813517,
           12.106566376864134,
           4.702960942242743,
           4.720909545438241,
           4.455999022536431,
           4.7139080058417155
          ],
          [
           "Switzerland",
           8715494,
           8184314.800090964,
           531179.1999090366,
           8184314.800090964,
           6344855.189479243,
           6923069.667338053,
           6.094653956609191,
           93.90534604339081,
           100,
           "Europe",
           "Western Europe",
           2.82842700195312,
           10.846500412089854,
           20.640274881603325,
           4.686415662855339,
           10.69903379733939,
           4.552084389764494,
           4.676004639828682,
           4.399259311405099,
           4.526558677229334
          ],
          [
           "Chile",
           19212362,
           14201529.345537279,
           5000463.569663746,
           14201529.345537279,
           8688901.05143975,
           11754004.891465947,
           26.0273232914503,
           73.91870580794428,
           100,
           "Americas",
           "South America",
           4,
           8.71561557389977,
           20.604316697784807,
           4.551394633238713,
           7.857389538393205,
           4.625191083421117,
           4.701699664904829,
           4.417812713735845,
           4.64278634796295
          ],
          [
           "China",
           1444216102,
           1230459854.0724943,
           213731398.4689628,
           978137856.3767036,
           680440489.4045501,
           803935638.596148,
           14.799128618838983,
           85.1991507620301,
           80,
           "Asia",
           "Eastern Asia",
           3.16227807617188,
           10.595500711846976,
           20.751796278098386,
           5.032653098507873,
           10.494900227733726,
           4.526711629448933,
           4.585797536749101,
           4.222117580876175,
           4.54897330622499
          ],
          [
           "Cote d'Ivoire",
           27053628.999999996,
           16884168.826815158,
           10169460.173184838,
           5883300.411843164,
           3231612.2519564554,
           4663538.796846129,
           37.59000381495895,
           62.40999618504105,
           42,
           "Africa",
           "Western Africa",
           4.12310498046875,
           12.449572068526148,
           20.79170574827533,
           5.5554497098617475,
           13.632774048053417,
           4.5349681558668635,
           4.54897870650717,
           4.438761469591888,
           4.5359489989640185
          ],
          [
           "Cameroon",
           27224262,
           17164695.006993078,
           10059566.993006922,
           3669289.141101607,
           767310.7289532447,
           3402084.8911469667,
           36.950742661112066,
           63.049257338887934,
           36,
           "Africa",
           "Middle Africa",
           3.60555102539062,
           11.28104280158262,
           20.51250504999728,
           5.258464149858683,
           12.043728866056385,
           4.552345529548053,
           4.576507664122532,
           4.407366102818626,
           4.558041205493566
          ],
          [
           "Democratic Republic of Congo",
           92377986,
           31669395.463667966,
           60708259.779575095,
           9655288.698710788,
           2496755.4739501253,
           9091355.378156798,
           65.71723676631692,
           34.282405186521345,
           35,
           "Africa",
           "Middle Africa",
           3,
           10.804998500342597,
           20.86501137487054,
           5.59352396600671,
           9.074624895369404,
           4.456267547379283,
           4.473723395119463,
           4.233942507731271,
           4.460219005131334
          ],
          [
           "Congo",
           5657017,
           2943184.713024472,
           2713832.2869755286,
           897883.3862713313,
           59632.60168324403,
           890808.4852158207,
           47.972850125349254,
           52.02714987465076,
           53,
           "Africa",
           "Middle Africa",
           2,
           10.128676853190616,
           20.259793166277678,
           5.708105392583613,
           8.635172942252094,
           4.514918496257963,
           4.53151724839894,
           4.437344940654853,
           4.517718711424218
          ],
          [
           "Colombia",
           51265841,
           35997413.65124843,
           15268406.588346753,
           23471672.993743245,
           10259235.675554875,
           19808751.601481814,
           29.78280720752587,
           70.21715229688407,
           89,
           "Americas",
           "South America",
           3.60555102539062,
           10.797283016366844,
           20.695804361450758,
           4.863291966123743,
           10.217511077288025,
           4.592782110811578,
           4.633231266932454,
           4.342869650709688,
           4.624623594395222
          ],
          [
           "Costa Rica",
           5139053,
           4488705.164619069,
           650346.0291884994,
           4488705.164619069,
           3244630.683435659,
           3560602.407508328,
           12.654978051179846,
           87.34498680241416,
           100,
           "Americas",
           "Central America",
           3.16227807617188,
           11.49082066988885,
           20.663268947507103,
           4.825498141886081,
           11.11119708904733,
           4.601721810968665,
           4.658770497431636,
           4.4528547076251765,
           4.616821032803873
          ],
          [
           "Cuba",
           11317498,
           8348218.738275523,
           2969234.27555312,
           4150352.6917846245,
           1439550.0862423945,
           3521590.012829293,
           26.235783523470644,
           73.76381898433314,
           80,
           "Americas",
           "Caribbean",
           4.47213623046875,
           15.55872291158092,
           20.696033257512422,
           4.988676695950654,
           16.89728707607091,
           4.620666099585609,
           4.633046573617068,
           4.451397414017154,
           4.629949281027768
          ],
          [
           "Cyprus",
           1215588,
           775232.0394747038,
           440355.9605252961,
           775232.0394747038,
           506321.53178792476,
           578924.6667099657,
           36.225757454441485,
           63.774242545558515,
           100,
           "Europe",
           "Southern Europe",
           5,
           13.718366530252418,
           20.60831047804841,
           5.859700638875685,
           12.595846765111286,
           4.664704379670713,
           4.698918111615879,
           4.5581764427440286,
           4.678955487160012
          ],
          [
           "Czechia",
           10724553,
           8839129.909161743,
           1885423.0908382572,
           8839129.909161743,
           4581003.688889553,
           7439074.458896209,
           17.58043520171197,
           82.41956479828802,
           100,
           "Europe",
           "Eastern Europe",
           3.16227807617188,
           12.724803741739288,
           19.056491455131138,
           4.898353656446819,
           12.365772297791672,
           4.725343195083388,
           4.750101557521963,
           4.627682886868778,
           4.729300630623818
          ],
          [
           "Germany",
           83900471.00000001,
           76812219.4382381,
           7088251.561761909,
           76812219.4382381,
           63724082.608575135,
           55932208.67377335,
           8.448404969933849,
           91.55159503006615,
           100,
           "Europe",
           "Western Europe",
           3.16227807617188,
           14.774056599101465,
           20.56627443341396,
           4.4778288402827355,
           14.588592410447303,
           4.708865979888085,
           4.72734052209928,
           4.501653216504526,
           4.716503732031446
          ],
          [
           "Djibouti",
           1002197,
           317392.3650735712,
           684804.6349264289,
           11631.04235593694,
           2842.482962006796,
           9655.63545806432,
           68.330341731858,
           31.669658268142015,
           83,
           "Africa",
           "Eastern Africa",
           38.83298046875,
           13.398397416963597,
           19.891854872299465,
           5.906043878713267,
           12.72264262625071,
           4.519463389632765,
           4.548086586499567,
           4.4167960304278875,
           4.527731139229717
          ],
          [
           "Denmark",
           5813302.000000001,
           4704242.893783305,
           1109059.1062166954,
           4704242.893783305,
           4282638.324000003,
           3695044.4328072094,
           19.07795442618834,
           80.92204557381166,
           100,
           "Europe",
           "Northern Europe",
           3.60555102539062,
           16.93330259031215,
           20.601016474593028,
           7.839810069727866,
           16.991117818035605,
           4.699723974975733,
           4.703984960322182,
           4.68712281571813,
           4.699906339137971
          ],
          [
           "Dominican Republic",
           10953714,
           7325048.0448533045,
           3628664.1703584194,
           4683005.799479395,
           99613.08407003833,
           4653190.574019652,
           33.127249537083216,
           66.872734169007,
           81,
           "Americas",
           "Caribbean",
           3.60555102539062,
           11.57052710463282,
           20.65771572312591,
           4.831246284935197,
           11.53064703053058,
           4.620371919619889,
           4.66299256799377,
           4.475300918928821,
           4.6393236639397655
          ],
          [
           "Algeria",
           44616625.99999999,
           28534996.70802565,
           16033765.086504243,
           11856091.4906564,
           3834180.4486192362,
           10469461.82824406,
           35.936749422747134,
           63.95597172234775,
           72,
           "Africa",
           "Northern Africa",
           7.28010986328125,
           8.960800414649539,
           20.704514760865795,
           5.0217102500766595,
           7.810795039730925,
           4.615097599343254,
           4.626151778626794,
           4.421225330882077,
           4.621020830291118
          ],
          [
           "Ecuador",
           17888473.999999996,
           12804456.518482117,
           5083824.646996185,
           10913647.817552548,
           7759731.030136576,
           8143343.112357273,
           28.419554664060144,
           71.57936735398513,
           91,
           "Americas",
           "South America",
           4.12310498046875,
           10.429581372226677,
           20.68934387504508,
           4.872916051133441,
           10.344646815725017,
           4.572357580554364,
           4.638414598396181,
           4.388765323530412,
           4.599260197999758
          ],
          [
           "Egypt",
           104258326.99999999,
           61833204.40609655,
           42424000.02365395,
           61833204.40609655,
           8488154.56629144,
           59140853.48093692,
           40.69123421062948,
           59.30768906937913,
           100,
           "Africa",
           "Northern Africa",
           3.60555102539062,
           11.755501481714496,
           20.594956695280523,
           4.603917060135437,
           12.275475088778034,
           4.693513076134015,
           4.708150345090846,
           4.51122418999577,
           4.701215963965411
          ],
          [
           "Eritrea",
           3601462,
           1595366.1419827426,
           2006062.2654635184,
           183360.38351656657,
           41741.30038320249,
           158233.61243951292,
           55.701330889053345,
           44.2977363632531,
           52,
           "Africa",
           "Eastern Africa",
           21.09501953125,
           10.81382339945496,
           20.89749605174996,
           5.791924035522302,
           10.004307562385174,
           4.398491116496352,
           4.436742600211014,
           4.222948826005217,
           4.419424442451266
          ],
          [
           "Western Sahara",
           611871.9999999999,
           175486.8432587813,
           430971.8585348218,
           4807.1171874740685,
           1837.120865634624,
           3617.505730979988,
           70.43496981963905,
           28.68031929207111,
           68.3333333333333,
           "Africa",
           "Northern Africa",
           137.295296875,
           11.351617884353102,
           20.723365105622243,
           6.784166762598537,
           8.125672794619593,
           4.6068305768949305,
           4.610462425087919,
           4.594943245234317,
           4.607381231848153
          ],
          [
           "Spain",
           46745211,
           36126178.663363114,
           10619022.523332203,
           36126178.663363114,
           26407977.897837885,
           27010007.686284672,
           22.716813757311314,
           77.28316524951211,
           100,
           "Europe",
           "Southern Europe",
           4,
           12.547745451553515,
           20.625981281858344,
           4.665643349263232,
           12.094213002638421,
           4.645904222963553,
           4.686396507692362,
           4.450405082580318,
           4.6593891120742645
          ],
          [
           "Estonia",
           1325188.0000000002,
           1042420.4195833671,
           282675.9253171465,
           1042420.4195833671,
           382002.82954201166,
           947650.4377118028,
           21.331005511455466,
           78.66207810388917,
           93,
           "Europe",
           "Northern Europe",
           2.82842700195312,
           15.769356751522013,
           20.54681513196131,
           6.381163943400008,
           16.213045758942947,
           4.735447991421606,
           4.739886218627581,
           4.727025948704999,
           4.735399137470382
          ],
          [
           "Ethiopia",
           117876225.99999999,
           60151310.51729295,
           57724915.482707046,
           16380001.756382888,
           689772.681449957,
           16059599.87198867,
           48.970786936041755,
           51.02921306395826,
           41,
           "Africa",
           "Eastern Africa",
           7.07106787109375,
           11.062134505106457,
           20.91439768924964,
           5.860251107421889,
           10.810000744300105,
           4.381259284485163,
           4.4165059260145165,
           4.197045712746574,
           4.395153074677232
          ],
          [
           "Finland",
           5548361,
           4892978.377915789,
           650919.4897796464,
           4892978.377915789,
           4301987.374995505,
           3939940.0194685557,
           11.731743658706534,
           88.18781578768558,
           100,
           "Europe",
           "Northern Europe",
           3.16227807617188,
           13.076837164810106,
           20.593404996468408,
           5.1962854373297,
           14.424360625720608,
           4.700567536939983,
           4.709210594263347,
           4.656834862956641,
           4.7016428980630485
          ],
          [
           "Fiji",
           902899.0000000001,
           568257.8143508071,
           334545.6512175078,
           441540.3255036144,
           54834.55949838795,
           437747.0749436568,
           37.05238916174542,
           62.937029983509454,
           83,
           "Oceania",
           "Melanesia",
           4,
           10.514181204915891,
           20.58955210662779,
           4.729552524404669,
           7.779266447549565,
           4.677510683178274,
           4.711832093287981,
           4.586246650470842,
           4.690708939096828
          ],
          [
           "Falkland Islands",
           3527.9999999999995,
           1122.1123851377881,
           1975.1489445910036,
           440.71489259745385,
           298.46513952830963,
           269.2806607924992,
           55.984947409042064,
           31.805906608213952,
           91,
           "Americas",
           "South America",
           14.3178203125,
           11.18209186038047,
           20.65826093874046,
           6.2835465552588605,
           8.15460227243989,
           4.655426078144349,
           4.662579759066221,
           4.639802390830959,
           4.65761721370851
          ],
          [
           "France",
           65426177,
           59087835.86282521,
           6338334.494985951,
           59087835.86282521,
           38435008.10444743,
           51670822.51282906,
           9.687765334333918,
           90.31222451347755,
           93,
           "Europe",
           "Western Europe",
           2.82842700195312,
           13.916409698902573,
           20.63209773565977,
           4.652757728455595,
           13.702049627302012,
           4.651408649626154,
           4.6819790510303445,
           4.399827046630738,
           4.667072141440167
          ],
          [
           "Faeroe Islands",
           49053.00000000001,
           28419.035504584324,
           20625.608672951737,
           26457.24973748288,
           17683.4291418839,
           21330.195937436773,
           42.047598868472335,
           57.93536685744872,
           100,
           "Europe",
           "Northern Europe",
           5.3851650390625,
           12.375488092773827,
           20.569039113781116,
           4.745175471068666,
           11.114388504571389,
           4.687731948550393,
           4.725527639670662,
           4.586791142472944,
           4.698553776819572
          ],
          [
           "Gabon",
           2278829,
           1226980.65603359,
           1051835.237363067,
           393077.6333036487,
           19027.938331812937,
           387215.0051468279,
           46.15683043190459,
           53.84259442167841,
           82,
           "Africa",
           "Middle Africa",
           4.47213623046875,
           9.06899588992224,
           20.728519544712526,
           5.379256272119471,
           7.1765126914744775,
           4.581052943739537,
           4.606082046851114,
           4.496267352650324,
           4.584308147865766
          ],
          [
           "United Kingdom",
           68207114,
           59181623.65902864,
           9025277.679515058,
           59181623.65902864,
           34855545.19564077,
           52370459.55519455,
           13.232164726270426,
           86.76752348593527,
           100,
           "Europe",
           "Northern Europe",
           3,
           13.666566170883506,
           20.569817567743886,
           4.545197389930808,
           13.458865337205145,
           4.700824422270628,
           4.725015793204381,
           4.535395518233806,
           4.708924331364891
          ],
          [
           "Georgia",
           3979773,
           3251848.846436071,
           727924.1535639286,
           2214206.4415328274,
           204042.97117012698,
           2188766.8449071217,
           18.29059480437524,
           81.70940519562475,
           82,
           "Asia",
           "Western Asia",
           2.82842700195312,
           9.801500750310682,
           20.58097944369482,
           4.487998638227174,
           10.252704364723638,
           4.614885061807753,
           4.717608679182886,
           4.44165488267489,
           4.627246822435573
          ],
          [
           "Ghana",
           31732128.000000004,
           23399619.57621733,
           8332508.423782671,
           8675725.707206383,
           4166763.540907811,
           6817299.918806431,
           26.258902093747604,
           73.74109790625238,
           35,
           "Africa",
           "Western Africa",
           4.24264111328125,
           12.19651392242006,
           20.778604543667576,
           5.50070830694069,
           13.261566064468555,
           4.549578727513155,
           4.561362486885288,
           4.4523399394836485,
           4.551331356277882
          ],
          [
           "Guinea",
           13497237,
           9938338.109211577,
           3558898.890788423,
           1028569.9069740134,
           334351.1994278721,
           925624.943394855,
           26.36761057680489,
           73.63238942319511,
           25,
           "Africa",
           "Western Africa",
           3.16227807617188,
           12.570532737406213,
           20.81858417422681,
           5.821397255004085,
           12.721314979408286,
           4.497444025804536,
           4.522605127453435,
           4.418690779303143,
           4.504727168152186
          ],
          [
           "Guadeloupe",
           400012.99999999994,
           204654.45506894277,
           195358.5449310572,
           104866.00419702672,
           26129.18874441254,
           102286.60042343673,
           48.83804899617193,
           51.16195100382808,
           86.1428571428572,
           "Americas",
           "Caribbean",
           22.4722109375,
           16.40790499401229,
           20.6055038776718,
           9.707073862974028,
           17.35094815836198,
           4.681706772067647,
           4.700874663913966,
           4.571340661728771,
           4.696546739830513
          ],
          [
           "Gambia",
           2486936.9999999995,
           1761032.8841196962,
           725904.1158803034,
           1359038.7519793715,
           754137.676632751,
           1084829.762099391,
           29.18868133291288,
           70.81131866708714,
           77,
           "Africa",
           "Western Africa",
           4.24264111328125,
           17.236095905149977,
           19.71772407946966,
           8.524434517910356,
           17.374425019225484,
           4.561036543696305,
           4.564887087004095,
           4.557342847872878,
           4.560936941419726
          ],
          [
           "Guinea-Bissau",
           2015489.9999999998,
           1095239.9956648848,
           920250.004335115,
           455790.628707336,
           207820.70567431254,
           385825.30423684994,
           45.65887225117044,
           54.341127748829564,
           35,
           "Africa",
           "Western Africa",
           3.60555102539062,
           15.609969143578807,
           20.796764719965015,
           6.6431988256177625,
           15.886315310251643,
           4.537197548817629,
           4.5441157738553635,
           4.509315368451718,
           4.537409624042719
          ],
          [
           "Equatorial Guinea",
           1449891,
           878593.7344270501,
           571297.2655729499,
           234781.20846618092,
           28023.371923798957,
           227331.3211021242,
           39.40277342041229,
           60.59722657958771,
           41,
           "Africa",
           "Middle Africa",
           3.16227807617188,
           11.151716530002952,
           20.78240966454611,
           5.512321234439789,
           11.747631091573584,
           4.5286559033885,
           4.557796506119545,
           4.443059016096623,
           4.537301531996393
          ],
          [
           "Greece",
           10370747,
           4498889.597896302,
           5871782.7428439045,
           4498889.597896302,
           1869351.7936584454,
           3762933.320317482,
           56.61870589306541,
           43.38057420450332,
           100,
           "Europe",
           "Southern Europe",
           8,
           12.306452134915457,
           20.56865048720067,
           4.468219925784681,
           11.037032741423165,
           4.6720479468832545,
           4.725782938931573,
           4.4822447341860965,
           4.680699783279056
          ],
          [
           "Grenada",
           113014.99999999997,
           58911.76212730219,
           54103.23787269779,
           33225.706423341864,
           12436.12075031956,
           27007.646048182083,
           47.872616796617976,
           52.127383203382024,
           92,
           "Americas",
           "Caribbean",
           9.219544921875,
           16.97771391572949,
           20.584896665016572,
           10.755543139147306,
           20.25453955406349,
           4.695484407794593,
           4.714978670831437,
           4.627271419499614,
           4.714978670831437
          ],
          [
           "Greenland",
           56867.99999999999,
           20921.730350746064,
           33979.26179748341,
           20098.215468522623,
           12961.590050067707,
           18822.696606764915,
           59.75111098945525,
           36.789987955873364,
           100,
           "Americas",
           "Northern America",
           18.027759765625,
           7.130859893351677,
           20.63550320481337,
           4.891737365847433,
           6.406941667767329,
           4.657717859621118,
           4.679500557808121,
           4.555333231445346,
           4.664545172044695
          ],
          [
           "Guatemala",
           18249868,
           13465624.548004426,
           4784243.451995575,
           9317447.248607768,
           3345425.064639303,
           8147369.964486309,
           26.215222225144725,
           73.78477777485529,
           77,
           "Americas",
           "Central America",
           3.60555102539062,
           11.598651416386618,
           20.761688238544572,
           5.222529592906542,
           10.945836671854819,
           4.523444731391798,
           4.576918999565359,
           4.340786975504837,
           4.544451617158321
          ],
          [
           "French Guiana",
           306450,
           259572.21675751387,
           46003.58571074976,
           197464.32550278044,
           102518.16647528771,
           182659.020830113,
           15.011775399167812,
           84.70295864170791,
           88,
           "Americas",
           "South America",
           3,
           8.113903987504065,
           20.641227368169808,
           5.143928662241672,
           6.514814861452567,
           4.656246606451609,
           4.6753035586358775,
           4.599374535718036,
           4.659389500210109
          ],
          [
           "Guyana",
           790329,
           694025.8021268485,
           92689.1655345934,
           453231.3689656456,
           250392.0986758278,
           423464.0298326051,
           11.72792160411593,
           87.81479638566326,
           65,
           "Americas",
           "South America",
           2.82842700195312,
           8.626050946574539,
           19.45910002008616,
           5.100255224902343,
           7.179496913957782,
           4.626670065568766,
           4.644529278594857,
           4.531279524110466,
           4.6339287725523
          ],
          [
           "Hong Kong",
           7552800,
           1757173.1903256339,
           5795626.809674366,
           687571.5982219771,
           687571.5982219771,
           0,
           76.73481105913524,
           23.265188940864764,
           100,
           "Asia",
           "Eastern Asia",
           25,
           15.942183864555403,
           20.732743661174897,
           7.350740005543114,
           16.497891649177994,
           4.579893138493931,
           4.602462656512061,
           4.503946035923185,
           4.598021431306609
          ],
          [
           "Honduras",
           10062994,
           7257602.2752241595,
           2805391.093831559,
           6670833.493946248,
           2733864.254544749,
           5902502.607798348,
           27.87829441050605,
           72.12169931954804,
           92,
           "Americas",
           "Central America",
           3.16227807617188,
           9.988375377922575,
           20.712406608037238,
           4.972012902673081,
           10.528216083762526,
           4.553129098224272,
           4.6196455280525415,
           4.385224956978515,
           4.548702994287442
          ],
          [
           "Croatia",
           4081657,
           3072243.7866439866,
           1009395.1914501872,
           2718882.6239815233,
           1414941.3301889861,
           2316470.5876577315,
           24.730034675872744,
           75.26952379006826,
           94.5,
           "Europe",
           "Southern Europe",
           3.60555102539062,
           14.054526993469096,
           20.528524232653886,
           4.542241183680928,
           12.705891490095974,
           4.723588326864665,
           4.751346757194185,
           4.608819004690283,
           4.732388861101912
          ],
          [
           "Haiti",
           11541683,
           6771122.625747113,
           4770560.351400972,
           1485866.4093655066,
           365132.67802592757,
           1358465.1288964592,
           41.33331639242711,
           58.66668340957825,
           19,
           "Americas",
           "Caribbean",
           4.12310498046875,
           12.694443110775588,
           20.694547105965036,
           4.971296961667925,
           11.094574190373976,
           4.578717950985078,
           4.63424444698654,
           4.420591193741965,
           4.584418784768565
          ],
          [
           "Hungary",
           9634162,
           7843785.100393067,
           1790376.899606933,
           7843785.100393067,
           3282614.3801828935,
           6923452.823634143,
           18.58362875366776,
           81.41637124633225,
           100,
           "Europe",
           "Eastern Europe",
           2.82842700195312,
           16.360480335446642,
           20.56542461276604,
           4.801336563942733,
           17.331947742369934,
           4.7185476877708865,
           4.72789623038958,
           4.639816403916877,
           4.724979844699783
          ],
          [
           "Indonesia",
           276361787.99999994,
           237226889.59374967,
           39134515.32126455,
           34466284.265283905,
           18605248.09030838,
           30039841.24048395,
           14.160610120696049,
           85.83925126209913,
           35,
           "Asia",
           "South-Eastern Asia",
           4.12310498046875,
           11.668240416933306,
           20.85309079420139,
           5.513930538706915,
           11.020207654656254,
           4.447413963000867,
           4.486700571344421,
           4.219822460125962,
           4.473815558647258
          ],
          [
           "Isle of Man",
           85410,
           50495.42229888402,
           34914.57770111597,
           47079.02229888402,
           30357.9959774592,
           40650.793325992294,
           40.878793702278394,
           59.1212062977216,
           98,
           "Europe",
           "Northern Europe",
           4.47213623046875,
           15.731904967215732,
           20.569039113781116,
           11.305019064258756,
           15.054226136907424,
           4.704782310509525,
           4.725527639670662,
           4.662980475701145,
           4.712385038185633
          ],
          [
           "India",
           1393409033,
           1204184856.0928767,
           189224144.2778139,
           489172807.39077955,
           271052027.61127156,
           395289561.03571576,
           13.579942414354502,
           86.42005524395626,
           44,
           "Asia",
           "Southern Asia",
           3.60555102539062,
           15.471138795900673,
           20.88970580178565,
           5.582044306090096,
           16.55673501944839,
           4.416236397778712,
           4.445834770758301,
           4.006424580780531,
           4.43962363746377
          ],
          [
           "Ireland",
           4982904,
           4062137.0910664327,
           920729.9220118186,
           4062137.0910664327,
           2208471.1099662785,
           3710300.202362198,
           18.47777765760325,
           81.52148006597022,
           97,
           "Europe",
           "Northern Europe",
           3.16227807617188,
           14.449015080414073,
           20.542847314820687,
           4.601025791857136,
           14.274584664985277,
           4.725853769491935,
           4.742399168187247,
           4.603965389341376,
           4.731029520956092
          ],
          [
           "Iran",
           85028760,
           43052107.76544997,
           41976625.55149823,
           41498358.516992964,
           13100515.351737402,
           36575631.963198744,
           49.36756169500558,
           50.6324069237867,
           99,
           "Asia",
           "Southern Asia",
           5.3851650390625,
           10.378784640438516,
           20.66005274002509,
           4.766222023341602,
           10.601365304351065,
           4.624574690397703,
           4.661220478636513,
           4.392839846048194,
           4.641519021515849
          ],
          [
           "Iraq",
           41179351,
           30333042.96458662,
           10846308.03541338,
           20938249.911853284,
           6335949.508969322,
           19033238.272789318,
           26.33919129860347,
           73.66080870139653,
           83,
           "Asia",
           "Western Asia",
           3.60555102539062,
           12.689687057174373,
           20.59159347490457,
           4.55030219695333,
           12.846685102472875,
           4.700613819610003,
           4.710445118747467,
           4.476212879202754,
           4.707706265837342
          ],
          [
           "Iceland",
           343360.00000000006,
           216036.88584204373,
           120541.19413856554,
           216036.88584204373,
           155400.6282234459,
           147413.91641474364,
           35.106358963934504,
           62.91847793628952,
           100,
           "Europe",
           "Northern Europe",
           5.3851650390625,
           10.859945072873625,
           20.57616759766623,
           4.587266480622893,
           11.009995645151887,
           4.687038239968905,
           4.720817534985727,
           4.552742158556347,
           4.6995949495002005
          ],
          [
           "Israel",
           8789776,
           2560821.473520642,
           6228954.526479358,
           2560821.473520642,
           1518342.8644914855,
           1610005.5737902035,
           70.86590746430123,
           29.134092535698773,
           100,
           "Asia",
           "Western Asia",
           16.12451953125,
           13.395231679785635,
           20.582008115198526,
           7.7398660633519665,
           12.867791269598515,
           4.694771891205183,
           4.7169195820286625,
           4.597898044093754,
           4.69792325675334
          ],
          [
           "Italy",
           60367471,
           51530890.74535152,
           8836526.09899912,
           51497467.25979561,
           36505405.570467114,
           43619615.0402342,
           14.637893475774593,
           85.36201681424012,
           98,
           "Europe",
           "Southern Europe",
           3,
           13.078554320193154,
           20.624033775001315,
           4.64885667258909,
           11.327994112403195,
           4.62422616278865,
           4.6877939396504456,
           4.419312330564657,
           4.639625287523663
          ],
          [
           "Jamaica",
           2973462,
           1967526.8920345735,
           1005930.7725659042,
           1380390.6336738146,
           432858.8024219418,
           1230933.8300591595,
           33.830288484127394,
           66.16956571278104,
           83,
           "Americas",
           "Caribbean",
           4.12310498046875,
           13.223890531452207,
           20.57851623165119,
           9.46675510438528,
           11.580087358546646,
           4.677844892569536,
           4.719254298950328,
           4.4911453600558815,
           4.682944413677948
          ],
          [
           "Jordan",
           10269022.000000002,
           4208784.8606804265,
           6060237.139319574,
           2508143.745075985,
           466886.1778313179,
           2240677.9003783395,
           59.014744922345805,
           40.98525507765419,
           89,
           "Asia",
           "Western Asia",
           9.4339814453125,
           12.17935731130167,
           19.90802215937255,
           4.684316289661003,
           13.660583590172369,
           4.707335660121923,
           4.722212911227861,
           4.578432183170237,
           4.715703501412255
          ],
          [
           "Japan",
           126050795.99999999,
           108209987.32242036,
           17840706.617128022,
           74103401.56043124,
           55104287.26426276,
           65244211.18189725,
           14.153585049259048,
           85.8463339830241,
           98,
           "Asia",
           "Eastern Asia",
           2.23606811523438,
           12.87793103723786,
           20.80400745297989,
           5.3428915579085166,
           11.45727580583643,
           4.4775708026316625,
           4.537073281100394,
           4.288856461036526,
           4.484972940563098
          ],
          [
           "Kazakhstan",
           18994958.000000004,
           12881609.687165359,
           6112314.241832618,
           7104282.975180296,
           2209871.849393221,
           6506794.902668273,
           32.1786141450411,
           67.81594193135545,
           81,
           "Asia",
           "Central Asia",
           4.12310498046875,
           10.219557965899968,
           20.663451719871205,
           4.766370684656811,
           7.868666897713203,
           4.650040874900255,
           4.658630876173458,
           4.3939250204705065,
           4.655635165884479
          ],
          [
           "Kenya",
           54985702,
           33776424.600128196,
           21208926.048292045,
           13134731.587781956,
           4982659.432462509,
           11555027.860126788,
           38.57171096641095,
           61.42765004642151,
           33,
           "Africa",
           "Eastern Africa",
           4.12310498046875,
           12.717932171592654,
           20.793163780500937,
           5.349093545181906,
           12.797973199753073,
           4.533441507614721,
           4.547581865326141,
           4.357831338076686,
           4.540860541828285
          ],
          [
           "Kyrgyzstan",
           6628347,
           5163694.554512947,
           1464633.8584698078,
           5163694.554512947,
           1272698.0499366168,
           5065742.096831571,
           22.096517555128116,
           77.90320202778985,
           94,
           "Asia",
           "Central Asia",
           2.82842700195312,
           7.8948017547723355,
           20.658111095995515,
           4.716982705047651,
           5.121540604680176,
           4.542336673006893,
           4.6626932492359074,
           4.353802362764783,
           4.536823899698206
          ],
          [
           "Cambodia",
           16946445.999999996,
           14304492.322504735,
           2641949.297992745,
           4569041.7305172235,
           3402873.7443407737,
           3380197.061381015,
           15.58999036135804,
           84.40998379545032,
           32,
           "Asia",
           "South-Eastern Asia",
           3.16227807617188,
           14.82313319020232,
           20.884138322232026,
           5.859897940327671,
           16.282183798918275,
           4.4397733572094324,
           4.45224454081847,
           4.312109550334978,
           4.447137263185559
          ],
          [
           "South Korea",
           51305184,
           38406324.66951452,
           12898841.919921314,
           22473530.13891344,
           12355332.075057544,
           17630594.291437358,
           25.141400759660687,
           74.858565305047,
           100,
           "Asia",
           "Eastern Asia",
           4.47213623046875,
           12.590399243782228,
           20.725565645276593,
           5.178752941175096,
           11.35782386988263,
           4.554108704533602,
           4.608597178736968,
           4.437104054571957,
           4.557425106326729
          ],
          [
           "Kuwait",
           4328553,
           345718.3945241096,
           3982834.6054758905,
           3397.129053284388,
           3397.129053284388,
           0,
           92.01307239338159,
           7.986927606618416,
           91.5,
           "Asia",
           "Western Asia",
           104.995203125,
           13.240881270799083,
           20.541152802810107,
           6.825533669987417,
           16.93468714955744,
           4.7407452388616536,
           4.743467785342943,
           4.733869526340827,
           4.74070848042873
          ],
          [
           "Laos",
           7379358,
           6047237.004472401,
           1332120.9955275995,
           1022735.3155580079,
           557326.9846474393,
           881622.1460704084,
           18.051990369996947,
           81.94800963000306,
           31,
           "Asia",
           "South-Eastern Asia",
           3,
           9.949067237718499,
           19.016562212352756,
           5.699697449603411,
           10.431993997053961,
           4.380142705508021,
           4.4552005744005925,
           4.241021413078452,
           4.374696013940102
          ],
          [
           "Lebanon",
           6769151,
           3005536.743288584,
           3763614.2567114155,
           2241594.025772418,
           498675.2808179147,
           1938730.5283142417,
           55.5995021637339,
           44.400497836266084,
           89,
           "Asia",
           "Western Asia",
           6.7082041015625,
           11.310453911699437,
           20.295355564844172,
           4.733574866125497,
           10.87479879174574,
           4.6514824819708425,
           4.7187215365716,
           4.580485119707877,
           4.6510484854735905
          ],
          [
           "Liberia",
           5180207.999999999,
           3885138.024117701,
           1295062.9420046643,
           9164.656006436207,
           870.1544218746315,
           8551.032561403686,
           25.000211227129576,
           74.99965298917924,
           4,
           "Africa",
           "Western Africa",
           4.24264111328125,
           13.28382382564812,
           20.25787603980342,
           6.165104070512761,
           13.73667946687138,
           4.518759489958722,
           4.532784963857859,
           4.460242658371571,
           4.520335173012171
          ],
          [
           "Libya",
           6958537.999999999,
           2023266.9365188957,
           4935168.328757526,
           2168.1806950799205,
           1189.2327345294104,
           1181.015832827926,
           70.92248872906244,
           29.076034887197512,
           78,
           "Africa",
           "Northern Africa",
           223.5755,
           10.580441406074987,
           20.575027952555953,
           4.668581990940817,
           7.342875574103145,
           4.714897124656848,
           4.721574031964847,
           4.591548588938635,
           4.717456238238659
          ],
          [
           "Saint Lucia",
           184401,
           57493.71244503043,
           126907.28755496957,
           54043.209583607095,
           19811.98777584041,
           44469.60785662322,
           68.82136623715141,
           31.17863376284859,
           97,
           "Americas",
           "Caribbean",
           13.03841015625,
           14.434757048398883,
           19.816514904486393,
           9.774342192082829,
           11.360968696797197,
           4.724549998042046,
           4.761009995242006,
           4.660491320642418,
           4.719009138268088
          ],
          [
           "Liechtenstein",
           38254,
           36658.04312,
           1595.9568799999997,
           36635.09072,
           30256.051070640002,
           30580.247600000002,
           4.172,
           95.828,
           100,
           "Europe",
           "Western Europe",
           3.60555102539062,
           10.05304153399649,
           11.578486914657011,
           8.56385330064593,
           10.74374977071152,
           4.534617926642976,
           4.629289179762112,
           4.501129181911521,
           4.505532427847978
          ],
          [
           "Sri Lanka",
           21497306,
           16793751.49463116,
           4703547.850491706,
           10306317.890040012,
           5892150.221279759,
           7980776.837389719,
           21.879708324809194,
           78.12026071839495,
           39,
           "Asia",
           "Southern Asia",
           3.60555102539062,
           15.51582440887787,
           20.834503444550588,
           7.881899368394638,
           16.113612673990836,
           4.484774260588797,
           4.506338591583486,
           4.3486026273629745,
           4.498989672059988
          ],
          [
           "Lesotho",
           2159067,
           1557427.6037268562,
           601639.3962731439,
           1245086.929860667,
           29618.94527859183,
           1241540.33154451,
           27.86571219295853,
           72.13428780704147,
           69,
           "Africa",
           "Southern Africa",
           2.23606811523438,
           8.813053789969567,
           14.076731467018154,
           5.310325194329774,
           10.093646135254975,
           4.471756476176768,
           4.5517560953049685,
           4.3943359107732665,
           4.466916887032565
          ],
          [
           "Lithuania",
           2689862,
           2241460.211866474,
           448401.7881335264,
           2069487.6665466658,
           917782.9012661164,
           1886185.334557074,
           16.67006664778812,
           83.3299333522119,
           96,
           "Europe",
           "Northern Europe",
           2.82842700195312,
           16.372625178791317,
           19.905161987805023,
           6.526747211438684,
           16.464272136386022,
           4.717881000976043,
           4.723480772473891,
           4.707555828902588,
           4.718040825408246
          ],
          [
           "Luxembourg",
           634813.9999999999,
           516062.2242710566,
           118751.77572894332,
           511286.3947794296,
           395600.4282905276,
           321707.3595353225,
           18.706546441783477,
           81.29345355821653,
           100,
           "Europe",
           "Western Europe",
           4.47213623046875,
           12.511093833415075,
           14.810846420531565,
           11.110193019361844,
           12.428249443823216,
           4.678786914582202,
           4.695349794312669,
           4.649190117697383,
           4.681659092881249
          ],
          [
           "Latvia",
           1866934,
           1567474.2320280268,
           299459.76797197317,
           1383067.4430665232,
           298353.09807091637,
           1322499.8110163459,
           16.04019038551835,
           83.95980961448166,
           94,
           "Europe",
           "Northern Europe",
           3,
           15.972997775232422,
           20.53206727068588,
           6.310408731053368,
           16.123692363516724,
           4.743051306961638,
           4.749151265131246,
           4.734107580860263,
           4.743038503849863
          ],
          [
           "Morocco",
           37344787,
           15824875.041556546,
           21518919.991713945,
           9409996.346260216,
           3632593.7826676667,
           7744507.457898859,
           57.62228605484868,
           42.3750577063314,
           80,
           "Africa",
           "Northern Africa",
           7.07106787109375,
           10.574394626312008,
           20.08760985790686,
           4.89121925270323,
           10.545885171589767,
           4.598851873281921,
           4.634369373536933,
           4.385603136783688,
           4.614490982354884
          ],
          [
           "Moldova",
           4024025.0000000005,
           3288494.8039896903,
           735530.19601031,
           2306136.906299269,
           712816.3950375968,
           2188627.07590889,
           18.27846984077658,
           81.7215301592234,
           72,
           "Europe",
           "Eastern Europe",
           2.82842700195312,
           12.462211562290664,
           20.595442636500785,
           5.4834500888120346,
           12.14780831702548,
           4.684804913883322,
           4.707817778838741,
           4.651635527102157,
           4.6857042556273125
          ],
          [
           "Madagascar",
           28427333,
           10089739.987737,
           18337581.089579713,
           3862990.4191579996,
           1229657.7404446003,
           3402238.602988888,
           64.50686418447947,
           35.49309387460653,
           35,
           "Africa",
           "Eastern Africa",
           4,
           12.1668052321227,
           20.92826491480084,
           6.004911545250938,
           12.069617804807212,
           4.368125606861306,
           4.3993591675682895,
           4.233308293094626,
           4.37665192920436
          ],
          [
           "Mexico",
           130262220,
           72123325.81838596,
           58128940.125608586,
           66617878.875516795,
           31463438.338060874,
           52375507.35616198,
           44.62455816092232,
           55.367800286518964,
           98,
           "Americas",
           "Central America",
           5.65685400390625,
           12.667386756805511,
           20.638846458316248,
           4.696028732909704,
           11.79267444975533,
           4.6316404957209345,
           4.67705400187328,
           4.426475744657502,
           4.651857237610327
          ],
          [
           "North Macedonia",
           2082661,
           1782831.7055951545,
           299829.2944048454,
           1444679.5884196076,
           895767.7286631053,
           1296438.0249326932,
           14.39645215447187,
           85.60354784552813,
           92,
           "Europe",
           "Southern Europe",
           3,
           9.305960123375227,
           20.603151570557316,
           4.665815291886016,
           10.391852900227047,
           4.6272085118364785,
           4.702507837115029,
           4.512570434039708,
           4.630647490725063
          ],
          [
           "Mali",
           20855724.000000004,
           13370529.047384124,
           7477370.61929692,
           3296498.7775250687,
           2041977.54533514,
           2331823.8516541426,
           35.85284605462231,
           64.10963746635754,
           50,
           "Africa",
           "Western Africa",
           8.54400390625,
           11.250267331854339,
           19.65969737544714,
           5.796688234437275,
           8.514132285755782,
           4.552247320476776,
           4.557253089521639,
           4.490726773473184,
           4.553681774125861
          ],
          [
           "Malta",
           442790,
           241967.90127580508,
           200822.09872419492,
           241967.90127580508,
           108712.20562131377,
           227670.75970355596,
           45.35380173992071,
           54.646198260079295,
           100,
           "Europe",
           "Southern Europe",
           4.12310498046875,
           15.988681747259303,
           20.616104033148847,
           12.777026078948836,
           14.223234792030702,
           4.682586039525577,
           4.693439082952877,
           4.669004065069113,
           4.6804182153260125
          ],
          [
           "Myanmar",
           54806013.99999999,
           42289185.21500786,
           12516802.847286679,
           11990979.876148451,
           6880147.067476386,
           10837219.696081562,
           22.83837472158928,
           77.16157795202523,
           33,
           "Asia",
           "South-Eastern Asia",
           2.82842700195312,
           11.257074410691802,
           20.856299537095026,
           5.510501641987154,
           10.710727801004143,
           4.421940099613524,
           4.483237473558855,
           4.19497007960266,
           4.443611969995477
          ],
          [
           "Montenegro",
           628051.0000000001,
           454382.6375573052,
           173668.36244269487,
           313357.03935798316,
           111124.07909121363,
           286286.7500945208,
           27.651952220869774,
           72.34804777913023,
           89,
           "Europe",
           "Southern Europe",
           3.60555102539062,
           10.012236354166962,
           19.921974230829722,
           4.605361639017537,
           10.556696864272347,
           4.631092006015996,
           4.715974336175317,
           4.521271919630582,
           4.634667399103108
          ],
          [
           "Mongolia",
           3329281.9999999995,
           2319229.62670538,
           989307.656903627,
           223639.7174296406,
           41439.33260920808,
           216312.93460813546,
           29.715345738319165,
           69.66155545566222,
           25,
           "Asia",
           "Eastern Asia",
           3.60555102539062,
           8.681151363618747,
           20.689433149467497,
           4.897285678435031,
           7.1139841297537885,
           4.607416864393787,
           4.638343359149769,
           4.413555622540505,
           4.622790597345924
          ],
          [
           "Mozambique",
           32163044.999999996,
           18360889.13173328,
           13802145.717789441,
           5733057.5706655085,
           2837779.3525679363,
           4829488.270387944,
           42.91305663934942,
           57.086911801209375,
           41,
           "Africa",
           "Eastern Africa",
           3.16227807617188,
           12.369865113280877,
           20.856956747466505,
           5.784964402209154,
           13.220792083799138,
           4.470569594308298,
           4.482525456532741,
           4.334085867321188,
           4.473169474800207
          ],
          [
           "Mauritania",
           4775110.000000001,
           1486491.8908198706,
           3263071.8215534408,
           212344.95282011386,
           26535.660026154765,
           195424.16154181646,
           68.3350084407153,
           31.13000309563278,
           53,
           "Africa",
           "Western Africa",
           30.80583984375,
           11.13564045673041,
           20.771198239765177,
           5.71409554615857,
           8.41873255857732,
           4.5635806357863515,
           4.568232445050373,
           4.4984255629671885,
           4.5648537250109165
          ],
          [
           "Montserrat",
           4980.999999999999,
           2164.8542419191235,
           2816.1457580808756,
           891.1413847762653,
           680.89220674725,
           273.13364832938356,
           56.53775864446649,
           43.46224135553351,
           98,
           "Americas",
           "Caribbean",
           5,
           17.162395427930917,
           20.6055038776718,
           11.2036330898753,
           19.678049316245655,
           4.682889729647393,
           4.700874663913966,
           4.647352116473896,
           4.700442408554316
          ],
          [
           "Martinique",
           374743.00000000006,
           166228.7016939953,
           208514.29830600476,
           73001.73524134667,
           37005.37272725125,
           46762.69325868715,
           55.64194616203765,
           44.35805383796236,
           86.1428571428571,
           "Americas",
           "Caribbean",
           7.81025,
           15.399692336017683,
           20.6055038776718,
           10.65977407628934,
           13.075589441158156,
           4.67473622764063,
           4.700874663913966,
           4.594578044167417,
           4.684801406502975
          ],
          [
           "Mauritius",
           1273428,
           1050450.5426578547,
           222977.4573421452,
           1050450.5426578547,
           817425.9711395041,
           944949.6006421358,
           17.510016847607027,
           82.48998315239297,
           100,
           "Africa",
           "Eastern Africa",
           2,
           15.472562458390064,
           20.723813610908834,
           5.723542720908132,
           14.368597252561518,
           4.597046797527779,
           4.610082839478018,
           4.556762839603749,
           4.599179361478152
          ],
          [
           "Malawi",
           19647681,
           17380412.75298972,
           2267191.0723889233,
           4883936.383089739,
           2542742.2974103903,
           4165825.775230157,
           11.53922985816455,
           88.46037734931528,
           22,
           "Africa",
           "Eastern Africa",
           2.82842700195312,
           13.424243528900579,
           20.86145061869211,
           5.669825378932739,
           13.546806432407672,
           4.456451754775859,
           4.477631932807891,
           4.301639321928055,
           4.464913809982482
          ],
          [
           "Malaysia",
           32776195,
           24348621.09151439,
           8427553.053021941,
           22618977.144945182,
           12026284.59166634,
           19082494.241179682,
           25.71242041067287,
           74.28751595941625,
           95,
           "Asia",
           "South-Eastern Asia",
           3.16227807617188,
           9.981359811574732,
           20.725877288147405,
           5.029642512748835,
           8.554896882570896,
           4.559876203296346,
           4.608332440048155,
           4.380151862408534,
           4.576881558937529
          ],
          [
           "Namibia",
           2587343.9999999995,
           590027.9846491653,
           1984154.7023673586,
           136743.77937013653,
           51902.24410897765,
           100048.98026080056,
           76.68693078181174,
           22.80438877277878,
           81,
           "Africa",
           "Southern Africa",
           30.413810546875,
           12.087868069198025,
           20.772370740480987,
           5.301832711654071,
           10.891836890075494,
           4.557776659092985,
           4.567151036077805,
           4.398944873217566,
           4.563547019613111
          ],
          [
           "New Caledonia",
           288217,
           180259.13804254986,
           107851.69824605621,
           90301.09506602879,
           11584.223971502628,
           89106.71393992096,
           37.42031117042236,
           62.54285418367059,
           99,
           "Oceania",
           "Melanesia",
           3.16227807617188,
           11.81632274226661,
           20.69665078139316,
           4.947758532813502,
           10.735745150157655,
           4.57762764479823,
           4.6325479418114135,
           4.427544432269739,
           4.588952306895874
          ],
          [
           "Niger",
           25130809.999999996,
           8832425.413392678,
           16279791.731893504,
           1034554.5052579261,
           253107.8637060677,
           870207.8413717799,
           64.78021095178988,
           35.1458047448239,
           40,
           "Africa",
           "Western Africa",
           33.8378515625,
           11.284050095867654,
           19.595884851867325,
           5.857212732465787,
           8.904117703485426,
           4.481797511803375,
           4.486888689492758,
           4.385670288413358,
           4.4840176670582
          ],
          [
           "Nigeria",
           211400704,
           153103815.99750268,
           58296888.00249732,
           15098896.022803584,
           4396203.819641883,
           13646171.367030093,
           27.576487163683865,
           72.42351283631614,
           10,
           "Africa",
           "Western Africa",
           3.60555102539062,
           12.99974140037463,
           20.821716166017815,
           5.5411255042913234,
           14.138061294972303,
           4.508393827982272,
           4.5194438936674555,
           4.359879649501506,
           4.511405587056552
          ],
          [
           "Nicaragua",
           6702378.999999999,
           4536498.375259234,
           2165870.202785729,
           4339579.410809275,
           1876004.3731299157,
           3622371.7654453157,
           32.31494671945184,
           67.68489778419325,
           70,
           "Americas",
           "Central America",
           4,
           12.035842531607509,
           20.691146670937627,
           5.08694161267906,
           11.554075402943365,
           4.6099451820013675,
           4.636973910182329,
           4.510342930698916,
           4.622466011301919
          ],
          [
           "Netherlands",
           17173094,
           16136769.110556861,
           1036324.8894431377,
           16136769.110556861,
           14710351.539462812,
           13559102.38682556,
           6.034584620821022,
           93.96541537917898,
           91,
           "Europe",
           "Western Europe",
           2.23606811523438,
           19.131822391700812,
           20.5759151239469,
           7.708295726836465,
           19.41585779929062,
           4.719360987558194,
           4.720985242077946,
           4.698474091986446,
           4.719757204243896
          ],
          [
           "Norway",
           5465629,
           4546011.587437534,
           915894.1139438463,
           4546011.587437534,
           3749682.540213887,
           4085834.0031998316,
           16.75734145043226,
           83.17453649776692,
           100,
           "Europe",
           "Northern Europe",
           2.23606811523438,
           9.368416927987194,
           20.565241101546633,
           4.50235838736452,
           10.635321207683678,
           4.678935197428557,
           4.728016135608146,
           4.46113858386494,
           4.687247539165291
          ],
          [
           "Nepal",
           29674920.000000004,
           26808638.18141508,
           2866264.1077543995,
           13791852.656138685,
           5980507.647027152,
           12954137.660218133,
           9.658877286794368,
           90.3410630303808,
           50,
           "Asia",
           "Southern Asia",
           2.82842700195312,
           10.98320861454576,
           19.743185792888728,
           5.64342742997638,
           10.067519832387854,
           4.302423908038406,
           4.44724272078866,
           4.150459822916262,
           4.278480102972271
          ],
          [
           "New Zealand",
           4860642,
           3799128.5404906343,
           1057736.4469244934,
           3799128.5404906343,
           2529811.472396693,
           3383786.0699599166,
           21.761249788083415,
           78.16104416845829,
           100,
           "Oceania",
           "Australia and New Zealand",
           2.82842700195312,
           11.462659684987573,
           20.531583624403773,
           4.328315458674199,
           10.920305449085676,
           4.694093205409796,
           4.749451648245545,
           4.473076759300188,
           4.70864419694371
          ],
          [
           "Oman",
           5223376,
           931796.4475393369,
           4291549.223514319,
           282724.8529554354,
           195912.74544568587,
           139647.88467747046,
           82.16044993724977,
           17.838969423976696,
           96,
           "Asia",
           "Western Asia",
           53.0094296875,
           11.522537518616756,
           20.690746827038996,
           4.898026003360015,
           8.16315002690339,
           4.622819335195971,
           4.637293822224087,
           4.408016320620995,
           4.63396784698729
          ],
          [
           "Pakistan",
           225199928.99999997,
           204694637.7730468,
           20505287.01786717,
           48483898.93716232,
           25078067.45728677,
           43312049.37060612,
           9.105370107761967,
           90.89462802319392,
           26,
           "Asia",
           "Southern Asia",
           3,
           12.263380002080943,
           20.802812158860377,
           5.245955953709999,
           10.92452443858701,
           4.4896841676932935,
           4.538242121415806,
           4.193042411890027,
           4.527606279131799
          ],
          [
           "Panama",
           4381583,
           3276480.055570309,
           1105014.9075628158,
           2959824.0753568197,
           1358970.0104033647,
           2788944.364030409,
           25.219536125706526,
           74.77845462633731,
           93,
           "Americas",
           "Central America",
           2,
           9.933298580955656,
           20.6856429753618,
           4.90338539159012,
           10.017762728200308,
           4.592935339674715,
           4.641358387733513,
           4.433334125042924,
           4.609113838162716
          ],
          [
           "Peru",
           33359415,
           17660272.75356693,
           15698916.844804065,
           15838813.083422558,
           4859406.24568746,
           14004345.456294768,
           47.05992849336256,
           52.93939583043327,
           90,
           "Americas",
           "South America",
           4.47213623046875,
           9.258708889180978,
           20.726306791732696,
           4.973981667254237,
           8.143205226648302,
           4.540090523274381,
           4.607967342804747,
           4.2950480852272035,
           4.5793881396386364
          ],
          [
           "Philippines",
           111046909.99999999,
           92350129.51344588,
           18696730.158781204,
           56346791.52820183,
           15241472.753171688,
           53732442.84317666,
           16.836785605994088,
           83.16316907282328,
           66,
           "Asia",
           "South-Eastern Asia",
           2.23606811523438,
           12.43053397138293,
           20.868564209404155,
           5.6063874688503255,
           11.53019066921803,
           4.426127455409665,
           4.469795816991187,
           4.227130891897327,
           4.444089322849691
          ],
          [
           "Papua New Guinea",
           9119005,
           4348589.527340826,
           4770111.5499997195,
           986634.2840790593,
           481902.9560575475,
           955930.5454952875,
           52.30956173397996,
           47.68710541710225,
           18,
           "Oceania",
           "Melanesia",
           2.23606811523438,
           8.779342411647898,
           20.76162402379618,
           5.154153273271003,
           7.820140353213556,
           4.518622259305232,
           4.576977147033835,
           4.334843489135244,
           4.548594446030608
          ],
          [
           "Poland",
           37797000,
           28930266.869762573,
           8866733.130237427,
           28930266.869762573,
           21834616.42843582,
           22778974.12945987,
           23.458827764736427,
           76.54117223526357,
           89,
           "Europe",
           "Eastern Europe",
           3,
           15.642157582186844,
           20.584009695919427,
           4.577289401841426,
           15.967981944402117,
           4.706279180836045,
           4.715575582215676,
           4.525233221360022,
           4.709555393907653
          ],
          [
           "Puerto Rico",
           2828246,
           2343854.8143552523,
           484390.7587309317,
           1706050.0451031015,
           425526.7925880836,
           1663521.3084246535,
           17.126896271785824,
           82.87308863356483,
           100,
           "Americas",
           "Caribbean",
           2.23606811523438,
           14.023197464972881,
           20.588993687224956,
           6.900664800140229,
           12.314844116831278,
           4.6773956504269165,
           4.712210732107202,
           4.586851627467885,
           4.688330496504579
          ],
          [
           "North Korea",
           25887045,
           19592541.967683494,
           6294491.887761036,
           9912433.914226286,
           5174497.763658135,
           8284553.5068511125,
           24.31521978565354,
           75.68473716364109,
           100,
           "Asia",
           "Eastern Asia",
           3.60555102539062,
           10.700219617693524,
           20.744969802188226,
           5.170362305672696,
           10.706606314347633,
           4.514128420627838,
           4.5918335216718855,
           4.412010774041988,
           4.505599653243792
          ],
          [
           "Portugal",
           10167922.999999998,
           6881925.869643781,
           3285997.130356218,
           6735665.698366833,
           3324629.52361418,
           5612102.952867148,
           32.31728968006759,
           67.68271031993243,
           100,
           "Europe",
           "Southern Europe",
           4,
           12.655152300051745,
           20.66120201079039,
           5.024434755432442,
           12.306094626349386,
           4.6282233010885765,
           4.660346506759815,
           4.504211502987289,
           4.6368058022859895
          ],
          [
           "Paraguay",
           7219640.999999999,
           5159298.972669398,
           2058262.260017465,
           5159298.972669398,
           2665299.515857299,
           4061888.3661434846,
           28.509205097836105,
           71.46198782833383,
           100,
           "Americas",
           "South America",
           4.24264111328125,
           12.030485068240727,
           20.639968679977983,
           5.1319908587418475,
           11.92058414202854,
           4.670081353764774,
           4.676229789921031,
           4.599289782092408,
           4.6744064903404885
          ],
          [
           "Palestine",
           5222756,
           2263307.4050514926,
           2959448.594948508,
           815874.5519251156,
           229070.3769335456,
           715469.426935464,
           56.6645004083765,
           43.33549959162352,
           54,
           "Asia",
           "Western Asia",
           19.104970703125,
           12.210581292975988,
           19.907701160504477,
           7.697639688729511,
           11.352528341247922,
           4.682338580283813,
           4.722355389940371,
           4.628901167517837,
           4.680305799664991
          ],
          [
           "Qatar",
           2930524.0000000005,
           430782.4625934444,
           2499741.537406556,
           0,
           0,
           0,
           85.30015578806233,
           14.699844211937672,
           100,
           "Asia",
           "Western Asia",
           196.6215,
           17.657412435942494,
           20.56130947953982,
           6.84254516888337,
           18.71651914324828,
           4.728139443760251,
           4.730576956848132,
           4.7237996974881185,
           4.728234153622353
          ],
          [
           "Reunion",
           901695.9999999999,
           551126.8766657558,
           350569.12333424407,
           192864.0929746727,
           65619.52660885485,
           172663.7714442199,
           38.87885976362811,
           61.121140236371886,
           100,
           "Africa",
           "Eastern Africa",
           4.12310498046875,
           11.989098983912669,
           20.287109800729922,
           5.684675787102712,
           10.99074612892349,
           4.441957078631036,
           4.513115732413998,
           4.33026105700394,
           4.434072082907489
          ],
          [
           "Romania",
           19127772.000000004,
           17852288.812357716,
           1275483.1876422865,
           6348995.771138716,
           2320330.1766417087,
           5845847.195091064,
           6.668226637385087,
           93.33177336261491,
           64,
           "Europe",
           "Eastern Europe",
           3,
           12.664809540295467,
           20.601738534866683,
           4.606852576863914,
           11.698685966723124,
           4.663674412675637,
           4.703485974157781,
           4.4911219768844,
           4.673263512567784
          ],
          [
           "Russia",
           145912021.99999997,
           105677077.04257499,
           39764285.08033461,
           95622280.43569387,
           27305563.14007753,
           88550508.48427264,
           27.252233596169766,
           72.4252022513779,
           94,
           "Europe",
           "Eastern Europe",
           3.16227807617188,
           9.529028591566007,
           20.609378971816646,
           4.581502997742942,
           7.275352779374247,
           4.677844498607248,
           4.698170947141357,
           4.422271480550432,
           4.690487824746837
          ],
          [
           "Rwanda",
           13276517,
           8925623.162047757,
           4350893.837952244,
           5759647.860242562,
           1304127.8112409401,
           5254151.001181158,
           32.77134988003438,
           67.22865011996562,
           38,
           "Africa",
           "Eastern Africa",
           3.60555102539062,
           11.739384437095064,
           20.88802840166263,
           6.110387679085186,
           11.32365295911466,
           4.385491816313998,
           4.447773600931707,
           4.310311442076862,
           4.388822751405562
          ],
          [
           "Saudi Arabia",
           35340680,
           5871713.876296071,
           29468905.213434957,
           410026.01293915353,
           202479.75728306855,
           288287.7650541992,
           83.38522409142935,
           16.614603556853098,
           84,
           "Asia",
           "Western Asia",
           216.01159375,
           9.370531428318097,
           20.6289669382747,
           4.68332212081637,
           7.427448774340769,
           4.6716147336565825,
           4.684245633381113,
           4.458726614749077,
           4.678768694637498
          ],
          [
           "Sudan",
           44909351,
           23026659.447922282,
           21882648.349355064,
           3847841.447522744,
           512917.246833157,
           3609615.976501339,
           48.72626270941895,
           51.273641090743624,
           46,
           "Africa",
           "Northern Africa",
           47.85394921875,
           11.667355755952972,
           20.774985132371512,
           5.270936759037492,
           8.525504862350768,
           4.559041953189194,
           4.564731410412126,
           4.3729065557263676,
           4.561355454114781
          ],
          [
           "Senegal",
           17196308,
           5408134.263160134,
           11788173.736839866,
           2931838.326372268,
           992092.1253924668,
           2325834.7733570756,
           68.55060828661517,
           31.449391713384838,
           75,
           "Africa",
           "Western Africa",
           17.46425,
           16.316383967819537,
           20.767681159981986,
           6.619062773318721,
           17.325978367452738,
           4.567689912059583,
           4.571462470279202,
           4.528327446669755,
           4.568911073092698
          ],
          [
           "Singapore",
           5896684.000000001,
           3084008.0766491033,
           2812675.9233508976,
           2187861.667679993,
           1512160.7623107068,
           1257024.4174745812,
           47.69928189048111,
           52.30071810951888,
           100,
           "Asia",
           "South-Eastern Asia",
           10.4403095703125,
           18.484944889313915,
           20.74986395056574,
           14.582185578499889,
           18.9735218673636,
           4.5835062442443135,
           4.5875135760250805,
           4.5733872295880875,
           4.5844777800092515
          ],
          [
           "Solomon Islands",
           703995,
           368959.3142076485,
           334747.3814157318,
           172792.06201079427,
           38460.97799843427,
           169065.6145143289,
           47.549681661905524,
           52.40936572101344,
           46,
           "Oceania",
           "Melanesia",
           3.60555102539062,
           9.400723320965751,
           20.737202647889635,
           5.106788630888903,
           8.62513922235427,
           4.5584466744703125,
           4.598612712633426,
           4.375674780063997,
           4.5810739368739615
          ],
          [
           "Sierra Leone",
           8141343,
           4605394.898871282,
           3535948.1011287184,
           792037.1919973919,
           113395.90917074792,
           756146.2761299653,
           43.43200011507584,
           56.56799988492417,
           21,
           "Africa",
           "Western Africa",
           3,
           13.876141634450857,
           20.847709474743812,
           5.740885467422462,
           14.03910401359688,
           4.47292629372296,
           4.492459605456841,
           4.3675127778223715,
           4.479079235600814
          ],
          [
           "El Salvador",
           6518500,
           5374132.754602796,
           1144367.2453972031,
           4677183.09854824,
           1640752.3534855125,
           4337758.207232469,
           17.555683752354117,
           82.44431624764587,
           91,
           "Americas",
           "Central America",
           2.82842700195312,
           13.156122645513065,
           20.66115938550914,
           8.171112261463138,
           11.89650798263396,
           4.615920591047365,
           4.660378951174421,
           4.51224298114681,
           4.62147473360136
          ],
          [
           "Somalia",
           16359500,
           8946060.925595226,
           7413394.155268546,
           204108.16801164366,
           13945.785807681259,
           193746.6960814696,
           45.31553015231851,
           54.68419527244247,
           47,
           "Africa",
           "Eastern Africa",
           86.2786171875,
           15.882076606515772,
           20.82242432360777,
           5.571274003515371,
           17.18782193915419,
           4.510077855023655,
           4.518726501411665,
           4.375420966213411,
           4.515386861722816
          ],
          [
           "Serbia",
           8697547,
           6860085.7151819635,
           1837461.284818037,
           6230465.203258436,
           2679403.656819602,
           5521948.504079126,
           21.126201270519573,
           78.87379872948044,
           94,
           "Europe",
           "Eastern Europe",
           3.16227807617188,
           12.247734047006313,
           19.935299540277374,
           4.615922533901746,
           11.373764867361341,
           4.682390015847125,
           4.723217907030584,
           4.57817042871165,
           4.68960455727884
          ],
          [
           "South Sudan",
           11381377,
           8441401.682464115,
           2939975.317535884,
           126816.65352567927,
           50261.254701188314,
           102210.14529304534,
           25.831455346184246,
           74.16854465381574,
           4,
           "Africa",
           "Middle Africa",
           9.4868330078125,
           12.326245761590249,
           19.83341821067893,
           5.586748081706503,
           9.114641152445355,
           4.497799251383252,
           4.5031666729291135,
           4.340559139340891,
           4.501686430375665
          ],
          [
           "Sao Tome and Principe",
           223364,
           104082.67372995873,
           119262.8870463734,
           96556.66252941346,
           24444.029221529563,
           83463.69595819896,
           53.39396099925386,
           46.59778376549431,
           97,
           "Africa",
           "Middle Africa",
           5.09902001953125,
           14.572166811839615,
           20.169640517409043,
           9.857957268234845,
           12.24148794019122,
           4.541645913489362,
           4.587999052399462,
           4.406634812704987,
           4.556987379827522
          ],
          [
           "Suriname",
           591798,
           513803.8767806918,
           74059.98916678307,
           330589.54988555366,
           138026.81855352296,
           312703.3636440902,
           12.5144034225839,
           86.82082007385827,
           80,
           "Americas",
           "South America",
           2.23606811523438,
           7.937907327250659,
           20.64631846019125,
           5.069575326310192,
           6.7176543669866415,
           4.655265528662249,
           4.671537726807648,
           4.580867828320163,
           4.659999897170047
          ],
          [
           "Slovakia",
           5460726,
           4885172.412612912,
           575553.5873870879,
           4871643.532882803,
           3006791.2664879914,
           4227731.27724963,
           10.539873038623213,
           89.46012696137679,
           98,
           "Europe",
           "Eastern Europe",
           2.82842700195312,
           12.449296157642618,
           19.924404292699418,
           4.510549726284554,
           11.276394891796265,
           4.681659795743949,
           4.728166190078853,
           4.538039508726278,
           4.684904765548287
          ],
          [
           "Slovenia",
           2078723,
           1929155.3585668623,
           149567.64143313767,
           1883697.6400645394,
           1575299.9304680577,
           1486254.0221517177,
           7.195169410890132,
           92.80483058910987,
           97.9821428571429,
           "Europe",
           "Southern Europe",
           2.82842700195312,
           11.59479609806116,
           19.400978654090505,
           4.9419654158999995,
           11.004499434917657,
           4.657891022395849,
           4.7248228921137505,
           4.440186069775491,
           4.669028016895373
          ],
          [
           "Sweden",
           10160159,
           9123558.163844045,
           1026205.034492501,
           7134319.111231561,
           6176610.462373289,
           6334051.910438303,
           10.100285187392256,
           89.7973955313499,
           88,
           "Europe",
           "Northern Europe",
           2.23606811523438,
           11.978140318798472,
           20.59088210690474,
           4.595235379714939,
           13.005387345032421,
           4.695667523613428,
           4.710928948856559,
           4.517423923961763,
           4.6983584611984455
          ],
          [
           "Eswatini",
           1172369.0000000002,
           890446.2253376177,
           281922.77466238255,
           589230.1291532816,
           49926.9330038253,
           585944.367828614,
           24.04727305672382,
           75.95272694327619,
           61,
           "Africa",
           "Southern Africa",
           2.23606811523438,
           11.514238343113824,
           17.400616736260687,
           5.06714237368423,
           11.523366811169712,
           4.605854209182113,
           4.641869054203317,
           4.527414266625619,
           4.606231593873336
          ],
          [
           "Syria",
           18275703.999999996,
           10484977.268633246,
           7790397.486684023,
           5535046.441297232,
           2102737.1169685866,
           4388917.861399219,
           42.627071912983624,
           57.37112654392546,
           71,
           "Asia",
           "Western Asia",
           8.0622578125,
           13.692113993602305,
           20.60669645862014,
           4.964162234560373,
           15.059164773209343,
           4.689943389465415,
           4.700044347977914,
           4.58247227124361,
           4.6945139287929205
          ],
          [
           "Chad",
           16914985,
           8769041.421176497,
           8145926.179260586,
           509298.6503144857,
           165119.9672819297,
           438444.1822070777,
           48.15804553926939,
           51.84185159594582,
           20,
           "Africa",
           "Middle Africa",
           20,
           11.213745213314017,
           20.82577762073231,
           5.519095774721232,
           8.795723697490834,
           4.507914629789729,
           4.515316249331663,
           4.3431550111927395,
           4.511979301720515
          ],
          [
           "Togo",
           8478242,
           5384132.445715129,
           3094109.554284871,
           1399358.7057151292,
           614509.645838405,
           1159989.7426496074,
           36.4947067361945,
           63.505293263805505,
           25,
           "Africa",
           "Western Africa",
           3.60555102539062,
           12.232510810946092,
           20.232358614112723,
           5.733097608666563,
           13.800587652146039,
           4.536085613203077,
           4.549372180081578,
           4.4713128925091805,
           4.539360529361072
          ],
          [
           "Thailand",
           69950844,
           62197468.24894854,
           7753373.793742007,
           50394106.34092055,
           32102779.84072082,
           43139920.991037115,
           11.084031800591292,
           88.91596540128742,
           81,
           "Asia",
           "South-Eastern Asia",
           2.82842700195312,
           14.337480844177636,
           20.75561164519845,
           5.2363872593441085,
           15.379411262706718,
           4.553358189040225,
           4.582391739322964,
           4.408816663894689,
           4.573978537670232
          ],
          [
           "Tajikistan",
           9749624.999999998,
           6033501.024645053,
           3716123.9753549453,
           3876717.5325385206,
           1107410.9588530813,
           3640950.0048454367,
           38.11555803792398,
           61.88444196207602,
           65,
           "Asia",
           "Central Asia",
           3.60555102539062,
           8.10784958388758,
           20.076394076917357,
           4.816160953423541,
           5.858501628123928,
           4.497364463277521,
           4.6403760804321585,
           4.32688474091105,
           4.481115803669946
          ],
          [
           "Turkmenistan",
           6117932.999999999,
           5181297.704550209,
           936515.636851099,
           614434.391332586,
           105831.54591124193,
           585273.7001396364,
           15.307713190894686,
           84.69033094266005,
           52,
           "Asia",
           "Central Asia",
           17.691810546875,
           14.240975784142675,
           20.640565925553133,
           4.877507870823604,
           15.742638856506575,
           4.668262380280011,
           4.675790531173932,
           4.516416733134287,
           4.672247917023001
          ],
          [
           "Timor",
           1343874.9999999998,
           269185.6199323808,
           1074689.380067619,
           30157.68739295076,
           11419.069990199558,
           21054.62629522607,
           79.96944507990843,
           20.03055492009159,
           66,
           "Asia",
           "South-Eastern Asia",
           35,
           12.548689706505172,
           20.449557898852795,
           10.029372051551238,
           11.273480358364129,
           4.32817768700285,
           4.388837135162918,
           4.237755027922278,
           4.323120614053357
          ],
          [
           "Trinidad and Tobago",
           1403374,
           898911.2985348586,
           504459.3940752214,
           562608.7957040182,
           358542.9418557419,
           408703.89314695843,
           35.946183560135886,
           64.0535807657017,
           93,
           "Americas",
           "Caribbean",
           5.3851650390625,
           13.228225629139223,
           20.599552271543793,
           4.830415599201674,
           14.233453601852872,
           4.684791769183445,
           4.704995069129987,
           4.565479580744635,
           4.696604274592833
          ],
          [
           "Tunisia",
           11935764,
           4955518.845404182,
           6980240.238801854,
           3255212.898628644,
           1496389.988093877,
           2518721.0518899723,
           58.48172131085915,
           41.51823750372562,
           93,
           "Africa",
           "Northern Africa",
           14.035669921875,
           11.792729719751131,
           20.6467415531201,
           5.027474891831615,
           12.125405007371247,
           4.658667976394036,
           4.671223357696672,
           4.571914778980946,
           4.663338612343875
          ],
          [
           "Turkey",
           85042736,
           61132582.71179606,
           23910126.411694583,
           52219433.51354936,
           21153978.376103114,
           45317950.601672135,
           28.115424710341614,
           71.88454368612513,
           95,
           "Asia",
           "Western Asia",
           3.60555102539062,
           11.400716779609848,
           20.58674569209807,
           4.52414640787216,
           10.862787544808551,
           4.654012776020774,
           4.713731661218993,
           4.44791466843682,
           4.663835444385848
          ],
          [
           "Taiwan",
           23855008,
           20175768.634467088,
           3679239.3655329105,
           13749115.406731077,
           7864531.5299417805,
           12150341.318366189,
           15.42334157059562,
           84.57665842940438,
           86.1428571428571,
           "Asia",
           "Eastern Asia",
           3,
           13.046733958738788,
           20.708734194596193,
           4.926807754672137,
           10.97610464380672,
           4.522544591239419,
           4.6226841721866725,
           4.34802796731138,
           4.546974813729044
          ],
          [
           "Tanzania",
           61498438,
           39162654.66876099,
           22335551.42430377,
           16801168.684873503,
           8218106.395914536,
           15137675.994636621,
           36.318892236423586,
           63.6807306695513,
           38,
           "Africa",
           "Eastern Africa",
           3,
           10.083420853476213,
           20.831667349345576,
           5.535528581795032,
           8.270469230697637,
           4.490473298020829,
           4.509273108086062,
           4.332296396150958,
           4.497134889124474
          ],
          [
           "Uganda",
           47123533,
           37904956.74133743,
           9218549.410851452,
           10670864.833699243,
           4741619.586972285,
           9426463.031362412,
           19.562517544793284,
           80.43742548195067,
           23,
           "Africa",
           "Eastern Africa",
           3,
           12.390537168455563,
           20.85055482612201,
           5.6004205041715585,
           12.65944060110418,
           4.471159207079987,
           4.48942212261571,
           4.302128651128854,
           4.477539529210966
          ],
          [
           "Ukraine",
           43466821.99999999,
           40486764.60441115,
           2980009.20427248,
           12891369.720905429,
           6262996.943256311,
           11121430.83498174,
           6.855824896221953,
           93.14406423458139,
           64,
           "Europe",
           "Eastern Europe",
           3.16227807617188,
           14.932257230828052,
           20.573797540153578,
           4.5900926480533375,
           15.038083029266366,
           4.711198096184072,
           4.722389286665916,
           4.558838582656615,
           4.7153786955428005
          ],
          [
           "Uruguay",
           3485152,
           2251839.194878951,
           1231973.4653830514,
           2251839.194878951,
           1900833.7866524702,
           1211616.8734086333,
           35.34920328820813,
           64.61236683160307,
           100,
           "Americas",
           "South America",
           8.0622578125,
           14.650063087331471,
           20.600226575074664,
           6.523022905053956,
           14.509143577726856,
           4.694223871203391,
           4.704530177245916,
           4.662047366473983,
           4.695449303692752
          ],
          [
           "United States",
           332915074.00000006,
           248709863.60993597,
           84126069.30366455,
           242282251.62397692,
           164945910.23260477,
           179378790.74150816,
           25.269528439455563,
           74.70669940584784,
           99,
           "Americas",
           "Northern America",
           4.12310498046875,
           12.729252923463768,
           20.512600809430786,
           4.282725161485349,
           13.686205012307072,
           4.739729722606911,
           4.761072420635571,
           4.499697718067999,
           4.7516164801230545
          ],
          [
           "Uzbekistan",
           33935765.00000001,
           26102617.034173094,
           7833137.330072994,
           14730711.163091134,
           5800361.636675569,
           13475704.732783409,
           23.082247681975026,
           76.91772097718466,
           70,
           "Asia",
           "Central Asia",
           3.60555102539062,
           12.367501712309123,
           20.66734706339499,
           4.787218425860937,
           11.132846481018818,
           4.642024279814788,
           4.655645097069514,
           4.399473588672176,
           4.652561192931361
          ],
          [
           "Venezuela",
           28704946.999999996,
           17160895.663244296,
           11541604.401327629,
           11187192.229526302,
           4910871.328695752,
           8961052.114264064,
           40.20771890408866,
           59.78375665784821,
           79,
           "Americas",
           "South America",
           5.3851650390625,
           10.706709159845179,
           20.66387841157732,
           4.7620571690434605,
           9.6081515975592,
           4.629068067542093,
           4.6583047582087245,
           4.38618054589214,
           4.648660190025497
          ],
          [
           "Vietnam",
           98168829.00000001,
           92088653.50761417,
           6080163.9290852975,
           52403466.018323295,
           37774085.14107037,
           46634940.635170266,
           6.193578950692482,
           93.80640927031344,
           48,
           "Asia",
           "South-Eastern Asia",
           2.23606811523438,
           13.422792448565572,
           20.88587960315415,
           5.729829593481264,
           11.611370248997527,
           4.394803946367164,
           4.45024762999595,
           4.230136944469427,
           4.4115524653755855
          ],
          [
           "Vanuatu",
           314464,
           232250.23078600678,
           82212.42795109181,
           78962.8594408958,
           10701.60788777293,
           77271.0567728355,
           26.143669212085268,
           73.85590426440126,
           48,
           "Oceania",
           "Melanesia",
           4,
           9.052227082039751,
           20.69827436153801,
           4.928411962565963,
           8.387602379090875,
           4.597914974671225,
           4.631234441095316,
           4.405221097753072,
           4.616189330305669
          ],
          [
           "Samoa",
           200144,
           113727.09318900878,
           86416.90681099123,
           90099.20633539231,
           54353.75775740752,
           63884.39517094867,
           43.17736570219004,
           56.82263429780997,
           84,
           "Oceania",
           "Polynesia",
           6.7082041015625,
           12.47017068208766,
           20.41914710752468,
           4.248803074928519,
           11.093211147113436,
           4.781803917292337,
           4.813849273694779,
           4.699972595459057,
           4.788804619490497
          ],
          [
           "Yemen",
           30490638.999999996,
           13515149.503381317,
           16971187.52788727,
           1253499.2983531007,
           302036.92746424756,
           1049252.724844346,
           55.660320952562756,
           44.32556990157313,
           56,
           "Asia",
           "Western Asia",
           21.9317109375,
           10.464040111970936,
           20.841475952452853,
           5.577729128400757,
           10.04025644937315,
           4.465553247653131,
           4.499055238236355,
           4.259224749833785,
           4.479829619846873
          ],
          [
           "South Africa",
           60041995.99999999,
           43668987.20909443,
           16357906.416960968,
           35477318.840426475,
           6019033.396893249,
           33934207.39953142,
           27.244108302064056,
           72.73073868013054,
           91,
           "Africa",
           "Southern Africa",
           3.16227807617188,
           13.851297282111293,
           20.675373213088523,
           4.871301920910196,
           13.745738126380456,
           4.624793682297901,
           4.649431632903454,
           4.442402001063669,
           4.635715999254604
          ],
          [
           "Zambia",
           18920657,
           11258046.8946268,
           7662610.105373203,
           1545813.8640740672,
           796931.3417301507,
           1260744.9871109705,
           40.49864708912171,
           59.5013529108783,
           32,
           "Africa",
           "Eastern Africa",
           3,
           11.52158512414638,
           20.845880208072483,
           5.843064275520225,
           9.157282809901035,
           4.484338557069316,
           4.494403469028133,
           4.3950392534264395,
           4.4868144738557145
          ],
          [
           "Zimbabwe",
           15092171,
           9950231.337500231,
           5141939.66249977,
           1538791.7995535275,
           477629.1279383105,
           1371011.2036372314,
           34.07024517877362,
           65.9297548212264,
           27,
           "Africa",
           "Eastern Africa",
           3.60555102539062,
           14.0317442643233,
           20.782965345887355,
           5.408950095811573,
           14.417656843127983,
           4.542170987212607,
           4.557273656641943,
           4.416235942082015,
           4.546835286538935
          ]
         ],
         "geo": "geo",
         "hovertemplate": "<b>%{hovertext}</b><br><br>ISOCODE=%{location}<br>Entity=%{customdata[0]}<br>country_pop_raw=%{customdata[1]}<br>country_pop_with_water=%{customdata[2]}<br>country_pop_without_water=%{customdata[3]}<br>population_piped_with_access=%{customdata[4]}<br>population_piped_with_cycling_access=%{customdata[5]}<br>population_piped_with_walking_access=%{customdata[6]}<br>percent_without_water=%{z}<br>percent_with_water=%{customdata[8]}<br>Nat Piped=%{customdata[9]}<br>region=%{customdata[10]}<br>subregion=%{customdata[11]}<br>weighted_med=%{customdata[12]}<br>mean_max_distance_cycling=%{customdata[13]}<br>max_max_distance_cycling=%{customdata[14]}<br>min_max_distance_cycling=%{customdata[15]}<br>median_max_distance_cycling=%{customdata[16]}<br>mean_max_distance_walking=%{customdata[17]}<br>max_max_distance_walking=%{customdata[18]}<br>min_max_distance_walking=%{customdata[19]}<br>median_max_distance_walking=%{customdata[20]}<extra></extra>",
         "hovertext": [
          "Afghanistan",
          "Angola",
          "Albania",
          "Andorra",
          "United Arab Emirates",
          "Argentina",
          "Armenia",
          "Australia",
          "Austria",
          "Azerbaijan",
          "Burundi",
          "Belgium",
          "Benin",
          "Burkina Faso",
          "Bangladesh",
          "Bulgaria",
          "Bahamas",
          "Bosnia and Herzegovina",
          "Belarus",
          "Belize",
          "Bolivia",
          "Brazil",
          "Brunei",
          "Bhutan",
          "Botswana",
          "Central African Republic",
          "Canada",
          "Switzerland",
          "Chile",
          "China",
          "Cote d'Ivoire",
          "Cameroon",
          "Democratic Republic of Congo",
          "Congo",
          "Colombia",
          "Costa Rica",
          "Cuba",
          "Cyprus",
          "Czechia",
          "Germany",
          "Djibouti",
          "Denmark",
          "Dominican Republic",
          "Algeria",
          "Ecuador",
          "Egypt",
          "Eritrea",
          "Western Sahara",
          "Spain",
          "Estonia",
          "Ethiopia",
          "Finland",
          "Fiji",
          "Falkland Islands",
          "France",
          "Faeroe Islands",
          "Gabon",
          "United Kingdom",
          "Georgia",
          "Ghana",
          "Guinea",
          "Guadeloupe",
          "Gambia",
          "Guinea-Bissau",
          "Equatorial Guinea",
          "Greece",
          "Grenada",
          "Greenland",
          "Guatemala",
          "French Guiana",
          "Guyana",
          "Hong Kong",
          "Honduras",
          "Croatia",
          "Haiti",
          "Hungary",
          "Indonesia",
          "Isle of Man",
          "India",
          "Ireland",
          "Iran",
          "Iraq",
          "Iceland",
          "Israel",
          "Italy",
          "Jamaica",
          "Jordan",
          "Japan",
          "Kazakhstan",
          "Kenya",
          "Kyrgyzstan",
          "Cambodia",
          "South Korea",
          "Kuwait",
          "Laos",
          "Lebanon",
          "Liberia",
          "Libya",
          "Saint Lucia",
          "Liechtenstein",
          "Sri Lanka",
          "Lesotho",
          "Lithuania",
          "Luxembourg",
          "Latvia",
          "Morocco",
          "Moldova",
          "Madagascar",
          "Mexico",
          "North Macedonia",
          "Mali",
          "Malta",
          "Myanmar",
          "Montenegro",
          "Mongolia",
          "Mozambique",
          "Mauritania",
          "Montserrat",
          "Martinique",
          "Mauritius",
          "Malawi",
          "Malaysia",
          "Namibia",
          "New Caledonia",
          "Niger",
          "Nigeria",
          "Nicaragua",
          "Netherlands",
          "Norway",
          "Nepal",
          "New Zealand",
          "Oman",
          "Pakistan",
          "Panama",
          "Peru",
          "Philippines",
          "Papua New Guinea",
          "Poland",
          "Puerto Rico",
          "North Korea",
          "Portugal",
          "Paraguay",
          "Palestine",
          "Qatar",
          "Reunion",
          "Romania",
          "Russia",
          "Rwanda",
          "Saudi Arabia",
          "Sudan",
          "Senegal",
          "Singapore",
          "Solomon Islands",
          "Sierra Leone",
          "El Salvador",
          "Somalia",
          "Serbia",
          "South Sudan",
          "Sao Tome and Principe",
          "Suriname",
          "Slovakia",
          "Slovenia",
          "Sweden",
          "Eswatini",
          "Syria",
          "Chad",
          "Togo",
          "Thailand",
          "Tajikistan",
          "Turkmenistan",
          "Timor",
          "Trinidad and Tobago",
          "Tunisia",
          "Turkey",
          "Taiwan",
          "Tanzania",
          "Uganda",
          "Ukraine",
          "Uruguay",
          "United States",
          "Uzbekistan",
          "Venezuela",
          "Vietnam",
          "Vanuatu",
          "Samoa",
          "Yemen",
          "South Africa",
          "Zambia",
          "Zimbabwe"
         ],
         "locations": [
          "AFG",
          "AGO",
          "ALB",
          "AND",
          "ARE",
          "ARG",
          "ARM",
          "AUS",
          "AUT",
          "AZE",
          "BDI",
          "BEL",
          "BEN",
          "BFA",
          "BGD",
          "BGR",
          "BHS",
          "BIH",
          "BLR",
          "BLZ",
          "BOL",
          "BRA",
          "BRN",
          "BTN",
          "BWA",
          "CAF",
          "CAN",
          "CHE",
          "CHL",
          "CHN",
          "CIV",
          "CMR",
          "COD",
          "COG",
          "COL",
          "CRI",
          "CUB",
          "CYP",
          "CZE",
          "DEU",
          "DJI",
          "DNK",
          "DOM",
          "DZA",
          "ECU",
          "EGY",
          "ERI",
          "ESH",
          "ESP",
          "EST",
          "ETH",
          "FIN",
          "FJI",
          "FLK",
          "FRA",
          "FRO",
          "GAB",
          "GBR",
          "GEO",
          "GHA",
          "GIN",
          "GLP",
          "GMB",
          "GNB",
          "GNQ",
          "GRC",
          "GRD",
          "GRL",
          "GTM",
          "GUF",
          "GUY",
          "HKG",
          "HND",
          "HRV",
          "HTI",
          "HUN",
          "IDN",
          "IMN",
          "IND",
          "IRL",
          "IRN",
          "IRQ",
          "ISL",
          "ISR",
          "ITA",
          "JAM",
          "JOR",
          "JPN",
          "KAZ",
          "KEN",
          "KGZ",
          "KHM",
          "KOR",
          "KWT",
          "LAO",
          "LBN",
          "LBR",
          "LBY",
          "LCA",
          "LIE",
          "LKA",
          "LSO",
          "LTU",
          "LUX",
          "LVA",
          "MAR",
          "MDA",
          "MDG",
          "MEX",
          "MKD",
          "MLI",
          "MLT",
          "MMR",
          "MNE",
          "MNG",
          "MOZ",
          "MRT",
          "MSR",
          "MTQ",
          "MUS",
          "MWI",
          "MYS",
          "NAM",
          "NCL",
          "NER",
          "NGA",
          "NIC",
          "NLD",
          "NOR",
          "NPL",
          "NZL",
          "OMN",
          "PAK",
          "PAN",
          "PER",
          "PHL",
          "PNG",
          "POL",
          "PRI",
          "PRK",
          "PRT",
          "PRY",
          "PSE",
          "QAT",
          "REU",
          "ROU",
          "RUS",
          "RWA",
          "SAU",
          "SDN",
          "SEN",
          "SGP",
          "SLB",
          "SLE",
          "SLV",
          "SOM",
          "SRB",
          "SSD",
          "STP",
          "SUR",
          "SVK",
          "SVN",
          "SWE",
          "SWZ",
          "SYR",
          "TCD",
          "TGO",
          "THA",
          "TJK",
          "TKM",
          "TLS",
          "TTO",
          "TUN",
          "TUR",
          "TWN",
          "TZA",
          "UGA",
          "UKR",
          "URY",
          "USA",
          "UZB",
          "VEN",
          "VNM",
          "VUT",
          "WSM",
          "YEM",
          "ZAF",
          "ZMB",
          "ZWE"
         ],
         "name": "",
         "type": "choropleth",
         "z": [
          29.324534241332078,
          61.712614165054646,
          13.391961456322768,
          20.95574025702756,
          99.95474802539132,
          28.975792912224264,
          23.378144942784836,
          18.24231739597582,
          3.8792274899061847,
          19.438709282669166,
          29.229162708698208,
          8.719038547644374,
          38.13049771599646,
          31.4146295189556,
          5.554435124626989,
          25.977861869815854,
          38.76945064355294,
          23.42581433053214,
          16.505219348720075,
          10.773298982648774,
          27.572057302583193,
          32.19567845553301,
          14.018194448293949,
          42.187832139243106,
          74.4214167733751,
          50.67091730919472,
          13.334264011432264,
          6.094653956609191,
          26.0273232914503,
          14.799128618838983,
          37.59000381495895,
          36.950742661112066,
          65.71723676631692,
          47.972850125349254,
          29.78280720752587,
          12.654978051179846,
          26.235783523470644,
          36.225757454441485,
          17.58043520171197,
          8.448404969933849,
          68.330341731858,
          19.07795442618834,
          33.127249537083216,
          35.936749422747134,
          28.419554664060144,
          40.69123421062948,
          55.701330889053345,
          70.43496981963905,
          22.716813757311314,
          21.331005511455466,
          48.970786936041755,
          11.731743658706534,
          37.05238916174542,
          55.984947409042064,
          9.687765334333918,
          42.047598868472335,
          46.15683043190459,
          13.232164726270426,
          18.29059480437524,
          26.258902093747604,
          26.36761057680489,
          48.83804899617193,
          29.18868133291288,
          45.65887225117044,
          39.40277342041229,
          56.61870589306541,
          47.872616796617976,
          59.75111098945525,
          26.215222225144725,
          15.011775399167812,
          11.72792160411593,
          76.73481105913524,
          27.87829441050605,
          24.730034675872744,
          41.33331639242711,
          18.58362875366776,
          14.160610120696049,
          40.878793702278394,
          13.579942414354502,
          18.47777765760325,
          49.36756169500558,
          26.33919129860347,
          35.106358963934504,
          70.86590746430123,
          14.637893475774593,
          33.830288484127394,
          59.014744922345805,
          14.153585049259048,
          32.1786141450411,
          38.57171096641095,
          22.096517555128116,
          15.58999036135804,
          25.141400759660687,
          92.01307239338159,
          18.051990369996947,
          55.5995021637339,
          25.000211227129576,
          70.92248872906244,
          68.82136623715141,
          4.172,
          21.879708324809194,
          27.86571219295853,
          16.67006664778812,
          18.706546441783477,
          16.04019038551835,
          57.62228605484868,
          18.27846984077658,
          64.50686418447947,
          44.62455816092232,
          14.39645215447187,
          35.85284605462231,
          45.35380173992071,
          22.83837472158928,
          27.651952220869774,
          29.715345738319165,
          42.91305663934942,
          68.3350084407153,
          56.53775864446649,
          55.64194616203765,
          17.510016847607027,
          11.53922985816455,
          25.71242041067287,
          76.68693078181174,
          37.42031117042236,
          64.78021095178988,
          27.576487163683865,
          32.31494671945184,
          6.034584620821022,
          16.75734145043226,
          9.658877286794368,
          21.761249788083415,
          82.16044993724977,
          9.105370107761967,
          25.219536125706526,
          47.05992849336256,
          16.836785605994088,
          52.30956173397996,
          23.458827764736427,
          17.126896271785824,
          24.31521978565354,
          32.31728968006759,
          28.509205097836105,
          56.6645004083765,
          85.30015578806233,
          38.87885976362811,
          6.668226637385087,
          27.252233596169766,
          32.77134988003438,
          83.38522409142935,
          48.72626270941895,
          68.55060828661517,
          47.69928189048111,
          47.549681661905524,
          43.43200011507584,
          17.555683752354117,
          45.31553015231851,
          21.126201270519573,
          25.831455346184246,
          53.39396099925386,
          12.5144034225839,
          10.539873038623213,
          7.195169410890132,
          10.100285187392256,
          24.04727305672382,
          42.627071912983624,
          48.15804553926939,
          36.4947067361945,
          11.084031800591292,
          38.11555803792398,
          15.307713190894686,
          79.96944507990843,
          35.946183560135886,
          58.48172131085915,
          28.115424710341614,
          15.42334157059562,
          36.318892236423586,
          19.562517544793284,
          6.855824896221953,
          35.34920328820813,
          25.269528439455563,
          23.082247681975026,
          40.20771890408866,
          6.193578950692482,
          26.143669212085268,
          43.17736570219004,
          55.660320952562756,
          27.244108302064056,
          40.49864708912171,
          34.07024517877362
         ]
        }
       ],
       "layout": {
        "coloraxis": {
         "cmax": 100,
         "cmin": 0,
         "colorbar": {
          "title": {
           "text": ""
          }
         },
         "colorscale": [
          [
           0,
           "rgb(255,255,229)"
          ],
          [
           0.125,
           "rgb(255,247,188)"
          ],
          [
           0.25,
           "rgb(254,227,145)"
          ],
          [
           0.375,
           "rgb(254,196,79)"
          ],
          [
           0.5,
           "rgb(254,153,41)"
          ],
          [
           0.625,
           "rgb(236,112,20)"
          ],
          [
           0.75,
           "rgb(204,76,2)"
          ],
          [
           0.875,
           "rgb(153,52,4)"
          ],
          [
           1,
           "rgb(102,37,6)"
          ]
         ]
        },
        "geo": {
         "center": {},
         "domain": {
          "x": [
           0,
           1
          ],
          "y": [
           0,
           1
          ]
         },
         "scope": "world"
        },
        "height": 600,
        "legend": {
         "tracegroupgap": 0
        },
        "template": {
         "data": {
          "bar": [
           {
            "error_x": {
             "color": "#2a3f5f"
            },
            "error_y": {
             "color": "#2a3f5f"
            },
            "marker": {
             "line": {
              "color": "#E5ECF6",
              "width": 0.5
             },
             "pattern": {
              "fillmode": "overlay",
              "size": 10,
              "solidity": 0.2
             }
            },
            "type": "bar"
           }
          ],
          "barpolar": [
           {
            "marker": {
             "line": {
              "color": "#E5ECF6",
              "width": 0.5
             },
             "pattern": {
              "fillmode": "overlay",
              "size": 10,
              "solidity": 0.2
             }
            },
            "type": "barpolar"
           }
          ],
          "carpet": [
           {
            "aaxis": {
             "endlinecolor": "#2a3f5f",
             "gridcolor": "white",
             "linecolor": "white",
             "minorgridcolor": "white",
             "startlinecolor": "#2a3f5f"
            },
            "baxis": {
             "endlinecolor": "#2a3f5f",
             "gridcolor": "white",
             "linecolor": "white",
             "minorgridcolor": "white",
             "startlinecolor": "#2a3f5f"
            },
            "type": "carpet"
           }
          ],
          "choropleth": [
           {
            "colorbar": {
             "outlinewidth": 0,
             "ticks": ""
            },
            "type": "choropleth"
           }
          ],
          "contour": [
           {
            "colorbar": {
             "outlinewidth": 0,
             "ticks": ""
            },
            "colorscale": [
             [
              0,
              "#0d0887"
             ],
             [
              0.1111111111111111,
              "#46039f"
             ],
             [
              0.2222222222222222,
              "#7201a8"
             ],
             [
              0.3333333333333333,
              "#9c179e"
             ],
             [
              0.4444444444444444,
              "#bd3786"
             ],
             [
              0.5555555555555556,
              "#d8576b"
             ],
             [
              0.6666666666666666,
              "#ed7953"
             ],
             [
              0.7777777777777778,
              "#fb9f3a"
             ],
             [
              0.8888888888888888,
              "#fdca26"
             ],
             [
              1,
              "#f0f921"
             ]
            ],
            "type": "contour"
           }
          ],
          "contourcarpet": [
           {
            "colorbar": {
             "outlinewidth": 0,
             "ticks": ""
            },
            "type": "contourcarpet"
           }
          ],
          "heatmap": [
           {
            "colorbar": {
             "outlinewidth": 0,
             "ticks": ""
            },
            "colorscale": [
             [
              0,
              "#0d0887"
             ],
             [
              0.1111111111111111,
              "#46039f"
             ],
             [
              0.2222222222222222,
              "#7201a8"
             ],
             [
              0.3333333333333333,
              "#9c179e"
             ],
             [
              0.4444444444444444,
              "#bd3786"
             ],
             [
              0.5555555555555556,
              "#d8576b"
             ],
             [
              0.6666666666666666,
              "#ed7953"
             ],
             [
              0.7777777777777778,
              "#fb9f3a"
             ],
             [
              0.8888888888888888,
              "#fdca26"
             ],
             [
              1,
              "#f0f921"
             ]
            ],
            "type": "heatmap"
           }
          ],
          "heatmapgl": [
           {
            "colorbar": {
             "outlinewidth": 0,
             "ticks": ""
            },
            "colorscale": [
             [
              0,
              "#0d0887"
             ],
             [
              0.1111111111111111,
              "#46039f"
             ],
             [
              0.2222222222222222,
              "#7201a8"
             ],
             [
              0.3333333333333333,
              "#9c179e"
             ],
             [
              0.4444444444444444,
              "#bd3786"
             ],
             [
              0.5555555555555556,
              "#d8576b"
             ],
             [
              0.6666666666666666,
              "#ed7953"
             ],
             [
              0.7777777777777778,
              "#fb9f3a"
             ],
             [
              0.8888888888888888,
              "#fdca26"
             ],
             [
              1,
              "#f0f921"
             ]
            ],
            "type": "heatmapgl"
           }
          ],
          "histogram": [
           {
            "marker": {
             "pattern": {
              "fillmode": "overlay",
              "size": 10,
              "solidity": 0.2
             }
            },
            "type": "histogram"
           }
          ],
          "histogram2d": [
           {
            "colorbar": {
             "outlinewidth": 0,
             "ticks": ""
            },
            "colorscale": [
             [
              0,
              "#0d0887"
             ],
             [
              0.1111111111111111,
              "#46039f"
             ],
             [
              0.2222222222222222,
              "#7201a8"
             ],
             [
              0.3333333333333333,
              "#9c179e"
             ],
             [
              0.4444444444444444,
              "#bd3786"
             ],
             [
              0.5555555555555556,
              "#d8576b"
             ],
             [
              0.6666666666666666,
              "#ed7953"
             ],
             [
              0.7777777777777778,
              "#fb9f3a"
             ],
             [
              0.8888888888888888,
              "#fdca26"
             ],
             [
              1,
              "#f0f921"
             ]
            ],
            "type": "histogram2d"
           }
          ],
          "histogram2dcontour": [
           {
            "colorbar": {
             "outlinewidth": 0,
             "ticks": ""
            },
            "colorscale": [
             [
              0,
              "#0d0887"
             ],
             [
              0.1111111111111111,
              "#46039f"
             ],
             [
              0.2222222222222222,
              "#7201a8"
             ],
             [
              0.3333333333333333,
              "#9c179e"
             ],
             [
              0.4444444444444444,
              "#bd3786"
             ],
             [
              0.5555555555555556,
              "#d8576b"
             ],
             [
              0.6666666666666666,
              "#ed7953"
             ],
             [
              0.7777777777777778,
              "#fb9f3a"
             ],
             [
              0.8888888888888888,
              "#fdca26"
             ],
             [
              1,
              "#f0f921"
             ]
            ],
            "type": "histogram2dcontour"
           }
          ],
          "mesh3d": [
           {
            "colorbar": {
             "outlinewidth": 0,
             "ticks": ""
            },
            "type": "mesh3d"
           }
          ],
          "parcoords": [
           {
            "line": {
             "colorbar": {
              "outlinewidth": 0,
              "ticks": ""
             }
            },
            "type": "parcoords"
           }
          ],
          "pie": [
           {
            "automargin": true,
            "type": "pie"
           }
          ],
          "scatter": [
           {
            "fillpattern": {
             "fillmode": "overlay",
             "size": 10,
             "solidity": 0.2
            },
            "type": "scatter"
           }
          ],
          "scatter3d": [
           {
            "line": {
             "colorbar": {
              "outlinewidth": 0,
              "ticks": ""
             }
            },
            "marker": {
             "colorbar": {
              "outlinewidth": 0,
              "ticks": ""
             }
            },
            "type": "scatter3d"
           }
          ],
          "scattercarpet": [
           {
            "marker": {
             "colorbar": {
              "outlinewidth": 0,
              "ticks": ""
             }
            },
            "type": "scattercarpet"
           }
          ],
          "scattergeo": [
           {
            "marker": {
             "colorbar": {
              "outlinewidth": 0,
              "ticks": ""
             }
            },
            "type": "scattergeo"
           }
          ],
          "scattergl": [
           {
            "marker": {
             "colorbar": {
              "outlinewidth": 0,
              "ticks": ""
             }
            },
            "type": "scattergl"
           }
          ],
          "scattermapbox": [
           {
            "marker": {
             "colorbar": {
              "outlinewidth": 0,
              "ticks": ""
             }
            },
            "type": "scattermapbox"
           }
          ],
          "scatterpolar": [
           {
            "marker": {
             "colorbar": {
              "outlinewidth": 0,
              "ticks": ""
             }
            },
            "type": "scatterpolar"
           }
          ],
          "scatterpolargl": [
           {
            "marker": {
             "colorbar": {
              "outlinewidth": 0,
              "ticks": ""
             }
            },
            "type": "scatterpolargl"
           }
          ],
          "scatterternary": [
           {
            "marker": {
             "colorbar": {
              "outlinewidth": 0,
              "ticks": ""
             }
            },
            "type": "scatterternary"
           }
          ],
          "surface": [
           {
            "colorbar": {
             "outlinewidth": 0,
             "ticks": ""
            },
            "colorscale": [
             [
              0,
              "#0d0887"
             ],
             [
              0.1111111111111111,
              "#46039f"
             ],
             [
              0.2222222222222222,
              "#7201a8"
             ],
             [
              0.3333333333333333,
              "#9c179e"
             ],
             [
              0.4444444444444444,
              "#bd3786"
             ],
             [
              0.5555555555555556,
              "#d8576b"
             ],
             [
              0.6666666666666666,
              "#ed7953"
             ],
             [
              0.7777777777777778,
              "#fb9f3a"
             ],
             [
              0.8888888888888888,
              "#fdca26"
             ],
             [
              1,
              "#f0f921"
             ]
            ],
            "type": "surface"
           }
          ],
          "table": [
           {
            "cells": {
             "fill": {
              "color": "#EBF0F8"
             },
             "line": {
              "color": "white"
             }
            },
            "header": {
             "fill": {
              "color": "#C8D4E3"
             },
             "line": {
              "color": "white"
             }
            },
            "type": "table"
           }
          ]
         },
         "layout": {
          "annotationdefaults": {
           "arrowcolor": "#2a3f5f",
           "arrowhead": 0,
           "arrowwidth": 1
          },
          "autotypenumbers": "strict",
          "coloraxis": {
           "colorbar": {
            "outlinewidth": 0,
            "ticks": ""
           }
          },
          "colorscale": {
           "diverging": [
            [
             0,
             "#8e0152"
            ],
            [
             0.1,
             "#c51b7d"
            ],
            [
             0.2,
             "#de77ae"
            ],
            [
             0.3,
             "#f1b6da"
            ],
            [
             0.4,
             "#fde0ef"
            ],
            [
             0.5,
             "#f7f7f7"
            ],
            [
             0.6,
             "#e6f5d0"
            ],
            [
             0.7,
             "#b8e186"
            ],
            [
             0.8,
             "#7fbc41"
            ],
            [
             0.9,
             "#4d9221"
            ],
            [
             1,
             "#276419"
            ]
           ],
           "sequential": [
            [
             0,
             "#0d0887"
            ],
            [
             0.1111111111111111,
             "#46039f"
            ],
            [
             0.2222222222222222,
             "#7201a8"
            ],
            [
             0.3333333333333333,
             "#9c179e"
            ],
            [
             0.4444444444444444,
             "#bd3786"
            ],
            [
             0.5555555555555556,
             "#d8576b"
            ],
            [
             0.6666666666666666,
             "#ed7953"
            ],
            [
             0.7777777777777778,
             "#fb9f3a"
            ],
            [
             0.8888888888888888,
             "#fdca26"
            ],
            [
             1,
             "#f0f921"
            ]
           ],
           "sequentialminus": [
            [
             0,
             "#0d0887"
            ],
            [
             0.1111111111111111,
             "#46039f"
            ],
            [
             0.2222222222222222,
             "#7201a8"
            ],
            [
             0.3333333333333333,
             "#9c179e"
            ],
            [
             0.4444444444444444,
             "#bd3786"
            ],
            [
             0.5555555555555556,
             "#d8576b"
            ],
            [
             0.6666666666666666,
             "#ed7953"
            ],
            [
             0.7777777777777778,
             "#fb9f3a"
            ],
            [
             0.8888888888888888,
             "#fdca26"
            ],
            [
             1,
             "#f0f921"
            ]
           ]
          },
          "colorway": [
           "#636efa",
           "#EF553B",
           "#00cc96",
           "#ab63fa",
           "#FFA15A",
           "#19d3f3",
           "#FF6692",
           "#B6E880",
           "#FF97FF",
           "#FECB52"
          ],
          "font": {
           "color": "#2a3f5f"
          },
          "geo": {
           "bgcolor": "white",
           "lakecolor": "white",
           "landcolor": "#E5ECF6",
           "showlakes": true,
           "showland": true,
           "subunitcolor": "white"
          },
          "hoverlabel": {
           "align": "left"
          },
          "hovermode": "closest",
          "mapbox": {
           "style": "light"
          },
          "paper_bgcolor": "white",
          "plot_bgcolor": "#E5ECF6",
          "polar": {
           "angularaxis": {
            "gridcolor": "white",
            "linecolor": "white",
            "ticks": ""
           },
           "bgcolor": "#E5ECF6",
           "radialaxis": {
            "gridcolor": "white",
            "linecolor": "white",
            "ticks": ""
           }
          },
          "scene": {
           "xaxis": {
            "backgroundcolor": "#E5ECF6",
            "gridcolor": "white",
            "gridwidth": 2,
            "linecolor": "white",
            "showbackground": true,
            "ticks": "",
            "zerolinecolor": "white"
           },
           "yaxis": {
            "backgroundcolor": "#E5ECF6",
            "gridcolor": "white",
            "gridwidth": 2,
            "linecolor": "white",
            "showbackground": true,
            "ticks": "",
            "zerolinecolor": "white"
           },
           "zaxis": {
            "backgroundcolor": "#E5ECF6",
            "gridcolor": "white",
            "gridwidth": 2,
            "linecolor": "white",
            "showbackground": true,
            "ticks": "",
            "zerolinecolor": "white"
           }
          },
          "shapedefaults": {
           "line": {
            "color": "#2a3f5f"
           }
          },
          "ternary": {
           "aaxis": {
            "gridcolor": "white",
            "linecolor": "white",
            "ticks": ""
           },
           "baxis": {
            "gridcolor": "white",
            "linecolor": "white",
            "ticks": ""
           },
           "bgcolor": "#E5ECF6",
           "caxis": {
            "gridcolor": "white",
            "linecolor": "white",
            "ticks": ""
           }
          },
          "title": {
           "x": 0.05
          },
          "xaxis": {
           "automargin": true,
           "gridcolor": "white",
           "linecolor": "white",
           "ticks": "",
           "title": {
            "standoff": 15
           },
           "zerolinecolor": "white",
           "zerolinewidth": 2
          },
          "yaxis": {
           "automargin": true,
           "gridcolor": "white",
           "linecolor": "white",
           "ticks": "",
           "title": {
            "standoff": 15
           },
           "zerolinecolor": "white",
           "zerolinewidth": 2
          }
         }
        },
        "title": {
         "text": "Percent of Population Has to Relocate"
        }
       }
      }
     },
     "metadata": {},
     "output_type": "display_data"
    }
   ],
   "source": [
    "# create choropleth map of population with water from df_country\n",
    "\n",
    "hover_data_list =[\n",
    "    \"Entity\",\n",
    "    \"country_pop_raw\",\n",
    "    \"country_pop_with_water\",\n",
    "    \"country_pop_without_water\",\n",
    "    \"population_piped_with_access\",\n",
    "    \"population_piped_with_cycling_access\",\n",
    "    \"population_piped_with_walking_access\",\n",
    "    \"percent_without_water\",\n",
    "    \"percent_with_water\",\n",
    "    \"Nat Piped\",\n",
    "    \"region\",\n",
    "    \"subregion\",\n",
    "    \"weighted_med\",\n",
    "    \"mean_max_distance_cycling\", \n",
    "    \"max_max_distance_cycling\", \n",
    "    \"min_max_distance_cycling\",\n",
    "    \"median_max_distance_cycling\", \n",
    "    \"mean_max_distance_walking\", \n",
    "    \"max_max_distance_walking\",\n",
    "    \"min_max_distance_walking\", \n",
    "    \"median_max_distance_walking\",\n",
    "    ]\n",
    "\n",
    "\n",
    "choro = px.choropleth(\n",
    "    title=\"Percent of Population Has to Relocate\",\n",
    "    data_frame=df_countries,\n",
    "    locations=\"ISOCODE\",\n",
    "    height=600,\n",
    "    color=\"percent_without_water\",\n",
    "    # use constant colorbar grading (not relative)\n",
    "    color_continuous_scale=\"ylorbr\",\n",
    "    range_color=(0, 100),\n",
    "    scope=\"world\",\n",
    "    hover_name=\"Entity\",\n",
    "    hover_data=hover_data_list\n",
    ")\n",
    "choro.layout.coloraxis.colorbar.title = ''\n",
    "choro.show()\n",
    "\n"
   ]
  },
  {
   "cell_type": "code",
   "execution_count": 22,
   "metadata": {},
   "outputs": [
    {
     "data": {
      "image/png": "[encoded data removed]",
      "text/plain": [
       "<Figure size 1500x500 with 2 Axes>"
      ]
     },
     "metadata": {},
     "output_type": "display_data"
    }
   ],
   "source": [
    "# plot distribution of max distance walking and cycling\n",
    "fig, ax = plt.subplots(1, 2, figsize=(15, 5))\n",
    "df_countries[\"mean_max_distance_cycling\"].hist(bins=50, ax=ax[0])\n",
    "ax[0].set_title(\"Mean Max Distance Cycling\")\n",
    "ax[0].set_xlabel(\"One-way distance (km)\")\n",
    "df_countries[\"mean_max_distance_walking\"].hist(bins=50, ax=ax[1])\n",
    "ax[1].set_title(\"Mean Max Distance Walking\")\n",
    "ax[1].set_xlabel(\"One-way distance (km)\")\n",
    "plt.show()\n",
    "\n",
    "#TODO do the above for df_zones to show full distribution of walking and cycling distances\n"
   ]
  },
  {
   "cell_type": "code",
   "execution_count": 23,
   "metadata": {},
   "outputs": [
    {
     "data": {
      "image/png": "[encoded data removed]",
      "text/plain": [
       "<Figure size 1500x500 with 2 Axes>"
      ]
     },
     "metadata": {},
     "output_type": "display_data"
    }
   ],
   "source": [
    "# plot distribution of max distance walking and cycling in df_zones\n",
    "fig, ax = plt.subplots(1, 2, figsize=(15, 5))\n",
    "df_zones[\"max distance cycling\"].hist(bins=50, ax=ax[0])\n",
    "ax[0].set_title(\"Max Distance Cycling\")\n",
    "ax[0].set_xlabel(\"One-way distance (km)\")\n",
    "df_zones[\"max distance walking\"].hist(bins=50, ax=ax[1])\n",
    "ax[1].set_title(\"Max Distance Walking\")\n",
    "ax[1].set_xlabel(\"One-way distance (km)\")\n",
    "plt.show()\n"
   ]
  },
  {
   "cell_type": "code",
   "execution_count": 24,
   "metadata": {},
   "outputs": [
    {
     "data": {
      "image/png": "[encoded data removed]",
      "text/plain": [
       "<Figure size 1500x500 with 1 Axes>"
      ]
     },
     "metadata": {},
     "output_type": "display_data"
    }
   ],
   "source": [
    "# plot dominant road type vs max distance cycling\n",
    "fig, ax = plt.subplots(1, 1, figsize=(15, 5))\n",
    "df_zones.boxplot(column=\"max distance cycling\", by=\"dominant_road_type\", ax=ax)\n",
    "plt.show()\n",
    "\n"
   ]
  },
  {
   "cell_type": "code",
   "execution_count": 25,
   "metadata": {},
   "outputs": [
    {
     "ename": "",
     "evalue": "",
     "output_type": "error",
     "traceback": [
      "\u001b[1;31mThe Kernel crashed while executing code in the current cell or a previous cell. \n",
      "\u001b[1;31mPlease review the code in the cell(s) to identify a possible cause of the failure. \n",
      "\u001b[1;31mClick <a href='https://aka.ms/vscodeJupyterKernelCrash'>here</a> for more info. \n",
      "\u001b[1;31mView Jupyter <a href='command:jupyter.viewOutput'>log</a> for further details."
     ]
    }
   ],
   "source": [
    "# order df zones by slope_1, then plot cumulative population counts to see how the population is distributed by slope\n",
    "df_zones_sorted = df_zones.sort_values(\"slope_1\")\n",
    "df_zones_sorted[\"cumulative_pop\"] = df_zones_sorted[\"pop_zone\"].cumsum()\n",
    "\n",
    "# Calculate the 95th percentile\n",
    "percentile_95 = df_zones['pop_zone'].quantile(0.05)\n",
    "\n",
    "# Create the plot\n",
    "ax = df_zones_sorted.plot(x='slope_1', y='cumulative_pop')\n",
    "plt.xlabel(\"slope_1\")\n",
    "plt.ylabel(\"Cumulative Population\")\n",
    "plt.title(\"Cumulative Population by Zone\")\n",
    "\n",
    "# Add a vertical line at the 95th percentile\n",
    "plt.axvline(y=percentile_95, color='r', linestyle='--')\n",
    "\n",
    "# Add text to indicate the 95th percentile\n",
    "plt.text(0.1, percentile_95, f'95th percentile: {percentile_95}', color='r')\n",
    "\n",
    "plt.show()"
   ]
  },
  {
   "cell_type": "code",
   "execution_count": 23,
   "metadata": {},
   "outputs": [
    {
     "ename": "",
     "evalue": "",
     "output_type": "error",
     "traceback": [
      "\u001b[1;31mThe Kernel crashed while executing code in the current cell or a previous cell. \n",
      "\u001b[1;31mPlease review the code in the cell(s) to identify a possible cause of the failure. \n",
      "\u001b[1;31mClick <a href='https://aka.ms/vscodeJupyterKernelCrash'>here</a> for more info. \n",
      "\u001b[1;31mView Jupyter <a href='command:jupyter.viewOutput'>log</a> for further details."
     ]
    }
   ],
   "source": [
    "# plot slope vs population with df_zones\n",
    "# fig, ax = plt.subplots(1, 1, figsize=(10, 5))\n",
    "# df_zones.plot.scatter(x=\"slope_1\", y=\"pop_zone\", ax=ax)\n",
    "# ax.set_xlabel(\"Slope\")\n",
    "# ax.set_ylabel(\"Population\")\n",
    "# plt.show()"
   ]
  },
  {
   "cell_type": "code",
   "execution_count": null,
   "metadata": {},
   "outputs": [],
   "source": [
    "# calculate what slope_1 that 90 percenent of pop_zone is below\n",
    "# slope_90 = df_zones[\"slope_1\"].quantile(0.9)\n",
    "# print(f\"90% of the population is below a slope of {slope_90:.2f}\")\n"
   ]
  },
  {
   "cell_type": "code",
   "execution_count": null,
   "metadata": {},
   "outputs": [
    {
     "ename": "ValueError",
     "evalue": "\n    Invalid value of type 'builtins.str' received for the 'color' property of layout.shape.line\n        Received value: 'AFG'\n\n    The 'color' property is a color and may be specified as:\n      - A hex string (e.g. '#ff0000')\n      - An rgb/rgba string (e.g. 'rgb(255,0,0)')\n      - An hsl/hsla string (e.g. 'hsl(0,100%,50%)')\n      - An hsv/hsva string (e.g. 'hsv(0,100%,100%)')\n      - A named CSS color:\n            aliceblue, antiquewhite, aqua, aquamarine, azure,\n            beige, bisque, black, blanchedalmond, blue,\n            blueviolet, brown, burlywood, cadetblue,\n            chartreuse, chocolate, coral, cornflowerblue,\n            cornsilk, crimson, cyan, darkblue, darkcyan,\n            darkgoldenrod, darkgray, darkgrey, darkgreen,\n            darkkhaki, darkmagenta, darkolivegreen, darkorange,\n            darkorchid, darkred, darksalmon, darkseagreen,\n            darkslateblue, darkslategray, darkslategrey,\n            darkturquoise, darkviolet, deeppink, deepskyblue,\n            dimgray, dimgrey, dodgerblue, firebrick,\n            floralwhite, forestgreen, fuchsia, gainsboro,\n            ghostwhite, gold, goldenrod, gray, grey, green,\n            greenyellow, honeydew, hotpink, indianred, indigo,\n            ivory, khaki, lavender, lavenderblush, lawngreen,\n            lemonchiffon, lightblue, lightcoral, lightcyan,\n            lightgoldenrodyellow, lightgray, lightgrey,\n            lightgreen, lightpink, lightsalmon, lightseagreen,\n            lightskyblue, lightslategray, lightslategrey,\n            lightsteelblue, lightyellow, lime, limegreen,\n            linen, magenta, maroon, mediumaquamarine,\n            mediumblue, mediumorchid, mediumpurple,\n            mediumseagreen, mediumslateblue, mediumspringgreen,\n            mediumturquoise, mediumvioletred, midnightblue,\n            mintcream, mistyrose, moccasin, navajowhite, navy,\n            oldlace, olive, olivedrab, orange, orangered,\n            orchid, palegoldenrod, palegreen, paleturquoise,\n            palevioletred, papayawhip, peachpuff, peru, pink,\n            plum, powderblue, purple, red, rosybrown,\n            royalblue, rebeccapurple, saddlebrown, salmon,\n            sandybrown, seagreen, seashell, sienna, silver,\n            skyblue, slateblue, slategray, slategrey, snow,\n            springgreen, steelblue, tan, teal, thistle, tomato,\n            turquoise, violet, wheat, white, whitesmoke,\n            yellow, yellowgreen",
     "output_type": "error",
     "traceback": [
      "\u001b[0;31m---------------------------------------------------------------------------\u001b[0m",
      "\u001b[0;31mValueError\u001b[0m                                Traceback (most recent call last)",
      "Cell \u001b[0;32mIn[23], line 8\u001b[0m\n\u001b[1;32m      6\u001b[0m \u001b[38;5;66;03m# Add vertical lines for max distance walking\u001b[39;00m\n\u001b[1;32m      7\u001b[0m \u001b[38;5;28;01mfor\u001b[39;00m country, distance \u001b[38;5;129;01min\u001b[39;00m \u001b[38;5;28mzip\u001b[39m(df_zones[\u001b[38;5;124m\"\u001b[39m\u001b[38;5;124mEntity\u001b[39m\u001b[38;5;124m\"\u001b[39m], df_zones[\u001b[38;5;124m\"\u001b[39m\u001b[38;5;124mmax distance walking\u001b[39m\u001b[38;5;124m\"\u001b[39m]):\n\u001b[0;32m----> 8\u001b[0m     \u001b[43mfig\u001b[49m\u001b[38;5;241;43m.\u001b[39;49m\u001b[43madd_shape\u001b[49m\u001b[43m(\u001b[49m\n\u001b[1;32m      9\u001b[0m \u001b[43m        \u001b[49m\u001b[38;5;28;43mtype\u001b[39;49m\u001b[38;5;241;43m=\u001b[39;49m\u001b[38;5;124;43m\"\u001b[39;49m\u001b[38;5;124;43mline\u001b[39;49m\u001b[38;5;124;43m\"\u001b[39;49m\u001b[43m,\u001b[49m\n\u001b[1;32m     10\u001b[0m \u001b[43m        \u001b[49m\u001b[43mx0\u001b[49m\u001b[38;5;241;43m=\u001b[39;49m\u001b[43mdistance\u001b[49m\u001b[43m,\u001b[49m\n\u001b[1;32m     11\u001b[0m \u001b[43m        \u001b[49m\u001b[43mx1\u001b[49m\u001b[38;5;241;43m=\u001b[39;49m\u001b[43mdistance\u001b[49m\u001b[43m,\u001b[49m\n\u001b[1;32m     12\u001b[0m \u001b[43m        \u001b[49m\u001b[43my0\u001b[49m\u001b[38;5;241;43m=\u001b[39;49m\u001b[38;5;241;43m0\u001b[39;49m\u001b[43m,\u001b[49m\n\u001b[1;32m     13\u001b[0m \u001b[43m        \u001b[49m\u001b[43my1\u001b[49m\u001b[38;5;241;43m=\u001b[39;49m\u001b[38;5;241;43m1\u001b[39;49m\u001b[43m,\u001b[49m\n\u001b[1;32m     14\u001b[0m \u001b[43m        \u001b[49m\u001b[43mline\u001b[49m\u001b[38;5;241;43m=\u001b[39;49m\u001b[38;5;28;43mdict\u001b[39;49m\u001b[43m(\u001b[49m\u001b[43mcolor\u001b[49m\u001b[38;5;241;43m=\u001b[39;49m\u001b[43mdf_zones\u001b[49m\u001b[43m[\u001b[49m\u001b[43mdf_zones\u001b[49m\u001b[43m[\u001b[49m\u001b[38;5;124;43m\"\u001b[39;49m\u001b[38;5;124;43mEntity\u001b[39;49m\u001b[38;5;124;43m\"\u001b[39;49m\u001b[43m]\u001b[49m\u001b[38;5;241;43m==\u001b[39;49m\u001b[43mcountry\u001b[49m\u001b[43m]\u001b[49m\u001b[43m[\u001b[49m\u001b[38;5;124;43m\"\u001b[39;49m\u001b[38;5;124;43mISOCODE\u001b[39;49m\u001b[38;5;124;43m\"\u001b[39;49m\u001b[43m]\u001b[49m\u001b[38;5;241;43m.\u001b[39;49m\u001b[43mvalues\u001b[49m\u001b[43m[\u001b[49m\u001b[38;5;241;43m0\u001b[39;49m\u001b[43m]\u001b[49m\u001b[43m,\u001b[49m\u001b[43m \u001b[49m\u001b[43mwidth\u001b[49m\u001b[38;5;241;43m=\u001b[39;49m\u001b[38;5;241;43m1\u001b[39;49m\u001b[43m)\u001b[49m\u001b[43m,\u001b[49m\n\u001b[1;32m     15\u001b[0m \u001b[43m    \u001b[49m\u001b[43m)\u001b[49m\n\u001b[1;32m     17\u001b[0m \u001b[38;5;66;03m# Update layout\u001b[39;00m\n\u001b[1;32m     18\u001b[0m fig\u001b[38;5;241m.\u001b[39mupdate_layout(\n\u001b[1;32m     19\u001b[0m     title\u001b[38;5;241m=\u001b[39m\u001b[38;5;124m\"\u001b[39m\u001b[38;5;124mMax Distance Walking\u001b[39m\u001b[38;5;124m\"\u001b[39m,\n\u001b[1;32m     20\u001b[0m     xaxis\u001b[38;5;241m=\u001b[39m\u001b[38;5;28mdict\u001b[39m(title\u001b[38;5;241m=\u001b[39m\u001b[38;5;124m\"\u001b[39m\u001b[38;5;124m\"\u001b[39m),\n\u001b[1;32m     21\u001b[0m     yaxis\u001b[38;5;241m=\u001b[39m\u001b[38;5;28mdict\u001b[39m(title\u001b[38;5;241m=\u001b[39m\u001b[38;5;124m\"\u001b[39m\u001b[38;5;124m\"\u001b[39m),\n\u001b[1;32m     22\u001b[0m     showlegend\u001b[38;5;241m=\u001b[39m\u001b[38;5;28;01mFalse\u001b[39;00m,\n\u001b[1;32m     23\u001b[0m )\n",
      "File \u001b[0;32m/opt/conda/envs/water-access/lib/python3.9/site-packages/plotly/graph_objs/_figure.py:24206\u001b[0m, in \u001b[0;36mFigure.add_shape\u001b[0;34m(self, arg, editable, fillcolor, fillrule, label, layer, legend, legendgroup, legendgrouptitle, legendrank, legendwidth, line, name, opacity, path, showlegend, templateitemname, type, visible, x0, x1, xanchor, xref, xsizemode, y0, y1, yanchor, yref, ysizemode, row, col, secondary_y, exclude_empty_subplots, **kwargs)\u001b[0m\n\u001b[1;32m  23993\u001b[0m \u001b[38;5;250m\u001b[39m\u001b[38;5;124;03m\"\"\"\u001b[39;00m\n\u001b[1;32m  23994\u001b[0m \u001b[38;5;124;03mCreate and add a new shape to the figure's layout\u001b[39;00m\n\u001b[1;32m  23995\u001b[0m \n\u001b[0;32m   (...)\u001b[0m\n\u001b[1;32m  24202\u001b[0m \u001b[38;5;124;03mFigure\u001b[39;00m\n\u001b[1;32m  24203\u001b[0m \u001b[38;5;124;03m\"\"\"\u001b[39;00m\n\u001b[1;32m  24204\u001b[0m \u001b[38;5;28;01mfrom\u001b[39;00m \u001b[38;5;21;01mplotly\u001b[39;00m\u001b[38;5;21;01m.\u001b[39;00m\u001b[38;5;21;01mgraph_objs\u001b[39;00m \u001b[38;5;28;01mimport\u001b[39;00m layout \u001b[38;5;28;01mas\u001b[39;00m _layout\n\u001b[0;32m> 24206\u001b[0m new_obj \u001b[38;5;241m=\u001b[39m \u001b[43m_layout\u001b[49m\u001b[38;5;241;43m.\u001b[39;49m\u001b[43mShape\u001b[49m\u001b[43m(\u001b[49m\n\u001b[1;32m  24207\u001b[0m \u001b[43m    \u001b[49m\u001b[43marg\u001b[49m\u001b[43m,\u001b[49m\n\u001b[1;32m  24208\u001b[0m \u001b[43m    \u001b[49m\u001b[43meditable\u001b[49m\u001b[38;5;241;43m=\u001b[39;49m\u001b[43meditable\u001b[49m\u001b[43m,\u001b[49m\n\u001b[1;32m  24209\u001b[0m \u001b[43m    \u001b[49m\u001b[43mfillcolor\u001b[49m\u001b[38;5;241;43m=\u001b[39;49m\u001b[43mfillcolor\u001b[49m\u001b[43m,\u001b[49m\n\u001b[1;32m  24210\u001b[0m \u001b[43m    \u001b[49m\u001b[43mfillrule\u001b[49m\u001b[38;5;241;43m=\u001b[39;49m\u001b[43mfillrule\u001b[49m\u001b[43m,\u001b[49m\n\u001b[1;32m  24211\u001b[0m \u001b[43m    \u001b[49m\u001b[43mlabel\u001b[49m\u001b[38;5;241;43m=\u001b[39;49m\u001b[43mlabel\u001b[49m\u001b[43m,\u001b[49m\n\u001b[1;32m  24212\u001b[0m \u001b[43m    \u001b[49m\u001b[43mlayer\u001b[49m\u001b[38;5;241;43m=\u001b[39;49m\u001b[43mlayer\u001b[49m\u001b[43m,\u001b[49m\n\u001b[1;32m  24213\u001b[0m \u001b[43m    \u001b[49m\u001b[43mlegend\u001b[49m\u001b[38;5;241;43m=\u001b[39;49m\u001b[43mlegend\u001b[49m\u001b[43m,\u001b[49m\n\u001b[1;32m  24214\u001b[0m \u001b[43m    \u001b[49m\u001b[43mlegendgroup\u001b[49m\u001b[38;5;241;43m=\u001b[39;49m\u001b[43mlegendgroup\u001b[49m\u001b[43m,\u001b[49m\n\u001b[1;32m  24215\u001b[0m \u001b[43m    \u001b[49m\u001b[43mlegendgrouptitle\u001b[49m\u001b[38;5;241;43m=\u001b[39;49m\u001b[43mlegendgrouptitle\u001b[49m\u001b[43m,\u001b[49m\n\u001b[1;32m  24216\u001b[0m \u001b[43m    \u001b[49m\u001b[43mlegendrank\u001b[49m\u001b[38;5;241;43m=\u001b[39;49m\u001b[43mlegendrank\u001b[49m\u001b[43m,\u001b[49m\n\u001b[1;32m  24217\u001b[0m \u001b[43m    \u001b[49m\u001b[43mlegendwidth\u001b[49m\u001b[38;5;241;43m=\u001b[39;49m\u001b[43mlegendwidth\u001b[49m\u001b[43m,\u001b[49m\n\u001b[1;32m  24218\u001b[0m \u001b[43m    \u001b[49m\u001b[43mline\u001b[49m\u001b[38;5;241;43m=\u001b[39;49m\u001b[43mline\u001b[49m\u001b[43m,\u001b[49m\n\u001b[1;32m  24219\u001b[0m \u001b[43m    \u001b[49m\u001b[43mname\u001b[49m\u001b[38;5;241;43m=\u001b[39;49m\u001b[43mname\u001b[49m\u001b[43m,\u001b[49m\n\u001b[1;32m  24220\u001b[0m \u001b[43m    \u001b[49m\u001b[43mopacity\u001b[49m\u001b[38;5;241;43m=\u001b[39;49m\u001b[43mopacity\u001b[49m\u001b[43m,\u001b[49m\n\u001b[1;32m  24221\u001b[0m \u001b[43m    \u001b[49m\u001b[43mpath\u001b[49m\u001b[38;5;241;43m=\u001b[39;49m\u001b[43mpath\u001b[49m\u001b[43m,\u001b[49m\n\u001b[1;32m  24222\u001b[0m \u001b[43m    \u001b[49m\u001b[43mshowlegend\u001b[49m\u001b[38;5;241;43m=\u001b[39;49m\u001b[43mshowlegend\u001b[49m\u001b[43m,\u001b[49m\n\u001b[1;32m  24223\u001b[0m \u001b[43m    \u001b[49m\u001b[43mtemplateitemname\u001b[49m\u001b[38;5;241;43m=\u001b[39;49m\u001b[43mtemplateitemname\u001b[49m\u001b[43m,\u001b[49m\n\u001b[1;32m  24224\u001b[0m \u001b[43m    \u001b[49m\u001b[38;5;28;43mtype\u001b[39;49m\u001b[38;5;241;43m=\u001b[39;49m\u001b[38;5;28;43mtype\u001b[39;49m\u001b[43m,\u001b[49m\n\u001b[1;32m  24225\u001b[0m \u001b[43m    \u001b[49m\u001b[43mvisible\u001b[49m\u001b[38;5;241;43m=\u001b[39;49m\u001b[43mvisible\u001b[49m\u001b[43m,\u001b[49m\n\u001b[1;32m  24226\u001b[0m \u001b[43m    \u001b[49m\u001b[43mx0\u001b[49m\u001b[38;5;241;43m=\u001b[39;49m\u001b[43mx0\u001b[49m\u001b[43m,\u001b[49m\n\u001b[1;32m  24227\u001b[0m \u001b[43m    \u001b[49m\u001b[43mx1\u001b[49m\u001b[38;5;241;43m=\u001b[39;49m\u001b[43mx1\u001b[49m\u001b[43m,\u001b[49m\n\u001b[1;32m  24228\u001b[0m \u001b[43m    \u001b[49m\u001b[43mxanchor\u001b[49m\u001b[38;5;241;43m=\u001b[39;49m\u001b[43mxanchor\u001b[49m\u001b[43m,\u001b[49m\n\u001b[1;32m  24229\u001b[0m \u001b[43m    \u001b[49m\u001b[43mxref\u001b[49m\u001b[38;5;241;43m=\u001b[39;49m\u001b[43mxref\u001b[49m\u001b[43m,\u001b[49m\n\u001b[1;32m  24230\u001b[0m \u001b[43m    \u001b[49m\u001b[43mxsizemode\u001b[49m\u001b[38;5;241;43m=\u001b[39;49m\u001b[43mxsizemode\u001b[49m\u001b[43m,\u001b[49m\n\u001b[1;32m  24231\u001b[0m \u001b[43m    \u001b[49m\u001b[43my0\u001b[49m\u001b[38;5;241;43m=\u001b[39;49m\u001b[43my0\u001b[49m\u001b[43m,\u001b[49m\n\u001b[1;32m  24232\u001b[0m \u001b[43m    \u001b[49m\u001b[43my1\u001b[49m\u001b[38;5;241;43m=\u001b[39;49m\u001b[43my1\u001b[49m\u001b[43m,\u001b[49m\n\u001b[1;32m  24233\u001b[0m \u001b[43m    \u001b[49m\u001b[43myanchor\u001b[49m\u001b[38;5;241;43m=\u001b[39;49m\u001b[43myanchor\u001b[49m\u001b[43m,\u001b[49m\n\u001b[1;32m  24234\u001b[0m \u001b[43m    \u001b[49m\u001b[43myref\u001b[49m\u001b[38;5;241;43m=\u001b[39;49m\u001b[43myref\u001b[49m\u001b[43m,\u001b[49m\n\u001b[1;32m  24235\u001b[0m \u001b[43m    \u001b[49m\u001b[43mysizemode\u001b[49m\u001b[38;5;241;43m=\u001b[39;49m\u001b[43mysizemode\u001b[49m\u001b[43m,\u001b[49m\n\u001b[1;32m  24236\u001b[0m \u001b[43m    \u001b[49m\u001b[38;5;241;43m*\u001b[39;49m\u001b[38;5;241;43m*\u001b[39;49m\u001b[43mkwargs\u001b[49m\u001b[43m,\u001b[49m\n\u001b[1;32m  24237\u001b[0m \u001b[43m\u001b[49m\u001b[43m)\u001b[49m\n\u001b[1;32m  24238\u001b[0m \u001b[38;5;28;01mreturn\u001b[39;00m \u001b[38;5;28mself\u001b[39m\u001b[38;5;241m.\u001b[39m_add_annotation_like(\n\u001b[1;32m  24239\u001b[0m     \u001b[38;5;124m\"\u001b[39m\u001b[38;5;124mshape\u001b[39m\u001b[38;5;124m\"\u001b[39m,\n\u001b[1;32m  24240\u001b[0m     \u001b[38;5;124m\"\u001b[39m\u001b[38;5;124mshapes\u001b[39m\u001b[38;5;124m\"\u001b[39m,\n\u001b[0;32m   (...)\u001b[0m\n\u001b[1;32m  24245\u001b[0m     exclude_empty_subplots\u001b[38;5;241m=\u001b[39mexclude_empty_subplots,\n\u001b[1;32m  24246\u001b[0m )\n",
      "File \u001b[0;32m/opt/conda/envs/water-access/lib/python3.9/site-packages/plotly/graph_objs/layout/_shape.py:1351\u001b[0m, in \u001b[0;36mShape.__init__\u001b[0;34m(self, arg, editable, fillcolor, fillrule, label, layer, legend, legendgroup, legendgrouptitle, legendrank, legendwidth, line, name, opacity, path, showlegend, templateitemname, type, visible, x0, x1, xanchor, xref, xsizemode, y0, y1, yanchor, yref, ysizemode, **kwargs)\u001b[0m\n\u001b[1;32m   1349\u001b[0m _v \u001b[38;5;241m=\u001b[39m line \u001b[38;5;28;01mif\u001b[39;00m line \u001b[38;5;129;01mis\u001b[39;00m \u001b[38;5;129;01mnot\u001b[39;00m \u001b[38;5;28;01mNone\u001b[39;00m \u001b[38;5;28;01melse\u001b[39;00m _v\n\u001b[1;32m   1350\u001b[0m \u001b[38;5;28;01mif\u001b[39;00m _v \u001b[38;5;129;01mis\u001b[39;00m \u001b[38;5;129;01mnot\u001b[39;00m \u001b[38;5;28;01mNone\u001b[39;00m:\n\u001b[0;32m-> 1351\u001b[0m     \u001b[38;5;28;43mself\u001b[39;49m\u001b[43m[\u001b[49m\u001b[38;5;124;43m\"\u001b[39;49m\u001b[38;5;124;43mline\u001b[39;49m\u001b[38;5;124;43m\"\u001b[39;49m\u001b[43m]\u001b[49m \u001b[38;5;241m=\u001b[39m _v\n\u001b[1;32m   1352\u001b[0m _v \u001b[38;5;241m=\u001b[39m arg\u001b[38;5;241m.\u001b[39mpop(\u001b[38;5;124m\"\u001b[39m\u001b[38;5;124mname\u001b[39m\u001b[38;5;124m\"\u001b[39m, \u001b[38;5;28;01mNone\u001b[39;00m)\n\u001b[1;32m   1353\u001b[0m _v \u001b[38;5;241m=\u001b[39m name \u001b[38;5;28;01mif\u001b[39;00m name \u001b[38;5;129;01mis\u001b[39;00m \u001b[38;5;129;01mnot\u001b[39;00m \u001b[38;5;28;01mNone\u001b[39;00m \u001b[38;5;28;01melse\u001b[39;00m _v\n",
      "File \u001b[0;32m/opt/conda/envs/water-access/lib/python3.9/site-packages/plotly/basedatatypes.py:4866\u001b[0m, in \u001b[0;36mBasePlotlyType.__setitem__\u001b[0;34m(self, prop, value)\u001b[0m\n\u001b[1;32m   4864\u001b[0m \u001b[38;5;66;03m# ### Handle compound property ###\u001b[39;00m\n\u001b[1;32m   4865\u001b[0m \u001b[38;5;28;01mif\u001b[39;00m \u001b[38;5;28misinstance\u001b[39m(validator, CompoundValidator):\n\u001b[0;32m-> 4866\u001b[0m     \u001b[38;5;28;43mself\u001b[39;49m\u001b[38;5;241;43m.\u001b[39;49m\u001b[43m_set_compound_prop\u001b[49m\u001b[43m(\u001b[49m\u001b[43mprop\u001b[49m\u001b[43m,\u001b[49m\u001b[43m \u001b[49m\u001b[43mvalue\u001b[49m\u001b[43m)\u001b[49m\n\u001b[1;32m   4868\u001b[0m \u001b[38;5;66;03m# ### Handle compound array property ###\u001b[39;00m\n\u001b[1;32m   4869\u001b[0m \u001b[38;5;28;01melif\u001b[39;00m \u001b[38;5;28misinstance\u001b[39m(validator, (CompoundArrayValidator, BaseDataValidator)):\n",
      "File \u001b[0;32m/opt/conda/envs/water-access/lib/python3.9/site-packages/plotly/basedatatypes.py:5277\u001b[0m, in \u001b[0;36mBasePlotlyType._set_compound_prop\u001b[0;34m(self, prop, val)\u001b[0m\n\u001b[1;32m   5274\u001b[0m \u001b[38;5;66;03m# Import value\u001b[39;00m\n\u001b[1;32m   5275\u001b[0m \u001b[38;5;66;03m# ------------\u001b[39;00m\n\u001b[1;32m   5276\u001b[0m validator \u001b[38;5;241m=\u001b[39m \u001b[38;5;28mself\u001b[39m\u001b[38;5;241m.\u001b[39m_get_validator(prop)\n\u001b[0;32m-> 5277\u001b[0m val \u001b[38;5;241m=\u001b[39m \u001b[43mvalidator\u001b[49m\u001b[38;5;241;43m.\u001b[39;49m\u001b[43mvalidate_coerce\u001b[49m\u001b[43m(\u001b[49m\u001b[43mval\u001b[49m\u001b[43m,\u001b[49m\u001b[43m \u001b[49m\u001b[43mskip_invalid\u001b[49m\u001b[38;5;241;43m=\u001b[39;49m\u001b[38;5;28;43mself\u001b[39;49m\u001b[38;5;241;43m.\u001b[39;49m\u001b[43m_skip_invalid\u001b[49m\u001b[43m)\u001b[49m\n\u001b[1;32m   5279\u001b[0m \u001b[38;5;66;03m# Save deep copies of current and new states\u001b[39;00m\n\u001b[1;32m   5280\u001b[0m \u001b[38;5;66;03m# ------------------------------------------\u001b[39;00m\n\u001b[1;32m   5281\u001b[0m curr_val \u001b[38;5;241m=\u001b[39m \u001b[38;5;28mself\u001b[39m\u001b[38;5;241m.\u001b[39m_compound_props\u001b[38;5;241m.\u001b[39mget(prop, \u001b[38;5;28;01mNone\u001b[39;00m)\n",
      "File \u001b[0;32m/opt/conda/envs/water-access/lib/python3.9/site-packages/_plotly_utils/basevalidators.py:2484\u001b[0m, in \u001b[0;36mCompoundValidator.validate_coerce\u001b[0;34m(self, v, skip_invalid, _validate)\u001b[0m\n\u001b[1;32m   2481\u001b[0m     v \u001b[38;5;241m=\u001b[39m \u001b[38;5;28mself\u001b[39m\u001b[38;5;241m.\u001b[39mdata_class()\n\u001b[1;32m   2483\u001b[0m \u001b[38;5;28;01melif\u001b[39;00m \u001b[38;5;28misinstance\u001b[39m(v, \u001b[38;5;28mdict\u001b[39m):\n\u001b[0;32m-> 2484\u001b[0m     v \u001b[38;5;241m=\u001b[39m \u001b[38;5;28;43mself\u001b[39;49m\u001b[38;5;241;43m.\u001b[39;49m\u001b[43mdata_class\u001b[49m\u001b[43m(\u001b[49m\u001b[43mv\u001b[49m\u001b[43m,\u001b[49m\u001b[43m \u001b[49m\u001b[43mskip_invalid\u001b[49m\u001b[38;5;241;43m=\u001b[39;49m\u001b[43mskip_invalid\u001b[49m\u001b[43m,\u001b[49m\u001b[43m \u001b[49m\u001b[43m_validate\u001b[49m\u001b[38;5;241;43m=\u001b[39;49m\u001b[43m_validate\u001b[49m\u001b[43m)\u001b[49m\n\u001b[1;32m   2486\u001b[0m \u001b[38;5;28;01melif\u001b[39;00m \u001b[38;5;28misinstance\u001b[39m(v, \u001b[38;5;28mself\u001b[39m\u001b[38;5;241m.\u001b[39mdata_class):\n\u001b[1;32m   2487\u001b[0m     \u001b[38;5;66;03m# Copy object\u001b[39;00m\n\u001b[1;32m   2488\u001b[0m     v \u001b[38;5;241m=\u001b[39m \u001b[38;5;28mself\u001b[39m\u001b[38;5;241m.\u001b[39mdata_class(v)\n",
      "File \u001b[0;32m/opt/conda/envs/water-access/lib/python3.9/site-packages/plotly/graph_objs/layout/shape/_line.py:190\u001b[0m, in \u001b[0;36mLine.__init__\u001b[0;34m(self, arg, color, dash, width, **kwargs)\u001b[0m\n\u001b[1;32m    188\u001b[0m _v \u001b[38;5;241m=\u001b[39m color \u001b[38;5;28;01mif\u001b[39;00m color \u001b[38;5;129;01mis\u001b[39;00m \u001b[38;5;129;01mnot\u001b[39;00m \u001b[38;5;28;01mNone\u001b[39;00m \u001b[38;5;28;01melse\u001b[39;00m _v\n\u001b[1;32m    189\u001b[0m \u001b[38;5;28;01mif\u001b[39;00m _v \u001b[38;5;129;01mis\u001b[39;00m \u001b[38;5;129;01mnot\u001b[39;00m \u001b[38;5;28;01mNone\u001b[39;00m:\n\u001b[0;32m--> 190\u001b[0m     \u001b[38;5;28;43mself\u001b[39;49m\u001b[43m[\u001b[49m\u001b[38;5;124;43m\"\u001b[39;49m\u001b[38;5;124;43mcolor\u001b[39;49m\u001b[38;5;124;43m\"\u001b[39;49m\u001b[43m]\u001b[49m \u001b[38;5;241m=\u001b[39m _v\n\u001b[1;32m    191\u001b[0m _v \u001b[38;5;241m=\u001b[39m arg\u001b[38;5;241m.\u001b[39mpop(\u001b[38;5;124m\"\u001b[39m\u001b[38;5;124mdash\u001b[39m\u001b[38;5;124m\"\u001b[39m, \u001b[38;5;28;01mNone\u001b[39;00m)\n\u001b[1;32m    192\u001b[0m _v \u001b[38;5;241m=\u001b[39m dash \u001b[38;5;28;01mif\u001b[39;00m dash \u001b[38;5;129;01mis\u001b[39;00m \u001b[38;5;129;01mnot\u001b[39;00m \u001b[38;5;28;01mNone\u001b[39;00m \u001b[38;5;28;01melse\u001b[39;00m _v\n",
      "File \u001b[0;32m/opt/conda/envs/water-access/lib/python3.9/site-packages/plotly/basedatatypes.py:4874\u001b[0m, in \u001b[0;36mBasePlotlyType.__setitem__\u001b[0;34m(self, prop, value)\u001b[0m\n\u001b[1;32m   4870\u001b[0m         \u001b[38;5;28mself\u001b[39m\u001b[38;5;241m.\u001b[39m_set_array_prop(prop, value)\n\u001b[1;32m   4872\u001b[0m     \u001b[38;5;66;03m# ### Handle simple property ###\u001b[39;00m\n\u001b[1;32m   4873\u001b[0m     \u001b[38;5;28;01melse\u001b[39;00m:\n\u001b[0;32m-> 4874\u001b[0m         \u001b[38;5;28;43mself\u001b[39;49m\u001b[38;5;241;43m.\u001b[39;49m\u001b[43m_set_prop\u001b[49m\u001b[43m(\u001b[49m\u001b[43mprop\u001b[49m\u001b[43m,\u001b[49m\u001b[43m \u001b[49m\u001b[43mvalue\u001b[49m\u001b[43m)\u001b[49m\n\u001b[1;32m   4875\u001b[0m \u001b[38;5;28;01melse\u001b[39;00m:\n\u001b[1;32m   4876\u001b[0m     \u001b[38;5;66;03m# Make sure properties dict is initialized\u001b[39;00m\n\u001b[1;32m   4877\u001b[0m     \u001b[38;5;28mself\u001b[39m\u001b[38;5;241m.\u001b[39m_init_props()\n",
      "File \u001b[0;32m/opt/conda/envs/water-access/lib/python3.9/site-packages/plotly/basedatatypes.py:5218\u001b[0m, in \u001b[0;36mBasePlotlyType._set_prop\u001b[0;34m(self, prop, val)\u001b[0m\n\u001b[1;32m   5216\u001b[0m         \u001b[38;5;28;01mreturn\u001b[39;00m\n\u001b[1;32m   5217\u001b[0m     \u001b[38;5;28;01melse\u001b[39;00m:\n\u001b[0;32m-> 5218\u001b[0m         \u001b[38;5;28;01mraise\u001b[39;00m err\n\u001b[1;32m   5220\u001b[0m \u001b[38;5;66;03m# val is None\u001b[39;00m\n\u001b[1;32m   5221\u001b[0m \u001b[38;5;66;03m# -----------\u001b[39;00m\n\u001b[1;32m   5222\u001b[0m \u001b[38;5;28;01mif\u001b[39;00m val \u001b[38;5;129;01mis\u001b[39;00m \u001b[38;5;28;01mNone\u001b[39;00m:\n\u001b[1;32m   5223\u001b[0m     \u001b[38;5;66;03m# Check if we should send null update\u001b[39;00m\n",
      "File \u001b[0;32m/opt/conda/envs/water-access/lib/python3.9/site-packages/plotly/basedatatypes.py:5213\u001b[0m, in \u001b[0;36mBasePlotlyType._set_prop\u001b[0;34m(self, prop, val)\u001b[0m\n\u001b[1;32m   5210\u001b[0m validator \u001b[38;5;241m=\u001b[39m \u001b[38;5;28mself\u001b[39m\u001b[38;5;241m.\u001b[39m_get_validator(prop)\n\u001b[1;32m   5212\u001b[0m \u001b[38;5;28;01mtry\u001b[39;00m:\n\u001b[0;32m-> 5213\u001b[0m     val \u001b[38;5;241m=\u001b[39m \u001b[43mvalidator\u001b[49m\u001b[38;5;241;43m.\u001b[39;49m\u001b[43mvalidate_coerce\u001b[49m\u001b[43m(\u001b[49m\u001b[43mval\u001b[49m\u001b[43m)\u001b[49m\n\u001b[1;32m   5214\u001b[0m \u001b[38;5;28;01mexcept\u001b[39;00m \u001b[38;5;167;01mValueError\u001b[39;00m \u001b[38;5;28;01mas\u001b[39;00m err:\n\u001b[1;32m   5215\u001b[0m     \u001b[38;5;28;01mif\u001b[39;00m \u001b[38;5;28mself\u001b[39m\u001b[38;5;241m.\u001b[39m_skip_invalid:\n",
      "File \u001b[0;32m/opt/conda/envs/water-access/lib/python3.9/site-packages/_plotly_utils/basevalidators.py:1383\u001b[0m, in \u001b[0;36mColorValidator.validate_coerce\u001b[0;34m(self, v, should_raise)\u001b[0m\n\u001b[1;32m   1381\u001b[0m     validated_v \u001b[38;5;241m=\u001b[39m \u001b[38;5;28mself\u001b[39m\u001b[38;5;241m.\u001b[39mvc_scalar(v)\n\u001b[1;32m   1382\u001b[0m     \u001b[38;5;28;01mif\u001b[39;00m validated_v \u001b[38;5;129;01mis\u001b[39;00m \u001b[38;5;28;01mNone\u001b[39;00m \u001b[38;5;129;01mand\u001b[39;00m should_raise:\n\u001b[0;32m-> 1383\u001b[0m         \u001b[38;5;28;43mself\u001b[39;49m\u001b[38;5;241;43m.\u001b[39;49m\u001b[43mraise_invalid_val\u001b[49m\u001b[43m(\u001b[49m\u001b[43mv\u001b[49m\u001b[43m)\u001b[49m\n\u001b[1;32m   1385\u001b[0m     v \u001b[38;5;241m=\u001b[39m validated_v\n\u001b[1;32m   1387\u001b[0m \u001b[38;5;28;01mreturn\u001b[39;00m v\n",
      "File \u001b[0;32m/opt/conda/envs/water-access/lib/python3.9/site-packages/_plotly_utils/basevalidators.py:296\u001b[0m, in \u001b[0;36mBaseValidator.raise_invalid_val\u001b[0;34m(self, v, inds)\u001b[0m\n\u001b[1;32m    293\u001b[0m             \u001b[38;5;28;01mfor\u001b[39;00m i \u001b[38;5;129;01min\u001b[39;00m inds:\n\u001b[1;32m    294\u001b[0m                 name \u001b[38;5;241m+\u001b[39m\u001b[38;5;241m=\u001b[39m \u001b[38;5;124m\"\u001b[39m\u001b[38;5;124m[\u001b[39m\u001b[38;5;124m\"\u001b[39m \u001b[38;5;241m+\u001b[39m \u001b[38;5;28mstr\u001b[39m(i) \u001b[38;5;241m+\u001b[39m \u001b[38;5;124m\"\u001b[39m\u001b[38;5;124m]\u001b[39m\u001b[38;5;124m\"\u001b[39m\n\u001b[0;32m--> 296\u001b[0m         \u001b[38;5;28;01mraise\u001b[39;00m \u001b[38;5;167;01mValueError\u001b[39;00m(\n\u001b[1;32m    297\u001b[0m \u001b[38;5;250m            \u001b[39m\u001b[38;5;124;03m\"\"\"\u001b[39;00m\n\u001b[1;32m    298\u001b[0m \u001b[38;5;124;03m    Invalid value of type {typ} received for the '{name}' property of {pname}\u001b[39;00m\n\u001b[1;32m    299\u001b[0m \u001b[38;5;124;03m        Received value: {v}\u001b[39;00m\n\u001b[1;32m    300\u001b[0m \n\u001b[1;32m    301\u001b[0m \u001b[38;5;124;03m{valid_clr_desc}\"\"\"\u001b[39;00m\u001b[38;5;241m.\u001b[39mformat(\n\u001b[1;32m    302\u001b[0m                 name\u001b[38;5;241m=\u001b[39mname,\n\u001b[1;32m    303\u001b[0m                 pname\u001b[38;5;241m=\u001b[39m\u001b[38;5;28mself\u001b[39m\u001b[38;5;241m.\u001b[39mparent_name,\n\u001b[1;32m    304\u001b[0m                 typ\u001b[38;5;241m=\u001b[39mtype_str(v),\n\u001b[1;32m    305\u001b[0m                 v\u001b[38;5;241m=\u001b[39m\u001b[38;5;28mrepr\u001b[39m(v),\n\u001b[1;32m    306\u001b[0m                 valid_clr_desc\u001b[38;5;241m=\u001b[39m\u001b[38;5;28mself\u001b[39m\u001b[38;5;241m.\u001b[39mdescription(),\n\u001b[1;32m    307\u001b[0m             )\n\u001b[1;32m    308\u001b[0m         )\n",
      "\u001b[0;31mValueError\u001b[0m: \n    Invalid value of type 'builtins.str' received for the 'color' property of layout.shape.line\n        Received value: 'AFG'\n\n    The 'color' property is a color and may be specified as:\n      - A hex string (e.g. '#ff0000')\n      - An rgb/rgba string (e.g. 'rgb(255,0,0)')\n      - An hsl/hsla string (e.g. 'hsl(0,100%,50%)')\n      - An hsv/hsva string (e.g. 'hsv(0,100%,100%)')\n      - A named CSS color:\n            aliceblue, antiquewhite, aqua, aquamarine, azure,\n            beige, bisque, black, blanchedalmond, blue,\n            blueviolet, brown, burlywood, cadetblue,\n            chartreuse, chocolate, coral, cornflowerblue,\n            cornsilk, crimson, cyan, darkblue, darkcyan,\n            darkgoldenrod, darkgray, darkgrey, darkgreen,\n            darkkhaki, darkmagenta, darkolivegreen, darkorange,\n            darkorchid, darkred, darksalmon, darkseagreen,\n            darkslateblue, darkslategray, darkslategrey,\n            darkturquoise, darkviolet, deeppink, deepskyblue,\n            dimgray, dimgrey, dodgerblue, firebrick,\n            floralwhite, forestgreen, fuchsia, gainsboro,\n            ghostwhite, gold, goldenrod, gray, grey, green,\n            greenyellow, honeydew, hotpink, indianred, indigo,\n            ivory, khaki, lavender, lavenderblush, lawngreen,\n            lemonchiffon, lightblue, lightcoral, lightcyan,\n            lightgoldenrodyellow, lightgray, lightgrey,\n            lightgreen, lightpink, lightsalmon, lightseagreen,\n            lightskyblue, lightslategray, lightslategrey,\n            lightsteelblue, lightyellow, lime, limegreen,\n            linen, magenta, maroon, mediumaquamarine,\n            mediumblue, mediumorchid, mediumpurple,\n            mediumseagreen, mediumslateblue, mediumspringgreen,\n            mediumturquoise, mediumvioletred, midnightblue,\n            mintcream, mistyrose, moccasin, navajowhite, navy,\n            oldlace, olive, olivedrab, orange, orangered,\n            orchid, palegoldenrod, palegreen, paleturquoise,\n            palevioletred, papayawhip, peachpuff, peru, pink,\n            plum, powderblue, purple, red, rosybrown,\n            royalblue, rebeccapurple, saddlebrown, salmon,\n            sandybrown, seagreen, seashell, sienna, silver,\n            skyblue, slateblue, slategray, slategrey, snow,\n            springgreen, steelblue, tan, teal, thistle, tomato,\n            turquoise, violet, wheat, white, whitesmoke,\n            yellow, yellowgreen"
     ]
    }
   ],
   "source": [
    "# plot max distance walking for df_zones, colour by country\n",
    "import plotly.graph_objects as go\n",
    "\n",
    "fig = go.Figure()\n",
    "\n",
    "# Add vertical lines for max distance walking\n",
    "for country, distance in zip(df_zones[\"Entity\"], df_zones[\"max distance walking\"]):\n",
    "    fig.add_shape(\n",
    "        type=\"line\",\n",
    "        x0=distance,\n",
    "        x1=distance,\n",
    "        y0=0,\n",
    "        y1=1,\n",
    "        line=dict(color=df_zones[df_zones[\"Entity\"]==country][\"ISOCODE\"].values[0], width=1),\n",
    "    )\n",
    "\n",
    "# Update layout\n",
    "fig.update_layout(\n",
    "    title=\"Max Distance Walking\",\n",
    "    xaxis=dict(title=\"\"),\n",
    "    yaxis=dict(title=\"\"),\n",
    "    showlegend=False,\n",
    ")\n",
    "\n",
    "fig.show()\n",
    "\n"
   ]
  },
  {
   "cell_type": "code",
   "execution_count": null,
   "metadata": {},
   "outputs": [],
   "source": [
    "# sunburst plot of continents then countries, with population without water as values and color\n",
    "fig = px.sunburst(\n",
    "    df_countries,\n",
    "    path=[\"Entity\", \"region\"],\n",
    "    values=\"percent_without_water\",\n",
    "    color=\"percent_without_water\",\n",
    "    hover_data=hover_data_list,\n",
    "    title=\"Population without Water by Country\",\n",
    ")\n",
    "fig.show()"
   ]
  },
  {
   "cell_type": "code",
   "execution_count": null,
   "metadata": {},
   "outputs": [],
   "source": [
    "import os\n",
    "map2 = px.choropleth(\n",
    "    title=\"Percent of Population Has to Relocate\",\n",
    "    data_frame=df_zones,\n",
    "    locations=\"fid\",\n",
    "    height=600,\n",
    "    color=\"fraction_of_zone_with_walking_access\",\n",
    "    # use constant colorbar grading (not relative)\n",
    "    color_continuous_scale=\"ylorbr\",\n",
    "    range_color=(0, 100),\n",
    "    scope=\"world\",\n",
    "    # hover_name=\"Entity\",\n",
    "    # hover_data=hover_data_list\n",
    ")\n",
    "map2.layout.coloraxis.colorbar.title = ''\n",
    "\n",
    "\n"
   ]
  },
  {
   "cell_type": "code",
   "execution_count": null,
   "metadata": {},
   "outputs": [
    {
     "data": {
      "application/vnd.plotly.v1+json": {
       "config": {
        "plotlyServerURL": "https://plot.ly"
       },
       "data": [
        {
         "hovertemplate": "<b>%{hovertext}</b><br><br>region=Asia<br>percent_without_water=%{x}<br>Nat Piped=%{y}<br>bubble_size=%{marker.size}<extra></extra>",
         "hovertext": [
          "Afghanistan",
          "United Arab Emirates",
          "Armenia",
          "Azerbaijan",
          "Bangladesh",
          "Brunei",
          "Bhutan",
          "China",
          "Georgia",
          "Hong Kong",
          "Indonesia",
          "India",
          "Iran",
          "Iraq",
          "Israel",
          "Jordan",
          "Japan",
          "Kazakhstan",
          "Kyrgyzstan",
          "Cambodia",
          "South Korea",
          "Kuwait",
          "Laos",
          "Lebanon",
          "Sri Lanka",
          "Myanmar",
          "Mongolia",
          "Malaysia",
          "Nepal",
          "Oman",
          "Pakistan",
          "Philippines",
          "North Korea",
          "Palestine",
          "Qatar",
          "Saudi Arabia",
          "Singapore",
          "Syria",
          "Thailand",
          "Tajikistan",
          "Turkmenistan",
          "Timor",
          "Turkey",
          "Taiwan",
          "Uzbekistan",
          "Vietnam",
          "Yemen"
         ],
         "legendgroup": "Asia",
         "marker": {
          "color": "#636efa",
          "size": [
           89.83542800000001,
           59.991083,
           52.968128,
           60.223344,
           216.303494,
           50.441532,
           50.7799,
           1494.216102,
           53.979773,
           57.5528,
           326.36178799999993,
           1443.409033,
           135.02876,
           91.179351,
           58.789776,
           60.269022,
           176.050796,
           68.994958,
           56.628347,
           66.946446,
           101.305184,
           54.328553,
           57.379357999999996,
           56.769151,
           71.497306,
           104.80601399999999,
           53.329282,
           82.776195,
           79.67492,
           55.223376,
           275.199929,
           161.04690999999997,
           75.887045,
           55.222756000000004,
           52.930524,
           85.34067999999999,
           55.896684,
           68.27570399999999,
           119.950844,
           59.749624999999995,
           56.117933,
           51.343875,
           135.042736,
           73.855008,
           83.935765,
           148.16882900000002,
           80.490639
          ],
          "sizemode": "area",
          "sizeref": 3.735540255,
          "symbol": "circle"
         },
         "mode": "markers",
         "name": "Asia",
         "orientation": "v",
         "showlegend": true,
         "type": "scatter",
         "x": [
          30.650424584950375,
          99.95474802539132,
          24.27817451075206,
          20.228039809518496,
          4.545319052713037,
          18.449341184326904,
          43.77914109758325,
          20.549860730027465,
          19.18728212139154,
          81.28657727975526,
          15.203630021384534,
          14.781299759131409,
          53.04932769356257,
          27.943368678337997,
          77.9394547257582,
          61.3798593743844,
          17.61374972170487,
          34.53144802141006,
          23.718791241160538,
          17.082509289435595,
          32.0872232729841,
          92.0294160756311,
          18.849209083171925,
          59.82890789940257,
          27.53112977114632,
          24.019750891605497,
          29.908558019063847,
          29.50286817483295,
          10.56223462221212,
          83.83653431850841,
          9.849043375830284,
          17.151166745255885,
          29.62017388140268,
          58.310855555988105,
          85.30015578806233,
          83.66275078182093,
          47.69928189048111,
          46.23726913201235,
          14.831964584210333,
          40.20427877664695,
          15.669031561379466,
          80.34841911638644,
          35.25206813866142,
          19.225731945618204,
          24.80980493827906,
          7.7992241567240175,
          56.07503291838737
         ],
         "xaxis": "x",
         "y": [
          22,
          100,
          100,
          91,
          15,
          100,
          100,
          80,
          82,
          100,
          35,
          44,
          99,
          83,
          100,
          89,
          98,
          81,
          94,
          32,
          100,
          91.5,
          31,
          89,
          39,
          33,
          25,
          95,
          50,
          96,
          26,
          66,
          100,
          54,
          100,
          84,
          100,
          71,
          81,
          65,
          52,
          66,
          95,
          86.1428571428571,
          70,
          48,
          56
         ],
         "yaxis": "y"
        },
        {
         "hovertemplate": "<b>%{hovertext}</b><br><br>region=Africa<br>percent_without_water=%{x}<br>Nat Piped=%{y}<br>bubble_size=%{marker.size}<extra></extra>",
         "hovertext": [
          "Angola",
          "Burundi",
          "Benin",
          "Burkina Faso",
          "Botswana",
          "Central African Republic",
          "Cote d'Ivoire",
          "Cameroon",
          "Democratic Republic of Congo",
          "Congo",
          "Djibouti",
          "Algeria",
          "Egypt",
          "Eritrea",
          "Western Sahara",
          "Ethiopia",
          "Gabon",
          "Ghana",
          "Guinea",
          "Gambia",
          "Guinea-Bissau",
          "Equatorial Guinea",
          "Kenya",
          "Liberia",
          "Libya",
          "Lesotho",
          "Morocco",
          "Madagascar",
          "Mali",
          "Mozambique",
          "Mauritania",
          "Mauritius",
          "Malawi",
          "Namibia",
          "Niger",
          "Nigeria",
          "Reunion",
          "Rwanda",
          "Sudan",
          "Senegal",
          "Sierra Leone",
          "Somalia",
          "South Sudan",
          "Sao Tome and Principe",
          "Eswatini",
          "Chad",
          "Togo",
          "Tunisia",
          "Tanzania",
          "Uganda",
          "South Africa",
          "Zambia",
          "Zimbabwe"
         ],
         "legendgroup": "Africa",
         "marker": {
          "color": "#EF553B",
          "size": [
           83.933611,
           62.255429,
           62.451031,
           71.497097,
           52.39724,
           54.919987,
           77.053629,
           77.224262,
           142.37798600000002,
           55.657016999999996,
           51.002197,
           94.616626,
           154.25832699999998,
           53.601462,
           50.611872,
           167.87622599999997,
           52.278829,
           81.732128,
           63.497237,
           52.486937,
           52.01549,
           51.449891,
           104.985702,
           55.180208,
           56.958538,
           52.159067,
           87.344787,
           78.427333,
           70.85572400000001,
           82.163045,
           54.77511,
           51.273428,
           69.647681,
           52.587344,
           75.13081,
           261.400704,
           50.901696,
           63.276517,
           94.909351,
           67.196308,
           58.141343,
           66.3595,
           61.381377,
           50.223364,
           51.172369,
           66.914985,
           58.478242,
           61.935764,
           111.498438,
           97.12353300000001,
           110.04199599999998,
           68.920657,
           65.09217100000001
          ],
          "sizemode": "area",
          "sizeref": 3.735540255,
          "symbol": "circle"
         },
         "mode": "markers",
         "name": "Africa",
         "orientation": "v",
         "showlegend": true,
         "type": "scatter",
         "x": [
          61.87685723609214,
          30.973455214827528,
          40.50522492317031,
          33.641709160247046,
          76.09554918170191,
          50.67109186791584,
          40.28254304775189,
          37.8581084027514,
          65.97342848175676,
          48.059261589330696,
          68.4761130957827,
          38.35615107405666,
          41.89443092081913,
          56.053815627947316,
          70.62939143992794,
          48.639015222965945,
          46.35054798016414,
          29.511053229765405,
          26.786346667464304,
          30.05363432819077,
          46.26162085820328,
          39.86664826330728,
          40.54153133729928,
          25.000211227129576,
          70.9355136163486,
          27.532642270849877,
          60.76032635709999,
          65.42765526903364,
          39.395822444857956,
          43.77025402701607,
          68.52024665298964,
          17.510016847607027,
          12.376691222547159,
          77.91887504819377,
          65.25091250088289,
          28.049822743503732,
          40.47820452351801,
          33.60360949433565,
          49.004139246201746,
          70.56921551557826,
          43.61096111101236,
          45.3460809737113,
          26.006813821938167,
          59.255678452028036,
          24.297706905978483,
          48.4883767882005,
          37.843103682058796,
          61.63186850471513,
          38.60777517842524,
          21.384345167338534,
          28.527219470347383,
          40.76701138141014,
          34.34619883193892
         ],
         "xaxis": "x",
         "y": [
          42,
          38,
          37,
          28,
          91,
          14,
          42,
          36,
          35,
          53,
          83,
          72,
          100,
          52,
          68.3333333333333,
          41,
          82,
          35,
          25,
          77,
          35,
          41,
          33,
          4,
          78,
          69,
          80,
          35,
          50,
          41,
          53,
          100,
          22,
          81,
          40,
          10,
          100,
          38,
          46,
          75,
          21,
          47,
          4,
          97,
          61,
          20,
          25,
          93,
          38,
          23,
          91,
          32,
          27
         ],
         "yaxis": "y"
        },
        {
         "hovertemplate": "<b>%{hovertext}</b><br><br>region=Europe<br>percent_without_water=%{x}<br>Nat Piped=%{y}<br>bubble_size=%{marker.size}<extra></extra>",
         "hovertext": [
          "Albania",
          "Andorra",
          "Austria",
          "Belgium",
          "Bulgaria",
          "Bosnia and Herzegovina",
          "Belarus",
          "Switzerland",
          "Cyprus",
          "Czechia",
          "Germany",
          "Denmark",
          "Spain",
          "Estonia",
          "Finland",
          "France",
          "Faeroe Islands",
          "United Kingdom",
          "Greece",
          "Croatia",
          "Hungary",
          "Isle of Man",
          "Ireland",
          "Iceland",
          "Italy",
          "Liechtenstein",
          "Lithuania",
          "Luxembourg",
          "Latvia",
          "Moldova",
          "North Macedonia",
          "Malta",
          "Montenegro",
          "Netherlands",
          "Norway",
          "Poland",
          "Portugal",
          "Romania",
          "Russia",
          "Serbia",
          "Slovakia",
          "Slovenia",
          "Sweden",
          "Ukraine"
         ],
         "legendgroup": "Europe",
         "marker": {
          "color": "#00cc96",
          "size": [
           52.872934,
           50.077354,
           59.043071999999995,
           61.632334,
           56.896655,
           53.263459,
           59.442867,
           58.715494,
           51.215588,
           60.724553,
           133.900471,
           55.813302,
           96.745211,
           51.325188,
           55.548361,
           115.426177,
           50.049053,
           118.207114,
           60.370747,
           54.081657,
           59.634162,
           50.08541,
           54.982904,
           50.34336,
           110.367471,
           50.038254,
           52.689862,
           50.634814,
           51.866934,
           54.024025,
           52.082661,
           50.44279,
           50.628051,
           67.17309399999999,
           55.465629,
           87.797,
           60.167923,
           69.12777200000001,
           195.91202199999998,
           58.697547,
           55.460726,
           52.078723,
           60.160159,
           93.466822
          ],
          "sizemode": "area",
          "sizeref": 3.735540255,
          "symbol": "circle"
         },
         "mode": "markers",
         "name": "Europe",
         "orientation": "v",
         "showlegend": true,
         "type": "scatter",
         "x": [
          16.0712220660209,
          36.97870214420755,
          17.26378100415679,
          12.43902871401005,
          29.859565311858145,
          31.682602884485622,
          17.10838039298512,
          18.267272690639956,
          41.92178710267408,
          23.373208450972065,
          16.719191658011987,
          20.27422104747983,
          33.06219380915692,
          22.69772810057108,
          15.830318271893015,
          13.170886274673798,
          51.824410411968,
          15.571293457794205,
          63.2990996781255,
          31.695572863568493,
          21.745993734940463,
          46.848363062500724,
          20.69700324996246,
          41.3463624494295,
          21.97975086944454,
          40,
          17.655557366969987,
          34.277996521490785,
          16.219325679845145,
          20.3559128084753,
          21.88165778539107,
          45.35380173992071,
          32.500601820199805,
          6.6028690158084995,
          22.415375999279803,
          27.380783653745226,
          39.31231568257723,
          7.719916314081707,
          28.715589270518354,
          25.969604730247635,
          19.292732850329013,
          23.594417623580288,
          12.25853451193845,
          8.20643522657064
         ],
         "xaxis": "x",
         "y": [
          81,
          100,
          99.4285714285714,
          100,
          100,
          95,
          96,
          100,
          100,
          100,
          100,
          100,
          100,
          93,
          100,
          93,
          100,
          100,
          100,
          94.5,
          100,
          98,
          97,
          100,
          98,
          100,
          96,
          100,
          94,
          72,
          92,
          100,
          89,
          91,
          100,
          89,
          100,
          64,
          94,
          94,
          98,
          97.9821428571429,
          88,
          64
         ],
         "yaxis": "y"
        },
        {
         "hovertemplate": "<b>%{hovertext}</b><br><br>region=Americas<br>percent_without_water=%{x}<br>Nat Piped=%{y}<br>bubble_size=%{marker.size}<extra></extra>",
         "hovertext": [
          "Argentina",
          "Bahamas",
          "Belize",
          "Bolivia",
          "Brazil",
          "Canada",
          "Chile",
          "Colombia",
          "Costa Rica",
          "Cuba",
          "Dominican Republic",
          "Ecuador",
          "Falkland Islands",
          "Guadeloupe",
          "Grenada",
          "Greenland",
          "Guatemala",
          "French Guiana",
          "Guyana",
          "Honduras",
          "Haiti",
          "Jamaica",
          "Saint Lucia",
          "Mexico",
          "Montserrat",
          "Martinique",
          "Nicaragua",
          "Panama",
          "Peru",
          "Puerto Rico",
          "Paraguay",
          "El Salvador",
          "Suriname",
          "Trinidad and Tobago",
          "Uruguay",
          "United States",
          "Venezuela"
         ],
         "legendgroup": "Americas",
         "marker": {
          "color": "#ab63fa",
          "size": [
           95.605823,
           50.396914,
           50.404915,
           61.832936000000004,
           263.99344099999996,
           88.067913,
           69.212362,
           101.265841,
           55.139053,
           61.317498,
           60.953714,
           67.888474,
           50.003528,
           50.400013,
           50.113015,
           50.056868,
           68.24986799999999,
           50.30645,
           50.790329,
           60.062994,
           61.541683,
           52.973462,
           50.184401,
           180.26222,
           50.004981,
           50.374743,
           56.702379,
           54.381583,
           83.359415,
           52.828246,
           57.219640999999996,
           56.5185,
           50.591798,
           51.403374,
           53.485152,
           382.91507400000006,
           78.704947
          ],
          "sizemode": "area",
          "sizeref": 3.735540255,
          "symbol": "circle"
         },
         "mode": "markers",
         "name": "Americas",
         "orientation": "v",
         "showlegend": true,
         "type": "scatter",
         "x": [
          36.66792518199736,
          38.96060943701578,
          14.033573613233116,
          30.020730605192963,
          44.47720258320748,
          15.651788331354133,
          33.293816112488635,
          35.211603317792765,
          29.639894630622326,
          28.237858222167144,
          33.29578381858755,
          41.47946743936037,
          60.84419434228907,
          48.88811849088356,
          53.37459474216484,
          61.612203569803405,
          31.817238819013134,
          18.512411811966633,
          14.56039113369893,
          35.584276776316734,
          42.486105282786795,
          38.29285614173942,
          74.0130960688681,
          51.568663971759456,
          56.53775864446649,
          61.44899866148849,
          39.43015406721217,
          28.397048485503863,
          51.73142704067665,
          18.09160508279674,
          37.42362094533023,
          22.505495333717366,
          13.764390755234023,
          40.604113148007336,
          43.50538984663076,
          30.743492801000887,
          45.884785309943105
         ],
         "xaxis": "x",
         "y": [
          96,
          97,
          87,
          69,
          98,
          100,
          100,
          89,
          100,
          80,
          81,
          91,
          91,
          86.1428571428572,
          92,
          100,
          77,
          88,
          65,
          92,
          19,
          83,
          97,
          98,
          98,
          86.1428571428571,
          70,
          93,
          90,
          100,
          100,
          91,
          80,
          93,
          100,
          99,
          79
         ],
         "yaxis": "y"
        },
        {
         "hovertemplate": "<b>%{hovertext}</b><br><br>region=Oceania<br>percent_without_water=%{x}<br>Nat Piped=%{y}<br>bubble_size=%{marker.size}<extra></extra>",
         "hovertext": [
          "Australia",
          "Fiji",
          "New Caledonia",
          "New Zealand",
          "Papua New Guinea",
          "Solomon Islands",
          "Vanuatu",
          "Samoa"
         ],
         "legendgroup": "Oceania",
         "marker": {
          "color": "#FFA15A",
          "size": [
           75.788217,
           50.902899,
           50.288217,
           54.860642,
           59.119005,
           50.703995,
           50.314464,
           50.200144
          ],
          "sizemode": "area",
          "sizeref": 3.735540255,
          "symbol": "circle"
         },
         "mode": "markers",
         "name": "Oceania",
         "orientation": "v",
         "showlegend": true,
         "type": "scatter",
         "x": [
          20.358890515839597,
          37.29594311880728,
          37.80676782572808,
          25.678009142643187,
          52.61579649266655,
          48.07901034981743,
          26.491399247381015,
          56.275340742382916
         ],
         "xaxis": "x",
         "y": [
          91,
          83,
          99,
          100,
          18,
          46,
          48,
          84
         ],
         "yaxis": "y"
        }
       ],
       "layout": {
        "legend": {
         "itemsizing": "constant",
         "title": {
          "text": "region"
         },
         "tracegroupgap": 0
        },
        "template": {
         "data": {
          "bar": [
           {
            "error_x": {
             "color": "#2a3f5f"
            },
            "error_y": {
             "color": "#2a3f5f"
            },
            "marker": {
             "line": {
              "color": "#E5ECF6",
              "width": 0.5
             },
             "pattern": {
              "fillmode": "overlay",
              "size": 10,
              "solidity": 0.2
             }
            },
            "type": "bar"
           }
          ],
          "barpolar": [
           {
            "marker": {
             "line": {
              "color": "#E5ECF6",
              "width": 0.5
             },
             "pattern": {
              "fillmode": "overlay",
              "size": 10,
              "solidity": 0.2
             }
            },
            "type": "barpolar"
           }
          ],
          "carpet": [
           {
            "aaxis": {
             "endlinecolor": "#2a3f5f",
             "gridcolor": "white",
             "linecolor": "white",
             "minorgridcolor": "white",
             "startlinecolor": "#2a3f5f"
            },
            "baxis": {
             "endlinecolor": "#2a3f5f",
             "gridcolor": "white",
             "linecolor": "white",
             "minorgridcolor": "white",
             "startlinecolor": "#2a3f5f"
            },
            "type": "carpet"
           }
          ],
          "choropleth": [
           {
            "colorbar": {
             "outlinewidth": 0,
             "ticks": ""
            },
            "type": "choropleth"
           }
          ],
          "contour": [
           {
            "colorbar": {
             "outlinewidth": 0,
             "ticks": ""
            },
            "colorscale": [
             [
              0,
              "#0d0887"
             ],
             [
              0.1111111111111111,
              "#46039f"
             ],
             [
              0.2222222222222222,
              "#7201a8"
             ],
             [
              0.3333333333333333,
              "#9c179e"
             ],
             [
              0.4444444444444444,
              "#bd3786"
             ],
             [
              0.5555555555555556,
              "#d8576b"
             ],
             [
              0.6666666666666666,
              "#ed7953"
             ],
             [
              0.7777777777777778,
              "#fb9f3a"
             ],
             [
              0.8888888888888888,
              "#fdca26"
             ],
             [
              1,
              "#f0f921"
             ]
            ],
            "type": "contour"
           }
          ],
          "contourcarpet": [
           {
            "colorbar": {
             "outlinewidth": 0,
             "ticks": ""
            },
            "type": "contourcarpet"
           }
          ],
          "heatmap": [
           {
            "colorbar": {
             "outlinewidth": 0,
             "ticks": ""
            },
            "colorscale": [
             [
              0,
              "#0d0887"
             ],
             [
              0.1111111111111111,
              "#46039f"
             ],
             [
              0.2222222222222222,
              "#7201a8"
             ],
             [
              0.3333333333333333,
              "#9c179e"
             ],
             [
              0.4444444444444444,
              "#bd3786"
             ],
             [
              0.5555555555555556,
              "#d8576b"
             ],
             [
              0.6666666666666666,
              "#ed7953"
             ],
             [
              0.7777777777777778,
              "#fb9f3a"
             ],
             [
              0.8888888888888888,
              "#fdca26"
             ],
             [
              1,
              "#f0f921"
             ]
            ],
            "type": "heatmap"
           }
          ],
          "heatmapgl": [
           {
            "colorbar": {
             "outlinewidth": 0,
             "ticks": ""
            },
            "colorscale": [
             [
              0,
              "#0d0887"
             ],
             [
              0.1111111111111111,
              "#46039f"
             ],
             [
              0.2222222222222222,
              "#7201a8"
             ],
             [
              0.3333333333333333,
              "#9c179e"
             ],
             [
              0.4444444444444444,
              "#bd3786"
             ],
             [
              0.5555555555555556,
              "#d8576b"
             ],
             [
              0.6666666666666666,
              "#ed7953"
             ],
             [
              0.7777777777777778,
              "#fb9f3a"
             ],
             [
              0.8888888888888888,
              "#fdca26"
             ],
             [
              1,
              "#f0f921"
             ]
            ],
            "type": "heatmapgl"
           }
          ],
          "histogram": [
           {
            "marker": {
             "pattern": {
              "fillmode": "overlay",
              "size": 10,
              "solidity": 0.2
             }
            },
            "type": "histogram"
           }
          ],
          "histogram2d": [
           {
            "colorbar": {
             "outlinewidth": 0,
             "ticks": ""
            },
            "colorscale": [
             [
              0,
              "#0d0887"
             ],
             [
              0.1111111111111111,
              "#46039f"
             ],
             [
              0.2222222222222222,
              "#7201a8"
             ],
             [
              0.3333333333333333,
              "#9c179e"
             ],
             [
              0.4444444444444444,
              "#bd3786"
             ],
             [
              0.5555555555555556,
              "#d8576b"
             ],
             [
              0.6666666666666666,
              "#ed7953"
             ],
             [
              0.7777777777777778,
              "#fb9f3a"
             ],
             [
              0.8888888888888888,
              "#fdca26"
             ],
             [
              1,
              "#f0f921"
             ]
            ],
            "type": "histogram2d"
           }
          ],
          "histogram2dcontour": [
           {
            "colorbar": {
             "outlinewidth": 0,
             "ticks": ""
            },
            "colorscale": [
             [
              0,
              "#0d0887"
             ],
             [
              0.1111111111111111,
              "#46039f"
             ],
             [
              0.2222222222222222,
              "#7201a8"
             ],
             [
              0.3333333333333333,
              "#9c179e"
             ],
             [
              0.4444444444444444,
              "#bd3786"
             ],
             [
              0.5555555555555556,
              "#d8576b"
             ],
             [
              0.6666666666666666,
              "#ed7953"
             ],
             [
              0.7777777777777778,
              "#fb9f3a"
             ],
             [
              0.8888888888888888,
              "#fdca26"
             ],
             [
              1,
              "#f0f921"
             ]
            ],
            "type": "histogram2dcontour"
           }
          ],
          "mesh3d": [
           {
            "colorbar": {
             "outlinewidth": 0,
             "ticks": ""
            },
            "type": "mesh3d"
           }
          ],
          "parcoords": [
           {
            "line": {
             "colorbar": {
              "outlinewidth": 0,
              "ticks": ""
             }
            },
            "type": "parcoords"
           }
          ],
          "pie": [
           {
            "automargin": true,
            "type": "pie"
           }
          ],
          "scatter": [
           {
            "fillpattern": {
             "fillmode": "overlay",
             "size": 10,
             "solidity": 0.2
            },
            "type": "scatter"
           }
          ],
          "scatter3d": [
           {
            "line": {
             "colorbar": {
              "outlinewidth": 0,
              "ticks": ""
             }
            },
            "marker": {
             "colorbar": {
              "outlinewidth": 0,
              "ticks": ""
             }
            },
            "type": "scatter3d"
           }
          ],
          "scattercarpet": [
           {
            "marker": {
             "colorbar": {
              "outlinewidth": 0,
              "ticks": ""
             }
            },
            "type": "scattercarpet"
           }
          ],
          "scattergeo": [
           {
            "marker": {
             "colorbar": {
              "outlinewidth": 0,
              "ticks": ""
             }
            },
            "type": "scattergeo"
           }
          ],
          "scattergl": [
           {
            "marker": {
             "colorbar": {
              "outlinewidth": 0,
              "ticks": ""
             }
            },
            "type": "scattergl"
           }
          ],
          "scattermapbox": [
           {
            "marker": {
             "colorbar": {
              "outlinewidth": 0,
              "ticks": ""
             }
            },
            "type": "scattermapbox"
           }
          ],
          "scatterpolar": [
           {
            "marker": {
             "colorbar": {
              "outlinewidth": 0,
              "ticks": ""
             }
            },
            "type": "scatterpolar"
           }
          ],
          "scatterpolargl": [
           {
            "marker": {
             "colorbar": {
              "outlinewidth": 0,
              "ticks": ""
             }
            },
            "type": "scatterpolargl"
           }
          ],
          "scatterternary": [
           {
            "marker": {
             "colorbar": {
              "outlinewidth": 0,
              "ticks": ""
             }
            },
            "type": "scatterternary"
           }
          ],
          "surface": [
           {
            "colorbar": {
             "outlinewidth": 0,
             "ticks": ""
            },
            "colorscale": [
             [
              0,
              "#0d0887"
             ],
             [
              0.1111111111111111,
              "#46039f"
             ],
             [
              0.2222222222222222,
              "#7201a8"
             ],
             [
              0.3333333333333333,
              "#9c179e"
             ],
             [
              0.4444444444444444,
              "#bd3786"
             ],
             [
              0.5555555555555556,
              "#d8576b"
             ],
             [
              0.6666666666666666,
              "#ed7953"
             ],
             [
              0.7777777777777778,
              "#fb9f3a"
             ],
             [
              0.8888888888888888,
              "#fdca26"
             ],
             [
              1,
              "#f0f921"
             ]
            ],
            "type": "surface"
           }
          ],
          "table": [
           {
            "cells": {
             "fill": {
              "color": "#EBF0F8"
             },
             "line": {
              "color": "white"
             }
            },
            "header": {
             "fill": {
              "color": "#C8D4E3"
             },
             "line": {
              "color": "white"
             }
            },
            "type": "table"
           }
          ]
         },
         "layout": {
          "annotationdefaults": {
           "arrowcolor": "#2a3f5f",
           "arrowhead": 0,
           "arrowwidth": 1
          },
          "autotypenumbers": "strict",
          "coloraxis": {
           "colorbar": {
            "outlinewidth": 0,
            "ticks": ""
           }
          },
          "colorscale": {
           "diverging": [
            [
             0,
             "#8e0152"
            ],
            [
             0.1,
             "#c51b7d"
            ],
            [
             0.2,
             "#de77ae"
            ],
            [
             0.3,
             "#f1b6da"
            ],
            [
             0.4,
             "#fde0ef"
            ],
            [
             0.5,
             "#f7f7f7"
            ],
            [
             0.6,
             "#e6f5d0"
            ],
            [
             0.7,
             "#b8e186"
            ],
            [
             0.8,
             "#7fbc41"
            ],
            [
             0.9,
             "#4d9221"
            ],
            [
             1,
             "#276419"
            ]
           ],
           "sequential": [
            [
             0,
             "#0d0887"
            ],
            [
             0.1111111111111111,
             "#46039f"
            ],
            [
             0.2222222222222222,
             "#7201a8"
            ],
            [
             0.3333333333333333,
             "#9c179e"
            ],
            [
             0.4444444444444444,
             "#bd3786"
            ],
            [
             0.5555555555555556,
             "#d8576b"
            ],
            [
             0.6666666666666666,
             "#ed7953"
            ],
            [
             0.7777777777777778,
             "#fb9f3a"
            ],
            [
             0.8888888888888888,
             "#fdca26"
            ],
            [
             1,
             "#f0f921"
            ]
           ],
           "sequentialminus": [
            [
             0,
             "#0d0887"
            ],
            [
             0.1111111111111111,
             "#46039f"
            ],
            [
             0.2222222222222222,
             "#7201a8"
            ],
            [
             0.3333333333333333,
             "#9c179e"
            ],
            [
             0.4444444444444444,
             "#bd3786"
            ],
            [
             0.5555555555555556,
             "#d8576b"
            ],
            [
             0.6666666666666666,
             "#ed7953"
            ],
            [
             0.7777777777777778,
             "#fb9f3a"
            ],
            [
             0.8888888888888888,
             "#fdca26"
            ],
            [
             1,
             "#f0f921"
            ]
           ]
          },
          "colorway": [
           "#636efa",
           "#EF553B",
           "#00cc96",
           "#ab63fa",
           "#FFA15A",
           "#19d3f3",
           "#FF6692",
           "#B6E880",
           "#FF97FF",
           "#FECB52"
          ],
          "font": {
           "color": "#2a3f5f"
          },
          "geo": {
           "bgcolor": "white",
           "lakecolor": "white",
           "landcolor": "#E5ECF6",
           "showlakes": true,
           "showland": true,
           "subunitcolor": "white"
          },
          "hoverlabel": {
           "align": "left"
          },
          "hovermode": "closest",
          "mapbox": {
           "style": "light"
          },
          "paper_bgcolor": "white",
          "plot_bgcolor": "#E5ECF6",
          "polar": {
           "angularaxis": {
            "gridcolor": "white",
            "linecolor": "white",
            "ticks": ""
           },
           "bgcolor": "#E5ECF6",
           "radialaxis": {
            "gridcolor": "white",
            "linecolor": "white",
            "ticks": ""
           }
          },
          "scene": {
           "xaxis": {
            "backgroundcolor": "#E5ECF6",
            "gridcolor": "white",
            "gridwidth": 2,
            "linecolor": "white",
            "showbackground": true,
            "ticks": "",
            "zerolinecolor": "white"
           },
           "yaxis": {
            "backgroundcolor": "#E5ECF6",
            "gridcolor": "white",
            "gridwidth": 2,
            "linecolor": "white",
            "showbackground": true,
            "ticks": "",
            "zerolinecolor": "white"
           },
           "zaxis": {
            "backgroundcolor": "#E5ECF6",
            "gridcolor": "white",
            "gridwidth": 2,
            "linecolor": "white",
            "showbackground": true,
            "ticks": "",
            "zerolinecolor": "white"
           }
          },
          "shapedefaults": {
           "line": {
            "color": "#2a3f5f"
           }
          },
          "ternary": {
           "aaxis": {
            "gridcolor": "white",
            "linecolor": "white",
            "ticks": ""
           },
           "baxis": {
            "gridcolor": "white",
            "linecolor": "white",
            "ticks": ""
           },
           "bgcolor": "#E5ECF6",
           "caxis": {
            "gridcolor": "white",
            "linecolor": "white",
            "ticks": ""
           }
          },
          "title": {
           "x": 0.05
          },
          "xaxis": {
           "automargin": true,
           "gridcolor": "white",
           "linecolor": "white",
           "ticks": "",
           "title": {
            "standoff": 15
           },
           "zerolinecolor": "white",
           "zerolinewidth": 2
          },
          "yaxis": {
           "automargin": true,
           "gridcolor": "white",
           "linecolor": "white",
           "ticks": "",
           "title": {
            "standoff": 15
           },
           "zerolinecolor": "white",
           "zerolinewidth": 2
          }
         }
        },
        "title": {
         "text": "Access to Water vs. Piped Water vs. Population"
        },
        "xaxis": {
         "anchor": "y",
         "domain": [
          0,
          1
         ],
         "title": {
          "text": "percent_without_water"
         }
        },
        "yaxis": {
         "anchor": "x",
         "domain": [
          0,
          1
         ],
         "title": {
          "text": "Nat Piped"
         }
        }
       }
      },
      "text/html": [
       "<div>                            <div id=\"ad16cd70-8c53-4c55-a2e7-e62f2e48d5a6\" class=\"plotly-graph-div\" style=\"height:525px; width:100%;\"></div>            <script type=\"text/javascript\">                require([\"plotly\"], function(Plotly) {                    window.PLOTLYENV=window.PLOTLYENV || {};                                    if (document.getElementById(\"ad16cd70-8c53-4c55-a2e7-e62f2e48d5a6\")) {                    Plotly.newPlot(                        \"ad16cd70-8c53-4c55-a2e7-e62f2e48d5a6\",                        [{\"hovertemplate\":\"\\u003cb\\u003e%{hovertext}\\u003c\\u002fb\\u003e\\u003cbr\\u003e\\u003cbr\\u003eregion=Asia\\u003cbr\\u003epercent_without_water=%{x}\\u003cbr\\u003eNat Piped=%{y}\\u003cbr\\u003ebubble_size=%{marker.size}\\u003cextra\\u003e\\u003c\\u002fextra\\u003e\",\"hovertext\":[\"Afghanistan\",\"United Arab Emirates\",\"Armenia\",\"Azerbaijan\",\"Bangladesh\",\"Brunei\",\"Bhutan\",\"China\",\"Georgia\",\"Hong Kong\",\"Indonesia\",\"India\",\"Iran\",\"Iraq\",\"Israel\",\"Jordan\",\"Japan\",\"Kazakhstan\",\"Kyrgyzstan\",\"Cambodia\",\"South Korea\",\"Kuwait\",\"Laos\",\"Lebanon\",\"Sri Lanka\",\"Myanmar\",\"Mongolia\",\"Malaysia\",\"Nepal\",\"Oman\",\"Pakistan\",\"Philippines\",\"North Korea\",\"Palestine\",\"Qatar\",\"Saudi Arabia\",\"Singapore\",\"Syria\",\"Thailand\",\"Tajikistan\",\"Turkmenistan\",\"Timor\",\"Turkey\",\"Taiwan\",\"Uzbekistan\",\"Vietnam\",\"Yemen\"],\"legendgroup\":\"Asia\",\"marker\":{\"color\":\"#636efa\",\"size\":[89.83542800000001,59.991083,52.968128,60.223344,216.303494,50.441532,50.7799,1494.216102,53.979773,57.5528,326.36178799999993,1443.409033,135.02876,91.179351,58.789776,60.269022,176.050796,68.994958,56.628347,66.946446,101.305184,54.328553,57.379357999999996,56.769151,71.497306,104.80601399999999,53.329282,82.776195,79.67492,55.223376,275.199929,161.04690999999997,75.887045,55.222756000000004,52.930524,85.34067999999999,55.896684,68.27570399999999,119.950844,59.749624999999995,56.117933,51.343875,135.042736,73.855008,83.935765,148.16882900000002,80.490639],\"sizemode\":\"area\",\"sizeref\":3.735540255,\"symbol\":\"circle\"},\"mode\":\"markers\",\"name\":\"Asia\",\"orientation\":\"v\",\"showlegend\":true,\"x\":[30.650424584950375,99.95474802539132,24.27817451075206,20.228039809518496,4.545319052713037,18.449341184326904,43.77914109758325,20.549860730027465,19.18728212139154,81.28657727975526,15.203630021384534,14.781299759131409,53.04932769356257,27.943368678337997,77.9394547257582,61.3798593743844,17.61374972170487,34.53144802141006,23.718791241160538,17.082509289435595,32.0872232729841,92.0294160756311,18.849209083171925,59.82890789940257,27.53112977114632,24.019750891605497,29.908558019063847,29.50286817483295,10.56223462221212,83.83653431850841,9.849043375830284,17.151166745255885,29.62017388140268,58.310855555988105,85.30015578806233,83.66275078182093,47.69928189048111,46.23726913201235,14.831964584210333,40.20427877664695,15.669031561379466,80.34841911638644,35.25206813866142,19.225731945618204,24.80980493827906,7.7992241567240175,56.07503291838737],\"xaxis\":\"x\",\"y\":[22.0,100.0,100.0,91.0,15.0,100.0,100.0,80.0,82.0,100.0,35.0,44.0,99.0,83.0,100.0,89.0,98.0,81.0,94.0,32.0,100.0,91.5,31.0,89.0,39.0,33.0,25.0,95.0,50.0,96.0,26.0,66.0,100.0,54.0,100.0,84.0,100.0,71.0,81.0,65.0,52.0,66.0,95.0,86.1428571428571,70.0,48.0,56.0],\"yaxis\":\"y\",\"type\":\"scatter\"},{\"hovertemplate\":\"\\u003cb\\u003e%{hovertext}\\u003c\\u002fb\\u003e\\u003cbr\\u003e\\u003cbr\\u003eregion=Africa\\u003cbr\\u003epercent_without_water=%{x}\\u003cbr\\u003eNat Piped=%{y}\\u003cbr\\u003ebubble_size=%{marker.size}\\u003cextra\\u003e\\u003c\\u002fextra\\u003e\",\"hovertext\":[\"Angola\",\"Burundi\",\"Benin\",\"Burkina Faso\",\"Botswana\",\"Central African Republic\",\"Cote d'Ivoire\",\"Cameroon\",\"Democratic Republic of Congo\",\"Congo\",\"Djibouti\",\"Algeria\",\"Egypt\",\"Eritrea\",\"Western Sahara\",\"Ethiopia\",\"Gabon\",\"Ghana\",\"Guinea\",\"Gambia\",\"Guinea-Bissau\",\"Equatorial Guinea\",\"Kenya\",\"Liberia\",\"Libya\",\"Lesotho\",\"Morocco\",\"Madagascar\",\"Mali\",\"Mozambique\",\"Mauritania\",\"Mauritius\",\"Malawi\",\"Namibia\",\"Niger\",\"Nigeria\",\"Reunion\",\"Rwanda\",\"Sudan\",\"Senegal\",\"Sierra Leone\",\"Somalia\",\"South Sudan\",\"Sao Tome and Principe\",\"Eswatini\",\"Chad\",\"Togo\",\"Tunisia\",\"Tanzania\",\"Uganda\",\"South Africa\",\"Zambia\",\"Zimbabwe\"],\"legendgroup\":\"Africa\",\"marker\":{\"color\":\"#EF553B\",\"size\":[83.933611,62.255429,62.451031,71.497097,52.39724,54.919987,77.053629,77.224262,142.37798600000002,55.657016999999996,51.002197,94.616626,154.25832699999998,53.601462,50.611872,167.87622599999997,52.278829,81.732128,63.497237,52.486937,52.01549,51.449891,104.985702,55.180208,56.958538,52.159067,87.344787,78.427333,70.85572400000001,82.163045,54.77511,51.273428,69.647681,52.587344,75.13081,261.400704,50.901696,63.276517,94.909351,67.196308,58.141343,66.3595,61.381377,50.223364,51.172369,66.914985,58.478242,61.935764,111.498438,97.12353300000001,110.04199599999998,68.920657,65.09217100000001],\"sizemode\":\"area\",\"sizeref\":3.735540255,\"symbol\":\"circle\"},\"mode\":\"markers\",\"name\":\"Africa\",\"orientation\":\"v\",\"showlegend\":true,\"x\":[61.87685723609214,30.973455214827528,40.50522492317031,33.641709160247046,76.09554918170191,50.67109186791584,40.28254304775189,37.8581084027514,65.97342848175676,48.059261589330696,68.4761130957827,38.35615107405666,41.89443092081913,56.053815627947316,70.62939143992794,48.639015222965945,46.35054798016414,29.511053229765405,26.786346667464304,30.05363432819077,46.26162085820328,39.86664826330728,40.54153133729928,25.000211227129576,70.9355136163486,27.532642270849877,60.76032635709999,65.42765526903364,39.395822444857956,43.77025402701607,68.52024665298964,17.510016847607027,12.376691222547159,77.91887504819377,65.25091250088289,28.049822743503732,40.47820452351801,33.60360949433565,49.004139246201746,70.56921551557826,43.61096111101236,45.3460809737113,26.006813821938167,59.255678452028036,24.297706905978483,48.4883767882005,37.843103682058796,61.63186850471513,38.60777517842524,21.384345167338534,28.527219470347383,40.76701138141014,34.34619883193892],\"xaxis\":\"x\",\"y\":[42.0,38.0,37.0,28.0,91.0,14.0,42.0,36.0,35.0,53.0,83.0,72.0,100.0,52.0,68.3333333333333,41.0,82.0,35.0,25.0,77.0,35.0,41.0,33.0,4.0,78.0,69.0,80.0,35.0,50.0,41.0,53.0,100.0,22.0,81.0,40.0,10.0,100.0,38.0,46.0,75.0,21.0,47.0,4.0,97.0,61.0,20.0,25.0,93.0,38.0,23.0,91.0,32.0,27.0],\"yaxis\":\"y\",\"type\":\"scatter\"},{\"hovertemplate\":\"\\u003cb\\u003e%{hovertext}\\u003c\\u002fb\\u003e\\u003cbr\\u003e\\u003cbr\\u003eregion=Europe\\u003cbr\\u003epercent_without_water=%{x}\\u003cbr\\u003eNat Piped=%{y}\\u003cbr\\u003ebubble_size=%{marker.size}\\u003cextra\\u003e\\u003c\\u002fextra\\u003e\",\"hovertext\":[\"Albania\",\"Andorra\",\"Austria\",\"Belgium\",\"Bulgaria\",\"Bosnia and Herzegovina\",\"Belarus\",\"Switzerland\",\"Cyprus\",\"Czechia\",\"Germany\",\"Denmark\",\"Spain\",\"Estonia\",\"Finland\",\"France\",\"Faeroe Islands\",\"United Kingdom\",\"Greece\",\"Croatia\",\"Hungary\",\"Isle of Man\",\"Ireland\",\"Iceland\",\"Italy\",\"Liechtenstein\",\"Lithuania\",\"Luxembourg\",\"Latvia\",\"Moldova\",\"North Macedonia\",\"Malta\",\"Montenegro\",\"Netherlands\",\"Norway\",\"Poland\",\"Portugal\",\"Romania\",\"Russia\",\"Serbia\",\"Slovakia\",\"Slovenia\",\"Sweden\",\"Ukraine\"],\"legendgroup\":\"Europe\",\"marker\":{\"color\":\"#00cc96\",\"size\":[52.872934,50.077354,59.043071999999995,61.632334,56.896655,53.263459,59.442867,58.715494,51.215588,60.724553,133.900471,55.813302,96.745211,51.325188,55.548361,115.426177,50.049053,118.207114,60.370747,54.081657,59.634162,50.08541,54.982904,50.34336,110.367471,50.038254,52.689862,50.634814,51.866934,54.024025,52.082661,50.44279,50.628051,67.17309399999999,55.465629,87.797,60.167923,69.12777200000001,195.91202199999998,58.697547,55.460726,52.078723,60.160159,93.466822],\"sizemode\":\"area\",\"sizeref\":3.735540255,\"symbol\":\"circle\"},\"mode\":\"markers\",\"name\":\"Europe\",\"orientation\":\"v\",\"showlegend\":true,\"x\":[16.0712220660209,36.97870214420755,17.26378100415679,12.43902871401005,29.859565311858145,31.682602884485622,17.10838039298512,18.267272690639956,41.92178710267408,23.373208450972065,16.719191658011987,20.27422104747983,33.06219380915692,22.69772810057108,15.830318271893015,13.170886274673798,51.824410411968,15.571293457794205,63.2990996781255,31.695572863568493,21.745993734940463,46.848363062500724,20.69700324996246,41.3463624494295,21.97975086944454,40.0,17.655557366969987,34.277996521490785,16.219325679845145,20.3559128084753,21.88165778539107,45.35380173992071,32.500601820199805,6.6028690158084995,22.415375999279803,27.380783653745226,39.31231568257723,7.719916314081707,28.715589270518354,25.969604730247635,19.292732850329013,23.594417623580288,12.25853451193845,8.20643522657064],\"xaxis\":\"x\",\"y\":[81.0,100.0,99.4285714285714,100.0,100.0,95.0,96.0,100.0,100.0,100.0,100.0,100.0,100.0,93.0,100.0,93.0,100.0,100.0,100.0,94.5,100.0,98.0,97.0,100.0,98.0,100.0,96.0,100.0,94.0,72.0,92.0,100.0,89.0,91.0,100.0,89.0,100.0,64.0,94.0,94.0,98.0,97.9821428571429,88.0,64.0],\"yaxis\":\"y\",\"type\":\"scatter\"},{\"hovertemplate\":\"\\u003cb\\u003e%{hovertext}\\u003c\\u002fb\\u003e\\u003cbr\\u003e\\u003cbr\\u003eregion=Americas\\u003cbr\\u003epercent_without_water=%{x}\\u003cbr\\u003eNat Piped=%{y}\\u003cbr\\u003ebubble_size=%{marker.size}\\u003cextra\\u003e\\u003c\\u002fextra\\u003e\",\"hovertext\":[\"Argentina\",\"Bahamas\",\"Belize\",\"Bolivia\",\"Brazil\",\"Canada\",\"Chile\",\"Colombia\",\"Costa Rica\",\"Cuba\",\"Dominican Republic\",\"Ecuador\",\"Falkland Islands\",\"Guadeloupe\",\"Grenada\",\"Greenland\",\"Guatemala\",\"French Guiana\",\"Guyana\",\"Honduras\",\"Haiti\",\"Jamaica\",\"Saint Lucia\",\"Mexico\",\"Montserrat\",\"Martinique\",\"Nicaragua\",\"Panama\",\"Peru\",\"Puerto Rico\",\"Paraguay\",\"El Salvador\",\"Suriname\",\"Trinidad and Tobago\",\"Uruguay\",\"United States\",\"Venezuela\"],\"legendgroup\":\"Americas\",\"marker\":{\"color\":\"#ab63fa\",\"size\":[95.605823,50.396914,50.404915,61.832936000000004,263.99344099999996,88.067913,69.212362,101.265841,55.139053,61.317498,60.953714,67.888474,50.003528,50.400013,50.113015,50.056868,68.24986799999999,50.30645,50.790329,60.062994,61.541683,52.973462,50.184401,180.26222,50.004981,50.374743,56.702379,54.381583,83.359415,52.828246,57.219640999999996,56.5185,50.591798,51.403374,53.485152,382.91507400000006,78.704947],\"sizemode\":\"area\",\"sizeref\":3.735540255,\"symbol\":\"circle\"},\"mode\":\"markers\",\"name\":\"Americas\",\"orientation\":\"v\",\"showlegend\":true,\"x\":[36.66792518199736,38.96060943701578,14.033573613233116,30.020730605192963,44.47720258320748,15.651788331354133,33.293816112488635,35.211603317792765,29.639894630622326,28.237858222167144,33.29578381858755,41.47946743936037,60.84419434228907,48.88811849088356,53.37459474216484,61.612203569803405,31.817238819013134,18.512411811966633,14.56039113369893,35.584276776316734,42.486105282786795,38.29285614173942,74.0130960688681,51.568663971759456,56.53775864446649,61.44899866148849,39.43015406721217,28.397048485503863,51.73142704067665,18.09160508279674,37.42362094533023,22.505495333717366,13.764390755234023,40.604113148007336,43.50538984663076,30.743492801000887,45.884785309943105],\"xaxis\":\"x\",\"y\":[96.0,97.0,87.0,69.0,98.0,100.0,100.0,89.0,100.0,80.0,81.0,91.0,91.0,86.1428571428572,92.0,100.0,77.0,88.0,65.0,92.0,19.0,83.0,97.0,98.0,98.0,86.1428571428571,70.0,93.0,90.0,100.0,100.0,91.0,80.0,93.0,100.0,99.0,79.0],\"yaxis\":\"y\",\"type\":\"scatter\"},{\"hovertemplate\":\"\\u003cb\\u003e%{hovertext}\\u003c\\u002fb\\u003e\\u003cbr\\u003e\\u003cbr\\u003eregion=Oceania\\u003cbr\\u003epercent_without_water=%{x}\\u003cbr\\u003eNat Piped=%{y}\\u003cbr\\u003ebubble_size=%{marker.size}\\u003cextra\\u003e\\u003c\\u002fextra\\u003e\",\"hovertext\":[\"Australia\",\"Fiji\",\"New Caledonia\",\"New Zealand\",\"Papua New Guinea\",\"Solomon Islands\",\"Vanuatu\",\"Samoa\"],\"legendgroup\":\"Oceania\",\"marker\":{\"color\":\"#FFA15A\",\"size\":[75.788217,50.902899,50.288217,54.860642,59.119005,50.703995,50.314464,50.200144],\"sizemode\":\"area\",\"sizeref\":3.735540255,\"symbol\":\"circle\"},\"mode\":\"markers\",\"name\":\"Oceania\",\"orientation\":\"v\",\"showlegend\":true,\"x\":[20.358890515839597,37.29594311880728,37.80676782572808,25.678009142643187,52.61579649266655,48.07901034981743,26.491399247381015,56.275340742382916],\"xaxis\":\"x\",\"y\":[91.0,83.0,99.0,100.0,18.0,46.0,48.0,84.0],\"yaxis\":\"y\",\"type\":\"scatter\"}],                        {\"template\":{\"data\":{\"histogram2dcontour\":[{\"type\":\"histogram2dcontour\",\"colorbar\":{\"outlinewidth\":0,\"ticks\":\"\"},\"colorscale\":[[0.0,\"#0d0887\"],[0.1111111111111111,\"#46039f\"],[0.2222222222222222,\"#7201a8\"],[0.3333333333333333,\"#9c179e\"],[0.4444444444444444,\"#bd3786\"],[0.5555555555555556,\"#d8576b\"],[0.6666666666666666,\"#ed7953\"],[0.7777777777777778,\"#fb9f3a\"],[0.8888888888888888,\"#fdca26\"],[1.0,\"#f0f921\"]]}],\"choropleth\":[{\"type\":\"choropleth\",\"colorbar\":{\"outlinewidth\":0,\"ticks\":\"\"}}],\"histogram2d\":[{\"type\":\"histogram2d\",\"colorbar\":{\"outlinewidth\":0,\"ticks\":\"\"},\"colorscale\":[[0.0,\"#0d0887\"],[0.1111111111111111,\"#46039f\"],[0.2222222222222222,\"#7201a8\"],[0.3333333333333333,\"#9c179e\"],[0.4444444444444444,\"#bd3786\"],[0.5555555555555556,\"#d8576b\"],[0.6666666666666666,\"#ed7953\"],[0.7777777777777778,\"#fb9f3a\"],[0.8888888888888888,\"#fdca26\"],[1.0,\"#f0f921\"]]}],\"heatmap\":[{\"type\":\"heatmap\",\"colorbar\":{\"outlinewidth\":0,\"ticks\":\"\"},\"colorscale\":[[0.0,\"#0d0887\"],[0.1111111111111111,\"#46039f\"],[0.2222222222222222,\"#7201a8\"],[0.3333333333333333,\"#9c179e\"],[0.4444444444444444,\"#bd3786\"],[0.5555555555555556,\"#d8576b\"],[0.6666666666666666,\"#ed7953\"],[0.7777777777777778,\"#fb9f3a\"],[0.8888888888888888,\"#fdca26\"],[1.0,\"#f0f921\"]]}],\"heatmapgl\":[{\"type\":\"heatmapgl\",\"colorbar\":{\"outlinewidth\":0,\"ticks\":\"\"},\"colorscale\":[[0.0,\"#0d0887\"],[0.1111111111111111,\"#46039f\"],[0.2222222222222222,\"#7201a8\"],[0.3333333333333333,\"#9c179e\"],[0.4444444444444444,\"#bd3786\"],[0.5555555555555556,\"#d8576b\"],[0.6666666666666666,\"#ed7953\"],[0.7777777777777778,\"#fb9f3a\"],[0.8888888888888888,\"#fdca26\"],[1.0,\"#f0f921\"]]}],\"contourcarpet\":[{\"type\":\"contourcarpet\",\"colorbar\":{\"outlinewidth\":0,\"ticks\":\"\"}}],\"contour\":[{\"type\":\"contour\",\"colorbar\":{\"outlinewidth\":0,\"ticks\":\"\"},\"colorscale\":[[0.0,\"#0d0887\"],[0.1111111111111111,\"#46039f\"],[0.2222222222222222,\"#7201a8\"],[0.3333333333333333,\"#9c179e\"],[0.4444444444444444,\"#bd3786\"],[0.5555555555555556,\"#d8576b\"],[0.6666666666666666,\"#ed7953\"],[0.7777777777777778,\"#fb9f3a\"],[0.8888888888888888,\"#fdca26\"],[1.0,\"#f0f921\"]]}],\"surface\":[{\"type\":\"surface\",\"colorbar\":{\"outlinewidth\":0,\"ticks\":\"\"},\"colorscale\":[[0.0,\"#0d0887\"],[0.1111111111111111,\"#46039f\"],[0.2222222222222222,\"#7201a8\"],[0.3333333333333333,\"#9c179e\"],[0.4444444444444444,\"#bd3786\"],[0.5555555555555556,\"#d8576b\"],[0.6666666666666666,\"#ed7953\"],[0.7777777777777778,\"#fb9f3a\"],[0.8888888888888888,\"#fdca26\"],[1.0,\"#f0f921\"]]}],\"mesh3d\":[{\"type\":\"mesh3d\",\"colorbar\":{\"outlinewidth\":0,\"ticks\":\"\"}}],\"scatter\":[{\"fillpattern\":{\"fillmode\":\"overlay\",\"size\":10,\"solidity\":0.2},\"type\":\"scatter\"}],\"parcoords\":[{\"type\":\"parcoords\",\"line\":{\"colorbar\":{\"outlinewidth\":0,\"ticks\":\"\"}}}],\"scatterpolargl\":[{\"type\":\"scatterpolargl\",\"marker\":{\"colorbar\":{\"outlinewidth\":0,\"ticks\":\"\"}}}],\"bar\":[{\"error_x\":{\"color\":\"#2a3f5f\"},\"error_y\":{\"color\":\"#2a3f5f\"},\"marker\":{\"line\":{\"color\":\"#E5ECF6\",\"width\":0.5},\"pattern\":{\"fillmode\":\"overlay\",\"size\":10,\"solidity\":0.2}},\"type\":\"bar\"}],\"scattergeo\":[{\"type\":\"scattergeo\",\"marker\":{\"colorbar\":{\"outlinewidth\":0,\"ticks\":\"\"}}}],\"scatterpolar\":[{\"type\":\"scatterpolar\",\"marker\":{\"colorbar\":{\"outlinewidth\":0,\"ticks\":\"\"}}}],\"histogram\":[{\"marker\":{\"pattern\":{\"fillmode\":\"overlay\",\"size\":10,\"solidity\":0.2}},\"type\":\"histogram\"}],\"scattergl\":[{\"type\":\"scattergl\",\"marker\":{\"colorbar\":{\"outlinewidth\":0,\"ticks\":\"\"}}}],\"scatter3d\":[{\"type\":\"scatter3d\",\"line\":{\"colorbar\":{\"outlinewidth\":0,\"ticks\":\"\"}},\"marker\":{\"colorbar\":{\"outlinewidth\":0,\"ticks\":\"\"}}}],\"scattermapbox\":[{\"type\":\"scattermapbox\",\"marker\":{\"colorbar\":{\"outlinewidth\":0,\"ticks\":\"\"}}}],\"scatterternary\":[{\"type\":\"scatterternary\",\"marker\":{\"colorbar\":{\"outlinewidth\":0,\"ticks\":\"\"}}}],\"scattercarpet\":[{\"type\":\"scattercarpet\",\"marker\":{\"colorbar\":{\"outlinewidth\":0,\"ticks\":\"\"}}}],\"carpet\":[{\"aaxis\":{\"endlinecolor\":\"#2a3f5f\",\"gridcolor\":\"white\",\"linecolor\":\"white\",\"minorgridcolor\":\"white\",\"startlinecolor\":\"#2a3f5f\"},\"baxis\":{\"endlinecolor\":\"#2a3f5f\",\"gridcolor\":\"white\",\"linecolor\":\"white\",\"minorgridcolor\":\"white\",\"startlinecolor\":\"#2a3f5f\"},\"type\":\"carpet\"}],\"table\":[{\"cells\":{\"fill\":{\"color\":\"#EBF0F8\"},\"line\":{\"color\":\"white\"}},\"header\":{\"fill\":{\"color\":\"#C8D4E3\"},\"line\":{\"color\":\"white\"}},\"type\":\"table\"}],\"barpolar\":[{\"marker\":{\"line\":{\"color\":\"#E5ECF6\",\"width\":0.5},\"pattern\":{\"fillmode\":\"overlay\",\"size\":10,\"solidity\":0.2}},\"type\":\"barpolar\"}],\"pie\":[{\"automargin\":true,\"type\":\"pie\"}]},\"layout\":{\"autotypenumbers\":\"strict\",\"colorway\":[\"#636efa\",\"#EF553B\",\"#00cc96\",\"#ab63fa\",\"#FFA15A\",\"#19d3f3\",\"#FF6692\",\"#B6E880\",\"#FF97FF\",\"#FECB52\"],\"font\":{\"color\":\"#2a3f5f\"},\"hovermode\":\"closest\",\"hoverlabel\":{\"align\":\"left\"},\"paper_bgcolor\":\"white\",\"plot_bgcolor\":\"#E5ECF6\",\"polar\":{\"bgcolor\":\"#E5ECF6\",\"angularaxis\":{\"gridcolor\":\"white\",\"linecolor\":\"white\",\"ticks\":\"\"},\"radialaxis\":{\"gridcolor\":\"white\",\"linecolor\":\"white\",\"ticks\":\"\"}},\"ternary\":{\"bgcolor\":\"#E5ECF6\",\"aaxis\":{\"gridcolor\":\"white\",\"linecolor\":\"white\",\"ticks\":\"\"},\"baxis\":{\"gridcolor\":\"white\",\"linecolor\":\"white\",\"ticks\":\"\"},\"caxis\":{\"gridcolor\":\"white\",\"linecolor\":\"white\",\"ticks\":\"\"}},\"coloraxis\":{\"colorbar\":{\"outlinewidth\":0,\"ticks\":\"\"}},\"colorscale\":{\"sequential\":[[0.0,\"#0d0887\"],[0.1111111111111111,\"#46039f\"],[0.2222222222222222,\"#7201a8\"],[0.3333333333333333,\"#9c179e\"],[0.4444444444444444,\"#bd3786\"],[0.5555555555555556,\"#d8576b\"],[0.6666666666666666,\"#ed7953\"],[0.7777777777777778,\"#fb9f3a\"],[0.8888888888888888,\"#fdca26\"],[1.0,\"#f0f921\"]],\"sequentialminus\":[[0.0,\"#0d0887\"],[0.1111111111111111,\"#46039f\"],[0.2222222222222222,\"#7201a8\"],[0.3333333333333333,\"#9c179e\"],[0.4444444444444444,\"#bd3786\"],[0.5555555555555556,\"#d8576b\"],[0.6666666666666666,\"#ed7953\"],[0.7777777777777778,\"#fb9f3a\"],[0.8888888888888888,\"#fdca26\"],[1.0,\"#f0f921\"]],\"diverging\":[[0,\"#8e0152\"],[0.1,\"#c51b7d\"],[0.2,\"#de77ae\"],[0.3,\"#f1b6da\"],[0.4,\"#fde0ef\"],[0.5,\"#f7f7f7\"],[0.6,\"#e6f5d0\"],[0.7,\"#b8e186\"],[0.8,\"#7fbc41\"],[0.9,\"#4d9221\"],[1,\"#276419\"]]},\"xaxis\":{\"gridcolor\":\"white\",\"linecolor\":\"white\",\"ticks\":\"\",\"title\":{\"standoff\":15},\"zerolinecolor\":\"white\",\"automargin\":true,\"zerolinewidth\":2},\"yaxis\":{\"gridcolor\":\"white\",\"linecolor\":\"white\",\"ticks\":\"\",\"title\":{\"standoff\":15},\"zerolinecolor\":\"white\",\"automargin\":true,\"zerolinewidth\":2},\"scene\":{\"xaxis\":{\"backgroundcolor\":\"#E5ECF6\",\"gridcolor\":\"white\",\"linecolor\":\"white\",\"showbackground\":true,\"ticks\":\"\",\"zerolinecolor\":\"white\",\"gridwidth\":2},\"yaxis\":{\"backgroundcolor\":\"#E5ECF6\",\"gridcolor\":\"white\",\"linecolor\":\"white\",\"showbackground\":true,\"ticks\":\"\",\"zerolinecolor\":\"white\",\"gridwidth\":2},\"zaxis\":{\"backgroundcolor\":\"#E5ECF6\",\"gridcolor\":\"white\",\"linecolor\":\"white\",\"showbackground\":true,\"ticks\":\"\",\"zerolinecolor\":\"white\",\"gridwidth\":2}},\"shapedefaults\":{\"line\":{\"color\":\"#2a3f5f\"}},\"annotationdefaults\":{\"arrowcolor\":\"#2a3f5f\",\"arrowhead\":0,\"arrowwidth\":1},\"geo\":{\"bgcolor\":\"white\",\"landcolor\":\"#E5ECF6\",\"subunitcolor\":\"white\",\"showland\":true,\"showlakes\":true,\"lakecolor\":\"white\"},\"title\":{\"x\":0.05},\"mapbox\":{\"style\":\"light\"}}},\"xaxis\":{\"anchor\":\"y\",\"domain\":[0.0,1.0],\"title\":{\"text\":\"percent_without_water\"}},\"yaxis\":{\"anchor\":\"x\",\"domain\":[0.0,1.0],\"title\":{\"text\":\"Nat Piped\"}},\"legend\":{\"title\":{\"text\":\"region\"},\"tracegroupgap\":0,\"itemsizing\":\"constant\"},\"title\":{\"text\":\"Access to Water vs. Piped Water vs. Population\"}},                        {\"responsive\": true}                    ).then(function(){\n",
       "                            \n",
       "var gd = document.getElementById('ad16cd70-8c53-4c55-a2e7-e62f2e48d5a6');\n",
       "var x = new MutationObserver(function (mutations, observer) {{\n",
       "        var display = window.getComputedStyle(gd).display;\n",
       "        if (!display || display === 'none') {{\n",
       "            console.log([gd, 'removed!']);\n",
       "            Plotly.purge(gd);\n",
       "            observer.disconnect();\n",
       "        }}\n",
       "}});\n",
       "\n",
       "// Listen for the removal of the full notebook cells\n",
       "var notebookContainer = gd.closest('#notebook-container');\n",
       "if (notebookContainer) {{\n",
       "    x.observe(notebookContainer, {childList: true});\n",
       "}}\n",
       "\n",
       "// Listen for the clearing of the current output cell\n",
       "var outputEl = gd.closest('.output');\n",
       "if (outputEl) {{\n",
       "    x.observe(outputEl, {childList: true});\n",
       "}}\n",
       "\n",
       "                        })                };                });            </script>        </div>"
      ]
     },
     "metadata": {},
     "output_type": "display_data"
    }
   ],
   "source": [
    "# create bubble chart from df_countries comprising: access to water, piped water, and using population as the size of the bubble\n",
    "# create a new column for the size of the bubble\n",
    "df_countries[\"bubble_size\"] = df_countries[\"country_pop_raw\"] / 1000000 +50\n",
    "\n",
    "# create a new column for the color of the bubble\n",
    "df_countries[\"bubble_color\"] = df_countries[\"Nat Piped\"]\n",
    "\n",
    "# create a new column for the text of the bubble\n",
    "df_countries[\"bubble_text\"] = df_countries[\"Entity\"]\n",
    "\n",
    "px.scatter(df_countries, x=\"percent_without_water\", y=\"Nat Piped\", size=\"bubble_size\", color=\"region\", hover_name=\"bubble_text\", title=\"Access to Water vs. Piped Water vs. Population\")"
   ]
  },
  {
   "attachments": {},
   "cell_type": "markdown",
   "metadata": {},
   "source": [
    "Above graph is the money shot. NMeed to fix bubble sizes, maybe add labels"
   ]
  },
  {
   "cell_type": "code",
   "execution_count": null,
   "metadata": {},
   "outputs": [
    {
     "data": {
      "application/vnd.plotly.v1+json": {
       "config": {
        "plotlyServerURL": "https://plot.ly"
       },
       "data": [
        {
         "hovertemplate": "subregion=Eastern Africa<br>Entity=%{x}<br>weighted_med=%{y}<extra></extra>",
         "legendgroup": "Eastern Africa",
         "line": {
          "color": "#636efa",
          "dash": "solid"
         },
         "marker": {
          "symbol": "circle"
         },
         "mode": "lines",
         "name": "Eastern Africa",
         "orientation": "v",
         "showlegend": true,
         "type": "scatter",
         "x": [
          "Mauritius",
          "Malawi",
          "Zambia",
          "Uganda",
          "Tanzania",
          "Mozambique",
          "Burundi",
          "Rwanda",
          "Zimbabwe",
          "Madagascar",
          "Kenya",
          "Reunion",
          "Ethiopia",
          "Eritrea",
          "Djibouti",
          "Somalia"
         ],
         "xaxis": "x",
         "y": [
          2,
          2.82842700195312,
          3,
          3,
          3,
          3.16227807617188,
          3.16227807617188,
          3.60555102539062,
          3.60555102539062,
          4,
          4.12310498046875,
          4.12310498046875,
          7.07106787109375,
          21.09501953125,
          38.83298046875,
          86.2786171875
         ],
         "yaxis": "y"
        },
        {
         "hovertemplate": "subregion=Middle Africa<br>Entity=%{x}<br>weighted_med=%{y}<extra></extra>",
         "legendgroup": "Middle Africa",
         "line": {
          "color": "#EF553B",
          "dash": "solid"
         },
         "marker": {
          "symbol": "circle"
         },
         "mode": "lines",
         "name": "Middle Africa",
         "orientation": "v",
         "showlegend": true,
         "type": "scatter",
         "x": [
          "Congo",
          "Central African Republic",
          "Democratic Republic of Congo",
          "Equatorial Guinea",
          "Cameroon",
          "Angola",
          "Gabon",
          "Sao Tome and Principe",
          "South Sudan",
          "Chad"
         ],
         "xaxis": "x",
         "y": [
          2,
          3,
          3,
          3.16227807617188,
          3.60555102539062,
          4.12310498046875,
          4.47213623046875,
          5.09902001953125,
          9.4868330078125,
          20
         ],
         "yaxis": "y"
        },
        {
         "hovertemplate": "subregion=Central America<br>Entity=%{x}<br>weighted_med=%{y}<extra></extra>",
         "legendgroup": "Central America",
         "line": {
          "color": "#00cc96",
          "dash": "solid"
         },
         "marker": {
          "symbol": "circle"
         },
         "mode": "lines",
         "name": "Central America",
         "orientation": "v",
         "showlegend": true,
         "type": "scatter",
         "x": [
          "Panama",
          "El Salvador",
          "Belize",
          "Honduras",
          "Costa Rica",
          "Guatemala",
          "Nicaragua",
          "Mexico"
         ],
         "xaxis": "x",
         "y": [
          2,
          2.82842700195312,
          2.82842700195312,
          3.16227807617188,
          3.16227807617188,
          3.60555102539062,
          4,
          5.65685400390625
         ],
         "yaxis": "y"
        },
        {
         "hovertemplate": "subregion=Caribbean<br>Entity=%{x}<br>weighted_med=%{y}<extra></extra>",
         "legendgroup": "Caribbean",
         "line": {
          "color": "#ab63fa",
          "dash": "solid"
         },
         "marker": {
          "symbol": "circle"
         },
         "mode": "lines",
         "name": "Caribbean",
         "orientation": "v",
         "showlegend": true,
         "type": "scatter",
         "x": [
          "Puerto Rico",
          "Dominican Republic",
          "Haiti",
          "Jamaica",
          "Cuba",
          "Montserrat",
          "Bahamas",
          "Trinidad and Tobago",
          "Martinique",
          "Grenada",
          "Saint Lucia",
          "Guadeloupe"
         ],
         "xaxis": "x",
         "y": [
          2.23606811523438,
          3.60555102539062,
          4.12310498046875,
          4.12310498046875,
          4.47213623046875,
          5,
          5.09902001953125,
          5.3851650390625,
          7.81025,
          9.219544921875,
          13.03841015625,
          22.4722109375
         ],
         "yaxis": "y"
        },
        {
         "hovertemplate": "subregion=South-Eastern Asia<br>Entity=%{x}<br>weighted_med=%{y}<extra></extra>",
         "legendgroup": "South-Eastern Asia",
         "line": {
          "color": "#FFA15A",
          "dash": "solid"
         },
         "marker": {
          "symbol": "circle"
         },
         "mode": "lines",
         "name": "South-Eastern Asia",
         "orientation": "v",
         "showlegend": true,
         "type": "scatter",
         "x": [
          "Brunei",
          "Philippines",
          "Vietnam",
          "Thailand",
          "Myanmar",
          "Laos",
          "Cambodia",
          "Malaysia",
          "Indonesia",
          "Singapore",
          "Timor"
         ],
         "xaxis": "x",
         "y": [
          2.23606811523438,
          2.23606811523438,
          2.23606811523438,
          2.82842700195312,
          2.82842700195312,
          3,
          3.16227807617188,
          3.16227807617188,
          4.12310498046875,
          10.4403095703125,
          35
         ],
         "yaxis": "y"
        },
        {
         "hovertemplate": "subregion=Southern Africa<br>Entity=%{x}<br>weighted_med=%{y}<extra></extra>",
         "legendgroup": "Southern Africa",
         "line": {
          "color": "#19d3f3",
          "dash": "solid"
         },
         "marker": {
          "symbol": "circle"
         },
         "mode": "lines",
         "name": "Southern Africa",
         "orientation": "v",
         "showlegend": true,
         "type": "scatter",
         "x": [
          "Eswatini",
          "Lesotho",
          "South Africa",
          "Namibia",
          "Botswana"
         ],
         "xaxis": "x",
         "y": [
          2.23606811523438,
          2.23606811523438,
          3.16227807617188,
          30.413810546875,
          33.94112890625
         ],
         "yaxis": "y"
        },
        {
         "hovertemplate": "subregion=Northern Europe<br>Entity=%{x}<br>weighted_med=%{y}<extra></extra>",
         "legendgroup": "Northern Europe",
         "line": {
          "color": "#FF6692",
          "dash": "solid"
         },
         "marker": {
          "symbol": "circle"
         },
         "mode": "lines",
         "name": "Northern Europe",
         "orientation": "v",
         "showlegend": true,
         "type": "scatter",
         "x": [
          "Sweden",
          "Norway",
          "Estonia",
          "Lithuania",
          "United Kingdom",
          "Latvia",
          "Ireland",
          "Finland",
          "Denmark",
          "Isle of Man",
          "Faeroe Islands",
          "Iceland"
         ],
         "xaxis": "x",
         "y": [
          2.23606811523438,
          2.23606811523438,
          2.82842700195312,
          2.82842700195312,
          3,
          3,
          3.16227807617188,
          3.16227807617188,
          3.60555102539062,
          4.47213623046875,
          5.3851650390625,
          5.3851650390625
         ],
         "yaxis": "y"
        },
        {
         "hovertemplate": "subregion=South America<br>Entity=%{x}<br>weighted_med=%{y}<extra></extra>",
         "legendgroup": "South America",
         "line": {
          "color": "#B6E880",
          "dash": "solid"
         },
         "marker": {
          "symbol": "circle"
         },
         "mode": "lines",
         "name": "South America",
         "orientation": "v",
         "showlegend": true,
         "type": "scatter",
         "x": [
          "Suriname",
          "Guyana",
          "French Guiana",
          "Colombia",
          "Chile",
          "Ecuador",
          "Paraguay",
          "Peru",
          "Brazil",
          "Venezuela",
          "Bolivia",
          "Argentina",
          "Uruguay",
          "Falkland Islands"
         ],
         "xaxis": "x",
         "y": [
          2.23606811523438,
          2.82842700195312,
          3,
          3.60555102539062,
          4,
          4.12310498046875,
          4.24264111328125,
          4.47213623046875,
          5,
          5.3851650390625,
          5.3851650390625,
          6,
          8.0622578125,
          14.3178203125
         ],
         "yaxis": "y"
        },
        {
         "hovertemplate": "subregion=Western Europe<br>Entity=%{x}<br>weighted_med=%{y}<extra></extra>",
         "legendgroup": "Western Europe",
         "line": {
          "color": "#FF97FF",
          "dash": "solid"
         },
         "marker": {
          "symbol": "circle"
         },
         "mode": "lines",
         "name": "Western Europe",
         "orientation": "v",
         "showlegend": true,
         "type": "scatter",
         "x": [
          "Netherlands",
          "France",
          "Switzerland",
          "Austria",
          "Belgium",
          "Germany",
          "Liechtenstein",
          "Luxembourg"
         ],
         "xaxis": "x",
         "y": [
          2.23606811523438,
          2.82842700195312,
          2.82842700195312,
          2.82842700195312,
          3.16227807617188,
          3.16227807617188,
          3.60555102539062,
          4.47213623046875
         ],
         "yaxis": "y"
        },
        {
         "hovertemplate": "subregion=Melanesia<br>Entity=%{x}<br>weighted_med=%{y}<extra></extra>",
         "legendgroup": "Melanesia",
         "line": {
          "color": "#FECB52",
          "dash": "solid"
         },
         "marker": {
          "symbol": "circle"
         },
         "mode": "lines",
         "name": "Melanesia",
         "orientation": "v",
         "showlegend": true,
         "type": "scatter",
         "x": [
          "Papua New Guinea",
          "New Caledonia",
          "Solomon Islands",
          "Vanuatu",
          "Fiji"
         ],
         "xaxis": "x",
         "y": [
          2.23606811523438,
          3.16227807617188,
          3.60555102539062,
          4,
          4
         ],
         "yaxis": "y"
        },
        {
         "hovertemplate": "subregion=Southern Europe<br>Entity=%{x}<br>weighted_med=%{y}<extra></extra>",
         "legendgroup": "Southern Europe",
         "line": {
          "color": "#636efa",
          "dash": "solid"
         },
         "marker": {
          "symbol": "circle"
         },
         "mode": "lines",
         "name": "Southern Europe",
         "orientation": "v",
         "showlegend": true,
         "type": "scatter",
         "x": [
          "Albania",
          "Slovenia",
          "Italy",
          "North Macedonia",
          "Bosnia and Herzegovina",
          "Montenegro",
          "Croatia",
          "Spain",
          "Portugal",
          "Andorra",
          "Malta",
          "Cyprus",
          "Greece"
         ],
         "xaxis": "x",
         "y": [
          2.23606811523438,
          2.82842700195312,
          3,
          3,
          3.16227807617188,
          3.60555102539062,
          3.60555102539062,
          4,
          4,
          4.12310498046875,
          4.12310498046875,
          5,
          8
         ],
         "yaxis": "y"
        },
        {
         "hovertemplate": "subregion=Eastern Asia<br>Entity=%{x}<br>weighted_med=%{y}<extra></extra>",
         "legendgroup": "Eastern Asia",
         "line": {
          "color": "#EF553B",
          "dash": "solid"
         },
         "marker": {
          "symbol": "circle"
         },
         "mode": "lines",
         "name": "Eastern Asia",
         "orientation": "v",
         "showlegend": true,
         "type": "scatter",
         "x": [
          "Japan",
          "Taiwan",
          "China",
          "Mongolia",
          "North Korea",
          "South Korea",
          "Hong Kong"
         ],
         "xaxis": "x",
         "y": [
          2.23606811523438,
          3,
          3.16227807617188,
          3.60555102539062,
          3.60555102539062,
          4.47213623046875,
          25
         ],
         "yaxis": "y"
        },
        {
         "hovertemplate": "subregion=Western Asia<br>Entity=%{x}<br>weighted_med=%{y}<extra></extra>",
         "legendgroup": "Western Asia",
         "line": {
          "color": "#00cc96",
          "dash": "solid"
         },
         "marker": {
          "symbol": "circle"
         },
         "mode": "lines",
         "name": "Western Asia",
         "orientation": "v",
         "showlegend": true,
         "type": "scatter",
         "x": [
          "Azerbaijan",
          "Georgia",
          "Armenia",
          "Turkey",
          "Iraq",
          "Lebanon",
          "Syria",
          "Jordan",
          "Israel",
          "Palestine",
          "Yemen",
          "Oman",
          "Kuwait",
          "United Arab Emirates",
          "Qatar",
          "Saudi Arabia"
         ],
         "xaxis": "x",
         "y": [
          2.23606811523438,
          2.82842700195312,
          2.82842700195312,
          3.60555102539062,
          3.60555102539062,
          6.7082041015625,
          8.0622578125,
          9.4339814453125,
          16.12451953125,
          19.104970703125,
          21.9317109375,
          53.0094296875,
          104.995203125,
          171.819703125,
          196.6215,
          216.01159375
         ],
         "yaxis": "y"
        },
        {
         "hovertemplate": "subregion=Eastern Europe<br>Entity=%{x}<br>weighted_med=%{y}<extra></extra>",
         "legendgroup": "Eastern Europe",
         "line": {
          "color": "#ab63fa",
          "dash": "solid"
         },
         "marker": {
          "symbol": "circle"
         },
         "mode": "lines",
         "name": "Eastern Europe",
         "orientation": "v",
         "showlegend": true,
         "type": "scatter",
         "x": [
          "Slovakia",
          "Moldova",
          "Hungary",
          "Poland",
          "Romania",
          "Belarus",
          "Bulgaria",
          "Ukraine",
          "Russia",
          "Serbia",
          "Czechia"
         ],
         "xaxis": "x",
         "y": [
          2.82842700195312,
          2.82842700195312,
          2.82842700195312,
          3,
          3,
          3,
          3.16227807617188,
          3.16227807617188,
          3.16227807617188,
          3.16227807617188,
          3.16227807617188
         ],
         "yaxis": "y"
        },
        {
         "hovertemplate": "subregion=Southern Asia<br>Entity=%{x}<br>weighted_med=%{y}<extra></extra>",
         "legendgroup": "Southern Asia",
         "line": {
          "color": "#FFA15A",
          "dash": "solid"
         },
         "marker": {
          "symbol": "circle"
         },
         "mode": "lines",
         "name": "Southern Asia",
         "orientation": "v",
         "showlegend": true,
         "type": "scatter",
         "x": [
          "Nepal",
          "Bangladesh",
          "Pakistan",
          "Sri Lanka",
          "India",
          "Bhutan",
          "Iran",
          "Afghanistan"
         ],
         "xaxis": "x",
         "y": [
          2.82842700195312,
          2.82842700195312,
          3,
          3.60555102539062,
          3.60555102539062,
          4,
          5.3851650390625,
          5.8309521484375
         ],
         "yaxis": "y"
        },
        {
         "hovertemplate": "subregion=Australia and New Zealand<br>Entity=%{x}<br>weighted_med=%{y}<extra></extra>",
         "legendgroup": "Australia and New Zealand",
         "line": {
          "color": "#19d3f3",
          "dash": "solid"
         },
         "marker": {
          "symbol": "circle"
         },
         "mode": "lines",
         "name": "Australia and New Zealand",
         "orientation": "v",
         "showlegend": true,
         "type": "scatter",
         "x": [
          "New Zealand",
          "Australia"
         ],
         "xaxis": "x",
         "y": [
          2.82842700195312,
          2.82842700195312
         ],
         "yaxis": "y"
        },
        {
         "hovertemplate": "subregion=Central Asia<br>Entity=%{x}<br>weighted_med=%{y}<extra></extra>",
         "legendgroup": "Central Asia",
         "line": {
          "color": "#FF6692",
          "dash": "solid"
         },
         "marker": {
          "symbol": "circle"
         },
         "mode": "lines",
         "name": "Central Asia",
         "orientation": "v",
         "showlegend": true,
         "type": "scatter",
         "x": [
          "Kyrgyzstan",
          "Uzbekistan",
          "Tajikistan",
          "Kazakhstan",
          "Turkmenistan"
         ],
         "xaxis": "x",
         "y": [
          2.82842700195312,
          3.60555102539062,
          3.60555102539062,
          4.12310498046875,
          17.691810546875
         ],
         "yaxis": "y"
        },
        {
         "hovertemplate": "subregion=Northern America<br>Entity=%{x}<br>weighted_med=%{y}<extra></extra>",
         "legendgroup": "Northern America",
         "line": {
          "color": "#B6E880",
          "dash": "solid"
         },
         "marker": {
          "symbol": "circle"
         },
         "mode": "lines",
         "name": "Northern America",
         "orientation": "v",
         "showlegend": true,
         "type": "scatter",
         "x": [
          "Canada",
          "United States",
          "Greenland"
         ],
         "xaxis": "x",
         "y": [
          3,
          4.12310498046875,
          18.027759765625
         ],
         "yaxis": "y"
        },
        {
         "hovertemplate": "subregion=Western Africa<br>Entity=%{x}<br>weighted_med=%{y}<extra></extra>",
         "legendgroup": "Western Africa",
         "line": {
          "color": "#FF97FF",
          "dash": "solid"
         },
         "marker": {
          "symbol": "circle"
         },
         "mode": "lines",
         "name": "Western Africa",
         "orientation": "v",
         "showlegend": true,
         "type": "scatter",
         "x": [
          "Sierra Leone",
          "Guinea",
          "Togo",
          "Nigeria",
          "Guinea-Bissau",
          "Cote d'Ivoire",
          "Liberia",
          "Ghana",
          "Gambia",
          "Benin",
          "Mali",
          "Burkina Faso",
          "Senegal",
          "Mauritania",
          "Niger"
         ],
         "xaxis": "x",
         "y": [
          3,
          3.16227807617188,
          3.60555102539062,
          3.60555102539062,
          3.60555102539062,
          4.12310498046875,
          4.24264111328125,
          4.24264111328125,
          4.24264111328125,
          5,
          8.54400390625,
          10.2956298828125,
          17.46425,
          30.80583984375,
          33.8378515625
         ],
         "yaxis": "y"
        },
        {
         "hovertemplate": "subregion=Northern Africa<br>Entity=%{x}<br>weighted_med=%{y}<extra></extra>",
         "legendgroup": "Northern Africa",
         "line": {
          "color": "#FECB52",
          "dash": "solid"
         },
         "marker": {
          "symbol": "circle"
         },
         "mode": "lines",
         "name": "Northern Africa",
         "orientation": "v",
         "showlegend": true,
         "type": "scatter",
         "x": [
          "Egypt",
          "Morocco",
          "Algeria",
          "Tunisia",
          "Sudan",
          "Western Sahara",
          "Libya"
         ],
         "xaxis": "x",
         "y": [
          3.60555102539062,
          7.07106787109375,
          7.28010986328125,
          14.035669921875,
          47.85394921875,
          137.295296875,
          223.5755
         ],
         "yaxis": "y"
        },
        {
         "hovertemplate": "subregion=Polynesia<br>Entity=%{x}<br>weighted_med=%{y}<extra></extra>",
         "legendgroup": "Polynesia",
         "line": {
          "color": "#636efa",
          "dash": "solid"
         },
         "marker": {
          "symbol": "circle"
         },
         "mode": "lines",
         "name": "Polynesia",
         "orientation": "v",
         "showlegend": true,
         "type": "scatter",
         "x": [
          "Samoa"
         ],
         "xaxis": "x",
         "y": [
          6.7082041015625
         ],
         "yaxis": "y"
        }
       ],
       "layout": {
        "legend": {
         "title": {
          "text": "subregion"
         },
         "tracegroupgap": 0
        },
        "template": {
         "data": {
          "bar": [
           {
            "error_x": {
             "color": "#2a3f5f"
            },
            "error_y": {
             "color": "#2a3f5f"
            },
            "marker": {
             "line": {
              "color": "#E5ECF6",
              "width": 0.5
             },
             "pattern": {
              "fillmode": "overlay",
              "size": 10,
              "solidity": 0.2
             }
            },
            "type": "bar"
           }
          ],
          "barpolar": [
           {
            "marker": {
             "line": {
              "color": "#E5ECF6",
              "width": 0.5
             },
             "pattern": {
              "fillmode": "overlay",
              "size": 10,
              "solidity": 0.2
             }
            },
            "type": "barpolar"
           }
          ],
          "carpet": [
           {
            "aaxis": {
             "endlinecolor": "#2a3f5f",
             "gridcolor": "white",
             "linecolor": "white",
             "minorgridcolor": "white",
             "startlinecolor": "#2a3f5f"
            },
            "baxis": {
             "endlinecolor": "#2a3f5f",
             "gridcolor": "white",
             "linecolor": "white",
             "minorgridcolor": "white",
             "startlinecolor": "#2a3f5f"
            },
            "type": "carpet"
           }
          ],
          "choropleth": [
           {
            "colorbar": {
             "outlinewidth": 0,
             "ticks": ""
            },
            "type": "choropleth"
           }
          ],
          "contour": [
           {
            "colorbar": {
             "outlinewidth": 0,
             "ticks": ""
            },
            "colorscale": [
             [
              0,
              "#0d0887"
             ],
             [
              0.1111111111111111,
              "#46039f"
             ],
             [
              0.2222222222222222,
              "#7201a8"
             ],
             [
              0.3333333333333333,
              "#9c179e"
             ],
             [
              0.4444444444444444,
              "#bd3786"
             ],
             [
              0.5555555555555556,
              "#d8576b"
             ],
             [
              0.6666666666666666,
              "#ed7953"
             ],
             [
              0.7777777777777778,
              "#fb9f3a"
             ],
             [
              0.8888888888888888,
              "#fdca26"
             ],
             [
              1,
              "#f0f921"
             ]
            ],
            "type": "contour"
           }
          ],
          "contourcarpet": [
           {
            "colorbar": {
             "outlinewidth": 0,
             "ticks": ""
            },
            "type": "contourcarpet"
           }
          ],
          "heatmap": [
           {
            "colorbar": {
             "outlinewidth": 0,
             "ticks": ""
            },
            "colorscale": [
             [
              0,
              "#0d0887"
             ],
             [
              0.1111111111111111,
              "#46039f"
             ],
             [
              0.2222222222222222,
              "#7201a8"
             ],
             [
              0.3333333333333333,
              "#9c179e"
             ],
             [
              0.4444444444444444,
              "#bd3786"
             ],
             [
              0.5555555555555556,
              "#d8576b"
             ],
             [
              0.6666666666666666,
              "#ed7953"
             ],
             [
              0.7777777777777778,
              "#fb9f3a"
             ],
             [
              0.8888888888888888,
              "#fdca26"
             ],
             [
              1,
              "#f0f921"
             ]
            ],
            "type": "heatmap"
           }
          ],
          "heatmapgl": [
           {
            "colorbar": {
             "outlinewidth": 0,
             "ticks": ""
            },
            "colorscale": [
             [
              0,
              "#0d0887"
             ],
             [
              0.1111111111111111,
              "#46039f"
             ],
             [
              0.2222222222222222,
              "#7201a8"
             ],
             [
              0.3333333333333333,
              "#9c179e"
             ],
             [
              0.4444444444444444,
              "#bd3786"
             ],
             [
              0.5555555555555556,
              "#d8576b"
             ],
             [
              0.6666666666666666,
              "#ed7953"
             ],
             [
              0.7777777777777778,
              "#fb9f3a"
             ],
             [
              0.8888888888888888,
              "#fdca26"
             ],
             [
              1,
              "#f0f921"
             ]
            ],
            "type": "heatmapgl"
           }
          ],
          "histogram": [
           {
            "marker": {
             "pattern": {
              "fillmode": "overlay",
              "size": 10,
              "solidity": 0.2
             }
            },
            "type": "histogram"
           }
          ],
          "histogram2d": [
           {
            "colorbar": {
             "outlinewidth": 0,
             "ticks": ""
            },
            "colorscale": [
             [
              0,
              "#0d0887"
             ],
             [
              0.1111111111111111,
              "#46039f"
             ],
             [
              0.2222222222222222,
              "#7201a8"
             ],
             [
              0.3333333333333333,
              "#9c179e"
             ],
             [
              0.4444444444444444,
              "#bd3786"
             ],
             [
              0.5555555555555556,
              "#d8576b"
             ],
             [
              0.6666666666666666,
              "#ed7953"
             ],
             [
              0.7777777777777778,
              "#fb9f3a"
             ],
             [
              0.8888888888888888,
              "#fdca26"
             ],
             [
              1,
              "#f0f921"
             ]
            ],
            "type": "histogram2d"
           }
          ],
          "histogram2dcontour": [
           {
            "colorbar": {
             "outlinewidth": 0,
             "ticks": ""
            },
            "colorscale": [
             [
              0,
              "#0d0887"
             ],
             [
              0.1111111111111111,
              "#46039f"
             ],
             [
              0.2222222222222222,
              "#7201a8"
             ],
             [
              0.3333333333333333,
              "#9c179e"
             ],
             [
              0.4444444444444444,
              "#bd3786"
             ],
             [
              0.5555555555555556,
              "#d8576b"
             ],
             [
              0.6666666666666666,
              "#ed7953"
             ],
             [
              0.7777777777777778,
              "#fb9f3a"
             ],
             [
              0.8888888888888888,
              "#fdca26"
             ],
             [
              1,
              "#f0f921"
             ]
            ],
            "type": "histogram2dcontour"
           }
          ],
          "mesh3d": [
           {
            "colorbar": {
             "outlinewidth": 0,
             "ticks": ""
            },
            "type": "mesh3d"
           }
          ],
          "parcoords": [
           {
            "line": {
             "colorbar": {
              "outlinewidth": 0,
              "ticks": ""
             }
            },
            "type": "parcoords"
           }
          ],
          "pie": [
           {
            "automargin": true,
            "type": "pie"
           }
          ],
          "scatter": [
           {
            "fillpattern": {
             "fillmode": "overlay",
             "size": 10,
             "solidity": 0.2
            },
            "type": "scatter"
           }
          ],
          "scatter3d": [
           {
            "line": {
             "colorbar": {
              "outlinewidth": 0,
              "ticks": ""
             }
            },
            "marker": {
             "colorbar": {
              "outlinewidth": 0,
              "ticks": ""
             }
            },
            "type": "scatter3d"
           }
          ],
          "scattercarpet": [
           {
            "marker": {
             "colorbar": {
              "outlinewidth": 0,
              "ticks": ""
             }
            },
            "type": "scattercarpet"
           }
          ],
          "scattergeo": [
           {
            "marker": {
             "colorbar": {
              "outlinewidth": 0,
              "ticks": ""
             }
            },
            "type": "scattergeo"
           }
          ],
          "scattergl": [
           {
            "marker": {
             "colorbar": {
              "outlinewidth": 0,
              "ticks": ""
             }
            },
            "type": "scattergl"
           }
          ],
          "scattermapbox": [
           {
            "marker": {
             "colorbar": {
              "outlinewidth": 0,
              "ticks": ""
             }
            },
            "type": "scattermapbox"
           }
          ],
          "scatterpolar": [
           {
            "marker": {
             "colorbar": {
              "outlinewidth": 0,
              "ticks": ""
             }
            },
            "type": "scatterpolar"
           }
          ],
          "scatterpolargl": [
           {
            "marker": {
             "colorbar": {
              "outlinewidth": 0,
              "ticks": ""
             }
            },
            "type": "scatterpolargl"
           }
          ],
          "scatterternary": [
           {
            "marker": {
             "colorbar": {
              "outlinewidth": 0,
              "ticks": ""
             }
            },
            "type": "scatterternary"
           }
          ],
          "surface": [
           {
            "colorbar": {
             "outlinewidth": 0,
             "ticks": ""
            },
            "colorscale": [
             [
              0,
              "#0d0887"
             ],
             [
              0.1111111111111111,
              "#46039f"
             ],
             [
              0.2222222222222222,
              "#7201a8"
             ],
             [
              0.3333333333333333,
              "#9c179e"
             ],
             [
              0.4444444444444444,
              "#bd3786"
             ],
             [
              0.5555555555555556,
              "#d8576b"
             ],
             [
              0.6666666666666666,
              "#ed7953"
             ],
             [
              0.7777777777777778,
              "#fb9f3a"
             ],
             [
              0.8888888888888888,
              "#fdca26"
             ],
             [
              1,
              "#f0f921"
             ]
            ],
            "type": "surface"
           }
          ],
          "table": [
           {
            "cells": {
             "fill": {
              "color": "#EBF0F8"
             },
             "line": {
              "color": "white"
             }
            },
            "header": {
             "fill": {
              "color": "#C8D4E3"
             },
             "line": {
              "color": "white"
             }
            },
            "type": "table"
           }
          ]
         },
         "layout": {
          "annotationdefaults": {
           "arrowcolor": "#2a3f5f",
           "arrowhead": 0,
           "arrowwidth": 1
          },
          "autotypenumbers": "strict",
          "coloraxis": {
           "colorbar": {
            "outlinewidth": 0,
            "ticks": ""
           }
          },
          "colorscale": {
           "diverging": [
            [
             0,
             "#8e0152"
            ],
            [
             0.1,
             "#c51b7d"
            ],
            [
             0.2,
             "#de77ae"
            ],
            [
             0.3,
             "#f1b6da"
            ],
            [
             0.4,
             "#fde0ef"
            ],
            [
             0.5,
             "#f7f7f7"
            ],
            [
             0.6,
             "#e6f5d0"
            ],
            [
             0.7,
             "#b8e186"
            ],
            [
             0.8,
             "#7fbc41"
            ],
            [
             0.9,
             "#4d9221"
            ],
            [
             1,
             "#276419"
            ]
           ],
           "sequential": [
            [
             0,
             "#0d0887"
            ],
            [
             0.1111111111111111,
             "#46039f"
            ],
            [
             0.2222222222222222,
             "#7201a8"
            ],
            [
             0.3333333333333333,
             "#9c179e"
            ],
            [
             0.4444444444444444,
             "#bd3786"
            ],
            [
             0.5555555555555556,
             "#d8576b"
            ],
            [
             0.6666666666666666,
             "#ed7953"
            ],
            [
             0.7777777777777778,
             "#fb9f3a"
            ],
            [
             0.8888888888888888,
             "#fdca26"
            ],
            [
             1,
             "#f0f921"
            ]
           ],
           "sequentialminus": [
            [
             0,
             "#0d0887"
            ],
            [
             0.1111111111111111,
             "#46039f"
            ],
            [
             0.2222222222222222,
             "#7201a8"
            ],
            [
             0.3333333333333333,
             "#9c179e"
            ],
            [
             0.4444444444444444,
             "#bd3786"
            ],
            [
             0.5555555555555556,
             "#d8576b"
            ],
            [
             0.6666666666666666,
             "#ed7953"
            ],
            [
             0.7777777777777778,
             "#fb9f3a"
            ],
            [
             0.8888888888888888,
             "#fdca26"
            ],
            [
             1,
             "#f0f921"
            ]
           ]
          },
          "colorway": [
           "#636efa",
           "#EF553B",
           "#00cc96",
           "#ab63fa",
           "#FFA15A",
           "#19d3f3",
           "#FF6692",
           "#B6E880",
           "#FF97FF",
           "#FECB52"
          ],
          "font": {
           "color": "#2a3f5f"
          },
          "geo": {
           "bgcolor": "white",
           "lakecolor": "white",
           "landcolor": "#E5ECF6",
           "showlakes": true,
           "showland": true,
           "subunitcolor": "white"
          },
          "hoverlabel": {
           "align": "left"
          },
          "hovermode": "closest",
          "mapbox": {
           "style": "light"
          },
          "paper_bgcolor": "white",
          "plot_bgcolor": "#E5ECF6",
          "polar": {
           "angularaxis": {
            "gridcolor": "white",
            "linecolor": "white",
            "ticks": ""
           },
           "bgcolor": "#E5ECF6",
           "radialaxis": {
            "gridcolor": "white",
            "linecolor": "white",
            "ticks": ""
           }
          },
          "scene": {
           "xaxis": {
            "backgroundcolor": "#E5ECF6",
            "gridcolor": "white",
            "gridwidth": 2,
            "linecolor": "white",
            "showbackground": true,
            "ticks": "",
            "zerolinecolor": "white"
           },
           "yaxis": {
            "backgroundcolor": "#E5ECF6",
            "gridcolor": "white",
            "gridwidth": 2,
            "linecolor": "white",
            "showbackground": true,
            "ticks": "",
            "zerolinecolor": "white"
           },
           "zaxis": {
            "backgroundcolor": "#E5ECF6",
            "gridcolor": "white",
            "gridwidth": 2,
            "linecolor": "white",
            "showbackground": true,
            "ticks": "",
            "zerolinecolor": "white"
           }
          },
          "shapedefaults": {
           "line": {
            "color": "#2a3f5f"
           }
          },
          "ternary": {
           "aaxis": {
            "gridcolor": "white",
            "linecolor": "white",
            "ticks": ""
           },
           "baxis": {
            "gridcolor": "white",
            "linecolor": "white",
            "ticks": ""
           },
           "bgcolor": "#E5ECF6",
           "caxis": {
            "gridcolor": "white",
            "linecolor": "white",
            "ticks": ""
           }
          },
          "title": {
           "x": 0.05
          },
          "xaxis": {
           "automargin": true,
           "gridcolor": "white",
           "linecolor": "white",
           "ticks": "",
           "title": {
            "standoff": 15
           },
           "zerolinecolor": "white",
           "zerolinewidth": 2
          },
          "yaxis": {
           "automargin": true,
           "gridcolor": "white",
           "linecolor": "white",
           "ticks": "",
           "title": {
            "standoff": 15
           },
           "zerolinecolor": "white",
           "zerolinewidth": 2
          }
         }
        },
        "title": {
         "text": "Distance to Water"
        },
        "xaxis": {
         "anchor": "y",
         "domain": [
          0,
          1
         ],
         "title": {
          "text": "Entity"
         }
        },
        "yaxis": {
         "anchor": "x",
         "domain": [
          0,
          1
         ],
         "title": {
          "text": "weighted_med"
         },
         "type": "log"
        }
       }
      },
      "text/html": [
       "<div>                            <div id=\"e00b09f7-6f4d-446c-a0c6-28a4b7aab570\" class=\"plotly-graph-div\" style=\"height:525px; width:100%;\"></div>            <script type=\"text/javascript\">                require([\"plotly\"], function(Plotly) {                    window.PLOTLYENV=window.PLOTLYENV || {};                                    if (document.getElementById(\"e00b09f7-6f4d-446c-a0c6-28a4b7aab570\")) {                    Plotly.newPlot(                        \"e00b09f7-6f4d-446c-a0c6-28a4b7aab570\",                        [{\"hovertemplate\":\"subregion=Eastern Africa\\u003cbr\\u003eEntity=%{x}\\u003cbr\\u003eweighted_med=%{y}\\u003cextra\\u003e\\u003c\\u002fextra\\u003e\",\"legendgroup\":\"Eastern Africa\",\"line\":{\"color\":\"#636efa\",\"dash\":\"solid\"},\"marker\":{\"symbol\":\"circle\"},\"mode\":\"lines\",\"name\":\"Eastern Africa\",\"orientation\":\"v\",\"showlegend\":true,\"x\":[\"Mauritius\",\"Malawi\",\"Zambia\",\"Uganda\",\"Tanzania\",\"Mozambique\",\"Burundi\",\"Rwanda\",\"Zimbabwe\",\"Madagascar\",\"Kenya\",\"Reunion\",\"Ethiopia\",\"Eritrea\",\"Djibouti\",\"Somalia\"],\"xaxis\":\"x\",\"y\":[2.0,2.82842700195312,3.0,3.0,3.0,3.16227807617188,3.16227807617188,3.60555102539062,3.60555102539062,4.0,4.12310498046875,4.12310498046875,7.07106787109375,21.09501953125,38.83298046875,86.2786171875],\"yaxis\":\"y\",\"type\":\"scatter\"},{\"hovertemplate\":\"subregion=Middle Africa\\u003cbr\\u003eEntity=%{x}\\u003cbr\\u003eweighted_med=%{y}\\u003cextra\\u003e\\u003c\\u002fextra\\u003e\",\"legendgroup\":\"Middle Africa\",\"line\":{\"color\":\"#EF553B\",\"dash\":\"solid\"},\"marker\":{\"symbol\":\"circle\"},\"mode\":\"lines\",\"name\":\"Middle Africa\",\"orientation\":\"v\",\"showlegend\":true,\"x\":[\"Congo\",\"Central African Republic\",\"Democratic Republic of Congo\",\"Equatorial Guinea\",\"Cameroon\",\"Angola\",\"Gabon\",\"Sao Tome and Principe\",\"South Sudan\",\"Chad\"],\"xaxis\":\"x\",\"y\":[2.0,3.0,3.0,3.16227807617188,3.60555102539062,4.12310498046875,4.47213623046875,5.09902001953125,9.4868330078125,20.0],\"yaxis\":\"y\",\"type\":\"scatter\"},{\"hovertemplate\":\"subregion=Central America\\u003cbr\\u003eEntity=%{x}\\u003cbr\\u003eweighted_med=%{y}\\u003cextra\\u003e\\u003c\\u002fextra\\u003e\",\"legendgroup\":\"Central America\",\"line\":{\"color\":\"#00cc96\",\"dash\":\"solid\"},\"marker\":{\"symbol\":\"circle\"},\"mode\":\"lines\",\"name\":\"Central America\",\"orientation\":\"v\",\"showlegend\":true,\"x\":[\"Panama\",\"El Salvador\",\"Belize\",\"Honduras\",\"Costa Rica\",\"Guatemala\",\"Nicaragua\",\"Mexico\"],\"xaxis\":\"x\",\"y\":[2.0,2.82842700195312,2.82842700195312,3.16227807617188,3.16227807617188,3.60555102539062,4.0,5.65685400390625],\"yaxis\":\"y\",\"type\":\"scatter\"},{\"hovertemplate\":\"subregion=Caribbean\\u003cbr\\u003eEntity=%{x}\\u003cbr\\u003eweighted_med=%{y}\\u003cextra\\u003e\\u003c\\u002fextra\\u003e\",\"legendgroup\":\"Caribbean\",\"line\":{\"color\":\"#ab63fa\",\"dash\":\"solid\"},\"marker\":{\"symbol\":\"circle\"},\"mode\":\"lines\",\"name\":\"Caribbean\",\"orientation\":\"v\",\"showlegend\":true,\"x\":[\"Puerto Rico\",\"Dominican Republic\",\"Haiti\",\"Jamaica\",\"Cuba\",\"Montserrat\",\"Bahamas\",\"Trinidad and Tobago\",\"Martinique\",\"Grenada\",\"Saint Lucia\",\"Guadeloupe\"],\"xaxis\":\"x\",\"y\":[2.23606811523438,3.60555102539062,4.12310498046875,4.12310498046875,4.47213623046875,5.0,5.09902001953125,5.3851650390625,7.81025,9.219544921875,13.03841015625,22.4722109375],\"yaxis\":\"y\",\"type\":\"scatter\"},{\"hovertemplate\":\"subregion=South-Eastern Asia\\u003cbr\\u003eEntity=%{x}\\u003cbr\\u003eweighted_med=%{y}\\u003cextra\\u003e\\u003c\\u002fextra\\u003e\",\"legendgroup\":\"South-Eastern Asia\",\"line\":{\"color\":\"#FFA15A\",\"dash\":\"solid\"},\"marker\":{\"symbol\":\"circle\"},\"mode\":\"lines\",\"name\":\"South-Eastern Asia\",\"orientation\":\"v\",\"showlegend\":true,\"x\":[\"Brunei\",\"Philippines\",\"Vietnam\",\"Thailand\",\"Myanmar\",\"Laos\",\"Cambodia\",\"Malaysia\",\"Indonesia\",\"Singapore\",\"Timor\"],\"xaxis\":\"x\",\"y\":[2.23606811523438,2.23606811523438,2.23606811523438,2.82842700195312,2.82842700195312,3.0,3.16227807617188,3.16227807617188,4.12310498046875,10.4403095703125,35.0],\"yaxis\":\"y\",\"type\":\"scatter\"},{\"hovertemplate\":\"subregion=Southern Africa\\u003cbr\\u003eEntity=%{x}\\u003cbr\\u003eweighted_med=%{y}\\u003cextra\\u003e\\u003c\\u002fextra\\u003e\",\"legendgroup\":\"Southern Africa\",\"line\":{\"color\":\"#19d3f3\",\"dash\":\"solid\"},\"marker\":{\"symbol\":\"circle\"},\"mode\":\"lines\",\"name\":\"Southern Africa\",\"orientation\":\"v\",\"showlegend\":true,\"x\":[\"Eswatini\",\"Lesotho\",\"South Africa\",\"Namibia\",\"Botswana\"],\"xaxis\":\"x\",\"y\":[2.23606811523438,2.23606811523438,3.16227807617188,30.413810546875,33.94112890625],\"yaxis\":\"y\",\"type\":\"scatter\"},{\"hovertemplate\":\"subregion=Northern Europe\\u003cbr\\u003eEntity=%{x}\\u003cbr\\u003eweighted_med=%{y}\\u003cextra\\u003e\\u003c\\u002fextra\\u003e\",\"legendgroup\":\"Northern Europe\",\"line\":{\"color\":\"#FF6692\",\"dash\":\"solid\"},\"marker\":{\"symbol\":\"circle\"},\"mode\":\"lines\",\"name\":\"Northern Europe\",\"orientation\":\"v\",\"showlegend\":true,\"x\":[\"Sweden\",\"Norway\",\"Estonia\",\"Lithuania\",\"United Kingdom\",\"Latvia\",\"Ireland\",\"Finland\",\"Denmark\",\"Isle of Man\",\"Faeroe Islands\",\"Iceland\"],\"xaxis\":\"x\",\"y\":[2.23606811523438,2.23606811523438,2.82842700195312,2.82842700195312,3.0,3.0,3.16227807617188,3.16227807617188,3.60555102539062,4.47213623046875,5.3851650390625,5.3851650390625],\"yaxis\":\"y\",\"type\":\"scatter\"},{\"hovertemplate\":\"subregion=South America\\u003cbr\\u003eEntity=%{x}\\u003cbr\\u003eweighted_med=%{y}\\u003cextra\\u003e\\u003c\\u002fextra\\u003e\",\"legendgroup\":\"South America\",\"line\":{\"color\":\"#B6E880\",\"dash\":\"solid\"},\"marker\":{\"symbol\":\"circle\"},\"mode\":\"lines\",\"name\":\"South America\",\"orientation\":\"v\",\"showlegend\":true,\"x\":[\"Suriname\",\"Guyana\",\"French Guiana\",\"Colombia\",\"Chile\",\"Ecuador\",\"Paraguay\",\"Peru\",\"Brazil\",\"Venezuela\",\"Bolivia\",\"Argentina\",\"Uruguay\",\"Falkland Islands\"],\"xaxis\":\"x\",\"y\":[2.23606811523438,2.82842700195312,3.0,3.60555102539062,4.0,4.12310498046875,4.24264111328125,4.47213623046875,5.0,5.3851650390625,5.3851650390625,6.0,8.0622578125,14.3178203125],\"yaxis\":\"y\",\"type\":\"scatter\"},{\"hovertemplate\":\"subregion=Western Europe\\u003cbr\\u003eEntity=%{x}\\u003cbr\\u003eweighted_med=%{y}\\u003cextra\\u003e\\u003c\\u002fextra\\u003e\",\"legendgroup\":\"Western Europe\",\"line\":{\"color\":\"#FF97FF\",\"dash\":\"solid\"},\"marker\":{\"symbol\":\"circle\"},\"mode\":\"lines\",\"name\":\"Western Europe\",\"orientation\":\"v\",\"showlegend\":true,\"x\":[\"Netherlands\",\"France\",\"Switzerland\",\"Austria\",\"Belgium\",\"Germany\",\"Liechtenstein\",\"Luxembourg\"],\"xaxis\":\"x\",\"y\":[2.23606811523438,2.82842700195312,2.82842700195312,2.82842700195312,3.16227807617188,3.16227807617188,3.60555102539062,4.47213623046875],\"yaxis\":\"y\",\"type\":\"scatter\"},{\"hovertemplate\":\"subregion=Melanesia\\u003cbr\\u003eEntity=%{x}\\u003cbr\\u003eweighted_med=%{y}\\u003cextra\\u003e\\u003c\\u002fextra\\u003e\",\"legendgroup\":\"Melanesia\",\"line\":{\"color\":\"#FECB52\",\"dash\":\"solid\"},\"marker\":{\"symbol\":\"circle\"},\"mode\":\"lines\",\"name\":\"Melanesia\",\"orientation\":\"v\",\"showlegend\":true,\"x\":[\"Papua New Guinea\",\"New Caledonia\",\"Solomon Islands\",\"Vanuatu\",\"Fiji\"],\"xaxis\":\"x\",\"y\":[2.23606811523438,3.16227807617188,3.60555102539062,4.0,4.0],\"yaxis\":\"y\",\"type\":\"scatter\"},{\"hovertemplate\":\"subregion=Southern Europe\\u003cbr\\u003eEntity=%{x}\\u003cbr\\u003eweighted_med=%{y}\\u003cextra\\u003e\\u003c\\u002fextra\\u003e\",\"legendgroup\":\"Southern Europe\",\"line\":{\"color\":\"#636efa\",\"dash\":\"solid\"},\"marker\":{\"symbol\":\"circle\"},\"mode\":\"lines\",\"name\":\"Southern Europe\",\"orientation\":\"v\",\"showlegend\":true,\"x\":[\"Albania\",\"Slovenia\",\"Italy\",\"North Macedonia\",\"Bosnia and Herzegovina\",\"Montenegro\",\"Croatia\",\"Spain\",\"Portugal\",\"Andorra\",\"Malta\",\"Cyprus\",\"Greece\"],\"xaxis\":\"x\",\"y\":[2.23606811523438,2.82842700195312,3.0,3.0,3.16227807617188,3.60555102539062,3.60555102539062,4.0,4.0,4.12310498046875,4.12310498046875,5.0,8.0],\"yaxis\":\"y\",\"type\":\"scatter\"},{\"hovertemplate\":\"subregion=Eastern Asia\\u003cbr\\u003eEntity=%{x}\\u003cbr\\u003eweighted_med=%{y}\\u003cextra\\u003e\\u003c\\u002fextra\\u003e\",\"legendgroup\":\"Eastern Asia\",\"line\":{\"color\":\"#EF553B\",\"dash\":\"solid\"},\"marker\":{\"symbol\":\"circle\"},\"mode\":\"lines\",\"name\":\"Eastern Asia\",\"orientation\":\"v\",\"showlegend\":true,\"x\":[\"Japan\",\"Taiwan\",\"China\",\"Mongolia\",\"North Korea\",\"South Korea\",\"Hong Kong\"],\"xaxis\":\"x\",\"y\":[2.23606811523438,3.0,3.16227807617188,3.60555102539062,3.60555102539062,4.47213623046875,25.0],\"yaxis\":\"y\",\"type\":\"scatter\"},{\"hovertemplate\":\"subregion=Western Asia\\u003cbr\\u003eEntity=%{x}\\u003cbr\\u003eweighted_med=%{y}\\u003cextra\\u003e\\u003c\\u002fextra\\u003e\",\"legendgroup\":\"Western Asia\",\"line\":{\"color\":\"#00cc96\",\"dash\":\"solid\"},\"marker\":{\"symbol\":\"circle\"},\"mode\":\"lines\",\"name\":\"Western Asia\",\"orientation\":\"v\",\"showlegend\":true,\"x\":[\"Azerbaijan\",\"Georgia\",\"Armenia\",\"Turkey\",\"Iraq\",\"Lebanon\",\"Syria\",\"Jordan\",\"Israel\",\"Palestine\",\"Yemen\",\"Oman\",\"Kuwait\",\"United Arab Emirates\",\"Qatar\",\"Saudi Arabia\"],\"xaxis\":\"x\",\"y\":[2.23606811523438,2.82842700195312,2.82842700195312,3.60555102539062,3.60555102539062,6.7082041015625,8.0622578125,9.4339814453125,16.12451953125,19.104970703125,21.9317109375,53.0094296875,104.995203125,171.819703125,196.6215,216.01159375],\"yaxis\":\"y\",\"type\":\"scatter\"},{\"hovertemplate\":\"subregion=Eastern Europe\\u003cbr\\u003eEntity=%{x}\\u003cbr\\u003eweighted_med=%{y}\\u003cextra\\u003e\\u003c\\u002fextra\\u003e\",\"legendgroup\":\"Eastern Europe\",\"line\":{\"color\":\"#ab63fa\",\"dash\":\"solid\"},\"marker\":{\"symbol\":\"circle\"},\"mode\":\"lines\",\"name\":\"Eastern Europe\",\"orientation\":\"v\",\"showlegend\":true,\"x\":[\"Slovakia\",\"Moldova\",\"Hungary\",\"Poland\",\"Romania\",\"Belarus\",\"Bulgaria\",\"Ukraine\",\"Russia\",\"Serbia\",\"Czechia\"],\"xaxis\":\"x\",\"y\":[2.82842700195312,2.82842700195312,2.82842700195312,3.0,3.0,3.0,3.16227807617188,3.16227807617188,3.16227807617188,3.16227807617188,3.16227807617188],\"yaxis\":\"y\",\"type\":\"scatter\"},{\"hovertemplate\":\"subregion=Southern Asia\\u003cbr\\u003eEntity=%{x}\\u003cbr\\u003eweighted_med=%{y}\\u003cextra\\u003e\\u003c\\u002fextra\\u003e\",\"legendgroup\":\"Southern Asia\",\"line\":{\"color\":\"#FFA15A\",\"dash\":\"solid\"},\"marker\":{\"symbol\":\"circle\"},\"mode\":\"lines\",\"name\":\"Southern Asia\",\"orientation\":\"v\",\"showlegend\":true,\"x\":[\"Nepal\",\"Bangladesh\",\"Pakistan\",\"Sri Lanka\",\"India\",\"Bhutan\",\"Iran\",\"Afghanistan\"],\"xaxis\":\"x\",\"y\":[2.82842700195312,2.82842700195312,3.0,3.60555102539062,3.60555102539062,4.0,5.3851650390625,5.8309521484375],\"yaxis\":\"y\",\"type\":\"scatter\"},{\"hovertemplate\":\"subregion=Australia and New Zealand\\u003cbr\\u003eEntity=%{x}\\u003cbr\\u003eweighted_med=%{y}\\u003cextra\\u003e\\u003c\\u002fextra\\u003e\",\"legendgroup\":\"Australia and New Zealand\",\"line\":{\"color\":\"#19d3f3\",\"dash\":\"solid\"},\"marker\":{\"symbol\":\"circle\"},\"mode\":\"lines\",\"name\":\"Australia and New Zealand\",\"orientation\":\"v\",\"showlegend\":true,\"x\":[\"New Zealand\",\"Australia\"],\"xaxis\":\"x\",\"y\":[2.82842700195312,2.82842700195312],\"yaxis\":\"y\",\"type\":\"scatter\"},{\"hovertemplate\":\"subregion=Central Asia\\u003cbr\\u003eEntity=%{x}\\u003cbr\\u003eweighted_med=%{y}\\u003cextra\\u003e\\u003c\\u002fextra\\u003e\",\"legendgroup\":\"Central Asia\",\"line\":{\"color\":\"#FF6692\",\"dash\":\"solid\"},\"marker\":{\"symbol\":\"circle\"},\"mode\":\"lines\",\"name\":\"Central Asia\",\"orientation\":\"v\",\"showlegend\":true,\"x\":[\"Kyrgyzstan\",\"Uzbekistan\",\"Tajikistan\",\"Kazakhstan\",\"Turkmenistan\"],\"xaxis\":\"x\",\"y\":[2.82842700195312,3.60555102539062,3.60555102539062,4.12310498046875,17.691810546875],\"yaxis\":\"y\",\"type\":\"scatter\"},{\"hovertemplate\":\"subregion=Northern America\\u003cbr\\u003eEntity=%{x}\\u003cbr\\u003eweighted_med=%{y}\\u003cextra\\u003e\\u003c\\u002fextra\\u003e\",\"legendgroup\":\"Northern America\",\"line\":{\"color\":\"#B6E880\",\"dash\":\"solid\"},\"marker\":{\"symbol\":\"circle\"},\"mode\":\"lines\",\"name\":\"Northern America\",\"orientation\":\"v\",\"showlegend\":true,\"x\":[\"Canada\",\"United States\",\"Greenland\"],\"xaxis\":\"x\",\"y\":[3.0,4.12310498046875,18.027759765625],\"yaxis\":\"y\",\"type\":\"scatter\"},{\"hovertemplate\":\"subregion=Western Africa\\u003cbr\\u003eEntity=%{x}\\u003cbr\\u003eweighted_med=%{y}\\u003cextra\\u003e\\u003c\\u002fextra\\u003e\",\"legendgroup\":\"Western Africa\",\"line\":{\"color\":\"#FF97FF\",\"dash\":\"solid\"},\"marker\":{\"symbol\":\"circle\"},\"mode\":\"lines\",\"name\":\"Western Africa\",\"orientation\":\"v\",\"showlegend\":true,\"x\":[\"Sierra Leone\",\"Guinea\",\"Togo\",\"Nigeria\",\"Guinea-Bissau\",\"Cote d'Ivoire\",\"Liberia\",\"Ghana\",\"Gambia\",\"Benin\",\"Mali\",\"Burkina Faso\",\"Senegal\",\"Mauritania\",\"Niger\"],\"xaxis\":\"x\",\"y\":[3.0,3.16227807617188,3.60555102539062,3.60555102539062,3.60555102539062,4.12310498046875,4.24264111328125,4.24264111328125,4.24264111328125,5.0,8.54400390625,10.2956298828125,17.46425,30.80583984375,33.8378515625],\"yaxis\":\"y\",\"type\":\"scatter\"},{\"hovertemplate\":\"subregion=Northern Africa\\u003cbr\\u003eEntity=%{x}\\u003cbr\\u003eweighted_med=%{y}\\u003cextra\\u003e\\u003c\\u002fextra\\u003e\",\"legendgroup\":\"Northern Africa\",\"line\":{\"color\":\"#FECB52\",\"dash\":\"solid\"},\"marker\":{\"symbol\":\"circle\"},\"mode\":\"lines\",\"name\":\"Northern Africa\",\"orientation\":\"v\",\"showlegend\":true,\"x\":[\"Egypt\",\"Morocco\",\"Algeria\",\"Tunisia\",\"Sudan\",\"Western Sahara\",\"Libya\"],\"xaxis\":\"x\",\"y\":[3.60555102539062,7.07106787109375,7.28010986328125,14.035669921875,47.85394921875,137.295296875,223.5755],\"yaxis\":\"y\",\"type\":\"scatter\"},{\"hovertemplate\":\"subregion=Polynesia\\u003cbr\\u003eEntity=%{x}\\u003cbr\\u003eweighted_med=%{y}\\u003cextra\\u003e\\u003c\\u002fextra\\u003e\",\"legendgroup\":\"Polynesia\",\"line\":{\"color\":\"#636efa\",\"dash\":\"solid\"},\"marker\":{\"symbol\":\"circle\"},\"mode\":\"lines\",\"name\":\"Polynesia\",\"orientation\":\"v\",\"showlegend\":true,\"x\":[\"Samoa\"],\"xaxis\":\"x\",\"y\":[6.7082041015625],\"yaxis\":\"y\",\"type\":\"scatter\"}],                        {\"template\":{\"data\":{\"histogram2dcontour\":[{\"type\":\"histogram2dcontour\",\"colorbar\":{\"outlinewidth\":0,\"ticks\":\"\"},\"colorscale\":[[0.0,\"#0d0887\"],[0.1111111111111111,\"#46039f\"],[0.2222222222222222,\"#7201a8\"],[0.3333333333333333,\"#9c179e\"],[0.4444444444444444,\"#bd3786\"],[0.5555555555555556,\"#d8576b\"],[0.6666666666666666,\"#ed7953\"],[0.7777777777777778,\"#fb9f3a\"],[0.8888888888888888,\"#fdca26\"],[1.0,\"#f0f921\"]]}],\"choropleth\":[{\"type\":\"choropleth\",\"colorbar\":{\"outlinewidth\":0,\"ticks\":\"\"}}],\"histogram2d\":[{\"type\":\"histogram2d\",\"colorbar\":{\"outlinewidth\":0,\"ticks\":\"\"},\"colorscale\":[[0.0,\"#0d0887\"],[0.1111111111111111,\"#46039f\"],[0.2222222222222222,\"#7201a8\"],[0.3333333333333333,\"#9c179e\"],[0.4444444444444444,\"#bd3786\"],[0.5555555555555556,\"#d8576b\"],[0.6666666666666666,\"#ed7953\"],[0.7777777777777778,\"#fb9f3a\"],[0.8888888888888888,\"#fdca26\"],[1.0,\"#f0f921\"]]}],\"heatmap\":[{\"type\":\"heatmap\",\"colorbar\":{\"outlinewidth\":0,\"ticks\":\"\"},\"colorscale\":[[0.0,\"#0d0887\"],[0.1111111111111111,\"#46039f\"],[0.2222222222222222,\"#7201a8\"],[0.3333333333333333,\"#9c179e\"],[0.4444444444444444,\"#bd3786\"],[0.5555555555555556,\"#d8576b\"],[0.6666666666666666,\"#ed7953\"],[0.7777777777777778,\"#fb9f3a\"],[0.8888888888888888,\"#fdca26\"],[1.0,\"#f0f921\"]]}],\"heatmapgl\":[{\"type\":\"heatmapgl\",\"colorbar\":{\"outlinewidth\":0,\"ticks\":\"\"},\"colorscale\":[[0.0,\"#0d0887\"],[0.1111111111111111,\"#46039f\"],[0.2222222222222222,\"#7201a8\"],[0.3333333333333333,\"#9c179e\"],[0.4444444444444444,\"#bd3786\"],[0.5555555555555556,\"#d8576b\"],[0.6666666666666666,\"#ed7953\"],[0.7777777777777778,\"#fb9f3a\"],[0.8888888888888888,\"#fdca26\"],[1.0,\"#f0f921\"]]}],\"contourcarpet\":[{\"type\":\"contourcarpet\",\"colorbar\":{\"outlinewidth\":0,\"ticks\":\"\"}}],\"contour\":[{\"type\":\"contour\",\"colorbar\":{\"outlinewidth\":0,\"ticks\":\"\"},\"colorscale\":[[0.0,\"#0d0887\"],[0.1111111111111111,\"#46039f\"],[0.2222222222222222,\"#7201a8\"],[0.3333333333333333,\"#9c179e\"],[0.4444444444444444,\"#bd3786\"],[0.5555555555555556,\"#d8576b\"],[0.6666666666666666,\"#ed7953\"],[0.7777777777777778,\"#fb9f3a\"],[0.8888888888888888,\"#fdca26\"],[1.0,\"#f0f921\"]]}],\"surface\":[{\"type\":\"surface\",\"colorbar\":{\"outlinewidth\":0,\"ticks\":\"\"},\"colorscale\":[[0.0,\"#0d0887\"],[0.1111111111111111,\"#46039f\"],[0.2222222222222222,\"#7201a8\"],[0.3333333333333333,\"#9c179e\"],[0.4444444444444444,\"#bd3786\"],[0.5555555555555556,\"#d8576b\"],[0.6666666666666666,\"#ed7953\"],[0.7777777777777778,\"#fb9f3a\"],[0.8888888888888888,\"#fdca26\"],[1.0,\"#f0f921\"]]}],\"mesh3d\":[{\"type\":\"mesh3d\",\"colorbar\":{\"outlinewidth\":0,\"ticks\":\"\"}}],\"scatter\":[{\"fillpattern\":{\"fillmode\":\"overlay\",\"size\":10,\"solidity\":0.2},\"type\":\"scatter\"}],\"parcoords\":[{\"type\":\"parcoords\",\"line\":{\"colorbar\":{\"outlinewidth\":0,\"ticks\":\"\"}}}],\"scatterpolargl\":[{\"type\":\"scatterpolargl\",\"marker\":{\"colorbar\":{\"outlinewidth\":0,\"ticks\":\"\"}}}],\"bar\":[{\"error_x\":{\"color\":\"#2a3f5f\"},\"error_y\":{\"color\":\"#2a3f5f\"},\"marker\":{\"line\":{\"color\":\"#E5ECF6\",\"width\":0.5},\"pattern\":{\"fillmode\":\"overlay\",\"size\":10,\"solidity\":0.2}},\"type\":\"bar\"}],\"scattergeo\":[{\"type\":\"scattergeo\",\"marker\":{\"colorbar\":{\"outlinewidth\":0,\"ticks\":\"\"}}}],\"scatterpolar\":[{\"type\":\"scatterpolar\",\"marker\":{\"colorbar\":{\"outlinewidth\":0,\"ticks\":\"\"}}}],\"histogram\":[{\"marker\":{\"pattern\":{\"fillmode\":\"overlay\",\"size\":10,\"solidity\":0.2}},\"type\":\"histogram\"}],\"scattergl\":[{\"type\":\"scattergl\",\"marker\":{\"colorbar\":{\"outlinewidth\":0,\"ticks\":\"\"}}}],\"scatter3d\":[{\"type\":\"scatter3d\",\"line\":{\"colorbar\":{\"outlinewidth\":0,\"ticks\":\"\"}},\"marker\":{\"colorbar\":{\"outlinewidth\":0,\"ticks\":\"\"}}}],\"scattermapbox\":[{\"type\":\"scattermapbox\",\"marker\":{\"colorbar\":{\"outlinewidth\":0,\"ticks\":\"\"}}}],\"scatterternary\":[{\"type\":\"scatterternary\",\"marker\":{\"colorbar\":{\"outlinewidth\":0,\"ticks\":\"\"}}}],\"scattercarpet\":[{\"type\":\"scattercarpet\",\"marker\":{\"colorbar\":{\"outlinewidth\":0,\"ticks\":\"\"}}}],\"carpet\":[{\"aaxis\":{\"endlinecolor\":\"#2a3f5f\",\"gridcolor\":\"white\",\"linecolor\":\"white\",\"minorgridcolor\":\"white\",\"startlinecolor\":\"#2a3f5f\"},\"baxis\":{\"endlinecolor\":\"#2a3f5f\",\"gridcolor\":\"white\",\"linecolor\":\"white\",\"minorgridcolor\":\"white\",\"startlinecolor\":\"#2a3f5f\"},\"type\":\"carpet\"}],\"table\":[{\"cells\":{\"fill\":{\"color\":\"#EBF0F8\"},\"line\":{\"color\":\"white\"}},\"header\":{\"fill\":{\"color\":\"#C8D4E3\"},\"line\":{\"color\":\"white\"}},\"type\":\"table\"}],\"barpolar\":[{\"marker\":{\"line\":{\"color\":\"#E5ECF6\",\"width\":0.5},\"pattern\":{\"fillmode\":\"overlay\",\"size\":10,\"solidity\":0.2}},\"type\":\"barpolar\"}],\"pie\":[{\"automargin\":true,\"type\":\"pie\"}]},\"layout\":{\"autotypenumbers\":\"strict\",\"colorway\":[\"#636efa\",\"#EF553B\",\"#00cc96\",\"#ab63fa\",\"#FFA15A\",\"#19d3f3\",\"#FF6692\",\"#B6E880\",\"#FF97FF\",\"#FECB52\"],\"font\":{\"color\":\"#2a3f5f\"},\"hovermode\":\"closest\",\"hoverlabel\":{\"align\":\"left\"},\"paper_bgcolor\":\"white\",\"plot_bgcolor\":\"#E5ECF6\",\"polar\":{\"bgcolor\":\"#E5ECF6\",\"angularaxis\":{\"gridcolor\":\"white\",\"linecolor\":\"white\",\"ticks\":\"\"},\"radialaxis\":{\"gridcolor\":\"white\",\"linecolor\":\"white\",\"ticks\":\"\"}},\"ternary\":{\"bgcolor\":\"#E5ECF6\",\"aaxis\":{\"gridcolor\":\"white\",\"linecolor\":\"white\",\"ticks\":\"\"},\"baxis\":{\"gridcolor\":\"white\",\"linecolor\":\"white\",\"ticks\":\"\"},\"caxis\":{\"gridcolor\":\"white\",\"linecolor\":\"white\",\"ticks\":\"\"}},\"coloraxis\":{\"colorbar\":{\"outlinewidth\":0,\"ticks\":\"\"}},\"colorscale\":{\"sequential\":[[0.0,\"#0d0887\"],[0.1111111111111111,\"#46039f\"],[0.2222222222222222,\"#7201a8\"],[0.3333333333333333,\"#9c179e\"],[0.4444444444444444,\"#bd3786\"],[0.5555555555555556,\"#d8576b\"],[0.6666666666666666,\"#ed7953\"],[0.7777777777777778,\"#fb9f3a\"],[0.8888888888888888,\"#fdca26\"],[1.0,\"#f0f921\"]],\"sequentialminus\":[[0.0,\"#0d0887\"],[0.1111111111111111,\"#46039f\"],[0.2222222222222222,\"#7201a8\"],[0.3333333333333333,\"#9c179e\"],[0.4444444444444444,\"#bd3786\"],[0.5555555555555556,\"#d8576b\"],[0.6666666666666666,\"#ed7953\"],[0.7777777777777778,\"#fb9f3a\"],[0.8888888888888888,\"#fdca26\"],[1.0,\"#f0f921\"]],\"diverging\":[[0,\"#8e0152\"],[0.1,\"#c51b7d\"],[0.2,\"#de77ae\"],[0.3,\"#f1b6da\"],[0.4,\"#fde0ef\"],[0.5,\"#f7f7f7\"],[0.6,\"#e6f5d0\"],[0.7,\"#b8e186\"],[0.8,\"#7fbc41\"],[0.9,\"#4d9221\"],[1,\"#276419\"]]},\"xaxis\":{\"gridcolor\":\"white\",\"linecolor\":\"white\",\"ticks\":\"\",\"title\":{\"standoff\":15},\"zerolinecolor\":\"white\",\"automargin\":true,\"zerolinewidth\":2},\"yaxis\":{\"gridcolor\":\"white\",\"linecolor\":\"white\",\"ticks\":\"\",\"title\":{\"standoff\":15},\"zerolinecolor\":\"white\",\"automargin\":true,\"zerolinewidth\":2},\"scene\":{\"xaxis\":{\"backgroundcolor\":\"#E5ECF6\",\"gridcolor\":\"white\",\"linecolor\":\"white\",\"showbackground\":true,\"ticks\":\"\",\"zerolinecolor\":\"white\",\"gridwidth\":2},\"yaxis\":{\"backgroundcolor\":\"#E5ECF6\",\"gridcolor\":\"white\",\"linecolor\":\"white\",\"showbackground\":true,\"ticks\":\"\",\"zerolinecolor\":\"white\",\"gridwidth\":2},\"zaxis\":{\"backgroundcolor\":\"#E5ECF6\",\"gridcolor\":\"white\",\"linecolor\":\"white\",\"showbackground\":true,\"ticks\":\"\",\"zerolinecolor\":\"white\",\"gridwidth\":2}},\"shapedefaults\":{\"line\":{\"color\":\"#2a3f5f\"}},\"annotationdefaults\":{\"arrowcolor\":\"#2a3f5f\",\"arrowhead\":0,\"arrowwidth\":1},\"geo\":{\"bgcolor\":\"white\",\"landcolor\":\"#E5ECF6\",\"subunitcolor\":\"white\",\"showland\":true,\"showlakes\":true,\"lakecolor\":\"white\"},\"title\":{\"x\":0.05},\"mapbox\":{\"style\":\"light\"}}},\"xaxis\":{\"anchor\":\"y\",\"domain\":[0.0,1.0],\"title\":{\"text\":\"Entity\"}},\"yaxis\":{\"anchor\":\"x\",\"domain\":[0.0,1.0],\"title\":{\"text\":\"weighted_med\"},\"type\":\"log\"},\"legend\":{\"title\":{\"text\":\"subregion\"},\"tracegroupgap\":0},\"title\":{\"text\":\"Distance to Water\"}},                        {\"responsive\": true}                    ).then(function(){\n",
       "                            \n",
       "var gd = document.getElementById('e00b09f7-6f4d-446c-a0c6-28a4b7aab570');\n",
       "var x = new MutationObserver(function (mutations, observer) {{\n",
       "        var display = window.getComputedStyle(gd).display;\n",
       "        if (!display || display === 'none') {{\n",
       "            console.log([gd, 'removed!']);\n",
       "            Plotly.purge(gd);\n",
       "            observer.disconnect();\n",
       "        }}\n",
       "}});\n",
       "\n",
       "// Listen for the removal of the full notebook cells\n",
       "var notebookContainer = gd.closest('#notebook-container');\n",
       "if (notebookContainer) {{\n",
       "    x.observe(notebookContainer, {childList: true});\n",
       "}}\n",
       "\n",
       "// Listen for the clearing of the current output cell\n",
       "var outputEl = gd.closest('.output');\n",
       "if (outputEl) {{\n",
       "    x.observe(outputEl, {childList: true});\n",
       "}}\n",
       "\n",
       "                        })                };                });            </script>        </div>"
      ]
     },
     "metadata": {},
     "output_type": "display_data"
    }
   ],
   "source": [
    "#sort the countries by distance to water, plot the results\n",
    "df_countries.sort_values(by=\"weighted_med\", inplace=True)\n",
    "# add log scale\n",
    "px.line(df_countries, x=\"Entity\", y=\"weighted_med\", color=\"subregion\", title=\"Distance to Water\", log_y=True)\n"
   ]
  },
  {
   "cell_type": "code",
   "execution_count": null,
   "metadata": {},
   "outputs": [
    {
     "data": {
      "application/vnd.plotly.v1+json": {
       "config": {
        "plotlyServerURL": "https://plot.ly"
       },
       "data": [
        {
         "hovertemplate": "<b>%{hovertext}</b><br><br>region=Africa<br>percent_without_water=%{x}<br>country_pop_without_water=%{y}<br>bubble_size=%{marker.size}<extra></extra>",
         "hovertext": [
          "Mauritius",
          "Congo",
          "Eswatini",
          "Lesotho",
          "Malawi",
          "Zambia",
          "Central African Republic",
          "Democratic Republic of Congo",
          "Uganda",
          "Tanzania",
          "Sierra Leone",
          "Mozambique",
          "Burundi",
          "South Africa",
          "Equatorial Guinea",
          "Guinea",
          "Rwanda",
          "Togo",
          "Nigeria",
          "Zimbabwe",
          "Guinea-Bissau",
          "Cameroon",
          "Egypt",
          "Madagascar",
          "Cote d'Ivoire",
          "Kenya",
          "Reunion",
          "Angola",
          "Liberia",
          "Ghana",
          "Gambia",
          "Gabon",
          "Benin",
          "Sao Tome and Principe",
          "Morocco",
          "Ethiopia",
          "Algeria",
          "Mali",
          "South Sudan",
          "Burkina Faso",
          "Tunisia",
          "Senegal",
          "Chad",
          "Eritrea",
          "Namibia",
          "Mauritania",
          "Niger",
          "Botswana",
          "Djibouti",
          "Sudan",
          "Somalia",
          "Western Sahara",
          "Libya"
         ],
         "legendgroup": "Africa",
         "marker": {
          "color": "#636efa",
          "size": [
           51.273428,
           55.657016999999996,
           51.172369,
           52.159067,
           69.647681,
           68.920657,
           54.919987,
           142.37798600000002,
           97.12353300000001,
           111.498438,
           58.141343,
           82.163045,
           62.255429,
           110.04199599999998,
           51.449891,
           63.497237,
           63.276517,
           58.478242,
           261.400704,
           65.09217100000001,
           52.01549,
           77.224262,
           154.25832699999998,
           78.427333,
           77.053629,
           104.985702,
           50.901696,
           83.933611,
           55.180208,
           81.732128,
           52.486937,
           52.278829,
           62.451031,
           50.223364,
           87.344787,
           167.87622599999997,
           94.616626,
           70.85572400000001,
           61.381377,
           71.497097,
           61.935764,
           67.196308,
           66.914985,
           53.601462,
           52.587344,
           54.77511,
           75.13081,
           52.39724,
           51.002197,
           94.909351,
           66.3595,
           50.611872,
           56.958538
          ],
          "sizemode": "area",
          "sizeref": 3.735540255,
          "symbol": "circle"
         },
         "mode": "markers",
         "name": "Africa",
         "orientation": "v",
         "showlegend": true,
         "type": "scatter",
         "x": [
          17.510016847607027,
          48.059261589330696,
          24.297706905978483,
          27.532642270849877,
          12.376691222547159,
          40.76701138141014,
          50.67109186791584,
          65.97342848175676,
          21.384345167338534,
          38.60777517842524,
          43.61096111101236,
          43.77025402701607,
          30.973455214827528,
          28.527219470347383,
          39.86664826330728,
          26.786346667464304,
          33.60360949433565,
          37.843103682058796,
          28.049822743503732,
          34.34619883193892,
          46.26162085820328,
          37.8581084027514,
          41.89443092081913,
          65.42765526903364,
          40.28254304775189,
          40.54153133729928,
          40.47820452351801,
          61.87685723609214,
          25.000211227129576,
          29.511053229765405,
          30.05363432819077,
          46.35054798016414,
          40.50522492317031,
          59.255678452028036,
          60.76032635709999,
          48.639015222965945,
          38.35615107405666,
          39.395822444857956,
          26.006813821938167,
          33.641709160247046,
          61.63186850471513,
          70.56921551557826,
          48.4883767882005,
          56.053815627947316,
          77.91887504819377,
          68.52024665298964,
          65.25091250088289,
          76.09554918170191,
          68.4761130957827,
          49.004139246201746,
          45.3460809737113,
          70.62939143992794,
          70.9355136163486
         ],
         "xaxis": "x",
         "y": [
          222977.4573421452,
          2718720.5981829073,
          284858.78347655095,
          594448.1934979704,
          2431732.8097610655,
          7713386.3926275745,
          2493011.1326595163,
          60944924.52659727,
          10077058.951764679,
          23743178.681283236,
          3550517.929644127,
          14077846.49932349,
          3795929.8126999857,
          17128311.973297194,
          578022.9451713486,
          3615416.6933492594,
          4461388.927129087,
          3208429.910475855,
          59297522.75051901,
          5183587.059716224,
          932398.3422350012,
          10306590.619809056,
          43678432.78421672,
          18599337.437420238,
          10897889.747904088,
          22292045.607364,
          364990.35106038087,
          20997052.03352086,
          1295062.9420046643,
          9364485.185017293,
          747414.9519524776,
          1056249.7290308946,
          5043318.111803661,
          132355.8536175879,
          22690814.458563853,
          57333835.50839773,
          17113220.47270684,
          8216283.996629629,
          2959933.5267628916,
          7231990.850636193,
          7356234.373513127,
          12135299.653242627,
          8201801.660467596,
          2018756.8693905838,
          2016029.3384269383,
          3271917.1499515744,
          16398082.843863126,
          1824192.943203431,
          686265.5511625413,
          22007440.898605496,
          7418392.116894301,
          432161.46999131585,
          4936074.670488791
         ],
         "yaxis": "y"
        },
        {
         "hovertemplate": "<b>%{hovertext}</b><br><br>region=Americas<br>percent_without_water=%{x}<br>country_pop_without_water=%{y}<br>bubble_size=%{marker.size}<extra></extra>",
         "hovertext": [
          "Panama",
          "Puerto Rico",
          "Suriname",
          "El Salvador",
          "Guyana",
          "Belize",
          "French Guiana",
          "Canada",
          "Honduras",
          "Costa Rica",
          "Guatemala",
          "Colombia",
          "Dominican Republic",
          "Nicaragua",
          "Chile",
          "Ecuador",
          "Haiti",
          "Jamaica",
          "United States",
          "Paraguay",
          "Cuba",
          "Peru",
          "Montserrat",
          "Brazil",
          "Bahamas",
          "Venezuela",
          "Bolivia",
          "Trinidad and Tobago",
          "Mexico",
          "Argentina",
          "Martinique",
          "Uruguay",
          "Grenada",
          "Saint Lucia",
          "Falkland Islands",
          "Greenland",
          "Guadeloupe"
         ],
         "legendgroup": "Americas",
         "marker": {
          "color": "#EF553B",
          "size": [
           54.381583,
           52.828246,
           50.591798,
           56.5185,
           50.790329,
           50.404915,
           50.30645,
           88.067913,
           60.062994,
           55.139053,
           68.24986799999999,
           101.265841,
           60.953714,
           56.702379,
           69.212362,
           67.888474,
           61.541683,
           52.973462,
           382.91507400000006,
           57.219640999999996,
           61.317498,
           83.359415,
           50.004981,
           263.99344099999996,
           50.396914,
           78.704947,
           61.832936000000004,
           51.403374,
           180.26222,
           95.605823,
           50.374743,
           53.485152,
           50.113015,
           50.184401,
           50.003528,
           50.056868,
           50.400013
          ],
          "sizemode": "area",
          "sizeref": 3.735540255,
          "symbol": "circle"
         },
         "mode": "markers",
         "name": "Americas",
         "orientation": "v",
         "showlegend": true,
         "type": "scatter",
         "x": [
          28.397048485503863,
          18.09160508279674,
          13.764390755234023,
          22.505495333717366,
          14.56039113369893,
          14.033573613233116,
          18.512411811966633,
          15.651788331354133,
          35.584276776316734,
          29.639894630622326,
          31.817238819013134,
          35.211603317792765,
          33.29578381858755,
          39.43015406721217,
          33.293816112488635,
          41.47946743936037,
          42.486105282786795,
          38.29285614173942,
          30.743492801000887,
          37.42362094533023,
          28.237858222167144,
          51.73142704067665,
          56.53775864446649,
          44.47720258320748,
          38.96060943701578,
          45.884785309943105,
          30.020730605192963,
          40.604113148007336,
          51.568663971759456,
          36.66792518199736,
          61.44899866148849,
          43.50538984663076,
          53.37459474216484,
          74.0130960688681,
          60.84419434228907,
          61.612203569803405,
          48.88811849088356
         ],
         "xaxis": "x",
         "y": [
          1244240.2489425947,
          511675.0970899955,
          81457.38920165985,
          1467020.7133283664,
          115074.9936430514,
          56824.04459602287,
          56731.285997771745,
          5958309.164924044,
          3580843.6369441464,
          1523209.8942118355,
          5806604.085714656,
          18051524.57045036,
          3647124.9335463587,
          2642758.365868474,
          6396528.475145644,
          7420043.748228444,
          4903611.590785505,
          1138623.5260892878,
          102349721.8086368,
          2701851.0814536484,
          3195819.0395366023,
          17257301.43192154,
          2816.1457580808756,
          95178296.26834656,
          154640.11334083678,
          13171203.304282952,
          3552333.839244896,
          569827.5668497165,
          67174486.51395404,
          16722709.056274146,
          230275.82105402183,
          1516228.9643476491,
          60321.29824785757,
          136480.88928195345,
          2146.583176395958,
          35037.627926075795,
          195558.82941893805
         ],
         "yaxis": "y"
        },
        {
         "hovertemplate": "<b>%{hovertext}</b><br><br>region=Asia<br>percent_without_water=%{x}<br>country_pop_without_water=%{y}<br>bubble_size=%{marker.size}<extra></extra>",
         "hovertext": [
          "Brunei",
          "Philippines",
          "Vietnam",
          "Japan",
          "Azerbaijan",
          "Georgia",
          "Nepal",
          "Kyrgyzstan",
          "Armenia",
          "Bangladesh",
          "Thailand",
          "Myanmar",
          "Pakistan",
          "Laos",
          "Taiwan",
          "Cambodia",
          "China",
          "Malaysia",
          "Uzbekistan",
          "Sri Lanka",
          "Mongolia",
          "Turkey",
          "North Korea",
          "Tajikistan",
          "India",
          "Iraq",
          "Bhutan",
          "Kazakhstan",
          "Indonesia",
          "South Korea",
          "Iran",
          "Afghanistan",
          "Lebanon",
          "Syria",
          "Jordan",
          "Singapore",
          "Israel",
          "Turkmenistan",
          "Palestine",
          "Yemen",
          "Hong Kong",
          "Timor",
          "Oman",
          "Kuwait",
          "United Arab Emirates",
          "Qatar",
          "Saudi Arabia"
         ],
         "legendgroup": "Asia",
         "marker": {
          "color": "#00cc96",
          "size": [
           50.441532,
           161.04690999999997,
           148.16882900000002,
           176.050796,
           60.223344,
           53.979773,
           79.67492,
           56.628347,
           52.968128,
           216.303494,
           119.950844,
           104.80601399999999,
           275.199929,
           57.379357999999996,
           73.855008,
           66.946446,
           1494.216102,
           82.776195,
           83.935765,
           71.497306,
           53.329282,
           135.042736,
           75.887045,
           59.749624999999995,
           1443.409033,
           91.179351,
           50.7799,
           68.994958,
           326.36178799999993,
           101.305184,
           135.02876,
           89.83542800000001,
           56.769151,
           68.27570399999999,
           60.269022,
           55.896684,
           58.789776,
           56.117933,
           55.222756000000004,
           80.490639,
           57.5528,
           51.343875,
           55.223376,
           54.328553,
           59.991083,
           52.930524,
           85.34067999999999
          ],
          "sizemode": "area",
          "sizeref": 3.735540255,
          "symbol": "circle"
         },
         "mode": "markers",
         "name": "Asia",
         "orientation": "v",
         "showlegend": true,
         "type": "scatter",
         "x": [
          18.449341184326904,
          17.151166745255885,
          7.7992241567240175,
          17.61374972170487,
          20.228039809518496,
          19.18728212139154,
          10.56223462221212,
          23.718791241160538,
          24.27817451075206,
          4.545319052713037,
          14.831964584210333,
          24.019750891605497,
          9.849043375830284,
          18.849209083171925,
          19.225731945618204,
          17.082509289435595,
          20.549860730027465,
          29.50286817483295,
          24.80980493827906,
          27.53112977114632,
          29.908558019063847,
          35.25206813866142,
          29.62017388140268,
          40.20427877664695,
          14.781299759131409,
          27.943368678337997,
          43.77914109758325,
          34.53144802141006,
          15.203630021384534,
          32.0872232729841,
          53.04932769356257,
          30.650424584950375,
          59.82890789940257,
          46.23726913201235,
          61.3798593743844,
          47.69928189048111,
          77.9394547257582,
          15.669031561379466,
          58.310855555988105,
          56.07503291838737,
          81.28657727975526,
          80.34841911638644,
          83.83653431850841,
          92.0294160756311,
          99.95474802539132,
          85.30015578806233,
          83.66275078182093
         ],
         "xaxis": "x",
         "y": [
          81459.7451179823,
          19045840.69955423,
          7656407.025741094,
          22202271.72965677,
          2067982.09418402,
          763610.2733009676,
          3134334.6743537495,
          1572163.7876697273,
          720607.2955424949,
          7559024.398109483,
          10375084.408436218,
          13164268.036418432,
          22180038.689549,
          1390950.618415774,
          4586299.893685779,
          2894878.2121791863,
          296784397.6016314,
          9669917.603576189,
          8419397.10081278,
          5918451.212160423,
          995740.2385882491,
          29979323.241701946,
          7667787.741756958,
          3919766.4146776646,
          205963966.03854427,
          11506897.869276864,
          341433.5214200518,
          6559234.048458673,
          42017023.76800307,
          16462408.940695312,
          45107185.52617285,
          12209727.817232205,
          4049909.1173614883,
          8450186.444249945,
          6303111.262724598,
          2812675.9233508976,
          6850703.48601556,
          958620.8526740493,
          3045433.707201702,
          17097635.856276654,
          6139412.608785355,
          1079782.3174003381,
          4379097.412824732,
          3983542.050424212,
          9986561.837657709,
          2499741.537406556,
          29566985.033000834
         ],
         "yaxis": "y"
        },
        {
         "hovertemplate": "<b>%{hovertext}</b><br><br>region=Europe<br>percent_without_water=%{x}<br>country_pop_without_water=%{y}<br>bubble_size=%{marker.size}<extra></extra>",
         "hovertext": [
          "Sweden",
          "Norway",
          "Netherlands",
          "Albania",
          "France",
          "Slovakia",
          "Slovenia",
          "Estonia",
          "Switzerland",
          "Moldova",
          "Austria",
          "Lithuania",
          "Hungary",
          "United Kingdom",
          "Latvia",
          "Italy",
          "North Macedonia",
          "Poland",
          "Romania",
          "Belarus",
          "Ireland",
          "Bulgaria",
          "Belgium",
          "Bosnia and Herzegovina",
          "Ukraine",
          "Russia",
          "Serbia",
          "Czechia",
          "Germany",
          "Finland",
          "Liechtenstein",
          "Montenegro",
          "Denmark",
          "Croatia",
          "Spain",
          "Portugal",
          "Andorra",
          "Malta",
          "Isle of Man",
          "Luxembourg",
          "Cyprus",
          "Faeroe Islands",
          "Iceland",
          "Greece"
         ],
         "legendgroup": "Europe",
         "marker": {
          "color": "#ab63fa",
          "size": [
           60.160159,
           55.465629,
           67.17309399999999,
           52.872934,
           115.426177,
           55.460726,
           52.078723,
           51.325188,
           58.715494,
           54.024025,
           59.043071999999995,
           52.689862,
           59.634162,
           118.207114,
           51.866934,
           110.367471,
           52.082661,
           87.797,
           69.12777200000001,
           59.442867,
           54.982904,
           56.896655,
           61.632334,
           53.263459,
           93.466822,
           195.91202199999998,
           58.697547,
           60.724553,
           133.900471,
           55.548361,
           50.038254,
           50.628051,
           55.813302,
           54.081657,
           96.745211,
           60.167923,
           50.077354,
           50.44279,
           50.08541,
           50.634814,
           51.215588,
           50.049053,
           50.34336,
           60.370747
          ],
          "sizemode": "area",
          "sizeref": 3.735540255,
          "symbol": "circle"
         },
         "mode": "markers",
         "name": "Europe",
         "orientation": "v",
         "showlegend": true,
         "type": "scatter",
         "x": [
          12.25853451193845,
          22.415375999279803,
          6.6028690158084995,
          16.0712220660209,
          13.170886274673798,
          19.292732850329013,
          23.594417623580288,
          22.69772810057108,
          18.267272690639956,
          20.3559128084753,
          17.26378100415679,
          17.655557366969987,
          21.745993734940463,
          15.571293457794205,
          16.219325679845145,
          21.97975086944454,
          21.88165778539107,
          27.380783653745226,
          7.719916314081707,
          17.10838039298512,
          20.69700324996246,
          29.859565311858145,
          12.43902871401005,
          31.682602884485622,
          8.20643522657064,
          28.715589270518354,
          25.969604730247635,
          23.373208450972065,
          16.719191658011987,
          15.830318271893015,
          40,
          32.500601820199805,
          20.27422104747983,
          31.695572863568493,
          33.06219380915692,
          39.31231568257723,
          36.97870214420755,
          45.35380173992071,
          46.848363062500724,
          34.277996521490785,
          41.92178710267408,
          51.824410411968,
          41.3463624494295,
          63.2990996781255
         ],
         "xaxis": "x",
         "y": [
          1245486.5974828205,
          1225141.2910756767,
          1133916.9027816684,
          461715.6029502169,
          8617207.366536785,
          1053523.2788684575,
          490462.58585741685,
          300787.56906139595,
          1592083.0553163642,
          819127.0203912483,
          1561176.1461282214,
          474910.12850232626,
          2095044.2649340148,
          10620729.880032236,
          302804.10568776017,
          13268619.731984181,
          455720.75284980354,
          10349114.797606084,
          1476647.991148353,
          1615521.606363662,
          1031311.8028225095,
          2059311.2040585303,
          1446949.3663695536,
          1033948.7552680057,
          3567076.592478757,
          41899496.933828376,
          2258718.577127511,
          2506672.128124978,
          14027480.548464768,
          878323.205173586,
          15301.6,
          204120.3547377831,
          1178601.6976375661,
          1293704.568475944,
          15454992.257319342,
          3997245.988121377,
          28604.505256630313,
          200822.09872419492,
          40013.18689168187,
          217601.52083793646,
          509596.2134056538,
          25421.428039382667,
          141966.87010636114,
          6564589.48089621
         ],
         "yaxis": "y"
        },
        {
         "hovertemplate": "<b>%{hovertext}</b><br><br>region=Oceania<br>percent_without_water=%{x}<br>country_pop_without_water=%{y}<br>bubble_size=%{marker.size}<extra></extra>",
         "hovertext": [
          "Papua New Guinea",
          "New Zealand",
          "Australia",
          "New Caledonia",
          "Solomon Islands",
          "Vanuatu",
          "Fiji",
          "Samoa"
         ],
         "legendgroup": "Oceania",
         "marker": {
          "color": "#FFA15A",
          "size": [
           59.119005,
           54.860642,
           75.788217,
           50.288217,
           50.703995,
           50.314464,
           50.902899,
           50.200144
          ],
          "sizemode": "area",
          "sizeref": 3.735540255,
          "symbol": "circle"
         },
         "mode": "markers",
         "name": "Oceania",
         "orientation": "v",
         "showlegend": true,
         "type": "scatter",
         "x": [
          52.61579649266655,
          25.678009142643187,
          20.358890515839597,
          37.80676782572808,
          48.07901034981743,
          26.491399247381015,
          37.29594311880728,
          56.275340742382916
         ],
         "xaxis": "x",
         "y": [
          4798037.112956087,
          1248116.0971511547,
          5250194.865017134,
          108965.53202427868,
          338473.8289121972,
          83305.91372928424,
          336744.6974602798,
          112631.71797543486
         ],
         "yaxis": "y"
        }
       ],
       "layout": {
        "legend": {
         "itemsizing": "constant",
         "title": {
          "text": "region"
         },
         "tracegroupgap": 0
        },
        "template": {
         "data": {
          "bar": [
           {
            "error_x": {
             "color": "#2a3f5f"
            },
            "error_y": {
             "color": "#2a3f5f"
            },
            "marker": {
             "line": {
              "color": "#E5ECF6",
              "width": 0.5
             },
             "pattern": {
              "fillmode": "overlay",
              "size": 10,
              "solidity": 0.2
             }
            },
            "type": "bar"
           }
          ],
          "barpolar": [
           {
            "marker": {
             "line": {
              "color": "#E5ECF6",
              "width": 0.5
             },
             "pattern": {
              "fillmode": "overlay",
              "size": 10,
              "solidity": 0.2
             }
            },
            "type": "barpolar"
           }
          ],
          "carpet": [
           {
            "aaxis": {
             "endlinecolor": "#2a3f5f",
             "gridcolor": "white",
             "linecolor": "white",
             "minorgridcolor": "white",
             "startlinecolor": "#2a3f5f"
            },
            "baxis": {
             "endlinecolor": "#2a3f5f",
             "gridcolor": "white",
             "linecolor": "white",
             "minorgridcolor": "white",
             "startlinecolor": "#2a3f5f"
            },
            "type": "carpet"
           }
          ],
          "choropleth": [
           {
            "colorbar": {
             "outlinewidth": 0,
             "ticks": ""
            },
            "type": "choropleth"
           }
          ],
          "contour": [
           {
            "colorbar": {
             "outlinewidth": 0,
             "ticks": ""
            },
            "colorscale": [
             [
              0,
              "#0d0887"
             ],
             [
              0.1111111111111111,
              "#46039f"
             ],
             [
              0.2222222222222222,
              "#7201a8"
             ],
             [
              0.3333333333333333,
              "#9c179e"
             ],
             [
              0.4444444444444444,
              "#bd3786"
             ],
             [
              0.5555555555555556,
              "#d8576b"
             ],
             [
              0.6666666666666666,
              "#ed7953"
             ],
             [
              0.7777777777777778,
              "#fb9f3a"
             ],
             [
              0.8888888888888888,
              "#fdca26"
             ],
             [
              1,
              "#f0f921"
             ]
            ],
            "type": "contour"
           }
          ],
          "contourcarpet": [
           {
            "colorbar": {
             "outlinewidth": 0,
             "ticks": ""
            },
            "type": "contourcarpet"
           }
          ],
          "heatmap": [
           {
            "colorbar": {
             "outlinewidth": 0,
             "ticks": ""
            },
            "colorscale": [
             [
              0,
              "#0d0887"
             ],
             [
              0.1111111111111111,
              "#46039f"
             ],
             [
              0.2222222222222222,
              "#7201a8"
             ],
             [
              0.3333333333333333,
              "#9c179e"
             ],
             [
              0.4444444444444444,
              "#bd3786"
             ],
             [
              0.5555555555555556,
              "#d8576b"
             ],
             [
              0.6666666666666666,
              "#ed7953"
             ],
             [
              0.7777777777777778,
              "#fb9f3a"
             ],
             [
              0.8888888888888888,
              "#fdca26"
             ],
             [
              1,
              "#f0f921"
             ]
            ],
            "type": "heatmap"
           }
          ],
          "heatmapgl": [
           {
            "colorbar": {
             "outlinewidth": 0,
             "ticks": ""
            },
            "colorscale": [
             [
              0,
              "#0d0887"
             ],
             [
              0.1111111111111111,
              "#46039f"
             ],
             [
              0.2222222222222222,
              "#7201a8"
             ],
             [
              0.3333333333333333,
              "#9c179e"
             ],
             [
              0.4444444444444444,
              "#bd3786"
             ],
             [
              0.5555555555555556,
              "#d8576b"
             ],
             [
              0.6666666666666666,
              "#ed7953"
             ],
             [
              0.7777777777777778,
              "#fb9f3a"
             ],
             [
              0.8888888888888888,
              "#fdca26"
             ],
             [
              1,
              "#f0f921"
             ]
            ],
            "type": "heatmapgl"
           }
          ],
          "histogram": [
           {
            "marker": {
             "pattern": {
              "fillmode": "overlay",
              "size": 10,
              "solidity": 0.2
             }
            },
            "type": "histogram"
           }
          ],
          "histogram2d": [
           {
            "colorbar": {
             "outlinewidth": 0,
             "ticks": ""
            },
            "colorscale": [
             [
              0,
              "#0d0887"
             ],
             [
              0.1111111111111111,
              "#46039f"
             ],
             [
              0.2222222222222222,
              "#7201a8"
             ],
             [
              0.3333333333333333,
              "#9c179e"
             ],
             [
              0.4444444444444444,
              "#bd3786"
             ],
             [
              0.5555555555555556,
              "#d8576b"
             ],
             [
              0.6666666666666666,
              "#ed7953"
             ],
             [
              0.7777777777777778,
              "#fb9f3a"
             ],
             [
              0.8888888888888888,
              "#fdca26"
             ],
             [
              1,
              "#f0f921"
             ]
            ],
            "type": "histogram2d"
           }
          ],
          "histogram2dcontour": [
           {
            "colorbar": {
             "outlinewidth": 0,
             "ticks": ""
            },
            "colorscale": [
             [
              0,
              "#0d0887"
             ],
             [
              0.1111111111111111,
              "#46039f"
             ],
             [
              0.2222222222222222,
              "#7201a8"
             ],
             [
              0.3333333333333333,
              "#9c179e"
             ],
             [
              0.4444444444444444,
              "#bd3786"
             ],
             [
              0.5555555555555556,
              "#d8576b"
             ],
             [
              0.6666666666666666,
              "#ed7953"
             ],
             [
              0.7777777777777778,
              "#fb9f3a"
             ],
             [
              0.8888888888888888,
              "#fdca26"
             ],
             [
              1,
              "#f0f921"
             ]
            ],
            "type": "histogram2dcontour"
           }
          ],
          "mesh3d": [
           {
            "colorbar": {
             "outlinewidth": 0,
             "ticks": ""
            },
            "type": "mesh3d"
           }
          ],
          "parcoords": [
           {
            "line": {
             "colorbar": {
              "outlinewidth": 0,
              "ticks": ""
             }
            },
            "type": "parcoords"
           }
          ],
          "pie": [
           {
            "automargin": true,
            "type": "pie"
           }
          ],
          "scatter": [
           {
            "fillpattern": {
             "fillmode": "overlay",
             "size": 10,
             "solidity": 0.2
            },
            "type": "scatter"
           }
          ],
          "scatter3d": [
           {
            "line": {
             "colorbar": {
              "outlinewidth": 0,
              "ticks": ""
             }
            },
            "marker": {
             "colorbar": {
              "outlinewidth": 0,
              "ticks": ""
             }
            },
            "type": "scatter3d"
           }
          ],
          "scattercarpet": [
           {
            "marker": {
             "colorbar": {
              "outlinewidth": 0,
              "ticks": ""
             }
            },
            "type": "scattercarpet"
           }
          ],
          "scattergeo": [
           {
            "marker": {
             "colorbar": {
              "outlinewidth": 0,
              "ticks": ""
             }
            },
            "type": "scattergeo"
           }
          ],
          "scattergl": [
           {
            "marker": {
             "colorbar": {
              "outlinewidth": 0,
              "ticks": ""
             }
            },
            "type": "scattergl"
           }
          ],
          "scattermapbox": [
           {
            "marker": {
             "colorbar": {
              "outlinewidth": 0,
              "ticks": ""
             }
            },
            "type": "scattermapbox"
           }
          ],
          "scatterpolar": [
           {
            "marker": {
             "colorbar": {
              "outlinewidth": 0,
              "ticks": ""
             }
            },
            "type": "scatterpolar"
           }
          ],
          "scatterpolargl": [
           {
            "marker": {
             "colorbar": {
              "outlinewidth": 0,
              "ticks": ""
             }
            },
            "type": "scatterpolargl"
           }
          ],
          "scatterternary": [
           {
            "marker": {
             "colorbar": {
              "outlinewidth": 0,
              "ticks": ""
             }
            },
            "type": "scatterternary"
           }
          ],
          "surface": [
           {
            "colorbar": {
             "outlinewidth": 0,
             "ticks": ""
            },
            "colorscale": [
             [
              0,
              "#0d0887"
             ],
             [
              0.1111111111111111,
              "#46039f"
             ],
             [
              0.2222222222222222,
              "#7201a8"
             ],
             [
              0.3333333333333333,
              "#9c179e"
             ],
             [
              0.4444444444444444,
              "#bd3786"
             ],
             [
              0.5555555555555556,
              "#d8576b"
             ],
             [
              0.6666666666666666,
              "#ed7953"
             ],
             [
              0.7777777777777778,
              "#fb9f3a"
             ],
             [
              0.8888888888888888,
              "#fdca26"
             ],
             [
              1,
              "#f0f921"
             ]
            ],
            "type": "surface"
           }
          ],
          "table": [
           {
            "cells": {
             "fill": {
              "color": "#EBF0F8"
             },
             "line": {
              "color": "white"
             }
            },
            "header": {
             "fill": {
              "color": "#C8D4E3"
             },
             "line": {
              "color": "white"
             }
            },
            "type": "table"
           }
          ]
         },
         "layout": {
          "annotationdefaults": {
           "arrowcolor": "#2a3f5f",
           "arrowhead": 0,
           "arrowwidth": 1
          },
          "autotypenumbers": "strict",
          "coloraxis": {
           "colorbar": {
            "outlinewidth": 0,
            "ticks": ""
           }
          },
          "colorscale": {
           "diverging": [
            [
             0,
             "#8e0152"
            ],
            [
             0.1,
             "#c51b7d"
            ],
            [
             0.2,
             "#de77ae"
            ],
            [
             0.3,
             "#f1b6da"
            ],
            [
             0.4,
             "#fde0ef"
            ],
            [
             0.5,
             "#f7f7f7"
            ],
            [
             0.6,
             "#e6f5d0"
            ],
            [
             0.7,
             "#b8e186"
            ],
            [
             0.8,
             "#7fbc41"
            ],
            [
             0.9,
             "#4d9221"
            ],
            [
             1,
             "#276419"
            ]
           ],
           "sequential": [
            [
             0,
             "#0d0887"
            ],
            [
             0.1111111111111111,
             "#46039f"
            ],
            [
             0.2222222222222222,
             "#7201a8"
            ],
            [
             0.3333333333333333,
             "#9c179e"
            ],
            [
             0.4444444444444444,
             "#bd3786"
            ],
            [
             0.5555555555555556,
             "#d8576b"
            ],
            [
             0.6666666666666666,
             "#ed7953"
            ],
            [
             0.7777777777777778,
             "#fb9f3a"
            ],
            [
             0.8888888888888888,
             "#fdca26"
            ],
            [
             1,
             "#f0f921"
            ]
           ],
           "sequentialminus": [
            [
             0,
             "#0d0887"
            ],
            [
             0.1111111111111111,
             "#46039f"
            ],
            [
             0.2222222222222222,
             "#7201a8"
            ],
            [
             0.3333333333333333,
             "#9c179e"
            ],
            [
             0.4444444444444444,
             "#bd3786"
            ],
            [
             0.5555555555555556,
             "#d8576b"
            ],
            [
             0.6666666666666666,
             "#ed7953"
            ],
            [
             0.7777777777777778,
             "#fb9f3a"
            ],
            [
             0.8888888888888888,
             "#fdca26"
            ],
            [
             1,
             "#f0f921"
            ]
           ]
          },
          "colorway": [
           "#636efa",
           "#EF553B",
           "#00cc96",
           "#ab63fa",
           "#FFA15A",
           "#19d3f3",
           "#FF6692",
           "#B6E880",
           "#FF97FF",
           "#FECB52"
          ],
          "font": {
           "color": "#2a3f5f"
          },
          "geo": {
           "bgcolor": "white",
           "lakecolor": "white",
           "landcolor": "#E5ECF6",
           "showlakes": true,
           "showland": true,
           "subunitcolor": "white"
          },
          "hoverlabel": {
           "align": "left"
          },
          "hovermode": "closest",
          "mapbox": {
           "style": "light"
          },
          "paper_bgcolor": "white",
          "plot_bgcolor": "#E5ECF6",
          "polar": {
           "angularaxis": {
            "gridcolor": "white",
            "linecolor": "white",
            "ticks": ""
           },
           "bgcolor": "#E5ECF6",
           "radialaxis": {
            "gridcolor": "white",
            "linecolor": "white",
            "ticks": ""
           }
          },
          "scene": {
           "xaxis": {
            "backgroundcolor": "#E5ECF6",
            "gridcolor": "white",
            "gridwidth": 2,
            "linecolor": "white",
            "showbackground": true,
            "ticks": "",
            "zerolinecolor": "white"
           },
           "yaxis": {
            "backgroundcolor": "#E5ECF6",
            "gridcolor": "white",
            "gridwidth": 2,
            "linecolor": "white",
            "showbackground": true,
            "ticks": "",
            "zerolinecolor": "white"
           },
           "zaxis": {
            "backgroundcolor": "#E5ECF6",
            "gridcolor": "white",
            "gridwidth": 2,
            "linecolor": "white",
            "showbackground": true,
            "ticks": "",
            "zerolinecolor": "white"
           }
          },
          "shapedefaults": {
           "line": {
            "color": "#2a3f5f"
           }
          },
          "ternary": {
           "aaxis": {
            "gridcolor": "white",
            "linecolor": "white",
            "ticks": ""
           },
           "baxis": {
            "gridcolor": "white",
            "linecolor": "white",
            "ticks": ""
           },
           "bgcolor": "#E5ECF6",
           "caxis": {
            "gridcolor": "white",
            "linecolor": "white",
            "ticks": ""
           }
          },
          "title": {
           "x": 0.05
          },
          "xaxis": {
           "automargin": true,
           "gridcolor": "white",
           "linecolor": "white",
           "ticks": "",
           "title": {
            "standoff": 15
           },
           "zerolinecolor": "white",
           "zerolinewidth": 2
          },
          "yaxis": {
           "automargin": true,
           "gridcolor": "white",
           "linecolor": "white",
           "ticks": "",
           "title": {
            "standoff": 15
           },
           "zerolinecolor": "white",
           "zerolinewidth": 2
          }
         }
        },
        "title": {
         "text": "Population vs. Percent Without Water"
        },
        "xaxis": {
         "anchor": "y",
         "domain": [
          0,
          1
         ],
         "title": {
          "text": "percent_without_water"
         }
        },
        "yaxis": {
         "anchor": "x",
         "domain": [
          0,
          1
         ],
         "title": {
          "text": "country_pop_without_water"
         }
        }
       }
      },
      "text/html": [
       "<div>                            <div id=\"ac373e8f-b2cb-4740-a20f-f511aa1be26c\" class=\"plotly-graph-div\" style=\"height:525px; width:100%;\"></div>            <script type=\"text/javascript\">                require([\"plotly\"], function(Plotly) {                    window.PLOTLYENV=window.PLOTLYENV || {};                                    if (document.getElementById(\"ac373e8f-b2cb-4740-a20f-f511aa1be26c\")) {                    Plotly.newPlot(                        \"ac373e8f-b2cb-4740-a20f-f511aa1be26c\",                        [{\"hovertemplate\":\"\\u003cb\\u003e%{hovertext}\\u003c\\u002fb\\u003e\\u003cbr\\u003e\\u003cbr\\u003eregion=Africa\\u003cbr\\u003epercent_without_water=%{x}\\u003cbr\\u003ecountry_pop_without_water=%{y}\\u003cbr\\u003ebubble_size=%{marker.size}\\u003cextra\\u003e\\u003c\\u002fextra\\u003e\",\"hovertext\":[\"Mauritius\",\"Congo\",\"Eswatini\",\"Lesotho\",\"Malawi\",\"Zambia\",\"Central African Republic\",\"Democratic Republic of Congo\",\"Uganda\",\"Tanzania\",\"Sierra Leone\",\"Mozambique\",\"Burundi\",\"South Africa\",\"Equatorial Guinea\",\"Guinea\",\"Rwanda\",\"Togo\",\"Nigeria\",\"Zimbabwe\",\"Guinea-Bissau\",\"Cameroon\",\"Egypt\",\"Madagascar\",\"Cote d'Ivoire\",\"Kenya\",\"Reunion\",\"Angola\",\"Liberia\",\"Ghana\",\"Gambia\",\"Gabon\",\"Benin\",\"Sao Tome and Principe\",\"Morocco\",\"Ethiopia\",\"Algeria\",\"Mali\",\"South Sudan\",\"Burkina Faso\",\"Tunisia\",\"Senegal\",\"Chad\",\"Eritrea\",\"Namibia\",\"Mauritania\",\"Niger\",\"Botswana\",\"Djibouti\",\"Sudan\",\"Somalia\",\"Western Sahara\",\"Libya\"],\"legendgroup\":\"Africa\",\"marker\":{\"color\":\"#636efa\",\"size\":[51.273428,55.657016999999996,51.172369,52.159067,69.647681,68.920657,54.919987,142.37798600000002,97.12353300000001,111.498438,58.141343,82.163045,62.255429,110.04199599999998,51.449891,63.497237,63.276517,58.478242,261.400704,65.09217100000001,52.01549,77.224262,154.25832699999998,78.427333,77.053629,104.985702,50.901696,83.933611,55.180208,81.732128,52.486937,52.278829,62.451031,50.223364,87.344787,167.87622599999997,94.616626,70.85572400000001,61.381377,71.497097,61.935764,67.196308,66.914985,53.601462,52.587344,54.77511,75.13081,52.39724,51.002197,94.909351,66.3595,50.611872,56.958538],\"sizemode\":\"area\",\"sizeref\":3.735540255,\"symbol\":\"circle\"},\"mode\":\"markers\",\"name\":\"Africa\",\"orientation\":\"v\",\"showlegend\":true,\"x\":[17.510016847607027,48.059261589330696,24.297706905978483,27.532642270849877,12.376691222547159,40.76701138141014,50.67109186791584,65.97342848175676,21.384345167338534,38.60777517842524,43.61096111101236,43.77025402701607,30.973455214827528,28.527219470347383,39.86664826330728,26.786346667464304,33.60360949433565,37.843103682058796,28.049822743503732,34.34619883193892,46.26162085820328,37.8581084027514,41.89443092081913,65.42765526903364,40.28254304775189,40.54153133729928,40.47820452351801,61.87685723609214,25.000211227129576,29.511053229765405,30.05363432819077,46.35054798016414,40.50522492317031,59.255678452028036,60.76032635709999,48.639015222965945,38.35615107405666,39.395822444857956,26.006813821938167,33.641709160247046,61.63186850471513,70.56921551557826,48.4883767882005,56.053815627947316,77.91887504819377,68.52024665298964,65.25091250088289,76.09554918170191,68.4761130957827,49.004139246201746,45.3460809737113,70.62939143992794,70.9355136163486],\"xaxis\":\"x\",\"y\":[222977.4573421452,2718720.5981829073,284858.78347655095,594448.1934979704,2431732.8097610655,7713386.3926275745,2493011.1326595163,60944924.52659727,10077058.951764679,23743178.681283236,3550517.929644127,14077846.49932349,3795929.8126999857,17128311.973297194,578022.9451713486,3615416.6933492594,4461388.927129087,3208429.910475855,59297522.75051901,5183587.059716224,932398.3422350012,10306590.619809056,43678432.78421672,18599337.437420238,10897889.747904088,22292045.607364,364990.35106038087,20997052.03352086,1295062.9420046643,9364485.185017293,747414.9519524776,1056249.7290308946,5043318.111803661,132355.8536175879,22690814.458563853,57333835.50839773,17113220.47270684,8216283.996629629,2959933.5267628916,7231990.850636193,7356234.373513127,12135299.653242627,8201801.660467596,2018756.8693905838,2016029.3384269383,3271917.1499515744,16398082.843863126,1824192.943203431,686265.5511625413,22007440.898605496,7418392.116894301,432161.46999131585,4936074.670488791],\"yaxis\":\"y\",\"type\":\"scatter\"},{\"hovertemplate\":\"\\u003cb\\u003e%{hovertext}\\u003c\\u002fb\\u003e\\u003cbr\\u003e\\u003cbr\\u003eregion=Americas\\u003cbr\\u003epercent_without_water=%{x}\\u003cbr\\u003ecountry_pop_without_water=%{y}\\u003cbr\\u003ebubble_size=%{marker.size}\\u003cextra\\u003e\\u003c\\u002fextra\\u003e\",\"hovertext\":[\"Panama\",\"Puerto Rico\",\"Suriname\",\"El Salvador\",\"Guyana\",\"Belize\",\"French Guiana\",\"Canada\",\"Honduras\",\"Costa Rica\",\"Guatemala\",\"Colombia\",\"Dominican Republic\",\"Nicaragua\",\"Chile\",\"Ecuador\",\"Haiti\",\"Jamaica\",\"United States\",\"Paraguay\",\"Cuba\",\"Peru\",\"Montserrat\",\"Brazil\",\"Bahamas\",\"Venezuela\",\"Bolivia\",\"Trinidad and Tobago\",\"Mexico\",\"Argentina\",\"Martinique\",\"Uruguay\",\"Grenada\",\"Saint Lucia\",\"Falkland Islands\",\"Greenland\",\"Guadeloupe\"],\"legendgroup\":\"Americas\",\"marker\":{\"color\":\"#EF553B\",\"size\":[54.381583,52.828246,50.591798,56.5185,50.790329,50.404915,50.30645,88.067913,60.062994,55.139053,68.24986799999999,101.265841,60.953714,56.702379,69.212362,67.888474,61.541683,52.973462,382.91507400000006,57.219640999999996,61.317498,83.359415,50.004981,263.99344099999996,50.396914,78.704947,61.832936000000004,51.403374,180.26222,95.605823,50.374743,53.485152,50.113015,50.184401,50.003528,50.056868,50.400013],\"sizemode\":\"area\",\"sizeref\":3.735540255,\"symbol\":\"circle\"},\"mode\":\"markers\",\"name\":\"Americas\",\"orientation\":\"v\",\"showlegend\":true,\"x\":[28.397048485503863,18.09160508279674,13.764390755234023,22.505495333717366,14.56039113369893,14.033573613233116,18.512411811966633,15.651788331354133,35.584276776316734,29.639894630622326,31.817238819013134,35.211603317792765,33.29578381858755,39.43015406721217,33.293816112488635,41.47946743936037,42.486105282786795,38.29285614173942,30.743492801000887,37.42362094533023,28.237858222167144,51.73142704067665,56.53775864446649,44.47720258320748,38.96060943701578,45.884785309943105,30.020730605192963,40.604113148007336,51.568663971759456,36.66792518199736,61.44899866148849,43.50538984663076,53.37459474216484,74.0130960688681,60.84419434228907,61.612203569803405,48.88811849088356],\"xaxis\":\"x\",\"y\":[1244240.2489425947,511675.0970899955,81457.38920165985,1467020.7133283664,115074.9936430514,56824.04459602287,56731.285997771745,5958309.164924044,3580843.6369441464,1523209.8942118355,5806604.085714656,18051524.57045036,3647124.9335463587,2642758.365868474,6396528.475145644,7420043.748228444,4903611.590785505,1138623.5260892878,102349721.8086368,2701851.0814536484,3195819.0395366023,17257301.43192154,2816.1457580808756,95178296.26834656,154640.11334083678,13171203.304282952,3552333.839244896,569827.5668497165,67174486.51395404,16722709.056274146,230275.82105402183,1516228.9643476491,60321.29824785757,136480.88928195345,2146.583176395958,35037.627926075795,195558.82941893805],\"yaxis\":\"y\",\"type\":\"scatter\"},{\"hovertemplate\":\"\\u003cb\\u003e%{hovertext}\\u003c\\u002fb\\u003e\\u003cbr\\u003e\\u003cbr\\u003eregion=Asia\\u003cbr\\u003epercent_without_water=%{x}\\u003cbr\\u003ecountry_pop_without_water=%{y}\\u003cbr\\u003ebubble_size=%{marker.size}\\u003cextra\\u003e\\u003c\\u002fextra\\u003e\",\"hovertext\":[\"Brunei\",\"Philippines\",\"Vietnam\",\"Japan\",\"Azerbaijan\",\"Georgia\",\"Nepal\",\"Kyrgyzstan\",\"Armenia\",\"Bangladesh\",\"Thailand\",\"Myanmar\",\"Pakistan\",\"Laos\",\"Taiwan\",\"Cambodia\",\"China\",\"Malaysia\",\"Uzbekistan\",\"Sri Lanka\",\"Mongolia\",\"Turkey\",\"North Korea\",\"Tajikistan\",\"India\",\"Iraq\",\"Bhutan\",\"Kazakhstan\",\"Indonesia\",\"South Korea\",\"Iran\",\"Afghanistan\",\"Lebanon\",\"Syria\",\"Jordan\",\"Singapore\",\"Israel\",\"Turkmenistan\",\"Palestine\",\"Yemen\",\"Hong Kong\",\"Timor\",\"Oman\",\"Kuwait\",\"United Arab Emirates\",\"Qatar\",\"Saudi Arabia\"],\"legendgroup\":\"Asia\",\"marker\":{\"color\":\"#00cc96\",\"size\":[50.441532,161.04690999999997,148.16882900000002,176.050796,60.223344,53.979773,79.67492,56.628347,52.968128,216.303494,119.950844,104.80601399999999,275.199929,57.379357999999996,73.855008,66.946446,1494.216102,82.776195,83.935765,71.497306,53.329282,135.042736,75.887045,59.749624999999995,1443.409033,91.179351,50.7799,68.994958,326.36178799999993,101.305184,135.02876,89.83542800000001,56.769151,68.27570399999999,60.269022,55.896684,58.789776,56.117933,55.222756000000004,80.490639,57.5528,51.343875,55.223376,54.328553,59.991083,52.930524,85.34067999999999],\"sizemode\":\"area\",\"sizeref\":3.735540255,\"symbol\":\"circle\"},\"mode\":\"markers\",\"name\":\"Asia\",\"orientation\":\"v\",\"showlegend\":true,\"x\":[18.449341184326904,17.151166745255885,7.7992241567240175,17.61374972170487,20.228039809518496,19.18728212139154,10.56223462221212,23.718791241160538,24.27817451075206,4.545319052713037,14.831964584210333,24.019750891605497,9.849043375830284,18.849209083171925,19.225731945618204,17.082509289435595,20.549860730027465,29.50286817483295,24.80980493827906,27.53112977114632,29.908558019063847,35.25206813866142,29.62017388140268,40.20427877664695,14.781299759131409,27.943368678337997,43.77914109758325,34.53144802141006,15.203630021384534,32.0872232729841,53.04932769356257,30.650424584950375,59.82890789940257,46.23726913201235,61.3798593743844,47.69928189048111,77.9394547257582,15.669031561379466,58.310855555988105,56.07503291838737,81.28657727975526,80.34841911638644,83.83653431850841,92.0294160756311,99.95474802539132,85.30015578806233,83.66275078182093],\"xaxis\":\"x\",\"y\":[81459.7451179823,19045840.69955423,7656407.025741094,22202271.72965677,2067982.09418402,763610.2733009676,3134334.6743537495,1572163.7876697273,720607.2955424949,7559024.398109483,10375084.408436218,13164268.036418432,22180038.689549,1390950.618415774,4586299.893685779,2894878.2121791863,296784397.6016314,9669917.603576189,8419397.10081278,5918451.212160423,995740.2385882491,29979323.241701946,7667787.741756958,3919766.4146776646,205963966.03854427,11506897.869276864,341433.5214200518,6559234.048458673,42017023.76800307,16462408.940695312,45107185.52617285,12209727.817232205,4049909.1173614883,8450186.444249945,6303111.262724598,2812675.9233508976,6850703.48601556,958620.8526740493,3045433.707201702,17097635.856276654,6139412.608785355,1079782.3174003381,4379097.412824732,3983542.050424212,9986561.837657709,2499741.537406556,29566985.033000834],\"yaxis\":\"y\",\"type\":\"scatter\"},{\"hovertemplate\":\"\\u003cb\\u003e%{hovertext}\\u003c\\u002fb\\u003e\\u003cbr\\u003e\\u003cbr\\u003eregion=Europe\\u003cbr\\u003epercent_without_water=%{x}\\u003cbr\\u003ecountry_pop_without_water=%{y}\\u003cbr\\u003ebubble_size=%{marker.size}\\u003cextra\\u003e\\u003c\\u002fextra\\u003e\",\"hovertext\":[\"Sweden\",\"Norway\",\"Netherlands\",\"Albania\",\"France\",\"Slovakia\",\"Slovenia\",\"Estonia\",\"Switzerland\",\"Moldova\",\"Austria\",\"Lithuania\",\"Hungary\",\"United Kingdom\",\"Latvia\",\"Italy\",\"North Macedonia\",\"Poland\",\"Romania\",\"Belarus\",\"Ireland\",\"Bulgaria\",\"Belgium\",\"Bosnia and Herzegovina\",\"Ukraine\",\"Russia\",\"Serbia\",\"Czechia\",\"Germany\",\"Finland\",\"Liechtenstein\",\"Montenegro\",\"Denmark\",\"Croatia\",\"Spain\",\"Portugal\",\"Andorra\",\"Malta\",\"Isle of Man\",\"Luxembourg\",\"Cyprus\",\"Faeroe Islands\",\"Iceland\",\"Greece\"],\"legendgroup\":\"Europe\",\"marker\":{\"color\":\"#ab63fa\",\"size\":[60.160159,55.465629,67.17309399999999,52.872934,115.426177,55.460726,52.078723,51.325188,58.715494,54.024025,59.043071999999995,52.689862,59.634162,118.207114,51.866934,110.367471,52.082661,87.797,69.12777200000001,59.442867,54.982904,56.896655,61.632334,53.263459,93.466822,195.91202199999998,58.697547,60.724553,133.900471,55.548361,50.038254,50.628051,55.813302,54.081657,96.745211,60.167923,50.077354,50.44279,50.08541,50.634814,51.215588,50.049053,50.34336,60.370747],\"sizemode\":\"area\",\"sizeref\":3.735540255,\"symbol\":\"circle\"},\"mode\":\"markers\",\"name\":\"Europe\",\"orientation\":\"v\",\"showlegend\":true,\"x\":[12.25853451193845,22.415375999279803,6.6028690158084995,16.0712220660209,13.170886274673798,19.292732850329013,23.594417623580288,22.69772810057108,18.267272690639956,20.3559128084753,17.26378100415679,17.655557366969987,21.745993734940463,15.571293457794205,16.219325679845145,21.97975086944454,21.88165778539107,27.380783653745226,7.719916314081707,17.10838039298512,20.69700324996246,29.859565311858145,12.43902871401005,31.682602884485622,8.20643522657064,28.715589270518354,25.969604730247635,23.373208450972065,16.719191658011987,15.830318271893015,40.0,32.500601820199805,20.27422104747983,31.695572863568493,33.06219380915692,39.31231568257723,36.97870214420755,45.35380173992071,46.848363062500724,34.277996521490785,41.92178710267408,51.824410411968,41.3463624494295,63.2990996781255],\"xaxis\":\"x\",\"y\":[1245486.5974828205,1225141.2910756767,1133916.9027816684,461715.6029502169,8617207.366536785,1053523.2788684575,490462.58585741685,300787.56906139595,1592083.0553163642,819127.0203912483,1561176.1461282214,474910.12850232626,2095044.2649340148,10620729.880032236,302804.10568776017,13268619.731984181,455720.75284980354,10349114.797606084,1476647.991148353,1615521.606363662,1031311.8028225095,2059311.2040585303,1446949.3663695536,1033948.7552680057,3567076.592478757,41899496.933828376,2258718.577127511,2506672.128124978,14027480.548464768,878323.205173586,15301.6,204120.3547377831,1178601.6976375661,1293704.568475944,15454992.257319342,3997245.988121377,28604.505256630313,200822.09872419492,40013.18689168187,217601.52083793646,509596.2134056538,25421.428039382667,141966.87010636114,6564589.48089621],\"yaxis\":\"y\",\"type\":\"scatter\"},{\"hovertemplate\":\"\\u003cb\\u003e%{hovertext}\\u003c\\u002fb\\u003e\\u003cbr\\u003e\\u003cbr\\u003eregion=Oceania\\u003cbr\\u003epercent_without_water=%{x}\\u003cbr\\u003ecountry_pop_without_water=%{y}\\u003cbr\\u003ebubble_size=%{marker.size}\\u003cextra\\u003e\\u003c\\u002fextra\\u003e\",\"hovertext\":[\"Papua New Guinea\",\"New Zealand\",\"Australia\",\"New Caledonia\",\"Solomon Islands\",\"Vanuatu\",\"Fiji\",\"Samoa\"],\"legendgroup\":\"Oceania\",\"marker\":{\"color\":\"#FFA15A\",\"size\":[59.119005,54.860642,75.788217,50.288217,50.703995,50.314464,50.902899,50.200144],\"sizemode\":\"area\",\"sizeref\":3.735540255,\"symbol\":\"circle\"},\"mode\":\"markers\",\"name\":\"Oceania\",\"orientation\":\"v\",\"showlegend\":true,\"x\":[52.61579649266655,25.678009142643187,20.358890515839597,37.80676782572808,48.07901034981743,26.491399247381015,37.29594311880728,56.275340742382916],\"xaxis\":\"x\",\"y\":[4798037.112956087,1248116.0971511547,5250194.865017134,108965.53202427868,338473.8289121972,83305.91372928424,336744.6974602798,112631.71797543486],\"yaxis\":\"y\",\"type\":\"scatter\"}],                        {\"template\":{\"data\":{\"histogram2dcontour\":[{\"type\":\"histogram2dcontour\",\"colorbar\":{\"outlinewidth\":0,\"ticks\":\"\"},\"colorscale\":[[0.0,\"#0d0887\"],[0.1111111111111111,\"#46039f\"],[0.2222222222222222,\"#7201a8\"],[0.3333333333333333,\"#9c179e\"],[0.4444444444444444,\"#bd3786\"],[0.5555555555555556,\"#d8576b\"],[0.6666666666666666,\"#ed7953\"],[0.7777777777777778,\"#fb9f3a\"],[0.8888888888888888,\"#fdca26\"],[1.0,\"#f0f921\"]]}],\"choropleth\":[{\"type\":\"choropleth\",\"colorbar\":{\"outlinewidth\":0,\"ticks\":\"\"}}],\"histogram2d\":[{\"type\":\"histogram2d\",\"colorbar\":{\"outlinewidth\":0,\"ticks\":\"\"},\"colorscale\":[[0.0,\"#0d0887\"],[0.1111111111111111,\"#46039f\"],[0.2222222222222222,\"#7201a8\"],[0.3333333333333333,\"#9c179e\"],[0.4444444444444444,\"#bd3786\"],[0.5555555555555556,\"#d8576b\"],[0.6666666666666666,\"#ed7953\"],[0.7777777777777778,\"#fb9f3a\"],[0.8888888888888888,\"#fdca26\"],[1.0,\"#f0f921\"]]}],\"heatmap\":[{\"type\":\"heatmap\",\"colorbar\":{\"outlinewidth\":0,\"ticks\":\"\"},\"colorscale\":[[0.0,\"#0d0887\"],[0.1111111111111111,\"#46039f\"],[0.2222222222222222,\"#7201a8\"],[0.3333333333333333,\"#9c179e\"],[0.4444444444444444,\"#bd3786\"],[0.5555555555555556,\"#d8576b\"],[0.6666666666666666,\"#ed7953\"],[0.7777777777777778,\"#fb9f3a\"],[0.8888888888888888,\"#fdca26\"],[1.0,\"#f0f921\"]]}],\"heatmapgl\":[{\"type\":\"heatmapgl\",\"colorbar\":{\"outlinewidth\":0,\"ticks\":\"\"},\"colorscale\":[[0.0,\"#0d0887\"],[0.1111111111111111,\"#46039f\"],[0.2222222222222222,\"#7201a8\"],[0.3333333333333333,\"#9c179e\"],[0.4444444444444444,\"#bd3786\"],[0.5555555555555556,\"#d8576b\"],[0.6666666666666666,\"#ed7953\"],[0.7777777777777778,\"#fb9f3a\"],[0.8888888888888888,\"#fdca26\"],[1.0,\"#f0f921\"]]}],\"contourcarpet\":[{\"type\":\"contourcarpet\",\"colorbar\":{\"outlinewidth\":0,\"ticks\":\"\"}}],\"contour\":[{\"type\":\"contour\",\"colorbar\":{\"outlinewidth\":0,\"ticks\":\"\"},\"colorscale\":[[0.0,\"#0d0887\"],[0.1111111111111111,\"#46039f\"],[0.2222222222222222,\"#7201a8\"],[0.3333333333333333,\"#9c179e\"],[0.4444444444444444,\"#bd3786\"],[0.5555555555555556,\"#d8576b\"],[0.6666666666666666,\"#ed7953\"],[0.7777777777777778,\"#fb9f3a\"],[0.8888888888888888,\"#fdca26\"],[1.0,\"#f0f921\"]]}],\"surface\":[{\"type\":\"surface\",\"colorbar\":{\"outlinewidth\":0,\"ticks\":\"\"},\"colorscale\":[[0.0,\"#0d0887\"],[0.1111111111111111,\"#46039f\"],[0.2222222222222222,\"#7201a8\"],[0.3333333333333333,\"#9c179e\"],[0.4444444444444444,\"#bd3786\"],[0.5555555555555556,\"#d8576b\"],[0.6666666666666666,\"#ed7953\"],[0.7777777777777778,\"#fb9f3a\"],[0.8888888888888888,\"#fdca26\"],[1.0,\"#f0f921\"]]}],\"mesh3d\":[{\"type\":\"mesh3d\",\"colorbar\":{\"outlinewidth\":0,\"ticks\":\"\"}}],\"scatter\":[{\"fillpattern\":{\"fillmode\":\"overlay\",\"size\":10,\"solidity\":0.2},\"type\":\"scatter\"}],\"parcoords\":[{\"type\":\"parcoords\",\"line\":{\"colorbar\":{\"outlinewidth\":0,\"ticks\":\"\"}}}],\"scatterpolargl\":[{\"type\":\"scatterpolargl\",\"marker\":{\"colorbar\":{\"outlinewidth\":0,\"ticks\":\"\"}}}],\"bar\":[{\"error_x\":{\"color\":\"#2a3f5f\"},\"error_y\":{\"color\":\"#2a3f5f\"},\"marker\":{\"line\":{\"color\":\"#E5ECF6\",\"width\":0.5},\"pattern\":{\"fillmode\":\"overlay\",\"size\":10,\"solidity\":0.2}},\"type\":\"bar\"}],\"scattergeo\":[{\"type\":\"scattergeo\",\"marker\":{\"colorbar\":{\"outlinewidth\":0,\"ticks\":\"\"}}}],\"scatterpolar\":[{\"type\":\"scatterpolar\",\"marker\":{\"colorbar\":{\"outlinewidth\":0,\"ticks\":\"\"}}}],\"histogram\":[{\"marker\":{\"pattern\":{\"fillmode\":\"overlay\",\"size\":10,\"solidity\":0.2}},\"type\":\"histogram\"}],\"scattergl\":[{\"type\":\"scattergl\",\"marker\":{\"colorbar\":{\"outlinewidth\":0,\"ticks\":\"\"}}}],\"scatter3d\":[{\"type\":\"scatter3d\",\"line\":{\"colorbar\":{\"outlinewidth\":0,\"ticks\":\"\"}},\"marker\":{\"colorbar\":{\"outlinewidth\":0,\"ticks\":\"\"}}}],\"scattermapbox\":[{\"type\":\"scattermapbox\",\"marker\":{\"colorbar\":{\"outlinewidth\":0,\"ticks\":\"\"}}}],\"scatterternary\":[{\"type\":\"scatterternary\",\"marker\":{\"colorbar\":{\"outlinewidth\":0,\"ticks\":\"\"}}}],\"scattercarpet\":[{\"type\":\"scattercarpet\",\"marker\":{\"colorbar\":{\"outlinewidth\":0,\"ticks\":\"\"}}}],\"carpet\":[{\"aaxis\":{\"endlinecolor\":\"#2a3f5f\",\"gridcolor\":\"white\",\"linecolor\":\"white\",\"minorgridcolor\":\"white\",\"startlinecolor\":\"#2a3f5f\"},\"baxis\":{\"endlinecolor\":\"#2a3f5f\",\"gridcolor\":\"white\",\"linecolor\":\"white\",\"minorgridcolor\":\"white\",\"startlinecolor\":\"#2a3f5f\"},\"type\":\"carpet\"}],\"table\":[{\"cells\":{\"fill\":{\"color\":\"#EBF0F8\"},\"line\":{\"color\":\"white\"}},\"header\":{\"fill\":{\"color\":\"#C8D4E3\"},\"line\":{\"color\":\"white\"}},\"type\":\"table\"}],\"barpolar\":[{\"marker\":{\"line\":{\"color\":\"#E5ECF6\",\"width\":0.5},\"pattern\":{\"fillmode\":\"overlay\",\"size\":10,\"solidity\":0.2}},\"type\":\"barpolar\"}],\"pie\":[{\"automargin\":true,\"type\":\"pie\"}]},\"layout\":{\"autotypenumbers\":\"strict\",\"colorway\":[\"#636efa\",\"#EF553B\",\"#00cc96\",\"#ab63fa\",\"#FFA15A\",\"#19d3f3\",\"#FF6692\",\"#B6E880\",\"#FF97FF\",\"#FECB52\"],\"font\":{\"color\":\"#2a3f5f\"},\"hovermode\":\"closest\",\"hoverlabel\":{\"align\":\"left\"},\"paper_bgcolor\":\"white\",\"plot_bgcolor\":\"#E5ECF6\",\"polar\":{\"bgcolor\":\"#E5ECF6\",\"angularaxis\":{\"gridcolor\":\"white\",\"linecolor\":\"white\",\"ticks\":\"\"},\"radialaxis\":{\"gridcolor\":\"white\",\"linecolor\":\"white\",\"ticks\":\"\"}},\"ternary\":{\"bgcolor\":\"#E5ECF6\",\"aaxis\":{\"gridcolor\":\"white\",\"linecolor\":\"white\",\"ticks\":\"\"},\"baxis\":{\"gridcolor\":\"white\",\"linecolor\":\"white\",\"ticks\":\"\"},\"caxis\":{\"gridcolor\":\"white\",\"linecolor\":\"white\",\"ticks\":\"\"}},\"coloraxis\":{\"colorbar\":{\"outlinewidth\":0,\"ticks\":\"\"}},\"colorscale\":{\"sequential\":[[0.0,\"#0d0887\"],[0.1111111111111111,\"#46039f\"],[0.2222222222222222,\"#7201a8\"],[0.3333333333333333,\"#9c179e\"],[0.4444444444444444,\"#bd3786\"],[0.5555555555555556,\"#d8576b\"],[0.6666666666666666,\"#ed7953\"],[0.7777777777777778,\"#fb9f3a\"],[0.8888888888888888,\"#fdca26\"],[1.0,\"#f0f921\"]],\"sequentialminus\":[[0.0,\"#0d0887\"],[0.1111111111111111,\"#46039f\"],[0.2222222222222222,\"#7201a8\"],[0.3333333333333333,\"#9c179e\"],[0.4444444444444444,\"#bd3786\"],[0.5555555555555556,\"#d8576b\"],[0.6666666666666666,\"#ed7953\"],[0.7777777777777778,\"#fb9f3a\"],[0.8888888888888888,\"#fdca26\"],[1.0,\"#f0f921\"]],\"diverging\":[[0,\"#8e0152\"],[0.1,\"#c51b7d\"],[0.2,\"#de77ae\"],[0.3,\"#f1b6da\"],[0.4,\"#fde0ef\"],[0.5,\"#f7f7f7\"],[0.6,\"#e6f5d0\"],[0.7,\"#b8e186\"],[0.8,\"#7fbc41\"],[0.9,\"#4d9221\"],[1,\"#276419\"]]},\"xaxis\":{\"gridcolor\":\"white\",\"linecolor\":\"white\",\"ticks\":\"\",\"title\":{\"standoff\":15},\"zerolinecolor\":\"white\",\"automargin\":true,\"zerolinewidth\":2},\"yaxis\":{\"gridcolor\":\"white\",\"linecolor\":\"white\",\"ticks\":\"\",\"title\":{\"standoff\":15},\"zerolinecolor\":\"white\",\"automargin\":true,\"zerolinewidth\":2},\"scene\":{\"xaxis\":{\"backgroundcolor\":\"#E5ECF6\",\"gridcolor\":\"white\",\"linecolor\":\"white\",\"showbackground\":true,\"ticks\":\"\",\"zerolinecolor\":\"white\",\"gridwidth\":2},\"yaxis\":{\"backgroundcolor\":\"#E5ECF6\",\"gridcolor\":\"white\",\"linecolor\":\"white\",\"showbackground\":true,\"ticks\":\"\",\"zerolinecolor\":\"white\",\"gridwidth\":2},\"zaxis\":{\"backgroundcolor\":\"#E5ECF6\",\"gridcolor\":\"white\",\"linecolor\":\"white\",\"showbackground\":true,\"ticks\":\"\",\"zerolinecolor\":\"white\",\"gridwidth\":2}},\"shapedefaults\":{\"line\":{\"color\":\"#2a3f5f\"}},\"annotationdefaults\":{\"arrowcolor\":\"#2a3f5f\",\"arrowhead\":0,\"arrowwidth\":1},\"geo\":{\"bgcolor\":\"white\",\"landcolor\":\"#E5ECF6\",\"subunitcolor\":\"white\",\"showland\":true,\"showlakes\":true,\"lakecolor\":\"white\"},\"title\":{\"x\":0.05},\"mapbox\":{\"style\":\"light\"}}},\"xaxis\":{\"anchor\":\"y\",\"domain\":[0.0,1.0],\"title\":{\"text\":\"percent_without_water\"}},\"yaxis\":{\"anchor\":\"x\",\"domain\":[0.0,1.0],\"title\":{\"text\":\"country_pop_without_water\"}},\"legend\":{\"title\":{\"text\":\"region\"},\"tracegroupgap\":0,\"itemsizing\":\"constant\"},\"title\":{\"text\":\"Population vs. Percent Without Water\"}},                        {\"responsive\": true}                    ).then(function(){\n",
       "                            \n",
       "var gd = document.getElementById('ac373e8f-b2cb-4740-a20f-f511aa1be26c');\n",
       "var x = new MutationObserver(function (mutations, observer) {{\n",
       "        var display = window.getComputedStyle(gd).display;\n",
       "        if (!display || display === 'none') {{\n",
       "            console.log([gd, 'removed!']);\n",
       "            Plotly.purge(gd);\n",
       "            observer.disconnect();\n",
       "        }}\n",
       "}});\n",
       "\n",
       "// Listen for the removal of the full notebook cells\n",
       "var notebookContainer = gd.closest('#notebook-container');\n",
       "if (notebookContainer) {{\n",
       "    x.observe(notebookContainer, {childList: true});\n",
       "}}\n",
       "\n",
       "// Listen for the clearing of the current output cell\n",
       "var outputEl = gd.closest('.output');\n",
       "if (outputEl) {{\n",
       "    x.observe(outputEl, {childList: true});\n",
       "}}\n",
       "\n",
       "                        })                };                });            </script>        </div>"
      ]
     },
     "metadata": {},
     "output_type": "display_data"
    }
   ],
   "source": [
    "# plot the countries by population withgout water and percent without water\n",
    "px.scatter(df_countries, x=\"percent_without_water\", y=\"country_pop_without_water\", size=\"bubble_size\", color=\"region\", hover_name=\"bubble_text\", title=\"Population vs. Percent Without Water\")\n"
   ]
  },
  {
   "cell_type": "code",
   "execution_count": null,
   "metadata": {},
   "outputs": [
    {
     "data": {
      "text/html": [
       "<div>\n",
       "<style scoped>\n",
       "    .dataframe tbody tr th:only-of-type {\n",
       "        vertical-align: middle;\n",
       "    }\n",
       "\n",
       "    .dataframe tbody tr th {\n",
       "        vertical-align: top;\n",
       "    }\n",
       "\n",
       "    .dataframe thead th {\n",
       "        text-align: right;\n",
       "    }\n",
       "</style>\n",
       "<table border=\"1\" class=\"dataframe\">\n",
       "  <thead>\n",
       "    <tr style=\"text-align: right;\">\n",
       "      <th></th>\n",
       "      <th>zone_pop_unpiped</th>\n",
       "      <th>zone_pop_piped</th>\n",
       "      <th>pop_zone</th>\n",
       "    </tr>\n",
       "  </thead>\n",
       "  <tbody>\n",
       "    <tr>\n",
       "      <th>count</th>\n",
       "      <td>6989.000000</td>\n",
       "      <td>6989.000000</td>\n",
       "      <td>6989.000000</td>\n",
       "    </tr>\n",
       "    <tr>\n",
       "      <th>mean</th>\n",
       "      <td>333.000173</td>\n",
       "      <td>14.005927</td>\n",
       "      <td>703.704579</td>\n",
       "    </tr>\n",
       "    <tr>\n",
       "      <th>std</th>\n",
       "      <td>1584.341692</td>\n",
       "      <td>637.787037</td>\n",
       "      <td>3228.167566</td>\n",
       "    </tr>\n",
       "    <tr>\n",
       "      <th>min</th>\n",
       "      <td>4.921786</td>\n",
       "      <td>0.000000</td>\n",
       "      <td>10.471884</td>\n",
       "    </tr>\n",
       "    <tr>\n",
       "      <th>25%</th>\n",
       "      <td>52.380365</td>\n",
       "      <td>0.000000</td>\n",
       "      <td>111.447585</td>\n",
       "    </tr>\n",
       "    <tr>\n",
       "      <th>50%</th>\n",
       "      <td>137.371647</td>\n",
       "      <td>0.000000</td>\n",
       "      <td>292.280099</td>\n",
       "    </tr>\n",
       "    <tr>\n",
       "      <th>75%</th>\n",
       "      <td>375.727821</td>\n",
       "      <td>0.000000</td>\n",
       "      <td>799.420895</td>\n",
       "    </tr>\n",
       "    <tr>\n",
       "      <th>max</th>\n",
       "      <td>51604.171664</td>\n",
       "      <td>30764.025415</td>\n",
       "      <td>99238.791662</td>\n",
       "    </tr>\n",
       "  </tbody>\n",
       "</table>\n",
       "</div>"
      ],
      "text/plain": [
       "       zone_pop_unpiped  zone_pop_piped      pop_zone\n",
       "count       6989.000000     6989.000000   6989.000000\n",
       "mean         333.000173       14.005927    703.704579\n",
       "std         1584.341692      637.787037   3228.167566\n",
       "min            4.921786        0.000000     10.471884\n",
       "25%           52.380365        0.000000    111.447585\n",
       "50%          137.371647        0.000000    292.280099\n",
       "75%          375.727821        0.000000    799.420895\n",
       "max        51604.171664    30764.025415  99238.791662"
      ]
     },
     "execution_count": 48,
     "metadata": {},
     "output_type": "execute_result"
    }
   ],
   "source": [
    "# summary statistics of zones by for slected country\n",
    "# select country\n",
    "country = \"CAF\"\n",
    "\n",
    "# interertsinbg ciolumns\n",
    "interesting_cols =[\n",
    "    \"Entity\",\n",
    "    \"dtw_1\",\n",
    "    \"pop_zone\",\n",
    "    \"country_pop_raw\",\n",
    "    \"population_piped_with_access\",\n",
    "    \"population_piped_with_cycling_access\",\n",
    "    \"population_piped_with_walking_access\",\n",
    "    \"Nat Piped\",\n",
    "    \"region\",\n",
    "]\n",
    "\n",
    "other_cols = [\n",
    "    \"zone_pop_unpiped\",\n",
    "    \"zone_pop_piped\",\n",
    "    \"pop_zone\"\n",
    "\n",
    "]\n",
    "\n",
    "# create dataframe of zones for selected country\n",
    "df_zones_country = df_zones[df_zones[\"ISOCODE\"] == country]\n",
    "df_zones_country = df_zones_country[other_cols]\n",
    "\n",
    "# create summary statistics\n",
    "df_zones_country.describe()\n",
    "\n",
    "\n",
    "\n",
    "\n",
    "\n"
   ]
  },
  {
   "cell_type": "code",
   "execution_count": null,
   "metadata": {},
   "outputs": [
    {
     "data": {
      "application/vnd.plotly.v1+json": {
       "config": {
        "plotlyServerURL": "https://plot.ly"
       },
       "data": [
        {
         "alignmentgroup": "True",
         "customdata": [
          [
           "Mauritius"
          ],
          [
           "Congo"
          ],
          [
           "Panama"
          ],
          [
           "Puerto Rico"
          ],
          [
           "Brunei"
          ],
          [
           "Eswatini"
          ],
          [
           "Sweden"
          ],
          [
           "Suriname"
          ],
          [
           "Norway"
          ],
          [
           "Lesotho"
          ],
          [
           "Netherlands"
          ],
          [
           "Philippines"
          ],
          [
           "Papua New Guinea"
          ],
          [
           "Vietnam"
          ],
          [
           "Albania"
          ],
          [
           "Japan"
          ],
          [
           "Azerbaijan"
          ],
          [
           "France"
          ],
          [
           "El Salvador"
          ],
          [
           "Slovakia"
          ],
          [
           "Georgia"
          ],
          [
           "Slovenia"
          ],
          [
           "Estonia"
          ],
          [
           "Nepal"
          ],
          [
           "Switzerland"
          ],
          [
           "New Zealand"
          ],
          [
           "Kyrgyzstan"
          ],
          [
           "Moldova"
          ],
          [
           "Armenia"
          ],
          [
           "Australia"
          ],
          [
           "Austria"
          ],
          [
           "Lithuania"
          ],
          [
           "Malawi"
          ],
          [
           "Bangladesh"
          ],
          [
           "Thailand"
          ],
          [
           "Myanmar"
          ],
          [
           "Hungary"
          ],
          [
           "Guyana"
          ],
          [
           "Belize"
          ],
          [
           "United Kingdom"
          ],
          [
           "Latvia"
          ],
          [
           "Pakistan"
          ],
          [
           "French Guiana"
          ],
          [
           "Italy"
          ],
          [
           "Zambia"
          ],
          [
           "North Macedonia"
          ],
          [
           "Poland"
          ],
          [
           "Laos"
          ],
          [
           "Romania"
          ],
          [
           "Central African Republic"
          ],
          [
           "Canada"
          ],
          [
           "Taiwan"
          ],
          [
           "Democratic Republic of Congo"
          ],
          [
           "Uganda"
          ],
          [
           "Tanzania"
          ],
          [
           "Sierra Leone"
          ],
          [
           "Belarus"
          ],
          [
           "Ireland"
          ],
          [
           "Mozambique"
          ],
          [
           "Bulgaria"
          ],
          [
           "Belgium"
          ],
          [
           "Burundi"
          ],
          [
           "Bosnia and Herzegovina"
          ],
          [
           "Ukraine"
          ],
          [
           "South Africa"
          ],
          [
           "Honduras"
          ],
          [
           "Russia"
          ],
          [
           "Serbia"
          ],
          [
           "Cambodia"
          ],
          [
           "New Caledonia"
          ],
          [
           "Equatorial Guinea"
          ],
          [
           "Guinea"
          ],
          [
           "China"
          ],
          [
           "Costa Rica"
          ],
          [
           "Malaysia"
          ],
          [
           "Czechia"
          ],
          [
           "Germany"
          ],
          [
           "Finland"
          ],
          [
           "Uzbekistan"
          ],
          [
           "Liechtenstein"
          ],
          [
           "Rwanda"
          ],
          [
           "Sri Lanka"
          ],
          [
           "Togo"
          ],
          [
           "Montenegro"
          ],
          [
           "Mongolia"
          ],
          [
           "Nigeria"
          ],
          [
           "Turkey"
          ],
          [
           "North Korea"
          ],
          [
           "Solomon Islands"
          ],
          [
           "Tajikistan"
          ],
          [
           "Zimbabwe"
          ],
          [
           "Guinea-Bissau"
          ],
          [
           "Guatemala"
          ],
          [
           "India"
          ],
          [
           "Cameroon"
          ],
          [
           "Colombia"
          ],
          [
           "Iraq"
          ],
          [
           "Egypt"
          ],
          [
           "Denmark"
          ],
          [
           "Croatia"
          ],
          [
           "Dominican Republic"
          ],
          [
           "Nicaragua"
          ],
          [
           "Spain"
          ],
          [
           "Vanuatu"
          ],
          [
           "Madagascar"
          ],
          [
           "Chile"
          ],
          [
           "Portugal"
          ],
          [
           "Bhutan"
          ],
          [
           "Fiji"
          ],
          [
           "Ecuador"
          ],
          [
           "Cote d'Ivoire"
          ],
          [
           "Kenya"
          ],
          [
           "Kazakhstan"
          ],
          [
           "Reunion"
          ],
          [
           "Indonesia"
          ],
          [
           "Haiti"
          ],
          [
           "Jamaica"
          ],
          [
           "Andorra"
          ],
          [
           "United States"
          ],
          [
           "Malta"
          ],
          [
           "Angola"
          ],
          [
           "Liberia"
          ],
          [
           "Ghana"
          ],
          [
           "Gambia"
          ],
          [
           "Paraguay"
          ],
          [
           "Isle of Man"
          ],
          [
           "Luxembourg"
          ],
          [
           "Cuba"
          ],
          [
           "Peru"
          ],
          [
           "South Korea"
          ],
          [
           "Gabon"
          ],
          [
           "Montserrat"
          ],
          [
           "Benin"
          ],
          [
           "Brazil"
          ],
          [
           "Cyprus"
          ],
          [
           "Bahamas"
          ],
          [
           "Sao Tome and Principe"
          ],
          [
           "Faeroe Islands"
          ],
          [
           "Iceland"
          ],
          [
           "Iran"
          ],
          [
           "Venezuela"
          ],
          [
           "Bolivia"
          ],
          [
           "Trinidad and Tobago"
          ],
          [
           "Mexico"
          ],
          [
           "Afghanistan"
          ],
          [
           "Argentina"
          ],
          [
           "Samoa"
          ],
          [
           "Lebanon"
          ],
          [
           "Morocco"
          ],
          [
           "Ethiopia"
          ],
          [
           "Algeria"
          ],
          [
           "Martinique"
          ],
          [
           "Greece"
          ],
          [
           "Uruguay"
          ],
          [
           "Syria"
          ],
          [
           "Mali"
          ],
          [
           "Grenada"
          ],
          [
           "Jordan"
          ],
          [
           "South Sudan"
          ],
          [
           "Burkina Faso"
          ],
          [
           "Singapore"
          ],
          [
           "Saint Lucia"
          ],
          [
           "Tunisia"
          ],
          [
           "Falkland Islands"
          ],
          [
           "Israel"
          ],
          [
           "Senegal"
          ],
          [
           "Turkmenistan"
          ],
          [
           "Greenland"
          ],
          [
           "Palestine"
          ],
          [
           "Chad"
          ],
          [
           "Eritrea"
          ],
          [
           "Yemen"
          ],
          [
           "Guadeloupe"
          ],
          [
           "Hong Kong"
          ],
          [
           "Namibia"
          ],
          [
           "Mauritania"
          ],
          [
           "Niger"
          ],
          [
           "Botswana"
          ],
          [
           "Timor"
          ],
          [
           "Djibouti"
          ],
          [
           "Sudan"
          ],
          [
           "Oman"
          ],
          [
           "Somalia"
          ],
          [
           "Kuwait"
          ],
          [
           "Western Sahara"
          ],
          [
           "United Arab Emirates"
          ],
          [
           "Qatar"
          ],
          [
           "Saudi Arabia"
          ],
          [
           "Libya"
          ]
         ],
         "hovertemplate": "variable=country_pop_with_water<br>region=%{x}<br>value=%{y}<br>Entity=%{customdata[0]}<extra></extra>",
         "legendgroup": "country_pop_with_water",
         "marker": {
          "color": "#636efa",
          "pattern": {
           "shape": ""
          }
         },
         "name": "country_pop_with_water",
         "offsetgroup": "country_pop_with_water",
         "orientation": "v",
         "showlegend": true,
         "textposition": "auto",
         "type": "bar",
         "x": [
          "Africa",
          "Africa",
          "Americas",
          "Americas",
          "Asia",
          "Africa",
          "Europe",
          "Americas",
          "Europe",
          "Africa",
          "Europe",
          "Asia",
          "Oceania",
          "Asia",
          "Europe",
          "Asia",
          "Asia",
          "Europe",
          "Americas",
          "Europe",
          "Asia",
          "Europe",
          "Europe",
          "Asia",
          "Europe",
          "Oceania",
          "Asia",
          "Europe",
          "Asia",
          "Oceania",
          "Europe",
          "Europe",
          "Africa",
          "Asia",
          "Asia",
          "Asia",
          "Europe",
          "Americas",
          "Americas",
          "Europe",
          "Europe",
          "Asia",
          "Americas",
          "Europe",
          "Africa",
          "Europe",
          "Europe",
          "Asia",
          "Europe",
          "Africa",
          "Americas",
          "Asia",
          "Africa",
          "Africa",
          "Africa",
          "Africa",
          "Europe",
          "Europe",
          "Africa",
          "Europe",
          "Europe",
          "Africa",
          "Europe",
          "Europe",
          "Africa",
          "Americas",
          "Europe",
          "Europe",
          "Asia",
          "Oceania",
          "Africa",
          "Africa",
          "Asia",
          "Americas",
          "Asia",
          "Europe",
          "Europe",
          "Europe",
          "Asia",
          "Europe",
          "Africa",
          "Asia",
          "Africa",
          "Europe",
          "Asia",
          "Africa",
          "Asia",
          "Asia",
          "Oceania",
          "Asia",
          "Africa",
          "Africa",
          "Americas",
          "Asia",
          "Africa",
          "Americas",
          "Asia",
          "Africa",
          "Europe",
          "Europe",
          "Americas",
          "Americas",
          "Europe",
          "Oceania",
          "Africa",
          "Americas",
          "Europe",
          "Asia",
          "Oceania",
          "Americas",
          "Africa",
          "Africa",
          "Asia",
          "Africa",
          "Asia",
          "Americas",
          "Americas",
          "Europe",
          "Americas",
          "Europe",
          "Africa",
          "Africa",
          "Africa",
          "Africa",
          "Americas",
          "Europe",
          "Europe",
          "Americas",
          "Americas",
          "Asia",
          "Africa",
          "Americas",
          "Africa",
          "Americas",
          "Europe",
          "Americas",
          "Africa",
          "Europe",
          "Europe",
          "Asia",
          "Americas",
          "Americas",
          "Americas",
          "Americas",
          "Asia",
          "Americas",
          "Oceania",
          "Asia",
          "Africa",
          "Africa",
          "Africa",
          "Americas",
          "Europe",
          "Americas",
          "Asia",
          "Africa",
          "Americas",
          "Asia",
          "Africa",
          "Africa",
          "Asia",
          "Americas",
          "Africa",
          "Americas",
          "Asia",
          "Africa",
          "Asia",
          "Americas",
          "Asia",
          "Africa",
          "Africa",
          "Asia",
          "Americas",
          "Asia",
          "Africa",
          "Africa",
          "Africa",
          "Africa",
          "Asia",
          "Africa",
          "Africa",
          "Asia",
          "Africa",
          "Asia",
          "Africa",
          "Asia",
          "Asia",
          "Asia",
          "Africa"
         ],
         "xaxis": "x",
         "y": [
          1050450.5426578547,
          2938296.401817093,
          3137254.71419053,
          2316570.4759961884,
          360072.2548820178,
          887510.2165234493,
          8904276.600853726,
          506406.476745815,
          4236764.410305704,
          1564618.8065020298,
          16039177.09721833,
          92001018.97267285,
          4320663.964384459,
          90512410.41095836,
          2411218.3970497833,
          103848422.20989162,
          8155351.238563095,
          56808962.99127437,
          5051479.286671633,
          4407202.721131543,
          3216162.7266990324,
          1588260.4141425833,
          1024308.7758391177,
          26540567.61481573,
          7123410.944683637,
          3608748.890263973,
          5056164.625313027,
          3204897.9796087523,
          2247520.704457505,
          20436837.306900296,
          7481895.853871778,
          2214951.871497674,
          17215871.01561758,
          158744469.6018905,
          59575757.63425432,
          41641720.025876105,
          7539117.7350659855,
          671639.9740183905,
          348033.5451206379,
          57586171.458511464,
          1564129.8943122397,
          203019886.10136497,
          248844.5164704919,
          47098797.11236646,
          11207270.607372427,
          1626940.2471501965,
          27447885.202393916,
          5988407.381584226,
          17651124.00885165,
          2425180.168311973,
          32060481.951474957,
          19268708.10631422,
          31432730.716645792,
          37046447.2004242,
          37755027.41178153,
          4590825.070355873,
          7827345.3936363375,
          3951555.210255742,
          18085188.35019923,
          4837335.445586726,
          10185384.633630445,
          8459499.187300017,
          2229510.2447319943,
          39899697.21620487,
          42898581.6527582,
          6482149.732111571,
          103541865.18908122,
          6438828.422872489,
          14051563.408318292,
          179145.3042643274,
          871868.0548286514,
          9881820.306650741,
          1147406854.9398255,
          3615841.2995957322,
          23106256.540960144,
          8217880.871875023,
          69872990.45153524,
          4665574.662521849,
          25516357.263433307,
          22952.4,
          8815128.072870914,
          15578848.132962443,
          5269812.089524145,
          423930.645262217,
          2312797.0450207577,
          152103181.249481,
          55063385.8817887,
          18219246.11368757,
          365232.86671118316,
          5829858.5853223335,
          9908583.940283777,
          1083091.6577649987,
          12443263.914285345,
          1187445034.3321464,
          16917671.380190946,
          33214295.66914482,
          29672453.130723134,
          60578771.64553377,
          4634700.302362435,
          2787934.4096182296,
          7306587.281665364,
          4059610.2121764887,
          31290208.92937597,
          231156.74500781437,
          9827983.639896475,
          12805464.440055382,
          6170677.011878622,
          438466.47857994825,
          566058.7681080352,
          10468237.417249858,
          16155739.252095908,
          32693305.041056246,
          12434689.880539304,
          536705.648939619,
          234344381.14701116,
          6638071.38636258,
          1834834.1385111897,
          48749.494743369694,
          230486211.10496375,
          241967.90127580508,
          12936558.96647914,
          3885138.024117701,
          22367642.814982712,
          1739522.048047522,
          4515710.151233215,
          45396.81310831812,
          417212.47916206345,
          8121633.974292041,
          16101888.16644945,
          34842757.64874053,
          1222566.1643657624,
          2164.8542419191235,
          7407712.888196339,
          118750891.59758708,
          705991.7865943462,
          241603.82911146045,
          90989.70715874422,
          23623.216138153395,
          194611.20987424813,
          39921547.79077535,
          15531296.76028897,
          8280403.02816063,
          833543.1257603635,
          63077779.4300405,
          27625700.182767794,
          28870177.47421385,
          87512.28202456514,
          2719241.8826385112,
          14652980.574706638,
          60542390.491602264,
          27455541.321823053,
          144467.1789459782,
          3806082.8598439964,
          1967583.6959143532,
          9825188.311067326,
          12631615.670051415,
          52693.701752142406,
          3965910.737275403,
          8421443.473237108,
          14265106.149363808,
          3084008.0766491033,
          47920.110718046555,
          4579524.710692909,
          950.6781533328335,
          1939072.51398444,
          5061008.346757373,
          5159192.4887272585,
          19863.364222153672,
          2177322.292798298,
          8713165.939969487,
          1582671.5380556772,
          13388701.174991934,
          204454.17058106192,
          1413387.3912146452,
          558153.3485895857,
          1477646.5624217368,
          8714134.301423056,
          572508.5031392383,
          264092.6825996618,
          315931.44883745874,
          22901866.89867185,
          844248.2582289239,
          8941062.963969471,
          345010.94957578817,
          174297.23180228722,
          4508.728826945104,
          430782.4625934444,
          5773634.056730193,
          2022360.5947876316
         ],
         "yaxis": "y"
        },
        {
         "alignmentgroup": "True",
         "customdata": [
          [
           "Mauritius"
          ],
          [
           "Congo"
          ],
          [
           "Panama"
          ],
          [
           "Puerto Rico"
          ],
          [
           "Brunei"
          ],
          [
           "Eswatini"
          ],
          [
           "Sweden"
          ],
          [
           "Suriname"
          ],
          [
           "Norway"
          ],
          [
           "Lesotho"
          ],
          [
           "Netherlands"
          ],
          [
           "Philippines"
          ],
          [
           "Papua New Guinea"
          ],
          [
           "Vietnam"
          ],
          [
           "Albania"
          ],
          [
           "Japan"
          ],
          [
           "Azerbaijan"
          ],
          [
           "France"
          ],
          [
           "El Salvador"
          ],
          [
           "Slovakia"
          ],
          [
           "Georgia"
          ],
          [
           "Slovenia"
          ],
          [
           "Estonia"
          ],
          [
           "Nepal"
          ],
          [
           "Switzerland"
          ],
          [
           "New Zealand"
          ],
          [
           "Kyrgyzstan"
          ],
          [
           "Moldova"
          ],
          [
           "Armenia"
          ],
          [
           "Australia"
          ],
          [
           "Austria"
          ],
          [
           "Lithuania"
          ],
          [
           "Malawi"
          ],
          [
           "Bangladesh"
          ],
          [
           "Thailand"
          ],
          [
           "Myanmar"
          ],
          [
           "Hungary"
          ],
          [
           "Guyana"
          ],
          [
           "Belize"
          ],
          [
           "United Kingdom"
          ],
          [
           "Latvia"
          ],
          [
           "Pakistan"
          ],
          [
           "French Guiana"
          ],
          [
           "Italy"
          ],
          [
           "Zambia"
          ],
          [
           "North Macedonia"
          ],
          [
           "Poland"
          ],
          [
           "Laos"
          ],
          [
           "Romania"
          ],
          [
           "Central African Republic"
          ],
          [
           "Canada"
          ],
          [
           "Taiwan"
          ],
          [
           "Democratic Republic of Congo"
          ],
          [
           "Uganda"
          ],
          [
           "Tanzania"
          ],
          [
           "Sierra Leone"
          ],
          [
           "Belarus"
          ],
          [
           "Ireland"
          ],
          [
           "Mozambique"
          ],
          [
           "Bulgaria"
          ],
          [
           "Belgium"
          ],
          [
           "Burundi"
          ],
          [
           "Bosnia and Herzegovina"
          ],
          [
           "Ukraine"
          ],
          [
           "South Africa"
          ],
          [
           "Honduras"
          ],
          [
           "Russia"
          ],
          [
           "Serbia"
          ],
          [
           "Cambodia"
          ],
          [
           "New Caledonia"
          ],
          [
           "Equatorial Guinea"
          ],
          [
           "Guinea"
          ],
          [
           "China"
          ],
          [
           "Costa Rica"
          ],
          [
           "Malaysia"
          ],
          [
           "Czechia"
          ],
          [
           "Germany"
          ],
          [
           "Finland"
          ],
          [
           "Uzbekistan"
          ],
          [
           "Liechtenstein"
          ],
          [
           "Rwanda"
          ],
          [
           "Sri Lanka"
          ],
          [
           "Togo"
          ],
          [
           "Montenegro"
          ],
          [
           "Mongolia"
          ],
          [
           "Nigeria"
          ],
          [
           "Turkey"
          ],
          [
           "North Korea"
          ],
          [
           "Solomon Islands"
          ],
          [
           "Tajikistan"
          ],
          [
           "Zimbabwe"
          ],
          [
           "Guinea-Bissau"
          ],
          [
           "Guatemala"
          ],
          [
           "India"
          ],
          [
           "Cameroon"
          ],
          [
           "Colombia"
          ],
          [
           "Iraq"
          ],
          [
           "Egypt"
          ],
          [
           "Denmark"
          ],
          [
           "Croatia"
          ],
          [
           "Dominican Republic"
          ],
          [
           "Nicaragua"
          ],
          [
           "Spain"
          ],
          [
           "Vanuatu"
          ],
          [
           "Madagascar"
          ],
          [
           "Chile"
          ],
          [
           "Portugal"
          ],
          [
           "Bhutan"
          ],
          [
           "Fiji"
          ],
          [
           "Ecuador"
          ],
          [
           "Cote d'Ivoire"
          ],
          [
           "Kenya"
          ],
          [
           "Kazakhstan"
          ],
          [
           "Reunion"
          ],
          [
           "Indonesia"
          ],
          [
           "Haiti"
          ],
          [
           "Jamaica"
          ],
          [
           "Andorra"
          ],
          [
           "United States"
          ],
          [
           "Malta"
          ],
          [
           "Angola"
          ],
          [
           "Liberia"
          ],
          [
           "Ghana"
          ],
          [
           "Gambia"
          ],
          [
           "Paraguay"
          ],
          [
           "Isle of Man"
          ],
          [
           "Luxembourg"
          ],
          [
           "Cuba"
          ],
          [
           "Peru"
          ],
          [
           "South Korea"
          ],
          [
           "Gabon"
          ],
          [
           "Montserrat"
          ],
          [
           "Benin"
          ],
          [
           "Brazil"
          ],
          [
           "Cyprus"
          ],
          [
           "Bahamas"
          ],
          [
           "Sao Tome and Principe"
          ],
          [
           "Faeroe Islands"
          ],
          [
           "Iceland"
          ],
          [
           "Iran"
          ],
          [
           "Venezuela"
          ],
          [
           "Bolivia"
          ],
          [
           "Trinidad and Tobago"
          ],
          [
           "Mexico"
          ],
          [
           "Afghanistan"
          ],
          [
           "Argentina"
          ],
          [
           "Samoa"
          ],
          [
           "Lebanon"
          ],
          [
           "Morocco"
          ],
          [
           "Ethiopia"
          ],
          [
           "Algeria"
          ],
          [
           "Martinique"
          ],
          [
           "Greece"
          ],
          [
           "Uruguay"
          ],
          [
           "Syria"
          ],
          [
           "Mali"
          ],
          [
           "Grenada"
          ],
          [
           "Jordan"
          ],
          [
           "South Sudan"
          ],
          [
           "Burkina Faso"
          ],
          [
           "Singapore"
          ],
          [
           "Saint Lucia"
          ],
          [
           "Tunisia"
          ],
          [
           "Falkland Islands"
          ],
          [
           "Israel"
          ],
          [
           "Senegal"
          ],
          [
           "Turkmenistan"
          ],
          [
           "Greenland"
          ],
          [
           "Palestine"
          ],
          [
           "Chad"
          ],
          [
           "Eritrea"
          ],
          [
           "Yemen"
          ],
          [
           "Guadeloupe"
          ],
          [
           "Hong Kong"
          ],
          [
           "Namibia"
          ],
          [
           "Mauritania"
          ],
          [
           "Niger"
          ],
          [
           "Botswana"
          ],
          [
           "Timor"
          ],
          [
           "Djibouti"
          ],
          [
           "Sudan"
          ],
          [
           "Oman"
          ],
          [
           "Somalia"
          ],
          [
           "Kuwait"
          ],
          [
           "Western Sahara"
          ],
          [
           "United Arab Emirates"
          ],
          [
           "Qatar"
          ],
          [
           "Saudi Arabia"
          ],
          [
           "Libya"
          ]
         ],
         "hovertemplate": "variable=country_pop_without_water<br>region=%{x}<br>value=%{y}<br>Entity=%{customdata[0]}<extra></extra>",
         "legendgroup": "country_pop_without_water",
         "marker": {
          "color": "#EF553B",
          "pattern": {
           "shape": ""
          }
         },
         "name": "country_pop_without_water",
         "offsetgroup": "country_pop_without_water",
         "orientation": "v",
         "showlegend": true,
         "textposition": "auto",
         "type": "bar",
         "x": [
          "Africa",
          "Africa",
          "Americas",
          "Americas",
          "Asia",
          "Africa",
          "Europe",
          "Americas",
          "Europe",
          "Africa",
          "Europe",
          "Asia",
          "Oceania",
          "Asia",
          "Europe",
          "Asia",
          "Asia",
          "Europe",
          "Americas",
          "Europe",
          "Asia",
          "Europe",
          "Europe",
          "Asia",
          "Europe",
          "Oceania",
          "Asia",
          "Europe",
          "Asia",
          "Oceania",
          "Europe",
          "Europe",
          "Africa",
          "Asia",
          "Asia",
          "Asia",
          "Europe",
          "Americas",
          "Americas",
          "Europe",
          "Europe",
          "Asia",
          "Americas",
          "Europe",
          "Africa",
          "Europe",
          "Europe",
          "Asia",
          "Europe",
          "Africa",
          "Americas",
          "Asia",
          "Africa",
          "Africa",
          "Africa",
          "Africa",
          "Europe",
          "Europe",
          "Africa",
          "Europe",
          "Europe",
          "Africa",
          "Europe",
          "Europe",
          "Africa",
          "Americas",
          "Europe",
          "Europe",
          "Asia",
          "Oceania",
          "Africa",
          "Africa",
          "Asia",
          "Americas",
          "Asia",
          "Europe",
          "Europe",
          "Europe",
          "Asia",
          "Europe",
          "Africa",
          "Asia",
          "Africa",
          "Europe",
          "Asia",
          "Africa",
          "Asia",
          "Asia",
          "Oceania",
          "Asia",
          "Africa",
          "Africa",
          "Americas",
          "Asia",
          "Africa",
          "Americas",
          "Asia",
          "Africa",
          "Europe",
          "Europe",
          "Americas",
          "Americas",
          "Europe",
          "Oceania",
          "Africa",
          "Americas",
          "Europe",
          "Asia",
          "Oceania",
          "Americas",
          "Africa",
          "Africa",
          "Asia",
          "Africa",
          "Asia",
          "Americas",
          "Americas",
          "Europe",
          "Americas",
          "Europe",
          "Africa",
          "Africa",
          "Africa",
          "Africa",
          "Americas",
          "Europe",
          "Europe",
          "Americas",
          "Americas",
          "Asia",
          "Africa",
          "Americas",
          "Africa",
          "Americas",
          "Europe",
          "Americas",
          "Africa",
          "Europe",
          "Europe",
          "Asia",
          "Americas",
          "Americas",
          "Americas",
          "Americas",
          "Asia",
          "Americas",
          "Oceania",
          "Asia",
          "Africa",
          "Africa",
          "Africa",
          "Americas",
          "Europe",
          "Americas",
          "Asia",
          "Africa",
          "Americas",
          "Asia",
          "Africa",
          "Africa",
          "Asia",
          "Americas",
          "Africa",
          "Americas",
          "Asia",
          "Africa",
          "Asia",
          "Americas",
          "Asia",
          "Africa",
          "Africa",
          "Asia",
          "Americas",
          "Asia",
          "Africa",
          "Africa",
          "Africa",
          "Africa",
          "Asia",
          "Africa",
          "Africa",
          "Asia",
          "Africa",
          "Asia",
          "Africa",
          "Asia",
          "Asia",
          "Asia",
          "Africa"
         ],
         "xaxis": "x",
         "y": [
          222977.4573421452,
          2718720.5981829073,
          1244240.2489425947,
          511675.0970899955,
          81459.7451179823,
          284858.78347655095,
          1245486.5974828205,
          81457.38920165985,
          1225141.2910756767,
          594448.1934979704,
          1133916.9027816684,
          19045840.69955423,
          4798037.112956087,
          7656407.025741094,
          461715.6029502169,
          22202271.72965677,
          2067982.09418402,
          8617207.366536785,
          1467020.7133283664,
          1053523.2788684575,
          763610.2733009676,
          490462.58585741685,
          300787.56906139595,
          3134334.6743537495,
          1592083.0553163642,
          1248116.0971511547,
          1572163.7876697273,
          819127.0203912483,
          720607.2955424949,
          5250194.865017134,
          1561176.1461282214,
          474910.12850232626,
          2431732.8097610655,
          7559024.398109483,
          10375084.408436218,
          13164268.036418432,
          2095044.2649340148,
          115074.9936430514,
          56824.04459602287,
          10620729.880032236,
          302804.10568776017,
          22180038.689549,
          56731.285997771745,
          13268619.731984181,
          7713386.3926275745,
          455720.75284980354,
          10349114.797606084,
          1390950.618415774,
          1476647.991148353,
          2493011.1326595163,
          5958309.164924044,
          4586299.893685779,
          60944924.52659727,
          10077058.951764679,
          23743178.681283236,
          3550517.929644127,
          1615521.606363662,
          1031311.8028225095,
          14077846.49932349,
          2059311.2040585303,
          1446949.3663695536,
          3795929.8126999857,
          1033948.7552680057,
          3567076.592478757,
          17128311.973297194,
          3580843.6369441464,
          41899496.933828376,
          2258718.577127511,
          2894878.2121791863,
          108965.53202427868,
          578022.9451713486,
          3615416.6933492594,
          296784397.6016314,
          1523209.8942118355,
          9669917.603576189,
          2506672.128124978,
          14027480.548464768,
          878323.205173586,
          8419397.10081278,
          15301.6,
          4461388.927129087,
          5918451.212160423,
          3208429.910475855,
          204120.3547377831,
          995740.2385882491,
          59297522.75051901,
          29979323.241701946,
          7667787.741756958,
          338473.8289121972,
          3919766.4146776646,
          5183587.059716224,
          932398.3422350012,
          5806604.085714656,
          205963966.03854427,
          10306590.619809056,
          18051524.57045036,
          11506897.869276864,
          43678432.78421672,
          1178601.6976375661,
          1293704.568475944,
          3647124.9335463587,
          2642758.365868474,
          15454992.257319342,
          83305.91372928424,
          18599337.437420238,
          6396528.475145644,
          3997245.988121377,
          341433.5214200518,
          336744.6974602798,
          7420043.748228444,
          10897889.747904088,
          22292045.607364,
          6559234.048458673,
          364990.35106038087,
          42017023.76800307,
          4903611.590785505,
          1138623.5260892878,
          28604.505256630313,
          102349721.8086368,
          200822.09872419492,
          20997052.03352086,
          1295062.9420046643,
          9364485.185017293,
          747414.9519524776,
          2701851.0814536484,
          40013.18689168187,
          217601.52083793646,
          3195819.0395366023,
          17257301.43192154,
          16462408.940695312,
          1056249.7290308946,
          2816.1457580808756,
          5043318.111803661,
          95178296.26834656,
          509596.2134056538,
          154640.11334083678,
          132355.8536175879,
          25421.428039382667,
          141966.87010636114,
          45107185.52617285,
          13171203.304282952,
          3552333.839244896,
          569827.5668497165,
          67174486.51395404,
          12209727.817232205,
          16722709.056274146,
          112631.71797543486,
          4049909.1173614883,
          22690814.458563853,
          57333835.50839773,
          17113220.47270684,
          230275.82105402183,
          6564589.48089621,
          1516228.9643476491,
          8450186.444249945,
          8216283.996629629,
          60321.29824785757,
          6303111.262724598,
          2959933.5267628916,
          7231990.850636193,
          2812675.9233508976,
          136480.88928195345,
          7356234.373513127,
          2146.583176395958,
          6850703.48601556,
          12135299.653242627,
          958620.8526740493,
          35037.627926075795,
          3045433.707201702,
          8201801.660467596,
          2018756.8693905838,
          17097635.856276654,
          195558.82941893805,
          6139412.608785355,
          2016029.3384269383,
          3271917.1499515744,
          16398082.843863126,
          1824192.943203431,
          1079782.3174003381,
          686265.5511625413,
          22007440.898605496,
          4379097.412824732,
          7418392.116894301,
          3983542.050424212,
          432161.46999131585,
          9986561.837657709,
          2499741.537406556,
          29566985.033000834,
          4936074.670488791
         ],
         "yaxis": "y"
        }
       ],
       "layout": {
        "barmode": "group",
        "legend": {
         "title": {
          "text": "variable"
         },
         "tracegroupgap": 0
        },
        "template": {
         "data": {
          "bar": [
           {
            "error_x": {
             "color": "#2a3f5f"
            },
            "error_y": {
             "color": "#2a3f5f"
            },
            "marker": {
             "line": {
              "color": "#E5ECF6",
              "width": 0.5
             },
             "pattern": {
              "fillmode": "overlay",
              "size": 10,
              "solidity": 0.2
             }
            },
            "type": "bar"
           }
          ],
          "barpolar": [
           {
            "marker": {
             "line": {
              "color": "#E5ECF6",
              "width": 0.5
             },
             "pattern": {
              "fillmode": "overlay",
              "size": 10,
              "solidity": 0.2
             }
            },
            "type": "barpolar"
           }
          ],
          "carpet": [
           {
            "aaxis": {
             "endlinecolor": "#2a3f5f",
             "gridcolor": "white",
             "linecolor": "white",
             "minorgridcolor": "white",
             "startlinecolor": "#2a3f5f"
            },
            "baxis": {
             "endlinecolor": "#2a3f5f",
             "gridcolor": "white",
             "linecolor": "white",
             "minorgridcolor": "white",
             "startlinecolor": "#2a3f5f"
            },
            "type": "carpet"
           }
          ],
          "choropleth": [
           {
            "colorbar": {
             "outlinewidth": 0,
             "ticks": ""
            },
            "type": "choropleth"
           }
          ],
          "contour": [
           {
            "colorbar": {
             "outlinewidth": 0,
             "ticks": ""
            },
            "colorscale": [
             [
              0,
              "#0d0887"
             ],
             [
              0.1111111111111111,
              "#46039f"
             ],
             [
              0.2222222222222222,
              "#7201a8"
             ],
             [
              0.3333333333333333,
              "#9c179e"
             ],
             [
              0.4444444444444444,
              "#bd3786"
             ],
             [
              0.5555555555555556,
              "#d8576b"
             ],
             [
              0.6666666666666666,
              "#ed7953"
             ],
             [
              0.7777777777777778,
              "#fb9f3a"
             ],
             [
              0.8888888888888888,
              "#fdca26"
             ],
             [
              1,
              "#f0f921"
             ]
            ],
            "type": "contour"
           }
          ],
          "contourcarpet": [
           {
            "colorbar": {
             "outlinewidth": 0,
             "ticks": ""
            },
            "type": "contourcarpet"
           }
          ],
          "heatmap": [
           {
            "colorbar": {
             "outlinewidth": 0,
             "ticks": ""
            },
            "colorscale": [
             [
              0,
              "#0d0887"
             ],
             [
              0.1111111111111111,
              "#46039f"
             ],
             [
              0.2222222222222222,
              "#7201a8"
             ],
             [
              0.3333333333333333,
              "#9c179e"
             ],
             [
              0.4444444444444444,
              "#bd3786"
             ],
             [
              0.5555555555555556,
              "#d8576b"
             ],
             [
              0.6666666666666666,
              "#ed7953"
             ],
             [
              0.7777777777777778,
              "#fb9f3a"
             ],
             [
              0.8888888888888888,
              "#fdca26"
             ],
             [
              1,
              "#f0f921"
             ]
            ],
            "type": "heatmap"
           }
          ],
          "heatmapgl": [
           {
            "colorbar": {
             "outlinewidth": 0,
             "ticks": ""
            },
            "colorscale": [
             [
              0,
              "#0d0887"
             ],
             [
              0.1111111111111111,
              "#46039f"
             ],
             [
              0.2222222222222222,
              "#7201a8"
             ],
             [
              0.3333333333333333,
              "#9c179e"
             ],
             [
              0.4444444444444444,
              "#bd3786"
             ],
             [
              0.5555555555555556,
              "#d8576b"
             ],
             [
              0.6666666666666666,
              "#ed7953"
             ],
             [
              0.7777777777777778,
              "#fb9f3a"
             ],
             [
              0.8888888888888888,
              "#fdca26"
             ],
             [
              1,
              "#f0f921"
             ]
            ],
            "type": "heatmapgl"
           }
          ],
          "histogram": [
           {
            "marker": {
             "pattern": {
              "fillmode": "overlay",
              "size": 10,
              "solidity": 0.2
             }
            },
            "type": "histogram"
           }
          ],
          "histogram2d": [
           {
            "colorbar": {
             "outlinewidth": 0,
             "ticks": ""
            },
            "colorscale": [
             [
              0,
              "#0d0887"
             ],
             [
              0.1111111111111111,
              "#46039f"
             ],
             [
              0.2222222222222222,
              "#7201a8"
             ],
             [
              0.3333333333333333,
              "#9c179e"
             ],
             [
              0.4444444444444444,
              "#bd3786"
             ],
             [
              0.5555555555555556,
              "#d8576b"
             ],
             [
              0.6666666666666666,
              "#ed7953"
             ],
             [
              0.7777777777777778,
              "#fb9f3a"
             ],
             [
              0.8888888888888888,
              "#fdca26"
             ],
             [
              1,
              "#f0f921"
             ]
            ],
            "type": "histogram2d"
           }
          ],
          "histogram2dcontour": [
           {
            "colorbar": {
             "outlinewidth": 0,
             "ticks": ""
            },
            "colorscale": [
             [
              0,
              "#0d0887"
             ],
             [
              0.1111111111111111,
              "#46039f"
             ],
             [
              0.2222222222222222,
              "#7201a8"
             ],
             [
              0.3333333333333333,
              "#9c179e"
             ],
             [
              0.4444444444444444,
              "#bd3786"
             ],
             [
              0.5555555555555556,
              "#d8576b"
             ],
             [
              0.6666666666666666,
              "#ed7953"
             ],
             [
              0.7777777777777778,
              "#fb9f3a"
             ],
             [
              0.8888888888888888,
              "#fdca26"
             ],
             [
              1,
              "#f0f921"
             ]
            ],
            "type": "histogram2dcontour"
           }
          ],
          "mesh3d": [
           {
            "colorbar": {
             "outlinewidth": 0,
             "ticks": ""
            },
            "type": "mesh3d"
           }
          ],
          "parcoords": [
           {
            "line": {
             "colorbar": {
              "outlinewidth": 0,
              "ticks": ""
             }
            },
            "type": "parcoords"
           }
          ],
          "pie": [
           {
            "automargin": true,
            "type": "pie"
           }
          ],
          "scatter": [
           {
            "fillpattern": {
             "fillmode": "overlay",
             "size": 10,
             "solidity": 0.2
            },
            "type": "scatter"
           }
          ],
          "scatter3d": [
           {
            "line": {
             "colorbar": {
              "outlinewidth": 0,
              "ticks": ""
             }
            },
            "marker": {
             "colorbar": {
              "outlinewidth": 0,
              "ticks": ""
             }
            },
            "type": "scatter3d"
           }
          ],
          "scattercarpet": [
           {
            "marker": {
             "colorbar": {
              "outlinewidth": 0,
              "ticks": ""
             }
            },
            "type": "scattercarpet"
           }
          ],
          "scattergeo": [
           {
            "marker": {
             "colorbar": {
              "outlinewidth": 0,
              "ticks": ""
             }
            },
            "type": "scattergeo"
           }
          ],
          "scattergl": [
           {
            "marker": {
             "colorbar": {
              "outlinewidth": 0,
              "ticks": ""
             }
            },
            "type": "scattergl"
           }
          ],
          "scattermapbox": [
           {
            "marker": {
             "colorbar": {
              "outlinewidth": 0,
              "ticks": ""
             }
            },
            "type": "scattermapbox"
           }
          ],
          "scatterpolar": [
           {
            "marker": {
             "colorbar": {
              "outlinewidth": 0,
              "ticks": ""
             }
            },
            "type": "scatterpolar"
           }
          ],
          "scatterpolargl": [
           {
            "marker": {
             "colorbar": {
              "outlinewidth": 0,
              "ticks": ""
             }
            },
            "type": "scatterpolargl"
           }
          ],
          "scatterternary": [
           {
            "marker": {
             "colorbar": {
              "outlinewidth": 0,
              "ticks": ""
             }
            },
            "type": "scatterternary"
           }
          ],
          "surface": [
           {
            "colorbar": {
             "outlinewidth": 0,
             "ticks": ""
            },
            "colorscale": [
             [
              0,
              "#0d0887"
             ],
             [
              0.1111111111111111,
              "#46039f"
             ],
             [
              0.2222222222222222,
              "#7201a8"
             ],
             [
              0.3333333333333333,
              "#9c179e"
             ],
             [
              0.4444444444444444,
              "#bd3786"
             ],
             [
              0.5555555555555556,
              "#d8576b"
             ],
             [
              0.6666666666666666,
              "#ed7953"
             ],
             [
              0.7777777777777778,
              "#fb9f3a"
             ],
             [
              0.8888888888888888,
              "#fdca26"
             ],
             [
              1,
              "#f0f921"
             ]
            ],
            "type": "surface"
           }
          ],
          "table": [
           {
            "cells": {
             "fill": {
              "color": "#EBF0F8"
             },
             "line": {
              "color": "white"
             }
            },
            "header": {
             "fill": {
              "color": "#C8D4E3"
             },
             "line": {
              "color": "white"
             }
            },
            "type": "table"
           }
          ]
         },
         "layout": {
          "annotationdefaults": {
           "arrowcolor": "#2a3f5f",
           "arrowhead": 0,
           "arrowwidth": 1
          },
          "autotypenumbers": "strict",
          "coloraxis": {
           "colorbar": {
            "outlinewidth": 0,
            "ticks": ""
           }
          },
          "colorscale": {
           "diverging": [
            [
             0,
             "#8e0152"
            ],
            [
             0.1,
             "#c51b7d"
            ],
            [
             0.2,
             "#de77ae"
            ],
            [
             0.3,
             "#f1b6da"
            ],
            [
             0.4,
             "#fde0ef"
            ],
            [
             0.5,
             "#f7f7f7"
            ],
            [
             0.6,
             "#e6f5d0"
            ],
            [
             0.7,
             "#b8e186"
            ],
            [
             0.8,
             "#7fbc41"
            ],
            [
             0.9,
             "#4d9221"
            ],
            [
             1,
             "#276419"
            ]
           ],
           "sequential": [
            [
             0,
             "#0d0887"
            ],
            [
             0.1111111111111111,
             "#46039f"
            ],
            [
             0.2222222222222222,
             "#7201a8"
            ],
            [
             0.3333333333333333,
             "#9c179e"
            ],
            [
             0.4444444444444444,
             "#bd3786"
            ],
            [
             0.5555555555555556,
             "#d8576b"
            ],
            [
             0.6666666666666666,
             "#ed7953"
            ],
            [
             0.7777777777777778,
             "#fb9f3a"
            ],
            [
             0.8888888888888888,
             "#fdca26"
            ],
            [
             1,
             "#f0f921"
            ]
           ],
           "sequentialminus": [
            [
             0,
             "#0d0887"
            ],
            [
             0.1111111111111111,
             "#46039f"
            ],
            [
             0.2222222222222222,
             "#7201a8"
            ],
            [
             0.3333333333333333,
             "#9c179e"
            ],
            [
             0.4444444444444444,
             "#bd3786"
            ],
            [
             0.5555555555555556,
             "#d8576b"
            ],
            [
             0.6666666666666666,
             "#ed7953"
            ],
            [
             0.7777777777777778,
             "#fb9f3a"
            ],
            [
             0.8888888888888888,
             "#fdca26"
            ],
            [
             1,
             "#f0f921"
            ]
           ]
          },
          "colorway": [
           "#636efa",
           "#EF553B",
           "#00cc96",
           "#ab63fa",
           "#FFA15A",
           "#19d3f3",
           "#FF6692",
           "#B6E880",
           "#FF97FF",
           "#FECB52"
          ],
          "font": {
           "color": "#2a3f5f"
          },
          "geo": {
           "bgcolor": "white",
           "lakecolor": "white",
           "landcolor": "#E5ECF6",
           "showlakes": true,
           "showland": true,
           "subunitcolor": "white"
          },
          "hoverlabel": {
           "align": "left"
          },
          "hovermode": "closest",
          "mapbox": {
           "style": "light"
          },
          "paper_bgcolor": "white",
          "plot_bgcolor": "#E5ECF6",
          "polar": {
           "angularaxis": {
            "gridcolor": "white",
            "linecolor": "white",
            "ticks": ""
           },
           "bgcolor": "#E5ECF6",
           "radialaxis": {
            "gridcolor": "white",
            "linecolor": "white",
            "ticks": ""
           }
          },
          "scene": {
           "xaxis": {
            "backgroundcolor": "#E5ECF6",
            "gridcolor": "white",
            "gridwidth": 2,
            "linecolor": "white",
            "showbackground": true,
            "ticks": "",
            "zerolinecolor": "white"
           },
           "yaxis": {
            "backgroundcolor": "#E5ECF6",
            "gridcolor": "white",
            "gridwidth": 2,
            "linecolor": "white",
            "showbackground": true,
            "ticks": "",
            "zerolinecolor": "white"
           },
           "zaxis": {
            "backgroundcolor": "#E5ECF6",
            "gridcolor": "white",
            "gridwidth": 2,
            "linecolor": "white",
            "showbackground": true,
            "ticks": "",
            "zerolinecolor": "white"
           }
          },
          "shapedefaults": {
           "line": {
            "color": "#2a3f5f"
           }
          },
          "ternary": {
           "aaxis": {
            "gridcolor": "white",
            "linecolor": "white",
            "ticks": ""
           },
           "baxis": {
            "gridcolor": "white",
            "linecolor": "white",
            "ticks": ""
           },
           "bgcolor": "#E5ECF6",
           "caxis": {
            "gridcolor": "white",
            "linecolor": "white",
            "ticks": ""
           }
          },
          "title": {
           "x": 0.05
          },
          "xaxis": {
           "automargin": true,
           "gridcolor": "white",
           "linecolor": "white",
           "ticks": "",
           "title": {
            "standoff": 15
           },
           "zerolinecolor": "white",
           "zerolinewidth": 2
          },
          "yaxis": {
           "automargin": true,
           "gridcolor": "white",
           "linecolor": "white",
           "ticks": "",
           "title": {
            "standoff": 15
           },
           "zerolinecolor": "white",
           "zerolinewidth": 2
          }
         }
        },
        "title": {
         "text": "Population with Water vs. Population without Water"
        },
        "xaxis": {
         "anchor": "y",
         "domain": [
          0,
          1
         ],
         "title": {
          "text": "region"
         }
        },
        "yaxis": {
         "anchor": "x",
         "domain": [
          0,
          1
         ],
         "title": {
          "text": "value"
         }
        }
       }
      },
      "text/html": [
       "<div>                            <div id=\"0b14835e-bdfe-4298-8e50-8155d4681600\" class=\"plotly-graph-div\" style=\"height:525px; width:100%;\"></div>            <script type=\"text/javascript\">                require([\"plotly\"], function(Plotly) {                    window.PLOTLYENV=window.PLOTLYENV || {};                                    if (document.getElementById(\"0b14835e-bdfe-4298-8e50-8155d4681600\")) {                    Plotly.newPlot(                        \"0b14835e-bdfe-4298-8e50-8155d4681600\",                        [{\"alignmentgroup\":\"True\",\"customdata\":[[\"Mauritius\"],[\"Congo\"],[\"Panama\"],[\"Puerto Rico\"],[\"Brunei\"],[\"Eswatini\"],[\"Sweden\"],[\"Suriname\"],[\"Norway\"],[\"Lesotho\"],[\"Netherlands\"],[\"Philippines\"],[\"Papua New Guinea\"],[\"Vietnam\"],[\"Albania\"],[\"Japan\"],[\"Azerbaijan\"],[\"France\"],[\"El Salvador\"],[\"Slovakia\"],[\"Georgia\"],[\"Slovenia\"],[\"Estonia\"],[\"Nepal\"],[\"Switzerland\"],[\"New Zealand\"],[\"Kyrgyzstan\"],[\"Moldova\"],[\"Armenia\"],[\"Australia\"],[\"Austria\"],[\"Lithuania\"],[\"Malawi\"],[\"Bangladesh\"],[\"Thailand\"],[\"Myanmar\"],[\"Hungary\"],[\"Guyana\"],[\"Belize\"],[\"United Kingdom\"],[\"Latvia\"],[\"Pakistan\"],[\"French Guiana\"],[\"Italy\"],[\"Zambia\"],[\"North Macedonia\"],[\"Poland\"],[\"Laos\"],[\"Romania\"],[\"Central African Republic\"],[\"Canada\"],[\"Taiwan\"],[\"Democratic Republic of Congo\"],[\"Uganda\"],[\"Tanzania\"],[\"Sierra Leone\"],[\"Belarus\"],[\"Ireland\"],[\"Mozambique\"],[\"Bulgaria\"],[\"Belgium\"],[\"Burundi\"],[\"Bosnia and Herzegovina\"],[\"Ukraine\"],[\"South Africa\"],[\"Honduras\"],[\"Russia\"],[\"Serbia\"],[\"Cambodia\"],[\"New Caledonia\"],[\"Equatorial Guinea\"],[\"Guinea\"],[\"China\"],[\"Costa Rica\"],[\"Malaysia\"],[\"Czechia\"],[\"Germany\"],[\"Finland\"],[\"Uzbekistan\"],[\"Liechtenstein\"],[\"Rwanda\"],[\"Sri Lanka\"],[\"Togo\"],[\"Montenegro\"],[\"Mongolia\"],[\"Nigeria\"],[\"Turkey\"],[\"North Korea\"],[\"Solomon Islands\"],[\"Tajikistan\"],[\"Zimbabwe\"],[\"Guinea-Bissau\"],[\"Guatemala\"],[\"India\"],[\"Cameroon\"],[\"Colombia\"],[\"Iraq\"],[\"Egypt\"],[\"Denmark\"],[\"Croatia\"],[\"Dominican Republic\"],[\"Nicaragua\"],[\"Spain\"],[\"Vanuatu\"],[\"Madagascar\"],[\"Chile\"],[\"Portugal\"],[\"Bhutan\"],[\"Fiji\"],[\"Ecuador\"],[\"Cote d'Ivoire\"],[\"Kenya\"],[\"Kazakhstan\"],[\"Reunion\"],[\"Indonesia\"],[\"Haiti\"],[\"Jamaica\"],[\"Andorra\"],[\"United States\"],[\"Malta\"],[\"Angola\"],[\"Liberia\"],[\"Ghana\"],[\"Gambia\"],[\"Paraguay\"],[\"Isle of Man\"],[\"Luxembourg\"],[\"Cuba\"],[\"Peru\"],[\"South Korea\"],[\"Gabon\"],[\"Montserrat\"],[\"Benin\"],[\"Brazil\"],[\"Cyprus\"],[\"Bahamas\"],[\"Sao Tome and Principe\"],[\"Faeroe Islands\"],[\"Iceland\"],[\"Iran\"],[\"Venezuela\"],[\"Bolivia\"],[\"Trinidad and Tobago\"],[\"Mexico\"],[\"Afghanistan\"],[\"Argentina\"],[\"Samoa\"],[\"Lebanon\"],[\"Morocco\"],[\"Ethiopia\"],[\"Algeria\"],[\"Martinique\"],[\"Greece\"],[\"Uruguay\"],[\"Syria\"],[\"Mali\"],[\"Grenada\"],[\"Jordan\"],[\"South Sudan\"],[\"Burkina Faso\"],[\"Singapore\"],[\"Saint Lucia\"],[\"Tunisia\"],[\"Falkland Islands\"],[\"Israel\"],[\"Senegal\"],[\"Turkmenistan\"],[\"Greenland\"],[\"Palestine\"],[\"Chad\"],[\"Eritrea\"],[\"Yemen\"],[\"Guadeloupe\"],[\"Hong Kong\"],[\"Namibia\"],[\"Mauritania\"],[\"Niger\"],[\"Botswana\"],[\"Timor\"],[\"Djibouti\"],[\"Sudan\"],[\"Oman\"],[\"Somalia\"],[\"Kuwait\"],[\"Western Sahara\"],[\"United Arab Emirates\"],[\"Qatar\"],[\"Saudi Arabia\"],[\"Libya\"]],\"hovertemplate\":\"variable=country_pop_with_water\\u003cbr\\u003eregion=%{x}\\u003cbr\\u003evalue=%{y}\\u003cbr\\u003eEntity=%{customdata[0]}\\u003cextra\\u003e\\u003c\\u002fextra\\u003e\",\"legendgroup\":\"country_pop_with_water\",\"marker\":{\"color\":\"#636efa\",\"pattern\":{\"shape\":\"\"}},\"name\":\"country_pop_with_water\",\"offsetgroup\":\"country_pop_with_water\",\"orientation\":\"v\",\"showlegend\":true,\"textposition\":\"auto\",\"x\":[\"Africa\",\"Africa\",\"Americas\",\"Americas\",\"Asia\",\"Africa\",\"Europe\",\"Americas\",\"Europe\",\"Africa\",\"Europe\",\"Asia\",\"Oceania\",\"Asia\",\"Europe\",\"Asia\",\"Asia\",\"Europe\",\"Americas\",\"Europe\",\"Asia\",\"Europe\",\"Europe\",\"Asia\",\"Europe\",\"Oceania\",\"Asia\",\"Europe\",\"Asia\",\"Oceania\",\"Europe\",\"Europe\",\"Africa\",\"Asia\",\"Asia\",\"Asia\",\"Europe\",\"Americas\",\"Americas\",\"Europe\",\"Europe\",\"Asia\",\"Americas\",\"Europe\",\"Africa\",\"Europe\",\"Europe\",\"Asia\",\"Europe\",\"Africa\",\"Americas\",\"Asia\",\"Africa\",\"Africa\",\"Africa\",\"Africa\",\"Europe\",\"Europe\",\"Africa\",\"Europe\",\"Europe\",\"Africa\",\"Europe\",\"Europe\",\"Africa\",\"Americas\",\"Europe\",\"Europe\",\"Asia\",\"Oceania\",\"Africa\",\"Africa\",\"Asia\",\"Americas\",\"Asia\",\"Europe\",\"Europe\",\"Europe\",\"Asia\",\"Europe\",\"Africa\",\"Asia\",\"Africa\",\"Europe\",\"Asia\",\"Africa\",\"Asia\",\"Asia\",\"Oceania\",\"Asia\",\"Africa\",\"Africa\",\"Americas\",\"Asia\",\"Africa\",\"Americas\",\"Asia\",\"Africa\",\"Europe\",\"Europe\",\"Americas\",\"Americas\",\"Europe\",\"Oceania\",\"Africa\",\"Americas\",\"Europe\",\"Asia\",\"Oceania\",\"Americas\",\"Africa\",\"Africa\",\"Asia\",\"Africa\",\"Asia\",\"Americas\",\"Americas\",\"Europe\",\"Americas\",\"Europe\",\"Africa\",\"Africa\",\"Africa\",\"Africa\",\"Americas\",\"Europe\",\"Europe\",\"Americas\",\"Americas\",\"Asia\",\"Africa\",\"Americas\",\"Africa\",\"Americas\",\"Europe\",\"Americas\",\"Africa\",\"Europe\",\"Europe\",\"Asia\",\"Americas\",\"Americas\",\"Americas\",\"Americas\",\"Asia\",\"Americas\",\"Oceania\",\"Asia\",\"Africa\",\"Africa\",\"Africa\",\"Americas\",\"Europe\",\"Americas\",\"Asia\",\"Africa\",\"Americas\",\"Asia\",\"Africa\",\"Africa\",\"Asia\",\"Americas\",\"Africa\",\"Americas\",\"Asia\",\"Africa\",\"Asia\",\"Americas\",\"Asia\",\"Africa\",\"Africa\",\"Asia\",\"Americas\",\"Asia\",\"Africa\",\"Africa\",\"Africa\",\"Africa\",\"Asia\",\"Africa\",\"Africa\",\"Asia\",\"Africa\",\"Asia\",\"Africa\",\"Asia\",\"Asia\",\"Asia\",\"Africa\"],\"xaxis\":\"x\",\"y\":[1050450.5426578547,2938296.401817093,3137254.71419053,2316570.4759961884,360072.2548820178,887510.2165234493,8904276.600853726,506406.476745815,4236764.410305704,1564618.8065020298,16039177.09721833,92001018.97267285,4320663.964384459,90512410.41095836,2411218.3970497833,103848422.20989162,8155351.238563095,56808962.99127437,5051479.286671633,4407202.721131543,3216162.7266990324,1588260.4141425833,1024308.7758391177,26540567.61481573,7123410.944683637,3608748.890263973,5056164.625313027,3204897.9796087523,2247520.704457505,20436837.306900296,7481895.853871778,2214951.871497674,17215871.01561758,158744469.6018905,59575757.63425432,41641720.025876105,7539117.7350659855,671639.9740183905,348033.5451206379,57586171.458511464,1564129.8943122397,203019886.10136497,248844.5164704919,47098797.11236646,11207270.607372427,1626940.2471501965,27447885.202393916,5988407.381584226,17651124.00885165,2425180.168311973,32060481.951474957,19268708.10631422,31432730.716645792,37046447.2004242,37755027.41178153,4590825.070355873,7827345.3936363375,3951555.210255742,18085188.35019923,4837335.445586726,10185384.633630445,8459499.187300017,2229510.2447319943,39899697.21620487,42898581.6527582,6482149.732111571,103541865.18908122,6438828.422872489,14051563.408318292,179145.3042643274,871868.0548286514,9881820.306650741,1147406854.9398255,3615841.2995957322,23106256.540960144,8217880.871875023,69872990.45153524,4665574.662521849,25516357.263433307,22952.4,8815128.072870914,15578848.132962443,5269812.089524145,423930.645262217,2312797.0450207577,152103181.249481,55063385.8817887,18219246.11368757,365232.86671118316,5829858.5853223335,9908583.940283777,1083091.6577649987,12443263.914285345,1187445034.3321464,16917671.380190946,33214295.66914482,29672453.130723134,60578771.64553377,4634700.302362435,2787934.4096182296,7306587.281665364,4059610.2121764887,31290208.92937597,231156.74500781437,9827983.639896475,12805464.440055382,6170677.011878622,438466.47857994825,566058.7681080352,10468237.417249858,16155739.252095908,32693305.041056246,12434689.880539304,536705.648939619,234344381.14701116,6638071.38636258,1834834.1385111897,48749.494743369694,230486211.10496375,241967.90127580508,12936558.96647914,3885138.024117701,22367642.814982712,1739522.048047522,4515710.151233215,45396.81310831812,417212.47916206345,8121633.974292041,16101888.16644945,34842757.64874053,1222566.1643657624,2164.8542419191235,7407712.888196339,118750891.59758708,705991.7865943462,241603.82911146045,90989.70715874422,23623.216138153395,194611.20987424813,39921547.79077535,15531296.76028897,8280403.02816063,833543.1257603635,63077779.4300405,27625700.182767794,28870177.47421385,87512.28202456514,2719241.8826385112,14652980.574706638,60542390.491602264,27455541.321823053,144467.1789459782,3806082.8598439964,1967583.6959143532,9825188.311067326,12631615.670051415,52693.701752142406,3965910.737275403,8421443.473237108,14265106.149363808,3084008.0766491033,47920.110718046555,4579524.710692909,950.6781533328335,1939072.51398444,5061008.346757373,5159192.4887272585,19863.364222153672,2177322.292798298,8713165.939969487,1582671.5380556772,13388701.174991934,204454.17058106192,1413387.3912146452,558153.3485895857,1477646.5624217368,8714134.301423056,572508.5031392383,264092.6825996618,315931.44883745874,22901866.89867185,844248.2582289239,8941062.963969471,345010.94957578817,174297.23180228722,4508.728826945104,430782.4625934444,5773634.056730193,2022360.5947876316],\"yaxis\":\"y\",\"type\":\"bar\"},{\"alignmentgroup\":\"True\",\"customdata\":[[\"Mauritius\"],[\"Congo\"],[\"Panama\"],[\"Puerto Rico\"],[\"Brunei\"],[\"Eswatini\"],[\"Sweden\"],[\"Suriname\"],[\"Norway\"],[\"Lesotho\"],[\"Netherlands\"],[\"Philippines\"],[\"Papua New Guinea\"],[\"Vietnam\"],[\"Albania\"],[\"Japan\"],[\"Azerbaijan\"],[\"France\"],[\"El Salvador\"],[\"Slovakia\"],[\"Georgia\"],[\"Slovenia\"],[\"Estonia\"],[\"Nepal\"],[\"Switzerland\"],[\"New Zealand\"],[\"Kyrgyzstan\"],[\"Moldova\"],[\"Armenia\"],[\"Australia\"],[\"Austria\"],[\"Lithuania\"],[\"Malawi\"],[\"Bangladesh\"],[\"Thailand\"],[\"Myanmar\"],[\"Hungary\"],[\"Guyana\"],[\"Belize\"],[\"United Kingdom\"],[\"Latvia\"],[\"Pakistan\"],[\"French Guiana\"],[\"Italy\"],[\"Zambia\"],[\"North Macedonia\"],[\"Poland\"],[\"Laos\"],[\"Romania\"],[\"Central African Republic\"],[\"Canada\"],[\"Taiwan\"],[\"Democratic Republic of Congo\"],[\"Uganda\"],[\"Tanzania\"],[\"Sierra Leone\"],[\"Belarus\"],[\"Ireland\"],[\"Mozambique\"],[\"Bulgaria\"],[\"Belgium\"],[\"Burundi\"],[\"Bosnia and Herzegovina\"],[\"Ukraine\"],[\"South Africa\"],[\"Honduras\"],[\"Russia\"],[\"Serbia\"],[\"Cambodia\"],[\"New Caledonia\"],[\"Equatorial Guinea\"],[\"Guinea\"],[\"China\"],[\"Costa Rica\"],[\"Malaysia\"],[\"Czechia\"],[\"Germany\"],[\"Finland\"],[\"Uzbekistan\"],[\"Liechtenstein\"],[\"Rwanda\"],[\"Sri Lanka\"],[\"Togo\"],[\"Montenegro\"],[\"Mongolia\"],[\"Nigeria\"],[\"Turkey\"],[\"North Korea\"],[\"Solomon Islands\"],[\"Tajikistan\"],[\"Zimbabwe\"],[\"Guinea-Bissau\"],[\"Guatemala\"],[\"India\"],[\"Cameroon\"],[\"Colombia\"],[\"Iraq\"],[\"Egypt\"],[\"Denmark\"],[\"Croatia\"],[\"Dominican Republic\"],[\"Nicaragua\"],[\"Spain\"],[\"Vanuatu\"],[\"Madagascar\"],[\"Chile\"],[\"Portugal\"],[\"Bhutan\"],[\"Fiji\"],[\"Ecuador\"],[\"Cote d'Ivoire\"],[\"Kenya\"],[\"Kazakhstan\"],[\"Reunion\"],[\"Indonesia\"],[\"Haiti\"],[\"Jamaica\"],[\"Andorra\"],[\"United States\"],[\"Malta\"],[\"Angola\"],[\"Liberia\"],[\"Ghana\"],[\"Gambia\"],[\"Paraguay\"],[\"Isle of Man\"],[\"Luxembourg\"],[\"Cuba\"],[\"Peru\"],[\"South Korea\"],[\"Gabon\"],[\"Montserrat\"],[\"Benin\"],[\"Brazil\"],[\"Cyprus\"],[\"Bahamas\"],[\"Sao Tome and Principe\"],[\"Faeroe Islands\"],[\"Iceland\"],[\"Iran\"],[\"Venezuela\"],[\"Bolivia\"],[\"Trinidad and Tobago\"],[\"Mexico\"],[\"Afghanistan\"],[\"Argentina\"],[\"Samoa\"],[\"Lebanon\"],[\"Morocco\"],[\"Ethiopia\"],[\"Algeria\"],[\"Martinique\"],[\"Greece\"],[\"Uruguay\"],[\"Syria\"],[\"Mali\"],[\"Grenada\"],[\"Jordan\"],[\"South Sudan\"],[\"Burkina Faso\"],[\"Singapore\"],[\"Saint Lucia\"],[\"Tunisia\"],[\"Falkland Islands\"],[\"Israel\"],[\"Senegal\"],[\"Turkmenistan\"],[\"Greenland\"],[\"Palestine\"],[\"Chad\"],[\"Eritrea\"],[\"Yemen\"],[\"Guadeloupe\"],[\"Hong Kong\"],[\"Namibia\"],[\"Mauritania\"],[\"Niger\"],[\"Botswana\"],[\"Timor\"],[\"Djibouti\"],[\"Sudan\"],[\"Oman\"],[\"Somalia\"],[\"Kuwait\"],[\"Western Sahara\"],[\"United Arab Emirates\"],[\"Qatar\"],[\"Saudi Arabia\"],[\"Libya\"]],\"hovertemplate\":\"variable=country_pop_without_water\\u003cbr\\u003eregion=%{x}\\u003cbr\\u003evalue=%{y}\\u003cbr\\u003eEntity=%{customdata[0]}\\u003cextra\\u003e\\u003c\\u002fextra\\u003e\",\"legendgroup\":\"country_pop_without_water\",\"marker\":{\"color\":\"#EF553B\",\"pattern\":{\"shape\":\"\"}},\"name\":\"country_pop_without_water\",\"offsetgroup\":\"country_pop_without_water\",\"orientation\":\"v\",\"showlegend\":true,\"textposition\":\"auto\",\"x\":[\"Africa\",\"Africa\",\"Americas\",\"Americas\",\"Asia\",\"Africa\",\"Europe\",\"Americas\",\"Europe\",\"Africa\",\"Europe\",\"Asia\",\"Oceania\",\"Asia\",\"Europe\",\"Asia\",\"Asia\",\"Europe\",\"Americas\",\"Europe\",\"Asia\",\"Europe\",\"Europe\",\"Asia\",\"Europe\",\"Oceania\",\"Asia\",\"Europe\",\"Asia\",\"Oceania\",\"Europe\",\"Europe\",\"Africa\",\"Asia\",\"Asia\",\"Asia\",\"Europe\",\"Americas\",\"Americas\",\"Europe\",\"Europe\",\"Asia\",\"Americas\",\"Europe\",\"Africa\",\"Europe\",\"Europe\",\"Asia\",\"Europe\",\"Africa\",\"Americas\",\"Asia\",\"Africa\",\"Africa\",\"Africa\",\"Africa\",\"Europe\",\"Europe\",\"Africa\",\"Europe\",\"Europe\",\"Africa\",\"Europe\",\"Europe\",\"Africa\",\"Americas\",\"Europe\",\"Europe\",\"Asia\",\"Oceania\",\"Africa\",\"Africa\",\"Asia\",\"Americas\",\"Asia\",\"Europe\",\"Europe\",\"Europe\",\"Asia\",\"Europe\",\"Africa\",\"Asia\",\"Africa\",\"Europe\",\"Asia\",\"Africa\",\"Asia\",\"Asia\",\"Oceania\",\"Asia\",\"Africa\",\"Africa\",\"Americas\",\"Asia\",\"Africa\",\"Americas\",\"Asia\",\"Africa\",\"Europe\",\"Europe\",\"Americas\",\"Americas\",\"Europe\",\"Oceania\",\"Africa\",\"Americas\",\"Europe\",\"Asia\",\"Oceania\",\"Americas\",\"Africa\",\"Africa\",\"Asia\",\"Africa\",\"Asia\",\"Americas\",\"Americas\",\"Europe\",\"Americas\",\"Europe\",\"Africa\",\"Africa\",\"Africa\",\"Africa\",\"Americas\",\"Europe\",\"Europe\",\"Americas\",\"Americas\",\"Asia\",\"Africa\",\"Americas\",\"Africa\",\"Americas\",\"Europe\",\"Americas\",\"Africa\",\"Europe\",\"Europe\",\"Asia\",\"Americas\",\"Americas\",\"Americas\",\"Americas\",\"Asia\",\"Americas\",\"Oceania\",\"Asia\",\"Africa\",\"Africa\",\"Africa\",\"Americas\",\"Europe\",\"Americas\",\"Asia\",\"Africa\",\"Americas\",\"Asia\",\"Africa\",\"Africa\",\"Asia\",\"Americas\",\"Africa\",\"Americas\",\"Asia\",\"Africa\",\"Asia\",\"Americas\",\"Asia\",\"Africa\",\"Africa\",\"Asia\",\"Americas\",\"Asia\",\"Africa\",\"Africa\",\"Africa\",\"Africa\",\"Asia\",\"Africa\",\"Africa\",\"Asia\",\"Africa\",\"Asia\",\"Africa\",\"Asia\",\"Asia\",\"Asia\",\"Africa\"],\"xaxis\":\"x\",\"y\":[222977.4573421452,2718720.5981829073,1244240.2489425947,511675.0970899955,81459.7451179823,284858.78347655095,1245486.5974828205,81457.38920165985,1225141.2910756767,594448.1934979704,1133916.9027816684,19045840.69955423,4798037.112956087,7656407.025741094,461715.6029502169,22202271.72965677,2067982.09418402,8617207.366536785,1467020.7133283664,1053523.2788684575,763610.2733009676,490462.58585741685,300787.56906139595,3134334.6743537495,1592083.0553163642,1248116.0971511547,1572163.7876697273,819127.0203912483,720607.2955424949,5250194.865017134,1561176.1461282214,474910.12850232626,2431732.8097610655,7559024.398109483,10375084.408436218,13164268.036418432,2095044.2649340148,115074.9936430514,56824.04459602287,10620729.880032236,302804.10568776017,22180038.689549,56731.285997771745,13268619.731984181,7713386.3926275745,455720.75284980354,10349114.797606084,1390950.618415774,1476647.991148353,2493011.1326595163,5958309.164924044,4586299.893685779,60944924.52659727,10077058.951764679,23743178.681283236,3550517.929644127,1615521.606363662,1031311.8028225095,14077846.49932349,2059311.2040585303,1446949.3663695536,3795929.8126999857,1033948.7552680057,3567076.592478757,17128311.973297194,3580843.6369441464,41899496.933828376,2258718.577127511,2894878.2121791863,108965.53202427868,578022.9451713486,3615416.6933492594,296784397.6016314,1523209.8942118355,9669917.603576189,2506672.128124978,14027480.548464768,878323.205173586,8419397.10081278,15301.6,4461388.927129087,5918451.212160423,3208429.910475855,204120.3547377831,995740.2385882491,59297522.75051901,29979323.241701946,7667787.741756958,338473.8289121972,3919766.4146776646,5183587.059716224,932398.3422350012,5806604.085714656,205963966.03854427,10306590.619809056,18051524.57045036,11506897.869276864,43678432.78421672,1178601.6976375661,1293704.568475944,3647124.9335463587,2642758.365868474,15454992.257319342,83305.91372928424,18599337.437420238,6396528.475145644,3997245.988121377,341433.5214200518,336744.6974602798,7420043.748228444,10897889.747904088,22292045.607364,6559234.048458673,364990.35106038087,42017023.76800307,4903611.590785505,1138623.5260892878,28604.505256630313,102349721.8086368,200822.09872419492,20997052.03352086,1295062.9420046643,9364485.185017293,747414.9519524776,2701851.0814536484,40013.18689168187,217601.52083793646,3195819.0395366023,17257301.43192154,16462408.940695312,1056249.7290308946,2816.1457580808756,5043318.111803661,95178296.26834656,509596.2134056538,154640.11334083678,132355.8536175879,25421.428039382667,141966.87010636114,45107185.52617285,13171203.304282952,3552333.839244896,569827.5668497165,67174486.51395404,12209727.817232205,16722709.056274146,112631.71797543486,4049909.1173614883,22690814.458563853,57333835.50839773,17113220.47270684,230275.82105402183,6564589.48089621,1516228.9643476491,8450186.444249945,8216283.996629629,60321.29824785757,6303111.262724598,2959933.5267628916,7231990.850636193,2812675.9233508976,136480.88928195345,7356234.373513127,2146.583176395958,6850703.48601556,12135299.653242627,958620.8526740493,35037.627926075795,3045433.707201702,8201801.660467596,2018756.8693905838,17097635.856276654,195558.82941893805,6139412.608785355,2016029.3384269383,3271917.1499515744,16398082.843863126,1824192.943203431,1079782.3174003381,686265.5511625413,22007440.898605496,4379097.412824732,7418392.116894301,3983542.050424212,432161.46999131585,9986561.837657709,2499741.537406556,29566985.033000834,4936074.670488791],\"yaxis\":\"y\",\"type\":\"bar\"}],                        {\"template\":{\"data\":{\"histogram2dcontour\":[{\"type\":\"histogram2dcontour\",\"colorbar\":{\"outlinewidth\":0,\"ticks\":\"\"},\"colorscale\":[[0.0,\"#0d0887\"],[0.1111111111111111,\"#46039f\"],[0.2222222222222222,\"#7201a8\"],[0.3333333333333333,\"#9c179e\"],[0.4444444444444444,\"#bd3786\"],[0.5555555555555556,\"#d8576b\"],[0.6666666666666666,\"#ed7953\"],[0.7777777777777778,\"#fb9f3a\"],[0.8888888888888888,\"#fdca26\"],[1.0,\"#f0f921\"]]}],\"choropleth\":[{\"type\":\"choropleth\",\"colorbar\":{\"outlinewidth\":0,\"ticks\":\"\"}}],\"histogram2d\":[{\"type\":\"histogram2d\",\"colorbar\":{\"outlinewidth\":0,\"ticks\":\"\"},\"colorscale\":[[0.0,\"#0d0887\"],[0.1111111111111111,\"#46039f\"],[0.2222222222222222,\"#7201a8\"],[0.3333333333333333,\"#9c179e\"],[0.4444444444444444,\"#bd3786\"],[0.5555555555555556,\"#d8576b\"],[0.6666666666666666,\"#ed7953\"],[0.7777777777777778,\"#fb9f3a\"],[0.8888888888888888,\"#fdca26\"],[1.0,\"#f0f921\"]]}],\"heatmap\":[{\"type\":\"heatmap\",\"colorbar\":{\"outlinewidth\":0,\"ticks\":\"\"},\"colorscale\":[[0.0,\"#0d0887\"],[0.1111111111111111,\"#46039f\"],[0.2222222222222222,\"#7201a8\"],[0.3333333333333333,\"#9c179e\"],[0.4444444444444444,\"#bd3786\"],[0.5555555555555556,\"#d8576b\"],[0.6666666666666666,\"#ed7953\"],[0.7777777777777778,\"#fb9f3a\"],[0.8888888888888888,\"#fdca26\"],[1.0,\"#f0f921\"]]}],\"heatmapgl\":[{\"type\":\"heatmapgl\",\"colorbar\":{\"outlinewidth\":0,\"ticks\":\"\"},\"colorscale\":[[0.0,\"#0d0887\"],[0.1111111111111111,\"#46039f\"],[0.2222222222222222,\"#7201a8\"],[0.3333333333333333,\"#9c179e\"],[0.4444444444444444,\"#bd3786\"],[0.5555555555555556,\"#d8576b\"],[0.6666666666666666,\"#ed7953\"],[0.7777777777777778,\"#fb9f3a\"],[0.8888888888888888,\"#fdca26\"],[1.0,\"#f0f921\"]]}],\"contourcarpet\":[{\"type\":\"contourcarpet\",\"colorbar\":{\"outlinewidth\":0,\"ticks\":\"\"}}],\"contour\":[{\"type\":\"contour\",\"colorbar\":{\"outlinewidth\":0,\"ticks\":\"\"},\"colorscale\":[[0.0,\"#0d0887\"],[0.1111111111111111,\"#46039f\"],[0.2222222222222222,\"#7201a8\"],[0.3333333333333333,\"#9c179e\"],[0.4444444444444444,\"#bd3786\"],[0.5555555555555556,\"#d8576b\"],[0.6666666666666666,\"#ed7953\"],[0.7777777777777778,\"#fb9f3a\"],[0.8888888888888888,\"#fdca26\"],[1.0,\"#f0f921\"]]}],\"surface\":[{\"type\":\"surface\",\"colorbar\":{\"outlinewidth\":0,\"ticks\":\"\"},\"colorscale\":[[0.0,\"#0d0887\"],[0.1111111111111111,\"#46039f\"],[0.2222222222222222,\"#7201a8\"],[0.3333333333333333,\"#9c179e\"],[0.4444444444444444,\"#bd3786\"],[0.5555555555555556,\"#d8576b\"],[0.6666666666666666,\"#ed7953\"],[0.7777777777777778,\"#fb9f3a\"],[0.8888888888888888,\"#fdca26\"],[1.0,\"#f0f921\"]]}],\"mesh3d\":[{\"type\":\"mesh3d\",\"colorbar\":{\"outlinewidth\":0,\"ticks\":\"\"}}],\"scatter\":[{\"fillpattern\":{\"fillmode\":\"overlay\",\"size\":10,\"solidity\":0.2},\"type\":\"scatter\"}],\"parcoords\":[{\"type\":\"parcoords\",\"line\":{\"colorbar\":{\"outlinewidth\":0,\"ticks\":\"\"}}}],\"scatterpolargl\":[{\"type\":\"scatterpolargl\",\"marker\":{\"colorbar\":{\"outlinewidth\":0,\"ticks\":\"\"}}}],\"bar\":[{\"error_x\":{\"color\":\"#2a3f5f\"},\"error_y\":{\"color\":\"#2a3f5f\"},\"marker\":{\"line\":{\"color\":\"#E5ECF6\",\"width\":0.5},\"pattern\":{\"fillmode\":\"overlay\",\"size\":10,\"solidity\":0.2}},\"type\":\"bar\"}],\"scattergeo\":[{\"type\":\"scattergeo\",\"marker\":{\"colorbar\":{\"outlinewidth\":0,\"ticks\":\"\"}}}],\"scatterpolar\":[{\"type\":\"scatterpolar\",\"marker\":{\"colorbar\":{\"outlinewidth\":0,\"ticks\":\"\"}}}],\"histogram\":[{\"marker\":{\"pattern\":{\"fillmode\":\"overlay\",\"size\":10,\"solidity\":0.2}},\"type\":\"histogram\"}],\"scattergl\":[{\"type\":\"scattergl\",\"marker\":{\"colorbar\":{\"outlinewidth\":0,\"ticks\":\"\"}}}],\"scatter3d\":[{\"type\":\"scatter3d\",\"line\":{\"colorbar\":{\"outlinewidth\":0,\"ticks\":\"\"}},\"marker\":{\"colorbar\":{\"outlinewidth\":0,\"ticks\":\"\"}}}],\"scattermapbox\":[{\"type\":\"scattermapbox\",\"marker\":{\"colorbar\":{\"outlinewidth\":0,\"ticks\":\"\"}}}],\"scatterternary\":[{\"type\":\"scatterternary\",\"marker\":{\"colorbar\":{\"outlinewidth\":0,\"ticks\":\"\"}}}],\"scattercarpet\":[{\"type\":\"scattercarpet\",\"marker\":{\"colorbar\":{\"outlinewidth\":0,\"ticks\":\"\"}}}],\"carpet\":[{\"aaxis\":{\"endlinecolor\":\"#2a3f5f\",\"gridcolor\":\"white\",\"linecolor\":\"white\",\"minorgridcolor\":\"white\",\"startlinecolor\":\"#2a3f5f\"},\"baxis\":{\"endlinecolor\":\"#2a3f5f\",\"gridcolor\":\"white\",\"linecolor\":\"white\",\"minorgridcolor\":\"white\",\"startlinecolor\":\"#2a3f5f\"},\"type\":\"carpet\"}],\"table\":[{\"cells\":{\"fill\":{\"color\":\"#EBF0F8\"},\"line\":{\"color\":\"white\"}},\"header\":{\"fill\":{\"color\":\"#C8D4E3\"},\"line\":{\"color\":\"white\"}},\"type\":\"table\"}],\"barpolar\":[{\"marker\":{\"line\":{\"color\":\"#E5ECF6\",\"width\":0.5},\"pattern\":{\"fillmode\":\"overlay\",\"size\":10,\"solidity\":0.2}},\"type\":\"barpolar\"}],\"pie\":[{\"automargin\":true,\"type\":\"pie\"}]},\"layout\":{\"autotypenumbers\":\"strict\",\"colorway\":[\"#636efa\",\"#EF553B\",\"#00cc96\",\"#ab63fa\",\"#FFA15A\",\"#19d3f3\",\"#FF6692\",\"#B6E880\",\"#FF97FF\",\"#FECB52\"],\"font\":{\"color\":\"#2a3f5f\"},\"hovermode\":\"closest\",\"hoverlabel\":{\"align\":\"left\"},\"paper_bgcolor\":\"white\",\"plot_bgcolor\":\"#E5ECF6\",\"polar\":{\"bgcolor\":\"#E5ECF6\",\"angularaxis\":{\"gridcolor\":\"white\",\"linecolor\":\"white\",\"ticks\":\"\"},\"radialaxis\":{\"gridcolor\":\"white\",\"linecolor\":\"white\",\"ticks\":\"\"}},\"ternary\":{\"bgcolor\":\"#E5ECF6\",\"aaxis\":{\"gridcolor\":\"white\",\"linecolor\":\"white\",\"ticks\":\"\"},\"baxis\":{\"gridcolor\":\"white\",\"linecolor\":\"white\",\"ticks\":\"\"},\"caxis\":{\"gridcolor\":\"white\",\"linecolor\":\"white\",\"ticks\":\"\"}},\"coloraxis\":{\"colorbar\":{\"outlinewidth\":0,\"ticks\":\"\"}},\"colorscale\":{\"sequential\":[[0.0,\"#0d0887\"],[0.1111111111111111,\"#46039f\"],[0.2222222222222222,\"#7201a8\"],[0.3333333333333333,\"#9c179e\"],[0.4444444444444444,\"#bd3786\"],[0.5555555555555556,\"#d8576b\"],[0.6666666666666666,\"#ed7953\"],[0.7777777777777778,\"#fb9f3a\"],[0.8888888888888888,\"#fdca26\"],[1.0,\"#f0f921\"]],\"sequentialminus\":[[0.0,\"#0d0887\"],[0.1111111111111111,\"#46039f\"],[0.2222222222222222,\"#7201a8\"],[0.3333333333333333,\"#9c179e\"],[0.4444444444444444,\"#bd3786\"],[0.5555555555555556,\"#d8576b\"],[0.6666666666666666,\"#ed7953\"],[0.7777777777777778,\"#fb9f3a\"],[0.8888888888888888,\"#fdca26\"],[1.0,\"#f0f921\"]],\"diverging\":[[0,\"#8e0152\"],[0.1,\"#c51b7d\"],[0.2,\"#de77ae\"],[0.3,\"#f1b6da\"],[0.4,\"#fde0ef\"],[0.5,\"#f7f7f7\"],[0.6,\"#e6f5d0\"],[0.7,\"#b8e186\"],[0.8,\"#7fbc41\"],[0.9,\"#4d9221\"],[1,\"#276419\"]]},\"xaxis\":{\"gridcolor\":\"white\",\"linecolor\":\"white\",\"ticks\":\"\",\"title\":{\"standoff\":15},\"zerolinecolor\":\"white\",\"automargin\":true,\"zerolinewidth\":2},\"yaxis\":{\"gridcolor\":\"white\",\"linecolor\":\"white\",\"ticks\":\"\",\"title\":{\"standoff\":15},\"zerolinecolor\":\"white\",\"automargin\":true,\"zerolinewidth\":2},\"scene\":{\"xaxis\":{\"backgroundcolor\":\"#E5ECF6\",\"gridcolor\":\"white\",\"linecolor\":\"white\",\"showbackground\":true,\"ticks\":\"\",\"zerolinecolor\":\"white\",\"gridwidth\":2},\"yaxis\":{\"backgroundcolor\":\"#E5ECF6\",\"gridcolor\":\"white\",\"linecolor\":\"white\",\"showbackground\":true,\"ticks\":\"\",\"zerolinecolor\":\"white\",\"gridwidth\":2},\"zaxis\":{\"backgroundcolor\":\"#E5ECF6\",\"gridcolor\":\"white\",\"linecolor\":\"white\",\"showbackground\":true,\"ticks\":\"\",\"zerolinecolor\":\"white\",\"gridwidth\":2}},\"shapedefaults\":{\"line\":{\"color\":\"#2a3f5f\"}},\"annotationdefaults\":{\"arrowcolor\":\"#2a3f5f\",\"arrowhead\":0,\"arrowwidth\":1},\"geo\":{\"bgcolor\":\"white\",\"landcolor\":\"#E5ECF6\",\"subunitcolor\":\"white\",\"showland\":true,\"showlakes\":true,\"lakecolor\":\"white\"},\"title\":{\"x\":0.05},\"mapbox\":{\"style\":\"light\"}}},\"xaxis\":{\"anchor\":\"y\",\"domain\":[0.0,1.0],\"title\":{\"text\":\"region\"}},\"yaxis\":{\"anchor\":\"x\",\"domain\":[0.0,1.0],\"title\":{\"text\":\"value\"}},\"legend\":{\"title\":{\"text\":\"variable\"},\"tracegroupgap\":0},\"title\":{\"text\":\"Population with Water vs. Population without Water\"},\"barmode\":\"group\"},                        {\"responsive\": true}                    ).then(function(){\n",
       "                            \n",
       "var gd = document.getElementById('0b14835e-bdfe-4298-8e50-8155d4681600');\n",
       "var x = new MutationObserver(function (mutations, observer) {{\n",
       "        var display = window.getComputedStyle(gd).display;\n",
       "        if (!display || display === 'none') {{\n",
       "            console.log([gd, 'removed!']);\n",
       "            Plotly.purge(gd);\n",
       "            observer.disconnect();\n",
       "        }}\n",
       "}});\n",
       "\n",
       "// Listen for the removal of the full notebook cells\n",
       "var notebookContainer = gd.closest('#notebook-container');\n",
       "if (notebookContainer) {{\n",
       "    x.observe(notebookContainer, {childList: true});\n",
       "}}\n",
       "\n",
       "// Listen for the clearing of the current output cell\n",
       "var outputEl = gd.closest('.output');\n",
       "if (outputEl) {{\n",
       "    x.observe(outputEl, {childList: true});\n",
       "}}\n",
       "\n",
       "                        })                };                });            </script>        </div>"
      ]
     },
     "metadata": {},
     "output_type": "display_data"
    }
   ],
   "source": [
    "# create stacked bar chart, stacking  \"country_pop_with_water\", and \"country_pop_without_water\" on the y axis as two bars. Using region as the x axis.\n",
    "# px.bar(df_countries, x=\"region\", y=[\"country_pop_with_water\", \"country_pop_without_water\"], title=\"Population with Water vs. Population without Water\", hover_data=[\"Entity\"])\n",
    "\n",
    "# create the same, but put the bars side by side\n",
    "px.bar(df_countries, x=\"region\", y=[\"country_pop_with_water\", \"country_pop_without_water\"], barmode=\"group\", title=\"Population with Water vs. Population without Water\", hover_data=[\"Entity\"])\n",
    "\n",
    "\n",
    "\n",
    "\n"
   ]
  },
  {
   "cell_type": "code",
   "execution_count": null,
   "metadata": {},
   "outputs": [],
   "source": [
    "# df_countries.to_csv(export_file_location + \"country_data_chloro.csv\")"
   ]
  }
 ],
 "metadata": {
  "kernelspec": {
   "display_name": "Python 3",
   "language": "python",
   "name": "python3"
  },
  "language_info": {
   "codemirror_mode": {
    "name": "ipython",
    "version": 3
   },
   "file_extension": ".py",
   "mimetype": "text/x-python",
   "name": "python",
   "nbconvert_exporter": "python",
   "pygments_lexer": "ipython3",
   "version": "3.9.18"
  },
  "orig_nbformat": 4,
  "vscode": {
   "interpreter": {
    "hash": "c09a8b249899dc4589e662892666698668e7a3ca1327801a18c24efb244ad2c6"
   }
  }
 },
 "nbformat": 4,
 "nbformat_minor": 2
}
