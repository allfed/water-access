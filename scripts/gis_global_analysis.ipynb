{
 "cells": [
  {
   "cell_type": "code",
   "execution_count": 1,
   "metadata": {},
   "outputs": [],
   "source": [
    "\n",
    "import pathlib\n",
    "import pandas as pd\n",
    "import numpy as np\n",
    "import matplotlib.pyplot as plt\n",
    "import plotly.express as px\n",
    "import weightedstats as ws\n"
   ]
  },
  {
   "cell_type": "code",
   "execution_count": 2,
   "metadata": {},
   "outputs": [],
   "source": [
    "\n",
    "import pathlib\n",
    "import pandas as pd\n",
    "import numpy as np\n",
    "import matplotlib.pyplot as plt\n",
    "import plotly.express as px\n",
    "import weightedstats as ws\n"
   ]
  },
  {
   "attachments": {},
   "cell_type": "markdown",
   "metadata": {},
   "source": [
    "## Functions and tools used in the analysis"
   ]
  },
  {
   "cell_type": "code",
   "execution_count": 3,
   "metadata": {},
   "outputs": [],
   "source": [
    "def weighted_mean(var, wts):\n",
    "    \"\"\"Calculates the weighted mean\"\"\"\n",
    "    return np.average(var, weights=wts)\n",
    "\n",
    "def weighted_median_series(val, weight):\n",
    "    \"\"\"Calculates the weighted median\n",
    "    ArithmeticError\n",
    "    If the sum of the weights is zero, or if the weights are not positive.\n",
    "    \"\"\"\n",
    "    try:\n",
    "        df = pd.DataFrame({\"val\": val, \"weight\": weight})\n",
    "        df_sorted = df.sort_values(\"val\")\n",
    "        cumsum = df_sorted[\"weight\"].cumsum()\n",
    "        cutoff = df_sorted[\"weight\"].sum() / 2.\n",
    "        result = df_sorted[cumsum >= cutoff][\"val\"].iloc[0]\n",
    "        # return just the value\n",
    "    except:\n",
    "        result = np.nan\n",
    "    return result\n",
    "\n",
    "def weighted_median(df, val_column, weight_column):\n",
    "    \"\"\"Calculates the weighted median\n",
    "    ArithmeticError\n",
    "    If the sum of the weights is zero, or if the weights are not positive.\n",
    "    \"\"\"\n",
    "    df_sorted = df.sort_values(val_column)\n",
    "    cumsum = df_sorted[weight_column].cumsum()\n",
    "    cutoff = df_sorted[weight_column].sum() / 2.\n",
    "    return df_sorted[cumsum >= cutoff][val_column].iloc[0]\n",
    "\n",
    "def run_weighted_median_on_grouped_df(df, groupby_column, value_column, weight_column):\n",
    "    \"\"\"Calculate the weighted median of a dataframe grouped by a column.\n",
    "    Args:\n",
    "        df (pandas.DataFrame): DataFrame to calculate weighted median on.\n",
    "        groupby_column (str): Column to group by.\n",
    "        value_column (str): Column to calculate weighted median on.\n",
    "        weight_column (str): Column to use as weight.\n",
    "    Returns:\n",
    "        pandas.DataFrame: DataFrame with weighted median for each group.\n",
    "    \"\"\"\n",
    "    # initialize empty list\n",
    "    d = []\n",
    "    # loop through each group\n",
    "    for i in df[groupby_column].unique():\n",
    "        df_group = df[df[groupby_column] == i]\n",
    "        # if rows in dataframe are more than 1, calculate weighted median\n",
    "        if len(df_group) > 1:\n",
    "            median = weighted_median(df_group, value_column, weight_column)\n",
    "        else:\n",
    "            median = df_group[value_column].values[0]\n",
    "        d.append(\n",
    "            {\n",
    "                groupby_column: i,\n",
    "                \"median\": median,\n",
    "            }\n",
    "        )\n",
    "    return pd.DataFrame(d)\n",
    "\n",
    "\n",
    "def load_data(data_file: str) -> pd.DataFrame:\n",
    "    '''\n",
    "    Load data from /data directory\n",
    "    '''\n",
    "    PATH = pathlib.Path().resolve()\n",
    "    DATA_PATH = PATH.joinpath(\"../data\").resolve()\n",
    "    return pd.read_csv(DATA_PATH.joinpath(data_file))\n",
    "\n"
   ]
  },
  {
   "attachments": {},
   "cell_type": "markdown",
   "metadata": {},
   "source": [
    "## Import Data from CSVs.\n",
    "CSVs created in previous script, which did the cycling mobility on a per country basis\n",
    "\n",
    "### GIS Data From QGIS Export\n",
    "https://ghsl.jrc.ec.europa.eu/download.php?ds=smod <- urbanisation\n",
    "\n",
    "https://www.earthenv.org/topography <- topography\n",
    "\n",
    "https://www.globio.info/download-grip-dataset <- roads\n"
   ]
  },
  {
   "cell_type": "code",
   "execution_count": 4,
   "metadata": {},
   "outputs": [],
   "source": [
    "\n",
    "# Load the data\n",
    "urb_data_file = \"../data/GIS/GIS_data_zones.csv\"\n",
    "country_data_file = \"../data/processed/country_data_master_interpolated.csv\"\n",
    "export_file_location = \"../data/processed/\"\n",
    "\n",
    "df_zones_input = pd.read_csv(urb_data_file, low_memory=False)\n",
    "df_input = pd.read_csv(country_data_file)\n",
    "\n",
    "# Data manipulation\n",
    "# Convert dtw_1 from meters to kilometers\n",
    "df_zones_input[\"dtw_1\"] /= 1000 \n",
    "\n",
    "\n",
    "# Option to calculate the distance, 1 = runs numerical calculation - takes about 15 mins on my macbook pro, 0 = uses csvs from previous run\n",
    "# only set to 1 if you'd like to recalculate the distance based on new parameters (changed load, changed Crrs etc)\n",
    "calculate_distance = True\n"
   ]
  },
  {
   "cell_type": "markdown",
   "metadata": {},
   "source": [
    "# Manage Urban / Rural Data\n",
    "Use the GHS_SMOD_E2020_GLOBE_R2023A_54009_1000_V1_0 dataset.\n",
    "from here: https://ghsl.jrc.ec.europa.eu/download.php?ds=smod"
   ]
  },
  {
   "cell_type": "code",
   "execution_count": 5,
   "metadata": {},
   "outputs": [
    {
     "data": {
      "text/plain": [
       "0    2220541\n",
       "1      42618\n",
       "Name: urban_rural, dtype: int64"
      ]
     },
     "execution_count": 5,
     "metadata": {},
     "output_type": "execute_result"
    }
   ],
   "source": [
    "\n",
    "# create new binary column for urban / rural. Rural is below 15, Urban above 15\n",
    "df_zones_input[\"urban_rural\"] = np.where(df_zones_input[\"GHS_SMOD\"] > 15, 1, 0)\n",
    "df_zones_input[\"urban_rural\"].value_counts()\n"
   ]
  },
  {
   "cell_type": "markdown",
   "metadata": {},
   "source": [
    "# Manage slope.\n",
    "\n",
    "Degrees from earthenv dataset"
   ]
  },
  {
   "cell_type": "code",
   "execution_count": 6,
   "metadata": {},
   "outputs": [
    {
     "data": {
      "text/plain": [
       "0.00     0.000000\n",
       "0.05     0.097832\n",
       "0.10     0.138355\n",
       "0.15     0.218758\n",
       "0.20     0.280146\n",
       "0.25     0.360782\n",
       "0.30     0.450444\n",
       "0.35     0.548193\n",
       "0.40     0.656249\n",
       "0.45     0.787484\n",
       "0.50     0.935736\n",
       "0.55     1.121305\n",
       "0.60     1.358873\n",
       "0.65     1.667845\n",
       "0.70     2.111629\n",
       "0.75     2.770306\n",
       "0.80     3.795188\n",
       "0.85     5.369263\n",
       "0.90     7.810654\n",
       "0.95    11.961503\n",
       "Name: slope_1, dtype: float64"
      ]
     },
     "execution_count": 6,
     "metadata": {},
     "output_type": "execute_result"
    },
    {
     "data": {
      "image/png": "[encoded data removed]",
      "text/plain": [
       "<Figure size 640x480 with 1 Axes>"
      ]
     },
     "metadata": {},
     "output_type": "display_data"
    }
   ],
   "source": [
    "# histogram of slope_1 log scale\n",
    "df_zones_input[\"slope_1\"].hist(bins=100, log=False)\n",
    "\n",
    "# qunaitles of slope_1, do 20 quantiles\n",
    "df_zones_input[\"slope_1\"].quantile(np.arange(0, 1, 0.05))\n"
   ]
  },
  {
   "cell_type": "code",
   "execution_count": null,
   "metadata": {},
   "outputs": [],
   "source": []
  },
  {
   "cell_type": "markdown",
   "metadata": {},
   "source": [
    "# Manage Roads\n",
    "\n"
   ]
  },
  {
   "attachments": {},
   "cell_type": "markdown",
   "metadata": {},
   "source": [
    "## Merge the dataframes\n",
    "Do some manual adjustments to populations"
   ]
  },
  {
   "cell_type": "code",
   "execution_count": 7,
   "metadata": {},
   "outputs": [],
   "source": [
    "\n",
    "# this analysis loses some data as the overlap between the rasters is not perfect. To reduce this error, use the 30 arc second data. Too much heavy lifting for my computer to do this at the moment.\n",
    "\n",
    "#merge df_input and df_zones on ISO_CC. This assigns all the country data to each zone.\n",
    "# join inner will remove some of the data that is not in both datasets\n",
    "df_zones = df_zones_input.merge(df_input, left_on=\"ISOCODE\", right_on=\"alpha3\", how=\"inner\")\n",
    "\n",
    "# these are the columns\n",
    "# alpha3,Unnamed: 0,Entity,Population,YearPBO,PBO,Terrain Ruggedness,Urban %,Urban Agg %,RoadQuality,Km,Urb %,Average household size (number of members),National At Least Basic,National Limit (more than 30 mins),National Unimproved,National Surface Water,Nat Accesible On Premises,Nat Piped,Nat NonPiped,No. HPs,Year of HP estimate,2015 (C),No. HPs in 2015,Non-functional HPs,Functional HPS,Risk Score,alpha2,region,subregion,borders,Mean BMI (male),Mean BMI (female),Mean male height (cm),Mean female height (cm),women weight,men weight,percent_insufficient_activity,Average Weight,power,Crr,trip_velocity_mean,unloaded_velocity_mean,loaded_velocity_mean,velocitykgs,water_ration_kms\n",
    "\n",
    "# # convert population density to percent of national population on a per country basis, grouped by ISO_CC\n",
    "df_zones[\"pop_density_perc\"] = df_zones.groupby(\"ISOCODE\")[\"pop_density\"].apply(lambda x: x / x.sum())\n",
    "\n",
    "# multiply population density by population on a per country basis\n",
    "df_zones[\"pop_zone\"] = df_zones[\"pop_density_perc\"] * df_zones[\"Population\"]\n",
    "\n"
   ]
  },
  {
   "cell_type": "code",
   "execution_count": 8,
   "metadata": {},
   "outputs": [],
   "source": [
    "# sum the population in each zone\n",
    "df_zones[\"country_pop_raw\"] = df_zones.groupby(\"ISOCODE\")[\"pop_zone\"].transform(\"sum\")\n"
   ]
  },
  {
   "cell_type": "code",
   "execution_count": 9,
   "metadata": {},
   "outputs": [],
   "source": [
    "# trim the dataframe to only include rows where there is a population\n",
    "# find non zero values AdjPopFloat\n",
    "df_zones[\"any_pop\"] = df_zones[\"AdjPopFloat\"].apply(\n",
    "    lambda x: 1 if x > 10 else 0\n",
    ")\n",
    "df_zones = df_zones[df_zones[\"any_pop\"] == 1]\n"
   ]
  },
  {
   "cell_type": "markdown",
   "metadata": {},
   "source": [
    "## Do Road Analysis from GRIP Data"
   ]
  },
  {
   "cell_type": "code",
   "execution_count": 10,
   "metadata": {},
   "outputs": [
    {
     "data": {
      "text/plain": [
       "<AxesSubplot:>"
      ]
     },
     "execution_count": 10,
     "metadata": {},
     "output_type": "execute_result"
    },
    {
     "data": {
      "image/png": "[encoded data removed]",
      "text/plain": [
       "<Figure size 640x480 with 1 Axes>"
      ]
     },
     "metadata": {},
     "output_type": "display_data"
    }
   ],
   "source": [
    "# Define the columns to work with\n",
    "columns = [\"grip_1_1\", \"grip_2_1\", \"grip_3_1\", \"grip_4_1\", \"grip_5_1\"]\n",
    "\n",
    "# Create a numpy array from the DataFrame for faster processing\n",
    "data = df_zones[columns].to_numpy()\n",
    "\n",
    "# Find the index of the first non-zero value in each row\n",
    "non_zero_indices = np.argmax(data != 0, axis=1)\n",
    "\n",
    "# Handle rows with all zeros\n",
    "all_zeros = np.all(data == 0, axis=1)\n",
    "non_zero_indices[all_zeros] = -1  # Set a distinct value for rows with all zeros\n",
    "\n",
    "# Map indices to road types\n",
    "road_types = np.array(['No Roads', 'Highways', 'Primary Roads', 'Secondary Roads', 'Tertiary Roads', 'Local Roads'])\n",
    "\n",
    "# Assign the dominant road type\n",
    "df_zones['dominant_road_type'] = road_types[non_zero_indices + 1]  # +1 to adjust for 'No Roads'\n",
    "\n",
    "# Histogram of dominant road type\n",
    "df_zones['dominant_road_type'].value_counts().plot(kind='bar')\n"
   ]
  },
  {
   "cell_type": "code",
   "execution_count": 11,
   "metadata": {},
   "outputs": [],
   "source": [
    "# Load the CSV file\n",
    "df_crr = pd.read_csv(\"../data/lookup tables/Crr.csv\")\n",
    "\n",
    "# Create a dictionary from the DataFrame\n",
    "crr_mapping = pd.Series(df_crr.Crr.values, index=df_crr['Assigned Zone Surface']).to_dict()\n",
    "\n",
    "# Map the road types in df_zones to Crr values\n",
    "df_zones['Crr'] = df_zones['dominant_road_type'].map(crr_mapping)\n",
    "\n",
    "# Now df_zones will have an additional column 'Crr' containing the corresponding Crr values\n"
   ]
  },
  {
   "attachments": {},
   "cell_type": "markdown",
   "metadata": {},
   "source": [
    "## The section below calculates the population per zone that can reach water\n",
    "\n",
    "Consider putting in household size and bike sharing here"
   ]
  },
  {
   "cell_type": "code",
   "execution_count": 12,
   "metadata": {},
   "outputs": [],
   "source": [
    "load_attempt = 25 # kg\n",
    "\n",
    "if calculate_distance:\n",
    "    # Calculate the bicycle distance\n",
    "    import sys\n",
    "    from pathlib import Path\n",
    "\n",
    "    # Resolve project root and update sys.path\n",
    "    project_root = Path().resolve().parent\n",
    "    sys.path.append(str(project_root))\n",
    "    \n",
    "    import src.mobility_module as mm\n",
    "\n",
    "    # Import data\n",
    "    file_path_params = \"../data/lookup tables/mobility-model-parameters.csv\"\n",
    "    allHPV_param_df = pd.read_csv(file_path_params)\n",
    "    param_df = allHPV_param_df[allHPV_param_df[\"Name\"] == \"Bicycle\"]\n",
    "\n",
    "    # Initialize model options and variables\n",
    "    mo = mm.model_options()\n",
    "    mo.model_selection = 2  # Cycling model\n",
    "\n",
    "    mv = mm.model_variables()\n",
    "    #TODO update to use country weights if this notebook needs to match the final model\n",
    "    met = mm.MET_values(mv, country_weight=False, use_country_specific_weights=False)\n",
    "    hpv = mm.HPV_variables(param_df, mv)\n",
    "\n",
    "    # Ensure that the 'Crr' column is in the correct format (e.g., float)\n",
    "    df_zones['Crr'] = df_zones['Crr'].astype(float)\n",
    "\n",
    "    # Extract slope and Crr values\n",
    "    slope_zones = df_zones[\"slope_1\"]\n",
    "    Crr_values = df_zones[\"Crr\"]\n",
    "    country_average_weights = df_zones[\"Average Weight\"]\n",
    "\n",
    "    # Model run setup\n",
    "    n_runs = len(slope_zones)\n",
    "\n",
    "    # Initialize result vectors\n",
    "    results = np.zeros((n_runs, 3))\n",
    "\n",
    "    # Run model with both slope and Crr\n",
    "    for i, (slope, crr, country_average_weight) in enumerate(zip(slope_zones, Crr_values, country_average_weights)):\n",
    "        hpv.Crr = crr\n",
    "        mv.m1 = country_average_weight\n",
    "        results[i] = mm.mobility_models.single_bike_run(mv, mo, hpv, slope, load_attempt) \n",
    "    # Unpack results\n",
    "    loaded_velocity_vec, unloaded_velocity_vec, max_load_vec = results.T\n",
    "\n",
    "    # average velocity between loaded and unloaded\n",
    "    average_velocity = (loaded_velocity_vec + unloaded_velocity_vec) / 2\n",
    "\n",
    "    # save the results csv\n",
    "    df_zones[\"loaded_velocity_bicycle\"] = loaded_velocity_vec\n",
    "    df_zones[\"unloaded_velocity_bicycle\"] = unloaded_velocity_vec\n",
    "    df_zones[\"average_velocity_bicycle\"] = average_velocity\n",
    "    df_zones[\"max_load_bicycle\"] = max_load_vec\n",
    "\n",
    "    #only save the newly created cols in the csv\n",
    "    df_zones[[\"fid\", \"loaded_velocity_bicycle\", \"unloaded_velocity_bicycle\", \"average_velocity_bicycle\", \"max_load_bicycle\"]].to_csv(export_file_location + \"bicycle_velocity_by_zone.csv\")\n",
    "\n",
    "else:\n",
    "    # load the results csv\n",
    "    df_zones_bicycle = pd.read_csv(export_file_location + \"bicycle_velocity_by_zone.csv\")\n",
    "\n",
    "    # merge the results with the main df\n",
    "    df_zones = df_zones.merge(df_zones_bicycle, on=\"fid\", how=\"left\")\n",
    "\n"
   ]
  },
  {
   "cell_type": "code",
   "execution_count": 13,
   "metadata": {},
   "outputs": [],
   "source": [
    "load_attempt = 20 # kg\n",
    "\n",
    "if calculate_distance:\n",
    "    # Calculate the walking distance\n",
    "    import sys\n",
    "    from pathlib import Path\n",
    "\n",
    "\n",
    "    # Resolve project root and update sys.path\n",
    "    project_root = Path().resolve().parent\n",
    "    sys.path.append(str(project_root))\n",
    "    \n",
    "    import src.mobility_module as mm\n",
    "\n",
    "    # Import data\n",
    "    file_path_params = \"../data/lookup tables/mobility-model-parameters.csv\"\n",
    "    allHPV_param_df = pd.read_csv(file_path_params)\n",
    "    param_df = allHPV_param_df[allHPV_param_df[\"Name\"] == \"Buckets\"]\n",
    "\n",
    "    # Initialize model options and variables\n",
    "    mo = mm.model_options()\n",
    "    mo.model_selection = 3  # Lankford model\n",
    "\n",
    "    mv = mm.model_variables()\n",
    "    #TODO update to use country weights?\n",
    "    # met = mm.MET_values(mv, country_weight=False, use_country_specific_weights=False)\n",
    "    hpv = mm.HPV_variables(param_df, mv)\n",
    "\n",
    "    # Ensure that the 'Crr' column is in the correct format (e.g., float)\n",
    "    df_zones['Crr'] = df_zones['Crr'].astype(float)\n",
    "\n",
    "    # Extract slope and Crr values\n",
    "    slope_zones = df_zones[\"slope_1\"]\n",
    "    Crr_values = df_zones[\"Crr\"]\n",
    "    country_average_weight = df_zones[\"Average Weight\"]\n",
    "\n",
    "    # Model run setup\n",
    "    n_runs = len(slope_zones)\n",
    "\n",
    "    # Initialize result vectors\n",
    "    results = np.zeros((n_runs, 3))\n",
    "\n",
    "    # Run model with both slope and Crr\n",
    "    for i, (slope, country_average_weight) in enumerate(zip(slope_zones, country_average_weights)):\n",
    "        mv.m1 = country_average_weight\n",
    "        met_values = mm.MET_values(mv, country_weight=country_average_weight, use_country_specific_weights=True)\n",
    "        results[i] = mm.mobility_models.single_lankford_run(\n",
    "            mv, mo, met_values, hpv, slope, load_attempt\n",
    "        )\n",
    "    # Unpack results\n",
    "    loaded_velocity_vec, unloaded_velocity_vec, max_load_vec = results.T\n",
    "\n",
    "    # average velocity between loaded and unloaded\n",
    "    average_velocity = (loaded_velocity_vec + unloaded_velocity_vec) / 2\n",
    "\n",
    "    # save the results csv\n",
    "    df_zones[\"loaded_velocity_walk\"] = loaded_velocity_vec\n",
    "    df_zones[\"unloaded_velocity_walk\"] = unloaded_velocity_vec\n",
    "    df_zones[\"average_velocity_walk\"] = average_velocity\n",
    "    df_zones[\"max_load_walk\"] = max_load_vec\n",
    "\n",
    "    #only save the newly created cols in the csv\n",
    "    df_zones[[\"fid\", \"loaded_velocity_walk\", \"unloaded_velocity_walk\", \"average_velocity_walk\", \"max_load_walk\"]].to_csv(export_file_location + \"walk_velocity_by_zone.csv\")\n",
    "\n",
    "else:\n",
    "    # load the results csv\n",
    "    df_zones_walking = pd.read_csv(export_file_location + \"walk_velocity_by_zone.csv\")\n",
    "\n",
    "    # merge the results with the main df\n",
    "    df_zones = df_zones.merge(df_zones_walking, on=\"fid\", how=\"left\")\n",
    "\n"
   ]
  },
  {
   "cell_type": "code",
   "execution_count": 14,
   "metadata": {},
   "outputs": [],
   "source": [
    "time_gathering_water = 7\n",
    "df_zones[\"max distance cycling\"] = df_zones[\"average_velocity_bicycle\"] * time_gathering_water / 2 # max distance achievable (not round trip, just the distance from home to water source)\n",
    "df_zones[\"max distance walking\"] = df_zones[\"average_velocity_walk\"] * time_gathering_water / 2\n",
    "df_zones[\"water_ration_kms\"] = df_zones[\"max distance cycling\"] * df_zones[\"max_load_bicycle\"]"
   ]
  },
  {
   "cell_type": "code",
   "execution_count": 15,
   "metadata": {},
   "outputs": [],
   "source": [
    "# # population with piped water\n",
    "\n",
    "# set df_zones[\"zone_pop_piped\"] to 0 for all zones to begin with\n",
    "df_zones[\"zone_pop_piped\"] = 0\n",
    "\n",
    "# if urban use urban piped and unpiped, if rural use rural piped and unpiped\n",
    "# use the urban_rural column to do this (where urban_rural = 1, use urban, where urban_rural = 0, use rural)\n",
    "df_zones[\"zone_pop_piped\"] = df_zones[\"pop_zone\"] * df_zones[\"urban_rural\"] * df_zones[\"URBANPiped\"]/100 + df_zones[\"pop_zone\"] * (1-df_zones[\"urban_rural\"]) * df_zones[\"RURALPiped\"]/100\n",
    "df_zones[\"zone_pop_unpiped\"] = df_zones[\"pop_zone\"] * df_zones[\"urban_rural\"] * df_zones[\"URBANNon-piped\"]/100 + df_zones[\"pop_zone\"] * (1-df_zones[\"urban_rural\"]) * df_zones[\"RURALNon-piped\"]/100\n",
    "\n",
    "# is it possible to reach water with walking/cycling\n",
    "df_zones[\"zone_cycling_okay\"] = (df_zones[\"dtw_1\"] < df_zones[\"max distance cycling\"])*1 # multiply by 1 to force to binary not true/false\n",
    "df_zones[\"zone_walking_okay\"] = (df_zones[\"dtw_1\"] < df_zones[\"max distance walking\"])*1\n",
    "\n",
    "# how many people can collect water in the zone\n",
    "df_zones[\"fraction_of_zone_with_cycling_access\"] = df_zones[\"zone_cycling_okay\"]* (df_zones[\"PBO\"])/100\n",
    "df_zones[\"fraction_of_zone_with_walking_access\"] = df_zones[\"zone_walking_okay\"] * 1\n",
    "\n",
    "#\n",
    "df_zones[\"population_piped_with_cycling_access\"] = df_zones[\"fraction_of_zone_with_cycling_access\"] * df_zones[\"zone_pop_piped\"]\n",
    "df_zones[\"population_piped_with_walking_access\"] = df_zones[\"fraction_of_zone_with_walking_access\"] * df_zones[\"zone_pop_piped\"]\n",
    "\n",
    "# select the maximum between the two, if walkable, max will always be walking\n",
    "df_zones[\"population_piped_with_access\"] = df_zones[[\"population_piped_with_cycling_access\", \"population_piped_with_walking_access\"]].max(axis=1)\n",
    "\n",
    "# zone pop without water\n",
    "df_zones[\"zone_pop_with_water\"] =  df_zones[\"population_piped_with_access\"] + df_zones[\"zone_pop_unpiped\"]\n",
    "df_zones[\"zone_pop_without_water\"] = df_zones[\"pop_zone\"] - df_zones[\"zone_pop_with_water\"]\n",
    "\n",
    "# use water_ration_kms to calculate the water ration achievable per bike per zone\n",
    "df_zones[\"water_rations_per_bike\"] = df_zones[\"water_ration_kms\"] / df_zones[\"dtw_1\"]\n",
    "\n",
    "# number oif bikes per zone is population divided by household nuymber multipled by PBO\n",
    "df_zones[\"bikes_in_zone\"] = df_zones[\"pop_zone\"] / df_zones[\"Average household size (number of members)\"] * df_zones[\"PBO\"]\n",
    "\n",
    "#water rations achievable utilising all the bikes in the zone is the number of bikes in the zone multiplied by the water rations per bike\n",
    "df_zones[\"water_rations_achievable\"] = df_zones[\"bikes_in_zone\"] * df_zones[\"water_rations_per_bike\"]\n",
    "\n"
   ]
  },
  {
   "cell_type": "code",
   "execution_count": 16,
   "metadata": {},
   "outputs": [
    {
     "data": {
      "text/plain": [
       "count    1.481674e+06\n",
       "mean     1.646975e+03\n",
       "std      8.653241e+03\n",
       "min      0.000000e+00\n",
       "25%      6.560864e+00\n",
       "50%      4.893252e+01\n",
       "75%      5.727339e+02\n",
       "max      1.127543e+06\n",
       "Name: zone_pop_unpiped, dtype: float64"
      ]
     },
     "execution_count": 16,
     "metadata": {},
     "output_type": "execute_result"
    }
   ],
   "source": [
    "df_zones[\"zone_pop_unpiped\"].describe()"
   ]
  },
  {
   "cell_type": "code",
   "execution_count": null,
   "metadata": {},
   "outputs": [],
   "source": []
  },
  {
   "cell_type": "code",
   "execution_count": 17,
   "metadata": {},
   "outputs": [],
   "source": [
    "# Export df_zones to \"results\" folder\n",
    "if calculate_distance:\n",
    "    df_zones.to_csv(\"../results/df_zones_export.csv\", index=False)\n"
   ]
  },
  {
   "cell_type": "code",
   "execution_count": 18,
   "metadata": {},
   "outputs": [
    {
     "data": {
      "text/plain": [
       "(1481674, 118)"
      ]
     },
     "execution_count": 18,
     "metadata": {},
     "output_type": "execute_result"
    }
   ],
   "source": [
    "# count rows of df_zones\n",
    "df_zones.shape\n",
    "# display column names without truncation\n",
    "# pd.options.display.max_columns = None\n",
    "# df_zones.head()"
   ]
  },
  {
   "attachments": {},
   "cell_type": "markdown",
   "metadata": {},
   "source": [
    "## Group the zones in to country groups\n",
    "Use groupby agg and then apply to summarise the zone data in to country level, then create some summary columns"
   ]
  },
  {
   "cell_type": "code",
   "execution_count": 19,
   "metadata": {},
   "outputs": [
    {
     "ename": "",
     "evalue": "",
     "output_type": "error",
     "traceback": [
      "\u001b[1;31mThe Kernel crashed while executing code in the current cell or a previous cell. \n",
      "\u001b[1;31mPlease review the code in the cell(s) to identify a possible cause of the failure. \n",
      "\u001b[1;31mClick <a href='https://aka.ms/vscodeJupyterKernelCrash'>here</a> for more info. \n",
      "\u001b[1;31mView Jupyter <a href='command:jupyter.viewOutput'>log</a> for further details."
     ]
    }
   ],
   "source": [
    "# use groupby to create dataframe of country level data from df_zones\n",
    "df_countries = df_zones.groupby(\"ISOCODE\").agg({\n",
    "    \"Entity\": \"first\",\n",
    "    \"country_pop_raw\": \"first\",\n",
    "    \"zone_pop_with_water\": \"sum\",\n",
    "    \"zone_pop_without_water\": \"sum\",\n",
    "    \"population_piped_with_access\": \"sum\",\n",
    "    \"population_piped_with_cycling_access\": \"sum\",\n",
    "    \"population_piped_with_walking_access\": \"sum\",\n",
    "    \"Nat Piped\": \"first\",\n",
    "    \"region\": \"first\",\n",
    "    \"subregion\": \"first\",\n",
    "    \"max distance cycling\": [\"mean\", \"max\", \"min\", \"median\"],\n",
    "    \"max distance walking\": [\"mean\", \"max\", \"min\", \"median\"],\n",
    "}).reset_index()\n",
    "\n",
    "# Rename the columns\n",
    "df_countries.columns = [\"ISOCODE\", \"Entity\", \"country_pop_raw\", \"zone_pop_with_water\", \"zone_pop_without_water\",\n",
    "                        \"population_piped_with_access\", \"population_piped_with_cycling_access\",\n",
    "                        \"population_piped_with_walking_access\", \"Nat Piped\", \"region\", \"subregion\",\n",
    "                        \"mean_max_distance_cycling\", \"max_max_distance_cycling\", \"min_max_distance_cycling\",\n",
    "                        \"median_max_distance_cycling\", \"mean_max_distance_walking\", \"max_max_distance_walking\",\n",
    "                        \"min_max_distance_walking\", \"median_max_distance_walking\"]\n",
    "\n",
    "# use groupby to create weighted median, needs to be speerate from the above groupby as it uses apply, which can't be used in the same groupby\n",
    "# needs to use apply because the function required two columns as input\n",
    "df_median_group = df_zones.groupby(['ISOCODE']).apply(lambda x : pd.Series({'weighted_med':weighted_median(x,\"dtw_1\",\"pop_zone\")}))\n",
    "\n",
    "# merge the weighted median back into the df_countries dataframe\n",
    "df_countries = df_countries.merge(df_median_group, on=\"ISOCODE\")\n",
    "\n",
    "# drop rows from the dataframe that have Nan in pop_zone and dtw_1\n",
    "df_zones = df_zones.dropna(subset=[\"pop_zone\", \"dtw_1\"])\n",
    "\n",
    "# create summary columns\n",
    "#rename zone columns to country\n",
    "df_countries = df_countries.rename(columns={\"zone_pop_with_water\":\"country_pop_with_water\", \"zone_pop_without_water\":\"country_pop_without_water\"})\n",
    "# create percent\n",
    "df_countries[\"percent_with_water\"] = df_countries[\"country_pop_with_water\"] / df_countries[\"country_pop_raw\"] * 100\n",
    "df_countries[\"percent_without_water\"] = df_countries[\"country_pop_without_water\"] / df_countries[\"country_pop_raw\"] * 100"
   ]
  },
  {
   "attachments": {},
   "cell_type": "markdown",
   "metadata": {},
   "source": [
    "Clean Up Data"
   ]
  },
  {
   "cell_type": "code",
   "execution_count": null,
   "metadata": {},
   "outputs": [
    {
     "name": "stdout",
     "output_type": "stream",
     "text": [
      "Countries removed from analysis\n",
      "               Entity  weighted_med\n",
      "42       Cook Islands   1421.425000\n",
      "44            Comoros    314.070094\n",
      "45         Cape Verde    622.286875\n",
      "49     Cayman Islands    287.167188\n",
      "146           Mayotte    283.397312\n",
      "152              Niue    426.276906\n",
      "171  French Polynesia   1932.213000\n",
      "181      Saint Helena   2403.565000\n",
      "Countries removed manually\n",
      "                       Entity  weighted_med\n",
      "0                       Aruba     87.800906\n",
      "10        Antigua and Barbuda     64.350602\n",
      "29                   Barbados    144.138797\n",
      "54                   Dominica     69.260383\n",
      "85                       Guam     20.615529\n",
      "138  Northern Mariana Islands    204.364906\n"
     ]
    }
   ],
   "source": [
    "# Clean up data from spurious country values\n",
    "# uses libya as the max possible diatnce to water (from Kummu paper results)\n",
    "\n",
    "# remove any nan rows\n",
    "df_countries = df_countries.dropna()\n",
    "\n",
    "\n",
    "# first pass clean up\n",
    "\n",
    "# remove any rows where the median is more than 1km more than \"LBY\" (Libya)'s median these are clerly errors as no-country can be further than Libya (based on inspection of Kummu Results)\n",
    "max_distance = df_countries.loc[df_countries[\"ISOCODE\"] == \"LBY\", \"weighted_med\"].values[0] + 1\n",
    "countries_further_than_libya = df_countries[df_countries[\"weighted_med\"] > max_distance]\n",
    "df_countries = df_countries[df_countries[\"weighted_med\"] < max_distance]\n",
    "\n",
    "####### Manual remove countries ###############\n",
    "# inspecting the results, there are a few countries that are clearly wrong, remove them manually\n",
    "list_of_countries_to_remove = [\"GUM\", \"ASM\", \"TON\", \"MNP\", \"ATG\", \"DMA\", \"ABW\", \"BRB\"]\n",
    "df_of_countries_to_remove = df_countries[df_countries[\"ISOCODE\"].isin(list_of_countries_to_remove)]\n",
    "df_countries = df_countries[~df_countries[\"ISOCODE\"].isin(list_of_countries_to_remove)]\n",
    "##############################\n",
    "\n",
    "\n",
    "# summary of removed countries\n",
    "print(\"Countries removed from analysis\")\n",
    "print(countries_further_than_libya[[\"Entity\", \"weighted_med\"]])\n",
    "print(\"Countries removed manually\")\n",
    "print(df_of_countries_to_remove[[\"Entity\", \"weighted_med\"]])\n",
    "\n",
    "\n",
    "\n",
    "\n"
   ]
  },
  {
   "attachments": {},
   "cell_type": "markdown",
   "metadata": {},
   "source": [
    "# Plotting and Visualising"
   ]
  },
  {
   "cell_type": "code",
   "execution_count": null,
   "metadata": {},
   "outputs": [
    {
     "data": {
      "application/vnd.plotly.v1+json": {
       "config": {
        "plotlyServerURL": "https://plot.ly"
       },
       "data": [
        {
         "coloraxis": "coloraxis",
         "customdata": [
          [
           "Afghanistan",
           39835428,
           27197666.06557327,
           12637761.934426725,
           3018862.682837708,
           768991.8725585957,
           2792204.558620106,
           31.724930718522025,
           68.27506928147797,
           22,
           "Asia",
           "Southern Asia",
           5.8309521484375,
           2.226752231752367,
           19.311326435197568,
           0.41998709649847404,
           1.5335533993822665,
           3.653362585070691,
           3.70761747588405,
           3.469223203320837,
           3.6733021481632653
          ],
          [
           "Angola",
           33933611,
           12380849.895321628,
           21552761.10467837,
           3374813.597010544,
           186696.2972979347,
           3303393.6395109696,
           63.51449335786389,
           36.48550664213611,
           42,
           "Africa",
           "Middle Africa",
           4.12310498046875,
           2.542966059874252,
           19.698749339885623,
           0.6891785463548531,
           1.9193981760442658,
           3.6952598750647088,
           3.70761747588405,
           3.5886628567364696,
           3.697389597528078
          ],
          [
           "Albania",
           2872934,
           2273401.84217433,
           599532.1578256706,
           1694028.0510337704,
           222427.36463004482,
           1680199.9690190372,
           20.868288579747066,
           79.13171142025294,
           81,
           "Europe",
           "Southern Europe",
           2.23606811523438,
           3.797683926673849,
           20.249398654769074,
           0.5929664903713404,
           1.6059866360391553,
           3.637573871306711,
           3.70761747588405,
           3.5330784233998873,
           3.631814418043531
          ],
          [
           "Andorra",
           77354,
           32663.696512665032,
           44690.303487334975,
           32663.696512665032,
           0,
           32663.696512665032,
           57.77374600839643,
           42.22625399160358,
           100,
           "Europe",
           "Southern Europe",
           4.12310498046875,
           0.789093012765122,
           1.2127694168976362,
           0.5879597350501753,
           0.7168176806440442,
           3.579105911738259,
           3.6072957504761236,
           3.5578862265854587,
           3.5775772841762117
          ],
          [
           "United Arab Emirates",
           9991083,
           0,
           9991070.566484654,
           0,
           0,
           0,
           99.99987555387794,
           0,
           100,
           "Asia",
           "Western Asia",
           171.819703125,
           4.801331632506854,
           20.249398654769074,
           0.609613227892352,
           1.8868694359095572,
           3.6995584800548578,
           3.70761747588405,
           3.5509438881817625,
           3.703800831336071
          ],
          [
           "Argentina",
           45605823,
           23257170.340446044,
           22335716.190041948,
           19491128.076939605,
           12355831.396761203,
           13308163.246116323,
           48.97557969744773,
           50.996054474109684,
           96,
           "Americas",
           "South America",
           6,
           6.2751754388266185,
           20.249398654769074,
           0.4426930444118276,
           2.845308818027898,
           3.6920403414853977,
           3.70761747588405,
           3.490243142661523,
           3.7049181307437076
          ],
          [
           "Armenia",
           2968128,
           1969954.894219581,
           998173.1057804192,
           1969954.894219581,
           68265.44003776804,
           1961986.4218634437,
           33.62971899393891,
           66.37028100606109,
           100,
           "Asia",
           "Western Asia",
           2.82842700195312,
           3.8460232145845312,
           19.698749339885623,
           0.5527430582520354,
           1.8873706340131746,
           3.6503387035514505,
           3.70761747588405,
           3.5344729324232977,
           3.6518738511663975
          ],
          [
           "Australia",
           25788216.999999996,
           18070060.933356903,
           7616971.238560525,
           16049519.508217633,
           5076194.210441365,
           15066445.656587968,
           29.536633876473605,
           70.07099767059081,
           91,
           "Oceania",
           "Australia and New Zealand",
           2.82842700195312,
           6.489216888230943,
           20.249398654769074,
           0.6277241925688629,
           2.8000071125346695,
           3.6929920482870466,
           3.70761747588405,
           3.571121542058058,
           3.700572479697699
          ],
          [
           "Austria",
           9043071.999999998,
           6654480.937115312,
           2388591.062884687,
           6646409.032355981,
           2074241.484982216,
           6221207.606415113,
           26.41349159759745,
           73.58650840240256,
           99.4285714285714,
           "Europe",
           "Western Europe",
           2.82842700195312,
           3.4593615278869674,
           19.65488977616433,
           0.4917565133479236,
           1.3235704920770304,
           3.6306722725803633,
           3.70761747588405,
           3.5093840379206664,
           3.63070817254219
          ],
          [
           "Azerbaijan",
           10223343.999999998,
           7309012.578841018,
           2914320.7539060977,
           6383155.577165219,
           400180.68392579566,
           6311775.3749413695,
           28.50653126712843,
           71.49336439076117,
           91,
           "Asia",
           "Western Asia",
           2.23606811523438,
           7.3941294420168395,
           20.249398654769074,
           0.4964698312636667,
           3.5749537784522785,
           3.672602224902256,
           3.70761747588405,
           3.519713041207994,
           3.6941468131680923
          ],
          [
           "Burundi",
           12255429.000000002,
           7618405.666586297,
           4637023.333413705,
           4125905.486025983,
           659452.0373217013,
           4059199.688536012,
           37.83648318972518,
           62.16351681027482,
           38,
           "Africa",
           "Eastern Africa",
           3.16227807617188,
           3.6955355325094073,
           20.249398654769074,
           0.9974213215979365,
           2.7741111942426935,
           3.6656010223614754,
           3.70761747588405,
           3.604087974860561,
           3.6657973022653527
          ],
          [
           "Belgium",
           11632334,
           7579426.999357857,
           4052907.0006421423,
           7579426.999357857,
           2291935.859390815,
           6577578.536109757,
           34.84173512076031,
           65.15826487923968,
           100,
           "Europe",
           "Western Europe",
           3.16227807617188,
           10.855227755064307,
           20.249398654769074,
           2.333074563205212,
           10.102365241836063,
           3.697703151125724,
           3.70761747588405,
           3.666316531585061,
           3.700281102034096
          ],
          [
           "Benin",
           12451031,
           7262407.262110341,
           5188623.737889658,
           2250445.865963814,
           1107068.626251132,
           1731498.8321377058,
           41.67224174359262,
           58.32775825640737,
           37,
           "Africa",
           "Western Africa",
           5,
           6.995032311800579,
           19.82862255612215,
           1.4791569891984029,
           2.7274857421393057,
           3.7004472119316176,
           3.70761747588405,
           3.6753661786912275,
           3.7003116250257806
          ],
          [
           "Burkina Faso",
           21497097,
           14296689.101305952,
           7200407.898694049,
           2240377.5608064285,
           2049728.0298759893,
           622897.3031090288,
           33.494791872102766,
           66.50520812789723,
           28,
           "Africa",
           "Western Africa",
           10.2956298828125,
           7.559407332218933,
           18.523412099727338,
           1.450779634463593,
           2.7702357720684594,
           3.703247268470115,
           3.7068685438964026,
           3.684570229562329,
           3.703874895232522
          ],
          [
           "Bangladesh",
           166303494,
           153094899.99347872,
           13208594.006521264,
           31063350.91311829,
           6705340.172174037,
           29173127.8971634,
           7.942463317410074,
           92.05753668258991,
           15,
           "Asia",
           "Southern Asia",
           2.82842700195312,
           14.704426527054167,
           20.249398654769074,
           0.8799053518009199,
           17.945637353370135,
           3.7031266940686516,
           3.70761747588405,
           3.6161662441765157,
           3.7059430950856362
          ],
          [
           "Bulgaria",
           6896655,
           4202158.604172463,
           2694488.045472793,
           4202158.604172463,
           685787.6957438219,
           4010750.134473024,
           39.06949159371888,
           60.93038732795048,
           100,
           "Europe",
           "Eastern Europe",
           3.16227807617188,
           4.109705685476111,
           20.249398654769074,
           0.616782224008608,
           2.206105501085738,
           3.6732908977909737,
           3.70761747588405,
           3.5387105984108027,
           3.684324311038205
          ],
          [
           "Bahamas",
           396913.9999999999,
           238876.1193987719,
           157367.82305352532,
           154451.3087289744,
           47243.76838430372,
           138223.36804912548,
           39.64783884003219,
           60.183344351363765,
           97,
           "Americas",
           "Caribbean",
           5.09902001953125,
           10.494270971527206,
           19.698749339885623,
           1.9034824854422219,
           15.999535364698719,
           3.70708159252144,
           3.70761747588405,
           3.7043203252816066,
           3.70761747588405
          ],
          [
           "Bosnia and Herzegovina",
           3263459,
           1949186.9639435592,
           1314272.0360564406,
           1731796.9192651142,
           427093.69512607146,
           1669511.4561711086,
           40.272362424545264,
           59.72763757545473,
           95,
           "Europe",
           "Southern Europe",
           3.16227807617188,
           2.963859884190895,
           18.99353717332525,
           0.5762854436618965,
           1.631154401627844,
           3.6561099821230245,
           3.7066127246869054,
           3.542470666849733,
           3.65882877277311
          ],
          [
           "Belarus",
           9442867,
           6905727.054859399,
           2537139.9451406007,
           6217434.743866897,
           2304715.42884243,
           5302918.557466646,
           26.86832235528257,
           73.13167764471741,
           96,
           "Europe",
           "Eastern Europe",
           3,
           13.67623348596686,
           20.249398654769074,
           1.7462467418970482,
           15.070335594494379,
           3.703578422184383,
           3.70761747588405,
           3.695992031988853,
           3.703713813280949
          ],
          [
           "Belize",
           404915,
           338674.3012913656,
           66183.28842529525,
           257702.7833480334,
           183769.06620272543,
           206752.32476578627,
           16.344983126161107,
           83.64083851953264,
           87,
           "Americas",
           "Central America",
           2.82842700195312,
           10.309342254011234,
           20.249398654769074,
           0.8429005055169118,
           11.278454224541257,
           3.693481011523099,
           3.70761747588405,
           3.608970064147948,
           3.703531641150249
          ],
          [
           "Bolivia",
           11832936,
           7968120.858115979,
           3864616.009289547,
           1337590.9871285388,
           400779.0717814092,
           1140427.9318640237,
           32.65982347313927,
           67.33849365969678,
           69,
           "Americas",
           "South America",
           5.3851650390625,
           2.7890259542769433,
           20.249398654769074,
           0.4407601629614869,
           1.911317024218219,
           3.678667072298481,
           3.70761747588405,
           3.489055992721271,
           3.701475217060075
          ],
          [
           "Brazil",
           213993441,
           109805019.54780373,
           104124168.31812991,
           96511216.34857026,
           46348905.379350744,
           83723209.2628756,
           48.65764475376136,
           51.31232949696049,
           98,
           "Americas",
           "South America",
           5,
           4.477443735888402,
           20.249398654769074,
           0.6040744740444736,
           2.1910961589402786,
           3.692103292195609,
           3.70761747588405,
           3.563452717952158,
           3.6962881473552125
          ],
          [
           "Brunei",
           441532.0000000001,
           263918.5962378882,
           177613.4037621119,
           239447.6755476521,
           87508.00633471111,
           238093.8865985045,
           40.22662089318823,
           59.77337910681177,
           100,
           "Asia",
           "South-Eastern Asia",
           2.23606811523438,
           2.0957971629408907,
           12.975876450655807,
           0.7238170608820609,
           1.808501042896114,
           3.6886212908234857,
           3.70761747588405,
           3.5972755146954487,
           3.699339130288007
          ],
          [
           "Bhutan",
           779900.0000000001,
           338486.8648029134,
           441413.13519708667,
           338486.8648029134,
           6831.9199045267815,
           337678.0518299155,
           56.598683830886856,
           43.40131616911314,
           100,
           "Asia",
           "Southern Asia",
           4,
           0.819225069555158,
           12.566256089775104,
           0.44238978213551106,
           0.5912942040427293,
           3.555232375581813,
           3.7016977103263837,
           3.490057538897279,
           3.548667475440849
          ],
          [
           "Botswana",
           2397240,
           571753.8219755113,
           1824947.6243671582,
           151829.00487742928,
           55477.864604415096,
           117306.57246038235,
           76.12703043363027,
           23.850503995240828,
           91,
           "Africa",
           "Southern Africa",
           33.94112890625,
           4.820255472406296,
           19.40984401499896,
           1.528071183736294,
           2.7807866032800663,
           3.705861082265166,
           3.70761747588405,
           3.6830699962530042,
           3.7065583855707462
          ],
          [
           "Central African Republic",
           4919987,
           2425180.168311973,
           2493011.1326595163,
           97841.96220625965,
           18355.632477012306,
           97841.96220625965,
           50.67109186791584,
           49.29241008791229,
           14,
           "Africa",
           "Middle Africa",
           3,
           2.2740816039820286,
           15.90837877597039,
           0.9556358683854458,
           1.7956830138835689,
           3.6970336165655935,
           3.7068685438964026,
           3.6392062189685,
           3.6972703819700556
          ],
          [
           "Canada",
           38067913.00000001,
           25888064.11896936,
           12130726.997429647,
           25888064.11896936,
           10687216.183213519,
           22279191.461237594,
           31.86601534323577,
           68.00494715580902,
           100,
           "Americas",
           "Northern America",
           3,
           6.875346512774025,
           20.249398654769074,
           0.48166815254699713,
           2.481106290215854,
           3.6937666608294633,
           3.70761747588405,
           3.502835182534675,
           3.7022163977489657
          ],
          [
           "Switzerland",
           8715494,
           5884228.050300926,
           2831265.9496990745,
           5884228.050300926,
           987367.4257030824,
           5800948.0723703075,
           32.48543283603975,
           67.51456716396025,
           100,
           "Europe",
           "Western Europe",
           2.82842700195312,
           1.8728507970168797,
           20.249398654769074,
           0.4617470067129808,
           0.8756804867046437,
           3.610943267218737,
           3.70761747588405,
           3.491454371896616,
           3.5910639674689495
          ],
          [
           "Chile",
           19212362,
           9832600.355848797,
           9369392.559352228,
           9832600.355848797,
           2347497.7648372184,
           9393672.143221747,
           48.76752040874635,
           51.17850869064823,
           100,
           "Americas",
           "South America",
           4,
           2.586105545212454,
           20.249398654769074,
           0.43782445028180916,
           1.3462679602043244,
           3.6482988535178866,
           3.70761747588405,
           3.487146750692066,
           3.661965695322736
          ],
          [
           "China",
           1444216102,
           1005529904.0301574,
           438661348.5112995,
           753207906.3343669,
           236017519.67383283,
           691747854.6474848,
           30.373664156203922,
           69.62461522466515,
           80,
           "Asia",
           "Eastern Asia",
           3.16227807617188,
           3.7484219797070444,
           20.249398654769074,
           0.34768818226842735,
           1.6516361950462843,
           3.6605731758435534,
           3.70761747588405,
           3.4171265802566233,
           3.678315477970112
          ],
          [
           "Cote d'Ivoire",
           27053628.999999996,
           15812777.309843365,
           11240851.690156633,
           4811908.89487137,
           2082798.2554338803,
           4128265.4025879423,
           41.55025445997147,
           58.449745540028545,
           42,
           "Africa",
           "Western Africa",
           4.12310498046875,
           5.269566907673813,
           20.249398654769074,
           0.8332601566466393,
           2.4403904784371275,
           3.6963730662598144,
           3.70761747588405,
           3.619122922314318,
           3.697160486518447
          ],
          [
           "Cameroon",
           27224262,
           16459711.770363322,
           10764550.229636678,
           2964305.904471851,
           368637.27527754876,
           2899733.7587127057,
           39.54028296391167,
           60.459717036088335,
           36,
           "Africa",
           "Middle Africa",
           3.60555102539062,
           2.7072167027188065,
           19.698749339885623,
           0.6325411017302041,
           2.0985952906041665,
           3.688348151476597,
           3.70761747588405,
           3.572615516875225,
           3.692892178409899
          ],
          [
           "Democratic Republic of Congo",
           92377986,
           30442369.95456866,
           61935285.2886744,
           8428263.189611483,
           1434380.4037878036,
           8192346.229629749,
           67.04550290658469,
           32.95413904625358,
           35,
           "Africa",
           "Middle Africa",
           3,
           3.518621762921006,
           20.249398654769074,
           0.48000035879524117,
           1.8577901020626815,
           3.693355490629339,
           3.70761747588405,
           3.5113602911252624,
           3.6965846619659333
          ],
          [
           "Congo",
           5657017,
           2880193.336661269,
           2776823.663338731,
           834892.0099081286,
           48597.69721740622,
           830505.9034054741,
           49.086358823718065,
           50.913641176281935,
           53,
           "Africa",
           "Middle Africa",
           2,
           4.214989887311561,
           20.249398654769074,
           0.9041254659330782,
           1.9011209680978682,
           3.694240693370377,
           3.70761747588405,
           3.6317025910003284,
           3.6964978762773044
          ],
          [
           "Colombia",
           51265841,
           30502574.69664046,
           20763245.542954717,
           17976834.03913528,
           4586116.840700129,
           16805762.921334237,
           40.50113123659615,
           59.49882826781378,
           89,
           "Americas",
           "South America",
           3.60555102539062,
           3.5114222258408603,
           20.249398654769074,
           0.4243052694530499,
           1.8348228614961082,
           3.6757629874977646,
           3.70761747588405,
           3.478531694798837,
           3.7008433977569415
          ],
          [
           "Costa Rica",
           5139053,
           3055942.902150607,
           2083108.2916569605,
           3055942.902150607,
           1146681.5579737527,
           2953103.752003125,
           40.53486686471147,
           59.46509798888253,
           100,
           "Americas",
           "Central America",
           3.16227807617188,
           5.680528729992807,
           20.249398654769074,
           0.5569351689482269,
           2.5446231781240973,
           3.662961825922614,
           3.70761747588405,
           3.546295726100201,
           3.674793904066627
          ],
          [
           "Cuba",
           11317498,
           7526523.246637418,
           3790929.7671912257,
           3328657.200146519,
           833360.072197713,
           2961415.817919105,
           33.49618234693945,
           66.50342016086434,
           80,
           "Americas",
           "Caribbean",
           4.47213623046875,
           8.513520888364496,
           20.249398654769074,
           0.6197062043656676,
           4.236367246500548,
           3.697871460433218,
           3.70761747588405,
           3.564502182821409,
           3.705179884646954
          ],
          [
           "Cyprus",
           1215588,
           575433.3486681628,
           640154.651331837,
           575433.3486681628,
           134224.6504815768,
           542965.3430967196,
           52.66213974898049,
           47.33786025101949,
           100,
           "Europe",
           "Southern Europe",
           5,
           6.287507907769809,
           20.249398654769074,
           0.8317138938694347,
           2.934190864734627,
           3.6810859911438465,
           3.70761747588405,
           3.5984311604482637,
           3.6921408271060683
          ],
          [
           "Czechia",
           10724553,
           6984052.057799997,
           3740500.9422000037,
           6984052.057799997,
           2396256.54963117,
           6332172.010266407,
           34.87791931467916,
           65.12208068532084,
           100,
           "Europe",
           "Eastern Europe",
           3.16227807617188,
           6.8529514589612175,
           18.52953659308868,
           0.9172942684849013,
           6.367268516096458,
           3.687268382376696,
           3.706236671907731,
           3.6124044590200777,
           3.6903013507246367
          ],
          [
           "Germany",
           83900471.00000001,
           55515523.599361636,
           28384947.40063837,
           55515523.599361636,
           22472134.286606655,
           47459273.86715162,
           33.83169017089113,
           66.16830982910885,
           100,
           "Europe",
           "Western Europe",
           3.16227807617188,
           10.471545356539025,
           20.249398654769074,
           0.5261590397500255,
           10.327344679291837,
           3.693384542710388,
           3.70761747588405,
           3.533499682515603,
           3.6992698821702557
          ],
          [
           "Djibouti",
           1002197,
           316124.35158848856,
           686072.6484115114,
           10363.028870854318,
           1448.2071212742035,
           9655.63545806432,
           68.45686510850774,
           31.543134891492247,
           83,
           "Africa",
           "Eastern Africa",
           38.83298046875,
           6.707244812113075,
           19.698749339885623,
           0.8530098708810098,
           4.505337288689839,
           3.6846377136829105,
           3.70761747588405,
           3.60216377049365,
           3.6912775211708326
          ],
          [
           "Denmark",
           5813302.000000001,
           3850284.549480801,
           1963017.4505191997,
           3850284.549480801,
           2031962.9371634724,
           3108329.426589577,
           33.76768402053084,
           66.23231597946916,
           100,
           "Europe",
           "Northern Europe",
           3.60555102539062,
           13.114693693352608,
           20.249398654769074,
           1.7855254801007616,
           15.020414104083262,
           3.7043178994682133,
           3.70761747588405,
           3.694559670018637,
           3.704459132849684
          ],
          [
           "Dominican Republic",
           10953714,
           6582828.127309309,
           4370884.087902415,
           3940785.8819354004,
           45190.797185588264,
           3927386.238217526,
           39.903215365148434,
           60.0967683409418,
           81,
           "Americas",
           "Caribbean",
           3.60555102539062,
           5.956300193561109,
           20.249398654769074,
           0.5961313148858487,
           2.653663017312124,
           3.674290609028431,
           3.70761747588405,
           3.5607452361734504,
           3.6891165572567233
          ],
          [
           "Algeria",
           44616625.99999999,
           25208304.61075818,
           19360457.18377171,
           8529399.393388933,
           1344206.1950847756,
           8177375.146605969,
           43.39292079990924,
           56.49980034518563,
           72,
           "Africa",
           "Northern Africa",
           7.28010986328125,
           2.4945975256834028,
           20.249398654769074,
           0.620854195255756,
           1.8736791151071728,
           3.6989029670827898,
           3.70761747588405,
           3.545863944199991,
           3.7035729510291775
          ],
          [
           "Ecuador",
           17888473.999999996,
           9097935.487913016,
           8790345.677565286,
           7207126.786983447,
           2519553.80979255,
           6601193.13635775,
           49.139717996992296,
           50.85920402105298,
           91,
           "Americas",
           "South America",
           4.12310498046875,
           3.235290235554045,
           20.249398654769074,
           0.48087519072127705,
           1.731154500881575,
           3.6556578944068017,
           3.70761747588405,
           3.51100689735201,
           3.6768378726290223
          ],
          [
           "Egypt",
           104258326.99999999,
           53722583.3058953,
           50534621.12385519,
           53722583.3058953,
           5005886.2856239835,
           52525362.034866564,
           48.47058511101487,
           51.528338168993734,
           100,
           "Africa",
           "Northern Africa",
           3.60555102539062,
           4.508941767383241,
           20.249398654769074,
           0.5801459663936884,
           2.224636623476431,
           3.696291621362366,
           3.70761747588405,
           3.555079743017099,
           3.7022527636690197
          ],
          [
           "Eritrea",
           3601462,
           1551400.20692691,
           2050028.2005193513,
           139394.44846073387,
           8481.693327849855,
           136807.9436069235,
           56.922111090422476,
           43.07695616188398,
           52,
           "Africa",
           "Eastern Africa",
           21.09501953125,
           2.0766646875475434,
           19.698749339885623,
           0.5444693653339356,
           1.79420943921434,
           3.6760764876809056,
           3.70761747588405,
           3.531130069958564,
           3.6933426569356937
          ],
          [
           "Western Sahara",
           611871.9999999999,
           174803.95989070326,
           431654.7419028998,
           4124.233819396024,
           517.4194776850917,
           3617.505730979988,
           70.54657541167106,
           28.568713700039112,
           68.3333333333333,
           "Africa",
           "Northern Africa",
           137.295296875,
           2.9681581438789655,
           19.698749339885623,
           1.6516363877684475,
           1.9076775490372628,
           3.704744242973114,
           3.70761747588405,
           3.6953396572657327,
           3.705179884646954
          ],
          [
           "Spain",
           46745211,
           23713925.17369445,
           23031276.013000865,
           23713925.17369445,
           4188356.980802118,
           22563870.632705502,
           49.26980865056073,
           50.7301703562627,
           100,
           "Europe",
           "Southern Europe",
           4,
           4.810125185594341,
           20.249398654769074,
           0.5102339692518771,
           2.7190432951668324,
           3.676126137292828,
           3.70761747588405,
           3.523828281302337,
           3.6866191414921317
          ],
          [
           "Estonia",
           1325188.0000000002,
           898223.1419185007,
           426873.2029820129,
           898223.1419185007,
           173800.4129441358,
           848797.6831150105,
           32.21227501169742,
           67.78080860364722,
           93,
           "Europe",
           "Northern Europe",
           2.82842700195312,
           9.537745541447503,
           20.249398654769074,
           1.7599663708262798,
           13.152581502945363,
           3.70420837348826,
           3.70761747588405,
           3.697739066997099,
           3.7041708546624506
          ],
          [
           "Ethiopia",
           117876225.99999999,
           57413988.207341634,
           60462237.79265836,
           13642679.446431579,
           234837.7492379858,
           13584993.81437641,
           51.292987436379555,
           48.70701256362045,
           41,
           "Africa",
           "Eastern Africa",
           7.07106787109375,
           3.769761781612912,
           20.249398654769074,
           0.527280720044871,
           1.8651238112114266,
           3.678414637307274,
           3.70761747588405,
           3.5255494354374997,
           3.68993054588727
          ],
          [
           "Finland",
           5548361,
           3734921.3511555777,
           1808976.5165398577,
           3734921.3511555777,
           1922922.3634361231,
           3273370.645187128,
           32.6037998706259,
           67.31575957576621,
           100,
           "Europe",
           "Northern Europe",
           3.16227807617188,
           6.381663331331257,
           20.249398654769074,
           1.21040996451358,
           2.638851358670312,
           3.700932387875508,
           3.70761747588405,
           3.66710173009214,
           3.701764202970942
          ],
          [
           "Fiji",
           902899.0000000001,
           492408.64782234817,
           410394.8177459668,
           365691.1589751554,
           30939.782959625896,
           361392.19173000124,
           45.45301498240298,
           54.536404162851895,
           83,
           "Oceania",
           "Melanesia",
           4,
           3.7739634841916962,
           20.249398654769074,
           0.7840327364355055,
           1.9598523893767417,
           3.6810805460314833,
           3.70761747588405,
           3.610485549728484,
           3.69128884441722
          ],
          [
           "Falkland Islands",
           3527.9999999999995,
           1021.5241011332175,
           2075.7372285955744,
           340.12660859288326,
           127.03090772335497,
           249.8190713769751,
           58.83608924590631,
           28.954764771349705,
           91,
           "Americas",
           "South America",
           14.3178203125,
           5.080057790796972,
           14.555871542488045,
           1.5974448017214926,
           1.9598523893767417,
           3.7020253489231423,
           3.70761747588405,
           3.6898117931067467,
           3.70373827230722
          ],
          [
           "France",
           65426177,
           48699275.31862871,
           16726895.03918244,
           48699275.31862871,
           13507528.160290439,
           44652348.106840484,
           25.566059039614125,
           74.43393080819732,
           93,
           "Europe",
           "Western Europe",
           2.82842700195312,
           8.15281678376974,
           20.249398654769074,
           0.45207860726835064,
           7.880108930900132,
           3.683815470294751,
           3.70761747588405,
           3.4875137429721104,
           3.696016015522054
          ],
          [
           "Faeroe Islands",
           49053.00000000001,
           20482.008597844924,
           28562.635579691138,
           18520.22283074348,
           5653.807945304719,
           18188.988397128298,
           58.22811159295279,
           41.75485413296826,
           100,
           "Europe",
           "Northern Europe",
           5.3851650390625,
           5.772607353323071,
           20.249398654769074,
           0.8858139324053127,
           2.3508287391400913,
           3.678483443701459,
           3.70761747588405,
           3.600634240387327,
           3.6868301418314937
          ],
          [
           "Gabon",
           2278829,
           1150648.8180766588,
           1128167.075319998,
           316745.79534671764,
           8508.082840173623,
           314168.42351072445,
           49.50643840849831,
           50.492986445084675,
           82,
           "Africa",
           "Middle Africa",
           4.47213623046875,
           2.1269689438042825,
           19.698749339885623,
           0.9256978320707011,
           1.678154091507671,
           3.687794666732441,
           3.70761747588405,
           3.620612614316602,
           3.6903735736516152
          ],
          [
           "United Kingdom",
           68207114,
           46370319.85849899,
           21836581.48004471,
           46370319.85849899,
           4411048.323629373,
           44959903.95488483,
           32.015108394770536,
           67.98457981743515,
           100,
           "Europe",
           "Northern Europe",
           3,
           7.2970780741664925,
           20.249398654769074,
           0.6174494373263439,
           5.1941397597055605,
           3.688970174971613,
           3.70761747588405,
           3.561309341709057,
           3.6952155621637734
          ],
          [
           "Georgia",
           3979773,
           2987287.7370869513,
           992485.2629130487,
           1949645.3321837075,
           134133.76556691766,
           1939760.225382288,
           24.938238007872528,
           75.06176199212747,
           82,
           "Asia",
           "Western Asia",
           2.82842700195312,
           3.591702606911815,
           20.249398654769074,
           0.461006637886859,
           1.3786248182442153,
           3.6282423288298884,
           3.70761747588405,
           3.4941049307711327,
           3.6378364441769917
          ],
          [
           "Ghana",
           31732128.000000004,
           21286442.395030018,
           10445685.604969984,
           6562548.52601907,
           2432820.3571359846,
           5608607.439554477,
           32.91832682942027,
           67.08167317057972,
           35,
           "Africa",
           "Western Africa",
           4.24264111328125,
           5.464756527896624,
           20.249398654769074,
           0.8356713498014969,
           2.4736016037524124,
           3.698187623386529,
           3.70761747588405,
           3.6203366111069712,
           3.699590372292617
          ],
          [
           "Guinea",
           13497237,
           9758806.783180993,
           3738430.2168190065,
           849038.5809434295,
           221332.0528715979,
           784085.6916455562,
           27.697744485178756,
           72.30225551482124,
           25,
           "Africa",
           "Western Africa",
           3.16227807617188,
           3.999710878572666,
           20.249398654769074,
           0.9681787214787699,
           2.316196119229668,
           3.687297146057001,
           3.70761747588405,
           3.6236675502850137,
           3.693180007487923
          ],
          [
           "Guadeloupe",
           400012.99999999994,
           159783.3247639597,
           240229.67523604026,
           59994.87389204366,
           8557.08971022485,
           53281.98430784397,
           60.055467006332364,
           39.94453299366764,
           86.1428571428572,
           "Americas",
           "Caribbean",
           22.4722109375,
           13.089712339245418,
           20.249398654769074,
           0.8833589595936067,
           14.952659139618165,
           3.6927601145552336,
           3.70761747588405,
           3.6071796832463434,
           3.7042637174369752
          ],
          [
           "Gambia",
           2486936.9999999995,
           1577123.7144024884,
           909813.2855975112,
           1175129.5822621635,
           734371.3271638154,
           790455.9811663347,
           36.583688513119206,
           63.416311486880794,
           77,
           "Africa",
           "Western Africa",
           4.24264111328125,
           13.93368115565161,
           19.698749339885623,
           1.9185139959167876,
           15.586055443476269,
           3.7045387672324575,
           3.70761747588405,
           3.701585434173218,
           3.704459132849684
          ],
          [
           "Guinea-Bissau",
           2015489.9999999998,
           1045351.1675274931,
           970138.8324725067,
           405901.80056994426,
           181251.96184479506,
           334118.35363329423,
           48.134142688502884,
           51.86585731149711,
           35,
           "Africa",
           "Western Africa",
           3.60555102539062,
           9.655126883206902,
           19.698749339885623,
           1.4868852144773932,
           12.043834076734814,
           3.702058931066681,
           3.70761747588405,
           3.6796548879821707,
           3.702229372716008
          ],
          [
           "Equatorial Guinea",
           1449891,
           844571.314623718,
           605319.6853762819,
           200758.78866284897,
           7198.78557834891,
           199569.1437930683,
           41.74932359579319,
           58.2506764042068,
           41,
           "Africa",
           "Middle Africa",
           3.16227807617188,
           2.2718399643207228,
           15.085783092804487,
           0.8306164656866657,
           1.997858018853148,
           3.684275693304983,
           3.70761747588405,
           3.6156808431575875,
           3.6912029258565755
          ],
          [
           "Greece",
           10370747,
           3210099.249704596,
           7160573.091035611,
           3210099.249704596,
           523286.9459675902,
           3137136.62762278,
           69.04587577959053,
           30.95340431797822,
           100,
           "Europe",
           "Southern Europe",
           8,
           4.724258428157882,
           20.249398654769074,
           0.49627795274187825,
           2.1151822691036393,
           3.666193416894026,
           3.70761747588405,
           3.5196187907998286,
           3.6728741974603447
          ],
          [
           "Grenada",
           113014.99999999997,
           52693.701752142406,
           60321.29824785757,
           27007.646048182083,
           3451.227668776813,
           27007.646048182083,
           53.37459474216484,
           46.625405257835176,
           92,
           "Americas",
           "Caribbean",
           9.219544921875,
           7.687424067597242,
           20.249398654769074,
           1.8451207862530192,
           4.3275884146834365,
           3.692556224563347,
           3.70761747588405,
           3.6398472488030964,
           3.70761747588405
          ],
          [
           "Greenland",
           56867.99999999999,
           17422.57454047856,
           37478.41760775091,
           16599.059658255115,
           3850.984418954073,
           16599.059658255115,
           65.90423016063677,
           30.63686878469185,
           100,
           "Americas",
           "Northern America",
           18.027759765625,
           1.6063647366472509,
           1.9598523893767417,
           0.7859615346300728,
           1.6510601565260854,
           3.6906533594221176,
           3.70761747588405,
           3.610876140588706,
           3.695971718115805
          ],
          [
           "Guatemala",
           18249868,
           11065162.291390948,
           7184705.708609053,
           6916984.99199429,
           947089.621596897,
           6864107.855170195,
           39.36853520589329,
           60.63146479410671,
           77,
           "Americas",
           "Central America",
           3.60555102539062,
           3.9364170977463697,
           20.249398654769074,
           0.5405268992810932,
           1.9169263398489527,
           3.6649608615752562,
           3.70761747588405,
           3.5190155095785967,
           3.681729218868674
          ],
          [
           "French Guiana",
           306450,
           235808.37436099997,
           69767.42810726365,
           173700.48310626656,
           67904.97798753693,
           167113.70766169028,
           22.766333205176586,
           76.94840083569913,
           88,
           "Americas",
           "South America",
           3,
           3.1476327397595596,
           20.249398654769074,
           1.0273039437041445,
           1.6868887495207556,
           3.692763135861072,
           3.70761747588405,
           3.64842139508922,
           3.6952133176865787
          ],
          [
           "Guyana",
           790329,
           625933.4444077344,
           160781.52325370742,
           385139.01124653156,
           160425.11290373286,
           361471.4329900828,
           20.34361933494879,
           79.1990986548304,
           65,
           "Americas",
           "South America",
           2.82842700195312,
           2.529226542690666,
           19.698749339885623,
           0.8296698255559014,
           1.7756304281893733,
           3.6935975582895626,
           3.70761747588405,
           3.618680921161893,
           3.6992966772839857
          ],
          [
           "Hong Kong",
           7552800,
           1069601.5921036568,
           6483198.407896344,
           0,
           0,
           0,
           85.83834350037527,
           14.161656499624733,
           100,
           "Asia",
           "Eastern Asia",
           25,
           6.460943885986132,
           19.698749339885623,
           1.7714429302045398,
           3.159308529190503,
           3.6897253196515214,
           3.70761747588405,
           3.629504407350071,
           3.7040974126939243
          ],
          [
           "Honduras",
           10062994,
           5605919.234659364,
           4457074.134396355,
           5019150.453381453,
           977402.5556687409,
           4930618.497349327,
           44.29173001987633,
           55.708263710177754,
           92,
           "Americas",
           "Central America",
           3.16227807617188,
           3.2354291021885544,
           20.249398654769074,
           0.5016616062118111,
           1.6505516078353182,
           3.6550853860477868,
           3.70761747588405,
           3.522236953672101,
           3.65159973386168
          ],
          [
           "Croatia",
           4081657,
           2477411.548143726,
           1604227.4299504478,
           2124050.3854812626,
           665421.0175590981,
           1953173.30715803,
           39.30333758937725,
           60.69622087656376,
           94.5,
           "Europe",
           "Southern Europe",
           3.60555102539062,
           9.073029255328963,
           20.249398654769074,
           0.8004702657039102,
           6.349449835948775,
           3.686346530777194,
           3.70761747588405,
           3.5983433493872816,
           3.6930924572914083
          ],
          [
           "Haiti",
           11541683,
           6455908.244616613,
           5085774.732531473,
           1170652.0282350061,
           146095.36120594482,
           1145113.0630013642,
           44.06441185857793,
           55.93558794342742,
           19,
           "Americas",
           "Caribbean",
           4.12310498046875,
           5.069043592295863,
           20.249398654769074,
           0.5941092287319816,
           2.2686167253413183,
           3.6639117023801395,
           3.70761747588405,
           3.539272572913507,
           3.6684099652586255
          ],
          [
           "Hungary",
           9634162,
           6690938.261445299,
           2943223.738554702,
           6690938.261445299,
           1945851.7817174394,
           6075623.6312804,
           30.54986763306141,
           69.4501323669386,
           100,
           "Europe",
           "Eastern Europe",
           2.82842700195312,
           12.820404120449872,
           20.249398654769074,
           0.9596451633548119,
           16.151782160844164,
           3.700416806916903,
           3.70761747588405,
           3.6397572472359556,
           3.705371295263326
          ],
          [
           "Indonesia",
           276361787.99999994,
           230993053.82851258,
           45368351.08650165,
           28232448.50004681,
           8565093.316743556,
           26639935.34133606,
           16.41628946419382,
           83.58357191860136,
           35,
           "Asia",
           "South-Eastern Asia",
           4.12310498046875,
           3.066595684473993,
           20.249398654769074,
           0.44192178986579755,
           1.937846064331307,
           3.6756055273407675,
           3.70761747588405,
           3.4897706386288436,
           3.69712323004669
          ],
          [
           "Isle of Man",
           85410,
           33231.335548409515,
           52178.66445159048,
           29814.935548409514,
           1329.6197823258274,
           28485.315766083688,
           61.09198507386778,
           38.9080149261322,
           98,
           "Europe",
           "Northern Europe",
           4.47213623046875,
           18.87357030433226,
           20.249398654769074,
           16.490521403595665,
           19.37718057948215,
           3.6916292538655164,
           3.70761747588405,
           3.659409303285046,
           3.6974894264840037
          ],
          [
           "India",
           1393409033,
           1154355026.3182995,
           239053974.05239117,
           439342977.6162023,
           234324535.32716817,
           352525362.669896,
           17.156051697017467,
           82.8439459612933,
           44,
           "Asia",
           "Southern Asia",
           3.60555102539062,
           10.370670516304129,
           20.249398654769074,
           0.28516384184367594,
           12.402064968898742,
           3.6832523801305683,
           3.70761747588405,
           3.3441302538284874,
           3.702509137568672
          ],
          [
           "Ireland",
           4982904,
           3274593.492389715,
           1708273.5206885368,
           3274593.492389715,
           849168.8312030255,
           3071001.7849431545,
           34.28268978668939,
           65.71656793688409,
           97,
           "Europe",
           "Northern Europe",
           3.16227807617188,
           9.699596466085382,
           20.249398654769074,
           0.8170233266151624,
           8.932016858781651,
           3.6949146009894256,
           3.70761747588405,
           3.6012724469315005,
           3.698889020012234
          ],
          [
           "Iran",
           85028760,
           32900515.311868105,
           52128218.0050801,
           31346766.063411098,
           5449626.5051287785,
           29586449.992681917,
           61.30657204113067,
           38.69339657766161,
           99,
           "Asia",
           "Southern Asia",
           5.3851650390625,
           5.316126255863813,
           20.249398654769074,
           0.47964710490200035,
           1.940146024463316,
           3.678951821848802,
           3.70761747588405,
           3.4973035678745275,
           3.6922116506831517
          ],
          [
           "Iraq",
           41179351,
           28088599.86085344,
           13090751.139146559,
           18693806.80812011,
           4419302.753172266,
           17122204.949704498,
           31.789600421693287,
           68.2103995783067,
           83,
           "Asia",
           "Western Asia",
           3.60555102539062,
           8.254271942710256,
           20.249398654769074,
           0.5100192396505916,
           2.756915921959383,
           3.7000128001697483,
           3.70761747588405,
           3.5261962010319907,
           3.7054997061424872
          ],
          [
           "Iceland",
           343360.00000000006,
           171833.34895791288,
           164744.7310226964,
           171833.34895791288,
           75974.44620401233,
           134844.895618719,
           47.980175624037855,
           50.044661276186176,
           100,
           "Europe",
           "Northern Europe",
           5.3851650390625,
           4.598558939719404,
           20.249398654769074,
           0.6499578388597627,
           1.9598523893767417,
           3.681552882866112,
           3.70761747588405,
           3.5778384878519254,
           3.691245234944814
          ],
          [
           "Israel",
           8789776,
           1465060.571870988,
           7324715.428129012,
           1465060.571870988,
           608724.1571219543,
           1294420.1032570535,
           83.33221948009837,
           16.667780519901623,
           100,
           "Asia",
           "Western Asia",
           16.12451953125,
           7.521682149615605,
           20.249398654769074,
           0.9398451036140947,
           6.487218455325906,
           3.6905156003464583,
           3.70761747588405,
           3.615672570096746,
           3.6929498765935325
          ],
          [
           "Italy",
           60367471,
           39072744.80571585,
           21294672.03863479,
           39039321.32015994,
           9958631.186546603,
           37233790.5576606,
           35.27507726575922,
           64.72483302425547,
           98,
           "Europe",
           "Southern Europe",
           3,
           5.45459556038362,
           20.249398654769074,
           0.46738929744198476,
           2.325066989471873,
           3.658178590363484,
           3.70761747588405,
           3.4984979921078727,
           3.6701754137752585
          ],
          [
           "Jamaica",
           2973462,
           1560867.9342905143,
           1412589.7303099635,
           973731.6759297553,
           208403.3165445338,
           928658.7220288982,
           47.5065674392329,
           52.49328675767554,
           83,
           "Americas",
           "Caribbean",
           4.12310498046875,
           7.2940556398737275,
           20.249398654769074,
           0.5718562618114794,
           4.176811104229962,
           3.6756506727396174,
           3.70761747588405,
           3.5313044181559508,
           3.6795949501945624
          ],
          [
           "Jordan",
           10269022.000000002,
           3410909.6514447522,
           6858112.348555249,
           1710268.5358403109,
           158008.94609131335,
           1662203.4571349956,
           66.78447420363153,
           33.21552579636845,
           89,
           "Asia",
           "Western Asia",
           9.4339814453125,
           5.082946785676444,
           20.249398654769074,
           0.7928172277676738,
           2.6370301712772743,
           3.6961424784357693,
           3.70761747588405,
           3.5966569115940104,
           3.7025975137307485
          ],
          [
           "Japan",
           126050795.99999999,
           93209334.90852612,
           32841359.031022258,
           59102749.146537006,
           10012177.562678766,
           58156676.35440319,
           26.05406714847105,
           73.94585188381208,
           98,
           "Asia",
           "Eastern Asia",
           2.23606811523438,
           5.418002462953495,
           20.249398654769074,
           0.5059215418285634,
           2.3884470778944173,
           3.659707798810941,
           3.70761747588405,
           3.507466740949435,
           3.665682109835311
          ],
          [
           "Kazakhstan",
           18994958.000000004,
           11762120.880398855,
           7231803.048599123,
           5984794.168413791,
           1320140.3250545613,
           5713487.555232107,
           38.07222447451119,
           61.92233160188536,
           81,
           "Asia",
           "Central Asia",
           4.12310498046875,
           3.7767225860185154,
           20.249398654769074,
           0.45933940671548723,
           1.9185139959167876,
           3.700894621309661,
           3.70761747588405,
           3.5000712007432897,
           3.7052736325535784
          ],
          [
           "Kenya",
           54985702,
           31399358.021167424,
           23585992.62725282,
           10757665.008821182,
           3435814.6407444207,
           9843610.150280537,
           42.89477404008195,
           57.104586972750525,
           33,
           "Africa",
           "Eastern Africa",
           4.12310498046875,
           6.3843478345105975,
           20.249398654769074,
           0.5802107098512774,
           2.6304767667916074,
           3.6962640228158223,
           3.70761747588405,
           3.555103296620371,
           3.7022215756086077
          ],
          [
           "Kyrgyzstan",
           6628347,
           4446685.77293263,
           2181642.6400501244,
           4446685.77293263,
           720559.2962304142,
           4376453.764638685,
           32.91382663053284,
           67.08589295238512,
           94,
           "Asia",
           "Central Asia",
           2.82842700195312,
           2.400136200641827,
           20.249398654769074,
           0.4054699520778564,
           0.8674243182365847,
           3.613444011920253,
           3.70761747588405,
           3.4654863024343925,
           3.609171880362442
          ],
          [
           "Cambodia",
           16946445.999999996,
           13676746.337272339,
           3269695.2832251405,
           3941295.7452848284,
           2428732.8953627194,
           3169079.8195526563,
           19.294283197935076,
           80.70569095887328,
           32,
           "Asia",
           "South-Eastern Asia",
           3.16227807617188,
           6.97956837778916,
           20.249398654769074,
           0.704042817753185,
           2.726527300386863,
           3.6973748889895752,
           3.70761747588405,
           3.5924594598350903,
           3.7034234754150845
          ],
          [
           "South Korea",
           51305184,
           30491746.910193786,
           20813419.679242052,
           14558952.379592707,
           2130562.4872223716,
           13997690.771372685,
           40.567868695767764,
           59.43209736893992,
           100,
           "Asia",
           "Eastern Asia",
           4.47213623046875,
           5.282739130433361,
           20.249398654769074,
           0.7199445330707939,
           2.1445612349450434,
           3.664476781558727,
           3.70761747588405,
           3.5717527921900265,
           3.6671112420611887
          ],
          [
           "Kuwait",
           4328553,
           345718.3945241096,
           3982834.6054758905,
           3397.129053284388,
           3397.129053284388,
           0,
           92.01307239338159,
           7.986927606618416,
           91.5,
           "Asia",
           "Western Asia",
           104.995203125,
           8.832896321589114,
           20.249398654769074,
           1.8545426502294922,
           1.9598523893767417,
           3.7055279157183767,
           3.70761747588405,
           3.7002507059069103,
           3.7054997061424872
          ],
          [
           "Laos",
           7379358,
           5908396.161267566,
           1470961.8387324344,
           883894.4723531732,
           350574.2991564704,
           806164.1301725443,
           19.93346628165261,
           80.06653371834739,
           31,
           "Asia",
           "South-Eastern Asia",
           3,
           3.242766931325355,
           17.731004197940326,
           0.521856902493416,
           1.2339476357506065,
           3.6459965761530424,
           3.70761747588405,
           3.531595364516804,
           3.6415373935097017
          ],
          [
           "Lebanon",
           6769151,
           2475024.9861548534,
           4294126.013845146,
           1711082.2686386874,
           64544.268734326804,
           1701738.5055976259,
           63.436700021097856,
           36.56329997890213,
           89,
           "Asia",
           "Western Asia",
           6.7082041015625,
           3.5310816473093474,
           20.249398654769074,
           0.8318131399878461,
           2.1614214846828697,
           3.6557063768458313,
           3.70761747588405,
           3.6008564839191544,
           3.6553771434420486
          ],
          [
           "Liberia",
           5180207.999999999,
           3883547.5175571498,
           1296653.4485652156,
           7574.149445884794,
           870.1544218746315,
           6911.335076299137,
           25.030914754102845,
           74.96894946220597,
           4,
           "Africa",
           "Western Africa",
           4.24264111328125,
           5.161215741415395,
           20.249398654769074,
           1.2409827674984582,
           2.4509610454052453,
           3.696318228748396,
           3.70761747588405,
           3.6491638884627613,
           3.6975877926204
          ],
          [
           "Libya",
           6958537.999999999,
           2022281.0657716899,
           4936154.199504732,
           1182.3099478741842,
           235.6903842407645,
           1076.9416513179747,
           70.93665651469796,
           29.061867101561994,
           78,
           "Africa",
           "Northern Africa",
           223.5755,
           3.038004673512705,
           20.249398654769074,
           0.7684928973917184,
           1.911317024218219,
           3.70246745099601,
           3.70761747588405,
           3.6072691198954314,
           3.7044414495381686
          ],
          [
           "Saint Lucia",
           184401,
           47920.110718046555,
           136480.88928195345,
           44469.60785662322,
           5119.1930244282685,
           44469.60785662322,
           74.0130960688681,
           25.98690393113191,
           97,
           "Americas",
           "Caribbean",
           13.03841015625,
           8.705419169483882,
           20.249398654769074,
           1.178950354150515,
           3.4524469562394073,
           3.6797370984866222,
           3.70761747588405,
           3.630741436347787,
           3.675504838816871
          ],
          [
           "Liechtenstein",
           38254,
           15301.6,
           22952.4,
           15278.6476,
           0,
           15278.6476,
           60.00000000000001,
           40,
           100,
           "Europe",
           "Western Europe",
           3.60555102539062,
           0.6200946952268214,
           0.6231717706175769,
           0.6170176198360657,
           0.6200946952268214,
           3.59383441791629,
           3.667632571348483,
           3.5677201383963975,
           3.5711577316707066
          ],
          [
           "Sri Lanka",
           21497306,
           14773013.60667267,
           6724285.738450197,
           8285580.002081522,
           4065869.100716471,
           7009256.814478148,
           31.279667035721577,
           68.72030200748257,
           39,
           "Asia",
           "Southern Asia",
           3.60555102539062,
           9.901298918631747,
           20.249398654769074,
           0.7385230821582495,
           11.823554330126827,
           3.690131729860832,
           3.70761747588405,
           3.5796377187922896,
           3.701660048706694
          ],
          [
           "Lesotho",
           2159067,
           1449101.7062407702,
           709965.2937592298,
           1136761.0323745813,
           12843.171944195075,
           1135955.9454920415,
           32.882967214969696,
           67.1170327850303,
           69,
           "Africa",
           "Southern Africa",
           2.23606811523438,
           1.5952235864337805,
           9.4410736098502,
           0.6332968103431231,
           1.0013038295518926,
           3.632921692944673,
           3.696915461394588,
           3.5709223259875142,
           3.629056278145164
          ],
          [
           "Lithuania",
           2689862,
           1974443.188886726,
           715418.8111132742,
           1802470.643566918,
           494038.2877796036,
           1674136.1572923462,
           26.59685928546796,
           73.40314071453204,
           96,
           "Europe",
           "Northern Europe",
           2.82842700195312,
           13.080344093688721,
           20.249398654769074,
           1.7674213935246992,
           14.57591755398083,
           3.7033002457354067,
           3.70761747588405,
           3.6953396572657327,
           3.7034234754150845
          ],
          [
           "Luxembourg",
           634813.9999999999,
           282782.17724313046,
           352031.8227568695,
           278006.3477515034,
           46811.101779690965,
           272232.70415979234,
           55.454325638197886,
           44.54567436180212,
           100,
           "Europe",
           "Western Europe",
           4.47213623046875,
           5.161396708117139,
           7.054835137874807,
           2.7695119711118124,
           5.165240185549065,
           3.6857030345907575,
           3.6985211237271263,
           3.66279464888839,
           3.6879261812938866
          ],
          [
           "Latvia",
           1866934,
           1281862.5234626476,
           585071.4765373524,
           1097455.734501144,
           146341.49351985435,
           1045336.4173018553,
           31.33862667546643,
           68.66137332453357,
           94,
           "Europe",
           "Northern Europe",
           3,
           13.907076364868246,
           20.249398654769074,
           1.7583595255454696,
           14.451125265132832,
           3.702941679985219,
           3.70761747588405,
           3.6960858548834477,
           3.7029318733588483
          ],
          [
           "Morocco",
           37344787,
           13106146.342483668,
           24237648.690786824,
           6691267.647187336,
           1655545.2357833167,
           6077145.407990541,
           64.90236158205113,
           35.094982179128955,
           80,
           "Africa",
           "Northern Africa",
           7.07106787109375,
           2.9136990455902394,
           20.249398654769074,
           0.48030925986222234,
           1.815791086975131,
           3.679664401861587,
           3.70761747588405,
           3.511522008387952,
           3.6919772589023667
          ],
          [
           "Moldova",
           4024025.0000000005,
           2999041.366717137,
           1024983.6332828633,
           2016683.4690267153,
           546301.3554781772,
           1917927.6976416607,
           25.471602022424396,
           74.5283979775756,
           72,
           "Europe",
           "Eastern Europe",
           2.82842700195312,
           6.025926040677372,
           18.742850077651486,
           1.3794070420414108,
           5.635996271061481,
           3.689811528933421,
           3.70761747588405,
           3.664142770953137,
           3.6905077018332584
          ],
          [
           "Madagascar",
           28427333,
           9375269.05114959,
           19052052.02616712,
           3148519.482570591,
           571643.2937137411,
           3023620.781220581,
           67.02018802174344,
           32.97977003734255,
           35,
           "Africa",
           "Eastern Africa",
           4,
           2.731959995570536,
           19.698749339885623,
           0.6221715599692471,
           1.9598523893767417,
           3.6816344663901437,
           3.70761747588405,
           3.569371635415095,
           3.6887301786126794
          ],
          [
           "Mexico",
           130262220,
           55410737.21126448,
           74841528.73273006,
           49905290.26839533,
           15363422.28102769,
           43817476.9512048,
           57.45451653804922,
           42.53784190939206,
           98,
           "Americas",
           "Central America",
           5.65685400390625,
           6.319085979940383,
           20.249398654769074,
           0.48678260388595634,
           2.856171259141634,
           3.672219397895928,
           3.70761747588405,
           3.5120137405841785,
           3.687985313422806
          ],
          [
           "North Macedonia",
           2082661,
           1385811.2256218072,
           696849.7743781928,
           1047659.1084462602,
           190959.1018929215,
           1036824.4990518116,
           33.45958724814998,
           66.54041275185001,
           92,
           "Europe",
           "Southern Europe",
           3,
           2.8355694204283375,
           20.249398654769074,
           0.6331397551005079,
           1.2969876145513455,
           3.64926334001865,
           3.70761747588405,
           3.5603161408706736,
           3.651939858867642
          ],
          [
           "Mali",
           20855724.000000004,
           12531404.121722868,
           8316495.544958175,
           2457373.8518638127,
           1114517.5076103243,
           2145811.6696719914,
           39.87632145955793,
           60.08616206142192,
           50,
           "Africa",
           "Western Africa",
           8.54400390625,
           2.885208808034232,
           19.698749339885623,
           1.0789638168207367,
           1.9076775490372628,
           3.703607891648486,
           3.70761747588405,
           3.654320334796647,
           3.7047569225411414
          ],
          [
           "Malta",
           442790,
           152329.88480102608,
           290460.11519897386,
           152329.88480102608,
           3491.5653394089613,
           150730.65719320008,
           65.59771340793013,
           34.40228659206985,
           100,
           "Europe",
           "Southern Europe",
           4.12310498046875,
           13.084501190952077,
           19.698749339885623,
           9.468302256584188,
           10.086451976386423,
           3.6991928897294,
           3.70761747588405,
           3.688649680474114,
           3.6975102513875817
          ],
          [
           "Myanmar",
           54806013.99999999,
           40669258.50827263,
           14136729.554021902,
           10371053.169413228,
           4993488.95235021,
           9362094.508636037,
           25.794120977347312,
           74.2058316962672,
           33,
           "Asia",
           "South-Eastern Asia",
           2.82842700195312,
           3.94119167493929,
           20.249398654769074,
           0.4147214940994888,
           1.7539413854534938,
           3.6576218881838494,
           3.70761747588405,
           3.4720351471072455,
           3.6753153184845777
          ],
          [
           "Montenegro",
           628051.0000000001,
           371841.44576031505,
           256209.554239685,
           230815.847560993,
           34015.89786270689,
           230815.847560993,
           40.79438679974795,
           59.20561320025205,
           89,
           "Europe",
           "Southern Europe",
           3.60555102539062,
           2.619363488619643,
           20.249398654769074,
           0.6413491273189633,
           1.498188084305864,
           3.6420350263579504,
           3.70761747588405,
           3.5570727010486274,
           3.6448090832669253
          ],
          [
           "Mongolia",
           3329281.9999999995,
           2290581.2278028843,
           1017956.0558061228,
           194991.31852714476,
           25976.333443928535,
           193320.031894988,
           30.575843554439757,
           68.80105763954164,
           25,
           "Asia",
           "Eastern Asia",
           3.60555102539062,
           3.786292932758081,
           20.249398654769074,
           0.5197285012153083,
           1.7665738712999088,
           3.683301866693557,
           3.70761747588405,
           3.530642033701615,
           3.695391946389371
          ],
          [
           "Mozambique",
           32163044.999999996,
           17579728.347092573,
           14583306.502430145,
           4951896.786024805,
           2008649.049764833,
           4217026.714661687,
           45.34180921747349,
           54.6581592230853,
           41,
           "Africa",
           "Eastern Africa",
           3.16227807617188,
           5.352885440242777,
           20.249398654769074,
           0.7631580890239926,
           2.425459831505745,
           3.6978698713024523,
           3.70761747588405,
           3.58650691994138,
           3.6999899296913186
          ],
          [
           "Mauritania",
           4775110.000000001,
           1446094.9504431016,
           3303468.7619302096,
           171948.0124433449,
           15942.478200102418,
           162551.0725334319,
           69.1809981744967,
           30.284013361851375,
           53,
           "Africa",
           "Western Africa",
           30.80583984375,
           2.9941002372939076,
           20.249398654769074,
           1.0565887225044306,
           1.9076775490372628,
           3.7039009910134983,
           3.70761747588405,
           3.651834679723685,
           3.7049181307437076
          ],
          [
           "Montserrat",
           4980.999999999999,
           2164.8542419191235,
           2816.1457580808756,
           891.1413847762653,
           680.89220674725,
           273.13364832938356,
           56.53775864446649,
           43.46224135553351,
           98,
           "Americas",
           "Caribbean",
           5,
           11.407204265665031,
           19.82862255612215,
           2.9857859752079143,
           11.407204265665031,
           3.693678729400455,
           3.70761747588405,
           3.6661361939157677,
           3.7072825184015477
          ],
          [
           "Martinique",
           374743.00000000006,
           138697.3459222837,
           236045.65407771635,
           45470.379469635074,
           19948.237818503072,
           27338.962997215047,
           62.98867599333845,
           37.01132400666155,
           86.1428571428571,
           "Americas",
           "Caribbean",
           7.81025,
           9.350444850863642,
           20.249398654769074,
           1.5191236048205792,
           5.260870037466818,
           3.6873584984575842,
           3.70761747588405,
           3.62521136417182,
           3.6951618233267114
          ],
          [
           "Mauritius",
           1273428,
           1018299.4013515005,
           255128.5986484995,
           1018299.4013515005,
           511752.5948767338,
           912798.4593357815,
           20.034787883453127,
           79.96521211654688,
           100,
           "Africa",
           "Eastern Africa",
           2,
           10.963369559337421,
           20.249398654769074,
           1.2109284778153877,
           9.916608010025136,
           3.6973028268484653,
           3.70761747588405,
           3.665425143330055,
           3.698990641779787
          ],
          [
           "Malawi",
           19647681,
           16703794.225434292,
           2943809.599944354,
           4207317.855534309,
           2094153.1614876797,
           3499058.625701745,
           14.98298755941912,
           85.01661964806073,
           22,
           "Africa",
           "Eastern Africa",
           2.82842700195312,
           7.109236234056513,
           20.249398654769074,
           0.6051650265432496,
           5.707852933531766,
           3.6903276377938816,
           3.70761747588405,
           3.5638190805698065,
           3.6972367364232497
          ],
          [
           "Malaysia",
           32776195,
           19816781.220250648,
           12959392.924285686,
           18087137.273681436,
           6860224.375035743,
           15741264.129376762,
           39.53904022198332,
           60.4608961481058,
           95,
           "Asia",
           "South-Eastern Asia",
           3.16227807617188,
           4.280302086308256,
           20.249398654769074,
           0.5111299013000614,
           1.7046249698598985,
           3.6692496669431263,
           3.70761747588405,
           3.526712988275767,
           3.682722153929465
          ],
          [
           "Namibia",
           2587343.9999999995,
           546808.7784283952,
           2027373.9085881289,
           93524.57314936638,
           19992.52262426932,
           84220.29489671862,
           78.3573389772728,
           21.133980577317715,
           81,
           "Africa",
           "Southern Africa",
           30.413810546875,
           3.337839938993034,
           19.311326435197568,
           0.6340193503977185,
           1.937846064331307,
           3.7001253408091133,
           3.70761747588405,
           3.573069595821554,
           3.704737406983547
          ],
          [
           "New Caledonia",
           288217,
           169343.28460457033,
           118767.55168403577,
           79385.24162804925,
           5034.269347586489,
           79144.5554992109,
           41.207684378102535,
           58.75548097599042,
           99,
           "Oceania",
           "Melanesia",
           3.16227807617188,
           6.13549403781848,
           20.249398654769074,
           0.5562900784259343,
           1.9598523893767417,
           3.6643679205370834,
           3.70761747588405,
           3.5460415090310686,
           3.673299760442921
          ],
          [
           "Niger",
           25130809.999999996,
           8581850.723571718,
           16530366.421714464,
           783979.8154369656,
           110941.97293400396,
           732506.5626679768,
           65.77729258115622,
           34.14872311545756,
           40,
           "Africa",
           "Western Africa",
           33.8378515625,
           2.8757534528612374,
           18.926246111576123,
           0.8590665621402908,
           1.9011209680978682,
           3.70272304442332,
           3.7068685438964026,
           3.624419691499711,
           3.7045308810182522
          ],
          [
           "Nigeria",
           211400704,
           150233894.51136002,
           61166809.48863999,
           12228974.536660913,
           2184702.8798055016,
           11685689.221051034,
           28.934061396805937,
           71.06593860319407,
           10,
           "Africa",
           "Western Africa",
           3.60555102539062,
           3.7319770664696885,
           20.249398654769074,
           0.6686849851981089,
           2.481768084476723,
           3.6986866799706677,
           3.70761747588405,
           3.57855326488668,
           3.7011213689317524
          ],
          [
           "Nicaragua",
           6702378.999999999,
           3617173.439237507,
           3085195.1388074555,
           3420254.4747875487,
           1067409.0197232324,
           3064137.8768506087,
           46.03134407659513,
           53.96850042704997,
           70,
           "Americas",
           "Central America",
           4,
           6.108031403719586,
           20.249398654769074,
           0.7719219169609598,
           2.96850598907829,
           3.6863608874912734,
           3.70761747588405,
           3.6079896833747997,
           3.6962097155112965
          ],
          [
           "Netherlands",
           17173094,
           13294025.808513742,
           3879068.1914862567,
           13294025.808513742,
           3509755.2313049682,
           12225722.465188267,
           22.588056592983516,
           77.41194340701647,
           91,
           "Europe",
           "Western Europe",
           2.23606811523438,
           17.229231612604824,
           20.249398654769074,
           1.9598523893767417,
           18.742850077651486,
           3.706364532685614,
           3.70761747588405,
           3.6902517653110434,
           3.70667017748581
          ],
          [
           "Norway",
           5465629,
           3912949.202233687,
           1548956.4991476934,
           3912949.202233687,
           1344679.588620278,
           3717761.3562909714,
           28.33994951263054,
           71.59192843556866,
           100,
           "Europe",
           "Northern Europe",
           2.23606811523438,
           3.312706482344084,
           20.249398654769074,
           0.5727219028051993,
           1.6217526309546235,
           3.6698051916620784,
           3.70761747588405,
           3.501639841261759,
           3.6762155025542373
          ],
          [
           "Nepal",
           29674920.000000004,
           25096800.70110121,
           4578101.588068272,
           12080015.175824812,
           3395874.2041293066,
           11578859.50055227,
           15.427511137581066,
           84.5724291795941,
           50,
           "Asia",
           "Southern Asia",
           2.82842700195312,
           2.9600863391622316,
           19.064767383680906,
           0.4007684209205733,
           0.6921183939694802,
           3.5874828598730937,
           3.70667017748581,
           3.4620479219766747,
           3.567817397426125
          ],
          [
           "New Zealand",
           4860642,
           3348935.296202861,
           1507929.6912122667,
           3348935.296202861,
           1520733.16212642,
           3027242.408134987,
           31.023261766907883,
           68.89903218963381,
           100,
           "Oceania",
           "Australia and New Zealand",
           2.82842700195312,
           4.579886774144902,
           20.249398654769074,
           0.45112486571299487,
           2.1682563774894374,
           3.6651652741790186,
           3.70761747588405,
           3.4953080260186087,
           3.6763365857037558
          ],
          [
           "Oman",
           5223376,
           793482.8616327974,
           4429862.8094208585,
           144411.26704889597,
           7344.378890133631,
           138884.67879237837,
           84.80842293223499,
           15.190996428991468,
           96,
           "Asia",
           "Western Asia",
           53.0094296875,
           3.8054577184406906,
           20.249398654769074,
           0.5131777743059979,
           1.9196548507758884,
           3.696233498699141,
           3.70761747588405,
           3.527053251945833,
           3.705002465052766
          ],
          [
           "Pakistan",
           225199928.99999997,
           196839222.60126817,
           28360702.189645797,
           40628483.76538368,
           15002868.228799751,
           36304093.77748483,
           12.59356622161537,
           87.40643190934053,
           26,
           "Asia",
           "Southern Asia",
           3,
           5.017953524047119,
           20.249398654769074,
           0.36024669259189696,
           1.911317024218219,
           3.6685028289991464,
           3.70761747588405,
           3.4288880745965833,
           3.699060161492752
          ],
          [
           "Panama",
           4381583,
           3024638.3461338677,
           1356856.6169992571,
           2707982.3659203784,
           1022596.184893349,
           2641290.6535326554,
           30.967269523349373,
           69.03072122869446,
           93,
           "Americas",
           "Central America",
           2,
           4.183271304696074,
           20.249398654769074,
           0.5511292796760051,
           1.862137277464761,
           3.669565067599335,
           3.70761747588405,
           3.5439871088577637,
           3.682287479446045
          ],
          [
           "Peru",
           33359415,
           13093045.65481561,
           20266143.94355538,
           11271585.984671243,
           1429181.8352973564,
           10890224.23337124,
           60.75089729108074,
           39.248427032715085,
           90,
           "Americas",
           "South America",
           4.47213623046875,
           2.56739321826557,
           20.249398654769074,
           0.4176531119159679,
           1.73167788147519,
           3.653840797559568,
           3.70761747588405,
           3.4591932583569998,
           3.6849935476790803
          ],
          [
           "Philippines",
           111046909.99999999,
           87233659.55588435,
           23813200.11634274,
           51230321.5706403,
           8364150.180756108,
           50026803.54927584,
           21.444270818830297,
           78.55568385998706,
           66,
           "Asia",
           "South-Eastern Asia",
           2.23606811523438,
           5.309614350681885,
           20.249398654769074,
           0.47516884708392926,
           2.0137985817385484,
           3.6718926208463043,
           3.70761747588405,
           3.508804653530924,
           3.6865954512498575
          ],
          [
           "Papua New Guinea",
           9119005,
           4234759.886375628,
           4883941.190964918,
           872804.6431138616,
           174949.1587218954,
           869262.4592656348,
           53.55782994926439,
           46.43883720181783,
           18,
           "Oceania",
           "Melanesia",
           2.23606811523438,
           2.3218591987145047,
           20.249398654769074,
           0.4854975562396365,
           1.733485193771692,
           3.661061389456678,
           3.70761747588405,
           3.514208710257421,
           3.684986773324374
          ],
          [
           "Poland",
           37797000,
           24892807.615205936,
           12904192.38479406,
           24892807.615205936,
           16297098.533806236,
           19299733.285975054,
           34.14078467813334,
           65.85921532186664,
           89,
           "Europe",
           "Eastern Europe",
           3,
           11.817394116979534,
           19.82862255612215,
           0.5952414875933242,
           13.846785419949157,
           3.7004369710313973,
           3.70761747588405,
           3.5604375871575074,
           3.7029678384763693
          ],
          [
           "Puerto Rico",
           2828246,
           2069746.4230769477,
           758499.1500092363,
           1431941.653824797,
           66345.12152797537,
           1423716.84996493,
           26.81871202184097,
           73.18127288350969,
           100,
           "Americas",
           "Caribbean",
           2.23606811523438,
           6.476508314603893,
           20.249398654769074,
           1.2912141565097963,
           2.9874403044240023,
           3.6807015702862964,
           3.70761747588405,
           3.610669074983547,
           3.6891590120098874
          ],
          [
           "North Korea",
           25887045,
           17162852.78164876,
           8724181.073795773,
           7482744.728191549,
           2292529.12693923,
           6994472.165346011,
           33.700953792894374,
           66.29900315640027,
           100,
           "Asia",
           "Eastern Asia",
           3.60555102539062,
           3.1642315035040474,
           20.249398654769074,
           0.607460131477001,
           1.46954312949435,
           3.6458493124546,
           3.70761747588405,
           3.5645859519299115,
           3.63907961251706
          ],
          [
           "Portugal",
           10167922.999999998,
           5248562.997173427,
           4919360.002826572,
           5102302.825896479,
           673986.1496684403,
           4906279.901588574,
           48.38116892532106,
           51.61883107467895,
           100,
           "Europe",
           "Southern Europe",
           4,
           5.326007243241316,
           20.249398654769074,
           0.8313585538116979,
           3.617490720152553,
           3.682489590178678,
           3.70761747588405,
           3.5854034298258193,
           3.6892056358455054
          ],
          [
           "Paraguay",
           7219640.999999999,
           3992877.873617363,
           3224683.3590695006,
           3992877.873617363,
           1729709.391801634,
           3220130.923657868,
           44.66542531781707,
           55.30576760835287,
           100,
           "Americas",
           "South America",
           4.24264111328125,
           6.2645866310311105,
           20.249398654769074,
           1.0208677323836544,
           2.163190682534343,
           3.7028260992308155,
           3.70761747588405,
           3.6476455480283034,
           3.7061966506882196
          ],
          [
           "Palestine",
           5222756,
           2132382.469351327,
           3090373.530648673,
           684949.6162249501,
           116338.36650545393,
           667229.2606712912,
           59.17131741648802,
           40.828682583511984,
           54,
           "Asia",
           "Western Asia",
           19.104970703125,
           5.608946030931041,
           20.249398654769074,
           1.7353470861998186,
           3.6475145753500646,
           3.6767536555927802,
           3.70761747588405,
           3.635524321060932,
           3.6751873241609374
          ],
          [
           "Qatar",
           2930524.0000000005,
           430782.4625934444,
           2499741.537406556,
           0,
           0,
           0,
           85.30015578806233,
           14.699844211937672,
           100,
           "Asia",
           "Western Asia",
           196.6215,
           15.14722204488761,
           20.249398654769074,
           1.8408497803835917,
           17.540815965115677,
           3.7057412512833436,
           3.70761747588405,
           3.7024007897081868,
           3.7058141552400907
          ],
          [
           "Reunion",
           901695.9999999999,
           498891.27879132173,
           402804.72120867815,
           140628.49510023865,
           21798.523480622247,
           140575.6887949407,
           44.671898423490646,
           55.32810157650936,
           100,
           "Africa",
           "Eastern Africa",
           4.12310498046875,
           4.901857486841118,
           20.249398654769074,
           0.6772434660433586,
           1.940086117855429,
           3.6499968086044956,
           3.70761747588405,
           3.5594571361386933,
           3.6436264433536967
          ],
          [
           "Romania",
           19127772.000000004,
           16778129.13450196,
           2349642.8654980403,
           5274836.093282961,
           1223559.5917733235,
           4912125.241474822,
           12.283933881573034,
           87.71606611842695,
           64,
           "Europe",
           "Eastern Europe",
           3,
           6.542040678775762,
           20.249398654769074,
           0.5484815204990845,
           3.2597892351384576,
           3.676775462149936,
           3.70761747588405,
           3.5429186445285303,
           3.68421014036032
          ],
          [
           "Russia",
           145912021.99999997,
           91838807.8242697,
           53602554.2986399,
           81784011.21738859,
           20777681.16686608,
           74794270.91592194,
           36.73621512738677,
           62.941220720160885,
           94,
           "Europe",
           "Eastern Europe",
           3.16227807617188,
           5.219483286620139,
           20.249398654769074,
           0.4618118116515351,
           1.8712132542146342,
           3.6918521723499045,
           3.70761747588405,
           3.493203794340796,
           3.701660048706694
          ],
          [
           "Rwanda",
           13276517,
           7619681.876836282,
           5656835.123163718,
           4453706.575031089,
           353643.00071675336,
           4435538.779629379,
           42.60782495261158,
           57.39217504738843,
           38,
           "Africa",
           "Eastern Africa",
           3.60555102539062,
           2.673209896427809,
           20.249398654769074,
           0.928395973505209,
           2.272622725340138,
           3.6564036203600967,
           3.70761747588405,
           3.5945371107710957,
           3.6591481419618193
          ],
          [
           "Saudi Arabia",
           35340680,
           5737917.013523062,
           29602702.076207966,
           276229.15016614395,
           77333.89371239941,
           222764.9813997933,
           83.76381573927827,
           16.23601190900419,
           84,
           "Asia",
           "Western Asia",
           216.01159375,
           3.183144478642667,
           20.249398654769074,
           0.5225889935340998,
           1.8778103339104246,
           3.6977909788890417,
           3.70761747588405,
           3.531921549170523,
           3.703357269856399
          ],
          [
           "Sudan",
           44909351,
           22582893.572784252,
           22326414.22449309,
           3404075.572384717,
           340542.86899345263,
           3272146.448922065,
           49.71439962357303,
           50.285504176589534,
           46,
           "Africa",
           "Northern Africa",
           47.85394921875,
           2.92050144444027,
           20.249398654769074,
           0.5773327565789693,
           1.9163274613861325,
           3.7030679284589407,
           3.70761747588405,
           3.554051379435179,
           3.7049181307437076
          ],
          [
           "Senegal",
           17196308,
           4797963.830667527,
           12398344.169332473,
           2321667.893879661,
           567794.3281032476,
           1977076.5224337305,
           72.0988724401335,
           27.901127559866495,
           75,
           "Africa",
           "Western Africa",
           17.46425,
           7.344103999500342,
           20.249398654769074,
           1.5319596035944003,
           2.8440596976703585,
           3.704605735543037,
           3.70761747588405,
           3.673178191330507,
           3.7055806397734417
          ],
          [
           "Singapore",
           5896684.000000001,
           2153170.8264436917,
           3743513.1735563097,
           1257024.4174745812,
           0,
           1257024.4174745812,
           63.48505657682028,
           36.51494342317973,
           100,
           "Asia",
           "South-Eastern Asia",
           10.4403095703125,
           19.88229911151344,
           20.249398654769074,
           19.698749339885623,
           19.698749339885623,
           3.704430241469382,
           3.70761747588405,
           3.696381963722031,
           3.705202979817133
          ],
          [
           "Solomon Islands",
           703995,
           343246.4759144238,
           360460.21970895655,
           147079.22371756958,
           9113.483893389463,
           147079.22371756958,
           51.20209940538734,
           48.75694797753163,
           46,
           "Oceania",
           "Melanesia",
           3.60555102539062,
           1.6007475779493783,
           2.934190864734627,
           0.5608602686069607,
           1.656332401343001,
           3.6757399169498086,
           3.70761747588405,
           3.53048215295488,
           3.6937036690492215
          ],
          [
           "Sierra Leone",
           8141343,
           4506190.104557326,
           3635152.8954426735,
           692832.3976834364,
           82040.70449476507,
           670101.8348247779,
           44.65053118929731,
           55.34946881070268,
           21,
           "Africa",
           "Western Africa",
           3,
           6.200890560965421,
           20.249398654769074,
           0.7622267953171182,
           3.6537382549881077,
           3.691729098627011,
           3.70761747588405,
           3.6059361022864516,
           3.6967347006718247
          ],
          [
           "El Salvador",
           6518500,
           4487428.854930759,
           2031071.1450692404,
           3790479.1988762035,
           310975.6710165662,
           3757417.0294044465,
           31.158566312330144,
           68.84143368766985,
           91,
           "Americas",
           "Central America",
           2.82842700195312,
           5.9111060463876655,
           20.249398654769074,
           1.0746450804452208,
           2.952065161458946,
           3.6728384712241016,
           3.70761747588405,
           3.5916738714404435,
           3.6771881973273066
          ],
          [
           "Somalia",
           16359500,
           8913063.997161826,
           7446391.083701946,
           171111.2395782441,
           10265.239356558925,
           163780.7997749295,
           45.51722903329531,
           54.48249639146567,
           47,
           "Africa",
           "Eastern Africa",
           86.2786171875,
           7.952982575456942,
           20.249398654769074,
           0.7010284131076762,
           2.865540373317817,
           3.700626057945329,
           3.70761747588405,
           3.59170214949514,
           3.7049181307437076
          ],
          [
           "Serbia",
           8697547,
           5752961.735511707,
           2944585.2644882933,
           5123341.22358818,
           1431234.9062600578,
           4749965.927378513,
           33.85535329085653,
           66.14464670914347,
           94,
           "Europe",
           "Eastern Europe",
           3.16227807617188,
           6.852726204117036,
           19.40984401499896,
           0.7145644453818997,
           2.8829620300934797,
           3.675466079612807,
           3.7069476012077756,
           3.5950542213613463,
           3.681034514801448
          ],
          [
           "South Sudan",
           11381377,
           8408046.510813415,
           2973330.489186584,
           93461.4818749795,
           18841.32958286867,
           87583.00145725122,
           26.124523326013925,
           73.87547667398606,
           4,
           "Africa",
           "Middle Africa",
           9.4868330078125,
           3.693698801065815,
           19.40984401499896,
           0.6407880459841914,
           1.940146024463316,
           3.7027896830709874,
           3.7071437862598486,
           3.57512287009488,
           3.7059430950856362
          ],
          [
           "Sao Tome and Principe",
           223364,
           87177.62663744332,
           136167.9341388888,
           79651.61543689806,
           5986.657607099804,
           79051.56572521181,
           60.96234582962734,
           39.02939893512084,
           97,
           "Africa",
           "Middle Africa",
           5.09902001953125,
           6.323666659709785,
           20.249398654769074,
           0.736761799884004,
           3.0335207031536804,
           3.6707338920751744,
           3.70761747588405,
           3.56322871522403,
           3.6829537362274216
          ],
          [
           "Suriname",
           591798,
           487796.7332550474,
           100067.13269242749,
           304582.4063599093,
           92667.68482453111,
           290699.979508841,
           16.909001499232424,
           82.42622199720977,
           80,
           "Americas",
           "South America",
           2.23606811523438,
           3.2762572184642966,
           20.249398654769074,
           0.9389420454212142,
           1.730968074364216,
           3.6949225817979454,
           3.70761747588405,
           3.6368624567445336,
           3.6986167151752425
          ],
          [
           "Slovakia",
           5460726,
           3790893.514839863,
           1669832.4851601368,
           3777364.6351097547,
           1484432.8675814248,
           3515365.847490331,
           30.578946556925523,
           69.42105344307447,
           98,
           "Europe",
           "Eastern Europe",
           2.82842700195312,
           5.929353201783002,
           19.311326435197568,
           0.5948524924102165,
           2.951121350322752,
           3.6710490404017313,
           3.7068685438964026,
           3.560302816778694,
           3.6735543915501623
          ],
          [
           "Slovenia",
           2078723,
           1397765.0513914723,
           680957.9486085278,
           1352307.3328891492,
           407438.21221778804,
           1327684.9431913379,
           32.75847472744217,
           67.24152527255784,
           97.9821428571429,
           "Europe",
           "Southern Europe",
           2.82842700195312,
           3.2269274732943596,
           18.013472145134887,
           0.5582760742791736,
           2.168792031526536,
           3.6546427710325937,
           3.706236671907731,
           3.4864161075716105,
           3.6632440769690167
          ],
          [
           "Sweden",
           10160159,
           8294139.7300860295,
           1855623.4682505166,
           6304900.677473545,
           2799453.939046815,
           5800573.648837227,
           18.263724694175718,
           81.63395602456644,
           88,
           "Europe",
           "Northern Europe",
           2.23606811523438,
           5.878444153728011,
           20.249398654769074,
           0.5878001201348881,
           2.5956496718772177,
           3.695817351348515,
           3.70761747588405,
           3.5578296178992614,
           3.6978984463638676
          ],
          [
           "Eswatini",
           1172369.0000000002,
           842285.545055893,
           330083.4549441073,
           541069.4488715569,
           33636.705719547404,
           539856.119358113,
           28.155252735623954,
           71.84474726437605,
           61,
           "Africa",
           "Southern Africa",
           2.23606811523438,
           4.589484682367432,
           15.898311635124028,
           0.8025677676473632,
           3.5848440719349988,
           3.6757502706134546,
           3.7040120505662255,
           3.614163397432142,
           3.676048441500204
          ],
          [
           "Syria",
           18275703.999999996,
           8959855.476415314,
           9315519.278901957,
           4009924.6490792986,
           998899.6321420638,
           3446645.940526161,
           50.97215012292801,
           49.026048333981095,
           71,
           "Asia",
           "Western Asia",
           8.0622578125,
           6.774591553651466,
           19.064767383680906,
           0.9782958017942287,
           2.7652481614261464,
           3.6997879964504756,
           3.70761747588405,
           3.6164457641885863,
           3.7033310744943306
          ],
          [
           "Chad",
           16914985,
           8636847.797298642,
           8278119.803138442,
           377105.0264366302,
           90412.68637487302,
           349723.764310982,
           48.93956337022139,
           51.060333764993835,
           20,
           "Africa",
           "Middle Africa",
           20,
           2.383355517079747,
           19.311326435197568,
           0.6185386854277009,
           1.9076775490372628,
           3.701629582169192,
           3.70761747588405,
           3.5682103061583725,
           3.7049181307437076
          ],
          [
           "Togo",
           8478242,
           5171618.991598019,
           3306623.0084019806,
           1186845.2515980194,
           401323.7921059552,
           1040009.6098543932,
           39.00128126092627,
           60.99871873907373,
           25,
           "Africa",
           "Western Africa",
           3.60555102539062,
           5.201367882714637,
           20.249398654769074,
           0.9991965881936027,
           2.470557229746322,
           3.696954992800381,
           3.70761747588405,
           3.644961372697761,
           3.6995834181917786
          ],
          [
           "Thailand",
           69950844,
           56123308.323305935,
           13827533.71938461,
           44319946.41527795,
           21348334.804181546,
           38247436.43401762,
           19.767500903040727,
           80.23249629883799,
           81,
           "Asia",
           "South-Eastern Asia",
           2.82842700195312,
           9.163303149569014,
           20.249398654769074,
           0.6387030089567032,
           9.401597746748353,
           3.6844916729177286,
           3.70761747588405,
           3.5692605855276334,
           3.7009180595774778
          ],
          [
           "Tajikistan",
           9749624.999999998,
           5346210.6373035535,
           4403414.362696445,
           3189427.145197021,
           575905.8249165845,
           3095208.59504707,
           45.164961346682006,
           54.835038653317994,
           65,
           "Asia",
           "Central Asia",
           3.60555102539062,
           2.156265972044408,
           20.249398654769074,
           0.3988148854649428,
           0.7729586755898752,
           3.5951113259328022,
           3.70761747588405,
           3.4605965406970567,
           3.5823811228295117
          ],
          [
           "Turkmenistan",
           6117932.999999999,
           5114221.812021149,
           1003591.5293801586,
           547358.4988035263,
           72824.30579585659,
           536891.4620687675,
           16.404094804244483,
           83.59394932931025,
           52,
           "Asia",
           "Central Asia",
           17.691810546875,
           4.6630083306558365,
           19.698749339885623,
           0.7453815464218021,
           2.747931522278166,
           3.7017499903268503,
           3.70761747588405,
           3.5833039142641647,
           3.7048565726154132
          ],
          [
           "Timor",
           1343874.9999999998,
           259670.03476311924,
           1084204.9652368806,
           20642.102223689177,
           3322.0234522051474,
           19008.679664233016,
           80.67751578360195,
           19.32248421639805,
           66,
           "Asia",
           "South-Eastern Asia",
           35,
           4.267057258850578,
           20.249398654769074,
           0.7993539015609392,
           1.9598523893767417,
           3.6570170682120744,
           3.70761747588405,
           3.5815299932497138,
           3.652807146318091
          ],
          [
           "Trinidad and Tobago",
           1403374,
           807859.4508260523,
           595511.2417840277,
           471556.947995212,
           267481.298747449,
           319396.1661058316,
           42.43425072603794,
           57.565513599799644,
           93,
           "Americas",
           "Caribbean",
           5.3851650390625,
           8.70863881246128,
           19.698749339885623,
           0.8638418906768573,
           10.290048108377194,
           3.691971930054376,
           3.70761747588405,
           3.599532508025426,
           3.7011213689317524
          ],
          [
           "Tunisia",
           11935764,
           4126667.34794195,
           7809091.736264085,
           2426361.401166413,
           821023.4433096311,
           1989460.997810079,
           65.42598979222515,
           34.573969022359606,
           93,
           "Africa",
           "Northern Africa",
           14.035669921875,
           5.11682888366417,
           20.249398654769074,
           0.8938923990816169,
           2.323471434022365,
           3.697821731758554,
           3.70761747588405,
           3.6301114789663274,
           3.7014661217827123
          ],
          [
           "Turkey",
           85042736,
           48015102.15429087,
           37027606.96919977,
           39101952.956044175,
           8086674.089432181,
           37551262.971122585,
           43.53999966463893,
           56.4599687318278,
           95,
           "Asia",
           "Western Asia",
           3.60555102539062,
           3.902810318353417,
           20.249398654769074,
           0.4921555407431568,
           2.091578784246601,
           3.6614553733659965,
           3.70761747588405,
           3.501797736502483,
           3.6690595968195168
          ],
          [
           "Taiwan",
           23855008,
           16546342.985902583,
           7308665.014097416,
           10119689.75816657,
           1579633.0740116746,
           9413780.13586451,
           30.63786444379904,
           69.36213555620095,
           86.1428571428571,
           "Asia",
           "Eastern Asia",
           3,
           4.621178264156706,
           20.249398654769074,
           0.45055586367676675,
           0.9788755653858975,
           3.628519368392535,
           3.70761747588405,
           3.49044701322566,
           3.6478761816976357
          ],
          [
           "Tanzania",
           61498438,
           36222407.654790364,
           25275798.438274395,
           13860921.670902878,
           4126863.370375957,
           13501998.791324517,
           41.09990311993679,
           58.899719786038084,
           38,
           "Africa",
           "Eastern Africa",
           3,
           2.591897619307758,
           20.249398654769074,
           0.6059988549772612,
           1.7990963587052655,
           3.6923860454964927,
           3.70761747588405,
           3.5640983394971553,
           3.6977843381099955
          ],
          [
           "Uganda",
           47123533,
           35707616.77965077,
           11415889.37253811,
           8473524.872012584,
           2311278.7300700108,
           8038781.732325408,
           24.225453071479404,
           75.77448995526453,
           23,
           "Africa",
           "Eastern Africa",
           3,
           2.827546768637159,
           20.249398654769074,
           0.579916662309153,
           2.1309408272975516,
           3.6927506859182238,
           3.70761747588405,
           3.5549962816232297,
           3.6979459426834156
          ],
          [
           "Ukraine",
           43466821.99999999,
           38034054.19704602,
           5432719.611637604,
           10438659.313540306,
           3661796.3417915083,
           9208918.507307054,
           12.498543398543388,
           87.50134573225994,
           64,
           "Europe",
           "Eastern Europe",
           3.16227807617188,
           7.587936277915786,
           20.249398654769074,
           0.6656253519216077,
           2.8853152083140294,
           3.6989862500031863,
           3.70761747588405,
           3.5813824381246033,
           3.7022112198988397
          ],
          [
           "Uruguay",
           3485152,
           1136873.8080687972,
           2346938.852193205,
           1136873.8080687972,
           375254.1427143282,
           977364.1853539331,
           67.34107586105871,
           32.62049425875248,
           100,
           "Americas",
           "South America",
           8.0622578125,
           5.942568833514414,
           20.249398654769074,
           1.6762685950511211,
           2.62296911811064,
           3.699637442761304,
           3.70761747588405,
           3.6747209230705593,
           3.7005863638892755
          ],
          [
           "United States",
           332915074.00000006,
           184829893.13857022,
           148006039.77503031,
           178402281.15261114,
           66149821.90834055,
           151025902.5813248,
           44.457596346337354,
           55.518631498966066,
           99,
           "Americas",
           "Northern America",
           4.12310498046875,
           8.678614419043004,
           20.249398654769074,
           0.4725468379143939,
           8.97250270969414,
           3.691297185035202,
           3.70761747588405,
           3.507396776445894,
           3.700388503154204
          ],
          [
           "Uzbekistan",
           33935765.00000001,
           24105436.39162167,
           9830317.972624417,
           12733530.520539712,
           4222597.199007983,
           11684859.059750622,
           28.967427057042666,
           71.03254160211702,
           70,
           "Asia",
           "Central Asia",
           3.60555102539062,
           8.37632361570785,
           19.698749339885623,
           0.4711665527395582,
           1.9598523893767417,
           3.6969472812720583,
           3.70761747588405,
           3.5066496064591024,
           3.705202979817133
          ],
          [
           "Venezuela",
           28704946.999999996,
           13937120.567586077,
           14765379.496985845,
           7963417.133868084,
           1935481.2241401994,
           7228025.978989947,
           51.438448909123046,
           48.55302665281381,
           79,
           "Americas",
           "South America",
           5.3851650390625,
           4.107322978949438,
           20.249398654769074,
           0.449280214065586,
           1.8786120052119948,
           3.684731386287668,
           3.70761747588405,
           3.494215506969247,
           3.7000709120566198
          ],
          [
           "Vietnam",
           98168829.00000001,
           86849039.33281112,
           11319778.10388834,
           47163851.84352025,
           25554497.43165444,
           43445955.589081444,
           11.530929134224815,
           88.4690590867811,
           48,
           "Asia",
           "South-Eastern Asia",
           2.23606811523438,
           5.495226851077614,
           20.249398654769074,
           0.5351316486115159,
           2.1555320096536486,
           3.6620433890685296,
           3.70761747588405,
           3.526490938464763,
           3.6758238152842435
          ],
          [
           "Vanuatu",
           314464,
           220494.87366344949,
           93967.78507364911,
           67207.5023183385,
           5839.757441862358,
           66364.62872848124,
           29.881889524285487,
           70.11768395220103,
           48,
           "Oceania",
           "Melanesia",
           4,
           3.1397834656207073,
           19.698749339885623,
           0.5169421730943372,
           1.9598523893767417,
           3.6813729452844615,
           3.70761747588405,
           3.5293826074573946,
           3.6957716507849288
          ],
          [
           "Samoa",
           200144,
           56037.845926296286,
           144106.1540737037,
           32409.95907267982,
           11992.927443149854,
           30223.368898213426,
           72.00123614682614,
           27.99876385317386,
           84,
           "Oceania",
           "Polynesia",
           6.7082041015625,
           7.875958632300619,
           19.698749339885623,
           0.8424064283144062,
           4.095925347473355,
           3.6834006266969825,
           3.70761747588405,
           3.621534708045325,
           3.688693626930882
          ],
          [
           "Yemen",
           30490638.999999996,
           13112436.58059558,
           17373900.450673006,
           850786.3755673645,
           45409.91441472752,
           829537.0437084752,
           56.981096561056034,
           43.00479429307986,
           56,
           "Asia",
           "Western Asia",
           21.9317109375,
           2.9688332993737636,
           20.249398654769074,
           0.5252296559716552,
           1.792473207460017,
           3.680404056419867,
           3.70761747588405,
           3.5125027379917686,
           3.6920048208923513
          ],
          [
           "South Africa",
           60041995.99999999,
           37386865.70817384,
           22640027.917881556,
           29195197.339505885,
           2936254.4969801637,
           28392840.40600033,
           37.70698748569511,
           62.26785949649949,
           91,
           "Africa",
           "Southern Africa",
           3.16227807617188,
           8.097467542365683,
           20.249398654769074,
           0.5598478390500908,
           7.047376459947169,
           3.688296516200153,
           3.70761747588405,
           3.545073227835345,
           3.69686350866344
          ],
          [
           "Zambia",
           18920657,
           11034961.510112,
           7885695.489888001,
           1322728.4795592686,
           638840.1035569895,
           1015188.3092483277,
           41.67770437299298,
           58.32229562700704,
           32,
           "Africa",
           "Eastern Africa",
           3,
           3.297624484288868,
           20.249398654769074,
           0.873350314359139,
           1.928874520063065,
           3.6994348428652746,
           3.70761747588405,
           3.6268077071306664,
           3.7014479718423656
          ],
          [
           "Zimbabwe",
           15092171,
           9575414.422408294,
           5516756.577591707,
           1163974.8844615896,
           403105.6038411726,
           951559.2202675915,
           36.55376405151854,
           63.44623594848146,
           27,
           "Africa",
           "Eastern Africa",
           3.60555102539062,
           6.974157442476743,
           19.698749339885623,
           0.7125750221814038,
           5.497797426350954,
           3.695519619192721,
           3.70761747588405,
           3.5945693055453303,
           3.6992564846770093
          ]
         ],
         "geo": "geo",
         "hovertemplate": "<b>%{hovertext}</b><br><br>ISOCODE=%{location}<br>Entity=%{customdata[0]}<br>country_pop_raw=%{customdata[1]}<br>country_pop_with_water=%{customdata[2]}<br>country_pop_without_water=%{customdata[3]}<br>population_piped_with_access=%{customdata[4]}<br>population_piped_with_cycling_access=%{customdata[5]}<br>population_piped_with_walking_access=%{customdata[6]}<br>percent_without_water=%{z}<br>percent_with_water=%{customdata[8]}<br>Nat Piped=%{customdata[9]}<br>region=%{customdata[10]}<br>subregion=%{customdata[11]}<br>weighted_med=%{customdata[12]}<br>mean_max_distance_cycling=%{customdata[13]}<br>max_max_distance_cycling=%{customdata[14]}<br>min_max_distance_cycling=%{customdata[15]}<br>median_max_distance_cycling=%{customdata[16]}<br>mean_max_distance_walking=%{customdata[17]}<br>max_max_distance_walking=%{customdata[18]}<br>min_max_distance_walking=%{customdata[19]}<br>median_max_distance_walking=%{customdata[20]}<extra></extra>",
         "hovertext": [
          "Afghanistan",
          "Angola",
          "Albania",
          "Andorra",
          "United Arab Emirates",
          "Argentina",
          "Armenia",
          "Australia",
          "Austria",
          "Azerbaijan",
          "Burundi",
          "Belgium",
          "Benin",
          "Burkina Faso",
          "Bangladesh",
          "Bulgaria",
          "Bahamas",
          "Bosnia and Herzegovina",
          "Belarus",
          "Belize",
          "Bolivia",
          "Brazil",
          "Brunei",
          "Bhutan",
          "Botswana",
          "Central African Republic",
          "Canada",
          "Switzerland",
          "Chile",
          "China",
          "Cote d'Ivoire",
          "Cameroon",
          "Democratic Republic of Congo",
          "Congo",
          "Colombia",
          "Costa Rica",
          "Cuba",
          "Cyprus",
          "Czechia",
          "Germany",
          "Djibouti",
          "Denmark",
          "Dominican Republic",
          "Algeria",
          "Ecuador",
          "Egypt",
          "Eritrea",
          "Western Sahara",
          "Spain",
          "Estonia",
          "Ethiopia",
          "Finland",
          "Fiji",
          "Falkland Islands",
          "France",
          "Faeroe Islands",
          "Gabon",
          "United Kingdom",
          "Georgia",
          "Ghana",
          "Guinea",
          "Guadeloupe",
          "Gambia",
          "Guinea-Bissau",
          "Equatorial Guinea",
          "Greece",
          "Grenada",
          "Greenland",
          "Guatemala",
          "French Guiana",
          "Guyana",
          "Hong Kong",
          "Honduras",
          "Croatia",
          "Haiti",
          "Hungary",
          "Indonesia",
          "Isle of Man",
          "India",
          "Ireland",
          "Iran",
          "Iraq",
          "Iceland",
          "Israel",
          "Italy",
          "Jamaica",
          "Jordan",
          "Japan",
          "Kazakhstan",
          "Kenya",
          "Kyrgyzstan",
          "Cambodia",
          "South Korea",
          "Kuwait",
          "Laos",
          "Lebanon",
          "Liberia",
          "Libya",
          "Saint Lucia",
          "Liechtenstein",
          "Sri Lanka",
          "Lesotho",
          "Lithuania",
          "Luxembourg",
          "Latvia",
          "Morocco",
          "Moldova",
          "Madagascar",
          "Mexico",
          "North Macedonia",
          "Mali",
          "Malta",
          "Myanmar",
          "Montenegro",
          "Mongolia",
          "Mozambique",
          "Mauritania",
          "Montserrat",
          "Martinique",
          "Mauritius",
          "Malawi",
          "Malaysia",
          "Namibia",
          "New Caledonia",
          "Niger",
          "Nigeria",
          "Nicaragua",
          "Netherlands",
          "Norway",
          "Nepal",
          "New Zealand",
          "Oman",
          "Pakistan",
          "Panama",
          "Peru",
          "Philippines",
          "Papua New Guinea",
          "Poland",
          "Puerto Rico",
          "North Korea",
          "Portugal",
          "Paraguay",
          "Palestine",
          "Qatar",
          "Reunion",
          "Romania",
          "Russia",
          "Rwanda",
          "Saudi Arabia",
          "Sudan",
          "Senegal",
          "Singapore",
          "Solomon Islands",
          "Sierra Leone",
          "El Salvador",
          "Somalia",
          "Serbia",
          "South Sudan",
          "Sao Tome and Principe",
          "Suriname",
          "Slovakia",
          "Slovenia",
          "Sweden",
          "Eswatini",
          "Syria",
          "Chad",
          "Togo",
          "Thailand",
          "Tajikistan",
          "Turkmenistan",
          "Timor",
          "Trinidad and Tobago",
          "Tunisia",
          "Turkey",
          "Taiwan",
          "Tanzania",
          "Uganda",
          "Ukraine",
          "Uruguay",
          "United States",
          "Uzbekistan",
          "Venezuela",
          "Vietnam",
          "Vanuatu",
          "Samoa",
          "Yemen",
          "South Africa",
          "Zambia",
          "Zimbabwe"
         ],
         "locations": [
          "AFG",
          "AGO",
          "ALB",
          "AND",
          "ARE",
          "ARG",
          "ARM",
          "AUS",
          "AUT",
          "AZE",
          "BDI",
          "BEL",
          "BEN",
          "BFA",
          "BGD",
          "BGR",
          "BHS",
          "BIH",
          "BLR",
          "BLZ",
          "BOL",
          "BRA",
          "BRN",
          "BTN",
          "BWA",
          "CAF",
          "CAN",
          "CHE",
          "CHL",
          "CHN",
          "CIV",
          "CMR",
          "COD",
          "COG",
          "COL",
          "CRI",
          "CUB",
          "CYP",
          "CZE",
          "DEU",
          "DJI",
          "DNK",
          "DOM",
          "DZA",
          "ECU",
          "EGY",
          "ERI",
          "ESH",
          "ESP",
          "EST",
          "ETH",
          "FIN",
          "FJI",
          "FLK",
          "FRA",
          "FRO",
          "GAB",
          "GBR",
          "GEO",
          "GHA",
          "GIN",
          "GLP",
          "GMB",
          "GNB",
          "GNQ",
          "GRC",
          "GRD",
          "GRL",
          "GTM",
          "GUF",
          "GUY",
          "HKG",
          "HND",
          "HRV",
          "HTI",
          "HUN",
          "IDN",
          "IMN",
          "IND",
          "IRL",
          "IRN",
          "IRQ",
          "ISL",
          "ISR",
          "ITA",
          "JAM",
          "JOR",
          "JPN",
          "KAZ",
          "KEN",
          "KGZ",
          "KHM",
          "KOR",
          "KWT",
          "LAO",
          "LBN",
          "LBR",
          "LBY",
          "LCA",
          "LIE",
          "LKA",
          "LSO",
          "LTU",
          "LUX",
          "LVA",
          "MAR",
          "MDA",
          "MDG",
          "MEX",
          "MKD",
          "MLI",
          "MLT",
          "MMR",
          "MNE",
          "MNG",
          "MOZ",
          "MRT",
          "MSR",
          "MTQ",
          "MUS",
          "MWI",
          "MYS",
          "NAM",
          "NCL",
          "NER",
          "NGA",
          "NIC",
          "NLD",
          "NOR",
          "NPL",
          "NZL",
          "OMN",
          "PAK",
          "PAN",
          "PER",
          "PHL",
          "PNG",
          "POL",
          "PRI",
          "PRK",
          "PRT",
          "PRY",
          "PSE",
          "QAT",
          "REU",
          "ROU",
          "RUS",
          "RWA",
          "SAU",
          "SDN",
          "SEN",
          "SGP",
          "SLB",
          "SLE",
          "SLV",
          "SOM",
          "SRB",
          "SSD",
          "STP",
          "SUR",
          "SVK",
          "SVN",
          "SWE",
          "SWZ",
          "SYR",
          "TCD",
          "TGO",
          "THA",
          "TJK",
          "TKM",
          "TLS",
          "TTO",
          "TUN",
          "TUR",
          "TWN",
          "TZA",
          "UGA",
          "UKR",
          "URY",
          "USA",
          "UZB",
          "VEN",
          "VNM",
          "VUT",
          "WSM",
          "YEM",
          "ZAF",
          "ZMB",
          "ZWE"
         ],
         "name": "",
         "type": "choropleth",
         "z": [
          31.724930718522025,
          63.51449335786389,
          20.868288579747066,
          57.77374600839643,
          99.99987555387794,
          48.97557969744773,
          33.62971899393891,
          29.536633876473605,
          26.41349159759745,
          28.50653126712843,
          37.83648318972518,
          34.84173512076031,
          41.67224174359262,
          33.494791872102766,
          7.942463317410074,
          39.06949159371888,
          39.64783884003219,
          40.272362424545264,
          26.86832235528257,
          16.344983126161107,
          32.65982347313927,
          48.65764475376136,
          40.22662089318823,
          56.598683830886856,
          76.12703043363027,
          50.67109186791584,
          31.86601534323577,
          32.48543283603975,
          48.76752040874635,
          30.373664156203922,
          41.55025445997147,
          39.54028296391167,
          67.04550290658469,
          49.086358823718065,
          40.50113123659615,
          40.53486686471147,
          33.49618234693945,
          52.66213974898049,
          34.87791931467916,
          33.83169017089113,
          68.45686510850774,
          33.76768402053084,
          39.903215365148434,
          43.39292079990924,
          49.139717996992296,
          48.47058511101487,
          56.922111090422476,
          70.54657541167106,
          49.26980865056073,
          32.21227501169742,
          51.292987436379555,
          32.6037998706259,
          45.45301498240298,
          58.83608924590631,
          25.566059039614125,
          58.22811159295279,
          49.50643840849831,
          32.015108394770536,
          24.938238007872528,
          32.91832682942027,
          27.697744485178756,
          60.055467006332364,
          36.583688513119206,
          48.134142688502884,
          41.74932359579319,
          69.04587577959053,
          53.37459474216484,
          65.90423016063677,
          39.36853520589329,
          22.766333205176586,
          20.34361933494879,
          85.83834350037527,
          44.29173001987633,
          39.30333758937725,
          44.06441185857793,
          30.54986763306141,
          16.41628946419382,
          61.09198507386778,
          17.156051697017467,
          34.28268978668939,
          61.30657204113067,
          31.789600421693287,
          47.980175624037855,
          83.33221948009837,
          35.27507726575922,
          47.5065674392329,
          66.78447420363153,
          26.05406714847105,
          38.07222447451119,
          42.89477404008195,
          32.91382663053284,
          19.294283197935076,
          40.567868695767764,
          92.01307239338159,
          19.93346628165261,
          63.436700021097856,
          25.030914754102845,
          70.93665651469796,
          74.0130960688681,
          60.00000000000001,
          31.279667035721577,
          32.882967214969696,
          26.59685928546796,
          55.454325638197886,
          31.33862667546643,
          64.90236158205113,
          25.471602022424396,
          67.02018802174344,
          57.45451653804922,
          33.45958724814998,
          39.87632145955793,
          65.59771340793013,
          25.794120977347312,
          40.79438679974795,
          30.575843554439757,
          45.34180921747349,
          69.1809981744967,
          56.53775864446649,
          62.98867599333845,
          20.034787883453127,
          14.98298755941912,
          39.53904022198332,
          78.3573389772728,
          41.207684378102535,
          65.77729258115622,
          28.934061396805937,
          46.03134407659513,
          22.588056592983516,
          28.33994951263054,
          15.427511137581066,
          31.023261766907883,
          84.80842293223499,
          12.59356622161537,
          30.967269523349373,
          60.75089729108074,
          21.444270818830297,
          53.55782994926439,
          34.14078467813334,
          26.81871202184097,
          33.700953792894374,
          48.38116892532106,
          44.66542531781707,
          59.17131741648802,
          85.30015578806233,
          44.671898423490646,
          12.283933881573034,
          36.73621512738677,
          42.60782495261158,
          83.76381573927827,
          49.71439962357303,
          72.0988724401335,
          63.48505657682028,
          51.20209940538734,
          44.65053118929731,
          31.158566312330144,
          45.51722903329531,
          33.85535329085653,
          26.124523326013925,
          60.96234582962734,
          16.909001499232424,
          30.578946556925523,
          32.75847472744217,
          18.263724694175718,
          28.155252735623954,
          50.97215012292801,
          48.93956337022139,
          39.00128126092627,
          19.767500903040727,
          45.164961346682006,
          16.404094804244483,
          80.67751578360195,
          42.43425072603794,
          65.42598979222515,
          43.53999966463893,
          30.63786444379904,
          41.09990311993679,
          24.225453071479404,
          12.498543398543388,
          67.34107586105871,
          44.457596346337354,
          28.967427057042666,
          51.438448909123046,
          11.530929134224815,
          29.881889524285487,
          72.00123614682614,
          56.981096561056034,
          37.70698748569511,
          41.67770437299298,
          36.55376405151854
         ]
        }
       ],
       "layout": {
        "coloraxis": {
         "cmax": 100,
         "cmin": 0,
         "colorbar": {
          "title": {
           "text": ""
          }
         },
         "colorscale": [
          [
           0,
           "rgb(255,255,229)"
          ],
          [
           0.125,
           "rgb(255,247,188)"
          ],
          [
           0.25,
           "rgb(254,227,145)"
          ],
          [
           0.375,
           "rgb(254,196,79)"
          ],
          [
           0.5,
           "rgb(254,153,41)"
          ],
          [
           0.625,
           "rgb(236,112,20)"
          ],
          [
           0.75,
           "rgb(204,76,2)"
          ],
          [
           0.875,
           "rgb(153,52,4)"
          ],
          [
           1,
           "rgb(102,37,6)"
          ]
         ]
        },
        "geo": {
         "center": {},
         "domain": {
          "x": [
           0,
           1
          ],
          "y": [
           0,
           1
          ]
         },
         "scope": "world"
        },
        "height": 600,
        "legend": {
         "tracegroupgap": 0
        },
        "template": {
         "data": {
          "bar": [
           {
            "error_x": {
             "color": "#2a3f5f"
            },
            "error_y": {
             "color": "#2a3f5f"
            },
            "marker": {
             "line": {
              "color": "#E5ECF6",
              "width": 0.5
             },
             "pattern": {
              "fillmode": "overlay",
              "size": 10,
              "solidity": 0.2
             }
            },
            "type": "bar"
           }
          ],
          "barpolar": [
           {
            "marker": {
             "line": {
              "color": "#E5ECF6",
              "width": 0.5
             },
             "pattern": {
              "fillmode": "overlay",
              "size": 10,
              "solidity": 0.2
             }
            },
            "type": "barpolar"
           }
          ],
          "carpet": [
           {
            "aaxis": {
             "endlinecolor": "#2a3f5f",
             "gridcolor": "white",
             "linecolor": "white",
             "minorgridcolor": "white",
             "startlinecolor": "#2a3f5f"
            },
            "baxis": {
             "endlinecolor": "#2a3f5f",
             "gridcolor": "white",
             "linecolor": "white",
             "minorgridcolor": "white",
             "startlinecolor": "#2a3f5f"
            },
            "type": "carpet"
           }
          ],
          "choropleth": [
           {
            "colorbar": {
             "outlinewidth": 0,
             "ticks": ""
            },
            "type": "choropleth"
           }
          ],
          "contour": [
           {
            "colorbar": {
             "outlinewidth": 0,
             "ticks": ""
            },
            "colorscale": [
             [
              0,
              "#0d0887"
             ],
             [
              0.1111111111111111,
              "#46039f"
             ],
             [
              0.2222222222222222,
              "#7201a8"
             ],
             [
              0.3333333333333333,
              "#9c179e"
             ],
             [
              0.4444444444444444,
              "#bd3786"
             ],
             [
              0.5555555555555556,
              "#d8576b"
             ],
             [
              0.6666666666666666,
              "#ed7953"
             ],
             [
              0.7777777777777778,
              "#fb9f3a"
             ],
             [
              0.8888888888888888,
              "#fdca26"
             ],
             [
              1,
              "#f0f921"
             ]
            ],
            "type": "contour"
           }
          ],
          "contourcarpet": [
           {
            "colorbar": {
             "outlinewidth": 0,
             "ticks": ""
            },
            "type": "contourcarpet"
           }
          ],
          "heatmap": [
           {
            "colorbar": {
             "outlinewidth": 0,
             "ticks": ""
            },
            "colorscale": [
             [
              0,
              "#0d0887"
             ],
             [
              0.1111111111111111,
              "#46039f"
             ],
             [
              0.2222222222222222,
              "#7201a8"
             ],
             [
              0.3333333333333333,
              "#9c179e"
             ],
             [
              0.4444444444444444,
              "#bd3786"
             ],
             [
              0.5555555555555556,
              "#d8576b"
             ],
             [
              0.6666666666666666,
              "#ed7953"
             ],
             [
              0.7777777777777778,
              "#fb9f3a"
             ],
             [
              0.8888888888888888,
              "#fdca26"
             ],
             [
              1,
              "#f0f921"
             ]
            ],
            "type": "heatmap"
           }
          ],
          "heatmapgl": [
           {
            "colorbar": {
             "outlinewidth": 0,
             "ticks": ""
            },
            "colorscale": [
             [
              0,
              "#0d0887"
             ],
             [
              0.1111111111111111,
              "#46039f"
             ],
             [
              0.2222222222222222,
              "#7201a8"
             ],
             [
              0.3333333333333333,
              "#9c179e"
             ],
             [
              0.4444444444444444,
              "#bd3786"
             ],
             [
              0.5555555555555556,
              "#d8576b"
             ],
             [
              0.6666666666666666,
              "#ed7953"
             ],
             [
              0.7777777777777778,
              "#fb9f3a"
             ],
             [
              0.8888888888888888,
              "#fdca26"
             ],
             [
              1,
              "#f0f921"
             ]
            ],
            "type": "heatmapgl"
           }
          ],
          "histogram": [
           {
            "marker": {
             "pattern": {
              "fillmode": "overlay",
              "size": 10,
              "solidity": 0.2
             }
            },
            "type": "histogram"
           }
          ],
          "histogram2d": [
           {
            "colorbar": {
             "outlinewidth": 0,
             "ticks": ""
            },
            "colorscale": [
             [
              0,
              "#0d0887"
             ],
             [
              0.1111111111111111,
              "#46039f"
             ],
             [
              0.2222222222222222,
              "#7201a8"
             ],
             [
              0.3333333333333333,
              "#9c179e"
             ],
             [
              0.4444444444444444,
              "#bd3786"
             ],
             [
              0.5555555555555556,
              "#d8576b"
             ],
             [
              0.6666666666666666,
              "#ed7953"
             ],
             [
              0.7777777777777778,
              "#fb9f3a"
             ],
             [
              0.8888888888888888,
              "#fdca26"
             ],
             [
              1,
              "#f0f921"
             ]
            ],
            "type": "histogram2d"
           }
          ],
          "histogram2dcontour": [
           {
            "colorbar": {
             "outlinewidth": 0,
             "ticks": ""
            },
            "colorscale": [
             [
              0,
              "#0d0887"
             ],
             [
              0.1111111111111111,
              "#46039f"
             ],
             [
              0.2222222222222222,
              "#7201a8"
             ],
             [
              0.3333333333333333,
              "#9c179e"
             ],
             [
              0.4444444444444444,
              "#bd3786"
             ],
             [
              0.5555555555555556,
              "#d8576b"
             ],
             [
              0.6666666666666666,
              "#ed7953"
             ],
             [
              0.7777777777777778,
              "#fb9f3a"
             ],
             [
              0.8888888888888888,
              "#fdca26"
             ],
             [
              1,
              "#f0f921"
             ]
            ],
            "type": "histogram2dcontour"
           }
          ],
          "mesh3d": [
           {
            "colorbar": {
             "outlinewidth": 0,
             "ticks": ""
            },
            "type": "mesh3d"
           }
          ],
          "parcoords": [
           {
            "line": {
             "colorbar": {
              "outlinewidth": 0,
              "ticks": ""
             }
            },
            "type": "parcoords"
           }
          ],
          "pie": [
           {
            "automargin": true,
            "type": "pie"
           }
          ],
          "scatter": [
           {
            "fillpattern": {
             "fillmode": "overlay",
             "size": 10,
             "solidity": 0.2
            },
            "type": "scatter"
           }
          ],
          "scatter3d": [
           {
            "line": {
             "colorbar": {
              "outlinewidth": 0,
              "ticks": ""
             }
            },
            "marker": {
             "colorbar": {
              "outlinewidth": 0,
              "ticks": ""
             }
            },
            "type": "scatter3d"
           }
          ],
          "scattercarpet": [
           {
            "marker": {
             "colorbar": {
              "outlinewidth": 0,
              "ticks": ""
             }
            },
            "type": "scattercarpet"
           }
          ],
          "scattergeo": [
           {
            "marker": {
             "colorbar": {
              "outlinewidth": 0,
              "ticks": ""
             }
            },
            "type": "scattergeo"
           }
          ],
          "scattergl": [
           {
            "marker": {
             "colorbar": {
              "outlinewidth": 0,
              "ticks": ""
             }
            },
            "type": "scattergl"
           }
          ],
          "scattermapbox": [
           {
            "marker": {
             "colorbar": {
              "outlinewidth": 0,
              "ticks": ""
             }
            },
            "type": "scattermapbox"
           }
          ],
          "scatterpolar": [
           {
            "marker": {
             "colorbar": {
              "outlinewidth": 0,
              "ticks": ""
             }
            },
            "type": "scatterpolar"
           }
          ],
          "scatterpolargl": [
           {
            "marker": {
             "colorbar": {
              "outlinewidth": 0,
              "ticks": ""
             }
            },
            "type": "scatterpolargl"
           }
          ],
          "scatterternary": [
           {
            "marker": {
             "colorbar": {
              "outlinewidth": 0,
              "ticks": ""
             }
            },
            "type": "scatterternary"
           }
          ],
          "surface": [
           {
            "colorbar": {
             "outlinewidth": 0,
             "ticks": ""
            },
            "colorscale": [
             [
              0,
              "#0d0887"
             ],
             [
              0.1111111111111111,
              "#46039f"
             ],
             [
              0.2222222222222222,
              "#7201a8"
             ],
             [
              0.3333333333333333,
              "#9c179e"
             ],
             [
              0.4444444444444444,
              "#bd3786"
             ],
             [
              0.5555555555555556,
              "#d8576b"
             ],
             [
              0.6666666666666666,
              "#ed7953"
             ],
             [
              0.7777777777777778,
              "#fb9f3a"
             ],
             [
              0.8888888888888888,
              "#fdca26"
             ],
             [
              1,
              "#f0f921"
             ]
            ],
            "type": "surface"
           }
          ],
          "table": [
           {
            "cells": {
             "fill": {
              "color": "#EBF0F8"
             },
             "line": {
              "color": "white"
             }
            },
            "header": {
             "fill": {
              "color": "#C8D4E3"
             },
             "line": {
              "color": "white"
             }
            },
            "type": "table"
           }
          ]
         },
         "layout": {
          "annotationdefaults": {
           "arrowcolor": "#2a3f5f",
           "arrowhead": 0,
           "arrowwidth": 1
          },
          "autotypenumbers": "strict",
          "coloraxis": {
           "colorbar": {
            "outlinewidth": 0,
            "ticks": ""
           }
          },
          "colorscale": {
           "diverging": [
            [
             0,
             "#8e0152"
            ],
            [
             0.1,
             "#c51b7d"
            ],
            [
             0.2,
             "#de77ae"
            ],
            [
             0.3,
             "#f1b6da"
            ],
            [
             0.4,
             "#fde0ef"
            ],
            [
             0.5,
             "#f7f7f7"
            ],
            [
             0.6,
             "#e6f5d0"
            ],
            [
             0.7,
             "#b8e186"
            ],
            [
             0.8,
             "#7fbc41"
            ],
            [
             0.9,
             "#4d9221"
            ],
            [
             1,
             "#276419"
            ]
           ],
           "sequential": [
            [
             0,
             "#0d0887"
            ],
            [
             0.1111111111111111,
             "#46039f"
            ],
            [
             0.2222222222222222,
             "#7201a8"
            ],
            [
             0.3333333333333333,
             "#9c179e"
            ],
            [
             0.4444444444444444,
             "#bd3786"
            ],
            [
             0.5555555555555556,
             "#d8576b"
            ],
            [
             0.6666666666666666,
             "#ed7953"
            ],
            [
             0.7777777777777778,
             "#fb9f3a"
            ],
            [
             0.8888888888888888,
             "#fdca26"
            ],
            [
             1,
             "#f0f921"
            ]
           ],
           "sequentialminus": [
            [
             0,
             "#0d0887"
            ],
            [
             0.1111111111111111,
             "#46039f"
            ],
            [
             0.2222222222222222,
             "#7201a8"
            ],
            [
             0.3333333333333333,
             "#9c179e"
            ],
            [
             0.4444444444444444,
             "#bd3786"
            ],
            [
             0.5555555555555556,
             "#d8576b"
            ],
            [
             0.6666666666666666,
             "#ed7953"
            ],
            [
             0.7777777777777778,
             "#fb9f3a"
            ],
            [
             0.8888888888888888,
             "#fdca26"
            ],
            [
             1,
             "#f0f921"
            ]
           ]
          },
          "colorway": [
           "#636efa",
           "#EF553B",
           "#00cc96",
           "#ab63fa",
           "#FFA15A",
           "#19d3f3",
           "#FF6692",
           "#B6E880",
           "#FF97FF",
           "#FECB52"
          ],
          "font": {
           "color": "#2a3f5f"
          },
          "geo": {
           "bgcolor": "white",
           "lakecolor": "white",
           "landcolor": "#E5ECF6",
           "showlakes": true,
           "showland": true,
           "subunitcolor": "white"
          },
          "hoverlabel": {
           "align": "left"
          },
          "hovermode": "closest",
          "mapbox": {
           "style": "light"
          },
          "paper_bgcolor": "white",
          "plot_bgcolor": "#E5ECF6",
          "polar": {
           "angularaxis": {
            "gridcolor": "white",
            "linecolor": "white",
            "ticks": ""
           },
           "bgcolor": "#E5ECF6",
           "radialaxis": {
            "gridcolor": "white",
            "linecolor": "white",
            "ticks": ""
           }
          },
          "scene": {
           "xaxis": {
            "backgroundcolor": "#E5ECF6",
            "gridcolor": "white",
            "gridwidth": 2,
            "linecolor": "white",
            "showbackground": true,
            "ticks": "",
            "zerolinecolor": "white"
           },
           "yaxis": {
            "backgroundcolor": "#E5ECF6",
            "gridcolor": "white",
            "gridwidth": 2,
            "linecolor": "white",
            "showbackground": true,
            "ticks": "",
            "zerolinecolor": "white"
           },
           "zaxis": {
            "backgroundcolor": "#E5ECF6",
            "gridcolor": "white",
            "gridwidth": 2,
            "linecolor": "white",
            "showbackground": true,
            "ticks": "",
            "zerolinecolor": "white"
           }
          },
          "shapedefaults": {
           "line": {
            "color": "#2a3f5f"
           }
          },
          "ternary": {
           "aaxis": {
            "gridcolor": "white",
            "linecolor": "white",
            "ticks": ""
           },
           "baxis": {
            "gridcolor": "white",
            "linecolor": "white",
            "ticks": ""
           },
           "bgcolor": "#E5ECF6",
           "caxis": {
            "gridcolor": "white",
            "linecolor": "white",
            "ticks": ""
           }
          },
          "title": {
           "x": 0.05
          },
          "xaxis": {
           "automargin": true,
           "gridcolor": "white",
           "linecolor": "white",
           "ticks": "",
           "title": {
            "standoff": 15
           },
           "zerolinecolor": "white",
           "zerolinewidth": 2
          },
          "yaxis": {
           "automargin": true,
           "gridcolor": "white",
           "linecolor": "white",
           "ticks": "",
           "title": {
            "standoff": 15
           },
           "zerolinecolor": "white",
           "zerolinewidth": 2
          }
         }
        },
        "title": {
         "text": "Percent of Population Has to Relocate"
        }
       }
      }
     },
     "metadata": {},
     "output_type": "display_data"
    }
   ],
   "source": [
    "# create choropleth map of population with water from df_country\n",
    "\n",
    "hover_data_list =[\n",
    "    \"Entity\",\n",
    "    \"country_pop_raw\",\n",
    "    \"country_pop_with_water\",\n",
    "    \"country_pop_without_water\",\n",
    "    \"population_piped_with_access\",\n",
    "    \"population_piped_with_cycling_access\",\n",
    "    \"population_piped_with_walking_access\",\n",
    "    \"percent_without_water\",\n",
    "    \"percent_with_water\",\n",
    "    \"Nat Piped\",\n",
    "    \"region\",\n",
    "    \"subregion\",\n",
    "    \"weighted_med\",\n",
    "    \"mean_max_distance_cycling\", \n",
    "    \"max_max_distance_cycling\", \n",
    "    \"min_max_distance_cycling\",\n",
    "    \"median_max_distance_cycling\", \n",
    "    \"mean_max_distance_walking\", \n",
    "    \"max_max_distance_walking\",\n",
    "    \"min_max_distance_walking\", \n",
    "    \"median_max_distance_walking\",\n",
    "    ]\n",
    "\n",
    "\n",
    "choro = px.choropleth(\n",
    "    title=\"Percent of Population Has to Relocate\",\n",
    "    data_frame=df_countries,\n",
    "    locations=\"ISOCODE\",\n",
    "    height=600,\n",
    "    color=\"percent_without_water\",\n",
    "    # use constant colorbar grading (not relative)\n",
    "    color_continuous_scale=\"ylorbr\",\n",
    "    range_color=(0, 100),\n",
    "    scope=\"world\",\n",
    "    hover_name=\"Entity\",\n",
    "    hover_data=hover_data_list\n",
    ")\n",
    "choro.layout.coloraxis.colorbar.title = ''\n",
    "choro.show()\n",
    "\n"
   ]
  },
  {
   "cell_type": "code",
   "execution_count": null,
   "metadata": {},
   "outputs": [
    {
     "data": {
      "image/png": "[encoded data removed]",
      "text/plain": [
       "<Figure size 1500x500 with 2 Axes>"
      ]
     },
     "metadata": {},
     "output_type": "display_data"
    }
   ],
   "source": [
    "# plot distribution of max distance walking and cycling\n",
    "fig, ax = plt.subplots(1, 2, figsize=(15, 5))\n",
    "df_countries[\"mean_max_distance_cycling\"].hist(bins=50, ax=ax[0])\n",
    "ax[0].set_title(\"Mean Max Distance Cycling (Countries)\")\n",
    "ax[0].set_xlabel(\"One-way distance (km)\")\n",
    "df_countries[\"mean_max_distance_walking\"].hist(bins=50, ax=ax[1])\n",
    "ax[1].set_title(\"Mean Max Distance Walking (Countries)\")\n",
    "ax[1].set_xlabel(\"One-way distance (km)\")\n",
    "plt.show()"
   ]
  },
  {
   "cell_type": "code",
   "execution_count": null,
   "metadata": {},
   "outputs": [
    {
     "data": {
      "image/png": "[encoded data removed]",
      "text/plain": [
       "<Figure size 1500x500 with 2 Axes>"
      ]
     },
     "metadata": {},
     "output_type": "display_data"
    }
   ],
   "source": [
    "# plot distribution of max distance walking and cycling in df_zones\n",
    "fig, ax = plt.subplots(1, 2, figsize=(15, 5))\n",
    "df_zones[\"max distance cycling\"].hist(bins=50, ax=ax[0])\n",
    "ax[0].set_title(\"Max Distance Cycling (5-Arcminute Zones)\")\n",
    "ax[0].set_xlabel(\"One-way distance (km)\")\n",
    "df_zones[\"max distance walking\"].hist(bins=50, ax=ax[1])\n",
    "ax[1].set_title(\"Max Distance Walking (5-Arcminute Zones)\")\n",
    "ax[1].set_xlabel(\"One-way distance (km)\")\n",
    "plt.show()\n"
   ]
  },
  {
   "cell_type": "code",
   "execution_count": null,
   "metadata": {},
   "outputs": [
    {
     "data": {
      "image/png": "[encoded data removed]",
      "text/plain": [
       "<Figure size 1500x500 with 1 Axes>"
      ]
     },
     "metadata": {},
     "output_type": "display_data"
    }
   ],
   "source": [
    "# plot dominant road type vs max distance cycling\n",
    "fig, ax = plt.subplots(1, 1, figsize=(15, 5))\n",
    "df_zones.boxplot(column=\"max distance cycling\", by=\"dominant_road_type\", ax=ax)\n",
    "plt.show()\n",
    "\n"
   ]
  },
  {
   "cell_type": "code",
   "execution_count": null,
   "metadata": {},
   "outputs": [
    {
     "data": {
      "application/vnd.plotly.v1+json": {
       "config": {
        "plotlyServerURL": "https://plot.ly"
       },
       "data": [
        {
         "branchvalues": "total",
         "customdata": [
          [
           "Angola",
           33933611,
           12380849.895321628,
           21552761.10467837,
           3374813.597010544,
           186696.2972979347,
           3303393.6395109696,
           63.51449335786389,
           36.48550664213611,
           42,
           "Africa",
           "Middle Africa",
           4.12310498046875,
           2.542966059874252,
           19.698749339885623,
           0.6891785463548531,
           1.9193981760442658,
           3.6952598750647088,
           3.70761747588405,
           3.5886628567364696,
           3.697389597528078,
           63.51449335786389
          ],
          [
           "Botswana",
           2397240,
           571753.8219755113,
           1824947.6243671582,
           151829.00487742928,
           55477.864604415096,
           117306.57246038235,
           76.12703043363027,
           23.850503995240828,
           91,
           "Africa",
           "Southern Africa",
           33.94112890625,
           4.820255472406296,
           19.40984401499896,
           1.528071183736294,
           2.7807866032800663,
           3.705861082265166,
           3.70761747588405,
           3.6830699962530042,
           3.7065583855707462,
           76.12703043363027
          ],
          [
           "Democratic Republic of Congo",
           92377986,
           30442369.95456866,
           61935285.2886744,
           8428263.189611483,
           1434380.4037878036,
           8192346.229629749,
           67.04550290658469,
           32.95413904625358,
           35,
           "Africa",
           "Middle Africa",
           3,
           3.518621762921006,
           20.249398654769074,
           0.48000035879524117,
           1.8577901020626815,
           3.693355490629339,
           3.70761747588405,
           3.5113602911252624,
           3.6965846619659333,
           67.04550290658469
          ],
          [
           "Djibouti",
           1002197,
           316124.35158848856,
           686072.6484115114,
           10363.028870854318,
           1448.2071212742035,
           9655.63545806432,
           68.45686510850774,
           31.543134891492247,
           83,
           "Africa",
           "Eastern Africa",
           38.83298046875,
           6.707244812113075,
           19.698749339885623,
           0.8530098708810098,
           4.505337288689839,
           3.6846377136829105,
           3.70761747588405,
           3.60216377049365,
           3.6912775211708326,
           68.45686510850774
          ],
          [
           "Greece",
           10370747,
           3210099.249704596,
           7160573.091035611,
           3210099.249704596,
           523286.9459675902,
           3137136.62762278,
           69.04587577959053,
           30.95340431797822,
           100,
           "Europe",
           "Southern Europe",
           8,
           4.724258428157882,
           20.249398654769074,
           0.49627795274187825,
           2.1151822691036393,
           3.666193416894026,
           3.70761747588405,
           3.5196187907998286,
           3.6728741974603447,
           69.04587577959053
          ],
          [
           "Greenland",
           56867.99999999999,
           17422.57454047856,
           37478.41760775091,
           16599.059658255115,
           3850.984418954073,
           16599.059658255115,
           65.90423016063677,
           30.63686878469185,
           100,
           "Americas",
           "Northern America",
           18.027759765625,
           1.6063647366472509,
           1.9598523893767417,
           0.7859615346300728,
           1.6510601565260854,
           3.6906533594221176,
           3.70761747588405,
           3.610876140588706,
           3.695971718115805,
           65.90423016063677
          ],
          [
           "Hong Kong",
           7552800,
           1069601.5921036568,
           6483198.407896344,
           0,
           0,
           0,
           85.83834350037527,
           14.161656499624733,
           100,
           "Asia",
           "Eastern Asia",
           25,
           6.460943885986132,
           19.698749339885623,
           1.7714429302045398,
           3.159308529190503,
           3.6897253196515214,
           3.70761747588405,
           3.629504407350071,
           3.7040974126939243,
           85.83834350037527
          ],
          [
           "Israel",
           8789776,
           1465060.571870988,
           7324715.428129012,
           1465060.571870988,
           608724.1571219543,
           1294420.1032570535,
           83.33221948009837,
           16.667780519901623,
           100,
           "Asia",
           "Western Asia",
           16.12451953125,
           7.521682149615605,
           20.249398654769074,
           0.9398451036140947,
           6.487218455325906,
           3.6905156003464583,
           3.70761747588405,
           3.615672570096746,
           3.6929498765935325,
           83.33221948009837
          ],
          [
           "Jordan",
           10269022.000000002,
           3410909.6514447522,
           6858112.348555249,
           1710268.5358403109,
           158008.94609131335,
           1662203.4571349956,
           66.78447420363153,
           33.21552579636845,
           89,
           "Asia",
           "Western Asia",
           9.4339814453125,
           5.082946785676444,
           20.249398654769074,
           0.7928172277676738,
           2.6370301712772743,
           3.6961424784357693,
           3.70761747588405,
           3.5966569115940104,
           3.7025975137307485,
           66.78447420363153
          ],
          [
           "Kuwait",
           4328553,
           345718.3945241096,
           3982834.6054758905,
           3397.129053284388,
           3397.129053284388,
           0,
           92.01307239338159,
           7.986927606618416,
           91.5,
           "Asia",
           "Western Asia",
           104.995203125,
           8.832896321589114,
           20.249398654769074,
           1.8545426502294922,
           1.9598523893767417,
           3.7055279157183767,
           3.70761747588405,
           3.7002507059069103,
           3.7054997061424872,
           92.01307239338159
          ],
          [
           "Lebanon",
           6769151,
           2475024.9861548534,
           4294126.013845146,
           1711082.2686386874,
           64544.268734326804,
           1701738.5055976259,
           63.436700021097856,
           36.56329997890213,
           89,
           "Asia",
           "Western Asia",
           6.7082041015625,
           3.5310816473093474,
           20.249398654769074,
           0.8318131399878461,
           2.1614214846828697,
           3.6557063768458313,
           3.70761747588405,
           3.6008564839191544,
           3.6553771434420486,
           63.436700021097856
          ],
          [
           "Libya",
           6958537.999999999,
           2022281.0657716899,
           4936154.199504732,
           1182.3099478741842,
           235.6903842407645,
           1076.9416513179747,
           70.93665651469796,
           29.061867101561994,
           78,
           "Africa",
           "Northern Africa",
           223.5755,
           3.038004673512705,
           20.249398654769074,
           0.7684928973917184,
           1.911317024218219,
           3.70246745099601,
           3.70761747588405,
           3.6072691198954314,
           3.7044414495381686,
           70.93665651469796
          ],
          [
           "Madagascar",
           28427333,
           9375269.05114959,
           19052052.02616712,
           3148519.482570591,
           571643.2937137411,
           3023620.781220581,
           67.02018802174344,
           32.97977003734255,
           35,
           "Africa",
           "Eastern Africa",
           4,
           2.731959995570536,
           19.698749339885623,
           0.6221715599692471,
           1.9598523893767417,
           3.6816344663901437,
           3.70761747588405,
           3.569371635415095,
           3.6887301786126794,
           67.02018802174344
          ],
          [
           "Malta",
           442790,
           152329.88480102608,
           290460.11519897386,
           152329.88480102608,
           3491.5653394089613,
           150730.65719320008,
           65.59771340793013,
           34.40228659206985,
           100,
           "Europe",
           "Southern Europe",
           4.12310498046875,
           13.084501190952077,
           19.698749339885623,
           9.468302256584188,
           10.086451976386423,
           3.6991928897294,
           3.70761747588405,
           3.688649680474114,
           3.6975102513875817,
           65.59771340793013
          ],
          [
           "Mauritania",
           4775110.000000001,
           1446094.9504431016,
           3303468.7619302096,
           171948.0124433449,
           15942.478200102418,
           162551.0725334319,
           69.1809981744967,
           30.284013361851375,
           53,
           "Africa",
           "Western Africa",
           30.80583984375,
           2.9941002372939076,
           20.249398654769074,
           1.0565887225044306,
           1.9076775490372628,
           3.7039009910134983,
           3.70761747588405,
           3.651834679723685,
           3.7049181307437076,
           69.1809981744967
          ],
          [
           "Morocco",
           37344787,
           13106146.342483668,
           24237648.690786824,
           6691267.647187336,
           1655545.2357833167,
           6077145.407990541,
           64.90236158205113,
           35.094982179128955,
           80,
           "Africa",
           "Northern Africa",
           7.07106787109375,
           2.9136990455902394,
           20.249398654769074,
           0.48030925986222234,
           1.815791086975131,
           3.679664401861587,
           3.70761747588405,
           3.511522008387952,
           3.6919772589023667,
           64.90236158205113
          ],
          [
           "Namibia",
           2587343.9999999995,
           546808.7784283952,
           2027373.9085881289,
           93524.57314936638,
           19992.52262426932,
           84220.29489671862,
           78.3573389772728,
           21.133980577317715,
           81,
           "Africa",
           "Southern Africa",
           30.413810546875,
           3.337839938993034,
           19.311326435197568,
           0.6340193503977185,
           1.937846064331307,
           3.7001253408091133,
           3.70761747588405,
           3.573069595821554,
           3.704737406983547,
           78.3573389772728
          ],
          [
           "Niger",
           25130809.999999996,
           8581850.723571718,
           16530366.421714464,
           783979.8154369656,
           110941.97293400396,
           732506.5626679768,
           65.77729258115622,
           34.14872311545756,
           40,
           "Africa",
           "Western Africa",
           33.8378515625,
           2.8757534528612374,
           18.926246111576123,
           0.8590665621402908,
           1.9011209680978682,
           3.70272304442332,
           3.7068685438964026,
           3.624419691499711,
           3.7045308810182522,
           65.77729258115622
          ],
          [
           "Oman",
           5223376,
           793482.8616327974,
           4429862.8094208585,
           144411.26704889597,
           7344.378890133631,
           138884.67879237837,
           84.80842293223499,
           15.190996428991468,
           96,
           "Asia",
           "Western Asia",
           53.0094296875,
           3.8054577184406906,
           20.249398654769074,
           0.5131777743059979,
           1.9196548507758884,
           3.696233498699141,
           3.70761747588405,
           3.527053251945833,
           3.705002465052766,
           84.80842293223499
          ],
          [
           "Qatar",
           2930524.0000000005,
           430782.4625934444,
           2499741.537406556,
           0,
           0,
           0,
           85.30015578806233,
           14.699844211937672,
           100,
           "Asia",
           "Western Asia",
           196.6215,
           15.14722204488761,
           20.249398654769074,
           1.8408497803835917,
           17.540815965115677,
           3.7057412512833436,
           3.70761747588405,
           3.7024007897081868,
           3.7058141552400907,
           85.30015578806233
          ],
          [
           "Saint Lucia",
           184401,
           47920.110718046555,
           136480.88928195345,
           44469.60785662322,
           5119.1930244282685,
           44469.60785662322,
           74.0130960688681,
           25.98690393113191,
           97,
           "Americas",
           "Caribbean",
           13.03841015625,
           8.705419169483882,
           20.249398654769074,
           1.178950354150515,
           3.4524469562394073,
           3.6797370984866222,
           3.70761747588405,
           3.630741436347787,
           3.675504838816871,
           74.0130960688681
          ],
          [
           "Samoa",
           200144,
           56037.845926296286,
           144106.1540737037,
           32409.95907267982,
           11992.927443149854,
           30223.368898213426,
           72.00123614682614,
           27.99876385317386,
           84,
           "Oceania",
           "Polynesia",
           6.7082041015625,
           7.875958632300619,
           19.698749339885623,
           0.8424064283144062,
           4.095925347473355,
           3.6834006266969825,
           3.70761747588405,
           3.621534708045325,
           3.688693626930882,
           72.00123614682614
          ],
          [
           "Saudi Arabia",
           35340680,
           5737917.013523062,
           29602702.076207966,
           276229.15016614395,
           77333.89371239941,
           222764.9813997933,
           83.76381573927827,
           16.23601190900419,
           84,
           "Asia",
           "Western Asia",
           216.01159375,
           3.183144478642667,
           20.249398654769074,
           0.5225889935340998,
           1.8778103339104246,
           3.6977909788890417,
           3.70761747588405,
           3.531921549170523,
           3.703357269856399,
           83.76381573927827
          ],
          [
           "Senegal",
           17196308,
           4797963.830667527,
           12398344.169332473,
           2321667.893879661,
           567794.3281032476,
           1977076.5224337305,
           72.0988724401335,
           27.901127559866495,
           75,
           "Africa",
           "Western Africa",
           17.46425,
           7.344103999500342,
           20.249398654769074,
           1.5319596035944003,
           2.8440596976703585,
           3.704605735543037,
           3.70761747588405,
           3.673178191330507,
           3.7055806397734417,
           72.0988724401335
          ],
          [
           "Singapore",
           5896684.000000001,
           2153170.8264436917,
           3743513.1735563097,
           1257024.4174745812,
           0,
           1257024.4174745812,
           63.48505657682028,
           36.51494342317973,
           100,
           "Asia",
           "South-Eastern Asia",
           10.4403095703125,
           19.88229911151344,
           20.249398654769074,
           19.698749339885623,
           19.698749339885623,
           3.704430241469382,
           3.70761747588405,
           3.696381963722031,
           3.705202979817133,
           63.48505657682028
          ],
          [
           "Timor",
           1343874.9999999998,
           259670.03476311924,
           1084204.9652368806,
           20642.102223689177,
           3322.0234522051474,
           19008.679664233016,
           80.67751578360195,
           19.32248421639805,
           66,
           "Asia",
           "South-Eastern Asia",
           35,
           4.267057258850578,
           20.249398654769074,
           0.7993539015609392,
           1.9598523893767417,
           3.6570170682120744,
           3.70761747588405,
           3.5815299932497138,
           3.652807146318091,
           80.67751578360195
          ],
          [
           "Tunisia",
           11935764,
           4126667.34794195,
           7809091.736264085,
           2426361.401166413,
           821023.4433096311,
           1989460.997810079,
           65.42598979222515,
           34.573969022359606,
           93,
           "Africa",
           "Northern Africa",
           14.035669921875,
           5.11682888366417,
           20.249398654769074,
           0.8938923990816169,
           2.323471434022365,
           3.697821731758554,
           3.70761747588405,
           3.6301114789663274,
           3.7014661217827123,
           65.42598979222515
          ],
          [
           "United Arab Emirates",
           9991083,
           0,
           9991070.566484654,
           0,
           0,
           0,
           99.99987555387796,
           0,
           100,
           "Asia",
           "Western Asia",
           171.819703125,
           4.801331632506854,
           20.249398654769074,
           0.609613227892352,
           1.8868694359095572,
           3.6995584800548578,
           3.70761747588405,
           3.5509438881817625,
           3.703800831336071,
           99.99987555387796
          ],
          [
           "Uruguay",
           3485152,
           1136873.8080687972,
           2346938.852193205,
           1136873.8080687972,
           375254.1427143282,
           977364.1853539331,
           67.34107586105871,
           32.62049425875248,
           100,
           "Americas",
           "South America",
           8.0622578125,
           5.942568833514414,
           20.249398654769074,
           1.6762685950511211,
           2.62296911811064,
           3.699637442761304,
           3.70761747588405,
           3.6747209230705593,
           3.7005863638892755,
           67.34107586105871
          ],
          [
           "Western Sahara",
           611871.9999999999,
           174803.95989070326,
           431654.7419028998,
           4124.233819396024,
           517.4194776850917,
           3617.505730979988,
           70.54657541167106,
           28.568713700039112,
           68.3333333333333,
           "Africa",
           "Northern Africa",
           137.295296875,
           2.9681581438789655,
           19.698749339885623,
           1.6516363877684475,
           1.9076775490372628,
           3.704744242973114,
           3.70761747588405,
           3.6953396572657327,
           3.705179884646954,
           70.54657541167106
          ]
         ],
         "domain": {
          "x": [
           0,
           1
          ],
          "y": [
           0,
           1
          ]
         },
         "hovertemplate": "labels=%{label}<br>percent_without_water_sum=%{value}<br>parent=%{parent}<br>id=%{id}<br>Entity=%{customdata[0]}<br>country_pop_raw=%{customdata[1]}<br>country_pop_with_water=%{customdata[2]}<br>country_pop_without_water=%{customdata[3]}<br>population_piped_with_access=%{customdata[4]}<br>population_piped_with_cycling_access=%{customdata[5]}<br>population_piped_with_walking_access=%{customdata[6]}<br>percent_without_water=%{color}<br>percent_with_water=%{customdata[8]}<br>Nat Piped=%{customdata[9]}<br>region=%{customdata[10]}<br>subregion=%{customdata[11]}<br>weighted_med=%{customdata[12]}<br>mean_max_distance_cycling=%{customdata[13]}<br>max_max_distance_cycling=%{customdata[14]}<br>min_max_distance_cycling=%{customdata[15]}<br>median_max_distance_cycling=%{customdata[16]}<br>mean_max_distance_walking=%{customdata[17]}<br>max_max_distance_walking=%{customdata[18]}<br>min_max_distance_walking=%{customdata[19]}<br>median_max_distance_walking=%{customdata[20]}<extra></extra>",
         "ids": [
          "Angola",
          "Botswana",
          "Democratic Republic of Congo",
          "Djibouti",
          "Greece",
          "Greenland",
          "Hong Kong",
          "Israel",
          "Jordan",
          "Kuwait",
          "Lebanon",
          "Libya",
          "Madagascar",
          "Malta",
          "Mauritania",
          "Morocco",
          "Namibia",
          "Niger",
          "Oman",
          "Qatar",
          "Saint Lucia",
          "Samoa",
          "Saudi Arabia",
          "Senegal",
          "Singapore",
          "Timor",
          "Tunisia",
          "United Arab Emirates",
          "Uruguay",
          "Western Sahara"
         ],
         "labels": [
          "Angola",
          "Botswana",
          "Democratic Republic of Congo",
          "Djibouti",
          "Greece",
          "Greenland",
          "Hong Kong",
          "Israel",
          "Jordan",
          "Kuwait",
          "Lebanon",
          "Libya",
          "Madagascar",
          "Malta",
          "Mauritania",
          "Morocco",
          "Namibia",
          "Niger",
          "Oman",
          "Qatar",
          "Saint Lucia",
          "Samoa",
          "Saudi Arabia",
          "Senegal",
          "Singapore",
          "Timor",
          "Tunisia",
          "United Arab Emirates",
          "Uruguay",
          "Western Sahara"
         ],
         "marker": {
          "coloraxis": "coloraxis",
          "colors": [
           63.51449335786389,
           76.12703043363027,
           67.04550290658469,
           68.45686510850774,
           69.04587577959053,
           65.90423016063677,
           85.83834350037527,
           83.33221948009837,
           66.78447420363153,
           92.01307239338159,
           63.436700021097856,
           70.93665651469796,
           67.02018802174344,
           65.59771340793013,
           69.1809981744967,
           64.90236158205113,
           78.3573389772728,
           65.77729258115622,
           84.80842293223499,
           85.30015578806233,
           74.0130960688681,
           72.00123614682614,
           83.76381573927827,
           72.0988724401335,
           63.48505657682028,
           80.67751578360195,
           65.42598979222515,
           99.99987555387796,
           67.34107586105871,
           70.54657541167106
          ]
         },
         "name": "",
         "parents": [
          "",
          "",
          "",
          "",
          "",
          "",
          "",
          "",
          "",
          "",
          "",
          "",
          "",
          "",
          "",
          "",
          "",
          "",
          "",
          "",
          "",
          "",
          "",
          "",
          "",
          "",
          "",
          "",
          "",
          ""
         ],
         "type": "sunburst",
         "values": [
          63.51449335786389,
          76.12703043363027,
          67.04550290658469,
          68.45686510850774,
          69.04587577959053,
          65.90423016063677,
          85.83834350037527,
          83.33221948009837,
          66.78447420363153,
          92.01307239338159,
          63.436700021097856,
          70.93665651469796,
          67.02018802174344,
          65.59771340793013,
          69.1809981744967,
          64.90236158205113,
          78.3573389772728,
          65.77729258115622,
          84.80842293223499,
          85.30015578806233,
          74.0130960688681,
          72.00123614682614,
          83.76381573927827,
          72.0988724401335,
          63.48505657682028,
          80.67751578360195,
          65.42598979222515,
          99.99987555387794,
          67.34107586105871,
          70.54657541167106
         ]
        }
       ],
       "layout": {
        "coloraxis": {
         "colorbar": {
          "title": {
           "text": "percent_without_water"
          }
         },
         "colorscale": [
          [
           0,
           "#0d0887"
          ],
          [
           0.1111111111111111,
           "#46039f"
          ],
          [
           0.2222222222222222,
           "#7201a8"
          ],
          [
           0.3333333333333333,
           "#9c179e"
          ],
          [
           0.4444444444444444,
           "#bd3786"
          ],
          [
           0.5555555555555556,
           "#d8576b"
          ],
          [
           0.6666666666666666,
           "#ed7953"
          ],
          [
           0.7777777777777778,
           "#fb9f3a"
          ],
          [
           0.8888888888888888,
           "#fdca26"
          ],
          [
           1,
           "#f0f921"
          ]
         ]
        },
        "legend": {
         "tracegroupgap": 0
        },
        "template": {
         "data": {
          "bar": [
           {
            "error_x": {
             "color": "#2a3f5f"
            },
            "error_y": {
             "color": "#2a3f5f"
            },
            "marker": {
             "line": {
              "color": "#E5ECF6",
              "width": 0.5
             },
             "pattern": {
              "fillmode": "overlay",
              "size": 10,
              "solidity": 0.2
             }
            },
            "type": "bar"
           }
          ],
          "barpolar": [
           {
            "marker": {
             "line": {
              "color": "#E5ECF6",
              "width": 0.5
             },
             "pattern": {
              "fillmode": "overlay",
              "size": 10,
              "solidity": 0.2
             }
            },
            "type": "barpolar"
           }
          ],
          "carpet": [
           {
            "aaxis": {
             "endlinecolor": "#2a3f5f",
             "gridcolor": "white",
             "linecolor": "white",
             "minorgridcolor": "white",
             "startlinecolor": "#2a3f5f"
            },
            "baxis": {
             "endlinecolor": "#2a3f5f",
             "gridcolor": "white",
             "linecolor": "white",
             "minorgridcolor": "white",
             "startlinecolor": "#2a3f5f"
            },
            "type": "carpet"
           }
          ],
          "choropleth": [
           {
            "colorbar": {
             "outlinewidth": 0,
             "ticks": ""
            },
            "type": "choropleth"
           }
          ],
          "contour": [
           {
            "colorbar": {
             "outlinewidth": 0,
             "ticks": ""
            },
            "colorscale": [
             [
              0,
              "#0d0887"
             ],
             [
              0.1111111111111111,
              "#46039f"
             ],
             [
              0.2222222222222222,
              "#7201a8"
             ],
             [
              0.3333333333333333,
              "#9c179e"
             ],
             [
              0.4444444444444444,
              "#bd3786"
             ],
             [
              0.5555555555555556,
              "#d8576b"
             ],
             [
              0.6666666666666666,
              "#ed7953"
             ],
             [
              0.7777777777777778,
              "#fb9f3a"
             ],
             [
              0.8888888888888888,
              "#fdca26"
             ],
             [
              1,
              "#f0f921"
             ]
            ],
            "type": "contour"
           }
          ],
          "contourcarpet": [
           {
            "colorbar": {
             "outlinewidth": 0,
             "ticks": ""
            },
            "type": "contourcarpet"
           }
          ],
          "heatmap": [
           {
            "colorbar": {
             "outlinewidth": 0,
             "ticks": ""
            },
            "colorscale": [
             [
              0,
              "#0d0887"
             ],
             [
              0.1111111111111111,
              "#46039f"
             ],
             [
              0.2222222222222222,
              "#7201a8"
             ],
             [
              0.3333333333333333,
              "#9c179e"
             ],
             [
              0.4444444444444444,
              "#bd3786"
             ],
             [
              0.5555555555555556,
              "#d8576b"
             ],
             [
              0.6666666666666666,
              "#ed7953"
             ],
             [
              0.7777777777777778,
              "#fb9f3a"
             ],
             [
              0.8888888888888888,
              "#fdca26"
             ],
             [
              1,
              "#f0f921"
             ]
            ],
            "type": "heatmap"
           }
          ],
          "heatmapgl": [
           {
            "colorbar": {
             "outlinewidth": 0,
             "ticks": ""
            },
            "colorscale": [
             [
              0,
              "#0d0887"
             ],
             [
              0.1111111111111111,
              "#46039f"
             ],
             [
              0.2222222222222222,
              "#7201a8"
             ],
             [
              0.3333333333333333,
              "#9c179e"
             ],
             [
              0.4444444444444444,
              "#bd3786"
             ],
             [
              0.5555555555555556,
              "#d8576b"
             ],
             [
              0.6666666666666666,
              "#ed7953"
             ],
             [
              0.7777777777777778,
              "#fb9f3a"
             ],
             [
              0.8888888888888888,
              "#fdca26"
             ],
             [
              1,
              "#f0f921"
             ]
            ],
            "type": "heatmapgl"
           }
          ],
          "histogram": [
           {
            "marker": {
             "pattern": {
              "fillmode": "overlay",
              "size": 10,
              "solidity": 0.2
             }
            },
            "type": "histogram"
           }
          ],
          "histogram2d": [
           {
            "colorbar": {
             "outlinewidth": 0,
             "ticks": ""
            },
            "colorscale": [
             [
              0,
              "#0d0887"
             ],
             [
              0.1111111111111111,
              "#46039f"
             ],
             [
              0.2222222222222222,
              "#7201a8"
             ],
             [
              0.3333333333333333,
              "#9c179e"
             ],
             [
              0.4444444444444444,
              "#bd3786"
             ],
             [
              0.5555555555555556,
              "#d8576b"
             ],
             [
              0.6666666666666666,
              "#ed7953"
             ],
             [
              0.7777777777777778,
              "#fb9f3a"
             ],
             [
              0.8888888888888888,
              "#fdca26"
             ],
             [
              1,
              "#f0f921"
             ]
            ],
            "type": "histogram2d"
           }
          ],
          "histogram2dcontour": [
           {
            "colorbar": {
             "outlinewidth": 0,
             "ticks": ""
            },
            "colorscale": [
             [
              0,
              "#0d0887"
             ],
             [
              0.1111111111111111,
              "#46039f"
             ],
             [
              0.2222222222222222,
              "#7201a8"
             ],
             [
              0.3333333333333333,
              "#9c179e"
             ],
             [
              0.4444444444444444,
              "#bd3786"
             ],
             [
              0.5555555555555556,
              "#d8576b"
             ],
             [
              0.6666666666666666,
              "#ed7953"
             ],
             [
              0.7777777777777778,
              "#fb9f3a"
             ],
             [
              0.8888888888888888,
              "#fdca26"
             ],
             [
              1,
              "#f0f921"
             ]
            ],
            "type": "histogram2dcontour"
           }
          ],
          "mesh3d": [
           {
            "colorbar": {
             "outlinewidth": 0,
             "ticks": ""
            },
            "type": "mesh3d"
           }
          ],
          "parcoords": [
           {
            "line": {
             "colorbar": {
              "outlinewidth": 0,
              "ticks": ""
             }
            },
            "type": "parcoords"
           }
          ],
          "pie": [
           {
            "automargin": true,
            "type": "pie"
           }
          ],
          "scatter": [
           {
            "fillpattern": {
             "fillmode": "overlay",
             "size": 10,
             "solidity": 0.2
            },
            "type": "scatter"
           }
          ],
          "scatter3d": [
           {
            "line": {
             "colorbar": {
              "outlinewidth": 0,
              "ticks": ""
             }
            },
            "marker": {
             "colorbar": {
              "outlinewidth": 0,
              "ticks": ""
             }
            },
            "type": "scatter3d"
           }
          ],
          "scattercarpet": [
           {
            "marker": {
             "colorbar": {
              "outlinewidth": 0,
              "ticks": ""
             }
            },
            "type": "scattercarpet"
           }
          ],
          "scattergeo": [
           {
            "marker": {
             "colorbar": {
              "outlinewidth": 0,
              "ticks": ""
             }
            },
            "type": "scattergeo"
           }
          ],
          "scattergl": [
           {
            "marker": {
             "colorbar": {
              "outlinewidth": 0,
              "ticks": ""
             }
            },
            "type": "scattergl"
           }
          ],
          "scattermapbox": [
           {
            "marker": {
             "colorbar": {
              "outlinewidth": 0,
              "ticks": ""
             }
            },
            "type": "scattermapbox"
           }
          ],
          "scatterpolar": [
           {
            "marker": {
             "colorbar": {
              "outlinewidth": 0,
              "ticks": ""
             }
            },
            "type": "scatterpolar"
           }
          ],
          "scatterpolargl": [
           {
            "marker": {
             "colorbar": {
              "outlinewidth": 0,
              "ticks": ""
             }
            },
            "type": "scatterpolargl"
           }
          ],
          "scatterternary": [
           {
            "marker": {
             "colorbar": {
              "outlinewidth": 0,
              "ticks": ""
             }
            },
            "type": "scatterternary"
           }
          ],
          "surface": [
           {
            "colorbar": {
             "outlinewidth": 0,
             "ticks": ""
            },
            "colorscale": [
             [
              0,
              "#0d0887"
             ],
             [
              0.1111111111111111,
              "#46039f"
             ],
             [
              0.2222222222222222,
              "#7201a8"
             ],
             [
              0.3333333333333333,
              "#9c179e"
             ],
             [
              0.4444444444444444,
              "#bd3786"
             ],
             [
              0.5555555555555556,
              "#d8576b"
             ],
             [
              0.6666666666666666,
              "#ed7953"
             ],
             [
              0.7777777777777778,
              "#fb9f3a"
             ],
             [
              0.8888888888888888,
              "#fdca26"
             ],
             [
              1,
              "#f0f921"
             ]
            ],
            "type": "surface"
           }
          ],
          "table": [
           {
            "cells": {
             "fill": {
              "color": "#EBF0F8"
             },
             "line": {
              "color": "white"
             }
            },
            "header": {
             "fill": {
              "color": "#C8D4E3"
             },
             "line": {
              "color": "white"
             }
            },
            "type": "table"
           }
          ]
         },
         "layout": {
          "annotationdefaults": {
           "arrowcolor": "#2a3f5f",
           "arrowhead": 0,
           "arrowwidth": 1
          },
          "autotypenumbers": "strict",
          "coloraxis": {
           "colorbar": {
            "outlinewidth": 0,
            "ticks": ""
           }
          },
          "colorscale": {
           "diverging": [
            [
             0,
             "#8e0152"
            ],
            [
             0.1,
             "#c51b7d"
            ],
            [
             0.2,
             "#de77ae"
            ],
            [
             0.3,
             "#f1b6da"
            ],
            [
             0.4,
             "#fde0ef"
            ],
            [
             0.5,
             "#f7f7f7"
            ],
            [
             0.6,
             "#e6f5d0"
            ],
            [
             0.7,
             "#b8e186"
            ],
            [
             0.8,
             "#7fbc41"
            ],
            [
             0.9,
             "#4d9221"
            ],
            [
             1,
             "#276419"
            ]
           ],
           "sequential": [
            [
             0,
             "#0d0887"
            ],
            [
             0.1111111111111111,
             "#46039f"
            ],
            [
             0.2222222222222222,
             "#7201a8"
            ],
            [
             0.3333333333333333,
             "#9c179e"
            ],
            [
             0.4444444444444444,
             "#bd3786"
            ],
            [
             0.5555555555555556,
             "#d8576b"
            ],
            [
             0.6666666666666666,
             "#ed7953"
            ],
            [
             0.7777777777777778,
             "#fb9f3a"
            ],
            [
             0.8888888888888888,
             "#fdca26"
            ],
            [
             1,
             "#f0f921"
            ]
           ],
           "sequentialminus": [
            [
             0,
             "#0d0887"
            ],
            [
             0.1111111111111111,
             "#46039f"
            ],
            [
             0.2222222222222222,
             "#7201a8"
            ],
            [
             0.3333333333333333,
             "#9c179e"
            ],
            [
             0.4444444444444444,
             "#bd3786"
            ],
            [
             0.5555555555555556,
             "#d8576b"
            ],
            [
             0.6666666666666666,
             "#ed7953"
            ],
            [
             0.7777777777777778,
             "#fb9f3a"
            ],
            [
             0.8888888888888888,
             "#fdca26"
            ],
            [
             1,
             "#f0f921"
            ]
           ]
          },
          "colorway": [
           "#636efa",
           "#EF553B",
           "#00cc96",
           "#ab63fa",
           "#FFA15A",
           "#19d3f3",
           "#FF6692",
           "#B6E880",
           "#FF97FF",
           "#FECB52"
          ],
          "font": {
           "color": "#2a3f5f"
          },
          "geo": {
           "bgcolor": "white",
           "lakecolor": "white",
           "landcolor": "#E5ECF6",
           "showlakes": true,
           "showland": true,
           "subunitcolor": "white"
          },
          "hoverlabel": {
           "align": "left"
          },
          "hovermode": "closest",
          "mapbox": {
           "style": "light"
          },
          "paper_bgcolor": "white",
          "plot_bgcolor": "#E5ECF6",
          "polar": {
           "angularaxis": {
            "gridcolor": "white",
            "linecolor": "white",
            "ticks": ""
           },
           "bgcolor": "#E5ECF6",
           "radialaxis": {
            "gridcolor": "white",
            "linecolor": "white",
            "ticks": ""
           }
          },
          "scene": {
           "xaxis": {
            "backgroundcolor": "#E5ECF6",
            "gridcolor": "white",
            "gridwidth": 2,
            "linecolor": "white",
            "showbackground": true,
            "ticks": "",
            "zerolinecolor": "white"
           },
           "yaxis": {
            "backgroundcolor": "#E5ECF6",
            "gridcolor": "white",
            "gridwidth": 2,
            "linecolor": "white",
            "showbackground": true,
            "ticks": "",
            "zerolinecolor": "white"
           },
           "zaxis": {
            "backgroundcolor": "#E5ECF6",
            "gridcolor": "white",
            "gridwidth": 2,
            "linecolor": "white",
            "showbackground": true,
            "ticks": "",
            "zerolinecolor": "white"
           }
          },
          "shapedefaults": {
           "line": {
            "color": "#2a3f5f"
           }
          },
          "ternary": {
           "aaxis": {
            "gridcolor": "white",
            "linecolor": "white",
            "ticks": ""
           },
           "baxis": {
            "gridcolor": "white",
            "linecolor": "white",
            "ticks": ""
           },
           "bgcolor": "#E5ECF6",
           "caxis": {
            "gridcolor": "white",
            "linecolor": "white",
            "ticks": ""
           }
          },
          "title": {
           "x": 0.05
          },
          "xaxis": {
           "automargin": true,
           "gridcolor": "white",
           "linecolor": "white",
           "ticks": "",
           "title": {
            "standoff": 15
           },
           "zerolinecolor": "white",
           "zerolinewidth": 2
          },
          "yaxis": {
           "automargin": true,
           "gridcolor": "white",
           "linecolor": "white",
           "ticks": "",
           "title": {
            "standoff": 15
           },
           "zerolinecolor": "white",
           "zerolinewidth": 2
          }
         }
        },
        "title": {
         "text": "Population without Water by Country"
        }
       }
      }
     },
     "metadata": {},
     "output_type": "display_data"
    }
   ],
   "source": [
    "# sunburst plot of continents then countries, with population without water as values and color\n",
    "fig = px.sunburst(\n",
    "    df_countries.nlargest(30, \"percent_without_water\"),\n",
    "    path=[\"Entity\"],\n",
    "    values=\"percent_without_water\",\n",
    "    color=\"percent_without_water\",\n",
    "    hover_data=hover_data_list,\n",
    "    title=\"Population without Water by Country\",\n",
    ")\n",
    "fig.show()"
   ]
  },
  {
   "cell_type": "code",
   "execution_count": null,
   "metadata": {},
   "outputs": [
    {
     "data": {
      "application/vnd.plotly.v1+json": {
       "config": {
        "plotlyServerURL": "https://plot.ly"
       },
       "data": [
        {
         "hovertemplate": "<b>%{hovertext}</b><br><br>region=Asia<br>percent_without_water=%{x}<br>Nat Piped=%{y}<br>bubble_size=%{marker.size}<extra></extra>",
         "hovertext": [
          "Afghanistan",
          "United Arab Emirates",
          "Armenia",
          "Azerbaijan",
          "Bangladesh",
          "Brunei",
          "Bhutan",
          "China",
          "Georgia",
          "Hong Kong",
          "Indonesia",
          "India",
          "Iran",
          "Iraq",
          "Israel",
          "Jordan",
          "Japan",
          "Kazakhstan",
          "Kyrgyzstan",
          "Cambodia",
          "South Korea",
          "Kuwait",
          "Laos",
          "Lebanon",
          "Sri Lanka",
          "Myanmar",
          "Mongolia",
          "Malaysia",
          "Nepal",
          "Oman",
          "Pakistan",
          "Philippines",
          "North Korea",
          "Palestine",
          "Qatar",
          "Saudi Arabia",
          "Singapore",
          "Syria",
          "Thailand",
          "Tajikistan",
          "Turkmenistan",
          "Timor",
          "Turkey",
          "Taiwan",
          "Uzbekistan",
          "Vietnam",
          "Yemen"
         ],
         "legendgroup": "Asia",
         "marker": {
          "color": "#636efa",
          "size": [
           89.83542800000001,
           59.991083,
           52.968128,
           60.223344,
           216.303494,
           50.441532,
           50.7799,
           1494.216102,
           53.979773,
           57.5528,
           326.36178799999993,
           1443.409033,
           135.02876,
           91.179351,
           58.789776,
           60.269022,
           176.050796,
           68.994958,
           56.628347,
           66.946446,
           101.305184,
           54.328553,
           57.379357999999996,
           56.769151,
           71.497306,
           104.80601399999999,
           53.329282,
           82.776195,
           79.67492,
           55.223376,
           275.199929,
           161.04690999999997,
           75.887045,
           55.222756000000004,
           52.930524,
           85.34067999999999,
           55.896684,
           68.27570399999999,
           119.950844,
           59.749624999999995,
           56.117933,
           51.343875,
           135.042736,
           73.855008,
           83.935765,
           148.16882900000002,
           80.490639
          ],
          "sizemode": "area",
          "sizeref": 3.735540255,
          "symbol": "circle"
         },
         "mode": "markers",
         "name": "Asia",
         "orientation": "v",
         "showlegend": true,
         "type": "scatter",
         "x": [
          31.724930718522025,
          99.99987555387794,
          33.62971899393891,
          28.50653126712843,
          7.942463317410074,
          40.22662089318823,
          56.598683830886856,
          30.373664156203922,
          24.938238007872528,
          85.83834350037527,
          16.41628946419382,
          17.156051697017467,
          61.30657204113067,
          31.789600421693287,
          83.33221948009837,
          66.78447420363153,
          26.05406714847105,
          38.07222447451119,
          32.91382663053284,
          19.294283197935076,
          40.567868695767764,
          92.01307239338159,
          19.93346628165261,
          63.436700021097856,
          31.279667035721577,
          25.794120977347312,
          30.575843554439757,
          39.53904022198332,
          15.427511137581066,
          84.80842293223499,
          12.59356622161537,
          21.444270818830297,
          33.700953792894374,
          59.17131741648802,
          85.30015578806233,
          83.76381573927827,
          63.48505657682028,
          50.97215012292801,
          19.767500903040727,
          45.164961346682006,
          16.404094804244483,
          80.67751578360195,
          43.53999966463893,
          30.63786444379904,
          28.967427057042666,
          11.530929134224815,
          56.981096561056034
         ],
         "xaxis": "x",
         "y": [
          22,
          100,
          100,
          91,
          15,
          100,
          100,
          80,
          82,
          100,
          35,
          44,
          99,
          83,
          100,
          89,
          98,
          81,
          94,
          32,
          100,
          91.5,
          31,
          89,
          39,
          33,
          25,
          95,
          50,
          96,
          26,
          66,
          100,
          54,
          100,
          84,
          100,
          71,
          81,
          65,
          52,
          66,
          95,
          86.1428571428571,
          70,
          48,
          56
         ],
         "yaxis": "y"
        },
        {
         "hovertemplate": "<b>%{hovertext}</b><br><br>region=Africa<br>percent_without_water=%{x}<br>Nat Piped=%{y}<br>bubble_size=%{marker.size}<extra></extra>",
         "hovertext": [
          "Angola",
          "Burundi",
          "Benin",
          "Burkina Faso",
          "Botswana",
          "Central African Republic",
          "Cote d'Ivoire",
          "Cameroon",
          "Democratic Republic of Congo",
          "Congo",
          "Djibouti",
          "Algeria",
          "Egypt",
          "Eritrea",
          "Western Sahara",
          "Ethiopia",
          "Gabon",
          "Ghana",
          "Guinea",
          "Gambia",
          "Guinea-Bissau",
          "Equatorial Guinea",
          "Kenya",
          "Liberia",
          "Libya",
          "Lesotho",
          "Morocco",
          "Madagascar",
          "Mali",
          "Mozambique",
          "Mauritania",
          "Mauritius",
          "Malawi",
          "Namibia",
          "Niger",
          "Nigeria",
          "Reunion",
          "Rwanda",
          "Sudan",
          "Senegal",
          "Sierra Leone",
          "Somalia",
          "South Sudan",
          "Sao Tome and Principe",
          "Eswatini",
          "Chad",
          "Togo",
          "Tunisia",
          "Tanzania",
          "Uganda",
          "South Africa",
          "Zambia",
          "Zimbabwe"
         ],
         "legendgroup": "Africa",
         "marker": {
          "color": "#EF553B",
          "size": [
           83.933611,
           62.255429,
           62.451031,
           71.497097,
           52.39724,
           54.919987,
           77.053629,
           77.224262,
           142.37798600000002,
           55.657016999999996,
           51.002197,
           94.616626,
           154.25832699999998,
           53.601462,
           50.611872,
           167.87622599999997,
           52.278829,
           81.732128,
           63.497237,
           52.486937,
           52.01549,
           51.449891,
           104.985702,
           55.180208,
           56.958538,
           52.159067,
           87.344787,
           78.427333,
           70.85572400000001,
           82.163045,
           54.77511,
           51.273428,
           69.647681,
           52.587344,
           75.13081,
           261.400704,
           50.901696,
           63.276517,
           94.909351,
           67.196308,
           58.141343,
           66.3595,
           61.381377,
           50.223364,
           51.172369,
           66.914985,
           58.478242,
           61.935764,
           111.498438,
           97.12353300000001,
           110.04199599999998,
           68.920657,
           65.09217100000001
          ],
          "sizemode": "area",
          "sizeref": 3.735540255,
          "symbol": "circle"
         },
         "mode": "markers",
         "name": "Africa",
         "orientation": "v",
         "showlegend": true,
         "type": "scatter",
         "x": [
          63.51449335786389,
          37.83648318972518,
          41.67224174359262,
          33.494791872102766,
          76.12703043363027,
          50.67109186791584,
          41.55025445997147,
          39.54028296391167,
          67.04550290658469,
          49.086358823718065,
          68.45686510850774,
          43.39292079990924,
          48.47058511101487,
          56.922111090422476,
          70.54657541167106,
          51.292987436379555,
          49.50643840849831,
          32.91832682942027,
          27.697744485178756,
          36.583688513119206,
          48.134142688502884,
          41.74932359579319,
          42.89477404008195,
          25.030914754102845,
          70.93665651469796,
          32.882967214969696,
          64.90236158205113,
          67.02018802174344,
          39.87632145955793,
          45.34180921747349,
          69.1809981744967,
          20.034787883453127,
          14.98298755941912,
          78.3573389772728,
          65.77729258115622,
          28.934061396805937,
          44.671898423490646,
          42.60782495261158,
          49.71439962357303,
          72.0988724401335,
          44.65053118929731,
          45.51722903329531,
          26.124523326013925,
          60.96234582962734,
          28.155252735623954,
          48.93956337022139,
          39.00128126092627,
          65.42598979222515,
          41.09990311993679,
          24.225453071479404,
          37.70698748569511,
          41.67770437299298,
          36.55376405151854
         ],
         "xaxis": "x",
         "y": [
          42,
          38,
          37,
          28,
          91,
          14,
          42,
          36,
          35,
          53,
          83,
          72,
          100,
          52,
          68.3333333333333,
          41,
          82,
          35,
          25,
          77,
          35,
          41,
          33,
          4,
          78,
          69,
          80,
          35,
          50,
          41,
          53,
          100,
          22,
          81,
          40,
          10,
          100,
          38,
          46,
          75,
          21,
          47,
          4,
          97,
          61,
          20,
          25,
          93,
          38,
          23,
          91,
          32,
          27
         ],
         "yaxis": "y"
        },
        {
         "hovertemplate": "<b>%{hovertext}</b><br><br>region=Europe<br>percent_without_water=%{x}<br>Nat Piped=%{y}<br>bubble_size=%{marker.size}<extra></extra>",
         "hovertext": [
          "Albania",
          "Andorra",
          "Austria",
          "Belgium",
          "Bulgaria",
          "Bosnia and Herzegovina",
          "Belarus",
          "Switzerland",
          "Cyprus",
          "Czechia",
          "Germany",
          "Denmark",
          "Spain",
          "Estonia",
          "Finland",
          "France",
          "Faeroe Islands",
          "United Kingdom",
          "Greece",
          "Croatia",
          "Hungary",
          "Isle of Man",
          "Ireland",
          "Iceland",
          "Italy",
          "Liechtenstein",
          "Lithuania",
          "Luxembourg",
          "Latvia",
          "Moldova",
          "North Macedonia",
          "Malta",
          "Montenegro",
          "Netherlands",
          "Norway",
          "Poland",
          "Portugal",
          "Romania",
          "Russia",
          "Serbia",
          "Slovakia",
          "Slovenia",
          "Sweden",
          "Ukraine"
         ],
         "legendgroup": "Europe",
         "marker": {
          "color": "#00cc96",
          "size": [
           52.872934,
           50.077354,
           59.043071999999995,
           61.632334,
           56.896655,
           53.263459,
           59.442867,
           58.715494,
           51.215588,
           60.724553,
           133.900471,
           55.813302,
           96.745211,
           51.325188,
           55.548361,
           115.426177,
           50.049053,
           118.207114,
           60.370747,
           54.081657,
           59.634162,
           50.08541,
           54.982904,
           50.34336,
           110.367471,
           50.038254,
           52.689862,
           50.634814,
           51.866934,
           54.024025,
           52.082661,
           50.44279,
           50.628051,
           67.17309399999999,
           55.465629,
           87.797,
           60.167923,
           69.12777200000001,
           195.91202199999998,
           58.697547,
           55.460726,
           52.078723,
           60.160159,
           93.466822
          ],
          "sizemode": "area",
          "sizeref": 3.735540255,
          "symbol": "circle"
         },
         "mode": "markers",
         "name": "Europe",
         "orientation": "v",
         "showlegend": true,
         "type": "scatter",
         "x": [
          20.868288579747066,
          57.77374600839643,
          26.41349159759745,
          34.84173512076031,
          39.06949159371888,
          40.272362424545264,
          26.86832235528257,
          32.48543283603975,
          52.66213974898049,
          34.87791931467916,
          33.83169017089113,
          33.76768402053084,
          49.26980865056073,
          32.21227501169742,
          32.6037998706259,
          25.566059039614125,
          58.22811159295279,
          32.015108394770536,
          69.04587577959053,
          39.30333758937725,
          30.54986763306141,
          61.09198507386778,
          34.28268978668939,
          47.980175624037855,
          35.27507726575922,
          60.00000000000001,
          26.59685928546796,
          55.454325638197886,
          31.33862667546643,
          25.471602022424396,
          33.45958724814998,
          65.59771340793013,
          40.79438679974795,
          22.588056592983516,
          28.33994951263054,
          34.14078467813334,
          48.38116892532106,
          12.283933881573034,
          36.73621512738677,
          33.85535329085653,
          30.578946556925523,
          32.75847472744217,
          18.263724694175718,
          12.498543398543388
         ],
         "xaxis": "x",
         "y": [
          81,
          100,
          99.4285714285714,
          100,
          100,
          95,
          96,
          100,
          100,
          100,
          100,
          100,
          100,
          93,
          100,
          93,
          100,
          100,
          100,
          94.5,
          100,
          98,
          97,
          100,
          98,
          100,
          96,
          100,
          94,
          72,
          92,
          100,
          89,
          91,
          100,
          89,
          100,
          64,
          94,
          94,
          98,
          97.9821428571429,
          88,
          64
         ],
         "yaxis": "y"
        },
        {
         "hovertemplate": "<b>%{hovertext}</b><br><br>region=Americas<br>percent_without_water=%{x}<br>Nat Piped=%{y}<br>bubble_size=%{marker.size}<extra></extra>",
         "hovertext": [
          "Argentina",
          "Bahamas",
          "Belize",
          "Bolivia",
          "Brazil",
          "Canada",
          "Chile",
          "Colombia",
          "Costa Rica",
          "Cuba",
          "Dominican Republic",
          "Ecuador",
          "Falkland Islands",
          "Guadeloupe",
          "Grenada",
          "Greenland",
          "Guatemala",
          "French Guiana",
          "Guyana",
          "Honduras",
          "Haiti",
          "Jamaica",
          "Saint Lucia",
          "Mexico",
          "Montserrat",
          "Martinique",
          "Nicaragua",
          "Panama",
          "Peru",
          "Puerto Rico",
          "Paraguay",
          "El Salvador",
          "Suriname",
          "Trinidad and Tobago",
          "Uruguay",
          "United States",
          "Venezuela"
         ],
         "legendgroup": "Americas",
         "marker": {
          "color": "#ab63fa",
          "size": [
           95.605823,
           50.396914,
           50.404915,
           61.832936000000004,
           263.99344099999996,
           88.067913,
           69.212362,
           101.265841,
           55.139053,
           61.317498,
           60.953714,
           67.888474,
           50.003528,
           50.400013,
           50.113015,
           50.056868,
           68.24986799999999,
           50.30645,
           50.790329,
           60.062994,
           61.541683,
           52.973462,
           50.184401,
           180.26222,
           50.004981,
           50.374743,
           56.702379,
           54.381583,
           83.359415,
           52.828246,
           57.219640999999996,
           56.5185,
           50.591798,
           51.403374,
           53.485152,
           382.91507400000006,
           78.704947
          ],
          "sizemode": "area",
          "sizeref": 3.735540255,
          "symbol": "circle"
         },
         "mode": "markers",
         "name": "Americas",
         "orientation": "v",
         "showlegend": true,
         "type": "scatter",
         "x": [
          48.97557969744773,
          39.64783884003219,
          16.344983126161107,
          32.65982347313927,
          48.65764475376136,
          31.86601534323577,
          48.76752040874635,
          40.50113123659615,
          40.53486686471147,
          33.49618234693945,
          39.903215365148434,
          49.139717996992296,
          58.83608924590631,
          60.055467006332364,
          53.37459474216484,
          65.90423016063677,
          39.36853520589329,
          22.766333205176586,
          20.34361933494879,
          44.29173001987633,
          44.06441185857793,
          47.5065674392329,
          74.0130960688681,
          57.45451653804922,
          56.53775864446649,
          62.98867599333845,
          46.03134407659513,
          30.967269523349373,
          60.75089729108074,
          26.81871202184097,
          44.66542531781707,
          31.158566312330144,
          16.909001499232424,
          42.43425072603794,
          67.34107586105871,
          44.457596346337354,
          51.438448909123046
         ],
         "xaxis": "x",
         "y": [
          96,
          97,
          87,
          69,
          98,
          100,
          100,
          89,
          100,
          80,
          81,
          91,
          91,
          86.1428571428572,
          92,
          100,
          77,
          88,
          65,
          92,
          19,
          83,
          97,
          98,
          98,
          86.1428571428571,
          70,
          93,
          90,
          100,
          100,
          91,
          80,
          93,
          100,
          99,
          79
         ],
         "yaxis": "y"
        },
        {
         "hovertemplate": "<b>%{hovertext}</b><br><br>region=Oceania<br>percent_without_water=%{x}<br>Nat Piped=%{y}<br>bubble_size=%{marker.size}<extra></extra>",
         "hovertext": [
          "Australia",
          "Fiji",
          "New Caledonia",
          "New Zealand",
          "Papua New Guinea",
          "Solomon Islands",
          "Vanuatu",
          "Samoa"
         ],
         "legendgroup": "Oceania",
         "marker": {
          "color": "#FFA15A",
          "size": [
           75.788217,
           50.902899,
           50.288217,
           54.860642,
           59.119005,
           50.703995,
           50.314464,
           50.200144
          ],
          "sizemode": "area",
          "sizeref": 3.735540255,
          "symbol": "circle"
         },
         "mode": "markers",
         "name": "Oceania",
         "orientation": "v",
         "showlegend": true,
         "type": "scatter",
         "x": [
          29.536633876473605,
          45.45301498240298,
          41.207684378102535,
          31.023261766907883,
          53.55782994926439,
          51.20209940538734,
          29.881889524285487,
          72.00123614682614
         ],
         "xaxis": "x",
         "y": [
          91,
          83,
          99,
          100,
          18,
          46,
          48,
          84
         ],
         "yaxis": "y"
        }
       ],
       "layout": {
        "legend": {
         "itemsizing": "constant",
         "title": {
          "text": "region"
         },
         "tracegroupgap": 0
        },
        "template": {
         "data": {
          "bar": [
           {
            "error_x": {
             "color": "#2a3f5f"
            },
            "error_y": {
             "color": "#2a3f5f"
            },
            "marker": {
             "line": {
              "color": "#E5ECF6",
              "width": 0.5
             },
             "pattern": {
              "fillmode": "overlay",
              "size": 10,
              "solidity": 0.2
             }
            },
            "type": "bar"
           }
          ],
          "barpolar": [
           {
            "marker": {
             "line": {
              "color": "#E5ECF6",
              "width": 0.5
             },
             "pattern": {
              "fillmode": "overlay",
              "size": 10,
              "solidity": 0.2
             }
            },
            "type": "barpolar"
           }
          ],
          "carpet": [
           {
            "aaxis": {
             "endlinecolor": "#2a3f5f",
             "gridcolor": "white",
             "linecolor": "white",
             "minorgridcolor": "white",
             "startlinecolor": "#2a3f5f"
            },
            "baxis": {
             "endlinecolor": "#2a3f5f",
             "gridcolor": "white",
             "linecolor": "white",
             "minorgridcolor": "white",
             "startlinecolor": "#2a3f5f"
            },
            "type": "carpet"
           }
          ],
          "choropleth": [
           {
            "colorbar": {
             "outlinewidth": 0,
             "ticks": ""
            },
            "type": "choropleth"
           }
          ],
          "contour": [
           {
            "colorbar": {
             "outlinewidth": 0,
             "ticks": ""
            },
            "colorscale": [
             [
              0,
              "#0d0887"
             ],
             [
              0.1111111111111111,
              "#46039f"
             ],
             [
              0.2222222222222222,
              "#7201a8"
             ],
             [
              0.3333333333333333,
              "#9c179e"
             ],
             [
              0.4444444444444444,
              "#bd3786"
             ],
             [
              0.5555555555555556,
              "#d8576b"
             ],
             [
              0.6666666666666666,
              "#ed7953"
             ],
             [
              0.7777777777777778,
              "#fb9f3a"
             ],
             [
              0.8888888888888888,
              "#fdca26"
             ],
             [
              1,
              "#f0f921"
             ]
            ],
            "type": "contour"
           }
          ],
          "contourcarpet": [
           {
            "colorbar": {
             "outlinewidth": 0,
             "ticks": ""
            },
            "type": "contourcarpet"
           }
          ],
          "heatmap": [
           {
            "colorbar": {
             "outlinewidth": 0,
             "ticks": ""
            },
            "colorscale": [
             [
              0,
              "#0d0887"
             ],
             [
              0.1111111111111111,
              "#46039f"
             ],
             [
              0.2222222222222222,
              "#7201a8"
             ],
             [
              0.3333333333333333,
              "#9c179e"
             ],
             [
              0.4444444444444444,
              "#bd3786"
             ],
             [
              0.5555555555555556,
              "#d8576b"
             ],
             [
              0.6666666666666666,
              "#ed7953"
             ],
             [
              0.7777777777777778,
              "#fb9f3a"
             ],
             [
              0.8888888888888888,
              "#fdca26"
             ],
             [
              1,
              "#f0f921"
             ]
            ],
            "type": "heatmap"
           }
          ],
          "heatmapgl": [
           {
            "colorbar": {
             "outlinewidth": 0,
             "ticks": ""
            },
            "colorscale": [
             [
              0,
              "#0d0887"
             ],
             [
              0.1111111111111111,
              "#46039f"
             ],
             [
              0.2222222222222222,
              "#7201a8"
             ],
             [
              0.3333333333333333,
              "#9c179e"
             ],
             [
              0.4444444444444444,
              "#bd3786"
             ],
             [
              0.5555555555555556,
              "#d8576b"
             ],
             [
              0.6666666666666666,
              "#ed7953"
             ],
             [
              0.7777777777777778,
              "#fb9f3a"
             ],
             [
              0.8888888888888888,
              "#fdca26"
             ],
             [
              1,
              "#f0f921"
             ]
            ],
            "type": "heatmapgl"
           }
          ],
          "histogram": [
           {
            "marker": {
             "pattern": {
              "fillmode": "overlay",
              "size": 10,
              "solidity": 0.2
             }
            },
            "type": "histogram"
           }
          ],
          "histogram2d": [
           {
            "colorbar": {
             "outlinewidth": 0,
             "ticks": ""
            },
            "colorscale": [
             [
              0,
              "#0d0887"
             ],
             [
              0.1111111111111111,
              "#46039f"
             ],
             [
              0.2222222222222222,
              "#7201a8"
             ],
             [
              0.3333333333333333,
              "#9c179e"
             ],
             [
              0.4444444444444444,
              "#bd3786"
             ],
             [
              0.5555555555555556,
              "#d8576b"
             ],
             [
              0.6666666666666666,
              "#ed7953"
             ],
             [
              0.7777777777777778,
              "#fb9f3a"
             ],
             [
              0.8888888888888888,
              "#fdca26"
             ],
             [
              1,
              "#f0f921"
             ]
            ],
            "type": "histogram2d"
           }
          ],
          "histogram2dcontour": [
           {
            "colorbar": {
             "outlinewidth": 0,
             "ticks": ""
            },
            "colorscale": [
             [
              0,
              "#0d0887"
             ],
             [
              0.1111111111111111,
              "#46039f"
             ],
             [
              0.2222222222222222,
              "#7201a8"
             ],
             [
              0.3333333333333333,
              "#9c179e"
             ],
             [
              0.4444444444444444,
              "#bd3786"
             ],
             [
              0.5555555555555556,
              "#d8576b"
             ],
             [
              0.6666666666666666,
              "#ed7953"
             ],
             [
              0.7777777777777778,
              "#fb9f3a"
             ],
             [
              0.8888888888888888,
              "#fdca26"
             ],
             [
              1,
              "#f0f921"
             ]
            ],
            "type": "histogram2dcontour"
           }
          ],
          "mesh3d": [
           {
            "colorbar": {
             "outlinewidth": 0,
             "ticks": ""
            },
            "type": "mesh3d"
           }
          ],
          "parcoords": [
           {
            "line": {
             "colorbar": {
              "outlinewidth": 0,
              "ticks": ""
             }
            },
            "type": "parcoords"
           }
          ],
          "pie": [
           {
            "automargin": true,
            "type": "pie"
           }
          ],
          "scatter": [
           {
            "fillpattern": {
             "fillmode": "overlay",
             "size": 10,
             "solidity": 0.2
            },
            "type": "scatter"
           }
          ],
          "scatter3d": [
           {
            "line": {
             "colorbar": {
              "outlinewidth": 0,
              "ticks": ""
             }
            },
            "marker": {
             "colorbar": {
              "outlinewidth": 0,
              "ticks": ""
             }
            },
            "type": "scatter3d"
           }
          ],
          "scattercarpet": [
           {
            "marker": {
             "colorbar": {
              "outlinewidth": 0,
              "ticks": ""
             }
            },
            "type": "scattercarpet"
           }
          ],
          "scattergeo": [
           {
            "marker": {
             "colorbar": {
              "outlinewidth": 0,
              "ticks": ""
             }
            },
            "type": "scattergeo"
           }
          ],
          "scattergl": [
           {
            "marker": {
             "colorbar": {
              "outlinewidth": 0,
              "ticks": ""
             }
            },
            "type": "scattergl"
           }
          ],
          "scattermapbox": [
           {
            "marker": {
             "colorbar": {
              "outlinewidth": 0,
              "ticks": ""
             }
            },
            "type": "scattermapbox"
           }
          ],
          "scatterpolar": [
           {
            "marker": {
             "colorbar": {
              "outlinewidth": 0,
              "ticks": ""
             }
            },
            "type": "scatterpolar"
           }
          ],
          "scatterpolargl": [
           {
            "marker": {
             "colorbar": {
              "outlinewidth": 0,
              "ticks": ""
             }
            },
            "type": "scatterpolargl"
           }
          ],
          "scatterternary": [
           {
            "marker": {
             "colorbar": {
              "outlinewidth": 0,
              "ticks": ""
             }
            },
            "type": "scatterternary"
           }
          ],
          "surface": [
           {
            "colorbar": {
             "outlinewidth": 0,
             "ticks": ""
            },
            "colorscale": [
             [
              0,
              "#0d0887"
             ],
             [
              0.1111111111111111,
              "#46039f"
             ],
             [
              0.2222222222222222,
              "#7201a8"
             ],
             [
              0.3333333333333333,
              "#9c179e"
             ],
             [
              0.4444444444444444,
              "#bd3786"
             ],
             [
              0.5555555555555556,
              "#d8576b"
             ],
             [
              0.6666666666666666,
              "#ed7953"
             ],
             [
              0.7777777777777778,
              "#fb9f3a"
             ],
             [
              0.8888888888888888,
              "#fdca26"
             ],
             [
              1,
              "#f0f921"
             ]
            ],
            "type": "surface"
           }
          ],
          "table": [
           {
            "cells": {
             "fill": {
              "color": "#EBF0F8"
             },
             "line": {
              "color": "white"
             }
            },
            "header": {
             "fill": {
              "color": "#C8D4E3"
             },
             "line": {
              "color": "white"
             }
            },
            "type": "table"
           }
          ]
         },
         "layout": {
          "annotationdefaults": {
           "arrowcolor": "#2a3f5f",
           "arrowhead": 0,
           "arrowwidth": 1
          },
          "autotypenumbers": "strict",
          "coloraxis": {
           "colorbar": {
            "outlinewidth": 0,
            "ticks": ""
           }
          },
          "colorscale": {
           "diverging": [
            [
             0,
             "#8e0152"
            ],
            [
             0.1,
             "#c51b7d"
            ],
            [
             0.2,
             "#de77ae"
            ],
            [
             0.3,
             "#f1b6da"
            ],
            [
             0.4,
             "#fde0ef"
            ],
            [
             0.5,
             "#f7f7f7"
            ],
            [
             0.6,
             "#e6f5d0"
            ],
            [
             0.7,
             "#b8e186"
            ],
            [
             0.8,
             "#7fbc41"
            ],
            [
             0.9,
             "#4d9221"
            ],
            [
             1,
             "#276419"
            ]
           ],
           "sequential": [
            [
             0,
             "#0d0887"
            ],
            [
             0.1111111111111111,
             "#46039f"
            ],
            [
             0.2222222222222222,
             "#7201a8"
            ],
            [
             0.3333333333333333,
             "#9c179e"
            ],
            [
             0.4444444444444444,
             "#bd3786"
            ],
            [
             0.5555555555555556,
             "#d8576b"
            ],
            [
             0.6666666666666666,
             "#ed7953"
            ],
            [
             0.7777777777777778,
             "#fb9f3a"
            ],
            [
             0.8888888888888888,
             "#fdca26"
            ],
            [
             1,
             "#f0f921"
            ]
           ],
           "sequentialminus": [
            [
             0,
             "#0d0887"
            ],
            [
             0.1111111111111111,
             "#46039f"
            ],
            [
             0.2222222222222222,
             "#7201a8"
            ],
            [
             0.3333333333333333,
             "#9c179e"
            ],
            [
             0.4444444444444444,
             "#bd3786"
            ],
            [
             0.5555555555555556,
             "#d8576b"
            ],
            [
             0.6666666666666666,
             "#ed7953"
            ],
            [
             0.7777777777777778,
             "#fb9f3a"
            ],
            [
             0.8888888888888888,
             "#fdca26"
            ],
            [
             1,
             "#f0f921"
            ]
           ]
          },
          "colorway": [
           "#636efa",
           "#EF553B",
           "#00cc96",
           "#ab63fa",
           "#FFA15A",
           "#19d3f3",
           "#FF6692",
           "#B6E880",
           "#FF97FF",
           "#FECB52"
          ],
          "font": {
           "color": "#2a3f5f"
          },
          "geo": {
           "bgcolor": "white",
           "lakecolor": "white",
           "landcolor": "#E5ECF6",
           "showlakes": true,
           "showland": true,
           "subunitcolor": "white"
          },
          "hoverlabel": {
           "align": "left"
          },
          "hovermode": "closest",
          "mapbox": {
           "style": "light"
          },
          "paper_bgcolor": "white",
          "plot_bgcolor": "#E5ECF6",
          "polar": {
           "angularaxis": {
            "gridcolor": "white",
            "linecolor": "white",
            "ticks": ""
           },
           "bgcolor": "#E5ECF6",
           "radialaxis": {
            "gridcolor": "white",
            "linecolor": "white",
            "ticks": ""
           }
          },
          "scene": {
           "xaxis": {
            "backgroundcolor": "#E5ECF6",
            "gridcolor": "white",
            "gridwidth": 2,
            "linecolor": "white",
            "showbackground": true,
            "ticks": "",
            "zerolinecolor": "white"
           },
           "yaxis": {
            "backgroundcolor": "#E5ECF6",
            "gridcolor": "white",
            "gridwidth": 2,
            "linecolor": "white",
            "showbackground": true,
            "ticks": "",
            "zerolinecolor": "white"
           },
           "zaxis": {
            "backgroundcolor": "#E5ECF6",
            "gridcolor": "white",
            "gridwidth": 2,
            "linecolor": "white",
            "showbackground": true,
            "ticks": "",
            "zerolinecolor": "white"
           }
          },
          "shapedefaults": {
           "line": {
            "color": "#2a3f5f"
           }
          },
          "ternary": {
           "aaxis": {
            "gridcolor": "white",
            "linecolor": "white",
            "ticks": ""
           },
           "baxis": {
            "gridcolor": "white",
            "linecolor": "white",
            "ticks": ""
           },
           "bgcolor": "#E5ECF6",
           "caxis": {
            "gridcolor": "white",
            "linecolor": "white",
            "ticks": ""
           }
          },
          "title": {
           "x": 0.05
          },
          "xaxis": {
           "automargin": true,
           "gridcolor": "white",
           "linecolor": "white",
           "ticks": "",
           "title": {
            "standoff": 15
           },
           "zerolinecolor": "white",
           "zerolinewidth": 2
          },
          "yaxis": {
           "automargin": true,
           "gridcolor": "white",
           "linecolor": "white",
           "ticks": "",
           "title": {
            "standoff": 15
           },
           "zerolinecolor": "white",
           "zerolinewidth": 2
          }
         }
        },
        "title": {
         "text": "Access to Water vs. Piped Water vs. Population"
        },
        "xaxis": {
         "anchor": "y",
         "domain": [
          0,
          1
         ],
         "title": {
          "text": "percent_without_water"
         }
        },
        "yaxis": {
         "anchor": "x",
         "domain": [
          0,
          1
         ],
         "title": {
          "text": "Nat Piped"
         }
        }
       }
      }
     },
     "metadata": {},
     "output_type": "display_data"
    }
   ],
   "source": [
    "# create bubble chart from df_countries comprising: access to water, piped water, and using population as the size of the bubble\n",
    "# create a new column for the size of the bubble\n",
    "df_countries[\"bubble_size\"] = df_countries[\"country_pop_raw\"] / 1000000 +50\n",
    "\n",
    "# create a new column for the color of the bubble\n",
    "df_countries[\"bubble_color\"] = df_countries[\"Nat Piped\"]\n",
    "\n",
    "# create a new column for the text of the bubble\n",
    "df_countries[\"bubble_text\"] = df_countries[\"Entity\"]\n",
    "\n",
    "px.scatter(df_countries, x=\"percent_without_water\", y=\"Nat Piped\", size=\"bubble_size\", color=\"region\", hover_name=\"bubble_text\", title=\"Access to Water vs. Piped Water vs. Population\")"
   ]
  },
  {
   "attachments": {},
   "cell_type": "markdown",
   "metadata": {},
   "source": [
    "Above graph is the money shot. NMeed to fix bubble sizes, maybe add labels"
   ]
  },
  {
   "cell_type": "code",
   "execution_count": null,
   "metadata": {},
   "outputs": [
    {
     "data": {
      "application/vnd.plotly.v1+json": {
       "config": {
        "plotlyServerURL": "https://plot.ly"
       },
       "data": [
        {
         "hovertemplate": "subregion=Eastern Africa<br>Entity=%{x}<br>weighted_med=%{y}<extra></extra>",
         "legendgroup": "Eastern Africa",
         "line": {
          "color": "#636efa",
          "dash": "solid"
         },
         "marker": {
          "symbol": "circle"
         },
         "mode": "lines",
         "name": "Eastern Africa",
         "orientation": "v",
         "showlegend": true,
         "type": "scatter",
         "x": [
          "Mauritius",
          "Malawi",
          "Zambia",
          "Uganda",
          "Tanzania",
          "Mozambique",
          "Burundi",
          "Rwanda",
          "Zimbabwe",
          "Madagascar",
          "Kenya",
          "Reunion",
          "Ethiopia",
          "Eritrea",
          "Djibouti",
          "Somalia"
         ],
         "xaxis": "x",
         "y": [
          2,
          2.82842700195312,
          3,
          3,
          3,
          3.16227807617188,
          3.16227807617188,
          3.60555102539062,
          3.60555102539062,
          4,
          4.12310498046875,
          4.12310498046875,
          7.07106787109375,
          21.09501953125,
          38.83298046875,
          86.2786171875
         ],
         "yaxis": "y"
        },
        {
         "hovertemplate": "subregion=Middle Africa<br>Entity=%{x}<br>weighted_med=%{y}<extra></extra>",
         "legendgroup": "Middle Africa",
         "line": {
          "color": "#EF553B",
          "dash": "solid"
         },
         "marker": {
          "symbol": "circle"
         },
         "mode": "lines",
         "name": "Middle Africa",
         "orientation": "v",
         "showlegend": true,
         "type": "scatter",
         "x": [
          "Congo",
          "Central African Republic",
          "Democratic Republic of Congo",
          "Equatorial Guinea",
          "Cameroon",
          "Angola",
          "Gabon",
          "Sao Tome and Principe",
          "South Sudan",
          "Chad"
         ],
         "xaxis": "x",
         "y": [
          2,
          3,
          3,
          3.16227807617188,
          3.60555102539062,
          4.12310498046875,
          4.47213623046875,
          5.09902001953125,
          9.4868330078125,
          20
         ],
         "yaxis": "y"
        },
        {
         "hovertemplate": "subregion=Central America<br>Entity=%{x}<br>weighted_med=%{y}<extra></extra>",
         "legendgroup": "Central America",
         "line": {
          "color": "#00cc96",
          "dash": "solid"
         },
         "marker": {
          "symbol": "circle"
         },
         "mode": "lines",
         "name": "Central America",
         "orientation": "v",
         "showlegend": true,
         "type": "scatter",
         "x": [
          "Panama",
          "El Salvador",
          "Belize",
          "Honduras",
          "Costa Rica",
          "Guatemala",
          "Nicaragua",
          "Mexico"
         ],
         "xaxis": "x",
         "y": [
          2,
          2.82842700195312,
          2.82842700195312,
          3.16227807617188,
          3.16227807617188,
          3.60555102539062,
          4,
          5.65685400390625
         ],
         "yaxis": "y"
        },
        {
         "hovertemplate": "subregion=Caribbean<br>Entity=%{x}<br>weighted_med=%{y}<extra></extra>",
         "legendgroup": "Caribbean",
         "line": {
          "color": "#ab63fa",
          "dash": "solid"
         },
         "marker": {
          "symbol": "circle"
         },
         "mode": "lines",
         "name": "Caribbean",
         "orientation": "v",
         "showlegend": true,
         "type": "scatter",
         "x": [
          "Puerto Rico",
          "Dominican Republic",
          "Haiti",
          "Jamaica",
          "Cuba",
          "Montserrat",
          "Bahamas",
          "Trinidad and Tobago",
          "Martinique",
          "Grenada",
          "Saint Lucia",
          "Guadeloupe"
         ],
         "xaxis": "x",
         "y": [
          2.23606811523438,
          3.60555102539062,
          4.12310498046875,
          4.12310498046875,
          4.47213623046875,
          5,
          5.09902001953125,
          5.3851650390625,
          7.81025,
          9.219544921875,
          13.03841015625,
          22.4722109375
         ],
         "yaxis": "y"
        },
        {
         "hovertemplate": "subregion=South-Eastern Asia<br>Entity=%{x}<br>weighted_med=%{y}<extra></extra>",
         "legendgroup": "South-Eastern Asia",
         "line": {
          "color": "#FFA15A",
          "dash": "solid"
         },
         "marker": {
          "symbol": "circle"
         },
         "mode": "lines",
         "name": "South-Eastern Asia",
         "orientation": "v",
         "showlegend": true,
         "type": "scatter",
         "x": [
          "Brunei",
          "Philippines",
          "Vietnam",
          "Thailand",
          "Myanmar",
          "Laos",
          "Cambodia",
          "Malaysia",
          "Indonesia",
          "Singapore",
          "Timor"
         ],
         "xaxis": "x",
         "y": [
          2.23606811523438,
          2.23606811523438,
          2.23606811523438,
          2.82842700195312,
          2.82842700195312,
          3,
          3.16227807617188,
          3.16227807617188,
          4.12310498046875,
          10.4403095703125,
          35
         ],
         "yaxis": "y"
        },
        {
         "hovertemplate": "subregion=Southern Africa<br>Entity=%{x}<br>weighted_med=%{y}<extra></extra>",
         "legendgroup": "Southern Africa",
         "line": {
          "color": "#19d3f3",
          "dash": "solid"
         },
         "marker": {
          "symbol": "circle"
         },
         "mode": "lines",
         "name": "Southern Africa",
         "orientation": "v",
         "showlegend": true,
         "type": "scatter",
         "x": [
          "Eswatini",
          "Lesotho",
          "South Africa",
          "Namibia",
          "Botswana"
         ],
         "xaxis": "x",
         "y": [
          2.23606811523438,
          2.23606811523438,
          3.16227807617188,
          30.413810546875,
          33.94112890625
         ],
         "yaxis": "y"
        },
        {
         "hovertemplate": "subregion=Northern Europe<br>Entity=%{x}<br>weighted_med=%{y}<extra></extra>",
         "legendgroup": "Northern Europe",
         "line": {
          "color": "#FF6692",
          "dash": "solid"
         },
         "marker": {
          "symbol": "circle"
         },
         "mode": "lines",
         "name": "Northern Europe",
         "orientation": "v",
         "showlegend": true,
         "type": "scatter",
         "x": [
          "Sweden",
          "Norway",
          "Estonia",
          "Lithuania",
          "United Kingdom",
          "Latvia",
          "Ireland",
          "Finland",
          "Denmark",
          "Isle of Man",
          "Faeroe Islands",
          "Iceland"
         ],
         "xaxis": "x",
         "y": [
          2.23606811523438,
          2.23606811523438,
          2.82842700195312,
          2.82842700195312,
          3,
          3,
          3.16227807617188,
          3.16227807617188,
          3.60555102539062,
          4.47213623046875,
          5.3851650390625,
          5.3851650390625
         ],
         "yaxis": "y"
        },
        {
         "hovertemplate": "subregion=South America<br>Entity=%{x}<br>weighted_med=%{y}<extra></extra>",
         "legendgroup": "South America",
         "line": {
          "color": "#B6E880",
          "dash": "solid"
         },
         "marker": {
          "symbol": "circle"
         },
         "mode": "lines",
         "name": "South America",
         "orientation": "v",
         "showlegend": true,
         "type": "scatter",
         "x": [
          "Suriname",
          "Guyana",
          "French Guiana",
          "Colombia",
          "Chile",
          "Ecuador",
          "Paraguay",
          "Peru",
          "Brazil",
          "Venezuela",
          "Bolivia",
          "Argentina",
          "Uruguay",
          "Falkland Islands"
         ],
         "xaxis": "x",
         "y": [
          2.23606811523438,
          2.82842700195312,
          3,
          3.60555102539062,
          4,
          4.12310498046875,
          4.24264111328125,
          4.47213623046875,
          5,
          5.3851650390625,
          5.3851650390625,
          6,
          8.0622578125,
          14.3178203125
         ],
         "yaxis": "y"
        },
        {
         "hovertemplate": "subregion=Western Europe<br>Entity=%{x}<br>weighted_med=%{y}<extra></extra>",
         "legendgroup": "Western Europe",
         "line": {
          "color": "#FF97FF",
          "dash": "solid"
         },
         "marker": {
          "symbol": "circle"
         },
         "mode": "lines",
         "name": "Western Europe",
         "orientation": "v",
         "showlegend": true,
         "type": "scatter",
         "x": [
          "Netherlands",
          "France",
          "Switzerland",
          "Austria",
          "Belgium",
          "Germany",
          "Liechtenstein",
          "Luxembourg"
         ],
         "xaxis": "x",
         "y": [
          2.23606811523438,
          2.82842700195312,
          2.82842700195312,
          2.82842700195312,
          3.16227807617188,
          3.16227807617188,
          3.60555102539062,
          4.47213623046875
         ],
         "yaxis": "y"
        },
        {
         "hovertemplate": "subregion=Melanesia<br>Entity=%{x}<br>weighted_med=%{y}<extra></extra>",
         "legendgroup": "Melanesia",
         "line": {
          "color": "#FECB52",
          "dash": "solid"
         },
         "marker": {
          "symbol": "circle"
         },
         "mode": "lines",
         "name": "Melanesia",
         "orientation": "v",
         "showlegend": true,
         "type": "scatter",
         "x": [
          "Papua New Guinea",
          "New Caledonia",
          "Solomon Islands",
          "Vanuatu",
          "Fiji"
         ],
         "xaxis": "x",
         "y": [
          2.23606811523438,
          3.16227807617188,
          3.60555102539062,
          4,
          4
         ],
         "yaxis": "y"
        },
        {
         "hovertemplate": "subregion=Southern Europe<br>Entity=%{x}<br>weighted_med=%{y}<extra></extra>",
         "legendgroup": "Southern Europe",
         "line": {
          "color": "#636efa",
          "dash": "solid"
         },
         "marker": {
          "symbol": "circle"
         },
         "mode": "lines",
         "name": "Southern Europe",
         "orientation": "v",
         "showlegend": true,
         "type": "scatter",
         "x": [
          "Albania",
          "Slovenia",
          "Italy",
          "North Macedonia",
          "Bosnia and Herzegovina",
          "Montenegro",
          "Croatia",
          "Spain",
          "Portugal",
          "Andorra",
          "Malta",
          "Cyprus",
          "Greece"
         ],
         "xaxis": "x",
         "y": [
          2.23606811523438,
          2.82842700195312,
          3,
          3,
          3.16227807617188,
          3.60555102539062,
          3.60555102539062,
          4,
          4,
          4.12310498046875,
          4.12310498046875,
          5,
          8
         ],
         "yaxis": "y"
        },
        {
         "hovertemplate": "subregion=Eastern Asia<br>Entity=%{x}<br>weighted_med=%{y}<extra></extra>",
         "legendgroup": "Eastern Asia",
         "line": {
          "color": "#EF553B",
          "dash": "solid"
         },
         "marker": {
          "symbol": "circle"
         },
         "mode": "lines",
         "name": "Eastern Asia",
         "orientation": "v",
         "showlegend": true,
         "type": "scatter",
         "x": [
          "Japan",
          "Taiwan",
          "China",
          "Mongolia",
          "North Korea",
          "South Korea",
          "Hong Kong"
         ],
         "xaxis": "x",
         "y": [
          2.23606811523438,
          3,
          3.16227807617188,
          3.60555102539062,
          3.60555102539062,
          4.47213623046875,
          25
         ],
         "yaxis": "y"
        },
        {
         "hovertemplate": "subregion=Western Asia<br>Entity=%{x}<br>weighted_med=%{y}<extra></extra>",
         "legendgroup": "Western Asia",
         "line": {
          "color": "#00cc96",
          "dash": "solid"
         },
         "marker": {
          "symbol": "circle"
         },
         "mode": "lines",
         "name": "Western Asia",
         "orientation": "v",
         "showlegend": true,
         "type": "scatter",
         "x": [
          "Azerbaijan",
          "Georgia",
          "Armenia",
          "Turkey",
          "Iraq",
          "Lebanon",
          "Syria",
          "Jordan",
          "Israel",
          "Palestine",
          "Yemen",
          "Oman",
          "Kuwait",
          "United Arab Emirates",
          "Qatar",
          "Saudi Arabia"
         ],
         "xaxis": "x",
         "y": [
          2.23606811523438,
          2.82842700195312,
          2.82842700195312,
          3.60555102539062,
          3.60555102539062,
          6.7082041015625,
          8.0622578125,
          9.4339814453125,
          16.12451953125,
          19.104970703125,
          21.9317109375,
          53.0094296875,
          104.995203125,
          171.819703125,
          196.6215,
          216.01159375
         ],
         "yaxis": "y"
        },
        {
         "hovertemplate": "subregion=Eastern Europe<br>Entity=%{x}<br>weighted_med=%{y}<extra></extra>",
         "legendgroup": "Eastern Europe",
         "line": {
          "color": "#ab63fa",
          "dash": "solid"
         },
         "marker": {
          "symbol": "circle"
         },
         "mode": "lines",
         "name": "Eastern Europe",
         "orientation": "v",
         "showlegend": true,
         "type": "scatter",
         "x": [
          "Slovakia",
          "Moldova",
          "Hungary",
          "Poland",
          "Romania",
          "Belarus",
          "Bulgaria",
          "Ukraine",
          "Russia",
          "Serbia",
          "Czechia"
         ],
         "xaxis": "x",
         "y": [
          2.82842700195312,
          2.82842700195312,
          2.82842700195312,
          3,
          3,
          3,
          3.16227807617188,
          3.16227807617188,
          3.16227807617188,
          3.16227807617188,
          3.16227807617188
         ],
         "yaxis": "y"
        },
        {
         "hovertemplate": "subregion=Southern Asia<br>Entity=%{x}<br>weighted_med=%{y}<extra></extra>",
         "legendgroup": "Southern Asia",
         "line": {
          "color": "#FFA15A",
          "dash": "solid"
         },
         "marker": {
          "symbol": "circle"
         },
         "mode": "lines",
         "name": "Southern Asia",
         "orientation": "v",
         "showlegend": true,
         "type": "scatter",
         "x": [
          "Nepal",
          "Bangladesh",
          "Pakistan",
          "Sri Lanka",
          "India",
          "Bhutan",
          "Iran",
          "Afghanistan"
         ],
         "xaxis": "x",
         "y": [
          2.82842700195312,
          2.82842700195312,
          3,
          3.60555102539062,
          3.60555102539062,
          4,
          5.3851650390625,
          5.8309521484375
         ],
         "yaxis": "y"
        },
        {
         "hovertemplate": "subregion=Australia and New Zealand<br>Entity=%{x}<br>weighted_med=%{y}<extra></extra>",
         "legendgroup": "Australia and New Zealand",
         "line": {
          "color": "#19d3f3",
          "dash": "solid"
         },
         "marker": {
          "symbol": "circle"
         },
         "mode": "lines",
         "name": "Australia and New Zealand",
         "orientation": "v",
         "showlegend": true,
         "type": "scatter",
         "x": [
          "New Zealand",
          "Australia"
         ],
         "xaxis": "x",
         "y": [
          2.82842700195312,
          2.82842700195312
         ],
         "yaxis": "y"
        },
        {
         "hovertemplate": "subregion=Central Asia<br>Entity=%{x}<br>weighted_med=%{y}<extra></extra>",
         "legendgroup": "Central Asia",
         "line": {
          "color": "#FF6692",
          "dash": "solid"
         },
         "marker": {
          "symbol": "circle"
         },
         "mode": "lines",
         "name": "Central Asia",
         "orientation": "v",
         "showlegend": true,
         "type": "scatter",
         "x": [
          "Kyrgyzstan",
          "Uzbekistan",
          "Tajikistan",
          "Kazakhstan",
          "Turkmenistan"
         ],
         "xaxis": "x",
         "y": [
          2.82842700195312,
          3.60555102539062,
          3.60555102539062,
          4.12310498046875,
          17.691810546875
         ],
         "yaxis": "y"
        },
        {
         "hovertemplate": "subregion=Northern America<br>Entity=%{x}<br>weighted_med=%{y}<extra></extra>",
         "legendgroup": "Northern America",
         "line": {
          "color": "#B6E880",
          "dash": "solid"
         },
         "marker": {
          "symbol": "circle"
         },
         "mode": "lines",
         "name": "Northern America",
         "orientation": "v",
         "showlegend": true,
         "type": "scatter",
         "x": [
          "Canada",
          "United States",
          "Greenland"
         ],
         "xaxis": "x",
         "y": [
          3,
          4.12310498046875,
          18.027759765625
         ],
         "yaxis": "y"
        },
        {
         "hovertemplate": "subregion=Western Africa<br>Entity=%{x}<br>weighted_med=%{y}<extra></extra>",
         "legendgroup": "Western Africa",
         "line": {
          "color": "#FF97FF",
          "dash": "solid"
         },
         "marker": {
          "symbol": "circle"
         },
         "mode": "lines",
         "name": "Western Africa",
         "orientation": "v",
         "showlegend": true,
         "type": "scatter",
         "x": [
          "Sierra Leone",
          "Guinea",
          "Togo",
          "Nigeria",
          "Guinea-Bissau",
          "Cote d'Ivoire",
          "Liberia",
          "Ghana",
          "Gambia",
          "Benin",
          "Mali",
          "Burkina Faso",
          "Senegal",
          "Mauritania",
          "Niger"
         ],
         "xaxis": "x",
         "y": [
          3,
          3.16227807617188,
          3.60555102539062,
          3.60555102539062,
          3.60555102539062,
          4.12310498046875,
          4.24264111328125,
          4.24264111328125,
          4.24264111328125,
          5,
          8.54400390625,
          10.2956298828125,
          17.46425,
          30.80583984375,
          33.8378515625
         ],
         "yaxis": "y"
        },
        {
         "hovertemplate": "subregion=Northern Africa<br>Entity=%{x}<br>weighted_med=%{y}<extra></extra>",
         "legendgroup": "Northern Africa",
         "line": {
          "color": "#FECB52",
          "dash": "solid"
         },
         "marker": {
          "symbol": "circle"
         },
         "mode": "lines",
         "name": "Northern Africa",
         "orientation": "v",
         "showlegend": true,
         "type": "scatter",
         "x": [
          "Egypt",
          "Morocco",
          "Algeria",
          "Tunisia",
          "Sudan",
          "Western Sahara",
          "Libya"
         ],
         "xaxis": "x",
         "y": [
          3.60555102539062,
          7.07106787109375,
          7.28010986328125,
          14.035669921875,
          47.85394921875,
          137.295296875,
          223.5755
         ],
         "yaxis": "y"
        },
        {
         "hovertemplate": "subregion=Polynesia<br>Entity=%{x}<br>weighted_med=%{y}<extra></extra>",
         "legendgroup": "Polynesia",
         "line": {
          "color": "#636efa",
          "dash": "solid"
         },
         "marker": {
          "symbol": "circle"
         },
         "mode": "lines",
         "name": "Polynesia",
         "orientation": "v",
         "showlegend": true,
         "type": "scatter",
         "x": [
          "Samoa"
         ],
         "xaxis": "x",
         "y": [
          6.7082041015625
         ],
         "yaxis": "y"
        }
       ],
       "layout": {
        "legend": {
         "title": {
          "text": "subregion"
         },
         "tracegroupgap": 0
        },
        "template": {
         "data": {
          "bar": [
           {
            "error_x": {
             "color": "#2a3f5f"
            },
            "error_y": {
             "color": "#2a3f5f"
            },
            "marker": {
             "line": {
              "color": "#E5ECF6",
              "width": 0.5
             },
             "pattern": {
              "fillmode": "overlay",
              "size": 10,
              "solidity": 0.2
             }
            },
            "type": "bar"
           }
          ],
          "barpolar": [
           {
            "marker": {
             "line": {
              "color": "#E5ECF6",
              "width": 0.5
             },
             "pattern": {
              "fillmode": "overlay",
              "size": 10,
              "solidity": 0.2
             }
            },
            "type": "barpolar"
           }
          ],
          "carpet": [
           {
            "aaxis": {
             "endlinecolor": "#2a3f5f",
             "gridcolor": "white",
             "linecolor": "white",
             "minorgridcolor": "white",
             "startlinecolor": "#2a3f5f"
            },
            "baxis": {
             "endlinecolor": "#2a3f5f",
             "gridcolor": "white",
             "linecolor": "white",
             "minorgridcolor": "white",
             "startlinecolor": "#2a3f5f"
            },
            "type": "carpet"
           }
          ],
          "choropleth": [
           {
            "colorbar": {
             "outlinewidth": 0,
             "ticks": ""
            },
            "type": "choropleth"
           }
          ],
          "contour": [
           {
            "colorbar": {
             "outlinewidth": 0,
             "ticks": ""
            },
            "colorscale": [
             [
              0,
              "#0d0887"
             ],
             [
              0.1111111111111111,
              "#46039f"
             ],
             [
              0.2222222222222222,
              "#7201a8"
             ],
             [
              0.3333333333333333,
              "#9c179e"
             ],
             [
              0.4444444444444444,
              "#bd3786"
             ],
             [
              0.5555555555555556,
              "#d8576b"
             ],
             [
              0.6666666666666666,
              "#ed7953"
             ],
             [
              0.7777777777777778,
              "#fb9f3a"
             ],
             [
              0.8888888888888888,
              "#fdca26"
             ],
             [
              1,
              "#f0f921"
             ]
            ],
            "type": "contour"
           }
          ],
          "contourcarpet": [
           {
            "colorbar": {
             "outlinewidth": 0,
             "ticks": ""
            },
            "type": "contourcarpet"
           }
          ],
          "heatmap": [
           {
            "colorbar": {
             "outlinewidth": 0,
             "ticks": ""
            },
            "colorscale": [
             [
              0,
              "#0d0887"
             ],
             [
              0.1111111111111111,
              "#46039f"
             ],
             [
              0.2222222222222222,
              "#7201a8"
             ],
             [
              0.3333333333333333,
              "#9c179e"
             ],
             [
              0.4444444444444444,
              "#bd3786"
             ],
             [
              0.5555555555555556,
              "#d8576b"
             ],
             [
              0.6666666666666666,
              "#ed7953"
             ],
             [
              0.7777777777777778,
              "#fb9f3a"
             ],
             [
              0.8888888888888888,
              "#fdca26"
             ],
             [
              1,
              "#f0f921"
             ]
            ],
            "type": "heatmap"
           }
          ],
          "heatmapgl": [
           {
            "colorbar": {
             "outlinewidth": 0,
             "ticks": ""
            },
            "colorscale": [
             [
              0,
              "#0d0887"
             ],
             [
              0.1111111111111111,
              "#46039f"
             ],
             [
              0.2222222222222222,
              "#7201a8"
             ],
             [
              0.3333333333333333,
              "#9c179e"
             ],
             [
              0.4444444444444444,
              "#bd3786"
             ],
             [
              0.5555555555555556,
              "#d8576b"
             ],
             [
              0.6666666666666666,
              "#ed7953"
             ],
             [
              0.7777777777777778,
              "#fb9f3a"
             ],
             [
              0.8888888888888888,
              "#fdca26"
             ],
             [
              1,
              "#f0f921"
             ]
            ],
            "type": "heatmapgl"
           }
          ],
          "histogram": [
           {
            "marker": {
             "pattern": {
              "fillmode": "overlay",
              "size": 10,
              "solidity": 0.2
             }
            },
            "type": "histogram"
           }
          ],
          "histogram2d": [
           {
            "colorbar": {
             "outlinewidth": 0,
             "ticks": ""
            },
            "colorscale": [
             [
              0,
              "#0d0887"
             ],
             [
              0.1111111111111111,
              "#46039f"
             ],
             [
              0.2222222222222222,
              "#7201a8"
             ],
             [
              0.3333333333333333,
              "#9c179e"
             ],
             [
              0.4444444444444444,
              "#bd3786"
             ],
             [
              0.5555555555555556,
              "#d8576b"
             ],
             [
              0.6666666666666666,
              "#ed7953"
             ],
             [
              0.7777777777777778,
              "#fb9f3a"
             ],
             [
              0.8888888888888888,
              "#fdca26"
             ],
             [
              1,
              "#f0f921"
             ]
            ],
            "type": "histogram2d"
           }
          ],
          "histogram2dcontour": [
           {
            "colorbar": {
             "outlinewidth": 0,
             "ticks": ""
            },
            "colorscale": [
             [
              0,
              "#0d0887"
             ],
             [
              0.1111111111111111,
              "#46039f"
             ],
             [
              0.2222222222222222,
              "#7201a8"
             ],
             [
              0.3333333333333333,
              "#9c179e"
             ],
             [
              0.4444444444444444,
              "#bd3786"
             ],
             [
              0.5555555555555556,
              "#d8576b"
             ],
             [
              0.6666666666666666,
              "#ed7953"
             ],
             [
              0.7777777777777778,
              "#fb9f3a"
             ],
             [
              0.8888888888888888,
              "#fdca26"
             ],
             [
              1,
              "#f0f921"
             ]
            ],
            "type": "histogram2dcontour"
           }
          ],
          "mesh3d": [
           {
            "colorbar": {
             "outlinewidth": 0,
             "ticks": ""
            },
            "type": "mesh3d"
           }
          ],
          "parcoords": [
           {
            "line": {
             "colorbar": {
              "outlinewidth": 0,
              "ticks": ""
             }
            },
            "type": "parcoords"
           }
          ],
          "pie": [
           {
            "automargin": true,
            "type": "pie"
           }
          ],
          "scatter": [
           {
            "fillpattern": {
             "fillmode": "overlay",
             "size": 10,
             "solidity": 0.2
            },
            "type": "scatter"
           }
          ],
          "scatter3d": [
           {
            "line": {
             "colorbar": {
              "outlinewidth": 0,
              "ticks": ""
             }
            },
            "marker": {
             "colorbar": {
              "outlinewidth": 0,
              "ticks": ""
             }
            },
            "type": "scatter3d"
           }
          ],
          "scattercarpet": [
           {
            "marker": {
             "colorbar": {
              "outlinewidth": 0,
              "ticks": ""
             }
            },
            "type": "scattercarpet"
           }
          ],
          "scattergeo": [
           {
            "marker": {
             "colorbar": {
              "outlinewidth": 0,
              "ticks": ""
             }
            },
            "type": "scattergeo"
           }
          ],
          "scattergl": [
           {
            "marker": {
             "colorbar": {
              "outlinewidth": 0,
              "ticks": ""
             }
            },
            "type": "scattergl"
           }
          ],
          "scattermapbox": [
           {
            "marker": {
             "colorbar": {
              "outlinewidth": 0,
              "ticks": ""
             }
            },
            "type": "scattermapbox"
           }
          ],
          "scatterpolar": [
           {
            "marker": {
             "colorbar": {
              "outlinewidth": 0,
              "ticks": ""
             }
            },
            "type": "scatterpolar"
           }
          ],
          "scatterpolargl": [
           {
            "marker": {
             "colorbar": {
              "outlinewidth": 0,
              "ticks": ""
             }
            },
            "type": "scatterpolargl"
           }
          ],
          "scatterternary": [
           {
            "marker": {
             "colorbar": {
              "outlinewidth": 0,
              "ticks": ""
             }
            },
            "type": "scatterternary"
           }
          ],
          "surface": [
           {
            "colorbar": {
             "outlinewidth": 0,
             "ticks": ""
            },
            "colorscale": [
             [
              0,
              "#0d0887"
             ],
             [
              0.1111111111111111,
              "#46039f"
             ],
             [
              0.2222222222222222,
              "#7201a8"
             ],
             [
              0.3333333333333333,
              "#9c179e"
             ],
             [
              0.4444444444444444,
              "#bd3786"
             ],
             [
              0.5555555555555556,
              "#d8576b"
             ],
             [
              0.6666666666666666,
              "#ed7953"
             ],
             [
              0.7777777777777778,
              "#fb9f3a"
             ],
             [
              0.8888888888888888,
              "#fdca26"
             ],
             [
              1,
              "#f0f921"
             ]
            ],
            "type": "surface"
           }
          ],
          "table": [
           {
            "cells": {
             "fill": {
              "color": "#EBF0F8"
             },
             "line": {
              "color": "white"
             }
            },
            "header": {
             "fill": {
              "color": "#C8D4E3"
             },
             "line": {
              "color": "white"
             }
            },
            "type": "table"
           }
          ]
         },
         "layout": {
          "annotationdefaults": {
           "arrowcolor": "#2a3f5f",
           "arrowhead": 0,
           "arrowwidth": 1
          },
          "autotypenumbers": "strict",
          "coloraxis": {
           "colorbar": {
            "outlinewidth": 0,
            "ticks": ""
           }
          },
          "colorscale": {
           "diverging": [
            [
             0,
             "#8e0152"
            ],
            [
             0.1,
             "#c51b7d"
            ],
            [
             0.2,
             "#de77ae"
            ],
            [
             0.3,
             "#f1b6da"
            ],
            [
             0.4,
             "#fde0ef"
            ],
            [
             0.5,
             "#f7f7f7"
            ],
            [
             0.6,
             "#e6f5d0"
            ],
            [
             0.7,
             "#b8e186"
            ],
            [
             0.8,
             "#7fbc41"
            ],
            [
             0.9,
             "#4d9221"
            ],
            [
             1,
             "#276419"
            ]
           ],
           "sequential": [
            [
             0,
             "#0d0887"
            ],
            [
             0.1111111111111111,
             "#46039f"
            ],
            [
             0.2222222222222222,
             "#7201a8"
            ],
            [
             0.3333333333333333,
             "#9c179e"
            ],
            [
             0.4444444444444444,
             "#bd3786"
            ],
            [
             0.5555555555555556,
             "#d8576b"
            ],
            [
             0.6666666666666666,
             "#ed7953"
            ],
            [
             0.7777777777777778,
             "#fb9f3a"
            ],
            [
             0.8888888888888888,
             "#fdca26"
            ],
            [
             1,
             "#f0f921"
            ]
           ],
           "sequentialminus": [
            [
             0,
             "#0d0887"
            ],
            [
             0.1111111111111111,
             "#46039f"
            ],
            [
             0.2222222222222222,
             "#7201a8"
            ],
            [
             0.3333333333333333,
             "#9c179e"
            ],
            [
             0.4444444444444444,
             "#bd3786"
            ],
            [
             0.5555555555555556,
             "#d8576b"
            ],
            [
             0.6666666666666666,
             "#ed7953"
            ],
            [
             0.7777777777777778,
             "#fb9f3a"
            ],
            [
             0.8888888888888888,
             "#fdca26"
            ],
            [
             1,
             "#f0f921"
            ]
           ]
          },
          "colorway": [
           "#636efa",
           "#EF553B",
           "#00cc96",
           "#ab63fa",
           "#FFA15A",
           "#19d3f3",
           "#FF6692",
           "#B6E880",
           "#FF97FF",
           "#FECB52"
          ],
          "font": {
           "color": "#2a3f5f"
          },
          "geo": {
           "bgcolor": "white",
           "lakecolor": "white",
           "landcolor": "#E5ECF6",
           "showlakes": true,
           "showland": true,
           "subunitcolor": "white"
          },
          "hoverlabel": {
           "align": "left"
          },
          "hovermode": "closest",
          "mapbox": {
           "style": "light"
          },
          "paper_bgcolor": "white",
          "plot_bgcolor": "#E5ECF6",
          "polar": {
           "angularaxis": {
            "gridcolor": "white",
            "linecolor": "white",
            "ticks": ""
           },
           "bgcolor": "#E5ECF6",
           "radialaxis": {
            "gridcolor": "white",
            "linecolor": "white",
            "ticks": ""
           }
          },
          "scene": {
           "xaxis": {
            "backgroundcolor": "#E5ECF6",
            "gridcolor": "white",
            "gridwidth": 2,
            "linecolor": "white",
            "showbackground": true,
            "ticks": "",
            "zerolinecolor": "white"
           },
           "yaxis": {
            "backgroundcolor": "#E5ECF6",
            "gridcolor": "white",
            "gridwidth": 2,
            "linecolor": "white",
            "showbackground": true,
            "ticks": "",
            "zerolinecolor": "white"
           },
           "zaxis": {
            "backgroundcolor": "#E5ECF6",
            "gridcolor": "white",
            "gridwidth": 2,
            "linecolor": "white",
            "showbackground": true,
            "ticks": "",
            "zerolinecolor": "white"
           }
          },
          "shapedefaults": {
           "line": {
            "color": "#2a3f5f"
           }
          },
          "ternary": {
           "aaxis": {
            "gridcolor": "white",
            "linecolor": "white",
            "ticks": ""
           },
           "baxis": {
            "gridcolor": "white",
            "linecolor": "white",
            "ticks": ""
           },
           "bgcolor": "#E5ECF6",
           "caxis": {
            "gridcolor": "white",
            "linecolor": "white",
            "ticks": ""
           }
          },
          "title": {
           "x": 0.05
          },
          "xaxis": {
           "automargin": true,
           "gridcolor": "white",
           "linecolor": "white",
           "ticks": "",
           "title": {
            "standoff": 15
           },
           "zerolinecolor": "white",
           "zerolinewidth": 2
          },
          "yaxis": {
           "automargin": true,
           "gridcolor": "white",
           "linecolor": "white",
           "ticks": "",
           "title": {
            "standoff": 15
           },
           "zerolinecolor": "white",
           "zerolinewidth": 2
          }
         }
        },
        "title": {
         "text": "Distance to Water"
        },
        "xaxis": {
         "anchor": "y",
         "domain": [
          0,
          1
         ],
         "title": {
          "text": "Entity"
         }
        },
        "yaxis": {
         "anchor": "x",
         "domain": [
          0,
          1
         ],
         "title": {
          "text": "weighted_med"
         },
         "type": "log"
        }
       }
      },
      "text/html": [
       "<div>                            <div id=\"e00b09f7-6f4d-446c-a0c6-28a4b7aab570\" class=\"plotly-graph-div\" style=\"height:525px; width:100%;\"></div>            <script type=\"text/javascript\">                require([\"plotly\"], function(Plotly) {                    window.PLOTLYENV=window.PLOTLYENV || {};                                    if (document.getElementById(\"e00b09f7-6f4d-446c-a0c6-28a4b7aab570\")) {                    Plotly.newPlot(                        \"e00b09f7-6f4d-446c-a0c6-28a4b7aab570\",                        [{\"hovertemplate\":\"subregion=Eastern Africa\\u003cbr\\u003eEntity=%{x}\\u003cbr\\u003eweighted_med=%{y}\\u003cextra\\u003e\\u003c\\u002fextra\\u003e\",\"legendgroup\":\"Eastern Africa\",\"line\":{\"color\":\"#636efa\",\"dash\":\"solid\"},\"marker\":{\"symbol\":\"circle\"},\"mode\":\"lines\",\"name\":\"Eastern Africa\",\"orientation\":\"v\",\"showlegend\":true,\"x\":[\"Mauritius\",\"Malawi\",\"Zambia\",\"Uganda\",\"Tanzania\",\"Mozambique\",\"Burundi\",\"Rwanda\",\"Zimbabwe\",\"Madagascar\",\"Kenya\",\"Reunion\",\"Ethiopia\",\"Eritrea\",\"Djibouti\",\"Somalia\"],\"xaxis\":\"x\",\"y\":[2.0,2.82842700195312,3.0,3.0,3.0,3.16227807617188,3.16227807617188,3.60555102539062,3.60555102539062,4.0,4.12310498046875,4.12310498046875,7.07106787109375,21.09501953125,38.83298046875,86.2786171875],\"yaxis\":\"y\",\"type\":\"scatter\"},{\"hovertemplate\":\"subregion=Middle Africa\\u003cbr\\u003eEntity=%{x}\\u003cbr\\u003eweighted_med=%{y}\\u003cextra\\u003e\\u003c\\u002fextra\\u003e\",\"legendgroup\":\"Middle Africa\",\"line\":{\"color\":\"#EF553B\",\"dash\":\"solid\"},\"marker\":{\"symbol\":\"circle\"},\"mode\":\"lines\",\"name\":\"Middle Africa\",\"orientation\":\"v\",\"showlegend\":true,\"x\":[\"Congo\",\"Central African Republic\",\"Democratic Republic of Congo\",\"Equatorial Guinea\",\"Cameroon\",\"Angola\",\"Gabon\",\"Sao Tome and Principe\",\"South Sudan\",\"Chad\"],\"xaxis\":\"x\",\"y\":[2.0,3.0,3.0,3.16227807617188,3.60555102539062,4.12310498046875,4.47213623046875,5.09902001953125,9.4868330078125,20.0],\"yaxis\":\"y\",\"type\":\"scatter\"},{\"hovertemplate\":\"subregion=Central America\\u003cbr\\u003eEntity=%{x}\\u003cbr\\u003eweighted_med=%{y}\\u003cextra\\u003e\\u003c\\u002fextra\\u003e\",\"legendgroup\":\"Central America\",\"line\":{\"color\":\"#00cc96\",\"dash\":\"solid\"},\"marker\":{\"symbol\":\"circle\"},\"mode\":\"lines\",\"name\":\"Central America\",\"orientation\":\"v\",\"showlegend\":true,\"x\":[\"Panama\",\"El Salvador\",\"Belize\",\"Honduras\",\"Costa Rica\",\"Guatemala\",\"Nicaragua\",\"Mexico\"],\"xaxis\":\"x\",\"y\":[2.0,2.82842700195312,2.82842700195312,3.16227807617188,3.16227807617188,3.60555102539062,4.0,5.65685400390625],\"yaxis\":\"y\",\"type\":\"scatter\"},{\"hovertemplate\":\"subregion=Caribbean\\u003cbr\\u003eEntity=%{x}\\u003cbr\\u003eweighted_med=%{y}\\u003cextra\\u003e\\u003c\\u002fextra\\u003e\",\"legendgroup\":\"Caribbean\",\"line\":{\"color\":\"#ab63fa\",\"dash\":\"solid\"},\"marker\":{\"symbol\":\"circle\"},\"mode\":\"lines\",\"name\":\"Caribbean\",\"orientation\":\"v\",\"showlegend\":true,\"x\":[\"Puerto Rico\",\"Dominican Republic\",\"Haiti\",\"Jamaica\",\"Cuba\",\"Montserrat\",\"Bahamas\",\"Trinidad and Tobago\",\"Martinique\",\"Grenada\",\"Saint Lucia\",\"Guadeloupe\"],\"xaxis\":\"x\",\"y\":[2.23606811523438,3.60555102539062,4.12310498046875,4.12310498046875,4.47213623046875,5.0,5.09902001953125,5.3851650390625,7.81025,9.219544921875,13.03841015625,22.4722109375],\"yaxis\":\"y\",\"type\":\"scatter\"},{\"hovertemplate\":\"subregion=South-Eastern Asia\\u003cbr\\u003eEntity=%{x}\\u003cbr\\u003eweighted_med=%{y}\\u003cextra\\u003e\\u003c\\u002fextra\\u003e\",\"legendgroup\":\"South-Eastern Asia\",\"line\":{\"color\":\"#FFA15A\",\"dash\":\"solid\"},\"marker\":{\"symbol\":\"circle\"},\"mode\":\"lines\",\"name\":\"South-Eastern Asia\",\"orientation\":\"v\",\"showlegend\":true,\"x\":[\"Brunei\",\"Philippines\",\"Vietnam\",\"Thailand\",\"Myanmar\",\"Laos\",\"Cambodia\",\"Malaysia\",\"Indonesia\",\"Singapore\",\"Timor\"],\"xaxis\":\"x\",\"y\":[2.23606811523438,2.23606811523438,2.23606811523438,2.82842700195312,2.82842700195312,3.0,3.16227807617188,3.16227807617188,4.12310498046875,10.4403095703125,35.0],\"yaxis\":\"y\",\"type\":\"scatter\"},{\"hovertemplate\":\"subregion=Southern Africa\\u003cbr\\u003eEntity=%{x}\\u003cbr\\u003eweighted_med=%{y}\\u003cextra\\u003e\\u003c\\u002fextra\\u003e\",\"legendgroup\":\"Southern Africa\",\"line\":{\"color\":\"#19d3f3\",\"dash\":\"solid\"},\"marker\":{\"symbol\":\"circle\"},\"mode\":\"lines\",\"name\":\"Southern Africa\",\"orientation\":\"v\",\"showlegend\":true,\"x\":[\"Eswatini\",\"Lesotho\",\"South Africa\",\"Namibia\",\"Botswana\"],\"xaxis\":\"x\",\"y\":[2.23606811523438,2.23606811523438,3.16227807617188,30.413810546875,33.94112890625],\"yaxis\":\"y\",\"type\":\"scatter\"},{\"hovertemplate\":\"subregion=Northern Europe\\u003cbr\\u003eEntity=%{x}\\u003cbr\\u003eweighted_med=%{y}\\u003cextra\\u003e\\u003c\\u002fextra\\u003e\",\"legendgroup\":\"Northern Europe\",\"line\":{\"color\":\"#FF6692\",\"dash\":\"solid\"},\"marker\":{\"symbol\":\"circle\"},\"mode\":\"lines\",\"name\":\"Northern Europe\",\"orientation\":\"v\",\"showlegend\":true,\"x\":[\"Sweden\",\"Norway\",\"Estonia\",\"Lithuania\",\"United Kingdom\",\"Latvia\",\"Ireland\",\"Finland\",\"Denmark\",\"Isle of Man\",\"Faeroe Islands\",\"Iceland\"],\"xaxis\":\"x\",\"y\":[2.23606811523438,2.23606811523438,2.82842700195312,2.82842700195312,3.0,3.0,3.16227807617188,3.16227807617188,3.60555102539062,4.47213623046875,5.3851650390625,5.3851650390625],\"yaxis\":\"y\",\"type\":\"scatter\"},{\"hovertemplate\":\"subregion=South America\\u003cbr\\u003eEntity=%{x}\\u003cbr\\u003eweighted_med=%{y}\\u003cextra\\u003e\\u003c\\u002fextra\\u003e\",\"legendgroup\":\"South America\",\"line\":{\"color\":\"#B6E880\",\"dash\":\"solid\"},\"marker\":{\"symbol\":\"circle\"},\"mode\":\"lines\",\"name\":\"South America\",\"orientation\":\"v\",\"showlegend\":true,\"x\":[\"Suriname\",\"Guyana\",\"French Guiana\",\"Colombia\",\"Chile\",\"Ecuador\",\"Paraguay\",\"Peru\",\"Brazil\",\"Venezuela\",\"Bolivia\",\"Argentina\",\"Uruguay\",\"Falkland Islands\"],\"xaxis\":\"x\",\"y\":[2.23606811523438,2.82842700195312,3.0,3.60555102539062,4.0,4.12310498046875,4.24264111328125,4.47213623046875,5.0,5.3851650390625,5.3851650390625,6.0,8.0622578125,14.3178203125],\"yaxis\":\"y\",\"type\":\"scatter\"},{\"hovertemplate\":\"subregion=Western Europe\\u003cbr\\u003eEntity=%{x}\\u003cbr\\u003eweighted_med=%{y}\\u003cextra\\u003e\\u003c\\u002fextra\\u003e\",\"legendgroup\":\"Western Europe\",\"line\":{\"color\":\"#FF97FF\",\"dash\":\"solid\"},\"marker\":{\"symbol\":\"circle\"},\"mode\":\"lines\",\"name\":\"Western Europe\",\"orientation\":\"v\",\"showlegend\":true,\"x\":[\"Netherlands\",\"France\",\"Switzerland\",\"Austria\",\"Belgium\",\"Germany\",\"Liechtenstein\",\"Luxembourg\"],\"xaxis\":\"x\",\"y\":[2.23606811523438,2.82842700195312,2.82842700195312,2.82842700195312,3.16227807617188,3.16227807617188,3.60555102539062,4.47213623046875],\"yaxis\":\"y\",\"type\":\"scatter\"},{\"hovertemplate\":\"subregion=Melanesia\\u003cbr\\u003eEntity=%{x}\\u003cbr\\u003eweighted_med=%{y}\\u003cextra\\u003e\\u003c\\u002fextra\\u003e\",\"legendgroup\":\"Melanesia\",\"line\":{\"color\":\"#FECB52\",\"dash\":\"solid\"},\"marker\":{\"symbol\":\"circle\"},\"mode\":\"lines\",\"name\":\"Melanesia\",\"orientation\":\"v\",\"showlegend\":true,\"x\":[\"Papua New Guinea\",\"New Caledonia\",\"Solomon Islands\",\"Vanuatu\",\"Fiji\"],\"xaxis\":\"x\",\"y\":[2.23606811523438,3.16227807617188,3.60555102539062,4.0,4.0],\"yaxis\":\"y\",\"type\":\"scatter\"},{\"hovertemplate\":\"subregion=Southern Europe\\u003cbr\\u003eEntity=%{x}\\u003cbr\\u003eweighted_med=%{y}\\u003cextra\\u003e\\u003c\\u002fextra\\u003e\",\"legendgroup\":\"Southern Europe\",\"line\":{\"color\":\"#636efa\",\"dash\":\"solid\"},\"marker\":{\"symbol\":\"circle\"},\"mode\":\"lines\",\"name\":\"Southern Europe\",\"orientation\":\"v\",\"showlegend\":true,\"x\":[\"Albania\",\"Slovenia\",\"Italy\",\"North Macedonia\",\"Bosnia and Herzegovina\",\"Montenegro\",\"Croatia\",\"Spain\",\"Portugal\",\"Andorra\",\"Malta\",\"Cyprus\",\"Greece\"],\"xaxis\":\"x\",\"y\":[2.23606811523438,2.82842700195312,3.0,3.0,3.16227807617188,3.60555102539062,3.60555102539062,4.0,4.0,4.12310498046875,4.12310498046875,5.0,8.0],\"yaxis\":\"y\",\"type\":\"scatter\"},{\"hovertemplate\":\"subregion=Eastern Asia\\u003cbr\\u003eEntity=%{x}\\u003cbr\\u003eweighted_med=%{y}\\u003cextra\\u003e\\u003c\\u002fextra\\u003e\",\"legendgroup\":\"Eastern Asia\",\"line\":{\"color\":\"#EF553B\",\"dash\":\"solid\"},\"marker\":{\"symbol\":\"circle\"},\"mode\":\"lines\",\"name\":\"Eastern Asia\",\"orientation\":\"v\",\"showlegend\":true,\"x\":[\"Japan\",\"Taiwan\",\"China\",\"Mongolia\",\"North Korea\",\"South Korea\",\"Hong Kong\"],\"xaxis\":\"x\",\"y\":[2.23606811523438,3.0,3.16227807617188,3.60555102539062,3.60555102539062,4.47213623046875,25.0],\"yaxis\":\"y\",\"type\":\"scatter\"},{\"hovertemplate\":\"subregion=Western Asia\\u003cbr\\u003eEntity=%{x}\\u003cbr\\u003eweighted_med=%{y}\\u003cextra\\u003e\\u003c\\u002fextra\\u003e\",\"legendgroup\":\"Western Asia\",\"line\":{\"color\":\"#00cc96\",\"dash\":\"solid\"},\"marker\":{\"symbol\":\"circle\"},\"mode\":\"lines\",\"name\":\"Western Asia\",\"orientation\":\"v\",\"showlegend\":true,\"x\":[\"Azerbaijan\",\"Georgia\",\"Armenia\",\"Turkey\",\"Iraq\",\"Lebanon\",\"Syria\",\"Jordan\",\"Israel\",\"Palestine\",\"Yemen\",\"Oman\",\"Kuwait\",\"United Arab Emirates\",\"Qatar\",\"Saudi Arabia\"],\"xaxis\":\"x\",\"y\":[2.23606811523438,2.82842700195312,2.82842700195312,3.60555102539062,3.60555102539062,6.7082041015625,8.0622578125,9.4339814453125,16.12451953125,19.104970703125,21.9317109375,53.0094296875,104.995203125,171.819703125,196.6215,216.01159375],\"yaxis\":\"y\",\"type\":\"scatter\"},{\"hovertemplate\":\"subregion=Eastern Europe\\u003cbr\\u003eEntity=%{x}\\u003cbr\\u003eweighted_med=%{y}\\u003cextra\\u003e\\u003c\\u002fextra\\u003e\",\"legendgroup\":\"Eastern Europe\",\"line\":{\"color\":\"#ab63fa\",\"dash\":\"solid\"},\"marker\":{\"symbol\":\"circle\"},\"mode\":\"lines\",\"name\":\"Eastern Europe\",\"orientation\":\"v\",\"showlegend\":true,\"x\":[\"Slovakia\",\"Moldova\",\"Hungary\",\"Poland\",\"Romania\",\"Belarus\",\"Bulgaria\",\"Ukraine\",\"Russia\",\"Serbia\",\"Czechia\"],\"xaxis\":\"x\",\"y\":[2.82842700195312,2.82842700195312,2.82842700195312,3.0,3.0,3.0,3.16227807617188,3.16227807617188,3.16227807617188,3.16227807617188,3.16227807617188],\"yaxis\":\"y\",\"type\":\"scatter\"},{\"hovertemplate\":\"subregion=Southern Asia\\u003cbr\\u003eEntity=%{x}\\u003cbr\\u003eweighted_med=%{y}\\u003cextra\\u003e\\u003c\\u002fextra\\u003e\",\"legendgroup\":\"Southern Asia\",\"line\":{\"color\":\"#FFA15A\",\"dash\":\"solid\"},\"marker\":{\"symbol\":\"circle\"},\"mode\":\"lines\",\"name\":\"Southern Asia\",\"orientation\":\"v\",\"showlegend\":true,\"x\":[\"Nepal\",\"Bangladesh\",\"Pakistan\",\"Sri Lanka\",\"India\",\"Bhutan\",\"Iran\",\"Afghanistan\"],\"xaxis\":\"x\",\"y\":[2.82842700195312,2.82842700195312,3.0,3.60555102539062,3.60555102539062,4.0,5.3851650390625,5.8309521484375],\"yaxis\":\"y\",\"type\":\"scatter\"},{\"hovertemplate\":\"subregion=Australia and New Zealand\\u003cbr\\u003eEntity=%{x}\\u003cbr\\u003eweighted_med=%{y}\\u003cextra\\u003e\\u003c\\u002fextra\\u003e\",\"legendgroup\":\"Australia and New Zealand\",\"line\":{\"color\":\"#19d3f3\",\"dash\":\"solid\"},\"marker\":{\"symbol\":\"circle\"},\"mode\":\"lines\",\"name\":\"Australia and New Zealand\",\"orientation\":\"v\",\"showlegend\":true,\"x\":[\"New Zealand\",\"Australia\"],\"xaxis\":\"x\",\"y\":[2.82842700195312,2.82842700195312],\"yaxis\":\"y\",\"type\":\"scatter\"},{\"hovertemplate\":\"subregion=Central Asia\\u003cbr\\u003eEntity=%{x}\\u003cbr\\u003eweighted_med=%{y}\\u003cextra\\u003e\\u003c\\u002fextra\\u003e\",\"legendgroup\":\"Central Asia\",\"line\":{\"color\":\"#FF6692\",\"dash\":\"solid\"},\"marker\":{\"symbol\":\"circle\"},\"mode\":\"lines\",\"name\":\"Central Asia\",\"orientation\":\"v\",\"showlegend\":true,\"x\":[\"Kyrgyzstan\",\"Uzbekistan\",\"Tajikistan\",\"Kazakhstan\",\"Turkmenistan\"],\"xaxis\":\"x\",\"y\":[2.82842700195312,3.60555102539062,3.60555102539062,4.12310498046875,17.691810546875],\"yaxis\":\"y\",\"type\":\"scatter\"},{\"hovertemplate\":\"subregion=Northern America\\u003cbr\\u003eEntity=%{x}\\u003cbr\\u003eweighted_med=%{y}\\u003cextra\\u003e\\u003c\\u002fextra\\u003e\",\"legendgroup\":\"Northern America\",\"line\":{\"color\":\"#B6E880\",\"dash\":\"solid\"},\"marker\":{\"symbol\":\"circle\"},\"mode\":\"lines\",\"name\":\"Northern America\",\"orientation\":\"v\",\"showlegend\":true,\"x\":[\"Canada\",\"United States\",\"Greenland\"],\"xaxis\":\"x\",\"y\":[3.0,4.12310498046875,18.027759765625],\"yaxis\":\"y\",\"type\":\"scatter\"},{\"hovertemplate\":\"subregion=Western Africa\\u003cbr\\u003eEntity=%{x}\\u003cbr\\u003eweighted_med=%{y}\\u003cextra\\u003e\\u003c\\u002fextra\\u003e\",\"legendgroup\":\"Western Africa\",\"line\":{\"color\":\"#FF97FF\",\"dash\":\"solid\"},\"marker\":{\"symbol\":\"circle\"},\"mode\":\"lines\",\"name\":\"Western Africa\",\"orientation\":\"v\",\"showlegend\":true,\"x\":[\"Sierra Leone\",\"Guinea\",\"Togo\",\"Nigeria\",\"Guinea-Bissau\",\"Cote d'Ivoire\",\"Liberia\",\"Ghana\",\"Gambia\",\"Benin\",\"Mali\",\"Burkina Faso\",\"Senegal\",\"Mauritania\",\"Niger\"],\"xaxis\":\"x\",\"y\":[3.0,3.16227807617188,3.60555102539062,3.60555102539062,3.60555102539062,4.12310498046875,4.24264111328125,4.24264111328125,4.24264111328125,5.0,8.54400390625,10.2956298828125,17.46425,30.80583984375,33.8378515625],\"yaxis\":\"y\",\"type\":\"scatter\"},{\"hovertemplate\":\"subregion=Northern Africa\\u003cbr\\u003eEntity=%{x}\\u003cbr\\u003eweighted_med=%{y}\\u003cextra\\u003e\\u003c\\u002fextra\\u003e\",\"legendgroup\":\"Northern Africa\",\"line\":{\"color\":\"#FECB52\",\"dash\":\"solid\"},\"marker\":{\"symbol\":\"circle\"},\"mode\":\"lines\",\"name\":\"Northern Africa\",\"orientation\":\"v\",\"showlegend\":true,\"x\":[\"Egypt\",\"Morocco\",\"Algeria\",\"Tunisia\",\"Sudan\",\"Western Sahara\",\"Libya\"],\"xaxis\":\"x\",\"y\":[3.60555102539062,7.07106787109375,7.28010986328125,14.035669921875,47.85394921875,137.295296875,223.5755],\"yaxis\":\"y\",\"type\":\"scatter\"},{\"hovertemplate\":\"subregion=Polynesia\\u003cbr\\u003eEntity=%{x}\\u003cbr\\u003eweighted_med=%{y}\\u003cextra\\u003e\\u003c\\u002fextra\\u003e\",\"legendgroup\":\"Polynesia\",\"line\":{\"color\":\"#636efa\",\"dash\":\"solid\"},\"marker\":{\"symbol\":\"circle\"},\"mode\":\"lines\",\"name\":\"Polynesia\",\"orientation\":\"v\",\"showlegend\":true,\"x\":[\"Samoa\"],\"xaxis\":\"x\",\"y\":[6.7082041015625],\"yaxis\":\"y\",\"type\":\"scatter\"}],                        {\"template\":{\"data\":{\"histogram2dcontour\":[{\"type\":\"histogram2dcontour\",\"colorbar\":{\"outlinewidth\":0,\"ticks\":\"\"},\"colorscale\":[[0.0,\"#0d0887\"],[0.1111111111111111,\"#46039f\"],[0.2222222222222222,\"#7201a8\"],[0.3333333333333333,\"#9c179e\"],[0.4444444444444444,\"#bd3786\"],[0.5555555555555556,\"#d8576b\"],[0.6666666666666666,\"#ed7953\"],[0.7777777777777778,\"#fb9f3a\"],[0.8888888888888888,\"#fdca26\"],[1.0,\"#f0f921\"]]}],\"choropleth\":[{\"type\":\"choropleth\",\"colorbar\":{\"outlinewidth\":0,\"ticks\":\"\"}}],\"histogram2d\":[{\"type\":\"histogram2d\",\"colorbar\":{\"outlinewidth\":0,\"ticks\":\"\"},\"colorscale\":[[0.0,\"#0d0887\"],[0.1111111111111111,\"#46039f\"],[0.2222222222222222,\"#7201a8\"],[0.3333333333333333,\"#9c179e\"],[0.4444444444444444,\"#bd3786\"],[0.5555555555555556,\"#d8576b\"],[0.6666666666666666,\"#ed7953\"],[0.7777777777777778,\"#fb9f3a\"],[0.8888888888888888,\"#fdca26\"],[1.0,\"#f0f921\"]]}],\"heatmap\":[{\"type\":\"heatmap\",\"colorbar\":{\"outlinewidth\":0,\"ticks\":\"\"},\"colorscale\":[[0.0,\"#0d0887\"],[0.1111111111111111,\"#46039f\"],[0.2222222222222222,\"#7201a8\"],[0.3333333333333333,\"#9c179e\"],[0.4444444444444444,\"#bd3786\"],[0.5555555555555556,\"#d8576b\"],[0.6666666666666666,\"#ed7953\"],[0.7777777777777778,\"#fb9f3a\"],[0.8888888888888888,\"#fdca26\"],[1.0,\"#f0f921\"]]}],\"heatmapgl\":[{\"type\":\"heatmapgl\",\"colorbar\":{\"outlinewidth\":0,\"ticks\":\"\"},\"colorscale\":[[0.0,\"#0d0887\"],[0.1111111111111111,\"#46039f\"],[0.2222222222222222,\"#7201a8\"],[0.3333333333333333,\"#9c179e\"],[0.4444444444444444,\"#bd3786\"],[0.5555555555555556,\"#d8576b\"],[0.6666666666666666,\"#ed7953\"],[0.7777777777777778,\"#fb9f3a\"],[0.8888888888888888,\"#fdca26\"],[1.0,\"#f0f921\"]]}],\"contourcarpet\":[{\"type\":\"contourcarpet\",\"colorbar\":{\"outlinewidth\":0,\"ticks\":\"\"}}],\"contour\":[{\"type\":\"contour\",\"colorbar\":{\"outlinewidth\":0,\"ticks\":\"\"},\"colorscale\":[[0.0,\"#0d0887\"],[0.1111111111111111,\"#46039f\"],[0.2222222222222222,\"#7201a8\"],[0.3333333333333333,\"#9c179e\"],[0.4444444444444444,\"#bd3786\"],[0.5555555555555556,\"#d8576b\"],[0.6666666666666666,\"#ed7953\"],[0.7777777777777778,\"#fb9f3a\"],[0.8888888888888888,\"#fdca26\"],[1.0,\"#f0f921\"]]}],\"surface\":[{\"type\":\"surface\",\"colorbar\":{\"outlinewidth\":0,\"ticks\":\"\"},\"colorscale\":[[0.0,\"#0d0887\"],[0.1111111111111111,\"#46039f\"],[0.2222222222222222,\"#7201a8\"],[0.3333333333333333,\"#9c179e\"],[0.4444444444444444,\"#bd3786\"],[0.5555555555555556,\"#d8576b\"],[0.6666666666666666,\"#ed7953\"],[0.7777777777777778,\"#fb9f3a\"],[0.8888888888888888,\"#fdca26\"],[1.0,\"#f0f921\"]]}],\"mesh3d\":[{\"type\":\"mesh3d\",\"colorbar\":{\"outlinewidth\":0,\"ticks\":\"\"}}],\"scatter\":[{\"fillpattern\":{\"fillmode\":\"overlay\",\"size\":10,\"solidity\":0.2},\"type\":\"scatter\"}],\"parcoords\":[{\"type\":\"parcoords\",\"line\":{\"colorbar\":{\"outlinewidth\":0,\"ticks\":\"\"}}}],\"scatterpolargl\":[{\"type\":\"scatterpolargl\",\"marker\":{\"colorbar\":{\"outlinewidth\":0,\"ticks\":\"\"}}}],\"bar\":[{\"error_x\":{\"color\":\"#2a3f5f\"},\"error_y\":{\"color\":\"#2a3f5f\"},\"marker\":{\"line\":{\"color\":\"#E5ECF6\",\"width\":0.5},\"pattern\":{\"fillmode\":\"overlay\",\"size\":10,\"solidity\":0.2}},\"type\":\"bar\"}],\"scattergeo\":[{\"type\":\"scattergeo\",\"marker\":{\"colorbar\":{\"outlinewidth\":0,\"ticks\":\"\"}}}],\"scatterpolar\":[{\"type\":\"scatterpolar\",\"marker\":{\"colorbar\":{\"outlinewidth\":0,\"ticks\":\"\"}}}],\"histogram\":[{\"marker\":{\"pattern\":{\"fillmode\":\"overlay\",\"size\":10,\"solidity\":0.2}},\"type\":\"histogram\"}],\"scattergl\":[{\"type\":\"scattergl\",\"marker\":{\"colorbar\":{\"outlinewidth\":0,\"ticks\":\"\"}}}],\"scatter3d\":[{\"type\":\"scatter3d\",\"line\":{\"colorbar\":{\"outlinewidth\":0,\"ticks\":\"\"}},\"marker\":{\"colorbar\":{\"outlinewidth\":0,\"ticks\":\"\"}}}],\"scattermapbox\":[{\"type\":\"scattermapbox\",\"marker\":{\"colorbar\":{\"outlinewidth\":0,\"ticks\":\"\"}}}],\"scatterternary\":[{\"type\":\"scatterternary\",\"marker\":{\"colorbar\":{\"outlinewidth\":0,\"ticks\":\"\"}}}],\"scattercarpet\":[{\"type\":\"scattercarpet\",\"marker\":{\"colorbar\":{\"outlinewidth\":0,\"ticks\":\"\"}}}],\"carpet\":[{\"aaxis\":{\"endlinecolor\":\"#2a3f5f\",\"gridcolor\":\"white\",\"linecolor\":\"white\",\"minorgridcolor\":\"white\",\"startlinecolor\":\"#2a3f5f\"},\"baxis\":{\"endlinecolor\":\"#2a3f5f\",\"gridcolor\":\"white\",\"linecolor\":\"white\",\"minorgridcolor\":\"white\",\"startlinecolor\":\"#2a3f5f\"},\"type\":\"carpet\"}],\"table\":[{\"cells\":{\"fill\":{\"color\":\"#EBF0F8\"},\"line\":{\"color\":\"white\"}},\"header\":{\"fill\":{\"color\":\"#C8D4E3\"},\"line\":{\"color\":\"white\"}},\"type\":\"table\"}],\"barpolar\":[{\"marker\":{\"line\":{\"color\":\"#E5ECF6\",\"width\":0.5},\"pattern\":{\"fillmode\":\"overlay\",\"size\":10,\"solidity\":0.2}},\"type\":\"barpolar\"}],\"pie\":[{\"automargin\":true,\"type\":\"pie\"}]},\"layout\":{\"autotypenumbers\":\"strict\",\"colorway\":[\"#636efa\",\"#EF553B\",\"#00cc96\",\"#ab63fa\",\"#FFA15A\",\"#19d3f3\",\"#FF6692\",\"#B6E880\",\"#FF97FF\",\"#FECB52\"],\"font\":{\"color\":\"#2a3f5f\"},\"hovermode\":\"closest\",\"hoverlabel\":{\"align\":\"left\"},\"paper_bgcolor\":\"white\",\"plot_bgcolor\":\"#E5ECF6\",\"polar\":{\"bgcolor\":\"#E5ECF6\",\"angularaxis\":{\"gridcolor\":\"white\",\"linecolor\":\"white\",\"ticks\":\"\"},\"radialaxis\":{\"gridcolor\":\"white\",\"linecolor\":\"white\",\"ticks\":\"\"}},\"ternary\":{\"bgcolor\":\"#E5ECF6\",\"aaxis\":{\"gridcolor\":\"white\",\"linecolor\":\"white\",\"ticks\":\"\"},\"baxis\":{\"gridcolor\":\"white\",\"linecolor\":\"white\",\"ticks\":\"\"},\"caxis\":{\"gridcolor\":\"white\",\"linecolor\":\"white\",\"ticks\":\"\"}},\"coloraxis\":{\"colorbar\":{\"outlinewidth\":0,\"ticks\":\"\"}},\"colorscale\":{\"sequential\":[[0.0,\"#0d0887\"],[0.1111111111111111,\"#46039f\"],[0.2222222222222222,\"#7201a8\"],[0.3333333333333333,\"#9c179e\"],[0.4444444444444444,\"#bd3786\"],[0.5555555555555556,\"#d8576b\"],[0.6666666666666666,\"#ed7953\"],[0.7777777777777778,\"#fb9f3a\"],[0.8888888888888888,\"#fdca26\"],[1.0,\"#f0f921\"]],\"sequentialminus\":[[0.0,\"#0d0887\"],[0.1111111111111111,\"#46039f\"],[0.2222222222222222,\"#7201a8\"],[0.3333333333333333,\"#9c179e\"],[0.4444444444444444,\"#bd3786\"],[0.5555555555555556,\"#d8576b\"],[0.6666666666666666,\"#ed7953\"],[0.7777777777777778,\"#fb9f3a\"],[0.8888888888888888,\"#fdca26\"],[1.0,\"#f0f921\"]],\"diverging\":[[0,\"#8e0152\"],[0.1,\"#c51b7d\"],[0.2,\"#de77ae\"],[0.3,\"#f1b6da\"],[0.4,\"#fde0ef\"],[0.5,\"#f7f7f7\"],[0.6,\"#e6f5d0\"],[0.7,\"#b8e186\"],[0.8,\"#7fbc41\"],[0.9,\"#4d9221\"],[1,\"#276419\"]]},\"xaxis\":{\"gridcolor\":\"white\",\"linecolor\":\"white\",\"ticks\":\"\",\"title\":{\"standoff\":15},\"zerolinecolor\":\"white\",\"automargin\":true,\"zerolinewidth\":2},\"yaxis\":{\"gridcolor\":\"white\",\"linecolor\":\"white\",\"ticks\":\"\",\"title\":{\"standoff\":15},\"zerolinecolor\":\"white\",\"automargin\":true,\"zerolinewidth\":2},\"scene\":{\"xaxis\":{\"backgroundcolor\":\"#E5ECF6\",\"gridcolor\":\"white\",\"linecolor\":\"white\",\"showbackground\":true,\"ticks\":\"\",\"zerolinecolor\":\"white\",\"gridwidth\":2},\"yaxis\":{\"backgroundcolor\":\"#E5ECF6\",\"gridcolor\":\"white\",\"linecolor\":\"white\",\"showbackground\":true,\"ticks\":\"\",\"zerolinecolor\":\"white\",\"gridwidth\":2},\"zaxis\":{\"backgroundcolor\":\"#E5ECF6\",\"gridcolor\":\"white\",\"linecolor\":\"white\",\"showbackground\":true,\"ticks\":\"\",\"zerolinecolor\":\"white\",\"gridwidth\":2}},\"shapedefaults\":{\"line\":{\"color\":\"#2a3f5f\"}},\"annotationdefaults\":{\"arrowcolor\":\"#2a3f5f\",\"arrowhead\":0,\"arrowwidth\":1},\"geo\":{\"bgcolor\":\"white\",\"landcolor\":\"#E5ECF6\",\"subunitcolor\":\"white\",\"showland\":true,\"showlakes\":true,\"lakecolor\":\"white\"},\"title\":{\"x\":0.05},\"mapbox\":{\"style\":\"light\"}}},\"xaxis\":{\"anchor\":\"y\",\"domain\":[0.0,1.0],\"title\":{\"text\":\"Entity\"}},\"yaxis\":{\"anchor\":\"x\",\"domain\":[0.0,1.0],\"title\":{\"text\":\"weighted_med\"},\"type\":\"log\"},\"legend\":{\"title\":{\"text\":\"subregion\"},\"tracegroupgap\":0},\"title\":{\"text\":\"Distance to Water\"}},                        {\"responsive\": true}                    ).then(function(){\n",
       "                            \n",
       "var gd = document.getElementById('e00b09f7-6f4d-446c-a0c6-28a4b7aab570');\n",
       "var x = new MutationObserver(function (mutations, observer) {{\n",
       "        var display = window.getComputedStyle(gd).display;\n",
       "        if (!display || display === 'none') {{\n",
       "            console.log([gd, 'removed!']);\n",
       "            Plotly.purge(gd);\n",
       "            observer.disconnect();\n",
       "        }}\n",
       "}});\n",
       "\n",
       "// Listen for the removal of the full notebook cells\n",
       "var notebookContainer = gd.closest('#notebook-container');\n",
       "if (notebookContainer) {{\n",
       "    x.observe(notebookContainer, {childList: true});\n",
       "}}\n",
       "\n",
       "// Listen for the clearing of the current output cell\n",
       "var outputEl = gd.closest('.output');\n",
       "if (outputEl) {{\n",
       "    x.observe(outputEl, {childList: true});\n",
       "}}\n",
       "\n",
       "                        })                };                });            </script>        </div>"
      ]
     },
     "metadata": {},
     "output_type": "display_data"
    }
   ],
   "source": [
    "#sort the countries by distance to water, plot the results\n",
    "df_countries.sort_values(by=\"weighted_med\", inplace=True)\n",
    "# add log scale\n",
    "px.line(df_countries, x=\"Entity\", y=\"weighted_med\", color=\"subregion\", title=\"Distance to Water\", log_y=True)\n"
   ]
  },
  {
   "cell_type": "code",
   "execution_count": null,
   "metadata": {},
   "outputs": [
    {
     "data": {
      "application/vnd.plotly.v1+json": {
       "config": {
        "plotlyServerURL": "https://plot.ly"
       },
       "data": [
        {
         "hovertemplate": "<b>%{hovertext}</b><br><br>region=Africa<br>percent_without_water=%{x}<br>country_pop_without_water=%{y}<br>bubble_size=%{marker.size}<extra></extra>",
         "hovertext": [
          "Mauritius",
          "Congo",
          "Eswatini",
          "Lesotho",
          "Malawi",
          "Zambia",
          "Central African Republic",
          "Democratic Republic of Congo",
          "Uganda",
          "Tanzania",
          "Sierra Leone",
          "Mozambique",
          "Burundi",
          "South Africa",
          "Equatorial Guinea",
          "Guinea",
          "Rwanda",
          "Togo",
          "Nigeria",
          "Zimbabwe",
          "Guinea-Bissau",
          "Cameroon",
          "Egypt",
          "Madagascar",
          "Cote d'Ivoire",
          "Kenya",
          "Reunion",
          "Angola",
          "Liberia",
          "Ghana",
          "Gambia",
          "Gabon",
          "Benin",
          "Sao Tome and Principe",
          "Morocco",
          "Ethiopia",
          "Algeria",
          "Mali",
          "South Sudan",
          "Burkina Faso",
          "Tunisia",
          "Senegal",
          "Chad",
          "Eritrea",
          "Namibia",
          "Mauritania",
          "Niger",
          "Botswana",
          "Djibouti",
          "Sudan",
          "Somalia",
          "Western Sahara",
          "Libya"
         ],
         "legendgroup": "Africa",
         "marker": {
          "color": "#636efa",
          "size": [
           51.273428,
           55.657016999999996,
           51.172369,
           52.159067,
           69.647681,
           68.920657,
           54.919987,
           142.37798600000002,
           97.12353300000001,
           111.498438,
           58.141343,
           82.163045,
           62.255429,
           110.04199599999998,
           51.449891,
           63.497237,
           63.276517,
           58.478242,
           261.400704,
           65.09217100000001,
           52.01549,
           77.224262,
           154.25832699999998,
           78.427333,
           77.053629,
           104.985702,
           50.901696,
           83.933611,
           55.180208,
           81.732128,
           52.486937,
           52.278829,
           62.451031,
           50.223364,
           87.344787,
           167.87622599999997,
           94.616626,
           70.85572400000001,
           61.381377,
           71.497097,
           61.935764,
           67.196308,
           66.914985,
           53.601462,
           52.587344,
           54.77511,
           75.13081,
           52.39724,
           51.002197,
           94.909351,
           66.3595,
           50.611872,
           56.958538
          ],
          "sizemode": "area",
          "sizeref": 3.735540255,
          "symbol": "circle"
         },
         "mode": "markers",
         "name": "Africa",
         "orientation": "v",
         "showlegend": true,
         "type": "scatter",
         "x": [
          17.510016847607027,
          48.059261589330696,
          24.297706905978483,
          27.532642270849877,
          12.376691222547159,
          40.76701138141014,
          50.67109186791584,
          65.97342848175676,
          21.384345167338534,
          38.60777517842524,
          43.61096111101236,
          43.77025402701607,
          30.973455214827528,
          28.527219470347383,
          39.86664826330728,
          26.786346667464304,
          33.60360949433565,
          37.843103682058796,
          28.049822743503732,
          34.34619883193892,
          46.26162085820328,
          37.8581084027514,
          41.89443092081913,
          65.42765526903364,
          40.28254304775189,
          40.54153133729928,
          40.47820452351801,
          61.87685723609214,
          25.000211227129576,
          29.511053229765405,
          30.05363432819077,
          46.35054798016414,
          40.50522492317031,
          59.255678452028036,
          60.76032635709999,
          48.639015222965945,
          38.35615107405666,
          39.395822444857956,
          26.006813821938167,
          33.641709160247046,
          61.63186850471513,
          70.56921551557826,
          48.4883767882005,
          56.053815627947316,
          77.91887504819377,
          68.52024665298964,
          65.25091250088289,
          76.09554918170191,
          68.4761130957827,
          49.004139246201746,
          45.3460809737113,
          70.62939143992794,
          70.9355136163486
         ],
         "xaxis": "x",
         "y": [
          222977.4573421452,
          2718720.5981829073,
          284858.78347655095,
          594448.1934979704,
          2431732.8097610655,
          7713386.3926275745,
          2493011.1326595163,
          60944924.52659727,
          10077058.951764679,
          23743178.681283236,
          3550517.929644127,
          14077846.49932349,
          3795929.8126999857,
          17128311.973297194,
          578022.9451713486,
          3615416.6933492594,
          4461388.927129087,
          3208429.910475855,
          59297522.75051901,
          5183587.059716224,
          932398.3422350012,
          10306590.619809056,
          43678432.78421672,
          18599337.437420238,
          10897889.747904088,
          22292045.607364,
          364990.35106038087,
          20997052.03352086,
          1295062.9420046643,
          9364485.185017293,
          747414.9519524776,
          1056249.7290308946,
          5043318.111803661,
          132355.8536175879,
          22690814.458563853,
          57333835.50839773,
          17113220.47270684,
          8216283.996629629,
          2959933.5267628916,
          7231990.850636193,
          7356234.373513127,
          12135299.653242627,
          8201801.660467596,
          2018756.8693905838,
          2016029.3384269383,
          3271917.1499515744,
          16398082.843863126,
          1824192.943203431,
          686265.5511625413,
          22007440.898605496,
          7418392.116894301,
          432161.46999131585,
          4936074.670488791
         ],
         "yaxis": "y"
        },
        {
         "hovertemplate": "<b>%{hovertext}</b><br><br>region=Americas<br>percent_without_water=%{x}<br>country_pop_without_water=%{y}<br>bubble_size=%{marker.size}<extra></extra>",
         "hovertext": [
          "Panama",
          "Puerto Rico",
          "Suriname",
          "El Salvador",
          "Guyana",
          "Belize",
          "French Guiana",
          "Canada",
          "Honduras",
          "Costa Rica",
          "Guatemala",
          "Colombia",
          "Dominican Republic",
          "Nicaragua",
          "Chile",
          "Ecuador",
          "Haiti",
          "Jamaica",
          "United States",
          "Paraguay",
          "Cuba",
          "Peru",
          "Montserrat",
          "Brazil",
          "Bahamas",
          "Venezuela",
          "Bolivia",
          "Trinidad and Tobago",
          "Mexico",
          "Argentina",
          "Martinique",
          "Uruguay",
          "Grenada",
          "Saint Lucia",
          "Falkland Islands",
          "Greenland",
          "Guadeloupe"
         ],
         "legendgroup": "Americas",
         "marker": {
          "color": "#EF553B",
          "size": [
           54.381583,
           52.828246,
           50.591798,
           56.5185,
           50.790329,
           50.404915,
           50.30645,
           88.067913,
           60.062994,
           55.139053,
           68.24986799999999,
           101.265841,
           60.953714,
           56.702379,
           69.212362,
           67.888474,
           61.541683,
           52.973462,
           382.91507400000006,
           57.219640999999996,
           61.317498,
           83.359415,
           50.004981,
           263.99344099999996,
           50.396914,
           78.704947,
           61.832936000000004,
           51.403374,
           180.26222,
           95.605823,
           50.374743,
           53.485152,
           50.113015,
           50.184401,
           50.003528,
           50.056868,
           50.400013
          ],
          "sizemode": "area",
          "sizeref": 3.735540255,
          "symbol": "circle"
         },
         "mode": "markers",
         "name": "Americas",
         "orientation": "v",
         "showlegend": true,
         "type": "scatter",
         "x": [
          28.397048485503863,
          18.09160508279674,
          13.764390755234023,
          22.505495333717366,
          14.56039113369893,
          14.033573613233116,
          18.512411811966633,
          15.651788331354133,
          35.584276776316734,
          29.639894630622326,
          31.817238819013134,
          35.211603317792765,
          33.29578381858755,
          39.43015406721217,
          33.293816112488635,
          41.47946743936037,
          42.486105282786795,
          38.29285614173942,
          30.743492801000887,
          37.42362094533023,
          28.237858222167144,
          51.73142704067665,
          56.53775864446649,
          44.47720258320748,
          38.96060943701578,
          45.884785309943105,
          30.020730605192963,
          40.604113148007336,
          51.568663971759456,
          36.66792518199736,
          61.44899866148849,
          43.50538984663076,
          53.37459474216484,
          74.0130960688681,
          60.84419434228907,
          61.612203569803405,
          48.88811849088356
         ],
         "xaxis": "x",
         "y": [
          1244240.2489425947,
          511675.0970899955,
          81457.38920165985,
          1467020.7133283664,
          115074.9936430514,
          56824.04459602287,
          56731.285997771745,
          5958309.164924044,
          3580843.6369441464,
          1523209.8942118355,
          5806604.085714656,
          18051524.57045036,
          3647124.9335463587,
          2642758.365868474,
          6396528.475145644,
          7420043.748228444,
          4903611.590785505,
          1138623.5260892878,
          102349721.8086368,
          2701851.0814536484,
          3195819.0395366023,
          17257301.43192154,
          2816.1457580808756,
          95178296.26834656,
          154640.11334083678,
          13171203.304282952,
          3552333.839244896,
          569827.5668497165,
          67174486.51395404,
          16722709.056274146,
          230275.82105402183,
          1516228.9643476491,
          60321.29824785757,
          136480.88928195345,
          2146.583176395958,
          35037.627926075795,
          195558.82941893805
         ],
         "yaxis": "y"
        },
        {
         "hovertemplate": "<b>%{hovertext}</b><br><br>region=Asia<br>percent_without_water=%{x}<br>country_pop_without_water=%{y}<br>bubble_size=%{marker.size}<extra></extra>",
         "hovertext": [
          "Brunei",
          "Philippines",
          "Vietnam",
          "Japan",
          "Azerbaijan",
          "Georgia",
          "Nepal",
          "Kyrgyzstan",
          "Armenia",
          "Bangladesh",
          "Thailand",
          "Myanmar",
          "Pakistan",
          "Laos",
          "Taiwan",
          "Cambodia",
          "China",
          "Malaysia",
          "Uzbekistan",
          "Sri Lanka",
          "Mongolia",
          "Turkey",
          "North Korea",
          "Tajikistan",
          "India",
          "Iraq",
          "Bhutan",
          "Kazakhstan",
          "Indonesia",
          "South Korea",
          "Iran",
          "Afghanistan",
          "Lebanon",
          "Syria",
          "Jordan",
          "Singapore",
          "Israel",
          "Turkmenistan",
          "Palestine",
          "Yemen",
          "Hong Kong",
          "Timor",
          "Oman",
          "Kuwait",
          "United Arab Emirates",
          "Qatar",
          "Saudi Arabia"
         ],
         "legendgroup": "Asia",
         "marker": {
          "color": "#00cc96",
          "size": [
           50.441532,
           161.04690999999997,
           148.16882900000002,
           176.050796,
           60.223344,
           53.979773,
           79.67492,
           56.628347,
           52.968128,
           216.303494,
           119.950844,
           104.80601399999999,
           275.199929,
           57.379357999999996,
           73.855008,
           66.946446,
           1494.216102,
           82.776195,
           83.935765,
           71.497306,
           53.329282,
           135.042736,
           75.887045,
           59.749624999999995,
           1443.409033,
           91.179351,
           50.7799,
           68.994958,
           326.36178799999993,
           101.305184,
           135.02876,
           89.83542800000001,
           56.769151,
           68.27570399999999,
           60.269022,
           55.896684,
           58.789776,
           56.117933,
           55.222756000000004,
           80.490639,
           57.5528,
           51.343875,
           55.223376,
           54.328553,
           59.991083,
           52.930524,
           85.34067999999999
          ],
          "sizemode": "area",
          "sizeref": 3.735540255,
          "symbol": "circle"
         },
         "mode": "markers",
         "name": "Asia",
         "orientation": "v",
         "showlegend": true,
         "type": "scatter",
         "x": [
          18.449341184326904,
          17.151166745255885,
          7.7992241567240175,
          17.61374972170487,
          20.228039809518496,
          19.18728212139154,
          10.56223462221212,
          23.718791241160538,
          24.27817451075206,
          4.545319052713037,
          14.831964584210333,
          24.019750891605497,
          9.849043375830284,
          18.849209083171925,
          19.225731945618204,
          17.082509289435595,
          20.549860730027465,
          29.50286817483295,
          24.80980493827906,
          27.53112977114632,
          29.908558019063847,
          35.25206813866142,
          29.62017388140268,
          40.20427877664695,
          14.781299759131409,
          27.943368678337997,
          43.77914109758325,
          34.53144802141006,
          15.203630021384534,
          32.0872232729841,
          53.04932769356257,
          30.650424584950375,
          59.82890789940257,
          46.23726913201235,
          61.3798593743844,
          47.69928189048111,
          77.9394547257582,
          15.669031561379466,
          58.310855555988105,
          56.07503291838737,
          81.28657727975526,
          80.34841911638644,
          83.83653431850841,
          92.0294160756311,
          99.95474802539132,
          85.30015578806233,
          83.66275078182093
         ],
         "xaxis": "x",
         "y": [
          81459.7451179823,
          19045840.69955423,
          7656407.025741094,
          22202271.72965677,
          2067982.09418402,
          763610.2733009676,
          3134334.6743537495,
          1572163.7876697273,
          720607.2955424949,
          7559024.398109483,
          10375084.408436218,
          13164268.036418432,
          22180038.689549,
          1390950.618415774,
          4586299.893685779,
          2894878.2121791863,
          296784397.6016314,
          9669917.603576189,
          8419397.10081278,
          5918451.212160423,
          995740.2385882491,
          29979323.241701946,
          7667787.741756958,
          3919766.4146776646,
          205963966.03854427,
          11506897.869276864,
          341433.5214200518,
          6559234.048458673,
          42017023.76800307,
          16462408.940695312,
          45107185.52617285,
          12209727.817232205,
          4049909.1173614883,
          8450186.444249945,
          6303111.262724598,
          2812675.9233508976,
          6850703.48601556,
          958620.8526740493,
          3045433.707201702,
          17097635.856276654,
          6139412.608785355,
          1079782.3174003381,
          4379097.412824732,
          3983542.050424212,
          9986561.837657709,
          2499741.537406556,
          29566985.033000834
         ],
         "yaxis": "y"
        },
        {
         "hovertemplate": "<b>%{hovertext}</b><br><br>region=Europe<br>percent_without_water=%{x}<br>country_pop_without_water=%{y}<br>bubble_size=%{marker.size}<extra></extra>",
         "hovertext": [
          "Sweden",
          "Norway",
          "Netherlands",
          "Albania",
          "France",
          "Slovakia",
          "Slovenia",
          "Estonia",
          "Switzerland",
          "Moldova",
          "Austria",
          "Lithuania",
          "Hungary",
          "United Kingdom",
          "Latvia",
          "Italy",
          "North Macedonia",
          "Poland",
          "Romania",
          "Belarus",
          "Ireland",
          "Bulgaria",
          "Belgium",
          "Bosnia and Herzegovina",
          "Ukraine",
          "Russia",
          "Serbia",
          "Czechia",
          "Germany",
          "Finland",
          "Liechtenstein",
          "Montenegro",
          "Denmark",
          "Croatia",
          "Spain",
          "Portugal",
          "Andorra",
          "Malta",
          "Isle of Man",
          "Luxembourg",
          "Cyprus",
          "Faeroe Islands",
          "Iceland",
          "Greece"
         ],
         "legendgroup": "Europe",
         "marker": {
          "color": "#ab63fa",
          "size": [
           60.160159,
           55.465629,
           67.17309399999999,
           52.872934,
           115.426177,
           55.460726,
           52.078723,
           51.325188,
           58.715494,
           54.024025,
           59.043071999999995,
           52.689862,
           59.634162,
           118.207114,
           51.866934,
           110.367471,
           52.082661,
           87.797,
           69.12777200000001,
           59.442867,
           54.982904,
           56.896655,
           61.632334,
           53.263459,
           93.466822,
           195.91202199999998,
           58.697547,
           60.724553,
           133.900471,
           55.548361,
           50.038254,
           50.628051,
           55.813302,
           54.081657,
           96.745211,
           60.167923,
           50.077354,
           50.44279,
           50.08541,
           50.634814,
           51.215588,
           50.049053,
           50.34336,
           60.370747
          ],
          "sizemode": "area",
          "sizeref": 3.735540255,
          "symbol": "circle"
         },
         "mode": "markers",
         "name": "Europe",
         "orientation": "v",
         "showlegend": true,
         "type": "scatter",
         "x": [
          12.25853451193845,
          22.415375999279803,
          6.6028690158084995,
          16.0712220660209,
          13.170886274673798,
          19.292732850329013,
          23.594417623580288,
          22.69772810057108,
          18.267272690639956,
          20.3559128084753,
          17.26378100415679,
          17.655557366969987,
          21.745993734940463,
          15.571293457794205,
          16.219325679845145,
          21.97975086944454,
          21.88165778539107,
          27.380783653745226,
          7.719916314081707,
          17.10838039298512,
          20.69700324996246,
          29.859565311858145,
          12.43902871401005,
          31.682602884485622,
          8.20643522657064,
          28.715589270518354,
          25.969604730247635,
          23.373208450972065,
          16.719191658011987,
          15.830318271893015,
          40,
          32.500601820199805,
          20.27422104747983,
          31.695572863568493,
          33.06219380915692,
          39.31231568257723,
          36.97870214420755,
          45.35380173992071,
          46.848363062500724,
          34.277996521490785,
          41.92178710267408,
          51.824410411968,
          41.3463624494295,
          63.2990996781255
         ],
         "xaxis": "x",
         "y": [
          1245486.5974828205,
          1225141.2910756767,
          1133916.9027816684,
          461715.6029502169,
          8617207.366536785,
          1053523.2788684575,
          490462.58585741685,
          300787.56906139595,
          1592083.0553163642,
          819127.0203912483,
          1561176.1461282214,
          474910.12850232626,
          2095044.2649340148,
          10620729.880032236,
          302804.10568776017,
          13268619.731984181,
          455720.75284980354,
          10349114.797606084,
          1476647.991148353,
          1615521.606363662,
          1031311.8028225095,
          2059311.2040585303,
          1446949.3663695536,
          1033948.7552680057,
          3567076.592478757,
          41899496.933828376,
          2258718.577127511,
          2506672.128124978,
          14027480.548464768,
          878323.205173586,
          15301.6,
          204120.3547377831,
          1178601.6976375661,
          1293704.568475944,
          15454992.257319342,
          3997245.988121377,
          28604.505256630313,
          200822.09872419492,
          40013.18689168187,
          217601.52083793646,
          509596.2134056538,
          25421.428039382667,
          141966.87010636114,
          6564589.48089621
         ],
         "yaxis": "y"
        },
        {
         "hovertemplate": "<b>%{hovertext}</b><br><br>region=Oceania<br>percent_without_water=%{x}<br>country_pop_without_water=%{y}<br>bubble_size=%{marker.size}<extra></extra>",
         "hovertext": [
          "Papua New Guinea",
          "New Zealand",
          "Australia",
          "New Caledonia",
          "Solomon Islands",
          "Vanuatu",
          "Fiji",
          "Samoa"
         ],
         "legendgroup": "Oceania",
         "marker": {
          "color": "#FFA15A",
          "size": [
           59.119005,
           54.860642,
           75.788217,
           50.288217,
           50.703995,
           50.314464,
           50.902899,
           50.200144
          ],
          "sizemode": "area",
          "sizeref": 3.735540255,
          "symbol": "circle"
         },
         "mode": "markers",
         "name": "Oceania",
         "orientation": "v",
         "showlegend": true,
         "type": "scatter",
         "x": [
          52.61579649266655,
          25.678009142643187,
          20.358890515839597,
          37.80676782572808,
          48.07901034981743,
          26.491399247381015,
          37.29594311880728,
          56.275340742382916
         ],
         "xaxis": "x",
         "y": [
          4798037.112956087,
          1248116.0971511547,
          5250194.865017134,
          108965.53202427868,
          338473.8289121972,
          83305.91372928424,
          336744.6974602798,
          112631.71797543486
         ],
         "yaxis": "y"
        }
       ],
       "layout": {
        "legend": {
         "itemsizing": "constant",
         "title": {
          "text": "region"
         },
         "tracegroupgap": 0
        },
        "template": {
         "data": {
          "bar": [
           {
            "error_x": {
             "color": "#2a3f5f"
            },
            "error_y": {
             "color": "#2a3f5f"
            },
            "marker": {
             "line": {
              "color": "#E5ECF6",
              "width": 0.5
             },
             "pattern": {
              "fillmode": "overlay",
              "size": 10,
              "solidity": 0.2
             }
            },
            "type": "bar"
           }
          ],
          "barpolar": [
           {
            "marker": {
             "line": {
              "color": "#E5ECF6",
              "width": 0.5
             },
             "pattern": {
              "fillmode": "overlay",
              "size": 10,
              "solidity": 0.2
             }
            },
            "type": "barpolar"
           }
          ],
          "carpet": [
           {
            "aaxis": {
             "endlinecolor": "#2a3f5f",
             "gridcolor": "white",
             "linecolor": "white",
             "minorgridcolor": "white",
             "startlinecolor": "#2a3f5f"
            },
            "baxis": {
             "endlinecolor": "#2a3f5f",
             "gridcolor": "white",
             "linecolor": "white",
             "minorgridcolor": "white",
             "startlinecolor": "#2a3f5f"
            },
            "type": "carpet"
           }
          ],
          "choropleth": [
           {
            "colorbar": {
             "outlinewidth": 0,
             "ticks": ""
            },
            "type": "choropleth"
           }
          ],
          "contour": [
           {
            "colorbar": {
             "outlinewidth": 0,
             "ticks": ""
            },
            "colorscale": [
             [
              0,
              "#0d0887"
             ],
             [
              0.1111111111111111,
              "#46039f"
             ],
             [
              0.2222222222222222,
              "#7201a8"
             ],
             [
              0.3333333333333333,
              "#9c179e"
             ],
             [
              0.4444444444444444,
              "#bd3786"
             ],
             [
              0.5555555555555556,
              "#d8576b"
             ],
             [
              0.6666666666666666,
              "#ed7953"
             ],
             [
              0.7777777777777778,
              "#fb9f3a"
             ],
             [
              0.8888888888888888,
              "#fdca26"
             ],
             [
              1,
              "#f0f921"
             ]
            ],
            "type": "contour"
           }
          ],
          "contourcarpet": [
           {
            "colorbar": {
             "outlinewidth": 0,
             "ticks": ""
            },
            "type": "contourcarpet"
           }
          ],
          "heatmap": [
           {
            "colorbar": {
             "outlinewidth": 0,
             "ticks": ""
            },
            "colorscale": [
             [
              0,
              "#0d0887"
             ],
             [
              0.1111111111111111,
              "#46039f"
             ],
             [
              0.2222222222222222,
              "#7201a8"
             ],
             [
              0.3333333333333333,
              "#9c179e"
             ],
             [
              0.4444444444444444,
              "#bd3786"
             ],
             [
              0.5555555555555556,
              "#d8576b"
             ],
             [
              0.6666666666666666,
              "#ed7953"
             ],
             [
              0.7777777777777778,
              "#fb9f3a"
             ],
             [
              0.8888888888888888,
              "#fdca26"
             ],
             [
              1,
              "#f0f921"
             ]
            ],
            "type": "heatmap"
           }
          ],
          "heatmapgl": [
           {
            "colorbar": {
             "outlinewidth": 0,
             "ticks": ""
            },
            "colorscale": [
             [
              0,
              "#0d0887"
             ],
             [
              0.1111111111111111,
              "#46039f"
             ],
             [
              0.2222222222222222,
              "#7201a8"
             ],
             [
              0.3333333333333333,
              "#9c179e"
             ],
             [
              0.4444444444444444,
              "#bd3786"
             ],
             [
              0.5555555555555556,
              "#d8576b"
             ],
             [
              0.6666666666666666,
              "#ed7953"
             ],
             [
              0.7777777777777778,
              "#fb9f3a"
             ],
             [
              0.8888888888888888,
              "#fdca26"
             ],
             [
              1,
              "#f0f921"
             ]
            ],
            "type": "heatmapgl"
           }
          ],
          "histogram": [
           {
            "marker": {
             "pattern": {
              "fillmode": "overlay",
              "size": 10,
              "solidity": 0.2
             }
            },
            "type": "histogram"
           }
          ],
          "histogram2d": [
           {
            "colorbar": {
             "outlinewidth": 0,
             "ticks": ""
            },
            "colorscale": [
             [
              0,
              "#0d0887"
             ],
             [
              0.1111111111111111,
              "#46039f"
             ],
             [
              0.2222222222222222,
              "#7201a8"
             ],
             [
              0.3333333333333333,
              "#9c179e"
             ],
             [
              0.4444444444444444,
              "#bd3786"
             ],
             [
              0.5555555555555556,
              "#d8576b"
             ],
             [
              0.6666666666666666,
              "#ed7953"
             ],
             [
              0.7777777777777778,
              "#fb9f3a"
             ],
             [
              0.8888888888888888,
              "#fdca26"
             ],
             [
              1,
              "#f0f921"
             ]
            ],
            "type": "histogram2d"
           }
          ],
          "histogram2dcontour": [
           {
            "colorbar": {
             "outlinewidth": 0,
             "ticks": ""
            },
            "colorscale": [
             [
              0,
              "#0d0887"
             ],
             [
              0.1111111111111111,
              "#46039f"
             ],
             [
              0.2222222222222222,
              "#7201a8"
             ],
             [
              0.3333333333333333,
              "#9c179e"
             ],
             [
              0.4444444444444444,
              "#bd3786"
             ],
             [
              0.5555555555555556,
              "#d8576b"
             ],
             [
              0.6666666666666666,
              "#ed7953"
             ],
             [
              0.7777777777777778,
              "#fb9f3a"
             ],
             [
              0.8888888888888888,
              "#fdca26"
             ],
             [
              1,
              "#f0f921"
             ]
            ],
            "type": "histogram2dcontour"
           }
          ],
          "mesh3d": [
           {
            "colorbar": {
             "outlinewidth": 0,
             "ticks": ""
            },
            "type": "mesh3d"
           }
          ],
          "parcoords": [
           {
            "line": {
             "colorbar": {
              "outlinewidth": 0,
              "ticks": ""
             }
            },
            "type": "parcoords"
           }
          ],
          "pie": [
           {
            "automargin": true,
            "type": "pie"
           }
          ],
          "scatter": [
           {
            "fillpattern": {
             "fillmode": "overlay",
             "size": 10,
             "solidity": 0.2
            },
            "type": "scatter"
           }
          ],
          "scatter3d": [
           {
            "line": {
             "colorbar": {
              "outlinewidth": 0,
              "ticks": ""
             }
            },
            "marker": {
             "colorbar": {
              "outlinewidth": 0,
              "ticks": ""
             }
            },
            "type": "scatter3d"
           }
          ],
          "scattercarpet": [
           {
            "marker": {
             "colorbar": {
              "outlinewidth": 0,
              "ticks": ""
             }
            },
            "type": "scattercarpet"
           }
          ],
          "scattergeo": [
           {
            "marker": {
             "colorbar": {
              "outlinewidth": 0,
              "ticks": ""
             }
            },
            "type": "scattergeo"
           }
          ],
          "scattergl": [
           {
            "marker": {
             "colorbar": {
              "outlinewidth": 0,
              "ticks": ""
             }
            },
            "type": "scattergl"
           }
          ],
          "scattermapbox": [
           {
            "marker": {
             "colorbar": {
              "outlinewidth": 0,
              "ticks": ""
             }
            },
            "type": "scattermapbox"
           }
          ],
          "scatterpolar": [
           {
            "marker": {
             "colorbar": {
              "outlinewidth": 0,
              "ticks": ""
             }
            },
            "type": "scatterpolar"
           }
          ],
          "scatterpolargl": [
           {
            "marker": {
             "colorbar": {
              "outlinewidth": 0,
              "ticks": ""
             }
            },
            "type": "scatterpolargl"
           }
          ],
          "scatterternary": [
           {
            "marker": {
             "colorbar": {
              "outlinewidth": 0,
              "ticks": ""
             }
            },
            "type": "scatterternary"
           }
          ],
          "surface": [
           {
            "colorbar": {
             "outlinewidth": 0,
             "ticks": ""
            },
            "colorscale": [
             [
              0,
              "#0d0887"
             ],
             [
              0.1111111111111111,
              "#46039f"
             ],
             [
              0.2222222222222222,
              "#7201a8"
             ],
             [
              0.3333333333333333,
              "#9c179e"
             ],
             [
              0.4444444444444444,
              "#bd3786"
             ],
             [
              0.5555555555555556,
              "#d8576b"
             ],
             [
              0.6666666666666666,
              "#ed7953"
             ],
             [
              0.7777777777777778,
              "#fb9f3a"
             ],
             [
              0.8888888888888888,
              "#fdca26"
             ],
             [
              1,
              "#f0f921"
             ]
            ],
            "type": "surface"
           }
          ],
          "table": [
           {
            "cells": {
             "fill": {
              "color": "#EBF0F8"
             },
             "line": {
              "color": "white"
             }
            },
            "header": {
             "fill": {
              "color": "#C8D4E3"
             },
             "line": {
              "color": "white"
             }
            },
            "type": "table"
           }
          ]
         },
         "layout": {
          "annotationdefaults": {
           "arrowcolor": "#2a3f5f",
           "arrowhead": 0,
           "arrowwidth": 1
          },
          "autotypenumbers": "strict",
          "coloraxis": {
           "colorbar": {
            "outlinewidth": 0,
            "ticks": ""
           }
          },
          "colorscale": {
           "diverging": [
            [
             0,
             "#8e0152"
            ],
            [
             0.1,
             "#c51b7d"
            ],
            [
             0.2,
             "#de77ae"
            ],
            [
             0.3,
             "#f1b6da"
            ],
            [
             0.4,
             "#fde0ef"
            ],
            [
             0.5,
             "#f7f7f7"
            ],
            [
             0.6,
             "#e6f5d0"
            ],
            [
             0.7,
             "#b8e186"
            ],
            [
             0.8,
             "#7fbc41"
            ],
            [
             0.9,
             "#4d9221"
            ],
            [
             1,
             "#276419"
            ]
           ],
           "sequential": [
            [
             0,
             "#0d0887"
            ],
            [
             0.1111111111111111,
             "#46039f"
            ],
            [
             0.2222222222222222,
             "#7201a8"
            ],
            [
             0.3333333333333333,
             "#9c179e"
            ],
            [
             0.4444444444444444,
             "#bd3786"
            ],
            [
             0.5555555555555556,
             "#d8576b"
            ],
            [
             0.6666666666666666,
             "#ed7953"
            ],
            [
             0.7777777777777778,
             "#fb9f3a"
            ],
            [
             0.8888888888888888,
             "#fdca26"
            ],
            [
             1,
             "#f0f921"
            ]
           ],
           "sequentialminus": [
            [
             0,
             "#0d0887"
            ],
            [
             0.1111111111111111,
             "#46039f"
            ],
            [
             0.2222222222222222,
             "#7201a8"
            ],
            [
             0.3333333333333333,
             "#9c179e"
            ],
            [
             0.4444444444444444,
             "#bd3786"
            ],
            [
             0.5555555555555556,
             "#d8576b"
            ],
            [
             0.6666666666666666,
             "#ed7953"
            ],
            [
             0.7777777777777778,
             "#fb9f3a"
            ],
            [
             0.8888888888888888,
             "#fdca26"
            ],
            [
             1,
             "#f0f921"
            ]
           ]
          },
          "colorway": [
           "#636efa",
           "#EF553B",
           "#00cc96",
           "#ab63fa",
           "#FFA15A",
           "#19d3f3",
           "#FF6692",
           "#B6E880",
           "#FF97FF",
           "#FECB52"
          ],
          "font": {
           "color": "#2a3f5f"
          },
          "geo": {
           "bgcolor": "white",
           "lakecolor": "white",
           "landcolor": "#E5ECF6",
           "showlakes": true,
           "showland": true,
           "subunitcolor": "white"
          },
          "hoverlabel": {
           "align": "left"
          },
          "hovermode": "closest",
          "mapbox": {
           "style": "light"
          },
          "paper_bgcolor": "white",
          "plot_bgcolor": "#E5ECF6",
          "polar": {
           "angularaxis": {
            "gridcolor": "white",
            "linecolor": "white",
            "ticks": ""
           },
           "bgcolor": "#E5ECF6",
           "radialaxis": {
            "gridcolor": "white",
            "linecolor": "white",
            "ticks": ""
           }
          },
          "scene": {
           "xaxis": {
            "backgroundcolor": "#E5ECF6",
            "gridcolor": "white",
            "gridwidth": 2,
            "linecolor": "white",
            "showbackground": true,
            "ticks": "",
            "zerolinecolor": "white"
           },
           "yaxis": {
            "backgroundcolor": "#E5ECF6",
            "gridcolor": "white",
            "gridwidth": 2,
            "linecolor": "white",
            "showbackground": true,
            "ticks": "",
            "zerolinecolor": "white"
           },
           "zaxis": {
            "backgroundcolor": "#E5ECF6",
            "gridcolor": "white",
            "gridwidth": 2,
            "linecolor": "white",
            "showbackground": true,
            "ticks": "",
            "zerolinecolor": "white"
           }
          },
          "shapedefaults": {
           "line": {
            "color": "#2a3f5f"
           }
          },
          "ternary": {
           "aaxis": {
            "gridcolor": "white",
            "linecolor": "white",
            "ticks": ""
           },
           "baxis": {
            "gridcolor": "white",
            "linecolor": "white",
            "ticks": ""
           },
           "bgcolor": "#E5ECF6",
           "caxis": {
            "gridcolor": "white",
            "linecolor": "white",
            "ticks": ""
           }
          },
          "title": {
           "x": 0.05
          },
          "xaxis": {
           "automargin": true,
           "gridcolor": "white",
           "linecolor": "white",
           "ticks": "",
           "title": {
            "standoff": 15
           },
           "zerolinecolor": "white",
           "zerolinewidth": 2
          },
          "yaxis": {
           "automargin": true,
           "gridcolor": "white",
           "linecolor": "white",
           "ticks": "",
           "title": {
            "standoff": 15
           },
           "zerolinecolor": "white",
           "zerolinewidth": 2
          }
         }
        },
        "title": {
         "text": "Population vs. Percent Without Water"
        },
        "xaxis": {
         "anchor": "y",
         "domain": [
          0,
          1
         ],
         "title": {
          "text": "percent_without_water"
         }
        },
        "yaxis": {
         "anchor": "x",
         "domain": [
          0,
          1
         ],
         "title": {
          "text": "country_pop_without_water"
         }
        }
       }
      },
      "text/html": [
       "<div>                            <div id=\"ac373e8f-b2cb-4740-a20f-f511aa1be26c\" class=\"plotly-graph-div\" style=\"height:525px; width:100%;\"></div>            <script type=\"text/javascript\">                require([\"plotly\"], function(Plotly) {                    window.PLOTLYENV=window.PLOTLYENV || {};                                    if (document.getElementById(\"ac373e8f-b2cb-4740-a20f-f511aa1be26c\")) {                    Plotly.newPlot(                        \"ac373e8f-b2cb-4740-a20f-f511aa1be26c\",                        [{\"hovertemplate\":\"\\u003cb\\u003e%{hovertext}\\u003c\\u002fb\\u003e\\u003cbr\\u003e\\u003cbr\\u003eregion=Africa\\u003cbr\\u003epercent_without_water=%{x}\\u003cbr\\u003ecountry_pop_without_water=%{y}\\u003cbr\\u003ebubble_size=%{marker.size}\\u003cextra\\u003e\\u003c\\u002fextra\\u003e\",\"hovertext\":[\"Mauritius\",\"Congo\",\"Eswatini\",\"Lesotho\",\"Malawi\",\"Zambia\",\"Central African Republic\",\"Democratic Republic of Congo\",\"Uganda\",\"Tanzania\",\"Sierra Leone\",\"Mozambique\",\"Burundi\",\"South Africa\",\"Equatorial Guinea\",\"Guinea\",\"Rwanda\",\"Togo\",\"Nigeria\",\"Zimbabwe\",\"Guinea-Bissau\",\"Cameroon\",\"Egypt\",\"Madagascar\",\"Cote d'Ivoire\",\"Kenya\",\"Reunion\",\"Angola\",\"Liberia\",\"Ghana\",\"Gambia\",\"Gabon\",\"Benin\",\"Sao Tome and Principe\",\"Morocco\",\"Ethiopia\",\"Algeria\",\"Mali\",\"South Sudan\",\"Burkina Faso\",\"Tunisia\",\"Senegal\",\"Chad\",\"Eritrea\",\"Namibia\",\"Mauritania\",\"Niger\",\"Botswana\",\"Djibouti\",\"Sudan\",\"Somalia\",\"Western Sahara\",\"Libya\"],\"legendgroup\":\"Africa\",\"marker\":{\"color\":\"#636efa\",\"size\":[51.273428,55.657016999999996,51.172369,52.159067,69.647681,68.920657,54.919987,142.37798600000002,97.12353300000001,111.498438,58.141343,82.163045,62.255429,110.04199599999998,51.449891,63.497237,63.276517,58.478242,261.400704,65.09217100000001,52.01549,77.224262,154.25832699999998,78.427333,77.053629,104.985702,50.901696,83.933611,55.180208,81.732128,52.486937,52.278829,62.451031,50.223364,87.344787,167.87622599999997,94.616626,70.85572400000001,61.381377,71.497097,61.935764,67.196308,66.914985,53.601462,52.587344,54.77511,75.13081,52.39724,51.002197,94.909351,66.3595,50.611872,56.958538],\"sizemode\":\"area\",\"sizeref\":3.735540255,\"symbol\":\"circle\"},\"mode\":\"markers\",\"name\":\"Africa\",\"orientation\":\"v\",\"showlegend\":true,\"x\":[17.510016847607027,48.059261589330696,24.297706905978483,27.532642270849877,12.376691222547159,40.76701138141014,50.67109186791584,65.97342848175676,21.384345167338534,38.60777517842524,43.61096111101236,43.77025402701607,30.973455214827528,28.527219470347383,39.86664826330728,26.786346667464304,33.60360949433565,37.843103682058796,28.049822743503732,34.34619883193892,46.26162085820328,37.8581084027514,41.89443092081913,65.42765526903364,40.28254304775189,40.54153133729928,40.47820452351801,61.87685723609214,25.000211227129576,29.511053229765405,30.05363432819077,46.35054798016414,40.50522492317031,59.255678452028036,60.76032635709999,48.639015222965945,38.35615107405666,39.395822444857956,26.006813821938167,33.641709160247046,61.63186850471513,70.56921551557826,48.4883767882005,56.053815627947316,77.91887504819377,68.52024665298964,65.25091250088289,76.09554918170191,68.4761130957827,49.004139246201746,45.3460809737113,70.62939143992794,70.9355136163486],\"xaxis\":\"x\",\"y\":[222977.4573421452,2718720.5981829073,284858.78347655095,594448.1934979704,2431732.8097610655,7713386.3926275745,2493011.1326595163,60944924.52659727,10077058.951764679,23743178.681283236,3550517.929644127,14077846.49932349,3795929.8126999857,17128311.973297194,578022.9451713486,3615416.6933492594,4461388.927129087,3208429.910475855,59297522.75051901,5183587.059716224,932398.3422350012,10306590.619809056,43678432.78421672,18599337.437420238,10897889.747904088,22292045.607364,364990.35106038087,20997052.03352086,1295062.9420046643,9364485.185017293,747414.9519524776,1056249.7290308946,5043318.111803661,132355.8536175879,22690814.458563853,57333835.50839773,17113220.47270684,8216283.996629629,2959933.5267628916,7231990.850636193,7356234.373513127,12135299.653242627,8201801.660467596,2018756.8693905838,2016029.3384269383,3271917.1499515744,16398082.843863126,1824192.943203431,686265.5511625413,22007440.898605496,7418392.116894301,432161.46999131585,4936074.670488791],\"yaxis\":\"y\",\"type\":\"scatter\"},{\"hovertemplate\":\"\\u003cb\\u003e%{hovertext}\\u003c\\u002fb\\u003e\\u003cbr\\u003e\\u003cbr\\u003eregion=Americas\\u003cbr\\u003epercent_without_water=%{x}\\u003cbr\\u003ecountry_pop_without_water=%{y}\\u003cbr\\u003ebubble_size=%{marker.size}\\u003cextra\\u003e\\u003c\\u002fextra\\u003e\",\"hovertext\":[\"Panama\",\"Puerto Rico\",\"Suriname\",\"El Salvador\",\"Guyana\",\"Belize\",\"French Guiana\",\"Canada\",\"Honduras\",\"Costa Rica\",\"Guatemala\",\"Colombia\",\"Dominican Republic\",\"Nicaragua\",\"Chile\",\"Ecuador\",\"Haiti\",\"Jamaica\",\"United States\",\"Paraguay\",\"Cuba\",\"Peru\",\"Montserrat\",\"Brazil\",\"Bahamas\",\"Venezuela\",\"Bolivia\",\"Trinidad and Tobago\",\"Mexico\",\"Argentina\",\"Martinique\",\"Uruguay\",\"Grenada\",\"Saint Lucia\",\"Falkland Islands\",\"Greenland\",\"Guadeloupe\"],\"legendgroup\":\"Americas\",\"marker\":{\"color\":\"#EF553B\",\"size\":[54.381583,52.828246,50.591798,56.5185,50.790329,50.404915,50.30645,88.067913,60.062994,55.139053,68.24986799999999,101.265841,60.953714,56.702379,69.212362,67.888474,61.541683,52.973462,382.91507400000006,57.219640999999996,61.317498,83.359415,50.004981,263.99344099999996,50.396914,78.704947,61.832936000000004,51.403374,180.26222,95.605823,50.374743,53.485152,50.113015,50.184401,50.003528,50.056868,50.400013],\"sizemode\":\"area\",\"sizeref\":3.735540255,\"symbol\":\"circle\"},\"mode\":\"markers\",\"name\":\"Americas\",\"orientation\":\"v\",\"showlegend\":true,\"x\":[28.397048485503863,18.09160508279674,13.764390755234023,22.505495333717366,14.56039113369893,14.033573613233116,18.512411811966633,15.651788331354133,35.584276776316734,29.639894630622326,31.817238819013134,35.211603317792765,33.29578381858755,39.43015406721217,33.293816112488635,41.47946743936037,42.486105282786795,38.29285614173942,30.743492801000887,37.42362094533023,28.237858222167144,51.73142704067665,56.53775864446649,44.47720258320748,38.96060943701578,45.884785309943105,30.020730605192963,40.604113148007336,51.568663971759456,36.66792518199736,61.44899866148849,43.50538984663076,53.37459474216484,74.0130960688681,60.84419434228907,61.612203569803405,48.88811849088356],\"xaxis\":\"x\",\"y\":[1244240.2489425947,511675.0970899955,81457.38920165985,1467020.7133283664,115074.9936430514,56824.04459602287,56731.285997771745,5958309.164924044,3580843.6369441464,1523209.8942118355,5806604.085714656,18051524.57045036,3647124.9335463587,2642758.365868474,6396528.475145644,7420043.748228444,4903611.590785505,1138623.5260892878,102349721.8086368,2701851.0814536484,3195819.0395366023,17257301.43192154,2816.1457580808756,95178296.26834656,154640.11334083678,13171203.304282952,3552333.839244896,569827.5668497165,67174486.51395404,16722709.056274146,230275.82105402183,1516228.9643476491,60321.29824785757,136480.88928195345,2146.583176395958,35037.627926075795,195558.82941893805],\"yaxis\":\"y\",\"type\":\"scatter\"},{\"hovertemplate\":\"\\u003cb\\u003e%{hovertext}\\u003c\\u002fb\\u003e\\u003cbr\\u003e\\u003cbr\\u003eregion=Asia\\u003cbr\\u003epercent_without_water=%{x}\\u003cbr\\u003ecountry_pop_without_water=%{y}\\u003cbr\\u003ebubble_size=%{marker.size}\\u003cextra\\u003e\\u003c\\u002fextra\\u003e\",\"hovertext\":[\"Brunei\",\"Philippines\",\"Vietnam\",\"Japan\",\"Azerbaijan\",\"Georgia\",\"Nepal\",\"Kyrgyzstan\",\"Armenia\",\"Bangladesh\",\"Thailand\",\"Myanmar\",\"Pakistan\",\"Laos\",\"Taiwan\",\"Cambodia\",\"China\",\"Malaysia\",\"Uzbekistan\",\"Sri Lanka\",\"Mongolia\",\"Turkey\",\"North Korea\",\"Tajikistan\",\"India\",\"Iraq\",\"Bhutan\",\"Kazakhstan\",\"Indonesia\",\"South Korea\",\"Iran\",\"Afghanistan\",\"Lebanon\",\"Syria\",\"Jordan\",\"Singapore\",\"Israel\",\"Turkmenistan\",\"Palestine\",\"Yemen\",\"Hong Kong\",\"Timor\",\"Oman\",\"Kuwait\",\"United Arab Emirates\",\"Qatar\",\"Saudi Arabia\"],\"legendgroup\":\"Asia\",\"marker\":{\"color\":\"#00cc96\",\"size\":[50.441532,161.04690999999997,148.16882900000002,176.050796,60.223344,53.979773,79.67492,56.628347,52.968128,216.303494,119.950844,104.80601399999999,275.199929,57.379357999999996,73.855008,66.946446,1494.216102,82.776195,83.935765,71.497306,53.329282,135.042736,75.887045,59.749624999999995,1443.409033,91.179351,50.7799,68.994958,326.36178799999993,101.305184,135.02876,89.83542800000001,56.769151,68.27570399999999,60.269022,55.896684,58.789776,56.117933,55.222756000000004,80.490639,57.5528,51.343875,55.223376,54.328553,59.991083,52.930524,85.34067999999999],\"sizemode\":\"area\",\"sizeref\":3.735540255,\"symbol\":\"circle\"},\"mode\":\"markers\",\"name\":\"Asia\",\"orientation\":\"v\",\"showlegend\":true,\"x\":[18.449341184326904,17.151166745255885,7.7992241567240175,17.61374972170487,20.228039809518496,19.18728212139154,10.56223462221212,23.718791241160538,24.27817451075206,4.545319052713037,14.831964584210333,24.019750891605497,9.849043375830284,18.849209083171925,19.225731945618204,17.082509289435595,20.549860730027465,29.50286817483295,24.80980493827906,27.53112977114632,29.908558019063847,35.25206813866142,29.62017388140268,40.20427877664695,14.781299759131409,27.943368678337997,43.77914109758325,34.53144802141006,15.203630021384534,32.0872232729841,53.04932769356257,30.650424584950375,59.82890789940257,46.23726913201235,61.3798593743844,47.69928189048111,77.9394547257582,15.669031561379466,58.310855555988105,56.07503291838737,81.28657727975526,80.34841911638644,83.83653431850841,92.0294160756311,99.95474802539132,85.30015578806233,83.66275078182093],\"xaxis\":\"x\",\"y\":[81459.7451179823,19045840.69955423,7656407.025741094,22202271.72965677,2067982.09418402,763610.2733009676,3134334.6743537495,1572163.7876697273,720607.2955424949,7559024.398109483,10375084.408436218,13164268.036418432,22180038.689549,1390950.618415774,4586299.893685779,2894878.2121791863,296784397.6016314,9669917.603576189,8419397.10081278,5918451.212160423,995740.2385882491,29979323.241701946,7667787.741756958,3919766.4146776646,205963966.03854427,11506897.869276864,341433.5214200518,6559234.048458673,42017023.76800307,16462408.940695312,45107185.52617285,12209727.817232205,4049909.1173614883,8450186.444249945,6303111.262724598,2812675.9233508976,6850703.48601556,958620.8526740493,3045433.707201702,17097635.856276654,6139412.608785355,1079782.3174003381,4379097.412824732,3983542.050424212,9986561.837657709,2499741.537406556,29566985.033000834],\"yaxis\":\"y\",\"type\":\"scatter\"},{\"hovertemplate\":\"\\u003cb\\u003e%{hovertext}\\u003c\\u002fb\\u003e\\u003cbr\\u003e\\u003cbr\\u003eregion=Europe\\u003cbr\\u003epercent_without_water=%{x}\\u003cbr\\u003ecountry_pop_without_water=%{y}\\u003cbr\\u003ebubble_size=%{marker.size}\\u003cextra\\u003e\\u003c\\u002fextra\\u003e\",\"hovertext\":[\"Sweden\",\"Norway\",\"Netherlands\",\"Albania\",\"France\",\"Slovakia\",\"Slovenia\",\"Estonia\",\"Switzerland\",\"Moldova\",\"Austria\",\"Lithuania\",\"Hungary\",\"United Kingdom\",\"Latvia\",\"Italy\",\"North Macedonia\",\"Poland\",\"Romania\",\"Belarus\",\"Ireland\",\"Bulgaria\",\"Belgium\",\"Bosnia and Herzegovina\",\"Ukraine\",\"Russia\",\"Serbia\",\"Czechia\",\"Germany\",\"Finland\",\"Liechtenstein\",\"Montenegro\",\"Denmark\",\"Croatia\",\"Spain\",\"Portugal\",\"Andorra\",\"Malta\",\"Isle of Man\",\"Luxembourg\",\"Cyprus\",\"Faeroe Islands\",\"Iceland\",\"Greece\"],\"legendgroup\":\"Europe\",\"marker\":{\"color\":\"#ab63fa\",\"size\":[60.160159,55.465629,67.17309399999999,52.872934,115.426177,55.460726,52.078723,51.325188,58.715494,54.024025,59.043071999999995,52.689862,59.634162,118.207114,51.866934,110.367471,52.082661,87.797,69.12777200000001,59.442867,54.982904,56.896655,61.632334,53.263459,93.466822,195.91202199999998,58.697547,60.724553,133.900471,55.548361,50.038254,50.628051,55.813302,54.081657,96.745211,60.167923,50.077354,50.44279,50.08541,50.634814,51.215588,50.049053,50.34336,60.370747],\"sizemode\":\"area\",\"sizeref\":3.735540255,\"symbol\":\"circle\"},\"mode\":\"markers\",\"name\":\"Europe\",\"orientation\":\"v\",\"showlegend\":true,\"x\":[12.25853451193845,22.415375999279803,6.6028690158084995,16.0712220660209,13.170886274673798,19.292732850329013,23.594417623580288,22.69772810057108,18.267272690639956,20.3559128084753,17.26378100415679,17.655557366969987,21.745993734940463,15.571293457794205,16.219325679845145,21.97975086944454,21.88165778539107,27.380783653745226,7.719916314081707,17.10838039298512,20.69700324996246,29.859565311858145,12.43902871401005,31.682602884485622,8.20643522657064,28.715589270518354,25.969604730247635,23.373208450972065,16.719191658011987,15.830318271893015,40.0,32.500601820199805,20.27422104747983,31.695572863568493,33.06219380915692,39.31231568257723,36.97870214420755,45.35380173992071,46.848363062500724,34.277996521490785,41.92178710267408,51.824410411968,41.3463624494295,63.2990996781255],\"xaxis\":\"x\",\"y\":[1245486.5974828205,1225141.2910756767,1133916.9027816684,461715.6029502169,8617207.366536785,1053523.2788684575,490462.58585741685,300787.56906139595,1592083.0553163642,819127.0203912483,1561176.1461282214,474910.12850232626,2095044.2649340148,10620729.880032236,302804.10568776017,13268619.731984181,455720.75284980354,10349114.797606084,1476647.991148353,1615521.606363662,1031311.8028225095,2059311.2040585303,1446949.3663695536,1033948.7552680057,3567076.592478757,41899496.933828376,2258718.577127511,2506672.128124978,14027480.548464768,878323.205173586,15301.6,204120.3547377831,1178601.6976375661,1293704.568475944,15454992.257319342,3997245.988121377,28604.505256630313,200822.09872419492,40013.18689168187,217601.52083793646,509596.2134056538,25421.428039382667,141966.87010636114,6564589.48089621],\"yaxis\":\"y\",\"type\":\"scatter\"},{\"hovertemplate\":\"\\u003cb\\u003e%{hovertext}\\u003c\\u002fb\\u003e\\u003cbr\\u003e\\u003cbr\\u003eregion=Oceania\\u003cbr\\u003epercent_without_water=%{x}\\u003cbr\\u003ecountry_pop_without_water=%{y}\\u003cbr\\u003ebubble_size=%{marker.size}\\u003cextra\\u003e\\u003c\\u002fextra\\u003e\",\"hovertext\":[\"Papua New Guinea\",\"New Zealand\",\"Australia\",\"New Caledonia\",\"Solomon Islands\",\"Vanuatu\",\"Fiji\",\"Samoa\"],\"legendgroup\":\"Oceania\",\"marker\":{\"color\":\"#FFA15A\",\"size\":[59.119005,54.860642,75.788217,50.288217,50.703995,50.314464,50.902899,50.200144],\"sizemode\":\"area\",\"sizeref\":3.735540255,\"symbol\":\"circle\"},\"mode\":\"markers\",\"name\":\"Oceania\",\"orientation\":\"v\",\"showlegend\":true,\"x\":[52.61579649266655,25.678009142643187,20.358890515839597,37.80676782572808,48.07901034981743,26.491399247381015,37.29594311880728,56.275340742382916],\"xaxis\":\"x\",\"y\":[4798037.112956087,1248116.0971511547,5250194.865017134,108965.53202427868,338473.8289121972,83305.91372928424,336744.6974602798,112631.71797543486],\"yaxis\":\"y\",\"type\":\"scatter\"}],                        {\"template\":{\"data\":{\"histogram2dcontour\":[{\"type\":\"histogram2dcontour\",\"colorbar\":{\"outlinewidth\":0,\"ticks\":\"\"},\"colorscale\":[[0.0,\"#0d0887\"],[0.1111111111111111,\"#46039f\"],[0.2222222222222222,\"#7201a8\"],[0.3333333333333333,\"#9c179e\"],[0.4444444444444444,\"#bd3786\"],[0.5555555555555556,\"#d8576b\"],[0.6666666666666666,\"#ed7953\"],[0.7777777777777778,\"#fb9f3a\"],[0.8888888888888888,\"#fdca26\"],[1.0,\"#f0f921\"]]}],\"choropleth\":[{\"type\":\"choropleth\",\"colorbar\":{\"outlinewidth\":0,\"ticks\":\"\"}}],\"histogram2d\":[{\"type\":\"histogram2d\",\"colorbar\":{\"outlinewidth\":0,\"ticks\":\"\"},\"colorscale\":[[0.0,\"#0d0887\"],[0.1111111111111111,\"#46039f\"],[0.2222222222222222,\"#7201a8\"],[0.3333333333333333,\"#9c179e\"],[0.4444444444444444,\"#bd3786\"],[0.5555555555555556,\"#d8576b\"],[0.6666666666666666,\"#ed7953\"],[0.7777777777777778,\"#fb9f3a\"],[0.8888888888888888,\"#fdca26\"],[1.0,\"#f0f921\"]]}],\"heatmap\":[{\"type\":\"heatmap\",\"colorbar\":{\"outlinewidth\":0,\"ticks\":\"\"},\"colorscale\":[[0.0,\"#0d0887\"],[0.1111111111111111,\"#46039f\"],[0.2222222222222222,\"#7201a8\"],[0.3333333333333333,\"#9c179e\"],[0.4444444444444444,\"#bd3786\"],[0.5555555555555556,\"#d8576b\"],[0.6666666666666666,\"#ed7953\"],[0.7777777777777778,\"#fb9f3a\"],[0.8888888888888888,\"#fdca26\"],[1.0,\"#f0f921\"]]}],\"heatmapgl\":[{\"type\":\"heatmapgl\",\"colorbar\":{\"outlinewidth\":0,\"ticks\":\"\"},\"colorscale\":[[0.0,\"#0d0887\"],[0.1111111111111111,\"#46039f\"],[0.2222222222222222,\"#7201a8\"],[0.3333333333333333,\"#9c179e\"],[0.4444444444444444,\"#bd3786\"],[0.5555555555555556,\"#d8576b\"],[0.6666666666666666,\"#ed7953\"],[0.7777777777777778,\"#fb9f3a\"],[0.8888888888888888,\"#fdca26\"],[1.0,\"#f0f921\"]]}],\"contourcarpet\":[{\"type\":\"contourcarpet\",\"colorbar\":{\"outlinewidth\":0,\"ticks\":\"\"}}],\"contour\":[{\"type\":\"contour\",\"colorbar\":{\"outlinewidth\":0,\"ticks\":\"\"},\"colorscale\":[[0.0,\"#0d0887\"],[0.1111111111111111,\"#46039f\"],[0.2222222222222222,\"#7201a8\"],[0.3333333333333333,\"#9c179e\"],[0.4444444444444444,\"#bd3786\"],[0.5555555555555556,\"#d8576b\"],[0.6666666666666666,\"#ed7953\"],[0.7777777777777778,\"#fb9f3a\"],[0.8888888888888888,\"#fdca26\"],[1.0,\"#f0f921\"]]}],\"surface\":[{\"type\":\"surface\",\"colorbar\":{\"outlinewidth\":0,\"ticks\":\"\"},\"colorscale\":[[0.0,\"#0d0887\"],[0.1111111111111111,\"#46039f\"],[0.2222222222222222,\"#7201a8\"],[0.3333333333333333,\"#9c179e\"],[0.4444444444444444,\"#bd3786\"],[0.5555555555555556,\"#d8576b\"],[0.6666666666666666,\"#ed7953\"],[0.7777777777777778,\"#fb9f3a\"],[0.8888888888888888,\"#fdca26\"],[1.0,\"#f0f921\"]]}],\"mesh3d\":[{\"type\":\"mesh3d\",\"colorbar\":{\"outlinewidth\":0,\"ticks\":\"\"}}],\"scatter\":[{\"fillpattern\":{\"fillmode\":\"overlay\",\"size\":10,\"solidity\":0.2},\"type\":\"scatter\"}],\"parcoords\":[{\"type\":\"parcoords\",\"line\":{\"colorbar\":{\"outlinewidth\":0,\"ticks\":\"\"}}}],\"scatterpolargl\":[{\"type\":\"scatterpolargl\",\"marker\":{\"colorbar\":{\"outlinewidth\":0,\"ticks\":\"\"}}}],\"bar\":[{\"error_x\":{\"color\":\"#2a3f5f\"},\"error_y\":{\"color\":\"#2a3f5f\"},\"marker\":{\"line\":{\"color\":\"#E5ECF6\",\"width\":0.5},\"pattern\":{\"fillmode\":\"overlay\",\"size\":10,\"solidity\":0.2}},\"type\":\"bar\"}],\"scattergeo\":[{\"type\":\"scattergeo\",\"marker\":{\"colorbar\":{\"outlinewidth\":0,\"ticks\":\"\"}}}],\"scatterpolar\":[{\"type\":\"scatterpolar\",\"marker\":{\"colorbar\":{\"outlinewidth\":0,\"ticks\":\"\"}}}],\"histogram\":[{\"marker\":{\"pattern\":{\"fillmode\":\"overlay\",\"size\":10,\"solidity\":0.2}},\"type\":\"histogram\"}],\"scattergl\":[{\"type\":\"scattergl\",\"marker\":{\"colorbar\":{\"outlinewidth\":0,\"ticks\":\"\"}}}],\"scatter3d\":[{\"type\":\"scatter3d\",\"line\":{\"colorbar\":{\"outlinewidth\":0,\"ticks\":\"\"}},\"marker\":{\"colorbar\":{\"outlinewidth\":0,\"ticks\":\"\"}}}],\"scattermapbox\":[{\"type\":\"scattermapbox\",\"marker\":{\"colorbar\":{\"outlinewidth\":0,\"ticks\":\"\"}}}],\"scatterternary\":[{\"type\":\"scatterternary\",\"marker\":{\"colorbar\":{\"outlinewidth\":0,\"ticks\":\"\"}}}],\"scattercarpet\":[{\"type\":\"scattercarpet\",\"marker\":{\"colorbar\":{\"outlinewidth\":0,\"ticks\":\"\"}}}],\"carpet\":[{\"aaxis\":{\"endlinecolor\":\"#2a3f5f\",\"gridcolor\":\"white\",\"linecolor\":\"white\",\"minorgridcolor\":\"white\",\"startlinecolor\":\"#2a3f5f\"},\"baxis\":{\"endlinecolor\":\"#2a3f5f\",\"gridcolor\":\"white\",\"linecolor\":\"white\",\"minorgridcolor\":\"white\",\"startlinecolor\":\"#2a3f5f\"},\"type\":\"carpet\"}],\"table\":[{\"cells\":{\"fill\":{\"color\":\"#EBF0F8\"},\"line\":{\"color\":\"white\"}},\"header\":{\"fill\":{\"color\":\"#C8D4E3\"},\"line\":{\"color\":\"white\"}},\"type\":\"table\"}],\"barpolar\":[{\"marker\":{\"line\":{\"color\":\"#E5ECF6\",\"width\":0.5},\"pattern\":{\"fillmode\":\"overlay\",\"size\":10,\"solidity\":0.2}},\"type\":\"barpolar\"}],\"pie\":[{\"automargin\":true,\"type\":\"pie\"}]},\"layout\":{\"autotypenumbers\":\"strict\",\"colorway\":[\"#636efa\",\"#EF553B\",\"#00cc96\",\"#ab63fa\",\"#FFA15A\",\"#19d3f3\",\"#FF6692\",\"#B6E880\",\"#FF97FF\",\"#FECB52\"],\"font\":{\"color\":\"#2a3f5f\"},\"hovermode\":\"closest\",\"hoverlabel\":{\"align\":\"left\"},\"paper_bgcolor\":\"white\",\"plot_bgcolor\":\"#E5ECF6\",\"polar\":{\"bgcolor\":\"#E5ECF6\",\"angularaxis\":{\"gridcolor\":\"white\",\"linecolor\":\"white\",\"ticks\":\"\"},\"radialaxis\":{\"gridcolor\":\"white\",\"linecolor\":\"white\",\"ticks\":\"\"}},\"ternary\":{\"bgcolor\":\"#E5ECF6\",\"aaxis\":{\"gridcolor\":\"white\",\"linecolor\":\"white\",\"ticks\":\"\"},\"baxis\":{\"gridcolor\":\"white\",\"linecolor\":\"white\",\"ticks\":\"\"},\"caxis\":{\"gridcolor\":\"white\",\"linecolor\":\"white\",\"ticks\":\"\"}},\"coloraxis\":{\"colorbar\":{\"outlinewidth\":0,\"ticks\":\"\"}},\"colorscale\":{\"sequential\":[[0.0,\"#0d0887\"],[0.1111111111111111,\"#46039f\"],[0.2222222222222222,\"#7201a8\"],[0.3333333333333333,\"#9c179e\"],[0.4444444444444444,\"#bd3786\"],[0.5555555555555556,\"#d8576b\"],[0.6666666666666666,\"#ed7953\"],[0.7777777777777778,\"#fb9f3a\"],[0.8888888888888888,\"#fdca26\"],[1.0,\"#f0f921\"]],\"sequentialminus\":[[0.0,\"#0d0887\"],[0.1111111111111111,\"#46039f\"],[0.2222222222222222,\"#7201a8\"],[0.3333333333333333,\"#9c179e\"],[0.4444444444444444,\"#bd3786\"],[0.5555555555555556,\"#d8576b\"],[0.6666666666666666,\"#ed7953\"],[0.7777777777777778,\"#fb9f3a\"],[0.8888888888888888,\"#fdca26\"],[1.0,\"#f0f921\"]],\"diverging\":[[0,\"#8e0152\"],[0.1,\"#c51b7d\"],[0.2,\"#de77ae\"],[0.3,\"#f1b6da\"],[0.4,\"#fde0ef\"],[0.5,\"#f7f7f7\"],[0.6,\"#e6f5d0\"],[0.7,\"#b8e186\"],[0.8,\"#7fbc41\"],[0.9,\"#4d9221\"],[1,\"#276419\"]]},\"xaxis\":{\"gridcolor\":\"white\",\"linecolor\":\"white\",\"ticks\":\"\",\"title\":{\"standoff\":15},\"zerolinecolor\":\"white\",\"automargin\":true,\"zerolinewidth\":2},\"yaxis\":{\"gridcolor\":\"white\",\"linecolor\":\"white\",\"ticks\":\"\",\"title\":{\"standoff\":15},\"zerolinecolor\":\"white\",\"automargin\":true,\"zerolinewidth\":2},\"scene\":{\"xaxis\":{\"backgroundcolor\":\"#E5ECF6\",\"gridcolor\":\"white\",\"linecolor\":\"white\",\"showbackground\":true,\"ticks\":\"\",\"zerolinecolor\":\"white\",\"gridwidth\":2},\"yaxis\":{\"backgroundcolor\":\"#E5ECF6\",\"gridcolor\":\"white\",\"linecolor\":\"white\",\"showbackground\":true,\"ticks\":\"\",\"zerolinecolor\":\"white\",\"gridwidth\":2},\"zaxis\":{\"backgroundcolor\":\"#E5ECF6\",\"gridcolor\":\"white\",\"linecolor\":\"white\",\"showbackground\":true,\"ticks\":\"\",\"zerolinecolor\":\"white\",\"gridwidth\":2}},\"shapedefaults\":{\"line\":{\"color\":\"#2a3f5f\"}},\"annotationdefaults\":{\"arrowcolor\":\"#2a3f5f\",\"arrowhead\":0,\"arrowwidth\":1},\"geo\":{\"bgcolor\":\"white\",\"landcolor\":\"#E5ECF6\",\"subunitcolor\":\"white\",\"showland\":true,\"showlakes\":true,\"lakecolor\":\"white\"},\"title\":{\"x\":0.05},\"mapbox\":{\"style\":\"light\"}}},\"xaxis\":{\"anchor\":\"y\",\"domain\":[0.0,1.0],\"title\":{\"text\":\"percent_without_water\"}},\"yaxis\":{\"anchor\":\"x\",\"domain\":[0.0,1.0],\"title\":{\"text\":\"country_pop_without_water\"}},\"legend\":{\"title\":{\"text\":\"region\"},\"tracegroupgap\":0,\"itemsizing\":\"constant\"},\"title\":{\"text\":\"Population vs. Percent Without Water\"}},                        {\"responsive\": true}                    ).then(function(){\n",
       "                            \n",
       "var gd = document.getElementById('ac373e8f-b2cb-4740-a20f-f511aa1be26c');\n",
       "var x = new MutationObserver(function (mutations, observer) {{\n",
       "        var display = window.getComputedStyle(gd).display;\n",
       "        if (!display || display === 'none') {{\n",
       "            console.log([gd, 'removed!']);\n",
       "            Plotly.purge(gd);\n",
       "            observer.disconnect();\n",
       "        }}\n",
       "}});\n",
       "\n",
       "// Listen for the removal of the full notebook cells\n",
       "var notebookContainer = gd.closest('#notebook-container');\n",
       "if (notebookContainer) {{\n",
       "    x.observe(notebookContainer, {childList: true});\n",
       "}}\n",
       "\n",
       "// Listen for the clearing of the current output cell\n",
       "var outputEl = gd.closest('.output');\n",
       "if (outputEl) {{\n",
       "    x.observe(outputEl, {childList: true});\n",
       "}}\n",
       "\n",
       "                        })                };                });            </script>        </div>"
      ]
     },
     "metadata": {},
     "output_type": "display_data"
    }
   ],
   "source": [
    "# plot the countries by population withgout water and percent without water\n",
    "px.scatter(df_countries, x=\"percent_without_water\", y=\"country_pop_without_water\", size=\"bubble_size\", color=\"region\", hover_name=\"bubble_text\", title=\"Population vs. Percent Without Water\")\n"
   ]
  },
  {
   "cell_type": "code",
   "execution_count": null,
   "metadata": {},
   "outputs": [
    {
     "data": {
      "text/html": [
       "<div>\n",
       "<style scoped>\n",
       "    .dataframe tbody tr th:only-of-type {\n",
       "        vertical-align: middle;\n",
       "    }\n",
       "\n",
       "    .dataframe tbody tr th {\n",
       "        vertical-align: top;\n",
       "    }\n",
       "\n",
       "    .dataframe thead th {\n",
       "        text-align: right;\n",
       "    }\n",
       "</style>\n",
       "<table border=\"1\" class=\"dataframe\">\n",
       "  <thead>\n",
       "    <tr style=\"text-align: right;\">\n",
       "      <th></th>\n",
       "      <th>zone_pop_unpiped</th>\n",
       "      <th>zone_pop_piped</th>\n",
       "      <th>pop_zone</th>\n",
       "    </tr>\n",
       "  </thead>\n",
       "  <tbody>\n",
       "    <tr>\n",
       "      <th>count</th>\n",
       "      <td>6989.000000</td>\n",
       "      <td>6989.000000</td>\n",
       "      <td>6989.000000</td>\n",
       "    </tr>\n",
       "    <tr>\n",
       "      <th>mean</th>\n",
       "      <td>333.000173</td>\n",
       "      <td>14.005927</td>\n",
       "      <td>703.704579</td>\n",
       "    </tr>\n",
       "    <tr>\n",
       "      <th>std</th>\n",
       "      <td>1584.341692</td>\n",
       "      <td>637.787037</td>\n",
       "      <td>3228.167566</td>\n",
       "    </tr>\n",
       "    <tr>\n",
       "      <th>min</th>\n",
       "      <td>4.921786</td>\n",
       "      <td>0.000000</td>\n",
       "      <td>10.471884</td>\n",
       "    </tr>\n",
       "    <tr>\n",
       "      <th>25%</th>\n",
       "      <td>52.380365</td>\n",
       "      <td>0.000000</td>\n",
       "      <td>111.447585</td>\n",
       "    </tr>\n",
       "    <tr>\n",
       "      <th>50%</th>\n",
       "      <td>137.371647</td>\n",
       "      <td>0.000000</td>\n",
       "      <td>292.280099</td>\n",
       "    </tr>\n",
       "    <tr>\n",
       "      <th>75%</th>\n",
       "      <td>375.727821</td>\n",
       "      <td>0.000000</td>\n",
       "      <td>799.420895</td>\n",
       "    </tr>\n",
       "    <tr>\n",
       "      <th>max</th>\n",
       "      <td>51604.171664</td>\n",
       "      <td>30764.025415</td>\n",
       "      <td>99238.791662</td>\n",
       "    </tr>\n",
       "  </tbody>\n",
       "</table>\n",
       "</div>"
      ],
      "text/plain": [
       "       zone_pop_unpiped  zone_pop_piped      pop_zone\n",
       "count       6989.000000     6989.000000   6989.000000\n",
       "mean         333.000173       14.005927    703.704579\n",
       "std         1584.341692      637.787037   3228.167566\n",
       "min            4.921786        0.000000     10.471884\n",
       "25%           52.380365        0.000000    111.447585\n",
       "50%          137.371647        0.000000    292.280099\n",
       "75%          375.727821        0.000000    799.420895\n",
       "max        51604.171664    30764.025415  99238.791662"
      ]
     },
     "execution_count": 48,
     "metadata": {},
     "output_type": "execute_result"
    }
   ],
   "source": [
    "# summary statistics of zones by for slected country\n",
    "# select country\n",
    "country = \"CAF\"\n",
    "\n",
    "# interertsinbg ciolumns\n",
    "interesting_cols =[\n",
    "    \"Entity\",\n",
    "    \"dtw_1\",\n",
    "    \"pop_zone\",\n",
    "    \"country_pop_raw\",\n",
    "    \"population_piped_with_access\",\n",
    "    \"population_piped_with_cycling_access\",\n",
    "    \"population_piped_with_walking_access\",\n",
    "    \"Nat Piped\",\n",
    "    \"region\",\n",
    "]\n",
    "\n",
    "other_cols = [\n",
    "    \"zone_pop_unpiped\",\n",
    "    \"zone_pop_piped\",\n",
    "    \"pop_zone\"\n",
    "\n",
    "]\n",
    "\n",
    "# create dataframe of zones for selected country\n",
    "df_zones_country = df_zones[df_zones[\"ISOCODE\"] == country]\n",
    "df_zones_country = df_zones_country[other_cols]\n",
    "\n",
    "# create summary statistics\n",
    "df_zones_country.describe()\n",
    "\n",
    "\n",
    "\n",
    "\n",
    "\n"
   ]
  },
  {
   "cell_type": "code",
   "execution_count": null,
   "metadata": {},
   "outputs": [
    {
     "data": {
      "application/vnd.plotly.v1+json": {
       "config": {
        "plotlyServerURL": "https://plot.ly"
       },
       "data": [
        {
         "alignmentgroup": "True",
         "customdata": [
          [
           "Mauritius"
          ],
          [
           "Congo"
          ],
          [
           "Panama"
          ],
          [
           "Puerto Rico"
          ],
          [
           "Brunei"
          ],
          [
           "Eswatini"
          ],
          [
           "Sweden"
          ],
          [
           "Suriname"
          ],
          [
           "Norway"
          ],
          [
           "Lesotho"
          ],
          [
           "Netherlands"
          ],
          [
           "Philippines"
          ],
          [
           "Papua New Guinea"
          ],
          [
           "Vietnam"
          ],
          [
           "Albania"
          ],
          [
           "Japan"
          ],
          [
           "Azerbaijan"
          ],
          [
           "France"
          ],
          [
           "El Salvador"
          ],
          [
           "Slovakia"
          ],
          [
           "Georgia"
          ],
          [
           "Slovenia"
          ],
          [
           "Estonia"
          ],
          [
           "Nepal"
          ],
          [
           "Switzerland"
          ],
          [
           "New Zealand"
          ],
          [
           "Kyrgyzstan"
          ],
          [
           "Moldova"
          ],
          [
           "Armenia"
          ],
          [
           "Australia"
          ],
          [
           "Austria"
          ],
          [
           "Lithuania"
          ],
          [
           "Malawi"
          ],
          [
           "Bangladesh"
          ],
          [
           "Thailand"
          ],
          [
           "Myanmar"
          ],
          [
           "Hungary"
          ],
          [
           "Guyana"
          ],
          [
           "Belize"
          ],
          [
           "United Kingdom"
          ],
          [
           "Latvia"
          ],
          [
           "Pakistan"
          ],
          [
           "French Guiana"
          ],
          [
           "Italy"
          ],
          [
           "Zambia"
          ],
          [
           "North Macedonia"
          ],
          [
           "Poland"
          ],
          [
           "Laos"
          ],
          [
           "Romania"
          ],
          [
           "Central African Republic"
          ],
          [
           "Canada"
          ],
          [
           "Taiwan"
          ],
          [
           "Democratic Republic of Congo"
          ],
          [
           "Uganda"
          ],
          [
           "Tanzania"
          ],
          [
           "Sierra Leone"
          ],
          [
           "Belarus"
          ],
          [
           "Ireland"
          ],
          [
           "Mozambique"
          ],
          [
           "Bulgaria"
          ],
          [
           "Belgium"
          ],
          [
           "Burundi"
          ],
          [
           "Bosnia and Herzegovina"
          ],
          [
           "Ukraine"
          ],
          [
           "South Africa"
          ],
          [
           "Honduras"
          ],
          [
           "Russia"
          ],
          [
           "Serbia"
          ],
          [
           "Cambodia"
          ],
          [
           "New Caledonia"
          ],
          [
           "Equatorial Guinea"
          ],
          [
           "Guinea"
          ],
          [
           "China"
          ],
          [
           "Costa Rica"
          ],
          [
           "Malaysia"
          ],
          [
           "Czechia"
          ],
          [
           "Germany"
          ],
          [
           "Finland"
          ],
          [
           "Uzbekistan"
          ],
          [
           "Liechtenstein"
          ],
          [
           "Rwanda"
          ],
          [
           "Sri Lanka"
          ],
          [
           "Togo"
          ],
          [
           "Montenegro"
          ],
          [
           "Mongolia"
          ],
          [
           "Nigeria"
          ],
          [
           "Turkey"
          ],
          [
           "North Korea"
          ],
          [
           "Solomon Islands"
          ],
          [
           "Tajikistan"
          ],
          [
           "Zimbabwe"
          ],
          [
           "Guinea-Bissau"
          ],
          [
           "Guatemala"
          ],
          [
           "India"
          ],
          [
           "Cameroon"
          ],
          [
           "Colombia"
          ],
          [
           "Iraq"
          ],
          [
           "Egypt"
          ],
          [
           "Denmark"
          ],
          [
           "Croatia"
          ],
          [
           "Dominican Republic"
          ],
          [
           "Nicaragua"
          ],
          [
           "Spain"
          ],
          [
           "Vanuatu"
          ],
          [
           "Madagascar"
          ],
          [
           "Chile"
          ],
          [
           "Portugal"
          ],
          [
           "Bhutan"
          ],
          [
           "Fiji"
          ],
          [
           "Ecuador"
          ],
          [
           "Cote d'Ivoire"
          ],
          [
           "Kenya"
          ],
          [
           "Kazakhstan"
          ],
          [
           "Reunion"
          ],
          [
           "Indonesia"
          ],
          [
           "Haiti"
          ],
          [
           "Jamaica"
          ],
          [
           "Andorra"
          ],
          [
           "United States"
          ],
          [
           "Malta"
          ],
          [
           "Angola"
          ],
          [
           "Liberia"
          ],
          [
           "Ghana"
          ],
          [
           "Gambia"
          ],
          [
           "Paraguay"
          ],
          [
           "Isle of Man"
          ],
          [
           "Luxembourg"
          ],
          [
           "Cuba"
          ],
          [
           "Peru"
          ],
          [
           "South Korea"
          ],
          [
           "Gabon"
          ],
          [
           "Montserrat"
          ],
          [
           "Benin"
          ],
          [
           "Brazil"
          ],
          [
           "Cyprus"
          ],
          [
           "Bahamas"
          ],
          [
           "Sao Tome and Principe"
          ],
          [
           "Faeroe Islands"
          ],
          [
           "Iceland"
          ],
          [
           "Iran"
          ],
          [
           "Venezuela"
          ],
          [
           "Bolivia"
          ],
          [
           "Trinidad and Tobago"
          ],
          [
           "Mexico"
          ],
          [
           "Afghanistan"
          ],
          [
           "Argentina"
          ],
          [
           "Samoa"
          ],
          [
           "Lebanon"
          ],
          [
           "Morocco"
          ],
          [
           "Ethiopia"
          ],
          [
           "Algeria"
          ],
          [
           "Martinique"
          ],
          [
           "Greece"
          ],
          [
           "Uruguay"
          ],
          [
           "Syria"
          ],
          [
           "Mali"
          ],
          [
           "Grenada"
          ],
          [
           "Jordan"
          ],
          [
           "South Sudan"
          ],
          [
           "Burkina Faso"
          ],
          [
           "Singapore"
          ],
          [
           "Saint Lucia"
          ],
          [
           "Tunisia"
          ],
          [
           "Falkland Islands"
          ],
          [
           "Israel"
          ],
          [
           "Senegal"
          ],
          [
           "Turkmenistan"
          ],
          [
           "Greenland"
          ],
          [
           "Palestine"
          ],
          [
           "Chad"
          ],
          [
           "Eritrea"
          ],
          [
           "Yemen"
          ],
          [
           "Guadeloupe"
          ],
          [
           "Hong Kong"
          ],
          [
           "Namibia"
          ],
          [
           "Mauritania"
          ],
          [
           "Niger"
          ],
          [
           "Botswana"
          ],
          [
           "Timor"
          ],
          [
           "Djibouti"
          ],
          [
           "Sudan"
          ],
          [
           "Oman"
          ],
          [
           "Somalia"
          ],
          [
           "Kuwait"
          ],
          [
           "Western Sahara"
          ],
          [
           "United Arab Emirates"
          ],
          [
           "Qatar"
          ],
          [
           "Saudi Arabia"
          ],
          [
           "Libya"
          ]
         ],
         "hovertemplate": "variable=country_pop_with_water<br>region=%{x}<br>value=%{y}<br>Entity=%{customdata[0]}<extra></extra>",
         "legendgroup": "country_pop_with_water",
         "marker": {
          "color": "#636efa",
          "pattern": {
           "shape": ""
          }
         },
         "name": "country_pop_with_water",
         "offsetgroup": "country_pop_with_water",
         "orientation": "v",
         "showlegend": true,
         "textposition": "auto",
         "type": "bar",
         "x": [
          "Africa",
          "Africa",
          "Americas",
          "Americas",
          "Asia",
          "Africa",
          "Europe",
          "Americas",
          "Europe",
          "Africa",
          "Europe",
          "Asia",
          "Oceania",
          "Asia",
          "Europe",
          "Asia",
          "Asia",
          "Europe",
          "Americas",
          "Europe",
          "Asia",
          "Europe",
          "Europe",
          "Asia",
          "Europe",
          "Oceania",
          "Asia",
          "Europe",
          "Asia",
          "Oceania",
          "Europe",
          "Europe",
          "Africa",
          "Asia",
          "Asia",
          "Asia",
          "Europe",
          "Americas",
          "Americas",
          "Europe",
          "Europe",
          "Asia",
          "Americas",
          "Europe",
          "Africa",
          "Europe",
          "Europe",
          "Asia",
          "Europe",
          "Africa",
          "Americas",
          "Asia",
          "Africa",
          "Africa",
          "Africa",
          "Africa",
          "Europe",
          "Europe",
          "Africa",
          "Europe",
          "Europe",
          "Africa",
          "Europe",
          "Europe",
          "Africa",
          "Americas",
          "Europe",
          "Europe",
          "Asia",
          "Oceania",
          "Africa",
          "Africa",
          "Asia",
          "Americas",
          "Asia",
          "Europe",
          "Europe",
          "Europe",
          "Asia",
          "Europe",
          "Africa",
          "Asia",
          "Africa",
          "Europe",
          "Asia",
          "Africa",
          "Asia",
          "Asia",
          "Oceania",
          "Asia",
          "Africa",
          "Africa",
          "Americas",
          "Asia",
          "Africa",
          "Americas",
          "Asia",
          "Africa",
          "Europe",
          "Europe",
          "Americas",
          "Americas",
          "Europe",
          "Oceania",
          "Africa",
          "Americas",
          "Europe",
          "Asia",
          "Oceania",
          "Americas",
          "Africa",
          "Africa",
          "Asia",
          "Africa",
          "Asia",
          "Americas",
          "Americas",
          "Europe",
          "Americas",
          "Europe",
          "Africa",
          "Africa",
          "Africa",
          "Africa",
          "Americas",
          "Europe",
          "Europe",
          "Americas",
          "Americas",
          "Asia",
          "Africa",
          "Americas",
          "Africa",
          "Americas",
          "Europe",
          "Americas",
          "Africa",
          "Europe",
          "Europe",
          "Asia",
          "Americas",
          "Americas",
          "Americas",
          "Americas",
          "Asia",
          "Americas",
          "Oceania",
          "Asia",
          "Africa",
          "Africa",
          "Africa",
          "Americas",
          "Europe",
          "Americas",
          "Asia",
          "Africa",
          "Americas",
          "Asia",
          "Africa",
          "Africa",
          "Asia",
          "Americas",
          "Africa",
          "Americas",
          "Asia",
          "Africa",
          "Asia",
          "Americas",
          "Asia",
          "Africa",
          "Africa",
          "Asia",
          "Americas",
          "Asia",
          "Africa",
          "Africa",
          "Africa",
          "Africa",
          "Asia",
          "Africa",
          "Africa",
          "Asia",
          "Africa",
          "Asia",
          "Africa",
          "Asia",
          "Asia",
          "Asia",
          "Africa"
         ],
         "xaxis": "x",
         "y": [
          1050450.5426578547,
          2938296.401817093,
          3137254.71419053,
          2316570.4759961884,
          360072.2548820178,
          887510.2165234493,
          8904276.600853726,
          506406.476745815,
          4236764.410305704,
          1564618.8065020298,
          16039177.09721833,
          92001018.97267285,
          4320663.964384459,
          90512410.41095836,
          2411218.3970497833,
          103848422.20989162,
          8155351.238563095,
          56808962.99127437,
          5051479.286671633,
          4407202.721131543,
          3216162.7266990324,
          1588260.4141425833,
          1024308.7758391177,
          26540567.61481573,
          7123410.944683637,
          3608748.890263973,
          5056164.625313027,
          3204897.9796087523,
          2247520.704457505,
          20436837.306900296,
          7481895.853871778,
          2214951.871497674,
          17215871.01561758,
          158744469.6018905,
          59575757.63425432,
          41641720.025876105,
          7539117.7350659855,
          671639.9740183905,
          348033.5451206379,
          57586171.458511464,
          1564129.8943122397,
          203019886.10136497,
          248844.5164704919,
          47098797.11236646,
          11207270.607372427,
          1626940.2471501965,
          27447885.202393916,
          5988407.381584226,
          17651124.00885165,
          2425180.168311973,
          32060481.951474957,
          19268708.10631422,
          31432730.716645792,
          37046447.2004242,
          37755027.41178153,
          4590825.070355873,
          7827345.3936363375,
          3951555.210255742,
          18085188.35019923,
          4837335.445586726,
          10185384.633630445,
          8459499.187300017,
          2229510.2447319943,
          39899697.21620487,
          42898581.6527582,
          6482149.732111571,
          103541865.18908122,
          6438828.422872489,
          14051563.408318292,
          179145.3042643274,
          871868.0548286514,
          9881820.306650741,
          1147406854.9398255,
          3615841.2995957322,
          23106256.540960144,
          8217880.871875023,
          69872990.45153524,
          4665574.662521849,
          25516357.263433307,
          22952.4,
          8815128.072870914,
          15578848.132962443,
          5269812.089524145,
          423930.645262217,
          2312797.0450207577,
          152103181.249481,
          55063385.8817887,
          18219246.11368757,
          365232.86671118316,
          5829858.5853223335,
          9908583.940283777,
          1083091.6577649987,
          12443263.914285345,
          1187445034.3321464,
          16917671.380190946,
          33214295.66914482,
          29672453.130723134,
          60578771.64553377,
          4634700.302362435,
          2787934.4096182296,
          7306587.281665364,
          4059610.2121764887,
          31290208.92937597,
          231156.74500781437,
          9827983.639896475,
          12805464.440055382,
          6170677.011878622,
          438466.47857994825,
          566058.7681080352,
          10468237.417249858,
          16155739.252095908,
          32693305.041056246,
          12434689.880539304,
          536705.648939619,
          234344381.14701116,
          6638071.38636258,
          1834834.1385111897,
          48749.494743369694,
          230486211.10496375,
          241967.90127580508,
          12936558.96647914,
          3885138.024117701,
          22367642.814982712,
          1739522.048047522,
          4515710.151233215,
          45396.81310831812,
          417212.47916206345,
          8121633.974292041,
          16101888.16644945,
          34842757.64874053,
          1222566.1643657624,
          2164.8542419191235,
          7407712.888196339,
          118750891.59758708,
          705991.7865943462,
          241603.82911146045,
          90989.70715874422,
          23623.216138153395,
          194611.20987424813,
          39921547.79077535,
          15531296.76028897,
          8280403.02816063,
          833543.1257603635,
          63077779.4300405,
          27625700.182767794,
          28870177.47421385,
          87512.28202456514,
          2719241.8826385112,
          14652980.574706638,
          60542390.491602264,
          27455541.321823053,
          144467.1789459782,
          3806082.8598439964,
          1967583.6959143532,
          9825188.311067326,
          12631615.670051415,
          52693.701752142406,
          3965910.737275403,
          8421443.473237108,
          14265106.149363808,
          3084008.0766491033,
          47920.110718046555,
          4579524.710692909,
          950.6781533328335,
          1939072.51398444,
          5061008.346757373,
          5159192.4887272585,
          19863.364222153672,
          2177322.292798298,
          8713165.939969487,
          1582671.5380556772,
          13388701.174991934,
          204454.17058106192,
          1413387.3912146452,
          558153.3485895857,
          1477646.5624217368,
          8714134.301423056,
          572508.5031392383,
          264092.6825996618,
          315931.44883745874,
          22901866.89867185,
          844248.2582289239,
          8941062.963969471,
          345010.94957578817,
          174297.23180228722,
          4508.728826945104,
          430782.4625934444,
          5773634.056730193,
          2022360.5947876316
         ],
         "yaxis": "y"
        },
        {
         "alignmentgroup": "True",
         "customdata": [
          [
           "Mauritius"
          ],
          [
           "Congo"
          ],
          [
           "Panama"
          ],
          [
           "Puerto Rico"
          ],
          [
           "Brunei"
          ],
          [
           "Eswatini"
          ],
          [
           "Sweden"
          ],
          [
           "Suriname"
          ],
          [
           "Norway"
          ],
          [
           "Lesotho"
          ],
          [
           "Netherlands"
          ],
          [
           "Philippines"
          ],
          [
           "Papua New Guinea"
          ],
          [
           "Vietnam"
          ],
          [
           "Albania"
          ],
          [
           "Japan"
          ],
          [
           "Azerbaijan"
          ],
          [
           "France"
          ],
          [
           "El Salvador"
          ],
          [
           "Slovakia"
          ],
          [
           "Georgia"
          ],
          [
           "Slovenia"
          ],
          [
           "Estonia"
          ],
          [
           "Nepal"
          ],
          [
           "Switzerland"
          ],
          [
           "New Zealand"
          ],
          [
           "Kyrgyzstan"
          ],
          [
           "Moldova"
          ],
          [
           "Armenia"
          ],
          [
           "Australia"
          ],
          [
           "Austria"
          ],
          [
           "Lithuania"
          ],
          [
           "Malawi"
          ],
          [
           "Bangladesh"
          ],
          [
           "Thailand"
          ],
          [
           "Myanmar"
          ],
          [
           "Hungary"
          ],
          [
           "Guyana"
          ],
          [
           "Belize"
          ],
          [
           "United Kingdom"
          ],
          [
           "Latvia"
          ],
          [
           "Pakistan"
          ],
          [
           "French Guiana"
          ],
          [
           "Italy"
          ],
          [
           "Zambia"
          ],
          [
           "North Macedonia"
          ],
          [
           "Poland"
          ],
          [
           "Laos"
          ],
          [
           "Romania"
          ],
          [
           "Central African Republic"
          ],
          [
           "Canada"
          ],
          [
           "Taiwan"
          ],
          [
           "Democratic Republic of Congo"
          ],
          [
           "Uganda"
          ],
          [
           "Tanzania"
          ],
          [
           "Sierra Leone"
          ],
          [
           "Belarus"
          ],
          [
           "Ireland"
          ],
          [
           "Mozambique"
          ],
          [
           "Bulgaria"
          ],
          [
           "Belgium"
          ],
          [
           "Burundi"
          ],
          [
           "Bosnia and Herzegovina"
          ],
          [
           "Ukraine"
          ],
          [
           "South Africa"
          ],
          [
           "Honduras"
          ],
          [
           "Russia"
          ],
          [
           "Serbia"
          ],
          [
           "Cambodia"
          ],
          [
           "New Caledonia"
          ],
          [
           "Equatorial Guinea"
          ],
          [
           "Guinea"
          ],
          [
           "China"
          ],
          [
           "Costa Rica"
          ],
          [
           "Malaysia"
          ],
          [
           "Czechia"
          ],
          [
           "Germany"
          ],
          [
           "Finland"
          ],
          [
           "Uzbekistan"
          ],
          [
           "Liechtenstein"
          ],
          [
           "Rwanda"
          ],
          [
           "Sri Lanka"
          ],
          [
           "Togo"
          ],
          [
           "Montenegro"
          ],
          [
           "Mongolia"
          ],
          [
           "Nigeria"
          ],
          [
           "Turkey"
          ],
          [
           "North Korea"
          ],
          [
           "Solomon Islands"
          ],
          [
           "Tajikistan"
          ],
          [
           "Zimbabwe"
          ],
          [
           "Guinea-Bissau"
          ],
          [
           "Guatemala"
          ],
          [
           "India"
          ],
          [
           "Cameroon"
          ],
          [
           "Colombia"
          ],
          [
           "Iraq"
          ],
          [
           "Egypt"
          ],
          [
           "Denmark"
          ],
          [
           "Croatia"
          ],
          [
           "Dominican Republic"
          ],
          [
           "Nicaragua"
          ],
          [
           "Spain"
          ],
          [
           "Vanuatu"
          ],
          [
           "Madagascar"
          ],
          [
           "Chile"
          ],
          [
           "Portugal"
          ],
          [
           "Bhutan"
          ],
          [
           "Fiji"
          ],
          [
           "Ecuador"
          ],
          [
           "Cote d'Ivoire"
          ],
          [
           "Kenya"
          ],
          [
           "Kazakhstan"
          ],
          [
           "Reunion"
          ],
          [
           "Indonesia"
          ],
          [
           "Haiti"
          ],
          [
           "Jamaica"
          ],
          [
           "Andorra"
          ],
          [
           "United States"
          ],
          [
           "Malta"
          ],
          [
           "Angola"
          ],
          [
           "Liberia"
          ],
          [
           "Ghana"
          ],
          [
           "Gambia"
          ],
          [
           "Paraguay"
          ],
          [
           "Isle of Man"
          ],
          [
           "Luxembourg"
          ],
          [
           "Cuba"
          ],
          [
           "Peru"
          ],
          [
           "South Korea"
          ],
          [
           "Gabon"
          ],
          [
           "Montserrat"
          ],
          [
           "Benin"
          ],
          [
           "Brazil"
          ],
          [
           "Cyprus"
          ],
          [
           "Bahamas"
          ],
          [
           "Sao Tome and Principe"
          ],
          [
           "Faeroe Islands"
          ],
          [
           "Iceland"
          ],
          [
           "Iran"
          ],
          [
           "Venezuela"
          ],
          [
           "Bolivia"
          ],
          [
           "Trinidad and Tobago"
          ],
          [
           "Mexico"
          ],
          [
           "Afghanistan"
          ],
          [
           "Argentina"
          ],
          [
           "Samoa"
          ],
          [
           "Lebanon"
          ],
          [
           "Morocco"
          ],
          [
           "Ethiopia"
          ],
          [
           "Algeria"
          ],
          [
           "Martinique"
          ],
          [
           "Greece"
          ],
          [
           "Uruguay"
          ],
          [
           "Syria"
          ],
          [
           "Mali"
          ],
          [
           "Grenada"
          ],
          [
           "Jordan"
          ],
          [
           "South Sudan"
          ],
          [
           "Burkina Faso"
          ],
          [
           "Singapore"
          ],
          [
           "Saint Lucia"
          ],
          [
           "Tunisia"
          ],
          [
           "Falkland Islands"
          ],
          [
           "Israel"
          ],
          [
           "Senegal"
          ],
          [
           "Turkmenistan"
          ],
          [
           "Greenland"
          ],
          [
           "Palestine"
          ],
          [
           "Chad"
          ],
          [
           "Eritrea"
          ],
          [
           "Yemen"
          ],
          [
           "Guadeloupe"
          ],
          [
           "Hong Kong"
          ],
          [
           "Namibia"
          ],
          [
           "Mauritania"
          ],
          [
           "Niger"
          ],
          [
           "Botswana"
          ],
          [
           "Timor"
          ],
          [
           "Djibouti"
          ],
          [
           "Sudan"
          ],
          [
           "Oman"
          ],
          [
           "Somalia"
          ],
          [
           "Kuwait"
          ],
          [
           "Western Sahara"
          ],
          [
           "United Arab Emirates"
          ],
          [
           "Qatar"
          ],
          [
           "Saudi Arabia"
          ],
          [
           "Libya"
          ]
         ],
         "hovertemplate": "variable=country_pop_without_water<br>region=%{x}<br>value=%{y}<br>Entity=%{customdata[0]}<extra></extra>",
         "legendgroup": "country_pop_without_water",
         "marker": {
          "color": "#EF553B",
          "pattern": {
           "shape": ""
          }
         },
         "name": "country_pop_without_water",
         "offsetgroup": "country_pop_without_water",
         "orientation": "v",
         "showlegend": true,
         "textposition": "auto",
         "type": "bar",
         "x": [
          "Africa",
          "Africa",
          "Americas",
          "Americas",
          "Asia",
          "Africa",
          "Europe",
          "Americas",
          "Europe",
          "Africa",
          "Europe",
          "Asia",
          "Oceania",
          "Asia",
          "Europe",
          "Asia",
          "Asia",
          "Europe",
          "Americas",
          "Europe",
          "Asia",
          "Europe",
          "Europe",
          "Asia",
          "Europe",
          "Oceania",
          "Asia",
          "Europe",
          "Asia",
          "Oceania",
          "Europe",
          "Europe",
          "Africa",
          "Asia",
          "Asia",
          "Asia",
          "Europe",
          "Americas",
          "Americas",
          "Europe",
          "Europe",
          "Asia",
          "Americas",
          "Europe",
          "Africa",
          "Europe",
          "Europe",
          "Asia",
          "Europe",
          "Africa",
          "Americas",
          "Asia",
          "Africa",
          "Africa",
          "Africa",
          "Africa",
          "Europe",
          "Europe",
          "Africa",
          "Europe",
          "Europe",
          "Africa",
          "Europe",
          "Europe",
          "Africa",
          "Americas",
          "Europe",
          "Europe",
          "Asia",
          "Oceania",
          "Africa",
          "Africa",
          "Asia",
          "Americas",
          "Asia",
          "Europe",
          "Europe",
          "Europe",
          "Asia",
          "Europe",
          "Africa",
          "Asia",
          "Africa",
          "Europe",
          "Asia",
          "Africa",
          "Asia",
          "Asia",
          "Oceania",
          "Asia",
          "Africa",
          "Africa",
          "Americas",
          "Asia",
          "Africa",
          "Americas",
          "Asia",
          "Africa",
          "Europe",
          "Europe",
          "Americas",
          "Americas",
          "Europe",
          "Oceania",
          "Africa",
          "Americas",
          "Europe",
          "Asia",
          "Oceania",
          "Americas",
          "Africa",
          "Africa",
          "Asia",
          "Africa",
          "Asia",
          "Americas",
          "Americas",
          "Europe",
          "Americas",
          "Europe",
          "Africa",
          "Africa",
          "Africa",
          "Africa",
          "Americas",
          "Europe",
          "Europe",
          "Americas",
          "Americas",
          "Asia",
          "Africa",
          "Americas",
          "Africa",
          "Americas",
          "Europe",
          "Americas",
          "Africa",
          "Europe",
          "Europe",
          "Asia",
          "Americas",
          "Americas",
          "Americas",
          "Americas",
          "Asia",
          "Americas",
          "Oceania",
          "Asia",
          "Africa",
          "Africa",
          "Africa",
          "Americas",
          "Europe",
          "Americas",
          "Asia",
          "Africa",
          "Americas",
          "Asia",
          "Africa",
          "Africa",
          "Asia",
          "Americas",
          "Africa",
          "Americas",
          "Asia",
          "Africa",
          "Asia",
          "Americas",
          "Asia",
          "Africa",
          "Africa",
          "Asia",
          "Americas",
          "Asia",
          "Africa",
          "Africa",
          "Africa",
          "Africa",
          "Asia",
          "Africa",
          "Africa",
          "Asia",
          "Africa",
          "Asia",
          "Africa",
          "Asia",
          "Asia",
          "Asia",
          "Africa"
         ],
         "xaxis": "x",
         "y": [
          222977.4573421452,
          2718720.5981829073,
          1244240.2489425947,
          511675.0970899955,
          81459.7451179823,
          284858.78347655095,
          1245486.5974828205,
          81457.38920165985,
          1225141.2910756767,
          594448.1934979704,
          1133916.9027816684,
          19045840.69955423,
          4798037.112956087,
          7656407.025741094,
          461715.6029502169,
          22202271.72965677,
          2067982.09418402,
          8617207.366536785,
          1467020.7133283664,
          1053523.2788684575,
          763610.2733009676,
          490462.58585741685,
          300787.56906139595,
          3134334.6743537495,
          1592083.0553163642,
          1248116.0971511547,
          1572163.7876697273,
          819127.0203912483,
          720607.2955424949,
          5250194.865017134,
          1561176.1461282214,
          474910.12850232626,
          2431732.8097610655,
          7559024.398109483,
          10375084.408436218,
          13164268.036418432,
          2095044.2649340148,
          115074.9936430514,
          56824.04459602287,
          10620729.880032236,
          302804.10568776017,
          22180038.689549,
          56731.285997771745,
          13268619.731984181,
          7713386.3926275745,
          455720.75284980354,
          10349114.797606084,
          1390950.618415774,
          1476647.991148353,
          2493011.1326595163,
          5958309.164924044,
          4586299.893685779,
          60944924.52659727,
          10077058.951764679,
          23743178.681283236,
          3550517.929644127,
          1615521.606363662,
          1031311.8028225095,
          14077846.49932349,
          2059311.2040585303,
          1446949.3663695536,
          3795929.8126999857,
          1033948.7552680057,
          3567076.592478757,
          17128311.973297194,
          3580843.6369441464,
          41899496.933828376,
          2258718.577127511,
          2894878.2121791863,
          108965.53202427868,
          578022.9451713486,
          3615416.6933492594,
          296784397.6016314,
          1523209.8942118355,
          9669917.603576189,
          2506672.128124978,
          14027480.548464768,
          878323.205173586,
          8419397.10081278,
          15301.6,
          4461388.927129087,
          5918451.212160423,
          3208429.910475855,
          204120.3547377831,
          995740.2385882491,
          59297522.75051901,
          29979323.241701946,
          7667787.741756958,
          338473.8289121972,
          3919766.4146776646,
          5183587.059716224,
          932398.3422350012,
          5806604.085714656,
          205963966.03854427,
          10306590.619809056,
          18051524.57045036,
          11506897.869276864,
          43678432.78421672,
          1178601.6976375661,
          1293704.568475944,
          3647124.9335463587,
          2642758.365868474,
          15454992.257319342,
          83305.91372928424,
          18599337.437420238,
          6396528.475145644,
          3997245.988121377,
          341433.5214200518,
          336744.6974602798,
          7420043.748228444,
          10897889.747904088,
          22292045.607364,
          6559234.048458673,
          364990.35106038087,
          42017023.76800307,
          4903611.590785505,
          1138623.5260892878,
          28604.505256630313,
          102349721.8086368,
          200822.09872419492,
          20997052.03352086,
          1295062.9420046643,
          9364485.185017293,
          747414.9519524776,
          2701851.0814536484,
          40013.18689168187,
          217601.52083793646,
          3195819.0395366023,
          17257301.43192154,
          16462408.940695312,
          1056249.7290308946,
          2816.1457580808756,
          5043318.111803661,
          95178296.26834656,
          509596.2134056538,
          154640.11334083678,
          132355.8536175879,
          25421.428039382667,
          141966.87010636114,
          45107185.52617285,
          13171203.304282952,
          3552333.839244896,
          569827.5668497165,
          67174486.51395404,
          12209727.817232205,
          16722709.056274146,
          112631.71797543486,
          4049909.1173614883,
          22690814.458563853,
          57333835.50839773,
          17113220.47270684,
          230275.82105402183,
          6564589.48089621,
          1516228.9643476491,
          8450186.444249945,
          8216283.996629629,
          60321.29824785757,
          6303111.262724598,
          2959933.5267628916,
          7231990.850636193,
          2812675.9233508976,
          136480.88928195345,
          7356234.373513127,
          2146.583176395958,
          6850703.48601556,
          12135299.653242627,
          958620.8526740493,
          35037.627926075795,
          3045433.707201702,
          8201801.660467596,
          2018756.8693905838,
          17097635.856276654,
          195558.82941893805,
          6139412.608785355,
          2016029.3384269383,
          3271917.1499515744,
          16398082.843863126,
          1824192.943203431,
          1079782.3174003381,
          686265.5511625413,
          22007440.898605496,
          4379097.412824732,
          7418392.116894301,
          3983542.050424212,
          432161.46999131585,
          9986561.837657709,
          2499741.537406556,
          29566985.033000834,
          4936074.670488791
         ],
         "yaxis": "y"
        }
       ],
       "layout": {
        "barmode": "group",
        "legend": {
         "title": {
          "text": "variable"
         },
         "tracegroupgap": 0
        },
        "template": {
         "data": {
          "bar": [
           {
            "error_x": {
             "color": "#2a3f5f"
            },
            "error_y": {
             "color": "#2a3f5f"
            },
            "marker": {
             "line": {
              "color": "#E5ECF6",
              "width": 0.5
             },
             "pattern": {
              "fillmode": "overlay",
              "size": 10,
              "solidity": 0.2
             }
            },
            "type": "bar"
           }
          ],
          "barpolar": [
           {
            "marker": {
             "line": {
              "color": "#E5ECF6",
              "width": 0.5
             },
             "pattern": {
              "fillmode": "overlay",
              "size": 10,
              "solidity": 0.2
             }
            },
            "type": "barpolar"
           }
          ],
          "carpet": [
           {
            "aaxis": {
             "endlinecolor": "#2a3f5f",
             "gridcolor": "white",
             "linecolor": "white",
             "minorgridcolor": "white",
             "startlinecolor": "#2a3f5f"
            },
            "baxis": {
             "endlinecolor": "#2a3f5f",
             "gridcolor": "white",
             "linecolor": "white",
             "minorgridcolor": "white",
             "startlinecolor": "#2a3f5f"
            },
            "type": "carpet"
           }
          ],
          "choropleth": [
           {
            "colorbar": {
             "outlinewidth": 0,
             "ticks": ""
            },
            "type": "choropleth"
           }
          ],
          "contour": [
           {
            "colorbar": {
             "outlinewidth": 0,
             "ticks": ""
            },
            "colorscale": [
             [
              0,
              "#0d0887"
             ],
             [
              0.1111111111111111,
              "#46039f"
             ],
             [
              0.2222222222222222,
              "#7201a8"
             ],
             [
              0.3333333333333333,
              "#9c179e"
             ],
             [
              0.4444444444444444,
              "#bd3786"
             ],
             [
              0.5555555555555556,
              "#d8576b"
             ],
             [
              0.6666666666666666,
              "#ed7953"
             ],
             [
              0.7777777777777778,
              "#fb9f3a"
             ],
             [
              0.8888888888888888,
              "#fdca26"
             ],
             [
              1,
              "#f0f921"
             ]
            ],
            "type": "contour"
           }
          ],
          "contourcarpet": [
           {
            "colorbar": {
             "outlinewidth": 0,
             "ticks": ""
            },
            "type": "contourcarpet"
           }
          ],
          "heatmap": [
           {
            "colorbar": {
             "outlinewidth": 0,
             "ticks": ""
            },
            "colorscale": [
             [
              0,
              "#0d0887"
             ],
             [
              0.1111111111111111,
              "#46039f"
             ],
             [
              0.2222222222222222,
              "#7201a8"
             ],
             [
              0.3333333333333333,
              "#9c179e"
             ],
             [
              0.4444444444444444,
              "#bd3786"
             ],
             [
              0.5555555555555556,
              "#d8576b"
             ],
             [
              0.6666666666666666,
              "#ed7953"
             ],
             [
              0.7777777777777778,
              "#fb9f3a"
             ],
             [
              0.8888888888888888,
              "#fdca26"
             ],
             [
              1,
              "#f0f921"
             ]
            ],
            "type": "heatmap"
           }
          ],
          "heatmapgl": [
           {
            "colorbar": {
             "outlinewidth": 0,
             "ticks": ""
            },
            "colorscale": [
             [
              0,
              "#0d0887"
             ],
             [
              0.1111111111111111,
              "#46039f"
             ],
             [
              0.2222222222222222,
              "#7201a8"
             ],
             [
              0.3333333333333333,
              "#9c179e"
             ],
             [
              0.4444444444444444,
              "#bd3786"
             ],
             [
              0.5555555555555556,
              "#d8576b"
             ],
             [
              0.6666666666666666,
              "#ed7953"
             ],
             [
              0.7777777777777778,
              "#fb9f3a"
             ],
             [
              0.8888888888888888,
              "#fdca26"
             ],
             [
              1,
              "#f0f921"
             ]
            ],
            "type": "heatmapgl"
           }
          ],
          "histogram": [
           {
            "marker": {
             "pattern": {
              "fillmode": "overlay",
              "size": 10,
              "solidity": 0.2
             }
            },
            "type": "histogram"
           }
          ],
          "histogram2d": [
           {
            "colorbar": {
             "outlinewidth": 0,
             "ticks": ""
            },
            "colorscale": [
             [
              0,
              "#0d0887"
             ],
             [
              0.1111111111111111,
              "#46039f"
             ],
             [
              0.2222222222222222,
              "#7201a8"
             ],
             [
              0.3333333333333333,
              "#9c179e"
             ],
             [
              0.4444444444444444,
              "#bd3786"
             ],
             [
              0.5555555555555556,
              "#d8576b"
             ],
             [
              0.6666666666666666,
              "#ed7953"
             ],
             [
              0.7777777777777778,
              "#fb9f3a"
             ],
             [
              0.8888888888888888,
              "#fdca26"
             ],
             [
              1,
              "#f0f921"
             ]
            ],
            "type": "histogram2d"
           }
          ],
          "histogram2dcontour": [
           {
            "colorbar": {
             "outlinewidth": 0,
             "ticks": ""
            },
            "colorscale": [
             [
              0,
              "#0d0887"
             ],
             [
              0.1111111111111111,
              "#46039f"
             ],
             [
              0.2222222222222222,
              "#7201a8"
             ],
             [
              0.3333333333333333,
              "#9c179e"
             ],
             [
              0.4444444444444444,
              "#bd3786"
             ],
             [
              0.5555555555555556,
              "#d8576b"
             ],
             [
              0.6666666666666666,
              "#ed7953"
             ],
             [
              0.7777777777777778,
              "#fb9f3a"
             ],
             [
              0.8888888888888888,
              "#fdca26"
             ],
             [
              1,
              "#f0f921"
             ]
            ],
            "type": "histogram2dcontour"
           }
          ],
          "mesh3d": [
           {
            "colorbar": {
             "outlinewidth": 0,
             "ticks": ""
            },
            "type": "mesh3d"
           }
          ],
          "parcoords": [
           {
            "line": {
             "colorbar": {
              "outlinewidth": 0,
              "ticks": ""
             }
            },
            "type": "parcoords"
           }
          ],
          "pie": [
           {
            "automargin": true,
            "type": "pie"
           }
          ],
          "scatter": [
           {
            "fillpattern": {
             "fillmode": "overlay",
             "size": 10,
             "solidity": 0.2
            },
            "type": "scatter"
           }
          ],
          "scatter3d": [
           {
            "line": {
             "colorbar": {
              "outlinewidth": 0,
              "ticks": ""
             }
            },
            "marker": {
             "colorbar": {
              "outlinewidth": 0,
              "ticks": ""
             }
            },
            "type": "scatter3d"
           }
          ],
          "scattercarpet": [
           {
            "marker": {
             "colorbar": {
              "outlinewidth": 0,
              "ticks": ""
             }
            },
            "type": "scattercarpet"
           }
          ],
          "scattergeo": [
           {
            "marker": {
             "colorbar": {
              "outlinewidth": 0,
              "ticks": ""
             }
            },
            "type": "scattergeo"
           }
          ],
          "scattergl": [
           {
            "marker": {
             "colorbar": {
              "outlinewidth": 0,
              "ticks": ""
             }
            },
            "type": "scattergl"
           }
          ],
          "scattermapbox": [
           {
            "marker": {
             "colorbar": {
              "outlinewidth": 0,
              "ticks": ""
             }
            },
            "type": "scattermapbox"
           }
          ],
          "scatterpolar": [
           {
            "marker": {
             "colorbar": {
              "outlinewidth": 0,
              "ticks": ""
             }
            },
            "type": "scatterpolar"
           }
          ],
          "scatterpolargl": [
           {
            "marker": {
             "colorbar": {
              "outlinewidth": 0,
              "ticks": ""
             }
            },
            "type": "scatterpolargl"
           }
          ],
          "scatterternary": [
           {
            "marker": {
             "colorbar": {
              "outlinewidth": 0,
              "ticks": ""
             }
            },
            "type": "scatterternary"
           }
          ],
          "surface": [
           {
            "colorbar": {
             "outlinewidth": 0,
             "ticks": ""
            },
            "colorscale": [
             [
              0,
              "#0d0887"
             ],
             [
              0.1111111111111111,
              "#46039f"
             ],
             [
              0.2222222222222222,
              "#7201a8"
             ],
             [
              0.3333333333333333,
              "#9c179e"
             ],
             [
              0.4444444444444444,
              "#bd3786"
             ],
             [
              0.5555555555555556,
              "#d8576b"
             ],
             [
              0.6666666666666666,
              "#ed7953"
             ],
             [
              0.7777777777777778,
              "#fb9f3a"
             ],
             [
              0.8888888888888888,
              "#fdca26"
             ],
             [
              1,
              "#f0f921"
             ]
            ],
            "type": "surface"
           }
          ],
          "table": [
           {
            "cells": {
             "fill": {
              "color": "#EBF0F8"
             },
             "line": {
              "color": "white"
             }
            },
            "header": {
             "fill": {
              "color": "#C8D4E3"
             },
             "line": {
              "color": "white"
             }
            },
            "type": "table"
           }
          ]
         },
         "layout": {
          "annotationdefaults": {
           "arrowcolor": "#2a3f5f",
           "arrowhead": 0,
           "arrowwidth": 1
          },
          "autotypenumbers": "strict",
          "coloraxis": {
           "colorbar": {
            "outlinewidth": 0,
            "ticks": ""
           }
          },
          "colorscale": {
           "diverging": [
            [
             0,
             "#8e0152"
            ],
            [
             0.1,
             "#c51b7d"
            ],
            [
             0.2,
             "#de77ae"
            ],
            [
             0.3,
             "#f1b6da"
            ],
            [
             0.4,
             "#fde0ef"
            ],
            [
             0.5,
             "#f7f7f7"
            ],
            [
             0.6,
             "#e6f5d0"
            ],
            [
             0.7,
             "#b8e186"
            ],
            [
             0.8,
             "#7fbc41"
            ],
            [
             0.9,
             "#4d9221"
            ],
            [
             1,
             "#276419"
            ]
           ],
           "sequential": [
            [
             0,
             "#0d0887"
            ],
            [
             0.1111111111111111,
             "#46039f"
            ],
            [
             0.2222222222222222,
             "#7201a8"
            ],
            [
             0.3333333333333333,
             "#9c179e"
            ],
            [
             0.4444444444444444,
             "#bd3786"
            ],
            [
             0.5555555555555556,
             "#d8576b"
            ],
            [
             0.6666666666666666,
             "#ed7953"
            ],
            [
             0.7777777777777778,
             "#fb9f3a"
            ],
            [
             0.8888888888888888,
             "#fdca26"
            ],
            [
             1,
             "#f0f921"
            ]
           ],
           "sequentialminus": [
            [
             0,
             "#0d0887"
            ],
            [
             0.1111111111111111,
             "#46039f"
            ],
            [
             0.2222222222222222,
             "#7201a8"
            ],
            [
             0.3333333333333333,
             "#9c179e"
            ],
            [
             0.4444444444444444,
             "#bd3786"
            ],
            [
             0.5555555555555556,
             "#d8576b"
            ],
            [
             0.6666666666666666,
             "#ed7953"
            ],
            [
             0.7777777777777778,
             "#fb9f3a"
            ],
            [
             0.8888888888888888,
             "#fdca26"
            ],
            [
             1,
             "#f0f921"
            ]
           ]
          },
          "colorway": [
           "#636efa",
           "#EF553B",
           "#00cc96",
           "#ab63fa",
           "#FFA15A",
           "#19d3f3",
           "#FF6692",
           "#B6E880",
           "#FF97FF",
           "#FECB52"
          ],
          "font": {
           "color": "#2a3f5f"
          },
          "geo": {
           "bgcolor": "white",
           "lakecolor": "white",
           "landcolor": "#E5ECF6",
           "showlakes": true,
           "showland": true,
           "subunitcolor": "white"
          },
          "hoverlabel": {
           "align": "left"
          },
          "hovermode": "closest",
          "mapbox": {
           "style": "light"
          },
          "paper_bgcolor": "white",
          "plot_bgcolor": "#E5ECF6",
          "polar": {
           "angularaxis": {
            "gridcolor": "white",
            "linecolor": "white",
            "ticks": ""
           },
           "bgcolor": "#E5ECF6",
           "radialaxis": {
            "gridcolor": "white",
            "linecolor": "white",
            "ticks": ""
           }
          },
          "scene": {
           "xaxis": {
            "backgroundcolor": "#E5ECF6",
            "gridcolor": "white",
            "gridwidth": 2,
            "linecolor": "white",
            "showbackground": true,
            "ticks": "",
            "zerolinecolor": "white"
           },
           "yaxis": {
            "backgroundcolor": "#E5ECF6",
            "gridcolor": "white",
            "gridwidth": 2,
            "linecolor": "white",
            "showbackground": true,
            "ticks": "",
            "zerolinecolor": "white"
           },
           "zaxis": {
            "backgroundcolor": "#E5ECF6",
            "gridcolor": "white",
            "gridwidth": 2,
            "linecolor": "white",
            "showbackground": true,
            "ticks": "",
            "zerolinecolor": "white"
           }
          },
          "shapedefaults": {
           "line": {
            "color": "#2a3f5f"
           }
          },
          "ternary": {
           "aaxis": {
            "gridcolor": "white",
            "linecolor": "white",
            "ticks": ""
           },
           "baxis": {
            "gridcolor": "white",
            "linecolor": "white",
            "ticks": ""
           },
           "bgcolor": "#E5ECF6",
           "caxis": {
            "gridcolor": "white",
            "linecolor": "white",
            "ticks": ""
           }
          },
          "title": {
           "x": 0.05
          },
          "xaxis": {
           "automargin": true,
           "gridcolor": "white",
           "linecolor": "white",
           "ticks": "",
           "title": {
            "standoff": 15
           },
           "zerolinecolor": "white",
           "zerolinewidth": 2
          },
          "yaxis": {
           "automargin": true,
           "gridcolor": "white",
           "linecolor": "white",
           "ticks": "",
           "title": {
            "standoff": 15
           },
           "zerolinecolor": "white",
           "zerolinewidth": 2
          }
         }
        },
        "title": {
         "text": "Population with Water vs. Population without Water"
        },
        "xaxis": {
         "anchor": "y",
         "domain": [
          0,
          1
         ],
         "title": {
          "text": "region"
         }
        },
        "yaxis": {
         "anchor": "x",
         "domain": [
          0,
          1
         ],
         "title": {
          "text": "value"
         }
        }
       }
      },
      "text/html": [
       "<div>                            <div id=\"0b14835e-bdfe-4298-8e50-8155d4681600\" class=\"plotly-graph-div\" style=\"height:525px; width:100%;\"></div>            <script type=\"text/javascript\">                require([\"plotly\"], function(Plotly) {                    window.PLOTLYENV=window.PLOTLYENV || {};                                    if (document.getElementById(\"0b14835e-bdfe-4298-8e50-8155d4681600\")) {                    Plotly.newPlot(                        \"0b14835e-bdfe-4298-8e50-8155d4681600\",                        [{\"alignmentgroup\":\"True\",\"customdata\":[[\"Mauritius\"],[\"Congo\"],[\"Panama\"],[\"Puerto Rico\"],[\"Brunei\"],[\"Eswatini\"],[\"Sweden\"],[\"Suriname\"],[\"Norway\"],[\"Lesotho\"],[\"Netherlands\"],[\"Philippines\"],[\"Papua New Guinea\"],[\"Vietnam\"],[\"Albania\"],[\"Japan\"],[\"Azerbaijan\"],[\"France\"],[\"El Salvador\"],[\"Slovakia\"],[\"Georgia\"],[\"Slovenia\"],[\"Estonia\"],[\"Nepal\"],[\"Switzerland\"],[\"New Zealand\"],[\"Kyrgyzstan\"],[\"Moldova\"],[\"Armenia\"],[\"Australia\"],[\"Austria\"],[\"Lithuania\"],[\"Malawi\"],[\"Bangladesh\"],[\"Thailand\"],[\"Myanmar\"],[\"Hungary\"],[\"Guyana\"],[\"Belize\"],[\"United Kingdom\"],[\"Latvia\"],[\"Pakistan\"],[\"French Guiana\"],[\"Italy\"],[\"Zambia\"],[\"North Macedonia\"],[\"Poland\"],[\"Laos\"],[\"Romania\"],[\"Central African Republic\"],[\"Canada\"],[\"Taiwan\"],[\"Democratic Republic of Congo\"],[\"Uganda\"],[\"Tanzania\"],[\"Sierra Leone\"],[\"Belarus\"],[\"Ireland\"],[\"Mozambique\"],[\"Bulgaria\"],[\"Belgium\"],[\"Burundi\"],[\"Bosnia and Herzegovina\"],[\"Ukraine\"],[\"South Africa\"],[\"Honduras\"],[\"Russia\"],[\"Serbia\"],[\"Cambodia\"],[\"New Caledonia\"],[\"Equatorial Guinea\"],[\"Guinea\"],[\"China\"],[\"Costa Rica\"],[\"Malaysia\"],[\"Czechia\"],[\"Germany\"],[\"Finland\"],[\"Uzbekistan\"],[\"Liechtenstein\"],[\"Rwanda\"],[\"Sri Lanka\"],[\"Togo\"],[\"Montenegro\"],[\"Mongolia\"],[\"Nigeria\"],[\"Turkey\"],[\"North Korea\"],[\"Solomon Islands\"],[\"Tajikistan\"],[\"Zimbabwe\"],[\"Guinea-Bissau\"],[\"Guatemala\"],[\"India\"],[\"Cameroon\"],[\"Colombia\"],[\"Iraq\"],[\"Egypt\"],[\"Denmark\"],[\"Croatia\"],[\"Dominican Republic\"],[\"Nicaragua\"],[\"Spain\"],[\"Vanuatu\"],[\"Madagascar\"],[\"Chile\"],[\"Portugal\"],[\"Bhutan\"],[\"Fiji\"],[\"Ecuador\"],[\"Cote d'Ivoire\"],[\"Kenya\"],[\"Kazakhstan\"],[\"Reunion\"],[\"Indonesia\"],[\"Haiti\"],[\"Jamaica\"],[\"Andorra\"],[\"United States\"],[\"Malta\"],[\"Angola\"],[\"Liberia\"],[\"Ghana\"],[\"Gambia\"],[\"Paraguay\"],[\"Isle of Man\"],[\"Luxembourg\"],[\"Cuba\"],[\"Peru\"],[\"South Korea\"],[\"Gabon\"],[\"Montserrat\"],[\"Benin\"],[\"Brazil\"],[\"Cyprus\"],[\"Bahamas\"],[\"Sao Tome and Principe\"],[\"Faeroe Islands\"],[\"Iceland\"],[\"Iran\"],[\"Venezuela\"],[\"Bolivia\"],[\"Trinidad and Tobago\"],[\"Mexico\"],[\"Afghanistan\"],[\"Argentina\"],[\"Samoa\"],[\"Lebanon\"],[\"Morocco\"],[\"Ethiopia\"],[\"Algeria\"],[\"Martinique\"],[\"Greece\"],[\"Uruguay\"],[\"Syria\"],[\"Mali\"],[\"Grenada\"],[\"Jordan\"],[\"South Sudan\"],[\"Burkina Faso\"],[\"Singapore\"],[\"Saint Lucia\"],[\"Tunisia\"],[\"Falkland Islands\"],[\"Israel\"],[\"Senegal\"],[\"Turkmenistan\"],[\"Greenland\"],[\"Palestine\"],[\"Chad\"],[\"Eritrea\"],[\"Yemen\"],[\"Guadeloupe\"],[\"Hong Kong\"],[\"Namibia\"],[\"Mauritania\"],[\"Niger\"],[\"Botswana\"],[\"Timor\"],[\"Djibouti\"],[\"Sudan\"],[\"Oman\"],[\"Somalia\"],[\"Kuwait\"],[\"Western Sahara\"],[\"United Arab Emirates\"],[\"Qatar\"],[\"Saudi Arabia\"],[\"Libya\"]],\"hovertemplate\":\"variable=country_pop_with_water\\u003cbr\\u003eregion=%{x}\\u003cbr\\u003evalue=%{y}\\u003cbr\\u003eEntity=%{customdata[0]}\\u003cextra\\u003e\\u003c\\u002fextra\\u003e\",\"legendgroup\":\"country_pop_with_water\",\"marker\":{\"color\":\"#636efa\",\"pattern\":{\"shape\":\"\"}},\"name\":\"country_pop_with_water\",\"offsetgroup\":\"country_pop_with_water\",\"orientation\":\"v\",\"showlegend\":true,\"textposition\":\"auto\",\"x\":[\"Africa\",\"Africa\",\"Americas\",\"Americas\",\"Asia\",\"Africa\",\"Europe\",\"Americas\",\"Europe\",\"Africa\",\"Europe\",\"Asia\",\"Oceania\",\"Asia\",\"Europe\",\"Asia\",\"Asia\",\"Europe\",\"Americas\",\"Europe\",\"Asia\",\"Europe\",\"Europe\",\"Asia\",\"Europe\",\"Oceania\",\"Asia\",\"Europe\",\"Asia\",\"Oceania\",\"Europe\",\"Europe\",\"Africa\",\"Asia\",\"Asia\",\"Asia\",\"Europe\",\"Americas\",\"Americas\",\"Europe\",\"Europe\",\"Asia\",\"Americas\",\"Europe\",\"Africa\",\"Europe\",\"Europe\",\"Asia\",\"Europe\",\"Africa\",\"Americas\",\"Asia\",\"Africa\",\"Africa\",\"Africa\",\"Africa\",\"Europe\",\"Europe\",\"Africa\",\"Europe\",\"Europe\",\"Africa\",\"Europe\",\"Europe\",\"Africa\",\"Americas\",\"Europe\",\"Europe\",\"Asia\",\"Oceania\",\"Africa\",\"Africa\",\"Asia\",\"Americas\",\"Asia\",\"Europe\",\"Europe\",\"Europe\",\"Asia\",\"Europe\",\"Africa\",\"Asia\",\"Africa\",\"Europe\",\"Asia\",\"Africa\",\"Asia\",\"Asia\",\"Oceania\",\"Asia\",\"Africa\",\"Africa\",\"Americas\",\"Asia\",\"Africa\",\"Americas\",\"Asia\",\"Africa\",\"Europe\",\"Europe\",\"Americas\",\"Americas\",\"Europe\",\"Oceania\",\"Africa\",\"Americas\",\"Europe\",\"Asia\",\"Oceania\",\"Americas\",\"Africa\",\"Africa\",\"Asia\",\"Africa\",\"Asia\",\"Americas\",\"Americas\",\"Europe\",\"Americas\",\"Europe\",\"Africa\",\"Africa\",\"Africa\",\"Africa\",\"Americas\",\"Europe\",\"Europe\",\"Americas\",\"Americas\",\"Asia\",\"Africa\",\"Americas\",\"Africa\",\"Americas\",\"Europe\",\"Americas\",\"Africa\",\"Europe\",\"Europe\",\"Asia\",\"Americas\",\"Americas\",\"Americas\",\"Americas\",\"Asia\",\"Americas\",\"Oceania\",\"Asia\",\"Africa\",\"Africa\",\"Africa\",\"Americas\",\"Europe\",\"Americas\",\"Asia\",\"Africa\",\"Americas\",\"Asia\",\"Africa\",\"Africa\",\"Asia\",\"Americas\",\"Africa\",\"Americas\",\"Asia\",\"Africa\",\"Asia\",\"Americas\",\"Asia\",\"Africa\",\"Africa\",\"Asia\",\"Americas\",\"Asia\",\"Africa\",\"Africa\",\"Africa\",\"Africa\",\"Asia\",\"Africa\",\"Africa\",\"Asia\",\"Africa\",\"Asia\",\"Africa\",\"Asia\",\"Asia\",\"Asia\",\"Africa\"],\"xaxis\":\"x\",\"y\":[1050450.5426578547,2938296.401817093,3137254.71419053,2316570.4759961884,360072.2548820178,887510.2165234493,8904276.600853726,506406.476745815,4236764.410305704,1564618.8065020298,16039177.09721833,92001018.97267285,4320663.964384459,90512410.41095836,2411218.3970497833,103848422.20989162,8155351.238563095,56808962.99127437,5051479.286671633,4407202.721131543,3216162.7266990324,1588260.4141425833,1024308.7758391177,26540567.61481573,7123410.944683637,3608748.890263973,5056164.625313027,3204897.9796087523,2247520.704457505,20436837.306900296,7481895.853871778,2214951.871497674,17215871.01561758,158744469.6018905,59575757.63425432,41641720.025876105,7539117.7350659855,671639.9740183905,348033.5451206379,57586171.458511464,1564129.8943122397,203019886.10136497,248844.5164704919,47098797.11236646,11207270.607372427,1626940.2471501965,27447885.202393916,5988407.381584226,17651124.00885165,2425180.168311973,32060481.951474957,19268708.10631422,31432730.716645792,37046447.2004242,37755027.41178153,4590825.070355873,7827345.3936363375,3951555.210255742,18085188.35019923,4837335.445586726,10185384.633630445,8459499.187300017,2229510.2447319943,39899697.21620487,42898581.6527582,6482149.732111571,103541865.18908122,6438828.422872489,14051563.408318292,179145.3042643274,871868.0548286514,9881820.306650741,1147406854.9398255,3615841.2995957322,23106256.540960144,8217880.871875023,69872990.45153524,4665574.662521849,25516357.263433307,22952.4,8815128.072870914,15578848.132962443,5269812.089524145,423930.645262217,2312797.0450207577,152103181.249481,55063385.8817887,18219246.11368757,365232.86671118316,5829858.5853223335,9908583.940283777,1083091.6577649987,12443263.914285345,1187445034.3321464,16917671.380190946,33214295.66914482,29672453.130723134,60578771.64553377,4634700.302362435,2787934.4096182296,7306587.281665364,4059610.2121764887,31290208.92937597,231156.74500781437,9827983.639896475,12805464.440055382,6170677.011878622,438466.47857994825,566058.7681080352,10468237.417249858,16155739.252095908,32693305.041056246,12434689.880539304,536705.648939619,234344381.14701116,6638071.38636258,1834834.1385111897,48749.494743369694,230486211.10496375,241967.90127580508,12936558.96647914,3885138.024117701,22367642.814982712,1739522.048047522,4515710.151233215,45396.81310831812,417212.47916206345,8121633.974292041,16101888.16644945,34842757.64874053,1222566.1643657624,2164.8542419191235,7407712.888196339,118750891.59758708,705991.7865943462,241603.82911146045,90989.70715874422,23623.216138153395,194611.20987424813,39921547.79077535,15531296.76028897,8280403.02816063,833543.1257603635,63077779.4300405,27625700.182767794,28870177.47421385,87512.28202456514,2719241.8826385112,14652980.574706638,60542390.491602264,27455541.321823053,144467.1789459782,3806082.8598439964,1967583.6959143532,9825188.311067326,12631615.670051415,52693.701752142406,3965910.737275403,8421443.473237108,14265106.149363808,3084008.0766491033,47920.110718046555,4579524.710692909,950.6781533328335,1939072.51398444,5061008.346757373,5159192.4887272585,19863.364222153672,2177322.292798298,8713165.939969487,1582671.5380556772,13388701.174991934,204454.17058106192,1413387.3912146452,558153.3485895857,1477646.5624217368,8714134.301423056,572508.5031392383,264092.6825996618,315931.44883745874,22901866.89867185,844248.2582289239,8941062.963969471,345010.94957578817,174297.23180228722,4508.728826945104,430782.4625934444,5773634.056730193,2022360.5947876316],\"yaxis\":\"y\",\"type\":\"bar\"},{\"alignmentgroup\":\"True\",\"customdata\":[[\"Mauritius\"],[\"Congo\"],[\"Panama\"],[\"Puerto Rico\"],[\"Brunei\"],[\"Eswatini\"],[\"Sweden\"],[\"Suriname\"],[\"Norway\"],[\"Lesotho\"],[\"Netherlands\"],[\"Philippines\"],[\"Papua New Guinea\"],[\"Vietnam\"],[\"Albania\"],[\"Japan\"],[\"Azerbaijan\"],[\"France\"],[\"El Salvador\"],[\"Slovakia\"],[\"Georgia\"],[\"Slovenia\"],[\"Estonia\"],[\"Nepal\"],[\"Switzerland\"],[\"New Zealand\"],[\"Kyrgyzstan\"],[\"Moldova\"],[\"Armenia\"],[\"Australia\"],[\"Austria\"],[\"Lithuania\"],[\"Malawi\"],[\"Bangladesh\"],[\"Thailand\"],[\"Myanmar\"],[\"Hungary\"],[\"Guyana\"],[\"Belize\"],[\"United Kingdom\"],[\"Latvia\"],[\"Pakistan\"],[\"French Guiana\"],[\"Italy\"],[\"Zambia\"],[\"North Macedonia\"],[\"Poland\"],[\"Laos\"],[\"Romania\"],[\"Central African Republic\"],[\"Canada\"],[\"Taiwan\"],[\"Democratic Republic of Congo\"],[\"Uganda\"],[\"Tanzania\"],[\"Sierra Leone\"],[\"Belarus\"],[\"Ireland\"],[\"Mozambique\"],[\"Bulgaria\"],[\"Belgium\"],[\"Burundi\"],[\"Bosnia and Herzegovina\"],[\"Ukraine\"],[\"South Africa\"],[\"Honduras\"],[\"Russia\"],[\"Serbia\"],[\"Cambodia\"],[\"New Caledonia\"],[\"Equatorial Guinea\"],[\"Guinea\"],[\"China\"],[\"Costa Rica\"],[\"Malaysia\"],[\"Czechia\"],[\"Germany\"],[\"Finland\"],[\"Uzbekistan\"],[\"Liechtenstein\"],[\"Rwanda\"],[\"Sri Lanka\"],[\"Togo\"],[\"Montenegro\"],[\"Mongolia\"],[\"Nigeria\"],[\"Turkey\"],[\"North Korea\"],[\"Solomon Islands\"],[\"Tajikistan\"],[\"Zimbabwe\"],[\"Guinea-Bissau\"],[\"Guatemala\"],[\"India\"],[\"Cameroon\"],[\"Colombia\"],[\"Iraq\"],[\"Egypt\"],[\"Denmark\"],[\"Croatia\"],[\"Dominican Republic\"],[\"Nicaragua\"],[\"Spain\"],[\"Vanuatu\"],[\"Madagascar\"],[\"Chile\"],[\"Portugal\"],[\"Bhutan\"],[\"Fiji\"],[\"Ecuador\"],[\"Cote d'Ivoire\"],[\"Kenya\"],[\"Kazakhstan\"],[\"Reunion\"],[\"Indonesia\"],[\"Haiti\"],[\"Jamaica\"],[\"Andorra\"],[\"United States\"],[\"Malta\"],[\"Angola\"],[\"Liberia\"],[\"Ghana\"],[\"Gambia\"],[\"Paraguay\"],[\"Isle of Man\"],[\"Luxembourg\"],[\"Cuba\"],[\"Peru\"],[\"South Korea\"],[\"Gabon\"],[\"Montserrat\"],[\"Benin\"],[\"Brazil\"],[\"Cyprus\"],[\"Bahamas\"],[\"Sao Tome and Principe\"],[\"Faeroe Islands\"],[\"Iceland\"],[\"Iran\"],[\"Venezuela\"],[\"Bolivia\"],[\"Trinidad and Tobago\"],[\"Mexico\"],[\"Afghanistan\"],[\"Argentina\"],[\"Samoa\"],[\"Lebanon\"],[\"Morocco\"],[\"Ethiopia\"],[\"Algeria\"],[\"Martinique\"],[\"Greece\"],[\"Uruguay\"],[\"Syria\"],[\"Mali\"],[\"Grenada\"],[\"Jordan\"],[\"South Sudan\"],[\"Burkina Faso\"],[\"Singapore\"],[\"Saint Lucia\"],[\"Tunisia\"],[\"Falkland Islands\"],[\"Israel\"],[\"Senegal\"],[\"Turkmenistan\"],[\"Greenland\"],[\"Palestine\"],[\"Chad\"],[\"Eritrea\"],[\"Yemen\"],[\"Guadeloupe\"],[\"Hong Kong\"],[\"Namibia\"],[\"Mauritania\"],[\"Niger\"],[\"Botswana\"],[\"Timor\"],[\"Djibouti\"],[\"Sudan\"],[\"Oman\"],[\"Somalia\"],[\"Kuwait\"],[\"Western Sahara\"],[\"United Arab Emirates\"],[\"Qatar\"],[\"Saudi Arabia\"],[\"Libya\"]],\"hovertemplate\":\"variable=country_pop_without_water\\u003cbr\\u003eregion=%{x}\\u003cbr\\u003evalue=%{y}\\u003cbr\\u003eEntity=%{customdata[0]}\\u003cextra\\u003e\\u003c\\u002fextra\\u003e\",\"legendgroup\":\"country_pop_without_water\",\"marker\":{\"color\":\"#EF553B\",\"pattern\":{\"shape\":\"\"}},\"name\":\"country_pop_without_water\",\"offsetgroup\":\"country_pop_without_water\",\"orientation\":\"v\",\"showlegend\":true,\"textposition\":\"auto\",\"x\":[\"Africa\",\"Africa\",\"Americas\",\"Americas\",\"Asia\",\"Africa\",\"Europe\",\"Americas\",\"Europe\",\"Africa\",\"Europe\",\"Asia\",\"Oceania\",\"Asia\",\"Europe\",\"Asia\",\"Asia\",\"Europe\",\"Americas\",\"Europe\",\"Asia\",\"Europe\",\"Europe\",\"Asia\",\"Europe\",\"Oceania\",\"Asia\",\"Europe\",\"Asia\",\"Oceania\",\"Europe\",\"Europe\",\"Africa\",\"Asia\",\"Asia\",\"Asia\",\"Europe\",\"Americas\",\"Americas\",\"Europe\",\"Europe\",\"Asia\",\"Americas\",\"Europe\",\"Africa\",\"Europe\",\"Europe\",\"Asia\",\"Europe\",\"Africa\",\"Americas\",\"Asia\",\"Africa\",\"Africa\",\"Africa\",\"Africa\",\"Europe\",\"Europe\",\"Africa\",\"Europe\",\"Europe\",\"Africa\",\"Europe\",\"Europe\",\"Africa\",\"Americas\",\"Europe\",\"Europe\",\"Asia\",\"Oceania\",\"Africa\",\"Africa\",\"Asia\",\"Americas\",\"Asia\",\"Europe\",\"Europe\",\"Europe\",\"Asia\",\"Europe\",\"Africa\",\"Asia\",\"Africa\",\"Europe\",\"Asia\",\"Africa\",\"Asia\",\"Asia\",\"Oceania\",\"Asia\",\"Africa\",\"Africa\",\"Americas\",\"Asia\",\"Africa\",\"Americas\",\"Asia\",\"Africa\",\"Europe\",\"Europe\",\"Americas\",\"Americas\",\"Europe\",\"Oceania\",\"Africa\",\"Americas\",\"Europe\",\"Asia\",\"Oceania\",\"Americas\",\"Africa\",\"Africa\",\"Asia\",\"Africa\",\"Asia\",\"Americas\",\"Americas\",\"Europe\",\"Americas\",\"Europe\",\"Africa\",\"Africa\",\"Africa\",\"Africa\",\"Americas\",\"Europe\",\"Europe\",\"Americas\",\"Americas\",\"Asia\",\"Africa\",\"Americas\",\"Africa\",\"Americas\",\"Europe\",\"Americas\",\"Africa\",\"Europe\",\"Europe\",\"Asia\",\"Americas\",\"Americas\",\"Americas\",\"Americas\",\"Asia\",\"Americas\",\"Oceania\",\"Asia\",\"Africa\",\"Africa\",\"Africa\",\"Americas\",\"Europe\",\"Americas\",\"Asia\",\"Africa\",\"Americas\",\"Asia\",\"Africa\",\"Africa\",\"Asia\",\"Americas\",\"Africa\",\"Americas\",\"Asia\",\"Africa\",\"Asia\",\"Americas\",\"Asia\",\"Africa\",\"Africa\",\"Asia\",\"Americas\",\"Asia\",\"Africa\",\"Africa\",\"Africa\",\"Africa\",\"Asia\",\"Africa\",\"Africa\",\"Asia\",\"Africa\",\"Asia\",\"Africa\",\"Asia\",\"Asia\",\"Asia\",\"Africa\"],\"xaxis\":\"x\",\"y\":[222977.4573421452,2718720.5981829073,1244240.2489425947,511675.0970899955,81459.7451179823,284858.78347655095,1245486.5974828205,81457.38920165985,1225141.2910756767,594448.1934979704,1133916.9027816684,19045840.69955423,4798037.112956087,7656407.025741094,461715.6029502169,22202271.72965677,2067982.09418402,8617207.366536785,1467020.7133283664,1053523.2788684575,763610.2733009676,490462.58585741685,300787.56906139595,3134334.6743537495,1592083.0553163642,1248116.0971511547,1572163.7876697273,819127.0203912483,720607.2955424949,5250194.865017134,1561176.1461282214,474910.12850232626,2431732.8097610655,7559024.398109483,10375084.408436218,13164268.036418432,2095044.2649340148,115074.9936430514,56824.04459602287,10620729.880032236,302804.10568776017,22180038.689549,56731.285997771745,13268619.731984181,7713386.3926275745,455720.75284980354,10349114.797606084,1390950.618415774,1476647.991148353,2493011.1326595163,5958309.164924044,4586299.893685779,60944924.52659727,10077058.951764679,23743178.681283236,3550517.929644127,1615521.606363662,1031311.8028225095,14077846.49932349,2059311.2040585303,1446949.3663695536,3795929.8126999857,1033948.7552680057,3567076.592478757,17128311.973297194,3580843.6369441464,41899496.933828376,2258718.577127511,2894878.2121791863,108965.53202427868,578022.9451713486,3615416.6933492594,296784397.6016314,1523209.8942118355,9669917.603576189,2506672.128124978,14027480.548464768,878323.205173586,8419397.10081278,15301.6,4461388.927129087,5918451.212160423,3208429.910475855,204120.3547377831,995740.2385882491,59297522.75051901,29979323.241701946,7667787.741756958,338473.8289121972,3919766.4146776646,5183587.059716224,932398.3422350012,5806604.085714656,205963966.03854427,10306590.619809056,18051524.57045036,11506897.869276864,43678432.78421672,1178601.6976375661,1293704.568475944,3647124.9335463587,2642758.365868474,15454992.257319342,83305.91372928424,18599337.437420238,6396528.475145644,3997245.988121377,341433.5214200518,336744.6974602798,7420043.748228444,10897889.747904088,22292045.607364,6559234.048458673,364990.35106038087,42017023.76800307,4903611.590785505,1138623.5260892878,28604.505256630313,102349721.8086368,200822.09872419492,20997052.03352086,1295062.9420046643,9364485.185017293,747414.9519524776,2701851.0814536484,40013.18689168187,217601.52083793646,3195819.0395366023,17257301.43192154,16462408.940695312,1056249.7290308946,2816.1457580808756,5043318.111803661,95178296.26834656,509596.2134056538,154640.11334083678,132355.8536175879,25421.428039382667,141966.87010636114,45107185.52617285,13171203.304282952,3552333.839244896,569827.5668497165,67174486.51395404,12209727.817232205,16722709.056274146,112631.71797543486,4049909.1173614883,22690814.458563853,57333835.50839773,17113220.47270684,230275.82105402183,6564589.48089621,1516228.9643476491,8450186.444249945,8216283.996629629,60321.29824785757,6303111.262724598,2959933.5267628916,7231990.850636193,2812675.9233508976,136480.88928195345,7356234.373513127,2146.583176395958,6850703.48601556,12135299.653242627,958620.8526740493,35037.627926075795,3045433.707201702,8201801.660467596,2018756.8693905838,17097635.856276654,195558.82941893805,6139412.608785355,2016029.3384269383,3271917.1499515744,16398082.843863126,1824192.943203431,1079782.3174003381,686265.5511625413,22007440.898605496,4379097.412824732,7418392.116894301,3983542.050424212,432161.46999131585,9986561.837657709,2499741.537406556,29566985.033000834,4936074.670488791],\"yaxis\":\"y\",\"type\":\"bar\"}],                        {\"template\":{\"data\":{\"histogram2dcontour\":[{\"type\":\"histogram2dcontour\",\"colorbar\":{\"outlinewidth\":0,\"ticks\":\"\"},\"colorscale\":[[0.0,\"#0d0887\"],[0.1111111111111111,\"#46039f\"],[0.2222222222222222,\"#7201a8\"],[0.3333333333333333,\"#9c179e\"],[0.4444444444444444,\"#bd3786\"],[0.5555555555555556,\"#d8576b\"],[0.6666666666666666,\"#ed7953\"],[0.7777777777777778,\"#fb9f3a\"],[0.8888888888888888,\"#fdca26\"],[1.0,\"#f0f921\"]]}],\"choropleth\":[{\"type\":\"choropleth\",\"colorbar\":{\"outlinewidth\":0,\"ticks\":\"\"}}],\"histogram2d\":[{\"type\":\"histogram2d\",\"colorbar\":{\"outlinewidth\":0,\"ticks\":\"\"},\"colorscale\":[[0.0,\"#0d0887\"],[0.1111111111111111,\"#46039f\"],[0.2222222222222222,\"#7201a8\"],[0.3333333333333333,\"#9c179e\"],[0.4444444444444444,\"#bd3786\"],[0.5555555555555556,\"#d8576b\"],[0.6666666666666666,\"#ed7953\"],[0.7777777777777778,\"#fb9f3a\"],[0.8888888888888888,\"#fdca26\"],[1.0,\"#f0f921\"]]}],\"heatmap\":[{\"type\":\"heatmap\",\"colorbar\":{\"outlinewidth\":0,\"ticks\":\"\"},\"colorscale\":[[0.0,\"#0d0887\"],[0.1111111111111111,\"#46039f\"],[0.2222222222222222,\"#7201a8\"],[0.3333333333333333,\"#9c179e\"],[0.4444444444444444,\"#bd3786\"],[0.5555555555555556,\"#d8576b\"],[0.6666666666666666,\"#ed7953\"],[0.7777777777777778,\"#fb9f3a\"],[0.8888888888888888,\"#fdca26\"],[1.0,\"#f0f921\"]]}],\"heatmapgl\":[{\"type\":\"heatmapgl\",\"colorbar\":{\"outlinewidth\":0,\"ticks\":\"\"},\"colorscale\":[[0.0,\"#0d0887\"],[0.1111111111111111,\"#46039f\"],[0.2222222222222222,\"#7201a8\"],[0.3333333333333333,\"#9c179e\"],[0.4444444444444444,\"#bd3786\"],[0.5555555555555556,\"#d8576b\"],[0.6666666666666666,\"#ed7953\"],[0.7777777777777778,\"#fb9f3a\"],[0.8888888888888888,\"#fdca26\"],[1.0,\"#f0f921\"]]}],\"contourcarpet\":[{\"type\":\"contourcarpet\",\"colorbar\":{\"outlinewidth\":0,\"ticks\":\"\"}}],\"contour\":[{\"type\":\"contour\",\"colorbar\":{\"outlinewidth\":0,\"ticks\":\"\"},\"colorscale\":[[0.0,\"#0d0887\"],[0.1111111111111111,\"#46039f\"],[0.2222222222222222,\"#7201a8\"],[0.3333333333333333,\"#9c179e\"],[0.4444444444444444,\"#bd3786\"],[0.5555555555555556,\"#d8576b\"],[0.6666666666666666,\"#ed7953\"],[0.7777777777777778,\"#fb9f3a\"],[0.8888888888888888,\"#fdca26\"],[1.0,\"#f0f921\"]]}],\"surface\":[{\"type\":\"surface\",\"colorbar\":{\"outlinewidth\":0,\"ticks\":\"\"},\"colorscale\":[[0.0,\"#0d0887\"],[0.1111111111111111,\"#46039f\"],[0.2222222222222222,\"#7201a8\"],[0.3333333333333333,\"#9c179e\"],[0.4444444444444444,\"#bd3786\"],[0.5555555555555556,\"#d8576b\"],[0.6666666666666666,\"#ed7953\"],[0.7777777777777778,\"#fb9f3a\"],[0.8888888888888888,\"#fdca26\"],[1.0,\"#f0f921\"]]}],\"mesh3d\":[{\"type\":\"mesh3d\",\"colorbar\":{\"outlinewidth\":0,\"ticks\":\"\"}}],\"scatter\":[{\"fillpattern\":{\"fillmode\":\"overlay\",\"size\":10,\"solidity\":0.2},\"type\":\"scatter\"}],\"parcoords\":[{\"type\":\"parcoords\",\"line\":{\"colorbar\":{\"outlinewidth\":0,\"ticks\":\"\"}}}],\"scatterpolargl\":[{\"type\":\"scatterpolargl\",\"marker\":{\"colorbar\":{\"outlinewidth\":0,\"ticks\":\"\"}}}],\"bar\":[{\"error_x\":{\"color\":\"#2a3f5f\"},\"error_y\":{\"color\":\"#2a3f5f\"},\"marker\":{\"line\":{\"color\":\"#E5ECF6\",\"width\":0.5},\"pattern\":{\"fillmode\":\"overlay\",\"size\":10,\"solidity\":0.2}},\"type\":\"bar\"}],\"scattergeo\":[{\"type\":\"scattergeo\",\"marker\":{\"colorbar\":{\"outlinewidth\":0,\"ticks\":\"\"}}}],\"scatterpolar\":[{\"type\":\"scatterpolar\",\"marker\":{\"colorbar\":{\"outlinewidth\":0,\"ticks\":\"\"}}}],\"histogram\":[{\"marker\":{\"pattern\":{\"fillmode\":\"overlay\",\"size\":10,\"solidity\":0.2}},\"type\":\"histogram\"}],\"scattergl\":[{\"type\":\"scattergl\",\"marker\":{\"colorbar\":{\"outlinewidth\":0,\"ticks\":\"\"}}}],\"scatter3d\":[{\"type\":\"scatter3d\",\"line\":{\"colorbar\":{\"outlinewidth\":0,\"ticks\":\"\"}},\"marker\":{\"colorbar\":{\"outlinewidth\":0,\"ticks\":\"\"}}}],\"scattermapbox\":[{\"type\":\"scattermapbox\",\"marker\":{\"colorbar\":{\"outlinewidth\":0,\"ticks\":\"\"}}}],\"scatterternary\":[{\"type\":\"scatterternary\",\"marker\":{\"colorbar\":{\"outlinewidth\":0,\"ticks\":\"\"}}}],\"scattercarpet\":[{\"type\":\"scattercarpet\",\"marker\":{\"colorbar\":{\"outlinewidth\":0,\"ticks\":\"\"}}}],\"carpet\":[{\"aaxis\":{\"endlinecolor\":\"#2a3f5f\",\"gridcolor\":\"white\",\"linecolor\":\"white\",\"minorgridcolor\":\"white\",\"startlinecolor\":\"#2a3f5f\"},\"baxis\":{\"endlinecolor\":\"#2a3f5f\",\"gridcolor\":\"white\",\"linecolor\":\"white\",\"minorgridcolor\":\"white\",\"startlinecolor\":\"#2a3f5f\"},\"type\":\"carpet\"}],\"table\":[{\"cells\":{\"fill\":{\"color\":\"#EBF0F8\"},\"line\":{\"color\":\"white\"}},\"header\":{\"fill\":{\"color\":\"#C8D4E3\"},\"line\":{\"color\":\"white\"}},\"type\":\"table\"}],\"barpolar\":[{\"marker\":{\"line\":{\"color\":\"#E5ECF6\",\"width\":0.5},\"pattern\":{\"fillmode\":\"overlay\",\"size\":10,\"solidity\":0.2}},\"type\":\"barpolar\"}],\"pie\":[{\"automargin\":true,\"type\":\"pie\"}]},\"layout\":{\"autotypenumbers\":\"strict\",\"colorway\":[\"#636efa\",\"#EF553B\",\"#00cc96\",\"#ab63fa\",\"#FFA15A\",\"#19d3f3\",\"#FF6692\",\"#B6E880\",\"#FF97FF\",\"#FECB52\"],\"font\":{\"color\":\"#2a3f5f\"},\"hovermode\":\"closest\",\"hoverlabel\":{\"align\":\"left\"},\"paper_bgcolor\":\"white\",\"plot_bgcolor\":\"#E5ECF6\",\"polar\":{\"bgcolor\":\"#E5ECF6\",\"angularaxis\":{\"gridcolor\":\"white\",\"linecolor\":\"white\",\"ticks\":\"\"},\"radialaxis\":{\"gridcolor\":\"white\",\"linecolor\":\"white\",\"ticks\":\"\"}},\"ternary\":{\"bgcolor\":\"#E5ECF6\",\"aaxis\":{\"gridcolor\":\"white\",\"linecolor\":\"white\",\"ticks\":\"\"},\"baxis\":{\"gridcolor\":\"white\",\"linecolor\":\"white\",\"ticks\":\"\"},\"caxis\":{\"gridcolor\":\"white\",\"linecolor\":\"white\",\"ticks\":\"\"}},\"coloraxis\":{\"colorbar\":{\"outlinewidth\":0,\"ticks\":\"\"}},\"colorscale\":{\"sequential\":[[0.0,\"#0d0887\"],[0.1111111111111111,\"#46039f\"],[0.2222222222222222,\"#7201a8\"],[0.3333333333333333,\"#9c179e\"],[0.4444444444444444,\"#bd3786\"],[0.5555555555555556,\"#d8576b\"],[0.6666666666666666,\"#ed7953\"],[0.7777777777777778,\"#fb9f3a\"],[0.8888888888888888,\"#fdca26\"],[1.0,\"#f0f921\"]],\"sequentialminus\":[[0.0,\"#0d0887\"],[0.1111111111111111,\"#46039f\"],[0.2222222222222222,\"#7201a8\"],[0.3333333333333333,\"#9c179e\"],[0.4444444444444444,\"#bd3786\"],[0.5555555555555556,\"#d8576b\"],[0.6666666666666666,\"#ed7953\"],[0.7777777777777778,\"#fb9f3a\"],[0.8888888888888888,\"#fdca26\"],[1.0,\"#f0f921\"]],\"diverging\":[[0,\"#8e0152\"],[0.1,\"#c51b7d\"],[0.2,\"#de77ae\"],[0.3,\"#f1b6da\"],[0.4,\"#fde0ef\"],[0.5,\"#f7f7f7\"],[0.6,\"#e6f5d0\"],[0.7,\"#b8e186\"],[0.8,\"#7fbc41\"],[0.9,\"#4d9221\"],[1,\"#276419\"]]},\"xaxis\":{\"gridcolor\":\"white\",\"linecolor\":\"white\",\"ticks\":\"\",\"title\":{\"standoff\":15},\"zerolinecolor\":\"white\",\"automargin\":true,\"zerolinewidth\":2},\"yaxis\":{\"gridcolor\":\"white\",\"linecolor\":\"white\",\"ticks\":\"\",\"title\":{\"standoff\":15},\"zerolinecolor\":\"white\",\"automargin\":true,\"zerolinewidth\":2},\"scene\":{\"xaxis\":{\"backgroundcolor\":\"#E5ECF6\",\"gridcolor\":\"white\",\"linecolor\":\"white\",\"showbackground\":true,\"ticks\":\"\",\"zerolinecolor\":\"white\",\"gridwidth\":2},\"yaxis\":{\"backgroundcolor\":\"#E5ECF6\",\"gridcolor\":\"white\",\"linecolor\":\"white\",\"showbackground\":true,\"ticks\":\"\",\"zerolinecolor\":\"white\",\"gridwidth\":2},\"zaxis\":{\"backgroundcolor\":\"#E5ECF6\",\"gridcolor\":\"white\",\"linecolor\":\"white\",\"showbackground\":true,\"ticks\":\"\",\"zerolinecolor\":\"white\",\"gridwidth\":2}},\"shapedefaults\":{\"line\":{\"color\":\"#2a3f5f\"}},\"annotationdefaults\":{\"arrowcolor\":\"#2a3f5f\",\"arrowhead\":0,\"arrowwidth\":1},\"geo\":{\"bgcolor\":\"white\",\"landcolor\":\"#E5ECF6\",\"subunitcolor\":\"white\",\"showland\":true,\"showlakes\":true,\"lakecolor\":\"white\"},\"title\":{\"x\":0.05},\"mapbox\":{\"style\":\"light\"}}},\"xaxis\":{\"anchor\":\"y\",\"domain\":[0.0,1.0],\"title\":{\"text\":\"region\"}},\"yaxis\":{\"anchor\":\"x\",\"domain\":[0.0,1.0],\"title\":{\"text\":\"value\"}},\"legend\":{\"title\":{\"text\":\"variable\"},\"tracegroupgap\":0},\"title\":{\"text\":\"Population with Water vs. Population without Water\"},\"barmode\":\"group\"},                        {\"responsive\": true}                    ).then(function(){\n",
       "                            \n",
       "var gd = document.getElementById('0b14835e-bdfe-4298-8e50-8155d4681600');\n",
       "var x = new MutationObserver(function (mutations, observer) {{\n",
       "        var display = window.getComputedStyle(gd).display;\n",
       "        if (!display || display === 'none') {{\n",
       "            console.log([gd, 'removed!']);\n",
       "            Plotly.purge(gd);\n",
       "            observer.disconnect();\n",
       "        }}\n",
       "}});\n",
       "\n",
       "// Listen for the removal of the full notebook cells\n",
       "var notebookContainer = gd.closest('#notebook-container');\n",
       "if (notebookContainer) {{\n",
       "    x.observe(notebookContainer, {childList: true});\n",
       "}}\n",
       "\n",
       "// Listen for the clearing of the current output cell\n",
       "var outputEl = gd.closest('.output');\n",
       "if (outputEl) {{\n",
       "    x.observe(outputEl, {childList: true});\n",
       "}}\n",
       "\n",
       "                        })                };                });            </script>        </div>"
      ]
     },
     "metadata": {},
     "output_type": "display_data"
    }
   ],
   "source": [
    "# create stacked bar chart, stacking  \"country_pop_with_water\", and \"country_pop_without_water\" on the y axis as two bars. Using region as the x axis.\n",
    "# px.bar(df_countries, x=\"region\", y=[\"country_pop_with_water\", \"country_pop_without_water\"], title=\"Population with Water vs. Population without Water\", hover_data=[\"Entity\"])\n",
    "\n",
    "# create the same, but put the bars side by side\n",
    "px.bar(df_countries, x=\"region\", y=[\"country_pop_with_water\", \"country_pop_without_water\"], barmode=\"group\", title=\"Population with Water vs. Population without Water\", hover_data=[\"Entity\"])\n",
    "\n",
    "\n",
    "\n",
    "\n"
   ]
  },
  {
   "cell_type": "code",
   "execution_count": null,
   "metadata": {},
   "outputs": [],
   "source": [
    "# df_countries.to_csv(export_file_location + \"country_data_chloro.csv\")"
   ]
  }
 ],
 "metadata": {
  "kernelspec": {
   "display_name": "Python 3",
   "language": "python",
   "name": "python3"
  },
  "language_info": {
   "codemirror_mode": {
    "name": "ipython",
    "version": 3
   },
   "file_extension": ".py",
   "mimetype": "text/x-python",
   "name": "python",
   "nbconvert_exporter": "python",
   "pygments_lexer": "ipython3",
   "version": "3.11.9"
  },
  "orig_nbformat": 4,
  "vscode": {
   "interpreter": {
    "hash": "c09a8b249899dc4589e662892666698668e7a3ca1327801a18c24efb244ad2c6"
   }
  }
 },
 "nbformat": 4,
 "nbformat_minor": 2
}
