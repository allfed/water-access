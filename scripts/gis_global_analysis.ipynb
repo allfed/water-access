{
 "cells": [
  {
   "cell_type": "code",
   "execution_count": 1,
   "metadata": {},
   "outputs": [],
   "source": [
    "\n",
    "import pathlib\n",
    "import pandas as pd\n",
    "import numpy as np\n",
    "import matplotlib.pyplot as plt\n",
    "import plotly.express as px\n",
    "import weightedstats as ws\n"
   ]
  },
  {
   "attachments": {},
   "cell_type": "markdown",
   "metadata": {},
   "source": [
    "## Functions and tools used in the analysis"
   ]
  },
  {
   "cell_type": "code",
   "execution_count": 2,
   "metadata": {},
   "outputs": [],
   "source": [
    "def weighted_mean(var, wts):\n",
    "    \"\"\"Calculates the weighted mean\"\"\"\n",
    "    return np.average(var, weights=wts)\n",
    "\n",
    "def weighted_median_series(val, weight):\n",
    "    \"\"\"Calculates the weighted median\n",
    "    ArithmeticError\n",
    "    If the sum of the weights is zero, or if the weights are not positive.\n",
    "    \"\"\"\n",
    "    try:\n",
    "        df = pd.DataFrame({\"val\": val, \"weight\": weight})\n",
    "        df_sorted = df.sort_values(\"val\")\n",
    "        cumsum = df_sorted[\"weight\"].cumsum()\n",
    "        cutoff = df_sorted[\"weight\"].sum() / 2.\n",
    "        result = df_sorted[cumsum >= cutoff][\"val\"].iloc[0]\n",
    "        # return just the value\n",
    "    except:\n",
    "        result = np.nan\n",
    "    return result\n",
    "\n",
    "def weighted_median(df, val_column, weight_column):\n",
    "    \"\"\"Calculates the weighted median\n",
    "    ArithmeticError\n",
    "    If the sum of the weights is zero, or if the weights are not positive.\n",
    "    \"\"\"\n",
    "    df_sorted = df.sort_values(val_column)\n",
    "    cumsum = df_sorted[weight_column].cumsum()\n",
    "    cutoff = df_sorted[weight_column].sum() / 2.\n",
    "    return df_sorted[cumsum >= cutoff][val_column].iloc[0]\n",
    "\n",
    "def run_weighted_median_on_grouped_df(df, groupby_column, value_column, weight_column):\n",
    "    \"\"\"Calculate the weighted median of a dataframe grouped by a column.\n",
    "    Args:\n",
    "        df (pandas.DataFrame): DataFrame to calculate weighted median on.\n",
    "        groupby_column (str): Column to group by.\n",
    "        value_column (str): Column to calculate weighted median on.\n",
    "        weight_column (str): Column to use as weight.\n",
    "    Returns:\n",
    "        pandas.DataFrame: DataFrame with weighted median for each group.\n",
    "    \"\"\"\n",
    "    # initialize empty list\n",
    "    d = []\n",
    "    # loop through each group\n",
    "    for i in df[groupby_column].unique():\n",
    "        df_group = df[df[groupby_column] == i]\n",
    "        # if rows in dataframe are more than 1, calculate weighted median\n",
    "        if len(df_group) > 1:\n",
    "            median = weighted_median(df_group, value_column, weight_column)\n",
    "        else:\n",
    "            median = df_group[value_column].values[0]\n",
    "        d.append(\n",
    "            {\n",
    "                groupby_column: i,\n",
    "                \"median\": median,\n",
    "            }\n",
    "        )\n",
    "    return pd.DataFrame(d)\n",
    "\n",
    "\n",
    "def load_data(data_file: str) -> pd.DataFrame:\n",
    "    '''\n",
    "    Load data from /data directory\n",
    "    '''\n",
    "    PATH = pathlib.Path().resolve()\n",
    "    DATA_PATH = PATH.joinpath(\"../data\").resolve()\n",
    "    return pd.read_csv(DATA_PATH.joinpath(data_file))\n",
    "\n"
   ]
  },
  {
   "attachments": {},
   "cell_type": "markdown",
   "metadata": {},
   "source": [
    "## Import Data from CSVs.\n",
    "CSVs created in previous script, which did the cycling mobility on a per country basis\n",
    "\n",
    "### GIS Data From QGIS Export\n",
    "https://ghsl.jrc.ec.europa.eu/download.php?ds=smod <- urbanisation\n",
    "\n",
    "https://www.earthenv.org/topography <- topography\n",
    "\n",
    "https://www.globio.info/download-grip-dataset <- roads\n"
   ]
  },
  {
   "cell_type": "code",
   "execution_count": 3,
   "metadata": {},
   "outputs": [],
   "source": [
    "\n",
    "# Load the data\n",
    "urb_data_file = \"../data/GIS/GIS_data_zones.csv\"\n",
    "country_data_file = \"../data/processed/country_data_master_interpolated.csv\"\n",
    "export_file_location = \"../data/processed/\"\n",
    "\n",
    "df_zones_input = pd.read_csv(urb_data_file)\n",
    "df_input = pd.read_csv(country_data_file)\n",
    "\n",
    "# Data manipulation\n",
    "# Convert dtw_1 from meters to kilometers\n",
    "df_zones_input[\"dtw_1\"] /= 1000 \n",
    "\n",
    "\n",
    "# Option to calculate the distance, 1 = runs numerical calculation - takes about 15 mins on my macbook pro, 0 = uses csvs from previous run\n",
    "# only set to 1 if you'd like to recalculate the distance based on new parameters (changed load, changed Crrs etc)\n",
    "calculate_distance = 0\n"
   ]
  },
  {
   "cell_type": "markdown",
   "metadata": {},
   "source": [
    "# Manage Urban / Rural Data\n",
    "Use the GHS_SMOD_E2020_GLOBE_R2023A_54009_1000_V1_0 dataset.\n",
    "from here: https://ghsl.jrc.ec.europa.eu/download.php?ds=smod"
   ]
  },
  {
   "cell_type": "code",
   "execution_count": 4,
   "metadata": {},
   "outputs": [
    {
     "data": {
      "text/plain": [
       "0    2220541\n",
       "1      42618\n",
       "Name: urban_rural, dtype: int64"
      ]
     },
     "execution_count": 4,
     "metadata": {},
     "output_type": "execute_result"
    }
   ],
   "source": [
    "\n",
    "# create new binary column for urban / rural. Rural is below 15, Urban above 15\n",
    "df_zones_input[\"urban_rural\"] = np.where(df_zones_input[\"URBAN_1\"] > 15, 1, 0)\n",
    "df_zones_input[\"urban_rural\"].value_counts()\n"
   ]
  },
  {
   "cell_type": "markdown",
   "metadata": {},
   "source": [
    "# Manage slope.\n",
    "\n",
    "Degrees from earthenv dataset"
   ]
  },
  {
   "cell_type": "code",
   "execution_count": 5,
   "metadata": {},
   "outputs": [
    {
     "data": {
      "text/plain": [
       "0.00     0.000000\n",
       "0.05     0.097832\n",
       "0.10     0.138355\n",
       "0.15     0.218758\n",
       "0.20     0.280146\n",
       "0.25     0.360782\n",
       "0.30     0.450444\n",
       "0.35     0.548193\n",
       "0.40     0.656249\n",
       "0.45     0.787484\n",
       "0.50     0.935736\n",
       "0.55     1.121305\n",
       "0.60     1.358873\n",
       "0.65     1.667845\n",
       "0.70     2.111629\n",
       "0.75     2.770306\n",
       "0.80     3.795188\n",
       "0.85     5.369263\n",
       "0.90     7.810654\n",
       "0.95    11.961503\n",
       "Name: slope_1, dtype: float64"
      ]
     },
     "execution_count": 5,
     "metadata": {},
     "output_type": "execute_result"
    },
    {
     "data": {
      "image/png": "[encoded data removed]",
      "text/plain": [
       "<Figure size 640x480 with 1 Axes>"
      ]
     },
     "metadata": {},
     "output_type": "display_data"
    }
   ],
   "source": [
    "# histogram of slope_1 log scale\n",
    "df_zones_input[\"slope_1\"].hist(bins=100, log=False)\n",
    "\n",
    "# qunaitles of slope_1, do 20 quantiles\n",
    "df_zones_input[\"slope_1\"].quantile(np.arange(0, 1, 0.05))\n"
   ]
  },
  {
   "cell_type": "code",
   "execution_count": null,
   "metadata": {},
   "outputs": [],
   "source": []
  },
  {
   "cell_type": "markdown",
   "metadata": {},
   "source": [
    "# Manage Roads\n",
    "\n"
   ]
  },
  {
   "attachments": {},
   "cell_type": "markdown",
   "metadata": {},
   "source": [
    "## Merge the dataframes\n",
    "Do some manual adjustments to populations"
   ]
  },
  {
   "cell_type": "code",
   "execution_count": 6,
   "metadata": {},
   "outputs": [],
   "source": [
    "\n",
    "# this analysis loses some data as the overlap between the rasters is not perfect. To reduce this error, use the 30 arc second data. Too much heavy lifting for my computer to do this at the moment.\n",
    "\n",
    "#merge df_input and df_zones on ISO_CC. This assigns all the country data to each zone.\n",
    "# join inner will remove some of the data that is not in both datasets\n",
    "df_zones = df_zones_input.merge(df_input, left_on=\"ISOCODE\", right_on=\"alpha3\", how=\"inner\")\n",
    "\n",
    "# these are the columns\n",
    "# alpha3,Unnamed: 0,Entity,Population,YearPBO,PBO,Terrain Ruggedness,Urban %,Urban Agg %,RoadQuality,Km,Urb %,Average household size (number of members),National At Least Basic,National Limit (more than 30 mins),National Unimproved,National Surface Water,Nat Accesible On Premises,Nat Piped,Nat NonPiped,No. HPs,Year of HP estimate,2015 (C),No. HPs in 2015,Non-functional HPs,Functional HPS,Risk Score,alpha2,region,subregion,borders,Mean BMI (male),Mean BMI (female),Mean male height (cm),Mean female height (cm),women weight,men weight,percent_insufficient_activity,Average Weight,power,Crr,trip_velocity_mean,unloaded_velocity_mean,loaded_velocity_mean,velocitykgs,water_ration_kms\n",
    "\n",
    "#adjust population to account for 9 values per raster point (2.5 to 5 arc min resoltuions. 9 values per point)\n",
    "df_zones[\"AdjPopFloat\"] = df_zones[\"pop_count_15_1\"] / 9 \n",
    "\n",
    "# # convert population density to percent of national population on a per country basis, grouped by ISO_CC\n",
    "df_zones[\"pop_density_perc\"] = df_zones.groupby(\"ISOCODE\")[\"AdjPopFloat\"].apply(lambda x: x / x.sum())\n",
    "\n",
    "# multiply population density by population on a per country basis\n",
    "df_zones[\"pop_zone\"] = df_zones[\"pop_density_perc\"] * df_zones[\"Population\"]\n",
    "\n"
   ]
  },
  {
   "cell_type": "code",
   "execution_count": 7,
   "metadata": {},
   "outputs": [],
   "source": [
    "# sum the population in each zone\n",
    "df_zones[\"country_pop_raw\"] = df_zones.groupby(\"ISOCODE\")[\"pop_zone\"].transform(\"sum\")\n",
    "df_zones[\"country_pop_ratio\"] = df_zones.groupby(\"ISOCODE\")[\"AdjPopFloat\"].transform(\"sum\")\n"
   ]
  },
  {
   "cell_type": "code",
   "execution_count": 8,
   "metadata": {},
   "outputs": [],
   "source": [
    "# trim the dataframe to only include rows where there is a population\n",
    "# find non zero values AdjPopFloat\n",
    "df_zones[\"any_pop\"] = df_zones[\"AdjPopFloat\"].apply(\n",
    "    lambda x: 1 if x > 10 else 0\n",
    ")\n",
    "df_zones = df_zones[df_zones[\"any_pop\"] == 1]\n"
   ]
  },
  {
   "cell_type": "markdown",
   "metadata": {},
   "source": [
    "## Do Road Analysis from GRIP Data"
   ]
  },
  {
   "cell_type": "code",
   "execution_count": 9,
   "metadata": {},
   "outputs": [
    {
     "data": {
      "text/plain": [
       "<AxesSubplot:>"
      ]
     },
     "execution_count": 9,
     "metadata": {},
     "output_type": "execute_result"
    },
    {
     "data": {
      "image/png": "[encoded data removed]",
      "text/plain": [
       "<Figure size 640x480 with 1 Axes>"
      ]
     },
     "metadata": {},
     "output_type": "display_data"
    }
   ],
   "source": [
    "# Define the columns to work with\n",
    "columns = [\"grip_1_1\", \"grip_2_1\", \"grip_3_1\", \"grip_4_1\", \"grip_5_1\"]\n",
    "\n",
    "# Create a numpy array from the DataFrame for faster processing\n",
    "data = df_zones[columns].to_numpy()\n",
    "\n",
    "# Find the index of the first non-zero value in each row\n",
    "non_zero_indices = np.argmax(data != 0, axis=1)\n",
    "\n",
    "# Handle rows with all zeros\n",
    "all_zeros = np.all(data == 0, axis=1)\n",
    "non_zero_indices[all_zeros] = -1  # Set a distinct value for rows with all zeros\n",
    "\n",
    "# Map indices to road types\n",
    "road_types = np.array(['No Roads', 'Highways', 'Primary Roads', 'Secondary Roads', 'Tertiary Roads', 'Local Roads'])\n",
    "\n",
    "# Assign the dominant road type\n",
    "df_zones['dominant_road_type'] = road_types[non_zero_indices + 1]  # +1 to adjust for 'No Roads'\n",
    "\n",
    "# Histogram of dominant road type\n",
    "df_zones['dominant_road_type'].value_counts().plot(kind='bar')\n"
   ]
  },
  {
   "cell_type": "code",
   "execution_count": 10,
   "metadata": {},
   "outputs": [],
   "source": [
    "# Load the CSV file\n",
    "df_crr = pd.read_csv(\"../data/lookup tables/Crr.csv\")\n",
    "\n",
    "# Create a dictionary from the DataFrame\n",
    "crr_mapping = pd.Series(df_crr.Crr.values, index=df_crr['Assigned Zone Surface']).to_dict()\n",
    "\n",
    "# Map the road types in df_zones to Crr values\n",
    "df_zones['Crr'] = df_zones['dominant_road_type'].map(crr_mapping)\n",
    "\n",
    "# Now df_zones will have an additional column 'Crr' containing the corresponding Crr values\n"
   ]
  },
  {
   "attachments": {},
   "cell_type": "markdown",
   "metadata": {},
   "source": [
    "## The section below calculates the population per zone that can reach water\n",
    "\n",
    "Consider putting in household size and bike sharing here"
   ]
  },
  {
   "cell_type": "code",
   "execution_count": 11,
   "metadata": {},
   "outputs": [],
   "source": [
    "load_attempt = 25 # kg\n",
    "\n",
    "calculate_distance = 0\n",
    "if calculate_distance:\n",
    "    # Calculate the bicycle distance\n",
    "    import sys\n",
    "    from pathlib import Path\n",
    "\n",
    "\n",
    "    # Resolve project root and update sys.path\n",
    "    project_root = Path().resolve().parent\n",
    "    sys.path.append(str(project_root))\n",
    "    \n",
    "    import src.mobility_module as mm\n",
    "\n",
    "    # Import data\n",
    "    file_path_params = \"../data/lookup tables/mobility-model-parameters.csv\"\n",
    "    allHPV_param_df = pd.read_csv(file_path_params)\n",
    "    param_df = allHPV_param_df[allHPV_param_df[\"Name\"] == \"Bicycle\"]\n",
    "\n",
    "    # Initialize model options and variables\n",
    "    mo = mm.model_options()\n",
    "    mo.model_selection = 2  # Cycling model\n",
    "\n",
    "    mv = mm.model_variables()\n",
    "    met = mm.MET_values(mv)\n",
    "    hpv = mm.HPV_variables(param_df, mv)\n",
    "\n",
    "    # Ensure that the 'Crr' column is in the correct format (e.g., float)\n",
    "    df_zones['Crr'] = df_zones['Crr'].astype(float)\n",
    "\n",
    "    # Extract slope and Crr values\n",
    "    slope_zones = df_zones[\"slope_1\"]\n",
    "    Crr_values = df_zones[\"Crr\"]\n",
    "\n",
    "    # Model run setup\n",
    "    n_runs = len(slope_zones)\n",
    "\n",
    "    # Initialize result vectors\n",
    "    results = np.zeros((n_runs, 3))\n",
    "\n",
    "    # Run model with both slope and Crr\n",
    "    for i, (slope, crr) in enumerate(zip(slope_zones, Crr_values)):\n",
    "        hpv.Crr = crr\n",
    "        results[i] = mm.mobility_models.single_bike_run(mv, mo, hpv, slope, load_attempt) \n",
    "    # Unpack results\n",
    "    loaded_velocity_vec, unloaded_velocity_vec, max_load_vec = results.T\n",
    "\n",
    "    # average velocity between loaded and unloaded\n",
    "    average_velocity = (loaded_velocity_vec + unloaded_velocity_vec) / 2\n",
    "\n",
    "    # save the results csv\n",
    "    df_zones[\"loaded_velocity_bicycle\"] = loaded_velocity_vec\n",
    "    df_zones[\"unloaded_velocity_bicycle\"] = unloaded_velocity_vec\n",
    "    df_zones[\"average_velocity_bicycle\"] = average_velocity\n",
    "    df_zones[\"max_load_bicycle\"] = max_load_vec\n",
    "\n",
    "    #only save the newly created cols in the csv\n",
    "    df_zones[[\"fid\", \"loaded_velocity_bicycle\", \"unloaded_velocity_bicycle\", \"average_velocity_bicycle\", \"max_load_bicycle\"]].to_csv(export_file_location + \"bicycle_velocity_by_zone.csv\")\n",
    "\n",
    "else:\n",
    "    # load the results csv\n",
    "    df_zones_bicycle = pd.read_csv(export_file_location + \"bicycle_velocity_by_zone.csv\")\n",
    "\n",
    "    # merge the results with the main df\n",
    "    df_zones = df_zones.merge(df_zones_bicycle, on=\"fid\", how=\"left\")\n",
    "\n"
   ]
  },
  {
   "cell_type": "code",
   "execution_count": 12,
   "metadata": {},
   "outputs": [],
   "source": [
    "load_attempt = 20 # kg\n",
    "\n",
    "if calculate_distance:\n",
    "    # Calculate the bicycle distance\n",
    "    import sys\n",
    "    from pathlib import Path\n",
    "\n",
    "\n",
    "    # Resolve project root and update sys.path\n",
    "    project_root = Path().resolve().parent\n",
    "    sys.path.append(str(project_root))\n",
    "    \n",
    "    import src.mobility_module as mm\n",
    "\n",
    "    # Import data\n",
    "    file_path_params = \"../data/lookup tables/mobility-model-parameters.csv\"\n",
    "    allHPV_param_df = pd.read_csv(file_path_params)\n",
    "    param_df = allHPV_param_df[allHPV_param_df[\"Name\"] == \"Buckets\"]\n",
    "\n",
    "    # Initialize model options and variables\n",
    "    mo = mm.model_options()\n",
    "    mo.model_selection = 3  # Lankford model\n",
    "\n",
    "    mv = mm.model_variables()\n",
    "    met = mm.MET_values(mv)\n",
    "    hpv = mm.HPV_variables(param_df, mv)\n",
    "\n",
    "    # Ensure that the 'Crr' column is in the correct format (e.g., float)\n",
    "    df_zones['Crr'] = df_zones['Crr'].astype(float)\n",
    "\n",
    "    # Extract slope and Crr values\n",
    "    slope_zones = df_zones[\"slope_1\"]\n",
    "    Crr_values = df_zones[\"Crr\"]\n",
    "\n",
    "    # Model run setup\n",
    "    n_runs = len(slope_zones)\n",
    "\n",
    "    # Initialize result vectors\n",
    "    results = np.zeros((n_runs, 3))\n",
    "\n",
    "    # Run model with both slope and Crr\n",
    "    for i, (slope) in enumerate(slope_zones):\n",
    "        results[i] = mm.mobility_models.single_lankford_run(mv, mo, met, hpv, slope, load_attempt)\n",
    "    # Unpack results\n",
    "    loaded_velocity_vec, unloaded_velocity_vec, max_load_vec = results.T\n",
    "\n",
    "    # average velocity between loaded and unloaded\n",
    "    average_velocity = (loaded_velocity_vec + unloaded_velocity_vec) / 2\n",
    "\n",
    "    # save the results csv\n",
    "    df_zones[\"loaded_velocity_walk\"] = loaded_velocity_vec\n",
    "    df_zones[\"unloaded_velocity_walk\"] = unloaded_velocity_vec\n",
    "    df_zones[\"average_velocity_walk\"] = average_velocity\n",
    "    df_zones[\"max_load_walk\"] = max_load_vec\n",
    "\n",
    "    #only save the newly created cols in the csv\n",
    "    df_zones[[\"fid\", \"loaded_velocity_walk\", \"unloaded_velocity_walk\", \"average_velocity_walk\", \"max_load_walk\"]].to_csv(export_file_location + \"walk_velocity_by_zone.csv\")\n",
    "\n",
    "else:\n",
    "    # load the results csv\n",
    "    df_zones_walking = pd.read_csv(export_file_location + \"walk_velocity_by_zone.csv\")\n",
    "\n",
    "    # merge the results with the main df\n",
    "    df_zones = df_zones.merge(df_zones_walking, on=\"fid\", how=\"left\")\n",
    "\n"
   ]
  },
  {
   "cell_type": "code",
   "execution_count": 37,
   "metadata": {},
   "outputs": [],
   "source": [
    "time_gathering_water = 16\n",
    "df_zones[\"max distance cycling\"] = df_zones[\"average_velocity_bicycle\"] * time_gathering_water / 2 # max distance achievable (not round trip, just the distance from home to water source)\n",
    "df_zones[\"max distance walking\"] = df_zones[\"average_velocity_walk\"] * time_gathering_water / 2\n",
    "df_zones[\"water_ration_kms\"] = df_zones[\"max distance cycling\"] * df_zones[\"max_load_bicycle\"]"
   ]
  },
  {
   "cell_type": "code",
   "execution_count": 38,
   "metadata": {},
   "outputs": [],
   "source": [
    "# # population with piped water\n",
    "\n",
    "# set df_zones[\"zone_pop_piped\"] to 0 for all zones to begin with\n",
    "df_zones[\"zone_pop_piped\"] = 0\n",
    "\n",
    "# if urban use urban piped and unpiped, if rural use rural piped and unpiped\n",
    "# use the urban_rural column to do this (where urban_rural = 1, use urban, where urban_rural = 0, use rural)\n",
    "df_zones[\"zone_pop_piped\"] = df_zones[\"pop_zone\"] * df_zones[\"urban_rural\"] * df_zones[\"URBANPiped\"]/100 + df_zones[\"pop_zone\"] * (1-df_zones[\"urban_rural\"]) * df_zones[\"RURALPiped\"]/100\n",
    "df_zones[\"zone_pop_unpiped\"] = df_zones[\"pop_zone\"] * df_zones[\"urban_rural\"] * df_zones[\"URBANNon-piped\"]/100 + df_zones[\"pop_zone\"] * (1-df_zones[\"urban_rural\"]) * df_zones[\"RURALNon-piped\"]/100\n",
    "\n",
    "# is it possible to reach water with walking/cycling\n",
    "df_zones[\"zone_cycling_okay\"] = (df_zones[\"dtw_1\"] < df_zones[\"max distance cycling\"])*1 # multiply by 1 to force to binary not true/false\n",
    "df_zones[\"zone_walking_okay\"] = (df_zones[\"dtw_1\"] < df_zones[\"max distance walking\"])*1\n",
    "\n",
    "# how many people can collect water in the zone\n",
    "df_zones[\"fraction_of_zone_with_cycling_access\"] = df_zones[\"zone_cycling_okay\"]* (df_zones[\"PBO\"])/100\n",
    "df_zones[\"fraction_of_zone_with_walking_access\"] = df_zones[\"zone_walking_okay\"] * 1\n",
    "\n",
    "#\n",
    "df_zones[\"population_piped_with_cycling_access\"] = df_zones[\"fraction_of_zone_with_cycling_access\"] * df_zones[\"zone_pop_piped\"]\n",
    "df_zones[\"population_piped_with_walking_access\"] = df_zones[\"fraction_of_zone_with_walking_access\"] * df_zones[\"zone_pop_piped\"]\n",
    "\n",
    "# select the maximum between the two, if walkable, max will always be walking\n",
    "df_zones[\"population_piped_with_access\"] = df_zones[[\"population_piped_with_cycling_access\", \"population_piped_with_walking_access\"]].max(axis=1)\n",
    "\n",
    "# zone pop without water\n",
    "df_zones[\"zone_pop_with_water\"] =  df_zones[\"population_piped_with_access\"] + df_zones[\"zone_pop_unpiped\"]\n",
    "df_zones[\"zone_pop_without_water\"] = df_zones[\"pop_zone\"] - df_zones[\"zone_pop_with_water\"]\n",
    "\n",
    "# use water_ration_kms to calculate the water ration achievable per bike per zone\n",
    "df_zones[\"water_rations_per_bike\"] = df_zones[\"water_ration_kms\"] / df_zones[\"dtw_1\"]\n",
    "\n",
    "# number oif bikes per zone is population divided by household nuymber multipled by PBO\n",
    "df_zones[\"bikes_in_zone\"] = df_zones[\"pop_zone\"] / df_zones[\"Average household size (number of members)\"] * df_zones[\"PBO\"]\n",
    "\n",
    "#water rations achievable utilising all the bikes in the zone is the number of bikes in the zone multiplied by the water rations per bike\n",
    "df_zones[\"water_rations_achievable\"] = df_zones[\"bikes_in_zone\"] * df_zones[\"water_rations_per_bike\"]\n",
    "\n"
   ]
  },
  {
   "attachments": {},
   "cell_type": "markdown",
   "metadata": {},
   "source": [
    "## Group the zones in to country groups\n",
    "Use groupby agg and then apply to summarise the zone data in to country level, then create some summary columns"
   ]
  },
  {
   "cell_type": "code",
   "execution_count": 39,
   "metadata": {},
   "outputs": [],
   "source": [
    "# use groupby to create dataframe of country level data from df_zones\n",
    "df_countries = df_zones.groupby(\"ISOCODE\").agg({\n",
    "    \"Entity\":\"first\",\n",
    "    \"country_pop_raw\": \"first\",\n",
    "    \"zone_pop_with_water\":\"sum\",\n",
    "    \"zone_pop_without_water\":\"sum\",\n",
    "    \"population_piped_with_access\":\"sum\"  ,\n",
    "    \"population_piped_with_cycling_access\":\"sum\",\n",
    "    \"population_piped_with_walking_access\":\"sum\",\n",
    "    \"Nat Piped\":\"first\",\n",
    "    \"region\":\"first\",\n",
    "    \"subregion\":\"first\",\n",
    "    # call the weighted median function on the column\n",
    "}).reset_index()\n",
    "\n",
    "# use groupby to create weighted median, needs to be speerate from the above groupby as it uses apply, which can't be used in the same groupby\n",
    "# needs to use apply because the function required two columns as input\n",
    "df_median_group = df_zones.groupby(['ISOCODE']).apply(lambda x : pd.Series({'weighted_med':weighted_median(x,\"dtw_1\",\"pop_zone\")}))\n",
    "\n",
    "# merge the weighted median back into the df_countries dataframe\n",
    "df_countries = df_countries.merge(df_median_group, on=\"ISOCODE\")\n",
    "\n",
    "# drop rows from the dataframe that have Nan in pop_zone and dtw_1\n",
    "df_zones = df_zones.dropna(subset=[\"pop_zone\", \"dtw_1\"])\n",
    "\n",
    "# create summary columns\n",
    "#rename zone columns to country\n",
    "df_countries = df_countries.rename(columns={\"zone_pop_with_water\":\"country_pop_with_water\", \"zone_pop_without_water\":\"country_pop_without_water\"})\n",
    "# create percent\n",
    "df_countries[\"percent_with_water\"] = df_countries[\"country_pop_with_water\"] / df_countries[\"country_pop_raw\"] * 100\n",
    "df_countries[\"percent_without_water\"] = df_countries[\"country_pop_without_water\"] / df_countries[\"country_pop_raw\"] * 100"
   ]
  },
  {
   "attachments": {},
   "cell_type": "markdown",
   "metadata": {},
   "source": [
    "Clean Up Data"
   ]
  },
  {
   "cell_type": "code",
   "execution_count": 40,
   "metadata": {},
   "outputs": [
    {
     "name": "stdout",
     "output_type": "stream",
     "text": [
      "Countries removed from analysis\n",
      "                   Entity  weighted_med\n",
      "20                Bahrain    224.341297\n",
      "40           Cook Islands   1421.425000\n",
      "42                Comoros    284.675313\n",
      "43             Cape Verde    614.303688\n",
      "47         Cayman Islands    285.378688\n",
      "68   Micronesia (country)   1295.334000\n",
      "106              Kiribati   1690.499000\n",
      "125              Maldives    429.400812\n",
      "127      Marshall Islands   2344.069000\n",
      "142               Mayotte    280.855813\n",
      "148                  Niue    424.872906\n",
      "166      French Polynesia   1921.546000\n",
      "176          Saint Helena   1710.222000\n",
      "190            Seychelles    414.849406\n",
      "216     Wallis and Futuna    325.000000\n",
      "Countries removed manually\n",
      "                       Entity  weighted_med\n",
      "0                       Aruba     87.800906\n",
      "8              American Samoa    109.110000\n",
      "9         Antigua and Barbuda     56.080301\n",
      "27                   Barbados    144.138797\n",
      "52                   Dominica     69.260383\n",
      "83                       Guam     14.212670\n",
      "134  Northern Mariana Islands    193.752406\n",
      "199                     Tonga    119.100797\n"
     ]
    }
   ],
   "source": [
    "# Clean up data from spurious country values\n",
    "# uses libya as the max possible diatnce to water (from Kummu paper results)\n",
    "\n",
    "# remove any nan rows\n",
    "df_countries = df_countries.dropna()\n",
    "\n",
    "\n",
    "# first pass clean up\n",
    "\n",
    "# remove any rows where the median is more than 1km more than \"LBY\" (Libya)'s median these are clerly errors as no-country can be further than Libya (based on inspection of Kummu Results)\n",
    "max_distance = df_countries.loc[df_countries[\"ISOCODE\"] == \"LBY\", \"weighted_med\"].values[0] + 1\n",
    "countries_further_than_libya = df_countries[df_countries[\"weighted_med\"] > max_distance]\n",
    "df_countries = df_countries[df_countries[\"weighted_med\"] < max_distance]\n",
    "\n",
    "####### Manual remove countries ###############\n",
    "# inspecting the results, there are a few countries that are clearly wrong, remove them manually\n",
    "list_of_countries_to_remove = [\"GUM\", \"ASM\", \"TON\", \"MNP\", \"ATG\", \"DMA\", \"ABW\", \"BRB\"]\n",
    "df_of_countries_to_remove = df_countries[df_countries[\"ISOCODE\"].isin(list_of_countries_to_remove)]\n",
    "df_countries = df_countries[~df_countries[\"ISOCODE\"].isin(list_of_countries_to_remove)]\n",
    "##############################\n",
    "\n",
    "\n",
    "# summary of removed countries\n",
    "print(\"Countries removed from analysis\")\n",
    "print(countries_further_than_libya[[\"Entity\", \"weighted_med\"]])\n",
    "print(\"Countries removed manually\")\n",
    "print(df_of_countries_to_remove[[\"Entity\", \"weighted_med\"]])\n",
    "\n",
    "\n",
    "\n",
    "\n"
   ]
  },
  {
   "attachments": {},
   "cell_type": "markdown",
   "metadata": {},
   "source": [
    "# Plotting and Visualising"
   ]
  },
  {
   "cell_type": "code",
   "execution_count": 48,
   "metadata": {},
   "outputs": [
    {
     "data": {
      "application/vnd.plotly.v1+json": {
       "config": {
        "plotlyServerURL": "https://plotly.com"
       },
       "data": [
        {
         "coloraxis": "coloraxis",
         "customdata": [
          [
           "British Virgin Islands",
           30423.000000000015,
           98.33840252580055,
           10.408646080929813,
           70.53022866779375,
           16.23840964694836,
           70.53022866779375,
           0.03421308247355556,
           0.3232370329218042,
           96,
           "Americas",
           "Caribbean",
           0
          ],
          [
           "Saint Martin (French part)",
           39238.99999999999,
           19387.588683870366,
           0,
           19387.588683870366,
           4463.669167983081,
           19387.588683870366,
           0,
           49.408977506741685,
           100,
           "Americas",
           "Caribbean",
           1
          ],
          [
           "Panama",
           4381583,
           3507489.735811559,
           404648.4917726854,
           3223933.5671864524,
           1268611.056550432,
           3220749.6465315153,
           9.235212291372443,
           80.05074275236962,
           93,
           "Americas",
           "Central America",
           1.41421398925781
          ],
          [
           "Mauritius",
           1273428,
           1067716.6246203424,
           29819.292961891602,
           1067716.6246203424,
           535975.2647369411,
           1014966.1536124828,
           2.341655198557877,
           83.84585737241072,
           100,
           "Africa",
           "Eastern Africa",
           2
          ],
          [
           "Congo",
           5657017,
           3040873.777364963,
           2568674.8137489795,
           1013420.5723529806,
           54717.19937725314,
           1012784.3014399782,
           45.406878108179264,
           53.75401518795088,
           53,
           "Africa",
           "Middle Africa",
           2
          ],
          [
           "Suriname",
           591798,
           536175.889810899,
           29901.571124271326,
           360368.9406199444,
           128660.29246040818,
           358108.7562816317,
           5.05266511956298,
           90.60116624437714,
           80,
           "Americas",
           "South America",
           2.23606811523438
          ],
          [
           "Eswatini",
           1172369.0000000002,
           928438.8726143021,
           243930.1273856981,
           627222.7764299661,
           47683.94492348985,
           627222.7764299661,
           20.806599917406384,
           79.19340008259361,
           61,
           "Africa",
           "Southern Africa",
           2.23606811523438
          ],
          [
           "Fiji",
           902899.0000000001,
           549007.064918656,
           40424.42168236487,
           471416.44945378054,
           47344.33274576664,
           471146.5278956544,
           4.4771809119696515,
           60.804925569599256,
           83,
           "Oceania",
           "Melanesia",
           2.23606811523438
          ],
          [
           "Sweden",
           10160159,
           8958331.32299393,
           240885.01343512526,
           7157489.717393078,
           3177919.3721590876,
           7060750.880732435,
           2.3708783832529123,
           88.17117254753524,
           88,
           "Europe",
           "Northern Europe",
           2.23606811523438
          ],
          [
           "Greenland",
           56867.99999999999,
           23753.738418321,
           4289.071853697791,
           23333.096264240718,
           10386.58836727363,
           23333.096264240718,
           7.542153502317281,
           41.76995571907049,
           100,
           "Americas",
           "Northern America",
           2.23606811523438
          ],
          [
           "Guyana",
           790329,
           708504.6121902462,
           32476.25359440079,
           482802.43264838564,
           225077.11866047105,
           479488.37320422346,
           4.10920687389692,
           89.64679420725372,
           65,
           "Americas",
           "South America",
           2.23606811523438
          ],
          [
           "Solomon Islands",
           703995,
           329482.811532291,
           175362.41772718588,
           188996.76991732972,
           24494.337509047728,
           188996.76991732972,
           24.909611251100632,
           46.801868128650206,
           46,
           "Oceania",
           "Melanesia",
           2.23606811523438
          ],
          [
           "Japan",
           126050795.99999999,
           107037512.31530668,
           9083776.180347528,
           76294333.9400987,
           13580969.326300664,
           76086107.02001636,
           7.206440949684705,
           84.9161732507478,
           98,
           "Asia",
           "Eastern Asia",
           2.23606811523438
          ],
          [
           "Papua New Guinea",
           9119005,
           4260691.161205715,
           4489593.04862039,
           1034661.0378310754,
           329698.1333345137,
           1034110.3801667279,
           49.23336535751861,
           46.7232023801469,
           18,
           "Oceania",
           "Melanesia",
           2.23606811523438
          ],
          [
           "Philippines",
           111046909.99999999,
           96083859.71015887,
           4874622.126740597,
           64134013.80206761,
           10459704.679319192,
           63888436.515040845,
           4.389696324499797,
           86.52546902039767,
           66,
           "Asia",
           "South-Eastern Asia",
           2.23606811523438
          ],
          [
           "Lesotho",
           2159067,
           1725245.8694274789,
           433821.1305725211,
           1412905.19556129,
           20986.15805859282,
           1412905.19556129,
           20.09299065626593,
           79.90700934373407,
           69,
           "Africa",
           "Southern Africa",
           2.23606811523438
          ],
          [
           "New Zealand",
           4860642,
           3917815.729730169,
           236895.59675838047,
           3917815.729730169,
           1842285.5238021647,
           3872756.911646048,
           4.8737511785147,
           80.60284484498486,
           100,
           "Oceania",
           "Australia and New Zealand",
           2.23606811523438
          ],
          [
           "Norway",
           5465629,
           4652642.251497102,
           118027.3161819428,
           4652642.251497102,
           1805049.2936190984,
           4577413.114905111,
           2.1594461713728244,
           85.12546774574531,
           100,
           "Europe",
           "Northern Europe",
           2.23606811523438
          ],
          [
           "Malta",
           442790,
           262146.62556381425,
           0,
           262146.62556381425,
           3491.5653394089613,
           262146.62556381425,
           0,
           59.20337531647378,
           100,
           "Europe",
           "Southern Europe",
           2.23606811523438
          ],
          [
           "Netherlands",
           17173094,
           16005968.40713634,
           442430.83762520965,
           16005968.40713634,
           3513427.548565921,
           15834062.24915397,
           2.576302427653454,
           93.20375470568285,
           91,
           "Europe",
           "Western Europe",
           2.23606811523438
          ],
          [
           "Puerto Rico",
           2828246,
           2442983.802868391,
           186401.98126364287,
           1848241.461943322,
           106307.10442819106,
           1848241.461943322,
           6.590727301077871,
           86.37805208133913,
           100,
           "Americas",
           "Caribbean",
           2.23606811523438
          ],
          [
           "Brunei",
           441532.0000000001,
           399220.7296981794,
           30318.57096914951,
           375709.224954557,
           143649.0201053382,
           375709.224954557,
           6.86667579454026,
           90.41716788322914,
           100,
           "Asia",
           "South-Eastern Asia",
           2.23606811523438
          ],
          [
           "New Caledonia",
           288217,
           169393.67556819817,
           56554.92814478976,
           98423.9486651141,
           8891.29002004918,
           98334.1872646195,
           19.622342937713512,
           58.77296466488728,
           99,
           "Oceania",
           "Melanesia",
           2.23606811523438
          ],
          [
           "Albania",
           2872934,
           2707825.13101304,
           107014.46102000127,
           2140071.86875565,
           364904.8090923837,
           2140071.86875565,
           3.724918881533696,
           94.25295293985313,
           81,
           "Europe",
           "Southern Europe",
           2.23606811523438
          ],
          [
           "Azerbaijan",
           10223343.999999998,
           9727415.702746509,
           495917.6300006062,
           8801558.701070711,
           488842.6613169688,
           8795359.741825847,
           4.850835793069335,
           95.14905986482026,
           91,
           "Asia",
           "Western Asia",
           2.23606811523438
          ],
          [
           "Australia",
           25788216.999999996,
           21947269.704099935,
           1543698.9660725184,
           20189695.148082364,
           5826129.963120679,
           19855259.873221368,
           5.986063193405418,
           85.10580512060969,
           91,
           "Oceania",
           "Australia and New Zealand",
           2.23606811523438
          ],
          [
           "Belize",
           404915,
           372046.10519571975,
           8642.487367754926,
           295908.3866830248,
           203774.29922600018,
           290435.77085556893,
           2.1343954577516087,
           91.88251983643968,
           87,
           "Americas",
           "Central America",
           2.23606811523438
          ],
          [
           "Vietnam",
           98168829.00000001,
           92454875.7235206,
           2450672.6473591616,
           54666450.842115745,
           28026822.77318062,
           54436695.5344229,
           2.496385739060982,
           94.17946273304389,
           48,
           "Asia",
           "South-Eastern Asia",
           2.23606811523438
          ],
          [
           "Estonia",
           1325188.0000000002,
           1189698.7896667009,
           76105.43871566777,
           1189698.7896667009,
           193652.51088505765,
           1180699.389798011,
           5.742991840830716,
           89.77584989199273,
           93,
           "Europe",
           "Northern Europe",
           2.82842700195312
          ],
          [
           "France",
           65426177,
           63063536.88885562,
           1108947.5715649307,
           63063536.88885562,
           15325943.406520676,
           62553306.73787317,
           1.6949600640198352,
           96.38884584201767,
           93,
           "Europe",
           "Western Europe",
           2.82842700195312
          ],
          [
           "Georgia",
           3979773,
           3699184.5449323,
           263459.3952923009,
           2666492.0849312996,
           164913.94296443003,
           2666286.592435425,
           6.6199603668928075,
           92.94963669868356,
           82,
           "Asia",
           "Western Asia",
           2.82842700195312
          ],
          [
           "Slovakia",
           5460726,
           5292600.807821615,
           168125.19217838466,
           5279071.9280915065,
           1919375.9534442753,
           5255475.777283489,
           3.0788065941851808,
           96.9211934058148,
           98,
           "Europe",
           "Eastern Europe",
           2.82842700195312
          ],
          [
           "Finland",
           5548361,
           4961058.805599748,
           156844.94778641974,
           4961058.805599748,
           2360581.906964919,
           4889482.154096118,
           2.8268699132305874,
           89.41485252310994,
           100,
           "Europe",
           "Northern Europe",
           2.82842700195312
          ],
          [
           "Isle of Man",
           85410,
           51485.76647101841,
           2856.4617625382457,
           49312.077341676144,
           1329.6197823258274,
           49312.077341676144,
           3.344411383372258,
           60.280724120148,
           98,
           "Europe",
           "Northern Europe",
           2.82842700195312
          ],
          [
           "Austria",
           9043071.999999998,
           8985275.052309869,
           57796.947690130335,
           8977203.147550538,
           2868508.009057299,
           8923003.968419245,
           0.6391295755483352,
           99.36087042445168,
           99.4285714285714,
           "Europe",
           "Western Europe",
           2.82842700195312
          ],
          [
           "Lithuania",
           2689862,
           2497415.6723099193,
           177319.2111826531,
           2326502.0251456313,
           523242.35857374425,
           2310488.2137341653,
           6.592130420915761,
           92.84549439004377,
           96,
           "Europe",
           "Northern Europe",
           2.82842700195312
          ],
          [
           "Thailand",
           69950844,
           65539643.84674083,
           2931533.787799472,
           54038677.42876157,
           23750428.064501904,
           52239237.431027256,
           4.190848344588197,
           93.6938571416534,
           81,
           "Asia",
           "South-Eastern Asia",
           2.82842700195312
          ],
          [
           "Armenia",
           2968128,
           2897297.490784339,
           70830.50921566114,
           2897297.490784339,
           95584.75144548203,
           2897139.312932453,
           2.3863697662520327,
           97.61363023374797,
           100,
           "Asia",
           "Western Asia",
           2.82842700195312
          ],
          [
           "United Kingdom",
           68207114,
           63517778.358863205,
           1638286.7711180183,
           63517778.358863205,
           4832115.921805865,
           63352052.30997196,
           2.401929468996472,
           93.1248584405187,
           100,
           "Europe",
           "Northern Europe",
           2.82842700195312
          ],
          [
           "Moldova",
           4024025.0000000005,
           3588730.4204482394,
           435294.5795517608,
           2606372.522757818,
           665183.3474578415,
           2601047.6854472887,
           10.817392524941091,
           89.1826074750589,
           72,
           "Europe",
           "Eastern Europe",
           2.82842700195312
          ],
          [
           "El Salvador",
           6518500,
           5960910.831363656,
           483092.432447258,
           5272900.783651791,
           387825.40818951733,
           5272900.783651791,
           7.411098142935614,
           91.44605095288266,
           91,
           "Americas",
           "Central America",
           2.82842700195312
          ],
          [
           "Malawi",
           19647681,
           18281712.030010145,
           1365891.7953684991,
           5785235.660110163,
           2380627.6702714767,
           5767745.280673488,
           6.951923717452961,
           93.04768349002687,
           22,
           "Africa",
           "Eastern Africa",
           2.82842700195312
          ],
          [
           "Hungary",
           9634162,
           9079398.45450457,
           554763.5454954308,
           9079398.45450457,
           2152224.2627411233,
           8911729.33218567,
           5.758295796722443,
           94.24170420327756,
           100,
           "Europe",
           "Eastern Europe",
           2.82842700195312
          ],
          [
           "Canada",
           38067913.00000001,
           33808129.49505174,
           2865163.9144585934,
           33808129.49505174,
           11919351.680122554,
           33197080.791765958,
           7.52645387851599,
           88.81004192442002,
           100,
           "Americas",
           "Northern America",
           2.82842700195312
          ],
          [
           "Switzerland",
           8715494,
           8643614.318428796,
           71879.68157120491,
           8643614.318428796,
           1535155.695083062,
           8643614.318428796,
           0.8247344507517866,
           99.17526554924822,
           100,
           "Europe",
           "Western Europe",
           2.82842700195312
          ],
          [
           "Nepal",
           29674920.000000004,
           27950148.35847905,
           1724753.930690433,
           14933362.833202653,
           4516747.771326782,
           14876442.45356786,
           5.812160338394957,
           94.18777997878021,
           50,
           "Asia",
           "Southern Asia",
           2.82842700195312
          ],
          [
           "Kyrgyzstan",
           6628347,
           5877402.323470443,
           750926.0895123119,
           5877402.323470443,
           946730.2676866822,
           5875531.304526931,
           11.329009925284717,
           88.67070965763322,
           94,
           "Asia",
           "Central Asia",
           2.82842700195312
          ],
          [
           "Slovenia",
           2078723,
           1928770.3049349578,
           149952.69506504232,
           1883312.5864326346,
           625078.8713055829,
           1879274.7990565454,
           7.213692977132707,
           92.7863070228673,
           97.9821428571429,
           "Europe",
           "Southern Europe",
           2.82842700195312
          ],
          [
           "Myanmar",
           54806013.99999999,
           42432271.115239024,
           11286053.067338672,
           12782229.583923101,
           5969442.139064674,
           12645112.507082274,
           20.592727410058817,
           77.42265495760927,
           33,
           "Asia",
           "South-Eastern Asia",
           2.82842700195312
          ],
          [
           "French Guiana",
           306450,
           277758.05016748415,
           13693.36139940124,
           218616.28100204017,
           87452.65291043259,
           217562.19219009345,
           4.468383553402265,
           90.63731446157094,
           88,
           "Americas",
           "South America",
           2.82842700195312
          ],
          [
           "Bangladesh",
           166303494,
           157537628.6118464,
           1230233.2976504464,
           41644969.628901914,
           6746008.901251904,
           41495459.05963585,
           0.7397519246651826,
           94.72899505758213,
           15,
           "Asia",
           "Southern Asia",
           2.82842700195312
          ],
          [
           "Poland",
           37797000,
           30944292.496155336,
           6785509.534592722,
           30944292.496155336,
           17694454.755888868,
           30111500.579133257,
           17.952508227088714,
           81.86970525744196,
           89,
           "Europe",
           "Eastern Europe",
           3
          ],
          [
           "Italy",
           60367471,
           54696285.23026465,
           2784259.6422966253,
           54663695.71621174,
           13951996.7258645,
           54193461.69685843,
           4.612185331230167,
           90.60556012072239,
           98,
           "Europe",
           "Southern Europe",
           3
          ],
          [
           "Guinea-Bissau",
           2015489.9999999998,
           1114607.124880641,
           628585.0458451918,
           562293.0632908255,
           200200.7058828895,
           555768.0805549275,
           31.187703528431886,
           55.3020419292897,
           35,
           "Africa",
           "Western Africa",
           3
          ],
          [
           "Laos",
           7379358,
           6213794.709799958,
           1165563.2902000418,
           1189293.0208855656,
           433982.21622278093,
           1180692.5374117931,
           15.794914546767371,
           84.20508545323263,
           31,
           "Asia",
           "South-Eastern Asia",
           3
          ],
          [
           "Equatorial Guinea",
           1449891,
           902295.6784904588,
           441114.78890495695,
           305866.9895386296,
           19706.928786763605,
           305554.57452473673,
           30.423996624915734,
           62.23196629887755,
           41,
           "Africa",
           "Middle Africa",
           3
          ],
          [
           "Romania",
           19127772.000000004,
           18455790.042082038,
           654472.0797564759,
           6961925.413705908,
           1411554.9817539204,
           6839780.5562536195,
           3.4215803061458265,
           96.48687804351722,
           64,
           "Europe",
           "Eastern Europe",
           3
          ],
          [
           "Sierra Leone",
           8141343,
           4750416.1354677705,
           3101281.1468134304,
           1070295.4587445282,
           99436.86394380148,
           1066373.0607727645,
           38.09299211215435,
           58.34929366650896,
           21,
           "Africa",
           "Western Africa",
           3
          ],
          [
           "Uganda",
           47123533,
           39725101.08754411,
           7398405.064644769,
           12491009.179905927,
           3745259.1865047505,
           12454636.683632545,
           15.700022034945405,
           84.29992099179854,
           23,
           "Africa",
           "Eastern Africa",
           3
          ],
          [
           "Ireland",
           4982904,
           4343929.157662515,
           223090.72102727988,
           4343929.157662515,
           926514.5311774114,
           4329562.266558203,
           4.477122598133135,
           87.17665758085073,
           97,
           "Europe",
           "Northern Europe",
           3
          ],
          [
           "Zambia",
           18920657,
           11571765.156489283,
           7348891.84351072,
           1859532.12593655,
           746057.5875422122,
           1797175.7874882577,
           38.84057431785122,
           61.15942568214879,
           32,
           "Africa",
           "Eastern Africa",
           3
          ],
          [
           "Belarus",
           9442867,
           9146126.16401541,
           296740.8359845893,
           8457833.853022909,
           2384528.2576993634,
           8381549.409577587,
           3.1424866619914193,
           96.85751333800859,
           96,
           "Europe",
           "Eastern Europe",
           3
          ],
          [
           "Pakistan",
           225199928.99999997,
           209303438.8445677,
           15560284.46699633,
           53351575.14778266,
           17305730.698018245,
           52752723.59419261,
           6.909542350253731,
           92.94116555630339,
           26,
           "Asia",
           "Southern Asia",
           3
          ],
          [
           "Latvia",
           1866934,
           1795094.654406192,
           68956.61989344515,
           1611004.9652717283,
           150394.06773607468,
           1605484.9142778749,
           3.693575664348346,
           96.15201471536712,
           94,
           "Europe",
           "Northern Europe",
           3
          ],
          [
           "Denmark",
           5813302.000000001,
           4602115.48697759,
           244020.4348824524,
           4602115.48697759,
           2095187.1623177829,
           4501064.6466847425,
           4.197621848692058,
           79.16525731808858,
           100,
           "Europe",
           "Northern Europe",
           3
          ],
          [
           "North Macedonia",
           2082661,
           2002558.1478333496,
           80102.85216665042,
           1664406.0306578025,
           374057.0195959794,
           1662213.2478819655,
           3.8461781426094035,
           96.1538218573906,
           92,
           "Europe",
           "Southern Europe",
           3
          ],
          [
           "Vanuatu",
           314464,
           204820.1789340749,
           24521.242465927673,
           94093.42625751194,
           8169.6428123903415,
           94093.42625751194,
           7.797790038264371,
           65.13310869736279,
           48,
           "Oceania",
           "Melanesia",
           3
          ],
          [
           "Tanzania",
           61498438,
           40511131.69772333,
           19919518.751747683,
           18533595.213888306,
           6396542.790660364,
           18372015.6899352,
           32.39028404550321,
           65.87343193614662,
           38,
           "Africa",
           "Eastern Africa",
           3
          ],
          [
           "Faeroe Islands",
           49053.00000000001,
           29964.97603506916,
           2458.5026693080995,
           28668.036886894075,
           13037.977641223399,
           28330.330734580566,
           5.011931317774854,
           61.0869386889062,
           100,
           "Europe",
           "Northern Europe",
           3
          ],
          [
           "Central African Republic",
           4919987,
           2425225.6329302173,
           2492965.668041272,
           97887.42682450385,
           18482.346660762447,
           97887.42682450385,
           50.67016778786757,
           49.29333416796055,
           14,
           "Africa",
           "Middle Africa",
           3
          ],
          [
           "Democratic Republic of Congo",
           92377986,
           33722034.07923829,
           58651793.396908894,
           11708845.978384119,
           2172851.714137563,
           11694830.109413039,
           63.49109342664051,
           36.50440493391823,
           35,
           "Africa",
           "Middle Africa",
           3
          ],
          [
           "Mozambique",
           32163044.999999996,
           18664721.90521167,
           11892750.812577788,
           6630838.526576099,
           2535428.8307924713,
           6347815.0921099745,
           36.97644552180239,
           58.031576006599096,
           41,
           "Africa",
           "Eastern Africa",
           3
          ],
          [
           "Taiwan",
           23855008,
           21109782.482808575,
           1233920.8944837959,
           15232234.50840436,
           2075593.4093925578,
           15222515.3091895,
           5.172586378859298,
           88.49203690398501,
           86.1428571428571,
           "Asia",
           "Eastern Asia",
           3
          ],
          [
           "China",
           1444216102,
           1296155181.43737,
           117740182.97033922,
           1050297582.8322839,
           295076509.07459044,
           1036478641.5989586,
           8.152532215039605,
           89.74800790840165,
           80,
           "Asia",
           "Eastern Asia",
           3
          ],
          [
           "Palau",
           18173.999999999996,
           7011.065353410439,
           342.1440133758143,
           1863.8187966600613,
           720.3452558113732,
           1863.8187966600613,
           1.8826015922516475,
           38.57744774628832,
           86,
           "Oceania",
           "Micronesia",
           3.16227807617188
          ],
          [
           "Russia",
           145912021.99999997,
           128170694.9022297,
           16289604.764592517,
           118187329.4895055,
           23986638.354292367,
           117156273.9624898,
           11.16399083592476,
           87.84107926503117,
           94,
           "Europe",
           "Eastern Europe",
           3.16227807617188
          ],
          [
           "Cambodia",
           16946445.999999996,
           14579627.217020992,
           2280200.2922312757,
           4901341.938455321,
           2773650.5071003744,
           4706539.583962502,
           13.455330352047126,
           86.03353893212179,
           32,
           "Asia",
           "South-Eastern Asia",
           3.16227807617188
          ],
          [
           "Belgium",
           11632334,
           11138873.589861032,
           493460.4101389686,
           11138873.589861032,
           2419602.6935591116,
           10994124.812884003,
           4.242144440994976,
           95.75785555900502,
           100,
           "Europe",
           "Western Europe",
           3.16227807617188
          ],
          [
           "Burundi",
           12255429.000000002,
           10378805.100134123,
           1876623.8998658783,
           6886304.91957381,
           1090755.7428971042,
           6884757.610520595,
           15.312592483428187,
           84.68740751657181,
           38,
           "Africa",
           "Eastern Africa",
           3.16227807617188
          ],
          [
           "South Africa",
           60041995.99999999,
           51871408.40437637,
           6859584.21310495,
           43882528.673091546,
           3602398.1675413316,
           43681899.48658612,
           11.424643866111566,
           86.39187878493642,
           91,
           "Africa",
           "Southern Africa",
           3.16227807617188
          ],
          [
           "Ukraine",
           43466821.99999999,
           41966244.38418804,
           956617.5363294078,
           14730828.058892945,
           4353483.647283732,
           14489901.136831228,
           2.200799350662001,
           96.54776322084933,
           64,
           "Europe",
           "Eastern Europe",
           3.16227807617188
          ],
          [
           "Honduras",
           10062994,
           8788009.676206706,
           1135868.3017782297,
           8209512.781519746,
           1732738.5998924414,
           8202362.7245124495,
           11.287578048622802,
           87.32997034686403,
           92,
           "Americas",
           "Central America",
           3.16227807617188
          ],
          [
           "Guatemala",
           18249868,
           15911039.325256057,
           2276280.4981757924,
           11778894.300444731,
           1826012.1451783597,
           11759851.45928175,
           12.47286006767716,
           87.184407718763,
           77,
           "Americas",
           "Central America",
           3.16227807617188
          ],
          [
           "Germany",
           83900471.00000001,
           79733906.0900018,
           3723276.0196507536,
           79733906.0900018,
           26413605.038948335,
           78194956.99872515,
           4.437729580386686,
           95.03391952352901,
           100,
           "Europe",
           "Western Europe",
           3.16227807617188
          ],
          [
           "Czechia",
           10724553,
           10267493.628943134,
           457059.371056867,
           10267493.628943134,
           2843475.626652527,
           10190274.992468573,
           4.261803462175692,
           95.73819653782432,
           100,
           "Europe",
           "Eastern Europe",
           3.16227807617188
          ],
          [
           "Bosnia and Herzegovina",
           3263459,
           3011739.3946920666,
           251719.60530793315,
           2794349.3500136216,
           815055.634905589,
           2786265.63725718,
           7.71327616825991,
           92.28672383174008,
           95,
           "Europe",
           "Southern Europe",
           3.16227807617188
          ],
          [
           "Guinea",
           13497237,
           9861831.595976217,
           3144394.933976164,
           1281040.4086705577,
           287253.6689614799,
           1276137.5796882012,
           23.29658235960563,
           73.06555849894477,
           25,
           "Africa",
           "Western Africa",
           3.16227807617188
          ],
          [
           "Malaysia",
           32776195,
           28005099.510974135,
           2908257.278668966,
           26386653.113154884,
           8324909.5520119015,
           26060476.15758394,
           8.873077789136188,
           85.4434125467405,
           95,
           "Asia",
           "South-Eastern Asia",
           3.16227807617188
          ],
          [
           "Serbia",
           8697547,
           8122791.135041865,
           574755.864958136,
           7493170.623118337,
           1869634.693899628,
           7410261.0504264515,
           6.608252475762832,
           93.39174752423718,
           94,
           "Europe",
           "Eastern Europe",
           3.16227807617188
          ],
          [
           "Bulgaria",
           6896655,
           6434320.926026767,
           357831.09824186907,
           6434320.926026767,
           946270.6388281537,
           6418740.267948992,
           5.188473227120525,
           93.29625631594979,
           100,
           "Europe",
           "Eastern Europe",
           3.16227807617188
          ],
          [
           "Costa Rica",
           5139053,
           4755714.284071721,
           313445.90431158093,
           4755714.284071721,
           1911263.8382496277,
           4739114.3086727755,
           6.09929308593589,
           92.54067401273583,
           100,
           "Americas",
           "Central America",
           3.16227807617188
          ],
          [
           "Dominican Republic",
           10953714,
           8966868.058503048,
           1005873.624257626,
           6543067.1298749335,
           64798.06666554147,
           6540272.501235978,
           9.182945841544027,
           81.86144040736365,
           81,
           "Americas",
           "Caribbean",
           3.16227807617188
          ],
          [
           "Cameroon",
           27224262,
           18094401.03683195,
           8760854.831025312,
           4787188.298333274,
           595183.8499356905,
           4744389.676197693,
           32.18032074120251,
           66.46424809176443,
           36,
           "Africa",
           "Middle Africa",
           3.16227807617188
          ],
          [
           "Croatia",
           4081657,
           3433842.7216630843,
           414941.0886648524,
           3101114.3612305657,
           869067.5190963822,
           3062079.754223764,
           10.165996032122552,
           84.12864485337901,
           94.5,
           "Europe",
           "Southern Europe",
           3.16227807617188
          ],
          [
           "Haiti",
           11541683,
           6584028.686848354,
           3638189.1368973814,
           1927964.7881452173,
           244219.12667434738,
           1908176.4058388274,
           31.522171739575427,
           57.04565518606215,
           19,
           "Americas",
           "Caribbean",
           3.16227807617188
          ],
          [
           "Turkey",
           85042736,
           71903659.83658208,
           10369133.199303808,
           63292716.492778495,
           12336606.63053399,
           62495068.860069275,
           12.192849956407574,
           84.55003121793034,
           95,
           "Asia",
           "Western Asia",
           3.60555102539062
          ],
          [
           "Tajikistan",
           9749624.999999998,
           7005765.215602943,
           2743859.784397055,
           4848981.72349641,
           803567.9628647506,
           4808800.814939077,
           28.143234066921092,
           71.8567659330789,
           65,
           "Asia",
           "Central Asia",
           3.60555102539062
          ],
          [
           "Montenegro",
           628051.0000000001,
           528360.0323529056,
           85092.83493674904,
           390692.00467696297,
           67158.28889524448,
           390578.69804833166,
           13.54871418670602,
           84.12693114936613,
           89,
           "Europe",
           "Southern Europe",
           3.60555102539062
          ],
          [
           "Mongolia",
           3329281.9999999995,
           2365780.481155878,
           942756.802453129,
           270190.57188013865,
           34528.05006047662,
           268731.82541667693,
           28.3171207020952,
           71.05978049188619,
           25,
           "Asia",
           "Eastern Asia",
           3.60555102539062
          ],
          [
           "Cyprus",
           1215588,
           896912.3211862523,
           134686.74966782055,
           896912.3211862523,
           170020.76980464926,
           878346.8675421176,
           11.07996703388159,
           73.78423620389904,
           100,
           "Europe",
           "Southern Europe",
           3.60555102539062
          ],
          [
           "Madagascar",
           28427333,
           11216445.222975349,
           16510467.468470573,
           5143562.138577898,
           906170.3860607514,
           5120570.0716294,
           58.07955135457333,
           39.456551281034166,
           35,
           "Africa",
           "Eastern Africa",
           3.60555102539062
          ],
          [
           "Chile",
           19212362,
           15195984.625035733,
           3784704.416517683,
           15195984.625035733,
           3236244.351546633,
           15068801.709568402,
           19.699318680949705,
           79.09482772100449,
           100,
           "Americas",
           "South America",
           3.60555102539062
          ],
          [
           "Nigeria",
           211400704,
           156114325.31927708,
           53880424.08032548,
           18969406.667208266,
           3344715.5612207055,
           18870113.555441774,
           25.487343731989405,
           73.84759008147725,
           10,
           "Africa",
           "Western Africa",
           3.60555102539062
          ],
          [
           "Colombia",
           51265841,
           41804834.54898636,
           9302703.626272852,
           29321830.04885189,
           6755898.90007159,
           29150542.694473833,
           18.146008033444435,
           81.54520385023307,
           89,
           "Americas",
           "South America",
           3.60555102539062
          ],
          [
           "Rwanda",
           13276517,
           10808344.444182131,
           2468172.5558178695,
           7642369.142376937,
           822799.902663637,
           7630453.329131289,
           18.590512525369938,
           81.40948747463007,
           38,
           "Africa",
           "Eastern Africa",
           3.60555102539062
          ],
          [
           "Togo",
           8478242,
           5601714.153544361,
           2684031.3316550595,
           1707413.7755006333,
           523839.2036547963,
           1641653.150684263,
           31.657875909357852,
           66.07164732434343,
           25,
           "Africa",
           "Western Africa",
           3.60555102539062
          ],
          [
           "Portugal",
           10167922.999999998,
           7594018.966205455,
           2049737.538774834,
           7455595.064408243,
           1050205.2892440693,
           7406995.593756432,
           20.158861733854934,
           74.68603928457618,
           100,
           "Europe",
           "Southern Europe",
           3.60555102539062
          ],
          [
           "Iraq",
           41179351,
           34215537.45254886,
           6955256.6078667985,
           24822883.634711612,
           5059727.2551775845,
           24158280.67399597,
           16.890155961580838,
           83.08906435302698,
           83,
           "Asia",
           "Western Asia",
           3.60555102539062
          ],
          [
           "Reunion",
           901695.9999999999,
           552663.0146208052,
           206134.26003667142,
           243529.44450461972,
           42038.45441526956,
           243476.63819932178,
           22.86072690093684,
           61.29150119561418,
           100,
           "Africa",
           "Eastern Africa",
           3.60555102539062
          ],
          [
           "Uzbekistan",
           33935765.00000001,
           28641657.78851805,
           5294096.575728038,
           17269751.91743609,
           5130967.711052546,
           16794325.1524889,
           15.600345463637073,
           84.39962319552261,
           70,
           "Asia",
           "Central Asia",
           3.60555102539062
          ],
          [
           "Egypt",
           104258326.99999999,
           76737259.19767737,
           26043737.566724572,
           76737259.19767737,
           5951620.86877744,
           76417478.43732801,
           24.980007176524687,
           73.60300266248986,
           100,
           "Africa",
           "Northern Africa",
           3.60555102539062
          ],
          [
           "North Korea",
           25887045,
           20984055.50529961,
           3650639.5763977333,
           11785390.802912327,
           3375680.8810431412,
           11708743.176596582,
           14.10218731569298,
           81.06006500664564,
           100,
           "Asia",
           "Eastern Asia",
           3.60555102539062
          ],
          [
           "Zimbabwe",
           15092171,
           10431626.442461241,
           4660544.557538761,
           2020186.9045145363,
           450565.1376656085,
           1998172.3336384718,
           30.880544340100315,
           69.1194556598997,
           27,
           "Africa",
           "Eastern Africa",
           3.60555102539062
          ],
          [
           "Spain",
           46745211,
           38929395.95607463,
           4635326.30872668,
           38929395.95607463,
           6559323.561295386,
           38473100.7817067,
           9.916152285047296,
           83.2799662752076,
           100,
           "Europe",
           "Southern Europe",
           3.60555102539062
          ],
          [
           "Turks and Caicos Islands",
           39226,
           12510.705542777303,
           1082.9099402600245,
           4762.344717446025,
           1096.4504987799883,
           4762.344717446025,
           2.7606942850660903,
           31.893911035479793,
           68,
           "Americas",
           "Caribbean",
           3.60555102539062
          ],
          [
           "Liechtenstein",
           38254,
           38254,
           0,
           38231.0476,
           0,
           38231.0476,
           0,
           100,
           100,
           "Europe",
           "Western Europe",
           3.60555102539062
          ],
          [
           "Sri Lanka",
           21497306,
           18564906.976441972,
           2203391.67899638,
           12385282.182691993,
           5078098.795118151,
           11950626.66689088,
           10.249617691613915,
           86.35922555338782,
           39,
           "Asia",
           "Southern Asia",
           3.60555102539062
          ],
          [
           "India",
           1393409033,
           1275163034.9363077,
           104336227.2339136,
           568242878.0601009,
           262035384.29660225,
           532682573.6492815,
           7.487839160140826,
           91.51390616371206,
           44,
           "Asia",
           "Southern Asia",
           3.60555102539062
          ],
          [
           "Bahamas",
           396913.9999999999,
           222593.9077003123,
           62511.61666541996,
           166538.296912372,
           48515.76517922163,
           152603.3475210559,
           15.749410871226507,
           56.08114294288242,
           97,
           "Americas",
           "Caribbean",
           3.60555102539062
          ],
          [
           "Curacao",
           164796.00000000003,
           77650.76651345677,
           4512.706984555905,
           61234.842184107794,
           10270.044205650986,
           61069.09888062552,
           2.7383595381901897,
           47.11932723698193,
           86.1428571428571,
           "Americas",
           "Caribbean",
           4
          ],
          [
           "United States",
           332915074.00000006,
           269649926.12905866,
           51671603.404877126,
           263499619.7702886,
           75566440.4475317,
           253140047.66669697,
           15.520956376062777,
           80.99661060377777,
           99,
           "Americas",
           "Northern America",
           4
          ],
          [
           "Jamaica",
           2973462,
           2267234.31357548,
           420378.8127274326,
           1739560.482059722,
           350786.6056056581,
           1716695.2584713816,
           14.137689088592106,
           76.24897555695954,
           83,
           "Americas",
           "Caribbean",
           4
          ],
          [
           "Indonesia",
           276361787.99999994,
           229933722.31050125,
           31740243.355557546,
           38275814.67591541,
           13299665.226248603,
           36244646.87687009,
           11.48503329105598,
           83.20025860829259,
           35,
           "Asia",
           "South-Eastern Asia",
           4
          ],
          [
           "Nicaragua",
           6702378.999999999,
           5673710.356086556,
           969243.1261276022,
           5478573.844511521,
           1627758.277288425,
           5320185.066101136,
           14.461180517061214,
           84.65218627723911,
           70,
           "Americas",
           "Central America",
           4
          ],
          [
           "Angola",
           33933611,
           14794444.945518155,
           18891486.59964802,
           5857758.894560541,
           247934.001395202,
           5826516.96447918,
           55.67190181925531,
           43.598203991665244,
           42,
           "Africa",
           "Middle Africa",
           4
          ],
          [
           "Bhutan",
           779900.0000000001,
           640623.2735926057,
           139276.72640739437,
           640623.2735926057,
           11619.648970480044,
           640276.1686613747,
           17.85828008813878,
           82.14171991186122,
           100,
           "Asia",
           "Southern Asia",
           4
          ],
          [
           "Ecuador",
           17888473.999999996,
           13681444.878137633,
           3795007.597450044,
           11840055.619994938,
           4082054.2993210987,
           11485077.779568302,
           21.214820210209346,
           76.48190045801356,
           91,
           "Americas",
           "South America",
           4
          ],
          [
           "Liberia",
           5180207.999999999,
           3760545.080027115,
           1234478.863870258,
           29015.2946463638,
           880.3016724173832,
           29005.147395821048,
           23.83068139098388,
           72.59448037660101,
           4,
           "Africa",
           "Western Africa",
           4.12310498046875
          ],
          [
           "Kazakhstan",
           18994958.000000004,
           14556824.595424224,
           4437099.333573752,
           8779497.88343916,
           1764849.7243818517,
           8673559.179085758,
           23.35935322191158,
           76.63520285448496,
           81,
           "Asia",
           "Central Asia",
           4.12310498046875
          ],
          [
           "Cuba",
           11317498,
           9453328.502891852,
           1364153.4144910953,
           5453259.657244875,
           1068679.4175770325,
           5282658.433849102,
           12.053489335638453,
           83.52843095613405,
           80,
           "Americas",
           "Caribbean",
           4.12310498046875
          ],
          [
           "Cote d'Ivoire",
           27053628.999999996,
           18013319.763389945,
           8871689.035674868,
           7083271.832810729,
           2876350.3497599186,
           6750295.367317396,
           32.79297219487585,
           66.58374654058406,
           42,
           "Africa",
           "Western Africa",
           4.12310498046875
          ],
          [
           "Andorra",
           77354,
           77354,
           9.094947017729282e-13,
           77354,
           0,
           77354,
           1.175756524255925e-15,
           100,
           100,
           "Europe",
           "Southern Europe",
           4.12310498046875
          ],
          [
           "Guadeloupe",
           400012.99999999994,
           183855.50524989387,
           72907.50678260638,
           120215.1570868705,
           39020.24726141505,
           105479.89844384283,
           18.2262843414105,
           45.96238253504109,
           86.1428571428572,
           "Americas",
           "Caribbean",
           4.12310498046875
          ],
          [
           "Ghana",
           31732128.000000004,
           24778341.64739977,
           5607562.488951043,
           10658764.749957895,
           3441790.552684058,
           10139024.849729663,
           17.67156141860717,
           78.08597534776037,
           35,
           "Africa",
           "Western Africa",
           4.12310498046875
          ],
          [
           "Gambia",
           2486936.9999999995,
           1997058.7079330904,
           310977.5437076242,
           1627266.7104974368,
           743441.7035550711,
           1582608.6822459493,
           12.504439947920845,
           80.30194202479157,
           77,
           "Africa",
           "Western Africa",
           4.12310498046875
          ],
          [
           "Kenya",
           54985702,
           36536667.657693215,
           17668391.92528216,
           16186778.543752667,
           4552051.401398457,
           15891501.459889244,
           32.13270228919177,
           66.44757878637834,
           33,
           "Africa",
           "Eastern Africa",
           4.12310498046875
          ],
          [
           "South Korea",
           51305184,
           40766872.73141512,
           5618471.882071609,
           26515875.24760937,
           3242479.5746423975,
           26353122.78712155,
           10.95108026914319,
           79.45955857290195,
           100,
           "Asia",
           "Eastern Asia",
           4.12310498046875
          ],
          [
           "Paraguay",
           7219640.999999999,
           6242624.071930181,
           974937.1607566823,
           6242624.071930181,
           2336781.436786731,
           5877673.373202112,
           13.503956232126809,
           86.46723669404312,
           100,
           "Americas",
           "South America",
           4.24264111328125
          ],
          [
           "Gabon",
           2278829,
           1328069.7743637967,
           855290.0417320792,
           530365.8307151537,
           14284.28307781951,
           528973.6799429647,
           37.5319974307892,
           58.27860600175777,
           82,
           "Africa",
           "Middle Africa",
           4.24264111328125
          ],
          [
           "Brazil",
           213993441,
           160274488.80305722,
           45127085.240482636,
           147555287.63914979,
           66430379.58675201,
           139855992.33104253,
           21.088069349042634,
           74.89691649149995,
           98,
           "Americas",
           "South America",
           4.47213623046875
          ],
          [
           "Iceland",
           343360.00000000006,
           239071.70876545314,
           46365.01738124285,
           239071.70876545314,
           96656.2179682584,
           218679.0266687793,
           13.503325192580043,
           69.62712860130857,
           100,
           "Europe",
           "Northern Europe",
           4.47213623046875
          ],
          [
           "Luxembourg",
           634813.9999999999,
           619550.6341747518,
           15263.365825248104,
           614774.8046831248,
           137820.8407048729,
           609494.9287892026,
           2.4043839337582513,
           97.59561606624175,
           100,
           "Europe",
           "Western Europe",
           4.47213623046875
          ],
          [
           "Peru",
           33359415,
           22145173.890963666,
           10077218.250337927,
           20391922.068243463,
           2330540.2532664323,
           20199179.69958457,
           30.208018486948667,
           66.38357984084453,
           90,
           "Americas",
           "South America",
           4.47213623046875
          ],
          [
           "Saint Vincent and the Grenadines",
           111269,
           24318.87414408469,
           2241.26412230078,
           17881.057219260747,
           1369.9295045317974,
           17881.057219260747,
           2.0142754246922143,
           21.855929453922197,
           93,
           "Americas",
           "Caribbean",
           5
          ],
          [
           "Trinidad and Tobago",
           1403374,
           968543.8195447777,
           287841.46578056284,
           669526.369031517,
           337988.01037327497,
           592531.7399224917,
           20.51067397433349,
           69.01537434388678,
           93,
           "Americas",
           "Caribbean",
           5
          ],
          [
           "Saint Lucia",
           184401,
           87844.52376358962,
           13668.602311763358,
           86051.77838065922,
           7346.397375706072,
           86051.77838065922,
           7.412433941119277,
           47.63776973204571,
           97,
           "Americas",
           "Caribbean",
           5
          ],
          [
           "Martinique",
           374743.00000000006,
           204634.270501587,
           35769.98745132238,
           145759.63951526588,
           28022.5999363564,
           141282.12028062344,
           9.545204967490353,
           54.606562497921765,
           86.1428571428571,
           "Americas",
           "Caribbean",
           5
          ],
          [
           "Montserrat",
           4980.999999999999,
           4123.424236706265,
           436.444587455478,
           2957.400637384904,
           680.89220674725,
           2957.400637384904,
           8.762188063751818,
           82.78306036350665,
           98,
           "Americas",
           "Caribbean",
           5
          ],
          [
           "Benin",
           12451031,
           8413822.925792329,
           3943565.426833256,
           3441191.441543055,
           1394254.6999014195,
           3192603.6294023707,
           31.67260146435469,
           67.5753110388395,
           37,
           "Africa",
           "Western Africa",
           5
          ],
          [
           "Sao Tome and Principe",
           223364,
           186448.34542195516,
           16567.846343749385,
           179735.508981835,
           14315.268846785304,
           179735.508981835,
           7.417420149956746,
           83.47287182444582,
           97,
           "Africa",
           "Middle Africa",
           5.09902001953125
          ],
          [
           "Bolivia",
           11832936,
           9051750.704250826,
           2780986.1631547003,
           2421220.8332633856,
           618953.1411982542,
           2311515.838092406,
           23.502080659903005,
           76.49623647293305,
           69,
           "Americas",
           "South America",
           5.3851650390625
          ],
          [
           "Venezuela",
           28704946.999999996,
           20253603.09165034,
           7498462.384913602,
           14449069.286701558,
           2918228.6660983316,
           14024648.012817122,
           26.122543911729235,
           70.55788359982111,
           79,
           "Americas",
           "South America",
           5.3851650390625
          ],
          [
           "Iran",
           85028760,
           56650383.86877941,
           28132016.988407996,
           55101293.82992779,
           8850676.491184684,
           53612213.27443367,
           33.08529606736356,
           66.62496768008779,
           99,
           "Asia",
           "Southern Asia",
           5.3851650390625
          ],
          [
           "Mexico",
           130262220,
           88135589.3253867,
           40860966.04644847,
           82699895.57629341,
           22261631.377398964,
           77843266.65405156,
           31.368240190017083,
           67.66013148354656,
           98,
           "Americas",
           "Central America",
           5.65685400390625
          ],
          [
           "Afghanistan",
           39835428,
           29491785.485566553,
           10343642.514433445,
           5312982.1028309865,
           1081789.0919548355,
           5238744.566248774,
           25.96593794456895,
           74.03406205543104,
           22,
           "Asia",
           "Southern Asia",
           5.8309521484375
          ],
          [
           "Argentina",
           45605823,
           33026607.014344633,
           11613732.67903352,
           29307814.9518621,
           15865376.244423976,
           24742011.31490482,
           25.46546014317847,
           72.41752224128184,
           96,
           "Americas",
           "South America",
           5.8309521484375
          ],
          [
           "Greece",
           10370747,
           5452666.309232296,
           3446116.366409916,
           5452666.309232296,
           879290.1581229388,
           5358545.910566154,
           33.22920100557767,
           52.57737277008393,
           100,
           "Europe",
           "Southern Europe",
           6
          ],
          [
           "Singapore",
           5896684.000000001,
           2579686.210996641,
           1261616.1170558594,
           2117410.7401813446,
           0,
           2117410.7401813446,
           21.395348929260226,
           43.74808300727393,
           100,
           "Asia",
           "South-Eastern Asia",
           6.32455517578125
          ],
          [
           "Grenada",
           113014.99999999997,
           54956.37029273976,
           19911.18257273782,
           39025.16178460732,
           6218.06037515978,
           39025.16178460732,
           17.618176855052713,
           48.62750103326087,
           92,
           "Americas",
           "Caribbean",
           6.7082041015625
          ],
          [
           "Samoa",
           200144,
           137157.59289708495,
           49708.45593234243,
           115123.0601839372,
           41329.37770664727,
           106884.82921317258,
           24.836345797197236,
           68.52945524076912,
           84,
           "Oceania",
           "Polynesia",
           6.7082041015625
          ],
          [
           "Uruguay",
           3485152,
           1785102.297894778,
           1309379.2042395594,
           1785102.297894778,
           496684.9750862108,
           1754424.8565489065,
           37.5702180059739,
           51.22021357733545,
           100,
           "Americas",
           "South America",
           6.7082041015625
          ],
          [
           "Lebanon",
           6769151,
           4610523.9226551065,
           2049111.2193260384,
           3856186.853493291,
           147253.32771615975,
           3853460.729594323,
           30.27131791455145,
           68.11081511780586,
           89,
           "Asia",
           "Western Asia",
           6.7082041015625
          ],
          [
           "Ethiopia",
           117876225.99999999,
           70413971.36036699,
           47462254.639633015,
           26642662.599456925,
           442460.5093141479,
           26575092.691242076,
           40.26448440895369,
           59.735515591046315,
           41,
           "Africa",
           "Eastern Africa",
           7.07106787109375
          ],
          [
           "Morocco",
           37344787,
           18639520.873322353,
           18383006.73129488,
           12285682.989470141,
           2429925.122539494,
           11913510.127595043,
           49.22509460636335,
           49.911975326897306,
           80,
           "Africa",
           "Northern Africa",
           7.07106787109375
          ],
          [
           "Algeria",
           44616625.99999999,
           32291746.35141052,
           12059601.014508234,
           15696088.61554586,
           2340305.55453556,
           15360839.055016292,
           27.02938813550858,
           72.37603836608022,
           72,
           "Africa",
           "Northern Africa",
           7.28010986328125
          ],
          [
           "Saint Pierre and Miquelon",
           5771,
           2031.077050118668,
           20.515929799178338,
           2000.3031554199001,
           146.79906896436344,
           2000.3031554199001,
           0.35550042972064355,
           35.194542542343925,
           91,
           "Americas",
           "Northern America",
           7.81025
          ],
          [
           "Syria",
           18275703.999999996,
           12308299.18617261,
           5888405.938568089,
           7377004.800319755,
           1398549.4364722967,
           6866349.377845299,
           32.21985833524164,
           67.34787992940032,
           71,
           "Asia",
           "Western Asia",
           8
          ],
          [
           "Bonaire Sint Eustatius and Saba",
           26445,
           3988.766539392758,
           4992.173927959517,
           1692.211762741245,
           1020.8669978728502,
           872.1406030421267,
           18.877572047492976,
           15.083254072197988,
           86.1428571428571,
           "Americas",
           "Caribbean",
           8.54400390625
          ],
          [
           "Falkland Islands",
           3527.9999999999995,
           925.5189497884815,
           818.4687378321225,
           541.8416585119485,
           289.28429690144793,
           460.71496392290203,
           23.199227262815267,
           26.233530322802768,
           91,
           "Americas",
           "South America",
           8.54400390625
          ],
          [
           "Mali",
           20855724.000000004,
           13827040.700523289,
           7020858.966157755,
           3753010.4306642334,
           1642001.7888397349,
           3467904.5436538174,
           33.66394264786853,
           66.29854087311132,
           50,
           "Africa",
           "Western Africa",
           8.54400390625
          ],
          [
           "Saint Kitts and Nevis",
           53546.00000000001,
           13105.170484763525,
           9717.460036941593,
           7835.883675134925,
           3649.3610151787743,
           5438.690503558848,
           18.147872925973164,
           24.474602182727978,
           98,
           "Americas",
           "Caribbean",
           9.4339814453125
          ],
          [
           "Jordan",
           10269022.000000002,
           5672013.118068348,
           4597008.881931653,
           3971372.0024639065,
           447230.63410647394,
           3792920.000593269,
           44.765790568290264,
           55.23420943170972,
           89,
           "Asia",
           "Western Asia",
           9.4339814453125
          ],
          [
           "South Sudan",
           11381377,
           8479311.702998416,
           2902065.2970015826,
           164726.67405998075,
           33671.92522474776,
           160739.34361977485,
           25.49836717474153,
           74.50163282525845,
           4,
           "Africa",
           "Middle Africa",
           9.4868330078125
          ],
          [
           "Burkina Faso",
           21497097,
           14993480.355892748,
           6503616.644107254,
           2937168.815393223,
           2544929.942645534,
           1701866.587536215,
           30.253464661331964,
           69.74653533866805,
           28,
           "Africa",
           "Western Africa",
           10.2956298828125
          ],
          [
           "Tunisia",
           11935764,
           5767064.014387605,
           5475943.045047354,
           4167429.3480779175,
           1222819.94942423,
           3762787.334551531,
           45.8784460303283,
           48.31751041984078,
           93,
           "Africa",
           "Northern Africa",
           11.40175
          ],
          [
           "Israel",
           8789776,
           2977801.8563428293,
           5747458.444407511,
           2977801.8563428293,
           1103913.3714083855,
           2665422.9380734116,
           65.38799674084426,
           33.87801755520083,
           100,
           "Asia",
           "Western Asia",
           14.7648203125
          ],
          [
           "Senegal",
           17196308,
           6235069.797501651,
           10017091.733430373,
           3887475.638090666,
           928695.923071882,
           3414786.892484872,
           58.25140915963109,
           36.25818866178514,
           75,
           "Africa",
           "Western Africa",
           15.8113896484375
          ],
          [
           "Turkmenistan",
           6117932.999999999,
           5269800.504098503,
           848012.8373028055,
           702937.1908808794,
           87692.68248232624,
           697524.6821278615,
           13.861100428899853,
           86.13694370465488,
           52,
           "Asia",
           "Central Asia",
           17.691810546875
          ],
          [
           "Hong Kong",
           7552800,
           1160731.7557245232,
           2922779.9513353067,
           545951.7216309172,
           0,
           545951.7216309172,
           38.697965672800905,
           15.368231062976953,
           100,
           "Asia",
           "Eastern Asia",
           18.6815390625
          ],
          [
           "Palestine",
           5222756,
           2483841.8567993282,
           2738914.143200672,
           1036409.0036729511,
           250424.6412718597,
           941169.6220841857,
           52.44193186893419,
           47.55806813106582,
           54,
           "Asia",
           "Western Asia",
           19.104970703125
          ],
          [
           "Chad",
           16914985,
           8900918.967165953,
           8014048.633271132,
           641176.1963039406,
           118541.2957981578,
           639673.1611181634,
           47.37839633479505,
           52.62150080042017,
           20,
           "Africa",
           "Middle Africa",
           20
          ],
          [
           "Eritrea",
           3601462,
           1718464.1934298328,
           1831971.3281775918,
           326085.4890513643,
           23339.62658605946,
           324109.6825297652,
           50.867434618985065,
           47.71573859254472,
           52,
           "Africa",
           "Eastern Africa",
           20.615529296875
          ],
          [
           "Yemen",
           30490638.999999996,
           14412172.508017452,
           15641274.579280108,
           2321250.617583816,
           143234.9443390046,
           2253086.710419173,
           51.29861194211151,
           47.267531874348236,
           56,
           "Asia",
           "Western Asia",
           21.587029296875
          ],
          [
           "Namibia",
           2587343.9999999995,
           658117.700245803,
           1903214.8649126557,
           207146.51690122593,
           48597.444151773154,
           177269.74542874467,
           73.5586325170776,
           25.436034027396552,
           81,
           "Africa",
           "Southern Africa",
           30.413810546875
          ],
          [
           "Mauritania",
           4775110.000000001,
           1570597.9184398842,
           3159949.8007220477,
           301585.29860719986,
           37129.2233543108,
           276578.26291606756,
           66.17543471714886,
           32.89134529759281,
           53,
           "Africa",
           "Western Africa",
           30.5286796875
          ],
          [
           "Timor",
           1343874.9999999998,
           277428.62599255616,
           974477.3374873291,
           53991.44304199599,
           6354.022313536669,
           51138.82282328865,
           72.51249837130159,
           20.64393087099293,
           66,
           "Asia",
           "South-Eastern Asia",
           32.015619140625
          ],
          [
           "Niger",
           25130809.999999996,
           9527771.770010171,
           15584445.37527601,
           1729900.8618754197,
           187038.95010597794,
           1672265.6354388746,
           62.013303093995034,
           37.91271260261875,
           40,
           "Africa",
           "Western Africa",
           33.8378515625
          ],
          [
           "Botswana",
           2397240,
           721105.4089370733,
           1675596.037405596,
           301180.5918389913,
           108037.27284197093,
           235385.1747272223,
           69.89688297398658,
           30.080651454884507,
           91,
           "Africa",
           "Southern Africa",
           33.94112890625
          ],
          [
           "Djibouti",
           1002197,
           289311.15578337613,
           607406.2170213492,
           18323.936729315334,
           2846.311586169133,
           16643.517899632683,
           60.60746709692298,
           28.867693256253624,
           83,
           "Africa",
           "Eastern Africa",
           34.539828125
          ],
          [
           "Sudan",
           44909351,
           24472823.556677163,
           20349901.660329223,
           5321421.451755548,
           432796.45138994016,
           5252064.498686971,
           45.31328377541956,
           54.49382592208283,
           46,
           "Africa",
           "Northern Africa",
           47.43416015625
          ],
          [
           "Oman",
           5223376,
           923114.2543556656,
           4034428.6225428698,
           306811.5630490775,
           26315.80809446487,
           285705.0410676573,
           77.2379515191491,
           17.672751384462188,
           96,
           "Asia",
           "Western Asia",
           49.36598046875
          ],
          [
           "United States Virgin Islands",
           104217.99999999999,
           12899.774913081423,
           20213.27312309647,
           4964.416404491788,
           1142.9741368608243,
           4964.416404491788,
           19.395184251373536,
           12.37768419378747,
           47,
           "Americas",
           "Caribbean",
           68.183578125
          ],
          [
           "Somalia",
           16359500,
           8733843.52841148,
           6945927.050258376,
           358920.40201261296,
           19944.561707804172,
           345064.1600356047,
           42.458064428976286,
           53.38698327217506,
           47,
           "Africa",
           "Eastern Africa",
           79.3095234375
          ],
          [
           "Kuwait",
           4328553,
           266868.4276011461,
           2992756.016616823,
           12287.187421389079,
           12287.187421389079,
           0,
           69.13987229951495,
           6.16530345362864,
           91.5,
           "Asia",
           "Western Asia",
           96.83490625
          ],
          [
           "Western Sahara",
           611871.9999999999,
           161248.88349254726,
           379612.47162809677,
           8065.442629822555,
           3560.432009546596,
           5470.929039352248,
           62.04115756695793,
           26.353368595481946,
           68.3333333333333,
           "Africa",
           "Northern Africa",
           132.00759375
          ],
          [
           "United Arab Emirates",
           9991083,
           12936.228808498234,
           9822435.36065881,
           12936.228808498234,
           12386.042751153818,
           550.1860573444166,
           98.31201843342518,
           0.12947774338876208,
           100,
           "Asia",
           "Western Asia",
           169.62309375
          ],
          [
           "Qatar",
           2930524.0000000005,
           380010.6571496462,
           2202013.5883886185,
           0,
           0,
           0,
           75.14060926948962,
           12.967327930078243,
           100,
           "Asia",
           "Western Asia",
           192.262796875
          ],
          [
           "Saudi Arabia",
           35340680,
           6041477.666230432,
           28816622.616464224,
           656565.8892566519,
           202766.2783326216,
           529387.5778261131,
           81.53952503591958,
           17.09496723388014,
           84,
           "Asia",
           "Western Asia",
           215.2045
          ],
          [
           "Libya",
           6958537.999999999,
           2019124.205020364,
           4920373.81754563,
           3769.746152044401,
           597.7973389714075,
           3432.4434955139054,
           70.70987925259057,
           29.016500377239645,
           78,
           "Africa",
           "Northern Africa",
           223.16359375
          ]
         ],
         "geo": "geo",
         "hovertemplate": "<b>%{hovertext}</b><br><br>ISOCODE=%{location}<br>Entity=%{customdata[0]}<br>country_pop_raw=%{customdata[1]}<br>country_pop_with_water=%{customdata[2]}<br>country_pop_without_water=%{customdata[3]}<br>population_piped_with_access=%{customdata[4]}<br>population_piped_with_cycling_access=%{customdata[5]}<br>population_piped_with_walking_access=%{customdata[6]}<br>percent_without_water=%{z}<br>percent_with_water=%{customdata[8]}<br>Nat Piped=%{customdata[9]}<br>region=%{customdata[10]}<br>subregion=%{customdata[11]}<br>weighted_med=%{customdata[12]}<extra></extra>",
         "hovertext": [
          "British Virgin Islands",
          "Saint Martin (French part)",
          "Panama",
          "Mauritius",
          "Congo",
          "Suriname",
          "Eswatini",
          "Fiji",
          "Sweden",
          "Greenland",
          "Guyana",
          "Solomon Islands",
          "Japan",
          "Papua New Guinea",
          "Philippines",
          "Lesotho",
          "New Zealand",
          "Norway",
          "Malta",
          "Netherlands",
          "Puerto Rico",
          "Brunei",
          "New Caledonia",
          "Albania",
          "Azerbaijan",
          "Australia",
          "Belize",
          "Vietnam",
          "Estonia",
          "France",
          "Georgia",
          "Slovakia",
          "Finland",
          "Isle of Man",
          "Austria",
          "Lithuania",
          "Thailand",
          "Armenia",
          "United Kingdom",
          "Moldova",
          "El Salvador",
          "Malawi",
          "Hungary",
          "Canada",
          "Switzerland",
          "Nepal",
          "Kyrgyzstan",
          "Slovenia",
          "Myanmar",
          "French Guiana",
          "Bangladesh",
          "Poland",
          "Italy",
          "Guinea-Bissau",
          "Laos",
          "Equatorial Guinea",
          "Romania",
          "Sierra Leone",
          "Uganda",
          "Ireland",
          "Zambia",
          "Belarus",
          "Pakistan",
          "Latvia",
          "Denmark",
          "North Macedonia",
          "Vanuatu",
          "Tanzania",
          "Faeroe Islands",
          "Central African Republic",
          "Democratic Republic of Congo",
          "Mozambique",
          "Taiwan",
          "China",
          "Palau",
          "Russia",
          "Cambodia",
          "Belgium",
          "Burundi",
          "South Africa",
          "Ukraine",
          "Honduras",
          "Guatemala",
          "Germany",
          "Czechia",
          "Bosnia and Herzegovina",
          "Guinea",
          "Malaysia",
          "Serbia",
          "Bulgaria",
          "Costa Rica",
          "Dominican Republic",
          "Cameroon",
          "Croatia",
          "Haiti",
          "Turkey",
          "Tajikistan",
          "Montenegro",
          "Mongolia",
          "Cyprus",
          "Madagascar",
          "Chile",
          "Nigeria",
          "Colombia",
          "Rwanda",
          "Togo",
          "Portugal",
          "Iraq",
          "Reunion",
          "Uzbekistan",
          "Egypt",
          "North Korea",
          "Zimbabwe",
          "Spain",
          "Turks and Caicos Islands",
          "Liechtenstein",
          "Sri Lanka",
          "India",
          "Bahamas",
          "Curacao",
          "United States",
          "Jamaica",
          "Indonesia",
          "Nicaragua",
          "Angola",
          "Bhutan",
          "Ecuador",
          "Liberia",
          "Kazakhstan",
          "Cuba",
          "Cote d'Ivoire",
          "Andorra",
          "Guadeloupe",
          "Ghana",
          "Gambia",
          "Kenya",
          "South Korea",
          "Paraguay",
          "Gabon",
          "Brazil",
          "Iceland",
          "Luxembourg",
          "Peru",
          "Saint Vincent and the Grenadines",
          "Trinidad and Tobago",
          "Saint Lucia",
          "Martinique",
          "Montserrat",
          "Benin",
          "Sao Tome and Principe",
          "Bolivia",
          "Venezuela",
          "Iran",
          "Mexico",
          "Afghanistan",
          "Argentina",
          "Greece",
          "Singapore",
          "Grenada",
          "Samoa",
          "Uruguay",
          "Lebanon",
          "Ethiopia",
          "Morocco",
          "Algeria",
          "Saint Pierre and Miquelon",
          "Syria",
          "Bonaire Sint Eustatius and Saba",
          "Falkland Islands",
          "Mali",
          "Saint Kitts and Nevis",
          "Jordan",
          "South Sudan",
          "Burkina Faso",
          "Tunisia",
          "Israel",
          "Senegal",
          "Turkmenistan",
          "Hong Kong",
          "Palestine",
          "Chad",
          "Eritrea",
          "Yemen",
          "Namibia",
          "Mauritania",
          "Timor",
          "Niger",
          "Botswana",
          "Djibouti",
          "Sudan",
          "Oman",
          "United States Virgin Islands",
          "Somalia",
          "Kuwait",
          "Western Sahara",
          "United Arab Emirates",
          "Qatar",
          "Saudi Arabia",
          "Libya"
         ],
         "locations": [
          "VGB",
          "MAF",
          "PAN",
          "MUS",
          "COG",
          "SUR",
          "SWZ",
          "FJI",
          "SWE",
          "GRL",
          "GUY",
          "SLB",
          "JPN",
          "PNG",
          "PHL",
          "LSO",
          "NZL",
          "NOR",
          "MLT",
          "NLD",
          "PRI",
          "BRN",
          "NCL",
          "ALB",
          "AZE",
          "AUS",
          "BLZ",
          "VNM",
          "EST",
          "FRA",
          "GEO",
          "SVK",
          "FIN",
          "IMN",
          "AUT",
          "LTU",
          "THA",
          "ARM",
          "GBR",
          "MDA",
          "SLV",
          "MWI",
          "HUN",
          "CAN",
          "CHE",
          "NPL",
          "KGZ",
          "SVN",
          "MMR",
          "GUF",
          "BGD",
          "POL",
          "ITA",
          "GNB",
          "LAO",
          "GNQ",
          "ROU",
          "SLE",
          "UGA",
          "IRL",
          "ZMB",
          "BLR",
          "PAK",
          "LVA",
          "DNK",
          "MKD",
          "VUT",
          "TZA",
          "FRO",
          "CAF",
          "COD",
          "MOZ",
          "TWN",
          "CHN",
          "PLW",
          "RUS",
          "KHM",
          "BEL",
          "BDI",
          "ZAF",
          "UKR",
          "HND",
          "GTM",
          "DEU",
          "CZE",
          "BIH",
          "GIN",
          "MYS",
          "SRB",
          "BGR",
          "CRI",
          "DOM",
          "CMR",
          "HRV",
          "HTI",
          "TUR",
          "TJK",
          "MNE",
          "MNG",
          "CYP",
          "MDG",
          "CHL",
          "NGA",
          "COL",
          "RWA",
          "TGO",
          "PRT",
          "IRQ",
          "REU",
          "UZB",
          "EGY",
          "PRK",
          "ZWE",
          "ESP",
          "TCA",
          "LIE",
          "LKA",
          "IND",
          "BHS",
          "CUW",
          "USA",
          "JAM",
          "IDN",
          "NIC",
          "AGO",
          "BTN",
          "ECU",
          "LBR",
          "KAZ",
          "CUB",
          "CIV",
          "AND",
          "GLP",
          "GHA",
          "GMB",
          "KEN",
          "KOR",
          "PRY",
          "GAB",
          "BRA",
          "ISL",
          "LUX",
          "PER",
          "VCT",
          "TTO",
          "LCA",
          "MTQ",
          "MSR",
          "BEN",
          "STP",
          "BOL",
          "VEN",
          "IRN",
          "MEX",
          "AFG",
          "ARG",
          "GRC",
          "SGP",
          "GRD",
          "WSM",
          "URY",
          "LBN",
          "ETH",
          "MAR",
          "DZA",
          "SPM",
          "SYR",
          "BES",
          "FLK",
          "MLI",
          "KNA",
          "JOR",
          "SSD",
          "BFA",
          "TUN",
          "ISR",
          "SEN",
          "TKM",
          "HKG",
          "PSE",
          "TCD",
          "ERI",
          "YEM",
          "NAM",
          "MRT",
          "TLS",
          "NER",
          "BWA",
          "DJI",
          "SDN",
          "OMN",
          "VIR",
          "SOM",
          "KWT",
          "ESH",
          "ARE",
          "QAT",
          "SAU",
          "LBY"
         ],
         "name": "",
         "type": "choropleth",
         "z": [
          0.03421308247355556,
          0,
          9.235212291372443,
          2.341655198557877,
          45.406878108179264,
          5.05266511956298,
          20.806599917406384,
          4.4771809119696515,
          2.3708783832529123,
          7.542153502317281,
          4.10920687389692,
          24.909611251100632,
          7.206440949684705,
          49.23336535751861,
          4.389696324499797,
          20.09299065626593,
          4.8737511785147,
          2.1594461713728244,
          0,
          2.576302427653454,
          6.590727301077871,
          6.86667579454026,
          19.622342937713512,
          3.724918881533696,
          4.850835793069335,
          5.986063193405418,
          2.1343954577516087,
          2.496385739060982,
          5.742991840830716,
          1.6949600640198352,
          6.6199603668928075,
          3.0788065941851808,
          2.8268699132305874,
          3.344411383372258,
          0.6391295755483352,
          6.592130420915761,
          4.190848344588197,
          2.3863697662520327,
          2.401929468996472,
          10.817392524941091,
          7.411098142935614,
          6.951923717452961,
          5.758295796722443,
          7.52645387851599,
          0.8247344507517866,
          5.812160338394957,
          11.329009925284717,
          7.213692977132707,
          20.592727410058817,
          4.468383553402265,
          0.7397519246651826,
          17.952508227088714,
          4.612185331230167,
          31.187703528431886,
          15.794914546767371,
          30.423996624915734,
          3.4215803061458265,
          38.09299211215435,
          15.700022034945405,
          4.477122598133135,
          38.84057431785122,
          3.1424866619914193,
          6.909542350253731,
          3.693575664348346,
          4.197621848692058,
          3.8461781426094035,
          7.797790038264371,
          32.39028404550321,
          5.011931317774854,
          50.67016778786757,
          63.49109342664051,
          36.97644552180239,
          5.172586378859298,
          8.152532215039605,
          1.8826015922516475,
          11.16399083592476,
          13.455330352047126,
          4.242144440994976,
          15.312592483428187,
          11.424643866111566,
          2.200799350662001,
          11.287578048622802,
          12.47286006767716,
          4.437729580386686,
          4.261803462175692,
          7.71327616825991,
          23.29658235960563,
          8.873077789136188,
          6.608252475762832,
          5.188473227120525,
          6.09929308593589,
          9.182945841544027,
          32.18032074120251,
          10.165996032122552,
          31.522171739575427,
          12.192849956407574,
          28.143234066921092,
          13.54871418670602,
          28.3171207020952,
          11.07996703388159,
          58.07955135457333,
          19.699318680949705,
          25.487343731989405,
          18.146008033444435,
          18.590512525369938,
          31.657875909357852,
          20.158861733854934,
          16.890155961580838,
          22.86072690093684,
          15.600345463637073,
          24.980007176524687,
          14.10218731569298,
          30.880544340100315,
          9.916152285047296,
          2.7606942850660903,
          0,
          10.249617691613915,
          7.487839160140826,
          15.749410871226507,
          2.7383595381901897,
          15.520956376062777,
          14.137689088592106,
          11.48503329105598,
          14.461180517061214,
          55.67190181925531,
          17.85828008813878,
          21.214820210209346,
          23.83068139098388,
          23.35935322191158,
          12.053489335638453,
          32.79297219487585,
          1.175756524255925e-15,
          18.2262843414105,
          17.67156141860717,
          12.504439947920845,
          32.13270228919177,
          10.95108026914319,
          13.503956232126809,
          37.5319974307892,
          21.088069349042634,
          13.503325192580043,
          2.4043839337582513,
          30.208018486948667,
          2.0142754246922143,
          20.51067397433349,
          7.412433941119277,
          9.545204967490353,
          8.762188063751818,
          31.67260146435469,
          7.417420149956746,
          23.502080659903005,
          26.122543911729235,
          33.08529606736356,
          31.368240190017083,
          25.96593794456895,
          25.46546014317847,
          33.22920100557767,
          21.395348929260226,
          17.618176855052713,
          24.836345797197236,
          37.5702180059739,
          30.27131791455145,
          40.26448440895369,
          49.22509460636335,
          27.02938813550858,
          0.35550042972064355,
          32.21985833524164,
          18.877572047492976,
          23.199227262815267,
          33.66394264786853,
          18.147872925973164,
          44.765790568290264,
          25.49836717474153,
          30.253464661331964,
          45.8784460303283,
          65.38799674084426,
          58.25140915963109,
          13.861100428899853,
          38.697965672800905,
          52.44193186893419,
          47.37839633479505,
          50.867434618985065,
          51.29861194211151,
          73.5586325170776,
          66.17543471714886,
          72.51249837130159,
          62.013303093995034,
          69.89688297398658,
          60.60746709692298,
          45.31328377541956,
          77.2379515191491,
          19.395184251373536,
          42.458064428976286,
          69.13987229951495,
          62.04115756695793,
          98.31201843342518,
          75.14060926948962,
          81.53952503591958,
          70.70987925259057
         ]
        }
       ],
       "layout": {
        "coloraxis": {
         "cmax": 100,
         "cmin": 0,
         "colorbar": {
          "title": {
           "text": ""
          }
         },
         "colorscale": [
          [
           0,
           "#0d0887"
          ],
          [
           0.1111111111111111,
           "#46039f"
          ],
          [
           0.2222222222222222,
           "#7201a8"
          ],
          [
           0.3333333333333333,
           "#9c179e"
          ],
          [
           0.4444444444444444,
           "#bd3786"
          ],
          [
           0.5555555555555556,
           "#d8576b"
          ],
          [
           0.6666666666666666,
           "#ed7953"
          ],
          [
           0.7777777777777778,
           "#fb9f3a"
          ],
          [
           0.8888888888888888,
           "#fdca26"
          ],
          [
           1,
           "#f0f921"
          ]
         ]
        },
        "geo": {
         "center": {},
         "domain": {
          "x": [
           0,
           1
          ],
          "y": [
           0,
           1
          ]
         },
         "scope": "world"
        },
        "height": 600,
        "legend": {
         "tracegroupgap": 0
        },
        "template": {
         "data": {
          "bar": [
           {
            "error_x": {
             "color": "#2a3f5f"
            },
            "error_y": {
             "color": "#2a3f5f"
            },
            "marker": {
             "line": {
              "color": "#E5ECF6",
              "width": 0.5
             },
             "pattern": {
              "fillmode": "overlay",
              "size": 10,
              "solidity": 0.2
             }
            },
            "type": "bar"
           }
          ],
          "barpolar": [
           {
            "marker": {
             "line": {
              "color": "#E5ECF6",
              "width": 0.5
             },
             "pattern": {
              "fillmode": "overlay",
              "size": 10,
              "solidity": 0.2
             }
            },
            "type": "barpolar"
           }
          ],
          "carpet": [
           {
            "aaxis": {
             "endlinecolor": "#2a3f5f",
             "gridcolor": "white",
             "linecolor": "white",
             "minorgridcolor": "white",
             "startlinecolor": "#2a3f5f"
            },
            "baxis": {
             "endlinecolor": "#2a3f5f",
             "gridcolor": "white",
             "linecolor": "white",
             "minorgridcolor": "white",
             "startlinecolor": "#2a3f5f"
            },
            "type": "carpet"
           }
          ],
          "choropleth": [
           {
            "colorbar": {
             "outlinewidth": 0,
             "ticks": ""
            },
            "type": "choropleth"
           }
          ],
          "contour": [
           {
            "colorbar": {
             "outlinewidth": 0,
             "ticks": ""
            },
            "colorscale": [
             [
              0,
              "#0d0887"
             ],
             [
              0.1111111111111111,
              "#46039f"
             ],
             [
              0.2222222222222222,
              "#7201a8"
             ],
             [
              0.3333333333333333,
              "#9c179e"
             ],
             [
              0.4444444444444444,
              "#bd3786"
             ],
             [
              0.5555555555555556,
              "#d8576b"
             ],
             [
              0.6666666666666666,
              "#ed7953"
             ],
             [
              0.7777777777777778,
              "#fb9f3a"
             ],
             [
              0.8888888888888888,
              "#fdca26"
             ],
             [
              1,
              "#f0f921"
             ]
            ],
            "type": "contour"
           }
          ],
          "contourcarpet": [
           {
            "colorbar": {
             "outlinewidth": 0,
             "ticks": ""
            },
            "type": "contourcarpet"
           }
          ],
          "heatmap": [
           {
            "colorbar": {
             "outlinewidth": 0,
             "ticks": ""
            },
            "colorscale": [
             [
              0,
              "#0d0887"
             ],
             [
              0.1111111111111111,
              "#46039f"
             ],
             [
              0.2222222222222222,
              "#7201a8"
             ],
             [
              0.3333333333333333,
              "#9c179e"
             ],
             [
              0.4444444444444444,
              "#bd3786"
             ],
             [
              0.5555555555555556,
              "#d8576b"
             ],
             [
              0.6666666666666666,
              "#ed7953"
             ],
             [
              0.7777777777777778,
              "#fb9f3a"
             ],
             [
              0.8888888888888888,
              "#fdca26"
             ],
             [
              1,
              "#f0f921"
             ]
            ],
            "type": "heatmap"
           }
          ],
          "heatmapgl": [
           {
            "colorbar": {
             "outlinewidth": 0,
             "ticks": ""
            },
            "colorscale": [
             [
              0,
              "#0d0887"
             ],
             [
              0.1111111111111111,
              "#46039f"
             ],
             [
              0.2222222222222222,
              "#7201a8"
             ],
             [
              0.3333333333333333,
              "#9c179e"
             ],
             [
              0.4444444444444444,
              "#bd3786"
             ],
             [
              0.5555555555555556,
              "#d8576b"
             ],
             [
              0.6666666666666666,
              "#ed7953"
             ],
             [
              0.7777777777777778,
              "#fb9f3a"
             ],
             [
              0.8888888888888888,
              "#fdca26"
             ],
             [
              1,
              "#f0f921"
             ]
            ],
            "type": "heatmapgl"
           }
          ],
          "histogram": [
           {
            "marker": {
             "pattern": {
              "fillmode": "overlay",
              "size": 10,
              "solidity": 0.2
             }
            },
            "type": "histogram"
           }
          ],
          "histogram2d": [
           {
            "colorbar": {
             "outlinewidth": 0,
             "ticks": ""
            },
            "colorscale": [
             [
              0,
              "#0d0887"
             ],
             [
              0.1111111111111111,
              "#46039f"
             ],
             [
              0.2222222222222222,
              "#7201a8"
             ],
             [
              0.3333333333333333,
              "#9c179e"
             ],
             [
              0.4444444444444444,
              "#bd3786"
             ],
             [
              0.5555555555555556,
              "#d8576b"
             ],
             [
              0.6666666666666666,
              "#ed7953"
             ],
             [
              0.7777777777777778,
              "#fb9f3a"
             ],
             [
              0.8888888888888888,
              "#fdca26"
             ],
             [
              1,
              "#f0f921"
             ]
            ],
            "type": "histogram2d"
           }
          ],
          "histogram2dcontour": [
           {
            "colorbar": {
             "outlinewidth": 0,
             "ticks": ""
            },
            "colorscale": [
             [
              0,
              "#0d0887"
             ],
             [
              0.1111111111111111,
              "#46039f"
             ],
             [
              0.2222222222222222,
              "#7201a8"
             ],
             [
              0.3333333333333333,
              "#9c179e"
             ],
             [
              0.4444444444444444,
              "#bd3786"
             ],
             [
              0.5555555555555556,
              "#d8576b"
             ],
             [
              0.6666666666666666,
              "#ed7953"
             ],
             [
              0.7777777777777778,
              "#fb9f3a"
             ],
             [
              0.8888888888888888,
              "#fdca26"
             ],
             [
              1,
              "#f0f921"
             ]
            ],
            "type": "histogram2dcontour"
           }
          ],
          "mesh3d": [
           {
            "colorbar": {
             "outlinewidth": 0,
             "ticks": ""
            },
            "type": "mesh3d"
           }
          ],
          "parcoords": [
           {
            "line": {
             "colorbar": {
              "outlinewidth": 0,
              "ticks": ""
             }
            },
            "type": "parcoords"
           }
          ],
          "pie": [
           {
            "automargin": true,
            "type": "pie"
           }
          ],
          "scatter": [
           {
            "fillpattern": {
             "fillmode": "overlay",
             "size": 10,
             "solidity": 0.2
            },
            "type": "scatter"
           }
          ],
          "scatter3d": [
           {
            "line": {
             "colorbar": {
              "outlinewidth": 0,
              "ticks": ""
             }
            },
            "marker": {
             "colorbar": {
              "outlinewidth": 0,
              "ticks": ""
             }
            },
            "type": "scatter3d"
           }
          ],
          "scattercarpet": [
           {
            "marker": {
             "colorbar": {
              "outlinewidth": 0,
              "ticks": ""
             }
            },
            "type": "scattercarpet"
           }
          ],
          "scattergeo": [
           {
            "marker": {
             "colorbar": {
              "outlinewidth": 0,
              "ticks": ""
             }
            },
            "type": "scattergeo"
           }
          ],
          "scattergl": [
           {
            "marker": {
             "colorbar": {
              "outlinewidth": 0,
              "ticks": ""
             }
            },
            "type": "scattergl"
           }
          ],
          "scattermapbox": [
           {
            "marker": {
             "colorbar": {
              "outlinewidth": 0,
              "ticks": ""
             }
            },
            "type": "scattermapbox"
           }
          ],
          "scatterpolar": [
           {
            "marker": {
             "colorbar": {
              "outlinewidth": 0,
              "ticks": ""
             }
            },
            "type": "scatterpolar"
           }
          ],
          "scatterpolargl": [
           {
            "marker": {
             "colorbar": {
              "outlinewidth": 0,
              "ticks": ""
             }
            },
            "type": "scatterpolargl"
           }
          ],
          "scatterternary": [
           {
            "marker": {
             "colorbar": {
              "outlinewidth": 0,
              "ticks": ""
             }
            },
            "type": "scatterternary"
           }
          ],
          "surface": [
           {
            "colorbar": {
             "outlinewidth": 0,
             "ticks": ""
            },
            "colorscale": [
             [
              0,
              "#0d0887"
             ],
             [
              0.1111111111111111,
              "#46039f"
             ],
             [
              0.2222222222222222,
              "#7201a8"
             ],
             [
              0.3333333333333333,
              "#9c179e"
             ],
             [
              0.4444444444444444,
              "#bd3786"
             ],
             [
              0.5555555555555556,
              "#d8576b"
             ],
             [
              0.6666666666666666,
              "#ed7953"
             ],
             [
              0.7777777777777778,
              "#fb9f3a"
             ],
             [
              0.8888888888888888,
              "#fdca26"
             ],
             [
              1,
              "#f0f921"
             ]
            ],
            "type": "surface"
           }
          ],
          "table": [
           {
            "cells": {
             "fill": {
              "color": "#EBF0F8"
             },
             "line": {
              "color": "white"
             }
            },
            "header": {
             "fill": {
              "color": "#C8D4E3"
             },
             "line": {
              "color": "white"
             }
            },
            "type": "table"
           }
          ]
         },
         "layout": {
          "annotationdefaults": {
           "arrowcolor": "#2a3f5f",
           "arrowhead": 0,
           "arrowwidth": 1
          },
          "autotypenumbers": "strict",
          "coloraxis": {
           "colorbar": {
            "outlinewidth": 0,
            "ticks": ""
           }
          },
          "colorscale": {
           "diverging": [
            [
             0,
             "#8e0152"
            ],
            [
             0.1,
             "#c51b7d"
            ],
            [
             0.2,
             "#de77ae"
            ],
            [
             0.3,
             "#f1b6da"
            ],
            [
             0.4,
             "#fde0ef"
            ],
            [
             0.5,
             "#f7f7f7"
            ],
            [
             0.6,
             "#e6f5d0"
            ],
            [
             0.7,
             "#b8e186"
            ],
            [
             0.8,
             "#7fbc41"
            ],
            [
             0.9,
             "#4d9221"
            ],
            [
             1,
             "#276419"
            ]
           ],
           "sequential": [
            [
             0,
             "#0d0887"
            ],
            [
             0.1111111111111111,
             "#46039f"
            ],
            [
             0.2222222222222222,
             "#7201a8"
            ],
            [
             0.3333333333333333,
             "#9c179e"
            ],
            [
             0.4444444444444444,
             "#bd3786"
            ],
            [
             0.5555555555555556,
             "#d8576b"
            ],
            [
             0.6666666666666666,
             "#ed7953"
            ],
            [
             0.7777777777777778,
             "#fb9f3a"
            ],
            [
             0.8888888888888888,
             "#fdca26"
            ],
            [
             1,
             "#f0f921"
            ]
           ],
           "sequentialminus": [
            [
             0,
             "#0d0887"
            ],
            [
             0.1111111111111111,
             "#46039f"
            ],
            [
             0.2222222222222222,
             "#7201a8"
            ],
            [
             0.3333333333333333,
             "#9c179e"
            ],
            [
             0.4444444444444444,
             "#bd3786"
            ],
            [
             0.5555555555555556,
             "#d8576b"
            ],
            [
             0.6666666666666666,
             "#ed7953"
            ],
            [
             0.7777777777777778,
             "#fb9f3a"
            ],
            [
             0.8888888888888888,
             "#fdca26"
            ],
            [
             1,
             "#f0f921"
            ]
           ]
          },
          "colorway": [
           "#636efa",
           "#EF553B",
           "#00cc96",
           "#ab63fa",
           "#FFA15A",
           "#19d3f3",
           "#FF6692",
           "#B6E880",
           "#FF97FF",
           "#FECB52"
          ],
          "font": {
           "color": "#2a3f5f"
          },
          "geo": {
           "bgcolor": "white",
           "lakecolor": "white",
           "landcolor": "#E5ECF6",
           "showlakes": true,
           "showland": true,
           "subunitcolor": "white"
          },
          "hoverlabel": {
           "align": "left"
          },
          "hovermode": "closest",
          "mapbox": {
           "style": "light"
          },
          "paper_bgcolor": "white",
          "plot_bgcolor": "#E5ECF6",
          "polar": {
           "angularaxis": {
            "gridcolor": "white",
            "linecolor": "white",
            "ticks": ""
           },
           "bgcolor": "#E5ECF6",
           "radialaxis": {
            "gridcolor": "white",
            "linecolor": "white",
            "ticks": ""
           }
          },
          "scene": {
           "xaxis": {
            "backgroundcolor": "#E5ECF6",
            "gridcolor": "white",
            "gridwidth": 2,
            "linecolor": "white",
            "showbackground": true,
            "ticks": "",
            "zerolinecolor": "white"
           },
           "yaxis": {
            "backgroundcolor": "#E5ECF6",
            "gridcolor": "white",
            "gridwidth": 2,
            "linecolor": "white",
            "showbackground": true,
            "ticks": "",
            "zerolinecolor": "white"
           },
           "zaxis": {
            "backgroundcolor": "#E5ECF6",
            "gridcolor": "white",
            "gridwidth": 2,
            "linecolor": "white",
            "showbackground": true,
            "ticks": "",
            "zerolinecolor": "white"
           }
          },
          "shapedefaults": {
           "line": {
            "color": "#2a3f5f"
           }
          },
          "ternary": {
           "aaxis": {
            "gridcolor": "white",
            "linecolor": "white",
            "ticks": ""
           },
           "baxis": {
            "gridcolor": "white",
            "linecolor": "white",
            "ticks": ""
           },
           "bgcolor": "#E5ECF6",
           "caxis": {
            "gridcolor": "white",
            "linecolor": "white",
            "ticks": ""
           }
          },
          "title": {
           "x": 0.05
          },
          "xaxis": {
           "automargin": true,
           "gridcolor": "white",
           "linecolor": "white",
           "ticks": "",
           "title": {
            "standoff": 15
           },
           "zerolinecolor": "white",
           "zerolinewidth": 2
          },
          "yaxis": {
           "automargin": true,
           "gridcolor": "white",
           "linecolor": "white",
           "ticks": "",
           "title": {
            "standoff": 15
           },
           "zerolinecolor": "white",
           "zerolinewidth": 2
          }
         }
        },
        "title": {
         "text": "Percent of Population Has to Relocate"
        }
       }
      }
     },
     "metadata": {},
     "output_type": "display_data"
    }
   ],
   "source": [
    "# create choropleth map of population with water from df_country\n",
    "\n",
    "hover_data_list =[\n",
    "    \"Entity\",\n",
    "    \"country_pop_raw\",\n",
    "    \"country_pop_with_water\",\n",
    "    \"country_pop_without_water\",\n",
    "    \"population_piped_with_access\",\n",
    "    \"population_piped_with_cycling_access\",\n",
    "    \"population_piped_with_walking_access\",\n",
    "    \"percent_without_water\",\n",
    "    \"percent_with_water\",\n",
    "    \"Nat Piped\",\n",
    "    \"region\",\n",
    "    \"subregion\",\n",
    "    \"weighted_med\"\n",
    "    ]\n",
    "\n",
    "\n",
    "choro = px.choropleth(\n",
    "    title=\"Percent of Population Has to Relocate\",\n",
    "    data_frame=df_countries,\n",
    "    locations=\"ISOCODE\",\n",
    "    height=600,\n",
    "    color=\"percent_without_water\",\n",
    "    # use constant colorbar grading (not relative)\n",
    "    color_continuous_scale=px.colors.sequential.Plasma,\n",
    "    range_color=(0, 100),\n",
    "    scope=\"world\",\n",
    "    hover_name=\"Entity\",\n",
    "    hover_data=hover_data_list\n",
    ")\n",
    "choro.layout.coloraxis.colorbar.title = ''\n",
    "choro.show()\n",
    "\n"
   ]
  },
  {
   "cell_type": "code",
   "execution_count": 42,
   "metadata": {},
   "outputs": [
    {
     "data": {
      "application/vnd.plotly.v1+json": {
       "config": {
        "plotlyServerURL": "https://plotly.com"
       },
       "data": [
        {
         "hovertemplate": "<b>%{hovertext}</b><br><br>region=Asia<br>percent_without_water=%{x}<br>Nat Piped=%{y}<br>bubble_size=%{marker.size}<extra></extra>",
         "hovertext": [
          "Afghanistan",
          "United Arab Emirates",
          "Armenia",
          "Azerbaijan",
          "Bangladesh",
          "Brunei",
          "Bhutan",
          "China",
          "Georgia",
          "Hong Kong",
          "Indonesia",
          "India",
          "Iran",
          "Iraq",
          "Israel",
          "Jordan",
          "Japan",
          "Kazakhstan",
          "Kyrgyzstan",
          "Cambodia",
          "South Korea",
          "Kuwait",
          "Laos",
          "Lebanon",
          "Sri Lanka",
          "Myanmar",
          "Mongolia",
          "Malaysia",
          "Nepal",
          "Oman",
          "Pakistan",
          "Philippines",
          "North Korea",
          "Palestine",
          "Qatar",
          "Saudi Arabia",
          "Singapore",
          "Syria",
          "Thailand",
          "Tajikistan",
          "Turkmenistan",
          "Timor",
          "Turkey",
          "Taiwan",
          "Uzbekistan",
          "Vietnam",
          "Yemen"
         ],
         "legendgroup": "Asia",
         "marker": {
          "color": "#636efa",
          "size": [
           89.83542800000001,
           59.991083,
           52.968128,
           60.223344,
           216.303494,
           50.441532,
           50.7799,
           1494.216102,
           53.979773,
           57.5528,
           326.36178799999993,
           1443.409033,
           135.02876,
           91.179351,
           58.789776,
           60.269022,
           176.050796,
           68.994958,
           56.628347,
           66.946446,
           101.305184,
           54.328553,
           57.379357999999996,
           56.769151,
           71.497306,
           104.80601399999999,
           53.329282,
           82.776195,
           79.67492,
           55.223376,
           275.199929,
           161.04690999999997,
           75.887045,
           55.222756000000004,
           52.930524,
           85.34067999999999,
           55.896684,
           68.27570399999999,
           119.950844,
           59.749624999999995,
           56.117933,
           51.343875,
           135.042736,
           73.855008,
           83.935765,
           148.16882900000002,
           80.490639
          ],
          "sizemode": "area",
          "sizeref": 3.735540255,
          "symbol": "circle"
         },
         "mode": "markers",
         "name": "Asia",
         "orientation": "v",
         "showlegend": true,
         "type": "scatter",
         "x": [
          25.96593794456895,
          98.31201843342518,
          2.3863697662520327,
          4.850835793069335,
          0.7397519246651826,
          6.86667579454026,
          17.85828008813878,
          8.152532215039605,
          6.6199603668928075,
          38.697965672800905,
          11.48503329105598,
          7.487839160140826,
          33.08529606736356,
          16.890155961580838,
          65.38799674084426,
          44.765790568290264,
          7.206440949684705,
          23.35935322191158,
          11.329009925284717,
          13.455330352047126,
          10.95108026914319,
          69.13987229951495,
          15.794914546767371,
          30.27131791455145,
          10.249617691613915,
          20.592727410058817,
          28.3171207020952,
          8.873077789136188,
          5.812160338394957,
          77.2379515191491,
          6.909542350253731,
          4.389696324499797,
          14.10218731569298,
          52.44193186893419,
          75.14060926948962,
          81.53952503591958,
          21.395348929260226,
          32.21985833524164,
          4.190848344588197,
          28.143234066921092,
          13.861100428899853,
          72.51249837130159,
          12.192849956407574,
          5.172586378859298,
          15.600345463637073,
          2.496385739060982,
          51.29861194211151
         ],
         "xaxis": "x",
         "y": [
          22,
          100,
          100,
          91,
          15,
          100,
          100,
          80,
          82,
          100,
          35,
          44,
          99,
          83,
          100,
          89,
          98,
          81,
          94,
          32,
          100,
          91.5,
          31,
          89,
          39,
          33,
          25,
          95,
          50,
          96,
          26,
          66,
          100,
          54,
          100,
          84,
          100,
          71,
          81,
          65,
          52,
          66,
          95,
          86.1428571428571,
          70,
          48,
          56
         ],
         "yaxis": "y"
        },
        {
         "hovertemplate": "<b>%{hovertext}</b><br><br>region=Africa<br>percent_without_water=%{x}<br>Nat Piped=%{y}<br>bubble_size=%{marker.size}<extra></extra>",
         "hovertext": [
          "Angola",
          "Burundi",
          "Benin",
          "Burkina Faso",
          "Botswana",
          "Central African Republic",
          "Cote d'Ivoire",
          "Cameroon",
          "Democratic Republic of Congo",
          "Congo",
          "Djibouti",
          "Algeria",
          "Egypt",
          "Eritrea",
          "Western Sahara",
          "Ethiopia",
          "Gabon",
          "Ghana",
          "Guinea",
          "Gambia",
          "Guinea-Bissau",
          "Equatorial Guinea",
          "Kenya",
          "Liberia",
          "Libya",
          "Lesotho",
          "Morocco",
          "Madagascar",
          "Mali",
          "Mozambique",
          "Mauritania",
          "Mauritius",
          "Malawi",
          "Namibia",
          "Niger",
          "Nigeria",
          "Reunion",
          "Rwanda",
          "Sudan",
          "Senegal",
          "Sierra Leone",
          "Somalia",
          "South Sudan",
          "Sao Tome and Principe",
          "Eswatini",
          "Chad",
          "Togo",
          "Tunisia",
          "Tanzania",
          "Uganda",
          "South Africa",
          "Zambia",
          "Zimbabwe"
         ],
         "legendgroup": "Africa",
         "marker": {
          "color": "#EF553B",
          "size": [
           83.933611,
           62.255429,
           62.451031,
           71.497097,
           52.39724,
           54.919987,
           77.053629,
           77.224262,
           142.37798600000002,
           55.657016999999996,
           51.002197,
           94.616626,
           154.25832699999998,
           53.601462,
           50.611872,
           167.87622599999997,
           52.278829,
           81.732128,
           63.497237,
           52.486937,
           52.01549,
           51.449891,
           104.985702,
           55.180208,
           56.958538,
           52.159067,
           87.344787,
           78.427333,
           70.85572400000001,
           82.163045,
           54.77511,
           51.273428,
           69.647681,
           52.587344,
           75.13081,
           261.400704,
           50.901696,
           63.276517,
           94.909351,
           67.196308,
           58.141343,
           66.3595,
           61.381377,
           50.223364,
           51.172369,
           66.914985,
           58.478242,
           61.935764,
           111.498438,
           97.12353300000001,
           110.04199599999998,
           68.920657,
           65.09217100000001
          ],
          "sizemode": "area",
          "sizeref": 3.735540255,
          "symbol": "circle"
         },
         "mode": "markers",
         "name": "Africa",
         "orientation": "v",
         "showlegend": true,
         "type": "scatter",
         "x": [
          55.67190181925531,
          15.312592483428187,
          31.67260146435469,
          30.253464661331964,
          69.89688297398658,
          50.67016778786757,
          32.79297219487585,
          32.18032074120251,
          63.49109342664051,
          45.406878108179264,
          60.60746709692298,
          27.02938813550858,
          24.980007176524687,
          50.867434618985065,
          62.04115756695793,
          40.26448440895369,
          37.5319974307892,
          17.67156141860717,
          23.29658235960563,
          12.504439947920845,
          31.187703528431886,
          30.423996624915734,
          32.13270228919177,
          23.83068139098388,
          70.70987925259057,
          20.09299065626593,
          49.22509460636335,
          58.07955135457333,
          33.66394264786853,
          36.97644552180239,
          66.17543471714886,
          2.341655198557877,
          6.951923717452961,
          73.5586325170776,
          62.013303093995034,
          25.487343731989405,
          22.86072690093684,
          18.590512525369938,
          45.31328377541956,
          58.25140915963109,
          38.09299211215435,
          42.458064428976286,
          25.49836717474153,
          7.417420149956746,
          20.806599917406384,
          47.37839633479505,
          31.657875909357852,
          45.8784460303283,
          32.39028404550321,
          15.700022034945405,
          11.424643866111566,
          38.84057431785122,
          30.880544340100315
         ],
         "xaxis": "x",
         "y": [
          42,
          38,
          37,
          28,
          91,
          14,
          42,
          36,
          35,
          53,
          83,
          72,
          100,
          52,
          68.3333333333333,
          41,
          82,
          35,
          25,
          77,
          35,
          41,
          33,
          4,
          78,
          69,
          80,
          35,
          50,
          41,
          53,
          100,
          22,
          81,
          40,
          10,
          100,
          38,
          46,
          75,
          21,
          47,
          4,
          97,
          61,
          20,
          25,
          93,
          38,
          23,
          91,
          32,
          27
         ],
         "yaxis": "y"
        },
        {
         "hovertemplate": "<b>%{hovertext}</b><br><br>region=Europe<br>percent_without_water=%{x}<br>Nat Piped=%{y}<br>bubble_size=%{marker.size}<extra></extra>",
         "hovertext": [
          "Albania",
          "Andorra",
          "Austria",
          "Belgium",
          "Bulgaria",
          "Bosnia and Herzegovina",
          "Belarus",
          "Switzerland",
          "Cyprus",
          "Czechia",
          "Germany",
          "Denmark",
          "Spain",
          "Estonia",
          "Finland",
          "France",
          "Faeroe Islands",
          "United Kingdom",
          "Greece",
          "Croatia",
          "Hungary",
          "Isle of Man",
          "Ireland",
          "Iceland",
          "Italy",
          "Liechtenstein",
          "Lithuania",
          "Luxembourg",
          "Latvia",
          "Moldova",
          "North Macedonia",
          "Malta",
          "Montenegro",
          "Netherlands",
          "Norway",
          "Poland",
          "Portugal",
          "Romania",
          "Russia",
          "Serbia",
          "Slovakia",
          "Slovenia",
          "Sweden",
          "Ukraine"
         ],
         "legendgroup": "Europe",
         "marker": {
          "color": "#00cc96",
          "size": [
           52.872934,
           50.077354,
           59.043071999999995,
           61.632334,
           56.896655,
           53.263459,
           59.442867,
           58.715494,
           51.215588,
           60.724553,
           133.900471,
           55.813302,
           96.745211,
           51.325188,
           55.548361,
           115.426177,
           50.049053,
           118.207114,
           60.370747,
           54.081657,
           59.634162,
           50.08541,
           54.982904,
           50.34336,
           110.367471,
           50.038254,
           52.689862,
           50.634814,
           51.866934,
           54.024025,
           52.082661,
           50.44279,
           50.628051,
           67.17309399999999,
           55.465629,
           87.797,
           60.167923,
           69.12777200000001,
           195.91202199999998,
           58.697547,
           55.460726,
           52.078723,
           60.160159,
           93.466822
          ],
          "sizemode": "area",
          "sizeref": 3.735540255,
          "symbol": "circle"
         },
         "mode": "markers",
         "name": "Europe",
         "orientation": "v",
         "showlegend": true,
         "type": "scatter",
         "x": [
          3.724918881533696,
          1.175756524255925e-15,
          0.6391295755483352,
          4.242144440994976,
          5.188473227120525,
          7.71327616825991,
          3.1424866619914193,
          0.8247344507517866,
          11.07996703388159,
          4.261803462175692,
          4.437729580386686,
          4.197621848692058,
          9.916152285047296,
          5.742991840830716,
          2.8268699132305874,
          1.6949600640198352,
          5.011931317774854,
          2.401929468996472,
          33.22920100557767,
          10.165996032122552,
          5.758295796722443,
          3.344411383372258,
          4.477122598133135,
          13.503325192580043,
          4.612185331230167,
          0,
          6.592130420915761,
          2.4043839337582513,
          3.693575664348346,
          10.817392524941091,
          3.8461781426094035,
          0,
          13.54871418670602,
          2.576302427653454,
          2.1594461713728244,
          17.952508227088714,
          20.158861733854934,
          3.4215803061458265,
          11.16399083592476,
          6.608252475762832,
          3.0788065941851808,
          7.213692977132707,
          2.3708783832529123,
          2.200799350662001
         ],
         "xaxis": "x",
         "y": [
          81,
          100,
          99.4285714285714,
          100,
          100,
          95,
          96,
          100,
          100,
          100,
          100,
          100,
          100,
          93,
          100,
          93,
          100,
          100,
          100,
          94.5,
          100,
          98,
          97,
          100,
          98,
          100,
          96,
          100,
          94,
          72,
          92,
          100,
          89,
          91,
          100,
          89,
          100,
          64,
          94,
          94,
          98,
          97.9821428571429,
          88,
          64
         ],
         "yaxis": "y"
        },
        {
         "hovertemplate": "<b>%{hovertext}</b><br><br>region=Americas<br>percent_without_water=%{x}<br>Nat Piped=%{y}<br>bubble_size=%{marker.size}<extra></extra>",
         "hovertext": [
          "Argentina",
          "Bonaire Sint Eustatius and Saba",
          "Bahamas",
          "Belize",
          "Bolivia",
          "Brazil",
          "Canada",
          "Chile",
          "Colombia",
          "Costa Rica",
          "Cuba",
          "Curacao",
          "Dominican Republic",
          "Ecuador",
          "Falkland Islands",
          "Guadeloupe",
          "Grenada",
          "Greenland",
          "Guatemala",
          "French Guiana",
          "Guyana",
          "Honduras",
          "Haiti",
          "Jamaica",
          "Saint Kitts and Nevis",
          "Saint Lucia",
          "Saint Martin (French part)",
          "Mexico",
          "Montserrat",
          "Martinique",
          "Nicaragua",
          "Panama",
          "Peru",
          "Puerto Rico",
          "Paraguay",
          "El Salvador",
          "Saint Pierre and Miquelon",
          "Suriname",
          "Turks and Caicos Islands",
          "Trinidad and Tobago",
          "Uruguay",
          "United States",
          "Saint Vincent and the Grenadines",
          "Venezuela",
          "British Virgin Islands",
          "United States Virgin Islands"
         ],
         "legendgroup": "Americas",
         "marker": {
          "color": "#ab63fa",
          "size": [
           95.605823,
           50.026445,
           50.396914,
           50.404915,
           61.832936000000004,
           263.99344099999996,
           88.067913,
           69.212362,
           101.265841,
           55.139053,
           61.317498,
           50.164796,
           60.953714,
           67.888474,
           50.003528,
           50.400013,
           50.113015,
           50.056868,
           68.24986799999999,
           50.30645,
           50.790329,
           60.062994,
           61.541683,
           52.973462,
           50.053546,
           50.184401,
           50.039239,
           180.26222,
           50.004981,
           50.374743,
           56.702379,
           54.381583,
           83.359415,
           52.828246,
           57.219640999999996,
           56.5185,
           50.005771,
           50.591798,
           50.039226,
           51.403374,
           53.485152,
           382.91507400000006,
           50.111269,
           78.704947,
           50.030423,
           50.104218
          ],
          "sizemode": "area",
          "sizeref": 3.735540255,
          "symbol": "circle"
         },
         "mode": "markers",
         "name": "Americas",
         "orientation": "v",
         "showlegend": true,
         "type": "scatter",
         "x": [
          25.46546014317847,
          18.877572047492976,
          15.749410871226507,
          2.1343954577516087,
          23.502080659903005,
          21.088069349042634,
          7.52645387851599,
          19.699318680949705,
          18.146008033444435,
          6.09929308593589,
          12.053489335638453,
          2.7383595381901897,
          9.182945841544027,
          21.214820210209346,
          23.199227262815267,
          18.2262843414105,
          17.618176855052713,
          7.542153502317281,
          12.47286006767716,
          4.468383553402265,
          4.10920687389692,
          11.287578048622802,
          31.522171739575427,
          14.137689088592106,
          18.147872925973164,
          7.412433941119277,
          0,
          31.368240190017083,
          8.762188063751818,
          9.545204967490353,
          14.461180517061214,
          9.235212291372443,
          30.208018486948667,
          6.590727301077871,
          13.503956232126809,
          7.411098142935614,
          0.35550042972064355,
          5.05266511956298,
          2.7606942850660903,
          20.51067397433349,
          37.5702180059739,
          15.520956376062777,
          2.0142754246922143,
          26.122543911729235,
          0.03421308247355556,
          19.395184251373536
         ],
         "xaxis": "x",
         "y": [
          96,
          86.1428571428571,
          97,
          87,
          69,
          98,
          100,
          100,
          89,
          100,
          80,
          86.1428571428571,
          81,
          91,
          91,
          86.1428571428572,
          92,
          100,
          77,
          88,
          65,
          92,
          19,
          83,
          98,
          97,
          100,
          98,
          98,
          86.1428571428571,
          70,
          93,
          90,
          100,
          100,
          91,
          91,
          80,
          68,
          93,
          100,
          99,
          93,
          79,
          96,
          47
         ],
         "yaxis": "y"
        },
        {
         "hovertemplate": "<b>%{hovertext}</b><br><br>region=Oceania<br>percent_without_water=%{x}<br>Nat Piped=%{y}<br>bubble_size=%{marker.size}<extra></extra>",
         "hovertext": [
          "Australia",
          "Fiji",
          "New Caledonia",
          "New Zealand",
          "Palau",
          "Papua New Guinea",
          "Solomon Islands",
          "Vanuatu",
          "Samoa"
         ],
         "legendgroup": "Oceania",
         "marker": {
          "color": "#FFA15A",
          "size": [
           75.788217,
           50.902899,
           50.288217,
           54.860642,
           50.018174,
           59.119005,
           50.703995,
           50.314464,
           50.200144
          ],
          "sizemode": "area",
          "sizeref": 3.735540255,
          "symbol": "circle"
         },
         "mode": "markers",
         "name": "Oceania",
         "orientation": "v",
         "showlegend": true,
         "type": "scatter",
         "x": [
          5.986063193405418,
          4.4771809119696515,
          19.622342937713512,
          4.8737511785147,
          1.8826015922516475,
          49.23336535751861,
          24.909611251100632,
          7.797790038264371,
          24.836345797197236
         ],
         "xaxis": "x",
         "y": [
          91,
          83,
          99,
          100,
          86,
          18,
          46,
          48,
          84
         ],
         "yaxis": "y"
        }
       ],
       "layout": {
        "legend": {
         "itemsizing": "constant",
         "title": {
          "text": "region"
         },
         "tracegroupgap": 0
        },
        "template": {
         "data": {
          "bar": [
           {
            "error_x": {
             "color": "#2a3f5f"
            },
            "error_y": {
             "color": "#2a3f5f"
            },
            "marker": {
             "line": {
              "color": "#E5ECF6",
              "width": 0.5
             },
             "pattern": {
              "fillmode": "overlay",
              "size": 10,
              "solidity": 0.2
             }
            },
            "type": "bar"
           }
          ],
          "barpolar": [
           {
            "marker": {
             "line": {
              "color": "#E5ECF6",
              "width": 0.5
             },
             "pattern": {
              "fillmode": "overlay",
              "size": 10,
              "solidity": 0.2
             }
            },
            "type": "barpolar"
           }
          ],
          "carpet": [
           {
            "aaxis": {
             "endlinecolor": "#2a3f5f",
             "gridcolor": "white",
             "linecolor": "white",
             "minorgridcolor": "white",
             "startlinecolor": "#2a3f5f"
            },
            "baxis": {
             "endlinecolor": "#2a3f5f",
             "gridcolor": "white",
             "linecolor": "white",
             "minorgridcolor": "white",
             "startlinecolor": "#2a3f5f"
            },
            "type": "carpet"
           }
          ],
          "choropleth": [
           {
            "colorbar": {
             "outlinewidth": 0,
             "ticks": ""
            },
            "type": "choropleth"
           }
          ],
          "contour": [
           {
            "colorbar": {
             "outlinewidth": 0,
             "ticks": ""
            },
            "colorscale": [
             [
              0,
              "#0d0887"
             ],
             [
              0.1111111111111111,
              "#46039f"
             ],
             [
              0.2222222222222222,
              "#7201a8"
             ],
             [
              0.3333333333333333,
              "#9c179e"
             ],
             [
              0.4444444444444444,
              "#bd3786"
             ],
             [
              0.5555555555555556,
              "#d8576b"
             ],
             [
              0.6666666666666666,
              "#ed7953"
             ],
             [
              0.7777777777777778,
              "#fb9f3a"
             ],
             [
              0.8888888888888888,
              "#fdca26"
             ],
             [
              1,
              "#f0f921"
             ]
            ],
            "type": "contour"
           }
          ],
          "contourcarpet": [
           {
            "colorbar": {
             "outlinewidth": 0,
             "ticks": ""
            },
            "type": "contourcarpet"
           }
          ],
          "heatmap": [
           {
            "colorbar": {
             "outlinewidth": 0,
             "ticks": ""
            },
            "colorscale": [
             [
              0,
              "#0d0887"
             ],
             [
              0.1111111111111111,
              "#46039f"
             ],
             [
              0.2222222222222222,
              "#7201a8"
             ],
             [
              0.3333333333333333,
              "#9c179e"
             ],
             [
              0.4444444444444444,
              "#bd3786"
             ],
             [
              0.5555555555555556,
              "#d8576b"
             ],
             [
              0.6666666666666666,
              "#ed7953"
             ],
             [
              0.7777777777777778,
              "#fb9f3a"
             ],
             [
              0.8888888888888888,
              "#fdca26"
             ],
             [
              1,
              "#f0f921"
             ]
            ],
            "type": "heatmap"
           }
          ],
          "heatmapgl": [
           {
            "colorbar": {
             "outlinewidth": 0,
             "ticks": ""
            },
            "colorscale": [
             [
              0,
              "#0d0887"
             ],
             [
              0.1111111111111111,
              "#46039f"
             ],
             [
              0.2222222222222222,
              "#7201a8"
             ],
             [
              0.3333333333333333,
              "#9c179e"
             ],
             [
              0.4444444444444444,
              "#bd3786"
             ],
             [
              0.5555555555555556,
              "#d8576b"
             ],
             [
              0.6666666666666666,
              "#ed7953"
             ],
             [
              0.7777777777777778,
              "#fb9f3a"
             ],
             [
              0.8888888888888888,
              "#fdca26"
             ],
             [
              1,
              "#f0f921"
             ]
            ],
            "type": "heatmapgl"
           }
          ],
          "histogram": [
           {
            "marker": {
             "pattern": {
              "fillmode": "overlay",
              "size": 10,
              "solidity": 0.2
             }
            },
            "type": "histogram"
           }
          ],
          "histogram2d": [
           {
            "colorbar": {
             "outlinewidth": 0,
             "ticks": ""
            },
            "colorscale": [
             [
              0,
              "#0d0887"
             ],
             [
              0.1111111111111111,
              "#46039f"
             ],
             [
              0.2222222222222222,
              "#7201a8"
             ],
             [
              0.3333333333333333,
              "#9c179e"
             ],
             [
              0.4444444444444444,
              "#bd3786"
             ],
             [
              0.5555555555555556,
              "#d8576b"
             ],
             [
              0.6666666666666666,
              "#ed7953"
             ],
             [
              0.7777777777777778,
              "#fb9f3a"
             ],
             [
              0.8888888888888888,
              "#fdca26"
             ],
             [
              1,
              "#f0f921"
             ]
            ],
            "type": "histogram2d"
           }
          ],
          "histogram2dcontour": [
           {
            "colorbar": {
             "outlinewidth": 0,
             "ticks": ""
            },
            "colorscale": [
             [
              0,
              "#0d0887"
             ],
             [
              0.1111111111111111,
              "#46039f"
             ],
             [
              0.2222222222222222,
              "#7201a8"
             ],
             [
              0.3333333333333333,
              "#9c179e"
             ],
             [
              0.4444444444444444,
              "#bd3786"
             ],
             [
              0.5555555555555556,
              "#d8576b"
             ],
             [
              0.6666666666666666,
              "#ed7953"
             ],
             [
              0.7777777777777778,
              "#fb9f3a"
             ],
             [
              0.8888888888888888,
              "#fdca26"
             ],
             [
              1,
              "#f0f921"
             ]
            ],
            "type": "histogram2dcontour"
           }
          ],
          "mesh3d": [
           {
            "colorbar": {
             "outlinewidth": 0,
             "ticks": ""
            },
            "type": "mesh3d"
           }
          ],
          "parcoords": [
           {
            "line": {
             "colorbar": {
              "outlinewidth": 0,
              "ticks": ""
             }
            },
            "type": "parcoords"
           }
          ],
          "pie": [
           {
            "automargin": true,
            "type": "pie"
           }
          ],
          "scatter": [
           {
            "fillpattern": {
             "fillmode": "overlay",
             "size": 10,
             "solidity": 0.2
            },
            "type": "scatter"
           }
          ],
          "scatter3d": [
           {
            "line": {
             "colorbar": {
              "outlinewidth": 0,
              "ticks": ""
             }
            },
            "marker": {
             "colorbar": {
              "outlinewidth": 0,
              "ticks": ""
             }
            },
            "type": "scatter3d"
           }
          ],
          "scattercarpet": [
           {
            "marker": {
             "colorbar": {
              "outlinewidth": 0,
              "ticks": ""
             }
            },
            "type": "scattercarpet"
           }
          ],
          "scattergeo": [
           {
            "marker": {
             "colorbar": {
              "outlinewidth": 0,
              "ticks": ""
             }
            },
            "type": "scattergeo"
           }
          ],
          "scattergl": [
           {
            "marker": {
             "colorbar": {
              "outlinewidth": 0,
              "ticks": ""
             }
            },
            "type": "scattergl"
           }
          ],
          "scattermapbox": [
           {
            "marker": {
             "colorbar": {
              "outlinewidth": 0,
              "ticks": ""
             }
            },
            "type": "scattermapbox"
           }
          ],
          "scatterpolar": [
           {
            "marker": {
             "colorbar": {
              "outlinewidth": 0,
              "ticks": ""
             }
            },
            "type": "scatterpolar"
           }
          ],
          "scatterpolargl": [
           {
            "marker": {
             "colorbar": {
              "outlinewidth": 0,
              "ticks": ""
             }
            },
            "type": "scatterpolargl"
           }
          ],
          "scatterternary": [
           {
            "marker": {
             "colorbar": {
              "outlinewidth": 0,
              "ticks": ""
             }
            },
            "type": "scatterternary"
           }
          ],
          "surface": [
           {
            "colorbar": {
             "outlinewidth": 0,
             "ticks": ""
            },
            "colorscale": [
             [
              0,
              "#0d0887"
             ],
             [
              0.1111111111111111,
              "#46039f"
             ],
             [
              0.2222222222222222,
              "#7201a8"
             ],
             [
              0.3333333333333333,
              "#9c179e"
             ],
             [
              0.4444444444444444,
              "#bd3786"
             ],
             [
              0.5555555555555556,
              "#d8576b"
             ],
             [
              0.6666666666666666,
              "#ed7953"
             ],
             [
              0.7777777777777778,
              "#fb9f3a"
             ],
             [
              0.8888888888888888,
              "#fdca26"
             ],
             [
              1,
              "#f0f921"
             ]
            ],
            "type": "surface"
           }
          ],
          "table": [
           {
            "cells": {
             "fill": {
              "color": "#EBF0F8"
             },
             "line": {
              "color": "white"
             }
            },
            "header": {
             "fill": {
              "color": "#C8D4E3"
             },
             "line": {
              "color": "white"
             }
            },
            "type": "table"
           }
          ]
         },
         "layout": {
          "annotationdefaults": {
           "arrowcolor": "#2a3f5f",
           "arrowhead": 0,
           "arrowwidth": 1
          },
          "autotypenumbers": "strict",
          "coloraxis": {
           "colorbar": {
            "outlinewidth": 0,
            "ticks": ""
           }
          },
          "colorscale": {
           "diverging": [
            [
             0,
             "#8e0152"
            ],
            [
             0.1,
             "#c51b7d"
            ],
            [
             0.2,
             "#de77ae"
            ],
            [
             0.3,
             "#f1b6da"
            ],
            [
             0.4,
             "#fde0ef"
            ],
            [
             0.5,
             "#f7f7f7"
            ],
            [
             0.6,
             "#e6f5d0"
            ],
            [
             0.7,
             "#b8e186"
            ],
            [
             0.8,
             "#7fbc41"
            ],
            [
             0.9,
             "#4d9221"
            ],
            [
             1,
             "#276419"
            ]
           ],
           "sequential": [
            [
             0,
             "#0d0887"
            ],
            [
             0.1111111111111111,
             "#46039f"
            ],
            [
             0.2222222222222222,
             "#7201a8"
            ],
            [
             0.3333333333333333,
             "#9c179e"
            ],
            [
             0.4444444444444444,
             "#bd3786"
            ],
            [
             0.5555555555555556,
             "#d8576b"
            ],
            [
             0.6666666666666666,
             "#ed7953"
            ],
            [
             0.7777777777777778,
             "#fb9f3a"
            ],
            [
             0.8888888888888888,
             "#fdca26"
            ],
            [
             1,
             "#f0f921"
            ]
           ],
           "sequentialminus": [
            [
             0,
             "#0d0887"
            ],
            [
             0.1111111111111111,
             "#46039f"
            ],
            [
             0.2222222222222222,
             "#7201a8"
            ],
            [
             0.3333333333333333,
             "#9c179e"
            ],
            [
             0.4444444444444444,
             "#bd3786"
            ],
            [
             0.5555555555555556,
             "#d8576b"
            ],
            [
             0.6666666666666666,
             "#ed7953"
            ],
            [
             0.7777777777777778,
             "#fb9f3a"
            ],
            [
             0.8888888888888888,
             "#fdca26"
            ],
            [
             1,
             "#f0f921"
            ]
           ]
          },
          "colorway": [
           "#636efa",
           "#EF553B",
           "#00cc96",
           "#ab63fa",
           "#FFA15A",
           "#19d3f3",
           "#FF6692",
           "#B6E880",
           "#FF97FF",
           "#FECB52"
          ],
          "font": {
           "color": "#2a3f5f"
          },
          "geo": {
           "bgcolor": "white",
           "lakecolor": "white",
           "landcolor": "#E5ECF6",
           "showlakes": true,
           "showland": true,
           "subunitcolor": "white"
          },
          "hoverlabel": {
           "align": "left"
          },
          "hovermode": "closest",
          "mapbox": {
           "style": "light"
          },
          "paper_bgcolor": "white",
          "plot_bgcolor": "#E5ECF6",
          "polar": {
           "angularaxis": {
            "gridcolor": "white",
            "linecolor": "white",
            "ticks": ""
           },
           "bgcolor": "#E5ECF6",
           "radialaxis": {
            "gridcolor": "white",
            "linecolor": "white",
            "ticks": ""
           }
          },
          "scene": {
           "xaxis": {
            "backgroundcolor": "#E5ECF6",
            "gridcolor": "white",
            "gridwidth": 2,
            "linecolor": "white",
            "showbackground": true,
            "ticks": "",
            "zerolinecolor": "white"
           },
           "yaxis": {
            "backgroundcolor": "#E5ECF6",
            "gridcolor": "white",
            "gridwidth": 2,
            "linecolor": "white",
            "showbackground": true,
            "ticks": "",
            "zerolinecolor": "white"
           },
           "zaxis": {
            "backgroundcolor": "#E5ECF6",
            "gridcolor": "white",
            "gridwidth": 2,
            "linecolor": "white",
            "showbackground": true,
            "ticks": "",
            "zerolinecolor": "white"
           }
          },
          "shapedefaults": {
           "line": {
            "color": "#2a3f5f"
           }
          },
          "ternary": {
           "aaxis": {
            "gridcolor": "white",
            "linecolor": "white",
            "ticks": ""
           },
           "baxis": {
            "gridcolor": "white",
            "linecolor": "white",
            "ticks": ""
           },
           "bgcolor": "#E5ECF6",
           "caxis": {
            "gridcolor": "white",
            "linecolor": "white",
            "ticks": ""
           }
          },
          "title": {
           "x": 0.05
          },
          "xaxis": {
           "automargin": true,
           "gridcolor": "white",
           "linecolor": "white",
           "ticks": "",
           "title": {
            "standoff": 15
           },
           "zerolinecolor": "white",
           "zerolinewidth": 2
          },
          "yaxis": {
           "automargin": true,
           "gridcolor": "white",
           "linecolor": "white",
           "ticks": "",
           "title": {
            "standoff": 15
           },
           "zerolinecolor": "white",
           "zerolinewidth": 2
          }
         }
        },
        "title": {
         "text": "Access to Water vs. Piped Water vs. Population"
        },
        "xaxis": {
         "anchor": "y",
         "domain": [
          0,
          1
         ],
         "title": {
          "text": "percent_without_water"
         }
        },
        "yaxis": {
         "anchor": "x",
         "domain": [
          0,
          1
         ],
         "title": {
          "text": "Nat Piped"
         }
        }
       }
      }
     },
     "metadata": {},
     "output_type": "display_data"
    }
   ],
   "source": [
    "# create bubble chart from df_countries comprising: access to water, piped water, and using population as the size of the bubble\n",
    "# create a new column for the size of the bubble\n",
    "df_countries[\"bubble_size\"] = df_countries[\"country_pop_raw\"] / 1000000 +50\n",
    "\n",
    "# create a new column for the color of the bubble\n",
    "df_countries[\"bubble_color\"] = df_countries[\"Nat Piped\"]\n",
    "\n",
    "# create a new column for the text of the bubble\n",
    "df_countries[\"bubble_text\"] = df_countries[\"Entity\"]\n",
    "\n",
    "px.scatter(df_countries, x=\"percent_without_water\", y=\"Nat Piped\", size=\"bubble_size\", color=\"region\", hover_name=\"bubble_text\", title=\"Access to Water vs. Piped Water vs. Population\")"
   ]
  },
  {
   "attachments": {},
   "cell_type": "markdown",
   "metadata": {},
   "source": [
    "Above graph is the money shot. NMeed to fix bubble sizes, maybe add labels"
   ]
  },
  {
   "cell_type": "code",
   "execution_count": 43,
   "metadata": {},
   "outputs": [
    {
     "data": {
      "application/vnd.plotly.v1+json": {
       "config": {
        "plotlyServerURL": "https://plotly.com"
       },
       "data": [
        {
         "hovertemplate": "subregion=Caribbean<br>Entity=%{x}<br>weighted_med=%{y}<extra></extra>",
         "legendgroup": "Caribbean",
         "line": {
          "color": "#636efa",
          "dash": "solid"
         },
         "marker": {
          "symbol": "circle"
         },
         "mode": "lines",
         "name": "Caribbean",
         "orientation": "v",
         "showlegend": true,
         "type": "scatter",
         "x": [
          "British Virgin Islands",
          "Saint Martin (French part)",
          "Puerto Rico",
          "Dominican Republic",
          "Haiti",
          "Turks and Caicos Islands",
          "Bahamas",
          "Curacao",
          "Jamaica",
          "Cuba",
          "Guadeloupe",
          "Saint Vincent and the Grenadines",
          "Trinidad and Tobago",
          "Saint Lucia",
          "Martinique",
          "Montserrat",
          "Grenada",
          "Bonaire Sint Eustatius and Saba",
          "Saint Kitts and Nevis",
          "United States Virgin Islands"
         ],
         "xaxis": "x",
         "y": [
          0,
          1,
          2.23606811523438,
          3.16227807617188,
          3.16227807617188,
          3.60555102539062,
          3.60555102539062,
          4,
          4,
          4.12310498046875,
          4.12310498046875,
          5,
          5,
          5,
          5,
          5,
          6.7082041015625,
          8.54400390625,
          9.4339814453125,
          68.183578125
         ],
         "yaxis": "y"
        },
        {
         "hovertemplate": "subregion=Central America<br>Entity=%{x}<br>weighted_med=%{y}<extra></extra>",
         "legendgroup": "Central America",
         "line": {
          "color": "#EF553B",
          "dash": "solid"
         },
         "marker": {
          "symbol": "circle"
         },
         "mode": "lines",
         "name": "Central America",
         "orientation": "v",
         "showlegend": true,
         "type": "scatter",
         "x": [
          "Panama",
          "Belize",
          "El Salvador",
          "Honduras",
          "Guatemala",
          "Costa Rica",
          "Nicaragua",
          "Mexico"
         ],
         "xaxis": "x",
         "y": [
          1.41421398925781,
          2.23606811523438,
          2.82842700195312,
          3.16227807617188,
          3.16227807617188,
          3.16227807617188,
          4,
          5.65685400390625
         ],
         "yaxis": "y"
        },
        {
         "hovertemplate": "subregion=Eastern Africa<br>Entity=%{x}<br>weighted_med=%{y}<extra></extra>",
         "legendgroup": "Eastern Africa",
         "line": {
          "color": "#00cc96",
          "dash": "solid"
         },
         "marker": {
          "symbol": "circle"
         },
         "mode": "lines",
         "name": "Eastern Africa",
         "orientation": "v",
         "showlegend": true,
         "type": "scatter",
         "x": [
          "Mauritius",
          "Malawi",
          "Uganda",
          "Zambia",
          "Tanzania",
          "Mozambique",
          "Burundi",
          "Madagascar",
          "Rwanda",
          "Reunion",
          "Zimbabwe",
          "Kenya",
          "Ethiopia",
          "Eritrea",
          "Djibouti",
          "Somalia"
         ],
         "xaxis": "x",
         "y": [
          2,
          2.82842700195312,
          3,
          3,
          3,
          3,
          3.16227807617188,
          3.60555102539062,
          3.60555102539062,
          3.60555102539062,
          3.60555102539062,
          4.12310498046875,
          7.07106787109375,
          20.615529296875,
          34.539828125,
          79.3095234375
         ],
         "yaxis": "y"
        },
        {
         "hovertemplate": "subregion=Middle Africa<br>Entity=%{x}<br>weighted_med=%{y}<extra></extra>",
         "legendgroup": "Middle Africa",
         "line": {
          "color": "#ab63fa",
          "dash": "solid"
         },
         "marker": {
          "symbol": "circle"
         },
         "mode": "lines",
         "name": "Middle Africa",
         "orientation": "v",
         "showlegend": true,
         "type": "scatter",
         "x": [
          "Congo",
          "Equatorial Guinea",
          "Central African Republic",
          "Democratic Republic of Congo",
          "Cameroon",
          "Angola",
          "Gabon",
          "Sao Tome and Principe",
          "South Sudan",
          "Chad"
         ],
         "xaxis": "x",
         "y": [
          2,
          3,
          3,
          3,
          3.16227807617188,
          4,
          4.24264111328125,
          5.09902001953125,
          9.4868330078125,
          20
         ],
         "yaxis": "y"
        },
        {
         "hovertemplate": "subregion=South America<br>Entity=%{x}<br>weighted_med=%{y}<extra></extra>",
         "legendgroup": "South America",
         "line": {
          "color": "#FFA15A",
          "dash": "solid"
         },
         "marker": {
          "symbol": "circle"
         },
         "mode": "lines",
         "name": "South America",
         "orientation": "v",
         "showlegend": true,
         "type": "scatter",
         "x": [
          "Suriname",
          "Guyana",
          "French Guiana",
          "Chile",
          "Colombia",
          "Ecuador",
          "Paraguay",
          "Brazil",
          "Peru",
          "Bolivia",
          "Venezuela",
          "Argentina",
          "Uruguay",
          "Falkland Islands"
         ],
         "xaxis": "x",
         "y": [
          2.23606811523438,
          2.23606811523438,
          2.82842700195312,
          3.60555102539062,
          3.60555102539062,
          4,
          4.24264111328125,
          4.47213623046875,
          4.47213623046875,
          5.3851650390625,
          5.3851650390625,
          5.8309521484375,
          6.7082041015625,
          8.54400390625
         ],
         "yaxis": "y"
        },
        {
         "hovertemplate": "subregion=Southern Africa<br>Entity=%{x}<br>weighted_med=%{y}<extra></extra>",
         "legendgroup": "Southern Africa",
         "line": {
          "color": "#19d3f3",
          "dash": "solid"
         },
         "marker": {
          "symbol": "circle"
         },
         "mode": "lines",
         "name": "Southern Africa",
         "orientation": "v",
         "showlegend": true,
         "type": "scatter",
         "x": [
          "Eswatini",
          "Lesotho",
          "South Africa",
          "Namibia",
          "Botswana"
         ],
         "xaxis": "x",
         "y": [
          2.23606811523438,
          2.23606811523438,
          3.16227807617188,
          30.413810546875,
          33.94112890625
         ],
         "yaxis": "y"
        },
        {
         "hovertemplate": "subregion=Melanesia<br>Entity=%{x}<br>weighted_med=%{y}<extra></extra>",
         "legendgroup": "Melanesia",
         "line": {
          "color": "#FF6692",
          "dash": "solid"
         },
         "marker": {
          "symbol": "circle"
         },
         "mode": "lines",
         "name": "Melanesia",
         "orientation": "v",
         "showlegend": true,
         "type": "scatter",
         "x": [
          "Fiji",
          "Solomon Islands",
          "Papua New Guinea",
          "New Caledonia",
          "Vanuatu"
         ],
         "xaxis": "x",
         "y": [
          2.23606811523438,
          2.23606811523438,
          2.23606811523438,
          2.23606811523438,
          3
         ],
         "yaxis": "y"
        },
        {
         "hovertemplate": "subregion=Northern Europe<br>Entity=%{x}<br>weighted_med=%{y}<extra></extra>",
         "legendgroup": "Northern Europe",
         "line": {
          "color": "#B6E880",
          "dash": "solid"
         },
         "marker": {
          "symbol": "circle"
         },
         "mode": "lines",
         "name": "Northern Europe",
         "orientation": "v",
         "showlegend": true,
         "type": "scatter",
         "x": [
          "Sweden",
          "Norway",
          "Estonia",
          "Finland",
          "Isle of Man",
          "Lithuania",
          "United Kingdom",
          "Ireland",
          "Latvia",
          "Denmark",
          "Faeroe Islands",
          "Iceland"
         ],
         "xaxis": "x",
         "y": [
          2.23606811523438,
          2.23606811523438,
          2.82842700195312,
          2.82842700195312,
          2.82842700195312,
          2.82842700195312,
          2.82842700195312,
          3,
          3,
          3,
          3,
          4.47213623046875
         ],
         "yaxis": "y"
        },
        {
         "hovertemplate": "subregion=Northern America<br>Entity=%{x}<br>weighted_med=%{y}<extra></extra>",
         "legendgroup": "Northern America",
         "line": {
          "color": "#FF97FF",
          "dash": "solid"
         },
         "marker": {
          "symbol": "circle"
         },
         "mode": "lines",
         "name": "Northern America",
         "orientation": "v",
         "showlegend": true,
         "type": "scatter",
         "x": [
          "Greenland",
          "Canada",
          "United States",
          "Saint Pierre and Miquelon"
         ],
         "xaxis": "x",
         "y": [
          2.23606811523438,
          2.82842700195312,
          4,
          7.81025
         ],
         "yaxis": "y"
        },
        {
         "hovertemplate": "subregion=Eastern Asia<br>Entity=%{x}<br>weighted_med=%{y}<extra></extra>",
         "legendgroup": "Eastern Asia",
         "line": {
          "color": "#FECB52",
          "dash": "solid"
         },
         "marker": {
          "symbol": "circle"
         },
         "mode": "lines",
         "name": "Eastern Asia",
         "orientation": "v",
         "showlegend": true,
         "type": "scatter",
         "x": [
          "Japan",
          "Taiwan",
          "China",
          "Mongolia",
          "North Korea",
          "South Korea",
          "Hong Kong"
         ],
         "xaxis": "x",
         "y": [
          2.23606811523438,
          3,
          3,
          3.60555102539062,
          3.60555102539062,
          4.12310498046875,
          18.6815390625
         ],
         "yaxis": "y"
        },
        {
         "hovertemplate": "subregion=South-Eastern Asia<br>Entity=%{x}<br>weighted_med=%{y}<extra></extra>",
         "legendgroup": "South-Eastern Asia",
         "line": {
          "color": "#636efa",
          "dash": "solid"
         },
         "marker": {
          "symbol": "circle"
         },
         "mode": "lines",
         "name": "South-Eastern Asia",
         "orientation": "v",
         "showlegend": true,
         "type": "scatter",
         "x": [
          "Philippines",
          "Brunei",
          "Vietnam",
          "Thailand",
          "Myanmar",
          "Laos",
          "Cambodia",
          "Malaysia",
          "Indonesia",
          "Singapore",
          "Timor"
         ],
         "xaxis": "x",
         "y": [
          2.23606811523438,
          2.23606811523438,
          2.23606811523438,
          2.82842700195312,
          2.82842700195312,
          3,
          3.16227807617188,
          3.16227807617188,
          4,
          6.32455517578125,
          32.015619140625
         ],
         "yaxis": "y"
        },
        {
         "hovertemplate": "subregion=Australia and New Zealand<br>Entity=%{x}<br>weighted_med=%{y}<extra></extra>",
         "legendgroup": "Australia and New Zealand",
         "line": {
          "color": "#EF553B",
          "dash": "solid"
         },
         "marker": {
          "symbol": "circle"
         },
         "mode": "lines",
         "name": "Australia and New Zealand",
         "orientation": "v",
         "showlegend": true,
         "type": "scatter",
         "x": [
          "New Zealand",
          "Australia"
         ],
         "xaxis": "x",
         "y": [
          2.23606811523438,
          2.23606811523438
         ],
         "yaxis": "y"
        },
        {
         "hovertemplate": "subregion=Southern Europe<br>Entity=%{x}<br>weighted_med=%{y}<extra></extra>",
         "legendgroup": "Southern Europe",
         "line": {
          "color": "#00cc96",
          "dash": "solid"
         },
         "marker": {
          "symbol": "circle"
         },
         "mode": "lines",
         "name": "Southern Europe",
         "orientation": "v",
         "showlegend": true,
         "type": "scatter",
         "x": [
          "Malta",
          "Albania",
          "Slovenia",
          "Italy",
          "North Macedonia",
          "Bosnia and Herzegovina",
          "Croatia",
          "Montenegro",
          "Cyprus",
          "Portugal",
          "Spain",
          "Andorra",
          "Greece"
         ],
         "xaxis": "x",
         "y": [
          2.23606811523438,
          2.23606811523438,
          2.82842700195312,
          3,
          3,
          3.16227807617188,
          3.16227807617188,
          3.60555102539062,
          3.60555102539062,
          3.60555102539062,
          3.60555102539062,
          4.12310498046875,
          6
         ],
         "yaxis": "y"
        },
        {
         "hovertemplate": "subregion=Western Europe<br>Entity=%{x}<br>weighted_med=%{y}<extra></extra>",
         "legendgroup": "Western Europe",
         "line": {
          "color": "#ab63fa",
          "dash": "solid"
         },
         "marker": {
          "symbol": "circle"
         },
         "mode": "lines",
         "name": "Western Europe",
         "orientation": "v",
         "showlegend": true,
         "type": "scatter",
         "x": [
          "Netherlands",
          "France",
          "Austria",
          "Switzerland",
          "Belgium",
          "Germany",
          "Liechtenstein",
          "Luxembourg"
         ],
         "xaxis": "x",
         "y": [
          2.23606811523438,
          2.82842700195312,
          2.82842700195312,
          2.82842700195312,
          3.16227807617188,
          3.16227807617188,
          3.60555102539062,
          4.47213623046875
         ],
         "yaxis": "y"
        },
        {
         "hovertemplate": "subregion=Western Asia<br>Entity=%{x}<br>weighted_med=%{y}<extra></extra>",
         "legendgroup": "Western Asia",
         "line": {
          "color": "#FFA15A",
          "dash": "solid"
         },
         "marker": {
          "symbol": "circle"
         },
         "mode": "lines",
         "name": "Western Asia",
         "orientation": "v",
         "showlegend": true,
         "type": "scatter",
         "x": [
          "Azerbaijan",
          "Georgia",
          "Armenia",
          "Turkey",
          "Iraq",
          "Lebanon",
          "Syria",
          "Jordan",
          "Israel",
          "Palestine",
          "Yemen",
          "Oman",
          "Kuwait",
          "United Arab Emirates",
          "Qatar",
          "Saudi Arabia"
         ],
         "xaxis": "x",
         "y": [
          2.23606811523438,
          2.82842700195312,
          2.82842700195312,
          3.60555102539062,
          3.60555102539062,
          6.7082041015625,
          8,
          9.4339814453125,
          14.7648203125,
          19.104970703125,
          21.587029296875,
          49.36598046875,
          96.83490625,
          169.62309375,
          192.262796875,
          215.2045
         ],
         "yaxis": "y"
        },
        {
         "hovertemplate": "subregion=Eastern Europe<br>Entity=%{x}<br>weighted_med=%{y}<extra></extra>",
         "legendgroup": "Eastern Europe",
         "line": {
          "color": "#19d3f3",
          "dash": "solid"
         },
         "marker": {
          "symbol": "circle"
         },
         "mode": "lines",
         "name": "Eastern Europe",
         "orientation": "v",
         "showlegend": true,
         "type": "scatter",
         "x": [
          "Slovakia",
          "Moldova",
          "Hungary",
          "Poland",
          "Romania",
          "Belarus",
          "Russia",
          "Ukraine",
          "Czechia",
          "Serbia",
          "Bulgaria"
         ],
         "xaxis": "x",
         "y": [
          2.82842700195312,
          2.82842700195312,
          2.82842700195312,
          3,
          3,
          3,
          3.16227807617188,
          3.16227807617188,
          3.16227807617188,
          3.16227807617188,
          3.16227807617188
         ],
         "yaxis": "y"
        },
        {
         "hovertemplate": "subregion=Southern Asia<br>Entity=%{x}<br>weighted_med=%{y}<extra></extra>",
         "legendgroup": "Southern Asia",
         "line": {
          "color": "#FF6692",
          "dash": "solid"
         },
         "marker": {
          "symbol": "circle"
         },
         "mode": "lines",
         "name": "Southern Asia",
         "orientation": "v",
         "showlegend": true,
         "type": "scatter",
         "x": [
          "Nepal",
          "Bangladesh",
          "Pakistan",
          "Sri Lanka",
          "India",
          "Bhutan",
          "Iran",
          "Afghanistan"
         ],
         "xaxis": "x",
         "y": [
          2.82842700195312,
          2.82842700195312,
          3,
          3.60555102539062,
          3.60555102539062,
          4,
          5.3851650390625,
          5.8309521484375
         ],
         "yaxis": "y"
        },
        {
         "hovertemplate": "subregion=Central Asia<br>Entity=%{x}<br>weighted_med=%{y}<extra></extra>",
         "legendgroup": "Central Asia",
         "line": {
          "color": "#B6E880",
          "dash": "solid"
         },
         "marker": {
          "symbol": "circle"
         },
         "mode": "lines",
         "name": "Central Asia",
         "orientation": "v",
         "showlegend": true,
         "type": "scatter",
         "x": [
          "Kyrgyzstan",
          "Tajikistan",
          "Uzbekistan",
          "Kazakhstan",
          "Turkmenistan"
         ],
         "xaxis": "x",
         "y": [
          2.82842700195312,
          3.60555102539062,
          3.60555102539062,
          4.12310498046875,
          17.691810546875
         ],
         "yaxis": "y"
        },
        {
         "hovertemplate": "subregion=Western Africa<br>Entity=%{x}<br>weighted_med=%{y}<extra></extra>",
         "legendgroup": "Western Africa",
         "line": {
          "color": "#FF97FF",
          "dash": "solid"
         },
         "marker": {
          "symbol": "circle"
         },
         "mode": "lines",
         "name": "Western Africa",
         "orientation": "v",
         "showlegend": true,
         "type": "scatter",
         "x": [
          "Guinea-Bissau",
          "Sierra Leone",
          "Guinea",
          "Nigeria",
          "Togo",
          "Liberia",
          "Cote d'Ivoire",
          "Ghana",
          "Gambia",
          "Benin",
          "Mali",
          "Burkina Faso",
          "Senegal",
          "Mauritania",
          "Niger"
         ],
         "xaxis": "x",
         "y": [
          3,
          3,
          3.16227807617188,
          3.60555102539062,
          3.60555102539062,
          4.12310498046875,
          4.12310498046875,
          4.12310498046875,
          4.12310498046875,
          5,
          8.54400390625,
          10.2956298828125,
          15.8113896484375,
          30.5286796875,
          33.8378515625
         ],
         "yaxis": "y"
        },
        {
         "hovertemplate": "subregion=Micronesia<br>Entity=%{x}<br>weighted_med=%{y}<extra></extra>",
         "legendgroup": "Micronesia",
         "line": {
          "color": "#FECB52",
          "dash": "solid"
         },
         "marker": {
          "symbol": "circle"
         },
         "mode": "lines",
         "name": "Micronesia",
         "orientation": "v",
         "showlegend": true,
         "type": "scatter",
         "x": [
          "Palau"
         ],
         "xaxis": "x",
         "y": [
          3.16227807617188
         ],
         "yaxis": "y"
        },
        {
         "hovertemplate": "subregion=Northern Africa<br>Entity=%{x}<br>weighted_med=%{y}<extra></extra>",
         "legendgroup": "Northern Africa",
         "line": {
          "color": "#636efa",
          "dash": "solid"
         },
         "marker": {
          "symbol": "circle"
         },
         "mode": "lines",
         "name": "Northern Africa",
         "orientation": "v",
         "showlegend": true,
         "type": "scatter",
         "x": [
          "Egypt",
          "Morocco",
          "Algeria",
          "Tunisia",
          "Sudan",
          "Western Sahara",
          "Libya"
         ],
         "xaxis": "x",
         "y": [
          3.60555102539062,
          7.07106787109375,
          7.28010986328125,
          11.40175,
          47.43416015625,
          132.00759375,
          223.16359375
         ],
         "yaxis": "y"
        },
        {
         "hovertemplate": "subregion=Polynesia<br>Entity=%{x}<br>weighted_med=%{y}<extra></extra>",
         "legendgroup": "Polynesia",
         "line": {
          "color": "#EF553B",
          "dash": "solid"
         },
         "marker": {
          "symbol": "circle"
         },
         "mode": "lines",
         "name": "Polynesia",
         "orientation": "v",
         "showlegend": true,
         "type": "scatter",
         "x": [
          "Samoa"
         ],
         "xaxis": "x",
         "y": [
          6.7082041015625
         ],
         "yaxis": "y"
        }
       ],
       "layout": {
        "legend": {
         "title": {
          "text": "subregion"
         },
         "tracegroupgap": 0
        },
        "template": {
         "data": {
          "bar": [
           {
            "error_x": {
             "color": "#2a3f5f"
            },
            "error_y": {
             "color": "#2a3f5f"
            },
            "marker": {
             "line": {
              "color": "#E5ECF6",
              "width": 0.5
             },
             "pattern": {
              "fillmode": "overlay",
              "size": 10,
              "solidity": 0.2
             }
            },
            "type": "bar"
           }
          ],
          "barpolar": [
           {
            "marker": {
             "line": {
              "color": "#E5ECF6",
              "width": 0.5
             },
             "pattern": {
              "fillmode": "overlay",
              "size": 10,
              "solidity": 0.2
             }
            },
            "type": "barpolar"
           }
          ],
          "carpet": [
           {
            "aaxis": {
             "endlinecolor": "#2a3f5f",
             "gridcolor": "white",
             "linecolor": "white",
             "minorgridcolor": "white",
             "startlinecolor": "#2a3f5f"
            },
            "baxis": {
             "endlinecolor": "#2a3f5f",
             "gridcolor": "white",
             "linecolor": "white",
             "minorgridcolor": "white",
             "startlinecolor": "#2a3f5f"
            },
            "type": "carpet"
           }
          ],
          "choropleth": [
           {
            "colorbar": {
             "outlinewidth": 0,
             "ticks": ""
            },
            "type": "choropleth"
           }
          ],
          "contour": [
           {
            "colorbar": {
             "outlinewidth": 0,
             "ticks": ""
            },
            "colorscale": [
             [
              0,
              "#0d0887"
             ],
             [
              0.1111111111111111,
              "#46039f"
             ],
             [
              0.2222222222222222,
              "#7201a8"
             ],
             [
              0.3333333333333333,
              "#9c179e"
             ],
             [
              0.4444444444444444,
              "#bd3786"
             ],
             [
              0.5555555555555556,
              "#d8576b"
             ],
             [
              0.6666666666666666,
              "#ed7953"
             ],
             [
              0.7777777777777778,
              "#fb9f3a"
             ],
             [
              0.8888888888888888,
              "#fdca26"
             ],
             [
              1,
              "#f0f921"
             ]
            ],
            "type": "contour"
           }
          ],
          "contourcarpet": [
           {
            "colorbar": {
             "outlinewidth": 0,
             "ticks": ""
            },
            "type": "contourcarpet"
           }
          ],
          "heatmap": [
           {
            "colorbar": {
             "outlinewidth": 0,
             "ticks": ""
            },
            "colorscale": [
             [
              0,
              "#0d0887"
             ],
             [
              0.1111111111111111,
              "#46039f"
             ],
             [
              0.2222222222222222,
              "#7201a8"
             ],
             [
              0.3333333333333333,
              "#9c179e"
             ],
             [
              0.4444444444444444,
              "#bd3786"
             ],
             [
              0.5555555555555556,
              "#d8576b"
             ],
             [
              0.6666666666666666,
              "#ed7953"
             ],
             [
              0.7777777777777778,
              "#fb9f3a"
             ],
             [
              0.8888888888888888,
              "#fdca26"
             ],
             [
              1,
              "#f0f921"
             ]
            ],
            "type": "heatmap"
           }
          ],
          "heatmapgl": [
           {
            "colorbar": {
             "outlinewidth": 0,
             "ticks": ""
            },
            "colorscale": [
             [
              0,
              "#0d0887"
             ],
             [
              0.1111111111111111,
              "#46039f"
             ],
             [
              0.2222222222222222,
              "#7201a8"
             ],
             [
              0.3333333333333333,
              "#9c179e"
             ],
             [
              0.4444444444444444,
              "#bd3786"
             ],
             [
              0.5555555555555556,
              "#d8576b"
             ],
             [
              0.6666666666666666,
              "#ed7953"
             ],
             [
              0.7777777777777778,
              "#fb9f3a"
             ],
             [
              0.8888888888888888,
              "#fdca26"
             ],
             [
              1,
              "#f0f921"
             ]
            ],
            "type": "heatmapgl"
           }
          ],
          "histogram": [
           {
            "marker": {
             "pattern": {
              "fillmode": "overlay",
              "size": 10,
              "solidity": 0.2
             }
            },
            "type": "histogram"
           }
          ],
          "histogram2d": [
           {
            "colorbar": {
             "outlinewidth": 0,
             "ticks": ""
            },
            "colorscale": [
             [
              0,
              "#0d0887"
             ],
             [
              0.1111111111111111,
              "#46039f"
             ],
             [
              0.2222222222222222,
              "#7201a8"
             ],
             [
              0.3333333333333333,
              "#9c179e"
             ],
             [
              0.4444444444444444,
              "#bd3786"
             ],
             [
              0.5555555555555556,
              "#d8576b"
             ],
             [
              0.6666666666666666,
              "#ed7953"
             ],
             [
              0.7777777777777778,
              "#fb9f3a"
             ],
             [
              0.8888888888888888,
              "#fdca26"
             ],
             [
              1,
              "#f0f921"
             ]
            ],
            "type": "histogram2d"
           }
          ],
          "histogram2dcontour": [
           {
            "colorbar": {
             "outlinewidth": 0,
             "ticks": ""
            },
            "colorscale": [
             [
              0,
              "#0d0887"
             ],
             [
              0.1111111111111111,
              "#46039f"
             ],
             [
              0.2222222222222222,
              "#7201a8"
             ],
             [
              0.3333333333333333,
              "#9c179e"
             ],
             [
              0.4444444444444444,
              "#bd3786"
             ],
             [
              0.5555555555555556,
              "#d8576b"
             ],
             [
              0.6666666666666666,
              "#ed7953"
             ],
             [
              0.7777777777777778,
              "#fb9f3a"
             ],
             [
              0.8888888888888888,
              "#fdca26"
             ],
             [
              1,
              "#f0f921"
             ]
            ],
            "type": "histogram2dcontour"
           }
          ],
          "mesh3d": [
           {
            "colorbar": {
             "outlinewidth": 0,
             "ticks": ""
            },
            "type": "mesh3d"
           }
          ],
          "parcoords": [
           {
            "line": {
             "colorbar": {
              "outlinewidth": 0,
              "ticks": ""
             }
            },
            "type": "parcoords"
           }
          ],
          "pie": [
           {
            "automargin": true,
            "type": "pie"
           }
          ],
          "scatter": [
           {
            "fillpattern": {
             "fillmode": "overlay",
             "size": 10,
             "solidity": 0.2
            },
            "type": "scatter"
           }
          ],
          "scatter3d": [
           {
            "line": {
             "colorbar": {
              "outlinewidth": 0,
              "ticks": ""
             }
            },
            "marker": {
             "colorbar": {
              "outlinewidth": 0,
              "ticks": ""
             }
            },
            "type": "scatter3d"
           }
          ],
          "scattercarpet": [
           {
            "marker": {
             "colorbar": {
              "outlinewidth": 0,
              "ticks": ""
             }
            },
            "type": "scattercarpet"
           }
          ],
          "scattergeo": [
           {
            "marker": {
             "colorbar": {
              "outlinewidth": 0,
              "ticks": ""
             }
            },
            "type": "scattergeo"
           }
          ],
          "scattergl": [
           {
            "marker": {
             "colorbar": {
              "outlinewidth": 0,
              "ticks": ""
             }
            },
            "type": "scattergl"
           }
          ],
          "scattermapbox": [
           {
            "marker": {
             "colorbar": {
              "outlinewidth": 0,
              "ticks": ""
             }
            },
            "type": "scattermapbox"
           }
          ],
          "scatterpolar": [
           {
            "marker": {
             "colorbar": {
              "outlinewidth": 0,
              "ticks": ""
             }
            },
            "type": "scatterpolar"
           }
          ],
          "scatterpolargl": [
           {
            "marker": {
             "colorbar": {
              "outlinewidth": 0,
              "ticks": ""
             }
            },
            "type": "scatterpolargl"
           }
          ],
          "scatterternary": [
           {
            "marker": {
             "colorbar": {
              "outlinewidth": 0,
              "ticks": ""
             }
            },
            "type": "scatterternary"
           }
          ],
          "surface": [
           {
            "colorbar": {
             "outlinewidth": 0,
             "ticks": ""
            },
            "colorscale": [
             [
              0,
              "#0d0887"
             ],
             [
              0.1111111111111111,
              "#46039f"
             ],
             [
              0.2222222222222222,
              "#7201a8"
             ],
             [
              0.3333333333333333,
              "#9c179e"
             ],
             [
              0.4444444444444444,
              "#bd3786"
             ],
             [
              0.5555555555555556,
              "#d8576b"
             ],
             [
              0.6666666666666666,
              "#ed7953"
             ],
             [
              0.7777777777777778,
              "#fb9f3a"
             ],
             [
              0.8888888888888888,
              "#fdca26"
             ],
             [
              1,
              "#f0f921"
             ]
            ],
            "type": "surface"
           }
          ],
          "table": [
           {
            "cells": {
             "fill": {
              "color": "#EBF0F8"
             },
             "line": {
              "color": "white"
             }
            },
            "header": {
             "fill": {
              "color": "#C8D4E3"
             },
             "line": {
              "color": "white"
             }
            },
            "type": "table"
           }
          ]
         },
         "layout": {
          "annotationdefaults": {
           "arrowcolor": "#2a3f5f",
           "arrowhead": 0,
           "arrowwidth": 1
          },
          "autotypenumbers": "strict",
          "coloraxis": {
           "colorbar": {
            "outlinewidth": 0,
            "ticks": ""
           }
          },
          "colorscale": {
           "diverging": [
            [
             0,
             "#8e0152"
            ],
            [
             0.1,
             "#c51b7d"
            ],
            [
             0.2,
             "#de77ae"
            ],
            [
             0.3,
             "#f1b6da"
            ],
            [
             0.4,
             "#fde0ef"
            ],
            [
             0.5,
             "#f7f7f7"
            ],
            [
             0.6,
             "#e6f5d0"
            ],
            [
             0.7,
             "#b8e186"
            ],
            [
             0.8,
             "#7fbc41"
            ],
            [
             0.9,
             "#4d9221"
            ],
            [
             1,
             "#276419"
            ]
           ],
           "sequential": [
            [
             0,
             "#0d0887"
            ],
            [
             0.1111111111111111,
             "#46039f"
            ],
            [
             0.2222222222222222,
             "#7201a8"
            ],
            [
             0.3333333333333333,
             "#9c179e"
            ],
            [
             0.4444444444444444,
             "#bd3786"
            ],
            [
             0.5555555555555556,
             "#d8576b"
            ],
            [
             0.6666666666666666,
             "#ed7953"
            ],
            [
             0.7777777777777778,
             "#fb9f3a"
            ],
            [
             0.8888888888888888,
             "#fdca26"
            ],
            [
             1,
             "#f0f921"
            ]
           ],
           "sequentialminus": [
            [
             0,
             "#0d0887"
            ],
            [
             0.1111111111111111,
             "#46039f"
            ],
            [
             0.2222222222222222,
             "#7201a8"
            ],
            [
             0.3333333333333333,
             "#9c179e"
            ],
            [
             0.4444444444444444,
             "#bd3786"
            ],
            [
             0.5555555555555556,
             "#d8576b"
            ],
            [
             0.6666666666666666,
             "#ed7953"
            ],
            [
             0.7777777777777778,
             "#fb9f3a"
            ],
            [
             0.8888888888888888,
             "#fdca26"
            ],
            [
             1,
             "#f0f921"
            ]
           ]
          },
          "colorway": [
           "#636efa",
           "#EF553B",
           "#00cc96",
           "#ab63fa",
           "#FFA15A",
           "#19d3f3",
           "#FF6692",
           "#B6E880",
           "#FF97FF",
           "#FECB52"
          ],
          "font": {
           "color": "#2a3f5f"
          },
          "geo": {
           "bgcolor": "white",
           "lakecolor": "white",
           "landcolor": "#E5ECF6",
           "showlakes": true,
           "showland": true,
           "subunitcolor": "white"
          },
          "hoverlabel": {
           "align": "left"
          },
          "hovermode": "closest",
          "mapbox": {
           "style": "light"
          },
          "paper_bgcolor": "white",
          "plot_bgcolor": "#E5ECF6",
          "polar": {
           "angularaxis": {
            "gridcolor": "white",
            "linecolor": "white",
            "ticks": ""
           },
           "bgcolor": "#E5ECF6",
           "radialaxis": {
            "gridcolor": "white",
            "linecolor": "white",
            "ticks": ""
           }
          },
          "scene": {
           "xaxis": {
            "backgroundcolor": "#E5ECF6",
            "gridcolor": "white",
            "gridwidth": 2,
            "linecolor": "white",
            "showbackground": true,
            "ticks": "",
            "zerolinecolor": "white"
           },
           "yaxis": {
            "backgroundcolor": "#E5ECF6",
            "gridcolor": "white",
            "gridwidth": 2,
            "linecolor": "white",
            "showbackground": true,
            "ticks": "",
            "zerolinecolor": "white"
           },
           "zaxis": {
            "backgroundcolor": "#E5ECF6",
            "gridcolor": "white",
            "gridwidth": 2,
            "linecolor": "white",
            "showbackground": true,
            "ticks": "",
            "zerolinecolor": "white"
           }
          },
          "shapedefaults": {
           "line": {
            "color": "#2a3f5f"
           }
          },
          "ternary": {
           "aaxis": {
            "gridcolor": "white",
            "linecolor": "white",
            "ticks": ""
           },
           "baxis": {
            "gridcolor": "white",
            "linecolor": "white",
            "ticks": ""
           },
           "bgcolor": "#E5ECF6",
           "caxis": {
            "gridcolor": "white",
            "linecolor": "white",
            "ticks": ""
           }
          },
          "title": {
           "x": 0.05
          },
          "xaxis": {
           "automargin": true,
           "gridcolor": "white",
           "linecolor": "white",
           "ticks": "",
           "title": {
            "standoff": 15
           },
           "zerolinecolor": "white",
           "zerolinewidth": 2
          },
          "yaxis": {
           "automargin": true,
           "gridcolor": "white",
           "linecolor": "white",
           "ticks": "",
           "title": {
            "standoff": 15
           },
           "zerolinecolor": "white",
           "zerolinewidth": 2
          }
         }
        },
        "title": {
         "text": "Distance to Water"
        },
        "xaxis": {
         "anchor": "y",
         "domain": [
          0,
          1
         ],
         "title": {
          "text": "Entity"
         }
        },
        "yaxis": {
         "anchor": "x",
         "domain": [
          0,
          1
         ],
         "title": {
          "text": "weighted_med"
         },
         "type": "log"
        }
       }
      }
     },
     "metadata": {},
     "output_type": "display_data"
    }
   ],
   "source": [
    "#sort the countries by distance to water, plot the results\n",
    "df_countries.sort_values(by=\"weighted_med\", inplace=True)\n",
    "# add log scale\n",
    "px.line(df_countries, x=\"Entity\", y=\"weighted_med\", color=\"subregion\", title=\"Distance to Water\", log_y=True)\n"
   ]
  },
  {
   "cell_type": "code",
   "execution_count": 44,
   "metadata": {},
   "outputs": [
    {
     "data": {
      "application/vnd.plotly.v1+json": {
       "config": {
        "plotlyServerURL": "https://plotly.com"
       },
       "data": [
        {
         "hovertemplate": "<b>%{hovertext}</b><br><br>region=Americas<br>percent_without_water=%{x}<br>country_pop_without_water=%{y}<br>bubble_size=%{marker.size}<extra></extra>",
         "hovertext": [
          "British Virgin Islands",
          "Saint Martin (French part)",
          "Panama",
          "Suriname",
          "Greenland",
          "Guyana",
          "Puerto Rico",
          "Belize",
          "El Salvador",
          "Canada",
          "French Guiana",
          "Honduras",
          "Guatemala",
          "Costa Rica",
          "Dominican Republic",
          "Haiti",
          "Chile",
          "Colombia",
          "Turks and Caicos Islands",
          "Bahamas",
          "Curacao",
          "United States",
          "Jamaica",
          "Nicaragua",
          "Ecuador",
          "Cuba",
          "Guadeloupe",
          "Paraguay",
          "Brazil",
          "Peru",
          "Saint Vincent and the Grenadines",
          "Trinidad and Tobago",
          "Saint Lucia",
          "Martinique",
          "Montserrat",
          "Bolivia",
          "Venezuela",
          "Mexico",
          "Argentina",
          "Grenada",
          "Uruguay",
          "Saint Pierre and Miquelon",
          "Bonaire Sint Eustatius and Saba",
          "Falkland Islands",
          "Saint Kitts and Nevis",
          "United States Virgin Islands"
         ],
         "legendgroup": "Americas",
         "marker": {
          "color": "#636efa",
          "size": [
           50.030423,
           50.039239,
           54.381583,
           50.591798,
           50.056868,
           50.790329,
           52.828246,
           50.404915,
           56.5185,
           88.067913,
           50.30645,
           60.062994,
           68.24986799999999,
           55.139053,
           60.953714,
           61.541683,
           69.212362,
           101.265841,
           50.039226,
           50.396914,
           50.164796,
           382.91507400000006,
           52.973462,
           56.702379,
           67.888474,
           61.317498,
           50.400013,
           57.219640999999996,
           263.99344099999996,
           83.359415,
           50.111269,
           51.403374,
           50.184401,
           50.374743,
           50.004981,
           61.832936000000004,
           78.704947,
           180.26222,
           95.605823,
           50.113015,
           53.485152,
           50.005771,
           50.026445,
           50.003528,
           50.053546,
           50.104218
          ],
          "sizemode": "area",
          "sizeref": 3.735540255,
          "symbol": "circle"
         },
         "mode": "markers",
         "name": "Americas",
         "orientation": "v",
         "showlegend": true,
         "type": "scatter",
         "x": [
          0.03421308247355556,
          0,
          9.235212291372443,
          5.05266511956298,
          7.542153502317281,
          4.10920687389692,
          6.590727301077871,
          2.1343954577516087,
          7.411098142935614,
          7.52645387851599,
          4.468383553402265,
          11.287578048622802,
          12.47286006767716,
          6.09929308593589,
          9.182945841544027,
          31.522171739575427,
          19.699318680949705,
          18.146008033444435,
          2.7606942850660903,
          15.749410871226507,
          2.7383595381901897,
          15.520956376062777,
          14.137689088592106,
          14.461180517061214,
          21.214820210209346,
          12.053489335638453,
          18.2262843414105,
          13.503956232126809,
          21.088069349042634,
          30.208018486948667,
          2.0142754246922143,
          20.51067397433349,
          7.412433941119277,
          9.545204967490353,
          8.762188063751818,
          23.502080659903005,
          26.122543911729235,
          31.368240190017083,
          25.46546014317847,
          17.618176855052713,
          37.5702180059739,
          0.35550042972064355,
          18.877572047492976,
          23.199227262815267,
          18.147872925973164,
          19.395184251373536
         ],
         "xaxis": "x",
         "y": [
          10.408646080929813,
          0,
          404648.4917726854,
          29901.571124271326,
          4289.071853697791,
          32476.25359440079,
          186401.98126364287,
          8642.487367754926,
          483092.432447258,
          2865163.9144585934,
          13693.36139940124,
          1135868.3017782297,
          2276280.4981757924,
          313445.90431158093,
          1005873.624257626,
          3638189.1368973814,
          3784704.416517683,
          9302703.626272852,
          1082.9099402600245,
          62511.61666541996,
          4512.706984555905,
          51671603.404877126,
          420378.8127274326,
          969243.1261276022,
          3795007.597450044,
          1364153.4144910953,
          72907.50678260638,
          974937.1607566823,
          45127085.240482636,
          10077218.250337927,
          2241.26412230078,
          287841.46578056284,
          13668.602311763358,
          35769.98745132238,
          436.444587455478,
          2780986.1631547003,
          7498462.384913602,
          40860966.04644847,
          11613732.67903352,
          19911.18257273782,
          1309379.2042395594,
          20.515929799178338,
          4992.173927959517,
          818.4687378321225,
          9717.460036941593,
          20213.27312309647
         ],
         "yaxis": "y"
        },
        {
         "hovertemplate": "<b>%{hovertext}</b><br><br>region=Africa<br>percent_without_water=%{x}<br>country_pop_without_water=%{y}<br>bubble_size=%{marker.size}<extra></extra>",
         "hovertext": [
          "Mauritius",
          "Congo",
          "Eswatini",
          "Lesotho",
          "Malawi",
          "Guinea-Bissau",
          "Equatorial Guinea",
          "Sierra Leone",
          "Uganda",
          "Zambia",
          "Tanzania",
          "Central African Republic",
          "Democratic Republic of Congo",
          "Mozambique",
          "Burundi",
          "South Africa",
          "Guinea",
          "Cameroon",
          "Madagascar",
          "Nigeria",
          "Rwanda",
          "Togo",
          "Reunion",
          "Egypt",
          "Zimbabwe",
          "Angola",
          "Liberia",
          "Cote d'Ivoire",
          "Ghana",
          "Gambia",
          "Kenya",
          "Gabon",
          "Benin",
          "Sao Tome and Principe",
          "Ethiopia",
          "Morocco",
          "Algeria",
          "Mali",
          "South Sudan",
          "Burkina Faso",
          "Tunisia",
          "Senegal",
          "Chad",
          "Eritrea",
          "Namibia",
          "Mauritania",
          "Niger",
          "Botswana",
          "Djibouti",
          "Sudan",
          "Somalia",
          "Western Sahara",
          "Libya"
         ],
         "legendgroup": "Africa",
         "marker": {
          "color": "#EF553B",
          "size": [
           51.273428,
           55.657016999999996,
           51.172369,
           52.159067,
           69.647681,
           52.01549,
           51.449891,
           58.141343,
           97.12353300000001,
           68.920657,
           111.498438,
           54.919987,
           142.37798600000002,
           82.163045,
           62.255429,
           110.04199599999998,
           63.497237,
           77.224262,
           78.427333,
           261.400704,
           63.276517,
           58.478242,
           50.901696,
           154.25832699999998,
           65.09217100000001,
           83.933611,
           55.180208,
           77.053629,
           81.732128,
           52.486937,
           104.985702,
           52.278829,
           62.451031,
           50.223364,
           167.87622599999997,
           87.344787,
           94.616626,
           70.85572400000001,
           61.381377,
           71.497097,
           61.935764,
           67.196308,
           66.914985,
           53.601462,
           52.587344,
           54.77511,
           75.13081,
           52.39724,
           51.002197,
           94.909351,
           66.3595,
           50.611872,
           56.958538
          ],
          "sizemode": "area",
          "sizeref": 3.735540255,
          "symbol": "circle"
         },
         "mode": "markers",
         "name": "Africa",
         "orientation": "v",
         "showlegend": true,
         "type": "scatter",
         "x": [
          2.341655198557877,
          45.406878108179264,
          20.806599917406384,
          20.09299065626593,
          6.951923717452961,
          31.187703528431886,
          30.423996624915734,
          38.09299211215435,
          15.700022034945405,
          38.84057431785122,
          32.39028404550321,
          50.67016778786757,
          63.49109342664051,
          36.97644552180239,
          15.312592483428187,
          11.424643866111566,
          23.29658235960563,
          32.18032074120251,
          58.07955135457333,
          25.487343731989405,
          18.590512525369938,
          31.657875909357852,
          22.86072690093684,
          24.980007176524687,
          30.880544340100315,
          55.67190181925531,
          23.83068139098388,
          32.79297219487585,
          17.67156141860717,
          12.504439947920845,
          32.13270228919177,
          37.5319974307892,
          31.67260146435469,
          7.417420149956746,
          40.26448440895369,
          49.22509460636335,
          27.02938813550858,
          33.66394264786853,
          25.49836717474153,
          30.253464661331964,
          45.8784460303283,
          58.25140915963109,
          47.37839633479505,
          50.867434618985065,
          73.5586325170776,
          66.17543471714886,
          62.013303093995034,
          69.89688297398658,
          60.60746709692298,
          45.31328377541956,
          42.458064428976286,
          62.04115756695793,
          70.70987925259057
         ],
         "xaxis": "x",
         "y": [
          29819.292961891602,
          2568674.8137489795,
          243930.1273856981,
          433821.1305725211,
          1365891.7953684991,
          628585.0458451918,
          441114.78890495695,
          3101281.1468134304,
          7398405.064644769,
          7348891.84351072,
          19919518.751747683,
          2492965.668041272,
          58651793.396908894,
          11892750.812577788,
          1876623.8998658783,
          6859584.21310495,
          3144394.933976164,
          8760854.831025312,
          16510467.468470573,
          53880424.08032548,
          2468172.5558178695,
          2684031.3316550595,
          206134.26003667142,
          26043737.566724572,
          4660544.557538761,
          18891486.59964802,
          1234478.863870258,
          8871689.035674868,
          5607562.488951043,
          310977.5437076242,
          17668391.92528216,
          855290.0417320792,
          3943565.426833256,
          16567.846343749385,
          47462254.639633015,
          18383006.73129488,
          12059601.014508234,
          7020858.966157755,
          2902065.2970015826,
          6503616.644107254,
          5475943.045047354,
          10017091.733430373,
          8014048.633271132,
          1831971.3281775918,
          1903214.8649126557,
          3159949.8007220477,
          15584445.37527601,
          1675596.037405596,
          607406.2170213492,
          20349901.660329223,
          6945927.050258376,
          379612.47162809677,
          4920373.81754563
         ],
         "yaxis": "y"
        },
        {
         "hovertemplate": "<b>%{hovertext}</b><br><br>region=Oceania<br>percent_without_water=%{x}<br>country_pop_without_water=%{y}<br>bubble_size=%{marker.size}<extra></extra>",
         "hovertext": [
          "Fiji",
          "Solomon Islands",
          "Papua New Guinea",
          "New Zealand",
          "New Caledonia",
          "Australia",
          "Vanuatu",
          "Palau",
          "Samoa"
         ],
         "legendgroup": "Oceania",
         "marker": {
          "color": "#00cc96",
          "size": [
           50.902899,
           50.703995,
           59.119005,
           54.860642,
           50.288217,
           75.788217,
           50.314464,
           50.018174,
           50.200144
          ],
          "sizemode": "area",
          "sizeref": 3.735540255,
          "symbol": "circle"
         },
         "mode": "markers",
         "name": "Oceania",
         "orientation": "v",
         "showlegend": true,
         "type": "scatter",
         "x": [
          4.4771809119696515,
          24.909611251100632,
          49.23336535751861,
          4.8737511785147,
          19.622342937713512,
          5.986063193405418,
          7.797790038264371,
          1.8826015922516475,
          24.836345797197236
         ],
         "xaxis": "x",
         "y": [
          40424.42168236487,
          175362.41772718588,
          4489593.04862039,
          236895.59675838047,
          56554.92814478976,
          1543698.9660725184,
          24521.242465927673,
          342.1440133758143,
          49708.45593234243
         ],
         "yaxis": "y"
        },
        {
         "hovertemplate": "<b>%{hovertext}</b><br><br>region=Europe<br>percent_without_water=%{x}<br>country_pop_without_water=%{y}<br>bubble_size=%{marker.size}<extra></extra>",
         "hovertext": [
          "Sweden",
          "Norway",
          "Malta",
          "Netherlands",
          "Albania",
          "Estonia",
          "France",
          "Slovakia",
          "Finland",
          "Isle of Man",
          "Austria",
          "Lithuania",
          "United Kingdom",
          "Moldova",
          "Hungary",
          "Switzerland",
          "Slovenia",
          "Poland",
          "Italy",
          "Romania",
          "Ireland",
          "Belarus",
          "Latvia",
          "Denmark",
          "North Macedonia",
          "Faeroe Islands",
          "Russia",
          "Belgium",
          "Ukraine",
          "Germany",
          "Czechia",
          "Bosnia and Herzegovina",
          "Serbia",
          "Bulgaria",
          "Croatia",
          "Montenegro",
          "Cyprus",
          "Portugal",
          "Spain",
          "Liechtenstein",
          "Andorra",
          "Iceland",
          "Luxembourg",
          "Greece"
         ],
         "legendgroup": "Europe",
         "marker": {
          "color": "#ab63fa",
          "size": [
           60.160159,
           55.465629,
           50.44279,
           67.17309399999999,
           52.872934,
           51.325188,
           115.426177,
           55.460726,
           55.548361,
           50.08541,
           59.043071999999995,
           52.689862,
           118.207114,
           54.024025,
           59.634162,
           58.715494,
           52.078723,
           87.797,
           110.367471,
           69.12777200000001,
           54.982904,
           59.442867,
           51.866934,
           55.813302,
           52.082661,
           50.049053,
           195.91202199999998,
           61.632334,
           93.466822,
           133.900471,
           60.724553,
           53.263459,
           58.697547,
           56.896655,
           54.081657,
           50.628051,
           51.215588,
           60.167923,
           96.745211,
           50.038254,
           50.077354,
           50.34336,
           50.634814,
           60.370747
          ],
          "sizemode": "area",
          "sizeref": 3.735540255,
          "symbol": "circle"
         },
         "mode": "markers",
         "name": "Europe",
         "orientation": "v",
         "showlegend": true,
         "type": "scatter",
         "x": [
          2.3708783832529123,
          2.1594461713728244,
          0,
          2.576302427653454,
          3.724918881533696,
          5.742991840830716,
          1.6949600640198352,
          3.0788065941851808,
          2.8268699132305874,
          3.344411383372258,
          0.6391295755483352,
          6.592130420915761,
          2.401929468996472,
          10.817392524941091,
          5.758295796722443,
          0.8247344507517866,
          7.213692977132707,
          17.952508227088714,
          4.612185331230167,
          3.4215803061458265,
          4.477122598133135,
          3.1424866619914193,
          3.693575664348346,
          4.197621848692058,
          3.8461781426094035,
          5.011931317774854,
          11.16399083592476,
          4.242144440994976,
          2.200799350662001,
          4.437729580386686,
          4.261803462175692,
          7.71327616825991,
          6.608252475762832,
          5.188473227120525,
          10.165996032122552,
          13.54871418670602,
          11.07996703388159,
          20.158861733854934,
          9.916152285047296,
          0,
          1.175756524255925e-15,
          13.503325192580043,
          2.4043839337582513,
          33.22920100557767
         ],
         "xaxis": "x",
         "y": [
          240885.01343512526,
          118027.3161819428,
          0,
          442430.83762520965,
          107014.46102000127,
          76105.43871566777,
          1108947.5715649307,
          168125.19217838466,
          156844.94778641974,
          2856.4617625382457,
          57796.947690130335,
          177319.2111826531,
          1638286.7711180183,
          435294.5795517608,
          554763.5454954308,
          71879.68157120491,
          149952.69506504232,
          6785509.534592722,
          2784259.6422966253,
          654472.0797564759,
          223090.72102727988,
          296740.8359845893,
          68956.61989344515,
          244020.4348824524,
          80102.85216665042,
          2458.5026693080995,
          16289604.764592517,
          493460.4101389686,
          956617.5363294078,
          3723276.0196507536,
          457059.371056867,
          251719.60530793315,
          574755.864958136,
          357831.09824186907,
          414941.0886648524,
          85092.83493674904,
          134686.74966782055,
          2049737.538774834,
          4635326.30872668,
          0,
          9.094947017729282e-13,
          46365.01738124285,
          15263.365825248104,
          3446116.366409916
         ],
         "yaxis": "y"
        },
        {
         "hovertemplate": "<b>%{hovertext}</b><br><br>region=Asia<br>percent_without_water=%{x}<br>country_pop_without_water=%{y}<br>bubble_size=%{marker.size}<extra></extra>",
         "hovertext": [
          "Japan",
          "Philippines",
          "Brunei",
          "Azerbaijan",
          "Vietnam",
          "Georgia",
          "Thailand",
          "Armenia",
          "Nepal",
          "Kyrgyzstan",
          "Myanmar",
          "Bangladesh",
          "Laos",
          "Pakistan",
          "Taiwan",
          "China",
          "Cambodia",
          "Malaysia",
          "Turkey",
          "Tajikistan",
          "Mongolia",
          "Iraq",
          "Uzbekistan",
          "North Korea",
          "Sri Lanka",
          "India",
          "Indonesia",
          "Bhutan",
          "Kazakhstan",
          "South Korea",
          "Iran",
          "Afghanistan",
          "Singapore",
          "Lebanon",
          "Syria",
          "Jordan",
          "Israel",
          "Turkmenistan",
          "Hong Kong",
          "Palestine",
          "Yemen",
          "Timor",
          "Oman",
          "Kuwait",
          "United Arab Emirates",
          "Qatar",
          "Saudi Arabia"
         ],
         "legendgroup": "Asia",
         "marker": {
          "color": "#FFA15A",
          "size": [
           176.050796,
           161.04690999999997,
           50.441532,
           60.223344,
           148.16882900000002,
           53.979773,
           119.950844,
           52.968128,
           79.67492,
           56.628347,
           104.80601399999999,
           216.303494,
           57.379357999999996,
           275.199929,
           73.855008,
           1494.216102,
           66.946446,
           82.776195,
           135.042736,
           59.749624999999995,
           53.329282,
           91.179351,
           83.935765,
           75.887045,
           71.497306,
           1443.409033,
           326.36178799999993,
           50.7799,
           68.994958,
           101.305184,
           135.02876,
           89.83542800000001,
           55.896684,
           56.769151,
           68.27570399999999,
           60.269022,
           58.789776,
           56.117933,
           57.5528,
           55.222756000000004,
           80.490639,
           51.343875,
           55.223376,
           54.328553,
           59.991083,
           52.930524,
           85.34067999999999
          ],
          "sizemode": "area",
          "sizeref": 3.735540255,
          "symbol": "circle"
         },
         "mode": "markers",
         "name": "Asia",
         "orientation": "v",
         "showlegend": true,
         "type": "scatter",
         "x": [
          7.206440949684705,
          4.389696324499797,
          6.86667579454026,
          4.850835793069335,
          2.496385739060982,
          6.6199603668928075,
          4.190848344588197,
          2.3863697662520327,
          5.812160338394957,
          11.329009925284717,
          20.592727410058817,
          0.7397519246651826,
          15.794914546767371,
          6.909542350253731,
          5.172586378859298,
          8.152532215039605,
          13.455330352047126,
          8.873077789136188,
          12.192849956407574,
          28.143234066921092,
          28.3171207020952,
          16.890155961580838,
          15.600345463637073,
          14.10218731569298,
          10.249617691613915,
          7.487839160140826,
          11.48503329105598,
          17.85828008813878,
          23.35935322191158,
          10.95108026914319,
          33.08529606736356,
          25.96593794456895,
          21.395348929260226,
          30.27131791455145,
          32.21985833524164,
          44.765790568290264,
          65.38799674084426,
          13.861100428899853,
          38.697965672800905,
          52.44193186893419,
          51.29861194211151,
          72.51249837130159,
          77.2379515191491,
          69.13987229951495,
          98.31201843342518,
          75.14060926948962,
          81.53952503591958
         ],
         "xaxis": "x",
         "y": [
          9083776.180347528,
          4874622.126740597,
          30318.57096914951,
          495917.6300006062,
          2450672.6473591616,
          263459.3952923009,
          2931533.787799472,
          70830.50921566114,
          1724753.930690433,
          750926.0895123119,
          11286053.067338672,
          1230233.2976504464,
          1165563.2902000418,
          15560284.46699633,
          1233920.8944837959,
          117740182.97033922,
          2280200.2922312757,
          2908257.278668966,
          10369133.199303808,
          2743859.784397055,
          942756.802453129,
          6955256.6078667985,
          5294096.575728038,
          3650639.5763977333,
          2203391.67899638,
          104336227.2339136,
          31740243.355557546,
          139276.72640739437,
          4437099.333573752,
          5618471.882071609,
          28132016.988407996,
          10343642.514433445,
          1261616.1170558594,
          2049111.2193260384,
          5888405.938568089,
          4597008.881931653,
          5747458.444407511,
          848012.8373028055,
          2922779.9513353067,
          2738914.143200672,
          15641274.579280108,
          974477.3374873291,
          4034428.6225428698,
          2992756.016616823,
          9822435.36065881,
          2202013.5883886185,
          28816622.616464224
         ],
         "yaxis": "y"
        }
       ],
       "layout": {
        "legend": {
         "itemsizing": "constant",
         "title": {
          "text": "region"
         },
         "tracegroupgap": 0
        },
        "template": {
         "data": {
          "bar": [
           {
            "error_x": {
             "color": "#2a3f5f"
            },
            "error_y": {
             "color": "#2a3f5f"
            },
            "marker": {
             "line": {
              "color": "#E5ECF6",
              "width": 0.5
             },
             "pattern": {
              "fillmode": "overlay",
              "size": 10,
              "solidity": 0.2
             }
            },
            "type": "bar"
           }
          ],
          "barpolar": [
           {
            "marker": {
             "line": {
              "color": "#E5ECF6",
              "width": 0.5
             },
             "pattern": {
              "fillmode": "overlay",
              "size": 10,
              "solidity": 0.2
             }
            },
            "type": "barpolar"
           }
          ],
          "carpet": [
           {
            "aaxis": {
             "endlinecolor": "#2a3f5f",
             "gridcolor": "white",
             "linecolor": "white",
             "minorgridcolor": "white",
             "startlinecolor": "#2a3f5f"
            },
            "baxis": {
             "endlinecolor": "#2a3f5f",
             "gridcolor": "white",
             "linecolor": "white",
             "minorgridcolor": "white",
             "startlinecolor": "#2a3f5f"
            },
            "type": "carpet"
           }
          ],
          "choropleth": [
           {
            "colorbar": {
             "outlinewidth": 0,
             "ticks": ""
            },
            "type": "choropleth"
           }
          ],
          "contour": [
           {
            "colorbar": {
             "outlinewidth": 0,
             "ticks": ""
            },
            "colorscale": [
             [
              0,
              "#0d0887"
             ],
             [
              0.1111111111111111,
              "#46039f"
             ],
             [
              0.2222222222222222,
              "#7201a8"
             ],
             [
              0.3333333333333333,
              "#9c179e"
             ],
             [
              0.4444444444444444,
              "#bd3786"
             ],
             [
              0.5555555555555556,
              "#d8576b"
             ],
             [
              0.6666666666666666,
              "#ed7953"
             ],
             [
              0.7777777777777778,
              "#fb9f3a"
             ],
             [
              0.8888888888888888,
              "#fdca26"
             ],
             [
              1,
              "#f0f921"
             ]
            ],
            "type": "contour"
           }
          ],
          "contourcarpet": [
           {
            "colorbar": {
             "outlinewidth": 0,
             "ticks": ""
            },
            "type": "contourcarpet"
           }
          ],
          "heatmap": [
           {
            "colorbar": {
             "outlinewidth": 0,
             "ticks": ""
            },
            "colorscale": [
             [
              0,
              "#0d0887"
             ],
             [
              0.1111111111111111,
              "#46039f"
             ],
             [
              0.2222222222222222,
              "#7201a8"
             ],
             [
              0.3333333333333333,
              "#9c179e"
             ],
             [
              0.4444444444444444,
              "#bd3786"
             ],
             [
              0.5555555555555556,
              "#d8576b"
             ],
             [
              0.6666666666666666,
              "#ed7953"
             ],
             [
              0.7777777777777778,
              "#fb9f3a"
             ],
             [
              0.8888888888888888,
              "#fdca26"
             ],
             [
              1,
              "#f0f921"
             ]
            ],
            "type": "heatmap"
           }
          ],
          "heatmapgl": [
           {
            "colorbar": {
             "outlinewidth": 0,
             "ticks": ""
            },
            "colorscale": [
             [
              0,
              "#0d0887"
             ],
             [
              0.1111111111111111,
              "#46039f"
             ],
             [
              0.2222222222222222,
              "#7201a8"
             ],
             [
              0.3333333333333333,
              "#9c179e"
             ],
             [
              0.4444444444444444,
              "#bd3786"
             ],
             [
              0.5555555555555556,
              "#d8576b"
             ],
             [
              0.6666666666666666,
              "#ed7953"
             ],
             [
              0.7777777777777778,
              "#fb9f3a"
             ],
             [
              0.8888888888888888,
              "#fdca26"
             ],
             [
              1,
              "#f0f921"
             ]
            ],
            "type": "heatmapgl"
           }
          ],
          "histogram": [
           {
            "marker": {
             "pattern": {
              "fillmode": "overlay",
              "size": 10,
              "solidity": 0.2
             }
            },
            "type": "histogram"
           }
          ],
          "histogram2d": [
           {
            "colorbar": {
             "outlinewidth": 0,
             "ticks": ""
            },
            "colorscale": [
             [
              0,
              "#0d0887"
             ],
             [
              0.1111111111111111,
              "#46039f"
             ],
             [
              0.2222222222222222,
              "#7201a8"
             ],
             [
              0.3333333333333333,
              "#9c179e"
             ],
             [
              0.4444444444444444,
              "#bd3786"
             ],
             [
              0.5555555555555556,
              "#d8576b"
             ],
             [
              0.6666666666666666,
              "#ed7953"
             ],
             [
              0.7777777777777778,
              "#fb9f3a"
             ],
             [
              0.8888888888888888,
              "#fdca26"
             ],
             [
              1,
              "#f0f921"
             ]
            ],
            "type": "histogram2d"
           }
          ],
          "histogram2dcontour": [
           {
            "colorbar": {
             "outlinewidth": 0,
             "ticks": ""
            },
            "colorscale": [
             [
              0,
              "#0d0887"
             ],
             [
              0.1111111111111111,
              "#46039f"
             ],
             [
              0.2222222222222222,
              "#7201a8"
             ],
             [
              0.3333333333333333,
              "#9c179e"
             ],
             [
              0.4444444444444444,
              "#bd3786"
             ],
             [
              0.5555555555555556,
              "#d8576b"
             ],
             [
              0.6666666666666666,
              "#ed7953"
             ],
             [
              0.7777777777777778,
              "#fb9f3a"
             ],
             [
              0.8888888888888888,
              "#fdca26"
             ],
             [
              1,
              "#f0f921"
             ]
            ],
            "type": "histogram2dcontour"
           }
          ],
          "mesh3d": [
           {
            "colorbar": {
             "outlinewidth": 0,
             "ticks": ""
            },
            "type": "mesh3d"
           }
          ],
          "parcoords": [
           {
            "line": {
             "colorbar": {
              "outlinewidth": 0,
              "ticks": ""
             }
            },
            "type": "parcoords"
           }
          ],
          "pie": [
           {
            "automargin": true,
            "type": "pie"
           }
          ],
          "scatter": [
           {
            "fillpattern": {
             "fillmode": "overlay",
             "size": 10,
             "solidity": 0.2
            },
            "type": "scatter"
           }
          ],
          "scatter3d": [
           {
            "line": {
             "colorbar": {
              "outlinewidth": 0,
              "ticks": ""
             }
            },
            "marker": {
             "colorbar": {
              "outlinewidth": 0,
              "ticks": ""
             }
            },
            "type": "scatter3d"
           }
          ],
          "scattercarpet": [
           {
            "marker": {
             "colorbar": {
              "outlinewidth": 0,
              "ticks": ""
             }
            },
            "type": "scattercarpet"
           }
          ],
          "scattergeo": [
           {
            "marker": {
             "colorbar": {
              "outlinewidth": 0,
              "ticks": ""
             }
            },
            "type": "scattergeo"
           }
          ],
          "scattergl": [
           {
            "marker": {
             "colorbar": {
              "outlinewidth": 0,
              "ticks": ""
             }
            },
            "type": "scattergl"
           }
          ],
          "scattermapbox": [
           {
            "marker": {
             "colorbar": {
              "outlinewidth": 0,
              "ticks": ""
             }
            },
            "type": "scattermapbox"
           }
          ],
          "scatterpolar": [
           {
            "marker": {
             "colorbar": {
              "outlinewidth": 0,
              "ticks": ""
             }
            },
            "type": "scatterpolar"
           }
          ],
          "scatterpolargl": [
           {
            "marker": {
             "colorbar": {
              "outlinewidth": 0,
              "ticks": ""
             }
            },
            "type": "scatterpolargl"
           }
          ],
          "scatterternary": [
           {
            "marker": {
             "colorbar": {
              "outlinewidth": 0,
              "ticks": ""
             }
            },
            "type": "scatterternary"
           }
          ],
          "surface": [
           {
            "colorbar": {
             "outlinewidth": 0,
             "ticks": ""
            },
            "colorscale": [
             [
              0,
              "#0d0887"
             ],
             [
              0.1111111111111111,
              "#46039f"
             ],
             [
              0.2222222222222222,
              "#7201a8"
             ],
             [
              0.3333333333333333,
              "#9c179e"
             ],
             [
              0.4444444444444444,
              "#bd3786"
             ],
             [
              0.5555555555555556,
              "#d8576b"
             ],
             [
              0.6666666666666666,
              "#ed7953"
             ],
             [
              0.7777777777777778,
              "#fb9f3a"
             ],
             [
              0.8888888888888888,
              "#fdca26"
             ],
             [
              1,
              "#f0f921"
             ]
            ],
            "type": "surface"
           }
          ],
          "table": [
           {
            "cells": {
             "fill": {
              "color": "#EBF0F8"
             },
             "line": {
              "color": "white"
             }
            },
            "header": {
             "fill": {
              "color": "#C8D4E3"
             },
             "line": {
              "color": "white"
             }
            },
            "type": "table"
           }
          ]
         },
         "layout": {
          "annotationdefaults": {
           "arrowcolor": "#2a3f5f",
           "arrowhead": 0,
           "arrowwidth": 1
          },
          "autotypenumbers": "strict",
          "coloraxis": {
           "colorbar": {
            "outlinewidth": 0,
            "ticks": ""
           }
          },
          "colorscale": {
           "diverging": [
            [
             0,
             "#8e0152"
            ],
            [
             0.1,
             "#c51b7d"
            ],
            [
             0.2,
             "#de77ae"
            ],
            [
             0.3,
             "#f1b6da"
            ],
            [
             0.4,
             "#fde0ef"
            ],
            [
             0.5,
             "#f7f7f7"
            ],
            [
             0.6,
             "#e6f5d0"
            ],
            [
             0.7,
             "#b8e186"
            ],
            [
             0.8,
             "#7fbc41"
            ],
            [
             0.9,
             "#4d9221"
            ],
            [
             1,
             "#276419"
            ]
           ],
           "sequential": [
            [
             0,
             "#0d0887"
            ],
            [
             0.1111111111111111,
             "#46039f"
            ],
            [
             0.2222222222222222,
             "#7201a8"
            ],
            [
             0.3333333333333333,
             "#9c179e"
            ],
            [
             0.4444444444444444,
             "#bd3786"
            ],
            [
             0.5555555555555556,
             "#d8576b"
            ],
            [
             0.6666666666666666,
             "#ed7953"
            ],
            [
             0.7777777777777778,
             "#fb9f3a"
            ],
            [
             0.8888888888888888,
             "#fdca26"
            ],
            [
             1,
             "#f0f921"
            ]
           ],
           "sequentialminus": [
            [
             0,
             "#0d0887"
            ],
            [
             0.1111111111111111,
             "#46039f"
            ],
            [
             0.2222222222222222,
             "#7201a8"
            ],
            [
             0.3333333333333333,
             "#9c179e"
            ],
            [
             0.4444444444444444,
             "#bd3786"
            ],
            [
             0.5555555555555556,
             "#d8576b"
            ],
            [
             0.6666666666666666,
             "#ed7953"
            ],
            [
             0.7777777777777778,
             "#fb9f3a"
            ],
            [
             0.8888888888888888,
             "#fdca26"
            ],
            [
             1,
             "#f0f921"
            ]
           ]
          },
          "colorway": [
           "#636efa",
           "#EF553B",
           "#00cc96",
           "#ab63fa",
           "#FFA15A",
           "#19d3f3",
           "#FF6692",
           "#B6E880",
           "#FF97FF",
           "#FECB52"
          ],
          "font": {
           "color": "#2a3f5f"
          },
          "geo": {
           "bgcolor": "white",
           "lakecolor": "white",
           "landcolor": "#E5ECF6",
           "showlakes": true,
           "showland": true,
           "subunitcolor": "white"
          },
          "hoverlabel": {
           "align": "left"
          },
          "hovermode": "closest",
          "mapbox": {
           "style": "light"
          },
          "paper_bgcolor": "white",
          "plot_bgcolor": "#E5ECF6",
          "polar": {
           "angularaxis": {
            "gridcolor": "white",
            "linecolor": "white",
            "ticks": ""
           },
           "bgcolor": "#E5ECF6",
           "radialaxis": {
            "gridcolor": "white",
            "linecolor": "white",
            "ticks": ""
           }
          },
          "scene": {
           "xaxis": {
            "backgroundcolor": "#E5ECF6",
            "gridcolor": "white",
            "gridwidth": 2,
            "linecolor": "white",
            "showbackground": true,
            "ticks": "",
            "zerolinecolor": "white"
           },
           "yaxis": {
            "backgroundcolor": "#E5ECF6",
            "gridcolor": "white",
            "gridwidth": 2,
            "linecolor": "white",
            "showbackground": true,
            "ticks": "",
            "zerolinecolor": "white"
           },
           "zaxis": {
            "backgroundcolor": "#E5ECF6",
            "gridcolor": "white",
            "gridwidth": 2,
            "linecolor": "white",
            "showbackground": true,
            "ticks": "",
            "zerolinecolor": "white"
           }
          },
          "shapedefaults": {
           "line": {
            "color": "#2a3f5f"
           }
          },
          "ternary": {
           "aaxis": {
            "gridcolor": "white",
            "linecolor": "white",
            "ticks": ""
           },
           "baxis": {
            "gridcolor": "white",
            "linecolor": "white",
            "ticks": ""
           },
           "bgcolor": "#E5ECF6",
           "caxis": {
            "gridcolor": "white",
            "linecolor": "white",
            "ticks": ""
           }
          },
          "title": {
           "x": 0.05
          },
          "xaxis": {
           "automargin": true,
           "gridcolor": "white",
           "linecolor": "white",
           "ticks": "",
           "title": {
            "standoff": 15
           },
           "zerolinecolor": "white",
           "zerolinewidth": 2
          },
          "yaxis": {
           "automargin": true,
           "gridcolor": "white",
           "linecolor": "white",
           "ticks": "",
           "title": {
            "standoff": 15
           },
           "zerolinecolor": "white",
           "zerolinewidth": 2
          }
         }
        },
        "title": {
         "text": "Population vs. Percent Without Water"
        },
        "xaxis": {
         "anchor": "y",
         "domain": [
          0,
          1
         ],
         "title": {
          "text": "percent_without_water"
         }
        },
        "yaxis": {
         "anchor": "x",
         "domain": [
          0,
          1
         ],
         "title": {
          "text": "country_pop_without_water"
         }
        }
       }
      }
     },
     "metadata": {},
     "output_type": "display_data"
    }
   ],
   "source": [
    "# plot the countries by population withgout water and percent without water\n",
    "px.scatter(df_countries, x=\"percent_without_water\", y=\"country_pop_without_water\", size=\"bubble_size\", color=\"region\", hover_name=\"bubble_text\", title=\"Population vs. Percent Without Water\")\n"
   ]
  },
  {
   "cell_type": "code",
   "execution_count": 45,
   "metadata": {},
   "outputs": [
    {
     "data": {
      "text/html": [
       "<div>\n",
       "<style scoped>\n",
       "    .dataframe tbody tr th:only-of-type {\n",
       "        vertical-align: middle;\n",
       "    }\n",
       "\n",
       "    .dataframe tbody tr th {\n",
       "        vertical-align: top;\n",
       "    }\n",
       "\n",
       "    .dataframe thead th {\n",
       "        text-align: right;\n",
       "    }\n",
       "</style>\n",
       "<table border=\"1\" class=\"dataframe\">\n",
       "  <thead>\n",
       "    <tr style=\"text-align: right;\">\n",
       "      <th></th>\n",
       "      <th>zone_pop_unpiped</th>\n",
       "      <th>zone_pop_piped</th>\n",
       "      <th>pop_zone</th>\n",
       "    </tr>\n",
       "  </thead>\n",
       "  <tbody>\n",
       "    <tr>\n",
       "      <th>count</th>\n",
       "      <td>6989.000000</td>\n",
       "      <td>6989.000000</td>\n",
       "      <td>6989.000000</td>\n",
       "    </tr>\n",
       "    <tr>\n",
       "      <th>mean</th>\n",
       "      <td>333.000173</td>\n",
       "      <td>14.005927</td>\n",
       "      <td>703.704579</td>\n",
       "    </tr>\n",
       "    <tr>\n",
       "      <th>std</th>\n",
       "      <td>1584.341692</td>\n",
       "      <td>637.787037</td>\n",
       "      <td>3228.167566</td>\n",
       "    </tr>\n",
       "    <tr>\n",
       "      <th>min</th>\n",
       "      <td>4.921786</td>\n",
       "      <td>0.000000</td>\n",
       "      <td>10.471884</td>\n",
       "    </tr>\n",
       "    <tr>\n",
       "      <th>25%</th>\n",
       "      <td>52.380365</td>\n",
       "      <td>0.000000</td>\n",
       "      <td>111.447585</td>\n",
       "    </tr>\n",
       "    <tr>\n",
       "      <th>50%</th>\n",
       "      <td>137.371647</td>\n",
       "      <td>0.000000</td>\n",
       "      <td>292.280099</td>\n",
       "    </tr>\n",
       "    <tr>\n",
       "      <th>75%</th>\n",
       "      <td>375.727821</td>\n",
       "      <td>0.000000</td>\n",
       "      <td>799.420895</td>\n",
       "    </tr>\n",
       "    <tr>\n",
       "      <th>max</th>\n",
       "      <td>51604.171664</td>\n",
       "      <td>30764.025415</td>\n",
       "      <td>99238.791662</td>\n",
       "    </tr>\n",
       "  </tbody>\n",
       "</table>\n",
       "</div>"
      ],
      "text/plain": [
       "       zone_pop_unpiped  zone_pop_piped      pop_zone\n",
       "count       6989.000000     6989.000000   6989.000000\n",
       "mean         333.000173       14.005927    703.704579\n",
       "std         1584.341692      637.787037   3228.167566\n",
       "min            4.921786        0.000000     10.471884\n",
       "25%           52.380365        0.000000    111.447585\n",
       "50%          137.371647        0.000000    292.280099\n",
       "75%          375.727821        0.000000    799.420895\n",
       "max        51604.171664    30764.025415  99238.791662"
      ]
     },
     "execution_count": 45,
     "metadata": {},
     "output_type": "execute_result"
    }
   ],
   "source": [
    "# summary statistics of zones by for slected country\n",
    "# select country\n",
    "country = \"CAF\"\n",
    "\n",
    "# interertsinbg ciolumns\n",
    "interesting_cols =[\n",
    "    \"Entity\",\n",
    "    \"dtw_1\",\n",
    "    \"pop_zone\",\n",
    "    \"country_pop_raw\",\n",
    "    \"population_piped_with_access\",\n",
    "    \"population_piped_with_cycling_access\",\n",
    "    \"population_piped_with_walking_access\",\n",
    "    \"Nat Piped\",\n",
    "    \"region\",\n",
    "]\n",
    "\n",
    "other_cols = [\n",
    "    \"zone_pop_unpiped\",\n",
    "    \"zone_pop_piped\",\n",
    "    \"pop_zone\"\n",
    "\n",
    "]\n",
    "\n",
    "# create dataframe of zones for selected country\n",
    "df_zones_country = df_zones[df_zones[\"ISOCODE\"] == country]\n",
    "df_zones_country = df_zones_country[other_cols]\n",
    "\n",
    "# create summary statistics\n",
    "df_zones_country.describe()\n",
    "\n",
    "\n",
    "\n",
    "\n",
    "\n"
   ]
  },
  {
   "cell_type": "code",
   "execution_count": 46,
   "metadata": {},
   "outputs": [
    {
     "data": {
      "application/vnd.plotly.v1+json": {
       "config": {
        "plotlyServerURL": "https://plotly.com"
       },
       "data": [
        {
         "alignmentgroup": "True",
         "customdata": [
          [
           "British Virgin Islands"
          ],
          [
           "Saint Martin (French part)"
          ],
          [
           "Panama"
          ],
          [
           "Mauritius"
          ],
          [
           "Congo"
          ],
          [
           "Suriname"
          ],
          [
           "Eswatini"
          ],
          [
           "Fiji"
          ],
          [
           "Sweden"
          ],
          [
           "Greenland"
          ],
          [
           "Guyana"
          ],
          [
           "Solomon Islands"
          ],
          [
           "Japan"
          ],
          [
           "Papua New Guinea"
          ],
          [
           "Philippines"
          ],
          [
           "Lesotho"
          ],
          [
           "New Zealand"
          ],
          [
           "Norway"
          ],
          [
           "Malta"
          ],
          [
           "Netherlands"
          ],
          [
           "Puerto Rico"
          ],
          [
           "Brunei"
          ],
          [
           "New Caledonia"
          ],
          [
           "Albania"
          ],
          [
           "Azerbaijan"
          ],
          [
           "Australia"
          ],
          [
           "Belize"
          ],
          [
           "Vietnam"
          ],
          [
           "Estonia"
          ],
          [
           "France"
          ],
          [
           "Georgia"
          ],
          [
           "Slovakia"
          ],
          [
           "Finland"
          ],
          [
           "Isle of Man"
          ],
          [
           "Austria"
          ],
          [
           "Lithuania"
          ],
          [
           "Thailand"
          ],
          [
           "Armenia"
          ],
          [
           "United Kingdom"
          ],
          [
           "Moldova"
          ],
          [
           "El Salvador"
          ],
          [
           "Malawi"
          ],
          [
           "Hungary"
          ],
          [
           "Canada"
          ],
          [
           "Switzerland"
          ],
          [
           "Nepal"
          ],
          [
           "Kyrgyzstan"
          ],
          [
           "Slovenia"
          ],
          [
           "Myanmar"
          ],
          [
           "French Guiana"
          ],
          [
           "Bangladesh"
          ],
          [
           "Poland"
          ],
          [
           "Italy"
          ],
          [
           "Guinea-Bissau"
          ],
          [
           "Laos"
          ],
          [
           "Equatorial Guinea"
          ],
          [
           "Romania"
          ],
          [
           "Sierra Leone"
          ],
          [
           "Uganda"
          ],
          [
           "Ireland"
          ],
          [
           "Zambia"
          ],
          [
           "Belarus"
          ],
          [
           "Pakistan"
          ],
          [
           "Latvia"
          ],
          [
           "Denmark"
          ],
          [
           "North Macedonia"
          ],
          [
           "Vanuatu"
          ],
          [
           "Tanzania"
          ],
          [
           "Faeroe Islands"
          ],
          [
           "Central African Republic"
          ],
          [
           "Democratic Republic of Congo"
          ],
          [
           "Mozambique"
          ],
          [
           "Taiwan"
          ],
          [
           "China"
          ],
          [
           "Palau"
          ],
          [
           "Russia"
          ],
          [
           "Cambodia"
          ],
          [
           "Belgium"
          ],
          [
           "Burundi"
          ],
          [
           "South Africa"
          ],
          [
           "Ukraine"
          ],
          [
           "Honduras"
          ],
          [
           "Guatemala"
          ],
          [
           "Germany"
          ],
          [
           "Czechia"
          ],
          [
           "Bosnia and Herzegovina"
          ],
          [
           "Guinea"
          ],
          [
           "Malaysia"
          ],
          [
           "Serbia"
          ],
          [
           "Bulgaria"
          ],
          [
           "Costa Rica"
          ],
          [
           "Dominican Republic"
          ],
          [
           "Cameroon"
          ],
          [
           "Croatia"
          ],
          [
           "Haiti"
          ],
          [
           "Turkey"
          ],
          [
           "Tajikistan"
          ],
          [
           "Montenegro"
          ],
          [
           "Mongolia"
          ],
          [
           "Cyprus"
          ],
          [
           "Madagascar"
          ],
          [
           "Chile"
          ],
          [
           "Nigeria"
          ],
          [
           "Colombia"
          ],
          [
           "Rwanda"
          ],
          [
           "Togo"
          ],
          [
           "Portugal"
          ],
          [
           "Iraq"
          ],
          [
           "Reunion"
          ],
          [
           "Uzbekistan"
          ],
          [
           "Egypt"
          ],
          [
           "North Korea"
          ],
          [
           "Zimbabwe"
          ],
          [
           "Spain"
          ],
          [
           "Turks and Caicos Islands"
          ],
          [
           "Liechtenstein"
          ],
          [
           "Sri Lanka"
          ],
          [
           "India"
          ],
          [
           "Bahamas"
          ],
          [
           "Curacao"
          ],
          [
           "United States"
          ],
          [
           "Jamaica"
          ],
          [
           "Indonesia"
          ],
          [
           "Nicaragua"
          ],
          [
           "Angola"
          ],
          [
           "Bhutan"
          ],
          [
           "Ecuador"
          ],
          [
           "Liberia"
          ],
          [
           "Kazakhstan"
          ],
          [
           "Cuba"
          ],
          [
           "Cote d'Ivoire"
          ],
          [
           "Andorra"
          ],
          [
           "Guadeloupe"
          ],
          [
           "Ghana"
          ],
          [
           "Gambia"
          ],
          [
           "Kenya"
          ],
          [
           "South Korea"
          ],
          [
           "Paraguay"
          ],
          [
           "Gabon"
          ],
          [
           "Brazil"
          ],
          [
           "Iceland"
          ],
          [
           "Luxembourg"
          ],
          [
           "Peru"
          ],
          [
           "Saint Vincent and the Grenadines"
          ],
          [
           "Trinidad and Tobago"
          ],
          [
           "Saint Lucia"
          ],
          [
           "Martinique"
          ],
          [
           "Montserrat"
          ],
          [
           "Benin"
          ],
          [
           "Sao Tome and Principe"
          ],
          [
           "Bolivia"
          ],
          [
           "Venezuela"
          ],
          [
           "Iran"
          ],
          [
           "Mexico"
          ],
          [
           "Afghanistan"
          ],
          [
           "Argentina"
          ],
          [
           "Greece"
          ],
          [
           "Singapore"
          ],
          [
           "Grenada"
          ],
          [
           "Samoa"
          ],
          [
           "Uruguay"
          ],
          [
           "Lebanon"
          ],
          [
           "Ethiopia"
          ],
          [
           "Morocco"
          ],
          [
           "Algeria"
          ],
          [
           "Saint Pierre and Miquelon"
          ],
          [
           "Syria"
          ],
          [
           "Bonaire Sint Eustatius and Saba"
          ],
          [
           "Falkland Islands"
          ],
          [
           "Mali"
          ],
          [
           "Saint Kitts and Nevis"
          ],
          [
           "Jordan"
          ],
          [
           "South Sudan"
          ],
          [
           "Burkina Faso"
          ],
          [
           "Tunisia"
          ],
          [
           "Israel"
          ],
          [
           "Senegal"
          ],
          [
           "Turkmenistan"
          ],
          [
           "Hong Kong"
          ],
          [
           "Palestine"
          ],
          [
           "Chad"
          ],
          [
           "Eritrea"
          ],
          [
           "Yemen"
          ],
          [
           "Namibia"
          ],
          [
           "Mauritania"
          ],
          [
           "Timor"
          ],
          [
           "Niger"
          ],
          [
           "Botswana"
          ],
          [
           "Djibouti"
          ],
          [
           "Sudan"
          ],
          [
           "Oman"
          ],
          [
           "United States Virgin Islands"
          ],
          [
           "Somalia"
          ],
          [
           "Kuwait"
          ],
          [
           "Western Sahara"
          ],
          [
           "United Arab Emirates"
          ],
          [
           "Qatar"
          ],
          [
           "Saudi Arabia"
          ],
          [
           "Libya"
          ]
         ],
         "hovertemplate": "variable=country_pop_with_water<br>region=%{x}<br>value=%{y}<br>Entity=%{customdata[0]}<extra></extra>",
         "legendgroup": "country_pop_with_water",
         "marker": {
          "color": "#636efa",
          "pattern": {
           "shape": ""
          }
         },
         "name": "country_pop_with_water",
         "offsetgroup": "country_pop_with_water",
         "orientation": "v",
         "showlegend": true,
         "textposition": "auto",
         "type": "bar",
         "x": [
          "Americas",
          "Americas",
          "Americas",
          "Africa",
          "Africa",
          "Americas",
          "Africa",
          "Oceania",
          "Europe",
          "Americas",
          "Americas",
          "Oceania",
          "Asia",
          "Oceania",
          "Asia",
          "Africa",
          "Oceania",
          "Europe",
          "Europe",
          "Europe",
          "Americas",
          "Asia",
          "Oceania",
          "Europe",
          "Asia",
          "Oceania",
          "Americas",
          "Asia",
          "Europe",
          "Europe",
          "Asia",
          "Europe",
          "Europe",
          "Europe",
          "Europe",
          "Europe",
          "Asia",
          "Asia",
          "Europe",
          "Europe",
          "Americas",
          "Africa",
          "Europe",
          "Americas",
          "Europe",
          "Asia",
          "Asia",
          "Europe",
          "Asia",
          "Americas",
          "Asia",
          "Europe",
          "Europe",
          "Africa",
          "Asia",
          "Africa",
          "Europe",
          "Africa",
          "Africa",
          "Europe",
          "Africa",
          "Europe",
          "Asia",
          "Europe",
          "Europe",
          "Europe",
          "Oceania",
          "Africa",
          "Europe",
          "Africa",
          "Africa",
          "Africa",
          "Asia",
          "Asia",
          "Oceania",
          "Europe",
          "Asia",
          "Europe",
          "Africa",
          "Africa",
          "Europe",
          "Americas",
          "Americas",
          "Europe",
          "Europe",
          "Europe",
          "Africa",
          "Asia",
          "Europe",
          "Europe",
          "Americas",
          "Americas",
          "Africa",
          "Europe",
          "Americas",
          "Asia",
          "Asia",
          "Europe",
          "Asia",
          "Europe",
          "Africa",
          "Americas",
          "Africa",
          "Americas",
          "Africa",
          "Africa",
          "Europe",
          "Asia",
          "Africa",
          "Asia",
          "Africa",
          "Asia",
          "Africa",
          "Europe",
          "Americas",
          "Europe",
          "Asia",
          "Asia",
          "Americas",
          "Americas",
          "Americas",
          "Americas",
          "Asia",
          "Americas",
          "Africa",
          "Asia",
          "Americas",
          "Africa",
          "Asia",
          "Americas",
          "Africa",
          "Europe",
          "Americas",
          "Africa",
          "Africa",
          "Africa",
          "Asia",
          "Americas",
          "Africa",
          "Americas",
          "Europe",
          "Europe",
          "Americas",
          "Americas",
          "Americas",
          "Americas",
          "Americas",
          "Americas",
          "Africa",
          "Africa",
          "Americas",
          "Americas",
          "Asia",
          "Americas",
          "Asia",
          "Americas",
          "Europe",
          "Asia",
          "Americas",
          "Oceania",
          "Americas",
          "Asia",
          "Africa",
          "Africa",
          "Africa",
          "Americas",
          "Asia",
          "Americas",
          "Americas",
          "Africa",
          "Americas",
          "Asia",
          "Africa",
          "Africa",
          "Africa",
          "Asia",
          "Africa",
          "Asia",
          "Asia",
          "Asia",
          "Africa",
          "Africa",
          "Asia",
          "Africa",
          "Africa",
          "Asia",
          "Africa",
          "Africa",
          "Africa",
          "Africa",
          "Asia",
          "Americas",
          "Africa",
          "Asia",
          "Africa",
          "Asia",
          "Asia",
          "Asia",
          "Africa"
         ],
         "xaxis": "x",
         "y": [
          98.33840252580055,
          19387.588683870366,
          3507489.735811559,
          1067716.6246203424,
          3040873.777364963,
          536175.889810899,
          928438.8726143021,
          549007.064918656,
          8958331.32299393,
          23753.738418321,
          708504.6121902462,
          329482.811532291,
          107037512.31530668,
          4260691.161205715,
          96083859.71015887,
          1725245.8694274789,
          3917815.729730169,
          4652642.251497102,
          262146.62556381425,
          16005968.40713634,
          2442983.802868391,
          399220.7296981794,
          169393.67556819817,
          2707825.13101304,
          9727415.702746509,
          21947269.704099935,
          372046.10519571975,
          92454875.7235206,
          1189698.7896667009,
          63063536.88885562,
          3699184.5449323,
          5292600.807821615,
          4961058.805599748,
          51485.76647101841,
          8985275.052309869,
          2497415.6723099193,
          65539643.84674083,
          2897297.490784339,
          63517778.358863205,
          3588730.4204482394,
          5960910.831363656,
          18281712.030010145,
          9079398.45450457,
          33808129.49505174,
          8643614.318428796,
          27950148.35847905,
          5877402.323470443,
          1928770.3049349578,
          42432271.115239024,
          277758.05016748415,
          157537628.6118464,
          30944292.496155336,
          54696285.23026465,
          1114607.124880641,
          6213794.709799958,
          902295.6784904588,
          18455790.042082038,
          4750416.1354677705,
          39725101.08754411,
          4343929.157662515,
          11571765.156489283,
          9146126.16401541,
          209303438.8445677,
          1795094.654406192,
          4602115.48697759,
          2002558.1478333496,
          204820.1789340749,
          40511131.69772333,
          29964.97603506916,
          2425225.6329302173,
          33722034.07923829,
          18664721.90521167,
          21109782.482808575,
          1296155181.43737,
          7011.065353410439,
          128170694.9022297,
          14579627.217020992,
          11138873.589861032,
          10378805.100134123,
          51871408.40437637,
          41966244.38418804,
          8788009.676206706,
          15911039.325256057,
          79733906.0900018,
          10267493.628943134,
          3011739.3946920666,
          9861831.595976217,
          28005099.510974135,
          8122791.135041865,
          6434320.926026767,
          4755714.284071721,
          8966868.058503048,
          18094401.03683195,
          3433842.7216630843,
          6584028.686848354,
          71903659.83658208,
          7005765.215602943,
          528360.0323529056,
          2365780.481155878,
          896912.3211862523,
          11216445.222975349,
          15195984.625035733,
          156114325.31927708,
          41804834.54898636,
          10808344.444182131,
          5601714.153544361,
          7594018.966205455,
          34215537.45254886,
          552663.0146208052,
          28641657.78851805,
          76737259.19767737,
          20984055.50529961,
          10431626.442461241,
          38929395.95607463,
          12510.705542777303,
          38254,
          18564906.976441972,
          1275163034.9363077,
          222593.9077003123,
          77650.76651345677,
          269649926.12905866,
          2267234.31357548,
          229933722.31050125,
          5673710.356086556,
          14794444.945518155,
          640623.2735926057,
          13681444.878137633,
          3760545.080027115,
          14556824.595424224,
          9453328.502891852,
          18013319.763389945,
          77354,
          183855.50524989387,
          24778341.64739977,
          1997058.7079330904,
          36536667.657693215,
          40766872.73141512,
          6242624.071930181,
          1328069.7743637967,
          160274488.80305722,
          239071.70876545314,
          619550.6341747518,
          22145173.890963666,
          24318.87414408469,
          968543.8195447777,
          87844.52376358962,
          204634.270501587,
          4123.424236706265,
          8413822.925792329,
          186448.34542195516,
          9051750.704250826,
          20253603.09165034,
          56650383.86877941,
          88135589.3253867,
          29491785.485566553,
          33026607.014344633,
          5452666.309232296,
          2579686.210996641,
          54956.37029273976,
          137157.59289708495,
          1785102.297894778,
          4610523.9226551065,
          70413971.36036699,
          18639520.873322353,
          32291746.35141052,
          2031.077050118668,
          12308299.18617261,
          3988.766539392758,
          925.5189497884815,
          13827040.700523289,
          13105.170484763525,
          5672013.118068348,
          8479311.702998416,
          14993480.355892748,
          5767064.014387605,
          2977801.8563428293,
          6235069.797501651,
          5269800.504098503,
          1160731.7557245232,
          2483841.8567993282,
          8900918.967165953,
          1718464.1934298328,
          14412172.508017452,
          658117.700245803,
          1570597.9184398842,
          277428.62599255616,
          9527771.770010171,
          721105.4089370733,
          289311.15578337613,
          24472823.556677163,
          923114.2543556656,
          12899.774913081423,
          8733843.52841148,
          266868.4276011461,
          161248.88349254726,
          12936.228808498234,
          380010.6571496462,
          6041477.666230432,
          2019124.205020364
         ],
         "yaxis": "y"
        },
        {
         "alignmentgroup": "True",
         "customdata": [
          [
           "British Virgin Islands"
          ],
          [
           "Saint Martin (French part)"
          ],
          [
           "Panama"
          ],
          [
           "Mauritius"
          ],
          [
           "Congo"
          ],
          [
           "Suriname"
          ],
          [
           "Eswatini"
          ],
          [
           "Fiji"
          ],
          [
           "Sweden"
          ],
          [
           "Greenland"
          ],
          [
           "Guyana"
          ],
          [
           "Solomon Islands"
          ],
          [
           "Japan"
          ],
          [
           "Papua New Guinea"
          ],
          [
           "Philippines"
          ],
          [
           "Lesotho"
          ],
          [
           "New Zealand"
          ],
          [
           "Norway"
          ],
          [
           "Malta"
          ],
          [
           "Netherlands"
          ],
          [
           "Puerto Rico"
          ],
          [
           "Brunei"
          ],
          [
           "New Caledonia"
          ],
          [
           "Albania"
          ],
          [
           "Azerbaijan"
          ],
          [
           "Australia"
          ],
          [
           "Belize"
          ],
          [
           "Vietnam"
          ],
          [
           "Estonia"
          ],
          [
           "France"
          ],
          [
           "Georgia"
          ],
          [
           "Slovakia"
          ],
          [
           "Finland"
          ],
          [
           "Isle of Man"
          ],
          [
           "Austria"
          ],
          [
           "Lithuania"
          ],
          [
           "Thailand"
          ],
          [
           "Armenia"
          ],
          [
           "United Kingdom"
          ],
          [
           "Moldova"
          ],
          [
           "El Salvador"
          ],
          [
           "Malawi"
          ],
          [
           "Hungary"
          ],
          [
           "Canada"
          ],
          [
           "Switzerland"
          ],
          [
           "Nepal"
          ],
          [
           "Kyrgyzstan"
          ],
          [
           "Slovenia"
          ],
          [
           "Myanmar"
          ],
          [
           "French Guiana"
          ],
          [
           "Bangladesh"
          ],
          [
           "Poland"
          ],
          [
           "Italy"
          ],
          [
           "Guinea-Bissau"
          ],
          [
           "Laos"
          ],
          [
           "Equatorial Guinea"
          ],
          [
           "Romania"
          ],
          [
           "Sierra Leone"
          ],
          [
           "Uganda"
          ],
          [
           "Ireland"
          ],
          [
           "Zambia"
          ],
          [
           "Belarus"
          ],
          [
           "Pakistan"
          ],
          [
           "Latvia"
          ],
          [
           "Denmark"
          ],
          [
           "North Macedonia"
          ],
          [
           "Vanuatu"
          ],
          [
           "Tanzania"
          ],
          [
           "Faeroe Islands"
          ],
          [
           "Central African Republic"
          ],
          [
           "Democratic Republic of Congo"
          ],
          [
           "Mozambique"
          ],
          [
           "Taiwan"
          ],
          [
           "China"
          ],
          [
           "Palau"
          ],
          [
           "Russia"
          ],
          [
           "Cambodia"
          ],
          [
           "Belgium"
          ],
          [
           "Burundi"
          ],
          [
           "South Africa"
          ],
          [
           "Ukraine"
          ],
          [
           "Honduras"
          ],
          [
           "Guatemala"
          ],
          [
           "Germany"
          ],
          [
           "Czechia"
          ],
          [
           "Bosnia and Herzegovina"
          ],
          [
           "Guinea"
          ],
          [
           "Malaysia"
          ],
          [
           "Serbia"
          ],
          [
           "Bulgaria"
          ],
          [
           "Costa Rica"
          ],
          [
           "Dominican Republic"
          ],
          [
           "Cameroon"
          ],
          [
           "Croatia"
          ],
          [
           "Haiti"
          ],
          [
           "Turkey"
          ],
          [
           "Tajikistan"
          ],
          [
           "Montenegro"
          ],
          [
           "Mongolia"
          ],
          [
           "Cyprus"
          ],
          [
           "Madagascar"
          ],
          [
           "Chile"
          ],
          [
           "Nigeria"
          ],
          [
           "Colombia"
          ],
          [
           "Rwanda"
          ],
          [
           "Togo"
          ],
          [
           "Portugal"
          ],
          [
           "Iraq"
          ],
          [
           "Reunion"
          ],
          [
           "Uzbekistan"
          ],
          [
           "Egypt"
          ],
          [
           "North Korea"
          ],
          [
           "Zimbabwe"
          ],
          [
           "Spain"
          ],
          [
           "Turks and Caicos Islands"
          ],
          [
           "Liechtenstein"
          ],
          [
           "Sri Lanka"
          ],
          [
           "India"
          ],
          [
           "Bahamas"
          ],
          [
           "Curacao"
          ],
          [
           "United States"
          ],
          [
           "Jamaica"
          ],
          [
           "Indonesia"
          ],
          [
           "Nicaragua"
          ],
          [
           "Angola"
          ],
          [
           "Bhutan"
          ],
          [
           "Ecuador"
          ],
          [
           "Liberia"
          ],
          [
           "Kazakhstan"
          ],
          [
           "Cuba"
          ],
          [
           "Cote d'Ivoire"
          ],
          [
           "Andorra"
          ],
          [
           "Guadeloupe"
          ],
          [
           "Ghana"
          ],
          [
           "Gambia"
          ],
          [
           "Kenya"
          ],
          [
           "South Korea"
          ],
          [
           "Paraguay"
          ],
          [
           "Gabon"
          ],
          [
           "Brazil"
          ],
          [
           "Iceland"
          ],
          [
           "Luxembourg"
          ],
          [
           "Peru"
          ],
          [
           "Saint Vincent and the Grenadines"
          ],
          [
           "Trinidad and Tobago"
          ],
          [
           "Saint Lucia"
          ],
          [
           "Martinique"
          ],
          [
           "Montserrat"
          ],
          [
           "Benin"
          ],
          [
           "Sao Tome and Principe"
          ],
          [
           "Bolivia"
          ],
          [
           "Venezuela"
          ],
          [
           "Iran"
          ],
          [
           "Mexico"
          ],
          [
           "Afghanistan"
          ],
          [
           "Argentina"
          ],
          [
           "Greece"
          ],
          [
           "Singapore"
          ],
          [
           "Grenada"
          ],
          [
           "Samoa"
          ],
          [
           "Uruguay"
          ],
          [
           "Lebanon"
          ],
          [
           "Ethiopia"
          ],
          [
           "Morocco"
          ],
          [
           "Algeria"
          ],
          [
           "Saint Pierre and Miquelon"
          ],
          [
           "Syria"
          ],
          [
           "Bonaire Sint Eustatius and Saba"
          ],
          [
           "Falkland Islands"
          ],
          [
           "Mali"
          ],
          [
           "Saint Kitts and Nevis"
          ],
          [
           "Jordan"
          ],
          [
           "South Sudan"
          ],
          [
           "Burkina Faso"
          ],
          [
           "Tunisia"
          ],
          [
           "Israel"
          ],
          [
           "Senegal"
          ],
          [
           "Turkmenistan"
          ],
          [
           "Hong Kong"
          ],
          [
           "Palestine"
          ],
          [
           "Chad"
          ],
          [
           "Eritrea"
          ],
          [
           "Yemen"
          ],
          [
           "Namibia"
          ],
          [
           "Mauritania"
          ],
          [
           "Timor"
          ],
          [
           "Niger"
          ],
          [
           "Botswana"
          ],
          [
           "Djibouti"
          ],
          [
           "Sudan"
          ],
          [
           "Oman"
          ],
          [
           "United States Virgin Islands"
          ],
          [
           "Somalia"
          ],
          [
           "Kuwait"
          ],
          [
           "Western Sahara"
          ],
          [
           "United Arab Emirates"
          ],
          [
           "Qatar"
          ],
          [
           "Saudi Arabia"
          ],
          [
           "Libya"
          ]
         ],
         "hovertemplate": "variable=country_pop_without_water<br>region=%{x}<br>value=%{y}<br>Entity=%{customdata[0]}<extra></extra>",
         "legendgroup": "country_pop_without_water",
         "marker": {
          "color": "#EF553B",
          "pattern": {
           "shape": ""
          }
         },
         "name": "country_pop_without_water",
         "offsetgroup": "country_pop_without_water",
         "orientation": "v",
         "showlegend": true,
         "textposition": "auto",
         "type": "bar",
         "x": [
          "Americas",
          "Americas",
          "Americas",
          "Africa",
          "Africa",
          "Americas",
          "Africa",
          "Oceania",
          "Europe",
          "Americas",
          "Americas",
          "Oceania",
          "Asia",
          "Oceania",
          "Asia",
          "Africa",
          "Oceania",
          "Europe",
          "Europe",
          "Europe",
          "Americas",
          "Asia",
          "Oceania",
          "Europe",
          "Asia",
          "Oceania",
          "Americas",
          "Asia",
          "Europe",
          "Europe",
          "Asia",
          "Europe",
          "Europe",
          "Europe",
          "Europe",
          "Europe",
          "Asia",
          "Asia",
          "Europe",
          "Europe",
          "Americas",
          "Africa",
          "Europe",
          "Americas",
          "Europe",
          "Asia",
          "Asia",
          "Europe",
          "Asia",
          "Americas",
          "Asia",
          "Europe",
          "Europe",
          "Africa",
          "Asia",
          "Africa",
          "Europe",
          "Africa",
          "Africa",
          "Europe",
          "Africa",
          "Europe",
          "Asia",
          "Europe",
          "Europe",
          "Europe",
          "Oceania",
          "Africa",
          "Europe",
          "Africa",
          "Africa",
          "Africa",
          "Asia",
          "Asia",
          "Oceania",
          "Europe",
          "Asia",
          "Europe",
          "Africa",
          "Africa",
          "Europe",
          "Americas",
          "Americas",
          "Europe",
          "Europe",
          "Europe",
          "Africa",
          "Asia",
          "Europe",
          "Europe",
          "Americas",
          "Americas",
          "Africa",
          "Europe",
          "Americas",
          "Asia",
          "Asia",
          "Europe",
          "Asia",
          "Europe",
          "Africa",
          "Americas",
          "Africa",
          "Americas",
          "Africa",
          "Africa",
          "Europe",
          "Asia",
          "Africa",
          "Asia",
          "Africa",
          "Asia",
          "Africa",
          "Europe",
          "Americas",
          "Europe",
          "Asia",
          "Asia",
          "Americas",
          "Americas",
          "Americas",
          "Americas",
          "Asia",
          "Americas",
          "Africa",
          "Asia",
          "Americas",
          "Africa",
          "Asia",
          "Americas",
          "Africa",
          "Europe",
          "Americas",
          "Africa",
          "Africa",
          "Africa",
          "Asia",
          "Americas",
          "Africa",
          "Americas",
          "Europe",
          "Europe",
          "Americas",
          "Americas",
          "Americas",
          "Americas",
          "Americas",
          "Americas",
          "Africa",
          "Africa",
          "Americas",
          "Americas",
          "Asia",
          "Americas",
          "Asia",
          "Americas",
          "Europe",
          "Asia",
          "Americas",
          "Oceania",
          "Americas",
          "Asia",
          "Africa",
          "Africa",
          "Africa",
          "Americas",
          "Asia",
          "Americas",
          "Americas",
          "Africa",
          "Americas",
          "Asia",
          "Africa",
          "Africa",
          "Africa",
          "Asia",
          "Africa",
          "Asia",
          "Asia",
          "Asia",
          "Africa",
          "Africa",
          "Asia",
          "Africa",
          "Africa",
          "Asia",
          "Africa",
          "Africa",
          "Africa",
          "Africa",
          "Asia",
          "Americas",
          "Africa",
          "Asia",
          "Africa",
          "Asia",
          "Asia",
          "Asia",
          "Africa"
         ],
         "xaxis": "x",
         "y": [
          10.408646080929813,
          0,
          404648.4917726854,
          29819.292961891602,
          2568674.8137489795,
          29901.571124271326,
          243930.1273856981,
          40424.42168236487,
          240885.01343512526,
          4289.071853697791,
          32476.25359440079,
          175362.41772718588,
          9083776.180347528,
          4489593.04862039,
          4874622.126740597,
          433821.1305725211,
          236895.59675838047,
          118027.3161819428,
          0,
          442430.83762520965,
          186401.98126364287,
          30318.57096914951,
          56554.92814478976,
          107014.46102000127,
          495917.6300006062,
          1543698.9660725184,
          8642.487367754926,
          2450672.6473591616,
          76105.43871566777,
          1108947.5715649307,
          263459.3952923009,
          168125.19217838466,
          156844.94778641974,
          2856.4617625382457,
          57796.947690130335,
          177319.2111826531,
          2931533.787799472,
          70830.50921566114,
          1638286.7711180183,
          435294.5795517608,
          483092.432447258,
          1365891.7953684991,
          554763.5454954308,
          2865163.9144585934,
          71879.68157120491,
          1724753.930690433,
          750926.0895123119,
          149952.69506504232,
          11286053.067338672,
          13693.36139940124,
          1230233.2976504464,
          6785509.534592722,
          2784259.6422966253,
          628585.0458451918,
          1165563.2902000418,
          441114.78890495695,
          654472.0797564759,
          3101281.1468134304,
          7398405.064644769,
          223090.72102727988,
          7348891.84351072,
          296740.8359845893,
          15560284.46699633,
          68956.61989344515,
          244020.4348824524,
          80102.85216665042,
          24521.242465927673,
          19919518.751747683,
          2458.5026693080995,
          2492965.668041272,
          58651793.396908894,
          11892750.812577788,
          1233920.8944837959,
          117740182.97033922,
          342.1440133758143,
          16289604.764592517,
          2280200.2922312757,
          493460.4101389686,
          1876623.8998658783,
          6859584.21310495,
          956617.5363294078,
          1135868.3017782297,
          2276280.4981757924,
          3723276.0196507536,
          457059.371056867,
          251719.60530793315,
          3144394.933976164,
          2908257.278668966,
          574755.864958136,
          357831.09824186907,
          313445.90431158093,
          1005873.624257626,
          8760854.831025312,
          414941.0886648524,
          3638189.1368973814,
          10369133.199303808,
          2743859.784397055,
          85092.83493674904,
          942756.802453129,
          134686.74966782055,
          16510467.468470573,
          3784704.416517683,
          53880424.08032548,
          9302703.626272852,
          2468172.5558178695,
          2684031.3316550595,
          2049737.538774834,
          6955256.6078667985,
          206134.26003667142,
          5294096.575728038,
          26043737.566724572,
          3650639.5763977333,
          4660544.557538761,
          4635326.30872668,
          1082.9099402600245,
          0,
          2203391.67899638,
          104336227.2339136,
          62511.61666541996,
          4512.706984555905,
          51671603.404877126,
          420378.8127274326,
          31740243.355557546,
          969243.1261276022,
          18891486.59964802,
          139276.72640739437,
          3795007.597450044,
          1234478.863870258,
          4437099.333573752,
          1364153.4144910953,
          8871689.035674868,
          9.094947017729282e-13,
          72907.50678260638,
          5607562.488951043,
          310977.5437076242,
          17668391.92528216,
          5618471.882071609,
          974937.1607566823,
          855290.0417320792,
          45127085.240482636,
          46365.01738124285,
          15263.365825248104,
          10077218.250337927,
          2241.26412230078,
          287841.46578056284,
          13668.602311763358,
          35769.98745132238,
          436.444587455478,
          3943565.426833256,
          16567.846343749385,
          2780986.1631547003,
          7498462.384913602,
          28132016.988407996,
          40860966.04644847,
          10343642.514433445,
          11613732.67903352,
          3446116.366409916,
          1261616.1170558594,
          19911.18257273782,
          49708.45593234243,
          1309379.2042395594,
          2049111.2193260384,
          47462254.639633015,
          18383006.73129488,
          12059601.014508234,
          20.515929799178338,
          5888405.938568089,
          4992.173927959517,
          818.4687378321225,
          7020858.966157755,
          9717.460036941593,
          4597008.881931653,
          2902065.2970015826,
          6503616.644107254,
          5475943.045047354,
          5747458.444407511,
          10017091.733430373,
          848012.8373028055,
          2922779.9513353067,
          2738914.143200672,
          8014048.633271132,
          1831971.3281775918,
          15641274.579280108,
          1903214.8649126557,
          3159949.8007220477,
          974477.3374873291,
          15584445.37527601,
          1675596.037405596,
          607406.2170213492,
          20349901.660329223,
          4034428.6225428698,
          20213.27312309647,
          6945927.050258376,
          2992756.016616823,
          379612.47162809677,
          9822435.36065881,
          2202013.5883886185,
          28816622.616464224,
          4920373.81754563
         ],
         "yaxis": "y"
        }
       ],
       "layout": {
        "barmode": "group",
        "legend": {
         "title": {
          "text": "variable"
         },
         "tracegroupgap": 0
        },
        "template": {
         "data": {
          "bar": [
           {
            "error_x": {
             "color": "#2a3f5f"
            },
            "error_y": {
             "color": "#2a3f5f"
            },
            "marker": {
             "line": {
              "color": "#E5ECF6",
              "width": 0.5
             },
             "pattern": {
              "fillmode": "overlay",
              "size": 10,
              "solidity": 0.2
             }
            },
            "type": "bar"
           }
          ],
          "barpolar": [
           {
            "marker": {
             "line": {
              "color": "#E5ECF6",
              "width": 0.5
             },
             "pattern": {
              "fillmode": "overlay",
              "size": 10,
              "solidity": 0.2
             }
            },
            "type": "barpolar"
           }
          ],
          "carpet": [
           {
            "aaxis": {
             "endlinecolor": "#2a3f5f",
             "gridcolor": "white",
             "linecolor": "white",
             "minorgridcolor": "white",
             "startlinecolor": "#2a3f5f"
            },
            "baxis": {
             "endlinecolor": "#2a3f5f",
             "gridcolor": "white",
             "linecolor": "white",
             "minorgridcolor": "white",
             "startlinecolor": "#2a3f5f"
            },
            "type": "carpet"
           }
          ],
          "choropleth": [
           {
            "colorbar": {
             "outlinewidth": 0,
             "ticks": ""
            },
            "type": "choropleth"
           }
          ],
          "contour": [
           {
            "colorbar": {
             "outlinewidth": 0,
             "ticks": ""
            },
            "colorscale": [
             [
              0,
              "#0d0887"
             ],
             [
              0.1111111111111111,
              "#46039f"
             ],
             [
              0.2222222222222222,
              "#7201a8"
             ],
             [
              0.3333333333333333,
              "#9c179e"
             ],
             [
              0.4444444444444444,
              "#bd3786"
             ],
             [
              0.5555555555555556,
              "#d8576b"
             ],
             [
              0.6666666666666666,
              "#ed7953"
             ],
             [
              0.7777777777777778,
              "#fb9f3a"
             ],
             [
              0.8888888888888888,
              "#fdca26"
             ],
             [
              1,
              "#f0f921"
             ]
            ],
            "type": "contour"
           }
          ],
          "contourcarpet": [
           {
            "colorbar": {
             "outlinewidth": 0,
             "ticks": ""
            },
            "type": "contourcarpet"
           }
          ],
          "heatmap": [
           {
            "colorbar": {
             "outlinewidth": 0,
             "ticks": ""
            },
            "colorscale": [
             [
              0,
              "#0d0887"
             ],
             [
              0.1111111111111111,
              "#46039f"
             ],
             [
              0.2222222222222222,
              "#7201a8"
             ],
             [
              0.3333333333333333,
              "#9c179e"
             ],
             [
              0.4444444444444444,
              "#bd3786"
             ],
             [
              0.5555555555555556,
              "#d8576b"
             ],
             [
              0.6666666666666666,
              "#ed7953"
             ],
             [
              0.7777777777777778,
              "#fb9f3a"
             ],
             [
              0.8888888888888888,
              "#fdca26"
             ],
             [
              1,
              "#f0f921"
             ]
            ],
            "type": "heatmap"
           }
          ],
          "heatmapgl": [
           {
            "colorbar": {
             "outlinewidth": 0,
             "ticks": ""
            },
            "colorscale": [
             [
              0,
              "#0d0887"
             ],
             [
              0.1111111111111111,
              "#46039f"
             ],
             [
              0.2222222222222222,
              "#7201a8"
             ],
             [
              0.3333333333333333,
              "#9c179e"
             ],
             [
              0.4444444444444444,
              "#bd3786"
             ],
             [
              0.5555555555555556,
              "#d8576b"
             ],
             [
              0.6666666666666666,
              "#ed7953"
             ],
             [
              0.7777777777777778,
              "#fb9f3a"
             ],
             [
              0.8888888888888888,
              "#fdca26"
             ],
             [
              1,
              "#f0f921"
             ]
            ],
            "type": "heatmapgl"
           }
          ],
          "histogram": [
           {
            "marker": {
             "pattern": {
              "fillmode": "overlay",
              "size": 10,
              "solidity": 0.2
             }
            },
            "type": "histogram"
           }
          ],
          "histogram2d": [
           {
            "colorbar": {
             "outlinewidth": 0,
             "ticks": ""
            },
            "colorscale": [
             [
              0,
              "#0d0887"
             ],
             [
              0.1111111111111111,
              "#46039f"
             ],
             [
              0.2222222222222222,
              "#7201a8"
             ],
             [
              0.3333333333333333,
              "#9c179e"
             ],
             [
              0.4444444444444444,
              "#bd3786"
             ],
             [
              0.5555555555555556,
              "#d8576b"
             ],
             [
              0.6666666666666666,
              "#ed7953"
             ],
             [
              0.7777777777777778,
              "#fb9f3a"
             ],
             [
              0.8888888888888888,
              "#fdca26"
             ],
             [
              1,
              "#f0f921"
             ]
            ],
            "type": "histogram2d"
           }
          ],
          "histogram2dcontour": [
           {
            "colorbar": {
             "outlinewidth": 0,
             "ticks": ""
            },
            "colorscale": [
             [
              0,
              "#0d0887"
             ],
             [
              0.1111111111111111,
              "#46039f"
             ],
             [
              0.2222222222222222,
              "#7201a8"
             ],
             [
              0.3333333333333333,
              "#9c179e"
             ],
             [
              0.4444444444444444,
              "#bd3786"
             ],
             [
              0.5555555555555556,
              "#d8576b"
             ],
             [
              0.6666666666666666,
              "#ed7953"
             ],
             [
              0.7777777777777778,
              "#fb9f3a"
             ],
             [
              0.8888888888888888,
              "#fdca26"
             ],
             [
              1,
              "#f0f921"
             ]
            ],
            "type": "histogram2dcontour"
           }
          ],
          "mesh3d": [
           {
            "colorbar": {
             "outlinewidth": 0,
             "ticks": ""
            },
            "type": "mesh3d"
           }
          ],
          "parcoords": [
           {
            "line": {
             "colorbar": {
              "outlinewidth": 0,
              "ticks": ""
             }
            },
            "type": "parcoords"
           }
          ],
          "pie": [
           {
            "automargin": true,
            "type": "pie"
           }
          ],
          "scatter": [
           {
            "fillpattern": {
             "fillmode": "overlay",
             "size": 10,
             "solidity": 0.2
            },
            "type": "scatter"
           }
          ],
          "scatter3d": [
           {
            "line": {
             "colorbar": {
              "outlinewidth": 0,
              "ticks": ""
             }
            },
            "marker": {
             "colorbar": {
              "outlinewidth": 0,
              "ticks": ""
             }
            },
            "type": "scatter3d"
           }
          ],
          "scattercarpet": [
           {
            "marker": {
             "colorbar": {
              "outlinewidth": 0,
              "ticks": ""
             }
            },
            "type": "scattercarpet"
           }
          ],
          "scattergeo": [
           {
            "marker": {
             "colorbar": {
              "outlinewidth": 0,
              "ticks": ""
             }
            },
            "type": "scattergeo"
           }
          ],
          "scattergl": [
           {
            "marker": {
             "colorbar": {
              "outlinewidth": 0,
              "ticks": ""
             }
            },
            "type": "scattergl"
           }
          ],
          "scattermapbox": [
           {
            "marker": {
             "colorbar": {
              "outlinewidth": 0,
              "ticks": ""
             }
            },
            "type": "scattermapbox"
           }
          ],
          "scatterpolar": [
           {
            "marker": {
             "colorbar": {
              "outlinewidth": 0,
              "ticks": ""
             }
            },
            "type": "scatterpolar"
           }
          ],
          "scatterpolargl": [
           {
            "marker": {
             "colorbar": {
              "outlinewidth": 0,
              "ticks": ""
             }
            },
            "type": "scatterpolargl"
           }
          ],
          "scatterternary": [
           {
            "marker": {
             "colorbar": {
              "outlinewidth": 0,
              "ticks": ""
             }
            },
            "type": "scatterternary"
           }
          ],
          "surface": [
           {
            "colorbar": {
             "outlinewidth": 0,
             "ticks": ""
            },
            "colorscale": [
             [
              0,
              "#0d0887"
             ],
             [
              0.1111111111111111,
              "#46039f"
             ],
             [
              0.2222222222222222,
              "#7201a8"
             ],
             [
              0.3333333333333333,
              "#9c179e"
             ],
             [
              0.4444444444444444,
              "#bd3786"
             ],
             [
              0.5555555555555556,
              "#d8576b"
             ],
             [
              0.6666666666666666,
              "#ed7953"
             ],
             [
              0.7777777777777778,
              "#fb9f3a"
             ],
             [
              0.8888888888888888,
              "#fdca26"
             ],
             [
              1,
              "#f0f921"
             ]
            ],
            "type": "surface"
           }
          ],
          "table": [
           {
            "cells": {
             "fill": {
              "color": "#EBF0F8"
             },
             "line": {
              "color": "white"
             }
            },
            "header": {
             "fill": {
              "color": "#C8D4E3"
             },
             "line": {
              "color": "white"
             }
            },
            "type": "table"
           }
          ]
         },
         "layout": {
          "annotationdefaults": {
           "arrowcolor": "#2a3f5f",
           "arrowhead": 0,
           "arrowwidth": 1
          },
          "autotypenumbers": "strict",
          "coloraxis": {
           "colorbar": {
            "outlinewidth": 0,
            "ticks": ""
           }
          },
          "colorscale": {
           "diverging": [
            [
             0,
             "#8e0152"
            ],
            [
             0.1,
             "#c51b7d"
            ],
            [
             0.2,
             "#de77ae"
            ],
            [
             0.3,
             "#f1b6da"
            ],
            [
             0.4,
             "#fde0ef"
            ],
            [
             0.5,
             "#f7f7f7"
            ],
            [
             0.6,
             "#e6f5d0"
            ],
            [
             0.7,
             "#b8e186"
            ],
            [
             0.8,
             "#7fbc41"
            ],
            [
             0.9,
             "#4d9221"
            ],
            [
             1,
             "#276419"
            ]
           ],
           "sequential": [
            [
             0,
             "#0d0887"
            ],
            [
             0.1111111111111111,
             "#46039f"
            ],
            [
             0.2222222222222222,
             "#7201a8"
            ],
            [
             0.3333333333333333,
             "#9c179e"
            ],
            [
             0.4444444444444444,
             "#bd3786"
            ],
            [
             0.5555555555555556,
             "#d8576b"
            ],
            [
             0.6666666666666666,
             "#ed7953"
            ],
            [
             0.7777777777777778,
             "#fb9f3a"
            ],
            [
             0.8888888888888888,
             "#fdca26"
            ],
            [
             1,
             "#f0f921"
            ]
           ],
           "sequentialminus": [
            [
             0,
             "#0d0887"
            ],
            [
             0.1111111111111111,
             "#46039f"
            ],
            [
             0.2222222222222222,
             "#7201a8"
            ],
            [
             0.3333333333333333,
             "#9c179e"
            ],
            [
             0.4444444444444444,
             "#bd3786"
            ],
            [
             0.5555555555555556,
             "#d8576b"
            ],
            [
             0.6666666666666666,
             "#ed7953"
            ],
            [
             0.7777777777777778,
             "#fb9f3a"
            ],
            [
             0.8888888888888888,
             "#fdca26"
            ],
            [
             1,
             "#f0f921"
            ]
           ]
          },
          "colorway": [
           "#636efa",
           "#EF553B",
           "#00cc96",
           "#ab63fa",
           "#FFA15A",
           "#19d3f3",
           "#FF6692",
           "#B6E880",
           "#FF97FF",
           "#FECB52"
          ],
          "font": {
           "color": "#2a3f5f"
          },
          "geo": {
           "bgcolor": "white",
           "lakecolor": "white",
           "landcolor": "#E5ECF6",
           "showlakes": true,
           "showland": true,
           "subunitcolor": "white"
          },
          "hoverlabel": {
           "align": "left"
          },
          "hovermode": "closest",
          "mapbox": {
           "style": "light"
          },
          "paper_bgcolor": "white",
          "plot_bgcolor": "#E5ECF6",
          "polar": {
           "angularaxis": {
            "gridcolor": "white",
            "linecolor": "white",
            "ticks": ""
           },
           "bgcolor": "#E5ECF6",
           "radialaxis": {
            "gridcolor": "white",
            "linecolor": "white",
            "ticks": ""
           }
          },
          "scene": {
           "xaxis": {
            "backgroundcolor": "#E5ECF6",
            "gridcolor": "white",
            "gridwidth": 2,
            "linecolor": "white",
            "showbackground": true,
            "ticks": "",
            "zerolinecolor": "white"
           },
           "yaxis": {
            "backgroundcolor": "#E5ECF6",
            "gridcolor": "white",
            "gridwidth": 2,
            "linecolor": "white",
            "showbackground": true,
            "ticks": "",
            "zerolinecolor": "white"
           },
           "zaxis": {
            "backgroundcolor": "#E5ECF6",
            "gridcolor": "white",
            "gridwidth": 2,
            "linecolor": "white",
            "showbackground": true,
            "ticks": "",
            "zerolinecolor": "white"
           }
          },
          "shapedefaults": {
           "line": {
            "color": "#2a3f5f"
           }
          },
          "ternary": {
           "aaxis": {
            "gridcolor": "white",
            "linecolor": "white",
            "ticks": ""
           },
           "baxis": {
            "gridcolor": "white",
            "linecolor": "white",
            "ticks": ""
           },
           "bgcolor": "#E5ECF6",
           "caxis": {
            "gridcolor": "white",
            "linecolor": "white",
            "ticks": ""
           }
          },
          "title": {
           "x": 0.05
          },
          "xaxis": {
           "automargin": true,
           "gridcolor": "white",
           "linecolor": "white",
           "ticks": "",
           "title": {
            "standoff": 15
           },
           "zerolinecolor": "white",
           "zerolinewidth": 2
          },
          "yaxis": {
           "automargin": true,
           "gridcolor": "white",
           "linecolor": "white",
           "ticks": "",
           "title": {
            "standoff": 15
           },
           "zerolinecolor": "white",
           "zerolinewidth": 2
          }
         }
        },
        "title": {
         "text": "Population with Water vs. Population without Water"
        },
        "xaxis": {
         "anchor": "y",
         "domain": [
          0,
          1
         ],
         "title": {
          "text": "region"
         }
        },
        "yaxis": {
         "anchor": "x",
         "domain": [
          0,
          1
         ],
         "title": {
          "text": "value"
         }
        }
       }
      }
     },
     "metadata": {},
     "output_type": "display_data"
    }
   ],
   "source": [
    "# create stacked bar chart, stacking  \"country_pop_with_water\", and \"country_pop_without_water\" on the y axis as two bars. Using region as the x axis.\n",
    "# px.bar(df_countries, x=\"region\", y=[\"country_pop_with_water\", \"country_pop_without_water\"], title=\"Population with Water vs. Population without Water\", hover_data=[\"Entity\"])\n",
    "\n",
    "# create the same, but put the bars side by side\n",
    "px.bar(df_countries, x=\"region\", y=[\"country_pop_with_water\", \"country_pop_without_water\"], barmode=\"group\", title=\"Population with Water vs. Population without Water\", hover_data=[\"Entity\"])\n",
    "\n",
    "\n",
    "\n",
    "\n"
   ]
  },
  {
   "cell_type": "code",
   "execution_count": 49,
   "metadata": {},
   "outputs": [],
   "source": [
    "# df_countries.to_csv(export_file_location + \"country_data_chloro.csv\")"
   ]
  }
 ],
 "metadata": {
  "kernelspec": {
   "display_name": "Python 3",
   "language": "python",
   "name": "python3"
  },
  "language_info": {
   "codemirror_mode": {
    "name": "ipython",
    "version": 3
   },
   "file_extension": ".py",
   "mimetype": "text/x-python",
   "name": "python",
   "nbconvert_exporter": "python",
   "pygments_lexer": "ipython3",
   "version": "3.9.18"
  },
  "orig_nbformat": 4,
  "vscode": {
   "interpreter": {
    "hash": "c09a8b249899dc4589e662892666698668e7a3ca1327801a18c24efb244ad2c6"
   }
  }
 },
 "nbformat": 4,
 "nbformat_minor": 2
}
