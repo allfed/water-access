{
 "cells": [
  {
   "cell_type": "code",
   "execution_count": 1,
   "metadata": {},
   "outputs": [],
   "source": [
    "import pandas as pd\n",
    "import numpy as np\n",
    "from countryinfo import CountryInfo\n",
    "import pycountry"
   ]
  },
  {
   "cell_type": "code",
   "execution_count": null,
   "metadata": {},
   "outputs": [],
   "source": [
    "\n",
    "def add_alpha_codes_from_ISO(df, col):\n",
    "    \"\"\"\n",
    "    adds a column of alpha3 codes to a dataframe with country name in column 'col'\n",
    "    \"\"\"\n",
    "    input_countries = df[col]\n",
    "    countries = []\n",
    "    for input_country in input_countries:\n",
    "        try:\n",
    "            country = pycountry.countries.get(alpha_3=input_country)\n",
    "            alpha2 = country.alpha_2\n",
    "        except:\n",
    "            alpha2 = \"unk_\" + str(input_country)\n",
    "        countries.append(alpha2)\n",
    "    df[\"alpha2\"] = countries\n",
    "    return df\n",
    "\n"
   ]
  },
  {
   "cell_type": "code",
   "execution_count": null,
   "metadata": {},
   "outputs": [],
   "source": [
    "\n",
    "df_input = pd.read_csv(\"../data/country_data_master.csv\")\n",
    "# df_input = pd.read_csv(\"../data/country_data_master.csv\", index_col=\"alpha3\")\n"
   ]
  },
  {
   "cell_type": "code",
   "execution_count": null,
   "metadata": {},
   "outputs": [],
   "source": [
    "iso_num_col = \"ISO Code\"\n",
    "col = \"Country\"\n",
    "alpha3_col = \"alpha3\"\n",
    "alpha2_col = \"alpha2\"\n",
    "df_original = df_input\n",
    "\n",
    "\n",
    "\n",
    "df = add_alpha_codes_from_ISO(df_original, alpha3_col)\n",
    "\n",
    "# filename = \"scratch_new_country_data\"\n",
    "# df.to_csv(filename + \".csv\")\n"
   ]
  },
  {
   "cell_type": "markdown",
   "metadata": {},
   "source": [
    "Cell below appends the region, subregion, and bordering countries to the country. This is for future use for interpolation."
   ]
  },
  {
   "cell_type": "code",
   "execution_count": null,
   "metadata": {},
   "outputs": [],
   "source": [
    "input_countries = df[alpha2_col]\n",
    "bordering_countries = []\n",
    "region = []\n",
    "subregion = []\n",
    "for input_country in input_countries:\n",
    "    try:\n",
    "        country = CountryInfo(input_country)\n",
    "    except:\n",
    "        print(\"couldn't find country\")\n",
    "\n",
    "    try:\n",
    "        country_bordering_countries = \",\".join(str(x) for x in country.borders())\n",
    "    except:\n",
    "        country_bordering_countries = \"unk_\" + str(input_country)\n",
    "    \n",
    "    try:\n",
    "        country_region = country.region()\n",
    "    except:\n",
    "        country_region = \"unk_\" + str(input_country)\n",
    "\n",
    "    try:\n",
    "        country_subregion = country.subregion()\n",
    "    except:\n",
    "        country_subregion = \"unk_\" + str(input_country)\n",
    "    \n",
    "\n",
    "\n",
    "    \n",
    "    bordering_countries.append(country_bordering_countries)\n",
    "    region.append(country_region)\n",
    "    subregion.append(country_subregion)\n",
    "df[\"borders\"] = bordering_countries\n",
    "df[\"region\"] = region\n",
    "df[\"subregion\"] = subregion\n",
    "\n",
    "# write csv to (\"../data/Country Data before Interp.csv\")\n",
    "df.to_csv(\"../data/Country Data before Interp.csv\")\n",
    "\n",
    "\n"
   ]
  },
  {
   "cell_type": "markdown",
   "metadata": {},
   "source": [
    "Loop over all the variables to interpolate, find a NaN, and then use the three staged interpolation process:\n",
    "1. Take an average of all the bordering countries (if those countries have a value that could be used)\n",
    "2. Take an average of the countries in that sub region \n",
    "3. Take an average of the countries in the region (continent)"
   ]
  },
  {
   "cell_type": "code",
   "execution_count": 8,
   "metadata": {},
   "outputs": [],
   "source": [
    "# alternative entry point given exisiting data\n",
    "df_borders = pd.read_csv(\"../data/processed/country_borders.csv\", index_col=\"alpha3\")\n",
    "\n",
    "df = pd.read_csv(\"../data/processed/WHO_JMP_alpha_Codes_processed.csv\", index_col=\"alpha3\")\n",
    "\n"
   ]
  },
  {
   "cell_type": "code",
   "execution_count": 9,
   "metadata": {},
   "outputs": [],
   "source": [
    "list_of_vars = ['PBO',\n",
    "       'Terrain Ruggedness', 'Urban %', 'Urban Agg %', 'RoadQuality', 'Km',\n",
    "       'Urb %', 'Average household size (number of members)',\n",
    "       'National At Least Basic', 'National Limit (more than 30 mins)',\n",
    "       'National Unimproved', 'National Surface Water',\n",
    "       'Nat Accesible On Premises', 'Nat Piped', 'Nat NonPiped','Average Weight','percent_insufficient_activity']\n",
    "\n",
    "list_of_vars = ['% urban', 'TOTALUnimproved', 'RURALUnimproved', 'URBANUnimproved',       \n",
    "       'TOTALPiped', 'TOTALNon-piped', 'RURALPiped', 'RURALNon-piped', 'URBANPiped', 'URBANNon-piped']\n",
    "\n",
    "\n",
    "alpha2_col = \"alpha2\"\n",
    "alpha3_col = \"alpha3\"\n",
    "\n",
    "df_input = df.merge(df_borders, how=\"left\", on=alpha3_col)\n",
    "# set index to alpha3\n",
    "\n",
    "df_output = df_input\n",
    "\n",
    "df_interp_track = pd.DataFrame(df_input.index)\n",
    "#set index to alpha3\n",
    "df_interp_track = df_interp_track.set_index(alpha3_col)\n",
    "df_interp_track[list_of_vars]=\"none\"\n",
    "\n",
    "for variable in list_of_vars:\n",
    "    # convert column to float\n",
    "    df_input[variable] = df_input[variable].astype(float)\n",
    "\n",
    "    ## for loop in the future\n",
    "    #find location of nan values\n",
    "    nan_locations = df_input[variable].isna()\n",
    "    countries_requiring_interp = df_input[nan_locations].index\n",
    "\n",
    "    #next for loop goes here \n",
    "    for country in countries_requiring_interp:\n",
    "        #see if the borders can be used to interpolate\n",
    "        borders = df_input.loc[country, \"borders\"]\n",
    "        borders = str(borders)\n",
    "        border_list = borders.split(\",\")\n",
    "        try:\n",
    "            avg_var_border = (df_input.loc[border_list, variable].mean())\n",
    "        except:\n",
    "            avg_var_border = np.nan\n",
    "        # see if the subregion can be used to interpolate\n",
    "        # find other countries in the subregion\n",
    "        subregion_list = df_input[df_input[\"subregion\"]==df_input.loc[country, \"subregion\"]].index\n",
    "        avg_var_subregion = (df_input.loc[subregion_list, variable].mean())\n",
    "        # assume the region CAN be used to interpolate\n",
    "        region_list = df_input[df_input[\"region\"]==df_input.loc[country, \"region\"]].index\n",
    "        avg_var_region = (df_input.loc[region_list, variable].mean())\n",
    "        # try border, then subregion, then region\n",
    "        if ~np.isnan(avg_var_border):\n",
    "            df_output.loc[country, variable] = avg_var_border\n",
    "            df_interp_track.loc[country, variable] = \"border interpolated\"\n",
    "        elif ~np.isnan(avg_var_subregion):\n",
    "            df_output.loc[country, variable] = avg_var_subregion\n",
    "            df_interp_track.loc[country, variable] = \"subregion interpolated\"\n",
    "        else:\n",
    "            df_output.loc[country, variable] = avg_var_region\n",
    "            df_interp_track.loc[country, variable] = \"region interpolated\"\n",
    "\n"
   ]
  },
  {
   "cell_type": "code",
   "execution_count": null,
   "metadata": {},
   "outputs": [],
   "source": [
    "df_input.head(30)"
   ]
  },
  {
   "cell_type": "markdown",
   "metadata": {},
   "source": [
    "Save dataframes as CSV"
   ]
  },
  {
   "cell_type": "code",
   "execution_count": null,
   "metadata": {},
   "outputs": [],
   "source": [
    "# df_input[variable].isna()\n",
    "\n",
    "\n",
    "filename = \"WHOinterpTrack2\"\n",
    "df_interp_track.to_csv(filename + \".csv\")\n",
    "filename = \"WHOinterp2\"\n",
    "df_output.to_csv(filename + \".csv\")\n"
   ]
  }
 ],
 "metadata": {
  "kernelspec": {
   "display_name": "Python 3.9.13 (conda)",
   "language": "python",
   "name": "python3"
  },
  "language_info": {
   "codemirror_mode": {
    "name": "ipython",
    "version": 3
   },
   "file_extension": ".py",
   "mimetype": "text/x-python",
   "name": "python",
   "nbconvert_exporter": "python",
   "pygments_lexer": "ipython3",
   "version": "3.9.13"
  },
  "orig_nbformat": 4,
  "vscode": {
   "interpreter": {
    "hash": "c09a8b249899dc4589e662892666698668e7a3ca1327801a18c24efb244ad2c6"
   }
  }
 },
 "nbformat": 4,
 "nbformat_minor": 2
}
