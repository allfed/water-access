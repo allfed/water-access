{
 "cells": [
  {
   "cell_type": "markdown",
   "metadata": {},
   "source": [
    "Welcome! This IPython notebook does a sensitivity analysis of the mobility model for the water access research project."
   ]
  },
  {
   "cell_type": "markdown",
   "metadata": {},
   "source": [
    "Import Packages"
   ]
  },
  {
   "cell_type": "code",
   "execution_count": 1,
   "metadata": {},
   "outputs": [],
   "source": [
    "# Importing necessary modules\n",
    "import os  # Provides functions for interacting with the operating system\n",
    "import sys  # Provides access to some variables used by the interpreter\n",
    "from pathlib import Path  # Used for filesystem path operations\n",
    "\n",
    "# Resolve the current path of the notebook. Path().resolve() returns the absolute path\n",
    "# of the current working directory (where this notebook is located).\n",
    "notebook_path = Path().resolve()\n",
    "\n",
    "# Determine the project root directory. Since 'notebook_path' points to the 'scripts'\n",
    "# directory, its parent will be the root directory of your project (which contains both 'scripts' and 'src').\n",
    "project_root = notebook_path.parent\n",
    "\n",
    "# Append the project root directory to sys.path. This step is crucial as it allows\n",
    "# Python to find and import modules from the 'src' directory, which is located at the project root.\n",
    "# It essentially adds the project root to the list of directories where Python looks for modules.\n",
    "sys.path.append(str(project_root))\n",
    "\n",
    "# Importing standard and third-party libraries necessary for your script.\n",
    "# These libraries are likely installed in your Conda environment or Python's site-packages.\n",
    "import pandas as pd  # Data manipulation and analysis library\n",
    "import numpy as np  # Library for numerical operations\n",
    "import plotly  # Graphing library\n",
    "import plotly.express as px  # Simplified interface for Plotly\n",
    "from plotly.subplots import make_subplots  # Function to create subplots with Plotly\n",
    "import plotly.graph_objects as go  # For creating different types of figures in Plotly\n",
    "\n",
    "# Importing custom modules from the 'src' directory.\n",
    "# Thanks to modifying sys.path, Python can now find these modules.\n",
    "import src.mobility_module as mm  # Custom module for mobility-related functionalities\n",
    "import src.plotting_tools_water_access as pt  # Custom module for plotting tools specific to water access\n",
    "\n"
   ]
  },
  {
   "cell_type": "markdown",
   "metadata": {},
   "source": [
    "Import data from csv files"
   ]
  },
  {
   "cell_type": "code",
   "execution_count": 2,
   "metadata": {},
   "outputs": [],
   "source": [
    "######################\n",
    "#### Import Data #####\n",
    "file_path_params = \"../data/lookup tables/mobility-model-parameters.csv\"\n",
    "file_path_sens_vars = \"../data/lookup tables/Sensitivity Analysis Variables.csv\"\n",
    "\n",
    "\n",
    "allHPV_param_df = pd.read_csv(file_path_params)\n",
    "sens_df = pd.read_csv(file_path_sens_vars)\n"
   ]
  },
  {
   "cell_type": "markdown",
   "metadata": {},
   "source": [
    "Initiliase Velocity Kgs, define colours for graphing"
   ]
  },
  {
   "cell_type": "code",
   "execution_count": 3,
   "metadata": {},
   "outputs": [],
   "source": [
    "graph_colours = [\"#3D87CB\", \"#F0B323\", \"#DC582A\", \"#674230\", \"#3A913F\", \"#75787B\"]\n",
    "full_result_dict = {}\n",
    "plot_dict = {}\n",
    "df_large = pd.DataFrame()\n",
    "\n",
    "\n",
    "### FIlter Data\n",
    "col = \"Name\"\n",
    "filter_value = \"Bicycle\"\n",
    "param_df = allHPV_param_df.loc[(allHPV_param_df[col] == filter_value)]\n",
    "\n",
    "for i in range(0, len(sens_df)):\n",
    "\n",
    "    # # initialise variables, options, MET, hpv and Velocity Kgs classes, populated with data via 'init' functions\n",
    "    mo = mm.model_options()\n",
    "    mv = mm.model_variables()\n",
    "    met = mm.MET_values(mv, country_weight=False, use_country_specific_weights=False)\n",
    "    hpv = mm.HPV_variables(param_df, mv)\n",
    "    mr = mm.model_results(hpv, mo)\n",
    "\n",
    "    # select model (bike...)\n",
    "    mo.model_selection = 2\n",
    "\n",
    "\n",
    "    ###### Start big if statement area\n",
    "    ##### SENSITIVITY\n",
    "    res = 7\n",
    "\n",
    "    # set up variables for sensitivity analysis\n",
    "    plot_min = sens_df.iloc[i][\"Plotting Min\"]\n",
    "    plot_max = sens_df.iloc[i][\"Plotting Max\"]\n",
    "    minval = sens_df.iloc[i][\"Expected Min\"]\n",
    "    maxval = sens_df.iloc[i][\"Expected Max\"]\n",
    "    def_val = sens_df.iloc[i][\"Default Value\"]\n",
    "    var_string = sens_df.iloc[i][\"Short Name\"] # change\n",
    "    var_units = sens_df.iloc[i][\"Units\"] # change\n",
    "\n",
    "    # create linear space of weights\n",
    "    phase_space = np.linspace(\n",
    "        start=plot_min,  # define linear space\n",
    "        stop=plot_max,  # define maximum value for linear space\n",
    "        num=res,  # how many data points?\n",
    "        endpoint=True,\n",
    "        retstep=False,\n",
    "        dtype=None,\n",
    "    )\n",
    "    # include the default, max, and min values seperatly so they are easy to see graphically\n",
    "    # phase_space = np.append(phase_space,hpv.load_limit.flatten()[0])\n",
    "    phase_space = np.append(phase_space,def_val)\n",
    "    phase_space = np.append(phase_space,minval)\n",
    "    phase_space = np.append(phase_space,maxval)\n",
    "\n",
    "    trip_velocity_mean = []  # create empty list to place variables in to in loop\n",
    "    unloaded_velocity_mean = []  # create empty list to place variables in to in loop\n",
    "    loaded_velocity_mean = []  # create empty list to place variables in to in loop\n",
    "    velocitykgs = []  # create empty list to place variables in to in loop\n",
    "    water_ration_kms = []  # create empty list to place variables in to in loop\n",
    "\n",
    "    for var_test in phase_space:\n",
    "        ## THIS WILL NEED A FAT IF STATEMENT AS WE NEED TO CHANGE TARGET of the assignment AND the value AND there are differening data storgae types (i.e numpy 3 dims, scalar etc)\n",
    "        if var_string == \"Coefficient of Rolling Resistance\":\n",
    "            hpv.Crr = np.array([[[var_test]]]) # change\n",
    "        elif var_string == \"Load Limit\":\n",
    "            hpv.load_limit = np.array([[[var_test]]]) # change\n",
    "        elif var_string == \"Reference Area\":\n",
    "            mv.A = var_test \n",
    "        elif var_string == \"Drag Coefficient\":\n",
    "            mv.C_d = var_test \n",
    "        elif var_string == \"Efficiency\":\n",
    "            mv.eta = var_test \n",
    "        elif var_string == \"Air Density\":\n",
    "            mv.ro = var_test \n",
    "        elif var_string == \"MET budget\":\n",
    "            met.MET_of_sustainable_excercise = var_test \n",
    "        elif var_string == \"T_hours\":\n",
    "            mv.t_hours = var_test \n",
    "        elif var_string == \"HPV Weight\":\n",
    "            hpv.m_HPV_only = np.array([[[var_test]]]) # change\n",
    "        elif var_string == \"Water Ration\":\n",
    "            mv.waterration = var_test \n",
    "        elif var_string == \"Human Weight\":\n",
    "            mv.m1 = var_test \n",
    "        elif var_string == \"Human Power Output\":\n",
    "            mv.P_t = var_test \n",
    "            \n",
    "\n",
    "\n",
    "        \n",
    "        \n",
    "        # # hpv.load_limit = np.array([[[var_test]]]) # change\n",
    "        # mv.C_d = var_test # change\n",
    "\n",
    "        ######## Numerical MODEL ########\n",
    "        mr.v_load_matrix3d, mr.load_matrix3d = mm.mobility_models.numerical_mobility_model(\n",
    "            mr, mv, mo, met, hpv\n",
    "        )\n",
    "        ####### Organise Velocity Kgs #######\n",
    "        mr.load_results(hpv, mv, mo)\n",
    "\n",
    "        maximum_vel_kg_per_slope = np.amax(mr.velocitykgs, axis=2)\n",
    "        mean_vel_kg_per_slope = np.mean(maximum_vel_kg_per_slope)\n",
    "\n",
    "        # append to list\n",
    "        trip_velocity_mean.append(np.mean(mr.v_avg_matrix3d))\n",
    "        unloaded_velocity_mean.append(np.mean(mr.v_unload_matrix3d))\n",
    "        loaded_velocity_mean.append(np.mean(mr.v_load_matrix3d))\n",
    "        velocitykgs.append(mean_vel_kg_per_slope)\n",
    "        water_ration_kms.append(mean_vel_kg_per_slope/mv.waterration*mr.t_secs/1000) # [kg][m/s] * [s] * 1/[kg] * 1/1000 = [km]. Divide by distance to water, and accomodate for household size to see if needs are met.\n",
    "\n",
    "\n",
    "\n",
    "    small_marker_size = 10\n",
    "    med_marker_size = 20\n",
    "    large_marker_size = 50\n",
    "    data = {'Velocity Kgs': velocitykgs,'Water Ration Kms': water_ration_kms, 'Mean Trip Velocity': trip_velocity_mean, 'Mean Unloaded Velocity': unloaded_velocity_mean, 'Mean Loaded Velocity': loaded_velocity_mean}\n",
    "    df_results = pd.DataFrame(data)\n",
    "\n",
    "    df_results[\"Adjusted Result\"] =  df_results[\"Velocity Kgs\"] - df_results.at[res,'Velocity Kgs']\n",
    "    df_results[\"Adjusted Water Ration Kms\"] =  df_results[\"Water Ration Kms\"] - df_results.at[res,'Water Ration Kms']\n",
    "    df_results[\"Variable\"] = phase_space\n",
    "    df_results[\"DataType\"] = \"Sensitivity\"\n",
    "    df_results[\"MarkerSize\"] = small_marker_size\n",
    "    df_results[\"Name\"] = var_string\n",
    "    df_results.at[res,'DataType'] = \"Default\"\n",
    "    df_results.at[res+1,'DataType'] = \"Minimum Expected\"\n",
    "    df_results.at[res+2,'DataType'] = \"Maximum Expected\"\n",
    "    df_results.at[res+1,'MarkerSize'] = med_marker_size\n",
    "    df_results.at[res+2,'MarkerSize'] = med_marker_size\n",
    "    df_results.at[res,'MarkerSize'] = large_marker_size\n",
    "\n",
    "\n",
    "    full_result_dict[var_string] = df_results\n",
    "    df_large = pd.concat([df_large, df_results], sort=False)\n",
    "\n"
   ]
  },
  {
   "cell_type": "code",
   "execution_count": 4,
   "metadata": {},
   "outputs": [
    {
     "data": {
      "application/vnd.plotly.v1+json": {
       "config": {
        "plotlyServerURL": "https://plot.ly"
       },
       "data": [
        {
         "customdata": [
          [
           193.8622781985001,
           4.933270800791208,
           3.102129789464363,
           6.764411812118055
          ],
          [
           176.8911493082685,
           4.520488676698931,
           2.5100877869085867,
           6.530889566489274
          ],
          [
           160.74175745076485,
           4.118956435168,
           2.0416713600307466,
           6.196241510305255
          ],
          [
           145.58904678574643,
           3.7342811453187936,
           1.693464322849617,
           5.775097967787968
          ],
          [
           133.33933014694443,
           3.4190880756086317,
           1.439375663828359,
           5.398800487388903
          ],
          [
           118.88284265605664,
           3.0488369159311817,
           1.2505964131630043,
           4.847077418699358
          ],
          [
           106.575652918729,
           2.733436619501884,
           1.1061135791397663,
           4.360759659864004
          ]
         ],
         "hovertemplate": "DataType=Sensitivity<br>Variable=%{x}<br>Water Ration Kms=%{y}<br>MarkerSize=%{marker.size}<br>Velocity Kgs=%{customdata[0]}<br>Mean Trip Velocity=%{customdata[1]}<br>Mean Loaded Velocity=%{customdata[2]}<br>Mean Unloaded Velocity=%{customdata[3]}<extra></extra>",
         "legendgroup": "Sensitivity",
         "marker": {
          "color": "#3D87CB",
          "size": [
           10,
           10,
           10,
           10,
           10,
           10,
           10
          ],
          "sizemode": "area",
          "sizeref": 0.125,
          "symbol": "circle"
         },
         "mode": "markers",
         "name": "Sensitivity",
         "orientation": "v",
         "showlegend": true,
         "type": "scatter",
         "x": [
          0.0015,
          0.008499999999999999,
          0.015499999999999998,
          0.0225,
          0.0295,
          0.0365,
          0.0435
         ],
         "xaxis": "x",
         "y": [
          372.21557414112016,
          339.63100667187547,
          308.6241743054685,
          279.5309698286332,
          256.01151388213333,
          228.25505789962875,
          204.6252536039597
         ],
         "yaxis": "y"
        },
        {
         "customdata": [
          [
           189.98878616570474,
           4.839556386779581,
           2.9654227344731168,
           6.7136900390860434
          ]
         ],
         "hovertemplate": "DataType=Default<br>Variable=%{x}<br>Water Ration Kms=%{y}<br>MarkerSize=%{marker.size}<br>Velocity Kgs=%{customdata[0]}<br>Mean Trip Velocity=%{customdata[1]}<br>Mean Loaded Velocity=%{customdata[2]}<br>Mean Unloaded Velocity=%{customdata[3]}<extra></extra>",
         "legendgroup": "Default",
         "marker": {
          "color": "#F0B323",
          "size": [
           50
          ],
          "sizemode": "area",
          "sizeref": 0.125,
          "symbol": "circle"
         },
         "mode": "markers",
         "name": "Default",
         "orientation": "v",
         "showlegend": true,
         "type": "scatter",
         "x": [
          0.003
         ],
         "xaxis": "x",
         "y": [
          364.7784694381531
         ],
         "yaxis": "y"
        },
        {
         "customdata": [
          [
           192.5577036582776,
           4.901733972699856,
           3.055982259495366,
           6.747485685904347
          ]
         ],
         "hovertemplate": "DataType=Minimum Expected<br>Variable=%{x}<br>Water Ration Kms=%{y}<br>MarkerSize=%{marker.size}<br>Velocity Kgs=%{customdata[0]}<br>Mean Trip Velocity=%{customdata[1]}<br>Mean Loaded Velocity=%{customdata[2]}<br>Mean Unloaded Velocity=%{customdata[3]}<extra></extra>",
         "legendgroup": "Minimum Expected",
         "marker": {
          "color": "#DC582A",
          "size": [
           20
          ],
          "sizemode": "area",
          "sizeref": 0.125,
          "symbol": "circle"
         },
         "mode": "markers",
         "name": "Minimum Expected",
         "orientation": "v",
         "showlegend": true,
         "type": "scatter",
         "x": [
          0.002
         ],
         "xaxis": "x",
         "y": [
          369.71079102389297
         ],
         "yaxis": "y"
        },
        {
         "customdata": [
          [
           132.23186555553002,
           3.390745390709218,
           1.4240240774746953,
           5.357466703943741
          ]
         ],
         "hovertemplate": "DataType=Maximum Expected<br>Variable=%{x}<br>Water Ration Kms=%{y}<br>MarkerSize=%{marker.size}<br>Velocity Kgs=%{customdata[0]}<br>Mean Trip Velocity=%{customdata[1]}<br>Mean Loaded Velocity=%{customdata[2]}<br>Mean Unloaded Velocity=%{customdata[3]}<extra></extra>",
         "legendgroup": "Maximum Expected",
         "marker": {
          "color": "#674230",
          "size": [
           20
          ],
          "sizemode": "area",
          "sizeref": 0.125,
          "symbol": "circle"
         },
         "mode": "markers",
         "name": "Maximum Expected",
         "orientation": "v",
         "showlegend": true,
         "type": "scatter",
         "x": [
          0.03
         ],
         "xaxis": "x",
         "y": [
          253.88518186661764
         ],
         "yaxis": "y"
        }
       ],
       "layout": {
        "font": {
         "color": "dimgrey",
         "family": "Droid Sans Mono",
         "size": 16
        },
        "legend": {
         "itemsizing": "constant",
         "title": {
          "text": "Legend"
         },
         "tracegroupgap": 0
        },
        "paper_bgcolor": "white",
        "plot_bgcolor": "white",
        "template": {
         "data": {
          "bar": [
           {
            "error_x": {
             "color": "#2a3f5f"
            },
            "error_y": {
             "color": "#2a3f5f"
            },
            "marker": {
             "line": {
              "color": "#E5ECF6",
              "width": 0.5
             },
             "pattern": {
              "fillmode": "overlay",
              "size": 10,
              "solidity": 0.2
             }
            },
            "type": "bar"
           }
          ],
          "barpolar": [
           {
            "marker": {
             "line": {
              "color": "#E5ECF6",
              "width": 0.5
             },
             "pattern": {
              "fillmode": "overlay",
              "size": 10,
              "solidity": 0.2
             }
            },
            "type": "barpolar"
           }
          ],
          "carpet": [
           {
            "aaxis": {
             "endlinecolor": "#2a3f5f",
             "gridcolor": "white",
             "linecolor": "white",
             "minorgridcolor": "white",
             "startlinecolor": "#2a3f5f"
            },
            "baxis": {
             "endlinecolor": "#2a3f5f",
             "gridcolor": "white",
             "linecolor": "white",
             "minorgridcolor": "white",
             "startlinecolor": "#2a3f5f"
            },
            "type": "carpet"
           }
          ],
          "choropleth": [
           {
            "colorbar": {
             "outlinewidth": 0,
             "ticks": ""
            },
            "type": "choropleth"
           }
          ],
          "contour": [
           {
            "colorbar": {
             "outlinewidth": 0,
             "ticks": ""
            },
            "colorscale": [
             [
              0,
              "#0d0887"
             ],
             [
              0.1111111111111111,
              "#46039f"
             ],
             [
              0.2222222222222222,
              "#7201a8"
             ],
             [
              0.3333333333333333,
              "#9c179e"
             ],
             [
              0.4444444444444444,
              "#bd3786"
             ],
             [
              0.5555555555555556,
              "#d8576b"
             ],
             [
              0.6666666666666666,
              "#ed7953"
             ],
             [
              0.7777777777777778,
              "#fb9f3a"
             ],
             [
              0.8888888888888888,
              "#fdca26"
             ],
             [
              1,
              "#f0f921"
             ]
            ],
            "type": "contour"
           }
          ],
          "contourcarpet": [
           {
            "colorbar": {
             "outlinewidth": 0,
             "ticks": ""
            },
            "type": "contourcarpet"
           }
          ],
          "heatmap": [
           {
            "colorbar": {
             "outlinewidth": 0,
             "ticks": ""
            },
            "colorscale": [
             [
              0,
              "#0d0887"
             ],
             [
              0.1111111111111111,
              "#46039f"
             ],
             [
              0.2222222222222222,
              "#7201a8"
             ],
             [
              0.3333333333333333,
              "#9c179e"
             ],
             [
              0.4444444444444444,
              "#bd3786"
             ],
             [
              0.5555555555555556,
              "#d8576b"
             ],
             [
              0.6666666666666666,
              "#ed7953"
             ],
             [
              0.7777777777777778,
              "#fb9f3a"
             ],
             [
              0.8888888888888888,
              "#fdca26"
             ],
             [
              1,
              "#f0f921"
             ]
            ],
            "type": "heatmap"
           }
          ],
          "heatmapgl": [
           {
            "colorbar": {
             "outlinewidth": 0,
             "ticks": ""
            },
            "colorscale": [
             [
              0,
              "#0d0887"
             ],
             [
              0.1111111111111111,
              "#46039f"
             ],
             [
              0.2222222222222222,
              "#7201a8"
             ],
             [
              0.3333333333333333,
              "#9c179e"
             ],
             [
              0.4444444444444444,
              "#bd3786"
             ],
             [
              0.5555555555555556,
              "#d8576b"
             ],
             [
              0.6666666666666666,
              "#ed7953"
             ],
             [
              0.7777777777777778,
              "#fb9f3a"
             ],
             [
              0.8888888888888888,
              "#fdca26"
             ],
             [
              1,
              "#f0f921"
             ]
            ],
            "type": "heatmapgl"
           }
          ],
          "histogram": [
           {
            "marker": {
             "pattern": {
              "fillmode": "overlay",
              "size": 10,
              "solidity": 0.2
             }
            },
            "type": "histogram"
           }
          ],
          "histogram2d": [
           {
            "colorbar": {
             "outlinewidth": 0,
             "ticks": ""
            },
            "colorscale": [
             [
              0,
              "#0d0887"
             ],
             [
              0.1111111111111111,
              "#46039f"
             ],
             [
              0.2222222222222222,
              "#7201a8"
             ],
             [
              0.3333333333333333,
              "#9c179e"
             ],
             [
              0.4444444444444444,
              "#bd3786"
             ],
             [
              0.5555555555555556,
              "#d8576b"
             ],
             [
              0.6666666666666666,
              "#ed7953"
             ],
             [
              0.7777777777777778,
              "#fb9f3a"
             ],
             [
              0.8888888888888888,
              "#fdca26"
             ],
             [
              1,
              "#f0f921"
             ]
            ],
            "type": "histogram2d"
           }
          ],
          "histogram2dcontour": [
           {
            "colorbar": {
             "outlinewidth": 0,
             "ticks": ""
            },
            "colorscale": [
             [
              0,
              "#0d0887"
             ],
             [
              0.1111111111111111,
              "#46039f"
             ],
             [
              0.2222222222222222,
              "#7201a8"
             ],
             [
              0.3333333333333333,
              "#9c179e"
             ],
             [
              0.4444444444444444,
              "#bd3786"
             ],
             [
              0.5555555555555556,
              "#d8576b"
             ],
             [
              0.6666666666666666,
              "#ed7953"
             ],
             [
              0.7777777777777778,
              "#fb9f3a"
             ],
             [
              0.8888888888888888,
              "#fdca26"
             ],
             [
              1,
              "#f0f921"
             ]
            ],
            "type": "histogram2dcontour"
           }
          ],
          "mesh3d": [
           {
            "colorbar": {
             "outlinewidth": 0,
             "ticks": ""
            },
            "type": "mesh3d"
           }
          ],
          "parcoords": [
           {
            "line": {
             "colorbar": {
              "outlinewidth": 0,
              "ticks": ""
             }
            },
            "type": "parcoords"
           }
          ],
          "pie": [
           {
            "automargin": true,
            "type": "pie"
           }
          ],
          "scatter": [
           {
            "fillpattern": {
             "fillmode": "overlay",
             "size": 10,
             "solidity": 0.2
            },
            "type": "scatter"
           }
          ],
          "scatter3d": [
           {
            "line": {
             "colorbar": {
              "outlinewidth": 0,
              "ticks": ""
             }
            },
            "marker": {
             "colorbar": {
              "outlinewidth": 0,
              "ticks": ""
             }
            },
            "type": "scatter3d"
           }
          ],
          "scattercarpet": [
           {
            "marker": {
             "colorbar": {
              "outlinewidth": 0,
              "ticks": ""
             }
            },
            "type": "scattercarpet"
           }
          ],
          "scattergeo": [
           {
            "marker": {
             "colorbar": {
              "outlinewidth": 0,
              "ticks": ""
             }
            },
            "type": "scattergeo"
           }
          ],
          "scattergl": [
           {
            "marker": {
             "colorbar": {
              "outlinewidth": 0,
              "ticks": ""
             }
            },
            "type": "scattergl"
           }
          ],
          "scattermapbox": [
           {
            "marker": {
             "colorbar": {
              "outlinewidth": 0,
              "ticks": ""
             }
            },
            "type": "scattermapbox"
           }
          ],
          "scatterpolar": [
           {
            "marker": {
             "colorbar": {
              "outlinewidth": 0,
              "ticks": ""
             }
            },
            "type": "scatterpolar"
           }
          ],
          "scatterpolargl": [
           {
            "marker": {
             "colorbar": {
              "outlinewidth": 0,
              "ticks": ""
             }
            },
            "type": "scatterpolargl"
           }
          ],
          "scatterternary": [
           {
            "marker": {
             "colorbar": {
              "outlinewidth": 0,
              "ticks": ""
             }
            },
            "type": "scatterternary"
           }
          ],
          "surface": [
           {
            "colorbar": {
             "outlinewidth": 0,
             "ticks": ""
            },
            "colorscale": [
             [
              0,
              "#0d0887"
             ],
             [
              0.1111111111111111,
              "#46039f"
             ],
             [
              0.2222222222222222,
              "#7201a8"
             ],
             [
              0.3333333333333333,
              "#9c179e"
             ],
             [
              0.4444444444444444,
              "#bd3786"
             ],
             [
              0.5555555555555556,
              "#d8576b"
             ],
             [
              0.6666666666666666,
              "#ed7953"
             ],
             [
              0.7777777777777778,
              "#fb9f3a"
             ],
             [
              0.8888888888888888,
              "#fdca26"
             ],
             [
              1,
              "#f0f921"
             ]
            ],
            "type": "surface"
           }
          ],
          "table": [
           {
            "cells": {
             "fill": {
              "color": "#EBF0F8"
             },
             "line": {
              "color": "white"
             }
            },
            "header": {
             "fill": {
              "color": "#C8D4E3"
             },
             "line": {
              "color": "white"
             }
            },
            "type": "table"
           }
          ]
         },
         "layout": {
          "annotationdefaults": {
           "arrowcolor": "#2a3f5f",
           "arrowhead": 0,
           "arrowwidth": 1
          },
          "autotypenumbers": "strict",
          "coloraxis": {
           "colorbar": {
            "outlinewidth": 0,
            "ticks": ""
           }
          },
          "colorscale": {
           "diverging": [
            [
             0,
             "#8e0152"
            ],
            [
             0.1,
             "#c51b7d"
            ],
            [
             0.2,
             "#de77ae"
            ],
            [
             0.3,
             "#f1b6da"
            ],
            [
             0.4,
             "#fde0ef"
            ],
            [
             0.5,
             "#f7f7f7"
            ],
            [
             0.6,
             "#e6f5d0"
            ],
            [
             0.7,
             "#b8e186"
            ],
            [
             0.8,
             "#7fbc41"
            ],
            [
             0.9,
             "#4d9221"
            ],
            [
             1,
             "#276419"
            ]
           ],
           "sequential": [
            [
             0,
             "#0d0887"
            ],
            [
             0.1111111111111111,
             "#46039f"
            ],
            [
             0.2222222222222222,
             "#7201a8"
            ],
            [
             0.3333333333333333,
             "#9c179e"
            ],
            [
             0.4444444444444444,
             "#bd3786"
            ],
            [
             0.5555555555555556,
             "#d8576b"
            ],
            [
             0.6666666666666666,
             "#ed7953"
            ],
            [
             0.7777777777777778,
             "#fb9f3a"
            ],
            [
             0.8888888888888888,
             "#fdca26"
            ],
            [
             1,
             "#f0f921"
            ]
           ],
           "sequentialminus": [
            [
             0,
             "#0d0887"
            ],
            [
             0.1111111111111111,
             "#46039f"
            ],
            [
             0.2222222222222222,
             "#7201a8"
            ],
            [
             0.3333333333333333,
             "#9c179e"
            ],
            [
             0.4444444444444444,
             "#bd3786"
            ],
            [
             0.5555555555555556,
             "#d8576b"
            ],
            [
             0.6666666666666666,
             "#ed7953"
            ],
            [
             0.7777777777777778,
             "#fb9f3a"
            ],
            [
             0.8888888888888888,
             "#fdca26"
            ],
            [
             1,
             "#f0f921"
            ]
           ]
          },
          "colorway": [
           "#636efa",
           "#EF553B",
           "#00cc96",
           "#ab63fa",
           "#FFA15A",
           "#19d3f3",
           "#FF6692",
           "#B6E880",
           "#FF97FF",
           "#FECB52"
          ],
          "font": {
           "color": "#2a3f5f"
          },
          "geo": {
           "bgcolor": "white",
           "lakecolor": "white",
           "landcolor": "#E5ECF6",
           "showlakes": true,
           "showland": true,
           "subunitcolor": "white"
          },
          "hoverlabel": {
           "align": "left"
          },
          "hovermode": "closest",
          "mapbox": {
           "style": "light"
          },
          "paper_bgcolor": "white",
          "plot_bgcolor": "#E5ECF6",
          "polar": {
           "angularaxis": {
            "gridcolor": "white",
            "linecolor": "white",
            "ticks": ""
           },
           "bgcolor": "#E5ECF6",
           "radialaxis": {
            "gridcolor": "white",
            "linecolor": "white",
            "ticks": ""
           }
          },
          "scene": {
           "xaxis": {
            "backgroundcolor": "#E5ECF6",
            "gridcolor": "white",
            "gridwidth": 2,
            "linecolor": "white",
            "showbackground": true,
            "ticks": "",
            "zerolinecolor": "white"
           },
           "yaxis": {
            "backgroundcolor": "#E5ECF6",
            "gridcolor": "white",
            "gridwidth": 2,
            "linecolor": "white",
            "showbackground": true,
            "ticks": "",
            "zerolinecolor": "white"
           },
           "zaxis": {
            "backgroundcolor": "#E5ECF6",
            "gridcolor": "white",
            "gridwidth": 2,
            "linecolor": "white",
            "showbackground": true,
            "ticks": "",
            "zerolinecolor": "white"
           }
          },
          "shapedefaults": {
           "line": {
            "color": "#2a3f5f"
           }
          },
          "ternary": {
           "aaxis": {
            "gridcolor": "white",
            "linecolor": "white",
            "ticks": ""
           },
           "baxis": {
            "gridcolor": "white",
            "linecolor": "white",
            "ticks": ""
           },
           "bgcolor": "#E5ECF6",
           "caxis": {
            "gridcolor": "white",
            "linecolor": "white",
            "ticks": ""
           }
          },
          "title": {
           "x": 0.05
          },
          "xaxis": {
           "automargin": true,
           "gridcolor": "white",
           "linecolor": "white",
           "ticks": "",
           "title": {
            "standoff": 15
           },
           "zerolinecolor": "white",
           "zerolinewidth": 2
          },
          "yaxis": {
           "automargin": true,
           "gridcolor": "white",
           "linecolor": "white",
           "ticks": "",
           "title": {
            "standoff": 15
           },
           "zerolinecolor": "white",
           "zerolinewidth": 2
          }
         }
        },
        "title": {
         "font": {
          "color": "dimgrey",
          "size": 30
         },
         "text": "Effect of Coefficient of Rolling Resistance on model Velocity Kgs"
        },
        "xaxis": {
         "anchor": "y",
         "domain": [
          0,
          1
         ],
         "gridcolor": "#e6e6e6",
         "gridwidth": 1,
         "showgrid": true,
         "title": {
          "text": "Coefficient of Rolling Resistance  <i> </i>"
         }
        },
        "yaxis": {
         "anchor": "x",
         "domain": [
          0,
          1
         ],
         "gridcolor": "#e6e6e6",
         "gridwidth": 1,
         "range": [
          82.07515562358445,
          802.5126327639368
         ],
         "showgrid": true,
         "title": {
          "text": "Water Ration Kms"
         }
        }
       }
      }
     },
     "metadata": {},
     "output_type": "display_data"
    },
    {
     "data": {
      "application/vnd.plotly.v1+json": {
       "config": {
        "plotlyServerURL": "https://plot.ly"
       },
       "data": [
        {
         "customdata": [
          [
           201.2736108236773,
           5.133334336540235,
           3.2724126714422637,
           6.99425600163821
          ],
          [
           195.1745237946726,
           4.974742745357255,
           3.108165736783804,
           6.841319753930702
          ],
          [
           190.74414678286803,
           4.859269246833113,
           2.986409585214595,
           6.732128908451632
          ],
          [
           187.29995360614515,
           4.769323027461282,
           2.8901386428946987,
           6.648507412027868
          ],
          [
           184.5017548650036,
           4.696127396756454,
           2.810781668361826,
           6.581473125151084
          ],
          [
           181.36789952087042,
           4.61498077923084,
           2.7434345438273073,
           6.48652701463437
          ],
          [
           177.7578110816491,
           4.522265674949029,
           2.685037785980833,
           6.359493563917228
          ]
         ],
         "hovertemplate": "DataType=Sensitivity<br>Variable=%{x}<br>Water Ration Kms=%{y}<br>MarkerSize=%{marker.size}<br>Velocity Kgs=%{customdata[0]}<br>Mean Trip Velocity=%{customdata[1]}<br>Mean Loaded Velocity=%{customdata[2]}<br>Mean Unloaded Velocity=%{customdata[3]}<extra></extra>",
         "legendgroup": "Sensitivity",
         "marker": {
          "color": "#3D87CB",
          "size": [
           10,
           10,
           10,
           10,
           10,
           10,
           10
          ],
          "sizemode": "area",
          "sizeref": 0.125,
          "symbol": "circle"
         },
         "mode": "markers",
         "name": "Sensitivity",
         "orientation": "v",
         "showlegend": true,
         "type": "scatter",
         "x": [
          0.28848285,
          0.389152375,
          0.48982190000000003,
          0.590491425,
          0.69116095,
          0.791830475,
          0.8925
         ],
         "xaxis": "x",
         "y": [
          386.4453327814604,
          374.7350856857714,
          366.2287618231066,
          359.6159109237987,
          354.2433693408069,
          348.22636708007127,
          341.29499727676625
         ],
         "yaxis": "y"
        },
        {
         "customdata": [
          [
           189.98878616570474,
           4.839556386779581,
           2.9654227344731168,
           6.7136900390860434
          ]
         ],
         "hovertemplate": "DataType=Default<br>Variable=%{x}<br>Water Ration Kms=%{y}<br>MarkerSize=%{marker.size}<br>Velocity Kgs=%{customdata[0]}<br>Mean Trip Velocity=%{customdata[1]}<br>Mean Loaded Velocity=%{customdata[2]}<br>Mean Unloaded Velocity=%{customdata[3]}<extra></extra>",
         "legendgroup": "Default",
         "marker": {
          "color": "#F0B323",
          "size": [
           50
          ],
          "sizemode": "area",
          "sizeref": 0.125,
          "symbol": "circle"
         },
         "mode": "markers",
         "name": "Default",
         "orientation": "v",
         "showlegend": true,
         "type": "scatter",
         "x": [
          0.51
         ],
         "xaxis": "x",
         "y": [
          364.7784694381531
         ],
         "yaxis": "y"
        },
        {
         "customdata": [
          [
           196.59486233537064,
           5.011711775303292,
           3.1467445218341292,
           6.876679028772452
          ]
         ],
         "hovertemplate": "DataType=Minimum Expected<br>Variable=%{x}<br>Water Ration Kms=%{y}<br>MarkerSize=%{marker.size}<br>Velocity Kgs=%{customdata[0]}<br>Mean Trip Velocity=%{customdata[1]}<br>Mean Loaded Velocity=%{customdata[2]}<br>Mean Unloaded Velocity=%{customdata[3]}<extra></extra>",
         "legendgroup": "Minimum Expected",
         "marker": {
          "color": "#DC582A",
          "size": [
           20
          ],
          "sizemode": "area",
          "sizeref": 0.125,
          "symbol": "circle"
         },
         "mode": "markers",
         "name": "Minimum Expected",
         "orientation": "v",
         "showlegend": true,
         "type": "scatter",
         "x": [
          0.3623219
         ],
         "xaxis": "x",
         "y": [
          377.46213568391164
         ],
         "yaxis": "y"
        },
        {
         "customdata": [
          [
           182.4327490715094,
           4.642311831781586,
           2.7604057468441416,
           6.524217916719031
          ]
         ],
         "hovertemplate": "DataType=Maximum Expected<br>Variable=%{x}<br>Water Ration Kms=%{y}<br>MarkerSize=%{marker.size}<br>Velocity Kgs=%{customdata[0]}<br>Mean Trip Velocity=%{customdata[1]}<br>Mean Loaded Velocity=%{customdata[2]}<br>Mean Unloaded Velocity=%{customdata[3]}<extra></extra>",
         "legendgroup": "Maximum Expected",
         "marker": {
          "color": "#674230",
          "size": [
           20
          ],
          "sizemode": "area",
          "sizeref": 0.125,
          "symbol": "circle"
         },
         "mode": "markers",
         "name": "Maximum Expected",
         "orientation": "v",
         "showlegend": true,
         "type": "scatter",
         "x": [
          0.765
         ],
         "xaxis": "x",
         "y": [
          350.270878217298
         ],
         "yaxis": "y"
        }
       ],
       "layout": {
        "font": {
         "color": "dimgrey",
         "family": "Droid Sans Mono",
         "size": 16
        },
        "legend": {
         "itemsizing": "constant",
         "title": {
          "text": "Legend"
         },
         "tracegroupgap": 0
        },
        "paper_bgcolor": "white",
        "plot_bgcolor": "white",
        "template": {
         "data": {
          "bar": [
           {
            "error_x": {
             "color": "#2a3f5f"
            },
            "error_y": {
             "color": "#2a3f5f"
            },
            "marker": {
             "line": {
              "color": "#E5ECF6",
              "width": 0.5
             },
             "pattern": {
              "fillmode": "overlay",
              "size": 10,
              "solidity": 0.2
             }
            },
            "type": "bar"
           }
          ],
          "barpolar": [
           {
            "marker": {
             "line": {
              "color": "#E5ECF6",
              "width": 0.5
             },
             "pattern": {
              "fillmode": "overlay",
              "size": 10,
              "solidity": 0.2
             }
            },
            "type": "barpolar"
           }
          ],
          "carpet": [
           {
            "aaxis": {
             "endlinecolor": "#2a3f5f",
             "gridcolor": "white",
             "linecolor": "white",
             "minorgridcolor": "white",
             "startlinecolor": "#2a3f5f"
            },
            "baxis": {
             "endlinecolor": "#2a3f5f",
             "gridcolor": "white",
             "linecolor": "white",
             "minorgridcolor": "white",
             "startlinecolor": "#2a3f5f"
            },
            "type": "carpet"
           }
          ],
          "choropleth": [
           {
            "colorbar": {
             "outlinewidth": 0,
             "ticks": ""
            },
            "type": "choropleth"
           }
          ],
          "contour": [
           {
            "colorbar": {
             "outlinewidth": 0,
             "ticks": ""
            },
            "colorscale": [
             [
              0,
              "#0d0887"
             ],
             [
              0.1111111111111111,
              "#46039f"
             ],
             [
              0.2222222222222222,
              "#7201a8"
             ],
             [
              0.3333333333333333,
              "#9c179e"
             ],
             [
              0.4444444444444444,
              "#bd3786"
             ],
             [
              0.5555555555555556,
              "#d8576b"
             ],
             [
              0.6666666666666666,
              "#ed7953"
             ],
             [
              0.7777777777777778,
              "#fb9f3a"
             ],
             [
              0.8888888888888888,
              "#fdca26"
             ],
             [
              1,
              "#f0f921"
             ]
            ],
            "type": "contour"
           }
          ],
          "contourcarpet": [
           {
            "colorbar": {
             "outlinewidth": 0,
             "ticks": ""
            },
            "type": "contourcarpet"
           }
          ],
          "heatmap": [
           {
            "colorbar": {
             "outlinewidth": 0,
             "ticks": ""
            },
            "colorscale": [
             [
              0,
              "#0d0887"
             ],
             [
              0.1111111111111111,
              "#46039f"
             ],
             [
              0.2222222222222222,
              "#7201a8"
             ],
             [
              0.3333333333333333,
              "#9c179e"
             ],
             [
              0.4444444444444444,
              "#bd3786"
             ],
             [
              0.5555555555555556,
              "#d8576b"
             ],
             [
              0.6666666666666666,
              "#ed7953"
             ],
             [
              0.7777777777777778,
              "#fb9f3a"
             ],
             [
              0.8888888888888888,
              "#fdca26"
             ],
             [
              1,
              "#f0f921"
             ]
            ],
            "type": "heatmap"
           }
          ],
          "heatmapgl": [
           {
            "colorbar": {
             "outlinewidth": 0,
             "ticks": ""
            },
            "colorscale": [
             [
              0,
              "#0d0887"
             ],
             [
              0.1111111111111111,
              "#46039f"
             ],
             [
              0.2222222222222222,
              "#7201a8"
             ],
             [
              0.3333333333333333,
              "#9c179e"
             ],
             [
              0.4444444444444444,
              "#bd3786"
             ],
             [
              0.5555555555555556,
              "#d8576b"
             ],
             [
              0.6666666666666666,
              "#ed7953"
             ],
             [
              0.7777777777777778,
              "#fb9f3a"
             ],
             [
              0.8888888888888888,
              "#fdca26"
             ],
             [
              1,
              "#f0f921"
             ]
            ],
            "type": "heatmapgl"
           }
          ],
          "histogram": [
           {
            "marker": {
             "pattern": {
              "fillmode": "overlay",
              "size": 10,
              "solidity": 0.2
             }
            },
            "type": "histogram"
           }
          ],
          "histogram2d": [
           {
            "colorbar": {
             "outlinewidth": 0,
             "ticks": ""
            },
            "colorscale": [
             [
              0,
              "#0d0887"
             ],
             [
              0.1111111111111111,
              "#46039f"
             ],
             [
              0.2222222222222222,
              "#7201a8"
             ],
             [
              0.3333333333333333,
              "#9c179e"
             ],
             [
              0.4444444444444444,
              "#bd3786"
             ],
             [
              0.5555555555555556,
              "#d8576b"
             ],
             [
              0.6666666666666666,
              "#ed7953"
             ],
             [
              0.7777777777777778,
              "#fb9f3a"
             ],
             [
              0.8888888888888888,
              "#fdca26"
             ],
             [
              1,
              "#f0f921"
             ]
            ],
            "type": "histogram2d"
           }
          ],
          "histogram2dcontour": [
           {
            "colorbar": {
             "outlinewidth": 0,
             "ticks": ""
            },
            "colorscale": [
             [
              0,
              "#0d0887"
             ],
             [
              0.1111111111111111,
              "#46039f"
             ],
             [
              0.2222222222222222,
              "#7201a8"
             ],
             [
              0.3333333333333333,
              "#9c179e"
             ],
             [
              0.4444444444444444,
              "#bd3786"
             ],
             [
              0.5555555555555556,
              "#d8576b"
             ],
             [
              0.6666666666666666,
              "#ed7953"
             ],
             [
              0.7777777777777778,
              "#fb9f3a"
             ],
             [
              0.8888888888888888,
              "#fdca26"
             ],
             [
              1,
              "#f0f921"
             ]
            ],
            "type": "histogram2dcontour"
           }
          ],
          "mesh3d": [
           {
            "colorbar": {
             "outlinewidth": 0,
             "ticks": ""
            },
            "type": "mesh3d"
           }
          ],
          "parcoords": [
           {
            "line": {
             "colorbar": {
              "outlinewidth": 0,
              "ticks": ""
             }
            },
            "type": "parcoords"
           }
          ],
          "pie": [
           {
            "automargin": true,
            "type": "pie"
           }
          ],
          "scatter": [
           {
            "fillpattern": {
             "fillmode": "overlay",
             "size": 10,
             "solidity": 0.2
            },
            "type": "scatter"
           }
          ],
          "scatter3d": [
           {
            "line": {
             "colorbar": {
              "outlinewidth": 0,
              "ticks": ""
             }
            },
            "marker": {
             "colorbar": {
              "outlinewidth": 0,
              "ticks": ""
             }
            },
            "type": "scatter3d"
           }
          ],
          "scattercarpet": [
           {
            "marker": {
             "colorbar": {
              "outlinewidth": 0,
              "ticks": ""
             }
            },
            "type": "scattercarpet"
           }
          ],
          "scattergeo": [
           {
            "marker": {
             "colorbar": {
              "outlinewidth": 0,
              "ticks": ""
             }
            },
            "type": "scattergeo"
           }
          ],
          "scattergl": [
           {
            "marker": {
             "colorbar": {
              "outlinewidth": 0,
              "ticks": ""
             }
            },
            "type": "scattergl"
           }
          ],
          "scattermapbox": [
           {
            "marker": {
             "colorbar": {
              "outlinewidth": 0,
              "ticks": ""
             }
            },
            "type": "scattermapbox"
           }
          ],
          "scatterpolar": [
           {
            "marker": {
             "colorbar": {
              "outlinewidth": 0,
              "ticks": ""
             }
            },
            "type": "scatterpolar"
           }
          ],
          "scatterpolargl": [
           {
            "marker": {
             "colorbar": {
              "outlinewidth": 0,
              "ticks": ""
             }
            },
            "type": "scatterpolargl"
           }
          ],
          "scatterternary": [
           {
            "marker": {
             "colorbar": {
              "outlinewidth": 0,
              "ticks": ""
             }
            },
            "type": "scatterternary"
           }
          ],
          "surface": [
           {
            "colorbar": {
             "outlinewidth": 0,
             "ticks": ""
            },
            "colorscale": [
             [
              0,
              "#0d0887"
             ],
             [
              0.1111111111111111,
              "#46039f"
             ],
             [
              0.2222222222222222,
              "#7201a8"
             ],
             [
              0.3333333333333333,
              "#9c179e"
             ],
             [
              0.4444444444444444,
              "#bd3786"
             ],
             [
              0.5555555555555556,
              "#d8576b"
             ],
             [
              0.6666666666666666,
              "#ed7953"
             ],
             [
              0.7777777777777778,
              "#fb9f3a"
             ],
             [
              0.8888888888888888,
              "#fdca26"
             ],
             [
              1,
              "#f0f921"
             ]
            ],
            "type": "surface"
           }
          ],
          "table": [
           {
            "cells": {
             "fill": {
              "color": "#EBF0F8"
             },
             "line": {
              "color": "white"
             }
            },
            "header": {
             "fill": {
              "color": "#C8D4E3"
             },
             "line": {
              "color": "white"
             }
            },
            "type": "table"
           }
          ]
         },
         "layout": {
          "annotationdefaults": {
           "arrowcolor": "#2a3f5f",
           "arrowhead": 0,
           "arrowwidth": 1
          },
          "autotypenumbers": "strict",
          "coloraxis": {
           "colorbar": {
            "outlinewidth": 0,
            "ticks": ""
           }
          },
          "colorscale": {
           "diverging": [
            [
             0,
             "#8e0152"
            ],
            [
             0.1,
             "#c51b7d"
            ],
            [
             0.2,
             "#de77ae"
            ],
            [
             0.3,
             "#f1b6da"
            ],
            [
             0.4,
             "#fde0ef"
            ],
            [
             0.5,
             "#f7f7f7"
            ],
            [
             0.6,
             "#e6f5d0"
            ],
            [
             0.7,
             "#b8e186"
            ],
            [
             0.8,
             "#7fbc41"
            ],
            [
             0.9,
             "#4d9221"
            ],
            [
             1,
             "#276419"
            ]
           ],
           "sequential": [
            [
             0,
             "#0d0887"
            ],
            [
             0.1111111111111111,
             "#46039f"
            ],
            [
             0.2222222222222222,
             "#7201a8"
            ],
            [
             0.3333333333333333,
             "#9c179e"
            ],
            [
             0.4444444444444444,
             "#bd3786"
            ],
            [
             0.5555555555555556,
             "#d8576b"
            ],
            [
             0.6666666666666666,
             "#ed7953"
            ],
            [
             0.7777777777777778,
             "#fb9f3a"
            ],
            [
             0.8888888888888888,
             "#fdca26"
            ],
            [
             1,
             "#f0f921"
            ]
           ],
           "sequentialminus": [
            [
             0,
             "#0d0887"
            ],
            [
             0.1111111111111111,
             "#46039f"
            ],
            [
             0.2222222222222222,
             "#7201a8"
            ],
            [
             0.3333333333333333,
             "#9c179e"
            ],
            [
             0.4444444444444444,
             "#bd3786"
            ],
            [
             0.5555555555555556,
             "#d8576b"
            ],
            [
             0.6666666666666666,
             "#ed7953"
            ],
            [
             0.7777777777777778,
             "#fb9f3a"
            ],
            [
             0.8888888888888888,
             "#fdca26"
            ],
            [
             1,
             "#f0f921"
            ]
           ]
          },
          "colorway": [
           "#636efa",
           "#EF553B",
           "#00cc96",
           "#ab63fa",
           "#FFA15A",
           "#19d3f3",
           "#FF6692",
           "#B6E880",
           "#FF97FF",
           "#FECB52"
          ],
          "font": {
           "color": "#2a3f5f"
          },
          "geo": {
           "bgcolor": "white",
           "lakecolor": "white",
           "landcolor": "#E5ECF6",
           "showlakes": true,
           "showland": true,
           "subunitcolor": "white"
          },
          "hoverlabel": {
           "align": "left"
          },
          "hovermode": "closest",
          "mapbox": {
           "style": "light"
          },
          "paper_bgcolor": "white",
          "plot_bgcolor": "#E5ECF6",
          "polar": {
           "angularaxis": {
            "gridcolor": "white",
            "linecolor": "white",
            "ticks": ""
           },
           "bgcolor": "#E5ECF6",
           "radialaxis": {
            "gridcolor": "white",
            "linecolor": "white",
            "ticks": ""
           }
          },
          "scene": {
           "xaxis": {
            "backgroundcolor": "#E5ECF6",
            "gridcolor": "white",
            "gridwidth": 2,
            "linecolor": "white",
            "showbackground": true,
            "ticks": "",
            "zerolinecolor": "white"
           },
           "yaxis": {
            "backgroundcolor": "#E5ECF6",
            "gridcolor": "white",
            "gridwidth": 2,
            "linecolor": "white",
            "showbackground": true,
            "ticks": "",
            "zerolinecolor": "white"
           },
           "zaxis": {
            "backgroundcolor": "#E5ECF6",
            "gridcolor": "white",
            "gridwidth": 2,
            "linecolor": "white",
            "showbackground": true,
            "ticks": "",
            "zerolinecolor": "white"
           }
          },
          "shapedefaults": {
           "line": {
            "color": "#2a3f5f"
           }
          },
          "ternary": {
           "aaxis": {
            "gridcolor": "white",
            "linecolor": "white",
            "ticks": ""
           },
           "baxis": {
            "gridcolor": "white",
            "linecolor": "white",
            "ticks": ""
           },
           "bgcolor": "#E5ECF6",
           "caxis": {
            "gridcolor": "white",
            "linecolor": "white",
            "ticks": ""
           }
          },
          "title": {
           "x": 0.05
          },
          "xaxis": {
           "automargin": true,
           "gridcolor": "white",
           "linecolor": "white",
           "ticks": "",
           "title": {
            "standoff": 15
           },
           "zerolinecolor": "white",
           "zerolinewidth": 2
          },
          "yaxis": {
           "automargin": true,
           "gridcolor": "white",
           "linecolor": "white",
           "ticks": "",
           "title": {
            "standoff": 15
           },
           "zerolinecolor": "white",
           "zerolinewidth": 2
          }
         }
        },
        "title": {
         "font": {
          "color": "dimgrey",
          "size": 30
         },
         "text": "Effect of Reference Area on model Velocity Kgs"
        },
        "xaxis": {
         "anchor": "y",
         "domain": [
          0,
          1
         ],
         "gridcolor": "#e6e6e6",
         "gridwidth": 1,
         "showgrid": true,
         "title": {
          "text": "Reference Area  <i>[m^2]</i>"
         }
        },
        "yaxis": {
         "anchor": "x",
         "domain": [
          0,
          1
         ],
         "gridcolor": "#e6e6e6",
         "gridwidth": 1,
         "range": [
          82.07515562358445,
          802.5126327639368
         ],
         "showgrid": true,
         "title": {
          "text": "Water Ration Kms"
         }
        }
       }
      }
     },
     "metadata": {},
     "output_type": "display_data"
    },
    {
     "data": {
      "application/vnd.plotly.v1+json": {
       "config": {
        "plotlyServerURL": "https://plot.ly"
       },
       "data": [
        {
         "customdata": [
          [
           190.6227008668429,
           4.8561003463642995,
           2.983040011510413,
           6.729160681218184
          ],
          [
           189.47975780025595,
           4.826267856144739,
           2.951240550994002,
           6.701295161295479
          ],
          [
           188.4162451224322,
           4.798492903269341,
           2.9215052344017627,
           6.6754805721369195
          ],
          [
           187.42258712527848,
           4.772528405740049,
           2.8935924431521545,
           6.651464368327941
          ],
          [
           186.49079686291802,
           4.748168197701957,
           2.8673000133858193,
           6.629036382018094
          ],
          [
           185.61414782280673,
           4.7252385805384565,
           2.842457161732967,
           6.60801999934395
          ],
          [
           184.7869255551729,
           4.703591931279257,
           2.81891836456528,
           6.588265497993229
          ]
         ],
         "hovertemplate": "DataType=Sensitivity<br>Variable=%{x}<br>Water Ration Kms=%{y}<br>MarkerSize=%{marker.size}<br>Velocity Kgs=%{customdata[0]}<br>Mean Trip Velocity=%{customdata[1]}<br>Mean Loaded Velocity=%{customdata[2]}<br>Mean Unloaded Velocity=%{customdata[3]}<extra></extra>",
         "legendgroup": "Sensitivity",
         "marker": {
          "color": "#3D87CB",
          "size": [
           10,
           10,
           10,
           10,
           10,
           10,
           10
          ],
          "sizemode": "area",
          "sizeref": 0.125,
          "symbol": "circle"
         },
         "mode": "markers",
         "name": "Sensitivity",
         "orientation": "v",
         "showlegend": true,
         "type": "scatter",
         "x": [
          0.87,
          0.925,
          0.98,
          1.035,
          1.0899999999999999,
          1.145,
          1.2
         ],
         "xaxis": "x",
         "y": [
          365.99558566433836,
          363.8011349764914,
          361.7591906350698,
          359.85136728053465,
          358.0623299768026,
          356.3791638197889,
          354.790897065932
         ],
         "yaxis": "y"
        },
        {
         "customdata": [
          [
           189.98878616570474,
           4.839556386779581,
           2.9654227344731168,
           6.7136900390860434
          ]
         ],
         "hovertemplate": "DataType=Default<br>Variable=%{x}<br>Water Ration Kms=%{y}<br>MarkerSize=%{marker.size}<br>Velocity Kgs=%{customdata[0]}<br>Mean Trip Velocity=%{customdata[1]}<br>Mean Loaded Velocity=%{customdata[2]}<br>Mean Unloaded Velocity=%{customdata[3]}<extra></extra>",
         "legendgroup": "Default",
         "marker": {
          "color": "#F0B323",
          "size": [
           50
          ],
          "sizemode": "area",
          "sizeref": 0.125,
          "symbol": "circle"
         },
         "mode": "markers",
         "name": "Default",
         "orientation": "v",
         "showlegend": true,
         "type": "scatter",
         "x": [
          0.9
         ],
         "xaxis": "x",
         "y": [
          364.7784694381531
         ],
         "yaxis": "y"
        },
        {
         "customdata": [
          [
           190.40849285535904,
           4.850510521886943,
           2.9770923692000206,
           6.723928674573864
          ]
         ],
         "hovertemplate": "DataType=Minimum Expected<br>Variable=%{x}<br>Water Ration Kms=%{y}<br>MarkerSize=%{marker.size}<br>Velocity Kgs=%{customdata[0]}<br>Mean Trip Velocity=%{customdata[1]}<br>Mean Loaded Velocity=%{customdata[2]}<br>Mean Unloaded Velocity=%{customdata[3]}<extra></extra>",
         "legendgroup": "Minimum Expected",
         "marker": {
          "color": "#DC582A",
          "size": [
           20
          ],
          "sizemode": "area",
          "sizeref": 0.125,
          "symbol": "circle"
         },
         "mode": "markers",
         "name": "Minimum Expected",
         "orientation": "v",
         "showlegend": true,
         "type": "scatter",
         "x": [
          0.88
         ],
         "xaxis": "x",
         "y": [
          365.58430628228933
         ],
         "yaxis": "y"
        },
        {
         "customdata": [
          [
           186.32748439218634,
           4.743897409660902,
           2.862679881194296,
           6.625114938127505
          ]
         ],
         "hovertemplate": "DataType=Maximum Expected<br>Variable=%{x}<br>Water Ration Kms=%{y}<br>MarkerSize=%{marker.size}<br>Velocity Kgs=%{customdata[0]}<br>Mean Trip Velocity=%{customdata[1]}<br>Mean Loaded Velocity=%{customdata[2]}<br>Mean Unloaded Velocity=%{customdata[3]}<extra></extra>",
         "legendgroup": "Maximum Expected",
         "marker": {
          "color": "#674230",
          "size": [
           20
          ],
          "sizemode": "area",
          "sizeref": 0.125,
          "symbol": "circle"
         },
         "mode": "markers",
         "name": "Maximum Expected",
         "orientation": "v",
         "showlegend": true,
         "type": "scatter",
         "x": [
          1.1
         ],
         "xaxis": "x",
         "y": [
          357.74877003299775
         ],
         "yaxis": "y"
        }
       ],
       "layout": {
        "font": {
         "color": "dimgrey",
         "family": "Droid Sans Mono",
         "size": 16
        },
        "legend": {
         "itemsizing": "constant",
         "title": {
          "text": "Legend"
         },
         "tracegroupgap": 0
        },
        "paper_bgcolor": "white",
        "plot_bgcolor": "white",
        "template": {
         "data": {
          "bar": [
           {
            "error_x": {
             "color": "#2a3f5f"
            },
            "error_y": {
             "color": "#2a3f5f"
            },
            "marker": {
             "line": {
              "color": "#E5ECF6",
              "width": 0.5
             },
             "pattern": {
              "fillmode": "overlay",
              "size": 10,
              "solidity": 0.2
             }
            },
            "type": "bar"
           }
          ],
          "barpolar": [
           {
            "marker": {
             "line": {
              "color": "#E5ECF6",
              "width": 0.5
             },
             "pattern": {
              "fillmode": "overlay",
              "size": 10,
              "solidity": 0.2
             }
            },
            "type": "barpolar"
           }
          ],
          "carpet": [
           {
            "aaxis": {
             "endlinecolor": "#2a3f5f",
             "gridcolor": "white",
             "linecolor": "white",
             "minorgridcolor": "white",
             "startlinecolor": "#2a3f5f"
            },
            "baxis": {
             "endlinecolor": "#2a3f5f",
             "gridcolor": "white",
             "linecolor": "white",
             "minorgridcolor": "white",
             "startlinecolor": "#2a3f5f"
            },
            "type": "carpet"
           }
          ],
          "choropleth": [
           {
            "colorbar": {
             "outlinewidth": 0,
             "ticks": ""
            },
            "type": "choropleth"
           }
          ],
          "contour": [
           {
            "colorbar": {
             "outlinewidth": 0,
             "ticks": ""
            },
            "colorscale": [
             [
              0,
              "#0d0887"
             ],
             [
              0.1111111111111111,
              "#46039f"
             ],
             [
              0.2222222222222222,
              "#7201a8"
             ],
             [
              0.3333333333333333,
              "#9c179e"
             ],
             [
              0.4444444444444444,
              "#bd3786"
             ],
             [
              0.5555555555555556,
              "#d8576b"
             ],
             [
              0.6666666666666666,
              "#ed7953"
             ],
             [
              0.7777777777777778,
              "#fb9f3a"
             ],
             [
              0.8888888888888888,
              "#fdca26"
             ],
             [
              1,
              "#f0f921"
             ]
            ],
            "type": "contour"
           }
          ],
          "contourcarpet": [
           {
            "colorbar": {
             "outlinewidth": 0,
             "ticks": ""
            },
            "type": "contourcarpet"
           }
          ],
          "heatmap": [
           {
            "colorbar": {
             "outlinewidth": 0,
             "ticks": ""
            },
            "colorscale": [
             [
              0,
              "#0d0887"
             ],
             [
              0.1111111111111111,
              "#46039f"
             ],
             [
              0.2222222222222222,
              "#7201a8"
             ],
             [
              0.3333333333333333,
              "#9c179e"
             ],
             [
              0.4444444444444444,
              "#bd3786"
             ],
             [
              0.5555555555555556,
              "#d8576b"
             ],
             [
              0.6666666666666666,
              "#ed7953"
             ],
             [
              0.7777777777777778,
              "#fb9f3a"
             ],
             [
              0.8888888888888888,
              "#fdca26"
             ],
             [
              1,
              "#f0f921"
             ]
            ],
            "type": "heatmap"
           }
          ],
          "heatmapgl": [
           {
            "colorbar": {
             "outlinewidth": 0,
             "ticks": ""
            },
            "colorscale": [
             [
              0,
              "#0d0887"
             ],
             [
              0.1111111111111111,
              "#46039f"
             ],
             [
              0.2222222222222222,
              "#7201a8"
             ],
             [
              0.3333333333333333,
              "#9c179e"
             ],
             [
              0.4444444444444444,
              "#bd3786"
             ],
             [
              0.5555555555555556,
              "#d8576b"
             ],
             [
              0.6666666666666666,
              "#ed7953"
             ],
             [
              0.7777777777777778,
              "#fb9f3a"
             ],
             [
              0.8888888888888888,
              "#fdca26"
             ],
             [
              1,
              "#f0f921"
             ]
            ],
            "type": "heatmapgl"
           }
          ],
          "histogram": [
           {
            "marker": {
             "pattern": {
              "fillmode": "overlay",
              "size": 10,
              "solidity": 0.2
             }
            },
            "type": "histogram"
           }
          ],
          "histogram2d": [
           {
            "colorbar": {
             "outlinewidth": 0,
             "ticks": ""
            },
            "colorscale": [
             [
              0,
              "#0d0887"
             ],
             [
              0.1111111111111111,
              "#46039f"
             ],
             [
              0.2222222222222222,
              "#7201a8"
             ],
             [
              0.3333333333333333,
              "#9c179e"
             ],
             [
              0.4444444444444444,
              "#bd3786"
             ],
             [
              0.5555555555555556,
              "#d8576b"
             ],
             [
              0.6666666666666666,
              "#ed7953"
             ],
             [
              0.7777777777777778,
              "#fb9f3a"
             ],
             [
              0.8888888888888888,
              "#fdca26"
             ],
             [
              1,
              "#f0f921"
             ]
            ],
            "type": "histogram2d"
           }
          ],
          "histogram2dcontour": [
           {
            "colorbar": {
             "outlinewidth": 0,
             "ticks": ""
            },
            "colorscale": [
             [
              0,
              "#0d0887"
             ],
             [
              0.1111111111111111,
              "#46039f"
             ],
             [
              0.2222222222222222,
              "#7201a8"
             ],
             [
              0.3333333333333333,
              "#9c179e"
             ],
             [
              0.4444444444444444,
              "#bd3786"
             ],
             [
              0.5555555555555556,
              "#d8576b"
             ],
             [
              0.6666666666666666,
              "#ed7953"
             ],
             [
              0.7777777777777778,
              "#fb9f3a"
             ],
             [
              0.8888888888888888,
              "#fdca26"
             ],
             [
              1,
              "#f0f921"
             ]
            ],
            "type": "histogram2dcontour"
           }
          ],
          "mesh3d": [
           {
            "colorbar": {
             "outlinewidth": 0,
             "ticks": ""
            },
            "type": "mesh3d"
           }
          ],
          "parcoords": [
           {
            "line": {
             "colorbar": {
              "outlinewidth": 0,
              "ticks": ""
             }
            },
            "type": "parcoords"
           }
          ],
          "pie": [
           {
            "automargin": true,
            "type": "pie"
           }
          ],
          "scatter": [
           {
            "fillpattern": {
             "fillmode": "overlay",
             "size": 10,
             "solidity": 0.2
            },
            "type": "scatter"
           }
          ],
          "scatter3d": [
           {
            "line": {
             "colorbar": {
              "outlinewidth": 0,
              "ticks": ""
             }
            },
            "marker": {
             "colorbar": {
              "outlinewidth": 0,
              "ticks": ""
             }
            },
            "type": "scatter3d"
           }
          ],
          "scattercarpet": [
           {
            "marker": {
             "colorbar": {
              "outlinewidth": 0,
              "ticks": ""
             }
            },
            "type": "scattercarpet"
           }
          ],
          "scattergeo": [
           {
            "marker": {
             "colorbar": {
              "outlinewidth": 0,
              "ticks": ""
             }
            },
            "type": "scattergeo"
           }
          ],
          "scattergl": [
           {
            "marker": {
             "colorbar": {
              "outlinewidth": 0,
              "ticks": ""
             }
            },
            "type": "scattergl"
           }
          ],
          "scattermapbox": [
           {
            "marker": {
             "colorbar": {
              "outlinewidth": 0,
              "ticks": ""
             }
            },
            "type": "scattermapbox"
           }
          ],
          "scatterpolar": [
           {
            "marker": {
             "colorbar": {
              "outlinewidth": 0,
              "ticks": ""
             }
            },
            "type": "scatterpolar"
           }
          ],
          "scatterpolargl": [
           {
            "marker": {
             "colorbar": {
              "outlinewidth": 0,
              "ticks": ""
             }
            },
            "type": "scatterpolargl"
           }
          ],
          "scatterternary": [
           {
            "marker": {
             "colorbar": {
              "outlinewidth": 0,
              "ticks": ""
             }
            },
            "type": "scatterternary"
           }
          ],
          "surface": [
           {
            "colorbar": {
             "outlinewidth": 0,
             "ticks": ""
            },
            "colorscale": [
             [
              0,
              "#0d0887"
             ],
             [
              0.1111111111111111,
              "#46039f"
             ],
             [
              0.2222222222222222,
              "#7201a8"
             ],
             [
              0.3333333333333333,
              "#9c179e"
             ],
             [
              0.4444444444444444,
              "#bd3786"
             ],
             [
              0.5555555555555556,
              "#d8576b"
             ],
             [
              0.6666666666666666,
              "#ed7953"
             ],
             [
              0.7777777777777778,
              "#fb9f3a"
             ],
             [
              0.8888888888888888,
              "#fdca26"
             ],
             [
              1,
              "#f0f921"
             ]
            ],
            "type": "surface"
           }
          ],
          "table": [
           {
            "cells": {
             "fill": {
              "color": "#EBF0F8"
             },
             "line": {
              "color": "white"
             }
            },
            "header": {
             "fill": {
              "color": "#C8D4E3"
             },
             "line": {
              "color": "white"
             }
            },
            "type": "table"
           }
          ]
         },
         "layout": {
          "annotationdefaults": {
           "arrowcolor": "#2a3f5f",
           "arrowhead": 0,
           "arrowwidth": 1
          },
          "autotypenumbers": "strict",
          "coloraxis": {
           "colorbar": {
            "outlinewidth": 0,
            "ticks": ""
           }
          },
          "colorscale": {
           "diverging": [
            [
             0,
             "#8e0152"
            ],
            [
             0.1,
             "#c51b7d"
            ],
            [
             0.2,
             "#de77ae"
            ],
            [
             0.3,
             "#f1b6da"
            ],
            [
             0.4,
             "#fde0ef"
            ],
            [
             0.5,
             "#f7f7f7"
            ],
            [
             0.6,
             "#e6f5d0"
            ],
            [
             0.7,
             "#b8e186"
            ],
            [
             0.8,
             "#7fbc41"
            ],
            [
             0.9,
             "#4d9221"
            ],
            [
             1,
             "#276419"
            ]
           ],
           "sequential": [
            [
             0,
             "#0d0887"
            ],
            [
             0.1111111111111111,
             "#46039f"
            ],
            [
             0.2222222222222222,
             "#7201a8"
            ],
            [
             0.3333333333333333,
             "#9c179e"
            ],
            [
             0.4444444444444444,
             "#bd3786"
            ],
            [
             0.5555555555555556,
             "#d8576b"
            ],
            [
             0.6666666666666666,
             "#ed7953"
            ],
            [
             0.7777777777777778,
             "#fb9f3a"
            ],
            [
             0.8888888888888888,
             "#fdca26"
            ],
            [
             1,
             "#f0f921"
            ]
           ],
           "sequentialminus": [
            [
             0,
             "#0d0887"
            ],
            [
             0.1111111111111111,
             "#46039f"
            ],
            [
             0.2222222222222222,
             "#7201a8"
            ],
            [
             0.3333333333333333,
             "#9c179e"
            ],
            [
             0.4444444444444444,
             "#bd3786"
            ],
            [
             0.5555555555555556,
             "#d8576b"
            ],
            [
             0.6666666666666666,
             "#ed7953"
            ],
            [
             0.7777777777777778,
             "#fb9f3a"
            ],
            [
             0.8888888888888888,
             "#fdca26"
            ],
            [
             1,
             "#f0f921"
            ]
           ]
          },
          "colorway": [
           "#636efa",
           "#EF553B",
           "#00cc96",
           "#ab63fa",
           "#FFA15A",
           "#19d3f3",
           "#FF6692",
           "#B6E880",
           "#FF97FF",
           "#FECB52"
          ],
          "font": {
           "color": "#2a3f5f"
          },
          "geo": {
           "bgcolor": "white",
           "lakecolor": "white",
           "landcolor": "#E5ECF6",
           "showlakes": true,
           "showland": true,
           "subunitcolor": "white"
          },
          "hoverlabel": {
           "align": "left"
          },
          "hovermode": "closest",
          "mapbox": {
           "style": "light"
          },
          "paper_bgcolor": "white",
          "plot_bgcolor": "#E5ECF6",
          "polar": {
           "angularaxis": {
            "gridcolor": "white",
            "linecolor": "white",
            "ticks": ""
           },
           "bgcolor": "#E5ECF6",
           "radialaxis": {
            "gridcolor": "white",
            "linecolor": "white",
            "ticks": ""
           }
          },
          "scene": {
           "xaxis": {
            "backgroundcolor": "#E5ECF6",
            "gridcolor": "white",
            "gridwidth": 2,
            "linecolor": "white",
            "showbackground": true,
            "ticks": "",
            "zerolinecolor": "white"
           },
           "yaxis": {
            "backgroundcolor": "#E5ECF6",
            "gridcolor": "white",
            "gridwidth": 2,
            "linecolor": "white",
            "showbackground": true,
            "ticks": "",
            "zerolinecolor": "white"
           },
           "zaxis": {
            "backgroundcolor": "#E5ECF6",
            "gridcolor": "white",
            "gridwidth": 2,
            "linecolor": "white",
            "showbackground": true,
            "ticks": "",
            "zerolinecolor": "white"
           }
          },
          "shapedefaults": {
           "line": {
            "color": "#2a3f5f"
           }
          },
          "ternary": {
           "aaxis": {
            "gridcolor": "white",
            "linecolor": "white",
            "ticks": ""
           },
           "baxis": {
            "gridcolor": "white",
            "linecolor": "white",
            "ticks": ""
           },
           "bgcolor": "#E5ECF6",
           "caxis": {
            "gridcolor": "white",
            "linecolor": "white",
            "ticks": ""
           }
          },
          "title": {
           "x": 0.05
          },
          "xaxis": {
           "automargin": true,
           "gridcolor": "white",
           "linecolor": "white",
           "ticks": "",
           "title": {
            "standoff": 15
           },
           "zerolinecolor": "white",
           "zerolinewidth": 2
          },
          "yaxis": {
           "automargin": true,
           "gridcolor": "white",
           "linecolor": "white",
           "ticks": "",
           "title": {
            "standoff": 15
           },
           "zerolinecolor": "white",
           "zerolinewidth": 2
          }
         }
        },
        "title": {
         "font": {
          "color": "dimgrey",
          "size": 30
         },
         "text": "Effect of Drag Coefficient on model Velocity Kgs"
        },
        "xaxis": {
         "anchor": "y",
         "domain": [
          0,
          1
         ],
         "gridcolor": "#e6e6e6",
         "gridwidth": 1,
         "showgrid": true,
         "title": {
          "text": "Drag Coefficient  <i>nan</i>"
         }
        },
        "yaxis": {
         "anchor": "x",
         "domain": [
          0,
          1
         ],
         "gridcolor": "#e6e6e6",
         "gridwidth": 1,
         "range": [
          82.07515562358445,
          802.5126327639368
         ],
         "showgrid": true,
         "title": {
          "text": "Water Ration Kms"
         }
        }
       }
      }
     },
     "metadata": {},
     "output_type": "display_data"
    },
    {
     "data": {
      "application/vnd.plotly.v1+json": {
       "config": {
        "plotlyServerURL": "https://plot.ly"
       },
       "data": [
        {
         "customdata": [
          [
           171.81998870077874,
           4.3654968454667715,
           2.240573675981006,
           6.490420014952536
          ],
          [
           175.8565441838196,
           4.471004681243808,
           2.399708051440792,
           6.542301311046822
          ],
          [
           179.7193582299737,
           4.571887906636076,
           2.553140349558732,
           6.590635463713418
          ],
          [
           183.43045967137965,
           4.668713170338594,
           2.701462075012652,
           6.635964265664535
          ],
          [
           187.00712430341923,
           4.761929551286625,
           2.8451500663636695,
           6.678709036209581
          ],
          [
           190.46323907035122,
           4.8519014652806,
           2.9845984434343427,
           6.719204487126856
          ],
          [
           193.8102029086124,
           4.938930479657865,
           3.12013959531685,
           6.757721363998877
          ]
         ],
         "hovertemplate": "DataType=Sensitivity<br>Variable=%{x}<br>Water Ration Kms=%{y}<br>MarkerSize=%{marker.size}<br>Velocity Kgs=%{customdata[0]}<br>Mean Trip Velocity=%{customdata[1]}<br>Mean Loaded Velocity=%{customdata[2]}<br>Mean Unloaded Velocity=%{customdata[3]}<extra></extra>",
         "legendgroup": "Sensitivity",
         "marker": {
          "color": "#3D87CB",
          "size": [
           10,
           10,
           10,
           10,
           10,
           10,
           10
          ],
          "sizemode": "area",
          "sizeref": 0.125,
          "symbol": "circle"
         },
         "mode": "markers",
         "name": "Sensitivity",
         "orientation": "v",
         "showlegend": true,
         "type": "scatter",
         "x": [
          0.6,
          0.6658333333333333,
          0.7316666666666667,
          0.7975,
          0.8633333333333333,
          0.9291666666666667,
          0.995
         ],
         "xaxis": "x",
         "y": [
          329.89437830549514,
          337.64456483293367,
          345.06116780154946,
          352.18648256904896,
          359.05367866256495,
          365.68941901507435,
          372.1155895845358
         ],
         "yaxis": "y"
        },
        {
         "customdata": [
          [
           189.98878616570474,
           4.839556386779581,
           2.9654227344731168,
           6.7136900390860434
          ]
         ],
         "hovertemplate": "DataType=Default<br>Variable=%{x}<br>Water Ration Kms=%{y}<br>MarkerSize=%{marker.size}<br>Velocity Kgs=%{customdata[0]}<br>Mean Trip Velocity=%{customdata[1]}<br>Mean Loaded Velocity=%{customdata[2]}<br>Mean Unloaded Velocity=%{customdata[3]}<extra></extra>",
         "legendgroup": "Default",
         "marker": {
          "color": "#F0B323",
          "size": [
           50
          ],
          "sizemode": "area",
          "sizeref": 0.125,
          "symbol": "circle"
         },
         "mode": "markers",
         "name": "Default",
         "orientation": "v",
         "showlegend": true,
         "type": "scatter",
         "x": [
          0.92
         ],
         "xaxis": "x",
         "y": [
          364.7784694381531
         ],
         "yaxis": "y"
        },
        {
         "customdata": [
          [
           183.56864113821516,
           4.672316421308863,
           2.7070005068189205,
           6.637632335798802
          ]
         ],
         "hovertemplate": "DataType=Minimum Expected<br>Variable=%{x}<br>Water Ration Kms=%{y}<br>MarkerSize=%{marker.size}<br>Velocity Kgs=%{customdata[0]}<br>Mean Trip Velocity=%{customdata[1]}<br>Mean Loaded Velocity=%{customdata[2]}<br>Mean Unloaded Velocity=%{customdata[3]}<extra></extra>",
         "legendgroup": "Minimum Expected",
         "marker": {
          "color": "#DC582A",
          "size": [
           20
          ],
          "sizemode": "area",
          "sizeref": 0.125,
          "symbol": "circle"
         },
         "mode": "markers",
         "name": "Minimum Expected",
         "orientation": "v",
         "showlegend": true,
         "type": "scatter",
         "x": [
          0.8
         ],
         "xaxis": "x",
         "y": [
          352.4517909853731
         ],
         "yaxis": "y"
        },
        {
         "customdata": [
          [
           192.55141730826614,
           4.906211022213254,
           3.0691093896148804,
           6.743312654811627
          ]
         ],
         "hovertemplate": "DataType=Maximum Expected<br>Variable=%{x}<br>Water Ration Kms=%{y}<br>MarkerSize=%{marker.size}<br>Velocity Kgs=%{customdata[0]}<br>Mean Trip Velocity=%{customdata[1]}<br>Mean Loaded Velocity=%{customdata[2]}<br>Mean Unloaded Velocity=%{customdata[3]}<extra></extra>",
         "legendgroup": "Maximum Expected",
         "marker": {
          "color": "#674230",
          "size": [
           20
          ],
          "sizemode": "area",
          "sizeref": 0.125,
          "symbol": "circle"
         },
         "mode": "markers",
         "name": "Maximum Expected",
         "orientation": "v",
         "showlegend": true,
         "type": "scatter",
         "x": [
          0.97
         ],
         "xaxis": "x",
         "y": [
          369.69872123187093
         ],
         "yaxis": "y"
        }
       ],
       "layout": {
        "font": {
         "color": "dimgrey",
         "family": "Droid Sans Mono",
         "size": 16
        },
        "legend": {
         "itemsizing": "constant",
         "title": {
          "text": "Legend"
         },
         "tracegroupgap": 0
        },
        "paper_bgcolor": "white",
        "plot_bgcolor": "white",
        "template": {
         "data": {
          "bar": [
           {
            "error_x": {
             "color": "#2a3f5f"
            },
            "error_y": {
             "color": "#2a3f5f"
            },
            "marker": {
             "line": {
              "color": "#E5ECF6",
              "width": 0.5
             },
             "pattern": {
              "fillmode": "overlay",
              "size": 10,
              "solidity": 0.2
             }
            },
            "type": "bar"
           }
          ],
          "barpolar": [
           {
            "marker": {
             "line": {
              "color": "#E5ECF6",
              "width": 0.5
             },
             "pattern": {
              "fillmode": "overlay",
              "size": 10,
              "solidity": 0.2
             }
            },
            "type": "barpolar"
           }
          ],
          "carpet": [
           {
            "aaxis": {
             "endlinecolor": "#2a3f5f",
             "gridcolor": "white",
             "linecolor": "white",
             "minorgridcolor": "white",
             "startlinecolor": "#2a3f5f"
            },
            "baxis": {
             "endlinecolor": "#2a3f5f",
             "gridcolor": "white",
             "linecolor": "white",
             "minorgridcolor": "white",
             "startlinecolor": "#2a3f5f"
            },
            "type": "carpet"
           }
          ],
          "choropleth": [
           {
            "colorbar": {
             "outlinewidth": 0,
             "ticks": ""
            },
            "type": "choropleth"
           }
          ],
          "contour": [
           {
            "colorbar": {
             "outlinewidth": 0,
             "ticks": ""
            },
            "colorscale": [
             [
              0,
              "#0d0887"
             ],
             [
              0.1111111111111111,
              "#46039f"
             ],
             [
              0.2222222222222222,
              "#7201a8"
             ],
             [
              0.3333333333333333,
              "#9c179e"
             ],
             [
              0.4444444444444444,
              "#bd3786"
             ],
             [
              0.5555555555555556,
              "#d8576b"
             ],
             [
              0.6666666666666666,
              "#ed7953"
             ],
             [
              0.7777777777777778,
              "#fb9f3a"
             ],
             [
              0.8888888888888888,
              "#fdca26"
             ],
             [
              1,
              "#f0f921"
             ]
            ],
            "type": "contour"
           }
          ],
          "contourcarpet": [
           {
            "colorbar": {
             "outlinewidth": 0,
             "ticks": ""
            },
            "type": "contourcarpet"
           }
          ],
          "heatmap": [
           {
            "colorbar": {
             "outlinewidth": 0,
             "ticks": ""
            },
            "colorscale": [
             [
              0,
              "#0d0887"
             ],
             [
              0.1111111111111111,
              "#46039f"
             ],
             [
              0.2222222222222222,
              "#7201a8"
             ],
             [
              0.3333333333333333,
              "#9c179e"
             ],
             [
              0.4444444444444444,
              "#bd3786"
             ],
             [
              0.5555555555555556,
              "#d8576b"
             ],
             [
              0.6666666666666666,
              "#ed7953"
             ],
             [
              0.7777777777777778,
              "#fb9f3a"
             ],
             [
              0.8888888888888888,
              "#fdca26"
             ],
             [
              1,
              "#f0f921"
             ]
            ],
            "type": "heatmap"
           }
          ],
          "heatmapgl": [
           {
            "colorbar": {
             "outlinewidth": 0,
             "ticks": ""
            },
            "colorscale": [
             [
              0,
              "#0d0887"
             ],
             [
              0.1111111111111111,
              "#46039f"
             ],
             [
              0.2222222222222222,
              "#7201a8"
             ],
             [
              0.3333333333333333,
              "#9c179e"
             ],
             [
              0.4444444444444444,
              "#bd3786"
             ],
             [
              0.5555555555555556,
              "#d8576b"
             ],
             [
              0.6666666666666666,
              "#ed7953"
             ],
             [
              0.7777777777777778,
              "#fb9f3a"
             ],
             [
              0.8888888888888888,
              "#fdca26"
             ],
             [
              1,
              "#f0f921"
             ]
            ],
            "type": "heatmapgl"
           }
          ],
          "histogram": [
           {
            "marker": {
             "pattern": {
              "fillmode": "overlay",
              "size": 10,
              "solidity": 0.2
             }
            },
            "type": "histogram"
           }
          ],
          "histogram2d": [
           {
            "colorbar": {
             "outlinewidth": 0,
             "ticks": ""
            },
            "colorscale": [
             [
              0,
              "#0d0887"
             ],
             [
              0.1111111111111111,
              "#46039f"
             ],
             [
              0.2222222222222222,
              "#7201a8"
             ],
             [
              0.3333333333333333,
              "#9c179e"
             ],
             [
              0.4444444444444444,
              "#bd3786"
             ],
             [
              0.5555555555555556,
              "#d8576b"
             ],
             [
              0.6666666666666666,
              "#ed7953"
             ],
             [
              0.7777777777777778,
              "#fb9f3a"
             ],
             [
              0.8888888888888888,
              "#fdca26"
             ],
             [
              1,
              "#f0f921"
             ]
            ],
            "type": "histogram2d"
           }
          ],
          "histogram2dcontour": [
           {
            "colorbar": {
             "outlinewidth": 0,
             "ticks": ""
            },
            "colorscale": [
             [
              0,
              "#0d0887"
             ],
             [
              0.1111111111111111,
              "#46039f"
             ],
             [
              0.2222222222222222,
              "#7201a8"
             ],
             [
              0.3333333333333333,
              "#9c179e"
             ],
             [
              0.4444444444444444,
              "#bd3786"
             ],
             [
              0.5555555555555556,
              "#d8576b"
             ],
             [
              0.6666666666666666,
              "#ed7953"
             ],
             [
              0.7777777777777778,
              "#fb9f3a"
             ],
             [
              0.8888888888888888,
              "#fdca26"
             ],
             [
              1,
              "#f0f921"
             ]
            ],
            "type": "histogram2dcontour"
           }
          ],
          "mesh3d": [
           {
            "colorbar": {
             "outlinewidth": 0,
             "ticks": ""
            },
            "type": "mesh3d"
           }
          ],
          "parcoords": [
           {
            "line": {
             "colorbar": {
              "outlinewidth": 0,
              "ticks": ""
             }
            },
            "type": "parcoords"
           }
          ],
          "pie": [
           {
            "automargin": true,
            "type": "pie"
           }
          ],
          "scatter": [
           {
            "fillpattern": {
             "fillmode": "overlay",
             "size": 10,
             "solidity": 0.2
            },
            "type": "scatter"
           }
          ],
          "scatter3d": [
           {
            "line": {
             "colorbar": {
              "outlinewidth": 0,
              "ticks": ""
             }
            },
            "marker": {
             "colorbar": {
              "outlinewidth": 0,
              "ticks": ""
             }
            },
            "type": "scatter3d"
           }
          ],
          "scattercarpet": [
           {
            "marker": {
             "colorbar": {
              "outlinewidth": 0,
              "ticks": ""
             }
            },
            "type": "scattercarpet"
           }
          ],
          "scattergeo": [
           {
            "marker": {
             "colorbar": {
              "outlinewidth": 0,
              "ticks": ""
             }
            },
            "type": "scattergeo"
           }
          ],
          "scattergl": [
           {
            "marker": {
             "colorbar": {
              "outlinewidth": 0,
              "ticks": ""
             }
            },
            "type": "scattergl"
           }
          ],
          "scattermapbox": [
           {
            "marker": {
             "colorbar": {
              "outlinewidth": 0,
              "ticks": ""
             }
            },
            "type": "scattermapbox"
           }
          ],
          "scatterpolar": [
           {
            "marker": {
             "colorbar": {
              "outlinewidth": 0,
              "ticks": ""
             }
            },
            "type": "scatterpolar"
           }
          ],
          "scatterpolargl": [
           {
            "marker": {
             "colorbar": {
              "outlinewidth": 0,
              "ticks": ""
             }
            },
            "type": "scatterpolargl"
           }
          ],
          "scatterternary": [
           {
            "marker": {
             "colorbar": {
              "outlinewidth": 0,
              "ticks": ""
             }
            },
            "type": "scatterternary"
           }
          ],
          "surface": [
           {
            "colorbar": {
             "outlinewidth": 0,
             "ticks": ""
            },
            "colorscale": [
             [
              0,
              "#0d0887"
             ],
             [
              0.1111111111111111,
              "#46039f"
             ],
             [
              0.2222222222222222,
              "#7201a8"
             ],
             [
              0.3333333333333333,
              "#9c179e"
             ],
             [
              0.4444444444444444,
              "#bd3786"
             ],
             [
              0.5555555555555556,
              "#d8576b"
             ],
             [
              0.6666666666666666,
              "#ed7953"
             ],
             [
              0.7777777777777778,
              "#fb9f3a"
             ],
             [
              0.8888888888888888,
              "#fdca26"
             ],
             [
              1,
              "#f0f921"
             ]
            ],
            "type": "surface"
           }
          ],
          "table": [
           {
            "cells": {
             "fill": {
              "color": "#EBF0F8"
             },
             "line": {
              "color": "white"
             }
            },
            "header": {
             "fill": {
              "color": "#C8D4E3"
             },
             "line": {
              "color": "white"
             }
            },
            "type": "table"
           }
          ]
         },
         "layout": {
          "annotationdefaults": {
           "arrowcolor": "#2a3f5f",
           "arrowhead": 0,
           "arrowwidth": 1
          },
          "autotypenumbers": "strict",
          "coloraxis": {
           "colorbar": {
            "outlinewidth": 0,
            "ticks": ""
           }
          },
          "colorscale": {
           "diverging": [
            [
             0,
             "#8e0152"
            ],
            [
             0.1,
             "#c51b7d"
            ],
            [
             0.2,
             "#de77ae"
            ],
            [
             0.3,
             "#f1b6da"
            ],
            [
             0.4,
             "#fde0ef"
            ],
            [
             0.5,
             "#f7f7f7"
            ],
            [
             0.6,
             "#e6f5d0"
            ],
            [
             0.7,
             "#b8e186"
            ],
            [
             0.8,
             "#7fbc41"
            ],
            [
             0.9,
             "#4d9221"
            ],
            [
             1,
             "#276419"
            ]
           ],
           "sequential": [
            [
             0,
             "#0d0887"
            ],
            [
             0.1111111111111111,
             "#46039f"
            ],
            [
             0.2222222222222222,
             "#7201a8"
            ],
            [
             0.3333333333333333,
             "#9c179e"
            ],
            [
             0.4444444444444444,
             "#bd3786"
            ],
            [
             0.5555555555555556,
             "#d8576b"
            ],
            [
             0.6666666666666666,
             "#ed7953"
            ],
            [
             0.7777777777777778,
             "#fb9f3a"
            ],
            [
             0.8888888888888888,
             "#fdca26"
            ],
            [
             1,
             "#f0f921"
            ]
           ],
           "sequentialminus": [
            [
             0,
             "#0d0887"
            ],
            [
             0.1111111111111111,
             "#46039f"
            ],
            [
             0.2222222222222222,
             "#7201a8"
            ],
            [
             0.3333333333333333,
             "#9c179e"
            ],
            [
             0.4444444444444444,
             "#bd3786"
            ],
            [
             0.5555555555555556,
             "#d8576b"
            ],
            [
             0.6666666666666666,
             "#ed7953"
            ],
            [
             0.7777777777777778,
             "#fb9f3a"
            ],
            [
             0.8888888888888888,
             "#fdca26"
            ],
            [
             1,
             "#f0f921"
            ]
           ]
          },
          "colorway": [
           "#636efa",
           "#EF553B",
           "#00cc96",
           "#ab63fa",
           "#FFA15A",
           "#19d3f3",
           "#FF6692",
           "#B6E880",
           "#FF97FF",
           "#FECB52"
          ],
          "font": {
           "color": "#2a3f5f"
          },
          "geo": {
           "bgcolor": "white",
           "lakecolor": "white",
           "landcolor": "#E5ECF6",
           "showlakes": true,
           "showland": true,
           "subunitcolor": "white"
          },
          "hoverlabel": {
           "align": "left"
          },
          "hovermode": "closest",
          "mapbox": {
           "style": "light"
          },
          "paper_bgcolor": "white",
          "plot_bgcolor": "#E5ECF6",
          "polar": {
           "angularaxis": {
            "gridcolor": "white",
            "linecolor": "white",
            "ticks": ""
           },
           "bgcolor": "#E5ECF6",
           "radialaxis": {
            "gridcolor": "white",
            "linecolor": "white",
            "ticks": ""
           }
          },
          "scene": {
           "xaxis": {
            "backgroundcolor": "#E5ECF6",
            "gridcolor": "white",
            "gridwidth": 2,
            "linecolor": "white",
            "showbackground": true,
            "ticks": "",
            "zerolinecolor": "white"
           },
           "yaxis": {
            "backgroundcolor": "#E5ECF6",
            "gridcolor": "white",
            "gridwidth": 2,
            "linecolor": "white",
            "showbackground": true,
            "ticks": "",
            "zerolinecolor": "white"
           },
           "zaxis": {
            "backgroundcolor": "#E5ECF6",
            "gridcolor": "white",
            "gridwidth": 2,
            "linecolor": "white",
            "showbackground": true,
            "ticks": "",
            "zerolinecolor": "white"
           }
          },
          "shapedefaults": {
           "line": {
            "color": "#2a3f5f"
           }
          },
          "ternary": {
           "aaxis": {
            "gridcolor": "white",
            "linecolor": "white",
            "ticks": ""
           },
           "baxis": {
            "gridcolor": "white",
            "linecolor": "white",
            "ticks": ""
           },
           "bgcolor": "#E5ECF6",
           "caxis": {
            "gridcolor": "white",
            "linecolor": "white",
            "ticks": ""
           }
          },
          "title": {
           "x": 0.05
          },
          "xaxis": {
           "automargin": true,
           "gridcolor": "white",
           "linecolor": "white",
           "ticks": "",
           "title": {
            "standoff": 15
           },
           "zerolinecolor": "white",
           "zerolinewidth": 2
          },
          "yaxis": {
           "automargin": true,
           "gridcolor": "white",
           "linecolor": "white",
           "ticks": "",
           "title": {
            "standoff": 15
           },
           "zerolinecolor": "white",
           "zerolinewidth": 2
          }
         }
        },
        "title": {
         "font": {
          "color": "dimgrey",
          "size": 30
         },
         "text": "Effect of Efficiency on model Velocity Kgs"
        },
        "xaxis": {
         "anchor": "y",
         "domain": [
          0,
          1
         ],
         "gridcolor": "#e6e6e6",
         "gridwidth": 1,
         "showgrid": true,
         "title": {
          "text": "Efficiency  <i> </i>"
         }
        },
        "yaxis": {
         "anchor": "x",
         "domain": [
          0,
          1
         ],
         "gridcolor": "#e6e6e6",
         "gridwidth": 1,
         "range": [
          82.07515562358445,
          802.5126327639368
         ],
         "showgrid": true,
         "title": {
          "text": "Water Ration Kms"
         }
        }
       }
      }
     },
     "metadata": {},
     "output_type": "display_data"
    },
    {
     "data": {
      "application/vnd.plotly.v1+json": {
       "config": {
        "plotlyServerURL": "https://plot.ly"
       },
       "data": [
        {
         "customdata": [
          [
           199.19720280637895,
           5.0793872415518875,
           3.216899252355469,
           6.941875230748309
          ],
          [
           196.81140994740593,
           5.017346095720741,
           3.152607989871882,
           6.882084201569597
          ],
          [
           194.72647191355998,
           4.963075765959931,
           3.0959517401798298,
           6.83019979174003
          ],
          [
           192.87955176304814,
           4.91495732417222,
           3.0453727755201965,
           6.784541872824245
          ],
          [
           191.2252029873408,
           4.871819595433592,
           2.9997393424138985,
           6.7438998484532835
          ],
          [
           189.72956524030542,
           4.832789680961161,
           2.958204506379825,
           6.707374855542497
          ],
          [
           188.36677971035814,
           4.79720068013457,
           2.920118716304607,
           6.67428264396453
          ]
         ],
         "hovertemplate": "DataType=Sensitivity<br>Variable=%{x}<br>Water Ration Kms=%{y}<br>MarkerSize=%{marker.size}<br>Velocity Kgs=%{customdata[0]}<br>Mean Trip Velocity=%{customdata[1]}<br>Mean Loaded Velocity=%{customdata[2]}<br>Mean Unloaded Velocity=%{customdata[3]}<extra></extra>",
         "legendgroup": "Sensitivity",
         "marker": {
          "color": "#3D87CB",
          "size": [
           10,
           10,
           10,
           10,
           10,
           10,
           10
          ],
          "sizemode": "area",
          "sizeref": 0.125,
          "symbol": "circle"
         },
         "mode": "markers",
         "name": "Sensitivity",
         "orientation": "v",
         "showlegend": true,
         "type": "scatter",
         "x": [
          0.765625,
          0.8609375,
          0.9562499999999999,
          1.0515625,
          1.1468749999999999,
          1.2421875,
          1.3375
         ],
         "xaxis": "x",
         "y": [
          382.4586293882476,
          377.8779070990194,
          373.8748260740351,
          370.3287393850524,
          367.1523897356943,
          364.2807652613864,
          361.6642170438877
         ],
         "yaxis": "y"
        },
        {
         "customdata": [
          [
           189.98878616570474,
           4.839556386779581,
           2.9654227344731168,
           6.7136900390860434
          ]
         ],
         "hovertemplate": "DataType=Default<br>Variable=%{x}<br>Water Ration Kms=%{y}<br>MarkerSize=%{marker.size}<br>Velocity Kgs=%{customdata[0]}<br>Mean Trip Velocity=%{customdata[1]}<br>Mean Loaded Velocity=%{customdata[2]}<br>Mean Unloaded Velocity=%{customdata[3]}<extra></extra>",
         "legendgroup": "Default",
         "marker": {
          "color": "#F0B323",
          "size": [
           50
          ],
          "sizemode": "area",
          "sizeref": 0.125,
          "symbol": "circle"
         },
         "mode": "markers",
         "name": "Default",
         "orientation": "v",
         "showlegend": true,
         "type": "scatter",
         "x": [
          1.225
         ],
         "xaxis": "x",
         "y": [
          364.7784694381531
         ],
         "yaxis": "y"
        },
        {
         "customdata": [
          [
           195.5153594968948,
           4.983616282520994,
           3.1174426694753454,
           6.849789895566644
          ]
         ],
         "hovertemplate": "DataType=Minimum Expected<br>Variable=%{x}<br>Water Ration Kms=%{y}<br>MarkerSize=%{marker.size}<br>Velocity Kgs=%{customdata[0]}<br>Mean Trip Velocity=%{customdata[1]}<br>Mean Loaded Velocity=%{customdata[2]}<br>Mean Unloaded Velocity=%{customdata[3]}<extra></extra>",
         "legendgroup": "Minimum Expected",
         "marker": {
          "color": "#DC582A",
          "size": [
           20
          ],
          "sizemode": "area",
          "sizeref": 0.125,
          "symbol": "circle"
         },
         "mode": "markers",
         "name": "Minimum Expected",
         "orientation": "v",
         "showlegend": true,
         "type": "scatter",
         "x": [
          0.91875
         ],
         "xaxis": "x",
         "y": [
          375.389490234038
         ],
         "yaxis": "y"
        },
        {
         "customdata": [
          [
           188.8885000232883,
           4.81082831096442,
           2.9347268729387364,
           6.686929748990099
          ]
         ],
         "hovertemplate": "DataType=Maximum Expected<br>Variable=%{x}<br>Water Ration Kms=%{y}<br>MarkerSize=%{marker.size}<br>Velocity Kgs=%{customdata[0]}<br>Mean Trip Velocity=%{customdata[1]}<br>Mean Loaded Velocity=%{customdata[2]}<br>Mean Unloaded Velocity=%{customdata[3]}<extra></extra>",
         "legendgroup": "Maximum Expected",
         "marker": {
          "color": "#674230",
          "size": [
           20
          ],
          "sizemode": "area",
          "sizeref": 0.125,
          "symbol": "circle"
         },
         "mode": "markers",
         "name": "Maximum Expected",
         "orientation": "v",
         "showlegend": true,
         "type": "scatter",
         "x": [
          1.3
         ],
         "xaxis": "x",
         "y": [
          362.66592004471346
         ],
         "yaxis": "y"
        }
       ],
       "layout": {
        "font": {
         "color": "dimgrey",
         "family": "Droid Sans Mono",
         "size": 16
        },
        "legend": {
         "itemsizing": "constant",
         "title": {
          "text": "Legend"
         },
         "tracegroupgap": 0
        },
        "paper_bgcolor": "white",
        "plot_bgcolor": "white",
        "template": {
         "data": {
          "bar": [
           {
            "error_x": {
             "color": "#2a3f5f"
            },
            "error_y": {
             "color": "#2a3f5f"
            },
            "marker": {
             "line": {
              "color": "#E5ECF6",
              "width": 0.5
             },
             "pattern": {
              "fillmode": "overlay",
              "size": 10,
              "solidity": 0.2
             }
            },
            "type": "bar"
           }
          ],
          "barpolar": [
           {
            "marker": {
             "line": {
              "color": "#E5ECF6",
              "width": 0.5
             },
             "pattern": {
              "fillmode": "overlay",
              "size": 10,
              "solidity": 0.2
             }
            },
            "type": "barpolar"
           }
          ],
          "carpet": [
           {
            "aaxis": {
             "endlinecolor": "#2a3f5f",
             "gridcolor": "white",
             "linecolor": "white",
             "minorgridcolor": "white",
             "startlinecolor": "#2a3f5f"
            },
            "baxis": {
             "endlinecolor": "#2a3f5f",
             "gridcolor": "white",
             "linecolor": "white",
             "minorgridcolor": "white",
             "startlinecolor": "#2a3f5f"
            },
            "type": "carpet"
           }
          ],
          "choropleth": [
           {
            "colorbar": {
             "outlinewidth": 0,
             "ticks": ""
            },
            "type": "choropleth"
           }
          ],
          "contour": [
           {
            "colorbar": {
             "outlinewidth": 0,
             "ticks": ""
            },
            "colorscale": [
             [
              0,
              "#0d0887"
             ],
             [
              0.1111111111111111,
              "#46039f"
             ],
             [
              0.2222222222222222,
              "#7201a8"
             ],
             [
              0.3333333333333333,
              "#9c179e"
             ],
             [
              0.4444444444444444,
              "#bd3786"
             ],
             [
              0.5555555555555556,
              "#d8576b"
             ],
             [
              0.6666666666666666,
              "#ed7953"
             ],
             [
              0.7777777777777778,
              "#fb9f3a"
             ],
             [
              0.8888888888888888,
              "#fdca26"
             ],
             [
              1,
              "#f0f921"
             ]
            ],
            "type": "contour"
           }
          ],
          "contourcarpet": [
           {
            "colorbar": {
             "outlinewidth": 0,
             "ticks": ""
            },
            "type": "contourcarpet"
           }
          ],
          "heatmap": [
           {
            "colorbar": {
             "outlinewidth": 0,
             "ticks": ""
            },
            "colorscale": [
             [
              0,
              "#0d0887"
             ],
             [
              0.1111111111111111,
              "#46039f"
             ],
             [
              0.2222222222222222,
              "#7201a8"
             ],
             [
              0.3333333333333333,
              "#9c179e"
             ],
             [
              0.4444444444444444,
              "#bd3786"
             ],
             [
              0.5555555555555556,
              "#d8576b"
             ],
             [
              0.6666666666666666,
              "#ed7953"
             ],
             [
              0.7777777777777778,
              "#fb9f3a"
             ],
             [
              0.8888888888888888,
              "#fdca26"
             ],
             [
              1,
              "#f0f921"
             ]
            ],
            "type": "heatmap"
           }
          ],
          "heatmapgl": [
           {
            "colorbar": {
             "outlinewidth": 0,
             "ticks": ""
            },
            "colorscale": [
             [
              0,
              "#0d0887"
             ],
             [
              0.1111111111111111,
              "#46039f"
             ],
             [
              0.2222222222222222,
              "#7201a8"
             ],
             [
              0.3333333333333333,
              "#9c179e"
             ],
             [
              0.4444444444444444,
              "#bd3786"
             ],
             [
              0.5555555555555556,
              "#d8576b"
             ],
             [
              0.6666666666666666,
              "#ed7953"
             ],
             [
              0.7777777777777778,
              "#fb9f3a"
             ],
             [
              0.8888888888888888,
              "#fdca26"
             ],
             [
              1,
              "#f0f921"
             ]
            ],
            "type": "heatmapgl"
           }
          ],
          "histogram": [
           {
            "marker": {
             "pattern": {
              "fillmode": "overlay",
              "size": 10,
              "solidity": 0.2
             }
            },
            "type": "histogram"
           }
          ],
          "histogram2d": [
           {
            "colorbar": {
             "outlinewidth": 0,
             "ticks": ""
            },
            "colorscale": [
             [
              0,
              "#0d0887"
             ],
             [
              0.1111111111111111,
              "#46039f"
             ],
             [
              0.2222222222222222,
              "#7201a8"
             ],
             [
              0.3333333333333333,
              "#9c179e"
             ],
             [
              0.4444444444444444,
              "#bd3786"
             ],
             [
              0.5555555555555556,
              "#d8576b"
             ],
             [
              0.6666666666666666,
              "#ed7953"
             ],
             [
              0.7777777777777778,
              "#fb9f3a"
             ],
             [
              0.8888888888888888,
              "#fdca26"
             ],
             [
              1,
              "#f0f921"
             ]
            ],
            "type": "histogram2d"
           }
          ],
          "histogram2dcontour": [
           {
            "colorbar": {
             "outlinewidth": 0,
             "ticks": ""
            },
            "colorscale": [
             [
              0,
              "#0d0887"
             ],
             [
              0.1111111111111111,
              "#46039f"
             ],
             [
              0.2222222222222222,
              "#7201a8"
             ],
             [
              0.3333333333333333,
              "#9c179e"
             ],
             [
              0.4444444444444444,
              "#bd3786"
             ],
             [
              0.5555555555555556,
              "#d8576b"
             ],
             [
              0.6666666666666666,
              "#ed7953"
             ],
             [
              0.7777777777777778,
              "#fb9f3a"
             ],
             [
              0.8888888888888888,
              "#fdca26"
             ],
             [
              1,
              "#f0f921"
             ]
            ],
            "type": "histogram2dcontour"
           }
          ],
          "mesh3d": [
           {
            "colorbar": {
             "outlinewidth": 0,
             "ticks": ""
            },
            "type": "mesh3d"
           }
          ],
          "parcoords": [
           {
            "line": {
             "colorbar": {
              "outlinewidth": 0,
              "ticks": ""
             }
            },
            "type": "parcoords"
           }
          ],
          "pie": [
           {
            "automargin": true,
            "type": "pie"
           }
          ],
          "scatter": [
           {
            "fillpattern": {
             "fillmode": "overlay",
             "size": 10,
             "solidity": 0.2
            },
            "type": "scatter"
           }
          ],
          "scatter3d": [
           {
            "line": {
             "colorbar": {
              "outlinewidth": 0,
              "ticks": ""
             }
            },
            "marker": {
             "colorbar": {
              "outlinewidth": 0,
              "ticks": ""
             }
            },
            "type": "scatter3d"
           }
          ],
          "scattercarpet": [
           {
            "marker": {
             "colorbar": {
              "outlinewidth": 0,
              "ticks": ""
             }
            },
            "type": "scattercarpet"
           }
          ],
          "scattergeo": [
           {
            "marker": {
             "colorbar": {
              "outlinewidth": 0,
              "ticks": ""
             }
            },
            "type": "scattergeo"
           }
          ],
          "scattergl": [
           {
            "marker": {
             "colorbar": {
              "outlinewidth": 0,
              "ticks": ""
             }
            },
            "type": "scattergl"
           }
          ],
          "scattermapbox": [
           {
            "marker": {
             "colorbar": {
              "outlinewidth": 0,
              "ticks": ""
             }
            },
            "type": "scattermapbox"
           }
          ],
          "scatterpolar": [
           {
            "marker": {
             "colorbar": {
              "outlinewidth": 0,
              "ticks": ""
             }
            },
            "type": "scatterpolar"
           }
          ],
          "scatterpolargl": [
           {
            "marker": {
             "colorbar": {
              "outlinewidth": 0,
              "ticks": ""
             }
            },
            "type": "scatterpolargl"
           }
          ],
          "scatterternary": [
           {
            "marker": {
             "colorbar": {
              "outlinewidth": 0,
              "ticks": ""
             }
            },
            "type": "scatterternary"
           }
          ],
          "surface": [
           {
            "colorbar": {
             "outlinewidth": 0,
             "ticks": ""
            },
            "colorscale": [
             [
              0,
              "#0d0887"
             ],
             [
              0.1111111111111111,
              "#46039f"
             ],
             [
              0.2222222222222222,
              "#7201a8"
             ],
             [
              0.3333333333333333,
              "#9c179e"
             ],
             [
              0.4444444444444444,
              "#bd3786"
             ],
             [
              0.5555555555555556,
              "#d8576b"
             ],
             [
              0.6666666666666666,
              "#ed7953"
             ],
             [
              0.7777777777777778,
              "#fb9f3a"
             ],
             [
              0.8888888888888888,
              "#fdca26"
             ],
             [
              1,
              "#f0f921"
             ]
            ],
            "type": "surface"
           }
          ],
          "table": [
           {
            "cells": {
             "fill": {
              "color": "#EBF0F8"
             },
             "line": {
              "color": "white"
             }
            },
            "header": {
             "fill": {
              "color": "#C8D4E3"
             },
             "line": {
              "color": "white"
             }
            },
            "type": "table"
           }
          ]
         },
         "layout": {
          "annotationdefaults": {
           "arrowcolor": "#2a3f5f",
           "arrowhead": 0,
           "arrowwidth": 1
          },
          "autotypenumbers": "strict",
          "coloraxis": {
           "colorbar": {
            "outlinewidth": 0,
            "ticks": ""
           }
          },
          "colorscale": {
           "diverging": [
            [
             0,
             "#8e0152"
            ],
            [
             0.1,
             "#c51b7d"
            ],
            [
             0.2,
             "#de77ae"
            ],
            [
             0.3,
             "#f1b6da"
            ],
            [
             0.4,
             "#fde0ef"
            ],
            [
             0.5,
             "#f7f7f7"
            ],
            [
             0.6,
             "#e6f5d0"
            ],
            [
             0.7,
             "#b8e186"
            ],
            [
             0.8,
             "#7fbc41"
            ],
            [
             0.9,
             "#4d9221"
            ],
            [
             1,
             "#276419"
            ]
           ],
           "sequential": [
            [
             0,
             "#0d0887"
            ],
            [
             0.1111111111111111,
             "#46039f"
            ],
            [
             0.2222222222222222,
             "#7201a8"
            ],
            [
             0.3333333333333333,
             "#9c179e"
            ],
            [
             0.4444444444444444,
             "#bd3786"
            ],
            [
             0.5555555555555556,
             "#d8576b"
            ],
            [
             0.6666666666666666,
             "#ed7953"
            ],
            [
             0.7777777777777778,
             "#fb9f3a"
            ],
            [
             0.8888888888888888,
             "#fdca26"
            ],
            [
             1,
             "#f0f921"
            ]
           ],
           "sequentialminus": [
            [
             0,
             "#0d0887"
            ],
            [
             0.1111111111111111,
             "#46039f"
            ],
            [
             0.2222222222222222,
             "#7201a8"
            ],
            [
             0.3333333333333333,
             "#9c179e"
            ],
            [
             0.4444444444444444,
             "#bd3786"
            ],
            [
             0.5555555555555556,
             "#d8576b"
            ],
            [
             0.6666666666666666,
             "#ed7953"
            ],
            [
             0.7777777777777778,
             "#fb9f3a"
            ],
            [
             0.8888888888888888,
             "#fdca26"
            ],
            [
             1,
             "#f0f921"
            ]
           ]
          },
          "colorway": [
           "#636efa",
           "#EF553B",
           "#00cc96",
           "#ab63fa",
           "#FFA15A",
           "#19d3f3",
           "#FF6692",
           "#B6E880",
           "#FF97FF",
           "#FECB52"
          ],
          "font": {
           "color": "#2a3f5f"
          },
          "geo": {
           "bgcolor": "white",
           "lakecolor": "white",
           "landcolor": "#E5ECF6",
           "showlakes": true,
           "showland": true,
           "subunitcolor": "white"
          },
          "hoverlabel": {
           "align": "left"
          },
          "hovermode": "closest",
          "mapbox": {
           "style": "light"
          },
          "paper_bgcolor": "white",
          "plot_bgcolor": "#E5ECF6",
          "polar": {
           "angularaxis": {
            "gridcolor": "white",
            "linecolor": "white",
            "ticks": ""
           },
           "bgcolor": "#E5ECF6",
           "radialaxis": {
            "gridcolor": "white",
            "linecolor": "white",
            "ticks": ""
           }
          },
          "scene": {
           "xaxis": {
            "backgroundcolor": "#E5ECF6",
            "gridcolor": "white",
            "gridwidth": 2,
            "linecolor": "white",
            "showbackground": true,
            "ticks": "",
            "zerolinecolor": "white"
           },
           "yaxis": {
            "backgroundcolor": "#E5ECF6",
            "gridcolor": "white",
            "gridwidth": 2,
            "linecolor": "white",
            "showbackground": true,
            "ticks": "",
            "zerolinecolor": "white"
           },
           "zaxis": {
            "backgroundcolor": "#E5ECF6",
            "gridcolor": "white",
            "gridwidth": 2,
            "linecolor": "white",
            "showbackground": true,
            "ticks": "",
            "zerolinecolor": "white"
           }
          },
          "shapedefaults": {
           "line": {
            "color": "#2a3f5f"
           }
          },
          "ternary": {
           "aaxis": {
            "gridcolor": "white",
            "linecolor": "white",
            "ticks": ""
           },
           "baxis": {
            "gridcolor": "white",
            "linecolor": "white",
            "ticks": ""
           },
           "bgcolor": "#E5ECF6",
           "caxis": {
            "gridcolor": "white",
            "linecolor": "white",
            "ticks": ""
           }
          },
          "title": {
           "x": 0.05
          },
          "xaxis": {
           "automargin": true,
           "gridcolor": "white",
           "linecolor": "white",
           "ticks": "",
           "title": {
            "standoff": 15
           },
           "zerolinecolor": "white",
           "zerolinewidth": 2
          },
          "yaxis": {
           "automargin": true,
           "gridcolor": "white",
           "linecolor": "white",
           "ticks": "",
           "title": {
            "standoff": 15
           },
           "zerolinecolor": "white",
           "zerolinewidth": 2
          }
         }
        },
        "title": {
         "font": {
          "color": "dimgrey",
          "size": 30
         },
         "text": "Effect of Air Density on model Velocity Kgs"
        },
        "xaxis": {
         "anchor": "y",
         "domain": [
          0,
          1
         ],
         "gridcolor": "#e6e6e6",
         "gridwidth": 1,
         "showgrid": true,
         "title": {
          "text": "Air Density  <i>nan</i>"
         }
        },
        "yaxis": {
         "anchor": "x",
         "domain": [
          0,
          1
         ],
         "gridcolor": "#e6e6e6",
         "gridwidth": 1,
         "range": [
          82.07515562358445,
          802.5126327639368
         ],
         "showgrid": true,
         "title": {
          "text": "Water Ration Kms"
         }
        }
       }
      }
     },
     "metadata": {},
     "output_type": "display_data"
    },
    {
     "data": {
      "application/vnd.plotly.v1+json": {
       "config": {
        "plotlyServerURL": "https://plot.ly"
       },
       "data": [
        {
         "customdata": [
          [
           189.98878616570474,
           4.839556386779581,
           2.9654227344731168,
           6.7136900390860434
          ],
          [
           189.98878616570474,
           4.839556386779581,
           2.9654227344731168,
           6.7136900390860434
          ],
          [
           189.98878616570474,
           4.839556386779581,
           2.9654227344731168,
           6.7136900390860434
          ],
          [
           189.98878616570474,
           4.839556386779581,
           2.9654227344731168,
           6.7136900390860434
          ],
          [
           189.98878616570474,
           4.839556386779581,
           2.9654227344731168,
           6.7136900390860434
          ],
          [
           189.98878616570474,
           4.839556386779581,
           2.9654227344731168,
           6.7136900390860434
          ],
          [
           189.98878616570474,
           4.839556386779581,
           2.9654227344731168,
           6.7136900390860434
          ]
         ],
         "hovertemplate": "DataType=Sensitivity<br>Variable=%{x}<br>Water Ration Kms=%{y}<br>MarkerSize=%{marker.size}<br>Velocity Kgs=%{customdata[0]}<br>Mean Trip Velocity=%{customdata[1]}<br>Mean Loaded Velocity=%{customdata[2]}<br>Mean Unloaded Velocity=%{customdata[3]}<extra></extra>",
         "legendgroup": "Sensitivity",
         "marker": {
          "color": "#3D87CB",
          "size": [
           10,
           10,
           10,
           10,
           10,
           10,
           10
          ],
          "sizemode": "area",
          "sizeref": 0.125,
          "symbol": "circle"
         },
         "mode": "markers",
         "name": "Sensitivity",
         "orientation": "v",
         "showlegend": true,
         "type": "scatter",
         "x": [
          1.75,
          2.625,
          3.5,
          4.375,
          5.25,
          6.125,
          7
         ],
         "xaxis": "x",
         "y": [
          364.7784694381531,
          364.7784694381531,
          364.7784694381531,
          364.7784694381531,
          364.7784694381531,
          364.7784694381531,
          364.7784694381531
         ],
         "yaxis": "y"
        },
        {
         "customdata": [
          [
           189.98878616570474,
           4.839556386779581,
           2.9654227344731168,
           6.7136900390860434
          ]
         ],
         "hovertemplate": "DataType=Default<br>Variable=%{x}<br>Water Ration Kms=%{y}<br>MarkerSize=%{marker.size}<br>Velocity Kgs=%{customdata[0]}<br>Mean Trip Velocity=%{customdata[1]}<br>Mean Loaded Velocity=%{customdata[2]}<br>Mean Unloaded Velocity=%{customdata[3]}<extra></extra>",
         "legendgroup": "Default",
         "marker": {
          "color": "#F0B323",
          "size": [
           50
          ],
          "sizemode": "area",
          "sizeref": 0.125,
          "symbol": "circle"
         },
         "mode": "markers",
         "name": "Default",
         "orientation": "v",
         "showlegend": true,
         "type": "scatter",
         "x": [
          4
         ],
         "xaxis": "x",
         "y": [
          364.7784694381531
         ],
         "yaxis": "y"
        },
        {
         "customdata": [
          [
           189.98878616570474,
           4.839556386779581,
           2.9654227344731168,
           6.7136900390860434
          ]
         ],
         "hovertemplate": "DataType=Minimum Expected<br>Variable=%{x}<br>Water Ration Kms=%{y}<br>MarkerSize=%{marker.size}<br>Velocity Kgs=%{customdata[0]}<br>Mean Trip Velocity=%{customdata[1]}<br>Mean Loaded Velocity=%{customdata[2]}<br>Mean Unloaded Velocity=%{customdata[3]}<extra></extra>",
         "legendgroup": "Minimum Expected",
         "marker": {
          "color": "#DC582A",
          "size": [
           20
          ],
          "sizemode": "area",
          "sizeref": 0.125,
          "symbol": "circle"
         },
         "mode": "markers",
         "name": "Minimum Expected",
         "orientation": "v",
         "showlegend": true,
         "type": "scatter",
         "x": [
          2.5
         ],
         "xaxis": "x",
         "y": [
          364.7784694381531
         ],
         "yaxis": "y"
        },
        {
         "customdata": [
          [
           189.98878616570474,
           4.839556386779581,
           2.9654227344731168,
           6.7136900390860434
          ]
         ],
         "hovertemplate": "DataType=Maximum Expected<br>Variable=%{x}<br>Water Ration Kms=%{y}<br>MarkerSize=%{marker.size}<br>Velocity Kgs=%{customdata[0]}<br>Mean Trip Velocity=%{customdata[1]}<br>Mean Loaded Velocity=%{customdata[2]}<br>Mean Unloaded Velocity=%{customdata[3]}<extra></extra>",
         "legendgroup": "Maximum Expected",
         "marker": {
          "color": "#674230",
          "size": [
           20
          ],
          "sizemode": "area",
          "sizeref": 0.125,
          "symbol": "circle"
         },
         "mode": "markers",
         "name": "Maximum Expected",
         "orientation": "v",
         "showlegend": true,
         "type": "scatter",
         "x": [
          6
         ],
         "xaxis": "x",
         "y": [
          364.7784694381531
         ],
         "yaxis": "y"
        }
       ],
       "layout": {
        "font": {
         "color": "dimgrey",
         "family": "Droid Sans Mono",
         "size": 16
        },
        "legend": {
         "itemsizing": "constant",
         "title": {
          "text": "Legend"
         },
         "tracegroupgap": 0
        },
        "paper_bgcolor": "white",
        "plot_bgcolor": "white",
        "template": {
         "data": {
          "bar": [
           {
            "error_x": {
             "color": "#2a3f5f"
            },
            "error_y": {
             "color": "#2a3f5f"
            },
            "marker": {
             "line": {
              "color": "#E5ECF6",
              "width": 0.5
             },
             "pattern": {
              "fillmode": "overlay",
              "size": 10,
              "solidity": 0.2
             }
            },
            "type": "bar"
           }
          ],
          "barpolar": [
           {
            "marker": {
             "line": {
              "color": "#E5ECF6",
              "width": 0.5
             },
             "pattern": {
              "fillmode": "overlay",
              "size": 10,
              "solidity": 0.2
             }
            },
            "type": "barpolar"
           }
          ],
          "carpet": [
           {
            "aaxis": {
             "endlinecolor": "#2a3f5f",
             "gridcolor": "white",
             "linecolor": "white",
             "minorgridcolor": "white",
             "startlinecolor": "#2a3f5f"
            },
            "baxis": {
             "endlinecolor": "#2a3f5f",
             "gridcolor": "white",
             "linecolor": "white",
             "minorgridcolor": "white",
             "startlinecolor": "#2a3f5f"
            },
            "type": "carpet"
           }
          ],
          "choropleth": [
           {
            "colorbar": {
             "outlinewidth": 0,
             "ticks": ""
            },
            "type": "choropleth"
           }
          ],
          "contour": [
           {
            "colorbar": {
             "outlinewidth": 0,
             "ticks": ""
            },
            "colorscale": [
             [
              0,
              "#0d0887"
             ],
             [
              0.1111111111111111,
              "#46039f"
             ],
             [
              0.2222222222222222,
              "#7201a8"
             ],
             [
              0.3333333333333333,
              "#9c179e"
             ],
             [
              0.4444444444444444,
              "#bd3786"
             ],
             [
              0.5555555555555556,
              "#d8576b"
             ],
             [
              0.6666666666666666,
              "#ed7953"
             ],
             [
              0.7777777777777778,
              "#fb9f3a"
             ],
             [
              0.8888888888888888,
              "#fdca26"
             ],
             [
              1,
              "#f0f921"
             ]
            ],
            "type": "contour"
           }
          ],
          "contourcarpet": [
           {
            "colorbar": {
             "outlinewidth": 0,
             "ticks": ""
            },
            "type": "contourcarpet"
           }
          ],
          "heatmap": [
           {
            "colorbar": {
             "outlinewidth": 0,
             "ticks": ""
            },
            "colorscale": [
             [
              0,
              "#0d0887"
             ],
             [
              0.1111111111111111,
              "#46039f"
             ],
             [
              0.2222222222222222,
              "#7201a8"
             ],
             [
              0.3333333333333333,
              "#9c179e"
             ],
             [
              0.4444444444444444,
              "#bd3786"
             ],
             [
              0.5555555555555556,
              "#d8576b"
             ],
             [
              0.6666666666666666,
              "#ed7953"
             ],
             [
              0.7777777777777778,
              "#fb9f3a"
             ],
             [
              0.8888888888888888,
              "#fdca26"
             ],
             [
              1,
              "#f0f921"
             ]
            ],
            "type": "heatmap"
           }
          ],
          "heatmapgl": [
           {
            "colorbar": {
             "outlinewidth": 0,
             "ticks": ""
            },
            "colorscale": [
             [
              0,
              "#0d0887"
             ],
             [
              0.1111111111111111,
              "#46039f"
             ],
             [
              0.2222222222222222,
              "#7201a8"
             ],
             [
              0.3333333333333333,
              "#9c179e"
             ],
             [
              0.4444444444444444,
              "#bd3786"
             ],
             [
              0.5555555555555556,
              "#d8576b"
             ],
             [
              0.6666666666666666,
              "#ed7953"
             ],
             [
              0.7777777777777778,
              "#fb9f3a"
             ],
             [
              0.8888888888888888,
              "#fdca26"
             ],
             [
              1,
              "#f0f921"
             ]
            ],
            "type": "heatmapgl"
           }
          ],
          "histogram": [
           {
            "marker": {
             "pattern": {
              "fillmode": "overlay",
              "size": 10,
              "solidity": 0.2
             }
            },
            "type": "histogram"
           }
          ],
          "histogram2d": [
           {
            "colorbar": {
             "outlinewidth": 0,
             "ticks": ""
            },
            "colorscale": [
             [
              0,
              "#0d0887"
             ],
             [
              0.1111111111111111,
              "#46039f"
             ],
             [
              0.2222222222222222,
              "#7201a8"
             ],
             [
              0.3333333333333333,
              "#9c179e"
             ],
             [
              0.4444444444444444,
              "#bd3786"
             ],
             [
              0.5555555555555556,
              "#d8576b"
             ],
             [
              0.6666666666666666,
              "#ed7953"
             ],
             [
              0.7777777777777778,
              "#fb9f3a"
             ],
             [
              0.8888888888888888,
              "#fdca26"
             ],
             [
              1,
              "#f0f921"
             ]
            ],
            "type": "histogram2d"
           }
          ],
          "histogram2dcontour": [
           {
            "colorbar": {
             "outlinewidth": 0,
             "ticks": ""
            },
            "colorscale": [
             [
              0,
              "#0d0887"
             ],
             [
              0.1111111111111111,
              "#46039f"
             ],
             [
              0.2222222222222222,
              "#7201a8"
             ],
             [
              0.3333333333333333,
              "#9c179e"
             ],
             [
              0.4444444444444444,
              "#bd3786"
             ],
             [
              0.5555555555555556,
              "#d8576b"
             ],
             [
              0.6666666666666666,
              "#ed7953"
             ],
             [
              0.7777777777777778,
              "#fb9f3a"
             ],
             [
              0.8888888888888888,
              "#fdca26"
             ],
             [
              1,
              "#f0f921"
             ]
            ],
            "type": "histogram2dcontour"
           }
          ],
          "mesh3d": [
           {
            "colorbar": {
             "outlinewidth": 0,
             "ticks": ""
            },
            "type": "mesh3d"
           }
          ],
          "parcoords": [
           {
            "line": {
             "colorbar": {
              "outlinewidth": 0,
              "ticks": ""
             }
            },
            "type": "parcoords"
           }
          ],
          "pie": [
           {
            "automargin": true,
            "type": "pie"
           }
          ],
          "scatter": [
           {
            "fillpattern": {
             "fillmode": "overlay",
             "size": 10,
             "solidity": 0.2
            },
            "type": "scatter"
           }
          ],
          "scatter3d": [
           {
            "line": {
             "colorbar": {
              "outlinewidth": 0,
              "ticks": ""
             }
            },
            "marker": {
             "colorbar": {
              "outlinewidth": 0,
              "ticks": ""
             }
            },
            "type": "scatter3d"
           }
          ],
          "scattercarpet": [
           {
            "marker": {
             "colorbar": {
              "outlinewidth": 0,
              "ticks": ""
             }
            },
            "type": "scattercarpet"
           }
          ],
          "scattergeo": [
           {
            "marker": {
             "colorbar": {
              "outlinewidth": 0,
              "ticks": ""
             }
            },
            "type": "scattergeo"
           }
          ],
          "scattergl": [
           {
            "marker": {
             "colorbar": {
              "outlinewidth": 0,
              "ticks": ""
             }
            },
            "type": "scattergl"
           }
          ],
          "scattermapbox": [
           {
            "marker": {
             "colorbar": {
              "outlinewidth": 0,
              "ticks": ""
             }
            },
            "type": "scattermapbox"
           }
          ],
          "scatterpolar": [
           {
            "marker": {
             "colorbar": {
              "outlinewidth": 0,
              "ticks": ""
             }
            },
            "type": "scatterpolar"
           }
          ],
          "scatterpolargl": [
           {
            "marker": {
             "colorbar": {
              "outlinewidth": 0,
              "ticks": ""
             }
            },
            "type": "scatterpolargl"
           }
          ],
          "scatterternary": [
           {
            "marker": {
             "colorbar": {
              "outlinewidth": 0,
              "ticks": ""
             }
            },
            "type": "scatterternary"
           }
          ],
          "surface": [
           {
            "colorbar": {
             "outlinewidth": 0,
             "ticks": ""
            },
            "colorscale": [
             [
              0,
              "#0d0887"
             ],
             [
              0.1111111111111111,
              "#46039f"
             ],
             [
              0.2222222222222222,
              "#7201a8"
             ],
             [
              0.3333333333333333,
              "#9c179e"
             ],
             [
              0.4444444444444444,
              "#bd3786"
             ],
             [
              0.5555555555555556,
              "#d8576b"
             ],
             [
              0.6666666666666666,
              "#ed7953"
             ],
             [
              0.7777777777777778,
              "#fb9f3a"
             ],
             [
              0.8888888888888888,
              "#fdca26"
             ],
             [
              1,
              "#f0f921"
             ]
            ],
            "type": "surface"
           }
          ],
          "table": [
           {
            "cells": {
             "fill": {
              "color": "#EBF0F8"
             },
             "line": {
              "color": "white"
             }
            },
            "header": {
             "fill": {
              "color": "#C8D4E3"
             },
             "line": {
              "color": "white"
             }
            },
            "type": "table"
           }
          ]
         },
         "layout": {
          "annotationdefaults": {
           "arrowcolor": "#2a3f5f",
           "arrowhead": 0,
           "arrowwidth": 1
          },
          "autotypenumbers": "strict",
          "coloraxis": {
           "colorbar": {
            "outlinewidth": 0,
            "ticks": ""
           }
          },
          "colorscale": {
           "diverging": [
            [
             0,
             "#8e0152"
            ],
            [
             0.1,
             "#c51b7d"
            ],
            [
             0.2,
             "#de77ae"
            ],
            [
             0.3,
             "#f1b6da"
            ],
            [
             0.4,
             "#fde0ef"
            ],
            [
             0.5,
             "#f7f7f7"
            ],
            [
             0.6,
             "#e6f5d0"
            ],
            [
             0.7,
             "#b8e186"
            ],
            [
             0.8,
             "#7fbc41"
            ],
            [
             0.9,
             "#4d9221"
            ],
            [
             1,
             "#276419"
            ]
           ],
           "sequential": [
            [
             0,
             "#0d0887"
            ],
            [
             0.1111111111111111,
             "#46039f"
            ],
            [
             0.2222222222222222,
             "#7201a8"
            ],
            [
             0.3333333333333333,
             "#9c179e"
            ],
            [
             0.4444444444444444,
             "#bd3786"
            ],
            [
             0.5555555555555556,
             "#d8576b"
            ],
            [
             0.6666666666666666,
             "#ed7953"
            ],
            [
             0.7777777777777778,
             "#fb9f3a"
            ],
            [
             0.8888888888888888,
             "#fdca26"
            ],
            [
             1,
             "#f0f921"
            ]
           ],
           "sequentialminus": [
            [
             0,
             "#0d0887"
            ],
            [
             0.1111111111111111,
             "#46039f"
            ],
            [
             0.2222222222222222,
             "#7201a8"
            ],
            [
             0.3333333333333333,
             "#9c179e"
            ],
            [
             0.4444444444444444,
             "#bd3786"
            ],
            [
             0.5555555555555556,
             "#d8576b"
            ],
            [
             0.6666666666666666,
             "#ed7953"
            ],
            [
             0.7777777777777778,
             "#fb9f3a"
            ],
            [
             0.8888888888888888,
             "#fdca26"
            ],
            [
             1,
             "#f0f921"
            ]
           ]
          },
          "colorway": [
           "#636efa",
           "#EF553B",
           "#00cc96",
           "#ab63fa",
           "#FFA15A",
           "#19d3f3",
           "#FF6692",
           "#B6E880",
           "#FF97FF",
           "#FECB52"
          ],
          "font": {
           "color": "#2a3f5f"
          },
          "geo": {
           "bgcolor": "white",
           "lakecolor": "white",
           "landcolor": "#E5ECF6",
           "showlakes": true,
           "showland": true,
           "subunitcolor": "white"
          },
          "hoverlabel": {
           "align": "left"
          },
          "hovermode": "closest",
          "mapbox": {
           "style": "light"
          },
          "paper_bgcolor": "white",
          "plot_bgcolor": "#E5ECF6",
          "polar": {
           "angularaxis": {
            "gridcolor": "white",
            "linecolor": "white",
            "ticks": ""
           },
           "bgcolor": "#E5ECF6",
           "radialaxis": {
            "gridcolor": "white",
            "linecolor": "white",
            "ticks": ""
           }
          },
          "scene": {
           "xaxis": {
            "backgroundcolor": "#E5ECF6",
            "gridcolor": "white",
            "gridwidth": 2,
            "linecolor": "white",
            "showbackground": true,
            "ticks": "",
            "zerolinecolor": "white"
           },
           "yaxis": {
            "backgroundcolor": "#E5ECF6",
            "gridcolor": "white",
            "gridwidth": 2,
            "linecolor": "white",
            "showbackground": true,
            "ticks": "",
            "zerolinecolor": "white"
           },
           "zaxis": {
            "backgroundcolor": "#E5ECF6",
            "gridcolor": "white",
            "gridwidth": 2,
            "linecolor": "white",
            "showbackground": true,
            "ticks": "",
            "zerolinecolor": "white"
           }
          },
          "shapedefaults": {
           "line": {
            "color": "#2a3f5f"
           }
          },
          "ternary": {
           "aaxis": {
            "gridcolor": "white",
            "linecolor": "white",
            "ticks": ""
           },
           "baxis": {
            "gridcolor": "white",
            "linecolor": "white",
            "ticks": ""
           },
           "bgcolor": "#E5ECF6",
           "caxis": {
            "gridcolor": "white",
            "linecolor": "white",
            "ticks": ""
           }
          },
          "title": {
           "x": 0.05
          },
          "xaxis": {
           "automargin": true,
           "gridcolor": "white",
           "linecolor": "white",
           "ticks": "",
           "title": {
            "standoff": 15
           },
           "zerolinecolor": "white",
           "zerolinewidth": 2
          },
          "yaxis": {
           "automargin": true,
           "gridcolor": "white",
           "linecolor": "white",
           "ticks": "",
           "title": {
            "standoff": 15
           },
           "zerolinecolor": "white",
           "zerolinewidth": 2
          }
         }
        },
        "title": {
         "font": {
          "color": "dimgrey",
          "size": 30
         },
         "text": "Effect of MET budget on model Velocity Kgs"
        },
        "xaxis": {
         "anchor": "y",
         "domain": [
          0,
          1
         ],
         "gridcolor": "#e6e6e6",
         "gridwidth": 1,
         "showgrid": true,
         "title": {
          "text": "MET budget  <i>nan</i>"
         }
        },
        "yaxis": {
         "anchor": "x",
         "domain": [
          0,
          1
         ],
         "gridcolor": "#e6e6e6",
         "gridwidth": 1,
         "range": [
          82.07515562358445,
          802.5126327639368
         ],
         "showgrid": true,
         "title": {
          "text": "Water Ration Kms"
         }
        }
       }
      }
     },
     "metadata": {},
     "output_type": "display_data"
    },
    {
     "data": {
      "application/vnd.plotly.v1+json": {
       "config": {
        "plotlyServerURL": "https://plot.ly"
       },
       "data": [
        {
         "customdata": [
          [
           189.98878616570474,
           4.839556386779581,
           2.9654227344731168,
           6.7136900390860434
          ],
          [
           189.98878616570474,
           4.839556386779581,
           2.9654227344731168,
           6.7136900390860434
          ],
          [
           189.98878616570474,
           4.839556386779581,
           2.9654227344731168,
           6.7136900390860434
          ],
          [
           189.98878616570474,
           4.839556386779581,
           2.9654227344731168,
           6.7136900390860434
          ],
          [
           189.98878616570474,
           4.839556386779581,
           2.9654227344731168,
           6.7136900390860434
          ],
          [
           189.98878616570474,
           4.839556386779581,
           2.9654227344731168,
           6.7136900390860434
          ],
          [
           189.98878616570474,
           4.839556386779581,
           2.9654227344731168,
           6.7136900390860434
          ]
         ],
         "hovertemplate": "DataType=Sensitivity<br>Variable=%{x}<br>Water Ration Kms=%{y}<br>MarkerSize=%{marker.size}<br>Velocity Kgs=%{customdata[0]}<br>Mean Trip Velocity=%{customdata[1]}<br>Mean Loaded Velocity=%{customdata[2]}<br>Mean Unloaded Velocity=%{customdata[3]}<extra></extra>",
         "legendgroup": "Sensitivity",
         "marker": {
          "color": "#3D87CB",
          "size": [
           10,
           10,
           10,
           10,
           10,
           10,
           10
          ],
          "sizemode": "area",
          "sizeref": 0.125,
          "symbol": "circle"
         },
         "mode": "markers",
         "name": "Sensitivity",
         "orientation": "v",
         "showlegend": true,
         "type": "scatter",
         "x": [
          2,
          4,
          6,
          8,
          10,
          12,
          14
         ],
         "xaxis": "x",
         "y": [
          91.19461735953827,
          182.38923471907654,
          273.5838520786148,
          364.7784694381531,
          455.97308679769134,
          547.1677041572297,
          638.3623215167679
         ],
         "yaxis": "y"
        },
        {
         "customdata": [
          [
           189.98878616570474,
           4.839556386779581,
           2.9654227344731168,
           6.7136900390860434
          ]
         ],
         "hovertemplate": "DataType=Default<br>Variable=%{x}<br>Water Ration Kms=%{y}<br>MarkerSize=%{marker.size}<br>Velocity Kgs=%{customdata[0]}<br>Mean Trip Velocity=%{customdata[1]}<br>Mean Loaded Velocity=%{customdata[2]}<br>Mean Unloaded Velocity=%{customdata[3]}<extra></extra>",
         "legendgroup": "Default",
         "marker": {
          "color": "#F0B323",
          "size": [
           50
          ],
          "sizemode": "area",
          "sizeref": 0.125,
          "symbol": "circle"
         },
         "mode": "markers",
         "name": "Default",
         "orientation": "v",
         "showlegend": true,
         "type": "scatter",
         "x": [
          5.5
         ],
         "xaxis": "x",
         "y": [
          250.78519773873026
         ],
         "yaxis": "y"
        },
        {
         "customdata": [
          [
           189.98878616570474,
           4.839556386779581,
           2.9654227344731168,
           6.7136900390860434
          ]
         ],
         "hovertemplate": "DataType=Minimum Expected<br>Variable=%{x}<br>Water Ration Kms=%{y}<br>MarkerSize=%{marker.size}<br>Velocity Kgs=%{customdata[0]}<br>Mean Trip Velocity=%{customdata[1]}<br>Mean Loaded Velocity=%{customdata[2]}<br>Mean Unloaded Velocity=%{customdata[3]}<extra></extra>",
         "legendgroup": "Minimum Expected",
         "marker": {
          "color": "#DC582A",
          "size": [
           20
          ],
          "sizemode": "area",
          "sizeref": 0.125,
          "symbol": "circle"
         },
         "mode": "markers",
         "name": "Minimum Expected",
         "orientation": "v",
         "showlegend": true,
         "type": "scatter",
         "x": [
          4
         ],
         "xaxis": "x",
         "y": [
          182.38923471907654
         ],
         "yaxis": "y"
        },
        {
         "customdata": [
          [
           189.98878616570474,
           4.839556386779581,
           2.9654227344731168,
           6.7136900390860434
          ]
         ],
         "hovertemplate": "DataType=Maximum Expected<br>Variable=%{x}<br>Water Ration Kms=%{y}<br>MarkerSize=%{marker.size}<br>Velocity Kgs=%{customdata[0]}<br>Mean Trip Velocity=%{customdata[1]}<br>Mean Loaded Velocity=%{customdata[2]}<br>Mean Unloaded Velocity=%{customdata[3]}<extra></extra>",
         "legendgroup": "Maximum Expected",
         "marker": {
          "color": "#674230",
          "size": [
           20
          ],
          "sizemode": "area",
          "sizeref": 0.125,
          "symbol": "circle"
         },
         "mode": "markers",
         "name": "Maximum Expected",
         "orientation": "v",
         "showlegend": true,
         "type": "scatter",
         "x": [
          7
         ],
         "xaxis": "x",
         "y": [
          319.18116075838395
         ],
         "yaxis": "y"
        }
       ],
       "layout": {
        "font": {
         "color": "dimgrey",
         "family": "Droid Sans Mono",
         "size": 16
        },
        "legend": {
         "itemsizing": "constant",
         "title": {
          "text": "Legend"
         },
         "tracegroupgap": 0
        },
        "paper_bgcolor": "white",
        "plot_bgcolor": "white",
        "template": {
         "data": {
          "bar": [
           {
            "error_x": {
             "color": "#2a3f5f"
            },
            "error_y": {
             "color": "#2a3f5f"
            },
            "marker": {
             "line": {
              "color": "#E5ECF6",
              "width": 0.5
             },
             "pattern": {
              "fillmode": "overlay",
              "size": 10,
              "solidity": 0.2
             }
            },
            "type": "bar"
           }
          ],
          "barpolar": [
           {
            "marker": {
             "line": {
              "color": "#E5ECF6",
              "width": 0.5
             },
             "pattern": {
              "fillmode": "overlay",
              "size": 10,
              "solidity": 0.2
             }
            },
            "type": "barpolar"
           }
          ],
          "carpet": [
           {
            "aaxis": {
             "endlinecolor": "#2a3f5f",
             "gridcolor": "white",
             "linecolor": "white",
             "minorgridcolor": "white",
             "startlinecolor": "#2a3f5f"
            },
            "baxis": {
             "endlinecolor": "#2a3f5f",
             "gridcolor": "white",
             "linecolor": "white",
             "minorgridcolor": "white",
             "startlinecolor": "#2a3f5f"
            },
            "type": "carpet"
           }
          ],
          "choropleth": [
           {
            "colorbar": {
             "outlinewidth": 0,
             "ticks": ""
            },
            "type": "choropleth"
           }
          ],
          "contour": [
           {
            "colorbar": {
             "outlinewidth": 0,
             "ticks": ""
            },
            "colorscale": [
             [
              0,
              "#0d0887"
             ],
             [
              0.1111111111111111,
              "#46039f"
             ],
             [
              0.2222222222222222,
              "#7201a8"
             ],
             [
              0.3333333333333333,
              "#9c179e"
             ],
             [
              0.4444444444444444,
              "#bd3786"
             ],
             [
              0.5555555555555556,
              "#d8576b"
             ],
             [
              0.6666666666666666,
              "#ed7953"
             ],
             [
              0.7777777777777778,
              "#fb9f3a"
             ],
             [
              0.8888888888888888,
              "#fdca26"
             ],
             [
              1,
              "#f0f921"
             ]
            ],
            "type": "contour"
           }
          ],
          "contourcarpet": [
           {
            "colorbar": {
             "outlinewidth": 0,
             "ticks": ""
            },
            "type": "contourcarpet"
           }
          ],
          "heatmap": [
           {
            "colorbar": {
             "outlinewidth": 0,
             "ticks": ""
            },
            "colorscale": [
             [
              0,
              "#0d0887"
             ],
             [
              0.1111111111111111,
              "#46039f"
             ],
             [
              0.2222222222222222,
              "#7201a8"
             ],
             [
              0.3333333333333333,
              "#9c179e"
             ],
             [
              0.4444444444444444,
              "#bd3786"
             ],
             [
              0.5555555555555556,
              "#d8576b"
             ],
             [
              0.6666666666666666,
              "#ed7953"
             ],
             [
              0.7777777777777778,
              "#fb9f3a"
             ],
             [
              0.8888888888888888,
              "#fdca26"
             ],
             [
              1,
              "#f0f921"
             ]
            ],
            "type": "heatmap"
           }
          ],
          "heatmapgl": [
           {
            "colorbar": {
             "outlinewidth": 0,
             "ticks": ""
            },
            "colorscale": [
             [
              0,
              "#0d0887"
             ],
             [
              0.1111111111111111,
              "#46039f"
             ],
             [
              0.2222222222222222,
              "#7201a8"
             ],
             [
              0.3333333333333333,
              "#9c179e"
             ],
             [
              0.4444444444444444,
              "#bd3786"
             ],
             [
              0.5555555555555556,
              "#d8576b"
             ],
             [
              0.6666666666666666,
              "#ed7953"
             ],
             [
              0.7777777777777778,
              "#fb9f3a"
             ],
             [
              0.8888888888888888,
              "#fdca26"
             ],
             [
              1,
              "#f0f921"
             ]
            ],
            "type": "heatmapgl"
           }
          ],
          "histogram": [
           {
            "marker": {
             "pattern": {
              "fillmode": "overlay",
              "size": 10,
              "solidity": 0.2
             }
            },
            "type": "histogram"
           }
          ],
          "histogram2d": [
           {
            "colorbar": {
             "outlinewidth": 0,
             "ticks": ""
            },
            "colorscale": [
             [
              0,
              "#0d0887"
             ],
             [
              0.1111111111111111,
              "#46039f"
             ],
             [
              0.2222222222222222,
              "#7201a8"
             ],
             [
              0.3333333333333333,
              "#9c179e"
             ],
             [
              0.4444444444444444,
              "#bd3786"
             ],
             [
              0.5555555555555556,
              "#d8576b"
             ],
             [
              0.6666666666666666,
              "#ed7953"
             ],
             [
              0.7777777777777778,
              "#fb9f3a"
             ],
             [
              0.8888888888888888,
              "#fdca26"
             ],
             [
              1,
              "#f0f921"
             ]
            ],
            "type": "histogram2d"
           }
          ],
          "histogram2dcontour": [
           {
            "colorbar": {
             "outlinewidth": 0,
             "ticks": ""
            },
            "colorscale": [
             [
              0,
              "#0d0887"
             ],
             [
              0.1111111111111111,
              "#46039f"
             ],
             [
              0.2222222222222222,
              "#7201a8"
             ],
             [
              0.3333333333333333,
              "#9c179e"
             ],
             [
              0.4444444444444444,
              "#bd3786"
             ],
             [
              0.5555555555555556,
              "#d8576b"
             ],
             [
              0.6666666666666666,
              "#ed7953"
             ],
             [
              0.7777777777777778,
              "#fb9f3a"
             ],
             [
              0.8888888888888888,
              "#fdca26"
             ],
             [
              1,
              "#f0f921"
             ]
            ],
            "type": "histogram2dcontour"
           }
          ],
          "mesh3d": [
           {
            "colorbar": {
             "outlinewidth": 0,
             "ticks": ""
            },
            "type": "mesh3d"
           }
          ],
          "parcoords": [
           {
            "line": {
             "colorbar": {
              "outlinewidth": 0,
              "ticks": ""
             }
            },
            "type": "parcoords"
           }
          ],
          "pie": [
           {
            "automargin": true,
            "type": "pie"
           }
          ],
          "scatter": [
           {
            "fillpattern": {
             "fillmode": "overlay",
             "size": 10,
             "solidity": 0.2
            },
            "type": "scatter"
           }
          ],
          "scatter3d": [
           {
            "line": {
             "colorbar": {
              "outlinewidth": 0,
              "ticks": ""
             }
            },
            "marker": {
             "colorbar": {
              "outlinewidth": 0,
              "ticks": ""
             }
            },
            "type": "scatter3d"
           }
          ],
          "scattercarpet": [
           {
            "marker": {
             "colorbar": {
              "outlinewidth": 0,
              "ticks": ""
             }
            },
            "type": "scattercarpet"
           }
          ],
          "scattergeo": [
           {
            "marker": {
             "colorbar": {
              "outlinewidth": 0,
              "ticks": ""
             }
            },
            "type": "scattergeo"
           }
          ],
          "scattergl": [
           {
            "marker": {
             "colorbar": {
              "outlinewidth": 0,
              "ticks": ""
             }
            },
            "type": "scattergl"
           }
          ],
          "scattermapbox": [
           {
            "marker": {
             "colorbar": {
              "outlinewidth": 0,
              "ticks": ""
             }
            },
            "type": "scattermapbox"
           }
          ],
          "scatterpolar": [
           {
            "marker": {
             "colorbar": {
              "outlinewidth": 0,
              "ticks": ""
             }
            },
            "type": "scatterpolar"
           }
          ],
          "scatterpolargl": [
           {
            "marker": {
             "colorbar": {
              "outlinewidth": 0,
              "ticks": ""
             }
            },
            "type": "scatterpolargl"
           }
          ],
          "scatterternary": [
           {
            "marker": {
             "colorbar": {
              "outlinewidth": 0,
              "ticks": ""
             }
            },
            "type": "scatterternary"
           }
          ],
          "surface": [
           {
            "colorbar": {
             "outlinewidth": 0,
             "ticks": ""
            },
            "colorscale": [
             [
              0,
              "#0d0887"
             ],
             [
              0.1111111111111111,
              "#46039f"
             ],
             [
              0.2222222222222222,
              "#7201a8"
             ],
             [
              0.3333333333333333,
              "#9c179e"
             ],
             [
              0.4444444444444444,
              "#bd3786"
             ],
             [
              0.5555555555555556,
              "#d8576b"
             ],
             [
              0.6666666666666666,
              "#ed7953"
             ],
             [
              0.7777777777777778,
              "#fb9f3a"
             ],
             [
              0.8888888888888888,
              "#fdca26"
             ],
             [
              1,
              "#f0f921"
             ]
            ],
            "type": "surface"
           }
          ],
          "table": [
           {
            "cells": {
             "fill": {
              "color": "#EBF0F8"
             },
             "line": {
              "color": "white"
             }
            },
            "header": {
             "fill": {
              "color": "#C8D4E3"
             },
             "line": {
              "color": "white"
             }
            },
            "type": "table"
           }
          ]
         },
         "layout": {
          "annotationdefaults": {
           "arrowcolor": "#2a3f5f",
           "arrowhead": 0,
           "arrowwidth": 1
          },
          "autotypenumbers": "strict",
          "coloraxis": {
           "colorbar": {
            "outlinewidth": 0,
            "ticks": ""
           }
          },
          "colorscale": {
           "diverging": [
            [
             0,
             "#8e0152"
            ],
            [
             0.1,
             "#c51b7d"
            ],
            [
             0.2,
             "#de77ae"
            ],
            [
             0.3,
             "#f1b6da"
            ],
            [
             0.4,
             "#fde0ef"
            ],
            [
             0.5,
             "#f7f7f7"
            ],
            [
             0.6,
             "#e6f5d0"
            ],
            [
             0.7,
             "#b8e186"
            ],
            [
             0.8,
             "#7fbc41"
            ],
            [
             0.9,
             "#4d9221"
            ],
            [
             1,
             "#276419"
            ]
           ],
           "sequential": [
            [
             0,
             "#0d0887"
            ],
            [
             0.1111111111111111,
             "#46039f"
            ],
            [
             0.2222222222222222,
             "#7201a8"
            ],
            [
             0.3333333333333333,
             "#9c179e"
            ],
            [
             0.4444444444444444,
             "#bd3786"
            ],
            [
             0.5555555555555556,
             "#d8576b"
            ],
            [
             0.6666666666666666,
             "#ed7953"
            ],
            [
             0.7777777777777778,
             "#fb9f3a"
            ],
            [
             0.8888888888888888,
             "#fdca26"
            ],
            [
             1,
             "#f0f921"
            ]
           ],
           "sequentialminus": [
            [
             0,
             "#0d0887"
            ],
            [
             0.1111111111111111,
             "#46039f"
            ],
            [
             0.2222222222222222,
             "#7201a8"
            ],
            [
             0.3333333333333333,
             "#9c179e"
            ],
            [
             0.4444444444444444,
             "#bd3786"
            ],
            [
             0.5555555555555556,
             "#d8576b"
            ],
            [
             0.6666666666666666,
             "#ed7953"
            ],
            [
             0.7777777777777778,
             "#fb9f3a"
            ],
            [
             0.8888888888888888,
             "#fdca26"
            ],
            [
             1,
             "#f0f921"
            ]
           ]
          },
          "colorway": [
           "#636efa",
           "#EF553B",
           "#00cc96",
           "#ab63fa",
           "#FFA15A",
           "#19d3f3",
           "#FF6692",
           "#B6E880",
           "#FF97FF",
           "#FECB52"
          ],
          "font": {
           "color": "#2a3f5f"
          },
          "geo": {
           "bgcolor": "white",
           "lakecolor": "white",
           "landcolor": "#E5ECF6",
           "showlakes": true,
           "showland": true,
           "subunitcolor": "white"
          },
          "hoverlabel": {
           "align": "left"
          },
          "hovermode": "closest",
          "mapbox": {
           "style": "light"
          },
          "paper_bgcolor": "white",
          "plot_bgcolor": "#E5ECF6",
          "polar": {
           "angularaxis": {
            "gridcolor": "white",
            "linecolor": "white",
            "ticks": ""
           },
           "bgcolor": "#E5ECF6",
           "radialaxis": {
            "gridcolor": "white",
            "linecolor": "white",
            "ticks": ""
           }
          },
          "scene": {
           "xaxis": {
            "backgroundcolor": "#E5ECF6",
            "gridcolor": "white",
            "gridwidth": 2,
            "linecolor": "white",
            "showbackground": true,
            "ticks": "",
            "zerolinecolor": "white"
           },
           "yaxis": {
            "backgroundcolor": "#E5ECF6",
            "gridcolor": "white",
            "gridwidth": 2,
            "linecolor": "white",
            "showbackground": true,
            "ticks": "",
            "zerolinecolor": "white"
           },
           "zaxis": {
            "backgroundcolor": "#E5ECF6",
            "gridcolor": "white",
            "gridwidth": 2,
            "linecolor": "white",
            "showbackground": true,
            "ticks": "",
            "zerolinecolor": "white"
           }
          },
          "shapedefaults": {
           "line": {
            "color": "#2a3f5f"
           }
          },
          "ternary": {
           "aaxis": {
            "gridcolor": "white",
            "linecolor": "white",
            "ticks": ""
           },
           "baxis": {
            "gridcolor": "white",
            "linecolor": "white",
            "ticks": ""
           },
           "bgcolor": "#E5ECF6",
           "caxis": {
            "gridcolor": "white",
            "linecolor": "white",
            "ticks": ""
           }
          },
          "title": {
           "x": 0.05
          },
          "xaxis": {
           "automargin": true,
           "gridcolor": "white",
           "linecolor": "white",
           "ticks": "",
           "title": {
            "standoff": 15
           },
           "zerolinecolor": "white",
           "zerolinewidth": 2
          },
          "yaxis": {
           "automargin": true,
           "gridcolor": "white",
           "linecolor": "white",
           "ticks": "",
           "title": {
            "standoff": 15
           },
           "zerolinecolor": "white",
           "zerolinewidth": 2
          }
         }
        },
        "title": {
         "font": {
          "color": "dimgrey",
          "size": 30
         },
         "text": "Effect of T_hours on model Velocity Kgs"
        },
        "xaxis": {
         "anchor": "y",
         "domain": [
          0,
          1
         ],
         "gridcolor": "#e6e6e6",
         "gridwidth": 1,
         "showgrid": true,
         "title": {
          "text": "T_hours  <i>[Hours]</i>"
         }
        },
        "yaxis": {
         "anchor": "x",
         "domain": [
          0,
          1
         ],
         "gridcolor": "#e6e6e6",
         "gridwidth": 1,
         "range": [
          82.07515562358445,
          802.5126327639368
         ],
         "showgrid": true,
         "title": {
          "text": "Water Ration Kms"
         }
        }
       }
      }
     },
     "metadata": {},
     "output_type": "display_data"
    },
    {
     "data": {
      "application/vnd.plotly.v1+json": {
       "config": {
        "plotlyServerURL": "https://plot.ly"
       },
       "data": [
        {
         "customdata": [
          [
           191.64752473153112,
           4.888803239245252,
           3.0555917541826907,
           6.722014724307815
          ],
          [
           191.15204299987943,
           4.87404906925406,
           3.028512088542603,
           6.7195860499655184
          ],
          [
           190.66633235248526,
           4.859621888259876,
           3.0020858798833814,
           6.717157896636373
          ],
          [
           190.19007686200132,
           4.845510311930667,
           2.9762903448588673,
           6.714730279002462
          ],
          [
           189.72297303198735,
           4.831703428169915,
           2.951103644527068,
           6.712303211812762
          ],
          [
           189.26472921263763,
           4.818190777201651,
           2.926504844520531,
           6.709876709882773
          ],
          [
           188.81506504999618,
           4.804962331911865,
           2.9024738757295947,
           6.707450788094137
          ]
         ],
         "hovertemplate": "DataType=Sensitivity<br>Variable=%{x}<br>Water Ration Kms=%{y}<br>MarkerSize=%{marker.size}<br>Velocity Kgs=%{customdata[0]}<br>Mean Trip Velocity=%{customdata[1]}<br>Mean Loaded Velocity=%{customdata[2]}<br>Mean Unloaded Velocity=%{customdata[3]}<extra></extra>",
         "legendgroup": "Sensitivity",
         "marker": {
          "color": "#3D87CB",
          "size": [
           10,
           10,
           10,
           10,
           10,
           10,
           10
          ],
          "sizemode": "area",
          "sizeref": 0.125,
          "symbol": "circle"
         },
         "mode": "markers",
         "name": "Sensitivity",
         "orientation": "v",
         "showlegend": true,
         "type": "scatter",
         "x": [
          5,
          6.75,
          8.5,
          10.25,
          12,
          13.75,
          15.5
         ],
         "xaxis": "x",
         "y": [
          367.96324748453975,
          367.0119225597685,
          366.0793581167717,
          365.1649475750425,
          364.2681082214157,
          363.38828008826425,
          362.5249248959927
         ],
         "yaxis": "y"
        },
        {
         "customdata": [
          [
           189.98878616570474,
           4.839556386779581,
           2.9654227344731168,
           6.7136900390860434
          ]
         ],
         "hovertemplate": "DataType=Default<br>Variable=%{x}<br>Water Ration Kms=%{y}<br>MarkerSize=%{marker.size}<br>Velocity Kgs=%{customdata[0]}<br>Mean Trip Velocity=%{customdata[1]}<br>Mean Loaded Velocity=%{customdata[2]}<br>Mean Unloaded Velocity=%{customdata[3]}<extra></extra>",
         "legendgroup": "Default",
         "marker": {
          "color": "#F0B323",
          "size": [
           50
          ],
          "sizemode": "area",
          "sizeref": 0.125,
          "symbol": "circle"
         },
         "mode": "markers",
         "name": "Default",
         "orientation": "v",
         "showlegend": true,
         "type": "scatter",
         "x": [
          11
         ],
         "xaxis": "x",
         "y": [
          364.7784694381531
         ],
         "yaxis": "y"
        },
        {
         "customdata": [
          [
           191.08206504182377,
           4.871968294424495,
           3.024697450170969,
           6.719239138678022
          ]
         ],
         "hovertemplate": "DataType=Minimum Expected<br>Variable=%{x}<br>Water Ration Kms=%{y}<br>MarkerSize=%{marker.size}<br>Velocity Kgs=%{customdata[0]}<br>Mean Trip Velocity=%{customdata[1]}<br>Mean Loaded Velocity=%{customdata[2]}<br>Mean Unloaded Velocity=%{customdata[3]}<extra></extra>",
         "legendgroup": "Minimum Expected",
         "marker": {
          "color": "#DC582A",
          "size": [
           20
          ],
          "sizemode": "area",
          "sizeref": 0.125,
          "symbol": "circle"
         },
         "mode": "markers",
         "name": "Minimum Expected",
         "orientation": "v",
         "showlegend": true,
         "type": "scatter",
         "x": [
          7
         ],
         "xaxis": "x",
         "y": [
          366.8775648803016
         ],
         "yaxis": "y"
        },
        {
         "customdata": [
          [
           189.1999725918938,
           4.81628382757031,
           2.9230375413801384,
           6.7095301137604775
          ]
         ],
         "hovertemplate": "DataType=Maximum Expected<br>Variable=%{x}<br>Water Ration Kms=%{y}<br>MarkerSize=%{marker.size}<br>Velocity Kgs=%{customdata[0]}<br>Mean Trip Velocity=%{customdata[1]}<br>Mean Loaded Velocity=%{customdata[2]}<br>Mean Unloaded Velocity=%{customdata[3]}<extra></extra>",
         "legendgroup": "Maximum Expected",
         "marker": {
          "color": "#674230",
          "size": [
           20
          ],
          "sizemode": "area",
          "sizeref": 0.125,
          "symbol": "circle"
         },
         "mode": "markers",
         "name": "Maximum Expected",
         "orientation": "v",
         "showlegend": true,
         "type": "scatter",
         "x": [
          14
         ],
         "xaxis": "x",
         "y": [
          363.26394737643614
         ],
         "yaxis": "y"
        }
       ],
       "layout": {
        "font": {
         "color": "dimgrey",
         "family": "Droid Sans Mono",
         "size": 16
        },
        "legend": {
         "itemsizing": "constant",
         "title": {
          "text": "Legend"
         },
         "tracegroupgap": 0
        },
        "paper_bgcolor": "white",
        "plot_bgcolor": "white",
        "template": {
         "data": {
          "bar": [
           {
            "error_x": {
             "color": "#2a3f5f"
            },
            "error_y": {
             "color": "#2a3f5f"
            },
            "marker": {
             "line": {
              "color": "#E5ECF6",
              "width": 0.5
             },
             "pattern": {
              "fillmode": "overlay",
              "size": 10,
              "solidity": 0.2
             }
            },
            "type": "bar"
           }
          ],
          "barpolar": [
           {
            "marker": {
             "line": {
              "color": "#E5ECF6",
              "width": 0.5
             },
             "pattern": {
              "fillmode": "overlay",
              "size": 10,
              "solidity": 0.2
             }
            },
            "type": "barpolar"
           }
          ],
          "carpet": [
           {
            "aaxis": {
             "endlinecolor": "#2a3f5f",
             "gridcolor": "white",
             "linecolor": "white",
             "minorgridcolor": "white",
             "startlinecolor": "#2a3f5f"
            },
            "baxis": {
             "endlinecolor": "#2a3f5f",
             "gridcolor": "white",
             "linecolor": "white",
             "minorgridcolor": "white",
             "startlinecolor": "#2a3f5f"
            },
            "type": "carpet"
           }
          ],
          "choropleth": [
           {
            "colorbar": {
             "outlinewidth": 0,
             "ticks": ""
            },
            "type": "choropleth"
           }
          ],
          "contour": [
           {
            "colorbar": {
             "outlinewidth": 0,
             "ticks": ""
            },
            "colorscale": [
             [
              0,
              "#0d0887"
             ],
             [
              0.1111111111111111,
              "#46039f"
             ],
             [
              0.2222222222222222,
              "#7201a8"
             ],
             [
              0.3333333333333333,
              "#9c179e"
             ],
             [
              0.4444444444444444,
              "#bd3786"
             ],
             [
              0.5555555555555556,
              "#d8576b"
             ],
             [
              0.6666666666666666,
              "#ed7953"
             ],
             [
              0.7777777777777778,
              "#fb9f3a"
             ],
             [
              0.8888888888888888,
              "#fdca26"
             ],
             [
              1,
              "#f0f921"
             ]
            ],
            "type": "contour"
           }
          ],
          "contourcarpet": [
           {
            "colorbar": {
             "outlinewidth": 0,
             "ticks": ""
            },
            "type": "contourcarpet"
           }
          ],
          "heatmap": [
           {
            "colorbar": {
             "outlinewidth": 0,
             "ticks": ""
            },
            "colorscale": [
             [
              0,
              "#0d0887"
             ],
             [
              0.1111111111111111,
              "#46039f"
             ],
             [
              0.2222222222222222,
              "#7201a8"
             ],
             [
              0.3333333333333333,
              "#9c179e"
             ],
             [
              0.4444444444444444,
              "#bd3786"
             ],
             [
              0.5555555555555556,
              "#d8576b"
             ],
             [
              0.6666666666666666,
              "#ed7953"
             ],
             [
              0.7777777777777778,
              "#fb9f3a"
             ],
             [
              0.8888888888888888,
              "#fdca26"
             ],
             [
              1,
              "#f0f921"
             ]
            ],
            "type": "heatmap"
           }
          ],
          "heatmapgl": [
           {
            "colorbar": {
             "outlinewidth": 0,
             "ticks": ""
            },
            "colorscale": [
             [
              0,
              "#0d0887"
             ],
             [
              0.1111111111111111,
              "#46039f"
             ],
             [
              0.2222222222222222,
              "#7201a8"
             ],
             [
              0.3333333333333333,
              "#9c179e"
             ],
             [
              0.4444444444444444,
              "#bd3786"
             ],
             [
              0.5555555555555556,
              "#d8576b"
             ],
             [
              0.6666666666666666,
              "#ed7953"
             ],
             [
              0.7777777777777778,
              "#fb9f3a"
             ],
             [
              0.8888888888888888,
              "#fdca26"
             ],
             [
              1,
              "#f0f921"
             ]
            ],
            "type": "heatmapgl"
           }
          ],
          "histogram": [
           {
            "marker": {
             "pattern": {
              "fillmode": "overlay",
              "size": 10,
              "solidity": 0.2
             }
            },
            "type": "histogram"
           }
          ],
          "histogram2d": [
           {
            "colorbar": {
             "outlinewidth": 0,
             "ticks": ""
            },
            "colorscale": [
             [
              0,
              "#0d0887"
             ],
             [
              0.1111111111111111,
              "#46039f"
             ],
             [
              0.2222222222222222,
              "#7201a8"
             ],
             [
              0.3333333333333333,
              "#9c179e"
             ],
             [
              0.4444444444444444,
              "#bd3786"
             ],
             [
              0.5555555555555556,
              "#d8576b"
             ],
             [
              0.6666666666666666,
              "#ed7953"
             ],
             [
              0.7777777777777778,
              "#fb9f3a"
             ],
             [
              0.8888888888888888,
              "#fdca26"
             ],
             [
              1,
              "#f0f921"
             ]
            ],
            "type": "histogram2d"
           }
          ],
          "histogram2dcontour": [
           {
            "colorbar": {
             "outlinewidth": 0,
             "ticks": ""
            },
            "colorscale": [
             [
              0,
              "#0d0887"
             ],
             [
              0.1111111111111111,
              "#46039f"
             ],
             [
              0.2222222222222222,
              "#7201a8"
             ],
             [
              0.3333333333333333,
              "#9c179e"
             ],
             [
              0.4444444444444444,
              "#bd3786"
             ],
             [
              0.5555555555555556,
              "#d8576b"
             ],
             [
              0.6666666666666666,
              "#ed7953"
             ],
             [
              0.7777777777777778,
              "#fb9f3a"
             ],
             [
              0.8888888888888888,
              "#fdca26"
             ],
             [
              1,
              "#f0f921"
             ]
            ],
            "type": "histogram2dcontour"
           }
          ],
          "mesh3d": [
           {
            "colorbar": {
             "outlinewidth": 0,
             "ticks": ""
            },
            "type": "mesh3d"
           }
          ],
          "parcoords": [
           {
            "line": {
             "colorbar": {
              "outlinewidth": 0,
              "ticks": ""
             }
            },
            "type": "parcoords"
           }
          ],
          "pie": [
           {
            "automargin": true,
            "type": "pie"
           }
          ],
          "scatter": [
           {
            "fillpattern": {
             "fillmode": "overlay",
             "size": 10,
             "solidity": 0.2
            },
            "type": "scatter"
           }
          ],
          "scatter3d": [
           {
            "line": {
             "colorbar": {
              "outlinewidth": 0,
              "ticks": ""
             }
            },
            "marker": {
             "colorbar": {
              "outlinewidth": 0,
              "ticks": ""
             }
            },
            "type": "scatter3d"
           }
          ],
          "scattercarpet": [
           {
            "marker": {
             "colorbar": {
              "outlinewidth": 0,
              "ticks": ""
             }
            },
            "type": "scattercarpet"
           }
          ],
          "scattergeo": [
           {
            "marker": {
             "colorbar": {
              "outlinewidth": 0,
              "ticks": ""
             }
            },
            "type": "scattergeo"
           }
          ],
          "scattergl": [
           {
            "marker": {
             "colorbar": {
              "outlinewidth": 0,
              "ticks": ""
             }
            },
            "type": "scattergl"
           }
          ],
          "scattermapbox": [
           {
            "marker": {
             "colorbar": {
              "outlinewidth": 0,
              "ticks": ""
             }
            },
            "type": "scattermapbox"
           }
          ],
          "scatterpolar": [
           {
            "marker": {
             "colorbar": {
              "outlinewidth": 0,
              "ticks": ""
             }
            },
            "type": "scatterpolar"
           }
          ],
          "scatterpolargl": [
           {
            "marker": {
             "colorbar": {
              "outlinewidth": 0,
              "ticks": ""
             }
            },
            "type": "scatterpolargl"
           }
          ],
          "scatterternary": [
           {
            "marker": {
             "colorbar": {
              "outlinewidth": 0,
              "ticks": ""
             }
            },
            "type": "scatterternary"
           }
          ],
          "surface": [
           {
            "colorbar": {
             "outlinewidth": 0,
             "ticks": ""
            },
            "colorscale": [
             [
              0,
              "#0d0887"
             ],
             [
              0.1111111111111111,
              "#46039f"
             ],
             [
              0.2222222222222222,
              "#7201a8"
             ],
             [
              0.3333333333333333,
              "#9c179e"
             ],
             [
              0.4444444444444444,
              "#bd3786"
             ],
             [
              0.5555555555555556,
              "#d8576b"
             ],
             [
              0.6666666666666666,
              "#ed7953"
             ],
             [
              0.7777777777777778,
              "#fb9f3a"
             ],
             [
              0.8888888888888888,
              "#fdca26"
             ],
             [
              1,
              "#f0f921"
             ]
            ],
            "type": "surface"
           }
          ],
          "table": [
           {
            "cells": {
             "fill": {
              "color": "#EBF0F8"
             },
             "line": {
              "color": "white"
             }
            },
            "header": {
             "fill": {
              "color": "#C8D4E3"
             },
             "line": {
              "color": "white"
             }
            },
            "type": "table"
           }
          ]
         },
         "layout": {
          "annotationdefaults": {
           "arrowcolor": "#2a3f5f",
           "arrowhead": 0,
           "arrowwidth": 1
          },
          "autotypenumbers": "strict",
          "coloraxis": {
           "colorbar": {
            "outlinewidth": 0,
            "ticks": ""
           }
          },
          "colorscale": {
           "diverging": [
            [
             0,
             "#8e0152"
            ],
            [
             0.1,
             "#c51b7d"
            ],
            [
             0.2,
             "#de77ae"
            ],
            [
             0.3,
             "#f1b6da"
            ],
            [
             0.4,
             "#fde0ef"
            ],
            [
             0.5,
             "#f7f7f7"
            ],
            [
             0.6,
             "#e6f5d0"
            ],
            [
             0.7,
             "#b8e186"
            ],
            [
             0.8,
             "#7fbc41"
            ],
            [
             0.9,
             "#4d9221"
            ],
            [
             1,
             "#276419"
            ]
           ],
           "sequential": [
            [
             0,
             "#0d0887"
            ],
            [
             0.1111111111111111,
             "#46039f"
            ],
            [
             0.2222222222222222,
             "#7201a8"
            ],
            [
             0.3333333333333333,
             "#9c179e"
            ],
            [
             0.4444444444444444,
             "#bd3786"
            ],
            [
             0.5555555555555556,
             "#d8576b"
            ],
            [
             0.6666666666666666,
             "#ed7953"
            ],
            [
             0.7777777777777778,
             "#fb9f3a"
            ],
            [
             0.8888888888888888,
             "#fdca26"
            ],
            [
             1,
             "#f0f921"
            ]
           ],
           "sequentialminus": [
            [
             0,
             "#0d0887"
            ],
            [
             0.1111111111111111,
             "#46039f"
            ],
            [
             0.2222222222222222,
             "#7201a8"
            ],
            [
             0.3333333333333333,
             "#9c179e"
            ],
            [
             0.4444444444444444,
             "#bd3786"
            ],
            [
             0.5555555555555556,
             "#d8576b"
            ],
            [
             0.6666666666666666,
             "#ed7953"
            ],
            [
             0.7777777777777778,
             "#fb9f3a"
            ],
            [
             0.8888888888888888,
             "#fdca26"
            ],
            [
             1,
             "#f0f921"
            ]
           ]
          },
          "colorway": [
           "#636efa",
           "#EF553B",
           "#00cc96",
           "#ab63fa",
           "#FFA15A",
           "#19d3f3",
           "#FF6692",
           "#B6E880",
           "#FF97FF",
           "#FECB52"
          ],
          "font": {
           "color": "#2a3f5f"
          },
          "geo": {
           "bgcolor": "white",
           "lakecolor": "white",
           "landcolor": "#E5ECF6",
           "showlakes": true,
           "showland": true,
           "subunitcolor": "white"
          },
          "hoverlabel": {
           "align": "left"
          },
          "hovermode": "closest",
          "mapbox": {
           "style": "light"
          },
          "paper_bgcolor": "white",
          "plot_bgcolor": "#E5ECF6",
          "polar": {
           "angularaxis": {
            "gridcolor": "white",
            "linecolor": "white",
            "ticks": ""
           },
           "bgcolor": "#E5ECF6",
           "radialaxis": {
            "gridcolor": "white",
            "linecolor": "white",
            "ticks": ""
           }
          },
          "scene": {
           "xaxis": {
            "backgroundcolor": "#E5ECF6",
            "gridcolor": "white",
            "gridwidth": 2,
            "linecolor": "white",
            "showbackground": true,
            "ticks": "",
            "zerolinecolor": "white"
           },
           "yaxis": {
            "backgroundcolor": "#E5ECF6",
            "gridcolor": "white",
            "gridwidth": 2,
            "linecolor": "white",
            "showbackground": true,
            "ticks": "",
            "zerolinecolor": "white"
           },
           "zaxis": {
            "backgroundcolor": "#E5ECF6",
            "gridcolor": "white",
            "gridwidth": 2,
            "linecolor": "white",
            "showbackground": true,
            "ticks": "",
            "zerolinecolor": "white"
           }
          },
          "shapedefaults": {
           "line": {
            "color": "#2a3f5f"
           }
          },
          "ternary": {
           "aaxis": {
            "gridcolor": "white",
            "linecolor": "white",
            "ticks": ""
           },
           "baxis": {
            "gridcolor": "white",
            "linecolor": "white",
            "ticks": ""
           },
           "bgcolor": "#E5ECF6",
           "caxis": {
            "gridcolor": "white",
            "linecolor": "white",
            "ticks": ""
           }
          },
          "title": {
           "x": 0.05
          },
          "xaxis": {
           "automargin": true,
           "gridcolor": "white",
           "linecolor": "white",
           "ticks": "",
           "title": {
            "standoff": 15
           },
           "zerolinecolor": "white",
           "zerolinewidth": 2
          },
          "yaxis": {
           "automargin": true,
           "gridcolor": "white",
           "linecolor": "white",
           "ticks": "",
           "title": {
            "standoff": 15
           },
           "zerolinecolor": "white",
           "zerolinewidth": 2
          }
         }
        },
        "title": {
         "font": {
          "color": "dimgrey",
          "size": 30
         },
         "text": "Effect of HPV Weight on model Velocity Kgs"
        },
        "xaxis": {
         "anchor": "y",
         "domain": [
          0,
          1
         ],
         "gridcolor": "#e6e6e6",
         "gridwidth": 1,
         "showgrid": true,
         "title": {
          "text": "HPV Weight  <i>[Kg]</i>"
         }
        },
        "yaxis": {
         "anchor": "x",
         "domain": [
          0,
          1
         ],
         "gridcolor": "#e6e6e6",
         "gridwidth": 1,
         "range": [
          82.07515562358445,
          802.5126327639368
         ],
         "showgrid": true,
         "title": {
          "text": "Water Ration Kms"
         }
        }
       }
      }
     },
     "metadata": {},
     "output_type": "display_data"
    },
    {
     "data": {
      "application/vnd.plotly.v1+json": {
       "config": {
        "plotlyServerURL": "https://plot.ly"
       },
       "data": [
        {
         "customdata": [
          [
           189.98878616570474,
           4.839556386779581,
           2.9654227344731168,
           6.7136900390860434
          ],
          [
           189.98878616570474,
           4.839556386779581,
           2.9654227344731168,
           6.7136900390860434
          ],
          [
           189.98878616570474,
           4.839556386779581,
           2.9654227344731168,
           6.7136900390860434
          ],
          [
           189.98878616570474,
           4.839556386779581,
           2.9654227344731168,
           6.7136900390860434
          ],
          [
           189.98878616570474,
           4.839556386779581,
           2.9654227344731168,
           6.7136900390860434
          ],
          [
           189.98878616570474,
           4.839556386779581,
           2.9654227344731168,
           6.7136900390860434
          ],
          [
           189.98878616570474,
           4.839556386779581,
           2.9654227344731168,
           6.7136900390860434
          ]
         ],
         "hovertemplate": "DataType=Sensitivity<br>Variable=%{x}<br>Water Ration Kms=%{y}<br>MarkerSize=%{marker.size}<br>Velocity Kgs=%{customdata[0]}<br>Mean Trip Velocity=%{customdata[1]}<br>Mean Loaded Velocity=%{customdata[2]}<br>Mean Unloaded Velocity=%{customdata[3]}<extra></extra>",
         "legendgroup": "Sensitivity",
         "marker": {
          "color": "#3D87CB",
          "size": [
           10,
           10,
           10,
           10,
           10,
           10,
           10
          ],
          "sizemode": "area",
          "sizeref": 0.125,
          "symbol": "circle"
         },
         "mode": "markers",
         "name": "Sensitivity",
         "orientation": "v",
         "showlegend": true,
         "type": "scatter",
         "x": [
          7.5,
          12.5,
          17.5,
          22.5,
          27.5,
          32.5,
          37.5
         ],
         "xaxis": "x",
         "y": [
          729.5569388763062,
          437.73416332578375,
          312.6672595184169,
          243.18564629210206,
          198.97007423899262,
          168.3592935868399,
          145.91138777526123
         ],
         "yaxis": "y"
        },
        {
         "customdata": [
          [
           189.98878616570474,
           4.839556386779581,
           2.9654227344731168,
           6.7136900390860434
          ]
         ],
         "hovertemplate": "DataType=Default<br>Variable=%{x}<br>Water Ration Kms=%{y}<br>MarkerSize=%{marker.size}<br>Velocity Kgs=%{customdata[0]}<br>Mean Trip Velocity=%{customdata[1]}<br>Mean Loaded Velocity=%{customdata[2]}<br>Mean Unloaded Velocity=%{customdata[3]}<extra></extra>",
         "legendgroup": "Default",
         "marker": {
          "color": "#F0B323",
          "size": [
           50
          ],
          "sizemode": "area",
          "sizeref": 0.125,
          "symbol": "circle"
         },
         "mode": "markers",
         "name": "Default",
         "orientation": "v",
         "showlegend": true,
         "type": "scatter",
         "x": [
          15
         ],
         "xaxis": "x",
         "y": [
          364.7784694381531
         ],
         "yaxis": "y"
        },
        {
         "customdata": [
          [
           189.98878616570474,
           4.839556386779581,
           2.9654227344731168,
           6.7136900390860434
          ]
         ],
         "hovertemplate": "DataType=Minimum Expected<br>Variable=%{x}<br>Water Ration Kms=%{y}<br>MarkerSize=%{marker.size}<br>Velocity Kgs=%{customdata[0]}<br>Mean Trip Velocity=%{customdata[1]}<br>Mean Loaded Velocity=%{customdata[2]}<br>Mean Unloaded Velocity=%{customdata[3]}<extra></extra>",
         "legendgroup": "Minimum Expected",
         "marker": {
          "color": "#DC582A",
          "size": [
           20
          ],
          "sizemode": "area",
          "sizeref": 0.125,
          "symbol": "circle"
         },
         "mode": "markers",
         "name": "Minimum Expected",
         "orientation": "v",
         "showlegend": true,
         "type": "scatter",
         "x": [
          10
         ],
         "xaxis": "x",
         "y": [
          547.1677041572297
         ],
         "yaxis": "y"
        },
        {
         "customdata": [
          [
           189.98878616570474,
           4.839556386779581,
           2.9654227344731168,
           6.7136900390860434
          ]
         ],
         "hovertemplate": "DataType=Maximum Expected<br>Variable=%{x}<br>Water Ration Kms=%{y}<br>MarkerSize=%{marker.size}<br>Velocity Kgs=%{customdata[0]}<br>Mean Trip Velocity=%{customdata[1]}<br>Mean Loaded Velocity=%{customdata[2]}<br>Mean Unloaded Velocity=%{customdata[3]}<extra></extra>",
         "legendgroup": "Maximum Expected",
         "marker": {
          "color": "#674230",
          "size": [
           20
          ],
          "sizemode": "area",
          "sizeref": 0.125,
          "symbol": "circle"
         },
         "mode": "markers",
         "name": "Maximum Expected",
         "orientation": "v",
         "showlegend": true,
         "type": "scatter",
         "x": [
          30
         ],
         "xaxis": "x",
         "y": [
          182.38923471907654
         ],
         "yaxis": "y"
        }
       ],
       "layout": {
        "font": {
         "color": "dimgrey",
         "family": "Droid Sans Mono",
         "size": 16
        },
        "legend": {
         "itemsizing": "constant",
         "title": {
          "text": "Legend"
         },
         "tracegroupgap": 0
        },
        "paper_bgcolor": "white",
        "plot_bgcolor": "white",
        "template": {
         "data": {
          "bar": [
           {
            "error_x": {
             "color": "#2a3f5f"
            },
            "error_y": {
             "color": "#2a3f5f"
            },
            "marker": {
             "line": {
              "color": "#E5ECF6",
              "width": 0.5
             },
             "pattern": {
              "fillmode": "overlay",
              "size": 10,
              "solidity": 0.2
             }
            },
            "type": "bar"
           }
          ],
          "barpolar": [
           {
            "marker": {
             "line": {
              "color": "#E5ECF6",
              "width": 0.5
             },
             "pattern": {
              "fillmode": "overlay",
              "size": 10,
              "solidity": 0.2
             }
            },
            "type": "barpolar"
           }
          ],
          "carpet": [
           {
            "aaxis": {
             "endlinecolor": "#2a3f5f",
             "gridcolor": "white",
             "linecolor": "white",
             "minorgridcolor": "white",
             "startlinecolor": "#2a3f5f"
            },
            "baxis": {
             "endlinecolor": "#2a3f5f",
             "gridcolor": "white",
             "linecolor": "white",
             "minorgridcolor": "white",
             "startlinecolor": "#2a3f5f"
            },
            "type": "carpet"
           }
          ],
          "choropleth": [
           {
            "colorbar": {
             "outlinewidth": 0,
             "ticks": ""
            },
            "type": "choropleth"
           }
          ],
          "contour": [
           {
            "colorbar": {
             "outlinewidth": 0,
             "ticks": ""
            },
            "colorscale": [
             [
              0,
              "#0d0887"
             ],
             [
              0.1111111111111111,
              "#46039f"
             ],
             [
              0.2222222222222222,
              "#7201a8"
             ],
             [
              0.3333333333333333,
              "#9c179e"
             ],
             [
              0.4444444444444444,
              "#bd3786"
             ],
             [
              0.5555555555555556,
              "#d8576b"
             ],
             [
              0.6666666666666666,
              "#ed7953"
             ],
             [
              0.7777777777777778,
              "#fb9f3a"
             ],
             [
              0.8888888888888888,
              "#fdca26"
             ],
             [
              1,
              "#f0f921"
             ]
            ],
            "type": "contour"
           }
          ],
          "contourcarpet": [
           {
            "colorbar": {
             "outlinewidth": 0,
             "ticks": ""
            },
            "type": "contourcarpet"
           }
          ],
          "heatmap": [
           {
            "colorbar": {
             "outlinewidth": 0,
             "ticks": ""
            },
            "colorscale": [
             [
              0,
              "#0d0887"
             ],
             [
              0.1111111111111111,
              "#46039f"
             ],
             [
              0.2222222222222222,
              "#7201a8"
             ],
             [
              0.3333333333333333,
              "#9c179e"
             ],
             [
              0.4444444444444444,
              "#bd3786"
             ],
             [
              0.5555555555555556,
              "#d8576b"
             ],
             [
              0.6666666666666666,
              "#ed7953"
             ],
             [
              0.7777777777777778,
              "#fb9f3a"
             ],
             [
              0.8888888888888888,
              "#fdca26"
             ],
             [
              1,
              "#f0f921"
             ]
            ],
            "type": "heatmap"
           }
          ],
          "heatmapgl": [
           {
            "colorbar": {
             "outlinewidth": 0,
             "ticks": ""
            },
            "colorscale": [
             [
              0,
              "#0d0887"
             ],
             [
              0.1111111111111111,
              "#46039f"
             ],
             [
              0.2222222222222222,
              "#7201a8"
             ],
             [
              0.3333333333333333,
              "#9c179e"
             ],
             [
              0.4444444444444444,
              "#bd3786"
             ],
             [
              0.5555555555555556,
              "#d8576b"
             ],
             [
              0.6666666666666666,
              "#ed7953"
             ],
             [
              0.7777777777777778,
              "#fb9f3a"
             ],
             [
              0.8888888888888888,
              "#fdca26"
             ],
             [
              1,
              "#f0f921"
             ]
            ],
            "type": "heatmapgl"
           }
          ],
          "histogram": [
           {
            "marker": {
             "pattern": {
              "fillmode": "overlay",
              "size": 10,
              "solidity": 0.2
             }
            },
            "type": "histogram"
           }
          ],
          "histogram2d": [
           {
            "colorbar": {
             "outlinewidth": 0,
             "ticks": ""
            },
            "colorscale": [
             [
              0,
              "#0d0887"
             ],
             [
              0.1111111111111111,
              "#46039f"
             ],
             [
              0.2222222222222222,
              "#7201a8"
             ],
             [
              0.3333333333333333,
              "#9c179e"
             ],
             [
              0.4444444444444444,
              "#bd3786"
             ],
             [
              0.5555555555555556,
              "#d8576b"
             ],
             [
              0.6666666666666666,
              "#ed7953"
             ],
             [
              0.7777777777777778,
              "#fb9f3a"
             ],
             [
              0.8888888888888888,
              "#fdca26"
             ],
             [
              1,
              "#f0f921"
             ]
            ],
            "type": "histogram2d"
           }
          ],
          "histogram2dcontour": [
           {
            "colorbar": {
             "outlinewidth": 0,
             "ticks": ""
            },
            "colorscale": [
             [
              0,
              "#0d0887"
             ],
             [
              0.1111111111111111,
              "#46039f"
             ],
             [
              0.2222222222222222,
              "#7201a8"
             ],
             [
              0.3333333333333333,
              "#9c179e"
             ],
             [
              0.4444444444444444,
              "#bd3786"
             ],
             [
              0.5555555555555556,
              "#d8576b"
             ],
             [
              0.6666666666666666,
              "#ed7953"
             ],
             [
              0.7777777777777778,
              "#fb9f3a"
             ],
             [
              0.8888888888888888,
              "#fdca26"
             ],
             [
              1,
              "#f0f921"
             ]
            ],
            "type": "histogram2dcontour"
           }
          ],
          "mesh3d": [
           {
            "colorbar": {
             "outlinewidth": 0,
             "ticks": ""
            },
            "type": "mesh3d"
           }
          ],
          "parcoords": [
           {
            "line": {
             "colorbar": {
              "outlinewidth": 0,
              "ticks": ""
             }
            },
            "type": "parcoords"
           }
          ],
          "pie": [
           {
            "automargin": true,
            "type": "pie"
           }
          ],
          "scatter": [
           {
            "fillpattern": {
             "fillmode": "overlay",
             "size": 10,
             "solidity": 0.2
            },
            "type": "scatter"
           }
          ],
          "scatter3d": [
           {
            "line": {
             "colorbar": {
              "outlinewidth": 0,
              "ticks": ""
             }
            },
            "marker": {
             "colorbar": {
              "outlinewidth": 0,
              "ticks": ""
             }
            },
            "type": "scatter3d"
           }
          ],
          "scattercarpet": [
           {
            "marker": {
             "colorbar": {
              "outlinewidth": 0,
              "ticks": ""
             }
            },
            "type": "scattercarpet"
           }
          ],
          "scattergeo": [
           {
            "marker": {
             "colorbar": {
              "outlinewidth": 0,
              "ticks": ""
             }
            },
            "type": "scattergeo"
           }
          ],
          "scattergl": [
           {
            "marker": {
             "colorbar": {
              "outlinewidth": 0,
              "ticks": ""
             }
            },
            "type": "scattergl"
           }
          ],
          "scattermapbox": [
           {
            "marker": {
             "colorbar": {
              "outlinewidth": 0,
              "ticks": ""
             }
            },
            "type": "scattermapbox"
           }
          ],
          "scatterpolar": [
           {
            "marker": {
             "colorbar": {
              "outlinewidth": 0,
              "ticks": ""
             }
            },
            "type": "scatterpolar"
           }
          ],
          "scatterpolargl": [
           {
            "marker": {
             "colorbar": {
              "outlinewidth": 0,
              "ticks": ""
             }
            },
            "type": "scatterpolargl"
           }
          ],
          "scatterternary": [
           {
            "marker": {
             "colorbar": {
              "outlinewidth": 0,
              "ticks": ""
             }
            },
            "type": "scatterternary"
           }
          ],
          "surface": [
           {
            "colorbar": {
             "outlinewidth": 0,
             "ticks": ""
            },
            "colorscale": [
             [
              0,
              "#0d0887"
             ],
             [
              0.1111111111111111,
              "#46039f"
             ],
             [
              0.2222222222222222,
              "#7201a8"
             ],
             [
              0.3333333333333333,
              "#9c179e"
             ],
             [
              0.4444444444444444,
              "#bd3786"
             ],
             [
              0.5555555555555556,
              "#d8576b"
             ],
             [
              0.6666666666666666,
              "#ed7953"
             ],
             [
              0.7777777777777778,
              "#fb9f3a"
             ],
             [
              0.8888888888888888,
              "#fdca26"
             ],
             [
              1,
              "#f0f921"
             ]
            ],
            "type": "surface"
           }
          ],
          "table": [
           {
            "cells": {
             "fill": {
              "color": "#EBF0F8"
             },
             "line": {
              "color": "white"
             }
            },
            "header": {
             "fill": {
              "color": "#C8D4E3"
             },
             "line": {
              "color": "white"
             }
            },
            "type": "table"
           }
          ]
         },
         "layout": {
          "annotationdefaults": {
           "arrowcolor": "#2a3f5f",
           "arrowhead": 0,
           "arrowwidth": 1
          },
          "autotypenumbers": "strict",
          "coloraxis": {
           "colorbar": {
            "outlinewidth": 0,
            "ticks": ""
           }
          },
          "colorscale": {
           "diverging": [
            [
             0,
             "#8e0152"
            ],
            [
             0.1,
             "#c51b7d"
            ],
            [
             0.2,
             "#de77ae"
            ],
            [
             0.3,
             "#f1b6da"
            ],
            [
             0.4,
             "#fde0ef"
            ],
            [
             0.5,
             "#f7f7f7"
            ],
            [
             0.6,
             "#e6f5d0"
            ],
            [
             0.7,
             "#b8e186"
            ],
            [
             0.8,
             "#7fbc41"
            ],
            [
             0.9,
             "#4d9221"
            ],
            [
             1,
             "#276419"
            ]
           ],
           "sequential": [
            [
             0,
             "#0d0887"
            ],
            [
             0.1111111111111111,
             "#46039f"
            ],
            [
             0.2222222222222222,
             "#7201a8"
            ],
            [
             0.3333333333333333,
             "#9c179e"
            ],
            [
             0.4444444444444444,
             "#bd3786"
            ],
            [
             0.5555555555555556,
             "#d8576b"
            ],
            [
             0.6666666666666666,
             "#ed7953"
            ],
            [
             0.7777777777777778,
             "#fb9f3a"
            ],
            [
             0.8888888888888888,
             "#fdca26"
            ],
            [
             1,
             "#f0f921"
            ]
           ],
           "sequentialminus": [
            [
             0,
             "#0d0887"
            ],
            [
             0.1111111111111111,
             "#46039f"
            ],
            [
             0.2222222222222222,
             "#7201a8"
            ],
            [
             0.3333333333333333,
             "#9c179e"
            ],
            [
             0.4444444444444444,
             "#bd3786"
            ],
            [
             0.5555555555555556,
             "#d8576b"
            ],
            [
             0.6666666666666666,
             "#ed7953"
            ],
            [
             0.7777777777777778,
             "#fb9f3a"
            ],
            [
             0.8888888888888888,
             "#fdca26"
            ],
            [
             1,
             "#f0f921"
            ]
           ]
          },
          "colorway": [
           "#636efa",
           "#EF553B",
           "#00cc96",
           "#ab63fa",
           "#FFA15A",
           "#19d3f3",
           "#FF6692",
           "#B6E880",
           "#FF97FF",
           "#FECB52"
          ],
          "font": {
           "color": "#2a3f5f"
          },
          "geo": {
           "bgcolor": "white",
           "lakecolor": "white",
           "landcolor": "#E5ECF6",
           "showlakes": true,
           "showland": true,
           "subunitcolor": "white"
          },
          "hoverlabel": {
           "align": "left"
          },
          "hovermode": "closest",
          "mapbox": {
           "style": "light"
          },
          "paper_bgcolor": "white",
          "plot_bgcolor": "#E5ECF6",
          "polar": {
           "angularaxis": {
            "gridcolor": "white",
            "linecolor": "white",
            "ticks": ""
           },
           "bgcolor": "#E5ECF6",
           "radialaxis": {
            "gridcolor": "white",
            "linecolor": "white",
            "ticks": ""
           }
          },
          "scene": {
           "xaxis": {
            "backgroundcolor": "#E5ECF6",
            "gridcolor": "white",
            "gridwidth": 2,
            "linecolor": "white",
            "showbackground": true,
            "ticks": "",
            "zerolinecolor": "white"
           },
           "yaxis": {
            "backgroundcolor": "#E5ECF6",
            "gridcolor": "white",
            "gridwidth": 2,
            "linecolor": "white",
            "showbackground": true,
            "ticks": "",
            "zerolinecolor": "white"
           },
           "zaxis": {
            "backgroundcolor": "#E5ECF6",
            "gridcolor": "white",
            "gridwidth": 2,
            "linecolor": "white",
            "showbackground": true,
            "ticks": "",
            "zerolinecolor": "white"
           }
          },
          "shapedefaults": {
           "line": {
            "color": "#2a3f5f"
           }
          },
          "ternary": {
           "aaxis": {
            "gridcolor": "white",
            "linecolor": "white",
            "ticks": ""
           },
           "baxis": {
            "gridcolor": "white",
            "linecolor": "white",
            "ticks": ""
           },
           "bgcolor": "#E5ECF6",
           "caxis": {
            "gridcolor": "white",
            "linecolor": "white",
            "ticks": ""
           }
          },
          "title": {
           "x": 0.05
          },
          "xaxis": {
           "automargin": true,
           "gridcolor": "white",
           "linecolor": "white",
           "ticks": "",
           "title": {
            "standoff": 15
           },
           "zerolinecolor": "white",
           "zerolinewidth": 2
          },
          "yaxis": {
           "automargin": true,
           "gridcolor": "white",
           "linecolor": "white",
           "ticks": "",
           "title": {
            "standoff": 15
           },
           "zerolinecolor": "white",
           "zerolinewidth": 2
          }
         }
        },
        "title": {
         "font": {
          "color": "dimgrey",
          "size": 30
         },
         "text": "Effect of Water Ration on model Velocity Kgs"
        },
        "xaxis": {
         "anchor": "y",
         "domain": [
          0,
          1
         ],
         "gridcolor": "#e6e6e6",
         "gridwidth": 1,
         "showgrid": true,
         "title": {
          "text": "Water Ration  <i>[L/day]</i>"
         }
        },
        "yaxis": {
         "anchor": "x",
         "domain": [
          0,
          1
         ],
         "gridcolor": "#e6e6e6",
         "gridwidth": 1,
         "range": [
          82.07515562358445,
          802.5126327639368
         ],
         "showgrid": true,
         "title": {
          "text": "Water Ration Kms"
         }
        }
       }
      }
     },
     "metadata": {},
     "output_type": "display_data"
    },
    {
     "data": {
      "application/vnd.plotly.v1+json": {
       "config": {
        "plotlyServerURL": "https://plot.ly"
       },
       "data": [
        {
         "customdata": [
          [
           192.878544345352,
           4.925619506974061,
           3.1233934327986654,
           6.727845581149456
          ],
          [
           189.76265927772533,
           4.832875200891617,
           2.9532391775783324,
           6.712511224204901
          ],
          [
           187.00247302891665,
           4.7519532265637325,
           2.8067070910369836,
           6.697199362090477
          ],
          [
           184.53358339417485,
           4.680565875763693,
           2.6792179683918023,
           6.6819137831355855
          ],
          [
           182.30530597583078,
           4.61694617427081,
           2.567233971996475,
           6.666658376545142
          ],
          [
           180.2773910055273,
           4.559714374004974,
           2.467991620528546,
           6.6514371274814055
          ],
          [
           178.4176323928342,
           4.50778167604279,
           2.3793092406660894,
           6.6362541114194915
          ]
         ],
         "hovertemplate": "DataType=Sensitivity<br>Variable=%{x}<br>Water Ration Kms=%{y}<br>MarkerSize=%{marker.size}<br>Velocity Kgs=%{customdata[0]}<br>Mean Trip Velocity=%{customdata[1]}<br>Mean Loaded Velocity=%{customdata[2]}<br>Mean Unloaded Velocity=%{customdata[3]}<extra></extra>",
         "legendgroup": "Sensitivity",
         "marker": {
          "color": "#3D87CB",
          "size": [
           10,
           10,
           10,
           10,
           10,
           10,
           10
          ],
          "sizemode": "area",
          "sizeref": 0.125,
          "symbol": "circle"
         },
         "mode": "markers",
         "name": "Sensitivity",
         "orientation": "v",
         "showlegend": true,
         "type": "scatter",
         "x": [
          51.8,
          62.849999999999994,
          73.89999999999999,
          84.94999999999999,
          96,
          107.04999999999998,
          118.1
         ],
         "xaxis": "x",
         "y": [
          370.32680514307583,
          364.3443058132326,
          359.04474821552,
          354.30448011681574,
          350.0261874735951,
          346.13259073061243,
          342.5618541942417
         ],
         "yaxis": "y"
        },
        {
         "customdata": [
          [
           189.98878616570474,
           4.839556386779581,
           2.9654227344731168,
           6.7136900390860434
          ]
         ],
         "hovertemplate": "DataType=Default<br>Variable=%{x}<br>Water Ration Kms=%{y}<br>MarkerSize=%{marker.size}<br>Velocity Kgs=%{customdata[0]}<br>Mean Trip Velocity=%{customdata[1]}<br>Mean Loaded Velocity=%{customdata[2]}<br>Mean Unloaded Velocity=%{customdata[3]}<extra></extra>",
         "legendgroup": "Default",
         "marker": {
          "color": "#F0B323",
          "size": [
           50
          ],
          "sizemode": "area",
          "sizeref": 0.125,
          "symbol": "circle"
         },
         "mode": "markers",
         "name": "Default",
         "orientation": "v",
         "showlegend": true,
         "type": "scatter",
         "x": [
          62
         ],
         "xaxis": "x",
         "y": [
          364.7784694381531
         ],
         "yaxis": "y"
        },
        {
         "customdata": [
          [
           191.8773742785015,
           4.895660131130111,
           3.0681951172845445,
           6.723125144975677
          ]
         ],
         "hovertemplate": "DataType=Minimum Expected<br>Variable=%{x}<br>Water Ration Kms=%{y}<br>MarkerSize=%{marker.size}<br>Velocity Kgs=%{customdata[0]}<br>Mean Trip Velocity=%{customdata[1]}<br>Mean Loaded Velocity=%{customdata[2]}<br>Mean Unloaded Velocity=%{customdata[3]}<extra></extra>",
         "legendgroup": "Minimum Expected",
         "marker": {
          "color": "#DC582A",
          "size": [
           20
          ],
          "sizemode": "area",
          "sizeref": 0.125,
          "symbol": "circle"
         },
         "mode": "markers",
         "name": "Minimum Expected",
         "orientation": "v",
         "showlegend": true,
         "type": "scatter",
         "x": [
          55.2
         ],
         "xaxis": "x",
         "y": [
          368.4045586147229
         ],
         "yaxis": "y"
        },
        {
         "customdata": [
          [
           181.66162675582052,
           4.59871156776164,
           2.535452045801036,
           6.661971089722245
          ]
         ],
         "hovertemplate": "DataType=Maximum Expected<br>Variable=%{x}<br>Water Ration Kms=%{y}<br>MarkerSize=%{marker.size}<br>Velocity Kgs=%{customdata[0]}<br>Mean Trip Velocity=%{customdata[1]}<br>Mean Loaded Velocity=%{customdata[2]}<br>Mean Unloaded Velocity=%{customdata[3]}<extra></extra>",
         "legendgroup": "Maximum Expected",
         "marker": {
          "color": "#674230",
          "size": [
           20
          ],
          "sizemode": "area",
          "sizeref": 0.125,
          "symbol": "circle"
         },
         "mode": "markers",
         "name": "Maximum Expected",
         "orientation": "v",
         "showlegend": true,
         "type": "scatter",
         "x": [
          99.4
         ],
         "xaxis": "x",
         "y": [
          348.7903233711754
         ],
         "yaxis": "y"
        }
       ],
       "layout": {
        "font": {
         "color": "dimgrey",
         "family": "Droid Sans Mono",
         "size": 16
        },
        "legend": {
         "itemsizing": "constant",
         "title": {
          "text": "Legend"
         },
         "tracegroupgap": 0
        },
        "paper_bgcolor": "white",
        "plot_bgcolor": "white",
        "template": {
         "data": {
          "bar": [
           {
            "error_x": {
             "color": "#2a3f5f"
            },
            "error_y": {
             "color": "#2a3f5f"
            },
            "marker": {
             "line": {
              "color": "#E5ECF6",
              "width": 0.5
             },
             "pattern": {
              "fillmode": "overlay",
              "size": 10,
              "solidity": 0.2
             }
            },
            "type": "bar"
           }
          ],
          "barpolar": [
           {
            "marker": {
             "line": {
              "color": "#E5ECF6",
              "width": 0.5
             },
             "pattern": {
              "fillmode": "overlay",
              "size": 10,
              "solidity": 0.2
             }
            },
            "type": "barpolar"
           }
          ],
          "carpet": [
           {
            "aaxis": {
             "endlinecolor": "#2a3f5f",
             "gridcolor": "white",
             "linecolor": "white",
             "minorgridcolor": "white",
             "startlinecolor": "#2a3f5f"
            },
            "baxis": {
             "endlinecolor": "#2a3f5f",
             "gridcolor": "white",
             "linecolor": "white",
             "minorgridcolor": "white",
             "startlinecolor": "#2a3f5f"
            },
            "type": "carpet"
           }
          ],
          "choropleth": [
           {
            "colorbar": {
             "outlinewidth": 0,
             "ticks": ""
            },
            "type": "choropleth"
           }
          ],
          "contour": [
           {
            "colorbar": {
             "outlinewidth": 0,
             "ticks": ""
            },
            "colorscale": [
             [
              0,
              "#0d0887"
             ],
             [
              0.1111111111111111,
              "#46039f"
             ],
             [
              0.2222222222222222,
              "#7201a8"
             ],
             [
              0.3333333333333333,
              "#9c179e"
             ],
             [
              0.4444444444444444,
              "#bd3786"
             ],
             [
              0.5555555555555556,
              "#d8576b"
             ],
             [
              0.6666666666666666,
              "#ed7953"
             ],
             [
              0.7777777777777778,
              "#fb9f3a"
             ],
             [
              0.8888888888888888,
              "#fdca26"
             ],
             [
              1,
              "#f0f921"
             ]
            ],
            "type": "contour"
           }
          ],
          "contourcarpet": [
           {
            "colorbar": {
             "outlinewidth": 0,
             "ticks": ""
            },
            "type": "contourcarpet"
           }
          ],
          "heatmap": [
           {
            "colorbar": {
             "outlinewidth": 0,
             "ticks": ""
            },
            "colorscale": [
             [
              0,
              "#0d0887"
             ],
             [
              0.1111111111111111,
              "#46039f"
             ],
             [
              0.2222222222222222,
              "#7201a8"
             ],
             [
              0.3333333333333333,
              "#9c179e"
             ],
             [
              0.4444444444444444,
              "#bd3786"
             ],
             [
              0.5555555555555556,
              "#d8576b"
             ],
             [
              0.6666666666666666,
              "#ed7953"
             ],
             [
              0.7777777777777778,
              "#fb9f3a"
             ],
             [
              0.8888888888888888,
              "#fdca26"
             ],
             [
              1,
              "#f0f921"
             ]
            ],
            "type": "heatmap"
           }
          ],
          "heatmapgl": [
           {
            "colorbar": {
             "outlinewidth": 0,
             "ticks": ""
            },
            "colorscale": [
             [
              0,
              "#0d0887"
             ],
             [
              0.1111111111111111,
              "#46039f"
             ],
             [
              0.2222222222222222,
              "#7201a8"
             ],
             [
              0.3333333333333333,
              "#9c179e"
             ],
             [
              0.4444444444444444,
              "#bd3786"
             ],
             [
              0.5555555555555556,
              "#d8576b"
             ],
             [
              0.6666666666666666,
              "#ed7953"
             ],
             [
              0.7777777777777778,
              "#fb9f3a"
             ],
             [
              0.8888888888888888,
              "#fdca26"
             ],
             [
              1,
              "#f0f921"
             ]
            ],
            "type": "heatmapgl"
           }
          ],
          "histogram": [
           {
            "marker": {
             "pattern": {
              "fillmode": "overlay",
              "size": 10,
              "solidity": 0.2
             }
            },
            "type": "histogram"
           }
          ],
          "histogram2d": [
           {
            "colorbar": {
             "outlinewidth": 0,
             "ticks": ""
            },
            "colorscale": [
             [
              0,
              "#0d0887"
             ],
             [
              0.1111111111111111,
              "#46039f"
             ],
             [
              0.2222222222222222,
              "#7201a8"
             ],
             [
              0.3333333333333333,
              "#9c179e"
             ],
             [
              0.4444444444444444,
              "#bd3786"
             ],
             [
              0.5555555555555556,
              "#d8576b"
             ],
             [
              0.6666666666666666,
              "#ed7953"
             ],
             [
              0.7777777777777778,
              "#fb9f3a"
             ],
             [
              0.8888888888888888,
              "#fdca26"
             ],
             [
              1,
              "#f0f921"
             ]
            ],
            "type": "histogram2d"
           }
          ],
          "histogram2dcontour": [
           {
            "colorbar": {
             "outlinewidth": 0,
             "ticks": ""
            },
            "colorscale": [
             [
              0,
              "#0d0887"
             ],
             [
              0.1111111111111111,
              "#46039f"
             ],
             [
              0.2222222222222222,
              "#7201a8"
             ],
             [
              0.3333333333333333,
              "#9c179e"
             ],
             [
              0.4444444444444444,
              "#bd3786"
             ],
             [
              0.5555555555555556,
              "#d8576b"
             ],
             [
              0.6666666666666666,
              "#ed7953"
             ],
             [
              0.7777777777777778,
              "#fb9f3a"
             ],
             [
              0.8888888888888888,
              "#fdca26"
             ],
             [
              1,
              "#f0f921"
             ]
            ],
            "type": "histogram2dcontour"
           }
          ],
          "mesh3d": [
           {
            "colorbar": {
             "outlinewidth": 0,
             "ticks": ""
            },
            "type": "mesh3d"
           }
          ],
          "parcoords": [
           {
            "line": {
             "colorbar": {
              "outlinewidth": 0,
              "ticks": ""
             }
            },
            "type": "parcoords"
           }
          ],
          "pie": [
           {
            "automargin": true,
            "type": "pie"
           }
          ],
          "scatter": [
           {
            "fillpattern": {
             "fillmode": "overlay",
             "size": 10,
             "solidity": 0.2
            },
            "type": "scatter"
           }
          ],
          "scatter3d": [
           {
            "line": {
             "colorbar": {
              "outlinewidth": 0,
              "ticks": ""
             }
            },
            "marker": {
             "colorbar": {
              "outlinewidth": 0,
              "ticks": ""
             }
            },
            "type": "scatter3d"
           }
          ],
          "scattercarpet": [
           {
            "marker": {
             "colorbar": {
              "outlinewidth": 0,
              "ticks": ""
             }
            },
            "type": "scattercarpet"
           }
          ],
          "scattergeo": [
           {
            "marker": {
             "colorbar": {
              "outlinewidth": 0,
              "ticks": ""
             }
            },
            "type": "scattergeo"
           }
          ],
          "scattergl": [
           {
            "marker": {
             "colorbar": {
              "outlinewidth": 0,
              "ticks": ""
             }
            },
            "type": "scattergl"
           }
          ],
          "scattermapbox": [
           {
            "marker": {
             "colorbar": {
              "outlinewidth": 0,
              "ticks": ""
             }
            },
            "type": "scattermapbox"
           }
          ],
          "scatterpolar": [
           {
            "marker": {
             "colorbar": {
              "outlinewidth": 0,
              "ticks": ""
             }
            },
            "type": "scatterpolar"
           }
          ],
          "scatterpolargl": [
           {
            "marker": {
             "colorbar": {
              "outlinewidth": 0,
              "ticks": ""
             }
            },
            "type": "scatterpolargl"
           }
          ],
          "scatterternary": [
           {
            "marker": {
             "colorbar": {
              "outlinewidth": 0,
              "ticks": ""
             }
            },
            "type": "scatterternary"
           }
          ],
          "surface": [
           {
            "colorbar": {
             "outlinewidth": 0,
             "ticks": ""
            },
            "colorscale": [
             [
              0,
              "#0d0887"
             ],
             [
              0.1111111111111111,
              "#46039f"
             ],
             [
              0.2222222222222222,
              "#7201a8"
             ],
             [
              0.3333333333333333,
              "#9c179e"
             ],
             [
              0.4444444444444444,
              "#bd3786"
             ],
             [
              0.5555555555555556,
              "#d8576b"
             ],
             [
              0.6666666666666666,
              "#ed7953"
             ],
             [
              0.7777777777777778,
              "#fb9f3a"
             ],
             [
              0.8888888888888888,
              "#fdca26"
             ],
             [
              1,
              "#f0f921"
             ]
            ],
            "type": "surface"
           }
          ],
          "table": [
           {
            "cells": {
             "fill": {
              "color": "#EBF0F8"
             },
             "line": {
              "color": "white"
             }
            },
            "header": {
             "fill": {
              "color": "#C8D4E3"
             },
             "line": {
              "color": "white"
             }
            },
            "type": "table"
           }
          ]
         },
         "layout": {
          "annotationdefaults": {
           "arrowcolor": "#2a3f5f",
           "arrowhead": 0,
           "arrowwidth": 1
          },
          "autotypenumbers": "strict",
          "coloraxis": {
           "colorbar": {
            "outlinewidth": 0,
            "ticks": ""
           }
          },
          "colorscale": {
           "diverging": [
            [
             0,
             "#8e0152"
            ],
            [
             0.1,
             "#c51b7d"
            ],
            [
             0.2,
             "#de77ae"
            ],
            [
             0.3,
             "#f1b6da"
            ],
            [
             0.4,
             "#fde0ef"
            ],
            [
             0.5,
             "#f7f7f7"
            ],
            [
             0.6,
             "#e6f5d0"
            ],
            [
             0.7,
             "#b8e186"
            ],
            [
             0.8,
             "#7fbc41"
            ],
            [
             0.9,
             "#4d9221"
            ],
            [
             1,
             "#276419"
            ]
           ],
           "sequential": [
            [
             0,
             "#0d0887"
            ],
            [
             0.1111111111111111,
             "#46039f"
            ],
            [
             0.2222222222222222,
             "#7201a8"
            ],
            [
             0.3333333333333333,
             "#9c179e"
            ],
            [
             0.4444444444444444,
             "#bd3786"
            ],
            [
             0.5555555555555556,
             "#d8576b"
            ],
            [
             0.6666666666666666,
             "#ed7953"
            ],
            [
             0.7777777777777778,
             "#fb9f3a"
            ],
            [
             0.8888888888888888,
             "#fdca26"
            ],
            [
             1,
             "#f0f921"
            ]
           ],
           "sequentialminus": [
            [
             0,
             "#0d0887"
            ],
            [
             0.1111111111111111,
             "#46039f"
            ],
            [
             0.2222222222222222,
             "#7201a8"
            ],
            [
             0.3333333333333333,
             "#9c179e"
            ],
            [
             0.4444444444444444,
             "#bd3786"
            ],
            [
             0.5555555555555556,
             "#d8576b"
            ],
            [
             0.6666666666666666,
             "#ed7953"
            ],
            [
             0.7777777777777778,
             "#fb9f3a"
            ],
            [
             0.8888888888888888,
             "#fdca26"
            ],
            [
             1,
             "#f0f921"
            ]
           ]
          },
          "colorway": [
           "#636efa",
           "#EF553B",
           "#00cc96",
           "#ab63fa",
           "#FFA15A",
           "#19d3f3",
           "#FF6692",
           "#B6E880",
           "#FF97FF",
           "#FECB52"
          ],
          "font": {
           "color": "#2a3f5f"
          },
          "geo": {
           "bgcolor": "white",
           "lakecolor": "white",
           "landcolor": "#E5ECF6",
           "showlakes": true,
           "showland": true,
           "subunitcolor": "white"
          },
          "hoverlabel": {
           "align": "left"
          },
          "hovermode": "closest",
          "mapbox": {
           "style": "light"
          },
          "paper_bgcolor": "white",
          "plot_bgcolor": "#E5ECF6",
          "polar": {
           "angularaxis": {
            "gridcolor": "white",
            "linecolor": "white",
            "ticks": ""
           },
           "bgcolor": "#E5ECF6",
           "radialaxis": {
            "gridcolor": "white",
            "linecolor": "white",
            "ticks": ""
           }
          },
          "scene": {
           "xaxis": {
            "backgroundcolor": "#E5ECF6",
            "gridcolor": "white",
            "gridwidth": 2,
            "linecolor": "white",
            "showbackground": true,
            "ticks": "",
            "zerolinecolor": "white"
           },
           "yaxis": {
            "backgroundcolor": "#E5ECF6",
            "gridcolor": "white",
            "gridwidth": 2,
            "linecolor": "white",
            "showbackground": true,
            "ticks": "",
            "zerolinecolor": "white"
           },
           "zaxis": {
            "backgroundcolor": "#E5ECF6",
            "gridcolor": "white",
            "gridwidth": 2,
            "linecolor": "white",
            "showbackground": true,
            "ticks": "",
            "zerolinecolor": "white"
           }
          },
          "shapedefaults": {
           "line": {
            "color": "#2a3f5f"
           }
          },
          "ternary": {
           "aaxis": {
            "gridcolor": "white",
            "linecolor": "white",
            "ticks": ""
           },
           "baxis": {
            "gridcolor": "white",
            "linecolor": "white",
            "ticks": ""
           },
           "bgcolor": "#E5ECF6",
           "caxis": {
            "gridcolor": "white",
            "linecolor": "white",
            "ticks": ""
           }
          },
          "title": {
           "x": 0.05
          },
          "xaxis": {
           "automargin": true,
           "gridcolor": "white",
           "linecolor": "white",
           "ticks": "",
           "title": {
            "standoff": 15
           },
           "zerolinecolor": "white",
           "zerolinewidth": 2
          },
          "yaxis": {
           "automargin": true,
           "gridcolor": "white",
           "linecolor": "white",
           "ticks": "",
           "title": {
            "standoff": 15
           },
           "zerolinecolor": "white",
           "zerolinewidth": 2
          }
         }
        },
        "title": {
         "font": {
          "color": "dimgrey",
          "size": 30
         },
         "text": "Effect of Human Weight on model Velocity Kgs"
        },
        "xaxis": {
         "anchor": "y",
         "domain": [
          0,
          1
         ],
         "gridcolor": "#e6e6e6",
         "gridwidth": 1,
         "showgrid": true,
         "title": {
          "text": "Human Weight  <i>[Kg]</i>"
         }
        },
        "yaxis": {
         "anchor": "x",
         "domain": [
          0,
          1
         ],
         "gridcolor": "#e6e6e6",
         "gridwidth": 1,
         "range": [
          82.07515562358445,
          802.5126327639368
         ],
         "showgrid": true,
         "title": {
          "text": "Water Ration Kms"
         }
        }
       }
      }
     },
     "metadata": {},
     "output_type": "display_data"
    },
    {
     "data": {
      "application/vnd.plotly.v1+json": {
       "config": {
        "plotlyServerURL": "https://plot.ly"
       },
       "data": [
        {
         "customdata": [
          [
           162.51248718986122,
           4.122055020126806,
           1.8794187590245166,
           6.364691281229093
          ],
          [
           172.65282571169016,
           4.38727157298125,
           2.2732975655083227,
           6.50124558045418
          ],
          [
           181.71004690565192,
           4.623839010601384,
           2.632598660000335,
           6.615079361202431
          ],
          [
           189.98878616570474,
           4.839556386779581,
           2.9654227344731168,
           6.7136900390860434
          ],
          [
           197.66355601113236,
           5.038998751737764,
           3.2767181341989025,
           6.801279369276628
          ],
          [
           204.84710177912848,
           5.225172959321143,
           3.5698840123721594,
           6.880461906270123
          ],
          [
           211.61840840845304,
           5.400207324738174,
           3.8474284447436946,
           6.952986204732653
          ]
         ],
         "hovertemplate": "DataType=Sensitivity<br>Variable=%{x}<br>Water Ration Kms=%{y}<br>MarkerSize=%{marker.size}<br>Velocity Kgs=%{customdata[0]}<br>Mean Trip Velocity=%{customdata[1]}<br>Mean Loaded Velocity=%{customdata[2]}<br>Mean Unloaded Velocity=%{customdata[3]}<extra></extra>",
         "legendgroup": "Sensitivity",
         "marker": {
          "color": "#3D87CB",
          "size": [
           10,
           10,
           10,
           10,
           10,
           10,
           10
          ],
          "sizemode": "area",
          "sizeref": 0.125,
          "symbol": "circle"
         },
         "mode": "markers",
         "name": "Sensitivity",
         "orientation": "v",
         "showlegend": true,
         "type": "scatter",
         "x": [
          37.5,
          50,
          62.5,
          75,
          87.5,
          100,
          112.5
         ],
         "xaxis": "x",
         "y": [
          312.0239754045335,
          331.4934253664451,
          348.8832900588517,
          364.7784694381531,
          379.51402754137416,
          393.30643541592667,
          406.30734414422983
         ],
         "yaxis": "y"
        },
        {
         "customdata": [
          [
           189.98878616570474,
           4.839556386779581,
           2.9654227344731168,
           6.7136900390860434
          ]
         ],
         "hovertemplate": "DataType=Default<br>Variable=%{x}<br>Water Ration Kms=%{y}<br>MarkerSize=%{marker.size}<br>Velocity Kgs=%{customdata[0]}<br>Mean Trip Velocity=%{customdata[1]}<br>Mean Loaded Velocity=%{customdata[2]}<br>Mean Unloaded Velocity=%{customdata[3]}<extra></extra>",
         "legendgroup": "Default",
         "marker": {
          "color": "#F0B323",
          "size": [
           50
          ],
          "sizemode": "area",
          "sizeref": 0.125,
          "symbol": "circle"
         },
         "mode": "markers",
         "name": "Default",
         "orientation": "v",
         "showlegend": true,
         "type": "scatter",
         "x": [
          75
         ],
         "xaxis": "x",
         "y": [
          364.7784694381531
         ],
         "yaxis": "y"
        },
        {
         "customdata": [
          [
           172.65282571169016,
           4.38727157298125,
           2.2732975655083227,
           6.50124558045418
          ]
         ],
         "hovertemplate": "DataType=Minimum Expected<br>Variable=%{x}<br>Water Ration Kms=%{y}<br>MarkerSize=%{marker.size}<br>Velocity Kgs=%{customdata[0]}<br>Mean Trip Velocity=%{customdata[1]}<br>Mean Loaded Velocity=%{customdata[2]}<br>Mean Unloaded Velocity=%{customdata[3]}<extra></extra>",
         "legendgroup": "Minimum Expected",
         "marker": {
          "color": "#DC582A",
          "size": [
           20
          ],
          "sizemode": "area",
          "sizeref": 0.125,
          "symbol": "circle"
         },
         "mode": "markers",
         "name": "Minimum Expected",
         "orientation": "v",
         "showlegend": true,
         "type": "scatter",
         "x": [
          50
         ],
         "xaxis": "x",
         "y": [
          331.4934253664451
         ],
         "yaxis": "y"
        },
        {
         "customdata": [
          [
           204.84710177912848,
           5.225172959321143,
           3.5698840123721594,
           6.880461906270123
          ]
         ],
         "hovertemplate": "DataType=Maximum Expected<br>Variable=%{x}<br>Water Ration Kms=%{y}<br>MarkerSize=%{marker.size}<br>Velocity Kgs=%{customdata[0]}<br>Mean Trip Velocity=%{customdata[1]}<br>Mean Loaded Velocity=%{customdata[2]}<br>Mean Unloaded Velocity=%{customdata[3]}<extra></extra>",
         "legendgroup": "Maximum Expected",
         "marker": {
          "color": "#674230",
          "size": [
           20
          ],
          "sizemode": "area",
          "sizeref": 0.125,
          "symbol": "circle"
         },
         "mode": "markers",
         "name": "Maximum Expected",
         "orientation": "v",
         "showlegend": true,
         "type": "scatter",
         "x": [
          100
         ],
         "xaxis": "x",
         "y": [
          393.30643541592667
         ],
         "yaxis": "y"
        }
       ],
       "layout": {
        "font": {
         "color": "dimgrey",
         "family": "Droid Sans Mono",
         "size": 16
        },
        "legend": {
         "itemsizing": "constant",
         "title": {
          "text": "Legend"
         },
         "tracegroupgap": 0
        },
        "paper_bgcolor": "white",
        "plot_bgcolor": "white",
        "template": {
         "data": {
          "bar": [
           {
            "error_x": {
             "color": "#2a3f5f"
            },
            "error_y": {
             "color": "#2a3f5f"
            },
            "marker": {
             "line": {
              "color": "#E5ECF6",
              "width": 0.5
             },
             "pattern": {
              "fillmode": "overlay",
              "size": 10,
              "solidity": 0.2
             }
            },
            "type": "bar"
           }
          ],
          "barpolar": [
           {
            "marker": {
             "line": {
              "color": "#E5ECF6",
              "width": 0.5
             },
             "pattern": {
              "fillmode": "overlay",
              "size": 10,
              "solidity": 0.2
             }
            },
            "type": "barpolar"
           }
          ],
          "carpet": [
           {
            "aaxis": {
             "endlinecolor": "#2a3f5f",
             "gridcolor": "white",
             "linecolor": "white",
             "minorgridcolor": "white",
             "startlinecolor": "#2a3f5f"
            },
            "baxis": {
             "endlinecolor": "#2a3f5f",
             "gridcolor": "white",
             "linecolor": "white",
             "minorgridcolor": "white",
             "startlinecolor": "#2a3f5f"
            },
            "type": "carpet"
           }
          ],
          "choropleth": [
           {
            "colorbar": {
             "outlinewidth": 0,
             "ticks": ""
            },
            "type": "choropleth"
           }
          ],
          "contour": [
           {
            "colorbar": {
             "outlinewidth": 0,
             "ticks": ""
            },
            "colorscale": [
             [
              0,
              "#0d0887"
             ],
             [
              0.1111111111111111,
              "#46039f"
             ],
             [
              0.2222222222222222,
              "#7201a8"
             ],
             [
              0.3333333333333333,
              "#9c179e"
             ],
             [
              0.4444444444444444,
              "#bd3786"
             ],
             [
              0.5555555555555556,
              "#d8576b"
             ],
             [
              0.6666666666666666,
              "#ed7953"
             ],
             [
              0.7777777777777778,
              "#fb9f3a"
             ],
             [
              0.8888888888888888,
              "#fdca26"
             ],
             [
              1,
              "#f0f921"
             ]
            ],
            "type": "contour"
           }
          ],
          "contourcarpet": [
           {
            "colorbar": {
             "outlinewidth": 0,
             "ticks": ""
            },
            "type": "contourcarpet"
           }
          ],
          "heatmap": [
           {
            "colorbar": {
             "outlinewidth": 0,
             "ticks": ""
            },
            "colorscale": [
             [
              0,
              "#0d0887"
             ],
             [
              0.1111111111111111,
              "#46039f"
             ],
             [
              0.2222222222222222,
              "#7201a8"
             ],
             [
              0.3333333333333333,
              "#9c179e"
             ],
             [
              0.4444444444444444,
              "#bd3786"
             ],
             [
              0.5555555555555556,
              "#d8576b"
             ],
             [
              0.6666666666666666,
              "#ed7953"
             ],
             [
              0.7777777777777778,
              "#fb9f3a"
             ],
             [
              0.8888888888888888,
              "#fdca26"
             ],
             [
              1,
              "#f0f921"
             ]
            ],
            "type": "heatmap"
           }
          ],
          "heatmapgl": [
           {
            "colorbar": {
             "outlinewidth": 0,
             "ticks": ""
            },
            "colorscale": [
             [
              0,
              "#0d0887"
             ],
             [
              0.1111111111111111,
              "#46039f"
             ],
             [
              0.2222222222222222,
              "#7201a8"
             ],
             [
              0.3333333333333333,
              "#9c179e"
             ],
             [
              0.4444444444444444,
              "#bd3786"
             ],
             [
              0.5555555555555556,
              "#d8576b"
             ],
             [
              0.6666666666666666,
              "#ed7953"
             ],
             [
              0.7777777777777778,
              "#fb9f3a"
             ],
             [
              0.8888888888888888,
              "#fdca26"
             ],
             [
              1,
              "#f0f921"
             ]
            ],
            "type": "heatmapgl"
           }
          ],
          "histogram": [
           {
            "marker": {
             "pattern": {
              "fillmode": "overlay",
              "size": 10,
              "solidity": 0.2
             }
            },
            "type": "histogram"
           }
          ],
          "histogram2d": [
           {
            "colorbar": {
             "outlinewidth": 0,
             "ticks": ""
            },
            "colorscale": [
             [
              0,
              "#0d0887"
             ],
             [
              0.1111111111111111,
              "#46039f"
             ],
             [
              0.2222222222222222,
              "#7201a8"
             ],
             [
              0.3333333333333333,
              "#9c179e"
             ],
             [
              0.4444444444444444,
              "#bd3786"
             ],
             [
              0.5555555555555556,
              "#d8576b"
             ],
             [
              0.6666666666666666,
              "#ed7953"
             ],
             [
              0.7777777777777778,
              "#fb9f3a"
             ],
             [
              0.8888888888888888,
              "#fdca26"
             ],
             [
              1,
              "#f0f921"
             ]
            ],
            "type": "histogram2d"
           }
          ],
          "histogram2dcontour": [
           {
            "colorbar": {
             "outlinewidth": 0,
             "ticks": ""
            },
            "colorscale": [
             [
              0,
              "#0d0887"
             ],
             [
              0.1111111111111111,
              "#46039f"
             ],
             [
              0.2222222222222222,
              "#7201a8"
             ],
             [
              0.3333333333333333,
              "#9c179e"
             ],
             [
              0.4444444444444444,
              "#bd3786"
             ],
             [
              0.5555555555555556,
              "#d8576b"
             ],
             [
              0.6666666666666666,
              "#ed7953"
             ],
             [
              0.7777777777777778,
              "#fb9f3a"
             ],
             [
              0.8888888888888888,
              "#fdca26"
             ],
             [
              1,
              "#f0f921"
             ]
            ],
            "type": "histogram2dcontour"
           }
          ],
          "mesh3d": [
           {
            "colorbar": {
             "outlinewidth": 0,
             "ticks": ""
            },
            "type": "mesh3d"
           }
          ],
          "parcoords": [
           {
            "line": {
             "colorbar": {
              "outlinewidth": 0,
              "ticks": ""
             }
            },
            "type": "parcoords"
           }
          ],
          "pie": [
           {
            "automargin": true,
            "type": "pie"
           }
          ],
          "scatter": [
           {
            "fillpattern": {
             "fillmode": "overlay",
             "size": 10,
             "solidity": 0.2
            },
            "type": "scatter"
           }
          ],
          "scatter3d": [
           {
            "line": {
             "colorbar": {
              "outlinewidth": 0,
              "ticks": ""
             }
            },
            "marker": {
             "colorbar": {
              "outlinewidth": 0,
              "ticks": ""
             }
            },
            "type": "scatter3d"
           }
          ],
          "scattercarpet": [
           {
            "marker": {
             "colorbar": {
              "outlinewidth": 0,
              "ticks": ""
             }
            },
            "type": "scattercarpet"
           }
          ],
          "scattergeo": [
           {
            "marker": {
             "colorbar": {
              "outlinewidth": 0,
              "ticks": ""
             }
            },
            "type": "scattergeo"
           }
          ],
          "scattergl": [
           {
            "marker": {
             "colorbar": {
              "outlinewidth": 0,
              "ticks": ""
             }
            },
            "type": "scattergl"
           }
          ],
          "scattermapbox": [
           {
            "marker": {
             "colorbar": {
              "outlinewidth": 0,
              "ticks": ""
             }
            },
            "type": "scattermapbox"
           }
          ],
          "scatterpolar": [
           {
            "marker": {
             "colorbar": {
              "outlinewidth": 0,
              "ticks": ""
             }
            },
            "type": "scatterpolar"
           }
          ],
          "scatterpolargl": [
           {
            "marker": {
             "colorbar": {
              "outlinewidth": 0,
              "ticks": ""
             }
            },
            "type": "scatterpolargl"
           }
          ],
          "scatterternary": [
           {
            "marker": {
             "colorbar": {
              "outlinewidth": 0,
              "ticks": ""
             }
            },
            "type": "scatterternary"
           }
          ],
          "surface": [
           {
            "colorbar": {
             "outlinewidth": 0,
             "ticks": ""
            },
            "colorscale": [
             [
              0,
              "#0d0887"
             ],
             [
              0.1111111111111111,
              "#46039f"
             ],
             [
              0.2222222222222222,
              "#7201a8"
             ],
             [
              0.3333333333333333,
              "#9c179e"
             ],
             [
              0.4444444444444444,
              "#bd3786"
             ],
             [
              0.5555555555555556,
              "#d8576b"
             ],
             [
              0.6666666666666666,
              "#ed7953"
             ],
             [
              0.7777777777777778,
              "#fb9f3a"
             ],
             [
              0.8888888888888888,
              "#fdca26"
             ],
             [
              1,
              "#f0f921"
             ]
            ],
            "type": "surface"
           }
          ],
          "table": [
           {
            "cells": {
             "fill": {
              "color": "#EBF0F8"
             },
             "line": {
              "color": "white"
             }
            },
            "header": {
             "fill": {
              "color": "#C8D4E3"
             },
             "line": {
              "color": "white"
             }
            },
            "type": "table"
           }
          ]
         },
         "layout": {
          "annotationdefaults": {
           "arrowcolor": "#2a3f5f",
           "arrowhead": 0,
           "arrowwidth": 1
          },
          "autotypenumbers": "strict",
          "coloraxis": {
           "colorbar": {
            "outlinewidth": 0,
            "ticks": ""
           }
          },
          "colorscale": {
           "diverging": [
            [
             0,
             "#8e0152"
            ],
            [
             0.1,
             "#c51b7d"
            ],
            [
             0.2,
             "#de77ae"
            ],
            [
             0.3,
             "#f1b6da"
            ],
            [
             0.4,
             "#fde0ef"
            ],
            [
             0.5,
             "#f7f7f7"
            ],
            [
             0.6,
             "#e6f5d0"
            ],
            [
             0.7,
             "#b8e186"
            ],
            [
             0.8,
             "#7fbc41"
            ],
            [
             0.9,
             "#4d9221"
            ],
            [
             1,
             "#276419"
            ]
           ],
           "sequential": [
            [
             0,
             "#0d0887"
            ],
            [
             0.1111111111111111,
             "#46039f"
            ],
            [
             0.2222222222222222,
             "#7201a8"
            ],
            [
             0.3333333333333333,
             "#9c179e"
            ],
            [
             0.4444444444444444,
             "#bd3786"
            ],
            [
             0.5555555555555556,
             "#d8576b"
            ],
            [
             0.6666666666666666,
             "#ed7953"
            ],
            [
             0.7777777777777778,
             "#fb9f3a"
            ],
            [
             0.8888888888888888,
             "#fdca26"
            ],
            [
             1,
             "#f0f921"
            ]
           ],
           "sequentialminus": [
            [
             0,
             "#0d0887"
            ],
            [
             0.1111111111111111,
             "#46039f"
            ],
            [
             0.2222222222222222,
             "#7201a8"
            ],
            [
             0.3333333333333333,
             "#9c179e"
            ],
            [
             0.4444444444444444,
             "#bd3786"
            ],
            [
             0.5555555555555556,
             "#d8576b"
            ],
            [
             0.6666666666666666,
             "#ed7953"
            ],
            [
             0.7777777777777778,
             "#fb9f3a"
            ],
            [
             0.8888888888888888,
             "#fdca26"
            ],
            [
             1,
             "#f0f921"
            ]
           ]
          },
          "colorway": [
           "#636efa",
           "#EF553B",
           "#00cc96",
           "#ab63fa",
           "#FFA15A",
           "#19d3f3",
           "#FF6692",
           "#B6E880",
           "#FF97FF",
           "#FECB52"
          ],
          "font": {
           "color": "#2a3f5f"
          },
          "geo": {
           "bgcolor": "white",
           "lakecolor": "white",
           "landcolor": "#E5ECF6",
           "showlakes": true,
           "showland": true,
           "subunitcolor": "white"
          },
          "hoverlabel": {
           "align": "left"
          },
          "hovermode": "closest",
          "mapbox": {
           "style": "light"
          },
          "paper_bgcolor": "white",
          "plot_bgcolor": "#E5ECF6",
          "polar": {
           "angularaxis": {
            "gridcolor": "white",
            "linecolor": "white",
            "ticks": ""
           },
           "bgcolor": "#E5ECF6",
           "radialaxis": {
            "gridcolor": "white",
            "linecolor": "white",
            "ticks": ""
           }
          },
          "scene": {
           "xaxis": {
            "backgroundcolor": "#E5ECF6",
            "gridcolor": "white",
            "gridwidth": 2,
            "linecolor": "white",
            "showbackground": true,
            "ticks": "",
            "zerolinecolor": "white"
           },
           "yaxis": {
            "backgroundcolor": "#E5ECF6",
            "gridcolor": "white",
            "gridwidth": 2,
            "linecolor": "white",
            "showbackground": true,
            "ticks": "",
            "zerolinecolor": "white"
           },
           "zaxis": {
            "backgroundcolor": "#E5ECF6",
            "gridcolor": "white",
            "gridwidth": 2,
            "linecolor": "white",
            "showbackground": true,
            "ticks": "",
            "zerolinecolor": "white"
           }
          },
          "shapedefaults": {
           "line": {
            "color": "#2a3f5f"
           }
          },
          "ternary": {
           "aaxis": {
            "gridcolor": "white",
            "linecolor": "white",
            "ticks": ""
           },
           "baxis": {
            "gridcolor": "white",
            "linecolor": "white",
            "ticks": ""
           },
           "bgcolor": "#E5ECF6",
           "caxis": {
            "gridcolor": "white",
            "linecolor": "white",
            "ticks": ""
           }
          },
          "title": {
           "x": 0.05
          },
          "xaxis": {
           "automargin": true,
           "gridcolor": "white",
           "linecolor": "white",
           "ticks": "",
           "title": {
            "standoff": 15
           },
           "zerolinecolor": "white",
           "zerolinewidth": 2
          },
          "yaxis": {
           "automargin": true,
           "gridcolor": "white",
           "linecolor": "white",
           "ticks": "",
           "title": {
            "standoff": 15
           },
           "zerolinecolor": "white",
           "zerolinewidth": 2
          }
         }
        },
        "title": {
         "font": {
          "color": "dimgrey",
          "size": 30
         },
         "text": "Effect of Human Power Output on model Velocity Kgs"
        },
        "xaxis": {
         "anchor": "y",
         "domain": [
          0,
          1
         ],
         "gridcolor": "#e6e6e6",
         "gridwidth": 1,
         "showgrid": true,
         "title": {
          "text": "Human Power Output  <i>[Watts]</i>"
         }
        },
        "yaxis": {
         "anchor": "x",
         "domain": [
          0,
          1
         ],
         "gridcolor": "#e6e6e6",
         "gridwidth": 1,
         "range": [
          82.07515562358445,
          802.5126327639368
         ],
         "showgrid": true,
         "title": {
          "text": "Water Ration Kms"
         }
        }
       }
      }
     },
     "metadata": {},
     "output_type": "display_data"
    },
    {
     "data": {
      "application/vnd.plotly.v1+json": {
       "config": {
        "plotlyServerURL": "https://plot.ly"
       },
       "data": [
        {
         "customdata": [
          [
           111.85802107062253,
           4.9598155981146475,
           3.2059411571432506,
           6.7136900390860434
          ],
          [
           180.95013289447252,
           4.901779334559786,
           3.089868630033527,
           6.7136900390860434
          ],
          [
           189.98878616570474,
           4.861891903970081,
           3.0100937688541167,
           6.7136900390860434
          ],
          [
           189.98878616570474,
           4.839556386779581,
           2.9654227344731168,
           6.7136900390860434
          ],
          [
           189.98878616570474,
           4.825362884821845,
           2.937035730557645,
           6.7136900390860434
          ],
          [
           189.98878616570474,
           4.815548668513022,
           2.9174072979399996,
           6.7136900390860434
          ],
          [
           189.98878616570474,
           4.808083908291794,
           2.9024777774975417,
           6.7136900390860434
          ]
         ],
         "hovertemplate": "DataType=Sensitivity<br>Variable=%{x}<br>Water Ration Kms=%{y}<br>MarkerSize=%{marker.size}<br>Velocity Kgs=%{customdata[0]}<br>Mean Trip Velocity=%{customdata[1]}<br>Mean Loaded Velocity=%{customdata[2]}<br>Mean Unloaded Velocity=%{customdata[3]}<extra></extra>",
         "legendgroup": "Sensitivity",
         "marker": {
          "color": "#3D87CB",
          "size": [
           10,
           10,
           10,
           10,
           10,
           10,
           10
          ],
          "sizemode": "area",
          "sizeref": 0.125,
          "symbol": "circle"
         },
         "mode": "markers",
         "name": "Sensitivity",
         "orientation": "v",
         "showlegend": true,
         "type": "scatter",
         "x": [
          85,
          100,
          115,
          130,
          145,
          160,
          175
         ],
         "xaxis": "x",
         "y": [
          214.76740045559526,
          347.4242551573872,
          364.7784694381531,
          364.7784694381531,
          364.7784694381531,
          364.7784694381531,
          364.7784694381531
         ],
         "yaxis": "y"
        },
        {
         "customdata": [
          [
           189.98878616570474,
           4.839556386779581,
           2.9654227344731168,
           6.7136900390860434
          ]
         ],
         "hovertemplate": "DataType=Default<br>Variable=%{x}<br>Water Ration Kms=%{y}<br>MarkerSize=%{marker.size}<br>Velocity Kgs=%{customdata[0]}<br>Mean Trip Velocity=%{customdata[1]}<br>Mean Loaded Velocity=%{customdata[2]}<br>Mean Unloaded Velocity=%{customdata[3]}<extra></extra>",
         "legendgroup": "Default",
         "marker": {
          "color": "#F0B323",
          "size": [
           50
          ],
          "sizemode": "area",
          "sizeref": 0.125,
          "symbol": "circle"
         },
         "mode": "markers",
         "name": "Default",
         "orientation": "v",
         "showlegend": true,
         "type": "scatter",
         "x": [
          130
         ],
         "xaxis": "x",
         "y": [
          364.7784694381531
         ],
         "yaxis": "y"
        },
        {
         "customdata": [
          [
           180.95013289447252,
           4.901779334559786,
           3.089868630033527,
           6.7136900390860434
          ]
         ],
         "hovertemplate": "DataType=Minimum Expected<br>Variable=%{x}<br>Water Ration Kms=%{y}<br>MarkerSize=%{marker.size}<br>Velocity Kgs=%{customdata[0]}<br>Mean Trip Velocity=%{customdata[1]}<br>Mean Loaded Velocity=%{customdata[2]}<br>Mean Unloaded Velocity=%{customdata[3]}<extra></extra>",
         "legendgroup": "Minimum Expected",
         "marker": {
          "color": "#DC582A",
          "size": [
           20
          ],
          "sizemode": "area",
          "sizeref": 0.125,
          "symbol": "circle"
         },
         "mode": "markers",
         "name": "Minimum Expected",
         "orientation": "v",
         "showlegend": true,
         "type": "scatter",
         "x": [
          100
         ],
         "xaxis": "x",
         "y": [
          347.4242551573872
         ],
         "yaxis": "y"
        },
        {
         "customdata": [
          [
           189.98878616570474,
           4.815548668513022,
           2.9174072979399996,
           6.7136900390860434
          ]
         ],
         "hovertemplate": "DataType=Maximum Expected<br>Variable=%{x}<br>Water Ration Kms=%{y}<br>MarkerSize=%{marker.size}<br>Velocity Kgs=%{customdata[0]}<br>Mean Trip Velocity=%{customdata[1]}<br>Mean Loaded Velocity=%{customdata[2]}<br>Mean Unloaded Velocity=%{customdata[3]}<extra></extra>",
         "legendgroup": "Maximum Expected",
         "marker": {
          "color": "#674230",
          "size": [
           20
          ],
          "sizemode": "area",
          "sizeref": 0.125,
          "symbol": "circle"
         },
         "mode": "markers",
         "name": "Maximum Expected",
         "orientation": "v",
         "showlegend": true,
         "type": "scatter",
         "x": [
          160
         ],
         "xaxis": "x",
         "y": [
          364.7784694381531
         ],
         "yaxis": "y"
        }
       ],
       "layout": {
        "font": {
         "color": "dimgrey",
         "family": "Droid Sans Mono",
         "size": 16
        },
        "legend": {
         "itemsizing": "constant",
         "title": {
          "text": "Legend"
         },
         "tracegroupgap": 0
        },
        "paper_bgcolor": "white",
        "plot_bgcolor": "white",
        "template": {
         "data": {
          "bar": [
           {
            "error_x": {
             "color": "#2a3f5f"
            },
            "error_y": {
             "color": "#2a3f5f"
            },
            "marker": {
             "line": {
              "color": "#E5ECF6",
              "width": 0.5
             },
             "pattern": {
              "fillmode": "overlay",
              "size": 10,
              "solidity": 0.2
             }
            },
            "type": "bar"
           }
          ],
          "barpolar": [
           {
            "marker": {
             "line": {
              "color": "#E5ECF6",
              "width": 0.5
             },
             "pattern": {
              "fillmode": "overlay",
              "size": 10,
              "solidity": 0.2
             }
            },
            "type": "barpolar"
           }
          ],
          "carpet": [
           {
            "aaxis": {
             "endlinecolor": "#2a3f5f",
             "gridcolor": "white",
             "linecolor": "white",
             "minorgridcolor": "white",
             "startlinecolor": "#2a3f5f"
            },
            "baxis": {
             "endlinecolor": "#2a3f5f",
             "gridcolor": "white",
             "linecolor": "white",
             "minorgridcolor": "white",
             "startlinecolor": "#2a3f5f"
            },
            "type": "carpet"
           }
          ],
          "choropleth": [
           {
            "colorbar": {
             "outlinewidth": 0,
             "ticks": ""
            },
            "type": "choropleth"
           }
          ],
          "contour": [
           {
            "colorbar": {
             "outlinewidth": 0,
             "ticks": ""
            },
            "colorscale": [
             [
              0,
              "#0d0887"
             ],
             [
              0.1111111111111111,
              "#46039f"
             ],
             [
              0.2222222222222222,
              "#7201a8"
             ],
             [
              0.3333333333333333,
              "#9c179e"
             ],
             [
              0.4444444444444444,
              "#bd3786"
             ],
             [
              0.5555555555555556,
              "#d8576b"
             ],
             [
              0.6666666666666666,
              "#ed7953"
             ],
             [
              0.7777777777777778,
              "#fb9f3a"
             ],
             [
              0.8888888888888888,
              "#fdca26"
             ],
             [
              1,
              "#f0f921"
             ]
            ],
            "type": "contour"
           }
          ],
          "contourcarpet": [
           {
            "colorbar": {
             "outlinewidth": 0,
             "ticks": ""
            },
            "type": "contourcarpet"
           }
          ],
          "heatmap": [
           {
            "colorbar": {
             "outlinewidth": 0,
             "ticks": ""
            },
            "colorscale": [
             [
              0,
              "#0d0887"
             ],
             [
              0.1111111111111111,
              "#46039f"
             ],
             [
              0.2222222222222222,
              "#7201a8"
             ],
             [
              0.3333333333333333,
              "#9c179e"
             ],
             [
              0.4444444444444444,
              "#bd3786"
             ],
             [
              0.5555555555555556,
              "#d8576b"
             ],
             [
              0.6666666666666666,
              "#ed7953"
             ],
             [
              0.7777777777777778,
              "#fb9f3a"
             ],
             [
              0.8888888888888888,
              "#fdca26"
             ],
             [
              1,
              "#f0f921"
             ]
            ],
            "type": "heatmap"
           }
          ],
          "heatmapgl": [
           {
            "colorbar": {
             "outlinewidth": 0,
             "ticks": ""
            },
            "colorscale": [
             [
              0,
              "#0d0887"
             ],
             [
              0.1111111111111111,
              "#46039f"
             ],
             [
              0.2222222222222222,
              "#7201a8"
             ],
             [
              0.3333333333333333,
              "#9c179e"
             ],
             [
              0.4444444444444444,
              "#bd3786"
             ],
             [
              0.5555555555555556,
              "#d8576b"
             ],
             [
              0.6666666666666666,
              "#ed7953"
             ],
             [
              0.7777777777777778,
              "#fb9f3a"
             ],
             [
              0.8888888888888888,
              "#fdca26"
             ],
             [
              1,
              "#f0f921"
             ]
            ],
            "type": "heatmapgl"
           }
          ],
          "histogram": [
           {
            "marker": {
             "pattern": {
              "fillmode": "overlay",
              "size": 10,
              "solidity": 0.2
             }
            },
            "type": "histogram"
           }
          ],
          "histogram2d": [
           {
            "colorbar": {
             "outlinewidth": 0,
             "ticks": ""
            },
            "colorscale": [
             [
              0,
              "#0d0887"
             ],
             [
              0.1111111111111111,
              "#46039f"
             ],
             [
              0.2222222222222222,
              "#7201a8"
             ],
             [
              0.3333333333333333,
              "#9c179e"
             ],
             [
              0.4444444444444444,
              "#bd3786"
             ],
             [
              0.5555555555555556,
              "#d8576b"
             ],
             [
              0.6666666666666666,
              "#ed7953"
             ],
             [
              0.7777777777777778,
              "#fb9f3a"
             ],
             [
              0.8888888888888888,
              "#fdca26"
             ],
             [
              1,
              "#f0f921"
             ]
            ],
            "type": "histogram2d"
           }
          ],
          "histogram2dcontour": [
           {
            "colorbar": {
             "outlinewidth": 0,
             "ticks": ""
            },
            "colorscale": [
             [
              0,
              "#0d0887"
             ],
             [
              0.1111111111111111,
              "#46039f"
             ],
             [
              0.2222222222222222,
              "#7201a8"
             ],
             [
              0.3333333333333333,
              "#9c179e"
             ],
             [
              0.4444444444444444,
              "#bd3786"
             ],
             [
              0.5555555555555556,
              "#d8576b"
             ],
             [
              0.6666666666666666,
              "#ed7953"
             ],
             [
              0.7777777777777778,
              "#fb9f3a"
             ],
             [
              0.8888888888888888,
              "#fdca26"
             ],
             [
              1,
              "#f0f921"
             ]
            ],
            "type": "histogram2dcontour"
           }
          ],
          "mesh3d": [
           {
            "colorbar": {
             "outlinewidth": 0,
             "ticks": ""
            },
            "type": "mesh3d"
           }
          ],
          "parcoords": [
           {
            "line": {
             "colorbar": {
              "outlinewidth": 0,
              "ticks": ""
             }
            },
            "type": "parcoords"
           }
          ],
          "pie": [
           {
            "automargin": true,
            "type": "pie"
           }
          ],
          "scatter": [
           {
            "fillpattern": {
             "fillmode": "overlay",
             "size": 10,
             "solidity": 0.2
            },
            "type": "scatter"
           }
          ],
          "scatter3d": [
           {
            "line": {
             "colorbar": {
              "outlinewidth": 0,
              "ticks": ""
             }
            },
            "marker": {
             "colorbar": {
              "outlinewidth": 0,
              "ticks": ""
             }
            },
            "type": "scatter3d"
           }
          ],
          "scattercarpet": [
           {
            "marker": {
             "colorbar": {
              "outlinewidth": 0,
              "ticks": ""
             }
            },
            "type": "scattercarpet"
           }
          ],
          "scattergeo": [
           {
            "marker": {
             "colorbar": {
              "outlinewidth": 0,
              "ticks": ""
             }
            },
            "type": "scattergeo"
           }
          ],
          "scattergl": [
           {
            "marker": {
             "colorbar": {
              "outlinewidth": 0,
              "ticks": ""
             }
            },
            "type": "scattergl"
           }
          ],
          "scattermapbox": [
           {
            "marker": {
             "colorbar": {
              "outlinewidth": 0,
              "ticks": ""
             }
            },
            "type": "scattermapbox"
           }
          ],
          "scatterpolar": [
           {
            "marker": {
             "colorbar": {
              "outlinewidth": 0,
              "ticks": ""
             }
            },
            "type": "scatterpolar"
           }
          ],
          "scatterpolargl": [
           {
            "marker": {
             "colorbar": {
              "outlinewidth": 0,
              "ticks": ""
             }
            },
            "type": "scatterpolargl"
           }
          ],
          "scatterternary": [
           {
            "marker": {
             "colorbar": {
              "outlinewidth": 0,
              "ticks": ""
             }
            },
            "type": "scatterternary"
           }
          ],
          "surface": [
           {
            "colorbar": {
             "outlinewidth": 0,
             "ticks": ""
            },
            "colorscale": [
             [
              0,
              "#0d0887"
             ],
             [
              0.1111111111111111,
              "#46039f"
             ],
             [
              0.2222222222222222,
              "#7201a8"
             ],
             [
              0.3333333333333333,
              "#9c179e"
             ],
             [
              0.4444444444444444,
              "#bd3786"
             ],
             [
              0.5555555555555556,
              "#d8576b"
             ],
             [
              0.6666666666666666,
              "#ed7953"
             ],
             [
              0.7777777777777778,
              "#fb9f3a"
             ],
             [
              0.8888888888888888,
              "#fdca26"
             ],
             [
              1,
              "#f0f921"
             ]
            ],
            "type": "surface"
           }
          ],
          "table": [
           {
            "cells": {
             "fill": {
              "color": "#EBF0F8"
             },
             "line": {
              "color": "white"
             }
            },
            "header": {
             "fill": {
              "color": "#C8D4E3"
             },
             "line": {
              "color": "white"
             }
            },
            "type": "table"
           }
          ]
         },
         "layout": {
          "annotationdefaults": {
           "arrowcolor": "#2a3f5f",
           "arrowhead": 0,
           "arrowwidth": 1
          },
          "autotypenumbers": "strict",
          "coloraxis": {
           "colorbar": {
            "outlinewidth": 0,
            "ticks": ""
           }
          },
          "colorscale": {
           "diverging": [
            [
             0,
             "#8e0152"
            ],
            [
             0.1,
             "#c51b7d"
            ],
            [
             0.2,
             "#de77ae"
            ],
            [
             0.3,
             "#f1b6da"
            ],
            [
             0.4,
             "#fde0ef"
            ],
            [
             0.5,
             "#f7f7f7"
            ],
            [
             0.6,
             "#e6f5d0"
            ],
            [
             0.7,
             "#b8e186"
            ],
            [
             0.8,
             "#7fbc41"
            ],
            [
             0.9,
             "#4d9221"
            ],
            [
             1,
             "#276419"
            ]
           ],
           "sequential": [
            [
             0,
             "#0d0887"
            ],
            [
             0.1111111111111111,
             "#46039f"
            ],
            [
             0.2222222222222222,
             "#7201a8"
            ],
            [
             0.3333333333333333,
             "#9c179e"
            ],
            [
             0.4444444444444444,
             "#bd3786"
            ],
            [
             0.5555555555555556,
             "#d8576b"
            ],
            [
             0.6666666666666666,
             "#ed7953"
            ],
            [
             0.7777777777777778,
             "#fb9f3a"
            ],
            [
             0.8888888888888888,
             "#fdca26"
            ],
            [
             1,
             "#f0f921"
            ]
           ],
           "sequentialminus": [
            [
             0,
             "#0d0887"
            ],
            [
             0.1111111111111111,
             "#46039f"
            ],
            [
             0.2222222222222222,
             "#7201a8"
            ],
            [
             0.3333333333333333,
             "#9c179e"
            ],
            [
             0.4444444444444444,
             "#bd3786"
            ],
            [
             0.5555555555555556,
             "#d8576b"
            ],
            [
             0.6666666666666666,
             "#ed7953"
            ],
            [
             0.7777777777777778,
             "#fb9f3a"
            ],
            [
             0.8888888888888888,
             "#fdca26"
            ],
            [
             1,
             "#f0f921"
            ]
           ]
          },
          "colorway": [
           "#636efa",
           "#EF553B",
           "#00cc96",
           "#ab63fa",
           "#FFA15A",
           "#19d3f3",
           "#FF6692",
           "#B6E880",
           "#FF97FF",
           "#FECB52"
          ],
          "font": {
           "color": "#2a3f5f"
          },
          "geo": {
           "bgcolor": "white",
           "lakecolor": "white",
           "landcolor": "#E5ECF6",
           "showlakes": true,
           "showland": true,
           "subunitcolor": "white"
          },
          "hoverlabel": {
           "align": "left"
          },
          "hovermode": "closest",
          "mapbox": {
           "style": "light"
          },
          "paper_bgcolor": "white",
          "plot_bgcolor": "#E5ECF6",
          "polar": {
           "angularaxis": {
            "gridcolor": "white",
            "linecolor": "white",
            "ticks": ""
           },
           "bgcolor": "#E5ECF6",
           "radialaxis": {
            "gridcolor": "white",
            "linecolor": "white",
            "ticks": ""
           }
          },
          "scene": {
           "xaxis": {
            "backgroundcolor": "#E5ECF6",
            "gridcolor": "white",
            "gridwidth": 2,
            "linecolor": "white",
            "showbackground": true,
            "ticks": "",
            "zerolinecolor": "white"
           },
           "yaxis": {
            "backgroundcolor": "#E5ECF6",
            "gridcolor": "white",
            "gridwidth": 2,
            "linecolor": "white",
            "showbackground": true,
            "ticks": "",
            "zerolinecolor": "white"
           },
           "zaxis": {
            "backgroundcolor": "#E5ECF6",
            "gridcolor": "white",
            "gridwidth": 2,
            "linecolor": "white",
            "showbackground": true,
            "ticks": "",
            "zerolinecolor": "white"
           }
          },
          "shapedefaults": {
           "line": {
            "color": "#2a3f5f"
           }
          },
          "ternary": {
           "aaxis": {
            "gridcolor": "white",
            "linecolor": "white",
            "ticks": ""
           },
           "baxis": {
            "gridcolor": "white",
            "linecolor": "white",
            "ticks": ""
           },
           "bgcolor": "#E5ECF6",
           "caxis": {
            "gridcolor": "white",
            "linecolor": "white",
            "ticks": ""
           }
          },
          "title": {
           "x": 0.05
          },
          "xaxis": {
           "automargin": true,
           "gridcolor": "white",
           "linecolor": "white",
           "ticks": "",
           "title": {
            "standoff": 15
           },
           "zerolinecolor": "white",
           "zerolinewidth": 2
          },
          "yaxis": {
           "automargin": true,
           "gridcolor": "white",
           "linecolor": "white",
           "ticks": "",
           "title": {
            "standoff": 15
           },
           "zerolinecolor": "white",
           "zerolinewidth": 2
          }
         }
        },
        "title": {
         "font": {
          "color": "dimgrey",
          "size": 30
         },
         "text": "Effect of Load Limit on model Velocity Kgs"
        },
        "xaxis": {
         "anchor": "y",
         "domain": [
          0,
          1
         ],
         "gridcolor": "#e6e6e6",
         "gridwidth": 1,
         "showgrid": true,
         "title": {
          "text": "Load Limit  <i>[Kg]</i>"
         }
        },
        "yaxis": {
         "anchor": "x",
         "domain": [
          0,
          1
         ],
         "gridcolor": "#e6e6e6",
         "gridwidth": 1,
         "range": [
          82.07515562358445,
          802.5126327639368
         ],
         "showgrid": true,
         "title": {
          "text": "Water Ration Kms"
         }
        }
       }
      }
     },
     "metadata": {},
     "output_type": "display_data"
    }
   ],
   "source": [
    "\n",
    "# for i in range(0, len(sens_df)):\n",
    "primary_graph_value = \"Water Ration Kms\"\n",
    "max_plot_y = df_large[primary_graph_value].max()*1.10\n",
    "min_plot_y = df_large[primary_graph_value].min()*0.90\n",
    "\n",
    "\n",
    "for i in range(0, len(sens_df)):\n",
    "\n",
    "    fig1 = px.scatter(\n",
    "        full_result_dict[sens_df.iloc[i][\"Short Name\"]],\n",
    "        x=\"Variable\",\n",
    "        y=primary_graph_value,\n",
    "        color='DataType',\n",
    "        color_discrete_sequence=graph_colours,\n",
    "        size='MarkerSize',\n",
    "        title=f'Effect of {sens_df.iloc[i][\"Short Name\"]} on model Velocity Kgs',\n",
    "        hover_data=[\n",
    "            \"Velocity Kgs\",\n",
    "            'Water Ration Kms',\n",
    "            'Mean Trip Velocity',\n",
    "            'Mean Loaded Velocity',\n",
    "            'Mean Unloaded Velocity',\n",
    "        ]\n",
    "\n",
    "\n",
    "    ).update_layout(\n",
    "        yaxis_title=primary_graph_value,\n",
    "        xaxis_title=(f'{sens_df.iloc[i][\"Short Name\"]}  <i>{sens_df.iloc[i][\"Units\"]}</i>'),\n",
    "    )\n",
    "    fig1.update_yaxes(range = [min_plot_y, max_plot_y])\n",
    "\n",
    "    fig1 = pt.format_plotly_graphs(fig1)\n",
    "\n",
    "    fig1.show()\n",
    "    plot_dict[var_string]= fig1\n",
    "    # filename_string = var_string + \".html\"\n",
    "    # plotly.offline.plot(fig1, filename=filename_string)"
   ]
  },
  {
   "cell_type": "code",
   "execution_count": 5,
   "metadata": {},
   "outputs": [
    {
     "data": {
      "text/plain": [
       "82.07515562358445"
      ]
     },
     "execution_count": 5,
     "metadata": {},
     "output_type": "execute_result"
    }
   ],
   "source": [
    "df_large[primary_graph_value].max()*1.10\n",
    "df_large[primary_graph_value].min()*0.90"
   ]
  },
  {
   "cell_type": "code",
   "execution_count": 6,
   "metadata": {},
   "outputs": [
    {
     "name": "stderr",
     "output_type": "stream",
     "text": [
      "/tmp/ipykernel_61233/1977248313.py:5: SettingWithCopyWarning:\n",
      "\n",
      "\n",
      "A value is trying to be set on a copy of a slice from a DataFrame.\n",
      "Try using .loc[row_indexer,col_indexer] = value instead\n",
      "\n",
      "See the caveats in the documentation: https://pandas.pydata.org/pandas-docs/stable/user_guide/indexing.html#returning-a-view-versus-a-copy\n",
      "\n"
     ]
    },
    {
     "data": {
      "application/vnd.plotly.v1+json": {
       "config": {
        "plotlyServerURL": "https://plot.ly"
       },
       "data": [
        {
         "alignmentgroup": "True",
         "hovertemplate": "DataType=Minimum Expected<br>Adjusted Water Ration Kms [15L.km]=%{x}<br>=%{y}<extra></extra>",
         "legendgroup": "Minimum Expected",
         "marker": {
          "color": "#42BFDD",
          "pattern": {
           "shape": ""
          }
         },
         "name": "Minimum Expected",
         "offsetgroup": "Minimum Expected",
         "orientation": "h",
         "showlegend": true,
         "textposition": "auto",
         "type": "bar",
         "x": [
          182.38923471907657,
          -68.39596301965372,
          4.932321585739885,
          -33.285044071708,
          12.683666245758559,
          3.626089176569792,
          -17.35421428076586,
          -12.326678452779959,
          10.61102079588494,
          0.8058368441362518,
          2.0990954421484957
         ],
         "xaxis": "x",
         "y": [
          "Water Ration",
          "Time Gathering Water",
          "Coefficient of Rolling Resistance",
          "Human Power Output",
          "Reference Area",
          "Human Weight",
          "Load Limit",
          "Efficiency",
          "Air Density",
          "Drag Coefficient",
          "HPV Weight"
         ],
         "yaxis": "y"
        },
        {
         "alignmentgroup": "True",
         "hovertemplate": "DataType=Maximum Expected<br>Adjusted Water Ration Kms [15L.km]=%{x}<br>=%{y}<extra></extra>",
         "legendgroup": "Maximum Expected",
         "marker": {
          "color": "#084B83",
          "pattern": {
           "shape": ""
          }
         },
         "name": "Maximum Expected",
         "offsetgroup": "Maximum Expected",
         "orientation": "h",
         "showlegend": true,
         "textposition": "auto",
         "type": "bar",
         "x": [
          -182.38923471907654,
          68.39596301965369,
          -110.89328757153544,
          28.52796597777359,
          -14.50759122085509,
          -15.988146066977663,
          0,
          4.920251793717853,
          -2.112549393439622,
          -7.029699405155327,
          -1.5145220617169457
         ],
         "xaxis": "x",
         "y": [
          "Water Ration",
          "Time Gathering Water",
          "Coefficient of Rolling Resistance",
          "Human Power Output",
          "Reference Area",
          "Human Weight",
          "Load Limit",
          "Efficiency",
          "Air Density",
          "Drag Coefficient",
          "HPV Weight"
         ],
         "yaxis": "y"
        }
       ],
       "layout": {
        "barmode": "relative",
        "font": {
         "size": 16
        },
        "height": 500,
        "legend": {
         "title": {
          "text": "DataType"
         },
         "tracegroupgap": 0
        },
        "margin": {
         "t": 60
        },
        "template": {
         "data": {
          "bar": [
           {
            "error_x": {
             "color": "#2a3f5f"
            },
            "error_y": {
             "color": "#2a3f5f"
            },
            "marker": {
             "line": {
              "color": "#E5ECF6",
              "width": 0.5
             },
             "pattern": {
              "fillmode": "overlay",
              "size": 10,
              "solidity": 0.2
             }
            },
            "type": "bar"
           }
          ],
          "barpolar": [
           {
            "marker": {
             "line": {
              "color": "#E5ECF6",
              "width": 0.5
             },
             "pattern": {
              "fillmode": "overlay",
              "size": 10,
              "solidity": 0.2
             }
            },
            "type": "barpolar"
           }
          ],
          "carpet": [
           {
            "aaxis": {
             "endlinecolor": "#2a3f5f",
             "gridcolor": "white",
             "linecolor": "white",
             "minorgridcolor": "white",
             "startlinecolor": "#2a3f5f"
            },
            "baxis": {
             "endlinecolor": "#2a3f5f",
             "gridcolor": "white",
             "linecolor": "white",
             "minorgridcolor": "white",
             "startlinecolor": "#2a3f5f"
            },
            "type": "carpet"
           }
          ],
          "choropleth": [
           {
            "colorbar": {
             "outlinewidth": 0,
             "ticks": ""
            },
            "type": "choropleth"
           }
          ],
          "contour": [
           {
            "colorbar": {
             "outlinewidth": 0,
             "ticks": ""
            },
            "colorscale": [
             [
              0,
              "#0d0887"
             ],
             [
              0.1111111111111111,
              "#46039f"
             ],
             [
              0.2222222222222222,
              "#7201a8"
             ],
             [
              0.3333333333333333,
              "#9c179e"
             ],
             [
              0.4444444444444444,
              "#bd3786"
             ],
             [
              0.5555555555555556,
              "#d8576b"
             ],
             [
              0.6666666666666666,
              "#ed7953"
             ],
             [
              0.7777777777777778,
              "#fb9f3a"
             ],
             [
              0.8888888888888888,
              "#fdca26"
             ],
             [
              1,
              "#f0f921"
             ]
            ],
            "type": "contour"
           }
          ],
          "contourcarpet": [
           {
            "colorbar": {
             "outlinewidth": 0,
             "ticks": ""
            },
            "type": "contourcarpet"
           }
          ],
          "heatmap": [
           {
            "colorbar": {
             "outlinewidth": 0,
             "ticks": ""
            },
            "colorscale": [
             [
              0,
              "#0d0887"
             ],
             [
              0.1111111111111111,
              "#46039f"
             ],
             [
              0.2222222222222222,
              "#7201a8"
             ],
             [
              0.3333333333333333,
              "#9c179e"
             ],
             [
              0.4444444444444444,
              "#bd3786"
             ],
             [
              0.5555555555555556,
              "#d8576b"
             ],
             [
              0.6666666666666666,
              "#ed7953"
             ],
             [
              0.7777777777777778,
              "#fb9f3a"
             ],
             [
              0.8888888888888888,
              "#fdca26"
             ],
             [
              1,
              "#f0f921"
             ]
            ],
            "type": "heatmap"
           }
          ],
          "heatmapgl": [
           {
            "colorbar": {
             "outlinewidth": 0,
             "ticks": ""
            },
            "colorscale": [
             [
              0,
              "#0d0887"
             ],
             [
              0.1111111111111111,
              "#46039f"
             ],
             [
              0.2222222222222222,
              "#7201a8"
             ],
             [
              0.3333333333333333,
              "#9c179e"
             ],
             [
              0.4444444444444444,
              "#bd3786"
             ],
             [
              0.5555555555555556,
              "#d8576b"
             ],
             [
              0.6666666666666666,
              "#ed7953"
             ],
             [
              0.7777777777777778,
              "#fb9f3a"
             ],
             [
              0.8888888888888888,
              "#fdca26"
             ],
             [
              1,
              "#f0f921"
             ]
            ],
            "type": "heatmapgl"
           }
          ],
          "histogram": [
           {
            "marker": {
             "pattern": {
              "fillmode": "overlay",
              "size": 10,
              "solidity": 0.2
             }
            },
            "type": "histogram"
           }
          ],
          "histogram2d": [
           {
            "colorbar": {
             "outlinewidth": 0,
             "ticks": ""
            },
            "colorscale": [
             [
              0,
              "#0d0887"
             ],
             [
              0.1111111111111111,
              "#46039f"
             ],
             [
              0.2222222222222222,
              "#7201a8"
             ],
             [
              0.3333333333333333,
              "#9c179e"
             ],
             [
              0.4444444444444444,
              "#bd3786"
             ],
             [
              0.5555555555555556,
              "#d8576b"
             ],
             [
              0.6666666666666666,
              "#ed7953"
             ],
             [
              0.7777777777777778,
              "#fb9f3a"
             ],
             [
              0.8888888888888888,
              "#fdca26"
             ],
             [
              1,
              "#f0f921"
             ]
            ],
            "type": "histogram2d"
           }
          ],
          "histogram2dcontour": [
           {
            "colorbar": {
             "outlinewidth": 0,
             "ticks": ""
            },
            "colorscale": [
             [
              0,
              "#0d0887"
             ],
             [
              0.1111111111111111,
              "#46039f"
             ],
             [
              0.2222222222222222,
              "#7201a8"
             ],
             [
              0.3333333333333333,
              "#9c179e"
             ],
             [
              0.4444444444444444,
              "#bd3786"
             ],
             [
              0.5555555555555556,
              "#d8576b"
             ],
             [
              0.6666666666666666,
              "#ed7953"
             ],
             [
              0.7777777777777778,
              "#fb9f3a"
             ],
             [
              0.8888888888888888,
              "#fdca26"
             ],
             [
              1,
              "#f0f921"
             ]
            ],
            "type": "histogram2dcontour"
           }
          ],
          "mesh3d": [
           {
            "colorbar": {
             "outlinewidth": 0,
             "ticks": ""
            },
            "type": "mesh3d"
           }
          ],
          "parcoords": [
           {
            "line": {
             "colorbar": {
              "outlinewidth": 0,
              "ticks": ""
             }
            },
            "type": "parcoords"
           }
          ],
          "pie": [
           {
            "automargin": true,
            "type": "pie"
           }
          ],
          "scatter": [
           {
            "fillpattern": {
             "fillmode": "overlay",
             "size": 10,
             "solidity": 0.2
            },
            "type": "scatter"
           }
          ],
          "scatter3d": [
           {
            "line": {
             "colorbar": {
              "outlinewidth": 0,
              "ticks": ""
             }
            },
            "marker": {
             "colorbar": {
              "outlinewidth": 0,
              "ticks": ""
             }
            },
            "type": "scatter3d"
           }
          ],
          "scattercarpet": [
           {
            "marker": {
             "colorbar": {
              "outlinewidth": 0,
              "ticks": ""
             }
            },
            "type": "scattercarpet"
           }
          ],
          "scattergeo": [
           {
            "marker": {
             "colorbar": {
              "outlinewidth": 0,
              "ticks": ""
             }
            },
            "type": "scattergeo"
           }
          ],
          "scattergl": [
           {
            "marker": {
             "colorbar": {
              "outlinewidth": 0,
              "ticks": ""
             }
            },
            "type": "scattergl"
           }
          ],
          "scattermapbox": [
           {
            "marker": {
             "colorbar": {
              "outlinewidth": 0,
              "ticks": ""
             }
            },
            "type": "scattermapbox"
           }
          ],
          "scatterpolar": [
           {
            "marker": {
             "colorbar": {
              "outlinewidth": 0,
              "ticks": ""
             }
            },
            "type": "scatterpolar"
           }
          ],
          "scatterpolargl": [
           {
            "marker": {
             "colorbar": {
              "outlinewidth": 0,
              "ticks": ""
             }
            },
            "type": "scatterpolargl"
           }
          ],
          "scatterternary": [
           {
            "marker": {
             "colorbar": {
              "outlinewidth": 0,
              "ticks": ""
             }
            },
            "type": "scatterternary"
           }
          ],
          "surface": [
           {
            "colorbar": {
             "outlinewidth": 0,
             "ticks": ""
            },
            "colorscale": [
             [
              0,
              "#0d0887"
             ],
             [
              0.1111111111111111,
              "#46039f"
             ],
             [
              0.2222222222222222,
              "#7201a8"
             ],
             [
              0.3333333333333333,
              "#9c179e"
             ],
             [
              0.4444444444444444,
              "#bd3786"
             ],
             [
              0.5555555555555556,
              "#d8576b"
             ],
             [
              0.6666666666666666,
              "#ed7953"
             ],
             [
              0.7777777777777778,
              "#fb9f3a"
             ],
             [
              0.8888888888888888,
              "#fdca26"
             ],
             [
              1,
              "#f0f921"
             ]
            ],
            "type": "surface"
           }
          ],
          "table": [
           {
            "cells": {
             "fill": {
              "color": "#EBF0F8"
             },
             "line": {
              "color": "white"
             }
            },
            "header": {
             "fill": {
              "color": "#C8D4E3"
             },
             "line": {
              "color": "white"
             }
            },
            "type": "table"
           }
          ]
         },
         "layout": {
          "annotationdefaults": {
           "arrowcolor": "#2a3f5f",
           "arrowhead": 0,
           "arrowwidth": 1
          },
          "autotypenumbers": "strict",
          "coloraxis": {
           "colorbar": {
            "outlinewidth": 0,
            "ticks": ""
           }
          },
          "colorscale": {
           "diverging": [
            [
             0,
             "#8e0152"
            ],
            [
             0.1,
             "#c51b7d"
            ],
            [
             0.2,
             "#de77ae"
            ],
            [
             0.3,
             "#f1b6da"
            ],
            [
             0.4,
             "#fde0ef"
            ],
            [
             0.5,
             "#f7f7f7"
            ],
            [
             0.6,
             "#e6f5d0"
            ],
            [
             0.7,
             "#b8e186"
            ],
            [
             0.8,
             "#7fbc41"
            ],
            [
             0.9,
             "#4d9221"
            ],
            [
             1,
             "#276419"
            ]
           ],
           "sequential": [
            [
             0,
             "#0d0887"
            ],
            [
             0.1111111111111111,
             "#46039f"
            ],
            [
             0.2222222222222222,
             "#7201a8"
            ],
            [
             0.3333333333333333,
             "#9c179e"
            ],
            [
             0.4444444444444444,
             "#bd3786"
            ],
            [
             0.5555555555555556,
             "#d8576b"
            ],
            [
             0.6666666666666666,
             "#ed7953"
            ],
            [
             0.7777777777777778,
             "#fb9f3a"
            ],
            [
             0.8888888888888888,
             "#fdca26"
            ],
            [
             1,
             "#f0f921"
            ]
           ],
           "sequentialminus": [
            [
             0,
             "#0d0887"
            ],
            [
             0.1111111111111111,
             "#46039f"
            ],
            [
             0.2222222222222222,
             "#7201a8"
            ],
            [
             0.3333333333333333,
             "#9c179e"
            ],
            [
             0.4444444444444444,
             "#bd3786"
            ],
            [
             0.5555555555555556,
             "#d8576b"
            ],
            [
             0.6666666666666666,
             "#ed7953"
            ],
            [
             0.7777777777777778,
             "#fb9f3a"
            ],
            [
             0.8888888888888888,
             "#fdca26"
            ],
            [
             1,
             "#f0f921"
            ]
           ]
          },
          "colorway": [
           "#636efa",
           "#EF553B",
           "#00cc96",
           "#ab63fa",
           "#FFA15A",
           "#19d3f3",
           "#FF6692",
           "#B6E880",
           "#FF97FF",
           "#FECB52"
          ],
          "font": {
           "color": "#2a3f5f"
          },
          "geo": {
           "bgcolor": "white",
           "lakecolor": "white",
           "landcolor": "#E5ECF6",
           "showlakes": true,
           "showland": true,
           "subunitcolor": "white"
          },
          "hoverlabel": {
           "align": "left"
          },
          "hovermode": "closest",
          "mapbox": {
           "style": "light"
          },
          "paper_bgcolor": "white",
          "plot_bgcolor": "#E5ECF6",
          "polar": {
           "angularaxis": {
            "gridcolor": "white",
            "linecolor": "white",
            "ticks": ""
           },
           "bgcolor": "#E5ECF6",
           "radialaxis": {
            "gridcolor": "white",
            "linecolor": "white",
            "ticks": ""
           }
          },
          "scene": {
           "xaxis": {
            "backgroundcolor": "#E5ECF6",
            "gridcolor": "white",
            "gridwidth": 2,
            "linecolor": "white",
            "showbackground": true,
            "ticks": "",
            "zerolinecolor": "white"
           },
           "yaxis": {
            "backgroundcolor": "#E5ECF6",
            "gridcolor": "white",
            "gridwidth": 2,
            "linecolor": "white",
            "showbackground": true,
            "ticks": "",
            "zerolinecolor": "white"
           },
           "zaxis": {
            "backgroundcolor": "#E5ECF6",
            "gridcolor": "white",
            "gridwidth": 2,
            "linecolor": "white",
            "showbackground": true,
            "ticks": "",
            "zerolinecolor": "white"
           }
          },
          "shapedefaults": {
           "line": {
            "color": "#2a3f5f"
           }
          },
          "ternary": {
           "aaxis": {
            "gridcolor": "white",
            "linecolor": "white",
            "ticks": ""
           },
           "baxis": {
            "gridcolor": "white",
            "linecolor": "white",
            "ticks": ""
           },
           "bgcolor": "#E5ECF6",
           "caxis": {
            "gridcolor": "white",
            "linecolor": "white",
            "ticks": ""
           }
          },
          "title": {
           "x": 0.05
          },
          "xaxis": {
           "automargin": true,
           "gridcolor": "white",
           "linecolor": "white",
           "ticks": "",
           "title": {
            "standoff": 15
           },
           "zerolinecolor": "white",
           "zerolinewidth": 2
          },
          "yaxis": {
           "automargin": true,
           "gridcolor": "white",
           "linecolor": "white",
           "ticks": "",
           "title": {
            "standoff": 15
           },
           "zerolinecolor": "white",
           "zerolinewidth": 2
          }
         }
        },
        "width": 1000,
        "xaxis": {
         "anchor": "y",
         "domain": [
          0,
          1
         ],
         "title": {
          "text": "Adjusted Water Ration Kms [15L.km]"
         }
        },
        "yaxis": {
         "anchor": "x",
         "domain": [
          0,
          1
         ],
         "title": {
          "text": ""
         }
        }
       }
      }
     },
     "metadata": {},
     "output_type": "display_data"
    }
   ],
   "source": [
    "# summary_df = df_large[(df_large.DataType == \"Minimum Expected\") | (df_large.DataType == \"Maximum Expected\") | (df_large.DataType == \"Default\")]\n",
    "summary_df = df_large[(df_large.DataType == \"Minimum Expected\") | (df_large.DataType == \"Maximum Expected\")]\n",
    "\n",
    "# Rename 'T_hours''\n",
    "summary_df['Name'] = summary_df['Name'].replace('T_hours', 'Time Gathering Water')\n",
    "\n",
    "# Pivot DataFrame so that each 'DataType' value becomes a column\n",
    "pivot_df = summary_df.pivot(index='Name', columns='DataType', values='Adjusted Water Ration Kms')\n",
    "\n",
    "# Create a new column 'abs_diff' that contains the absolute differences\n",
    "pivot_df['abs_diff'] = np.abs(pivot_df['Maximum Expected'] - pivot_df['Minimum Expected'])\n",
    "\n",
    "# Reset index\n",
    "pivot_df.reset_index(inplace=True)\n",
    "\n",
    "# Sort DataFrame by 'abs_diff' in descending order\n",
    "pivot_df = pivot_df.sort_values('abs_diff', ascending=False)\n",
    "\n",
    "# Merge pivot_df with summary_df to get the original structure but sorted\n",
    "summary_df = pd.merge(pivot_df['Name'], summary_df, on='Name')\n",
    "\n",
    "# Define color mapping\n",
    "color_discrete_map = {'Minimum Expected': '#42BFDD', 'Maximum Expected': '#084B83', 'Default': None} \n",
    "\n",
    "# Filter out 'MET budget' rows as it is only applicable to walking\n",
    "summary_df = summary_df[summary_df.Name != 'MET budget']\n",
    "\n",
    "# Create plot\n",
    "fig = px.bar(summary_df, y=\"Name\", x=\"Adjusted Water Ration Kms\", color=\"DataType\", color_discrete_map=color_discrete_map,\n",
    "             labels={\n",
    "                \"Name\": \"\",\n",
    "                \"Adjusted Water Ration Kms\": \"Adjusted Water Ration Kms [15L.km]\",\n",
    "             },)\n",
    "\n",
    "fig.update_layout(\n",
    "            width=1000,\n",
    "            height=500,\n",
    "            font=dict(size=16),\n",
    "        )\n",
    "\n",
    "fig.show()\n",
    "\n",
    "# fig.write_image(\"../results/sensitivity_analysis.png\", width=1000, height=500)\n",
    "\n"
   ]
  },
  {
   "cell_type": "code",
   "execution_count": 7,
   "metadata": {},
   "outputs": [],
   "source": [
    "# import plotly.graph_objects as go\n",
    "\n",
    "# fig=make_subplots(\n",
    "#         specs=[[{\"secondary_y\": True}]])\n",
    "# print(fig.layout)    \n",
    "\n",
    "# fig.update_layout(xaxis2= {'anchor': 'y', 'overlaying': 'x', 'side': 'top'},\n",
    "#                   yaxis_domain=[0, 0.94]);\n",
    "\n",
    "# fig.add_trace(\n",
    "#     go.Bar(x=[1, 2, 3, 4],\n",
    "#            y=[7, 4, 5, 6],\n",
    "#            name=\"bar\",\n",
    "#           ), secondary_y=False)\n",
    "# fig.add_trace(\n",
    "#     go.Bar(x=[-2, -1, 0, 1],\n",
    "#                y=[4, 2, 5, 6],\n",
    "#                name=\"scatt1\",\n",
    "#             ), secondary_y=True)\n",
    "# fig.data[1].update(xaxis='x2')\n",
    "# fig.update_layout(width=700, height=475)"
   ]
  },
  {
   "cell_type": "code",
   "execution_count": 8,
   "metadata": {},
   "outputs": [],
   "source": [
    "summary_df[\"Name\"].to_csv(\"listvars.csv\")"
   ]
  },
  {
   "cell_type": "code",
   "execution_count": null,
   "metadata": {},
   "outputs": [],
   "source": []
  }
 ],
 "metadata": {
  "kernelspec": {
   "display_name": "Python 3.9.13 (conda)",
   "language": "python",
   "name": "python3"
  },
  "language_info": {
   "codemirror_mode": {
    "name": "ipython",
    "version": 3
   },
   "file_extension": ".py",
   "mimetype": "text/x-python",
   "name": "python",
   "nbconvert_exporter": "python",
   "pygments_lexer": "ipython3",
   "version": "3.9.18"
  },
  "orig_nbformat": 4,
  "vscode": {
   "interpreter": {
    "hash": "c09a8b249899dc4589e662892666698668e7a3ca1327801a18c24efb244ad2c6"
   }
  }
 },
 "nbformat": 4,
 "nbformat_minor": 2
}
