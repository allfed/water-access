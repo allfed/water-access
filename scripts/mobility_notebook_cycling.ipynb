{
 "cells": [
  {
   "cell_type": "markdown",
   "metadata": {},
   "source": [
    "Welcome to the mobility notebook. This notebook does an in-depth analysis of the mobility of HPVs for carrying water. It uses the mobility_module.py package, this is where all of the models are stored.\n",
    "\n"
   ]
  },
  {
   "cell_type": "code",
   "execution_count": 1,
   "metadata": {},
   "outputs": [],
   "source": [
    "# Importing necessary modules\n",
    "import sys  # Provides access to some variables used by the interpreter\n",
    "from pathlib import Path  # Used for filesystem path operations\n",
    "\n",
    "# Resolve the current path of the notebook. Path().resolve() returns the absolute path\n",
    "# of the current working directory (where this notebook is located).\n",
    "notebook_path = Path().resolve()\n",
    "\n",
    "# Determine the project root directory. Since 'notebook_path' points to the 'scripts'\n",
    "# directory, its parent will be the root directory of your project (which contains both 'scripts' and 'src').\n",
    "project_root = notebook_path.parent\n",
    "\n",
    "# Append the project root directory to sys.path. This step is crucial as it allows\n",
    "# Python to find and import modules from the 'src' directory, which is located at the project root.\n",
    "# It essentially adds the project root to the list of directories where Python looks for modules.\n",
    "sys.path.append(str(project_root))\n",
    "\n",
    "# Importing standard and third-party libraries necessary for your script.\n",
    "# These libraries are likely installed in your Conda environment or Python's site-packages.\n",
    "import pandas as pd  # Data manipulation and analysis library\n",
    "import plotly.express as px  # Simplified interface for Plotly\n",
    "\n",
    "# Importing custom modules from the 'src' directory.\n",
    "# Thanks to modifying sys.path, Python can now find these modules.\n",
    "import src.mobility_module as mm  # Custom module for mobility-related functionalities\n",
    "\n",
    "# import numoy\n",
    "import numpy as np\n",
    "\n"
   ]
  },
  {
   "cell_type": "code",
   "execution_count": 2,
   "metadata": {},
   "outputs": [],
   "source": [
    "######################\n",
    "#### Import Data #####\n",
    "file_path_params = \"../data/lookup tables/mobility-model-parameters.csv\"\n",
    "allHPV_param_df = pd.read_csv(file_path_params)\n",
    "\n",
    "mo = mm.model_options()"
   ]
  },
  {
   "cell_type": "markdown",
   "metadata": {},
   "source": [
    "Below, choose which model to use, 1 = Sprott, 2 = Cycling, 3 = walking "
   ]
  },
  {
   "cell_type": "code",
   "execution_count": 3,
   "metadata": {},
   "outputs": [],
   "source": [
    "# Setting model options based on user selection.\n",
    "# This cell is responsible for configuring the behavior of the mobility model.\n",
    "# The variable 'mo.model_selection' is set to a specific model type.\n",
    "# Each number corresponds to a different model:\n",
    "# 1 for the Sprott model, 2 for Cycling, and 3 for Walking.\n",
    "mo.model_selection = 2  # Example: Selecting the Cycling model.\n"
   ]
  },
  {
   "cell_type": "markdown",
   "metadata": {},
   "source": [
    "Apply data filtering based on the selected mobility model. This cell determines which subset of HPV data to use for analysis, ensuring the data aligns with the model requirements."
   ]
  },
  {
   "cell_type": "markdown",
   "metadata": {},
   "source": [
    "Comment: Filter and select HPV data based on specified criteria. This cell determines the subset of HPV data to include in the analysis, ensuring it aligns with the specific conditions set by the chosen mobility model."
   ]
  },
  {
   "cell_type": "code",
   "execution_count": 4,
   "metadata": {},
   "outputs": [],
   "source": [
    "# only keep the row where the name is Bicycle\n",
    "param_df = allHPV_param_df.loc[(allHPV_param_df[\"Name\"] == \"Bicycle\")]\n"
   ]
  },
  {
   "cell_type": "markdown",
   "metadata": {},
   "source": [
    " Initialize and configure variables and models. This cell sets up the core components of the mobility analysis, preparing for the execution of mobility models and result handling."
   ]
  },
  {
   "cell_type": "code",
   "execution_count": 5,
   "metadata": {},
   "outputs": [],
   "source": [
    "# Initializing and setting up various variables and models for analysis.\n",
    "# This cell creates instances of different classes defined in the mobility module.\n",
    "# Each class instance represents a different aspect of the mobility model.\n",
    "# 'mv' (model variables) captures general variables used across models.\n",
    "# 'met' (MET values) encapsulates Metabolic Equivalent of Task values, relevant for human energy expenditure.\n",
    "# 'hpv' (HPV variables) contains variables specific to Human-Powered Vehicles.\n",
    "# 'mr' (model results) is used for storing and handling results of the mobility model calculations.\n",
    "mv = mm.model_variables()\n",
    "met = mm.MET_values(mv)\n",
    "hpv = mm.HPV_variables(param_df, mv)\n"
   ]
  },
  {
   "cell_type": "markdown",
   "metadata": {},
   "source": [
    "Execute the selected mobility model and store results. This cell runs the chosen mobility model (Sprott or numerical) and captures the output in terms of vehicle velocity and load capacities."
   ]
  },
  {
   "cell_type": "code",
   "execution_count": 15,
   "metadata": {
    "tags": []
   },
   "outputs": [],
   "source": [
    "\n",
    "\n",
    "# run def single_bike_run(mv, mo, hpv, slope, load_attempted):\n",
    "# which returns         return loaded_velocity, unloaded_velocity, max_load_HPV\n",
    "\n",
    "\n",
    "# Setting up the model variables for a single run of the mobility model.\n",
    "\n",
    "slope = 10  # Slope of the road in degrees.\n",
    "load_attempted = 20  # Load attempted by the cyclist in kg.\n",
    "# Setting the slope and load attempted for the model run.\n",
    "\n",
    "# number of runs\n",
    "n_runs = 200\n",
    "# create a vector of slopes that is n_runs long with random values between 0 and 20\n",
    "slope_vec = np.random.uniform(0, 20, n_runs)\n",
    "\n",
    "# intilaise a vector to store the loaded velocity, unloaded velocity and max load\n",
    "loaded_velocity_vec = np.zeros(n_runs)\n",
    "unloaded_velocity_vec = np.zeros(n_runs)\n",
    "max_load_vec = np.zeros(n_runs)\n",
    "\n",
    "hpv.Crr = hpv.Crr.flatten()\n",
    "\n",
    "for i, slope in enumerate(slope_vec):\n",
    "    loaded_velocity_vec[i], unloaded_velocity_vec[i], max_load_vec[i] = mm.mobility_models.single_bike_run(mv, mo, hpv, slope, load_attempted)\n",
    "\n"
   ]
  },
  {
   "cell_type": "code",
   "execution_count": 13,
   "metadata": {},
   "outputs": [
    {
     "data": {
      "text/plain": [
       "1074851"
      ]
     },
     "execution_count": 13,
     "metadata": {},
     "output_type": "execute_result"
    }
   ],
   "source": [
    "i"
   ]
  },
  {
   "cell_type": "code",
   "execution_count": null,
   "metadata": {},
   "outputs": [],
   "source": []
  }
 ],
 "metadata": {
  "kernelspec": {
   "display_name": "Python 3.9.13 (conda)",
   "language": "python",
   "name": "python3"
  },
  "language_info": {
   "codemirror_mode": {
    "name": "ipython",
    "version": 3
   },
   "file_extension": ".py",
   "mimetype": "text/x-python",
   "name": "python",
   "nbconvert_exporter": "python",
   "pygments_lexer": "ipython3",
   "version": "3.9.18"
  },
  "orig_nbformat": 4,
  "vscode": {
   "interpreter": {
    "hash": "c09a8b249899dc4589e662892666698668e7a3ca1327801a18c24efb244ad2c6"
   }
  }
 },
 "nbformat": 4,
 "nbformat_minor": 2
}
