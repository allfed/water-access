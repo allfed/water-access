{
 "cells": [
  {
   "cell_type": "code",
   "execution_count": null,
   "metadata": {},
   "outputs": [],
   "source": [
    "import pandas as pd\n",
    "import numpy as np"
   ]
  },
  {
   "cell_type": "code",
   "execution_count": 26,
   "metadata": {},
   "outputs": [
    {
     "name": "stdout",
     "output_type": "stream",
     "text": [
      "    Code  Mean BMI (male)  Mean BMI (female)  Mean male height (cm)  \\\n",
      "0    AFG        22.682456          24.234135             165.255861   \n",
      "1    AGO        22.436538          24.376501             167.310727   \n",
      "2    ALB        27.174471          26.507512             173.388856   \n",
      "3    AND        27.478395          26.271661             176.060167   \n",
      "4    ARE        28.188004          29.638162             170.455430   \n",
      "..   ...              ...                ...                    ...   \n",
      "195  WSM        30.629908          34.339825             174.377060   \n",
      "196  YEM        23.726697          24.197709             159.886941   \n",
      "197  ZAF        25.105225          29.591921             166.678099   \n",
      "198  ZMB        21.448027          23.833982             166.517144   \n",
      "199  ZWE        22.301353          25.431487             168.586005   \n",
      "\n",
      "     Mean female height (cm)  women weight  men weight  \n",
      "0                 155.075323     58.279109   61.944652  \n",
      "1                 157.305210     60.319480   62.806331  \n",
      "2                 161.769856     69.368797   81.696502  \n",
      "3                 162.904877     69.719730   85.175282  \n",
      "4                 158.680587     74.627496   81.900398  \n",
      "..                       ...           ...         ...  \n",
      "195               161.965864     90.083460   93.137462  \n",
      "196               153.970377     57.365211   60.654533  \n",
      "197               158.026057     73.897641   69.746305  \n",
      "198               155.821359     57.869612   59.471002  \n",
      "199               158.215186     63.660214   63.383214  \n",
      "\n",
      "[200 rows x 7 columns]\n"
     ]
    }
   ],
   "source": [
    "df_bmi_women = pd.read_csv(\"mean-body-mass-index-bmi-in-adult-women.csv\")\n",
    "df_bmi_men = pd.read_csv(\"mean-body-mass-index-bmi-in-adult-males.csv\")\n",
    "df_height = pd.read_csv(\"mean-height-males-vs-females.csv\")\n",
    "\n",
    "# drop rows that don't contain data\n",
    "df_height = df_height.dropna(subset=['Mean male height (cm)'])\n",
    "\n",
    "# drop rows that don't have a 3 digit ISO code\n",
    "df_height = df_height[df_height['Code'].str.len() == 3]\n",
    "df_bmi_men = df_bmi_men[df_bmi_men['Code'].str.len() == 3]\n",
    "df_bmi_women = df_bmi_women[df_bmi_women['Code'].str.len() == 3]\n",
    "\n",
    "# sort by year, and only keep the most recent data point by country\n",
    "df_height = df_height.sort_values(by=['Year']).groupby('Entity').tail(1)\n",
    "df_bmi_men = df_bmi_men.sort_values(by=['Year']).groupby('Entity').tail(1)\n",
    "df_bmi_women = df_bmi_women.sort_values(by=['Year']).groupby('Entity').tail(1)\n",
    "\n",
    "# sort all dataframe by \"Code\"\n",
    "df_bmi_men.sort_values(by=['Code'], inplace=True)\n",
    "df_bmi_women.sort_values(by=['Code'], inplace=True)\n",
    "df_height.sort_values(by=['Code'], inplace=True)\n",
    "\n",
    "\n",
    "# only keep rows that contain: [\"Code\" , \"Mean BMI (female)\"] \n",
    "df_bmi_women = df_bmi_women[[\"Code\" , \"Mean BMI (female)\"]]\n",
    "df_bmi_men = df_bmi_men[[\"Code\" , \"Mean BMI (male)\"]]\n",
    "df_height = df_height[[\"Code\" , \"Mean male height (cm)\",\"Mean female height (cm)\"]]\n",
    "\n",
    "# merge dataframes\n",
    "df = pd.merge(df_bmi_men, df_bmi_women, on='Code', how='inner')\n",
    "df = pd.merge(df, df_height, on='Code', how='inner')\n",
    "\n",
    "# find weights\n",
    "df['women weight'] = df[\"Mean BMI (female)\"]* (df[\"Mean female height (cm)\"]/100)**2\n",
    "df['men weight'] = df[\"Mean BMI (male)\"]* (df[\"Mean male height (cm)\"]/100)**2\n",
    "\n",
    "print(df)\n"
   ]
  },
  {
   "cell_type": "code",
   "execution_count": null,
   "metadata": {},
   "outputs": [],
   "source": [
    "# output the merged dataframe to a csv\n",
    "df.to_csv(\"../data/weightsOWID.csv\", index=False)"
   ]
  }
 ],
 "metadata": {
  "kernelspec": {
   "display_name": "Python 3.9.13 (conda)",
   "language": "python",
   "name": "python3"
  },
  "language_info": {
   "codemirror_mode": {
    "name": "ipython",
    "version": 3
   },
   "file_extension": ".py",
   "mimetype": "text/x-python",
   "name": "python",
   "nbconvert_exporter": "python",
   "pygments_lexer": "ipython3",
   "version": "3.9.13"
  },
  "orig_nbformat": 4,
  "vscode": {
   "interpreter": {
    "hash": "c09a8b249899dc4589e662892666698668e7a3ca1327801a18c24efb244ad2c6"
   }
  }
 },
 "nbformat": 4,
 "nbformat_minor": 2
}
