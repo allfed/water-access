{
 "cells": [
  {
   "cell_type": "markdown",
   "metadata": {},
   "source": [
    "Welcome to the mobility notebook. This notebook does an in-depth analysis of the mobility of HPVs for carrying water. It uses the mobility_module.py package, this is where all of the models are stored.\n",
    "\n"
   ]
  },
  {
   "cell_type": "code",
   "execution_count": 17,
   "metadata": {},
   "outputs": [],
   "source": [
    "# Importing necessary modules\n",
    "import sys  # Provides access to some variables used by the interpreter\n",
    "from pathlib import Path  # Used for filesystem path operations\n",
    "\n",
    "# Resolve the current path of the notebook. Path().resolve() returns the absolute path\n",
    "# of the current working directory (where this notebook is located).\n",
    "notebook_path = Path().resolve()\n",
    "\n",
    "# Determine the project root directory. Since 'notebook_path' points to the 'scripts'\n",
    "# directory, its parent will be the root directory of your project (which contains both 'scripts' and 'src').\n",
    "project_root = notebook_path.parent\n",
    "\n",
    "# Append the project root directory to sys.path. This step is crucial as it allows\n",
    "# Python to find and import modules from the 'src' directory, which is located at the project root.\n",
    "# It essentially adds the project root to the list of directories where Python looks for modules.\n",
    "sys.path.append(str(project_root))\n",
    "\n",
    "# Importing standard and third-party libraries necessary for your script.\n",
    "# These libraries are likely installed in your Conda environment or Python's site-packages.\n",
    "import pandas as pd  # Data manipulation and analysis library\n",
    "import plotly.express as px  # Simplified interface for Plotly\n",
    "\n",
    "# Importing custom modules from the 'src' directory.\n",
    "# Thanks to modifying sys.path, Python can now find these modules.\n",
    "import src.mobility_module as mm  # Custom module for mobility-related functionalities\n",
    "\n"
   ]
  },
  {
   "cell_type": "code",
   "execution_count": 18,
   "metadata": {},
   "outputs": [],
   "source": [
    "######################\n",
    "#### Import Data #####\n",
    "file_path_params = \"../data/lookup tables/mobility-model-parameters.csv\"\n",
    "allHPV_param_df = pd.read_csv(file_path_params)\n",
    "\n",
    "mo = mm.model_options()"
   ]
  },
  {
   "cell_type": "markdown",
   "metadata": {},
   "source": [
    "Below, choose which model to use, 1 = Cycling, 2 = walking (lankford) "
   ]
  },
  {
   "cell_type": "code",
   "execution_count": 19,
   "metadata": {},
   "outputs": [],
   "source": [
    "# Setting model options based on user selection.\n",
    "# This cell is responsible for configuring the behavior of the mobility model.\n",
    "# The variable 'mo.model_selection' is set to a specific model type.\n",
    "# Each number corresponds to a different model:\n",
    "# 1 for  Cycling, and 2 for Lankford\n",
    "mo.model_selection = 2"
   ]
  },
  {
   "cell_type": "markdown",
   "metadata": {},
   "source": [
    "Apply data filtering based on the selected mobility model. This cell determines which subset of HPV data to use for analysis, ensuring the data aligns with the model requirements."
   ]
  },
  {
   "cell_type": "code",
   "execution_count": 20,
   "metadata": {},
   "outputs": [],
   "source": [
    "# Filtering HPV data based on the model selection.\n",
    "# This cell applies filters to the HPV data to include only relevant data for the selected model.\n",
    "# Different conditions are checked based on the model chosen in the previous cell.\n",
    "filter = 1\n",
    "# 1 for all HPVs\n",
    "# 2 for cycling\n",
    "# 3 for walking\n",
    "\n",
    "\n",
    "if filter == 1:\n",
    "    # Include all options.\n",
    "    filter_col = -1\n",
    "    filter_value = 1\n",
    "elif filter == 2:\n",
    "    # Cycling \n",
    "    filter_col = 5\n",
    "    filter_value = 1\n",
    "if filter > 2:\n",
    "    # Walking\n",
    "    filter_col = 6\n",
    "    filter_value = 0\n"
   ]
  },
  {
   "cell_type": "markdown",
   "metadata": {},
   "source": [
    "Comment: Filter and select HPV data based on specified criteria. This cell determines the subset of HPV data to include in the analysis, ensuring it aligns with the specific conditions set by the chosen mobility model."
   ]
  },
  {
   "cell_type": "code",
   "execution_count": 21,
   "metadata": {},
   "outputs": [],
   "source": [
    "# Selecting specific Human-Powered Vehicles (HPVs) for analysis.\n",
    "# Depending on the filter applied in the previous cell, this cell filters the HPV data.\n",
    "# The filtered data is stored in 'param_df'.\n",
    "# If 'filter_col' is greater than 0, a specific column from the data is used for filtering.\n",
    "# Else, all data in 'allHPV_param_df' is used.\n",
    "if filter_col > 0:\n",
    "    column_names = [\n",
    "        \"Name\",\n",
    "        \"LoadLimit\",\n",
    "        \"AverageSpeedWithoutLoad\",\n",
    "        \"Drive\",\n",
    "        \"GroundContact\",\n",
    "        \"Pilot\",\n",
    "        \"Crr\",\n",
    "        \"Efficiency\",\n",
    "        \"Weight\",\n",
    "    ]  # \n",
    "    col = column_names[filter_col]\n",
    "    param_df = allHPV_param_df.loc[(allHPV_param_df[col] == filter_value)]\n",
    "else:\n",
    "    param_df = allHPV_param_df  # Use all data if no filter is applied.\n",
    "\n"
   ]
  },
  {
   "cell_type": "markdown",
   "metadata": {},
   "source": [
    " Initialize and configure variables and models. This cell sets up the core components of the mobility analysis, preparing for the execution of mobility models and result handling."
   ]
  },
  {
   "cell_type": "code",
   "execution_count": 22,
   "metadata": {},
   "outputs": [],
   "source": [
    "# Initializing and setting up various variables and models for analysis.\n",
    "# This cell creates instances of different classes defined in the mobility module.\n",
    "# Each class instance represents a different aspect of the mobility model.\n",
    "# 'mv' (model variables) captures general variables used across models.\n",
    "# 'met' (MET values) encapsulates Metabolic Equivalent of Task values, relevant for human energy expenditure.\n",
    "# 'hpv' (HPV variables) contains variables specific to Human-Powered Vehicles.\n",
    "# 'mr' (model results) is used for storing and handling results of the mobility model calculations.\n",
    "mv = mm.model_variables()\n",
    "met = mm.MET_values(mv)\n",
    "hpv = mm.HPV_variables(param_df, mv)\n",
    "mr = mm.model_results(hpv, mo)\n"
   ]
  },
  {
   "cell_type": "code",
   "execution_count": 23,
   "metadata": {},
   "outputs": [],
   "source": [
    "# Customizing the scenario by modifying specific variables. Only used for creating custom scenarios.\n",
    "\n",
    "export_lookup_table = 0\n",
    "if export_lookup_table == 1:\n",
    "    # change crr for different scenarios\n",
    "    hpv.Crr[0][0][0] = 0.004"
   ]
  },
  {
   "cell_type": "markdown",
   "metadata": {},
   "source": [
    "Execute the selected mobility model and store results. This cell runs the chosen mobility model (Cycling or Lankford) and captures the output in terms of vehicle velocity and load capacities."
   ]
  },
  {
   "cell_type": "code",
   "execution_count": 24,
   "metadata": {
    "tags": []
   },
   "outputs": [],
   "source": [
    "# Executing the mobility model based on the previously set configurations.\n",
    "# The results of the model (velocity and load matrices) are stored in 'mr'.\n",
    "mr.v_load_matrix3d, mr.load_matrix3d = mm.mobility_models.numerical_mobility_model(mr, mv, mo, met, hpv)"
   ]
  },
  {
   "cell_type": "markdown",
   "metadata": {},
   "source": [
    " Prepare and organize results for analysis. This cell configures the conditions for analyzing the results from the mobility models and loads the results accordingly for subsequent visualization or export."
   ]
  },
  {
   "cell_type": "code",
   "execution_count": 25,
   "metadata": {},
   "outputs": [],
   "source": [
    "\n",
    "# Organizing and preparing the results from the mobility model for analysis.\n",
    "# This cell sets up the conditions under which the results are to be analyzed.\n",
    "# It includes setting the 'slope_scene', which might represent a particular scenario or condition in the analysis.\n",
    "# The results are then loaded and prepared for further processing or visualization.\n",
    "mo.slope_scene = 0  # Example: Setting the slope scene to 0.\n",
    "mr.load_results(hpv, mv, mo)  # Loading the results for the specified conditions.\n",
    "\n"
   ]
  },
  {
   "cell_type": "markdown",
   "metadata": {},
   "source": [
    " Visualize model results using interactive plots. This cell creates various types of plots to display the outcomes of the mobility analysis, making the data more accessible and understandable."
   ]
  },
  {
   "cell_type": "code",
   "execution_count": 26,
   "metadata": {},
   "outputs": [
    {
     "data": {
      "application/vnd.plotly.v1+json": {
       "config": {
        "plotlyServerURL": "https://plotly.com"
       },
       "data": [
        {
         "mode": "lines",
         "name": "Baby Carriage",
         "type": "scatter",
         "x": [
          0,
          1.4285714285714286,
          2.857142857142857,
          4.285714285714286,
          5.714285714285714,
          7.142857142857143,
          8.571428571428571,
          10,
          11.428571428571429,
          12.857142857142858,
          14.285714285714286,
          15.714285714285715,
          17.142857142857142,
          18.571428571428573,
          20
         ],
         "y": [
          1.0226906723771796,
          0.9864611324597261,
          0.9516143994093516,
          0.9180727874470063,
          0.8857643229832763,
          0.8546222290778037,
          0.8245844647434472,
          0.7955933124068034,
          0.7675950077529216,
          0.7405394069594394,
          0.7143796869869339,
          0.6890720751568552,
          0.6645756047315866,
          0.640851893625727,
          0.6178649437343354
         ]
        },
        {
         "mode": "lines",
         "name": "Backpack",
         "type": "scatter",
         "x": [
          0,
          2.142857142857143,
          4.285714285714286,
          6.428571428571429,
          8.571428571428571,
          10.714285714285714,
          12.857142857142858,
          15,
          17.142857142857142,
          19.285714285714285,
          21.428571428571427,
          23.57142857142857,
          25.714285714285715,
          27.857142857142858,
          30
         ],
         "y": [
          1.305744821844256,
          1.23463147926224,
          1.1680815597336147,
          1.105669459035785,
          1.0470209020986287,
          0.9918054314212087,
          0.9397301770856314,
          0.8905346603169991,
          0.8439864359305358,
          0.7998774198088651,
          0.7580207789785132,
          0.7182482862392994,
          0.6804080603538125,
          0.6443626277909579,
          0.6099872538796639
         ]
        },
        {
         "mode": "lines",
         "name": "Bicycle",
         "type": "scatter",
         "x": [
          0,
          4.857142857142857,
          9.714285714285714,
          14.57142857142857,
          19.428571428571427,
          24.285714285714285,
          29.14285714285714,
          34,
          38.857142857142854,
          40,
          40,
          40,
          40,
          40,
          40
         ],
         "y": [
          0.9971811059147536,
          0.8825986862816921,
          0.7814732692998373,
          0.6915656799766543,
          0.611107419979555,
          0.5386831712596998,
          0.4731468231173971,
          0.41356037040056354,
          0.35914873094649463,
          0.3470257836865565,
          0.3470257836865565,
          0.3470257836865565,
          0.3470257836865565,
          0.3470257836865565,
          0.3470257836865565
         ]
        },
        {
         "mode": "lines",
         "name": "Buckets",
         "type": "scatter",
         "x": [
          0,
          1.4285714285714286,
          2.857142857142857,
          4.285714285714286,
          5.714285714285714,
          7.142857142857143,
          8.571428571428571,
          10,
          11.428571428571429,
          12.857142857142858,
          14.285714285714286,
          15.714285714285715,
          17.142857142857142,
          18.571428571428573,
          20
         ],
         "y": [
          1.305744821844256,
          1.257806218464945,
          1.2119632917360956,
          1.1680815597336147,
          1.1260378060349021,
          1.0857189242828038,
          1.0470209020986287,
          1.0098479251236825,
          0.9741115849400381,
          0.9397301770856314,
          0.9066280774304585,
          0.8747351868951097,
          0.8439864359305358,
          0.8143213413876205,
          0.785683609426278
         ]
        },
        {
         "mode": "lines",
         "name": "Cycle Rickshaw",
         "type": "scatter",
         "x": [
          0,
          13.428571428571429,
          26.857142857142858,
          40.285714285714285,
          53.714285714285715,
          67.14285714285714,
          80.57142857142857,
          94,
          107.42857142857143,
          120.85714285714286,
          134.28571428571428,
          147.71428571428572,
          161.14285714285714,
          174.57142857142858,
          188
         ],
         "y": [
          0.5571410844379088,
          0.3857507661626158,
          0.25182716862657306,
          0.14429522343515927,
          0.05605336001472418,
          -0.01766182186189127,
          -0.0801646621585685,
          -0.13383251450353514,
          -0.18041500431981228,
          -0.22122838472537787,
          -0.2572818919819072,
          -0.2893623280987957,
          -0.3180921408879201,
          -0.3439702087961812,
          -0.36740105499078374
         ]
        },
        {
         "mode": "lines",
         "name": "Hand Cart",
         "type": "scatter",
         "x": [
          0,
          16.214285714285715,
          32.42857142857143,
          48.642857142857146,
          64.85714285714286,
          81.07142857142858,
          97.28571428571429,
          113.5,
          129.71428571428572,
          145.92857142857144,
          162.14285714285717,
          178.35714285714286,
          194.57142857142858,
          210.7857142857143,
          227
         ],
         "y": [
          0.4559346522771978,
          0.28047796415896264,
          0.14688009706315458,
          0.04175801947978654,
          -0.04311568168319582,
          -0.11307736259540661,
          -0.1717396471596474,
          -0.2216354152024381,
          -0.2645931499553583,
          -0.3019658871201269,
          -0.3347763164944128,
          -0.3638118003704915,
          -0.3896883794587101,
          -0.4128949660682808,
          -0.43382452861890497
         ]
        },
        {
         "mode": "lines",
         "name": "Hand Truck",
         "type": "scatter",
         "x": [
          0,
          8.142857142857142,
          16.285714285714285,
          24.428571428571427,
          32.57142857142857,
          40.71428571428571,
          48.857142857142854,
          57,
          65.14285714285714,
          73.28571428571428,
          81.42857142857142,
          89.57142857142857,
          97.71428571428571,
          105.85714285714285,
          114
         ],
         "y": [
          0.9602007948014385,
          0.7828742899987826,
          0.6373577325564772,
          0.5157962473862622,
          0.41272443441004963,
          0.3242219787547151,
          0.24740369211467658,
          0.18009902272283393,
          0.12064369584830095,
          0.06774023679754448,
          0.020362196282551877,
          -0.022313104468654015,
          -0.06095274840887913,
          -0.0961033472725213,
          -0.12821706226313961
         ]
        },
        {
         "mode": "lines",
         "name": "Luggage",
         "type": "scatter",
         "x": [
          0,
          1.4285714285714286,
          2.857142857142857,
          4.285714285714286,
          5.714285714285714,
          7.142857142857143,
          8.571428571428571,
          10,
          11.428571428571429,
          12.857142857142858,
          14.285714285714286,
          15.714285714285715,
          17.142857142857142,
          18.571428571428573,
          20
         ],
         "y": [
          1.1919814316278232,
          1.148941408089524,
          1.1076872776441002,
          1.0681101443712544,
          1.030109789316451,
          0.9935938231309749,
          0.9584769361096939,
          0.9246802328110173,
          0.8921306403351699,
          0.8607603809200418,
          0.8305065008435304,
          0.8013104487417219,
          0.7731176973994262,
          0.745877403872748,
          0.7195421034864915
         ]
        },
        {
         "mode": "lines",
         "name": "Roller skates",
         "type": "scatter",
         "x": [
          0,
          2.9285714285714284,
          5.857142857142857,
          8.785714285714285,
          10,
          10,
          10,
          10,
          10,
          10,
          10,
          10,
          10,
          10,
          10
         ],
         "y": [
          1.2232351102587116,
          1.1343050846276042,
          1.0527261296635837,
          0.9776229484721197,
          0.9482027383068962,
          0.9482027383068962,
          0.9482027383068962,
          0.9482027383068962,
          0.9482027383068962,
          0.9482027383068962,
          0.9482027383068962,
          0.9482027383068962,
          0.9482027383068962,
          0.9482027383068962,
          0.9482027383068962
         ]
        },
        {
         "mode": "lines",
         "name": "Rolling Container",
         "type": "scatter",
         "x": [
          0,
          11.285714285714286,
          22.571428571428573,
          33.85714285714286,
          45.142857142857146,
          56.42857142857143,
          67.71428571428572,
          79,
          90.28571428571429,
          101.57142857142858,
          112.85714285714286,
          124.14285714285715,
          135.42857142857144,
          146.71428571428572,
          158
         ],
         "y": [
          1.2554654663468146,
          0.9414182585433786,
          0.7092513458438089,
          0.530635341474943,
          0.3889582490043503,
          0.273835107435719,
          0.17844022656973832,
          0.09810267954673975,
          0.029518218106735352,
          -0.029716506570956314,
          -0.0813913875498794,
          -0.12686685228379893,
          -0.1671953804647388,
          -0.20320397138968652,
          -0.23555145718841702
         ]
        },
        {
         "mode": "lines",
         "name": "Scooter",
         "type": "scatter",
         "x": [
          0,
          2.7142857142857144,
          5.428571428571429,
          8.142857142857142,
          10.857142857142858,
          13.571428571428573,
          16.285714285714285,
          19,
          20,
          20,
          20,
          20,
          20,
          20,
          20
         ],
         "y": [
          1.248939070254208,
          1.164224108164012,
          1.0861139235859758,
          1.0138650877716957,
          0.9468417102005489,
          0.8844966727243757,
          0.8263566608500751,
          0.7720101250252642,
          0.7528709587021628,
          0.7528709587021628,
          0.7528709587021628,
          0.7528709587021628,
          0.7528709587021628,
          0.7528709587021628,
          0.7528709587021628
         ]
        },
        {
         "mode": "lines",
         "name": "Shopping Trolley",
         "type": "scatter",
         "x": [
          0,
          13.928571428571429,
          27.857142857142858,
          41.785714285714285,
          55.714285714285715,
          69.64285714285714,
          83.57142857142857,
          97.5,
          111.42857142857143,
          125.35714285714286,
          139.28571428571428,
          153.21428571428572,
          167.14285714285714,
          181.07142857142858,
          195
         ],
         "y": [
          0.7662202406980599,
          0.5366623635608146,
          0.36453076742647217,
          0.23067244523306102,
          0.12359952358117371,
          0.03600348599842667,
          -0.03698697028578647,
          -0.09874369415056657,
          -0.15167479606325288,
          -0.19754600408197603,
          -0.2376814727203523,
          -0.27309369670907074,
          -0.30457010782927935,
          -0.3327323179946065,
          -0.35807758485024455
         ]
        },
        {
         "mode": "lines",
         "name": "Skateboard",
         "type": "scatter",
         "x": [
          0,
          4.357142857142857,
          8.714285714285714,
          13.07142857142857,
          17.428571428571427,
          20,
          20,
          20,
          20,
          20,
          20,
          20,
          20,
          20,
          20
         ],
         "y": [
          1.288719008342477,
          1.1510500497517397,
          1.030109789316451,
          0.9230237183394765,
          0.8275402234363836,
          0.7758933004575661,
          0.7758933004575661,
          0.7758933004575661,
          0.7758933004575661,
          0.7758933004575661,
          0.7758933004575661,
          0.7758933004575661,
          0.7758933004575661,
          0.7758933004575661,
          0.7758933004575661
         ]
        },
        {
         "mode": "lines",
         "name": "Stretcher",
         "type": "scatter",
         "x": [
          0,
          8.571428571428571,
          17.142857142857142,
          25.714285714285715,
          34.285714285714285,
          42.857142857142854,
          51.42857142857143,
          60,
          68.57142857142857,
          77.14285714285714,
          85.71428571428571,
          94.28571428571428,
          102.85714285714286,
          111.42857142857143,
          120
         ],
         "y": [
          0.488000056526136,
          0.3841532975243598,
          0.29537499206576745,
          0.2186072803558009,
          0.15156726178754096,
          0.09251612328699793,
          0.040106162499730855,
          -0.006723323314624101,
          -0.048818572989364394,
          -0.08686295661681614,
          -0.12141435934503753,
          -0.1529327201366189,
          -0.1818006231181165,
          -0.20833890380117465,
          -0.23281862360384023
         ]
        },
        {
         "mode": "lines",
         "name": "Wheelbarrow",
         "type": "scatter",
         "x": [
          0,
          10.714285714285714,
          21.428571428571427,
          32.14285714285714,
          42.857142857142854,
          53.57142857142857,
          64.28571428571428,
          75,
          85.71428571428571,
          96.42857142857142,
          107.14285714285714,
          117.85714285714285,
          128.57142857142856,
          139.28571428571428,
          150
         ],
         "y": [
          0.7016219910397516,
          0.5326384745463683,
          0.3970509099291475,
          0.2858495979409236,
          0.19299833743590492,
          0.11430123249567578,
          0.04675102627219265,
          -0.011863967487866582,
          -0.06320662951590858,
          -0.10855131700796426,
          -0.14889107210575342,
          -0.18501118754896198,
          -0.2175408342602414,
          -0.24699002200264966,
          -0.27377653454230855
         ]
        },
        {
         "mode": "lines",
         "name": "Wheelchair",
         "type": "scatter",
         "x": [
          0,
          5.928571428571429,
          11.857142857142858,
          17.785714285714285,
          23.714285714285715,
          29.642857142857146,
          35.57142857142857,
          41.5,
          47.42857142857143,
          53.35714285714286,
          59.28571428571429,
          65.21428571428572,
          71.14285714285714,
          77.07142857142857,
          83
         ],
         "y": [
          0.8364708372014712,
          0.7208380717183005,
          0.6201314641435334,
          0.5316361764061739,
          0.4532581185341044,
          0.38335612424950355,
          0.3206257808000345,
          0.26401726980947915,
          0.21267614268912102,
          0.16589989350233522,
          0.12310562245145029,
          0.08380562045833535,
          0.047588699907024586,
          0.014105753349127892,
          -0.016941536272480268
         ]
        }
       ],
       "layout": {
        "template": {
         "data": {
          "bar": [
           {
            "error_x": {
             "color": "#2a3f5f"
            },
            "error_y": {
             "color": "#2a3f5f"
            },
            "marker": {
             "line": {
              "color": "#E5ECF6",
              "width": 0.5
             },
             "pattern": {
              "fillmode": "overlay",
              "size": 10,
              "solidity": 0.2
             }
            },
            "type": "bar"
           }
          ],
          "barpolar": [
           {
            "marker": {
             "line": {
              "color": "#E5ECF6",
              "width": 0.5
             },
             "pattern": {
              "fillmode": "overlay",
              "size": 10,
              "solidity": 0.2
             }
            },
            "type": "barpolar"
           }
          ],
          "carpet": [
           {
            "aaxis": {
             "endlinecolor": "#2a3f5f",
             "gridcolor": "white",
             "linecolor": "white",
             "minorgridcolor": "white",
             "startlinecolor": "#2a3f5f"
            },
            "baxis": {
             "endlinecolor": "#2a3f5f",
             "gridcolor": "white",
             "linecolor": "white",
             "minorgridcolor": "white",
             "startlinecolor": "#2a3f5f"
            },
            "type": "carpet"
           }
          ],
          "choropleth": [
           {
            "colorbar": {
             "outlinewidth": 0,
             "ticks": ""
            },
            "type": "choropleth"
           }
          ],
          "contour": [
           {
            "colorbar": {
             "outlinewidth": 0,
             "ticks": ""
            },
            "colorscale": [
             [
              0,
              "#0d0887"
             ],
             [
              0.1111111111111111,
              "#46039f"
             ],
             [
              0.2222222222222222,
              "#7201a8"
             ],
             [
              0.3333333333333333,
              "#9c179e"
             ],
             [
              0.4444444444444444,
              "#bd3786"
             ],
             [
              0.5555555555555556,
              "#d8576b"
             ],
             [
              0.6666666666666666,
              "#ed7953"
             ],
             [
              0.7777777777777778,
              "#fb9f3a"
             ],
             [
              0.8888888888888888,
              "#fdca26"
             ],
             [
              1,
              "#f0f921"
             ]
            ],
            "type": "contour"
           }
          ],
          "contourcarpet": [
           {
            "colorbar": {
             "outlinewidth": 0,
             "ticks": ""
            },
            "type": "contourcarpet"
           }
          ],
          "heatmap": [
           {
            "colorbar": {
             "outlinewidth": 0,
             "ticks": ""
            },
            "colorscale": [
             [
              0,
              "#0d0887"
             ],
             [
              0.1111111111111111,
              "#46039f"
             ],
             [
              0.2222222222222222,
              "#7201a8"
             ],
             [
              0.3333333333333333,
              "#9c179e"
             ],
             [
              0.4444444444444444,
              "#bd3786"
             ],
             [
              0.5555555555555556,
              "#d8576b"
             ],
             [
              0.6666666666666666,
              "#ed7953"
             ],
             [
              0.7777777777777778,
              "#fb9f3a"
             ],
             [
              0.8888888888888888,
              "#fdca26"
             ],
             [
              1,
              "#f0f921"
             ]
            ],
            "type": "heatmap"
           }
          ],
          "heatmapgl": [
           {
            "colorbar": {
             "outlinewidth": 0,
             "ticks": ""
            },
            "colorscale": [
             [
              0,
              "#0d0887"
             ],
             [
              0.1111111111111111,
              "#46039f"
             ],
             [
              0.2222222222222222,
              "#7201a8"
             ],
             [
              0.3333333333333333,
              "#9c179e"
             ],
             [
              0.4444444444444444,
              "#bd3786"
             ],
             [
              0.5555555555555556,
              "#d8576b"
             ],
             [
              0.6666666666666666,
              "#ed7953"
             ],
             [
              0.7777777777777778,
              "#fb9f3a"
             ],
             [
              0.8888888888888888,
              "#fdca26"
             ],
             [
              1,
              "#f0f921"
             ]
            ],
            "type": "heatmapgl"
           }
          ],
          "histogram": [
           {
            "marker": {
             "pattern": {
              "fillmode": "overlay",
              "size": 10,
              "solidity": 0.2
             }
            },
            "type": "histogram"
           }
          ],
          "histogram2d": [
           {
            "colorbar": {
             "outlinewidth": 0,
             "ticks": ""
            },
            "colorscale": [
             [
              0,
              "#0d0887"
             ],
             [
              0.1111111111111111,
              "#46039f"
             ],
             [
              0.2222222222222222,
              "#7201a8"
             ],
             [
              0.3333333333333333,
              "#9c179e"
             ],
             [
              0.4444444444444444,
              "#bd3786"
             ],
             [
              0.5555555555555556,
              "#d8576b"
             ],
             [
              0.6666666666666666,
              "#ed7953"
             ],
             [
              0.7777777777777778,
              "#fb9f3a"
             ],
             [
              0.8888888888888888,
              "#fdca26"
             ],
             [
              1,
              "#f0f921"
             ]
            ],
            "type": "histogram2d"
           }
          ],
          "histogram2dcontour": [
           {
            "colorbar": {
             "outlinewidth": 0,
             "ticks": ""
            },
            "colorscale": [
             [
              0,
              "#0d0887"
             ],
             [
              0.1111111111111111,
              "#46039f"
             ],
             [
              0.2222222222222222,
              "#7201a8"
             ],
             [
              0.3333333333333333,
              "#9c179e"
             ],
             [
              0.4444444444444444,
              "#bd3786"
             ],
             [
              0.5555555555555556,
              "#d8576b"
             ],
             [
              0.6666666666666666,
              "#ed7953"
             ],
             [
              0.7777777777777778,
              "#fb9f3a"
             ],
             [
              0.8888888888888888,
              "#fdca26"
             ],
             [
              1,
              "#f0f921"
             ]
            ],
            "type": "histogram2dcontour"
           }
          ],
          "mesh3d": [
           {
            "colorbar": {
             "outlinewidth": 0,
             "ticks": ""
            },
            "type": "mesh3d"
           }
          ],
          "parcoords": [
           {
            "line": {
             "colorbar": {
              "outlinewidth": 0,
              "ticks": ""
             }
            },
            "type": "parcoords"
           }
          ],
          "pie": [
           {
            "automargin": true,
            "type": "pie"
           }
          ],
          "scatter": [
           {
            "fillpattern": {
             "fillmode": "overlay",
             "size": 10,
             "solidity": 0.2
            },
            "type": "scatter"
           }
          ],
          "scatter3d": [
           {
            "line": {
             "colorbar": {
              "outlinewidth": 0,
              "ticks": ""
             }
            },
            "marker": {
             "colorbar": {
              "outlinewidth": 0,
              "ticks": ""
             }
            },
            "type": "scatter3d"
           }
          ],
          "scattercarpet": [
           {
            "marker": {
             "colorbar": {
              "outlinewidth": 0,
              "ticks": ""
             }
            },
            "type": "scattercarpet"
           }
          ],
          "scattergeo": [
           {
            "marker": {
             "colorbar": {
              "outlinewidth": 0,
              "ticks": ""
             }
            },
            "type": "scattergeo"
           }
          ],
          "scattergl": [
           {
            "marker": {
             "colorbar": {
              "outlinewidth": 0,
              "ticks": ""
             }
            },
            "type": "scattergl"
           }
          ],
          "scattermapbox": [
           {
            "marker": {
             "colorbar": {
              "outlinewidth": 0,
              "ticks": ""
             }
            },
            "type": "scattermapbox"
           }
          ],
          "scatterpolar": [
           {
            "marker": {
             "colorbar": {
              "outlinewidth": 0,
              "ticks": ""
             }
            },
            "type": "scatterpolar"
           }
          ],
          "scatterpolargl": [
           {
            "marker": {
             "colorbar": {
              "outlinewidth": 0,
              "ticks": ""
             }
            },
            "type": "scatterpolargl"
           }
          ],
          "scatterternary": [
           {
            "marker": {
             "colorbar": {
              "outlinewidth": 0,
              "ticks": ""
             }
            },
            "type": "scatterternary"
           }
          ],
          "surface": [
           {
            "colorbar": {
             "outlinewidth": 0,
             "ticks": ""
            },
            "colorscale": [
             [
              0,
              "#0d0887"
             ],
             [
              0.1111111111111111,
              "#46039f"
             ],
             [
              0.2222222222222222,
              "#7201a8"
             ],
             [
              0.3333333333333333,
              "#9c179e"
             ],
             [
              0.4444444444444444,
              "#bd3786"
             ],
             [
              0.5555555555555556,
              "#d8576b"
             ],
             [
              0.6666666666666666,
              "#ed7953"
             ],
             [
              0.7777777777777778,
              "#fb9f3a"
             ],
             [
              0.8888888888888888,
              "#fdca26"
             ],
             [
              1,
              "#f0f921"
             ]
            ],
            "type": "surface"
           }
          ],
          "table": [
           {
            "cells": {
             "fill": {
              "color": "#EBF0F8"
             },
             "line": {
              "color": "white"
             }
            },
            "header": {
             "fill": {
              "color": "#C8D4E3"
             },
             "line": {
              "color": "white"
             }
            },
            "type": "table"
           }
          ]
         },
         "layout": {
          "annotationdefaults": {
           "arrowcolor": "#2a3f5f",
           "arrowhead": 0,
           "arrowwidth": 1
          },
          "autotypenumbers": "strict",
          "coloraxis": {
           "colorbar": {
            "outlinewidth": 0,
            "ticks": ""
           }
          },
          "colorscale": {
           "diverging": [
            [
             0,
             "#8e0152"
            ],
            [
             0.1,
             "#c51b7d"
            ],
            [
             0.2,
             "#de77ae"
            ],
            [
             0.3,
             "#f1b6da"
            ],
            [
             0.4,
             "#fde0ef"
            ],
            [
             0.5,
             "#f7f7f7"
            ],
            [
             0.6,
             "#e6f5d0"
            ],
            [
             0.7,
             "#b8e186"
            ],
            [
             0.8,
             "#7fbc41"
            ],
            [
             0.9,
             "#4d9221"
            ],
            [
             1,
             "#276419"
            ]
           ],
           "sequential": [
            [
             0,
             "#0d0887"
            ],
            [
             0.1111111111111111,
             "#46039f"
            ],
            [
             0.2222222222222222,
             "#7201a8"
            ],
            [
             0.3333333333333333,
             "#9c179e"
            ],
            [
             0.4444444444444444,
             "#bd3786"
            ],
            [
             0.5555555555555556,
             "#d8576b"
            ],
            [
             0.6666666666666666,
             "#ed7953"
            ],
            [
             0.7777777777777778,
             "#fb9f3a"
            ],
            [
             0.8888888888888888,
             "#fdca26"
            ],
            [
             1,
             "#f0f921"
            ]
           ],
           "sequentialminus": [
            [
             0,
             "#0d0887"
            ],
            [
             0.1111111111111111,
             "#46039f"
            ],
            [
             0.2222222222222222,
             "#7201a8"
            ],
            [
             0.3333333333333333,
             "#9c179e"
            ],
            [
             0.4444444444444444,
             "#bd3786"
            ],
            [
             0.5555555555555556,
             "#d8576b"
            ],
            [
             0.6666666666666666,
             "#ed7953"
            ],
            [
             0.7777777777777778,
             "#fb9f3a"
            ],
            [
             0.8888888888888888,
             "#fdca26"
            ],
            [
             1,
             "#f0f921"
            ]
           ]
          },
          "colorway": [
           "#636efa",
           "#EF553B",
           "#00cc96",
           "#ab63fa",
           "#FFA15A",
           "#19d3f3",
           "#FF6692",
           "#B6E880",
           "#FF97FF",
           "#FECB52"
          ],
          "font": {
           "color": "#2a3f5f"
          },
          "geo": {
           "bgcolor": "white",
           "lakecolor": "white",
           "landcolor": "#E5ECF6",
           "showlakes": true,
           "showland": true,
           "subunitcolor": "white"
          },
          "hoverlabel": {
           "align": "left"
          },
          "hovermode": "closest",
          "mapbox": {
           "style": "light"
          },
          "paper_bgcolor": "white",
          "plot_bgcolor": "#E5ECF6",
          "polar": {
           "angularaxis": {
            "gridcolor": "white",
            "linecolor": "white",
            "ticks": ""
           },
           "bgcolor": "#E5ECF6",
           "radialaxis": {
            "gridcolor": "white",
            "linecolor": "white",
            "ticks": ""
           }
          },
          "scene": {
           "xaxis": {
            "backgroundcolor": "#E5ECF6",
            "gridcolor": "white",
            "gridwidth": 2,
            "linecolor": "white",
            "showbackground": true,
            "ticks": "",
            "zerolinecolor": "white"
           },
           "yaxis": {
            "backgroundcolor": "#E5ECF6",
            "gridcolor": "white",
            "gridwidth": 2,
            "linecolor": "white",
            "showbackground": true,
            "ticks": "",
            "zerolinecolor": "white"
           },
           "zaxis": {
            "backgroundcolor": "#E5ECF6",
            "gridcolor": "white",
            "gridwidth": 2,
            "linecolor": "white",
            "showbackground": true,
            "ticks": "",
            "zerolinecolor": "white"
           }
          },
          "shapedefaults": {
           "line": {
            "color": "#2a3f5f"
           }
          },
          "ternary": {
           "aaxis": {
            "gridcolor": "white",
            "linecolor": "white",
            "ticks": ""
           },
           "baxis": {
            "gridcolor": "white",
            "linecolor": "white",
            "ticks": ""
           },
           "bgcolor": "#E5ECF6",
           "caxis": {
            "gridcolor": "white",
            "linecolor": "white",
            "ticks": ""
           }
          },
          "title": {
           "x": 0.05
          },
          "xaxis": {
           "automargin": true,
           "gridcolor": "white",
           "linecolor": "white",
           "ticks": "",
           "title": {
            "standoff": 15
           },
           "zerolinecolor": "white",
           "zerolinewidth": 2
          },
          "yaxis": {
           "automargin": true,
           "gridcolor": "white",
           "linecolor": "white",
           "ticks": "",
           "title": {
            "standoff": 15
           },
           "zerolinecolor": "white",
           "zerolinewidth": 2
          }
         }
        },
        "title": {
         "text": "m/s with different loads, Constant 0.0 slope, model Lankford"
        },
        "xaxis": {
         "title": {
          "text": "Load [kg]"
         }
        },
        "yaxis": {
         "title": {
          "text": "Speed [m/s]"
         }
        }
       }
      }
     },
     "metadata": {},
     "output_type": "display_data"
    },
    {
     "data": {
      "application/vnd.plotly.v1+json": {
       "config": {
        "plotlyServerURL": "https://plotly.com"
       },
       "data": [
        {
         "alignmentgroup": "True",
         "customdata": [
          [
           "Baby Carriage",
           0.8202778080557576,
           0.6178649437343354,
           1.2,
           11.81200043600291,
           23.62400087200582,
           0,
           8,
           0.25397899502746524
          ]
         ],
         "hovertemplate": "Name=%{customdata[0]}<br>Load=%{x}<br>Water ration * Km=%{y}<br>Average Trip Velocity=%{customdata[1]}<br>Loaded Velocity=%{customdata[2]}<br>Unloaded Velocity=%{customdata[3]}<br>Distance to Water Achievable=%{customdata[4]}<br>Total Round trip Distance Achievable=%{customdata[5]}<br>Slope=%{customdata[6]}<br>Hours Collecting Water Max=%{customdata[7]}<br>Hours Spent Collecting Single Person Water=%{customdata[8]}<extra></extra>",
         "legendgroup": "Baby Carriage",
         "marker": {
          "color": "#636efa",
          "pattern": {
           "shape": ""
          }
         },
         "name": "Baby Carriage",
         "offsetgroup": "Baby Carriage",
         "orientation": "v",
         "showlegend": true,
         "textposition": "auto",
         "type": "bar",
         "x": [
          20
         ],
         "xaxis": "x",
         "y": [
          31.498667829341095
         ],
         "yaxis": "y"
        },
        {
         "alignmentgroup": "True",
         "customdata": [
          [
           "Backpack",
           0.9578660378619599,
           0.6099872538796639,
           1.2,
           13.793270945212221,
           27.586541890424442,
           0,
           8,
           0.14499823920983873
          ]
         ],
         "hovertemplate": "Name=%{customdata[0]}<br>Load=%{x}<br>Water ration * Km=%{y}<br>Average Trip Velocity=%{customdata[1]}<br>Loaded Velocity=%{customdata[2]}<br>Unloaded Velocity=%{customdata[3]}<br>Distance to Water Achievable=%{customdata[4]}<br>Total Round trip Distance Achievable=%{customdata[5]}<br>Slope=%{customdata[6]}<br>Hours Collecting Water Max=%{customdata[7]}<br>Hours Spent Collecting Single Person Water=%{customdata[8]}<extra></extra>",
         "legendgroup": "Backpack",
         "marker": {
          "color": "#EF553B",
          "pattern": {
           "shape": ""
          }
         },
         "name": "Backpack",
         "offsetgroup": "Backpack",
         "orientation": "v",
         "showlegend": true,
         "textposition": "auto",
         "type": "bar",
         "x": [
          30
         ],
         "xaxis": "x",
         "y": [
          55.173083780848884
         ],
         "yaxis": "y"
        },
        {
         "alignmentgroup": "True",
         "customdata": [
          [
           "Bicycle",
           0.6721034448006551,
           0.3470257836865565,
           4.3,
           9.678289605129434,
           19.356579210258868,
           0,
           8,
           0.15498606274449664
          ]
         ],
         "hovertemplate": "Name=%{customdata[0]}<br>Load=%{x}<br>Water ration * Km=%{y}<br>Average Trip Velocity=%{customdata[1]}<br>Loaded Velocity=%{customdata[2]}<br>Unloaded Velocity=%{customdata[3]}<br>Distance to Water Achievable=%{customdata[4]}<br>Total Round trip Distance Achievable=%{customdata[5]}<br>Slope=%{customdata[6]}<br>Hours Collecting Water Max=%{customdata[7]}<br>Hours Spent Collecting Single Person Water=%{customdata[8]}<extra></extra>",
         "legendgroup": "Bicycle",
         "marker": {
          "color": "#00cc96",
          "pattern": {
           "shape": ""
          }
         },
         "name": "Bicycle",
         "offsetgroup": "Bicycle",
         "orientation": "v",
         "showlegend": true,
         "textposition": "auto",
         "type": "bar",
         "x": [
          40
         ],
         "xaxis": "x",
         "y": [
          51.61754456069032
         ],
         "yaxis": "y"
        },
        {
         "alignmentgroup": "True",
         "customdata": [
          [
           "Buckets",
           1.045714215635267,
           0.785683609426278,
           1.2,
           15.058284705147846,
           30.116569410295693,
           0,
           8,
           0.19922587856068466
          ]
         ],
         "hovertemplate": "Name=%{customdata[0]}<br>Load=%{x}<br>Water ration * Km=%{y}<br>Average Trip Velocity=%{customdata[1]}<br>Loaded Velocity=%{customdata[2]}<br>Unloaded Velocity=%{customdata[3]}<br>Distance to Water Achievable=%{customdata[4]}<br>Total Round trip Distance Achievable=%{customdata[5]}<br>Slope=%{customdata[6]}<br>Hours Collecting Water Max=%{customdata[7]}<br>Hours Spent Collecting Single Person Water=%{customdata[8]}<extra></extra>",
         "legendgroup": "Buckets",
         "marker": {
          "color": "#ab63fa",
          "pattern": {
           "shape": ""
          }
         },
         "name": "Buckets",
         "offsetgroup": "Buckets",
         "orientation": "v",
         "showlegend": true,
         "textposition": "auto",
         "type": "bar",
         "x": [
          20
         ],
         "xaxis": "x",
         "y": [
          40.155425880394255
         ],
         "yaxis": "y"
        },
        {
         "alignmentgroup": "True",
         "customdata": [
          [
           "Cycle Rickshaw",
           0.09487001472356252,
           -0.36740105499078374,
           4.3,
           1.3661282120193001,
           2.7322564240386003,
           0,
           8,
           0.23361565434511644
          ]
         ],
         "hovertemplate": "Name=%{customdata[0]}<br>Load=%{x}<br>Water ration * Km=%{y}<br>Average Trip Velocity=%{customdata[1]}<br>Loaded Velocity=%{customdata[2]}<br>Unloaded Velocity=%{customdata[3]}<br>Distance to Water Achievable=%{customdata[4]}<br>Total Round trip Distance Achievable=%{customdata[5]}<br>Slope=%{customdata[6]}<br>Hours Collecting Water Max=%{customdata[7]}<br>Hours Spent Collecting Single Person Water=%{customdata[8]}<extra></extra>",
         "legendgroup": "Cycle Rickshaw",
         "marker": {
          "color": "#FFA15A",
          "pattern": {
           "shape": ""
          }
         },
         "name": "Cycle Rickshaw",
         "offsetgroup": "Cycle Rickshaw",
         "orientation": "v",
         "showlegend": true,
         "textposition": "auto",
         "type": "bar",
         "x": [
          188
         ],
         "xaxis": "x",
         "y": [
          34.244280514617124
         ],
         "yaxis": "y"
        },
        {
         "alignmentgroup": "True",
         "customdata": [
          [
           "Hand Cart",
           0.011055061829146423,
           -0.43382452861890497,
           1.2,
           0.1591928903397085,
           0.318385780679417,
           0,
           8,
           1.6603579472217784
          ]
         ],
         "hovertemplate": "Name=%{customdata[0]}<br>Load=%{x}<br>Water ration * Km=%{y}<br>Average Trip Velocity=%{customdata[1]}<br>Loaded Velocity=%{customdata[2]}<br>Unloaded Velocity=%{customdata[3]}<br>Distance to Water Achievable=%{customdata[4]}<br>Total Round trip Distance Achievable=%{customdata[5]}<br>Slope=%{customdata[6]}<br>Hours Collecting Water Max=%{customdata[7]}<br>Hours Spent Collecting Single Person Water=%{customdata[8]}<extra></extra>",
         "legendgroup": "Hand Cart",
         "marker": {
          "color": "#19d3f3",
          "pattern": {
           "shape": ""
          }
         },
         "name": "Hand Cart",
         "offsetgroup": "Hand Cart",
         "orientation": "v",
         "showlegend": true,
         "textposition": "auto",
         "type": "bar",
         "x": [
          227
         ],
         "xaxis": "x",
         "y": [
          4.818238147615177
         ],
         "yaxis": "y"
        },
        {
         "alignmentgroup": "True",
         "customdata": [
          [
           "Hand Truck",
           0.4159918662691494,
           -0.12821706226313961,
           1.2,
           5.990282874275751,
           11.980565748551502,
           0,
           8,
           0.0878615919348079
          ]
         ],
         "hovertemplate": "Name=%{customdata[0]}<br>Load=%{x}<br>Water ration * Km=%{y}<br>Average Trip Velocity=%{customdata[1]}<br>Loaded Velocity=%{customdata[2]}<br>Unloaded Velocity=%{customdata[3]}<br>Distance to Water Achievable=%{customdata[4]}<br>Total Round trip Distance Achievable=%{customdata[5]}<br>Slope=%{customdata[6]}<br>Hours Collecting Water Max=%{customdata[7]}<br>Hours Spent Collecting Single Person Water=%{customdata[8]}<extra></extra>",
         "legendgroup": "Hand Truck",
         "marker": {
          "color": "#FF6692",
          "pattern": {
           "shape": ""
          }
         },
         "name": "Hand Truck",
         "offsetgroup": "Hand Truck",
         "orientation": "v",
         "showlegend": true,
         "textposition": "auto",
         "type": "bar",
         "x": [
          114
         ],
         "xaxis": "x",
         "y": [
          91.05229968899143
         ],
         "yaxis": "y"
        },
        {
         "alignmentgroup": "True",
         "customdata": [
          [
           "Luggage",
           0.9557617675571574,
           0.7195421034864915,
           1.2,
           13.762969452823064,
           27.52593890564613,
           0,
           8,
           0.2179762158365206
          ]
         ],
         "hovertemplate": "Name=%{customdata[0]}<br>Load=%{x}<br>Water ration * Km=%{y}<br>Average Trip Velocity=%{customdata[1]}<br>Loaded Velocity=%{customdata[2]}<br>Unloaded Velocity=%{customdata[3]}<br>Distance to Water Achievable=%{customdata[4]}<br>Total Round trip Distance Achievable=%{customdata[5]}<br>Slope=%{customdata[6]}<br>Hours Collecting Water Max=%{customdata[7]}<br>Hours Spent Collecting Single Person Water=%{customdata[8]}<extra></extra>",
         "legendgroup": "Luggage",
         "marker": {
          "color": "#B6E880",
          "pattern": {
           "shape": ""
          }
         },
         "name": "Luggage",
         "offsetgroup": "Luggage",
         "orientation": "v",
         "showlegend": true,
         "textposition": "auto",
         "type": "bar",
         "x": [
          20
         ],
         "xaxis": "x",
         "y": [
          36.70125187419483
         ],
         "yaxis": "y"
        },
        {
         "alignmentgroup": "True",
         "customdata": [
          [
           "Roller skates",
           1.0857189242828038,
           0.9482027383068962,
           3.6,
           15.634352509672373,
           31.268705019344747,
           0,
           8,
           0.38377029021752135
          ]
         ],
         "hovertemplate": "Name=%{customdata[0]}<br>Load=%{x}<br>Water ration * Km=%{y}<br>Average Trip Velocity=%{customdata[1]}<br>Loaded Velocity=%{customdata[2]}<br>Unloaded Velocity=%{customdata[3]}<br>Distance to Water Achievable=%{customdata[4]}<br>Total Round trip Distance Achievable=%{customdata[5]}<br>Slope=%{customdata[6]}<br>Hours Collecting Water Max=%{customdata[7]}<br>Hours Spent Collecting Single Person Water=%{customdata[8]}<extra></extra>",
         "legendgroup": "Roller skates",
         "marker": {
          "color": "#FF97FF",
          "pattern": {
           "shape": ""
          }
         },
         "name": "Roller skates",
         "offsetgroup": "Roller skates",
         "orientation": "v",
         "showlegend": true,
         "textposition": "auto",
         "type": "bar",
         "x": [
          10
         ],
         "xaxis": "x",
         "y": [
          20.845803346229832
         ],
         "yaxis": "y"
        },
        {
         "alignmentgroup": "True",
         "customdata": [
          [
           "Rolling Container",
           0.5099570045791988,
           -0.23555145718841702,
           1.2,
           7.343380865940462,
           14.686761731880924,
           0,
           8,
           0.051712806726987595
          ]
         ],
         "hovertemplate": "Name=%{customdata[0]}<br>Load=%{x}<br>Water ration * Km=%{y}<br>Average Trip Velocity=%{customdata[1]}<br>Loaded Velocity=%{customdata[2]}<br>Unloaded Velocity=%{customdata[3]}<br>Distance to Water Achievable=%{customdata[4]}<br>Total Round trip Distance Achievable=%{customdata[5]}<br>Slope=%{customdata[6]}<br>Hours Collecting Water Max=%{customdata[7]}<br>Hours Spent Collecting Single Person Water=%{customdata[8]}<extra></extra>",
         "legendgroup": "Rolling Container",
         "marker": {
          "color": "#FECB52",
          "pattern": {
           "shape": ""
          }
         },
         "name": "Rolling Container",
         "offsetgroup": "Rolling Container",
         "orientation": "v",
         "showlegend": true,
         "textposition": "auto",
         "type": "bar",
         "x": [
          158
         ],
         "xaxis": "x",
         "y": [
          154.70055690914575
         ],
         "yaxis": "y"
        },
        {
         "alignmentgroup": "True",
         "customdata": [
          [
           "Scooter",
           1.0009050144781855,
           0.7528709587021628,
           4,
           14.413032208485872,
           28.826064416971743,
           0,
           8,
           0.20814495913175776
          ]
         ],
         "hovertemplate": "Name=%{customdata[0]}<br>Load=%{x}<br>Water ration * Km=%{y}<br>Average Trip Velocity=%{customdata[1]}<br>Loaded Velocity=%{customdata[2]}<br>Unloaded Velocity=%{customdata[3]}<br>Distance to Water Achievable=%{customdata[4]}<br>Total Round trip Distance Achievable=%{customdata[5]}<br>Slope=%{customdata[6]}<br>Hours Collecting Water Max=%{customdata[7]}<br>Hours Spent Collecting Single Person Water=%{customdata[8]}<extra></extra>",
         "legendgroup": "Scooter",
         "marker": {
          "color": "#636efa",
          "pattern": {
           "shape": ""
          }
         },
         "name": "Scooter",
         "offsetgroup": "Scooter",
         "orientation": "v",
         "showlegend": true,
         "textposition": "auto",
         "type": "bar",
         "x": [
          20
         ],
         "xaxis": "x",
         "y": [
          38.43475255596232
         ],
         "yaxis": "y"
        },
        {
         "alignmentgroup": "True",
         "customdata": [
          [
           "Shopping Trolley",
           0.2040713279239077,
           -0.35807758485024455,
           1.2,
           2.938627122104271,
           5.877254244208542,
           0,
           8,
           0.10470614164616353
          ]
         ],
         "hovertemplate": "Name=%{customdata[0]}<br>Load=%{x}<br>Water ration * Km=%{y}<br>Average Trip Velocity=%{customdata[1]}<br>Loaded Velocity=%{customdata[2]}<br>Unloaded Velocity=%{customdata[3]}<br>Distance to Water Achievable=%{customdata[4]}<br>Total Round trip Distance Achievable=%{customdata[5]}<br>Slope=%{customdata[6]}<br>Hours Collecting Water Max=%{customdata[7]}<br>Hours Spent Collecting Single Person Water=%{customdata[8]}<extra></extra>",
         "legendgroup": "Shopping Trolley",
         "marker": {
          "color": "#EF553B",
          "pattern": {
           "shape": ""
          }
         },
         "name": "Shopping Trolley",
         "offsetgroup": "Shopping Trolley",
         "orientation": "v",
         "showlegend": true,
         "textposition": "auto",
         "type": "bar",
         "x": [
          195
         ],
         "xaxis": "x",
         "y": [
          76.40430517471104
         ],
         "yaxis": "y"
        },
        {
         "alignmentgroup": "True",
         "customdata": [
          [
           "Skateboard",
           1.0323061544000216,
           0.7758933004575661,
           4,
           14.865208623360312,
           29.730417246720624,
           0,
           8,
           0.20181351476531406
          ]
         ],
         "hovertemplate": "Name=%{customdata[0]}<br>Load=%{x}<br>Water ration * Km=%{y}<br>Average Trip Velocity=%{customdata[1]}<br>Loaded Velocity=%{customdata[2]}<br>Unloaded Velocity=%{customdata[3]}<br>Distance to Water Achievable=%{customdata[4]}<br>Total Round trip Distance Achievable=%{customdata[5]}<br>Slope=%{customdata[6]}<br>Hours Collecting Water Max=%{customdata[7]}<br>Hours Spent Collecting Single Person Water=%{customdata[8]}<extra></extra>",
         "legendgroup": "Skateboard",
         "marker": {
          "color": "#00cc96",
          "pattern": {
           "shape": ""
          }
         },
         "name": "Skateboard",
         "offsetgroup": "Skateboard",
         "orientation": "v",
         "showlegend": true,
         "textposition": "auto",
         "type": "bar",
         "x": [
          20
         ],
         "xaxis": "x",
         "y": [
          39.640556328960834
         ],
         "yaxis": "y"
        },
        {
         "alignmentgroup": "True",
         "customdata": [
          [
           "Stretcher",
           0.1275907164611479,
           -0.23281862360384023,
           1.2,
           1.8373063170405297,
           3.6746126340810594,
           0,
           8,
           0.27213752838197547
          ]
         ],
         "hovertemplate": "Name=%{customdata[0]}<br>Load=%{x}<br>Water ration * Km=%{y}<br>Average Trip Velocity=%{customdata[1]}<br>Loaded Velocity=%{customdata[2]}<br>Unloaded Velocity=%{customdata[3]}<br>Distance to Water Achievable=%{customdata[4]}<br>Total Round trip Distance Achievable=%{customdata[5]}<br>Slope=%{customdata[6]}<br>Hours Collecting Water Max=%{customdata[7]}<br>Hours Spent Collecting Single Person Water=%{customdata[8]}<extra></extra>",
         "legendgroup": "Stretcher",
         "marker": {
          "color": "#ab63fa",
          "pattern": {
           "shape": ""
          }
         },
         "name": "Stretcher",
         "offsetgroup": "Stretcher",
         "orientation": "v",
         "showlegend": true,
         "textposition": "auto",
         "type": "bar",
         "x": [
          120
         ],
         "xaxis": "x",
         "y": [
          29.396901072648475
         ],
         "yaxis": "y"
        },
        {
         "alignmentgroup": "True",
         "customdata": [
          [
           "Wheelbarrow",
           0.21392272824872155,
           -0.27377653454230855,
           1.2,
           3.0804872867815902,
           6.1609745735631805,
           0,
           8,
           0.12984958636784674
          ]
         ],
         "hovertemplate": "Name=%{customdata[0]}<br>Load=%{x}<br>Water ration * Km=%{y}<br>Average Trip Velocity=%{customdata[1]}<br>Loaded Velocity=%{customdata[2]}<br>Unloaded Velocity=%{customdata[3]}<br>Distance to Water Achievable=%{customdata[4]}<br>Total Round trip Distance Achievable=%{customdata[5]}<br>Slope=%{customdata[6]}<br>Hours Collecting Water Max=%{customdata[7]}<br>Hours Spent Collecting Single Person Water=%{customdata[8]}<extra></extra>",
         "legendgroup": "Wheelbarrow",
         "marker": {
          "color": "#FFA15A",
          "pattern": {
           "shape": ""
          }
         },
         "name": "Wheelbarrow",
         "offsetgroup": "Wheelbarrow",
         "orientation": "v",
         "showlegend": true,
         "textposition": "auto",
         "type": "bar",
         "x": [
          150
         ],
         "xaxis": "x",
         "y": [
          61.609745735631805
         ],
         "yaxis": "y"
        },
        {
         "alignmentgroup": "True",
         "customdata": [
          [
           "Wheelchair",
           0.40976465046449545,
           -0.016941536272480268,
           1.2,
           5.900610966688734,
           11.801221933377468,
           0,
           8,
           0.12251130778593387
          ]
         ],
         "hovertemplate": "Name=%{customdata[0]}<br>Load=%{x}<br>Water ration * Km=%{y}<br>Average Trip Velocity=%{customdata[1]}<br>Loaded Velocity=%{customdata[2]}<br>Unloaded Velocity=%{customdata[3]}<br>Distance to Water Achievable=%{customdata[4]}<br>Total Round trip Distance Achievable=%{customdata[5]}<br>Slope=%{customdata[6]}<br>Hours Collecting Water Max=%{customdata[7]}<br>Hours Spent Collecting Single Person Water=%{customdata[8]}<extra></extra>",
         "legendgroup": "Wheelchair",
         "marker": {
          "color": "#19d3f3",
          "pattern": {
           "shape": ""
          }
         },
         "name": "Wheelchair",
         "offsetgroup": "Wheelchair",
         "orientation": "v",
         "showlegend": true,
         "textposition": "auto",
         "type": "bar",
         "x": [
          83
         ],
         "xaxis": "x",
         "y": [
          65.30009469802198
         ],
         "yaxis": "y"
        }
       ],
       "layout": {
        "barmode": "relative",
        "legend": {
         "title": {
          "text": "Name"
         },
         "tracegroupgap": 0
        },
        "template": {
         "data": {
          "bar": [
           {
            "error_x": {
             "color": "#2a3f5f"
            },
            "error_y": {
             "color": "#2a3f5f"
            },
            "marker": {
             "line": {
              "color": "#E5ECF6",
              "width": 0.5
             },
             "pattern": {
              "fillmode": "overlay",
              "size": 10,
              "solidity": 0.2
             }
            },
            "type": "bar"
           }
          ],
          "barpolar": [
           {
            "marker": {
             "line": {
              "color": "#E5ECF6",
              "width": 0.5
             },
             "pattern": {
              "fillmode": "overlay",
              "size": 10,
              "solidity": 0.2
             }
            },
            "type": "barpolar"
           }
          ],
          "carpet": [
           {
            "aaxis": {
             "endlinecolor": "#2a3f5f",
             "gridcolor": "white",
             "linecolor": "white",
             "minorgridcolor": "white",
             "startlinecolor": "#2a3f5f"
            },
            "baxis": {
             "endlinecolor": "#2a3f5f",
             "gridcolor": "white",
             "linecolor": "white",
             "minorgridcolor": "white",
             "startlinecolor": "#2a3f5f"
            },
            "type": "carpet"
           }
          ],
          "choropleth": [
           {
            "colorbar": {
             "outlinewidth": 0,
             "ticks": ""
            },
            "type": "choropleth"
           }
          ],
          "contour": [
           {
            "colorbar": {
             "outlinewidth": 0,
             "ticks": ""
            },
            "colorscale": [
             [
              0,
              "#0d0887"
             ],
             [
              0.1111111111111111,
              "#46039f"
             ],
             [
              0.2222222222222222,
              "#7201a8"
             ],
             [
              0.3333333333333333,
              "#9c179e"
             ],
             [
              0.4444444444444444,
              "#bd3786"
             ],
             [
              0.5555555555555556,
              "#d8576b"
             ],
             [
              0.6666666666666666,
              "#ed7953"
             ],
             [
              0.7777777777777778,
              "#fb9f3a"
             ],
             [
              0.8888888888888888,
              "#fdca26"
             ],
             [
              1,
              "#f0f921"
             ]
            ],
            "type": "contour"
           }
          ],
          "contourcarpet": [
           {
            "colorbar": {
             "outlinewidth": 0,
             "ticks": ""
            },
            "type": "contourcarpet"
           }
          ],
          "heatmap": [
           {
            "colorbar": {
             "outlinewidth": 0,
             "ticks": ""
            },
            "colorscale": [
             [
              0,
              "#0d0887"
             ],
             [
              0.1111111111111111,
              "#46039f"
             ],
             [
              0.2222222222222222,
              "#7201a8"
             ],
             [
              0.3333333333333333,
              "#9c179e"
             ],
             [
              0.4444444444444444,
              "#bd3786"
             ],
             [
              0.5555555555555556,
              "#d8576b"
             ],
             [
              0.6666666666666666,
              "#ed7953"
             ],
             [
              0.7777777777777778,
              "#fb9f3a"
             ],
             [
              0.8888888888888888,
              "#fdca26"
             ],
             [
              1,
              "#f0f921"
             ]
            ],
            "type": "heatmap"
           }
          ],
          "heatmapgl": [
           {
            "colorbar": {
             "outlinewidth": 0,
             "ticks": ""
            },
            "colorscale": [
             [
              0,
              "#0d0887"
             ],
             [
              0.1111111111111111,
              "#46039f"
             ],
             [
              0.2222222222222222,
              "#7201a8"
             ],
             [
              0.3333333333333333,
              "#9c179e"
             ],
             [
              0.4444444444444444,
              "#bd3786"
             ],
             [
              0.5555555555555556,
              "#d8576b"
             ],
             [
              0.6666666666666666,
              "#ed7953"
             ],
             [
              0.7777777777777778,
              "#fb9f3a"
             ],
             [
              0.8888888888888888,
              "#fdca26"
             ],
             [
              1,
              "#f0f921"
             ]
            ],
            "type": "heatmapgl"
           }
          ],
          "histogram": [
           {
            "marker": {
             "pattern": {
              "fillmode": "overlay",
              "size": 10,
              "solidity": 0.2
             }
            },
            "type": "histogram"
           }
          ],
          "histogram2d": [
           {
            "colorbar": {
             "outlinewidth": 0,
             "ticks": ""
            },
            "colorscale": [
             [
              0,
              "#0d0887"
             ],
             [
              0.1111111111111111,
              "#46039f"
             ],
             [
              0.2222222222222222,
              "#7201a8"
             ],
             [
              0.3333333333333333,
              "#9c179e"
             ],
             [
              0.4444444444444444,
              "#bd3786"
             ],
             [
              0.5555555555555556,
              "#d8576b"
             ],
             [
              0.6666666666666666,
              "#ed7953"
             ],
             [
              0.7777777777777778,
              "#fb9f3a"
             ],
             [
              0.8888888888888888,
              "#fdca26"
             ],
             [
              1,
              "#f0f921"
             ]
            ],
            "type": "histogram2d"
           }
          ],
          "histogram2dcontour": [
           {
            "colorbar": {
             "outlinewidth": 0,
             "ticks": ""
            },
            "colorscale": [
             [
              0,
              "#0d0887"
             ],
             [
              0.1111111111111111,
              "#46039f"
             ],
             [
              0.2222222222222222,
              "#7201a8"
             ],
             [
              0.3333333333333333,
              "#9c179e"
             ],
             [
              0.4444444444444444,
              "#bd3786"
             ],
             [
              0.5555555555555556,
              "#d8576b"
             ],
             [
              0.6666666666666666,
              "#ed7953"
             ],
             [
              0.7777777777777778,
              "#fb9f3a"
             ],
             [
              0.8888888888888888,
              "#fdca26"
             ],
             [
              1,
              "#f0f921"
             ]
            ],
            "type": "histogram2dcontour"
           }
          ],
          "mesh3d": [
           {
            "colorbar": {
             "outlinewidth": 0,
             "ticks": ""
            },
            "type": "mesh3d"
           }
          ],
          "parcoords": [
           {
            "line": {
             "colorbar": {
              "outlinewidth": 0,
              "ticks": ""
             }
            },
            "type": "parcoords"
           }
          ],
          "pie": [
           {
            "automargin": true,
            "type": "pie"
           }
          ],
          "scatter": [
           {
            "fillpattern": {
             "fillmode": "overlay",
             "size": 10,
             "solidity": 0.2
            },
            "type": "scatter"
           }
          ],
          "scatter3d": [
           {
            "line": {
             "colorbar": {
              "outlinewidth": 0,
              "ticks": ""
             }
            },
            "marker": {
             "colorbar": {
              "outlinewidth": 0,
              "ticks": ""
             }
            },
            "type": "scatter3d"
           }
          ],
          "scattercarpet": [
           {
            "marker": {
             "colorbar": {
              "outlinewidth": 0,
              "ticks": ""
             }
            },
            "type": "scattercarpet"
           }
          ],
          "scattergeo": [
           {
            "marker": {
             "colorbar": {
              "outlinewidth": 0,
              "ticks": ""
             }
            },
            "type": "scattergeo"
           }
          ],
          "scattergl": [
           {
            "marker": {
             "colorbar": {
              "outlinewidth": 0,
              "ticks": ""
             }
            },
            "type": "scattergl"
           }
          ],
          "scattermapbox": [
           {
            "marker": {
             "colorbar": {
              "outlinewidth": 0,
              "ticks": ""
             }
            },
            "type": "scattermapbox"
           }
          ],
          "scatterpolar": [
           {
            "marker": {
             "colorbar": {
              "outlinewidth": 0,
              "ticks": ""
             }
            },
            "type": "scatterpolar"
           }
          ],
          "scatterpolargl": [
           {
            "marker": {
             "colorbar": {
              "outlinewidth": 0,
              "ticks": ""
             }
            },
            "type": "scatterpolargl"
           }
          ],
          "scatterternary": [
           {
            "marker": {
             "colorbar": {
              "outlinewidth": 0,
              "ticks": ""
             }
            },
            "type": "scatterternary"
           }
          ],
          "surface": [
           {
            "colorbar": {
             "outlinewidth": 0,
             "ticks": ""
            },
            "colorscale": [
             [
              0,
              "#0d0887"
             ],
             [
              0.1111111111111111,
              "#46039f"
             ],
             [
              0.2222222222222222,
              "#7201a8"
             ],
             [
              0.3333333333333333,
              "#9c179e"
             ],
             [
              0.4444444444444444,
              "#bd3786"
             ],
             [
              0.5555555555555556,
              "#d8576b"
             ],
             [
              0.6666666666666666,
              "#ed7953"
             ],
             [
              0.7777777777777778,
              "#fb9f3a"
             ],
             [
              0.8888888888888888,
              "#fdca26"
             ],
             [
              1,
              "#f0f921"
             ]
            ],
            "type": "surface"
           }
          ],
          "table": [
           {
            "cells": {
             "fill": {
              "color": "#EBF0F8"
             },
             "line": {
              "color": "white"
             }
            },
            "header": {
             "fill": {
              "color": "#C8D4E3"
             },
             "line": {
              "color": "white"
             }
            },
            "type": "table"
           }
          ]
         },
         "layout": {
          "annotationdefaults": {
           "arrowcolor": "#2a3f5f",
           "arrowhead": 0,
           "arrowwidth": 1
          },
          "autotypenumbers": "strict",
          "coloraxis": {
           "colorbar": {
            "outlinewidth": 0,
            "ticks": ""
           }
          },
          "colorscale": {
           "diverging": [
            [
             0,
             "#8e0152"
            ],
            [
             0.1,
             "#c51b7d"
            ],
            [
             0.2,
             "#de77ae"
            ],
            [
             0.3,
             "#f1b6da"
            ],
            [
             0.4,
             "#fde0ef"
            ],
            [
             0.5,
             "#f7f7f7"
            ],
            [
             0.6,
             "#e6f5d0"
            ],
            [
             0.7,
             "#b8e186"
            ],
            [
             0.8,
             "#7fbc41"
            ],
            [
             0.9,
             "#4d9221"
            ],
            [
             1,
             "#276419"
            ]
           ],
           "sequential": [
            [
             0,
             "#0d0887"
            ],
            [
             0.1111111111111111,
             "#46039f"
            ],
            [
             0.2222222222222222,
             "#7201a8"
            ],
            [
             0.3333333333333333,
             "#9c179e"
            ],
            [
             0.4444444444444444,
             "#bd3786"
            ],
            [
             0.5555555555555556,
             "#d8576b"
            ],
            [
             0.6666666666666666,
             "#ed7953"
            ],
            [
             0.7777777777777778,
             "#fb9f3a"
            ],
            [
             0.8888888888888888,
             "#fdca26"
            ],
            [
             1,
             "#f0f921"
            ]
           ],
           "sequentialminus": [
            [
             0,
             "#0d0887"
            ],
            [
             0.1111111111111111,
             "#46039f"
            ],
            [
             0.2222222222222222,
             "#7201a8"
            ],
            [
             0.3333333333333333,
             "#9c179e"
            ],
            [
             0.4444444444444444,
             "#bd3786"
            ],
            [
             0.5555555555555556,
             "#d8576b"
            ],
            [
             0.6666666666666666,
             "#ed7953"
            ],
            [
             0.7777777777777778,
             "#fb9f3a"
            ],
            [
             0.8888888888888888,
             "#fdca26"
            ],
            [
             1,
             "#f0f921"
            ]
           ]
          },
          "colorway": [
           "#636efa",
           "#EF553B",
           "#00cc96",
           "#ab63fa",
           "#FFA15A",
           "#19d3f3",
           "#FF6692",
           "#B6E880",
           "#FF97FF",
           "#FECB52"
          ],
          "font": {
           "color": "#2a3f5f"
          },
          "geo": {
           "bgcolor": "white",
           "lakecolor": "white",
           "landcolor": "#E5ECF6",
           "showlakes": true,
           "showland": true,
           "subunitcolor": "white"
          },
          "hoverlabel": {
           "align": "left"
          },
          "hovermode": "closest",
          "mapbox": {
           "style": "light"
          },
          "paper_bgcolor": "white",
          "plot_bgcolor": "#E5ECF6",
          "polar": {
           "angularaxis": {
            "gridcolor": "white",
            "linecolor": "white",
            "ticks": ""
           },
           "bgcolor": "#E5ECF6",
           "radialaxis": {
            "gridcolor": "white",
            "linecolor": "white",
            "ticks": ""
           }
          },
          "scene": {
           "xaxis": {
            "backgroundcolor": "#E5ECF6",
            "gridcolor": "white",
            "gridwidth": 2,
            "linecolor": "white",
            "showbackground": true,
            "ticks": "",
            "zerolinecolor": "white"
           },
           "yaxis": {
            "backgroundcolor": "#E5ECF6",
            "gridcolor": "white",
            "gridwidth": 2,
            "linecolor": "white",
            "showbackground": true,
            "ticks": "",
            "zerolinecolor": "white"
           },
           "zaxis": {
            "backgroundcolor": "#E5ECF6",
            "gridcolor": "white",
            "gridwidth": 2,
            "linecolor": "white",
            "showbackground": true,
            "ticks": "",
            "zerolinecolor": "white"
           }
          },
          "shapedefaults": {
           "line": {
            "color": "#2a3f5f"
           }
          },
          "ternary": {
           "aaxis": {
            "gridcolor": "white",
            "linecolor": "white",
            "ticks": ""
           },
           "baxis": {
            "gridcolor": "white",
            "linecolor": "white",
            "ticks": ""
           },
           "bgcolor": "#E5ECF6",
           "caxis": {
            "gridcolor": "white",
            "linecolor": "white",
            "ticks": ""
           }
          },
          "title": {
           "x": 0.05
          },
          "xaxis": {
           "automargin": true,
           "gridcolor": "white",
           "linecolor": "white",
           "ticks": "",
           "title": {
            "standoff": 15
           },
           "zerolinecolor": "white",
           "zerolinewidth": 2
          },
          "yaxis": {
           "automargin": true,
           "gridcolor": "white",
           "linecolor": "white",
           "ticks": "",
           "title": {
            "standoff": 15
           },
           "zerolinecolor": "white",
           "zerolinewidth": 2
          }
         }
        },
        "title": {
         "text": "Efficiency at 0.00 degrees, with model Lankford"
        },
        "xaxis": {
         "anchor": "y",
         "domain": [
          0,
          1
         ],
         "title": {
          "text": "Load"
         }
        },
        "yaxis": {
         "anchor": "x",
         "domain": [
          0,
          1
         ],
         "title": {
          "text": "Water ration * Km"
         }
        }
       }
      }
     },
     "metadata": {},
     "output_type": "display_data"
    },
    {
     "data": {
      "application/vnd.plotly.v1+json": {
       "config": {
        "plotlyServerURL": "https://plotly.com"
       },
       "data": [
        {
         "mode": "lines",
         "name": "Baby Carriage",
         "type": "scatter",
         "x": [
          0,
          1,
          2,
          4.5,
          20
         ],
         "y": [
          0.6178649437343354,
          0.6166674471089754,
          0.6154730524259846,
          0.6125004564816375,
          0.5944744831172314
         ]
        },
        {
         "mode": "lines",
         "name": "Backpack",
         "type": "scatter",
         "x": [
          0,
          1,
          2,
          4.5,
          20
         ],
         "y": [
          0.6099872538796639,
          0.6088073709892216,
          0.607630540008123,
          0.6047016370124915,
          0.5869399913741646
         ]
        },
        {
         "mode": "lines",
         "name": "Bicycle",
         "type": "scatter",
         "x": [
          0,
          1,
          2,
          4.5,
          20
         ],
         "y": [
          0.3470257836865565,
          0.34643385662009063,
          0.34584331133402024,
          0.34437290216629773,
          0.3354346563755204
         ]
        },
        {
         "mode": "lines",
         "name": "Buckets",
         "type": "scatter",
         "x": [
          0,
          1,
          2,
          4.5,
          20
         ],
         "y": [
          0.785683609426278,
          0.7841108868722179,
          0.7825423321155802,
          0.7786389439607242,
          0.7549819890377082
         ]
        },
        {
         "mode": "lines",
         "name": "Cycle Rickshaw",
         "type": "scatter",
         "x": [
          0,
          1,
          2,
          4.5,
          20
         ],
         "y": [
          -0.36740105499078374,
          -0.3663955943475712,
          -0.36539328941359617,
          -0.3629011898003242,
          0.047529160778311826
         ]
        },
        {
         "mode": "lines",
         "name": "Hand Cart",
         "type": "scatter",
         "x": [
          0,
          1,
          2,
          4.5,
          20
         ],
         "y": [
          -0.43382452861890497,
          -0.4326705516621059,
          -0.43152015228534546,
          -0.4286596404242877,
          0.047529160778311826
         ]
        },
        {
         "mode": "lines",
         "name": "Hand Truck",
         "type": "scatter",
         "x": [
          0,
          1,
          2,
          4.5,
          20
         ],
         "y": [
          -0.12821706226313961,
          -0.127746393357374,
          -0.12727736104814083,
          -0.1261118754702701,
          0.047529160778311826
         ]
        },
        {
         "mode": "lines",
         "name": "Luggage",
         "type": "scatter",
         "x": [
          0,
          1,
          2,
          4.5,
          20
         ],
         "y": [
          0.7195421034864915,
          0.7181172667941712,
          0.7166961778193134,
          0.7131596380020145,
          0.6917219928242522
         ]
        },
        {
         "mode": "lines",
         "name": "Roller skates",
         "type": "scatter",
         "x": [
          0,
          1,
          2,
          4.5,
          20
         ],
         "y": [
          0.9482027383068962,
          0.9462666390639898,
          0.9443357398149775,
          0.9395309528878402,
          0.9104208368764862
         ]
        },
        {
         "mode": "lines",
         "name": "Rolling Container",
         "type": "scatter",
         "x": [
          0,
          1,
          2,
          4.5,
          20
         ],
         "y": [
          -0.23555145718841702,
          -0.23484079919769926,
          -0.23413245950901265,
          -0.2323716526758799,
          0.047529160778311826
         ]
        },
        {
         "mode": "lines",
         "name": "Scooter",
         "type": "scatter",
         "x": [
          0,
          1,
          2,
          4.5,
          20
         ],
         "y": [
          0.7528709587021628,
          0.7513716019878933,
          0.7498762046703332,
          0.7461548091417105,
          0.7235988487377176
         ]
        },
        {
         "mode": "lines",
         "name": "Shopping Trolley",
         "type": "scatter",
         "x": [
          0,
          1,
          2,
          4.5,
          20
         ],
         "y": [
          -0.35807758485024455,
          -0.35709297056359046,
          -0.35611145277066475,
          -0.35367106500569007,
          0.047529160778311826
         ]
        },
        {
         "mode": "lines",
         "name": "Skateboard",
         "type": "scatter",
         "x": [
          0,
          1,
          2,
          4.5,
          20
         ],
         "y": [
          0.7758933004575661,
          0.7743424680654851,
          0.7727957412903154,
          0.76894665426632,
          0.7456182030233243
         ]
        },
        {
         "mode": "lines",
         "name": "Stretcher",
         "type": "scatter",
         "x": [
          0,
          1,
          2,
          4.5,
          20
         ],
         "y": [
          -0.23281862360384023,
          -0.23211407595856898,
          -0.23141182925847242,
          -0.22966617985852905,
          0.047529160778311826
         ]
        },
        {
         "mode": "lines",
         "name": "Wheelbarrow",
         "type": "scatter",
         "x": [
          0,
          1,
          2,
          4.5,
          20
         ],
         "y": [
          -0.27377653454230855,
          -0.2729804090614841,
          -0.27218684465897347,
          -0.2702140256274338,
          0.047529160778311826
         ]
        },
        {
         "mode": "lines",
         "name": "Wheelchair",
         "type": "scatter",
         "x": [
          0,
          1,
          2,
          4.5,
          20
         ],
         "y": [
          -0.016941536272480268,
          -0.016719668430703934,
          -0.01649873044892922,
          -0.015950425280551683,
          0.047529160778311826
         ]
        }
       ],
       "layout": {
        "template": {
         "data": {
          "bar": [
           {
            "error_x": {
             "color": "#2a3f5f"
            },
            "error_y": {
             "color": "#2a3f5f"
            },
            "marker": {
             "line": {
              "color": "#E5ECF6",
              "width": 0.5
             },
             "pattern": {
              "fillmode": "overlay",
              "size": 10,
              "solidity": 0.2
             }
            },
            "type": "bar"
           }
          ],
          "barpolar": [
           {
            "marker": {
             "line": {
              "color": "#E5ECF6",
              "width": 0.5
             },
             "pattern": {
              "fillmode": "overlay",
              "size": 10,
              "solidity": 0.2
             }
            },
            "type": "barpolar"
           }
          ],
          "carpet": [
           {
            "aaxis": {
             "endlinecolor": "#2a3f5f",
             "gridcolor": "white",
             "linecolor": "white",
             "minorgridcolor": "white",
             "startlinecolor": "#2a3f5f"
            },
            "baxis": {
             "endlinecolor": "#2a3f5f",
             "gridcolor": "white",
             "linecolor": "white",
             "minorgridcolor": "white",
             "startlinecolor": "#2a3f5f"
            },
            "type": "carpet"
           }
          ],
          "choropleth": [
           {
            "colorbar": {
             "outlinewidth": 0,
             "ticks": ""
            },
            "type": "choropleth"
           }
          ],
          "contour": [
           {
            "colorbar": {
             "outlinewidth": 0,
             "ticks": ""
            },
            "colorscale": [
             [
              0,
              "#0d0887"
             ],
             [
              0.1111111111111111,
              "#46039f"
             ],
             [
              0.2222222222222222,
              "#7201a8"
             ],
             [
              0.3333333333333333,
              "#9c179e"
             ],
             [
              0.4444444444444444,
              "#bd3786"
             ],
             [
              0.5555555555555556,
              "#d8576b"
             ],
             [
              0.6666666666666666,
              "#ed7953"
             ],
             [
              0.7777777777777778,
              "#fb9f3a"
             ],
             [
              0.8888888888888888,
              "#fdca26"
             ],
             [
              1,
              "#f0f921"
             ]
            ],
            "type": "contour"
           }
          ],
          "contourcarpet": [
           {
            "colorbar": {
             "outlinewidth": 0,
             "ticks": ""
            },
            "type": "contourcarpet"
           }
          ],
          "heatmap": [
           {
            "colorbar": {
             "outlinewidth": 0,
             "ticks": ""
            },
            "colorscale": [
             [
              0,
              "#0d0887"
             ],
             [
              0.1111111111111111,
              "#46039f"
             ],
             [
              0.2222222222222222,
              "#7201a8"
             ],
             [
              0.3333333333333333,
              "#9c179e"
             ],
             [
              0.4444444444444444,
              "#bd3786"
             ],
             [
              0.5555555555555556,
              "#d8576b"
             ],
             [
              0.6666666666666666,
              "#ed7953"
             ],
             [
              0.7777777777777778,
              "#fb9f3a"
             ],
             [
              0.8888888888888888,
              "#fdca26"
             ],
             [
              1,
              "#f0f921"
             ]
            ],
            "type": "heatmap"
           }
          ],
          "heatmapgl": [
           {
            "colorbar": {
             "outlinewidth": 0,
             "ticks": ""
            },
            "colorscale": [
             [
              0,
              "#0d0887"
             ],
             [
              0.1111111111111111,
              "#46039f"
             ],
             [
              0.2222222222222222,
              "#7201a8"
             ],
             [
              0.3333333333333333,
              "#9c179e"
             ],
             [
              0.4444444444444444,
              "#bd3786"
             ],
             [
              0.5555555555555556,
              "#d8576b"
             ],
             [
              0.6666666666666666,
              "#ed7953"
             ],
             [
              0.7777777777777778,
              "#fb9f3a"
             ],
             [
              0.8888888888888888,
              "#fdca26"
             ],
             [
              1,
              "#f0f921"
             ]
            ],
            "type": "heatmapgl"
           }
          ],
          "histogram": [
           {
            "marker": {
             "pattern": {
              "fillmode": "overlay",
              "size": 10,
              "solidity": 0.2
             }
            },
            "type": "histogram"
           }
          ],
          "histogram2d": [
           {
            "colorbar": {
             "outlinewidth": 0,
             "ticks": ""
            },
            "colorscale": [
             [
              0,
              "#0d0887"
             ],
             [
              0.1111111111111111,
              "#46039f"
             ],
             [
              0.2222222222222222,
              "#7201a8"
             ],
             [
              0.3333333333333333,
              "#9c179e"
             ],
             [
              0.4444444444444444,
              "#bd3786"
             ],
             [
              0.5555555555555556,
              "#d8576b"
             ],
             [
              0.6666666666666666,
              "#ed7953"
             ],
             [
              0.7777777777777778,
              "#fb9f3a"
             ],
             [
              0.8888888888888888,
              "#fdca26"
             ],
             [
              1,
              "#f0f921"
             ]
            ],
            "type": "histogram2d"
           }
          ],
          "histogram2dcontour": [
           {
            "colorbar": {
             "outlinewidth": 0,
             "ticks": ""
            },
            "colorscale": [
             [
              0,
              "#0d0887"
             ],
             [
              0.1111111111111111,
              "#46039f"
             ],
             [
              0.2222222222222222,
              "#7201a8"
             ],
             [
              0.3333333333333333,
              "#9c179e"
             ],
             [
              0.4444444444444444,
              "#bd3786"
             ],
             [
              0.5555555555555556,
              "#d8576b"
             ],
             [
              0.6666666666666666,
              "#ed7953"
             ],
             [
              0.7777777777777778,
              "#fb9f3a"
             ],
             [
              0.8888888888888888,
              "#fdca26"
             ],
             [
              1,
              "#f0f921"
             ]
            ],
            "type": "histogram2dcontour"
           }
          ],
          "mesh3d": [
           {
            "colorbar": {
             "outlinewidth": 0,
             "ticks": ""
            },
            "type": "mesh3d"
           }
          ],
          "parcoords": [
           {
            "line": {
             "colorbar": {
              "outlinewidth": 0,
              "ticks": ""
             }
            },
            "type": "parcoords"
           }
          ],
          "pie": [
           {
            "automargin": true,
            "type": "pie"
           }
          ],
          "scatter": [
           {
            "fillpattern": {
             "fillmode": "overlay",
             "size": 10,
             "solidity": 0.2
            },
            "type": "scatter"
           }
          ],
          "scatter3d": [
           {
            "line": {
             "colorbar": {
              "outlinewidth": 0,
              "ticks": ""
             }
            },
            "marker": {
             "colorbar": {
              "outlinewidth": 0,
              "ticks": ""
             }
            },
            "type": "scatter3d"
           }
          ],
          "scattercarpet": [
           {
            "marker": {
             "colorbar": {
              "outlinewidth": 0,
              "ticks": ""
             }
            },
            "type": "scattercarpet"
           }
          ],
          "scattergeo": [
           {
            "marker": {
             "colorbar": {
              "outlinewidth": 0,
              "ticks": ""
             }
            },
            "type": "scattergeo"
           }
          ],
          "scattergl": [
           {
            "marker": {
             "colorbar": {
              "outlinewidth": 0,
              "ticks": ""
             }
            },
            "type": "scattergl"
           }
          ],
          "scattermapbox": [
           {
            "marker": {
             "colorbar": {
              "outlinewidth": 0,
              "ticks": ""
             }
            },
            "type": "scattermapbox"
           }
          ],
          "scatterpolar": [
           {
            "marker": {
             "colorbar": {
              "outlinewidth": 0,
              "ticks": ""
             }
            },
            "type": "scatterpolar"
           }
          ],
          "scatterpolargl": [
           {
            "marker": {
             "colorbar": {
              "outlinewidth": 0,
              "ticks": ""
             }
            },
            "type": "scatterpolargl"
           }
          ],
          "scatterternary": [
           {
            "marker": {
             "colorbar": {
              "outlinewidth": 0,
              "ticks": ""
             }
            },
            "type": "scatterternary"
           }
          ],
          "surface": [
           {
            "colorbar": {
             "outlinewidth": 0,
             "ticks": ""
            },
            "colorscale": [
             [
              0,
              "#0d0887"
             ],
             [
              0.1111111111111111,
              "#46039f"
             ],
             [
              0.2222222222222222,
              "#7201a8"
             ],
             [
              0.3333333333333333,
              "#9c179e"
             ],
             [
              0.4444444444444444,
              "#bd3786"
             ],
             [
              0.5555555555555556,
              "#d8576b"
             ],
             [
              0.6666666666666666,
              "#ed7953"
             ],
             [
              0.7777777777777778,
              "#fb9f3a"
             ],
             [
              0.8888888888888888,
              "#fdca26"
             ],
             [
              1,
              "#f0f921"
             ]
            ],
            "type": "surface"
           }
          ],
          "table": [
           {
            "cells": {
             "fill": {
              "color": "#EBF0F8"
             },
             "line": {
              "color": "white"
             }
            },
            "header": {
             "fill": {
              "color": "#C8D4E3"
             },
             "line": {
              "color": "white"
             }
            },
            "type": "table"
           }
          ]
         },
         "layout": {
          "annotationdefaults": {
           "arrowcolor": "#2a3f5f",
           "arrowhead": 0,
           "arrowwidth": 1
          },
          "autotypenumbers": "strict",
          "coloraxis": {
           "colorbar": {
            "outlinewidth": 0,
            "ticks": ""
           }
          },
          "colorscale": {
           "diverging": [
            [
             0,
             "#8e0152"
            ],
            [
             0.1,
             "#c51b7d"
            ],
            [
             0.2,
             "#de77ae"
            ],
            [
             0.3,
             "#f1b6da"
            ],
            [
             0.4,
             "#fde0ef"
            ],
            [
             0.5,
             "#f7f7f7"
            ],
            [
             0.6,
             "#e6f5d0"
            ],
            [
             0.7,
             "#b8e186"
            ],
            [
             0.8,
             "#7fbc41"
            ],
            [
             0.9,
             "#4d9221"
            ],
            [
             1,
             "#276419"
            ]
           ],
           "sequential": [
            [
             0,
             "#0d0887"
            ],
            [
             0.1111111111111111,
             "#46039f"
            ],
            [
             0.2222222222222222,
             "#7201a8"
            ],
            [
             0.3333333333333333,
             "#9c179e"
            ],
            [
             0.4444444444444444,
             "#bd3786"
            ],
            [
             0.5555555555555556,
             "#d8576b"
            ],
            [
             0.6666666666666666,
             "#ed7953"
            ],
            [
             0.7777777777777778,
             "#fb9f3a"
            ],
            [
             0.8888888888888888,
             "#fdca26"
            ],
            [
             1,
             "#f0f921"
            ]
           ],
           "sequentialminus": [
            [
             0,
             "#0d0887"
            ],
            [
             0.1111111111111111,
             "#46039f"
            ],
            [
             0.2222222222222222,
             "#7201a8"
            ],
            [
             0.3333333333333333,
             "#9c179e"
            ],
            [
             0.4444444444444444,
             "#bd3786"
            ],
            [
             0.5555555555555556,
             "#d8576b"
            ],
            [
             0.6666666666666666,
             "#ed7953"
            ],
            [
             0.7777777777777778,
             "#fb9f3a"
            ],
            [
             0.8888888888888888,
             "#fdca26"
            ],
            [
             1,
             "#f0f921"
            ]
           ]
          },
          "colorway": [
           "#636efa",
           "#EF553B",
           "#00cc96",
           "#ab63fa",
           "#FFA15A",
           "#19d3f3",
           "#FF6692",
           "#B6E880",
           "#FF97FF",
           "#FECB52"
          ],
          "font": {
           "color": "#2a3f5f"
          },
          "geo": {
           "bgcolor": "white",
           "lakecolor": "white",
           "landcolor": "#E5ECF6",
           "showlakes": true,
           "showland": true,
           "subunitcolor": "white"
          },
          "hoverlabel": {
           "align": "left"
          },
          "hovermode": "closest",
          "mapbox": {
           "style": "light"
          },
          "paper_bgcolor": "white",
          "plot_bgcolor": "#E5ECF6",
          "polar": {
           "angularaxis": {
            "gridcolor": "white",
            "linecolor": "white",
            "ticks": ""
           },
           "bgcolor": "#E5ECF6",
           "radialaxis": {
            "gridcolor": "white",
            "linecolor": "white",
            "ticks": ""
           }
          },
          "scene": {
           "xaxis": {
            "backgroundcolor": "#E5ECF6",
            "gridcolor": "white",
            "gridwidth": 2,
            "linecolor": "white",
            "showbackground": true,
            "ticks": "",
            "zerolinecolor": "white"
           },
           "yaxis": {
            "backgroundcolor": "#E5ECF6",
            "gridcolor": "white",
            "gridwidth": 2,
            "linecolor": "white",
            "showbackground": true,
            "ticks": "",
            "zerolinecolor": "white"
           },
           "zaxis": {
            "backgroundcolor": "#E5ECF6",
            "gridcolor": "white",
            "gridwidth": 2,
            "linecolor": "white",
            "showbackground": true,
            "ticks": "",
            "zerolinecolor": "white"
           }
          },
          "shapedefaults": {
           "line": {
            "color": "#2a3f5f"
           }
          },
          "ternary": {
           "aaxis": {
            "gridcolor": "white",
            "linecolor": "white",
            "ticks": ""
           },
           "baxis": {
            "gridcolor": "white",
            "linecolor": "white",
            "ticks": ""
           },
           "bgcolor": "#E5ECF6",
           "caxis": {
            "gridcolor": "white",
            "linecolor": "white",
            "ticks": ""
           }
          },
          "title": {
           "x": 0.05
          },
          "xaxis": {
           "automargin": true,
           "gridcolor": "white",
           "linecolor": "white",
           "ticks": "",
           "title": {
            "standoff": 15
           },
           "zerolinecolor": "white",
           "zerolinewidth": 2
          },
          "yaxis": {
           "automargin": true,
           "gridcolor": "white",
           "linecolor": "white",
           "ticks": "",
           "title": {
            "standoff": 15
           },
           "zerolinecolor": "white",
           "zerolinewidth": 2
          }
         }
        },
        "title": {
         "text": "m/s with different slope, maximum kg load, model Lankford"
        },
        "xaxis": {
         "title": {
          "text": "Slope [˚]"
         }
        },
        "yaxis": {
         "title": {
          "text": "m/s"
         }
        }
       }
      }
     },
     "metadata": {},
     "output_type": "display_data"
    }
   ],
   "source": [
    "# Visualization of results using Plotly for interactive plots.\n",
    "# Utilizes custom plotting functions defined in the mobility module to create visual representations of the results.\n",
    "# Different types of plots (like load plots, bar plots, slope plots) are generated based on the results.\n",
    "# These plots help in understanding and interpreting the data and outcomes of the mobility models.\n",
    "mm.plotting_hpv.load_plot_plotly(mr, mo, hpv)  # Generating a load plot.\n",
    "mm.plotting_hpv.bar_plot_loading_distance(mr, mo, hpv, mv)  # Creating a bar plot for loading distance.\n",
    "mm.plotting_hpv.slope_plot_plotly(mr, mo, hpv)  # Producing a slope plot.\n"
   ]
  },
  {
   "cell_type": "markdown",
   "metadata": {},
   "source": [
    "Export results to a CSV file for external use. This cell checks if the export feature is enabled and, if so, formats the relevant data into a DataFrame and saves it as a CSV file for further use."
   ]
  },
  {
   "cell_type": "code",
   "execution_count": 27,
   "metadata": {},
   "outputs": [],
   "source": [
    "# Optional export of tabular results to a CSV file.\n",
    "# If 'export_table' is set to 1, the efficiency data for a particular scenario is formatted into a DataFrame and saved as a CSV.\n",
    "# This feature allows for external analysis or sharing of the results.\n",
    "export_table = 0  # Set to 1 to enable exporting.\n",
    "if export_table == 1:\n",
    "    slope_name = mr.slope_vector_deg.flat[mo.slope_scene]  # Extracting the slope name for the title.\n",
    "    chart_title = f\"Efficiency at {slope_name:.2f} degrees, with model {mr.model_name}\"  # Formatting chart title.\n",
    "    df = mr.create_dataframe_single_scenario(hpv, mv, mo.load_scene, mo.slope_scene)  # Creating DataFrame for export.\n",
    "    df.to_csv(\"efficiency.csv\")  # Exporting the DataFrame to a CSV file.\n"
   ]
  },
  {
   "cell_type": "code",
   "execution_count": 28,
   "metadata": {},
   "outputs": [
    {
     "ename": "IndentationError",
     "evalue": "expected an indented block (3026729163.py, line 11)",
     "output_type": "error",
     "traceback": [
      "\u001b[0;36m  Cell \u001b[0;32mIn[28], line 11\u001b[0;36m\u001b[0m\n\u001b[0;31m    load_v = mr.v_load_matrix3d[\u001b[0m\n\u001b[0m    ^\u001b[0m\n\u001b[0;31mIndentationError\u001b[0m\u001b[0;31m:\u001b[0m expected an indented block\n"
     ]
    }
   ],
   "source": [
    "\n",
    "    # This  cell creates a lookup table for a given Crr.\n",
    "    # The rows are it's slope and then the loaded and unloaded velocity is given for each slope.\n",
    "    # Load is held constant\n",
    "\n",
    "\n",
    "\n",
    "\n",
    "export_lookup_table = 0\n",
    "if export_lookup_table == 1:\n",
    "    #something\n",
    "    load_v = mr.v_load_matrix3d[\n",
    "        0, :, -1\n",
    "    ]\n",
    "\n",
    "    unload_v = mr.v_unload_matrix3d[\n",
    "        0, :, -1\n",
    "    ]\n",
    "\n",
    "    load_vector= mr.load_matrix3d[\n",
    "        0, :, -1\n",
    "    ]\n",
    "\n",
    "    slope_vector = mr.slope_matrix3d_deg[\n",
    "        0, :, -1\n",
    "    ]\n",
    "\n",
    "    filename_string = f'{mr.hpv_name[0][0][0][0]}_Crr_{hpv.Crr[0][0][0]}'\n",
    "\n",
    "    # create a dataframe with the data\n",
    "    df = pd.DataFrame(\n",
    "        {\n",
    "            \"slope_vector\": slope_vector,\n",
    "            \"load_v\": load_v,\n",
    "            \"unload_v\": unload_v,\n",
    "            \"load_matrix\": load_vector,\n",
    "        }\n",
    "    )\n",
    "    # setindex slope\n",
    "    df.set_index(\"slope_vector\", inplace=True)\n",
    "\n",
    "    # save the dataframe to a csv\n",
    "    df.to_csv(f'../data/{filename_string}.csv')\n",
    "\n"
   ]
  }
 ],
 "metadata": {
  "kernelspec": {
   "display_name": "Python 3.9.13 (conda)",
   "language": "python",
   "name": "python3"
  },
  "language_info": {
   "codemirror_mode": {
    "name": "ipython",
    "version": 3
   },
   "file_extension": ".py",
   "mimetype": "text/x-python",
   "name": "python",
   "nbconvert_exporter": "python",
   "pygments_lexer": "ipython3",
   "version": "3.9.18"
  },
  "orig_nbformat": 4,
  "vscode": {
   "interpreter": {
    "hash": "c09a8b249899dc4589e662892666698668e7a3ca1327801a18c24efb244ad2c6"
   }
  }
 },
 "nbformat": 4,
 "nbformat_minor": 2
}
