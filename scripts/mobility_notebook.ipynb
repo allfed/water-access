{
 "cells": [
  {
   "cell_type": "markdown",
   "metadata": {},
   "source": [
    "Welcome to the mobility notebook. This notebook does an in-depth analysis of the mobility of HPVs for carrying water. It uses the mobility_module.py package, this is where all of the models are stored.\n",
    "\n"
   ]
  },
  {
   "cell_type": "code",
   "execution_count": 1,
   "metadata": {},
   "outputs": [],
   "source": [
    "# Importing necessary modules\n",
    "import sys  # Provides access to some variables used by the interpreter\n",
    "from pathlib import Path  # Used for filesystem path operations\n",
    "\n",
    "# Resolve the current path of the notebook. Path().resolve() returns the absolute path\n",
    "# of the current working directory (where this notebook is located).\n",
    "notebook_path = Path().resolve()\n",
    "\n",
    "# Determine the project root directory. Since 'notebook_path' points to the 'scripts'\n",
    "# directory, its parent will be the root directory of your project (which contains both 'scripts' and 'src').\n",
    "project_root = notebook_path.parent\n",
    "\n",
    "# Append the project root directory to sys.path. This step is crucial as it allows\n",
    "# Python to find and import modules from the 'src' directory, which is located at the project root.\n",
    "# It essentially adds the project root to the list of directories where Python looks for modules.\n",
    "sys.path.append(str(project_root))\n",
    "\n",
    "# Importing standard and third-party libraries necessary for your script.\n",
    "# These libraries are likely installed in your Conda environment or Python's site-packages.\n",
    "import pandas as pd  # Data manipulation and analysis library\n",
    "import plotly.express as px  # Simplified interface for Plotly\n",
    "\n",
    "# Importing custom modules from the 'src' directory.\n",
    "# Thanks to modifying sys.path, Python can now find these modules.\n",
    "import src.mobility_module as mm  # Custom module for mobility-related functionalities\n",
    "\n"
   ]
  },
  {
   "cell_type": "code",
   "execution_count": 2,
   "metadata": {},
   "outputs": [],
   "source": [
    "######################\n",
    "#### Import Data #####\n",
    "file_path_params = \"../data/lookup tables/mobility-model-parameters.csv\"\n",
    "allHPV_param_df = pd.read_csv(file_path_params)\n",
    "\n",
    "mo = mm.model_options()"
   ]
  },
  {
   "cell_type": "markdown",
   "metadata": {},
   "source": [
    "Below, choose which model to use, 1 = Sprott, 2 = Cycling, 3 = walking "
   ]
  },
  {
   "cell_type": "code",
   "execution_count": 3,
   "metadata": {},
   "outputs": [],
   "source": [
    "# Setting model options based on user selection.\n",
    "# This cell is responsible for configuring the behavior of the mobility model.\n",
    "# The variable 'mo.model_selection' is set to a specific model type.\n",
    "# Each number corresponds to a different model:\n",
    "# 1 for the Sprott model, 2 for Cycling, and 3 for Walking.\n",
    "mo.model_selection = 1  # Example: Selecting the Cycling model.\n"
   ]
  },
  {
   "cell_type": "markdown",
   "metadata": {},
   "source": [
    "Apply data filtering based on the selected mobility model. This cell determines which subset of HPV data to use for analysis, ensuring the data aligns with the model requirements."
   ]
  },
  {
   "cell_type": "code",
   "execution_count": 4,
   "metadata": {},
   "outputs": [],
   "source": [
    "# Filtering HPV data based on the model selection.\n",
    "# This cell applies filters to the HPV data to include only relevant data for the selected model.\n",
    "# Different conditions are checked based on the model chosen in the previous cell.\n",
    "# For model 1 (Sprott), all options are included.\n",
    "# For model 2 (Cycling), a specific subset of data is used.\n",
    "# For models greater than 2 (Walking), another subset of data is selected.\n",
    "if mo.model_selection == 1:\n",
    "    # Sprott model: Include all options.\n",
    "    filter_col = -1\n",
    "    filter_value = 1\n",
    "elif mo.model_selection == 2:\n",
    "    # Cycling model: Apply specific filter.\n",
    "    filter_col = 5\n",
    "    filter_value = 1\n",
    "if mo.model_selection > 2:\n",
    "    # Walking model: Another filter configuration.\n",
    "    filter_col = 6\n",
    "    filter_value = 0\n"
   ]
  },
  {
   "cell_type": "markdown",
   "metadata": {},
   "source": [
    "Comment: Filter and select HPV data based on specified criteria. This cell determines the subset of HPV data to include in the analysis, ensuring it aligns with the specific conditions set by the chosen mobility model."
   ]
  },
  {
   "cell_type": "code",
   "execution_count": 5,
   "metadata": {},
   "outputs": [],
   "source": [
    "# Selecting specific Human-Powered Vehicles (HPVs) for analysis.\n",
    "# Depending on the filter applied in the previous cell, this cell filters the HPV data.\n",
    "# The filtered data is stored in 'param_df'.\n",
    "# If 'filter_col' is greater than 0, a specific column from the data is used for filtering.\n",
    "# Else, all data in 'allHPV_param_df' is used.\n",
    "if filter_col > 0:\n",
    "    column_names = [\n",
    "        \"Name\",\n",
    "        \"LoadLimit\",\n",
    "        \"AverageSpeedWithoutLoad\",\n",
    "        \"Drive\",\n",
    "        \"GroundContact\",\n",
    "        \"Pilot\",\n",
    "        \"Crr\",\n",
    "        \"Efficiency\",\n",
    "        \"Weight\",\n",
    "    ]  # \n",
    "    col = column_names[filter_col]\n",
    "    param_df = allHPV_param_df.loc[(allHPV_param_df[col] == filter_value)]\n",
    "else:\n",
    "    param_df = allHPV_param_df  # Use all data if no filter is applied.\n",
    "\n"
   ]
  },
  {
   "cell_type": "markdown",
   "metadata": {},
   "source": [
    " Initialize and configure variables and models. This cell sets up the core components of the mobility analysis, preparing for the execution of mobility models and result handling."
   ]
  },
  {
   "cell_type": "code",
   "execution_count": 6,
   "metadata": {},
   "outputs": [],
   "source": [
    "# Initializing and setting up various variables and models for analysis.\n",
    "# This cell creates instances of different classes defined in the mobility module.\n",
    "# Each class instance represents a different aspect of the mobility model.\n",
    "# 'mv' (model variables) captures general variables used across models.\n",
    "# 'met' (MET values) encapsulates Metabolic Equivalent of Task values, relevant for human energy expenditure.\n",
    "# 'hpv' (HPV variables) contains variables specific to Human-Powered Vehicles.\n",
    "# 'mr' (model results) is used for storing and handling results of the mobility model calculations.\n",
    "mv = mm.model_variables()\n",
    "met = mm.MET_values(mv)\n",
    "hpv = mm.HPV_variables(param_df, mv)\n",
    "mr = mm.model_results(hpv, mo)\n"
   ]
  },
  {
   "cell_type": "code",
   "execution_count": 7,
   "metadata": {},
   "outputs": [],
   "source": [
    "# Customizing the scenario by modifying specific variables. Only used for creating custom scenarios.\n",
    "\n",
    "export_lookup_table = 0\n",
    "if export_lookup_table == 1:\n",
    "    # change crr for different scenarios\n",
    "    hpv.Crr[0][0][0] = 0.004"
   ]
  },
  {
   "cell_type": "markdown",
   "metadata": {},
   "source": [
    "Execute the selected mobility model and store results. This cell runs the chosen mobility model (Sprott or numerical) and captures the output in terms of vehicle velocity and load capacities."
   ]
  },
  {
   "cell_type": "code",
   "execution_count": 8,
   "metadata": {
    "tags": []
   },
   "outputs": [],
   "source": [
    "# Executing the mobility model based on the previously set configurations.\n",
    "# The cell differentiates between the Sprott model and other numerical models.\n",
    "# Based on 'model_selection', the appropriate mobility model function is called.\n",
    "# The results of the model (velocity and load matrices) are stored in 'mr'.\n",
    "if mo.model_selection == 1:\n",
    "    # Execute the Sprott model for model_selection 1.\n",
    "    mr.v_load_matrix3d, mr.load_matrix3d = mm.mobility_models.sprott_model(hpv, mv, mo, mr)\n",
    "elif mo.model_selection > 1:\n",
    "    # Execute the numerical mobility model for other selections.\n",
    "    mr.v_load_matrix3d, mr.load_matrix3d = mm.mobility_models.numerical_mobility_model(mr, mv, mo, met, hpv)\n",
    "\n"
   ]
  },
  {
   "cell_type": "markdown",
   "metadata": {},
   "source": [
    " Prepare and organize results for analysis. This cell configures the conditions for analyzing the results from the mobility models and loads the results accordingly for subsequent visualization or export."
   ]
  },
  {
   "cell_type": "code",
   "execution_count": 9,
   "metadata": {},
   "outputs": [],
   "source": [
    "\n",
    "# Organizing and preparing the results from the mobility model for analysis.\n",
    "# This cell sets up the conditions under which the results are to be analyzed.\n",
    "# It includes setting the 'slope_scene', which might represent a particular scenario or condition in the analysis.\n",
    "# The results are then loaded and prepared for further processing or visualization.\n",
    "mo.slope_scene = 0  # Example: Setting the slope scene to 0.\n",
    "mr.load_results(hpv, mv, mo)  # Loading the results for the specified conditions.\n",
    "\n"
   ]
  },
  {
   "cell_type": "markdown",
   "metadata": {},
   "source": [
    " Visualize model results using interactive plots. This cell creates various types of plots to display the outcomes of the mobility analysis, making the data more accessible and understandable."
   ]
  },
  {
   "cell_type": "code",
   "execution_count": 10,
   "metadata": {},
   "outputs": [
    {
     "data": {
      "application/vnd.plotly.v1+json": {
       "config": {
        "plotlyServerURL": "https://plot.ly"
       },
       "data": [
        {
         "mode": "lines",
         "name": "Baby Carriage",
         "type": "scatter",
         "x": [
          0,
          1.4285714285714286,
          2.857142857142857,
          4.285714285714286,
          5.714285714285714,
          7.142857142857143,
          8.571428571428571,
          10,
          11.428571428571429,
          12.857142857142858,
          14.285714285714286,
          15.714285714285715,
          17.142857142857142,
          18.571428571428573,
          20
         ],
         "y": [
          1.091230801216588,
          1.090336033361423,
          1.0894420039926276,
          1.08854871309753,
          1.0876561606619697,
          1.086764346670295,
          1.0858732711053636,
          1.0849829339485444,
          1.084093335179716,
          1.0832044747772682,
          1.082316352718101,
          1.0814289689776255,
          1.0805423235297649,
          1.0796564163469524,
          1.0787712474001343
         ]
        },
        {
         "mode": "lines",
         "name": "Backpack",
         "type": "scatter",
         "x": [
          0,
          2.142857142857143,
          4.285714285714286,
          6.428571428571429,
          8.571428571428571,
          10.714285714285714,
          12.857142857142858,
          15,
          17.142857142857142,
          19.285714285714285,
          21.428571428571427,
          23.57142857142857,
          25.714285714285715,
          27.857142857142858,
          30
         ],
         "y": [
          1.0931159797382648,
          1.0748453451719688,
          1.0574612555394713,
          1.0408942583229042,
          1.0250822871807472,
          1.0099696817542028,
          0.9955063619089473,
          0.9816471284559248,
          0.9683510680761255,
          0.9555810445815361,
          0.9433032620888413,
          0.9314868883931446,
          0.9201037289764227,
          0.9091279437972883,
          0.8985358003813708
         ]
        },
        {
         "mode": "lines",
         "name": "Bicycle",
         "type": "scatter",
         "x": [
          0,
          4.857142857142857,
          9.714285714285714,
          14.57142857142857,
          19.428571428571427,
          24.285714285714285,
          29.14285714285714,
          34,
          38.857142857142854,
          43.71428571428571,
          48.57142857142857,
          53.42857142857142,
          58.28571428571428,
          63.14285714285714,
          68
         ],
         "y": [
          1.849899549357835,
          1.8465527162647755,
          1.8432121136794073,
          1.839877740588804,
          1.8365495959190599,
          1.8332276785353419,
          1.829911987241943,
          1.8266025207823444,
          1.8232992778392756,
          1.8200022570347776,
          1.8167114569302723,
          1.8134268760266314,
          1.8101485127642516,
          1.8068763655231281,
          1.8036104326229372
         ]
        },
        {
         "mode": "lines",
         "name": "Buckets",
         "type": "scatter",
         "x": [
          0,
          1.4285714285714286,
          2.857142857142857,
          4.285714285714286,
          5.714285714285714,
          7.142857142857143,
          8.571428571428571,
          10,
          11.428571428571429,
          12.857142857142858,
          14.285714285714286,
          15.714285714285715,
          17.142857142857142,
          18.571428571428573,
          20
         ],
         "y": [
          1.0931159797382648,
          1.0808333878569945,
          1.0689557373070169,
          1.0574612555394713,
          1.046329774437086,
          1.035542581434166,
          1.0250822871807472,
          1.0149327076211823,
          1.0050787586676388,
          0.9955063619089473,
          0.9862023600138967,
          0.9771544406726391,
          0.9683510680761255,
          0.959781421066282,
          0.9514353372027661
         ]
        },
        {
         "mode": "lines",
         "name": "Cycle Rickshaw",
         "type": "scatter",
         "x": [
          0,
          13.428571428571429,
          26.857142857142858,
          40.285714285714285,
          53.714285714285715,
          67.14285714285714,
          80.57142857142857,
          94,
          107.42857142857143,
          120.85714285714286,
          134.28571428571428,
          147.71428571428572,
          161.14285714285714,
          174.57142857142858,
          188
         ],
         "y": [
          1.7280948395995652,
          1.7052863412462542,
          1.6828109770222068,
          1.6606672291820337,
          1.638853418049001,
          1.617367706263567,
          1.5962081033751139,
          1.5753724707509142,
          1.5548585267750545,
          1.5346638523090885,
          1.514785896385408,
          1.4952219821038928,
          1.4759693127021358,
          1.4570249777695887,
          1.4383859595762392
         ]
        },
        {
         "mode": "lines",
         "name": "Hand Cart",
         "type": "scatter",
         "x": [
          0,
          16.214285714285715,
          32.42857142857143,
          48.642857142857146,
          64.85714285714286,
          81.07142857142858,
          97.28571428571429,
          113.5,
          129.71428571428572,
          145.92857142857144,
          162.14285714285717,
          178.35714285714286,
          194.57142857142858,
          210.7857142857143,
          227
         ],
         "y": [
          1.071672524500294,
          1.0617449992080623,
          1.0519124551691494,
          1.0421747923179459,
          1.0325318861846526,
          1.0229835880558609,
          1.0135297251657966,
          1.004170100917654,
          0.9949044951343627,
          0.9857326643380503,
          0.9766543420573757,
          0.9676692391618461,
          0.9587770442221474,
          0.949977423895463,
          0.9412700233346911
         ]
        },
        {
         "mode": "lines",
         "name": "Hand Truck",
         "type": "scatter",
         "x": [
          0,
          8.142857142857142,
          16.285714285714285,
          24.428571428571427,
          32.57142857142857,
          40.71428571428571,
          48.857142857142854,
          57,
          65.14285714285714,
          73.28571428571428,
          81.42857142857142,
          89.57142857142857,
          97.71428571428571,
          105.85714285714285,
          114
         ],
         "y": [
          1.0896654421023968,
          1.0845825231283157,
          1.0795235939431145,
          1.0744886497727502,
          1.0694776842726812,
          1.064490689529944,
          1.0595276560657443,
          1.0545885728385567,
          1.0496734272477322,
          1.0447822051376097,
          1.0399148908021316,
          1.035071466989956,
          1.0302519149100622,
          1.0254562142378496,
          1.0206843431217194
         ]
        },
        {
         "mode": "lines",
         "name": "Luggage",
         "type": "scatter",
         "x": [
          0,
          1.4285714285714286,
          2.857142857142857,
          4.285714285714286,
          5.714285714285714,
          7.142857142857143,
          8.571428571428571,
          10,
          11.428571428571429,
          12.857142857142858,
          14.285714285714286,
          15.714285714285715,
          17.142857142857142,
          18.571428571428573,
          20
         ],
         "y": [
          1.0949968907048535,
          1.0940990211022046,
          1.0932018900228677,
          1.0923054974604318,
          1.0914098434069957,
          1.0905149278531674,
          1.0896207507880638,
          1.088727312199312,
          1.0878346120730487,
          1.0869426503939204,
          1.0860514271450832,
          1.0851609423082034,
          1.084271195863458,
          1.0833821877895347,
          1.0824939180636306
         ]
        },
        {
         "mode": "lines",
         "name": "Roller skates",
         "type": "scatter",
         "x": [
          0,
          2.9285714285714284,
          5.857142857142857,
          8.785714285714285,
          11.714285714285714,
          14.642857142857142,
          17.57142857142857,
          20.5,
          23.428571428571427,
          26.357142857142854,
          29.285714285714285,
          32.214285714285715,
          35.14285714285714,
          38.07142857142857,
          41
         ],
         "y": [
          1.284133451010202,
          1.2814942705448504,
          1.2788607724525987,
          1.2762329550243436,
          1.2736108164797642,
          1.2709943549674338,
          1.268383568564938,
          1.2657784552789957,
          1.2631790130455827,
          1.2605852397300634,
          1.2579971331273243,
          1.255414690961913,
          1.2528379108881793,
          1.2502667904904246,
          1.2477013272830508
         ]
        },
        {
         "mode": "lines",
         "name": "Rolling Container",
         "type": "scatter",
         "x": [
          0,
          11.285714285714286,
          22.571428571428573,
          33.85714285714286,
          45.142857142857146,
          56.42857142857143,
          67.71428571428572,
          79,
          90.28571428571429,
          101.57142857142858,
          112.85714285714286,
          124.14285714285715,
          135.42857142857144,
          146.71428571428572,
          158
         ],
         "y": [
          1.0971997924429455,
          1.095423637481538,
          1.0936503632474877,
          1.0918799697027495,
          1.0901124567865963,
          1.0883478244156217,
          1.086586072483744,
          1.084827200862208,
          1.083071209399593,
          1.0813180979218167,
          1.079567866232143,
          1.0778205141111898,
          1.0760760413169363,
          1.074334447584735,
          1.072595732627319
         ]
        },
        {
         "mode": "lines",
         "name": "Scooter",
         "type": "scatter",
         "x": [
          0,
          2.7142857142857144,
          5.428571428571429,
          8.142857142857142,
          10.857142857142858,
          13.571428571428573,
          16.285714285714285,
          19,
          21.714285714285715,
          24.42857142857143,
          27.142857142857146,
          29.857142857142858,
          32.57142857142857,
          35.285714285714285,
          38
         ],
         "y": [
          1.2848553862312801,
          1.2824076848712027,
          1.279964865235524,
          1.277526925985261,
          1.2750938657288462,
          1.2726656830222005,
          1.2702423763688142,
          1.2678239442198267,
          1.2654103849741107,
          1.2630016969783584,
          1.2605978785271708,
          1.25819892786315,
          1.2558048431769937,
          1.2534156226075936,
          1.2510312642421346
         ]
        },
        {
         "mode": "lines",
         "name": "Shopping Trolley",
         "type": "scatter",
         "x": [
          0,
          13.928571428571429,
          27.857142857142858,
          41.785714285714285,
          55.714285714285715,
          69.64285714285714,
          83.57142857142857,
          97.5,
          111.42857142857143,
          125.35714285714286,
          139.28571428571428,
          153.21428571428572,
          167.14285714285714,
          181.07142857142858,
          195
         ],
         "y": [
          1.084048874623578,
          1.0754143375576168,
          1.0668499627176093,
          1.0583557091622715,
          1.0499315225602266,
          1.041577335241943,
          1.0332930662642894,
          1.0250786214875747,
          1.0169338936648973,
          1.008858762543608,
          1.0008530949786643,
          0.9929167450576262,
          0.9850495542370282,
          0.9772513514898238,
          0.9695219534635976
         ]
        },
        {
         "mode": "lines",
         "name": "Skateboard",
         "type": "scatter",
         "x": [
          0,
          4.357142857142857,
          8.714285714285714,
          13.07142857142857,
          17.428571428571427,
          21.785714285714285,
          26.14285714285714,
          30.499999999999996,
          34.857142857142854,
          39.21428571428571,
          43.57142857142857,
          47.92857142857142,
          52.28571428571428,
          56.64285714285714,
          61
         ],
         "y": [
          1.2850359363144377,
          1.281108525683088,
          1.277193692784856,
          1.2732914318995465,
          1.2694017369583601,
          1.26552460154474,
          1.2616600188952651,
          1.257807981900594,
          1.2539684831064515,
          1.2501415147146644,
          1.2463270685842434,
          1.2425251362325107,
          1.2387357088362716,
          1.2349587772330344,
          1.2311943319222725
         ]
        },
        {
         "mode": "lines",
         "name": "Stretcher",
         "type": "scatter",
         "x": [
          0,
          8.571428571428571,
          17.142857142857142,
          25.714285714285715,
          34.285714285714285,
          42.857142857142854,
          51.42857142857143,
          60,
          68.57142857142857,
          77.14285714285714,
          85.71428571428571,
          94.28571428571428,
          102.85714285714286,
          111.42857142857143,
          120
         ],
         "y": [
          0.8598952795581577,
          0.8255770085283355,
          0.7950647829438436,
          0.7677033961873669,
          0.7429854042910762,
          0.7205108688439548,
          0.6999597414498495,
          0.6810724511238087,
          0.6636359622578933,
          0.6474735698563233,
          0.6324373030108016,
          0.6184021836921862,
          0.6052618280740695,
          0.5929250344755387,
          0.5813131066212277
         ]
        },
        {
         "mode": "lines",
         "name": "Wheelbarrow",
         "type": "scatter",
         "x": [
          0,
          10.714285714285714,
          21.428571428571427,
          32.14285714285714,
          42.857142857142854,
          53.57142857142857,
          64.28571428571428,
          75,
          85.71428571428571,
          96.42857142857142,
          107.14285714285714,
          117.85714285714285,
          128.57142857142856,
          139.28571428571428,
          150
         ],
         "y": [
          1.0818725685596218,
          1.0752379533396514,
          1.0686448540829188,
          1.0620932527326892,
          1.055583126540424,
          1.0491144480786565,
          1.0426871852564936,
          1.0363013013377278,
          1.0299567549615265,
          1.023653500165683,
          1.017391486412391,
          1.0111706586165108,
          1.0049909571762905,
          0.9988523180065059,
          0.9927546725739689
         ]
        },
        {
         "mode": "lines",
         "name": "Wheelchair",
         "type": "scatter",
         "x": [
          0,
          5.928571428571429,
          11.857142857142858,
          17.785714285714285,
          23.714285714285715,
          29.642857142857146,
          35.57142857142857,
          41.5,
          47.42857142857143,
          53.35714285714286,
          59.28571428571429,
          65.21428571428572,
          71.14285714285714,
          77.07142857142857,
          83
         ],
         "y": [
          1.0862296127212858,
          1.0825383140145293,
          1.078859731075055,
          1.0751938618980998,
          1.0715407040376619,
          1.0679002546069234,
          1.0642725102787538,
          1.0606574672862858,
          1.0570551214235684,
          1.0534654680462952,
          1.0498885020726088,
          1.046324217983979,
          1.0427726098261572,
          1.039233671210203,
          1.0357073953135865
         ]
        }
       ],
       "layout": {
        "template": {
         "data": {
          "bar": [
           {
            "error_x": {
             "color": "#2a3f5f"
            },
            "error_y": {
             "color": "#2a3f5f"
            },
            "marker": {
             "line": {
              "color": "#E5ECF6",
              "width": 0.5
             },
             "pattern": {
              "fillmode": "overlay",
              "size": 10,
              "solidity": 0.2
             }
            },
            "type": "bar"
           }
          ],
          "barpolar": [
           {
            "marker": {
             "line": {
              "color": "#E5ECF6",
              "width": 0.5
             },
             "pattern": {
              "fillmode": "overlay",
              "size": 10,
              "solidity": 0.2
             }
            },
            "type": "barpolar"
           }
          ],
          "carpet": [
           {
            "aaxis": {
             "endlinecolor": "#2a3f5f",
             "gridcolor": "white",
             "linecolor": "white",
             "minorgridcolor": "white",
             "startlinecolor": "#2a3f5f"
            },
            "baxis": {
             "endlinecolor": "#2a3f5f",
             "gridcolor": "white",
             "linecolor": "white",
             "minorgridcolor": "white",
             "startlinecolor": "#2a3f5f"
            },
            "type": "carpet"
           }
          ],
          "choropleth": [
           {
            "colorbar": {
             "outlinewidth": 0,
             "ticks": ""
            },
            "type": "choropleth"
           }
          ],
          "contour": [
           {
            "colorbar": {
             "outlinewidth": 0,
             "ticks": ""
            },
            "colorscale": [
             [
              0,
              "#0d0887"
             ],
             [
              0.1111111111111111,
              "#46039f"
             ],
             [
              0.2222222222222222,
              "#7201a8"
             ],
             [
              0.3333333333333333,
              "#9c179e"
             ],
             [
              0.4444444444444444,
              "#bd3786"
             ],
             [
              0.5555555555555556,
              "#d8576b"
             ],
             [
              0.6666666666666666,
              "#ed7953"
             ],
             [
              0.7777777777777778,
              "#fb9f3a"
             ],
             [
              0.8888888888888888,
              "#fdca26"
             ],
             [
              1,
              "#f0f921"
             ]
            ],
            "type": "contour"
           }
          ],
          "contourcarpet": [
           {
            "colorbar": {
             "outlinewidth": 0,
             "ticks": ""
            },
            "type": "contourcarpet"
           }
          ],
          "heatmap": [
           {
            "colorbar": {
             "outlinewidth": 0,
             "ticks": ""
            },
            "colorscale": [
             [
              0,
              "#0d0887"
             ],
             [
              0.1111111111111111,
              "#46039f"
             ],
             [
              0.2222222222222222,
              "#7201a8"
             ],
             [
              0.3333333333333333,
              "#9c179e"
             ],
             [
              0.4444444444444444,
              "#bd3786"
             ],
             [
              0.5555555555555556,
              "#d8576b"
             ],
             [
              0.6666666666666666,
              "#ed7953"
             ],
             [
              0.7777777777777778,
              "#fb9f3a"
             ],
             [
              0.8888888888888888,
              "#fdca26"
             ],
             [
              1,
              "#f0f921"
             ]
            ],
            "type": "heatmap"
           }
          ],
          "heatmapgl": [
           {
            "colorbar": {
             "outlinewidth": 0,
             "ticks": ""
            },
            "colorscale": [
             [
              0,
              "#0d0887"
             ],
             [
              0.1111111111111111,
              "#46039f"
             ],
             [
              0.2222222222222222,
              "#7201a8"
             ],
             [
              0.3333333333333333,
              "#9c179e"
             ],
             [
              0.4444444444444444,
              "#bd3786"
             ],
             [
              0.5555555555555556,
              "#d8576b"
             ],
             [
              0.6666666666666666,
              "#ed7953"
             ],
             [
              0.7777777777777778,
              "#fb9f3a"
             ],
             [
              0.8888888888888888,
              "#fdca26"
             ],
             [
              1,
              "#f0f921"
             ]
            ],
            "type": "heatmapgl"
           }
          ],
          "histogram": [
           {
            "marker": {
             "pattern": {
              "fillmode": "overlay",
              "size": 10,
              "solidity": 0.2
             }
            },
            "type": "histogram"
           }
          ],
          "histogram2d": [
           {
            "colorbar": {
             "outlinewidth": 0,
             "ticks": ""
            },
            "colorscale": [
             [
              0,
              "#0d0887"
             ],
             [
              0.1111111111111111,
              "#46039f"
             ],
             [
              0.2222222222222222,
              "#7201a8"
             ],
             [
              0.3333333333333333,
              "#9c179e"
             ],
             [
              0.4444444444444444,
              "#bd3786"
             ],
             [
              0.5555555555555556,
              "#d8576b"
             ],
             [
              0.6666666666666666,
              "#ed7953"
             ],
             [
              0.7777777777777778,
              "#fb9f3a"
             ],
             [
              0.8888888888888888,
              "#fdca26"
             ],
             [
              1,
              "#f0f921"
             ]
            ],
            "type": "histogram2d"
           }
          ],
          "histogram2dcontour": [
           {
            "colorbar": {
             "outlinewidth": 0,
             "ticks": ""
            },
            "colorscale": [
             [
              0,
              "#0d0887"
             ],
             [
              0.1111111111111111,
              "#46039f"
             ],
             [
              0.2222222222222222,
              "#7201a8"
             ],
             [
              0.3333333333333333,
              "#9c179e"
             ],
             [
              0.4444444444444444,
              "#bd3786"
             ],
             [
              0.5555555555555556,
              "#d8576b"
             ],
             [
              0.6666666666666666,
              "#ed7953"
             ],
             [
              0.7777777777777778,
              "#fb9f3a"
             ],
             [
              0.8888888888888888,
              "#fdca26"
             ],
             [
              1,
              "#f0f921"
             ]
            ],
            "type": "histogram2dcontour"
           }
          ],
          "mesh3d": [
           {
            "colorbar": {
             "outlinewidth": 0,
             "ticks": ""
            },
            "type": "mesh3d"
           }
          ],
          "parcoords": [
           {
            "line": {
             "colorbar": {
              "outlinewidth": 0,
              "ticks": ""
             }
            },
            "type": "parcoords"
           }
          ],
          "pie": [
           {
            "automargin": true,
            "type": "pie"
           }
          ],
          "scatter": [
           {
            "fillpattern": {
             "fillmode": "overlay",
             "size": 10,
             "solidity": 0.2
            },
            "type": "scatter"
           }
          ],
          "scatter3d": [
           {
            "line": {
             "colorbar": {
              "outlinewidth": 0,
              "ticks": ""
             }
            },
            "marker": {
             "colorbar": {
              "outlinewidth": 0,
              "ticks": ""
             }
            },
            "type": "scatter3d"
           }
          ],
          "scattercarpet": [
           {
            "marker": {
             "colorbar": {
              "outlinewidth": 0,
              "ticks": ""
             }
            },
            "type": "scattercarpet"
           }
          ],
          "scattergeo": [
           {
            "marker": {
             "colorbar": {
              "outlinewidth": 0,
              "ticks": ""
             }
            },
            "type": "scattergeo"
           }
          ],
          "scattergl": [
           {
            "marker": {
             "colorbar": {
              "outlinewidth": 0,
              "ticks": ""
             }
            },
            "type": "scattergl"
           }
          ],
          "scattermapbox": [
           {
            "marker": {
             "colorbar": {
              "outlinewidth": 0,
              "ticks": ""
             }
            },
            "type": "scattermapbox"
           }
          ],
          "scatterpolar": [
           {
            "marker": {
             "colorbar": {
              "outlinewidth": 0,
              "ticks": ""
             }
            },
            "type": "scatterpolar"
           }
          ],
          "scatterpolargl": [
           {
            "marker": {
             "colorbar": {
              "outlinewidth": 0,
              "ticks": ""
             }
            },
            "type": "scatterpolargl"
           }
          ],
          "scatterternary": [
           {
            "marker": {
             "colorbar": {
              "outlinewidth": 0,
              "ticks": ""
             }
            },
            "type": "scatterternary"
           }
          ],
          "surface": [
           {
            "colorbar": {
             "outlinewidth": 0,
             "ticks": ""
            },
            "colorscale": [
             [
              0,
              "#0d0887"
             ],
             [
              0.1111111111111111,
              "#46039f"
             ],
             [
              0.2222222222222222,
              "#7201a8"
             ],
             [
              0.3333333333333333,
              "#9c179e"
             ],
             [
              0.4444444444444444,
              "#bd3786"
             ],
             [
              0.5555555555555556,
              "#d8576b"
             ],
             [
              0.6666666666666666,
              "#ed7953"
             ],
             [
              0.7777777777777778,
              "#fb9f3a"
             ],
             [
              0.8888888888888888,
              "#fdca26"
             ],
             [
              1,
              "#f0f921"
             ]
            ],
            "type": "surface"
           }
          ],
          "table": [
           {
            "cells": {
             "fill": {
              "color": "#EBF0F8"
             },
             "line": {
              "color": "white"
             }
            },
            "header": {
             "fill": {
              "color": "#C8D4E3"
             },
             "line": {
              "color": "white"
             }
            },
            "type": "table"
           }
          ]
         },
         "layout": {
          "annotationdefaults": {
           "arrowcolor": "#2a3f5f",
           "arrowhead": 0,
           "arrowwidth": 1
          },
          "autotypenumbers": "strict",
          "coloraxis": {
           "colorbar": {
            "outlinewidth": 0,
            "ticks": ""
           }
          },
          "colorscale": {
           "diverging": [
            [
             0,
             "#8e0152"
            ],
            [
             0.1,
             "#c51b7d"
            ],
            [
             0.2,
             "#de77ae"
            ],
            [
             0.3,
             "#f1b6da"
            ],
            [
             0.4,
             "#fde0ef"
            ],
            [
             0.5,
             "#f7f7f7"
            ],
            [
             0.6,
             "#e6f5d0"
            ],
            [
             0.7,
             "#b8e186"
            ],
            [
             0.8,
             "#7fbc41"
            ],
            [
             0.9,
             "#4d9221"
            ],
            [
             1,
             "#276419"
            ]
           ],
           "sequential": [
            [
             0,
             "#0d0887"
            ],
            [
             0.1111111111111111,
             "#46039f"
            ],
            [
             0.2222222222222222,
             "#7201a8"
            ],
            [
             0.3333333333333333,
             "#9c179e"
            ],
            [
             0.4444444444444444,
             "#bd3786"
            ],
            [
             0.5555555555555556,
             "#d8576b"
            ],
            [
             0.6666666666666666,
             "#ed7953"
            ],
            [
             0.7777777777777778,
             "#fb9f3a"
            ],
            [
             0.8888888888888888,
             "#fdca26"
            ],
            [
             1,
             "#f0f921"
            ]
           ],
           "sequentialminus": [
            [
             0,
             "#0d0887"
            ],
            [
             0.1111111111111111,
             "#46039f"
            ],
            [
             0.2222222222222222,
             "#7201a8"
            ],
            [
             0.3333333333333333,
             "#9c179e"
            ],
            [
             0.4444444444444444,
             "#bd3786"
            ],
            [
             0.5555555555555556,
             "#d8576b"
            ],
            [
             0.6666666666666666,
             "#ed7953"
            ],
            [
             0.7777777777777778,
             "#fb9f3a"
            ],
            [
             0.8888888888888888,
             "#fdca26"
            ],
            [
             1,
             "#f0f921"
            ]
           ]
          },
          "colorway": [
           "#636efa",
           "#EF553B",
           "#00cc96",
           "#ab63fa",
           "#FFA15A",
           "#19d3f3",
           "#FF6692",
           "#B6E880",
           "#FF97FF",
           "#FECB52"
          ],
          "font": {
           "color": "#2a3f5f"
          },
          "geo": {
           "bgcolor": "white",
           "lakecolor": "white",
           "landcolor": "#E5ECF6",
           "showlakes": true,
           "showland": true,
           "subunitcolor": "white"
          },
          "hoverlabel": {
           "align": "left"
          },
          "hovermode": "closest",
          "mapbox": {
           "style": "light"
          },
          "paper_bgcolor": "white",
          "plot_bgcolor": "#E5ECF6",
          "polar": {
           "angularaxis": {
            "gridcolor": "white",
            "linecolor": "white",
            "ticks": ""
           },
           "bgcolor": "#E5ECF6",
           "radialaxis": {
            "gridcolor": "white",
            "linecolor": "white",
            "ticks": ""
           }
          },
          "scene": {
           "xaxis": {
            "backgroundcolor": "#E5ECF6",
            "gridcolor": "white",
            "gridwidth": 2,
            "linecolor": "white",
            "showbackground": true,
            "ticks": "",
            "zerolinecolor": "white"
           },
           "yaxis": {
            "backgroundcolor": "#E5ECF6",
            "gridcolor": "white",
            "gridwidth": 2,
            "linecolor": "white",
            "showbackground": true,
            "ticks": "",
            "zerolinecolor": "white"
           },
           "zaxis": {
            "backgroundcolor": "#E5ECF6",
            "gridcolor": "white",
            "gridwidth": 2,
            "linecolor": "white",
            "showbackground": true,
            "ticks": "",
            "zerolinecolor": "white"
           }
          },
          "shapedefaults": {
           "line": {
            "color": "#2a3f5f"
           }
          },
          "ternary": {
           "aaxis": {
            "gridcolor": "white",
            "linecolor": "white",
            "ticks": ""
           },
           "baxis": {
            "gridcolor": "white",
            "linecolor": "white",
            "ticks": ""
           },
           "bgcolor": "#E5ECF6",
           "caxis": {
            "gridcolor": "white",
            "linecolor": "white",
            "ticks": ""
           }
          },
          "title": {
           "x": 0.05
          },
          "xaxis": {
           "automargin": true,
           "gridcolor": "white",
           "linecolor": "white",
           "ticks": "",
           "title": {
            "standoff": 15
           },
           "zerolinecolor": "white",
           "zerolinewidth": 2
          },
          "yaxis": {
           "automargin": true,
           "gridcolor": "white",
           "linecolor": "white",
           "ticks": "",
           "title": {
            "standoff": 15
           },
           "zerolinecolor": "white",
           "zerolinewidth": 2
          }
         }
        },
        "title": {
         "text": "m/s with different loads, Constant 0.0 slope, model Sprott"
        },
        "xaxis": {
         "title": {
          "text": "Load [kg]"
         }
        },
        "yaxis": {
         "title": {
          "text": "Speed [m/s]"
         }
        }
       }
      }
     },
     "metadata": {},
     "output_type": "display_data"
    },
    {
     "data": {
      "image/svg+xml": [
       "<svg class=\"main-svg\" xmlns=\"http://www.w3.org/2000/svg\" xmlns:xlink=\"http://www.w3.org/1999/xlink\" width=\"900\" height=\"600\" style=\"\" viewBox=\"0 0 900 600\"><rect x=\"0\" y=\"0\" width=\"900\" height=\"600\" style=\"fill: rgb(255, 255, 255); fill-opacity: 1;\"/><defs id=\"defs-db3b0e\"><g class=\"clips\"><clipPath id=\"clipdb3b0exyplot\" class=\"plotclip\"><rect width=\"602\" height=\"480\"/></clipPath><clipPath class=\"axesclip\" id=\"clipdb3b0ex\"><rect x=\"100\" y=\"0\" width=\"602\" height=\"600\"/></clipPath><clipPath class=\"axesclip\" id=\"clipdb3b0ey\"><rect x=\"0\" y=\"30\" width=\"900\" height=\"480\"/></clipPath><clipPath class=\"axesclip\" id=\"clipdb3b0exy\"><rect x=\"100\" y=\"30\" width=\"602\" height=\"480\"/></clipPath></g><g class=\"gradients\"/><g class=\"patterns\"/></defs><g class=\"bglayer\"><rect class=\"bg\" x=\"100\" y=\"30\" width=\"602\" height=\"480\" style=\"fill: rgb(229, 236, 246); fill-opacity: 1; stroke-width: 0;\"/></g><g class=\"layer-below\"><g class=\"imagelayer\"/><g class=\"shapelayer\"/></g><g class=\"cartesianlayer\"><g class=\"subplot xy\"><g class=\"layer-subplot\"><g class=\"shapelayer\"/><g class=\"imagelayer\"/></g><g class=\"minor-gridlayer\"><g class=\"x\"/><g class=\"y\"/></g><g class=\"gridlayer\"><g class=\"x\"><path class=\"xgrid crisp\" transform=\"translate(215.28,0)\" d=\"M0,30v480\" style=\"stroke: rgb(255, 255, 255); stroke-opacity: 1; stroke-width: 1px;\"/><path class=\"xgrid crisp\" transform=\"translate(341.62,0)\" d=\"M0,30v480\" style=\"stroke: rgb(255, 255, 255); stroke-opacity: 1; stroke-width: 1px;\"/><path class=\"xgrid crisp\" transform=\"translate(467.96,0)\" d=\"M0,30v480\" style=\"stroke: rgb(255, 255, 255); stroke-opacity: 1; stroke-width: 1px;\"/><path class=\"xgrid crisp\" transform=\"translate(594.3,0)\" d=\"M0,30v480\" style=\"stroke: rgb(255, 255, 255); stroke-opacity: 1; stroke-width: 1px;\"/></g><g class=\"y\"><path class=\"ygrid crisp\" transform=\"translate(0,422.29)\" d=\"M100,0h602\" style=\"stroke: rgb(255, 255, 255); stroke-opacity: 1; stroke-width: 1px;\"/><path class=\"ygrid crisp\" transform=\"translate(0,336.67)\" d=\"M100,0h602\" style=\"stroke: rgb(255, 255, 255); stroke-opacity: 1; stroke-width: 1px;\"/><path class=\"ygrid crisp\" transform=\"translate(0,251.05)\" d=\"M100,0h602\" style=\"stroke: rgb(255, 255, 255); stroke-opacity: 1; stroke-width: 1px;\"/><path class=\"ygrid crisp\" transform=\"translate(0,165.43)\" d=\"M100,0h602\" style=\"stroke: rgb(255, 255, 255); stroke-opacity: 1; stroke-width: 1px;\"/><path class=\"ygrid crisp\" transform=\"translate(0,79.81)\" d=\"M100,0h602\" style=\"stroke: rgb(255, 255, 255); stroke-opacity: 1; stroke-width: 1px;\"/></g></g><g class=\"zerolinelayer\"><path class=\"yzl zl crisp\" transform=\"translate(0,507.91)\" d=\"M100,0h602\" style=\"stroke: rgb(255, 255, 255); stroke-opacity: 1; stroke-width: 2px;\"/></g><path class=\"xlines-below\"/><path class=\"ylines-below\"/><g class=\"overlines-below\"/><g class=\"xaxislayer-below\"/><g class=\"yaxislayer-below\"/><g class=\"overaxes-below\"/><g class=\"plot\" transform=\"translate(100,30)\" clip-path=\"url(#clipdb3b0exyplot)\"><g class=\"scatterlayer mlayer\"><g class=\"trace scatter trace9755a0\" style=\"stroke-miterlimit: 2; opacity: 1;\"><g class=\"fills\"/><g class=\"errorbars\"/><g class=\"lines\"/><g class=\"points\"><path class=\"point plotly-customdata\" transform=\"translate(39.48,442.44)\" d=\"M7.5,0A7.5,7.5 0 1,1 0,-7.5A7.5,7.5 0 0,1 7.5,0Z\" style=\"opacity: 0.7; stroke-width: 1px; fill: rgb(27, 158, 119); fill-opacity: 1; stroke: rgb(0, 0, 0); stroke-opacity: 0.4;\"/></g><g class=\"text\"/></g><g class=\"trace scatter traceeb053f\" style=\"stroke-miterlimit: 2; opacity: 1;\"><g class=\"fills\"/><g class=\"errorbars\"/><g class=\"lines\"/><g class=\"points\"><path class=\"point plotly-customdata\" transform=\"translate(64.74,433.59)\" d=\"M7.5,0A7.5,7.5 0 1,1 0,-7.5A7.5,7.5 0 0,1 7.5,0Z\" style=\"opacity: 0.7; stroke-width: 1px; fill: rgb(217, 95, 2); fill-opacity: 1; stroke: rgb(0, 0, 0); stroke-opacity: 0.4;\"/></g><g class=\"text\"/></g><g class=\"trace scatter tracea6a128\" style=\"stroke-miterlimit: 2; opacity: 1;\"><g class=\"fills\"/><g class=\"errorbars\"/><g class=\"lines\"/><g class=\"points\"><path class=\"point plotly-customdata\" transform=\"translate(160.76,276.29)\" d=\"M7.5,0A7.5,7.5 0 1,1 0,-7.5A7.5,7.5 0 0,1 7.5,0Z\" style=\"opacity: 0.7; stroke-width: 1px; fill: rgb(117, 112, 179); fill-opacity: 1; stroke: rgb(0, 0, 0); stroke-opacity: 0.4;\"/></g><g class=\"text\"/></g><g class=\"trace scatter trace567f62\" style=\"stroke-miterlimit: 2; opacity: 1;\"><g class=\"fills\"/><g class=\"errorbars\"/><g class=\"lines\"/><g class=\"points\"><path class=\"point plotly-customdata\" transform=\"translate(39.48,446.63)\" d=\"M7.5,0A7.5,7.5 0 1,1 0,-7.5A7.5,7.5 0 0,1 7.5,0Z\" style=\"opacity: 0.7; stroke-width: 1px; fill: rgb(231, 41, 138); fill-opacity: 1; stroke: rgb(0, 0, 0); stroke-opacity: 0.4;\"/></g><g class=\"text\"/></g><g class=\"trace scatter trace47ee65\" style=\"stroke-miterlimit: 2; opacity: 1;\"><g class=\"fills\"/><g class=\"errorbars\"/><g class=\"lines\"/><g class=\"points\"><path class=\"point plotly-customdata\" transform=\"translate(463.98,33.38)\" d=\"M7.5,0A7.5,7.5 0 1,1 0,-7.5A7.5,7.5 0 0,1 7.5,0Z\" style=\"opacity: 0.7; stroke-width: 1px; fill: rgb(102, 166, 30); fill-opacity: 1; stroke: rgb(0, 0, 0); stroke-opacity: 0.4;\"/></g><g class=\"text\"/></g><g class=\"trace scatter tracea64467\" style=\"stroke-miterlimit: 2; opacity: 1;\"><g class=\"fills\"/><g class=\"errorbars\"/><g class=\"lines\"/><g class=\"points\"><path class=\"point plotly-customdata\" transform=\"translate(562.53,126.66)\" d=\"M7.5,0A7.5,7.5 0 1,1 0,-7.5A7.5,7.5 0 0,1 7.5,0Z\" style=\"opacity: 0.7; stroke-width: 1px; fill: rgb(230, 171, 2); fill-opacity: 1; stroke: rgb(0, 0, 0); stroke-opacity: 0.4;\"/></g><g class=\"text\"/></g><g class=\"trace scatter trace2c4d6d\" style=\"stroke-miterlimit: 2; opacity: 1;\"><g class=\"fills\"/><g class=\"errorbars\"/><g class=\"lines\"/><g class=\"points\"><path class=\"point plotly-customdata\" transform=\"translate(277,286.63)\" d=\"M7.5,0A7.5,7.5 0 1,1 0,-7.5A7.5,7.5 0 0,1 7.5,0Z\" style=\"opacity: 0.7; stroke-width: 1px; fill: rgb(166, 118, 29); fill-opacity: 1; stroke: rgb(0, 0, 0); stroke-opacity: 0.4;\"/></g><g class=\"text\"/></g><g class=\"trace scatter trace8991f0\" style=\"stroke-miterlimit: 2; opacity: 1;\"><g class=\"fills\"/><g class=\"errorbars\"/><g class=\"lines\"/><g class=\"points\"><path class=\"point plotly-customdata\" transform=\"translate(39.48,442.32)\" d=\"M7.5,0A7.5,7.5 0 1,1 0,-7.5A7.5,7.5 0 0,1 7.5,0Z\" style=\"opacity: 0.7; stroke-width: 1px; fill: rgb(102, 102, 102); fill-opacity: 1; stroke: rgb(0, 0, 0); stroke-opacity: 0.4;\"/></g><g class=\"text\"/></g><g class=\"trace scatter tracec11b3f\" style=\"stroke-miterlimit: 2; opacity: 1;\"><g class=\"fills\"/><g class=\"errorbars\"/><g class=\"lines\"/><g class=\"points\"><path class=\"point plotly-customdata\" transform=\"translate(92.54,393.81)\" d=\"M7.5,0A7.5,7.5 0 1,1 0,-7.5A7.5,7.5 0 0,1 7.5,0Z\" style=\"opacity: 0.7; stroke-width: 1px; fill: rgb(27, 158, 119); fill-opacity: 1; stroke: rgb(0, 0, 0); stroke-opacity: 0.4;\"/></g><g class=\"text\"/></g><g class=\"trace scatter trace04537e\" style=\"stroke-miterlimit: 2; opacity: 1;\"><g class=\"fills\"/><g class=\"errorbars\"/><g class=\"lines\"/><g class=\"points\"><path class=\"point plotly-customdata\" transform=\"translate(388.17,199.32)\" d=\"M7.5,0A7.5,7.5 0 1,1 0,-7.5A7.5,7.5 0 0,1 7.5,0Z\" style=\"opacity: 0.7; stroke-width: 1px; fill: rgb(217, 95, 2); fill-opacity: 1; stroke: rgb(0, 0, 0); stroke-opacity: 0.4;\"/></g><g class=\"text\"/></g><g class=\"trace scatter traceae0353\" style=\"stroke-miterlimit: 2; opacity: 1;\"><g class=\"fills\"/><g class=\"errorbars\"/><g class=\"lines\"/><g class=\"points\"><path class=\"point plotly-customdata\" transform=\"translate(84.96,399.76)\" d=\"M7.5,0A7.5,7.5 0 1,1 0,-7.5A7.5,7.5 0 0,1 7.5,0Z\" style=\"opacity: 0.7; stroke-width: 1px; fill: rgb(117, 112, 179); fill-opacity: 1; stroke: rgb(0, 0, 0); stroke-opacity: 0.4;\"/></g><g class=\"text\"/></g><g class=\"trace scatter trace4aa6e1\" style=\"stroke-miterlimit: 2; opacity: 1;\"><g class=\"fills\"/><g class=\"errorbars\"/><g class=\"lines\"/><g class=\"points\"><path class=\"point plotly-customdata\" transform=\"translate(481.67,167.12)\" d=\"M7.5,0A7.5,7.5 0 1,1 0,-7.5A7.5,7.5 0 0,1 7.5,0Z\" style=\"opacity: 0.7; stroke-width: 1px; fill: rgb(231, 41, 138); fill-opacity: 1; stroke: rgb(0, 0, 0); stroke-opacity: 0.4;\"/></g><g class=\"text\"/></g><g class=\"trace scatter trace2afe5b\" style=\"stroke-miterlimit: 2; opacity: 1;\"><g class=\"fills\"/><g class=\"errorbars\"/><g class=\"lines\"/><g class=\"points\"><path class=\"point plotly-customdata\" transform=\"translate(143.07,354.45)\" d=\"M7.5,0A7.5,7.5 0 1,1 0,-7.5A7.5,7.5 0 0,1 7.5,0Z\" style=\"opacity: 0.7; stroke-width: 1px; fill: rgb(102, 166, 30); fill-opacity: 1; stroke: rgb(0, 0, 0); stroke-opacity: 0.4;\"/></g><g class=\"text\"/></g><g class=\"trace scatter trace84ba71\" style=\"stroke-miterlimit: 2; opacity: 1;\"><g class=\"fills\"/><g class=\"errorbars\"/><g class=\"lines\"/><g class=\"points\"><path class=\"point plotly-customdata\" transform=\"translate(292.16,363.23)\" d=\"M7.5,0A7.5,7.5 0 1,1 0,-7.5A7.5,7.5 0 0,1 7.5,0Z\" style=\"opacity: 0.7; stroke-width: 1px; fill: rgb(230, 171, 2); fill-opacity: 1; stroke: rgb(0, 0, 0); stroke-opacity: 0.4;\"/></g><g class=\"text\"/></g><g class=\"trace scatter trace857010\" style=\"stroke-miterlimit: 2; opacity: 1;\"><g class=\"fills\"/><g class=\"errorbars\"/><g class=\"lines\"/><g class=\"points\"><path class=\"point plotly-customdata\" transform=\"translate(367.96,233.11)\" d=\"M7.5,0A7.5,7.5 0 1,1 0,-7.5A7.5,7.5 0 0,1 7.5,0Z\" style=\"opacity: 0.7; stroke-width: 1px; fill: rgb(166, 118, 29); fill-opacity: 1; stroke: rgb(0, 0, 0); stroke-opacity: 0.4;\"/></g><g class=\"text\"/></g><g class=\"trace scatter trace722fd2\" style=\"stroke-miterlimit: 2; opacity: 1;\"><g class=\"fills\"/><g class=\"errorbars\"/><g class=\"lines\"/><g class=\"points\"><path class=\"point plotly-customdata\" transform=\"translate(198.66,336.59)\" d=\"M7.5,0A7.5,7.5 0 1,1 0,-7.5A7.5,7.5 0 0,1 7.5,0Z\" style=\"opacity: 0.7; stroke-width: 1px; fill: rgb(102, 102, 102); fill-opacity: 1; stroke: rgb(0, 0, 0); stroke-opacity: 0.4;\"/></g><g class=\"text\"/></g></g></g><g class=\"overplot\"/><path class=\"xlines-above crisp\" d=\"M0,0\" style=\"fill: none;\"/><path class=\"ylines-above crisp\" d=\"M0,0\" style=\"fill: none;\"/><g class=\"overlines-above\"/><g class=\"xaxislayer-above\"><g class=\"xtick\"><text text-anchor=\"end\" x=\"0\" y=\"527\" transform=\"translate(215.28,0) rotate(-45,0,519)\" style=\"font-family: 'Open Sans', verdana, arial, sans-serif; font-size: 16px; fill: rgb(42, 63, 95); fill-opacity: 1; white-space: pre; opacity: 1;\">50</text></g><g class=\"xtick\"><text text-anchor=\"end\" x=\"0\" y=\"527\" style=\"font-family: 'Open Sans', verdana, arial, sans-serif; font-size: 16px; fill: rgb(42, 63, 95); fill-opacity: 1; white-space: pre; opacity: 1;\" transform=\"translate(341.62,0) rotate(-45,0,519)\">100</text></g><g class=\"xtick\"><text text-anchor=\"end\" x=\"0\" y=\"527\" style=\"font-family: 'Open Sans', verdana, arial, sans-serif; font-size: 16px; fill: rgb(42, 63, 95); fill-opacity: 1; white-space: pre; opacity: 1;\" transform=\"translate(467.96,0) rotate(-45,0,519)\">150</text></g><g class=\"xtick\"><text text-anchor=\"end\" x=\"0\" y=\"527\" style=\"font-family: 'Open Sans', verdana, arial, sans-serif; font-size: 16px; fill: rgb(42, 63, 95); fill-opacity: 1; white-space: pre; opacity: 1;\" transform=\"translate(594.3,0) rotate(-45,0,519)\">200</text></g></g><g class=\"yaxislayer-above\"><g class=\"ytick\"><text text-anchor=\"end\" x=\"99\" y=\"5.6\" transform=\"translate(0,507.91)\" style=\"font-family: 'Open Sans', verdana, arial, sans-serif; font-size: 16px; fill: rgb(42, 63, 95); fill-opacity: 1; white-space: pre; opacity: 1;\">0</text></g><g class=\"ytick\"><text text-anchor=\"end\" x=\"99\" y=\"5.6\" style=\"font-family: 'Open Sans', verdana, arial, sans-serif; font-size: 16px; fill: rgb(42, 63, 95); fill-opacity: 1; white-space: pre; opacity: 1;\" transform=\"translate(0,422.29)\">50</text></g><g class=\"ytick\"><text text-anchor=\"end\" x=\"99\" y=\"5.6\" style=\"font-family: 'Open Sans', verdana, arial, sans-serif; font-size: 16px; fill: rgb(42, 63, 95); fill-opacity: 1; white-space: pre; opacity: 1;\" transform=\"translate(0,336.67)\">100</text></g><g class=\"ytick\"><text text-anchor=\"end\" x=\"99\" y=\"5.6\" style=\"font-family: 'Open Sans', verdana, arial, sans-serif; font-size: 16px; fill: rgb(42, 63, 95); fill-opacity: 1; white-space: pre; opacity: 1;\" transform=\"translate(0,251.05)\">150</text></g><g class=\"ytick\"><text text-anchor=\"end\" x=\"99\" y=\"5.6\" style=\"font-family: 'Open Sans', verdana, arial, sans-serif; font-size: 16px; fill: rgb(42, 63, 95); fill-opacity: 1; white-space: pre; opacity: 1;\" transform=\"translate(0,165.43)\">200</text></g><g class=\"ytick\"><text text-anchor=\"end\" x=\"99\" y=\"5.6\" style=\"font-family: 'Open Sans', verdana, arial, sans-serif; font-size: 16px; fill: rgb(42, 63, 95); fill-opacity: 1; white-space: pre; opacity: 1;\" transform=\"translate(0,79.81)\">250</text></g></g><g class=\"overaxes-above\"/></g></g><g class=\"polarlayer\"/><g class=\"smithlayer\"/><g class=\"ternarylayer\"/><g class=\"geolayer\"/><g class=\"funnelarealayer\"/><g class=\"pielayer\"/><g class=\"iciclelayer\"/><g class=\"treemaplayer\"/><g class=\"sunburstlayer\"/><g class=\"glimages\"/><defs id=\"topdefs-db3b0e\"><g class=\"clips\"/><clipPath id=\"legenddb3b0e\"><rect width=\"174\" height=\"391\" x=\"0\" y=\"0\"/></clipPath></defs><g class=\"layer-above\"><g class=\"imagelayer\"/><g class=\"shapelayer\"/></g><g class=\"infolayer\"><g class=\"legend\" pointer-events=\"all\" transform=\"translate(714.04,30)\"><rect class=\"bg\" shape-rendering=\"crispEdges\" width=\"174\" height=\"391\" x=\"0\" y=\"0\" style=\"stroke: rgb(68, 68, 68); stroke-opacity: 1; fill: rgb(255, 255, 255); fill-opacity: 1; stroke-width: 0px;\"/><g class=\"scrollbox\" transform=\"\" clip-path=\"url(#legenddb3b0e)\"><g class=\"groups\" transform=\"\"><g class=\"traces\" transform=\"translate(0,16.9)\" style=\"opacity: 1;\"><text class=\"legendtext\" text-anchor=\"start\" x=\"40\" y=\"6.24\" style=\"font-family: 'Open Sans', verdana, arial, sans-serif; font-size: 16px; fill: rgb(42, 63, 95); fill-opacity: 1; white-space: pre;\">Baby Carriage</text><g class=\"layers\" style=\"opacity: 1;\"><g class=\"legendfill\"/><g class=\"legendlines\"/><g class=\"legendsymbols\"><g class=\"legendpoints\"><path class=\"scatterpts\" transform=\"translate(20,0)\" d=\"M7.5,0A7.5,7.5 0 1,1 0,-7.5A7.5,7.5 0 0,1 7.5,0Z\" style=\"opacity: 0.7; stroke-width: 1px; fill: rgb(27, 158, 119); fill-opacity: 1; stroke: rgb(0, 0, 0); stroke-opacity: 0.4;\"/></g></g></g><rect class=\"legendtoggle\" x=\"0\" y=\"-11.9\" width=\"168.40625\" height=\"23.8\" style=\"fill: rgb(0, 0, 0); fill-opacity: 0;\"/></g></g><g class=\"groups\" transform=\"\"><g class=\"traces\" transform=\"translate(0,40.7)\" style=\"opacity: 1;\"><text class=\"legendtext\" text-anchor=\"start\" x=\"40\" y=\"6.24\" style=\"font-family: 'Open Sans', verdana, arial, sans-serif; font-size: 16px; fill: rgb(42, 63, 95); fill-opacity: 1; white-space: pre;\">Backpack</text><g class=\"layers\" style=\"opacity: 1;\"><g class=\"legendfill\"/><g class=\"legendlines\"/><g class=\"legendsymbols\"><g class=\"legendpoints\"><path class=\"scatterpts\" transform=\"translate(20,0)\" d=\"M7.5,0A7.5,7.5 0 1,1 0,-7.5A7.5,7.5 0 0,1 7.5,0Z\" style=\"opacity: 0.7; stroke-width: 1px; fill: rgb(217, 95, 2); fill-opacity: 1; stroke: rgb(0, 0, 0); stroke-opacity: 0.4;\"/></g></g></g><rect class=\"legendtoggle\" x=\"0\" y=\"-11.9\" width=\"168.40625\" height=\"23.8\" style=\"fill: rgb(0, 0, 0); fill-opacity: 0;\"/></g></g><g class=\"groups\" transform=\"\"><g class=\"traces\" transform=\"translate(0,64.5)\" style=\"opacity: 1;\"><text class=\"legendtext\" text-anchor=\"start\" x=\"40\" y=\"6.24\" style=\"font-family: 'Open Sans', verdana, arial, sans-serif; font-size: 16px; fill: rgb(42, 63, 95); fill-opacity: 1; white-space: pre;\">Bicycle</text><g class=\"layers\" style=\"opacity: 1;\"><g class=\"legendfill\"/><g class=\"legendlines\"/><g class=\"legendsymbols\"><g class=\"legendpoints\"><path class=\"scatterpts\" transform=\"translate(20,0)\" d=\"M7.5,0A7.5,7.5 0 1,1 0,-7.5A7.5,7.5 0 0,1 7.5,0Z\" style=\"opacity: 0.7; stroke-width: 1px; fill: rgb(117, 112, 179); fill-opacity: 1; stroke: rgb(0, 0, 0); stroke-opacity: 0.4;\"/></g></g></g><rect class=\"legendtoggle\" x=\"0\" y=\"-11.9\" width=\"168.40625\" height=\"23.8\" style=\"fill: rgb(0, 0, 0); fill-opacity: 0;\"/></g></g><g class=\"groups\" transform=\"\"><g class=\"traces\" transform=\"translate(0,88.30000000000001)\" style=\"opacity: 1;\"><text class=\"legendtext\" text-anchor=\"start\" x=\"40\" y=\"6.24\" style=\"font-family: 'Open Sans', verdana, arial, sans-serif; font-size: 16px; fill: rgb(42, 63, 95); fill-opacity: 1; white-space: pre;\">Buckets</text><g class=\"layers\" style=\"opacity: 1;\"><g class=\"legendfill\"/><g class=\"legendlines\"/><g class=\"legendsymbols\"><g class=\"legendpoints\"><path class=\"scatterpts\" transform=\"translate(20,0)\" d=\"M7.5,0A7.5,7.5 0 1,1 0,-7.5A7.5,7.5 0 0,1 7.5,0Z\" style=\"opacity: 0.7; stroke-width: 1px; fill: rgb(231, 41, 138); fill-opacity: 1; stroke: rgb(0, 0, 0); stroke-opacity: 0.4;\"/></g></g></g><rect class=\"legendtoggle\" x=\"0\" y=\"-11.9\" width=\"168.40625\" height=\"23.8\" style=\"fill: rgb(0, 0, 0); fill-opacity: 0;\"/></g></g><g class=\"groups\" transform=\"\"><g class=\"traces\" transform=\"translate(0,112.10000000000001)\" style=\"opacity: 1;\"><text class=\"legendtext\" text-anchor=\"start\" x=\"40\" y=\"6.24\" style=\"font-family: 'Open Sans', verdana, arial, sans-serif; font-size: 16px; fill: rgb(42, 63, 95); fill-opacity: 1; white-space: pre;\">Cycle Rickshaw</text><g class=\"layers\" style=\"opacity: 1;\"><g class=\"legendfill\"/><g class=\"legendlines\"/><g class=\"legendsymbols\"><g class=\"legendpoints\"><path class=\"scatterpts\" transform=\"translate(20,0)\" d=\"M7.5,0A7.5,7.5 0 1,1 0,-7.5A7.5,7.5 0 0,1 7.5,0Z\" style=\"opacity: 0.7; stroke-width: 1px; fill: rgb(102, 166, 30); fill-opacity: 1; stroke: rgb(0, 0, 0); stroke-opacity: 0.4;\"/></g></g></g><rect class=\"legendtoggle\" x=\"0\" y=\"-11.9\" width=\"168.40625\" height=\"23.8\" style=\"fill: rgb(0, 0, 0); fill-opacity: 0;\"/></g></g><g class=\"groups\" transform=\"\"><g class=\"traces\" transform=\"translate(0,135.9)\" style=\"opacity: 1;\"><text class=\"legendtext\" text-anchor=\"start\" x=\"40\" y=\"6.24\" style=\"font-family: 'Open Sans', verdana, arial, sans-serif; font-size: 16px; fill: rgb(42, 63, 95); fill-opacity: 1; white-space: pre;\">Hand Cart</text><g class=\"layers\" style=\"opacity: 1;\"><g class=\"legendfill\"/><g class=\"legendlines\"/><g class=\"legendsymbols\"><g class=\"legendpoints\"><path class=\"scatterpts\" transform=\"translate(20,0)\" d=\"M7.5,0A7.5,7.5 0 1,1 0,-7.5A7.5,7.5 0 0,1 7.5,0Z\" style=\"opacity: 0.7; stroke-width: 1px; fill: rgb(230, 171, 2); fill-opacity: 1; stroke: rgb(0, 0, 0); stroke-opacity: 0.4;\"/></g></g></g><rect class=\"legendtoggle\" x=\"0\" y=\"-11.9\" width=\"168.40625\" height=\"23.8\" style=\"fill: rgb(0, 0, 0); fill-opacity: 0;\"/></g></g><g class=\"groups\" transform=\"\"><g class=\"traces\" transform=\"translate(0,159.70000000000002)\" style=\"opacity: 1;\"><text class=\"legendtext\" text-anchor=\"start\" x=\"40\" y=\"6.24\" style=\"font-family: 'Open Sans', verdana, arial, sans-serif; font-size: 16px; fill: rgb(42, 63, 95); fill-opacity: 1; white-space: pre;\">Hand Truck</text><g class=\"layers\" style=\"opacity: 1;\"><g class=\"legendfill\"/><g class=\"legendlines\"/><g class=\"legendsymbols\"><g class=\"legendpoints\"><path class=\"scatterpts\" transform=\"translate(20,0)\" d=\"M7.5,0A7.5,7.5 0 1,1 0,-7.5A7.5,7.5 0 0,1 7.5,0Z\" style=\"opacity: 0.7; stroke-width: 1px; fill: rgb(166, 118, 29); fill-opacity: 1; stroke: rgb(0, 0, 0); stroke-opacity: 0.4;\"/></g></g></g><rect class=\"legendtoggle\" x=\"0\" y=\"-11.9\" width=\"168.40625\" height=\"23.8\" style=\"fill: rgb(0, 0, 0); fill-opacity: 0;\"/></g></g><g class=\"groups\" transform=\"\"><g class=\"traces\" transform=\"translate(0,183.50000000000003)\" style=\"opacity: 1;\"><text class=\"legendtext\" text-anchor=\"start\" x=\"40\" y=\"6.24\" style=\"font-family: 'Open Sans', verdana, arial, sans-serif; font-size: 16px; fill: rgb(42, 63, 95); fill-opacity: 1; white-space: pre;\">Luggage</text><g class=\"layers\" style=\"opacity: 1;\"><g class=\"legendfill\"/><g class=\"legendlines\"/><g class=\"legendsymbols\"><g class=\"legendpoints\"><path class=\"scatterpts\" transform=\"translate(20,0)\" d=\"M7.5,0A7.5,7.5 0 1,1 0,-7.5A7.5,7.5 0 0,1 7.5,0Z\" style=\"opacity: 0.7; stroke-width: 1px; fill: rgb(102, 102, 102); fill-opacity: 1; stroke: rgb(0, 0, 0); stroke-opacity: 0.4;\"/></g></g></g><rect class=\"legendtoggle\" x=\"0\" y=\"-11.9\" width=\"168.40625\" height=\"23.8\" style=\"fill: rgb(0, 0, 0); fill-opacity: 0;\"/></g></g><g class=\"groups\" transform=\"\"><g class=\"traces\" transform=\"translate(0,207.30000000000004)\" style=\"opacity: 1;\"><text class=\"legendtext\" text-anchor=\"start\" x=\"40\" y=\"6.24\" style=\"font-family: 'Open Sans', verdana, arial, sans-serif; font-size: 16px; fill: rgb(42, 63, 95); fill-opacity: 1; white-space: pre;\">Roller skates</text><g class=\"layers\" style=\"opacity: 1;\"><g class=\"legendfill\"/><g class=\"legendlines\"/><g class=\"legendsymbols\"><g class=\"legendpoints\"><path class=\"scatterpts\" transform=\"translate(20,0)\" d=\"M7.5,0A7.5,7.5 0 1,1 0,-7.5A7.5,7.5 0 0,1 7.5,0Z\" style=\"opacity: 0.7; stroke-width: 1px; fill: rgb(27, 158, 119); fill-opacity: 1; stroke: rgb(0, 0, 0); stroke-opacity: 0.4;\"/></g></g></g><rect class=\"legendtoggle\" x=\"0\" y=\"-11.9\" width=\"168.40625\" height=\"23.8\" style=\"fill: rgb(0, 0, 0); fill-opacity: 0;\"/></g></g><g class=\"groups\" transform=\"\"><g class=\"traces\" transform=\"translate(0,231.10000000000005)\" style=\"opacity: 1;\"><text class=\"legendtext\" text-anchor=\"start\" x=\"40\" y=\"6.24\" style=\"font-family: 'Open Sans', verdana, arial, sans-serif; font-size: 16px; fill: rgb(42, 63, 95); fill-opacity: 1; white-space: pre;\">Rolling Container</text><g class=\"layers\" style=\"opacity: 1;\"><g class=\"legendfill\"/><g class=\"legendlines\"/><g class=\"legendsymbols\"><g class=\"legendpoints\"><path class=\"scatterpts\" transform=\"translate(20,0)\" d=\"M7.5,0A7.5,7.5 0 1,1 0,-7.5A7.5,7.5 0 0,1 7.5,0Z\" style=\"opacity: 0.7; stroke-width: 1px; fill: rgb(217, 95, 2); fill-opacity: 1; stroke: rgb(0, 0, 0); stroke-opacity: 0.4;\"/></g></g></g><rect class=\"legendtoggle\" x=\"0\" y=\"-11.9\" width=\"168.40625\" height=\"23.8\" style=\"fill: rgb(0, 0, 0); fill-opacity: 0;\"/></g></g><g class=\"groups\" transform=\"\"><g class=\"traces\" transform=\"translate(0,254.90000000000006)\" style=\"opacity: 1;\"><text class=\"legendtext\" text-anchor=\"start\" x=\"40\" y=\"6.24\" style=\"font-family: 'Open Sans', verdana, arial, sans-serif; font-size: 16px; fill: rgb(42, 63, 95); fill-opacity: 1; white-space: pre;\">Scooter</text><g class=\"layers\" style=\"opacity: 1;\"><g class=\"legendfill\"/><g class=\"legendlines\"/><g class=\"legendsymbols\"><g class=\"legendpoints\"><path class=\"scatterpts\" transform=\"translate(20,0)\" d=\"M7.5,0A7.5,7.5 0 1,1 0,-7.5A7.5,7.5 0 0,1 7.5,0Z\" style=\"opacity: 0.7; stroke-width: 1px; fill: rgb(117, 112, 179); fill-opacity: 1; stroke: rgb(0, 0, 0); stroke-opacity: 0.4;\"/></g></g></g><rect class=\"legendtoggle\" x=\"0\" y=\"-11.9\" width=\"168.40625\" height=\"23.8\" style=\"fill: rgb(0, 0, 0); fill-opacity: 0;\"/></g></g><g class=\"groups\" transform=\"\"><g class=\"traces\" transform=\"translate(0,278.70000000000005)\" style=\"opacity: 1;\"><text class=\"legendtext\" text-anchor=\"start\" x=\"40\" y=\"6.24\" style=\"font-family: 'Open Sans', verdana, arial, sans-serif; font-size: 16px; fill: rgb(42, 63, 95); fill-opacity: 1; white-space: pre;\">Shopping Trolley</text><g class=\"layers\" style=\"opacity: 1;\"><g class=\"legendfill\"/><g class=\"legendlines\"/><g class=\"legendsymbols\"><g class=\"legendpoints\"><path class=\"scatterpts\" transform=\"translate(20,0)\" d=\"M7.5,0A7.5,7.5 0 1,1 0,-7.5A7.5,7.5 0 0,1 7.5,0Z\" style=\"opacity: 0.7; stroke-width: 1px; fill: rgb(231, 41, 138); fill-opacity: 1; stroke: rgb(0, 0, 0); stroke-opacity: 0.4;\"/></g></g></g><rect class=\"legendtoggle\" x=\"0\" y=\"-11.9\" width=\"168.40625\" height=\"23.8\" style=\"fill: rgb(0, 0, 0); fill-opacity: 0;\"/></g></g><g class=\"groups\" transform=\"\"><g class=\"traces\" transform=\"translate(0,302.50000000000006)\" style=\"opacity: 1;\"><text class=\"legendtext\" text-anchor=\"start\" x=\"40\" y=\"6.24\" style=\"font-family: 'Open Sans', verdana, arial, sans-serif; font-size: 16px; fill: rgb(42, 63, 95); fill-opacity: 1; white-space: pre;\">Skateboard</text><g class=\"layers\" style=\"opacity: 1;\"><g class=\"legendfill\"/><g class=\"legendlines\"/><g class=\"legendsymbols\"><g class=\"legendpoints\"><path class=\"scatterpts\" transform=\"translate(20,0)\" d=\"M7.5,0A7.5,7.5 0 1,1 0,-7.5A7.5,7.5 0 0,1 7.5,0Z\" style=\"opacity: 0.7; stroke-width: 1px; fill: rgb(102, 166, 30); fill-opacity: 1; stroke: rgb(0, 0, 0); stroke-opacity: 0.4;\"/></g></g></g><rect class=\"legendtoggle\" x=\"0\" y=\"-11.9\" width=\"168.40625\" height=\"23.8\" style=\"fill: rgb(0, 0, 0); fill-opacity: 0;\"/></g></g><g class=\"groups\" transform=\"\"><g class=\"traces\" transform=\"translate(0,326.30000000000007)\" style=\"opacity: 1;\"><text class=\"legendtext\" text-anchor=\"start\" x=\"40\" y=\"6.24\" style=\"font-family: 'Open Sans', verdana, arial, sans-serif; font-size: 16px; fill: rgb(42, 63, 95); fill-opacity: 1; white-space: pre;\">Stretcher</text><g class=\"layers\" style=\"opacity: 1;\"><g class=\"legendfill\"/><g class=\"legendlines\"/><g class=\"legendsymbols\"><g class=\"legendpoints\"><path class=\"scatterpts\" transform=\"translate(20,0)\" d=\"M7.5,0A7.5,7.5 0 1,1 0,-7.5A7.5,7.5 0 0,1 7.5,0Z\" style=\"opacity: 0.7; stroke-width: 1px; fill: rgb(230, 171, 2); fill-opacity: 1; stroke: rgb(0, 0, 0); stroke-opacity: 0.4;\"/></g></g></g><rect class=\"legendtoggle\" x=\"0\" y=\"-11.9\" width=\"168.40625\" height=\"23.8\" style=\"fill: rgb(0, 0, 0); fill-opacity: 0;\"/></g></g><g class=\"groups\" transform=\"\"><g class=\"traces\" transform=\"translate(0,350.1000000000001)\" style=\"opacity: 1;\"><text class=\"legendtext\" text-anchor=\"start\" x=\"40\" y=\"6.24\" style=\"font-family: 'Open Sans', verdana, arial, sans-serif; font-size: 16px; fill: rgb(42, 63, 95); fill-opacity: 1; white-space: pre;\">Wheelbarrow</text><g class=\"layers\" style=\"opacity: 1;\"><g class=\"legendfill\"/><g class=\"legendlines\"/><g class=\"legendsymbols\"><g class=\"legendpoints\"><path class=\"scatterpts\" transform=\"translate(20,0)\" d=\"M7.5,0A7.5,7.5 0 1,1 0,-7.5A7.5,7.5 0 0,1 7.5,0Z\" style=\"opacity: 0.7; stroke-width: 1px; fill: rgb(166, 118, 29); fill-opacity: 1; stroke: rgb(0, 0, 0); stroke-opacity: 0.4;\"/></g></g></g><rect class=\"legendtoggle\" x=\"0\" y=\"-11.9\" width=\"168.40625\" height=\"23.8\" style=\"fill: rgb(0, 0, 0); fill-opacity: 0;\"/></g></g><g class=\"groups\" transform=\"\"><g class=\"traces\" transform=\"translate(0,373.9000000000001)\" style=\"opacity: 1;\"><text class=\"legendtext\" text-anchor=\"start\" x=\"40\" y=\"6.24\" style=\"font-family: 'Open Sans', verdana, arial, sans-serif; font-size: 16px; fill: rgb(42, 63, 95); fill-opacity: 1; white-space: pre;\">Wheelchair</text><g class=\"layers\" style=\"opacity: 1;\"><g class=\"legendfill\"/><g class=\"legendlines\"/><g class=\"legendsymbols\"><g class=\"legendpoints\"><path class=\"scatterpts\" transform=\"translate(20,0)\" d=\"M7.5,0A7.5,7.5 0 1,1 0,-7.5A7.5,7.5 0 0,1 7.5,0Z\" style=\"opacity: 0.7; stroke-width: 1px; fill: rgb(102, 102, 102); fill-opacity: 1; stroke: rgb(0, 0, 0); stroke-opacity: 0.4;\"/></g></g></g><rect class=\"legendtoggle\" x=\"0\" y=\"-11.9\" width=\"168.40625\" height=\"23.8\" style=\"fill: rgb(0, 0, 0); fill-opacity: 0;\"/></g></g></g><rect class=\"scrollbar\" rx=\"20\" ry=\"3\" width=\"0\" height=\"0\" x=\"0\" y=\"0\" style=\"fill: rgb(128, 139, 164); fill-opacity: 1;\"/></g><g class=\"g-gtitle\"/><g class=\"g-xtitle\"><text class=\"xtitle\" x=\"401\" y=\"575.4044921875\" text-anchor=\"middle\" style=\"font-family: 'Open Sans', verdana, arial, sans-serif; font-size: 19px; fill: rgb(42, 63, 95); opacity: 1; font-weight: normal; white-space: pre;\">Load [kg]</text></g><g class=\"g-ytitle\"><text class=\"ytitle\" transform=\"rotate(-90,43.746875,270)\" x=\"43.746875\" y=\"270\" text-anchor=\"middle\" style=\"font-family: 'Open Sans', verdana, arial, sans-serif; font-size: 19px; fill: rgb(42, 63, 95); opacity: 1; font-weight: normal; white-space: pre;\">Performance [15L.km.hr⁻¹]</text></g></g></svg>"
      ]
     },
     "metadata": {},
     "output_type": "display_data"
    },
    {
     "name": "stderr",
     "output_type": "stream",
     "text": [
      "/home/james/Documents/GitHub/water_access/src/mobility_module.py:1420: FutureWarning:\n",
      "\n",
      "The frame.append method is deprecated and will be removed from pandas in a future version. Use pandas.concat instead.\n",
      "\n",
      "/home/james/Documents/GitHub/water_access/src/mobility_module.py:1420: FutureWarning:\n",
      "\n",
      "The frame.append method is deprecated and will be removed from pandas in a future version. Use pandas.concat instead.\n",
      "\n",
      "/home/james/Documents/GitHub/water_access/src/mobility_module.py:1420: FutureWarning:\n",
      "\n",
      "The frame.append method is deprecated and will be removed from pandas in a future version. Use pandas.concat instead.\n",
      "\n",
      "/home/james/Documents/GitHub/water_access/src/mobility_module.py:1420: FutureWarning:\n",
      "\n",
      "The frame.append method is deprecated and will be removed from pandas in a future version. Use pandas.concat instead.\n",
      "\n",
      "/home/james/Documents/GitHub/water_access/src/mobility_module.py:1420: FutureWarning:\n",
      "\n",
      "The frame.append method is deprecated and will be removed from pandas in a future version. Use pandas.concat instead.\n",
      "\n",
      "/home/james/Documents/GitHub/water_access/src/mobility_module.py:1420: FutureWarning:\n",
      "\n",
      "The frame.append method is deprecated and will be removed from pandas in a future version. Use pandas.concat instead.\n",
      "\n",
      "/home/james/Documents/GitHub/water_access/src/mobility_module.py:1420: FutureWarning:\n",
      "\n",
      "The frame.append method is deprecated and will be removed from pandas in a future version. Use pandas.concat instead.\n",
      "\n",
      "/home/james/Documents/GitHub/water_access/src/mobility_module.py:1420: FutureWarning:\n",
      "\n",
      "The frame.append method is deprecated and will be removed from pandas in a future version. Use pandas.concat instead.\n",
      "\n",
      "/home/james/Documents/GitHub/water_access/src/mobility_module.py:1420: FutureWarning:\n",
      "\n",
      "The frame.append method is deprecated and will be removed from pandas in a future version. Use pandas.concat instead.\n",
      "\n",
      "/home/james/Documents/GitHub/water_access/src/mobility_module.py:1420: FutureWarning:\n",
      "\n",
      "The frame.append method is deprecated and will be removed from pandas in a future version. Use pandas.concat instead.\n",
      "\n",
      "/home/james/Documents/GitHub/water_access/src/mobility_module.py:1420: FutureWarning:\n",
      "\n",
      "The frame.append method is deprecated and will be removed from pandas in a future version. Use pandas.concat instead.\n",
      "\n"
     ]
    },
    {
     "data": {
      "image/svg+xml": [
       "<svg class=\"main-svg\" xmlns=\"http://www.w3.org/2000/svg\" xmlns:xlink=\"http://www.w3.org/1999/xlink\" width=\"900\" height=\"600\" style=\"\" viewBox=\"0 0 900 600\"><rect x=\"0\" y=\"0\" width=\"900\" height=\"600\" style=\"fill: rgb(255, 255, 255); fill-opacity: 1;\"/><defs id=\"defs-b081ce\"><g class=\"clips\"><clipPath id=\"clipb081cexyplot\" class=\"plotclip\"><rect width=\"683\" height=\"405\"/></clipPath><clipPath class=\"axesclip\" id=\"clipb081cex\"><rect x=\"100\" y=\"0\" width=\"683\" height=\"600\"/></clipPath><clipPath class=\"axesclip\" id=\"clipb081cey\"><rect x=\"0\" y=\"30\" width=\"900\" height=\"405\"/></clipPath><clipPath class=\"axesclip\" id=\"clipb081cexy\"><rect x=\"100\" y=\"30\" width=\"683\" height=\"405\"/></clipPath></g><g class=\"gradients\"><linearGradient x1=\"0\" x2=\"0\" y1=\"1\" y2=\"0\" id=\"gb081ce-cbcoloraxis\"><stop offset=\"0%\" stop-color=\"rgb(68, 1, 84)\" stop-opacity=\"1\"/><stop offset=\"12.5%\" stop-color=\"rgb(72, 40, 120)\" stop-opacity=\"1\"/><stop offset=\"25%\" stop-color=\"rgb(62, 73, 137)\" stop-opacity=\"1\"/><stop offset=\"37.5%\" stop-color=\"rgb(49, 104, 142)\" stop-opacity=\"1\"/><stop offset=\"50%\" stop-color=\"rgb(38, 130, 142)\" stop-opacity=\"1\"/><stop offset=\"62.5%\" stop-color=\"rgb(31, 158, 137)\" stop-opacity=\"1\"/><stop offset=\"75%\" stop-color=\"rgb(53, 183, 121)\" stop-opacity=\"1\"/><stop offset=\"87.5%\" stop-color=\"rgb(110, 206, 88)\" stop-opacity=\"1\"/><stop offset=\"100%\" stop-color=\"rgb(181, 222, 43)\" stop-opacity=\"1\"/></linearGradient></g><g class=\"patterns\"/></defs><g class=\"bglayer\"><rect class=\"bg\" x=\"100\" y=\"30\" width=\"683\" height=\"405\" style=\"fill: rgb(229, 236, 246); fill-opacity: 1; stroke-width: 0;\"/></g><g class=\"layer-below\"><g class=\"imagelayer\"/><g class=\"shapelayer\"/></g><g class=\"cartesianlayer\"><g class=\"subplot xy\"><g class=\"layer-subplot\"><g class=\"shapelayer\"/><g class=\"imagelayer\"/></g><g class=\"minor-gridlayer\"><g class=\"x\"/><g class=\"y\"/></g><g class=\"gridlayer\"><g class=\"x\"><path class=\"xgrid crisp\" transform=\"translate(138.53,0)\" d=\"M0,30v405\" style=\"stroke: rgb(255, 255, 255); stroke-opacity: 1; stroke-width: 1px;\"/><path class=\"xgrid crisp\" transform=\"translate(178.92000000000002,0)\" d=\"M0,30v405\" style=\"stroke: rgb(255, 255, 255); stroke-opacity: 1; stroke-width: 1px;\"/><path class=\"xgrid crisp\" transform=\"translate(219.32,0)\" d=\"M0,30v405\" style=\"stroke: rgb(255, 255, 255); stroke-opacity: 1; stroke-width: 1px;\"/><path class=\"xgrid crisp\" transform=\"translate(259.72,0)\" d=\"M0,30v405\" style=\"stroke: rgb(255, 255, 255); stroke-opacity: 1; stroke-width: 1px;\"/><path class=\"xgrid crisp\" transform=\"translate(300.11,0)\" d=\"M0,30v405\" style=\"stroke: rgb(255, 255, 255); stroke-opacity: 1; stroke-width: 1px;\"/><path class=\"xgrid crisp\" transform=\"translate(340.51,0)\" d=\"M0,30v405\" style=\"stroke: rgb(255, 255, 255); stroke-opacity: 1; stroke-width: 1px;\"/><path class=\"xgrid crisp\" transform=\"translate(380.9,0)\" d=\"M0,30v405\" style=\"stroke: rgb(255, 255, 255); stroke-opacity: 1; stroke-width: 1px;\"/><path class=\"xgrid crisp\" transform=\"translate(421.3,0)\" d=\"M0,30v405\" style=\"stroke: rgb(255, 255, 255); stroke-opacity: 1; stroke-width: 1px;\"/><path class=\"xgrid crisp\" transform=\"translate(461.7,0)\" d=\"M0,30v405\" style=\"stroke: rgb(255, 255, 255); stroke-opacity: 1; stroke-width: 1px;\"/><path class=\"xgrid crisp\" transform=\"translate(502.1,0)\" d=\"M0,30v405\" style=\"stroke: rgb(255, 255, 255); stroke-opacity: 1; stroke-width: 1px;\"/><path class=\"xgrid crisp\" transform=\"translate(542.49,0)\" d=\"M0,30v405\" style=\"stroke: rgb(255, 255, 255); stroke-opacity: 1; stroke-width: 1px;\"/><path class=\"xgrid crisp\" transform=\"translate(582.89,0)\" d=\"M0,30v405\" style=\"stroke: rgb(255, 255, 255); stroke-opacity: 1; stroke-width: 1px;\"/><path class=\"xgrid crisp\" transform=\"translate(623.29,0)\" d=\"M0,30v405\" style=\"stroke: rgb(255, 255, 255); stroke-opacity: 1; stroke-width: 1px;\"/><path class=\"xgrid crisp\" transform=\"translate(663.68,0)\" d=\"M0,30v405\" style=\"stroke: rgb(255, 255, 255); stroke-opacity: 1; stroke-width: 1px;\"/><path class=\"xgrid crisp\" transform=\"translate(704.08,0)\" d=\"M0,30v405\" style=\"stroke: rgb(255, 255, 255); stroke-opacity: 1; stroke-width: 1px;\"/><path class=\"xgrid crisp\" transform=\"translate(744.48,0)\" d=\"M0,30v405\" style=\"stroke: rgb(255, 255, 255); stroke-opacity: 1; stroke-width: 1px;\"/></g><g class=\"y\"><path class=\"ygrid crisp\" transform=\"translate(0,362.98)\" d=\"M100,0h683\" style=\"stroke: rgb(255, 255, 255); stroke-opacity: 1; stroke-width: 1px;\"/><path class=\"ygrid crisp\" transform=\"translate(0,289.43)\" d=\"M100,0h683\" style=\"stroke: rgb(255, 255, 255); stroke-opacity: 1; stroke-width: 1px;\"/><path class=\"ygrid crisp\" transform=\"translate(0,215.87)\" d=\"M100,0h683\" style=\"stroke: rgb(255, 255, 255); stroke-opacity: 1; stroke-width: 1px;\"/><path class=\"ygrid crisp\" transform=\"translate(0,142.31)\" d=\"M100,0h683\" style=\"stroke: rgb(255, 255, 255); stroke-opacity: 1; stroke-width: 1px;\"/><path class=\"ygrid crisp\" transform=\"translate(0,68.75)\" d=\"M100,0h683\" style=\"stroke: rgb(255, 255, 255); stroke-opacity: 1; stroke-width: 1px;\"/></g></g><g class=\"zerolinelayer\"/><path class=\"xlines-below\"/><path class=\"ylines-below\"/><g class=\"overlines-below\"/><g class=\"xaxislayer-below\"/><g class=\"yaxislayer-below\"/><g class=\"overaxes-below\"/><g class=\"plot\" transform=\"translate(100,30)\" clip-path=\"url(#clipb081cexyplot)\"><g class=\"scatterlayer mlayer\"><g class=\"trace scatter tracef0072d\" style=\"stroke-miterlimit: 2; opacity: 1;\"><g class=\"fills\"/><g class=\"errorbars\"/><g class=\"lines\"/><g class=\"points\"><path class=\"point plotly-customdata\" transform=\"translate(78.92,376.07)\" d=\"M3.5,0A3.5,3.5 0 1,1 0,-3.5A3.5,3.5 0 0,1 3.5,0Z\" style=\"opacity: 0.7; stroke-width: 1px; fill: rgb(68, 1, 84); fill-opacity: 1; stroke: rgb(0, 0, 0); stroke-opacity: 0.4;\"/><path class=\"point plotly-customdata\" transform=\"translate(159.72,368.47)\" d=\"M3.5,0A3.5,3.5 0 1,1 0,-3.5A3.5,3.5 0 0,1 3.5,0Z\" style=\"opacity: 0.7; stroke-width: 1px; fill: rgb(68, 1, 84); fill-opacity: 1; stroke: rgb(0, 0, 0); stroke-opacity: 0.4;\"/><path class=\"point plotly-customdata\" transform=\"translate(402.1,233.33)\" d=\"M3.5,0A3.5,3.5 0 1,1 0,-3.5A3.5,3.5 0 0,1 3.5,0Z\" style=\"opacity: 0.7; stroke-width: 1px; fill: rgb(68, 1, 84); fill-opacity: 1; stroke: rgb(0, 0, 0); stroke-opacity: 0.4;\"/><path class=\"point plotly-customdata\" transform=\"translate(38.53,379.67)\" d=\"M3.5,0A3.5,3.5 0 1,1 0,-3.5A3.5,3.5 0 0,1 3.5,0Z\" style=\"opacity: 0.7; stroke-width: 1px; fill: rgb(68, 1, 84); fill-opacity: 1; stroke: rgb(0, 0, 0); stroke-opacity: 0.4;\"/><path class=\"point plotly-customdata\" transform=\"translate(644.48,24.63)\" d=\"M3.5,0A3.5,3.5 0 1,1 0,-3.5A3.5,3.5 0 0,1 3.5,0Z\" style=\"opacity: 0.7; stroke-width: 1px; fill: rgb(68, 1, 84); fill-opacity: 1; stroke: rgb(0, 0, 0); stroke-opacity: 0.4;\"/><path class=\"point plotly-customdata\" transform=\"translate(604.08,104.77)\" d=\"M3.5,0A3.5,3.5 0 1,1 0,-3.5A3.5,3.5 0 0,1 3.5,0Z\" style=\"opacity: 0.7; stroke-width: 1px; fill: rgb(68, 1, 84); fill-opacity: 1; stroke: rgb(0, 0, 0); stroke-opacity: 0.4;\"/><path class=\"point plotly-customdata\" transform=\"translate(442.49,242.21)\" d=\"M3.5,0A3.5,3.5 0 1,1 0,-3.5A3.5,3.5 0 0,1 3.5,0Z\" style=\"opacity: 0.7; stroke-width: 1px; fill: rgb(68, 1, 84); fill-opacity: 1; stroke: rgb(0, 0, 0); stroke-opacity: 0.4;\"/><path class=\"point plotly-customdata\" transform=\"translate(119.32,375.97)\" d=\"M3.5,0A3.5,3.5 0 1,1 0,-3.5A3.5,3.5 0 0,1 3.5,0Z\" style=\"opacity: 0.7; stroke-width: 1px; fill: rgb(68, 1, 84); fill-opacity: 1; stroke: rgb(0, 0, 0); stroke-opacity: 0.4;\"/><path class=\"point plotly-customdata\" transform=\"translate(240.51,334.29)\" d=\"M3.5,0A3.5,3.5 0 1,1 0,-3.5A3.5,3.5 0 0,1 3.5,0Z\" style=\"opacity: 0.7; stroke-width: 1px; fill: rgb(68, 1, 84); fill-opacity: 1; stroke: rgb(0, 0, 0); stroke-opacity: 0.4;\"/><path class=\"point plotly-customdata\" transform=\"translate(523.29,167.19)\" d=\"M3.5,0A3.5,3.5 0 1,1 0,-3.5A3.5,3.5 0 0,1 3.5,0Z\" style=\"opacity: 0.7; stroke-width: 1px; fill: rgb(68, 1, 84); fill-opacity: 1; stroke: rgb(0, 0, 0); stroke-opacity: 0.4;\"/><path class=\"point plotly-customdata\" transform=\"translate(200.11,339.4)\" d=\"M3.5,0A3.5,3.5 0 1,1 0,-3.5A3.5,3.5 0 0,1 3.5,0Z\" style=\"opacity: 0.7; stroke-width: 1px; fill: rgb(68, 1, 84); fill-opacity: 1; stroke: rgb(0, 0, 0); stroke-opacity: 0.4;\"/><path class=\"point plotly-customdata\" transform=\"translate(563.68,139.53)\" d=\"M3.5,0A3.5,3.5 0 1,1 0,-3.5A3.5,3.5 0 0,1 3.5,0Z\" style=\"opacity: 0.7; stroke-width: 1px; fill: rgb(68, 1, 84); fill-opacity: 1; stroke: rgb(0, 0, 0); stroke-opacity: 0.4;\"/><path class=\"point plotly-customdata\" transform=\"translate(321.3,300.47)\" d=\"M3.5,0A3.5,3.5 0 1,1 0,-3.5A3.5,3.5 0 0,1 3.5,0Z\" style=\"opacity: 0.7; stroke-width: 1px; fill: rgb(68, 1, 84); fill-opacity: 1; stroke: rgb(0, 0, 0); stroke-opacity: 0.4;\"/><path class=\"point plotly-customdata\" transform=\"translate(280.9,308.02)\" d=\"M3.5,0A3.5,3.5 0 1,1 0,-3.5A3.5,3.5 0 0,1 3.5,0Z\" style=\"opacity: 0.7; stroke-width: 1px; fill: rgb(68, 1, 84); fill-opacity: 1; stroke: rgb(0, 0, 0); stroke-opacity: 0.4;\"/><path class=\"point plotly-customdata\" transform=\"translate(482.89,196.23)\" d=\"M3.5,0A3.5,3.5 0 1,1 0,-3.5A3.5,3.5 0 0,1 3.5,0Z\" style=\"opacity: 0.7; stroke-width: 1px; fill: rgb(68, 1, 84); fill-opacity: 1; stroke: rgb(0, 0, 0); stroke-opacity: 0.4;\"/><path class=\"point plotly-customdata\" transform=\"translate(361.7,285.13)\" d=\"M3.5,0A3.5,3.5 0 1,1 0,-3.5A3.5,3.5 0 0,1 3.5,0Z\" style=\"opacity: 0.7; stroke-width: 1px; fill: rgb(68, 1, 84); fill-opacity: 1; stroke: rgb(0, 0, 0); stroke-opacity: 0.4;\"/><path class=\"point plotly-customdata\" transform=\"translate(78.92,376.19)\" d=\"M3.5,0A3.5,3.5 0 1,1 0,-3.5A3.5,3.5 0 0,1 3.5,0Z\" style=\"opacity: 0.7; stroke-width: 1px; fill: rgb(71, 27, 108); fill-opacity: 1; stroke: rgb(0, 0, 0); stroke-opacity: 0.4;\"/><path class=\"point plotly-customdata\" transform=\"translate(159.72,368.59)\" d=\"M3.5,0A3.5,3.5 0 1,1 0,-3.5A3.5,3.5 0 0,1 3.5,0Z\" style=\"opacity: 0.7; stroke-width: 1px; fill: rgb(71, 27, 108); fill-opacity: 1; stroke: rgb(0, 0, 0); stroke-opacity: 0.4;\"/><path class=\"point plotly-customdata\" transform=\"translate(402.1,238.63)\" d=\"M3.5,0A3.5,3.5 0 1,1 0,-3.5A3.5,3.5 0 0,1 3.5,0Z\" style=\"opacity: 0.7; stroke-width: 1px; fill: rgb(71, 27, 108); fill-opacity: 1; stroke: rgb(0, 0, 0); stroke-opacity: 0.4;\"/><path class=\"point plotly-customdata\" transform=\"translate(38.53,379.73)\" d=\"M3.5,0A3.5,3.5 0 1,1 0,-3.5A3.5,3.5 0 0,1 3.5,0Z\" style=\"opacity: 0.7; stroke-width: 1px; fill: rgb(71, 27, 108); fill-opacity: 1; stroke: rgb(0, 0, 0); stroke-opacity: 0.4;\"/><path class=\"point plotly-customdata\" transform=\"translate(644.48,46.82)\" d=\"M3.5,0A3.5,3.5 0 1,1 0,-3.5A3.5,3.5 0 0,1 3.5,0Z\" style=\"opacity: 0.7; stroke-width: 1px; fill: rgb(71, 27, 108); fill-opacity: 1; stroke: rgb(0, 0, 0); stroke-opacity: 0.4;\"/><path class=\"point plotly-customdata\" transform=\"translate(604.08,114.79)\" d=\"M3.5,0A3.5,3.5 0 1,1 0,-3.5A3.5,3.5 0 0,1 3.5,0Z\" style=\"opacity: 0.7; stroke-width: 1px; fill: rgb(71, 27, 108); fill-opacity: 1; stroke: rgb(0, 0, 0); stroke-opacity: 0.4;\"/><path class=\"point plotly-customdata\" transform=\"translate(442.49,244.83)\" d=\"M3.5,0A3.5,3.5 0 1,1 0,-3.5A3.5,3.5 0 0,1 3.5,0Z\" style=\"opacity: 0.7; stroke-width: 1px; fill: rgb(71, 27, 108); fill-opacity: 1; stroke: rgb(0, 0, 0); stroke-opacity: 0.4;\"/><path class=\"point plotly-customdata\" transform=\"translate(119.32,376.06)\" d=\"M3.5,0A3.5,3.5 0 1,1 0,-3.5A3.5,3.5 0 0,1 3.5,0Z\" style=\"opacity: 0.7; stroke-width: 1px; fill: rgb(71, 27, 108); fill-opacity: 1; stroke: rgb(0, 0, 0); stroke-opacity: 0.4;\"/><path class=\"point plotly-customdata\" transform=\"translate(240.51,335.48)\" d=\"M3.5,0A3.5,3.5 0 1,1 0,-3.5A3.5,3.5 0 0,1 3.5,0Z\" style=\"opacity: 0.7; stroke-width: 1px; fill: rgb(71, 27, 108); fill-opacity: 1; stroke: rgb(0, 0, 0); stroke-opacity: 0.4;\"/><path class=\"point plotly-customdata\" transform=\"translate(523.29,172.03)\" d=\"M3.5,0A3.5,3.5 0 1,1 0,-3.5A3.5,3.5 0 0,1 3.5,0Z\" style=\"opacity: 0.7; stroke-width: 1px; fill: rgb(71, 27, 108); fill-opacity: 1; stroke: rgb(0, 0, 0); stroke-opacity: 0.4;\"/><path class=\"point plotly-customdata\" transform=\"translate(200.11,340.46)\" d=\"M3.5,0A3.5,3.5 0 1,1 0,-3.5A3.5,3.5 0 0,1 3.5,0Z\" style=\"opacity: 0.7; stroke-width: 1px; fill: rgb(71, 27, 108); fill-opacity: 1; stroke: rgb(0, 0, 0); stroke-opacity: 0.4;\"/><path class=\"point plotly-customdata\" transform=\"translate(563.68,146.74)\" d=\"M3.5,0A3.5,3.5 0 1,1 0,-3.5A3.5,3.5 0 0,1 3.5,0Z\" style=\"opacity: 0.7; stroke-width: 1px; fill: rgb(71, 27, 108); fill-opacity: 1; stroke: rgb(0, 0, 0); stroke-opacity: 0.4;\"/><path class=\"point plotly-customdata\" transform=\"translate(321.3,302.52)\" d=\"M3.5,0A3.5,3.5 0 1,1 0,-3.5A3.5,3.5 0 0,1 3.5,0Z\" style=\"opacity: 0.7; stroke-width: 1px; fill: rgb(71, 27, 108); fill-opacity: 1; stroke: rgb(0, 0, 0); stroke-opacity: 0.4;\"/><path class=\"point plotly-customdata\" transform=\"translate(280.9,309.08)\" d=\"M3.5,0A3.5,3.5 0 1,1 0,-3.5A3.5,3.5 0 0,1 3.5,0Z\" style=\"opacity: 0.7; stroke-width: 1px; fill: rgb(71, 27, 108); fill-opacity: 1; stroke: rgb(0, 0, 0); stroke-opacity: 0.4;\"/><path class=\"point plotly-customdata\" transform=\"translate(482.89,200.84)\" d=\"M3.5,0A3.5,3.5 0 1,1 0,-3.5A3.5,3.5 0 0,1 3.5,0Z\" style=\"opacity: 0.7; stroke-width: 1px; fill: rgb(71, 27, 108); fill-opacity: 1; stroke: rgb(0, 0, 0); stroke-opacity: 0.4;\"/><path class=\"point plotly-customdata\" transform=\"translate(361.7,286.69)\" d=\"M3.5,0A3.5,3.5 0 1,1 0,-3.5A3.5,3.5 0 0,1 3.5,0Z\" style=\"opacity: 0.7; stroke-width: 1px; fill: rgb(71, 27, 108); fill-opacity: 1; stroke: rgb(0, 0, 0); stroke-opacity: 0.4;\"/><path class=\"point plotly-customdata\" transform=\"translate(78.92,376.3)\" d=\"M3.5,0A3.5,3.5 0 1,1 0,-3.5A3.5,3.5 0 0,1 3.5,0Z\" style=\"opacity: 0.7; stroke-width: 1px; fill: rgb(69, 51, 126); fill-opacity: 1; stroke: rgb(0, 0, 0); stroke-opacity: 0.4;\"/><path class=\"point plotly-customdata\" transform=\"translate(159.72,368.71)\" d=\"M3.5,0A3.5,3.5 0 1,1 0,-3.5A3.5,3.5 0 0,1 3.5,0Z\" style=\"opacity: 0.7; stroke-width: 1px; fill: rgb(69, 51, 126); fill-opacity: 1; stroke: rgb(0, 0, 0); stroke-opacity: 0.4;\"/><path class=\"point plotly-customdata\" transform=\"translate(402.1,243.75)\" d=\"M3.5,0A3.5,3.5 0 1,1 0,-3.5A3.5,3.5 0 0,1 3.5,0Z\" style=\"opacity: 0.7; stroke-width: 1px; fill: rgb(69, 51, 126); fill-opacity: 1; stroke: rgb(0, 0, 0); stroke-opacity: 0.4;\"/><path class=\"point plotly-customdata\" transform=\"translate(38.53,379.79)\" d=\"M3.5,0A3.5,3.5 0 1,1 0,-3.5A3.5,3.5 0 0,1 3.5,0Z\" style=\"opacity: 0.7; stroke-width: 1px; fill: rgb(69, 51, 126); fill-opacity: 1; stroke: rgb(0, 0, 0); stroke-opacity: 0.4;\"/><path class=\"point plotly-customdata\" transform=\"translate(644.48,67.3)\" d=\"M3.5,0A3.5,3.5 0 1,1 0,-3.5A3.5,3.5 0 0,1 3.5,0Z\" style=\"opacity: 0.7; stroke-width: 1px; fill: rgb(69, 51, 126); fill-opacity: 1; stroke: rgb(0, 0, 0); stroke-opacity: 0.4;\"/><path class=\"point plotly-customdata\" transform=\"translate(604.08,124.4)\" d=\"M3.5,0A3.5,3.5 0 1,1 0,-3.5A3.5,3.5 0 0,1 3.5,0Z\" style=\"opacity: 0.7; stroke-width: 1px; fill: rgb(69, 51, 126); fill-opacity: 1; stroke: rgb(0, 0, 0); stroke-opacity: 0.4;\"/><path class=\"point plotly-customdata\" transform=\"translate(442.49,247.4)\" d=\"M3.5,0A3.5,3.5 0 1,1 0,-3.5A3.5,3.5 0 0,1 3.5,0Z\" style=\"opacity: 0.7; stroke-width: 1px; fill: rgb(69, 51, 126); fill-opacity: 1; stroke: rgb(0, 0, 0); stroke-opacity: 0.4;\"/><path class=\"point plotly-customdata\" transform=\"translate(119.32,376.15)\" d=\"M3.5,0A3.5,3.5 0 1,1 0,-3.5A3.5,3.5 0 0,1 3.5,0Z\" style=\"opacity: 0.7; stroke-width: 1px; fill: rgb(69, 51, 126); fill-opacity: 1; stroke: rgb(0, 0, 0); stroke-opacity: 0.4;\"/><path class=\"point plotly-customdata\" transform=\"translate(240.51,336.64)\" d=\"M3.5,0A3.5,3.5 0 1,1 0,-3.5A3.5,3.5 0 0,1 3.5,0Z\" style=\"opacity: 0.7; stroke-width: 1px; fill: rgb(69, 51, 126); fill-opacity: 1; stroke: rgb(0, 0, 0); stroke-opacity: 0.4;\"/><path class=\"point plotly-customdata\" transform=\"translate(523.29,176.76)\" d=\"M3.5,0A3.5,3.5 0 1,1 0,-3.5A3.5,3.5 0 0,1 3.5,0Z\" style=\"opacity: 0.7; stroke-width: 1px; fill: rgb(69, 51, 126); fill-opacity: 1; stroke: rgb(0, 0, 0); stroke-opacity: 0.4;\"/><path class=\"point plotly-customdata\" transform=\"translate(200.11,341.5)\" d=\"M3.5,0A3.5,3.5 0 1,1 0,-3.5A3.5,3.5 0 0,1 3.5,0Z\" style=\"opacity: 0.7; stroke-width: 1px; fill: rgb(69, 51, 126); fill-opacity: 1; stroke: rgb(0, 0, 0); stroke-opacity: 0.4;\"/><path class=\"point plotly-customdata\" transform=\"translate(563.68,153.71)\" d=\"M3.5,0A3.5,3.5 0 1,1 0,-3.5A3.5,3.5 0 0,1 3.5,0Z\" style=\"opacity: 0.7; stroke-width: 1px; fill: rgb(69, 51, 126); fill-opacity: 1; stroke: rgb(0, 0, 0); stroke-opacity: 0.4;\"/><path class=\"point plotly-customdata\" transform=\"translate(321.3,304.51)\" d=\"M3.5,0A3.5,3.5 0 1,1 0,-3.5A3.5,3.5 0 0,1 3.5,0Z\" style=\"opacity: 0.7; stroke-width: 1px; fill: rgb(69, 51, 126); fill-opacity: 1; stroke: rgb(0, 0, 0); stroke-opacity: 0.4;\"/><path class=\"point plotly-customdata\" transform=\"translate(280.9,310.12)\" d=\"M3.5,0A3.5,3.5 0 1,1 0,-3.5A3.5,3.5 0 0,1 3.5,0Z\" style=\"opacity: 0.7; stroke-width: 1px; fill: rgb(69, 51, 126); fill-opacity: 1; stroke: rgb(0, 0, 0); stroke-opacity: 0.4;\"/><path class=\"point plotly-customdata\" transform=\"translate(482.89,205.34)\" d=\"M3.5,0A3.5,3.5 0 1,1 0,-3.5A3.5,3.5 0 0,1 3.5,0Z\" style=\"opacity: 0.7; stroke-width: 1px; fill: rgb(69, 51, 126); fill-opacity: 1; stroke: rgb(0, 0, 0); stroke-opacity: 0.4;\"/><path class=\"point plotly-customdata\" transform=\"translate(361.7,288.21)\" d=\"M3.5,0A3.5,3.5 0 1,1 0,-3.5A3.5,3.5 0 0,1 3.5,0Z\" style=\"opacity: 0.7; stroke-width: 1px; fill: rgb(69, 51, 126); fill-opacity: 1; stroke: rgb(0, 0, 0); stroke-opacity: 0.4;\"/><path class=\"point plotly-customdata\" transform=\"translate(78.92,376.42)\" d=\"M3.5,0A3.5,3.5 0 1,1 0,-3.5A3.5,3.5 0 0,1 3.5,0Z\" style=\"opacity: 0.7; stroke-width: 1px; fill: rgb(62, 73, 137); fill-opacity: 1; stroke: rgb(0, 0, 0); stroke-opacity: 0.4;\"/><path class=\"point plotly-customdata\" transform=\"translate(159.72,368.83)\" d=\"M3.5,0A3.5,3.5 0 1,1 0,-3.5A3.5,3.5 0 0,1 3.5,0Z\" style=\"opacity: 0.7; stroke-width: 1px; fill: rgb(62, 73, 137); fill-opacity: 1; stroke: rgb(0, 0, 0); stroke-opacity: 0.4;\"/><path class=\"point plotly-customdata\" transform=\"translate(402.1,248.69)\" d=\"M3.5,0A3.5,3.5 0 1,1 0,-3.5A3.5,3.5 0 0,1 3.5,0Z\" style=\"opacity: 0.7; stroke-width: 1px; fill: rgb(62, 73, 137); fill-opacity: 1; stroke: rgb(0, 0, 0); stroke-opacity: 0.4;\"/><path class=\"point plotly-customdata\" transform=\"translate(38.53,379.85)\" d=\"M3.5,0A3.5,3.5 0 1,1 0,-3.5A3.5,3.5 0 0,1 3.5,0Z\" style=\"opacity: 0.7; stroke-width: 1px; fill: rgb(62, 73, 137); fill-opacity: 1; stroke: rgb(0, 0, 0); stroke-opacity: 0.4;\"/><path class=\"point plotly-customdata\" transform=\"translate(644.48,86.14)\" d=\"M3.5,0A3.5,3.5 0 1,1 0,-3.5A3.5,3.5 0 0,1 3.5,0Z\" style=\"opacity: 0.7; stroke-width: 1px; fill: rgb(62, 73, 137); fill-opacity: 1; stroke: rgb(0, 0, 0); stroke-opacity: 0.4;\"/><path class=\"point plotly-customdata\" transform=\"translate(604.08,133.59)\" d=\"M3.5,0A3.5,3.5 0 1,1 0,-3.5A3.5,3.5 0 0,1 3.5,0Z\" style=\"opacity: 0.7; stroke-width: 1px; fill: rgb(62, 73, 137); fill-opacity: 1; stroke: rgb(0, 0, 0); stroke-opacity: 0.4;\"/><path class=\"point plotly-customdata\" transform=\"translate(442.49,249.92)\" d=\"M3.5,0A3.5,3.5 0 1,1 0,-3.5A3.5,3.5 0 0,1 3.5,0Z\" style=\"opacity: 0.7; stroke-width: 1px; fill: rgb(62, 73, 137); fill-opacity: 1; stroke: rgb(0, 0, 0); stroke-opacity: 0.4;\"/><path class=\"point plotly-customdata\" transform=\"translate(119.32,376.25)\" d=\"M3.5,0A3.5,3.5 0 1,1 0,-3.5A3.5,3.5 0 0,1 3.5,0Z\" style=\"opacity: 0.7; stroke-width: 1px; fill: rgb(62, 73, 137); fill-opacity: 1; stroke: rgb(0, 0, 0); stroke-opacity: 0.4;\"/><path class=\"point plotly-customdata\" transform=\"translate(240.51,337.77)\" d=\"M3.5,0A3.5,3.5 0 1,1 0,-3.5A3.5,3.5 0 0,1 3.5,0Z\" style=\"opacity: 0.7; stroke-width: 1px; fill: rgb(62, 73, 137); fill-opacity: 1; stroke: rgb(0, 0, 0); stroke-opacity: 0.4;\"/><path class=\"point plotly-customdata\" transform=\"translate(523.29,181.38)\" d=\"M3.5,0A3.5,3.5 0 1,1 0,-3.5A3.5,3.5 0 0,1 3.5,0Z\" style=\"opacity: 0.7; stroke-width: 1px; fill: rgb(62, 73, 137); fill-opacity: 1; stroke: rgb(0, 0, 0); stroke-opacity: 0.4;\"/><path class=\"point plotly-customdata\" transform=\"translate(200.11,342.52)\" d=\"M3.5,0A3.5,3.5 0 1,1 0,-3.5A3.5,3.5 0 0,1 3.5,0Z\" style=\"opacity: 0.7; stroke-width: 1px; fill: rgb(62, 73, 137); fill-opacity: 1; stroke: rgb(0, 0, 0); stroke-opacity: 0.4;\"/><path class=\"point plotly-customdata\" transform=\"translate(563.68,160.44)\" d=\"M3.5,0A3.5,3.5 0 1,1 0,-3.5A3.5,3.5 0 0,1 3.5,0Z\" style=\"opacity: 0.7; stroke-width: 1px; fill: rgb(62, 73, 137); fill-opacity: 1; stroke: rgb(0, 0, 0); stroke-opacity: 0.4;\"/><path class=\"point plotly-customdata\" transform=\"translate(321.3,306.45)\" d=\"M3.5,0A3.5,3.5 0 1,1 0,-3.5A3.5,3.5 0 0,1 3.5,0Z\" style=\"opacity: 0.7; stroke-width: 1px; fill: rgb(62, 73, 137); fill-opacity: 1; stroke: rgb(0, 0, 0); stroke-opacity: 0.4;\"/><path class=\"point plotly-customdata\" transform=\"translate(280.9,311.15)\" d=\"M3.5,0A3.5,3.5 0 1,1 0,-3.5A3.5,3.5 0 0,1 3.5,0Z\" style=\"opacity: 0.7; stroke-width: 1px; fill: rgb(62, 73, 137); fill-opacity: 1; stroke: rgb(0, 0, 0); stroke-opacity: 0.4;\"/><path class=\"point plotly-customdata\" transform=\"translate(482.89,209.7)\" d=\"M3.5,0A3.5,3.5 0 1,1 0,-3.5A3.5,3.5 0 0,1 3.5,0Z\" style=\"opacity: 0.7; stroke-width: 1px; fill: rgb(62, 73, 137); fill-opacity: 1; stroke: rgb(0, 0, 0); stroke-opacity: 0.4;\"/><path class=\"point plotly-customdata\" transform=\"translate(361.7,289.71)\" d=\"M3.5,0A3.5,3.5 0 1,1 0,-3.5A3.5,3.5 0 0,1 3.5,0Z\" style=\"opacity: 0.7; stroke-width: 1px; fill: rgb(62, 73, 137); fill-opacity: 1; stroke: rgb(0, 0, 0); stroke-opacity: 0.4;\"/><path class=\"point plotly-customdata\" transform=\"translate(78.92,376.53)\" d=\"M3.5,0A3.5,3.5 0 1,1 0,-3.5A3.5,3.5 0 0,1 3.5,0Z\" style=\"opacity: 0.7; stroke-width: 1px; fill: rgb(53, 94, 140); fill-opacity: 1; stroke: rgb(0, 0, 0); stroke-opacity: 0.4;\"/><path class=\"point plotly-customdata\" transform=\"translate(159.72,368.95)\" d=\"M3.5,0A3.5,3.5 0 1,1 0,-3.5A3.5,3.5 0 0,1 3.5,0Z\" style=\"opacity: 0.7; stroke-width: 1px; fill: rgb(53, 94, 140); fill-opacity: 1; stroke: rgb(0, 0, 0); stroke-opacity: 0.4;\"/><path class=\"point plotly-customdata\" transform=\"translate(402.1,253.44)\" d=\"M3.5,0A3.5,3.5 0 1,1 0,-3.5A3.5,3.5 0 0,1 3.5,0Z\" style=\"opacity: 0.7; stroke-width: 1px; fill: rgb(53, 94, 140); fill-opacity: 1; stroke: rgb(0, 0, 0); stroke-opacity: 0.4;\"/><path class=\"point plotly-customdata\" transform=\"translate(38.53,379.91)\" d=\"M3.5,0A3.5,3.5 0 1,1 0,-3.5A3.5,3.5 0 0,1 3.5,0Z\" style=\"opacity: 0.7; stroke-width: 1px; fill: rgb(53, 94, 140); fill-opacity: 1; stroke: rgb(0, 0, 0); stroke-opacity: 0.4;\"/><path class=\"point plotly-customdata\" transform=\"translate(644.48,103.46)\" d=\"M3.5,0A3.5,3.5 0 1,1 0,-3.5A3.5,3.5 0 0,1 3.5,0Z\" style=\"opacity: 0.7; stroke-width: 1px; fill: rgb(53, 94, 140); fill-opacity: 1; stroke: rgb(0, 0, 0); stroke-opacity: 0.4;\"/><path class=\"point plotly-customdata\" transform=\"translate(604.08,142.38)\" d=\"M3.5,0A3.5,3.5 0 1,1 0,-3.5A3.5,3.5 0 0,1 3.5,0Z\" style=\"opacity: 0.7; stroke-width: 1px; fill: rgb(53, 94, 140); fill-opacity: 1; stroke: rgb(0, 0, 0); stroke-opacity: 0.4;\"/><path class=\"point plotly-customdata\" transform=\"translate(442.49,252.38)\" d=\"M3.5,0A3.5,3.5 0 1,1 0,-3.5A3.5,3.5 0 0,1 3.5,0Z\" style=\"opacity: 0.7; stroke-width: 1px; fill: rgb(53, 94, 140); fill-opacity: 1; stroke: rgb(0, 0, 0); stroke-opacity: 0.4;\"/><path class=\"point plotly-customdata\" transform=\"translate(119.32,376.34)\" d=\"M3.5,0A3.5,3.5 0 1,1 0,-3.5A3.5,3.5 0 0,1 3.5,0Z\" style=\"opacity: 0.7; stroke-width: 1px; fill: rgb(53, 94, 140); fill-opacity: 1; stroke: rgb(0, 0, 0); stroke-opacity: 0.4;\"/><path class=\"point plotly-customdata\" transform=\"translate(240.51,338.88)\" d=\"M3.5,0A3.5,3.5 0 1,1 0,-3.5A3.5,3.5 0 0,1 3.5,0Z\" style=\"opacity: 0.7; stroke-width: 1px; fill: rgb(53, 94, 140); fill-opacity: 1; stroke: rgb(0, 0, 0); stroke-opacity: 0.4;\"/><path class=\"point plotly-customdata\" transform=\"translate(523.29,185.88)\" d=\"M3.5,0A3.5,3.5 0 1,1 0,-3.5A3.5,3.5 0 0,1 3.5,0Z\" style=\"opacity: 0.7; stroke-width: 1px; fill: rgb(53, 94, 140); fill-opacity: 1; stroke: rgb(0, 0, 0); stroke-opacity: 0.4;\"/><path class=\"point plotly-customdata\" transform=\"translate(200.11,343.52)\" d=\"M3.5,0A3.5,3.5 0 1,1 0,-3.5A3.5,3.5 0 0,1 3.5,0Z\" style=\"opacity: 0.7; stroke-width: 1px; fill: rgb(53, 94, 140); fill-opacity: 1; stroke: rgb(0, 0, 0); stroke-opacity: 0.4;\"/><path class=\"point plotly-customdata\" transform=\"translate(563.68,166.93)\" d=\"M3.5,0A3.5,3.5 0 1,1 0,-3.5A3.5,3.5 0 0,1 3.5,0Z\" style=\"opacity: 0.7; stroke-width: 1px; fill: rgb(53, 94, 140); fill-opacity: 1; stroke: rgb(0, 0, 0); stroke-opacity: 0.4;\"/><path class=\"point plotly-customdata\" transform=\"translate(321.3,308.35)\" d=\"M3.5,0A3.5,3.5 0 1,1 0,-3.5A3.5,3.5 0 0,1 3.5,0Z\" style=\"opacity: 0.7; stroke-width: 1px; fill: rgb(53, 94, 140); fill-opacity: 1; stroke: rgb(0, 0, 0); stroke-opacity: 0.4;\"/><path class=\"point plotly-customdata\" transform=\"translate(280.9,312.16)\" d=\"M3.5,0A3.5,3.5 0 1,1 0,-3.5A3.5,3.5 0 0,1 3.5,0Z\" style=\"opacity: 0.7; stroke-width: 1px; fill: rgb(53, 94, 140); fill-opacity: 1; stroke: rgb(0, 0, 0); stroke-opacity: 0.4;\"/><path class=\"point plotly-customdata\" transform=\"translate(482.89,213.94)\" d=\"M3.5,0A3.5,3.5 0 1,1 0,-3.5A3.5,3.5 0 0,1 3.5,0Z\" style=\"opacity: 0.7; stroke-width: 1px; fill: rgb(53, 94, 140); fill-opacity: 1; stroke: rgb(0, 0, 0); stroke-opacity: 0.4;\"/><path class=\"point plotly-customdata\" transform=\"translate(361.7,291.19)\" d=\"M3.5,0A3.5,3.5 0 1,1 0,-3.5A3.5,3.5 0 0,1 3.5,0Z\" style=\"opacity: 0.7; stroke-width: 1px; fill: rgb(53, 94, 140); fill-opacity: 1; stroke: rgb(0, 0, 0); stroke-opacity: 0.4;\"/><path class=\"point plotly-customdata\" transform=\"translate(78.92,376.65)\" d=\"M3.5,0A3.5,3.5 0 1,1 0,-3.5A3.5,3.5 0 0,1 3.5,0Z\" style=\"opacity: 0.7; stroke-width: 1px; fill: rgb(45, 113, 142); fill-opacity: 1; stroke: rgb(0, 0, 0); stroke-opacity: 0.4;\"/><path class=\"point plotly-customdata\" transform=\"translate(159.72,369.07)\" d=\"M3.5,0A3.5,3.5 0 1,1 0,-3.5A3.5,3.5 0 0,1 3.5,0Z\" style=\"opacity: 0.7; stroke-width: 1px; fill: rgb(45, 113, 142); fill-opacity: 1; stroke: rgb(0, 0, 0); stroke-opacity: 0.4;\"/><path class=\"point plotly-customdata\" transform=\"translate(402.1,258.01)\" d=\"M3.5,0A3.5,3.5 0 1,1 0,-3.5A3.5,3.5 0 0,1 3.5,0Z\" style=\"opacity: 0.7; stroke-width: 1px; fill: rgb(45, 113, 142); fill-opacity: 1; stroke: rgb(0, 0, 0); stroke-opacity: 0.4;\"/><path class=\"point plotly-customdata\" transform=\"translate(38.53,379.97)\" d=\"M3.5,0A3.5,3.5 0 1,1 0,-3.5A3.5,3.5 0 0,1 3.5,0Z\" style=\"opacity: 0.7; stroke-width: 1px; fill: rgb(45, 113, 142); fill-opacity: 1; stroke: rgb(0, 0, 0); stroke-opacity: 0.4;\"/><path class=\"point plotly-customdata\" transform=\"translate(644.48,119.36)\" d=\"M3.5,0A3.5,3.5 0 1,1 0,-3.5A3.5,3.5 0 0,1 3.5,0Z\" style=\"opacity: 0.7; stroke-width: 1px; fill: rgb(45, 113, 142); fill-opacity: 1; stroke: rgb(0, 0, 0); stroke-opacity: 0.4;\"/><path class=\"point plotly-customdata\" transform=\"translate(604.08,150.77)\" d=\"M3.5,0A3.5,3.5 0 1,1 0,-3.5A3.5,3.5 0 0,1 3.5,0Z\" style=\"opacity: 0.7; stroke-width: 1px; fill: rgb(45, 113, 142); fill-opacity: 1; stroke: rgb(0, 0, 0); stroke-opacity: 0.4;\"/><path class=\"point plotly-customdata\" transform=\"translate(442.49,254.79)\" d=\"M3.5,0A3.5,3.5 0 1,1 0,-3.5A3.5,3.5 0 0,1 3.5,0Z\" style=\"opacity: 0.7; stroke-width: 1px; fill: rgb(45, 113, 142); fill-opacity: 1; stroke: rgb(0, 0, 0); stroke-opacity: 0.4;\"/><path class=\"point plotly-customdata\" transform=\"translate(119.32,376.43)\" d=\"M3.5,0A3.5,3.5 0 1,1 0,-3.5A3.5,3.5 0 0,1 3.5,0Z\" style=\"opacity: 0.7; stroke-width: 1px; fill: rgb(45, 113, 142); fill-opacity: 1; stroke: rgb(0, 0, 0); stroke-opacity: 0.4;\"/><path class=\"point plotly-customdata\" transform=\"translate(240.51,339.96)\" d=\"M3.5,0A3.5,3.5 0 1,1 0,-3.5A3.5,3.5 0 0,1 3.5,0Z\" style=\"opacity: 0.7; stroke-width: 1px; fill: rgb(45, 113, 142); fill-opacity: 1; stroke: rgb(0, 0, 0); stroke-opacity: 0.4;\"/><path class=\"point plotly-customdata\" transform=\"translate(523.29,190.27)\" d=\"M3.5,0A3.5,3.5 0 1,1 0,-3.5A3.5,3.5 0 0,1 3.5,0Z\" style=\"opacity: 0.7; stroke-width: 1px; fill: rgb(45, 113, 142); fill-opacity: 1; stroke: rgb(0, 0, 0); stroke-opacity: 0.4;\"/><path class=\"point plotly-customdata\" transform=\"translate(200.11,344.49)\" d=\"M3.5,0A3.5,3.5 0 1,1 0,-3.5A3.5,3.5 0 0,1 3.5,0Z\" style=\"opacity: 0.7; stroke-width: 1px; fill: rgb(45, 113, 142); fill-opacity: 1; stroke: rgb(0, 0, 0); stroke-opacity: 0.4;\"/><path class=\"point plotly-customdata\" transform=\"translate(563.68,173.17)\" d=\"M3.5,0A3.5,3.5 0 1,1 0,-3.5A3.5,3.5 0 0,1 3.5,0Z\" style=\"opacity: 0.7; stroke-width: 1px; fill: rgb(45, 113, 142); fill-opacity: 1; stroke: rgb(0, 0, 0); stroke-opacity: 0.4;\"/><path class=\"point plotly-customdata\" transform=\"translate(321.3,310.19)\" d=\"M3.5,0A3.5,3.5 0 1,1 0,-3.5A3.5,3.5 0 0,1 3.5,0Z\" style=\"opacity: 0.7; stroke-width: 1px; fill: rgb(45, 113, 142); fill-opacity: 1; stroke: rgb(0, 0, 0); stroke-opacity: 0.4;\"/><path class=\"point plotly-customdata\" transform=\"translate(280.9,313.16)\" d=\"M3.5,0A3.5,3.5 0 1,1 0,-3.5A3.5,3.5 0 0,1 3.5,0Z\" style=\"opacity: 0.7; stroke-width: 1px; fill: rgb(45, 113, 142); fill-opacity: 1; stroke: rgb(0, 0, 0); stroke-opacity: 0.4;\"/><path class=\"point plotly-customdata\" transform=\"translate(482.89,218.05)\" d=\"M3.5,0A3.5,3.5 0 1,1 0,-3.5A3.5,3.5 0 0,1 3.5,0Z\" style=\"opacity: 0.7; stroke-width: 1px; fill: rgb(45, 113, 142); fill-opacity: 1; stroke: rgb(0, 0, 0); stroke-opacity: 0.4;\"/><path class=\"point plotly-customdata\" transform=\"translate(361.7,292.63)\" d=\"M3.5,0A3.5,3.5 0 1,1 0,-3.5A3.5,3.5 0 0,1 3.5,0Z\" style=\"opacity: 0.7; stroke-width: 1px; fill: rgb(45, 113, 142); fill-opacity: 1; stroke: rgb(0, 0, 0); stroke-opacity: 0.4;\"/><path class=\"point plotly-customdata\" transform=\"translate(78.92,376.76)\" d=\"M3.5,0A3.5,3.5 0 1,1 0,-3.5A3.5,3.5 0 0,1 3.5,0Z\" style=\"opacity: 0.7; stroke-width: 1px; fill: rgb(38, 130, 142); fill-opacity: 1; stroke: rgb(0, 0, 0); stroke-opacity: 0.4;\"/><path class=\"point plotly-customdata\" transform=\"translate(159.72,369.19)\" d=\"M3.5,0A3.5,3.5 0 1,1 0,-3.5A3.5,3.5 0 0,1 3.5,0Z\" style=\"opacity: 0.7; stroke-width: 1px; fill: rgb(38, 130, 142); fill-opacity: 1; stroke: rgb(0, 0, 0); stroke-opacity: 0.4;\"/><path class=\"point plotly-customdata\" transform=\"translate(402.1,262.39)\" d=\"M3.5,0A3.5,3.5 0 1,1 0,-3.5A3.5,3.5 0 0,1 3.5,0Z\" style=\"opacity: 0.7; stroke-width: 1px; fill: rgb(38, 130, 142); fill-opacity: 1; stroke: rgb(0, 0, 0); stroke-opacity: 0.4;\"/><path class=\"point plotly-customdata\" transform=\"translate(38.53,380.03)\" d=\"M3.5,0A3.5,3.5 0 1,1 0,-3.5A3.5,3.5 0 0,1 3.5,0Z\" style=\"opacity: 0.7; stroke-width: 1px; fill: rgb(38, 130, 142); fill-opacity: 1; stroke: rgb(0, 0, 0); stroke-opacity: 0.4;\"/><path class=\"point plotly-customdata\" transform=\"translate(644.48,133.95)\" d=\"M3.5,0A3.5,3.5 0 1,1 0,-3.5A3.5,3.5 0 0,1 3.5,0Z\" style=\"opacity: 0.7; stroke-width: 1px; fill: rgb(38, 130, 142); fill-opacity: 1; stroke: rgb(0, 0, 0); stroke-opacity: 0.4;\"/><path class=\"point plotly-customdata\" transform=\"translate(604.08,158.77)\" d=\"M3.5,0A3.5,3.5 0 1,1 0,-3.5A3.5,3.5 0 0,1 3.5,0Z\" style=\"opacity: 0.7; stroke-width: 1px; fill: rgb(38, 130, 142); fill-opacity: 1; stroke: rgb(0, 0, 0); stroke-opacity: 0.4;\"/><path class=\"point plotly-customdata\" transform=\"translate(442.49,257.14)\" d=\"M3.5,0A3.5,3.5 0 1,1 0,-3.5A3.5,3.5 0 0,1 3.5,0Z\" style=\"opacity: 0.7; stroke-width: 1px; fill: rgb(38, 130, 142); fill-opacity: 1; stroke: rgb(0, 0, 0); stroke-opacity: 0.4;\"/><path class=\"point plotly-customdata\" transform=\"translate(119.32,376.52)\" d=\"M3.5,0A3.5,3.5 0 1,1 0,-3.5A3.5,3.5 0 0,1 3.5,0Z\" style=\"opacity: 0.7; stroke-width: 1px; fill: rgb(38, 130, 142); fill-opacity: 1; stroke: rgb(0, 0, 0); stroke-opacity: 0.4;\"/><path class=\"point plotly-customdata\" transform=\"translate(240.51,341.02)\" d=\"M3.5,0A3.5,3.5 0 1,1 0,-3.5A3.5,3.5 0 0,1 3.5,0Z\" style=\"opacity: 0.7; stroke-width: 1px; fill: rgb(38, 130, 142); fill-opacity: 1; stroke: rgb(0, 0, 0); stroke-opacity: 0.4;\"/><path class=\"point plotly-customdata\" transform=\"translate(523.29,194.54)\" d=\"M3.5,0A3.5,3.5 0 1,1 0,-3.5A3.5,3.5 0 0,1 3.5,0Z\" style=\"opacity: 0.7; stroke-width: 1px; fill: rgb(38, 130, 142); fill-opacity: 1; stroke: rgb(0, 0, 0); stroke-opacity: 0.4;\"/><path class=\"point plotly-customdata\" transform=\"translate(200.11,345.44)\" d=\"M3.5,0A3.5,3.5 0 1,1 0,-3.5A3.5,3.5 0 0,1 3.5,0Z\" style=\"opacity: 0.7; stroke-width: 1px; fill: rgb(38, 130, 142); fill-opacity: 1; stroke: rgb(0, 0, 0); stroke-opacity: 0.4;\"/><path class=\"point plotly-customdata\" transform=\"translate(563.68,179.18)\" d=\"M3.5,0A3.5,3.5 0 1,1 0,-3.5A3.5,3.5 0 0,1 3.5,0Z\" style=\"opacity: 0.7; stroke-width: 1px; fill: rgb(38, 130, 142); fill-opacity: 1; stroke: rgb(0, 0, 0); stroke-opacity: 0.4;\"/><path class=\"point plotly-customdata\" transform=\"translate(321.3,311.99)\" d=\"M3.5,0A3.5,3.5 0 1,1 0,-3.5A3.5,3.5 0 0,1 3.5,0Z\" style=\"opacity: 0.7; stroke-width: 1px; fill: rgb(38, 130, 142); fill-opacity: 1; stroke: rgb(0, 0, 0); stroke-opacity: 0.4;\"/><path class=\"point plotly-customdata\" transform=\"translate(280.9,314.14)\" d=\"M3.5,0A3.5,3.5 0 1,1 0,-3.5A3.5,3.5 0 0,1 3.5,0Z\" style=\"opacity: 0.7; stroke-width: 1px; fill: rgb(38, 130, 142); fill-opacity: 1; stroke: rgb(0, 0, 0); stroke-opacity: 0.4;\"/><path class=\"point plotly-customdata\" transform=\"translate(482.89,222.04)\" d=\"M3.5,0A3.5,3.5 0 1,1 0,-3.5A3.5,3.5 0 0,1 3.5,0Z\" style=\"opacity: 0.7; stroke-width: 1px; fill: rgb(38, 130, 142); fill-opacity: 1; stroke: rgb(0, 0, 0); stroke-opacity: 0.4;\"/><path class=\"point plotly-customdata\" transform=\"translate(361.7,294.05)\" d=\"M3.5,0A3.5,3.5 0 1,1 0,-3.5A3.5,3.5 0 0,1 3.5,0Z\" style=\"opacity: 0.7; stroke-width: 1px; fill: rgb(38, 130, 142); fill-opacity: 1; stroke: rgb(0, 0, 0); stroke-opacity: 0.4;\"/><path class=\"point plotly-customdata\" transform=\"translate(78.92,376.87)\" d=\"M3.5,0A3.5,3.5 0 1,1 0,-3.5A3.5,3.5 0 0,1 3.5,0Z\" style=\"opacity: 0.7; stroke-width: 1px; fill: rgb(33, 149, 139); fill-opacity: 1; stroke: rgb(0, 0, 0); stroke-opacity: 0.4;\"/><path class=\"point plotly-customdata\" transform=\"translate(159.72,369.31)\" d=\"M3.5,0A3.5,3.5 0 1,1 0,-3.5A3.5,3.5 0 0,1 3.5,0Z\" style=\"opacity: 0.7; stroke-width: 1px; fill: rgb(33, 149, 139); fill-opacity: 1; stroke: rgb(0, 0, 0); stroke-opacity: 0.4;\"/><path class=\"point plotly-customdata\" transform=\"translate(402.1,266.58)\" d=\"M3.5,0A3.5,3.5 0 1,1 0,-3.5A3.5,3.5 0 0,1 3.5,0Z\" style=\"opacity: 0.7; stroke-width: 1px; fill: rgb(33, 149, 139); fill-opacity: 1; stroke: rgb(0, 0, 0); stroke-opacity: 0.4;\"/><path class=\"point plotly-customdata\" transform=\"translate(38.53,380.09)\" d=\"M3.5,0A3.5,3.5 0 1,1 0,-3.5A3.5,3.5 0 0,1 3.5,0Z\" style=\"opacity: 0.7; stroke-width: 1px; fill: rgb(33, 149, 139); fill-opacity: 1; stroke: rgb(0, 0, 0); stroke-opacity: 0.4;\"/><path class=\"point plotly-customdata\" transform=\"translate(644.48,147.34)\" d=\"M3.5,0A3.5,3.5 0 1,1 0,-3.5A3.5,3.5 0 0,1 3.5,0Z\" style=\"opacity: 0.7; stroke-width: 1px; fill: rgb(33, 149, 139); fill-opacity: 1; stroke: rgb(0, 0, 0); stroke-opacity: 0.4;\"/><path class=\"point plotly-customdata\" transform=\"translate(604.08,179.93)\" d=\"M3.5,0A3.5,3.5 0 1,1 0,-3.5A3.5,3.5 0 0,1 3.5,0Z\" style=\"opacity: 0.7; stroke-width: 1px; fill: rgb(33, 149, 139); fill-opacity: 1; stroke: rgb(0, 0, 0); stroke-opacity: 0.4;\"/><path class=\"point plotly-customdata\" transform=\"translate(442.49,259.43)\" d=\"M3.5,0A3.5,3.5 0 1,1 0,-3.5A3.5,3.5 0 0,1 3.5,0Z\" style=\"opacity: 0.7; stroke-width: 1px; fill: rgb(33, 149, 139); fill-opacity: 1; stroke: rgb(0, 0, 0); stroke-opacity: 0.4;\"/><path class=\"point plotly-customdata\" transform=\"translate(119.32,376.61)\" d=\"M3.5,0A3.5,3.5 0 1,1 0,-3.5A3.5,3.5 0 0,1 3.5,0Z\" style=\"opacity: 0.7; stroke-width: 1px; fill: rgb(33, 149, 139); fill-opacity: 1; stroke: rgb(0, 0, 0); stroke-opacity: 0.4;\"/><path class=\"point plotly-customdata\" transform=\"translate(240.51,342.05)\" d=\"M3.5,0A3.5,3.5 0 1,1 0,-3.5A3.5,3.5 0 0,1 3.5,0Z\" style=\"opacity: 0.7; stroke-width: 1px; fill: rgb(33, 149, 139); fill-opacity: 1; stroke: rgb(0, 0, 0); stroke-opacity: 0.4;\"/><path class=\"point plotly-customdata\" transform=\"translate(523.29,198.69)\" d=\"M3.5,0A3.5,3.5 0 1,1 0,-3.5A3.5,3.5 0 0,1 3.5,0Z\" style=\"opacity: 0.7; stroke-width: 1px; fill: rgb(33, 149, 139); fill-opacity: 1; stroke: rgb(0, 0, 0); stroke-opacity: 0.4;\"/><path class=\"point plotly-customdata\" transform=\"translate(200.11,346.37)\" d=\"M3.5,0A3.5,3.5 0 1,1 0,-3.5A3.5,3.5 0 0,1 3.5,0Z\" style=\"opacity: 0.7; stroke-width: 1px; fill: rgb(33, 149, 139); fill-opacity: 1; stroke: rgb(0, 0, 0); stroke-opacity: 0.4;\"/><path class=\"point plotly-customdata\" transform=\"translate(563.68,184.96)\" d=\"M3.5,0A3.5,3.5 0 1,1 0,-3.5A3.5,3.5 0 0,1 3.5,0Z\" style=\"opacity: 0.7; stroke-width: 1px; fill: rgb(33, 149, 139); fill-opacity: 1; stroke: rgb(0, 0, 0); stroke-opacity: 0.4;\"/><path class=\"point plotly-customdata\" transform=\"translate(321.3,313.73)\" d=\"M3.5,0A3.5,3.5 0 1,1 0,-3.5A3.5,3.5 0 0,1 3.5,0Z\" style=\"opacity: 0.7; stroke-width: 1px; fill: rgb(33, 149, 139); fill-opacity: 1; stroke: rgb(0, 0, 0); stroke-opacity: 0.4;\"/><path class=\"point plotly-customdata\" transform=\"translate(280.9,315.11)\" d=\"M3.5,0A3.5,3.5 0 1,1 0,-3.5A3.5,3.5 0 0,1 3.5,0Z\" style=\"opacity: 0.7; stroke-width: 1px; fill: rgb(33, 149, 139); fill-opacity: 1; stroke: rgb(0, 0, 0); stroke-opacity: 0.4;\"/><path class=\"point plotly-customdata\" transform=\"translate(482.89,225.89)\" d=\"M3.5,0A3.5,3.5 0 1,1 0,-3.5A3.5,3.5 0 0,1 3.5,0Z\" style=\"opacity: 0.7; stroke-width: 1px; fill: rgb(33, 149, 139); fill-opacity: 1; stroke: rgb(0, 0, 0); stroke-opacity: 0.4;\"/><path class=\"point plotly-customdata\" transform=\"translate(361.7,295.44)\" d=\"M3.5,0A3.5,3.5 0 1,1 0,-3.5A3.5,3.5 0 0,1 3.5,0Z\" style=\"opacity: 0.7; stroke-width: 1px; fill: rgb(33, 149, 139); fill-opacity: 1; stroke: rgb(0, 0, 0); stroke-opacity: 0.4;\"/><path class=\"point plotly-customdata\" transform=\"translate(78.92,376.98)\" d=\"M3.5,0A3.5,3.5 0 1,1 0,-3.5A3.5,3.5 0 0,1 3.5,0Z\" style=\"opacity: 0.7; stroke-width: 1px; fill: rgb(38, 166, 132); fill-opacity: 1; stroke: rgb(0, 0, 0); stroke-opacity: 0.4;\"/><path class=\"point plotly-customdata\" transform=\"translate(159.72,369.42)\" d=\"M3.5,0A3.5,3.5 0 1,1 0,-3.5A3.5,3.5 0 0,1 3.5,0Z\" style=\"opacity: 0.7; stroke-width: 1px; fill: rgb(38, 166, 132); fill-opacity: 1; stroke: rgb(0, 0, 0); stroke-opacity: 0.4;\"/><path class=\"point plotly-customdata\" transform=\"translate(402.1,270.6)\" d=\"M3.5,0A3.5,3.5 0 1,1 0,-3.5A3.5,3.5 0 0,1 3.5,0Z\" style=\"opacity: 0.7; stroke-width: 1px; fill: rgb(38, 166, 132); fill-opacity: 1; stroke: rgb(0, 0, 0); stroke-opacity: 0.4;\"/><path class=\"point plotly-customdata\" transform=\"translate(38.53,380.15)\" d=\"M3.5,0A3.5,3.5 0 1,1 0,-3.5A3.5,3.5 0 0,1 3.5,0Z\" style=\"opacity: 0.7; stroke-width: 1px; fill: rgb(38, 166, 132); fill-opacity: 1; stroke: rgb(0, 0, 0); stroke-opacity: 0.4;\"/><path class=\"point plotly-customdata\" transform=\"translate(644.48,161.98)\" d=\"M3.5,0A3.5,3.5 0 1,1 0,-3.5A3.5,3.5 0 0,1 3.5,0Z\" style=\"opacity: 0.7; stroke-width: 1px; fill: rgb(38, 166, 132); fill-opacity: 1; stroke: rgb(0, 0, 0); stroke-opacity: 0.4;\"/><path class=\"point plotly-customdata\" transform=\"translate(604.08,210.22)\" d=\"M3.5,0A3.5,3.5 0 1,1 0,-3.5A3.5,3.5 0 0,1 3.5,0Z\" style=\"opacity: 0.7; stroke-width: 1px; fill: rgb(38, 166, 132); fill-opacity: 1; stroke: rgb(0, 0, 0); stroke-opacity: 0.4;\"/><path class=\"point plotly-customdata\" transform=\"translate(442.49,261.67)\" d=\"M3.5,0A3.5,3.5 0 1,1 0,-3.5A3.5,3.5 0 0,1 3.5,0Z\" style=\"opacity: 0.7; stroke-width: 1px; fill: rgb(38, 166, 132); fill-opacity: 1; stroke: rgb(0, 0, 0); stroke-opacity: 0.4;\"/><path class=\"point plotly-customdata\" transform=\"translate(119.32,376.7)\" d=\"M3.5,0A3.5,3.5 0 1,1 0,-3.5A3.5,3.5 0 0,1 3.5,0Z\" style=\"opacity: 0.7; stroke-width: 1px; fill: rgb(38, 166, 132); fill-opacity: 1; stroke: rgb(0, 0, 0); stroke-opacity: 0.4;\"/><path class=\"point plotly-customdata\" transform=\"translate(240.51,343.06)\" d=\"M3.5,0A3.5,3.5 0 1,1 0,-3.5A3.5,3.5 0 0,1 3.5,0Z\" style=\"opacity: 0.7; stroke-width: 1px; fill: rgb(38, 166, 132); fill-opacity: 1; stroke: rgb(0, 0, 0); stroke-opacity: 0.4;\"/><path class=\"point plotly-customdata\" transform=\"translate(523.29,202.71)\" d=\"M3.5,0A3.5,3.5 0 1,1 0,-3.5A3.5,3.5 0 0,1 3.5,0Z\" style=\"opacity: 0.7; stroke-width: 1px; fill: rgb(38, 166, 132); fill-opacity: 1; stroke: rgb(0, 0, 0); stroke-opacity: 0.4;\"/><path class=\"point plotly-customdata\" transform=\"translate(200.11,347.28)\" d=\"M3.5,0A3.5,3.5 0 1,1 0,-3.5A3.5,3.5 0 0,1 3.5,0Z\" style=\"opacity: 0.7; stroke-width: 1px; fill: rgb(38, 166, 132); fill-opacity: 1; stroke: rgb(0, 0, 0); stroke-opacity: 0.4;\"/><path class=\"point plotly-customdata\" transform=\"translate(563.68,190.5)\" d=\"M3.5,0A3.5,3.5 0 1,1 0,-3.5A3.5,3.5 0 0,1 3.5,0Z\" style=\"opacity: 0.7; stroke-width: 1px; fill: rgb(38, 166, 132); fill-opacity: 1; stroke: rgb(0, 0, 0); stroke-opacity: 0.4;\"/><path class=\"point plotly-customdata\" transform=\"translate(321.3,315.42)\" d=\"M3.5,0A3.5,3.5 0 1,1 0,-3.5A3.5,3.5 0 0,1 3.5,0Z\" style=\"opacity: 0.7; stroke-width: 1px; fill: rgb(38, 166, 132); fill-opacity: 1; stroke: rgb(0, 0, 0); stroke-opacity: 0.4;\"/><path class=\"point plotly-customdata\" transform=\"translate(280.9,316.06)\" d=\"M3.5,0A3.5,3.5 0 1,1 0,-3.5A3.5,3.5 0 0,1 3.5,0Z\" style=\"opacity: 0.7; stroke-width: 1px; fill: rgb(38, 166, 132); fill-opacity: 1; stroke: rgb(0, 0, 0); stroke-opacity: 0.4;\"/><path class=\"point plotly-customdata\" transform=\"translate(482.89,229.61)\" d=\"M3.5,0A3.5,3.5 0 1,1 0,-3.5A3.5,3.5 0 0,1 3.5,0Z\" style=\"opacity: 0.7; stroke-width: 1px; fill: rgb(38, 166, 132); fill-opacity: 1; stroke: rgb(0, 0, 0); stroke-opacity: 0.4;\"/><path class=\"point plotly-customdata\" transform=\"translate(361.7,296.8)\" d=\"M3.5,0A3.5,3.5 0 1,1 0,-3.5A3.5,3.5 0 0,1 3.5,0Z\" style=\"opacity: 0.7; stroke-width: 1px; fill: rgb(38, 166, 132); fill-opacity: 1; stroke: rgb(0, 0, 0); stroke-opacity: 0.4;\"/><path class=\"point plotly-customdata\" transform=\"translate(78.92,377.09)\" d=\"M3.5,0A3.5,3.5 0 1,1 0,-3.5A3.5,3.5 0 0,1 3.5,0Z\" style=\"opacity: 0.7; stroke-width: 1px; fill: rgb(53, 183, 121); fill-opacity: 1; stroke: rgb(0, 0, 0); stroke-opacity: 0.4;\"/><path class=\"point plotly-customdata\" transform=\"translate(159.72,369.54)\" d=\"M3.5,0A3.5,3.5 0 1,1 0,-3.5A3.5,3.5 0 0,1 3.5,0Z\" style=\"opacity: 0.7; stroke-width: 1px; fill: rgb(53, 183, 121); fill-opacity: 1; stroke: rgb(0, 0, 0); stroke-opacity: 0.4;\"/><path class=\"point plotly-customdata\" transform=\"translate(402.1,274.45)\" d=\"M3.5,0A3.5,3.5 0 1,1 0,-3.5A3.5,3.5 0 0,1 3.5,0Z\" style=\"opacity: 0.7; stroke-width: 1px; fill: rgb(53, 183, 121); fill-opacity: 1; stroke: rgb(0, 0, 0); stroke-opacity: 0.4;\"/><path class=\"point plotly-customdata\" transform=\"translate(38.53,380.2)\" d=\"M3.5,0A3.5,3.5 0 1,1 0,-3.5A3.5,3.5 0 0,1 3.5,0Z\" style=\"opacity: 0.7; stroke-width: 1px; fill: rgb(53, 183, 121); fill-opacity: 1; stroke: rgb(0, 0, 0); stroke-opacity: 0.4;\"/><path class=\"point plotly-customdata\" transform=\"translate(644.48,191.78)\" d=\"M3.5,0A3.5,3.5 0 1,1 0,-3.5A3.5,3.5 0 0,1 3.5,0Z\" style=\"opacity: 0.7; stroke-width: 1px; fill: rgb(53, 183, 121); fill-opacity: 1; stroke: rgb(0, 0, 0); stroke-opacity: 0.4;\"/><path class=\"point plotly-customdata\" transform=\"translate(604.08,235.26)\" d=\"M3.5,0A3.5,3.5 0 1,1 0,-3.5A3.5,3.5 0 0,1 3.5,0Z\" style=\"opacity: 0.7; stroke-width: 1px; fill: rgb(53, 183, 121); fill-opacity: 1; stroke: rgb(0, 0, 0); stroke-opacity: 0.4;\"/><path class=\"point plotly-customdata\" transform=\"translate(442.49,263.84)\" d=\"M3.5,0A3.5,3.5 0 1,1 0,-3.5A3.5,3.5 0 0,1 3.5,0Z\" style=\"opacity: 0.7; stroke-width: 1px; fill: rgb(53, 183, 121); fill-opacity: 1; stroke: rgb(0, 0, 0); stroke-opacity: 0.4;\"/><path class=\"point plotly-customdata\" transform=\"translate(119.32,376.78)\" d=\"M3.5,0A3.5,3.5 0 1,1 0,-3.5A3.5,3.5 0 0,1 3.5,0Z\" style=\"opacity: 0.7; stroke-width: 1px; fill: rgb(53, 183, 121); fill-opacity: 1; stroke: rgb(0, 0, 0); stroke-opacity: 0.4;\"/><path class=\"point plotly-customdata\" transform=\"translate(240.51,344.03)\" d=\"M3.5,0A3.5,3.5 0 1,1 0,-3.5A3.5,3.5 0 0,1 3.5,0Z\" style=\"opacity: 0.7; stroke-width: 1px; fill: rgb(53, 183, 121); fill-opacity: 1; stroke: rgb(0, 0, 0); stroke-opacity: 0.4;\"/><path class=\"point plotly-customdata\" transform=\"translate(523.29,206.62)\" d=\"M3.5,0A3.5,3.5 0 1,1 0,-3.5A3.5,3.5 0 0,1 3.5,0Z\" style=\"opacity: 0.7; stroke-width: 1px; fill: rgb(53, 183, 121); fill-opacity: 1; stroke: rgb(0, 0, 0); stroke-opacity: 0.4;\"/><path class=\"point plotly-customdata\" transform=\"translate(200.11,348.16)\" d=\"M3.5,0A3.5,3.5 0 1,1 0,-3.5A3.5,3.5 0 0,1 3.5,0Z\" style=\"opacity: 0.7; stroke-width: 1px; fill: rgb(53, 183, 121); fill-opacity: 1; stroke: rgb(0, 0, 0); stroke-opacity: 0.4;\"/><path class=\"point plotly-customdata\" transform=\"translate(563.68,212.87)\" d=\"M3.5,0A3.5,3.5 0 1,1 0,-3.5A3.5,3.5 0 0,1 3.5,0Z\" style=\"opacity: 0.7; stroke-width: 1px; fill: rgb(53, 183, 121); fill-opacity: 1; stroke: rgb(0, 0, 0); stroke-opacity: 0.4;\"/><path class=\"point plotly-customdata\" transform=\"translate(321.3,317.06)\" d=\"M3.5,0A3.5,3.5 0 1,1 0,-3.5A3.5,3.5 0 0,1 3.5,0Z\" style=\"opacity: 0.7; stroke-width: 1px; fill: rgb(53, 183, 121); fill-opacity: 1; stroke: rgb(0, 0, 0); stroke-opacity: 0.4;\"/><path class=\"point plotly-customdata\" transform=\"translate(280.9,316.99)\" d=\"M3.5,0A3.5,3.5 0 1,1 0,-3.5A3.5,3.5 0 0,1 3.5,0Z\" style=\"opacity: 0.7; stroke-width: 1px; fill: rgb(53, 183, 121); fill-opacity: 1; stroke: rgb(0, 0, 0); stroke-opacity: 0.4;\"/><path class=\"point plotly-customdata\" transform=\"translate(482.89,233.21)\" d=\"M3.5,0A3.5,3.5 0 1,1 0,-3.5A3.5,3.5 0 0,1 3.5,0Z\" style=\"opacity: 0.7; stroke-width: 1px; fill: rgb(53, 183, 121); fill-opacity: 1; stroke: rgb(0, 0, 0); stroke-opacity: 0.4;\"/><path class=\"point plotly-customdata\" transform=\"translate(361.7,298.12)\" d=\"M3.5,0A3.5,3.5 0 1,1 0,-3.5A3.5,3.5 0 0,1 3.5,0Z\" style=\"opacity: 0.7; stroke-width: 1px; fill: rgb(53, 183, 121); fill-opacity: 1; stroke: rgb(0, 0, 0); stroke-opacity: 0.4;\"/><path class=\"point plotly-customdata\" transform=\"translate(78.92,377.19)\" d=\"M3.5,0A3.5,3.5 0 1,1 0,-3.5A3.5,3.5 0 0,1 3.5,0Z\" style=\"opacity: 0.7; stroke-width: 1px; fill: rgb(91, 198, 99); fill-opacity: 1; stroke: rgb(0, 0, 0); stroke-opacity: 0.4;\"/><path class=\"point plotly-customdata\" transform=\"translate(159.72,369.65)\" d=\"M3.5,0A3.5,3.5 0 1,1 0,-3.5A3.5,3.5 0 0,1 3.5,0Z\" style=\"opacity: 0.7; stroke-width: 1px; fill: rgb(91, 198, 99); fill-opacity: 1; stroke: rgb(0, 0, 0); stroke-opacity: 0.4;\"/><path class=\"point plotly-customdata\" transform=\"translate(402.1,278.11)\" d=\"M3.5,0A3.5,3.5 0 1,1 0,-3.5A3.5,3.5 0 0,1 3.5,0Z\" style=\"opacity: 0.7; stroke-width: 1px; fill: rgb(91, 198, 99); fill-opacity: 1; stroke: rgb(0, 0, 0); stroke-opacity: 0.4;\"/><path class=\"point plotly-customdata\" transform=\"translate(38.53,380.26)\" d=\"M3.5,0A3.5,3.5 0 1,1 0,-3.5A3.5,3.5 0 0,1 3.5,0Z\" style=\"opacity: 0.7; stroke-width: 1px; fill: rgb(91, 198, 99); fill-opacity: 1; stroke: rgb(0, 0, 0); stroke-opacity: 0.4;\"/><path class=\"point plotly-customdata\" transform=\"translate(644.48,216.19)\" d=\"M3.5,0A3.5,3.5 0 1,1 0,-3.5A3.5,3.5 0 0,1 3.5,0Z\" style=\"opacity: 0.7; stroke-width: 1px; fill: rgb(91, 198, 99); fill-opacity: 1; stroke: rgb(0, 0, 0); stroke-opacity: 0.4;\"/><path class=\"point plotly-customdata\" transform=\"translate(604.08,254.93)\" d=\"M3.5,0A3.5,3.5 0 1,1 0,-3.5A3.5,3.5 0 0,1 3.5,0Z\" style=\"opacity: 0.7; stroke-width: 1px; fill: rgb(91, 198, 99); fill-opacity: 1; stroke: rgb(0, 0, 0); stroke-opacity: 0.4;\"/><path class=\"point plotly-customdata\" transform=\"translate(442.49,265.96)\" d=\"M3.5,0A3.5,3.5 0 1,1 0,-3.5A3.5,3.5 0 0,1 3.5,0Z\" style=\"opacity: 0.7; stroke-width: 1px; fill: rgb(91, 198, 99); fill-opacity: 1; stroke: rgb(0, 0, 0); stroke-opacity: 0.4;\"/><path class=\"point plotly-customdata\" transform=\"translate(119.32,376.87)\" d=\"M3.5,0A3.5,3.5 0 1,1 0,-3.5A3.5,3.5 0 0,1 3.5,0Z\" style=\"opacity: 0.7; stroke-width: 1px; fill: rgb(91, 198, 99); fill-opacity: 1; stroke: rgb(0, 0, 0); stroke-opacity: 0.4;\"/><path class=\"point plotly-customdata\" transform=\"translate(240.51,344.98)\" d=\"M3.5,0A3.5,3.5 0 1,1 0,-3.5A3.5,3.5 0 0,1 3.5,0Z\" style=\"opacity: 0.7; stroke-width: 1px; fill: rgb(91, 198, 99); fill-opacity: 1; stroke: rgb(0, 0, 0); stroke-opacity: 0.4;\"/><path class=\"point plotly-customdata\" transform=\"translate(523.29,210.41)\" d=\"M3.5,0A3.5,3.5 0 1,1 0,-3.5A3.5,3.5 0 0,1 3.5,0Z\" style=\"opacity: 0.7; stroke-width: 1px; fill: rgb(91, 198, 99); fill-opacity: 1; stroke: rgb(0, 0, 0); stroke-opacity: 0.4;\"/><path class=\"point plotly-customdata\" transform=\"translate(200.11,349.01)\" d=\"M3.5,0A3.5,3.5 0 1,1 0,-3.5A3.5,3.5 0 0,1 3.5,0Z\" style=\"opacity: 0.7; stroke-width: 1px; fill: rgb(91, 198, 99); fill-opacity: 1; stroke: rgb(0, 0, 0); stroke-opacity: 0.4;\"/><path class=\"point plotly-customdata\" transform=\"translate(563.68,232.31)\" d=\"M3.5,0A3.5,3.5 0 1,1 0,-3.5A3.5,3.5 0 0,1 3.5,0Z\" style=\"opacity: 0.7; stroke-width: 1px; fill: rgb(91, 198, 99); fill-opacity: 1; stroke: rgb(0, 0, 0); stroke-opacity: 0.4;\"/><path class=\"point plotly-customdata\" transform=\"translate(321.3,318.64)\" d=\"M3.5,0A3.5,3.5 0 1,1 0,-3.5A3.5,3.5 0 0,1 3.5,0Z\" style=\"opacity: 0.7; stroke-width: 1px; fill: rgb(91, 198, 99); fill-opacity: 1; stroke: rgb(0, 0, 0); stroke-opacity: 0.4;\"/><path class=\"point plotly-customdata\" transform=\"translate(280.9,317.91)\" d=\"M3.5,0A3.5,3.5 0 1,1 0,-3.5A3.5,3.5 0 0,1 3.5,0Z\" style=\"opacity: 0.7; stroke-width: 1px; fill: rgb(91, 198, 99); fill-opacity: 1; stroke: rgb(0, 0, 0); stroke-opacity: 0.4;\"/><path class=\"point plotly-customdata\" transform=\"translate(482.89,236.68)\" d=\"M3.5,0A3.5,3.5 0 1,1 0,-3.5A3.5,3.5 0 0,1 3.5,0Z\" style=\"opacity: 0.7; stroke-width: 1px; fill: rgb(91, 198, 99); fill-opacity: 1; stroke: rgb(0, 0, 0); stroke-opacity: 0.4;\"/><path class=\"point plotly-customdata\" transform=\"translate(361.7,299.42)\" d=\"M3.5,0A3.5,3.5 0 1,1 0,-3.5A3.5,3.5 0 0,1 3.5,0Z\" style=\"opacity: 0.7; stroke-width: 1px; fill: rgb(91, 198, 99); fill-opacity: 1; stroke: rgb(0, 0, 0); stroke-opacity: 0.4;\"/><path class=\"point plotly-customdata\" transform=\"translate(78.92,377.3)\" d=\"M3.5,0A3.5,3.5 0 1,1 0,-3.5A3.5,3.5 0 0,1 3.5,0Z\" style=\"opacity: 0.7; stroke-width: 1px; fill: rgb(134, 211, 73); fill-opacity: 1; stroke: rgb(0, 0, 0); stroke-opacity: 0.4;\"/><path class=\"point plotly-customdata\" transform=\"translate(159.72,369.76)\" d=\"M3.5,0A3.5,3.5 0 1,1 0,-3.5A3.5,3.5 0 0,1 3.5,0Z\" style=\"opacity: 0.7; stroke-width: 1px; fill: rgb(134, 211, 73); fill-opacity: 1; stroke: rgb(0, 0, 0); stroke-opacity: 0.4;\"/><path class=\"point plotly-customdata\" transform=\"translate(402.1,281.62)\" d=\"M3.5,0A3.5,3.5 0 1,1 0,-3.5A3.5,3.5 0 0,1 3.5,0Z\" style=\"opacity: 0.7; stroke-width: 1px; fill: rgb(134, 211, 73); fill-opacity: 1; stroke: rgb(0, 0, 0); stroke-opacity: 0.4;\"/><path class=\"point plotly-customdata\" transform=\"translate(38.53,380.32)\" d=\"M3.5,0A3.5,3.5 0 1,1 0,-3.5A3.5,3.5 0 0,1 3.5,0Z\" style=\"opacity: 0.7; stroke-width: 1px; fill: rgb(134, 211, 73); fill-opacity: 1; stroke: rgb(0, 0, 0); stroke-opacity: 0.4;\"/><path class=\"point plotly-customdata\" transform=\"translate(644.48,237.03)\" d=\"M3.5,0A3.5,3.5 0 1,1 0,-3.5A3.5,3.5 0 0,1 3.5,0Z\" style=\"opacity: 0.7; stroke-width: 1px; fill: rgb(134, 211, 73); fill-opacity: 1; stroke: rgb(0, 0, 0); stroke-opacity: 0.4;\"/><path class=\"point plotly-customdata\" transform=\"translate(604.08,271.75)\" d=\"M3.5,0A3.5,3.5 0 1,1 0,-3.5A3.5,3.5 0 0,1 3.5,0Z\" style=\"opacity: 0.7; stroke-width: 1px; fill: rgb(134, 211, 73); fill-opacity: 1; stroke: rgb(0, 0, 0); stroke-opacity: 0.4;\"/><path class=\"point plotly-customdata\" transform=\"translate(442.49,268.02)\" d=\"M3.5,0A3.5,3.5 0 1,1 0,-3.5A3.5,3.5 0 0,1 3.5,0Z\" style=\"opacity: 0.7; stroke-width: 1px; fill: rgb(134, 211, 73); fill-opacity: 1; stroke: rgb(0, 0, 0); stroke-opacity: 0.4;\"/><path class=\"point plotly-customdata\" transform=\"translate(119.32,376.95)\" d=\"M3.5,0A3.5,3.5 0 1,1 0,-3.5A3.5,3.5 0 0,1 3.5,0Z\" style=\"opacity: 0.7; stroke-width: 1px; fill: rgb(134, 211, 73); fill-opacity: 1; stroke: rgb(0, 0, 0); stroke-opacity: 0.4;\"/><path class=\"point plotly-customdata\" transform=\"translate(240.51,345.91)\" d=\"M3.5,0A3.5,3.5 0 1,1 0,-3.5A3.5,3.5 0 0,1 3.5,0Z\" style=\"opacity: 0.7; stroke-width: 1px; fill: rgb(134, 211, 73); fill-opacity: 1; stroke: rgb(0, 0, 0); stroke-opacity: 0.4;\"/><path class=\"point plotly-customdata\" transform=\"translate(523.29,214.07)\" d=\"M3.5,0A3.5,3.5 0 1,1 0,-3.5A3.5,3.5 0 0,1 3.5,0Z\" style=\"opacity: 0.7; stroke-width: 1px; fill: rgb(134, 211, 73); fill-opacity: 1; stroke: rgb(0, 0, 0); stroke-opacity: 0.4;\"/><path class=\"point plotly-customdata\" transform=\"translate(200.11,349.85)\" d=\"M3.5,0A3.5,3.5 0 1,1 0,-3.5A3.5,3.5 0 0,1 3.5,0Z\" style=\"opacity: 0.7; stroke-width: 1px; fill: rgb(134, 211, 73); fill-opacity: 1; stroke: rgb(0, 0, 0); stroke-opacity: 0.4;\"/><path class=\"point plotly-customdata\" transform=\"translate(563.68,248.9)\" d=\"M3.5,0A3.5,3.5 0 1,1 0,-3.5A3.5,3.5 0 0,1 3.5,0Z\" style=\"opacity: 0.7; stroke-width: 1px; fill: rgb(134, 211, 73); fill-opacity: 1; stroke: rgb(0, 0, 0); stroke-opacity: 0.4;\"/><path class=\"point plotly-customdata\" transform=\"translate(321.3,320.18)\" d=\"M3.5,0A3.5,3.5 0 1,1 0,-3.5A3.5,3.5 0 0,1 3.5,0Z\" style=\"opacity: 0.7; stroke-width: 1px; fill: rgb(134, 211, 73); fill-opacity: 1; stroke: rgb(0, 0, 0); stroke-opacity: 0.4;\"/><path class=\"point plotly-customdata\" transform=\"translate(280.9,318.81)\" d=\"M3.5,0A3.5,3.5 0 1,1 0,-3.5A3.5,3.5 0 0,1 3.5,0Z\" style=\"opacity: 0.7; stroke-width: 1px; fill: rgb(134, 211, 73); fill-opacity: 1; stroke: rgb(0, 0, 0); stroke-opacity: 0.4;\"/><path class=\"point plotly-customdata\" transform=\"translate(482.89,252.47)\" d=\"M3.5,0A3.5,3.5 0 1,1 0,-3.5A3.5,3.5 0 0,1 3.5,0Z\" style=\"opacity: 0.7; stroke-width: 1px; fill: rgb(134, 211, 73); fill-opacity: 1; stroke: rgb(0, 0, 0); stroke-opacity: 0.4;\"/><path class=\"point plotly-customdata\" transform=\"translate(361.7,300.69)\" d=\"M3.5,0A3.5,3.5 0 1,1 0,-3.5A3.5,3.5 0 0,1 3.5,0Z\" style=\"opacity: 0.7; stroke-width: 1px; fill: rgb(134, 211, 73); fill-opacity: 1; stroke: rgb(0, 0, 0); stroke-opacity: 0.4;\"/><path class=\"point plotly-customdata\" transform=\"translate(78.92,377.4)\" d=\"M3.5,0A3.5,3.5 0 1,1 0,-3.5A3.5,3.5 0 0,1 3.5,0Z\" style=\"opacity: 0.7; stroke-width: 1px; fill: rgb(181, 222, 43); fill-opacity: 1; stroke: rgb(0, 0, 0); stroke-opacity: 0.4;\"/><path class=\"point plotly-customdata\" transform=\"translate(159.72,369.87)\" d=\"M3.5,0A3.5,3.5 0 1,1 0,-3.5A3.5,3.5 0 0,1 3.5,0Z\" style=\"opacity: 0.7; stroke-width: 1px; fill: rgb(181, 222, 43); fill-opacity: 1; stroke: rgb(0, 0, 0); stroke-opacity: 0.4;\"/><path class=\"point plotly-customdata\" transform=\"translate(402.1,284.96)\" d=\"M3.5,0A3.5,3.5 0 1,1 0,-3.5A3.5,3.5 0 0,1 3.5,0Z\" style=\"opacity: 0.7; stroke-width: 1px; fill: rgb(181, 222, 43); fill-opacity: 1; stroke: rgb(0, 0, 0); stroke-opacity: 0.4;\"/><path class=\"point plotly-customdata\" transform=\"translate(38.53,380.37)\" d=\"M3.5,0A3.5,3.5 0 1,1 0,-3.5A3.5,3.5 0 0,1 3.5,0Z\" style=\"opacity: 0.7; stroke-width: 1px; fill: rgb(181, 222, 43); fill-opacity: 1; stroke: rgb(0, 0, 0); stroke-opacity: 0.4;\"/><path class=\"point plotly-customdata\" transform=\"translate(644.48,254.42)\" d=\"M3.5,0A3.5,3.5 0 1,1 0,-3.5A3.5,3.5 0 0,1 3.5,0Z\" style=\"opacity: 0.7; stroke-width: 1px; fill: rgb(181, 222, 43); fill-opacity: 1; stroke: rgb(0, 0, 0); stroke-opacity: 0.4;\"/><path class=\"point plotly-customdata\" transform=\"translate(604.08,285.69)\" d=\"M3.5,0A3.5,3.5 0 1,1 0,-3.5A3.5,3.5 0 0,1 3.5,0Z\" style=\"opacity: 0.7; stroke-width: 1px; fill: rgb(181, 222, 43); fill-opacity: 1; stroke: rgb(0, 0, 0); stroke-opacity: 0.4;\"/><path class=\"point plotly-customdata\" transform=\"translate(442.49,270.02)\" d=\"M3.5,0A3.5,3.5 0 1,1 0,-3.5A3.5,3.5 0 0,1 3.5,0Z\" style=\"opacity: 0.7; stroke-width: 1px; fill: rgb(181, 222, 43); fill-opacity: 1; stroke: rgb(0, 0, 0); stroke-opacity: 0.4;\"/><path class=\"point plotly-customdata\" transform=\"translate(119.32,377.04)\" d=\"M3.5,0A3.5,3.5 0 1,1 0,-3.5A3.5,3.5 0 0,1 3.5,0Z\" style=\"opacity: 0.7; stroke-width: 1px; fill: rgb(181, 222, 43); fill-opacity: 1; stroke: rgb(0, 0, 0); stroke-opacity: 0.4;\"/><path class=\"point plotly-customdata\" transform=\"translate(240.51,346.8)\" d=\"M3.5,0A3.5,3.5 0 1,1 0,-3.5A3.5,3.5 0 0,1 3.5,0Z\" style=\"opacity: 0.7; stroke-width: 1px; fill: rgb(181, 222, 43); fill-opacity: 1; stroke: rgb(0, 0, 0); stroke-opacity: 0.4;\"/><path class=\"point plotly-customdata\" transform=\"translate(523.29,229.54)\" d=\"M3.5,0A3.5,3.5 0 1,1 0,-3.5A3.5,3.5 0 0,1 3.5,0Z\" style=\"opacity: 0.7; stroke-width: 1px; fill: rgb(181, 222, 43); fill-opacity: 1; stroke: rgb(0, 0, 0); stroke-opacity: 0.4;\"/><path class=\"point plotly-customdata\" transform=\"translate(200.11,350.66)\" d=\"M3.5,0A3.5,3.5 0 1,1 0,-3.5A3.5,3.5 0 0,1 3.5,0Z\" style=\"opacity: 0.7; stroke-width: 1px; fill: rgb(181, 222, 43); fill-opacity: 1; stroke: rgb(0, 0, 0); stroke-opacity: 0.4;\"/><path class=\"point plotly-customdata\" transform=\"translate(563.68,262.67)\" d=\"M3.5,0A3.5,3.5 0 1,1 0,-3.5A3.5,3.5 0 0,1 3.5,0Z\" style=\"opacity: 0.7; stroke-width: 1px; fill: rgb(181, 222, 43); fill-opacity: 1; stroke: rgb(0, 0, 0); stroke-opacity: 0.4;\"/><path class=\"point plotly-customdata\" transform=\"translate(321.3,321.66)\" d=\"M3.5,0A3.5,3.5 0 1,1 0,-3.5A3.5,3.5 0 0,1 3.5,0Z\" style=\"opacity: 0.7; stroke-width: 1px; fill: rgb(181, 222, 43); fill-opacity: 1; stroke: rgb(0, 0, 0); stroke-opacity: 0.4;\"/><path class=\"point plotly-customdata\" transform=\"translate(280.9,325.66)\" d=\"M3.5,0A3.5,3.5 0 1,1 0,-3.5A3.5,3.5 0 0,1 3.5,0Z\" style=\"opacity: 0.7; stroke-width: 1px; fill: rgb(181, 222, 43); fill-opacity: 1; stroke: rgb(0, 0, 0); stroke-opacity: 0.4;\"/><path class=\"point plotly-customdata\" transform=\"translate(482.89,266.26)\" d=\"M3.5,0A3.5,3.5 0 1,1 0,-3.5A3.5,3.5 0 0,1 3.5,0Z\" style=\"opacity: 0.7; stroke-width: 1px; fill: rgb(181, 222, 43); fill-opacity: 1; stroke: rgb(0, 0, 0); stroke-opacity: 0.4;\"/><path class=\"point plotly-customdata\" transform=\"translate(361.7,301.92)\" d=\"M3.5,0A3.5,3.5 0 1,1 0,-3.5A3.5,3.5 0 0,1 3.5,0Z\" style=\"opacity: 0.7; stroke-width: 1px; fill: rgb(181, 222, 43); fill-opacity: 1; stroke: rgb(0, 0, 0); stroke-opacity: 0.4;\"/></g><g class=\"text\"/></g></g></g><g class=\"overplot\"/><path class=\"xlines-above crisp\" d=\"M0,0\" style=\"fill: none;\"/><path class=\"ylines-above crisp\" d=\"M0,0\" style=\"fill: none;\"/><g class=\"overlines-above\"/><g class=\"xaxislayer-above\"><g class=\"xtick\"><text text-anchor=\"end\" x=\"0\" y=\"452\" transform=\"translate(138.53,0) rotate(-45,0,444)\" style=\"font-family: 'Open Sans', verdana, arial, sans-serif; font-size: 16px; fill: rgb(42, 63, 95); fill-opacity: 1; white-space: pre; opacity: 1;\">Buckets</text></g><g class=\"xtick\"><text text-anchor=\"end\" x=\"0\" y=\"452\" transform=\"translate(178.92000000000002,0) rotate(-45,0,444)\" style=\"font-family: 'Open Sans', verdana, arial, sans-serif; font-size: 16px; fill: rgb(42, 63, 95); fill-opacity: 1; white-space: pre; opacity: 1;\">Baby Carriage</text></g><g class=\"xtick\"><text text-anchor=\"end\" x=\"0\" y=\"452\" transform=\"translate(219.32,0) rotate(-45,0,444)\" style=\"font-family: 'Open Sans', verdana, arial, sans-serif; font-size: 16px; fill: rgb(42, 63, 95); fill-opacity: 1; white-space: pre; opacity: 1;\">Luggage</text></g><g class=\"xtick\"><text text-anchor=\"end\" x=\"0\" y=\"452\" transform=\"translate(259.72,0) rotate(-45,0,444)\" style=\"font-family: 'Open Sans', verdana, arial, sans-serif; font-size: 16px; fill: rgb(42, 63, 95); fill-opacity: 1; white-space: pre; opacity: 1;\">Backpack</text></g><g class=\"xtick\"><text text-anchor=\"end\" x=\"0\" y=\"452\" transform=\"translate(300.11,0) rotate(-45,0,444)\" style=\"font-family: 'Open Sans', verdana, arial, sans-serif; font-size: 16px; fill: rgb(42, 63, 95); fill-opacity: 1; white-space: pre; opacity: 1;\">Scooter</text></g><g class=\"xtick\"><text text-anchor=\"end\" x=\"0\" y=\"452\" transform=\"translate(340.51,0) rotate(-45,0,444)\" style=\"font-family: 'Open Sans', verdana, arial, sans-serif; font-size: 16px; fill: rgb(42, 63, 95); fill-opacity: 1; white-space: pre; opacity: 1;\">Roller skates</text></g><g class=\"xtick\"><text text-anchor=\"end\" x=\"0\" y=\"452\" transform=\"translate(380.9,0) rotate(-45,0,444)\" style=\"font-family: 'Open Sans', verdana, arial, sans-serif; font-size: 16px; fill: rgb(42, 63, 95); fill-opacity: 1; white-space: pre; opacity: 1;\">Stretcher</text></g><g class=\"xtick\"><text text-anchor=\"end\" x=\"0\" y=\"452\" transform=\"translate(421.3,0) rotate(-45,0,444)\" style=\"font-family: 'Open Sans', verdana, arial, sans-serif; font-size: 16px; fill: rgb(42, 63, 95); fill-opacity: 1; white-space: pre; opacity: 1;\">Skateboard</text></g><g class=\"xtick\"><text text-anchor=\"end\" x=\"0\" y=\"452\" transform=\"translate(461.7,0) rotate(-45,0,444)\" style=\"font-family: 'Open Sans', verdana, arial, sans-serif; font-size: 16px; fill: rgb(42, 63, 95); fill-opacity: 1; white-space: pre; opacity: 1;\">Wheelchair</text></g><g class=\"xtick\"><text text-anchor=\"end\" x=\"0\" y=\"452\" transform=\"translate(502.1,0) rotate(-45,0,444)\" style=\"font-family: 'Open Sans', verdana, arial, sans-serif; font-size: 16px; fill: rgb(42, 63, 95); fill-opacity: 1; white-space: pre; opacity: 1;\">Bicycle</text></g><g class=\"xtick\"><text text-anchor=\"end\" x=\"0\" y=\"452\" transform=\"translate(542.49,0) rotate(-45,0,444)\" style=\"font-family: 'Open Sans', verdana, arial, sans-serif; font-size: 16px; fill: rgb(42, 63, 95); fill-opacity: 1; white-space: pre; opacity: 1;\">Hand Truck</text></g><g class=\"xtick\"><text text-anchor=\"end\" x=\"0\" y=\"452\" transform=\"translate(582.89,0) rotate(-45,0,444)\" style=\"font-family: 'Open Sans', verdana, arial, sans-serif; font-size: 16px; fill: rgb(42, 63, 95); fill-opacity: 1; white-space: pre; opacity: 1;\">Wheelbarrow</text></g><g class=\"xtick\"><text text-anchor=\"end\" x=\"0\" y=\"452\" transform=\"translate(623.29,0) rotate(-45,0,444)\" style=\"font-family: 'Open Sans', verdana, arial, sans-serif; font-size: 16px; fill: rgb(42, 63, 95); fill-opacity: 1; white-space: pre; opacity: 1;\">Rolling Container</text></g><g class=\"xtick\"><text text-anchor=\"end\" x=\"0\" y=\"452\" transform=\"translate(663.68,0) rotate(-45,0,444)\" style=\"font-family: 'Open Sans', verdana, arial, sans-serif; font-size: 16px; fill: rgb(42, 63, 95); fill-opacity: 1; white-space: pre; opacity: 1;\">Shopping Trolley</text></g><g class=\"xtick\"><text text-anchor=\"end\" x=\"0\" y=\"452\" transform=\"translate(704.08,0) rotate(-45,0,444)\" style=\"font-family: 'Open Sans', verdana, arial, sans-serif; font-size: 16px; fill: rgb(42, 63, 95); fill-opacity: 1; white-space: pre; opacity: 1;\">Hand Cart</text></g><g class=\"xtick\"><text text-anchor=\"end\" x=\"0\" y=\"452\" transform=\"translate(744.48,0) rotate(-45,0,444)\" style=\"font-family: 'Open Sans', verdana, arial, sans-serif; font-size: 16px; fill: rgb(42, 63, 95); fill-opacity: 1; white-space: pre; opacity: 1;\">Cycle Rickshaw</text></g></g><g class=\"yaxislayer-above\"><g class=\"ytick\"><text text-anchor=\"end\" x=\"99\" y=\"5.6\" transform=\"translate(0,362.98)\" style=\"font-family: 'Open Sans', verdana, arial, sans-serif; font-size: 16px; fill: rgb(42, 63, 95); fill-opacity: 1; white-space: pre; opacity: 1;\">50</text></g><g class=\"ytick\"><text text-anchor=\"end\" x=\"99\" y=\"5.6\" style=\"font-family: 'Open Sans', verdana, arial, sans-serif; font-size: 16px; fill: rgb(42, 63, 95); fill-opacity: 1; white-space: pre; opacity: 1;\" transform=\"translate(0,289.43)\">100</text></g><g class=\"ytick\"><text text-anchor=\"end\" x=\"99\" y=\"5.6\" style=\"font-family: 'Open Sans', verdana, arial, sans-serif; font-size: 16px; fill: rgb(42, 63, 95); fill-opacity: 1; white-space: pre; opacity: 1;\" transform=\"translate(0,215.87)\">150</text></g><g class=\"ytick\"><text text-anchor=\"end\" x=\"99\" y=\"5.6\" style=\"font-family: 'Open Sans', verdana, arial, sans-serif; font-size: 16px; fill: rgb(42, 63, 95); fill-opacity: 1; white-space: pre; opacity: 1;\" transform=\"translate(0,142.31)\">200</text></g><g class=\"ytick\"><text text-anchor=\"end\" x=\"99\" y=\"5.6\" style=\"font-family: 'Open Sans', verdana, arial, sans-serif; font-size: 16px; fill: rgb(42, 63, 95); fill-opacity: 1; white-space: pre; opacity: 1;\" transform=\"translate(0,68.75)\">250</text></g></g><g class=\"overaxes-above\"/></g></g><g class=\"polarlayer\"/><g class=\"smithlayer\"/><g class=\"ternarylayer\"/><g class=\"geolayer\"/><g class=\"funnelarealayer\"/><g class=\"pielayer\"/><g class=\"iciclelayer\"/><g class=\"treemaplayer\"/><g class=\"sunburstlayer\"/><g class=\"glimages\"/><defs id=\"topdefs-b081ce\"><g class=\"clips\"/></defs><g class=\"layer-above\"><g class=\"imagelayer\"/><g class=\"shapelayer\"/></g><g class=\"infolayer\"><g class=\"cbcoloraxis colorbar\" transform=\"translate(100,30)\"><rect class=\"cbbg\" x=\"697\" y=\"0\" width=\"90.859375\" height=\"405\" style=\"fill: rgb(0, 0, 0); fill-opacity: 0; stroke: rgb(68, 68, 68); stroke-opacity: 1; stroke-width: 0;\"/><g class=\"cbfills\" transform=\"translate(0,10)\"><rect class=\"cbfill gradient_filled\" style=\"fill: url('#gb081ce-cbcoloraxis');\" x=\"707\" y=\"0\" width=\"30\" height=\"385\"/></g><g class=\"cblines\" transform=\"translate(0,10)\"/><g class=\"cbaxis crisp\" transform=\"translate(0,-30)\"><g class=\"ycbcoloraxistick\"><text text-anchor=\"start\" x=\"740.7\" y=\"5.6\" transform=\"translate(0,425)\" style=\"font-family: 'Open Sans', verdana, arial, sans-serif; font-size: 16px; fill: rgb(42, 63, 95); fill-opacity: 1; white-space: pre; opacity: 1;\">0</text></g><g class=\"ycbcoloraxistick\"><text text-anchor=\"start\" x=\"740.7\" y=\"5.6\" style=\"font-family: 'Open Sans', verdana, arial, sans-serif; font-size: 16px; fill: rgb(42, 63, 95); fill-opacity: 1; white-space: pre; opacity: 1;\" transform=\"translate(0,360.83)\">2</text></g><g class=\"ycbcoloraxistick\"><text text-anchor=\"start\" x=\"740.7\" y=\"5.6\" style=\"font-family: 'Open Sans', verdana, arial, sans-serif; font-size: 16px; fill: rgb(42, 63, 95); fill-opacity: 1; white-space: pre; opacity: 1;\" transform=\"translate(0,296.67)\">4</text></g><g class=\"ycbcoloraxistick\"><text text-anchor=\"start\" x=\"740.7\" y=\"5.6\" style=\"font-family: 'Open Sans', verdana, arial, sans-serif; font-size: 16px; fill: rgb(42, 63, 95); fill-opacity: 1; white-space: pre; opacity: 1;\" transform=\"translate(0,232.5)\">6</text></g><g class=\"ycbcoloraxistick\"><text text-anchor=\"start\" x=\"740.7\" y=\"5.6\" style=\"font-family: 'Open Sans', verdana, arial, sans-serif; font-size: 16px; fill: rgb(42, 63, 95); fill-opacity: 1; white-space: pre; opacity: 1;\" transform=\"translate(0,168.33)\">8</text></g><g class=\"ycbcoloraxistick\"><text text-anchor=\"start\" x=\"740.7\" y=\"5.6\" style=\"font-family: 'Open Sans', verdana, arial, sans-serif; font-size: 16px; fill: rgb(42, 63, 95); fill-opacity: 1; white-space: pre; opacity: 1;\" transform=\"translate(0,104.17)\">10</text></g><g class=\"ycbcoloraxistick\"><text text-anchor=\"start\" x=\"740.7\" y=\"5.6\" style=\"font-family: 'Open Sans', verdana, arial, sans-serif; font-size: 16px; fill: rgb(42, 63, 95); fill-opacity: 1; white-space: pre; opacity: 1;\" transform=\"translate(0,40)\">12</text></g></g><g class=\"cbtitleunshift\" transform=\"translate(-100,-30)\"><g class=\"cbtitle\" transform=\"translate(6.19921875,0)\"><text class=\"hycbcoloraxistitle\" transform=\"rotate(-90,865.66,232.5)\" x=\"865.66\" y=\"232.5\" text-anchor=\"middle\" style=\"font-family: 'Open Sans', verdana, arial, sans-serif; font-size: 19px; fill: rgb(42, 63, 95); opacity: 1; font-weight: normal; white-space: pre;\">Slope [degrees]</text></g></g><rect class=\"cboutline\" x=\"707\" y=\"10\" width=\"30\" height=\"385\" style=\"stroke: rgb(68, 68, 68); stroke-opacity: 1; fill: none; stroke-width: 0;\"/></g><g class=\"g-gtitle\"/><g class=\"g-xtitle\"><text class=\"xtitle\" x=\"441.5\" y=\"571.458203125\" text-anchor=\"middle\" style=\"font-family: 'Open Sans', verdana, arial, sans-serif; font-size: 19px; fill: rgb(42, 63, 95); opacity: 1; font-weight: normal; white-space: pre;\">Human-Powered Vehicle</text></g><g class=\"g-ytitle\"><text class=\"ytitle\" transform=\"rotate(-90,43.746875,232.5)\" x=\"43.746875\" y=\"232.5\" text-anchor=\"middle\" style=\"font-family: 'Open Sans', verdana, arial, sans-serif; font-size: 19px; fill: rgb(42, 63, 95); opacity: 1; font-weight: normal; white-space: pre;\">Performance [15L.km.hr⁻¹]</text></g></g></svg>"
      ]
     },
     "metadata": {},
     "output_type": "display_data"
    },
    {
     "data": {
      "image/svg+xml": [
       "<svg class=\"main-svg\" xmlns=\"http://www.w3.org/2000/svg\" xmlns:xlink=\"http://www.w3.org/1999/xlink\" width=\"900\" height=\"600\" style=\"\" viewBox=\"0 0 900 600\"><rect x=\"0\" y=\"0\" width=\"900\" height=\"600\" style=\"fill: rgb(255, 255, 255); fill-opacity: 1;\"/><defs id=\"defs-1ae12e\"><g class=\"clips\"><clipPath id=\"clip1ae12exyplot\" class=\"plotclip\"><rect width=\"770\" height=\"405\"/></clipPath><clipPath class=\"axesclip\" id=\"clip1ae12ex\"><rect x=\"100\" y=\"0\" width=\"770\" height=\"600\"/></clipPath><clipPath class=\"axesclip\" id=\"clip1ae12ey\"><rect x=\"0\" y=\"30\" width=\"900\" height=\"405\"/></clipPath><clipPath class=\"axesclip\" id=\"clip1ae12exy\"><rect x=\"100\" y=\"30\" width=\"770\" height=\"405\"/></clipPath></g><g class=\"gradients\"/><g class=\"patterns\"/></defs><g class=\"bglayer\"><rect class=\"bg\" x=\"100\" y=\"30\" width=\"770\" height=\"405\" style=\"fill: rgb(229, 236, 246); fill-opacity: 1; stroke-width: 0;\"/></g><g class=\"layer-below\"><g class=\"imagelayer\"/><g class=\"shapelayer\"/></g><g class=\"cartesianlayer\"><g class=\"subplot xy\"><g class=\"layer-subplot\"><g class=\"shapelayer\"/><g class=\"imagelayer\"/></g><g class=\"minor-gridlayer\"><g class=\"x\"/><g class=\"y\"/></g><g class=\"gridlayer\"><g class=\"x\"/><g class=\"y\"><path class=\"ygrid crisp\" transform=\"translate(0,273)\" d=\"M100,0h770\" style=\"stroke: rgb(255, 255, 255); stroke-opacity: 1; stroke-width: 1px;\"/><path class=\"ygrid crisp\" transform=\"translate(0,192)\" d=\"M100,0h770\" style=\"stroke: rgb(255, 255, 255); stroke-opacity: 1; stroke-width: 1px;\"/><path class=\"ygrid crisp\" transform=\"translate(0,111)\" d=\"M100,0h770\" style=\"stroke: rgb(255, 255, 255); stroke-opacity: 1; stroke-width: 1px;\"/></g></g><g class=\"zerolinelayer\"><path class=\"yzl zl crisp\" transform=\"translate(0,354)\" d=\"M100,0h770\" style=\"stroke: rgb(255, 255, 255); stroke-opacity: 1; stroke-width: 2px;\"/></g><path class=\"xlines-below\"/><path class=\"ylines-below\"/><g class=\"overlines-below\"/><g class=\"xaxislayer-below\"/><g class=\"yaxislayer-below\"/><g class=\"overaxes-below\"/><g class=\"plot\" transform=\"translate(100,30)\" clip-path=\"url(#clip1ae12exyplot)\"/><g class=\"overplot\"/><path class=\"xlines-above crisp\" d=\"M0,0\" style=\"fill: none;\"/><path class=\"ylines-above crisp\" d=\"M0,0\" style=\"fill: none;\"/><g class=\"overlines-above\"/><g class=\"xaxislayer-above\"><g class=\"xtick\"><text text-anchor=\"end\" x=\"0\" y=\"452\" transform=\"translate(100,0) rotate(-45,0,444)\" style=\"font-family: 'Open Sans', verdana, arial, sans-serif; font-size: 16px; fill: rgb(42, 63, 95); fill-opacity: 1; white-space: pre; opacity: 1;\">−1</text></g><g class=\"xtick\"><text text-anchor=\"end\" x=\"0\" y=\"452\" style=\"font-family: 'Open Sans', verdana, arial, sans-serif; font-size: 16px; fill: rgb(42, 63, 95); fill-opacity: 1; white-space: pre; opacity: 1;\" transform=\"translate(210,0) rotate(-45,0,444)\">0</text></g><g class=\"xtick\"><text text-anchor=\"end\" x=\"0\" y=\"452\" style=\"font-family: 'Open Sans', verdana, arial, sans-serif; font-size: 16px; fill: rgb(42, 63, 95); fill-opacity: 1; white-space: pre; opacity: 1;\" transform=\"translate(320,0) rotate(-45,0,444)\">1</text></g><g class=\"xtick\"><text text-anchor=\"end\" x=\"0\" y=\"452\" style=\"font-family: 'Open Sans', verdana, arial, sans-serif; font-size: 16px; fill: rgb(42, 63, 95); fill-opacity: 1; white-space: pre; opacity: 1;\" transform=\"translate(430,0) rotate(-45,0,444)\">2</text></g><g class=\"xtick\"><text text-anchor=\"end\" x=\"0\" y=\"452\" style=\"font-family: 'Open Sans', verdana, arial, sans-serif; font-size: 16px; fill: rgb(42, 63, 95); fill-opacity: 1; white-space: pre; opacity: 1;\" transform=\"translate(540,0) rotate(-45,0,444)\">3</text></g><g class=\"xtick\"><text text-anchor=\"end\" x=\"0\" y=\"452\" style=\"font-family: 'Open Sans', verdana, arial, sans-serif; font-size: 16px; fill: rgb(42, 63, 95); fill-opacity: 1; white-space: pre; opacity: 1;\" transform=\"translate(650,0) rotate(-45,0,444)\">4</text></g><g class=\"xtick\"><text text-anchor=\"end\" x=\"0\" y=\"452\" style=\"font-family: 'Open Sans', verdana, arial, sans-serif; font-size: 16px; fill: rgb(42, 63, 95); fill-opacity: 1; white-space: pre; opacity: 1;\" transform=\"translate(760,0) rotate(-45,0,444)\">5</text></g><g class=\"xtick\"><text text-anchor=\"end\" x=\"0\" y=\"452\" style=\"font-family: 'Open Sans', verdana, arial, sans-serif; font-size: 16px; fill: rgb(42, 63, 95); fill-opacity: 1; white-space: pre; opacity: 1;\" transform=\"translate(870,0) rotate(-45,0,444)\">6</text></g></g><g class=\"yaxislayer-above\"><g class=\"ytick\"><text text-anchor=\"end\" x=\"99\" y=\"5.6\" transform=\"translate(0,435)\" style=\"font-family: 'Open Sans', verdana, arial, sans-serif; font-size: 16px; fill: rgb(42, 63, 95); fill-opacity: 1; white-space: pre; opacity: 1;\">−1</text></g><g class=\"ytick\"><text text-anchor=\"end\" x=\"99\" y=\"5.6\" style=\"font-family: 'Open Sans', verdana, arial, sans-serif; font-size: 16px; fill: rgb(42, 63, 95); fill-opacity: 1; white-space: pre; opacity: 1;\" transform=\"translate(0,354)\">0</text></g><g class=\"ytick\"><text text-anchor=\"end\" x=\"99\" y=\"5.6\" style=\"font-family: 'Open Sans', verdana, arial, sans-serif; font-size: 16px; fill: rgb(42, 63, 95); fill-opacity: 1; white-space: pre; opacity: 1;\" transform=\"translate(0,273)\">1</text></g><g class=\"ytick\"><text text-anchor=\"end\" x=\"99\" y=\"5.6\" style=\"font-family: 'Open Sans', verdana, arial, sans-serif; font-size: 16px; fill: rgb(42, 63, 95); fill-opacity: 1; white-space: pre; opacity: 1;\" transform=\"translate(0,192)\">2</text></g><g class=\"ytick\"><text text-anchor=\"end\" x=\"99\" y=\"5.6\" style=\"font-family: 'Open Sans', verdana, arial, sans-serif; font-size: 16px; fill: rgb(42, 63, 95); fill-opacity: 1; white-space: pre; opacity: 1;\" transform=\"translate(0,111)\">3</text></g><g class=\"ytick\"><text text-anchor=\"end\" x=\"99\" y=\"5.6\" style=\"font-family: 'Open Sans', verdana, arial, sans-serif; font-size: 16px; fill: rgb(42, 63, 95); fill-opacity: 1; white-space: pre; opacity: 1;\" transform=\"translate(0,30)\">4</text></g></g><g class=\"overaxes-above\"/></g></g><g class=\"polarlayer\"/><g class=\"smithlayer\"/><g class=\"ternarylayer\"/><g class=\"geolayer\"/><g class=\"funnelarealayer\"/><g class=\"pielayer\"/><g class=\"iciclelayer\"/><g class=\"treemaplayer\"/><g class=\"sunburstlayer\"/><g class=\"glimages\"/><defs id=\"topdefs-1ae12e\"><g class=\"clips\"/></defs><g class=\"layer-above\"><g class=\"imagelayer\"/><g class=\"shapelayer\"/></g><g class=\"infolayer\"><g class=\"g-gtitle\"/><g class=\"g-xtitle\"><text class=\"xtitle\" x=\"485\" y=\"493.9298828125\" text-anchor=\"middle\" style=\"font-family: 'Open Sans', verdana, arial, sans-serif; font-size: 19px; fill: rgb(42, 63, 95); opacity: 1; font-weight: normal; white-space: pre;\">Human-Powered Vehicle</text></g><g class=\"g-ytitle\"><text class=\"ytitle\" transform=\"rotate(-90,52.903125,232.5)\" x=\"52.903125\" y=\"232.5\" text-anchor=\"middle\" style=\"font-family: 'Open Sans', verdana, arial, sans-serif; font-size: 19px; fill: rgb(42, 63, 95); opacity: 1; font-weight: normal; white-space: pre;\">Performance [15L.km.hr⁻¹]</text></g></g></svg>"
      ]
     },
     "metadata": {},
     "output_type": "display_data"
    }
   ],
   "source": [
    "# Visualization of results using Plotly for interactive plots.\n",
    "# Utilizes custom plotting functions defined in the mobility module to create visual representations of the results.\n",
    "# Different types of plots (like load plots, bar plots, slope plots) are generated based on the results.\n",
    "# These plots help in understanding and interpreting the data and outcomes of the mobility models.\n",
    "mm.plotting_hpv.load_plot_plotly(mr, mo, hpv)  # Generating a load plot.\n",
    "# mm.plotting_hpv.bar_plot_loading_distance(mr, mo, hpv, mv)  # Creating a bar plot for loading distance.\n",
    "mm.plotting_hpv.scatter_plot_loading_distance(mr, mo, hpv, mv)  # Creating a bar plot for loading distance.\n",
    "# mm.plotting_hpv.slope_plot_plotly(mr, mo, hpv)  # Producing a slope plot.\n",
    "mm.plotting_hpv.new_slope_plot(mr, mo, hpv, mv)  # Producing a slope plot.\n",
    "mm.plotting_hpv.bar_plot_hpvs(mr, mo, hpv, mv)  # Generating a bar plot for HPVs.\n"
   ]
  },
  {
   "cell_type": "markdown",
   "metadata": {},
   "source": [
    "Export results to a CSV file for external use. This cell checks if the export feature is enabled and, if so, formats the relevant data into a DataFrame and saves it as a CSV file for further use."
   ]
  },
  {
   "cell_type": "code",
   "execution_count": 11,
   "metadata": {},
   "outputs": [],
   "source": [
    "# Optional export of tabular results to a CSV file.\n",
    "# If 'export_table' is set to 1, the efficiency data for a particular scenario is formatted into a DataFrame and saved as a CSV.\n",
    "# This feature allows for external analysis or sharing of the results.\n",
    "export_table = 0  # Set to 1 to enable exporting.\n",
    "if export_table == 1:\n",
    "    slope_name = mr.slope_vector_deg.flat[mo.slope_scene]  # Extracting the slope name for the title.\n",
    "    chart_title = f\"Efficiency at {slope_name:.2f} degrees, with model {mr.model_name}\"  # Formatting chart title.\n",
    "    df = mr.create_dataframe_single_scenario(hpv, mv, mo.load_scene, mo.slope_scene)  # Creating DataFrame for export.\n",
    "    df.to_csv(\"efficiency.csv\")  # Exporting the DataFrame to a CSV file.\n"
   ]
  },
  {
   "cell_type": "code",
   "execution_count": 12,
   "metadata": {},
   "outputs": [
    {
     "ename": "IndentationError",
     "evalue": "expected an indented block (3049750528.py, line 10)",
     "output_type": "error",
     "traceback": [
      "\u001b[0;36m  Cell \u001b[0;32mIn[12], line 10\u001b[0;36m\u001b[0m\n\u001b[0;31m    load_v = mr.v_load_matrix3d[\u001b[0m\n\u001b[0m    ^\u001b[0m\n\u001b[0;31mIndentationError\u001b[0m\u001b[0;31m:\u001b[0m expected an indented block\n"
     ]
    }
   ],
   "source": [
    "\n",
    "    # This  cell creates a lookup table for a given Crr.\n",
    "    # The rows are it's slope and then the loaded and unloaded velocity is given for each slope.\n",
    "    # Load is held constant\n",
    "\n",
    "\n",
    "\n",
    "\n",
    "export_lookup_table = 0\n",
    "if export_lookup_table == 1:   \n",
    "    load_v = mr.v_load_matrix3d[\n",
    "        0, :, -1\n",
    "    ]\n",
    "\n",
    "    unload_v = mr.v_unload_matrix3d[\n",
    "        0, :, -1\n",
    "    ]\n",
    "\n",
    "    load_vector= mr.load_matrix3d[\n",
    "        0, :, -1\n",
    "    ]\n",
    "\n",
    "    slope_vector = mr.slope_matrix3d_deg[\n",
    "        0, :, -1\n",
    "    ]\n",
    "\n",
    "    filename_string = f'{mr.hpv_name[0][0][0][0]}_Crr_{hpv.Crr[0][0][0]}'\n",
    "\n",
    "    # create a dataframe with the data\n",
    "    df = pd.DataFrame(\n",
    "        {\n",
    "            \"slope_vector\": slope_vector,\n",
    "            \"load_v\": load_v,\n",
    "            \"unload_v\": unload_v,\n",
    "            \"load_matrix\": load_vector,\n",
    "        }\n",
    "    )\n",
    "    # setindex slope\n",
    "    df.set_index(\"slope_vector\", inplace=True)\n",
    "\n",
    "    # save the dataframe to a csv\n",
    "    df.to_csv(f'../data/{filename_string}.csv')\n",
    "\n"
   ]
  }
 ],
 "metadata": {
  "kernelspec": {
   "display_name": "Python 3.9.13 (conda)",
   "language": "python",
   "name": "python3"
  },
  "language_info": {
   "codemirror_mode": {
    "name": "ipython",
    "version": 3
   },
   "file_extension": ".py",
   "mimetype": "text/x-python",
   "name": "python",
   "nbconvert_exporter": "python",
   "pygments_lexer": "ipython3",
   "version": "3.11.9"
  },
  "orig_nbformat": 4,
  "vscode": {
   "interpreter": {
    "hash": "c09a8b249899dc4589e662892666698668e7a3ca1327801a18c24efb244ad2c6"
   }
  }
 },
 "nbformat": 4,
 "nbformat_minor": 2
}
