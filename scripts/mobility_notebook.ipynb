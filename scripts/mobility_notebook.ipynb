{
 "cells": [
  {
   "cell_type": "markdown",
   "metadata": {},
   "source": [
    "Welcome to the mobility notebook. This notebook does an in-depth analysis of the mobility of HPVs for carrying water. It uses the mobility_module.py package, this is where all of the models are stored.\n",
    "\n"
   ]
  },
  {
   "cell_type": "code",
   "execution_count": 1,
   "metadata": {},
   "outputs": [],
   "source": [
    "# Importing necessary modules\n",
    "import sys  # Provides access to some variables used by the interpreter\n",
    "from pathlib import Path  # Used for filesystem path operations\n",
    "\n",
    "# Resolve the current path of the notebook. Path().resolve() returns the absolute path\n",
    "# of the current working directory (where this notebook is located).\n",
    "notebook_path = Path().resolve()\n",
    "\n",
    "# Determine the project root directory. Since 'notebook_path' points to the 'scripts'\n",
    "# directory, its parent will be the root directory of your project (which contains both 'scripts' and 'src').\n",
    "project_root = notebook_path.parent\n",
    "\n",
    "# Append the project root directory to sys.path. This step is crucial as it allows\n",
    "# Python to find and import modules from the 'src' directory, which is located at the project root.\n",
    "# It essentially adds the project root to the list of directories where Python looks for modules.\n",
    "sys.path.append(str(project_root))\n",
    "\n",
    "# Importing standard and third-party libraries necessary for your script.\n",
    "# These libraries are likely installed in your Conda environment or Python's site-packages.\n",
    "import pandas as pd  # Data manipulation and analysis library\n",
    "import plotly.express as px  # Simplified interface for Plotly\n",
    "\n",
    "# Importing custom modules from the 'src' directory.\n",
    "# Thanks to modifying sys.path, Python can now find these modules.\n",
    "import src.mobility_module as mm  # Custom module for mobility-related functionalities\n",
    "\n"
   ]
  },
  {
   "cell_type": "code",
   "execution_count": 2,
   "metadata": {},
   "outputs": [],
   "source": [
    "######################\n",
    "#### Import Data #####\n",
    "file_path_params = \"../data/lookup tables/mobility-model-parameters.csv\"\n",
    "allHPV_param_df = pd.read_csv(file_path_params)\n",
    "\n",
    "mo = mm.model_options(lhillpo=-1)"
   ]
  },
  {
   "cell_type": "markdown",
   "metadata": {},
   "source": [
    "Below, choose which model to use, 1 = Sprott, 2 = Cycling, 3 = walking "
   ]
  },
  {
   "cell_type": "code",
   "execution_count": 3,
   "metadata": {},
   "outputs": [],
   "source": [
    "# Setting model options based on user selection.\n",
    "# This cell is responsible for configuring the behavior of the mobility model.\n",
    "# The variable 'mo.model_selection' is set to a specific model type.\n",
    "# Each number corresponds to a different model:\n",
    "# 1 for the Sprott model, 2 for Cycling, and 3 for Walking.\n",
    "mo.model_selection = 1  # Example: Selecting the Cycling model.\n"
   ]
  },
  {
   "cell_type": "markdown",
   "metadata": {},
   "source": [
    "Apply data filtering based on the selected mobility model. This cell determines which subset of HPV data to use for analysis, ensuring the data aligns with the model requirements."
   ]
  },
  {
   "cell_type": "code",
   "execution_count": 4,
   "metadata": {},
   "outputs": [],
   "source": [
    "# Filtering HPV data based on the model selection.\n",
    "# This cell applies filters to the HPV data to include only relevant data for the selected model.\n",
    "# Different conditions are checked based on the model chosen in the previous cell.\n",
    "# For model 1 (Sprott), all options are included.\n",
    "# For model 2 (Cycling), a specific subset of data is used.\n",
    "# For models greater than 2 (Walking), another subset of data is selected.\n",
    "if mo.model_selection == 1:\n",
    "    # Sprott model: Include all options.\n",
    "    filter_col = -1\n",
    "    filter_value = 1\n",
    "elif mo.model_selection == 2:\n",
    "    # Cycling model: Apply specific filter.\n",
    "    filter_col = 5\n",
    "    filter_value = 1\n",
    "if mo.model_selection > 2:\n",
    "    # Walking model: Another filter configuration.\n",
    "    filter_col = 6\n",
    "    filter_value = 0\n"
   ]
  },
  {
   "cell_type": "markdown",
   "metadata": {},
   "source": [
    "Comment: Filter and select HPV data based on specified criteria. This cell determines the subset of HPV data to include in the analysis, ensuring it aligns with the specific conditions set by the chosen mobility model."
   ]
  },
  {
   "cell_type": "code",
   "execution_count": 5,
   "metadata": {},
   "outputs": [],
   "source": [
    "# Selecting specific Human-Powered Vehicles (HPVs) for analysis.\n",
    "# Depending on the filter applied in the previous cell, this cell filters the HPV data.\n",
    "# The filtered data is stored in 'param_df'.\n",
    "# If 'filter_col' is greater than 0, a specific column from the data is used for filtering.\n",
    "# Else, all data in 'allHPV_param_df' is used.\n",
    "if filter_col > 0:\n",
    "    column_names = [\n",
    "        \"Name\",\n",
    "        \"LoadLimit\",\n",
    "        \"AverageSpeedWithoutLoad\",\n",
    "        \"Drive\",\n",
    "        \"GroundContact\",\n",
    "        \"Pilot\",\n",
    "        \"Crr\",\n",
    "        \"Efficiency\",\n",
    "        \"Weight\",\n",
    "    ]  # \n",
    "    col = column_names[filter_col]\n",
    "    param_df = allHPV_param_df.loc[(allHPV_param_df[col] == filter_value)]\n",
    "else:\n",
    "    param_df = allHPV_param_df  # Use all data if no filter is applied.\n",
    "\n"
   ]
  },
  {
   "cell_type": "markdown",
   "metadata": {},
   "source": [
    " Initialize and configure variables and models. This cell sets up the core components of the mobility analysis, preparing for the execution of mobility models and result handling."
   ]
  },
  {
   "cell_type": "code",
   "execution_count": 6,
   "metadata": {},
   "outputs": [],
   "source": [
    "# Initializing and setting up various variables and models for analysis.\n",
    "# This cell creates instances of different classes defined in the mobility module.\n",
    "# Each class instance represents a different aspect of the mobility model.\n",
    "# 'mv' (model variables) captures general variables used across models.\n",
    "# 'met' (MET values) encapsulates Metabolic Equivalent of Task values, relevant for human energy expenditure.\n",
    "# 'hpv' (HPV variables) contains variables specific to Human-Powered Vehicles.\n",
    "# 'mr' (model results) is used for storing and handling results of the mobility model calculations.\n",
    "mv = mm.model_variables()\n",
    "met = mm.MET_values(mv, country_weight=False, use_country_specific_weights=False)\n",
    "hpv = mm.HPV_variables(param_df, mv)\n",
    "mr = mm.model_results(hpv, mo)\n"
   ]
  },
  {
   "cell_type": "code",
   "execution_count": 7,
   "metadata": {},
   "outputs": [],
   "source": [
    "# Customizing the scenario by modifying specific variables. Only used for creating custom scenarios.\n",
    "\n",
    "export_lookup_table = 0\n",
    "if export_lookup_table == 1:\n",
    "    # change crr for different scenarios\n",
    "    hpv.Crr[0][0][0] = 0.004"
   ]
  },
  {
   "cell_type": "markdown",
   "metadata": {},
   "source": [
    "Execute the selected mobility model and store results. This cell runs the chosen mobility model (Sprott or numerical) and captures the output in terms of vehicle velocity and load capacities."
   ]
  },
  {
   "cell_type": "code",
   "execution_count": 8,
   "metadata": {
    "tags": []
   },
   "outputs": [],
   "source": [
    "# Executing the mobility model based on the previously set configurations.\n",
    "# The cell differentiates between the Sprott model and other numerical models.\n",
    "# Based on 'model_selection', the appropriate mobility model function is called.\n",
    "# The results of the model (velocity and load matrices) are stored in 'mr'.\n",
    "if mo.model_selection == 1:\n",
    "    # Execute the Sprott model for model_selection 1.\n",
    "    mr.v_load_matrix3d, mr.load_matrix3d = mm.mobility_models.sprott_model(hpv, mv, mo, mr)\n",
    "elif mo.model_selection > 1:\n",
    "    # Execute the numerical mobility model for other selections.\n",
    "    mr.v_load_matrix3d, mr.load_matrix3d = mm.mobility_models.numerical_mobility_model(mr, mv, mo, met, hpv)\n",
    "\n"
   ]
  },
  {
   "cell_type": "markdown",
   "metadata": {},
   "source": [
    " Prepare and organize results for analysis. This cell configures the conditions for analyzing the results from the mobility models and loads the results accordingly for subsequent visualization or export."
   ]
  },
  {
   "cell_type": "code",
   "execution_count": 9,
   "metadata": {},
   "outputs": [],
   "source": [
    "\n",
    "# Organizing and preparing the results from the mobility model for analysis.\n",
    "# This cell sets up the conditions under which the results are to be analyzed.\n",
    "# It includes setting the 'slope_scene', which might represent a particular scenario or condition in the analysis.\n",
    "# The results are then loaded and prepared for further processing or visualization.\n",
    "mo.slope_scene = 0  # Example: Setting the slope scene to 0.\n",
    "mr.load_results(hpv, mv, mo)  # Loading the results for the specified conditions.\n",
    "\n"
   ]
  },
  {
   "cell_type": "markdown",
   "metadata": {},
   "source": [
    " Visualize model results using interactive plots. This cell creates various types of plots to display the outcomes of the mobility analysis, making the data more accessible and understandable."
   ]
  },
  {
   "cell_type": "code",
   "execution_count": 13,
   "metadata": {},
   "outputs": [
    {
     "data": {
      "application/vnd.plotly.v1+json": {
       "config": {
        "plotlyServerURL": "https://plot.ly"
       },
       "data": [
        {
         "mode": "lines",
         "name": "Baby Carriage",
         "type": "scatter",
         "x": [
          0,
          1.4285714285714286,
          2.857142857142857,
          4.285714285714286,
          5.714285714285714,
          7.142857142857143,
          8.571428571428571,
          10,
          11.428571428571429,
          12.857142857142858,
          14.285714285714286,
          15.714285714285715,
          17.142857142857142,
          18.571428571428573,
          20
         ],
         "y": [
          1.091230801216588,
          1.090336033361423,
          1.0894420039926276,
          1.08854871309753,
          1.0876561606619697,
          1.086764346670295,
          1.0858732711053636,
          1.0849829339485444,
          1.084093335179716,
          1.0832044747772682,
          1.082316352718101,
          1.0814289689776255,
          1.0805423235297649,
          1.0796564163469524,
          1.0787712474001343
         ]
        },
        {
         "mode": "lines",
         "name": "Backpack",
         "type": "scatter",
         "x": [
          0,
          2.142857142857143,
          4.285714285714286,
          6.428571428571429,
          8.571428571428571,
          10.714285714285714,
          12.857142857142858,
          15,
          17.142857142857142,
          19.285714285714285,
          21.428571428571427,
          23.57142857142857,
          25.714285714285715,
          27.857142857142858,
          30
         ],
         "y": [
          1.0931159797382648,
          1.0748453451719688,
          1.0574612555394713,
          1.0408942583229042,
          1.0250822871807472,
          1.0099696817542028,
          0.9955063619089473,
          0.9816471284559248,
          0.9683510680761255,
          0.9555810445815361,
          0.9433032620888413,
          0.9314868883931446,
          0.9201037289764227,
          0.9091279437972883,
          0.8985358003813708
         ]
        },
        {
         "mode": "lines",
         "name": "Bicycle",
         "type": "scatter",
         "x": [
          0,
          4.857142857142857,
          9.714285714285714,
          14.57142857142857,
          19.428571428571427,
          24.285714285714285,
          29.14285714285714,
          34,
          38.857142857142854,
          43.71428571428571,
          48.57142857142857,
          53.42857142857142,
          58.28571428571428,
          63.14285714285714,
          68
         ],
         "y": [
          1.849899549357835,
          1.8465527162647755,
          1.8432121136794073,
          1.839877740588804,
          1.8365495959190599,
          1.8332276785353419,
          1.829911987241943,
          1.8266025207823444,
          1.8232992778392756,
          1.8200022570347776,
          1.8167114569302723,
          1.8134268760266314,
          1.8101485127642516,
          1.8068763655231281,
          1.8036104326229372
         ]
        },
        {
         "mode": "lines",
         "name": "Buckets",
         "type": "scatter",
         "x": [
          0,
          1.4285714285714286,
          2.857142857142857,
          4.285714285714286,
          5.714285714285714,
          7.142857142857143,
          8.571428571428571,
          10,
          11.428571428571429,
          12.857142857142858,
          14.285714285714286,
          15.714285714285715,
          17.142857142857142,
          18.571428571428573,
          20
         ],
         "y": [
          1.0931159797382648,
          1.0808333878569945,
          1.0689557373070169,
          1.0574612555394713,
          1.046329774437086,
          1.035542581434166,
          1.0250822871807472,
          1.0149327076211823,
          1.0050787586676388,
          0.9955063619089473,
          0.9862023600138967,
          0.9771544406726391,
          0.9683510680761255,
          0.959781421066282,
          0.9514353372027661
         ]
        },
        {
         "mode": "lines",
         "name": "Cycle Rickshaw",
         "type": "scatter",
         "x": [
          0,
          8.857142857142858,
          17.714285714285715,
          26.571428571428573,
          35.42857142857143,
          44.28571428571429,
          53.142857142857146,
          62,
          70.85714285714286,
          79.71428571428572,
          88.57142857142858,
          97.42857142857143,
          106.28571428571429,
          115.14285714285715,
          124
         ],
         "y": [
          1.7280948395995652,
          1.7130134648270527,
          1.698077228038852,
          1.6832857178209881,
          1.6686384915978678,
          1.6541350761240854,
          1.6397749680065625,
          1.6255576342557125,
          1.6114825128642487,
          1.5975490134122254,
          1.58375651769683,
          1.5701043803854313,
          1.5565919296903292,
          1.5432184680636476,
          1.529983272910777
         ]
        },
        {
         "mode": "lines",
         "name": "Hand Cart",
         "type": "scatter",
         "x": [
          0,
          7.142857142857143,
          14.285714285714286,
          21.42857142857143,
          28.571428571428573,
          35.714285714285715,
          42.85714285714286,
          50,
          57.142857142857146,
          64.28571428571429,
          71.42857142857143,
          78.57142857142857,
          85.71428571428572,
          92.85714285714286,
          100
         ],
         "y": [
          1.071672524500294,
          1.0672874552451914,
          1.0629208276818625,
          1.0585726350141997,
          1.0542428695214647,
          1.0499315225602266,
          1.0456385845665348,
          1.0413640450583155,
          1.0371078926379995,
          1.032870114995373,
          1.0286506989106532,
          1.0244496302577846,
          1.0202668940079591,
          1.01610247423335,
          1.0119563541110648
         ]
        },
        {
         "mode": "lines",
         "name": "Hand Truck",
         "type": "scatter",
         "x": [
          0,
          8.142857142857142,
          16.285714285714285,
          24.428571428571427,
          32.57142857142857,
          40.71428571428571,
          48.857142857142854,
          57,
          65.14285714285714,
          73.28571428571428,
          81.42857142857142,
          89.57142857142857,
          97.71428571428571,
          105.85714285714285,
          114
         ],
         "y": [
          1.0896654421023968,
          1.0845825231283157,
          1.0795235939431145,
          1.0744886497727502,
          1.0694776842726812,
          1.064490689529944,
          1.0595276560657443,
          1.0545885728385567,
          1.0496734272477322,
          1.0447822051376097,
          1.0399148908021316,
          1.035071466989956,
          1.0302519149100622,
          1.0254562142378496,
          1.0206843431217194
         ]
        },
        {
         "mode": "lines",
         "name": "Luggage",
         "type": "scatter",
         "x": [
          0,
          1.4285714285714286,
          2.857142857142857,
          4.285714285714286,
          5.714285714285714,
          7.142857142857143,
          8.571428571428571,
          10,
          11.428571428571429,
          12.857142857142858,
          14.285714285714286,
          15.714285714285715,
          17.142857142857142,
          18.571428571428573,
          20
         ],
         "y": [
          1.0949968907048535,
          1.0940990211022046,
          1.0932018900228677,
          1.0923054974604318,
          1.0914098434069957,
          1.0905149278531674,
          1.0896207507880638,
          1.088727312199312,
          1.0878346120730487,
          1.0869426503939204,
          1.0860514271450832,
          1.0851609423082034,
          1.084271195863458,
          1.0833821877895347,
          1.0824939180636306
         ]
        },
        {
         "mode": "lines",
         "name": "Roller skates",
         "type": "scatter",
         "x": [
          0,
          2.9285714285714284,
          5.857142857142857,
          8.785714285714285,
          11.714285714285714,
          14.642857142857142,
          17.57142857142857,
          20.5,
          23.428571428571427,
          26.357142857142854,
          29.285714285714285,
          32.214285714285715,
          35.14285714285714,
          38.07142857142857,
          41
         ],
         "y": [
          1.4723532358123965,
          1.4688609189202684,
          1.4653773406600419,
          1.4619024975302142,
          1.458436385883996,
          1.4549790019296187,
          1.4515303417306524,
          1.4480904012063338,
          1.4446591761319094,
          1.4412366621389867,
          1.4378228547158998,
          1.4344177492080852,
          1.4310213408184682,
          1.4276336246078642,
          1.424254595495386
         ]
        },
        {
         "mode": "lines",
         "name": "Rolling Container",
         "type": "scatter",
         "x": [
          0,
          11.285714285714286,
          22.571428571428573,
          33.85714285714286,
          45.142857142857146,
          56.42857142857143,
          67.71428571428572,
          79,
          90.28571428571429,
          101.57142857142858,
          112.85714285714286,
          124.14285714285715,
          135.42857142857144,
          146.71428571428572,
          158
         ],
         "y": [
          1.0971997924429455,
          1.095423637481538,
          1.0936503632474877,
          1.0918799697027495,
          1.0901124567865963,
          1.0883478244156217,
          1.086586072483744,
          1.084827200862208,
          1.083071209399593,
          1.0813180979218167,
          1.079567866232143,
          1.0778205141111898,
          1.0760760413169363,
          1.074334447584735,
          1.072595732627319
         ]
        },
        {
         "mode": "lines",
         "name": "Scooter",
         "type": "scatter",
         "x": [
          0,
          2.7142857142857144,
          5.428571428571429,
          8.142857142857142,
          10.857142857142858,
          13.571428571428573,
          16.285714285714285,
          19,
          21.714285714285715,
          24.42857142857143,
          27.142857142857146,
          29.857142857142858,
          32.57142857142857,
          35.285714285714285,
          38
         ],
         "y": [
          1.4733087546362749,
          1.4700694637245508,
          1.4668376804208632,
          1.4636134019818139,
          1.4603966255567067,
          1.4571873481877506,
          1.4539855668102755,
          1.450791278252951,
          1.4476044792380154,
          1.4444251663815098,
          1.4412533361935218,
          1.4380889850784364,
          1.4349321093351906,
          1.4317827051575411,
          1.4286407686343354
         ]
        },
        {
         "mode": "lines",
         "name": "Shopping Trolley",
         "type": "scatter",
         "x": [
          0,
          13.928571428571429,
          27.857142857142858,
          41.785714285714285,
          55.714285714285715,
          69.64285714285714,
          83.57142857142857,
          97.5,
          111.42857142857143,
          125.35714285714286,
          139.28571428571428,
          153.21428571428572,
          167.14285714285714,
          181.07142857142858,
          195
         ],
         "y": [
          1.084048874623578,
          1.0754143375576168,
          1.0668499627176093,
          1.0583557091622715,
          1.0499315225602266,
          1.041577335241943,
          1.0332930662642894,
          1.0250786214875747,
          1.0169338936648973,
          1.008858762543608,
          1.0008530949786643,
          0.9929167450576262,
          0.9850495542370282,
          0.9772513514898238,
          0.9695219534635976
         ]
        },
        {
         "mode": "lines",
         "name": "Skateboard",
         "type": "scatter",
         "x": [
          0,
          4.357142857142857,
          8.714285714285714,
          13.07142857142857,
          17.428571428571427,
          21.785714285714285,
          26.14285714285714,
          30.499999999999996,
          34.857142857142854,
          39.21428571428571,
          43.57142857142857,
          47.92857142857142,
          52.28571428571428,
          56.64285714285714,
          61
         ],
         "y": [
          1.4747432561691813,
          1.469541660301159,
          1.4643594093906849,
          1.459196491882865,
          1.454052895511372,
          1.4489286073007195,
          1.4438236135686662,
          1.4387378999287486,
          1.4336714512929367,
          1.4286242518744159,
          1.4235962851904922,
          1.4185875340656215,
          1.4135979806345558,
          1.4086276063456147,
          1.403676391964071
         ]
        },
        {
         "mode": "lines",
         "name": "Stretcher",
         "type": "scatter",
         "x": [
          0,
          8.571428571428571,
          17.142857142857142,
          25.714285714285715,
          34.285714285714285,
          42.857142857142854,
          51.42857142857143,
          60,
          68.57142857142857,
          77.14285714285714,
          85.71428571428571,
          94.28571428571428,
          102.85714285714286,
          111.42857142857143,
          120
         ],
         "y": [
          0.8598952795581577,
          0.8255770085283355,
          0.7950647829438436,
          0.7677033961873669,
          0.7429854042910762,
          0.7205108688439548,
          0.6999597414498495,
          0.6810724511238087,
          0.6636359622578933,
          0.6474735698563233,
          0.6324373030108016,
          0.6184021836921862,
          0.6052618280740695,
          0.5929250344755387,
          0.5813131066212277
         ]
        },
        {
         "mode": "lines",
         "name": "Wheelbarrow",
         "type": "scatter",
         "x": [
          0,
          10.714285714285714,
          21.428571428571427,
          32.14285714285714,
          42.857142857142854,
          53.57142857142857,
          64.28571428571428,
          75,
          85.71428571428571,
          96.42857142857142,
          107.14285714285714,
          117.85714285714285,
          128.57142857142856,
          139.28571428571428,
          150
         ],
         "y": [
          1.0818725685596218,
          1.0752379533396514,
          1.0686448540829188,
          1.0620932527326892,
          1.055583126540424,
          1.0491144480786565,
          1.0426871852564936,
          1.0363013013377278,
          1.0299567549615265,
          1.023653500165683,
          1.017391486412391,
          1.0111706586165108,
          1.0049909571762905,
          0.9988523180065059,
          0.9927546725739689
         ]
        },
        {
         "mode": "lines",
         "name": "Wheelchair",
         "type": "scatter",
         "x": [
          0,
          5.928571428571429,
          11.857142857142858,
          17.785714285714285,
          23.714285714285715,
          29.642857142857146,
          35.57142857142857,
          41.5,
          47.42857142857143,
          53.35714285714286,
          59.28571428571429,
          65.21428571428572,
          71.14285714285714,
          77.07142857142857,
          83
         ],
         "y": [
          1.0862296127212858,
          1.0825383140145293,
          1.078859731075055,
          1.0751938618980998,
          1.0715407040376619,
          1.0679002546069234,
          1.0642725102787538,
          1.0606574672862858,
          1.0570551214235684,
          1.0534654680462952,
          1.0498885020726088,
          1.046324217983979,
          1.0427726098261572,
          1.039233671210203,
          1.0357073953135865
         ]
        }
       ],
       "layout": {
        "template": {
         "data": {
          "bar": [
           {
            "error_x": {
             "color": "#2a3f5f"
            },
            "error_y": {
             "color": "#2a3f5f"
            },
            "marker": {
             "line": {
              "color": "#E5ECF6",
              "width": 0.5
             },
             "pattern": {
              "fillmode": "overlay",
              "size": 10,
              "solidity": 0.2
             }
            },
            "type": "bar"
           }
          ],
          "barpolar": [
           {
            "marker": {
             "line": {
              "color": "#E5ECF6",
              "width": 0.5
             },
             "pattern": {
              "fillmode": "overlay",
              "size": 10,
              "solidity": 0.2
             }
            },
            "type": "barpolar"
           }
          ],
          "carpet": [
           {
            "aaxis": {
             "endlinecolor": "#2a3f5f",
             "gridcolor": "white",
             "linecolor": "white",
             "minorgridcolor": "white",
             "startlinecolor": "#2a3f5f"
            },
            "baxis": {
             "endlinecolor": "#2a3f5f",
             "gridcolor": "white",
             "linecolor": "white",
             "minorgridcolor": "white",
             "startlinecolor": "#2a3f5f"
            },
            "type": "carpet"
           }
          ],
          "choropleth": [
           {
            "colorbar": {
             "outlinewidth": 0,
             "ticks": ""
            },
            "type": "choropleth"
           }
          ],
          "contour": [
           {
            "colorbar": {
             "outlinewidth": 0,
             "ticks": ""
            },
            "colorscale": [
             [
              0,
              "#0d0887"
             ],
             [
              0.1111111111111111,
              "#46039f"
             ],
             [
              0.2222222222222222,
              "#7201a8"
             ],
             [
              0.3333333333333333,
              "#9c179e"
             ],
             [
              0.4444444444444444,
              "#bd3786"
             ],
             [
              0.5555555555555556,
              "#d8576b"
             ],
             [
              0.6666666666666666,
              "#ed7953"
             ],
             [
              0.7777777777777778,
              "#fb9f3a"
             ],
             [
              0.8888888888888888,
              "#fdca26"
             ],
             [
              1,
              "#f0f921"
             ]
            ],
            "type": "contour"
           }
          ],
          "contourcarpet": [
           {
            "colorbar": {
             "outlinewidth": 0,
             "ticks": ""
            },
            "type": "contourcarpet"
           }
          ],
          "heatmap": [
           {
            "colorbar": {
             "outlinewidth": 0,
             "ticks": ""
            },
            "colorscale": [
             [
              0,
              "#0d0887"
             ],
             [
              0.1111111111111111,
              "#46039f"
             ],
             [
              0.2222222222222222,
              "#7201a8"
             ],
             [
              0.3333333333333333,
              "#9c179e"
             ],
             [
              0.4444444444444444,
              "#bd3786"
             ],
             [
              0.5555555555555556,
              "#d8576b"
             ],
             [
              0.6666666666666666,
              "#ed7953"
             ],
             [
              0.7777777777777778,
              "#fb9f3a"
             ],
             [
              0.8888888888888888,
              "#fdca26"
             ],
             [
              1,
              "#f0f921"
             ]
            ],
            "type": "heatmap"
           }
          ],
          "heatmapgl": [
           {
            "colorbar": {
             "outlinewidth": 0,
             "ticks": ""
            },
            "colorscale": [
             [
              0,
              "#0d0887"
             ],
             [
              0.1111111111111111,
              "#46039f"
             ],
             [
              0.2222222222222222,
              "#7201a8"
             ],
             [
              0.3333333333333333,
              "#9c179e"
             ],
             [
              0.4444444444444444,
              "#bd3786"
             ],
             [
              0.5555555555555556,
              "#d8576b"
             ],
             [
              0.6666666666666666,
              "#ed7953"
             ],
             [
              0.7777777777777778,
              "#fb9f3a"
             ],
             [
              0.8888888888888888,
              "#fdca26"
             ],
             [
              1,
              "#f0f921"
             ]
            ],
            "type": "heatmapgl"
           }
          ],
          "histogram": [
           {
            "marker": {
             "pattern": {
              "fillmode": "overlay",
              "size": 10,
              "solidity": 0.2
             }
            },
            "type": "histogram"
           }
          ],
          "histogram2d": [
           {
            "colorbar": {
             "outlinewidth": 0,
             "ticks": ""
            },
            "colorscale": [
             [
              0,
              "#0d0887"
             ],
             [
              0.1111111111111111,
              "#46039f"
             ],
             [
              0.2222222222222222,
              "#7201a8"
             ],
             [
              0.3333333333333333,
              "#9c179e"
             ],
             [
              0.4444444444444444,
              "#bd3786"
             ],
             [
              0.5555555555555556,
              "#d8576b"
             ],
             [
              0.6666666666666666,
              "#ed7953"
             ],
             [
              0.7777777777777778,
              "#fb9f3a"
             ],
             [
              0.8888888888888888,
              "#fdca26"
             ],
             [
              1,
              "#f0f921"
             ]
            ],
            "type": "histogram2d"
           }
          ],
          "histogram2dcontour": [
           {
            "colorbar": {
             "outlinewidth": 0,
             "ticks": ""
            },
            "colorscale": [
             [
              0,
              "#0d0887"
             ],
             [
              0.1111111111111111,
              "#46039f"
             ],
             [
              0.2222222222222222,
              "#7201a8"
             ],
             [
              0.3333333333333333,
              "#9c179e"
             ],
             [
              0.4444444444444444,
              "#bd3786"
             ],
             [
              0.5555555555555556,
              "#d8576b"
             ],
             [
              0.6666666666666666,
              "#ed7953"
             ],
             [
              0.7777777777777778,
              "#fb9f3a"
             ],
             [
              0.8888888888888888,
              "#fdca26"
             ],
             [
              1,
              "#f0f921"
             ]
            ],
            "type": "histogram2dcontour"
           }
          ],
          "mesh3d": [
           {
            "colorbar": {
             "outlinewidth": 0,
             "ticks": ""
            },
            "type": "mesh3d"
           }
          ],
          "parcoords": [
           {
            "line": {
             "colorbar": {
              "outlinewidth": 0,
              "ticks": ""
             }
            },
            "type": "parcoords"
           }
          ],
          "pie": [
           {
            "automargin": true,
            "type": "pie"
           }
          ],
          "scatter": [
           {
            "fillpattern": {
             "fillmode": "overlay",
             "size": 10,
             "solidity": 0.2
            },
            "type": "scatter"
           }
          ],
          "scatter3d": [
           {
            "line": {
             "colorbar": {
              "outlinewidth": 0,
              "ticks": ""
             }
            },
            "marker": {
             "colorbar": {
              "outlinewidth": 0,
              "ticks": ""
             }
            },
            "type": "scatter3d"
           }
          ],
          "scattercarpet": [
           {
            "marker": {
             "colorbar": {
              "outlinewidth": 0,
              "ticks": ""
             }
            },
            "type": "scattercarpet"
           }
          ],
          "scattergeo": [
           {
            "marker": {
             "colorbar": {
              "outlinewidth": 0,
              "ticks": ""
             }
            },
            "type": "scattergeo"
           }
          ],
          "scattergl": [
           {
            "marker": {
             "colorbar": {
              "outlinewidth": 0,
              "ticks": ""
             }
            },
            "type": "scattergl"
           }
          ],
          "scattermapbox": [
           {
            "marker": {
             "colorbar": {
              "outlinewidth": 0,
              "ticks": ""
             }
            },
            "type": "scattermapbox"
           }
          ],
          "scatterpolar": [
           {
            "marker": {
             "colorbar": {
              "outlinewidth": 0,
              "ticks": ""
             }
            },
            "type": "scatterpolar"
           }
          ],
          "scatterpolargl": [
           {
            "marker": {
             "colorbar": {
              "outlinewidth": 0,
              "ticks": ""
             }
            },
            "type": "scatterpolargl"
           }
          ],
          "scatterternary": [
           {
            "marker": {
             "colorbar": {
              "outlinewidth": 0,
              "ticks": ""
             }
            },
            "type": "scatterternary"
           }
          ],
          "surface": [
           {
            "colorbar": {
             "outlinewidth": 0,
             "ticks": ""
            },
            "colorscale": [
             [
              0,
              "#0d0887"
             ],
             [
              0.1111111111111111,
              "#46039f"
             ],
             [
              0.2222222222222222,
              "#7201a8"
             ],
             [
              0.3333333333333333,
              "#9c179e"
             ],
             [
              0.4444444444444444,
              "#bd3786"
             ],
             [
              0.5555555555555556,
              "#d8576b"
             ],
             [
              0.6666666666666666,
              "#ed7953"
             ],
             [
              0.7777777777777778,
              "#fb9f3a"
             ],
             [
              0.8888888888888888,
              "#fdca26"
             ],
             [
              1,
              "#f0f921"
             ]
            ],
            "type": "surface"
           }
          ],
          "table": [
           {
            "cells": {
             "fill": {
              "color": "#EBF0F8"
             },
             "line": {
              "color": "white"
             }
            },
            "header": {
             "fill": {
              "color": "#C8D4E3"
             },
             "line": {
              "color": "white"
             }
            },
            "type": "table"
           }
          ]
         },
         "layout": {
          "annotationdefaults": {
           "arrowcolor": "#2a3f5f",
           "arrowhead": 0,
           "arrowwidth": 1
          },
          "autotypenumbers": "strict",
          "coloraxis": {
           "colorbar": {
            "outlinewidth": 0,
            "ticks": ""
           }
          },
          "colorscale": {
           "diverging": [
            [
             0,
             "#8e0152"
            ],
            [
             0.1,
             "#c51b7d"
            ],
            [
             0.2,
             "#de77ae"
            ],
            [
             0.3,
             "#f1b6da"
            ],
            [
             0.4,
             "#fde0ef"
            ],
            [
             0.5,
             "#f7f7f7"
            ],
            [
             0.6,
             "#e6f5d0"
            ],
            [
             0.7,
             "#b8e186"
            ],
            [
             0.8,
             "#7fbc41"
            ],
            [
             0.9,
             "#4d9221"
            ],
            [
             1,
             "#276419"
            ]
           ],
           "sequential": [
            [
             0,
             "#0d0887"
            ],
            [
             0.1111111111111111,
             "#46039f"
            ],
            [
             0.2222222222222222,
             "#7201a8"
            ],
            [
             0.3333333333333333,
             "#9c179e"
            ],
            [
             0.4444444444444444,
             "#bd3786"
            ],
            [
             0.5555555555555556,
             "#d8576b"
            ],
            [
             0.6666666666666666,
             "#ed7953"
            ],
            [
             0.7777777777777778,
             "#fb9f3a"
            ],
            [
             0.8888888888888888,
             "#fdca26"
            ],
            [
             1,
             "#f0f921"
            ]
           ],
           "sequentialminus": [
            [
             0,
             "#0d0887"
            ],
            [
             0.1111111111111111,
             "#46039f"
            ],
            [
             0.2222222222222222,
             "#7201a8"
            ],
            [
             0.3333333333333333,
             "#9c179e"
            ],
            [
             0.4444444444444444,
             "#bd3786"
            ],
            [
             0.5555555555555556,
             "#d8576b"
            ],
            [
             0.6666666666666666,
             "#ed7953"
            ],
            [
             0.7777777777777778,
             "#fb9f3a"
            ],
            [
             0.8888888888888888,
             "#fdca26"
            ],
            [
             1,
             "#f0f921"
            ]
           ]
          },
          "colorway": [
           "#636efa",
           "#EF553B",
           "#00cc96",
           "#ab63fa",
           "#FFA15A",
           "#19d3f3",
           "#FF6692",
           "#B6E880",
           "#FF97FF",
           "#FECB52"
          ],
          "font": {
           "color": "#2a3f5f"
          },
          "geo": {
           "bgcolor": "white",
           "lakecolor": "white",
           "landcolor": "#E5ECF6",
           "showlakes": true,
           "showland": true,
           "subunitcolor": "white"
          },
          "hoverlabel": {
           "align": "left"
          },
          "hovermode": "closest",
          "mapbox": {
           "style": "light"
          },
          "paper_bgcolor": "white",
          "plot_bgcolor": "#E5ECF6",
          "polar": {
           "angularaxis": {
            "gridcolor": "white",
            "linecolor": "white",
            "ticks": ""
           },
           "bgcolor": "#E5ECF6",
           "radialaxis": {
            "gridcolor": "white",
            "linecolor": "white",
            "ticks": ""
           }
          },
          "scene": {
           "xaxis": {
            "backgroundcolor": "#E5ECF6",
            "gridcolor": "white",
            "gridwidth": 2,
            "linecolor": "white",
            "showbackground": true,
            "ticks": "",
            "zerolinecolor": "white"
           },
           "yaxis": {
            "backgroundcolor": "#E5ECF6",
            "gridcolor": "white",
            "gridwidth": 2,
            "linecolor": "white",
            "showbackground": true,
            "ticks": "",
            "zerolinecolor": "white"
           },
           "zaxis": {
            "backgroundcolor": "#E5ECF6",
            "gridcolor": "white",
            "gridwidth": 2,
            "linecolor": "white",
            "showbackground": true,
            "ticks": "",
            "zerolinecolor": "white"
           }
          },
          "shapedefaults": {
           "line": {
            "color": "#2a3f5f"
           }
          },
          "ternary": {
           "aaxis": {
            "gridcolor": "white",
            "linecolor": "white",
            "ticks": ""
           },
           "baxis": {
            "gridcolor": "white",
            "linecolor": "white",
            "ticks": ""
           },
           "bgcolor": "#E5ECF6",
           "caxis": {
            "gridcolor": "white",
            "linecolor": "white",
            "ticks": ""
           }
          },
          "title": {
           "x": 0.05
          },
          "xaxis": {
           "automargin": true,
           "gridcolor": "white",
           "linecolor": "white",
           "ticks": "",
           "title": {
            "standoff": 15
           },
           "zerolinecolor": "white",
           "zerolinewidth": 2
          },
          "yaxis": {
           "automargin": true,
           "gridcolor": "white",
           "linecolor": "white",
           "ticks": "",
           "title": {
            "standoff": 15
           },
           "zerolinecolor": "white",
           "zerolinewidth": 2
          }
         }
        },
        "title": {
         "text": "m/s with different loads, Constant 0.0 slope, model Sprott"
        },
        "xaxis": {
         "title": {
          "text": "Load [kg]"
         }
        },
        "yaxis": {
         "title": {
          "text": "Speed [m/s]"
         }
        }
       }
      }
     },
     "metadata": {},
     "output_type": "display_data"
    },
    {
     "data": {
      "application/vnd.plotly.v1+json": {
       "config": {
        "plotlyServerURL": "https://plot.ly"
       },
       "data": [
        {
         "alignmentgroup": "True",
         "customdata": [
          [
           "Baby Carriage",
           0.5393856237000672,
           1.0787712474001343,
           1.2,
           7.767152981280968,
           15.534305962561936,
           0,
           8,
           0.3862419096456674
          ]
         ],
         "hovertemplate": "Name=%{customdata[0]}<br>Load=%{x}<br>Water ration * Km=%{y}<br>Average Trip Velocity=%{customdata[1]}<br>Loaded Velocity=%{customdata[2]}<br>Unloaded Velocity=%{customdata[3]}<br>Distance to Water Achievable=%{customdata[4]}<br>Total Round trip Distance Achievable=%{customdata[5]}<br>Slope=%{customdata[6]}<br>Hours Collecting Water Max=%{customdata[7]}<br>Hours Spent Collecting Single Person Water=%{customdata[8]}<extra></extra>",
         "legendgroup": "Baby Carriage",
         "marker": {
          "color": "#636efa",
          "pattern": {
           "shape": ""
          }
         },
         "name": "Baby Carriage",
         "offsetgroup": "Baby Carriage",
         "orientation": "v",
         "showlegend": true,
         "textposition": "auto",
         "type": "bar",
         "x": [
          20
         ],
         "xaxis": "x",
         "y": [
          20.712407950082582
         ],
         "yaxis": "y"
        },
        {
         "alignmentgroup": "True",
         "customdata": [
          [
           "Backpack",
           0.4492679001906854,
           0.8985358003813708,
           1.2,
           6.46945776274587,
           12.93891552549174,
           0,
           8,
           0.30914491961241714
          ]
         ],
         "hovertemplate": "Name=%{customdata[0]}<br>Load=%{x}<br>Water ration * Km=%{y}<br>Average Trip Velocity=%{customdata[1]}<br>Loaded Velocity=%{customdata[2]}<br>Unloaded Velocity=%{customdata[3]}<br>Distance to Water Achievable=%{customdata[4]}<br>Total Round trip Distance Achievable=%{customdata[5]}<br>Slope=%{customdata[6]}<br>Hours Collecting Water Max=%{customdata[7]}<br>Hours Spent Collecting Single Person Water=%{customdata[8]}<extra></extra>",
         "legendgroup": "Backpack",
         "marker": {
          "color": "#EF553B",
          "pattern": {
           "shape": ""
          }
         },
         "name": "Backpack",
         "offsetgroup": "Backpack",
         "orientation": "v",
         "showlegend": true,
         "textposition": "auto",
         "type": "bar",
         "x": [
          30
         ],
         "xaxis": "x",
         "y": [
          25.87783105098348
         ],
         "yaxis": "y"
        },
        {
         "alignmentgroup": "True",
         "customdata": [
          [
           "Bicycle",
           0.9018052163114686,
           1.8036104326229372,
           4.3,
           12.98599511488515,
           25.9719902297703,
           0,
           8,
           0.06794650185607083
          ]
         ],
         "hovertemplate": "Name=%{customdata[0]}<br>Load=%{x}<br>Water ration * Km=%{y}<br>Average Trip Velocity=%{customdata[1]}<br>Loaded Velocity=%{customdata[2]}<br>Unloaded Velocity=%{customdata[3]}<br>Distance to Water Achievable=%{customdata[4]}<br>Total Round trip Distance Achievable=%{customdata[5]}<br>Slope=%{customdata[6]}<br>Hours Collecting Water Max=%{customdata[7]}<br>Hours Spent Collecting Single Person Water=%{customdata[8]}<extra></extra>",
         "legendgroup": "Bicycle",
         "marker": {
          "color": "#00cc96",
          "pattern": {
           "shape": ""
          }
         },
         "name": "Bicycle",
         "offsetgroup": "Bicycle",
         "orientation": "v",
         "showlegend": true,
         "textposition": "auto",
         "type": "bar",
         "x": [
          68
         ],
         "xaxis": "x",
         "y": [
          117.73968904162535
         ],
         "yaxis": "y"
        },
        {
         "alignmentgroup": "True",
         "customdata": [
          [
           "Buckets",
           0.47571766860138304,
           0.9514353372027661,
           1.2,
           6.8503344278599165,
           13.700668855719833,
           0,
           8,
           0.43793482370717146
          ]
         ],
         "hovertemplate": "Name=%{customdata[0]}<br>Load=%{x}<br>Water ration * Km=%{y}<br>Average Trip Velocity=%{customdata[1]}<br>Loaded Velocity=%{customdata[2]}<br>Unloaded Velocity=%{customdata[3]}<br>Distance to Water Achievable=%{customdata[4]}<br>Total Round trip Distance Achievable=%{customdata[5]}<br>Slope=%{customdata[6]}<br>Hours Collecting Water Max=%{customdata[7]}<br>Hours Spent Collecting Single Person Water=%{customdata[8]}<extra></extra>",
         "legendgroup": "Buckets",
         "marker": {
          "color": "#ab63fa",
          "pattern": {
           "shape": ""
          }
         },
         "name": "Buckets",
         "offsetgroup": "Buckets",
         "orientation": "v",
         "showlegend": true,
         "textposition": "auto",
         "type": "bar",
         "x": [
          20
         ],
         "xaxis": "x",
         "y": [
          18.267558474293114
         ],
         "yaxis": "y"
        },
        {
         "alignmentgroup": "True",
         "customdata": [
          [
           "Cycle Rickshaw",
           0.7649916364553885,
           1.529983272910777,
           4.3,
           11.015879564957595,
           22.03175912991519,
           0,
           8,
           0.04392486000674591
          ]
         ],
         "hovertemplate": "Name=%{customdata[0]}<br>Load=%{x}<br>Water ration * Km=%{y}<br>Average Trip Velocity=%{customdata[1]}<br>Loaded Velocity=%{customdata[2]}<br>Unloaded Velocity=%{customdata[3]}<br>Distance to Water Achievable=%{customdata[4]}<br>Total Round trip Distance Achievable=%{customdata[5]}<br>Slope=%{customdata[6]}<br>Hours Collecting Water Max=%{customdata[7]}<br>Hours Spent Collecting Single Person Water=%{customdata[8]}<extra></extra>",
         "legendgroup": "Cycle Rickshaw",
         "marker": {
          "color": "#FFA15A",
          "pattern": {
           "shape": ""
          }
         },
         "name": "Cycle Rickshaw",
         "offsetgroup": "Cycle Rickshaw",
         "orientation": "v",
         "showlegend": true,
         "textposition": "auto",
         "type": "bar",
         "x": [
          124
         ],
         "xaxis": "x",
         "y": [
          182.1292088072989
         ],
         "yaxis": "y"
        },
        {
         "alignmentgroup": "True",
         "customdata": [
          [
           "Hand Cart",
           0.5059781770555324,
           1.0119563541110648,
           1.2,
           7.286085749599666,
           14.572171499199332,
           0,
           8,
           0.08234874260613348
          ]
         ],
         "hovertemplate": "Name=%{customdata[0]}<br>Load=%{x}<br>Water ration * Km=%{y}<br>Average Trip Velocity=%{customdata[1]}<br>Loaded Velocity=%{customdata[2]}<br>Unloaded Velocity=%{customdata[3]}<br>Distance to Water Achievable=%{customdata[4]}<br>Total Round trip Distance Achievable=%{customdata[5]}<br>Slope=%{customdata[6]}<br>Hours Collecting Water Max=%{customdata[7]}<br>Hours Spent Collecting Single Person Water=%{customdata[8]}<extra></extra>",
         "legendgroup": "Hand Cart",
         "marker": {
          "color": "#19d3f3",
          "pattern": {
           "shape": ""
          }
         },
         "name": "Hand Cart",
         "offsetgroup": "Hand Cart",
         "orientation": "v",
         "showlegend": true,
         "textposition": "auto",
         "type": "bar",
         "x": [
          100
         ],
         "xaxis": "x",
         "y": [
          97.14780999466221
         ],
         "yaxis": "y"
        },
        {
         "alignmentgroup": "True",
         "customdata": [
          [
           "Hand Truck",
           0.5103421715608597,
           1.0206843431217194,
           1.2,
           7.34892727047638,
           14.69785454095276,
           0,
           8,
           0.07161804302896126
          ]
         ],
         "hovertemplate": "Name=%{customdata[0]}<br>Load=%{x}<br>Water ration * Km=%{y}<br>Average Trip Velocity=%{customdata[1]}<br>Loaded Velocity=%{customdata[2]}<br>Unloaded Velocity=%{customdata[3]}<br>Distance to Water Achievable=%{customdata[4]}<br>Total Round trip Distance Achievable=%{customdata[5]}<br>Slope=%{customdata[6]}<br>Hours Collecting Water Max=%{customdata[7]}<br>Hours Spent Collecting Single Person Water=%{customdata[8]}<extra></extra>",
         "legendgroup": "Hand Truck",
         "marker": {
          "color": "#FF6692",
          "pattern": {
           "shape": ""
          }
         },
         "name": "Hand Truck",
         "offsetgroup": "Hand Truck",
         "orientation": "v",
         "showlegend": true,
         "textposition": "auto",
         "type": "bar",
         "x": [
          114
         ],
         "xaxis": "x",
         "y": [
          111.70369451124097
         ],
         "yaxis": "y"
        },
        {
         "alignmentgroup": "True",
         "customdata": [
          [
           "Luggage",
           0.5412469590318153,
           1.0824939180636306,
           1.2,
           7.79395621005814,
           15.58791242011628,
           0,
           8,
           0.384913632967104
          ]
         ],
         "hovertemplate": "Name=%{customdata[0]}<br>Load=%{x}<br>Water ration * Km=%{y}<br>Average Trip Velocity=%{customdata[1]}<br>Loaded Velocity=%{customdata[2]}<br>Unloaded Velocity=%{customdata[3]}<br>Distance to Water Achievable=%{customdata[4]}<br>Total Round trip Distance Achievable=%{customdata[5]}<br>Slope=%{customdata[6]}<br>Hours Collecting Water Max=%{customdata[7]}<br>Hours Spent Collecting Single Person Water=%{customdata[8]}<extra></extra>",
         "legendgroup": "Luggage",
         "marker": {
          "color": "#B6E880",
          "pattern": {
           "shape": ""
          }
         },
         "name": "Luggage",
         "offsetgroup": "Luggage",
         "orientation": "v",
         "showlegend": true,
         "textposition": "auto",
         "type": "bar",
         "x": [
          20
         ],
         "xaxis": "x",
         "y": [
          20.783883226821708
         ],
         "yaxis": "y"
        },
        {
         "alignmentgroup": "True",
         "customdata": [
          [
           "Roller skates",
           0.712127297747693,
           1.424254595495386,
           3.6,
           10.254633087566779,
           20.509266175133558,
           0,
           8,
           0.14270765434997934
          ]
         ],
         "hovertemplate": "Name=%{customdata[0]}<br>Load=%{x}<br>Water ration * Km=%{y}<br>Average Trip Velocity=%{customdata[1]}<br>Loaded Velocity=%{customdata[2]}<br>Unloaded Velocity=%{customdata[3]}<br>Distance to Water Achievable=%{customdata[4]}<br>Total Round trip Distance Achievable=%{customdata[5]}<br>Slope=%{customdata[6]}<br>Hours Collecting Water Max=%{customdata[7]}<br>Hours Spent Collecting Single Person Water=%{customdata[8]}<extra></extra>",
         "legendgroup": "Roller skates",
         "marker": {
          "color": "#FF97FF",
          "pattern": {
           "shape": ""
          }
         },
         "name": "Roller skates",
         "offsetgroup": "Roller skates",
         "orientation": "v",
         "showlegend": true,
         "textposition": "auto",
         "type": "bar",
         "x": [
          41
         ],
         "xaxis": "x",
         "y": [
          56.0586608786984
         ],
         "yaxis": "y"
        },
        {
         "alignmentgroup": "True",
         "customdata": [
          [
           "Rolling Container",
           0.5362978663136595,
           1.072595732627319,
           1.2,
           7.722689274916696,
           15.445378549833393,
           0,
           8,
           0.0491728751377394
          ]
         ],
         "hovertemplate": "Name=%{customdata[0]}<br>Load=%{x}<br>Water ration * Km=%{y}<br>Average Trip Velocity=%{customdata[1]}<br>Loaded Velocity=%{customdata[2]}<br>Unloaded Velocity=%{customdata[3]}<br>Distance to Water Achievable=%{customdata[4]}<br>Total Round trip Distance Achievable=%{customdata[5]}<br>Slope=%{customdata[6]}<br>Hours Collecting Water Max=%{customdata[7]}<br>Hours Spent Collecting Single Person Water=%{customdata[8]}<extra></extra>",
         "legendgroup": "Rolling Container",
         "marker": {
          "color": "#FECB52",
          "pattern": {
           "shape": ""
          }
         },
         "name": "Rolling Container",
         "offsetgroup": "Rolling Container",
         "orientation": "v",
         "showlegend": true,
         "textposition": "auto",
         "type": "bar",
         "x": [
          158
         ],
         "xaxis": "x",
         "y": [
          162.69132072491175
         ],
         "yaxis": "y"
        },
        {
         "alignmentgroup": "True",
         "customdata": [
          [
           "Scooter",
           0.7143203843171677,
           1.4286407686343354,
           4,
           10.286213534167215,
           20.57242706833443,
           0,
           8,
           0.15350132127593305
          ]
         ],
         "hovertemplate": "Name=%{customdata[0]}<br>Load=%{x}<br>Water ration * Km=%{y}<br>Average Trip Velocity=%{customdata[1]}<br>Loaded Velocity=%{customdata[2]}<br>Unloaded Velocity=%{customdata[3]}<br>Distance to Water Achievable=%{customdata[4]}<br>Total Round trip Distance Achievable=%{customdata[5]}<br>Slope=%{customdata[6]}<br>Hours Collecting Water Max=%{customdata[7]}<br>Hours Spent Collecting Single Person Water=%{customdata[8]}<extra></extra>",
         "legendgroup": "Scooter",
         "marker": {
          "color": "#636efa",
          "pattern": {
           "shape": ""
          }
         },
         "name": "Scooter",
         "offsetgroup": "Scooter",
         "orientation": "v",
         "showlegend": true,
         "textposition": "auto",
         "type": "bar",
         "x": [
          38
         ],
         "xaxis": "x",
         "y": [
          52.11681523978056
         ],
         "yaxis": "y"
        },
        {
         "alignmentgroup": "True",
         "customdata": [
          [
           "Shopping Trolley",
           0.4847609767317988,
           0.9695219534635976,
           1.2,
           6.980558064937902,
           13.961116129875805,
           0,
           8,
           0.044078468344499744
          ]
         ],
         "hovertemplate": "Name=%{customdata[0]}<br>Load=%{x}<br>Water ration * Km=%{y}<br>Average Trip Velocity=%{customdata[1]}<br>Loaded Velocity=%{customdata[2]}<br>Unloaded Velocity=%{customdata[3]}<br>Distance to Water Achievable=%{customdata[4]}<br>Total Round trip Distance Achievable=%{customdata[5]}<br>Slope=%{customdata[6]}<br>Hours Collecting Water Max=%{customdata[7]}<br>Hours Spent Collecting Single Person Water=%{customdata[8]}<extra></extra>",
         "legendgroup": "Shopping Trolley",
         "marker": {
          "color": "#EF553B",
          "pattern": {
           "shape": ""
          }
         },
         "name": "Shopping Trolley",
         "offsetgroup": "Shopping Trolley",
         "orientation": "v",
         "showlegend": true,
         "textposition": "auto",
         "type": "bar",
         "x": [
          195
         ],
         "xaxis": "x",
         "y": [
          181.49450968838545
         ],
         "yaxis": "y"
        },
        {
         "alignmentgroup": "True",
         "customdata": [
          [
           "Skateboard",
           0.7018381959820355,
           1.403676391964071,
           4,
           10.10647002214131,
           20.21294004428262,
           0,
           8,
           0.09732444218625876
          ]
         ],
         "hovertemplate": "Name=%{customdata[0]}<br>Load=%{x}<br>Water ration * Km=%{y}<br>Average Trip Velocity=%{customdata[1]}<br>Loaded Velocity=%{customdata[2]}<br>Unloaded Velocity=%{customdata[3]}<br>Distance to Water Achievable=%{customdata[4]}<br>Total Round trip Distance Achievable=%{customdata[5]}<br>Slope=%{customdata[6]}<br>Hours Collecting Water Max=%{customdata[7]}<br>Hours Spent Collecting Single Person Water=%{customdata[8]}<extra></extra>",
         "legendgroup": "Skateboard",
         "marker": {
          "color": "#00cc96",
          "pattern": {
           "shape": ""
          }
         },
         "name": "Skateboard",
         "offsetgroup": "Skateboard",
         "orientation": "v",
         "showlegend": true,
         "textposition": "auto",
         "type": "bar",
         "x": [
          61
         ],
         "xaxis": "x",
         "y": [
          82.19928951341599
         ],
         "yaxis": "y"
        },
        {
         "alignmentgroup": "True",
         "customdata": [
          [
           "Stretcher",
           0.29065655331061385,
           0.5813131066212277,
           1.2,
           4.18545436767284,
           8.37090873534568,
           0,
           8,
           0.1194613430412349
          ]
         ],
         "hovertemplate": "Name=%{customdata[0]}<br>Load=%{x}<br>Water ration * Km=%{y}<br>Average Trip Velocity=%{customdata[1]}<br>Loaded Velocity=%{customdata[2]}<br>Unloaded Velocity=%{customdata[3]}<br>Distance to Water Achievable=%{customdata[4]}<br>Total Round trip Distance Achievable=%{customdata[5]}<br>Slope=%{customdata[6]}<br>Hours Collecting Water Max=%{customdata[7]}<br>Hours Spent Collecting Single Person Water=%{customdata[8]}<extra></extra>",
         "legendgroup": "Stretcher",
         "marker": {
          "color": "#ab63fa",
          "pattern": {
           "shape": ""
          }
         },
         "name": "Stretcher",
         "offsetgroup": "Stretcher",
         "orientation": "v",
         "showlegend": true,
         "textposition": "auto",
         "type": "bar",
         "x": [
          120
         ],
         "xaxis": "x",
         "y": [
          66.96726988276544
         ],
         "yaxis": "y"
        },
        {
         "alignmentgroup": "True",
         "customdata": [
          [
           "Wheelbarrow",
           0.49637733628698444,
           0.9927546725739689,
           1.2,
           7.147833642532576,
           14.295667285065152,
           0,
           8,
           0.055961011406285954
          ]
         ],
         "hovertemplate": "Name=%{customdata[0]}<br>Load=%{x}<br>Water ration * Km=%{y}<br>Average Trip Velocity=%{customdata[1]}<br>Loaded Velocity=%{customdata[2]}<br>Unloaded Velocity=%{customdata[3]}<br>Distance to Water Achievable=%{customdata[4]}<br>Total Round trip Distance Achievable=%{customdata[5]}<br>Slope=%{customdata[6]}<br>Hours Collecting Water Max=%{customdata[7]}<br>Hours Spent Collecting Single Person Water=%{customdata[8]}<extra></extra>",
         "legendgroup": "Wheelbarrow",
         "marker": {
          "color": "#FFA15A",
          "pattern": {
           "shape": ""
          }
         },
         "name": "Wheelbarrow",
         "offsetgroup": "Wheelbarrow",
         "orientation": "v",
         "showlegend": true,
         "textposition": "auto",
         "type": "bar",
         "x": [
          150
         ],
         "xaxis": "x",
         "y": [
          142.95667285065153
         ],
         "yaxis": "y"
        },
        {
         "alignmentgroup": "True",
         "customdata": [
          [
           "Wheelchair",
           0.5178536976567932,
           1.0357073953135865,
           1.2,
           7.457093246257822,
           14.914186492515643,
           0,
           8,
           0.0969401269895381
          ]
         ],
         "hovertemplate": "Name=%{customdata[0]}<br>Load=%{x}<br>Water ration * Km=%{y}<br>Average Trip Velocity=%{customdata[1]}<br>Loaded Velocity=%{customdata[2]}<br>Unloaded Velocity=%{customdata[3]}<br>Distance to Water Achievable=%{customdata[4]}<br>Total Round trip Distance Achievable=%{customdata[5]}<br>Slope=%{customdata[6]}<br>Hours Collecting Water Max=%{customdata[7]}<br>Hours Spent Collecting Single Person Water=%{customdata[8]}<extra></extra>",
         "legendgroup": "Wheelchair",
         "marker": {
          "color": "#19d3f3",
          "pattern": {
           "shape": ""
          }
         },
         "name": "Wheelchair",
         "offsetgroup": "Wheelchair",
         "orientation": "v",
         "showlegend": true,
         "textposition": "auto",
         "type": "bar",
         "x": [
          83
         ],
         "xaxis": "x",
         "y": [
          82.52516525858657
         ],
         "yaxis": "y"
        }
       ],
       "layout": {
        "barmode": "relative",
        "legend": {
         "title": {
          "text": "Name"
         },
         "tracegroupgap": 0
        },
        "template": {
         "data": {
          "bar": [
           {
            "error_x": {
             "color": "#2a3f5f"
            },
            "error_y": {
             "color": "#2a3f5f"
            },
            "marker": {
             "line": {
              "color": "#E5ECF6",
              "width": 0.5
             },
             "pattern": {
              "fillmode": "overlay",
              "size": 10,
              "solidity": 0.2
             }
            },
            "type": "bar"
           }
          ],
          "barpolar": [
           {
            "marker": {
             "line": {
              "color": "#E5ECF6",
              "width": 0.5
             },
             "pattern": {
              "fillmode": "overlay",
              "size": 10,
              "solidity": 0.2
             }
            },
            "type": "barpolar"
           }
          ],
          "carpet": [
           {
            "aaxis": {
             "endlinecolor": "#2a3f5f",
             "gridcolor": "white",
             "linecolor": "white",
             "minorgridcolor": "white",
             "startlinecolor": "#2a3f5f"
            },
            "baxis": {
             "endlinecolor": "#2a3f5f",
             "gridcolor": "white",
             "linecolor": "white",
             "minorgridcolor": "white",
             "startlinecolor": "#2a3f5f"
            },
            "type": "carpet"
           }
          ],
          "choropleth": [
           {
            "colorbar": {
             "outlinewidth": 0,
             "ticks": ""
            },
            "type": "choropleth"
           }
          ],
          "contour": [
           {
            "colorbar": {
             "outlinewidth": 0,
             "ticks": ""
            },
            "colorscale": [
             [
              0,
              "#0d0887"
             ],
             [
              0.1111111111111111,
              "#46039f"
             ],
             [
              0.2222222222222222,
              "#7201a8"
             ],
             [
              0.3333333333333333,
              "#9c179e"
             ],
             [
              0.4444444444444444,
              "#bd3786"
             ],
             [
              0.5555555555555556,
              "#d8576b"
             ],
             [
              0.6666666666666666,
              "#ed7953"
             ],
             [
              0.7777777777777778,
              "#fb9f3a"
             ],
             [
              0.8888888888888888,
              "#fdca26"
             ],
             [
              1,
              "#f0f921"
             ]
            ],
            "type": "contour"
           }
          ],
          "contourcarpet": [
           {
            "colorbar": {
             "outlinewidth": 0,
             "ticks": ""
            },
            "type": "contourcarpet"
           }
          ],
          "heatmap": [
           {
            "colorbar": {
             "outlinewidth": 0,
             "ticks": ""
            },
            "colorscale": [
             [
              0,
              "#0d0887"
             ],
             [
              0.1111111111111111,
              "#46039f"
             ],
             [
              0.2222222222222222,
              "#7201a8"
             ],
             [
              0.3333333333333333,
              "#9c179e"
             ],
             [
              0.4444444444444444,
              "#bd3786"
             ],
             [
              0.5555555555555556,
              "#d8576b"
             ],
             [
              0.6666666666666666,
              "#ed7953"
             ],
             [
              0.7777777777777778,
              "#fb9f3a"
             ],
             [
              0.8888888888888888,
              "#fdca26"
             ],
             [
              1,
              "#f0f921"
             ]
            ],
            "type": "heatmap"
           }
          ],
          "heatmapgl": [
           {
            "colorbar": {
             "outlinewidth": 0,
             "ticks": ""
            },
            "colorscale": [
             [
              0,
              "#0d0887"
             ],
             [
              0.1111111111111111,
              "#46039f"
             ],
             [
              0.2222222222222222,
              "#7201a8"
             ],
             [
              0.3333333333333333,
              "#9c179e"
             ],
             [
              0.4444444444444444,
              "#bd3786"
             ],
             [
              0.5555555555555556,
              "#d8576b"
             ],
             [
              0.6666666666666666,
              "#ed7953"
             ],
             [
              0.7777777777777778,
              "#fb9f3a"
             ],
             [
              0.8888888888888888,
              "#fdca26"
             ],
             [
              1,
              "#f0f921"
             ]
            ],
            "type": "heatmapgl"
           }
          ],
          "histogram": [
           {
            "marker": {
             "pattern": {
              "fillmode": "overlay",
              "size": 10,
              "solidity": 0.2
             }
            },
            "type": "histogram"
           }
          ],
          "histogram2d": [
           {
            "colorbar": {
             "outlinewidth": 0,
             "ticks": ""
            },
            "colorscale": [
             [
              0,
              "#0d0887"
             ],
             [
              0.1111111111111111,
              "#46039f"
             ],
             [
              0.2222222222222222,
              "#7201a8"
             ],
             [
              0.3333333333333333,
              "#9c179e"
             ],
             [
              0.4444444444444444,
              "#bd3786"
             ],
             [
              0.5555555555555556,
              "#d8576b"
             ],
             [
              0.6666666666666666,
              "#ed7953"
             ],
             [
              0.7777777777777778,
              "#fb9f3a"
             ],
             [
              0.8888888888888888,
              "#fdca26"
             ],
             [
              1,
              "#f0f921"
             ]
            ],
            "type": "histogram2d"
           }
          ],
          "histogram2dcontour": [
           {
            "colorbar": {
             "outlinewidth": 0,
             "ticks": ""
            },
            "colorscale": [
             [
              0,
              "#0d0887"
             ],
             [
              0.1111111111111111,
              "#46039f"
             ],
             [
              0.2222222222222222,
              "#7201a8"
             ],
             [
              0.3333333333333333,
              "#9c179e"
             ],
             [
              0.4444444444444444,
              "#bd3786"
             ],
             [
              0.5555555555555556,
              "#d8576b"
             ],
             [
              0.6666666666666666,
              "#ed7953"
             ],
             [
              0.7777777777777778,
              "#fb9f3a"
             ],
             [
              0.8888888888888888,
              "#fdca26"
             ],
             [
              1,
              "#f0f921"
             ]
            ],
            "type": "histogram2dcontour"
           }
          ],
          "mesh3d": [
           {
            "colorbar": {
             "outlinewidth": 0,
             "ticks": ""
            },
            "type": "mesh3d"
           }
          ],
          "parcoords": [
           {
            "line": {
             "colorbar": {
              "outlinewidth": 0,
              "ticks": ""
             }
            },
            "type": "parcoords"
           }
          ],
          "pie": [
           {
            "automargin": true,
            "type": "pie"
           }
          ],
          "scatter": [
           {
            "fillpattern": {
             "fillmode": "overlay",
             "size": 10,
             "solidity": 0.2
            },
            "type": "scatter"
           }
          ],
          "scatter3d": [
           {
            "line": {
             "colorbar": {
              "outlinewidth": 0,
              "ticks": ""
             }
            },
            "marker": {
             "colorbar": {
              "outlinewidth": 0,
              "ticks": ""
             }
            },
            "type": "scatter3d"
           }
          ],
          "scattercarpet": [
           {
            "marker": {
             "colorbar": {
              "outlinewidth": 0,
              "ticks": ""
             }
            },
            "type": "scattercarpet"
           }
          ],
          "scattergeo": [
           {
            "marker": {
             "colorbar": {
              "outlinewidth": 0,
              "ticks": ""
             }
            },
            "type": "scattergeo"
           }
          ],
          "scattergl": [
           {
            "marker": {
             "colorbar": {
              "outlinewidth": 0,
              "ticks": ""
             }
            },
            "type": "scattergl"
           }
          ],
          "scattermapbox": [
           {
            "marker": {
             "colorbar": {
              "outlinewidth": 0,
              "ticks": ""
             }
            },
            "type": "scattermapbox"
           }
          ],
          "scatterpolar": [
           {
            "marker": {
             "colorbar": {
              "outlinewidth": 0,
              "ticks": ""
             }
            },
            "type": "scatterpolar"
           }
          ],
          "scatterpolargl": [
           {
            "marker": {
             "colorbar": {
              "outlinewidth": 0,
              "ticks": ""
             }
            },
            "type": "scatterpolargl"
           }
          ],
          "scatterternary": [
           {
            "marker": {
             "colorbar": {
              "outlinewidth": 0,
              "ticks": ""
             }
            },
            "type": "scatterternary"
           }
          ],
          "surface": [
           {
            "colorbar": {
             "outlinewidth": 0,
             "ticks": ""
            },
            "colorscale": [
             [
              0,
              "#0d0887"
             ],
             [
              0.1111111111111111,
              "#46039f"
             ],
             [
              0.2222222222222222,
              "#7201a8"
             ],
             [
              0.3333333333333333,
              "#9c179e"
             ],
             [
              0.4444444444444444,
              "#bd3786"
             ],
             [
              0.5555555555555556,
              "#d8576b"
             ],
             [
              0.6666666666666666,
              "#ed7953"
             ],
             [
              0.7777777777777778,
              "#fb9f3a"
             ],
             [
              0.8888888888888888,
              "#fdca26"
             ],
             [
              1,
              "#f0f921"
             ]
            ],
            "type": "surface"
           }
          ],
          "table": [
           {
            "cells": {
             "fill": {
              "color": "#EBF0F8"
             },
             "line": {
              "color": "white"
             }
            },
            "header": {
             "fill": {
              "color": "#C8D4E3"
             },
             "line": {
              "color": "white"
             }
            },
            "type": "table"
           }
          ]
         },
         "layout": {
          "annotationdefaults": {
           "arrowcolor": "#2a3f5f",
           "arrowhead": 0,
           "arrowwidth": 1
          },
          "autotypenumbers": "strict",
          "coloraxis": {
           "colorbar": {
            "outlinewidth": 0,
            "ticks": ""
           }
          },
          "colorscale": {
           "diverging": [
            [
             0,
             "#8e0152"
            ],
            [
             0.1,
             "#c51b7d"
            ],
            [
             0.2,
             "#de77ae"
            ],
            [
             0.3,
             "#f1b6da"
            ],
            [
             0.4,
             "#fde0ef"
            ],
            [
             0.5,
             "#f7f7f7"
            ],
            [
             0.6,
             "#e6f5d0"
            ],
            [
             0.7,
             "#b8e186"
            ],
            [
             0.8,
             "#7fbc41"
            ],
            [
             0.9,
             "#4d9221"
            ],
            [
             1,
             "#276419"
            ]
           ],
           "sequential": [
            [
             0,
             "#0d0887"
            ],
            [
             0.1111111111111111,
             "#46039f"
            ],
            [
             0.2222222222222222,
             "#7201a8"
            ],
            [
             0.3333333333333333,
             "#9c179e"
            ],
            [
             0.4444444444444444,
             "#bd3786"
            ],
            [
             0.5555555555555556,
             "#d8576b"
            ],
            [
             0.6666666666666666,
             "#ed7953"
            ],
            [
             0.7777777777777778,
             "#fb9f3a"
            ],
            [
             0.8888888888888888,
             "#fdca26"
            ],
            [
             1,
             "#f0f921"
            ]
           ],
           "sequentialminus": [
            [
             0,
             "#0d0887"
            ],
            [
             0.1111111111111111,
             "#46039f"
            ],
            [
             0.2222222222222222,
             "#7201a8"
            ],
            [
             0.3333333333333333,
             "#9c179e"
            ],
            [
             0.4444444444444444,
             "#bd3786"
            ],
            [
             0.5555555555555556,
             "#d8576b"
            ],
            [
             0.6666666666666666,
             "#ed7953"
            ],
            [
             0.7777777777777778,
             "#fb9f3a"
            ],
            [
             0.8888888888888888,
             "#fdca26"
            ],
            [
             1,
             "#f0f921"
            ]
           ]
          },
          "colorway": [
           "#636efa",
           "#EF553B",
           "#00cc96",
           "#ab63fa",
           "#FFA15A",
           "#19d3f3",
           "#FF6692",
           "#B6E880",
           "#FF97FF",
           "#FECB52"
          ],
          "font": {
           "color": "#2a3f5f"
          },
          "geo": {
           "bgcolor": "white",
           "lakecolor": "white",
           "landcolor": "#E5ECF6",
           "showlakes": true,
           "showland": true,
           "subunitcolor": "white"
          },
          "hoverlabel": {
           "align": "left"
          },
          "hovermode": "closest",
          "mapbox": {
           "style": "light"
          },
          "paper_bgcolor": "white",
          "plot_bgcolor": "#E5ECF6",
          "polar": {
           "angularaxis": {
            "gridcolor": "white",
            "linecolor": "white",
            "ticks": ""
           },
           "bgcolor": "#E5ECF6",
           "radialaxis": {
            "gridcolor": "white",
            "linecolor": "white",
            "ticks": ""
           }
          },
          "scene": {
           "xaxis": {
            "backgroundcolor": "#E5ECF6",
            "gridcolor": "white",
            "gridwidth": 2,
            "linecolor": "white",
            "showbackground": true,
            "ticks": "",
            "zerolinecolor": "white"
           },
           "yaxis": {
            "backgroundcolor": "#E5ECF6",
            "gridcolor": "white",
            "gridwidth": 2,
            "linecolor": "white",
            "showbackground": true,
            "ticks": "",
            "zerolinecolor": "white"
           },
           "zaxis": {
            "backgroundcolor": "#E5ECF6",
            "gridcolor": "white",
            "gridwidth": 2,
            "linecolor": "white",
            "showbackground": true,
            "ticks": "",
            "zerolinecolor": "white"
           }
          },
          "shapedefaults": {
           "line": {
            "color": "#2a3f5f"
           }
          },
          "ternary": {
           "aaxis": {
            "gridcolor": "white",
            "linecolor": "white",
            "ticks": ""
           },
           "baxis": {
            "gridcolor": "white",
            "linecolor": "white",
            "ticks": ""
           },
           "bgcolor": "#E5ECF6",
           "caxis": {
            "gridcolor": "white",
            "linecolor": "white",
            "ticks": ""
           }
          },
          "title": {
           "x": 0.05
          },
          "xaxis": {
           "automargin": true,
           "gridcolor": "white",
           "linecolor": "white",
           "ticks": "",
           "title": {
            "standoff": 15
           },
           "zerolinecolor": "white",
           "zerolinewidth": 2
          },
          "yaxis": {
           "automargin": true,
           "gridcolor": "white",
           "linecolor": "white",
           "ticks": "",
           "title": {
            "standoff": 15
           },
           "zerolinecolor": "white",
           "zerolinewidth": 2
          }
         }
        },
        "title": {
         "text": "Efficiency at 0.00 degrees, with model Sprott"
        },
        "xaxis": {
         "anchor": "y",
         "domain": [
          0,
          1
         ],
         "title": {
          "text": "Load"
         }
        },
        "yaxis": {
         "anchor": "x",
         "domain": [
          0,
          1
         ],
         "title": {
          "text": "Water ration * Km"
         }
        }
       }
      }
     },
     "metadata": {},
     "output_type": "display_data"
    },
    {
     "data": {
      "application/vnd.plotly.v1+json": {
       "config": {
        "plotlyServerURL": "https://plot.ly"
       },
       "data": [
        {
         "mode": "lines",
         "name": "Baby Carriage",
         "type": "scatter",
         "x": [
          0,
          1,
          2,
          3,
          4,
          5,
          6,
          7,
          8,
          9,
          10,
          11,
          12
         ],
         "y": [
          1.0787712474001343,
          1.039016870766484,
          1.0008439137734693,
          0.9642675653411686,
          0.9292913019763642,
          0.8959075316503662,
          0.8640984602161369,
          0.8338371301869784,
          0.8050885774452787,
          0.7778110515640078,
          0.7519572492905693,
          0.7274755174227461,
          0.7043109897244786
         ]
        },
        {
         "mode": "lines",
         "name": "Backpack",
         "type": "scatter",
         "x": [
          0,
          1,
          2,
          3,
          4,
          5,
          6,
          7,
          8,
          9,
          10,
          11,
          12
         ],
         "y": [
          0.8985358003813708,
          0.8708717409262142,
          0.8441092252160175,
          0.8182651855837545,
          0.7933507694983258,
          0.7693714974760679,
          0.7463275172293888,
          0.7242139407114024,
          0.7030212483365645,
          0.6827357433488822,
          0.6633400390527635,
          0.6448135623078984,
          0.6271330581434237
         ]
        },
        {
         "mode": "lines",
         "name": "Bicycle",
         "type": "scatter",
         "x": [
          0,
          1,
          2,
          3,
          4,
          5,
          6,
          7,
          8,
          9,
          10,
          11,
          12
         ],
         "y": [
          1.8036104326229372,
          1.3379514362801757,
          1.0195545758786189,
          0.8049302426144976,
          0.6572466927354628,
          0.5521054856898423,
          0.4745684743703949,
          0.41554186463125914,
          0.3693619923346979,
          0.3323875444415227,
          0.30219931507366876,
          0.2771396728034934,
          0.25604061383157173
         ]
        },
        {
         "mode": "lines",
         "name": "Buckets",
         "type": "scatter",
         "x": [
          0,
          1,
          2,
          3,
          4,
          5,
          6,
          7,
          8,
          9,
          10,
          11,
          12
         ],
         "y": [
          0.9514353372027661,
          0.930492224183183,
          0.9100386150597563,
          0.8900901444963503,
          0.8706599190250318,
          0.8517585132403745,
          0.8333939981859191,
          0.8155719997843344,
          0.7982957844878418,
          0.7815663687951792,
          0.7653826489091735,
          0.7497415465979875,
          0.7346381672670563
         ]
        },
        {
         "mode": "lines",
         "name": "Cycle Rickshaw",
         "type": "scatter",
         "x": [
          0,
          1,
          2,
          3,
          4,
          5,
          6,
          7,
          8,
          9,
          10,
          11,
          12
         ],
         "y": [
          1.529983272910777,
          0.9929403332764011,
          0.7004020538168321,
          0.5314594394472961,
          0.4252780814675281,
          0.35350257729296924,
          0.3021514840319115,
          0.26376832405731293,
          0.23407916742363938,
          0.21048041772785941,
          0.1913037700443853,
          0.1754343235639138,
          0.17049899643124328
         ]
        },
        {
         "mode": "lines",
         "name": "Hand Cart",
         "type": "scatter",
         "x": [
          0,
          1,
          2,
          3,
          4,
          5,
          6,
          7,
          8,
          9,
          10,
          11,
          12
         ],
         "y": [
          1.0119563541110648,
          0.8499022107607241,
          0.7190981665084245,
          0.6149490455472139,
          0.5323098989726038,
          0.46646360689779576,
          0.4135300783292386,
          0.3704977574668809,
          0.33509371532247684,
          0.30561971773620883,
          0.2808065290432637,
          0.25969969843412677,
          0.24157483346224898
         ]
        },
        {
         "mode": "lines",
         "name": "Hand Truck",
         "type": "scatter",
         "x": [
          0,
          1,
          2,
          3,
          4,
          5,
          6,
          7,
          8,
          9,
          10,
          11,
          12
         ],
         "y": [
          1.0206843431217194,
          0.8728252319785988,
          0.7504524922149508,
          0.6504617793657593,
          0.5691794805218514,
          0.503032299108522,
          0.44890921822870905,
          0.4042699628806964,
          0.3671124030607022,
          0.3358856339676012,
          0.3093955395553087,
          0.28672196691531454,
          0.2671523994605378
         ]
        },
        {
         "mode": "lines",
         "name": "Luggage",
         "type": "scatter",
         "x": [
          0,
          1,
          2,
          3,
          4,
          5,
          6,
          7,
          8,
          9,
          10,
          11,
          12
         ],
         "y": [
          1.0824939180636306,
          1.050453270970091,
          1.0194333923312726,
          0.9894528503076568,
          0.960523939605824,
          0.9326528624831093,
          0.9058400072425588,
          0.8800803103675414,
          0.8553636862940583,
          0.8316755076853897,
          0.8089971189268995,
          0.7873063662891021,
          0.766578129648957
         ]
        },
        {
         "mode": "lines",
         "name": "Roller skates",
         "type": "scatter",
         "x": [
          0,
          1,
          2,
          3,
          4,
          5,
          6,
          7,
          8,
          9,
          10,
          11,
          12
         ],
         "y": [
          1.424254595495386,
          1.184238530459107,
          0.9932304291566548,
          0.8433185792272849,
          0.7259160420760544,
          0.6334032384094128,
          0.5597012105318238,
          0.5002150530913227,
          0.4515523225921699,
          0.4112233318116144,
          0.37739404681119876,
          0.34870131034513996,
          0.32412029108082785
         ]
        },
        {
         "mode": "lines",
         "name": "Rolling Container",
         "type": "scatter",
         "x": [
          0,
          1,
          2,
          3,
          4,
          5,
          6,
          7,
          8,
          9,
          10,
          11,
          12
         ],
         "y": [
          1.072595732627319,
          0.8794049556413795,
          0.7270200068962838,
          0.6091024355053682,
          0.518264530952971,
          0.4478487957761749,
          0.3925867732436866,
          0.3485667059302942,
          0.3129599483540748,
          0.28373271927536803,
          0.25941486991176793,
          0.23893197998192456,
          0.23935747161197093
         ]
        },
        {
         "mode": "lines",
         "name": "Scooter",
         "type": "scatter",
         "x": [
          0,
          1,
          2,
          3,
          4,
          5,
          6,
          7,
          8,
          9,
          10,
          11,
          12
         ],
         "y": [
          1.4286407686343354,
          1.195518300516259,
          1.008307573488178,
          0.8600198245005156,
          0.7429174125284579,
          0.6499896245686118,
          0.5755336036643766,
          0.5151658382564394,
          0.46560469950576244,
          0.42441453309213417,
          0.38978474716807804,
          0.3603597274328745,
          0.33511425899370506
         ]
        },
        {
         "mode": "lines",
         "name": "Shopping Trolley",
         "type": "scatter",
         "x": [
          0,
          1,
          2,
          3,
          4,
          5,
          6,
          7,
          8,
          9,
          10,
          11,
          12
         ],
         "y": [
          0.9695219534635976,
          0.7461815072019651,
          0.5875245349637751,
          0.4757566740790531,
          0.39576665882902606,
          0.33700241350541005,
          0.2926047523689447,
          0.2581716569207748,
          0.230840771453181,
          0.2304075695473544,
          0.23148694378899212,
          0.2330523336376881,
          0.23405779828337028
         ]
        },
        {
         "mode": "lines",
         "name": "Skateboard",
         "type": "scatter",
         "x": [
          0,
          1,
          2,
          3,
          4,
          5,
          6,
          7,
          8,
          9,
          10,
          11,
          12
         ],
         "y": [
          1.403676391964071,
          1.1326139306345497,
          0.9260298775568353,
          0.7706795450624492,
          0.6534830457751013,
          0.5638986988772501,
          0.4942110745746541,
          0.4389923112660425,
          0.3944592949371125,
          0.35795921261707053,
          0.32760680703030226,
          0.30204017104761466,
          0.28025843426941444
         ]
        },
        {
         "mode": "lines",
         "name": "Stretcher",
         "type": "scatter",
         "x": [
          0,
          1,
          2,
          3,
          4,
          5,
          6,
          7,
          8,
          9,
          10,
          11,
          12
         ],
         "y": [
          0.5813131066212277,
          0.5232178103024946,
          0.47151248499357373,
          0.4259213282770462,
          0.3860015439285222,
          0.3512062932714222,
          0.3209460123465687,
          0.29463712883734644,
          0.2717343539902846,
          0.2517479758033378,
          0.23424995813029312,
          0.21887288794380458,
          0.21950109585250552
         ]
        },
        {
         "mode": "lines",
         "name": "Wheelbarrow",
         "type": "scatter",
         "x": [
          0,
          1,
          2,
          3,
          4,
          5,
          6,
          7,
          8,
          9,
          10,
          11,
          12
         ],
         "y": [
          0.9927546725739689,
          0.8013842172016752,
          0.6554453474492193,
          0.5456342745368709,
          0.46275062083555035,
          0.39936947669262346,
          0.350050266791807,
          0.3109619202834416,
          0.2794322993652485,
          0.253586572700381,
          0.23209178024394705,
          0.2323866280571814,
          0.23333063541562726
         ]
        },
        {
         "mode": "lines",
         "name": "Wheelchair",
         "type": "scatter",
         "x": [
          0,
          1,
          2,
          3,
          4,
          5,
          6,
          7,
          8,
          9,
          10,
          11,
          12
         ],
         "y": [
          1.0357073953135865,
          0.9135503252385633,
          0.8081449586164832,
          0.7181326801370954,
          0.6417452274915386,
          0.5770781459812789,
          0.5222952971910323,
          0.4757465945075989,
          0.4360145857010143,
          0.401915604998655,
          0.372477639719517,
          0.3469095384108039,
          0.32456962509438253
         ]
        }
       ],
       "layout": {
        "template": {
         "data": {
          "bar": [
           {
            "error_x": {
             "color": "#2a3f5f"
            },
            "error_y": {
             "color": "#2a3f5f"
            },
            "marker": {
             "line": {
              "color": "#E5ECF6",
              "width": 0.5
             },
             "pattern": {
              "fillmode": "overlay",
              "size": 10,
              "solidity": 0.2
             }
            },
            "type": "bar"
           }
          ],
          "barpolar": [
           {
            "marker": {
             "line": {
              "color": "#E5ECF6",
              "width": 0.5
             },
             "pattern": {
              "fillmode": "overlay",
              "size": 10,
              "solidity": 0.2
             }
            },
            "type": "barpolar"
           }
          ],
          "carpet": [
           {
            "aaxis": {
             "endlinecolor": "#2a3f5f",
             "gridcolor": "white",
             "linecolor": "white",
             "minorgridcolor": "white",
             "startlinecolor": "#2a3f5f"
            },
            "baxis": {
             "endlinecolor": "#2a3f5f",
             "gridcolor": "white",
             "linecolor": "white",
             "minorgridcolor": "white",
             "startlinecolor": "#2a3f5f"
            },
            "type": "carpet"
           }
          ],
          "choropleth": [
           {
            "colorbar": {
             "outlinewidth": 0,
             "ticks": ""
            },
            "type": "choropleth"
           }
          ],
          "contour": [
           {
            "colorbar": {
             "outlinewidth": 0,
             "ticks": ""
            },
            "colorscale": [
             [
              0,
              "#0d0887"
             ],
             [
              0.1111111111111111,
              "#46039f"
             ],
             [
              0.2222222222222222,
              "#7201a8"
             ],
             [
              0.3333333333333333,
              "#9c179e"
             ],
             [
              0.4444444444444444,
              "#bd3786"
             ],
             [
              0.5555555555555556,
              "#d8576b"
             ],
             [
              0.6666666666666666,
              "#ed7953"
             ],
             [
              0.7777777777777778,
              "#fb9f3a"
             ],
             [
              0.8888888888888888,
              "#fdca26"
             ],
             [
              1,
              "#f0f921"
             ]
            ],
            "type": "contour"
           }
          ],
          "contourcarpet": [
           {
            "colorbar": {
             "outlinewidth": 0,
             "ticks": ""
            },
            "type": "contourcarpet"
           }
          ],
          "heatmap": [
           {
            "colorbar": {
             "outlinewidth": 0,
             "ticks": ""
            },
            "colorscale": [
             [
              0,
              "#0d0887"
             ],
             [
              0.1111111111111111,
              "#46039f"
             ],
             [
              0.2222222222222222,
              "#7201a8"
             ],
             [
              0.3333333333333333,
              "#9c179e"
             ],
             [
              0.4444444444444444,
              "#bd3786"
             ],
             [
              0.5555555555555556,
              "#d8576b"
             ],
             [
              0.6666666666666666,
              "#ed7953"
             ],
             [
              0.7777777777777778,
              "#fb9f3a"
             ],
             [
              0.8888888888888888,
              "#fdca26"
             ],
             [
              1,
              "#f0f921"
             ]
            ],
            "type": "heatmap"
           }
          ],
          "heatmapgl": [
           {
            "colorbar": {
             "outlinewidth": 0,
             "ticks": ""
            },
            "colorscale": [
             [
              0,
              "#0d0887"
             ],
             [
              0.1111111111111111,
              "#46039f"
             ],
             [
              0.2222222222222222,
              "#7201a8"
             ],
             [
              0.3333333333333333,
              "#9c179e"
             ],
             [
              0.4444444444444444,
              "#bd3786"
             ],
             [
              0.5555555555555556,
              "#d8576b"
             ],
             [
              0.6666666666666666,
              "#ed7953"
             ],
             [
              0.7777777777777778,
              "#fb9f3a"
             ],
             [
              0.8888888888888888,
              "#fdca26"
             ],
             [
              1,
              "#f0f921"
             ]
            ],
            "type": "heatmapgl"
           }
          ],
          "histogram": [
           {
            "marker": {
             "pattern": {
              "fillmode": "overlay",
              "size": 10,
              "solidity": 0.2
             }
            },
            "type": "histogram"
           }
          ],
          "histogram2d": [
           {
            "colorbar": {
             "outlinewidth": 0,
             "ticks": ""
            },
            "colorscale": [
             [
              0,
              "#0d0887"
             ],
             [
              0.1111111111111111,
              "#46039f"
             ],
             [
              0.2222222222222222,
              "#7201a8"
             ],
             [
              0.3333333333333333,
              "#9c179e"
             ],
             [
              0.4444444444444444,
              "#bd3786"
             ],
             [
              0.5555555555555556,
              "#d8576b"
             ],
             [
              0.6666666666666666,
              "#ed7953"
             ],
             [
              0.7777777777777778,
              "#fb9f3a"
             ],
             [
              0.8888888888888888,
              "#fdca26"
             ],
             [
              1,
              "#f0f921"
             ]
            ],
            "type": "histogram2d"
           }
          ],
          "histogram2dcontour": [
           {
            "colorbar": {
             "outlinewidth": 0,
             "ticks": ""
            },
            "colorscale": [
             [
              0,
              "#0d0887"
             ],
             [
              0.1111111111111111,
              "#46039f"
             ],
             [
              0.2222222222222222,
              "#7201a8"
             ],
             [
              0.3333333333333333,
              "#9c179e"
             ],
             [
              0.4444444444444444,
              "#bd3786"
             ],
             [
              0.5555555555555556,
              "#d8576b"
             ],
             [
              0.6666666666666666,
              "#ed7953"
             ],
             [
              0.7777777777777778,
              "#fb9f3a"
             ],
             [
              0.8888888888888888,
              "#fdca26"
             ],
             [
              1,
              "#f0f921"
             ]
            ],
            "type": "histogram2dcontour"
           }
          ],
          "mesh3d": [
           {
            "colorbar": {
             "outlinewidth": 0,
             "ticks": ""
            },
            "type": "mesh3d"
           }
          ],
          "parcoords": [
           {
            "line": {
             "colorbar": {
              "outlinewidth": 0,
              "ticks": ""
             }
            },
            "type": "parcoords"
           }
          ],
          "pie": [
           {
            "automargin": true,
            "type": "pie"
           }
          ],
          "scatter": [
           {
            "fillpattern": {
             "fillmode": "overlay",
             "size": 10,
             "solidity": 0.2
            },
            "type": "scatter"
           }
          ],
          "scatter3d": [
           {
            "line": {
             "colorbar": {
              "outlinewidth": 0,
              "ticks": ""
             }
            },
            "marker": {
             "colorbar": {
              "outlinewidth": 0,
              "ticks": ""
             }
            },
            "type": "scatter3d"
           }
          ],
          "scattercarpet": [
           {
            "marker": {
             "colorbar": {
              "outlinewidth": 0,
              "ticks": ""
             }
            },
            "type": "scattercarpet"
           }
          ],
          "scattergeo": [
           {
            "marker": {
             "colorbar": {
              "outlinewidth": 0,
              "ticks": ""
             }
            },
            "type": "scattergeo"
           }
          ],
          "scattergl": [
           {
            "marker": {
             "colorbar": {
              "outlinewidth": 0,
              "ticks": ""
             }
            },
            "type": "scattergl"
           }
          ],
          "scattermapbox": [
           {
            "marker": {
             "colorbar": {
              "outlinewidth": 0,
              "ticks": ""
             }
            },
            "type": "scattermapbox"
           }
          ],
          "scatterpolar": [
           {
            "marker": {
             "colorbar": {
              "outlinewidth": 0,
              "ticks": ""
             }
            },
            "type": "scatterpolar"
           }
          ],
          "scatterpolargl": [
           {
            "marker": {
             "colorbar": {
              "outlinewidth": 0,
              "ticks": ""
             }
            },
            "type": "scatterpolargl"
           }
          ],
          "scatterternary": [
           {
            "marker": {
             "colorbar": {
              "outlinewidth": 0,
              "ticks": ""
             }
            },
            "type": "scatterternary"
           }
          ],
          "surface": [
           {
            "colorbar": {
             "outlinewidth": 0,
             "ticks": ""
            },
            "colorscale": [
             [
              0,
              "#0d0887"
             ],
             [
              0.1111111111111111,
              "#46039f"
             ],
             [
              0.2222222222222222,
              "#7201a8"
             ],
             [
              0.3333333333333333,
              "#9c179e"
             ],
             [
              0.4444444444444444,
              "#bd3786"
             ],
             [
              0.5555555555555556,
              "#d8576b"
             ],
             [
              0.6666666666666666,
              "#ed7953"
             ],
             [
              0.7777777777777778,
              "#fb9f3a"
             ],
             [
              0.8888888888888888,
              "#fdca26"
             ],
             [
              1,
              "#f0f921"
             ]
            ],
            "type": "surface"
           }
          ],
          "table": [
           {
            "cells": {
             "fill": {
              "color": "#EBF0F8"
             },
             "line": {
              "color": "white"
             }
            },
            "header": {
             "fill": {
              "color": "#C8D4E3"
             },
             "line": {
              "color": "white"
             }
            },
            "type": "table"
           }
          ]
         },
         "layout": {
          "annotationdefaults": {
           "arrowcolor": "#2a3f5f",
           "arrowhead": 0,
           "arrowwidth": 1
          },
          "autotypenumbers": "strict",
          "coloraxis": {
           "colorbar": {
            "outlinewidth": 0,
            "ticks": ""
           }
          },
          "colorscale": {
           "diverging": [
            [
             0,
             "#8e0152"
            ],
            [
             0.1,
             "#c51b7d"
            ],
            [
             0.2,
             "#de77ae"
            ],
            [
             0.3,
             "#f1b6da"
            ],
            [
             0.4,
             "#fde0ef"
            ],
            [
             0.5,
             "#f7f7f7"
            ],
            [
             0.6,
             "#e6f5d0"
            ],
            [
             0.7,
             "#b8e186"
            ],
            [
             0.8,
             "#7fbc41"
            ],
            [
             0.9,
             "#4d9221"
            ],
            [
             1,
             "#276419"
            ]
           ],
           "sequential": [
            [
             0,
             "#0d0887"
            ],
            [
             0.1111111111111111,
             "#46039f"
            ],
            [
             0.2222222222222222,
             "#7201a8"
            ],
            [
             0.3333333333333333,
             "#9c179e"
            ],
            [
             0.4444444444444444,
             "#bd3786"
            ],
            [
             0.5555555555555556,
             "#d8576b"
            ],
            [
             0.6666666666666666,
             "#ed7953"
            ],
            [
             0.7777777777777778,
             "#fb9f3a"
            ],
            [
             0.8888888888888888,
             "#fdca26"
            ],
            [
             1,
             "#f0f921"
            ]
           ],
           "sequentialminus": [
            [
             0,
             "#0d0887"
            ],
            [
             0.1111111111111111,
             "#46039f"
            ],
            [
             0.2222222222222222,
             "#7201a8"
            ],
            [
             0.3333333333333333,
             "#9c179e"
            ],
            [
             0.4444444444444444,
             "#bd3786"
            ],
            [
             0.5555555555555556,
             "#d8576b"
            ],
            [
             0.6666666666666666,
             "#ed7953"
            ],
            [
             0.7777777777777778,
             "#fb9f3a"
            ],
            [
             0.8888888888888888,
             "#fdca26"
            ],
            [
             1,
             "#f0f921"
            ]
           ]
          },
          "colorway": [
           "#636efa",
           "#EF553B",
           "#00cc96",
           "#ab63fa",
           "#FFA15A",
           "#19d3f3",
           "#FF6692",
           "#B6E880",
           "#FF97FF",
           "#FECB52"
          ],
          "font": {
           "color": "#2a3f5f"
          },
          "geo": {
           "bgcolor": "white",
           "lakecolor": "white",
           "landcolor": "#E5ECF6",
           "showlakes": true,
           "showland": true,
           "subunitcolor": "white"
          },
          "hoverlabel": {
           "align": "left"
          },
          "hovermode": "closest",
          "mapbox": {
           "style": "light"
          },
          "paper_bgcolor": "white",
          "plot_bgcolor": "#E5ECF6",
          "polar": {
           "angularaxis": {
            "gridcolor": "white",
            "linecolor": "white",
            "ticks": ""
           },
           "bgcolor": "#E5ECF6",
           "radialaxis": {
            "gridcolor": "white",
            "linecolor": "white",
            "ticks": ""
           }
          },
          "scene": {
           "xaxis": {
            "backgroundcolor": "#E5ECF6",
            "gridcolor": "white",
            "gridwidth": 2,
            "linecolor": "white",
            "showbackground": true,
            "ticks": "",
            "zerolinecolor": "white"
           },
           "yaxis": {
            "backgroundcolor": "#E5ECF6",
            "gridcolor": "white",
            "gridwidth": 2,
            "linecolor": "white",
            "showbackground": true,
            "ticks": "",
            "zerolinecolor": "white"
           },
           "zaxis": {
            "backgroundcolor": "#E5ECF6",
            "gridcolor": "white",
            "gridwidth": 2,
            "linecolor": "white",
            "showbackground": true,
            "ticks": "",
            "zerolinecolor": "white"
           }
          },
          "shapedefaults": {
           "line": {
            "color": "#2a3f5f"
           }
          },
          "ternary": {
           "aaxis": {
            "gridcolor": "white",
            "linecolor": "white",
            "ticks": ""
           },
           "baxis": {
            "gridcolor": "white",
            "linecolor": "white",
            "ticks": ""
           },
           "bgcolor": "#E5ECF6",
           "caxis": {
            "gridcolor": "white",
            "linecolor": "white",
            "ticks": ""
           }
          },
          "title": {
           "x": 0.05
          },
          "xaxis": {
           "automargin": true,
           "gridcolor": "white",
           "linecolor": "white",
           "ticks": "",
           "title": {
            "standoff": 15
           },
           "zerolinecolor": "white",
           "zerolinewidth": 2
          },
          "yaxis": {
           "automargin": true,
           "gridcolor": "white",
           "linecolor": "white",
           "ticks": "",
           "title": {
            "standoff": 15
           },
           "zerolinecolor": "white",
           "zerolinewidth": 2
          }
         }
        },
        "title": {
         "text": "m/s with different slope, maximum kg load, model Sprott"
        },
        "xaxis": {
         "title": {
          "text": "Slope [˚]"
         }
        },
        "yaxis": {
         "title": {
          "text": "m/s"
         }
        }
       }
      }
     },
     "metadata": {},
     "output_type": "display_data"
    },
    {
     "data": {
      "application/vnd.plotly.v1+json": {
       "config": {
        "plotlyServerURL": "https://plot.ly"
       },
       "data": [
        {
         "customdata": [
          [
           "Baby Carriage",
           0.5393856237000672,
           1.0787712474001343,
           1.2,
           7.767152981280968,
           15.534305962561936,
           0,
           8,
           0.3862419096456674
          ]
         ],
         "hovertemplate": "=%{customdata[0]}<br>Load [kg]=%{x}<br>Performance [15L.km.hr⁻¹]=%{y}<br>Average Trip Velocity=%{customdata[1]}<br>Loaded Velocity=%{customdata[2]}<br>Unloaded Velocity=%{customdata[3]}<br>Distance to Water Achievable=%{customdata[4]}<br>Total Round trip Distance Achievable=%{customdata[5]}<br>Slope=%{customdata[6]}<br>Hours Collecting Water Max=%{customdata[7]}<br>Hours Spent Collecting Single Person Water=%{customdata[8]}<extra></extra>",
         "legendgroup": "Baby Carriage",
         "marker": {
          "color": "rgb(27,158,119)",
          "line": {
           "color": "rgba(0, 0, 0, 0.4)",
           "width": 1
          },
          "opacity": 0.7,
          "size": 15,
          "symbol": "circle"
         },
         "mode": "markers",
         "name": "Baby Carriage",
         "orientation": "v",
         "showlegend": true,
         "type": "scatter",
         "x": [
          20
         ],
         "xaxis": "x",
         "y": [
          20.712407950082582
         ],
         "yaxis": "y"
        },
        {
         "customdata": [
          [
           "Backpack",
           0.4492679001906854,
           0.8985358003813708,
           1.2,
           6.46945776274587,
           12.93891552549174,
           0,
           8,
           0.30914491961241714
          ]
         ],
         "hovertemplate": "=%{customdata[0]}<br>Load [kg]=%{x}<br>Performance [15L.km.hr⁻¹]=%{y}<br>Average Trip Velocity=%{customdata[1]}<br>Loaded Velocity=%{customdata[2]}<br>Unloaded Velocity=%{customdata[3]}<br>Distance to Water Achievable=%{customdata[4]}<br>Total Round trip Distance Achievable=%{customdata[5]}<br>Slope=%{customdata[6]}<br>Hours Collecting Water Max=%{customdata[7]}<br>Hours Spent Collecting Single Person Water=%{customdata[8]}<extra></extra>",
         "legendgroup": "Backpack",
         "marker": {
          "color": "rgb(217,95,2)",
          "line": {
           "color": "rgba(0, 0, 0, 0.4)",
           "width": 1
          },
          "opacity": 0.7,
          "size": 15,
          "symbol": "circle"
         },
         "mode": "markers",
         "name": "Backpack",
         "orientation": "v",
         "showlegend": true,
         "type": "scatter",
         "x": [
          30
         ],
         "xaxis": "x",
         "y": [
          25.87783105098348
         ],
         "yaxis": "y"
        },
        {
         "customdata": [
          [
           "Bicycle",
           0.9018052163114686,
           1.8036104326229372,
           4.3,
           12.98599511488515,
           25.9719902297703,
           0,
           8,
           0.06794650185607083
          ]
         ],
         "hovertemplate": "=%{customdata[0]}<br>Load [kg]=%{x}<br>Performance [15L.km.hr⁻¹]=%{y}<br>Average Trip Velocity=%{customdata[1]}<br>Loaded Velocity=%{customdata[2]}<br>Unloaded Velocity=%{customdata[3]}<br>Distance to Water Achievable=%{customdata[4]}<br>Total Round trip Distance Achievable=%{customdata[5]}<br>Slope=%{customdata[6]}<br>Hours Collecting Water Max=%{customdata[7]}<br>Hours Spent Collecting Single Person Water=%{customdata[8]}<extra></extra>",
         "legendgroup": "Bicycle",
         "marker": {
          "color": "rgb(117,112,179)",
          "line": {
           "color": "rgba(0, 0, 0, 0.4)",
           "width": 1
          },
          "opacity": 0.7,
          "size": 15,
          "symbol": "circle"
         },
         "mode": "markers",
         "name": "Bicycle",
         "orientation": "v",
         "showlegend": true,
         "type": "scatter",
         "x": [
          68
         ],
         "xaxis": "x",
         "y": [
          117.73968904162535
         ],
         "yaxis": "y"
        },
        {
         "customdata": [
          [
           "Buckets",
           0.47571766860138304,
           0.9514353372027661,
           1.2,
           6.8503344278599165,
           13.700668855719833,
           0,
           8,
           0.43793482370717146
          ]
         ],
         "hovertemplate": "=%{customdata[0]}<br>Load [kg]=%{x}<br>Performance [15L.km.hr⁻¹]=%{y}<br>Average Trip Velocity=%{customdata[1]}<br>Loaded Velocity=%{customdata[2]}<br>Unloaded Velocity=%{customdata[3]}<br>Distance to Water Achievable=%{customdata[4]}<br>Total Round trip Distance Achievable=%{customdata[5]}<br>Slope=%{customdata[6]}<br>Hours Collecting Water Max=%{customdata[7]}<br>Hours Spent Collecting Single Person Water=%{customdata[8]}<extra></extra>",
         "legendgroup": "Buckets",
         "marker": {
          "color": "rgb(231,41,138)",
          "line": {
           "color": "rgba(0, 0, 0, 0.4)",
           "width": 1
          },
          "opacity": 0.7,
          "size": 15,
          "symbol": "circle"
         },
         "mode": "markers",
         "name": "Buckets",
         "orientation": "v",
         "showlegend": true,
         "type": "scatter",
         "x": [
          20
         ],
         "xaxis": "x",
         "y": [
          18.267558474293114
         ],
         "yaxis": "y"
        },
        {
         "customdata": [
          [
           "Cycle Rickshaw",
           0.7649916364553885,
           1.529983272910777,
           4.3,
           11.015879564957595,
           22.03175912991519,
           0,
           8,
           0.04392486000674591
          ]
         ],
         "hovertemplate": "=%{customdata[0]}<br>Load [kg]=%{x}<br>Performance [15L.km.hr⁻¹]=%{y}<br>Average Trip Velocity=%{customdata[1]}<br>Loaded Velocity=%{customdata[2]}<br>Unloaded Velocity=%{customdata[3]}<br>Distance to Water Achievable=%{customdata[4]}<br>Total Round trip Distance Achievable=%{customdata[5]}<br>Slope=%{customdata[6]}<br>Hours Collecting Water Max=%{customdata[7]}<br>Hours Spent Collecting Single Person Water=%{customdata[8]}<extra></extra>",
         "legendgroup": "Cycle Rickshaw",
         "marker": {
          "color": "rgb(102,166,30)",
          "line": {
           "color": "rgba(0, 0, 0, 0.4)",
           "width": 1
          },
          "opacity": 0.7,
          "size": 15,
          "symbol": "circle"
         },
         "mode": "markers",
         "name": "Cycle Rickshaw",
         "orientation": "v",
         "showlegend": true,
         "type": "scatter",
         "x": [
          124
         ],
         "xaxis": "x",
         "y": [
          182.1292088072989
         ],
         "yaxis": "y"
        },
        {
         "customdata": [
          [
           "Hand Cart",
           0.5059781770555324,
           1.0119563541110648,
           1.2,
           7.286085749599666,
           14.572171499199332,
           0,
           8,
           0.08234874260613348
          ]
         ],
         "hovertemplate": "=%{customdata[0]}<br>Load [kg]=%{x}<br>Performance [15L.km.hr⁻¹]=%{y}<br>Average Trip Velocity=%{customdata[1]}<br>Loaded Velocity=%{customdata[2]}<br>Unloaded Velocity=%{customdata[3]}<br>Distance to Water Achievable=%{customdata[4]}<br>Total Round trip Distance Achievable=%{customdata[5]}<br>Slope=%{customdata[6]}<br>Hours Collecting Water Max=%{customdata[7]}<br>Hours Spent Collecting Single Person Water=%{customdata[8]}<extra></extra>",
         "legendgroup": "Hand Cart",
         "marker": {
          "color": "rgb(230,171,2)",
          "line": {
           "color": "rgba(0, 0, 0, 0.4)",
           "width": 1
          },
          "opacity": 0.7,
          "size": 15,
          "symbol": "circle"
         },
         "mode": "markers",
         "name": "Hand Cart",
         "orientation": "v",
         "showlegend": true,
         "type": "scatter",
         "x": [
          100
         ],
         "xaxis": "x",
         "y": [
          97.14780999466221
         ],
         "yaxis": "y"
        },
        {
         "customdata": [
          [
           "Hand Truck",
           0.5103421715608597,
           1.0206843431217194,
           1.2,
           7.34892727047638,
           14.69785454095276,
           0,
           8,
           0.07161804302896126
          ]
         ],
         "hovertemplate": "=%{customdata[0]}<br>Load [kg]=%{x}<br>Performance [15L.km.hr⁻¹]=%{y}<br>Average Trip Velocity=%{customdata[1]}<br>Loaded Velocity=%{customdata[2]}<br>Unloaded Velocity=%{customdata[3]}<br>Distance to Water Achievable=%{customdata[4]}<br>Total Round trip Distance Achievable=%{customdata[5]}<br>Slope=%{customdata[6]}<br>Hours Collecting Water Max=%{customdata[7]}<br>Hours Spent Collecting Single Person Water=%{customdata[8]}<extra></extra>",
         "legendgroup": "Hand Truck",
         "marker": {
          "color": "rgb(166,118,29)",
          "line": {
           "color": "rgba(0, 0, 0, 0.4)",
           "width": 1
          },
          "opacity": 0.7,
          "size": 15,
          "symbol": "circle"
         },
         "mode": "markers",
         "name": "Hand Truck",
         "orientation": "v",
         "showlegend": true,
         "type": "scatter",
         "x": [
          114
         ],
         "xaxis": "x",
         "y": [
          111.70369451124097
         ],
         "yaxis": "y"
        },
        {
         "customdata": [
          [
           "Luggage",
           0.5412469590318153,
           1.0824939180636306,
           1.2,
           7.79395621005814,
           15.58791242011628,
           0,
           8,
           0.384913632967104
          ]
         ],
         "hovertemplate": "=%{customdata[0]}<br>Load [kg]=%{x}<br>Performance [15L.km.hr⁻¹]=%{y}<br>Average Trip Velocity=%{customdata[1]}<br>Loaded Velocity=%{customdata[2]}<br>Unloaded Velocity=%{customdata[3]}<br>Distance to Water Achievable=%{customdata[4]}<br>Total Round trip Distance Achievable=%{customdata[5]}<br>Slope=%{customdata[6]}<br>Hours Collecting Water Max=%{customdata[7]}<br>Hours Spent Collecting Single Person Water=%{customdata[8]}<extra></extra>",
         "legendgroup": "Luggage",
         "marker": {
          "color": "rgb(102,102,102)",
          "line": {
           "color": "rgba(0, 0, 0, 0.4)",
           "width": 1
          },
          "opacity": 0.7,
          "size": 15,
          "symbol": "circle"
         },
         "mode": "markers",
         "name": "Luggage",
         "orientation": "v",
         "showlegend": true,
         "type": "scatter",
         "x": [
          20
         ],
         "xaxis": "x",
         "y": [
          20.783883226821708
         ],
         "yaxis": "y"
        },
        {
         "customdata": [
          [
           "Roller skates",
           0.712127297747693,
           1.424254595495386,
           3.6,
           10.254633087566779,
           20.509266175133558,
           0,
           8,
           0.14270765434997934
          ]
         ],
         "hovertemplate": "=%{customdata[0]}<br>Load [kg]=%{x}<br>Performance [15L.km.hr⁻¹]=%{y}<br>Average Trip Velocity=%{customdata[1]}<br>Loaded Velocity=%{customdata[2]}<br>Unloaded Velocity=%{customdata[3]}<br>Distance to Water Achievable=%{customdata[4]}<br>Total Round trip Distance Achievable=%{customdata[5]}<br>Slope=%{customdata[6]}<br>Hours Collecting Water Max=%{customdata[7]}<br>Hours Spent Collecting Single Person Water=%{customdata[8]}<extra></extra>",
         "legendgroup": "Roller skates",
         "marker": {
          "color": "rgb(27,158,119)",
          "line": {
           "color": "rgba(0, 0, 0, 0.4)",
           "width": 1
          },
          "opacity": 0.7,
          "size": 15,
          "symbol": "circle"
         },
         "mode": "markers",
         "name": "Roller skates",
         "orientation": "v",
         "showlegend": true,
         "type": "scatter",
         "x": [
          41
         ],
         "xaxis": "x",
         "y": [
          56.0586608786984
         ],
         "yaxis": "y"
        },
        {
         "customdata": [
          [
           "Rolling Container",
           0.5362978663136595,
           1.072595732627319,
           1.2,
           7.722689274916696,
           15.445378549833393,
           0,
           8,
           0.0491728751377394
          ]
         ],
         "hovertemplate": "=%{customdata[0]}<br>Load [kg]=%{x}<br>Performance [15L.km.hr⁻¹]=%{y}<br>Average Trip Velocity=%{customdata[1]}<br>Loaded Velocity=%{customdata[2]}<br>Unloaded Velocity=%{customdata[3]}<br>Distance to Water Achievable=%{customdata[4]}<br>Total Round trip Distance Achievable=%{customdata[5]}<br>Slope=%{customdata[6]}<br>Hours Collecting Water Max=%{customdata[7]}<br>Hours Spent Collecting Single Person Water=%{customdata[8]}<extra></extra>",
         "legendgroup": "Rolling Container",
         "marker": {
          "color": "rgb(217,95,2)",
          "line": {
           "color": "rgba(0, 0, 0, 0.4)",
           "width": 1
          },
          "opacity": 0.7,
          "size": 15,
          "symbol": "circle"
         },
         "mode": "markers",
         "name": "Rolling Container",
         "orientation": "v",
         "showlegend": true,
         "type": "scatter",
         "x": [
          158
         ],
         "xaxis": "x",
         "y": [
          162.69132072491175
         ],
         "yaxis": "y"
        },
        {
         "customdata": [
          [
           "Scooter",
           0.7143203843171677,
           1.4286407686343354,
           4,
           10.286213534167215,
           20.57242706833443,
           0,
           8,
           0.15350132127593305
          ]
         ],
         "hovertemplate": "=%{customdata[0]}<br>Load [kg]=%{x}<br>Performance [15L.km.hr⁻¹]=%{y}<br>Average Trip Velocity=%{customdata[1]}<br>Loaded Velocity=%{customdata[2]}<br>Unloaded Velocity=%{customdata[3]}<br>Distance to Water Achievable=%{customdata[4]}<br>Total Round trip Distance Achievable=%{customdata[5]}<br>Slope=%{customdata[6]}<br>Hours Collecting Water Max=%{customdata[7]}<br>Hours Spent Collecting Single Person Water=%{customdata[8]}<extra></extra>",
         "legendgroup": "Scooter",
         "marker": {
          "color": "rgb(117,112,179)",
          "line": {
           "color": "rgba(0, 0, 0, 0.4)",
           "width": 1
          },
          "opacity": 0.7,
          "size": 15,
          "symbol": "circle"
         },
         "mode": "markers",
         "name": "Scooter",
         "orientation": "v",
         "showlegend": true,
         "type": "scatter",
         "x": [
          38
         ],
         "xaxis": "x",
         "y": [
          52.11681523978056
         ],
         "yaxis": "y"
        },
        {
         "customdata": [
          [
           "Shopping Trolley",
           0.4847609767317988,
           0.9695219534635976,
           1.2,
           6.980558064937902,
           13.961116129875805,
           0,
           8,
           0.044078468344499744
          ]
         ],
         "hovertemplate": "=%{customdata[0]}<br>Load [kg]=%{x}<br>Performance [15L.km.hr⁻¹]=%{y}<br>Average Trip Velocity=%{customdata[1]}<br>Loaded Velocity=%{customdata[2]}<br>Unloaded Velocity=%{customdata[3]}<br>Distance to Water Achievable=%{customdata[4]}<br>Total Round trip Distance Achievable=%{customdata[5]}<br>Slope=%{customdata[6]}<br>Hours Collecting Water Max=%{customdata[7]}<br>Hours Spent Collecting Single Person Water=%{customdata[8]}<extra></extra>",
         "legendgroup": "Shopping Trolley",
         "marker": {
          "color": "rgb(231,41,138)",
          "line": {
           "color": "rgba(0, 0, 0, 0.4)",
           "width": 1
          },
          "opacity": 0.7,
          "size": 15,
          "symbol": "circle"
         },
         "mode": "markers",
         "name": "Shopping Trolley",
         "orientation": "v",
         "showlegend": true,
         "type": "scatter",
         "x": [
          195
         ],
         "xaxis": "x",
         "y": [
          181.49450968838545
         ],
         "yaxis": "y"
        },
        {
         "customdata": [
          [
           "Skateboard",
           0.7018381959820355,
           1.403676391964071,
           4,
           10.10647002214131,
           20.21294004428262,
           0,
           8,
           0.09732444218625876
          ]
         ],
         "hovertemplate": "=%{customdata[0]}<br>Load [kg]=%{x}<br>Performance [15L.km.hr⁻¹]=%{y}<br>Average Trip Velocity=%{customdata[1]}<br>Loaded Velocity=%{customdata[2]}<br>Unloaded Velocity=%{customdata[3]}<br>Distance to Water Achievable=%{customdata[4]}<br>Total Round trip Distance Achievable=%{customdata[5]}<br>Slope=%{customdata[6]}<br>Hours Collecting Water Max=%{customdata[7]}<br>Hours Spent Collecting Single Person Water=%{customdata[8]}<extra></extra>",
         "legendgroup": "Skateboard",
         "marker": {
          "color": "rgb(102,166,30)",
          "line": {
           "color": "rgba(0, 0, 0, 0.4)",
           "width": 1
          },
          "opacity": 0.7,
          "size": 15,
          "symbol": "circle"
         },
         "mode": "markers",
         "name": "Skateboard",
         "orientation": "v",
         "showlegend": true,
         "type": "scatter",
         "x": [
          61
         ],
         "xaxis": "x",
         "y": [
          82.19928951341599
         ],
         "yaxis": "y"
        },
        {
         "customdata": [
          [
           "Stretcher",
           0.29065655331061385,
           0.5813131066212277,
           1.2,
           4.18545436767284,
           8.37090873534568,
           0,
           8,
           0.1194613430412349
          ]
         ],
         "hovertemplate": "=%{customdata[0]}<br>Load [kg]=%{x}<br>Performance [15L.km.hr⁻¹]=%{y}<br>Average Trip Velocity=%{customdata[1]}<br>Loaded Velocity=%{customdata[2]}<br>Unloaded Velocity=%{customdata[3]}<br>Distance to Water Achievable=%{customdata[4]}<br>Total Round trip Distance Achievable=%{customdata[5]}<br>Slope=%{customdata[6]}<br>Hours Collecting Water Max=%{customdata[7]}<br>Hours Spent Collecting Single Person Water=%{customdata[8]}<extra></extra>",
         "legendgroup": "Stretcher",
         "marker": {
          "color": "rgb(230,171,2)",
          "line": {
           "color": "rgba(0, 0, 0, 0.4)",
           "width": 1
          },
          "opacity": 0.7,
          "size": 15,
          "symbol": "circle"
         },
         "mode": "markers",
         "name": "Stretcher",
         "orientation": "v",
         "showlegend": true,
         "type": "scatter",
         "x": [
          120
         ],
         "xaxis": "x",
         "y": [
          66.96726988276544
         ],
         "yaxis": "y"
        },
        {
         "customdata": [
          [
           "Wheelbarrow",
           0.49637733628698444,
           0.9927546725739689,
           1.2,
           7.147833642532576,
           14.295667285065152,
           0,
           8,
           0.055961011406285954
          ]
         ],
         "hovertemplate": "=%{customdata[0]}<br>Load [kg]=%{x}<br>Performance [15L.km.hr⁻¹]=%{y}<br>Average Trip Velocity=%{customdata[1]}<br>Loaded Velocity=%{customdata[2]}<br>Unloaded Velocity=%{customdata[3]}<br>Distance to Water Achievable=%{customdata[4]}<br>Total Round trip Distance Achievable=%{customdata[5]}<br>Slope=%{customdata[6]}<br>Hours Collecting Water Max=%{customdata[7]}<br>Hours Spent Collecting Single Person Water=%{customdata[8]}<extra></extra>",
         "legendgroup": "Wheelbarrow",
         "marker": {
          "color": "rgb(166,118,29)",
          "line": {
           "color": "rgba(0, 0, 0, 0.4)",
           "width": 1
          },
          "opacity": 0.7,
          "size": 15,
          "symbol": "circle"
         },
         "mode": "markers",
         "name": "Wheelbarrow",
         "orientation": "v",
         "showlegend": true,
         "type": "scatter",
         "x": [
          150
         ],
         "xaxis": "x",
         "y": [
          142.95667285065153
         ],
         "yaxis": "y"
        },
        {
         "customdata": [
          [
           "Wheelchair",
           0.5178536976567932,
           1.0357073953135865,
           1.2,
           7.457093246257822,
           14.914186492515643,
           0,
           8,
           0.0969401269895381
          ]
         ],
         "hovertemplate": "=%{customdata[0]}<br>Load [kg]=%{x}<br>Performance [15L.km.hr⁻¹]=%{y}<br>Average Trip Velocity=%{customdata[1]}<br>Loaded Velocity=%{customdata[2]}<br>Unloaded Velocity=%{customdata[3]}<br>Distance to Water Achievable=%{customdata[4]}<br>Total Round trip Distance Achievable=%{customdata[5]}<br>Slope=%{customdata[6]}<br>Hours Collecting Water Max=%{customdata[7]}<br>Hours Spent Collecting Single Person Water=%{customdata[8]}<extra></extra>",
         "legendgroup": "Wheelchair",
         "marker": {
          "color": "rgb(102,102,102)",
          "line": {
           "color": "rgba(0, 0, 0, 0.4)",
           "width": 1
          },
          "opacity": 0.7,
          "size": 15,
          "symbol": "circle"
         },
         "mode": "markers",
         "name": "Wheelchair",
         "orientation": "v",
         "showlegend": true,
         "type": "scatter",
         "x": [
          83
         ],
         "xaxis": "x",
         "y": [
          82.52516525858657
         ],
         "yaxis": "y"
        }
       ],
       "layout": {
        "annotations": [
         {
          "arrowhead": 1,
          "showarrow": true,
          "text": "Bicycle",
          "x": 68,
          "y": 117.73968904162535
         },
         {
          "arrowhead": 1,
          "showarrow": true,
          "text": "Cycle Rickshaw",
          "x": 124,
          "y": 182.1292088072989
         },
         {
          "arrowhead": 1,
          "showarrow": true,
          "text": "Stretcher",
          "x": 120,
          "y": 66.96726988276544
         }
        ],
        "font": {
         "size": 30
        },
        "height": 1000,
        "legend": {
         "title": {
          "text": ""
         },
         "tracegroupgap": 0
        },
        "margin": {
         "b": 130,
         "l": 150,
         "r": 30,
         "t": 30
        },
        "template": {
         "data": {
          "bar": [
           {
            "error_x": {
             "color": "#2a3f5f"
            },
            "error_y": {
             "color": "#2a3f5f"
            },
            "marker": {
             "line": {
              "color": "#E5ECF6",
              "width": 0.5
             },
             "pattern": {
              "fillmode": "overlay",
              "size": 10,
              "solidity": 0.2
             }
            },
            "type": "bar"
           }
          ],
          "barpolar": [
           {
            "marker": {
             "line": {
              "color": "#E5ECF6",
              "width": 0.5
             },
             "pattern": {
              "fillmode": "overlay",
              "size": 10,
              "solidity": 0.2
             }
            },
            "type": "barpolar"
           }
          ],
          "carpet": [
           {
            "aaxis": {
             "endlinecolor": "#2a3f5f",
             "gridcolor": "white",
             "linecolor": "white",
             "minorgridcolor": "white",
             "startlinecolor": "#2a3f5f"
            },
            "baxis": {
             "endlinecolor": "#2a3f5f",
             "gridcolor": "white",
             "linecolor": "white",
             "minorgridcolor": "white",
             "startlinecolor": "#2a3f5f"
            },
            "type": "carpet"
           }
          ],
          "choropleth": [
           {
            "colorbar": {
             "outlinewidth": 0,
             "ticks": ""
            },
            "type": "choropleth"
           }
          ],
          "contour": [
           {
            "colorbar": {
             "outlinewidth": 0,
             "ticks": ""
            },
            "colorscale": [
             [
              0,
              "#0d0887"
             ],
             [
              0.1111111111111111,
              "#46039f"
             ],
             [
              0.2222222222222222,
              "#7201a8"
             ],
             [
              0.3333333333333333,
              "#9c179e"
             ],
             [
              0.4444444444444444,
              "#bd3786"
             ],
             [
              0.5555555555555556,
              "#d8576b"
             ],
             [
              0.6666666666666666,
              "#ed7953"
             ],
             [
              0.7777777777777778,
              "#fb9f3a"
             ],
             [
              0.8888888888888888,
              "#fdca26"
             ],
             [
              1,
              "#f0f921"
             ]
            ],
            "type": "contour"
           }
          ],
          "contourcarpet": [
           {
            "colorbar": {
             "outlinewidth": 0,
             "ticks": ""
            },
            "type": "contourcarpet"
           }
          ],
          "heatmap": [
           {
            "colorbar": {
             "outlinewidth": 0,
             "ticks": ""
            },
            "colorscale": [
             [
              0,
              "#0d0887"
             ],
             [
              0.1111111111111111,
              "#46039f"
             ],
             [
              0.2222222222222222,
              "#7201a8"
             ],
             [
              0.3333333333333333,
              "#9c179e"
             ],
             [
              0.4444444444444444,
              "#bd3786"
             ],
             [
              0.5555555555555556,
              "#d8576b"
             ],
             [
              0.6666666666666666,
              "#ed7953"
             ],
             [
              0.7777777777777778,
              "#fb9f3a"
             ],
             [
              0.8888888888888888,
              "#fdca26"
             ],
             [
              1,
              "#f0f921"
             ]
            ],
            "type": "heatmap"
           }
          ],
          "heatmapgl": [
           {
            "colorbar": {
             "outlinewidth": 0,
             "ticks": ""
            },
            "colorscale": [
             [
              0,
              "#0d0887"
             ],
             [
              0.1111111111111111,
              "#46039f"
             ],
             [
              0.2222222222222222,
              "#7201a8"
             ],
             [
              0.3333333333333333,
              "#9c179e"
             ],
             [
              0.4444444444444444,
              "#bd3786"
             ],
             [
              0.5555555555555556,
              "#d8576b"
             ],
             [
              0.6666666666666666,
              "#ed7953"
             ],
             [
              0.7777777777777778,
              "#fb9f3a"
             ],
             [
              0.8888888888888888,
              "#fdca26"
             ],
             [
              1,
              "#f0f921"
             ]
            ],
            "type": "heatmapgl"
           }
          ],
          "histogram": [
           {
            "marker": {
             "pattern": {
              "fillmode": "overlay",
              "size": 10,
              "solidity": 0.2
             }
            },
            "type": "histogram"
           }
          ],
          "histogram2d": [
           {
            "colorbar": {
             "outlinewidth": 0,
             "ticks": ""
            },
            "colorscale": [
             [
              0,
              "#0d0887"
             ],
             [
              0.1111111111111111,
              "#46039f"
             ],
             [
              0.2222222222222222,
              "#7201a8"
             ],
             [
              0.3333333333333333,
              "#9c179e"
             ],
             [
              0.4444444444444444,
              "#bd3786"
             ],
             [
              0.5555555555555556,
              "#d8576b"
             ],
             [
              0.6666666666666666,
              "#ed7953"
             ],
             [
              0.7777777777777778,
              "#fb9f3a"
             ],
             [
              0.8888888888888888,
              "#fdca26"
             ],
             [
              1,
              "#f0f921"
             ]
            ],
            "type": "histogram2d"
           }
          ],
          "histogram2dcontour": [
           {
            "colorbar": {
             "outlinewidth": 0,
             "ticks": ""
            },
            "colorscale": [
             [
              0,
              "#0d0887"
             ],
             [
              0.1111111111111111,
              "#46039f"
             ],
             [
              0.2222222222222222,
              "#7201a8"
             ],
             [
              0.3333333333333333,
              "#9c179e"
             ],
             [
              0.4444444444444444,
              "#bd3786"
             ],
             [
              0.5555555555555556,
              "#d8576b"
             ],
             [
              0.6666666666666666,
              "#ed7953"
             ],
             [
              0.7777777777777778,
              "#fb9f3a"
             ],
             [
              0.8888888888888888,
              "#fdca26"
             ],
             [
              1,
              "#f0f921"
             ]
            ],
            "type": "histogram2dcontour"
           }
          ],
          "mesh3d": [
           {
            "colorbar": {
             "outlinewidth": 0,
             "ticks": ""
            },
            "type": "mesh3d"
           }
          ],
          "parcoords": [
           {
            "line": {
             "colorbar": {
              "outlinewidth": 0,
              "ticks": ""
             }
            },
            "type": "parcoords"
           }
          ],
          "pie": [
           {
            "automargin": true,
            "type": "pie"
           }
          ],
          "scatter": [
           {
            "fillpattern": {
             "fillmode": "overlay",
             "size": 10,
             "solidity": 0.2
            },
            "type": "scatter"
           }
          ],
          "scatter3d": [
           {
            "line": {
             "colorbar": {
              "outlinewidth": 0,
              "ticks": ""
             }
            },
            "marker": {
             "colorbar": {
              "outlinewidth": 0,
              "ticks": ""
             }
            },
            "type": "scatter3d"
           }
          ],
          "scattercarpet": [
           {
            "marker": {
             "colorbar": {
              "outlinewidth": 0,
              "ticks": ""
             }
            },
            "type": "scattercarpet"
           }
          ],
          "scattergeo": [
           {
            "marker": {
             "colorbar": {
              "outlinewidth": 0,
              "ticks": ""
             }
            },
            "type": "scattergeo"
           }
          ],
          "scattergl": [
           {
            "marker": {
             "colorbar": {
              "outlinewidth": 0,
              "ticks": ""
             }
            },
            "type": "scattergl"
           }
          ],
          "scattermapbox": [
           {
            "marker": {
             "colorbar": {
              "outlinewidth": 0,
              "ticks": ""
             }
            },
            "type": "scattermapbox"
           }
          ],
          "scatterpolar": [
           {
            "marker": {
             "colorbar": {
              "outlinewidth": 0,
              "ticks": ""
             }
            },
            "type": "scatterpolar"
           }
          ],
          "scatterpolargl": [
           {
            "marker": {
             "colorbar": {
              "outlinewidth": 0,
              "ticks": ""
             }
            },
            "type": "scatterpolargl"
           }
          ],
          "scatterternary": [
           {
            "marker": {
             "colorbar": {
              "outlinewidth": 0,
              "ticks": ""
             }
            },
            "type": "scatterternary"
           }
          ],
          "surface": [
           {
            "colorbar": {
             "outlinewidth": 0,
             "ticks": ""
            },
            "colorscale": [
             [
              0,
              "#0d0887"
             ],
             [
              0.1111111111111111,
              "#46039f"
             ],
             [
              0.2222222222222222,
              "#7201a8"
             ],
             [
              0.3333333333333333,
              "#9c179e"
             ],
             [
              0.4444444444444444,
              "#bd3786"
             ],
             [
              0.5555555555555556,
              "#d8576b"
             ],
             [
              0.6666666666666666,
              "#ed7953"
             ],
             [
              0.7777777777777778,
              "#fb9f3a"
             ],
             [
              0.8888888888888888,
              "#fdca26"
             ],
             [
              1,
              "#f0f921"
             ]
            ],
            "type": "surface"
           }
          ],
          "table": [
           {
            "cells": {
             "fill": {
              "color": "#EBF0F8"
             },
             "line": {
              "color": "white"
             }
            },
            "header": {
             "fill": {
              "color": "#C8D4E3"
             },
             "line": {
              "color": "white"
             }
            },
            "type": "table"
           }
          ]
         },
         "layout": {
          "annotationdefaults": {
           "arrowcolor": "#2a3f5f",
           "arrowhead": 0,
           "arrowwidth": 1
          },
          "autotypenumbers": "strict",
          "coloraxis": {
           "colorbar": {
            "outlinewidth": 0,
            "ticks": ""
           }
          },
          "colorscale": {
           "diverging": [
            [
             0,
             "#8e0152"
            ],
            [
             0.1,
             "#c51b7d"
            ],
            [
             0.2,
             "#de77ae"
            ],
            [
             0.3,
             "#f1b6da"
            ],
            [
             0.4,
             "#fde0ef"
            ],
            [
             0.5,
             "#f7f7f7"
            ],
            [
             0.6,
             "#e6f5d0"
            ],
            [
             0.7,
             "#b8e186"
            ],
            [
             0.8,
             "#7fbc41"
            ],
            [
             0.9,
             "#4d9221"
            ],
            [
             1,
             "#276419"
            ]
           ],
           "sequential": [
            [
             0,
             "#0d0887"
            ],
            [
             0.1111111111111111,
             "#46039f"
            ],
            [
             0.2222222222222222,
             "#7201a8"
            ],
            [
             0.3333333333333333,
             "#9c179e"
            ],
            [
             0.4444444444444444,
             "#bd3786"
            ],
            [
             0.5555555555555556,
             "#d8576b"
            ],
            [
             0.6666666666666666,
             "#ed7953"
            ],
            [
             0.7777777777777778,
             "#fb9f3a"
            ],
            [
             0.8888888888888888,
             "#fdca26"
            ],
            [
             1,
             "#f0f921"
            ]
           ],
           "sequentialminus": [
            [
             0,
             "#0d0887"
            ],
            [
             0.1111111111111111,
             "#46039f"
            ],
            [
             0.2222222222222222,
             "#7201a8"
            ],
            [
             0.3333333333333333,
             "#9c179e"
            ],
            [
             0.4444444444444444,
             "#bd3786"
            ],
            [
             0.5555555555555556,
             "#d8576b"
            ],
            [
             0.6666666666666666,
             "#ed7953"
            ],
            [
             0.7777777777777778,
             "#fb9f3a"
            ],
            [
             0.8888888888888888,
             "#fdca26"
            ],
            [
             1,
             "#f0f921"
            ]
           ]
          },
          "colorway": [
           "#636efa",
           "#EF553B",
           "#00cc96",
           "#ab63fa",
           "#FFA15A",
           "#19d3f3",
           "#FF6692",
           "#B6E880",
           "#FF97FF",
           "#FECB52"
          ],
          "font": {
           "color": "#2a3f5f"
          },
          "geo": {
           "bgcolor": "white",
           "lakecolor": "white",
           "landcolor": "#E5ECF6",
           "showlakes": true,
           "showland": true,
           "subunitcolor": "white"
          },
          "hoverlabel": {
           "align": "left"
          },
          "hovermode": "closest",
          "mapbox": {
           "style": "light"
          },
          "paper_bgcolor": "white",
          "plot_bgcolor": "#E5ECF6",
          "polar": {
           "angularaxis": {
            "gridcolor": "white",
            "linecolor": "white",
            "ticks": ""
           },
           "bgcolor": "#E5ECF6",
           "radialaxis": {
            "gridcolor": "white",
            "linecolor": "white",
            "ticks": ""
           }
          },
          "scene": {
           "xaxis": {
            "backgroundcolor": "#E5ECF6",
            "gridcolor": "white",
            "gridwidth": 2,
            "linecolor": "white",
            "showbackground": true,
            "ticks": "",
            "zerolinecolor": "white"
           },
           "yaxis": {
            "backgroundcolor": "#E5ECF6",
            "gridcolor": "white",
            "gridwidth": 2,
            "linecolor": "white",
            "showbackground": true,
            "ticks": "",
            "zerolinecolor": "white"
           },
           "zaxis": {
            "backgroundcolor": "#E5ECF6",
            "gridcolor": "white",
            "gridwidth": 2,
            "linecolor": "white",
            "showbackground": true,
            "ticks": "",
            "zerolinecolor": "white"
           }
          },
          "shapedefaults": {
           "line": {
            "color": "#2a3f5f"
           }
          },
          "ternary": {
           "aaxis": {
            "gridcolor": "white",
            "linecolor": "white",
            "ticks": ""
           },
           "baxis": {
            "gridcolor": "white",
            "linecolor": "white",
            "ticks": ""
           },
           "bgcolor": "#E5ECF6",
           "caxis": {
            "gridcolor": "white",
            "linecolor": "white",
            "ticks": ""
           }
          },
          "title": {
           "x": 0.05
          },
          "xaxis": {
           "automargin": true,
           "gridcolor": "white",
           "linecolor": "white",
           "ticks": "",
           "title": {
            "standoff": 15
           },
           "zerolinecolor": "white",
           "zerolinewidth": 2
          },
          "yaxis": {
           "automargin": true,
           "gridcolor": "white",
           "linecolor": "white",
           "ticks": "",
           "title": {
            "standoff": 15
           },
           "zerolinecolor": "white",
           "zerolinewidth": 2
          }
         }
        },
        "title": {
         "font": {
          "size": 20
         }
        },
        "width": 1500,
        "xaxis": {
         "anchor": "y",
         "domain": [
          0,
          1
         ],
         "tickangle": -45,
         "title": {
          "text": "Load [kg]"
         }
        },
        "yaxis": {
         "anchor": "x",
         "domain": [
          0,
          1
         ],
         "tickfont": {
          "size": 30
         },
         "title": {
          "text": "Performance [15L.km.hr⁻¹]"
         }
        }
       }
      }
     },
     "metadata": {},
     "output_type": "display_data"
    },
    {
     "name": "stderr",
     "output_type": "stream",
     "text": [
      "/home/james/Documents/GitHub/water_access/src/mobility_module.py:1323: FutureWarning:\n",
      "\n",
      "The frame.append method is deprecated and will be removed from pandas in a future version. Use pandas.concat instead.\n",
      "\n",
      "/home/james/Documents/GitHub/water_access/src/mobility_module.py:1323: FutureWarning:\n",
      "\n",
      "The frame.append method is deprecated and will be removed from pandas in a future version. Use pandas.concat instead.\n",
      "\n",
      "/home/james/Documents/GitHub/water_access/src/mobility_module.py:1323: FutureWarning:\n",
      "\n",
      "The frame.append method is deprecated and will be removed from pandas in a future version. Use pandas.concat instead.\n",
      "\n",
      "/home/james/Documents/GitHub/water_access/src/mobility_module.py:1323: FutureWarning:\n",
      "\n",
      "The frame.append method is deprecated and will be removed from pandas in a future version. Use pandas.concat instead.\n",
      "\n",
      "/home/james/Documents/GitHub/water_access/src/mobility_module.py:1323: FutureWarning:\n",
      "\n",
      "The frame.append method is deprecated and will be removed from pandas in a future version. Use pandas.concat instead.\n",
      "\n",
      "/home/james/Documents/GitHub/water_access/src/mobility_module.py:1323: FutureWarning:\n",
      "\n",
      "The frame.append method is deprecated and will be removed from pandas in a future version. Use pandas.concat instead.\n",
      "\n",
      "/home/james/Documents/GitHub/water_access/src/mobility_module.py:1323: FutureWarning:\n",
      "\n",
      "The frame.append method is deprecated and will be removed from pandas in a future version. Use pandas.concat instead.\n",
      "\n",
      "/home/james/Documents/GitHub/water_access/src/mobility_module.py:1323: FutureWarning:\n",
      "\n",
      "The frame.append method is deprecated and will be removed from pandas in a future version. Use pandas.concat instead.\n",
      "\n",
      "/home/james/Documents/GitHub/water_access/src/mobility_module.py:1323: FutureWarning:\n",
      "\n",
      "The frame.append method is deprecated and will be removed from pandas in a future version. Use pandas.concat instead.\n",
      "\n",
      "/home/james/Documents/GitHub/water_access/src/mobility_module.py:1323: FutureWarning:\n",
      "\n",
      "The frame.append method is deprecated and will be removed from pandas in a future version. Use pandas.concat instead.\n",
      "\n",
      "/home/james/Documents/GitHub/water_access/src/mobility_module.py:1323: FutureWarning:\n",
      "\n",
      "The frame.append method is deprecated and will be removed from pandas in a future version. Use pandas.concat instead.\n",
      "\n"
     ]
    },
    {
     "data": {
      "application/vnd.plotly.v1+json": {
       "config": {
        "plotlyServerURL": "https://plot.ly"
       },
       "data": [
        {
         "customdata": [
          [
           0.5393856237000672,
           1.0787712474001343,
           1.2,
           7.767152981280968,
           15.534305962561936,
           20,
           0,
           8,
           0.3862419096456674
          ],
          [
           0.4492679001906854,
           0.8985358003813708,
           1.2,
           6.46945776274587,
           12.93891552549174,
           30,
           0,
           8,
           0.30914491961241714
          ],
          [
           0.9018052163114686,
           1.8036104326229372,
           4.3,
           12.98599511488515,
           25.9719902297703,
           68,
           0,
           8,
           0.06794650185607083
          ],
          [
           0.47571766860138304,
           0.9514353372027661,
           1.2,
           6.8503344278599165,
           13.700668855719833,
           20,
           0,
           8,
           0.43793482370717146
          ],
          [
           0.7649916364553885,
           1.529983272910777,
           4.3,
           11.015879564957595,
           22.03175912991519,
           124,
           0,
           8,
           0.04392486000674591
          ],
          [
           0.5059781770555324,
           1.0119563541110648,
           1.2,
           7.286085749599666,
           14.572171499199332,
           100,
           0,
           8,
           0.08234874260613348
          ],
          [
           0.5103421715608597,
           1.0206843431217194,
           1.2,
           7.34892727047638,
           14.69785454095276,
           114,
           0,
           8,
           0.07161804302896126
          ],
          [
           0.5412469590318153,
           1.0824939180636306,
           1.2,
           7.79395621005814,
           15.58791242011628,
           20,
           0,
           8,
           0.384913632967104
          ],
          [
           0.712127297747693,
           1.424254595495386,
           3.6,
           10.254633087566779,
           20.509266175133558,
           41,
           0,
           8,
           0.14270765434997934
          ],
          [
           0.5362978663136595,
           1.072595732627319,
           1.2,
           7.722689274916696,
           15.445378549833393,
           158,
           0,
           8,
           0.0491728751377394
          ],
          [
           0.7143203843171677,
           1.4286407686343354,
           4,
           10.286213534167215,
           20.57242706833443,
           38,
           0,
           8,
           0.15350132127593305
          ],
          [
           0.4847609767317988,
           0.9695219534635976,
           1.2,
           6.980558064937902,
           13.961116129875805,
           195,
           0,
           8,
           0.044078468344499744
          ],
          [
           0.7018381959820355,
           1.403676391964071,
           4,
           10.10647002214131,
           20.21294004428262,
           61,
           0,
           8,
           0.09732444218625876
          ],
          [
           0.29065655331061385,
           0.5813131066212277,
           1.2,
           4.18545436767284,
           8.37090873534568,
           120,
           0,
           8,
           0.1194613430412349
          ],
          [
           0.49637733628698444,
           0.9927546725739689,
           1.2,
           7.147833642532576,
           14.295667285065152,
           150,
           0,
           8,
           0.055961011406285954
          ],
          [
           0.5178536976567932,
           1.0357073953135865,
           1.2,
           7.457093246257822,
           14.914186492515643,
           83,
           0,
           8,
           0.0969401269895381
          ],
          [
           0.519508435383242,
           1.039016870766484,
           1.2,
           7.480921469518684,
           14.961842939037368,
           20,
           1,
           8,
           0.40102011660242937
          ],
          [
           0.4354358704631071,
           0.8708717409262142,
           1.2,
           6.270276534668743,
           12.540553069337486,
           30,
           1,
           8,
           0.3189651985748758
          ],
          [
           0.6689757181400878,
           1.3379514362801757,
           4.3,
           9.633250341217265,
           19.26650068243453,
           68,
           1,
           8,
           0.09159452001378963
          ],
          [
           0.4652461120915915,
           0.930492224183183,
           1.2,
           6.699544014118917,
           13.399088028237834,
           20,
           1,
           8,
           0.4477916696535864
          ],
          [
           0.49647016663820054,
           0.9929403332764011,
           4.3,
           7.149170399590088,
           14.298340799180176,
           124,
           1,
           8,
           0.06768211424498696
          ],
          [
           0.42495110538036207,
           0.8499022107607241,
           1.2,
           6.1192959174772135,
           12.238591834954427,
           100,
           1,
           8,
           0.09805049601970556
          ],
          [
           0.4364126159892994,
           0.8728252319785988,
           1.2,
           6.284341670245912,
           12.568683340491823,
           114,
           1,
           8,
           0.0837503460331572
          ],
          [
           0.5252266354850454,
           1.050453270970091,
           1.2,
           7.563263550984654,
           15.126527101969309,
           20,
           1,
           8,
           0.39665416652173024
          ],
          [
           0.5921192652295535,
           1.184238530459107,
           3.6,
           8.52651741930557,
           17.05303483861114,
           41,
           1,
           8,
           0.17163099096389664
          ],
          [
           0.4397024778206898,
           0.8794049556413795,
           1.2,
           6.331715680617933,
           12.663431361235865,
           158,
           1,
           8,
           0.05997534548266028
          ],
          [
           0.5977591502581295,
           1.195518300516259,
           4,
           8.607731763717066,
           17.21546352743413,
           38,
           1,
           8,
           0.18343361663249808
          ],
          [
           0.37309075360098254,
           0.7461815072019651,
           1.2,
           5.372506851854149,
           10.745013703708297,
           195,
           1,
           8,
           0.0572716454677238
          ],
          [
           0.5663069653172749,
           1.1326139306345497,
           4,
           8.15482030056876,
           16.30964060113752,
           61,
           1,
           8,
           0.12061658272328175
          ],
          [
           0.2616089051512473,
           0.5232178103024946,
           1.2,
           3.767168234177961,
           7.534336468355922,
           120,
           1,
           8,
           0.1327256891432951
          ],
          [
           0.4006921086008376,
           0.8013842172016752,
           1.2,
           5.7699663638520615,
           11.539932727704123,
           150,
           1,
           8,
           0.06932449424765065
          ],
          [
           0.45677516261928164,
           0.9135503252385633,
           1.2,
           6.577562341717655,
           13.15512468343531,
           83,
           1,
           8,
           0.10990265522535288
          ],
          [
           0.5004219568867346,
           1.0008439137734693,
           1.2,
           7.206076179168979,
           14.412152358337957,
           20,
           2,
           8,
           0.41631533242352803
          ],
          [
           0.42205461260800875,
           0.8441092252160175,
           1.2,
           6.077586421555326,
           12.155172843110652,
           30,
           2,
           8,
           0.32907800256144715
          ],
          [
           0.5097772879393094,
           1.0195545758786189,
           4.3,
           7.340792946326056,
           14.681585892652112,
           68,
           2,
           8,
           0.12019858721367062
          ],
          [
           0.4550193075298781,
           0.9100386150597563,
           1.2,
           6.552278028430245,
           13.10455605686049,
           20,
           2,
           8,
           0.4578560291524628
          ],
          [
           0.35020102690841604,
           0.7004020538168321,
           4.3,
           5.042894787481191,
           10.085789574962382,
           124,
           2,
           8,
           0.09595103370848192
          ],
          [
           0.35954908325421225,
           0.7190981665084245,
           1.2,
           5.177506798860657,
           10.355013597721314,
           100,
           2,
           8,
           0.1158858932125466
          ],
          [
           0.3752262461074754,
           0.7504524922149508,
           1.2,
           5.403257943947645,
           10.80651588789529,
           114,
           2,
           8,
           0.0974071189888735
          ],
          [
           0.5097166961656363,
           1.0194333923312726,
           1.2,
           7.339920424785163,
           14.679840849570326,
           20,
           2,
           8,
           0.40872377715018743
          ],
          [
           0.4966152145783274,
           0.9932304291566548,
           3.6,
           7.1512590899279145,
           14.302518179855829,
           41,
           2,
           8,
           0.20463733948717733
          ],
          [
           0.3635100034481419,
           0.7270200068962838,
           1.2,
           5.234544049653243,
           10.469088099306486,
           158,
           2,
           8,
           0.07254630619990558
          ],
          [
           0.504153786744089,
           1.008307573488178,
           4,
           7.259814529114881,
           14.519629058229762,
           38,
           2,
           8,
           0.2174914196621437
          ],
          [
           0.29376226748188755,
           0.5875245349637751,
           1.2,
           4.230176651739181,
           8.460353303478362,
           195,
           2,
           8,
           0.07273746063673348
          ],
          [
           0.46301493877841765,
           0.9260298775568353,
           4,
           6.667415118409214,
           13.334830236818428,
           61,
           2,
           8,
           0.14752442137002097
          ],
          [
           0.23575624249678687,
           0.47151248499357373,
           1.2,
           3.394889891953731,
           6.789779783907462,
           120,
           2,
           8,
           0.1472801816592214
          ],
          [
           0.32772267372460967,
           0.6554453474492193,
           1.2,
           4.719206501634378,
           9.438413003268757,
           150,
           2,
           8,
           0.08476001206166123
          ],
          [
           0.4040724793082416,
           0.8081449586164832,
           1.2,
           5.818643702038679,
           11.637287404077359,
           83,
           2,
           8,
           0.12423712522761629
          ],
          [
           0.4821337826705843,
           0.9642675653411686,
           1.2,
           6.942726470456414,
           13.885452940912828,
           20,
           3,
           8,
           0.43210689817119935
          ],
          [
           0.40913259279187725,
           0.8182651855837545,
           1.2,
           5.891509336203032,
           11.783018672406063,
           30,
           3,
           8,
           0.33947158289474305
          ],
          [
           0.4024651213072488,
           0.8049302426144976,
           4.3,
           5.795497746824383,
           11.590995493648766,
           68,
           3,
           8,
           0.1522480000376071
          ],
          [
           0.44504507224817513,
           0.8900901444963503,
           1.2,
           6.408649040373723,
           12.817298080747445,
           20,
           3,
           8,
           0.46811738029346883
          ],
          [
           0.26572971972364806,
           0.5314594394472961,
           4.3,
           3.826507964020532,
           7.653015928041064,
           124,
           3,
           8,
           0.12645236134136506
          ],
          [
           0.30747452277360693,
           0.6149490455472139,
           1.2,
           4.42763312793994,
           8.85526625587988,
           100,
           3,
           8,
           0.1355125826062206
          ],
          [
           0.32523088968287966,
           0.6504617793657593,
           1.2,
           4.683324811433468,
           9.366649622866936,
           114,
           3,
           8,
           0.11238080010781698
          ],
          [
           0.4947264251538284,
           0.9894528503076568,
           1.2,
           7.124060522215129,
           14.248121044430258,
           20,
           3,
           8,
           0.42110815743985164
          ],
          [
           0.42165928961364246,
           0.8433185792272849,
           3.6,
           6.071893770436452,
           12.143787540872903,
           41,
           3,
           8,
           0.24101453178769136
          ],
          [
           0.3045512177526841,
           0.6091024355053682,
           1.2,
           4.385537535638651,
           8.771075071277302,
           158,
           3,
           8,
           0.08659071604268842
          ],
          [
           0.4300099122502578,
           0.8600198245005156,
           4,
           6.192142736403713,
           12.384285472807425,
           38,
           3,
           8,
           0.25499208200392315
          ],
          [
           0.23787833703952654,
           0.4757566740790531,
           1.2,
           3.4254480533691827,
           6.850896106738365,
           195,
           3,
           8,
           0.08982541930235066
          ],
          [
           0.3853397725312246,
           0.7706795450624492,
           4,
           5.548892724449633,
           11.097785448899266,
           61,
           3,
           8,
           0.17726177207266305
          ],
          [
           0.2129606641385231,
           0.4259213282770462,
           1.2,
           3.0666335635947326,
           6.133267127189465,
           120,
           3,
           8,
           0.16304523824942946
          ],
          [
           0.27281713726843543,
           0.5456342745368709,
           1.2,
           3.92856677666547,
           7.85713355333094,
           150,
           3,
           8,
           0.10181830238342447
          ],
          [
           0.3590663400685477,
           0.7181326801370954,
           1.2,
           5.170555296987087,
           10.341110593974173,
           83,
           3,
           8,
           0.13980927090873457
          ],
          [
           0.4646456509881821,
           0.9292913019763642,
           1.2,
           6.690897374229822,
           13.381794748459644,
           20,
           4,
           8,
           0.4483703503740147
          ],
          [
           0.3966753847491629,
           0.7933507694983258,
           1.2,
           5.712125540387946,
           11.424251080775893,
           30,
           4,
           8,
           0.3501323606876062
          ],
          [
           0.3286233463677314,
           0.6572466927354628,
           4.3,
           4.732176187695332,
           9.464352375390664,
           68,
           4,
           8,
           0.186458176149649
          ],
          [
           0.4353299595125159,
           0.8706599190250318,
           1.2,
           6.268751416980229,
           12.537502833960458,
           20,
           4,
           8,
           0.4785641989047245
          ],
          [
           0.21263904073376405,
           0.4252780814675281,
           4.3,
           3.062002186566202,
           6.124004373132404,
           124,
           4,
           8,
           0.15802437041514958
          ],
          [
           0.2661549494863019,
           0.5323098989726038,
           1.2,
           3.8326312726027476,
           7.665262545205495,
           100,
           4,
           8,
           0.15655041075541265
          ],
          [
           0.2845897402609257,
           0.5691794805218514,
           1.2,
           4.09809225975733,
           8.19618451951466,
           114,
           4,
           8,
           0.12842946329979654
          ],
          [
           0.480261969802912,
           0.960523939605824,
           1.2,
           6.915772365161932,
           13.831544730323865,
           20,
           4,
           8,
           0.43379102746534015
          ],
          [
           0.3629580210380272,
           0.7259160420760544,
           3.6,
           5.226595502947592,
           10.453191005895183,
           41,
           4,
           8,
           0.2799938570568612
          ],
          [
           0.2591322654764855,
           0.518264530952971,
           1.2,
           3.731504622861391,
           7.463009245722782,
           158,
           4,
           8,
           0.10176775157036806
          ],
          [
           0.37145870626422894,
           0.7429174125284579,
           4,
           5.349005370204897,
           10.698010740409794,
           38,
           4,
           8,
           0.29518522774647543
          ],
          [
           0.19788332941451303,
           0.39576665882902606,
           1.2,
           2.8495199435689877,
           5.6990398871379755,
           195,
           4,
           8,
           0.10798040153631175
          ],
          [
           0.32674152288755065,
           0.6534830457751013,
           4,
           4.70507792958073,
           9.41015585916146,
           61,
           4,
           8,
           0.20905212880601504
          ],
          [
           0.1930007719642611,
           0.3860015439285222,
           1.2,
           2.7792111162853597,
           5.558422232570719,
           120,
           4,
           8,
           0.17990716756641734
          ],
          [
           0.23137531041777518,
           0.46275062083555035,
           1.2,
           3.3318044700159626,
           6.663608940031925,
           150,
           4,
           8,
           0.12005506433517799
          ],
          [
           0.3208726137457693,
           0.6417452274915386,
           1.2,
           4.6205656379390785,
           9.241131275878157,
           83,
           4,
           8,
           0.15645088132272336
          ],
          [
           0.4479537658251831,
           0.8959075316503662,
           1.2,
           6.4505342278826365,
           12.901068455765273,
           20,
           5,
           8,
           0.4650777585261708
          ],
          [
           0.38468574873803396,
           0.7693714974760679,
           1.2,
           5.539474781827688,
           11.078949563655376,
           30,
           5,
           8,
           0.3610450591021776
          ],
          [
           0.27605274284492115,
           0.5521054856898423,
           4.3,
           3.975159496966864,
           7.950318993933728,
           68,
           5,
           8,
           0.22196667626788955
          ],
          [
           0.4258792566201873,
           0.8517585132403745,
           1.2,
           6.1326612953306965,
           12.265322590661393,
           20,
           5,
           8,
           0.4891840353688127
          ],
          [
           0.17675128864648462,
           0.35350257729296924,
           4.3,
           2.5452185565093783,
           5.090437113018757,
           124,
           5,
           8,
           0.19010979096645314
          ],
          [
           0.23323180344889788,
           0.46646360689779576,
           1.2,
           3.3585379696641295,
           6.717075939328259,
           100,
           5,
           8,
           0.1786491638383957
          ],
          [
           0.251516149554261,
           0.503032299108522,
           1.2,
           3.6218325535813585,
           7.243665107162717,
           114,
           5,
           8,
           0.14531753792793375
          ],
          [
           0.46632643124155465,
           0.9326528624831093,
           1.2,
           6.7151006098783865,
           13.430201219756773,
           20,
           5,
           8,
           0.4467542892189565
          ],
          [
           0.3167016192047064,
           0.6334032384094128,
           3.6,
           4.560503316547773,
           9.121006633095545,
           41,
           5,
           8,
           0.3208888433073485
          ],
          [
           0.22392439788808746,
           0.4478487957761749,
           1.2,
           3.2245113295884593,
           6.449022659176919,
           158,
           5,
           8,
           0.11776880172770385
          ],
          [
           0.3249948122843059,
           0.6499896245686118,
           4,
           4.679925296894004,
           9.359850593788009,
           38,
           5,
           8,
           0.3373873017735937
          ],
          [
           0.16850120675270502,
           0.33700241350541005,
           1.2,
           2.4264173772389523,
           4.852834754477905,
           195,
           5,
           8,
           0.12680930765606133
          ],
          [
           0.28194934943862504,
           0.5638986988772501,
           4,
           4.060070631916201,
           8.120141263832402,
           61,
           5,
           8,
           0.24226341030742707
          ],
          [
           0.1756031466357111,
           0.3512062932714222,
           1.2,
           2.52868531155424,
           5.05737062310848,
           120,
           5,
           8,
           0.1977312074837332
          ],
          [
           0.19968473834631173,
           0.39936947669262346,
           1.2,
           2.8754602321868887,
           5.7509204643737775,
           150,
           5,
           8,
           0.13910816624154315
          ],
          [
           0.28853907299063947,
           0.5770781459812789,
           1.2,
           4.154962651065209,
           8.309925302130418,
           83,
           5,
           8,
           0.17398268696343933
          ],
          [
           0.43204923010806845,
           0.8640984602161369,
           1.2,
           6.221508913556185,
           12.44301782711237,
           20,
           6,
           8,
           0.4821981358032346
          ],
          [
           0.3731637586146944,
           0.7463275172293888,
           1.2,
           5.373558124051599,
           10.747116248103199,
           30,
           6,
           8,
           0.3721928662217621
          ],
          [
           0.23728423718519745,
           0.4745684743703949,
           4.3,
           3.4168930154668433,
           6.833786030933687,
           68,
           6,
           8,
           0.2582325338201777
          ],
          [
           0.41669699909295954,
           0.8333939981859191,
           1.2,
           6.000436786938618,
           12.000873573877236,
           20,
           6,
           8,
           0.4999636037380171
          ],
          [
           0.15107574201595575,
           0.3021514840319115,
           4.3,
           2.1754906850297626,
           4.350981370059525,
           124,
           6,
           8,
           0.22241923216293416
          ],
          [
           0.2067650391646193,
           0.4135300783292386,
           1.2,
           2.977416563970518,
           5.954833127941036,
           100,
           6,
           8,
           0.20151698195695975
          ],
          [
           0.22445460911435453,
           0.44890921822870905,
           1.2,
           3.2321463712467047,
           6.464292742493409,
           114,
           6,
           8,
           0.16283785726903002
          ],
          [
           0.4529200036212794,
           0.9058400072425588,
           1.2,
           6.522048052146423,
           13.044096104292846,
           20,
           6,
           8,
           0.45997821175400455
          ],
          [
           0.2798506052659119,
           0.5597012105318238,
           3.6,
           4.0298487158291305,
           8.059697431658261,
           41,
           6,
           8,
           0.3631438144062557
          ],
          [
           0.1962933866218433,
           0.3925867732436866,
           1.2,
           2.8266247673545437,
           5.653249534709087,
           158,
           6,
           8,
           0.1343463907303287
          ],
          [
           0.2877668018321883,
           0.5755336036643766,
           4,
           4.14384194638351,
           8.28768389276702,
           38,
           6,
           8,
           0.38103465065772124
          ],
          [
           0.14630237618447234,
           0.2926047523689447,
           1.2,
           2.1067542170564018,
           4.2135084341128035,
           195,
           6,
           8,
           0.14605040550113216
          ],
          [
           0.24710553728732704,
           0.4942110745746541,
           4,
           3.5583197369375092,
           7.1166394738750185,
           61,
           6,
           8,
           0.2764244447081634
          ],
          [
           0.16047300617328436,
           0.3209460123465687,
           1.2,
           2.310811288895295,
           4.62162257779059,
           120,
           6,
           8,
           0.21637422424010647
          ],
          [
           0.1750251333959035,
           0.350050266791807,
           1.2,
           2.5203619209010104,
           5.040723841802021,
           150,
           6,
           8,
           0.15870736527276327
          ],
          [
           0.26114764859551615,
           0.5222952971910323,
           1.2,
           3.7605261397754326,
           7.521052279550865,
           83,
           6,
           8,
           0.19223149617788035
          ],
          [
           0.4169185650934892,
           0.8338371301869784,
           1.2,
           6.003627337346244,
           12.007254674692488,
           20,
           7,
           8,
           0.49969790452151486
          ],
          [
           0.3621069703557012,
           0.7242139407114024,
           1.2,
           5.214340373122097,
           10.428680746244194,
           30,
           7,
           8,
           0.3835576231864772
          ],
          [
           0.20777093231562957,
           0.41554186463125914,
           4.3,
           2.9919014253450658,
           5.9838028506901315,
           68,
           7,
           8,
           0.294913774131013
          ],
          [
           0.4077859998921672,
           0.8155719997843344,
           1.2,
           5.872118398447208,
           11.744236796894416,
           20,
           7,
           8,
           0.5108888813947117
          ],
          [
           0.13188416202865647,
           0.26376832405731293,
           4.3,
           1.899131933212653,
           3.798263866425306,
           124,
           7,
           8,
           0.2547853360158073
          ],
          [
           0.18524887873344045,
           0.3704977574668809,
           1.2,
           2.667583853761543,
           5.335167707523086,
           100,
           7,
           8,
           0.22492263894682965
          ],
          [
           0.2021349814403482,
           0.4042699628806964,
           1.2,
           2.9107437327410137,
           5.8214874654820274,
           114,
           7,
           8,
           0.1808183192335035
          ],
          [
           0.4400401551837707,
           0.8800803103675414,
           1.2,
           6.336578234646298,
           12.673156469292596,
           20,
           7,
           8,
           0.47344164135731803
          ],
          [
           0.2501075265456614,
           0.5002150530913227,
           3.6,
           3.6015483822575236,
           7.203096764515047,
           41,
           7,
           8,
           0.4063293002964029
          ],
          [
           0.1742833529651471,
           0.3485667059302942,
           1.2,
           2.5096802826981177,
           5.019360565396235,
           158,
           7,
           8,
           0.151312833774499
          ],
          [
           0.2575829191282197,
           0.5151658382564394,
           4,
           3.7091940354463637,
           7.4183880708927274,
           38,
           7,
           8,
           0.4256847588268707
          ],
          [
           0.1290858284603874,
           0.2581716569207748,
           1.2,
           1.858835929829579,
           3.717671859659158,
           195,
           7,
           8,
           0.1655295675936915
          ],
          [
           0.21949615563302124,
           0.4389923112660425,
           4,
           3.1607446411155062,
           6.3214892822310125,
           61,
           7,
           8,
           0.3111945661734665
          ],
          [
           0.14731856441867322,
           0.29463712883734644,
           1.2,
           2.121387327628894,
           4.242774655257788,
           120,
           7,
           8,
           0.23569481795616143
          ],
          [
           0.1554809601417208,
           0.3109619202834416,
           1.2,
           2.23892582604078,
           4.47785165208156,
           150,
           7,
           8,
           0.1786571021458727
          ],
          [
           0.23787329725379944,
           0.4757465945075989,
           1.2,
           3.425375480454712,
           6.850750960909424,
           83,
           7,
           8,
           0.21104009484212743
          ],
          [
           0.40254428872263937,
           0.8050885774452787,
           1.2,
           5.796637757606007,
           11.593275515212014,
           20,
           8,
           8,
           0.5175413964868818
          ],
          [
           0.35151062416828227,
           0.7030212483365645,
           1.2,
           5.061752988023264,
           10.123505976046529,
           30,
           8,
           8,
           0.3951200314855838
          ],
          [
           0.18468099616734895,
           0.3693619923346979,
           4.3,
           2.659406344809825,
           5.31881268961965,
           68,
           8,
           8,
           0.3317856794989214
          ],
          [
           0.3991478922439209,
           0.7982957844878418,
           1.2,
           5.747729648312461,
           11.495459296624922,
           20,
           8,
           8,
           0.5219452172530075
          ],
          [
           0.11703958371181969,
           0.23407916742363938,
           4.3,
           1.6853700054502034,
           3.370740010900407,
           124,
           8,
           8,
           0.2871007352552722
          ],
          [
           0.16754685766123842,
           0.33509371532247684,
           1.2,
           2.4126747503218335,
           4.825349500643667,
           100,
           8,
           8,
           0.24868664950381908
          ],
          [
           0.1835562015303511,
           0.3671124030607022,
           1.2,
           2.6432093020370564,
           5.286418604074113,
           114,
           8,
           8,
           0.19911998231394903
          ],
          [
           0.4276818431470292,
           0.8553636862940583,
           1.2,
           6.15861854131722,
           12.31723708263444,
           20,
           8,
           8,
           0.4871222303952524
          ],
          [
           0.22577616129608494,
           0.4515523225921699,
           3.6,
           3.251176722663623,
           6.502353445327246,
           41,
           8,
           8,
           0.4501184521730322
          ],
          [
           0.1564799741770374,
           0.3129599483540748,
           1.2,
           2.253311628149339,
           4.506623256298678,
           158,
           8,
           8,
           0.16852832546509636
          ],
          [
           0.23280234975288122,
           0.46560469950576244,
           4,
           3.3523538364414893,
           6.704707672882979,
           38,
           8,
           8,
           0.4709966326517308
          ],
          [
           0.1154203857265905,
           0.230840771453181,
           1.2,
           1.6620535544629031,
           3.3241071089258063,
           195,
           8,
           8,
           0.1851277937862473
          ],
          [
           0.19722964746855626,
           0.3944592949371125,
           4,
           2.84010692354721,
           5.68021384709442,
           61,
           8,
           8,
           0.3463272981809268
          ],
          [
           0.1358671769951423,
           0.2717343539902846,
           1.2,
           1.9564873487300491,
           3.9129746974600983,
           120,
           8,
           8,
           0.2555600476152063
          ],
          [
           0.13971614968262425,
           0.2794322993652485,
           1.2,
           2.011912555429789,
           4.023825110859578,
           150,
           8,
           8,
           0.19881579789363715
          ],
          [
           0.21800729285050716,
           0.4360145857010143,
           1.2,
           3.1393050170473034,
           6.278610034094607,
           83,
           8,
           8,
           0.23027121045567636
          ],
          [
           0.3889055257820039,
           0.7778110515640078,
           1.2,
           5.600239571260856,
           11.200479142521711,
           20,
           9,
           8,
           0.5356913685256094
          ],
          [
           0.3413678716744411,
           0.6827357433488822,
           1.2,
           4.915697352111952,
           9.831394704223904,
           30,
           9,
           8,
           0.40685987292133263
          ],
          [
           0.16619377222076134,
           0.3323875444415227,
           4.3,
           2.393190319978963,
           4.786380639957926,
           68,
           9,
           8,
           0.368693176556149
          ],
          [
           0.3907831843975896,
           0.7815663687951792,
           1.2,
           5.62727785532529,
           11.25455571065058,
           20,
           9,
           8,
           0.5331174463263788
          ],
          [
           0.10524020886392971,
           0.21048041772785941,
           4.3,
           1.5154590076405878,
           3.0309180152811757,
           124,
           9,
           8,
           0.31929004037877096
          ],
          [
           0.15280985886810441,
           0.30561971773620883,
           1.2,
           2.2004619677007033,
           4.400923935401407,
           100,
           9,
           8,
           0.27267001602711144
          ],
          [
           0.1679428169838006,
           0.3358856339676012,
           1.2,
           2.418376564566729,
           4.836753129133458,
           114,
           9,
           8,
           0.21763185981252586
          ],
          [
           0.41583775384269483,
           0.8316755076853897,
           1.2,
           5.9880636553348054,
           11.976127310669611,
           20,
           9,
           8,
           0.500996678171128
          ],
          [
           0.2056116659058072,
           0.4112233318116144,
           3.6,
           2.960807989043624,
           5.921615978087248,
           41,
           9,
           8,
           0.49426191754469084
          ],
          [
           0.14186635963768401,
           0.28373271927536803,
           1.2,
           2.04287557878265,
           4.0857511575653,
           158,
           9,
           8,
           0.18588838174340955
          ],
          [
           0.21220726654606709,
           0.42441453309213417,
           4,
           3.055784638263366,
           6.111569276526732,
           38,
           9,
           8,
           0.5167076726056142
          ],
          [
           0.1152037847736772,
           0.2304075695473544,
           1.2,
           1.6589345007409517,
           3.3178690014819034,
           173,
           9,
           8,
           0.20906238859560142
          ],
          [
           0.17897960630853527,
           0.35795921261707053,
           4,
           2.577306330842908,
           5.154612661685816,
           61,
           9,
           8,
           0.381641307285099
          ],
          [
           0.1258739879016689,
           0.2517479758033378,
           1.2,
           1.8125854257840321,
           3.6251708515680643,
           120,
           9,
           8,
           0.2758490677942671
          ],
          [
           0.1267932863501905,
           0.253586572700381,
           1.2,
           1.8258233234427432,
           3.6516466468854865,
           150,
           9,
           8,
           0.21907924762718356
          ],
          [
           0.2009578024993275,
           0.401915604998655,
           1.2,
           2.8937923559903163,
           5.7875847119806325,
           83,
           9,
           8,
           0.2498076839440927
          ],
          [
           0.37597862464528464,
           0.7519572492905693,
           1.2,
           5.414092194892099,
           10.828184389784198,
           20,
           10,
           8,
           0.5541095149488471
          ],
          [
           0.33167001952638175,
           0.6633400390527635,
           1.2,
           4.776048281179897,
           9.552096562359795,
           30,
           10,
           8,
           0.4187562357526902
          ],
          [
           0.15109965753683438,
           0.30219931507366876,
           4.3,
           2.1758350685304153,
           4.351670137060831,
           68,
           10,
           8,
           0.4055238165512343
          ],
          [
           0.38269132445458676,
           0.7653826489091735,
           1.2,
           5.51075507214605,
           11.0215101442921,
           20,
           10,
           8,
           0.5443900083971092
          ],
          [
           0.09565188502219266,
           0.1913037700443853,
           4.3,
           1.3773871443195744,
           2.754774288639149,
           124,
           10,
           8,
           0.35129627115909123
          ],
          [
           0.14040326452163185,
           0.2808065290432637,
           1.2,
           2.0218070091114986,
           4.043614018222997,
           100,
           10,
           8,
           0.2967642298676546
          ],
          [
           0.15469776977765434,
           0.3093955395553087,
           1.2,
           2.2276478847982224,
           4.455295769596445,
           114,
           10,
           8,
           0.23626525227139172
          ],
          [
           0.40449855946344976,
           0.8089971189268995,
           1.2,
           5.8247792562736755,
           11.649558512547351,
           20,
           10,
           8,
           0.515040977178457
          ],
          [
           0.18869702340559938,
           0.37739404681119876,
           3.6,
           2.7172371370406307,
           5.4344742740812615,
           41,
           10,
           8,
           0.5385671402018892
          ],
          [
           0.12970743495588397,
           0.25941486991176793,
           1.2,
           1.8677870633647289,
           3.7355741267294578,
           158,
           10,
           8,
           0.20331377323009306
          ],
          [
           0.19489237358403902,
           0.38978474716807804,
           4,
           2.8064501796101617,
           5.6129003592203235,
           38,
           10,
           8,
           0.5626137174615303
          ],
          [
           0.11574347189449606,
           0.23148694378899212,
           1.2,
           1.6667059952807433,
           3.3334119905614865,
           154,
           10,
           8,
           0.23376071767520273
          ],
          [
           0.16380340351515113,
           0.32760680703030226,
           4,
           2.3587690106181762,
           4.7175380212363525,
           61,
           10,
           8,
           0.4169999491044991
          ],
          [
           0.11712497906514656,
           0.23424995813029312,
           1.2,
           1.6865996985381104,
           3.373199397076221,
           120,
           10,
           8,
           0.296454458300558
          ],
          [
           0.11604589012197353,
           0.23209178024394705,
           1.2,
           1.6710608177564186,
           3.342121635512837,
           150,
           10,
           8,
           0.23936890611620204
          ],
          [
           0.1862388198597585,
           0.372477639719517,
           1.2,
           2.681839005980522,
           5.363678011961044,
           83,
           10,
           8,
           0.2695506943753918
          ],
          [
           0.36373775871137304,
           0.7274755174227461,
           1.2,
           5.237823725443771,
           10.475647450887543,
           20,
           11,
           8,
           0.5727569611453136
          ],
          [
           0.3224067811539492,
           0.6448135623078984,
           1.2,
           4.6426576486168685,
           9.285315297233737,
           30,
           11,
           8,
           0.43078774085266364
          ],
          [
           0.1385698364017467,
           0.2771396728034934,
           4.3,
           1.9954056441851526,
           3.9908112883703053,
           68,
           11,
           8,
           0.44219226488997415
          ],
          [
           0.37487077329899376,
           0.7497415465979875,
           1.2,
           5.3981391355055095,
           10.796278271011019,
           20,
           11,
           8,
           0.5557470685162442
          ],
          [
           0.0877171617819569,
           0.1754343235639138,
           4.3,
           1.2631271296601794,
           2.5262542593203587,
           124,
           11,
           8,
           0.3830738461552258
          ],
          [
           0.12984984921706338,
           0.25969969843412677,
           1.2,
           1.8698378287257127,
           3.7396756574514254,
           100,
           11,
           8,
           0.3208834428218289
          ],
          [
           0.14336098345765727,
           0.28672196691531454,
           1.2,
           2.0643981617902645,
           4.128796323580529,
           114,
           11,
           8,
           0.25494877839711816
          ],
          [
           0.39365318314455106,
           0.7873063662891021,
           1.2,
           5.668605837281536,
           11.337211674563072,
           20,
           11,
           8,
           0.5292306584926876
          ],
          [
           0.17435065517256998,
           0.34870131034513996,
           3.6,
           2.5106494344850074,
           5.021298868970015,
           41,
           11,
           8,
           0.5828829043376667
          ],
          [
           0.11946598999096228,
           0.23893197998192456,
           1.2,
           1.7203102558698566,
           3.4406205117397133,
           158,
           11,
           8,
           0.2207432259078308
          ],
          [
           0.18017986371643724,
           0.3603597274328745,
           4,
           2.594590037516696,
           5.189180075033392,
           38,
           11,
           8,
           0.6085537004267065
          ],
          [
           0.11652616681884405,
           0.2330523336376881,
           1.2,
           1.6779768021913544,
           3.3559536043827087,
           138,
           11,
           8,
           0.2591112154398366
          ],
          [
           0.15102008552380733,
           0.30204017104761466,
           4,
           2.1746892315428252,
           4.3493784630856505,
           61,
           11,
           8,
           0.4522975251407454
          ],
          [
           0.10943644397190229,
           0.21887288794380458,
           1.2,
           1.575884793195393,
           3.151769586390786,
           120,
           11,
           8,
           0.3172820768110587
          ],
          [
           0.1161933140285907,
           0.2323866280571814,
           1.2,
           1.673183722011706,
           3.346367444023412,
           135,
           11,
           8,
           0.2656279992433102
          ],
          [
           0.17345476920540195,
           0.3469095384108039,
           1.2,
           2.497748676557788,
           4.995497353115576,
           83,
           11,
           8,
           0.289417255246551
          ],
          [
           0.3521554948622393,
           0.7043109897244786,
           1.2,
           5.071039126016246,
           10.142078252032492,
           20,
           12,
           8,
           0.5915947255482463
          ],
          [
           0.31356652907171184,
           0.6271330581434237,
           1.2,
           4.515358018632651,
           9.030716037265302,
           30,
           12,
           8,
           0.442932762307438
          ],
          [
           0.12802030691578586,
           0.25604061383157173,
           4.3,
           1.8434924195873164,
           3.6869848391746327,
           68,
           12,
           8,
           0.47863117407013467
          ],
          [
           0.36731908363352817,
           0.7346381672670563,
           1.2,
           5.289394804322805,
           10.57878960864561,
           20,
           12,
           8,
           0.5671726371319878
          ],
          [
           0.08524949821562164,
           0.17049899643124328,
           4.3,
           1.2275927743049517,
           2.4551855486099035,
           113,
           12,
           8,
           0.4325322390627987
          ],
          [
           0.12078741673112449,
           0.24157483346224898,
           1.2,
           1.7393388009281925,
           3.478677601856385,
           100,
           12,
           8,
           0.34495867031760113
          ],
          [
           0.1335761997302689,
           0.2671523994605378,
           1.2,
           1.9234972761158722,
           3.8469945522317444,
           114,
           12,
           8,
           0.27362440072516053
          ],
          [
           0.3832890648244785,
           0.766578129648957,
           1.2,
           5.51936253347249,
           11.03872506694498,
           20,
           12,
           8,
           0.5435410306545961
          ],
          [
           0.16206014554041392,
           0.32412029108082785,
           3.6,
           2.3336660957819606,
           4.667332191563921,
           41,
           12,
           8,
           0.6270882697363709
          ],
          [
           0.11967873580598547,
           0.23935747161197093,
           1.2,
           1.7233737956061908,
           3.4467475912123815,
           145,
           12,
           8,
           0.24010641481450956
          ],
          [
           0.16755712949685253,
           0.33511425899370506,
           4,
           2.4128226647546764,
           4.825645329509353,
           38,
           12,
           8,
           0.6543984319633337
          ],
          [
           0.11702889914168514,
           0.23405779828337028,
           1.2,
           1.6852161476402658,
           3.3704322952805317,
           125,
           12,
           8,
           0.2848299315622645
          ],
          [
           0.14012921713470722,
           0.28025843426941444,
           4,
           2.017860726739784,
           4.035721453479568,
           61,
           12,
           8,
           0.48745017153202735
          ],
          [
           0.10975054792625276,
           0.21950109585250552,
           1.2,
           1.5804078901380396,
           3.1608157802760792,
           108,
           12,
           8,
           0.35152669068681436
          ],
          [
           0.11666531770781363,
           0.23333063541562726,
           1.2,
           1.6799805749925163,
           3.3599611499850326,
           122,
           12,
           8,
           0.29274343168564043
          ],
          [
           0.16228481254719127,
           0.32456962509438253,
           1.2,
           2.336901300679554,
           4.673802601359108,
           83,
           12,
           8,
           0.30933765412122827
          ]
         ],
         "hovertemplate": "Human-Powered Vehicle=%{x}<br>Performance [15L.km.hr⁻¹]=%{y}<br>Average Trip Velocity=%{customdata[0]}<br>Loaded Velocity=%{customdata[1]}<br>Unloaded Velocity=%{customdata[2]}<br>Distance to Water Achievable=%{customdata[3]}<br>Total Round trip Distance Achievable=%{customdata[4]}<br>Load=%{customdata[5]}<br>Slope=%{marker.color}<br>Hours Collecting Water Max=%{customdata[7]}<br>Hours Spent Collecting Single Person Water=%{customdata[8]}<extra></extra>",
         "legendgroup": "",
         "marker": {
          "color": [
           0,
           0,
           0,
           0,
           0,
           0,
           0,
           0,
           0,
           0,
           0,
           0,
           0,
           0,
           0,
           0,
           1,
           1,
           1,
           1,
           1,
           1,
           1,
           1,
           1,
           1,
           1,
           1,
           1,
           1,
           1,
           1,
           2,
           2,
           2,
           2,
           2,
           2,
           2,
           2,
           2,
           2,
           2,
           2,
           2,
           2,
           2,
           2,
           3,
           3,
           3,
           3,
           3,
           3,
           3,
           3,
           3,
           3,
           3,
           3,
           3,
           3,
           3,
           3,
           4,
           4,
           4,
           4,
           4,
           4,
           4,
           4,
           4,
           4,
           4,
           4,
           4,
           4,
           4,
           4,
           5,
           5,
           5,
           5,
           5,
           5,
           5,
           5,
           5,
           5,
           5,
           5,
           5,
           5,
           5,
           5,
           6,
           6,
           6,
           6,
           6,
           6,
           6,
           6,
           6,
           6,
           6,
           6,
           6,
           6,
           6,
           6,
           7,
           7,
           7,
           7,
           7,
           7,
           7,
           7,
           7,
           7,
           7,
           7,
           7,
           7,
           7,
           7,
           8,
           8,
           8,
           8,
           8,
           8,
           8,
           8,
           8,
           8,
           8,
           8,
           8,
           8,
           8,
           8,
           9,
           9,
           9,
           9,
           9,
           9,
           9,
           9,
           9,
           9,
           9,
           9,
           9,
           9,
           9,
           9,
           10,
           10,
           10,
           10,
           10,
           10,
           10,
           10,
           10,
           10,
           10,
           10,
           10,
           10,
           10,
           10,
           11,
           11,
           11,
           11,
           11,
           11,
           11,
           11,
           11,
           11,
           11,
           11,
           11,
           11,
           11,
           11,
           12,
           12,
           12,
           12,
           12,
           12,
           12,
           12,
           12,
           12,
           12,
           12,
           12,
           12,
           12,
           12
          ],
          "coloraxis": "coloraxis",
          "line": {
           "color": "rgba(0, 0, 0, 0.4)",
           "width": 1
          },
          "opacity": 0.7,
          "size": 15,
          "symbol": "circle"
         },
         "mode": "markers",
         "name": "",
         "orientation": "v",
         "showlegend": false,
         "type": "scatter",
         "x": [
          "Baby Carriage",
          "Backpack",
          "Bicycle",
          "Buckets",
          "Cycle Rickshaw",
          "Hand Cart",
          "Hand Truck",
          "Luggage",
          "Roller skates",
          "Rolling Container",
          "Scooter",
          "Shopping Trolley",
          "Skateboard",
          "Stretcher",
          "Wheelbarrow",
          "Wheelchair",
          "Baby Carriage",
          "Backpack",
          "Bicycle",
          "Buckets",
          "Cycle Rickshaw",
          "Hand Cart",
          "Hand Truck",
          "Luggage",
          "Roller skates",
          "Rolling Container",
          "Scooter",
          "Shopping Trolley",
          "Skateboard",
          "Stretcher",
          "Wheelbarrow",
          "Wheelchair",
          "Baby Carriage",
          "Backpack",
          "Bicycle",
          "Buckets",
          "Cycle Rickshaw",
          "Hand Cart",
          "Hand Truck",
          "Luggage",
          "Roller skates",
          "Rolling Container",
          "Scooter",
          "Shopping Trolley",
          "Skateboard",
          "Stretcher",
          "Wheelbarrow",
          "Wheelchair",
          "Baby Carriage",
          "Backpack",
          "Bicycle",
          "Buckets",
          "Cycle Rickshaw",
          "Hand Cart",
          "Hand Truck",
          "Luggage",
          "Roller skates",
          "Rolling Container",
          "Scooter",
          "Shopping Trolley",
          "Skateboard",
          "Stretcher",
          "Wheelbarrow",
          "Wheelchair",
          "Baby Carriage",
          "Backpack",
          "Bicycle",
          "Buckets",
          "Cycle Rickshaw",
          "Hand Cart",
          "Hand Truck",
          "Luggage",
          "Roller skates",
          "Rolling Container",
          "Scooter",
          "Shopping Trolley",
          "Skateboard",
          "Stretcher",
          "Wheelbarrow",
          "Wheelchair",
          "Baby Carriage",
          "Backpack",
          "Bicycle",
          "Buckets",
          "Cycle Rickshaw",
          "Hand Cart",
          "Hand Truck",
          "Luggage",
          "Roller skates",
          "Rolling Container",
          "Scooter",
          "Shopping Trolley",
          "Skateboard",
          "Stretcher",
          "Wheelbarrow",
          "Wheelchair",
          "Baby Carriage",
          "Backpack",
          "Bicycle",
          "Buckets",
          "Cycle Rickshaw",
          "Hand Cart",
          "Hand Truck",
          "Luggage",
          "Roller skates",
          "Rolling Container",
          "Scooter",
          "Shopping Trolley",
          "Skateboard",
          "Stretcher",
          "Wheelbarrow",
          "Wheelchair",
          "Baby Carriage",
          "Backpack",
          "Bicycle",
          "Buckets",
          "Cycle Rickshaw",
          "Hand Cart",
          "Hand Truck",
          "Luggage",
          "Roller skates",
          "Rolling Container",
          "Scooter",
          "Shopping Trolley",
          "Skateboard",
          "Stretcher",
          "Wheelbarrow",
          "Wheelchair",
          "Baby Carriage",
          "Backpack",
          "Bicycle",
          "Buckets",
          "Cycle Rickshaw",
          "Hand Cart",
          "Hand Truck",
          "Luggage",
          "Roller skates",
          "Rolling Container",
          "Scooter",
          "Shopping Trolley",
          "Skateboard",
          "Stretcher",
          "Wheelbarrow",
          "Wheelchair",
          "Baby Carriage",
          "Backpack",
          "Bicycle",
          "Buckets",
          "Cycle Rickshaw",
          "Hand Cart",
          "Hand Truck",
          "Luggage",
          "Roller skates",
          "Rolling Container",
          "Scooter",
          "Shopping Trolley",
          "Skateboard",
          "Stretcher",
          "Wheelbarrow",
          "Wheelchair",
          "Baby Carriage",
          "Backpack",
          "Bicycle",
          "Buckets",
          "Cycle Rickshaw",
          "Hand Cart",
          "Hand Truck",
          "Luggage",
          "Roller skates",
          "Rolling Container",
          "Scooter",
          "Shopping Trolley",
          "Skateboard",
          "Stretcher",
          "Wheelbarrow",
          "Wheelchair",
          "Baby Carriage",
          "Backpack",
          "Bicycle",
          "Buckets",
          "Cycle Rickshaw",
          "Hand Cart",
          "Hand Truck",
          "Luggage",
          "Roller skates",
          "Rolling Container",
          "Scooter",
          "Shopping Trolley",
          "Skateboard",
          "Stretcher",
          "Wheelbarrow",
          "Wheelchair",
          "Baby Carriage",
          "Backpack",
          "Bicycle",
          "Buckets",
          "Cycle Rickshaw",
          "Hand Cart",
          "Hand Truck",
          "Luggage",
          "Roller skates",
          "Rolling Container",
          "Scooter",
          "Shopping Trolley",
          "Skateboard",
          "Stretcher",
          "Wheelbarrow",
          "Wheelchair"
         ],
         "xaxis": "x",
         "y": [
          20.712407950082582,
          25.87783105098348,
          117.73968904162535,
          18.267558474293114,
          182.1292088072989,
          97.14780999466221,
          111.70369451124097,
          20.783883226821708,
          56.0586608786984,
          162.69132072491175,
          52.11681523978056,
          181.49450968838545,
          82.19928951341599,
          66.96726988276544,
          142.95667285065153,
          82.52516525858657,
          19.94912391871649,
          25.081106138674972,
          87.34146976036986,
          17.86545070431711,
          118.1996172732228,
          81.59061223302952,
          95.52199338773787,
          20.16870280262575,
          46.61162855887044,
          133.38814367168445,
          43.61250760283313,
          139.68517814820785,
          66.32587177795925,
          60.274691746847374,
          115.39932727704124,
          72.79168991500872,
          19.21620314445061,
          24.310345686221304,
          66.55652271335624,
          17.47274140914732,
          83.37586048635568,
          69.03342398480875,
          82.1295207480042,
          19.573121132760434,
          39.093549691605936,
          110.27439464602831,
          36.78306028084873,
          109.98459294521871,
          54.22830962972828,
          54.318238271259695,
          94.38413003268757,
          64.39299030256139,
          18.513937254550438,
          23.566037344812127,
          52.54584623787441,
          17.08973077432993,
          63.26493167180613,
          59.03510837253253,
          71.18653713378872,
          18.99749472590701,
          33.19301927838594,
          92.38865741745424,
          31.373523197778812,
          89.06164938759875,
          45.130994158857014,
          49.06613701751572,
          78.5713355333094,
          57.22081195332376,
          17.84239299794619,
          22.848502161551785,
          42.90506410177101,
          16.71667044528061,
          50.62510281789454,
          51.10175030136997,
          62.29100234831141,
          18.44205964043182,
          28.572055416113503,
          78.61036405494663,
          27.101627209038146,
          74.08751853279368,
          38.26796716058993,
          44.467377860565755,
          66.63608940031925,
          51.1342597265258,
          17.20142460768703,
          22.157899127310753,
          36.0414461058329,
          16.35376345421519,
          42.080946800955054,
          44.780506262188396,
          55.051854814436645,
          17.9069349596757,
          24.93075146379449,
          67.92970534333021,
          23.711621504262954,
          63.08685180821276,
          33.02190780625177,
          40.45896498486784,
          57.509204643737775,
          45.981586671788314,
          16.590690436149828,
          21.494232496206397,
          30.979830006899377,
          16.001164765169648,
          35.96811265915874,
          39.69888751960691,
          49.12862484294991,
          17.392128139057128,
          22.02983964653258,
          59.54756176560239,
          20.995465861676454,
          54.775609643466446,
          28.94100052709174,
          36.97298062232472,
          50.40723841802021,
          41.616489280181455,
          16.009672899589983,
          20.857361492488387,
          27.126572923128595,
          15.658982395859221,
          31.39898129578253,
          35.567784716820576,
          44.24330473766341,
          16.897541959056795,
          19.688464489674462,
          52.870597955507016,
          18.793249779594912,
          48.32973417556905,
          25.70738974773945,
          33.942197242062306,
          44.7785165208156,
          37.90748865036548,
          15.457700686949352,
          20.247011952093057,
          24.111950859609077,
          15.327279062166562,
          27.86478409011003,
          32.16899667095778,
          40.17678139096326,
          16.42298277684592,
          17.773099417227805,
          47.46976496634607,
          16.985259437970214,
          43.21339241603548,
          23.099536311517305,
          31.303797579680786,
          40.23825110859578,
          34.74164218865682,
          14.93397219002895,
          19.662789408447807,
          21.698258901142598,
          15.00607428086744,
          25.055588926324386,
          29.339492902676046,
          36.75932378141428,
          15.96816974755948,
          16.185750340105145,
          43.03657885968782,
          15.482642167201055,
          38.26608915042462,
          20.96209149085565,
          29.001366812544514,
          36.516466468854865,
          32.02463540629283,
          14.437579186378931,
          19.10419312471959,
          19.7275712880091,
          14.695346859056134,
          22.77280078608363,
          26.957426788153317,
          33.86024784893298,
          15.532744683396468,
          14.854229682488782,
          39.348047468216954,
          14.219347576691487,
          34.223029769764594,
          19.184654619694502,
          26.985595176609767,
          33.42121635512837,
          29.67901833285111,
          13.967529934516724,
          18.57063059446747,
          18.091677840612054,
          14.395037694681358,
          20.8837018770483,
          24.93117104967617,
          31.37885205921202,
          15.116282232750763,
          13.724883575184709,
          36.24120272365831,
          13.14592285675126,
          30.87477316032092,
          17.68747241654831,
          25.214156691126288,
          30.117306996210708,
          27.641752020572856,
          13.52277100270999,
          18.061432074530604,
          16.714331270925,
          14.10505281152748,
          18.495731132861273,
          23.1911840123759,
          29.237158596961258,
          14.718300089259973,
          12.757374656941384,
          33.31856004838635,
          12.22496816809036,
          28.086935794004432,
          16.41193391081691,
          22.757873617987773,
          27.327684019878266,
          25.861707727520397
         ],
         "yaxis": "y"
        }
       ],
       "layout": {
        "coloraxis": {
         "colorbar": {
          "title": {
           "side": "right",
           "text": "Slope [degrees]"
          }
         },
         "colorscale": [
          [
           0,
           "#440154"
          ],
          [
           0.125,
           "#482878"
          ],
          [
           0.25,
           "#3e4989"
          ],
          [
           0.375,
           "#31688e"
          ],
          [
           0.5,
           "#26828e"
          ],
          [
           0.625,
           "#1f9e89"
          ],
          [
           0.75,
           "#35b779"
          ],
          [
           0.875,
           "#6ece58"
          ],
          [
           1,
           "#b5de2b"
          ]
         ]
        },
        "font": {
         "size": 30
        },
        "height": 1000,
        "legend": {
         "tracegroupgap": 0
        },
        "margin": {
         "b": 290,
         "l": 170,
         "r": 30,
         "t": 30
        },
        "template": {
         "data": {
          "bar": [
           {
            "error_x": {
             "color": "#2a3f5f"
            },
            "error_y": {
             "color": "#2a3f5f"
            },
            "marker": {
             "line": {
              "color": "#E5ECF6",
              "width": 0.5
             },
             "pattern": {
              "fillmode": "overlay",
              "size": 10,
              "solidity": 0.2
             }
            },
            "type": "bar"
           }
          ],
          "barpolar": [
           {
            "marker": {
             "line": {
              "color": "#E5ECF6",
              "width": 0.5
             },
             "pattern": {
              "fillmode": "overlay",
              "size": 10,
              "solidity": 0.2
             }
            },
            "type": "barpolar"
           }
          ],
          "carpet": [
           {
            "aaxis": {
             "endlinecolor": "#2a3f5f",
             "gridcolor": "white",
             "linecolor": "white",
             "minorgridcolor": "white",
             "startlinecolor": "#2a3f5f"
            },
            "baxis": {
             "endlinecolor": "#2a3f5f",
             "gridcolor": "white",
             "linecolor": "white",
             "minorgridcolor": "white",
             "startlinecolor": "#2a3f5f"
            },
            "type": "carpet"
           }
          ],
          "choropleth": [
           {
            "colorbar": {
             "outlinewidth": 0,
             "ticks": ""
            },
            "type": "choropleth"
           }
          ],
          "contour": [
           {
            "colorbar": {
             "outlinewidth": 0,
             "ticks": ""
            },
            "colorscale": [
             [
              0,
              "#0d0887"
             ],
             [
              0.1111111111111111,
              "#46039f"
             ],
             [
              0.2222222222222222,
              "#7201a8"
             ],
             [
              0.3333333333333333,
              "#9c179e"
             ],
             [
              0.4444444444444444,
              "#bd3786"
             ],
             [
              0.5555555555555556,
              "#d8576b"
             ],
             [
              0.6666666666666666,
              "#ed7953"
             ],
             [
              0.7777777777777778,
              "#fb9f3a"
             ],
             [
              0.8888888888888888,
              "#fdca26"
             ],
             [
              1,
              "#f0f921"
             ]
            ],
            "type": "contour"
           }
          ],
          "contourcarpet": [
           {
            "colorbar": {
             "outlinewidth": 0,
             "ticks": ""
            },
            "type": "contourcarpet"
           }
          ],
          "heatmap": [
           {
            "colorbar": {
             "outlinewidth": 0,
             "ticks": ""
            },
            "colorscale": [
             [
              0,
              "#0d0887"
             ],
             [
              0.1111111111111111,
              "#46039f"
             ],
             [
              0.2222222222222222,
              "#7201a8"
             ],
             [
              0.3333333333333333,
              "#9c179e"
             ],
             [
              0.4444444444444444,
              "#bd3786"
             ],
             [
              0.5555555555555556,
              "#d8576b"
             ],
             [
              0.6666666666666666,
              "#ed7953"
             ],
             [
              0.7777777777777778,
              "#fb9f3a"
             ],
             [
              0.8888888888888888,
              "#fdca26"
             ],
             [
              1,
              "#f0f921"
             ]
            ],
            "type": "heatmap"
           }
          ],
          "heatmapgl": [
           {
            "colorbar": {
             "outlinewidth": 0,
             "ticks": ""
            },
            "colorscale": [
             [
              0,
              "#0d0887"
             ],
             [
              0.1111111111111111,
              "#46039f"
             ],
             [
              0.2222222222222222,
              "#7201a8"
             ],
             [
              0.3333333333333333,
              "#9c179e"
             ],
             [
              0.4444444444444444,
              "#bd3786"
             ],
             [
              0.5555555555555556,
              "#d8576b"
             ],
             [
              0.6666666666666666,
              "#ed7953"
             ],
             [
              0.7777777777777778,
              "#fb9f3a"
             ],
             [
              0.8888888888888888,
              "#fdca26"
             ],
             [
              1,
              "#f0f921"
             ]
            ],
            "type": "heatmapgl"
           }
          ],
          "histogram": [
           {
            "marker": {
             "pattern": {
              "fillmode": "overlay",
              "size": 10,
              "solidity": 0.2
             }
            },
            "type": "histogram"
           }
          ],
          "histogram2d": [
           {
            "colorbar": {
             "outlinewidth": 0,
             "ticks": ""
            },
            "colorscale": [
             [
              0,
              "#0d0887"
             ],
             [
              0.1111111111111111,
              "#46039f"
             ],
             [
              0.2222222222222222,
              "#7201a8"
             ],
             [
              0.3333333333333333,
              "#9c179e"
             ],
             [
              0.4444444444444444,
              "#bd3786"
             ],
             [
              0.5555555555555556,
              "#d8576b"
             ],
             [
              0.6666666666666666,
              "#ed7953"
             ],
             [
              0.7777777777777778,
              "#fb9f3a"
             ],
             [
              0.8888888888888888,
              "#fdca26"
             ],
             [
              1,
              "#f0f921"
             ]
            ],
            "type": "histogram2d"
           }
          ],
          "histogram2dcontour": [
           {
            "colorbar": {
             "outlinewidth": 0,
             "ticks": ""
            },
            "colorscale": [
             [
              0,
              "#0d0887"
             ],
             [
              0.1111111111111111,
              "#46039f"
             ],
             [
              0.2222222222222222,
              "#7201a8"
             ],
             [
              0.3333333333333333,
              "#9c179e"
             ],
             [
              0.4444444444444444,
              "#bd3786"
             ],
             [
              0.5555555555555556,
              "#d8576b"
             ],
             [
              0.6666666666666666,
              "#ed7953"
             ],
             [
              0.7777777777777778,
              "#fb9f3a"
             ],
             [
              0.8888888888888888,
              "#fdca26"
             ],
             [
              1,
              "#f0f921"
             ]
            ],
            "type": "histogram2dcontour"
           }
          ],
          "mesh3d": [
           {
            "colorbar": {
             "outlinewidth": 0,
             "ticks": ""
            },
            "type": "mesh3d"
           }
          ],
          "parcoords": [
           {
            "line": {
             "colorbar": {
              "outlinewidth": 0,
              "ticks": ""
             }
            },
            "type": "parcoords"
           }
          ],
          "pie": [
           {
            "automargin": true,
            "type": "pie"
           }
          ],
          "scatter": [
           {
            "fillpattern": {
             "fillmode": "overlay",
             "size": 10,
             "solidity": 0.2
            },
            "type": "scatter"
           }
          ],
          "scatter3d": [
           {
            "line": {
             "colorbar": {
              "outlinewidth": 0,
              "ticks": ""
             }
            },
            "marker": {
             "colorbar": {
              "outlinewidth": 0,
              "ticks": ""
             }
            },
            "type": "scatter3d"
           }
          ],
          "scattercarpet": [
           {
            "marker": {
             "colorbar": {
              "outlinewidth": 0,
              "ticks": ""
             }
            },
            "type": "scattercarpet"
           }
          ],
          "scattergeo": [
           {
            "marker": {
             "colorbar": {
              "outlinewidth": 0,
              "ticks": ""
             }
            },
            "type": "scattergeo"
           }
          ],
          "scattergl": [
           {
            "marker": {
             "colorbar": {
              "outlinewidth": 0,
              "ticks": ""
             }
            },
            "type": "scattergl"
           }
          ],
          "scattermapbox": [
           {
            "marker": {
             "colorbar": {
              "outlinewidth": 0,
              "ticks": ""
             }
            },
            "type": "scattermapbox"
           }
          ],
          "scatterpolar": [
           {
            "marker": {
             "colorbar": {
              "outlinewidth": 0,
              "ticks": ""
             }
            },
            "type": "scatterpolar"
           }
          ],
          "scatterpolargl": [
           {
            "marker": {
             "colorbar": {
              "outlinewidth": 0,
              "ticks": ""
             }
            },
            "type": "scatterpolargl"
           }
          ],
          "scatterternary": [
           {
            "marker": {
             "colorbar": {
              "outlinewidth": 0,
              "ticks": ""
             }
            },
            "type": "scatterternary"
           }
          ],
          "surface": [
           {
            "colorbar": {
             "outlinewidth": 0,
             "ticks": ""
            },
            "colorscale": [
             [
              0,
              "#0d0887"
             ],
             [
              0.1111111111111111,
              "#46039f"
             ],
             [
              0.2222222222222222,
              "#7201a8"
             ],
             [
              0.3333333333333333,
              "#9c179e"
             ],
             [
              0.4444444444444444,
              "#bd3786"
             ],
             [
              0.5555555555555556,
              "#d8576b"
             ],
             [
              0.6666666666666666,
              "#ed7953"
             ],
             [
              0.7777777777777778,
              "#fb9f3a"
             ],
             [
              0.8888888888888888,
              "#fdca26"
             ],
             [
              1,
              "#f0f921"
             ]
            ],
            "type": "surface"
           }
          ],
          "table": [
           {
            "cells": {
             "fill": {
              "color": "#EBF0F8"
             },
             "line": {
              "color": "white"
             }
            },
            "header": {
             "fill": {
              "color": "#C8D4E3"
             },
             "line": {
              "color": "white"
             }
            },
            "type": "table"
           }
          ]
         },
         "layout": {
          "annotationdefaults": {
           "arrowcolor": "#2a3f5f",
           "arrowhead": 0,
           "arrowwidth": 1
          },
          "autotypenumbers": "strict",
          "coloraxis": {
           "colorbar": {
            "outlinewidth": 0,
            "ticks": ""
           }
          },
          "colorscale": {
           "diverging": [
            [
             0,
             "#8e0152"
            ],
            [
             0.1,
             "#c51b7d"
            ],
            [
             0.2,
             "#de77ae"
            ],
            [
             0.3,
             "#f1b6da"
            ],
            [
             0.4,
             "#fde0ef"
            ],
            [
             0.5,
             "#f7f7f7"
            ],
            [
             0.6,
             "#e6f5d0"
            ],
            [
             0.7,
             "#b8e186"
            ],
            [
             0.8,
             "#7fbc41"
            ],
            [
             0.9,
             "#4d9221"
            ],
            [
             1,
             "#276419"
            ]
           ],
           "sequential": [
            [
             0,
             "#0d0887"
            ],
            [
             0.1111111111111111,
             "#46039f"
            ],
            [
             0.2222222222222222,
             "#7201a8"
            ],
            [
             0.3333333333333333,
             "#9c179e"
            ],
            [
             0.4444444444444444,
             "#bd3786"
            ],
            [
             0.5555555555555556,
             "#d8576b"
            ],
            [
             0.6666666666666666,
             "#ed7953"
            ],
            [
             0.7777777777777778,
             "#fb9f3a"
            ],
            [
             0.8888888888888888,
             "#fdca26"
            ],
            [
             1,
             "#f0f921"
            ]
           ],
           "sequentialminus": [
            [
             0,
             "#0d0887"
            ],
            [
             0.1111111111111111,
             "#46039f"
            ],
            [
             0.2222222222222222,
             "#7201a8"
            ],
            [
             0.3333333333333333,
             "#9c179e"
            ],
            [
             0.4444444444444444,
             "#bd3786"
            ],
            [
             0.5555555555555556,
             "#d8576b"
            ],
            [
             0.6666666666666666,
             "#ed7953"
            ],
            [
             0.7777777777777778,
             "#fb9f3a"
            ],
            [
             0.8888888888888888,
             "#fdca26"
            ],
            [
             1,
             "#f0f921"
            ]
           ]
          },
          "colorway": [
           "#636efa",
           "#EF553B",
           "#00cc96",
           "#ab63fa",
           "#FFA15A",
           "#19d3f3",
           "#FF6692",
           "#B6E880",
           "#FF97FF",
           "#FECB52"
          ],
          "font": {
           "color": "#2a3f5f"
          },
          "geo": {
           "bgcolor": "white",
           "lakecolor": "white",
           "landcolor": "#E5ECF6",
           "showlakes": true,
           "showland": true,
           "subunitcolor": "white"
          },
          "hoverlabel": {
           "align": "left"
          },
          "hovermode": "closest",
          "mapbox": {
           "style": "light"
          },
          "paper_bgcolor": "white",
          "plot_bgcolor": "#E5ECF6",
          "polar": {
           "angularaxis": {
            "gridcolor": "white",
            "linecolor": "white",
            "ticks": ""
           },
           "bgcolor": "#E5ECF6",
           "radialaxis": {
            "gridcolor": "white",
            "linecolor": "white",
            "ticks": ""
           }
          },
          "scene": {
           "xaxis": {
            "backgroundcolor": "#E5ECF6",
            "gridcolor": "white",
            "gridwidth": 2,
            "linecolor": "white",
            "showbackground": true,
            "ticks": "",
            "zerolinecolor": "white"
           },
           "yaxis": {
            "backgroundcolor": "#E5ECF6",
            "gridcolor": "white",
            "gridwidth": 2,
            "linecolor": "white",
            "showbackground": true,
            "ticks": "",
            "zerolinecolor": "white"
           },
           "zaxis": {
            "backgroundcolor": "#E5ECF6",
            "gridcolor": "white",
            "gridwidth": 2,
            "linecolor": "white",
            "showbackground": true,
            "ticks": "",
            "zerolinecolor": "white"
           }
          },
          "shapedefaults": {
           "line": {
            "color": "#2a3f5f"
           }
          },
          "ternary": {
           "aaxis": {
            "gridcolor": "white",
            "linecolor": "white",
            "ticks": ""
           },
           "baxis": {
            "gridcolor": "white",
            "linecolor": "white",
            "ticks": ""
           },
           "bgcolor": "#E5ECF6",
           "caxis": {
            "gridcolor": "white",
            "linecolor": "white",
            "ticks": ""
           }
          },
          "title": {
           "x": 0.05
          },
          "xaxis": {
           "automargin": true,
           "gridcolor": "white",
           "linecolor": "white",
           "ticks": "",
           "title": {
            "standoff": 15
           },
           "zerolinecolor": "white",
           "zerolinewidth": 2
          },
          "yaxis": {
           "automargin": true,
           "gridcolor": "white",
           "linecolor": "white",
           "ticks": "",
           "title": {
            "standoff": 15
           },
           "zerolinecolor": "white",
           "zerolinewidth": 2
          }
         }
        },
        "title": {
         "font": {
          "size": 20
         }
        },
        "width": 1500,
        "xaxis": {
         "anchor": "y",
         "categoryorder": "total ascending",
         "domain": [
          0,
          1
         ],
         "tickangle": -45,
         "title": {
          "standoff": 40,
          "text": "Human-Powered Vehicle"
         }
        },
        "yaxis": {
         "anchor": "x",
         "domain": [
          0,
          1
         ],
         "tickfont": {
          "size": 30
         },
         "title": {
          "standoff": 40,
          "text": "Performance [15L.km.hr⁻¹]"
         }
        }
       }
      }
     },
     "metadata": {},
     "output_type": "display_data"
    }
   ],
   "source": [
    "# Visualization of results using Plotly for interactive plots.\n",
    "# Utilizes custom plotting functions defined in the mobility module to create visual representations of the results.\n",
    "# Different types of plots (like load plots, bar plots, slope plots) are generated based on the results.\n",
    "# These plots help in understanding and interpreting the data and outcomes of the mobility models.\n",
    "mm.plotting_hpv.load_plot_plotly(mr, mo, hpv)  # Generating a load plot.\n",
    "mm.plotting_hpv.bar_plot_loading_distance(mr, mo, hpv, mv)  # Creating a bar plot for loading distance.\n",
    "mm.plotting_hpv.slope_plot_plotly(mr, mo, hpv)  # Producing a slope plot.\n",
    "mm.plotting_hpv.scatter_plot_loading_distance(mr, mo, hpv, mv)  # Creating a bar plot for loading distance.\n",
    "mm.plotting_hpv.new_slope_plot(mr, mo, hpv, mv)  # Producing a slope plot.\n"
   ]
  },
  {
   "cell_type": "markdown",
   "metadata": {},
   "source": [
    "Export results to a CSV file for external use. This cell checks if the export feature is enabled and, if so, formats the relevant data into a DataFrame and saves it as a CSV file for further use."
   ]
  },
  {
   "cell_type": "code",
   "execution_count": 11,
   "metadata": {},
   "outputs": [],
   "source": [
    "# Optional export of tabular results to a CSV file.\n",
    "# If 'export_table' is set to 1, the efficiency data for a particular scenario is formatted into a DataFrame and saved as a CSV.\n",
    "# This feature allows for external analysis or sharing of the results.\n",
    "export_table = 0  # Set to 1 to enable exporting.\n",
    "if export_table == 1:\n",
    "    slope_name = mr.slope_vector_deg.flat[mo.slope_scene]  # Extracting the slope name for the title.\n",
    "    chart_title = f\"Efficiency at {slope_name:.2f} degrees, with model {mr.model_name}\"  # Formatting chart title.\n",
    "    df = mr.create_dataframe_single_scenario(hpv, mv, mo.load_scene, mo.slope_scene)  # Creating DataFrame for export.\n",
    "    df.to_csv(\"efficiency.csv\")  # Exporting the DataFrame to a CSV file.\n"
   ]
  },
  {
   "cell_type": "code",
   "execution_count": 12,
   "metadata": {},
   "outputs": [
    {
     "ename": "IndentationError",
     "evalue": "expected an indented block (3049750528.py, line 10)",
     "output_type": "error",
     "traceback": [
      "\u001b[0;36m  Cell \u001b[0;32mIn[12], line 10\u001b[0;36m\u001b[0m\n\u001b[0;31m    load_v = mr.v_load_matrix3d[\u001b[0m\n\u001b[0m    ^\u001b[0m\n\u001b[0;31mIndentationError\u001b[0m\u001b[0;31m:\u001b[0m expected an indented block\n"
     ]
    }
   ],
   "source": [
    "\n",
    "    # This  cell creates a lookup table for a given Crr.\n",
    "    # The rows are it's slope and then the loaded and unloaded velocity is given for each slope.\n",
    "    # Load is held constant\n",
    "\n",
    "\n",
    "\n",
    "\n",
    "export_lookup_table = 0\n",
    "if export_lookup_table == 1:   \n",
    "    load_v = mr.v_load_matrix3d[\n",
    "        0, :, -1\n",
    "    ]\n",
    "\n",
    "    unload_v = mr.v_unload_matrix3d[\n",
    "        0, :, -1\n",
    "    ]\n",
    "\n",
    "    load_vector= mr.load_matrix3d[\n",
    "        0, :, -1\n",
    "    ]\n",
    "\n",
    "    slope_vector = mr.slope_matrix3d_deg[\n",
    "        0, :, -1\n",
    "    ]\n",
    "\n",
    "    filename_string = f'{mr.hpv_name[0][0][0][0]}_Crr_{hpv.Crr[0][0][0]}'\n",
    "\n",
    "    # create a dataframe with the data\n",
    "    df = pd.DataFrame(\n",
    "        {\n",
    "            \"slope_vector\": slope_vector,\n",
    "            \"load_v\": load_v,\n",
    "            \"unload_v\": unload_v,\n",
    "            \"load_matrix\": load_vector,\n",
    "        }\n",
    "    )\n",
    "    # setindex slope\n",
    "    df.set_index(\"slope_vector\", inplace=True)\n",
    "\n",
    "    # save the dataframe to a csv\n",
    "    df.to_csv(f'../data/{filename_string}.csv')\n",
    "\n"
   ]
  }
 ],
 "metadata": {
  "kernelspec": {
   "display_name": "Python 3.9.13 (conda)",
   "language": "python",
   "name": "python3"
  },
  "language_info": {
   "codemirror_mode": {
    "name": "ipython",
    "version": 3
   },
   "file_extension": ".py",
   "mimetype": "text/x-python",
   "name": "python",
   "nbconvert_exporter": "python",
   "pygments_lexer": "ipython3",
   "version": "3.11.9"
  },
  "orig_nbformat": 4,
  "vscode": {
   "interpreter": {
    "hash": "c09a8b249899dc4589e662892666698668e7a3ca1327801a18c24efb244ad2c6"
   }
  }
 },
 "nbformat": 4,
 "nbformat_minor": 2
}
