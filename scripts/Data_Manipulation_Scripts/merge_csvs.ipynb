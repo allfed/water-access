{
 "cells": [
  {
   "cell_type": "code",
   "execution_count": 8,
   "metadata": {},
   "outputs": [],
   "source": [
    "import pandas as pd\n",
    "import numpy as np"
   ]
  },
  {
   "cell_type": "code",
   "execution_count": 9,
   "metadata": {},
   "outputs": [],
   "source": [
    "df_base = pd.read_csv(\"../data/country_data_master_interpolated.csv\")\n",
    "\n",
    "df_to_merge1 = pd.read_csv(\"../data/weightsOWID.csv\")\n",
    "df_to_merge2 = pd.read_csv(\"../data/fitness_countries.csv\")\n",
    "\n",
    "# isolate just the value required for fitness\n",
    "df_to_merge2[\"percent_insufficient_activity\"] = df_to_merge2[\"% insufficient physical activity (95% CI), both sexes\"].str.split(\"%\", expand=True)[0]\n",
    "df_to_merge2[\"percent_insufficient_activity\"]\n",
    "df_to_merge2[\"percent_insufficient_activity\"] = df_to_merge2[\"percent_insufficient_activity\"].astype(float)\n",
    "df_to_merge2 = df_to_merge2[[\"alpha3\", \"percent_insufficient_activity\"]]\n",
    "\n",
    "\n",
    "# merge the two dataframes, keep all data from the base dataframe\n",
    "# and add the data from the other dataframe\n",
    "df_merged = df_base.merge(df_to_merge1, on=\"alpha3\", how=\"left\")\n",
    "df_merged = df_merged.merge(df_to_merge2, on=\"alpha3\", how=\"left\")\n",
    "\n",
    "df_merged[\"Average Weight\"] = (df_merged[\"women weight\"] +  df_merged[\"men weight\"])/2\n"
   ]
  },
  {
   "cell_type": "code",
   "execution_count": 10,
   "metadata": {},
   "outputs": [],
   "source": [
    "# output the merged dataframe to a csv\n",
    "df_merged.to_csv(\"../data/country_data_master22.csv\", index=False)"
   ]
  }
 ],
 "metadata": {
  "kernelspec": {
   "display_name": "Python 3.9.13 (conda)",
   "language": "python",
   "name": "python3"
  },
  "language_info": {
   "codemirror_mode": {
    "name": "ipython",
    "version": 3
   },
   "file_extension": ".py",
   "mimetype": "text/x-python",
   "name": "python",
   "nbconvert_exporter": "python",
   "pygments_lexer": "ipython3",
   "version": "3.9.13 | packaged by conda-forge | (main, May 27 2022, 17:01:00) \n[Clang 13.0.1 ]"
  },
  "orig_nbformat": 4,
  "vscode": {
   "interpreter": {
    "hash": "c09a8b249899dc4589e662892666698668e7a3ca1327801a18c24efb244ad2c6"
   }
  }
 },
 "nbformat": 4,
 "nbformat_minor": 2
}
